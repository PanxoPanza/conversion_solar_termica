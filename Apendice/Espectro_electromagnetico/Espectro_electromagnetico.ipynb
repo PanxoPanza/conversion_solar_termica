{
 "cells": [
  {
   "cell_type": "code",
   "execution_count": 1,
   "id": "3c597da7",
   "metadata": {
    "slideshow": {
     "slide_type": "skip"
    },
    "tags": [
     "remove-cell"
    ]
   },
   "outputs": [],
   "source": [
    "import importlib.util\n",
    "if importlib.util.find_spec('empylib') is None:\n",
    "    !pip install git+https://github.com/PanxoPanza/empylib.git"
   ]
  },
  {
   "cell_type": "markdown",
   "id": "062b856b",
   "metadata": {
    "slideshow": {
     "slide_type": "slide"
    }
   },
   "source": [
    "## Espectro electromagnético"
   ]
  },
  {
   "cell_type": "markdown",
   "id": "980bbb5f",
   "metadata": {},
   "source": [
    "Podemos clasificar la radiación electromagnética según su longitud de onda (o frecuencia).\n",
    "\n",
    "<img src=\"./images/em_spectrum.png\" width=\"700px\" align= center>"
   ]
  },
  {
   "cell_type": "markdown",
   "id": "45d50d62",
   "metadata": {
    "cell_style": "center",
    "slideshow": {
     "slide_type": "slide"
    }
   },
   "source": [
    "Para este curso, los espectros más importantes son:\n",
    "\n",
    "|Espectro| Longitud de onda |Frecuecia | Energía|\n",
    "|:-:|:-:|:-:|:-:|\n",
    "|UIltravioleta (UV)|1 - 400 nm| 100 - 0.75 PHz|414 - 3.1 eV |\n",
    "|Visible (vis)|400 - 750 nm| 750 - 400 THz|3.1 - 1.65 eV |\n",
    "|Infrarrojo cercano (near-IR)|750 nm - 1.4 $\\mu$m| 400 - 214 THz|3.1 - 1.65 eV |\n",
    "|Infrarrojo de onda corta (SWIR)|1.4 - 3 $\\mu$m| 214 - 100 THz|885 - 414 meV |\n",
    "|Infrarrojo de onda media (MWIR)| 3 - 8 $\\mu$m | 100 - 37 THz|414 - 153 meV |\n",
    "|Infrarrojo de onda larga (LWIR)| 8 - 15 $\\mu$m | 37 -20 THz|153 eV - 82 meV |\n",
    "|Infrarrojo lejano (far-IR)| 15 - 1000 $\\mu$m | 20 -0.3 THz|82 - 1.24 meV |"
   ]
  },
  {
   "cell_type": "markdown",
   "id": "b7fa5239",
   "metadata": {},
   "source": [
    "- 1 eV = $1.602\\times 10^{−19}$ J es un **electron volt**. Representa la energía cinética de un electron bajo un potencial de 1 volt."
   ]
  },
  {
   "cell_type": "markdown",
   "id": "eb2a6f14",
   "metadata": {
    "slideshow": {
     "slide_type": "fragment"
    }
   },
   "source": [
    "El espectro SWIR + MWIR + LWIR se conoce también como **infrarrojo medio (mid-IR)**"
   ]
  },
  {
   "cell_type": "markdown",
   "id": "1a16cad6",
   "metadata": {
    "cell_style": "center",
    "slideshow": {
     "slide_type": "slide"
    }
   },
   "source": [
    "La siguiente tabla es útil para la conversión de unidades:\n",
    "\n",
    "<img src=\"./images/conversion_table.png\" width=\"600px\" align= center>"
   ]
  },
  {
   "cell_type": "markdown",
   "id": "5e25e470",
   "metadata": {
    "cell_style": "center"
   },
   "source": [
    "- $h = 4.136\\times 10^{−15}$ eV/Hz es la **constante de Planck**.\n",
    "- $\\hbar = \\frac{h}{2\\pi} = 6.582\\times10^{−16}$ eV/Hz es la **constante reducida de Planck o constante de Dirac**."
   ]
  },
  {
   "cell_type": "markdown",
   "id": "17c1dc23",
   "metadata": {
    "slideshow": {
     "slide_type": "slide"
    }
   },
   "source": [
    "## Referencias\n",
    "**Hetch E., *Óptica*, 5ta Ed, Pearson, 2017**\n",
    "- 3.6 Espectro electromagnético"
   ]
  }
 ],
 "metadata": {
  "celltoolbar": "Slideshow",
  "kernelspec": {
   "display_name": "Python 3 (ipykernel)",
   "language": "python",
   "name": "python3"
  },
  "language_info": {
   "codemirror_mode": {
    "name": "ipython",
    "version": 3
   },
   "file_extension": ".py",
   "mimetype": "text/x-python",
   "name": "python",
   "nbconvert_exporter": "python",
   "pygments_lexer": "ipython3",
   "version": "3.10.11"
  },
  "latex_envs": {
   "LaTeX_envs_menu_present": true,
   "autoclose": false,
   "autocomplete": false,
   "bibliofile": "biblio.bib",
   "cite_by": "apalike",
   "current_citInitial": 1,
   "eqLabelWithNumbers": true,
   "eqNumInitial": 1,
   "hotkeys": {
    "equation": "Ctrl-E",
    "itemize": "Ctrl-I"
   },
   "labels_anchors": false,
   "latex_user_defs": false,
   "report_style_numbering": false,
   "user_envs_cfg": true
  },
  "toc": {
   "base_numbering": 1,
   "nav_menu": {},
   "number_sections": true,
   "sideBar": true,
   "skip_h1_title": true,
   "title_cell": "Tabla de contenidos",
   "title_sidebar": "Contenidos",
   "toc_cell": false,
   "toc_position": {
    "height": "calc(100% - 180px)",
    "left": "10px",
    "top": "150px",
    "width": "307.2px"
   },
   "toc_section_display": true,
   "toc_window_display": false
  },
  "varInspector": {
   "cols": {
    "lenName": 16,
    "lenType": 16,
    "lenVar": 40
   },
   "kernels_config": {
    "python": {
     "delete_cmd_postfix": "",
     "delete_cmd_prefix": "del ",
     "library": "var_list.py",
     "varRefreshCmd": "print(var_dic_list())"
    },
    "r": {
     "delete_cmd_postfix": ") ",
     "delete_cmd_prefix": "rm(",
     "library": "var_list.r",
     "varRefreshCmd": "cat(var_dic_list()) "
    }
   },
   "types_to_exclude": [
    "module",
    "function",
    "builtin_function_or_method",
    "instance",
    "_Feature"
   ],
   "window_display": false
  }
 },
 "nbformat": 4,
 "nbformat_minor": 5
}
