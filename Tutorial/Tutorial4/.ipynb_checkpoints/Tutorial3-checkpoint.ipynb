{
 "cells": [
  {
   "cell_type": "code",
   "execution_count": 1,
   "id": "3c597da7",
   "metadata": {
    "slideshow": {
     "slide_type": "skip"
    },
    "tags": [
     "remove-cell"
    ]
   },
   "outputs": [],
   "source": [
    "import importlib.util\n",
    "if importlib.util.find_spec('empylib') is None:\n",
    "    !pip install git+https://github.com/PanxoPanza/empylib.git\n",
    "        \n",
    "if importlib.util.find_spec('pvlib') is None:\n",
    "    !pip install pvlib\n",
    "        \n",
    "if importlib.util.find_spec('meteostat') is None:\n",
    "    !pip install meteostat\n",
    "\n",
    "if importlib.util.find_spec('timezonefinder') is None:\n",
    "    !pip install timezonefinder"
   ]
  },
  {
   "cell_type": "markdown",
   "id": "2252d0b2",
   "metadata": {},
   "source": [
    "\n",
    "# Tutorial 3 - Datos solares y climatológicos\n",
    "\n",
    "Este es un tutorial para utilizar las librerías:\n",
    "- `pvlib` para determinar ángulos solares y niveles de irradiación solar.\n",
    "- `meteostat` para determinar condiciones climáticas."
   ]
  },
  {
   "cell_type": "markdown",
   "id": "950a9a31",
   "metadata": {},
   "source": [
    "## Definir localización y tiempo de estudio\n",
    "\n",
    "Antes de cualquier estudio debemos definir la localización y tiempo de estudio."
   ]
  },
  {
   "cell_type": "markdown",
   "id": "77bcb70c",
   "metadata": {},
   "source": [
    "### Latitud, longitud y altitud del sitio\n",
    "Como sugerencia, recomendamos usar [google earth](https://www.google.es/intl/es/earth/index.html). para detetrminar las coordenadas y altitud del sitio. Esta información  se encuentra en la esquina inferior derecha. Otra alternativa es revisar las coordenadas en la dirección web del sitio.\n",
    "\n",
    "Por ejemplo, consideramos las coordenadas del [Edificio A del campus de Peñalolén de la Universidad Adolfo Ibañez](https://earth.google.com/web/search/Universidad+Adolfo+Ib%c3%a1%c3%b1ez+-+Avenida+Diagonal+Las+Torres,+Santiago,+Pe%c3%b1alol%c3%a9n/@-33.48459063,-70.51846296,890.86619233a,397.56893117d,35y,0h,0t,0r/data=CmMaORIzCiUweDk2NjJkMjE5NzFkMWM0NTc6MHhhMmQwYWVmZDlhMDcwZDA2KgpFZGlmaWNpbyBBGAIgASImCiQJJzw65qu9QMARKyzNGmi-QMAZprJq4cKgUcAhENuZjZuhUcA6AwoBMA)."
   ]
  },
  {
   "cell_type": "code",
   "execution_count": 2,
   "id": "903e9743",
   "metadata": {},
   "outputs": [],
   "source": [
    "# Definimos latitud y longitud del lugar\n",
    "lat, lon = -33.48459063,-70.51846296\n",
    "\n",
    "# Altitud (en metros)\n",
    "alt = 890.86619233"
   ]
  },
  {
   "cell_type": "markdown",
   "id": "49f0da18",
   "metadata": {},
   "source": [
    "### Zonas horaria"
   ]
  },
  {
   "cell_type": "markdown",
   "id": "dc0e3a43",
   "metadata": {},
   "source": [
    "Para identificar la zona horaria podemos usar la función `pytz.country_timezones`. \n",
    "\n",
    "> **Nota** La librería `pytz` viene incluída dentro del paquete de instalación de `pvlib` y, por lo tanto, no requiere instalación."
   ]
  },
  {
   "cell_type": "code",
   "execution_count": 3,
   "id": "2126a9dd",
   "metadata": {},
   "outputs": [
    {
     "data": {
      "text/plain": [
       "['America/Santiago', 'America/Punta_Arenas', 'Pacific/Easter']"
      ]
     },
     "execution_count": 3,
     "metadata": {},
     "output_type": "execute_result"
    }
   ],
   "source": [
    "import pytz\n",
    "\n",
    "pytz.country_timezones('CL')"
   ]
  },
  {
   "cell_type": "markdown",
   "id": "db92456c",
   "metadata": {},
   "source": [
    "En Chile, la zona horaria es `America/Santiago` en casi todo el territorio, excepto en Punta Arenas e Isla de Pascua."
   ]
  },
  {
   "cell_type": "code",
   "execution_count": 4,
   "id": "03040989",
   "metadata": {},
   "outputs": [],
   "source": [
    "tz_uai = 'America/Santiago'"
   ]
  },
  {
   "cell_type": "markdown",
   "id": "6ce89c32",
   "metadata": {},
   "source": [
    "> La lista completa de zonas horarias se encuentra disponible en [Wikipedia](https://en.wikipedia.org/wiki/List_of_tz_database_time_zones)"
   ]
  },
  {
   "cell_type": "markdown",
   "id": "1a0cef3d",
   "metadata": {},
   "source": [
    "Otra alternativa es usar la librería `timezonefinder` para identificar zonas horarias basadas en coordenadas de latitud y longitud. "
   ]
  },
  {
   "cell_type": "code",
   "execution_count": 5,
   "id": "98ee33f8",
   "metadata": {},
   "outputs": [
    {
     "name": "stdout",
     "output_type": "stream",
     "text": [
      "La zona horaria en la UAI es: America/Santiago\n"
     ]
    }
   ],
   "source": [
    "from timezonefinder import TimezoneFinder\n",
    "\n",
    "tz_uai = TimezoneFinder().timezone_at(lat=lat, lng=lon)\n",
    "\n",
    "print('La zona horaria en la UAI es:', tz_uai)"
   ]
  },
  {
   "cell_type": "markdown",
   "id": "4c057e93",
   "metadata": {},
   "source": [
    "### Tiempo de estudio\n",
    "Una vez definida la ubicación, debemos definir el intervalo de tiempo para nuestro estudio. Las librerías `pvlib` y `meteostat` utilizan distintos formatos para definir el intervalo de tiempo. Sin embargo, algo común en ambas es la definición de la fecha de comienzo y termino en formato `datetime`.\n",
    "\n",
    "En este tutorial, consideraremos el periodo comprendido entre el 21 y 22 de diciembre del 2022"
   ]
  },
  {
   "cell_type": "code",
   "execution_count": 6,
   "id": "816dd180",
   "metadata": {},
   "outputs": [
    {
     "name": "stdout",
     "output_type": "stream",
     "text": [
      "2022-12-21 00:00:00\n",
      "2022-12-22 00:00:00\n"
     ]
    }
   ],
   "source": [
    "from datetime import datetime\n",
    "\n",
    "start_date = datetime(year = 2022, month = 12, day = 21, hour = 0, minute = 0)\n",
    "end_date   = datetime(year = 2022, month = 12, day = 22, hour = 0, minute = 0)\n",
    "\n",
    "print(start_date)\n",
    "print(end_date)"
   ]
  },
  {
   "cell_type": "markdown",
   "id": "656bcb30",
   "metadata": {},
   "source": [
    "**La frecuencia entre este intervalo será en horas.** Sin embargo, la definición de esto es particular para cada librería."
   ]
  },
  {
   "cell_type": "markdown",
   "id": "44b69991",
   "metadata": {},
   "source": [
    "## Estimación de ángulos solares e irradiación (`pvlib`)"
   ]
  },
  {
   "cell_type": "markdown",
   "id": "f092c055",
   "metadata": {},
   "source": [
    "### Inicializar localización y tiempo de estudio en `pvlib`"
   ]
  },
  {
   "cell_type": "markdown",
   "id": "02e4a8cd",
   "metadata": {},
   "source": [
    "Para inicializar la localización usamos la función `pvlib.location.Location()`. Esta función crea un objeto `Location` que utilizaremos después para determinar los ángulos solares e irradiación solar."
   ]
  },
  {
   "cell_type": "code",
   "execution_count": 7,
   "id": "ad9dd572",
   "metadata": {},
   "outputs": [],
   "source": [
    "from pvlib.location import Location\n",
    "\n",
    "loc_pvlib = Location(latitude  = lat, \n",
    "                     longitude = lon, \n",
    "                     tz        = tz_uai,\n",
    "                     altitude  = alt)"
   ]
  },
  {
   "cell_type": "markdown",
   "id": "6e3912e7",
   "metadata": {},
   "source": [
    "Luego, debemos definir el intervalo de tiempo. Usamos la función `data_range` de pandas para generar un arreglo con las fechas para la zona horaria correspondiente."
   ]
  },
  {
   "cell_type": "code",
   "execution_count": 8,
   "id": "64d00b9b",
   "metadata": {},
   "outputs": [],
   "source": [
    "import pandas as pd\n",
    "\n",
    "time_study = pd.date_range(start = start_date, \n",
    "                           end   = end_date, \n",
    "                           freq  = 'H', \n",
    "                           tz    = tz_uai)"
   ]
  },
  {
   "cell_type": "markdown",
   "id": "c51f8e62",
   "metadata": {},
   "source": [
    "Para verificar, usamos `print` para imprimir cada elemento del arreglo `times`."
   ]
  },
  {
   "cell_type": "code",
   "execution_count": 9,
   "id": "5fbcf72a",
   "metadata": {},
   "outputs": [
    {
     "name": "stdout",
     "output_type": "stream",
     "text": [
      "2022-12-21 00:00:00-03:00\n",
      "2022-12-21 01:00:00-03:00\n",
      "2022-12-21 02:00:00-03:00\n",
      "2022-12-21 03:00:00-03:00\n",
      "2022-12-21 04:00:00-03:00\n",
      "2022-12-21 05:00:00-03:00\n",
      "2022-12-21 06:00:00-03:00\n",
      "2022-12-21 07:00:00-03:00\n",
      "2022-12-21 08:00:00-03:00\n",
      "2022-12-21 09:00:00-03:00\n",
      "2022-12-21 10:00:00-03:00\n",
      "2022-12-21 11:00:00-03:00\n",
      "2022-12-21 12:00:00-03:00\n",
      "2022-12-21 13:00:00-03:00\n",
      "2022-12-21 14:00:00-03:00\n",
      "2022-12-21 15:00:00-03:00\n",
      "2022-12-21 16:00:00-03:00\n",
      "2022-12-21 17:00:00-03:00\n",
      "2022-12-21 18:00:00-03:00\n",
      "2022-12-21 19:00:00-03:00\n",
      "2022-12-21 20:00:00-03:00\n",
      "2022-12-21 21:00:00-03:00\n",
      "2022-12-21 22:00:00-03:00\n",
      "2022-12-21 23:00:00-03:00\n",
      "2022-12-22 00:00:00-03:00\n"
     ]
    }
   ],
   "source": [
    "for i in range(len(time_study)):\n",
    "    print(time_study[i])"
   ]
  },
  {
   "cell_type": "markdown",
   "id": "c0cc5df3",
   "metadata": {},
   "source": [
    "### Estimar ángulos solares (`get_solarposition`)"
   ]
  },
  {
   "cell_type": "markdown",
   "id": "1b511a3e",
   "metadata": {},
   "source": [
    "Para acceder a los ángulos solares usamos la función `get_solarposition` del objeto `loc_pvlib`. Esta función crea un *dataframe* con los ángulos solares"
   ]
  },
  {
   "cell_type": "code",
   "execution_count": 10,
   "id": "7b3a5bd6",
   "metadata": {},
   "outputs": [
    {
     "data": {
      "text/html": [
       "<div>\n",
       "<style scoped>\n",
       "    .dataframe tbody tr th:only-of-type {\n",
       "        vertical-align: middle;\n",
       "    }\n",
       "\n",
       "    .dataframe tbody tr th {\n",
       "        vertical-align: top;\n",
       "    }\n",
       "\n",
       "    .dataframe thead th {\n",
       "        text-align: right;\n",
       "    }\n",
       "</style>\n",
       "<table border=\"1\" class=\"dataframe\">\n",
       "  <thead>\n",
       "    <tr style=\"text-align: right;\">\n",
       "      <th></th>\n",
       "      <th>apparent_zenith</th>\n",
       "      <th>zenith</th>\n",
       "      <th>apparent_elevation</th>\n",
       "      <th>elevation</th>\n",
       "      <th>azimuth</th>\n",
       "      <th>equation_of_time</th>\n",
       "    </tr>\n",
       "  </thead>\n",
       "  <tbody>\n",
       "    <tr>\n",
       "      <th>2022-12-21 00:00:00-03:00</th>\n",
       "      <td>118.311151</td>\n",
       "      <td>118.311151</td>\n",
       "      <td>-28.311151</td>\n",
       "      <td>-28.311151</td>\n",
       "      <td>206.109265</td>\n",
       "      <td>2.160758</td>\n",
       "    </tr>\n",
       "    <tr>\n",
       "      <th>2022-12-21 01:00:00-03:00</th>\n",
       "      <td>122.292552</td>\n",
       "      <td>122.292552</td>\n",
       "      <td>-32.292552</td>\n",
       "      <td>-32.292552</td>\n",
       "      <td>190.846390</td>\n",
       "      <td>2.140015</td>\n",
       "    </tr>\n",
       "    <tr>\n",
       "      <th>2022-12-21 02:00:00-03:00</th>\n",
       "      <td>122.881517</td>\n",
       "      <td>122.881517</td>\n",
       "      <td>-32.881517</td>\n",
       "      <td>-32.881517</td>\n",
       "      <td>174.524611</td>\n",
       "      <td>2.119271</td>\n",
       "    </tr>\n",
       "    <tr>\n",
       "      <th>2022-12-21 03:00:00-03:00</th>\n",
       "      <td>119.977057</td>\n",
       "      <td>119.977057</td>\n",
       "      <td>-29.977057</td>\n",
       "      <td>-29.977057</td>\n",
       "      <td>158.755359</td>\n",
       "      <td>2.098524</td>\n",
       "    </tr>\n",
       "    <tr>\n",
       "      <th>2022-12-21 04:00:00-03:00</th>\n",
       "      <td>114.043882</td>\n",
       "      <td>114.043882</td>\n",
       "      <td>-24.043882</td>\n",
       "      <td>-24.043882</td>\n",
       "      <td>144.812916</td>\n",
       "      <td>2.077775</td>\n",
       "    </tr>\n",
       "  </tbody>\n",
       "</table>\n",
       "</div>"
      ],
      "text/plain": [
       "                           apparent_zenith      zenith  apparent_elevation  \\\n",
       "2022-12-21 00:00:00-03:00       118.311151  118.311151          -28.311151   \n",
       "2022-12-21 01:00:00-03:00       122.292552  122.292552          -32.292552   \n",
       "2022-12-21 02:00:00-03:00       122.881517  122.881517          -32.881517   \n",
       "2022-12-21 03:00:00-03:00       119.977057  119.977057          -29.977057   \n",
       "2022-12-21 04:00:00-03:00       114.043882  114.043882          -24.043882   \n",
       "\n",
       "                           elevation     azimuth  equation_of_time  \n",
       "2022-12-21 00:00:00-03:00 -28.311151  206.109265          2.160758  \n",
       "2022-12-21 01:00:00-03:00 -32.292552  190.846390          2.140015  \n",
       "2022-12-21 02:00:00-03:00 -32.881517  174.524611          2.119271  \n",
       "2022-12-21 03:00:00-03:00 -29.977057  158.755359          2.098524  \n",
       "2022-12-21 04:00:00-03:00 -24.043882  144.812916          2.077775  "
      ]
     },
     "execution_count": 10,
     "metadata": {},
     "output_type": "execute_result"
    }
   ],
   "source": [
    "sol_pos = loc_pvlib.get_solarposition(times = time_study)\n",
    "sol_pos.head()\n"
   ]
  },
  {
   "cell_type": "markdown",
   "id": "25199d86",
   "metadata": {},
   "source": [
    "En este curso, solo usaremos:\n",
    "- `'apperent_zenith'`: ángulo cenital solar aparente (con corrección por el índice de refracción)\n",
    "- `'apperent_elevation'`: ángulo de elevación solar aparente (con corrección por el índice de refracción)\n",
    "- `'azimuth'`: ángulo acimutal solar"
   ]
  },
  {
   "cell_type": "code",
   "execution_count": 11,
   "id": "22523596",
   "metadata": {},
   "outputs": [
    {
     "data": {
      "image/png": "[encoded data removed]",
      "text/plain": [
       "<Figure size 640x480 with 1 Axes>"
      ]
     },
     "metadata": {},
     "output_type": "display_data"
    }
   ],
   "source": [
    "import matplotlib.pyplot as plt\n",
    "import matplotlib.dates as mdates\n",
    "\n",
    "fig, ax = plt.subplots()\n",
    "ax.plot(time_study, sol_pos['apparent_zenith'],'o:r', label=r'Zenith ($\\theta_s$)')\n",
    "ax.plot(time_study, sol_pos['azimuth'],'o:b', label=r'Azimuth ($\\phi_s$)')\n",
    "\n",
    "ax.set_xlabel('tiempo (horas)')\n",
    "ax.xaxis.set_major_formatter(mdates.DateFormatter('%H:%M', tz = tz_uai))\n",
    "ax.set_ylabel('Ángulo (grados)')\n",
    "plt.legend()\n",
    "plt.show()"
   ]
  },
  {
   "cell_type": "markdown",
   "id": "c9ae9118",
   "metadata": {},
   "source": [
    "### Estimar irradiación solar (`get_clearsky`)\n",
    "\n",
    "Para acceder a la irradiación solar usamos la función `get_clearsky` del objeto `loc_pvlib`. Esta función crea un *dataframe* con los niveles de irradiación horizontal global (`ghi`), normal directa (`dni`) y horizontal difusa (`dhi`), calculados en base al modelo de [Ineichen y Perez (2022)](https://www.sciencedirect.com/science/article/abs/pii/S0038092X02000452).`"
   ]
  },
  {
   "cell_type": "code",
   "execution_count": 12,
   "id": "804dc665",
   "metadata": {},
   "outputs": [
    {
     "data": {
      "text/html": [
       "<div>\n",
       "<style scoped>\n",
       "    .dataframe tbody tr th:only-of-type {\n",
       "        vertical-align: middle;\n",
       "    }\n",
       "\n",
       "    .dataframe tbody tr th {\n",
       "        vertical-align: top;\n",
       "    }\n",
       "\n",
       "    .dataframe thead th {\n",
       "        text-align: right;\n",
       "    }\n",
       "</style>\n",
       "<table border=\"1\" class=\"dataframe\">\n",
       "  <thead>\n",
       "    <tr style=\"text-align: right;\">\n",
       "      <th></th>\n",
       "      <th>ghi</th>\n",
       "      <th>dni</th>\n",
       "      <th>dhi</th>\n",
       "    </tr>\n",
       "  </thead>\n",
       "  <tbody>\n",
       "    <tr>\n",
       "      <th>2022-12-21 00:00:00-03:00</th>\n",
       "      <td>0.0</td>\n",
       "      <td>0.0</td>\n",
       "      <td>0.0</td>\n",
       "    </tr>\n",
       "    <tr>\n",
       "      <th>2022-12-21 01:00:00-03:00</th>\n",
       "      <td>0.0</td>\n",
       "      <td>0.0</td>\n",
       "      <td>0.0</td>\n",
       "    </tr>\n",
       "    <tr>\n",
       "      <th>2022-12-21 02:00:00-03:00</th>\n",
       "      <td>0.0</td>\n",
       "      <td>0.0</td>\n",
       "      <td>0.0</td>\n",
       "    </tr>\n",
       "    <tr>\n",
       "      <th>2022-12-21 03:00:00-03:00</th>\n",
       "      <td>0.0</td>\n",
       "      <td>0.0</td>\n",
       "      <td>0.0</td>\n",
       "    </tr>\n",
       "    <tr>\n",
       "      <th>2022-12-21 04:00:00-03:00</th>\n",
       "      <td>0.0</td>\n",
       "      <td>0.0</td>\n",
       "      <td>0.0</td>\n",
       "    </tr>\n",
       "  </tbody>\n",
       "</table>\n",
       "</div>"
      ],
      "text/plain": [
       "                           ghi  dni  dhi\n",
       "2022-12-21 00:00:00-03:00  0.0  0.0  0.0\n",
       "2022-12-21 01:00:00-03:00  0.0  0.0  0.0\n",
       "2022-12-21 02:00:00-03:00  0.0  0.0  0.0\n",
       "2022-12-21 03:00:00-03:00  0.0  0.0  0.0\n",
       "2022-12-21 04:00:00-03:00  0.0  0.0  0.0"
      ]
     },
     "execution_count": 12,
     "metadata": {},
     "output_type": "execute_result"
    }
   ],
   "source": [
    "sol_irr = loc_pvlib.get_clearsky(times = time_study)\n",
    "sol_irr.head()"
   ]
  },
  {
   "cell_type": "code",
   "execution_count": 13,
   "id": "b1533945",
   "metadata": {},
   "outputs": [
    {
     "data": {
      "image/png": "[encoded data removed]",
      "text/plain": [
       "<Figure size 640x480 with 1 Axes>"
      ]
     },
     "metadata": {},
     "output_type": "display_data"
    }
   ],
   "source": [
    "fig, ax = plt.subplots()\n",
    "ax.plot(time_study, sol_irr['ghi'],'o:r', label=r'GHI')\n",
    "ax.plot(time_study, sol_irr['dni'],'o:b', label=r'DNI')\n",
    "ax.plot(time_study, sol_irr['dhi'],'o:g', label=r'DHI')\n",
    "\n",
    "ax.set_xlabel('tiempo (horas)')\n",
    "ax.xaxis.set_major_formatter(mdates.DateFormatter('%H:%M', tz = tz_uai))\n",
    "ax.set_ylabel('Irradiación solar ($\\mathrm{W/m^2}$)')\n",
    "plt.legend()\n",
    "plt.show()"
   ]
  },
  {
   "cell_type": "markdown",
   "id": "54dafb71",
   "metadata": {},
   "source": [
    "## Estimación de condiciones ambientales (`meteostat`)"
   ]
  },
  {
   "cell_type": "markdown",
   "id": "de264785",
   "metadata": {},
   "source": [
    "### Inicializar localización y tiempo de estudio en `meteostat`\n",
    "\n",
    "Lo primero que debemos hacer es inicializar la localización usando la función `meteostat.Point()`. Esta función crea un objeto que generará la información meteorologica a través de la interpolación de datos de estaciones meterológicas cercanas. "
   ]
  },
  {
   "cell_type": "code",
   "execution_count": 14,
   "id": "32bd37ab",
   "metadata": {},
   "outputs": [],
   "source": [
    "import meteostat\n",
    "\n",
    "loc_meteo = meteostat.Point(lat=lat, \n",
    "                            lon=lon, \n",
    "                            alt= alt)"
   ]
  },
  {
   "cell_type": "markdown",
   "id": "adbc2c05",
   "metadata": {},
   "source": [
    "Luego, para extraer los datos horarios, utilizamos la función `meteostat.Hourly` indicando la ubicación del objeto `Point`, el inicio (`start`), el término (`end`) y la zona horaria (`timezone`) del periodo donde queremos extraer los datos.\n",
    "\n",
    "> La función entregará un objeto, el cual podemos convertir a un *dataframe* usando `.fetch()`"
   ]
  },
  {
   "cell_type": "code",
   "execution_count": 15,
   "id": "190e6d36",
   "metadata": {},
   "outputs": [],
   "source": [
    "from meteostat import Hourly\n",
    "\n",
    "# Creamos un objeto con las condiciones climáticas\n",
    "meteo_data = Hourly(loc      = loc_meteo,   # localización\n",
    "                    start    = start_date,  # inicio\n",
    "                    end      = end_date,    # término\n",
    "                    timezone = tz_uai)      # zona horaria\n",
    "\n",
    "# convertimos a dataframe\n",
    "meteo_data = meteo_data.fetch() "
   ]
  },
  {
   "cell_type": "markdown",
   "id": "0f7cc196",
   "metadata": {},
   "source": [
    "De este *dataframe* identificamos:\n",
    "- `temp`: Temperatura ambiente (°C)\n",
    "- `dwpt`: Temperatura de punto de rocío (°C)\n",
    "- `rhum`: Humedad relativa (%)\n",
    "- `prcp`: Precipitación total en una hora (mm)\n",
    "- `snow`: Nieve acumulada (mm)\n",
    "- `wdir`: Dirección del viento (°)\n",
    "- `wspd`: Velocidad promedio del viento (km/h)\n",
    "- `pres`: Presión atmosférica (hPa)"
   ]
  },
  {
   "cell_type": "code",
   "execution_count": 16,
   "id": "48754065",
   "metadata": {},
   "outputs": [
    {
     "data": {
      "image/png": "[encoded data removed]",
      "text/plain": [
       "<Figure size 640x480 with 1 Axes>"
      ]
     },
     "metadata": {},
     "output_type": "display_data"
    }
   ],
   "source": [
    "fig, ax = plt.subplots()\n",
    "ax.plot(time_study, meteo_data['temp'],'o:r')\n",
    "\n",
    "ax.set_xlabel('tiempo (horas)')\n",
    "ax.xaxis.set_major_formatter(mdates.DateFormatter('%H:%M', tz = tz_uai))\n",
    "ax.set_ylabel('Temperatura (°C)')\n",
    "ax.set_title('Temperatura ambiente (lat, lon = %.1f°, %.1f°)' % (lat, lon))\n",
    "plt.show()"
   ]
  },
  {
   "cell_type": "markdown",
   "id": "584005ef",
   "metadata": {},
   "source": [
    "## Análisis de paneles fotovoltaicos (`pvlib`)"
   ]
  },
  {
   "cell_type": "code",
   "execution_count": 17,
   "id": "70edbcd0",
   "metadata": {},
   "outputs": [],
   "source": [
    "import pvlib\n",
    "\n",
    "module_db = pvlib.pvsystem.retrieve_sam(name = 'CECMod')"
   ]
  },
  {
   "cell_type": "code",
   "execution_count": 20,
   "id": "14f0f6b1",
   "metadata": {},
   "outputs": [
    {
     "data": {
      "text/html": [
       "<div>\n",
       "<style scoped>\n",
       "    .dataframe tbody tr th:only-of-type {\n",
       "        vertical-align: middle;\n",
       "    }\n",
       "\n",
       "    .dataframe tbody tr th {\n",
       "        vertical-align: top;\n",
       "    }\n",
       "\n",
       "    .dataframe thead th {\n",
       "        text-align: right;\n",
       "    }\n",
       "</style>\n",
       "<table border=\"1\" class=\"dataframe\">\n",
       "  <thead>\n",
       "    <tr style=\"text-align: right;\">\n",
       "      <th></th>\n",
       "      <th>Technology</th>\n",
       "      <th>Bifacial</th>\n",
       "      <th>STC</th>\n",
       "      <th>PTC</th>\n",
       "      <th>A_c</th>\n",
       "      <th>Length</th>\n",
       "      <th>Width</th>\n",
       "      <th>N_s</th>\n",
       "      <th>I_sc_ref</th>\n",
       "      <th>V_oc_ref</th>\n",
       "      <th>...</th>\n",
       "      <th>a_ref</th>\n",
       "      <th>I_L_ref</th>\n",
       "      <th>I_o_ref</th>\n",
       "      <th>R_s</th>\n",
       "      <th>R_sh_ref</th>\n",
       "      <th>Adjust</th>\n",
       "      <th>gamma_r</th>\n",
       "      <th>BIPV</th>\n",
       "      <th>Version</th>\n",
       "      <th>Date</th>\n",
       "    </tr>\n",
       "  </thead>\n",
       "  <tbody>\n",
       "    <tr>\n",
       "      <th>Sharp_NT_170U1</th>\n",
       "      <td>Mono-c-Si</td>\n",
       "      <td>0</td>\n",
       "      <td>170.52</td>\n",
       "      <td>147.3</td>\n",
       "      <td>1.301</td>\n",
       "      <td>1.575</td>\n",
       "      <td>0.826</td>\n",
       "      <td>72</td>\n",
       "      <td>5.47</td>\n",
       "      <td>43.2</td>\n",
       "      <td>...</td>\n",
       "      <td>1.827405</td>\n",
       "      <td>5.499535</td>\n",
       "      <td>0.0</td>\n",
       "      <td>0.610619</td>\n",
       "      <td>113.087662</td>\n",
       "      <td>9.568303</td>\n",
       "      <td>-0.467</td>\n",
       "      <td>N</td>\n",
       "      <td>SAM 2018.11.11 r2</td>\n",
       "      <td>1/3/2019</td>\n",
       "    </tr>\n",
       "    <tr>\n",
       "      <th>Sharp_NT_170UC1</th>\n",
       "      <td>Mono-c-Si</td>\n",
       "      <td>0</td>\n",
       "      <td>170.52</td>\n",
       "      <td>147.3</td>\n",
       "      <td>1.301</td>\n",
       "      <td>1.575</td>\n",
       "      <td>0.826</td>\n",
       "      <td>72</td>\n",
       "      <td>5.47</td>\n",
       "      <td>43.2</td>\n",
       "      <td>...</td>\n",
       "      <td>1.827405</td>\n",
       "      <td>5.499535</td>\n",
       "      <td>0.0</td>\n",
       "      <td>0.610619</td>\n",
       "      <td>113.087662</td>\n",
       "      <td>9.568303</td>\n",
       "      <td>-0.467</td>\n",
       "      <td>N</td>\n",
       "      <td>SAM 2018.11.11 r2</td>\n",
       "      <td>1/3/2019</td>\n",
       "    </tr>\n",
       "    <tr>\n",
       "      <th>Sharp_NT_175U1</th>\n",
       "      <td>Mono-c-Si</td>\n",
       "      <td>0</td>\n",
       "      <td>175.23</td>\n",
       "      <td>151.8</td>\n",
       "      <td>1.301</td>\n",
       "      <td>1.575</td>\n",
       "      <td>0.826</td>\n",
       "      <td>72</td>\n",
       "      <td>5.4</td>\n",
       "      <td>44.4</td>\n",
       "      <td>...</td>\n",
       "      <td>1.839754</td>\n",
       "      <td>5.419368</td>\n",
       "      <td>0.0</td>\n",
       "      <td>0.728766</td>\n",
       "      <td>203.184875</td>\n",
       "      <td>5.469448</td>\n",
       "      <td>-0.467</td>\n",
       "      <td>N</td>\n",
       "      <td>SAM 2018.11.11 r2</td>\n",
       "      <td>1/3/2019</td>\n",
       "    </tr>\n",
       "    <tr>\n",
       "      <th>Sharp_NT_175UC1</th>\n",
       "      <td>Mono-c-Si</td>\n",
       "      <td>0</td>\n",
       "      <td>175.23</td>\n",
       "      <td>151.8</td>\n",
       "      <td>1.301</td>\n",
       "      <td>1.575</td>\n",
       "      <td>0.826</td>\n",
       "      <td>72</td>\n",
       "      <td>5.4</td>\n",
       "      <td>44.4</td>\n",
       "      <td>...</td>\n",
       "      <td>1.839754</td>\n",
       "      <td>5.419368</td>\n",
       "      <td>0.0</td>\n",
       "      <td>0.728766</td>\n",
       "      <td>203.184875</td>\n",
       "      <td>5.469448</td>\n",
       "      <td>-0.467</td>\n",
       "      <td>N</td>\n",
       "      <td>SAM 2018.11.11 r2</td>\n",
       "      <td>1/3/2019</td>\n",
       "    </tr>\n",
       "    <tr>\n",
       "      <th>Sharp_NT_180U1</th>\n",
       "      <td>Mono-c-Si</td>\n",
       "      <td>0</td>\n",
       "      <td>180.0172</td>\n",
       "      <td>156.3</td>\n",
       "      <td>1.301</td>\n",
       "      <td>1.575</td>\n",
       "      <td>0.826</td>\n",
       "      <td>72</td>\n",
       "      <td>5.6</td>\n",
       "      <td>44.8</td>\n",
       "      <td>...</td>\n",
       "      <td>1.886736</td>\n",
       "      <td>5.632372</td>\n",
       "      <td>0.0</td>\n",
       "      <td>0.673145</td>\n",
       "      <td>116.445503</td>\n",
       "      <td>8.659038</td>\n",
       "      <td>-0.467</td>\n",
       "      <td>N</td>\n",
       "      <td>SAM 2018.11.11 r2</td>\n",
       "      <td>1/3/2019</td>\n",
       "    </tr>\n",
       "  </tbody>\n",
       "</table>\n",
       "<p>5 rows × 25 columns</p>\n",
       "</div>"
      ],
      "text/plain": [
       "                Technology Bifacial       STC    PTC    A_c Length  Width N_s  \\\n",
       "Sharp_NT_170U1   Mono-c-Si        0    170.52  147.3  1.301  1.575  0.826  72   \n",
       "Sharp_NT_170UC1  Mono-c-Si        0    170.52  147.3  1.301  1.575  0.826  72   \n",
       "Sharp_NT_175U1   Mono-c-Si        0    175.23  151.8  1.301  1.575  0.826  72   \n",
       "Sharp_NT_175UC1  Mono-c-Si        0    175.23  151.8  1.301  1.575  0.826  72   \n",
       "Sharp_NT_180U1   Mono-c-Si        0  180.0172  156.3  1.301  1.575  0.826  72   \n",
       "\n",
       "                I_sc_ref V_oc_ref  ...     a_ref   I_L_ref I_o_ref       R_s  \\\n",
       "Sharp_NT_170U1      5.47     43.2  ...  1.827405  5.499535     0.0  0.610619   \n",
       "Sharp_NT_170UC1     5.47     43.2  ...  1.827405  5.499535     0.0  0.610619   \n",
       "Sharp_NT_175U1       5.4     44.4  ...  1.839754  5.419368     0.0  0.728766   \n",
       "Sharp_NT_175UC1      5.4     44.4  ...  1.839754  5.419368     0.0  0.728766   \n",
       "Sharp_NT_180U1       5.6     44.8  ...  1.886736  5.632372     0.0  0.673145   \n",
       "\n",
       "                   R_sh_ref    Adjust gamma_r BIPV            Version  \\\n",
       "Sharp_NT_170U1   113.087662  9.568303  -0.467    N  SAM 2018.11.11 r2   \n",
       "Sharp_NT_170UC1  113.087662  9.568303  -0.467    N  SAM 2018.11.11 r2   \n",
       "Sharp_NT_175U1   203.184875  5.469448  -0.467    N  SAM 2018.11.11 r2   \n",
       "Sharp_NT_175UC1  203.184875  5.469448  -0.467    N  SAM 2018.11.11 r2   \n",
       "Sharp_NT_180U1   116.445503  8.659038  -0.467    N  SAM 2018.11.11 r2   \n",
       "\n",
       "                     Date  \n",
       "Sharp_NT_170U1   1/3/2019  \n",
       "Sharp_NT_170UC1  1/3/2019  \n",
       "Sharp_NT_175U1   1/3/2019  \n",
       "Sharp_NT_175UC1  1/3/2019  \n",
       "Sharp_NT_180U1   1/3/2019  \n",
       "\n",
       "[5 rows x 25 columns]"
      ]
     },
     "execution_count": 20,
     "metadata": {},
     "output_type": "execute_result"
    }
   ],
   "source": [
    "module_index = module_db.T.index.str.startswith('Sharp_NT')\n",
    "module_db.T[module_index]"
   ]
  },
  {
   "cell_type": "code",
   "execution_count": null,
   "id": "65b0c0df",
   "metadata": {},
   "outputs": [],
   "source": []
  },
  {
   "cell_type": "code",
   "execution_count": 19,
   "id": "086b7828",
   "metadata": {},
   "outputs": [
    {
     "ename": "SyntaxError",
     "evalue": "invalid syntax (1574166863.py, line 1)",
     "output_type": "error",
     "traceback": [
      "\u001b[0;36m  Cell \u001b[0;32mIn[19], line 1\u001b[0;36m\u001b[0m\n\u001b[0;31m    pv_module.\u001b[0m\n\u001b[0m              ^\u001b[0m\n\u001b[0;31mSyntaxError\u001b[0m\u001b[0;31m:\u001b[0m invalid syntax\n"
     ]
    }
   ],
   "source": [
    "pv_module."
   ]
  },
  {
   "cell_type": "code",
   "execution_count": null,
   "id": "f8ded447",
   "metadata": {},
   "outputs": [],
   "source": [
    "from pvlib import pvsystem\n",
    "import numpy as np\n",
    "import pandas as pd\n",
    "import matplotlib.pyplot as plt\n",
    "\n",
    "# Example module parameters for the Canadian Solar CS5P-220M:\n",
    "parameters = {\n",
    "    'Name': 'Canadian Solar CS5P-220M',\n",
    "    'BIPV': 'N',\n",
    "    'Date': '10/5/2009',\n",
    "    'T_NOCT': 42.4,\n",
    "    'A_c': 1.7,\n",
    "    'N_s': 96,\n",
    "    'I_sc_ref': 5.1,\n",
    "    'V_oc_ref': 59.4,\n",
    "    'I_mp_ref': 4.69,\n",
    "    'V_mp_ref': 46.9,\n",
    "    'alpha_sc': 0.004539,\n",
    "    'beta_oc': -0.22216,\n",
    "    'a_ref': 2.6373,\n",
    "    'I_L_ref': 5.114,\n",
    "    'I_o_ref': 8.196e-10,\n",
    "    'R_s': 1.065,\n",
    "    'R_sh_ref': 381.68,\n",
    "    'Adjust': 8.7,\n",
    "    'gamma_r': -0.476,\n",
    "    'Version': 'MM106',\n",
    "    'PTC': 200.1,\n",
    "    'Technology': 'Mono-c-Si',\n",
    "}\n",
    "\n",
    "cases = [\n",
    "    (1000, 55),\n",
    "    (800, 55),\n",
    "    (600, 55),\n",
    "    (400, 25),\n",
    "    (400, 40),\n",
    "    (400, 55)\n",
    "]\n",
    "\n",
    "conditions = pd.DataFrame(cases, columns=['Geff', 'Tcell'])\n",
    "\n",
    "# adjust the reference parameters according to the operating\n",
    "# conditions using the De Soto model:\n",
    "IL, I0, Rs, Rsh, nNsVth = pvsystem.calcparams_desoto(\n",
    "    conditions['Geff'],\n",
    "    conditions['Tcell'],\n",
    "    alpha_sc=parameters['alpha_sc'],\n",
    "    a_ref=parameters['a_ref'],\n",
    "    I_L_ref=parameters['I_L_ref'],\n",
    "    I_o_ref=parameters['I_o_ref'],\n",
    "    R_sh_ref=parameters['R_sh_ref'],\n",
    "    R_s=parameters['R_s'],\n",
    "    EgRef=1.121,\n",
    "    dEgdT=-0.0002677\n",
    ")\n",
    "\n",
    "# plug the parameters into the SDE and solve for IV curves:\n",
    "SDE_params = {\n",
    "    'photocurrent': IL,\n",
    "    'saturation_current': I0,\n",
    "    'resistance_series': Rs,\n",
    "    'resistance_shunt': Rsh,\n",
    "    'nNsVth': nNsVth\n",
    "}\n",
    "curve_info = pvsystem.singlediode(method='lambertw', **SDE_params)\n",
    "v = pd.DataFrame(np.linspace(0., curve_info['v_oc'], 100))\n",
    "i = pd.DataFrame(pvsystem.i_from_v(voltage=v, method='lambertw', **SDE_params))\n",
    "\n",
    "# plot the calculated curves:\n",
    "plt.figure()\n",
    "for idx, case in conditions.iterrows():\n",
    "    label = (\n",
    "        \"$G_{eff}$ \" + f\"{case['Geff']} $W/m^2$\\n\"\n",
    "        \"$T_{cell}$ \" + f\"{case['Tcell']} $\\\\degree C$\"\n",
    "    )\n",
    "    plt.plot(v[idx], i[idx], label=label)\n",
    "    v_mp = curve_info['v_mp'][idx]\n",
    "    i_mp = curve_info['i_mp'][idx]\n",
    "    # mark the MPP\n",
    "    plt.plot([v_mp], [i_mp], ls='', marker='o', c='k')\n",
    "\n",
    "plt.legend(loc=(1.0, 0))\n",
    "plt.xlabel('Module voltage [V]')\n",
    "plt.ylabel('Module current [A]')\n",
    "plt.title(parameters['Name'])\n",
    "plt.show()\n",
    "plt.gcf().set_tight_layout(True)\n",
    "\n",
    "\n",
    "# draw trend arrows\n",
    "def draw_arrow(ax, label, x0, y0, rotation, size, direction):\n",
    "    style = direction + 'arrow'\n",
    "    bbox_props = dict(boxstyle=style, fc=(0.8, 0.9, 0.9), ec=\"b\", lw=1)\n",
    "    t = ax.text(x0, y0, label, ha=\"left\", va=\"bottom\", rotation=rotation,\n",
    "                size=size, bbox=bbox_props, zorder=-1)\n",
    "\n",
    "    bb = t.get_bbox_patch()\n",
    "    bb.set_boxstyle(style, pad=0.6)\n",
    "\n",
    "\n",
    "ax = plt.gca()\n",
    "draw_arrow(ax, 'Irradiance', 20, 2.5, 90, 15, 'r')\n",
    "draw_arrow(ax, 'Temperature', 35, 1, 0, 15, 'l')\n",
    "\n",
    "print(pd.DataFrame({\n",
    "    'i_sc': curve_info['i_sc'],\n",
    "    'v_oc': curve_info['v_oc'],\n",
    "    'i_mp': curve_info['i_mp'],\n",
    "    'v_mp': curve_info['v_mp'],\n",
    "    'p_mp': curve_info['p_mp'],\n",
    "}))"
   ]
  }
 ],
 "metadata": {
  "kernelspec": {
   "display_name": "Python 3 (ipykernel)",
   "language": "python",
   "name": "python3"
  },
  "language_info": {
   "codemirror_mode": {
    "name": "ipython",
    "version": 3
   },
   "file_extension": ".py",
   "mimetype": "text/x-python",
   "name": "python",
   "nbconvert_exporter": "python",
   "pygments_lexer": "ipython3",
   "version": "3.9.12"
  },
  "latex_envs": {
   "LaTeX_envs_menu_present": false,
   "autoclose": false,
   "autocomplete": false,
   "bibliofile": "biblio.bib",
   "cite_by": "apalike",
   "current_citInitial": 1,
   "eqLabelWithNumbers": true,
   "eqNumInitial": 1,
   "hotkeys": {
    "equation": "Ctrl-E",
    "itemize": "Ctrl-I"
   },
   "labels_anchors": false,
   "latex_user_defs": false,
   "report_style_numbering": false,
   "user_envs_cfg": false
  },
  "toc": {
   "base_numbering": 1,
   "nav_menu": {},
   "number_sections": false,
   "sideBar": true,
   "skip_h1_title": true,
   "title_cell": "Contenidos",
   "title_sidebar": "Contenidos",
   "toc_cell": false,
   "toc_position": {
    "height": "calc(100% - 180px)",
    "left": "10px",
    "top": "150px",
    "width": "303.837px"
   },
   "toc_section_display": true,
   "toc_window_display": false
  },
  "varInspector": {
   "cols": {
    "lenName": 16,
    "lenType": 16,
    "lenVar": 40
   },
   "kernels_config": {
    "python": {
     "delete_cmd_postfix": "",
     "delete_cmd_prefix": "del ",
     "library": "var_list.py",
     "varRefreshCmd": "print(var_dic_list())"
    },
    "r": {
     "delete_cmd_postfix": ") ",
     "delete_cmd_prefix": "rm(",
     "library": "var_list.r",
     "varRefreshCmd": "cat(var_dic_list()) "
    }
   },
   "types_to_exclude": [
    "module",
    "function",
    "builtin_function_or_method",
    "instance",
    "_Feature"
   ],
   "window_display": false
  }
 },
 "nbformat": 4,
 "nbformat_minor": 5
}
