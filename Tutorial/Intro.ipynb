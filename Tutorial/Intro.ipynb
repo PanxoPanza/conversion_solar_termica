{
 "cells": [
  {
   "cell_type": "markdown",
   "id": "9ef98b7d",
   "metadata": {},
   "source": [
    "# Tutoriales `empylib`"
   ]
  },
  {
   "cell_type": "markdown",
   "id": "6da7c20b",
   "metadata": {},
   "source": [
    "En esta sección veremos algunos tutoriales para el uso de la librería `empylib`\n",
    "\n",
    "* [**Tutorial 1**](./Tutorial1/Tutorial1.ipynb)\n",
    "* [**Tutorial 2**](./Tutorial2/Tutorial2.ipynb)"
   ]
  },
  {
   "cell_type": "markdown",
   "id": "700eee8f",
   "metadata": {},
   "source": [
    "## Instrucciones de instalación\n",
    "Antes de ejecutar los tutoriales, instalar las siguientes librerías:\n",
    "\n",
    "- ```empylib```: paquete principal del curso. Esta disponible desde github ejecutando la siguiente sentencia en una celda de este notebook:\n",
    "    ```python\n",
    "    !pip install git+https://github.com/PanxoPanza/empylib.git\n",
    "    ```\n",
    "    Al ejecutar el comando, se instalará la dependencia ```iadpython```, librería para simulaciones de transferencia radiativa  de energía.\n",
    "\n",
    ">**Nota.** Esta instancia debe ser ejecutada solo una vez."
   ]
  }
 ],
 "metadata": {
  "kernelspec": {
   "display_name": "Python 3 (ipykernel)",
   "language": "python",
   "name": "python3"
  },
  "language_info": {
   "codemirror_mode": {
    "name": "ipython",
    "version": 3
   },
   "file_extension": ".py",
   "mimetype": "text/x-python",
   "name": "python",
   "nbconvert_exporter": "python",
   "pygments_lexer": "ipython3",
   "version": "3.10.11"
  },
  "latex_envs": {
   "LaTeX_envs_menu_present": false,
   "autoclose": false,
   "autocomplete": false,
   "bibliofile": "biblio.bib",
   "cite_by": "apalike",
   "current_citInitial": 1,
   "eqLabelWithNumbers": true,
   "eqNumInitial": 1,
   "hotkeys": {
    "equation": "Ctrl-E",
    "itemize": "Ctrl-I"
   },
   "labels_anchors": false,
   "latex_user_defs": false,
   "report_style_numbering": false,
   "user_envs_cfg": false
  },
  "toc": {
   "base_numbering": 1,
   "nav_menu": {},
   "number_sections": true,
   "sideBar": true,
   "skip_h1_title": false,
   "title_cell": "Table of Contents",
   "title_sidebar": "Contents",
   "toc_cell": false,
   "toc_position": {},
   "toc_section_display": true,
   "toc_window_display": false
  }
 },
 "nbformat": 4,
 "nbformat_minor": 5
}
