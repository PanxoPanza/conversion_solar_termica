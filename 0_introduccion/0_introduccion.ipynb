{
 "cells": [
  {
   "cell_type": "markdown",
   "id": "8b01ca79",
   "metadata": {
    "slideshow": {
     "slide_type": "slide"
    }
   },
   "source": [
    "<font size=\"6\">MEC501 - Manejo y Conversión de Energía Solar Térmica</font>\n",
    "# 0. Introducción al curso\n",
    "<br><br><br><br>\n",
    "Profesor: Francisco Ramírez Cuevas<br>\n",
    "Fecha: 1 de Agosto 2022"
   ]
  },
  {
   "cell_type": "markdown",
   "id": "1a10e9e6",
   "metadata": {
    "slideshow": {
     "slide_type": "slide"
    },
    "toc": true
   },
   "source": [
    "<h1>Tabla de contenidos<span class=\"tocSkip\"></span></h1>\n",
    "<div class=\"toc\"><ul class=\"toc-item\"><li><span><a href=\"#Situación-actual-del-sistema-energético\" data-toc-modified-id=\"Situación-actual-del-sistema-energético-1\">Situación actual del sistema energético</a></span></li><li><span><a href=\"#Problemas-medioambientales-asociados-al-sistema-energético-actual\" data-toc-modified-id=\"Problemas-medioambientales-asociados-al-sistema-energético-actual-2\">Problemas medioambientales asociados al sistema energético actual</a></span></li><li><span><a href=\"#Tecnologías-de-manejo-y-conversión-de-energía-solar\" data-toc-modified-id=\"Tecnologías-de-manejo-y-conversión-de-energía-solar-3\">Tecnologías de manejo y conversión de energía solar</a></span><ul class=\"toc-item\"><li><span><a href=\"#Aspectos-generales-de-la-energía-solar\" data-toc-modified-id=\"Aspectos-generales-de-la-energía-solar-3.1\">Aspectos generales de la energía solar</a></span></li><li><span><a href=\"#Disponibilidad-de-energía-solar\" data-toc-modified-id=\"Disponibilidad-de-energía-solar-3.2\">Disponibilidad de energía solar</a></span></li><li><span><a href=\"#Descripción-de-tecnologías-para-energía-solar\" data-toc-modified-id=\"Descripción-de-tecnologías-para-energía-solar-3.3\">Descripción de tecnologías para energía solar</a></span></li><li><span><a href=\"#Tecnologías-en-base-a-energía-solar-en-Chile\" data-toc-modified-id=\"Tecnologías-en-base-a-energía-solar-en-Chile-3.4\">Tecnologías en base a energía solar en Chile</a></span></li></ul></li><li><span><a href=\"#Descripción-general-de-la-asignatura\" data-toc-modified-id=\"Descripción-general-de-la-asignatura-4\">Descripción general de la asignatura</a></span><ul class=\"toc-item\"><li><span><a href=\"#Objetivos-generales\" data-toc-modified-id=\"Objetivos-generales-4.1\">Objetivos generales</a></span></li><li><span><a href=\"#Objetivos-específicos\" data-toc-modified-id=\"Objetivos-específicos-4.2\">Objetivos específicos</a></span></li></ul></li><li><span><a href=\"#Temario\" data-toc-modified-id=\"Temario-5\">Temario</a></span><ul class=\"toc-item\"><li><span><a href=\"#Contenidos\" data-toc-modified-id=\"Contenidos-5.1\">Contenidos</a></span></li></ul></li><li><span><a href=\"#Evaluación-de-la-asignatura\" data-toc-modified-id=\"Evaluación-de-la-asignatura-6\">Evaluación de la asignatura</a></span></li></ul></div>"
   ]
  },
  {
   "cell_type": "markdown",
   "id": "f2501e84",
   "metadata": {
    "slideshow": {
     "slide_type": "slide"
    }
   },
   "source": [
    "## Situación actual del sistema energético"
   ]
  },
  {
   "cell_type": "code",
   "execution_count": 1,
   "id": "882ebef1",
   "metadata": {
    "cell_style": "center"
   },
   "outputs": [
    {
     "data": {
      "text/html": [
       "\n",
       "        <iframe\n",
       "            width=\"900px\"\n",
       "            height=\"600px\"\n",
       "            src=\"https://ourworldindata.org/grapher/energy-consumption-by-source-and-region?stackMode=absolute\"\n",
       "            frameborder=\"0\"\n",
       "            allowfullscreen\n",
       "            \n",
       "        ></iframe>\n",
       "        "
      ],
      "text/plain": [
       "<IPython.lib.display.IFrame at 0x7fb7e4719640>"
      ]
     },
     "metadata": {},
     "output_type": "display_data"
    }
   ],
   "source": [
    "from IPython.display import display, HTML, IFrame\n",
    "display(IFrame('https://ourworldindata.org/grapher/energy-consumption-by-source-and-region?stackMode=absolute', '900px', '600px'))"
   ]
  },
  {
   "cell_type": "markdown",
   "id": "6ca3a08c",
   "metadata": {
    "cell_style": "center",
    "slideshow": {
     "slide_type": "slide"
    }
   },
   "source": [
    "**Datos relevantes**\n",
    "- El consumo mundial de combustibles fósiles (petróleo, gas y carbón) a aumentado en casi 65% desde el año 1990 hasta el año 2021.\n",
    "- El porcentaje de energía proveniente de combustibles fósiles, ha disminuido de casi un 87% en 1990 a 83% en el 2021 (en Chile, este porcentaje cayó desde 82% a 76.5%).\n",
    "- Actualmente en Chile, las energías renovables representan un 23.5%, donde un 6.25% proviene de energía solar."
   ]
  },
  {
   "cell_type": "markdown",
   "id": "cd3e12a7",
   "metadata": {
    "cell_style": "center",
    "slideshow": {
     "slide_type": "slide"
    }
   },
   "source": [
    ">Por otro lado, **la disponiblidad de combustilbes fósiles es limitada**. Segun estudios ´[las reservas de petroleo, gas y carbón se agotarán para los años 2052, 2060 y 2090, respectivamente.](https://earthbuddies.net/when-will-we-run-out-of-fossil-fuel/)\n",
    "\n",
    ">Esto significa que los precios de los combustibles fósiles seguirán aumentando en las próximas décadas."
   ]
  },
  {
   "cell_type": "markdown",
   "id": "f167e11e",
   "metadata": {
    "cell_style": "center",
    "slideshow": {
     "slide_type": "slide"
    }
   },
   "source": [
    "## Problemas medioambientales asociados al sistema energético actual\n",
    "Como vimos, aunque el consumo de energías renovables ha ido en aumento, la quema de combustibles fósiles sigue siendo la principal fuente de energía en el mundo."
   ]
  },
  {
   "cell_type": "markdown",
   "id": "2550355d",
   "metadata": {
    "slideshow": {
     "slide_type": "slide"
    }
   },
   "source": [
    "Además de los problemas asociados a la disponibilidad limitada y aumento de precio de los combustibles fósiles, existen consecuencias medioambientales que tienen asociado un costo indirecto, tales como:\n",
    "- Lluvia ácida asociada a la emisión de SO$_2$ y NO$_x$\n",
    "- Disminución de la capa de ozono por emisión de CFC y NO$_x$. (*Aunque se han tomado una serie de medidas para reducir las emisiones de CFC, se estima que el daño en zonas como la Antartica seguirá presenta hasta, al menos, el año 2075.*)\n",
    "- Cambio climático producto del aumento de gases de efecto invernadero"
   ]
  },
  {
   "cell_type": "markdown",
   "id": "fbda1f8c",
   "metadata": {
    "slideshow": {
     "slide_type": "slide"
    }
   },
   "source": [
    "## Tecnologías de manejo y conversión de energía solar"
   ]
  },
  {
   "cell_type": "markdown",
   "id": "5198b52f",
   "metadata": {},
   "source": [
    "### Aspectos generales de la energía solar\n",
    "- El sol es la única fuente externa de energía en la tierra\n",
    "- Todas la formas de energía disponibles tiene origen solar (combustibles fósiles, mareomotríz, eólica, etc)"
   ]
  },
  {
   "cell_type": "markdown",
   "id": "c2a4f788",
   "metadata": {
    "slideshow": {
     "slide_type": "slide"
    }
   },
   "source": [
    "### Disponibilidad de energía solar\n"
   ]
  },
  {
   "cell_type": "code",
   "execution_count": 2,
   "id": "7ef9fe79",
   "metadata": {
    "scrolled": false
   },
   "outputs": [
    {
     "data": {
      "text/html": [
       "\n",
       "        <iframe\n",
       "            width=\"100%\"\n",
       "            height=\"600px\"\n",
       "            src=\"https://globalsolaratlas.info/\"\n",
       "            frameborder=\"0\"\n",
       "            allowfullscreen\n",
       "            \n",
       "        ></iframe>\n",
       "        "
      ],
      "text/plain": [
       "<IPython.lib.display.IFrame at 0x7fb7e47386a0>"
      ]
     },
     "metadata": {},
     "output_type": "display_data"
    }
   ],
   "source": [
    "display(IFrame('https://globalsolaratlas.info/','100%','600px'))"
   ]
  },
  {
   "cell_type": "markdown",
   "id": "74d16d9a",
   "metadata": {
    "cell_style": "center",
    "slideshow": {
     "slide_type": "slide"
    }
   },
   "source": [
    "Chile es el país con mayores niveles de radiación en el mundo. \n",
    "\n",
    "Por ejemplo, en base al atlas solar del [World Bank Group](https://globalsolaratlas.info/map?c=11.523088,8.261719,3), si calculamos la energía generada por el área con mayores niveles de radiación considerando paneles con [potencia máxima de 500 Wp](https://solarity.cz/blog/500-wp-solar-modules-era/)"
   ]
  },
  {
   "cell_type": "code",
   "execution_count": 1,
   "id": "a750b4b8",
   "metadata": {
    "cell_style": "center",
    "slideshow": {
     "slide_type": "-"
    }
   },
   "outputs": [
    {
     "name": "stdout",
     "output_type": "stream",
     "text": [
      "Energía eléctrica suministrada: 750.2 TWh (Energía consumida en Chile 444 TWh)\n"
     ]
    }
   ],
   "source": [
    "A     = 250060.15 # Superficie total (km^2)\n",
    "Pmax  = 500       # Potencia máxima por panel en condiciones estándard (Wp)\n",
    "PVOUT = 6.0       # Potencía específica suministrada (kWh/Wp)\n",
    "\n",
    "# Energía total suministrada (TWh)\n",
    "Etot  = A*1E3**2*PVOUT*Pmax/1E12\n",
    "print(\"Energía eléctrica suministrada: %.1f TWh (Energía consumida en Chile 444 TWh)\" % Etot)"
   ]
  },
  {
   "cell_type": "markdown",
   "id": "3c71f87f",
   "metadata": {
    "cell_style": "center",
    "slideshow": {
     "slide_type": "slide"
    }
   },
   "source": [
    "> \"*Para abastecer toda la energía que requiere Chile si tuviéramos almacenamiento suficiente necesitamos unos mil kilómetros cuadrados, algo menos que el 1% del desierto y equivalente más o menos a la superficie de la comuna de Melipilla.*\"  [Rodrigo Palma, director de SERC, 2022](https://www.revistaei.cl/2019/09/04/con-todo-el-potencial-de-energia-solar-de-chile-se-podria-abastecer-60-veces-el-consumo-del-pais-y-el-20-del-mundo/#)"
   ]
  },
  {
   "cell_type": "markdown",
   "id": "0b98302f",
   "metadata": {
    "slideshow": {
     "slide_type": "slide"
    }
   },
   "source": [
    "### Descripción de tecnologías para energía solar"
   ]
  },
  {
   "cell_type": "markdown",
   "id": "b96e26d2",
   "metadata": {
    "cell_style": "split"
   },
   "source": [
    "- Fotovoltaica\n",
    "<img src=\"./images/pv_cell.jpg\" width=\"400\">"
   ]
  },
  {
   "cell_type": "markdown",
   "id": "a357efec",
   "metadata": {
    "cell_style": "split"
   },
   "source": [
    "- Termosolar\n",
    "<img src=\"./images/thermo_solar_power_plant.jpg\" width=\"400\">"
   ]
  },
  {
   "cell_type": "markdown",
   "id": "b4ef1470",
   "metadata": {
    "cell_style": "split",
    "slideshow": {
     "slide_type": "slide"
    }
   },
   "source": [
    "- Termoregulación solar para edificaciones\n",
    "<img src=\"./images/smart_window.jpg\" width=\"400\">"
   ]
  },
  {
   "cell_type": "markdown",
   "id": "e36692af",
   "metadata": {
    "cell_style": "split"
   },
   "source": [
    "- Desalinización solar\n",
    "<img src=\"./images/solar_desalination.png\" width=\"400\">"
   ]
  },
  {
   "cell_type": "markdown",
   "id": "f13e3de3",
   "metadata": {
    "slideshow": {
     "slide_type": "slide"
    }
   },
   "source": [
    "- Combustibles solares (ejemplos)"
   ]
  },
  {
   "cell_type": "markdown",
   "id": "490d24b2",
   "metadata": {
    "cell_style": "split",
    "slideshow": {
     "slide_type": "-"
    }
   },
   "source": [
    "Generación fotoelectroquímica\n",
    "\n",
    "<img src=\"./images/artificial_photosynthesis.png\" width=\"400\">"
   ]
  },
  {
   "cell_type": "markdown",
   "id": "e545dd7b",
   "metadata": {
    "cell_style": "split"
   },
   "source": [
    "Generación termoquímica\n",
    "\n",
    "<img src=\"./images/thermochemical_solar_reactor.png\" width=\"400\">"
   ]
  },
  {
   "cell_type": "markdown",
   "id": "bf8434b5",
   "metadata": {
    "slideshow": {
     "slide_type": "slide"
    }
   },
   "source": [
    "### Tecnologías en base a energía solar en Chile\n",
    "En Chile las principales tecnologías son la fotovoltaica y termosolar, [con una capacidad instalada de 4.6 GW](https://www.pv-magazine-latam.com/2021/04/13/chile-alcanza-46-gw-fotovoltaicos-de-potencia-instalada/). La mayor parte de este simunistro corresponde a plantas solares fotovoltaicas. Respecto al suministro de energía termosolar, se destacan dos proyectos:"
   ]
  },
  {
   "cell_type": "markdown",
   "id": "02e8cc46",
   "metadata": {
    "cell_style": "split"
   },
   "source": [
    "[Planta solar cerro dominador](https://laderasur.com/articulo/recorriendo-cerro-dominador-la-unica-planta-termosolar-que-funciona-en-medio-del-desierto-de-atacama/)\n",
    "\n",
    "<img src=\"./images/cerro_dominador.jpg\" width=\"400\">"
   ]
  },
  {
   "cell_type": "markdown",
   "id": "bb94ca08",
   "metadata": {
    "cell_style": "split"
   },
   "source": [
    "[Concentrador solar parabolico en Valparaiso](https://energia.gob.cl/noticias/valparaiso/primer-concentrador-solar-termico-en-valparaiso)\n",
    "\n",
    "<img src=\"./images/concentrador_solar_chile.jpg\" width=\"400\">"
   ]
  },
  {
   "cell_type": "markdown",
   "id": "12d1f300",
   "metadata": {
    "cell_style": "center",
    "slideshow": {
     "slide_type": "slide"
    }
   },
   "source": [
    "## Descripción general de la asignatura"
   ]
  },
  {
   "cell_type": "markdown",
   "id": "5f6483cc",
   "metadata": {
    "slideshow": {
     "slide_type": "-"
    }
   },
   "source": [
    "En este curso revisaremos los fundamentos y aplicaciones de tecnologías para el manejo y conversión de la energía solar. **La primera parte de este curso estará enfocada hacia los fundamentos de la radiación solar**. Analizaremos el fenómeno electromagnético de la radiación y su interacción con la materia para explicar los mecanismos detrás de la respuesta óptica en diversos escenarios.\n",
    "\n",
    "En la segunda parte revisaremos las principales tecnologías de conversión y manejo de energía solar. **Comenzaremos analizando colectores solares aplicados a sistemas de agua caliente en sectores residenciales**. Debido a la simpleza en su diseño, el análisis de estos sistemas servirá como plataforma para aplicar y reforzar los conceptos aprendidos en la primera parte. Luego, revisaremos centrales termosolares, celdas fotovoltaicas,  manejo de la radiación solar en edificaciones, y otras tecnologías aún en desarrollo como desalinización y combustibles solares."
   ]
  },
  {
   "cell_type": "markdown",
   "id": "ddd23f29",
   "metadata": {
    "slideshow": {
     "slide_type": "slide"
    }
   },
   "source": [
    "### Objetivos generales\n",
    "Aprender los fundamentos del manejo de la radiación térmica y solar, así como sobre las principales tecnologías de conversión y manejo de energía solar<br>"
   ]
  },
  {
   "cell_type": "markdown",
   "id": "9055d094",
   "metadata": {
    "slideshow": {
     "slide_type": "subslide"
    }
   },
   "source": [
    "### Objetivos específicos\n",
    "- Entender la radiación como un fenómeno electromagnético\n",
    "- Entender la interacción materia-luz y su relación con la respuesta óptica de los materiales\n",
    "- Comprender los régimenes de análisis para el transporte radiativo en función de la longitud de escala.\n",
    "- Familiarizar al estudiante con las herramientas de modelación de transporte radiativo.\n",
    "- Comprender los fundamentos de la transferencia de calor por radiación.\n",
    "- Entender las principales características de la radiación solar.\n",
    "- Capacitar al estudiante en el diseño de sistemas de agua caliente domiciliarios basados en colectores solares.\n",
    "- Familiarizar al estudiante con las principales tecnologías de manejo y conversión de energía solar.\n",
    "- Familiarizar al estudiante con las tecnologías de manejo y conversión de energía solar emergentes, y el rol de la nanofotónica en el futuro de estas tecnologías."
   ]
  },
  {
   "cell_type": "markdown",
   "id": "8b6e4a54",
   "metadata": {
    "slideshow": {
     "slide_type": "slide"
    }
   },
   "source": [
    "## Temario"
   ]
  },
  {
   "cell_type": "markdown",
   "id": "e0e655aa",
   "metadata": {
    "slideshow": {
     "slide_type": "slide"
    }
   },
   "source": [
    "### Contenidos\n",
    "\n",
    "1. La radiación como un fenómeno electromagnético\n",
    "2. Interacción materia-luz\n",
    "3. Dispersión (scattering) de la luz y transporte radiativo\n",
    "4. Fundamentos de la transferencia de calor por radiación\n",
    "5. Radiación Solar\n",
    "6. Colectores planos para sistemas de agua caliente termosolar\n",
    "7. Plantas termosolares\n",
    "8. Celdas fotovoltaicas\n",
    "9. Tecnologías de termorregulación solar para edificaciones\n",
    "10. Sistemas de desalinización Solar\n",
    "11. Dispositivos de conversión de combustibles solares"
   ]
  },
  {
   "cell_type": "markdown",
   "id": "a8175795",
   "metadata": {
    "slideshow": {
     "slide_type": "slide"
    }
   },
   "source": [
    "## Evaluación de la asignatura\n",
    "- Tres (3) pruebas en formato de tareas (80% de nota de presentación)\n",
    "- Cuestionarios al comienzo de cada clase (20% de la nota de presentación)\n",
    "\n",
    "\\begin{equation}\n",
    "\\mathrm{NP}  = 80\\%\\mathrm{Promedio Pruebas} + 20\\%\\mathrm{Promedio Cuestionarios}\n",
    "\\end{equation}\n",
    "\n",
    ">\\*El promedio de cuestionarios considera 8 de las mejores notas.\n",
    "\n",
    "Aquellos alumnos con $\\mathrm{NP} \\geq 5.0$ no requieren rendir examen. En caso de rendir el examen, **la calificación de este reemplaza la peor nota de las pruebas parciales (solo si la nota del exámen es superior a la peor nota).** La nota final se calcula mediante el promedio de las 3 mejores notas (incluido examen)."
   ]
  }
 ],
 "metadata": {
  "kernelspec": {
   "display_name": "Python 3 (ipykernel)",
   "language": "python",
   "name": "python3"
  },
  "language_info": {
   "codemirror_mode": {
    "name": "ipython",
    "version": 3
   },
   "file_extension": ".py",
   "mimetype": "text/x-python",
   "name": "python",
   "nbconvert_exporter": "python",
   "pygments_lexer": "ipython3",
   "version": "3.9.13"
  },
  "latex_envs": {
   "LaTeX_envs_menu_present": true,
   "autoclose": false,
   "autocomplete": false,
   "bibliofile": "biblio.bib",
   "cite_by": "apalike",
   "current_citInitial": 1,
   "eqLabelWithNumbers": true,
   "eqNumInitial": 1,
   "hotkeys": {
    "equation": "Ctrl-E",
    "itemize": "Ctrl-I"
   },
   "labels_anchors": false,
   "latex_user_defs": false,
   "report_style_numbering": false,
   "user_envs_cfg": false
  },
  "toc": {
   "base_numbering": "1",
   "nav_menu": {},
   "number_sections": false,
   "sideBar": true,
   "skip_h1_title": true,
   "title_cell": "Tabla de contenidos",
   "title_sidebar": "Contenidos",
   "toc_cell": true,
   "toc_position": {
    "height": "calc(100% - 180px)",
    "left": "10px",
    "top": "150px",
    "width": "307.2px"
   },
   "toc_section_display": true,
   "toc_window_display": false
  },
  "varInspector": {
   "cols": {
    "lenName": 16,
    "lenType": 16,
    "lenVar": 40
   },
   "kernels_config": {
    "python": {
     "delete_cmd_postfix": "",
     "delete_cmd_prefix": "del ",
     "library": "var_list.py",
     "varRefreshCmd": "print(var_dic_list())"
    },
    "r": {
     "delete_cmd_postfix": ") ",
     "delete_cmd_prefix": "rm(",
     "library": "var_list.r",
     "varRefreshCmd": "cat(var_dic_list()) "
    }
   },
   "types_to_exclude": [
    "module",
    "function",
    "builtin_function_or_method",
    "instance",
    "_Feature"
   ],
   "window_display": false
  }
 },
 "nbformat": 4,
 "nbformat_minor": 5
}
