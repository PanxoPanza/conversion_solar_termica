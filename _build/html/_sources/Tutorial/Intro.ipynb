{
 "cells": [
  {
   "cell_type": "markdown",
   "id": "9ef98b7d",
   "metadata": {},
   "source": [
    "# Tutoriales"
   ]
  },
  {
   "cell_type": "markdown",
   "id": "6da7c20b",
   "metadata": {},
   "source": [
    "En esta sección veremos algunos tutoriales para el uso de las librería `empylib`, `pvlib` y `meteostat`\n",
    "\n",
    "* [**Tutorial 1 - Modelos ópticos**](./Tutorial1/Tutorial1.ipynb)\n",
    "* [**Tutorial 2 - Espectros de referencia**](./Tutorial2/Tutorial2.ipynb)\n",
    "* [**Tutorial 3 - Datos solares y climatológicos**](./Tutorial3/Tutorial3.ipynb)\n",
    "* [**Tutorial 4 - Modelación de módulo PV**](./Tutorial4/Tutorial4.ipynb)"
   ]
  },
  {
   "cell_type": "markdown",
   "id": "700eee8f",
   "metadata": {},
   "source": [
    "## Instrucciones de instalación\n",
    "Antes de ejecutar los tutoriales:\n",
    "1. Verificiar que git este instalado. Si no, descargar e instalar con alguno de los siguientes links:\n",
    "- [Windows](https://git-scm.com/download/win)\n",
    "- [MacOS](https://git-scm.com/download/mac)\n",
    "- [Linux](https://git-scm.com/download/mac)\n",
    "\n",
    "2. Instalar las librerías respectivas.\n",
    "\n",
    "- Para `empylib`\n",
    "    ```python\n",
    "    !pip install git+https://github.com/PanxoPanza/empylib.git\n",
    "    ```\n",
    "> El comando instalará la dependencia ```iadpython```, una librería para simulaciones de transferencia radiativa  de energía.\n",
    "\n",
    "- Para `meteostat`\n",
    "    ```python\n",
    "    !pip install meteostat\n",
    "    ```\n",
    "    \n",
    "- Para `pvlib`\n",
    "    ```python\n",
    "    !pip install pvlib\n",
    "    ```"
   ]
  },
  {
   "cell_type": "markdown",
   "id": "78fee04e",
   "metadata": {},
   "source": [
    "**Importante** ejecutar los comandos de instalación solo una vez."
   ]
  }
 ],
 "metadata": {
  "kernelspec": {
   "display_name": "Python 3 (ipykernel)",
   "language": "python",
   "name": "python3"
  },
  "language_info": {
   "codemirror_mode": {
    "name": "ipython",
    "version": 3
   },
   "file_extension": ".py",
   "mimetype": "text/x-python",
   "name": "python",
   "nbconvert_exporter": "python",
   "pygments_lexer": "ipython3",
   "version": "3.11.6"
  },
  "latex_envs": {
   "LaTeX_envs_menu_present": false,
   "autoclose": false,
   "autocomplete": false,
   "bibliofile": "biblio.bib",
   "cite_by": "apalike",
   "current_citInitial": 1,
   "eqLabelWithNumbers": true,
   "eqNumInitial": 1,
   "hotkeys": {
    "equation": "Ctrl-E",
    "itemize": "Ctrl-I"
   },
   "labels_anchors": false,
   "latex_user_defs": false,
   "report_style_numbering": false,
   "user_envs_cfg": false
  },
  "toc": {
   "base_numbering": 1,
   "nav_menu": {},
   "number_sections": true,
   "sideBar": true,
   "skip_h1_title": false,
   "title_cell": "Table of Contents",
   "title_sidebar": "Contents",
   "toc_cell": false,
   "toc_position": {},
   "toc_section_display": true,
   "toc_window_display": false
  }
 },
 "nbformat": 4,
 "nbformat_minor": 5
}
