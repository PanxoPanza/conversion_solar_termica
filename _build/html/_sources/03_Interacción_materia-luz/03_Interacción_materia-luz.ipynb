{
 "cells": [
  {
   "cell_type": "code",
   "execution_count": 1,
   "id": "3c597da7",
   "metadata": {
    "slideshow": {
     "slide_type": "skip"
    },
    "tags": [
     "remove-cell"
    ]
   },
   "outputs": [],
   "source": [
    "import importlib.util\n",
    "if importlib.util.find_spec('empylib') is None:\n",
    "    !pip install git+https://github.com/PanxoPanza/empylib.git"
   ]
  },
  {
   "cell_type": "markdown",
   "id": "8b01ca79",
   "metadata": {
    "slideshow": {
     "slide_type": "slide"
    }
   },
   "source": [
    "# Propiedades ópticas de los materiales"
   ]
  },
  {
   "cell_type": "markdown",
   "id": "61b0f1b1",
   "metadata": {
    "slideshow": {
     "slide_type": "slide"
    }
   },
   "source": [
    "## Fundamentos del movimiento oscilatorio"
   ]
  },
  {
   "cell_type": "markdown",
   "id": "358320c5",
   "metadata": {
    "slideshow": {
     "slide_type": "slide"
    }
   },
   "source": [
    "### Frecuencia natural de un sistema vibratorio\n",
    "\n",
    "Analicemos el caso simplificado de un sistema masa resorte"
   ]
  },
  {
   "cell_type": "markdown",
   "id": "294ae73a",
   "metadata": {
    "cell_style": "split"
   },
   "source": [
    "<img src=\"./images/free_sistem_one_degree.png\" width=\"400px\" align= center>\n",
    "\n",
    "donde, $k$ es la constante de rigidez del resorte, y $m$ es la masa."
   ]
  },
  {
   "cell_type": "markdown",
   "id": "769ed6fc",
   "metadata": {
    "cell_style": "split",
    "slideshow": {
     "slide_type": "fragment"
    }
   },
   "source": [
    "El resorte ejerce una **fuerza de restauración**, $F_\\mathrm{res} = kx$, que actúa en sentido contrario al desplazamiento de la masa.\n",
    "\n",
    "<img src=\"./images/dcl_mass-spring.png\" width=\"400px\" align= center>"
   ]
  },
  {
   "cell_type": "markdown",
   "id": "85dfd5b2",
   "metadata": {
    "cell_style": "split",
    "slideshow": {
     "slide_type": "fragment"
    }
   },
   "source": [
    "Mediante un equilibrio de fuerzas, concluimos que la ecuación gobernante es:\n",
    "\n",
    "\\begin{equation*}\n",
    "\\ddot{x} + \\omega_n^2 x = 0 \n",
    "\\end{equation*}\n",
    "\n",
    "donde **$\\omega_n = \\sqrt{k/m}$, es la frecuencia natural del sistema**"
   ]
  },
  {
   "cell_type": "markdown",
   "id": "f9eda553",
   "metadata": {
    "slideshow": {
     "slide_type": "slide"
    }
   },
   "source": [
    "**La frecuencia natural** de un sistema vibratorio **representa la frecuencia de oscilación del sistema en ausencia de amortiguación y fuerzas externas**."
   ]
  },
  {
   "cell_type": "markdown",
   "id": "f53ca4a2",
   "metadata": {
    "slideshow": {
     "slide_type": "fragment"
    }
   },
   "source": [
    "Es una firma espectral que **solo se puede cambiar ajustando la masa $m$ o la constante de rigidez del sistema $k$.**"
   ]
  },
  {
   "cell_type": "markdown",
   "id": "301a52be",
   "metadata": {
    "cell_style": "split",
    "slideshow": {
     "slide_type": "fragment"
    }
   },
   "source": [
    "Esto significa que, **ante cualquier perturbación del sistema en equilibrio, el sistema oscilará en su frecuencia natural $\\omega_n$.**\n",
    "\n",
    "<img src=\"./images/1dof-1spring.gif\" width=\"300px\" align= center></img>\n",
    "<center> <small>Sistema con 1 grado de libertad (Fuente: <a href=\"https://www.acs.psu.edu/drussell/demos.html\">Daniel A. Russell)</a></small></center>\n",
    "\n",
    "Cada sistema tiene una frecuencia natural, que puede estar definida por distintos parámetros. Sin embargo, **la característica más importante, es la presencia de una fuerza de restauración opuesta al movimiento del cuerpo.**"
   ]
  },
  {
   "cell_type": "markdown",
   "id": "f90d4972",
   "metadata": {
    "cell_style": "split",
    "slideshow": {
     "slide_type": "fragment"
    }
   },
   "source": [
    "Por ejemplo, en un péndulo, la fuerza de restauración corresponde a la componente de la fuerza de gravedad que actúa en sentido contrario a la aceleración del cuerpo.\n",
    "\n",
    "<img src=\"./images/pendulum_forces.gif\" width=\"400px\" align= center>"
   ]
  },
  {
   "cell_type": "markdown",
   "id": "d335b0f9",
   "metadata": {
    "slideshow": {
     "slide_type": "slide"
    }
   },
   "source": [
    "### Vibración forzada amortiguada con un grado de libertad\n",
    "La frecuencia natural cobra relevancia cuando analizamos vibraciones forzadas.\n",
    "\n",
    "Consideremos, por ejemplo, un sistema masa-resorte amortiguado, donde $c$ es la constante de amortiguación. El sistema es excitado por una fuerza externa oscilatoria de la forma $F(t) = F_0 e^{i\\omega t}$, donde $F_0$ es una constante. "
   ]
  },
  {
   "cell_type": "markdown",
   "id": "f67c5def",
   "metadata": {
    "cell_style": "split"
   },
   "source": [
    "<img src=\"./images/forced_damped_system.png\" width=\"400px\" align= center>"
   ]
  },
  {
   "cell_type": "markdown",
   "id": "bc1aa9a9",
   "metadata": {
    "cell_style": "split",
    "slideshow": {
     "slide_type": "fragment"
    }
   },
   "source": [
    "La ecuación gobernante de este sistema está dada por:\n",
    "\n",
    "\\begin{equation*}\n",
    "\\ddot{x} + \\frac{c}{m}\\dot{x} +  \\omega_n^2 x = \\frac{F_0}{m} e^{- i\\omega t},\n",
    "\\end{equation*}\n"
   ]
  },
  {
   "cell_type": "markdown",
   "id": "a7035f82",
   "metadata": {
    "cell_style": "split",
    "slideshow": {
     "slide_type": "fragment"
    }
   },
   "source": [
    "La solución estacionaria es de la forma $x = Ae^{-i\\omega t}$:\n",
    "\n",
    "\\begin{equation*}\n",
    "x(t) = - \\frac{F_0/m}{\\omega^2 - \\omega_n^2 + i\\frac{c}{m} \\omega}e^{- i\\omega t}\n",
    "\\end{equation*}\n",
    "\n",
    "donde $A = - \\frac{F_0/m}{\\omega^2 - \\omega_n^2 + i\\frac{c}{m} \\omega}$ es la amplitud de la respuesta oscilatoria.\n"
   ]
  },
  {
   "cell_type": "markdown",
   "id": "681f2ebf",
   "metadata": {
    "slideshow": {
     "slide_type": "slide"
    }
   },
   "source": [
    "La ecuación indica que **la amplitud de la respuesta depende principalmente, de la frecuencia de la fuerza externa $\\omega$**."
   ]
  },
  {
   "cell_type": "markdown",
   "id": "131e60a4",
   "metadata": {
    "cell_style": "split",
    "slideshow": {
     "slide_type": "fragment"
    }
   },
   "source": [
    "Más aún, como vemos en esta herramienta interactiva de [movimiento forzado amortiguado](https://www.compadre.org/osp/EJSS/4026/134.htm?F=1), cuando $\\omega \\approx \\omega_n$ la amplitud aumenta a un límite crítico."
   ]
  },
  {
   "cell_type": "markdown",
   "id": "db28d74f",
   "metadata": {
    "cell_style": "split"
   },
   "source": [
    "<img src=\"./images/forced.gif\" width=\"300px\" align= center></img>\n",
    "<center> <small>Respuesta ante fuerza oscilatoria  (Fuente: <a href=\"https://www.acs.psu.edu/drussell/demos.html\">Daniel A. Russell)</a></small></center>"
   ]
  },
  {
   "cell_type": "markdown",
   "id": "f9fa7b67",
   "metadata": {
    "slideshow": {
     "slide_type": "fragment"
    }
   },
   "source": [
    "En este caso decimos que el **sistema está en resonancia**."
   ]
  },
  {
   "cell_type": "markdown",
   "id": "28d8f099",
   "metadata": {
    "slideshow": {
     "slide_type": "slide"
    }
   },
   "source": [
    "La mejor forma de visualizar este fenómeno es analizando la amplitud en función de la frecuencia de la fuerza externa $\\omega$. En el gráfico a continuación mostramos el valor del módulo de la amplitud, $|A|$ (izquierda) y la parte real e imaginaria de la amplitud (derecha)."
   ]
  },
  {
   "cell_type": "code",
   "execution_count": 2,
   "id": "5dd7c458",
   "metadata": {
    "slideshow": {
     "slide_type": "skip"
    },
    "tags": [
     "hide-input"
    ]
   },
   "outputs": [],
   "source": [
    "import numpy as np\n",
    "import matplotlib.pyplot as plt\n",
    "\n",
    "def x_amplitude(k,c):\n",
    "    \n",
    "    m = 1                                           # masa del cuerpo\n",
    "    w = np.linspace(0,2,200)                       # rango de frecuencias\n",
    "    F0 = 1                                          # Amplitud de la fuerza\n",
    "    wn = np.sqrt(k/m)                               # frencuencia natural\n",
    "    A  = lambda x: - F0/m/(x**2 - wn**2 + 1j*c/m*x) # amplitud de la respuesta\n",
    "    \n",
    "    # formateamos el lienzo para graficar\n",
    "    fig, ax = plt.subplots(1,2)             # número de ejes en la figura\n",
    "    fig.set_size_inches(10, 3)              # tamaño de la figura\n",
    "    plt.rcParams['font.size'] = '12'        # tamaño de fuente\n",
    "    \n",
    "    # Ploteamos gráfico izquierdo\n",
    "    ax[0].plot(w,np.absolute(A(w)),'k',label=\"$|A|$\")     # módulo de la amplitud\n",
    "    \n",
    "    # marcar línea de frecuencia natural\n",
    "    ax[0].axvline(x = wn, color='r', ls='--', lw='1.0')  \n",
    "    ax[0].text(wn*1.01,np.absolute(A(wn)),'$\\omega_n$', fontsize='12', color='r')\n",
    "    \n",
    "    # etiquetar valores de m y F0 en el gráfico\n",
    "    x0, y0 = 0.1, 100\n",
    "    ax[0].text(x0, y0,r'$m$ = %.0f kg'   % m , fontsize='10', color='k')\n",
    "    ax[0].text(x0, y0*0.55,r'$F_0$ = %.0f N'% F0, fontsize='10', color='k')\n",
    "    \n",
    "    # Ploteamos gráfico derecho\n",
    "    ax[1].plot(w,A(w).real,'b',label=r\"$\\mathrm{Re}(A)$\") # parte real de la amplitud\n",
    "    ax[1].plot(w,A(w).imag,'r',label=r\"$\\mathrm{Im}(A)$\") # parte imaginaria de la amplitud\n",
    "    \n",
    "    for i in [0,1]:\n",
    "        ax[i].set_xlabel('$\\omega$ ')\n",
    "        #ax[i].grid() \n",
    "        ax[i].set_xlim(0,2.0)\n",
    "        ax[i].legend(frameon=False)\n",
    "    ax[0].set_yscale('log')\n",
    "    ax[0].set_ylim(0.1,200)\n",
    "    ax[0].set_ylabel('Módulo de la amplitud')\n",
    "    ax[1].set_ylabel('Amplitud')\n",
    "    plt.subplots_adjust(wspace=0.3)\n",
    "    plt.show()"
   ]
  },
  {
   "cell_type": "code",
   "execution_count": 3,
   "id": "e1bf77f3",
   "metadata": {
    "slideshow": {
     "slide_type": "fragment"
    },
    "tags": [
     "hide-input"
    ]
   },
   "outputs": [
    {
     "data": {
      "application/vnd.jupyter.widget-view+json": {
       "model_id": "e7b28246206540f8b5e851341f1e83ba",
       "version_major": 2,
       "version_minor": 0
      },
      "text/plain": [
       "interactive(children=(FloatSlider(value=1.0, description='k', max=2.0, min=0.3), FloatSlider(value=0.02, descr…"
      ]
     },
     "metadata": {},
     "output_type": "display_data"
    }
   ],
   "source": [
    "from ipywidgets import interact\n",
    "\n",
    "@interact( k=(0.3,2.0,0.1), \n",
    "           c=(0.02,0.2,0.01))\n",
    "def g(k=1, c=0):\n",
    "    return x_amplitude(k,c)"
   ]
  },
  {
   "cell_type": "markdown",
   "id": "57272148",
   "metadata": {
    "slideshow": {
     "slide_type": "slide"
    }
   },
   "source": [
    "La frecuencia de resonancia es fundamental en el diseño de puentes, edificios, instrumentos acústicos y otras. "
   ]
  },
  {
   "cell_type": "markdown",
   "id": "0d167b69",
   "metadata": {
    "cell_style": "split",
    "slideshow": {
     "slide_type": "fragment"
    }
   },
   "source": [
    "Un ejemplo emblemático es el [colapso del puente Tacoma en 1940](https://es.wikipedia.org/wiki/Puente_de_Tacoma_(1940)).\n",
    "\n",
    "<img src=\"./images/tacoma-narrows-bridge-shaking.gif\" width=\"400px\" align= center>\n",
    "\n",
    "El puente se derrumbó debido al aleteo aeroelástico producido por los vientos, el cual coincidía con la frecuencia natural del puente"
   ]
  },
  {
   "cell_type": "markdown",
   "id": "68665458",
   "metadata": {
    "cell_style": "split",
    "slideshow": {
     "slide_type": "fragment"
    }
   },
   "source": [
    "Otro ejemplo típico es el columpio\n",
    "\n",
    "<img src=\"./images/swing_resonance.gif\" width=\"300px\" align= center>\n",
    "\n",
    "En este caso, la fuerza externa son las piernas. La resonancia se alcanza cuando estas se mueven en sincronía con la frecuencia natural del péndulo. El efecto de amortiguación en este caso, está dado por el arrastre del viento, fricción, etc."
   ]
  },
  {
   "cell_type": "markdown",
   "id": "b2dc3de3",
   "metadata": {
    "slideshow": {
     "slide_type": "slide"
    }
   },
   "source": [
    "### Sistemas vibratorios con más de un grado de libertad\n",
    "\n",
    "Un sistema vibratorio puede tener más de una frecuencia natural. **El número de frecuencias naturales está directamente relacionado con el número de grados de libertad del sistema**. "
   ]
  },
  {
   "cell_type": "markdown",
   "id": "de5c7040",
   "metadata": {
    "cell_style": "center",
    "slideshow": {
     "slide_type": "fragment"
    }
   },
   "source": [
    "**Sistema con 1 grado de libertad** (aquí la frecuencia natural cambia a $\\omega_n = \\sqrt{2k/m}$, debido a la presencia de 2 resortes)\n",
    "\n",
    "|modo | $\\omega_n$   |\n",
    "|:---:|:------------:|\n",
    "| 1   | $1.414\\sqrt{k/m}$ | \n",
    "\n",
    "<img src=\"./images/1dof.gif\" width=\"200px\" align= center></img>\n",
    "<center> <small>Sistema con 1 grado de libertad (Fuente: <a href=\"https://www.acs.psu.edu/drussell/demos.html\">Daniel A. Russell)</a></small></center>"
   ]
  },
  {
   "cell_type": "markdown",
   "id": "4643885a",
   "metadata": {
    "cell_style": "split",
    "slideshow": {
     "slide_type": "slide"
    }
   },
   "source": [
    "**Sistema con 2 grados de libertad**\n",
    "\n",
    "|modo | $\\omega_n$   |\n",
    "|:---:|:------------:|\n",
    "| 1   | $1.000\\sqrt{k/m}$ |\n",
    "| 2   | $1.732\\sqrt{k/m}$| \n",
    "\n",
    "<img src=\"./images/2dof-mode-1.gif\" width=\"300px\" align= center></img>\n",
    "<img src=\"./images/2dof-mode-2.gif\" width=\"300px\" align= center></img>\n",
    "<center> <small>Sistema con 2 grados de libertad (Fuente: <a href=\"https://www.acs.psu.edu/drussell/demos.html\">Daniel A. Russell)</a></small></center>"
   ]
  },
  {
   "cell_type": "markdown",
   "id": "5a0c9868",
   "metadata": {
    "cell_style": "split",
    "slideshow": {
     "slide_type": "fragment"
    }
   },
   "source": [
    "**Sistema con 3 grados de libertad**\n",
    "\n",
    "|modo | $\\omega_n$   |\n",
    "|:---:|:------------:|\n",
    "| 1   | $0.765\\sqrt{k/m}$ |\n",
    "| 2   | $1.414\\sqrt{k/m}$| \n",
    "| 3   | $1.868\\sqrt{k/m}$| \n",
    "\n",
    "<img src=\"./images/3dof-mode-1.gif\" width=\"300px\" align= center></img>\n",
    "<img src=\"./images/3dof-mode-2.gif\" width=\"300px\" align= center></img>\n",
    "<img src=\"./images/3dof-mode-3.gif\" width=\"300px\" align= center></img>\n",
    "<center> <small>Sistema con 3 grados de libertad (Fuente: <a href=\"https://www.acs.psu.edu/drussell/demos.html\">Daniel A. Russell)</a></small></center>"
   ]
  },
  {
   "cell_type": "markdown",
   "id": "26c69b02",
   "metadata": {
    "slideshow": {
     "slide_type": "slide"
    }
   },
   "source": [
    "Notar la forma en que las frecuencias naturales se distribuye a medida que aumentamos los grados de libertad del sistema (*Las flechas rojas indican la dirección de las masas asociada a cada modo de vibración*):\n",
    "\n",
    "\n",
    "<img src=\"./images/nat_frequency_hybrid.png\" width=\"800px\" align= center>"
   ]
  },
  {
   "cell_type": "markdown",
   "id": "c2c54a68",
   "metadata": {
    "slideshow": {
     "slide_type": "slide"
    }
   },
   "source": [
    "En este caso, para **activar la resonancia de un modo mediante una fuerza oscilatoria externa** se deben cumplir dos condiciones:\n",
    "\n",
    "- **La frecuencia de la fuerza externa ($\\omega$) debe ser igual a la frecuencia natural del modo respectivo**\n",
    "- **El sentido de la fuerza debe ser compatible con el movimiento independiente de cada elemento**"
   ]
  },
  {
   "cell_type": "markdown",
   "id": "88b15e63",
   "metadata": {
    "slideshow": {
     "slide_type": "slide"
    }
   },
   "source": [
    "## Interacción de luz gases\n",
    "\n",
    "La interacción de luz con gases es el modelo más simple. En este caso, cada molécula representa un sistema oscilatorio"
   ]
  },
  {
   "cell_type": "markdown",
   "id": "1f02dfa3",
   "metadata": {
    "slideshow": {
     "slide_type": "slide"
    }
   },
   "source": [
    "### El oscilador armónico\n",
    "Consideremos la molecula de agua."
   ]
  },
  {
   "cell_type": "markdown",
   "id": "0435f143",
   "metadata": {
    "cell_style": "split",
    "slideshow": {
     "slide_type": "fragment"
    }
   },
   "source": [
    "<img src=\"./images/water_molecule.png\" width=\"400px\" align= center>"
   ]
  },
  {
   "cell_type": "markdown",
   "id": "511ceed2",
   "metadata": {
    "cell_style": "split",
    "slideshow": {
     "slide_type": "-"
    }
   },
   "source": [
    "Esta molécula está **polarizada**, es decir, posee una **carga eléctrica neta positiva en un extremo y negativa en otro**. \n",
    "\n",
    "Esto ocurre debido a que los electrones se mantienen, preferentemente, en la región cercana al núcleo del oxígeno."
   ]
  },
  {
   "cell_type": "markdown",
   "id": "90573d0f",
   "metadata": {
    "cell_style": "center",
    "slideshow": {
     "slide_type": "slide"
    }
   },
   "source": [
    "El enlance entre el hidrógeno y oxígeno genera una fuerza de atracción, la cual es contrarestada por la repulción entre los núcleos. En forma simplificada, podemos representar este fenómeno mediante un sistema *masa-resorte*."
   ]
  },
  {
   "cell_type": "markdown",
   "id": "7b152a52",
   "metadata": {
    "cell_style": "split"
   },
   "source": [
    "<img src=\"./images/water_molecule_spring.png\" width=\"300px\" align= center>"
   ]
  },
  {
   "cell_type": "markdown",
   "id": "d7d8d84b",
   "metadata": {
    "cell_style": "split",
    "slideshow": {
     "slide_type": "fragment"
    }
   },
   "source": [
    "En otras palabras, cada enlace en la molécula de agua representa un oscilador armónico, con una fuerza de restauración:\n",
    "\n",
    "\\begin{equation*}\n",
    "F = -k(r - r_0)\n",
    "\\end{equation*}\n",
    "\n",
    "donde $k$ es la constante de rigidez y $r_0$ es la posición de los núcleos en equilibrio."
   ]
  },
  {
   "cell_type": "markdown",
   "id": "a47dc7ed",
   "metadata": {
    "slideshow": {
     "slide_type": "slide"
    }
   },
   "source": [
    "### Modelo de Lorentz\n",
    "\n",
    "Consideremos ahora la interacción de una onda electromagnética con una molécula di atómica."
   ]
  },
  {
   "cell_type": "markdown",
   "id": "58ad790c",
   "metadata": {
    "cell_style": "split",
    "slideshow": {
     "slide_type": "fragment"
    }
   },
   "source": [
    "<img src=\"./images/molecule_spring_mass.png\" width=\"300px\" align= center>"
   ]
  },
  {
   "cell_type": "markdown",
   "id": "e8dec281",
   "metadata": {
    "cell_style": "split",
    "slideshow": {
     "slide_type": "fragment"
    }
   },
   "source": [
    "El campo eléctrico de la onda EM ($E_0e^{-i\\omega t}$), ejerce una fuerza $F = qE_0e^{-i\\omega t}$ sobre cada polo, donde $q$ es la carga eléctrica del polo positivo (o negativo). "
   ]
  },
  {
   "cell_type": "markdown",
   "id": "aca8c93d",
   "metadata": {
    "cell_style": "split",
    "slideshow": {
     "slide_type": "fragment"
    }
   },
   "source": [
    "Consideramos, ademas, una fuerza de amortiguación, $F_{c} = - m\\Gamma \\dot{x}$, que **representa la disipación de energía** por la colición entre los electrones y los nucleos, además de otras interacciónes electromagnéticas. La constante **$\\Gamma$** es la **tasa de decaimiento** (se mide en unidades 1/s)."
   ]
  },
  {
   "cell_type": "markdown",
   "id": "12aa8754",
   "metadata": {
    "cell_style": "split",
    "slideshow": {
     "slide_type": "fragment"
    }
   },
   "source": [
    "\n",
    "\n",
    "***El fenómeno, así, representa un sistema forzado amortiguado***"
   ]
  },
  {
   "cell_type": "markdown",
   "id": "893cc2a3",
   "metadata": {
    "cell_style": "center",
    "slideshow": {
     "slide_type": "slide"
    }
   },
   "source": [
    "Asumiendo un eje de referencia situado en el polo positivo, la ecuación de movimiento está dada por:\n",
    "\n",
    "\\begin{equation*}\n",
    "m\\ddot{x} + m\\Gamma \\dot{x} +  k x = qE_0 e^{-i\\omega t},\n",
    "\\end{equation*}\n",
    "\n",
    "donde $m$ es la masa del polo positivo, $k$ es la constante de rigidez del enlace entre los polos."
   ]
  },
  {
   "cell_type": "markdown",
   "id": "a0148a8d",
   "metadata": {
    "slideshow": {
     "slide_type": "fragment"
    }
   },
   "source": [
    "La solución estacionaria está dada por la solución particular:\n",
    "\n",
    "\\begin{equation*}\n",
    "x_p(t) = \\frac{q/mE_0}{\\omega_n^2 - \\omega^2 - i\\Gamma \\omega}e^{-i\\omega t}\n",
    "\\end{equation*}"
   ]
  },
  {
   "cell_type": "markdown",
   "id": "2a79298d",
   "metadata": {
    "slideshow": {
     "slide_type": "slide"
    }
   },
   "source": [
    "El desplazamiento del polo positivo respecto a su estado en equilibrio induce un **momento dipolar**, $\\vec{p}$, el cual expresamos a través de la relación:\n",
    "\n",
    "\\begin{equation*}\n",
    "\\vec{p} = q\\vec{x}_p(t) =  \\frac{q^2/m}{\\omega_n^2 - \\omega^2 - i\\Gamma \\omega}E_0e^{-i\\omega t}\\hat{e}\\quad\\mathrm{[C\\cdot m]}\n",
    "\\end{equation*}\n",
    "\n",
    "donde $\\hat{e}$ es la dirección del campo eléctrico"
   ]
  },
  {
   "cell_type": "markdown",
   "id": "559e4684",
   "metadata": {
    "slideshow": {
     "slide_type": "fragment"
    }
   },
   "source": [
    "En el caso real, este fenómenos se da en un volumen con miles de moleculas de agua. Así, definimos la **densidad de polarización**, $\\vec{P}$, como el **momento dipolar inducido total por unidad de volumen**:\n",
    "\n",
    "\\begin{equation*}\n",
    "\\vec{P} = N_p \\vec{p} = \\frac{N_pq^2/m}{\\omega_n^2 - \\omega^2 - i\\Gamma \\omega}\\vec{E}\\quad\\mathrm{\\left[\\frac{C\\cdot m}{m^3}\\right]}\n",
    "\\end{equation*}"
   ]
  },
  {
   "cell_type": "markdown",
   "id": "6f98c011",
   "metadata": {
    "slideshow": {
     "slide_type": "slide"
    }
   },
   "source": [
    "En presencia de un medio polarizado, la ley de Gauss se modifica como: $\\nabla\\cdot\\left(\\varepsilon_0\\vec{E} + \\vec{P}\\right) = 0$. "
   ]
  },
  {
   "cell_type": "markdown",
   "id": "c4a3331b",
   "metadata": {
    "slideshow": {
     "slide_type": "fragment"
    }
   },
   "source": [
    "Representando esta relación en la forma, $\\nabla\\cdot\\varepsilon_0\\varepsilon\\vec{E} = \\rho$, podemos deducir un modelo para la constante dieléctrica del sistema $\\varepsilon$:\n",
    "\n",
    "\\begin{equation*}\n",
    "\\varepsilon = 1 +\\frac{\\omega_p^2}{\\omega_n^2 - \\omega^2 - i\\Gamma \\omega},\n",
    "\\end{equation*}\n",
    "\n",
    "con $\\omega_p^2 = \\frac{N_pq^2}{\\varepsilon_0 m}$"
   ]
  },
  {
   "cell_type": "markdown",
   "id": "81b68cdd",
   "metadata": {
    "slideshow": {
     "slide_type": "fragment"
    }
   },
   "source": [
    "En el caso del agua, la molecula posee un dipolo eléctrico neto adicional al dipolo inducido. El efecto de la polarización neta se puede representar, cambiando el primer término por un valor constante $\\varepsilon_\\infty$."
   ]
  },
  {
   "cell_type": "markdown",
   "id": "500b9754",
   "metadata": {
    "slideshow": {
     "slide_type": "fragment"
    }
   },
   "source": [
    "El modelo completo se conoce como **modelo de Lorentz**:\n",
    "\n",
    "\\begin{equation}\n",
    "\\varepsilon = \\varepsilon_\\infty + \\frac{\\omega_p^2}{\\omega_n^2 - \\omega^2 - i\\Gamma \\omega}\\quad\\mathrm{Modelo~de~Lorentz},\n",
    "\\end{equation}"
   ]
  },
  {
   "cell_type": "markdown",
   "id": "7105088b",
   "metadata": {
    "slideshow": {
     "slide_type": "slide"
    }
   },
   "source": [
    "Usaremos la función `lorentz` del módulo `empylib.nklib` para generar el índice de refracción y constante dielectrica a partir del modelo de Lorentz."
   ]
  },
  {
   "cell_type": "code",
   "execution_count": 4,
   "id": "cbd90054",
   "metadata": {
    "slideshow": {
     "slide_type": "skip"
    },
    "tags": [
     "hide-input"
    ]
   },
   "outputs": [],
   "source": [
    "import numpy as np\n",
    "import matplotlib.pyplot as plt\n",
    "import empylib.nklib as nk\n",
    "import empylib as em\n",
    "\n",
    "def lorentz_model(epsinf,wn,wp,gamma):\n",
    "    # espectro \n",
    "    lam = np.linspace(1E-3,3,1000)     # convertimos a \"micrones\"\n",
    "\n",
    "    # creamos el modelo de lorentz\n",
    "    N1 = nk.lorentz(epsinf,wp,wn,gamma,lam) # índice de refracción a partir del modelo de Lorentz\n",
    "    eps1 = N1**2                            # constante dieléctrica\n",
    "\n",
    "    # formateamos el lienzo para graficar\n",
    "    fig, ax = plt.subplots(1,2)             # número de ejes en la figura\n",
    "    fig.set_size_inches(10, 3)              # tamaño de la figura\n",
    "    plt.rcParams['font.size'] = '10'        # tamaño de fuente\n",
    "\n",
    "    #ploteamos\n",
    "    ax[0].plot(lam,eps1.real,'b',label=r\"$\\varepsilon'$\")\n",
    "    ax[0].plot(lam,eps1.imag,'r',label=r\"$\\varepsilon''$\")\n",
    "    ax[1].plot(lam,N1.real,'b',label=r\"$n$\")\n",
    "    ax[1].plot(lam,N1.imag,'r',label=r\"$\\kappa$\")\n",
    "    \n",
    "    # marcar línea de frecuencia natural\n",
    "    lam_n = em.convert_units(wn,'eV','um')\n",
    "    ax[0].axvline(x = lam_n, color='k', ls='--', lw='1.0')  \n",
    "    ax[0].text(lam_n*1.01,-10,'$\\omega_n$', fontsize='12', color='k')\n",
    "\n",
    "    for i in [0,1]:\n",
    "        ax[i].set_xlabel('Longitud de onda, $\\lambda$ ($\\mu$m)')\n",
    "        ax[i].grid()\n",
    "        ax[i].legend(frameon=False)\n",
    "        ax[i].set_xlim(0.5,3.0)\n",
    "    ax[0].set_ylabel(r\"Constante dielectrica, $\\varepsilon = \\varepsilon'+ \\varepsilon''$\")\n",
    "    ax[1].set_ylabel(r'Indice de refracción, $N = n + i\\kappa$')\n",
    "    ax[0].set_ylim(-20,30)\n",
    "    ax[1].set_ylim(0,5)\n",
    "    plt.show()"
   ]
  },
  {
   "cell_type": "code",
   "execution_count": 5,
   "id": "be118d5a",
   "metadata": {
    "slideshow": {
     "slide_type": "fragment"
    },
    "tags": [
     "hide-input"
    ]
   },
   "outputs": [
    {
     "data": {
      "application/vnd.jupyter.widget-view+json": {
       "model_id": "f665117095614fb2887acb467e216390",
       "version_major": 2,
       "version_minor": 0
      },
      "text/plain": [
       "interactive(children=(FloatSlider(value=7.0, description='epsinf', max=10.0, min=1.0, step=0.5), FloatSlider(v…"
      ]
     },
     "metadata": {},
     "output_type": "display_data"
    }
   ],
   "source": [
    "from ipywidgets import interact\n",
    "\n",
    "@interact( epsinf=(1,10,0.5), \n",
    "           wp=(0.3,1.0,0.1), \n",
    "           wn=(0.5,2.0,0.1), \n",
    "           gamma=(0.01,0.05,0.005))\n",
    "def g(epsinf=7,wp=0.8,wn=0.7, gamma=0.04):\n",
    "    return lorentz_model(epsinf,wn,wp,gamma)"
   ]
  },
  {
   "cell_type": "markdown",
   "id": "37d59ca2",
   "metadata": {
    "slideshow": {
     "slide_type": "slide"
    }
   },
   "source": [
    ">**El modelo de Lorentz se utiliza como modelo de ajuste para representar la interacción de la luz con los modos vibratorios en la materia**"
   ]
  },
  {
   "cell_type": "markdown",
   "id": "9e2ae231",
   "metadata": {
    "slideshow": {
     "slide_type": "slide"
    }
   },
   "source": [
    "Por ejemplo, la molécula de agua tiene 3 modos de vibración fundamentales en las longitudes de onda $\\lambda = $ 2.98, 2.93 y 5.91 $\\mu$m (3351, 3412 y 1691 cm$^{-1}$)"
   ]
  },
  {
   "cell_type": "code",
   "execution_count": 6,
   "id": "6f7c32e8",
   "metadata": {
    "cell_style": "center",
    "tags": [
     "remove-input"
    ]
   },
   "outputs": [
    {
     "data": {
      "image/jpeg": "[encoded data removed]",
      "text/html": [
       "\n",
       "        <iframe\n",
       "            width=\"600\"\n",
       "            height=\"400\"\n",
       "            src=\"https://www.youtube.com/embed/1uE2lvVkKW0?playsinline=0\"\n",
       "            frameborder=\"0\"\n",
       "            allowfullscreen\n",
       "            \n",
       "        ></iframe>\n",
       "        "
      ],
      "text/plain": [
       "<IPython.lib.display.YouTubeVideo at 0x7f13cec7d590>"
      ]
     },
     "execution_count": 6,
     "metadata": {},
     "output_type": "execute_result"
    }
   ],
   "source": [
    "from IPython.display import YouTubeVideo\n",
    "YouTubeVideo('1uE2lvVkKW0', width=600, height=400,  playsinline=0)"
   ]
  },
  {
   "cell_type": "markdown",
   "id": "d2e7a860",
   "metadata": {
    "slideshow": {
     "slide_type": "slide"
    }
   },
   "source": [
    "Al graficar el índice de refracción notamos que la gráfica muestra dos oscilaciones de Lorentz. Usamos el módulo `nklib` de la librería `empylib` para graficar el índice de refracción del agua"
   ]
  },
  {
   "cell_type": "code",
   "execution_count": 7,
   "id": "a8fe3e5b",
   "metadata": {
    "cell_style": "center",
    "slideshow": {
     "slide_type": "skip"
    },
    "tags": [
     "hide-input"
    ]
   },
   "outputs": [],
   "source": [
    "%%capture showplot1\n",
    "import numpy as np\n",
    "import matplotlib.pyplot as plt\n",
    "import empylib.nklib as nk\n",
    "\n",
    "# Creamos el espectro\n",
    "lam = np.linspace(0.2,10,1000)                          # espectro de longitudes de onda\n",
    "N1   = nk.H2O(lam)                                      # índice de refracción\n",
    "eps1 = N1**2                                            # constante dieléctrica\n",
    "\n",
    "# Formateamos el lienzo para graficar\n",
    "fig, ax = plt.subplots(1,2)                             # número de ejes en la figura\n",
    "fig.set_size_inches(10, 3)                              # tamaño de la figura\n",
    "plt.rcParams['font.size'] = '12'                        # tamaño de fuente\n",
    "\n",
    "# Graficamos el resultado\n",
    "ax[0].plot(lam,eps1.real,'b',label=r\"$\\varepsilon'$\")   # constante dieléctrica (parte real)\n",
    "ax[0].plot(lam,eps1.imag,'r',label=r\"$\\varepsilon''$\")  # constante dieléctrica (parte imaginaria)\n",
    "ax[1].plot(lam,N1.real,'b',label=r\"$n$\")                # índice de refracción (parte real)\n",
    "ax[1].plot(lam,N1.imag,'r',label=r\"$\\kappa$\")           # índice de refracción (parte imaginaria)\n",
    "\n",
    "# Marcamos los valores máximos con una línea\n",
    "for i in [280, 599]:\n",
    "    ax[0].axvline(x = lam[i], color='k', ls='--', lw='1.0')\n",
    "    ax[1].axvline(x = lam[i], color='k', ls='--', lw='1.0')\n",
    "    ax[0].text(lam[i]*1.02,eps1[i].imag,r'%.3f $\\mu$m'% lam[i], fontsize='10')\n",
    "\n",
    "for i in [0,1]:\n",
    "    ax[i].set_xlabel('Longitud de onda, $\\lambda$ ($\\mu$m)')\n",
    "    ax[i].grid()\n",
    "    ax[i].set_xlim(0.2,10)\n",
    "    ax[i].legend(frameon=False)\n",
    "ax[0].set_ylabel(r\"Constante dielectrica, $\\varepsilon = \\varepsilon'+ \\varepsilon''$\")\n",
    "ax[1].set_ylabel(r'Indice de refracción, $N = n + i\\kappa$')\n",
    "plt.show()"
   ]
  },
  {
   "cell_type": "code",
   "execution_count": 8,
   "id": "e793dcc9",
   "metadata": {
    "slideshow": {
     "slide_type": "-"
    },
    "tags": [
     "hide-input"
    ]
   },
   "outputs": [
    {
     "data": {
      "image/png": "[encoded data removed]",
      "text/plain": [
       "<Figure size 1000x300 with 2 Axes>"
      ]
     },
     "metadata": {},
     "output_type": "display_data"
    }
   ],
   "source": [
    "showplot1()"
   ]
  },
  {
   "cell_type": "markdown",
   "id": "7cf5b0bb",
   "metadata": {
    "slideshow": {
     "slide_type": "fragment"
    }
   },
   "source": [
    "Notar que la resonancia en $\\lambda =$ 2.98 $\\mu$m (3351 cm$^{-1}$) no está presente en el espectro."
   ]
  },
  {
   "cell_type": "markdown",
   "id": "f4cf6867",
   "metadata": {
    "slideshow": {
     "slide_type": "fragment"
    }
   },
   "source": [
    "Este modo no es compatible con la oscilación de una onda electromagnética plana. Así la luz no interactúa con esta vibración y, por lo tanto, no se ve representada en el espectro del índice de refracción."
   ]
  },
  {
   "cell_type": "markdown",
   "id": "7563a9c6",
   "metadata": {
    "slideshow": {
     "slide_type": "slide"
    }
   },
   "source": [
    "## Interacción de la luz con sólidos\n",
    "El análisis anterior generalmente se aplica a gases, donde las moléculas no interactúan entre sí. En el caso de materiales sólidos, la interacción entre moléculas es fuerte, y genera bandas electrónicas de energía."
   ]
  },
  {
   "cell_type": "markdown",
   "id": "fc5bbf6d",
   "metadata": {
    "cell_style": "split",
    "slideshow": {
     "slide_type": "fragment"
    }
   },
   "source": [
    "- **Banda de valencia**: corresponde a la banda ocupada por electrones con el mayor nivel de energía. En esta banda los electrones permanecen en un estado \"ligado\" al núcleo.\n",
    "\n",
    "- **Banda de conducción**: corresponde a la banda no ocupada por electrones con el menor nivel de energía. En esta banda los electrones se mueven líbremente por el material\n",
    "\n",
    "- **Banda prohibida (*band-gap*)**: Es la diferencia entre la banda de conducción y la banda de valencia"
   ]
  },
  {
   "cell_type": "markdown",
   "id": "5b106497",
   "metadata": {
    "cell_style": "split"
   },
   "source": [
    "<img src=\"./images/bandas_electronicas.png\" width=\"300px\" align= center>"
   ]
  },
  {
   "cell_type": "markdown",
   "id": "87545d36",
   "metadata": {
    "cell_style": "center",
    "slideshow": {
     "slide_type": "slide"
    }
   },
   "source": [
    "A partir de la separación entre la banda de conducción y la banda de valencia, podemos clasificar tres tipos de materiales en función de sus propiedades electrónicas:\n",
    "\n",
    "<img src=\"./images/energy_bands_clasification.png\" width=\"700px\" align= center>"
   ]
  },
  {
   "cell_type": "markdown",
   "id": "83b59b21",
   "metadata": {
    "slideshow": {
     "slide_type": "slide"
    }
   },
   "source": [
    "- **Conductor**, donde las bandas de conducción y valencia están traslapadas (bandgap = 0). En estos materiales, parte de los electrones están alojados en la banda de conducción y, por lo tanto, son capaces de conducir corriente eléctrica en presencia de un campo eléctrico.\n",
    "\n",
    "- **Semiconductor**, donde las bandas de conducción y valencia están separadas. Sin embargo, la energía del bandgap es relativamente pequeña, de manera que un electrón puede ser llevado a la banda de conducción mediante un potencial eléctrico razonable, o mediante una onda electromagnética.\n",
    "\n",
    "- **Aislante**, donde las bandas de conducción y valencia están muy separadas. El umbral para excitar un electrón a la banda de conducción es demaciado grande y, por lo tanto, el material no es capaz de conducir corriente."
   ]
  },
  {
   "cell_type": "markdown",
   "id": "b2df41eb",
   "metadata": {
    "slideshow": {
     "slide_type": "fragment"
    }
   },
   "source": [
    "La respuesta óptica de cada tipo de material está condicionada por sus propiedades electrónicas"
   ]
  },
  {
   "cell_type": "markdown",
   "id": "c46ef750",
   "metadata": {
    "slideshow": {
     "slide_type": "slide"
    }
   },
   "source": [
    "### Aislantes (modelo de Lorentz)\n",
    "Debido a que los electrones en un aislante están fuertemente ligados al núcleo, la respuesta óptica de este material está condicionada por los modos de vibración de la red atómica. Así, la constante dieléctrica y el indice de refración siguen un comportamiento similar al modelo de Lorentz."
   ]
  },
  {
   "cell_type": "markdown",
   "id": "fe65eea6",
   "metadata": {
    "slideshow": {
     "slide_type": "fragment"
    }
   },
   "source": [
    "Por ejemplo, el sílice (SiO$_2$)"
   ]
  },
  {
   "cell_type": "markdown",
   "id": "211ced63",
   "metadata": {},
   "source": [
    "<img src=\"./images/silica_fig.png\" width=\"700px\" align= center>"
   ]
  },
  {
   "cell_type": "markdown",
   "id": "ec221342",
   "metadata": {
    "slideshow": {
     "slide_type": "slide"
    }
   },
   "source": [
    "Tiene un índice de refracción donde podemos ver con claridad los modos de resonancia típicos del modelo de Lorentz"
   ]
  },
  {
   "cell_type": "code",
   "execution_count": 9,
   "id": "9cf6d68e",
   "metadata": {
    "slideshow": {
     "slide_type": "skip"
    },
    "tags": [
     "hide-input"
    ]
   },
   "outputs": [],
   "source": [
    "%%capture showplot1\n",
    "import numpy as np\n",
    "import matplotlib.pyplot as plt\n",
    "import empylib.nklib as nk\n",
    "\n",
    "lam = np.linspace(0.2,30,1000)                          # espectro de longitudes de onda\n",
    "N1   = nk.SiO2(lam)                                     # índice de refracción\n",
    "eps1 = N1**2                                            # constante dieléctrica\n",
    "\n",
    "# formateamos el lienzo para graficar\n",
    "fig, ax = plt.subplots(1,2)                             # número de ejes en la figura\n",
    "fig.set_size_inches(10, 3)                              # tamaño de la figura\n",
    "plt.rcParams['font.size'] = '10'                        # tamaño de fuente\n",
    "\n",
    "# Graficamos el resultado\n",
    "ax[0].plot(lam,eps1.real,'b',label=r\"$\\varepsilon'$\")   # constante dieléctrica (parte real)\n",
    "ax[0].plot(lam,eps1.imag,'r',label=r\"$\\varepsilon''$\")  # constante dieléctrica (parte imaginaria)\n",
    "ax[1].plot(lam,N1.real,'b',label=r\"$n$\")                # índice de refracción (parte real)\n",
    "ax[1].plot(lam,N1.imag,'r',label=r\"$\\kappa$\")           # índice de refracción (parte imaginaria)\n",
    "\n",
    "for i in [0,1]:\n",
    "    ax[i].set_xlabel('Longitud de onda, $\\lambda$ ($\\mu$m)')\n",
    "    ax[i].grid()\n",
    "    ax[i].legend(frameon=False)\n",
    "ax[0].set_ylabel(r\"Constante dielectrica, $\\varepsilon = \\varepsilon'+ \\varepsilon''$\")\n",
    "ax[1].set_ylabel(r'Indice de refracción, $N = n + i\\kappa$')\n",
    "plt.show()"
   ]
  },
  {
   "cell_type": "code",
   "execution_count": 10,
   "id": "1f22dda2",
   "metadata": {
    "slideshow": {
     "slide_type": "fragment"
    }
   },
   "outputs": [
    {
     "data": {
      "image/png": "[encoded data removed]",
      "text/plain": [
       "<Figure size 1000x300 with 2 Axes>"
      ]
     },
     "metadata": {},
     "output_type": "display_data"
    }
   ],
   "source": [
    "showplot1()"
   ]
  },
  {
   "cell_type": "markdown",
   "id": "3cb654bd",
   "metadata": {
    "slideshow": {
     "slide_type": "slide"
    }
   },
   "source": [
    "### Conductores (modelo de Drude)\n",
    "En este caso los electrónes se mueven libremente por la red atómica."
   ]
  },
  {
   "cell_type": "markdown",
   "id": "d19f5aef",
   "metadata": {
    "slideshow": {
     "slide_type": "fragment"
    }
   },
   "source": [
    "Podemos representar la interacción de los electrones libres con una onda electromagnética utilizando la ecuación de movimiento. En este caso, no hay fuerza de restauración ($kx = 0$), y la ecuación es:\n",
    "\n",
    "\\begin{equation*}\n",
    "m_e\\ddot{x} + m_e\\Gamma_e \\dot{x} = eE_0 e^{-i\\omega t},\n",
    "\\end{equation*}\n",
    "\n",
    "donde $m_e$, $e$ y $\\Gamma_e$ son, respectivamente, la masa, la carga elemental y la taza de decaimiento del electrón."
   ]
  },
  {
   "cell_type": "markdown",
   "id": "710b872b",
   "metadata": {
    "slideshow": {
     "slide_type": "slide"
    }
   },
   "source": [
    "Mediante un procedimiento similar al utilzado para el modelo de Lorentz, derivamos el **modelo de Drude** para conductores:\n",
    "\n",
    "\\begin{equation}\n",
    "\\varepsilon = \\varepsilon_\\infty - \\frac{\\omega_p^2}{\\omega^2 + i\\Gamma_e \\omega},\\quad\\mathrm{Modelo~de~Drude},\n",
    "\\end{equation}\n",
    "\n",
    "donde $\\omega_p^2 = \\frac{N_ee^2}{\\varepsilon_0 m}$ se conoce como frecuencia de plasma, y $N_e$ es la densidad de número de electrones. Similar al modelo de Lorentz, $\\varepsilon_\\infty$ representa la polarización neta del material."
   ]
  },
  {
   "cell_type": "markdown",
   "id": "0ced6571",
   "metadata": {
    "slideshow": {
     "slide_type": "slide"
    }
   },
   "source": [
    "Usaremos la función `drude` del módulo `empylib.nklib` para generar el índice de refracción y constante dielectrica a partir del modelo de Drude. *En el gráfico marcamos el equivalente a $\\omega_p$ en longitud de onda $\\lambda_p = 2\\pi c_0/\\omega_p$.*"
   ]
  },
  {
   "cell_type": "code",
   "execution_count": 11,
   "id": "9f227ccd",
   "metadata": {
    "slideshow": {
     "slide_type": "skip"
    },
    "tags": [
     "hide-input"
    ]
   },
   "outputs": [],
   "source": [
    "import numpy as np\n",
    "import matplotlib.pyplot as plt\n",
    "import empylib.nklib as nk\n",
    "import empylib as em\n",
    "\n",
    "def drude_model(epsinf,wp,gamma):\n",
    "    lam = np.linspace(1E-3,5,1000)    # longitudes de onda\n",
    "\n",
    "    # contruimos el modelo de Drude\n",
    "    N1 = nk.drude(epsinf,wp,gamma,lam)     # índice de refra]cción\n",
    "    eps1 = N1**2                           # constante dieléctrica\n",
    "\n",
    "    # formateamos el lienzo para graficar\n",
    "    fig, ax = plt.subplots(1,2)             # número de ejes en la figura\n",
    "    fig.set_size_inches(10, 3)              # tamaño de la figura\n",
    "    plt.rcParams['font.size'] = '10'        # tamaño de fuente\n",
    "\n",
    "    # graficamos constante dielectrica e índice de refracción\n",
    "    ax[0].plot(lam,eps1.real,'b',label=r\"$\\varepsilon'$\")\n",
    "    ax[0].plot(lam,eps1.imag,'r',label=r\"$\\varepsilon''$\")\n",
    "    ax[1].plot(lam,N1.real,'b',label=r\"$n$\")\n",
    "    ax[1].plot(lam,N1.imag,'r',label=r\"$\\kappa$\")\n",
    "    \n",
    "    # marcar línea de frecuencia natural\n",
    "    lam_p = em.convert_units(wp,'eV','um')\n",
    "    ax[0].axvline(x = lam_p, color='k', ls='--', lw='1.0')  \n",
    "    ax[0].text(lam_p*1.1,-9,r'$\\lambda_p =%.3f$ $\\mu$m' % lam_p, fontsize='10', color='k')\n",
    "\n",
    "    for i in [0,1]:\n",
    "        ax[i].set_xlabel('Longitud de onda, $\\lambda$ ($\\mu$m)')\n",
    "        ax[i].grid()\n",
    "        ax[i].legend(frameon=False)\n",
    "        ax[i].set_xlim(0,5.0)\n",
    "    ax[0].set_ylabel(r\"Constante dielectrica, $\\varepsilon = \\varepsilon'+ \\varepsilon''$\")\n",
    "    ax[1].set_ylabel(r'Indice de refracción, $N = n + i\\kappa$')\n",
    "    ax[0].set_ylim(-10,10)\n",
    "    ax[1].set_ylim(0,5)\n",
    "    plt.show()"
   ]
  },
  {
   "cell_type": "code",
   "execution_count": 12,
   "id": "d16caa41",
   "metadata": {
    "tags": [
     "hide-input"
    ]
   },
   "outputs": [
    {
     "data": {
      "application/vnd.jupyter.widget-view+json": {
       "model_id": "449b4d1b46ac4597a68cd40cb996b94d",
       "version_major": 2,
       "version_minor": 0
      },
      "text/plain": [
       "interactive(children=(FloatSlider(value=1.0, description='epsinf', max=5.0, min=1.0), FloatSlider(value=1.0, d…"
      ]
     },
     "metadata": {},
     "output_type": "display_data"
    }
   ],
   "source": [
    "from ipywidgets import interact\n",
    "\n",
    "@interact( epsinf=(1,5,0.1), \n",
    "           wp=(0.4,2.0,0.05), \n",
    "           gamma=(0.01,0.2,0.01))\n",
    "def g(epsinf=1,wp=1.0, gamma=0.1):\n",
    "    return drude_model(epsinf,wp,gamma)"
   ]
  },
  {
   "cell_type": "markdown",
   "id": "70eb89e5",
   "metadata": {
    "slideshow": {
     "slide_type": "fragment"
    }
   },
   "source": [
    "Notar que en modelo de Drude la condición $\\varepsilon' < 0$ se manifiesta en el índice de refracción como $\\kappa > n$. Esta condición se da cuando $\\lambda_p \\lesssim \\lambda$"
   ]
  },
  {
   "cell_type": "markdown",
   "id": "d5ff724d",
   "metadata": {
    "slideshow": {
     "slide_type": "slide"
    }
   },
   "source": [
    "Cuando $\\kappa > n$ la reflectividad aumenta significativamente. Esto explica la alta reflectividad en los conductores eléctricos"
   ]
  },
  {
   "cell_type": "code",
   "execution_count": 13,
   "id": "acf8f689",
   "metadata": {
    "slideshow": {
     "slide_type": "skip"
    },
    "tags": [
     "hide-input"
    ]
   },
   "outputs": [],
   "source": [
    "%%capture showplot3\n",
    "\n",
    "import numpy as np\n",
    "import matplotlib.pyplot as plt\n",
    "from empylib.waveoptics import interface\n",
    "import empylib as em\n",
    "import empylib.nklib as nk\n",
    "\n",
    "def drude_reflection(epsinf,wp,gamma):\n",
    "    lam = np.linspace(1E-3,5,1000)    # longitudes de onda\n",
    "\n",
    "    # contruimos el modelo de Drude\n",
    "    n2 = nk.drude(epsinf,wp,gamma,lam)     # índice de refracción\n",
    "    \n",
    "    # índice de refracción aire\n",
    "    n1 = np.ones(n2.shape)                    \n",
    "\n",
    "    # Reflectividad en una interface entre un material de Drude y aire\n",
    "    Rp = interface(0,n1,n2, pol='TM')[0] # TM\n",
    "    Rs = interface(0,n1,n2, pol='TE')[0] # TE\n",
    "\n",
    "    # formateamos el lienzo para graficar\n",
    "    fig, ax = plt.subplots(1,2)             # número de ejes en la figura\n",
    "    fig.set_size_inches(10, 3)              # tamaño de la figura\n",
    "    plt.rcParams['font.size'] = '10'        # tamaño de fuente\n",
    "\n",
    "    # graficamos constante dielectrica e índice de refracción\n",
    "    ax[0].plot(lam,n2.real,'b',label=r\"$n$\")\n",
    "    ax[0].plot(lam,n2.imag,'r',label=r\"$\\kappa$\")\n",
    "    ax[1].plot(lam,Rp, label='$R_\\mathrm{TM}$', color='red', lw=3.0)\n",
    "    ax[1].plot(lam,Rs, label='$R_\\mathrm{TE}$', color='blue', lw=2.0, ls='--')\n",
    "    \n",
    "    \n",
    "    # marcar línea de frecuencia natural\n",
    "    lam_p = em.convert_units(wp,'eV','um')\n",
    "    ax[0].axvline(x = lam_p, color='k', ls='--', lw='1.0')  \n",
    "    ax[0].text(lam_p*1.1,4,r'$\\lambda_p =%.3f$ $\\mu$m' % lam_p, fontsize='10', color='k')\n",
    "\n",
    "    for i in [0,1]:\n",
    "        ax[i].set_xlabel('Longitud de onda, $\\lambda$ ($\\mu$m)')\n",
    "        ax[i].grid()\n",
    "        ax[i].legend(frameon=False)\n",
    "        ax[i].set_xlim(0,5.0)\n",
    "    ax[0].set_ylabel(r'Indice de refracción, $N = n + i\\kappa$')\n",
    "    ax[1].set_ylabel('Reflectividad')\n",
    "    ax[0].set_ylim(0,5)\n",
    "    ax[1].set_ylim(0,1.0)\n",
    "    plt.show()"
   ]
  },
  {
   "cell_type": "code",
   "execution_count": 14,
   "id": "a609041d",
   "metadata": {
    "tags": [
     "hide-input"
    ]
   },
   "outputs": [
    {
     "data": {
      "application/vnd.jupyter.widget-view+json": {
       "model_id": "268c15d81b8a461f8f7240dca4f4cdfb",
       "version_major": 2,
       "version_minor": 0
      },
      "text/plain": [
       "interactive(children=(FloatSlider(value=1.0, description='epsinf', max=5.0, min=1.0), FloatSlider(value=1.0, d…"
      ]
     },
     "metadata": {},
     "output_type": "display_data"
    }
   ],
   "source": [
    "from ipywidgets import interact\n",
    "\n",
    "@interact( epsinf=(1,5,0.1), \n",
    "           wp=(0.4,2.0,0.05), \n",
    "           gamma=(0.01,0.2,0.01))\n",
    "def g(epsinf=1,wp=1.0, gamma=0.1):\n",
    "    return drude_reflection(epsinf,wp,gamma)"
   ]
  },
  {
   "cell_type": "markdown",
   "id": "49a27d3c",
   "metadata": {
    "slideshow": {
     "slide_type": "slide"
    }
   },
   "source": [
    "En general, los metales pueden ser bien representados por el modelo de Drude. En general, $\\omega_p$ se ubica en el espectro UV y, por lo tanto, reflejan la luz visible (efecto espejo)"
   ]
  },
  {
   "cell_type": "markdown",
   "id": "8daa8842",
   "metadata": {
    "slideshow": {
     "slide_type": "fragment"
    }
   },
   "source": [
    "Por ejemplo, en el caso de aluminio $\\omega_p = 15~\\mathrm{eV}\\approx 90~\\mathrm{nm}$"
   ]
  },
  {
   "cell_type": "code",
   "execution_count": 15,
   "id": "04cf0f46",
   "metadata": {
    "slideshow": {
     "slide_type": "skip"
    },
    "tags": [
     "hide-input"
    ]
   },
   "outputs": [],
   "source": [
    "%%capture showplot4\n",
    "import numpy as np\n",
    "import matplotlib.pyplot as plt\n",
    "import empylib.nklib as nk\n",
    "\n",
    "# índice de refracción y constante dielectrica aluminio\n",
    "lam = np.linspace(0.01,1.0,1000)        # espectro de longitudes de onda (um)\n",
    "N1 = nk.Al(lam)                         # índice de refracción\n",
    "eps1 = N1**2                            # constante dieléctrica\n",
    "\n",
    "# formateamos el lienzo para graficar\n",
    "fig, ax = plt.subplots(1,2)             # número de ejes en la figura\n",
    "fig.set_size_inches(10, 3)              # tamaño de la figura\n",
    "plt.rcParams['font.size'] = '10'        # tamaño de fuente\n",
    "\n",
    "# graficamos\n",
    "ax[0].plot(lam,eps1.real,'b',label=r\"$\\varepsilon'$\")\n",
    "ax[0].plot(lam,eps1.imag,'r',label=r\"$\\varepsilon''$\")\n",
    "ax[1].plot(lam,N1.real,'b',label=r\"$n$\")\n",
    "ax[1].plot(lam,N1.imag,'r',label=r\"$\\kappa$\")\n",
    "\n",
    "# formateamos los ejes\n",
    "for i in [0,1]:\n",
    "    ax[i].set_xlabel('Longitud de onda, $\\lambda$ ($\\mu$m)')\n",
    "    ax[i].grid()\n",
    "    ax[i].set_xlim(0.01,1.0)\n",
    "    ax[i].legend(frameon=False)\n",
    "ax[0].set_ylabel(r\"Constante dielectrica, $\\varepsilon = \\varepsilon'+ \\varepsilon''$\")\n",
    "ax[1].set_ylabel(r'Indice de refracción, $N = n + i\\kappa$')\n",
    "plt.show()"
   ]
  },
  {
   "cell_type": "code",
   "execution_count": 16,
   "id": "7661a2f2",
   "metadata": {
    "tags": [
     "hide-input"
    ]
   },
   "outputs": [
    {
     "data": {
      "image/png": "[encoded data removed]",
      "text/plain": [
       "<Figure size 1000x300 with 2 Axes>"
      ]
     },
     "metadata": {},
     "output_type": "display_data"
    }
   ],
   "source": [
    "showplot4()"
   ]
  },
  {
   "cell_type": "markdown",
   "id": "b48084ca",
   "metadata": {
    "slideshow": {
     "slide_type": "fragment"
    }
   },
   "source": [
    "Notemos como para $\\lambda \\approx 0.8$ $\\mu$m, la respuesta del material se desvía del modelo de Drude. Esta respuesta esta asociada a un modo de vibración (modelo de Lorentz)."
   ]
  },
  {
   "cell_type": "markdown",
   "id": "5444cb76",
   "metadata": {
    "slideshow": {
     "slide_type": "slide"
    }
   },
   "source": [
    "### Semiconductores (absorción interbanda)"
   ]
  },
  {
   "cell_type": "markdown",
   "id": "86f84d7a",
   "metadata": {
    "cell_style": "split"
   },
   "source": [
    "En este caso las interacciones con ondas electromagnéticas están dictadas por bandas de absorción asociadas a la excitación de electrones de valencia a la banda de conducción. \n",
    "\n",
    "Este fenómeno se conoce como **absorpción interbanda**, y ocurre cuando la energía del fotón $\\hbar\\omega$ ($\\hbar = 6.58\\times 10^16$ eV$\\cdot$s) es superior al bandgap del material."
   ]
  },
  {
   "cell_type": "markdown",
   "id": "e7cf5421",
   "metadata": {
    "cell_style": "split"
   },
   "source": [
    "<img src=\"./images/photoexcited_electrons.png\" width=\"400px\" align= center>"
   ]
  },
  {
   "cell_type": "markdown",
   "id": "ab66c449",
   "metadata": {
    "slideshow": {
     "slide_type": "slide"
    }
   },
   "source": [
    "Los semiconductores son los materiales fundamentales en transistores, LED y celdas fotovoltaicas. El semiconductor más conocido es el silicio (Si).\n",
    "\n",
    "<img src=\"./images/silicon_fig.png\" width=\"800px\" align= center>"
   ]
  },
  {
   "cell_type": "markdown",
   "id": "c2c3cdd1",
   "metadata": {
    "slideshow": {
     "slide_type": "slide"
    }
   },
   "source": [
    "El índice de refracción del silicio es:\n",
    "\n",
    "<img src=\"./images/si_nk.png\" width=\"700px\" align= center>"
   ]
  },
  {
   "cell_type": "markdown",
   "id": "7d6ebbb8",
   "metadata": {
    "slideshow": {
     "slide_type": "slide"
    }
   },
   "source": [
    "En general, los materiales pueden presentar más de un tipo de respuesta."
   ]
  },
  {
   "cell_type": "markdown",
   "id": "a22d914a",
   "metadata": {
    "cell_style": "center",
    "slideshow": {
     "slide_type": "fragment"
    }
   },
   "source": [
    "Por ejemplo, el oro tiene absorción interbanda en longitudes de onda $\\lambda < 0.5$ $\\mu$m, combinado con el modelo de Drude.\n",
    "<img src=\"./images/gold_nk.png\" width=\"800px\" align= center>"
   ]
  },
  {
   "cell_type": "markdown",
   "id": "8383d578",
   "metadata": {
    "cell_style": "center",
    "slideshow": {
     "slide_type": "slide"
    }
   },
   "source": [
    "Debido a esta respuesta, el oro absorbe las longitudes de onda correspondientes al azul y violeta, y refleja el resto de los colores.\n",
    "\n",
    "La siguiente figura muestra el color del oro según el ángulo de incidencia en base al espectro de reflexión de una interface aire/oro."
   ]
  },
  {
   "cell_type": "code",
   "execution_count": 17,
   "id": "3eacd1a1",
   "metadata": {
    "slideshow": {
     "slide_type": "skip"
    },
    "tags": [
     "hide-input"
    ]
   },
   "outputs": [],
   "source": [
    "%%capture showplot5\n",
    "import numpy as np\n",
    "import matplotlib.pyplot as plt\n",
    "from empylib.waveoptics import interface\n",
    "from empylib.ref_spectra import AM15\n",
    "from empylib.ref_spectra import color_system as cs\n",
    "cs = cs.hdtv\n",
    "\n",
    "# creamos índices de refracción\n",
    "lam = np.linspace(0.3,0.8,81)   # espectro de longitudes de onda (en um)\n",
    "n2 = nk.gold(lam)               # índice de refracción oro\n",
    "n1 = np.ones(n2.shape)          # índice de refracción aire\n",
    "\n",
    "# Reflectividad en interface función del ángulo \"tt\"\n",
    "Rp = lambda tt : interface(tt, n1,n2, pol='TM')[0]\n",
    "Rs = lambda tt : interface(tt, n1,n2, pol='TE')[0]\n",
    "\n",
    "# formateamos la figura\n",
    "fig, ax = plt.subplots()                # número de ejes en la figura\n",
    "fig.set_size_inches(6, 3)               # tamaño de la figura\n",
    "plt.rcParams['font.size'] = '12'        # tamaño de fuente        \n",
    "\n",
    "# graficamos el color reflejado según el ángulo de incidencia\n",
    "theta = np.linspace(0,90,100)           # angulo de incidencia\n",
    "for i in range(len(theta)): \n",
    "    R = 0.5*Rp(np.radians(theta[i])) + 0.5*Rs(np.radians(theta[i]))\n",
    "    Irad = R*AM15(lam)\n",
    "    html_rgb = cs.spec_to_rgb(Irad, lam, out_fmt='html')\n",
    "    ax.axvline(theta[i], color=html_rgb, linewidth=6) \n",
    "ax.set_xlim([min(theta),max(theta)])\n",
    "ax.set_ylim([0,1.0])\n",
    "ax.axes.yaxis.set_visible(False)\n",
    "ax.set_xlabel('Ángulo de incidencia (deg)')\n",
    "plt.show()"
   ]
  },
  {
   "cell_type": "code",
   "execution_count": 18,
   "id": "fa43c234",
   "metadata": {
    "tags": [
     "hide-input"
    ]
   },
   "outputs": [
    {
     "data": {
      "image/png": "[encoded data removed]",
      "text/plain": [
       "<Figure size 600x300 with 1 Axes>"
      ]
     },
     "metadata": {},
     "output_type": "display_data"
    }
   ],
   "source": [
    "showplot5()"
   ]
  },
  {
   "cell_type": "markdown",
   "id": "76782c20",
   "metadata": {
    "slideshow": {
     "slide_type": "slide"
    }
   },
   "source": [
    "Otro ejemplo es el dioxido de titanio (TiO$_2$), el cual presenta absorción interbanda en el espectro ultravioleta, y oscilaciones de Lorentz en el infrarojo.\n",
    "\n",
    "<img src=\"./images/tio2_nk.png\" width=\"700px\" align= center>"
   ]
  },
  {
   "cell_type": "markdown",
   "id": "0afa9f3a",
   "metadata": {
    "slideshow": {
     "slide_type": "slide"
    }
   },
   "source": [
    "Debido a la absorcion UV, TiO$_2$ es muy utilizado en cremas para protección solar.\n",
    "\n",
    "<img src=\"./images/tio2_fig.png\" width=\"800px\" align= center>"
   ]
  },
  {
   "cell_type": "markdown",
   "id": "17c1dc23",
   "metadata": {
    "slideshow": {
     "slide_type": "slide"
    }
   },
   "source": [
    "## Referencias\n",
    "- Rao S. S. **Chapter 4 - Vibration Under General Forcing Conditions** in *Mechanical Vibrations*, 6th Ed, Pearson, 2018\n",
    "\n",
    "- Griffths D., **Chapter 4.1 - Polarization** in *Introduction to Electrodynamics*, 4th Ed, Pearson, 2013\n",
    "\n",
    "- Simmons J. and Potter K., **Chapter 2 and 3** in *Optical Materials*, 1st Ed, Academic Press, 2000"
   ]
  }
 ],
 "metadata": {
  "celltoolbar": "Slideshow",
  "kernelspec": {
   "display_name": "Python 3 (ipykernel)",
   "language": "python",
   "name": "python3"
  },
  "language_info": {
   "codemirror_mode": {
    "name": "ipython",
    "version": 3
   },
   "file_extension": ".py",
   "mimetype": "text/x-python",
   "name": "python",
   "nbconvert_exporter": "python",
   "pygments_lexer": "ipython3",
   "version": "3.11.6"
  },
  "latex_envs": {
   "LaTeX_envs_menu_present": false,
   "autoclose": false,
   "autocomplete": false,
   "bibliofile": "biblio.bib",
   "cite_by": "apalike",
   "current_citInitial": 1,
   "eqLabelWithNumbers": true,
   "eqNumInitial": 2,
   "hotkeys": {
    "equation": "Ctrl-E",
    "itemize": "Ctrl-I"
   },
   "labels_anchors": false,
   "latex_user_defs": false,
   "report_style_numbering": false,
   "user_envs_cfg": true
  },
  "rise": {
   "scroll": true
  },
  "toc": {
   "base_numbering": 1,
   "nav_menu": {},
   "number_sections": true,
   "sideBar": true,
   "skip_h1_title": true,
   "title_cell": "Tabla de contenidos",
   "title_sidebar": "Contenidos",
   "toc_cell": false,
   "toc_position": {
    "height": "calc(100% - 180px)",
    "left": "10px",
    "top": "150px",
    "width": "307.2px"
   },
   "toc_section_display": true,
   "toc_window_display": false
  },
  "varInspector": {
   "cols": {
    "lenName": 16,
    "lenType": 16,
    "lenVar": 40
   },
   "kernels_config": {
    "python": {
     "delete_cmd_postfix": "",
     "delete_cmd_prefix": "del ",
     "library": "var_list.py",
     "varRefreshCmd": "print(var_dic_list())"
    },
    "r": {
     "delete_cmd_postfix": ") ",
     "delete_cmd_prefix": "rm(",
     "library": "var_list.r",
     "varRefreshCmd": "cat(var_dic_list()) "
    }
   },
   "types_to_exclude": [
    "module",
    "function",
    "builtin_function_or_method",
    "instance",
    "_Feature"
   ],
   "window_display": false
  }
 },
 "nbformat": 4,
 "nbformat_minor": 5
}
