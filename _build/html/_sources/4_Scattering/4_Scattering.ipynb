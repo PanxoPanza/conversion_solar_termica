{
 "cells": [
  {
   "cell_type": "markdown",
   "id": "8b01ca79",
   "metadata": {
    "slideshow": {
     "slide_type": "slide"
    }
   },
   "source": [
    " <font size=\"6\">MEC501 - Manejo y Conversión de Energía Solar Térmica</font>\n",
    "# 4. Scattering electromagnético\n",
    "<br><br><br><br>\n",
    "Profesor: Francisco Ramírez Cuevas<br>\n",
    "Fecha: 2 de Septiembre 2022"
   ]
  },
  {
   "cell_type": "markdown",
   "id": "99050de2",
   "metadata": {
    "slideshow": {
     "slide_type": "slide"
    }
   },
   "source": [
    "## Interacción de luz según el tamaño de un cuerpo\n",
    "Hasta el momento hemos analizado las ecuaciones de Maxwell y condiciones de borde en coordenadas cartesianas. Estas relaciones se aplican a interfaces rectas. \n"
   ]
  },
  {
   "cell_type": "markdown",
   "id": "56d95413",
   "metadata": {
    "slideshow": {
     "slide_type": "fragment"
    }
   },
   "source": [
    "En el caso de cuerpos curvos, los coeficientes de Fresnel y otras fórmulas relacionadas aún son aplicables, siembre y cuando el radio de curvartura del cuerpo $R \\gg \\lambda$ \n",
    "\n",
    "<img src=\"./images/fresnel_curvature.png\" width=\"500px\" align= center>"
   ]
  },
  {
   "cell_type": "markdown",
   "id": "b005800a",
   "metadata": {
    "slideshow": {
     "slide_type": "slide"
    }
   },
   "source": [
    "### Interacción de luz con cuerpos grandes"
   ]
  },
  {
   "cell_type": "markdown",
   "id": "7766b18c",
   "metadata": {
    "cell_style": "center",
    "slideshow": {
     "slide_type": "fragment"
    }
   },
   "source": [
    "A través de este principio podemos explicar la separación de colores en un arcoiris."
   ]
  },
  {
   "cell_type": "markdown",
   "id": "15af10c3",
   "metadata": {
    "cell_style": "center",
    "slideshow": {
     "slide_type": "fragment"
    }
   },
   "source": [
    "Primero, es importante notar que el índice de refracción del agua en el espectro visible no es constante. Este índice tiene un pequeño grado de dispersión, y decae a medida que la longitud de onda crece. Así, a partir de la ley de Snell, el ángulo de transmisión de cada onda (o color), crece proporcional a la longitud de onda.\n",
    "\n",
    "<img src=\"./images/rainbow_refraction.png\" width=\"600px\" align= center>"
   ]
  },
  {
   "cell_type": "markdown",
   "id": "0c78b889",
   "metadata": {
    "cell_style": "split",
    "slideshow": {
     "slide_type": "slide"
    }
   },
   "source": [
    "Este fenómeno produce que las ondas se separen en el espacio en función de su longitud de onda. \n",
    "\n",
    "En una gota de agua, el efecto de separación de colores se magnifica a medida que la luz se refleja en el interior"
   ]
  },
  {
   "cell_type": "markdown",
   "id": "b3ee402b",
   "metadata": {
    "cell_style": "split",
    "slideshow": {
     "slide_type": "-"
    }
   },
   "source": [
    "<img src=\"./images/rainbows.jpg\" width=\"300px\" align= center>"
   ]
  },
  {
   "cell_type": "markdown",
   "id": "d27753e9",
   "metadata": {
    "slideshow": {
     "slide_type": "slide"
    }
   },
   "source": [
    "### Interacción de luz con cuerpos pequeños"
   ]
  },
  {
   "cell_type": "markdown",
   "id": "f7d7d2d3",
   "metadata": {
    "cell_style": "center"
   },
   "source": [
    "Cuándo las dimensiones del cuerpo, $D$, son comparables a la longitud de onda, el radio de curvatura se hace significativo y las soluciones de las ecuaciones de Maxwell para una interface plana no son aplicables"
   ]
  },
  {
   "cell_type": "markdown",
   "id": "7497a5a6",
   "metadata": {
    "cell_style": "center",
    "slideshow": {
     "slide_type": "fragment"
    }
   },
   "source": [
    "En este caso, se produce el fenómeno de ***scattering* de luz** asociado a la disperción de luz en múltiples direcciones. Además del scattering, tenemos el fenómeno de **absorción de luz** asociada con la porción de la energía incidente absorbida por el objeto. Por último, llamamos **extinción de luz** a la suma de la energía de scattering y absorción.\n",
    "\n",
    "<img src=\"./images/scattering_schematic.png\" width=\"450px\" align= center>"
   ]
  },
  {
   "cell_type": "markdown",
   "id": "4b8f6969",
   "metadata": {
    "slideshow": {
     "slide_type": "slide"
    }
   },
   "source": [
    "## Scattering en esferas (solución de Mie)"
   ]
  },
  {
   "cell_type": "markdown",
   "id": "bdf1e5eb",
   "metadata": {
    "cell_style": "split"
   },
   "source": [
    "Consideremos el modelo simple una onda electromagnética interactuando con una esfera de radio $R$ y diámetro $D$ tal que $D/\\lambda \\sim 1$\n",
    "<img src=\"./images/em_wave_sphere.png\" width=\"300px\" align= center>"
   ]
  },
  {
   "cell_type": "markdown",
   "id": "1787319d",
   "metadata": {
    "cell_style": "split",
    "slideshow": {
     "slide_type": "fragment"
    }
   },
   "source": [
    "Llamaremos al índice de refracción de la esfera $N_p$, y al índice de refracción del exterior $N_h$. \n",
    "\n",
    "En este caso asumimos que el índice de refracción del exterior no tiene componente compleja, es decir $N_h = n_h$\n",
    "\n",
    "El espacio está definido en coordenadas esféricas, donde:\n",
    "\n",
    "- $\\theta$: ángulo cenital\n",
    "- $\\phi$: ángulo azimutal\n",
    "- $r$: posición radial"
   ]
  },
  {
   "cell_type": "markdown",
   "id": "ff230cb4",
   "metadata": {
    "slideshow": {
     "slide_type": "slide"
    }
   },
   "source": [
    "La solución, propuesta por Gustav Mie, se basa una expansión en serie de ondas esféricas $\\vec{M}_{lm}(r, \\theta,\\phi)$ y $\\vec{N}_{lm}(r, \\theta,\\phi)$ (más información en las referencias)."
   ]
  },
  {
   "cell_type": "markdown",
   "id": "00dd556b",
   "metadata": {
    "slideshow": {
     "slide_type": "fragment"
    }
   },
   "source": [
    "Por ejemplo, la componente del campo eléctrico correspondiente al scattering, $\\vec{E}_\\mathrm{sca}$ es:\n",
    "\n",
    "\\begin{equation*}\n",
    "\\vec{E}_\\mathrm{sca}(r, \\theta,\\phi) = \\sum_{l=1}^\\infty \\mathrm{Im}\\left[E_0\\frac{2l+1}{l(l+1)}i^l\\left(a_l \\vec{N}_{l1}^{(3)} - b_l \\vec{M}_{l1}^{(3)}\\right)\\right]\n",
    "\\end{equation*}\n",
    "\n",
    "donde los coeficientes $a_l$ y $b_l$ están dados por la funciones de Ricatti-Bessel, $\\psi(x)$ y $\\xi(x)$, en la forma:\n",
    "\n",
    "\\begin{equation*}\n",
    "a_l = \\frac{p\\psi_l(px)\\psi'_l(x) - \\psi_l(x)\\psi'_l(px)}{p\\psi_l(px)\\xi'_l(x) - \\xi_l(x)\\psi'_l(px)},\n",
    "\\quad\\quad\\quad\n",
    "b_l = \\frac{\\psi_l(px)\\psi'_l(x) - p\\psi_l(x)\\psi'_l(px)}{\\psi_l(px)\\xi'_l(x) - p\\xi_l(x)\\psi'_l(px)},\n",
    "\\end{equation*}\n",
    "\n",
    "donde $x = n_hk_0R$, y $p = N_p/n_h$. "
   ]
  },
  {
   "cell_type": "markdown",
   "id": "39069dbf",
   "metadata": {
    "slideshow": {
     "slide_type": "fragment"
    }
   },
   "source": [
    "El campo magnético está dado por $\\vec{H}_\\mathrm{sca} = \\frac{n_h}{Z_0} \\left(\\hat{k}\\times\\vec{E}_\\mathrm{sca}\\right)$."
   ]
  },
  {
   "cell_type": "markdown",
   "id": "77329e9e",
   "metadata": {
    "slideshow": {
     "slide_type": "slide"
    }
   },
   "source": [
    "A partir de la solución de Mie, deducimos que la intensidad y distribución del scattering electromagnético depende de dos parámetros: \n",
    "- $x = n_hk_0R\\approx D/\\lambda_h$, que representa la proporción entre el tamaño de la particula ($D$) y la longitud de onda en el medio circundante ($\\lambda_h= \\lambda_0/n_h$)\n",
    "\n",
    "- $px = N_pk_0R\\approx D/\\lambda_p$ que representa la proporción entre el tamaño de la particula y la longitud de onda dentro de la partícula ($\\lambda_p=\\lambda_0/n_p$)."
   ]
  },
  {
   "cell_type": "markdown",
   "id": "eb14239d",
   "metadata": {
    "slideshow": {
     "slide_type": "slide"
    }
   },
   "source": [
    "### Distribución del campo eléctrico\n",
    "A partir de esta solución, podemos visualizar la distribución del campo eléctrico durante el fenómeno de scattering."
   ]
  },
  {
   "cell_type": "markdown",
   "id": "0ad88295",
   "metadata": {
    "slideshow": {
     "slide_type": "slide"
    }
   },
   "source": [
    "La siguiente figura representa el scattering electromagnético a partir de la solución de Mie. La dirección de la onda incidente es $\\hat{k}_\\mathrm{inc} = \\hat{x}$, con el campo eléctrico polarizado en dirección $\\hat{e}=\\hat{z}$. En la figura de la izquierda mostramos la distribución del campo electrico total, es decir el campo eléctrico incidente ($\\vec{E}_\\mathrm{inc}$) y de scattering ($\\vec{E}_\\mathrm{sca}$). En la figura de la derecha, hemos removido $\\vec{E}_\\mathrm{inc}$ para poder visualizar $\\vec{E}_\\mathrm{sca}$\n",
    "\n",
    "<img src=\"./images/scattering_distribution.png\" width=\"600px\" align= center>"
   ]
  },
  {
   "cell_type": "markdown",
   "id": "24f65049",
   "metadata": {
    "slideshow": {
     "slide_type": "fragment"
    }
   },
   "source": [
    "Utilizando la dirección de la onda incidente como referencia, podemos ver que la intensidad del scattering es mayor hacia adelante ($\\theta = 0^o$) y decrece a medida de $\\theta$ aumenta. Debido a la simetría axial, el scattering no varía en $\\phi$."
   ]
  },
  {
   "cell_type": "markdown",
   "id": "397916f2",
   "metadata": {
    "slideshow": {
     "slide_type": "slide"
    }
   },
   "source": [
    "En general, la distribución del scattering depende del tamaño de la partícula en relación la longitud de onda.\n",
    "\n",
    "<img src=\"./images/scattering_vs_size.png\" width=\"550px\" align= center>"
   ]
  },
  {
   "cell_type": "markdown",
   "id": "d104d5f8",
   "metadata": {
    "slideshow": {
     "slide_type": "fragment"
    }
   },
   "source": [
    "Particularmente, cuando $D/\\lambda \\ll 1$, se denomina Rayleight scattering. En este caso el campo scattering está distribuido uniformemente alrededor de la partícula"
   ]
  },
  {
   "cell_type": "markdown",
   "id": "4987cb6c",
   "metadata": {
    "slideshow": {
     "slide_type": "slide"
    }
   },
   "source": [
    "### Flujo de energía\n",
    "Al igual que con el estudio de reflexión y transmisión, la solución $\\vec{E}_\\mathrm{sca}$ nos permite determinar el **Flujo de energía** a través del vector de Poyinting $\\langle\\vec{S_\\mathrm{sca}}\\rangle = \\frac{1}{2}\\mathrm{Re}\\left(\\vec{E}_\\mathrm{sca}\\times\\vec{H}^*_\\mathrm{sca}\\right)~\\mathrm{[W/m^2]}$."
   ]
  },
  {
   "cell_type": "markdown",
   "id": "27daedca",
   "metadata": {
    "cell_style": "center",
    "slideshow": {
     "slide_type": "fragment"
    }
   },
   "source": [
    "Notar que, en general, $\\langle\\vec{S_\\mathrm{sca}}\\rangle$ varía según $\\theta$, $\\phi$ y $r$.\n",
    "\n",
    "<img src=\"./images/poynting_vector.png\" width=\"300px\" align= center>"
   ]
  },
  {
   "cell_type": "markdown",
   "id": "58c21249",
   "metadata": {
    "cell_style": "center",
    "slideshow": {
     "slide_type": "slide"
    }
   },
   "source": [
    "La potencia neta por scattering, $W_\\mathrm{sca}$ se obtiene integrando $\\langle\\vec{S_\\mathrm{sca}}\\rangle$ sobre la superticie de la esfera:\n",
    "\n",
    "\\begin{align*}\n",
    "W_\\mathrm{sca} &= \\oint_{S} \\langle\\vec{S_\\mathrm{sca}}\\rangle\\cdot\\hat{r}dS \n",
    "\\\\\n",
    "&= \\int_0^{2\\pi}\\int_0^{\\pi} \\left[\\langle\\vec{S_\\mathrm{sca}}\\rangle \\cdot \\hat{r}\\right]R^2 \\sin\\theta d\\theta~d\\phi\n",
    "\\\\\n",
    "&= I_\\mathrm{inc}~2\\pi\\int_0^{\\pi}  P_\\mathrm{sca}(\\theta) \\sin\\theta d\\theta\n",
    "\\quad\\mathrm{[W]}\n",
    "\\end{align*}"
   ]
  },
  {
   "cell_type": "markdown",
   "id": "ba0211bb",
   "metadata": {
    "slideshow": {
     "slide_type": "fragment"
    }
   },
   "source": [
    "donde $I_\\mathrm{inc} = \\frac{n_hE_0}{2Z_0}~\\mathrm{[W/m^2]}$ es el flujo de energía incidente, y $P_\\mathrm{sca}(\\theta)  = \\frac{R^2}{I_\\mathrm{inc}}\\left[\\langle\\vec{S_\\mathrm{sca}}\\rangle \\cdot \\hat{r}\\right]$, es la **función de distribución de scattering** o **función de fase**."
   ]
  },
  {
   "cell_type": "markdown",
   "id": "469391ad",
   "metadata": {
    "slideshow": {
     "slide_type": "slide"
    }
   },
   "source": [
    "**La función de fase se define como la energía de scattering relativo a la intencidad de la onda incidente por unidad de ángulo sólido $d\\Omega = \\sin\\theta d\\theta d\\phi$**. "
   ]
  },
  {
   "attachments": {},
   "cell_type": "markdown",
   "id": "5f4261fd",
   "metadata": {
    "slideshow": {
     "slide_type": "fragment"
    }
   },
   "source": [
    "En otras palabras, para una onda incidente con intensidad $I_\\mathrm{inc}$, la energía de scattering en dirección $\\theta$ es $I_\\mathrm{inc} P_\\mathrm{sca}(\\theta)d\\Omega$\n",
    "\n",
    "<img src=\"./images/phase_function.png\" width=\"300px\" align= center>"
   ]
  },
  {
   "cell_type": "markdown",
   "id": "af4956b5",
   "metadata": {
    "slideshow": {
     "slide_type": "slide"
    }
   },
   "source": [
    "Mediante un proceso similar, podemos determinar la potencia extinguida, $W_\\mathrm{ext}$, a partir del campo total $\\vec{E}_\\mathrm{tot} = \\vec{E}_\\mathrm{inc} + \\vec{E}_\\mathrm{sca}$"
   ]
  },
  {
   "cell_type": "markdown",
   "id": "69038bc2",
   "metadata": {
    "slideshow": {
     "slide_type": "fragment"
    }
   },
   "source": [
    "Al igual que con los coeficientes de Fresnel, es común definir la energía relativa a $I_\\mathrm{inc}$:\n",
    "\n",
    "\\begin{eqnarray*}\n",
    "C_\\mathrm{sca} &=& \\frac{W_\\mathrm{sca}}{I_\\mathrm{inc}} = \\frac{2\\pi}{k^2}\\sum_{l=1}^\\infty (2l+1)\\left(|a_l|^2 + |b_l|^2\\right)&\\quad&\\mathrm{[m^2]}\n",
    "\\\\[10pt]\n",
    "C_\\mathrm{ext} &=& \\frac{W_\\mathrm{ext}}{I_\\mathrm{inc}} = \\frac{2\\pi}{k^2}\\sum_{l=1}^\\infty (2l+1)\\mathrm{Re}\\left(a_l + b_l\\right)&\\quad&\\mathrm{[m^2]}\n",
    "\\end{eqnarray*}\n",
    "\n",
    "debido a que $C_\\mathrm{sca}$ y $C_\\mathrm{ext}$ están definidos en unidades de área, se denominan **sección transversal de scattering y extinción, respectivamente**."
   ]
  },
  {
   "cell_type": "markdown",
   "id": "7d4f9d5d",
   "metadata": {
    "slideshow": {
     "slide_type": "fragment"
    }
   },
   "source": [
    "Por conservación de energía, la sección transversal de absorción, $C_\\mathrm{abs} = C_\\mathrm{ext} - C_\\mathrm{sca}$."
   ]
  },
  {
   "cell_type": "markdown",
   "id": "e1be4fc1",
   "metadata": {
    "slideshow": {
     "slide_type": "slide"
    }
   },
   "source": [
    "### Parámetro de asimetría\n",
    "El parámetro de asimetría, $\\mu_\\mathrm{sca} \\in [-1,1]$, nos permite cuantificar la anisotropía en la distribución del scattering.\n",
    "\n",
    "<img src=\"./images/asymmetry_parameter.png\" width=\"550px\" align= center>"
   ]
  },
  {
   "cell_type": "markdown",
   "id": "d1aa1d5a",
   "metadata": {
    "slideshow": {
     "slide_type": "slide"
    }
   },
   "source": [
    "En el caso de esferas, se define por:\n",
    "\n",
    "\\begin{equation*}\n",
    "\\mu_\\mathrm{sca} = \\frac{4\\pi}{k^2C_\\mathrm{sca}}\\left[\n",
    "\\sum_{l=1}^\\infty \\frac{l(l+2)}{l+1}\\mathrm{Re}\\left(a_la_{l+1}^* + b_lb_{l+1}^*\\right) +\n",
    "\\sum_{l=1}^\\infty\\frac{2l+1}{l(l+1)}\\mathrm{Re}\\left(a_lb_l^*\\right)\n",
    "\\right]\n",
    "\\end{equation*}"
   ]
  },
  {
   "cell_type": "markdown",
   "id": "f73477df",
   "metadata": {
    "slideshow": {
     "slide_type": "slide"
    }
   },
   "source": [
    "## Analisis de scattering"
   ]
  },
  {
   "cell_type": "markdown",
   "id": "cfa255e7",
   "metadata": {
    "slideshow": {
     "slide_type": "-"
    }
   },
   "source": [
    "Los parámetros $C_\\mathrm{sca}$, $C_\\mathrm{abs}$ y $C_\\mathrm{ext}$ permiten cuantificar la energía de scattering, absorción y extinción relativa a la intensidad de la fuente $I_\\mathrm{inc}$, así como también su distribución en el espectro."
   ]
  },
  {
   "cell_type": "markdown",
   "id": "c2a9f532",
   "metadata": {
    "slideshow": {
     "slide_type": "slide"
    }
   },
   "source": [
    "### Particulas con índice de refracción real (dieléctricos)"
   ]
  },
  {
   "cell_type": "markdown",
   "id": "0918766f",
   "metadata": {
    "cell_style": "center",
    "slideshow": {
     "slide_type": "fragment"
    }
   },
   "source": [
    "Por ejemplo, analicemos el scattering de una esfera de agua ($N_p\\approx 1.33$) en el aire ($n_h = 1.0$).\n",
    "\n",
    "Notar que $N_p\\approx 1.33$ implica $C_\\mathrm{abs} = 0$"
   ]
  },
  {
   "cell_type": "code",
   "execution_count": 20,
   "id": "74039cb4",
   "metadata": {
    "cell_style": "center",
    "slideshow": {
     "slide_type": "slide"
    }
   },
   "outputs": [],
   "source": [
    "%%capture show_plot\n",
    "import empylib.miescattering as mie\n",
    "import matplotlib.pyplot as plt\n",
    "import numpy as np\n",
    "\n",
    "lam = np.linspace(0.3,1.4,200)  # espectro de longitudes de onda\n",
    "nh = 1.0                        # índice de refracción del material circundante\n",
    "Np = 1.33                       # índice de refracción de la partícula\n",
    "D = [0.1, 0.3, 0.5, 0.7, 1.0]   # distribución de diámetros \n",
    "\n",
    "fig, ax = plt.subplots()                # creamos ejes para graficar\n",
    "colors = plt.cm.jet(np.linspace(0,1,len(D))) # set de colores para las curvas\n",
    "for i in range(len(D)):\n",
    "    Ac = np.pi*D[i]**2/4                # área transversal de la partícula\n",
    "    Qsca = mie.scatter_efficiency(lam,nh,Np,D[i])[1] # determinamos Csca/Ac\n",
    "    ax.plot(lam,Qsca*Ac,'-', color=colors[i], label=('%i' % (D[i]*1E3))) # grafico Csca\n",
    "\n",
    "# etiquetas de ejes y formateo de la figura\n",
    "fig.set_size_inches(7, 5)         # tamaño de figura\n",
    "plt.rcParams['font.size'] = '16'   # tamaño de fuente\n",
    "ax.set_xlabel(r'Longitud de onda, $\\lambda$ ($\\mu$m)')\n",
    "ax.set_title('scattering partícula de agua', fontsize=18)\n",
    "ax.set_ylabel(r'$C_\\mathrm{sca} / \\pi R^2$')\n",
    "ax.legend(frameon=False, title=r'$D$ ($\\mu$m)')\n",
    "plt.show"
   ]
  },
  {
   "cell_type": "code",
   "execution_count": 21,
   "id": "63c0f595",
   "metadata": {
    "cell_style": "split",
    "slideshow": {
     "slide_type": "slide"
    }
   },
   "outputs": [
    {
     "data": {
      "text/plain": [
       "<function matplotlib.pyplot.show(close=None, block=None)>"
      ]
     },
     "metadata": {},
     "output_type": "display_data"
    },
    {
     "data": {
      "image/png": "[encoded data removed]",
      "text/plain": [
       "<Figure size 504x360 with 1 Axes>"
      ]
     },
     "metadata": {
      "needs_background": "light"
     },
     "output_type": "display_data"
    }
   ],
   "source": [
    "show_plot()"
   ]
  },
  {
   "cell_type": "markdown",
   "id": "a5cdd78f",
   "metadata": {
    "cell_style": "split",
    "slideshow": {
     "slide_type": "fragment"
    }
   },
   "source": [
    "A partir de este gráfico podemos identificar algunos patrones comúnes en scattering:\n",
    "- La energía de scattering aumenta con el tamaño de la partícula\n",
    "\n",
    "- A medida que el tamaño aumenta, la longitud de onda para scattering máximo crece (*red-shifting*)"
   ]
  },
  {
   "cell_type": "markdown",
   "id": "ae7061c2",
   "metadata": {
    "cell_style": "center",
    "slideshow": {
     "slide_type": "fragment"
    }
   },
   "source": [
    "Esta es una característica general del scattering de partículas dieléctricas."
   ]
  },
  {
   "cell_type": "markdown",
   "id": "a13c9cab",
   "metadata": {
    "slideshow": {
     "slide_type": "slide"
    }
   },
   "source": [
    "A partir de este gráfico podemos entender muchas situaciones de la vida cotidiana."
   ]
  },
  {
   "cell_type": "markdown",
   "id": "953be28f",
   "metadata": {
    "cell_style": "center",
    "slideshow": {
     "slide_type": "fragment"
    }
   },
   "source": [
    "Por ejemplo, en la niebla las partículas de agua tienen un tamaño microscópico ($D\\sim 1\\mu$m) y, por lo tanto, dispersan la mayor parte de la luz visible.\n",
    "\n",
    "<img src=\"./images/difuse_and_specular.png\" width=\"600px\" align= center>"
   ]
  },
  {
   "cell_type": "markdown",
   "id": "bcfb4f62",
   "metadata": {
    "slideshow": {
     "slide_type": "fragment"
    }
   },
   "source": [
    "Para un haz de luz incidente en un medio con partículas, llamamos **componente difusa** a la porción de la luz dispersada por scattering, y como **componente especular** a la porción no dispersada."
   ]
  },
  {
   "cell_type": "markdown",
   "id": "4a0d3208",
   "metadata": {
    "slideshow": {
     "slide_type": "slide"
    }
   },
   "source": [
    "En el cielo, en cambio, las moleculas del aire son mucho más pequeñas, y el scattering es más intenso para ondas en el espectro del color azul y violeta ($\\lambda < 450$ nm)\n",
    "\n",
    "<img src=\"./images/sky_scattering.png\" width=\"600px\" align= center>"
   ]
  },
  {
   "cell_type": "markdown",
   "id": "be33329b",
   "metadata": {
    "slideshow": {
     "slide_type": "fragment"
    }
   },
   "source": [
    "La componente difusa, así, corresponde a los colores azul y violeta. La componente especular, corresponde al resto de los colores del espectro visible. El fenómeno expica el color azul del cielo durante el día."
   ]
  },
  {
   "cell_type": "markdown",
   "id": "1bb02545",
   "metadata": {
    "slideshow": {
     "slide_type": "slide"
    }
   },
   "source": [
    "### Parículas metálicas"
   ]
  },
  {
   "cell_type": "markdown",
   "id": "021b751a",
   "metadata": {
    "slideshow": {
     "slide_type": "fragment"
    }
   },
   "source": [
    "El naturaleza del scattering es diferente para los metales. En este caso, el movimiento libre de los electrones genera acumulación de carga en la superficie de la partícula. Como resultado, la partícula se polariza generando fenómenos de resonancia en determinadas longitudes de onda.\n",
    "\n",
    "<img src=\"./images/surface_plasmon.png\" width=\"350px\" align= center>"
   ]
  },
  {
   "cell_type": "markdown",
   "id": "e73bc4ee",
   "metadata": {
    "slideshow": {
     "slide_type": "slide"
    }
   },
   "source": [
    "En la siguiente figura, graficamos $C_\\mathrm{sca}$ y $C_\\mathrm{abs}$ para partículas de distinto diámetro. Ambas variables son normalizadas por al área transversal de la esfera $\\pi R^2$, para mejor comparación entre esferas de distintas dimensiones."
   ]
  },
  {
   "cell_type": "code",
   "execution_count": 14,
   "id": "33c22ebd",
   "metadata": {
    "slideshow": {
     "slide_type": "slide"
    }
   },
   "outputs": [],
   "source": [
    "%%capture show_plot\n",
    "import empylib.miescattering as mie\n",
    "import empylib.nklib as nk\n",
    "import matplotlib.pyplot as plt\n",
    "import numpy as np\n",
    "\n",
    "lam = np.linspace(0.2,0.8,200)     # espectro de longitudes de onda\n",
    "nh = 1.0                           # índice de refracción del material circundante\n",
    "Np = nk.silver(lam)                # índice de refracción de la partícula\n",
    "D = [0.01, 0.02, 0.05, 0.08, 0.1]  # distribución de diámetros \n",
    "\n",
    "fig, ax = plt.subplots(1,2)        # creamos ejes para graficar\n",
    "colors = plt.cm.jet(np.linspace(0,1,len(D))) # set de colores para las curvas\n",
    "for i in range(len(D)):\n",
    "    Qext, Qsca = mie.scatter_efficiency(lam,nh,Np,D[i])[0:2] # determinamos Cext/Ac y Csca/Ac\n",
    "    Qabs = Qext - Qsca\n",
    "    ax[0].plot(lam,Qsca,'-', color=colors[i], label=('%i' % (D[i]*1E3))) # grafico Csca/Ac\n",
    "    ax[1].plot(lam,Qabs,'-', color=colors[i], label=('%i' % (D[i]*1E3))) # grafico Cabs/Ac\n",
    "\n",
    "# etiquetas de ejes y formateo de la figura\n",
    "fig.set_size_inches(14, 5)         # tamaño de figura\n",
    "plt.rcParams['font.size'] = '16'   # tamaño de fuente\n",
    "\n",
    "for i in range(2):\n",
    "    ax[i].set_xlabel(r'Longitud de onda, $\\lambda$ ($\\mu$m)')\n",
    "\n",
    "ax[0].set_title('scattering partícula de plata', fontsize=18)\n",
    "ax[0].set_ylabel(r'$C_\\mathrm{sca} / \\pi R^2$')\n",
    "ax[1].set_title('absorción partícula de plata', fontsize=18)\n",
    "ax[1].set_ylabel(r'$C_\\mathrm{abs} / \\pi R^2$')\n",
    "ax[1].legend(frameon=False, title=r'D (nm)')\n",
    "plt.show"
   ]
  },
  {
   "cell_type": "code",
   "execution_count": 15,
   "id": "62be0cc4",
   "metadata": {
    "cell_style": "center",
    "slideshow": {
     "slide_type": "slide"
    }
   },
   "outputs": [
    {
     "data": {
      "text/plain": [
       "<function matplotlib.pyplot.show(close=None, block=None)>"
      ]
     },
     "metadata": {},
     "output_type": "display_data"
    },
    {
     "data": {
      "image/png": "[encoded data removed]",
      "text/plain": [
       "<Figure size 1008x360 with 2 Axes>"
      ]
     },
     "metadata": {
      "needs_background": "light"
     },
     "output_type": "display_data"
    }
   ],
   "source": [
    "show_plot()"
   ]
  },
  {
   "cell_type": "markdown",
   "id": "a4b843bc",
   "metadata": {
    "slideshow": {
     "slide_type": "fragment"
    }
   },
   "source": [
    "- Para $D < 20$ nm, $C_\\mathrm{sca}$ es despreciable en comparación con $C_\\mathrm{abs}$. El peak en $C_\\mathrm{abs}$ es el resultado de la resonancia del sistema, similar al modelo de Lorentz.\n",
    "\n",
    "- Para $D > 50$ nm, $C_\\mathrm{sca}$ crece significativamente, superando $C_\\mathrm{abs}$ para $D > 80$ nm.\n",
    "\n"
   ]
  },
  {
   "cell_type": "markdown",
   "id": "be282a8a",
   "metadata": {
    "slideshow": {
     "slide_type": "fragment"
    }
   },
   "source": [
    "Este fenómeno se repite en otros metales, aunque con distintas magnitudes y frecuencias de resonancia."
   ]
  },
  {
   "cell_type": "markdown",
   "id": "c73f99cf",
   "metadata": {
    "slideshow": {
     "slide_type": "slide"
    }
   },
   "source": [
    "El efecto de de scattering en nanopartículas metálicas permite explicar el cambio en los colores en la copa de Lycurgus.\n",
    "\n",
    "<img src=\"./images/LycurgusCup.jpg\" width=\"300px\" align= center>"
   ]
  },
  {
   "cell_type": "markdown",
   "id": "a17f95a8",
   "metadata": {},
   "source": [
    "Esta copa del periodo romano, esta compuesta de vidrio con nanopartícula de oro y plata en forma de coloides. "
   ]
  },
  {
   "cell_type": "markdown",
   "id": "17c1dc23",
   "metadata": {
    "slideshow": {
     "slide_type": "slide"
    }
   },
   "source": [
    "## Referencias\n",
    "- Bohren C. and Huffman D. **Chapter 4 - Absorption and Scattering by a Sphere** in *Absorption and Scattering of Light by Small Particles*, 1st Ed, John Wiley & Sons, 1983\n",
    "\n",
    "- Jackson. J. D., **Chapter 10 - Scattering and Diffraction** in *Classical Electrodynamics*, 3th Ed, John Wiley & Sons, 1999"
   ]
  }
 ],
 "metadata": {
  "celltoolbar": "Slideshow",
  "kernelspec": {
   "display_name": "Python 3 (ipykernel)",
   "language": "python",
   "name": "python3"
  },
  "language_info": {
   "codemirror_mode": {
    "name": "ipython",
    "version": 3
   },
   "file_extension": ".py",
   "mimetype": "text/x-python",
   "name": "python",
   "nbconvert_exporter": "python",
   "pygments_lexer": "ipython3",
   "version": "3.9.13"
  },
  "latex_envs": {
   "LaTeX_envs_menu_present": false,
   "autoclose": false,
   "autocomplete": false,
   "bibliofile": "biblio.bib",
   "cite_by": "apalike",
   "current_citInitial": 1,
   "eqLabelWithNumbers": true,
   "eqNumInitial": 2,
   "hotkeys": {
    "equation": "Ctrl-E",
    "itemize": "Ctrl-I"
   },
   "labels_anchors": false,
   "latex_user_defs": false,
   "report_style_numbering": false,
   "user_envs_cfg": true
  },
  "toc": {
   "base_numbering": 1,
   "nav_menu": {},
   "number_sections": false,
   "sideBar": true,
   "skip_h1_title": true,
   "title_cell": "Tabla de contenidos",
   "title_sidebar": "Contenidos",
   "toc_cell": false,
   "toc_position": {
    "height": "calc(100% - 180px)",
    "left": "10px",
    "top": "150px",
    "width": "307.2px"
   },
   "toc_section_display": true,
   "toc_window_display": false
  },
  "varInspector": {
   "cols": {
    "lenName": 16,
    "lenType": 16,
    "lenVar": 40
   },
   "kernels_config": {
    "python": {
     "delete_cmd_postfix": "",
     "delete_cmd_prefix": "del ",
     "library": "var_list.py",
     "varRefreshCmd": "print(var_dic_list())"
    },
    "r": {
     "delete_cmd_postfix": ") ",
     "delete_cmd_prefix": "rm(",
     "library": "var_list.r",
     "varRefreshCmd": "cat(var_dic_list()) "
    }
   },
   "types_to_exclude": [
    "module",
    "function",
    "builtin_function_or_method",
    "instance",
    "_Feature"
   ],
   "window_display": false
  }
 },
 "nbformat": 4,
 "nbformat_minor": 5
}
