{
 "cells": [
  {
   "cell_type": "markdown",
   "id": "8b01ca79",
   "metadata": {
    "slideshow": {
     "slide_type": "slide"
    }
   },
   "source": [
    "# Radiación Solar"
   ]
  },
  {
   "cell_type": "markdown",
   "id": "19cac0b7",
   "metadata": {
    "slideshow": {
     "slide_type": "slide"
    }
   },
   "source": [
    "## Ángulos solares"
   ]
  },
  {
   "cell_type": "markdown",
   "id": "2e28e273",
   "metadata": {
    "slideshow": {
     "slide_type": "slide"
    }
   },
   "source": [
    "### Características de la órbita de la tierra\n",
    "- La órbita de la tierra aproximadamente circular, con una pequeña excentricidad ($e = 1.673$%).\n",
    "- La distancia entre el sol y la tierra está dada por: $d_\\mathrm{e-s} = 1.495\\times 10^{11}~\\mathrm{m}\\pm 1.7$%.\n",
    "- El eje de la tierra está inclinado 23.45° del plano ecliptico (plano de la órbida de la tiera)"
   ]
  },
  {
   "cell_type": "markdown",
   "id": "cf367716",
   "metadata": {
    "cell_style": "center",
    "slideshow": {
     "slide_type": "fragment"
    }
   },
   "source": [
    "<img src=\"./images/earth_orbit.png\" width=\"600px\" align= center>"
   ]
  },
  {
   "cell_type": "markdown",
   "id": "4888eb83",
   "metadata": {
    "slideshow": {
     "slide_type": "slide"
    }
   },
   "source": [
    "### Trayectoria del sol\n",
    "A raíz de estas caracteristicas, **la trayectoria del sol vista desde la tierra forma un arco**. En el hemisferio sur de la tierra, este arco aparece desplazado hacia el norte(sur) del eje Este-Oeste en el solsticio del 21 de junio (21 de diciembre). En el hemisferio norte ocurre lo opuesto. Durante los equinoccios el arco está centrado en el eje Este-Oeste independiente del lado del hemisferio."
   ]
  },
  {
   "cell_type": "markdown",
   "id": "c0c38bda",
   "metadata": {},
   "source": [
    "<img src=\"./images/sun_trayectory.png\" width=\"600px\" align= center>"
   ]
  },
  {
   "cell_type": "markdown",
   "id": "16712409",
   "metadata": {
    "slideshow": {
     "slide_type": "slide"
    }
   },
   "source": [
    "### Posición del sol en coordenadas ecuatoriales\n",
    "Utilizando el plano ecuatorial como referencia, podemos definir la posición del sol respecto a dos ángulos, **declinación solar** y **ascención recta**"
   ]
  },
  {
   "cell_type": "markdown",
   "id": "e40dbdb4",
   "metadata": {
    "cell_style": "split",
    "slideshow": {
     "slide_type": "-"
    }
   },
   "source": [
    "<img src=\"./images/solar_position_ecuator.png\" width=\"400px\" align= center>"
   ]
  },
  {
   "cell_type": "markdown",
   "id": "4e10fa4d",
   "metadata": {
    "cell_style": "split",
    "slideshow": {
     "slide_type": "fragment"
    }
   },
   "source": [
    "\n",
    "- La **declinación solar, $\\delta$** corresponde al ángulo vertical medido desde el plano ecuatorial. "
   ]
  },
  {
   "cell_type": "markdown",
   "id": "23d9026d",
   "metadata": {
    "cell_style": "split",
    "slideshow": {
     "slide_type": "fragment"
    }
   },
   "source": [
    "- La **ascención recta, $\\mathrm{AR}$** se define como el ángulo horizontal en referencia al eje del equinoccio vernal (21 de marzo), también conocido como punto de aries. Se mide en horas, con 1 hora equivalente a 15°."
   ]
  },
  {
   "cell_type": "markdown",
   "id": "861ca6ee",
   "metadata": {
    "cell_style": "split",
    "slideshow": {
     "slide_type": "fragment"
    }
   },
   "source": [
    "En el equinoxio del 21 de marzo, $\\delta \\approx 0°$ y $\\mathrm{AR}\\approx 0$ h"
   ]
  },
  {
   "cell_type": "markdown",
   "id": "19b4b51b",
   "metadata": {
    "cell_style": "center",
    "slideshow": {
     "slide_type": "slide"
    }
   },
   "source": [
    "La declinación solar esta asociada con la inclinación del eje polar respecto al plano eclíptico.\n",
    "<img src=\"./images/schematic_declination.png\" width=\"900px\" align= center>"
   ]
  },
  {
   "cell_type": "markdown",
   "id": "692db175",
   "metadata": {
    "cell_style": "center",
    "slideshow": {
     "slide_type": "fragment"
    }
   },
   "source": [
    "<img src=\"./images/declination_year.png\" width=\"500px\" align= center>"
   ]
  },
  {
   "cell_type": "markdown",
   "id": "9fd326b0",
   "metadata": {
    "slideshow": {
     "slide_type": "slide"
    }
   },
   "source": [
    "### Posición del sol respecto al plano horizontal local\n",
    "Una forma más intuitiva de definir la posición del sol, es utilizando el plano horizontal local. En este caso, caracterizamos la posición del sol respecto a los ángulos, **elevación solar ($\\alpha_\\mathrm{s}$)** y **acimut solar ($\\phi_\\mathrm{s}$)**."
   ]
  },
  {
   "cell_type": "markdown",
   "id": "16d75dc4",
   "metadata": {
    "cell_style": "split"
   },
   "source": [
    "<img src=\"./images/solar_position_horizon.png\" width=\"350px\" align= center>"
   ]
  },
  {
   "cell_type": "markdown",
   "id": "42ee653c",
   "metadata": {
    "cell_style": "split",
    "slideshow": {
     "slide_type": "fragment"
    }
   },
   "source": [
    "- El ángulo de **elevación solar**, $\\alpha_\\mathrm{s}$, corresponde a la posición del sol respecto al plano perpendicular al horizonte local. Su valor es complementario al **ángulo cenital solar** $\\theta_\\mathrm{s} = \\pi/2 - \\alpha_\\mathrm{s}$."
   ]
  },
  {
   "cell_type": "markdown",
   "id": "77e0c464",
   "metadata": {
    "cell_style": "split",
    "slideshow": {
     "slide_type": "fragment"
    }
   },
   "source": [
    "- El ángulo **acimut solar** $\\phi_\\mathrm{s}$ mide la proyección de la posición del sol en el plano horizontal local. El valor $\\phi_\\mathrm{s} = 0$°,  corresponde al eje norte creciendo en dirección este. "
   ]
  },
  {
   "cell_type": "markdown",
   "id": "d45d6333",
   "metadata": {
    "slideshow": {
     "slide_type": "slide"
    }
   },
   "source": [
    "El valor de $\\alpha_\\mathrm{s}$ y $\\phi_\\mathrm{s}$, es función de  $\\delta$, $\\mathrm{AR}$, la longitud, latitud y la hora local.\n",
    "\n",
    "En este curso utilizaremos $\\alpha_\\mathrm{s}$ y $\\phi_\\mathrm{s}$ directamente utilizando [fuentes disponibles en línea](https://www.suncalc.org/)."
   ]
  },
  {
   "cell_type": "markdown",
   "id": "2ac9aa06",
   "metadata": {
    "slideshow": {
     "slide_type": "slide"
    }
   },
   "source": [
    "### Ángulo de incidencia\n",
    "\n",
    "El ángulo de incidencia del sol, $\\theta_\\mathrm{i}$, corresponde al ángulo cenital relativo a la normal de una superficie. En la siguiente figura se muestra una superficie inclinada con ángulo cenital $\\beta$ y ángulo acimutal $\\Phi$ respecto a la dirección normal al plano horizontal"
   ]
  },
  {
   "cell_type": "markdown",
   "id": "bbcfb076",
   "metadata": {
    "cell_style": "center"
   },
   "source": [
    "<img src=\"./images/incidence_angle.png\" width=\"650px\" align= center>"
   ]
  },
  {
   "cell_type": "markdown",
   "id": "4e19e372",
   "metadata": {
    "slideshow": {
     "slide_type": "slide"
    }
   },
   "source": [
    "Considerando la posición del sol relativa al plano horizontal, el ángulo de incidencia es:\n",
    "\n",
    "\\begin{equation}\n",
    "\\cos\\theta_i = \\cos\\theta_\\mathrm{s}\\cos\\beta+\\sin\\theta_\\mathrm{s}\\sin\\beta\\cos(\\phi_\\mathrm{s} - \\Phi)\n",
    "\\end{equation}"
   ]
  },
  {
   "cell_type": "markdown",
   "id": "3286d09e",
   "metadata": {
    "slideshow": {
     "slide_type": "fragment"
    }
   },
   "source": [
    "Para una superficie en posición horizontal, $\\theta_\\mathrm{i} = \\theta_\\mathrm{s}$"
   ]
  },
  {
   "cell_type": "markdown",
   "id": "8c5d31b6",
   "metadata": {
    "cell_style": "center",
    "slideshow": {
     "slide_type": "slide"
    }
   },
   "source": [
    "## Radiación solar disponible\n",
    "La radiación solar puede ser estimada como un cuerpo negro a temperatura $T_\\mathrm{sun} = 5777 K$. Sin embargo, la radiación solar es el resultado de la emisión de muchas capas con diferente composición, y cuya temperatura puede alcanzar más de 100,000 K."
   ]
  },
  {
   "cell_type": "markdown",
   "id": "06e469e8",
   "metadata": {},
   "source": [
    "\n",
    "<img src=\"./images/sun_structure.png\" width=\"400px\" align= center>"
   ]
  },
  {
   "cell_type": "markdown",
   "id": "a85ef627",
   "metadata": {
    "slideshow": {
     "slide_type": "slide"
    }
   },
   "source": [
    "### Constante solar"
   ]
  },
  {
   "cell_type": "markdown",
   "id": "edab4c75",
   "metadata": {
    "slideshow": {
     "slide_type": "fragment"
    }
   },
   "source": [
    "Consideremos el sol como un cuerpo negro a temperatura $T_\\mathrm{sun} = 5777$ K. "
   ]
  },
  {
   "cell_type": "markdown",
   "id": "289c4491",
   "metadata": {
    "slideshow": {
     "slide_type": "fragment"
    }
   },
   "source": [
    "El calor total por radiación emitido por el sol es $\\pi D_\\mathrm{sun}^2 E_\\mathrm{sun}$, donde $D_\\mathrm{sun} = 1.39\\times 10^9$ m es el diámetro del sol. "
   ]
  },
  {
   "cell_type": "markdown",
   "id": "2c868ae0",
   "metadata": {
    "slideshow": {
     "slide_type": "fragment"
    }
   },
   "source": [
    "Considerando la distancia entre el sol y la tierra, $d_\\mathrm{e-s} = 1.495\\times 10^{11}$ m, el flujo de radiación sobre la superficie de la tierra, $G_\\mathrm{sc}$, es:\n",
    "\n",
    "\\begin{equation}\n",
    "G_\\mathrm{sc} = \\sigma T_\\mathrm{sun}^4 \\frac{\\pi D_\\mathrm{sun}^2}{4\\pi d_\\mathrm{e-s}^2}=1367\\frac{\\mathrm{W}}{\\mathrm{m}^2}\n",
    "\\end{equation}"
   ]
  },
  {
   "cell_type": "markdown",
   "id": "1b9a27b1",
   "metadata": {
    "cell_style": "center",
    "slideshow": {
     "slide_type": "slide"
    }
   },
   "source": [
    "La **constante solar $G_\\mathrm{sc} = 1367$ W/m$^2$** es el flujo de energía sobre una superficie perpendicular a los rayos solares y a la distancia media entre la tierra y el sol. En otras palabras, corresponde **radiación extraterrestre del sol** que incide sobre 1 m$^2$ en la tierra.\n",
    "\n",
    "<img src=\"./images/solar_constant.png\" width=\"400px\" align= center>"
   ]
  },
  {
   "cell_type": "markdown",
   "id": "f13bfcf2",
   "metadata": {
    "slideshow": {
     "slide_type": "slide"
    }
   },
   "source": [
    "La siguiente figura ilustra la variación espectral de la constante solar, según reportado en la norma [ASTM E-490](https://webstore.ansi.org/Standards/ASTM/ASTME49000a2019?gclid=Cj0KCQjwnP-ZBhDiARIsAH3FSRdkNPhMjh2Ru8irt-P5F2A2SPQYGY5liGc31hHI6lPK7VyEygeZHy4aAh99EALw_wcB)\n",
    "\n",
    "<img src=\"./images/extraterrestial_solar_radiation.png\" width=\"600px\" align= center>"
   ]
  },
  {
   "cell_type": "markdown",
   "id": "8417c3f0",
   "metadata": {
    "cell_style": "center",
    "slideshow": {
     "slide_type": "slide"
    }
   },
   "source": [
    "Debido a la excentricidad de la órbita de la tierra, la constante solar varía alrededor de un 3.3% largo del año. Para un día $N$ de un total de 365, la constante solar está dada por:\n",
    "\n",
    "\\begin{equation}\n",
    "G_\\mathrm{sc,N} = G_\\mathrm{sc}\\left[1+0.033\\cos\\left(\\frac{360N}{365}\\right)\\right]\n",
    "\\end{equation}"
   ]
  },
  {
   "cell_type": "markdown",
   "id": "15aaefea",
   "metadata": {
    "cell_style": "center",
    "slideshow": {
     "slide_type": "fragment"
    }
   },
   "source": [
    "\n",
    "<img src=\"./images/solar_constant_daily.png\" width=\"600px\" align= center>"
   ]
  },
  {
   "cell_type": "markdown",
   "id": "c45d4cc5",
   "metadata": {
    "slideshow": {
     "slide_type": "slide"
    }
   },
   "source": [
    "La constante solar también cambia según la elevación solar o, de forma complementaria, con el cenit solar en la forma:\n",
    "\n",
    "\\begin{equation}\n",
    "G_{\\mathrm{sc},t} = G_\\mathrm{sc}\\cos\\theta_\\mathrm{s}\n",
    "\\end{equation}"
   ]
  },
  {
   "cell_type": "markdown",
   "id": "7eeab8da",
   "metadata": {
    "slideshow": {
     "slide_type": "fragment"
    }
   },
   "source": [
    "Para una superficie inclinada, con un ángulo de incidencia $\\theta_i$ la constate solar es:\n",
    "\n",
    "\\begin{equation}\n",
    "G_{\\mathrm{sc},s} = G_\\mathrm{sc}\\cos\\theta_\\mathrm{i}\n",
    "\\end{equation}"
   ]
  },
  {
   "cell_type": "markdown",
   "id": "b9537c6e",
   "metadata": {
    "cell_style": "center",
    "slideshow": {
     "slide_type": "slide"
    }
   },
   "source": [
    "### Atenuación atmosférica\n",
    "\n",
    "La radiación solar definida por $G_\\mathrm{sc}$ corresponde al valor fuera de la atmosfera de la tierra. En la superficie de la tierra, este valor es atenuado debido a fenómenos de absoción y *scattering* asociado a los gases atmosfpericos, tales como vapor de agua, ozono, nubes, etc. \n"
   ]
  },
  {
   "cell_type": "markdown",
   "id": "56605e6b",
   "metadata": {
    "cell_style": "split"
   },
   "source": [
    "<img src=\"./images/Solar_Spectrum_atmosphere.png\" width=\"400px\" align= center>"
   ]
  },
  {
   "cell_type": "markdown",
   "id": "e71879dc",
   "metadata": {
    "cell_style": "split",
    "slideshow": {
     "slide_type": "fragment"
    }
   },
   "source": [
    "En general esta atenuación dependen de la ángulo de elevación del sol y, por lo tanto varía según el día del año y la latitud en la que se encuentra el observador"
   ]
  },
  {
   "cell_type": "markdown",
   "id": "278d8b9a",
   "metadata": {
    "cell_style": "center",
    "slideshow": {
     "slide_type": "slide"
    }
   },
   "source": [
    "Definimos como coeficiente de masa de aire ($\\mathrm{AM}$) como:\n",
    "\n",
    "\\begin{equation*}\n",
    "\\mathrm{AM} = \\frac{L}{L_0}\n",
    "\\end{equation*}\n",
    "\n",
    "donde $L_0$ es la distancia (espesor de la atmósfera) normal a la superficie de la tierra y al nivel del mar, y $L$ es la distancia al nivel del mar a un ángulo $\\theta_\\mathrm{s}$"
   ]
  },
  {
   "cell_type": "markdown",
   "id": "cad048fe",
   "metadata": {
    "cell_style": "center",
    "slideshow": {
     "slide_type": "fragment"
    }
   },
   "source": [
    "<img src=\"./images/AM_diagram.png\" width=\"300px\" align= center>"
   ]
  },
  {
   "cell_type": "markdown",
   "id": "eaa56292",
   "metadata": {
    "cell_style": "center",
    "slideshow": {
     "slide_type": "slide"
    }
   },
   "source": [
    "Una forma simplificada de representar el coeficiente de masa de aire es:\n",
    "\n",
    "\\begin{equation}\n",
    "\\mathrm{AM} = \\frac{1}{\\cos\\theta_\\mathrm{s}}\n",
    "\\end{equation}"
   ]
  },
  {
   "cell_type": "markdown",
   "id": "99a9d206",
   "metadata": {
    "cell_style": "center",
    "slideshow": {
     "slide_type": "fragment"
    }
   },
   "source": [
    "- $\\mathrm{AM}0$ corresponde al espectro de radiación solar extraterrestre.\n",
    "- $\\mathrm{AM}1$ corresponde al espectro de radiación a nivel del mar con el sol en dirección normal a la superficie.\n",
    "- $\\mathrm{AM}1.5$ corresponde al espectro de radiación a nivel del mar con el sol $\\theta_\\mathrm{s} = 48.19$°"
   ]
  },
  {
   "cell_type": "markdown",
   "id": "71e36420",
   "metadata": {
    "slideshow": {
     "slide_type": "slide"
    }
   },
   "source": [
    "El coeficiente de masa de aire $\\mathrm{AM}1.5$ representa una aproximación del promedio general anual de radiación solar en latitudes correrspondiente a regiones como Japón, China, Estados Unidos y Europa. Así, este valor **se ha convertido en el estandar para caracterizar el desempeño de tecnologías de energía solar.**"
   ]
  },
  {
   "cell_type": "markdown",
   "id": "8896dc93",
   "metadata": {
    "cell_style": "split",
    "slideshow": {
     "slide_type": "fragment"
    }
   },
   "source": [
    "\n",
    "<img src=\"./images/am1.5.png\" width=\"400px\" align= center>"
   ]
  },
  {
   "cell_type": "markdown",
   "id": "1cec2ae7",
   "metadata": {
    "cell_style": "split",
    "slideshow": {
     "slide_type": "fragment"
    }
   },
   "source": [
    "Debido al *scattering* atmosférico, el espectro $\\mathrm{AM}1.5$ considera una componente global (directa + difusa) y una directa."
   ]
  },
  {
   "cell_type": "markdown",
   "id": "864e2615",
   "metadata": {
    "cell_style": "split"
   },
   "source": [
    "La irradiancia hemisférica total del espectro $\\mathrm{AM}1.5$, es\n",
    "\n",
    "\\begin{equation}\n",
    "G_\\mathrm{AM1.5} = 1000~\\frac{\\mathrm{W}}{\\mathrm{m}^2} = 1~\\mathrm{sun}\n",
    "\\end{equation}"
   ]
  },
  {
   "cell_type": "markdown",
   "id": "21d5f6c1",
   "metadata": {
    "cell_style": "split",
    "slideshow": {
     "slide_type": "fragment"
    }
   },
   "source": [
    "Existen distintas fuentes con valores tabulados del espectro AM1.5, por ejemplo: [NREL AM1.5](https://www.nrel.gov/grid/solar-resource/spectra-am1.5.html)"
   ]
  },
  {
   "cell_type": "markdown",
   "id": "19576401",
   "metadata": {
    "slideshow": {
     "slide_type": "slide"
    }
   },
   "source": [
    "## Componentes de la radiación solar\n",
    "La radiación solar no esta compuesta únicamente de un haz de rayos especulares. Si así fuera, no tendríamos visibilidad al bloquear el sol con nuestras manos."
   ]
  },
  {
   "cell_type": "markdown",
   "id": "b8189dfe",
   "metadata": {
    "slideshow": {
     "slide_type": "slide"
    }
   },
   "source": [
    "En efecto, la radiación solar está compuesta por una série de componentes."
   ]
  },
  {
   "cell_type": "markdown",
   "id": "aec04a16",
   "metadata": {
    "cell_style": "center",
    "slideshow": {
     "slide_type": "fragment"
    }
   },
   "source": [
    "\n",
    "<img src=\"./images/solar_components.jpg\" width=\"400px\" align= center>"
   ]
  },
  {
   "cell_type": "markdown",
   "id": "0e618a76",
   "metadata": {
    "cell_style": "center",
    "slideshow": {
     "slide_type": "slide"
    }
   },
   "source": [
    "Tal como indica la figura, las componentes de la radiación son:\n",
    "- **Directa (*beam*)**: Correspondiente a los rayos speculares del sol.\n",
    "\n",
    "- **Difusa circumsolar**: Asociada al scattering hacia adelante alrededor del disco solar.\n",
    "\n",
    "- **Isotrópica difusa**: Asociada a la componente uniforme (isotrópica) del scattering producida alrededor del domo del cielo.\n",
    "\n",
    "- **Difusa del horizonte**: Corresponde a la componente del scattering en el plano del horizonte, la cual es más intensa que la componente isotrópica difusa.\n",
    "\n",
    "- **Terrestre reflejada o albedo (*ground*)**: radiación reflejada por el suelo."
   ]
  },
  {
   "cell_type": "markdown",
   "id": "a020fe18",
   "metadata": {
    "slideshow": {
     "slide_type": "slide"
    }
   },
   "source": [
    "Comúnmente, las mediciones de radiación solar se reportan usando tres parámetros de irradiancia (radiación sobre una superficie):\n",
    "\n",
    "- **Irradiancia normal directa (*Direct Normal Irradiance* o DNI)**: Corresponde a la radiación sobre una superficie apuntando en dirección normal a los rayos del sol. **Considera la componente directa y circumsolar de la radiación solar**.\n",
    "\n",
    "- **Irradiancia horizontal difusa (*Diffuse Horizontal Irradiance* o DHI)**: Corresponde a la radiación **isotrópica difusa y difusa del horizonte** que incide sobre una superficie horizontal.\n",
    "\n",
    "- **Irradiancia horizontal global (*Global Horizontal Irradiance* o GHI)**. Corresponde a $\\mathrm{GHI} = \\mathrm{DNI}\\cos\\theta_i + \\mathrm{DHI}$"
   ]
  },
  {
   "cell_type": "markdown",
   "id": "aa13edce",
   "metadata": {
    "slideshow": {
     "slide_type": "slide"
    }
   },
   "source": [
    "## Instrumentos de medición de radiación solar\n",
    "\n",
    "Para diseñar sistemas basados en energía solar, es necesario caracterizar una serie de parámetros de la radiación solar. Estos incluyen, irradiación solar hemisférica, especular y difusa. "
   ]
  },
  {
   "cell_type": "markdown",
   "id": "08b3f091",
   "metadata": {
    "slideshow": {
     "slide_type": "fragment"
    }
   },
   "source": [
    "En general, los instrumentos de medición se basan en sensores termoeléctricos o fotovoltaicos, que permiten medir el flujo de energía y no la componente espectral. La irradiancia espectral, generalmente se obtiene por modelos de transporte radiativo."
   ]
  },
  {
   "cell_type": "markdown",
   "id": "674a1012",
   "metadata": {
    "slideshow": {
     "slide_type": "fragment"
    }
   },
   "source": [
    "Existen dos tipos de instrumentos para medir la irradiancia solar: el **piranómetro** y el **pirheliómetro**."
   ]
  },
  {
   "cell_type": "markdown",
   "id": "cabbde2e",
   "metadata": {
    "slideshow": {
     "slide_type": "slide"
    }
   },
   "source": [
    "### Piranómetro\n",
    "Este instrumento **mide la componente GHI**\n",
    "\n",
    "<img src=\"./images/pyranometer.jpg\" width=\"800px\" align= center>"
   ]
  },
  {
   "cell_type": "markdown",
   "id": "954e3d38",
   "metadata": {
    "cell_style": "center",
    "slideshow": {
     "slide_type": "fragment"
    }
   },
   "source": [
    "Esta compuesto de un **domo superior (*glass dome*)** conformado por dos cámaras de vidrio, donde el aire atrapado actúa como aislante térmico. Al interior del domo se ubica un **detector** que absorbe la radiación solar. El cambio de temperatura del absorbedor es correlacionado con el flujo de calor por radiación. El detector está rodado de una **cubierta aislante (*housing*)** y un **escudo de radiación solar (*sun shield*)** para evitar ganancias parasíticas de calor."
   ]
  },
  {
   "cell_type": "markdown",
   "id": "85f39779",
   "metadata": {
    "slideshow": {
     "slide_type": "slide"
    }
   },
   "source": [
    "El piranómetro también puede ser utilizado para **medir la componente DHI**. En este caso se utiliza una banda que **bloquea la componente directa y circumsolar.**"
   ]
  },
  {
   "cell_type": "markdown",
   "id": "2422a6e2",
   "metadata": {},
   "source": [
    "<img src=\"./images/pyranometer_diffuse.png\" width=\"400px\" align= center>\n"
   ]
  },
  {
   "cell_type": "markdown",
   "id": "bbe7d89f",
   "metadata": {
    "cell_style": "center",
    "slideshow": {
     "slide_type": "slide"
    }
   },
   "source": [
    "### Pirheliómetro\n",
    "\n",
    "Este instrumento **permite medir la componente DNI** de la radiación solar.\n",
    "\n",
    "<img src=\"./images/pyrheliometer.jpg\" width=\"300px\" align= center>"
   ]
  },
  {
   "cell_type": "markdown",
   "id": "434c132d",
   "metadata": {
    "slideshow": {
     "slide_type": "slide"
    }
   },
   "source": [
    "## Mapas solares\n",
    "\n",
    "Existen diversos mapas solares disponibles en línea. En general, estos reportan valores de GHI, DNI y DHI medidos a lo largo de un año. "
   ]
  },
  {
   "cell_type": "markdown",
   "id": "ae9cc24c",
   "metadata": {
    "slideshow": {
     "slide_type": "fragment"
    }
   },
   "source": [
    "Los más recomendados son:\n",
    "\n",
    "- **[Explorador solar](https://solar.minenergia.cl/exploracion) del ministerio de energía**. Entrega información detallada de las componentes DNI, DHI y GHI por més y año en el territorio chileno. La herramienta permite exportar los datos en formato .csv con información detallada de irradiancia directa y difusa para superficies orientadas en distintos ángulos. Además, permite estimar el desempeño de un colector solar y paneles fotovoltaicos. \n",
    "\n",
    "- **[Global Solar Atlas](https://globalsolaratlas.info/), del World Bank Group**. Corresponde a un mapa global de la radiación solar, con reportes de DNI, DHI y GHI anuales, y reportes detallados del DNI distribuido por mes y día. Además permite estimar el desempeño de paneles fotolvaicos por kWp (kiloWatt peak) a través del parámetro PVOUT."
   ]
  },
  {
   "cell_type": "markdown",
   "id": "d50dcd4f",
   "metadata": {
    "slideshow": {
     "slide_type": "slide"
    }
   },
   "source": [
    "Es importante mencionar que la componente DNI no siembre es dominante. \n",
    "\n",
    "|Coordenadas| Localidad | DNI<br />(kWh/m$^2$-año) | GHI<br />(kWh/m$^2$-año) | DHI<br />(kWh/m$^2$-año)|\n",
    "|:---------:|:---------:|:-------------------:|:-------------------------:|:-------------------------:|\n",
    "-45.51°, -73.52°|Aysén | 848.2|1025.9|556.2|\n",
    "-23.92°, -69.49°| Antofagasta | 3330.4 | 2604| 575|"
   ]
  },
  {
   "cell_type": "markdown",
   "id": "4849b4b5",
   "metadata": {
    "slideshow": {
     "slide_type": "fragment"
    }
   },
   "source": [
    "En el caso de la región de Asyén, la **componente normal de la irradiancia sobre una superficie horizontal**, es GHI - DHI =  468.7 kW/m$^2$ - año (aproximadamente 45.7% del GHI), mientras que en Antofagasta es, 2029.0 kW/m$^2$ - año (aproximadamente 77.9% del GHI)."
   ]
  },
  {
   "cell_type": "markdown",
   "id": "271dbb8a",
   "metadata": {
    "slideshow": {
     "slide_type": "fragment"
    }
   },
   "source": [
    "Notar, además, que en ninguno de los dos ejemplos el valor GHI - DHI coincide con el DNI. Esto debido a que la primera considera el factor $\\cos\\theta_i$ asociado al ángulo de incidencia."
   ]
  },
  {
   "cell_type": "markdown",
   "id": "17c1dc23",
   "metadata": {
    "slideshow": {
     "slide_type": "slide"
    }
   },
   "source": [
    "## Referencias\n",
    "- Kalogirou S. A. **Chapter 2: Environmental Characteristics** en *Solar Energy Engineering Processes and Systems*, 2nd Ed, Academic Press, 2014\n",
    "\n",
    "- Duffie J. A., Beckman W. A. and Blair N. **Chapter 1: Solar Radiation** and **Chapter 2: Available Solar Radiation** en *Solar Engineering of Thermal Processes*, 5th Ed, Jhon Wiley and Sons, 2020"
   ]
  }
 ],
 "metadata": {
  "celltoolbar": "Slideshow",
  "kernelspec": {
   "display_name": "Python 3 (ipykernel)",
   "language": "python",
   "name": "python3"
  },
  "language_info": {
   "codemirror_mode": {
    "name": "ipython",
    "version": 3
   },
   "file_extension": ".py",
   "mimetype": "text/x-python",
   "name": "python",
   "nbconvert_exporter": "python",
   "pygments_lexer": "ipython3",
   "version": "3.11.6"
  },
  "latex_envs": {
   "LaTeX_envs_menu_present": false,
   "autoclose": false,
   "autocomplete": false,
   "bibliofile": "biblio.bib",
   "cite_by": "apalike",
   "current_citInitial": 1,
   "eqLabelWithNumbers": true,
   "eqNumInitial": 1,
   "hotkeys": {
    "equation": "Ctrl-E",
    "itemize": "Ctrl-I"
   },
   "labels_anchors": false,
   "latex_user_defs": false,
   "report_style_numbering": false,
   "user_envs_cfg": true
  },
  "toc": {
   "base_numbering": 1,
   "nav_menu": {},
   "number_sections": true,
   "sideBar": true,
   "skip_h1_title": true,
   "title_cell": "Tabla de contenidos",
   "title_sidebar": "Contenidos",
   "toc_cell": false,
   "toc_position": {
    "height": "calc(100% - 180px)",
    "left": "10px",
    "top": "150px",
    "width": "307.2px"
   },
   "toc_section_display": true,
   "toc_window_display": false
  },
  "varInspector": {
   "cols": {
    "lenName": 16,
    "lenType": 16,
    "lenVar": 40
   },
   "kernels_config": {
    "python": {
     "delete_cmd_postfix": "",
     "delete_cmd_prefix": "del ",
     "library": "var_list.py",
     "varRefreshCmd": "print(var_dic_list())"
    },
    "r": {
     "delete_cmd_postfix": ") ",
     "delete_cmd_prefix": "rm(",
     "library": "var_list.r",
     "varRefreshCmd": "cat(var_dic_list()) "
    }
   },
   "types_to_exclude": [
    "module",
    "function",
    "builtin_function_or_method",
    "instance",
    "_Feature"
   ],
   "window_display": false
  }
 },
 "nbformat": 4,
 "nbformat_minor": 5
}
