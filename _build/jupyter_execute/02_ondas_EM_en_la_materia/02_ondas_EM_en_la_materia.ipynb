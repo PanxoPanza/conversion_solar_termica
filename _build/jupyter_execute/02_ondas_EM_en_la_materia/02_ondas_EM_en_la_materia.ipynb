{
 "cells": [
  {
   "cell_type": "markdown",
   "id": "8b01ca79",
   "metadata": {
    "slideshow": {
     "slide_type": "slide"
    }
   },
   "source": [
    "# Ondas electromagnéticas en la materia"
   ]
  },
  {
   "cell_type": "markdown",
   "id": "61b0f1b1",
   "metadata": {
    "slideshow": {
     "slide_type": "slide"
    }
   },
   "source": [
    "## Ecuaciones de Maxwell en un medio"
   ]
  },
  {
   "cell_type": "markdown",
   "id": "9c9eae7b",
   "metadata": {
    "cell_style": "center"
   },
   "source": [
    "La materia esta compuesta por cargas (electrónes, átomos, moléculas). Por lo tanto, a diferencia del vacío, la densidad de carga ($\\rho$) y de corriente ($\\vec{J}$) eléctricas están presentes en las ecuaciones de Maxwell:\n",
    "\n",
    "\\begin{align*}\n",
    "\\nabla\\cdot\\vec{E} &= \\frac{\\rho}{\\varepsilon_0} \\\\\n",
    "\\nabla\\cdot\\vec{B} &= 0 \\\\\n",
    "\\nabla\\times\\vec{E} &= -\\mu_0\\frac{\\partial \\vec{H}}{\\partial t} \\\\\n",
    "\\nabla\\times\\vec{H} &= \\vec{J} + \\varepsilon_0\\frac{\\partial \\vec{E}}{\\partial t}\n",
    "\\end{align*}"
   ]
  },
  {
   "cell_type": "markdown",
   "id": "9d58d7cd",
   "metadata": {
    "cell_style": "center",
    "slideshow": {
     "slide_type": "slide"
    }
   },
   "source": [
    "Asumiendo un medio homogéneo, y mediante la relación:\n",
    "\n",
    "\\begin{equation}\n",
    "\\vec{D} = \\varepsilon_0\\varepsilon\\vec{E}\n",
    "\\end{equation}\n",
    "\n",
    "donde $\\vec{D}$ es el desplazamiento eléctrico, y $\\varepsilon = \\varepsilon' + i\\varepsilon''$, es la **constante dieléctrica** compleja; \n",
    "\n",
    "podemos demostrar que las ecuaciones de Maxwell se pueden reescribir en la forma:\n",
    "\n",
    "\\begin{align*}\n",
    "\\nabla\\cdot\\vec{E} &= 0 \\\\\n",
    "\\nabla\\cdot\\vec{H} &= 0 \\\\\n",
    "\\nabla\\times\\vec{E} &= -\\mu_0\\frac{\\partial \\vec{H}}{\\partial t} \\\\\n",
    "\\nabla\\times\\vec{H} &= \\varepsilon_0 \\varepsilon\\frac{\\partial\\vec{E}}{\\partial t}\n",
    "\\end{align*}"
   ]
  },
  {
   "cell_type": "markdown",
   "id": "104dc93c",
   "metadata": {
    "cell_style": "center",
    "slideshow": {
     "slide_type": "slide"
    }
   },
   "source": [
    "Estas ecuaciones tiene la misma forma que las ecuaciones de Maxwell en el vacío, y por lo tanto todas las conclusiones anteriores aplican a este caso."
   ]
  },
  {
   "cell_type": "markdown",
   "id": "e214507b",
   "metadata": {
    "slideshow": {
     "slide_type": "fragment"
    }
   },
   "source": [
    "La gran diferencia está en la relación de dispersión. En este caso:\n",
    "\n",
    "\\begin{equation}\n",
    "k = N \\frac{\\omega}{c_0}\n",
    "\\end{equation}\n",
    "\n",
    "donde $N = \\sqrt{\\varepsilon} = n +i\\kappa$, es el **índice de refracción complejo**. En general $n$ se conoce como el **índice de refracción**, y $\\kappa$ como **extinsión**. Así, el **vector de onda es un número complejo, $k = k'+ik''$**"
   ]
  },
  {
   "cell_type": "markdown",
   "id": "283414ae",
   "metadata": {
    "slideshow": {
     "slide_type": "fragment"
    }
   },
   "source": [
    "La parte real nos da información sobre la **velocidad de fase de la onda $v_\\mathrm{p} = \\omega/k'$:**\n",
    "\n",
    "\\begin{equation}\n",
    "v_\\mathrm{p} = \\frac{c_0}{n}\\quad\\quad\\mathrm{Velocidad~de~fase~en~un~medio~con~índice~de~refracción}~N\n",
    "\\end{equation}\n",
    "\n",
    "> Notar que para $n > 1$ la onda se mueve a una velocidad más lenta que en el vacío"
   ]
  },
  {
   "cell_type": "markdown",
   "id": "9e259169",
   "metadata": {
    "slideshow": {
     "slide_type": "slide"
    }
   },
   "source": [
    "Las relaciones de disersión no son necesariamente lineales. Por ejemplo, la relación de dispersión de ondas de sonido en un metal tienen la forma $\\omega \\propto k^2$."
   ]
  },
  {
   "cell_type": "markdown",
   "id": "f69e5f55",
   "metadata": {
    "slideshow": {
     "slide_type": "fragment"
    }
   },
   "source": [
    "Así, las ondas agudas (alta frecuencia) se mueven más rápido que las ondas graves (baja frecuencia)."
   ]
  },
  {
   "cell_type": "code",
   "execution_count": 1,
   "id": "dd6ab568",
   "metadata": {
    "cell_style": "center",
    "slideshow": {
     "slide_type": "fragment"
    }
   },
   "outputs": [
    {
     "data": {
      "image/jpeg": "[encoded data removed]",
      "text/html": [
       "\n",
       "<iframe\n",
       "    width=\"600\"\n",
       "    height=\"400\"\n",
       "    src=\"https://www.youtube.com/embed/dumzvAN12-4?playsinline=0&start=354&end=532\"\n",
       "    frameborder=\"0\"\n",
       "    allowfullscreen\n",
       "\n",
       "></iframe>\n"
      ],
      "text/plain": [
       "<IPython.lib.display.YouTubeVideo at 0x7fe9e4420ee0>"
      ]
     },
     "execution_count": 1,
     "metadata": {
      "filenames": {
       "image/jpeg": "/mnt/c/Users/francisco.ramirez.c/OneDrive - Universidad Adolfo Ibanez/Teaching_courses/MEC501 - Manejo_y_Conversion_Energia_Solar_Termica/material_catedra/_build/jupyter_execute/02_ondas_EM_en_la_materia/02_ondas_EM_en_la_materia_9_0.jpg"
      }
     },
     "output_type": "execute_result"
    }
   ],
   "source": [
    "from IPython.display import YouTubeVideo\n",
    "YouTubeVideo('dumzvAN12-4', width=600, height=400,  playsinline=0, start=354, end = 532)"
   ]
  },
  {
   "cell_type": "markdown",
   "id": "0baf3330",
   "metadata": {
    "cell_style": "center",
    "slideshow": {
     "slide_type": "slide"
    }
   },
   "source": [
    "\n",
    "Igualmente, la relación entre $H_0$ y $E_0$ también cambia a la forma \n",
    "\n",
    "$$H_0 = \\frac{E_0}{Z_0Z_r},$$\n",
    "\n",
    "donde $Z_r = \\sqrt{\\frac{1}{\\varepsilon}}$ es la **impedancia relativa**."
   ]
  },
  {
   "cell_type": "markdown",
   "id": "e9169102",
   "metadata": {
    "cell_style": "center",
    "slideshow": {
     "slide_type": "slide"
    }
   },
   "source": [
    "**¿Que significa que el vector de onda sea complejo?**"
   ]
  },
  {
   "cell_type": "markdown",
   "id": "6f5a7f4c",
   "metadata": {
    "cell_style": "split",
    "slideshow": {
     "slide_type": "fragment"
    }
   },
   "source": [
    "Analicemos la solución general de la ecuación de onda:\n",
    "\n",
    "\\begin{align*}\n",
    "\\vec{E} &= E_0 e^{i\\left(\\vec{k}\\cdot\\vec{r} - \\omega t\\right)} \\hat{e} \\\\\n",
    "&= E_0 e^{i\\left(Nk_0\\hat{k}\\cdot\\vec{r} - \\omega t\\right)} \\hat{e} \\\\\n",
    "&= E_0 e^{i\\left(nk_0\\hat{k}\\cdot\\vec{r} - \\omega t\\right)}e^{-\\kappa k_0\\left(\\hat{k}\\cdot\\vec{r}\\right)} \\hat{e}\n",
    "\\end{align*}"
   ]
  },
  {
   "cell_type": "markdown",
   "id": "d057a134",
   "metadata": {
    "cell_style": "split",
    "slideshow": {
     "slide_type": "fragment"
    }
   },
   "source": [
    "<img src=\"./images/decaying_wave.png\" width=\"300px\" align= center>\n",
    "\n",
    "Lo que notamos es, mientas que el índice de refracción $n$ representa el **cambio en la oscilación espacial de la onda**, la extinsión $\\kappa$ indica un **decaimiento en la amplitud**."
   ]
  },
  {
   "cell_type": "markdown",
   "id": "67a02823",
   "metadata": {
    "slideshow": {
     "slide_type": "fragment"
    }
   },
   "source": [
    "Este decaimiento de la amplitud representa la absorción de energía en el material."
   ]
  },
  {
   "cell_type": "markdown",
   "id": "60163dd8",
   "metadata": {
    "slideshow": {
     "slide_type": "slide"
    }
   },
   "source": [
    "Para cuantificar está pérdida de energía debemos analizar el **vector de Poynting**, $\\langle\\vec{S}\\rangle = \\frac{1}{2}\\mathrm{Re}\\left(\\vec{E}\\times\\vec{H}^*\\right)$."
   ]
  },
  {
   "cell_type": "markdown",
   "id": "697376f8",
   "metadata": {
    "slideshow": {
     "slide_type": "fragment"
    }
   },
   "source": [
    "En este caso:\n",
    "\\begin{equation*}\n",
    "\\langle\\vec{S}\\rangle =\\frac{nE_0^2}{2Z_0}e^{-\\alpha\\left(\\hat{k}\\cdot\\vec{r}\\right)}\n",
    "\\end{equation*}\n",
    "\n",
    "donde $\\alpha = \\frac{4\\pi\\kappa}{\\lambda}$ es el **coeficiente de absorpción**."
   ]
  },
  {
   "cell_type": "markdown",
   "id": "fa4db6ca",
   "metadata": {
    "slideshow": {
     "slide_type": "fragment"
    }
   },
   "source": [
    "Así la energía radiativa en el material de espesor $t$ decae exponencialmente en la forma, \n",
    "\n",
    "\\begin{equation*}\n",
    "\\propto\\exp\\left({-4\\pi\\kappa\\frac{t}{\\lambda}}\\right)\n",
    "\\end{equation*}"
   ]
  },
  {
   "cell_type": "markdown",
   "id": "186e9f7e",
   "metadata": {
    "cell_style": "split",
    "slideshow": {
     "slide_type": "slide"
    }
   },
   "source": [
    "En resumen, en materiales paramagnéticos:\n",
    "1. $\\vec{E}$ y $\\vec{H}$ se comportan como ondas trasversales de la forma $\\propto e^{ i\\left(\\vec{k}\\cdot\\vec{r} - \\omega t\\right)}$.\n",
    "\n",
    "2. La relación de dispersión es $k = N\\frac{\\omega}{c_0},$ \n",
    "donde $N = n + i\\kappa$ es el índice de refracción complejo.\n",
    "\n",
    "4. $N =\\sqrt{\\varepsilon} =\\sqrt{\\varepsilon'+i\\varepsilon''}$, donde $\\varepsilon$ es la constante dieléctrica\n",
    "\n",
    "3. $\\vec{E}$ y $\\vec{H}$ se propagan a una velocidad constante $c = c_0/n$\n",
    "\n",
    "4. $\\kappa$ representa la extinsión de la onda en el espacio.\n",
    "\n",
    "5. $\\vec{E}$, $\\vec{H}$ y $\\vec{k}$ son mutuamente perpendiculares. \n",
    "\n",
    "6. Las amplitudes de $\\vec{E}$ y $\\vec{H}$ están asociadas por la relación ${H}_0 = \\frac{E_0}{Z_0Z_r}$, donde $Z_r = \\frac{1}{\\sqrt{\\varepsilon}}$."
   ]
  },
  {
   "cell_type": "markdown",
   "id": "2767246e",
   "metadata": {
    "cell_style": "split",
    "slideshow": {
     "slide_type": "-"
    }
   },
   "source": [
    "<img src=\"./images/em_wave_decaying.jpg\" width=\"400px\" align= center>\n",
    "\n",
    "<center> Esquema de una onda electromagnética en un material</center>"
   ]
  },
  {
   "cell_type": "markdown",
   "id": "5fb00820",
   "metadata": {
    "slideshow": {
     "slide_type": "slide"
    }
   },
   "source": [
    "**¿Qué representa la constante dielectrica compleja?**"
   ]
  },
  {
   "cell_type": "markdown",
   "id": "200b930b",
   "metadata": {
    "cell_style": "center",
    "slideshow": {
     "slide_type": "fragment"
    }
   },
   "source": [
    "Los materiales están compuestos de átomos, con un núcleo positivo y electrones negativos. Estos electrones interactúan con los átomos de distintas formas; algunos orbitan alrededor del núcleo mientras que otros se mueven libremente por el material. Así, podemos separar las cargas eléctricas en dos tipos: **cargas ligadas**, y **cargas libres**."
   ]
  },
  {
   "cell_type": "markdown",
   "id": "095e01fe",
   "metadata": {
    "cell_style": "center"
   },
   "source": [
    "\n",
    "\n",
    "<img src=\"./images/atomic_lattice.png\" width=\"400px\" align= center>"
   ]
  },
  {
   "cell_type": "markdown",
   "id": "8ff18cc1",
   "metadata": {
    "cell_style": "center",
    "slideshow": {
     "slide_type": "slide"
    }
   },
   "source": [
    "La interacción de las onda electromagnéticas con las cargas ligadas induce **polarización**. Esta respuesta está representada por la parte real de la constante dielectrica ($\\varepsilon'$)."
   ]
  },
  {
   "cell_type": "markdown",
   "id": "512f0e2f",
   "metadata": {
    "cell_style": "center"
   },
   "source": [
    "<img src=\"./images/constante_dielectrica.png\" width=\"650px\" align= center>"
   ]
  },
  {
   "cell_type": "markdown",
   "id": "93668abf",
   "metadata": {
    "slideshow": {
     "slide_type": "fragment"
    }
   },
   "source": [
    "Las ondas electromagnéticas aceleran las cargas libres, generando **corrientes eléctricas inducidas**. Algunas cargas libres móbiles colicionan con otros electrónes o núcleos, disipando energía. Esta respuesta está representada por la parte imaginaria de la constante dieléctrica ($\\varepsilon''$)."
   ]
  },
  {
   "cell_type": "markdown",
   "id": "de2f10ea",
   "metadata": {
    "slideshow": {
     "slide_type": "slide"
    }
   },
   "source": [
    "### Condiciones de borde"
   ]
  },
  {
   "cell_type": "markdown",
   "id": "f7b45112",
   "metadata": {
    "slideshow": {
     "slide_type": "fragment"
    }
   },
   "source": [
    "Hasta ahora hemos revisado las ecuaciones de Maxwell en un medio homogeneo, y como estas dan lugar a la solución en forma de ondas electromagnéticas.\n",
    "\n",
    "> Recordemos que para un medio con índice de refracción $N$, la solución general es:\n",
    ">\n",
    ">\\begin{align*}\n",
    "\\vec{E} &= E_0 e^{i\\left(Nk_0\\hat{k}\\cdot\\vec{r} - \\omega t\\right)} \\hat{e} \\\\\n",
    "\\vec{H} &= \\frac{NE_0}{Z_0} e^{i\\left(Nk_0\\hat{k}\\cdot\\vec{r} - \\omega t\\right)} \\hat{k}\\times\\hat{e}\n",
    "\\end{align*}"
   ]
  },
  {
   "cell_type": "markdown",
   "id": "22a61931",
   "metadata": {
    "slideshow": {
     "slide_type": "slide"
    }
   },
   "source": [
    "**¿Que sucede cuando una onda electromagnética encuentra la frontera entre dos medios distintos?**"
   ]
  },
  {
   "cell_type": "markdown",
   "id": "d557ddef",
   "metadata": {
    "slideshow": {
     "slide_type": "fragment"
    }
   },
   "source": [
    "Como toda ecuación diferencial, la solución particular de las ecuaciones de Maxwell está definida por las condiciones de borde. Estas condiciones de borde surgen al aplicar las ecuaciones de Maxwell en una frontera (cuya derivación no revisaremos aqui). En general son 4 condiciones de borde. Sin embargo, para los problemas que veremos en este curso solo se necesitan dos:\n",
    "\n",
    "\\begin{align}\n",
    "E^{\\parallel}_1 - E^{\\parallel}_2 &= 0 \\\\\n",
    "H^{\\parallel}_1 - H^{\\parallel}_2 &= 0\n",
    "\\end{align}\n",
    "\n",
    "donde $1$ y $2$ son dos medios distintos, y el símbolo $\\parallel$ representa la componente paralela a la interface entre los medios $1$ y $2$"
   ]
  },
  {
   "cell_type": "markdown",
   "id": "ed38561f",
   "metadata": {
    "slideshow": {
     "slide_type": "fragment"
    }
   },
   "source": [
    ">**En la interface entre dos medios $1$ y $2$ las componentes de $\\vec{E}$ y $\\vec{H}$ paralelas a la interface, se conservan.**"
   ]
  },
  {
   "cell_type": "markdown",
   "id": "c7339c10",
   "metadata": {
    "slideshow": {
     "slide_type": "slide"
    }
   },
   "source": [
    "## Reflexión y transmisión de ondas electromagnéticas en una interface"
   ]
  },
  {
   "cell_type": "markdown",
   "id": "29746567",
   "metadata": {
    "slideshow": {
     "slide_type": "slide"
    }
   },
   "source": [
    "### Coeficientes de Fresnel"
   ]
  },
  {
   "cell_type": "markdown",
   "id": "b162d332",
   "metadata": {
    "cell_style": "split"
   },
   "source": [
    "Consideremos el fenómeno de reflección y transmissión de una onda electromagnetética en dirección $\\hat{k}_i$ que incide sobre la interface entre dos medios 1 y 2, con índices de refracción reales $n_1$ y $n_2$, respectivamente\n",
    "\n",
    "Definimos como $\\hat{n}$ al vector normal al plano de interface entre los dos medios, y como **plano de incidencia,** al plano formado por los vectores $\\hat{k}_i$ y $\\hat{n}$.\n",
    "\n",
    "La dirección de la onda reflejada y transmitida está definida por los vectores $\\hat{k}_r$ y $\\hat{k}_t$, respectivamente."
   ]
  },
  {
   "cell_type": "markdown",
   "id": "e9ca295b",
   "metadata": {
    "cell_style": "split"
   },
   "source": [
    "<img src=\"./images/plano_incidencia.png\" width=\"350px\" align= center>"
   ]
  },
  {
   "cell_type": "markdown",
   "id": "6860f66d",
   "metadata": {
    "slideshow": {
     "slide_type": "slide"
    }
   },
   "source": [
    "A partir de la dirección de $\\vec{E}$ y $\\vec{H}$ respecto al plano de incidencia, podemos distunguir dos polarizaciones:\n",
    "\n",
    "- Si **$\\vec{H}$ oscila en dirección perpendicular al plano de incidencia**, hablamos de una **polarización transversal magnética o TM**.\n",
    "\n",
    "- Si **$\\vec{E}$ oscila en dirección perpendicular al plano de incidencia**, hablamos de una **polarización transversal eléctrica o TE**."
   ]
  },
  {
   "cell_type": "markdown",
   "id": "f14a4173",
   "metadata": {
    "cell_style": "split",
    "slideshow": {
     "slide_type": "slide"
    }
   },
   "source": [
    "Como ejemplo, consideremos una **onda transversal magnética (TM)**\n",
    "\n",
    "<img src=\"./images/em_reflection.png\" width=\"350px\" align= center>\n",
    "\n",
    "La figura muestra la reflexión y transmisión de la onda visto desde el plano de incidencia"
   ]
  },
  {
   "cell_type": "markdown",
   "id": "780de9d4",
   "metadata": {
    "cell_style": "split",
    "slideshow": {
     "slide_type": "fragment"
    }
   },
   "source": [
    "A través de las ecuaciones de Maxwell, podemos establecer la solución general para cada onda electromagnética:\n",
    "\n",
    "\\begin{align*}\n",
    "\\vec{E}_i &= E_i e^{ i\\left(k_0n_1\\hat{k}_i\\cdot\\vec{r} - \\omega t\\right)} \\hat{e}_i\\quad\\quad \\mathrm{onda~incidente}\n",
    " \\\\\n",
    "\\vec{E}_r &= E_r e^{ i\\left(k_0n_1\\hat{k}_r\\cdot\\vec{r} - \\omega t\\right)} \\hat{e}_r\\quad\\quad \\mathrm{onda~reflejada}\n",
    "\\\\\n",
    "\\vec{E}_t &= E_t e^{ i\\left(k_0n_2\\hat{k}_t\\cdot\\vec{r} - \\omega t\\right)} \\hat{e}_t\\quad\\quad \n",
    "\\mathrm{onda~transmitida}\n",
    "\\end{align*}\n",
    "\n",
    "donde:\n",
    "\n",
    "\\begin{eqnarray*}\n",
    "\\hat{k}_i &=& \\hat{x}\\sin\\theta_i + \\hat{z}\\cos\\theta_i \n",
    "&\\quad\\mathrm{y}\\quad& \n",
    "\\hat{e}_i &=& \\hat{x}\\cos\\theta_i - \\hat{z}\\sin\\theta_i\n",
    "\\\\\n",
    "\\hat{k}_r &=& \\hat{x}\\sin\\theta_r - \\hat{z}\\cos\\theta_r\n",
    "&\\quad\\mathrm{y}\\quad& \n",
    "\\hat{e}_r &=& \\hat{x}\\cos\\theta_r + \\hat{z}\\sin\\theta_r\n",
    "\\\\\n",
    "\\hat{k}_t &=& \\hat{x}\\sin\\theta_t + \\hat{z}\\cos\\theta_t\n",
    "&\\quad\\mathrm{y}\\quad& \n",
    "\\hat{e}_t &=& \\hat{x}\\cos\\theta_t - \\hat{z}\\sin\\theta_t\n",
    "\\end{eqnarray*}"
   ]
  },
  {
   "cell_type": "markdown",
   "id": "4476682a",
   "metadata": {
    "cell_style": "center",
    "slideshow": {
     "slide_type": "slide"
    }
   },
   "source": [
    "Reemplazando en las soluciones generales,\n",
    "\n",
    "\\begin{eqnarray*}\n",
    "\\vec{E}_i &=& E_i e^{ ik_0n_1\\left(z\\cos\\theta_i + x\\sin\\theta_i\\right)}e^{-i\\omega t} \\left(\\hat{x}\\cos\\theta_i -\\hat{z}\\sin\\theta_i\\right)\\quad\\quad &&\\mathrm{onda~incidente}\n",
    " \\\\\n",
    "\\vec{E}_r &=& E_r e^{ ik_0n_1\\left(-z\\cos\\theta_r + x\\sin\\theta_r\\right)}e^{-i\\omega t} \\left(\\hat{x}\\cos\\theta_r +\\hat{z}\\sin\\theta_r\\right)\\quad\\quad &&\\mathrm{onda~reflejada}\n",
    "\\\\\n",
    "\\vec{E}_t &=& E_t e^{ ik_0n_2\\left(z\\cos\\theta_t + x\\sin\\theta_t\\right)}e^{-i\\omega t} \\left(\\hat{x}\\cos\\theta_t -\\hat{z}\\sin\\theta_t\\right)\\quad\\quad \n",
    "&&\\mathrm{onda~transmitida}\n",
    "\\end{eqnarray*}"
   ]
  },
  {
   "cell_type": "markdown",
   "id": "fe89145b",
   "metadata": {
    "slideshow": {
     "slide_type": "fragment"
    }
   },
   "source": [
    "De igual forma, a partir de la relación $\\vec{H} = \\frac{E}{Z_0Z_r}\\left(\\hat{k}\\times\\hat{e}\\right)$,\n",
    "\n",
    "\\begin{eqnarray*}\n",
    "\\vec{H}_i &=& \\frac{n_1E_i}{Z_0}e^{ ik_0n_1\\left(z\\cos\\theta_i + x\\sin\\theta_i\\right)}e^{-i\\omega t}\\left(\\hat{y}\\right)\\quad\\quad &&\\mathrm{onda~incidente}\n",
    " \\\\\n",
    "\\vec{H}_r &=& \\frac{n_1E_r}{Z_0} e^{ ik_0n_1\\left(-z\\cos\\theta_r + x\\sin\\theta_r\\right)}e^{-i\\omega t} \\left(-\\hat{y}\\right)\\quad\\quad &&\\mathrm{onda~reflejada}\n",
    "\\\\\n",
    "\\vec{H}_t &=& \\frac{n_2E_t}{Z_0} e^{ ik_0n_2\\left(z\\cos\\theta_t + x\\sin\\theta_t\\right)}e^{-i\\omega t} \\left(\\hat{y}\\right)\\quad\\quad \n",
    "&&\\mathrm{onda~transmitida}\n",
    "\\end{eqnarray*}"
   ]
  },
  {
   "cell_type": "markdown",
   "id": "dc334364",
   "metadata": {
    "slideshow": {
     "slide_type": "slide"
    }
   },
   "source": [
    "A partir de la condición de borde en la interface $z =0$:\n",
    "\n",
    "$$E^{\\parallel}_1|_{z=0} - E^{\\parallel}_2|_{z=0} = 0$$"
   ]
  },
  {
   "cell_type": "markdown",
   "id": "3b3ade24",
   "metadata": {
    "slideshow": {
     "slide_type": "fragment"
    }
   },
   "source": [
    "Tenemos:\n",
    "\n",
    "\\begin{equation*}\n",
    "E_i\\cos\\theta_i e^{ ik_0n_1x\\sin\\theta_i}+E_r\\cos\\theta_r e^{ ik_0n_1x\\sin\\theta_r} - E_t\\cos\\theta_t e^{ ik_0n_1x\\sin\\theta_t} = 0\n",
    "\\end{equation*}"
   ]
  },
  {
   "cell_type": "markdown",
   "id": "06d82130",
   "metadata": {
    "slideshow": {
     "slide_type": "fragment"
    }
   },
   "source": [
    "Dado que esta ecuación se debe satisfacer para cualquier punto $x$, los exponentes debe ser iguales:\n",
    "\n",
    "\\begin{equation*}\n",
    "n_1\\sin\\theta_i = n_1\\sin\\theta_r = n_2\\sin\\theta_t\n",
    "\\end{equation*}"
   ]
  },
  {
   "cell_type": "markdown",
   "id": "d24178a8",
   "metadata": {
    "slideshow": {
     "slide_type": "fragment"
    }
   },
   "source": [
    "Esto nos lleva a las leyes de Snell, para reflexión y transmisión:\n",
    "\n",
    "\\begin{equation*}\n",
    "\\theta_i = \\theta_r\\quad\\quad\\mathrm{y}\\quad\\quad n_1\\sin\\theta_i = n_2\\sin\\theta_t\n",
    "\\end{equation*}"
   ]
  },
  {
   "cell_type": "markdown",
   "id": "ebaf7f99",
   "metadata": {
    "slideshow": {
     "slide_type": "slide"
    }
   },
   "source": [
    "Finalmente, la condición de borde del campo eléctrico queda:\n",
    "\n",
    "\\begin{equation}\\label{eq:boundaryE}\n",
    "E_i\\cos\\theta_i +E_r\\cos\\theta_r  - E_t\\cos\\theta_t = 0\n",
    "\\end{equation}"
   ]
  },
  {
   "cell_type": "markdown",
   "id": "7ee20184",
   "metadata": {
    "slideshow": {
     "slide_type": "fragment"
    }
   },
   "source": [
    "De igual forma, de la condición de borde $H^{\\parallel}_1 - H^{\\parallel}_2 = 0$, deducimos:\n",
    "\n",
    "\\begin{equation}\n",
    "n_1E_i - n_1E_r  - n_2E_t = 0 \\label{eq:boundaryH}\n",
    "\\end{equation}"
   ]
  },
  {
   "cell_type": "markdown",
   "id": "b988e005",
   "metadata": {
    "slideshow": {
     "slide_type": "slide"
    }
   },
   "source": [
    "A partir de estas dos ecuaciones, determinamos los coeficientes de Fresnel de reflexión ($r_\\mathrm{TM}$) y transmisión ($t_\\mathrm{TM}$) para una onda TM:\n",
    "\n",
    "\\begin{align}\n",
    "r_\\mathrm{TM} &= \\frac{E_r^\\mathrm{TM}}{E_i^\\mathrm{TM}} = \\frac{n_1\\cos\\theta_t-n_2\\cos\\theta_i}\n",
    "{n_1\\cos\\theta_t+n_2\\cos\\theta_i}\n",
    "\\\\[10pt]\n",
    "t_\\mathrm{TM} &= \\frac{E_t^\\mathrm{TM}}{E_i^\\mathrm{TM}} =\\frac{2n_1\\cos\\theta_t}\n",
    "{n_1\\cos\\theta_t+n_2\\cos\\theta_i}\n",
    "\\end{align}"
   ]
  },
  {
   "cell_type": "markdown",
   "id": "6b9df308",
   "metadata": {
    "slideshow": {
     "slide_type": "fragment"
    }
   },
   "source": [
    "Similarmente, para una onda transversal eléctrica (TE), los coeficientes de Fresnel son:\n",
    "\n",
    "\\begin{align}\n",
    "r_\\mathrm{TE} &= \\frac{E_r^\\mathrm{TE}}{E_i^\\mathrm{TE}} = \\frac{n_1\\cos\\theta_i -n_2\\cos\\theta_t}\n",
    "{n_1\\cos\\theta_i+n_2\\cos\\theta_t}\n",
    "\\\\[10pt]\n",
    "t_\\mathrm{TE} &= \\frac{E_t^\\mathrm{TE}}{E_i^\\mathrm{TE}} = \\frac{2n_1\\cos\\theta_i}\n",
    "{n_1\\cos\\theta_i+n_2\\cos\\theta_t}\n",
    "\\end{align}"
   ]
  },
  {
   "cell_type": "markdown",
   "id": "0f85e108",
   "metadata": {
    "slideshow": {
     "slide_type": "slide"
    }
   },
   "source": [
    ">Las relaciones para los coeficientes de Fresnel se mantienen para índices de refracción complejos. En este caso, solo debemos reemplazar $n_1$ por $N_1$, y $n_2$ por $N_2$"
   ]
  },
  {
   "cell_type": "markdown",
   "id": "6e1bbe42",
   "metadata": {
    "cell_style": "center",
    "slideshow": {
     "slide_type": "slide"
    }
   },
   "source": [
    "### Reflectividad y transmisividad"
   ]
  },
  {
   "cell_type": "markdown",
   "id": "3502a921",
   "metadata": {
    "cell_style": "center"
   },
   "source": [
    "Los coeficientes de Fresnel permiten determinar la magnitud del campo eléctrico (y magnético) reflejado y transmitido por una interface. Para determinar el flujo de energía a través de la interface, utilizamos el vector de Poynting. En el caso de la onda $\\mathrm{TM}$, y considerando indices de refracción complejos en los medios 1 y 2:\n",
    "\n",
    "\\begin{eqnarray*}\n",
    "\\biggl\\langle{\\vec{S}_i^\\mathrm{TM}}\\biggl\\rangle &=& \\frac{1}{2}\\mathrm{Re}\\left[\\vec{E}_i\\times\\vec{H}_i^*\\right] &=& \\mathrm{Re}\\left[N_1^* \\hat{k}_i\\right]\\frac{{\\left(E_i^\\mathrm{TM}\\right)}^2}{2Z_0}\n",
    "\\\\\n",
    "\\biggl\\langle{\\vec{S}_r^\\mathrm{TM}}\\biggl\\rangle &=& \\frac{1}{2}\\mathrm{Re}\\left[\\vec{E}_r\\times\\vec{H}_r^*\\right] &=& \\mathrm{Re}\\left[N_1^* \\hat{k}_r\\right]\\frac{{\\left(E_r^\\mathrm{TM}\\right)}^2}{2Z_0}\n",
    "\\\\\n",
    "\\biggl\\langle{\\vec{S}_t^\\mathrm{TM}}\\biggl\\rangle &=& \\frac{1}{2}\\mathrm{Re}\\left[\\vec{E}_t\\times\\vec{H}_t^*\\right] &=& \\mathrm{Re}\\left[N_2^* \\hat{k}_t\\right]\\frac{{\\left(E_t^\\mathrm{TM}\\right)}^2}{2Z_0}\n",
    "\\end{eqnarray*}"
   ]
  },
  {
   "cell_type": "markdown",
   "id": "ccd07a27",
   "metadata": {
    "cell_style": "center",
    "slideshow": {
     "slide_type": "slide"
    }
   },
   "source": [
    "La **reflectividad ($R$)** y **transmissivitdad ($T$)** se definen, repectivamente, como **el flujo de energía reflejada y transmitida relativa al flujo de energía incidente, y en dirección normal a la interface.** "
   ]
  },
  {
   "cell_type": "markdown",
   "id": "5d579128",
   "metadata": {
    "cell_style": "center",
    "slideshow": {
     "slide_type": "fragment"
    }
   },
   "source": [
    "Así, considerando la componente del vector de Poynting normal a $\\hat{n}$ (notar que $\\hat{n} = - \\hat{z}$ en nuestro ejemplo), tenemos:\n",
    "\n",
    "\\begin{eqnarray}\n",
    "R_\\mathrm{TM} &=& \\frac{S_{r,z}^\\mathrm{TM}}{S_{i,z}^\\mathrm{TM}} &=& \\lvert r_\\mathrm{TM}\\rvert^2\n",
    "\\\\[10pt]\n",
    "T_\\mathrm{TM} &=& \\frac{S_{t,z}^\\mathrm{TM}}{S_{i,z}^\\mathrm{TM}} &=& \\frac{\\mathrm{Re}\\left(N_2^*\\cos\\theta_t\\right)}{\\mathrm{Re}\\left(N_1^*\\cos\\theta_i\\right)}\\lvert t_\\mathrm{TM}\\rvert^2\n",
    "\\end{eqnarray}"
   ]
  },
  {
   "cell_type": "markdown",
   "id": "2f057d84",
   "metadata": {
    "cell_style": "center",
    "slideshow": {
     "slide_type": "fragment"
    }
   },
   "source": [
    "De igual forma, para una onda TE, tenemos\n",
    "\n",
    "\\begin{eqnarray}\n",
    "R_\\mathrm{TE} &=& \\lvert r_\\mathrm{TE}\\rvert^2\n",
    "\\\\[10pt]\n",
    "T_\\mathrm{TE} &=& \\frac{\\mathrm{Re}\\left(N_2\\cos\\theta_t\\right)}{\\mathrm{Re}\\left(N_1\\cos\\theta_i\\right)}\\lvert t_\\mathrm{TE}\\rvert^2\n",
    "\\end{eqnarray}"
   ]
  },
  {
   "cell_type": "markdown",
   "id": "27f6fc55",
   "metadata": {
    "slideshow": {
     "slide_type": "fragment"
    }
   },
   "source": [
    "Notar que por conservación de energía:\n",
    "\\begin{equation}\n",
    "R + T = 1\n",
    "\\end{equation}"
   ]
  },
  {
   "cell_type": "markdown",
   "id": "187bf3c4",
   "metadata": {
    "slideshow": {
     "slide_type": "slide"
    }
   },
   "source": [
    "### Casos particulares"
   ]
  },
  {
   "cell_type": "markdown",
   "id": "071f50fa",
   "metadata": {
    "cell_style": "center",
    "slideshow": {
     "slide_type": "-"
    }
   },
   "source": [
    "Asumiendo dos medios 1 y 2, con índice de refracción real, analicemos la reflectancia en función del ángulo de incidencia:\n",
    "- caso 1, $n_1 < n_2$\n",
    "- caso 2, $n_1 > n_2$"
   ]
  },
  {
   "cell_type": "code",
   "execution_count": 2,
   "id": "8d7bed6f",
   "metadata": {
    "cell_style": "center",
    "slideshow": {
     "slide_type": "slide"
    },
    "tags": [
     "hide-input"
    ]
   },
   "outputs": [],
   "source": [
    "import numpy as np\n",
    "from numpy import radians as rad # convertimos grados a radianes\n",
    "import matplotlib.pyplot as plt\n",
    "from empylib.waveoptics import interface\n",
    "\n",
    "theta = np.linspace(0,90,100) # Ángulo de incidencia\n",
    "\n",
    "# preparamos el ploteo\n",
    "def plot_R_interface(n1,n2):\n",
    "    \n",
    "    # Reflectividad en una interface\n",
    "    Rp = interface(rad(theta),n1,n2,pol='TM')[0] # TM\n",
    "    Rs = interface(rad(theta),n1,n2,pol='TE')[0] # TE\n",
    "    \n",
    "    fig, ax = plt.subplots()\n",
    "    fig.set_size_inches(5,3)\n",
    "    plt.rcParams['font.size'] = '14'\n",
    "    ax.plot(theta,Rp, label='$R_\\mathrm{TM}$', color='red')\n",
    "    ax.plot(theta,Rs, label='$R_\\mathrm{TE}$',color='blue')\n",
    "    ax.set_xlim([0,90])\n",
    "    ax.set_ylim([0,1.0])\n",
    "    ax.set_xlabel('Ángulo de incidencia (°)')\n",
    "    ax.set_ylabel('Reflectividad')\n",
    "    ax.legend(frameon=False)"
   ]
  },
  {
   "cell_type": "code",
   "execution_count": 3,
   "id": "42d89872",
   "metadata": {
    "cell_style": "split",
    "scrolled": false,
    "tags": [
     "hide-input"
    ]
   },
   "outputs": [
    {
     "data": {
      "application/vnd.jupyter.widget-view+json": {
       "model_id": "8d0205e5f6ed4ce28be97402e0fe0ac3",
       "version_major": 2,
       "version_minor": 0
      },
      "text/plain": [
       "interactive(children=(FloatSlider(value=1.0, description='n1', max=5.0, min=1.0), FloatSlider(value=1.5, descr…"
      ]
     },
     "metadata": {},
     "output_type": "display_data"
    }
   ],
   "source": [
    "from ipywidgets import interact\n",
    "\n",
    "@interact( n1=(1,5, 0.1), n2=(1,5, 0.1))\n",
    "def g(n1=1.0, n2=1.5):\n",
    "    return plot_R_interface(n1,n2)"
   ]
  },
  {
   "cell_type": "markdown",
   "id": "63a4161a",
   "metadata": {
    "cell_style": "center",
    "slideshow": {
     "slide_type": "slide"
    }
   },
   "source": [
    "Cuando $n_1 < n_2$ vemos que $R_\\mathrm{TM} = 0$ en un cierto ángulo. Este ángulo se denomina **ángulo de Brewster.** En este ángulo solo la componente TE es reflejada. "
   ]
  },
  {
   "cell_type": "markdown",
   "id": "b5158912",
   "metadata": {
    "cell_style": "split",
    "slideshow": {
     "slide_type": "fragment"
    }
   },
   "source": [
    "Los lentes polarizados toman ventaja del ángulo de Brewster. Estos lentes están diseñados para bloquear las ondas TE, y de esta forma reducir el brillo enceguecedor generado por la reflección de la luz solar"
   ]
  },
  {
   "cell_type": "markdown",
   "id": "2edd4f05",
   "metadata": {
    "cell_style": "split",
    "slideshow": {
     "slide_type": "-"
    }
   },
   "source": [
    "<img src=\"./images/polarized_glasses.jpg\" width=\"350px\" align= center>"
   ]
  },
  {
   "cell_type": "markdown",
   "id": "8884b02f",
   "metadata": {
    "slideshow": {
     "slide_type": "fragment"
    }
   },
   "source": [
    "Así, si giramos los lentes en posición vertical (asumiento lentes con alto nivel de polarización), el efecto se invierte. Es decir, las ondas TE se transmiten y las TM no."
   ]
  },
  {
   "cell_type": "markdown",
   "id": "247f0d78",
   "metadata": {
    "slideshow": {
     "slide_type": "slide"
    }
   },
   "source": [
    "En el siguiente video, podemos ver el efecto de la polarización. Aquí, la luz no puede pasar a través de dos polarizadores cuando son oriententados en direcciones perpendiculares."
   ]
  },
  {
   "cell_type": "code",
   "execution_count": 4,
   "id": "79a6b530",
   "metadata": {
    "slideshow": {
     "slide_type": "fragment"
    },
    "tags": [
     "remove-input"
    ]
   },
   "outputs": [
    {
     "data": {
      "image/jpeg": "[encoded data removed]",
      "text/html": [
       "\n",
       "<iframe\n",
       "    width=\"600\"\n",
       "    height=\"400\"\n",
       "    src=\"https://www.youtube.com/embed/5SIxEiL8ujA?playsinline=0&start=0\"\n",
       "    frameborder=\"0\"\n",
       "    allowfullscreen\n",
       "\n",
       "></iframe>\n"
      ],
      "text/plain": [
       "<IPython.lib.display.YouTubeVideo at 0x7fe9e43fe910>"
      ]
     },
     "execution_count": 4,
     "metadata": {
      "filenames": {
       "image/jpeg": "/mnt/c/Users/francisco.ramirez.c/OneDrive - Universidad Adolfo Ibanez/Teaching_courses/MEC501 - Manejo_y_Conversion_Energia_Solar_Termica/material_catedra/_build/jupyter_execute/02_ondas_EM_en_la_materia/02_ondas_EM_en_la_materia_64_0.jpg"
      }
     },
     "output_type": "execute_result"
    }
   ],
   "source": [
    "from IPython.display import YouTubeVideo\n",
    "YouTubeVideo('5SIxEiL8ujA', width=600, height=400,  playsinline=0, start=0)"
   ]
  },
  {
   "cell_type": "markdown",
   "id": "dbd5ed1c",
   "metadata": {
    "slideshow": {
     "slide_type": "fragment"
    }
   },
   "source": [
    "¿Como se explica el efecto del tercer polarizador?"
   ]
  },
  {
   "cell_type": "markdown",
   "id": "facd7e0b",
   "metadata": {
    "slideshow": {
     "slide_type": "slide"
    }
   },
   "source": [
    "Por otro lado, cuando $n_1 > n_2$, vemos que $R_\\mathrm{TM} = R_\\mathrm{TE} = 0$ sobre cierto ángulo. Este ángulo se denomina **ángulo crítico ($\\theta_c$).** Para deterinar el ángulo crítico usamos la ley de Snell."
   ]
  },
  {
   "cell_type": "markdown",
   "id": "65963ef2",
   "metadata": {
    "cell_style": "split"
   },
   "source": [
    "El ángulo máximo para la onda transmitida es $\\theta_t = 90^o$, la ley de Snell nos indica que existe un ángulo crítico. Sobre este valor, no existe solución real.\n",
    "\n",
    "\\begin{equation}\n",
    "n_1\\sin\\theta_c = n_2\\sin90^o \\Rightarrow \\theta_c = \\arcsin\\left(n_2/n_1\\right)\n",
    "\\end{equation}\n",
    "\n",
    "**Para $\\theta_i > \\theta_c$, $R_\\mathrm{TE} = R_\\mathrm{TM} = 1$.**"
   ]
  },
  {
   "cell_type": "markdown",
   "id": "34422d42",
   "metadata": {
    "cell_style": "split"
   },
   "source": [
    "Este mecanismo se llama **reflección interna total** y es la base para el funcionamiento de fibras ópticas y lasers\n",
    "<img src=\"./images/optical_fiber.png\" width=\"450px\" align= center>"
   ]
  },
  {
   "cell_type": "markdown",
   "id": "5536a48a",
   "metadata": {
    "slideshow": {
     "slide_type": "slide"
    }
   },
   "source": [
    "## Reflección y transmissión en películas delgadas\n",
    "En el caso materiales de película delgada, las ondas electromagnéticas se reflejan y transmiten múltiples veces.\n",
    "\n",
    "<img src=\"./images/reflectance_thinfilm.png\" width=\"600px\" align= center>"
   ]
  },
  {
   "cell_type": "markdown",
   "id": "6937e4c8",
   "metadata": {
    "slideshow": {
     "slide_type": "slide"
    }
   },
   "source": [
    "Considerando los medios 1,2 y 3 ordenados consecutivamente en dirección de la onda incidente, con el medio 2 condicionado por un espesor $d$, se puede demostrar que en este caso los coeficientes de Fresnel, para indices de refracción reales son:\n",
    "\n",
    "\\begin{align}\n",
    "r &= \\frac{r_{12}+r_{23}e^{2i\\varphi_2}}\n",
    "          {1+r_{12}r_{23}e^{2i\\varphi_2}}\n",
    "\\\\[10pt]\n",
    "t &= \\frac{t_{12}t_{23}e^{i\\varphi_2}}\n",
    "          {1+r_{12}r_{23}e^{2i\\varphi_2}}\n",
    "\\end{align}\n",
    "\n",
    "donde $\\varphi_2 = N_2k_0d\\cos\\theta_2$ ($\\theta_2$ es el ángulo de transmisión en el medio 2); $r_{12}$, $r_{23}$ y $t_{12}$, $t_{23}$ son, respectivamente, los coeficientes de Fresnel desde el medio 1 al medio 2, y desde el medio 2 al medio 3. Estas fórmulas son válidas tanto para ondas TE como para ondas TM."
   ]
  },
  {
   "cell_type": "markdown",
   "id": "5735fd3a",
   "metadata": {
    "slideshow": {
     "slide_type": "fragment"
    }
   },
   "source": [
    "Basado en estas expresiones, podemos calcular la reflectividad y tranmissividad de la película:\n",
    "\n",
    "\\begin{align}\n",
    "R = {\\lvert r\\rvert}^2 &= \\frac{r_{12}^2+r_{23}^2+2r_{12}r_{23}\\cos 2\\varphi_2}\n",
    "                              {1 + 2r_{12}r_{23}\\cos 2\\varphi_2 + r_{12}^2r_{23}^2}\n",
    "\\\\[10pt]\n",
    "T = \\frac{n_3\\cos\\theta_t}{n_1\\cos\\theta_i}{\\lvert t\\rvert}^2 &= \n",
    "\\frac{\\left(1 - r_{12}^2\\right)\\left(1 - r_{23}^2\\right)}\n",
    "     {1 + 2r_{12}r_{23}\\cos 2\\varphi_2 + r_{12}^2r_{23}^2}\n",
    "\\end{align}"
   ]
  },
  {
   "cell_type": "markdown",
   "id": "9e4bca52",
   "metadata": {
    "slideshow": {
     "slide_type": "slide"
    }
   },
   "source": [
    "Analicemos como se comportan estas ecuaciones en un caso real. \n",
    "\n",
    "Como ejemplo, consideremos la reflectividad de una película delgada de sílice (SiO$_2$) sobre un sustrato de silicio. Esta capa se genera naturalmente debido a la oxidación del silicio\n",
    "\n",
    "<img src=\"./images/sio2_coating.png\" width=\"600px\" align= center>\n",
    "\n",
    "Para simplificar, consideremos:\n",
    "- índice de refracción del aire: 1.0\n",
    "- índice de refracción de sílice: 1.5\n",
    "- índice de refracción del silicio: 4.3\n",
    "- espectro de longitudes de onda: 300 - 800 nm (visible)\n",
    "- espesor del sílice, $d$: variable\n",
    "- ángulo de incidencia $\\theta_i$: variable"
   ]
  },
  {
   "cell_type": "code",
   "execution_count": 5,
   "id": "e4453a7a",
   "metadata": {
    "cell_style": "split",
    "slideshow": {
     "slide_type": "slide"
    },
    "tags": [
     "hide-input"
    ]
   },
   "outputs": [],
   "source": [
    "import numpy as np\n",
    "from numpy import radians as rad # convertimos grados a radianes\n",
    "import matplotlib.pyplot as plt\n",
    "from empylib.waveoptics import multilayer\n",
    "\n",
    "# Reflectividad en capa delgada\n",
    "lam = np.linspace(0.3,0.8,100)          # longitud de onda (en um)\n",
    "n_layers = (1.0,1.5,4.3)     # índices de refracción n1, n2, n3\n",
    "\n",
    "# preparamos el ploteo\n",
    "def plot_R_multi(theta,d):\n",
    "    \n",
    "    Rp = multilayer(lam, rad(theta),n_layers, (d,), 'TM')[0]\n",
    "    Rs = multilayer(lam, rad(theta),n_layers, (d,), 'TE')[0]\n",
    "    \n",
    "    fig, ax = plt.subplots()\n",
    "    fig.set_size_inches(5, 3)\n",
    "    plt.rcParams['font.size'] = '14'\n",
    "    ax.plot(lam,Rp, label='$R_\\mathrm{TM}$', color='red')\n",
    "    ax.plot(lam,Rs, label='$R_\\mathrm{TE}$',color='blue')\n",
    "    ax.set_xlim([min(lam),max(lam)])\n",
    "    ax.set_ylim([0,1.0])\n",
    "    ax.set_xlabel('Longitud de onda ($\\mu$m)')\n",
    "    ax.set_ylabel('Reflectividad')\n",
    "    ax.legend(frameon=False)"
   ]
  },
  {
   "cell_type": "code",
   "execution_count": 6,
   "id": "97271595",
   "metadata": {
    "cell_style": "split",
    "tags": [
     "hide-input"
    ]
   },
   "outputs": [
    {
     "data": {
      "application/vnd.jupyter.widget-view+json": {
       "model_id": "26a4eda35b47435fa7fb59269bf75517",
       "version_major": 2,
       "version_minor": 0
      },
      "text/plain": [
       "interactive(children=(IntSlider(value=30, description='theta', max=89, step=10), FloatSlider(value=0.3, descri…"
      ]
     },
     "metadata": {},
     "output_type": "display_data"
    }
   ],
   "source": [
    "from ipywidgets import interact\n",
    "\n",
    "@interact(theta=(0,89,10), d=(0,1.0,0.01))\n",
    "def g(theta=30, d=0.3):\n",
    "    return plot_R_multi(theta,d)"
   ]
  },
  {
   "cell_type": "markdown",
   "id": "43438f9c",
   "metadata": {
    "cell_style": "split",
    "slideshow": {
     "slide_type": "slide"
    }
   },
   "source": [
    "Esta oscilaciones en la reflectancia al variar $\\theta_i$ y $d$ son el resultado de la **interferencia** entre las ondas reflejadas en la parte inferior y superior de la película de silicio.\n",
    "\n",
    "<img src=\"./images/interference.png\" width=\"350px\" align= center>"
   ]
  },
  {
   "cell_type": "markdown",
   "id": "4037e868",
   "metadata": {
    "cell_style": "split",
    "slideshow": {
     "slide_type": "fragment"
    }
   },
   "source": [
    "En palabras simples, este fenómeno ocurre por qué la onda reflejada en la parte inferior de la película debe recorre un camino más largo. Esto produce un desface con las ondas reflejadas en la parte superior que deriva en interferencia constructiva (alta reflectividad) y destructiva (baja reflectividad)"
   ]
  },
  {
   "cell_type": "markdown",
   "id": "2af5990e",
   "metadata": {
    "slideshow": {
     "slide_type": "fragment"
    }
   },
   "source": [
    "Este fenómeno se manifiesta en forma de color ya que nuestros ojos son sensibles a los cambios de radiación en este espectro."
   ]
  },
  {
   "cell_type": "markdown",
   "id": "93e2c9e8",
   "metadata": {
    "slideshow": {
     "slide_type": "slide"
    }
   },
   "source": [
    "Analicemos como se manifiesta este fenómeno en forma de color:"
   ]
  },
  {
   "cell_type": "code",
   "execution_count": 7,
   "id": "04a79ec0",
   "metadata": {
    "cell_style": "split",
    "slideshow": {
     "slide_type": "-"
    },
    "tags": [
     "hide-input"
    ]
   },
   "outputs": [],
   "source": [
    "import numpy as np\n",
    "from numpy import radians as rad # convertimos grados a radianes\n",
    "import matplotlib.pyplot as plt\n",
    "from empylib.waveoptics import multilayer\n",
    "from empylib.ref_spectra import AM15\n",
    "from empylib.ref_spectra import color_system as cs\n",
    "cs = cs.hdtv\n",
    "\n",
    "# Reflectividad en capa delgada\n",
    "lam = np.linspace(0.3,0.8,100)   # longitud de onda (en um)\n",
    "n_layers = (1.0,1.5,4.3)         # índices de refracción n1, n2, n3\n",
    "\n",
    "cs.interp_internals(lam)\n",
    "def color_R_film(d):\n",
    "    Rp = lambda tt,d : multilayer(lam, rad(tt),n_layers, (d,), 'TM')[0]\n",
    "    Rs = lambda tt,d : multilayer(lam, rad(tt),n_layers, (d,), 'TE')[0]\n",
    "    \n",
    "    # formateamos la figura\n",
    "    fig, ax = plt.subplots()\n",
    "    fig.set_size_inches(6, 4)\n",
    "    plt.rcParams['font.size'] = '14'\n",
    "    \n",
    "    theta = np.linspace(0,90,100) # angulo de inciSdencia\n",
    "    for tt in theta: \n",
    "        R = 0.5*Rp(tt,d) + 0.5*Rs(tt,d)\n",
    "        Irad = R*AM15(lam)\n",
    "        html_rgb = cs.spec_to_rgb(Irad, out_fmt='html')\n",
    "        ax.axvline(tt, color=html_rgb, linewidth=6) \n",
    "    ax.set_xlim([min(theta),max(theta)])\n",
    "    ax.set_ylim([0,1.0])\n",
    "    ax.axes.yaxis.set_visible(False)\n",
    "    ax.set_xlabel('Ángulo de incidencia (deg)')"
   ]
  },
  {
   "cell_type": "code",
   "execution_count": 8,
   "id": "dd72f038",
   "metadata": {
    "cell_style": "split",
    "tags": [
     "hide-input"
    ]
   },
   "outputs": [
    {
     "data": {
      "application/vnd.jupyter.widget-view+json": {
       "model_id": "991488dae1b44db98596d9476e093d41",
       "version_major": 2,
       "version_minor": 0
      },
      "text/plain": [
       "interactive(children=(FloatSlider(value=0.28, description='d', max=1.0, step=0.001), Output()), _dom_classes=(…"
      ]
     },
     "metadata": {},
     "output_type": "display_data"
    }
   ],
   "source": [
    "from ipywidgets import interact\n",
    "\n",
    "@interact(d=(0,1.0,0.001))\n",
    "def g(d=0.28):\n",
    "    return color_R_film(d)"
   ]
  },
  {
   "cell_type": "markdown",
   "id": "17c1dc23",
   "metadata": {
    "slideshow": {
     "slide_type": "slide"
    }
   },
   "source": [
    "## Referencias\n",
    "Griffths D., *Introduction to Electrodynamics*, 4th Ed, Pearson, 2013\n",
    "- 7.3 Maxwell's Equations (7.36)\n",
    "- 9 Electromagnetic Waves (9.3 y 9.4)"
   ]
  }
 ],
 "metadata": {
  "celltoolbar": "Slideshow",
  "kernelspec": {
   "display_name": "Python 3 (ipykernel)",
   "language": "python",
   "name": "python3"
  },
  "language_info": {
   "codemirror_mode": {
    "name": "ipython",
    "version": 3
   },
   "file_extension": ".py",
   "mimetype": "text/x-python",
   "name": "python",
   "nbconvert_exporter": "python",
   "pygments_lexer": "ipython3",
   "version": "3.9.13"
  },
  "latex_envs": {
   "LaTeX_envs_menu_present": true,
   "autoclose": true,
   "autocomplete": true,
   "bibliofile": "biblio.bib",
   "cite_by": "apalike",
   "current_citInitial": 1,
   "eqLabelWithNumbers": true,
   "eqNumInitial": 1,
   "hotkeys": {
    "equation": "Ctrl-E",
    "itemize": "Ctrl-I"
   },
   "labels_anchors": false,
   "latex_user_defs": false,
   "report_style_numbering": false,
   "user_envs_cfg": false
  },
  "toc": {
   "base_numbering": 1,
   "nav_menu": {},
   "number_sections": true,
   "sideBar": true,
   "skip_h1_title": true,
   "title_cell": "Tabla de contenidos",
   "title_sidebar": "Contenidos",
   "toc_cell": false,
   "toc_position": {
    "height": "calc(100% - 180px)",
    "left": "10px",
    "top": "150px",
    "width": "307.2px"
   },
   "toc_section_display": true,
   "toc_window_display": false
  },
  "varInspector": {
   "cols": {
    "lenName": 16,
    "lenType": 16,
    "lenVar": 40
   },
   "kernels_config": {
    "python": {
     "delete_cmd_postfix": "",
     "delete_cmd_prefix": "del ",
     "library": "var_list.py",
     "varRefreshCmd": "print(var_dic_list())"
    },
    "r": {
     "delete_cmd_postfix": ") ",
     "delete_cmd_prefix": "rm(",
     "library": "var_list.r",
     "varRefreshCmd": "cat(var_dic_list()) "
    }
   },
   "types_to_exclude": [
    "module",
    "function",
    "builtin_function_or_method",
    "instance",
    "_Feature"
   ],
   "window_display": false
  },
  "widgets": {
   "application/vnd.jupyter.widget-state+json": {
    "state": {
     "12928fb5fdf84cbeb11e6947379da6ed": {
      "model_module": "@jupyter-widgets/base",
      "model_module_version": "1.2.0",
      "model_name": "LayoutModel",
      "state": {
       "_model_module": "@jupyter-widgets/base",
       "_model_module_version": "1.2.0",
       "_model_name": "LayoutModel",
       "_view_count": null,
       "_view_module": "@jupyter-widgets/base",
       "_view_module_version": "1.2.0",
       "_view_name": "LayoutView",
       "align_content": null,
       "align_items": null,
       "align_self": null,
       "border": null,
       "bottom": null,
       "display": null,
       "flex": null,
       "flex_flow": null,
       "grid_area": null,
       "grid_auto_columns": null,
       "grid_auto_flow": null,
       "grid_auto_rows": null,
       "grid_column": null,
       "grid_gap": null,
       "grid_row": null,
       "grid_template_areas": null,
       "grid_template_columns": null,
       "grid_template_rows": null,
       "height": null,
       "justify_content": null,
       "justify_items": null,
       "left": null,
       "margin": null,
       "max_height": null,
       "max_width": null,
       "min_height": null,
       "min_width": null,
       "object_fit": null,
       "object_position": null,
       "order": null,
       "overflow": null,
       "overflow_x": null,
       "overflow_y": null,
       "padding": null,
       "right": null,
       "top": null,
       "visibility": null,
       "width": null
      }
     },
     "1889c601c05e41f5b6364ee36a1d20f6": {
      "model_module": "@jupyter-widgets/controls",
      "model_module_version": "1.5.0",
      "model_name": "SliderStyleModel",
      "state": {
       "_model_module": "@jupyter-widgets/controls",
       "_model_module_version": "1.5.0",
       "_model_name": "SliderStyleModel",
       "_view_count": null,
       "_view_module": "@jupyter-widgets/base",
       "_view_module_version": "1.2.0",
       "_view_name": "StyleView",
       "description_width": "",
       "handle_color": null
      }
     },
     "2210da162eb745368d0b72a5f3878348": {
      "model_module": "@jupyter-widgets/base",
      "model_module_version": "1.2.0",
      "model_name": "LayoutModel",
      "state": {
       "_model_module": "@jupyter-widgets/base",
       "_model_module_version": "1.2.0",
       "_model_name": "LayoutModel",
       "_view_count": null,
       "_view_module": "@jupyter-widgets/base",
       "_view_module_version": "1.2.0",
       "_view_name": "LayoutView",
       "align_content": null,
       "align_items": null,
       "align_self": null,
       "border": null,
       "bottom": null,
       "display": null,
       "flex": null,
       "flex_flow": null,
       "grid_area": null,
       "grid_auto_columns": null,
       "grid_auto_flow": null,
       "grid_auto_rows": null,
       "grid_column": null,
       "grid_gap": null,
       "grid_row": null,
       "grid_template_areas": null,
       "grid_template_columns": null,
       "grid_template_rows": null,
       "height": null,
       "justify_content": null,
       "justify_items": null,
       "left": null,
       "margin": null,
       "max_height": null,
       "max_width": null,
       "min_height": null,
       "min_width": null,
       "object_fit": null,
       "object_position": null,
       "order": null,
       "overflow": null,
       "overflow_x": null,
       "overflow_y": null,
       "padding": null,
       "right": null,
       "top": null,
       "visibility": null,
       "width": null
      }
     },
     "26a4eda35b47435fa7fb59269bf75517": {
      "model_module": "@jupyter-widgets/controls",
      "model_module_version": "1.5.0",
      "model_name": "VBoxModel",
      "state": {
       "_dom_classes": [
        "widget-interact"
       ],
       "_model_module": "@jupyter-widgets/controls",
       "_model_module_version": "1.5.0",
       "_model_name": "VBoxModel",
       "_view_count": null,
       "_view_module": "@jupyter-widgets/controls",
       "_view_module_version": "1.5.0",
       "_view_name": "VBoxView",
       "box_style": "",
       "children": [
        "IPY_MODEL_c2b316e786c741088c8805f8bde875ca",
        "IPY_MODEL_a4f6b39af8c640128e173ef6c87386cb",
        "IPY_MODEL_2f7296be3be84244b7e21581e9b4fb1b"
       ],
       "layout": "IPY_MODEL_4dea0850dc114ea48e4c2823b6af6a60"
      }
     },
     "28264c74e0fd43148639607037e963a3": {
      "model_module": "@jupyter-widgets/base",
      "model_module_version": "1.2.0",
      "model_name": "LayoutModel",
      "state": {
       "_model_module": "@jupyter-widgets/base",
       "_model_module_version": "1.2.0",
       "_model_name": "LayoutModel",
       "_view_count": null,
       "_view_module": "@jupyter-widgets/base",
       "_view_module_version": "1.2.0",
       "_view_name": "LayoutView",
       "align_content": null,
       "align_items": null,
       "align_self": null,
       "border": null,
       "bottom": null,
       "display": null,
       "flex": null,
       "flex_flow": null,
       "grid_area": null,
       "grid_auto_columns": null,
       "grid_auto_flow": null,
       "grid_auto_rows": null,
       "grid_column": null,
       "grid_gap": null,
       "grid_row": null,
       "grid_template_areas": null,
       "grid_template_columns": null,
       "grid_template_rows": null,
       "height": null,
       "justify_content": null,
       "justify_items": null,
       "left": null,
       "margin": null,
       "max_height": null,
       "max_width": null,
       "min_height": null,
       "min_width": null,
       "object_fit": null,
       "object_position": null,
       "order": null,
       "overflow": null,
       "overflow_x": null,
       "overflow_y": null,
       "padding": null,
       "right": null,
       "top": null,
       "visibility": null,
       "width": null
      }
     },
     "28a9806fefd0497c94508c5a4769bbfa": {
      "model_module": "@jupyter-widgets/base",
      "model_module_version": "1.2.0",
      "model_name": "LayoutModel",
      "state": {
       "_model_module": "@jupyter-widgets/base",
       "_model_module_version": "1.2.0",
       "_model_name": "LayoutModel",
       "_view_count": null,
       "_view_module": "@jupyter-widgets/base",
       "_view_module_version": "1.2.0",
       "_view_name": "LayoutView",
       "align_content": null,
       "align_items": null,
       "align_self": null,
       "border": null,
       "bottom": null,
       "display": null,
       "flex": null,
       "flex_flow": null,
       "grid_area": null,
       "grid_auto_columns": null,
       "grid_auto_flow": null,
       "grid_auto_rows": null,
       "grid_column": null,
       "grid_gap": null,
       "grid_row": null,
       "grid_template_areas": null,
       "grid_template_columns": null,
       "grid_template_rows": null,
       "height": null,
       "justify_content": null,
       "justify_items": null,
       "left": null,
       "margin": null,
       "max_height": null,
       "max_width": null,
       "min_height": null,
       "min_width": null,
       "object_fit": null,
       "object_position": null,
       "order": null,
       "overflow": null,
       "overflow_x": null,
       "overflow_y": null,
       "padding": null,
       "right": null,
       "top": null,
       "visibility": null,
       "width": null
      }
     },
     "2e4b2f59128a4c909eec382b5803ae59": {
      "model_module": "@jupyter-widgets/controls",
      "model_module_version": "1.5.0",
      "model_name": "SliderStyleModel",
      "state": {
       "_model_module": "@jupyter-widgets/controls",
       "_model_module_version": "1.5.0",
       "_model_name": "SliderStyleModel",
       "_view_count": null,
       "_view_module": "@jupyter-widgets/base",
       "_view_module_version": "1.2.0",
       "_view_name": "StyleView",
       "description_width": "",
       "handle_color": null
      }
     },
     "2f7296be3be84244b7e21581e9b4fb1b": {
      "model_module": "@jupyter-widgets/output",
      "model_module_version": "1.0.0",
      "model_name": "OutputModel",
      "state": {
       "_dom_classes": [],
       "_model_module": "@jupyter-widgets/output",
       "_model_module_version": "1.0.0",
       "_model_name": "OutputModel",
       "_view_count": null,
       "_view_module": "@jupyter-widgets/output",
       "_view_module_version": "1.0.0",
       "_view_name": "OutputView",
       "layout": "IPY_MODEL_bbd6b8ed4b44409ca2e0d2ad436d804a",
       "msg_id": "",
       "outputs": [
        {
         "data": {
          "image/png": "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\n",
          "text/plain": "<Figure size 360x216 with 1 Axes>"
         },
         "metadata": {
          "needs_background": "light"
         },
         "output_type": "display_data"
        }
       ]
      }
     },
     "484942d45d2a467aa8f7c254233d741d": {
      "model_module": "@jupyter-widgets/base",
      "model_module_version": "1.2.0",
      "model_name": "LayoutModel",
      "state": {
       "_model_module": "@jupyter-widgets/base",
       "_model_module_version": "1.2.0",
       "_model_name": "LayoutModel",
       "_view_count": null,
       "_view_module": "@jupyter-widgets/base",
       "_view_module_version": "1.2.0",
       "_view_name": "LayoutView",
       "align_content": null,
       "align_items": null,
       "align_self": null,
       "border": null,
       "bottom": null,
       "display": null,
       "flex": null,
       "flex_flow": null,
       "grid_area": null,
       "grid_auto_columns": null,
       "grid_auto_flow": null,
       "grid_auto_rows": null,
       "grid_column": null,
       "grid_gap": null,
       "grid_row": null,
       "grid_template_areas": null,
       "grid_template_columns": null,
       "grid_template_rows": null,
       "height": null,
       "justify_content": null,
       "justify_items": null,
       "left": null,
       "margin": null,
       "max_height": null,
       "max_width": null,
       "min_height": null,
       "min_width": null,
       "object_fit": null,
       "object_position": null,
       "order": null,
       "overflow": null,
       "overflow_x": null,
       "overflow_y": null,
       "padding": null,
       "right": null,
       "top": null,
       "visibility": null,
       "width": null
      }
     },
     "4a78298b16d8447981cc7e9f03ab9f28": {
      "model_module": "@jupyter-widgets/base",
      "model_module_version": "1.2.0",
      "model_name": "LayoutModel",
      "state": {
       "_model_module": "@jupyter-widgets/base",
       "_model_module_version": "1.2.0",
       "_model_name": "LayoutModel",
       "_view_count": null,
       "_view_module": "@jupyter-widgets/base",
       "_view_module_version": "1.2.0",
       "_view_name": "LayoutView",
       "align_content": null,
       "align_items": null,
       "align_self": null,
       "border": null,
       "bottom": null,
       "display": null,
       "flex": null,
       "flex_flow": null,
       "grid_area": null,
       "grid_auto_columns": null,
       "grid_auto_flow": null,
       "grid_auto_rows": null,
       "grid_column": null,
       "grid_gap": null,
       "grid_row": null,
       "grid_template_areas": null,
       "grid_template_columns": null,
       "grid_template_rows": null,
       "height": null,
       "justify_content": null,
       "justify_items": null,
       "left": null,
       "margin": null,
       "max_height": null,
       "max_width": null,
       "min_height": null,
       "min_width": null,
       "object_fit": null,
       "object_position": null,
       "order": null,
       "overflow": null,
       "overflow_x": null,
       "overflow_y": null,
       "padding": null,
       "right": null,
       "top": null,
       "visibility": null,
       "width": null
      }
     },
     "4dea0850dc114ea48e4c2823b6af6a60": {
      "model_module": "@jupyter-widgets/base",
      "model_module_version": "1.2.0",
      "model_name": "LayoutModel",
      "state": {
       "_model_module": "@jupyter-widgets/base",
       "_model_module_version": "1.2.0",
       "_model_name": "LayoutModel",
       "_view_count": null,
       "_view_module": "@jupyter-widgets/base",
       "_view_module_version": "1.2.0",
       "_view_name": "LayoutView",
       "align_content": null,
       "align_items": null,
       "align_self": null,
       "border": null,
       "bottom": null,
       "display": null,
       "flex": null,
       "flex_flow": null,
       "grid_area": null,
       "grid_auto_columns": null,
       "grid_auto_flow": null,
       "grid_auto_rows": null,
       "grid_column": null,
       "grid_gap": null,
       "grid_row": null,
       "grid_template_areas": null,
       "grid_template_columns": null,
       "grid_template_rows": null,
       "height": null,
       "justify_content": null,
       "justify_items": null,
       "left": null,
       "margin": null,
       "max_height": null,
       "max_width": null,
       "min_height": null,
       "min_width": null,
       "object_fit": null,
       "object_position": null,
       "order": null,
       "overflow": null,
       "overflow_x": null,
       "overflow_y": null,
       "padding": null,
       "right": null,
       "top": null,
       "visibility": null,
       "width": null
      }
     },
     "590b6725cc4644ff8d219eb47ad073ad": {
      "model_module": "@jupyter-widgets/controls",
      "model_module_version": "1.5.0",
      "model_name": "SliderStyleModel",
      "state": {
       "_model_module": "@jupyter-widgets/controls",
       "_model_module_version": "1.5.0",
       "_model_name": "SliderStyleModel",
       "_view_count": null,
       "_view_module": "@jupyter-widgets/base",
       "_view_module_version": "1.2.0",
       "_view_name": "StyleView",
       "description_width": "",
       "handle_color": null
      }
     },
     "5e9f6d1f76394a36af95422c14c7ae4c": {
      "model_module": "@jupyter-widgets/controls",
      "model_module_version": "1.5.0",
      "model_name": "FloatSliderModel",
      "state": {
       "_dom_classes": [],
       "_model_module": "@jupyter-widgets/controls",
       "_model_module_version": "1.5.0",
       "_model_name": "FloatSliderModel",
       "_view_count": null,
       "_view_module": "@jupyter-widgets/controls",
       "_view_module_version": "1.5.0",
       "_view_name": "FloatSliderView",
       "continuous_update": true,
       "description": "n1",
       "description_tooltip": null,
       "disabled": false,
       "layout": "IPY_MODEL_28a9806fefd0497c94508c5a4769bbfa",
       "max": 5.0,
       "min": 1.0,
       "orientation": "horizontal",
       "readout": true,
       "readout_format": ".2f",
       "step": 0.1,
       "style": "IPY_MODEL_6583f60a24164742b669041f908d1ed9",
       "value": 1.0
      }
     },
     "6583f60a24164742b669041f908d1ed9": {
      "model_module": "@jupyter-widgets/controls",
      "model_module_version": "1.5.0",
      "model_name": "SliderStyleModel",
      "state": {
       "_model_module": "@jupyter-widgets/controls",
       "_model_module_version": "1.5.0",
       "_model_name": "SliderStyleModel",
       "_view_count": null,
       "_view_module": "@jupyter-widgets/base",
       "_view_module_version": "1.2.0",
       "_view_name": "StyleView",
       "description_width": "",
       "handle_color": null
      }
     },
     "668fd9f4d8f34c3b83cd24649efa9a01": {
      "model_module": "@jupyter-widgets/base",
      "model_module_version": "1.2.0",
      "model_name": "LayoutModel",
      "state": {
       "_model_module": "@jupyter-widgets/base",
       "_model_module_version": "1.2.0",
       "_model_name": "LayoutModel",
       "_view_count": null,
       "_view_module": "@jupyter-widgets/base",
       "_view_module_version": "1.2.0",
       "_view_name": "LayoutView",
       "align_content": null,
       "align_items": null,
       "align_self": null,
       "border": null,
       "bottom": null,
       "display": null,
       "flex": null,
       "flex_flow": null,
       "grid_area": null,
       "grid_auto_columns": null,
       "grid_auto_flow": null,
       "grid_auto_rows": null,
       "grid_column": null,
       "grid_gap": null,
       "grid_row": null,
       "grid_template_areas": null,
       "grid_template_columns": null,
       "grid_template_rows": null,
       "height": null,
       "justify_content": null,
       "justify_items": null,
       "left": null,
       "margin": null,
       "max_height": null,
       "max_width": null,
       "min_height": null,
       "min_width": null,
       "object_fit": null,
       "object_position": null,
       "order": null,
       "overflow": null,
       "overflow_x": null,
       "overflow_y": null,
       "padding": null,
       "right": null,
       "top": null,
       "visibility": null,
       "width": null
      }
     },
     "714195e742f94c41b2322be6e08e3877": {
      "model_module": "@jupyter-widgets/controls",
      "model_module_version": "1.5.0",
      "model_name": "FloatSliderModel",
      "state": {
       "_dom_classes": [],
       "_model_module": "@jupyter-widgets/controls",
       "_model_module_version": "1.5.0",
       "_model_name": "FloatSliderModel",
       "_view_count": null,
       "_view_module": "@jupyter-widgets/controls",
       "_view_module_version": "1.5.0",
       "_view_name": "FloatSliderView",
       "continuous_update": true,
       "description": "d",
       "description_tooltip": null,
       "disabled": false,
       "layout": "IPY_MODEL_b1895a0c0644497ab93086d4a99dfc72",
       "max": 1.0,
       "min": 0.0,
       "orientation": "horizontal",
       "readout": true,
       "readout_format": ".2f",
       "step": 0.001,
       "style": "IPY_MODEL_9319fef753aa40b5bf4aef94277d7557",
       "value": 0.28
      }
     },
     "8d0205e5f6ed4ce28be97402e0fe0ac3": {
      "model_module": "@jupyter-widgets/controls",
      "model_module_version": "1.5.0",
      "model_name": "VBoxModel",
      "state": {
       "_dom_classes": [
        "widget-interact"
       ],
       "_model_module": "@jupyter-widgets/controls",
       "_model_module_version": "1.5.0",
       "_model_name": "VBoxModel",
       "_view_count": null,
       "_view_module": "@jupyter-widgets/controls",
       "_view_module_version": "1.5.0",
       "_view_name": "VBoxView",
       "box_style": "",
       "children": [
        "IPY_MODEL_5e9f6d1f76394a36af95422c14c7ae4c",
        "IPY_MODEL_e078f6e3dfa44c678f6f7e4a0a717af6",
        "IPY_MODEL_aabc13a6bf274732b7b75ea7bd3f5592"
       ],
       "layout": "IPY_MODEL_4a78298b16d8447981cc7e9f03ab9f28"
      }
     },
     "9319fef753aa40b5bf4aef94277d7557": {
      "model_module": "@jupyter-widgets/controls",
      "model_module_version": "1.5.0",
      "model_name": "SliderStyleModel",
      "state": {
       "_model_module": "@jupyter-widgets/controls",
       "_model_module_version": "1.5.0",
       "_model_name": "SliderStyleModel",
       "_view_count": null,
       "_view_module": "@jupyter-widgets/base",
       "_view_module_version": "1.2.0",
       "_view_name": "StyleView",
       "description_width": "",
       "handle_color": null
      }
     },
     "991488dae1b44db98596d9476e093d41": {
      "model_module": "@jupyter-widgets/controls",
      "model_module_version": "1.5.0",
      "model_name": "VBoxModel",
      "state": {
       "_dom_classes": [
        "widget-interact"
       ],
       "_model_module": "@jupyter-widgets/controls",
       "_model_module_version": "1.5.0",
       "_model_name": "VBoxModel",
       "_view_count": null,
       "_view_module": "@jupyter-widgets/controls",
       "_view_module_version": "1.5.0",
       "_view_name": "VBoxView",
       "box_style": "",
       "children": [
        "IPY_MODEL_714195e742f94c41b2322be6e08e3877",
        "IPY_MODEL_f5ef7ec4d4c14720a6275c4e97ed9ba0"
       ],
       "layout": "IPY_MODEL_668fd9f4d8f34c3b83cd24649efa9a01"
      }
     },
     "9d785f653065412699cf183f14602ffe": {
      "model_module": "@jupyter-widgets/base",
      "model_module_version": "1.2.0",
      "model_name": "LayoutModel",
      "state": {
       "_model_module": "@jupyter-widgets/base",
       "_model_module_version": "1.2.0",
       "_model_name": "LayoutModel",
       "_view_count": null,
       "_view_module": "@jupyter-widgets/base",
       "_view_module_version": "1.2.0",
       "_view_name": "LayoutView",
       "align_content": null,
       "align_items": null,
       "align_self": null,
       "border": null,
       "bottom": null,
       "display": null,
       "flex": null,
       "flex_flow": null,
       "grid_area": null,
       "grid_auto_columns": null,
       "grid_auto_flow": null,
       "grid_auto_rows": null,
       "grid_column": null,
       "grid_gap": null,
       "grid_row": null,
       "grid_template_areas": null,
       "grid_template_columns": null,
       "grid_template_rows": null,
       "height": null,
       "justify_content": null,
       "justify_items": null,
       "left": null,
       "margin": null,
       "max_height": null,
       "max_width": null,
       "min_height": null,
       "min_width": null,
       "object_fit": null,
       "object_position": null,
       "order": null,
       "overflow": null,
       "overflow_x": null,
       "overflow_y": null,
       "padding": null,
       "right": null,
       "top": null,
       "visibility": null,
       "width": null
      }
     },
     "a4f6b39af8c640128e173ef6c87386cb": {
      "model_module": "@jupyter-widgets/controls",
      "model_module_version": "1.5.0",
      "model_name": "FloatSliderModel",
      "state": {
       "_dom_classes": [],
       "_model_module": "@jupyter-widgets/controls",
       "_model_module_version": "1.5.0",
       "_model_name": "FloatSliderModel",
       "_view_count": null,
       "_view_module": "@jupyter-widgets/controls",
       "_view_module_version": "1.5.0",
       "_view_name": "FloatSliderView",
       "continuous_update": true,
       "description": "d",
       "description_tooltip": null,
       "disabled": false,
       "layout": "IPY_MODEL_12928fb5fdf84cbeb11e6947379da6ed",
       "max": 1.0,
       "min": 0.0,
       "orientation": "horizontal",
       "readout": true,
       "readout_format": ".2f",
       "step": 0.01,
       "style": "IPY_MODEL_1889c601c05e41f5b6364ee36a1d20f6",
       "value": 0.3
      }
     },
     "aabc13a6bf274732b7b75ea7bd3f5592": {
      "model_module": "@jupyter-widgets/output",
      "model_module_version": "1.0.0",
      "model_name": "OutputModel",
      "state": {
       "_dom_classes": [],
       "_model_module": "@jupyter-widgets/output",
       "_model_module_version": "1.0.0",
       "_model_name": "OutputModel",
       "_view_count": null,
       "_view_module": "@jupyter-widgets/output",
       "_view_module_version": "1.0.0",
       "_view_name": "OutputView",
       "layout": "IPY_MODEL_2210da162eb745368d0b72a5f3878348",
       "msg_id": "",
       "outputs": [
        {
         "data": {
          "image/png": "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\n",
          "text/plain": "<Figure size 360x216 with 1 Axes>"
         },
         "metadata": {
          "needs_background": "light"
         },
         "output_type": "display_data"
        }
       ]
      }
     },
     "b1895a0c0644497ab93086d4a99dfc72": {
      "model_module": "@jupyter-widgets/base",
      "model_module_version": "1.2.0",
      "model_name": "LayoutModel",
      "state": {
       "_model_module": "@jupyter-widgets/base",
       "_model_module_version": "1.2.0",
       "_model_name": "LayoutModel",
       "_view_count": null,
       "_view_module": "@jupyter-widgets/base",
       "_view_module_version": "1.2.0",
       "_view_name": "LayoutView",
       "align_content": null,
       "align_items": null,
       "align_self": null,
       "border": null,
       "bottom": null,
       "display": null,
       "flex": null,
       "flex_flow": null,
       "grid_area": null,
       "grid_auto_columns": null,
       "grid_auto_flow": null,
       "grid_auto_rows": null,
       "grid_column": null,
       "grid_gap": null,
       "grid_row": null,
       "grid_template_areas": null,
       "grid_template_columns": null,
       "grid_template_rows": null,
       "height": null,
       "justify_content": null,
       "justify_items": null,
       "left": null,
       "margin": null,
       "max_height": null,
       "max_width": null,
       "min_height": null,
       "min_width": null,
       "object_fit": null,
       "object_position": null,
       "order": null,
       "overflow": null,
       "overflow_x": null,
       "overflow_y": null,
       "padding": null,
       "right": null,
       "top": null,
       "visibility": null,
       "width": null
      }
     },
     "bbd6b8ed4b44409ca2e0d2ad436d804a": {
      "model_module": "@jupyter-widgets/base",
      "model_module_version": "1.2.0",
      "model_name": "LayoutModel",
      "state": {
       "_model_module": "@jupyter-widgets/base",
       "_model_module_version": "1.2.0",
       "_model_name": "LayoutModel",
       "_view_count": null,
       "_view_module": "@jupyter-widgets/base",
       "_view_module_version": "1.2.0",
       "_view_name": "LayoutView",
       "align_content": null,
       "align_items": null,
       "align_self": null,
       "border": null,
       "bottom": null,
       "display": null,
       "flex": null,
       "flex_flow": null,
       "grid_area": null,
       "grid_auto_columns": null,
       "grid_auto_flow": null,
       "grid_auto_rows": null,
       "grid_column": null,
       "grid_gap": null,
       "grid_row": null,
       "grid_template_areas": null,
       "grid_template_columns": null,
       "grid_template_rows": null,
       "height": null,
       "justify_content": null,
       "justify_items": null,
       "left": null,
       "margin": null,
       "max_height": null,
       "max_width": null,
       "min_height": null,
       "min_width": null,
       "object_fit": null,
       "object_position": null,
       "order": null,
       "overflow": null,
       "overflow_x": null,
       "overflow_y": null,
       "padding": null,
       "right": null,
       "top": null,
       "visibility": null,
       "width": null
      }
     },
     "c2b316e786c741088c8805f8bde875ca": {
      "model_module": "@jupyter-widgets/controls",
      "model_module_version": "1.5.0",
      "model_name": "IntSliderModel",
      "state": {
       "_dom_classes": [],
       "_model_module": "@jupyter-widgets/controls",
       "_model_module_version": "1.5.0",
       "_model_name": "IntSliderModel",
       "_view_count": null,
       "_view_module": "@jupyter-widgets/controls",
       "_view_module_version": "1.5.0",
       "_view_name": "IntSliderView",
       "continuous_update": true,
       "description": "theta",
       "description_tooltip": null,
       "disabled": false,
       "layout": "IPY_MODEL_9d785f653065412699cf183f14602ffe",
       "max": 89,
       "min": 0,
       "orientation": "horizontal",
       "readout": true,
       "readout_format": "d",
       "step": 10,
       "style": "IPY_MODEL_590b6725cc4644ff8d219eb47ad073ad",
       "value": 30
      }
     },
     "e078f6e3dfa44c678f6f7e4a0a717af6": {
      "model_module": "@jupyter-widgets/controls",
      "model_module_version": "1.5.0",
      "model_name": "FloatSliderModel",
      "state": {
       "_dom_classes": [],
       "_model_module": "@jupyter-widgets/controls",
       "_model_module_version": "1.5.0",
       "_model_name": "FloatSliderModel",
       "_view_count": null,
       "_view_module": "@jupyter-widgets/controls",
       "_view_module_version": "1.5.0",
       "_view_name": "FloatSliderView",
       "continuous_update": true,
       "description": "n2",
       "description_tooltip": null,
       "disabled": false,
       "layout": "IPY_MODEL_28264c74e0fd43148639607037e963a3",
       "max": 5.0,
       "min": 1.0,
       "orientation": "horizontal",
       "readout": true,
       "readout_format": ".2f",
       "step": 0.1,
       "style": "IPY_MODEL_2e4b2f59128a4c909eec382b5803ae59",
       "value": 1.5
      }
     },
     "f5ef7ec4d4c14720a6275c4e97ed9ba0": {
      "model_module": "@jupyter-widgets/output",
      "model_module_version": "1.0.0",
      "model_name": "OutputModel",
      "state": {
       "_dom_classes": [],
       "_model_module": "@jupyter-widgets/output",
       "_model_module_version": "1.0.0",
       "_model_name": "OutputModel",
       "_view_count": null,
       "_view_module": "@jupyter-widgets/output",
       "_view_module_version": "1.0.0",
       "_view_name": "OutputView",
       "layout": "IPY_MODEL_484942d45d2a467aa8f7c254233d741d",
       "msg_id": "",
       "outputs": [
        {
         "data": {
          "image/png": "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\n",
          "text/plain": "<Figure size 432x288 with 1 Axes>"
         },
         "metadata": {
          "needs_background": "light"
         },
         "output_type": "display_data"
        }
       ]
      }
     }
    },
    "version_major": 2,
    "version_minor": 0
   }
  }
 },
 "nbformat": 4,
 "nbformat_minor": 5
}