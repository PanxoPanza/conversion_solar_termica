{
 "cells": [
  {
   "cell_type": "code",
   "execution_count": 1,
   "id": "3c597da7",
   "metadata": {
    "slideshow": {
     "slide_type": "skip"
    },
    "tags": [
     "remove-cell"
    ]
   },
   "outputs": [],
   "source": [
    "import importlib.util\n",
    "if importlib.util.find_spec('empylib') is None:\n",
    "    !pip install git+https://github.com/PanxoPanza/empylib.git"
   ]
  },
  {
   "cell_type": "markdown",
   "id": "6fb7c940",
   "metadata": {
    "slideshow": {
     "slide_type": "slide"
    }
   },
   "source": [
    "# Ondas electromagnéticas en la materia"
   ]
  },
  {
   "cell_type": "markdown",
   "id": "61b0f1b1",
   "metadata": {
    "slideshow": {
     "slide_type": "slide"
    }
   },
   "source": [
    "## Características principales de una onda en un medio"
   ]
  },
  {
   "cell_type": "markdown",
   "id": "9c9eae7b",
   "metadata": {
    "cell_style": "center",
    "slideshow": {
     "slide_type": "slide"
    }
   },
   "source": [
    "### Ecuaciones de Maxwell\n",
    "La materia esta compuesta por cargas (electrones, átomos, moléculas). Por lo tanto, a diferencia del vacío, la densidad de carga ($\\rho$) y de corriente ($\\vec{J}$) eléctricas están presentes en las ecuaciones de Maxwell:\n",
    "\n",
    "\\begin{align*}\n",
    "\\nabla\\cdot\\vec{E} &= \\frac{\\rho}{\\varepsilon_0} \\\\\n",
    "\\nabla\\cdot\\vec{B} &= 0 \\\\\n",
    "\\nabla\\times\\vec{E} &= -\\mu_0\\frac{\\partial \\vec{H}}{\\partial t} \\\\\n",
    "\\nabla\\times\\vec{H} &= \\vec{J} + \\varepsilon_0\\frac{\\partial \\vec{E}}{\\partial t}\n",
    "\\end{align*}"
   ]
  },
  {
   "cell_type": "markdown",
   "id": "9d58d7cd",
   "metadata": {
    "cell_style": "center",
    "slideshow": {
     "slide_type": "slide"
    }
   },
   "source": [
    "Asumiendo un medio homogéneo, podemos demostrar que las ecuaciones de Maxwell se pueden reescribir en la forma:\n",
    "\n",
    "\\begin{align*}\n",
    "\\nabla\\cdot\\vec{E} &= 0 \\\\\n",
    "\\nabla\\cdot\\vec{H} &= 0 \\\\\n",
    "\\nabla\\times\\vec{E} &= -\\mu_0\\frac{\\partial \\vec{H}}{\\partial t} \\\\\n",
    "\\nabla\\times\\vec{H} &= \\varepsilon_0 \\varepsilon\\frac{\\partial\\vec{E}}{\\partial t}\n",
    "\\end{align*}\n",
    "\n",
    "donde $\\varepsilon = \\varepsilon' + i\\varepsilon''$, es la **constante dieléctrica compleja**."
   ]
  },
  {
   "cell_type": "markdown",
   "id": "104dc93c",
   "metadata": {
    "cell_style": "center",
    "slideshow": {
     "slide_type": "fragment"
    }
   },
   "source": [
    "Estas ecuaciones tiene la misma forma que las ecuaciones de Maxwell en el vacío. Así las ondas EM en un medio también se comportan como onda transversales, con la condición $\\hat{k}\\perp \\hat{e} \\perp \\hat{h}$."
   ]
  },
  {
   "cell_type": "markdown",
   "id": "5fb00820",
   "metadata": {
    "slideshow": {
     "slide_type": "fragment"
    }
   },
   "source": [
    "**¿Qué representa la constante dielectrica compleja?**"
   ]
  },
  {
   "cell_type": "markdown",
   "id": "200b930b",
   "metadata": {
    "cell_style": "center",
    "slideshow": {
     "slide_type": "slide"
    }
   },
   "source": [
    "Los materiales están compuestos de átomos, con un núcleo positivo y electrones negativos. La interacción de la luz con las cargas eléctricas en la materia induce oscilaciones que generan dos efectos:\n",
    "\n",
    "- **Polarización**. Formación de *dipolos eléctricos (polo eléctrico positivo y otro negativo separados por una distancia $d$)* **La parte real de la constante dieléctrica ($\\varepsilon'$) representa la intesidad de la polarización** *y esta directamente relacionada con la capacitancia.*\n",
    "\n",
    "- **Disipación de energía.** Producto de las coliciones entre núcleos, electrones, o entre núcleos y electrones. **La parte imaginaria de la constante dieléctrica ($\\varepsilon''$) representa la magnitud de la disipación de energía.** *Esta directamente relacionada con la resistividad eléctrica.*\n",
    "\n",
    "<img src=\"./images/constante_dielectrica.png\" width=\"800px\" align= center>"
   ]
  },
  {
   "cell_type": "markdown",
   "id": "e214507b",
   "metadata": {
    "slideshow": {
     "slide_type": "slide"
    }
   },
   "source": [
    "### Relación de dispersión e íncide de refracción"
   ]
  },
  {
   "cell_type": "markdown",
   "id": "509cb58c",
   "metadata": {
    "slideshow": {
     "slide_type": "fragment"
    }
   },
   "source": [
    "El principal cambio en la propagación de ondas en la materia está en la **relación de dispersión** ($\\omega$ vs $k$). En este caso:\n",
    "\n",
    "\\begin{equation}\n",
    "k = N \\frac{\\omega}{c_0} = Nk_0\n",
    "\\end{equation}\n",
    "\n",
    "donde $N = \\sqrt{\\varepsilon} = n +i\\kappa$, es el **índice de refracción complejo**. Aquí, $n$ se conoce como el **índice de refracción**, y $\\kappa$ como **extinción**."
   ]
  },
  {
   "cell_type": "markdown",
   "id": "d8b62f08",
   "metadata": {
    "slideshow": {
     "slide_type": "slide"
    }
   },
   "source": [
    "El **índice de refracción complejo es una propiedad del material**. En general, este valor varía con la longitud de onda (o frecuencia). "
   ]
  },
  {
   "cell_type": "code",
   "execution_count": 2,
   "id": "b0232189",
   "metadata": {
    "cell_style": "split",
    "slideshow": {
     "slide_type": "fragment"
    },
    "tags": [
     "hide-input"
    ]
   },
   "outputs": [],
   "source": [
    "%%capture show1\n",
    "import empylib.nklib as nk\n",
    "import numpy as np\n",
    "import matplotlib.pyplot as plt\n",
    "\n",
    "lam = np.linspace(0.3,1.0,100) # espectro de longitudes de onda (en micrones)\n",
    "N   = nk.H2O(lam)             # índice de refracción complejo del oro\n",
    "\n",
    "plt.plot(lam,N.real,'-k' ,label='$n$')\n",
    "plt.plot(lam,N.imag,'--k',label='$\\kappa$')\n",
    "plt.xlabel('longitud de onda ($\\mu$m)')\n",
    "plt.ylabel('índice de refracción')\n",
    "plt.title('Índice de refracción del oro')\n",
    "plt.ylim(0)\n",
    "plt.legend()\n",
    "plt.show()"
   ]
  },
  {
   "cell_type": "code",
   "execution_count": 3,
   "id": "7fb87e64",
   "metadata": {
    "cell_style": "split",
    "tags": [
     "hide-input"
    ]
   },
   "outputs": [
    {
     "data": {
      "image/png": "[encoded data removed]",
      "text/plain": [
       "<Figure size 640x480 with 1 Axes>"
      ]
     },
     "metadata": {
      "filenames": {
       "image/png": "/mnt/c/Users/francisco.ramirez.c/OneDrive - Universidad Adolfo Ibanez/Teaching_courses/MEC501 - Manejo_y_Conversion_Energia_Solar/material_catedra/_build/jupyter_execute/02_ondas_EM_en_la_materia/02_ondas_EM_en_la_materia_12_0.png"
      }
     },
     "output_type": "display_data"
    }
   ],
   "source": [
    "show1()"
   ]
  },
  {
   "cell_type": "markdown",
   "id": "eba1c88d",
   "metadata": {
    "cell_style": "center",
    "slideshow": {
     "slide_type": "slide"
    }
   },
   "source": [
    "**Los materiales no metálicos, comúnmente, toman valores reales constantes en el espectro visible**:\n",
    "\n",
    "<img src=\"./images/refractive_index_table.png\" width=\"700px\" align= center>"
   ]
  },
  {
   "cell_type": "markdown",
   "id": "e9169102",
   "metadata": {
    "cell_style": "center",
    "slideshow": {
     "slide_type": "fragment"
    }
   },
   "source": [
    "\n",
    "**¿Que significa que el vector de onda sea complejo?**"
   ]
  },
  {
   "cell_type": "markdown",
   "id": "6f5a7f4c",
   "metadata": {
    "cell_style": "split",
    "slideshow": {
     "slide_type": "slide"
    }
   },
   "source": [
    "Analicemos la solución general de la ecuación de onda:\n",
    "\n",
    "\\begin{align*}\n",
    "\\vec{E} &= E_0 e^{i\\left(\\vec{k}\\cdot\\vec{r} - \\omega t\\right)} \\hat{e} \\\\\n",
    "&= E_0 e^{i\\left(Nk_0\\hat{k}\\cdot\\vec{r} - \\omega t\\right)} \\hat{e} \\\\\n",
    "&= E_0 e^{i\\left(nk_0\\hat{k}\\cdot\\vec{r} - \\omega t\\right)}e^{-\\left(\\kappa k_0\\hat{k}\\cdot\\vec{r}\\right)} \\hat{e}\n",
    "\\end{align*}\n",
    "\n",
    "- **$e^{i\\left(nk_0\\hat{k}\\cdot\\vec{r} - \\omega t\\right)}$, expresa la parte oscilatoria de la onda**. La longitud de onda en el medio, entonces, tiene la forma:\n",
    "\n",
    "\\begin{equation}\n",
    "\\lambda_n = \\lambda/n\n",
    "\\end{equation}\n",
    "\n",
    "- **$e^{-\\left(\\kappa k_0\\hat{k}\\cdot\\vec{r}\\right)}$, indica el decaimiento de la onda,** proporcional a la extinción $\\kappa$."
   ]
  },
  {
   "cell_type": "markdown",
   "id": "d057a134",
   "metadata": {
    "cell_style": "split",
    "slideshow": {
     "slide_type": "fragment"
    }
   },
   "source": [
    "Gráficamente, asumiendo $\\hat{k} = \\hat{z}$:\n",
    "\n",
    "<img src=\"./images/decaying_wave.png\" width=\"350px\" align= center>"
   ]
  },
  {
   "cell_type": "markdown",
   "id": "283414ae",
   "metadata": {
    "slideshow": {
     "slide_type": "slide"
    }
   },
   "source": [
    "El cambio en la longitud de onda en un material también implica un cambio en la **velocidad de propagación de la onda:**\n",
    "\n",
    "\\begin{equation}\n",
    "v_\\mathrm{p} = \\mathrm{Re}\\left(\\frac{\\omega}{k}\\right) = \\frac{c_0}{n}\\quad\\quad\\mathrm{Velocidad~en~un~medio~con~índice~de~refracción}~N\n",
    "\\end{equation}"
   ]
  },
  {
   "cell_type": "markdown",
   "id": "7e58bb79",
   "metadata": {
    "slideshow": {
     "slide_type": "fragment"
    }
   },
   "source": [
    "> Notar que para $n > 1$ la onda se mueve a una velocidad más lenta que en el vacío"
   ]
  },
  {
   "cell_type": "markdown",
   "id": "0baf3330",
   "metadata": {
    "cell_style": "center",
    "slideshow": {
     "slide_type": "slide"
    }
   },
   "source": [
    "### Amplitud del campo magnético\n",
    "\n",
    "Igualmente, la relación entre $H_0$ y $E_0$ también cambia a la forma \n",
    "\n",
    "$$H_0 = \\frac{E_0}{Z_0Z_r},$$\n",
    "\n",
    "donde $Z_r = \\sqrt{\\frac{1}{\\varepsilon}}$ es la **impedancia relativa**."
   ]
  },
  {
   "cell_type": "markdown",
   "id": "99583534",
   "metadata": {
    "slideshow": {
     "slide_type": "fragment"
    }
   },
   "source": [
    "> Notar que $H_0$ es un número complejo, aún cuando $E_0$ es real."
   ]
  },
  {
   "cell_type": "markdown",
   "id": "ee96f906",
   "metadata": {
    "slideshow": {
     "slide_type": "slide"
    }
   },
   "source": [
    "### Flujo de energía (Vector de Poynting)"
   ]
  },
  {
   "cell_type": "markdown",
   "id": "67a02823",
   "metadata": {
    "slideshow": {
     "slide_type": "fragment"
    }
   },
   "source": [
    "El decaimiento de la amplitud de $E_0$ debido a $\\kappa$ ocurre debido a la absorción de energía electromagnética en el material. Para cuantificar está pérdida de energía debemos analizar el **vector de Poynting**, $\\langle\\vec{S}\\rangle = \\frac{1}{2}\\mathrm{Re}\\left(\\vec{E}\\times\\vec{H}^*\\right)$."
   ]
  },
  {
   "cell_type": "markdown",
   "id": "697376f8",
   "metadata": {
    "slideshow": {
     "slide_type": "fragment"
    }
   },
   "source": [
    "En este caso:\n",
    "\\begin{equation}\n",
    "\\langle\\vec{S}\\rangle =\\frac{nE_0^2}{2Z_0}e^{-\\alpha\\left(\\hat{k}\\cdot\\vec{r}\\right)}\n",
    "\\end{equation}\n",
    "\n",
    "donde $\\alpha = \\frac{4\\pi\\kappa}{\\lambda}$ es el **coeficiente de absorpción**."
   ]
  },
  {
   "cell_type": "markdown",
   "id": "fa4db6ca",
   "metadata": {
    "slideshow": {
     "slide_type": "fragment"
    }
   },
   "source": [
    "Este parámetro representa la pérdida de energía en la longitud."
   ]
  },
  {
   "cell_type": "markdown",
   "id": "186e9f7e",
   "metadata": {
    "cell_style": "center",
    "slideshow": {
     "slide_type": "slide"
    }
   },
   "source": [
    "En resumen, en un medio con cargas eléctricas:\n",
    "1. $\\vec{E}$ y $\\vec{H}$ se comportan como ondas trasversales de la forma $\\propto e^{ i\\left(\\vec{k}\\cdot\\vec{r} - \\omega t\\right)}$.\n",
    "\n",
    "2. $\\vec{E}$, $\\vec{H}$ y $\\vec{k}$ son mutuamente perpendiculares. \n",
    "\n",
    "3. La relación de dispersión es $k = N\\frac{\\omega}{c_0},$ donde $N = n + i\\kappa$ es el índice de refracción complejo.\n",
    "\n",
    "4. $N =\\sqrt{\\varepsilon} =\\sqrt{\\varepsilon'+i\\varepsilon''}$, donde $\\varepsilon$ es la constante dieléctrica\n",
    "\n",
    "5. $\\vec{E}$ y $\\vec{H}$ se propagan a una velocidad constante $c = c_0/n$\n",
    "\n",
    "6. La longitud de onda en un medio cambia a $\\lambda_n = \\lambda/n$\n",
    "\n",
    "7. $\\kappa$ representa el decaimiento de la onda en el espacio.\n",
    "\n",
    "8. Las amplitudes de $\\vec{E}$ y $\\vec{H}$ están asociadas por la relación ${H}_0 = \\frac{E_0}{Z_0Z_r}$, donde $Z_r = \\frac{1}{\\sqrt{\\varepsilon}}$."
   ]
  },
  {
   "cell_type": "markdown",
   "id": "2767246e",
   "metadata": {
    "cell_style": "center",
    "slideshow": {
     "slide_type": "slide"
    }
   },
   "source": [
    "<img src=\"./images/em_wave_decaying.jpg\" width=\"400px\" align= center>\n",
    "\n",
    "<center> Esquema de una onda electromagnética en un material</center>"
   ]
  },
  {
   "cell_type": "markdown",
   "id": "c7339c10",
   "metadata": {
    "slideshow": {
     "slide_type": "slide"
    }
   },
   "source": [
    "## Reflexión y transmisión en una interfaz"
   ]
  },
  {
   "cell_type": "markdown",
   "id": "de2f10ea",
   "metadata": {
    "slideshow": {
     "slide_type": "slide"
    }
   },
   "source": [
    "### Maxwell en la interfaz entre dos medios"
   ]
  },
  {
   "cell_type": "markdown",
   "id": "f7b45112",
   "metadata": {
    "slideshow": {
     "slide_type": "fragment"
    }
   },
   "source": [
    "Hasta ahora hemos revisado las ecuaciones de Maxwell en un medio homogeneo, y como estas dan lugar a la solución en forma de ondas electromagnéticas.\n",
    "\n",
    "> Recordemos que para un medio con índice de refracción $N$, la solución general es:\n",
    ">\n",
    ">\\begin{align*}\n",
    "\\vec{E} &= E_0 e^{i\\left(Nk_0\\hat{k}\\cdot\\vec{r} - \\omega t\\right)} \\hat{e} \\\\\n",
    "\\vec{H} &= \\frac{NE_0}{Z_0} e^{i\\left(Nk_0\\hat{k}\\cdot\\vec{r} - \\omega t\\right)} \\hat{k}\\times\\hat{e}\n",
    "\\end{align*}"
   ]
  },
  {
   "cell_type": "markdown",
   "id": "22a61931",
   "metadata": {
    "slideshow": {
     "slide_type": "slide"
    }
   },
   "source": [
    "**¿Que sucede cuando una onda electromagnética encuentra la frontera entre dos medios distintos?**"
   ]
  },
  {
   "cell_type": "markdown",
   "id": "d557ddef",
   "metadata": {
    "slideshow": {
     "slide_type": "fragment"
    }
   },
   "source": [
    "Como toda ecuación diferencial, la solución particular de las ecuaciones de Maxwell está definida por las **condiciones de borde**. La derivación, que no revisaremos aquí, da lugar a 4 condiciones de borde. Sin embargo, para los problemas que veremos en este curso solo se necesitan dos:\n",
    "\n",
    "\\begin{align*}\n",
    "E^{\\parallel}_1 - E^{\\parallel}_2 &= 0 \\\\\n",
    "H^{\\parallel}_1 - H^{\\parallel}_2 &= 0\n",
    "\\end{align*}\n",
    "\n",
    "donde $1$ y $2$ son dos medios distintos, y el símbolo $\\parallel$ representa la componente paralela a la interfaz entre los medios $1$ y $2$"
   ]
  },
  {
   "cell_type": "markdown",
   "id": "ed38561f",
   "metadata": {
    "slideshow": {
     "slide_type": "fragment"
    }
   },
   "source": [
    ">**Las componentes de $\\vec{E}$ y $\\vec{H}$ paralelas a la interfaz entre dos medios $1$ y $2$, se conservan.**"
   ]
  },
  {
   "cell_type": "markdown",
   "id": "231fa2b7",
   "metadata": {
    "slideshow": {
     "slide_type": "fragment"
    }
   },
   "source": [
    "Estas condiciones de borde nos darán la base para entender los fenómenos de refracción y reflección."
   ]
  },
  {
   "cell_type": "markdown",
   "id": "29746567",
   "metadata": {
    "slideshow": {
     "slide_type": "slide"
    }
   },
   "source": [
    "### Coeficientes de Fresnel"
   ]
  },
  {
   "cell_type": "markdown",
   "id": "b162d332",
   "metadata": {
    "cell_style": "split",
    "slideshow": {
     "slide_type": "fragment"
    }
   },
   "source": [
    "Consideremos una onda electromagnetética en dirección $\\hat{k}_i$ que incide sobre la interfaz entre dos medios 1 y 2, con índices de refracción reales $n_1$ y $n_2$, respectivamente\n",
    "\n",
    "Definimos como $\\hat{n}$ al vector normal al plano a la interfaz entre los dos medios, y como **plano de incidencia,** al plano formado por los vectores $\\hat{k}_i$ y $\\hat{n}$.\n",
    "\n",
    "La dirección de la onda reflejada y transmitida está definida por los vectores $\\hat{k}_r$ y $\\hat{k}_t$, respectivamente."
   ]
  },
  {
   "cell_type": "markdown",
   "id": "e9ca295b",
   "metadata": {
    "cell_style": "split"
   },
   "source": [
    "<img src=\"./images/plano_incidencia.png\" width=\"350px\" align= center>"
   ]
  },
  {
   "cell_type": "markdown",
   "id": "6860f66d",
   "metadata": {
    "slideshow": {
     "slide_type": "slide"
    }
   },
   "source": [
    "A partir de la dirección de $\\vec{E}$ y $\\vec{H}$ respecto al plano de incidencia, podemos distunguir dos polarizaciones:\n",
    "\n",
    "- Si **$\\vec{H}$ oscila en dirección perpendicular al plano de incidencia**, hablamos de una **polarización transversal magnética o TM**.\n",
    "\n",
    "- Si **$\\vec{E}$ oscila en dirección perpendicular al plano de incidencia**, hablamos de una **polarización transversal eléctrica o TE**."
   ]
  },
  {
   "cell_type": "markdown",
   "id": "f14a4173",
   "metadata": {
    "cell_style": "split",
    "slideshow": {
     "slide_type": "slide"
    }
   },
   "source": [
    "Como ejemplo, consideremos una **onda transversal magnética (TM)**\n",
    "\n",
    "<img src=\"./images/em_reflection.png\" width=\"350px\" align= center>\n",
    "\n",
    "La figura muestra la reflexión y transmisión de la onda visto desde el plano de incidencia"
   ]
  },
  {
   "cell_type": "markdown",
   "id": "780de9d4",
   "metadata": {
    "cell_style": "split",
    "slideshow": {
     "slide_type": "fragment"
    }
   },
   "source": [
    "A través de las ecuaciones de Maxwell, podemos establecer la solución general para cada onda electromagnética:\n",
    "\n",
    "\\begin{align*}\n",
    "\\vec{E}_i &= E_i e^{ i\\left(k_0n_1\\hat{k}_i\\cdot\\vec{r} - \\omega t\\right)} \\hat{e}_i\\quad\\quad \\mathrm{onda~incidente}\n",
    " \\\\\n",
    "\\vec{E}_r &= E_r e^{ i\\left(k_0n_1\\hat{k}_r\\cdot\\vec{r} - \\omega t\\right)} \\hat{e}_r\\quad\\quad \\mathrm{onda~reflejada}\n",
    "\\\\\n",
    "\\vec{E}_t &= E_t e^{ i\\left(k_0n_2\\hat{k}_t\\cdot\\vec{r} - \\omega t\\right)} \\hat{e}_t\\quad\\quad \n",
    "\\mathrm{onda~transmitida}\n",
    "\\end{align*}\n",
    "\n",
    "donde:\n",
    "\n",
    "\\begin{eqnarray*}\n",
    "\\hat{k}_i &=& \\hat{x}\\sin\\theta_i + \\hat{z}\\cos\\theta_i \n",
    "&\\quad\\mathrm{y}\\quad& \n",
    "\\hat{e}_i &=& \\hat{x}\\cos\\theta_i - \\hat{z}\\sin\\theta_i\n",
    "\\\\\n",
    "\\hat{k}_r &=& \\hat{x}\\sin\\theta_r - \\hat{z}\\cos\\theta_r\n",
    "&\\quad\\mathrm{y}\\quad& \n",
    "\\hat{e}_r &=& \\hat{x}\\cos\\theta_r + \\hat{z}\\sin\\theta_r\n",
    "\\\\\n",
    "\\hat{k}_t &=& \\hat{x}\\sin\\theta_t + \\hat{z}\\cos\\theta_t\n",
    "&\\quad\\mathrm{y}\\quad& \n",
    "\\hat{e}_t &=& \\hat{x}\\cos\\theta_t - \\hat{z}\\sin\\theta_t\n",
    "\\end{eqnarray*}"
   ]
  },
  {
   "cell_type": "markdown",
   "id": "4476682a",
   "metadata": {
    "cell_style": "center",
    "slideshow": {
     "slide_type": "slide"
    }
   },
   "source": [
    "Reemplazando en las soluciones generales,\n",
    "\n",
    "\\begin{eqnarray*}\n",
    "\\vec{E}_i &=& E_i e^{ ik_0n_1\\left(z\\cos\\theta_i + x\\sin\\theta_i\\right)}e^{-i\\omega t} \\left(\\hat{x}\\cos\\theta_i -\\hat{z}\\sin\\theta_i\\right)\\quad\\quad &&\\mathrm{onda~incidente}\n",
    " \\\\\n",
    "\\vec{E}_r &=& E_r e^{ ik_0n_1\\left(-z\\cos\\theta_r + x\\sin\\theta_r\\right)}e^{-i\\omega t} \\left(\\hat{x}\\cos\\theta_r +\\hat{z}\\sin\\theta_r\\right)\\quad\\quad &&\\mathrm{onda~reflejada}\n",
    "\\\\\n",
    "\\vec{E}_t &=& E_t e^{ ik_0n_2\\left(z\\cos\\theta_t + x\\sin\\theta_t\\right)}e^{-i\\omega t} \\left(\\hat{x}\\cos\\theta_t -\\hat{z}\\sin\\theta_t\\right)\\quad\\quad \n",
    "&&\\mathrm{onda~transmitida}\n",
    "\\end{eqnarray*}"
   ]
  },
  {
   "cell_type": "markdown",
   "id": "fe89145b",
   "metadata": {
    "slideshow": {
     "slide_type": "fragment"
    }
   },
   "source": [
    "De igual forma, a partir de la relación $\\vec{H} = \\frac{E}{Z_0Z_r}\\left(\\hat{k}\\times\\hat{e}\\right)$,\n",
    "\n",
    "\\begin{eqnarray*}\n",
    "\\vec{H}_i &=& \\frac{n_1E_i}{Z_0}e^{ ik_0n_1\\left(z\\cos\\theta_i + x\\sin\\theta_i\\right)}e^{-i\\omega t}\\left(\\hat{y}\\right)\\quad\\quad &&\\mathrm{onda~incidente}\n",
    " \\\\\n",
    "\\vec{H}_r &=& \\frac{n_1E_r}{Z_0} e^{ ik_0n_1\\left(-z\\cos\\theta_r + x\\sin\\theta_r\\right)}e^{-i\\omega t} \\left(-\\hat{y}\\right)\\quad\\quad &&\\mathrm{onda~reflejada}\n",
    "\\\\\n",
    "\\vec{H}_t &=& \\frac{n_2E_t}{Z_0} e^{ ik_0n_2\\left(z\\cos\\theta_t + x\\sin\\theta_t\\right)}e^{-i\\omega t} \\left(\\hat{y}\\right)\\quad\\quad \n",
    "&&\\mathrm{onda~transmitida}\n",
    "\\end{eqnarray*}"
   ]
  },
  {
   "cell_type": "markdown",
   "id": "dc334364",
   "metadata": {
    "slideshow": {
     "slide_type": "slide"
    }
   },
   "source": [
    "A partir de la condición de borde en la interfaz $z =0$:\n",
    "\n",
    "$$E^{\\parallel}_1|_{z=0} - E^{\\parallel}_2|_{z=0} = 0$$"
   ]
  },
  {
   "cell_type": "markdown",
   "id": "3b3ade24",
   "metadata": {
    "slideshow": {
     "slide_type": "fragment"
    }
   },
   "source": [
    "Tenemos:\n",
    "\n",
    "\\begin{equation}\n",
    "E_i\\cos\\theta_i e^{ ik_0n_1x\\sin\\theta_i}+E_r\\cos\\theta_r e^{ ik_0n_1x\\sin\\theta_r} - E_t\\cos\\theta_t e^{ ik_0n_1x\\sin\\theta_t} = 0\n",
    "\\end{equation}"
   ]
  },
  {
   "cell_type": "markdown",
   "id": "06d82130",
   "metadata": {
    "slideshow": {
     "slide_type": "fragment"
    }
   },
   "source": [
    "Dado que esta ecuación se debe satisfacer para cualquier punto $x$, los exponentes debe ser iguales:\n",
    "\n",
    "\\begin{equation*}\n",
    "n_1\\sin\\theta_i = n_1\\sin\\theta_r = n_2\\sin\\theta_t\n",
    "\\end{equation*}"
   ]
  },
  {
   "cell_type": "markdown",
   "id": "d24178a8",
   "metadata": {
    "slideshow": {
     "slide_type": "slide"
    }
   },
   "source": [
    "Esto nos lleva a las **leyes de Snell**, para reflexión y transmisión, válidas para una interfaz lisa:\n",
    "\n",
    "\\begin{equation}\n",
    "\\theta_i = \\theta_r\\quad\\quad\\mathrm{y}\\quad\\quad n_1\\sin\\theta_i = n_2\\sin\\theta_t\n",
    "\\end{equation}"
   ]
  },
  {
   "cell_type": "markdown",
   "id": "4014dbff",
   "metadata": {
    "slideshow": {
     "slide_type": "fragment"
    }
   },
   "source": [
    "La primera ($\\theta_i = \\theta_r$), indica que el ángulo de reflexión es siempre igual al ángulo de incidencia."
   ]
  },
  {
   "cell_type": "markdown",
   "id": "9f49b20c",
   "metadata": {
    "slideshow": {
     "slide_type": "fragment"
    }
   },
   "source": [
    "La segunda ($n_1\\sin\\theta_i = n_2\\sin\\theta_t$), indica el ángulo de transmisión de una onda EM al atravesar por un medio distinto\n",
    "\n",
    "<img src=\"./images/refraction.png\" width=\"700px\" align= center>"
   ]
  },
  {
   "cell_type": "markdown",
   "id": "ebaf7f99",
   "metadata": {
    "slideshow": {
     "slide_type": "slide"
    }
   },
   "source": [
    "Aplicando la ley de Snell en la condición de borde del campo eléctrico (Eq. 2.5):\n",
    "\n",
    "\\begin{equation}\\label{eq:boundaryE}\n",
    "E_i\\cos\\theta_i +E_r\\cos\\theta_r  - E_t\\cos\\theta_t = 0\n",
    "\\end{equation}"
   ]
  },
  {
   "cell_type": "markdown",
   "id": "7ee20184",
   "metadata": {
    "slideshow": {
     "slide_type": "fragment"
    }
   },
   "source": [
    "De igual forma, de la condición de borde $H^{\\parallel}_1 - H^{\\parallel}_2 = 0$, deducimos:\n",
    "\n",
    "\\begin{equation}\n",
    "n_1E_i - n_1E_r  - n_2E_t = 0 \\label{eq:boundaryH}\n",
    "\\end{equation}"
   ]
  },
  {
   "cell_type": "markdown",
   "id": "b988e005",
   "metadata": {
    "slideshow": {
     "slide_type": "slide"
    }
   },
   "source": [
    "A partir de estas dos ecuaciones, determinamos **los coeficientes de Fresnel de reflexión ($r_\\mathrm{TM}$) y transmisión ($t_\\mathrm{TM}$) para una onda TM**:\n",
    "\n",
    "\\begin{align}\n",
    "r_\\mathrm{TM} &= \\frac{E_r^\\mathrm{TM}}{E_i^\\mathrm{TM}} = \\frac{n_1\\cos\\theta_t-n_2\\cos\\theta_i}\n",
    "{n_1\\cos\\theta_t+n_2\\cos\\theta_i}\n",
    "\\\\[10pt]\n",
    "t_\\mathrm{TM} &= \\frac{E_t^\\mathrm{TM}}{E_i^\\mathrm{TM}} =\\frac{2n_1\\cos\\theta_t}\n",
    "{n_1\\cos\\theta_t+n_2\\cos\\theta_i}\n",
    "\\end{align}"
   ]
  },
  {
   "cell_type": "markdown",
   "id": "6b9df308",
   "metadata": {
    "slideshow": {
     "slide_type": "fragment"
    }
   },
   "source": [
    "Mediante un procedimiento similar, podemos determinar **los coeficientes de Fresnel de reflexión ($r_\\mathrm{TE}$) y transmisión ($t_\\mathrm{TE}$) para una onda TE**:\n",
    "\n",
    "\\begin{align}\n",
    "r_\\mathrm{TE} &= \\frac{E_r^\\mathrm{TE}}{E_i^\\mathrm{TE}} = \\frac{n_1\\cos\\theta_i -n_2\\cos\\theta_t}\n",
    "{n_1\\cos\\theta_i+n_2\\cos\\theta_t}\n",
    "\\\\[10pt]\n",
    "t_\\mathrm{TE} &= \\frac{E_t^\\mathrm{TE}}{E_i^\\mathrm{TE}} = \\frac{2n_1\\cos\\theta_i}\n",
    "{n_1\\cos\\theta_i+n_2\\cos\\theta_t}\n",
    "\\end{align}"
   ]
  },
  {
   "cell_type": "markdown",
   "id": "0f85e108",
   "metadata": {
    "slideshow": {
     "slide_type": "slide"
    }
   },
   "source": [
    ">Las relaciones para los coeficientes de Fresnel se mantienen para índices de refracción complejos. En este caso, solo debemos reemplazar $n_1$ por $N_1$, y $n_2$ por $N_2$"
   ]
  },
  {
   "cell_type": "markdown",
   "id": "6e1bbe42",
   "metadata": {
    "cell_style": "center",
    "slideshow": {
     "slide_type": "slide"
    }
   },
   "source": [
    "### Reflectividad y transmisividad"
   ]
  },
  {
   "cell_type": "markdown",
   "id": "3502a921",
   "metadata": {
    "cell_style": "center"
   },
   "source": [
    "Los coeficientes de Fresnel permiten determinar la magnitud del campo eléctrico (y magnético) reflejado y transmitido por una interfaz. Para determinar el flujo de energía a través de la interfaz, utilizamos el vector de Poynting. En el caso de la onda $\\mathrm{TM}$, y considerando el caso más general con indices de refracción complejos en los medios 1 y 2:\n",
    "\n",
    "\\begin{eqnarray*}\n",
    "\\biggl\\langle{\\vec{S}_i^\\mathrm{TM}}\\biggl\\rangle &=& \\frac{1}{2}\\mathrm{Re}\\left[\\vec{E}_i\\times\\vec{H}_i^*\\right] &=& \\mathrm{Re}\\left[N_1^* \\hat{k}_i\\right]\\frac{{\\left(E_i^\\mathrm{TM}\\right)}^2}{2Z_0}\n",
    "\\\\\n",
    "\\biggl\\langle{\\vec{S}_r^\\mathrm{TM}}\\biggl\\rangle &=& \\frac{1}{2}\\mathrm{Re}\\left[\\vec{E}_r\\times\\vec{H}_r^*\\right] &=& \\mathrm{Re}\\left[N_1^* \\hat{k}_r\\right]\\frac{{\\left(E_r^\\mathrm{TM}\\right)}^2}{2Z_0}\n",
    "\\\\\n",
    "\\biggl\\langle{\\vec{S}_t^\\mathrm{TM}}\\biggl\\rangle &=& \\frac{1}{2}\\mathrm{Re}\\left[\\vec{E}_t\\times\\vec{H}_t^*\\right] &=& \\mathrm{Re}\\left[N_2^* \\hat{k}_t\\right]\\frac{{\\left(E_t^\\mathrm{TM}\\right)}^2}{2Z_0}\n",
    "\\end{eqnarray*}"
   ]
  },
  {
   "cell_type": "markdown",
   "id": "ccd07a27",
   "metadata": {
    "cell_style": "center",
    "slideshow": {
     "slide_type": "slide"
    }
   },
   "source": [
    "La **reflectividad ($R$)** y **transmissivitdad ($T$)** se definen, repectivamente, como **el flujo de energía reflejada y transmitida relativa al flujo de energía incidente, y en dirección normal a la interfaz.** "
   ]
  },
  {
   "cell_type": "markdown",
   "id": "5d579128",
   "metadata": {
    "cell_style": "center",
    "slideshow": {
     "slide_type": "fragment"
    }
   },
   "source": [
    "Estamos interesados en el flujo de energía a través de la interfaz. Así, consideramos la componente del vector de Poynting paralela a $\\hat{n}$ (notar que $\\hat{n} = - \\hat{z}$ en nuestro ejemplo), de donde obtenemos:\n",
    "\n",
    "**Onda con polarización TM**\n",
    "\\begin{eqnarray}\n",
    "R_\\mathrm{TM} &=& \\frac{S_{r,z}^\\mathrm{TM}}{S_{i,z}^\\mathrm{TM}} &=& \\lvert r_\\mathrm{TM}\\rvert^2\n",
    "\\\\[10pt]\n",
    "T_\\mathrm{TM} &=& \\frac{S_{t,z}^\\mathrm{TM}}{S_{i,z}^\\mathrm{TM}} &=& \\frac{\\mathrm{Re}\\left(N_2^*\\cos\\theta_t\\right)}{\\mathrm{Re}\\left(N_1^*\\cos\\theta_i\\right)}\\lvert t_\\mathrm{TM}\\rvert^2\n",
    "\\end{eqnarray}"
   ]
  },
  {
   "cell_type": "markdown",
   "id": "2f057d84",
   "metadata": {
    "cell_style": "center",
    "slideshow": {
     "slide_type": "fragment"
    }
   },
   "source": [
    "**Onda con polarización TE**\n",
    "\n",
    "\\begin{eqnarray}\n",
    "R_\\mathrm{TE} &=& \\lvert r_\\mathrm{TE}\\rvert^2\n",
    "\\\\[10pt]\n",
    "T_\\mathrm{TE} &=& \\frac{\\mathrm{Re}\\left(N_2\\cos\\theta_t\\right)}{\\mathrm{Re}\\left(N_1\\cos\\theta_i\\right)}\\lvert t_\\mathrm{TE}\\rvert^2\n",
    "\\end{eqnarray}"
   ]
  },
  {
   "cell_type": "markdown",
   "id": "27f6fc55",
   "metadata": {
    "slideshow": {
     "slide_type": "fragment"
    }
   },
   "source": [
    "Notar que por conservación de energía:\n",
    "\\begin{equation}\n",
    "R + T = 1\n",
    "\\end{equation}"
   ]
  },
  {
   "cell_type": "markdown",
   "id": "187bf3c4",
   "metadata": {
    "slideshow": {
     "slide_type": "slide"
    }
   },
   "source": [
    "### Casos particulares"
   ]
  },
  {
   "cell_type": "markdown",
   "id": "071f50fa",
   "metadata": {
    "cell_style": "center",
    "slideshow": {
     "slide_type": "-"
    }
   },
   "source": [
    "Asumiendo dos medios 1 y 2, con índice de refracción real, analicemos la reflectancia en función del ángulo de incidencia:\n",
    "- caso 1, $n_1 < n_2$\n",
    "- caso 2, $n_1 > n_2$"
   ]
  },
  {
   "cell_type": "code",
   "execution_count": 4,
   "id": "8d7bed6f",
   "metadata": {
    "cell_style": "split",
    "slideshow": {
     "slide_type": "slide"
    },
    "tags": [
     "hide-input"
    ]
   },
   "outputs": [],
   "source": [
    "import numpy as np\n",
    "from numpy import radians as rad # convertimos grados a radianes\n",
    "import matplotlib.pyplot as plt\n",
    "from empylib.waveoptics import interface\n",
    "\n",
    "theta = np.linspace(0,90,1000) # Ángulo de incidencia\n",
    "\n",
    "# preparamos el ploteo\n",
    "def plot_R_interface(n1,n2):\n",
    "    \n",
    "    # Reflectividad en una interface\n",
    "    Rp = interface(rad(theta),n1,n2,pol='TM')[0] # TM\n",
    "    Rs = interface(rad(theta),n1,n2,pol='TE')[0] # TE\n",
    "    \n",
    "    fig, ax = plt.subplots()\n",
    "    fig.set_size_inches(5,3)\n",
    "    plt.rcParams['font.size'] = '14'\n",
    "    ax.plot(theta,Rp, label='$R_\\mathrm{TM}$', color='red')\n",
    "    ax.plot(theta,Rs, label='$R_\\mathrm{TE}$',color='blue')\n",
    "    ax.set_xlim([0,90])\n",
    "    ax.set_ylim([0,1.0])\n",
    "    ax.set_xlabel('Ángulo de incidencia (°)')\n",
    "    ax.set_ylabel('Reflectividad')\n",
    "    ax.legend(frameon=False)\n",
    "    plt.show()"
   ]
  },
  {
   "cell_type": "code",
   "execution_count": 5,
   "id": "42d89872",
   "metadata": {
    "cell_style": "split",
    "scrolled": false,
    "tags": [
     "hide-input"
    ]
   },
   "outputs": [
    {
     "data": {
      "application/vnd.jupyter.widget-view+json": {
       "model_id": "643a256bc4fc4a239b16645798c06c78",
       "version_major": 2,
       "version_minor": 0
      },
      "text/plain": [
       "interactive(children=(FloatSlider(value=1.0, description='n1', max=5.0, min=1.0), FloatSlider(value=1.5, descr…"
      ]
     },
     "metadata": {},
     "output_type": "display_data"
    }
   ],
   "source": [
    "from ipywidgets import interact\n",
    "\n",
    "@interact( n1=(1,5, 0.1), n2=(1,5, 0.1))\n",
    "def g(n1=1.0, n2=1.5):\n",
    "    return plot_R_interface(n1,n2)"
   ]
  },
  {
   "cell_type": "markdown",
   "id": "63a4161a",
   "metadata": {
    "cell_style": "center",
    "slideshow": {
     "slide_type": "slide"
    }
   },
   "source": [
    "Cuando $n_1 < n_2$ vemos que $R_\\mathrm{TM} = 0$ en un cierto ángulo. Este ángulo se denomina **ángulo de Brewster.** En este ángulo solo la componente TE es reflejada. "
   ]
  },
  {
   "cell_type": "markdown",
   "id": "b5158912",
   "metadata": {
    "cell_style": "split",
    "slideshow": {
     "slide_type": "fragment"
    }
   },
   "source": [
    "Los lentes polarizados toman ventaja del ángulo de Brewster. Estos lentes están diseñados para bloquear las ondas TE, y de esta forma reducir el brillo enceguecedor generado por la reflección de la luz solar"
   ]
  },
  {
   "cell_type": "markdown",
   "id": "2edd4f05",
   "metadata": {
    "cell_style": "split",
    "slideshow": {
     "slide_type": "-"
    }
   },
   "source": [
    "<img src=\"./images/polarized_glasses.jpg\" width=\"350px\" align= center>"
   ]
  },
  {
   "cell_type": "markdown",
   "id": "8884b02f",
   "metadata": {
    "slideshow": {
     "slide_type": "fragment"
    }
   },
   "source": [
    "Así, si giramos los lentes en posición vertical (asumiento lentes con alto nivel de polarización), el efecto se invierte. Es decir, las ondas TE se transmiten y las TM no."
   ]
  },
  {
   "cell_type": "markdown",
   "id": "247f0d78",
   "metadata": {
    "slideshow": {
     "slide_type": "slide"
    }
   },
   "source": [
    "En el siguiente video, podemos ver el efecto de la polarización. Aquí, la luz no puede pasar a través de dos polarizadores cuando son oriententados en direcciones perpendiculares."
   ]
  },
  {
   "cell_type": "code",
   "execution_count": 6,
   "id": "79a6b530",
   "metadata": {
    "slideshow": {
     "slide_type": "fragment"
    },
    "tags": [
     "remove-input"
    ]
   },
   "outputs": [
    {
     "data": {
      "image/jpeg": "[encoded data removed]",
      "text/html": [
       "\n",
       "<iframe\n",
       "    width=\"600\"\n",
       "    height=\"400\"\n",
       "    src=\"https://www.youtube.com/embed/5SIxEiL8ujA?playsinline=0&start=0\"\n",
       "    frameborder=\"0\"\n",
       "    allowfullscreen\n",
       "\n",
       "></iframe>\n"
      ],
      "text/plain": [
       "<IPython.lib.display.YouTubeVideo at 0x7f51119a13a0>"
      ]
     },
     "execution_count": 6,
     "metadata": {
      "filenames": {
       "image/jpeg": "/mnt/c/Users/francisco.ramirez.c/OneDrive - Universidad Adolfo Ibanez/Teaching_courses/MEC501 - Manejo_y_Conversion_Energia_Solar/material_catedra/_build/jupyter_execute/02_ondas_EM_en_la_materia/02_ondas_EM_en_la_materia_68_0.jpg"
      }
     },
     "output_type": "execute_result"
    }
   ],
   "source": [
    "from IPython.display import YouTubeVideo\n",
    "YouTubeVideo('5SIxEiL8ujA', width=600, height=400,  playsinline=0, start=0)"
   ]
  },
  {
   "cell_type": "markdown",
   "id": "facd7e0b",
   "metadata": {
    "slideshow": {
     "slide_type": "slide"
    }
   },
   "source": [
    "Por otro lado, cuando $n_1 > n_2$, vemos que $R_\\mathrm{TM} = R_\\mathrm{TE} = 0$ sobre cierto ángulo. Este ángulo se denomina **ángulo crítico ($\\theta_c$).** Para deterinar el ángulo crítico usamos la ley de Snell."
   ]
  },
  {
   "cell_type": "markdown",
   "id": "65963ef2",
   "metadata": {
    "cell_style": "split"
   },
   "source": [
    "El ángulo máximo para la onda transmitida es $\\theta_t = 90^o$, la ley de Snell nos indica que existe un ángulo crítico. Sobre este valor, no existe solución real.\n",
    "\n",
    "\\begin{equation}\n",
    "n_1\\sin\\theta_c = n_2\\sin90^o \\Rightarrow \\theta_c = \\arcsin\\left(n_2/n_1\\right)\n",
    "\\end{equation}\n",
    "\n",
    "**Para $\\theta_i > \\theta_c$, $R_\\mathrm{TE} = R_\\mathrm{TM} = 1$.**"
   ]
  },
  {
   "cell_type": "markdown",
   "id": "34422d42",
   "metadata": {
    "cell_style": "split"
   },
   "source": [
    "Este mecanismo se llama **reflección interna total** y es la base para el funcionamiento de fibras ópticas y lasers\n",
    "<img src=\"./images/optical_fiber.png\" width=\"450px\" align= center>"
   ]
  },
  {
   "cell_type": "markdown",
   "id": "97022f4d",
   "metadata": {
    "slideshow": {
     "slide_type": "slide"
    }
   },
   "source": [
    "El siguiente video resume los procesos de reflexión interna total y refracción que ocurren producto del cambio en el índice de refracción."
   ]
  },
  {
   "cell_type": "markdown",
   "id": "ea8c883d",
   "metadata": {
    "cell_style": "split"
   },
   "source": [
    "En el ejemplo, la interfaz es entre agua ($N_\\mathrm{agua} =1.33$) y aceite ($N_\\mathrm{oil} = 1.47$). Al agregar sal al agua (parte final del video), se induce un cambio gradual del índice de refracción (fuente [@uaiphysics](https://www.instagram.com/uaiphysics/?hl=es))."
   ]
  },
  {
   "cell_type": "markdown",
   "id": "87f36b2d",
   "metadata": {
    "cell_style": "split"
   },
   "source": [
    "<center><video controls muted src=\"../_static/videos/refraccíon_uaiphysics.mp4\"  width=\"400px\" align=center></video></center>"
   ]
  },
  {
   "cell_type": "markdown",
   "id": "5536a48a",
   "metadata": {
    "slideshow": {
     "slide_type": "slide"
    }
   },
   "source": [
    "## Reflección y transmissión en películas delgadas\n",
    "En el caso materiales de película delgada, las ondas electromagnéticas se reflejan y transmiten múltiples veces.\n",
    "\n",
    "<img src=\"./images/reflectance_thinfilm.png\" width=\"600px\" align= center>"
   ]
  },
  {
   "cell_type": "markdown",
   "id": "6937e4c8",
   "metadata": {
    "slideshow": {
     "slide_type": "slide"
    }
   },
   "source": [
    "### Coeficientes de Fresnel\n",
    "\n",
    "Considerando los medios 1,2 y 3 ordenados consecutivamente en dirección de la onda incidente, con el medio 2 condicionado por un espesor $d$, se puede demostrar que en este caso los **coeficientes de Fresnel** son:\n",
    "\n",
    "\\begin{align}\n",
    "r &= \\frac{r_{12}+r_{23}e^{2i\\varphi_2}}\n",
    "          {1+r_{12}r_{23}e^{2i\\varphi_2}}\n",
    "\\\\[10pt]\n",
    "t &= \\frac{t_{12}t_{23}e^{i\\varphi_2}}\n",
    "          {1+r_{12}r_{23}e^{2i\\varphi_2}}\n",
    "\\end{align}\n",
    "\n",
    "donde $\\varphi_2 = N_2k_0d\\cos\\theta_2$ ($\\theta_2$ es el ángulo de transmisión en el medio 2); $r_{12}$, $r_{23}$ y $t_{12}$, $t_{23}$ son, respectivamente, los coeficientes de Fresnel desde el medio 1 al medio 2, y desde el medio 2 al medio 3. Estas fórmulas son válidas tanto para ondas TE como para ondas TM."
   ]
  },
  {
   "cell_type": "markdown",
   "id": "de766589",
   "metadata": {
    "slideshow": {
     "slide_type": "slide"
    }
   },
   "source": [
    "### Reflectividad y transmisividad\n",
    "\n",
    "Basado en estas expresiones, podemos calcular la reflectividad y tranmissividad de la película:\n",
    "\n",
    "\\begin{align}\n",
    "R = {\\lvert r\\rvert}^2 &= \\frac{r_{12}^2+r_{23}^2+2r_{12}r_{23}\\cos 2\\varphi_2}\n",
    "                              {1 + 2r_{12}r_{23}\\cos 2\\varphi_2 + r_{12}^2r_{23}^2}\n",
    "\\\\[10pt]\n",
    "T = \\frac{n_3\\cos\\theta_t}{n_1\\cos\\theta_i}{\\lvert t\\rvert}^2 &= \n",
    "\\frac{\\left(1 - r_{12}^2\\right)\\left(1 - r_{23}^2\\right)}\n",
    "     {1 + 2r_{12}r_{23}\\cos 2\\varphi_2 + r_{12}^2r_{23}^2}\n",
    "\\end{align}"
   ]
  },
  {
   "cell_type": "markdown",
   "id": "9e4bca52",
   "metadata": {
    "slideshow": {
     "slide_type": "slide"
    }
   },
   "source": [
    "### Intererencia en ondas EM\n",
    "\n",
    "Como ejemplo, consideremos la reflectividad de una película delgada de sílice (SiO$_2$) sobre un sustrato de silicio. Esta capa se genera naturalmente debido a la oxidación del silicio\n",
    "\n",
    "<img src=\"./images/sio2_coating.png\" width=\"600px\" align= center>\n",
    "\n",
    "Para simplificar, consideremos:\n",
    "- índice de refracción del aire: 1.0\n",
    "- índice de refracción de sílice: 1.5\n",
    "- índice de refracción del silicio: 4.3\n",
    "- espectro de longitudes de onda: 300 - 800 nm (visible)\n",
    "- espesor del sílice, $d$: variable\n",
    "- ángulo de incidencia $\\theta_i$: variable"
   ]
  },
  {
   "cell_type": "code",
   "execution_count": 7,
   "id": "e4453a7a",
   "metadata": {
    "cell_style": "split",
    "slideshow": {
     "slide_type": "slide"
    },
    "tags": [
     "hide-input"
    ]
   },
   "outputs": [],
   "source": [
    "import numpy as np\n",
    "from numpy import radians as rad # convertimos grados a radianes\n",
    "import matplotlib.pyplot as plt\n",
    "from empylib.waveoptics import multilayer\n",
    "\n",
    "# Reflectividad en capa delgada\n",
    "lam = np.linspace(0.3,0.8,100)          # longitud de onda (en um)\n",
    "n_layers = (1.0,1.5,4.3)     # índices de refracción n1, n2, n3\n",
    "\n",
    "# preparamos el ploteo\n",
    "def plot_R_multi(theta,d):\n",
    "    \n",
    "    Rp = multilayer(lam, rad(theta),n_layers, (d,), 'TM')[0]\n",
    "    Rs = multilayer(lam, rad(theta),n_layers, (d,), 'TE')[0]\n",
    "    \n",
    "    fig, ax = plt.subplots()\n",
    "    fig.set_size_inches(5, 3)\n",
    "    plt.rcParams['font.size'] = '14'\n",
    "    ax.plot(lam,Rp, label='$R_\\mathrm{TM}$', color='red')\n",
    "    ax.plot(lam,Rs, label='$R_\\mathrm{TE}$',color='blue')\n",
    "    ax.set_xlim([min(lam),max(lam)])\n",
    "    ax.set_ylim([0,1.0])\n",
    "    ax.set_xlabel('Longitud de onda ($\\mu$m)')\n",
    "    ax.set_ylabel('Reflectividad')\n",
    "    ax.legend(frameon=False)\n",
    "    plt.show()"
   ]
  },
  {
   "cell_type": "code",
   "execution_count": 8,
   "id": "97271595",
   "metadata": {
    "cell_style": "split",
    "tags": [
     "hide-input"
    ]
   },
   "outputs": [
    {
     "data": {
      "application/vnd.jupyter.widget-view+json": {
       "model_id": "3561638c477341b295bb8f1c0a313c92",
       "version_major": 2,
       "version_minor": 0
      },
      "text/plain": [
       "interactive(children=(IntSlider(value=30, description='theta', max=89, step=10), FloatSlider(value=0.3, descri…"
      ]
     },
     "metadata": {},
     "output_type": "display_data"
    }
   ],
   "source": [
    "from ipywidgets import interact\n",
    "\n",
    "@interact(theta=(0,89,10), d=(0,1.0,0.01))\n",
    "def g(theta=30, d=0.3):\n",
    "    return plot_R_multi(theta,d)"
   ]
  },
  {
   "cell_type": "markdown",
   "id": "4715d23e",
   "metadata": {
    "slideshow": {
     "slide_type": "slide"
    }
   },
   "source": [
    "Esta oscilaciones en la reflectancia al variar $\\theta_i$ y $d$ son el resultado de la **interferencia** entre las ondas reflejadas en la parte inferior y superior de la película de silicio."
   ]
  },
  {
   "cell_type": "markdown",
   "id": "43438f9c",
   "metadata": {
    "cell_style": "split",
    "slideshow": {
     "slide_type": "-"
    }
   },
   "source": [
    "<img src=\"./images/interference.png\" width=\"350px\" align= center>"
   ]
  },
  {
   "cell_type": "markdown",
   "id": "4037e868",
   "metadata": {
    "cell_style": "split",
    "slideshow": {
     "slide_type": "fragment"
    }
   },
   "source": [
    "En palabras simples, este fenómeno ocurre por qué la onda reflejada en la parte inferior de la película debe recorre un camino más largo. Esto produce un desface con las ondas reflejadas en la parte superior que deriva en interferencia constructiva (alta reflectividad) y destructiva (baja reflectividad)"
   ]
  },
  {
   "cell_type": "markdown",
   "id": "2af5990e",
   "metadata": {
    "cell_style": "split",
    "slideshow": {
     "slide_type": "fragment"
    }
   },
   "source": [
    "Este fenómeno se manifiesta en forma de color ya que nuestros ojos son sensibles a los cambios de radiación en este espectro. \n",
    "\n",
    "> Se recomienda revisar esta [animación para entender el fenómeno](https://javalab.org/en/light_interference_on_cd_surface_en/)"
   ]
  },
  {
   "cell_type": "markdown",
   "id": "93e2c9e8",
   "metadata": {
    "slideshow": {
     "slide_type": "slide"
    }
   },
   "source": [
    "Analicemos como se manifiesta este fenómeno en forma de color:"
   ]
  },
  {
   "cell_type": "code",
   "execution_count": 9,
   "id": "04a79ec0",
   "metadata": {
    "cell_style": "split",
    "slideshow": {
     "slide_type": "-"
    },
    "tags": [
     "hide-input"
    ]
   },
   "outputs": [],
   "source": [
    "import numpy as np\n",
    "from numpy import radians as rad # convertimos grados a radianes\n",
    "import matplotlib.pyplot as plt\n",
    "from empylib.waveoptics import multilayer\n",
    "from empylib.ref_spectra import AM15\n",
    "from empylib.ref_spectra import color_system as cs\n",
    "cs = cs.hdtv\n",
    "\n",
    "# Reflectividad en capa delgada\n",
    "lam = np.linspace(0.3,0.8,100)   # longitud de onda (en um)\n",
    "n_layers = (1.0,1.5,4.3)         # índices de refracción n1, n2, n3\n",
    "\n",
    "cs.interp_internals(lam)\n",
    "def color_R_film(d):\n",
    "    Rp = lambda tt,d : multilayer(lam, rad(tt),n_layers, (d,), 'TM')[0]\n",
    "    Rs = lambda tt,d : multilayer(lam, rad(tt),n_layers, (d,), 'TE')[0]\n",
    "    \n",
    "    # formateamos la figura\n",
    "    fig, ax = plt.subplots()\n",
    "    fig.set_size_inches(6, 4)\n",
    "    plt.rcParams['font.size'] = '14'\n",
    "    \n",
    "    theta = np.linspace(0,90,100) # angulo de inciSdencia\n",
    "    for tt in theta: \n",
    "        R = 0.5*Rp(tt,d) + 0.5*Rs(tt,d)\n",
    "        Irad = R*AM15(lam)\n",
    "        html_rgb = cs.spec_to_rgb(Irad, out_fmt='html')\n",
    "        ax.axvline(tt, color=html_rgb, linewidth=6) \n",
    "    ax.set_xlim([min(theta),max(theta)])\n",
    "    ax.set_ylim([0,1.0])\n",
    "    ax.axes.yaxis.set_visible(False)\n",
    "    ax.set_xlabel('Ángulo de incidencia (deg)')\n",
    "    plt.show()"
   ]
  },
  {
   "cell_type": "code",
   "execution_count": 10,
   "id": "dd72f038",
   "metadata": {
    "cell_style": "split",
    "tags": [
     "hide-input"
    ]
   },
   "outputs": [
    {
     "data": {
      "application/vnd.jupyter.widget-view+json": {
       "model_id": "af8bd7f1fa6c408e8dc27d35593e2831",
       "version_major": 2,
       "version_minor": 0
      },
      "text/plain": [
       "interactive(children=(FloatSlider(value=0.28, description='d', max=1.0, step=0.001), Output()), _dom_classes=(…"
      ]
     },
     "metadata": {},
     "output_type": "display_data"
    }
   ],
   "source": [
    "from ipywidgets import interact\n",
    "\n",
    "@interact(d=(0,1.0,0.001))\n",
    "def g(d=0.28):\n",
    "    return color_R_film(d)"
   ]
  },
  {
   "cell_type": "markdown",
   "id": "17c1dc23",
   "metadata": {
    "slideshow": {
     "slide_type": "slide"
    }
   },
   "source": [
    "## Referencias\n",
    "Griffths D., *Introduction to Electrodynamics*, 4th Ed, Pearson, 2013\n",
    "- 7.3 Maxwell's Equations (7.36)\n",
    "- 9 Electromagnetic Waves (9.3 y 9.4)"
   ]
  }
 ],
 "metadata": {
  "celltoolbar": "Slideshow",
  "kernelspec": {
   "display_name": "Python 3 (ipykernel)",
   "language": "python",
   "name": "python3"
  },
  "language_info": {
   "codemirror_mode": {
    "name": "ipython",
    "version": 3
   },
   "file_extension": ".py",
   "mimetype": "text/x-python",
   "name": "python",
   "nbconvert_exporter": "python",
   "pygments_lexer": "ipython3",
   "version": "3.9.16"
  },
  "latex_envs": {
   "LaTeX_envs_menu_present": true,
   "autoclose": true,
   "autocomplete": true,
   "bibliofile": "biblio.bib",
   "cite_by": "apalike",
   "current_citInitial": 1,
   "eqLabelWithNumbers": true,
   "eqNumInitial": 1,
   "hotkeys": {
    "equation": "Ctrl-E",
    "itemize": "Ctrl-I"
   },
   "labels_anchors": false,
   "latex_user_defs": false,
   "report_style_numbering": false,
   "user_envs_cfg": false
  },
  "toc": {
   "base_numbering": 1,
   "nav_menu": {},
   "number_sections": true,
   "sideBar": true,
   "skip_h1_title": true,
   "title_cell": "Tabla de contenidos",
   "title_sidebar": "Contenidos",
   "toc_cell": false,
   "toc_position": {
    "height": "calc(100% - 180px)",
    "left": "10px",
    "top": "150px",
    "width": "307.2px"
   },
   "toc_section_display": true,
   "toc_window_display": false
  },
  "varInspector": {
   "cols": {
    "lenName": 16,
    "lenType": 16,
    "lenVar": 40
   },
   "kernels_config": {
    "python": {
     "delete_cmd_postfix": "",
     "delete_cmd_prefix": "del ",
     "library": "var_list.py",
     "varRefreshCmd": "print(var_dic_list())"
    },
    "r": {
     "delete_cmd_postfix": ") ",
     "delete_cmd_prefix": "rm(",
     "library": "var_list.r",
     "varRefreshCmd": "cat(var_dic_list()) "
    }
   },
   "types_to_exclude": [
    "module",
    "function",
    "builtin_function_or_method",
    "instance",
    "_Feature"
   ],
   "window_display": false
  },
  "widgets": {
   "application/vnd.jupyter.widget-state+json": {
    "state": {
     "015910c46f7c4262b1c206ff9c680eec": {
      "model_module": "@jupyter-widgets/base",
      "model_module_version": "1.2.0",
      "model_name": "LayoutModel",
      "state": {
       "_model_module": "@jupyter-widgets/base",
       "_model_module_version": "1.2.0",
       "_model_name": "LayoutModel",
       "_view_count": null,
       "_view_module": "@jupyter-widgets/base",
       "_view_module_version": "1.2.0",
       "_view_name": "LayoutView",
       "align_content": null,
       "align_items": null,
       "align_self": null,
       "border": null,
       "bottom": null,
       "display": null,
       "flex": null,
       "flex_flow": null,
       "grid_area": null,
       "grid_auto_columns": null,
       "grid_auto_flow": null,
       "grid_auto_rows": null,
       "grid_column": null,
       "grid_gap": null,
       "grid_row": null,
       "grid_template_areas": null,
       "grid_template_columns": null,
       "grid_template_rows": null,
       "height": null,
       "justify_content": null,
       "justify_items": null,
       "left": null,
       "margin": null,
       "max_height": null,
       "max_width": null,
       "min_height": null,
       "min_width": null,
       "object_fit": null,
       "object_position": null,
       "order": null,
       "overflow": null,
       "overflow_x": null,
       "overflow_y": null,
       "padding": null,
       "right": null,
       "top": null,
       "visibility": null,
       "width": null
      }
     },
     "104690a77d7f4691916b0f0c77401db7": {
      "model_module": "@jupyter-widgets/controls",
      "model_module_version": "1.5.0",
      "model_name": "FloatSliderModel",
      "state": {
       "_dom_classes": [],
       "_model_module": "@jupyter-widgets/controls",
       "_model_module_version": "1.5.0",
       "_model_name": "FloatSliderModel",
       "_view_count": null,
       "_view_module": "@jupyter-widgets/controls",
       "_view_module_version": "1.5.0",
       "_view_name": "FloatSliderView",
       "continuous_update": true,
       "description": "n1",
       "description_tooltip": null,
       "disabled": false,
       "layout": "IPY_MODEL_729e41360b9c4398b10a46ad67386748",
       "max": 5.0,
       "min": 1.0,
       "orientation": "horizontal",
       "readout": true,
       "readout_format": ".2f",
       "step": 0.1,
       "style": "IPY_MODEL_8648ca1134844c15ac40b1b94f65d263",
       "value": 1.0
      }
     },
     "14c0f116c85846cf8df5144245bc1c54": {
      "model_module": "@jupyter-widgets/base",
      "model_module_version": "1.2.0",
      "model_name": "LayoutModel",
      "state": {
       "_model_module": "@jupyter-widgets/base",
       "_model_module_version": "1.2.0",
       "_model_name": "LayoutModel",
       "_view_count": null,
       "_view_module": "@jupyter-widgets/base",
       "_view_module_version": "1.2.0",
       "_view_name": "LayoutView",
       "align_content": null,
       "align_items": null,
       "align_self": null,
       "border": null,
       "bottom": null,
       "display": null,
       "flex": null,
       "flex_flow": null,
       "grid_area": null,
       "grid_auto_columns": null,
       "grid_auto_flow": null,
       "grid_auto_rows": null,
       "grid_column": null,
       "grid_gap": null,
       "grid_row": null,
       "grid_template_areas": null,
       "grid_template_columns": null,
       "grid_template_rows": null,
       "height": null,
       "justify_content": null,
       "justify_items": null,
       "left": null,
       "margin": null,
       "max_height": null,
       "max_width": null,
       "min_height": null,
       "min_width": null,
       "object_fit": null,
       "object_position": null,
       "order": null,
       "overflow": null,
       "overflow_x": null,
       "overflow_y": null,
       "padding": null,
       "right": null,
       "top": null,
       "visibility": null,
       "width": null
      }
     },
     "1dfe090a976b47dd91dda31dc9be11b3": {
      "model_module": "@jupyter-widgets/controls",
      "model_module_version": "1.5.0",
      "model_name": "SliderStyleModel",
      "state": {
       "_model_module": "@jupyter-widgets/controls",
       "_model_module_version": "1.5.0",
       "_model_name": "SliderStyleModel",
       "_view_count": null,
       "_view_module": "@jupyter-widgets/base",
       "_view_module_version": "1.2.0",
       "_view_name": "StyleView",
       "description_width": "",
       "handle_color": null
      }
     },
     "2a49da58994d453a95c0c35a0f494d78": {
      "model_module": "@jupyter-widgets/output",
      "model_module_version": "1.0.0",
      "model_name": "OutputModel",
      "state": {
       "_dom_classes": [],
       "_model_module": "@jupyter-widgets/output",
       "_model_module_version": "1.0.0",
       "_model_name": "OutputModel",
       "_view_count": null,
       "_view_module": "@jupyter-widgets/output",
       "_view_module_version": "1.0.0",
       "_view_name": "OutputView",
       "layout": "IPY_MODEL_904db5dd5a6748339adbdfe5b324efca",
       "msg_id": "",
       "outputs": [
        {
         "data": {
          "image/png": "iVBORw0KGgoAAAANSUhEUgAAAesAAAGACAYAAACNwEo4AAAAOXRFWHRTb2Z0d2FyZQBNYXRwbG90bGliIHZlcnNpb24zLjUuMiwgaHR0cHM6Ly9tYXRwbG90bGliLm9yZy8qNh9FAAAACXBIWXMAAA9hAAAPYQGoP6dpAAAnVElEQVR4nO3deXiU5b3/8c9kmSRAEhL2sAQIKBz1AAGpbAIeIRRZRQUKCIIgsmhBFLCKeATR1qWt57T2HAu4nFZPFSmXVBFktwioFEERQRQ4LAIRDBAISeb7+8Nf5mJmnmws4S68X9fl1c73+d7Pc8/cM/OZ7Qk+MzMBAABnRV3qCQAAgJIR1gAAOI6wBgDAcYQ1AACOI6wBAHAcYQ0AgOMIawAAHEdYAwDguJjzGRwIBLR//34lJibK5/NdqDkBAHDZMzMdP35caWlpiooq+b3zeYX1/v37Vb9+/fPZBQAAV7S9e/eqXr16JfacV1gnJiZKkh7pv1fxsUkl9pb1fXd4n9e4stTKOs7rtUx4Lbos4yyyr0zjJMWETcxrUc6l5pMU69ETG3Y8X9gcfJL8Hj1+j8n7w8bFhfV4jfNJig+5cQKK9RWENllAUp5H7YxH7XTIviJ6ylQLSD6vnvzImi98nFdPWWsFoZejCiJ7osLHWVhf+OX/Py46vGZSVGHo5ehCjx6PcV590VZ6T0zAY1wg7HL4Xzw2Kaa0mlePvB90IQ8U837ghD8oIsYVU4vxeFDEetTC+2I8JhrjccDYsFrEOJ8U4/Eojw2vhff5pBi/R49HLdYf1hPvMS4upGLyqdDnD7kckD+yx6NmpdSK64lcHJ8U1ufzeEaM8ljo6LBabNgdy2eSP/zZPBCQzhSEXs4Le04pLJROnQpezDlxUvXb9QlmaUnOK6yLPvqOj01SvP8ShrVF1rxC0YWw9nwuOcew9gri8NAta1jHnkNYh/cVF9ZetXMPa6/a2dfSo6fYsM4LvewLv7WKGeeLCbtcWk8JtZAgLi6sw+814TXz7okOr3mEvGcIh9+7i+sLD12PcWUJ61KD2atWXI8iXciwDu8717COPcewDr9crrAOC93YsoZ1XFiPV1iH1rzD2iPQyxzWcaX2RD7blTWsI2sXLKxPhz0XFRZ6vlAry9fI/MAMAADHEdYAADiOsAYAwHGENQAAjiOsAQBwHGENAIDjCGsAABxHWAMA4DjCGgAAxxHWAAA4jrAGAMBxhDUAAI4jrAEAcBxhDQCA4whrAAAcR1gDAOA4whoAAMcR1gAAOI6wBgDAcYQ1AACOI6wBAHAcYQ0AgOMIawAAHEdYAwDgOMIaAADHEdYAADiOsAYAwHGENQAAjiOsAQBwHGENAIDjCGsAABxHWAMA4DjCGgAAxxHWAAA4jrAGAMBxhDUAAI4jrAEAcBxhDQCA4whrAAAcR1gDAOA4whoAAMcR1gAAOI6wBgDAcYQ1AACOI6wBAHAcYQ0AgOMIawAAHEdYAwDgOMIaAADHEdYAADiOsAYAwHGENQAAjiOsAQBwHGENAIDjCGsAABxHWAMA4DjCGgAAxxHWAAA4jrAGAMBxhDUAAI4jrAEAcBxhDQCA4whrAAAcR1gDAOA4whoAAMcR1gAAOI6wBgDAcYQ1AACOI6wBAHAcYQ0AgOMIawAAHEdYAwDgOMIaAADHEdYAADiOsAYAwHGENQAAjiOsAQBwHGENAIDjCGsAABxHWAMA4DjCGgAAxxHWAAA4jrAGAMBxhDUAAI4jrAEAcBxhDQCA4whrAAAcR1gDAOA4whoAAMcR1gAAOI6wBgDAcYQ1AACOI6wBAHAcYQ0AgOMIawAAHEdYAwDgOMIaAADHEdYAADiOsAYAwHGENQAAjiOsAQBwHGENAIDjCGsAABxHWAMA4DjCGgAAxxHWAAA4jrAGAMBxhDUAAI4jrAEAcBxhDQCA4whrAAAcR1gDAOA4whoAAMcR1gAAOI6wBgDAcYQ1AACOI6wBAHAcYQ0AgOMIawAAHEdYAwDgOMIaAADHEdYAADiOsAYAwHGENQAAjiOsAQBwHGENAIDjCGsAABxHWAMA4DjCGgAAxxHWAAA4jrAGAMBxhDUAAI4jrAEAcBxhDQCA4whrAAAcR1gDAOA4whoAAMcR1gAAOI6wBgDAcYQ1AACOI6wBAHAcYQ0AgOMIawAAHEdYAwDgOMIaAADHEdYAADiOsAYAwHGENQAAjiOsAQBwHGENAIDjCGsAABxHWAMA4DjCGgAAxxHWAAA4jrAGAMBxhDUAAI4jrAEAcBxhDQCA4whrAAAcR1gDAOA4whoAAMcR1gAAOI6wBgDAcYQ1AACOI6wBAHAcYQ0AgOMIawAAHEdYAwDgOMIaAADHEdYAADiOsAYAwHGENQAAjiOsAQBwHGENAIDjCGsAABxHWAMA4DjCGgAAxxHWAAA4jrAGAMBxhDUAAI4jrAEAcBxhDQCA4whrAAAcR1gDAOA4whoAAMcR1gAAOI6wBgDAcYQ1AACOI6wBAHAcYQ0AgOMIawAAHEdYAwDgOMIaAADHEdYAADiOsAYAwHGENQAAjiOsAQBwHGENAIDjCGsAABxHWAMA4DjCGgAAxxHWAAA4jrAGAMBxhDUAAI4jrAEAcBxhDQCA4whrAAAcR1gDAOA4whoAAMcR1gAAOI6wBgDAcYQ1AACOI6wBAHAcYQ0AgOMIawAAHEdYAwDgOMIaAADHEdYAADiOsAYAwHGENQAAjiOsAQBwHGENAIDjCGsAABxHWAMA4DjCGgAAxxHWAAA4jrAGAMBxhDUAAI4jrAEAcBxhDQCA4whrAAAcR1gDAOA4whoAAMcR1gAAOI6wBgDAcYQ1AACOI6wBAHAcYQ0AgOMIawAAHEdYAwDgOMIaAADHEdYAADiOsAYAwHGENQAAjiOsAQBwHGENAIDjCGsAABxHWAMA4DjCGgAAxxHWAAA4jrAGAMBxhDUAAI4jrAEAcBxhDQCA4whrAAAcR1gDAOA4whoAAMcR1gAAOI6wBgDAcYQ1AACOI6wBAHAcYQ0AgOMIawAAHEdYAwDgOMIaAADHEdYAADiOsAYAwHGENQAAjiOsAQBwHGENAIDjCGsAABxHWAMA4DjCGgAAxxHWAAA4jrAGAMBxhDUAAI4jrAEAcBxhDQCA4whrAAAcR1gDAOA4whoAAMcR1gAAOI6wBgDAcYQ1AACOI6wBAHAcYQ0AgOMIawAAHEdYAwDgOMIaAADHEdYAADiOsAYAwHGENQAAjiOsAQBwHGENAIDjCGsAABxHWAMA4DjCGgAAxxHWAAA4jrAGAMBxhDUAAI4jrAEAcBxhDQCA4whrAAAcR1gDAOC4mPMZbGaSpNP5OaX2+sq4z/A+r3FlqZV1nNerlfBadFnGWWRfmcZJigmbmNeinEvNJynWoyc27Hi+sDn4JPk9evwek/eHjTsT1uOTlOdROxNy4wQU6ysIbbKApDyP2hmP2umQfUX0lKkWkHxePfmRNV/4OK+estYKQi9HFUT2RIWPs7C+8Mv/f1x0eM2kqMLQy9GFHj0e47z6oq30npiAx7hA2GWL7IkprebVI+8HXcgDxbwfOOEPiohxxdRiPB4UsR618L6I20Xe1yc2rBYxzle2cRF9XuOKqcWGjws/WOQ4k0+FvsKQywEVRvaoIKJmpdR+vJwf0RM5MZ8kf1gl8hkxymOho8NqsWF3LJ9J/vBn80BAOlMQejkv7DmlsFA6dSp4MefEyR/nbx5rGOa8wjo7O1uSNOvt+uezGwAArljHjx9XcnJyiT3nFdapqamSpD179pR6IFS8nJwc1a9fX3v37lVSUtKlng7Owtq4i7Vx2+W0Pmam48ePKy0trdTe8wrrqKgfPwZITk7+p7/RLmdJSUmsj6NYG3exNm67XNanrG90+YEZAACOI6wBAHDceYV1XFycHnvsMcXFxV2o+eACYn3cxdq4i7Vx25W6Pj4ry2/GAQDAJcPH4AAAOI6wBgDAcYQ1AACOI6wBAHDcOYX1xo0b1bNnT6WkpKhy5cpq27at/vSnP13ouaEY+/bt069//Wt1795dDRo0kN/vV+3atTVgwACtX7/ec0xOTo4mT56s9PR0xcXFKT09XZMnT1ZOTul/1x3n7pe//KV8Pp98Pp8++ugjzx7WpuK9/fbb6tatm6pVq6aEhAQ1atRIgwcP1t69e0P6WJuKZWZasGCBunbtqjp16qhSpUq6+uqrdc8992jXrl0R/VfU+lg5rVixwvx+v1WpUsXuvvtue+CBB6xRo0YmyWbPnl3e3eEcTJ061SRZRkaGjRw50qZNm2YDBgyw6Ohoi4qKsjfeeCOk/8SJE9ayZUuTZN26dbOpU6dajx49TJK1bNnSTpw4cYmuyeXtiy++sLi4OKtcubJJsnXr1kX0sDYVKxAI2JgxY4KPn3HjxtnUqVNt2LBh1qBBA1uzZk2wl7WpeJMnTzZJVqdOHRs7dqw99NBDlpWVZT6fzxITE23Lli3B3ittfcoV1vn5+ZaRkWFxcXH26aefBus5OTl2zTXXWExMjH311VcXfJII9dZbb9nq1asj6qtXr7bY2FhLTU2106dPB+szZswwSfbQQw+F9BfVZ8yYcdHnfKUpKCiw66+/3tq2bWtDhw4tNqxZm4r1m9/8xiTZ+PHjraCgIGJ7fn5+8P+zNhXrwIEDFhUVZQ0bNrQffvghZNvzzz9vkuyuu+4K1q609SlXWC9ZsiTiBivy+uuvmySbPn36BZscyq979+4myTZu3GhmP76TSEtLsypVqkS80jx16pSlpKRY3bp1LRAIXIrpXrZmz55tfr/ftm7dasOHD/cMa9amYuXm5lpqaqo1btw4JJS9sDYVb926dSbJhgwZErHtq6++Mkl2yy23mNmVuT7l+s565cqVkqTu3btHbCuqrVq1qjy7xAUWG/vjv9caE/Pjv9GyY8cO7d+/Xx06dFDlypVDeuPj43XjjTdq37592rlzZ4XP9XK1detWPf7443rkkUd0zTXXFNvH2lSspUuX6vvvv1e/fv1UWFioBQsW6KmnntKLL74YcRuzNhWvadOm8vv9+vDDD3X8+PGQbX/7298kSTfddJOkK3N9yvWvbu3YsUPSjzdquJSUFFWvXj3Yg4q3Z88eLVu2TLVr19Z1110nqeQ1O7u+Y8eOYntQdgUFBRoxYoSaN2+uadOmldjL2lSsjz/+WNKPL2RbtGih7du3B7dFRUVp0qRJeuaZZySxNpdCtWrVNHv2bD344INq3ry5+vTpo8TERG3ZskXLli3TmDFjNHHiRElX5vqUK6x/+OEHScX/k15JSUn6v//7v/OfFcotPz9fw4YNU15enn75y18qOjpaUtnW7Ow+nJ8nn3xSmzdv1vr164OfchSHtalYhw4dkiQ9++yzyszM1IYNG9S8eXNt2rRJY8aM0bPPPquMjAzde++9rM0lMmXKFKWlpemee+7R73//+2C9ffv2Gjp0aPAxdSWuD+dZXwYCgYBGjhyp1atXa/To0Ro2bNilntIVafPmzZo1a5amTJmizMzMSz0dhAkEApIkv9+vhQsX6vrrr1eVKlXUqVMnvfnmm4qKitKzzz57iWd5ZZs1a5ZGjBih6dOna+/evTpx4oTWrl2rgoICde3aVQsWLLjUU7xkyhXWRa9iinu1kpOTU+Z/SBsXhplp9OjReu211zR06FC9+OKLIdvLsmZn9+HcDR8+XBkZGZo5c2aZ+lmbilV0O7Zp00ZpaWkh26655ho1btxYX3/9tY4dO8baXALLly/Xo48+qgkTJujhhx9WvXr1VLlyZXXo0EHvvPOOEhISNGnSJElX5mOnXGF99vcA4Y4ePaojR45cNt8P/DMIBAIaNWqU5s6dq8GDB2v+/PmKigpd0pLW7Ow663b+Nm/erC+//FLx8fHBP4Ti8/n08ssvS5LatWsnn8+nhQsXSmJtKtrVV18tSapatarn9qL6qVOnWJtLYPHixZKkrl27RmyrUaOGrrvuOu3ZsyckZ66k9SnXd9adO3fWnDlz9P7772vQoEEh295///1gDy6+QCCgu+++W/PmzdPAgQP16quvBr+nPlvTpk2VlpamDz/8UCdPngz55eTp06e1evVqpaWlqUmTJhU5/cvSqFGjPOurV6/Wjh071KdPH9WoUUMNGzaUxNpUtKIQ2LZtW8S2/Px87dy5U5UrV1aNGjVUu3Zt1qaCnTlzRpJ0+PBhz+1F9bi4uCvzsVOe87zy8/OtcePGFhcXZ5s2bQrWz/6jKNu3b7/AZ5chXGFhoY0YMcIk2e23317qOaNX2h8PcE1x51mbsTYVrejvEPz3f/93SP3f//3fTZINHTo0WGNtKtaf//xnk2TXXHONHTt2LGTb/PnzTZK1bt06WLvS1sdnZlaecF+xYoWysrIUFxenwYMHKykpSQsWLNA333yjWbNm6Re/+MWFeyUBTzNnztTjjz+uKlWq6P777w+eU322fv36qWXLlpKkkydPqmPHjvrHP/6hbt26qXXr1tq8ebPeffddtWzZUmvXro04VxEXzogRI/Tyyy9r3bp1uuGGG0K2sTYV6+uvv1b79u116NAh3XLLLWrWrJk2bdqk5cuXKz09XR999JFq164tibWpaIWFhbr55pu1cuVK1ahRQ3369FFKSoo2b96spUuXKi4uTsuWLVPHjh0lXYHrcy4Jv379euvRo4clJydbQkKCtWnTxl577bUL+zICxSp6p1bSf/PmzQsZc+zYMZs0aZLVr1/fYmNjrX79+jZp0qSIV7C48Ep6Z23G2lS0PXv22IgRI6x27drB23v8+PH23XffRfSyNhXr9OnT9vTTT1tmZqZVqlTJYmJirG7duvazn/0s5O+CF7mS1qfc76wBAEDF4jxrAAAcR1gDAOA4whoAAMcR1gAAOI6wBgDAcYQ1AACOI6wBAHAcYQ0AgOMI6yvMRx99JL/fryeeeOJSTwUAUEb8BbMryNGjR9WqVSt16dJF8+fPv9TTAQCUEWF9BVm5cqXWr1+vyZMnKzY29lJPBwBQRnwMfgXp0qWLpk6d+k8Z1D6fT126dKnw486fP18+n++ifRLRsGHD4L9vXRHO5fpU9BzLa+bMmfL5fFq5cuVFPU6vXr107bXXKhAIODWvcF26dNFPfvIT8T7s8kJYX0HuvPNO+Xw+1a5dWwUFBZd6OsA/jeXLl2vx4sV67LHHFBXl9tPmY489pg0bNuj111+/1FPBBeT2vQ4XTE5Ojt566y35fD599913Wrx48aWeEiR98MEH+uCDDyrseP3799e2bdvUv3//CjvmxTZhwgRt27ZNbdu2vWjHePTRR9WwYUPddtttF+0YF0rXrl3VunVrzZgxg3fXlxHC+grx5z//Wbm5uXrggQfk8/n0xz/+8VJPCZIyMjKUkZFRYcdLTk5Ws2bNlJycXGHHvNiqV6+uZs2aqVKlShdl/1u2bNHf//53DR06VD6f76Ic40IbOnSodu7cWaEvBHFxEdZXiD/+8Y/y+/2aPn26OnTooL/97W86cOCAZ2/R98OHDx/WyJEjVbNmTSUkJOiGG24o9vu3zz77TD179lRiYqKSk5PVs2dPbd26VSNGjJDP59O3334b7C3pu7zyfqeanZ2tSZMmqVGjRoqLi1PNmjU1cOBAffHFF2UaX+T777/X2LFjVatWLVWqVEnXX3+93n777RLHfPbZZxo0aJDq1Kkjv9+v9PR0TZw4UdnZ2WU+rtf3wWffPv/7v/+rzMxMJSQkqE6dOrrvvvt06tQpz32tWbNG/fv3V61atRQXF6f69evr1ltv1dq1a4M9Jd2+f/3rX3X99dcrISFBtWrV0ujRo3X06NFi537mzBk999xzyszMVOXKlZWYmKhOnTpp0aJFEb1n3w9+97vfqXnz5oqPj1d6eroef/zxYr8HXrRokbKyslStWjXFx8erYcOGGjZsmLZu3ep5e51t7ty56tu3rxo2bKj4+HilpqYqKytLK1asKPY6eSm6rW6//XbP7Xv37tXgwYOVmpqqKlWqqHPnzlq9enWJ+1y9erV69+6t6tWrKy4uTk2bNtUjjzyi3NzciN6CggLNmTNHGRkZio+PV5MmTTRnzhzt2rVLPp9PI0aMiBhzxx13SJLmzZtXrusKd8Vc6gng4tuyZYs2btyo/v37KzU1VXfeeafWrl2rl19+WdOmTfMcc+zYMXXo0EFJSUkaMmSIDh06pDfeeENZWVn65JNPdO211wZ7N2/erE6dOik3N1e33nqrmjRpok8++UQdO3ZUixYtLtr1ys7O1g033KCdO3eqS5cuGjRokL799lu9+eabWrx4sZYuXap27dqVup/c3Fx16dJFW7ZsUbt27dS5c2ft3btXAwcOVPfu3T3HLFq0SHfccYeio6PVp08f1a9fX1988YX+4z/+Q0uWLNH69euVkpJyXtfvP//zP/Xuu++qb9++6tKli9577z298MILys7O1v/8z/9E9E6cOFEJCQnq37+/GjRooH379mnt2rV688031bFjxxKP9corr2j48OFKSkrSsGHDVLVqVb3zzju6+eabdebMGfn9/pD+vLw89ejRQytXrlSrVq00atQo5efna/Hixerbt69eeOEFTZgwIeI4Dz74oFauXKlevXqpe/fuWrhwoWbOnKkzZ85o9uzZIb0PPfSQfvWrXyk1NVX9+vVTzZo1tXfvXi1btkytW7cOuQ96GT9+vFq0aKGbb75ZNWrU0L59+7Rw4ULdfPPNWrBggfr27Vvi+CIffPCBqlSp4nm8AwcOqF27dtq3b5+ysrKUmZmpbdu2qVu3buratavn/l588UWNGzdOKSkp6t27t2rUqKGNGzdq9uzZWrFihVasWBFye48cOVKvvvqqMjIyNH78eOXl5enXv/611q1bV+yc09LS1KBBg3K/MIHDDJe9+++/3yTZggULzMzs2LFjFh8fb02bNvXsl2SSbNy4cVZYWBisv/TSSybJ7rnnnpD+jh07miT7y1/+ElJ/7LHHgvv65ptvIuorVqyIOPa8efNMks2bNy9iTp07dw6pjRw50iTZ9OnTQ+rvvfeeSbKmTZuGzL84RfMZPXp0SH3JkiXB+Z89nyNHjlhSUpLVq1fPdu/eHTLmT3/6k0myCRMmlHpcM7P09HRLT0/3nE9ycrJ9+eWXwXpubq5dddVV5vP5bN++fcH6Z599ZtHR0ZaWlhZyO5uZBQKBkF6v2/eHH36wpKQkq1y5sm3fvj1YP3PmjN14440mKWKODz/8sEmymTNnWiAQCNZzcnKsTZs25vf7Q447fPhwk2SNGjWy/fv3B+uHDx+2qlWrWmJiouXl5QXrixcvNkl23XXX2ZEjR0KOnZ+fbwcPHoy4vcLvT7t27bJw+/fvt7S0tGLv++GOHz9uUVFR1qFDB8/tRddr1qxZIfU//OEPwfvO2fP6/PPPLSYmxlq1amXZ2dkhY+bMmWOS7JlnngnWli1bZpKsTZs2lpubG6wfOHDAateubZJs+PDhnnPr37+/SfK8HfDPh7C+zOXl5Vm1atUsJSUl5Mlw4MCBJslWrVoVMUaSVa5c2Y4fPx5Sz8/Pt5iYGMvMzAzWvv32W5NkrVq1itjPyZMnLTU19aKEdV5eniUkJFi1atXs5MmTEfvJysoySbZmzZqIbeEaNWpkfr/fDhw4ELHt3/7t3yLm89xzz5kke/XVVz33l5mZadWrVy/1uGYlh/WMGTMi+ou2LVq0KFgbN26cSbK5c+eWejyv2/fll182STZx4sSI/jVr1kSEdWFhoaWkpFiTJk1CgrrIokWLTJK98MILwVpRqHnNsWjbZ599Fqz17NnTJNny5ctLvU4l3Z+8TJw40STZt99+W2rv9u3bTZLdeuutEdvy8vIsPj7eatasaadOnQrZVlhYaFdddVXEvO67775i75eFhYVWo0YNa926dbA2YsQIk2R//etfI/qLwr24sB47dqxJstWrV5d6PeE+Pga/zC1cuFDZ2dkaO3ZsyEdrd955p9544w3NnTtXN954Y8S4pk2bqkqVKiG1mJgY1apVS8eOHQvWNm/eLElq3759xD4qVaqkFi1aXJSP4r788kudOnVKXbp08fxhUZcuXbRkyRL94x//KPEj4OPHj+ubb77Rv/zLv6h27doR2zt16hTxI52PPvoo+L87d+6MGHP69GkdOXJER44cUfXq1ct71YIyMzMjavXq1ZOkkDXYsGGDJBX7kX1pitawU6dOEdvatWunmJjQp4nt27fr6NGjSktL0+OPPx4x5vDhw5J+XKNw5blOcXFx6ty5c9mvSJhdu3Zpzpw5Wr58ufbt26e8vLyQ7fv371d6enqJ+yj6/YHXVxrbt2/X6dOnddNNNyk+Pj5kW1RUlNq3b6+vvvoqpF5033nvvfe0bNmyiH3GxsaG3G4lPb68amdLTU2VJB05cqTEPvxzIKwvc3PnzpUkDRs2LKSelZWl2rVr6y9/+Yt++9vfKikpKWR7cb8WjomJUWFhYfByTk6OJKlGjRqe/bVq1TrnuZek6LjF7b8oeH/44YcS91O0vWbNmp7bvfb//fffS/rxe+KSnDx58rzC2msNioLz7DU4duyYfD6f6tSpc07HKek2iI6OVrVq1UJqRdf/888/1+eff17sfk+ePBlRK891qlu37jmf07xz5061bdtWOTk56tq1q3r37q2kpCRFRUVp5cqVWrVqVUR4e0lISJAkzx/1nc99J/z7+eLk5OQoKioqYg2K2//ZiuZ8sX4lj4pFWF/G9u7dq6VLl0qSOnToUGzf66+/rjFjxpzTMYpCvujdVLjvvvsuolb0BOz1h1lKC9fw43rt/+x6+IuQ4vZz6NChEvfjNWbLli2l/sipIlStWlVmpgMHDqhu3brlHl8UoF63QWFhobKzs0P2W3T9BwwYoDfffPMcZ12yqlWr6uDBgwoEAucU2M8//7yOHj2q1157TUOGDAnZNnbsWK1atapM+yl6EVoUsmcr6XaTSr7v5OTkKDExsdTjJyUlKRAIKDs7O+KFX3H3/SJFcy7uhTT+uXDq1mVs3rx5CgQC6tixo0aNGhXxX9G77fM557ro195///vfI7bl5uYGP8Y7W9FHivv27YvYtmnTpjIdt1mzZoqPj9fGjRs9T3cpejJu2bJliftJSkpSo0aNtHPnTh08eDBi+5o1ayJqP/nJTySpxF/jVqSiPwby/vvvn9P4ojX0uq7r1q2LeFHVvHlzJSUl6eOPP1Z+fv45HbM0bdu2VV5eXplDNdzXX38tSerTp09IPRAI6MMPPyzzftLS0lStWjXt2LEjYtvVV1+t+Ph4ffzxxzp9+nTEcbweE0X3naKPw0tT0uPLq3a27du3KzY2Vs2aNSvTseA2wvoyZWaaN2+efD6fXnnlFb300ksR/73yyitq1aqVNmzYEHLeanmkp6erQ4cO2rRpU8S7rF/96lee70jatGkj6cfThc4+v3bdunURpyQVx+/3a/DgwTpy5IjmzJkTsm3ZsmV699131aRJkxI/USgybNgwnTlzRjNmzAipv//++55/VOKuu+5SYmKifvGLX3h+DJybm1vmJ+MLYezYsYqOjtYjjzyi3bt3h2wresddkr59+yopKUlz584N+Y41Pz9fjzzySER/TEyM7r33Xu3evVtTpkzxDOytW7cW+46zLMaPHy9Juv/++yPuQwUFBaW+qyz6Lvrsc8wl6emnny7Xfd3n86lTp076+uuvI+bh9/t1xx136NChQ3r22WdDtr300ksR31dL0rhx4xQTE6OJEydq7969EduPHTsW8oK16FOBJ554IuQFwcGDB/Wb3/ym2Hnn5+dr06ZNatOmDR+DXy4u8Q/ccJEsXbrUJFnXrl1L7Pvtb39rkuznP/95sCaP06SKeP16+dNPP7UqVapYdHS03XHHHTZ9+nTLysqy5OTk4Kk/Z5/iFAgErF27dibJ2rZta1OmTLHbb7/d4uLigqeblOXUrUOHDlnjxo1Nkt100002ffp0Gzx4sMXGxlqlSpXK9EtwM7MTJ07Ytddea5Ksffv2Nm3aNBsyZIjFxsbaLbfc4jmfd955xxISEiw6OtpuueUWe+CBB2z8+PHWq1cvS0xMtKysrDIdu6Rfg5fn1/IvvPCC+Xw+q1y5sg0ZMsQefvhhGzlypDVp0sTuv//+UsfPnz/fJFlSUpKNGTPGHnzwQWvevLllZmZanTp1IuZ4+vRp69atm0myjIwMGzlypE2dOtWGDh1qLVq0MEm2bt26YH/RL77DTy0r6fpOmTLFJFlqaqqNGjXKpk+fbnfeeafVrVvXnn/++RLHf/rppxYbG2vx8fE2fPhwmzx5srVv397i4+ODa1rWX48X3TZvvPFGxLb9+/db3bp1TZL16NHDpk+fbv369TO/32/du3f3PM5//dd/WXR0tCUkJNiAAQPsoYcesrFjx1r37t0tLi4u4tTIIUOGmCRr0qSJPfDAAzZhwgSrWbOm9e7d2yTZXXfdFTGvolO+nn766TJdR7iPsL5MDRo0qMTTi4ocOXLE/H6/Va9ePXhqV3nD2sxs06ZNlpWVZVWqVLHExET76U9/alu2bLFevXqZJDt69GhI/+HDh23YsGGWmppqCQkJdsMNN9iSJUvKdZ510X7uu+8+S09Pt9jYWKtevbrddttttmXLlhKvd7js7GwbM2aM1ahRw+Lj461169a2YMGCYudjZvbll1/aqFGjLD093fx+v6WkpNh1111n9913n23YsKFMx71QYW1mtmLFCuvVq5elpqaa3++3evXq2YABA+zDDz8s0/i3337bWrdubXFxcVazZk27++677fvvvy92zQsKCuwPf/iDdejQwZKSkiwuLs4aNGhgPXr0sN///vd24sSJYO+5hLWZ2VtvvWVdu3a15ORki4uLs4YNG9qwYcNs69atpY5fsWKFdejQwRITE61q1arWs2dP++STT8p9qldubq5VrVrVevfu7bl99+7dNnDgQKtatapVqlTJOnXqZKtWrSrxOBs2bLBBgwZZWlpa8H6bmZlp06ZNs23btoX05ufn2xNPPBE8xbBx48b25JNP2vr1601SyIuxIiNGjDC/32+HDh0q03WE+/j3rHHRFBYWKiMjQ6dOnSr1Y0vAZQ8//LCeeeYZ7dq1K3iq2aX20ksvafTo0frd736ne++9N1g/duyYGjRooNtuuy14Ngj++fGdNc5bQUGB57mcTz31lHbv3q1+/fpV/KSAC2jatGlKTk7Wk08+WeHHPnjwYMS/nrVv3z7NmjVL0dHR6tWrV8i2559/XoWFhXriiScqcpq4yDh1C+ftxIkTqlu3rrp166arrrpK+fn5Wr9+vTZu3Kg6depo5syZl3qKwHlJSkrSa6+9pk8//fScTyc7V0899ZQWL16sTp06qWbNmtqzZ4/eeecdHT9+XDNnzlT9+vVD+lNSUvTKK6+c02l8cBcfg+O8nTlzRj//+c+1fPly7d+/X6dPn1adOnX005/+VI8++ihPGsB5eO+99/Tcc89p8+bNOnr0qOLj4/Wv//qvGjdunH72s59d6umhghDWAAA4ju+sAQBwHGENAIDjCGsAABxHWAMA4DjCGgAAxxHWAAA4jrAGAMBxhDUAAI4jrAEAcNz/A1HSa272mNyGAAAAAElFTkSuQmCC",
          "text/plain": "<Figure size 600x400 with 1 Axes>"
         },
         "metadata": {},
         "output_type": "display_data"
        }
       ]
      }
     },
     "3561638c477341b295bb8f1c0a313c92": {
      "model_module": "@jupyter-widgets/controls",
      "model_module_version": "1.5.0",
      "model_name": "VBoxModel",
      "state": {
       "_dom_classes": [
        "widget-interact"
       ],
       "_model_module": "@jupyter-widgets/controls",
       "_model_module_version": "1.5.0",
       "_model_name": "VBoxModel",
       "_view_count": null,
       "_view_module": "@jupyter-widgets/controls",
       "_view_module_version": "1.5.0",
       "_view_name": "VBoxView",
       "box_style": "",
       "children": [
        "IPY_MODEL_e3e9ec15638543128a8e7a579f798dae",
        "IPY_MODEL_982a823f9a64406c8a015b57054f759d",
        "IPY_MODEL_744749289c0541f4b78398b7778cb768"
       ],
       "layout": "IPY_MODEL_015910c46f7c4262b1c206ff9c680eec"
      }
     },
     "3b750b3f176e43edbd825ff1ca5628fc": {
      "model_module": "@jupyter-widgets/controls",
      "model_module_version": "1.5.0",
      "model_name": "SliderStyleModel",
      "state": {
       "_model_module": "@jupyter-widgets/controls",
       "_model_module_version": "1.5.0",
       "_model_name": "SliderStyleModel",
       "_view_count": null,
       "_view_module": "@jupyter-widgets/base",
       "_view_module_version": "1.2.0",
       "_view_name": "StyleView",
       "description_width": "",
       "handle_color": null
      }
     },
     "501357c3b70340dd9a477ebe83e9da1e": {
      "model_module": "@jupyter-widgets/base",
      "model_module_version": "1.2.0",
      "model_name": "LayoutModel",
      "state": {
       "_model_module": "@jupyter-widgets/base",
       "_model_module_version": "1.2.0",
       "_model_name": "LayoutModel",
       "_view_count": null,
       "_view_module": "@jupyter-widgets/base",
       "_view_module_version": "1.2.0",
       "_view_name": "LayoutView",
       "align_content": null,
       "align_items": null,
       "align_self": null,
       "border": null,
       "bottom": null,
       "display": null,
       "flex": null,
       "flex_flow": null,
       "grid_area": null,
       "grid_auto_columns": null,
       "grid_auto_flow": null,
       "grid_auto_rows": null,
       "grid_column": null,
       "grid_gap": null,
       "grid_row": null,
       "grid_template_areas": null,
       "grid_template_columns": null,
       "grid_template_rows": null,
       "height": null,
       "justify_content": null,
       "justify_items": null,
       "left": null,
       "margin": null,
       "max_height": null,
       "max_width": null,
       "min_height": null,
       "min_width": null,
       "object_fit": null,
       "object_position": null,
       "order": null,
       "overflow": null,
       "overflow_x": null,
       "overflow_y": null,
       "padding": null,
       "right": null,
       "top": null,
       "visibility": null,
       "width": null
      }
     },
     "579b4e4b36fb4f0e8cc58f5c95182bdd": {
      "model_module": "@jupyter-widgets/base",
      "model_module_version": "1.2.0",
      "model_name": "LayoutModel",
      "state": {
       "_model_module": "@jupyter-widgets/base",
       "_model_module_version": "1.2.0",
       "_model_name": "LayoutModel",
       "_view_count": null,
       "_view_module": "@jupyter-widgets/base",
       "_view_module_version": "1.2.0",
       "_view_name": "LayoutView",
       "align_content": null,
       "align_items": null,
       "align_self": null,
       "border": null,
       "bottom": null,
       "display": null,
       "flex": null,
       "flex_flow": null,
       "grid_area": null,
       "grid_auto_columns": null,
       "grid_auto_flow": null,
       "grid_auto_rows": null,
       "grid_column": null,
       "grid_gap": null,
       "grid_row": null,
       "grid_template_areas": null,
       "grid_template_columns": null,
       "grid_template_rows": null,
       "height": null,
       "justify_content": null,
       "justify_items": null,
       "left": null,
       "margin": null,
       "max_height": null,
       "max_width": null,
       "min_height": null,
       "min_width": null,
       "object_fit": null,
       "object_position": null,
       "order": null,
       "overflow": null,
       "overflow_x": null,
       "overflow_y": null,
       "padding": null,
       "right": null,
       "top": null,
       "visibility": null,
       "width": null
      }
     },
     "643a256bc4fc4a239b16645798c06c78": {
      "model_module": "@jupyter-widgets/controls",
      "model_module_version": "1.5.0",
      "model_name": "VBoxModel",
      "state": {
       "_dom_classes": [
        "widget-interact"
       ],
       "_model_module": "@jupyter-widgets/controls",
       "_model_module_version": "1.5.0",
       "_model_name": "VBoxModel",
       "_view_count": null,
       "_view_module": "@jupyter-widgets/controls",
       "_view_module_version": "1.5.0",
       "_view_name": "VBoxView",
       "box_style": "",
       "children": [
        "IPY_MODEL_104690a77d7f4691916b0f0c77401db7",
        "IPY_MODEL_ff9eb88769174f31a9882ac2ef1f944d",
        "IPY_MODEL_7fe8f1bd608a4f7fbdf097b49ba4c4b0"
       ],
       "layout": "IPY_MODEL_579b4e4b36fb4f0e8cc58f5c95182bdd"
      }
     },
     "64ad3529efe744e898ab78b67e5fbbf5": {
      "model_module": "@jupyter-widgets/controls",
      "model_module_version": "1.5.0",
      "model_name": "SliderStyleModel",
      "state": {
       "_model_module": "@jupyter-widgets/controls",
       "_model_module_version": "1.5.0",
       "_model_name": "SliderStyleModel",
       "_view_count": null,
       "_view_module": "@jupyter-widgets/base",
       "_view_module_version": "1.2.0",
       "_view_name": "StyleView",
       "description_width": "",
       "handle_color": null
      }
     },
     "729e41360b9c4398b10a46ad67386748": {
      "model_module": "@jupyter-widgets/base",
      "model_module_version": "1.2.0",
      "model_name": "LayoutModel",
      "state": {
       "_model_module": "@jupyter-widgets/base",
       "_model_module_version": "1.2.0",
       "_model_name": "LayoutModel",
       "_view_count": null,
       "_view_module": "@jupyter-widgets/base",
       "_view_module_version": "1.2.0",
       "_view_name": "LayoutView",
       "align_content": null,
       "align_items": null,
       "align_self": null,
       "border": null,
       "bottom": null,
       "display": null,
       "flex": null,
       "flex_flow": null,
       "grid_area": null,
       "grid_auto_columns": null,
       "grid_auto_flow": null,
       "grid_auto_rows": null,
       "grid_column": null,
       "grid_gap": null,
       "grid_row": null,
       "grid_template_areas": null,
       "grid_template_columns": null,
       "grid_template_rows": null,
       "height": null,
       "justify_content": null,
       "justify_items": null,
       "left": null,
       "margin": null,
       "max_height": null,
       "max_width": null,
       "min_height": null,
       "min_width": null,
       "object_fit": null,
       "object_position": null,
       "order": null,
       "overflow": null,
       "overflow_x": null,
       "overflow_y": null,
       "padding": null,
       "right": null,
       "top": null,
       "visibility": null,
       "width": null
      }
     },
     "744749289c0541f4b78398b7778cb768": {
      "model_module": "@jupyter-widgets/output",
      "model_module_version": "1.0.0",
      "model_name": "OutputModel",
      "state": {
       "_dom_classes": [],
       "_model_module": "@jupyter-widgets/output",
       "_model_module_version": "1.0.0",
       "_model_name": "OutputModel",
       "_view_count": null,
       "_view_module": "@jupyter-widgets/output",
       "_view_module_version": "1.0.0",
       "_view_name": "OutputView",
       "layout": "IPY_MODEL_eed40948ff934bc2bd9373ee8ea46f03",
       "msg_id": "",
       "outputs": [
        {
         "data": {
          "image/png": "iVBORw0KGgoAAAANSUhEUgAAAegAAAE7CAYAAAAW+hKNAAAAOXRFWHRTb2Z0d2FyZQBNYXRwbG90bGliIHZlcnNpb24zLjUuMiwgaHR0cHM6Ly9tYXRwbG90bGliLm9yZy8qNh9FAAAACXBIWXMAAA9hAAAPYQGoP6dpAABfoElEQVR4nO3deXxMZxcH8N9MlpFdiDWIxC7EGmpNYouqpa3W66W2ErU0LVptFU0Upbq8aiulVKmitZQqYgu1B7FvIQmiloQshEyWOe8fT2cmY7JNZrtJzvfzuR9y78xzz72znLnPfRYZEREYY4wxJilyawfAGGOMMX2coBljjDEJ4gTNGGOMSRAnaMYYY0yCOEEzxhhjEsQJmjHGGJMgTtCMMcaYBHGCZowxxiSIEzRjjDEmQZygGWOMMQmSZIJeu3Yt3nnnHbRu3RoKhQIymQw//fSTweWoVCosWrQIfn5+cHBwQKVKlTBgwADExMSYPmjGGGPMhCSZoKdNm4YffvgBt27dQrVq1YpdzpgxYxAaGoqcnByEhoaiV69e2LZtG/z9/XH58mUTRswYY4yZliQT9IoVKxAfH4/ExESMGTOmWGUcOHAAy5cvR6dOnXDmzBnMmzcPq1evxo4dO5CWloaxY8eaOGrGGGPMdCSZoLt16wYvLy+jyli+fDkAYNasWVAoFJr1Xbt2RXBwMA4dOoTr168btQ/GGGPMXCSZoE0hMjISTk5O6NChg9624OBgAMDBgwctHRZjjDFWJLbWDsAc0tPTce/ePTRp0gQ2NjZ62+vVqwcABTYWUyqVUCqVmr9VKhUeP36MihUrQiaTmT5oxhhjJQIR4cmTJ6hevTrkcvNd55bKBJ2amgoAcHNzy3O7q6urzuPyMmfOHMyYMcP0wTHGGCsV7ty5gxo1apit/FKZoE1hypQpmDRpkubv1NRU1KpVC3fu3NEkeMYYY2VPWloaatasCRcXF7Pup1QmaPWVc35XyGlpaTqPy4tCodBpXKbm6urKCZoxxpjZb3eWykZiTk5OqFatGuLi4pCTk6O3XX3vWX0vmjHGGJOaUpmgASAgIADp6ek4cuSI3rbdu3drHsMYY4xJUYlP0ElJSbh69SqSkpJ01o8ePRqAGJUsMzNTs37fvn3YvXs3OnfujPr161s0VsYYY6yoJHkPesWKFTh8+DAA4MKFC5p1kZGRAIBXX30Vr776KgBg0aJFmDFjBsLCwhAeHq4pIygoCKNGjcKKFSvQokULvPLKK3jw4AE2bNgAV1dXfP/995Y8JMYYY8wgkkzQhw8fxurVq3XWHTlyRFNdXbt2bU2CLsiyZcvg5+eHZcuWYcGCBXB2dkafPn0we/ZsvnpmjDEmaTIiImsHURKkpaXBzc0Nqamp3IqbMcbKMEvlgxJ/D5oxxhgrjThBM8YYYxLECZoxxhiTIE7QjDHGmARxgmaMMcYkiBM0Y4wxJkGcoBljjDEJ4gTNGGOMSRAnaMYYY0yCOEEzxhhjEsQJmjHGmMX5+flBJpNpFhsbG9SsWRP9+/fHuXPnrB2eJPBY3EXEY3EzxphpZGRkwMXFBa6urggNDdWsO3z4MI4cOQIHBwdERUXB19fXypHmzVL5QJKzWTHGGCu9zp07h+zsbLRt21ZnmmAAeP3117FlyxasXLkS33zzjXUClAiu4maMMWZRZ86cAQC0bNlSb1uPHj0AAImJiRaNSYo4QTPGGLOo06dPA8g7QcfGxgIAGjRoYNGYpIiruBljTAqIgGfPrB1FwRwdAZnM6GLUV9AtWrTQWR8dHY0lS5bA1dUVISEhRu+npOMEzRhjUvDsGeDsbO0oCvb0KeDkZFQRmZmZuHjxIuRyOVavXq1Zd/XqVWzfvh01a9bEhg0bULlyZVNEXKJxgmaMMWYx58+fR1ZWFgBgxowZOtu8vb1x8OBB1KxZU7NOVsgV+6pVqxAZGYnVq1fjww8/xFdffaWzPTAwEAcPHsTChQvx7rvvmugoLIPvQTPGmBQ4OoorVCkvjo5GH6a6envKlCkgIqhUKiQkJODtt99GXFwcRo0apfP4e/fuaZYvv/wSNWrU0Fn3n//8BwBQo0YN/PLLL8jJydE8Ny4uDlFRUahYsaLRcVsDX0EzxpgUyGRGVx+XBC82EJPJZPD09MSyZcsQERGBiIgI3LhxA3Xr1gUAVK1aVfNcV1dX2NjY6KxTa9u2LS5cuICIiAi8/PLLAIDVq1fj1VdfxZEjR8x9WGbBV9CMMcYsJr8uVra2thgyZAgA4LfffitW2UOHDtXc1yYi/Pzzzxg+fHjxg7UyTtCMMcYsIisrCxcuXED58uXh4+Ojt71v374AgC1bthSr/CFDhmD79u1ISUnBoUOHkJWVha5duxoVszVxFTdjjDGLuHTpEpRKJdq3b5/n9rZt26Jq1ao4deoUEhISUKNGDYPKr1WrFl566SVs3LgRx44dw5AhQyCXl9zr0JIbOWOMsRKloAFKAHE/unfv3iAi/PHHH8Xax7Bhw7Bs2TJs2rQJw4YNK3asUsAJmjHGmEWMHDkSRISvv/4638csX74cRITx48cXax/9+/fH9evX4evrW+JHI+MqbsYYY6WGk5MTEhISYGtb8tNbyT8CxhhjLBc3Nzdrh2ASPB90EfF80IwxxgDL5QO+B80YY4xJECdoxhhjTII4QTPGGGMSJNkEHRUVhV69esHd3R1OTk5o06YN1q1bZ1AZKSkp+Oyzz+Dn5wcXFxd4eHjA398fixYtQkZGhpkiZ4wxxownyVbckZGRCA4Ohr29PQYOHAg3Nzds3rwZgwcPRnx8PD799NNCy0hJSUGrVq0QGxuLjh074p133oFSqcTOnTsRGhqKLVu2YM+ePSV6lBnGGGOll+RacWdnZ6Nhw4ZISEjAsWPH0KJFCwDAkydP0K5dO1y7dg2XL19GvXr1Cixn3rx5+PjjjzFx4kR8++23mvWZmZno2LEjoqKicPDgQXTu3LlIcXErbsYYY0AZbsW9f/9+3Lx5E4MGDdIkZwBwcXHB9OnTkZ2djVWrVhVaTmxsLACgV69eOuvt7e3RvXt3AMDDhw9NGDljjDFmOpJL0JGRkQCAHj166G1Trzt48GCh5fj6+gIAdu3apbM+KysLe/fuhYODA9q1a2dktIwxxph5SO4edExMDADkWYXt7u4ODw8PzWMKMmrUKKxZswbffPMNTp06BX9/fyiVSuzatQvJyclYt24dPD09832+UqmEUqnU/J2WllaMo2GMMcaKR3IJOjU1FUD+Q7W5uroiISGh0HIcHBwQGRmJd955B2vXrtVcdcvlcrz77rvo2LFjgc+fM2cOZsyYYWD0jDHGmGlIrorbVJKSktC9e3ccP34cO3bsQEpKCu7fv4+lS5di1apVaNu2LZKTk/N9/pQpU5CamqpZ7ty5Y8HoGWOMlXWSu4JWXzmrr6RfpG49V5hJkybh6NGjOHfuHPz8/DRlh4SEICcnB2PHjsX8+fPzvUpWKBRQKBTFPArGGGPMOJK7glbfe87rPnNycjKSkpIK7WIFADt27ECFChU0yTm3Ll26ANBOHs4YY4xJjeQSdEBAAAAgIiJCb5t6nfoxBcnMzERaWhoyMzP1tiUmJgIAXyEzxpiV+Pn5QSaTaRYbGxvUrFkT/fv3x7lz56wdniRILkF37doVPj4+WLduHc6ePatZ/+TJE8ycORO2trYYPny4Zn1SUhKuXr2KpKQknXI6dOiA7OxszJw5U2e9UqnUrAsKCjLbcTDGGMtbRkYGrly5ggoVKiAsLAxhYWGYPHkyvLy8sHnzZrRr1w6XLl2ydpjWRxK0f/9+srOzI2dnZwoJCaEPPviAvL29CQDNmjVL57FhYWEEgMLCwnTWR0dHk4uLCwGgNm3a0MSJE2ns2LHk4+NDAKhVq1b0/PnzIseUmppKACg1NdUUh8gYY2XW8ePHCQC9/PLLettee+01AkCTJk2yQmRFY6l8ILkraEBc2R4+fBgdO3bExo0bsWTJElSsWBFr167F1KlTi1RG8+bNcfr0aYwYMQL379/HokWL8NNPP8HJyQkzZszAoUOHUK5cOTMfCWOMsRedOXMGANCyZUu9beoBqdS3IssyybXiVmvTpg127txZ6OPCw8MRHh6e57Z69eph5cqVJo6MMcaYMdQNdPNK0Ophmhs0aGDRmKRIsgmaMcbKEiLg2TNrR1EwR0dAJjO+HPUVdO75FgAgOjoaS5YsgaurK0JCQozfUQnHCZoxxiTg2TPA2dnaURTs6VPAycm4MjIzM3Hx4kXI5XKsXr1as+7q1avYvn07atasiQ0bNqBy5comiLhkMyhBq/sPG0omk2Hfvn3Fei5jjLHS4/z588jKygIAvYGivL29cfDgQdSsWVOzTlbIJfuqVasQGRmpSfa5vfPOO1i6dKkJorYOgxK0eqapF8lkMlAe00qr1xd2ghljrKxzdBRXqFLm6Gh8Gerq7SlTpuCLL74AEeGff/7BZ599hpUrV2LUqFHYvXu35vH37t3T/P/nn3/GwoULERUVpVnn5uaGyMhI9O7dG8uXL38hXhMEbEUGJWiVSqXzt1KpxJtvvomYmBhMmzYNnTp1QpUqVfDgwQMcOnQIs2fPRr169fDbb7+ZNGjGGCttZDLjq49LghcbiMlkMnh6emLZsmWIiIhAREQEbty4gbp16wIAqlatqnmuq6srbGxsdNapKRSKPNeXZEZ1swoLC8OFCxcQFRWFwYMHo1atWlAoFKhVqxbeeustnDhxAufPn0dYWJip4mWMMVaC5dfFytbWFkOGDAEAvqj7l1EJet26dejfvz+c82nZ4Orqiv79++PXX381ZjeMMcZKgaysLFy4cAHly5eHj4+P3va+ffsCALZs2WJw2Vu3boWzs7POktd96ZLEqFbciYmJmpv9+cnOzsbDhw+N2Q1jjLFS4NKlS1AqlWjfvn2e29u2bYuqVavi1KlTSEhIQI0aNYpcdvfu3bFw4UKddSW9JbhRV9B16tTBb7/9hkePHuW5PTExERs3btTcS2CMMVZ2FTRACSDuR/fu3RtEhD/++MOgsp2cnFC3bl2dxdXV1eiYrcmoBD1hwgTcv38fLVu2xHfffYfTp0/jzp07OH36NObPn49WrVrh4cOHmDhxoqniZYwxVkKNHDkSRISvv/4638csX74cRITx48dbMDJpMqqKe9SoUbh37x5mzpyJSZMm6WwjItjY2CA8PBxvv/22UUEyxhhjBVEqlbh//77OOoVCAXd3dytFZDyjRxKbPn06Bg0ahF9++QXnz59Hamoq3Nzc0KxZMwwaNAh16tQxRZyMMcZYvv78809Uq1ZNZ11wcDB27dplpYiMJ6O8RhhhetLS0uDm5obU1NQSf1+DMcZY8VkqH0hyuknGGGOsrDPJZBkZGRmIiorCP//8A6VSmedjhg4daopdMcYYY2WC0Ql68eLFmD59OlJTU/Pcrh6LmxM0Y4wxVnRGVXFv3rwZoaGhqFmzJr7++msQEfr164cvvvgCPXv2BBGhf//+WLlypaniZYwxxsoEoxL0/PnzUblyZRw7dkzT17l58+b4+OOPsWPHDqxduxZbt26Fl5eXSYJljDHGygqjEvT58+fRt29fnSm9cnJyNP8fNGgQunbtis8//9yY3TDGGGNljlEJOisrC5UqVdL87eDggJSUFJ3H+Pn5aWYvYYwxxljRGJWgq1evrjOZtpeXF6Kjo3Uec+vWLdjamqSxOGOMMVZmGJWg/f39da6Oe/bsiSNHjmDu3Lm4dOkSli1bhs2bN8Pf39/oQBljjLGyxKiRxLZs2YJPP/0UO3fuRO3atZGYmIjWrVsjISEBgOhi5ebmhkOHDqFp06YmC9oaeCQxxhhjgOXygcmH+kxOTsaKFSsQGxsLLy8vDBkyBJ6enqbchVVwgmaMMQaU4ARdWnGCZowxBvBY3IwxxliZZlDz6uL2Z5bJZJg+fXqxnssYY4yVRQZVccvl+hfcMplM8//cRanXq8fizj2ASUnEVdyMMcYAy+UDg66gDxw4oLfum2++QUREBIYMGYJOnTqhSpUqePDgAQ4dOoS1a9ciODgYkyZNMlnAjDHGWFlgUIIOCAjQ+XvFihWIjIzE6dOn4evrq7Nt6NCheP/999G+fXv07dtX77mMMcYYy59RjcS+++47DBw4UC85qzVt2hQDBw7E/PnzjdkNY4wxVuYYlaBv3LiBihUrFviYihUr4ubNmwaXHRUVhV69esHd3R1OTk5o06YN1q1bZ3A5T548QVhYGJo0aQJHR0eUL18eLVu2xIwZMwwuizHGGLMUo/pB16pVCxUqVEB0dLROYzE1lUqFFi1aIDk5Gbdv3y5yuZGRkQgODoa9vT0GDhwINzc3bN68GXFxcZg9ezY+/fTTIpVz+/ZtdOnSBbGxsejWrRtatGgBpVKJGzdu4Pbt2zh//nyRY+JGYowxxgAL5gMywscff0wymYxeeeUVOnv2rM626Oho6tWrF8nlcvrkk0+KXGZWVhbVqVOHFAoFnTlzRrM+LS2NfH19ydbWlq5fv15oOdnZ2eTv708ODg60f//+PPdjiNTUVAJAqampBj2PMcZY6WKpfGBUgn7+/Dl169aNZDIZyeVycnZ2Jh8fH3J2dia5XE4ymYy6d+9Oz58/L3KZu3fvJgA0YsQIvW3r168nADRlypRCy1E/dvr06QYdU344QTPGGCOyXD4wah7IcuXKISIiAqtXr8bPP/+M8+fP4/bt23Bzc0ObNm0wZMgQDBs2LM/q7/xERkYCAHr06KG3Tb3u4MGDhZazYcMGAMCbb76JO3fuYMeOHUhJSUGdOnXw8ssvw9nZucgxMcYYY5Zm9ETNMpkMw4cPx/Dhw00QDhATEwMAqFevnt42d3d3eHh4aB5TkFOnTgEADh8+jIkTJ0KpVGq2VapUCRs3bkRgYGC+z1cqlTrPSUtLK+ohMMYYY0aT3FjcqampAAA3N7c8t7u6umoeU5CHDx8CAEJDQzFhwgTcuXMHiYmJWLBgAVJTU/Hqq6/i3r17+T5/zpw5cHNz0yw1a9YsxtEwxhhjxSO5BG0qKpUKANC7d2/MnTsXNWrUgIeHB0JDQzFx4kSkpqbixx9/zPf5U6ZMQWpqqma5c+eOpUJnjDHGDEvQcrkctra2uH79uuZvGxubQhdb26LXpKuvnPO7SlY3by9qOX379tXb1qdPHwDaavC8KBQKuLq66iyMMcaYpRh0D7pz586QyWRwdHTU+duU1PeeY2Ji0KpVK51tycnJSEpKQvv27Qstp0GDBkhKSkL58uX1tqnXPX/+3Oh4GWOMMXMwKEGrW1jn97cpBAQEYM6cOYiIiMDAgQN1tkVERGgeU5guXbrgyJEjuHz5Ml5//XWdbZcvXwYA1K5d2zRBM8YYYyZm1Ehi5pCdnY0GDRrg7t27OH78OJo3bw5ADNnZrl07XLt2DZcuXUL9+vUBAElJSUhKSoKHhwc8PDw05cTFxaFRo0Zwc3PDmTNn4OnpqSmnc+fOOHv2LPbu3YuuXbsWKS4eSYwxxhhguXxgVCOxkJAQ/P3336aKBQBga2uLFStWQKVSoVOnThg9ejQ+/PBDNGvWDJcuXUJ4eLgmOQPAokWL0KhRIyxatEinHG9vb3z11Vd4+PAhmjVrhpCQELz77rvw8/PD2bNnMXr06CInZ8YYY8zSjErQP/74IwIDA1G7dm1MmzYNV69eNUlQQUFBOHz4MDp27IiNGzdiyZIlqFixItauXYupU6cWuZzQ0FBs27YNjRs3xvr16/Hjjz+iYsWK+OGHH7Bs2TKTxMoYY4yZg1FV3EePHsWaNWvw+++/49GjR5DJZGjVqhWGDBmCgQMHolKlSqaM1aq4ipsxxhhguXxgknvQ2dnZ2LFjB9asWYO//voLGRkZsLW1RY8ePTBkyBD069cP5cqVM0W8VsMJmjHGGFDCEnRuaWlp2LhxI9auXau5P+3i4oKUlBRT7sbiOEEzxhgDSkgjsby4urpi1KhR+OuvvzBr1izY2triyZMnpt4NY4wxVqoZPVlGbkSEPXv2YO3atdi6dSvS09MBiEZfjDHGGCs6kyTo06dPY+3atVi/fj0ePnwIIkLjxo0xZMgQDB48GDVq1DDFbhhjjLEyw6gEPXv2bPzyyy+4du0aiAhVq1bFhAkTMGTIEM0AI4wxxhgznFGNxORyORwdHfHaa6/hrbfeQvfu3SGXl84JsriRGGOMMcBy+cCoK+jVq1fj9ddfh5OTk6niYYwxxhiMTNBDhgwxVRyMMcYYy6V01kczxhhjJZxBCVoul8PW1hbXr1/X/G1jY1PoYmtr0t5cjDHGWKlnUObs3LkzZDIZHB0ddf5mjDHGmGlJbj5oqeJW3IwxxoASPNQnY4wxxoxnVIL28fHBggULCnzM0qVL4ePjY8xuGGOMsTLHqAQdHx9f6CxVqampuHXrljG7YYwxxsocs1dxp6amQqFQmHs3jDHGWKlicP+nQ4cO6fwdHx+vtw4AcnJykJCQgDVr1qB+/frFj5AxxhgrgwxuxS2Xy4vctYqIIJPJ8NNPP5X4Uce4FTdjjDFAwmNxf/bZZ5DJZCAifP755wgICEBgYKDe42xsbFChQgUEBQWhUaNGpoiVMcYYKzOM6gcdFBSEESNGYOjQoaaMSZL4Cpoxxhgg4Svo3A4cOGCqOBhjjDGWi1GtuI8ePYpJkybh/v37eW6/f/8+Jk2ahOPHjxuzG8YYY6zMMSpBf/PNN9i+fTuqVq2a5/aqVavizz//xP/+9z9jdsMYY4yVOUYl6KioKHTs2LHAx3Tu3JmvoBljjDEDGZWgHz58CE9PzwIfU7VqVTx8+NCY3TDGGGNljlEJunz58rh9+3aBj7l16xacnZ2N2Q1jjDFW5hjVirtdu3bYsmUL7ty5g5o1a+ptv337NrZu3YouXboYsxtWhhAB//wDXL4slkuXgLt3gexs7VKuHODlJZbatYFGjYBmzQAbG2tHzxhjpmNUgp40aRK2bduGDh06YNasWejevTuqVauGe/fuISIiAtOmTcPz58/xwQcfmCpeVgoRAadOAZs2ieXGDcPLcHMDOncGgoKAl18GGjY0fZyMMQaI7yxLMGqgEgBYvHgxJkyYAJVKJQr8d5QxQAwLOn/+fIwfP974SK2MByoxvSdPgMWLge+/B3LfKbGxAerWBRo3Fou3N2BvD9jaiuXpU+DWLbHExQHR0UBamm7ZbdoAw4YBAwcCFSpY9rgYYyVbejoQH6/9nrl1C7hzB0hIUC9pyMw0fz4wOkEDwMWLF/H9998jKioKKSkpKF++PNq0aYMxY8agSZMmpojT6jhBm86TJ8CiRcDXXwOPH4t1jo7AK68A/fsDvXoBLi5FLy87Gzh7FjhwANi3TyzZ2WKbvT0wYAAwZYpI9owxBogkfP26WK5dEzV3N2+K5cGDwp6dBqCEJOiygBO08YiAFSuATz7RJuZ69YBp04A33hBJ2hQePgTWrQN++gk4d06sk8lE8p82TdyvZoyVDU+fAhcvikXdtuXyZXFFXJDy5bVtXby8gFq1gBo1xOLqmoZmzcpwgo6KikJYWBiOHTuGzMxM+Pr6YsKECRg0aFCxysvKyoK/vz/OnTuHBg0a4OrVqwY9nxO0ce7dA0aOBHbuFH/Xrw9Mny6qoG2NaglRsFOngC++ALZs0a57801x9V6rlvn2yxizvHv3gDNnxBIdDZw/L66I81Opkvguql9fXCzUqaNdypfP/3klYixuAMjOzsbChQvx66+/4urVq3j27Bmy/61fPHv2LH744QdMmDDBoDmhIyMjERwcDHt7ewwcOBBubm7YvHkzBg8ejPj4eHz66acGxzlz5kzcKE7rI2a0jRuBsWPFVbNCAcyeDUyYYJlW161bA5s3i1/Ps2cDGzYAv/0G/PknMHUq8MEHolU4Y6xkSUkBoqKAEyeAkyfF//MZdRrVqgFNmwK+vtq2LY0aAe7uFg3ZcGSEZ8+eUceOHUkul1PlypXJ09OT5HK5ZntKSgqVK1eOpk6dWuQys7KyqE6dOqRQKOjMmTOa9WlpaeTr60u2trZ0/fp1g+I8ffo02dra0oIFCwgANWjQwKDnExGlpqYSAEpNTTX4uWVVdjbRe+8RicptopYtiS5etG5M584Rde6sjcnHh2j3buvGxBgrmEpFdO0a0apVRKNGETVqpP0M517kciJfX6IhQ4i+/ZZo3z6ihw9NH4+l8oFRCXratGkkk8noyy+/JJVKRWFhYToJmogoODiYWrduXeQyd+/eTQBoxIgRetvWr19PAGjKlClFLk+pVFLTpk2pY8eOpFKpOEFbyPPnRP37az8406YRZWZaOypBpSJat46oenVtfOPHE6WnWzsyxhiR+Ixevky0ZAnRf/5DVLVq3gm5bl2iQYOI5s8nOnKE6OlTy8RnqXxgVBX3hg0bEBgYiI8++giA6GL1Ih8fH0RHRxe5zMjISABAjx499Lap1x08eLDI5YWHhyMmJgbnzp3LM778KJVKKJVKzd9pL/bjYfl6/Bjo1w84fFi0ol69WtxrlgqZDPjvf4HevYFPPxUtyhcvBvbsAdasEV20GGOWdfeu6IGxd69Y7t3T3a5QAP7+QPv2QIcO4l8PD+vEailGJejbt2/jtddeK/Axrq6uSE1NLXKZMTExAIB69erpbXN3d4eHh4fmMYWJiorCvHnz8MUXXxh0DxwA5syZgxkzZhj0HCZGAevWDbhyRQwesnUrEBho7ajy5uICLFwI9O0LDB8uulu0bw98/rloaS43aiBcxlhBsrKAI0dEw9GdO4ELF3S3lysnPo8BAWJp27bstRcxKkG7uLggMTGxwMfcvHkTlSpVKnKZ6mTu5uaW53ZXV1ckJCQUWo5SqcTw4cPRokWLYo1kNmXKFEyaNEnzd1paWp7DmTKtlBQgOFgkZ09PYNcuoCR0g+/eXXw5jB8PrF8vGo+dPCmu/PN5GzLGiuHxY5GMt20T3w+5KyZlMqBVK/F57NZNJOeylpBfZFSCfumll7B9+3akpqbmmVATEhLw119/4dVXXzVmN8Uyffp0xMTE4PTp07ApRnNhhUIBhUJhhshKp+fPxZXoxYuixeThw2Kc7JKiQgXg11+BLl2Ad98F/vhDVKdt3lwyfmQwJlV374pujps3A4cOATk52m2VKgE9e4qlR4/SX2VtKKMS9OTJkxEUFIRu3brhu+++03SvevbsGY4dO4bQ0FBkZWXpXIkWRp3o86sWV/c/K8iZM2fw7bffYvr06WjatGmR982KJzsbGDQI+PtvccW5a1fJSs65hYQAzZuLQU1iYkS12po1wOuvWzsyxkqOu3dF98rffgOOHdPd1rSp+DHft6/oBsm3kgpgbCuz77//nuzs7Egul+stdnZ2tHz5coPKmzJlCgGgX3/9VW/b48ePCQC1b9++wDJWrVpFAApd3NzcihyXutVeSgq34s5NpSIaPVq0qFQoiA4etHZEpvHwIVHXruK4ZDKib74Rx8oYy1tiItH334tujDKZbmvrdu2Ivv6a6OZNa0dpGiWiFTcAjBkzBgEBAVi6dClOnDiBx48fw9XVFW3btsW4cePg6+trUHkBAQGYM2cOIiIiMPCFpr8RERGaxxSkfv36GDlyZJ7bfvzxR7i5ueGNN96AYzHGloyMFC2UmbBgAfDDD+JX8Lp1Ykap0qBSJVET8P77wJIlYkCTuDhg/nye1pIxNaUS2LED+Pln8a96DHwA6NhRjIP/+uuiTQorBrOm/2LIysoiHx8fUigUFB0drVmfe6CSa9euadYnJibSlStXKDExsUjlw8h+0MHBfAWtduIEkZ2d+IU8f761ozEPlUr88ldfCfTpY7m+loxJ1ZkzROPGEbm7614pt2xJ9NVXRLduWTtC8yoRA5WYy/79+8nOzo6cnZ0pJCSEPvjgA/L29iYANGvWLJ3HhoWFEQAKCwsrUtnGJmgglWJiDH56qfP4MVHt2uJD2b9/6a/+/e03onLlxPG2b0+UnGztiBizrJQUosWLiVq00E3Knp5EH39s/VECLUmSVdy3c0/aa6BaBsxMEBQUhMOHDyMsLAwbN27UTJYxc+ZMDB48uNgxmMqiRaKqs6wiAt5+W8yX6uMD/Pij6CJRmr3xBlC9upgS8+hRICgIiIgQVeGMlWZnz4rbPL/8Ajx7JtbZ2wOvvSa+B7p25ds+5mLQbFZyudyg0bg0O5HJNC28Sypt6/FUuLi4IiEBKKuTWn33nZjswt5eJKtWrawdkeWcOye6gzx8CDRsKEYfq1HD2lExZlqZmcDvv4uLkdytsBs3Fj0d3nqrbHeJkuRsVkOHDi1Wgi5N6tUT3W9++gl47z1rR2N5584BkyeL/3/zTdlKzoCYS/rQITGQwtWrQKdOwP79gLe3tSNjzHiJiaLR5+LF2qE2bW1Ft8Nx48T7vYynAIuS7HzQUqP+xfTNN6n44ANX1K0LXLtWtvrw5eQAL70k5lju108MPlBWP6y3bomqvZs3xWTukZElt+83Y9evix/cP/8MZGSIdVWriqQcEiL+z7QsdQVtUHrx8fHBwoULNX///PPPOH/+vMmDkrL//lcMxnHjBvDXX9aOxrIWLBDJ2c0N+P77spucAZGUDx0SNSq3bol70rduWTsqxgxz/Li4Om7YUFw5Z2SIWrE1a8T7efp0Ts7WZFCCjo+PR3Jysubv4cOHY+vWraaOSdKcnIBRo8T/v/vOurFYUnw8MG2a+P+8eWI4z7KuenXgwAGgbl1xfoKCgDt3rB0VYwUjErdlgoKAdu3EEJxEYna3gweBqChxj9ne3tqRMoPuQVeuXBl37941VywlxrvvAv/7n5gS7coVoFEja0dkXkTAmDGiBWfnztofKGaRmSlu7sbGipFB4uLEjbHsbFHHnpMj5p2rWlUs1aqJpuTNm1tlZgtPT5GkAwNFdXdQkLiyrl7d4qEwViAiMVHFrFnahl92diIZf/ihaADGpMWgBN22bVusWbMGtra2qFKlCgDt/M0FkclkmD59erEClKLatUV3m+3bxYxHc+daOyLzWrcO2L1b5EX1qGEmo1KJn+z794tMd+SIti+HoerWFfVz7dsDvXqJvy2gRg3dJN29u0jSFStaZPeMFYhIfH4/+0x81AAxS1RIiGjwyZP0FVF6urhYePhQVJlZgEGNxK5fv45XX30VV69eFU+WyVCUp8tkMuTknsKkBHqxUcDmzeLeTfXqwO3bpbcf4OPHQIMGQFISMHOmtprbaPHxwKpVojn8i/3ry5cXydXbWyzVqomf+jY2Ynn+HLh/XzQzvXdPVGPk1Ue/Xj2RqF97TTQ/NXOLvvh4Mbzh3btiJqx9+8Sc04xZA5F4D372mfaK2dFRNPz64AO+t6zx/DmQkCDuT929K5Z//tF+v9y/L5b0dM1T0gC4AWZvJGZwK26VSoW4uDjcvXsXgYGBGD58OIYNG1bo8wobP1vqXkzQSqXIG8nJ4tdpjx7WjtA8PvgA+PZbUf0VHW3kfSkicV9g3jzxzaF+67m5iXkeAwNFHbGvr+HJNCkJOHNGtGLbt09cwubue+/tDQwbBgwdatY+UVeuiN8Cjx6Jw/nrL8DBwWy7YyxPJ08Cn3wianYAccU8fjzw0UdA5crWjc3inj8Xt8xiY8Wv6Ph4cevs1i2RlBMTi16WQgFUroy0ChXgdu6c9BJ0bt7e3pg4cSLeKwMdgvNqVj9+vBhhZ9AgMcpOaXPzpri/npUl7l317GlEYcePA1OmiP5Ial27AiNHiitcU8/MnpYmfgxs3w5s2gQ8eaLdFhwsbrp17WqWpuinT4vfGU+eAH36iN3b2Zl8N4zpuXpV1HJt2iT+trcX7Uc++aSUN+zMyhJfWNeuiT5j16+LAStu3BBXxIVxchL3qjw9tUv16uKkqdu7VKkCODsDMpnFullxP+giyusFOXlSzBfs4CBqQErbyGIDBoj5XLt3F7UExcplN26Iy/Bt28Tf6m+MCRMsN7rHs2ei0/ZPP+leuTdrJmIbONDkGfTQIfE7ICMDGDGibAyHyqzn4UMgPFy0EcnJERVQQ4eKdV5e1o7OhLKyRPK9eFEsly+LaquYGN0asxe5ugJ16ojvnNq1xeLlJZaaNQF3d4M+oCUqQd+/fx+bN2/G1atX8ezZM6xYsQIAkJiYiLi4ODRt2hQOJbyeL68XhEhU/V69CqxYIS4GS4tjx0RbK5lMjMXr52dgASqVGI7o449FFZNcDgwfDoSFAQaMy25ysbGif9yKFdrGaN7ewIwZoirEhI0Jtm8XlQM5OcDUqaL1LGOm9Py5mBdgzhxtJVHfvsAXX4g7RSVaUpIYuvDsWe2/V6+KJJ0XJyfRYKZ+fe1St65IzBUrmvQXsqUStNGzWS1evJjKlStHMpmMZDIZyeVyzbaLFy+SXC6nH374wdjdWF1+s5fMmSNmdOnUyUqBmYFKRfTSS+K4Ro4sRgE3bxIFBGinuwkMJLpyxdRhGufRI6IvviCqUkUbZ+PGRJs2mXRqrhUrtMUvXGiyYlkZp1IRbdhAVKuW9v3VqhVRZKS1IyumpCSinTuJZs0ieu013QN7cXFxIWrXjmjUKKL//Y9o926i27ctOqVeiZhuctu2bSSTycjf35+2b99O48aN00nQRETNmzenXr16GRWkFOT3gty5QySTiffNzZtWCs7ENm4Ux+PoSPTPPwY++ddfiZycRAFOTmJ+upwcs8RpEk+fEs2dqzuxbbt2RFFRJtvFzJmiWJlMTFvJmDGio4k6d9a+XWvUIFqzRtofMx2ZmeLz9d13RIMGEdWtm38yrlNHzGc7cybRtm1E8fGSmNu2RCToTp06kZeXFz39dwb78PBwvQQ9ZMgQql27tjG7kYSCXpDu3cV7qYhTUkuaUknk4yOOJzzcgCdmZxN98on2gxUQULJ+sSQnE02frv1xIZMRvf020f37RhetUhGNHSuKtbcnOnTI+HBZ2fPoEdGYMURyuXgvlSsnPqPp6daOrBApKUR//UU0ZYr4XnBwyDsZ161L9N//En39NdGBA+J5ElUiErSLiwuNGzdO83deCfqTTz4hBwcHY3YjCQW9IGvXiveXt3cJ+hWbjx9+EMdStaq4uCySlBSiV17RftA+/lgk7JIoIYHorbe0x+LqSrRggdHHk50tau4AcbF+9aqJ4mWlXk4O0Y8/Enl4aN+WAwYQ3bpl7cjy8fgx0ZYtRO+9R9S8ufYXRe7F3Z2oVy+iGTOIdu0Svz5KEEslaINGEnuRSqWCXSGtXxMTE6FQKIzZjbSkpuo1137tNTEgRVycaFzVoYOVYjNSZiYwe7b4/yefiDYXhbp1C3j5ZdGSslw50Vx50CCzxmlWnp5ipoBx48R8oqdOiX9/+QVYvhxo2rRYxdrYAGvXiu7eJ06IU3bsmOi5wVh+zp0Tb8WjR8XfjRuLtpeBgVYNS9ezZ8Dff4vJ0ffvF425Xmx7XKeOGCe4Qwex1K9ftqYCLC5jsnvLli2pVatWmr9fvILOysqiunXrUqdS0IJK84vpnXfy3D50qPhhGBpq4cBMKPfV87NnRXhCTAxRzZraG2GnTpk9RovKySH6/ntxFQ0Q2dqKarrnz4td5MOH4rYaQOTvb0AtBStTnj4l+vBDIhsbbXOOr74St2+tLieH6MwZ0cgyMFDct3nxCrlhQ3FfZ/16ort3rR2xyZWIKu5vvvmGZDIZzZw5k4h0E3R2dja9//77JJfLafny5cZHamWaF0QmE2/OF/z1l3hfVqlSMmt3lUoiLy9xDPPnF+EJly4RVasmntCggagaLq3u3iV6/XXdL58TJ4pd3LVrRBUqiKL69i2Z7xdmPn/9RVS7tvbt1r+/aIxqVY8fiwagQ4fq9nxQL7VqiS4f69YVo2VpyVMiEnRmZiYFBgaSXC6n+vXrU9OmTUkul9Obb75J3t7eJJPJKDg4mFQSaHVnLM0LAog+SC/cbM7M1H7p7ttnpSCNYNDVc3S09oZY06YmaUhVImzZIk4QIC5tpk4Vv2yK4fBhIoVCFDVhgmnDZCXTw4eijZQ659WsSbR9uxUDunpVXLYHBGgv5dWLk5P4dbl4MdH165JoWW1JJSJBExEplUr69NNPqUKFCpq+0DKZjNzc3OiTTz4hZTG/wKRG84KoW/muWKH3mJAQsSkkxAoBGiH31fP//lfIg8+dIypfXtvxMinJAhFKSFKS7reonx/R+fPFKmrDBu4jzURuW7dO+5tXLieaOJHoyRMLB5KTQ3T0qGjk2aCB/lVy48ai3n3/fqKMDAsHJy0lJkGrqVQqunLlCh05coQuXLhA2f/W28XGxtKwYcNMtRur0bwgs2eLN2vFinrJad8+salChWJfWFlFka+eY2O1V5AvvSTpbhBm9/vv2m9UhULcFyjGVYR6oBu5nOjPP80QJ5O0hASi3r21ObBpU5N2wS9cVpb44ho3TnvLSr3Y2RH16CF+PcbGWjAo6StxCfpFt27dolGjRpG9vb1e16uSSPOCJCWJT1Eel8rZ2drbMzt2WClQA2VmFvHq+cED7YACTZqIe1Jl3YMHut3LevYkunfPoCJUKnHrTl1rGB1tnlCZtKhURD/9ROTmps2Fn39uoR/22dkiKY8erdt3S92tcOBA0birLP8AL4SkE/Tff/9NgYGB5OLiQu7u7tS3b1+6+m/HzvT0dJo4cSIpFAqSyWTk6elJixYtMmnQ1qDzgvz9t/YN/cLP3dBQsXrIECsFaqA1a0S8lSoVMOBBWpqozgZENi+FrTKLTaUS9+HKldOeyL/+MqiIzEyibt3E06tXL93t7Zj4+OT+XdemDdHFi2beaU6O+N4aN46ocmXdpFyxohiUZ8eOMl91XVSSTdCnTp3SJN/cS7Vq1SgmJoZ8fX01iXnBggWUUUpecL0XRD2YRVCQTtXmkSNitYuLUb1xLEKl0lYGzJqVz4NyZw8PD9EEmem7dImoWTPtl94HHxh0OZSSIm7xAUQtWljh/iMzO5VKDGqkbsJhby9Gmc3KMuNOz50T95RfHNu6QgVRA7hnj5kDKJ0km6AHDBhAMpmM5s6dS4mJiZSYmEgzZ84kmUxGVatWJRsbG5o+fTo9l3p2MpDeCxIfr22Gm+uKKSdH+1nYvNlKwRbRjh0iTmfnAmqs1WNUOjtb+OZYCfT8ubYKRd3R2YDhTuPitBc3vXtz96vSJDGR6I03tG+N1q3NeNV8965ofa3+9a1eXFyIhg0Tk1JIokN1ySXZBO3p6Uldu3bVW6/ubvXNN9+YJDCpyfMF+fBD7T3ZXN+mkydrh+OTMvWEU5Mm5fOAJUvEA2QyK/f3KGG2bNFOvuHqatAMGcePa2vL33vPfCEyy9m+Xds2xdZWzPtg8ovWZ89EU/AePXSH1rS3F2PM/v57EUcfYkUh2QRtZ2dHH330kd76yZMnk1wup6RS2u0mzxfk8WPtF/HKlZrVp0+LVQ4O0q2qPH5c2zglz0EQDhwQ3yaAaGrMDHPrFlGHDtovynffLfL9vd9+0z5twQIzx8nM5ulT0Q4rdy+l06dNuAOVSgyYM2aMtrWZeunQgWjpUm7MaSaSTdAymYxmzJihtz6viTJKk3xfkK++Eh8IT0/NL1SViqhePbH6l1+sEGwRqCduGD48j42xsaLhCCD6/JaxQQhMJjNT3P9Tf2m2alXkKu/c3a+48qLkOXFC+x0AiH7NJrvrl5QkuvW9WIVdqxbRZ58R3bhhoh2x/FgqQfNo5cZ6912gVi3g7l3gu+8AADIZMHCg2Lx+vRVjy8e1a8DWreL/H330wsb0dKBfP+DRI6BVKzH5hUxm6RBLBzs7YO5cYMcOoEIF4PRpoGVLYMuWQp/68cfAqFGASgX85z/iqUz6srOBmTOB9u2BmBigRg1g3z7g22/FXDLFRgRERgL//S9QvTowYQJw4YIodPBgYO9eMVvPjBliYgpWKsiIiAx5glwuR926dVG3bl2d9Tdu3MDNmzcRHBysvxOZDDt27DAuUitLS0uDm5sbUlNT4frCbFZYswYYOlTMchUbC1SsiMuXAV9f8R394AHg7m6duPMyapTIu337An/8kWsDETBsmDieKlXETE41algtzlLlzh3xq009LdGECcCXXwL29vk+JSsL6N0biIgAqlYVs2DVqmWZcJnh4uOBt94CjhwRfw8YACxdauRn/9EjYPVq4IcfxC9rtebNgZAQMXNc+fJG7IAVR4H5wJQMveR+sXtVUZbSUPVdYJVGTo62i80HH2hW+/nlOyqo1dy7p5185siRFzaqhxSTy8U9aGZamZnahoUAUdu2hU7qm5Kircls0oTHjpCqX3/VTnrm4kL0889G3BlSqYiOHRMTU6h7iqh7UoweXfpmjSuBJHsPOj4+vliLoU6ePEkvv/wylS9fnhwdHcnf359+MeCG7t9//02TJk2ili1bUoUKFUihUFCDBg3oo48+ouTkZIPjKfQFUU9npVAQ3b5NRGI2NkB0I5aKqVNFTO3bv7DhzBntlwE3CjOvrVu1nWHd3Qu9yXz7tnYUxq5dS9YwsqVdWpp2qlmAqF07I0bFTE8nWr5cdITPfW+5RQvR4CstzaSxs+KTbIK2hAMHDpC9vT05OzvTqFGj6IMPPiBvb28CQLNnzy5SGVWqVCEbGxsKCAigCRMm0MSJE6lFixYEgOrUqUMPHjwwKKZCXxCViqhzZ/GBGjmSiER7IPUFqRQmfHr6VNvofNOmXBtSUrSTFPfurTdTFzOD2FjRGVb9JfzRRwX2TT19WgwFCogxcrjdnvWdPKn92Mjlon1WsbpP3bghat7UH071D/1hw0R3C36xJafMJuisrCyqU6cOKRQKOpNr3uW0tDTy9fUlW1tbun79eqHlzJ07l/55YV5SlUpFY8eOJQA0btw4g+Iq0guiHkZMLie6coWIxDB+gDRmK1q4UMRSp06ubtsqlXauYy8vokePrBli2ZKRoTuwSYcOBU78u3Ondta/Tz6xYJxMR04O0Zdfansh1qolRtE0iEpFtHu3GPNTJtO+B3x8RM+QUtpdtbQoswl69+7dBIBGjBiht239+vUEgKZMmVLs8v/55x8CQL6+vgY9r8gvSN++4oPWvz8RiQko1N+91pSdTeTtLWJZvDjXhkWLtB2iT560Wnxl2m+/aW9gVqxY4LRWq1Zpv8tLwRD3Jc4//2hHvgWI3nzTwK7GT56ID2DDhrrV2C+/LF53Hj6uRCizCXrKlCkEgH799Ve9bY8fPyYA1F7vBmrRJSYmEgBq1qyZQc8r8gty8aL2F/HJk5SQoP2zkPZAZqUe/KJChVyTYkRHa1uMzZ9vveCYqOZs2VL7hT1pUr43mz//XDvAm86tCmZWO3ZoJ39ydBS3i4tc+xwbK17T3AOKuLgQvf8+URFqBJm0lNkE/cYbbxAAOpVPS0UPDw+qVKlSscv/8ssvCQBNnjy5wMdlZGRQamqqZrlz507RX5Bhw8QHsEsXIpVKM6TmvHnFDtsoKpVoMAwQTZv278onT4jq1xcr+/Th+1xSkJEhxvdUf4HnM5a3SiXmOVCP5Lh/vxViLUMyMsRAI+qXpVkzosuXi/BElYro0CFxCyn38Jv16on7Tdzoq8Qqswm6e/fuBIBiYmLy3O7j40P29vbFKjs6OpocHR2pcuXKlJiYWOBjw8LCCIDeUqQXJD5ee2X611+0dKm2MaY1HD6s/TLXNFZTNz319OT7XVKTeyxvFxcxBdILsrKIXn1V2/uG5zExj2vXdBtVv/deEUYEUypFP6vcNSIAUffu4jKcG2GWeJygTZygY2NjydPTkxQKBe0vwiWHUVfQRNr+ro0aUeI/mZoGJefPGxy60fr1E/seNerfFatXaxuzHTxo+YBY4W7dEn3h1F/ub71F9MJ77/lzMdspIKpe/22XyExApRL3+9Ut5ytWJNq2rZAnJSaKeVvVfeIAMfNJSIgFJnxmllRmE7Q5qrjj4+PJy8uL7O3taXsxBzY2+AVJTtaOZ714saah9MSJxdp9sV2+rP2uuHyZxLe4+lsnjzHVmYRkZRGFh2urR729iY4e1XlIaqoY4hsgqlnTuu0cSouUFKKBA7Wfm6AgooSEAp5w6ZJIwuppyACRpGfPFkmblTplNkGbupFYXFwc1a5dm+zs7Gjr1q3FjqtYL4i6hbSHB/25/onmSseSA02ob4e/+iqJyTzUw1IFBXGL0ZLi8GHRBU5d6zFlis7MWA8fEjVoIDbXrVtIMmEFOnpU29vBxkYMNpTnx0SlItq1iyg4WLcau1UrojVreDSZUq7MJuhdu3aZrJtVXFwceXl5kZ2dHW3evNmouIr1gmRlETVqRARQ1gcfa2q+fv/dqFCK7NYtbV/N48dJO/dd5cqivwgrOVJSRDW3OhH4+RGdO6fZfPu2NrHUry+GdGVFl5UlKpTU/cy9vcVom3rS04mWLdN8rjXN6V97TTQI48aWZUKZTdBZWVnk4+NDCoWCoqOjNetzD1Ry7do1zfrExES6cuWKXqMvdXK2tbWlTSboi1LsF2THDk0LrU/GPCaAqFcvo8MpEnWD4KAgEoMFq79M9uyxTADM9H7/XXvrxM6OaOZMzQhkcXFi0Ix/mz6QgYPllVlxcbpTdw8enMeY5wkJouaiQgXtA52dRTepIk4hykqPMpugiYj2799PdnZ25OzsTCEhITpDfc6aNUvnserW1mFhYTrrvby8CAC99NJLFBYWludiiGK/ICqVaL0J0PUe4zW1lOauhkxMJHJwEN8jEasSxJeJTj8rVmLdv68dEEd9Nf1vM+4bN0TDfEBMrsG3QPOnUona6NyTXOg0mFdPWvHf/2qrogCi2rWJvv2WZy4pw8p0giYiOnHiBPXs2ZPc3NzIwcGBWrduTWvz6G6SX4LOq4vUi4shjHpBzp/XNPTp1DiJANF+xJw++0x8l7Rsnk2qpv9Oq9W5czEHC2aSo84u6qtpuVyM55yeTteuaRsSN25MdPeutYOVnkePxChg6pyrM8lFRoY4t/7+uveXAwJEFzhuu1HmlfkELTVGvyCTJxMBtMrtfQLEeNjmul2VlqbtRvtbu2+095259VDp8+CBuMJTJ5FatYg2baIrl1WaK2kfHyNmWCqFIiKIqlcX58bWVtwlyMoiMQ76tGlEVapoz6dCQTR8uJjtjbF/cYKWGKNfkGfPiOrXpydwImfb5wSYrwvy11//21jII4myIRf3Kg0ezZ+VKNu3a29AA0Q9elDs3pvk4yP+rF69iKNflWJPnhCNHas9RfXrE0WdVImh2Pr317YQw78D+MyeLZrIM/YCTtASY5IX5PBhIpmMRmI5AWIwL1NLTSWqVEl8x6zASPGfpUtNvyMmPenp4gpQPYqdnR3dHfUZNW6QpeniV1bnQzl4kDQ/VgCicW8/p6dffKcd7jZ3NfbGjQVO/ckYJ2iJMdkL8t57dBQv/Vt7pjL5/cHp0/+9OpBfp0zYiq5VrGyJiRHTGP6bdBKda1Nrz38IEA0HLdXNTwqePBENrdUT1tSq/Jz2dPlCVF3nbo09ZgzRhQvWDpeVEJygJcZkL8jTp6Sq7U0dcYgA8eVhKvfuETk65Ii+1nhdDBWZa0ALVsbs3k3UvDkRQGlwpl6KvZqcNHdu6e+yu3OndnwXgGiUy3pKhYt2RYsWok8zT1rBDMQJWmJM+oLs308R6EYAUTnbLJONGTJmaDoBRG1xjFTePjxaBRMTM6xZQ+TlRVmwoVB8p8lPbw9Rlsrfb4mJRG/9R6k5Ti/E0U78O+KXqyvRO++Iuv7S/guFmY2lErQczPKCgtDtyx5oh6PIyLbFVyHXjC7y2vFkLP/ZHgAwr9LXkB3YD1StanS5rISTy4G33gKuXYPt94uwwOtbLEAo5MjByjX26Oh1B7GRt60dpUnkpKVjachpNPB8grUb7CGDChPwP1xEE/QMyABWrwbu3QOWLgX8/QGZzNohM1YgTtBWIpv8IcL6RAMAlu6oiQdbjxW/sNRUTH35DHJgi96KPeh8dC7g5WWiSFmpoFAAY8YAMTEIXdUKf3qOgTse49SDmmgZ5IrNrWYDO3YA2dnWjtQwycnA+vU41nUq2pS/jrErWuFxpgua4jyOef0X/5v9HM7xl4DISGDoUMDR0doRM1Z0Zr0+L0XMUaWhysqmNu7XCCD6ULFAzIpjqDNn6FiNN8RYFcimC1tvmCw+VoplZ9OtH/fQS26XNVXB72IBpXvUIho/nujIEWlWAatUYurGr78mCgykW/LaNBQ/aY7BVZZG33X9g7JOnJZm/KxU4HvQEmOuF2TH5gwCiBzxlB461RZdoooyobtKRfTdd5Ru50a+uEAA0Yh+SSaNjZV+mZlEk0c90iS4OoihPeiqnb9y9GiizZutN6xlTg7R1atEK1aIAVn+HUTkEdzpA3xFCjzXxD68TyLdv8dJmZkfJ2iJMdcLolIRtW6eKa6iMU87u0V+A/CrVGLo0H/HYn4bKwggqlo5h+7fN2lorAzZsYPI01OlSXbDbNdSIipqWzzb2IjxMCdMIFq3Tgz6beor1KwsMV/577+LsWqDg4nKl9fpp5wMN5plG0blbdM0qwMDiU6cMG0ojBXEUglaRkRkzSr2kiItLQ1ubm5ITU2Fq6urScv+80+gTx9AJiNss3sDvTM3i3tlffoADRsCDRqIBl979wK//w5cvw4AWGMzHENzVkEuJ+zdK0NQkEnDYmVMWhowdSqweLFIfRVcMvGJ306Mf/AZHG+c13+CszNQt6528fQEKlYEKlQQ/5YrJxpiyeXi32fPxE5SU8Vy9y5w5w5w+zZw65Z4X2dm6u+nXDk88OuO+bYfYvHZ9njyzBYA0LQp8OWXQM+e3N6LWZY580FunKCLyJwvCBEwbpxoXOrspMKxRiPR5NRP+T9BocDV9m+j9fGFSH9ug/BwICzMpCGxMuzYMWD0aODiRfF3lSrA1DGPMNprNxTRx4GTJ4Ho6LyTqbEcHYHGjQFfX5B/G5x0DsIPkQ2wbr0cGRniIU2aAJ9+CgwYANjYmD4ExgrDCVpizP2CZGUBPXqIxqbe3oSTX0bCI/4UcO2aWG7fFl1D+vfH8y6voG13V1y4AHTpAkRE8BcVM63sbGDtWmDGDCA+XqyrWhUYMQJ4+22gbq1MIDYWuHkTuHFDLPfvA48eAY8fi38zMwGVSvwCValE8nV11S7VqwM1a2qXhg0BLy88TJJj40Zg+XLgfK4L97ZtxRX+K6+Ii3LGrIUTtMRY4gV59Aho00Z87wUEiMRrb6/7mMhIcbV95Yq4sjl7lrs7M/PJzARWrQJmzQISErTrAwJE9+pu3YDatY3bBxEQEwP88YdYjh4V6wBRSz5ggLiib9+eq7KZNHCClhhLvSCXLwMvvQQ8eQLUrw/07g28/DJQr56o1lu3TjyuUiVg0yagUyezhcKYRmYmsH078OOPwK5d2gQKAD4+QNeu4sdlnTri7xo19Gt1iES35bt3RYXQ6dOitvzkSSAxUfexrVoBw4aJHwHu7uY/PsYMwQlaYiz1ggDAzp1A//7A8+f622QyYOxYcUXDX1zMGu7cAX7+GfjrL+DECSAnR/8xdnaAiwtgaysStVwuaojU95HzenxgINCvH9C3r6jxZkyqOEFLjCUTNCCuNPbsEVcru3aJEQrbtAGWLBFXF4xJwZMnwKFDwP79ovYnNhaIixNtKvJTsaJo8N20qbiv3KYN0KyZqM5mrCTgBC0xlk7QuRGJKsBKlfgeHJO+nBxRjZ2eLv6fnS3+rVABqFaNEzEr+SyVD2zNVjIzGZkMqFzZ2lEwVjQ2NkCtWtaOgrGSjzsrMMYYYxLECZoxxhiTIE7QjDHGmARxgmaMMcYkiBM0Y4wxJkGcoBljjDEJ4gTNGGOMSRAnaMYYY0yCOEEzxhhjEsQJmjHGGJMgTtCMMcaYBHGCZowxxiRIsgk6KioKvXr1gru7O5ycnNCmTRusW7fOoDJUKhUWLVoEPz8/ODg4oFKlShgwYABiYmLMFDVjjDFmGpJM0JGRkejYsSP+/vtvvPHGGxg7diySkpIwePBgfPHFF0UuZ8yYMQgNDUVOTg5CQ0PRq1cvbNu2Df7+/rh8+bIZj4AxxhgzjuTmg87OzkbDhg2RkJCAY8eOoUWLFgCAJ0+eoF27drh27RouX76MevXqFVjOgQMH0KVLF3Tq1Al79uyBQqEAAOzbtw/du3dHp06dcPDgwSLHZc35oBljjEmHpfKB5K6g9+/fj5s3b2LQoEGa5AwALi4umD59OrKzs7Fq1apCy1m+fDkAYNasWZrkDABdu3ZFcHAwDh06hOvXr5v+ABhjjDETkFyCjoyMBAD06NFDb5t6XVGufCMjI+Hk5IQOHTrobQsODi5yOYwxxpg12Fo7gBepG3DlVYXt7u4ODw+PQht5paen4969e2jSpAlsbGz0tqvLLqgcpVIJpVKp+Ts1NRWAqNpgjDFWdqnzgLnvEEsuQasToZubW57bXV1dkZCQYHQZuR+Xlzlz5mDGjBl662vWrFngvhljjJUNjx49yjfPmILkErRUTJkyBZMmTdL8nZKSAi8vL9y+fdusL0hpk5aWhpo1a+LOnTvcuK6I+JwVD583w/E5K57U1FTUqlULFSpUMOt+JJeg1ckvv6tbdes5Y8vI/bi8KBQKncZlucvmN7LhXF1d+bwZiM9Z8fB5Mxyfs+KRy83bjEtyjcQKuj+cnJyMpKSkQrtYOTk5oVq1aoiLi0NOTo7e9oLuczPGGGNSILkEHRAQAACIiIjQ26Zep35MYeWkp6fjyJEjett2795d5HIYY4wxa5Bcgu7atSt8fHywbt06nD17VrP+yZMnmDlzJmxtbTF8+HDN+qSkJFy9ehVJSUk65YwePRoAMG3aNGRmZmrW79u3D7t370bnzp1Rv379IselUCgQFhaWZ7U3yx+fN8PxOSsePm+G43NWPJY6b5IbSQwQo4AFBwdDoVDgv//9L1xdXbF582bExcVh1qxZmDp1quax4eHhmDFjBsLCwhAeHq5TTkhICFasWIHGjRvjlVdewYMHD7BhwwaUK1cOR48eRePGjS18ZIwxxljRSO4KGgCCgoJw+PBhdOzYERs3bsSSJUtQsWJFrF27Vic5F2bZsmVYsGABZDIZFixYgB07dqBPnz44efIkJ2fGGGOSJskraMYYY6ysk+QVNGOMMVbWcYJmjDHGJKhMJ+ioqCj06tUL7u7ucHJyQps2bbBu3boiPz8yMhKDBg1Co0aNUL58eTg6OqJBgwZ4++23ce3aNTNGbl3GnrcXZWVloXnz5pDJZGjYsKEJI5UOU7zXZDJZvsvx48fNGL31mOq99uTJE4SFhaFJkyZwdHRE+fLl0bJlyzyH8y3pjD1ngYGBBb7XZDIZ1qxZY8YjsA5TvNdSUlLw2Wefwc/PDy4uLvDw8IC/vz8WLVqEjIwMg2OS3EhilhIZGYng4GDY29tj4MCBcHNzw+bNmzF48GDEx8fj008/LbSMvXv34vDhw2jbtq2mrCtXruDnn3/GunXrsHPnTgQFBVngaCzHFOftRTNnzsSNGzfMEK00mPKcBQQEIDAwUG99jRo1TBixNJjqvN2+fRtdunRBbGwsunXrhldeeQVKpRI3btzApk2bEBYWZuYjsRxTnLPhw4fn+R7LysrCnDlzIJfL0bVrVzNEbz2mOG8pKSlo1aoVYmNj0bFjR7zzzjtQKpXYuXMnQkNDsWXLFuzZs8ew0ceoDMrKyqI6deqQQqGgM2fOaNanpaWRr68v2dra0vXr1wst5/nz53mu37t3LwGg1q1bmyxmKTDVecvt9OnTZGtrSwsWLCAA1KBBA1OHbVWmOmcHDhwgABQWFmbGaKXDVOctOzub/P39ycHBgfbv35/nfkoLc3w+c/v9998JAPXp08cU4UqGqc7bl19+SQBo4sSJOuuVSiX5+/sTADp48KBBsZXJBL17924CQCNGjNDbtn79egJAU6ZMMWof7u7uVL58eaPKkBpTnzelUklNmzaljh07kkqlKpUJ2lTnrKwlaFOdN/Vjp0+fbo4wJcXc32s9e/YkALR161ZjwpQcU523d955hwDQnj179LZ9+umnBIB+++03g2Irk1XckZGRAIAePXrobVOvO3jwYLHLP3bsGJKTk9GxY8dilyFFpj5v4eHhiImJwblz5yCTyUwSo9SY+pzFxMRgwYIFePbsGby8vNC9e3d4eHiYJFYpMdV527BhAwDgzTffxJ07d7Bjxw6kpKSgTp06ePnll+Hs7Gy6oK3MnN9rCQkJiIiIQNWqVfHKK68UO0YpMtV58/X1BQDs2rUL3bp106zPysrC3r174eDggHbt2hkUW5lM0AVNluHu7g4PD488J+vIT2RkJCIjI6FUKhETE4M///wTHh4e+N///meymKXAlOctKioK8+bNwxdffGHQkKsljanfa+vWrdNpuOLg4IAZM2Zg8uTJxgcrIaY6b6dOnQIAHD58GBMnToRSqdRsq1SpEjZu3Jjn/daSyNTvtdxWrVoFlUqF4cOHw9a2dKUNU523UaNGYc2aNfjmm29w6tQp+Pv7Q6lUYteuXUhOTsa6devg6elpWHAGXW+XEt27dycAFBMTk+d2Hx8fsre3L3J5YWFhBECz1K1bl06dOmWqcCXDVOctIyODGjduTK1bt6bs7GzNepTCKm5TnbOLFy/SV199RVeuXKH09HS6e/curV27ljw9PQkALV261NShW5WpzptCoSAAZGNjQx9//DHduXOHEhMTacGCBWRvb09ubm70zz//mDp8qzD195qaSqUib2/vAssuyUx53tLT0+mtt97SyQdyuZzee+89SkxMNDi2Mt3NylTCw8NBRHj69ClOnjyJhg0bokOHDkZ1PSrNpk+fjpiYGKxcuRI2NjbWDqdE8PX1xYcffoiGDRvC0dER1atXx+DBg7Fr1y7Y29sjLCwMKpXK2mFKjvqc9O7dG3PnzkWNGjXg4eGB0NBQTJw4Eampqfjxxx+tHKW07d+/H3FxcQgICEDdunWtHY5kJSUloXv37jh+/LjmVsr9+/exdOlSrFq1Cm3btkVycrJBZZbJBO3m5gYASE1NzXN7Wlqa5jGGcHJygr+/P7Zs2YKGDRti9OjRSExMNCpWKTHFeTtz5gy+/fZbTJ06FU2bNjV5jFJjrveaWpMmTdC2bVs8ePCgVHVVM9V5Uz+mb9++etv69OkDQFsNXtKZ6722YsUKAKIKtzQy1XmbNGkSjh49ik2bNqFXr15wc3NDlSpVEBISgnnz5iE2Nhbz5883KLYymaDV9xryuq+QnJyMpKSkPO9HFJWtrS2CgoKQnp5eaj78gGnO2/nz55GTk4Pw8HC9wQ8A4Nq1a5DJZChfvrzJ47cGc7/XAGgaiT179syocqTEVOetQYMGAJDn+0m97vnz58UPVELM8V5LTk7Gli1bUL58efTv398kcUqNqc7bjh07UKFCBfj5+elt69KlCwDg9OnTBsVWJhN0QEAAACAiIkJvm3qd+jHF9c8//wBAqWpQYYrzVr9+fYwcOTLPBRC/ZkeOHImhQ4eaOHrrMPd7LTs7G2fOnIFMJkOtWrWKXY7UmOq8qb8YL1++rLdNva527drFDVNSzPFeW7t2LZRKJQYPHgwHBwfjg5QgU523zMxMpKWlITMzU2+buibV4PmjDb5rXQpkZWWRj48PKRQKio6O1qzP3TH92rVrmvWJiYl05coVvZv8Bw8eJJVKpVf+7t27yc7Ojtzc3Ojp06dmOw5LM9V5yw9KYSMxU52zo0eP6r3XsrKyaMKECQSAevbsadbjsDRTnbfY2FhSKBRUuXJlSkhI0CmnefPmBID27t1r9uOxBHN8Pps1a0YAdAbwKG1Mdd6Cg4MJAE2bNk1nfUZGhmbbwoULDYqtTCZoIqL9+/eTnZ0dOTs7U0hICH3wwQealoqzZs3Seay6lfaLg0S4ublRnTp1aODAgTR58mR69913qXPnzgSA7OzsDO6UXhKY4rzlpzQmaCLTnDMvLy+qXbs2DRo0iCZPnkwhISHUoEEDAkC1atWi+Ph4Cx6RZZjqvaYepa5ixYo0atQoGj9+PNWuXZsA0OjRoy10NJZhys/nqVOnCAC1bNnSApFblynOW3R0NLm4uBAAatOmDU2cOJHGjh1LPj4+BIBatWqV7+iT+SmzCZqI6MSJE9SzZ09yc3MjBwcHat26Na1du1bvcfm9IPPnz6eePXtSjRo1SKFQULly5ahevXo0atQounjxooWOwvKMPW/5Ka0Jmsj4czZ37lwKDAyk6tWrk729PTk6OpKfnx9NnTqVHj9+bKGjsDxTvde2bdtGnTp1ImdnZypXrhy1atWKfvjhBzNHbx2mOmdjx44lALRkyRIzRywNpjhv169fpxEjRlCtWrXIzs6OHBwcqGnTpjRjxgxKT083OCYZEZFhleKMMcYYM7cy2UiMMcYYkzpO0IwxxpgEcYJmjDHGJIgTNGOMMSZBnKAZY4wxCeIEzRhjjEkQJ2jGGGNMgjhBM8YYYxLECZoxxhiTIE7QjDHGmARxgmaMMcYkiBM0Y8UQHx8PmUyG4cOHl/j9W/tYzMVSx6VSqdCsWTP06tXLrPsxxI0bN2Bra4slS5ZYOxRmBE7QzGrUX6A9e/a0digmERkZCZlMhvDwcGuHwizop59+wvnz5yX1utetWxeDBw9GeHg40tLSrB0OKyZO0IwVg6enJ65cuYI5c+ZYOxRmRTk5OZgxYwYCAgLQpk0ba4ejY/LkyUhMTMSCBQusHQorJk7QjBWDnZ0dGjZsiGrVqlk7FGZFf/31F27fvo0hQ4ZYOxQ9TZo0QbNmzbB8+XKoVCprh8OKgRM0KzFWr16Nl156Cc7OznB2dsZLL72E1atX6z0ud1XzmTNnEBwcDBcXF7i5ueG1115DfHx8nuVnZ2djzpw5qFOnDsqVK4e6detizpw5iI2N1buX+eL9zfDwcAQFBQEAZsyYAZlMplnU+/vpp58gk8nw008/FRhzbjk5Ofjyyy9Rt25dnZiK84VbnLIOHTqEPn36wMPDAwqFAvXq1cO0adPw7Nkzg/ZtztfO0OPKzMzEwoULERwcjJo1a0KhUKBy5cp4/fXXER0dbdBxqV/T/v3757l95syZkMlk2L9/v9623377DTKZDIsXL9Y79qNHjyIoKAguLi6oVKkSxo0bh+fPnwMAdu3ahQ4dOsDJyQlVqlTBxx9/jJycnDz3P2DAANy+fRv79u0z6LiYNNhaOwDGimLixImYP38+PD09MXLkSMhkMmzatAnDhw/HuXPn8O233+o959SpU/jqq68QGBiId955B9HR0di6dSsuXLiAixcvoly5cjqPf/vtt7FmzRrUqVMH48ePh1KpxPz583Hs2LFC4wsMDER8fDxWr16NgIAABAYGaraVL1++2Mc9evRorFy5Et7e3hg/fjwyMjLw7bff4ujRo2Yva+nSpRg3bhzc3d3Rp08fVKpUCVFRUZg9ezYOHDiAAwcOwN7evtD9mvu1M/S4Hj9+jAkTJqBTp07o1asX3N3dERsbi23btmHnzp04dOgQ/P39Cz0uIkJkZCQaNmyY72t89uxZAECLFi30tql/DLy47cSJE/jyyy8RHByMd955BwcOHMD333+PtLQ09OvXD8OGDUPfvn3Rtm1b7NixA/PmzYOrqyumTp2qt4927doBAPbv34/u3bsXekxMYogxK4mLiyMAFBwcXODjDh06RACoUaNGlJKSolmfkpJCDRs2JAD0999/a9YfOHCAABAAWr9+vU5ZQ4YMIQD066+/6qzfu3cvAaDWrVvTs2fPNOvv3btHVatWJQA0bNgwvdhzr1PvNywsLM/jWLVqFQGgVatW6W3L67nqdc2aNaOnT59q1ickJJCHh4fe/gtiaFmXLl0iW1tbatGiBT169EinrDlz5hAA+vrrrwvdr7lfu+Kco4yMDEpISNCL9eLFi+Ts7EzdunUr9LiIxDkCQIMHD873Md7e3lS7du08twUHB5NcLtfEnfvYt27dqnlcZmYm+fn5kUwmIw8PDzp58qRmW1paGlWuXJkqVqxIWVlZevtIS0sjANS5c+ciHROTFq7iZpKnrhIODw+Hm5ubZr2bmxvCwsJ0HpNb586d8Z///Edn3dtvvw0AiIqK0lm/du1aAMD06dPh4OCgWV+1alW8//77Rh9Dcfz8888AgM8++wxOTk6a9Z6engbHZGhZy5YtQ3Z2NhYsWIAKFSrobPvoo49QqVIl/Prrr4Xu19yvXXHOkUKhgKenp956X19fBAUF4dChQ8jKyir02BISEgAAVapUyXN7SkoK4uLi0LJlyzy3R0dHo169ejpxA6I2pl+/fpq/7ezs8MYbb4CI0KdPH52rexcXF/Tu3RuPHj3SxJObi4sLypUrl+c2Jn1cxc0kT10VmLvaWE29Tl2VmFteX4w1atQAIL48czt37hwAoH379nrPyWudJahj6tSpk962vNaZsqzjx48DEPc79+7dq7fdzs4OV69eLXS/5n7tinuOzp49i3nz5uHw4cO4f/++XkJOSkoqtAHgo0ePAADu7u757gPI+1ju3r2Lhw8fokuXLnrb8qoOV8fSvHnzfLfdvXsXtWvX1tteoUIFJCUl5RkjkzZO0Ezy0tLSIJfLUalSJb1tVapUgVwuR2pqqt623Fdsara24i3/YqMa9T4qVqyY5z6sITU1FXK5HB4eHnrbDI3J0LIeP34MAJg9e7ZB+3mRuV+74pyjo0ePahJjjx49UK9ePTg7O0Mmk2Hr1q04d+4clEplocemrmlRN956kfrHSV4JOr/7zwDg6uqqt0597AVty++q//nz53B0dMxzG5M2TtBM8lxdXaFSqZCYmIjKlSvrbHv48CFUKlWeX1zF2cejR4/0vuwfPHhgVNlqcrm4o5Sdna23Lb8kpVKpkJSUpJfgDI3J0LLU5zMtLQ0uLi4G7evFcsz52hXnHM2ePRtKpRKHDx9Ghw4ddLYdP35cc1VeGPX+1D9mXlRQAzF1A7a8tpmSSqVCamoqfH19zbofZh58D5pJnvpLLDIyUm/bwYMHAeRd9WeIZs2aAUCeLX+L2mLaxsYGgP7VuZq6KvTu3bt62/Lq3qOO6e+//9bblte6ghhaVtu2bQFoq7qLy9yvXXHO0c2bN1GhQgW95Pzs2TOcOXOmyPv29fWFXC5HTExMntujo6Mhl8v1ruRzcnKwadMmAOZP0DExMVCpVGjatKlZ98PMgxM0k7xhw4YBEP2Lcw9bmJaWhhkzZug8prgGDx4MQPRbzcjI0Ky/f/8+vvvuuyKVoW5MlV+DnJYtW0Imk2H9+vU6+4iJiclzH0OHDgUAfP7550hPT9esv3v3bpFjKm5Z48aNg62tLUJDQ3Hnzh297SkpKUXqM2zu164458jLywvJycm4dOmSZl1OTg4+/PBDJCYmFnnf5cuXh5+fH06dOgUi0tmmVCpx5coVqFQqnDx5UrOeiDBt2jRcv34dVatWzbNq3pROnDgBAAgICDDrfph5cBU3s7oLFy7kO6FBy5Yt8d577yE0NBQLFy5EkyZN0L9/fxARNm/ejDt37uC9995D586djYqhW7duGDx4MH755Rc0bdoU/fr1g1KpxMaNG9G2bVts375dU0Wdn4YNG6J69epYv349HB0dUaNGDchkMowdOxZubm7w9PTEf/7zH6xfvx6tWrVCz5498fDhQ2zZsgU9e/bUXFWpBQYGYsSIEVi1ahWaNm2K1157DUqlEhs2bMBLL72EP//8s8jHZ2hZTZo0wZIlSzB27Fg0aNAAvXr1Qp06dZCWlobY2FgcPHgQw4cPx9KlSwvcb+fOnc362hXnHIWGhiIiIgIdO3bEgAEDUK5cOURGRuLu3bsIDAzM82o/P6+++irCw8MRFRWlM9TnhQsXkJ2djcqVK6NHjx7o378/FAoFjhw5ovkh8fjxY4SEhGDp0qWa2hdT27NnD2xsbNC7d2+zlM/MzKqdvFiZpu5LXNDSr18/zeNXrlxJ/v7+5OjoSI6OjuTv708rV67UK7eg/sh59V9Wy8rKopkzZ5K3tzfZ29uTj48PffHFF3TixAkCQO+//36h5Rw/fpwCAgLIxcVFcwxxcXGa7enp6RQaGkpVqlQhhUJBfn5+9Msvv+Qbc3Z2Ns2ZM4d8fHx0Yrpx44ZB/aCLW9bJkydp4MCBVL16dbKzsyMPDw9q2bIlffLJJ3TlypUi79ucr11xjuv333+nli1bkqOjI3l4eNCAAQPo5s2bNGzYML3XrCAJCQlkY2NDoaGhOut/+OEHAkCrV6+mkJAQcnV1JVdXV3rzzTcpISGB3njjDXJycqLhw4cX6dgL6kMfFhZGAOjAgQM669PT08nZ2ZleffXVIh0Lkx4Z0Qt1M4wxHStWrEBISIjmipKx3AYNGoSIiAjcunVL06d5/PjxWLJkCa5evYoGDRpYJa6VK1di5MiROHjwoNE1TMw6OEEz9q/79++jSpUqkMlkmnV3795Fhw4dkJCQgLi4ONSsWdOKETIpiouLQ6NGjfD555/jo48+AiD6zp87dw5Pnjwp9NaIOWRnZ6Nhw4bw9fXFH3/8YfH9M9Pge9CM/Wvu3LnYsWMHOnXqhMqVK+P27dv4888/8eTJE4SHh3NyZnny9vbG6tWrNYOBqFQqnD9/Hn5+flZJzoBoqPjWW29JcpYtVnR8Bc3Yv3bt2oVvv/0W586dQ3JyMsqVKwc/Pz+MGzcOgwYNsnZ4rIS4evUqGjVqhDFjxuD777+3djisBOMEzRhjjEkQ94NmjDHGJIgTNGOMMSZBnKAZY4wxCeIEzRhjjEkQJ2jGGGNMgjhBM8YYYxLECZoxxhiTIE7QjDHGmARxgmaMMcYkiBM0Y4wxJkH/B0oe1YksBVBKAAAAAElFTkSuQmCC",
          "text/plain": "<Figure size 500x300 with 1 Axes>"
         },
         "metadata": {},
         "output_type": "display_data"
        }
       ]
      }
     },
     "7fe8f1bd608a4f7fbdf097b49ba4c4b0": {
      "model_module": "@jupyter-widgets/output",
      "model_module_version": "1.0.0",
      "model_name": "OutputModel",
      "state": {
       "_dom_classes": [],
       "_model_module": "@jupyter-widgets/output",
       "_model_module_version": "1.0.0",
       "_model_name": "OutputModel",
       "_view_count": null,
       "_view_module": "@jupyter-widgets/output",
       "_view_module_version": "1.0.0",
       "_view_name": "OutputView",
       "layout": "IPY_MODEL_a4fc845d2c764748a60dd6068bca08d9",
       "msg_id": "",
       "outputs": [
        {
         "data": {
          "image/png": "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",
          "text/plain": "<Figure size 500x300 with 1 Axes>"
         },
         "metadata": {},
         "output_type": "display_data"
        }
       ]
      }
     },
     "8648ca1134844c15ac40b1b94f65d263": {
      "model_module": "@jupyter-widgets/controls",
      "model_module_version": "1.5.0",
      "model_name": "SliderStyleModel",
      "state": {
       "_model_module": "@jupyter-widgets/controls",
       "_model_module_version": "1.5.0",
       "_model_name": "SliderStyleModel",
       "_view_count": null,
       "_view_module": "@jupyter-widgets/base",
       "_view_module_version": "1.2.0",
       "_view_name": "StyleView",
       "description_width": "",
       "handle_color": null
      }
     },
     "8e9c85c14b1142cd914dda77f7660d09": {
      "model_module": "@jupyter-widgets/base",
      "model_module_version": "1.2.0",
      "model_name": "LayoutModel",
      "state": {
       "_model_module": "@jupyter-widgets/base",
       "_model_module_version": "1.2.0",
       "_model_name": "LayoutModel",
       "_view_count": null,
       "_view_module": "@jupyter-widgets/base",
       "_view_module_version": "1.2.0",
       "_view_name": "LayoutView",
       "align_content": null,
       "align_items": null,
       "align_self": null,
       "border": null,
       "bottom": null,
       "display": null,
       "flex": null,
       "flex_flow": null,
       "grid_area": null,
       "grid_auto_columns": null,
       "grid_auto_flow": null,
       "grid_auto_rows": null,
       "grid_column": null,
       "grid_gap": null,
       "grid_row": null,
       "grid_template_areas": null,
       "grid_template_columns": null,
       "grid_template_rows": null,
       "height": null,
       "justify_content": null,
       "justify_items": null,
       "left": null,
       "margin": null,
       "max_height": null,
       "max_width": null,
       "min_height": null,
       "min_width": null,
       "object_fit": null,
       "object_position": null,
       "order": null,
       "overflow": null,
       "overflow_x": null,
       "overflow_y": null,
       "padding": null,
       "right": null,
       "top": null,
       "visibility": null,
       "width": null
      }
     },
     "904db5dd5a6748339adbdfe5b324efca": {
      "model_module": "@jupyter-widgets/base",
      "model_module_version": "1.2.0",
      "model_name": "LayoutModel",
      "state": {
       "_model_module": "@jupyter-widgets/base",
       "_model_module_version": "1.2.0",
       "_model_name": "LayoutModel",
       "_view_count": null,
       "_view_module": "@jupyter-widgets/base",
       "_view_module_version": "1.2.0",
       "_view_name": "LayoutView",
       "align_content": null,
       "align_items": null,
       "align_self": null,
       "border": null,
       "bottom": null,
       "display": null,
       "flex": null,
       "flex_flow": null,
       "grid_area": null,
       "grid_auto_columns": null,
       "grid_auto_flow": null,
       "grid_auto_rows": null,
       "grid_column": null,
       "grid_gap": null,
       "grid_row": null,
       "grid_template_areas": null,
       "grid_template_columns": null,
       "grid_template_rows": null,
       "height": null,
       "justify_content": null,
       "justify_items": null,
       "left": null,
       "margin": null,
       "max_height": null,
       "max_width": null,
       "min_height": null,
       "min_width": null,
       "object_fit": null,
       "object_position": null,
       "order": null,
       "overflow": null,
       "overflow_x": null,
       "overflow_y": null,
       "padding": null,
       "right": null,
       "top": null,
       "visibility": null,
       "width": null
      }
     },
     "966d46761d7f48c9987a4fcaf7adabcd": {
      "model_module": "@jupyter-widgets/base",
      "model_module_version": "1.2.0",
      "model_name": "LayoutModel",
      "state": {
       "_model_module": "@jupyter-widgets/base",
       "_model_module_version": "1.2.0",
       "_model_name": "LayoutModel",
       "_view_count": null,
       "_view_module": "@jupyter-widgets/base",
       "_view_module_version": "1.2.0",
       "_view_name": "LayoutView",
       "align_content": null,
       "align_items": null,
       "align_self": null,
       "border": null,
       "bottom": null,
       "display": null,
       "flex": null,
       "flex_flow": null,
       "grid_area": null,
       "grid_auto_columns": null,
       "grid_auto_flow": null,
       "grid_auto_rows": null,
       "grid_column": null,
       "grid_gap": null,
       "grid_row": null,
       "grid_template_areas": null,
       "grid_template_columns": null,
       "grid_template_rows": null,
       "height": null,
       "justify_content": null,
       "justify_items": null,
       "left": null,
       "margin": null,
       "max_height": null,
       "max_width": null,
       "min_height": null,
       "min_width": null,
       "object_fit": null,
       "object_position": null,
       "order": null,
       "overflow": null,
       "overflow_x": null,
       "overflow_y": null,
       "padding": null,
       "right": null,
       "top": null,
       "visibility": null,
       "width": null
      }
     },
     "982a823f9a64406c8a015b57054f759d": {
      "model_module": "@jupyter-widgets/controls",
      "model_module_version": "1.5.0",
      "model_name": "FloatSliderModel",
      "state": {
       "_dom_classes": [],
       "_model_module": "@jupyter-widgets/controls",
       "_model_module_version": "1.5.0",
       "_model_name": "FloatSliderModel",
       "_view_count": null,
       "_view_module": "@jupyter-widgets/controls",
       "_view_module_version": "1.5.0",
       "_view_name": "FloatSliderView",
       "continuous_update": true,
       "description": "d",
       "description_tooltip": null,
       "disabled": false,
       "layout": "IPY_MODEL_8e9c85c14b1142cd914dda77f7660d09",
       "max": 1.0,
       "min": 0.0,
       "orientation": "horizontal",
       "readout": true,
       "readout_format": ".2f",
       "step": 0.01,
       "style": "IPY_MODEL_64ad3529efe744e898ab78b67e5fbbf5",
       "value": 0.3
      }
     },
     "a4fc845d2c764748a60dd6068bca08d9": {
      "model_module": "@jupyter-widgets/base",
      "model_module_version": "1.2.0",
      "model_name": "LayoutModel",
      "state": {
       "_model_module": "@jupyter-widgets/base",
       "_model_module_version": "1.2.0",
       "_model_name": "LayoutModel",
       "_view_count": null,
       "_view_module": "@jupyter-widgets/base",
       "_view_module_version": "1.2.0",
       "_view_name": "LayoutView",
       "align_content": null,
       "align_items": null,
       "align_self": null,
       "border": null,
       "bottom": null,
       "display": null,
       "flex": null,
       "flex_flow": null,
       "grid_area": null,
       "grid_auto_columns": null,
       "grid_auto_flow": null,
       "grid_auto_rows": null,
       "grid_column": null,
       "grid_gap": null,
       "grid_row": null,
       "grid_template_areas": null,
       "grid_template_columns": null,
       "grid_template_rows": null,
       "height": null,
       "justify_content": null,
       "justify_items": null,
       "left": null,
       "margin": null,
       "max_height": null,
       "max_width": null,
       "min_height": null,
       "min_width": null,
       "object_fit": null,
       "object_position": null,
       "order": null,
       "overflow": null,
       "overflow_x": null,
       "overflow_y": null,
       "padding": null,
       "right": null,
       "top": null,
       "visibility": null,
       "width": null
      }
     },
     "af8bd7f1fa6c408e8dc27d35593e2831": {
      "model_module": "@jupyter-widgets/controls",
      "model_module_version": "1.5.0",
      "model_name": "VBoxModel",
      "state": {
       "_dom_classes": [
        "widget-interact"
       ],
       "_model_module": "@jupyter-widgets/controls",
       "_model_module_version": "1.5.0",
       "_model_name": "VBoxModel",
       "_view_count": null,
       "_view_module": "@jupyter-widgets/controls",
       "_view_module_version": "1.5.0",
       "_view_name": "VBoxView",
       "box_style": "",
       "children": [
        "IPY_MODEL_da1c3f5819b642bfa17f75c63a02d911",
        "IPY_MODEL_2a49da58994d453a95c0c35a0f494d78"
       ],
       "layout": "IPY_MODEL_966d46761d7f48c9987a4fcaf7adabcd"
      }
     },
     "cc09516a6f854dd29a89d8cbee7249c9": {
      "model_module": "@jupyter-widgets/controls",
      "model_module_version": "1.5.0",
      "model_name": "SliderStyleModel",
      "state": {
       "_model_module": "@jupyter-widgets/controls",
       "_model_module_version": "1.5.0",
       "_model_name": "SliderStyleModel",
       "_view_count": null,
       "_view_module": "@jupyter-widgets/base",
       "_view_module_version": "1.2.0",
       "_view_name": "StyleView",
       "description_width": "",
       "handle_color": null
      }
     },
     "d16572888e7e49e0a1e9143078dea37a": {
      "model_module": "@jupyter-widgets/base",
      "model_module_version": "1.2.0",
      "model_name": "LayoutModel",
      "state": {
       "_model_module": "@jupyter-widgets/base",
       "_model_module_version": "1.2.0",
       "_model_name": "LayoutModel",
       "_view_count": null,
       "_view_module": "@jupyter-widgets/base",
       "_view_module_version": "1.2.0",
       "_view_name": "LayoutView",
       "align_content": null,
       "align_items": null,
       "align_self": null,
       "border": null,
       "bottom": null,
       "display": null,
       "flex": null,
       "flex_flow": null,
       "grid_area": null,
       "grid_auto_columns": null,
       "grid_auto_flow": null,
       "grid_auto_rows": null,
       "grid_column": null,
       "grid_gap": null,
       "grid_row": null,
       "grid_template_areas": null,
       "grid_template_columns": null,
       "grid_template_rows": null,
       "height": null,
       "justify_content": null,
       "justify_items": null,
       "left": null,
       "margin": null,
       "max_height": null,
       "max_width": null,
       "min_height": null,
       "min_width": null,
       "object_fit": null,
       "object_position": null,
       "order": null,
       "overflow": null,
       "overflow_x": null,
       "overflow_y": null,
       "padding": null,
       "right": null,
       "top": null,
       "visibility": null,
       "width": null
      }
     },
     "da1c3f5819b642bfa17f75c63a02d911": {
      "model_module": "@jupyter-widgets/controls",
      "model_module_version": "1.5.0",
      "model_name": "FloatSliderModel",
      "state": {
       "_dom_classes": [],
       "_model_module": "@jupyter-widgets/controls",
       "_model_module_version": "1.5.0",
       "_model_name": "FloatSliderModel",
       "_view_count": null,
       "_view_module": "@jupyter-widgets/controls",
       "_view_module_version": "1.5.0",
       "_view_name": "FloatSliderView",
       "continuous_update": true,
       "description": "d",
       "description_tooltip": null,
       "disabled": false,
       "layout": "IPY_MODEL_d16572888e7e49e0a1e9143078dea37a",
       "max": 1.0,
       "min": 0.0,
       "orientation": "horizontal",
       "readout": true,
       "readout_format": ".2f",
       "step": 0.001,
       "style": "IPY_MODEL_1dfe090a976b47dd91dda31dc9be11b3",
       "value": 0.28
      }
     },
     "e3e9ec15638543128a8e7a579f798dae": {
      "model_module": "@jupyter-widgets/controls",
      "model_module_version": "1.5.0",
      "model_name": "IntSliderModel",
      "state": {
       "_dom_classes": [],
       "_model_module": "@jupyter-widgets/controls",
       "_model_module_version": "1.5.0",
       "_model_name": "IntSliderModel",
       "_view_count": null,
       "_view_module": "@jupyter-widgets/controls",
       "_view_module_version": "1.5.0",
       "_view_name": "IntSliderView",
       "continuous_update": true,
       "description": "theta",
       "description_tooltip": null,
       "disabled": false,
       "layout": "IPY_MODEL_14c0f116c85846cf8df5144245bc1c54",
       "max": 89,
       "min": 0,
       "orientation": "horizontal",
       "readout": true,
       "readout_format": "d",
       "step": 10,
       "style": "IPY_MODEL_cc09516a6f854dd29a89d8cbee7249c9",
       "value": 30
      }
     },
     "eed40948ff934bc2bd9373ee8ea46f03": {
      "model_module": "@jupyter-widgets/base",
      "model_module_version": "1.2.0",
      "model_name": "LayoutModel",
      "state": {
       "_model_module": "@jupyter-widgets/base",
       "_model_module_version": "1.2.0",
       "_model_name": "LayoutModel",
       "_view_count": null,
       "_view_module": "@jupyter-widgets/base",
       "_view_module_version": "1.2.0",
       "_view_name": "LayoutView",
       "align_content": null,
       "align_items": null,
       "align_self": null,
       "border": null,
       "bottom": null,
       "display": null,
       "flex": null,
       "flex_flow": null,
       "grid_area": null,
       "grid_auto_columns": null,
       "grid_auto_flow": null,
       "grid_auto_rows": null,
       "grid_column": null,
       "grid_gap": null,
       "grid_row": null,
       "grid_template_areas": null,
       "grid_template_columns": null,
       "grid_template_rows": null,
       "height": null,
       "justify_content": null,
       "justify_items": null,
       "left": null,
       "margin": null,
       "max_height": null,
       "max_width": null,
       "min_height": null,
       "min_width": null,
       "object_fit": null,
       "object_position": null,
       "order": null,
       "overflow": null,
       "overflow_x": null,
       "overflow_y": null,
       "padding": null,
       "right": null,
       "top": null,
       "visibility": null,
       "width": null
      }
     },
     "ff9eb88769174f31a9882ac2ef1f944d": {
      "model_module": "@jupyter-widgets/controls",
      "model_module_version": "1.5.0",
      "model_name": "FloatSliderModel",
      "state": {
       "_dom_classes": [],
       "_model_module": "@jupyter-widgets/controls",
       "_model_module_version": "1.5.0",
       "_model_name": "FloatSliderModel",
       "_view_count": null,
       "_view_module": "@jupyter-widgets/controls",
       "_view_module_version": "1.5.0",
       "_view_name": "FloatSliderView",
       "continuous_update": true,
       "description": "n2",
       "description_tooltip": null,
       "disabled": false,
       "layout": "IPY_MODEL_501357c3b70340dd9a477ebe83e9da1e",
       "max": 5.0,
       "min": 1.0,
       "orientation": "horizontal",
       "readout": true,
       "readout_format": ".2f",
       "step": 0.1,
       "style": "IPY_MODEL_3b750b3f176e43edbd825ff1ca5628fc",
       "value": 1.5
      }
     }
    },
    "version_major": 2,
    "version_minor": 0
   }
  }
 },
 "nbformat": 4,
 "nbformat_minor": 5
}