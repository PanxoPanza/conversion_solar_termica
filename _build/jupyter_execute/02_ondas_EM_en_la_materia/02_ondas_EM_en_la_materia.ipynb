{
 "cells": [
  {
   "cell_type": "code",
   "execution_count": 1,
   "id": "3c597da7",
   "metadata": {
    "slideshow": {
     "slide_type": "skip"
    },
    "tags": [
     "remove-cell"
    ]
   },
   "outputs": [],
   "source": [
    "import importlib.util\n",
    "if importlib.util.find_spec('empylib') is None:\n",
    "    !pip install git+https://github.com/PanxoPanza/empylib.git"
   ]
  },
  {
   "cell_type": "markdown",
   "id": "6fb7c940",
   "metadata": {
    "slideshow": {
     "slide_type": "slide"
    }
   },
   "source": [
    "# Ondas electromagnéticas en la materia"
   ]
  },
  {
   "cell_type": "markdown",
   "id": "61b0f1b1",
   "metadata": {
    "slideshow": {
     "slide_type": "slide"
    }
   },
   "source": [
    "## Características principales de una onda en un medio"
   ]
  },
  {
   "cell_type": "markdown",
   "id": "9c9eae7b",
   "metadata": {
    "cell_style": "center",
    "slideshow": {
     "slide_type": "slide"
    }
   },
   "source": [
    "### Ecuaciones de Maxwell\n",
    "La materia esta compuesta por cargas (electrones, átomos, moléculas). Por lo tanto, a diferencia del vacío, la densidad de carga ($\\rho$) y de corriente ($\\vec{J}$) eléctricas están presentes en las ecuaciones de Maxwell:\n",
    "\n",
    "\\begin{align*}\n",
    "\\nabla\\cdot\\vec{E} &= \\frac{\\rho}{\\varepsilon_0} \\\\\n",
    "\\nabla\\cdot\\vec{B} &= 0 \\\\\n",
    "\\nabla\\times\\vec{E} &= -\\mu_0\\frac{\\partial \\vec{H}}{\\partial t} \\\\\n",
    "\\nabla\\times\\vec{H} &= \\vec{J} + \\varepsilon_0\\frac{\\partial \\vec{E}}{\\partial t}\n",
    "\\end{align*}"
   ]
  },
  {
   "cell_type": "markdown",
   "id": "9d58d7cd",
   "metadata": {
    "cell_style": "center",
    "slideshow": {
     "slide_type": "slide"
    }
   },
   "source": [
    "Asumiendo un medio homogéneo, podemos demostrar que las ecuaciones de Maxwell se pueden reescribir en la forma:\n",
    "\n",
    "\\begin{align*}\n",
    "\\nabla\\cdot\\vec{E} &= 0 \\\\\n",
    "\\nabla\\cdot\\vec{H} &= 0 \\\\\n",
    "\\nabla\\times\\vec{E} &= -\\mu_0\\frac{\\partial \\vec{H}}{\\partial t} \\\\\n",
    "\\nabla\\times\\vec{H} &= \\varepsilon_0 \\varepsilon\\frac{\\partial\\vec{E}}{\\partial t}\n",
    "\\end{align*}\n",
    "\n",
    "donde $\\varepsilon = \\varepsilon' + i\\varepsilon''$, es la **constante dieléctrica compleja**."
   ]
  },
  {
   "cell_type": "markdown",
   "id": "104dc93c",
   "metadata": {
    "cell_style": "center",
    "slideshow": {
     "slide_type": "fragment"
    }
   },
   "source": [
    "Estas ecuaciones tiene la misma forma que las ecuaciones de Maxwell en el vacío. Así las ondas EM en un medio también se comportan como onda transversales, con la condición $\\hat{k}\\perp \\hat{e} \\perp \\hat{h}$."
   ]
  },
  {
   "cell_type": "markdown",
   "id": "5fb00820",
   "metadata": {
    "slideshow": {
     "slide_type": "fragment"
    }
   },
   "source": [
    "**¿Qué representa la constante dielectrica compleja?**"
   ]
  },
  {
   "cell_type": "markdown",
   "id": "200b930b",
   "metadata": {
    "cell_style": "center",
    "slideshow": {
     "slide_type": "slide"
    }
   },
   "source": [
    "Los materiales están compuestos de átomos, con un núcleo positivo y electrones negativos. La interacción de la luz con las cargas eléctricas en la materia induce oscilaciones que generan dos efectos:\n",
    "\n",
    "- **Polarización**. Formación de *dipolos eléctricos (polo eléctrico positivo y otro negativo separados por una distancia $d$)* **La parte real de la constante dieléctrica ($\\varepsilon'$) representa la intesidad de la polarización** *y esta directamente relacionada con la capacitancia.*\n",
    "\n",
    "- **Disipación de energía.** Producto de las coliciones entre núcleos, electrones, o entre núcleos y electrones. **La parte imaginaria de la constante dieléctrica ($\\varepsilon''$) representa la magnitud de la disipación de energía.** *Esta directamente relacionada con la resistividad eléctrica.*\n",
    "\n",
    "<img src=\"./images/constante_dielectrica.png\" width=\"800px\" align= center>"
   ]
  },
  {
   "cell_type": "markdown",
   "id": "e214507b",
   "metadata": {
    "slideshow": {
     "slide_type": "slide"
    }
   },
   "source": [
    "### Relación de dispersión e íncide de refracción"
   ]
  },
  {
   "cell_type": "markdown",
   "id": "509cb58c",
   "metadata": {
    "slideshow": {
     "slide_type": "fragment"
    }
   },
   "source": [
    "El principal cambio en la propagación de ondas en la materia está en la **relación de dispersión** ($\\omega$ vs $k$). En este caso:\n",
    "\n",
    "\\begin{equation}\n",
    "k = N \\frac{\\omega}{c_0} = Nk_0\n",
    "\\end{equation}\n",
    "\n",
    "donde $N = \\sqrt{\\varepsilon} = n +i\\kappa$, es el **índice de refracción complejo**. Aquí, $n$ se conoce como el **índice de refracción**, y $\\kappa$ como **extinción**."
   ]
  },
  {
   "cell_type": "markdown",
   "id": "d8b62f08",
   "metadata": {
    "slideshow": {
     "slide_type": "slide"
    }
   },
   "source": [
    "El **índice de refracción complejo es una propiedad del material**. En general, este valor varía con la longitud de onda (o frecuencia). "
   ]
  },
  {
   "cell_type": "code",
   "execution_count": 2,
   "id": "b0232189",
   "metadata": {
    "cell_style": "split",
    "slideshow": {
     "slide_type": "fragment"
    },
    "tags": [
     "hide-input"
    ]
   },
   "outputs": [],
   "source": [
    "%%capture show1\n",
    "import empylib.nklib as nk\n",
    "import numpy as np\n",
    "import matplotlib.pyplot as plt\n",
    "\n",
    "lam = np.linspace(0.3,1.0,100) # espectro de longitudes de onda (en micrones)\n",
    "N   = nk.gold(lam)             # índice de refracción complejo del oro\n",
    "\n",
    "plt.plot(lam,N.real,'-k' ,label='$n$')\n",
    "plt.plot(lam,N.imag,'--k',label='$\\kappa$')\n",
    "plt.xlabel('longitud de onda ($\\mu$m)')\n",
    "plt.ylabel('índice de refracción')\n",
    "plt.title('Índice de refracción del oro')\n",
    "plt.ylim(0)\n",
    "plt.legend()\n",
    "plt.show()"
   ]
  },
  {
   "cell_type": "code",
   "execution_count": 3,
   "id": "7fb87e64",
   "metadata": {
    "cell_style": "split",
    "tags": [
     "hide-input"
    ]
   },
   "outputs": [
    {
     "name": "stderr",
     "output_type": "stream",
     "text": [
      "<>:9: SyntaxWarning: invalid escape sequence '\\k'\n",
      "<>:10: SyntaxWarning: invalid escape sequence '\\m'\n",
      "/tmp/ipykernel_1029/187430635.py:9: SyntaxWarning: invalid escape sequence '\\k'\n",
      "  plt.plot(lam,N.imag,'--k',label='$\\kappa$')\n",
      "/tmp/ipykernel_1029/187430635.py:10: SyntaxWarning: invalid escape sequence '\\m'\n",
      "  plt.xlabel('longitud de onda ($\\mu$m)')\n"
     ]
    },
    {
     "data": {
      "image/png": "[encoded data removed]",
      "text/plain": [
       "<Figure size 640x480 with 1 Axes>"
      ]
     },
     "metadata": {},
     "output_type": "display_data"
    }
   ],
   "source": [
    "show1()"
   ]
  },
  {
   "cell_type": "markdown",
   "id": "eba1c88d",
   "metadata": {
    "cell_style": "center",
    "slideshow": {
     "slide_type": "slide"
    }
   },
   "source": [
    "**Los materiales no metálicos, comúnmente, toman valores reales constantes en el espectro visible**:\n",
    "\n",
    "<img src=\"./images/refractive_index_table.png\" width=\"700px\" align= center>"
   ]
  },
  {
   "cell_type": "markdown",
   "id": "e9169102",
   "metadata": {
    "cell_style": "center",
    "slideshow": {
     "slide_type": "fragment"
    }
   },
   "source": [
    "\n",
    "**¿Que significa que el vector de onda sea complejo?**"
   ]
  },
  {
   "cell_type": "markdown",
   "id": "6f5a7f4c",
   "metadata": {
    "cell_style": "split",
    "slideshow": {
     "slide_type": "slide"
    }
   },
   "source": [
    "Analicemos la solución general de la ecuación de onda:\n",
    "\n",
    "\\begin{align*}\n",
    "\\vec{E} &= E_0 e^{i\\left(\\vec{k}\\cdot\\vec{r} - \\omega t\\right)} \\hat{e} \\\\\n",
    "&= E_0 e^{i\\left(Nk_0\\hat{k}\\cdot\\vec{r} - \\omega t\\right)} \\hat{e} \\\\\n",
    "&= E_0 e^{i\\left(nk_0\\hat{k}\\cdot\\vec{r} - \\omega t\\right)}e^{-\\left(\\kappa k_0\\hat{k}\\cdot\\vec{r}\\right)} \\hat{e}\n",
    "\\end{align*}\n",
    "\n",
    "- **$e^{i\\left(nk_0\\hat{k}\\cdot\\vec{r} - \\omega t\\right)}$, expresa la parte oscilatoria de la onda**. La longitud de onda en el medio, entonces, tiene la forma:\n",
    "\n",
    "\\begin{equation}\n",
    "\\lambda_n = \\lambda/n\n",
    "\\end{equation}\n",
    "\n",
    "- **$e^{-\\left(\\kappa k_0\\hat{k}\\cdot\\vec{r}\\right)}$, indica el decaimiento de la onda,** proporcional a la extinción $\\kappa$."
   ]
  },
  {
   "cell_type": "markdown",
   "id": "d057a134",
   "metadata": {
    "cell_style": "split",
    "slideshow": {
     "slide_type": "fragment"
    }
   },
   "source": [
    "Gráficamente, asumiendo $\\hat{k} = \\hat{z}$:\n",
    "\n",
    "<img src=\"./images/decaying_wave.png\" width=\"350px\" align= center>"
   ]
  },
  {
   "cell_type": "markdown",
   "id": "283414ae",
   "metadata": {
    "slideshow": {
     "slide_type": "slide"
    }
   },
   "source": [
    "El cambio en la longitud de onda en un material también implica un cambio en la **velocidad de propagación de la onda:**\n",
    "\n",
    "\\begin{equation}\n",
    "v_\\mathrm{p} = \\mathrm{Re}\\left(\\frac{\\omega}{k}\\right) = \\frac{c_0}{n}\\quad\\quad\\mathrm{Velocidad~en~un~medio~con~índice~de~refracción}~N\n",
    "\\end{equation}"
   ]
  },
  {
   "cell_type": "markdown",
   "id": "7e58bb79",
   "metadata": {
    "slideshow": {
     "slide_type": "fragment"
    }
   },
   "source": [
    "> Notar que para $n > 1$ la onda se mueve a una velocidad más lenta que en el vacío"
   ]
  },
  {
   "cell_type": "markdown",
   "id": "0baf3330",
   "metadata": {
    "cell_style": "center",
    "slideshow": {
     "slide_type": "slide"
    }
   },
   "source": [
    "### Amplitud del campo magnético\n",
    "\n",
    "Igualmente, la relación entre $H_0$ y $E_0$ también cambia a la forma \n",
    "\n",
    "$$H_0 = \\frac{E_0}{Z_0Z_r},$$\n",
    "\n",
    "donde $Z_r = \\sqrt{\\frac{1}{\\varepsilon}}$ es la **impedancia relativa**."
   ]
  },
  {
   "cell_type": "markdown",
   "id": "99583534",
   "metadata": {
    "slideshow": {
     "slide_type": "fragment"
    }
   },
   "source": [
    "> Notar que $H_0$ es un número complejo, aún cuando $E_0$ es real."
   ]
  },
  {
   "cell_type": "markdown",
   "id": "ee96f906",
   "metadata": {
    "slideshow": {
     "slide_type": "slide"
    }
   },
   "source": [
    "### Flujo de energía (Vector de Poynting)"
   ]
  },
  {
   "cell_type": "markdown",
   "id": "67a02823",
   "metadata": {
    "slideshow": {
     "slide_type": "fragment"
    }
   },
   "source": [
    "El decaimiento de la amplitud de $E_0$ debido a $\\kappa$ ocurre debido a la absorción de energía electromagnética en el material. Para cuantificar está pérdida de energía debemos analizar el **vector de Poynting**, $\\langle\\vec{S}\\rangle = \\frac{1}{2}\\mathrm{Re}\\left(\\vec{E}\\times\\vec{H}^*\\right)$."
   ]
  },
  {
   "cell_type": "markdown",
   "id": "697376f8",
   "metadata": {
    "slideshow": {
     "slide_type": "fragment"
    }
   },
   "source": [
    "En este caso:\n",
    "\\begin{equation}\n",
    "\\langle\\vec{S}\\rangle =\\frac{nE_0^2}{2Z_0}e^{-\\alpha\\left(\\hat{k}\\cdot\\vec{r}\\right)}\n",
    "\\end{equation}\n",
    "\n",
    "donde $\\alpha = \\frac{4\\pi\\kappa}{\\lambda}$ es el **coeficiente de absorpción**."
   ]
  },
  {
   "cell_type": "markdown",
   "id": "fa4db6ca",
   "metadata": {
    "slideshow": {
     "slide_type": "fragment"
    }
   },
   "source": [
    "Este parámetro representa la pérdida de energía en la longitud."
   ]
  },
  {
   "cell_type": "markdown",
   "id": "186e9f7e",
   "metadata": {
    "cell_style": "center",
    "slideshow": {
     "slide_type": "slide"
    }
   },
   "source": [
    "En resumen, en un medio con cargas eléctricas:\n",
    "1. $\\vec{E}$ y $\\vec{H}$ se comportan como ondas trasversales de la forma $\\propto e^{ i\\left(\\vec{k}\\cdot\\vec{r} - \\omega t\\right)}$.\n",
    "\n",
    "2. $\\vec{E}$, $\\vec{H}$ y $\\vec{k}$ son mutuamente perpendiculares. \n",
    "\n",
    "3. La relación de dispersión es $k = N\\frac{\\omega}{c_0},$ donde $N = n + i\\kappa$ es el índice de refracción complejo.\n",
    "\n",
    "4. $N =\\sqrt{\\varepsilon} =\\sqrt{\\varepsilon'+i\\varepsilon''}$, donde $\\varepsilon$ es la constante dieléctrica\n",
    "\n",
    "5. $\\vec{E}$ y $\\vec{H}$ se propagan a una velocidad constante $c = c_0/n$\n",
    "\n",
    "6. La longitud de onda en un medio cambia a $\\lambda_n = \\lambda/n$\n",
    "\n",
    "7. $\\kappa$ representa el decaimiento de la onda en el espacio.\n",
    "\n",
    "8. Las amplitudes de $\\vec{E}$ y $\\vec{H}$ están asociadas por la relación ${H}_0 = \\frac{E_0}{Z_0Z_r}$, donde $Z_r = \\frac{1}{\\sqrt{\\varepsilon}}$."
   ]
  },
  {
   "cell_type": "markdown",
   "id": "2767246e",
   "metadata": {
    "cell_style": "center",
    "slideshow": {
     "slide_type": "slide"
    }
   },
   "source": [
    "<img src=\"./images/em_wave_decaying.jpg\" width=\"400px\" align= center>\n",
    "\n",
    "<center> Esquema de una onda electromagnética en un material</center>"
   ]
  },
  {
   "cell_type": "markdown",
   "id": "c7339c10",
   "metadata": {
    "slideshow": {
     "slide_type": "slide"
    }
   },
   "source": [
    "## Reflexión y transmisión en una interfaz"
   ]
  },
  {
   "cell_type": "markdown",
   "id": "de2f10ea",
   "metadata": {
    "slideshow": {
     "slide_type": "slide"
    }
   },
   "source": [
    "### Maxwell en la interfaz entre dos medios"
   ]
  },
  {
   "cell_type": "markdown",
   "id": "f7b45112",
   "metadata": {
    "slideshow": {
     "slide_type": "fragment"
    }
   },
   "source": [
    "Hasta ahora hemos revisado las ecuaciones de Maxwell en un medio homogeneo, y como estas dan lugar a la solución en forma de ondas electromagnéticas.\n",
    "\n",
    "> Recordemos que para un medio con índice de refracción $N$, la solución general es:\n",
    ">\n",
    ">\\begin{align*}\n",
    "\\vec{E} &= E_0 e^{i\\left(Nk_0\\hat{k}\\cdot\\vec{r} - \\omega t\\right)} \\hat{e} \\\\\n",
    "\\vec{H} &= \\frac{NE_0}{Z_0} e^{i\\left(Nk_0\\hat{k}\\cdot\\vec{r} - \\omega t\\right)} \\hat{k}\\times\\hat{e}\n",
    "\\end{align*}"
   ]
  },
  {
   "cell_type": "markdown",
   "id": "22a61931",
   "metadata": {
    "slideshow": {
     "slide_type": "slide"
    }
   },
   "source": [
    "**¿Que sucede cuando una onda electromagnética encuentra la frontera entre dos medios distintos?**"
   ]
  },
  {
   "cell_type": "markdown",
   "id": "d557ddef",
   "metadata": {
    "slideshow": {
     "slide_type": "fragment"
    }
   },
   "source": [
    "Como toda ecuación diferencial, la solución particular de las ecuaciones de Maxwell está definida por las **condiciones de borde**. La derivación, que no revisaremos aquí, da lugar a 4 condiciones de borde. Sin embargo, para los problemas que veremos en este curso solo se necesitan dos:\n",
    "\n",
    "\\begin{align*}\n",
    "E^{\\parallel}_1 - E^{\\parallel}_2 &= 0 \\\\\n",
    "H^{\\parallel}_1 - H^{\\parallel}_2 &= 0\n",
    "\\end{align*}\n",
    "\n",
    "donde $1$ y $2$ son dos medios distintos, y el símbolo $\\parallel$ representa la componente paralela a la interfaz entre los medios $1$ y $2$"
   ]
  },
  {
   "cell_type": "markdown",
   "id": "ed38561f",
   "metadata": {
    "slideshow": {
     "slide_type": "fragment"
    }
   },
   "source": [
    ">**Las componentes de $\\vec{E}$ y $\\vec{H}$ paralelas a la interfaz entre dos medios $1$ y $2$, se conservan.**"
   ]
  },
  {
   "cell_type": "markdown",
   "id": "231fa2b7",
   "metadata": {
    "slideshow": {
     "slide_type": "fragment"
    }
   },
   "source": [
    "Estas condiciones de borde nos darán la base para entender los fenómenos de refracción y reflexión."
   ]
  },
  {
   "cell_type": "markdown",
   "id": "29746567",
   "metadata": {
    "slideshow": {
     "slide_type": "slide"
    }
   },
   "source": [
    "### Coeficientes de Fresnel"
   ]
  },
  {
   "cell_type": "markdown",
   "id": "b162d332",
   "metadata": {
    "cell_style": "split",
    "slideshow": {
     "slide_type": "fragment"
    }
   },
   "source": [
    "Consideremos una onda electromagnetética en dirección $\\hat{k}_i$ que incide sobre la interfaz entre dos medios 1 y 2, con índices de refracción reales $n_1$ y $n_2$, respectivamente\n",
    "\n",
    "Definimos como $\\hat{n}$ al vector normal al plano a la interfaz entre los dos medios, y como **plano de incidencia,** al plano formado por los vectores $\\hat{k}_i$ y $\\hat{n}$.\n",
    "\n",
    "La dirección de la onda reflejada y transmitida está definida por los vectores $\\hat{k}_r$ y $\\hat{k}_t$, respectivamente."
   ]
  },
  {
   "cell_type": "markdown",
   "id": "e9ca295b",
   "metadata": {
    "cell_style": "split"
   },
   "source": [
    "<img src=\"./images/plano_incidencia.png\" width=\"350px\" align= center>"
   ]
  },
  {
   "cell_type": "markdown",
   "id": "6860f66d",
   "metadata": {
    "slideshow": {
     "slide_type": "slide"
    }
   },
   "source": [
    "A partir de la dirección de $\\vec{E}$ y $\\vec{H}$ respecto al plano de incidencia, podemos distunguir dos polarizaciones:\n",
    "\n",
    "- Si **$\\vec{H}$ oscila en dirección perpendicular al plano de incidencia**, hablamos de una **polarización transversal magnética o TM**.\n",
    "\n",
    "- Si **$\\vec{E}$ oscila en dirección perpendicular al plano de incidencia**, hablamos de una **polarización transversal eléctrica o TE**."
   ]
  },
  {
   "cell_type": "markdown",
   "id": "f14a4173",
   "metadata": {
    "cell_style": "split",
    "slideshow": {
     "slide_type": "slide"
    }
   },
   "source": [
    "Como ejemplo, consideremos una **onda transversal magnética (TM)**\n",
    "\n",
    "<img src=\"./images/em_reflection.png\" width=\"350px\" align= center>\n",
    "\n",
    "La figura muestra la reflexión y transmisión de la onda visto desde el plano de incidencia"
   ]
  },
  {
   "cell_type": "markdown",
   "id": "780de9d4",
   "metadata": {
    "cell_style": "split",
    "slideshow": {
     "slide_type": "fragment"
    }
   },
   "source": [
    "A través de las ecuaciones de Maxwell, podemos establecer la solución general para cada onda electromagnética:\n",
    "\n",
    "\\begin{align*}\n",
    "\\vec{E}_i &= E_i e^{ i\\left(k_0n_1\\hat{k}_i\\cdot\\vec{r} - \\omega t\\right)} \\hat{e}_i\\quad\\quad \\mathrm{onda~incidente}\n",
    " \\\\\n",
    "\\vec{E}_r &= E_r e^{ i\\left(k_0n_1\\hat{k}_r\\cdot\\vec{r} - \\omega t\\right)} \\hat{e}_r\\quad\\quad \\mathrm{onda~reflejada}\n",
    "\\\\\n",
    "\\vec{E}_t &= E_t e^{ i\\left(k_0n_2\\hat{k}_t\\cdot\\vec{r} - \\omega t\\right)} \\hat{e}_t\\quad\\quad \n",
    "\\mathrm{onda~transmitida}\n",
    "\\end{align*}\n",
    "\n",
    "donde:\n",
    "\n",
    "\\begin{eqnarray*}\n",
    "\\hat{k}_i &=& \\hat{x}\\sin\\theta_i + \\hat{z}\\cos\\theta_i \n",
    "&\\quad\\mathrm{y}\\quad& \n",
    "\\hat{e}_i &=& \\hat{x}\\cos\\theta_i - \\hat{z}\\sin\\theta_i\n",
    "\\\\\n",
    "\\hat{k}_r &=& \\hat{x}\\sin\\theta_r - \\hat{z}\\cos\\theta_r\n",
    "&\\quad\\mathrm{y}\\quad& \n",
    "\\hat{e}_r &=& \\hat{x}\\cos\\theta_r + \\hat{z}\\sin\\theta_r\n",
    "\\\\\n",
    "\\hat{k}_t &=& \\hat{x}\\sin\\theta_t + \\hat{z}\\cos\\theta_t\n",
    "&\\quad\\mathrm{y}\\quad& \n",
    "\\hat{e}_t &=& \\hat{x}\\cos\\theta_t - \\hat{z}\\sin\\theta_t\n",
    "\\end{eqnarray*}"
   ]
  },
  {
   "cell_type": "markdown",
   "id": "4476682a",
   "metadata": {
    "cell_style": "center",
    "slideshow": {
     "slide_type": "slide"
    }
   },
   "source": [
    "Reemplazando en las soluciones generales,\n",
    "\n",
    "\\begin{eqnarray*}\n",
    "\\vec{E}_i &=& E_i e^{ ik_0n_1\\left(z\\cos\\theta_i + x\\sin\\theta_i\\right)}e^{-i\\omega t} \\left(\\hat{x}\\cos\\theta_i -\\hat{z}\\sin\\theta_i\\right)\\quad\\quad &&\\mathrm{onda~incidente}\n",
    " \\\\\n",
    "\\vec{E}_r &=& E_r e^{ ik_0n_1\\left(-z\\cos\\theta_r + x\\sin\\theta_r\\right)}e^{-i\\omega t} \\left(\\hat{x}\\cos\\theta_r +\\hat{z}\\sin\\theta_r\\right)\\quad\\quad &&\\mathrm{onda~reflejada}\n",
    "\\\\\n",
    "\\vec{E}_t &=& E_t e^{ ik_0n_2\\left(z\\cos\\theta_t + x\\sin\\theta_t\\right)}e^{-i\\omega t} \\left(\\hat{x}\\cos\\theta_t -\\hat{z}\\sin\\theta_t\\right)\\quad\\quad \n",
    "&&\\mathrm{onda~transmitida}\n",
    "\\end{eqnarray*}"
   ]
  },
  {
   "cell_type": "markdown",
   "id": "fe89145b",
   "metadata": {
    "slideshow": {
     "slide_type": "fragment"
    }
   },
   "source": [
    "De igual forma, a partir de la relación $\\vec{H} = \\frac{E}{Z_0Z_r}\\left(\\hat{k}\\times\\hat{e}\\right)$,\n",
    "\n",
    "\\begin{eqnarray*}\n",
    "\\vec{H}_i &=& \\frac{n_1E_i}{Z_0}e^{ ik_0n_1\\left(z\\cos\\theta_i + x\\sin\\theta_i\\right)}e^{-i\\omega t}\\left(\\hat{y}\\right)\\quad\\quad &&\\mathrm{onda~incidente}\n",
    " \\\\\n",
    "\\vec{H}_r &=& \\frac{n_1E_r}{Z_0} e^{ ik_0n_1\\left(-z\\cos\\theta_r + x\\sin\\theta_r\\right)}e^{-i\\omega t} \\left(-\\hat{y}\\right)\\quad\\quad &&\\mathrm{onda~reflejada}\n",
    "\\\\\n",
    "\\vec{H}_t &=& \\frac{n_2E_t}{Z_0} e^{ ik_0n_2\\left(z\\cos\\theta_t + x\\sin\\theta_t\\right)}e^{-i\\omega t} \\left(\\hat{y}\\right)\\quad\\quad \n",
    "&&\\mathrm{onda~transmitida}\n",
    "\\end{eqnarray*}"
   ]
  },
  {
   "cell_type": "markdown",
   "id": "dc334364",
   "metadata": {
    "slideshow": {
     "slide_type": "slide"
    }
   },
   "source": [
    "A partir de la condición de borde en la interfaz $z =0$:\n",
    "\n",
    "$$E^{\\parallel}_1|_{z=0} - E^{\\parallel}_2|_{z=0} = 0$$"
   ]
  },
  {
   "cell_type": "markdown",
   "id": "3b3ade24",
   "metadata": {
    "slideshow": {
     "slide_type": "fragment"
    }
   },
   "source": [
    "Tenemos:\n",
    "\n",
    "\\begin{equation}\n",
    "E_i\\cos\\theta_i e^{ ik_0n_1x\\sin\\theta_i}+E_r\\cos\\theta_r e^{ ik_0n_1x\\sin\\theta_r} - E_t\\cos\\theta_t e^{ ik_0n_1x\\sin\\theta_t} = 0\n",
    "\\end{equation}"
   ]
  },
  {
   "cell_type": "markdown",
   "id": "06d82130",
   "metadata": {
    "slideshow": {
     "slide_type": "fragment"
    }
   },
   "source": [
    "Dado que esta ecuación se debe satisfacer para cualquier punto $x$, los exponentes debe ser iguales:\n",
    "\n",
    "\\begin{equation*}\n",
    "n_1\\sin\\theta_i = n_1\\sin\\theta_r = n_2\\sin\\theta_t\n",
    "\\end{equation*}"
   ]
  },
  {
   "cell_type": "markdown",
   "id": "d24178a8",
   "metadata": {
    "slideshow": {
     "slide_type": "slide"
    }
   },
   "source": [
    "Esto nos lleva a las **leyes de Snell**, para reflexión y transmisión, válidas para una interfaz lisa:\n",
    "\n",
    "\\begin{equation}\n",
    "\\theta_i = \\theta_r\\quad\\quad\\mathrm{y}\\quad\\quad n_1\\sin\\theta_i = n_2\\sin\\theta_t\n",
    "\\end{equation}"
   ]
  },
  {
   "cell_type": "markdown",
   "id": "4014dbff",
   "metadata": {
    "slideshow": {
     "slide_type": "fragment"
    }
   },
   "source": [
    "La primera ($\\theta_i = \\theta_r$), indica que el ángulo de reflexión es siempre igual al ángulo de incidencia."
   ]
  },
  {
   "cell_type": "markdown",
   "id": "9f49b20c",
   "metadata": {
    "slideshow": {
     "slide_type": "fragment"
    }
   },
   "source": [
    "La segunda ($n_1\\sin\\theta_i = n_2\\sin\\theta_t$), indica el ángulo de transmisión de una onda EM al atravesar por un medio distinto\n",
    "\n",
    "<img src=\"./images/refraction.png\" width=\"700px\" align= center>"
   ]
  },
  {
   "cell_type": "markdown",
   "id": "ebaf7f99",
   "metadata": {
    "slideshow": {
     "slide_type": "slide"
    }
   },
   "source": [
    "Aplicando la ley de Snell en la condición de borde del campo eléctrico (Eq. 2.5):\n",
    "\n",
    "\\begin{equation}\\label{eq:boundaryE}\n",
    "E_i\\cos\\theta_i +E_r\\cos\\theta_r  - E_t\\cos\\theta_t = 0\n",
    "\\end{equation}"
   ]
  },
  {
   "cell_type": "markdown",
   "id": "7ee20184",
   "metadata": {
    "slideshow": {
     "slide_type": "fragment"
    }
   },
   "source": [
    "De igual forma, de la condición de borde $H^{\\parallel}_1 - H^{\\parallel}_2 = 0$, deducimos:\n",
    "\n",
    "\\begin{equation}\n",
    "n_1E_i - n_1E_r  - n_2E_t = 0 \\label{eq:boundaryH}\n",
    "\\end{equation}"
   ]
  },
  {
   "cell_type": "markdown",
   "id": "b988e005",
   "metadata": {
    "slideshow": {
     "slide_type": "slide"
    }
   },
   "source": [
    "A partir de estas dos ecuaciones, determinamos **los coeficientes de Fresnel de reflexión ($r_\\mathrm{TM}$) y transmisión ($t_\\mathrm{TM}$) para una onda TM**:\n",
    "\n",
    "\\begin{align}\n",
    "r_\\mathrm{TM} &= \\frac{E_r^\\mathrm{TM}}{E_i^\\mathrm{TM}} = \\frac{n_1\\cos\\theta_t-n_2\\cos\\theta_i}\n",
    "{n_1\\cos\\theta_t+n_2\\cos\\theta_i}\n",
    "\\\\[10pt]\n",
    "t_\\mathrm{TM} &= \\frac{E_t^\\mathrm{TM}}{E_i^\\mathrm{TM}} =\\frac{2n_1\\cos\\theta_t}\n",
    "{n_1\\cos\\theta_t+n_2\\cos\\theta_i}\n",
    "\\end{align}"
   ]
  },
  {
   "cell_type": "markdown",
   "id": "6b9df308",
   "metadata": {
    "slideshow": {
     "slide_type": "fragment"
    }
   },
   "source": [
    "Mediante un procedimiento similar, podemos determinar **los coeficientes de Fresnel de reflexión ($r_\\mathrm{TE}$) y transmisión ($t_\\mathrm{TE}$) para una onda TE**:\n",
    "\n",
    "\\begin{align}\n",
    "r_\\mathrm{TE} &= \\frac{E_r^\\mathrm{TE}}{E_i^\\mathrm{TE}} = \\frac{n_1\\cos\\theta_i -n_2\\cos\\theta_t}\n",
    "{n_1\\cos\\theta_i+n_2\\cos\\theta_t}\n",
    "\\\\[10pt]\n",
    "t_\\mathrm{TE} &= \\frac{E_t^\\mathrm{TE}}{E_i^\\mathrm{TE}} = \\frac{2n_1\\cos\\theta_i}\n",
    "{n_1\\cos\\theta_i+n_2\\cos\\theta_t}\n",
    "\\end{align}"
   ]
  },
  {
   "cell_type": "markdown",
   "id": "0f85e108",
   "metadata": {
    "slideshow": {
     "slide_type": "slide"
    }
   },
   "source": [
    ">Las relaciones para los coeficientes de Fresnel se mantienen para índices de refracción complejos. En este caso, solo debemos reemplazar $n_1$ por $N_1$, y $n_2$ por $N_2$"
   ]
  },
  {
   "cell_type": "markdown",
   "id": "6e1bbe42",
   "metadata": {
    "cell_style": "center",
    "slideshow": {
     "slide_type": "slide"
    }
   },
   "source": [
    "### Reflectividad y transmisividad"
   ]
  },
  {
   "cell_type": "markdown",
   "id": "3502a921",
   "metadata": {
    "cell_style": "center"
   },
   "source": [
    "Los coeficientes de Fresnel permiten determinar la magnitud del campo eléctrico (y magnético) reflejado y transmitido por una interfaz. Para determinar el flujo de energía a través de la interfaz, utilizamos el vector de Poynting. En el caso de la onda $\\mathrm{TM}$, y considerando el caso más general con indices de refracción complejos en los medios 1 y 2:\n",
    "\n",
    "\\begin{eqnarray*}\n",
    "\\biggl\\langle{\\vec{S}_i^\\mathrm{TM}}\\biggl\\rangle &=& \\frac{1}{2}\\mathrm{Re}\\left[\\vec{E}_i\\times\\vec{H}_i^*\\right] &=& \\mathrm{Re}\\left[N_1^* \\hat{k}_i\\right]\\frac{{\\left(E_i^\\mathrm{TM}\\right)}^2}{2Z_0}\n",
    "\\\\\n",
    "\\biggl\\langle{\\vec{S}_r^\\mathrm{TM}}\\biggl\\rangle &=& \\frac{1}{2}\\mathrm{Re}\\left[\\vec{E}_r\\times\\vec{H}_r^*\\right] &=& \\mathrm{Re}\\left[N_1^* \\hat{k}_r\\right]\\frac{{\\left(E_r^\\mathrm{TM}\\right)}^2}{2Z_0}\n",
    "\\\\\n",
    "\\biggl\\langle{\\vec{S}_t^\\mathrm{TM}}\\biggl\\rangle &=& \\frac{1}{2}\\mathrm{Re}\\left[\\vec{E}_t\\times\\vec{H}_t^*\\right] &=& \\mathrm{Re}\\left[N_2^* \\hat{k}_t\\right]\\frac{{\\left(E_t^\\mathrm{TM}\\right)}^2}{2Z_0}\n",
    "\\end{eqnarray*}"
   ]
  },
  {
   "cell_type": "markdown",
   "id": "ccd07a27",
   "metadata": {
    "cell_style": "center",
    "slideshow": {
     "slide_type": "slide"
    }
   },
   "source": [
    "La **reflectividad ($R$)** y **transmisivitdad ($T$)** se definen, repectivamente, como **el flujo de energía reflejada y transmitida relativa al flujo de energía incidente, y en dirección normal a la interfaz.** "
   ]
  },
  {
   "cell_type": "markdown",
   "id": "5d579128",
   "metadata": {
    "cell_style": "center",
    "slideshow": {
     "slide_type": "fragment"
    }
   },
   "source": [
    "Estamos interesados en el flujo de energía a través de la interfaz. Así, consideramos la componente del vector de Poynting paralela a $\\hat{n}$ (notar que $\\hat{n} = - \\hat{z}$ en nuestro ejemplo), de donde obtenemos:\n",
    "\n",
    "**Onda con polarización TM**\n",
    "\\begin{eqnarray}\n",
    "R_\\mathrm{TM} &=& \\frac{S_{r,z}^\\mathrm{TM}}{S_{i,z}^\\mathrm{TM}} &=& \\lvert r_\\mathrm{TM}\\rvert^2\n",
    "\\\\[10pt]\n",
    "T_\\mathrm{TM} &=& \\frac{S_{t,z}^\\mathrm{TM}}{S_{i,z}^\\mathrm{TM}} &=& \\frac{\\mathrm{Re}\\left(N_2^*\\cos\\theta_t\\right)}{\\mathrm{Re}\\left(N_1^*\\cos\\theta_i\\right)}\\lvert t_\\mathrm{TM}\\rvert^2\n",
    "\\end{eqnarray}"
   ]
  },
  {
   "cell_type": "markdown",
   "id": "2f057d84",
   "metadata": {
    "cell_style": "center",
    "slideshow": {
     "slide_type": "fragment"
    }
   },
   "source": [
    "**Onda con polarización TE**\n",
    "\n",
    "\\begin{eqnarray}\n",
    "R_\\mathrm{TE} &=& \\lvert r_\\mathrm{TE}\\rvert^2\n",
    "\\\\[10pt]\n",
    "T_\\mathrm{TE} &=& \\frac{\\mathrm{Re}\\left(N_2\\cos\\theta_t\\right)}{\\mathrm{Re}\\left(N_1\\cos\\theta_i\\right)}\\lvert t_\\mathrm{TE}\\rvert^2\n",
    "\\end{eqnarray}"
   ]
  },
  {
   "cell_type": "markdown",
   "id": "27f6fc55",
   "metadata": {
    "slideshow": {
     "slide_type": "fragment"
    }
   },
   "source": [
    "Notar que por conservación de energía:\n",
    "\\begin{equation}\n",
    "R + T = 1\n",
    "\\end{equation}"
   ]
  },
  {
   "cell_type": "markdown",
   "id": "187bf3c4",
   "metadata": {
    "slideshow": {
     "slide_type": "slide"
    }
   },
   "source": [
    "### Casos particulares"
   ]
  },
  {
   "cell_type": "markdown",
   "id": "071f50fa",
   "metadata": {
    "cell_style": "center",
    "slideshow": {
     "slide_type": "-"
    }
   },
   "source": [
    "Asumiendo dos medios 1 y 2, con índice de refracción real, analicemos la reflectancia en función del ángulo de incidencia:\n",
    "- caso 1, $n_1 < n_2$\n",
    "- caso 2, $n_1 > n_2$"
   ]
  },
  {
   "cell_type": "code",
   "execution_count": 4,
   "id": "8d7bed6f",
   "metadata": {
    "cell_style": "split",
    "slideshow": {
     "slide_type": "slide"
    },
    "tags": [
     "hide-input"
    ]
   },
   "outputs": [
    {
     "name": "stderr",
     "output_type": "stream",
     "text": [
      "<>:18: SyntaxWarning: invalid escape sequence '\\m'\n",
      "<>:19: SyntaxWarning: invalid escape sequence '\\m'\n",
      "<>:18: SyntaxWarning: invalid escape sequence '\\m'\n",
      "<>:19: SyntaxWarning: invalid escape sequence '\\m'\n",
      "/tmp/ipykernel_1029/1492845190.py:18: SyntaxWarning: invalid escape sequence '\\m'\n",
      "  ax.plot(theta,Rp, label='$R_\\mathrm{TM}$', color='red')\n",
      "/tmp/ipykernel_1029/1492845190.py:19: SyntaxWarning: invalid escape sequence '\\m'\n",
      "  ax.plot(theta,Rs, label='$R_\\mathrm{TE}$',color='blue')\n"
     ]
    }
   ],
   "source": [
    "import numpy as np\n",
    "from numpy import radians as rad # convertimos grados a radianes\n",
    "import matplotlib.pyplot as plt\n",
    "from empylib.waveoptics import interface\n",
    "\n",
    "theta = np.linspace(0,90,1000) # Ángulo de incidencia\n",
    "\n",
    "# preparamos el ploteo\n",
    "def plot_R_interface(n1,n2):\n",
    "    \n",
    "    # Reflectividad en una interface\n",
    "    Rp = interface(rad(theta),n1,n2,pol='TM')[0] # TM\n",
    "    Rs = interface(rad(theta),n1,n2,pol='TE')[0] # TE\n",
    "    \n",
    "    fig, ax = plt.subplots()\n",
    "    fig.set_size_inches(5,3)\n",
    "    plt.rcParams['font.size'] = '14'\n",
    "    ax.plot(theta,Rp, label='$R_\\mathrm{TM}$', color='red')\n",
    "    ax.plot(theta,Rs, label='$R_\\mathrm{TE}$',color='blue')\n",
    "    ax.set_xlim([0,90])\n",
    "    ax.set_ylim([0,1.0])\n",
    "    ax.set_xlabel('Ángulo de incidencia (°)')\n",
    "    ax.set_ylabel('Reflectividad')\n",
    "    ax.legend(frameon=False)\n",
    "    plt.show()"
   ]
  },
  {
   "cell_type": "code",
   "execution_count": 5,
   "id": "42d89872",
   "metadata": {
    "cell_style": "split",
    "scrolled": false,
    "tags": [
     "hide-input"
    ]
   },
   "outputs": [
    {
     "data": {
      "application/vnd.jupyter.widget-view+json": {
       "model_id": "f0106f2966de4623bc6682c3f1ff00c3",
       "version_major": 2,
       "version_minor": 0
      },
      "text/plain": [
       "interactive(children=(FloatSlider(value=1.0, description='n1', max=5.0, min=1.0), FloatSlider(value=1.5, descr…"
      ]
     },
     "metadata": {},
     "output_type": "display_data"
    }
   ],
   "source": [
    "from ipywidgets import interact\n",
    "\n",
    "@interact( n1=(1,5, 0.1), n2=(1,5, 0.1))\n",
    "def g(n1=1.0, n2=1.5):\n",
    "    return plot_R_interface(n1,n2)"
   ]
  },
  {
   "cell_type": "markdown",
   "id": "63a4161a",
   "metadata": {
    "cell_style": "center",
    "slideshow": {
     "slide_type": "slide"
    }
   },
   "source": [
    "Cuando $n_1 < n_2$ vemos que $R_\\mathrm{TM} = 0$ en un cierto ángulo. Este ángulo se denomina **ángulo de Brewster.** En este ángulo solo la componente TE es reflejada. "
   ]
  },
  {
   "cell_type": "markdown",
   "id": "b5158912",
   "metadata": {
    "cell_style": "split",
    "slideshow": {
     "slide_type": "fragment"
    }
   },
   "source": [
    "Los lentes polarizados toman ventaja del ángulo de Brewster. Estos lentes están diseñados para bloquear las ondas TE, y de esta forma reducir el brillo enceguecedor generado por la reflexión de la luz solar"
   ]
  },
  {
   "cell_type": "markdown",
   "id": "2edd4f05",
   "metadata": {
    "cell_style": "split",
    "slideshow": {
     "slide_type": "-"
    }
   },
   "source": [
    "<img src=\"./images/polarized_glasses.jpg\" width=\"350px\" align= center>"
   ]
  },
  {
   "cell_type": "markdown",
   "id": "8884b02f",
   "metadata": {
    "slideshow": {
     "slide_type": "fragment"
    }
   },
   "source": [
    "Así, si giramos los lentes en posición vertical (asumiento lentes con alto nivel de polarización), el efecto se invierte. Es decir, las ondas TE se transmiten y las TM no."
   ]
  },
  {
   "cell_type": "markdown",
   "id": "247f0d78",
   "metadata": {
    "slideshow": {
     "slide_type": "slide"
    }
   },
   "source": [
    "En el siguiente video, podemos ver el efecto de la polarización. Aquí, la luz no puede pasar a través de dos polarizadores cuando son oriententados en direcciones perpendiculares."
   ]
  },
  {
   "cell_type": "code",
   "execution_count": 6,
   "id": "79a6b530",
   "metadata": {
    "slideshow": {
     "slide_type": "fragment"
    },
    "tags": [
     "remove-input"
    ]
   },
   "outputs": [
    {
     "data": {
      "image/jpeg": "[encoded data removed]",
      "text/html": [
       "\n",
       "        <iframe\n",
       "            width=\"600\"\n",
       "            height=\"400\"\n",
       "            src=\"https://www.youtube.com/embed/5SIxEiL8ujA?playsinline=0&start=0\"\n",
       "            frameborder=\"0\"\n",
       "            allowfullscreen\n",
       "            \n",
       "        ></iframe>\n",
       "        "
      ],
      "text/plain": [
       "<IPython.lib.display.YouTubeVideo at 0x7ff3e670aae0>"
      ]
     },
     "execution_count": 6,
     "metadata": {},
     "output_type": "execute_result"
    }
   ],
   "source": [
    "from IPython.display import YouTubeVideo\n",
    "YouTubeVideo('5SIxEiL8ujA', width=600, height=400,  playsinline=0, start=0)"
   ]
  },
  {
   "cell_type": "markdown",
   "id": "facd7e0b",
   "metadata": {
    "slideshow": {
     "slide_type": "slide"
    }
   },
   "source": [
    "Por otro lado, cuando $n_1 > n_2$, vemos que $R_\\mathrm{TM} = R_\\mathrm{TE} = 1.0$ sobre cierto ángulo. Este ángulo se denomina **ángulo crítico ($\\theta_c$).** Para deterinar el ángulo crítico usamos la ley de Snell."
   ]
  },
  {
   "cell_type": "markdown",
   "id": "65963ef2",
   "metadata": {
    "cell_style": "split"
   },
   "source": [
    "El ángulo máximo para la onda transmitida es $\\theta_t = 90^o$, la ley de Snell nos indica que existe un ángulo crítico. Sobre este valor, no existe solución real.\n",
    "\n",
    "\\begin{equation}\n",
    "n_1\\sin\\theta_c = n_2\\sin90^o \\Rightarrow \\theta_c = \\arcsin\\left(n_2/n_1\\right)\n",
    "\\end{equation}\n",
    "\n",
    "**Para $\\theta_i > \\theta_c$, $R_\\mathrm{TE} = R_\\mathrm{TM} = 1$.**"
   ]
  },
  {
   "cell_type": "markdown",
   "id": "34422d42",
   "metadata": {
    "cell_style": "split"
   },
   "source": [
    "Este mecanismo se llama **reflexión interna total** y es la base para el funcionamiento de fibras ópticas y lasers\n",
    "<img src=\"./images/optical_fiber.png\" width=\"450px\" align= center>"
   ]
  },
  {
   "cell_type": "markdown",
   "id": "97022f4d",
   "metadata": {
    "slideshow": {
     "slide_type": "slide"
    }
   },
   "source": [
    "El siguiente video resume los procesos de reflexión interna total y refracción que ocurren producto del cambio en el índice de refracción."
   ]
  },
  {
   "cell_type": "markdown",
   "id": "ea8c883d",
   "metadata": {
    "cell_style": "split"
   },
   "source": [
    "En el ejemplo, la interfaz es entre agua ($N_\\mathrm{agua} =1.33$) y aceite ($N_\\mathrm{oil} = 1.47$). Al agregar sal al agua (parte final del video), se induce un cambio gradual del índice de refracción (fuente [@uaiphysics](https://www.instagram.com/uaiphysics/?hl=es))."
   ]
  },
  {
   "cell_type": "markdown",
   "id": "87f36b2d",
   "metadata": {
    "cell_style": "split"
   },
   "source": [
    "<center><video controls muted src=\"../_static/videos/refraccíon_uaiphysics.mp4\"  width=\"400px\" align=center></video></center>"
   ]
  },
  {
   "cell_type": "markdown",
   "id": "5536a48a",
   "metadata": {
    "slideshow": {
     "slide_type": "slide"
    }
   },
   "source": [
    "## Reflexión y transmisión en películas delgadas\n",
    "En el caso materiales de película delgada, las ondas electromagnéticas se reflejan y transmiten múltiples veces.\n",
    "\n",
    "<img src=\"./images/reflectance_thinfilm.png\" width=\"600px\" align= center>"
   ]
  },
  {
   "cell_type": "markdown",
   "id": "6937e4c8",
   "metadata": {
    "slideshow": {
     "slide_type": "slide"
    }
   },
   "source": [
    "### Coeficientes de Fresnel\n",
    "\n",
    "Considerando los medios 1,2 y 3 ordenados consecutivamente en dirección de la onda incidente, con el medio 2 condicionado por un espesor $d$, se puede demostrar que en este caso los **coeficientes de Fresnel** son:\n",
    "\n",
    "\\begin{align}\n",
    "r &= \\frac{r_{12}+r_{23}e^{2i\\varphi_2}}\n",
    "          {1+r_{12}r_{23}e^{2i\\varphi_2}}\n",
    "\\\\[10pt]\n",
    "t &= \\frac{t_{12}t_{23}e^{i\\varphi_2}}\n",
    "          {1+r_{12}r_{23}e^{2i\\varphi_2}}\n",
    "\\end{align}\n",
    "\n",
    "donde $\\varphi_2 = N_2k_0d\\cos\\theta_2$ ($\\theta_2$ es el ángulo de transmisión en el medio 2); $r_{12}$, $r_{23}$ y $t_{12}$, $t_{23}$ son, respectivamente, los coeficientes de Fresnel desde el medio 1 al medio 2, y desde el medio 2 al medio 3. Estas fórmulas son válidas tanto para ondas TE como para ondas TM."
   ]
  },
  {
   "cell_type": "markdown",
   "id": "de766589",
   "metadata": {
    "slideshow": {
     "slide_type": "slide"
    }
   },
   "source": [
    "### Reflectividad y transmisividad\n",
    "\n",
    "Basado en estas expresiones, podemos calcular la reflectividad y tranmissividad de la película:\n",
    "\n",
    "\\begin{align}\n",
    "R = {\\lvert r\\rvert}^2 &= \\frac{r_{12}^2+r_{23}^2+2r_{12}r_{23}\\cos 2\\varphi_2}\n",
    "                              {1 + 2r_{12}r_{23}\\cos 2\\varphi_2 + r_{12}^2r_{23}^2}\n",
    "\\\\[10pt]\n",
    "T = \\frac{n_3\\cos\\theta_t}{n_1\\cos\\theta_i}{\\lvert t\\rvert}^2 &= \n",
    "\\frac{\\left(1 - r_{12}^2\\right)\\left(1 - r_{23}^2\\right)}\n",
    "     {1 + 2r_{12}r_{23}\\cos 2\\varphi_2 + r_{12}^2r_{23}^2}\n",
    "\\end{align}"
   ]
  },
  {
   "cell_type": "markdown",
   "id": "9e4bca52",
   "metadata": {
    "slideshow": {
     "slide_type": "slide"
    }
   },
   "source": [
    "### Intererencia en ondas EM\n",
    "\n",
    "Como ejemplo, consideremos la reflectividad de una película delgada de sílice (SiO$_2$) sobre un sustrato de silicio. Esta capa se genera naturalmente debido a la oxidación del silicio\n",
    "\n",
    "<img src=\"./images/sio2_coating.png\" width=\"600px\" align= center>\n",
    "\n",
    "Para simplificar, consideremos:\n",
    "- índice de refracción del aire: 1.0\n",
    "- índice de refracción de sílice: 1.5\n",
    "- índice de refracción del silicio: 4.3\n",
    "- espectro de longitudes de onda: 300 - 800 nm (visible)\n",
    "- espesor del sílice, $d$: variable\n",
    "- ángulo de incidencia $\\theta_i$: variable"
   ]
  },
  {
   "cell_type": "code",
   "execution_count": 7,
   "id": "e4453a7a",
   "metadata": {
    "cell_style": "split",
    "slideshow": {
     "slide_type": "slide"
    },
    "tags": [
     "hide-input"
    ]
   },
   "outputs": [
    {
     "name": "stderr",
     "output_type": "stream",
     "text": [
      "<>:19: SyntaxWarning: invalid escape sequence '\\m'\n",
      "<>:20: SyntaxWarning: invalid escape sequence '\\m'\n",
      "<>:23: SyntaxWarning: invalid escape sequence '\\m'\n",
      "<>:19: SyntaxWarning: invalid escape sequence '\\m'\n",
      "<>:20: SyntaxWarning: invalid escape sequence '\\m'\n",
      "<>:23: SyntaxWarning: invalid escape sequence '\\m'\n",
      "/tmp/ipykernel_1029/1845123263.py:19: SyntaxWarning: invalid escape sequence '\\m'\n",
      "  ax.plot(lam,Rp, label='$R_\\mathrm{TM}$', color='red')\n",
      "/tmp/ipykernel_1029/1845123263.py:20: SyntaxWarning: invalid escape sequence '\\m'\n",
      "  ax.plot(lam,Rs, label='$R_\\mathrm{TE}$',color='blue')\n",
      "/tmp/ipykernel_1029/1845123263.py:23: SyntaxWarning: invalid escape sequence '\\m'\n",
      "  ax.set_xlabel('Longitud de onda ($\\mu$m)')\n"
     ]
    }
   ],
   "source": [
    "import numpy as np\n",
    "from numpy import radians as rad # convertimos grados a radianes\n",
    "import matplotlib.pyplot as plt\n",
    "from empylib.waveoptics import multilayer\n",
    "\n",
    "# Reflectividad en capa delgada\n",
    "lam = np.linspace(0.3,0.8,100)          # longitud de onda (en um)\n",
    "n_layers = (1.0,1.5,4.3)     # índices de refracción n1, n2, n3\n",
    "\n",
    "# preparamos el ploteo\n",
    "def plot_R_multi(theta,d):\n",
    "    \n",
    "    Rp = multilayer(lam, rad(theta),n_layers, (d,), 'TM')[0]\n",
    "    Rs = multilayer(lam, rad(theta),n_layers, (d,), 'TE')[0]\n",
    "    \n",
    "    fig, ax = plt.subplots()\n",
    "    fig.set_size_inches(5, 3)\n",
    "    plt.rcParams['font.size'] = '14'\n",
    "    ax.plot(lam,Rp, label='$R_\\mathrm{TM}$', color='red')\n",
    "    ax.plot(lam,Rs, label='$R_\\mathrm{TE}$',color='blue')\n",
    "    ax.set_xlim([min(lam),max(lam)])\n",
    "    ax.set_ylim([0,1.0])\n",
    "    ax.set_xlabel('Longitud de onda ($\\mu$m)')\n",
    "    ax.set_ylabel('Reflectividad')\n",
    "    ax.legend(frameon=False)\n",
    "    plt.show()"
   ]
  },
  {
   "cell_type": "code",
   "execution_count": 8,
   "id": "97271595",
   "metadata": {
    "cell_style": "split",
    "tags": [
     "hide-input"
    ]
   },
   "outputs": [
    {
     "data": {
      "application/vnd.jupyter.widget-view+json": {
       "model_id": "a31bb389e44248be981370b8f941fb84",
       "version_major": 2,
       "version_minor": 0
      },
      "text/plain": [
       "interactive(children=(IntSlider(value=30, description='theta', max=89, step=10), FloatSlider(value=0.3, descri…"
      ]
     },
     "metadata": {},
     "output_type": "display_data"
    }
   ],
   "source": [
    "from ipywidgets import interact\n",
    "\n",
    "@interact(theta=(0,89,10), d=(0,1.0,0.01))\n",
    "def g(theta=30, d=0.3):\n",
    "    return plot_R_multi(theta,d)"
   ]
  },
  {
   "cell_type": "markdown",
   "id": "4715d23e",
   "metadata": {
    "slideshow": {
     "slide_type": "slide"
    }
   },
   "source": [
    "Esta oscilaciones en la reflectancia al variar $\\theta_i$ y $d$ son el resultado de la **interferencia** entre las ondas reflejadas en la parte inferior y superior de la película de silicio."
   ]
  },
  {
   "cell_type": "markdown",
   "id": "43438f9c",
   "metadata": {
    "cell_style": "split",
    "slideshow": {
     "slide_type": "-"
    }
   },
   "source": [
    "<img src=\"./images/interference.png\" width=\"350px\" align= center>"
   ]
  },
  {
   "cell_type": "markdown",
   "id": "4037e868",
   "metadata": {
    "cell_style": "split",
    "slideshow": {
     "slide_type": "fragment"
    }
   },
   "source": [
    "En palabras simples, este fenómeno ocurre por qué la onda reflejada en la parte inferior de la película debe recorre un camino más largo. Esto produce un desface con las ondas reflejadas en la parte superior que deriva en interferencia constructiva (alta reflectividad) y destructiva (baja reflectividad)"
   ]
  },
  {
   "cell_type": "markdown",
   "id": "2af5990e",
   "metadata": {
    "cell_style": "split",
    "slideshow": {
     "slide_type": "fragment"
    }
   },
   "source": [
    "Este fenómeno se manifiesta en forma de color ya que nuestros ojos son sensibles a los cambios de radiación en este espectro. \n",
    "\n",
    "> Se recomienda revisar esta [animación para entender el fenómeno](https://javalab.org/en/light_interference_on_cd_surface_en/)"
   ]
  },
  {
   "cell_type": "markdown",
   "id": "93e2c9e8",
   "metadata": {
    "slideshow": {
     "slide_type": "slide"
    }
   },
   "source": [
    "Analicemos como se manifiesta este fenómeno en forma de color:"
   ]
  },
  {
   "cell_type": "code",
   "execution_count": 9,
   "id": "04a79ec0",
   "metadata": {
    "cell_style": "split",
    "slideshow": {
     "slide_type": "-"
    },
    "tags": [
     "hide-input"
    ]
   },
   "outputs": [],
   "source": [
    "import numpy as np\n",
    "from numpy import radians as rad # convertimos grados a radianes\n",
    "import matplotlib.pyplot as plt\n",
    "from empylib.waveoptics import multilayer\n",
    "from empylib.ref_spectra import AM15\n",
    "from empylib.ref_spectra import color_system as cs\n",
    "cs = cs.hdtv\n",
    "\n",
    "# Reflectividad en capa delgada\n",
    "lam = np.linspace(0.3,0.8,100)   # longitud de onda (en um)\n",
    "n_layers = (1.0,1.5,4.3)         # índices de refracción n1, n2, n3\n",
    "\n",
    "cs.interp_internals(lam)\n",
    "def color_R_film(d):\n",
    "    Rp = lambda tt,d : multilayer(lam, rad(tt),n_layers, (d,), 'TM')[0]\n",
    "    Rs = lambda tt,d : multilayer(lam, rad(tt),n_layers, (d,), 'TE')[0]\n",
    "    \n",
    "    # formateamos la figura\n",
    "    fig, ax = plt.subplots()\n",
    "    fig.set_size_inches(6, 4)\n",
    "    plt.rcParams['font.size'] = '14'\n",
    "    \n",
    "    theta = np.linspace(0,90,100) # angulo de inciSdencia\n",
    "    for tt in theta: \n",
    "        R = 0.5*Rp(tt,d) + 0.5*Rs(tt,d)\n",
    "        Irad = R*AM15(lam)\n",
    "        html_rgb = cs.spec_to_rgb(Irad, out_fmt='html')\n",
    "        ax.axvline(tt, color=html_rgb, linewidth=6) \n",
    "    ax.set_xlim([min(theta),max(theta)])\n",
    "    ax.set_ylim([0,1.0])\n",
    "    ax.axes.yaxis.set_visible(False)\n",
    "    ax.set_xlabel('Ángulo de incidencia (deg)')\n",
    "    plt.show()"
   ]
  },
  {
   "cell_type": "code",
   "execution_count": 10,
   "id": "dd72f038",
   "metadata": {
    "cell_style": "split",
    "tags": [
     "hide-input"
    ]
   },
   "outputs": [
    {
     "data": {
      "application/vnd.jupyter.widget-view+json": {
       "model_id": "5438543d3e2c473793de9375dafe2618",
       "version_major": 2,
       "version_minor": 0
      },
      "text/plain": [
       "interactive(children=(FloatSlider(value=0.28, description='d', max=1.0, step=0.001), Output()), _dom_classes=(…"
      ]
     },
     "metadata": {},
     "output_type": "display_data"
    }
   ],
   "source": [
    "from ipywidgets import interact\n",
    "\n",
    "@interact(d=(0,1.0,0.001))\n",
    "def g(d=0.28):\n",
    "    return color_R_film(d)"
   ]
  },
  {
   "cell_type": "markdown",
   "id": "17c1dc23",
   "metadata": {
    "slideshow": {
     "slide_type": "slide"
    }
   },
   "source": [
    "## Referencias\n",
    "Griffths D., *Introduction to Electrodynamics*, 4th Ed, Pearson, 2013\n",
    "- 7.3 Maxwell's Equations (7.36)\n",
    "- 9 Electromagnetic Waves (9.3 y 9.4)"
   ]
  }
 ],
 "metadata": {
  "celltoolbar": "Slideshow",
  "kernelspec": {
   "display_name": "Python 3 (ipykernel)",
   "language": "python",
   "name": "python3"
  },
  "language_info": {
   "codemirror_mode": {
    "name": "ipython",
    "version": 3
   },
   "file_extension": ".py",
   "mimetype": "text/x-python",
   "name": "python",
   "nbconvert_exporter": "python",
   "pygments_lexer": "ipython3",
   "version": "3.12.2"
  },
  "latex_envs": {
   "LaTeX_envs_menu_present": true,
   "autoclose": true,
   "autocomplete": true,
   "bibliofile": "biblio.bib",
   "cite_by": "apalike",
   "current_citInitial": 1,
   "eqLabelWithNumbers": true,
   "eqNumInitial": 1,
   "hotkeys": {
    "equation": "Ctrl-E",
    "itemize": "Ctrl-I"
   },
   "labels_anchors": false,
   "latex_user_defs": false,
   "report_style_numbering": false,
   "user_envs_cfg": false
  },
  "toc": {
   "base_numbering": 1,
   "nav_menu": {},
   "number_sections": true,
   "sideBar": true,
   "skip_h1_title": true,
   "title_cell": "Tabla de contenidos",
   "title_sidebar": "Contenidos",
   "toc_cell": false,
   "toc_position": {
    "height": "calc(100% - 180px)",
    "left": "10px",
    "top": "150px",
    "width": "307.2px"
   },
   "toc_section_display": true,
   "toc_window_display": false
  },
  "varInspector": {
   "cols": {
    "lenName": 16,
    "lenType": 16,
    "lenVar": 40
   },
   "kernels_config": {
    "python": {
     "delete_cmd_postfix": "",
     "delete_cmd_prefix": "del ",
     "library": "var_list.py",
     "varRefreshCmd": "print(var_dic_list())"
    },
    "r": {
     "delete_cmd_postfix": ") ",
     "delete_cmd_prefix": "rm(",
     "library": "var_list.r",
     "varRefreshCmd": "cat(var_dic_list()) "
    }
   },
   "types_to_exclude": [
    "module",
    "function",
    "builtin_function_or_method",
    "instance",
    "_Feature"
   ],
   "window_display": false
  },
  "widgets": {
   "application/vnd.jupyter.widget-state+json": {
    "state": {
     "0089dd23277b48048cd3aec26d759a5e": {
      "model_module": "@jupyter-widgets/base",
      "model_module_version": "2.0.0",
      "model_name": "LayoutModel",
      "state": {
       "_model_module": "@jupyter-widgets/base",
       "_model_module_version": "2.0.0",
       "_model_name": "LayoutModel",
       "_view_count": null,
       "_view_module": "@jupyter-widgets/base",
       "_view_module_version": "2.0.0",
       "_view_name": "LayoutView",
       "align_content": null,
       "align_items": null,
       "align_self": null,
       "border_bottom": null,
       "border_left": null,
       "border_right": null,
       "border_top": null,
       "bottom": null,
       "display": null,
       "flex": null,
       "flex_flow": null,
       "grid_area": null,
       "grid_auto_columns": null,
       "grid_auto_flow": null,
       "grid_auto_rows": null,
       "grid_column": null,
       "grid_gap": null,
       "grid_row": null,
       "grid_template_areas": null,
       "grid_template_columns": null,
       "grid_template_rows": null,
       "height": null,
       "justify_content": null,
       "justify_items": null,
       "left": null,
       "margin": null,
       "max_height": null,
       "max_width": null,
       "min_height": null,
       "min_width": null,
       "object_fit": null,
       "object_position": null,
       "order": null,
       "overflow": null,
       "padding": null,
       "right": null,
       "top": null,
       "visibility": null,
       "width": null
      }
     },
     "01235cf5036f44f3afe47f2e5cdc712a": {
      "model_module": "@jupyter-widgets/output",
      "model_module_version": "1.0.0",
      "model_name": "OutputModel",
      "state": {
       "_dom_classes": [],
       "_model_module": "@jupyter-widgets/output",
       "_model_module_version": "1.0.0",
       "_model_name": "OutputModel",
       "_view_count": null,
       "_view_module": "@jupyter-widgets/output",
       "_view_module_version": "1.0.0",
       "_view_name": "OutputView",
       "layout": "IPY_MODEL_0089dd23277b48048cd3aec26d759a5e",
       "msg_id": "",
       "outputs": [
        {
         "data": {
          "image/png": "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",
          "text/plain": "<Figure size 500x300 with 1 Axes>"
         },
         "metadata": {},
         "output_type": "display_data"
        }
       ],
       "tabbable": null,
       "tooltip": null
      }
     },
     "06751d513c254e40868a92f7f45116cb": {
      "model_module": "@jupyter-widgets/base",
      "model_module_version": "2.0.0",
      "model_name": "LayoutModel",
      "state": {
       "_model_module": "@jupyter-widgets/base",
       "_model_module_version": "2.0.0",
       "_model_name": "LayoutModel",
       "_view_count": null,
       "_view_module": "@jupyter-widgets/base",
       "_view_module_version": "2.0.0",
       "_view_name": "LayoutView",
       "align_content": null,
       "align_items": null,
       "align_self": null,
       "border_bottom": null,
       "border_left": null,
       "border_right": null,
       "border_top": null,
       "bottom": null,
       "display": null,
       "flex": null,
       "flex_flow": null,
       "grid_area": null,
       "grid_auto_columns": null,
       "grid_auto_flow": null,
       "grid_auto_rows": null,
       "grid_column": null,
       "grid_gap": null,
       "grid_row": null,
       "grid_template_areas": null,
       "grid_template_columns": null,
       "grid_template_rows": null,
       "height": null,
       "justify_content": null,
       "justify_items": null,
       "left": null,
       "margin": null,
       "max_height": null,
       "max_width": null,
       "min_height": null,
       "min_width": null,
       "object_fit": null,
       "object_position": null,
       "order": null,
       "overflow": null,
       "padding": null,
       "right": null,
       "top": null,
       "visibility": null,
       "width": null
      }
     },
     "083dab6394834dc7889028168422d662": {
      "model_module": "@jupyter-widgets/controls",
      "model_module_version": "2.0.0",
      "model_name": "SliderStyleModel",
      "state": {
       "_model_module": "@jupyter-widgets/controls",
       "_model_module_version": "2.0.0",
       "_model_name": "SliderStyleModel",
       "_view_count": null,
       "_view_module": "@jupyter-widgets/base",
       "_view_module_version": "2.0.0",
       "_view_name": "StyleView",
       "description_width": "",
       "handle_color": null
      }
     },
     "271001b74a0c48aa9cb020c9983fee3b": {
      "model_module": "@jupyter-widgets/output",
      "model_module_version": "1.0.0",
      "model_name": "OutputModel",
      "state": {
       "_dom_classes": [],
       "_model_module": "@jupyter-widgets/output",
       "_model_module_version": "1.0.0",
       "_model_name": "OutputModel",
       "_view_count": null,
       "_view_module": "@jupyter-widgets/output",
       "_view_module_version": "1.0.0",
       "_view_name": "OutputView",
       "layout": "IPY_MODEL_6c11546da1504d2ab761892a5c894e6e",
       "msg_id": "",
       "outputs": [
        {
         "data": {
          "image/png": "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",
          "text/plain": "<Figure size 500x300 with 1 Axes>"
         },
         "metadata": {},
         "output_type": "display_data"
        }
       ],
       "tabbable": null,
       "tooltip": null
      }
     },
     "2a6c03eb2c8d4e0ca5d3a1ea5c415ac2": {
      "model_module": "@jupyter-widgets/base",
      "model_module_version": "2.0.0",
      "model_name": "LayoutModel",
      "state": {
       "_model_module": "@jupyter-widgets/base",
       "_model_module_version": "2.0.0",
       "_model_name": "LayoutModel",
       "_view_count": null,
       "_view_module": "@jupyter-widgets/base",
       "_view_module_version": "2.0.0",
       "_view_name": "LayoutView",
       "align_content": null,
       "align_items": null,
       "align_self": null,
       "border_bottom": null,
       "border_left": null,
       "border_right": null,
       "border_top": null,
       "bottom": null,
       "display": null,
       "flex": null,
       "flex_flow": null,
       "grid_area": null,
       "grid_auto_columns": null,
       "grid_auto_flow": null,
       "grid_auto_rows": null,
       "grid_column": null,
       "grid_gap": null,
       "grid_row": null,
       "grid_template_areas": null,
       "grid_template_columns": null,
       "grid_template_rows": null,
       "height": null,
       "justify_content": null,
       "justify_items": null,
       "left": null,
       "margin": null,
       "max_height": null,
       "max_width": null,
       "min_height": null,
       "min_width": null,
       "object_fit": null,
       "object_position": null,
       "order": null,
       "overflow": null,
       "padding": null,
       "right": null,
       "top": null,
       "visibility": null,
       "width": null
      }
     },
     "2ecad8a3a51647ee8a1df8711cb131a9": {
      "model_module": "@jupyter-widgets/controls",
      "model_module_version": "2.0.0",
      "model_name": "FloatSliderModel",
      "state": {
       "_dom_classes": [],
       "_model_module": "@jupyter-widgets/controls",
       "_model_module_version": "2.0.0",
       "_model_name": "FloatSliderModel",
       "_view_count": null,
       "_view_module": "@jupyter-widgets/controls",
       "_view_module_version": "2.0.0",
       "_view_name": "FloatSliderView",
       "behavior": "drag-tap",
       "continuous_update": true,
       "description": "d",
       "description_allow_html": false,
       "disabled": false,
       "layout": "IPY_MODEL_ff2f22f8b7344cb9b40a741d6629e779",
       "max": 1.0,
       "min": 0.0,
       "orientation": "horizontal",
       "readout": true,
       "readout_format": ".2f",
       "step": 0.01,
       "style": "IPY_MODEL_cc7dbccc3d3d4f68aca0445d916dd37e",
       "tabbable": null,
       "tooltip": null,
       "value": 0.3
      }
     },
     "302b8773e4234936b248ce175c778913": {
      "model_module": "@jupyter-widgets/controls",
      "model_module_version": "2.0.0",
      "model_name": "FloatSliderModel",
      "state": {
       "_dom_classes": [],
       "_model_module": "@jupyter-widgets/controls",
       "_model_module_version": "2.0.0",
       "_model_name": "FloatSliderModel",
       "_view_count": null,
       "_view_module": "@jupyter-widgets/controls",
       "_view_module_version": "2.0.0",
       "_view_name": "FloatSliderView",
       "behavior": "drag-tap",
       "continuous_update": true,
       "description": "n1",
       "description_allow_html": false,
       "disabled": false,
       "layout": "IPY_MODEL_2a6c03eb2c8d4e0ca5d3a1ea5c415ac2",
       "max": 5.0,
       "min": 1.0,
       "orientation": "horizontal",
       "readout": true,
       "readout_format": ".2f",
       "step": 0.1,
       "style": "IPY_MODEL_083dab6394834dc7889028168422d662",
       "tabbable": null,
       "tooltip": null,
       "value": 1.0
      }
     },
     "32655a9d644d4d1aae21acce56354487": {
      "model_module": "@jupyter-widgets/base",
      "model_module_version": "2.0.0",
      "model_name": "LayoutModel",
      "state": {
       "_model_module": "@jupyter-widgets/base",
       "_model_module_version": "2.0.0",
       "_model_name": "LayoutModel",
       "_view_count": null,
       "_view_module": "@jupyter-widgets/base",
       "_view_module_version": "2.0.0",
       "_view_name": "LayoutView",
       "align_content": null,
       "align_items": null,
       "align_self": null,
       "border_bottom": null,
       "border_left": null,
       "border_right": null,
       "border_top": null,
       "bottom": null,
       "display": null,
       "flex": null,
       "flex_flow": null,
       "grid_area": null,
       "grid_auto_columns": null,
       "grid_auto_flow": null,
       "grid_auto_rows": null,
       "grid_column": null,
       "grid_gap": null,
       "grid_row": null,
       "grid_template_areas": null,
       "grid_template_columns": null,
       "grid_template_rows": null,
       "height": null,
       "justify_content": null,
       "justify_items": null,
       "left": null,
       "margin": null,
       "max_height": null,
       "max_width": null,
       "min_height": null,
       "min_width": null,
       "object_fit": null,
       "object_position": null,
       "order": null,
       "overflow": null,
       "padding": null,
       "right": null,
       "top": null,
       "visibility": null,
       "width": null
      }
     },
     "379cffcda4b947378f22fc77037c3e9a": {
      "model_module": "@jupyter-widgets/controls",
      "model_module_version": "2.0.0",
      "model_name": "FloatSliderModel",
      "state": {
       "_dom_classes": [],
       "_model_module": "@jupyter-widgets/controls",
       "_model_module_version": "2.0.0",
       "_model_name": "FloatSliderModel",
       "_view_count": null,
       "_view_module": "@jupyter-widgets/controls",
       "_view_module_version": "2.0.0",
       "_view_name": "FloatSliderView",
       "behavior": "drag-tap",
       "continuous_update": true,
       "description": "d",
       "description_allow_html": false,
       "disabled": false,
       "layout": "IPY_MODEL_9641e8d100a149bcb65804e6eefdab1f",
       "max": 1.0,
       "min": 0.0,
       "orientation": "horizontal",
       "readout": true,
       "readout_format": ".2f",
       "step": 0.001,
       "style": "IPY_MODEL_dc609d8f7cd440b5bd94c7a2afea1c12",
       "tabbable": null,
       "tooltip": null,
       "value": 0.28
      }
     },
     "49c419116b2841b6919b9bb7e0c91d80": {
      "model_module": "@jupyter-widgets/controls",
      "model_module_version": "2.0.0",
      "model_name": "IntSliderModel",
      "state": {
       "_dom_classes": [],
       "_model_module": "@jupyter-widgets/controls",
       "_model_module_version": "2.0.0",
       "_model_name": "IntSliderModel",
       "_view_count": null,
       "_view_module": "@jupyter-widgets/controls",
       "_view_module_version": "2.0.0",
       "_view_name": "IntSliderView",
       "behavior": "drag-tap",
       "continuous_update": true,
       "description": "theta",
       "description_allow_html": false,
       "disabled": false,
       "layout": "IPY_MODEL_32655a9d644d4d1aae21acce56354487",
       "max": 89,
       "min": 0,
       "orientation": "horizontal",
       "readout": true,
       "readout_format": "d",
       "step": 10,
       "style": "IPY_MODEL_e5bf06b7d72741a8b8922a738c22d47b",
       "tabbable": null,
       "tooltip": null,
       "value": 30
      }
     },
     "5438543d3e2c473793de9375dafe2618": {
      "model_module": "@jupyter-widgets/controls",
      "model_module_version": "2.0.0",
      "model_name": "VBoxModel",
      "state": {
       "_dom_classes": [
        "widget-interact"
       ],
       "_model_module": "@jupyter-widgets/controls",
       "_model_module_version": "2.0.0",
       "_model_name": "VBoxModel",
       "_view_count": null,
       "_view_module": "@jupyter-widgets/controls",
       "_view_module_version": "2.0.0",
       "_view_name": "VBoxView",
       "box_style": "",
       "children": [
        "IPY_MODEL_379cffcda4b947378f22fc77037c3e9a",
        "IPY_MODEL_9b80141b8b5f46f7a38bf042d37fafba"
       ],
       "layout": "IPY_MODEL_06751d513c254e40868a92f7f45116cb",
       "tabbable": null,
       "tooltip": null
      }
     },
     "63167bad586f4879abd3b2151d668710": {
      "model_module": "@jupyter-widgets/base",
      "model_module_version": "2.0.0",
      "model_name": "LayoutModel",
      "state": {
       "_model_module": "@jupyter-widgets/base",
       "_model_module_version": "2.0.0",
       "_model_name": "LayoutModel",
       "_view_count": null,
       "_view_module": "@jupyter-widgets/base",
       "_view_module_version": "2.0.0",
       "_view_name": "LayoutView",
       "align_content": null,
       "align_items": null,
       "align_self": null,
       "border_bottom": null,
       "border_left": null,
       "border_right": null,
       "border_top": null,
       "bottom": null,
       "display": null,
       "flex": null,
       "flex_flow": null,
       "grid_area": null,
       "grid_auto_columns": null,
       "grid_auto_flow": null,
       "grid_auto_rows": null,
       "grid_column": null,
       "grid_gap": null,
       "grid_row": null,
       "grid_template_areas": null,
       "grid_template_columns": null,
       "grid_template_rows": null,
       "height": null,
       "justify_content": null,
       "justify_items": null,
       "left": null,
       "margin": null,
       "max_height": null,
       "max_width": null,
       "min_height": null,
       "min_width": null,
       "object_fit": null,
       "object_position": null,
       "order": null,
       "overflow": null,
       "padding": null,
       "right": null,
       "top": null,
       "visibility": null,
       "width": null
      }
     },
     "68a7182acffd47e6939126f99fa15bcb": {
      "model_module": "@jupyter-widgets/base",
      "model_module_version": "2.0.0",
      "model_name": "LayoutModel",
      "state": {
       "_model_module": "@jupyter-widgets/base",
       "_model_module_version": "2.0.0",
       "_model_name": "LayoutModel",
       "_view_count": null,
       "_view_module": "@jupyter-widgets/base",
       "_view_module_version": "2.0.0",
       "_view_name": "LayoutView",
       "align_content": null,
       "align_items": null,
       "align_self": null,
       "border_bottom": null,
       "border_left": null,
       "border_right": null,
       "border_top": null,
       "bottom": null,
       "display": null,
       "flex": null,
       "flex_flow": null,
       "grid_area": null,
       "grid_auto_columns": null,
       "grid_auto_flow": null,
       "grid_auto_rows": null,
       "grid_column": null,
       "grid_gap": null,
       "grid_row": null,
       "grid_template_areas": null,
       "grid_template_columns": null,
       "grid_template_rows": null,
       "height": null,
       "justify_content": null,
       "justify_items": null,
       "left": null,
       "margin": null,
       "max_height": null,
       "max_width": null,
       "min_height": null,
       "min_width": null,
       "object_fit": null,
       "object_position": null,
       "order": null,
       "overflow": null,
       "padding": null,
       "right": null,
       "top": null,
       "visibility": null,
       "width": null
      }
     },
     "6c11546da1504d2ab761892a5c894e6e": {
      "model_module": "@jupyter-widgets/base",
      "model_module_version": "2.0.0",
      "model_name": "LayoutModel",
      "state": {
       "_model_module": "@jupyter-widgets/base",
       "_model_module_version": "2.0.0",
       "_model_name": "LayoutModel",
       "_view_count": null,
       "_view_module": "@jupyter-widgets/base",
       "_view_module_version": "2.0.0",
       "_view_name": "LayoutView",
       "align_content": null,
       "align_items": null,
       "align_self": null,
       "border_bottom": null,
       "border_left": null,
       "border_right": null,
       "border_top": null,
       "bottom": null,
       "display": null,
       "flex": null,
       "flex_flow": null,
       "grid_area": null,
       "grid_auto_columns": null,
       "grid_auto_flow": null,
       "grid_auto_rows": null,
       "grid_column": null,
       "grid_gap": null,
       "grid_row": null,
       "grid_template_areas": null,
       "grid_template_columns": null,
       "grid_template_rows": null,
       "height": null,
       "justify_content": null,
       "justify_items": null,
       "left": null,
       "margin": null,
       "max_height": null,
       "max_width": null,
       "min_height": null,
       "min_width": null,
       "object_fit": null,
       "object_position": null,
       "order": null,
       "overflow": null,
       "padding": null,
       "right": null,
       "top": null,
       "visibility": null,
       "width": null
      }
     },
     "7cd3a28728c8420a8fbb2c4e8e56f299": {
      "model_module": "@jupyter-widgets/controls",
      "model_module_version": "2.0.0",
      "model_name": "FloatSliderModel",
      "state": {
       "_dom_classes": [],
       "_model_module": "@jupyter-widgets/controls",
       "_model_module_version": "2.0.0",
       "_model_name": "FloatSliderModel",
       "_view_count": null,
       "_view_module": "@jupyter-widgets/controls",
       "_view_module_version": "2.0.0",
       "_view_name": "FloatSliderView",
       "behavior": "drag-tap",
       "continuous_update": true,
       "description": "n2",
       "description_allow_html": false,
       "disabled": false,
       "layout": "IPY_MODEL_63167bad586f4879abd3b2151d668710",
       "max": 5.0,
       "min": 1.0,
       "orientation": "horizontal",
       "readout": true,
       "readout_format": ".2f",
       "step": 0.1,
       "style": "IPY_MODEL_c19cf8e02faa45c1be709c30a51ca812",
       "tabbable": null,
       "tooltip": null,
       "value": 1.5
      }
     },
     "8161ac5c89e64bad95acb796ebca78f5": {
      "model_module": "@jupyter-widgets/base",
      "model_module_version": "2.0.0",
      "model_name": "LayoutModel",
      "state": {
       "_model_module": "@jupyter-widgets/base",
       "_model_module_version": "2.0.0",
       "_model_name": "LayoutModel",
       "_view_count": null,
       "_view_module": "@jupyter-widgets/base",
       "_view_module_version": "2.0.0",
       "_view_name": "LayoutView",
       "align_content": null,
       "align_items": null,
       "align_self": null,
       "border_bottom": null,
       "border_left": null,
       "border_right": null,
       "border_top": null,
       "bottom": null,
       "display": null,
       "flex": null,
       "flex_flow": null,
       "grid_area": null,
       "grid_auto_columns": null,
       "grid_auto_flow": null,
       "grid_auto_rows": null,
       "grid_column": null,
       "grid_gap": null,
       "grid_row": null,
       "grid_template_areas": null,
       "grid_template_columns": null,
       "grid_template_rows": null,
       "height": null,
       "justify_content": null,
       "justify_items": null,
       "left": null,
       "margin": null,
       "max_height": null,
       "max_width": null,
       "min_height": null,
       "min_width": null,
       "object_fit": null,
       "object_position": null,
       "order": null,
       "overflow": null,
       "padding": null,
       "right": null,
       "top": null,
       "visibility": null,
       "width": null
      }
     },
     "8464173ca3f14b7695d932eb2177658c": {
      "model_module": "@jupyter-widgets/base",
      "model_module_version": "2.0.0",
      "model_name": "LayoutModel",
      "state": {
       "_model_module": "@jupyter-widgets/base",
       "_model_module_version": "2.0.0",
       "_model_name": "LayoutModel",
       "_view_count": null,
       "_view_module": "@jupyter-widgets/base",
       "_view_module_version": "2.0.0",
       "_view_name": "LayoutView",
       "align_content": null,
       "align_items": null,
       "align_self": null,
       "border_bottom": null,
       "border_left": null,
       "border_right": null,
       "border_top": null,
       "bottom": null,
       "display": null,
       "flex": null,
       "flex_flow": null,
       "grid_area": null,
       "grid_auto_columns": null,
       "grid_auto_flow": null,
       "grid_auto_rows": null,
       "grid_column": null,
       "grid_gap": null,
       "grid_row": null,
       "grid_template_areas": null,
       "grid_template_columns": null,
       "grid_template_rows": null,
       "height": null,
       "justify_content": null,
       "justify_items": null,
       "left": null,
       "margin": null,
       "max_height": null,
       "max_width": null,
       "min_height": null,
       "min_width": null,
       "object_fit": null,
       "object_position": null,
       "order": null,
       "overflow": null,
       "padding": null,
       "right": null,
       "top": null,
       "visibility": null,
       "width": null
      }
     },
     "9641e8d100a149bcb65804e6eefdab1f": {
      "model_module": "@jupyter-widgets/base",
      "model_module_version": "2.0.0",
      "model_name": "LayoutModel",
      "state": {
       "_model_module": "@jupyter-widgets/base",
       "_model_module_version": "2.0.0",
       "_model_name": "LayoutModel",
       "_view_count": null,
       "_view_module": "@jupyter-widgets/base",
       "_view_module_version": "2.0.0",
       "_view_name": "LayoutView",
       "align_content": null,
       "align_items": null,
       "align_self": null,
       "border_bottom": null,
       "border_left": null,
       "border_right": null,
       "border_top": null,
       "bottom": null,
       "display": null,
       "flex": null,
       "flex_flow": null,
       "grid_area": null,
       "grid_auto_columns": null,
       "grid_auto_flow": null,
       "grid_auto_rows": null,
       "grid_column": null,
       "grid_gap": null,
       "grid_row": null,
       "grid_template_areas": null,
       "grid_template_columns": null,
       "grid_template_rows": null,
       "height": null,
       "justify_content": null,
       "justify_items": null,
       "left": null,
       "margin": null,
       "max_height": null,
       "max_width": null,
       "min_height": null,
       "min_width": null,
       "object_fit": null,
       "object_position": null,
       "order": null,
       "overflow": null,
       "padding": null,
       "right": null,
       "top": null,
       "visibility": null,
       "width": null
      }
     },
     "9b80141b8b5f46f7a38bf042d37fafba": {
      "model_module": "@jupyter-widgets/output",
      "model_module_version": "1.0.0",
      "model_name": "OutputModel",
      "state": {
       "_dom_classes": [],
       "_model_module": "@jupyter-widgets/output",
       "_model_module_version": "1.0.0",
       "_model_name": "OutputModel",
       "_view_count": null,
       "_view_module": "@jupyter-widgets/output",
       "_view_module_version": "1.0.0",
       "_view_name": "OutputView",
       "layout": "IPY_MODEL_68a7182acffd47e6939126f99fa15bcb",
       "msg_id": "",
       "outputs": [
        {
         "data": {
          "image/png": "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",
          "text/plain": "<Figure size 600x400 with 1 Axes>"
         },
         "metadata": {},
         "output_type": "display_data"
        }
       ],
       "tabbable": null,
       "tooltip": null
      }
     },
     "a31bb389e44248be981370b8f941fb84": {
      "model_module": "@jupyter-widgets/controls",
      "model_module_version": "2.0.0",
      "model_name": "VBoxModel",
      "state": {
       "_dom_classes": [
        "widget-interact"
       ],
       "_model_module": "@jupyter-widgets/controls",
       "_model_module_version": "2.0.0",
       "_model_name": "VBoxModel",
       "_view_count": null,
       "_view_module": "@jupyter-widgets/controls",
       "_view_module_version": "2.0.0",
       "_view_name": "VBoxView",
       "box_style": "",
       "children": [
        "IPY_MODEL_49c419116b2841b6919b9bb7e0c91d80",
        "IPY_MODEL_2ecad8a3a51647ee8a1df8711cb131a9",
        "IPY_MODEL_271001b74a0c48aa9cb020c9983fee3b"
       ],
       "layout": "IPY_MODEL_8464173ca3f14b7695d932eb2177658c",
       "tabbable": null,
       "tooltip": null
      }
     },
     "c19cf8e02faa45c1be709c30a51ca812": {
      "model_module": "@jupyter-widgets/controls",
      "model_module_version": "2.0.0",
      "model_name": "SliderStyleModel",
      "state": {
       "_model_module": "@jupyter-widgets/controls",
       "_model_module_version": "2.0.0",
       "_model_name": "SliderStyleModel",
       "_view_count": null,
       "_view_module": "@jupyter-widgets/base",
       "_view_module_version": "2.0.0",
       "_view_name": "StyleView",
       "description_width": "",
       "handle_color": null
      }
     },
     "cc7dbccc3d3d4f68aca0445d916dd37e": {
      "model_module": "@jupyter-widgets/controls",
      "model_module_version": "2.0.0",
      "model_name": "SliderStyleModel",
      "state": {
       "_model_module": "@jupyter-widgets/controls",
       "_model_module_version": "2.0.0",
       "_model_name": "SliderStyleModel",
       "_view_count": null,
       "_view_module": "@jupyter-widgets/base",
       "_view_module_version": "2.0.0",
       "_view_name": "StyleView",
       "description_width": "",
       "handle_color": null
      }
     },
     "dc609d8f7cd440b5bd94c7a2afea1c12": {
      "model_module": "@jupyter-widgets/controls",
      "model_module_version": "2.0.0",
      "model_name": "SliderStyleModel",
      "state": {
       "_model_module": "@jupyter-widgets/controls",
       "_model_module_version": "2.0.0",
       "_model_name": "SliderStyleModel",
       "_view_count": null,
       "_view_module": "@jupyter-widgets/base",
       "_view_module_version": "2.0.0",
       "_view_name": "StyleView",
       "description_width": "",
       "handle_color": null
      }
     },
     "e5bf06b7d72741a8b8922a738c22d47b": {
      "model_module": "@jupyter-widgets/controls",
      "model_module_version": "2.0.0",
      "model_name": "SliderStyleModel",
      "state": {
       "_model_module": "@jupyter-widgets/controls",
       "_model_module_version": "2.0.0",
       "_model_name": "SliderStyleModel",
       "_view_count": null,
       "_view_module": "@jupyter-widgets/base",
       "_view_module_version": "2.0.0",
       "_view_name": "StyleView",
       "description_width": "",
       "handle_color": null
      }
     },
     "f0106f2966de4623bc6682c3f1ff00c3": {
      "model_module": "@jupyter-widgets/controls",
      "model_module_version": "2.0.0",
      "model_name": "VBoxModel",
      "state": {
       "_dom_classes": [
        "widget-interact"
       ],
       "_model_module": "@jupyter-widgets/controls",
       "_model_module_version": "2.0.0",
       "_model_name": "VBoxModel",
       "_view_count": null,
       "_view_module": "@jupyter-widgets/controls",
       "_view_module_version": "2.0.0",
       "_view_name": "VBoxView",
       "box_style": "",
       "children": [
        "IPY_MODEL_302b8773e4234936b248ce175c778913",
        "IPY_MODEL_7cd3a28728c8420a8fbb2c4e8e56f299",
        "IPY_MODEL_01235cf5036f44f3afe47f2e5cdc712a"
       ],
       "layout": "IPY_MODEL_8161ac5c89e64bad95acb796ebca78f5",
       "tabbable": null,
       "tooltip": null
      }
     },
     "ff2f22f8b7344cb9b40a741d6629e779": {
      "model_module": "@jupyter-widgets/base",
      "model_module_version": "2.0.0",
      "model_name": "LayoutModel",
      "state": {
       "_model_module": "@jupyter-widgets/base",
       "_model_module_version": "2.0.0",
       "_model_name": "LayoutModel",
       "_view_count": null,
       "_view_module": "@jupyter-widgets/base",
       "_view_module_version": "2.0.0",
       "_view_name": "LayoutView",
       "align_content": null,
       "align_items": null,
       "align_self": null,
       "border_bottom": null,
       "border_left": null,
       "border_right": null,
       "border_top": null,
       "bottom": null,
       "display": null,
       "flex": null,
       "flex_flow": null,
       "grid_area": null,
       "grid_auto_columns": null,
       "grid_auto_flow": null,
       "grid_auto_rows": null,
       "grid_column": null,
       "grid_gap": null,
       "grid_row": null,
       "grid_template_areas": null,
       "grid_template_columns": null,
       "grid_template_rows": null,
       "height": null,
       "justify_content": null,
       "justify_items": null,
       "left": null,
       "margin": null,
       "max_height": null,
       "max_width": null,
       "min_height": null,
       "min_width": null,
       "object_fit": null,
       "object_position": null,
       "order": null,
       "overflow": null,
       "padding": null,
       "right": null,
       "top": null,
       "visibility": null,
       "width": null
      }
     }
    },
    "version_major": 2,
    "version_minor": 0
   }
  }
 },
 "nbformat": 4,
 "nbformat_minor": 5
}