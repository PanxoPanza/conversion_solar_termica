{
 "cells": [
  {
   "cell_type": "code",
   "execution_count": 1,
   "id": "3c597da7",
   "metadata": {
    "slideshow": {
     "slide_type": "skip"
    },
    "tags": [
     "remove-cell"
    ]
   },
   "outputs": [],
   "source": [
    "import importlib.util\n",
    "if importlib.util.find_spec('empylib') is None:\n",
    "    !pip install git+https://github.com/PanxoPanza/empylib.git"
   ]
  },
  {
   "cell_type": "markdown",
   "id": "6fb7c940",
   "metadata": {
    "slideshow": {
     "slide_type": "slide"
    }
   },
   "source": [
    "# Ondas electromagnéticas en la materia"
   ]
  },
  {
   "cell_type": "markdown",
   "id": "61b0f1b1",
   "metadata": {
    "slideshow": {
     "slide_type": "slide"
    }
   },
   "source": [
    "## Características principales de una onda en un medio"
   ]
  },
  {
   "cell_type": "markdown",
   "id": "9c9eae7b",
   "metadata": {
    "cell_style": "center",
    "slideshow": {
     "slide_type": "slide"
    }
   },
   "source": [
    "### Ecuaciones de Maxwell\n",
    "La materia esta compuesta por cargas (electrones, átomos, moléculas). Por lo tanto, a diferencia del vacío, la densidad de carga ($\\rho$) y de corriente ($\\vec{J}$) eléctricas están presentes en las ecuaciones de Maxwell:\n",
    "\n",
    "\\begin{align*}\n",
    "\\nabla\\cdot\\vec{E} &= \\frac{\\rho}{\\varepsilon_0} \\\\\n",
    "\\nabla\\cdot\\vec{B} &= 0 \\\\\n",
    "\\nabla\\times\\vec{E} &= -\\mu_0\\frac{\\partial \\vec{H}}{\\partial t} \\\\\n",
    "\\nabla\\times\\vec{H} &= \\vec{J} + \\varepsilon_0\\frac{\\partial \\vec{E}}{\\partial t}\n",
    "\\end{align*}"
   ]
  },
  {
   "cell_type": "markdown",
   "id": "9d58d7cd",
   "metadata": {
    "cell_style": "center",
    "slideshow": {
     "slide_type": "slide"
    }
   },
   "source": [
    "Asumiendo un medio homogéneo, podemos demostrar que las ecuaciones de Maxwell se pueden reescribir en la forma:\n",
    "\n",
    "\\begin{align*}\n",
    "\\nabla\\cdot\\vec{E} &= 0 \\\\\n",
    "\\nabla\\cdot\\vec{H} &= 0 \\\\\n",
    "\\nabla\\times\\vec{E} &= -\\mu_0\\frac{\\partial \\vec{H}}{\\partial t} \\\\\n",
    "\\nabla\\times\\vec{H} &= \\varepsilon_0 \\varepsilon\\frac{\\partial\\vec{E}}{\\partial t}\n",
    "\\end{align*}\n",
    "\n",
    "donde $\\varepsilon = \\varepsilon' + i\\varepsilon''$, es la **constante dieléctrica compleja**."
   ]
  },
  {
   "cell_type": "markdown",
   "id": "104dc93c",
   "metadata": {
    "cell_style": "center",
    "slideshow": {
     "slide_type": "fragment"
    }
   },
   "source": [
    "Estas ecuaciones tiene la misma forma que las ecuaciones de Maxwell en el vacío. Así las ondas EM en un medio también se comportan como onda transversales, con la condición $\\hat{k}\\perp \\hat{e} \\perp \\hat{h}$."
   ]
  },
  {
   "cell_type": "markdown",
   "id": "5fb00820",
   "metadata": {
    "slideshow": {
     "slide_type": "fragment"
    }
   },
   "source": [
    "**¿Qué representa la constante dielectrica compleja?**"
   ]
  },
  {
   "cell_type": "markdown",
   "id": "200b930b",
   "metadata": {
    "cell_style": "center",
    "slideshow": {
     "slide_type": "slide"
    }
   },
   "source": [
    "Los materiales están compuestos de átomos, con un núcleo positivo y electrones negativos. La interacción de la luz con las cargas eléctricas en la materia induce oscilaciones que generan dos efectos:\n",
    "\n",
    "- **Polarización**. Formación de *dipolos eléctricos (polo eléctrico positivo y otro negativo separados por una distancia $d$)* **La parte real de la constante dieléctrica ($\\varepsilon'$) representa la intesidad de la polarización** *y esta directamente relacionada con la capacitancia.*\n",
    "\n",
    "- **Disipación de energía.** Producto de las coliciones entre núcleos, electrones, o entre núcleos y electrones. **La parte imaginaria de la constante dieléctrica ($\\varepsilon''$) representa la magnitud de la disipación de energía.** *Esta directamente relacionada con la resistividad eléctrica.*\n",
    "\n",
    "<img src=\"./images/constante_dielectrica.png\" width=\"800px\" align= center>"
   ]
  },
  {
   "cell_type": "markdown",
   "id": "e214507b",
   "metadata": {
    "slideshow": {
     "slide_type": "slide"
    }
   },
   "source": [
    "### Relación de dispersión e íncide de refracción"
   ]
  },
  {
   "cell_type": "markdown",
   "id": "509cb58c",
   "metadata": {
    "slideshow": {
     "slide_type": "fragment"
    }
   },
   "source": [
    "El principal cambio en la propagación de ondas en la materia está en la **relación de dispersión** ($\\omega$ vs $k$). En este caso:\n",
    "\n",
    "\\begin{equation}\n",
    "k = N \\frac{\\omega}{c_0} = Nk_0\n",
    "\\end{equation}\n",
    "\n",
    "donde $N = \\sqrt{\\varepsilon} = n +i\\kappa$, es el **índice de refracción complejo**. Aquí, $n$ se conoce como el **índice de refracción**, y $\\kappa$ como **extinción**."
   ]
  },
  {
   "cell_type": "markdown",
   "id": "d8b62f08",
   "metadata": {
    "slideshow": {
     "slide_type": "slide"
    }
   },
   "source": [
    "El **índice de refracción complejo es una propiedad del material**. En general, este valor varía con la longitud de onda (o frecuencia). "
   ]
  },
  {
   "cell_type": "code",
   "execution_count": 2,
   "id": "b0232189",
   "metadata": {
    "cell_style": "split",
    "slideshow": {
     "slide_type": "fragment"
    },
    "tags": [
     "hide-input"
    ]
   },
   "outputs": [],
   "source": [
    "%%capture show1\n",
    "import empylib.nklib as nk\n",
    "import numpy as np\n",
    "import matplotlib.pyplot as plt\n",
    "\n",
    "lam = np.linspace(0.3,1.0,100) # espectro de longitudes de onda (en micrones)\n",
    "N   = nk.H2O(lam)             # índice de refracción complejo del oro\n",
    "\n",
    "plt.plot(lam,N.real,'-k' ,label='$n$')\n",
    "plt.plot(lam,N.imag,'--k',label='$\\kappa$')\n",
    "plt.xlabel('longitud de onda ($\\mu$m)')\n",
    "plt.ylabel('índice de refracción')\n",
    "plt.title('Índice de refracción del oro')\n",
    "plt.ylim(0)\n",
    "plt.legend()\n",
    "plt.show()"
   ]
  },
  {
   "cell_type": "code",
   "execution_count": 3,
   "id": "7fb87e64",
   "metadata": {
    "cell_style": "split",
    "tags": [
     "hide-input"
    ]
   },
   "outputs": [
    {
     "data": {
      "image/png": "[encoded data removed]",
      "text/plain": [
       "<Figure size 640x480 with 1 Axes>"
      ]
     },
     "metadata": {
      "filenames": {
       "image/png": "/mnt/c/Users/frami/OneDrive - Universidad Adolfo Ibanez/Teaching_courses/MEC501 - Manejo_y_Conversion_Energia_Solar/material_catedra/_build/jupyter_execute/02_ondas_EM_en_la_materia/02_ondas_EM_en_la_materia_12_0.png"
      }
     },
     "output_type": "display_data"
    }
   ],
   "source": [
    "show1()"
   ]
  },
  {
   "cell_type": "markdown",
   "id": "eba1c88d",
   "metadata": {
    "cell_style": "center",
    "slideshow": {
     "slide_type": "slide"
    }
   },
   "source": [
    "**Los materiales no metálicos, comúnmente, toman valores reales constantes en el espectro visible**:\n",
    "\n",
    "<img src=\"./images/refractive_index_table.png\" width=\"700px\" align= center>"
   ]
  },
  {
   "cell_type": "markdown",
   "id": "e9169102",
   "metadata": {
    "cell_style": "center",
    "slideshow": {
     "slide_type": "fragment"
    }
   },
   "source": [
    "\n",
    "**¿Que significa que el vector de onda sea complejo?**"
   ]
  },
  {
   "cell_type": "markdown",
   "id": "6f5a7f4c",
   "metadata": {
    "cell_style": "split",
    "slideshow": {
     "slide_type": "slide"
    }
   },
   "source": [
    "Analicemos la solución general de la ecuación de onda:\n",
    "\n",
    "\\begin{align*}\n",
    "\\vec{E} &= E_0 e^{i\\left(\\vec{k}\\cdot\\vec{r} - \\omega t\\right)} \\hat{e} \\\\\n",
    "&= E_0 e^{i\\left(Nk_0\\hat{k}\\cdot\\vec{r} - \\omega t\\right)} \\hat{e} \\\\\n",
    "&= E_0 e^{i\\left(nk_0\\hat{k}\\cdot\\vec{r} - \\omega t\\right)}e^{-\\left(\\kappa k_0\\hat{k}\\cdot\\vec{r}\\right)} \\hat{e}\n",
    "\\end{align*}\n",
    "\n",
    "- **$e^{i\\left(nk_0\\hat{k}\\cdot\\vec{r} - \\omega t\\right)}$, expresa la parte oscilatoria de la onda**. La longitud de onda en el medio, entonces, tiene la forma:\n",
    "\n",
    "\\begin{equation}\n",
    "\\lambda_n = \\lambda/n\n",
    "\\end{equation}\n",
    "\n",
    "- **$e^{-\\left(\\kappa k_0\\hat{k}\\cdot\\vec{r}\\right)}$, indica el decaimiento de la onda,** proporcional a la extinción $\\kappa$."
   ]
  },
  {
   "cell_type": "markdown",
   "id": "d057a134",
   "metadata": {
    "cell_style": "split",
    "slideshow": {
     "slide_type": "fragment"
    }
   },
   "source": [
    "Gráficamente, asumiendo $\\hat{k} = \\hat{z}$:\n",
    "\n",
    "<img src=\"./images/decaying_wave.png\" width=\"350px\" align= center>"
   ]
  },
  {
   "cell_type": "markdown",
   "id": "283414ae",
   "metadata": {
    "slideshow": {
     "slide_type": "slide"
    }
   },
   "source": [
    "El cambio en la longitud de onda en un material también implica un cambio en la **velocidad de propagación de la onda:**\n",
    "\n",
    "\\begin{equation}\n",
    "v_\\mathrm{p} = \\mathrm{Re}\\left(\\frac{\\omega}{k}\\right) = \\frac{c_0}{n}\\quad\\quad\\mathrm{Velocidad~en~un~medio~con~índice~de~refracción}~N\n",
    "\\end{equation}"
   ]
  },
  {
   "cell_type": "markdown",
   "id": "7e58bb79",
   "metadata": {
    "slideshow": {
     "slide_type": "fragment"
    }
   },
   "source": [
    "> Notar que para $n > 1$ la onda se mueve a una velocidad más lenta que en el vacío"
   ]
  },
  {
   "cell_type": "markdown",
   "id": "0baf3330",
   "metadata": {
    "cell_style": "center",
    "slideshow": {
     "slide_type": "slide"
    }
   },
   "source": [
    "### Amplitud del campo magnético\n",
    "\n",
    "Igualmente, la relación entre $H_0$ y $E_0$ también cambia a la forma \n",
    "\n",
    "$$H_0 = \\frac{E_0}{Z_0Z_r},$$\n",
    "\n",
    "donde $Z_r = \\sqrt{\\frac{1}{\\varepsilon}}$ es la **impedancia relativa**."
   ]
  },
  {
   "cell_type": "markdown",
   "id": "99583534",
   "metadata": {
    "slideshow": {
     "slide_type": "fragment"
    }
   },
   "source": [
    "> Notar que $H_0$ es un número complejo, aún cuando $E_0$ es real."
   ]
  },
  {
   "cell_type": "markdown",
   "id": "ee96f906",
   "metadata": {
    "slideshow": {
     "slide_type": "slide"
    }
   },
   "source": [
    "### Flujo de energía (Vector de Poynting)"
   ]
  },
  {
   "cell_type": "markdown",
   "id": "67a02823",
   "metadata": {
    "slideshow": {
     "slide_type": "fragment"
    }
   },
   "source": [
    "El decaimiento de la amplitud de $E_0$ debido a $\\kappa$ ocurre debido a la absorción de energía electromagnética en el material. Para cuantificar está pérdida de energía debemos analizar el **vector de Poynting**, $\\langle\\vec{S}\\rangle = \\frac{1}{2}\\mathrm{Re}\\left(\\vec{E}\\times\\vec{H}^*\\right)$."
   ]
  },
  {
   "cell_type": "markdown",
   "id": "697376f8",
   "metadata": {
    "slideshow": {
     "slide_type": "fragment"
    }
   },
   "source": [
    "En este caso:\n",
    "\\begin{equation}\n",
    "\\langle\\vec{S}\\rangle =\\frac{nE_0^2}{2Z_0}e^{-\\alpha\\left(\\hat{k}\\cdot\\vec{r}\\right)}\n",
    "\\end{equation}\n",
    "\n",
    "donde $\\alpha = \\frac{4\\pi\\kappa}{\\lambda}$ es el **coeficiente de absorpción**."
   ]
  },
  {
   "cell_type": "markdown",
   "id": "fa4db6ca",
   "metadata": {
    "slideshow": {
     "slide_type": "fragment"
    }
   },
   "source": [
    "Este parámetro representa la pérdida de energía en la longitud."
   ]
  },
  {
   "cell_type": "markdown",
   "id": "186e9f7e",
   "metadata": {
    "cell_style": "center",
    "slideshow": {
     "slide_type": "slide"
    }
   },
   "source": [
    "En resumen, en un medio con cargas eléctricas:\n",
    "1. $\\vec{E}$ y $\\vec{H}$ se comportan como ondas trasversales de la forma $\\propto e^{ i\\left(\\vec{k}\\cdot\\vec{r} - \\omega t\\right)}$.\n",
    "\n",
    "2. $\\vec{E}$, $\\vec{H}$ y $\\vec{k}$ son mutuamente perpendiculares. \n",
    "\n",
    "3. La relación de dispersión es $k = N\\frac{\\omega}{c_0},$ donde $N = n + i\\kappa$ es el índice de refracción complejo.\n",
    "\n",
    "4. $N =\\sqrt{\\varepsilon} =\\sqrt{\\varepsilon'+i\\varepsilon''}$, donde $\\varepsilon$ es la constante dieléctrica\n",
    "\n",
    "5. $\\vec{E}$ y $\\vec{H}$ se propagan a una velocidad constante $c = c_0/n$\n",
    "\n",
    "6. La longitud de onda en un medio cambia a $\\lambda_n = \\lambda/n$\n",
    "\n",
    "7. $\\kappa$ representa el decaimiento de la onda en el espacio.\n",
    "\n",
    "8. Las amplitudes de $\\vec{E}$ y $\\vec{H}$ están asociadas por la relación ${H}_0 = \\frac{E_0}{Z_0Z_r}$, donde $Z_r = \\frac{1}{\\sqrt{\\varepsilon}}$."
   ]
  },
  {
   "cell_type": "markdown",
   "id": "2767246e",
   "metadata": {
    "cell_style": "center",
    "slideshow": {
     "slide_type": "slide"
    }
   },
   "source": [
    "<img src=\"./images/em_wave_decaying.jpg\" width=\"400px\" align= center>\n",
    "\n",
    "<center> Esquema de una onda electromagnética en un material</center>"
   ]
  },
  {
   "cell_type": "markdown",
   "id": "c7339c10",
   "metadata": {
    "slideshow": {
     "slide_type": "slide"
    }
   },
   "source": [
    "## Reflexión y transmisión en una interfaz"
   ]
  },
  {
   "cell_type": "markdown",
   "id": "de2f10ea",
   "metadata": {
    "slideshow": {
     "slide_type": "slide"
    }
   },
   "source": [
    "### Maxwell en la interfaz entre dos medios"
   ]
  },
  {
   "cell_type": "markdown",
   "id": "f7b45112",
   "metadata": {
    "slideshow": {
     "slide_type": "fragment"
    }
   },
   "source": [
    "Hasta ahora hemos revisado las ecuaciones de Maxwell en un medio homogeneo, y como estas dan lugar a la solución en forma de ondas electromagnéticas.\n",
    "\n",
    "> Recordemos que para un medio con índice de refracción $N$, la solución general es:\n",
    ">\n",
    ">\\begin{align*}\n",
    "\\vec{E} &= E_0 e^{i\\left(Nk_0\\hat{k}\\cdot\\vec{r} - \\omega t\\right)} \\hat{e} \\\\\n",
    "\\vec{H} &= \\frac{NE_0}{Z_0} e^{i\\left(Nk_0\\hat{k}\\cdot\\vec{r} - \\omega t\\right)} \\hat{k}\\times\\hat{e}\n",
    "\\end{align*}"
   ]
  },
  {
   "cell_type": "markdown",
   "id": "22a61931",
   "metadata": {
    "slideshow": {
     "slide_type": "slide"
    }
   },
   "source": [
    "**¿Que sucede cuando una onda electromagnética encuentra la frontera entre dos medios distintos?**"
   ]
  },
  {
   "cell_type": "markdown",
   "id": "d557ddef",
   "metadata": {
    "slideshow": {
     "slide_type": "fragment"
    }
   },
   "source": [
    "Como toda ecuación diferencial, la solución particular de las ecuaciones de Maxwell está definida por las **condiciones de borde**. La derivación, que no revisaremos aquí, da lugar a 4 condiciones de borde. Sin embargo, para los problemas que veremos en este curso solo se necesitan dos:\n",
    "\n",
    "\\begin{align*}\n",
    "E^{\\parallel}_1 - E^{\\parallel}_2 &= 0 \\\\\n",
    "H^{\\parallel}_1 - H^{\\parallel}_2 &= 0\n",
    "\\end{align*}\n",
    "\n",
    "donde $1$ y $2$ son dos medios distintos, y el símbolo $\\parallel$ representa la componente paralela a la interfaz entre los medios $1$ y $2$"
   ]
  },
  {
   "cell_type": "markdown",
   "id": "ed38561f",
   "metadata": {
    "slideshow": {
     "slide_type": "fragment"
    }
   },
   "source": [
    ">**Las componentes de $\\vec{E}$ y $\\vec{H}$ paralelas a la interfaz entre dos medios $1$ y $2$, se conservan.**"
   ]
  },
  {
   "cell_type": "markdown",
   "id": "231fa2b7",
   "metadata": {
    "slideshow": {
     "slide_type": "fragment"
    }
   },
   "source": [
    "Estas condiciones de borde nos darán la base para entender los fenómenos de refracción y reflección."
   ]
  },
  {
   "cell_type": "markdown",
   "id": "29746567",
   "metadata": {
    "slideshow": {
     "slide_type": "slide"
    }
   },
   "source": [
    "### Coeficientes de Fresnel"
   ]
  },
  {
   "cell_type": "markdown",
   "id": "b162d332",
   "metadata": {
    "cell_style": "split",
    "slideshow": {
     "slide_type": "fragment"
    }
   },
   "source": [
    "Consideremos una onda electromagnetética en dirección $\\hat{k}_i$ que incide sobre la interfaz entre dos medios 1 y 2, con índices de refracción reales $n_1$ y $n_2$, respectivamente\n",
    "\n",
    "Definimos como $\\hat{n}$ al vector normal al plano a la interfaz entre los dos medios, y como **plano de incidencia,** al plano formado por los vectores $\\hat{k}_i$ y $\\hat{n}$.\n",
    "\n",
    "La dirección de la onda reflejada y transmitida está definida por los vectores $\\hat{k}_r$ y $\\hat{k}_t$, respectivamente."
   ]
  },
  {
   "cell_type": "markdown",
   "id": "e9ca295b",
   "metadata": {
    "cell_style": "split"
   },
   "source": [
    "<img src=\"./images/plano_incidencia.png\" width=\"350px\" align= center>"
   ]
  },
  {
   "cell_type": "markdown",
   "id": "6860f66d",
   "metadata": {
    "slideshow": {
     "slide_type": "slide"
    }
   },
   "source": [
    "A partir de la dirección de $\\vec{E}$ y $\\vec{H}$ respecto al plano de incidencia, podemos distunguir dos polarizaciones:\n",
    "\n",
    "- Si **$\\vec{H}$ oscila en dirección perpendicular al plano de incidencia**, hablamos de una **polarización transversal magnética o TM**.\n",
    "\n",
    "- Si **$\\vec{E}$ oscila en dirección perpendicular al plano de incidencia**, hablamos de una **polarización transversal eléctrica o TE**."
   ]
  },
  {
   "cell_type": "markdown",
   "id": "f14a4173",
   "metadata": {
    "cell_style": "split",
    "slideshow": {
     "slide_type": "slide"
    }
   },
   "source": [
    "Como ejemplo, consideremos una **onda transversal magnética (TM)**\n",
    "\n",
    "<img src=\"./images/em_reflection.png\" width=\"350px\" align= center>\n",
    "\n",
    "La figura muestra la reflexión y transmisión de la onda visto desde el plano de incidencia"
   ]
  },
  {
   "cell_type": "markdown",
   "id": "780de9d4",
   "metadata": {
    "cell_style": "split",
    "slideshow": {
     "slide_type": "fragment"
    }
   },
   "source": [
    "A través de las ecuaciones de Maxwell, podemos establecer la solución general para cada onda electromagnética:\n",
    "\n",
    "\\begin{align*}\n",
    "\\vec{E}_i &= E_i e^{ i\\left(k_0n_1\\hat{k}_i\\cdot\\vec{r} - \\omega t\\right)} \\hat{e}_i\\quad\\quad \\mathrm{onda~incidente}\n",
    " \\\\\n",
    "\\vec{E}_r &= E_r e^{ i\\left(k_0n_1\\hat{k}_r\\cdot\\vec{r} - \\omega t\\right)} \\hat{e}_r\\quad\\quad \\mathrm{onda~reflejada}\n",
    "\\\\\n",
    "\\vec{E}_t &= E_t e^{ i\\left(k_0n_2\\hat{k}_t\\cdot\\vec{r} - \\omega t\\right)} \\hat{e}_t\\quad\\quad \n",
    "\\mathrm{onda~transmitida}\n",
    "\\end{align*}\n",
    "\n",
    "donde:\n",
    "\n",
    "\\begin{eqnarray*}\n",
    "\\hat{k}_i &=& \\hat{x}\\sin\\theta_i + \\hat{z}\\cos\\theta_i \n",
    "&\\quad\\mathrm{y}\\quad& \n",
    "\\hat{e}_i &=& \\hat{x}\\cos\\theta_i - \\hat{z}\\sin\\theta_i\n",
    "\\\\\n",
    "\\hat{k}_r &=& \\hat{x}\\sin\\theta_r - \\hat{z}\\cos\\theta_r\n",
    "&\\quad\\mathrm{y}\\quad& \n",
    "\\hat{e}_r &=& \\hat{x}\\cos\\theta_r + \\hat{z}\\sin\\theta_r\n",
    "\\\\\n",
    "\\hat{k}_t &=& \\hat{x}\\sin\\theta_t + \\hat{z}\\cos\\theta_t\n",
    "&\\quad\\mathrm{y}\\quad& \n",
    "\\hat{e}_t &=& \\hat{x}\\cos\\theta_t - \\hat{z}\\sin\\theta_t\n",
    "\\end{eqnarray*}"
   ]
  },
  {
   "cell_type": "markdown",
   "id": "4476682a",
   "metadata": {
    "cell_style": "center",
    "slideshow": {
     "slide_type": "slide"
    }
   },
   "source": [
    "Reemplazando en las soluciones generales,\n",
    "\n",
    "\\begin{eqnarray*}\n",
    "\\vec{E}_i &=& E_i e^{ ik_0n_1\\left(z\\cos\\theta_i + x\\sin\\theta_i\\right)}e^{-i\\omega t} \\left(\\hat{x}\\cos\\theta_i -\\hat{z}\\sin\\theta_i\\right)\\quad\\quad &&\\mathrm{onda~incidente}\n",
    " \\\\\n",
    "\\vec{E}_r &=& E_r e^{ ik_0n_1\\left(-z\\cos\\theta_r + x\\sin\\theta_r\\right)}e^{-i\\omega t} \\left(\\hat{x}\\cos\\theta_r +\\hat{z}\\sin\\theta_r\\right)\\quad\\quad &&\\mathrm{onda~reflejada}\n",
    "\\\\\n",
    "\\vec{E}_t &=& E_t e^{ ik_0n_2\\left(z\\cos\\theta_t + x\\sin\\theta_t\\right)}e^{-i\\omega t} \\left(\\hat{x}\\cos\\theta_t -\\hat{z}\\sin\\theta_t\\right)\\quad\\quad \n",
    "&&\\mathrm{onda~transmitida}\n",
    "\\end{eqnarray*}"
   ]
  },
  {
   "cell_type": "markdown",
   "id": "fe89145b",
   "metadata": {
    "slideshow": {
     "slide_type": "fragment"
    }
   },
   "source": [
    "De igual forma, a partir de la relación $\\vec{H} = \\frac{E}{Z_0Z_r}\\left(\\hat{k}\\times\\hat{e}\\right)$,\n",
    "\n",
    "\\begin{eqnarray*}\n",
    "\\vec{H}_i &=& \\frac{n_1E_i}{Z_0}e^{ ik_0n_1\\left(z\\cos\\theta_i + x\\sin\\theta_i\\right)}e^{-i\\omega t}\\left(\\hat{y}\\right)\\quad\\quad &&\\mathrm{onda~incidente}\n",
    " \\\\\n",
    "\\vec{H}_r &=& \\frac{n_1E_r}{Z_0} e^{ ik_0n_1\\left(-z\\cos\\theta_r + x\\sin\\theta_r\\right)}e^{-i\\omega t} \\left(-\\hat{y}\\right)\\quad\\quad &&\\mathrm{onda~reflejada}\n",
    "\\\\\n",
    "\\vec{H}_t &=& \\frac{n_2E_t}{Z_0} e^{ ik_0n_2\\left(z\\cos\\theta_t + x\\sin\\theta_t\\right)}e^{-i\\omega t} \\left(\\hat{y}\\right)\\quad\\quad \n",
    "&&\\mathrm{onda~transmitida}\n",
    "\\end{eqnarray*}"
   ]
  },
  {
   "cell_type": "markdown",
   "id": "dc334364",
   "metadata": {
    "slideshow": {
     "slide_type": "slide"
    }
   },
   "source": [
    "A partir de la condición de borde en la interfaz $z =0$:\n",
    "\n",
    "$$E^{\\parallel}_1|_{z=0} - E^{\\parallel}_2|_{z=0} = 0$$"
   ]
  },
  {
   "cell_type": "markdown",
   "id": "3b3ade24",
   "metadata": {
    "slideshow": {
     "slide_type": "fragment"
    }
   },
   "source": [
    "Tenemos:\n",
    "\n",
    "\\begin{equation}\n",
    "E_i\\cos\\theta_i e^{ ik_0n_1x\\sin\\theta_i}+E_r\\cos\\theta_r e^{ ik_0n_1x\\sin\\theta_r} - E_t\\cos\\theta_t e^{ ik_0n_1x\\sin\\theta_t} = 0\n",
    "\\end{equation}"
   ]
  },
  {
   "cell_type": "markdown",
   "id": "06d82130",
   "metadata": {
    "slideshow": {
     "slide_type": "fragment"
    }
   },
   "source": [
    "Dado que esta ecuación se debe satisfacer para cualquier punto $x$, los exponentes debe ser iguales:\n",
    "\n",
    "\\begin{equation*}\n",
    "n_1\\sin\\theta_i = n_1\\sin\\theta_r = n_2\\sin\\theta_t\n",
    "\\end{equation*}"
   ]
  },
  {
   "cell_type": "markdown",
   "id": "d24178a8",
   "metadata": {
    "slideshow": {
     "slide_type": "slide"
    }
   },
   "source": [
    "Esto nos lleva a las **leyes de Snell**, para reflexión y transmisión, válidas para una interfaz lisa:\n",
    "\n",
    "\\begin{equation}\n",
    "\\theta_i = \\theta_r\\quad\\quad\\mathrm{y}\\quad\\quad n_1\\sin\\theta_i = n_2\\sin\\theta_t\n",
    "\\end{equation}"
   ]
  },
  {
   "cell_type": "markdown",
   "id": "4014dbff",
   "metadata": {
    "slideshow": {
     "slide_type": "fragment"
    }
   },
   "source": [
    "La primera ($\\theta_i = \\theta_r$), indica que el ángulo de reflexión es siempre igual al ángulo de incidencia."
   ]
  },
  {
   "cell_type": "markdown",
   "id": "9f49b20c",
   "metadata": {
    "slideshow": {
     "slide_type": "fragment"
    }
   },
   "source": [
    "La segunda ($n_1\\sin\\theta_i = n_2\\sin\\theta_t$), indica el ángulo de transmisión de una onda EM al atravesar por un medio distinto\n",
    "\n",
    "<img src=\"./images/refraction.png\" width=\"700px\" align= center>"
   ]
  },
  {
   "cell_type": "markdown",
   "id": "ebaf7f99",
   "metadata": {
    "slideshow": {
     "slide_type": "slide"
    }
   },
   "source": [
    "Aplicando la ley de Snell en la condición de borde del campo eléctrico (Eq. 2.5):\n",
    "\n",
    "\\begin{equation}\\label{eq:boundaryE}\n",
    "E_i\\cos\\theta_i +E_r\\cos\\theta_r  - E_t\\cos\\theta_t = 0\n",
    "\\end{equation}"
   ]
  },
  {
   "cell_type": "markdown",
   "id": "7ee20184",
   "metadata": {
    "slideshow": {
     "slide_type": "fragment"
    }
   },
   "source": [
    "De igual forma, de la condición de borde $H^{\\parallel}_1 - H^{\\parallel}_2 = 0$, deducimos:\n",
    "\n",
    "\\begin{equation}\n",
    "n_1E_i - n_1E_r  - n_2E_t = 0 \\label{eq:boundaryH}\n",
    "\\end{equation}"
   ]
  },
  {
   "cell_type": "markdown",
   "id": "b988e005",
   "metadata": {
    "slideshow": {
     "slide_type": "slide"
    }
   },
   "source": [
    "A partir de estas dos ecuaciones, determinamos **los coeficientes de Fresnel de reflexión ($r_\\mathrm{TM}$) y transmisión ($t_\\mathrm{TM}$) para una onda TM**:\n",
    "\n",
    "\\begin{align}\n",
    "r_\\mathrm{TM} &= \\frac{E_r^\\mathrm{TM}}{E_i^\\mathrm{TM}} = \\frac{n_1\\cos\\theta_t-n_2\\cos\\theta_i}\n",
    "{n_1\\cos\\theta_t+n_2\\cos\\theta_i}\n",
    "\\\\[10pt]\n",
    "t_\\mathrm{TM} &= \\frac{E_t^\\mathrm{TM}}{E_i^\\mathrm{TM}} =\\frac{2n_1\\cos\\theta_t}\n",
    "{n_1\\cos\\theta_t+n_2\\cos\\theta_i}\n",
    "\\end{align}"
   ]
  },
  {
   "cell_type": "markdown",
   "id": "6b9df308",
   "metadata": {
    "slideshow": {
     "slide_type": "fragment"
    }
   },
   "source": [
    "Mediante un procedimiento similar, podemos determinar **los coeficientes de Fresnel de reflexión ($r_\\mathrm{TE}$) y transmisión ($t_\\mathrm{TE}$) para una onda TE**:\n",
    "\n",
    "\\begin{align}\n",
    "r_\\mathrm{TE} &= \\frac{E_r^\\mathrm{TE}}{E_i^\\mathrm{TE}} = \\frac{n_1\\cos\\theta_i -n_2\\cos\\theta_t}\n",
    "{n_1\\cos\\theta_i+n_2\\cos\\theta_t}\n",
    "\\\\[10pt]\n",
    "t_\\mathrm{TE} &= \\frac{E_t^\\mathrm{TE}}{E_i^\\mathrm{TE}} = \\frac{2n_1\\cos\\theta_i}\n",
    "{n_1\\cos\\theta_i+n_2\\cos\\theta_t}\n",
    "\\end{align}"
   ]
  },
  {
   "cell_type": "markdown",
   "id": "0f85e108",
   "metadata": {
    "slideshow": {
     "slide_type": "slide"
    }
   },
   "source": [
    ">Las relaciones para los coeficientes de Fresnel se mantienen para índices de refracción complejos. En este caso, solo debemos reemplazar $n_1$ por $N_1$, y $n_2$ por $N_2$"
   ]
  },
  {
   "cell_type": "markdown",
   "id": "6e1bbe42",
   "metadata": {
    "cell_style": "center",
    "slideshow": {
     "slide_type": "slide"
    }
   },
   "source": [
    "### Reflectividad y transmisividad"
   ]
  },
  {
   "cell_type": "markdown",
   "id": "3502a921",
   "metadata": {
    "cell_style": "center"
   },
   "source": [
    "Los coeficientes de Fresnel permiten determinar la magnitud del campo eléctrico (y magnético) reflejado y transmitido por una interfaz. Para determinar el flujo de energía a través de la interfaz, utilizamos el vector de Poynting. En el caso de la onda $\\mathrm{TM}$, y considerando el caso más general con indices de refracción complejos en los medios 1 y 2:\n",
    "\n",
    "\\begin{eqnarray*}\n",
    "\\biggl\\langle{\\vec{S}_i^\\mathrm{TM}}\\biggl\\rangle &=& \\frac{1}{2}\\mathrm{Re}\\left[\\vec{E}_i\\times\\vec{H}_i^*\\right] &=& \\mathrm{Re}\\left[N_1^* \\hat{k}_i\\right]\\frac{{\\left(E_i^\\mathrm{TM}\\right)}^2}{2Z_0}\n",
    "\\\\\n",
    "\\biggl\\langle{\\vec{S}_r^\\mathrm{TM}}\\biggl\\rangle &=& \\frac{1}{2}\\mathrm{Re}\\left[\\vec{E}_r\\times\\vec{H}_r^*\\right] &=& \\mathrm{Re}\\left[N_1^* \\hat{k}_r\\right]\\frac{{\\left(E_r^\\mathrm{TM}\\right)}^2}{2Z_0}\n",
    "\\\\\n",
    "\\biggl\\langle{\\vec{S}_t^\\mathrm{TM}}\\biggl\\rangle &=& \\frac{1}{2}\\mathrm{Re}\\left[\\vec{E}_t\\times\\vec{H}_t^*\\right] &=& \\mathrm{Re}\\left[N_2^* \\hat{k}_t\\right]\\frac{{\\left(E_t^\\mathrm{TM}\\right)}^2}{2Z_0}\n",
    "\\end{eqnarray*}"
   ]
  },
  {
   "cell_type": "markdown",
   "id": "ccd07a27",
   "metadata": {
    "cell_style": "center",
    "slideshow": {
     "slide_type": "slide"
    }
   },
   "source": [
    "La **reflectividad ($R$)** y **transmissivitdad ($T$)** se definen, repectivamente, como **el flujo de energía reflejada y transmitida relativa al flujo de energía incidente, y en dirección normal a la interfaz.** "
   ]
  },
  {
   "cell_type": "markdown",
   "id": "5d579128",
   "metadata": {
    "cell_style": "center",
    "slideshow": {
     "slide_type": "fragment"
    }
   },
   "source": [
    "Estamos interesados en el flujo de energía a través de la interfaz. Así, consideramos la componente del vector de Poynting paralela a $\\hat{n}$ (notar que $\\hat{n} = - \\hat{z}$ en nuestro ejemplo), de donde obtenemos:\n",
    "\n",
    "**Onda con polarización TM**\n",
    "\\begin{eqnarray}\n",
    "R_\\mathrm{TM} &=& \\frac{S_{r,z}^\\mathrm{TM}}{S_{i,z}^\\mathrm{TM}} &=& \\lvert r_\\mathrm{TM}\\rvert^2\n",
    "\\\\[10pt]\n",
    "T_\\mathrm{TM} &=& \\frac{S_{t,z}^\\mathrm{TM}}{S_{i,z}^\\mathrm{TM}} &=& \\frac{\\mathrm{Re}\\left(N_2^*\\cos\\theta_t\\right)}{\\mathrm{Re}\\left(N_1^*\\cos\\theta_i\\right)}\\lvert t_\\mathrm{TM}\\rvert^2\n",
    "\\end{eqnarray}"
   ]
  },
  {
   "cell_type": "markdown",
   "id": "2f057d84",
   "metadata": {
    "cell_style": "center",
    "slideshow": {
     "slide_type": "fragment"
    }
   },
   "source": [
    "**Onda con polarización TE**\n",
    "\n",
    "\\begin{eqnarray}\n",
    "R_\\mathrm{TE} &=& \\lvert r_\\mathrm{TE}\\rvert^2\n",
    "\\\\[10pt]\n",
    "T_\\mathrm{TE} &=& \\frac{\\mathrm{Re}\\left(N_2\\cos\\theta_t\\right)}{\\mathrm{Re}\\left(N_1\\cos\\theta_i\\right)}\\lvert t_\\mathrm{TE}\\rvert^2\n",
    "\\end{eqnarray}"
   ]
  },
  {
   "cell_type": "markdown",
   "id": "27f6fc55",
   "metadata": {
    "slideshow": {
     "slide_type": "fragment"
    }
   },
   "source": [
    "Notar que por conservación de energía:\n",
    "\\begin{equation}\n",
    "R + T = 1\n",
    "\\end{equation}"
   ]
  },
  {
   "cell_type": "markdown",
   "id": "187bf3c4",
   "metadata": {
    "slideshow": {
     "slide_type": "slide"
    }
   },
   "source": [
    "### Casos particulares"
   ]
  },
  {
   "cell_type": "markdown",
   "id": "071f50fa",
   "metadata": {
    "cell_style": "center",
    "slideshow": {
     "slide_type": "-"
    }
   },
   "source": [
    "Asumiendo dos medios 1 y 2, con índice de refracción real, analicemos la reflectancia en función del ángulo de incidencia:\n",
    "- caso 1, $n_1 < n_2$\n",
    "- caso 2, $n_1 > n_2$"
   ]
  },
  {
   "cell_type": "code",
   "execution_count": 4,
   "id": "8d7bed6f",
   "metadata": {
    "cell_style": "split",
    "slideshow": {
     "slide_type": "slide"
    },
    "tags": [
     "hide-input"
    ]
   },
   "outputs": [],
   "source": [
    "import numpy as np\n",
    "from numpy import radians as rad # convertimos grados a radianes\n",
    "import matplotlib.pyplot as plt\n",
    "from empylib.waveoptics import interface\n",
    "\n",
    "theta = np.linspace(0,90,100) # Ángulo de incidencia\n",
    "\n",
    "# preparamos el ploteo\n",
    "def plot_R_interface(n1,n2):\n",
    "    \n",
    "    # Reflectividad en una interface\n",
    "    Rp = interface(rad(theta),n1,n2,pol='TM')[0] # TM\n",
    "    Rs = interface(rad(theta),n1,n2,pol='TE')[0] # TE\n",
    "    \n",
    "    fig, ax = plt.subplots()\n",
    "    fig.set_size_inches(5,3)\n",
    "    plt.rcParams['font.size'] = '14'\n",
    "    ax.plot(theta,Rp, label='$R_\\mathrm{TM}$', color='red')\n",
    "    ax.plot(theta,Rs, label='$R_\\mathrm{TE}$',color='blue')\n",
    "    ax.set_xlim([0,90])\n",
    "    ax.set_ylim([0,1.0])\n",
    "    ax.set_xlabel('Ángulo de incidencia (°)')\n",
    "    ax.set_ylabel('Reflectividad')\n",
    "    ax.legend(frameon=False)\n",
    "    plt.show()"
   ]
  },
  {
   "cell_type": "code",
   "execution_count": 5,
   "id": "42d89872",
   "metadata": {
    "cell_style": "split",
    "scrolled": false,
    "tags": [
     "hide-input"
    ]
   },
   "outputs": [
    {
     "data": {
      "application/vnd.jupyter.widget-view+json": {
       "model_id": "498a9e5e63664d3f862f78c44e75b1f7",
       "version_major": 2,
       "version_minor": 0
      },
      "text/plain": [
       "interactive(children=(FloatSlider(value=1.0, description='n1', max=5.0, min=1.0), FloatSlider(value=1.5, descr…"
      ]
     },
     "metadata": {},
     "output_type": "display_data"
    }
   ],
   "source": [
    "from ipywidgets import interact\n",
    "\n",
    "@interact( n1=(1,5, 0.1), n2=(1,5, 0.1))\n",
    "def g(n1=1.0, n2=1.5):\n",
    "    return plot_R_interface(n1,n2)"
   ]
  },
  {
   "cell_type": "markdown",
   "id": "63a4161a",
   "metadata": {
    "cell_style": "center",
    "slideshow": {
     "slide_type": "slide"
    }
   },
   "source": [
    "Cuando $n_1 < n_2$ vemos que $R_\\mathrm{TM} = 0$ en un cierto ángulo. Este ángulo se denomina **ángulo de Brewster.** En este ángulo solo la componente TE es reflejada. "
   ]
  },
  {
   "cell_type": "markdown",
   "id": "b5158912",
   "metadata": {
    "cell_style": "split",
    "slideshow": {
     "slide_type": "fragment"
    }
   },
   "source": [
    "Los lentes polarizados toman ventaja del ángulo de Brewster. Estos lentes están diseñados para bloquear las ondas TE, y de esta forma reducir el brillo enceguecedor generado por la reflección de la luz solar"
   ]
  },
  {
   "cell_type": "markdown",
   "id": "2edd4f05",
   "metadata": {
    "cell_style": "split",
    "slideshow": {
     "slide_type": "-"
    }
   },
   "source": [
    "<img src=\"./images/polarized_glasses.jpg\" width=\"350px\" align= center>"
   ]
  },
  {
   "cell_type": "markdown",
   "id": "8884b02f",
   "metadata": {
    "slideshow": {
     "slide_type": "fragment"
    }
   },
   "source": [
    "Así, si giramos los lentes en posición vertical (asumiento lentes con alto nivel de polarización), el efecto se invierte. Es decir, las ondas TE se transmiten y las TM no."
   ]
  },
  {
   "cell_type": "markdown",
   "id": "247f0d78",
   "metadata": {
    "slideshow": {
     "slide_type": "slide"
    }
   },
   "source": [
    "En el siguiente video, podemos ver el efecto de la polarización. Aquí, la luz no puede pasar a través de dos polarizadores cuando son oriententados en direcciones perpendiculares."
   ]
  },
  {
   "cell_type": "code",
   "execution_count": 6,
   "id": "79a6b530",
   "metadata": {
    "slideshow": {
     "slide_type": "fragment"
    },
    "tags": [
     "remove-input"
    ]
   },
   "outputs": [
    {
     "data": {
      "image/jpeg": "[encoded data removed]",
      "text/html": [
       "\n",
       "<iframe\n",
       "    width=\"600\"\n",
       "    height=\"400\"\n",
       "    src=\"https://www.youtube.com/embed/5SIxEiL8ujA?playsinline=0&start=0\"\n",
       "    frameborder=\"0\"\n",
       "    allowfullscreen\n",
       "\n",
       "></iframe>\n"
      ],
      "text/plain": [
       "<IPython.lib.display.YouTubeVideo at 0x7fa04fae2680>"
      ]
     },
     "execution_count": 6,
     "metadata": {
      "filenames": {
       "image/jpeg": "/mnt/c/Users/frami/OneDrive - Universidad Adolfo Ibanez/Teaching_courses/MEC501 - Manejo_y_Conversion_Energia_Solar/material_catedra/_build/jupyter_execute/02_ondas_EM_en_la_materia/02_ondas_EM_en_la_materia_68_0.jpg"
      }
     },
     "output_type": "execute_result"
    }
   ],
   "source": [
    "from IPython.display import YouTubeVideo\n",
    "YouTubeVideo('5SIxEiL8ujA', width=600, height=400,  playsinline=0, start=0)"
   ]
  },
  {
   "cell_type": "markdown",
   "id": "facd7e0b",
   "metadata": {
    "slideshow": {
     "slide_type": "slide"
    }
   },
   "source": [
    "Por otro lado, cuando $n_1 > n_2$, vemos que $R_\\mathrm{TM} = R_\\mathrm{TE} = 0$ sobre cierto ángulo. Este ángulo se denomina **ángulo crítico ($\\theta_c$).** Para deterinar el ángulo crítico usamos la ley de Snell."
   ]
  },
  {
   "cell_type": "markdown",
   "id": "65963ef2",
   "metadata": {
    "cell_style": "split"
   },
   "source": [
    "El ángulo máximo para la onda transmitida es $\\theta_t = 90^o$, la ley de Snell nos indica que existe un ángulo crítico. Sobre este valor, no existe solución real.\n",
    "\n",
    "\\begin{equation}\n",
    "n_1\\sin\\theta_c = n_2\\sin90^o \\Rightarrow \\theta_c = \\arcsin\\left(n_2/n_1\\right)\n",
    "\\end{equation}\n",
    "\n",
    "**Para $\\theta_i > \\theta_c$, $R_\\mathrm{TE} = R_\\mathrm{TM} = 1$.**"
   ]
  },
  {
   "cell_type": "markdown",
   "id": "34422d42",
   "metadata": {
    "cell_style": "split"
   },
   "source": [
    "Este mecanismo se llama **reflección interna total** y es la base para el funcionamiento de fibras ópticas y lasers\n",
    "<img src=\"./images/optical_fiber.png\" width=\"450px\" align= center>"
   ]
  },
  {
   "cell_type": "markdown",
   "id": "97022f4d",
   "metadata": {
    "slideshow": {
     "slide_type": "slide"
    }
   },
   "source": [
    "El siguiente video resume los procesos de reflexión interna total y refracción que ocurren producto del cambio en el índice de refracción."
   ]
  },
  {
   "cell_type": "markdown",
   "id": "ea8c883d",
   "metadata": {
    "cell_style": "split"
   },
   "source": [
    "En el ejemplo, la interfaz es entre agua ($N_\\mathrm{agua} =1.33$) y aceite ($N_\\mathrm{oil} = 1.47$). Al agregar sal al agua (parte final del video), se induce un cambio gradual del índice de refracción (fuente [@uaiphysics](https://www.instagram.com/uaiphysics/?hl=es))."
   ]
  },
  {
   "cell_type": "markdown",
   "id": "87f36b2d",
   "metadata": {
    "cell_style": "split"
   },
   "source": [
    "<center><video controls muted src=\"../_static/videos/refraccíon_uaiphysics.mp4\"  width=\"400px\" align=center></video></center>"
   ]
  },
  {
   "cell_type": "markdown",
   "id": "5536a48a",
   "metadata": {
    "slideshow": {
     "slide_type": "slide"
    }
   },
   "source": [
    "## Reflección y transmissión en películas delgadas\n",
    "En el caso materiales de película delgada, las ondas electromagnéticas se reflejan y transmiten múltiples veces.\n",
    "\n",
    "<img src=\"./images/reflectance_thinfilm.png\" width=\"600px\" align= center>"
   ]
  },
  {
   "cell_type": "markdown",
   "id": "6937e4c8",
   "metadata": {
    "slideshow": {
     "slide_type": "slide"
    }
   },
   "source": [
    "### Coeficientes de Fresnel\n",
    "\n",
    "Considerando los medios 1,2 y 3 ordenados consecutivamente en dirección de la onda incidente, con el medio 2 condicionado por un espesor $d$, se puede demostrar que en este caso los **coeficientes de Fresnel** son:\n",
    "\n",
    "\\begin{align}\n",
    "r &= \\frac{r_{12}+r_{23}e^{2i\\varphi_2}}\n",
    "          {1+r_{12}r_{23}e^{2i\\varphi_2}}\n",
    "\\\\[10pt]\n",
    "t &= \\frac{t_{12}t_{23}e^{i\\varphi_2}}\n",
    "          {1+r_{12}r_{23}e^{2i\\varphi_2}}\n",
    "\\end{align}\n",
    "\n",
    "donde $\\varphi_2 = N_2k_0d\\cos\\theta_2$ ($\\theta_2$ es el ángulo de transmisión en el medio 2); $r_{12}$, $r_{23}$ y $t_{12}$, $t_{23}$ son, respectivamente, los coeficientes de Fresnel desde el medio 1 al medio 2, y desde el medio 2 al medio 3. Estas fórmulas son válidas tanto para ondas TE como para ondas TM."
   ]
  },
  {
   "cell_type": "markdown",
   "id": "de766589",
   "metadata": {
    "slideshow": {
     "slide_type": "slide"
    }
   },
   "source": [
    "### Reflectividad y transmisividad\n",
    "\n",
    "Basado en estas expresiones, podemos calcular la reflectividad y tranmissividad de la película:\n",
    "\n",
    "\\begin{align}\n",
    "R = {\\lvert r\\rvert}^2 &= \\frac{r_{12}^2+r_{23}^2+2r_{12}r_{23}\\cos 2\\varphi_2}\n",
    "                              {1 + 2r_{12}r_{23}\\cos 2\\varphi_2 + r_{12}^2r_{23}^2}\n",
    "\\\\[10pt]\n",
    "T = \\frac{n_3\\cos\\theta_t}{n_1\\cos\\theta_i}{\\lvert t\\rvert}^2 &= \n",
    "\\frac{\\left(1 - r_{12}^2\\right)\\left(1 - r_{23}^2\\right)}\n",
    "     {1 + 2r_{12}r_{23}\\cos 2\\varphi_2 + r_{12}^2r_{23}^2}\n",
    "\\end{align}"
   ]
  },
  {
   "cell_type": "markdown",
   "id": "9e4bca52",
   "metadata": {
    "slideshow": {
     "slide_type": "slide"
    }
   },
   "source": [
    "### Intererencia en ondas EM\n",
    "\n",
    "Como ejemplo, consideremos la reflectividad de una película delgada de sílice (SiO$_2$) sobre un sustrato de silicio. Esta capa se genera naturalmente debido a la oxidación del silicio\n",
    "\n",
    "<img src=\"./images/sio2_coating.png\" width=\"600px\" align= center>\n",
    "\n",
    "Para simplificar, consideremos:\n",
    "- índice de refracción del aire: 1.0\n",
    "- índice de refracción de sílice: 1.5\n",
    "- índice de refracción del silicio: 4.3\n",
    "- espectro de longitudes de onda: 300 - 800 nm (visible)\n",
    "- espesor del sílice, $d$: variable\n",
    "- ángulo de incidencia $\\theta_i$: variable"
   ]
  },
  {
   "cell_type": "code",
   "execution_count": 7,
   "id": "e4453a7a",
   "metadata": {
    "cell_style": "split",
    "slideshow": {
     "slide_type": "slide"
    },
    "tags": [
     "hide-input"
    ]
   },
   "outputs": [],
   "source": [
    "import numpy as np\n",
    "from numpy import radians as rad # convertimos grados a radianes\n",
    "import matplotlib.pyplot as plt\n",
    "from empylib.waveoptics import multilayer\n",
    "\n",
    "# Reflectividad en capa delgada\n",
    "lam = np.linspace(0.3,0.8,100)          # longitud de onda (en um)\n",
    "n_layers = (1.0,1.5,4.3)     # índices de refracción n1, n2, n3\n",
    "\n",
    "# preparamos el ploteo\n",
    "def plot_R_multi(theta,d):\n",
    "    \n",
    "    Rp = multilayer(lam, rad(theta),n_layers, (d,), 'TM')[0]\n",
    "    Rs = multilayer(lam, rad(theta),n_layers, (d,), 'TE')[0]\n",
    "    \n",
    "    fig, ax = plt.subplots()\n",
    "    fig.set_size_inches(5, 3)\n",
    "    plt.rcParams['font.size'] = '14'\n",
    "    ax.plot(lam,Rp, label='$R_\\mathrm{TM}$', color='red')\n",
    "    ax.plot(lam,Rs, label='$R_\\mathrm{TE}$',color='blue')\n",
    "    ax.set_xlim([min(lam),max(lam)])\n",
    "    ax.set_ylim([0,1.0])\n",
    "    ax.set_xlabel('Longitud de onda ($\\mu$m)')\n",
    "    ax.set_ylabel('Reflectividad')\n",
    "    ax.legend(frameon=False)\n",
    "    plt.show()"
   ]
  },
  {
   "cell_type": "code",
   "execution_count": 8,
   "id": "97271595",
   "metadata": {
    "cell_style": "split",
    "tags": [
     "hide-input"
    ]
   },
   "outputs": [
    {
     "data": {
      "application/vnd.jupyter.widget-view+json": {
       "model_id": "f757000ee2e7429bbb2fba0b51161d80",
       "version_major": 2,
       "version_minor": 0
      },
      "text/plain": [
       "interactive(children=(IntSlider(value=30, description='theta', max=89, step=10), FloatSlider(value=0.3, descri…"
      ]
     },
     "metadata": {},
     "output_type": "display_data"
    }
   ],
   "source": [
    "from ipywidgets import interact\n",
    "\n",
    "@interact(theta=(0,89,10), d=(0,1.0,0.01))\n",
    "def g(theta=30, d=0.3):\n",
    "    return plot_R_multi(theta,d)"
   ]
  },
  {
   "cell_type": "markdown",
   "id": "4715d23e",
   "metadata": {
    "slideshow": {
     "slide_type": "slide"
    }
   },
   "source": [
    "Esta oscilaciones en la reflectancia al variar $\\theta_i$ y $d$ son el resultado de la **interferencia** entre las ondas reflejadas en la parte inferior y superior de la película de silicio."
   ]
  },
  {
   "cell_type": "markdown",
   "id": "43438f9c",
   "metadata": {
    "cell_style": "split",
    "slideshow": {
     "slide_type": "-"
    }
   },
   "source": [
    "<img src=\"./images/interference.png\" width=\"350px\" align= center>"
   ]
  },
  {
   "cell_type": "markdown",
   "id": "4037e868",
   "metadata": {
    "cell_style": "split",
    "slideshow": {
     "slide_type": "fragment"
    }
   },
   "source": [
    "En palabras simples, este fenómeno ocurre por qué la onda reflejada en la parte inferior de la película debe recorre un camino más largo. Esto produce un desface con las ondas reflejadas en la parte superior que deriva en interferencia constructiva (alta reflectividad) y destructiva (baja reflectividad)"
   ]
  },
  {
   "cell_type": "markdown",
   "id": "2af5990e",
   "metadata": {
    "cell_style": "split",
    "slideshow": {
     "slide_type": "fragment"
    }
   },
   "source": [
    "Este fenómeno se manifiesta en forma de color ya que nuestros ojos son sensibles a los cambios de radiación en este espectro. \n",
    "\n",
    "> Se recomienda revisar esta [animación para entender el fenómeno](https://javalab.org/en/light_interference_on_cd_surface_en/)"
   ]
  },
  {
   "cell_type": "markdown",
   "id": "93e2c9e8",
   "metadata": {
    "slideshow": {
     "slide_type": "slide"
    }
   },
   "source": [
    "Analicemos como se manifiesta este fenómeno en forma de color:"
   ]
  },
  {
   "cell_type": "code",
   "execution_count": 9,
   "id": "04a79ec0",
   "metadata": {
    "cell_style": "split",
    "slideshow": {
     "slide_type": "-"
    },
    "tags": [
     "hide-input"
    ]
   },
   "outputs": [],
   "source": [
    "import numpy as np\n",
    "from numpy import radians as rad # convertimos grados a radianes\n",
    "import matplotlib.pyplot as plt\n",
    "from empylib.waveoptics import multilayer\n",
    "from empylib.ref_spectra import AM15\n",
    "from empylib.ref_spectra import color_system as cs\n",
    "cs = cs.hdtv\n",
    "\n",
    "# Reflectividad en capa delgada\n",
    "lam = np.linspace(0.3,0.8,100)   # longitud de onda (en um)\n",
    "n_layers = (1.0,1.5,4.3)         # índices de refracción n1, n2, n3\n",
    "\n",
    "cs.interp_internals(lam)\n",
    "def color_R_film(d):\n",
    "    Rp = lambda tt,d : multilayer(lam, rad(tt),n_layers, (d,), 'TM')[0]\n",
    "    Rs = lambda tt,d : multilayer(lam, rad(tt),n_layers, (d,), 'TE')[0]\n",
    "    \n",
    "    # formateamos la figura\n",
    "    fig, ax = plt.subplots()\n",
    "    fig.set_size_inches(6, 4)\n",
    "    plt.rcParams['font.size'] = '14'\n",
    "    \n",
    "    theta = np.linspace(0,90,100) # angulo de inciSdencia\n",
    "    for tt in theta: \n",
    "        R = 0.5*Rp(tt,d) + 0.5*Rs(tt,d)\n",
    "        Irad = R*AM15(lam)\n",
    "        html_rgb = cs.spec_to_rgb(Irad, out_fmt='html')\n",
    "        ax.axvline(tt, color=html_rgb, linewidth=6) \n",
    "    ax.set_xlim([min(theta),max(theta)])\n",
    "    ax.set_ylim([0,1.0])\n",
    "    ax.axes.yaxis.set_visible(False)\n",
    "    ax.set_xlabel('Ángulo de incidencia (deg)')\n",
    "    plt.show()"
   ]
  },
  {
   "cell_type": "code",
   "execution_count": 10,
   "id": "dd72f038",
   "metadata": {
    "cell_style": "split",
    "tags": [
     "hide-input"
    ]
   },
   "outputs": [
    {
     "data": {
      "application/vnd.jupyter.widget-view+json": {
       "model_id": "e9f72e5b398e482bb49c51c0c3b369b0",
       "version_major": 2,
       "version_minor": 0
      },
      "text/plain": [
       "interactive(children=(FloatSlider(value=0.28, description='d', max=1.0, step=0.001), Output()), _dom_classes=(…"
      ]
     },
     "metadata": {},
     "output_type": "display_data"
    }
   ],
   "source": [
    "from ipywidgets import interact\n",
    "\n",
    "@interact(d=(0,1.0,0.001))\n",
    "def g(d=0.28):\n",
    "    return color_R_film(d)"
   ]
  },
  {
   "cell_type": "markdown",
   "id": "17c1dc23",
   "metadata": {
    "slideshow": {
     "slide_type": "slide"
    }
   },
   "source": [
    "## Referencias\n",
    "Griffths D., *Introduction to Electrodynamics*, 4th Ed, Pearson, 2013\n",
    "- 7.3 Maxwell's Equations (7.36)\n",
    "- 9 Electromagnetic Waves (9.3 y 9.4)"
   ]
  }
 ],
 "metadata": {
  "celltoolbar": "Slideshow",
  "kernelspec": {
   "display_name": "Python 3 (ipykernel)",
   "language": "python",
   "name": "python3"
  },
  "language_info": {
   "codemirror_mode": {
    "name": "ipython",
    "version": 3
   },
   "file_extension": ".py",
   "mimetype": "text/x-python",
   "name": "python",
   "nbconvert_exporter": "python",
   "pygments_lexer": "ipython3",
   "version": "3.10.11"
  },
  "latex_envs": {
   "LaTeX_envs_menu_present": true,
   "autoclose": true,
   "autocomplete": true,
   "bibliofile": "biblio.bib",
   "cite_by": "apalike",
   "current_citInitial": 1,
   "eqLabelWithNumbers": true,
   "eqNumInitial": 1,
   "hotkeys": {
    "equation": "Ctrl-E",
    "itemize": "Ctrl-I"
   },
   "labels_anchors": false,
   "latex_user_defs": false,
   "report_style_numbering": false,
   "user_envs_cfg": false
  },
  "toc": {
   "base_numbering": 1,
   "nav_menu": {},
   "number_sections": true,
   "sideBar": true,
   "skip_h1_title": true,
   "title_cell": "Tabla de contenidos",
   "title_sidebar": "Contenidos",
   "toc_cell": false,
   "toc_position": {
    "height": "calc(100% - 180px)",
    "left": "10px",
    "top": "150px",
    "width": "307.2px"
   },
   "toc_section_display": true,
   "toc_window_display": false
  },
  "varInspector": {
   "cols": {
    "lenName": 16,
    "lenType": 16,
    "lenVar": 40
   },
   "kernels_config": {
    "python": {
     "delete_cmd_postfix": "",
     "delete_cmd_prefix": "del ",
     "library": "var_list.py",
     "varRefreshCmd": "print(var_dic_list())"
    },
    "r": {
     "delete_cmd_postfix": ") ",
     "delete_cmd_prefix": "rm(",
     "library": "var_list.r",
     "varRefreshCmd": "cat(var_dic_list()) "
    }
   },
   "types_to_exclude": [
    "module",
    "function",
    "builtin_function_or_method",
    "instance",
    "_Feature"
   ],
   "window_display": false
  },
  "widgets": {
   "application/vnd.jupyter.widget-state+json": {
    "state": {
     "0144235d3a69422fbb3f01537ee9b401": {
      "model_module": "@jupyter-widgets/base",
      "model_module_version": "1.2.0",
      "model_name": "LayoutModel",
      "state": {
       "_model_module": "@jupyter-widgets/base",
       "_model_module_version": "1.2.0",
       "_model_name": "LayoutModel",
       "_view_count": null,
       "_view_module": "@jupyter-widgets/base",
       "_view_module_version": "1.2.0",
       "_view_name": "LayoutView",
       "align_content": null,
       "align_items": null,
       "align_self": null,
       "border": null,
       "bottom": null,
       "display": null,
       "flex": null,
       "flex_flow": null,
       "grid_area": null,
       "grid_auto_columns": null,
       "grid_auto_flow": null,
       "grid_auto_rows": null,
       "grid_column": null,
       "grid_gap": null,
       "grid_row": null,
       "grid_template_areas": null,
       "grid_template_columns": null,
       "grid_template_rows": null,
       "height": null,
       "justify_content": null,
       "justify_items": null,
       "left": null,
       "margin": null,
       "max_height": null,
       "max_width": null,
       "min_height": null,
       "min_width": null,
       "object_fit": null,
       "object_position": null,
       "order": null,
       "overflow": null,
       "overflow_x": null,
       "overflow_y": null,
       "padding": null,
       "right": null,
       "top": null,
       "visibility": null,
       "width": null
      }
     },
     "06ac4df55c464b44bbb3bca53f45759a": {
      "model_module": "@jupyter-widgets/base",
      "model_module_version": "1.2.0",
      "model_name": "LayoutModel",
      "state": {
       "_model_module": "@jupyter-widgets/base",
       "_model_module_version": "1.2.0",
       "_model_name": "LayoutModel",
       "_view_count": null,
       "_view_module": "@jupyter-widgets/base",
       "_view_module_version": "1.2.0",
       "_view_name": "LayoutView",
       "align_content": null,
       "align_items": null,
       "align_self": null,
       "border": null,
       "bottom": null,
       "display": null,
       "flex": null,
       "flex_flow": null,
       "grid_area": null,
       "grid_auto_columns": null,
       "grid_auto_flow": null,
       "grid_auto_rows": null,
       "grid_column": null,
       "grid_gap": null,
       "grid_row": null,
       "grid_template_areas": null,
       "grid_template_columns": null,
       "grid_template_rows": null,
       "height": null,
       "justify_content": null,
       "justify_items": null,
       "left": null,
       "margin": null,
       "max_height": null,
       "max_width": null,
       "min_height": null,
       "min_width": null,
       "object_fit": null,
       "object_position": null,
       "order": null,
       "overflow": null,
       "overflow_x": null,
       "overflow_y": null,
       "padding": null,
       "right": null,
       "top": null,
       "visibility": null,
       "width": null
      }
     },
     "13961321018e4c099d39f11d5650c6b0": {
      "model_module": "@jupyter-widgets/controls",
      "model_module_version": "1.5.0",
      "model_name": "FloatSliderModel",
      "state": {
       "_dom_classes": [],
       "_model_module": "@jupyter-widgets/controls",
       "_model_module_version": "1.5.0",
       "_model_name": "FloatSliderModel",
       "_view_count": null,
       "_view_module": "@jupyter-widgets/controls",
       "_view_module_version": "1.5.0",
       "_view_name": "FloatSliderView",
       "continuous_update": true,
       "description": "",
       "description_tooltip": null,
       "disabled": false,
       "layout": "IPY_MODEL_a7c40e2f97dd467c8aa296ea6e77817f",
       "max": 5.0,
       "min": 1.0,
       "orientation": "horizontal",
       "readout": true,
       "readout_format": ".2f",
       "step": 0.1,
       "style": "IPY_MODEL_5c8be120586c42689db67522f31f8f2d",
       "value": 3.0
      }
     },
     "1397ab8062864f4681dcb3f8254f2517": {
      "model_module": "@jupyter-widgets/base",
      "model_module_version": "1.2.0",
      "model_name": "LayoutModel",
      "state": {
       "_model_module": "@jupyter-widgets/base",
       "_model_module_version": "1.2.0",
       "_model_name": "LayoutModel",
       "_view_count": null,
       "_view_module": "@jupyter-widgets/base",
       "_view_module_version": "1.2.0",
       "_view_name": "LayoutView",
       "align_content": null,
       "align_items": null,
       "align_self": null,
       "border": null,
       "bottom": null,
       "display": null,
       "flex": null,
       "flex_flow": null,
       "grid_area": null,
       "grid_auto_columns": null,
       "grid_auto_flow": null,
       "grid_auto_rows": null,
       "grid_column": null,
       "grid_gap": null,
       "grid_row": null,
       "grid_template_areas": null,
       "grid_template_columns": null,
       "grid_template_rows": null,
       "height": null,
       "justify_content": null,
       "justify_items": null,
       "left": null,
       "margin": null,
       "max_height": null,
       "max_width": null,
       "min_height": null,
       "min_width": null,
       "object_fit": null,
       "object_position": null,
       "order": null,
       "overflow": null,
       "overflow_x": null,
       "overflow_y": null,
       "padding": null,
       "right": null,
       "top": null,
       "visibility": null,
       "width": null
      }
     },
     "1cd8a6a8f2a54c03b9ea3b4941d820b0": {
      "model_module": "@jupyter-widgets/base",
      "model_module_version": "1.2.0",
      "model_name": "LayoutModel",
      "state": {
       "_model_module": "@jupyter-widgets/base",
       "_model_module_version": "1.2.0",
       "_model_name": "LayoutModel",
       "_view_count": null,
       "_view_module": "@jupyter-widgets/base",
       "_view_module_version": "1.2.0",
       "_view_name": "LayoutView",
       "align_content": null,
       "align_items": null,
       "align_self": null,
       "border": null,
       "bottom": null,
       "display": null,
       "flex": null,
       "flex_flow": null,
       "grid_area": null,
       "grid_auto_columns": null,
       "grid_auto_flow": null,
       "grid_auto_rows": null,
       "grid_column": null,
       "grid_gap": null,
       "grid_row": null,
       "grid_template_areas": null,
       "grid_template_columns": null,
       "grid_template_rows": null,
       "height": null,
       "justify_content": null,
       "justify_items": null,
       "left": null,
       "margin": null,
       "max_height": null,
       "max_width": null,
       "min_height": null,
       "min_width": null,
       "object_fit": null,
       "object_position": null,
       "order": null,
       "overflow": null,
       "overflow_x": null,
       "overflow_y": null,
       "padding": null,
       "right": null,
       "top": null,
       "visibility": null,
       "width": null
      }
     },
     "1d8a1097d38b4c399b0df957c6237172": {
      "model_module": "@jupyter-widgets/base",
      "model_module_version": "1.2.0",
      "model_name": "LayoutModel",
      "state": {
       "_model_module": "@jupyter-widgets/base",
       "_model_module_version": "1.2.0",
       "_model_name": "LayoutModel",
       "_view_count": null,
       "_view_module": "@jupyter-widgets/base",
       "_view_module_version": "1.2.0",
       "_view_name": "LayoutView",
       "align_content": null,
       "align_items": null,
       "align_self": null,
       "border": null,
       "bottom": null,
       "display": null,
       "flex": null,
       "flex_flow": null,
       "grid_area": null,
       "grid_auto_columns": null,
       "grid_auto_flow": null,
       "grid_auto_rows": null,
       "grid_column": null,
       "grid_gap": null,
       "grid_row": null,
       "grid_template_areas": null,
       "grid_template_columns": null,
       "grid_template_rows": null,
       "height": null,
       "justify_content": null,
       "justify_items": null,
       "left": null,
       "margin": null,
       "max_height": null,
       "max_width": null,
       "min_height": null,
       "min_width": null,
       "object_fit": null,
       "object_position": null,
       "order": null,
       "overflow": null,
       "overflow_x": null,
       "overflow_y": null,
       "padding": null,
       "right": null,
       "top": null,
       "visibility": null,
       "width": null
      }
     },
     "1de2f3311caa40aeac1fca8927f7485d": {
      "model_module": "@jupyter-widgets/controls",
      "model_module_version": "1.5.0",
      "model_name": "SliderStyleModel",
      "state": {
       "_model_module": "@jupyter-widgets/controls",
       "_model_module_version": "1.5.0",
       "_model_name": "SliderStyleModel",
       "_view_count": null,
       "_view_module": "@jupyter-widgets/base",
       "_view_module_version": "1.2.0",
       "_view_name": "StyleView",
       "description_width": "",
       "handle_color": null
      }
     },
     "1df3f8731d634c4faa5bc52abfc37f02": {
      "model_module": "@jupyter-widgets/base",
      "model_module_version": "1.2.0",
      "model_name": "LayoutModel",
      "state": {
       "_model_module": "@jupyter-widgets/base",
       "_model_module_version": "1.2.0",
       "_model_name": "LayoutModel",
       "_view_count": null,
       "_view_module": "@jupyter-widgets/base",
       "_view_module_version": "1.2.0",
       "_view_name": "LayoutView",
       "align_content": null,
       "align_items": null,
       "align_self": null,
       "border": null,
       "bottom": null,
       "display": null,
       "flex": null,
       "flex_flow": null,
       "grid_area": null,
       "grid_auto_columns": null,
       "grid_auto_flow": null,
       "grid_auto_rows": null,
       "grid_column": null,
       "grid_gap": null,
       "grid_row": null,
       "grid_template_areas": null,
       "grid_template_columns": null,
       "grid_template_rows": null,
       "height": null,
       "justify_content": null,
       "justify_items": null,
       "left": null,
       "margin": null,
       "max_height": null,
       "max_width": null,
       "min_height": null,
       "min_width": null,
       "object_fit": null,
       "object_position": null,
       "order": null,
       "overflow": null,
       "overflow_x": null,
       "overflow_y": null,
       "padding": null,
       "right": null,
       "top": null,
       "visibility": null,
       "width": null
      }
     },
     "1e6fc9a846554b06be57a3ac947cb6b2": {
      "model_module": "@jupyter-widgets/controls",
      "model_module_version": "1.5.0",
      "model_name": "SliderStyleModel",
      "state": {
       "_model_module": "@jupyter-widgets/controls",
       "_model_module_version": "1.5.0",
       "_model_name": "SliderStyleModel",
       "_view_count": null,
       "_view_module": "@jupyter-widgets/base",
       "_view_module_version": "1.2.0",
       "_view_name": "StyleView",
       "description_width": "",
       "handle_color": null
      }
     },
     "20e615672b254825ae508ff246e1daec": {
      "model_module": "@jupyter-widgets/output",
      "model_module_version": "1.0.0",
      "model_name": "OutputModel",
      "state": {
       "_dom_classes": [],
       "_model_module": "@jupyter-widgets/output",
       "_model_module_version": "1.0.0",
       "_model_name": "OutputModel",
       "_view_count": null,
       "_view_module": "@jupyter-widgets/output",
       "_view_module_version": "1.0.0",
       "_view_name": "OutputView",
       "layout": "IPY_MODEL_e2b7c8ff3cd3485281062a9324d0a850",
       "msg_id": "",
       "outputs": []
      }
     },
     "23198ee3fe4840e5a25cc56bdb1d2869": {
      "model_module": "@jupyter-widgets/controls",
      "model_module_version": "1.5.0",
      "model_name": "VBoxModel",
      "state": {
       "_dom_classes": [
        "widget-interact"
       ],
       "_model_module": "@jupyter-widgets/controls",
       "_model_module_version": "1.5.0",
       "_model_name": "VBoxModel",
       "_view_count": null,
       "_view_module": "@jupyter-widgets/controls",
       "_view_module_version": "1.5.0",
       "_view_name": "VBoxView",
       "box_style": "",
       "children": [],
       "layout": "IPY_MODEL_0144235d3a69422fbb3f01537ee9b401"
      }
     },
     "248157f9b9084131b815afa1945ac1bf": {
      "model_module": "@jupyter-widgets/controls",
      "model_module_version": "1.5.0",
      "model_name": "VBoxModel",
      "state": {
       "_dom_classes": [
        "widget-interact"
       ],
       "_model_module": "@jupyter-widgets/controls",
       "_model_module_version": "1.5.0",
       "_model_name": "VBoxModel",
       "_view_count": null,
       "_view_module": "@jupyter-widgets/controls",
       "_view_module_version": "1.5.0",
       "_view_name": "VBoxView",
       "box_style": "",
       "children": [],
       "layout": "IPY_MODEL_e34c087483114d809c40a374aff38686"
      }
     },
     "26f732a2051c4db39c5537e413a265b5": {
      "model_module": "@jupyter-widgets/output",
      "model_module_version": "1.0.0",
      "model_name": "OutputModel",
      "state": {
       "_dom_classes": [],
       "_model_module": "@jupyter-widgets/output",
       "_model_module_version": "1.0.0",
       "_model_name": "OutputModel",
       "_view_count": null,
       "_view_module": "@jupyter-widgets/output",
       "_view_module_version": "1.0.0",
       "_view_name": "OutputView",
       "layout": "IPY_MODEL_f2c4aa23f8de44ad815df425d1e0de77",
       "msg_id": "",
       "outputs": [
        {
         "data": {
          "image/png": "iVBORw0KGgoAAAANSUhEUgAAAesAAAGACAYAAACNwEo4AAAAOXRFWHRTb2Z0d2FyZQBNYXRwbG90bGliIHZlcnNpb24zLjcuMSwgaHR0cHM6Ly9tYXRwbG90bGliLm9yZy/bCgiHAAAACXBIWXMAAA9hAAAPYQGoP6dpAAAnVElEQVR4nO3deXiU5b3/8c9kmSRAEhL2sAQIKBz1AAGpbAIeIRRZRQUKCIIgsmhBFLCKeATR1qWt57T2HAu4nFZPFSmXVBFktwioFEERQRQ4LAIRDBAISeb7+8Nf5mJmnmws4S68X9fl1c73+d7Pc8/cM/OZ7Qk+MzMBAABnRV3qCQAAgJIR1gAAOI6wBgDAcYQ1AACOI6wBAHAcYQ0AgOMIawAAHEdYAwDguJjzGRwIBLR//34lJibK5/NdqDkBAHDZMzMdP35caWlpiooq+b3zeYX1/v37Vb9+/fPZBQAAV7S9e/eqXr16JfacV1gnJiZKkh7pv1fxsUkl9pb1fXd4n9e4stTKOs7rtUx4Lbos4yyyr0zjJMWETcxrUc6l5pMU69ETG3Y8X9gcfJL8Hj1+j8n7w8bFhfV4jfNJig+5cQKK9RWENllAUp5H7YxH7XTIviJ6ylQLSD6vnvzImi98nFdPWWsFoZejCiJ7osLHWVhf+OX/Py46vGZSVGHo5ehCjx6PcV590VZ6T0zAY1wg7HL4Xzw2Kaa0mlePvB90IQ8U837ghD8oIsYVU4vxeFDEetTC+2I8JhrjccDYsFrEOJ8U4/Eojw2vhff5pBi/R49HLdYf1hPvMS4upGLyqdDnD7kckD+yx6NmpdSK64lcHJ8U1ufzeEaM8ljo6LBabNgdy2eSP/zZPBCQzhSEXs4Le04pLJROnQpezDlxUvXb9QlmaUnOK6yLPvqOj01SvP8ShrVF1rxC0YWw9nwuOcew9gri8NAta1jHnkNYh/cVF9ZetXMPa6/a2dfSo6fYsM4LvewLv7WKGeeLCbtcWk8JtZAgLi6sw+814TXz7okOr3mEvGcIh9+7i+sLD12PcWUJ61KD2atWXI8iXciwDu8717COPcewDr9crrAOC93YsoZ1XFiPV1iH1rzD2iPQyxzWcaX2RD7blTWsI2sXLKxPhz0XFRZ6vlAry9fI/MAMAADHEdYAADiOsAYAwHGENQAAjiOsAQBwHGENAIDjCGsAABxHWAMA4DjCGgAAxxHWAAA4jrAGAMBxhDUAAI4jrAEAcBxhDQCA4whrAAAcR1gDAOA4whoAAMcR1gAAOI6wBgDAcYQ1AACOI6wBAHAcYQ0AgOMIawAAHEdYAwDgOMIaAADHEdYAADiOsAYAwHGENQAAjiOsAQBwHGENAIDjCGsAABxHWAMA4DjCGgAAxxHWAAA4jrAGAMBxhDUAAI4jrAEAcBxhDQCA4whrAAAcR1gDAOA4whoAAMcR1gAAOI6wBgDAcYQ1AACOI6wBAHAcYQ0AgOMIawAAHEdYAwDgOMIaAADHEdYAADiOsAYAwHGENQAAjiOsAQBwHGENAIDjCGsAABxHWAMA4DjCGgAAxxHWAAA4jrAGAMBxhDUAAI4jrAEAcBxhDQCA4whrAAAcR1gDAOA4whoAAMcR1gAAOI6wBgDAcYQ1AACOI6wBAHAcYQ0AgOMIawAAHEdYAwDgOMIaAADHEdYAADiOsAYAwHGENQAAjiOsAQBwHGENAIDjCGsAABxHWAMA4DjCGgAAxxHWAAA4jrAGAMBxhDUAAI4jrAEAcBxhDQCA4whrAAAcR1gDAOA4whoAAMcR1gAAOI6wBgDAcYQ1AACOI6wBAHAcYQ0AgOMIawAAHEdYAwDgOMIaAADHEdYAADiOsAYAwHGENQAAjiOsAQBwHGENAIDjCGsAABxHWAMA4DjCGgAAxxHWAAA4jrAGAMBxhDUAAI4jrAEAcBxhDQCA4whrAAAcR1gDAOA4whoAAMcR1gAAOI6wBgDAcYQ1AACOI6wBAHAcYQ0AgOMIawAAHEdYAwDgOMIaAADHEdYAADiOsAYAwHGENQAAjiOsAQBwHGENAIDjCGsAABxHWAMA4DjCGgAAxxHWAAA4jrAGAMBxhDUAAI4jrAEAcBxhDQCA4whrAAAcR1gDAOA4whoAAMcR1gAAOI6wBgDAcYQ1AACOI6wBAHAcYQ0AgOMIawAAHEdYAwDgOMIaAADHEdYAADiOsAYAwHGENQAAjiOsAQBwHGENAIDjCGsAABxHWAMA4DjCGgAAxxHWAAA4jrAGAMBxhDUAAI4jrAEAcBxhDQCA4whrAAAcR1gDAOA4whoAAMcR1gAAOI6wBgDAcYQ1AACOI6wBAHAcYQ0AgOMIawAAHEdYAwDgOMIaAADHEdYAADiOsAYAwHGENQAAjiOsAQBwHGENAIDjCGsAABxHWAMA4DjCGgAAxxHWAAA4jrAGAMBxhDUAAI4jrAEAcBxhDQCA4whrAAAcR1gDAOA4whoAAMcR1gAAOI6wBgDAcYQ1AACOI6wBAHAcYQ0AgOMIawAAHEdYAwDgOMIaAADHEdYAADiOsAYAwHGENQAAjiOsAQBwHGENAIDjCGsAABxHWAMA4DjCGgAAxxHWAAA4jrAGAMBxhDUAAI4jrAEAcBxhDQCA4whrAAAcR1gDAOA4whoAAMcR1gAAOI6wBgDAcYQ1AACOI6wBAHAcYQ0AgOMIawAAHEdYAwDgOMIaAADHEdYAADiOsAYAwHGENQAAjiOsAQBwHGENAIDjCGsAABxHWAMA4DjCGgAAxxHWAAA4jrAGAMBxhDUAAI4jrAEAcBxhDQCA4whrAAAcR1gDAOA4whoAAMcR1gAAOI6wBgDAcYQ1AACOI6wBAHAcYQ0AgOMIawAAHEdYAwDgOMIaAADHEdYAADiOsAYAwHGENQAAjiOsAQBwHGENAIDjCGsAABxHWAMA4DjCGgAAxxHWAAA4jrAGAMBxhDUAAI4jrAEAcBxhDQCA4whrAAAcR1gDAOA4whoAAMcR1gAAOI6wBgDAcYQ1AACOI6wBAHAcYQ0AgOMIawAAHEdYAwDgOMIaAADHEdYAADiOsAYAwHGENQAAjiOsAQBwHGENAIDjCGsAABxHWAMA4DjCGgAAxxHWAAA4jrAGAMBxhDUAAI4jrAEAcBxhDQCA4whrAAAcR1gDAOA4whoAAMcR1gAAOI6wBgDAcYQ1AACOI6wBAHAcYQ0AgOMIawAAHEdYAwDgOMIaAADHEdYAADiOsAYAwHGENQAAjiOsAQBwHGENAIDjCGsAABxHWAMA4DjCGgAAxxHWAAA4jrAGAMBxhDUAAI4jrAEAcBxhDQCA4whrAAAcR1gDAOC4mPMZbGaSpNP5OaX2+sq4z/A+r3FlqZV1nNerlfBadFnGWWRfmcZJigmbmNeinEvNJynWoyc27Hi+sDn4JPk9evwek/eHjTsT1uOTlOdROxNy4wQU6ysIbbKApDyP2hmP2umQfUX0lKkWkHxePfmRNV/4OK+estYKQi9HFUT2RIWPs7C+8Mv/f1x0eM2kqMLQy9GFHj0e47z6oq30npiAx7hA2GWL7IkprebVI+8HXcgDxbwfOOEPiohxxdRiPB4UsR618L6I20Xe1yc2rBYxzle2cRF9XuOKqcWGjws/WOQ4k0+FvsKQywEVRvaoIKJmpdR+vJwf0RM5MZ8kf1gl8hkxymOho8NqsWF3LJ9J/vBn80BAOlMQejkv7DmlsFA6dSp4MefEyR/nbx5rGOa8wjo7O1uSNOvt+uezGwAArljHjx9XcnJyiT3nFdapqamSpD179pR6IFS8nJwc1a9fX3v37lVSUtKlng7Owtq4i7Vx2+W0Pmam48ePKy0trdTe8wrrqKgfPwZITk7+p7/RLmdJSUmsj6NYG3exNm67XNanrG90+YEZAACOI6wBAHDceYV1XFycHnvsMcXFxV2o+eACYn3cxdq4i7Vx25W6Pj4ry2/GAQDAJcPH4AAAOI6wBgDAcYQ1AACOI6wBAHDcOYX1xo0b1bNnT6WkpKhy5cpq27at/vSnP13ouaEY+/bt069//Wt1795dDRo0kN/vV+3atTVgwACtX7/ec0xOTo4mT56s9PR0xcXFKT09XZMnT1ZOTul/1x3n7pe//KV8Pp98Pp8++ugjzx7WpuK9/fbb6tatm6pVq6aEhAQ1atRIgwcP1t69e0P6WJuKZWZasGCBunbtqjp16qhSpUq6+uqrdc8992jXrl0R/VfU+lg5rVixwvx+v1WpUsXuvvtue+CBB6xRo0YmyWbPnl3e3eEcTJ061SRZRkaGjRw50qZNm2YDBgyw6Ohoi4qKsjfeeCOk/8SJE9ayZUuTZN26dbOpU6dajx49TJK1bNnSTpw4cYmuyeXtiy++sLi4OKtcubJJsnXr1kX0sDYVKxAI2JgxY4KPn3HjxtnUqVNt2LBh1qBBA1uzZk2wl7WpeJMnTzZJVqdOHRs7dqw99NBDlpWVZT6fzxITE23Lli3B3ittfcoV1vn5+ZaRkWFxcXH26aefBus5OTl2zTXXWExMjH311VcXfJII9dZbb9nq1asj6qtXr7bY2FhLTU2106dPB+szZswwSfbQQw+F9BfVZ8yYcdHnfKUpKCiw66+/3tq2bWtDhw4tNqxZm4r1m9/8xiTZ+PHjraCgIGJ7fn5+8P+zNhXrwIEDFhUVZQ0bNrQffvghZNvzzz9vkuyuu+4K1q609SlXWC9ZsiTiBivy+uuvmySbPn36BZscyq979+4myTZu3GhmP76TSEtLsypVqkS80jx16pSlpKRY3bp1LRAIXIrpXrZmz55tfr/ftm7dasOHD/cMa9amYuXm5lpqaqo1btw4JJS9sDYVb926dSbJhgwZErHtq6++Mkl2yy23mNmVuT7l+s565cqVkqTu3btHbCuqrVq1qjy7xAUWG/vjv9caE/Pjv9GyY8cO7d+/Xx06dFDlypVDeuPj43XjjTdq37592rlzZ4XP9XK1detWPf7443rkkUd0zTXXFNvH2lSspUuX6vvvv1e/fv1UWFioBQsW6KmnntKLL74YcRuzNhWvadOm8vv9+vDDD3X8+PGQbX/7298kSTfddJOkK3N9yvWvbu3YsUPSjzdquJSUFFWvXj3Yg4q3Z88eLVu2TLVr19Z1110nqeQ1O7u+Y8eOYntQdgUFBRoxYoSaN2+uadOmldjL2lSsjz/+WNKPL2RbtGih7du3B7dFRUVp0qRJeuaZZySxNpdCtWrVNHv2bD344INq3ry5+vTpo8TERG3ZskXLli3TmDFjNHHiRElX5vqUK6x/+OEHScX/k15JSUn6v//7v/OfFcotPz9fw4YNU15enn75y18qOjpaUtnW7Ow+nJ8nn3xSmzdv1vr164OfchSHtalYhw4dkiQ9++yzyszM1IYNG9S8eXNt2rRJY8aM0bPPPquMjAzde++9rM0lMmXKFKWlpemee+7R73//+2C9ffv2Gjp0aPAxdSWuD+dZXwYCgYBGjhyp1atXa/To0Ro2bNilntIVafPmzZo1a5amTJmizMzMSz0dhAkEApIkv9+vhQsX6vrrr1eVKlXUqVMnvfnmm4qKitKzzz57iWd5ZZs1a5ZGjBih6dOna+/evTpx4oTWrl2rgoICde3aVQsWLLjUU7xkyhXWRa9iinu1kpOTU+Z/SBsXhplp9OjReu211zR06FC9+OKLIdvLsmZn9+HcDR8+XBkZGZo5c2aZ+lmbilV0O7Zp00ZpaWkh26655ho1btxYX3/9tY4dO8baXALLly/Xo48+qgkTJujhhx9WvXr1VLlyZXXo0EHvvPOOEhISNGnSJElX5mOnXGF99vcA4Y4ePaojR45cNt8P/DMIBAIaNWqU5s6dq8GDB2v+/PmKigpd0pLW7Ow663b+Nm/erC+//FLx8fHBP4Ti8/n08ssvS5LatWsnn8+nhQsXSmJtKtrVV18tSapatarn9qL6qVOnWJtLYPHixZKkrl27RmyrUaOGrrvuOu3ZsyckZ66k9SnXd9adO3fWnDlz9P7772vQoEEh295///1gDy6+QCCgu+++W/PmzdPAgQP16quvBr+nPlvTpk2VlpamDz/8UCdPngz55eTp06e1evVqpaWlqUmTJhU5/cvSqFGjPOurV6/Wjh071KdPH9WoUUMNGzaUxNpUtKIQ2LZtW8S2/Px87dy5U5UrV1aNGjVUu3Zt1qaCnTlzRpJ0+PBhz+1F9bi4uCvzsVOe87zy8/OtcePGFhcXZ5s2bQrWz/6jKNu3b7/AZ5chXGFhoY0YMcIk2e23317qOaNX2h8PcE1x51mbsTYVrejvEPz3f/93SP3f//3fTZINHTo0WGNtKtaf//xnk2TXXHONHTt2LGTb/PnzTZK1bt06WLvS1sdnZlaecF+xYoWysrIUFxenwYMHKykpSQsWLNA333yjWbNm6Re/+MWFeyUBTzNnztTjjz+uKlWq6P777w+eU322fv36qWXLlpKkkydPqmPHjvrHP/6hbt26qXXr1tq8ebPeffddtWzZUmvXro04VxEXzogRI/Tyyy9r3bp1uuGGG0K2sTYV6+uvv1b79u116NAh3XLLLWrWrJk2bdqk5cuXKz09XR999JFq164tibWpaIWFhbr55pu1cuVK1ahRQ3369FFKSoo2b96spUuXKi4uTsuWLVPHjh0lXYHrcy4Jv379euvRo4clJydbQkKCtWnTxl577bUL+zICxSp6p1bSf/PmzQsZc+zYMZs0aZLVr1/fYmNjrX79+jZp0qSIV7C48Ep6Z23G2lS0PXv22IgRI6x27drB23v8+PH23XffRfSyNhXr9OnT9vTTT1tmZqZVqlTJYmJirG7duvazn/0s5O+CF7mS1qfc76wBAEDF4jxrAAAcR1gDAOA4whoAAMcR1gAAOI6wBgDAcYQ1AACOI6wBAHAcYQ0AgOMI6yvMRx99JL/fryeeeOJSTwUAUEb8BbMryNGjR9WqVSt16dJF8+fPv9TTAQCUEWF9BVm5cqXWr1+vyZMnKzY29lJPBwBQRnwMfgXp0qWLpk6d+k8Z1D6fT126dKnw486fP18+n++ifRLRsGHD4L9vXRHO5fpU9BzLa+bMmfL5fFq5cuVFPU6vXr107bXXKhAIODWvcF26dNFPfvIT8T7s8kJYX0HuvPNO+Xw+1a5dWwUFBZd6OsA/jeXLl2vx4sV67LHHFBXl9tPmY489pg0bNuj111+/1FPBBeT2vQ4XTE5Ojt566y35fD599913Wrx48aWeEiR98MEH+uCDDyrseP3799e2bdvUv3//CjvmxTZhwgRt27ZNbdu2vWjHePTRR9WwYUPddtttF+0YF0rXrl3VunVrzZgxg3fXlxHC+grx5z//Wbm5uXrggQfk8/n0xz/+8VJPCZIyMjKUkZFRYcdLTk5Ws2bNlJycXGHHvNiqV6+uZs2aqVKlShdl/1u2bNHf//53DR06VD6f76Ic40IbOnSodu7cWaEvBHFxEdZXiD/+8Y/y+/2aPn26OnTooL/97W86cOCAZ2/R98OHDx/WyJEjVbNmTSUkJOiGG24o9vu3zz77TD179lRiYqKSk5PVs2dPbd26VSNGjJDP59O3334b7C3pu7zyfqeanZ2tSZMmqVGjRoqLi1PNmjU1cOBAffHFF2UaX+T777/X2LFjVatWLVWqVEnXX3+93n777RLHfPbZZxo0aJDq1Kkjv9+v9PR0TZw4UdnZ2WU+rtf3wWffPv/7v/+rzMxMJSQkqE6dOrrvvvt06tQpz32tWbNG/fv3V61atRQXF6f69evr1ltv1dq1a4M9Jd2+f/3rX3X99dcrISFBtWrV0ujRo3X06NFi537mzBk999xzyszMVOXKlZWYmKhOnTpp0aJFEb1n3w9+97vfqXnz5oqPj1d6eroef/zxYr8HXrRokbKyslStWjXFx8erYcOGGjZsmLZu3ep5e51t7ty56tu3rxo2bKj4+HilpqYqKytLK1asKPY6eSm6rW6//XbP7Xv37tXgwYOVmpqqKlWqqHPnzlq9enWJ+1y9erV69+6t6tWrKy4uTk2bNtUjjzyi3NzciN6CggLNmTNHGRkZio+PV5MmTTRnzhzt2rVLPp9PI0aMiBhzxx13SJLmzZtXrusKd8Vc6gng4tuyZYs2btyo/v37KzU1VXfeeafWrl2rl19+WdOmTfMcc+zYMXXo0EFJSUkaMmSIDh06pDfeeENZWVn65JNPdO211wZ7N2/erE6dOik3N1e33nqrmjRpok8++UQdO3ZUixYtLtr1ys7O1g033KCdO3eqS5cuGjRokL799lu9+eabWrx4sZYuXap27dqVup/c3Fx16dJFW7ZsUbt27dS5c2ft3btXAwcOVPfu3T3HLFq0SHfccYeio6PVp08f1a9fX1988YX+4z/+Q0uWLNH69euVkpJyXtfvP//zP/Xuu++qb9++6tKli9577z298MILys7O1v/8z/9E9E6cOFEJCQnq37+/GjRooH379mnt2rV688031bFjxxKP9corr2j48OFKSkrSsGHDVLVqVb3zzju6+eabdebMGfn9/pD+vLw89ejRQytXrlSrVq00atQo5efna/Hixerbt69eeOEFTZgwIeI4Dz74oFauXKlevXqpe/fuWrhwoWbOnKkzZ85o9uzZIb0PPfSQfvWrXyk1NVX9+vVTzZo1tXfvXi1btkytW7cOuQ96GT9+vFq0aKGbb75ZNWrU0L59+7Rw4ULdfPPNWrBggfr27Vvi+CIffPCBqlSp4nm8AwcOqF27dtq3b5+ysrKUmZmpbdu2qVu3buratavn/l588UWNGzdOKSkp6t27t2rUqKGNGzdq9uzZWrFihVasWBFye48cOVKvvvqqMjIyNH78eOXl5enXv/611q1bV+yc09LS1KBBg3K/MIHDDJe9+++/3yTZggULzMzs2LFjFh8fb02bNvXsl2SSbNy4cVZYWBisv/TSSybJ7rnnnpD+jh07miT7y1/+ElJ/7LHHgvv65ptvIuorVqyIOPa8efNMks2bNy9iTp07dw6pjRw50iTZ9OnTQ+rvvfeeSbKmTZuGzL84RfMZPXp0SH3JkiXB+Z89nyNHjlhSUpLVq1fPdu/eHTLmT3/6k0myCRMmlHpcM7P09HRLT0/3nE9ycrJ9+eWXwXpubq5dddVV5vP5bN++fcH6Z599ZtHR0ZaWlhZyO5uZBQKBkF6v2/eHH36wpKQkq1y5sm3fvj1YP3PmjN14440mKWKODz/8sEmymTNnWiAQCNZzcnKsTZs25vf7Q447fPhwk2SNGjWy/fv3B+uHDx+2qlWrWmJiouXl5QXrixcvNkl23XXX2ZEjR0KOnZ+fbwcPHoy4vcLvT7t27bJw+/fvt7S0tGLv++GOHz9uUVFR1qFDB8/tRddr1qxZIfU//OEPwfvO2fP6/PPPLSYmxlq1amXZ2dkhY+bMmWOS7JlnngnWli1bZpKsTZs2lpubG6wfOHDAateubZJs+PDhnnPr37+/SfK8HfDPh7C+zOXl5Vm1atUsJSUl5Mlw4MCBJslWrVoVMUaSVa5c2Y4fPx5Sz8/Pt5iYGMvMzAzWvv32W5NkrVq1itjPyZMnLTU19aKEdV5eniUkJFi1atXs5MmTEfvJysoySbZmzZqIbeEaNWpkfr/fDhw4ELHt3/7t3yLm89xzz5kke/XVVz33l5mZadWrVy/1uGYlh/WMGTMi+ou2LVq0KFgbN26cSbK5c+eWejyv2/fll182STZx4sSI/jVr1kSEdWFhoaWkpFiTJk1CgrrIokWLTJK98MILwVpRqHnNsWjbZ599Fqz17NnTJNny5ctLvU4l3Z+8TJw40STZt99+W2rv9u3bTZLdeuutEdvy8vIsPj7eatasaadOnQrZVlhYaFdddVXEvO67775i75eFhYVWo0YNa926dbA2YsQIk2R//etfI/qLwr24sB47dqxJstWrV5d6PeE+Pga/zC1cuFDZ2dkaO3ZsyEdrd955p9544w3NnTtXN954Y8S4pk2bqkqVKiG1mJgY1apVS8eOHQvWNm/eLElq3759xD4qVaqkFi1aXJSP4r788kudOnVKXbp08fxhUZcuXbRkyRL94x//KPEj4OPHj+ubb77Rv/zLv6h27doR2zt16hTxI52PPvoo+L87d+6MGHP69GkdOXJER44cUfXq1ct71YIyMzMjavXq1ZOkkDXYsGGDJBX7kX1pitawU6dOEdvatWunmJjQp4nt27fr6NGjSktL0+OPPx4x5vDhw5J+XKNw5blOcXFx6ty5c9mvSJhdu3Zpzpw5Wr58ufbt26e8vLyQ7fv371d6enqJ+yj6/YHXVxrbt2/X6dOnddNNNyk+Pj5kW1RUlNq3b6+vvvoqpF5033nvvfe0bNmyiH3GxsaG3G4lPb68amdLTU2VJB05cqTEPvxzIKwvc3PnzpUkDRs2LKSelZWl2rVr6y9/+Yt++9vfKikpKWR7cb8WjomJUWFhYfByTk6OJKlGjRqe/bVq1TrnuZek6LjF7b8oeH/44YcS91O0vWbNmp7bvfb//fffS/rxe+KSnDx58rzC2msNioLz7DU4duyYfD6f6tSpc07HKek2iI6OVrVq1UJqRdf/888/1+eff17sfk+ePBlRK891qlu37jmf07xz5061bdtWOTk56tq1q3r37q2kpCRFRUVp5cqVWrVqVUR4e0lISJAkzx/1nc99J/z7+eLk5OQoKioqYg2K2//ZiuZ8sX4lj4pFWF/G9u7dq6VLl0qSOnToUGzf66+/rjFjxpzTMYpCvujdVLjvvvsuolb0BOz1h1lKC9fw43rt/+x6+IuQ4vZz6NChEvfjNWbLli2l/sipIlStWlVmpgMHDqhu3brlHl8UoF63QWFhobKzs0P2W3T9BwwYoDfffPMcZ12yqlWr6uDBgwoEAucU2M8//7yOHj2q1157TUOGDAnZNnbsWK1atapM+yl6EVoUsmcr6XaTSr7v5OTkKDExsdTjJyUlKRAIKDs7O+KFX3H3/SJFcy7uhTT+uXDq1mVs3rx5CgQC6tixo0aNGhXxX9G77fM557ro195///vfI7bl5uYGP8Y7W9FHivv27YvYtmnTpjIdt1mzZoqPj9fGjRs9T3cpejJu2bJliftJSkpSo0aNtHPnTh08eDBi+5o1ayJqP/nJTySpxF/jVqSiPwby/vvvn9P4ojX0uq7r1q2LeFHVvHlzJSUl6eOPP1Z+fv45HbM0bdu2VV5eXplDNdzXX38tSerTp09IPRAI6MMPPyzzftLS0lStWjXt2LEjYtvVV1+t+Ph4ffzxxzp9+nTEcbweE0X3naKPw0tT0uPLq3a27du3KzY2Vs2aNSvTseA2wvoyZWaaN2+efD6fXnnlFb300ksR/73yyitq1aqVNmzYEHLeanmkp6erQ4cO2rRpU8S7rF/96lee70jatGkj6cfThc4+v3bdunURpyQVx+/3a/DgwTpy5IjmzJkTsm3ZsmV699131aRJkxI/USgybNgwnTlzRjNmzAipv//++55/VOKuu+5SYmKifvGLX3h+DJybm1vmJ+MLYezYsYqOjtYjjzyi3bt3h2wresddkr59+yopKUlz584N+Y41Pz9fjzzySER/TEyM7r33Xu3evVtTpkzxDOytW7cW+46zLMaPHy9Juv/++yPuQwUFBaW+qyz6Lvrsc8wl6emnny7Xfd3n86lTp076+uuvI+bh9/t1xx136NChQ3r22WdDtr300ksR31dL0rhx4xQTE6OJEydq7969EduPHTsW8oK16FOBJ554IuQFwcGDB/Wb3/ym2Hnn5+dr06ZNatOmDR+DXy4u8Q/ccJEsXbrUJFnXrl1L7Pvtb39rkuznP/95sCaP06SKeP16+dNPP7UqVapYdHS03XHHHTZ9+nTLysqy5OTk4Kk/Z5/iFAgErF27dibJ2rZta1OmTLHbb7/d4uLigqeblOXUrUOHDlnjxo1Nkt100002ffp0Gzx4sMXGxlqlSpXK9EtwM7MTJ07Ytddea5Ksffv2Nm3aNBsyZIjFxsbaLbfc4jmfd955xxISEiw6OtpuueUWe+CBB2z8+PHWq1cvS0xMtKysrDIdu6Rfg5fn1/IvvPCC+Xw+q1y5sg0ZMsQefvhhGzlypDVp0sTuv//+UsfPnz/fJFlSUpKNGTPGHnzwQWvevLllZmZanTp1IuZ4+vRp69atm0myjIwMGzlypE2dOtWGDh1qLVq0MEm2bt26YH/RL77DTy0r6fpOmTLFJFlqaqqNGjXKpk+fbnfeeafVrVvXnn/++RLHf/rppxYbG2vx8fE2fPhwmzx5srVv397i4+ODa1rWX48X3TZvvPFGxLb9+/db3bp1TZL16NHDpk+fbv369TO/32/du3f3PM5//dd/WXR0tCUkJNiAAQPsoYcesrFjx1r37t0tLi4u4tTIIUOGmCRr0qSJPfDAAzZhwgSrWbOm9e7d2yTZXXfdFTGvolO+nn766TJdR7iPsL5MDRo0qMTTi4ocOXLE/H6/Va9ePXhqV3nD2sxs06ZNlpWVZVWqVLHExET76U9/alu2bLFevXqZJDt69GhI/+HDh23YsGGWmppqCQkJdsMNN9iSJUvKdZ510X7uu+8+S09Pt9jYWKtevbrddttttmXLlhKvd7js7GwbM2aM1ahRw+Lj461169a2YMGCYudjZvbll1/aqFGjLD093fx+v6WkpNh1111n9913n23YsKFMx71QYW1mtmLFCuvVq5elpqaa3++3evXq2YABA+zDDz8s0/i3337bWrdubXFxcVazZk27++677fvvvy92zQsKCuwPf/iDdejQwZKSkiwuLs4aNGhgPXr0sN///vd24sSJYO+5hLWZ2VtvvWVdu3a15ORki4uLs4YNG9qwYcNs69atpY5fsWKFdejQwRITE61q1arWs2dP++STT8p9qldubq5VrVrVevfu7bl99+7dNnDgQKtatapVqlTJOnXqZKtWrSrxOBs2bLBBgwZZWlpa8H6bmZlp06ZNs23btoX05ufn2xNPPBE8xbBx48b25JNP2vr1601SyIuxIiNGjDC/32+HDh0q03WE+/j3rHHRFBYWKiMjQ6dOnSr1Y0vAZQ8//LCeeeYZ7dq1K3iq2aX20ksvafTo0frd736ne++9N1g/duyYGjRooNtuuy14Ngj++fGdNc5bQUGB57mcTz31lHbv3q1+/fpV/KSAC2jatGlKTk7Wk08+WeHHPnjwYMS/nrVv3z7NmjVL0dHR6tWrV8i2559/XoWFhXriiScqcpq4yDh1C+ftxIkTqlu3rrp166arrrpK+fn5Wr9+vTZu3Kg6depo5syZl3qKwHlJSkrSa6+9pk8//fScTyc7V0899ZQWL16sTp06qWbNmtqzZ4/eeecdHT9+XDNnzlT9+vVD+lNSUvTKK6+c02l8cBcfg+O8nTlzRj//+c+1fPly7d+/X6dPn1adOnX005/+VI8++ihPGsB5eO+99/Tcc89p8+bNOnr0qOLj4/Wv//qvGjdunH72s59d6umhghDWAAA4ju+sAQBwHGENAIDjCGsAABxHWAMA4DjCGgAAxxHWAAA4jrAGAMBxhDUAAI4jrAEAcNz/A1HSa272mNyGAAAAAElFTkSuQmCC",
          "text/plain": "<Figure size 600x400 with 1 Axes>"
         },
         "metadata": {},
         "output_type": "display_data"
        }
       ]
      }
     },
     "2a0e395500ce4aad87f1700b09d3f696": {
      "model_module": "@jupyter-widgets/controls",
      "model_module_version": "1.5.0",
      "model_name": "SliderStyleModel",
      "state": {
       "_model_module": "@jupyter-widgets/controls",
       "_model_module_version": "1.5.0",
       "_model_name": "SliderStyleModel",
       "_view_count": null,
       "_view_module": "@jupyter-widgets/base",
       "_view_module_version": "1.2.0",
       "_view_name": "StyleView",
       "description_width": "",
       "handle_color": null
      }
     },
     "31657277f0e54ce7ba2be0f99030855b": {
      "model_module": "@jupyter-widgets/controls",
      "model_module_version": "1.5.0",
      "model_name": "IntSliderModel",
      "state": {
       "_dom_classes": [],
       "_model_module": "@jupyter-widgets/controls",
       "_model_module_version": "1.5.0",
       "_model_name": "IntSliderModel",
       "_view_count": null,
       "_view_module": "@jupyter-widgets/controls",
       "_view_module_version": "1.5.0",
       "_view_name": "IntSliderView",
       "continuous_update": true,
       "description": "",
       "description_tooltip": null,
       "disabled": false,
       "layout": "IPY_MODEL_669912d4ed8e47388b0a7f2574928131",
       "max": 89,
       "min": 0,
       "orientation": "horizontal",
       "readout": true,
       "readout_format": "d",
       "step": 10,
       "style": "IPY_MODEL_1e6fc9a846554b06be57a3ac947cb6b2",
       "value": 40
      }
     },
     "33109bca1d8d4421ba4e4d0145cf4972": {
      "model_module": "@jupyter-widgets/base",
      "model_module_version": "1.2.0",
      "model_name": "LayoutModel",
      "state": {
       "_model_module": "@jupyter-widgets/base",
       "_model_module_version": "1.2.0",
       "_model_name": "LayoutModel",
       "_view_count": null,
       "_view_module": "@jupyter-widgets/base",
       "_view_module_version": "1.2.0",
       "_view_name": "LayoutView",
       "align_content": null,
       "align_items": null,
       "align_self": null,
       "border": null,
       "bottom": null,
       "display": null,
       "flex": null,
       "flex_flow": null,
       "grid_area": null,
       "grid_auto_columns": null,
       "grid_auto_flow": null,
       "grid_auto_rows": null,
       "grid_column": null,
       "grid_gap": null,
       "grid_row": null,
       "grid_template_areas": null,
       "grid_template_columns": null,
       "grid_template_rows": null,
       "height": null,
       "justify_content": null,
       "justify_items": null,
       "left": null,
       "margin": null,
       "max_height": null,
       "max_width": null,
       "min_height": null,
       "min_width": null,
       "object_fit": null,
       "object_position": null,
       "order": null,
       "overflow": null,
       "overflow_x": null,
       "overflow_y": null,
       "padding": null,
       "right": null,
       "top": null,
       "visibility": null,
       "width": null
      }
     },
     "3b2af4e03ee34d5f93e3be061520116d": {
      "model_module": "@jupyter-widgets/controls",
      "model_module_version": "1.5.0",
      "model_name": "SliderStyleModel",
      "state": {
       "_model_module": "@jupyter-widgets/controls",
       "_model_module_version": "1.5.0",
       "_model_name": "SliderStyleModel",
       "_view_count": null,
       "_view_module": "@jupyter-widgets/base",
       "_view_module_version": "1.2.0",
       "_view_name": "StyleView",
       "description_width": "",
       "handle_color": null
      }
     },
     "3bc040cebb604da2b394552012c7e1c6": {
      "model_module": "@jupyter-widgets/controls",
      "model_module_version": "1.5.0",
      "model_name": "SliderStyleModel",
      "state": {
       "_model_module": "@jupyter-widgets/controls",
       "_model_module_version": "1.5.0",
       "_model_name": "SliderStyleModel",
       "_view_count": null,
       "_view_module": "@jupyter-widgets/base",
       "_view_module_version": "1.2.0",
       "_view_name": "StyleView",
       "description_width": "",
       "handle_color": null
      }
     },
     "3c0000d16fb640ea86254d497870a0d3": {
      "model_module": "@jupyter-widgets/base",
      "model_module_version": "1.2.0",
      "model_name": "LayoutModel",
      "state": {
       "_model_module": "@jupyter-widgets/base",
       "_model_module_version": "1.2.0",
       "_model_name": "LayoutModel",
       "_view_count": null,
       "_view_module": "@jupyter-widgets/base",
       "_view_module_version": "1.2.0",
       "_view_name": "LayoutView",
       "align_content": null,
       "align_items": null,
       "align_self": null,
       "border": null,
       "bottom": null,
       "display": null,
       "flex": null,
       "flex_flow": null,
       "grid_area": null,
       "grid_auto_columns": null,
       "grid_auto_flow": null,
       "grid_auto_rows": null,
       "grid_column": null,
       "grid_gap": null,
       "grid_row": null,
       "grid_template_areas": null,
       "grid_template_columns": null,
       "grid_template_rows": null,
       "height": null,
       "justify_content": null,
       "justify_items": null,
       "left": null,
       "margin": null,
       "max_height": null,
       "max_width": null,
       "min_height": null,
       "min_width": null,
       "object_fit": null,
       "object_position": null,
       "order": null,
       "overflow": null,
       "overflow_x": null,
       "overflow_y": null,
       "padding": null,
       "right": null,
       "top": null,
       "visibility": null,
       "width": null
      }
     },
     "4090502afe784dd0aa44a78327813442": {
      "model_module": "@jupyter-widgets/base",
      "model_module_version": "1.2.0",
      "model_name": "LayoutModel",
      "state": {
       "_model_module": "@jupyter-widgets/base",
       "_model_module_version": "1.2.0",
       "_model_name": "LayoutModel",
       "_view_count": null,
       "_view_module": "@jupyter-widgets/base",
       "_view_module_version": "1.2.0",
       "_view_name": "LayoutView",
       "align_content": null,
       "align_items": null,
       "align_self": null,
       "border": null,
       "bottom": null,
       "display": null,
       "flex": null,
       "flex_flow": null,
       "grid_area": null,
       "grid_auto_columns": null,
       "grid_auto_flow": null,
       "grid_auto_rows": null,
       "grid_column": null,
       "grid_gap": null,
       "grid_row": null,
       "grid_template_areas": null,
       "grid_template_columns": null,
       "grid_template_rows": null,
       "height": null,
       "justify_content": null,
       "justify_items": null,
       "left": null,
       "margin": null,
       "max_height": null,
       "max_width": null,
       "min_height": null,
       "min_width": null,
       "object_fit": null,
       "object_position": null,
       "order": null,
       "overflow": null,
       "overflow_x": null,
       "overflow_y": null,
       "padding": null,
       "right": null,
       "top": null,
       "visibility": null,
       "width": null
      }
     },
     "41f44e41239145449ff096e6b158b86e": {
      "model_module": "@jupyter-widgets/controls",
      "model_module_version": "1.5.0",
      "model_name": "FloatSliderModel",
      "state": {
       "_dom_classes": [],
       "_model_module": "@jupyter-widgets/controls",
       "_model_module_version": "1.5.0",
       "_model_name": "FloatSliderModel",
       "_view_count": null,
       "_view_module": "@jupyter-widgets/controls",
       "_view_module_version": "1.5.0",
       "_view_name": "FloatSliderView",
       "continuous_update": true,
       "description": "n1",
       "description_tooltip": null,
       "disabled": false,
       "layout": "IPY_MODEL_a7c40e2f97dd467c8aa296ea6e77817f",
       "max": 5.0,
       "min": 1.0,
       "orientation": "horizontal",
       "readout": true,
       "readout_format": ".2f",
       "step": 0.1,
       "style": "IPY_MODEL_5c8be120586c42689db67522f31f8f2d",
       "value": 1.0
      }
     },
     "4340e432f52b4e10b6615557a42a44d4": {
      "model_module": "@jupyter-widgets/base",
      "model_module_version": "1.2.0",
      "model_name": "LayoutModel",
      "state": {
       "_model_module": "@jupyter-widgets/base",
       "_model_module_version": "1.2.0",
       "_model_name": "LayoutModel",
       "_view_count": null,
       "_view_module": "@jupyter-widgets/base",
       "_view_module_version": "1.2.0",
       "_view_name": "LayoutView",
       "align_content": null,
       "align_items": null,
       "align_self": null,
       "border": null,
       "bottom": null,
       "display": null,
       "flex": null,
       "flex_flow": null,
       "grid_area": null,
       "grid_auto_columns": null,
       "grid_auto_flow": null,
       "grid_auto_rows": null,
       "grid_column": null,
       "grid_gap": null,
       "grid_row": null,
       "grid_template_areas": null,
       "grid_template_columns": null,
       "grid_template_rows": null,
       "height": null,
       "justify_content": null,
       "justify_items": null,
       "left": null,
       "margin": null,
       "max_height": null,
       "max_width": null,
       "min_height": null,
       "min_width": null,
       "object_fit": null,
       "object_position": null,
       "order": null,
       "overflow": null,
       "overflow_x": null,
       "overflow_y": null,
       "padding": null,
       "right": null,
       "top": null,
       "visibility": null,
       "width": null
      }
     },
     "498a9e5e63664d3f862f78c44e75b1f7": {
      "model_module": "@jupyter-widgets/controls",
      "model_module_version": "1.5.0",
      "model_name": "VBoxModel",
      "state": {
       "_dom_classes": [
        "widget-interact"
       ],
       "_model_module": "@jupyter-widgets/controls",
       "_model_module_version": "1.5.0",
       "_model_name": "VBoxModel",
       "_view_count": null,
       "_view_module": "@jupyter-widgets/controls",
       "_view_module_version": "1.5.0",
       "_view_name": "VBoxView",
       "box_style": "",
       "children": [
        "IPY_MODEL_41f44e41239145449ff096e6b158b86e",
        "IPY_MODEL_fc173e9a301543879eb7d74ad844fb8f",
        "IPY_MODEL_cd9065a043df4dbb993414a09c6451ef"
       ],
       "layout": "IPY_MODEL_e34c087483114d809c40a374aff38686"
      }
     },
     "5c8be120586c42689db67522f31f8f2d": {
      "model_module": "@jupyter-widgets/controls",
      "model_module_version": "1.5.0",
      "model_name": "SliderStyleModel",
      "state": {
       "_model_module": "@jupyter-widgets/controls",
       "_model_module_version": "1.5.0",
       "_model_name": "SliderStyleModel",
       "_view_count": null,
       "_view_module": "@jupyter-widgets/base",
       "_view_module_version": "1.2.0",
       "_view_name": "StyleView",
       "description_width": "",
       "handle_color": null
      }
     },
     "60bf59162358474788bf611429978621": {
      "model_module": "@jupyter-widgets/controls",
      "model_module_version": "1.5.0",
      "model_name": "SliderStyleModel",
      "state": {
       "_model_module": "@jupyter-widgets/controls",
       "_model_module_version": "1.5.0",
       "_model_name": "SliderStyleModel",
       "_view_count": null,
       "_view_module": "@jupyter-widgets/base",
       "_view_module_version": "1.2.0",
       "_view_name": "StyleView",
       "description_width": "",
       "handle_color": null
      }
     },
     "669912d4ed8e47388b0a7f2574928131": {
      "model_module": "@jupyter-widgets/base",
      "model_module_version": "1.2.0",
      "model_name": "LayoutModel",
      "state": {
       "_model_module": "@jupyter-widgets/base",
       "_model_module_version": "1.2.0",
       "_model_name": "LayoutModel",
       "_view_count": null,
       "_view_module": "@jupyter-widgets/base",
       "_view_module_version": "1.2.0",
       "_view_name": "LayoutView",
       "align_content": null,
       "align_items": null,
       "align_self": null,
       "border": null,
       "bottom": null,
       "display": null,
       "flex": null,
       "flex_flow": null,
       "grid_area": null,
       "grid_auto_columns": null,
       "grid_auto_flow": null,
       "grid_auto_rows": null,
       "grid_column": null,
       "grid_gap": null,
       "grid_row": null,
       "grid_template_areas": null,
       "grid_template_columns": null,
       "grid_template_rows": null,
       "height": null,
       "justify_content": null,
       "justify_items": null,
       "left": null,
       "margin": null,
       "max_height": null,
       "max_width": null,
       "min_height": null,
       "min_width": null,
       "object_fit": null,
       "object_position": null,
       "order": null,
       "overflow": null,
       "overflow_x": null,
       "overflow_y": null,
       "padding": null,
       "right": null,
       "top": null,
       "visibility": null,
       "width": null
      }
     },
     "673361c6d3044c0aa7b20093f46b9a63": {
      "model_module": "@jupyter-widgets/controls",
      "model_module_version": "1.5.0",
      "model_name": "SliderStyleModel",
      "state": {
       "_model_module": "@jupyter-widgets/controls",
       "_model_module_version": "1.5.0",
       "_model_name": "SliderStyleModel",
       "_view_count": null,
       "_view_module": "@jupyter-widgets/base",
       "_view_module_version": "1.2.0",
       "_view_name": "StyleView",
       "description_width": "",
       "handle_color": null
      }
     },
     "6771d33e913c4a748b67e2d215e58d73": {
      "model_module": "@jupyter-widgets/controls",
      "model_module_version": "1.5.0",
      "model_name": "SliderStyleModel",
      "state": {
       "_model_module": "@jupyter-widgets/controls",
       "_model_module_version": "1.5.0",
       "_model_name": "SliderStyleModel",
       "_view_count": null,
       "_view_module": "@jupyter-widgets/base",
       "_view_module_version": "1.2.0",
       "_view_name": "StyleView",
       "description_width": "",
       "handle_color": null
      }
     },
     "6969612e658f4ea19905654e24809106": {
      "model_module": "@jupyter-widgets/controls",
      "model_module_version": "1.5.0",
      "model_name": "FloatSliderModel",
      "state": {
       "_dom_classes": [],
       "_model_module": "@jupyter-widgets/controls",
       "_model_module_version": "1.5.0",
       "_model_name": "FloatSliderModel",
       "_view_count": null,
       "_view_module": "@jupyter-widgets/controls",
       "_view_module_version": "1.5.0",
       "_view_name": "FloatSliderView",
       "continuous_update": true,
       "description": "",
       "description_tooltip": null,
       "disabled": false,
       "layout": "IPY_MODEL_06ac4df55c464b44bbb3bca53f45759a",
       "max": 1.0,
       "min": 0.0,
       "orientation": "horizontal",
       "readout": true,
       "readout_format": ".2f",
       "step": 0.01,
       "style": "IPY_MODEL_60bf59162358474788bf611429978621",
       "value": 0.5
      }
     },
     "69b78ce8d7f4463b90e4e6211d6cf6e5": {
      "model_module": "@jupyter-widgets/controls",
      "model_module_version": "1.5.0",
      "model_name": "SliderStyleModel",
      "state": {
       "_model_module": "@jupyter-widgets/controls",
       "_model_module_version": "1.5.0",
       "_model_name": "SliderStyleModel",
       "_view_count": null,
       "_view_module": "@jupyter-widgets/base",
       "_view_module_version": "1.2.0",
       "_view_name": "StyleView",
       "description_width": "",
       "handle_color": null
      }
     },
     "80fbdc385fb247379b41052b8ae28a81": {
      "model_module": "@jupyter-widgets/base",
      "model_module_version": "1.2.0",
      "model_name": "LayoutModel",
      "state": {
       "_model_module": "@jupyter-widgets/base",
       "_model_module_version": "1.2.0",
       "_model_name": "LayoutModel",
       "_view_count": null,
       "_view_module": "@jupyter-widgets/base",
       "_view_module_version": "1.2.0",
       "_view_name": "LayoutView",
       "align_content": null,
       "align_items": null,
       "align_self": null,
       "border": null,
       "bottom": null,
       "display": null,
       "flex": null,
       "flex_flow": null,
       "grid_area": null,
       "grid_auto_columns": null,
       "grid_auto_flow": null,
       "grid_auto_rows": null,
       "grid_column": null,
       "grid_gap": null,
       "grid_row": null,
       "grid_template_areas": null,
       "grid_template_columns": null,
       "grid_template_rows": null,
       "height": null,
       "justify_content": null,
       "justify_items": null,
       "left": null,
       "margin": null,
       "max_height": null,
       "max_width": null,
       "min_height": null,
       "min_width": null,
       "object_fit": null,
       "object_position": null,
       "order": null,
       "overflow": null,
       "overflow_x": null,
       "overflow_y": null,
       "padding": null,
       "right": null,
       "top": null,
       "visibility": null,
       "width": null
      }
     },
     "91a909537e0e4ef1bbc36d87c067e09d": {
      "model_module": "@jupyter-widgets/output",
      "model_module_version": "1.0.0",
      "model_name": "OutputModel",
      "state": {
       "_dom_classes": [],
       "_model_module": "@jupyter-widgets/output",
       "_model_module_version": "1.0.0",
       "_model_name": "OutputModel",
       "_view_count": null,
       "_view_module": "@jupyter-widgets/output",
       "_view_module_version": "1.0.0",
       "_view_name": "OutputView",
       "layout": "IPY_MODEL_af9da1fdc8f84119b844d6c22b0133aa",
       "msg_id": "",
       "outputs": []
      }
     },
     "9d9c18b501ff41c0a04c0db1c46778b3": {
      "model_module": "@jupyter-widgets/output",
      "model_module_version": "1.0.0",
      "model_name": "OutputModel",
      "state": {
       "_dom_classes": [],
       "_model_module": "@jupyter-widgets/output",
       "_model_module_version": "1.0.0",
       "_model_name": "OutputModel",
       "_view_count": null,
       "_view_module": "@jupyter-widgets/output",
       "_view_module_version": "1.0.0",
       "_view_name": "OutputView",
       "layout": "IPY_MODEL_af9da1fdc8f84119b844d6c22b0133aa",
       "msg_id": "",
       "outputs": [
        {
         "data": {
          "image/png": "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",
          "text/plain": "<Figure size 500x300 with 1 Axes>"
         },
         "metadata": {},
         "output_type": "display_data"
        }
       ]
      }
     },
     "a7c40e2f97dd467c8aa296ea6e77817f": {
      "model_module": "@jupyter-widgets/base",
      "model_module_version": "1.2.0",
      "model_name": "LayoutModel",
      "state": {
       "_model_module": "@jupyter-widgets/base",
       "_model_module_version": "1.2.0",
       "_model_name": "LayoutModel",
       "_view_count": null,
       "_view_module": "@jupyter-widgets/base",
       "_view_module_version": "1.2.0",
       "_view_name": "LayoutView",
       "align_content": null,
       "align_items": null,
       "align_self": null,
       "border": null,
       "bottom": null,
       "display": null,
       "flex": null,
       "flex_flow": null,
       "grid_area": null,
       "grid_auto_columns": null,
       "grid_auto_flow": null,
       "grid_auto_rows": null,
       "grid_column": null,
       "grid_gap": null,
       "grid_row": null,
       "grid_template_areas": null,
       "grid_template_columns": null,
       "grid_template_rows": null,
       "height": null,
       "justify_content": null,
       "justify_items": null,
       "left": null,
       "margin": null,
       "max_height": null,
       "max_width": null,
       "min_height": null,
       "min_width": null,
       "object_fit": null,
       "object_position": null,
       "order": null,
       "overflow": null,
       "overflow_x": null,
       "overflow_y": null,
       "padding": null,
       "right": null,
       "top": null,
       "visibility": null,
       "width": null
      }
     },
     "aa933e687bfc43249eaf4ed812bc9e15": {
      "model_module": "@jupyter-widgets/controls",
      "model_module_version": "1.5.0",
      "model_name": "FloatSliderModel",
      "state": {
       "_dom_classes": [],
       "_model_module": "@jupyter-widgets/controls",
       "_model_module_version": "1.5.0",
       "_model_name": "FloatSliderModel",
       "_view_count": null,
       "_view_module": "@jupyter-widgets/controls",
       "_view_module_version": "1.5.0",
       "_view_name": "FloatSliderView",
       "continuous_update": true,
       "description": "d",
       "description_tooltip": null,
       "disabled": false,
       "layout": "IPY_MODEL_06ac4df55c464b44bbb3bca53f45759a",
       "max": 1.0,
       "min": 0.0,
       "orientation": "horizontal",
       "readout": true,
       "readout_format": ".2f",
       "step": 0.01,
       "style": "IPY_MODEL_60bf59162358474788bf611429978621",
       "value": 0.3
      }
     },
     "abaa02e1b87140a68a1844dddb71c479": {
      "model_module": "@jupyter-widgets/controls",
      "model_module_version": "1.5.0",
      "model_name": "VBoxModel",
      "state": {
       "_dom_classes": [
        "widget-interact"
       ],
       "_model_module": "@jupyter-widgets/controls",
       "_model_module_version": "1.5.0",
       "_model_name": "VBoxModel",
       "_view_count": null,
       "_view_module": "@jupyter-widgets/controls",
       "_view_module_version": "1.5.0",
       "_view_name": "VBoxView",
       "box_style": "",
       "children": [],
       "layout": "IPY_MODEL_bfbe07fbd777433db771da35583ee229"
      }
     },
     "af9da1fdc8f84119b844d6c22b0133aa": {
      "model_module": "@jupyter-widgets/base",
      "model_module_version": "1.2.0",
      "model_name": "LayoutModel",
      "state": {
       "_model_module": "@jupyter-widgets/base",
       "_model_module_version": "1.2.0",
       "_model_name": "LayoutModel",
       "_view_count": null,
       "_view_module": "@jupyter-widgets/base",
       "_view_module_version": "1.2.0",
       "_view_name": "LayoutView",
       "align_content": null,
       "align_items": null,
       "align_self": null,
       "border": null,
       "bottom": null,
       "display": null,
       "flex": null,
       "flex_flow": null,
       "grid_area": null,
       "grid_auto_columns": null,
       "grid_auto_flow": null,
       "grid_auto_rows": null,
       "grid_column": null,
       "grid_gap": null,
       "grid_row": null,
       "grid_template_areas": null,
       "grid_template_columns": null,
       "grid_template_rows": null,
       "height": null,
       "justify_content": null,
       "justify_items": null,
       "left": null,
       "margin": null,
       "max_height": null,
       "max_width": null,
       "min_height": null,
       "min_width": null,
       "object_fit": null,
       "object_position": null,
       "order": null,
       "overflow": null,
       "overflow_x": null,
       "overflow_y": null,
       "padding": null,
       "right": null,
       "top": null,
       "visibility": null,
       "width": null
      }
     },
     "b62c09648051417091ebc6cf89fc6d67": {
      "model_module": "@jupyter-widgets/controls",
      "model_module_version": "1.5.0",
      "model_name": "IntSliderModel",
      "state": {
       "_dom_classes": [],
       "_model_module": "@jupyter-widgets/controls",
       "_model_module_version": "1.5.0",
       "_model_name": "IntSliderModel",
       "_view_count": null,
       "_view_module": "@jupyter-widgets/controls",
       "_view_module_version": "1.5.0",
       "_view_name": "IntSliderView",
       "continuous_update": true,
       "description": "theta",
       "description_tooltip": null,
       "disabled": false,
       "layout": "IPY_MODEL_669912d4ed8e47388b0a7f2574928131",
       "max": 89,
       "min": 0,
       "orientation": "horizontal",
       "readout": true,
       "readout_format": "d",
       "step": 10,
       "style": "IPY_MODEL_1e6fc9a846554b06be57a3ac947cb6b2",
       "value": 30
      }
     },
     "bfbe07fbd777433db771da35583ee229": {
      "model_module": "@jupyter-widgets/base",
      "model_module_version": "1.2.0",
      "model_name": "LayoutModel",
      "state": {
       "_model_module": "@jupyter-widgets/base",
       "_model_module_version": "1.2.0",
       "_model_name": "LayoutModel",
       "_view_count": null,
       "_view_module": "@jupyter-widgets/base",
       "_view_module_version": "1.2.0",
       "_view_name": "LayoutView",
       "align_content": null,
       "align_items": null,
       "align_self": null,
       "border": null,
       "bottom": null,
       "display": null,
       "flex": null,
       "flex_flow": null,
       "grid_area": null,
       "grid_auto_columns": null,
       "grid_auto_flow": null,
       "grid_auto_rows": null,
       "grid_column": null,
       "grid_gap": null,
       "grid_row": null,
       "grid_template_areas": null,
       "grid_template_columns": null,
       "grid_template_rows": null,
       "height": null,
       "justify_content": null,
       "justify_items": null,
       "left": null,
       "margin": null,
       "max_height": null,
       "max_width": null,
       "min_height": null,
       "min_width": null,
       "object_fit": null,
       "object_position": null,
       "order": null,
       "overflow": null,
       "overflow_x": null,
       "overflow_y": null,
       "padding": null,
       "right": null,
       "top": null,
       "visibility": null,
       "width": null
      }
     },
     "c4a9a03a0acd4a2fbe7a0ba4db3ee138": {
      "model_module": "@jupyter-widgets/base",
      "model_module_version": "1.2.0",
      "model_name": "LayoutModel",
      "state": {
       "_model_module": "@jupyter-widgets/base",
       "_model_module_version": "1.2.0",
       "_model_name": "LayoutModel",
       "_view_count": null,
       "_view_module": "@jupyter-widgets/base",
       "_view_module_version": "1.2.0",
       "_view_name": "LayoutView",
       "align_content": null,
       "align_items": null,
       "align_self": null,
       "border": null,
       "bottom": null,
       "display": null,
       "flex": null,
       "flex_flow": null,
       "grid_area": null,
       "grid_auto_columns": null,
       "grid_auto_flow": null,
       "grid_auto_rows": null,
       "grid_column": null,
       "grid_gap": null,
       "grid_row": null,
       "grid_template_areas": null,
       "grid_template_columns": null,
       "grid_template_rows": null,
       "height": null,
       "justify_content": null,
       "justify_items": null,
       "left": null,
       "margin": null,
       "max_height": null,
       "max_width": null,
       "min_height": null,
       "min_width": null,
       "object_fit": null,
       "object_position": null,
       "order": null,
       "overflow": null,
       "overflow_x": null,
       "overflow_y": null,
       "padding": null,
       "right": null,
       "top": null,
       "visibility": null,
       "width": null
      }
     },
     "c58b1ac832c44d9697250ad85dfb8c56": {
      "model_module": "@jupyter-widgets/controls",
      "model_module_version": "1.5.0",
      "model_name": "FloatSliderModel",
      "state": {
       "_dom_classes": [],
       "_model_module": "@jupyter-widgets/controls",
       "_model_module_version": "1.5.0",
       "_model_name": "FloatSliderModel",
       "_view_count": null,
       "_view_module": "@jupyter-widgets/controls",
       "_view_module_version": "1.5.0",
       "_view_name": "FloatSliderView",
       "continuous_update": true,
       "description": "",
       "description_tooltip": null,
       "disabled": false,
       "layout": "IPY_MODEL_1cd8a6a8f2a54c03b9ea3b4941d820b0",
       "max": 1.0,
       "min": 0.0,
       "orientation": "horizontal",
       "readout": true,
       "readout_format": ".2f",
       "step": 0.001,
       "style": "IPY_MODEL_3b2af4e03ee34d5f93e3be061520116d",
       "value": 0.5
      }
     },
     "cd9065a043df4dbb993414a09c6451ef": {
      "model_module": "@jupyter-widgets/output",
      "model_module_version": "1.0.0",
      "model_name": "OutputModel",
      "state": {
       "_dom_classes": [],
       "_model_module": "@jupyter-widgets/output",
       "_model_module_version": "1.0.0",
       "_model_name": "OutputModel",
       "_view_count": null,
       "_view_module": "@jupyter-widgets/output",
       "_view_module_version": "1.0.0",
       "_view_name": "OutputView",
       "layout": "IPY_MODEL_e2b7c8ff3cd3485281062a9324d0a850",
       "msg_id": "",
       "outputs": [
        {
         "data": {
          "image/png": "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",
          "text/plain": "<Figure size 500x300 with 1 Axes>"
         },
         "metadata": {},
         "output_type": "display_data"
        }
       ]
      }
     },
     "dd092ae978454ebab8425dadc36f4cc9": {
      "model_module": "@jupyter-widgets/base",
      "model_module_version": "1.2.0",
      "model_name": "LayoutModel",
      "state": {
       "_model_module": "@jupyter-widgets/base",
       "_model_module_version": "1.2.0",
       "_model_name": "LayoutModel",
       "_view_count": null,
       "_view_module": "@jupyter-widgets/base",
       "_view_module_version": "1.2.0",
       "_view_name": "LayoutView",
       "align_content": null,
       "align_items": null,
       "align_self": null,
       "border": null,
       "bottom": null,
       "display": null,
       "flex": null,
       "flex_flow": null,
       "grid_area": null,
       "grid_auto_columns": null,
       "grid_auto_flow": null,
       "grid_auto_rows": null,
       "grid_column": null,
       "grid_gap": null,
       "grid_row": null,
       "grid_template_areas": null,
       "grid_template_columns": null,
       "grid_template_rows": null,
       "height": null,
       "justify_content": null,
       "justify_items": null,
       "left": null,
       "margin": null,
       "max_height": null,
       "max_width": null,
       "min_height": null,
       "min_width": null,
       "object_fit": null,
       "object_position": null,
       "order": null,
       "overflow": null,
       "overflow_x": null,
       "overflow_y": null,
       "padding": null,
       "right": null,
       "top": null,
       "visibility": null,
       "width": null
      }
     },
     "deb3548560c941cf8ff80862e08d6d66": {
      "model_module": "@jupyter-widgets/output",
      "model_module_version": "1.0.0",
      "model_name": "OutputModel",
      "state": {
       "_dom_classes": [],
       "_model_module": "@jupyter-widgets/output",
       "_model_module_version": "1.0.0",
       "_model_name": "OutputModel",
       "_view_count": null,
       "_view_module": "@jupyter-widgets/output",
       "_view_module_version": "1.0.0",
       "_view_name": "OutputView",
       "layout": "IPY_MODEL_f2c4aa23f8de44ad815df425d1e0de77",
       "msg_id": "",
       "outputs": []
      }
     },
     "df03abbf88494bcea64ffaee67eab5e1": {
      "model_module": "@jupyter-widgets/base",
      "model_module_version": "1.2.0",
      "model_name": "LayoutModel",
      "state": {
       "_model_module": "@jupyter-widgets/base",
       "_model_module_version": "1.2.0",
       "_model_name": "LayoutModel",
       "_view_count": null,
       "_view_module": "@jupyter-widgets/base",
       "_view_module_version": "1.2.0",
       "_view_name": "LayoutView",
       "align_content": null,
       "align_items": null,
       "align_self": null,
       "border": null,
       "bottom": null,
       "display": null,
       "flex": null,
       "flex_flow": null,
       "grid_area": null,
       "grid_auto_columns": null,
       "grid_auto_flow": null,
       "grid_auto_rows": null,
       "grid_column": null,
       "grid_gap": null,
       "grid_row": null,
       "grid_template_areas": null,
       "grid_template_columns": null,
       "grid_template_rows": null,
       "height": null,
       "justify_content": null,
       "justify_items": null,
       "left": null,
       "margin": null,
       "max_height": null,
       "max_width": null,
       "min_height": null,
       "min_width": null,
       "object_fit": null,
       "object_position": null,
       "order": null,
       "overflow": null,
       "overflow_x": null,
       "overflow_y": null,
       "padding": null,
       "right": null,
       "top": null,
       "visibility": null,
       "width": null
      }
     },
     "e2b7c8ff3cd3485281062a9324d0a850": {
      "model_module": "@jupyter-widgets/base",
      "model_module_version": "1.2.0",
      "model_name": "LayoutModel",
      "state": {
       "_model_module": "@jupyter-widgets/base",
       "_model_module_version": "1.2.0",
       "_model_name": "LayoutModel",
       "_view_count": null,
       "_view_module": "@jupyter-widgets/base",
       "_view_module_version": "1.2.0",
       "_view_name": "LayoutView",
       "align_content": null,
       "align_items": null,
       "align_self": null,
       "border": null,
       "bottom": null,
       "display": null,
       "flex": null,
       "flex_flow": null,
       "grid_area": null,
       "grid_auto_columns": null,
       "grid_auto_flow": null,
       "grid_auto_rows": null,
       "grid_column": null,
       "grid_gap": null,
       "grid_row": null,
       "grid_template_areas": null,
       "grid_template_columns": null,
       "grid_template_rows": null,
       "height": null,
       "justify_content": null,
       "justify_items": null,
       "left": null,
       "margin": null,
       "max_height": null,
       "max_width": null,
       "min_height": null,
       "min_width": null,
       "object_fit": null,
       "object_position": null,
       "order": null,
       "overflow": null,
       "overflow_x": null,
       "overflow_y": null,
       "padding": null,
       "right": null,
       "top": null,
       "visibility": null,
       "width": null
      }
     },
     "e34c087483114d809c40a374aff38686": {
      "model_module": "@jupyter-widgets/base",
      "model_module_version": "1.2.0",
      "model_name": "LayoutModel",
      "state": {
       "_model_module": "@jupyter-widgets/base",
       "_model_module_version": "1.2.0",
       "_model_name": "LayoutModel",
       "_view_count": null,
       "_view_module": "@jupyter-widgets/base",
       "_view_module_version": "1.2.0",
       "_view_name": "LayoutView",
       "align_content": null,
       "align_items": null,
       "align_self": null,
       "border": null,
       "bottom": null,
       "display": null,
       "flex": null,
       "flex_flow": null,
       "grid_area": null,
       "grid_auto_columns": null,
       "grid_auto_flow": null,
       "grid_auto_rows": null,
       "grid_column": null,
       "grid_gap": null,
       "grid_row": null,
       "grid_template_areas": null,
       "grid_template_columns": null,
       "grid_template_rows": null,
       "height": null,
       "justify_content": null,
       "justify_items": null,
       "left": null,
       "margin": null,
       "max_height": null,
       "max_width": null,
       "min_height": null,
       "min_width": null,
       "object_fit": null,
       "object_position": null,
       "order": null,
       "overflow": null,
       "overflow_x": null,
       "overflow_y": null,
       "padding": null,
       "right": null,
       "top": null,
       "visibility": null,
       "width": null
      }
     },
     "e34e38eab6ee44b0931ff6237b4b533f": {
      "model_module": "@jupyter-widgets/base",
      "model_module_version": "1.2.0",
      "model_name": "LayoutModel",
      "state": {
       "_model_module": "@jupyter-widgets/base",
       "_model_module_version": "1.2.0",
       "_model_name": "LayoutModel",
       "_view_count": null,
       "_view_module": "@jupyter-widgets/base",
       "_view_module_version": "1.2.0",
       "_view_name": "LayoutView",
       "align_content": null,
       "align_items": null,
       "align_self": null,
       "border": null,
       "bottom": null,
       "display": null,
       "flex": null,
       "flex_flow": null,
       "grid_area": null,
       "grid_auto_columns": null,
       "grid_auto_flow": null,
       "grid_auto_rows": null,
       "grid_column": null,
       "grid_gap": null,
       "grid_row": null,
       "grid_template_areas": null,
       "grid_template_columns": null,
       "grid_template_rows": null,
       "height": null,
       "justify_content": null,
       "justify_items": null,
       "left": null,
       "margin": null,
       "max_height": null,
       "max_width": null,
       "min_height": null,
       "min_width": null,
       "object_fit": null,
       "object_position": null,
       "order": null,
       "overflow": null,
       "overflow_x": null,
       "overflow_y": null,
       "padding": null,
       "right": null,
       "top": null,
       "visibility": null,
       "width": null
      }
     },
     "e9f72e5b398e482bb49c51c0c3b369b0": {
      "model_module": "@jupyter-widgets/controls",
      "model_module_version": "1.5.0",
      "model_name": "VBoxModel",
      "state": {
       "_dom_classes": [
        "widget-interact"
       ],
       "_model_module": "@jupyter-widgets/controls",
       "_model_module_version": "1.5.0",
       "_model_name": "VBoxModel",
       "_view_count": null,
       "_view_module": "@jupyter-widgets/controls",
       "_view_module_version": "1.5.0",
       "_view_name": "VBoxView",
       "box_style": "",
       "children": [
        "IPY_MODEL_f63952ac77b148c5872c05bb06d69eb1",
        "IPY_MODEL_26f732a2051c4db39c5537e413a265b5"
       ],
       "layout": "IPY_MODEL_0144235d3a69422fbb3f01537ee9b401"
      }
     },
     "f21bed2104004255972013bd082a6104": {
      "model_module": "@jupyter-widgets/controls",
      "model_module_version": "1.5.0",
      "model_name": "FloatSliderModel",
      "state": {
       "_dom_classes": [],
       "_model_module": "@jupyter-widgets/controls",
       "_model_module_version": "1.5.0",
       "_model_name": "FloatSliderModel",
       "_view_count": null,
       "_view_module": "@jupyter-widgets/controls",
       "_view_module_version": "1.5.0",
       "_view_name": "FloatSliderView",
       "continuous_update": true,
       "description": "",
       "description_tooltip": null,
       "disabled": false,
       "layout": "IPY_MODEL_80fbdc385fb247379b41052b8ae28a81",
       "max": 5.0,
       "min": 1.0,
       "orientation": "horizontal",
       "readout": true,
       "readout_format": ".2f",
       "step": 0.1,
       "style": "IPY_MODEL_673361c6d3044c0aa7b20093f46b9a63",
       "value": 3.0
      }
     },
     "f2c4aa23f8de44ad815df425d1e0de77": {
      "model_module": "@jupyter-widgets/base",
      "model_module_version": "1.2.0",
      "model_name": "LayoutModel",
      "state": {
       "_model_module": "@jupyter-widgets/base",
       "_model_module_version": "1.2.0",
       "_model_name": "LayoutModel",
       "_view_count": null,
       "_view_module": "@jupyter-widgets/base",
       "_view_module_version": "1.2.0",
       "_view_name": "LayoutView",
       "align_content": null,
       "align_items": null,
       "align_self": null,
       "border": null,
       "bottom": null,
       "display": null,
       "flex": null,
       "flex_flow": null,
       "grid_area": null,
       "grid_auto_columns": null,
       "grid_auto_flow": null,
       "grid_auto_rows": null,
       "grid_column": null,
       "grid_gap": null,
       "grid_row": null,
       "grid_template_areas": null,
       "grid_template_columns": null,
       "grid_template_rows": null,
       "height": null,
       "justify_content": null,
       "justify_items": null,
       "left": null,
       "margin": null,
       "max_height": null,
       "max_width": null,
       "min_height": null,
       "min_width": null,
       "object_fit": null,
       "object_position": null,
       "order": null,
       "overflow": null,
       "overflow_x": null,
       "overflow_y": null,
       "padding": null,
       "right": null,
       "top": null,
       "visibility": null,
       "width": null
      }
     },
     "f63952ac77b148c5872c05bb06d69eb1": {
      "model_module": "@jupyter-widgets/controls",
      "model_module_version": "1.5.0",
      "model_name": "FloatSliderModel",
      "state": {
       "_dom_classes": [],
       "_model_module": "@jupyter-widgets/controls",
       "_model_module_version": "1.5.0",
       "_model_name": "FloatSliderModel",
       "_view_count": null,
       "_view_module": "@jupyter-widgets/controls",
       "_view_module_version": "1.5.0",
       "_view_name": "FloatSliderView",
       "continuous_update": true,
       "description": "d",
       "description_tooltip": null,
       "disabled": false,
       "layout": "IPY_MODEL_1cd8a6a8f2a54c03b9ea3b4941d820b0",
       "max": 1.0,
       "min": 0.0,
       "orientation": "horizontal",
       "readout": true,
       "readout_format": ".2f",
       "step": 0.001,
       "style": "IPY_MODEL_3b2af4e03ee34d5f93e3be061520116d",
       "value": 0.28
      }
     },
     "f757000ee2e7429bbb2fba0b51161d80": {
      "model_module": "@jupyter-widgets/controls",
      "model_module_version": "1.5.0",
      "model_name": "VBoxModel",
      "state": {
       "_dom_classes": [
        "widget-interact"
       ],
       "_model_module": "@jupyter-widgets/controls",
       "_model_module_version": "1.5.0",
       "_model_name": "VBoxModel",
       "_view_count": null,
       "_view_module": "@jupyter-widgets/controls",
       "_view_module_version": "1.5.0",
       "_view_name": "VBoxView",
       "box_style": "",
       "children": [
        "IPY_MODEL_b62c09648051417091ebc6cf89fc6d67",
        "IPY_MODEL_aa933e687bfc43249eaf4ed812bc9e15",
        "IPY_MODEL_9d9c18b501ff41c0a04c0db1c46778b3"
       ],
       "layout": "IPY_MODEL_bfbe07fbd777433db771da35583ee229"
      }
     },
     "fc173e9a301543879eb7d74ad844fb8f": {
      "model_module": "@jupyter-widgets/controls",
      "model_module_version": "1.5.0",
      "model_name": "FloatSliderModel",
      "state": {
       "_dom_classes": [],
       "_model_module": "@jupyter-widgets/controls",
       "_model_module_version": "1.5.0",
       "_model_name": "FloatSliderModel",
       "_view_count": null,
       "_view_module": "@jupyter-widgets/controls",
       "_view_module_version": "1.5.0",
       "_view_name": "FloatSliderView",
       "continuous_update": true,
       "description": "n2",
       "description_tooltip": null,
       "disabled": false,
       "layout": "IPY_MODEL_80fbdc385fb247379b41052b8ae28a81",
       "max": 5.0,
       "min": 1.0,
       "orientation": "horizontal",
       "readout": true,
       "readout_format": ".2f",
       "step": 0.1,
       "style": "IPY_MODEL_673361c6d3044c0aa7b20093f46b9a63",
       "value": 1.5
      }
     }
    },
    "version_major": 2,
    "version_minor": 0
   }
  }
 },
 "nbformat": 4,
 "nbformat_minor": 5
}