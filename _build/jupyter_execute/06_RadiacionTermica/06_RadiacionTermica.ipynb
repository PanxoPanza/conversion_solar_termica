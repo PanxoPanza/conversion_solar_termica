{
 "cells": [
  {
   "cell_type": "code",
   "execution_count": 1,
   "id": "3c597da7",
   "metadata": {
    "slideshow": {
     "slide_type": "skip"
    },
    "tags": [
     "remove-cell"
    ]
   },
   "outputs": [],
   "source": [
    "import importlib.util\n",
    "if importlib.util.find_spec('empylib') is None:\n",
    "    !pip install git+https://github.com/PanxoPanza/empylib.git"
   ]
  },
  {
   "cell_type": "markdown",
   "id": "8b01ca79",
   "metadata": {
    "slideshow": {
     "slide_type": "slide"
    }
   },
   "source": [
    "# Radiación Térmica"
   ]
  },
  {
   "cell_type": "markdown",
   "id": "e21d64ae",
   "metadata": {
    "slideshow": {
     "slide_type": "slide"
    }
   },
   "source": [
    "## Introducción a la Transferencia de Calor\n",
    "A nivel molecular, los átomos en la materia siempre están vibrando. La magnitud de estas vibraciones está caracterizada estadísticamente por la temperatura:"
   ]
  },
  {
   "cell_type": "markdown",
   "id": "35dd953b",
   "metadata": {},
   "source": [
    "<img src=\"./images/temperature_brownian_motion.gif\" width=\"400px\" align= center>"
   ]
  },
  {
   "cell_type": "markdown",
   "id": "7810d826",
   "metadata": {
    "cell_style": "center",
    "slideshow": {
     "slide_type": "slide"
    }
   },
   "source": [
    "Consideremos un sólido extendido con una diferencia de temperatura, $\\Delta T$, entre sus extremos, tal que el lado izquierdo tiene una mayor temperatura que el lado derecho"
   ]
  },
  {
   "cell_type": "markdown",
   "id": "5407e5b7",
   "metadata": {
    "cell_style": "split",
    "slideshow": {
     "slide_type": "fragment"
    }
   },
   "source": [
    "<img src=\"./images/heat_transfer.gif\" width=\"300px\" align= center>"
   ]
  },
  {
   "cell_type": "markdown",
   "id": "85b590b5",
   "metadata": {
    "cell_style": "split",
    "slideshow": {
     "slide_type": "fragment"
    }
   },
   "source": [
    "Debido a la diferencia de temperatura, la vibración molecular en el lado izquierdo es mayor. Esta energía cinética es transmitida a través del material hacia el lado derecho."
   ]
  },
  {
   "cell_type": "markdown",
   "id": "6f302797",
   "metadata": {
    "slideshow": {
     "slide_type": "slide"
    }
   },
   "source": [
    "Definimos como **calor**, $Q$, a la energía térmica intercambiada entre dos medios cuya diferencia de temperatura es $\\Delta T$. A mayor $\\Delta T$, mayor es el intercambio de calor, matemáticamente: \n",
    "\n",
    "\\begin{equation*}\n",
    "Q \\propto \\Delta T,\\quad\\mathrm{J}\n",
    "\\end{equation*}\n",
    "\n"
   ]
  },
  {
   "cell_type": "markdown",
   "id": "05b934bc",
   "metadata": {
    "slideshow": {
     "slide_type": "fragment"
    }
   },
   "source": [
    "La **taza de transferencia de calor**:\n",
    "\\begin{equation*}\n",
    "\\dot{Q} = \\frac{dQ}{dt},\\quad\\mathrm{W}\n",
    "\\end{equation*}\n",
    "\n",
    "corresponde al calor tranferido por unidad de tiempo."
   ]
  },
  {
   "cell_type": "markdown",
   "id": "8aface27",
   "metadata": {
    "slideshow": {
     "slide_type": "fragment"
    }
   },
   "source": [
    "Por último, definimos como **flujo de calor**: \n",
    "\\begin{equation*}\n",
    "q'' = \\dot{Q}/A,\\quad\\frac{\\mathrm{W}}{\\mathrm{m}^2}\n",
    "\\end{equation*}\n",
    "\n",
    "a la taza de transferencia de calor por unidad de área."
   ]
  },
  {
   "cell_type": "markdown",
   "id": "2c634772",
   "metadata": {
    "cell_style": "split",
    "slideshow": {
     "slide_type": "slide"
    }
   },
   "source": [
    "Existen tres mecanismo de transferencia de calor:\n",
    "\n",
    "- Conducción de calor\n",
    "- Convección de calor\n",
    "- Radiación"
   ]
  },
  {
   "cell_type": "markdown",
   "id": "a3e69153",
   "metadata": {
    "cell_style": "split",
    "slideshow": {
     "slide_type": "-"
    }
   },
   "source": [
    "<img src=\"./images/heat_transfer_mechanism.png\" width=\"500px\" align= center>"
   ]
  },
  {
   "cell_type": "markdown",
   "id": "ccaa08be",
   "metadata": {
    "slideshow": {
     "slide_type": "slide"
    }
   },
   "source": [
    "### Transferencia de calor por conducción\n",
    "**Definimos como *conducción de calor* al calor transferido a través de un material en reposo**. El mecanismo generalmente se asocia a **sólidos**, donde el calor es transferido a travéz de la red atómica del material. Sin embargo, la definición también incluye **líquidos y gases en reposo.** En este caso, las moléculas se mueven aleatoriamente, de manera tal que la velocidad neta del fluido es cero."
   ]
  },
  {
   "cell_type": "markdown",
   "id": "183006ce",
   "metadata": {
    "slideshow": {
     "slide_type": "fragment"
    }
   },
   "source": [
    "Matemáticamente, para un material de espesor $t$ y diferencia de temperatura $\\Delta T$, la **taza de transferencia de calor por conducción** a través de una superficie $A$, es:\n",
    "\n",
    "<img src=\"./images/heat_conduction_formula.png\" width=\"700px\" align= center>"
   ]
  },
  {
   "cell_type": "markdown",
   "id": "4fdfda8b",
   "metadata": {
    "slideshow": {
     "slide_type": "slide"
    }
   },
   "source": [
    "La conductividad térmica, $k_c$, es una propiedad del material que varía según la temperatura.\n",
    "\n",
    "<img src=\"./images/thermal_conductivity.png\" width=\"900px\" align= center>"
   ]
  },
  {
   "cell_type": "markdown",
   "id": "be69080c",
   "metadata": {
    "slideshow": {
     "slide_type": "slide"
    }
   },
   "source": [
    "En su forma diferencial, $\\dot{Q}_\\mathrm{cond}= - k\\nabla T$, y para el caso unidimensional:\n",
    "\n",
    "\\begin{equation}\n",
    "\\dot{Q}_\\mathrm{cond} = - kA\\frac{dT}{dx},\\quad\\mathrm{W}\n",
    "\\end{equation}"
   ]
  },
  {
   "cell_type": "markdown",
   "id": "ac955652",
   "metadata": {
    "slideshow": {
     "slide_type": "fragment"
    }
   },
   "source": [
    "A partir de esta fórmula podemos deducir expresiones para taza de transferencia de calor por conducción según la geometría:"
   ]
  },
  {
   "cell_type": "markdown",
   "id": "ec4af943",
   "metadata": {},
   "source": [
    "<img src=\"./images/heat_conduction_resistance.png\" width=\"600px\" align= center>"
   ]
  },
  {
   "cell_type": "markdown",
   "id": "bb05f7de",
   "metadata": {
    "slideshow": {
     "slide_type": "slide"
    }
   },
   "source": [
    "Notar que en los tres casos podemos expresar la taza de conducción de calor en la forma:\n",
    "\n",
    "\\begin{equation*}\n",
    "\\dot{Q}_\\mathrm{cond} = \\frac{T_H - T_C}{R_\\mathrm{cond}},\\quad\\mathrm{W}\n",
    "\\end{equation*}\n",
    "\n",
    "donde, $R_\\mathrm{cond}$ (K/W) es la **resistencia térmica** asociada al mecanismo de conducción."
   ]
  },
  {
   "cell_type": "markdown",
   "id": "bbea9efd",
   "metadata": {
    "slideshow": {
     "slide_type": "slide"
    }
   },
   "source": [
    "### Transferencia de calor por convección\n",
    "**Definimos como *convección de calor* al calor transferido a través de fluidos en movimiento.** El movimiento de un fluido puede ocurrir naturalmente, debido a los efectos de flotación a raíz de los cambio de densidad con la temperatura; o de forma inducida, como por ejemplo mediante un ventilador."
   ]
  },
  {
   "cell_type": "markdown",
   "id": "2f11707d",
   "metadata": {
    "cell_style": "split",
    "slideshow": {
     "slide_type": "fragment"
    }
   },
   "source": [
    "A partir de esto, clasificamos la transferencia de calor por convección, respectivamente, como:\n",
    "- **convección natural**\n",
    "- **convección forzada**."
   ]
  },
  {
   "cell_type": "markdown",
   "id": "335e9cda",
   "metadata": {
    "cell_style": "split",
    "slideshow": {
     "slide_type": "fragment"
    }
   },
   "source": [
    "<img src=\"./images/heat_convection_mechanism.png\" width=\"300px\" align= center>"
   ]
  },
  {
   "cell_type": "markdown",
   "id": "a11782b3",
   "metadata": {
    "slideshow": {
     "slide_type": "slide"
    }
   },
   "source": [
    "La convección de calor esta asociada al contacto de fluidos con una superficie, $A$. Así, independiente del mecanismo de convección de calor (natural o forzada), expresamos la **taza de transferencia de calor por convección** como:\n",
    "\n",
    "<img src=\"./images/heat_convection_formula.png\" width=\"700px\" align= center>"
   ]
  },
  {
   "cell_type": "markdown",
   "id": "322fa067",
   "metadata": {},
   "source": [
    "Notar que la taza de transferencia de calor por convección puede ser expresada en la forma:\n",
    "\n",
    "\\begin{equation*}\n",
    "\\dot{Q}_\\mathrm{conv} = \\frac{T_\\infty - T}{R_\\mathrm{conv}},\\quad\\mathrm{W}\n",
    "\\end{equation*}\n",
    "\n",
    "donde $R_\\mathrm{conv}=1/hA$ es la resistencia térmica asociada a la convección de calor."
   ]
  },
  {
   "cell_type": "markdown",
   "id": "983b6ab0",
   "metadata": {
    "slideshow": {
     "slide_type": "slide"
    }
   },
   "source": [
    "A diferencia de la conducción de calor, el coeficiente convectivo, $h$, **no es una propiedad del fluido**. Esto porque no solo depende de las propiedades del fluido (densidad, viscocidad y conductividad térmica, entre otras), sino que además depende de condiciones externas, como la velocidad del flujo, la diferencia de temperaturas, y la geometría del cuerpo sometido a convección de calor."
   ]
  },
  {
   "cell_type": "markdown",
   "id": "608df105",
   "metadata": {
    "slideshow": {
     "slide_type": "fragment"
    }
   },
   "source": [
    "El coeficiente convectivo se determina a partir de relaciones expresadas en términos del número de Nusselt, $\\mathrm{Nu} = \\frac{hL_c}{k_f}$, donde $L_c$ es una longitud característica y $k_f$ es la conductividad térmica del fluido. En la mayoría de los casos, las relaciones para el número de Nusselt para cada caso se determinan experimentalmente."
   ]
  },
  {
   "cell_type": "markdown",
   "id": "f73fe75a",
   "metadata": {
    "slideshow": {
     "slide_type": "fragment"
    }
   },
   "source": [
    "Comúnmente, los valores para el número de Nusselt se encuentran dentro de los siguientes rangos:\n",
    "\n",
    "- Convección forzada, $\\mathrm{Nu} \\sim 5 - 1000 $\n",
    "- Convección natural, $\\mathrm{Nu} \\sim 0 - 100$"
   ]
  },
  {
   "cell_type": "markdown",
   "id": "199235d4",
   "metadata": {
    "slideshow": {
     "slide_type": "slide"
    }
   },
   "source": [
    "### Transferencia de calor por radiación\n",
    "**Definimos como *radiación de calor* al calor transferido por ondas electromagnéticas.**"
   ]
  },
  {
   "cell_type": "markdown",
   "id": "599163ff",
   "metadata": {
    "cell_style": "split",
    "slideshow": {
     "slide_type": "fragment"
    }
   },
   "source": [
    "Aquí también, el calor fluye desde la fuente de mayor temperatura all sumidero de menor temperatura. Sin embargo, a diferencia de la convección y conducción, la transferencia de calor por radiación no requiere de un medio y, por lo tanto, puede recorrer grandes distancias."
   ]
  },
  {
   "cell_type": "markdown",
   "id": "f3a86eba",
   "metadata": {
    "cell_style": "split"
   },
   "source": [
    "<img src=\"./images/heat_radiation_schematic.png\" width=\"300px\" align= center>"
   ]
  },
  {
   "cell_type": "markdown",
   "id": "9435c4d8",
   "metadata": {
    "slideshow": {
     "slide_type": "slide"
    }
   },
   "source": [
    "En general, la transferencia de calor depende de las propiedades ópticas de la fuente y receptor. Sin embargo, considerando un caso simplifado, podemos definir la relación en base a la emisividad promedio del emisor, y absortividad promedio del receptor:\n",
    "\n",
    "<img src=\"./images/heat_radiation_formula.png\" width=\"700px\" align= center>"
   ]
  },
  {
   "cell_type": "markdown",
   "id": "ec4e30bf",
   "metadata": {
    "slideshow": {
     "slide_type": "fragment"
    }
   },
   "source": [
    "Sin embargo, como veremos en este capítulo, esta regla no es general. La mejor forma de entender esta fórmula es estudiando su origen."
   ]
  },
  {
   "cell_type": "markdown",
   "id": "53ef8ae3",
   "metadata": {
    "slideshow": {
     "slide_type": "slide"
    }
   },
   "source": [
    "## Fundamentos de la radiación térmica\n",
    "\n",
    "Las vibraciones a nivel molecular también inducen polarización en la materia. Esto es similar al fenómeno de polarización inducida por ondas electromagnéticas estudiada en la unidad 3. Estos dipolos inducidos térmicamente, oscilan constantemente generando campos electromagnéticos que se propagan en dirección radial.\n",
    "\n",
    "<img src=\"./images/radiating_dipole.png\" width=\"700px\" align= center>"
   ]
  },
  {
   "cell_type": "markdown",
   "id": "767562ad",
   "metadata": {
    "slideshow": {
     "slide_type": "slide"
    }
   },
   "source": [
    "En la siguiente animación podemos ver el proceso de emisión de ondas electromagnéticas de un dipolo oscilatorio. El mapa de colores representa la intensidad del campo magnético, es decir $|\\vec{H}|$, donde rojo y azul corresponden, respectivamente, a los valores máximos y mínimos.\n",
    "\n",
    "<img src=\"./images/HW_vertical_noground.gif\" width=\"300px\" align= center>"
   ]
  },
  {
   "cell_type": "markdown",
   "id": "7088a84b",
   "metadata": {
    "cell_style": "center",
    "slideshow": {
     "slide_type": "slide"
    }
   },
   "source": [
    "### Poder de emisión\n",
    "Un cuerpo a temperatura $T$ emite ondas electromagnéticas en todas las direcciones y en un espectro de longitudes de onda. En general, la distribución angular ($\\Omega$) y espectral ($\\lambda$) de la radiación emitida depende de las propiedades ópticas de la superficie y la temperatura del material. "
   ]
  },
  {
   "cell_type": "markdown",
   "id": "b364c7cf",
   "metadata": {
    "slideshow": {
     "slide_type": "fragment"
    }
   },
   "source": [
    "Para caracterizar la intensidad de la radiación emitida por una superficie a tempertura $T$, usamos la **intensidad específica o radiancia espectral**, $I_\\lambda(\\Omega,T)$."
   ]
  },
  {
   "cell_type": "markdown",
   "id": "09477f6e",
   "metadata": {
    "cell_style": "center",
    "slideshow": {
     "slide_type": "slide"
    }
   },
   "source": [
    "La taza de calor total emitido por una superficie $dA$ de un cuerpo negro en función de $\\lambda$ y $\\Omega$, $d\\dot{Q}_\\mathrm{rad}$, está dada por:\n",
    "\n",
    "\\begin{equation}\n",
    "d\\dot{Q}_\\mathrm{rad} = I_{\\lambda}(T,\\Omega) \\cos\\theta dA d\\Omega d\\lambda\n",
    "\\end{equation}"
   ]
  },
  {
   "cell_type": "markdown",
   "id": "f849cc9e",
   "metadata": {
    "cell_style": "split",
    "slideshow": {
     "slide_type": "fragment"
    }
   },
   "source": [
    "El término $\\cos\\theta dA$ corresponde a la proyección de $dA$ en la dirección $\\Omega$"
   ]
  },
  {
   "cell_type": "markdown",
   "id": "d3b63571",
   "metadata": {
    "cell_style": "split"
   },
   "source": [
    "<img src=\"./images/specific_intensity.png\" width=\"300px\" align= center>"
   ]
  },
  {
   "cell_type": "markdown",
   "id": "891a8504",
   "metadata": {
    "cell_style": "center",
    "slideshow": {
     "slide_type": "slide"
    }
   },
   "source": [
    "Definimos como **poder de emisión direccional espectral** a la relación:\n",
    "\n",
    "\\begin{equation}\n",
    "E_{\\lambda,\\Omega}(T) = \\frac{d\\dot{Q}_\\mathrm{rad}}{dAd\\Omega d\\lambda}=I_{\\lambda}(\\lambda,\\Omega)\\cos\\theta ,\\quad\\quad\\frac{\\mathrm{W}}{\\mathrm{m}^2\\cdot\\mu\\mathrm{m}\\cdot\\mathrm{sr}}\n",
    "\\end{equation}"
   ]
  },
  {
   "cell_type": "markdown",
   "id": "ec272999",
   "metadata": {
    "slideshow": {
     "slide_type": "fragment"
    }
   },
   "source": [
    "A diferencia de la intensidad específica, el poder de emisión considera la radiación effectiva emitida por una superficie."
   ]
  },
  {
   "cell_type": "markdown",
   "id": "3c1cf7c2",
   "metadata": {},
   "source": [
    "<img src=\"./images/emissive_power.png\" width=\"500px\" align= center>"
   ]
  },
  {
   "cell_type": "markdown",
   "id": "ad56f5b7",
   "metadata": {
    "slideshow": {
     "slide_type": "slide"
    }
   },
   "source": [
    "A partir de este término podemos derivar:"
   ]
  },
  {
   "cell_type": "markdown",
   "id": "c62c0cc6",
   "metadata": {
    "slideshow": {
     "slide_type": "fragment"
    }
   },
   "source": [
    "- **Poder de emisión hemisférica espectral**, \n",
    "\n",
    "\\begin{align*}\n",
    "E_{\\lambda}(T) = \\frac{d\\dot{Q}}{dA d\\lambda} &= \\int_0^{2\\pi}\\int_0^{\\pi/2}I_{\\lambda}(\\Omega, T)\\cos\\theta~\\sin\\theta  d\\theta d\\phi\n",
    "  \\\\ \n",
    "  &=\\int_\\mathrm{hemi} I_{\\lambda}(\\Omega, T)\\cos\\theta~d\\Omega\n",
    "  ,\\quad\\quad\\frac{\\mathrm{W}}{\\mathrm{m}^2\\cdot\\mu\\mathrm{m}}\n",
    "\\end{align*}"
   ]
  },
  {
   "cell_type": "markdown",
   "id": "a9a23a55",
   "metadata": {
    "slideshow": {
     "slide_type": "fragment"
    }
   },
   "source": [
    "- **Poder de emisión direccional total**,\n",
    "\n",
    "\\begin{equation*}\n",
    "E_\\Omega(T) = \\frac{d\\dot{Q}}{dAd\\Omega}=\\cos\\theta \\int_0^\\infty~ I_{\\lambda}(\\Omega, T)~d\\lambda  ,\\quad\\quad\\frac{\\mathrm{W}}{\\mathrm{m}^2 \\cdot\\mathrm{sr}}\n",
    "\\end{equation*}"
   ]
  },
  {
   "cell_type": "markdown",
   "id": "4c94bf8c",
   "metadata": {
    "slideshow": {
     "slide_type": "fragment"
    }
   },
   "source": [
    "- **Poder de emisión hemisfética total**, \n",
    "\n",
    "\\begin{equation*}\n",
    "E(T) = \\frac{d\\dot{Q}}{dA}=\\int_0^\\infty\\int_\\mathrm{hemi}I_{\\lambda}(\\Omega, T)\\cos\\theta~d\\Omega d\\lambda ,\\quad\\quad\\frac{\\mathrm{W}}{\\mathrm{m}^2}\n",
    "\\end{equation*}"
   ]
  },
  {
   "cell_type": "markdown",
   "id": "b670c6be",
   "metadata": {
    "slideshow": {
     "slide_type": "slide"
    }
   },
   "source": [
    "### Distribución de Planck\n",
    "\n",
    "Max Planck en 1901 determinó que la **máxima radiancia espectral o intensidad específica** (flujo de energía por unidad de longitud de onda y ángulo sólido) emitida por un cuerpo a temperatura $T$, en un medio con índice de refracción $n_1$, está dada por:\n",
    "\n",
    "\\begin{equation}\n",
    "I_{\\mathrm{bb},\\lambda}(\\Omega, T) = \\frac{C_1}{n_1\\lambda^5\\left[\\exp\\left(C_2/\\lambda T\\right) - 1\\right]},\\quad\\quad\\frac{\\mathrm{W}}{\\mathrm{m}^2\\cdot\\mu\\mathrm{m}\\cdot\\mathrm{sr}}\n",
    "\\end{equation}\n",
    "\n",
    "donde \n",
    "\\begin{align*}\n",
    "C_1 &= 2hc_0^2 = 1.19104238\\times 10^8 ~\\mathrm{W}\\cdot\\mu\\mathrm{m}^4/\\mathrm{m}^2 \\\\\n",
    "C_2 &= hc_0/k_\\mathrm{B} = 1.43878\\times10^{4}~\\mu\\mathrm{m}\\cdot\\mathrm{K}\n",
    "\\end{align*}\n",
    "\n",
    "$k_\\mathrm{B} = 1.381\\times 10^{-23}$ J/K $=8.617\\times 10^{-5}$ eV/K, es la constante de Boltzmann. La unidad \"sr\" correponde a un esteroradian."
   ]
  },
  {
   "cell_type": "markdown",
   "id": "4e04c610",
   "metadata": {
    "slideshow": {
     "slide_type": "fragment"
    }
   },
   "source": [
    "Esta es la **distribución de Planck**. Representa la radiancia espectral emitida por un cuerpo idealizado, denominado **cuerpo negro**. Un cuerpo negro, así, representa un emisor perfecto, capaz de emitir la máxima radiacion posible a una temperatura $T$."
   ]
  },
  {
   "cell_type": "markdown",
   "id": "5288e116",
   "metadata": {
    "slideshow": {
     "slide_type": "slide"
    }
   },
   "source": [
    "En el curso utilizaremos la función `BPlank(lam, T)` parte del módulo `ref_spectra` de `èmpylib`. "
   ]
  },
  {
   "cell_type": "markdown",
   "id": "c637fb48",
   "metadata": {
    "slideshow": {
     "slide_type": "fragment"
    }
   },
   "source": [
    "En el siguiente ejemplo, garficamos la distribución de cuerpo negro a $T = 100~^\\circ\\mathrm{C}= 373~\\mathrm{K}$, en el espectro $\\lambda\\in[2,100]$ $\\mu$m."
   ]
  },
  {
   "cell_type": "code",
   "execution_count": 2,
   "id": "55a5c266",
   "metadata": {
    "cell_style": "split",
    "tags": [
     "hide-input"
    ]
   },
   "outputs": [],
   "source": [
    "%%capture showplot0\n",
    "import numpy as np\n",
    "import empylib.ref_spectra as rf\n",
    "import matplotlib.pyplot as plt\n",
    "\n",
    "T = 100 + 273                   # Temperatura del cuerpo negro (K)\n",
    "lam = np.linspace(2,100,1000)   # espectro de longitudes de onda (um)\n",
    "Ibb = rf.Bplanck(lam,T)         # irradiancia espectral de cuerpo negro\n",
    "\n",
    "plt.plot(lam,Ibb)\n",
    "plt.xlabel('Longitud de onda ($\\mu$m)')\n",
    "plt.ylabel('Irradiancia espectral de cuerpo negro, (W/m$^2$-$\\mu$m-sr)')\n",
    "plt.show()"
   ]
  },
  {
   "cell_type": "code",
   "execution_count": 3,
   "id": "62babdaa",
   "metadata": {
    "cell_style": "split",
    "tags": [
     "remove-input"
    ]
   },
   "outputs": [
    {
     "data": {
      "image/png": "[encoded data removed]",
      "text/plain": [
       "<Figure size 640x480 with 1 Axes>"
      ]
     },
     "metadata": {
      "filenames": {
       "image/png": "/mnt/c/Users/frami/OneDrive - Universidad Adolfo Ibanez/Teaching_courses/MEC501 - Manejo_y_Conversion_Energia_Solar/material_catedra/_build/jupyter_execute/06_RadiacionTermica/06_RadiacionTermica_51_0.png"
      }
     },
     "output_type": "display_data"
    }
   ],
   "source": [
    "showplot0()"
   ]
  },
  {
   "cell_type": "markdown",
   "id": "513d759b",
   "metadata": {
    "slideshow": {
     "slide_type": "slide"
    }
   },
   "source": [
    "El poder de emisión hemisférico espectral de la superficie de un cuerpo negro, $E_\\mathrm{bb}(\\lambda,T)$, se obtiene integrando la radiancia espectral por ángulo sólido en el límite de una hemiesfera:\n",
    "\n",
    "\\begin{align*}\n",
    "E_{\\mathrm{bb},\\lambda}(T) = \\int_\\mathrm{hemi} I_{\\mathrm{bb},\\lambda}(\\Omega, T)\\cos\\theta d\\Omega &= I_{\\mathrm{bb},\\lambda}(\\Omega, T)\\int_\\mathrm{hemi} \\cos\\theta d\\Omega\n",
    "  \\\\ \n",
    "  &=\\pi I_{\\mathrm{bb},\\lambda}(\\lambda,T) \n",
    "  ,\\quad\\quad\\frac{\\mathrm{W}}{\\mathrm{m}^2\\cdot\\mu\\mathrm{m}}\n",
    "\\end{align*}"
   ]
  },
  {
   "cell_type": "markdown",
   "id": "1fc00c20",
   "metadata": {
    "slideshow": {
     "slide_type": "fragment"
    }
   },
   "source": [
    "Note que $I_{\\mathrm{bb},\\lambda}$ no depende de $\\Omega$ (la irradiancia de cuerpon negro es igual en todas las direcciones) y, por lo tanto, sale de la integral respecto a $d\\Omega$."
   ]
  },
  {
   "cell_type": "markdown",
   "id": "3cbf0ea5",
   "metadata": {
    "slideshow": {
     "slide_type": "slide"
    }
   },
   "source": [
    "A partir de la integral de $E_\\mathrm{bb}(\\lambda,T)$ en el espectro de longitudes de onda, obtenemos el poder de emisión hemisferico total de un cuerpo negro:\n",
    "\n",
    "\\begin{equation}\n",
    "E_\\mathrm{bb}(T) = \\int_0^\\infty E_{\\mathrm{bb},\\lambda}(\\lambda,T) d\\lambda = \\pi\\int_0^\\infty I_{\\mathrm{bb},\\lambda}(\\lambda,T) d\\lambda = \\sigma T^4,\\quad\\quad\\frac{\\mathrm{W}}{\\mathrm{m}^2}\n",
    "\\end{equation}\n",
    "\n",
    "donde $\\sigma = 5.670\\times10^{-8}$ W/m$^2\\cdot$K$^4$, es la *constante de Stefan-Boltzmann.* Esta fórmula se conoce como la **ley de Stefan-Boltzmann**"
   ]
  },
  {
   "cell_type": "markdown",
   "id": "18b26d00",
   "metadata": {
    "slideshow": {
     "slide_type": "slide"
    }
   },
   "source": [
    "En la siguiente figura, se ilustra $E_{\\mathrm{bb},\\lambda}(\\lambda,T)$ función de la temperatura y longitud de onda.\n"
   ]
  },
  {
   "cell_type": "markdown",
   "id": "0c94c575",
   "metadata": {},
   "source": [
    "<img src=\"./images/blackbody_rad.png\" width=\"700px\" align= center>"
   ]
  },
  {
   "cell_type": "markdown",
   "id": "8eb1ce9b",
   "metadata": {
    "slideshow": {
     "slide_type": "slide"
    }
   },
   "source": [
    "A medida que $T$ aumenta, notamos que el máximo de la curva se desplaza hacia el azul. La longitud de onda correspondiente a este máximo, $\\lambda_\\mathrm{peak}$, está definida por la **ley de desplazamiento de Wien:**\n",
    "\n",
    "\\begin{equation}\n",
    "\\lambda_\\mathrm{peak}T = 2897.8\\quad\\mu\\mathrm{m}\\cdot\\mathrm{K}\n",
    "\\end{equation}\n"
   ]
  },
  {
   "cell_type": "markdown",
   "id": "26d022df",
   "metadata": {
    "slideshow": {
     "slide_type": "fragment"
    }
   },
   "source": [
    "Esta relación permite entender el cambio de color de la fuente emisora con la tempertura."
   ]
  },
  {
   "cell_type": "markdown",
   "id": "441619f6",
   "metadata": {
    "slideshow": {
     "slide_type": "fragment"
    }
   },
   "source": [
    "Recordemos, sin embargo,  que **el color de un material no solo se define por la emisión de radiación, sino también por la forma en la que interactúa con la luz incidente**. Como revisamos en las unidades anteriores, esta interacción está condionada por las propiedades radiativas."
   ]
  },
  {
   "cell_type": "markdown",
   "id": "da43fbee",
   "metadata": {
    "slideshow": {
     "slide_type": "slide"
    }
   },
   "source": [
    "### Propiedades Radiativas\n",
    "\n",
    "Definimos como **emisividad direccional espectral, $\\epsilon_{\\lambda,\\Omega}$,** a la *razón entre la radiación emitida por una superficie, $I_\\lambda(\\lambda,T,\\Omega)$, y la radiación emitida por un cuerpo negro, ambas a temperatura $T$*:\n",
    "\n",
    "\\begin{equation}\n",
    "\\epsilon_{\\lambda,\\Omega} = \\frac{I_\\lambda(\\lambda,T,\\Omega)}{I_{\\mathrm{bb},\\lambda}(\\lambda,T,\\Omega)}\n",
    "\\end{equation}\n",
    "\n",
    "De esta forma, $\\epsilon$ es una propiedad adimensional de superfice que varía entre $0 \\le \\epsilon \\le 1$."
   ]
  },
  {
   "cell_type": "markdown",
   "id": "819d0302",
   "metadata": {
    "slideshow": {
     "slide_type": "fragment"
    }
   },
   "source": [
    "Definimos como **absortividad direccional espectral, $A_{\\lambda,\\Omega}$,** a la *porción de radiación incidente que es absorbida por una superficie*. Igualmente, $0 \\le A_{\\lambda,\\Omega} \\le 1$."
   ]
  },
  {
   "cell_type": "markdown",
   "id": "64a21ba8",
   "metadata": {
    "slideshow": {
     "slide_type": "slide"
    }
   },
   "source": [
    "A través de la **ley de Kirchhoff**, podemos establecer una relación entre la absortancia y emisividad espectral direccional:\n",
    "\n",
    "\\begin{equation}\n",
    "\\epsilon_{\\lambda,\\Omega} = A_{\\lambda,\\Omega}\n",
    "\\end{equation}"
   ]
  },
  {
   "cell_type": "markdown",
   "id": "5dd135bb",
   "metadata": {
    "slideshow": {
     "slide_type": "fragment"
    }
   },
   "source": [
    "En otras palabras, las propiedades de un material como receptor o emisor de radiación, son iguales. Sin embargo, notar que esta igualdad solo existe para la misma longitud de onda y ángulo sólido."
   ]
  },
  {
   "cell_type": "markdown",
   "id": "7af23770",
   "metadata": {
    "slideshow": {
     "slide_type": "fragment"
    }
   },
   "source": [
    "Este concepto, denominado *reciprocidad*, es consecuencia de las ecuaciones de Maxwell y es la base fundamental para el diseño de antenas y radares."
   ]
  },
  {
   "cell_type": "markdown",
   "id": "1f3f624f",
   "metadata": {
    "slideshow": {
     "slide_type": "slide"
    }
   },
   "source": [
    "Por conservación de energía:\n",
    "\\begin{equation}\n",
    "A_{\\lambda,\\Omega} + R_{\\lambda,\\Omega} + T_{\\lambda,\\Omega} = 1\n",
    "\\end{equation}\n"
   ]
  },
  {
   "cell_type": "markdown",
   "id": "c03d9fac",
   "metadata": {
    "slideshow": {
     "slide_type": "fragment"
    }
   },
   "source": [
    "donde $R_{\\lambda,\\Omega}$ y $T_{\\lambda,\\Omega}$ son, respectivamente, la reflectividad y transmisividad espectral direccional del material"
   ]
  },
  {
   "cell_type": "markdown",
   "id": "d93dacf1",
   "metadata": {
    "slideshow": {
     "slide_type": "fragment"
    }
   },
   "source": [
    "Debido a la naturaleza de la radiación térmica, la polarización de las ondas electromagnéticas es aleatoria. Así, $R_{\\lambda,\\Omega}$ y $T_{\\lambda,\\Omega}$ se calculan como:\n",
    "\n",
    "\\begin{equation}\n",
    "R_{\\lambda,\\Omega} = \\frac{R_{\\lambda,\\Omega}^\\mathrm{TM}+R_{\\lambda,\\Omega}^\\mathrm{TE}}{2}\\quad\\quad\n",
    "T_{\\lambda,\\Omega} = \\frac{T_{\\lambda,\\Omega}^\\mathrm{TM}+T_{\\lambda,\\Omega}^\\mathrm{TE}}{2}\n",
    "\\end{equation}"
   ]
  },
  {
   "cell_type": "markdown",
   "id": "1b34032f",
   "metadata": {
    "slideshow": {
     "slide_type": "fragment"
    }
   },
   "source": [
    "A partir de estas relaciones podemos determinar $\\epsilon_{\\lambda,\\Omega}$."
   ]
  },
  {
   "cell_type": "markdown",
   "id": "048661b3",
   "metadata": {
    "slideshow": {
     "slide_type": "slide"
    }
   },
   "source": [
    "Cabe mencionar que en textos de radiometría y transferencia de calor, la reflectividad y transmisividad se denominan, respectivamente, **reflectancia ($\\rho$)**, **transmitancia ($\\tau$).** Igualmente la absortividad se denomina **absortancia ($\\alpha$).** Ambos términos son equivalentes."
   ]
  },
  {
   "cell_type": "markdown",
   "id": "51fbf681",
   "metadata": {
    "slideshow": {
     "slide_type": "fragment"
    }
   },
   "source": [
    "En este curso, seguiremos utilizando los términos y notación de óptica, es decir $R_{\\lambda,\\Omega}$, $T_{\\lambda,\\Omega}$ y $A_{\\lambda,\\Omega}$, para evitar confusiones. "
   ]
  },
  {
   "cell_type": "markdown",
   "id": "4d61c797",
   "metadata": {
    "slideshow": {
     "slide_type": "slide"
    }
   },
   "source": [
    "Como ejemplo, analicemos el poder de emisión espectral direccional, $E_{\\lambda,\\Omega}(T)$ y la emisividad $\\epsilon(\\lambda,\\Omega)$ de una capa de vidrio en función de la temperatura ($T$), espesor ($d$) y dirección ($\\theta$). En este caso: \n",
    "\n",
    "\\begin{align*}\n",
    "E_{\\lambda,\\Omega}(T) &= \\epsilon(\\lambda,\\Omega)I_{\\mathrm{bb},\\lambda}(\\lambda,\\Omega,T)\\cos\\theta \\\\[10pt]\n",
    " &= \\left[1 - R_{\\lambda,\\Omega} - T_{\\lambda,\\Omega}\\right]I_{\\mathrm{bb},\\lambda}(\\lambda,\\Omega,T)\\cos\\theta\n",
    "\\end{align*}"
   ]
  },
  {
   "cell_type": "markdown",
   "id": "e04ec37d",
   "metadata": {
    "slideshow": {
     "slide_type": "slide"
    }
   },
   "source": [
    "Antes, analicemos el índice de refracción del vidrio (sílicice, SiO$_2$), en el espectro $\\lambda\\in[0.3,15]$ $\\mu$m."
   ]
  },
  {
   "cell_type": "code",
   "execution_count": 4,
   "id": "e34559d2",
   "metadata": {
    "cell_style": "split",
    "slideshow": {
     "slide_type": "fragment"
    },
    "tags": [
     "hide-input"
    ]
   },
   "outputs": [],
   "source": [
    "%%capture showplot\n",
    "import numpy as np\n",
    "import empylib.nklib as nk\n",
    "import matplotlib.pyplot as plt\n",
    "\n",
    "lam = np.linspace(0.3,15,100) #longitud de onda en um\n",
    "plt.plot(lam,nk.SiO2(lam).real,'-r',label='$n$')\n",
    "plt.plot(lam,nk.SiO2(lam).imag,'-b',label='$\\kappa$')\n",
    "plt.xlabel('Longitud de onda, $\\lambda$ ($\\mu$m)',fontsize=16)\n",
    "plt.ylabel('$n$, $\\kappa$',fontsize=16)\n",
    "plt.title('Índice de refracción SiO$_2$',fontsize=18)\n",
    "plt.legend(frameon=False,fontsize=16)\n",
    "plt.tick_params(labelsize=16)"
   ]
  },
  {
   "cell_type": "code",
   "execution_count": 5,
   "id": "20435072",
   "metadata": {
    "cell_style": "split"
   },
   "outputs": [
    {
     "data": {
      "image/png": "[encoded data removed]",
      "text/plain": [
       "<Figure size 640x480 with 1 Axes>"
      ]
     },
     "metadata": {
      "filenames": {
       "image/png": "/mnt/c/Users/frami/OneDrive - Universidad Adolfo Ibanez/Teaching_courses/MEC501 - Manejo_y_Conversion_Energia_Solar/material_catedra/_build/jupyter_execute/06_RadiacionTermica/06_RadiacionTermica_74_0.png"
      }
     },
     "output_type": "display_data"
    }
   ],
   "source": [
    "showplot()"
   ]
  },
  {
   "cell_type": "markdown",
   "id": "89749a31",
   "metadata": {
    "slideshow": {
     "slide_type": "fragment"
    }
   },
   "source": [
    "Comparamos $E_{\\lambda,\\Omega}(T)$ con el poder de emisión espectral direccional del cuerpo negro, $E_{\\mathrm{bb},\\lambda,\\Omega} = I_{\\mathrm{bb},\\lambda}\\cos\\theta$"
   ]
  },
  {
   "cell_type": "code",
   "execution_count": 6,
   "id": "f24c88be",
   "metadata": {
    "slideshow": {
     "slide_type": "slide"
    },
    "tags": [
     "hide-input"
    ]
   },
   "outputs": [],
   "source": [
    "import empylib.waveoptics as wv\n",
    "import empylib.nklib as nk\n",
    "import numpy as np\n",
    "from numpy import log10, radians, cos\n",
    "import matplotlib.pyplot as plt\n",
    "from empylib.ref_spectra import Bplanck\n",
    "\n",
    "def plot_emisivity_glass(Temp,d,lam0,theta0):\n",
    "    # PARAMETROS DE ENTRADA\n",
    "    lam = np.linspace(0.3,15,100)\n",
    "    Nfront = 1.0                 # índice de refracción medio superior\n",
    "    N1     = nk.SiO2(lam)        # índice de refracción capa intermedia\n",
    "    Nback  = 4.3                 # índice de refracción medio inferior\n",
    "    N = (Nfront, N1, Nback)      # indices de refracción (above, mid, below)\n",
    "    #-------------------------------------------------------------------------\n",
    "\n",
    "    # CÁLCULO DE VARIABLES\n",
    "    # 1. Gráfico 1: Reflectancia y transmitancia espectral en theta0\n",
    "    Rs, Ts = wv.incoh_multilayer(lam,radians(theta0), N, d*1E3, pol='TM')\n",
    "    Rp, Tp = wv.incoh_multilayer(lam,radians(theta0), N, d*1E3, pol='TE')\n",
    "    \n",
    "    R_lam = (Rs + Rp)/2\n",
    "    T_lam = (Ts + Tp)/2\n",
    "    A_lam = 1 - T_lam - R_lam  # absortancia espectral\n",
    "    \n",
    "   # 2. Gráfico 2: Reflectancia y transmitancia direccional en lam0\n",
    "    theta = np.linspace(0,90,100)\n",
    "    N = (Nfront, nk.SiO2(lam0), Nback) # indices de refracción (above, mid, below)\n",
    "    \n",
    "    A_theta = [] # generamos la absortancia direccional en este loop\n",
    "    for theta_i in theta:\n",
    "        Rs, Ts = wv.incoh_multilayer(lam0,radians(theta_i), N, d*1E3, pol='TM')\n",
    "        Rp, Tp = wv.incoh_multilayer(lam0,radians(theta_i), N, d*1E3, pol='TE')\n",
    "        R = (Rs + Rp)/2\n",
    "        T = (Ts + Tp)/2\n",
    "        A_theta.append(1 - T - R)\n",
    "    A_theta = np.array(A_theta).flatten() # convertimos la lista a ndarray\n",
    "    \n",
    "    # 3. Gráfico 3: Poder de emisión direccional espectral\n",
    "    E_lam = A_lam*Bplanck(lam,Temp)*cos(radians(theta0)) # poder de emisión material\n",
    "    E_bb  =       Bplanck(lam,Temp)*cos(radians(theta0)) # poder de emisión de cuerpo negro\n",
    "    #-------------------------------------------------------------------------\n",
    "    \n",
    "    # GRAFICAMOS RESULTADOS.\n",
    "    fig, ax = plt.subplots(1,3)             # 3 ejes\n",
    "    fig.set_size_inches(16, 5)              # Tamaño de figura\n",
    "    \n",
    "    # 1. Propiedades radiativas direccional espectral para theta0\n",
    "    ax[0].plot(lam,R_lam,'--r',label=r'$R_{\\lambda,\\Omega}$',linewidth=0.5)\n",
    "    ax[0].plot(lam,T_lam,'--b',label=r'$T_{\\lambda,\\Omega}$',linewidth=0.5)\n",
    "    ax[0].plot(lam,A_lam,'-k',label=r'$A_{\\lambda,\\Omega}$',linewidth=2.0)  \n",
    "    ax[0].plot(lam0,np.interp(lam0,lam,A_lam),'or',ms=8.0)   \n",
    "    ax[0].set_xlabel('$\\lambda$ ($\\mu$m)',fontsize=18)\n",
    "    ax[0].set_ylabel(r'$R_{\\lambda,\\Omega}$, $T_{\\lambda,\\Omega}$ y $A_{\\lambda,\\Omega}$',fontsize=18)\n",
    "    ax[0].set_ylim(0,1.05)\n",
    "    ax[0].set_title(r'$\\theta = $ %i°' % theta0,fontsize=18)\n",
    "    ax[0].legend(fontsize=16, loc='lower right')\n",
    "    ax[0].tick_params(labelsize=16)\n",
    "    \n",
    "    # 2. Emisividad direccional espectral para lam0\n",
    "    ax[1].plot(theta,A_theta,'-k')  \n",
    "    ax[1].plot(theta0,np.interp(theta0,theta,A_theta),'or',ms=8.0)   \n",
    "    ax[1].set_xlabel(r'$\\theta$ (deg)',fontsize=18)\n",
    "    ax[1].set_ylabel(r'$\\epsilon_{\\lambda,\\Omega}(\\theta)$',fontsize=18)\n",
    "    ax[1].set_title(r'$\\lambda = $ %.2f $\\mu$m' % lam0,fontsize=18)\n",
    "    ax[1].set_ylim(0,1.05)\n",
    "    ax[1].tick_params(labelsize=16)\n",
    "    \n",
    "    # 3. Poder de emisión direccional espectral para theta0\n",
    "    ax[2].plot(lam,E_lam,'-k',label =r'$E_{\\lambda,\\Omega}$')\n",
    "    ax[2].plot(lam,E_bb,'-r',label =r'$E_\\mathrm{bb}$') \n",
    "    ax[2].plot(lam0,np.interp(lam0,lam,E_lam),'or',ms=8.0)   \n",
    "    ax[2].set_xlabel('Longitud de onda ($\\mu$m)',fontsize=18)\n",
    "    ax[2].set_ylabel(r'$E_{\\lambda,\\Omega}$(T) (W/m$^2$-$\\mu$m-sr)',fontsize=18)\n",
    "    ax[2].set_title(r'd = %.2f mm, $\\theta$=%i°' % (d,theta0) ,fontsize=18)\n",
    "    ax[2].set_ylim(0,max(Bplanck(lam,Temp))*1.05)\n",
    "    ax[2].legend(fontsize=16)\n",
    "    ax[2].tick_params(labelsize=16)\n",
    "    \n",
    "    plt.subplots_adjust(wspace=0.30)\n",
    "    plt.show()"
   ]
  },
  {
   "cell_type": "code",
   "execution_count": 7,
   "id": "8e3af1c4",
   "metadata": {
    "slideshow": {
     "slide_type": "slide"
    },
    "tags": [
     "hide-input"
    ]
   },
   "outputs": [
    {
     "data": {
      "application/vnd.jupyter.widget-view+json": {
       "model_id": "b8fbe28cad254e0db5604dfdf2c8e9ae",
       "version_major": 2,
       "version_minor": 0
      },
      "text/plain": [
       "interactive(children=(IntSlider(value=300, description='T', max=1000, min=300, step=10), FloatSlider(value=1.0…"
      ]
     },
     "metadata": {},
     "output_type": "display_data"
    }
   ],
   "source": [
    " from ipywidgets import interact\n",
    "\n",
    "@interact(T=(300,1000,10), d=(0,10,0.1), lam0=(5,10,0.1), theta0=(0,90,1))\n",
    "def g(T=300,d=1, lam0=10, theta0=0):\n",
    "    return plot_emisivity_glass(T,d,lam0,theta0)"
   ]
  },
  {
   "cell_type": "markdown",
   "id": "1071c1d3",
   "metadata": {
    "slideshow": {
     "slide_type": "slide"
    }
   },
   "source": [
    "Al igual que con el poder de emisión, la emisividad puede también ser definida de forma hemisférica (integración por ángulo sólido) o total (integración por longitudes de onda)"
   ]
  },
  {
   "cell_type": "markdown",
   "id": "67f1a8ba",
   "metadata": {
    "slideshow": {
     "slide_type": "fragment"
    }
   },
   "source": [
    "**Emisividad direccional total**\n",
    "\\begin{equation}\n",
    "\\epsilon_\\Omega(\\Omega,T) = \\frac{E_\\Omega(T)}{E_{\\Omega,bb}(T)} =\\frac{\\int_0^\\infty \\epsilon_{\\lambda,\\Omega} I_{\\mathrm{bb},\\lambda} (T)\\cos\\theta~d\\lambda}{\\int_0^\\infty I_{\\mathrm{bb},\\lambda} (T)\\cos\\theta~d\\lambda} = \\frac{\\pi}{\\sigma T^4}\\int_0^\\infty \\epsilon_{\\lambda,\\Omega} I_{\\mathrm{bb},\\lambda} (T)~d\\lambda\n",
    "\\end{equation}"
   ]
  },
  {
   "cell_type": "markdown",
   "id": "6e8b85fd",
   "metadata": {
    "slideshow": {
     "slide_type": "fragment"
    }
   },
   "source": [
    "**Emisividad hemisférica espectral**\n",
    "\\begin{equation}\n",
    "\\epsilon_\\lambda(\\lambda) = \\frac{E_\\lambda(T)}{E_{\\lambda,bb}(T)} = \\frac{\\int_\\mathrm{hemi}\\epsilon_{\\lambda,\\Omega}I_{\\mathrm{bb},\\lambda}(T)\\cos\\theta~d\\Omega}{\\pi I_{\\mathrm{bb},\\lambda}(T)}  = \\frac{1}{\\pi}\\int_\\mathrm{hemi}\\epsilon_{\\lambda,\\Omega}\\cos\\theta~d\\Omega\n",
    "\\end{equation}"
   ]
  },
  {
   "cell_type": "markdown",
   "id": "7af36cfb",
   "metadata": {
    "slideshow": {
     "slide_type": "fragment"
    }
   },
   "source": [
    "**Emisividad hemisférica total**\n",
    "\\begin{equation}\n",
    "\\epsilon(T) = \\frac{E(T)}{\\sigma T^4} =\\frac{1}{\\sigma T^4}\\int\\int_0^\\infty \\epsilon_{\\lambda,\\Omega} I_{\\mathrm{bb},\\lambda} (T)\\cos\\theta~d\\lambda~d\\Omega\n",
    "\\end{equation}"
   ]
  },
  {
   "cell_type": "markdown",
   "id": "041e5c23",
   "metadata": {
    "slideshow": {
     "slide_type": "slide"
    }
   },
   "source": [
    "Notar que las valores totales (integración en el espectro), implícitamente dependen de $T$ debido al factor $\\sigma T^4$."
   ]
  },
  {
   "cell_type": "markdown",
   "id": "42cb2a6f",
   "metadata": {
    "slideshow": {
     "slide_type": "slide"
    }
   },
   "source": [
    "### Materiales idealizados"
   ]
  },
  {
   "cell_type": "markdown",
   "id": "250a53e9",
   "metadata": {
    "slideshow": {
     "slide_type": "fragment"
    }
   },
   "source": [
    "- Decimos que una superficie es **difusa** cuando sus propiedades radiativas no dependen de $\\Omega$. Es práctica común suponer que las superficies son emisores difusos, con una emisividad igual al valor de la dirección normal ($\\theta = 0$)."
   ]
  },
  {
   "cell_type": "markdown",
   "id": "61822fca",
   "metadata": {
    "slideshow": {
     "slide_type": "fragment"
    }
   },
   "source": [
    "- Decimos que una superficie es **gris** cuando la emisividad es independiente de $\\lambda$."
   ]
  },
  {
   "cell_type": "markdown",
   "id": "55b28916",
   "metadata": {
    "slideshow": {
     "slide_type": "fragment"
    }
   },
   "source": [
    "- Decimos que una superficie es **opaca** cuando $T_{\\lambda,\\Omega} = 0$. En este caso, \n",
    "tenemos $A_{\\lambda,\\Omega} + R_{\\lambda,\\Omega} = 1$"
   ]
  },
  {
   "cell_type": "markdown",
   "id": "0107051b",
   "metadata": {
    "slideshow": {
     "slide_type": "fragment"
    }
   },
   "source": [
    "- En el caso de **gases**, $R_{\\lambda,\\Omega} \\approx 0$, así $A_{\\lambda,\\Omega} + T_{\\lambda,\\Omega} = 1$"
   ]
  },
  {
   "cell_type": "markdown",
   "id": "e11ffe84",
   "metadata": {
    "slideshow": {
     "slide_type": "slide"
    }
   },
   "source": [
    "Por ejemplo, calculemos la emisividad de la pintura blanca a $T = 25\\mathrm{°C}$."
   ]
  },
  {
   "cell_type": "markdown",
   "id": "027cb5ed",
   "metadata": {
    "cell_style": "center",
    "slideshow": {
     "slide_type": "fragment"
    }
   },
   "source": [
    "Como supuestos, consideraremos que la pintura blanca tiene: \n",
    "- 1 mm de espesor\n",
    "- Está compuesta de una solución de partículas de TiO$_2$ de 1 $\\mu\\mathrm{m}$ de diámetro, con concentración de 40% v/v \n",
    "- sumerjidas en un solvente con índice de refracción $N_\\mathrm{solvente} = 1.5$.\n",
    "- También asumiremos aire a ambos lados de la película de pintura. "
   ]
  },
  {
   "cell_type": "markdown",
   "id": "5bd7ac90",
   "metadata": {
    "cell_style": "center",
    "slideshow": {
     "slide_type": "fragment"
    }
   },
   "source": [
    "En este caso, debido a la rugosidad de la pintura, es normal **asumir que la superficie se comporta como superficie opaca** y, por lo tanto, calcularemos la emisividad espectral en dirección normal."
   ]
  },
  {
   "cell_type": "markdown",
   "id": "ac46261f",
   "metadata": {
    "cell_style": "center",
    "slideshow": {
     "slide_type": "fragment"
    }
   },
   "source": [
    "Usamos la función `adm_sphere` de `empylib.rad_transfer` que calcula al reflectancia y transmitancia total (especular + difusa) en dirección normal"
   ]
  },
  {
   "cell_type": "markdown",
   "id": "ee9b6103",
   "metadata": {
    "slideshow": {
     "slide_type": "slide"
    }
   },
   "source": [
    "Primero, graficamos el espectro de reflectancia ($R$), transmitancia ($T$) y absortancia ($A$)."
   ]
  },
  {
   "cell_type": "code",
   "execution_count": 8,
   "id": "c130aa97",
   "metadata": {
    "slideshow": {
     "slide_type": "fragment"
    },
    "tags": [
     "hide-input"
    ]
   },
   "outputs": [
    {
     "data": {
      "image/png": "[encoded data removed]",
      "text/plain": [
       "<Figure size 800x300 with 1 Axes>"
      ]
     },
     "metadata": {
      "filenames": {
       "image/png": "/mnt/c/Users/frami/OneDrive - Universidad Adolfo Ibanez/Teaching_courses/MEC501 - Manejo_y_Conversion_Energia_Solar/material_catedra/_build/jupyter_execute/06_RadiacionTermica/06_RadiacionTermica_93_0.png"
      }
     },
     "output_type": "display_data"
    }
   ],
   "source": [
    "import empylib.rad_transfer as rt\n",
    "import empylib.nklib as nk\n",
    "from matplotlib.ticker import ScalarFormatter, FuncFormatter\n",
    "\n",
    "lam   = np.linspace(0.2,100,1000) # espectro de longitudes de onda (um)\n",
    "tfilm = 1                         # espesor de la película (mm)\n",
    "Nlayers = (1.0,1.5,1.0)           # índice de refracción aire / solvente / aire\n",
    "fv = 0.4                          # concentración (fracción de volúmen)\n",
    "Np = nk.TiO2(lam)                 # índice de refracción de las partículas\n",
    "D  = 1.000                        # diámetro de las partículas (um)\n",
    "\n",
    "R, T = rt.adm_sphere(lam,tfilm,Nlayers,fv,D,Np)\n",
    "A = 1 - R - T\n",
    "\n",
    "fig, ax1 = plt.subplots(figsize=(8,3))\n",
    "ax1.plot(lam,R,'-r', label = 'R')\n",
    "ax1.plot(lam,T,'-b', label = 'T')\n",
    "ax1.plot(lam,A,'-k', label = 'A')\n",
    "\n",
    "ax1.set_xlabel('Longitud de onda, $\\mu$m')\n",
    "ax1.set_xscale('log')\n",
    "ax1.set_xticks([0.3,0.4,0.75,1.4,3,8,15,30, 50, 100])\n",
    "ax1.set_ylabel('Irradiancia espectral (W/m$^2$-$\\mu$m)')\n",
    "ax1.set_xlim(0.3,100)\n",
    "\n",
    "ax1.xaxis.set_major_formatter(FuncFormatter(lambda y, _: '{:.16g}'.format(y)))\n",
    "ax1.legend(frameon=False)\n",
    "plt.show()"
   ]
  },
  {
   "cell_type": "markdown",
   "id": "2dd36558",
   "metadata": {
    "cell_style": "center",
    "slideshow": {
     "slide_type": "slide"
    }
   },
   "source": [
    "Calculamos la emisividad total hemisférica mediante la ecuación (6.14):\n",
    "\n",
    "\\begin{align*}\n",
    "\\epsilon(T) &=\\frac{1}{\\sigma T^4}\\int_0^\\infty \\int \\epsilon_{\\lambda} I_{\\mathrm{bb},\\lambda} (T)\\cos\\theta~d\\Omega~d\\lambda \\\\\n",
    "&=\\frac{1}{\\sigma T^4}\\pi\\int_0^\\infty \\epsilon_{\\lambda} I_{\\mathrm{bb},\\lambda} (T)~d\\lambda\n",
    "\\end{align*}\n",
    "\n",
    "*Notar que $\\epsilon_{\\lambda}$ sale de la integral de $d\\Omega$ debido a que consideramos superficie difusa.*"
   ]
  },
  {
   "cell_type": "markdown",
   "id": "adacfdb6",
   "metadata": {
    "cell_style": "center",
    "slideshow": {
     "slide_type": "fragment"
    }
   },
   "source": [
    "Numericamente, integramos usando la regla del trapecio (`numpy.trapz`)"
   ]
  },
  {
   "cell_type": "code",
   "execution_count": 9,
   "id": "935e2452",
   "metadata": {
    "cell_style": "center",
    "slideshow": {
     "slide_type": "fragment"
    }
   },
   "outputs": [
    {
     "name": "stdout",
     "output_type": "stream",
     "text": [
      "la emisividad de la pintura blanca es : 0.929\n"
     ]
    }
   ],
   "source": [
    "T = 25 + 273                        # Temperatura de la pintura \n",
    "eps_lambda = A                      # Emisividad espectral de la pintura\n",
    "sigma = 5.67E-8                     # Constante de Steffan-Boltzmann \n",
    "eps_white_paint = 1/(sigma*T**4)*np.pi*np.trapz(eps_lambda*rf.Bplanck(lam,T),lam)\n",
    "\n",
    "print('la emisividad de la pintura blanca es : %.3f' % eps_white_paint)"
   ]
  },
  {
   "cell_type": "markdown",
   "id": "4a494870",
   "metadata": {
    "slideshow": {
     "slide_type": "slide"
    }
   },
   "source": [
    "### Irradiancia (G)"
   ]
  },
  {
   "cell_type": "markdown",
   "id": "fbc52f8b",
   "metadata": {
    "cell_style": "split",
    "slideshow": {
     "slide_type": "fragment"
    }
   },
   "source": [
    "Definimos como **irradiación espectral direccional, $G_{\\lambda,\\Omega}$** a la radiancia espectral incidente en una superficie.\n",
    "\n",
    "<img src=\"./images/irradiance.png\" width=\"300px\" align= center>"
   ]
  },
  {
   "cell_type": "markdown",
   "id": "ee20e9bd",
   "metadata": {
    "cell_style": "split",
    "slideshow": {
     "slide_type": "fragment"
    }
   },
   "source": [
    "Matemáticamente:\n",
    "\n",
    "\\begin{equation}\n",
    "G_{\\lambda,\\Omega} = I_i(\\lambda,\\Omega) \\cos\\theta\\quad\\frac{\\mathrm{W}}{\\mathrm{m}^2}\n",
    "\\end{equation}\n",
    "\n",
    "donde $I_i$ es la radiancia espectral incidente sobre una superficie $dA$"
   ]
  },
  {
   "cell_type": "markdown",
   "id": "28f8903f",
   "metadata": {
    "slideshow": {
     "slide_type": "slide"
    }
   },
   "source": [
    "La irradiancia permite determinar valores promedio para la absortancia, transmitancia y reflectancia. Al igual que en los casos anteriores, podemos extraer valores promedio del tipo hemisférico (integración por ángulo sólido) o total (integración por longitudes de onda). Por ejemplo, para la absortancia"
   ]
  },
  {
   "cell_type": "markdown",
   "id": "04fc2a89",
   "metadata": {
    "slideshow": {
     "slide_type": "fragment"
    }
   },
   "source": [
    "**Absorptancia direccional total**\n",
    "\\begin{equation}\n",
    "\\alpha_\\Omega(\\Omega,T) = \\frac{\\int_0^\\infty \\alpha_{\\lambda,\\Omega} G_{\\lambda,\\Omega} (T)~d\\lambda}{\\int_0^\\infty G_{\\lambda,\\Omega} (T)~d\\lambda}\n",
    "\\end{equation}"
   ]
  },
  {
   "cell_type": "markdown",
   "id": "67f37e2e",
   "metadata": {
    "slideshow": {
     "slide_type": "fragment"
    }
   },
   "source": [
    "**Absorptancia hemisférica espectral**\n",
    "\\begin{equation}\n",
    "\\alpha_\\lambda(\\lambda) = \\frac{\\int_\\mathrm{hemi}\\alpha_{\\lambda,\\Omega}G_{\\lambda,\\Omega}~d\\Omega}{\\pi G_{\\lambda,\\Omega}}\n",
    "\\end{equation}"
   ]
  },
  {
   "cell_type": "markdown",
   "id": "47329f1f",
   "metadata": {
    "slideshow": {
     "slide_type": "fragment"
    }
   },
   "source": [
    "**Absorptancia hemisférica total**\n",
    "\\begin{equation}\n",
    "\\alpha = \\frac{\\int_\\mathrm{hemi} \\int_0^\\infty \\alpha_{\\lambda,\\Omega} G_{\\lambda,\\Omega} (T)~d\\lambda d\\Omega}{\\int_\\mathrm{hemi} \\int_0^\\infty G_{\\lambda,\\Omega} (T)~d\\lambda d\\Omega}\n",
    "\\end{equation}"
   ]
  },
  {
   "cell_type": "markdown",
   "id": "823c3612",
   "metadata": {},
   "source": [
    "### Radiosidad (J)"
   ]
  },
  {
   "cell_type": "markdown",
   "id": "04ee6eb9",
   "metadata": {
    "slideshow": {
     "slide_type": "slide"
    }
   },
   "source": [
    "Definimos como **radiosidad, $J_{\\lambda,\\Omega}$** a la combinación de radiación emitida y reflejada por una superficie"
   ]
  },
  {
   "cell_type": "markdown",
   "id": "bae8d429",
   "metadata": {
    "cell_style": "split",
    "slideshow": {
     "slide_type": "-"
    }
   },
   "source": [
    "\n",
    "<img src=\"./images/radiosity.png\" width=\"250px\" align= center>"
   ]
  },
  {
   "cell_type": "markdown",
   "id": "23a0cca5",
   "metadata": {
    "cell_style": "split",
    "slideshow": {
     "slide_type": "fragment"
    }
   },
   "source": [
    "Matemáticamente:\n",
    "\\begin{equation}\n",
    "J_{\\lambda,\\Omega} = R_{\\lambda,\\Omega}G_{\\lambda,\\Omega}+E_{\\lambda,\\Omega}\n",
    "\\end{equation}"
   ]
  },
  {
   "cell_type": "markdown",
   "id": "0fc1336c",
   "metadata": {
    "slideshow": {
     "slide_type": "fragment"
    }
   },
   "source": [
    "Al igual que con el poder de emisión y la irradiancia, la radiosidad ($J_{\\lambda,\\Omega}$) puede ser definidas de forma hemisférica (integrando por ángulo sólido) o total (integrando por longitud de onda)."
   ]
  },
  {
   "cell_type": "markdown",
   "id": "7c66c252",
   "metadata": {
    "slideshow": {
     "slide_type": "slide"
    }
   },
   "source": [
    "## Transferencia de calor por radiación"
   ]
  },
  {
   "cell_type": "markdown",
   "id": "4d97cde2",
   "metadata": {
    "slideshow": {
     "slide_type": "slide"
    }
   },
   "source": [
    "### Factor de visión para superficies difusas\n",
    "La transferencia de calor por radiación depende de la orientación relativa entre las superficies."
   ]
  },
  {
   "cell_type": "markdown",
   "id": "a9c57dec",
   "metadata": {
    "slideshow": {
     "slide_type": "fragment"
    }
   },
   "source": [
    "En general, este análisis es complejo ya que requiere integración por ángulo sólido considerando factores geométricos y dependencia de las propiedades radiativas con la orientación. En el caso de superficies difusas, sin embargo, podemos simplificar el análisis considerando sólamente los aspectos geométricos."
   ]
  },
  {
   "cell_type": "markdown",
   "id": "24d32a93",
   "metadata": {
    "slideshow": {
     "slide_type": "slide"
    }
   },
   "source": [
    "Consideremos el parámetro,  $\\dot{Q}_{dA_1\\rightarrow dA_2}$, que representa la radiación espectral emitida por una superficie $dA_1$ que incide sobre una superficie $dA_2$."
   ]
  },
  {
   "cell_type": "markdown",
   "id": "2361fe98",
   "metadata": {
    "cell_style": "split",
    "slideshow": {
     "slide_type": "fragment"
    }
   },
   "source": [
    "\n",
    "<img src=\"./images/vision_factor.png\" width=\"250px\" align= center>"
   ]
  },
  {
   "cell_type": "markdown",
   "id": "551f2ce3",
   "metadata": {
    "cell_style": "split",
    "slideshow": {
     "slide_type": "-"
    }
   },
   "source": [
    "\\begin{equation*}\n",
    "dQ_{dA_1\\rightarrow dA_2} = I_{\\mathrm{bb},\\lambda}(T_1)\\cos\\theta_1 dA_1 d\\Omega_{12}\n",
    "\\end{equation*}"
   ]
  },
  {
   "cell_type": "markdown",
   "id": "8d71c791",
   "metadata": {
    "cell_style": "split",
    "slideshow": {
     "slide_type": "fragment"
    }
   },
   "source": [
    "A través de la relación $r^2 d\\Omega_{12} = \\cos\\theta_2 dA_2$, podemos determinar:\n",
    "\n",
    "\\begin{equation*}\n",
    "\\dot{Q}_{dA_1\\rightarrow dA_2} = I_{\\mathrm{bb},\\lambda}(T_1) \\frac{\\cos\\theta_1 \\cos\\theta_2}{r^2 }dA_1dA_2\n",
    "\\end{equation*}"
   ]
  },
  {
   "cell_type": "markdown",
   "id": "f892a331",
   "metadata": {
    "slideshow": {
     "slide_type": "slide"
    }
   },
   "source": [
    "La radiación total espectral que incide sobre la superficie $A_2$, es:\n",
    "\n",
    "\\begin{equation*}\n",
    "\\dot{Q}_{A_1\\rightarrow A_2} = \\int_{A_1}\\int_{A_1}I_{\\mathrm{bb},\\lambda}(T_1) \\frac{\\cos\\theta_1 \\cos\\theta_2}{r^2 }dA_1dA_2\n",
    "\\end{equation*}"
   ]
  },
  {
   "cell_type": "markdown",
   "id": "1ecc9bb7",
   "metadata": {
    "slideshow": {
     "slide_type": "fragment"
    }
   },
   "source": [
    "Definimos como **factor de visión o factor de forma, $F_{12}$** a la razón entre $\\dot{Q}_{A_1\\rightarrow A_2}$ y la radiación hemisférica espectral emitida por $A_1$, es decir $\\dot{Q}_{A_1} = \\pi I_{\\mathrm{bb},\\lambda}(T_1) A_1 $:\n",
    "\n",
    "\n",
    "\\begin{equation}\n",
    "F_{12} = \\frac{\\dot{Q}_{A_1\\rightarrow A_2}}{\\dot{Q}_{A_1}} = \\frac{1}{A_1}\\int_{A_1}\\int_{A_2} \\frac{\\cos\\theta_1 \\cos\\theta_2}{\\pi r^2 }dA_1dA_2\n",
    "\\end{equation}"
   ]
  },
  {
   "cell_type": "markdown",
   "id": "410f376e",
   "metadata": {
    "slideshow": {
     "slide_type": "fragment"
    }
   },
   "source": [
    "El factor de visión permite simplificar el análisis para determinar el calor por radiación transferido a una superficie, de la forma:\n",
    "\n",
    "\\begin{equation*}\n",
    "\\dot{Q}_{A_1\\rightarrow A_2} = I_{\\mathrm{bb},\\lambda}(T_1) A_1F_{12}\n",
    "\\end{equation*}"
   ]
  },
  {
   "cell_type": "markdown",
   "id": "9973f4be",
   "metadata": {
    "slideshow": {
     "slide_type": "slide"
    }
   },
   "source": [
    "Por reciprocidad, el factor de visión desde $A_2$ a $A_1$ es:\n",
    "\n",
    "\\begin{equation*}\n",
    "F_{21} = \\frac{1}{A_2}\\int_{A_1}\\int_{A_2} \\frac{\\cos\\theta_1 \\cos\\theta_2}{\\pi r^2 }dA_1dA_2\n",
    "\\end{equation*}"
   ]
  },
  {
   "cell_type": "markdown",
   "id": "fd088d94",
   "metadata": {
    "slideshow": {
     "slide_type": "fragment"
    }
   },
   "source": [
    "De donde deducimos la relación:\n",
    "\n",
    "\\begin{equation}\n",
    "A_1 F_{12} = A_2 F_{21}\n",
    "\\end{equation}"
   ]
  },
  {
   "cell_type": "markdown",
   "id": "3e0d1079",
   "metadata": {
    "slideshow": {
     "slide_type": "fragment"
    }
   },
   "source": [
    "Las expresiones para el factor de visión se encuentran tabuladas en diversos textos especializados. "
   ]
  },
  {
   "cell_type": "markdown",
   "id": "1f2c6d99",
   "metadata": {
    "slideshow": {
     "slide_type": "slide"
    }
   },
   "source": [
    "Si una de las superficies es muy pequeña respecto a la otra, $F_{12} = 1$"
   ]
  },
  {
   "cell_type": "markdown",
   "id": "4f7b9ad8",
   "metadata": {},
   "source": [
    "\n",
    "<img src=\"./images/vision_factor_table.png\" width=\"500px\" align= center>"
   ]
  },
  {
   "cell_type": "markdown",
   "id": "bd990181",
   "metadata": {
    "slideshow": {
     "slide_type": "slide"
    }
   },
   "source": [
    "### Transferencia de calor por radiación\n",
    "En el caso de dos superficies negras a temperaturas $T_1$ y $T_2$, la transferencia de calor neta por radiación es:\n",
    "\n",
    "\\begin{align}\n",
    "\\dot{Q} &= \\dot{Q}_{A_1\\rightarrow A_2} - \\dot{Q}_{A_2\\rightarrow A_1} \\nonumber \\\\[10pt]\n",
    "&= A_1F_{12}\\sigma T_1^4 - A_2F_{21}\\sigma T_2^4 \\nonumber \\\\[10pt]\n",
    "&= A_1F_{12}\\sigma\\left(T_1^4 - T_2^4\\right)\n",
    "\\end{align}"
   ]
  },
  {
   "cell_type": "markdown",
   "id": "17c1dc23",
   "metadata": {
    "cell_style": "center",
    "slideshow": {
     "slide_type": "slide"
    }
   },
   "source": [
    "## Referencias\n",
    "- Çengel Y. A y Ghanjar A. J. **Capítulo 12 - Fundamentos de la radiación térmica** en *Transferencia de calor y masa*, 4ta Ed, McGraw Hill, 2011"
   ]
  },
  {
   "cell_type": "code",
   "execution_count": 10,
   "id": "6e0a420c",
   "metadata": {
    "tags": [
     "remove-input"
    ]
   },
   "outputs": [
    {
     "data": {
      "image/jpeg": "[encoded data removed]",
      "text/html": [
       "\n",
       "<iframe\n",
       "    width=\"600\"\n",
       "    height=\"400\"\n",
       "    src=\"https://www.youtube.com/embed/FDmYCI_xYlA?playsinline=0\"\n",
       "    frameborder=\"0\"\n",
       "    allowfullscreen\n",
       "\n",
       "></iframe>\n"
      ],
      "text/plain": [
       "<IPython.lib.display.YouTubeVideo at 0x7f6a70774a30>"
      ]
     },
     "execution_count": 10,
     "metadata": {
      "filenames": {
       "image/jpeg": "/mnt/c/Users/frami/OneDrive - Universidad Adolfo Ibanez/Teaching_courses/MEC501 - Manejo_y_Conversion_Energia_Solar/material_catedra/_build/jupyter_execute/06_RadiacionTermica/06_RadiacionTermica_126_0.jpg"
      }
     },
     "output_type": "execute_result"
    }
   ],
   "source": [
    "from IPython.display import YouTubeVideo\n",
    "YouTubeVideo('FDmYCI_xYlA', width=600, height=400,  playsinline=0)"
   ]
  }
 ],
 "metadata": {
  "celltoolbar": "Tags",
  "kernelspec": {
   "display_name": "Python 3 (ipykernel)",
   "language": "python",
   "name": "python3"
  },
  "language_info": {
   "codemirror_mode": {
    "name": "ipython",
    "version": 3
   },
   "file_extension": ".py",
   "mimetype": "text/x-python",
   "name": "python",
   "nbconvert_exporter": "python",
   "pygments_lexer": "ipython3",
   "version": "3.9.12"
  },
  "latex_envs": {
   "LaTeX_envs_menu_present": false,
   "autoclose": false,
   "autocomplete": false,
   "bibliofile": "biblio.bib",
   "cite_by": "apalike",
   "current_citInitial": 1,
   "eqLabelWithNumbers": true,
   "eqNumInitial": 1,
   "hotkeys": {
    "equation": "Ctrl-E",
    "itemize": "Ctrl-I"
   },
   "labels_anchors": false,
   "latex_user_defs": false,
   "report_style_numbering": false,
   "user_envs_cfg": true
  },
  "toc": {
   "base_numbering": 1,
   "nav_menu": {},
   "number_sections": true,
   "sideBar": true,
   "skip_h1_title": true,
   "title_cell": "Tabla de contenidos",
   "title_sidebar": "Contenidos",
   "toc_cell": false,
   "toc_position": {
    "height": "calc(100% - 180px)",
    "left": "10px",
    "top": "150px",
    "width": "307.2px"
   },
   "toc_section_display": true,
   "toc_window_display": false
  },
  "varInspector": {
   "cols": {
    "lenName": 16,
    "lenType": 16,
    "lenVar": 40
   },
   "kernels_config": {
    "python": {
     "delete_cmd_postfix": "",
     "delete_cmd_prefix": "del ",
     "library": "var_list.py",
     "varRefreshCmd": "print(var_dic_list())"
    },
    "r": {
     "delete_cmd_postfix": ") ",
     "delete_cmd_prefix": "rm(",
     "library": "var_list.r",
     "varRefreshCmd": "cat(var_dic_list()) "
    }
   },
   "types_to_exclude": [
    "module",
    "function",
    "builtin_function_or_method",
    "instance",
    "_Feature"
   ],
   "window_display": false
  },
  "widgets": {
   "application/vnd.jupyter.widget-state+json": {
    "state": {
     "1b69625b39814af1827fb752f778e652": {
      "model_module": "@jupyter-widgets/base",
      "model_module_version": "1.2.0",
      "model_name": "LayoutModel",
      "state": {
       "_model_module": "@jupyter-widgets/base",
       "_model_module_version": "1.2.0",
       "_model_name": "LayoutModel",
       "_view_count": null,
       "_view_module": "@jupyter-widgets/base",
       "_view_module_version": "1.2.0",
       "_view_name": "LayoutView",
       "align_content": null,
       "align_items": null,
       "align_self": null,
       "border": null,
       "bottom": null,
       "display": null,
       "flex": null,
       "flex_flow": null,
       "grid_area": null,
       "grid_auto_columns": null,
       "grid_auto_flow": null,
       "grid_auto_rows": null,
       "grid_column": null,
       "grid_gap": null,
       "grid_row": null,
       "grid_template_areas": null,
       "grid_template_columns": null,
       "grid_template_rows": null,
       "height": null,
       "justify_content": null,
       "justify_items": null,
       "left": null,
       "margin": null,
       "max_height": null,
       "max_width": null,
       "min_height": null,
       "min_width": null,
       "object_fit": null,
       "object_position": null,
       "order": null,
       "overflow": null,
       "overflow_x": null,
       "overflow_y": null,
       "padding": null,
       "right": null,
       "top": null,
       "visibility": null,
       "width": null
      }
     },
     "21a1d97fd7724a088cffdffdff85103d": {
      "model_module": "@jupyter-widgets/base",
      "model_module_version": "1.2.0",
      "model_name": "LayoutModel",
      "state": {
       "_model_module": "@jupyter-widgets/base",
       "_model_module_version": "1.2.0",
       "_model_name": "LayoutModel",
       "_view_count": null,
       "_view_module": "@jupyter-widgets/base",
       "_view_module_version": "1.2.0",
       "_view_name": "LayoutView",
       "align_content": null,
       "align_items": null,
       "align_self": null,
       "border": null,
       "bottom": null,
       "display": null,
       "flex": null,
       "flex_flow": null,
       "grid_area": null,
       "grid_auto_columns": null,
       "grid_auto_flow": null,
       "grid_auto_rows": null,
       "grid_column": null,
       "grid_gap": null,
       "grid_row": null,
       "grid_template_areas": null,
       "grid_template_columns": null,
       "grid_template_rows": null,
       "height": null,
       "justify_content": null,
       "justify_items": null,
       "left": null,
       "margin": null,
       "max_height": null,
       "max_width": null,
       "min_height": null,
       "min_width": null,
       "object_fit": null,
       "object_position": null,
       "order": null,
       "overflow": null,
       "overflow_x": null,
       "overflow_y": null,
       "padding": null,
       "right": null,
       "top": null,
       "visibility": null,
       "width": null
      }
     },
     "2ebb41ff012d4888a52b6c3679ae6628": {
      "model_module": "@jupyter-widgets/base",
      "model_module_version": "1.2.0",
      "model_name": "LayoutModel",
      "state": {
       "_model_module": "@jupyter-widgets/base",
       "_model_module_version": "1.2.0",
       "_model_name": "LayoutModel",
       "_view_count": null,
       "_view_module": "@jupyter-widgets/base",
       "_view_module_version": "1.2.0",
       "_view_name": "LayoutView",
       "align_content": null,
       "align_items": null,
       "align_self": null,
       "border": null,
       "bottom": null,
       "display": null,
       "flex": null,
       "flex_flow": null,
       "grid_area": null,
       "grid_auto_columns": null,
       "grid_auto_flow": null,
       "grid_auto_rows": null,
       "grid_column": null,
       "grid_gap": null,
       "grid_row": null,
       "grid_template_areas": null,
       "grid_template_columns": null,
       "grid_template_rows": null,
       "height": null,
       "justify_content": null,
       "justify_items": null,
       "left": null,
       "margin": null,
       "max_height": null,
       "max_width": null,
       "min_height": null,
       "min_width": null,
       "object_fit": null,
       "object_position": null,
       "order": null,
       "overflow": null,
       "overflow_x": null,
       "overflow_y": null,
       "padding": null,
       "right": null,
       "top": null,
       "visibility": null,
       "width": null
      }
     },
     "45b4bcc09cd3442692aa411896c113dc": {
      "model_module": "@jupyter-widgets/output",
      "model_module_version": "1.0.0",
      "model_name": "OutputModel",
      "state": {
       "_dom_classes": [],
       "_model_module": "@jupyter-widgets/output",
       "_model_module_version": "1.0.0",
       "_model_name": "OutputModel",
       "_view_count": null,
       "_view_module": "@jupyter-widgets/output",
       "_view_module_version": "1.0.0",
       "_view_name": "OutputView",
       "layout": "IPY_MODEL_934d0e24bb72488ab0fc4e2ea930e39e",
       "msg_id": "",
       "outputs": [
        {
         "data": {
          "image/png": "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",
          "text/plain": "<Figure size 1600x500 with 3 Axes>"
         },
         "metadata": {},
         "output_type": "display_data"
        }
       ]
      }
     },
     "4e16d6469004490398648d42c780287a": {
      "model_module": "@jupyter-widgets/controls",
      "model_module_version": "1.5.0",
      "model_name": "SliderStyleModel",
      "state": {
       "_model_module": "@jupyter-widgets/controls",
       "_model_module_version": "1.5.0",
       "_model_name": "SliderStyleModel",
       "_view_count": null,
       "_view_module": "@jupyter-widgets/base",
       "_view_module_version": "1.2.0",
       "_view_name": "StyleView",
       "description_width": "",
       "handle_color": null
      }
     },
     "5727ceacc6fa4f89b029ca339644245e": {
      "model_module": "@jupyter-widgets/controls",
      "model_module_version": "1.5.0",
      "model_name": "SliderStyleModel",
      "state": {
       "_model_module": "@jupyter-widgets/controls",
       "_model_module_version": "1.5.0",
       "_model_name": "SliderStyleModel",
       "_view_count": null,
       "_view_module": "@jupyter-widgets/base",
       "_view_module_version": "1.2.0",
       "_view_name": "StyleView",
       "description_width": "",
       "handle_color": null
      }
     },
     "62000dad726748ed9aedf378c4cdea21": {
      "model_module": "@jupyter-widgets/base",
      "model_module_version": "1.2.0",
      "model_name": "LayoutModel",
      "state": {
       "_model_module": "@jupyter-widgets/base",
       "_model_module_version": "1.2.0",
       "_model_name": "LayoutModel",
       "_view_count": null,
       "_view_module": "@jupyter-widgets/base",
       "_view_module_version": "1.2.0",
       "_view_name": "LayoutView",
       "align_content": null,
       "align_items": null,
       "align_self": null,
       "border": null,
       "bottom": null,
       "display": null,
       "flex": null,
       "flex_flow": null,
       "grid_area": null,
       "grid_auto_columns": null,
       "grid_auto_flow": null,
       "grid_auto_rows": null,
       "grid_column": null,
       "grid_gap": null,
       "grid_row": null,
       "grid_template_areas": null,
       "grid_template_columns": null,
       "grid_template_rows": null,
       "height": null,
       "justify_content": null,
       "justify_items": null,
       "left": null,
       "margin": null,
       "max_height": null,
       "max_width": null,
       "min_height": null,
       "min_width": null,
       "object_fit": null,
       "object_position": null,
       "order": null,
       "overflow": null,
       "overflow_x": null,
       "overflow_y": null,
       "padding": null,
       "right": null,
       "top": null,
       "visibility": null,
       "width": null
      }
     },
     "638e93699e8a4a238e875b49934bc3c4": {
      "model_module": "@jupyter-widgets/controls",
      "model_module_version": "1.5.0",
      "model_name": "FloatSliderModel",
      "state": {
       "_dom_classes": [],
       "_model_module": "@jupyter-widgets/controls",
       "_model_module_version": "1.5.0",
       "_model_name": "FloatSliderModel",
       "_view_count": null,
       "_view_module": "@jupyter-widgets/controls",
       "_view_module_version": "1.5.0",
       "_view_name": "FloatSliderView",
       "continuous_update": true,
       "description": "lam0",
       "description_tooltip": null,
       "disabled": false,
       "layout": "IPY_MODEL_1b69625b39814af1827fb752f778e652",
       "max": 10.0,
       "min": 5.0,
       "orientation": "horizontal",
       "readout": true,
       "readout_format": ".2f",
       "step": 0.1,
       "style": "IPY_MODEL_ae7caa7d7f194e00919473c1cecdfcc0",
       "value": 10.0
      }
     },
     "91888b35e1924a59892f2e07ebb8f098": {
      "model_module": "@jupyter-widgets/controls",
      "model_module_version": "1.5.0",
      "model_name": "IntSliderModel",
      "state": {
       "_dom_classes": [],
       "_model_module": "@jupyter-widgets/controls",
       "_model_module_version": "1.5.0",
       "_model_name": "IntSliderModel",
       "_view_count": null,
       "_view_module": "@jupyter-widgets/controls",
       "_view_module_version": "1.5.0",
       "_view_name": "IntSliderView",
       "continuous_update": true,
       "description": "T",
       "description_tooltip": null,
       "disabled": false,
       "layout": "IPY_MODEL_62000dad726748ed9aedf378c4cdea21",
       "max": 1000,
       "min": 300,
       "orientation": "horizontal",
       "readout": true,
       "readout_format": "d",
       "step": 10,
       "style": "IPY_MODEL_5727ceacc6fa4f89b029ca339644245e",
       "value": 300
      }
     },
     "934d0e24bb72488ab0fc4e2ea930e39e": {
      "model_module": "@jupyter-widgets/base",
      "model_module_version": "1.2.0",
      "model_name": "LayoutModel",
      "state": {
       "_model_module": "@jupyter-widgets/base",
       "_model_module_version": "1.2.0",
       "_model_name": "LayoutModel",
       "_view_count": null,
       "_view_module": "@jupyter-widgets/base",
       "_view_module_version": "1.2.0",
       "_view_name": "LayoutView",
       "align_content": null,
       "align_items": null,
       "align_self": null,
       "border": null,
       "bottom": null,
       "display": null,
       "flex": null,
       "flex_flow": null,
       "grid_area": null,
       "grid_auto_columns": null,
       "grid_auto_flow": null,
       "grid_auto_rows": null,
       "grid_column": null,
       "grid_gap": null,
       "grid_row": null,
       "grid_template_areas": null,
       "grid_template_columns": null,
       "grid_template_rows": null,
       "height": null,
       "justify_content": null,
       "justify_items": null,
       "left": null,
       "margin": null,
       "max_height": null,
       "max_width": null,
       "min_height": null,
       "min_width": null,
       "object_fit": null,
       "object_position": null,
       "order": null,
       "overflow": null,
       "overflow_x": null,
       "overflow_y": null,
       "padding": null,
       "right": null,
       "top": null,
       "visibility": null,
       "width": null
      }
     },
     "ae7caa7d7f194e00919473c1cecdfcc0": {
      "model_module": "@jupyter-widgets/controls",
      "model_module_version": "1.5.0",
      "model_name": "SliderStyleModel",
      "state": {
       "_model_module": "@jupyter-widgets/controls",
       "_model_module_version": "1.5.0",
       "_model_name": "SliderStyleModel",
       "_view_count": null,
       "_view_module": "@jupyter-widgets/base",
       "_view_module_version": "1.2.0",
       "_view_name": "StyleView",
       "description_width": "",
       "handle_color": null
      }
     },
     "b0ad17e106624a0f8cb31e54e6b2e23e": {
      "model_module": "@jupyter-widgets/controls",
      "model_module_version": "1.5.0",
      "model_name": "IntSliderModel",
      "state": {
       "_dom_classes": [],
       "_model_module": "@jupyter-widgets/controls",
       "_model_module_version": "1.5.0",
       "_model_name": "IntSliderModel",
       "_view_count": null,
       "_view_module": "@jupyter-widgets/controls",
       "_view_module_version": "1.5.0",
       "_view_name": "IntSliderView",
       "continuous_update": true,
       "description": "theta0",
       "description_tooltip": null,
       "disabled": false,
       "layout": "IPY_MODEL_ebe46f663ff44dc88ca7d25c8c69da5f",
       "max": 90,
       "min": 0,
       "orientation": "horizontal",
       "readout": true,
       "readout_format": "d",
       "step": 1,
       "style": "IPY_MODEL_c87255b0a0a44cbe9252de056c7e982f",
       "value": 0
      }
     },
     "b8fbe28cad254e0db5604dfdf2c8e9ae": {
      "model_module": "@jupyter-widgets/controls",
      "model_module_version": "1.5.0",
      "model_name": "VBoxModel",
      "state": {
       "_dom_classes": [
        "widget-interact"
       ],
       "_model_module": "@jupyter-widgets/controls",
       "_model_module_version": "1.5.0",
       "_model_name": "VBoxModel",
       "_view_count": null,
       "_view_module": "@jupyter-widgets/controls",
       "_view_module_version": "1.5.0",
       "_view_name": "VBoxView",
       "box_style": "",
       "children": [
        "IPY_MODEL_91888b35e1924a59892f2e07ebb8f098",
        "IPY_MODEL_efb2e42262574aeb9d05a17d6b8d925e",
        "IPY_MODEL_638e93699e8a4a238e875b49934bc3c4",
        "IPY_MODEL_b0ad17e106624a0f8cb31e54e6b2e23e",
        "IPY_MODEL_45b4bcc09cd3442692aa411896c113dc"
       ],
       "layout": "IPY_MODEL_21a1d97fd7724a088cffdffdff85103d"
      }
     },
     "c87255b0a0a44cbe9252de056c7e982f": {
      "model_module": "@jupyter-widgets/controls",
      "model_module_version": "1.5.0",
      "model_name": "SliderStyleModel",
      "state": {
       "_model_module": "@jupyter-widgets/controls",
       "_model_module_version": "1.5.0",
       "_model_name": "SliderStyleModel",
       "_view_count": null,
       "_view_module": "@jupyter-widgets/base",
       "_view_module_version": "1.2.0",
       "_view_name": "StyleView",
       "description_width": "",
       "handle_color": null
      }
     },
     "ebe46f663ff44dc88ca7d25c8c69da5f": {
      "model_module": "@jupyter-widgets/base",
      "model_module_version": "1.2.0",
      "model_name": "LayoutModel",
      "state": {
       "_model_module": "@jupyter-widgets/base",
       "_model_module_version": "1.2.0",
       "_model_name": "LayoutModel",
       "_view_count": null,
       "_view_module": "@jupyter-widgets/base",
       "_view_module_version": "1.2.0",
       "_view_name": "LayoutView",
       "align_content": null,
       "align_items": null,
       "align_self": null,
       "border": null,
       "bottom": null,
       "display": null,
       "flex": null,
       "flex_flow": null,
       "grid_area": null,
       "grid_auto_columns": null,
       "grid_auto_flow": null,
       "grid_auto_rows": null,
       "grid_column": null,
       "grid_gap": null,
       "grid_row": null,
       "grid_template_areas": null,
       "grid_template_columns": null,
       "grid_template_rows": null,
       "height": null,
       "justify_content": null,
       "justify_items": null,
       "left": null,
       "margin": null,
       "max_height": null,
       "max_width": null,
       "min_height": null,
       "min_width": null,
       "object_fit": null,
       "object_position": null,
       "order": null,
       "overflow": null,
       "overflow_x": null,
       "overflow_y": null,
       "padding": null,
       "right": null,
       "top": null,
       "visibility": null,
       "width": null
      }
     },
     "efb2e42262574aeb9d05a17d6b8d925e": {
      "model_module": "@jupyter-widgets/controls",
      "model_module_version": "1.5.0",
      "model_name": "FloatSliderModel",
      "state": {
       "_dom_classes": [],
       "_model_module": "@jupyter-widgets/controls",
       "_model_module_version": "1.5.0",
       "_model_name": "FloatSliderModel",
       "_view_count": null,
       "_view_module": "@jupyter-widgets/controls",
       "_view_module_version": "1.5.0",
       "_view_name": "FloatSliderView",
       "continuous_update": true,
       "description": "d",
       "description_tooltip": null,
       "disabled": false,
       "layout": "IPY_MODEL_2ebb41ff012d4888a52b6c3679ae6628",
       "max": 10.0,
       "min": 0.0,
       "orientation": "horizontal",
       "readout": true,
       "readout_format": ".2f",
       "step": 0.1,
       "style": "IPY_MODEL_4e16d6469004490398648d42c780287a",
       "value": 1.0
      }
     }
    },
    "version_major": 2,
    "version_minor": 0
   }
  }
 },
 "nbformat": 4,
 "nbformat_minor": 5
}