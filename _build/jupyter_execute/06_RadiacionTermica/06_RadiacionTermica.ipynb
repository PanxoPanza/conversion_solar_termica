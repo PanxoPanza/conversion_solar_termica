{
 "cells": [
  {
   "cell_type": "code",
   "execution_count": 1,
   "id": "3c597da7",
   "metadata": {
    "slideshow": {
     "slide_type": "skip"
    },
    "tags": [
     "remove-cell"
    ]
   },
   "outputs": [],
   "source": [
    "import importlib.util\n",
    "if importlib.util.find_spec('empylib') is None:\n",
    "    !pip install git+https://github.com/PanxoPanza/empylib.git"
   ]
  },
  {
   "cell_type": "code",
   "execution_count": null,
   "id": "667e6ece",
   "metadata": {},
   "outputs": [],
   "source": []
  },
  {
   "cell_type": "markdown",
   "id": "8b01ca79",
   "metadata": {
    "slideshow": {
     "slide_type": "slide"
    }
   },
   "source": [
    "# Radiación Térmica"
   ]
  },
  {
   "cell_type": "markdown",
   "id": "e21d64ae",
   "metadata": {
    "slideshow": {
     "slide_type": "slide"
    }
   },
   "source": [
    "## Introducción a la Transferencia de Calor\n",
    "A nivel molecular, los átomos en la materia siempre están vibrando. La magnitud de estas vibraciones está caracterizada estadísticamente por la temperatura:"
   ]
  },
  {
   "cell_type": "markdown",
   "id": "35dd953b",
   "metadata": {},
   "source": [
    "<img src=\"./images/temperature_brownian_motion.gif\" width=\"400px\" align= center>"
   ]
  },
  {
   "cell_type": "markdown",
   "id": "7810d826",
   "metadata": {
    "cell_style": "center",
    "slideshow": {
     "slide_type": "slide"
    }
   },
   "source": [
    "Consideremos un sólido extendido con una diferencia de temperatura, $\\Delta T$, entre sus extremos, tal que el lado izquierdo tiene una mayor temperatura que el lado derecho"
   ]
  },
  {
   "cell_type": "markdown",
   "id": "5407e5b7",
   "metadata": {
    "cell_style": "split",
    "slideshow": {
     "slide_type": "fragment"
    }
   },
   "source": [
    "<img src=\"./images/heat_transfer.gif\" width=\"300px\" align= center>"
   ]
  },
  {
   "cell_type": "markdown",
   "id": "85b590b5",
   "metadata": {
    "cell_style": "split",
    "slideshow": {
     "slide_type": "fragment"
    }
   },
   "source": [
    "Debido a la diferencia de temperatura, la vibración molecular en el lado izquierdo es mayor. Esta energía cinética es transmitida a través del material hacia el lado derecho."
   ]
  },
  {
   "cell_type": "markdown",
   "id": "6f302797",
   "metadata": {
    "slideshow": {
     "slide_type": "slide"
    }
   },
   "source": [
    "Definimos como **calor**, $Q$, a la energía térmica intercambiada entre dos medios cuya diferencia de temperatura es $\\Delta T$. A mayor $\\Delta T$, mayor es el intercambio de calor, matemáticamente: \n",
    "\n",
    "\\begin{equation*}\n",
    "Q \\propto \\Delta T,\\quad\\mathrm{J}\n",
    "\\end{equation*}\n",
    "\n"
   ]
  },
  {
   "cell_type": "markdown",
   "id": "05b934bc",
   "metadata": {
    "slideshow": {
     "slide_type": "fragment"
    }
   },
   "source": [
    "La **tasa de transferencia de calor**:\n",
    "\\begin{equation*}\n",
    "\\dot{Q} = \\frac{dQ}{dt},\\quad\\mathrm{W}\n",
    "\\end{equation*}\n",
    "\n",
    "corresponde al calor tranferido por unidad de tiempo."
   ]
  },
  {
   "cell_type": "markdown",
   "id": "8aface27",
   "metadata": {
    "slideshow": {
     "slide_type": "fragment"
    }
   },
   "source": [
    "Por último, definimos como **flujo de calor**: \n",
    "\\begin{equation*}\n",
    "q'' = \\dot{Q}/A,\\quad\\frac{\\mathrm{W}}{\\mathrm{m}^2}\n",
    "\\end{equation*}\n",
    "\n",
    "a la tasa de transferencia de calor por unidad de área."
   ]
  },
  {
   "cell_type": "markdown",
   "id": "2c634772",
   "metadata": {
    "cell_style": "split",
    "slideshow": {
     "slide_type": "slide"
    }
   },
   "source": [
    "Existen tres mecanismo de transferencia de calor:\n",
    "\n",
    "- Conducción de calor\n",
    "- Convección de calor\n",
    "- Radiación"
   ]
  },
  {
   "cell_type": "markdown",
   "id": "a3e69153",
   "metadata": {
    "cell_style": "split",
    "slideshow": {
     "slide_type": "-"
    }
   },
   "source": [
    "<img src=\"./images/heat_transfer_mechanism.png\" width=\"500px\" align= center>"
   ]
  },
  {
   "cell_type": "markdown",
   "id": "ccaa08be",
   "metadata": {
    "slideshow": {
     "slide_type": "slide"
    }
   },
   "source": [
    "### Transferencia de calor por conducción\n",
    "**Definimos como *conducción de calor* al calor transferido a través de un material en reposo**. El mecanismo generalmente se asocia a **sólidos**, donde el calor es transferido a travéz de la red atómica del material. Sin embargo, la definición también incluye **líquidos y gases en reposo.** En este caso, las moléculas se mueven aleatoriamente, de manera tal que la velocidad neta del fluido es cero."
   ]
  },
  {
   "cell_type": "markdown",
   "id": "183006ce",
   "metadata": {
    "slideshow": {
     "slide_type": "fragment"
    }
   },
   "source": [
    "Matemáticamente, para un material de espesor $t$ y diferencia de temperatura $\\Delta T$, la **taza de transferencia de calor por conducción** a través de una superficie $A$, es:\n",
    "\n",
    "<img src=\"./images/heat_conduction_formula.png\" width=\"700px\" align= center>"
   ]
  },
  {
   "cell_type": "markdown",
   "id": "4fdfda8b",
   "metadata": {
    "slideshow": {
     "slide_type": "slide"
    }
   },
   "source": [
    "La conductividad térmica, $k_c$, es una propiedad del material que varía según la temperatura.\n",
    "\n",
    "<img src=\"./images/thermal_conductivity.png\" width=\"900px\" align= center>"
   ]
  },
  {
   "cell_type": "markdown",
   "id": "be69080c",
   "metadata": {
    "slideshow": {
     "slide_type": "slide"
    }
   },
   "source": [
    "En su forma diferencial, $\\dot{Q}_\\mathrm{cond}= - k\\nabla T$, y para el caso unidimensional:\n",
    "\n",
    "\\begin{equation}\n",
    "\\dot{Q}_\\mathrm{cond} = - kA\\frac{dT}{dx},\\quad\\mathrm{W}\n",
    "\\end{equation}"
   ]
  },
  {
   "cell_type": "markdown",
   "id": "ac955652",
   "metadata": {
    "slideshow": {
     "slide_type": "fragment"
    }
   },
   "source": [
    "A partir de esta fórmula podemos deducir expresiones para taza de transferencia de calor por conducción según la geometría:"
   ]
  },
  {
   "cell_type": "markdown",
   "id": "ec4af943",
   "metadata": {},
   "source": [
    "<img src=\"./images/heat_conduction_resistance.png\" width=\"600px\" align= center>"
   ]
  },
  {
   "cell_type": "markdown",
   "id": "bb05f7de",
   "metadata": {
    "slideshow": {
     "slide_type": "slide"
    }
   },
   "source": [
    "Notar que en los tres casos podemos expresar la taza de conducción de calor en la forma:\n",
    "\n",
    "\\begin{equation*}\n",
    "\\dot{Q}_\\mathrm{cond} = \\frac{T_H - T_C}{R_\\mathrm{cond}},\\quad\\mathrm{W}\n",
    "\\end{equation*}\n",
    "\n",
    "donde, $R_\\mathrm{cond}$ (K/W) es la **resistencia térmica** asociada al mecanismo de conducción."
   ]
  },
  {
   "cell_type": "markdown",
   "id": "bbea9efd",
   "metadata": {
    "slideshow": {
     "slide_type": "slide"
    }
   },
   "source": [
    "### Transferencia de calor por convección\n",
    "**Definimos como *convección de calor* al calor transferido a través de fluidos en movimiento.** El movimiento de un fluido puede ocurrir naturalmente, debido a los efectos de flotación a raíz de los cambio de densidad con la temperatura; o de forma inducida, como por ejemplo mediante un ventilador."
   ]
  },
  {
   "cell_type": "markdown",
   "id": "2f11707d",
   "metadata": {
    "cell_style": "split",
    "slideshow": {
     "slide_type": "fragment"
    }
   },
   "source": [
    "A partir de esto, clasificamos la transferencia de calor por convección, respectivamente, como:\n",
    "- **convección natural**\n",
    "- **convección forzada**."
   ]
  },
  {
   "cell_type": "markdown",
   "id": "335e9cda",
   "metadata": {
    "cell_style": "split",
    "slideshow": {
     "slide_type": "fragment"
    }
   },
   "source": [
    "<img src=\"./images/heat_convection_mechanism.png\" width=\"300px\" align= center>"
   ]
  },
  {
   "cell_type": "markdown",
   "id": "a11782b3",
   "metadata": {
    "slideshow": {
     "slide_type": "slide"
    }
   },
   "source": [
    "La convección de calor esta asociada al contacto de fluidos con una superficie, $A$. Así, independiente del mecanismo de convección de calor (natural o forzada), expresamos la **taza de transferencia de calor por convección** como:\n",
    "\n",
    "<img src=\"./images/heat_convection_formula.png\" width=\"700px\" align= center>"
   ]
  },
  {
   "cell_type": "markdown",
   "id": "322fa067",
   "metadata": {},
   "source": [
    "Notar que la taza de transferencia de calor por convección puede ser expresada en la forma:\n",
    "\n",
    "\\begin{equation*}\n",
    "\\dot{Q}_\\mathrm{conv} = \\frac{T_\\infty - T}{R_\\mathrm{conv}},\\quad\\mathrm{W}\n",
    "\\end{equation*}\n",
    "\n",
    "donde $R_\\mathrm{conv}=1/hA$ es la resistencia térmica asociada a la convección de calor."
   ]
  },
  {
   "cell_type": "markdown",
   "id": "983b6ab0",
   "metadata": {
    "slideshow": {
     "slide_type": "slide"
    }
   },
   "source": [
    "A diferencia de la conducción de calor, el coeficiente convectivo, $h$, **no es una propiedad del fluido**. Esto porque no solo depende de las propiedades del fluido (densidad, viscocidad y conductividad térmica, entre otras), sino que además depende de condiciones externas, como la velocidad del flujo, la diferencia de temperaturas, y la geometría del cuerpo sometido a convección de calor."
   ]
  },
  {
   "cell_type": "markdown",
   "id": "608df105",
   "metadata": {
    "slideshow": {
     "slide_type": "fragment"
    }
   },
   "source": [
    "El coeficiente convectivo se determina a partir de relaciones expresadas en términos del número de Nusselt, $\\mathrm{Nu} = \\frac{hL_c}{k_f}$, donde $L_c$ es una longitud característica y $k_f$ es la conductividad térmica del fluido. En la mayoría de los casos, las relaciones para el número de Nusselt para cada caso se determinan experimentalmente."
   ]
  },
  {
   "cell_type": "markdown",
   "id": "f73fe75a",
   "metadata": {
    "slideshow": {
     "slide_type": "fragment"
    }
   },
   "source": [
    "Comúnmente, los valores para el número de Nusselt se encuentran dentro de los siguientes rangos:\n",
    "\n",
    "- Convección forzada, $\\mathrm{Nu} \\sim 5 - 1000 $\n",
    "- Convección natural, $\\mathrm{Nu} \\sim 0 - 100$"
   ]
  },
  {
   "cell_type": "markdown",
   "id": "199235d4",
   "metadata": {
    "slideshow": {
     "slide_type": "slide"
    }
   },
   "source": [
    "### Transferencia de calor por radiación\n",
    "**Definimos como *radiación de calor* al calor transferido por ondas electromagnéticas.**"
   ]
  },
  {
   "cell_type": "markdown",
   "id": "599163ff",
   "metadata": {
    "cell_style": "split",
    "slideshow": {
     "slide_type": "fragment"
    }
   },
   "source": [
    "Aquí también, el calor fluye desde la fuente de mayor temperatura all sumidero de menor temperatura. Sin embargo, a diferencia de la convección y conducción, la transferencia de calor por radiación no requiere de un medio y, por lo tanto, puede recorrer grandes distancias."
   ]
  },
  {
   "cell_type": "markdown",
   "id": "f3a86eba",
   "metadata": {
    "cell_style": "split"
   },
   "source": [
    "<img src=\"./images/heat_radiation_schematic.png\" width=\"300px\" align= center>"
   ]
  },
  {
   "cell_type": "markdown",
   "id": "9435c4d8",
   "metadata": {
    "slideshow": {
     "slide_type": "slide"
    }
   },
   "source": [
    "En general, la transferencia de calor depende de las propiedades ópticas de la fuente y receptor. Sin embargo, considerando un caso simplifado, podemos definir la relación en base a la emisividad promedio del emisor, y absortividad promedio del receptor:\n",
    "\n",
    "<img src=\"./images/heat_radiation_formula.png\" width=\"700px\" align= center>"
   ]
  },
  {
   "cell_type": "markdown",
   "id": "ec4e30bf",
   "metadata": {
    "slideshow": {
     "slide_type": "fragment"
    }
   },
   "source": [
    "Sin embargo, como veremos en este capítulo, esta regla no es general. La mejor forma de entender esta fórmula es estudiando su origen."
   ]
  },
  {
   "cell_type": "markdown",
   "id": "53ef8ae3",
   "metadata": {
    "slideshow": {
     "slide_type": "slide"
    }
   },
   "source": [
    "## Fundamentos de la radiación térmica\n",
    "\n",
    "Las vibraciones a nivel molecular también inducen polarización en la materia. Esto es similar al fenómeno de polarización inducida por ondas electromagnéticas estudiada en la unidad 3. Estos dipolos inducidos térmicamente, oscilan constantemente generando campos electromagnéticos que se propagan en dirección radial.\n",
    "\n",
    "<img src=\"./images/radiating_dipole.png\" width=\"700px\" align= center>"
   ]
  },
  {
   "cell_type": "markdown",
   "id": "767562ad",
   "metadata": {
    "slideshow": {
     "slide_type": "slide"
    }
   },
   "source": [
    "En la siguiente animación podemos ver el proceso de emisión de ondas electromagnéticas de un dipolo oscilatorio. El mapa de colores representa la intensidad del campo magnético, es decir $|\\vec{H}|$, donde rojo y azul corresponden, respectivamente, a los valores máximos y mínimos.\n",
    "\n",
    "<img src=\"./images/HW_vertical_noground.gif\" width=\"300px\" align= center>"
   ]
  },
  {
   "cell_type": "markdown",
   "id": "7088a84b",
   "metadata": {
    "cell_style": "center",
    "slideshow": {
     "slide_type": "slide"
    }
   },
   "source": [
    "### Poder de emisión\n",
    "Un cuerpo a temperatura $T$ emite ondas electromagnéticas en todas las direcciones y en un espectro de longitudes de onda. En general, la distribución angular ($\\Omega$) y espectral ($\\lambda$) de la radiación emitida depende de las propiedades ópticas de la superficie y la temperatura del material. "
   ]
  },
  {
   "cell_type": "markdown",
   "id": "b364c7cf",
   "metadata": {
    "slideshow": {
     "slide_type": "fragment"
    }
   },
   "source": [
    "Para caracterizar la intensidad de la radiación emitida por una superficie a tempertura $T$, usamos la **intensidad específica o radiancia espectral**, $I_\\lambda(\\Omega,T)$."
   ]
  },
  {
   "cell_type": "markdown",
   "id": "09477f6e",
   "metadata": {
    "cell_style": "center",
    "slideshow": {
     "slide_type": "slide"
    }
   },
   "source": [
    "La taza de calor total emitido por una superficie $dA$ de un cuerpo negro en función de $\\lambda$ y $\\Omega$, $d\\dot{Q}_\\mathrm{rad}$, está dada por:\n",
    "\n",
    "\\begin{equation}\n",
    "d\\dot{Q}_\\mathrm{rad} = I_{\\lambda}(\\Omega, T) \\cos\\theta dA d\\Omega d\\lambda\n",
    "\\end{equation}"
   ]
  },
  {
   "cell_type": "markdown",
   "id": "f849cc9e",
   "metadata": {
    "cell_style": "split",
    "slideshow": {
     "slide_type": "fragment"
    }
   },
   "source": [
    "El término $\\cos\\theta dA$ corresponde a la proyección de $dA$ en la dirección $\\Omega$"
   ]
  },
  {
   "cell_type": "markdown",
   "id": "d3b63571",
   "metadata": {
    "cell_style": "split"
   },
   "source": [
    "<img src=\"./images/specific_intensity.png\" width=\"300px\" align= center>"
   ]
  },
  {
   "cell_type": "markdown",
   "id": "891a8504",
   "metadata": {
    "cell_style": "center",
    "slideshow": {
     "slide_type": "slide"
    }
   },
   "source": [
    "Definimos como **poder de emisión direccional espectral** a la relación:\n",
    "\n",
    "\\begin{equation}\n",
    "E_{\\lambda,\\Omega}(T) = \\frac{d\\dot{Q}_\\mathrm{rad}}{dAd\\Omega d\\lambda}=I_{\\lambda}(\\Omega, T)\\cos\\theta ,\\quad\\quad\\frac{\\mathrm{W}}{\\mathrm{m}^2\\cdot\\mu\\mathrm{m}\\cdot\\mathrm{sr}}\n",
    "\\end{equation}"
   ]
  },
  {
   "cell_type": "markdown",
   "id": "ec272999",
   "metadata": {
    "slideshow": {
     "slide_type": "fragment"
    }
   },
   "source": [
    "A diferencia de la intensidad específica, el poder de emisión considera la radiación effectiva emitida por una superficie."
   ]
  },
  {
   "cell_type": "markdown",
   "id": "3c1cf7c2",
   "metadata": {},
   "source": [
    "<img src=\"./images/emissive_power.png\" width=\"500px\" align= center>"
   ]
  },
  {
   "cell_type": "markdown",
   "id": "ad56f5b7",
   "metadata": {
    "slideshow": {
     "slide_type": "slide"
    }
   },
   "source": [
    "A partir de este término podemos derivar:"
   ]
  },
  {
   "cell_type": "markdown",
   "id": "c62c0cc6",
   "metadata": {
    "slideshow": {
     "slide_type": "fragment"
    }
   },
   "source": [
    "- **Poder de emisión hemisférica espectral**, \n",
    "\n",
    "\\begin{align*}\n",
    "E_{\\lambda}(T) = \\frac{d\\dot{Q}}{dA d\\lambda} &= \\int_0^{2\\pi}\\int_0^{\\pi/2}I_{\\lambda}(\\Omega, T)\\cos\\theta~\\sin\\theta ~d\\theta~ d\\phi\n",
    "  \\\\ \n",
    "  &=\\int_\\mathrm{hemi} I_{\\lambda}(\\Omega, T)\\cos\\theta~d\\Omega\n",
    "  ,\\quad\\quad\\frac{\\mathrm{W}}{\\mathrm{m}^2\\cdot\\mu\\mathrm{m}}\n",
    "\\end{align*}"
   ]
  },
  {
   "cell_type": "markdown",
   "id": "a9a23a55",
   "metadata": {
    "slideshow": {
     "slide_type": "fragment"
    }
   },
   "source": [
    "- **Poder de emisión direccional total**,\n",
    "\n",
    "\\begin{equation*}\n",
    "E_\\Omega(T) = \\frac{d\\dot{Q}}{dAd\\Omega}=\\cos\\theta \\int_0^\\infty~ I_{\\lambda}(\\Omega, T)~d\\lambda  ,\\quad\\quad\\frac{\\mathrm{W}}{\\mathrm{m}^2 \\cdot\\mathrm{sr}}\n",
    "\\end{equation*}"
   ]
  },
  {
   "cell_type": "markdown",
   "id": "4c94bf8c",
   "metadata": {
    "slideshow": {
     "slide_type": "fragment"
    }
   },
   "source": [
    "- **Poder de emisión hemisfética total**, \n",
    "\n",
    "\\begin{equation*}\n",
    "E(T) = \\frac{d\\dot{Q}}{dA}=\\int_0^\\infty\\int_\\mathrm{hemi}I_{\\lambda}(\\Omega, T)\\cos\\theta~d\\Omega d\\lambda ,\\quad\\quad\\frac{\\mathrm{W}}{\\mathrm{m}^2}\n",
    "\\end{equation*}"
   ]
  },
  {
   "cell_type": "markdown",
   "id": "b670c6be",
   "metadata": {
    "slideshow": {
     "slide_type": "slide"
    }
   },
   "source": [
    "### Distribución de Planck\n",
    "\n",
    "Max Planck en 1901 determinó que la **máxima radiancia espectral o intensidad específica** (flujo de energía por unidad de longitud de onda y ángulo sólido) emitida por un cuerpo a temperatura $T$, en un medio con índice de refracción $n_1$, está dada por:\n",
    "\n",
    "\\begin{equation}\n",
    "I_{\\mathrm{bb},\\lambda}(\\Omega, T) = \\frac{C_1}{n_1\\lambda^5\\left[\\exp\\left(C_2/\\lambda T\\right) - 1\\right]},\\quad\\quad\\frac{\\mathrm{W}}{\\mathrm{m}^2\\cdot\\mu\\mathrm{m}\\cdot\\mathrm{sr}}\n",
    "\\end{equation}\n",
    "\n",
    "donde \n",
    "\\begin{align*}\n",
    "C_1 &= 2hc_0^2 = 1.19104238\\times 10^8 ~\\mathrm{W}\\cdot\\mu\\mathrm{m}^4/\\mathrm{m}^2 \\\\\n",
    "C_2 &= hc_0/k_\\mathrm{B} = 1.438776877\\times10^{4}~\\mu\\mathrm{m}\\cdot\\mathrm{K}\n",
    "\\end{align*}\n",
    "\n",
    "$k_\\mathrm{B} = 1.381\\times 10^{-23}$ J/K $=8.617\\times 10^{-5}$ eV/K, es la constante de Boltzmann. La unidad \"sr\" correponde a un esteroradian."
   ]
  },
  {
   "cell_type": "markdown",
   "id": "4e04c610",
   "metadata": {
    "slideshow": {
     "slide_type": "fragment"
    }
   },
   "source": [
    "Esta es la **distribución de Planck**, que *representa la máxima radiancia espectral emitida en dirección $\\Omega$ por una fuente a una temperatura $T$*. Esta fuente, denominada **cuerpo negro** representa, así, un **emisor perfecto**."
   ]
  },
  {
   "cell_type": "markdown",
   "id": "a5f797bc",
   "metadata": {
    "slideshow": {
     "slide_type": "fragment"
    }
   },
   "source": [
    "Notar también que la radiancia del cuerpo negro es uniforme en todas las direcciones y, por lo tanto, no depende de $\\Omega$."
   ]
  },
  {
   "cell_type": "markdown",
   "id": "5288e116",
   "metadata": {
    "slideshow": {
     "slide_type": "slide"
    }
   },
   "source": [
    "En el curso utilizaremos la función `Bplanck(lam, T)` parte del módulo `ref_spectra` de `èmpylib`. "
   ]
  },
  {
   "cell_type": "markdown",
   "id": "c637fb48",
   "metadata": {
    "slideshow": {
     "slide_type": "fragment"
    }
   },
   "source": [
    "En el siguiente ejemplo, graficamos la distribución de cuerpo negro a $T = 100~^\\circ\\mathrm{C}= 373~\\mathrm{K}$, en el espectro $\\lambda\\in[2,100]$ $\\mu$m."
   ]
  },
  {
   "cell_type": "code",
   "execution_count": 2,
   "id": "55a5c266",
   "metadata": {
    "cell_style": "split",
    "tags": [
     "hide-input"
    ]
   },
   "outputs": [],
   "source": [
    "%%capture showplot0\n",
    "import numpy as np\n",
    "import empylib.ref_spectra as rf\n",
    "import matplotlib.pyplot as plt\n",
    "\n",
    "lam = np.linspace(0.1,100,1000)  # espectro de longitudes de onda (um)\n",
    "T = 300 + 273                  # Temperatura del cuerpo negro (K)\n",
    "Ibb = rf.Bplanck(lam,T)        # Radiancia espectral de cuerpo negro\n",
    "\n",
    "plt.plot(lam,Ibb)\n",
    "plt.xlabel('Longitud de onda, $\\lambda$ ($\\mu$m)')\n",
    "plt.ylabel('$I_{\\mathrm{bb},\\lambda} (T)$, (W/m$^2$-$\\mu$m-sr)')\n",
    "plt.title('Radiancia espectral de cuerpo negro a %i K' % T)\n",
    "plt.show()"
   ]
  },
  {
   "cell_type": "code",
   "execution_count": 3,
   "id": "62babdaa",
   "metadata": {
    "cell_style": "split",
    "tags": [
     "remove-input"
    ]
   },
   "outputs": [
    {
     "data": {
      "image/png": "[encoded data removed]",
      "text/plain": [
       "<Figure size 640x480 with 1 Axes>"
      ]
     },
     "metadata": {},
     "output_type": "display_data"
    }
   ],
   "source": [
    "showplot0()"
   ]
  },
  {
   "cell_type": "markdown",
   "id": "513d759b",
   "metadata": {
    "slideshow": {
     "slide_type": "slide"
    }
   },
   "source": [
    "El poder de emisión hemisférico espectral de la superficie de un cuerpo negro, $E_{\\mathrm{bb},\\lambda}(T)$, se obtiene integrando la radiancia espectral por ángulo sólido en el límite de una hemiesfera:\n",
    "\n",
    "\\begin{align*}\n",
    "E_{\\mathrm{bb},\\lambda}(T) = \\int_\\mathrm{hemi} I_{\\mathrm{bb},\\lambda}(T)\\cos\\theta d\\Omega &= I_{\\mathrm{bb},\\lambda}(T)\\int_\\mathrm{hemi} \\cos\\theta d\\Omega\n",
    "  \\\\ \n",
    "  &= I_{\\mathrm{bb},\\lambda}(T)\\int_0^{2\\pi} \\int_0^{\\pi/2}\\cos\\theta \\sin \\theta~d\\theta~d\\phi \n",
    "  \\\\ \n",
    "  &=\\pi I_{\\mathrm{bb},\\lambda}(T)\n",
    "  ,\\quad\\quad\\frac{\\mathrm{W}}{\\mathrm{m}^2\\cdot\\mu\\mathrm{m}}\n",
    "\\end{align*}"
   ]
  },
  {
   "cell_type": "markdown",
   "id": "1fc00c20",
   "metadata": {
    "slideshow": {
     "slide_type": "fragment"
    }
   },
   "source": [
    "Note que $I_{\\mathrm{bb},\\lambda}$ no depende de $\\Omega$ y, por lo tanto, sale de la integral respecto a $d\\Omega$."
   ]
  },
  {
   "cell_type": "markdown",
   "id": "3cbf0ea5",
   "metadata": {
    "slideshow": {
     "slide_type": "slide"
    }
   },
   "source": [
    "A partir de la integral de $E_{\\mathrm{bb},\\lambda}(T)$ en el espectro de longitudes de onda, obtenemos el poder de emisión hemisferico total de un cuerpo negro:\n",
    "\n",
    "\\begin{equation}\n",
    "E_\\mathrm{bb}(T) = \\int_0^\\infty E_{\\mathrm{bb},\\lambda}(T) d\\lambda = \\pi\\int_0^\\infty I_{\\mathrm{bb},\\lambda}(T) d\\lambda = \\sigma T^4,\\quad\\quad\\frac{\\mathrm{W}}{\\mathrm{m}^2}\n",
    "\\end{equation}\n",
    "\n",
    "donde $\\sigma = 5.670\\times10^{-8}$ W/m$^2\\cdot$K$^4$, es la *constante de Stefan-Boltzmann.* Esta fórmula se conoce como la **ley de Stefan-Boltzmann**"
   ]
  },
  {
   "cell_type": "markdown",
   "id": "18b26d00",
   "metadata": {
    "slideshow": {
     "slide_type": "slide"
    }
   },
   "source": [
    "En la siguiente figura, se ilustra $E_{\\mathrm{bb},\\lambda}(\\lambda,T)$ función de la temperatura y longitud de onda.\n"
   ]
  },
  {
   "cell_type": "markdown",
   "id": "0c94c575",
   "metadata": {},
   "source": [
    "<img src=\"./images/blackbody_rad.png\" width=\"700px\" align= center>"
   ]
  },
  {
   "cell_type": "markdown",
   "id": "8eb1ce9b",
   "metadata": {
    "slideshow": {
     "slide_type": "slide"
    }
   },
   "source": [
    "A medida que $T$ aumenta, notamos que el máximo de la curva se desplaza hacia el azul. La longitud de onda correspondiente a este máximo, $\\lambda_\\mathrm{peak}$, está definida por la **ley de desplazamiento de Wien:**\n",
    "\n",
    "\\begin{equation}\n",
    "\\lambda_\\mathrm{peak}T = 2897.8\\quad\\mu\\mathrm{m}\\cdot\\mathrm{K}\n",
    "\\end{equation}\n"
   ]
  },
  {
   "cell_type": "markdown",
   "id": "26d022df",
   "metadata": {
    "slideshow": {
     "slide_type": "fragment"
    }
   },
   "source": [
    "Esta relación permite entender el cambio de color de la fuente emisora con la tempertura."
   ]
  },
  {
   "cell_type": "markdown",
   "id": "441619f6",
   "metadata": {
    "slideshow": {
     "slide_type": "fragment"
    }
   },
   "source": [
    "Recordemos, sin embargo,  que **el color de un material no solo se define por la emisión de radiación, sino también por la forma en la que interactúa con la luz incidente**. Como revisamos en las unidades anteriores, esta interacción está condionada por las propiedades radiativas."
   ]
  },
  {
   "cell_type": "markdown",
   "id": "da43fbee",
   "metadata": {
    "slideshow": {
     "slide_type": "slide"
    }
   },
   "source": [
    "### Propiedades Radiativas\n",
    "\n",
    "Definimos como **emisividad direccional espectral, $\\epsilon_{\\lambda,\\Omega}$,** a la *razón entre la radiación emitida por una superficie, $I_\\lambda(\\Omega, T)$, y la radiación emitida por un cuerpo negro, ambas a temperatura $T$*:\n",
    "\n",
    "\\begin{equation}\n",
    "\\epsilon_{\\lambda,\\Omega} = \\frac{I_\\lambda(\\Omega, T)}{I_{\\mathrm{bb},\\lambda}(T)}\n",
    "\\end{equation}\n",
    "\n",
    "De esta forma, $\\epsilon$ es una propiedad adimensional de superfice que varía entre $0 \\le \\epsilon \\le 1$."
   ]
  },
  {
   "cell_type": "markdown",
   "id": "819d0302",
   "metadata": {
    "slideshow": {
     "slide_type": "fragment"
    }
   },
   "source": [
    "Definimos como **absortividad direccional espectral, $A_{\\lambda,\\Omega}$,** a la *porción de radiación incidente que es absorbida por una superficie*. Igualmente, $0 \\le A_{\\lambda,\\Omega} \\le 1$."
   ]
  },
  {
   "cell_type": "markdown",
   "id": "64a21ba8",
   "metadata": {
    "slideshow": {
     "slide_type": "slide"
    }
   },
   "source": [
    "A través de la **ley de Kirchhoff**, podemos establecer una relación entre la absortancia y emisividad espectral direccional:\n",
    "\n",
    "\\begin{equation}\n",
    "\\epsilon_{\\lambda,\\Omega} = A_{\\lambda,\\Omega}\n",
    "\\end{equation}"
   ]
  },
  {
   "cell_type": "markdown",
   "id": "5dd135bb",
   "metadata": {
    "slideshow": {
     "slide_type": "fragment"
    }
   },
   "source": [
    "En otras palabras, las propiedades de un material como receptor o emisor de radiación, son iguales. Sin embargo, notar que **esta igualdad solo existe para la misma longitud de onda y ángulo sólido.**"
   ]
  },
  {
   "cell_type": "markdown",
   "id": "7af23770",
   "metadata": {
    "slideshow": {
     "slide_type": "fragment"
    }
   },
   "source": [
    "Este concepto, denominado *reciprocidad*, es consecuencia de las ecuaciones de Maxwell y es la base fundamental para el diseño de antenas y radares."
   ]
  },
  {
   "cell_type": "markdown",
   "id": "1f3f624f",
   "metadata": {
    "slideshow": {
     "slide_type": "slide"
    }
   },
   "source": [
    "Por conservación de energía:\n",
    "\\begin{equation}\n",
    "A_{\\lambda,\\Omega} + R_{\\lambda,\\Omega} + T_{\\lambda,\\Omega} = 1\n",
    "\\end{equation}\n"
   ]
  },
  {
   "cell_type": "markdown",
   "id": "c03d9fac",
   "metadata": {
    "slideshow": {
     "slide_type": "fragment"
    }
   },
   "source": [
    "donde $R_{\\lambda,\\Omega}$ y $T_{\\lambda,\\Omega}$ son, respectivamente, la reflectividad y transmisividad espectral direccional del material"
   ]
  },
  {
   "cell_type": "markdown",
   "id": "d93dacf1",
   "metadata": {
    "slideshow": {
     "slide_type": "fragment"
    }
   },
   "source": [
    "Debido a la naturaleza de la radiación térmica, la polarización de las ondas electromagnéticas es aleatoria. Así, $R_{\\lambda,\\Omega}$ y $T_{\\lambda,\\Omega}$ se calculan como:\n",
    "\n",
    "\\begin{equation}\n",
    "R_{\\lambda,\\Omega} = \\frac{R_{\\lambda,\\Omega}^\\mathrm{TM}+R_{\\lambda,\\Omega}^\\mathrm{TE}}{2}\\quad\\quad\n",
    "T_{\\lambda,\\Omega} = \\frac{T_{\\lambda,\\Omega}^\\mathrm{TM}+T_{\\lambda,\\Omega}^\\mathrm{TE}}{2}\n",
    "\\end{equation}"
   ]
  },
  {
   "cell_type": "markdown",
   "id": "1b34032f",
   "metadata": {
    "slideshow": {
     "slide_type": "fragment"
    }
   },
   "source": [
    "A partir de estas relaciones podemos determinar $\\epsilon_{\\lambda,\\Omega}$."
   ]
  },
  {
   "cell_type": "markdown",
   "id": "048661b3",
   "metadata": {
    "slideshow": {
     "slide_type": "slide"
    }
   },
   "source": [
    "Cabe mencionar que en textos de radiometría y transferencia de calor, la reflectividad y transmisividad se denominan, respectivamente, **reflectancia ($\\rho$)**, **transmitancia ($\\tau$).** Igualmente la absortividad se denomina **absortancia ($\\alpha$).** Ambos términos son equivalentes."
   ]
  },
  {
   "cell_type": "markdown",
   "id": "51fbf681",
   "metadata": {
    "slideshow": {
     "slide_type": "fragment"
    }
   },
   "source": [
    "En este curso, seguiremos utilizando los términos y notación de óptica, es decir $R_{\\lambda,\\Omega}$, $T_{\\lambda,\\Omega}$ y $A_{\\lambda,\\Omega}$, para evitar confusiones. "
   ]
  },
  {
   "cell_type": "markdown",
   "id": "4d61c797",
   "metadata": {
    "slideshow": {
     "slide_type": "slide"
    }
   },
   "source": [
    "Como ejemplo, analicemos el poder de emisión espectral direccional, $E_{\\lambda,\\Omega}(T)$ y la emisividad $\\epsilon_{\\lambda,\\Omega}$ de una capa de vidrio en función de la temperatura ($T$), espesor ($d$) y dirección ($\\theta$). En este caso: \n",
    "\n",
    "\\begin{align*}\n",
    "E_{\\lambda,\\Omega}(T) &= \\epsilon_{\\lambda,\\Omega}I_{\\mathrm{bb},\\lambda}(T)\\cos\\theta \\\\[10pt]\n",
    " &= \\left[1 - R_{\\lambda,\\Omega} - T_{\\lambda,\\Omega}\\right]I_{\\mathrm{bb},\\lambda}(T)\\cos\\theta\n",
    "\\end{align*}"
   ]
  },
  {
   "cell_type": "markdown",
   "id": "e04ec37d",
   "metadata": {
    "slideshow": {
     "slide_type": "slide"
    }
   },
   "source": [
    "Antes, analicemos el índice de refracción del vidrio (sílicice, SiO$_2$), en el espectro $\\lambda\\in[0.3,15]$ $\\mu$m."
   ]
  },
  {
   "cell_type": "code",
   "execution_count": 4,
   "id": "e34559d2",
   "metadata": {
    "cell_style": "split",
    "slideshow": {
     "slide_type": "fragment"
    },
    "tags": [
     "hide-input"
    ]
   },
   "outputs": [],
   "source": [
    "%%capture showplot\n",
    "import numpy as np\n",
    "import empylib.nklib as nk\n",
    "import matplotlib.pyplot as plt\n",
    "\n",
    "lam = np.linspace(0.3,15,100) #longitud de onda en um\n",
    "plt.plot(lam,nk.SiO2(lam).real,'-r',label='$n$')\n",
    "plt.plot(lam,nk.SiO2(lam).imag,'-b',label='$\\kappa$')\n",
    "plt.xlabel('Longitud de onda, $\\lambda$ ($\\mu$m)',fontsize=16)\n",
    "plt.ylabel('$n$, $\\kappa$',fontsize=16)\n",
    "plt.title('Índice de refracción SiO$_2$',fontsize=18)\n",
    "plt.legend(frameon=False,fontsize=16)\n",
    "plt.tick_params(labelsize=16)"
   ]
  },
  {
   "cell_type": "code",
   "execution_count": 5,
   "id": "20435072",
   "metadata": {
    "cell_style": "split"
   },
   "outputs": [
    {
     "data": {
      "image/png": "[encoded data removed]",
      "text/plain": [
       "<Figure size 640x480 with 1 Axes>"
      ]
     },
     "metadata": {},
     "output_type": "display_data"
    }
   ],
   "source": [
    "showplot()"
   ]
  },
  {
   "cell_type": "markdown",
   "id": "89749a31",
   "metadata": {
    "slideshow": {
     "slide_type": "fragment"
    }
   },
   "source": [
    "Comparamos $E_{\\lambda,\\Omega}(T)$ con el poder de emisión espectral direccional del cuerpo negro, $E_{\\mathrm{bb},\\lambda,\\Omega} = I_{\\mathrm{bb},\\lambda}\\cos\\theta$"
   ]
  },
  {
   "cell_type": "code",
   "execution_count": 6,
   "id": "f24c88be",
   "metadata": {
    "slideshow": {
     "slide_type": "slide"
    },
    "tags": [
     "hide-input"
    ]
   },
   "outputs": [],
   "source": [
    "import empylib.waveoptics as wv\n",
    "import empylib.nklib as nk\n",
    "import numpy as np\n",
    "from numpy import log10, radians, cos\n",
    "import matplotlib.pyplot as plt\n",
    "from empylib.ref_spectra import Bplanck\n",
    "\n",
    "def plot_emisivity_glass(Temp,d,lam0,theta0):\n",
    "    # PARAMETROS DE ENTRADA\n",
    "    lam = np.linspace(0.3,15,100)\n",
    "    Nfront = 1.0                 # índice de refracción medio superior\n",
    "    N1     = nk.SiO2(lam)        # índice de refracción capa intermedia\n",
    "    Nback  = 1.0                 # índice de refracción medio inferior\n",
    "    N = (Nfront, N1, Nback)      # indices de refracción (above, mid, below)\n",
    "    #-------------------------------------------------------------------------\n",
    "\n",
    "    # CÁLCULO DE VARIABLES\n",
    "    # 1. Gráfico 1: Reflectancia y transmitancia espectral en theta0\n",
    "    Rs, Ts = wv.incoh_multilayer(lam,radians(theta0), N, d*1E3, pol='TM')\n",
    "    Rp, Tp = wv.incoh_multilayer(lam,radians(theta0), N, d*1E3, pol='TE')\n",
    "    \n",
    "    R_lam = (Rs + Rp)/2\n",
    "    T_lam = (Ts + Tp)/2\n",
    "    A_lam = 1 - T_lam - R_lam  # absortancia espectral\n",
    "    \n",
    "   # 2. Gráfico 2: Reflectancia y transmitancia direccional en lam0\n",
    "    theta = np.linspace(0,90,100)\n",
    "    N = (Nfront, nk.SiO2(lam0), Nback) # indices de refracción (above, mid, below)\n",
    "    \n",
    "    A_theta = [] # generamos la absortancia direccional en este loop\n",
    "    for theta_i in theta:\n",
    "        Rs, Ts = wv.incoh_multilayer(lam0,radians(theta_i), N, d*1E3, pol='TM')\n",
    "        Rp, Tp = wv.incoh_multilayer(lam0,radians(theta_i), N, d*1E3, pol='TE')\n",
    "        R = (Rs + Rp)/2\n",
    "        T = (Ts + Tp)/2\n",
    "        A_theta.append(1 - T - R)\n",
    "    A_theta = np.array(A_theta).flatten() # convertimos la lista a ndarray\n",
    "    \n",
    "    # 3. Gráfico 3: Poder de emisión direccional espectral\n",
    "    E_lam = A_lam*Bplanck(lam,Temp)*cos(radians(theta0)) # poder de emisión material\n",
    "    E_bb  =       Bplanck(lam,Temp)*cos(radians(theta0)) # poder de emisión de cuerpo negro\n",
    "    #-------------------------------------------------------------------------\n",
    "    \n",
    "    # GRAFICAMOS RESULTADOS.\n",
    "    fig, ax = plt.subplots(1,3)             # 3 ejes\n",
    "    fig.set_size_inches(16, 5)              # Tamaño de figura\n",
    "    \n",
    "    # 1. Propiedades radiativas direccional espectral para theta0\n",
    "    ax[0].plot(lam,R_lam,'--r',label=r'$R_{\\lambda,\\Omega}$',linewidth=0.5)\n",
    "    ax[0].plot(lam,T_lam,'--b',label=r'$T_{\\lambda,\\Omega}$',linewidth=0.5)\n",
    "    ax[0].plot(lam,A_lam,'-k',label=r'$A_{\\lambda,\\Omega}$',linewidth=2.0)  \n",
    "    ax[0].plot(lam0,np.interp(lam0,lam,A_lam),'or',ms=8.0)   \n",
    "    ax[0].set_xlabel('$\\lambda$ ($\\mu$m)',fontsize=18)\n",
    "    ax[0].set_ylabel(r'$R_{\\lambda,\\Omega}$, $T_{\\lambda,\\Omega}$ y $A_{\\lambda,\\Omega}$',fontsize=18)\n",
    "    ax[0].set_ylim(0,1.05)\n",
    "    ax[0].set_title(r'$\\theta = $ %i°' % theta0,fontsize=18)\n",
    "    ax[0].legend(fontsize=16, loc='lower right')\n",
    "    ax[0].tick_params(labelsize=16)\n",
    "    \n",
    "    # 2. Emisividad direccional espectral para lam0\n",
    "    ax[1].plot(theta,A_theta,'-k')  \n",
    "    ax[1].plot(theta0,np.interp(theta0,theta,A_theta),'or',ms=8.0)   \n",
    "    ax[1].set_xlabel(r'$\\theta$ (deg)',fontsize=18)\n",
    "    ax[1].set_ylabel(r'$\\epsilon_{\\lambda,\\Omega}(\\theta)$',fontsize=18)\n",
    "    ax[1].set_title(r'$\\lambda = $ %.2f $\\mu$m' % lam0,fontsize=18)\n",
    "    ax[1].set_ylim(0,1.05)\n",
    "    ax[1].tick_params(labelsize=16)\n",
    "    \n",
    "    # 3. Poder de emisión direccional espectral para theta0\n",
    "    ax[2].plot(lam,E_lam,'-k',label =r'$E_{\\lambda,\\Omega}$')\n",
    "    ax[2].plot(lam,E_bb,'-r',label =r'$E_\\mathrm{bb}$') \n",
    "    ax[2].plot(lam0,np.interp(lam0,lam,E_lam),'or',ms=8.0)   \n",
    "    ax[2].set_xlabel('Longitud de onda ($\\mu$m)',fontsize=18)\n",
    "    ax[2].set_ylabel(r'$E_{\\lambda,\\Omega}$(T) (W/m$^2$-$\\mu$m-sr)',fontsize=18)\n",
    "    ax[2].set_title(r'd = %.2f mm, $\\theta$=%i°' % (d,theta0) ,fontsize=18)\n",
    "    ax[2].set_ylim(0,max(Bplanck(lam,Temp))*1.05)\n",
    "    ax[2].legend(fontsize=16)\n",
    "    ax[2].tick_params(labelsize=16)\n",
    "    \n",
    "    plt.subplots_adjust(wspace=0.30)\n",
    "    plt.show()"
   ]
  },
  {
   "cell_type": "code",
   "execution_count": 7,
   "id": "8e3af1c4",
   "metadata": {
    "slideshow": {
     "slide_type": "slide"
    },
    "tags": [
     "hide-input"
    ]
   },
   "outputs": [
    {
     "data": {
      "application/vnd.jupyter.widget-view+json": {
       "model_id": "ff4f38a0740148128774f5e1b25e158b",
       "version_major": 2,
       "version_minor": 0
      },
      "text/plain": [
       "interactive(children=(IntSlider(value=300, description='T', max=6000, min=300, step=100), IntSlider(value=1, d…"
      ]
     },
     "metadata": {},
     "output_type": "display_data"
    }
   ],
   "source": [
    " from ipywidgets import interact\n",
    "\n",
    "@interact(T=(300,6000,100), d=(0,10,1), lam0=(5,10,0.5), theta0=(0,90,5))\n",
    "def g(T=300,d=1, lam0=10, theta0=0):\n",
    "    return plot_emisivity_glass(T,d,lam0,theta0)"
   ]
  },
  {
   "cell_type": "markdown",
   "id": "1071c1d3",
   "metadata": {
    "slideshow": {
     "slide_type": "slide"
    }
   },
   "source": [
    "Al igual que con el poder de emisión, la emisividad puede también ser definida de forma hemisférica (integración por ángulo sólido) o total (integración por longitudes de onda)"
   ]
  },
  {
   "cell_type": "markdown",
   "id": "67f1a8ba",
   "metadata": {
    "slideshow": {
     "slide_type": "fragment"
    }
   },
   "source": [
    "**Emisividad direccional total**\n",
    "\\begin{equation}\n",
    "\\epsilon_\\Omega(T) = \\frac{E_\\Omega(T)}{E_{\\Omega,bb}(T)} =\\frac{\\int_0^\\infty \\epsilon_{\\lambda,\\Omega} I_{\\mathrm{bb},\\lambda} (T)\\cos\\theta~d\\lambda}{\\int_0^\\infty I_{\\mathrm{bb},\\lambda} (T)\\cos\\theta~d\\lambda} = \\frac{\\pi}{\\sigma T^4}\\int_0^\\infty \\epsilon_{\\lambda,\\Omega} I_{\\mathrm{bb},\\lambda} (T)~d\\lambda\n",
    "\\end{equation}"
   ]
  },
  {
   "cell_type": "markdown",
   "id": "6e8b85fd",
   "metadata": {
    "slideshow": {
     "slide_type": "fragment"
    }
   },
   "source": [
    "**Emisividad hemisférica espectral**\n",
    "\\begin{equation}\n",
    "\\epsilon_\\lambda(T) = \\frac{E_\\lambda(T)}{E_{\\lambda,bb}(T)} = \\frac{\\int_\\mathrm{hemi}\\epsilon_{\\lambda,\\Omega}I_{\\mathrm{bb},\\lambda}(T)\\cos\\theta~d\\Omega}{\\pi I_{\\mathrm{bb},\\lambda}(T)}  = \\frac{1}{\\pi}\\int_\\mathrm{hemi}\\epsilon_{\\lambda,\\Omega}\\cos\\theta~d\\Omega\n",
    "\\end{equation}"
   ]
  },
  {
   "cell_type": "markdown",
   "id": "7af36cfb",
   "metadata": {
    "slideshow": {
     "slide_type": "fragment"
    }
   },
   "source": [
    "**Emisividad hemisférica total**\n",
    "\\begin{equation}\n",
    "\\epsilon(T) = \\frac{E(T)}{\\sigma T^4} =\\frac{1}{\\sigma T^4}\\int\\int_0^\\infty \\epsilon_{\\lambda,\\Omega} I_{\\mathrm{bb},\\lambda} (T)\\cos\\theta~d\\lambda~d\\Omega\n",
    "\\end{equation}"
   ]
  },
  {
   "cell_type": "markdown",
   "id": "041e5c23",
   "metadata": {
    "slideshow": {
     "slide_type": "slide"
    }
   },
   "source": [
    "Notar que, debido al factor $\\sigma T^4$, la emisividad hemisférica total y direccional total dependen de $T$, aún cuando $\\epsilon_{\\lambda,\\Omega}$ puede no depender de $T$."
   ]
  },
  {
   "cell_type": "markdown",
   "id": "42cb2a6f",
   "metadata": {
    "slideshow": {
     "slide_type": "slide"
    }
   },
   "source": [
    "### Materiales idealizados"
   ]
  },
  {
   "cell_type": "markdown",
   "id": "250a53e9",
   "metadata": {
    "slideshow": {
     "slide_type": "fragment"
    }
   },
   "source": [
    "- Decimos que una superficie es **difusa** cuando sus propiedades radiativas no dependen de $\\Omega$. Es práctica común suponer que las superficies son emisores difusos, con una emisividad igual al valor de la dirección normal ($\\theta = 0$)."
   ]
  },
  {
   "cell_type": "markdown",
   "id": "61822fca",
   "metadata": {
    "slideshow": {
     "slide_type": "fragment"
    }
   },
   "source": [
    "- Decimos que una superficie es **gris** cuando la emisividad es independiente de $\\lambda$."
   ]
  },
  {
   "cell_type": "markdown",
   "id": "55b28916",
   "metadata": {
    "slideshow": {
     "slide_type": "fragment"
    }
   },
   "source": [
    "- Decimos que una superficie es **opaca** cuando $T_{\\lambda,\\Omega} = 0$. En este caso, \n",
    "tenemos $A_{\\lambda,\\Omega} + R_{\\lambda,\\Omega} = 1$"
   ]
  },
  {
   "cell_type": "markdown",
   "id": "0107051b",
   "metadata": {
    "slideshow": {
     "slide_type": "fragment"
    }
   },
   "source": [
    "- En el caso de **gases**, $R_{\\lambda,\\Omega} \\approx 0$, así $A_{\\lambda,\\Omega} + T_{\\lambda,\\Omega} = 1$"
   ]
  },
  {
   "cell_type": "markdown",
   "id": "e11ffe84",
   "metadata": {
    "slideshow": {
     "slide_type": "slide"
    }
   },
   "source": [
    "Por ejemplo, calculemos la emisividad de la pintura blanca a $T = 25\\mathrm{°C}$."
   ]
  },
  {
   "cell_type": "markdown",
   "id": "027cb5ed",
   "metadata": {
    "cell_style": "center",
    "slideshow": {
     "slide_type": "fragment"
    }
   },
   "source": [
    "Como supuestos, consideraremos que la pintura blanca tiene las siguientes características: \n",
    "- capa de 0.5 mm de espesor\n",
    "- compuesta de una solución de partículas de TiO$_2$ de 1 $\\mu\\mathrm{m}$ de diámetro, con concentración de 7% v/v. \n",
    "- solvente con índice de refracción $N_\\mathrm{solvente} = 1.3$.\n",
    "- También asumiremos que la capa de pintura se encuentra entre aire ($n_1 = 1.0$) y un material con índice de refracción $n_3 = 1.5$"
   ]
  },
  {
   "cell_type": "markdown",
   "id": "5bd7ac90",
   "metadata": {
    "cell_style": "center",
    "slideshow": {
     "slide_type": "fragment"
    }
   },
   "source": [
    "En este caso, debido a la rugosidad de la pintura, es normal **asumir que la superficie se comporta como superficie difusa** y, por lo tanto, calcularemos la emisividad espectral en dirección normal."
   ]
  },
  {
   "cell_type": "markdown",
   "id": "ac46261f",
   "metadata": {
    "cell_style": "center",
    "slideshow": {
     "slide_type": "fragment"
    }
   },
   "source": [
    "Usamos la función `adm_sphere` de `empylib.rad_transfer` que calcula al reflectancia y transmitancia total (especular + difusa) en dirección normal"
   ]
  },
  {
   "cell_type": "markdown",
   "id": "ee9b6103",
   "metadata": {
    "slideshow": {
     "slide_type": "slide"
    }
   },
   "source": [
    "Primero, calculamos el espectro de reflectancia ($R_\\lambda$), transmitancia ($T_\\lambda$) y absortancia ($A_\\lambda$) espectral (igual en todas las direcciones)."
   ]
  },
  {
   "cell_type": "code",
   "execution_count": 8,
   "id": "c130aa97",
   "metadata": {
    "slideshow": {
     "slide_type": "fragment"
    },
    "tags": [
     "hide-input"
    ]
   },
   "outputs": [],
   "source": [
    "import empylib.rad_transfer as rt\n",
    "import empylib.nklib as nk\n",
    "\n",
    "lam   = np.logspace(np.log10(0.2),np.log10(100),1000) # espectro de longitudes de onda (um)\n",
    "tfilm = 0.5                                           # espesor de la película (mm)\n",
    "nh = 1.5                                              # índice de refracción del solvente\n",
    "Nlayers = (1.0,nh,1.5)                                # índices de refracción aire / solvente / aire\n",
    "fv = 0.07                                             # concentración (fracción de volúmen)\n",
    "Np = nk.TiO2(lam)                                     # índice de refracción de las partículas\n",
    "D  = 1.0                                              # diámetro de las partículas (um)\n",
    "\n",
    "T, R = rt.adm_sphere(lam,tfilm,Nlayers,fv,D,Np)[:2]       # Reflectancia y transmitancia\n",
    "A = 1 - R - T                                         # Absortancia"
   ]
  },
  {
   "cell_type": "markdown",
   "id": "8231eb53",
   "metadata": {
    "slideshow": {
     "slide_type": "slide"
    }
   },
   "source": [
    "Luego, graficamos ($R_\\lambda$), transmitancia ($T_\\lambda$) y absortancia ($A_\\lambda$). Como referencia, graficamos el índice de refracción del $\\mathrm{TiO_2}$ y el scattering de una partícula de $\\mathrm{TiO_2}$ en el solvente."
   ]
  },
  {
   "cell_type": "code",
   "execution_count": 9,
   "id": "2fe736e3",
   "metadata": {
    "slideshow": {
     "slide_type": "skip"
    },
    "tags": [
     "hide-input"
    ]
   },
   "outputs": [],
   "source": [
    "%%capture showplot1\n",
    "import empylib.miescattering as mie\n",
    "from matplotlib.ticker import FuncFormatter\n",
    "\n",
    "Ap = np.pi*D**2/4\n",
    "Qext, Qsca = mie.scatter_efficiency(lam,nh,Np,D)[:2]\n",
    "Csca, Cabs = Qsca*Ap, (Qext - Qsca)*Ap\n",
    "    \n",
    "fig, ax1 = plt.subplots(3,1,figsize=(8,8))\n",
    "plt.rcParams['font.size'] = '14'\n",
    "fig.tight_layout()\n",
    "\n",
    "# Graficamos el índice de refracción (parte real e imaginaria)\n",
    "ax1[0].plot(lam,Np.real,'-b',label = '$n$')\n",
    "ax1[0].plot(lam,Np.imag,'-r',label = '$\\kappa$')\n",
    "\n",
    "# Graficamos la sección transversal de scattering y absorción\n",
    "ax1[1].plot(lam,Csca,'-b',label = '$C_\\mathrm{sca}$')\n",
    "ax1[1].plot(lam,Cabs,'-r',label = '$C_\\mathrm{abs}$')\n",
    "\n",
    "# Graficamos la reflectancia, transmitancia y absortancia espectral\n",
    "ax1[2].plot(lam,R,'-b', label = '$R_\\lambda$')\n",
    "ax1[2].plot(lam,T,'-g', label = '$T_\\lambda$')\n",
    "ax1[2].plot(lam,A,'-r', label = '$A_\\lambda$')\n",
    "\n",
    "\n",
    "for i in range(len(ax1)):\n",
    "    ax1[i].set_xlabel('')\n",
    "    ax1[i].set_xscale('log')\n",
    "    ax1[i].set_xticks([0.3,0.4,0.75,1.4,3,8,15,30, 50, 100])\n",
    "    ax1[i].set_xlim(0.3,100)\n",
    "    ax1[i].xaxis.set_major_formatter(FuncFormatter(lambda y, _: '{:.16g}'.format(y)))\n",
    "    ax1[i].legend(frameon=False)\n",
    "\n",
    "    \n",
    "ax1[2].set_xlabel('Longitud de onda, $\\lambda$ $\\mu$m')\n",
    "ax1[0].set_ylabel('Índice de refracción $\\mathrm{TiO_2}$')\n",
    "ax1[1].set_ylabel('$C_\\mathrm{sca}$ y $C_\\mathrm{sca}$ esfera de $\\mathrm{TiO_2}$ ($\\mu$m$^2$)')\n",
    "ax1[2].set_ylabel('$R_\\lambda$, $T_\\lambda$ y $A_\\lambda$')\n",
    "plt.show()"
   ]
  },
  {
   "cell_type": "code",
   "execution_count": 10,
   "id": "e0ff1d2f",
   "metadata": {
    "slideshow": {
     "slide_type": "fragment"
    },
    "tags": [
     "remove-input"
    ]
   },
   "outputs": [
    {
     "data": {
      "image/png": "[encoded data removed]",
      "text/plain": [
       "<Figure size 800x800 with 3 Axes>"
      ]
     },
     "metadata": {},
     "output_type": "display_data"
    }
   ],
   "source": [
    "showplot1()"
   ]
  },
  {
   "cell_type": "markdown",
   "id": "2dd36558",
   "metadata": {
    "cell_style": "center",
    "slideshow": {
     "slide_type": "slide"
    }
   },
   "source": [
    "Para finalizar, usamos la ley de Kirchhoff ($A_\\lambda = \\epsilon_\\lambda$), y calculamos la emisividad total hemisférica mediante la ecuación (6.14):\n",
    "\n",
    "\\begin{align*}\n",
    "\\epsilon(T) &=\\frac{1}{\\sigma T^4}\\int_0^\\infty \\int_\\mathrm{hemi} \\epsilon_{\\lambda} I_{\\mathrm{bb},\\lambda} (T)\\cos\\theta~d\\Omega~d\\lambda \\\\\n",
    "&=\\frac{1}{\\sigma T^4}\\pi\\int_0^\\infty \\epsilon_{\\lambda} I_{\\mathrm{bb},\\lambda} (T)~d\\lambda\n",
    "\\end{align*}\n",
    "\n",
    "*Notar que $\\epsilon_{\\lambda}$ sale de la integral de $d\\Omega$ debido a que consideramos superficie difusa.*"
   ]
  },
  {
   "cell_type": "markdown",
   "id": "adacfdb6",
   "metadata": {
    "cell_style": "center",
    "slideshow": {
     "slide_type": "fragment"
    }
   },
   "source": [
    "Numericamente, integramos usando la regla del trapecio (`numpy.trapz`)"
   ]
  },
  {
   "cell_type": "code",
   "execution_count": 11,
   "id": "935e2452",
   "metadata": {
    "cell_style": "center",
    "slideshow": {
     "slide_type": "fragment"
    }
   },
   "outputs": [
    {
     "name": "stdout",
     "output_type": "stream",
     "text": [
      "la emisividad de la pintura blanca es : 0.853\n"
     ]
    }
   ],
   "source": [
    "T = 25 + 273                        # Temperatura de la pintura \n",
    "eps_lambda = A                      # Emisividad espectral de la pintura\n",
    "sigma = 5.67E-8                     # Constante de Steffan-Boltzmann \n",
    "eps_white_paint = 1/(sigma*T**4)*np.pi*np.trapz(eps_lambda*rf.Bplanck(lam,T),lam)\n",
    "\n",
    "print('la emisividad de la pintura blanca es : %.3f' % eps_white_paint)"
   ]
  },
  {
   "cell_type": "markdown",
   "id": "4a494870",
   "metadata": {
    "slideshow": {
     "slide_type": "slide"
    }
   },
   "source": [
    "### Irradiancia (G)"
   ]
  },
  {
   "cell_type": "markdown",
   "id": "fbc52f8b",
   "metadata": {
    "cell_style": "split",
    "slideshow": {
     "slide_type": "fragment"
    }
   },
   "source": [
    "Definimos como **irradiación espectral direccional, $G_{\\lambda,\\Omega}$** a la radiancia espectral incidente en una superficie.\n",
    "\n",
    "<img src=\"./images/irradiance.png\" width=\"300px\" align= center>"
   ]
  },
  {
   "cell_type": "markdown",
   "id": "ee20e9bd",
   "metadata": {
    "cell_style": "split",
    "slideshow": {
     "slide_type": "fragment"
    }
   },
   "source": [
    "Matemáticamente:\n",
    "\n",
    "\\begin{equation}\n",
    "G_{\\lambda,\\Omega} = I_i(\\lambda,\\Omega) \\cos\\theta\\quad\\frac{\\mathrm{W}}{\\mathrm{m}^2}\n",
    "\\end{equation}\n",
    "\n",
    "donde $I_i$ es la radiancia espectral incidente sobre una superficie $dA$"
   ]
  },
  {
   "cell_type": "markdown",
   "id": "28f8903f",
   "metadata": {
    "slideshow": {
     "slide_type": "slide"
    }
   },
   "source": [
    "La irradiancia permite determinar valores promedio para la absortancia, transmitancia y reflectancia. Al igual que en los casos anteriores, podemos extraer valores promedio del tipo hemisférico (integración por ángulo sólido) o total (integración por longitudes de onda). Por ejemplo, para la absortancia"
   ]
  },
  {
   "cell_type": "markdown",
   "id": "04fc2a89",
   "metadata": {
    "slideshow": {
     "slide_type": "fragment"
    }
   },
   "source": [
    "**Absorptancia direccional total**\n",
    "\\begin{equation}\n",
    "\\alpha_\\Omega = \\frac{\\int_0^\\infty \\alpha_{\\lambda,\\Omega} G_{\\lambda,\\Omega}~d\\lambda}{\\int_0^\\infty G_{\\lambda,\\Omega} ~d\\lambda}\n",
    "\\end{equation}"
   ]
  },
  {
   "cell_type": "markdown",
   "id": "67f37e2e",
   "metadata": {
    "slideshow": {
     "slide_type": "fragment"
    }
   },
   "source": [
    "**Absorptancia hemisférica espectral**\n",
    "\\begin{equation}\n",
    "\\alpha_\\lambda = \\frac{\\int_\\mathrm{hemi}\\alpha_{\\lambda,\\Omega}G_{\\lambda,\\Omega}~d\\Omega}{\\pi G_{\\lambda,\\Omega}}\n",
    "\\end{equation}"
   ]
  },
  {
   "cell_type": "markdown",
   "id": "47329f1f",
   "metadata": {
    "slideshow": {
     "slide_type": "fragment"
    }
   },
   "source": [
    "**Absorptancia hemisférica total**\n",
    "\\begin{equation}\n",
    "\\alpha = \\frac{\\int_\\mathrm{hemi} \\int_0^\\infty \\alpha_{\\lambda,\\Omega} G_{\\lambda,\\Omega}~d\\lambda d\\Omega}{\\int_\\mathrm{hemi} \\int_0^\\infty G_{\\lambda,\\Omega}~d\\lambda d\\Omega}\n",
    "\\end{equation}"
   ]
  },
  {
   "cell_type": "markdown",
   "id": "823c3612",
   "metadata": {},
   "source": [
    "### Radiosidad (J)"
   ]
  },
  {
   "cell_type": "markdown",
   "id": "04ee6eb9",
   "metadata": {
    "slideshow": {
     "slide_type": "slide"
    }
   },
   "source": [
    "Definimos como **radiosidad, $J_{\\lambda,\\Omega}$** a la combinación de radiación emitida y reflejada por una superficie"
   ]
  },
  {
   "cell_type": "markdown",
   "id": "bae8d429",
   "metadata": {
    "cell_style": "split",
    "slideshow": {
     "slide_type": "-"
    }
   },
   "source": [
    "\n",
    "<img src=\"./images/radiosity.png\" width=\"250px\" align= center>"
   ]
  },
  {
   "cell_type": "markdown",
   "id": "23a0cca5",
   "metadata": {
    "cell_style": "split",
    "slideshow": {
     "slide_type": "fragment"
    }
   },
   "source": [
    "Matemáticamente:\n",
    "\\begin{equation}\n",
    "J_{\\lambda,\\Omega} = R_{\\lambda,\\Omega}G_{\\lambda,\\Omega}+E_{\\lambda,\\Omega}\n",
    "\\end{equation}"
   ]
  },
  {
   "cell_type": "markdown",
   "id": "0fc1336c",
   "metadata": {
    "slideshow": {
     "slide_type": "fragment"
    }
   },
   "source": [
    "Al igual que con el poder de emisión y la irradiancia, la radiosidad ($J_{\\lambda,\\Omega}$) puede ser definidas de forma hemisférica (integrando por ángulo sólido) o total (integrando por longitud de onda)."
   ]
  },
  {
   "cell_type": "markdown",
   "id": "7c66c252",
   "metadata": {
    "slideshow": {
     "slide_type": "slide"
    }
   },
   "source": [
    "## Transferencia de calor por radiación"
   ]
  },
  {
   "cell_type": "markdown",
   "id": "4d97cde2",
   "metadata": {
    "slideshow": {
     "slide_type": "slide"
    }
   },
   "source": [
    "### Factor de visión para superficies difusas\n",
    "La transferencia de calor por radiación depende de la orientación relativa entre las superficies."
   ]
  },
  {
   "cell_type": "markdown",
   "id": "a9c57dec",
   "metadata": {
    "slideshow": {
     "slide_type": "fragment"
    }
   },
   "source": [
    "En general, este análisis es complejo ya que requiere integración por ángulo sólido considerando factores geométricos y dependencia de las propiedades radiativas con la orientación. En el caso de superficies difusas, sin embargo, podemos simplificar el análisis considerando sólamente los aspectos geométricos."
   ]
  },
  {
   "cell_type": "markdown",
   "id": "24d32a93",
   "metadata": {
    "slideshow": {
     "slide_type": "slide"
    }
   },
   "source": [
    "Consideremos el parámetro,  $\\dot{Q}_{dA_1\\rightarrow dA_2}$, que representa la radiación espectral emitida por una superficie $dA_1$ que incide sobre una superficie $dA_2$."
   ]
  },
  {
   "cell_type": "markdown",
   "id": "2361fe98",
   "metadata": {
    "cell_style": "split",
    "slideshow": {
     "slide_type": "fragment"
    }
   },
   "source": [
    "\n",
    "<img src=\"./images/vision_factor.png\" width=\"250px\" align= center>"
   ]
  },
  {
   "cell_type": "markdown",
   "id": "551f2ce3",
   "metadata": {
    "cell_style": "split",
    "slideshow": {
     "slide_type": "-"
    }
   },
   "source": [
    "\\begin{equation*}\n",
    "dQ_{dA_1\\rightarrow dA_2} = I_{\\mathrm{bb},\\lambda}(T_1)\\cos\\theta_1 dA_1 d\\Omega_{12}\n",
    "\\end{equation*}"
   ]
  },
  {
   "cell_type": "markdown",
   "id": "8d71c791",
   "metadata": {
    "cell_style": "split",
    "slideshow": {
     "slide_type": "fragment"
    }
   },
   "source": [
    "A través de la relación $r^2 d\\Omega_{12} = \\cos\\theta_2 dA_2$, podemos determinar:\n",
    "\n",
    "\\begin{equation*}\n",
    "\\dot{Q}_{dA_1\\rightarrow dA_2} = I_{\\mathrm{bb},\\lambda}(T_1) \\frac{\\cos\\theta_1 \\cos\\theta_2}{r^2 }dA_1dA_2\n",
    "\\end{equation*}"
   ]
  },
  {
   "cell_type": "markdown",
   "id": "f892a331",
   "metadata": {
    "slideshow": {
     "slide_type": "slide"
    }
   },
   "source": [
    "La radiación total espectral que incide sobre la superficie $A_2$, es:\n",
    "\n",
    "\\begin{equation*}\n",
    "\\dot{Q}_{A_1\\rightarrow A_2} = \\int_{A_1}\\int_{A_1}I_{\\mathrm{bb},\\lambda}(T_1) \\frac{\\cos\\theta_1 \\cos\\theta_2}{r^2 }dA_1dA_2\n",
    "\\end{equation*}"
   ]
  },
  {
   "cell_type": "markdown",
   "id": "1ecc9bb7",
   "metadata": {
    "slideshow": {
     "slide_type": "fragment"
    }
   },
   "source": [
    "Definimos como **factor de visión o factor de forma, $F_{12}$** a la razón entre $\\dot{Q}_{A_1\\rightarrow A_2}$ y la radiación hemisférica espectral emitida por $A_1$, es decir $\\dot{Q}_{A_1} = \\pi I_{\\mathrm{bb},\\lambda}(T_1) A_1 $:\n",
    "\n",
    "\n",
    "\\begin{equation}\n",
    "F_{12} = \\frac{\\dot{Q}_{A_1\\rightarrow A_2}}{\\dot{Q}_{A_1}} = \\frac{1}{A_1}\\int_{A_1}\\int_{A_2} \\frac{\\cos\\theta_1 \\cos\\theta_2}{\\pi r^2 }dA_1dA_2\n",
    "\\end{equation}"
   ]
  },
  {
   "cell_type": "markdown",
   "id": "410f376e",
   "metadata": {
    "slideshow": {
     "slide_type": "fragment"
    }
   },
   "source": [
    "El factor de visión permite simplificar el análisis para determinar el calor por radiación transferido a una superficie, de la forma:\n",
    "\n",
    "\\begin{equation*}\n",
    "\\dot{Q}_{A_1\\rightarrow A_2} = I_{\\mathrm{bb},\\lambda}(T_1) A_1F_{12}\n",
    "\\end{equation*}"
   ]
  },
  {
   "cell_type": "markdown",
   "id": "9973f4be",
   "metadata": {
    "slideshow": {
     "slide_type": "slide"
    }
   },
   "source": [
    "Por reciprocidad, el factor de visión desde $A_2$ a $A_1$ es:\n",
    "\n",
    "\\begin{equation*}\n",
    "F_{21} = \\frac{1}{A_2}\\int_{A_1}\\int_{A_2} \\frac{\\cos\\theta_1 \\cos\\theta_2}{\\pi r^2 }dA_1dA_2\n",
    "\\end{equation*}"
   ]
  },
  {
   "cell_type": "markdown",
   "id": "fd088d94",
   "metadata": {
    "slideshow": {
     "slide_type": "fragment"
    }
   },
   "source": [
    "De donde deducimos la relación:\n",
    "\n",
    "\\begin{equation}\n",
    "A_1 F_{12} = A_2 F_{21}\n",
    "\\end{equation}"
   ]
  },
  {
   "cell_type": "markdown",
   "id": "3e0d1079",
   "metadata": {
    "slideshow": {
     "slide_type": "fragment"
    }
   },
   "source": [
    "Las expresiones para el factor de visión se encuentran tabuladas en diversos textos especializados. "
   ]
  },
  {
   "cell_type": "markdown",
   "id": "1f2c6d99",
   "metadata": {
    "slideshow": {
     "slide_type": "slide"
    }
   },
   "source": [
    "Si una de las superficies es muy pequeña respecto a la otra, $F_{12} = 1$"
   ]
  },
  {
   "cell_type": "markdown",
   "id": "4f7b9ad8",
   "metadata": {},
   "source": [
    "\n",
    "<img src=\"./images/vision_factor_table.png\" width=\"500px\" align= center>"
   ]
  },
  {
   "cell_type": "markdown",
   "id": "bd990181",
   "metadata": {
    "slideshow": {
     "slide_type": "slide"
    }
   },
   "source": [
    "### Transferencia de calor por radiación\n",
    "En el caso de dos superficies negras a temperaturas $T_1$ y $T_2$, la transferencia de calor neta por radiación es:\n",
    "\n",
    "\\begin{align}\n",
    "\\dot{Q} &= \\dot{Q}_{A_1\\rightarrow A_2} - \\dot{Q}_{A_2\\rightarrow A_1} \\nonumber \\\\[10pt]\n",
    "&= A_1F_{12}\\sigma T_1^4 - A_2F_{21}\\sigma T_2^4 \\nonumber \\\\[10pt]\n",
    "&= A_1F_{12}\\sigma\\left(T_1^4 - T_2^4\\right)\n",
    "\\end{align}"
   ]
  },
  {
   "cell_type": "markdown",
   "id": "17c1dc23",
   "metadata": {
    "cell_style": "center",
    "slideshow": {
     "slide_type": "slide"
    }
   },
   "source": [
    "## Referencias\n",
    "- Çengel Y. A y Ghanjar A. J. **Capítulo 12 - Fundamentos de la radiación térmica** en *Transferencia de calor y masa*, 4ta Ed, McGraw Hill, 2011"
   ]
  },
  {
   "cell_type": "code",
   "execution_count": 12,
   "id": "6e0a420c",
   "metadata": {
    "tags": [
     "remove-input"
    ]
   },
   "outputs": [
    {
     "data": {
      "image/jpeg": "[encoded data removed]",
      "text/html": [
       "\n",
       "        <iframe\n",
       "            width=\"600\"\n",
       "            height=\"400\"\n",
       "            src=\"https://www.youtube.com/embed/FDmYCI_xYlA?playsinline=0\"\n",
       "            frameborder=\"0\"\n",
       "            allowfullscreen\n",
       "            \n",
       "        ></iframe>\n",
       "        "
      ],
      "text/plain": [
       "<IPython.lib.display.YouTubeVideo at 0x7f1af9f3cd50>"
      ]
     },
     "execution_count": 12,
     "metadata": {},
     "output_type": "execute_result"
    }
   ],
   "source": [
    "from IPython.display import YouTubeVideo\n",
    "YouTubeVideo('FDmYCI_xYlA', width=600, height=400,  playsinline=0)"
   ]
  }
 ],
 "metadata": {
  "celltoolbar": "Slideshow",
  "kernelspec": {
   "display_name": "Python 3 (ipykernel)",
   "language": "python",
   "name": "python3"
  },
  "language_info": {
   "codemirror_mode": {
    "name": "ipython",
    "version": 3
   },
   "file_extension": ".py",
   "mimetype": "text/x-python",
   "name": "python",
   "nbconvert_exporter": "python",
   "pygments_lexer": "ipython3",
   "version": "3.11.6"
  },
  "latex_envs": {
   "LaTeX_envs_menu_present": false,
   "autoclose": false,
   "autocomplete": false,
   "bibliofile": "biblio.bib",
   "cite_by": "apalike",
   "current_citInitial": 1,
   "eqLabelWithNumbers": true,
   "eqNumInitial": 1,
   "hotkeys": {
    "equation": "Ctrl-E",
    "itemize": "Ctrl-I"
   },
   "labels_anchors": false,
   "latex_user_defs": false,
   "report_style_numbering": false,
   "user_envs_cfg": true
  },
  "toc": {
   "base_numbering": 1,
   "nav_menu": {},
   "number_sections": true,
   "sideBar": true,
   "skip_h1_title": true,
   "title_cell": "Tabla de contenidos",
   "title_sidebar": "Contenidos",
   "toc_cell": false,
   "toc_position": {
    "height": "calc(100% - 180px)",
    "left": "10px",
    "top": "150px",
    "width": "307.2px"
   },
   "toc_section_display": true,
   "toc_window_display": false
  },
  "varInspector": {
   "cols": {
    "lenName": 16,
    "lenType": 16,
    "lenVar": 40
   },
   "kernels_config": {
    "python": {
     "delete_cmd_postfix": "",
     "delete_cmd_prefix": "del ",
     "library": "var_list.py",
     "varRefreshCmd": "print(var_dic_list())"
    },
    "r": {
     "delete_cmd_postfix": ") ",
     "delete_cmd_prefix": "rm(",
     "library": "var_list.r",
     "varRefreshCmd": "cat(var_dic_list()) "
    }
   },
   "types_to_exclude": [
    "module",
    "function",
    "builtin_function_or_method",
    "instance",
    "_Feature"
   ],
   "window_display": false
  },
  "widgets": {
   "application/vnd.jupyter.widget-state+json": {
    "state": {
     "0ac41e39d5754a229fa45f3068d691dd": {
      "model_module": "@jupyter-widgets/base",
      "model_module_version": "2.0.0",
      "model_name": "LayoutModel",
      "state": {
       "_model_module": "@jupyter-widgets/base",
       "_model_module_version": "2.0.0",
       "_model_name": "LayoutModel",
       "_view_count": null,
       "_view_module": "@jupyter-widgets/base",
       "_view_module_version": "2.0.0",
       "_view_name": "LayoutView",
       "align_content": null,
       "align_items": null,
       "align_self": null,
       "border_bottom": null,
       "border_left": null,
       "border_right": null,
       "border_top": null,
       "bottom": null,
       "display": null,
       "flex": null,
       "flex_flow": null,
       "grid_area": null,
       "grid_auto_columns": null,
       "grid_auto_flow": null,
       "grid_auto_rows": null,
       "grid_column": null,
       "grid_gap": null,
       "grid_row": null,
       "grid_template_areas": null,
       "grid_template_columns": null,
       "grid_template_rows": null,
       "height": null,
       "justify_content": null,
       "justify_items": null,
       "left": null,
       "margin": null,
       "max_height": null,
       "max_width": null,
       "min_height": null,
       "min_width": null,
       "object_fit": null,
       "object_position": null,
       "order": null,
       "overflow": null,
       "padding": null,
       "right": null,
       "top": null,
       "visibility": null,
       "width": null
      }
     },
     "19d489dcd37c403984a103a02648e86a": {
      "model_module": "@jupyter-widgets/controls",
      "model_module_version": "2.0.0",
      "model_name": "IntSliderModel",
      "state": {
       "_dom_classes": [],
       "_model_module": "@jupyter-widgets/controls",
       "_model_module_version": "2.0.0",
       "_model_name": "IntSliderModel",
       "_view_count": null,
       "_view_module": "@jupyter-widgets/controls",
       "_view_module_version": "2.0.0",
       "_view_name": "IntSliderView",
       "behavior": "drag-tap",
       "continuous_update": true,
       "description": "theta0",
       "description_allow_html": false,
       "disabled": false,
       "layout": "IPY_MODEL_9cf8fcb5b056464bb908135318467753",
       "max": 90,
       "min": 0,
       "orientation": "horizontal",
       "readout": true,
       "readout_format": "d",
       "step": 5,
       "style": "IPY_MODEL_ace5e52c1ded43c8ad4ea0e81fc9f827",
       "tabbable": null,
       "tooltip": null,
       "value": 0
      }
     },
     "2fcd22b8f2634ed3b07833b58494eb39": {
      "model_module": "@jupyter-widgets/controls",
      "model_module_version": "2.0.0",
      "model_name": "SliderStyleModel",
      "state": {
       "_model_module": "@jupyter-widgets/controls",
       "_model_module_version": "2.0.0",
       "_model_name": "SliderStyleModel",
       "_view_count": null,
       "_view_module": "@jupyter-widgets/base",
       "_view_module_version": "2.0.0",
       "_view_name": "StyleView",
       "description_width": "",
       "handle_color": null
      }
     },
     "41a3cad15d434c4a9cbe775490ffdabd": {
      "model_module": "@jupyter-widgets/controls",
      "model_module_version": "2.0.0",
      "model_name": "SliderStyleModel",
      "state": {
       "_model_module": "@jupyter-widgets/controls",
       "_model_module_version": "2.0.0",
       "_model_name": "SliderStyleModel",
       "_view_count": null,
       "_view_module": "@jupyter-widgets/base",
       "_view_module_version": "2.0.0",
       "_view_name": "StyleView",
       "description_width": "",
       "handle_color": null
      }
     },
     "68e49dbafec34a36a6951928449e5856": {
      "model_module": "@jupyter-widgets/base",
      "model_module_version": "2.0.0",
      "model_name": "LayoutModel",
      "state": {
       "_model_module": "@jupyter-widgets/base",
       "_model_module_version": "2.0.0",
       "_model_name": "LayoutModel",
       "_view_count": null,
       "_view_module": "@jupyter-widgets/base",
       "_view_module_version": "2.0.0",
       "_view_name": "LayoutView",
       "align_content": null,
       "align_items": null,
       "align_self": null,
       "border_bottom": null,
       "border_left": null,
       "border_right": null,
       "border_top": null,
       "bottom": null,
       "display": null,
       "flex": null,
       "flex_flow": null,
       "grid_area": null,
       "grid_auto_columns": null,
       "grid_auto_flow": null,
       "grid_auto_rows": null,
       "grid_column": null,
       "grid_gap": null,
       "grid_row": null,
       "grid_template_areas": null,
       "grid_template_columns": null,
       "grid_template_rows": null,
       "height": null,
       "justify_content": null,
       "justify_items": null,
       "left": null,
       "margin": null,
       "max_height": null,
       "max_width": null,
       "min_height": null,
       "min_width": null,
       "object_fit": null,
       "object_position": null,
       "order": null,
       "overflow": null,
       "padding": null,
       "right": null,
       "top": null,
       "visibility": null,
       "width": null
      }
     },
     "7dbdf5ab2da64f36801efce677219662": {
      "model_module": "@jupyter-widgets/base",
      "model_module_version": "2.0.0",
      "model_name": "LayoutModel",
      "state": {
       "_model_module": "@jupyter-widgets/base",
       "_model_module_version": "2.0.0",
       "_model_name": "LayoutModel",
       "_view_count": null,
       "_view_module": "@jupyter-widgets/base",
       "_view_module_version": "2.0.0",
       "_view_name": "LayoutView",
       "align_content": null,
       "align_items": null,
       "align_self": null,
       "border_bottom": null,
       "border_left": null,
       "border_right": null,
       "border_top": null,
       "bottom": null,
       "display": null,
       "flex": null,
       "flex_flow": null,
       "grid_area": null,
       "grid_auto_columns": null,
       "grid_auto_flow": null,
       "grid_auto_rows": null,
       "grid_column": null,
       "grid_gap": null,
       "grid_row": null,
       "grid_template_areas": null,
       "grid_template_columns": null,
       "grid_template_rows": null,
       "height": null,
       "justify_content": null,
       "justify_items": null,
       "left": null,
       "margin": null,
       "max_height": null,
       "max_width": null,
       "min_height": null,
       "min_width": null,
       "object_fit": null,
       "object_position": null,
       "order": null,
       "overflow": null,
       "padding": null,
       "right": null,
       "top": null,
       "visibility": null,
       "width": null
      }
     },
     "81472438b2f54582b923d4717bae85ec": {
      "model_module": "@jupyter-widgets/controls",
      "model_module_version": "2.0.0",
      "model_name": "IntSliderModel",
      "state": {
       "_dom_classes": [],
       "_model_module": "@jupyter-widgets/controls",
       "_model_module_version": "2.0.0",
       "_model_name": "IntSliderModel",
       "_view_count": null,
       "_view_module": "@jupyter-widgets/controls",
       "_view_module_version": "2.0.0",
       "_view_name": "IntSliderView",
       "behavior": "drag-tap",
       "continuous_update": true,
       "description": "d",
       "description_allow_html": false,
       "disabled": false,
       "layout": "IPY_MODEL_ceee4bb66c144e158cba01177a7c9e47",
       "max": 10,
       "min": 0,
       "orientation": "horizontal",
       "readout": true,
       "readout_format": "d",
       "step": 1,
       "style": "IPY_MODEL_41a3cad15d434c4a9cbe775490ffdabd",
       "tabbable": null,
       "tooltip": null,
       "value": 1
      }
     },
     "8694464fc7644f1bb02e6c0174f69c95": {
      "model_module": "@jupyter-widgets/controls",
      "model_module_version": "2.0.0",
      "model_name": "IntSliderModel",
      "state": {
       "_dom_classes": [],
       "_model_module": "@jupyter-widgets/controls",
       "_model_module_version": "2.0.0",
       "_model_name": "IntSliderModel",
       "_view_count": null,
       "_view_module": "@jupyter-widgets/controls",
       "_view_module_version": "2.0.0",
       "_view_name": "IntSliderView",
       "behavior": "drag-tap",
       "continuous_update": true,
       "description": "T",
       "description_allow_html": false,
       "disabled": false,
       "layout": "IPY_MODEL_e8ca2821db054746975137fd5149dedf",
       "max": 6000,
       "min": 300,
       "orientation": "horizontal",
       "readout": true,
       "readout_format": "d",
       "step": 100,
       "style": "IPY_MODEL_d3beb9bf10864c1db38d523fcd436db7",
       "tabbable": null,
       "tooltip": null,
       "value": 300
      }
     },
     "9cf8fcb5b056464bb908135318467753": {
      "model_module": "@jupyter-widgets/base",
      "model_module_version": "2.0.0",
      "model_name": "LayoutModel",
      "state": {
       "_model_module": "@jupyter-widgets/base",
       "_model_module_version": "2.0.0",
       "_model_name": "LayoutModel",
       "_view_count": null,
       "_view_module": "@jupyter-widgets/base",
       "_view_module_version": "2.0.0",
       "_view_name": "LayoutView",
       "align_content": null,
       "align_items": null,
       "align_self": null,
       "border_bottom": null,
       "border_left": null,
       "border_right": null,
       "border_top": null,
       "bottom": null,
       "display": null,
       "flex": null,
       "flex_flow": null,
       "grid_area": null,
       "grid_auto_columns": null,
       "grid_auto_flow": null,
       "grid_auto_rows": null,
       "grid_column": null,
       "grid_gap": null,
       "grid_row": null,
       "grid_template_areas": null,
       "grid_template_columns": null,
       "grid_template_rows": null,
       "height": null,
       "justify_content": null,
       "justify_items": null,
       "left": null,
       "margin": null,
       "max_height": null,
       "max_width": null,
       "min_height": null,
       "min_width": null,
       "object_fit": null,
       "object_position": null,
       "order": null,
       "overflow": null,
       "padding": null,
       "right": null,
       "top": null,
       "visibility": null,
       "width": null
      }
     },
     "ace5e52c1ded43c8ad4ea0e81fc9f827": {
      "model_module": "@jupyter-widgets/controls",
      "model_module_version": "2.0.0",
      "model_name": "SliderStyleModel",
      "state": {
       "_model_module": "@jupyter-widgets/controls",
       "_model_module_version": "2.0.0",
       "_model_name": "SliderStyleModel",
       "_view_count": null,
       "_view_module": "@jupyter-widgets/base",
       "_view_module_version": "2.0.0",
       "_view_name": "StyleView",
       "description_width": "",
       "handle_color": null
      }
     },
     "c6ccd9372be74e29837e689af1c9caa8": {
      "model_module": "@jupyter-widgets/controls",
      "model_module_version": "2.0.0",
      "model_name": "FloatSliderModel",
      "state": {
       "_dom_classes": [],
       "_model_module": "@jupyter-widgets/controls",
       "_model_module_version": "2.0.0",
       "_model_name": "FloatSliderModel",
       "_view_count": null,
       "_view_module": "@jupyter-widgets/controls",
       "_view_module_version": "2.0.0",
       "_view_name": "FloatSliderView",
       "behavior": "drag-tap",
       "continuous_update": true,
       "description": "lam0",
       "description_allow_html": false,
       "disabled": false,
       "layout": "IPY_MODEL_68e49dbafec34a36a6951928449e5856",
       "max": 10.0,
       "min": 5.0,
       "orientation": "horizontal",
       "readout": true,
       "readout_format": ".2f",
       "step": 0.5,
       "style": "IPY_MODEL_2fcd22b8f2634ed3b07833b58494eb39",
       "tabbable": null,
       "tooltip": null,
       "value": 10.0
      }
     },
     "ceee4bb66c144e158cba01177a7c9e47": {
      "model_module": "@jupyter-widgets/base",
      "model_module_version": "2.0.0",
      "model_name": "LayoutModel",
      "state": {
       "_model_module": "@jupyter-widgets/base",
       "_model_module_version": "2.0.0",
       "_model_name": "LayoutModel",
       "_view_count": null,
       "_view_module": "@jupyter-widgets/base",
       "_view_module_version": "2.0.0",
       "_view_name": "LayoutView",
       "align_content": null,
       "align_items": null,
       "align_self": null,
       "border_bottom": null,
       "border_left": null,
       "border_right": null,
       "border_top": null,
       "bottom": null,
       "display": null,
       "flex": null,
       "flex_flow": null,
       "grid_area": null,
       "grid_auto_columns": null,
       "grid_auto_flow": null,
       "grid_auto_rows": null,
       "grid_column": null,
       "grid_gap": null,
       "grid_row": null,
       "grid_template_areas": null,
       "grid_template_columns": null,
       "grid_template_rows": null,
       "height": null,
       "justify_content": null,
       "justify_items": null,
       "left": null,
       "margin": null,
       "max_height": null,
       "max_width": null,
       "min_height": null,
       "min_width": null,
       "object_fit": null,
       "object_position": null,
       "order": null,
       "overflow": null,
       "padding": null,
       "right": null,
       "top": null,
       "visibility": null,
       "width": null
      }
     },
     "d3beb9bf10864c1db38d523fcd436db7": {
      "model_module": "@jupyter-widgets/controls",
      "model_module_version": "2.0.0",
      "model_name": "SliderStyleModel",
      "state": {
       "_model_module": "@jupyter-widgets/controls",
       "_model_module_version": "2.0.0",
       "_model_name": "SliderStyleModel",
       "_view_count": null,
       "_view_module": "@jupyter-widgets/base",
       "_view_module_version": "2.0.0",
       "_view_name": "StyleView",
       "description_width": "",
       "handle_color": null
      }
     },
     "e0164526876c4eeb87816e8cc39f6ae8": {
      "model_module": "@jupyter-widgets/output",
      "model_module_version": "1.0.0",
      "model_name": "OutputModel",
      "state": {
       "_dom_classes": [],
       "_model_module": "@jupyter-widgets/output",
       "_model_module_version": "1.0.0",
       "_model_name": "OutputModel",
       "_view_count": null,
       "_view_module": "@jupyter-widgets/output",
       "_view_module_version": "1.0.0",
       "_view_name": "OutputView",
       "layout": "IPY_MODEL_0ac41e39d5754a229fa45f3068d691dd",
       "msg_id": "",
       "outputs": [
        {
         "data": {
          "image/png": "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",
          "text/plain": "<Figure size 1600x500 with 3 Axes>"
         },
         "metadata": {},
         "output_type": "display_data"
        }
       ],
       "tabbable": null,
       "tooltip": null
      }
     },
     "e8ca2821db054746975137fd5149dedf": {
      "model_module": "@jupyter-widgets/base",
      "model_module_version": "2.0.0",
      "model_name": "LayoutModel",
      "state": {
       "_model_module": "@jupyter-widgets/base",
       "_model_module_version": "2.0.0",
       "_model_name": "LayoutModel",
       "_view_count": null,
       "_view_module": "@jupyter-widgets/base",
       "_view_module_version": "2.0.0",
       "_view_name": "LayoutView",
       "align_content": null,
       "align_items": null,
       "align_self": null,
       "border_bottom": null,
       "border_left": null,
       "border_right": null,
       "border_top": null,
       "bottom": null,
       "display": null,
       "flex": null,
       "flex_flow": null,
       "grid_area": null,
       "grid_auto_columns": null,
       "grid_auto_flow": null,
       "grid_auto_rows": null,
       "grid_column": null,
       "grid_gap": null,
       "grid_row": null,
       "grid_template_areas": null,
       "grid_template_columns": null,
       "grid_template_rows": null,
       "height": null,
       "justify_content": null,
       "justify_items": null,
       "left": null,
       "margin": null,
       "max_height": null,
       "max_width": null,
       "min_height": null,
       "min_width": null,
       "object_fit": null,
       "object_position": null,
       "order": null,
       "overflow": null,
       "padding": null,
       "right": null,
       "top": null,
       "visibility": null,
       "width": null
      }
     },
     "ff4f38a0740148128774f5e1b25e158b": {
      "model_module": "@jupyter-widgets/controls",
      "model_module_version": "2.0.0",
      "model_name": "VBoxModel",
      "state": {
       "_dom_classes": [
        "widget-interact"
       ],
       "_model_module": "@jupyter-widgets/controls",
       "_model_module_version": "2.0.0",
       "_model_name": "VBoxModel",
       "_view_count": null,
       "_view_module": "@jupyter-widgets/controls",
       "_view_module_version": "2.0.0",
       "_view_name": "VBoxView",
       "box_style": "",
       "children": [
        "IPY_MODEL_8694464fc7644f1bb02e6c0174f69c95",
        "IPY_MODEL_81472438b2f54582b923d4717bae85ec",
        "IPY_MODEL_c6ccd9372be74e29837e689af1c9caa8",
        "IPY_MODEL_19d489dcd37c403984a103a02648e86a",
        "IPY_MODEL_e0164526876c4eeb87816e8cc39f6ae8"
       ],
       "layout": "IPY_MODEL_7dbdf5ab2da64f36801efce677219662",
       "tabbable": null,
       "tooltip": null
      }
     }
    },
    "version_major": 2,
    "version_minor": 0
   }
  }
 },
 "nbformat": 4,
 "nbformat_minor": 5
}