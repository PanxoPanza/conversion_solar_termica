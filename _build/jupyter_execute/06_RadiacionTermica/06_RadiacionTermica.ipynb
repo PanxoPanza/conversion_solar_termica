{
 "cells": [
  {
   "cell_type": "code",
   "execution_count": 1,
   "id": "3c597da7",
   "metadata": {
    "slideshow": {
     "slide_type": "skip"
    },
    "tags": [
     "remove-cell"
    ]
   },
   "outputs": [],
   "source": [
    "import importlib.util\n",
    "if importlib.util.find_spec('empylib') is None:\n",
    "    !pip install git+https://github.com/PanxoPanza/empylib.git"
   ]
  },
  {
   "cell_type": "markdown",
   "id": "8b01ca79",
   "metadata": {
    "slideshow": {
     "slide_type": "slide"
    }
   },
   "source": [
    "# Radiación Térmica"
   ]
  },
  {
   "cell_type": "markdown",
   "id": "e21d64ae",
   "metadata": {
    "slideshow": {
     "slide_type": "slide"
    }
   },
   "source": [
    "## Introducción a la Transferencia de Calor\n",
    "A nivel molecular, los átomos en la materia siempre están vibrando. La magnitud de estas vibraciones está caracterizada estadísticamente por la temperatura:"
   ]
  },
  {
   "cell_type": "markdown",
   "id": "35dd953b",
   "metadata": {},
   "source": [
    "<img src=\"./images/temperature_brownian_motion.gif\" width=\"400px\" align= center>"
   ]
  },
  {
   "cell_type": "markdown",
   "id": "7810d826",
   "metadata": {
    "cell_style": "center",
    "slideshow": {
     "slide_type": "slide"
    }
   },
   "source": [
    "Consideremos un sólido extendido con una diferencia de temperatura, $\\Delta T$, entre sus extremos, tal que el lado izquierdo tiene una mayor temperatura que el lado derecho"
   ]
  },
  {
   "cell_type": "markdown",
   "id": "5407e5b7",
   "metadata": {
    "cell_style": "split",
    "slideshow": {
     "slide_type": "fragment"
    }
   },
   "source": [
    "<img src=\"./images/heat_transfer.gif\" width=\"300px\" align= center>"
   ]
  },
  {
   "cell_type": "markdown",
   "id": "85b590b5",
   "metadata": {
    "cell_style": "split",
    "slideshow": {
     "slide_type": "fragment"
    }
   },
   "source": [
    "Debido a la diferencia de temperatura, la vibración molecular en el lado izquierdo es mayor. Esta energía cinética es transmitida a través del material hacia el lado derecho."
   ]
  },
  {
   "cell_type": "markdown",
   "id": "6f302797",
   "metadata": {
    "slideshow": {
     "slide_type": "slide"
    }
   },
   "source": [
    "Definimos como **calor**, $Q$, a la energía térmica intercambiada entre dos medios cuya diferencia de temperatura es $\\Delta T$. A mayor $\\Delta T$, mayor es el intercambio de calor, matemáticamente: \n",
    "\n",
    "\\begin{equation*}\n",
    "Q \\propto \\Delta T,\\quad\\mathrm{J}\n",
    "\\end{equation*}\n",
    "\n"
   ]
  },
  {
   "cell_type": "markdown",
   "id": "05b934bc",
   "metadata": {
    "slideshow": {
     "slide_type": "fragment"
    }
   },
   "source": [
    "La **taza de transferencia de calor**:\n",
    "\\begin{equation*}\n",
    "\\dot{Q} = \\frac{dQ}{dt},\\quad\\mathrm{W}\n",
    "\\end{equation*}\n",
    "\n",
    "corresponde al calor tranferido por unidad de tiempo."
   ]
  },
  {
   "cell_type": "markdown",
   "id": "8aface27",
   "metadata": {
    "slideshow": {
     "slide_type": "fragment"
    }
   },
   "source": [
    "Por último, definimos como **flujo de calor**: \n",
    "\\begin{equation*}\n",
    "q'' = \\dot{Q}/A,\\quad\\frac{\\mathrm{W}}{\\mathrm{m}^2}\n",
    "\\end{equation*}\n",
    "\n",
    "a la taza de transferencia de calor por unidad de área."
   ]
  },
  {
   "cell_type": "markdown",
   "id": "2c634772",
   "metadata": {
    "cell_style": "split",
    "slideshow": {
     "slide_type": "slide"
    }
   },
   "source": [
    "Existen tres mecanismo de transferencia de calor:\n",
    "\n",
    "- Conducción de calor\n",
    "- Convección de calor\n",
    "- Radiación"
   ]
  },
  {
   "cell_type": "markdown",
   "id": "a3e69153",
   "metadata": {
    "cell_style": "split",
    "slideshow": {
     "slide_type": "-"
    }
   },
   "source": [
    "<img src=\"./images/heat_transfer_mechanism.png\" width=\"500px\" align= center>"
   ]
  },
  {
   "cell_type": "markdown",
   "id": "ccaa08be",
   "metadata": {
    "slideshow": {
     "slide_type": "slide"
    }
   },
   "source": [
    "### Transferencia de calor por conducción\n",
    "**Definimos como *conducción de calor* al calor transferido a través de un material en reposo**. El mecanismo generalmente se asocia a **sólidos**, donde el calor es transferido a travéz de la red atómica del material. Sin embargo, la definición también incluye **líquidos y gases en reposo.** En este caso, las moléculas se mueven aleatoriamente, de manera tal que la velocidad neta del fluido es cero."
   ]
  },
  {
   "cell_type": "markdown",
   "id": "183006ce",
   "metadata": {
    "slideshow": {
     "slide_type": "fragment"
    }
   },
   "source": [
    "Matemáticamente, para un material de espesor $t$ y diferencia de temperatura $\\Delta T$, la **taza de transferencia de calor por conducción** a través de una superficie $A$, es:\n",
    "\n",
    "<img src=\"./images/heat_conduction_formula.png\" width=\"700px\" align= center>"
   ]
  },
  {
   "cell_type": "markdown",
   "id": "4fdfda8b",
   "metadata": {
    "slideshow": {
     "slide_type": "slide"
    }
   },
   "source": [
    "La conductividad térmica, $k_c$, es una propiedad del material que varía según la temperatura.\n",
    "\n",
    "<img src=\"./images/thermal_conductivity.png\" width=\"900px\" align= center>"
   ]
  },
  {
   "cell_type": "markdown",
   "id": "be69080c",
   "metadata": {
    "slideshow": {
     "slide_type": "slide"
    }
   },
   "source": [
    "En su forma diferencial, $\\dot{Q}_\\mathrm{cond}= - k\\nabla T$, y para el caso unidimensional:\n",
    "\n",
    "\\begin{equation}\n",
    "\\dot{Q}_\\mathrm{cond} = - kA\\frac{dT}{dx},\\quad\\mathrm{W}\n",
    "\\end{equation}"
   ]
  },
  {
   "cell_type": "markdown",
   "id": "ac955652",
   "metadata": {
    "slideshow": {
     "slide_type": "fragment"
    }
   },
   "source": [
    "A partir de esta fórmula podemos deducir expresiones para taza de transferencia de calor por conducción según la geometría:"
   ]
  },
  {
   "cell_type": "markdown",
   "id": "ec4af943",
   "metadata": {},
   "source": [
    "<img src=\"./images/heat_conduction_resistance.png\" width=\"600px\" align= center>"
   ]
  },
  {
   "cell_type": "markdown",
   "id": "bb05f7de",
   "metadata": {
    "slideshow": {
     "slide_type": "slide"
    }
   },
   "source": [
    "Notar que en los tres casos podemos expresar la taza de conducción de calor en la forma:\n",
    "\n",
    "\\begin{equation*}\n",
    "\\dot{Q}_\\mathrm{cond} = \\frac{T_H - T_C}{R_\\mathrm{cond}},\\quad\\mathrm{W}\n",
    "\\end{equation*}\n",
    "\n",
    "donde, $R_\\mathrm{cond}$ (K/W) es la **resistencia térmica** asociada al mecanismo de conducción."
   ]
  },
  {
   "cell_type": "markdown",
   "id": "bbea9efd",
   "metadata": {
    "slideshow": {
     "slide_type": "slide"
    }
   },
   "source": [
    "### Transferencia de calor por convección\n",
    "**Definimos como *convección de calor* al calor transferido a través de fluidos en movimiento.** El movimiento de un fluido puede ocurrir naturalmente, debido a los efectos de flotación a raíz de los cambio de densidad con la temperatura; o de forma inducida, como por ejemplo mediante un ventilador."
   ]
  },
  {
   "cell_type": "markdown",
   "id": "2f11707d",
   "metadata": {
    "cell_style": "split",
    "slideshow": {
     "slide_type": "fragment"
    }
   },
   "source": [
    "A partir de esto, clasificamos la transferencia de calor por convección, respectivamente, como:\n",
    "- **convección natural**\n",
    "- **convección forzada**."
   ]
  },
  {
   "cell_type": "markdown",
   "id": "335e9cda",
   "metadata": {
    "cell_style": "split",
    "slideshow": {
     "slide_type": "fragment"
    }
   },
   "source": [
    "<img src=\"./images/heat_convection_mechanism.png\" width=\"300px\" align= center>"
   ]
  },
  {
   "cell_type": "markdown",
   "id": "a11782b3",
   "metadata": {
    "slideshow": {
     "slide_type": "slide"
    }
   },
   "source": [
    "La convección de calor esta asociada al contacto de fluidos con una superficie, $A$. Así, independiente del mecanismo de convección de calor (natural o forzada), expresamos la **taza de transferencia de calor por convección** como:\n",
    "\n",
    "<img src=\"./images/heat_convection_formula.png\" width=\"700px\" align= center>"
   ]
  },
  {
   "cell_type": "markdown",
   "id": "322fa067",
   "metadata": {},
   "source": [
    "Notar que la taza de transferencia de calor por convección puede ser expresada en la forma:\n",
    "\n",
    "\\begin{equation*}\n",
    "\\dot{Q}_\\mathrm{conv} = \\frac{T_\\infty - T}{R_\\mathrm{conv}},\\quad\\mathrm{W}\n",
    "\\end{equation*}\n",
    "\n",
    "donde $R_\\mathrm{conv}=1/hA$ es la resistencia térmica asociada a la convección de calor."
   ]
  },
  {
   "cell_type": "markdown",
   "id": "983b6ab0",
   "metadata": {
    "slideshow": {
     "slide_type": "slide"
    }
   },
   "source": [
    "A diferencia de la conducción de calor, el coeficiente convectivo, $h$, **no es una propiedad del fluido**. Esto porque no solo depende de las propiedades del fluido (densidad, viscocidad y conductividad térmica, entre otras), sino que además depende de condiciones externas, como la velocidad del flujo, la diferencia de temperaturas, y la geometría del cuerpo sometido a convección de calor."
   ]
  },
  {
   "cell_type": "markdown",
   "id": "608df105",
   "metadata": {
    "slideshow": {
     "slide_type": "fragment"
    }
   },
   "source": [
    "El coeficiente convectivo se determina a partir de relaciones expresadas en términos del número de Nusselt, $\\mathrm{Nu} = \\frac{hL_c}{k_f}$, donde $L_c$ es una longitud característica y $k_f$ es la conductividad térmica del fluido. En la mayoría de los casos, las relaciones para el número de Nusselt para cada caso se determinan experimentalmente."
   ]
  },
  {
   "cell_type": "markdown",
   "id": "f73fe75a",
   "metadata": {
    "slideshow": {
     "slide_type": "fragment"
    }
   },
   "source": [
    "Comúnmente, los valores para el número de Nusselt se encuentran dentro de los siguientes rangos:\n",
    "\n",
    "- Convección forzada, $\\mathrm{Nu} \\sim 5 - 1000 $\n",
    "- Convección natural, $\\mathrm{Nu} \\sim 0 - 100$"
   ]
  },
  {
   "cell_type": "markdown",
   "id": "199235d4",
   "metadata": {
    "slideshow": {
     "slide_type": "slide"
    }
   },
   "source": [
    "### Transferencia de calor por radiación\n",
    "**Definimos como *radiación de calor* al calor transferido por ondas electromagnéticas.**"
   ]
  },
  {
   "cell_type": "markdown",
   "id": "599163ff",
   "metadata": {
    "cell_style": "split",
    "slideshow": {
     "slide_type": "fragment"
    }
   },
   "source": [
    "Aquí también, el calor fluye desde la fuente de mayor temperatura all sumidero de menor temperatura. Sin embargo, a diferencia de la convección y conducción, la transferencia de calor por radiación no requiere de un medio y, por lo tanto, puede recorrer grandes distancias."
   ]
  },
  {
   "cell_type": "markdown",
   "id": "f3a86eba",
   "metadata": {
    "cell_style": "split"
   },
   "source": [
    "<img src=\"./images/heat_radiation_schematic.png\" width=\"300px\" align= center>"
   ]
  },
  {
   "cell_type": "markdown",
   "id": "9435c4d8",
   "metadata": {
    "slideshow": {
     "slide_type": "slide"
    }
   },
   "source": [
    "En general, la transferencia de calor depende de las propiedades ópticas de la fuente y receptor. Sin embargo, considerando un caso simplifado, podemos definir la relación en base a la emisividad promedio del emisor, y absortividad promedio del receptor:\n",
    "\n",
    "<img src=\"./images/heat_radiation_formula.png\" width=\"700px\" align= center>"
   ]
  },
  {
   "cell_type": "markdown",
   "id": "ec4e30bf",
   "metadata": {
    "slideshow": {
     "slide_type": "fragment"
    }
   },
   "source": [
    "Sin embargo, como veremos en este capítulo, esta regla no es general. La mejor forma de entender esta fórmula es estudiando su origen."
   ]
  },
  {
   "cell_type": "markdown",
   "id": "53ef8ae3",
   "metadata": {
    "slideshow": {
     "slide_type": "slide"
    }
   },
   "source": [
    "## Fundamentos de la radiación térmica\n",
    "\n",
    "Las vibraciones a nivel molecular también inducen polarización en la materia. Esto es similar al fenómeno de polarización inducida por ondas electromagnéticas estudiada en la unidad 3. Estos dipolos inducidos térmicamente, oscilan constantemente generando campos electromagnéticos que se propagan en dirección radial.\n",
    "\n",
    "<img src=\"./images/radiating_dipole.png\" width=\"700px\" align= center>"
   ]
  },
  {
   "cell_type": "markdown",
   "id": "767562ad",
   "metadata": {
    "slideshow": {
     "slide_type": "slide"
    }
   },
   "source": [
    "En la siguiente animación podemos ver el proceso de emisión de ondas electromagnéticas de un dipolo oscilatorio. El mapa de colores representa la intensidad del campo magnético, es decir $|\\vec{H}|$, donde rojo y azul corresponden, respectivamente, a los valores máximos y mínimos.\n",
    "\n",
    "<img src=\"./images/HW_vertical_noground.gif\" width=\"300px\" align= center>"
   ]
  },
  {
   "cell_type": "markdown",
   "id": "7088a84b",
   "metadata": {
    "cell_style": "center",
    "slideshow": {
     "slide_type": "slide"
    }
   },
   "source": [
    "### Poder de emisión\n",
    "Un cuerpo a temperatura $T$ emite ondas electromagnéticas en todas las direcciones y en un espectro de longitudes de onda. En general, la distribución angular ($\\Omega$) y espectral ($\\lambda$) de la radiación emitida depende de las propiedades ópticas de la superficie y la temperatura del material. "
   ]
  },
  {
   "cell_type": "markdown",
   "id": "b364c7cf",
   "metadata": {
    "slideshow": {
     "slide_type": "fragment"
    }
   },
   "source": [
    "Para caracterizar la intensidad de la radiación emitida por una superficie a tempertura $T$, usamos la **intensidad específica o radiancia espectral**, $I_\\lambda(\\Omega,T)$."
   ]
  },
  {
   "cell_type": "markdown",
   "id": "09477f6e",
   "metadata": {
    "cell_style": "center",
    "slideshow": {
     "slide_type": "slide"
    }
   },
   "source": [
    "La taza de calor total emitido por una superficie $dA$ de un cuerpo negro en función de $\\lambda$ y $\\Omega$, $d\\dot{Q}_\\mathrm{rad}$, está dada por:\n",
    "\n",
    "\\begin{equation}\n",
    "d\\dot{Q}_\\mathrm{rad} = I_{\\lambda}(\\Omega, T) \\cos\\theta dA d\\Omega d\\lambda\n",
    "\\end{equation}"
   ]
  },
  {
   "cell_type": "markdown",
   "id": "f849cc9e",
   "metadata": {
    "cell_style": "split",
    "slideshow": {
     "slide_type": "fragment"
    }
   },
   "source": [
    "El término $\\cos\\theta dA$ corresponde a la proyección de $dA$ en la dirección $\\Omega$"
   ]
  },
  {
   "cell_type": "markdown",
   "id": "d3b63571",
   "metadata": {
    "cell_style": "split"
   },
   "source": [
    "<img src=\"./images/specific_intensity.png\" width=\"300px\" align= center>"
   ]
  },
  {
   "cell_type": "markdown",
   "id": "891a8504",
   "metadata": {
    "cell_style": "center",
    "slideshow": {
     "slide_type": "slide"
    }
   },
   "source": [
    "Definimos como **poder de emisión direccional espectral** a la relación:\n",
    "\n",
    "\\begin{equation}\n",
    "E_{\\lambda,\\Omega}(T) = \\frac{d\\dot{Q}_\\mathrm{rad}}{dAd\\Omega d\\lambda}=I_{\\lambda}(\\Omega, T)\\cos\\theta ,\\quad\\quad\\frac{\\mathrm{W}}{\\mathrm{m}^2\\cdot\\mu\\mathrm{m}\\cdot\\mathrm{sr}}\n",
    "\\end{equation}"
   ]
  },
  {
   "cell_type": "markdown",
   "id": "ec272999",
   "metadata": {
    "slideshow": {
     "slide_type": "fragment"
    }
   },
   "source": [
    "A diferencia de la intensidad específica, el poder de emisión considera la radiación effectiva emitida por una superficie."
   ]
  },
  {
   "cell_type": "markdown",
   "id": "3c1cf7c2",
   "metadata": {},
   "source": [
    "<img src=\"./images/emissive_power.png\" width=\"500px\" align= center>"
   ]
  },
  {
   "cell_type": "markdown",
   "id": "ad56f5b7",
   "metadata": {
    "slideshow": {
     "slide_type": "slide"
    }
   },
   "source": [
    "A partir de este término podemos derivar:"
   ]
  },
  {
   "cell_type": "markdown",
   "id": "c62c0cc6",
   "metadata": {
    "slideshow": {
     "slide_type": "fragment"
    }
   },
   "source": [
    "- **Poder de emisión hemisférica espectral**, \n",
    "\n",
    "\\begin{align*}\n",
    "E_{\\lambda}(T) = \\frac{d\\dot{Q}}{dA d\\lambda} &= \\int_0^{2\\pi}\\int_0^{\\pi/2}I_{\\lambda}(\\Omega, T)\\cos\\theta~\\sin\\theta ~d\\theta~ d\\phi\n",
    "  \\\\ \n",
    "  &=\\int_\\mathrm{hemi} I_{\\lambda}(\\Omega, T)\\cos\\theta~d\\Omega\n",
    "  ,\\quad\\quad\\frac{\\mathrm{W}}{\\mathrm{m}^2\\cdot\\mu\\mathrm{m}}\n",
    "\\end{align*}"
   ]
  },
  {
   "cell_type": "markdown",
   "id": "a9a23a55",
   "metadata": {
    "slideshow": {
     "slide_type": "fragment"
    }
   },
   "source": [
    "- **Poder de emisión direccional total**,\n",
    "\n",
    "\\begin{equation*}\n",
    "E_\\Omega(T) = \\frac{d\\dot{Q}}{dAd\\Omega}=\\cos\\theta \\int_0^\\infty~ I_{\\lambda}(\\Omega, T)~d\\lambda  ,\\quad\\quad\\frac{\\mathrm{W}}{\\mathrm{m}^2 \\cdot\\mathrm{sr}}\n",
    "\\end{equation*}"
   ]
  },
  {
   "cell_type": "markdown",
   "id": "4c94bf8c",
   "metadata": {
    "slideshow": {
     "slide_type": "fragment"
    }
   },
   "source": [
    "- **Poder de emisión hemisfética total**, \n",
    "\n",
    "\\begin{equation*}\n",
    "E(T) = \\frac{d\\dot{Q}}{dA}=\\int_0^\\infty\\int_\\mathrm{hemi}I_{\\lambda}(\\Omega, T)\\cos\\theta~d\\Omega d\\lambda ,\\quad\\quad\\frac{\\mathrm{W}}{\\mathrm{m}^2}\n",
    "\\end{equation*}"
   ]
  },
  {
   "cell_type": "markdown",
   "id": "b670c6be",
   "metadata": {
    "slideshow": {
     "slide_type": "slide"
    }
   },
   "source": [
    "### Distribución de Planck\n",
    "\n",
    "Max Planck en 1901 determinó que la **máxima radiancia espectral o intensidad específica** (flujo de energía por unidad de longitud de onda y ángulo sólido) emitida por un cuerpo a temperatura $T$, en un medio con índice de refracción $n_1$, está dada por:\n",
    "\n",
    "\\begin{equation}\n",
    "I_{\\mathrm{bb},\\lambda}(\\Omega, T) = \\frac{C_1}{n_1\\lambda^5\\left[\\exp\\left(C_2/\\lambda T\\right) - 1\\right]},\\quad\\quad\\frac{\\mathrm{W}}{\\mathrm{m}^2\\cdot\\mu\\mathrm{m}\\cdot\\mathrm{sr}}\n",
    "\\end{equation}\n",
    "\n",
    "donde \n",
    "\\begin{align*}\n",
    "C_1 &= 2hc_0^2 = 1.19104238\\times 10^8 ~\\mathrm{W}\\cdot\\mu\\mathrm{m}^4/\\mathrm{m}^2 \\\\\n",
    "C_2 &= hc_0/k_\\mathrm{B} = 1.438776877\\times10^{4}~\\mu\\mathrm{m}\\cdot\\mathrm{K}\n",
    "\\end{align*}\n",
    "\n",
    "$k_\\mathrm{B} = 1.381\\times 10^{-23}$ J/K $=8.617\\times 10^{-5}$ eV/K, es la constante de Boltzmann. La unidad \"sr\" correponde a un esteroradian."
   ]
  },
  {
   "cell_type": "markdown",
   "id": "4e04c610",
   "metadata": {
    "slideshow": {
     "slide_type": "fragment"
    }
   },
   "source": [
    "Esta es la **distribución de Planck**, que *representa la máxima radiancia espectral emitida en dirección $\\Omega$ por una fuente a una temperatura $T$*. Esta fuente, denominada **cuerpo negro** representa, así, un **emisor perfecto**."
   ]
  },
  {
   "cell_type": "markdown",
   "id": "a5f797bc",
   "metadata": {
    "slideshow": {
     "slide_type": "fragment"
    }
   },
   "source": [
    "Notar también que la radiancia del cuerpo negro es uniforme en todas las direcciones y, por lo tanto, no depende de $\\Omega$."
   ]
  },
  {
   "cell_type": "markdown",
   "id": "5288e116",
   "metadata": {
    "slideshow": {
     "slide_type": "slide"
    }
   },
   "source": [
    "En el curso utilizaremos la función `Bplanck(lam, T)` parte del módulo `ref_spectra` de `èmpylib`. "
   ]
  },
  {
   "cell_type": "markdown",
   "id": "c637fb48",
   "metadata": {
    "slideshow": {
     "slide_type": "fragment"
    }
   },
   "source": [
    "En el siguiente ejemplo, graficamos la distribución de cuerpo negro a $T = 100~^\\circ\\mathrm{C}= 373~\\mathrm{K}$, en el espectro $\\lambda\\in[2,100]$ $\\mu$m."
   ]
  },
  {
   "cell_type": "code",
   "execution_count": 2,
   "id": "55a5c266",
   "metadata": {
    "cell_style": "split",
    "tags": [
     "hide-input"
    ]
   },
   "outputs": [],
   "source": [
    "%%capture showplot0\n",
    "import numpy as np\n",
    "import empylib.ref_spectra as rf\n",
    "import matplotlib.pyplot as plt\n",
    "\n",
    "lam = np.linspace(0.1,100,1000)  # espectro de longitudes de onda (um)\n",
    "T = 100 + 273                  # Temperatura del cuerpo negro (K)\n",
    "Ibb = rf.Bplanck(lam,T)        # Radiancia espectral de cuerpo negro\n",
    "\n",
    "plt.plot(lam,Ibb)\n",
    "plt.xlabel('Longitud de onda, $\\lambda$ ($\\mu$m)')\n",
    "plt.ylabel('$I_{\\mathrm{bb},\\lambda} (T)$, (W/m$^2$-$\\mu$m-sr)')\n",
    "plt.title('Radiancia espectral de cuerpo negro a %i K' % T)\n",
    "plt.show()"
   ]
  },
  {
   "cell_type": "code",
   "execution_count": 3,
   "id": "62babdaa",
   "metadata": {
    "cell_style": "split",
    "tags": [
     "remove-input"
    ]
   },
   "outputs": [
    {
     "data": {
      "image/png": "[encoded data removed]",
      "text/plain": [
       "<Figure size 640x480 with 1 Axes>"
      ]
     },
     "metadata": {},
     "output_type": "display_data"
    }
   ],
   "source": [
    "showplot0()"
   ]
  },
  {
   "cell_type": "markdown",
   "id": "513d759b",
   "metadata": {
    "slideshow": {
     "slide_type": "slide"
    }
   },
   "source": [
    "El poder de emisión hemisférico espectral de la superficie de un cuerpo negro, $E_{\\mathrm{bb},\\lambda}(T)$, se obtiene integrando la radiancia espectral por ángulo sólido en el límite de una hemiesfera:\n",
    "\n",
    "\\begin{align*}\n",
    "E_{\\mathrm{bb},\\lambda}(T) = \\int_\\mathrm{hemi} I_{\\mathrm{bb},\\lambda}(T)\\cos\\theta d\\Omega &= I_{\\mathrm{bb},\\lambda}(T)\\int_\\mathrm{hemi} \\cos\\theta d\\Omega\n",
    "  \\\\ \n",
    "  &= I_{\\mathrm{bb},\\lambda}(T)\\int_0^{2\\pi} \\int_0^{\\pi/2}\\cos\\theta \\sin \\theta~d\\theta~d\\phi \n",
    "  \\\\ \n",
    "  &=\\pi I_{\\mathrm{bb},\\lambda}(T)\n",
    "  ,\\quad\\quad\\frac{\\mathrm{W}}{\\mathrm{m}^2\\cdot\\mu\\mathrm{m}}\n",
    "\\end{align*}"
   ]
  },
  {
   "cell_type": "markdown",
   "id": "1fc00c20",
   "metadata": {
    "slideshow": {
     "slide_type": "fragment"
    }
   },
   "source": [
    "Note que $I_{\\mathrm{bb},\\lambda}$ no depende de $\\Omega$ y, por lo tanto, sale de la integral respecto a $d\\Omega$."
   ]
  },
  {
   "cell_type": "markdown",
   "id": "3cbf0ea5",
   "metadata": {
    "slideshow": {
     "slide_type": "slide"
    }
   },
   "source": [
    "A partir de la integral de $E_{\\mathrm{bb},\\lambda}(T)$ en el espectro de longitudes de onda, obtenemos el poder de emisión hemisferico total de un cuerpo negro:\n",
    "\n",
    "\\begin{equation}\n",
    "E_\\mathrm{bb}(T) = \\int_0^\\infty E_{\\mathrm{bb},\\lambda}(T) d\\lambda = \\pi\\int_0^\\infty I_{\\mathrm{bb},\\lambda}(T) d\\lambda = \\sigma T^4,\\quad\\quad\\frac{\\mathrm{W}}{\\mathrm{m}^2}\n",
    "\\end{equation}\n",
    "\n",
    "donde $\\sigma = 5.670\\times10^{-8}$ W/m$^2\\cdot$K$^4$, es la *constante de Stefan-Boltzmann.* Esta fórmula se conoce como la **ley de Stefan-Boltzmann**"
   ]
  },
  {
   "cell_type": "markdown",
   "id": "18b26d00",
   "metadata": {
    "slideshow": {
     "slide_type": "slide"
    }
   },
   "source": [
    "En la siguiente figura, se ilustra $E_{\\mathrm{bb},\\lambda}(\\lambda,T)$ función de la temperatura y longitud de onda.\n"
   ]
  },
  {
   "cell_type": "markdown",
   "id": "0c94c575",
   "metadata": {},
   "source": [
    "<img src=\"./images/blackbody_rad.png\" width=\"700px\" align= center>"
   ]
  },
  {
   "cell_type": "markdown",
   "id": "8eb1ce9b",
   "metadata": {
    "slideshow": {
     "slide_type": "slide"
    }
   },
   "source": [
    "A medida que $T$ aumenta, notamos que el máximo de la curva se desplaza hacia el azul. La longitud de onda correspondiente a este máximo, $\\lambda_\\mathrm{peak}$, está definida por la **ley de desplazamiento de Wien:**\n",
    "\n",
    "\\begin{equation}\n",
    "\\lambda_\\mathrm{peak}T = 2897.8\\quad\\mu\\mathrm{m}\\cdot\\mathrm{K}\n",
    "\\end{equation}\n"
   ]
  },
  {
   "cell_type": "markdown",
   "id": "26d022df",
   "metadata": {
    "slideshow": {
     "slide_type": "fragment"
    }
   },
   "source": [
    "Esta relación permite entender el cambio de color de la fuente emisora con la tempertura."
   ]
  },
  {
   "cell_type": "markdown",
   "id": "441619f6",
   "metadata": {
    "slideshow": {
     "slide_type": "fragment"
    }
   },
   "source": [
    "Recordemos, sin embargo,  que **el color de un material no solo se define por la emisión de radiación, sino también por la forma en la que interactúa con la luz incidente**. Como revisamos en las unidades anteriores, esta interacción está condionada por las propiedades radiativas."
   ]
  },
  {
   "cell_type": "markdown",
   "id": "da43fbee",
   "metadata": {
    "slideshow": {
     "slide_type": "slide"
    }
   },
   "source": [
    "### Propiedades Radiativas\n",
    "\n",
    "Definimos como **emisividad direccional espectral, $\\epsilon_{\\lambda,\\Omega}$,** a la *razón entre la radiación emitida por una superficie, $I_\\lambda(\\Omega, T)$, y la radiación emitida por un cuerpo negro, ambas a temperatura $T$*:\n",
    "\n",
    "\\begin{equation}\n",
    "\\epsilon_{\\lambda,\\Omega} = \\frac{I_\\lambda(\\Omega, T)}{I_{\\mathrm{bb},\\lambda}(T)}\n",
    "\\end{equation}\n",
    "\n",
    "De esta forma, $\\epsilon$ es una propiedad adimensional de superfice que varía entre $0 \\le \\epsilon \\le 1$."
   ]
  },
  {
   "cell_type": "markdown",
   "id": "819d0302",
   "metadata": {
    "slideshow": {
     "slide_type": "fragment"
    }
   },
   "source": [
    "Definimos como **absortividad direccional espectral, $A_{\\lambda,\\Omega}$,** a la *porción de radiación incidente que es absorbida por una superficie*. Igualmente, $0 \\le A_{\\lambda,\\Omega} \\le 1$."
   ]
  },
  {
   "cell_type": "markdown",
   "id": "64a21ba8",
   "metadata": {
    "slideshow": {
     "slide_type": "slide"
    }
   },
   "source": [
    "A través de la **ley de Kirchhoff**, podemos establecer una relación entre la absortancia y emisividad espectral direccional:\n",
    "\n",
    "\\begin{equation}\n",
    "\\epsilon_{\\lambda,\\Omega} = A_{\\lambda,\\Omega}\n",
    "\\end{equation}"
   ]
  },
  {
   "cell_type": "markdown",
   "id": "5dd135bb",
   "metadata": {
    "slideshow": {
     "slide_type": "fragment"
    }
   },
   "source": [
    "En otras palabras, las propiedades de un material como receptor o emisor de radiación, son iguales. Sin embargo, notar que **esta igualdad solo existe para la misma longitud de onda y ángulo sólido.**"
   ]
  },
  {
   "cell_type": "markdown",
   "id": "7af23770",
   "metadata": {
    "slideshow": {
     "slide_type": "fragment"
    }
   },
   "source": [
    "Este concepto, denominado *reciprocidad*, es consecuencia de las ecuaciones de Maxwell y es la base fundamental para el diseño de antenas y radares."
   ]
  },
  {
   "cell_type": "markdown",
   "id": "1f3f624f",
   "metadata": {
    "slideshow": {
     "slide_type": "slide"
    }
   },
   "source": [
    "Por conservación de energía:\n",
    "\\begin{equation}\n",
    "A_{\\lambda,\\Omega} + R_{\\lambda,\\Omega} + T_{\\lambda,\\Omega} = 1\n",
    "\\end{equation}\n"
   ]
  },
  {
   "cell_type": "markdown",
   "id": "c03d9fac",
   "metadata": {
    "slideshow": {
     "slide_type": "fragment"
    }
   },
   "source": [
    "donde $R_{\\lambda,\\Omega}$ y $T_{\\lambda,\\Omega}$ son, respectivamente, la reflectividad y transmisividad espectral direccional del material"
   ]
  },
  {
   "cell_type": "markdown",
   "id": "d93dacf1",
   "metadata": {
    "slideshow": {
     "slide_type": "fragment"
    }
   },
   "source": [
    "Debido a la naturaleza de la radiación térmica, la polarización de las ondas electromagnéticas es aleatoria. Así, $R_{\\lambda,\\Omega}$ y $T_{\\lambda,\\Omega}$ se calculan como:\n",
    "\n",
    "\\begin{equation}\n",
    "R_{\\lambda,\\Omega} = \\frac{R_{\\lambda,\\Omega}^\\mathrm{TM}+R_{\\lambda,\\Omega}^\\mathrm{TE}}{2}\\quad\\quad\n",
    "T_{\\lambda,\\Omega} = \\frac{T_{\\lambda,\\Omega}^\\mathrm{TM}+T_{\\lambda,\\Omega}^\\mathrm{TE}}{2}\n",
    "\\end{equation}"
   ]
  },
  {
   "cell_type": "markdown",
   "id": "1b34032f",
   "metadata": {
    "slideshow": {
     "slide_type": "fragment"
    }
   },
   "source": [
    "A partir de estas relaciones podemos determinar $\\epsilon_{\\lambda,\\Omega}$."
   ]
  },
  {
   "cell_type": "markdown",
   "id": "048661b3",
   "metadata": {
    "slideshow": {
     "slide_type": "slide"
    }
   },
   "source": [
    "Cabe mencionar que en textos de radiometría y transferencia de calor, la reflectividad y transmisividad se denominan, respectivamente, **reflectancia ($\\rho$)**, **transmitancia ($\\tau$).** Igualmente la absortividad se denomina **absortancia ($\\alpha$).** Ambos términos son equivalentes."
   ]
  },
  {
   "cell_type": "markdown",
   "id": "51fbf681",
   "metadata": {
    "slideshow": {
     "slide_type": "fragment"
    }
   },
   "source": [
    "En este curso, seguiremos utilizando los términos y notación de óptica, es decir $R_{\\lambda,\\Omega}$, $T_{\\lambda,\\Omega}$ y $A_{\\lambda,\\Omega}$, para evitar confusiones. "
   ]
  },
  {
   "cell_type": "markdown",
   "id": "4d61c797",
   "metadata": {
    "slideshow": {
     "slide_type": "slide"
    }
   },
   "source": [
    "Como ejemplo, analicemos el poder de emisión espectral direccional, $E_{\\lambda,\\Omega}(T)$ y la emisividad $\\epsilon_{\\lambda,\\Omega}$ de una capa de vidrio en función de la temperatura ($T$), espesor ($d$) y dirección ($\\theta$). En este caso: \n",
    "\n",
    "\\begin{align*}\n",
    "E_{\\lambda,\\Omega}(T) &= \\epsilon_{\\lambda,\\Omega}I_{\\mathrm{bb},\\lambda}(T)\\cos\\theta \\\\[10pt]\n",
    " &= \\left[1 - R_{\\lambda,\\Omega} - T_{\\lambda,\\Omega}\\right]I_{\\mathrm{bb},\\lambda}(T)\\cos\\theta\n",
    "\\end{align*}"
   ]
  },
  {
   "cell_type": "markdown",
   "id": "e04ec37d",
   "metadata": {
    "slideshow": {
     "slide_type": "slide"
    }
   },
   "source": [
    "Antes, analicemos el índice de refracción del vidrio (sílicice, SiO$_2$), en el espectro $\\lambda\\in[0.3,15]$ $\\mu$m."
   ]
  },
  {
   "cell_type": "code",
   "execution_count": 4,
   "id": "e34559d2",
   "metadata": {
    "cell_style": "split",
    "slideshow": {
     "slide_type": "fragment"
    },
    "tags": [
     "hide-input"
    ]
   },
   "outputs": [],
   "source": [
    "%%capture showplot\n",
    "import numpy as np\n",
    "import empylib.nklib as nk\n",
    "import matplotlib.pyplot as plt\n",
    "\n",
    "lam = np.linspace(0.3,15,100) #longitud de onda en um\n",
    "plt.plot(lam,nk.SiO2(lam).real,'-r',label='$n$')\n",
    "plt.plot(lam,nk.SiO2(lam).imag,'-b',label='$\\kappa$')\n",
    "plt.xlabel('Longitud de onda, $\\lambda$ ($\\mu$m)',fontsize=16)\n",
    "plt.ylabel('$n$, $\\kappa$',fontsize=16)\n",
    "plt.title('Índice de refracción SiO$_2$',fontsize=18)\n",
    "plt.legend(frameon=False,fontsize=16)\n",
    "plt.tick_params(labelsize=16)"
   ]
  },
  {
   "cell_type": "code",
   "execution_count": 5,
   "id": "20435072",
   "metadata": {
    "cell_style": "split"
   },
   "outputs": [
    {
     "data": {
      "image/png": "[encoded data removed]",
      "text/plain": [
       "<Figure size 640x480 with 1 Axes>"
      ]
     },
     "metadata": {},
     "output_type": "display_data"
    }
   ],
   "source": [
    "showplot()"
   ]
  },
  {
   "cell_type": "markdown",
   "id": "89749a31",
   "metadata": {
    "slideshow": {
     "slide_type": "fragment"
    }
   },
   "source": [
    "Comparamos $E_{\\lambda,\\Omega}(T)$ con el poder de emisión espectral direccional del cuerpo negro, $E_{\\mathrm{bb},\\lambda,\\Omega} = I_{\\mathrm{bb},\\lambda}\\cos\\theta$"
   ]
  },
  {
   "cell_type": "code",
   "execution_count": 6,
   "id": "f24c88be",
   "metadata": {
    "slideshow": {
     "slide_type": "slide"
    },
    "tags": [
     "hide-input"
    ]
   },
   "outputs": [],
   "source": [
    "import empylib.waveoptics as wv\n",
    "import empylib.nklib as nk\n",
    "import numpy as np\n",
    "from numpy import log10, radians, cos\n",
    "import matplotlib.pyplot as plt\n",
    "from empylib.ref_spectra import Bplanck\n",
    "\n",
    "def plot_emisivity_glass(Temp,d,lam0,theta0):\n",
    "    # PARAMETROS DE ENTRADA\n",
    "    lam = np.linspace(0.3,15,100)\n",
    "    Nfront = 1.0                 # índice de refracción medio superior\n",
    "    N1     = nk.SiO2(lam)        # índice de refracción capa intermedia\n",
    "    Nback  = 1.0                 # índice de refracción medio inferior\n",
    "    N = (Nfront, N1, Nback)      # indices de refracción (above, mid, below)\n",
    "    #-------------------------------------------------------------------------\n",
    "\n",
    "    # CÁLCULO DE VARIABLES\n",
    "    # 1. Gráfico 1: Reflectancia y transmitancia espectral en theta0\n",
    "    Rs, Ts = wv.incoh_multilayer(lam,radians(theta0), N, d*1E3, pol='TM')\n",
    "    Rp, Tp = wv.incoh_multilayer(lam,radians(theta0), N, d*1E3, pol='TE')\n",
    "    \n",
    "    R_lam = (Rs + Rp)/2\n",
    "    T_lam = (Ts + Tp)/2\n",
    "    A_lam = 1 - T_lam - R_lam  # absortancia espectral\n",
    "    \n",
    "   # 2. Gráfico 2: Reflectancia y transmitancia direccional en lam0\n",
    "    theta = np.linspace(0,90,100)\n",
    "    N = (Nfront, nk.SiO2(lam0), Nback) # indices de refracción (above, mid, below)\n",
    "    \n",
    "    A_theta = [] # generamos la absortancia direccional en este loop\n",
    "    for theta_i in theta:\n",
    "        Rs, Ts = wv.incoh_multilayer(lam0,radians(theta_i), N, d*1E3, pol='TM')\n",
    "        Rp, Tp = wv.incoh_multilayer(lam0,radians(theta_i), N, d*1E3, pol='TE')\n",
    "        R = (Rs + Rp)/2\n",
    "        T = (Ts + Tp)/2\n",
    "        A_theta.append(1 - T - R)\n",
    "    A_theta = np.array(A_theta).flatten() # convertimos la lista a ndarray\n",
    "    \n",
    "    # 3. Gráfico 3: Poder de emisión direccional espectral\n",
    "    E_lam = A_lam*Bplanck(lam,Temp)*cos(radians(theta0)) # poder de emisión material\n",
    "    E_bb  =       Bplanck(lam,Temp)*cos(radians(theta0)) # poder de emisión de cuerpo negro\n",
    "    #-------------------------------------------------------------------------\n",
    "    \n",
    "    # GRAFICAMOS RESULTADOS.\n",
    "    fig, ax = plt.subplots(1,3)             # 3 ejes\n",
    "    fig.set_size_inches(16, 5)              # Tamaño de figura\n",
    "    \n",
    "    # 1. Propiedades radiativas direccional espectral para theta0\n",
    "    ax[0].plot(lam,R_lam,'--r',label=r'$R_{\\lambda,\\Omega}$',linewidth=0.5)\n",
    "    ax[0].plot(lam,T_lam,'--b',label=r'$T_{\\lambda,\\Omega}$',linewidth=0.5)\n",
    "    ax[0].plot(lam,A_lam,'-k',label=r'$A_{\\lambda,\\Omega}$',linewidth=2.0)  \n",
    "    ax[0].plot(lam0,np.interp(lam0,lam,A_lam),'or',ms=8.0)   \n",
    "    ax[0].set_xlabel('$\\lambda$ ($\\mu$m)',fontsize=18)\n",
    "    ax[0].set_ylabel(r'$R_{\\lambda,\\Omega}$, $T_{\\lambda,\\Omega}$ y $A_{\\lambda,\\Omega}$',fontsize=18)\n",
    "    ax[0].set_ylim(0,1.05)\n",
    "    ax[0].set_title(r'$\\theta = $ %i°' % theta0,fontsize=18)\n",
    "    ax[0].legend(fontsize=16, loc='lower right')\n",
    "    ax[0].tick_params(labelsize=16)\n",
    "    \n",
    "    # 2. Emisividad direccional espectral para lam0\n",
    "    ax[1].plot(theta,A_theta,'-k')  \n",
    "    ax[1].plot(theta0,np.interp(theta0,theta,A_theta),'or',ms=8.0)   \n",
    "    ax[1].set_xlabel(r'$\\theta$ (deg)',fontsize=18)\n",
    "    ax[1].set_ylabel(r'$\\epsilon_{\\lambda,\\Omega}(\\theta)$',fontsize=18)\n",
    "    ax[1].set_title(r'$\\lambda = $ %.2f $\\mu$m' % lam0,fontsize=18)\n",
    "    ax[1].set_ylim(0,1.05)\n",
    "    ax[1].tick_params(labelsize=16)\n",
    "    \n",
    "    # 3. Poder de emisión direccional espectral para theta0\n",
    "    ax[2].plot(lam,E_lam,'-k',label =r'$E_{\\lambda,\\Omega}$')\n",
    "    ax[2].plot(lam,E_bb,'-r',label =r'$E_\\mathrm{bb}$') \n",
    "    ax[2].plot(lam0,np.interp(lam0,lam,E_lam),'or',ms=8.0)   \n",
    "    ax[2].set_xlabel('Longitud de onda ($\\mu$m)',fontsize=18)\n",
    "    ax[2].set_ylabel(r'$E_{\\lambda,\\Omega}$(T) (W/m$^2$-$\\mu$m-sr)',fontsize=18)\n",
    "    ax[2].set_title(r'd = %.2f mm, $\\theta$=%i°' % (d,theta0) ,fontsize=18)\n",
    "    ax[2].set_ylim(0,max(Bplanck(lam,Temp))*1.05)\n",
    "    ax[2].legend(fontsize=16)\n",
    "    ax[2].tick_params(labelsize=16)\n",
    "    \n",
    "    plt.subplots_adjust(wspace=0.30)\n",
    "    plt.show()"
   ]
  },
  {
   "cell_type": "code",
   "execution_count": 7,
   "id": "8e3af1c4",
   "metadata": {
    "slideshow": {
     "slide_type": "slide"
    },
    "tags": [
     "hide-input"
    ]
   },
   "outputs": [
    {
     "data": {
      "application/vnd.jupyter.widget-view+json": {
       "model_id": "4997c7242c8c41518f36abc41a49529d",
       "version_major": 2,
       "version_minor": 0
      },
      "text/plain": [
       "interactive(children=(IntSlider(value=300, description='T', max=1000, min=300, step=10), IntSlider(value=1, de…"
      ]
     },
     "metadata": {},
     "output_type": "display_data"
    }
   ],
   "source": [
    " from ipywidgets import interact\n",
    "\n",
    "@interact(T=(300,1000,10), d=(0,10,1), lam0=(5,10,0.5), theta0=(0,90,5))\n",
    "def g(T=300,d=1, lam0=10, theta0=0):\n",
    "    return plot_emisivity_glass(T,d,lam0,theta0)"
   ]
  },
  {
   "cell_type": "markdown",
   "id": "1071c1d3",
   "metadata": {
    "slideshow": {
     "slide_type": "slide"
    }
   },
   "source": [
    "Al igual que con el poder de emisión, la emisividad puede también ser definida de forma hemisférica (integración por ángulo sólido) o total (integración por longitudes de onda)"
   ]
  },
  {
   "cell_type": "markdown",
   "id": "67f1a8ba",
   "metadata": {
    "slideshow": {
     "slide_type": "fragment"
    }
   },
   "source": [
    "**Emisividad direccional total**\n",
    "\\begin{equation}\n",
    "\\epsilon_\\Omega(T) = \\frac{E_\\Omega(T)}{E_{\\Omega,bb}(T)} =\\frac{\\int_0^\\infty \\epsilon_{\\lambda,\\Omega} I_{\\mathrm{bb},\\lambda} (T)\\cos\\theta~d\\lambda}{\\int_0^\\infty I_{\\mathrm{bb},\\lambda} (T)\\cos\\theta~d\\lambda} = \\frac{\\pi}{\\sigma T^4}\\int_0^\\infty \\epsilon_{\\lambda,\\Omega} I_{\\mathrm{bb},\\lambda} (T)~d\\lambda\n",
    "\\end{equation}"
   ]
  },
  {
   "cell_type": "markdown",
   "id": "6e8b85fd",
   "metadata": {
    "slideshow": {
     "slide_type": "fragment"
    }
   },
   "source": [
    "**Emisividad hemisférica espectral**\n",
    "\\begin{equation}\n",
    "\\epsilon_\\lambda(T) = \\frac{E_\\lambda(T)}{E_{\\lambda,bb}(T)} = \\frac{\\int_\\mathrm{hemi}\\epsilon_{\\lambda,\\Omega}I_{\\mathrm{bb},\\lambda}(T)\\cos\\theta~d\\Omega}{\\pi I_{\\mathrm{bb},\\lambda}(T)}  = \\frac{1}{\\pi}\\int_\\mathrm{hemi}\\epsilon_{\\lambda,\\Omega}\\cos\\theta~d\\Omega\n",
    "\\end{equation}"
   ]
  },
  {
   "cell_type": "markdown",
   "id": "7af36cfb",
   "metadata": {
    "slideshow": {
     "slide_type": "fragment"
    }
   },
   "source": [
    "**Emisividad hemisférica total**\n",
    "\\begin{equation}\n",
    "\\epsilon(T) = \\frac{E(T)}{\\sigma T^4} =\\frac{1}{\\sigma T^4}\\int\\int_0^\\infty \\epsilon_{\\lambda,\\Omega} I_{\\mathrm{bb},\\lambda} (T)\\cos\\theta~d\\lambda~d\\Omega\n",
    "\\end{equation}"
   ]
  },
  {
   "cell_type": "markdown",
   "id": "041e5c23",
   "metadata": {
    "slideshow": {
     "slide_type": "slide"
    }
   },
   "source": [
    "Notar que, debido al factor $\\sigma T^4$, la emisividad hemisférica total y direccional total dependen de $T$, aún cuando $\\epsilon_{\\lambda,\\Omega}$ puede no depender de $T$."
   ]
  },
  {
   "cell_type": "markdown",
   "id": "42cb2a6f",
   "metadata": {
    "slideshow": {
     "slide_type": "slide"
    }
   },
   "source": [
    "### Materiales idealizados"
   ]
  },
  {
   "cell_type": "markdown",
   "id": "250a53e9",
   "metadata": {
    "slideshow": {
     "slide_type": "fragment"
    }
   },
   "source": [
    "- Decimos que una superficie es **difusa** cuando sus propiedades radiativas no dependen de $\\Omega$. Es práctica común suponer que las superficies son emisores difusos, con una emisividad igual al valor de la dirección normal ($\\theta = 0$)."
   ]
  },
  {
   "cell_type": "markdown",
   "id": "61822fca",
   "metadata": {
    "slideshow": {
     "slide_type": "fragment"
    }
   },
   "source": [
    "- Decimos que una superficie es **gris** cuando la emisividad es independiente de $\\lambda$."
   ]
  },
  {
   "cell_type": "markdown",
   "id": "55b28916",
   "metadata": {
    "slideshow": {
     "slide_type": "fragment"
    }
   },
   "source": [
    "- Decimos que una superficie es **opaca** cuando $T_{\\lambda,\\Omega} = 0$. En este caso, \n",
    "tenemos $A_{\\lambda,\\Omega} + R_{\\lambda,\\Omega} = 1$"
   ]
  },
  {
   "cell_type": "markdown",
   "id": "0107051b",
   "metadata": {
    "slideshow": {
     "slide_type": "fragment"
    }
   },
   "source": [
    "- En el caso de **gases**, $R_{\\lambda,\\Omega} \\approx 0$, así $A_{\\lambda,\\Omega} + T_{\\lambda,\\Omega} = 1$"
   ]
  },
  {
   "cell_type": "markdown",
   "id": "e11ffe84",
   "metadata": {
    "slideshow": {
     "slide_type": "slide"
    }
   },
   "source": [
    "Por ejemplo, calculemos la emisividad de la pintura blanca a $T = 25\\mathrm{°C}$."
   ]
  },
  {
   "cell_type": "markdown",
   "id": "027cb5ed",
   "metadata": {
    "cell_style": "center",
    "slideshow": {
     "slide_type": "fragment"
    }
   },
   "source": [
    "Como supuestos, consideraremos que la pintura blanca tiene las siguientes características: \n",
    "- capa de 0.5 mm de espesor\n",
    "- compuesta de una solución de partículas de TiO$_2$ de 1 $\\mu\\mathrm{m}$ de diámetro, con concentración de 7% v/v. \n",
    "- solvente con índice de refracción $N_\\mathrm{solvente} = 1.3$.\n",
    "- También asumiremos que la capa de pintura se encuentra entre aire ($n_1 = 1.0$) y un material con índice de refracción $n_3 = 1.5$"
   ]
  },
  {
   "cell_type": "markdown",
   "id": "5bd7ac90",
   "metadata": {
    "cell_style": "center",
    "slideshow": {
     "slide_type": "fragment"
    }
   },
   "source": [
    "En este caso, debido a la rugosidad de la pintura, es normal **asumir que la superficie se comporta como superficie difusa** y, por lo tanto, calcularemos la emisividad espectral en dirección normal."
   ]
  },
  {
   "cell_type": "markdown",
   "id": "ac46261f",
   "metadata": {
    "cell_style": "center",
    "slideshow": {
     "slide_type": "fragment"
    }
   },
   "source": [
    "Usamos la función `adm_sphere` de `empylib.rad_transfer` que calcula al reflectancia y transmitancia total (especular + difusa) en dirección normal"
   ]
  },
  {
   "cell_type": "markdown",
   "id": "ee9b6103",
   "metadata": {
    "slideshow": {
     "slide_type": "slide"
    }
   },
   "source": [
    "Primero, calculamos el espectro de reflectancia ($R_\\lambda$), transmitancia ($T_\\lambda$) y absortancia ($A_\\lambda$) espectral (igual en todas las direcciones)."
   ]
  },
  {
   "cell_type": "code",
   "execution_count": 8,
   "id": "c130aa97",
   "metadata": {
    "slideshow": {
     "slide_type": "fragment"
    },
    "tags": [
     "hide-input"
    ]
   },
   "outputs": [],
   "source": [
    "import empylib.rad_transfer as rt\n",
    "import empylib.nklib as nk\n",
    "\n",
    "lam   = np.logspace(np.log10(0.2),np.log10(100),1000) # espectro de longitudes de onda (um)\n",
    "tfilm = 0.5                                           # espesor de la película (mm)\n",
    "nh = 1.5                                              # índice de refracción del solvente\n",
    "Nlayers = (1.0,nh,1.5)                                # índices de refracción aire / solvente / aire\n",
    "fv = 0.07                                             # concentración (fracción de volúmen)\n",
    "Np = nk.SiO2(lam)                                     # índice de refracción de las partículas\n",
    "D  = 1.0                                              # diámetro de las partículas (um)\n",
    "\n",
    "R, T = rt.adm_sphere(lam,tfilm,Nlayers,fv,D,Np)       # Reflectancia y transmitancia\n",
    "A = 1 - R - T                                         # Absortancia"
   ]
  },
  {
   "cell_type": "markdown",
   "id": "8231eb53",
   "metadata": {
    "slideshow": {
     "slide_type": "slide"
    }
   },
   "source": [
    "Luego, graficamos ($R_\\lambda$), transmitancia ($T_\\lambda$) y absortancia ($A_\\lambda$). Como referencia, graficamos el índice de refracción del $\\mathrm{TiO_2}$ y el scattering de una partícula de $\\mathrm{TiO_2}$ en el solvente."
   ]
  },
  {
   "cell_type": "code",
   "execution_count": 9,
   "id": "2fe736e3",
   "metadata": {
    "slideshow": {
     "slide_type": "skip"
    },
    "tags": [
     "hide-input"
    ]
   },
   "outputs": [],
   "source": [
    "%%capture showplot1\n",
    "import empylib.miescattering as mie\n",
    "from matplotlib.ticker import FuncFormatter\n",
    "\n",
    "Ap = np.pi*D**2/4\n",
    "Qext, Qsca = mie.scatter_efficiency(lam,nh,Np,D)[:2]\n",
    "Csca, Cabs = Qsca*Ap, (Qext - Qsca)*Ap\n",
    "    \n",
    "fig, ax1 = plt.subplots(3,1,figsize=(8,8))\n",
    "plt.rcParams['font.size'] = '14'\n",
    "fig.tight_layout()\n",
    "\n",
    "# Graficamos el índice de refracción (parte real e imaginaria)\n",
    "ax1[0].plot(lam,Np.real,'-b',label = '$n$')\n",
    "ax1[0].plot(lam,Np.imag,'-r',label = '$\\kappa$')\n",
    "\n",
    "# Graficamos la sección transversal de scattering y absorción\n",
    "ax1[1].plot(lam,Csca,'-b',label = '$C_\\mathrm{sca}$')\n",
    "ax1[1].plot(lam,Cabs,'-r',label = '$C_\\mathrm{abs}$')\n",
    "\n",
    "# Graficamos la reflectancia, transmitancia y absortancia espectral\n",
    "ax1[2].plot(lam,R,'-b', label = '$R_\\lambda$')\n",
    "ax1[2].plot(lam,T,'-g', label = '$T_\\lambda$')\n",
    "ax1[2].plot(lam,A,'-r', label = '$A_\\lambda$')\n",
    "\n",
    "\n",
    "for i in range(len(ax1)):\n",
    "    ax1[i].set_xlabel('')\n",
    "    ax1[i].set_xscale('log')\n",
    "    ax1[i].set_xticks([0.3,0.4,0.75,1.4,3,8,15,30, 50, 100])\n",
    "    ax1[i].set_xlim(0.3,100)\n",
    "    ax1[i].xaxis.set_major_formatter(FuncFormatter(lambda y, _: '{:.16g}'.format(y)))\n",
    "    ax1[i].legend(frameon=False)\n",
    "\n",
    "    \n",
    "ax1[2].set_xlabel('Longitud de onda, $\\lambda$ $\\mu$m')\n",
    "ax1[0].set_ylabel('Índice de refracción $\\mathrm{TiO_2}$')\n",
    "ax1[1].set_ylabel('$C_\\mathrm{sca}$ y $C_\\mathrm{sca}$ esfera de $\\mathrm{TiO_2}$ ($\\mu$m$^2$)')\n",
    "ax1[2].set_ylabel('$R_\\lambda$, $T_\\lambda$ y $A_\\lambda$')\n",
    "plt.show()"
   ]
  },
  {
   "cell_type": "code",
   "execution_count": 10,
   "id": "e0ff1d2f",
   "metadata": {
    "slideshow": {
     "slide_type": "fragment"
    },
    "tags": [
     "remove-input"
    ]
   },
   "outputs": [
    {
     "data": {
      "image/png": "[encoded data removed]",
      "text/plain": [
       "<Figure size 800x800 with 3 Axes>"
      ]
     },
     "metadata": {},
     "output_type": "display_data"
    }
   ],
   "source": [
    "showplot1()"
   ]
  },
  {
   "cell_type": "markdown",
   "id": "2dd36558",
   "metadata": {
    "cell_style": "center",
    "slideshow": {
     "slide_type": "slide"
    }
   },
   "source": [
    "Para finalizar, usamos la ley de Kirchhoff ($A_\\lambda = \\epsilon_\\lambda$), y calculamos la emisividad total hemisférica mediante la ecuación (6.14):\n",
    "\n",
    "\\begin{align*}\n",
    "\\epsilon(T) &=\\frac{1}{\\sigma T^4}\\int_0^\\infty \\int_\\mathrm{hemi} \\epsilon_{\\lambda} I_{\\mathrm{bb},\\lambda} (T)\\cos\\theta~d\\Omega~d\\lambda \\\\\n",
    "&=\\frac{1}{\\sigma T^4}\\pi\\int_0^\\infty \\epsilon_{\\lambda} I_{\\mathrm{bb},\\lambda} (T)~d\\lambda\n",
    "\\end{align*}\n",
    "\n",
    "*Notar que $\\epsilon_{\\lambda}$ sale de la integral de $d\\Omega$ debido a que consideramos superficie difusa.*"
   ]
  },
  {
   "cell_type": "markdown",
   "id": "adacfdb6",
   "metadata": {
    "cell_style": "center",
    "slideshow": {
     "slide_type": "fragment"
    }
   },
   "source": [
    "Numericamente, integramos usando la regla del trapecio (`numpy.trapz`)"
   ]
  },
  {
   "cell_type": "code",
   "execution_count": 11,
   "id": "935e2452",
   "metadata": {
    "cell_style": "center",
    "slideshow": {
     "slide_type": "fragment"
    }
   },
   "outputs": [
    {
     "name": "stdout",
     "output_type": "stream",
     "text": [
      "la emisividad de la pintura blanca es : 0.825\n"
     ]
    }
   ],
   "source": [
    "T = 25 + 273                        # Temperatura de la pintura \n",
    "eps_lambda = A                      # Emisividad espectral de la pintura\n",
    "sigma = 5.67E-8                     # Constante de Steffan-Boltzmann \n",
    "eps_white_paint = 1/(sigma*T**4)*np.pi*np.trapz(eps_lambda*rf.Bplanck(lam,T),lam)\n",
    "\n",
    "print('la emisividad de la pintura blanca es : %.3f' % eps_white_paint)"
   ]
  },
  {
   "cell_type": "markdown",
   "id": "4a494870",
   "metadata": {
    "slideshow": {
     "slide_type": "slide"
    }
   },
   "source": [
    "### Irradiancia (G)"
   ]
  },
  {
   "cell_type": "markdown",
   "id": "fbc52f8b",
   "metadata": {
    "cell_style": "split",
    "slideshow": {
     "slide_type": "fragment"
    }
   },
   "source": [
    "Definimos como **irradiación espectral direccional, $G_{\\lambda,\\Omega}$** a la radiancia espectral incidente en una superficie.\n",
    "\n",
    "<img src=\"./images/irradiance.png\" width=\"300px\" align= center>"
   ]
  },
  {
   "cell_type": "markdown",
   "id": "ee20e9bd",
   "metadata": {
    "cell_style": "split",
    "slideshow": {
     "slide_type": "fragment"
    }
   },
   "source": [
    "Matemáticamente:\n",
    "\n",
    "\\begin{equation}\n",
    "G_{\\lambda,\\Omega} = I_i(\\lambda,\\Omega) \\cos\\theta\\quad\\frac{\\mathrm{W}}{\\mathrm{m}^2}\n",
    "\\end{equation}\n",
    "\n",
    "donde $I_i$ es la radiancia espectral incidente sobre una superficie $dA$"
   ]
  },
  {
   "cell_type": "markdown",
   "id": "28f8903f",
   "metadata": {
    "slideshow": {
     "slide_type": "slide"
    }
   },
   "source": [
    "La irradiancia permite determinar valores promedio para la absortancia, transmitancia y reflectancia. Al igual que en los casos anteriores, podemos extraer valores promedio del tipo hemisférico (integración por ángulo sólido) o total (integración por longitudes de onda). Por ejemplo, para la absortancia"
   ]
  },
  {
   "cell_type": "markdown",
   "id": "04fc2a89",
   "metadata": {
    "slideshow": {
     "slide_type": "fragment"
    }
   },
   "source": [
    "**Absorptancia direccional total**\n",
    "\\begin{equation}\n",
    "\\alpha_\\Omega = \\frac{\\int_0^\\infty \\alpha_{\\lambda,\\Omega} G_{\\lambda,\\Omega}~d\\lambda}{\\int_0^\\infty G_{\\lambda,\\Omega} ~d\\lambda}\n",
    "\\end{equation}"
   ]
  },
  {
   "cell_type": "markdown",
   "id": "67f37e2e",
   "metadata": {
    "slideshow": {
     "slide_type": "fragment"
    }
   },
   "source": [
    "**Absorptancia hemisférica espectral**\n",
    "\\begin{equation}\n",
    "\\alpha_\\lambda = \\frac{\\int_\\mathrm{hemi}\\alpha_{\\lambda,\\Omega}G_{\\lambda,\\Omega}~d\\Omega}{\\pi G_{\\lambda,\\Omega}}\n",
    "\\end{equation}"
   ]
  },
  {
   "cell_type": "markdown",
   "id": "47329f1f",
   "metadata": {
    "slideshow": {
     "slide_type": "fragment"
    }
   },
   "source": [
    "**Absorptancia hemisférica total**\n",
    "\\begin{equation}\n",
    "\\alpha = \\frac{\\int_\\mathrm{hemi} \\int_0^\\infty \\alpha_{\\lambda,\\Omega} G_{\\lambda,\\Omega}~d\\lambda d\\Omega}{\\int_\\mathrm{hemi} \\int_0^\\infty G_{\\lambda,\\Omega}~d\\lambda d\\Omega}\n",
    "\\end{equation}"
   ]
  },
  {
   "cell_type": "markdown",
   "id": "823c3612",
   "metadata": {},
   "source": [
    "### Radiosidad (J)"
   ]
  },
  {
   "cell_type": "markdown",
   "id": "04ee6eb9",
   "metadata": {
    "slideshow": {
     "slide_type": "slide"
    }
   },
   "source": [
    "Definimos como **radiosidad, $J_{\\lambda,\\Omega}$** a la combinación de radiación emitida y reflejada por una superficie"
   ]
  },
  {
   "cell_type": "markdown",
   "id": "bae8d429",
   "metadata": {
    "cell_style": "split",
    "slideshow": {
     "slide_type": "-"
    }
   },
   "source": [
    "\n",
    "<img src=\"./images/radiosity.png\" width=\"250px\" align= center>"
   ]
  },
  {
   "cell_type": "markdown",
   "id": "23a0cca5",
   "metadata": {
    "cell_style": "split",
    "slideshow": {
     "slide_type": "fragment"
    }
   },
   "source": [
    "Matemáticamente:\n",
    "\\begin{equation}\n",
    "J_{\\lambda,\\Omega} = R_{\\lambda,\\Omega}G_{\\lambda,\\Omega}+E_{\\lambda,\\Omega}\n",
    "\\end{equation}"
   ]
  },
  {
   "cell_type": "markdown",
   "id": "0fc1336c",
   "metadata": {
    "slideshow": {
     "slide_type": "fragment"
    }
   },
   "source": [
    "Al igual que con el poder de emisión y la irradiancia, la radiosidad ($J_{\\lambda,\\Omega}$) puede ser definidas de forma hemisférica (integrando por ángulo sólido) o total (integrando por longitud de onda)."
   ]
  },
  {
   "cell_type": "markdown",
   "id": "7c66c252",
   "metadata": {
    "slideshow": {
     "slide_type": "slide"
    }
   },
   "source": [
    "## Transferencia de calor por radiación"
   ]
  },
  {
   "cell_type": "markdown",
   "id": "4d97cde2",
   "metadata": {
    "slideshow": {
     "slide_type": "slide"
    }
   },
   "source": [
    "### Factor de visión para superficies difusas\n",
    "La transferencia de calor por radiación depende de la orientación relativa entre las superficies."
   ]
  },
  {
   "cell_type": "markdown",
   "id": "a9c57dec",
   "metadata": {
    "slideshow": {
     "slide_type": "fragment"
    }
   },
   "source": [
    "En general, este análisis es complejo ya que requiere integración por ángulo sólido considerando factores geométricos y dependencia de las propiedades radiativas con la orientación. En el caso de superficies difusas, sin embargo, podemos simplificar el análisis considerando sólamente los aspectos geométricos."
   ]
  },
  {
   "cell_type": "markdown",
   "id": "24d32a93",
   "metadata": {
    "slideshow": {
     "slide_type": "slide"
    }
   },
   "source": [
    "Consideremos el parámetro,  $\\dot{Q}_{dA_1\\rightarrow dA_2}$, que representa la radiación espectral emitida por una superficie $dA_1$ que incide sobre una superficie $dA_2$."
   ]
  },
  {
   "cell_type": "markdown",
   "id": "2361fe98",
   "metadata": {
    "cell_style": "split",
    "slideshow": {
     "slide_type": "fragment"
    }
   },
   "source": [
    "\n",
    "<img src=\"./images/vision_factor.png\" width=\"250px\" align= center>"
   ]
  },
  {
   "cell_type": "markdown",
   "id": "551f2ce3",
   "metadata": {
    "cell_style": "split",
    "slideshow": {
     "slide_type": "-"
    }
   },
   "source": [
    "\\begin{equation*}\n",
    "dQ_{dA_1\\rightarrow dA_2} = I_{\\mathrm{bb},\\lambda}(T_1)\\cos\\theta_1 dA_1 d\\Omega_{12}\n",
    "\\end{equation*}"
   ]
  },
  {
   "cell_type": "markdown",
   "id": "8d71c791",
   "metadata": {
    "cell_style": "split",
    "slideshow": {
     "slide_type": "fragment"
    }
   },
   "source": [
    "A través de la relación $r^2 d\\Omega_{12} = \\cos\\theta_2 dA_2$, podemos determinar:\n",
    "\n",
    "\\begin{equation*}\n",
    "\\dot{Q}_{dA_1\\rightarrow dA_2} = I_{\\mathrm{bb},\\lambda}(T_1) \\frac{\\cos\\theta_1 \\cos\\theta_2}{r^2 }dA_1dA_2\n",
    "\\end{equation*}"
   ]
  },
  {
   "cell_type": "markdown",
   "id": "f892a331",
   "metadata": {
    "slideshow": {
     "slide_type": "slide"
    }
   },
   "source": [
    "La radiación total espectral que incide sobre la superficie $A_2$, es:\n",
    "\n",
    "\\begin{equation*}\n",
    "\\dot{Q}_{A_1\\rightarrow A_2} = \\int_{A_1}\\int_{A_1}I_{\\mathrm{bb},\\lambda}(T_1) \\frac{\\cos\\theta_1 \\cos\\theta_2}{r^2 }dA_1dA_2\n",
    "\\end{equation*}"
   ]
  },
  {
   "cell_type": "markdown",
   "id": "1ecc9bb7",
   "metadata": {
    "slideshow": {
     "slide_type": "fragment"
    }
   },
   "source": [
    "Definimos como **factor de visión o factor de forma, $F_{12}$** a la razón entre $\\dot{Q}_{A_1\\rightarrow A_2}$ y la radiación hemisférica espectral emitida por $A_1$, es decir $\\dot{Q}_{A_1} = \\pi I_{\\mathrm{bb},\\lambda}(T_1) A_1 $:\n",
    "\n",
    "\n",
    "\\begin{equation}\n",
    "F_{12} = \\frac{\\dot{Q}_{A_1\\rightarrow A_2}}{\\dot{Q}_{A_1}} = \\frac{1}{A_1}\\int_{A_1}\\int_{A_2} \\frac{\\cos\\theta_1 \\cos\\theta_2}{\\pi r^2 }dA_1dA_2\n",
    "\\end{equation}"
   ]
  },
  {
   "cell_type": "markdown",
   "id": "410f376e",
   "metadata": {
    "slideshow": {
     "slide_type": "fragment"
    }
   },
   "source": [
    "El factor de visión permite simplificar el análisis para determinar el calor por radiación transferido a una superficie, de la forma:\n",
    "\n",
    "\\begin{equation*}\n",
    "\\dot{Q}_{A_1\\rightarrow A_2} = I_{\\mathrm{bb},\\lambda}(T_1) A_1F_{12}\n",
    "\\end{equation*}"
   ]
  },
  {
   "cell_type": "markdown",
   "id": "9973f4be",
   "metadata": {
    "slideshow": {
     "slide_type": "slide"
    }
   },
   "source": [
    "Por reciprocidad, el factor de visión desde $A_2$ a $A_1$ es:\n",
    "\n",
    "\\begin{equation*}\n",
    "F_{21} = \\frac{1}{A_2}\\int_{A_1}\\int_{A_2} \\frac{\\cos\\theta_1 \\cos\\theta_2}{\\pi r^2 }dA_1dA_2\n",
    "\\end{equation*}"
   ]
  },
  {
   "cell_type": "markdown",
   "id": "fd088d94",
   "metadata": {
    "slideshow": {
     "slide_type": "fragment"
    }
   },
   "source": [
    "De donde deducimos la relación:\n",
    "\n",
    "\\begin{equation}\n",
    "A_1 F_{12} = A_2 F_{21}\n",
    "\\end{equation}"
   ]
  },
  {
   "cell_type": "markdown",
   "id": "3e0d1079",
   "metadata": {
    "slideshow": {
     "slide_type": "fragment"
    }
   },
   "source": [
    "Las expresiones para el factor de visión se encuentran tabuladas en diversos textos especializados. "
   ]
  },
  {
   "cell_type": "markdown",
   "id": "1f2c6d99",
   "metadata": {
    "slideshow": {
     "slide_type": "slide"
    }
   },
   "source": [
    "Si una de las superficies es muy pequeña respecto a la otra, $F_{12} = 1$"
   ]
  },
  {
   "cell_type": "markdown",
   "id": "4f7b9ad8",
   "metadata": {},
   "source": [
    "\n",
    "<img src=\"./images/vision_factor_table.png\" width=\"500px\" align= center>"
   ]
  },
  {
   "cell_type": "markdown",
   "id": "bd990181",
   "metadata": {
    "slideshow": {
     "slide_type": "slide"
    }
   },
   "source": [
    "### Transferencia de calor por radiación\n",
    "En el caso de dos superficies negras a temperaturas $T_1$ y $T_2$, la transferencia de calor neta por radiación es:\n",
    "\n",
    "\\begin{align}\n",
    "\\dot{Q} &= \\dot{Q}_{A_1\\rightarrow A_2} - \\dot{Q}_{A_2\\rightarrow A_1} \\nonumber \\\\[10pt]\n",
    "&= A_1F_{12}\\sigma T_1^4 - A_2F_{21}\\sigma T_2^4 \\nonumber \\\\[10pt]\n",
    "&= A_1F_{12}\\sigma\\left(T_1^4 - T_2^4\\right)\n",
    "\\end{align}"
   ]
  },
  {
   "cell_type": "markdown",
   "id": "17c1dc23",
   "metadata": {
    "cell_style": "center",
    "slideshow": {
     "slide_type": "slide"
    }
   },
   "source": [
    "## Referencias\n",
    "- Çengel Y. A y Ghanjar A. J. **Capítulo 12 - Fundamentos de la radiación térmica** en *Transferencia de calor y masa*, 4ta Ed, McGraw Hill, 2011"
   ]
  },
  {
   "cell_type": "code",
   "execution_count": 12,
   "id": "6e0a420c",
   "metadata": {
    "tags": [
     "remove-input"
    ]
   },
   "outputs": [
    {
     "data": {
      "image/jpeg": "[encoded data removed]",
      "text/html": [
       "\n",
       "        <iframe\n",
       "            width=\"600\"\n",
       "            height=\"400\"\n",
       "            src=\"https://www.youtube.com/embed/FDmYCI_xYlA?playsinline=0\"\n",
       "            frameborder=\"0\"\n",
       "            allowfullscreen\n",
       "            \n",
       "        ></iframe>\n",
       "        "
      ],
      "text/plain": [
       "<IPython.lib.display.YouTubeVideo at 0x7f4e99485a90>"
      ]
     },
     "execution_count": 12,
     "metadata": {},
     "output_type": "execute_result"
    }
   ],
   "source": [
    "from IPython.display import YouTubeVideo\n",
    "YouTubeVideo('FDmYCI_xYlA', width=600, height=400,  playsinline=0)"
   ]
  }
 ],
 "metadata": {
  "celltoolbar": "Slideshow",
  "kernelspec": {
   "display_name": "Python 3 (ipykernel)",
   "language": "python",
   "name": "python3"
  },
  "language_info": {
   "codemirror_mode": {
    "name": "ipython",
    "version": 3
   },
   "file_extension": ".py",
   "mimetype": "text/x-python",
   "name": "python",
   "nbconvert_exporter": "python",
   "pygments_lexer": "ipython3",
   "version": "3.9.16"
  },
  "latex_envs": {
   "LaTeX_envs_menu_present": false,
   "autoclose": false,
   "autocomplete": false,
   "bibliofile": "biblio.bib",
   "cite_by": "apalike",
   "current_citInitial": 1,
   "eqLabelWithNumbers": true,
   "eqNumInitial": 1,
   "hotkeys": {
    "equation": "Ctrl-E",
    "itemize": "Ctrl-I"
   },
   "labels_anchors": false,
   "latex_user_defs": false,
   "report_style_numbering": false,
   "user_envs_cfg": true
  },
  "toc": {
   "base_numbering": 1,
   "nav_menu": {},
   "number_sections": true,
   "sideBar": true,
   "skip_h1_title": true,
   "title_cell": "Tabla de contenidos",
   "title_sidebar": "Contenidos",
   "toc_cell": false,
   "toc_position": {
    "height": "calc(100% - 180px)",
    "left": "10px",
    "top": "150px",
    "width": "307.2px"
   },
   "toc_section_display": true,
   "toc_window_display": false
  },
  "varInspector": {
   "cols": {
    "lenName": 16,
    "lenType": 16,
    "lenVar": 40
   },
   "kernels_config": {
    "python": {
     "delete_cmd_postfix": "",
     "delete_cmd_prefix": "del ",
     "library": "var_list.py",
     "varRefreshCmd": "print(var_dic_list())"
    },
    "r": {
     "delete_cmd_postfix": ") ",
     "delete_cmd_prefix": "rm(",
     "library": "var_list.r",
     "varRefreshCmd": "cat(var_dic_list()) "
    }
   },
   "types_to_exclude": [
    "module",
    "function",
    "builtin_function_or_method",
    "instance",
    "_Feature"
   ],
   "window_display": false
  },
  "widgets": {
   "application/vnd.jupyter.widget-state+json": {
    "state": {
     "0346098bdd57421f884bd7ed967b445c": {
      "model_module": "@jupyter-widgets/controls",
      "model_module_version": "1.5.0",
      "model_name": "FloatSliderModel",
      "state": {
       "_dom_classes": [],
       "_model_module": "@jupyter-widgets/controls",
       "_model_module_version": "1.5.0",
       "_model_name": "FloatSliderModel",
       "_view_count": null,
       "_view_module": "@jupyter-widgets/controls",
       "_view_module_version": "1.5.0",
       "_view_name": "FloatSliderView",
       "continuous_update": true,
       "description": "lam0",
       "description_tooltip": null,
       "disabled": false,
       "layout": "IPY_MODEL_c7462fb51b1643a181496f37599398c8",
       "max": 10.0,
       "min": 5.0,
       "orientation": "horizontal",
       "readout": true,
       "readout_format": ".2f",
       "step": 0.5,
       "style": "IPY_MODEL_5e6325029635458fbe08b96435c855a9",
       "value": 10.0
      }
     },
     "090c0e17ff3b4878b45e5df5ee44dd2c": {
      "model_module": "@jupyter-widgets/base",
      "model_module_version": "1.2.0",
      "model_name": "LayoutModel",
      "state": {
       "_model_module": "@jupyter-widgets/base",
       "_model_module_version": "1.2.0",
       "_model_name": "LayoutModel",
       "_view_count": null,
       "_view_module": "@jupyter-widgets/base",
       "_view_module_version": "1.2.0",
       "_view_name": "LayoutView",
       "align_content": null,
       "align_items": null,
       "align_self": null,
       "border": null,
       "bottom": null,
       "display": null,
       "flex": null,
       "flex_flow": null,
       "grid_area": null,
       "grid_auto_columns": null,
       "grid_auto_flow": null,
       "grid_auto_rows": null,
       "grid_column": null,
       "grid_gap": null,
       "grid_row": null,
       "grid_template_areas": null,
       "grid_template_columns": null,
       "grid_template_rows": null,
       "height": null,
       "justify_content": null,
       "justify_items": null,
       "left": null,
       "margin": null,
       "max_height": null,
       "max_width": null,
       "min_height": null,
       "min_width": null,
       "object_fit": null,
       "object_position": null,
       "order": null,
       "overflow": null,
       "overflow_x": null,
       "overflow_y": null,
       "padding": null,
       "right": null,
       "top": null,
       "visibility": null,
       "width": null
      }
     },
     "1b9110706e2643c5b25eaab004125d1a": {
      "model_module": "@jupyter-widgets/controls",
      "model_module_version": "1.5.0",
      "model_name": "SliderStyleModel",
      "state": {
       "_model_module": "@jupyter-widgets/controls",
       "_model_module_version": "1.5.0",
       "_model_name": "SliderStyleModel",
       "_view_count": null,
       "_view_module": "@jupyter-widgets/base",
       "_view_module_version": "1.2.0",
       "_view_name": "StyleView",
       "description_width": "",
       "handle_color": null
      }
     },
     "3713ad711ca24ae7bd9af85a8c924672": {
      "model_module": "@jupyter-widgets/controls",
      "model_module_version": "1.5.0",
      "model_name": "IntSliderModel",
      "state": {
       "_dom_classes": [],
       "_model_module": "@jupyter-widgets/controls",
       "_model_module_version": "1.5.0",
       "_model_name": "IntSliderModel",
       "_view_count": null,
       "_view_module": "@jupyter-widgets/controls",
       "_view_module_version": "1.5.0",
       "_view_name": "IntSliderView",
       "continuous_update": true,
       "description": "d",
       "description_tooltip": null,
       "disabled": false,
       "layout": "IPY_MODEL_621530b7bcce41bb9d7ff3eec47b7edf",
       "max": 10,
       "min": 0,
       "orientation": "horizontal",
       "readout": true,
       "readout_format": "d",
       "step": 1,
       "style": "IPY_MODEL_1b9110706e2643c5b25eaab004125d1a",
       "value": 1
      }
     },
     "40750633690a4243a7665d893eaba8eb": {
      "model_module": "@jupyter-widgets/base",
      "model_module_version": "1.2.0",
      "model_name": "LayoutModel",
      "state": {
       "_model_module": "@jupyter-widgets/base",
       "_model_module_version": "1.2.0",
       "_model_name": "LayoutModel",
       "_view_count": null,
       "_view_module": "@jupyter-widgets/base",
       "_view_module_version": "1.2.0",
       "_view_name": "LayoutView",
       "align_content": null,
       "align_items": null,
       "align_self": null,
       "border": null,
       "bottom": null,
       "display": null,
       "flex": null,
       "flex_flow": null,
       "grid_area": null,
       "grid_auto_columns": null,
       "grid_auto_flow": null,
       "grid_auto_rows": null,
       "grid_column": null,
       "grid_gap": null,
       "grid_row": null,
       "grid_template_areas": null,
       "grid_template_columns": null,
       "grid_template_rows": null,
       "height": null,
       "justify_content": null,
       "justify_items": null,
       "left": null,
       "margin": null,
       "max_height": null,
       "max_width": null,
       "min_height": null,
       "min_width": null,
       "object_fit": null,
       "object_position": null,
       "order": null,
       "overflow": null,
       "overflow_x": null,
       "overflow_y": null,
       "padding": null,
       "right": null,
       "top": null,
       "visibility": null,
       "width": null
      }
     },
     "4997c7242c8c41518f36abc41a49529d": {
      "model_module": "@jupyter-widgets/controls",
      "model_module_version": "1.5.0",
      "model_name": "VBoxModel",
      "state": {
       "_dom_classes": [
        "widget-interact"
       ],
       "_model_module": "@jupyter-widgets/controls",
       "_model_module_version": "1.5.0",
       "_model_name": "VBoxModel",
       "_view_count": null,
       "_view_module": "@jupyter-widgets/controls",
       "_view_module_version": "1.5.0",
       "_view_name": "VBoxView",
       "box_style": "",
       "children": [
        "IPY_MODEL_698691b517324ad2930e43ded6769653",
        "IPY_MODEL_3713ad711ca24ae7bd9af85a8c924672",
        "IPY_MODEL_0346098bdd57421f884bd7ed967b445c",
        "IPY_MODEL_aeeed05f839245cfb77922e9c5214f2e",
        "IPY_MODEL_ac80d2d79c6c44b38c9779ed3a72cac4"
       ],
       "layout": "IPY_MODEL_090c0e17ff3b4878b45e5df5ee44dd2c"
      }
     },
     "5e6325029635458fbe08b96435c855a9": {
      "model_module": "@jupyter-widgets/controls",
      "model_module_version": "1.5.0",
      "model_name": "SliderStyleModel",
      "state": {
       "_model_module": "@jupyter-widgets/controls",
       "_model_module_version": "1.5.0",
       "_model_name": "SliderStyleModel",
       "_view_count": null,
       "_view_module": "@jupyter-widgets/base",
       "_view_module_version": "1.2.0",
       "_view_name": "StyleView",
       "description_width": "",
       "handle_color": null
      }
     },
     "621530b7bcce41bb9d7ff3eec47b7edf": {
      "model_module": "@jupyter-widgets/base",
      "model_module_version": "1.2.0",
      "model_name": "LayoutModel",
      "state": {
       "_model_module": "@jupyter-widgets/base",
       "_model_module_version": "1.2.0",
       "_model_name": "LayoutModel",
       "_view_count": null,
       "_view_module": "@jupyter-widgets/base",
       "_view_module_version": "1.2.0",
       "_view_name": "LayoutView",
       "align_content": null,
       "align_items": null,
       "align_self": null,
       "border": null,
       "bottom": null,
       "display": null,
       "flex": null,
       "flex_flow": null,
       "grid_area": null,
       "grid_auto_columns": null,
       "grid_auto_flow": null,
       "grid_auto_rows": null,
       "grid_column": null,
       "grid_gap": null,
       "grid_row": null,
       "grid_template_areas": null,
       "grid_template_columns": null,
       "grid_template_rows": null,
       "height": null,
       "justify_content": null,
       "justify_items": null,
       "left": null,
       "margin": null,
       "max_height": null,
       "max_width": null,
       "min_height": null,
       "min_width": null,
       "object_fit": null,
       "object_position": null,
       "order": null,
       "overflow": null,
       "overflow_x": null,
       "overflow_y": null,
       "padding": null,
       "right": null,
       "top": null,
       "visibility": null,
       "width": null
      }
     },
     "698691b517324ad2930e43ded6769653": {
      "model_module": "@jupyter-widgets/controls",
      "model_module_version": "1.5.0",
      "model_name": "IntSliderModel",
      "state": {
       "_dom_classes": [],
       "_model_module": "@jupyter-widgets/controls",
       "_model_module_version": "1.5.0",
       "_model_name": "IntSliderModel",
       "_view_count": null,
       "_view_module": "@jupyter-widgets/controls",
       "_view_module_version": "1.5.0",
       "_view_name": "IntSliderView",
       "continuous_update": true,
       "description": "T",
       "description_tooltip": null,
       "disabled": false,
       "layout": "IPY_MODEL_771cb8c7372d4be4a0a92a672675b780",
       "max": 1000,
       "min": 300,
       "orientation": "horizontal",
       "readout": true,
       "readout_format": "d",
       "step": 10,
       "style": "IPY_MODEL_86a63ab5025a4572a40c07f556c25a25",
       "value": 300
      }
     },
     "6bff6f63532b4505bf29ea0f6a16aad4": {
      "model_module": "@jupyter-widgets/base",
      "model_module_version": "1.2.0",
      "model_name": "LayoutModel",
      "state": {
       "_model_module": "@jupyter-widgets/base",
       "_model_module_version": "1.2.0",
       "_model_name": "LayoutModel",
       "_view_count": null,
       "_view_module": "@jupyter-widgets/base",
       "_view_module_version": "1.2.0",
       "_view_name": "LayoutView",
       "align_content": null,
       "align_items": null,
       "align_self": null,
       "border": null,
       "bottom": null,
       "display": null,
       "flex": null,
       "flex_flow": null,
       "grid_area": null,
       "grid_auto_columns": null,
       "grid_auto_flow": null,
       "grid_auto_rows": null,
       "grid_column": null,
       "grid_gap": null,
       "grid_row": null,
       "grid_template_areas": null,
       "grid_template_columns": null,
       "grid_template_rows": null,
       "height": null,
       "justify_content": null,
       "justify_items": null,
       "left": null,
       "margin": null,
       "max_height": null,
       "max_width": null,
       "min_height": null,
       "min_width": null,
       "object_fit": null,
       "object_position": null,
       "order": null,
       "overflow": null,
       "overflow_x": null,
       "overflow_y": null,
       "padding": null,
       "right": null,
       "top": null,
       "visibility": null,
       "width": null
      }
     },
     "771cb8c7372d4be4a0a92a672675b780": {
      "model_module": "@jupyter-widgets/base",
      "model_module_version": "1.2.0",
      "model_name": "LayoutModel",
      "state": {
       "_model_module": "@jupyter-widgets/base",
       "_model_module_version": "1.2.0",
       "_model_name": "LayoutModel",
       "_view_count": null,
       "_view_module": "@jupyter-widgets/base",
       "_view_module_version": "1.2.0",
       "_view_name": "LayoutView",
       "align_content": null,
       "align_items": null,
       "align_self": null,
       "border": null,
       "bottom": null,
       "display": null,
       "flex": null,
       "flex_flow": null,
       "grid_area": null,
       "grid_auto_columns": null,
       "grid_auto_flow": null,
       "grid_auto_rows": null,
       "grid_column": null,
       "grid_gap": null,
       "grid_row": null,
       "grid_template_areas": null,
       "grid_template_columns": null,
       "grid_template_rows": null,
       "height": null,
       "justify_content": null,
       "justify_items": null,
       "left": null,
       "margin": null,
       "max_height": null,
       "max_width": null,
       "min_height": null,
       "min_width": null,
       "object_fit": null,
       "object_position": null,
       "order": null,
       "overflow": null,
       "overflow_x": null,
       "overflow_y": null,
       "padding": null,
       "right": null,
       "top": null,
       "visibility": null,
       "width": null
      }
     },
     "86a63ab5025a4572a40c07f556c25a25": {
      "model_module": "@jupyter-widgets/controls",
      "model_module_version": "1.5.0",
      "model_name": "SliderStyleModel",
      "state": {
       "_model_module": "@jupyter-widgets/controls",
       "_model_module_version": "1.5.0",
       "_model_name": "SliderStyleModel",
       "_view_count": null,
       "_view_module": "@jupyter-widgets/base",
       "_view_module_version": "1.2.0",
       "_view_name": "StyleView",
       "description_width": "",
       "handle_color": null
      }
     },
     "ac80d2d79c6c44b38c9779ed3a72cac4": {
      "model_module": "@jupyter-widgets/output",
      "model_module_version": "1.0.0",
      "model_name": "OutputModel",
      "state": {
       "_dom_classes": [],
       "_model_module": "@jupyter-widgets/output",
       "_model_module_version": "1.0.0",
       "_model_name": "OutputModel",
       "_view_count": null,
       "_view_module": "@jupyter-widgets/output",
       "_view_module_version": "1.0.0",
       "_view_name": "OutputView",
       "layout": "IPY_MODEL_6bff6f63532b4505bf29ea0f6a16aad4",
       "msg_id": "",
       "outputs": [
        {
         "data": {
          "image/png": "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",
          "text/plain": "<Figure size 1600x500 with 3 Axes>"
         },
         "metadata": {},
         "output_type": "display_data"
        }
       ]
      }
     },
     "aeeed05f839245cfb77922e9c5214f2e": {
      "model_module": "@jupyter-widgets/controls",
      "model_module_version": "1.5.0",
      "model_name": "IntSliderModel",
      "state": {
       "_dom_classes": [],
       "_model_module": "@jupyter-widgets/controls",
       "_model_module_version": "1.5.0",
       "_model_name": "IntSliderModel",
       "_view_count": null,
       "_view_module": "@jupyter-widgets/controls",
       "_view_module_version": "1.5.0",
       "_view_name": "IntSliderView",
       "continuous_update": true,
       "description": "theta0",
       "description_tooltip": null,
       "disabled": false,
       "layout": "IPY_MODEL_40750633690a4243a7665d893eaba8eb",
       "max": 90,
       "min": 0,
       "orientation": "horizontal",
       "readout": true,
       "readout_format": "d",
       "step": 5,
       "style": "IPY_MODEL_dcb25950ba7044bbae4d94089daf24d3",
       "value": 0
      }
     },
     "c7462fb51b1643a181496f37599398c8": {
      "model_module": "@jupyter-widgets/base",
      "model_module_version": "1.2.0",
      "model_name": "LayoutModel",
      "state": {
       "_model_module": "@jupyter-widgets/base",
       "_model_module_version": "1.2.0",
       "_model_name": "LayoutModel",
       "_view_count": null,
       "_view_module": "@jupyter-widgets/base",
       "_view_module_version": "1.2.0",
       "_view_name": "LayoutView",
       "align_content": null,
       "align_items": null,
       "align_self": null,
       "border": null,
       "bottom": null,
       "display": null,
       "flex": null,
       "flex_flow": null,
       "grid_area": null,
       "grid_auto_columns": null,
       "grid_auto_flow": null,
       "grid_auto_rows": null,
       "grid_column": null,
       "grid_gap": null,
       "grid_row": null,
       "grid_template_areas": null,
       "grid_template_columns": null,
       "grid_template_rows": null,
       "height": null,
       "justify_content": null,
       "justify_items": null,
       "left": null,
       "margin": null,
       "max_height": null,
       "max_width": null,
       "min_height": null,
       "min_width": null,
       "object_fit": null,
       "object_position": null,
       "order": null,
       "overflow": null,
       "overflow_x": null,
       "overflow_y": null,
       "padding": null,
       "right": null,
       "top": null,
       "visibility": null,
       "width": null
      }
     },
     "dcb25950ba7044bbae4d94089daf24d3": {
      "model_module": "@jupyter-widgets/controls",
      "model_module_version": "1.5.0",
      "model_name": "SliderStyleModel",
      "state": {
       "_model_module": "@jupyter-widgets/controls",
       "_model_module_version": "1.5.0",
       "_model_name": "SliderStyleModel",
       "_view_count": null,
       "_view_module": "@jupyter-widgets/base",
       "_view_module_version": "1.2.0",
       "_view_name": "StyleView",
       "description_width": "",
       "handle_color": null
      }
     }
    },
    "version_major": 2,
    "version_minor": 0
   }
  }
 },
 "nbformat": 4,
 "nbformat_minor": 5
}