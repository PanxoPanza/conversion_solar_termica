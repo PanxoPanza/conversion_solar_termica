{
 "cells": [
  {
   "cell_type": "markdown",
   "id": "8b01ca79",
   "metadata": {
    "slideshow": {
     "slide_type": "slide"
    }
   },
   "source": [
    " <font size=\"6\">MEC501 - Manejo y Conversión de Energía Solar Térmica</font>\n",
    "# Radiación Térmica\n",
    "<br><br><br><br>\n",
    "Profesor: Francisco Ramírez Cuevas<br>\n",
    "Fecha: 30 de Septiembre 2022"
   ]
  },
  {
   "cell_type": "markdown",
   "id": "e21d64ae",
   "metadata": {
    "slideshow": {
     "slide_type": "slide"
    }
   },
   "source": [
    "## Introducción a la Transferencia de Calor\n",
    "A nivel molecular, los átomos en la materia siempre están vibrando. La magnitud de estas vibraciones está caracterizada estadísticamente por la temperatura:"
   ]
  },
  {
   "cell_type": "markdown",
   "id": "35dd953b",
   "metadata": {},
   "source": [
    "<img src=\"./images/temperature_brownian_motion.gif\" width=\"400px\" align= center>"
   ]
  },
  {
   "cell_type": "markdown",
   "id": "7810d826",
   "metadata": {
    "cell_style": "center",
    "slideshow": {
     "slide_type": "slide"
    }
   },
   "source": [
    "Consideremos un sólido extendido con una diferencia de temperatura, $\\Delta T$, entre sus extremos, tal que el lado izquierdo tiene una mayor temperatura que el lado derecho"
   ]
  },
  {
   "cell_type": "markdown",
   "id": "5407e5b7",
   "metadata": {
    "cell_style": "split",
    "slideshow": {
     "slide_type": "fragment"
    }
   },
   "source": [
    "<img src=\"./images/heat_transfer.gif\" width=\"300px\" align= center>"
   ]
  },
  {
   "cell_type": "markdown",
   "id": "85b590b5",
   "metadata": {
    "cell_style": "split",
    "slideshow": {
     "slide_type": "fragment"
    }
   },
   "source": [
    "Debido a la diferencia de temperatura, la vibración molecular en el lado izquierdo es mayor. Esta energía cinética es transmitida a través del material hacia el lado derecho."
   ]
  },
  {
   "cell_type": "markdown",
   "id": "6f302797",
   "metadata": {
    "slideshow": {
     "slide_type": "slide"
    }
   },
   "source": [
    "Definimos como **calor**, $Q$, a la energía térmica intercambiada entre dos medios cuya diferencia de temperatura es $\\Delta T$. A mayor $\\Delta T$, mayor es el intercambio de calor, matemáticamente: \n",
    "\n",
    "\\begin{equation*}\n",
    "Q \\propto \\Delta T,\\quad\\mathrm{J}\n",
    "\\end{equation*}\n",
    "\n"
   ]
  },
  {
   "cell_type": "markdown",
   "id": "05b934bc",
   "metadata": {
    "slideshow": {
     "slide_type": "fragment"
    }
   },
   "source": [
    "La **taza de transferencia de calor**:\n",
    "\\begin{equation*}\n",
    "\\dot{Q} = \\frac{dQ}{dt},\\quad\\mathrm{W}\n",
    "\\end{equation*}\n",
    "\n",
    "corresponde al calor tranferido por unidad de tiempo."
   ]
  },
  {
   "cell_type": "markdown",
   "id": "8aface27",
   "metadata": {
    "slideshow": {
     "slide_type": "fragment"
    }
   },
   "source": [
    "Por último, definimos como **flujo de calor**: \n",
    "\\begin{equation*}\n",
    "q'' = \\dot{Q}/A,\\quad\\frac{\\mathrm{W}}{\\mathrm{m}^2}\n",
    "\\end{equation*}\n",
    "\n",
    "a la taza de transferencia de calor por unidad de área."
   ]
  },
  {
   "cell_type": "markdown",
   "id": "2c634772",
   "metadata": {
    "cell_style": "split",
    "slideshow": {
     "slide_type": "slide"
    }
   },
   "source": [
    "Existen tres mecanismo de transferencia de calor:\n",
    "\n",
    "- Conducción de calor\n",
    "- Convección de calor\n",
    "- Radiación"
   ]
  },
  {
   "cell_type": "markdown",
   "id": "a3e69153",
   "metadata": {
    "cell_style": "split",
    "slideshow": {
     "slide_type": "-"
    }
   },
   "source": [
    "<img src=\"./images/heat_transfer_mechanism.png\" width=\"500px\" align= center>"
   ]
  },
  {
   "cell_type": "markdown",
   "id": "ccaa08be",
   "metadata": {
    "slideshow": {
     "slide_type": "slide"
    }
   },
   "source": [
    "### Conducción de Calor\n",
    "**Definimos como *conducción de calor* al calor transferido a través de un material en reposo**. El mecanismo generalmente se asocia a **sólidos**, donde el calor es transferido a travéz de la red atómica del material. Sin embargo, la definición también incluye **líquidos y gases en reposo.** En este caso, las moléculas se mueven aleatoriamente, de manera tal que la velocidad neta del fluido es cero."
   ]
  },
  {
   "cell_type": "markdown",
   "id": "183006ce",
   "metadata": {
    "slideshow": {
     "slide_type": "fragment"
    }
   },
   "source": [
    "Matemáticamente, para un material de espesor $t$ y diferencia de temperatura $\\Delta T$, la **taza de transferencia de calor por conducción** a través de una superficie $A$, es:\n",
    "\n",
    "<img src=\"./images/heat_conduction_formula.png\" width=\"700px\" align= center>"
   ]
  },
  {
   "cell_type": "markdown",
   "id": "4fdfda8b",
   "metadata": {
    "slideshow": {
     "slide_type": "slide"
    }
   },
   "source": [
    "La conductividad térmica, $k_c$, es una propiedad del material que varía según la temperatura.\n",
    "\n",
    "<img src=\"./images/thermal_conductivity.png\" width=\"800px\" align= center>"
   ]
  },
  {
   "cell_type": "markdown",
   "id": "be69080c",
   "metadata": {
    "slideshow": {
     "slide_type": "slide"
    }
   },
   "source": [
    "En su forma diferencial, $\\dot{Q}_\\mathrm{cond}= - k\\nabla T$, y para el caso unidimensional:\n",
    "\n",
    "\\begin{equation}\n",
    "\\dot{Q}_\\mathrm{cond} = - kA\\frac{dT}{dx},\\quad\\mathrm{W}\n",
    "\\end{equation}"
   ]
  },
  {
   "cell_type": "markdown",
   "id": "ac955652",
   "metadata": {
    "slideshow": {
     "slide_type": "fragment"
    }
   },
   "source": [
    "A partir de esta fórmula podemos deducir expresiones para taza de transferencia de calor por conducción según la geometría:"
   ]
  },
  {
   "cell_type": "markdown",
   "id": "ec4af943",
   "metadata": {},
   "source": [
    "<img src=\"./images/heat_conduction_resistance.png\" width=\"600px\" align= center>"
   ]
  },
  {
   "cell_type": "markdown",
   "id": "bb05f7de",
   "metadata": {
    "slideshow": {
     "slide_type": "slide"
    }
   },
   "source": [
    "Notar que, como fórmula general, podemos expresar la taza de conducción de calor en la forma:\n",
    "\n",
    "\\begin{equation*}\n",
    "\\dot{Q}_\\mathrm{cond} = \\frac{T_H - T_C}{R_\\mathrm{cond}},\\quad\\mathrm{W}\n",
    "\\end{equation*}\n",
    "\n",
    "donde, $R_\\mathrm{cond}$ (K/W) es la **resistencia térmica** asociada al mecanismo de conducción."
   ]
  },
  {
   "cell_type": "markdown",
   "id": "bbea9efd",
   "metadata": {
    "slideshow": {
     "slide_type": "slide"
    }
   },
   "source": [
    "### Convección de Calor\n",
    "**Definimos como *convección de calor* al calor transferido a través de fluidos en movimiento.** El movimiento de un fluido puede ocurrir naturalmente, debido a los efectos de flotación a raíz de los cambio de densidad con la temperatura; o de forma inducida, como por ejemplo mediante un ventilador."
   ]
  },
  {
   "cell_type": "markdown",
   "id": "2f11707d",
   "metadata": {
    "cell_style": "split",
    "slideshow": {
     "slide_type": "fragment"
    }
   },
   "source": [
    "A partir de esto, clasificamos la transferencia de calor por convección, respectivamente, como:\n",
    "- **convección natural**\n",
    "- **convección forzada**."
   ]
  },
  {
   "cell_type": "markdown",
   "id": "335e9cda",
   "metadata": {
    "cell_style": "split",
    "slideshow": {
     "slide_type": "fragment"
    }
   },
   "source": [
    "<img src=\"./images/heat_convection_mechanism.png\" width=\"300px\" align= center>"
   ]
  },
  {
   "cell_type": "markdown",
   "id": "a11782b3",
   "metadata": {
    "slideshow": {
     "slide_type": "slide"
    }
   },
   "source": [
    "La convección de calor esta asociada al contacto de fluidos con una superficie, $A$. Así, independiente del mecanismo de convección de calor (natural o forzada), expresamos la **taza de transferencia de calor por convección** como:\n",
    "\n",
    "<img src=\"./images/heat_convection_formula.png\" width=\"700px\" align= center>"
   ]
  },
  {
   "cell_type": "markdown",
   "id": "322fa067",
   "metadata": {},
   "source": [
    "Notar que la taza de transferencia de calor por convección puede ser expresada en la forma:\n",
    "\n",
    "\\begin{equation*}\n",
    "\\dot{Q}_\\mathrm{conv} = \\frac{T_\\infty - T}{R_\\mathrm{conv}},\\quad\\mathrm{W}\n",
    "\\end{equation*}\n",
    "\n",
    "donde $R_\\mathrm{conv}=1/hA$ es la resistencia térmica asociada a la convección de calor."
   ]
  },
  {
   "cell_type": "markdown",
   "id": "983b6ab0",
   "metadata": {
    "slideshow": {
     "slide_type": "slide"
    }
   },
   "source": [
    "A diferencia de la conducción de calor, el coeficiente convectivo, $h$, **no es una propiedad del fluido**. Esto porque no solo depende de las propiedades del fluido (densidad, viscocidad y conductividad térmica, entre otras), sino que además depende de condiciones externas, como la velocidad del flujo, la diferencia de temperaturas, y la geometría del cuerpo sometido a convección de calor."
   ]
  },
  {
   "cell_type": "markdown",
   "id": "608df105",
   "metadata": {
    "slideshow": {
     "slide_type": "fragment"
    }
   },
   "source": [
    "El coeficiente convectivo se determina a partir de relaciones expresadas en términos del número de Nusselt, $\\mathrm{Nu} = \\frac{hL_c}{k_f}$, donde $L_c$ es una longitud característica y $k_f$ es la conductividad térmica del fluido. En la mayoría de los casos, las relaciones para el número de Nusselt para cada caso se determinan experimentalmente."
   ]
  },
  {
   "cell_type": "markdown",
   "id": "f73fe75a",
   "metadata": {
    "slideshow": {
     "slide_type": "fragment"
    }
   },
   "source": [
    "Comúnmente, los valores para el número de Nusselt se encuentran dentro de los siguientes rangos:\n",
    "\n",
    "- Convección forzada, $\\mathrm{Nu} \\sim 5 - 1000 $\n",
    "- Convección natural, $\\mathrm{Nu} \\sim 0 - 100$"
   ]
  },
  {
   "cell_type": "markdown",
   "id": "7d4df5f2",
   "metadata": {
    "slideshow": {
     "slide_type": "slide"
    }
   },
   "source": [
    "### Transferencia de calor en estado estacionario\n",
    "\n",
    "En estado estacionario, el flujo de calor es constante. En este caso, podemos simplificar el análisis de transferencia de calor por convección y conducción utilizando resistencias térmicas.\n",
    "\n",
    "<img src=\"./images/stationary_heat_transfer.png\" width=\"700px\" align= center>"
   ]
  },
  {
   "cell_type": "markdown",
   "id": "53ef8ae3",
   "metadata": {
    "slideshow": {
     "slide_type": "slide"
    }
   },
   "source": [
    "## Fundamentos de la radiación térmica\n",
    "\n",
    "Las vibraciones a nivel molecular también inducen polarización en la materia. Esto es similar al fenómeno de polarización inducida por ondas electromagnéticas estudiada en la unidad 3. Estos dipolos inducidos térmicamente, oscilan constantemente generando campos electromagnéticos que se propagan en dirección radial.\n",
    "\n",
    "<img src=\"./images/radiating_dipole.png\" width=\"700px\" align= center>"
   ]
  },
  {
   "cell_type": "markdown",
   "id": "767562ad",
   "metadata": {
    "slideshow": {
     "slide_type": "slide"
    }
   },
   "source": [
    "En la siguiente animación podemos ver el proceso de emisión de ondas electromagnéticas de un dipolo oscilatorio. El mapa de colores representa la intensidad del campo magnético, es decir $|\\vec{H}|$, donde rojo y azul corresponden, respectivamente, a los valorse máximos y mínimos.\n",
    "\n",
    "<img src=\"./images/HW_vertical_noground.gif\" width=\"300px\" align= center>"
   ]
  },
  {
   "cell_type": "markdown",
   "id": "7088a84b",
   "metadata": {
    "cell_style": "center",
    "slideshow": {
     "slide_type": "slide"
    }
   },
   "source": [
    "### Poder de emisión\n",
    "Un cuerpo a temperatura $T$ emite ondas electromagnéticas en todas las direcciones y en un espectro de longitudes de onda. En general, la distribución angular ($\\Omega$) y espectral ($\\lambda$) de la radiación emitida depende de las propiedades ópticas de la superficie y la temperatura del material. "
   ]
  },
  {
   "cell_type": "markdown",
   "id": "b364c7cf",
   "metadata": {
    "slideshow": {
     "slide_type": "fragment"
    }
   },
   "source": [
    "Para caracterizar la intensidad de la radiación emitida por una superficie a tempertura $T$, usamos la **intensidad específica o radiancia espectral**, $I_\\lambda(\\lambda,\\Omega,T)$."
   ]
  },
  {
   "cell_type": "markdown",
   "id": "09477f6e",
   "metadata": {
    "cell_style": "center",
    "slideshow": {
     "slide_type": "slide"
    }
   },
   "source": [
    "La taza de calor total emitido por una superficie $dA$ de un cuerpo negro en función de $\\lambda$ y $\\Omega$, $d\\dot{Q}_\\mathrm{rad}$, está dada por:\n",
    "\n",
    "\\begin{equation}\n",
    "d\\dot{Q}_\\mathrm{rad} = I_{\\lambda}(\\lambda,T,\\theta,\\phi) \\cos\\theta dA d\\Omega d\\lambda\n",
    "\\end{equation}"
   ]
  },
  {
   "cell_type": "markdown",
   "id": "f849cc9e",
   "metadata": {
    "cell_style": "split",
    "slideshow": {
     "slide_type": "fragment"
    }
   },
   "source": [
    "El término $\\cos\\theta dA$ corresponde a la proyección de $dA$ en la dirección $\\Omega$"
   ]
  },
  {
   "cell_type": "markdown",
   "id": "d3b63571",
   "metadata": {
    "cell_style": "split"
   },
   "source": [
    "<img src=\"./images/specific_intensity.png\" width=\"300px\" align= center>"
   ]
  },
  {
   "cell_type": "markdown",
   "id": "891a8504",
   "metadata": {
    "cell_style": "center",
    "slideshow": {
     "slide_type": "slide"
    }
   },
   "source": [
    "Definimos como **poder de emisión direccional espectral** a la relación:\n",
    "\n",
    "\\begin{equation}\n",
    "E_{\\lambda,\\Omega}(T) = \\frac{d\\dot{Q}_\\mathrm{rad}}{dAd\\Omega d\\lambda}=I_{\\lambda}(\\lambda,\\Omega)\\cos\\theta ,\\quad\\quad\\frac{\\mathrm{W}}{\\mathrm{m}^2\\cdot\\mu\\mathrm{m}\\cdot\\mathrm{sr}}\n",
    "\\end{equation}"
   ]
  },
  {
   "cell_type": "markdown",
   "id": "ec272999",
   "metadata": {
    "slideshow": {
     "slide_type": "fragment"
    }
   },
   "source": [
    "A diferencia de la intensidad específica, el poder de emisión considera la radiación effectiva emitida por una superficie."
   ]
  },
  {
   "cell_type": "markdown",
   "id": "3c1cf7c2",
   "metadata": {},
   "source": [
    "<img src=\"./images/emissive_power.png\" width=\"500px\" align= center>"
   ]
  },
  {
   "cell_type": "markdown",
   "id": "ad56f5b7",
   "metadata": {
    "slideshow": {
     "slide_type": "slide"
    }
   },
   "source": [
    "A partir de este término podemos derivar:"
   ]
  },
  {
   "cell_type": "markdown",
   "id": "c62c0cc6",
   "metadata": {
    "slideshow": {
     "slide_type": "fragment"
    }
   },
   "source": [
    "- **Poder de emisión hemisférica espectral**, \n",
    "\n",
    "\\begin{align*}\n",
    "E_{\\lambda}(T) = \\frac{d\\dot{Q}}{dA d\\lambda} &= \\int_0^{2\\pi}\\int_0^{\\pi/2}I_{\\lambda}(\\lambda,\\Omega)\\cos\\theta~\\sin\\theta  d\\theta d\\phi\n",
    "  \\\\ \n",
    "  &=\\int_\\mathrm{hemi} I_{\\lambda}(\\lambda,\\Omega)\\cos\\theta~d\\Omega\n",
    "  ,\\quad\\quad\\frac{\\mathrm{W}}{\\mathrm{m}^2\\cdot\\mu\\mathrm{m}}\n",
    "\\end{align*}"
   ]
  },
  {
   "cell_type": "markdown",
   "id": "a9a23a55",
   "metadata": {
    "slideshow": {
     "slide_type": "fragment"
    }
   },
   "source": [
    "- **Poder de emisión direccional total**,\n",
    "\n",
    "\\begin{equation*}\n",
    "E_\\Omega(T) = \\frac{d\\dot{Q}}{dAd\\Omega}=\\cos\\theta \\int_0^\\infty~ I_{\\lambda}(\\lambda,\\Omega)~d\\lambda  ,\\quad\\quad\\frac{\\mathrm{W}}{\\mathrm{m}^2 \\cdot\\mathrm{sr}}\n",
    "\\end{equation*}"
   ]
  },
  {
   "cell_type": "markdown",
   "id": "4c94bf8c",
   "metadata": {
    "slideshow": {
     "slide_type": "fragment"
    }
   },
   "source": [
    "- **Poder de emisión hemisfética total**, \n",
    "\n",
    "\\begin{equation*}\n",
    "E(T) = \\frac{d\\dot{Q}}{dA}=\\int_0^\\infty\\int_\\mathrm{hemi}I_{\\lambda}(\\lambda,\\Omega)\\cos\\theta~d\\Omega d\\lambda ,\\quad\\quad\\frac{\\mathrm{W}}{\\mathrm{m}^2}\n",
    "\\end{equation*}"
   ]
  },
  {
   "cell_type": "markdown",
   "id": "b670c6be",
   "metadata": {
    "slideshow": {
     "slide_type": "slide"
    }
   },
   "source": [
    "### Distribución de Planck\n",
    "\n",
    "Max Planck en 1901 determinó que la **máxima radiancia espectral o intensidad específica** (flujo de energía por unidad de longitud de onda y ángulo sólido) emitida por un cuerpo a temperatura $T$, en un medio con índice de refracción $n_1$, está dada por:\n",
    "\n",
    "\\begin{equation}\n",
    "I_{\\mathrm{bb},\\lambda}(\\lambda,T) = \\frac{C_1}{n_1\\lambda^5\\left[\\exp\\left(C_2/\\lambda T\\right) - 1\\right]},\\quad\\quad\\frac{\\mathrm{W}}{\\mathrm{m}^2\\cdot\\mu\\mathrm{m}\\cdot\\mathrm{sr}}\n",
    "\\end{equation}\n",
    "\n",
    "donde \n",
    "\\begin{align*}\n",
    "C_1 &= 2hc_0^2 = 1.19104238\\times 10^8 ~\\mathrm{W}\\cdot\\mu\\mathrm{m}^4/\\mathrm{m}^2 \\\\\n",
    "C_2 &= hc_0/k_\\mathrm{B} = 1.43878\\times10^{4}~\\mu\\mathrm{m}\\cdot\\mathrm{K}\n",
    "\\end{align*}\n",
    "\n",
    "$k_\\mathrm{B} = 1.381\\times 10^{-23}$ J/K $=8.617\\times 10^{-5}$ eV/K, es la constante de Boltzmann. La unidad \"sr\" correponde a un esteroradian."
   ]
  },
  {
   "cell_type": "markdown",
   "id": "4e04c610",
   "metadata": {
    "slideshow": {
     "slide_type": "fragment"
    }
   },
   "source": [
    "Esta es la **distribución de Planck**. Representa la radiancia espectral emitida por un cuerpo idealizado, denominado **cuerpo negro**. Un cuerpo negro, así, representa un emisor perfecto, capaz de emitir la máxima radiacion posible a una temperatura $T$."
   ]
  },
  {
   "cell_type": "markdown",
   "id": "513d759b",
   "metadata": {
    "slideshow": {
     "slide_type": "slide"
    }
   },
   "source": [
    "El poder de emisión hemisférico espectral de la superficie de un cuerpo negro, $E_\\mathrm{bb}(\\lambda,T)$, se obtiene integrando la radiancia espectral por ángulo sólido en el límite de una hemiesfera:\n",
    "\n",
    "\\begin{equation}\n",
    "\\int_\\mathrm{hemi} I_{\\mathrm{bb},\\lambda}(\\lambda,T)\\cos\\theta d\\Omega = \\pi I_{\\mathrm{bb},\\lambda}(\\lambda,T) = E_{\\mathrm{bb},\\lambda}(\\lambda,T),\\quad\\quad\\frac{\\mathrm{W}}{\\mathrm{m}^2\\cdot\\mu\\mathrm{m}}\n",
    "\\end{equation}"
   ]
  },
  {
   "cell_type": "markdown",
   "id": "3cbf0ea5",
   "metadata": {
    "slideshow": {
     "slide_type": "fragment"
    }
   },
   "source": [
    "A partir de la integral de $E_\\mathrm{bb}(\\lambda,T)$ en el espectro de longitudes de onda, obtenemos el poder de emisión hemisferico total de un cuerpo negro:\n",
    "\n",
    "\\begin{equation}\n",
    "\\int_0^\\infty E_{\\mathrm{bb},\\lambda}(\\lambda,T) d\\lambda = \\sigma T^4,\\quad\\quad\\frac{\\mathrm{W}}{\\mathrm{m}^2}\n",
    "\\end{equation}\n",
    "\n",
    "donde $\\sigma = 5.670\\times10^{-8}$ W/m$^2\\cdot$K$^4$, es la *constante de Stefan-Boltzmann.* Esta fórmula se conoce como la **ley de Stefan-Boltzmann**"
   ]
  },
  {
   "cell_type": "markdown",
   "id": "18b26d00",
   "metadata": {
    "slideshow": {
     "slide_type": "slide"
    }
   },
   "source": [
    "En la siguiente figura, se ilustra $E_{\\mathrm{bb},\\lambda}(\\lambda,T)$ función de la temperatura y longitud de onda.\n"
   ]
  },
  {
   "cell_type": "markdown",
   "id": "0c94c575",
   "metadata": {},
   "source": [
    "<img src=\"./images/blackbody_rad.png\" width=\"700px\" align= center>"
   ]
  },
  {
   "cell_type": "markdown",
   "id": "8eb1ce9b",
   "metadata": {
    "slideshow": {
     "slide_type": "slide"
    }
   },
   "source": [
    "A medida que $T$ aumenta, notamos que el máximo de la curva se desplaza hacia el azul. La longitud de onda correspondiente a este máximo, $\\lambda_\\mathrm{peak}$, está definida por la **ley de desplazamiento de Wien:**\n",
    "\n",
    "\\begin{equation}\n",
    "\\lambda_\\mathrm{peak}T = 2897.8\\quad\\mu\\mathrm{m}\\cdot\\mathrm{K}\n",
    "\\end{equation}\n"
   ]
  },
  {
   "cell_type": "markdown",
   "id": "26d022df",
   "metadata": {
    "slideshow": {
     "slide_type": "fragment"
    }
   },
   "source": [
    "Esta relación permite entender el cambio de color de la fuente emisora con la tempertura."
   ]
  },
  {
   "cell_type": "markdown",
   "id": "441619f6",
   "metadata": {
    "slideshow": {
     "slide_type": "fragment"
    }
   },
   "source": [
    "Recordemos, sin embargo,  que **el color de un material no solo se define por la emisión de radiación, sino también por la forma en la que interactúa con la luz incidente**. Como revisamos en las unidades anteriores, esta interacción está condionada por las propiedades radiativas."
   ]
  },
  {
   "cell_type": "markdown",
   "id": "da43fbee",
   "metadata": {
    "slideshow": {
     "slide_type": "slide"
    }
   },
   "source": [
    "### Propiedades Radiativas\n",
    "\n",
    "Definimos como **emisividad direccional espectral, $\\epsilon_{\\lambda,\\Omega}$,** a la *razón entre la radiación emitida por una superficie, $I_\\lambda(\\lambda,T,\\Omega)$, y la radiación emitida por un cuerpo negro, ambas a temperatura $T$*:\n",
    "\n",
    "\\begin{equation}\n",
    "\\epsilon_{\\lambda,\\Omega} = \\frac{I_\\lambda(\\lambda,T,\\Omega)}{I_{\\mathrm{bb},\\lambda}(\\lambda,T,\\Omega)}\n",
    "\\end{equation}\n",
    "\n",
    "De esta forma, $\\epsilon$ es una propiedad adimensional de superfice que varía entre $0 \\le \\epsilon \\le 1$."
   ]
  },
  {
   "cell_type": "markdown",
   "id": "819d0302",
   "metadata": {
    "slideshow": {
     "slide_type": "fragment"
    }
   },
   "source": [
    "Definimos como **absortividad direccional espectral, $A_{\\lambda,\\Omega}$,** a la *porción de radiación incidente que es absorbida por una superficie*. Igualmente, $0 \\le A_{\\lambda,\\Omega} \\le 1$."
   ]
  },
  {
   "cell_type": "markdown",
   "id": "64a21ba8",
   "metadata": {
    "slideshow": {
     "slide_type": "slide"
    }
   },
   "source": [
    "A través de la **ley de Kirchhoff**, podemos establecer una relación entre la absortancia y emisividad espectral direccional:\n",
    "\n",
    "\\begin{equation}\n",
    "\\epsilon_{\\lambda,\\Omega} = A_{\\lambda,\\Omega}\n",
    "\\end{equation}"
   ]
  },
  {
   "cell_type": "markdown",
   "id": "5dd135bb",
   "metadata": {
    "slideshow": {
     "slide_type": "fragment"
    }
   },
   "source": [
    "En otras palabras, las propiedades de un material como receptor o emisor de radiación, son iguales. Este concepto, denominado *reciprocidad*, es consecuencia de las ecuaciones de Maxwell y es la base fundamental para el diseño de antenas y radares."
   ]
  },
  {
   "cell_type": "markdown",
   "id": "1f3f624f",
   "metadata": {
    "slideshow": {
     "slide_type": "slide"
    }
   },
   "source": [
    "Por conservación de energía:\n",
    "\\begin{equation}\n",
    "A_{\\lambda,\\Omega} + R_{\\lambda,\\Omega} + T_{\\lambda,\\Omega} = 1\n",
    "\\end{equation}\n"
   ]
  },
  {
   "cell_type": "markdown",
   "id": "c03d9fac",
   "metadata": {
    "slideshow": {
     "slide_type": "fragment"
    }
   },
   "source": [
    "donde $R_{\\lambda,\\Omega}$ y $T_{\\lambda,\\Omega}$ son, respectivamente, la reflectividad y transmisividad espectral direccional del material"
   ]
  },
  {
   "cell_type": "markdown",
   "id": "d93dacf1",
   "metadata": {
    "slideshow": {
     "slide_type": "fragment"
    }
   },
   "source": [
    "Debido a la naturaleza de la radiación térmica, la polarización de las ondas electromagnéticas es aleatoria. Así, $R_{\\lambda,\\Omega}$ y $T_{\\lambda,\\Omega}$ se calculan como:\n",
    "\n",
    "\\begin{equation}\n",
    "R_{\\lambda,\\Omega} = \\frac{R_{\\lambda,\\Omega}^\\mathrm{TM}+R_{\\lambda,\\Omega}^\\mathrm{TE}}{2}\\quad\\quad\n",
    "T_{\\lambda,\\Omega} = \\frac{T_{\\lambda,\\Omega}^\\mathrm{TM}+T_{\\lambda,\\Omega}^\\mathrm{TE}}{2}\n",
    "\\end{equation}"
   ]
  },
  {
   "cell_type": "markdown",
   "id": "1b34032f",
   "metadata": {
    "slideshow": {
     "slide_type": "fragment"
    }
   },
   "source": [
    "A partir de estas relaciones podemos determinar $\\epsilon_{\\lambda,\\Omega}$."
   ]
  },
  {
   "cell_type": "markdown",
   "id": "048661b3",
   "metadata": {
    "slideshow": {
     "slide_type": "slide"
    }
   },
   "source": [
    "Cabe mencionar que en textos de radiometría y transferencia de calor, la reflectividad y transmisividad se denominan, respectivamente, **reflectancia ($\\rho$)**, **transmitancia ($\\tau$).** Igualmente la absortividad se denomina **absortancia ($\\alpha$).** Ambos términos son equivalentes."
   ]
  },
  {
   "cell_type": "markdown",
   "id": "51fbf681",
   "metadata": {
    "slideshow": {
     "slide_type": "fragment"
    }
   },
   "source": [
    "En este curso, seguiremos utilizando los términos y notación de óptica, es decir $R_{\\lambda,\\Omega}$, $T_{\\lambda,\\Omega}$ y $A_{\\lambda,\\Omega}$, para evitar confusiones. "
   ]
  },
  {
   "cell_type": "markdown",
   "id": "4d61c797",
   "metadata": {
    "slideshow": {
     "slide_type": "slide"
    }
   },
   "source": [
    "Como ejemplo, analicemos el poder de emisión espectral direccional, $E_{\\lambda,\\Omega}(T)$ y la emisividad $\\epsilon(\\lambda,\\Omega)$ de una capa de vidrio en función de la temperatura ($T$), espesor ($d$) y dirección ($\\theta$). En este caso: \n",
    "\n",
    "\\begin{align*}\n",
    "E_{\\lambda,\\Omega}(T) &= \\epsilon(\\lambda,\\Omega)I_{\\mathrm{bb},\\lambda}(\\lambda,\\Omega,T)\\cos\\theta \\\\[10pt]\n",
    " &= \\left[1 - R_{\\lambda,\\Omega} - T_{\\lambda,\\Omega}\\right]I_{\\mathrm{bb},\\lambda}(\\lambda,\\Omega,T)\\cos\\theta\n",
    "\\end{align*}"
   ]
  },
  {
   "cell_type": "markdown",
   "id": "e04ec37d",
   "metadata": {
    "slideshow": {
     "slide_type": "slide"
    }
   },
   "source": [
    "Antes, analicemos el índice de refracción del vidrio (sílicice, SiO$_2$), en el espectro $\\lambda\\in[0.3,15]$ $\\mu$m."
   ]
  },
  {
   "cell_type": "code",
   "execution_count": 1,
   "id": "e34559d2",
   "metadata": {
    "cell_style": "split",
    "slideshow": {
     "slide_type": "fragment"
    },
    "tags": [
     "hide-input"
    ]
   },
   "outputs": [],
   "source": [
    "%%capture showplot\n",
    "import numpy as np\n",
    "import empylib.nklib as nk\n",
    "import matplotlib.pyplot as plt\n",
    "\n",
    "lam = np.linspace(0.3,15,100) #longitud de onda en um\n",
    "plt.plot(lam,nk.SiO2(lam).real,'-r',label='$n$')\n",
    "plt.plot(lam,nk.SiO2(lam).imag,'-b',label='$\\kappa$')\n",
    "plt.xlabel('Longitud de onda, $\\lambda$ ($\\mu$m)',fontsize=16)\n",
    "plt.ylabel('$n$, $\\kappa$',fontsize=16)\n",
    "plt.title('Índice de refracción SiO$_2$',fontsize=18)\n",
    "plt.legend(frameon=False,fontsize=16)\n",
    "plt.tick_params(labelsize=16)"
   ]
  },
  {
   "cell_type": "code",
   "execution_count": 2,
   "id": "20435072",
   "metadata": {
    "cell_style": "split"
   },
   "outputs": [
    {
     "data": {
      "image/png": "[encoded data removed]",
      "text/plain": [
       "<Figure size 432x288 with 1 Axes>"
      ]
     },
     "metadata": {
      "filenames": {
       "image/png": "/mnt/c/Users/francisco.ramirez.c/OneDrive - Universidad Adolfo Ibanez/Teaching_courses/MEC501 - Manejo_y_Conversion_Energia_Solar_Termica/material_catedra/_build/jupyter_execute/06_RadiacionTermica/06_RadiacionTermica_63_0.png"
      },
      "needs_background": "light"
     },
     "output_type": "display_data"
    }
   ],
   "source": [
    "showplot()"
   ]
  },
  {
   "cell_type": "markdown",
   "id": "89749a31",
   "metadata": {
    "slideshow": {
     "slide_type": "fragment"
    }
   },
   "source": [
    "Comparamos $E_{\\lambda,\\Omega}(T)$ con el poder de emisión espectral direccional del cuerpo negro, $E_{\\mathrm{bb},\\lambda,\\Omega} = I_{\\mathrm{bb},\\lambda}\\cos\\theta$"
   ]
  },
  {
   "cell_type": "code",
   "execution_count": 3,
   "id": "f24c88be",
   "metadata": {
    "slideshow": {
     "slide_type": "slide"
    },
    "tags": [
     "hide-input"
    ]
   },
   "outputs": [],
   "source": [
    "import empylib.waveoptics as wv\n",
    "import empylib.nklib as nk\n",
    "import numpy as np\n",
    "from numpy import log10, radians, cos\n",
    "import matplotlib.pyplot as plt\n",
    "from empylib.ref_spectra import Bplanck\n",
    "\n",
    "def plot_emisivity_glass(Temp,d,lam0,theta0):\n",
    "    # PARAMETROS DE ENTRADA\n",
    "    lam = np.linspace(0.3,15,100)\n",
    "    Nfront = 1.0                 # índice de refracción medio superior\n",
    "    N1     = nk.SiO2(lam)        # índice de refracción capa intermedia\n",
    "    Nback  = 4.3                 # índice de refracción medio inferior\n",
    "    N = (Nfront, N1, Nback)      # indices de refracción (above, mid, below)\n",
    "    #-------------------------------------------------------------------------\n",
    "\n",
    "    # CÁLCULO DE VARIABLES\n",
    "    # 1. Reflectancia y transmitancia esp ectral en theta0\n",
    "    Rs, Ts = wv.incoh_multilayer(lam,radians(theta0), N, d*1E3, pol='TM')\n",
    "    Rp, Tp = wv.incoh_multilayer(lam,radians(theta0), N, d*1E3, pol='TE')\n",
    "    \n",
    "    R_lam = (Rs + Rp)/2\n",
    "    T_lam = (Ts + Tp)/2\n",
    "    A_lam = 1 - T_lam - R_lam  # absortancia espectral\n",
    "    \n",
    "   # 2. Reflectancia y transmitancia direccional en lam0\n",
    "    theta = np.linspace(0,90,100)\n",
    "    N = (Nfront, nk.SiO2(lam0), Nback) # indices de refracción (above, mid, below)\n",
    "    \n",
    "    A_theta = [] # generamos la absortancia direccional en este loop\n",
    "    for theta_i in theta:\n",
    "        Rs, Ts = wv.incoh_multilayer(lam0,radians(theta_i), N, d*1E3, pol='TM')\n",
    "        Rp, Tp = wv.incoh_multilayer(lam0,radians(theta_i), N, d*1E3, pol='TE')\n",
    "        R = (Rs + Rp)/2\n",
    "        T = (Ts + Tp)/2\n",
    "        A_theta.append(1 - T - R)\n",
    "    A_theta = np.array(A_theta).flatten() # convertimos la lista a ndarray\n",
    "    \n",
    "    # 3. Poder de emisión direccional espectral\n",
    "    E_lam = A_lam*Bplanck(lam,Temp)*cos(radians(theta0)) # poder de emisión material\n",
    "    E_bb  =       Bplanck(lam,Temp)*cos(radians(theta0)) # poder de emisión de cuerpo negro\n",
    "    #-------------------------------------------------------------------------\n",
    "    \n",
    "    # GRAFICAMOS RESULTADOS.\n",
    "    fig, ax = plt.subplots(1,3)             # 3 ejes\n",
    "    fig.set_size_inches(16, 5)              # Tamaño de figura\n",
    "    \n",
    "    # 1. Propiedades radiativas direccional espectral para theta0\n",
    "    ax[0].plot(lam,R_lam,'--r',label=r'$R_{\\lambda,\\Omega}$',linewidth=0.5)\n",
    "    ax[0].plot(lam,T_lam,'--b',label=r'$T_{\\lambda,\\Omega}$',linewidth=0.5)\n",
    "    ax[0].plot(lam,A_lam,'-k',label=r'$A_{\\lambda,\\Omega}$',linewidth=2.0)  \n",
    "    ax[0].plot(lam0,np.interp(lam0,lam,A_lam),'or',ms=8.0)   \n",
    "    ax[0].set_xlabel('$\\lambda$ ($\\mu$m)',fontsize=18)\n",
    "    ax[0].set_ylabel(r'$R_{\\lambda,\\Omega}$, $T_{\\lambda,\\Omega}$ y $A_{\\lambda,\\Omega}$',fontsize=18)\n",
    "    ax[0].set_ylim(0,1.05)\n",
    "    ax[0].set_title(r'$\\theta = $ %i°' % theta0,fontsize=18)\n",
    "    ax[0].legend(fontsize=16, loc='lower right')\n",
    "    ax[0].tick_params(labelsize=16)\n",
    "    \n",
    "    # 2. Emisividad direccional espectral para lam0\n",
    "    ax[1].plot(theta,A_theta,'-k')  \n",
    "    ax[1].plot(theta0,np.interp(theta0,theta,A_theta),'or',ms=8.0)   \n",
    "    ax[1].set_xlabel(r'$\\theta$ (deg)',fontsize=18)\n",
    "    ax[1].set_ylabel(r'$\\epsilon_{\\lambda,\\Omega}(\\theta)$',fontsize=18)\n",
    "    ax[1].set_title(r'$\\lambda = $ %.2f $\\mu$m' % lam0,fontsize=18)\n",
    "    ax[1].set_ylim(0,1.05)\n",
    "    ax[1].tick_params(labelsize=16)\n",
    "    \n",
    "    # 3. Poder de emisión direccional espectral para theta0\n",
    "    ax[2].plot(lam,E_lam,'-k',label =r'$E_{\\lambda,\\Omega}$')\n",
    "    ax[2].plot(lam,E_bb,'-r',label =r'$E_\\mathrm{bb}$') \n",
    "    ax[2].plot(lam0,np.interp(lam0,lam,E_lam),'or',ms=8.0)   \n",
    "    ax[2].set_xlabel('Longitud de onda ($\\mu$m)',fontsize=18)\n",
    "    ax[2].set_ylabel(r'$E_{\\lambda,\\Omega}$(T) (W/m$^2$-$\\mu$m-sr)',fontsize=18)\n",
    "    ax[2].set_title(r'd = %.2f mm, $\\theta$=%i°' % (d,theta0) ,fontsize=18)\n",
    "    ax[2].set_ylim(0,max(Bplanck(lam,Temp))*1.05)\n",
    "    ax[2].legend(fontsize=16)\n",
    "    ax[2].tick_params(labelsize=16)\n",
    "    \n",
    "    plt.subplots_adjust(wspace=0.30)\n",
    "    plt.show()"
   ]
  },
  {
   "cell_type": "code",
   "execution_count": 4,
   "id": "8e3af1c4",
   "metadata": {
    "slideshow": {
     "slide_type": "slide"
    }
   },
   "outputs": [
    {
     "data": {
      "application/vnd.jupyter.widget-view+json": {
       "model_id": "018419354da74326bd411b790f2d49ee",
       "version_major": 2,
       "version_minor": 0
      },
      "text/plain": [
       "interactive(children=(IntSlider(value=300, description='T', max=1000, min=300, step=10), FloatSlider(value=1.0…"
      ]
     },
     "metadata": {},
     "output_type": "display_data"
    }
   ],
   "source": [
    " from ipywidgets import interact\n",
    "\n",
    "@interact(T=(300,1000,10), d=(0,10,0.01), lam0=(5,10,0.01), theta0=(0,90,1))\n",
    "def g(T=300,d=1, lam0=10, theta0=0):\n",
    "    return plot_emisivity_glass(T,d,lam0,theta0)"
   ]
  },
  {
   "cell_type": "markdown",
   "id": "1071c1d3",
   "metadata": {
    "slideshow": {
     "slide_type": "slide"
    }
   },
   "source": [
    "Al igual que con el poder de emisión, la emisividad puede también ser definida de forma hemisférica (integración por ángulo sólido) o total (integración por longitudes de onda)"
   ]
  },
  {
   "cell_type": "markdown",
   "id": "67f1a8ba",
   "metadata": {
    "slideshow": {
     "slide_type": "fragment"
    }
   },
   "source": [
    "**Emisividad direccional total**\n",
    "\\begin{equation}\n",
    "\\epsilon_\\Omega(\\Omega,T) = \\frac{E_\\Omega(T)}{E_{\\Omega,bb}(T)} =\\frac{\\int_0^\\infty \\epsilon_{\\lambda,\\Omega} I_{\\mathrm{bb},\\lambda} (T)\\cos\\theta~d\\lambda}{\\int_0^\\infty I_{\\mathrm{bb},\\lambda} (T)\\cos\\theta~d\\lambda} = \\frac{\\pi}{\\sigma T^4}\\int_0^\\infty \\epsilon_{\\lambda,\\Omega} I_{\\mathrm{bb},\\lambda} (T)~d\\lambda\n",
    "\\end{equation}"
   ]
  },
  {
   "cell_type": "markdown",
   "id": "6e8b85fd",
   "metadata": {
    "slideshow": {
     "slide_type": "fragment"
    }
   },
   "source": [
    "**Emisividad hemisférica espectral**\n",
    "\\begin{equation}\n",
    "\\epsilon_\\lambda(\\lambda) = \\frac{E_\\lambda(T)}{E_{\\lambda,bb}(T)} = \\frac{\\int_\\mathrm{hemi}\\epsilon_{\\lambda,\\Omega}I_{\\mathrm{bb},\\lambda}(T)\\cos\\theta~d\\Omega}{\\pi I_{\\mathrm{bb},\\lambda}(T)}  = \\frac{1}{\\pi}\\int_\\mathrm{hemi}\\epsilon_{\\lambda,\\Omega}\\cos\\theta~d\\Omega\n",
    "\\end{equation}"
   ]
  },
  {
   "cell_type": "markdown",
   "id": "7af36cfb",
   "metadata": {
    "slideshow": {
     "slide_type": "fragment"
    }
   },
   "source": [
    "**Emisividad hemisférica total**\n",
    "\\begin{equation}\n",
    "\\epsilon(T) = \\frac{E(T)}{\\sigma T^4} =\\frac{1}{\\sigma T^4}\\int\\int_0^\\infty \\epsilon_{\\lambda,\\Omega} I_{\\mathrm{bb},\\lambda} (T)\\cos\\theta~d\\lambda~d\\Omega\n",
    "\\end{equation}"
   ]
  },
  {
   "cell_type": "markdown",
   "id": "041e5c23",
   "metadata": {
    "slideshow": {
     "slide_type": "slide"
    }
   },
   "source": [
    "Notar que las valores totales (integración en el espectro), implícitamente dependen de $T$ debido al factor $\\sigma T^4$."
   ]
  },
  {
   "cell_type": "markdown",
   "id": "42cb2a6f",
   "metadata": {
    "slideshow": {
     "slide_type": "slide"
    }
   },
   "source": [
    "### Materiales idealizados"
   ]
  },
  {
   "cell_type": "markdown",
   "id": "250a53e9",
   "metadata": {
    "slideshow": {
     "slide_type": "fragment"
    }
   },
   "source": [
    "- Decimos que una superficie es **difusa** cuando sus propiedades radiativas no dependen de $\\Omega$. Es práctica común suponer que las superficies son emisores difusos, con una emisividad igual al valor de la dirección normal ($\\theta = 0$)."
   ]
  },
  {
   "cell_type": "markdown",
   "id": "61822fca",
   "metadata": {
    "slideshow": {
     "slide_type": "fragment"
    }
   },
   "source": [
    "- Decimos que una superficie es **gris** cuando la emisividad es independiente de $\\lambda$."
   ]
  },
  {
   "cell_type": "markdown",
   "id": "55b28916",
   "metadata": {
    "slideshow": {
     "slide_type": "fragment"
    }
   },
   "source": [
    "- Decimos que una superficie es **opaca** cuando $T_{\\lambda,\\Omega} = 0$. En este caso, \n",
    "tenemos $A_{\\lambda,\\Omega} + R_{\\lambda,\\Omega} = 1$"
   ]
  },
  {
   "cell_type": "markdown",
   "id": "0107051b",
   "metadata": {
    "slideshow": {
     "slide_type": "fragment"
    }
   },
   "source": [
    "- En el caso de **gases**, $R_{\\lambda,\\Omega} \\approx 0$, así $A_{\\lambda,\\Omega} + T_{\\lambda,\\Omega} = 1$"
   ]
  },
  {
   "cell_type": "markdown",
   "id": "4a494870",
   "metadata": {
    "slideshow": {
     "slide_type": "slide"
    }
   },
   "source": [
    "### Irradiancia (G) y Radiosidad (J)"
   ]
  },
  {
   "cell_type": "markdown",
   "id": "fbc52f8b",
   "metadata": {
    "cell_style": "split",
    "slideshow": {
     "slide_type": "fragment"
    }
   },
   "source": [
    "Definimos como **irradiación espectral direccional, $G_{\\lambda,\\Omega}$** a la radiancia espectral incidente en una superficie.\n",
    "\n",
    "<img src=\"./images/irradiance.png\" width=\"300px\" align= center>"
   ]
  },
  {
   "cell_type": "markdown",
   "id": "ee20e9bd",
   "metadata": {
    "cell_style": "split",
    "slideshow": {
     "slide_type": "fragment"
    }
   },
   "source": [
    "Matemáticamente:\n",
    "\n",
    "\\begin{equation}\n",
    "G_{\\lambda,\\Omega} = I_i(\\lambda,\\Omega) \\cos\\theta\\quad\\frac{\\mathrm{W}}{\\mathrm{m}^2}\n",
    "\\end{equation}\n",
    "\n",
    "donde $I_i$ es la radiancia espectral incidente sobre una superficie $dA$"
   ]
  },
  {
   "cell_type": "markdown",
   "id": "04ee6eb9",
   "metadata": {
    "slideshow": {
     "slide_type": "slide"
    }
   },
   "source": [
    "Definimos como **radiosidad, $J_{\\lambda,\\Omega}$** a la combinación de radiación emitida y reflejada por una superficie"
   ]
  },
  {
   "cell_type": "markdown",
   "id": "bae8d429",
   "metadata": {
    "cell_style": "split",
    "slideshow": {
     "slide_type": "-"
    }
   },
   "source": [
    "\n",
    "<img src=\"./images/radiosity.png\" width=\"250px\" align= center>"
   ]
  },
  {
   "cell_type": "markdown",
   "id": "23a0cca5",
   "metadata": {
    "cell_style": "split",
    "slideshow": {
     "slide_type": "fragment"
    }
   },
   "source": [
    "Matemáticamente:\n",
    "\\begin{equation}\n",
    "J_{\\lambda,\\Omega} = R_{\\lambda,\\Omega}G_{\\lambda,\\Omega}+E_{\\lambda,\\Omega}\n",
    "\\end{equation}"
   ]
  },
  {
   "cell_type": "markdown",
   "id": "0fc1336c",
   "metadata": {
    "slideshow": {
     "slide_type": "fragment"
    }
   },
   "source": [
    "Al igual que con el poder de emisión, la irradiancia ($G_{\\lambda,\\Omega}$) y la radiosidad ($J_{\\lambda,\\Omega}$) pueden ser definidas de forma hemisférica (integrando por ángulo sólido) o total (integrando por longitud de onda)."
   ]
  },
  {
   "cell_type": "markdown",
   "id": "7c66c252",
   "metadata": {},
   "source": [
    "## Transferencia de calor por radiación"
   ]
  },
  {
   "cell_type": "markdown",
   "id": "4d97cde2",
   "metadata": {
    "slideshow": {
     "slide_type": "slide"
    }
   },
   "source": [
    "### Factor de visión para superficies difusas\n",
    "La transferencia de calor por radiación depende de la orientación relativa entre las superficies."
   ]
  },
  {
   "cell_type": "markdown",
   "id": "a9c57dec",
   "metadata": {
    "slideshow": {
     "slide_type": "fragment"
    }
   },
   "source": [
    "En general, este análisis es complejo ya que requiere integración por ángulo sólido considerando factores geométricos y dependencia de las propiedades radiativas con la orientación. En el caso de superficies difusas, sin embargo, podemos simplificar el análisis considerando sólamente los aspectos geométricos."
   ]
  },
  {
   "cell_type": "markdown",
   "id": "24d32a93",
   "metadata": {
    "slideshow": {
     "slide_type": "slide"
    }
   },
   "source": [
    "Consideremos el parámetro,  $\\dot{Q}_{dA_1\\rightarrow dA_2}$, que representa la radiación espectral emitida por una superficie $dA_1$ que incide sobre una superficie $dA_2$."
   ]
  },
  {
   "cell_type": "markdown",
   "id": "2361fe98",
   "metadata": {
    "cell_style": "split",
    "slideshow": {
     "slide_type": "fragment"
    }
   },
   "source": [
    "\n",
    "<img src=\"./images/vision_factor.png\" width=\"250px\" align= center>"
   ]
  },
  {
   "cell_type": "markdown",
   "id": "551f2ce3",
   "metadata": {
    "cell_style": "split",
    "slideshow": {
     "slide_type": "-"
    }
   },
   "source": [
    "\\begin{equation*}\n",
    "dQ_{dA_1\\rightarrow dA_2} = I_{\\mathrm{bb},\\lambda}(T_1)\\cos\\theta_1 dA_1 d\\Omega_{12}\n",
    "\\end{equation*}"
   ]
  },
  {
   "cell_type": "markdown",
   "id": "8d71c791",
   "metadata": {
    "cell_style": "split",
    "slideshow": {
     "slide_type": "fragment"
    }
   },
   "source": [
    "A través de la relación $r^2 d\\Omega_{12} = \\cos\\theta_2 dA_2$, podemos determinar:\n",
    "\n",
    "\\begin{equation*}\n",
    "\\dot{Q}_{dA_1\\rightarrow dA_2} = I_{\\mathrm{bb},\\lambda}(T_1) \\frac{\\cos\\theta_1 \\cos\\theta_2}{r^2 }dA_1dA_2\n",
    "\\end{equation*}"
   ]
  },
  {
   "cell_type": "markdown",
   "id": "f892a331",
   "metadata": {
    "slideshow": {
     "slide_type": "slide"
    }
   },
   "source": [
    "La radiación total espectral que incide sobre la superficie $A_2$, es:\n",
    "\n",
    "\\begin{equation*}\n",
    "\\dot{Q}_{A_1\\rightarrow A_2} = \\int_{A_1}\\int_{A_1}I_{\\mathrm{bb},\\lambda}(T_1) \\frac{\\cos\\theta_1 \\cos\\theta_2}{r^2 }dA_1dA_2\n",
    "\\end{equation*}"
   ]
  },
  {
   "cell_type": "markdown",
   "id": "1ecc9bb7",
   "metadata": {
    "slideshow": {
     "slide_type": "fragment"
    }
   },
   "source": [
    "Definimos como **factor de visión o factor de forma, $F_{12}$** a la razón entre $\\dot{Q}_{A_1\\rightarrow A_2}$ y la radiación hemisférica espectral emitida por $A_1$, es decir $\\dot{Q}_{A_1} = \\pi I_{\\mathrm{bb},\\lambda}(T_1) A_1 $:\n",
    "\n",
    "\n",
    "\\begin{equation}\n",
    "F_{12} = \\frac{\\dot{Q}_{A_1\\rightarrow A_2}}{\\dot{Q}_{A_1}} = \\frac{1}{A_1}\\int_{A_1}\\int_{A_2} \\frac{\\cos\\theta_1 \\cos\\theta_2}{\\pi r^2 }dA_1dA_2\n",
    "\\end{equation}"
   ]
  },
  {
   "cell_type": "markdown",
   "id": "410f376e",
   "metadata": {
    "slideshow": {
     "slide_type": "fragment"
    }
   },
   "source": [
    "El factor de visión permite simplificar el análisis para determinar el calor por radiación transferido a una superficie, de la forma:\n",
    "\n",
    "\\begin{equation*}\n",
    "\\dot{Q}_{A_1\\rightarrow A_2} = I_{\\mathrm{bb},\\lambda}(T_1) A_1F_{12}\n",
    "\\end{equation*}"
   ]
  },
  {
   "cell_type": "markdown",
   "id": "9973f4be",
   "metadata": {
    "slideshow": {
     "slide_type": "slide"
    }
   },
   "source": [
    "Por reciprocidad, el factor de visión desde $A_2$ a $A_1$ es:\n",
    "\n",
    "\\begin{equation*}\n",
    "F_{21} = \\frac{1}{A_2}\\int_{A_1}\\int_{A_2} \\frac{\\cos\\theta_1 \\cos\\theta_2}{\\pi r^2 }dA_1dA_2\n",
    "\\end{equation*}"
   ]
  },
  {
   "cell_type": "markdown",
   "id": "fd088d94",
   "metadata": {
    "slideshow": {
     "slide_type": "fragment"
    }
   },
   "source": [
    "De donde deducimos la relación:\n",
    "\n",
    "\\begin{equation}\n",
    "A_1 F_{12} = A_2 F_{21}\n",
    "\\end{equation}"
   ]
  },
  {
   "cell_type": "markdown",
   "id": "3e0d1079",
   "metadata": {
    "slideshow": {
     "slide_type": "fragment"
    }
   },
   "source": [
    "Las expresiones para el factor de visión se encuentran tabuladas en diversos textos especializados. "
   ]
  },
  {
   "cell_type": "markdown",
   "id": "1f2c6d99",
   "metadata": {
    "slideshow": {
     "slide_type": "slide"
    }
   },
   "source": [
    "Si una de las superficies es muy pequeña respecto a la otra, $F_{12} = 1$"
   ]
  },
  {
   "cell_type": "markdown",
   "id": "4f7b9ad8",
   "metadata": {},
   "source": [
    "\n",
    "<img src=\"./images/vision_factor_table.png\" width=\"500px\" align= center>"
   ]
  },
  {
   "cell_type": "markdown",
   "id": "bd990181",
   "metadata": {
    "slideshow": {
     "slide_type": "slide"
    }
   },
   "source": [
    "### Transferencia de calor por radiación\n",
    "En el caso de dos superficies negras a temperaturas $T_1$ y $T_2$, la transferencia de calor neta por radiación es:\n",
    "\n",
    "\\begin{align}\n",
    "\\dot{Q} &= \\dot{Q}_{A_1\\rightarrow A_2} - \\dot{Q}_{A_2\\rightarrow A_1} \\nonumber \\\\[10pt]\n",
    "&= A_1F_{12}\\sigma T_1^4 - A_2F_{21}\\sigma T_2^4 \\nonumber \\\\[10pt]\n",
    "&= A_1F_{12}\\sigma\\left(T_1^4 - T_2^4\\right)\n",
    "\\end{align}"
   ]
  },
  {
   "cell_type": "markdown",
   "id": "17c1dc23",
   "metadata": {
    "cell_style": "center",
    "slideshow": {
     "slide_type": "slide"
    }
   },
   "source": [
    "## Referencias\n",
    "- Çengel Y. A y Ghanjar A. J. **Capítulo 12 - Fundamentos de la radiación térmica** en *Transferencia de calor y masa*, 4ta Ed, McGraw Hill, 2011"
   ]
  },
  {
   "cell_type": "code",
   "execution_count": 5,
   "id": "6e0a420c",
   "metadata": {},
   "outputs": [
    {
     "data": {
      "image/jpeg": "[encoded data removed]",
      "text/html": [
       "\n",
       "<iframe\n",
       "    width=\"600\"\n",
       "    height=\"400\"\n",
       "    src=\"https://www.youtube.com/embed/FDmYCI_xYlA?playsinline=0\"\n",
       "    frameborder=\"0\"\n",
       "    allowfullscreen\n",
       "\n",
       "></iframe>\n"
      ],
      "text/plain": [
       "<IPython.lib.display.YouTubeVideo at 0x7f86d05acd00>"
      ]
     },
     "execution_count": 5,
     "metadata": {
      "filenames": {
       "image/jpeg": "/mnt/c/Users/francisco.ramirez.c/OneDrive - Universidad Adolfo Ibanez/Teaching_courses/MEC501 - Manejo_y_Conversion_Energia_Solar_Termica/material_catedra/_build/jupyter_execute/06_RadiacionTermica/06_RadiacionTermica_101_0.jpg"
      }
     },
     "output_type": "execute_result"
    }
   ],
   "source": [
    "from IPython.display import YouTubeVideo\n",
    "YouTubeVideo('FDmYCI_xYlA', width=600, height=400,  playsinline=0)"
   ]
  }
 ],
 "metadata": {
  "celltoolbar": "Slideshow",
  "kernelspec": {
   "display_name": "Python 3 (ipykernel)",
   "language": "python",
   "name": "python3"
  },
  "language_info": {
   "codemirror_mode": {
    "name": "ipython",
    "version": 3
   },
   "file_extension": ".py",
   "mimetype": "text/x-python",
   "name": "python",
   "nbconvert_exporter": "python",
   "pygments_lexer": "ipython3",
   "version": "3.9.13"
  },
  "latex_envs": {
   "LaTeX_envs_menu_present": false,
   "autoclose": false,
   "autocomplete": false,
   "bibliofile": "biblio.bib",
   "cite_by": "apalike",
   "current_citInitial": 1,
   "eqLabelWithNumbers": true,
   "eqNumInitial": 1,
   "hotkeys": {
    "equation": "Ctrl-E",
    "itemize": "Ctrl-I"
   },
   "labels_anchors": false,
   "latex_user_defs": false,
   "report_style_numbering": false,
   "user_envs_cfg": true
  },
  "toc": {
   "base_numbering": 1,
   "nav_menu": {},
   "number_sections": true,
   "sideBar": true,
   "skip_h1_title": true,
   "title_cell": "Tabla de contenidos",
   "title_sidebar": "Contenidos",
   "toc_cell": false,
   "toc_position": {
    "height": "calc(100% - 180px)",
    "left": "10px",
    "top": "150px",
    "width": "307.2px"
   },
   "toc_section_display": true,
   "toc_window_display": false
  },
  "varInspector": {
   "cols": {
    "lenName": 16,
    "lenType": 16,
    "lenVar": 40
   },
   "kernels_config": {
    "python": {
     "delete_cmd_postfix": "",
     "delete_cmd_prefix": "del ",
     "library": "var_list.py",
     "varRefreshCmd": "print(var_dic_list())"
    },
    "r": {
     "delete_cmd_postfix": ") ",
     "delete_cmd_prefix": "rm(",
     "library": "var_list.r",
     "varRefreshCmd": "cat(var_dic_list()) "
    }
   },
   "types_to_exclude": [
    "module",
    "function",
    "builtin_function_or_method",
    "instance",
    "_Feature"
   ],
   "window_display": false
  },
  "widgets": {
   "application/vnd.jupyter.widget-state+json": {
    "state": {
     "018419354da74326bd411b790f2d49ee": {
      "model_module": "@jupyter-widgets/controls",
      "model_module_version": "1.5.0",
      "model_name": "VBoxModel",
      "state": {
       "_dom_classes": [
        "widget-interact"
       ],
       "_model_module": "@jupyter-widgets/controls",
       "_model_module_version": "1.5.0",
       "_model_name": "VBoxModel",
       "_view_count": null,
       "_view_module": "@jupyter-widgets/controls",
       "_view_module_version": "1.5.0",
       "_view_name": "VBoxView",
       "box_style": "",
       "children": [
        "IPY_MODEL_734daa411e844f8b82e8c342a5a77921",
        "IPY_MODEL_7277f6867bf14dc1a84d225dbc685dd7",
        "IPY_MODEL_18e6a508db6a43a4a79c230050b2ccdd",
        "IPY_MODEL_870f185bc12449e18ecf001ad900574e",
        "IPY_MODEL_c34cc0c4e82f404daacf8bc69985e90d"
       ],
       "layout": "IPY_MODEL_8d1bf498c5584fcfa624d3584599e9ab"
      }
     },
     "18e6a508db6a43a4a79c230050b2ccdd": {
      "model_module": "@jupyter-widgets/controls",
      "model_module_version": "1.5.0",
      "model_name": "FloatSliderModel",
      "state": {
       "_dom_classes": [],
       "_model_module": "@jupyter-widgets/controls",
       "_model_module_version": "1.5.0",
       "_model_name": "FloatSliderModel",
       "_view_count": null,
       "_view_module": "@jupyter-widgets/controls",
       "_view_module_version": "1.5.0",
       "_view_name": "FloatSliderView",
       "continuous_update": true,
       "description": "lam0",
       "description_tooltip": null,
       "disabled": false,
       "layout": "IPY_MODEL_419406b82d7e4fb6b8291ca5019b53b7",
       "max": 10.0,
       "min": 5.0,
       "orientation": "horizontal",
       "readout": true,
       "readout_format": ".2f",
       "step": 0.01,
       "style": "IPY_MODEL_86f3e27f5c6a4736be938b350329c00a",
       "value": 10.0
      }
     },
     "419406b82d7e4fb6b8291ca5019b53b7": {
      "model_module": "@jupyter-widgets/base",
      "model_module_version": "1.2.0",
      "model_name": "LayoutModel",
      "state": {
       "_model_module": "@jupyter-widgets/base",
       "_model_module_version": "1.2.0",
       "_model_name": "LayoutModel",
       "_view_count": null,
       "_view_module": "@jupyter-widgets/base",
       "_view_module_version": "1.2.0",
       "_view_name": "LayoutView",
       "align_content": null,
       "align_items": null,
       "align_self": null,
       "border": null,
       "bottom": null,
       "display": null,
       "flex": null,
       "flex_flow": null,
       "grid_area": null,
       "grid_auto_columns": null,
       "grid_auto_flow": null,
       "grid_auto_rows": null,
       "grid_column": null,
       "grid_gap": null,
       "grid_row": null,
       "grid_template_areas": null,
       "grid_template_columns": null,
       "grid_template_rows": null,
       "height": null,
       "justify_content": null,
       "justify_items": null,
       "left": null,
       "margin": null,
       "max_height": null,
       "max_width": null,
       "min_height": null,
       "min_width": null,
       "object_fit": null,
       "object_position": null,
       "order": null,
       "overflow": null,
       "overflow_x": null,
       "overflow_y": null,
       "padding": null,
       "right": null,
       "top": null,
       "visibility": null,
       "width": null
      }
     },
     "7277f6867bf14dc1a84d225dbc685dd7": {
      "model_module": "@jupyter-widgets/controls",
      "model_module_version": "1.5.0",
      "model_name": "FloatSliderModel",
      "state": {
       "_dom_classes": [],
       "_model_module": "@jupyter-widgets/controls",
       "_model_module_version": "1.5.0",
       "_model_name": "FloatSliderModel",
       "_view_count": null,
       "_view_module": "@jupyter-widgets/controls",
       "_view_module_version": "1.5.0",
       "_view_name": "FloatSliderView",
       "continuous_update": true,
       "description": "d",
       "description_tooltip": null,
       "disabled": false,
       "layout": "IPY_MODEL_fb62d208b53a4e2d9be2552f8f0c7542",
       "max": 10.0,
       "min": 0.0,
       "orientation": "horizontal",
       "readout": true,
       "readout_format": ".2f",
       "step": 0.01,
       "style": "IPY_MODEL_ab98e42f6bd24b7ea9c0e533b0c8bd9a",
       "value": 1.0
      }
     },
     "734daa411e844f8b82e8c342a5a77921": {
      "model_module": "@jupyter-widgets/controls",
      "model_module_version": "1.5.0",
      "model_name": "IntSliderModel",
      "state": {
       "_dom_classes": [],
       "_model_module": "@jupyter-widgets/controls",
       "_model_module_version": "1.5.0",
       "_model_name": "IntSliderModel",
       "_view_count": null,
       "_view_module": "@jupyter-widgets/controls",
       "_view_module_version": "1.5.0",
       "_view_name": "IntSliderView",
       "continuous_update": true,
       "description": "T",
       "description_tooltip": null,
       "disabled": false,
       "layout": "IPY_MODEL_811df3dea0064defa286f1e733dfd381",
       "max": 1000,
       "min": 300,
       "orientation": "horizontal",
       "readout": true,
       "readout_format": "d",
       "step": 10,
       "style": "IPY_MODEL_9241f9e80580481394ef7f911da67976",
       "value": 300
      }
     },
     "811df3dea0064defa286f1e733dfd381": {
      "model_module": "@jupyter-widgets/base",
      "model_module_version": "1.2.0",
      "model_name": "LayoutModel",
      "state": {
       "_model_module": "@jupyter-widgets/base",
       "_model_module_version": "1.2.0",
       "_model_name": "LayoutModel",
       "_view_count": null,
       "_view_module": "@jupyter-widgets/base",
       "_view_module_version": "1.2.0",
       "_view_name": "LayoutView",
       "align_content": null,
       "align_items": null,
       "align_self": null,
       "border": null,
       "bottom": null,
       "display": null,
       "flex": null,
       "flex_flow": null,
       "grid_area": null,
       "grid_auto_columns": null,
       "grid_auto_flow": null,
       "grid_auto_rows": null,
       "grid_column": null,
       "grid_gap": null,
       "grid_row": null,
       "grid_template_areas": null,
       "grid_template_columns": null,
       "grid_template_rows": null,
       "height": null,
       "justify_content": null,
       "justify_items": null,
       "left": null,
       "margin": null,
       "max_height": null,
       "max_width": null,
       "min_height": null,
       "min_width": null,
       "object_fit": null,
       "object_position": null,
       "order": null,
       "overflow": null,
       "overflow_x": null,
       "overflow_y": null,
       "padding": null,
       "right": null,
       "top": null,
       "visibility": null,
       "width": null
      }
     },
     "86f3e27f5c6a4736be938b350329c00a": {
      "model_module": "@jupyter-widgets/controls",
      "model_module_version": "1.5.0",
      "model_name": "SliderStyleModel",
      "state": {
       "_model_module": "@jupyter-widgets/controls",
       "_model_module_version": "1.5.0",
       "_model_name": "SliderStyleModel",
       "_view_count": null,
       "_view_module": "@jupyter-widgets/base",
       "_view_module_version": "1.2.0",
       "_view_name": "StyleView",
       "description_width": "",
       "handle_color": null
      }
     },
     "870f185bc12449e18ecf001ad900574e": {
      "model_module": "@jupyter-widgets/controls",
      "model_module_version": "1.5.0",
      "model_name": "IntSliderModel",
      "state": {
       "_dom_classes": [],
       "_model_module": "@jupyter-widgets/controls",
       "_model_module_version": "1.5.0",
       "_model_name": "IntSliderModel",
       "_view_count": null,
       "_view_module": "@jupyter-widgets/controls",
       "_view_module_version": "1.5.0",
       "_view_name": "IntSliderView",
       "continuous_update": true,
       "description": "theta0",
       "description_tooltip": null,
       "disabled": false,
       "layout": "IPY_MODEL_e3316473e11442e39cc01c491789cdff",
       "max": 90,
       "min": 0,
       "orientation": "horizontal",
       "readout": true,
       "readout_format": "d",
       "step": 1,
       "style": "IPY_MODEL_c755842914854944bd6ed88328e07ded",
       "value": 0
      }
     },
     "8d1bf498c5584fcfa624d3584599e9ab": {
      "model_module": "@jupyter-widgets/base",
      "model_module_version": "1.2.0",
      "model_name": "LayoutModel",
      "state": {
       "_model_module": "@jupyter-widgets/base",
       "_model_module_version": "1.2.0",
       "_model_name": "LayoutModel",
       "_view_count": null,
       "_view_module": "@jupyter-widgets/base",
       "_view_module_version": "1.2.0",
       "_view_name": "LayoutView",
       "align_content": null,
       "align_items": null,
       "align_self": null,
       "border": null,
       "bottom": null,
       "display": null,
       "flex": null,
       "flex_flow": null,
       "grid_area": null,
       "grid_auto_columns": null,
       "grid_auto_flow": null,
       "grid_auto_rows": null,
       "grid_column": null,
       "grid_gap": null,
       "grid_row": null,
       "grid_template_areas": null,
       "grid_template_columns": null,
       "grid_template_rows": null,
       "height": null,
       "justify_content": null,
       "justify_items": null,
       "left": null,
       "margin": null,
       "max_height": null,
       "max_width": null,
       "min_height": null,
       "min_width": null,
       "object_fit": null,
       "object_position": null,
       "order": null,
       "overflow": null,
       "overflow_x": null,
       "overflow_y": null,
       "padding": null,
       "right": null,
       "top": null,
       "visibility": null,
       "width": null
      }
     },
     "9241f9e80580481394ef7f911da67976": {
      "model_module": "@jupyter-widgets/controls",
      "model_module_version": "1.5.0",
      "model_name": "SliderStyleModel",
      "state": {
       "_model_module": "@jupyter-widgets/controls",
       "_model_module_version": "1.5.0",
       "_model_name": "SliderStyleModel",
       "_view_count": null,
       "_view_module": "@jupyter-widgets/base",
       "_view_module_version": "1.2.0",
       "_view_name": "StyleView",
       "description_width": "",
       "handle_color": null
      }
     },
     "ab98e42f6bd24b7ea9c0e533b0c8bd9a": {
      "model_module": "@jupyter-widgets/controls",
      "model_module_version": "1.5.0",
      "model_name": "SliderStyleModel",
      "state": {
       "_model_module": "@jupyter-widgets/controls",
       "_model_module_version": "1.5.0",
       "_model_name": "SliderStyleModel",
       "_view_count": null,
       "_view_module": "@jupyter-widgets/base",
       "_view_module_version": "1.2.0",
       "_view_name": "StyleView",
       "description_width": "",
       "handle_color": null
      }
     },
     "c34cc0c4e82f404daacf8bc69985e90d": {
      "model_module": "@jupyter-widgets/output",
      "model_module_version": "1.0.0",
      "model_name": "OutputModel",
      "state": {
       "_dom_classes": [],
       "_model_module": "@jupyter-widgets/output",
       "_model_module_version": "1.0.0",
       "_model_name": "OutputModel",
       "_view_count": null,
       "_view_module": "@jupyter-widgets/output",
       "_view_module_version": "1.0.0",
       "_view_name": "OutputView",
       "layout": "IPY_MODEL_e7fb269d5d6a4a33941fed4970fb8f4e",
       "msg_id": "",
       "outputs": [
        {
         "data": {
          "image/png": "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\n",
          "text/plain": "<Figure size 1152x360 with 3 Axes>"
         },
         "metadata": {
          "needs_background": "light"
         },
         "output_type": "display_data"
        }
       ]
      }
     },
     "c755842914854944bd6ed88328e07ded": {
      "model_module": "@jupyter-widgets/controls",
      "model_module_version": "1.5.0",
      "model_name": "SliderStyleModel",
      "state": {
       "_model_module": "@jupyter-widgets/controls",
       "_model_module_version": "1.5.0",
       "_model_name": "SliderStyleModel",
       "_view_count": null,
       "_view_module": "@jupyter-widgets/base",
       "_view_module_version": "1.2.0",
       "_view_name": "StyleView",
       "description_width": "",
       "handle_color": null
      }
     },
     "e3316473e11442e39cc01c491789cdff": {
      "model_module": "@jupyter-widgets/base",
      "model_module_version": "1.2.0",
      "model_name": "LayoutModel",
      "state": {
       "_model_module": "@jupyter-widgets/base",
       "_model_module_version": "1.2.0",
       "_model_name": "LayoutModel",
       "_view_count": null,
       "_view_module": "@jupyter-widgets/base",
       "_view_module_version": "1.2.0",
       "_view_name": "LayoutView",
       "align_content": null,
       "align_items": null,
       "align_self": null,
       "border": null,
       "bottom": null,
       "display": null,
       "flex": null,
       "flex_flow": null,
       "grid_area": null,
       "grid_auto_columns": null,
       "grid_auto_flow": null,
       "grid_auto_rows": null,
       "grid_column": null,
       "grid_gap": null,
       "grid_row": null,
       "grid_template_areas": null,
       "grid_template_columns": null,
       "grid_template_rows": null,
       "height": null,
       "justify_content": null,
       "justify_items": null,
       "left": null,
       "margin": null,
       "max_height": null,
       "max_width": null,
       "min_height": null,
       "min_width": null,
       "object_fit": null,
       "object_position": null,
       "order": null,
       "overflow": null,
       "overflow_x": null,
       "overflow_y": null,
       "padding": null,
       "right": null,
       "top": null,
       "visibility": null,
       "width": null
      }
     },
     "e7fb269d5d6a4a33941fed4970fb8f4e": {
      "model_module": "@jupyter-widgets/base",
      "model_module_version": "1.2.0",
      "model_name": "LayoutModel",
      "state": {
       "_model_module": "@jupyter-widgets/base",
       "_model_module_version": "1.2.0",
       "_model_name": "LayoutModel",
       "_view_count": null,
       "_view_module": "@jupyter-widgets/base",
       "_view_module_version": "1.2.0",
       "_view_name": "LayoutView",
       "align_content": null,
       "align_items": null,
       "align_self": null,
       "border": null,
       "bottom": null,
       "display": null,
       "flex": null,
       "flex_flow": null,
       "grid_area": null,
       "grid_auto_columns": null,
       "grid_auto_flow": null,
       "grid_auto_rows": null,
       "grid_column": null,
       "grid_gap": null,
       "grid_row": null,
       "grid_template_areas": null,
       "grid_template_columns": null,
       "grid_template_rows": null,
       "height": null,
       "justify_content": null,
       "justify_items": null,
       "left": null,
       "margin": null,
       "max_height": null,
       "max_width": null,
       "min_height": null,
       "min_width": null,
       "object_fit": null,
       "object_position": null,
       "order": null,
       "overflow": null,
       "overflow_x": null,
       "overflow_y": null,
       "padding": null,
       "right": null,
       "top": null,
       "visibility": null,
       "width": null
      }
     },
     "fb62d208b53a4e2d9be2552f8f0c7542": {
      "model_module": "@jupyter-widgets/base",
      "model_module_version": "1.2.0",
      "model_name": "LayoutModel",
      "state": {
       "_model_module": "@jupyter-widgets/base",
       "_model_module_version": "1.2.0",
       "_model_name": "LayoutModel",
       "_view_count": null,
       "_view_module": "@jupyter-widgets/base",
       "_view_module_version": "1.2.0",
       "_view_name": "LayoutView",
       "align_content": null,
       "align_items": null,
       "align_self": null,
       "border": null,
       "bottom": null,
       "display": null,
       "flex": null,
       "flex_flow": null,
       "grid_area": null,
       "grid_auto_columns": null,
       "grid_auto_flow": null,
       "grid_auto_rows": null,
       "grid_column": null,
       "grid_gap": null,
       "grid_row": null,
       "grid_template_areas": null,
       "grid_template_columns": null,
       "grid_template_rows": null,
       "height": null,
       "justify_content": null,
       "justify_items": null,
       "left": null,
       "margin": null,
       "max_height": null,
       "max_width": null,
       "min_height": null,
       "min_width": null,
       "object_fit": null,
       "object_position": null,
       "order": null,
       "overflow": null,
       "overflow_x": null,
       "overflow_y": null,
       "padding": null,
       "right": null,
       "top": null,
       "visibility": null,
       "width": null
      }
     }
    },
    "version_major": 2,
    "version_minor": 0
   }
  }
 },
 "nbformat": 4,
 "nbformat_minor": 5
}