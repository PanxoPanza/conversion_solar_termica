{
 "cells": [
  {
   "cell_type": "markdown",
   "id": "8b01ca79",
   "metadata": {
    "slideshow": {
     "slide_type": "slide"
    }
   },
   "source": [
    "# Radiación Térmica"
   ]
  },
  {
   "cell_type": "markdown",
   "id": "e21d64ae",
   "metadata": {
    "slideshow": {
     "slide_type": "slide"
    }
   },
   "source": [
    "## Introducción a la Transferencia de Calor\n",
    "A nivel molecular, los átomos en la materia siempre están vibrando. La magnitud de estas vibraciones está caracterizada estadísticamente por la temperatura:"
   ]
  },
  {
   "cell_type": "markdown",
   "id": "35dd953b",
   "metadata": {},
   "source": [
    "<img src=\"./images/temperature_brownian_motion.gif\" width=\"400px\" align= center>"
   ]
  },
  {
   "cell_type": "markdown",
   "id": "7810d826",
   "metadata": {
    "cell_style": "center",
    "slideshow": {
     "slide_type": "slide"
    }
   },
   "source": [
    "Consideremos un sólido extendido con una diferencia de temperatura, $\\Delta T$, entre sus extremos, tal que el lado izquierdo tiene una mayor temperatura que el lado derecho"
   ]
  },
  {
   "cell_type": "markdown",
   "id": "5407e5b7",
   "metadata": {
    "cell_style": "split",
    "slideshow": {
     "slide_type": "fragment"
    }
   },
   "source": [
    "<img src=\"./images/heat_transfer.gif\" width=\"300px\" align= center>"
   ]
  },
  {
   "cell_type": "markdown",
   "id": "85b590b5",
   "metadata": {
    "cell_style": "split",
    "slideshow": {
     "slide_type": "fragment"
    }
   },
   "source": [
    "Debido a la diferencia de temperatura, la vibración molecular en el lado izquierdo es mayor. Esta energía cinética es transmitida a través del material hacia el lado derecho."
   ]
  },
  {
   "cell_type": "markdown",
   "id": "6f302797",
   "metadata": {
    "slideshow": {
     "slide_type": "slide"
    }
   },
   "source": [
    "Definimos como **calor**, $Q$, a la energía térmica intercambiada entre dos medios cuya diferencia de temperatura es $\\Delta T$. A mayor $\\Delta T$, mayor es el intercambio de calor, matemáticamente: \n",
    "\n",
    "\\begin{equation*}\n",
    "Q \\propto \\Delta T,\\quad\\mathrm{J}\n",
    "\\end{equation*}\n",
    "\n"
   ]
  },
  {
   "cell_type": "markdown",
   "id": "05b934bc",
   "metadata": {
    "slideshow": {
     "slide_type": "fragment"
    }
   },
   "source": [
    "La **taza de transferencia de calor**:\n",
    "\\begin{equation*}\n",
    "\\dot{Q} = \\frac{dQ}{dt},\\quad\\mathrm{W}\n",
    "\\end{equation*}\n",
    "\n",
    "corresponde al calor tranferido por unidad de tiempo."
   ]
  },
  {
   "cell_type": "markdown",
   "id": "8aface27",
   "metadata": {
    "slideshow": {
     "slide_type": "fragment"
    }
   },
   "source": [
    "Por último, definimos como **flujo de calor**: \n",
    "\\begin{equation*}\n",
    "q'' = \\dot{Q}/A,\\quad\\frac{\\mathrm{W}}{\\mathrm{m}^2}\n",
    "\\end{equation*}\n",
    "\n",
    "a la taza de transferencia de calor por unidad de área."
   ]
  },
  {
   "cell_type": "markdown",
   "id": "2c634772",
   "metadata": {
    "cell_style": "split",
    "slideshow": {
     "slide_type": "slide"
    }
   },
   "source": [
    "Existen tres mecanismo de transferencia de calor:\n",
    "\n",
    "- Conducción de calor\n",
    "- Convección de calor\n",
    "- Radiación"
   ]
  },
  {
   "cell_type": "markdown",
   "id": "a3e69153",
   "metadata": {
    "cell_style": "split",
    "slideshow": {
     "slide_type": "-"
    }
   },
   "source": [
    "<img src=\"./images/heat_transfer_mechanism.png\" width=\"500px\" align= center>"
   ]
  },
  {
   "cell_type": "markdown",
   "id": "ccaa08be",
   "metadata": {
    "slideshow": {
     "slide_type": "slide"
    }
   },
   "source": [
    "### Conducción de Calor\n",
    "**Definimos como *conducción de calor* al calor transferido a través de un material en reposo**. El mecanismo generalmente se asocia a **sólidos**, donde el calor es transferido a travéz de la red atómica del material. Sin embargo, la definición también incluye **líquidos y gases en reposo.** En este caso, las moléculas se mueven aleatoriamente, de manera tal que la velocidad neta del fluido es cero."
   ]
  },
  {
   "cell_type": "markdown",
   "id": "183006ce",
   "metadata": {
    "slideshow": {
     "slide_type": "fragment"
    }
   },
   "source": [
    "Matemáticamente, para un material de espesor $t$ y diferencia de temperatura $\\Delta T$, la **taza de transferencia de calor por conducción** a través de una superficie $A$, es:\n",
    "\n",
    "<img src=\"./images/heat_conduction_formula.png\" width=\"700px\" align= center>"
   ]
  },
  {
   "cell_type": "markdown",
   "id": "4fdfda8b",
   "metadata": {
    "slideshow": {
     "slide_type": "slide"
    }
   },
   "source": [
    "La conductividad térmica, $k_c$, es una propiedad del material que varía según la temperatura.\n",
    "\n",
    "<img src=\"./images/thermal_conductivity.png\" width=\"800px\" align= center>"
   ]
  },
  {
   "cell_type": "markdown",
   "id": "be69080c",
   "metadata": {
    "slideshow": {
     "slide_type": "slide"
    }
   },
   "source": [
    "En su forma diferencial, $\\dot{Q}_\\mathrm{cond}= - k\\nabla T$, y para el caso unidimensional:\n",
    "\n",
    "\\begin{equation}\n",
    "\\dot{Q}_\\mathrm{cond} = - kA\\frac{dT}{dx},\\quad\\mathrm{W}\n",
    "\\end{equation}"
   ]
  },
  {
   "cell_type": "markdown",
   "id": "ac955652",
   "metadata": {
    "slideshow": {
     "slide_type": "fragment"
    }
   },
   "source": [
    "A partir de esta fórmula podemos deducir expresiones para taza de transferencia de calor por conducción según la geometría:"
   ]
  },
  {
   "cell_type": "markdown",
   "id": "ec4af943",
   "metadata": {},
   "source": [
    "<img src=\"./images/heat_conduction_resistance.png\" width=\"600px\" align= center>"
   ]
  },
  {
   "cell_type": "markdown",
   "id": "bb05f7de",
   "metadata": {
    "slideshow": {
     "slide_type": "slide"
    }
   },
   "source": [
    "Notar que, como fórmula general, podemos expresar la taza de conducción de calor en la forma:\n",
    "\n",
    "\\begin{equation*}\n",
    "\\dot{Q}_\\mathrm{cond} = \\frac{T_H - T_C}{R_\\mathrm{cond}},\\quad\\mathrm{W}\n",
    "\\end{equation*}\n",
    "\n",
    "donde, $R_\\mathrm{cond}$ (K/W) es la **resistencia térmica** asociada al mecanismo de conducción."
   ]
  },
  {
   "cell_type": "markdown",
   "id": "bbea9efd",
   "metadata": {
    "slideshow": {
     "slide_type": "slide"
    }
   },
   "source": [
    "### Convección de Calor\n",
    "**Definimos como *convección de calor* al calor transferido a través de fluidos en movimiento.** El movimiento de un fluido puede ocurrir naturalmente, debido a los efectos de flotación a raíz de los cambio de densidad con la temperatura; o de forma inducida, como por ejemplo mediante un ventilador."
   ]
  },
  {
   "cell_type": "markdown",
   "id": "2f11707d",
   "metadata": {
    "cell_style": "split",
    "slideshow": {
     "slide_type": "fragment"
    }
   },
   "source": [
    "A partir de esto, clasificamos la transferencia de calor por convección, respectivamente, como:\n",
    "- **convección natural**\n",
    "- **convección forzada**."
   ]
  },
  {
   "cell_type": "markdown",
   "id": "335e9cda",
   "metadata": {
    "cell_style": "split",
    "slideshow": {
     "slide_type": "fragment"
    }
   },
   "source": [
    "<img src=\"./images/heat_convection_mechanism.png\" width=\"300px\" align= center>"
   ]
  },
  {
   "cell_type": "markdown",
   "id": "a11782b3",
   "metadata": {
    "slideshow": {
     "slide_type": "slide"
    }
   },
   "source": [
    "La convección de calor esta asociada al contacto de fluidos con una superficie, $A$. Así, independiente del mecanismo de convección de calor (natural o forzada), expresamos la **taza de transferencia de calor por convección** como:\n",
    "\n",
    "<img src=\"./images/heat_convection_formula.png\" width=\"700px\" align= center>"
   ]
  },
  {
   "cell_type": "markdown",
   "id": "322fa067",
   "metadata": {},
   "source": [
    "Notar que la taza de transferencia de calor por convección puede ser expresada en la forma:\n",
    "\n",
    "\\begin{equation*}\n",
    "\\dot{Q}_\\mathrm{conv} = \\frac{T_\\infty - T}{R_\\mathrm{conv}},\\quad\\mathrm{W}\n",
    "\\end{equation*}\n",
    "\n",
    "donde $R_\\mathrm{conv}=1/hA$ es la resistencia térmica asociada a la convección de calor."
   ]
  },
  {
   "cell_type": "markdown",
   "id": "983b6ab0",
   "metadata": {
    "slideshow": {
     "slide_type": "slide"
    }
   },
   "source": [
    "A diferencia de la conducción de calor, el coeficiente convectivo, $h$, **no es una propiedad del fluido**. Esto porque no solo depende de las propiedades del fluido (densidad, viscocidad y conductividad térmica, entre otras), sino que además depende de condiciones externas, como la velocidad del flujo, la diferencia de temperaturas, y la geometría del cuerpo sometido a convección de calor."
   ]
  },
  {
   "cell_type": "markdown",
   "id": "608df105",
   "metadata": {
    "slideshow": {
     "slide_type": "fragment"
    }
   },
   "source": [
    "El coeficiente convectivo se determina a partir de relaciones expresadas en términos del número de Nusselt, $\\mathrm{Nu} = \\frac{hL_c}{k_f}$, donde $L_c$ es una longitud característica y $k_f$ es la conductividad térmica del fluido. En la mayoría de los casos, las relaciones para el número de Nusselt para cada caso se determinan experimentalmente."
   ]
  },
  {
   "cell_type": "markdown",
   "id": "f73fe75a",
   "metadata": {
    "slideshow": {
     "slide_type": "fragment"
    }
   },
   "source": [
    "Comúnmente, los valores para el número de Nusselt se encuentran dentro de los siguientes rangos:\n",
    "\n",
    "- Convección forzada, $\\mathrm{Nu} \\sim 5 - 1000 $\n",
    "- Convección natural, $\\mathrm{Nu} \\sim 0 - 100$"
   ]
  },
  {
   "cell_type": "markdown",
   "id": "7d4df5f2",
   "metadata": {
    "slideshow": {
     "slide_type": "slide"
    }
   },
   "source": [
    "### Transferencia de calor en estado estacionario\n",
    "\n",
    "En estado estacionario, el flujo de calor es constante. En este caso, podemos simplificar el análisis de transferencia de calor por convección y conducción utilizando resistencias térmicas.\n",
    "\n",
    "<img src=\"./images/stationary_heat_transfer.png\" width=\"700px\" align= center>"
   ]
  },
  {
   "cell_type": "markdown",
   "id": "53ef8ae3",
   "metadata": {
    "slideshow": {
     "slide_type": "slide"
    }
   },
   "source": [
    "## Fundamentos de la radiación térmica\n",
    "\n",
    "Las vibraciones a nivel molecular también inducen polarización en la materia. Esto es similar al fenómeno de polarización inducida por ondas electromagnéticas estudiada en la unidad 3. Estos dipolos inducidos térmicamente, oscilan constantemente generando campos electromagnéticos que se propagan en dirección radial.\n",
    "\n",
    "<img src=\"./images/radiating_dipole.png\" width=\"700px\" align= center>"
   ]
  },
  {
   "cell_type": "markdown",
   "id": "767562ad",
   "metadata": {
    "slideshow": {
     "slide_type": "slide"
    }
   },
   "source": [
    "En la siguiente animación podemos ver el proceso de emisión de ondas electromagnéticas de un dipolo oscilatorio. El mapa de colores representa la intensidad del campo magnético, es decir $|\\vec{H}|$, donde rojo y azul corresponden, respectivamente, a los valorse máximos y mínimos.\n",
    "\n",
    "<img src=\"./images/HW_vertical_noground.gif\" width=\"300px\" align= center>"
   ]
  },
  {
   "cell_type": "markdown",
   "id": "7088a84b",
   "metadata": {
    "cell_style": "center",
    "slideshow": {
     "slide_type": "slide"
    }
   },
   "source": [
    "### Poder de emisión\n",
    "Un cuerpo a temperatura $T$ emite ondas electromagnéticas en todas las direcciones y en un espectro de longitudes de onda. En general, la distribución angular ($\\Omega$) y espectral ($\\lambda$) de la radiación emitida depende de las propiedades ópticas de la superficie y la temperatura del material. "
   ]
  },
  {
   "cell_type": "markdown",
   "id": "b364c7cf",
   "metadata": {
    "slideshow": {
     "slide_type": "fragment"
    }
   },
   "source": [
    "Para caracterizar la intensidad de la radiación emitida por una superficie a tempertura $T$, usamos la **intensidad específica o radiancia espectral**, $I_\\lambda(\\lambda,\\Omega,T)$."
   ]
  },
  {
   "cell_type": "markdown",
   "id": "09477f6e",
   "metadata": {
    "cell_style": "center",
    "slideshow": {
     "slide_type": "slide"
    }
   },
   "source": [
    "La taza de calor total emitido por una superficie $dA$ de un cuerpo negro en función de $\\lambda$ y $\\Omega$, $d\\dot{Q}_\\mathrm{rad}$, está dada por:\n",
    "\n",
    "\\begin{equation}\n",
    "d\\dot{Q}_\\mathrm{rad} = I_{\\lambda}(\\lambda,T,\\theta,\\phi) \\cos\\theta dA d\\Omega d\\lambda\n",
    "\\end{equation}"
   ]
  },
  {
   "cell_type": "markdown",
   "id": "f849cc9e",
   "metadata": {
    "cell_style": "split",
    "slideshow": {
     "slide_type": "fragment"
    }
   },
   "source": [
    "El término $\\cos\\theta dA$ corresponde a la proyección de $dA$ en la dirección $\\Omega$"
   ]
  },
  {
   "cell_type": "markdown",
   "id": "d3b63571",
   "metadata": {
    "cell_style": "split"
   },
   "source": [
    "<img src=\"./images/specific_intensity.png\" width=\"300px\" align= center>"
   ]
  },
  {
   "cell_type": "markdown",
   "id": "891a8504",
   "metadata": {
    "cell_style": "center",
    "slideshow": {
     "slide_type": "slide"
    }
   },
   "source": [
    "Definimos como **poder de emisión direccional espectral** a la relación:\n",
    "\n",
    "\\begin{equation}\n",
    "E_{\\lambda,\\Omega}(T) = \\frac{d\\dot{Q}_\\mathrm{rad}}{dAd\\Omega d\\lambda}=I_{\\lambda}(\\lambda,\\Omega)\\cos\\theta ,\\quad\\quad\\frac{\\mathrm{W}}{\\mathrm{m}^2\\cdot\\mu\\mathrm{m}\\cdot\\mathrm{sr}}\n",
    "\\end{equation}"
   ]
  },
  {
   "cell_type": "markdown",
   "id": "ec272999",
   "metadata": {
    "slideshow": {
     "slide_type": "fragment"
    }
   },
   "source": [
    "A diferencia de la intensidad específica, el poder de emisión considera la radiación effectiva emitida por una superficie."
   ]
  },
  {
   "cell_type": "markdown",
   "id": "3c1cf7c2",
   "metadata": {},
   "source": [
    "<img src=\"./images/emissive_power.png\" width=\"500px\" align= center>"
   ]
  },
  {
   "cell_type": "markdown",
   "id": "ad56f5b7",
   "metadata": {
    "slideshow": {
     "slide_type": "slide"
    }
   },
   "source": [
    "A partir de este término podemos derivar:"
   ]
  },
  {
   "cell_type": "markdown",
   "id": "c62c0cc6",
   "metadata": {
    "slideshow": {
     "slide_type": "fragment"
    }
   },
   "source": [
    "- **Poder de emisión hemisférica espectral**, \n",
    "\n",
    "\\begin{align*}\n",
    "E_{\\lambda}(T) = \\frac{d\\dot{Q}}{dA d\\lambda} &= \\int_0^{2\\pi}\\int_0^{\\pi/2}I_{\\lambda}(\\lambda,\\Omega)\\cos\\theta~\\sin\\theta  d\\theta d\\phi\n",
    "  \\\\ \n",
    "  &=\\int_\\mathrm{hemi} I_{\\lambda}(\\lambda,\\Omega)\\cos\\theta~d\\Omega\n",
    "  ,\\quad\\quad\\frac{\\mathrm{W}}{\\mathrm{m}^2\\cdot\\mu\\mathrm{m}}\n",
    "\\end{align*}"
   ]
  },
  {
   "cell_type": "markdown",
   "id": "a9a23a55",
   "metadata": {
    "slideshow": {
     "slide_type": "fragment"
    }
   },
   "source": [
    "- **Poder de emisión direccional total**,\n",
    "\n",
    "\\begin{equation*}\n",
    "E_\\Omega(T) = \\frac{d\\dot{Q}}{dAd\\Omega}=\\cos\\theta \\int_0^\\infty~ I_{\\lambda}(\\lambda,\\Omega)~d\\lambda  ,\\quad\\quad\\frac{\\mathrm{W}}{\\mathrm{m}^2 \\cdot\\mathrm{sr}}\n",
    "\\end{equation*}"
   ]
  },
  {
   "cell_type": "markdown",
   "id": "4c94bf8c",
   "metadata": {
    "slideshow": {
     "slide_type": "fragment"
    }
   },
   "source": [
    "- **Poder de emisión hemisfética total**, \n",
    "\n",
    "\\begin{equation*}\n",
    "E(T) = \\frac{d\\dot{Q}}{dA}=\\int_0^\\infty\\int_\\mathrm{hemi}I_{\\lambda}(\\lambda,\\Omega)\\cos\\theta~d\\Omega d\\lambda ,\\quad\\quad\\frac{\\mathrm{W}}{\\mathrm{m}^2}\n",
    "\\end{equation*}"
   ]
  },
  {
   "cell_type": "markdown",
   "id": "b670c6be",
   "metadata": {
    "slideshow": {
     "slide_type": "slide"
    }
   },
   "source": [
    "### Distribución de Planck\n",
    "\n",
    "Max Planck en 1901 determinó que la **máxima radiancia espectral o intensidad específica** (flujo de energía por unidad de longitud de onda y ángulo sólido) emitida por un cuerpo a temperatura $T$, en un medio con índice de refracción $n_1$, está dada por:\n",
    "\n",
    "\\begin{equation}\n",
    "I_{\\mathrm{bb},\\lambda}(\\lambda,T) = \\frac{C_1}{n_1\\lambda^5\\left[\\exp\\left(C_2/\\lambda T\\right) - 1\\right]},\\quad\\quad\\frac{\\mathrm{W}}{\\mathrm{m}^2\\cdot\\mu\\mathrm{m}\\cdot\\mathrm{sr}}\n",
    "\\end{equation}\n",
    "\n",
    "donde \n",
    "\\begin{align*}\n",
    "C_1 &= 2hc_0^2 = 1.19104238\\times 10^8 ~\\mathrm{W}\\cdot\\mu\\mathrm{m}^4/\\mathrm{m}^2 \\\\\n",
    "C_2 &= hc_0/k_\\mathrm{B} = 1.43878\\times10^{4}~\\mu\\mathrm{m}\\cdot\\mathrm{K}\n",
    "\\end{align*}\n",
    "\n",
    "$k_\\mathrm{B} = 1.381\\times 10^{-23}$ J/K $=8.617\\times 10^{-5}$ eV/K, es la constante de Boltzmann. La unidad \"sr\" correponde a un esteroradian."
   ]
  },
  {
   "cell_type": "markdown",
   "id": "4e04c610",
   "metadata": {
    "slideshow": {
     "slide_type": "fragment"
    }
   },
   "source": [
    "Esta es la **distribución de Planck**. Representa la radiancia espectral emitida por un cuerpo idealizado, denominado **cuerpo negro**. Un cuerpo negro, así, representa un emisor perfecto, capaz de emitir la máxima radiacion posible a una temperatura $T$."
   ]
  },
  {
   "cell_type": "markdown",
   "id": "513d759b",
   "metadata": {
    "slideshow": {
     "slide_type": "slide"
    }
   },
   "source": [
    "El poder de emisión hemisférico espectral de la superficie de un cuerpo negro, $E_\\mathrm{bb}(\\lambda,T)$, se obtiene integrando la radiancia espectral por ángulo sólido en el límite de una hemiesfera:\n",
    "\n",
    "\\begin{equation}\n",
    "\\int_\\mathrm{hemi} I_{\\mathrm{bb},\\lambda}(\\lambda,T)\\cos\\theta d\\Omega = \\pi I_{\\mathrm{bb},\\lambda}(\\lambda,T) = E_{\\mathrm{bb},\\lambda}(\\lambda,T),\\quad\\quad\\frac{\\mathrm{W}}{\\mathrm{m}^2\\cdot\\mu\\mathrm{m}}\n",
    "\\end{equation}"
   ]
  },
  {
   "cell_type": "markdown",
   "id": "3cbf0ea5",
   "metadata": {
    "slideshow": {
     "slide_type": "fragment"
    }
   },
   "source": [
    "A partir de la integral de $E_\\mathrm{bb}(\\lambda,T)$ en el espectro de longitudes de onda, obtenemos el poder de emisión hemisferico total de un cuerpo negro:\n",
    "\n",
    "\\begin{equation}\n",
    "\\int_0^\\infty E_{\\mathrm{bb},\\lambda}(\\lambda,T) d\\lambda = \\sigma T^4,\\quad\\quad\\frac{\\mathrm{W}}{\\mathrm{m}^2}\n",
    "\\end{equation}\n",
    "\n",
    "donde $\\sigma = 5.670\\times10^{-8}$ W/m$^2\\cdot$K$^4$, es la *constante de Stefan-Boltzmann.* Esta fórmula se conoce como la **ley de Stefan-Boltzmann**"
   ]
  },
  {
   "cell_type": "markdown",
   "id": "18b26d00",
   "metadata": {
    "slideshow": {
     "slide_type": "slide"
    }
   },
   "source": [
    "En la siguiente figura, se ilustra $E_{\\mathrm{bb},\\lambda}(\\lambda,T)$ función de la temperatura y longitud de onda.\n"
   ]
  },
  {
   "cell_type": "markdown",
   "id": "0c94c575",
   "metadata": {},
   "source": [
    "<img src=\"./images/blackbody_rad.png\" width=\"700px\" align= center>"
   ]
  },
  {
   "cell_type": "markdown",
   "id": "8eb1ce9b",
   "metadata": {
    "slideshow": {
     "slide_type": "slide"
    }
   },
   "source": [
    "A medida que $T$ aumenta, notamos que el máximo de la curva se desplaza hacia el azul. La longitud de onda correspondiente a este máximo, $\\lambda_\\mathrm{peak}$, está definida por la **ley de desplazamiento de Wien:**\n",
    "\n",
    "\\begin{equation}\n",
    "\\lambda_\\mathrm{peak}T = 2897.8\\quad\\mu\\mathrm{m}\\cdot\\mathrm{K}\n",
    "\\end{equation}\n"
   ]
  },
  {
   "cell_type": "markdown",
   "id": "26d022df",
   "metadata": {
    "slideshow": {
     "slide_type": "fragment"
    }
   },
   "source": [
    "Esta relación permite entender el cambio de color de la fuente emisora con la tempertura."
   ]
  },
  {
   "cell_type": "markdown",
   "id": "441619f6",
   "metadata": {
    "slideshow": {
     "slide_type": "fragment"
    }
   },
   "source": [
    "Recordemos, sin embargo,  que **el color de un material no solo se define por la emisión de radiación, sino también por la forma en la que interactúa con la luz incidente**. Como revisamos en las unidades anteriores, esta interacción está condionada por las propiedades radiativas."
   ]
  },
  {
   "cell_type": "markdown",
   "id": "da43fbee",
   "metadata": {
    "slideshow": {
     "slide_type": "slide"
    }
   },
   "source": [
    "### Propiedades Radiativas\n",
    "\n",
    "Definimos como **emisividad direccional espectral, $\\epsilon_{\\lambda,\\Omega}$,** a la *razón entre la radiación emitida por una superficie, $I_\\lambda(\\lambda,T,\\Omega)$, y la radiación emitida por un cuerpo negro, ambas a temperatura $T$*:\n",
    "\n",
    "\\begin{equation}\n",
    "\\epsilon_{\\lambda,\\Omega} = \\frac{I_\\lambda(\\lambda,T,\\Omega)}{I_{\\mathrm{bb},\\lambda}(\\lambda,T,\\Omega)}\n",
    "\\end{equation}\n",
    "\n",
    "De esta forma, $\\epsilon$ es una propiedad adimensional de superfice que varía entre $0 \\le \\epsilon \\le 1$."
   ]
  },
  {
   "cell_type": "markdown",
   "id": "819d0302",
   "metadata": {
    "slideshow": {
     "slide_type": "fragment"
    }
   },
   "source": [
    "Definimos como **absortividad direccional espectral, $A_{\\lambda,\\Omega}$,** a la *porción de radiación incidente que es absorbida por una superficie*. Igualmente, $0 \\le A_{\\lambda,\\Omega} \\le 1$."
   ]
  },
  {
   "cell_type": "markdown",
   "id": "64a21ba8",
   "metadata": {
    "slideshow": {
     "slide_type": "slide"
    }
   },
   "source": [
    "A través de la **ley de Kirchhoff**, podemos establecer una relación entre la absortancia y emisividad espectral direccional:\n",
    "\n",
    "\\begin{equation}\n",
    "\\epsilon_{\\lambda,\\Omega} = A_{\\lambda,\\Omega}\n",
    "\\end{equation}"
   ]
  },
  {
   "cell_type": "markdown",
   "id": "5dd135bb",
   "metadata": {
    "slideshow": {
     "slide_type": "fragment"
    }
   },
   "source": [
    "En otras palabras, las propiedades de un material como receptor o emisor de radiación, son iguales. Este concepto, denominado *reciprocidad*, es consecuencia de las ecuaciones de Maxwell y es la base fundamental para el diseño de antenas y radares."
   ]
  },
  {
   "cell_type": "markdown",
   "id": "1f3f624f",
   "metadata": {
    "slideshow": {
     "slide_type": "slide"
    }
   },
   "source": [
    "Por conservación de energía:\n",
    "\\begin{equation}\n",
    "A_{\\lambda,\\Omega} + R_{\\lambda,\\Omega} + T_{\\lambda,\\Omega} = 1\n",
    "\\end{equation}\n"
   ]
  },
  {
   "cell_type": "markdown",
   "id": "c03d9fac",
   "metadata": {
    "slideshow": {
     "slide_type": "fragment"
    }
   },
   "source": [
    "donde $R_{\\lambda,\\Omega}$ y $T_{\\lambda,\\Omega}$ son, respectivamente, la reflectividad y transmisividad espectral direccional del material"
   ]
  },
  {
   "cell_type": "markdown",
   "id": "d93dacf1",
   "metadata": {
    "slideshow": {
     "slide_type": "fragment"
    }
   },
   "source": [
    "Debido a la naturaleza de la radiación térmica, la polarización de las ondas electromagnéticas es aleatoria. Así, $R_{\\lambda,\\Omega}$ y $T_{\\lambda,\\Omega}$ se calculan como:\n",
    "\n",
    "\\begin{equation}\n",
    "R_{\\lambda,\\Omega} = \\frac{R_{\\lambda,\\Omega}^\\mathrm{TM}+R_{\\lambda,\\Omega}^\\mathrm{TE}}{2}\\quad\\quad\n",
    "T_{\\lambda,\\Omega} = \\frac{T_{\\lambda,\\Omega}^\\mathrm{TM}+T_{\\lambda,\\Omega}^\\mathrm{TE}}{2}\n",
    "\\end{equation}"
   ]
  },
  {
   "cell_type": "markdown",
   "id": "1b34032f",
   "metadata": {
    "slideshow": {
     "slide_type": "fragment"
    }
   },
   "source": [
    "A partir de estas relaciones podemos determinar $\\epsilon_{\\lambda,\\Omega}$."
   ]
  },
  {
   "cell_type": "markdown",
   "id": "048661b3",
   "metadata": {
    "slideshow": {
     "slide_type": "slide"
    }
   },
   "source": [
    "Cabe mencionar que en textos de radiometría y transferencia de calor, la reflectividad y transmisividad se denominan, respectivamente, **reflectancia ($\\rho$)**, **transmitancia ($\\tau$).** Igualmente la absortividad se denomina **absortancia ($\\alpha$).** Ambos términos son equivalentes."
   ]
  },
  {
   "cell_type": "markdown",
   "id": "51fbf681",
   "metadata": {
    "slideshow": {
     "slide_type": "fragment"
    }
   },
   "source": [
    "En este curso, seguiremos utilizando los términos y notación de óptica, es decir $R_{\\lambda,\\Omega}$, $T_{\\lambda,\\Omega}$ y $A_{\\lambda,\\Omega}$, para evitar confusiones. "
   ]
  },
  {
   "cell_type": "markdown",
   "id": "4d61c797",
   "metadata": {
    "slideshow": {
     "slide_type": "slide"
    }
   },
   "source": [
    "Como ejemplo, analicemos el poder de emisión espectral direccional, $E_{\\lambda,\\Omega}(T)$ y la emisividad $\\epsilon(\\lambda,\\Omega)$ de una capa de vidrio en función de la temperatura ($T$), espesor ($d$) y dirección ($\\theta$). En este caso: \n",
    "\n",
    "\\begin{align*}\n",
    "E_{\\lambda,\\Omega}(T) &= \\epsilon(\\lambda,\\Omega)I_{\\mathrm{bb},\\lambda}(\\lambda,\\Omega,T)\\cos\\theta \\\\[10pt]\n",
    " &= \\left[1 - R_{\\lambda,\\Omega} - T_{\\lambda,\\Omega}\\right]I_{\\mathrm{bb},\\lambda}(\\lambda,\\Omega,T)\\cos\\theta\n",
    "\\end{align*}"
   ]
  },
  {
   "cell_type": "markdown",
   "id": "e04ec37d",
   "metadata": {
    "slideshow": {
     "slide_type": "slide"
    }
   },
   "source": [
    "Antes, analicemos el índice de refracción del vidrio (sílicice, SiO$_2$), en el espectro $\\lambda\\in[0.3,15]$ $\\mu$m."
   ]
  },
  {
   "cell_type": "code",
   "execution_count": 1,
   "id": "e34559d2",
   "metadata": {
    "cell_style": "split",
    "slideshow": {
     "slide_type": "fragment"
    },
    "tags": [
     "hide-input"
    ]
   },
   "outputs": [],
   "source": [
    "%%capture showplot\n",
    "import numpy as np\n",
    "import empylib.nklib as nk\n",
    "import matplotlib.pyplot as plt\n",
    "\n",
    "lam = np.linspace(0.3,15,100) #longitud de onda en um\n",
    "plt.plot(lam,nk.SiO2(lam).real,'-r',label='$n$')\n",
    "plt.plot(lam,nk.SiO2(lam).imag,'-b',label='$\\kappa$')\n",
    "plt.xlabel('Longitud de onda, $\\lambda$ ($\\mu$m)',fontsize=16)\n",
    "plt.ylabel('$n$, $\\kappa$',fontsize=16)\n",
    "plt.title('Índice de refracción SiO$_2$',fontsize=18)\n",
    "plt.legend(frameon=False,fontsize=16)\n",
    "plt.tick_params(labelsize=16)"
   ]
  },
  {
   "cell_type": "code",
   "execution_count": 2,
   "id": "20435072",
   "metadata": {
    "cell_style": "split"
   },
   "outputs": [
    {
     "data": {
      "image/png": "[encoded data removed]",
      "text/plain": [
       "<Figure size 640x480 with 1 Axes>"
      ]
     },
     "metadata": {},
     "output_type": "display_data"
    }
   ],
   "source": [
    "showplot()"
   ]
  },
  {
   "cell_type": "markdown",
   "id": "89749a31",
   "metadata": {
    "slideshow": {
     "slide_type": "fragment"
    }
   },
   "source": [
    "Comparamos $E_{\\lambda,\\Omega}(T)$ con el poder de emisión espectral direccional del cuerpo negro, $E_{\\mathrm{bb},\\lambda,\\Omega} = I_{\\mathrm{bb},\\lambda}\\cos\\theta$"
   ]
  },
  {
   "cell_type": "code",
   "execution_count": 3,
   "id": "f24c88be",
   "metadata": {
    "slideshow": {
     "slide_type": "slide"
    },
    "tags": [
     "hide-input"
    ]
   },
   "outputs": [],
   "source": [
    "import empylib.waveoptics as wv\n",
    "import empylib.nklib as nk\n",
    "import numpy as np\n",
    "from numpy import log10, radians, cos\n",
    "import matplotlib.pyplot as plt\n",
    "from empylib.ref_spectra import Bplanck\n",
    "\n",
    "def plot_emisivity_glass(Temp,d,lam0,theta0):\n",
    "    # PARAMETROS DE ENTRADA\n",
    "    lam = np.linspace(0.3,15,100)\n",
    "    Nfront = 1.0                 # índice de refracción medio superior\n",
    "    N1     = nk.SiO2(lam)        # índice de refracción capa intermedia\n",
    "    Nback  = 4.3                 # índice de refracción medio inferior\n",
    "    N = (Nfront, N1, Nback)      # indices de refracción (above, mid, below)\n",
    "    #-------------------------------------------------------------------------\n",
    "\n",
    "    # CÁLCULO DE VARIABLES\n",
    "    # 1. Reflectancia y transmitancia espectral en theta0\n",
    "    Rs, Ts = wv.incoh_multilayer(lam,radians(theta0), N, d*1E3, pol='TM')\n",
    "    Rp, Tp = wv.incoh_multilayer(lam,radians(theta0), N, d*1E3, pol='TE')\n",
    "    \n",
    "    R_lam = (Rs + Rp)/2\n",
    "    T_lam = (Ts + Tp)/2\n",
    "    A_lam = 1 - T_lam - R_lam  # absortancia espectral\n",
    "    \n",
    "   # 2. Reflectancia y transmitancia direccional en lam0\n",
    "    theta = np.linspace(0,90,100)\n",
    "    N = (Nfront, nk.SiO2(lam0), Nback) # indices de refracción (above, mid, below)\n",
    "    \n",
    "    A_theta = [] # generamos la absortancia direccional en este loop\n",
    "    for theta_i in theta:\n",
    "        Rs, Ts = wv.incoh_multilayer(lam0,radians(theta_i), N, d*1E3, pol='TM')\n",
    "        Rp, Tp = wv.incoh_multilayer(lam0,radians(theta_i), N, d*1E3, pol='TE')\n",
    "        R = (Rs + Rp)/2\n",
    "        T = (Ts + Tp)/2\n",
    "        A_theta.append(1 - T - R)\n",
    "    A_theta = np.array(A_theta).flatten() # convertimos la lista a ndarray\n",
    "    \n",
    "    # 3. Poder de emisión direccional espectral\n",
    "    E_lam = A_lam*Bplanck(lam,Temp)*cos(radians(theta0)) # poder de emisión material\n",
    "    E_bb  =       Bplanck(lam,Temp)*cos(radians(theta0)) # poder de emisión de cuerpo negro\n",
    "    #-------------------------------------------------------------------------\n",
    "    \n",
    "    # GRAFICAMOS RESULTADOS.\n",
    "    fig, ax = plt.subplots(1,3)             # 3 ejes\n",
    "    fig.set_size_inches(16, 5)              # Tamaño de figura\n",
    "    \n",
    "    # 1. Propiedades radiativas direccional espectral para theta0\n",
    "    ax[0].plot(lam,R_lam,'--r',label=r'$R_{\\lambda,\\Omega}$',linewidth=0.5)\n",
    "    ax[0].plot(lam,T_lam,'--b',label=r'$T_{\\lambda,\\Omega}$',linewidth=0.5)\n",
    "    ax[0].plot(lam,A_lam,'-k',label=r'$A_{\\lambda,\\Omega}$',linewidth=2.0)  \n",
    "    ax[0].plot(lam0,np.interp(lam0,lam,A_lam),'or',ms=8.0)   \n",
    "    ax[0].set_xlabel('$\\lambda$ ($\\mu$m)',fontsize=18)\n",
    "    ax[0].set_ylabel(r'$R_{\\lambda,\\Omega}$, $T_{\\lambda,\\Omega}$ y $A_{\\lambda,\\Omega}$',fontsize=18)\n",
    "    ax[0].set_ylim(0,1.05)\n",
    "    ax[0].set_title(r'$\\theta = $ %i°' % theta0,fontsize=18)\n",
    "    ax[0].legend(fontsize=16, loc='lower right')\n",
    "    ax[0].tick_params(labelsize=16)\n",
    "    \n",
    "    # 2. Emisividad direccional espectral para lam0\n",
    "    ax[1].plot(theta,A_theta,'-k')  \n",
    "    ax[1].plot(theta0,np.interp(theta0,theta,A_theta),'or',ms=8.0)   \n",
    "    ax[1].set_xlabel(r'$\\theta$ (deg)',fontsize=18)\n",
    "    ax[1].set_ylabel(r'$\\epsilon_{\\lambda,\\Omega}(\\theta)$',fontsize=18)\n",
    "    ax[1].set_title(r'$\\lambda = $ %.2f $\\mu$m' % lam0,fontsize=18)\n",
    "    ax[1].set_ylim(0,1.05)\n",
    "    ax[1].tick_params(labelsize=16)\n",
    "    \n",
    "    # 3. Poder de emisión direccional espectral para theta0\n",
    "    ax[2].plot(lam,E_lam,'-k',label =r'$E_{\\lambda,\\Omega}$')\n",
    "    ax[2].plot(lam,E_bb,'-r',label =r'$E_\\mathrm{bb}$') \n",
    "    ax[2].plot(lam0,np.interp(lam0,lam,E_lam),'or',ms=8.0)   \n",
    "    ax[2].set_xlabel('Longitud de onda ($\\mu$m)',fontsize=18)\n",
    "    ax[2].set_ylabel(r'$E_{\\lambda,\\Omega}$(T) (W/m$^2$-$\\mu$m-sr)',fontsize=18)\n",
    "    ax[2].set_title(r'd = %.2f mm, $\\theta$=%i°' % (d,theta0) ,fontsize=18)\n",
    "    ax[2].set_ylim(0,max(Bplanck(lam,Temp))*1.05)\n",
    "    ax[2].legend(fontsize=16)\n",
    "    ax[2].tick_params(labelsize=16)\n",
    "    \n",
    "    plt.subplots_adjust(wspace=0.30)\n",
    "    plt.show()"
   ]
  },
  {
   "cell_type": "code",
   "execution_count": 4,
   "id": "8e3af1c4",
   "metadata": {
    "slideshow": {
     "slide_type": "slide"
    },
    "tags": [
     "hide-input"
    ]
   },
   "outputs": [
    {
     "data": {
      "application/vnd.jupyter.widget-view+json": {
       "model_id": "fd775e10abef4ed8b8b11e7e1886ac2b",
       "version_major": 2,
       "version_minor": 0
      },
      "text/plain": [
       "interactive(children=(IntSlider(value=300, description='T', max=1000, min=300, step=10), FloatSlider(value=1.0…"
      ]
     },
     "metadata": {},
     "output_type": "display_data"
    }
   ],
   "source": [
    " from ipywidgets import interact\n",
    "\n",
    "@interact(T=(300,1000,10), d=(0,10,0.1), lam0=(5,10,0.1), theta0=(0,90,1))\n",
    "def g(T=300,d=1, lam0=10, theta0=0):\n",
    "    return plot_emisivity_glass(T,d,lam0,theta0)"
   ]
  },
  {
   "cell_type": "markdown",
   "id": "aa13aba2",
   "metadata": {
    "slideshow": {
     "slide_type": "slide"
    }
   },
   "source": []
  },
  {
   "cell_type": "markdown",
   "id": "1071c1d3",
   "metadata": {
    "slideshow": {
     "slide_type": "slide"
    }
   },
   "source": [
    "Al igual que con el poder de emisión, la emisividad puede también ser definida de forma hemisférica (integración por ángulo sólido) o total (integración por longitudes de onda)"
   ]
  },
  {
   "cell_type": "markdown",
   "id": "67f1a8ba",
   "metadata": {
    "slideshow": {
     "slide_type": "fragment"
    }
   },
   "source": [
    "**Emisividad direccional total**\n",
    "\\begin{equation}\n",
    "\\epsilon_\\Omega(\\Omega,T) = \\frac{E_\\Omega(T)}{E_{\\Omega,bb}(T)} =\\frac{\\int_0^\\infty \\epsilon_{\\lambda,\\Omega} I_{\\mathrm{bb},\\lambda} (T)\\cos\\theta~d\\lambda}{\\int_0^\\infty I_{\\mathrm{bb},\\lambda} (T)\\cos\\theta~d\\lambda} = \\frac{\\pi}{\\sigma T^4}\\int_0^\\infty \\epsilon_{\\lambda,\\Omega} I_{\\mathrm{bb},\\lambda} (T)~d\\lambda\n",
    "\\end{equation}"
   ]
  },
  {
   "cell_type": "markdown",
   "id": "6e8b85fd",
   "metadata": {
    "slideshow": {
     "slide_type": "fragment"
    }
   },
   "source": [
    "**Emisividad hemisférica espectral**\n",
    "\\begin{equation}\n",
    "\\epsilon_\\lambda(\\lambda) = \\frac{E_\\lambda(T)}{E_{\\lambda,bb}(T)} = \\frac{\\int_\\mathrm{hemi}\\epsilon_{\\lambda,\\Omega}I_{\\mathrm{bb},\\lambda}(T)\\cos\\theta~d\\Omega}{\\pi I_{\\mathrm{bb},\\lambda}(T)}  = \\frac{1}{\\pi}\\int_\\mathrm{hemi}\\epsilon_{\\lambda,\\Omega}\\cos\\theta~d\\Omega\n",
    "\\end{equation}"
   ]
  },
  {
   "cell_type": "markdown",
   "id": "7af36cfb",
   "metadata": {
    "slideshow": {
     "slide_type": "fragment"
    }
   },
   "source": [
    "**Emisividad hemisférica total**\n",
    "\\begin{equation}\n",
    "\\epsilon(T) = \\frac{E(T)}{\\sigma T^4} =\\frac{1}{\\sigma T^4}\\int\\int_0^\\infty \\epsilon_{\\lambda,\\Omega} I_{\\mathrm{bb},\\lambda} (T)\\cos\\theta~d\\lambda~d\\Omega\n",
    "\\end{equation}"
   ]
  },
  {
   "cell_type": "markdown",
   "id": "041e5c23",
   "metadata": {
    "slideshow": {
     "slide_type": "slide"
    }
   },
   "source": [
    "Notar que las valores totales (integración en el espectro), implícitamente dependen de $T$ debido al factor $\\sigma T^4$."
   ]
  },
  {
   "cell_type": "markdown",
   "id": "42cb2a6f",
   "metadata": {
    "slideshow": {
     "slide_type": "slide"
    }
   },
   "source": [
    "### Materiales idealizados"
   ]
  },
  {
   "cell_type": "markdown",
   "id": "250a53e9",
   "metadata": {
    "slideshow": {
     "slide_type": "fragment"
    }
   },
   "source": [
    "- Decimos que una superficie es **difusa** cuando sus propiedades radiativas no dependen de $\\Omega$. Es práctica común suponer que las superficies son emisores difusos, con una emisividad igual al valor de la dirección normal ($\\theta = 0$)."
   ]
  },
  {
   "cell_type": "markdown",
   "id": "61822fca",
   "metadata": {
    "slideshow": {
     "slide_type": "fragment"
    }
   },
   "source": [
    "- Decimos que una superficie es **gris** cuando la emisividad es independiente de $\\lambda$."
   ]
  },
  {
   "cell_type": "markdown",
   "id": "55b28916",
   "metadata": {
    "slideshow": {
     "slide_type": "fragment"
    }
   },
   "source": [
    "- Decimos que una superficie es **opaca** cuando $T_{\\lambda,\\Omega} = 0$. En este caso, \n",
    "tenemos $A_{\\lambda,\\Omega} + R_{\\lambda,\\Omega} = 1$"
   ]
  },
  {
   "cell_type": "markdown",
   "id": "0107051b",
   "metadata": {
    "slideshow": {
     "slide_type": "fragment"
    }
   },
   "source": [
    "- En el caso de **gases**, $R_{\\lambda,\\Omega} \\approx 0$, así $A_{\\lambda,\\Omega} + T_{\\lambda,\\Omega} = 1$"
   ]
  },
  {
   "cell_type": "markdown",
   "id": "4a494870",
   "metadata": {
    "slideshow": {
     "slide_type": "slide"
    }
   },
   "source": [
    "### Irradiancia (G)"
   ]
  },
  {
   "cell_type": "markdown",
   "id": "fbc52f8b",
   "metadata": {
    "cell_style": "split",
    "slideshow": {
     "slide_type": "fragment"
    }
   },
   "source": [
    "Definimos como **irradiación espectral direccional, $G_{\\lambda,\\Omega}$** a la radiancia espectral incidente en una superficie.\n",
    "\n",
    "<img src=\"./images/irradiance.png\" width=\"300px\" align= center>"
   ]
  },
  {
   "cell_type": "markdown",
   "id": "ee20e9bd",
   "metadata": {
    "cell_style": "split",
    "slideshow": {
     "slide_type": "fragment"
    }
   },
   "source": [
    "Matemáticamente:\n",
    "\n",
    "\\begin{equation}\n",
    "G_{\\lambda,\\Omega} = I_i(\\lambda,\\Omega) \\cos\\theta\\quad\\frac{\\mathrm{W}}{\\mathrm{m}^2}\n",
    "\\end{equation}\n",
    "\n",
    "donde $I_i$ es la radiancia espectral incidente sobre una superficie $dA$"
   ]
  },
  {
   "cell_type": "markdown",
   "id": "28f8903f",
   "metadata": {
    "slideshow": {
     "slide_type": "slide"
    }
   },
   "source": [
    "La irradiancia permite determinar valores promedio para la absortancia, transmitancia y reflectancia. Al igual que en los casos anteriores, podemos extraer valores promedio del tipo hemisférico (integración por ángulo sólido) o total (integración por longitudes de onda). Por ejemplo, para la absortancia"
   ]
  },
  {
   "cell_type": "markdown",
   "id": "04fc2a89",
   "metadata": {
    "slideshow": {
     "slide_type": "fragment"
    }
   },
   "source": [
    "**Absorptancia direccional total**\n",
    "\\begin{equation}\n",
    "\\alpha_\\Omega(\\Omega,T) = \\frac{\\int_0^\\infty \\alpha_{\\lambda,\\Omega} G_{\\lambda,\\Omega} (T)~d\\lambda}{\\int_0^\\infty G_{\\lambda,\\Omega} (T)~d\\lambda}\n",
    "\\end{equation}"
   ]
  },
  {
   "cell_type": "markdown",
   "id": "67f37e2e",
   "metadata": {
    "slideshow": {
     "slide_type": "fragment"
    }
   },
   "source": [
    "**Absorptancia hemisférica espectral**\n",
    "\\begin{equation}\n",
    "\\alpha_\\lambda(\\lambda) = \\frac{\\int_\\mathrm{hemi}\\alpha_{\\lambda,\\Omega}G_{\\lambda,\\Omega}~d\\Omega}{\\pi G_{\\lambda,\\Omega}}\n",
    "\\end{equation}"
   ]
  },
  {
   "cell_type": "markdown",
   "id": "47329f1f",
   "metadata": {
    "slideshow": {
     "slide_type": "fragment"
    }
   },
   "source": [
    "**Absorptancia hemisférica total**\n",
    "\\begin{equation}\n",
    "\\alpha = \\frac{\\int_\\mathrm{hemi} \\int_0^\\infty \\alpha_{\\lambda,\\Omega} G_{\\lambda,\\Omega} (T)~d\\lambda d\\Omega}{\\int_\\mathrm{hemi} \\int_0^\\infty G_{\\lambda,\\Omega} (T)~d\\lambda d\\Omega}\n",
    "\\end{equation}"
   ]
  },
  {
   "cell_type": "markdown",
   "id": "823c3612",
   "metadata": {},
   "source": [
    "### Radiosidad (J)"
   ]
  },
  {
   "cell_type": "markdown",
   "id": "04ee6eb9",
   "metadata": {
    "slideshow": {
     "slide_type": "slide"
    }
   },
   "source": [
    "Definimos como **radiosidad, $J_{\\lambda,\\Omega}$** a la combinación de radiación emitida y reflejada por una superficie"
   ]
  },
  {
   "cell_type": "markdown",
   "id": "bae8d429",
   "metadata": {
    "cell_style": "split",
    "slideshow": {
     "slide_type": "-"
    }
   },
   "source": [
    "\n",
    "<img src=\"./images/radiosity.png\" width=\"250px\" align= center>"
   ]
  },
  {
   "cell_type": "markdown",
   "id": "23a0cca5",
   "metadata": {
    "cell_style": "split",
    "slideshow": {
     "slide_type": "fragment"
    }
   },
   "source": [
    "Matemáticamente:\n",
    "\\begin{equation}\n",
    "J_{\\lambda,\\Omega} = R_{\\lambda,\\Omega}G_{\\lambda,\\Omega}+E_{\\lambda,\\Omega}\n",
    "\\end{equation}"
   ]
  },
  {
   "cell_type": "markdown",
   "id": "0fc1336c",
   "metadata": {
    "slideshow": {
     "slide_type": "fragment"
    }
   },
   "source": [
    "Al igual que con el poder de emisión y la irradiancia, la radiosidad ($J_{\\lambda,\\Omega}$) puede ser definidas de forma hemisférica (integrando por ángulo sólido) o total (integrando por longitud de onda)."
   ]
  },
  {
   "cell_type": "markdown",
   "id": "7c66c252",
   "metadata": {
    "slideshow": {
     "slide_type": "slide"
    }
   },
   "source": [
    "## Transferencia de calor por radiación"
   ]
  },
  {
   "cell_type": "markdown",
   "id": "4d97cde2",
   "metadata": {
    "slideshow": {
     "slide_type": "slide"
    }
   },
   "source": [
    "### Factor de visión para superficies difusas\n",
    "La transferencia de calor por radiación depende de la orientación relativa entre las superficies."
   ]
  },
  {
   "cell_type": "markdown",
   "id": "a9c57dec",
   "metadata": {
    "slideshow": {
     "slide_type": "fragment"
    }
   },
   "source": [
    "En general, este análisis es complejo ya que requiere integración por ángulo sólido considerando factores geométricos y dependencia de las propiedades radiativas con la orientación. En el caso de superficies difusas, sin embargo, podemos simplificar el análisis considerando sólamente los aspectos geométricos."
   ]
  },
  {
   "cell_type": "markdown",
   "id": "24d32a93",
   "metadata": {
    "slideshow": {
     "slide_type": "slide"
    }
   },
   "source": [
    "Consideremos el parámetro,  $\\dot{Q}_{dA_1\\rightarrow dA_2}$, que representa la radiación espectral emitida por una superficie $dA_1$ que incide sobre una superficie $dA_2$."
   ]
  },
  {
   "cell_type": "markdown",
   "id": "2361fe98",
   "metadata": {
    "cell_style": "split",
    "slideshow": {
     "slide_type": "fragment"
    }
   },
   "source": [
    "\n",
    "<img src=\"./images/vision_factor.png\" width=\"250px\" align= center>"
   ]
  },
  {
   "cell_type": "markdown",
   "id": "551f2ce3",
   "metadata": {
    "cell_style": "split",
    "slideshow": {
     "slide_type": "-"
    }
   },
   "source": [
    "\\begin{equation*}\n",
    "dQ_{dA_1\\rightarrow dA_2} = I_{\\mathrm{bb},\\lambda}(T_1)\\cos\\theta_1 dA_1 d\\Omega_{12}\n",
    "\\end{equation*}"
   ]
  },
  {
   "cell_type": "markdown",
   "id": "8d71c791",
   "metadata": {
    "cell_style": "split",
    "slideshow": {
     "slide_type": "fragment"
    }
   },
   "source": [
    "A través de la relación $r^2 d\\Omega_{12} = \\cos\\theta_2 dA_2$, podemos determinar:\n",
    "\n",
    "\\begin{equation*}\n",
    "\\dot{Q}_{dA_1\\rightarrow dA_2} = I_{\\mathrm{bb},\\lambda}(T_1) \\frac{\\cos\\theta_1 \\cos\\theta_2}{r^2 }dA_1dA_2\n",
    "\\end{equation*}"
   ]
  },
  {
   "cell_type": "markdown",
   "id": "f892a331",
   "metadata": {
    "slideshow": {
     "slide_type": "slide"
    }
   },
   "source": [
    "La radiación total espectral que incide sobre la superficie $A_2$, es:\n",
    "\n",
    "\\begin{equation*}\n",
    "\\dot{Q}_{A_1\\rightarrow A_2} = \\int_{A_1}\\int_{A_1}I_{\\mathrm{bb},\\lambda}(T_1) \\frac{\\cos\\theta_1 \\cos\\theta_2}{r^2 }dA_1dA_2\n",
    "\\end{equation*}"
   ]
  },
  {
   "cell_type": "markdown",
   "id": "1ecc9bb7",
   "metadata": {
    "slideshow": {
     "slide_type": "fragment"
    }
   },
   "source": [
    "Definimos como **factor de visión o factor de forma, $F_{12}$** a la razón entre $\\dot{Q}_{A_1\\rightarrow A_2}$ y la radiación hemisférica espectral emitida por $A_1$, es decir $\\dot{Q}_{A_1} = \\pi I_{\\mathrm{bb},\\lambda}(T_1) A_1 $:\n",
    "\n",
    "\n",
    "\\begin{equation}\n",
    "F_{12} = \\frac{\\dot{Q}_{A_1\\rightarrow A_2}}{\\dot{Q}_{A_1}} = \\frac{1}{A_1}\\int_{A_1}\\int_{A_2} \\frac{\\cos\\theta_1 \\cos\\theta_2}{\\pi r^2 }dA_1dA_2\n",
    "\\end{equation}"
   ]
  },
  {
   "cell_type": "markdown",
   "id": "410f376e",
   "metadata": {
    "slideshow": {
     "slide_type": "fragment"
    }
   },
   "source": [
    "El factor de visión permite simplificar el análisis para determinar el calor por radiación transferido a una superficie, de la forma:\n",
    "\n",
    "\\begin{equation*}\n",
    "\\dot{Q}_{A_1\\rightarrow A_2} = I_{\\mathrm{bb},\\lambda}(T_1) A_1F_{12}\n",
    "\\end{equation*}"
   ]
  },
  {
   "cell_type": "markdown",
   "id": "9973f4be",
   "metadata": {
    "slideshow": {
     "slide_type": "slide"
    }
   },
   "source": [
    "Por reciprocidad, el factor de visión desde $A_2$ a $A_1$ es:\n",
    "\n",
    "\\begin{equation*}\n",
    "F_{21} = \\frac{1}{A_2}\\int_{A_1}\\int_{A_2} \\frac{\\cos\\theta_1 \\cos\\theta_2}{\\pi r^2 }dA_1dA_2\n",
    "\\end{equation*}"
   ]
  },
  {
   "cell_type": "markdown",
   "id": "fd088d94",
   "metadata": {
    "slideshow": {
     "slide_type": "fragment"
    }
   },
   "source": [
    "De donde deducimos la relación:\n",
    "\n",
    "\\begin{equation}\n",
    "A_1 F_{12} = A_2 F_{21}\n",
    "\\end{equation}"
   ]
  },
  {
   "cell_type": "markdown",
   "id": "3e0d1079",
   "metadata": {
    "slideshow": {
     "slide_type": "fragment"
    }
   },
   "source": [
    "Las expresiones para el factor de visión se encuentran tabuladas en diversos textos especializados. "
   ]
  },
  {
   "cell_type": "markdown",
   "id": "1f2c6d99",
   "metadata": {
    "slideshow": {
     "slide_type": "slide"
    }
   },
   "source": [
    "Si una de las superficies es muy pequeña respecto a la otra, $F_{12} = 1$"
   ]
  },
  {
   "cell_type": "markdown",
   "id": "4f7b9ad8",
   "metadata": {},
   "source": [
    "\n",
    "<img src=\"./images/vision_factor_table.png\" width=\"500px\" align= center>"
   ]
  },
  {
   "cell_type": "markdown",
   "id": "bd990181",
   "metadata": {
    "slideshow": {
     "slide_type": "slide"
    }
   },
   "source": [
    "### Transferencia de calor por radiación\n",
    "En el caso de dos superficies negras a temperaturas $T_1$ y $T_2$, la transferencia de calor neta por radiación es:\n",
    "\n",
    "\\begin{align}\n",
    "\\dot{Q} &= \\dot{Q}_{A_1\\rightarrow A_2} - \\dot{Q}_{A_2\\rightarrow A_1} \\nonumber \\\\[10pt]\n",
    "&= A_1F_{12}\\sigma T_1^4 - A_2F_{21}\\sigma T_2^4 \\nonumber \\\\[10pt]\n",
    "&= A_1F_{12}\\sigma\\left(T_1^4 - T_2^4\\right)\n",
    "\\end{align}"
   ]
  },
  {
   "cell_type": "markdown",
   "id": "17c1dc23",
   "metadata": {
    "cell_style": "center",
    "slideshow": {
     "slide_type": "slide"
    }
   },
   "source": [
    "## Referencias\n",
    "- Çengel Y. A y Ghanjar A. J. **Capítulo 12 - Fundamentos de la radiación térmica** en *Transferencia de calor y masa*, 4ta Ed, McGraw Hill, 2011"
   ]
  },
  {
   "cell_type": "code",
   "execution_count": 5,
   "id": "6e0a420c",
   "metadata": {
    "tags": [
     "remove-input"
    ]
   },
   "outputs": [
    {
     "data": {
      "image/jpeg": "[encoded data removed]",
      "text/html": [
       "\n",
       "        <iframe\n",
       "            width=\"600\"\n",
       "            height=\"400\"\n",
       "            src=\"https://www.youtube.com/embed/FDmYCI_xYlA?playsinline=0\"\n",
       "            frameborder=\"0\"\n",
       "            allowfullscreen\n",
       "            \n",
       "        ></iframe>\n",
       "        "
      ],
      "text/plain": [
       "<IPython.lib.display.YouTubeVideo at 0x7f5470fa36d0>"
      ]
     },
     "execution_count": 5,
     "metadata": {},
     "output_type": "execute_result"
    }
   ],
   "source": [
    "from IPython.display import YouTubeVideo\n",
    "YouTubeVideo('FDmYCI_xYlA', width=600, height=400,  playsinline=0)"
   ]
  }
 ],
 "metadata": {
  "celltoolbar": "Slideshow",
  "kernelspec": {
   "display_name": "Python 3 (ipykernel)",
   "language": "python",
   "name": "python3"
  },
  "language_info": {
   "codemirror_mode": {
    "name": "ipython",
    "version": 3
   },
   "file_extension": ".py",
   "mimetype": "text/x-python",
   "name": "python",
   "nbconvert_exporter": "python",
   "pygments_lexer": "ipython3",
   "version": "3.9.16"
  },
  "latex_envs": {
   "LaTeX_envs_menu_present": false,
   "autoclose": false,
   "autocomplete": false,
   "bibliofile": "biblio.bib",
   "cite_by": "apalike",
   "current_citInitial": 1,
   "eqLabelWithNumbers": true,
   "eqNumInitial": 1,
   "hotkeys": {
    "equation": "Ctrl-E",
    "itemize": "Ctrl-I"
   },
   "labels_anchors": false,
   "latex_user_defs": false,
   "report_style_numbering": false,
   "user_envs_cfg": true
  },
  "toc": {
   "base_numbering": 1,
   "nav_menu": {},
   "number_sections": true,
   "sideBar": true,
   "skip_h1_title": true,
   "title_cell": "Tabla de contenidos",
   "title_sidebar": "Contenidos",
   "toc_cell": false,
   "toc_position": {
    "height": "calc(100% - 180px)",
    "left": "10px",
    "top": "150px",
    "width": "307.2px"
   },
   "toc_section_display": true,
   "toc_window_display": false
  },
  "varInspector": {
   "cols": {
    "lenName": 16,
    "lenType": 16,
    "lenVar": 40
   },
   "kernels_config": {
    "python": {
     "delete_cmd_postfix": "",
     "delete_cmd_prefix": "del ",
     "library": "var_list.py",
     "varRefreshCmd": "print(var_dic_list())"
    },
    "r": {
     "delete_cmd_postfix": ") ",
     "delete_cmd_prefix": "rm(",
     "library": "var_list.r",
     "varRefreshCmd": "cat(var_dic_list()) "
    }
   },
   "types_to_exclude": [
    "module",
    "function",
    "builtin_function_or_method",
    "instance",
    "_Feature"
   ],
   "window_display": false
  },
  "widgets": {
   "application/vnd.jupyter.widget-state+json": {
    "state": {
     "04d0a182e75a4243bffc1e8d250d09b0": {
      "model_module": "@jupyter-widgets/controls",
      "model_module_version": "2.0.0",
      "model_name": "SliderStyleModel",
      "state": {
       "_model_module": "@jupyter-widgets/controls",
       "_model_module_version": "2.0.0",
       "_model_name": "SliderStyleModel",
       "_view_count": null,
       "_view_module": "@jupyter-widgets/base",
       "_view_module_version": "2.0.0",
       "_view_name": "StyleView",
       "description_width": "",
       "handle_color": null
      }
     },
     "169651f88f574e3aacf39aa7ef519f0b": {
      "model_module": "@jupyter-widgets/controls",
      "model_module_version": "2.0.0",
      "model_name": "FloatSliderModel",
      "state": {
       "_dom_classes": [],
       "_model_module": "@jupyter-widgets/controls",
       "_model_module_version": "2.0.0",
       "_model_name": "FloatSliderModel",
       "_view_count": null,
       "_view_module": "@jupyter-widgets/controls",
       "_view_module_version": "2.0.0",
       "_view_name": "FloatSliderView",
       "behavior": "drag-tap",
       "continuous_update": true,
       "description": "lam0",
       "description_allow_html": false,
       "disabled": false,
       "layout": "IPY_MODEL_b390dd64ee3e4888bd513ceff1faa6af",
       "max": 10.0,
       "min": 5.0,
       "orientation": "horizontal",
       "readout": true,
       "readout_format": ".2f",
       "step": 0.1,
       "style": "IPY_MODEL_3d1a441eb35b4fdda9eac9054949dfdc",
       "tabbable": null,
       "tooltip": null,
       "value": 10.0
      }
     },
     "298f6d7d8c844ba58fce1b7ab8c198c8": {
      "model_module": "@jupyter-widgets/controls",
      "model_module_version": "2.0.0",
      "model_name": "IntSliderModel",
      "state": {
       "_dom_classes": [],
       "_model_module": "@jupyter-widgets/controls",
       "_model_module_version": "2.0.0",
       "_model_name": "IntSliderModel",
       "_view_count": null,
       "_view_module": "@jupyter-widgets/controls",
       "_view_module_version": "2.0.0",
       "_view_name": "IntSliderView",
       "behavior": "drag-tap",
       "continuous_update": true,
       "description": "theta0",
       "description_allow_html": false,
       "disabled": false,
       "layout": "IPY_MODEL_65976c0417bc4c809a558b0d85423b94",
       "max": 90,
       "min": 0,
       "orientation": "horizontal",
       "readout": true,
       "readout_format": "d",
       "step": 1,
       "style": "IPY_MODEL_31b794b117c849ce955dc70864c59fc0",
       "tabbable": null,
       "tooltip": null,
       "value": 0
      }
     },
     "31b794b117c849ce955dc70864c59fc0": {
      "model_module": "@jupyter-widgets/controls",
      "model_module_version": "2.0.0",
      "model_name": "SliderStyleModel",
      "state": {
       "_model_module": "@jupyter-widgets/controls",
       "_model_module_version": "2.0.0",
       "_model_name": "SliderStyleModel",
       "_view_count": null,
       "_view_module": "@jupyter-widgets/base",
       "_view_module_version": "2.0.0",
       "_view_name": "StyleView",
       "description_width": "",
       "handle_color": null
      }
     },
     "3d1a441eb35b4fdda9eac9054949dfdc": {
      "model_module": "@jupyter-widgets/controls",
      "model_module_version": "2.0.0",
      "model_name": "SliderStyleModel",
      "state": {
       "_model_module": "@jupyter-widgets/controls",
       "_model_module_version": "2.0.0",
       "_model_name": "SliderStyleModel",
       "_view_count": null,
       "_view_module": "@jupyter-widgets/base",
       "_view_module_version": "2.0.0",
       "_view_name": "StyleView",
       "description_width": "",
       "handle_color": null
      }
     },
     "47d30c5b43344fe28e3c596700ad08e1": {
      "model_module": "@jupyter-widgets/controls",
      "model_module_version": "2.0.0",
      "model_name": "FloatSliderModel",
      "state": {
       "_dom_classes": [],
       "_model_module": "@jupyter-widgets/controls",
       "_model_module_version": "2.0.0",
       "_model_name": "FloatSliderModel",
       "_view_count": null,
       "_view_module": "@jupyter-widgets/controls",
       "_view_module_version": "2.0.0",
       "_view_name": "FloatSliderView",
       "behavior": "drag-tap",
       "continuous_update": true,
       "description": "d",
       "description_allow_html": false,
       "disabled": false,
       "layout": "IPY_MODEL_c7cbc4a938ce4fb59a12a24182c1adef",
       "max": 10.0,
       "min": 0.0,
       "orientation": "horizontal",
       "readout": true,
       "readout_format": ".2f",
       "step": 0.1,
       "style": "IPY_MODEL_04d0a182e75a4243bffc1e8d250d09b0",
       "tabbable": null,
       "tooltip": null,
       "value": 1.0
      }
     },
     "597e996021c646c0b552cffa66ea7ce4": {
      "model_module": "@jupyter-widgets/base",
      "model_module_version": "2.0.0",
      "model_name": "LayoutModel",
      "state": {
       "_model_module": "@jupyter-widgets/base",
       "_model_module_version": "2.0.0",
       "_model_name": "LayoutModel",
       "_view_count": null,
       "_view_module": "@jupyter-widgets/base",
       "_view_module_version": "2.0.0",
       "_view_name": "LayoutView",
       "align_content": null,
       "align_items": null,
       "align_self": null,
       "border_bottom": null,
       "border_left": null,
       "border_right": null,
       "border_top": null,
       "bottom": null,
       "display": null,
       "flex": null,
       "flex_flow": null,
       "grid_area": null,
       "grid_auto_columns": null,
       "grid_auto_flow": null,
       "grid_auto_rows": null,
       "grid_column": null,
       "grid_gap": null,
       "grid_row": null,
       "grid_template_areas": null,
       "grid_template_columns": null,
       "grid_template_rows": null,
       "height": null,
       "justify_content": null,
       "justify_items": null,
       "left": null,
       "margin": null,
       "max_height": null,
       "max_width": null,
       "min_height": null,
       "min_width": null,
       "object_fit": null,
       "object_position": null,
       "order": null,
       "overflow": null,
       "padding": null,
       "right": null,
       "top": null,
       "visibility": null,
       "width": null
      }
     },
     "65976c0417bc4c809a558b0d85423b94": {
      "model_module": "@jupyter-widgets/base",
      "model_module_version": "2.0.0",
      "model_name": "LayoutModel",
      "state": {
       "_model_module": "@jupyter-widgets/base",
       "_model_module_version": "2.0.0",
       "_model_name": "LayoutModel",
       "_view_count": null,
       "_view_module": "@jupyter-widgets/base",
       "_view_module_version": "2.0.0",
       "_view_name": "LayoutView",
       "align_content": null,
       "align_items": null,
       "align_self": null,
       "border_bottom": null,
       "border_left": null,
       "border_right": null,
       "border_top": null,
       "bottom": null,
       "display": null,
       "flex": null,
       "flex_flow": null,
       "grid_area": null,
       "grid_auto_columns": null,
       "grid_auto_flow": null,
       "grid_auto_rows": null,
       "grid_column": null,
       "grid_gap": null,
       "grid_row": null,
       "grid_template_areas": null,
       "grid_template_columns": null,
       "grid_template_rows": null,
       "height": null,
       "justify_content": null,
       "justify_items": null,
       "left": null,
       "margin": null,
       "max_height": null,
       "max_width": null,
       "min_height": null,
       "min_width": null,
       "object_fit": null,
       "object_position": null,
       "order": null,
       "overflow": null,
       "padding": null,
       "right": null,
       "top": null,
       "visibility": null,
       "width": null
      }
     },
     "9b1c01e4b3eb4fb790f3027884f30be0": {
      "model_module": "@jupyter-widgets/base",
      "model_module_version": "2.0.0",
      "model_name": "LayoutModel",
      "state": {
       "_model_module": "@jupyter-widgets/base",
       "_model_module_version": "2.0.0",
       "_model_name": "LayoutModel",
       "_view_count": null,
       "_view_module": "@jupyter-widgets/base",
       "_view_module_version": "2.0.0",
       "_view_name": "LayoutView",
       "align_content": null,
       "align_items": null,
       "align_self": null,
       "border_bottom": null,
       "border_left": null,
       "border_right": null,
       "border_top": null,
       "bottom": null,
       "display": null,
       "flex": null,
       "flex_flow": null,
       "grid_area": null,
       "grid_auto_columns": null,
       "grid_auto_flow": null,
       "grid_auto_rows": null,
       "grid_column": null,
       "grid_gap": null,
       "grid_row": null,
       "grid_template_areas": null,
       "grid_template_columns": null,
       "grid_template_rows": null,
       "height": null,
       "justify_content": null,
       "justify_items": null,
       "left": null,
       "margin": null,
       "max_height": null,
       "max_width": null,
       "min_height": null,
       "min_width": null,
       "object_fit": null,
       "object_position": null,
       "order": null,
       "overflow": null,
       "padding": null,
       "right": null,
       "top": null,
       "visibility": null,
       "width": null
      }
     },
     "b390dd64ee3e4888bd513ceff1faa6af": {
      "model_module": "@jupyter-widgets/base",
      "model_module_version": "2.0.0",
      "model_name": "LayoutModel",
      "state": {
       "_model_module": "@jupyter-widgets/base",
       "_model_module_version": "2.0.0",
       "_model_name": "LayoutModel",
       "_view_count": null,
       "_view_module": "@jupyter-widgets/base",
       "_view_module_version": "2.0.0",
       "_view_name": "LayoutView",
       "align_content": null,
       "align_items": null,
       "align_self": null,
       "border_bottom": null,
       "border_left": null,
       "border_right": null,
       "border_top": null,
       "bottom": null,
       "display": null,
       "flex": null,
       "flex_flow": null,
       "grid_area": null,
       "grid_auto_columns": null,
       "grid_auto_flow": null,
       "grid_auto_rows": null,
       "grid_column": null,
       "grid_gap": null,
       "grid_row": null,
       "grid_template_areas": null,
       "grid_template_columns": null,
       "grid_template_rows": null,
       "height": null,
       "justify_content": null,
       "justify_items": null,
       "left": null,
       "margin": null,
       "max_height": null,
       "max_width": null,
       "min_height": null,
       "min_width": null,
       "object_fit": null,
       "object_position": null,
       "order": null,
       "overflow": null,
       "padding": null,
       "right": null,
       "top": null,
       "visibility": null,
       "width": null
      }
     },
     "bed3795e564e48639b1ed4445b7ae7d0": {
      "model_module": "@jupyter-widgets/controls",
      "model_module_version": "2.0.0",
      "model_name": "SliderStyleModel",
      "state": {
       "_model_module": "@jupyter-widgets/controls",
       "_model_module_version": "2.0.0",
       "_model_name": "SliderStyleModel",
       "_view_count": null,
       "_view_module": "@jupyter-widgets/base",
       "_view_module_version": "2.0.0",
       "_view_name": "StyleView",
       "description_width": "",
       "handle_color": null
      }
     },
     "c7cbc4a938ce4fb59a12a24182c1adef": {
      "model_module": "@jupyter-widgets/base",
      "model_module_version": "2.0.0",
      "model_name": "LayoutModel",
      "state": {
       "_model_module": "@jupyter-widgets/base",
       "_model_module_version": "2.0.0",
       "_model_name": "LayoutModel",
       "_view_count": null,
       "_view_module": "@jupyter-widgets/base",
       "_view_module_version": "2.0.0",
       "_view_name": "LayoutView",
       "align_content": null,
       "align_items": null,
       "align_self": null,
       "border_bottom": null,
       "border_left": null,
       "border_right": null,
       "border_top": null,
       "bottom": null,
       "display": null,
       "flex": null,
       "flex_flow": null,
       "grid_area": null,
       "grid_auto_columns": null,
       "grid_auto_flow": null,
       "grid_auto_rows": null,
       "grid_column": null,
       "grid_gap": null,
       "grid_row": null,
       "grid_template_areas": null,
       "grid_template_columns": null,
       "grid_template_rows": null,
       "height": null,
       "justify_content": null,
       "justify_items": null,
       "left": null,
       "margin": null,
       "max_height": null,
       "max_width": null,
       "min_height": null,
       "min_width": null,
       "object_fit": null,
       "object_position": null,
       "order": null,
       "overflow": null,
       "padding": null,
       "right": null,
       "top": null,
       "visibility": null,
       "width": null
      }
     },
     "de2973a3993641c290b36faad576432e": {
      "model_module": "@jupyter-widgets/output",
      "model_module_version": "1.0.0",
      "model_name": "OutputModel",
      "state": {
       "_dom_classes": [],
       "_model_module": "@jupyter-widgets/output",
       "_model_module_version": "1.0.0",
       "_model_name": "OutputModel",
       "_view_count": null,
       "_view_module": "@jupyter-widgets/output",
       "_view_module_version": "1.0.0",
       "_view_name": "OutputView",
       "layout": "IPY_MODEL_9b1c01e4b3eb4fb790f3027884f30be0",
       "msg_id": "",
       "outputs": [
        {
         "data": {
          "image/png": "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",
          "text/plain": "<Figure size 1600x500 with 3 Axes>"
         },
         "metadata": {},
         "output_type": "display_data"
        }
       ],
       "tabbable": null,
       "tooltip": null
      }
     },
     "e59d4007d0074a389c569b7cdb28751e": {
      "model_module": "@jupyter-widgets/base",
      "model_module_version": "2.0.0",
      "model_name": "LayoutModel",
      "state": {
       "_model_module": "@jupyter-widgets/base",
       "_model_module_version": "2.0.0",
       "_model_name": "LayoutModel",
       "_view_count": null,
       "_view_module": "@jupyter-widgets/base",
       "_view_module_version": "2.0.0",
       "_view_name": "LayoutView",
       "align_content": null,
       "align_items": null,
       "align_self": null,
       "border_bottom": null,
       "border_left": null,
       "border_right": null,
       "border_top": null,
       "bottom": null,
       "display": null,
       "flex": null,
       "flex_flow": null,
       "grid_area": null,
       "grid_auto_columns": null,
       "grid_auto_flow": null,
       "grid_auto_rows": null,
       "grid_column": null,
       "grid_gap": null,
       "grid_row": null,
       "grid_template_areas": null,
       "grid_template_columns": null,
       "grid_template_rows": null,
       "height": null,
       "justify_content": null,
       "justify_items": null,
       "left": null,
       "margin": null,
       "max_height": null,
       "max_width": null,
       "min_height": null,
       "min_width": null,
       "object_fit": null,
       "object_position": null,
       "order": null,
       "overflow": null,
       "padding": null,
       "right": null,
       "top": null,
       "visibility": null,
       "width": null
      }
     },
     "f43af60abffe46a1855274b878a76114": {
      "model_module": "@jupyter-widgets/controls",
      "model_module_version": "2.0.0",
      "model_name": "IntSliderModel",
      "state": {
       "_dom_classes": [],
       "_model_module": "@jupyter-widgets/controls",
       "_model_module_version": "2.0.0",
       "_model_name": "IntSliderModel",
       "_view_count": null,
       "_view_module": "@jupyter-widgets/controls",
       "_view_module_version": "2.0.0",
       "_view_name": "IntSliderView",
       "behavior": "drag-tap",
       "continuous_update": true,
       "description": "T",
       "description_allow_html": false,
       "disabled": false,
       "layout": "IPY_MODEL_e59d4007d0074a389c569b7cdb28751e",
       "max": 1000,
       "min": 300,
       "orientation": "horizontal",
       "readout": true,
       "readout_format": "d",
       "step": 10,
       "style": "IPY_MODEL_bed3795e564e48639b1ed4445b7ae7d0",
       "tabbable": null,
       "tooltip": null,
       "value": 300
      }
     },
     "fd775e10abef4ed8b8b11e7e1886ac2b": {
      "model_module": "@jupyter-widgets/controls",
      "model_module_version": "2.0.0",
      "model_name": "VBoxModel",
      "state": {
       "_dom_classes": [
        "widget-interact"
       ],
       "_model_module": "@jupyter-widgets/controls",
       "_model_module_version": "2.0.0",
       "_model_name": "VBoxModel",
       "_view_count": null,
       "_view_module": "@jupyter-widgets/controls",
       "_view_module_version": "2.0.0",
       "_view_name": "VBoxView",
       "box_style": "",
       "children": [
        "IPY_MODEL_f43af60abffe46a1855274b878a76114",
        "IPY_MODEL_47d30c5b43344fe28e3c596700ad08e1",
        "IPY_MODEL_169651f88f574e3aacf39aa7ef519f0b",
        "IPY_MODEL_298f6d7d8c844ba58fce1b7ab8c198c8",
        "IPY_MODEL_de2973a3993641c290b36faad576432e"
       ],
       "layout": "IPY_MODEL_597e996021c646c0b552cffa66ea7ce4",
       "tabbable": null,
       "tooltip": null
      }
     }
    },
    "version_major": 2,
    "version_minor": 0
   }
  }
 },
 "nbformat": 4,
 "nbformat_minor": 5
}