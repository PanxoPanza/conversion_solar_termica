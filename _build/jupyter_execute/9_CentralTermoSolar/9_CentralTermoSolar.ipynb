{
 "cells": [
  {
   "cell_type": "markdown",
   "id": "8b01ca79",
   "metadata": {
    "slideshow": {
     "slide_type": "slide"
    }
   },
   "source": [
    " <font size=\"6\">MEC501 - Manejo y Conversión de Energía Solar Térmica</font>\n",
    "# Central Termosolar\n",
    "<br><br><br><br>\n",
    "Profesor: Francisco Ramírez Cuevas<br>\n",
    "Fecha: 4 de noviembre 2022"
   ]
  },
  {
   "cell_type": "markdown",
   "id": "6dc2e1f0",
   "metadata": {
    "slideshow": {
     "slide_type": "slide"
    }
   },
   "source": [
    "## Introducción\n",
    "\n",
    "Los colectores estacionarios permiten alcanzar temperaturas relativamente bajas. Esto debido a que el absorvedor y la apertura del sistema (definido por la covertura transparente) tiene áreas similares. El formato es ventajoso para sistemas estacionarios, ya que permite capturar gran parte de la radiación solar difusa y directa sin necesidad de cambiar la orientación del colector."
   ]
  },
  {
   "cell_type": "markdown",
   "id": "91f56641",
   "metadata": {
    "slideshow": {
     "slide_type": "fragment"
    }
   },
   "source": [
    "Intuitivamente, una forma de **aumentar la temperatura de trabajo es reducir el área del absorbedor y aumentar el área de la apertura**. Esto permite incrementar el flujo de energía por unidad de superficie y, por consecuencia, aumentar la temperatura de salida del fluido de trabajo."
   ]
  },
  {
   "cell_type": "markdown",
   "id": "835b8ea0",
   "metadata": {
    "slideshow": {
     "slide_type": "fragment"
    }
   },
   "source": [
    "Llamamos **concentración solar** a la práctica de aumentar la razón de áreas entre la apertura y el absorbedor."
   ]
  },
  {
   "cell_type": "markdown",
   "id": "999c3ceb",
   "metadata": {
    "slideshow": {
     "slide_type": "slide"
    }
   },
   "source": [
    "¿Para qué necesitamos mayores temperaturas?"
   ]
  },
  {
   "cell_type": "markdown",
   "id": "10b63fce",
   "metadata": {
    "cell_style": "split",
    "slideshow": {
     "slide_type": "fragment"
    }
   },
   "source": [
    "La mejor forma de entender el efecto de un aumento de temperatura es mediante el **ciclo de Carnot,** *un modelo idealizado de un ciclo termodinámico de potencia que opera entre una fuente a temperatura $T_\\mathrm{H}$ y que rechaza calor a un sumidero con temperatura $T_\\mathrm{C}$*. \n",
    "\n",
    "<img src=\"./images/Carnot_Cycle.png\" width=\"300\" align= center>"
   ]
  },
  {
   "cell_type": "markdown",
   "id": "6173bc49",
   "metadata": {
    "cell_style": "split",
    "slideshow": {
     "slide_type": "fragment"
    }
   },
   "source": [
    "**El ciclo de Carnot define la máxima eficiencia** que puede alcanzar un ciclo termodinámico operando en estas condiciones:\n",
    "\n",
    "\\begin{equation*}\n",
    "\\eta = 1 - \\frac{T_\\mathrm{C}}{T_\\mathrm{H}}\n",
    "\\end{equation*}"
   ]
  },
  {
   "cell_type": "markdown",
   "id": "56f5a454",
   "metadata": {
    "cell_style": "split",
    "slideshow": {
     "slide_type": "fragment"
    }
   },
   "source": [
    "Comúnmente, el calor $Q_\\mathrm{C}$ es rechazado al ambiente y, por lo tanto, $T_\\mathrm{C} = T_a$, donde $T_a$ es la temperatura atmosférica. \n",
    "\n",
    "Así, la eficiencia termodínámica del sistema está condicionada por $T_\\mathrm{H}$."
   ]
  },
  {
   "cell_type": "markdown",
   "id": "3d59a138",
   "metadata": {
    "slideshow": {
     "slide_type": "fragment"
    }
   },
   "source": [
    "En conclución, **la concentración solar permite aumentar la eficiencia termodinámica del sistema y, por consecuencia, un mejor aprovechamiento de la energía solar térmica.**"
   ]
  },
  {
   "cell_type": "markdown",
   "id": "8886a30c",
   "metadata": {
    "slideshow": {
     "slide_type": "slide"
    }
   },
   "source": [
    "¿Cómo transformamos la energía solar capturada en energía útil?"
   ]
  },
  {
   "cell_type": "markdown",
   "id": "a9091d89",
   "metadata": {
    "slideshow": {
     "slide_type": "fragment"
    }
   },
   "source": [
    "En el caso de los colectores estacionarios, la principal función es obtener agua caliente. La concentración solar, sin embargo, permite generar vapor de agua, el cual puede ser utilizado para generar energía eléctrica a travéz de una turbina de vapor acoplada a un alternador."
   ]
  },
  {
   "cell_type": "markdown",
   "id": "79eb17e2",
   "metadata": {
    "slideshow": {
     "slide_type": "fragment"
    }
   },
   "source": [
    "Una **central termosolar es una instalación de generación de energía eléctrica a través de un ciclo termodinámico de vapor.**"
   ]
  },
  {
   "cell_type": "markdown",
   "id": "de6ecdde",
   "metadata": {
    "slideshow": {
     "slide_type": "fragment"
    }
   },
   "source": [
    "Los principales componentes de una central termosolar son:\n",
    "\n",
    "- Sistemas de captura de energía solar térmica (concentradores solares)\n",
    "- Sistema de transporte y almacenaje de energía térmica (Fluído de transferencia de calor)\n",
    "- Sistema de conversión de energía térmica a energía eléctrica (Ciclo termodinámico)"
   ]
  },
  {
   "cell_type": "markdown",
   "id": "63ff979c",
   "metadata": {
    "slideshow": {
     "slide_type": "fragment"
    }
   },
   "source": [
    "A continuación revisaremos los aspectos principales de cada uno de estos componentes"
   ]
  },
  {
   "cell_type": "markdown",
   "id": "a627cd93",
   "metadata": {
    "slideshow": {
     "slide_type": "slide"
    }
   },
   "source": [
    "## Sistema de captura de energía solar térmica\n",
    "\n",
    "Para la captura de energía solar en centrales termosolares se utilizan colectores solares de concentración. "
   ]
  },
  {
   "cell_type": "markdown",
   "id": "c4bee385",
   "metadata": {
    "cell_style": "center",
    "slideshow": {
     "slide_type": "slide"
    }
   },
   "source": [
    "El colector de concentración se compone de dos partes:\n",
    "- Un **concentrador**, encargado de enfocar los rayos del sol en un área de menor tamaño\n",
    "- Un **receptor**, encargado de convertir la energía concentrada en calor útil."
   ]
  },
  {
   "cell_type": "markdown",
   "id": "78fe4433",
   "metadata": {
    "slideshow": {
     "slide_type": "-"
    }
   },
   "source": [
    "<img src=\"./images/solar_colector_concentrator_intro.png\" width=\"900\" align= center>"
   ]
  },
  {
   "cell_type": "markdown",
   "id": "0b68d575",
   "metadata": {
    "cell_style": "center",
    "slideshow": {
     "slide_type": "slide"
    }
   },
   "source": [
    "Los **concentradores solares** puede ser de diversos formatos:\n",
    "\n",
    "- Reflectores o refractores (lentes). *Comúnmente, reflectores*\n",
    "- Cilíndricos o parabólicos\n",
    "- Continuos o segmentados. "
   ]
  },
  {
   "cell_type": "markdown",
   "id": "281c7d24",
   "metadata": {
    "slideshow": {
     "slide_type": "slide"
    }
   },
   "source": [
    "El **receptor** puede ser convexo, plano, cilíndrico o concavo. Suelen también estar cubierto por un material transparente separado a una pequeña distancia de la superficie del receptor, generando así un efecto aislante. El espacio entre el receptor y el material transparente puede ser aire o vacío."
   ]
  },
  {
   "cell_type": "markdown",
   "id": "a5ba79b5",
   "metadata": {
    "slideshow": {
     "slide_type": "fragment"
    }
   },
   "source": [
    "<img src=\"./images/solar_reciever.png\" width=\"600\" align= center>"
   ]
  },
  {
   "cell_type": "markdown",
   "id": "124cc48f",
   "metadata": {
    "slideshow": {
     "slide_type": "slide"
    }
   },
   "source": [
    "Un aspecto fundamental de los colectores solares de concentración es la **relación de concentración, $C_r$**, definida como:\n",
    "\n",
    "\\begin{equation}\n",
    "C_r = \\frac{A_c}{A_r},\n",
    "\\end{equation}\n",
    "\n",
    "donde, $A_c$ es el área del concentrador, y $A_r$ el área del receptor."
   ]
  },
  {
   "cell_type": "markdown",
   "id": "ad681761",
   "metadata": {
    "slideshow": {
     "slide_type": "fragment"
    }
   },
   "source": [
    "Este parámetro puede variar desde 1 a valores del orden de 10.000. A mayor nivel de concentración mayor temperatura, pero menor caputa luz incidente en ángulos oblicuos."
   ]
  },
  {
   "cell_type": "markdown",
   "id": "63dd1709",
   "metadata": {
    "slideshow": {
     "slide_type": "fragment"
    }
   },
   "source": [
    "Así, a mayor nivel de concentración, mayores serán los requerimientos para los elementos ópticos y de seguimiento."
   ]
  },
  {
   "cell_type": "markdown",
   "id": "27a09093",
   "metadata": {
    "slideshow": {
     "slide_type": "slide"
    }
   },
   "source": [
    "### Tipos de concentradores solares"
   ]
  },
  {
   "cell_type": "markdown",
   "id": "c005123d",
   "metadata": {
    "slideshow": {
     "slide_type": "slide"
    }
   },
   "source": [
    "**Concentrador de canal parabólico**\n",
    "\n",
    "- Es la tecnología más madura en centrales termosolares\n",
    "- Consiste en un tubo que pasa por el punto focal de un canal parabólico\n",
    "- Las relaciones de concentración pueden variar entre 10 - 85\n"
   ]
  },
  {
   "cell_type": "markdown",
   "id": "c125d88a",
   "metadata": {
    "slideshow": {
     "slide_type": "-"
    }
   },
   "source": [
    "<img src=\"./images/parabolic_trough_collector.png\" width=\"600\" align= center>"
   ]
  },
  {
   "cell_type": "markdown",
   "id": "4a463e30",
   "metadata": {
    "slideshow": {
     "slide_type": "slide"
    }
   },
   "source": [
    "**Reflector lineal Fresnel**\n",
    "\n",
    "El reflector lineal de Fresnel se basa en el principio de los lentes de Fresnel. Estos lentes permiten enfocar luz de forma similar a un lente convexo, pero con un volumen de material menor. Se utilizan en diversas aplicaciones como faros, lámparas y focos de automoviles. "
   ]
  },
  {
   "cell_type": "markdown",
   "id": "da25165e",
   "metadata": {
    "slideshow": {
     "slide_type": "fragment"
    }
   },
   "source": [
    "<img src=\"./images/Fresnel_lens.png\" width=\"700\" align= center>"
   ]
  },
  {
   "cell_type": "markdown",
   "id": "a0d44357",
   "metadata": {
    "slideshow": {
     "slide_type": "slide"
    }
   },
   "source": [
    "La siguiente imagen muestra como el lente de Fresnel redirecciona los rayos de una fuente en el punto focal ([más info acá](https://www.parabolixlight.com/fresnel-lens-and-parabolic-reflectors)).\n",
    "\n",
    "<img src=\"./images/Fresnel_lens_focus.png\" width=\"800\" align= center>"
   ]
  },
  {
   "cell_type": "markdown",
   "id": "6748f81e",
   "metadata": {
    "slideshow": {
     "slide_type": "slide"
    }
   },
   "source": [
    "El reflector lineal Fresnel opera de forma similar a un lente de Fresnel pero con espejos en lugar de lentes.\n",
    "- Las relaciones de concentración pueden ser entre 10 - 40."
   ]
  },
  {
   "cell_type": "markdown",
   "id": "255e2663",
   "metadata": {
    "slideshow": {
     "slide_type": "-"
    }
   },
   "source": [
    "<img src=\"./images/linear_fresnel_collector.png\" width=\"800\" align= center>"
   ]
  },
  {
   "cell_type": "markdown",
   "id": "b633f27a",
   "metadata": {
    "slideshow": {
     "slide_type": "slide"
    }
   },
   "source": [
    "**Concentrador de disco parabólico**\n",
    "\n",
    "- Consiste en un paraboloide que concentra la luz en un punto focal\n",
    "- El principio de funcionamiento es similar al de una antena, con sistema de seguimiento de dos ejes. \n",
    "- La relación de concentración varía entre 600 - 2000."
   ]
  },
  {
   "cell_type": "markdown",
   "id": "0675a046",
   "metadata": {
    "slideshow": {
     "slide_type": "-"
    }
   },
   "source": [
    "<img src=\"./images/parabolic_dish_collector.png\" width=\"700\" align= center>"
   ]
  },
  {
   "cell_type": "markdown",
   "id": "55fd3bd0",
   "metadata": {
    "slideshow": {
     "slide_type": "slide"
    }
   },
   "source": [
    "**Colector de helióstatos**\n",
    "\n",
    "- Similar al concentrador de disco parabólico pero a gran escala. \n",
    "- El receptor se ubica en la punta de una torre cental.\n",
    "- Una serie de espejos planos móbiles, también denominados heliostatos concentran la radiación solar hacia el receptor.\n",
    "- Las relación de concentración en estos sistemas es del orden de 300 - 1500"
   ]
  },
  {
   "cell_type": "markdown",
   "id": "99c89b7e",
   "metadata": {
    "slideshow": {
     "slide_type": "-"
    }
   },
   "source": [
    "<img src=\"./images/Heliostat_solar_concentrator.png\" width=\"700\" align= center>"
   ]
  },
  {
   "cell_type": "markdown",
   "id": "f148de48",
   "metadata": {
    "slideshow": {
     "slide_type": "slide"
    }
   },
   "source": [
    "## Almacenamiento y transporte de energía térmica"
   ]
  },
  {
   "cell_type": "markdown",
   "id": "e709ae6f",
   "metadata": {
    "slideshow": {
     "slide_type": "slide"
    }
   },
   "source": [
    "El principal componente de este sistema es el **fluido de transferencia de calor (HTF por sus siglas en ingles)**. El HTF es el encargado de transportar y almacenar la energía térmica capturada en el receptor de forma eficiente. "
   ]
  },
  {
   "cell_type": "markdown",
   "id": "001dcd1f",
   "metadata": {
    "slideshow": {
     "slide_type": "fragment"
    }
   },
   "source": [
    "Las propiedades más importantes son:\n",
    "- Temperatura de cambio de fase $T_{fg}$ menor a la temperatura de operación del ciclo\n",
    "- Calor específico $C_p$ alto (almacenamiento de calor)\n",
    "- Conductividad térmica $k_f$ alta\n",
    "- viscosidad baja y densidad alta. "
   ]
  },
  {
   "cell_type": "markdown",
   "id": "17927e81",
   "metadata": {
    "slideshow": {
     "slide_type": "slide"
    }
   },
   "source": [
    "### Agua"
   ]
  },
  {
   "cell_type": "markdown",
   "id": "c1a3d5dc",
   "metadata": {
    "slideshow": {
     "slide_type": "fragment"
    }
   },
   "source": [
    "El agua es el HTF más popular en aplicaciones industriales debido a su gran entalpía de evaporación, calor específico y baja viscosidad."
   ]
  },
  {
   "cell_type": "markdown",
   "id": "ca193861",
   "metadata": {
    "slideshow": {
     "slide_type": "fragment"
    }
   },
   "source": [
    "En las centrales termosolares contemporaneas, el agua opera como HTF y es convertida en vapor directamente en el receptor. Sin emgargo, esto reduce la conductividad térmica y la capacidad de almacenar calor por tiempos superiores a 1-2 horas."
   ]
  },
  {
   "cell_type": "markdown",
   "id": "c7cc0799",
   "metadata": {
    "slideshow": {
     "slide_type": "fragment"
    }
   },
   "source": [
    "\n",
    "\n",
    "En las centrales termosolares modernas, el agua es convertida a vapor indirectamente a través de un intercambiador de calor por donde circula un HTF que transporta la energía térmica capturada en el receptor."
   ]
  },
  {
   "cell_type": "markdown",
   "id": "789c8493",
   "metadata": {
    "slideshow": {
     "slide_type": "slide"
    }
   },
   "source": [
    "### Aceites térmicos"
   ]
  },
  {
   "cell_type": "markdown",
   "id": "462521b4",
   "metadata": {
    "slideshow": {
     "slide_type": "fragment"
    }
   },
   "source": [
    "Los aceites térmicos permiten temperaturas de operación de hasta 300 - 400° C. La principal desventaja de estos aceites radica en su flamabilidad y descomposición a temperaturas elevadas."
   ]
  },
  {
   "cell_type": "markdown",
   "id": "b72a7a17",
   "metadata": {
    "slideshow": {
     "slide_type": "fragment"
    }
   },
   "source": [
    "La siguiente tabla corresponde a las propiedades de un HTF de la compañia [Omnitech](https://globalhtf.com/application/solar/#:~:text=Heat%20Transfer%20Fluid%20for%20Concentrated%20Solar%20Power%20and%20Thermal%20Storage,in%20solar%20thermal%20electricity%20applications.).\n",
    "\n",
    "<img src=\"./images/heat_transfer_fluid_oil.jpg\" width=\"700\" align= center>"
   ]
  },
  {
   "cell_type": "markdown",
   "id": "afc4a87e",
   "metadata": {
    "slideshow": {
     "slide_type": "slide"
    }
   },
   "source": [
    "### Sales fundidas\n",
    "\n",
    "Los líquidos iónicos o sales fundidas, son sales con bajo punto de fusión que permiten operar a temperaturas elevadas entre 250 a 1000° C. Tienen  viscocidad relativamente baja, alta estabilidad térmica y no son inflamables. Debido a su alto calor específico, permiten almacenar calor hasta por 15 horas contínuas. "
   ]
  },
  {
   "cell_type": "markdown",
   "id": "4922baf7",
   "metadata": {
    "slideshow": {
     "slide_type": "slide"
    }
   },
   "source": [
    "Su principal desventaja está asociada a la alta corroción. Esto debido a que las sales son higroscópicas, es decir, absorben la humedad del aire con facilidad. Sin embargo, hay investigación en curso que busca reducir este problema"
   ]
  },
  {
   "cell_type": "code",
   "execution_count": 1,
   "id": "c99a0490",
   "metadata": {
    "slideshow": {
     "slide_type": "-"
    },
    "tags": [
     "remove-input"
    ]
   },
   "outputs": [
    {
     "data": {
      "image/jpeg": "[encoded data removed]",
      "text/html": [
       "\n",
       "<iframe\n",
       "    width=\"700\"\n",
       "    height=\"400\"\n",
       "    src=\"https://www.youtube.com/embed/BEOkxg25DfI\"\n",
       "    frameborder=\"0\"\n",
       "    allowfullscreen\n",
       "\n",
       "></iframe>\n"
      ],
      "text/plain": [
       "<IPython.lib.display.YouTubeVideo at 0x7f84a0140940>"
      ]
     },
     "execution_count": 1,
     "metadata": {
      "filenames": {
       "image/jpeg": "/mnt/c/Users/francisco.ramirez.c/OneDrive - Universidad Adolfo Ibanez/Teaching_courses/Manejo_y_Conversion_Energia_Solar_Termica/material_catedra/_build/jupyter_execute/9_CentralTermoSolar/9_CentralTermoSolar_47_0.jpg"
      }
     },
     "output_type": "execute_result"
    }
   ],
   "source": [
    "from IPython.display import YouTubeVideo\n",
    "YouTubeVideo('BEOkxg25DfI', width=700, height=400)"
   ]
  },
  {
   "cell_type": "markdown",
   "id": "b9825ed7",
   "metadata": {
    "slideshow": {
     "slide_type": "slide"
    }
   },
   "source": [
    "## Ciclos termodinámicos para conversión de energía solar térmica"
   ]
  },
  {
   "cell_type": "markdown",
   "id": "0c3cc797",
   "metadata": {
    "slideshow": {
     "slide_type": "slide"
    }
   },
   "source": [
    "### Ciclo Rankine\n",
    "\n",
    "La mayoría de las centrales termosolares operan en base al **ciclo Rankine**. Este ciclo se basa en la generación de energía mecánica a través de turbinas por donde circula vapor."
   ]
  },
  {
   "cell_type": "markdown",
   "id": "6eccbbbc",
   "metadata": {
    "slideshow": {
     "slide_type": "fragment"
    }
   },
   "source": [
    "En su forma simplificada, el ciclo Rankine está compuesto de una **caldera (boiler)** que suministra el calor al fluido, una **turbina (turbine)** por donde circula el vapor, un **condensador (condenser)** encargado del rechazo de calor y del cambio de fase vapor-agua, y una **bomba (pump)**, que alimenta a la caldera."
   ]
  },
  {
   "cell_type": "markdown",
   "id": "6916fcbb",
   "metadata": {
    "slideshow": {
     "slide_type": "-"
    }
   },
   "source": [
    "<img src=\"./images/Rankin_cycle.png\" width=\"700\" align= center>"
   ]
  },
  {
   "cell_type": "markdown",
   "id": "89703850",
   "metadata": {
    "slideshow": {
     "slide_type": "slide"
    }
   },
   "source": [
    "Es práctica común complementar el ciclo con etapas de recalentamiento y regeneración con el fin de mejorar la eficiencia térmodinámica."
   ]
  },
  {
   "cell_type": "markdown",
   "id": "7d9817ec",
   "metadata": {
    "slideshow": {
     "slide_type": "slide"
    }
   },
   "source": [
    "**Ciclo Rankine con recalentamiento**\n",
    "\n",
    "<img src=\"./images/reheated_Rankin_cycle.png\" width=\"700\" align= center>"
   ]
  },
  {
   "cell_type": "markdown",
   "id": "7fc2b33c",
   "metadata": {
    "slideshow": {
     "slide_type": "slide"
    }
   },
   "source": [
    "**Ciclo Rankine regenerativo**\n",
    "\n",
    "<img src=\"./images/regenerative_Rankin_cycle.png\" width=\"700\" align= center>"
   ]
  },
  {
   "cell_type": "markdown",
   "id": "9033f83a",
   "metadata": {
    "slideshow": {
     "slide_type": "slide"
    }
   },
   "source": [
    "## Características de una central termosolar\n",
    "\n",
    "El esquema básico de una central termosolar consiste en un **ciclo térmico donde el calor de la caldera es reemplazado por el calor extraido por el concentrador solar**. Comúnmente, las centrales solares utilizan sistemas de almacenamiento de calor en base a sales fundidas o cerámicos, además de una caldera como backup, que permiten una operación continua duarante periodos nublados y durante la noche."
   ]
  },
  {
   "cell_type": "markdown",
   "id": "5d051d67",
   "metadata": {
    "slideshow": {
     "slide_type": "fragment"
    }
   },
   "source": [
    "<img src=\"./images/solar_power_plant_general.png\" width=\"500\" align= center>"
   ]
  },
  {
   "cell_type": "markdown",
   "id": "5f1e4022",
   "metadata": {
    "slideshow": {
     "slide_type": "fragment"
    }
   },
   "source": [
    "En el caso de sales fundidas, estas pueden operar directamente en el circuito del colector (como HTF), o bien solo para almacenaje de energía. En el segundo caso, se necesita un intercambiador de calor para transferir el calor del HTF a las sales fundidas."
   ]
  },
  {
   "cell_type": "markdown",
   "id": "2dc536f0",
   "metadata": {
    "slideshow": {
     "slide_type": "slide"
    }
   },
   "source": [
    "### Central solar de colectores parabólicos\n",
    "\n",
    "- Están basadas en colectores de canal parabólico\n",
    "- Correponde a la tecnología más madura y popular en centrales solares.\n",
    "- El sistema puede alcanzar temperaturas entre 60 - 400°C\n",
    "- Comúnmente, utlizan aceites térmicos como HTF, y en menor medida sales fundidas."
   ]
  },
  {
   "cell_type": "markdown",
   "id": "c6e3a9e6",
   "metadata": {
    "slideshow": {
     "slide_type": "slide"
    }
   },
   "source": [
    "El siguiente video muestra el detalle de una central solar piloto basada en sales fundidas. El proyecto comenzó su operación el 2021, y es llevado a cabo por DLR (Deutsches Zentrum für Luft- und Raumfahrt, Alemania) y University of Évora (Portugal). [Más información acá](https://www.dlr.de/content/en/articles/news/2022/02/20220428_salt-makes-solar-thermal-power-more-cost-effective.html)."
   ]
  },
  {
   "cell_type": "code",
   "execution_count": 2,
   "id": "bf4a6e7f",
   "metadata": {
    "slideshow": {
     "slide_type": "-"
    },
    "tags": [
     "remove-input"
    ]
   },
   "outputs": [
    {
     "data": {
      "image/jpeg": "[encoded data removed]",
      "text/html": [
       "\n",
       "<iframe\n",
       "    width=\"700\"\n",
       "    height=\"400\"\n",
       "    src=\"https://www.youtube.com/embed/5zHSPFUD1L8\"\n",
       "    frameborder=\"0\"\n",
       "    allowfullscreen\n",
       "\n",
       "></iframe>\n"
      ],
      "text/plain": [
       "<IPython.lib.display.YouTubeVideo at 0x7f84a0109310>"
      ]
     },
     "execution_count": 2,
     "metadata": {
      "filenames": {
       "image/jpeg": "/mnt/c/Users/francisco.ramirez.c/OneDrive - Universidad Adolfo Ibanez/Teaching_courses/Manejo_y_Conversion_Energia_Solar_Termica/material_catedra/_build/jupyter_execute/9_CentralTermoSolar/9_CentralTermoSolar_60_0.jpg"
      }
     },
     "output_type": "execute_result"
    }
   ],
   "source": [
    "YouTubeVideo('5zHSPFUD1L8', width=700, height=400)"
   ]
  },
  {
   "cell_type": "markdown",
   "id": "b2862ead",
   "metadata": {
    "slideshow": {
     "slide_type": "slide"
    }
   },
   "source": [
    "En la siguiente imagen se muestra una fotografía de la central solar de concentradores parabólicos *Solar Energy Generating Systems (SEGS)* en el desierto Monjave, California, Estados Unidos, con capacidad de 160 MW."
   ]
  },
  {
   "cell_type": "markdown",
   "id": "6f18b13f",
   "metadata": {},
   "source": [
    "<img src=\"./images/SEGS_plant.png\" width=\"700\" align= center>"
   ]
  },
  {
   "cell_type": "markdown",
   "id": "8bc7f435",
   "metadata": {
    "slideshow": {
     "slide_type": "slide"
    }
   },
   "source": [
    "La limpieza de los canales parabólicos es crítica para el correcto funcionamiento del sistema, y existen equipos especializados para esto."
   ]
  },
  {
   "cell_type": "code",
   "execution_count": 3,
   "id": "10f68d26",
   "metadata": {
    "tags": [
     "remove-input"
    ]
   },
   "outputs": [
    {
     "data": {
      "image/jpeg": "[encoded data removed]",
      "text/html": [
       "\n",
       "<iframe\n",
       "    width=\"700\"\n",
       "    height=\"400\"\n",
       "    src=\"https://www.youtube.com/embed/41M8GxY12D8\"\n",
       "    frameborder=\"0\"\n",
       "    allowfullscreen\n",
       "\n",
       "></iframe>\n"
      ],
      "text/plain": [
       "<IPython.lib.display.YouTubeVideo at 0x7f84a01092b0>"
      ]
     },
     "execution_count": 3,
     "metadata": {
      "filenames": {
       "image/jpeg": "/mnt/c/Users/francisco.ramirez.c/OneDrive - Universidad Adolfo Ibanez/Teaching_courses/Manejo_y_Conversion_Energia_Solar_Termica/material_catedra/_build/jupyter_execute/9_CentralTermoSolar/9_CentralTermoSolar_64_0.jpg"
      }
     },
     "output_type": "execute_result"
    }
   ],
   "source": [
    "YouTubeVideo('41M8GxY12D8', width=700, height=400)"
   ]
  },
  {
   "cell_type": "markdown",
   "id": "39b1823b",
   "metadata": {
    "slideshow": {
     "slide_type": "slide"
    }
   },
   "source": [
    "El esquema a continuación corresponde a un ciclo típico de una central solar parabólica. Esta planta opera con aceite térmico como HTF, utiliza sales fundidas para el almacenamiento de calor"
   ]
  },
  {
   "cell_type": "markdown",
   "id": "b114941d",
   "metadata": {
    "slideshow": {
     "slide_type": "slide"
    }
   },
   "source": [
    "<img src=\"./images/parabolic_trough_plant_thermodynamic_cycle.png\" width=\"700\" align= center>"
   ]
  },
  {
   "cell_type": "markdown",
   "id": "de646703",
   "metadata": {
    "slideshow": {
     "slide_type": "slide"
    }
   },
   "source": [
    "La siguiente lista comprende las 10 centrales solares de canal parabólico con mayor capacidad:\n",
    "\n",
    "<img src=\"./images/Parabolic_plants_registry.png\" width=\"700\" align= center>"
   ]
  },
  {
   "cell_type": "markdown",
   "id": "369e1707",
   "metadata": {
    "slideshow": {
     "slide_type": "slide"
    }
   },
   "source": [
    "### Central solares de torre de potencia\n",
    "\n",
    "- Es la segunda alternativa más popular en centrales solares\n",
    "- Pueden alcanzar temperaturas entre 150 - 2000°C.\n",
    "- Comúnmente, utilizan sales fundidas como fluido de trabajo, aunque también existen centrales en base a vapor. \n",
    "- En el caso de las sales fundidas, el sistema permite una autonomía de más de 15 horas sin presencia de radiación solar. \n",
    "- Debido a su gran tamaño, permiten calentar grandes volúmenes de fluido con alto nivel de concentración."
   ]
  },
  {
   "cell_type": "code",
   "execution_count": 4,
   "id": "5b40d863",
   "metadata": {
    "slideshow": {
     "slide_type": "slide"
    },
    "tags": [
     "remove-input"
    ]
   },
   "outputs": [
    {
     "data": {
      "image/jpeg": "[encoded data removed]",
      "text/html": [
       "\n",
       "<iframe\n",
       "    width=\"700\"\n",
       "    height=\"400\"\n",
       "    src=\"https://www.youtube.com/embed/JbJ7AVHBQfs\"\n",
       "    frameborder=\"0\"\n",
       "    allowfullscreen\n",
       "\n",
       "></iframe>\n"
      ],
      "text/plain": [
       "<IPython.lib.display.YouTubeVideo at 0x7f84a01093d0>"
      ]
     },
     "execution_count": 4,
     "metadata": {
      "filenames": {
       "image/jpeg": "/mnt/c/Users/francisco.ramirez.c/OneDrive - Universidad Adolfo Ibanez/Teaching_courses/Manejo_y_Conversion_Energia_Solar_Termica/material_catedra/_build/jupyter_execute/9_CentralTermoSolar/9_CentralTermoSolar_69_0.jpg"
      }
     },
     "output_type": "execute_result"
    }
   ],
   "source": [
    "YouTubeVideo('JbJ7AVHBQfs', width=700, height=400)"
   ]
  },
  {
   "cell_type": "markdown",
   "id": "696d115d",
   "metadata": {
    "slideshow": {
     "slide_type": "slide"
    }
   },
   "source": [
    "La imagen a continuación corresponde a la planta solar Cerro Dominador en María Elena, Antofagasta, Chile. La planta tiene una capacidad de 110 MW, el HTF es sales fundidas y tiene una autonomía de 17.5 horas."
   ]
  },
  {
   "cell_type": "markdown",
   "id": "d4a36ab9",
   "metadata": {},
   "source": [
    "<img src=\"./images/cerro_dominador.png\" width=\"900\" align= center>"
   ]
  },
  {
   "cell_type": "markdown",
   "id": "e69690d6",
   "metadata": {
    "slideshow": {
     "slide_type": "slide"
    }
   },
   "source": [
    "La siguiente lista comprende las 10 centrales con mayor capacidad basadas en concentrador de canal parabólico:\n",
    "\n",
    "<img src=\"./images/tower_plants_registry.png\" width=\"700\" align= center>"
   ]
  },
  {
   "cell_type": "markdown",
   "id": "7378e6d8",
   "metadata": {
    "slideshow": {
     "slide_type": "slide"
    }
   },
   "source": [
    "### Central de reflector linear Fresnel"
   ]
  },
  {
   "cell_type": "markdown",
   "id": "369b8d1f",
   "metadata": {
    "slideshow": {
     "slide_type": "fragment"
    }
   },
   "source": [
    "- Una tecnología relativamente nueva en centrales solares\n",
    "- Permite alcanzar temperaturas entre 60 - 250°C\n",
    "- Operan con vapor como HTF.\n",
    "- Debido a su ligera estructura tienen el pontencial de ser instalados en techos de edificaciones.\n"
   ]
  },
  {
   "cell_type": "markdown",
   "id": "25742933",
   "metadata": {
    "slideshow": {
     "slide_type": "slide"
    }
   },
   "source": [
    "Actualmente solo existen dos plantas basada en esta tecnología:\n",
    "- [Dhursar](https://solarpaces.nrel.gov/project/dhursar), distrito de Jaisalmer, India. Tiene una capacidad nominal de 125 MW y está basada en vapor de agua. Opera desde el año 2014\n",
    "\n",
    "- [DCTC Dunhuang](https://solarpaces.nrel.gov/project/lanzhou-dacheng-dunhuang-dctc-dunhuang-50mw-fresnel), región de Gansu, China. Tiene una capacidad nominal de 50 MW y está basada en sales fundidas como HTF. Opera desde el 2018 "
   ]
  },
  {
   "cell_type": "markdown",
   "id": "2fb39110",
   "metadata": {
    "slideshow": {
     "slide_type": "slide"
    }
   },
   "source": [
    "La siguiente imagen corresponde a la planta DCTC Dunhuang en China.\n",
    "\n",
    "<img src=\"./images/Dacheng_Dunhuang_LFR.png\" width=\"900\" align= center>"
   ]
  },
  {
   "cell_type": "markdown",
   "id": "329d315e",
   "metadata": {
    "slideshow": {
     "slide_type": "slide"
    }
   },
   "source": [
    "En el siguiente video se muestra el funcionamiento de una planta piloto desarrollada por la compañía [Industrial Solar](https://www.industrial-solar.de/en/)"
   ]
  },
  {
   "cell_type": "code",
   "execution_count": 5,
   "id": "56d12398",
   "metadata": {
    "tags": [
     "remove-input"
    ]
   },
   "outputs": [
    {
     "data": {
      "image/jpeg": "[encoded data removed]",
      "text/html": [
       "\n",
       "<iframe\n",
       "    width=\"700\"\n",
       "    height=\"400\"\n",
       "    src=\"https://www.youtube.com/embed/1CatPf-xoC4\"\n",
       "    frameborder=\"0\"\n",
       "    allowfullscreen\n",
       "\n",
       "></iframe>\n"
      ],
      "text/plain": [
       "<IPython.lib.display.YouTubeVideo at 0x7f84a0109550>"
      ]
     },
     "execution_count": 5,
     "metadata": {
      "filenames": {
       "image/jpeg": "/mnt/c/Users/francisco.ramirez.c/OneDrive - Universidad Adolfo Ibanez/Teaching_courses/Manejo_y_Conversion_Energia_Solar_Termica/material_catedra/_build/jupyter_execute/9_CentralTermoSolar/9_CentralTermoSolar_78_0.jpg"
      }
     },
     "output_type": "execute_result"
    }
   ],
   "source": [
    "YouTubeVideo('1CatPf-xoC4', width=700, height=400)"
   ]
  },
  {
   "cell_type": "markdown",
   "id": "b033f35b",
   "metadata": {
    "slideshow": {
     "slide_type": "slide"
    }
   },
   "source": [
    "### Centrales de disco parabólico\n",
    "\n",
    "- Permite alcanzar temperaturas de trabajo entre 100 - 1500° C\n",
    "- La principal desventaja es el mecanismo para remover la energía térmica.\n",
    "- El diseño más popular está basado en motores Stirling acoplados en el receptor.\n",
    "- No existen plantas operativas basadas en esta tecnología"
   ]
  },
  {
   "cell_type": "markdown",
   "id": "8269605c",
   "metadata": {},
   "source": [
    "<img src=\"./images/Dish_striling_solar_plant.jpg\" width=\"500\" align= center>"
   ]
  },
  {
   "cell_type": "markdown",
   "id": "3fbd5c4e",
   "metadata": {
    "slideshow": {
     "slide_type": "slide"
    }
   },
   "source": [
    "En el siguiente video se explica el funcionamiento de las centrales de disco parabólico."
   ]
  },
  {
   "cell_type": "code",
   "execution_count": 6,
   "id": "4ec71646",
   "metadata": {
    "tags": [
     "remove-input"
    ]
   },
   "outputs": [
    {
     "data": {
      "image/jpeg": "[encoded data removed]",
      "text/html": [
       "\n",
       "<iframe\n",
       "    width=\"700\"\n",
       "    height=\"400\"\n",
       "    src=\"https://www.youtube.com/embed/PamhI7ZJiFs\"\n",
       "    frameborder=\"0\"\n",
       "    allowfullscreen\n",
       "\n",
       "></iframe>\n"
      ],
      "text/plain": [
       "<IPython.lib.display.YouTubeVideo at 0x7f84a01099a0>"
      ]
     },
     "execution_count": 6,
     "metadata": {
      "filenames": {
       "image/jpeg": "/mnt/c/Users/francisco.ramirez.c/OneDrive - Universidad Adolfo Ibanez/Teaching_courses/Manejo_y_Conversion_Energia_Solar_Termica/material_catedra/_build/jupyter_execute/9_CentralTermoSolar/9_CentralTermoSolar_82_0.jpg"
      }
     },
     "output_type": "execute_result"
    }
   ],
   "source": [
    "from IPython.display import YouTubeVideo\n",
    "YouTubeVideo('PamhI7ZJiFs', width=700, height=400)"
   ]
  },
  {
   "cell_type": "markdown",
   "id": "17c1dc23",
   "metadata": {
    "slideshow": {
     "slide_type": "slide"
    }
   },
   "source": [
    "## Referencias\n",
    "Kalogirou S. A. ***Solar Energy Engineering Processes and Systems***, 2nd Ed, Academic Press, 2014\n",
    " - Chapter 3.6 Concentrating collectors\n",
    " - Chapter 10 Solar Thermal Power Systems\n",
    "\n",
    "Duffie J. A., Beckman W. A. and Blair N. *Chapter 17. Solar Thermal Power Systems* in ***Solar Engineering of Thermal Processes***, 5th Ed, Jhon Wiley and Sons, 2020"
   ]
  }
 ],
 "metadata": {
  "celltoolbar": "Tags",
  "kernelspec": {
   "display_name": "Python 3 (ipykernel)",
   "language": "python",
   "name": "python3"
  },
  "language_info": {
   "codemirror_mode": {
    "name": "ipython",
    "version": 3
   },
   "file_extension": ".py",
   "mimetype": "text/x-python",
   "name": "python",
   "nbconvert_exporter": "python",
   "pygments_lexer": "ipython3",
   "version": "3.9.13"
  },
  "latex_envs": {
   "LaTeX_envs_menu_present": false,
   "autoclose": false,
   "autocomplete": false,
   "bibliofile": "biblio.bib",
   "cite_by": "apalike",
   "current_citInitial": 1,
   "eqLabelWithNumbers": true,
   "eqNumInitial": 1,
   "hotkeys": {
    "equation": "Ctrl-E",
    "itemize": "Ctrl-I"
   },
   "labels_anchors": false,
   "latex_user_defs": false,
   "report_style_numbering": false,
   "user_envs_cfg": true
  },
  "toc": {
   "base_numbering": 1,
   "nav_menu": {},
   "number_sections": true,
   "sideBar": true,
   "skip_h1_title": true,
   "title_cell": "Tabla de contenidos",
   "title_sidebar": "Contenidos",
   "toc_cell": false,
   "toc_position": {
    "height": "calc(100% - 180px)",
    "left": "10px",
    "top": "150px",
    "width": "307.2px"
   },
   "toc_section_display": true,
   "toc_window_display": false
  },
  "varInspector": {
   "cols": {
    "lenName": 16,
    "lenType": 16,
    "lenVar": 40
   },
   "kernels_config": {
    "python": {
     "delete_cmd_postfix": "",
     "delete_cmd_prefix": "del ",
     "library": "var_list.py",
     "varRefreshCmd": "print(var_dic_list())"
    },
    "r": {
     "delete_cmd_postfix": ") ",
     "delete_cmd_prefix": "rm(",
     "library": "var_list.r",
     "varRefreshCmd": "cat(var_dic_list()) "
    }
   },
   "types_to_exclude": [
    "module",
    "function",
    "builtin_function_or_method",
    "instance",
    "_Feature"
   ],
   "window_display": false
  }
 },
 "nbformat": 4,
 "nbformat_minor": 5
}