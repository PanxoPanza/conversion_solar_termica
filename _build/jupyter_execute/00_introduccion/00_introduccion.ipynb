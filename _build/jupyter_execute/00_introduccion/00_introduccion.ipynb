{
 "cells": [
  {
   "cell_type": "code",
   "execution_count": 1,
   "id": "3c597da7",
   "metadata": {
    "slideshow": {
     "slide_type": "skip"
    },
    "tags": [
     "remove-cell"
    ]
   },
   "outputs": [],
   "source": [
    "import importlib.util\n",
    "if importlib.util.find_spec('empylib') is None:\n",
    "    !pip install git+https://github.com/PanxoPanza/empylib.git"
   ]
  },
  {
   "cell_type": "markdown",
   "id": "8b01ca79",
   "metadata": {
    "slideshow": {
     "slide_type": "slide"
    }
   },
   "source": [
    "# Introducción al curso"
   ]
  },
  {
   "cell_type": "markdown",
   "id": "d468e312",
   "metadata": {
    "slideshow": {
     "slide_type": "slide"
    }
   },
   "source": [
    "## Utilización del recurso solar\n",
    "\n",
    "El sol es la única fuente de energía externa disponible.\n",
    "<img src=\"./images/solar-earth_energy-balance.png\" width=\"800\" align= center>"
   ]
  },
  {
   "cell_type": "markdown",
   "id": "61d172a9",
   "metadata": {
    "slideshow": {
     "slide_type": "slide"
    }
   },
   "source": [
    "Si realizamos un balance de energía en la tierra tenemos que, necesariamente, **toda la energía absorbida por el sol ($\\dot{E}_\\mathrm{sun}$) debe ser rechazada hacia el universo ($\\dot{E}_\\mathrm{universe}$).** *El efecto del cambio climático es, por consecuencia, el resultado de un desbalance ocacionado por la incapacidad de la tierra de disipar esta energía.*"
   ]
  },
  {
   "cell_type": "markdown",
   "id": "c6d63675",
   "metadata": {},
   "source": [
    "\\begin{equation*}\n",
    "\\frac{d}{dt}E_\\mathrm{earth} = \\dot{E}_\\mathrm{sun} - \\dot{E}_\\mathrm{universe} = 0\n",
    "\\end{equation*}"
   ]
  },
  {
   "cell_type": "markdown",
   "id": "3f40a0dc",
   "metadata": {
    "slideshow": {
     "slide_type": "fragment"
    }
   },
   "source": [
    "Cuando utilizamos una fuente de energía distina a la solar estamos, entonces, utilizando parte de las reservas acumuladas. **Reservas que también tiene su origen en la energía solar**."
   ]
  },
  {
   "cell_type": "markdown",
   "id": "f2501e84",
   "metadata": {
    "slideshow": {
     "slide_type": "slide"
    }
   },
   "source": [
    "## Situación actual del sistema energético"
   ]
  },
  {
   "cell_type": "markdown",
   "id": "8eb018e8",
   "metadata": {
    "slideshow": {
     "slide_type": "slide"
    }
   },
   "source": [
    "### Generación de energía\n",
    "\n",
    "A nivel mundial, el consumo de combustibles fósiles sigue en aumento. El siguiente reporte considera el consumo de energía, incluyendo consumo domiciliario, industrial y transporte (aereo, marítimo, etc). Los valores indicados en este gráfico, representan la cantidad de energía equivalente en combustible fósil considerando la [generación por una central termoeléctrica con eficiencia 38.8% - 45%](https://www.energyinst.org/statistical-review/about)."
   ]
  },
  {
   "cell_type": "code",
   "execution_count": 2,
   "id": "882ebef1",
   "metadata": {
    "cell_style": "center",
    "tags": [
     "remove-input"
    ]
   },
   "outputs": [
    {
     "data": {
      "text/html": [
       "\n",
       "        <iframe\n",
       "            width=\"100%\"\n",
       "            height=\"600px\"\n",
       "            src=\"https://ourworldindata.org/grapher/energy-consumption-by-source-and-region?stackMode=absolute\"\n",
       "            frameborder=\"0\"\n",
       "            allowfullscreen\n",
       "            \n",
       "        ></iframe>\n",
       "        "
      ],
      "text/plain": [
       "<IPython.lib.display.IFrame at 0x7f852f447260>"
      ]
     },
     "execution_count": 2,
     "metadata": {},
     "output_type": "execute_result"
    }
   ],
   "source": [
    "from IPython.display import display, HTML, IFrame\n",
    "IFrame('https://ourworldindata.org/grapher/energy-consumption-by-source-and-region?stackMode=absolute', '100%', '600px')"
   ]
  },
  {
   "cell_type": "markdown",
   "id": "3e387830",
   "metadata": {
    "slideshow": {
     "slide_type": "slide"
    }
   },
   "source": [
    "Respecto a la generación de energía, en Chile se generaron 83 TWh durante el 2022, de los cuales un 55.7% fue generado por fuentes renovables.\n",
    "\n",
    "**Participación relativa por fuente de generación (%).** (Fuente: [Generadoras de Chile](http://generadoras.cl/))"
   ]
  },
  {
   "cell_type": "code",
   "execution_count": 3,
   "id": "b8b1c679",
   "metadata": {
    "cell_style": "center",
    "slideshow": {
     "slide_type": "-"
    }
   },
   "outputs": [
    {
     "data": {
      "text/html": [
       "\n",
       "        <iframe\n",
       "            width=\"100%\"\n",
       "            height=\"450px\"\n",
       "            src=\"https://docs.google.com/spreadsheets/d/e/2PACX-1vSupsaku1SZ9F-OqbhRnZQ7FFAZ4yDnj2FGe8ACY00UCOXgga5PA5Z5Z2Y_wXH-EkLEkcAHTNXmgelW/pubchart?oid=1101314265&amp;format=interactive\"\n",
       "            frameborder=\"0\"\n",
       "            allowfullscreen\n",
       "            \n",
       "        ></iframe>\n",
       "        "
      ],
      "text/plain": [
       "<IPython.lib.display.IFrame at 0x7f852f447b90>"
      ]
     },
     "execution_count": 3,
     "metadata": {},
     "output_type": "execute_result"
    }
   ],
   "source": [
    "from IPython.display import display, HTML, IFrame\n",
    "IFrame('https://docs.google.com/spreadsheets/d/e/2PACX-1vSupsaku1SZ9F-OqbhRnZQ7FFAZ4yDnj2FGe8ACY00UCOXgga5PA5Z5Z2Y_wXH-EkLEkcAHTNXmgelW/pubchart?oid=1101314265&amp;format=interactive', '100%', '450px')"
   ]
  },
  {
   "cell_type": "markdown",
   "id": "f08bbfe1",
   "metadata": {
    "slideshow": {
     "slide_type": "slide"
    }
   },
   "source": [
    "La demanda de combustibles fósiles se ha reducido. Sin embargo, el porcentage de reducción es pequeño.\n",
    "\n",
    "**Volumen de energía generada por fuente (GWh).** (Fuente: [Generadoras de Chile](http://generadoras.cl/))\n",
    "\n"
   ]
  },
  {
   "cell_type": "code",
   "execution_count": 4,
   "id": "d0077f17",
   "metadata": {
    "scrolled": false,
    "slideshow": {
     "slide_type": "-"
    }
   },
   "outputs": [
    {
     "data": {
      "text/html": [
       "\n",
       "        <iframe\n",
       "            width=\"100%\"\n",
       "            height=\"450px\"\n",
       "            src=\"https://docs.google.com/spreadsheets/d/e/2PACX-1vSupsaku1SZ9F-OqbhRnZQ7FFAZ4yDnj2FGe8ACY00UCOXgga5PA5Z5Z2Y_wXH-EkLEkcAHTNXmgelW/pubchart?oid=1025565804&amp;format=interactive\"\n",
       "            frameborder=\"0\"\n",
       "            allowfullscreen\n",
       "            \n",
       "        ></iframe>\n",
       "        "
      ],
      "text/plain": [
       "<IPython.lib.display.IFrame at 0x7f852f447f80>"
      ]
     },
     "execution_count": 4,
     "metadata": {},
     "output_type": "execute_result"
    }
   ],
   "source": [
    "from IPython.display import display, HTML, IFrame\n",
    "IFrame('https://docs.google.com/spreadsheets/d/e/2PACX-1vSupsaku1SZ9F-OqbhRnZQ7FFAZ4yDnj2FGe8ACY00UCOXgga5PA5Z5Z2Y_wXH-EkLEkcAHTNXmgelW/pubchart?oid=1025565804&amp;format=interactive', '100%', '450px')"
   ]
  },
  {
   "cell_type": "markdown",
   "id": "fe77dd6a",
   "metadata": {
    "slideshow": {
     "slide_type": "slide"
    }
   },
   "source": [
    "### Consumo de reservas\n",
    "\n",
    "Como revisabamos en la sección anterior, seguimos utilizando gran parte de las reservas disponibles. Esto, según la *Global Footprint Network*, a una tasa mayor que nuestra capacidad para generarlas. Por ejemplo, **las reservas regeneradas proyectadas para el 2023 se agotaron el 2 de agosto**. Esta fecha, denominada Día de la Sobrecarga de la Tierra o [*Earth overshoot day*](https://www.overshootday.org/) se hace cada año más corta."
   ]
  },
  {
   "cell_type": "code",
   "execution_count": 5,
   "id": "61557ede",
   "metadata": {
    "slideshow": {
     "slide_type": "-"
    }
   },
   "outputs": [
    {
     "data": {
      "text/html": [
       "\n",
       "        <iframe\n",
       "            width=\"100%\"\n",
       "            height=\"600px\"\n",
       "            src=\"https://data.footprintnetwork.org/#/\"\n",
       "            frameborder=\"0\"\n",
       "            allowfullscreen\n",
       "            \n",
       "        ></iframe>\n",
       "        "
      ],
      "text/plain": [
       "<IPython.lib.display.IFrame at 0x7f852f474230>"
      ]
     },
     "execution_count": 5,
     "metadata": {},
     "output_type": "execute_result"
    }
   ],
   "source": [
    "from IPython.display import display, HTML, IFrame\n",
    "IFrame('https://data.footprintnetwork.org/#/', '100%', '600px')"
   ]
  },
  {
   "cell_type": "markdown",
   "id": "28852733",
   "metadata": {
    "slideshow": {
     "slide_type": "slide"
    }
   },
   "source": [
    "### Manejo de ganancias y pérdidas energéticas\n",
    "\n",
    "Por otro lado, tenemos un uso ineficiente de esta energía, principalmente en los sistemas de enfriamiento y calefacción. Según la *international energy agency*, [el consumo de energía para enfriamiento de espacios representa un 10% del consumo global, y puede alcanzar hasta el 50% durante el verano en regiones con temperaturas altas](https://www.iea.org/commentaries/keeping-cool-in-a-hotter-world-is-using-more-energy-making-efficiency-more-important-than-ever). \n",
    "\n",
    "**Consumo eléctrico diario en acondicionamiento de aire versus temperatura en India (mayo y junio, 2019 y 2023)**\n",
    "\n",
    "<img src=\"./images/daily-electricity-load-versus-temperature-in-india-may-and-june-2019-and-2023.png\" width=\"800\" align= center>"
   ]
  },
  {
   "cell_type": "markdown",
   "id": "64f9e252",
   "metadata": {
    "slideshow": {
     "slide_type": "slide"
    }
   },
   "source": [
    "En sintesis, podemos deducir que el desarrollo sustentable en la tierra dependerá de nuestra capacidad de:\n",
    "\n",
    "- Generar energía directa del sol y otras fuentes renovables\n",
    "- Producir reservas con fuentes limpias\n",
    "- Manejar el balance entre las ganancias ($\\dot{E}_\\mathrm{sun}$) y pérdidas ($\\dot{E}_\\mathrm{universe}$) de energía radiativa."
   ]
  },
  {
   "cell_type": "markdown",
   "id": "fbda1f8c",
   "metadata": {
    "slideshow": {
     "slide_type": "slide"
    }
   },
   "source": [
    "## Tecnologías de manejo y conversión de energía solar"
   ]
  },
  {
   "cell_type": "markdown",
   "id": "c2a4f788",
   "metadata": {
    "slideshow": {
     "slide_type": "slide"
    }
   },
   "source": [
    "### El recurso solar en Chile y el mundo"
   ]
  },
  {
   "cell_type": "markdown",
   "id": "74d16d9a",
   "metadata": {
    "cell_style": "center",
    "slideshow": {
     "slide_type": "fragment"
    }
   },
   "source": [
    "Chile es el país con mayores niveles de radiación en el mundo. Por ejemplo, en base al atlas solar del [World Bank Group](https://globalsolaratlas.info/map?c=11.523088,8.261719,3), si calculamos la energía generada por el área con mayores niveles de radiación considerando paneles con [potencia máxima de 500 Wp](https://solarity.cz/blog/500-wp-solar-modules-era/)"
   ]
  },
  {
   "cell_type": "code",
   "execution_count": 6,
   "id": "a750b4b8",
   "metadata": {
    "cell_style": "center",
    "slideshow": {
     "slide_type": "-"
    }
   },
   "outputs": [
    {
     "name": "stdout",
     "output_type": "stream",
     "text": [
      "Energía eléctrica suministrada: 914.1 TWh (Energía consumida en Chile 444 TWh)\n"
     ]
    }
   ],
   "source": [
    "A     = 304707.40 # Superficie total (km^2)\n",
    "Pmax  = 500       # Potencia máxima por panel en condiciones estándard (Wp)\n",
    "PVOUT = 6.0       # Potencía específica suministrada (kWh/Wp)\n",
    "\n",
    "# Energía total suministrada (TWh)\n",
    "Etot  = A*1E3**2*PVOUT*Pmax/1E12\n",
    "print(\"Energía eléctrica suministrada: %.1f TWh (Energía consumida en Chile 444 TWh)\" % Etot)"
   ]
  },
  {
   "cell_type": "markdown",
   "id": "3c71f87f",
   "metadata": {
    "cell_style": "center",
    "slideshow": {
     "slide_type": "fragment"
    }
   },
   "source": [
    "> \"*Para abastecer toda la energía que requiere Chile si tuviéramos almacenamiento suficiente necesitamos unos mil kilómetros cuadrados, algo menos que el 1% del desierto y equivalente más o menos a la superficie de la comuna de Melipilla.*\"  [Rodrigo Palma, director de SERC, 2022](https://www.revistaei.cl/2019/09/04/con-todo-el-potencial-de-energia-solar-de-chile-se-podria-abastecer-60-veces-el-consumo-del-pais-y-el-20-del-mundo/#)"
   ]
  },
  {
   "cell_type": "markdown",
   "id": "e7ade31a",
   "metadata": {
    "slideshow": {
     "slide_type": "slide"
    }
   },
   "source": [
    "Sin embargo, como revisamos anteriormente, estos áltos niveles de radiación implican un calentamiento excesivo en hogares durante el verano."
   ]
  },
  {
   "cell_type": "markdown",
   "id": "bf8434b5",
   "metadata": {
    "slideshow": {
     "slide_type": "slide"
    }
   },
   "source": [
    "### Tecnologías convencionales\n",
    "Las principales tecnologías son la fotovoltaica y termosolar. En Chile, [la capacidad instalada total es de 4.6 GW](https://www.pv-magazine-latam.com/2021/04/13/chile-alcanza-46-gw-fotovoltaicos-de-potencia-instalada/). Con excepción de la planta termosolar Cerro Dominador, la mayor parte de este simunistro corresponde a plantas solares fotovoltaicas."
   ]
  },
  {
   "cell_type": "markdown",
   "id": "0d65f1e0",
   "metadata": {
    "cell_style": "split"
   },
   "source": [
    "<img src=\"./images/planta_fotovoltaica_ElRomero_chile.jpg\" width=\"500\" align= center>\n",
    "\n",
    "<center><a href=\"https://www.acciona.cl/proyectos/planta-fotovoltaica-romero-solar/\">Planta fotovoltaica El Romero Solar (196 MW)</a></center>"
   ]
  },
  {
   "cell_type": "markdown",
   "id": "02e8cc46",
   "metadata": {
    "cell_style": "split"
   },
   "source": [
    "<img src=\"./images/cerro_dominador.jpg\" width=\"500\" align= center>\n",
    "\n",
    "<center><a href=\"https://laderasur.com/articulo/recorriendo-cerro-dominador-la-unica-planta-termosolar-que-funciona-en-medio-del-desierto-de-atacama/\">Planta termosolar cerro dominador (110 MW)</a></center>"
   ]
  },
  {
   "cell_type": "markdown",
   "id": "c234a872",
   "metadata": {
    "slideshow": {
     "slide_type": "slide"
    }
   },
   "source": [
    "### Estado del arte de las tecnologías convecionales\n",
    "Las actuales tecnologias basadas en energía solar (principalmente fotovoltaica y termosolar) presentan una serie de deseventajas, tales como:"
   ]
  },
  {
   "cell_type": "markdown",
   "id": "20ddcb9a",
   "metadata": {
    "slideshow": {
     "slide_type": "fragment"
    }
   },
   "source": [
    "- **Baja eficiencia.** Hoy en día la eficiencia de un panel fotovoltaico es cercana al 30%. En el caso de una central termosolar, la eficiencia es menor al 20%.\n",
    "\n",
    "- **Almacenamiento de energía limitado.** Esto particularmente en centrales fotovoltaicas. Si bien, las centrales termosolares pueden almacenar energía hasta por 24 horas, el costo nivelado de esta energía es superior a la energía por combustibles fósiles. Similar con el costo de almacenamiento por hidrógeno.\n",
    "\n",
    "- **Limitada capacidad de reutilización.** Los paneles fotovoltaicos, la principal tecnología de conversión solar, tienen una vida útil promedio de 25 años. Luego de esto, la recuperación de los componentes es aún compleja y costosa.\n",
    "\n",
    "- **Manejo ineficiente de la energía.** En hogares y oficinas, el control de las ganancias y pérdidas de calor por radiación es aún deficiente.([El consumo de aire acondicionado en edificios representa el 20% del consumo total](https://www.iea.org/reports/the-future-of-cooling))"
   ]
  },
  {
   "cell_type": "markdown",
   "id": "0b98302f",
   "metadata": {
    "slideshow": {
     "slide_type": "slide"
    }
   },
   "source": [
    "### Tecnologías emergentes\n",
    "\n",
    "La investigación en tecnologías de conversión y manejo del recurso solar ha avanzado en diversas direcciones. Algunos ejemplos relevantes son:"
   ]
  },
  {
   "cell_type": "markdown",
   "id": "b4ef1470",
   "metadata": {
    "cell_style": "center",
    "slideshow": {
     "slide_type": "fragment"
    }
   },
   "source": [
    "\n",
    "<img src=\"./images/emerging_solar_energy_conversion.png\" width=\"600\" align= center>"
   ]
  },
  {
   "cell_type": "markdown",
   "id": "490d24b2",
   "metadata": {
    "cell_style": "center",
    "slideshow": {
     "slide_type": "slide"
    }
   },
   "source": [
    "<img src=\"./images/solar_fuels.png\" width=\"600\" align= center>"
   ]
  },
  {
   "cell_type": "markdown",
   "id": "1a39067c",
   "metadata": {
    "slideshow": {
     "slide_type": "slide"
    }
   },
   "source": [
    "## Nanotecnología para el control de la radiación\n",
    "\n",
    "El control de la radiación solar es clave en aspectos, tales como, mejorar la captura de energía solar o reducir el consumo de energía para enfriamiento y calefacción"
   ]
  },
  {
   "cell_type": "markdown",
   "id": "0920a8ea",
   "metadata": {},
   "source": [
    "El desarrollo de la manufactura de nanomateriales ha prograsado significativamente en las últimas décadas. Hoy en día, es común encontrar nanoestructuras en dispositivos electrónicos, productos cosméticos, entre otros.\n",
    "\n",
    "<img src=\"./images/transistor_evolution.png\" width=\"800\" align= center>"
   ]
  },
  {
   "cell_type": "markdown",
   "id": "453512dd",
   "metadata": {
    "slideshow": {
     "slide_type": "slide"
    }
   },
   "source": [
    "Esta manipulación de estructuras a escala nanométrica, deriva en materiales articiales con propiedades ópticas que permiten optimizar el intercambio de energía por radiación.\n",
    "\n",
    "<img src=\"./images/photonic_nanostructures.png\" width=\"800\" align= center>"
   ]
  }
 ],
 "metadata": {
  "celltoolbar": "Slideshow",
  "kernelspec": {
   "display_name": "Python 3 (ipykernel)",
   "language": "python",
   "name": "python3"
  },
  "language_info": {
   "codemirror_mode": {
    "name": "ipython",
    "version": 3
   },
   "file_extension": ".py",
   "mimetype": "text/x-python",
   "name": "python",
   "nbconvert_exporter": "python",
   "pygments_lexer": "ipython3",
   "version": "3.12.2"
  },
  "latex_envs": {
   "LaTeX_envs_menu_present": true,
   "autoclose": false,
   "autocomplete": false,
   "bibliofile": "biblio.bib",
   "cite_by": "apalike",
   "current_citInitial": 1,
   "eqLabelWithNumbers": true,
   "eqNumInitial": 1,
   "hotkeys": {
    "equation": "Ctrl-E",
    "itemize": "Ctrl-I"
   },
   "labels_anchors": false,
   "latex_user_defs": false,
   "report_style_numbering": false,
   "user_envs_cfg": false
  },
  "toc": {
   "base_numbering": "1",
   "nav_menu": {},
   "number_sections": false,
   "sideBar": true,
   "skip_h1_title": true,
   "title_cell": "Tabla de contenidos",
   "title_sidebar": "Contenidos",
   "toc_cell": false,
   "toc_position": {
    "height": "calc(100% - 180px)",
    "left": "10px",
    "top": "150px",
    "width": "307.188px"
   },
   "toc_section_display": true,
   "toc_window_display": false
  },
  "varInspector": {
   "cols": {
    "lenName": 16,
    "lenType": 16,
    "lenVar": 40
   },
   "kernels_config": {
    "python": {
     "delete_cmd_postfix": "",
     "delete_cmd_prefix": "del ",
     "library": "var_list.py",
     "varRefreshCmd": "print(var_dic_list())"
    },
    "r": {
     "delete_cmd_postfix": ") ",
     "delete_cmd_prefix": "rm(",
     "library": "var_list.r",
     "varRefreshCmd": "cat(var_dic_list()) "
    }
   },
   "types_to_exclude": [
    "module",
    "function",
    "builtin_function_or_method",
    "instance",
    "_Feature"
   ],
   "window_display": false
  }
 },
 "nbformat": 4,
 "nbformat_minor": 5
}