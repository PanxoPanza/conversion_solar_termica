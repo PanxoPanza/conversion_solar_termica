{
 "cells": [
  {
   "cell_type": "code",
   "execution_count": 1,
   "id": "3c597da7",
   "metadata": {
    "slideshow": {
     "slide_type": "skip"
    },
    "tags": [
     "remove-cell"
    ]
   },
   "outputs": [],
   "source": [
    "import importlib.util\n",
    "if importlib.util.find_spec('empylib') is None:\n",
    "    !pip install git+https://github.com/PanxoPanza/empylib.git"
   ]
  },
  {
   "cell_type": "markdown",
   "id": "8b01ca79",
   "metadata": {
    "slideshow": {
     "slide_type": "slide"
    }
   },
   "source": [
    "# Introducción al curso"
   ]
  },
  {
   "cell_type": "markdown",
   "id": "d468e312",
   "metadata": {
    "slideshow": {
     "slide_type": "slide"
    }
   },
   "source": [
    "## Utilización del recurso solar\n",
    "\n",
    "El sol es la única fuente de energía externa disponible.\n",
    "<img src=\"./images/solar-earth_energy-balance.png\" width=\"800\" align= center>"
   ]
  },
  {
   "cell_type": "markdown",
   "id": "61d172a9",
   "metadata": {
    "slideshow": {
     "slide_type": "slide"
    }
   },
   "source": [
    "Si realizamos un balance de energía en la tierra tenemos que, necesariamente, **toda la energía absorbida por el sol ($\\dot{E}_\\mathrm{sun}$) debe ser rechazada hacia el universo ($\\dot{E}_\\mathrm{universe}$).** *El efecto del cambio climático es, por consecuencia, el resultado de un desbalance ocasionado por la incapacidad de la tierra de disipar esta energía.*"
   ]
  },
  {
   "cell_type": "markdown",
   "id": "c6d63675",
   "metadata": {},
   "source": [
    "\\begin{equation*}\n",
    "\\frac{d}{dt}E_\\mathrm{earth} = \\dot{E}_\\mathrm{sun} - \\dot{E}_\\mathrm{universe} = 0\n",
    "\\end{equation*}"
   ]
  },
  {
   "cell_type": "markdown",
   "id": "3f40a0dc",
   "metadata": {
    "slideshow": {
     "slide_type": "fragment"
    }
   },
   "source": [
    "Cuando utilizamos una fuente de energía distinta a la solar estamos, entonces, utilizando parte de las reservas acumuladas. **Reservas que también tienen su origen en la energía solar**."
   ]
  },
  {
   "cell_type": "markdown",
   "id": "f2501e84",
   "metadata": {
    "slideshow": {
     "slide_type": "slide"
    }
   },
   "source": [
    "## Situación actual del sistema energético"
   ]
  },
  {
   "cell_type": "markdown",
   "id": "8eb018e8",
   "metadata": {
    "slideshow": {
     "slide_type": "slide"
    }
   },
   "source": [
    "### Generación de energía\n",
    "\n",
    "Según el siguiente estudio de [Our World in Data](https://ourworldindata.org/grapher/energy-consumption-by-source-and-country), la energía consumida según su fuente (incluyendo consumo domiciliario, industrial y transporte), **la participación relativa de los combustibles fósiles es cada vez menor.** Sin embargo, **el consunmo neto sigue en aumento.**"
   ]
  },
  {
   "cell_type": "code",
   "execution_count": 2,
   "id": "882ebef1",
   "metadata": {
    "cell_style": "center",
    "tags": [
     "remove-input"
    ]
   },
   "outputs": [
    {
     "data": {
      "text/html": [
       "\n",
       "        <iframe\n",
       "            width=\"100%\"\n",
       "            height=\"600px\"\n",
       "            src=\"https://ourworldindata.org/grapher/energy-consumption-by-source-and-region?stackMode=absolute\"\n",
       "            frameborder=\"0\"\n",
       "            allowfullscreen\n",
       "            \n",
       "        ></iframe>\n",
       "        "
      ],
      "text/plain": [
       "<IPython.lib.display.IFrame at 0x7fe8726cc2d0>"
      ]
     },
     "execution_count": 2,
     "metadata": {},
     "output_type": "execute_result"
    }
   ],
   "source": [
    "from IPython.display import display, HTML, IFrame\n",
    "IFrame('https://ourworldindata.org/grapher/energy-consumption-by-source-and-region?stackMode=absolute', '100%', '600px')"
   ]
  },
  {
   "cell_type": "markdown",
   "id": "3e387830",
   "metadata": {
    "slideshow": {
     "slide_type": "slide"
    }
   },
   "source": [
    "La tendencia no solo se observa en el consumo, sino que también en la generación de energía."
   ]
  },
  {
   "cell_type": "markdown",
   "id": "0b06a43f",
   "metadata": {
    "slideshow": {
     "slide_type": "slide"
    }
   },
   "source": [
    "Los siguientes reportes de [Generadoras de Chile](http://generadoras.cl/)) muestran la participación neta y relativa de las fuentes de energía en la generación."
   ]
  },
  {
   "cell_type": "markdown",
   "id": "31ddd866",
   "metadata": {
    "slideshow": {
     "slide_type": "slide"
    }
   },
   "source": [
    "**Participación relativa en la generación**"
   ]
  },
  {
   "cell_type": "code",
   "execution_count": 3,
   "id": "b8b1c679",
   "metadata": {
    "cell_style": "center",
    "slideshow": {
     "slide_type": "-"
    }
   },
   "outputs": [
    {
     "data": {
      "text/html": [
       "\n",
       "        <iframe\n",
       "            width=\"100%\"\n",
       "            height=\"450px\"\n",
       "            src=\"https://docs.google.com/spreadsheets/d/e/2PACX-1vSupsaku1SZ9F-OqbhRnZQ7FFAZ4yDnj2FGe8ACY00UCOXgga5PA5Z5Z2Y_wXH-EkLEkcAHTNXmgelW/pubchart?oid=1101314265&amp;format=interactive\"\n",
       "            frameborder=\"0\"\n",
       "            allowfullscreen\n",
       "            \n",
       "        ></iframe>\n",
       "        "
      ],
      "text/plain": [
       "<IPython.lib.display.IFrame at 0x7fe8726c5c10>"
      ]
     },
     "execution_count": 3,
     "metadata": {},
     "output_type": "execute_result"
    }
   ],
   "source": [
    "from IPython.display import display, HTML, IFrame\n",
    "IFrame('https://docs.google.com/spreadsheets/d/e/2PACX-1vSupsaku1SZ9F-OqbhRnZQ7FFAZ4yDnj2FGe8ACY00UCOXgga5PA5Z5Z2Y_wXH-EkLEkcAHTNXmgelW/pubchart?oid=1101314265&amp;format=interactive', '100%', '450px')"
   ]
  },
  {
   "cell_type": "markdown",
   "id": "f08bbfe1",
   "metadata": {
    "slideshow": {
     "slide_type": "slide"
    }
   },
   "source": [
    "**Participación neta en la generación (GWh)**"
   ]
  },
  {
   "cell_type": "code",
   "execution_count": 4,
   "id": "d0077f17",
   "metadata": {
    "scrolled": false,
    "slideshow": {
     "slide_type": "-"
    }
   },
   "outputs": [
    {
     "data": {
      "text/html": [
       "\n",
       "        <iframe\n",
       "            width=\"100%\"\n",
       "            height=\"450px\"\n",
       "            src=\"https://docs.google.com/spreadsheets/d/e/2PACX-1vSupsaku1SZ9F-OqbhRnZQ7FFAZ4yDnj2FGe8ACY00UCOXgga5PA5Z5Z2Y_wXH-EkLEkcAHTNXmgelW/pubchart?oid=1025565804&amp;format=interactive\"\n",
       "            frameborder=\"0\"\n",
       "            allowfullscreen\n",
       "            \n",
       "        ></iframe>\n",
       "        "
      ],
      "text/plain": [
       "<IPython.lib.display.IFrame at 0x7fe8726ef390>"
      ]
     },
     "execution_count": 4,
     "metadata": {},
     "output_type": "execute_result"
    }
   ],
   "source": [
    "from IPython.display import display, HTML, IFrame\n",
    "IFrame('https://docs.google.com/spreadsheets/d/e/2PACX-1vSupsaku1SZ9F-OqbhRnZQ7FFAZ4yDnj2FGe8ACY00UCOXgga5PA5Z5Z2Y_wXH-EkLEkcAHTNXmgelW/pubchart?oid=1025565804&amp;format=interactive', '100%', '450px')"
   ]
  },
  {
   "cell_type": "markdown",
   "id": "fe77dd6a",
   "metadata": {
    "slideshow": {
     "slide_type": "slide"
    }
   },
   "source": [
    "### Consumo de reservas\n",
    "\n",
    "Como revisabamos en la sección anterior, seguimos utilizando gran parte de las reservas disponibles. Esto, según la *Global Footprint Network*, a una tasa mayor que nuestra capacidad para regenerarlas. Por ejemplo, **las reservas regeneradas proyectadas para el 2023 se agotaron el 2 de agosto**. Esta fecha, denominada Día de Sobrecarga de la Tierra o [*Earth overshoot day*](https://www.overshootday.org/) se adelanta cada año, producto del aumento en la emisión de gases de efecto invernadero."
   ]
  },
  {
   "cell_type": "code",
   "execution_count": 5,
   "id": "61557ede",
   "metadata": {
    "slideshow": {
     "slide_type": "-"
    }
   },
   "outputs": [
    {
     "data": {
      "text/html": [
       "\n",
       "        <iframe\n",
       "            width=\"100%\"\n",
       "            height=\"600px\"\n",
       "            src=\"https://data.footprintnetwork.org/#/\"\n",
       "            frameborder=\"0\"\n",
       "            allowfullscreen\n",
       "            \n",
       "        ></iframe>\n",
       "        "
      ],
      "text/plain": [
       "<IPython.lib.display.IFrame at 0x7fe8726ce990>"
      ]
     },
     "execution_count": 5,
     "metadata": {},
     "output_type": "execute_result"
    }
   ],
   "source": [
    "from IPython.display import display, HTML, IFrame\n",
    "IFrame('https://data.footprintnetwork.org/#/', '100%', '600px')"
   ]
  },
  {
   "cell_type": "markdown",
   "id": "28852733",
   "metadata": {
    "slideshow": {
     "slide_type": "slide"
    }
   },
   "source": [
    "### Manejo de ganancias y pérdidas energéticas\n",
    "\n",
    "Por otro lado, el uso de esta energía es muy ineficiente, principalmente en los sistemas de enfriamiento y calefacción. Según la *international energy agency*, [el consumo de energía para enfriamiento de espacios representa un 10% del consumo global, y puede alcanzar hasta el 50% durante el verano en regiones con temperaturas altas](https://www.iea.org/commentaries/keeping-cool-in-a-hotter-world-is-using-more-energy-making-efficiency-more-important-than-ever). \n",
    "\n",
    "**Consumo eléctrico diario en acondicionamiento de aire versus temperatura en India (mayo y junio, 2019 y 2023)**\n",
    "\n",
    "<img src=\"./images/daily-electricity-load-versus-temperature-in-india-may-and-june-2019-and-2023.png\" width=\"800\" align= center>"
   ]
  },
  {
   "cell_type": "markdown",
   "id": "64f9e252",
   "metadata": {
    "slideshow": {
     "slide_type": "slide"
    }
   },
   "source": [
    "En sintesis, podemos deducir que el desarrollo sustentable en la tierra dependerá de nuestra capacidad de:\n",
    "\n",
    "- Generar energía directa del sol y otras fuentes renovables\n",
    "- Generar reservas con fuentes limpias\n",
    "- Manejar el balance entre las ganancias ($\\dot{E}_\\mathrm{sun}$) y pérdidas ($\\dot{E}_\\mathrm{universe}$) de energía radiativa."
   ]
  },
  {
   "cell_type": "markdown",
   "id": "fbda1f8c",
   "metadata": {
    "slideshow": {
     "slide_type": "slide"
    }
   },
   "source": [
    "## Tecnologías de manejo y conversión de energía solar"
   ]
  },
  {
   "cell_type": "markdown",
   "id": "c2a4f788",
   "metadata": {
    "slideshow": {
     "slide_type": "slide"
    }
   },
   "source": [
    "### El recurso solar en Chile y el mundo"
   ]
  },
  {
   "cell_type": "markdown",
   "id": "74d16d9a",
   "metadata": {
    "cell_style": "center",
    "slideshow": {
     "slide_type": "fragment"
    }
   },
   "source": [
    "Chile es el país con mayores niveles de radiación en el mundo. Por ejemplo, en base al atlas solar del [World Bank Group](https://globalsolaratlas.info/map?c=11.523088,8.261719,3), si calculamos la energía generada por el área con mayores niveles de radiación considerando paneles con [potencia máxima de 500 Wp](https://solarity.cz/blog/500-wp-solar-modules-era/)"
   ]
  },
  {
   "cell_type": "code",
   "execution_count": 6,
   "id": "a750b4b8",
   "metadata": {
    "cell_style": "center",
    "slideshow": {
     "slide_type": "-"
    }
   },
   "outputs": [
    {
     "name": "stdout",
     "output_type": "stream",
     "text": [
      "Energía eléctrica suministrada:\t\t331.8 TWh\n",
      "Energía total consumida en Chile:\t504.1 TWh\n",
      "Energía eléctrica consumida en Chile:\t78.4 TWh\n"
     ]
    }
   ],
   "source": [
    "A     = 221176.04 # Superficie total de el norte grande (km^2)\n",
    "Pmax  = 0.500     # Potencia máxima por panel en condiciones estándard (kWp)\n",
    "A_pv  = 2         # superficie ocupada por panel (m^2)\n",
    "PVOUT = 6.0       # Potencía específica suministrada (kWh/kWp)\n",
    "\n",
    "# Energía total suministrada (TWh)\n",
    "Etot  = A*1E3**2*PVOUT*Pmax/A_pv/1E9\n",
    "print(\"Energía eléctrica suministrada:\\t\\t%.1f TWh\" % Etot)\n",
    "print(\"Energía total consumida en Chile:\\t504.1 TWh\")\n",
    "print(\"Energía eléctrica consumida en Chile:\\t78.4 TWh\")"
   ]
  },
  {
   "cell_type": "markdown",
   "id": "bf8434b5",
   "metadata": {
    "slideshow": {
     "slide_type": "slide"
    }
   },
   "source": [
    "### Tecnologías actuales\n",
    "Las principales tecnologías de convsersión de energía solar hoy en día son la fotovoltaica y termosolar. En Chile, [la capacidad instalada total es de 4.6 GW](https://www.pv-magazine-latam.com/2021/04/13/chile-alcanza-46-gw-fotovoltaicos-de-potencia-instalada/). Con excepción de la planta termosolar Cerro Dominador, el suministro esta basado en plantas solares fotovoltaicas."
   ]
  },
  {
   "cell_type": "markdown",
   "id": "0d65f1e0",
   "metadata": {
    "cell_style": "split"
   },
   "source": [
    "<img src=\"./images/planta_fotovoltaica_ElRomero_chile.jpg\" width=\"500\" align= center>\n",
    "\n",
    "<center><a href=\"https://www.acciona.cl/proyectos/planta-fotovoltaica-romero-solar/\">Planta fotovoltaica El Romero Solar (196 MW)</a></center>"
   ]
  },
  {
   "cell_type": "markdown",
   "id": "02e8cc46",
   "metadata": {
    "cell_style": "split"
   },
   "source": [
    "<img src=\"./images/cerro_dominador.jpg\" width=\"500\" align= center>\n",
    "\n",
    "<center><a href=\"https://laderasur.com/articulo/recorriendo-cerro-dominador-la-unica-planta-termosolar-que-funciona-en-medio-del-desierto-de-atacama/\">Planta termosolar cerro dominador (110 MW)</a></center>"
   ]
  },
  {
   "cell_type": "markdown",
   "id": "c234a872",
   "metadata": {
    "slideshow": {
     "slide_type": "slide"
    }
   },
   "source": [
    "### Estado del arte de las tecnologías actuales\n",
    "Las actuales tecnologias basadas en energía solar (principalmente fotovoltaica y termosolar) presentan una serie de deseventajas, tales como:"
   ]
  },
  {
   "cell_type": "markdown",
   "id": "20ddcb9a",
   "metadata": {
    "slideshow": {
     "slide_type": "fragment"
    }
   },
   "source": [
    "- **Baja eficiencia.** Hoy en día la eficiencia de una planta fotovoltaica esta entre un 15% - 20%. En el caso de una central termosolar, la eficiencia es menor al 20%.\n",
    "\n",
    "- **Almacenamiento de energía limitado.** Esto aplica particularmente a centrales fotovoltaicas. Si bien, las centrales termosolares pueden almacenar energía hasta por 24 horas, el costo nivelado de esta energía es superior a la energía por combustibles fósiles. Similar con el costo de almacenamiento por hidrógeno.\n",
    "\n",
    "- **Limitada capacidad de reutilización.** Los paneles fotovoltaicos, la principal tecnología de conversión solar, tienen una vida útil promedio de 25 años. Luego de esto, la recuperación de los componentes es aún compleja y costosa.\n",
    "\n",
    "- **Manejo ineficiente de la energía.** En hogares y oficinas, el control de las ganancias y pérdidas de calor por radiación es aún deficiente.([El consumo de aire acondicionado en edificios representa el 20% del consumo total](https://www.iea.org/reports/the-future-of-cooling))"
   ]
  },
  {
   "cell_type": "markdown",
   "id": "0b98302f",
   "metadata": {
    "slideshow": {
     "slide_type": "slide"
    }
   },
   "source": [
    "### Tecnologías emergentes\n",
    "\n",
    "La investigación en tecnologías de conversión y manejo del recurso solar ha avanzado en diversas direcciones. Algunos ejemplos relevantes son:"
   ]
  },
  {
   "cell_type": "markdown",
   "id": "b4ef1470",
   "metadata": {
    "cell_style": "center",
    "slideshow": {
     "slide_type": "fragment"
    }
   },
   "source": [
    "\n",
    "<img src=\"./images/emerging_solar_energy_conversion.png\" width=\"600\" align= center>"
   ]
  },
  {
   "cell_type": "markdown",
   "id": "490d24b2",
   "metadata": {
    "cell_style": "center",
    "slideshow": {
     "slide_type": "slide"
    }
   },
   "source": [
    "<img src=\"./images/solar_fuels.png\" width=\"600\" align= center>"
   ]
  },
  {
   "cell_type": "markdown",
   "id": "1a39067c",
   "metadata": {
    "slideshow": {
     "slide_type": "slide"
    }
   },
   "source": [
    "## Nanotecnología para el control de la radiación\n",
    "\n",
    "El control de la radiación solar es clave en aspectos, tales como, mejorar la captura de energía solar, mejorar la eficiencia de conversión, o reducir el consumo de energía para enfriamiento y calefacción"
   ]
  },
  {
   "cell_type": "markdown",
   "id": "a77495dc",
   "metadata": {
    "slideshow": {
     "slide_type": "slide"
    }
   },
   "source": [
    "Para modificar la respuesta óptica de un material, es necesario el diseño de estructuras a escalas relativas a la longitud de onda de la luz. Esto significa diseñar estructuras que van desde la escala de micrómetros a cientos de nanómetros.\n",
    "\n",
    "<img src=\"./images/nanometer_scale.png\" width=\"750\" align= center>"
   ]
  },
  {
   "cell_type": "markdown",
   "id": "7a9bf8f0",
   "metadata": {
    "slideshow": {
     "slide_type": "slide"
    }
   },
   "source": [
    "Trabajar a estas escalas pareciera algo extremadamente sofisticado. Sin embargo, hoy en día es común encontrar nanoestructuras en dispositivos electrónicos, productos cosméticos, entre otros. \n",
    "\n",
    "<img src=\"./images/transistor_evolution2.png\" width=\"850\" align= center>"
   ]
  },
  {
   "cell_type": "markdown",
   "id": "453512dd",
   "metadata": {
    "slideshow": {
     "slide_type": "slide"
    }
   },
   "source": [
    "La manufactura en nanomateriales ha avanzado significativamente en las últimas décadas, reduciendo costos y permitiendo escalar la producción a escalas industriales. Esto ha impactado en la investigación en nanofotónica, facilitando el rediseño de materiales para optimizar su interacción con la luz\n",
    "\n",
    "<img src=\"./images/photonic_nanostructures.png\" width=\"800\" align= center>"
   ]
  },
  {
   "cell_type": "markdown",
   "id": "245e4ecb",
   "metadata": {
    "slideshow": {
     "slide_type": "slide"
    }
   },
   "source": [
    "El objetivo central de este curso es entender cómo estas estructuras modifican la respuesta óptica de los materiales, y cómo utilizar estos fenómenos en aplicaciones reales."
   ]
  }
 ],
 "metadata": {
  "celltoolbar": "Slideshow",
  "kernelspec": {
   "display_name": "Python 3 (ipykernel)",
   "language": "python",
   "name": "python3"
  },
  "language_info": {
   "codemirror_mode": {
    "name": "ipython",
    "version": 3
   },
   "file_extension": ".py",
   "mimetype": "text/x-python",
   "name": "python",
   "nbconvert_exporter": "python",
   "pygments_lexer": "ipython3",
   "version": "3.11.6"
  },
  "latex_envs": {
   "LaTeX_envs_menu_present": true,
   "autoclose": false,
   "autocomplete": false,
   "bibliofile": "biblio.bib",
   "cite_by": "apalike",
   "current_citInitial": 1,
   "eqLabelWithNumbers": true,
   "eqNumInitial": 1,
   "hotkeys": {
    "equation": "Ctrl-E",
    "itemize": "Ctrl-I"
   },
   "labels_anchors": false,
   "latex_user_defs": false,
   "report_style_numbering": false,
   "user_envs_cfg": false
  },
  "toc": {
   "base_numbering": "1",
   "nav_menu": {},
   "number_sections": false,
   "sideBar": true,
   "skip_h1_title": true,
   "title_cell": "Tabla de contenidos",
   "title_sidebar": "Contenidos",
   "toc_cell": false,
   "toc_position": {
    "height": "calc(100% - 180px)",
    "left": "10px",
    "top": "150px",
    "width": "307.188px"
   },
   "toc_section_display": true,
   "toc_window_display": false
  },
  "varInspector": {
   "cols": {
    "lenName": 16,
    "lenType": 16,
    "lenVar": 40
   },
   "kernels_config": {
    "python": {
     "delete_cmd_postfix": "",
     "delete_cmd_prefix": "del ",
     "library": "var_list.py",
     "varRefreshCmd": "print(var_dic_list())"
    },
    "r": {
     "delete_cmd_postfix": ") ",
     "delete_cmd_prefix": "rm(",
     "library": "var_list.r",
     "varRefreshCmd": "cat(var_dic_list()) "
    }
   },
   "types_to_exclude": [
    "module",
    "function",
    "builtin_function_or_method",
    "instance",
    "_Feature"
   ],
   "window_display": false
  }
 },
 "nbformat": 4,
 "nbformat_minor": 5
}