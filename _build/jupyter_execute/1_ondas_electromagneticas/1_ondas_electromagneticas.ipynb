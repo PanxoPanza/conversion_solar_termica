{
 "cells": [
  {
   "cell_type": "markdown",
   "id": "8b01ca79",
   "metadata": {
    "slideshow": {
     "slide_type": "slide"
    }
   },
   "source": [
    " <font size=\"6\">MEC501 - Manejo y Conversión de Energía Solar Térmica</font>\n",
    "# 1. La radiación como un fenómeno electromagnético\n",
    "<br><br><br><br>\n",
    "Profesor: Francisco Ramírez CueSvas<br>\n",
    "Fecha: 12 de Agosto 2022"
   ]
  },
  {
   "cell_type": "markdown",
   "id": "1a10e9e6",
   "metadata": {
    "slideshow": {
     "slide_type": "slide"
    },
    "toc": true
   },
   "source": [
    "<h1>Tabla de contenidos<span class=\"tocSkip\"></span></h1>\n",
    "<div class=\"toc\"><ul class=\"toc-item\"><li><span><a href=\"#Repaso-de-cálculo-vectorial\" data-toc-modified-id=\"Repaso-de-cálculo-vectorial-1\">Repaso de cálculo vectorial</a></span><ul class=\"toc-item\"><li><span><a href=\"#Campo-escalar-y-vectorial\" data-toc-modified-id=\"Campo-escalar-y-vectorial-1.1\">Campo escalar y vectorial</a></span></li><li><span><a href=\"#Operadores-diferenciales\" data-toc-modified-id=\"Operadores-diferenciales-1.2\">Operadores diferenciales</a></span></li><li><span><a href=\"#Ejemplos-de-uso-de-operadores-diferenciales\" data-toc-modified-id=\"Ejemplos-de-uso-de-operadores-diferenciales-1.3\">Ejemplos de uso de operadores diferenciales</a></span></li></ul></li><li><span><a href=\"#Ecuaciones-de-Maxwell\" data-toc-modified-id=\"Ecuaciones-de-Maxwell-2\">Ecuaciones de Maxwell</a></span><ul class=\"toc-item\"><li><span><a href=\"#Ley-de-Gauss\" data-toc-modified-id=\"Ley-de-Gauss-2.1\">Ley de Gauss</a></span></li><li><span><a href=\"#Ley-de-continuidad-del-campo-magnético\" data-toc-modified-id=\"Ley-de-continuidad-del-campo-magnético-2.2\">Ley de continuidad del campo magnético</a></span></li><li><span><a href=\"#Ley-de-Faraday\" data-toc-modified-id=\"Ley-de-Faraday-2.3\">Ley de Faraday</a></span></li><li><span><a href=\"#Ley-de-Ampere\" data-toc-modified-id=\"Ley-de-Ampere-2.4\">Ley de Ampere</a></span></li><li><span><a href=\"#Corrección-de-la-ley-de-Ampere\" data-toc-modified-id=\"Corrección-de-la-ley-de-Ampere-2.5\">Corrección de la ley de Ampere</a></span></li></ul></li><li><span><a href=\"#Ondas-electromagnéticas\" data-toc-modified-id=\"Ondas-electromagnéticas-3\">Ondas electromagnéticas</a></span><ul class=\"toc-item\"><li><span><a href=\"#Ondas-electromagnéticas-en-el-vacío\" data-toc-modified-id=\"Ondas-electromagnéticas-en-el-vacío-3.1\">Ondas electromagnéticas en el vacío</a></span></li><li><span><a href=\"#Vector-de-Poynting\" data-toc-modified-id=\"Vector-de-Poynting-3.2\">Vector de Poynting</a></span></li></ul></li><li><span><a href=\"#Referencias\" data-toc-modified-id=\"Referencias-4\">Referencias</a></span></li></ul></div>"
   ]
  },
  {
   "cell_type": "markdown",
   "id": "36a2c7d0",
   "metadata": {
    "slideshow": {
     "slide_type": "slide"
    }
   },
   "source": [
    "## Repaso de cálculo vectorial"
   ]
  },
  {
   "cell_type": "markdown",
   "id": "5fc5e9cf",
   "metadata": {},
   "source": [
    "### Campo escalar y vectorial\n",
    "- Un campo escalar representa la distribución espacial de una magnitud. Por ejemplo, distribución de densidad, temperatura o presión. En coordenadas cartesianes: $f = f(x,y,z)$, donde $f$ es un campo escalar.\n",
    "\n",
    "- Un campo vectorial representa la distribución espacial de una magnitud vectorial. Por ejemplo, distribución de velocidades, campo eléctrico o magnético. En coordenadas cartesianas: $\\vec{f} = \\vec{f}(x,y,z)$, donde $\\vec{f}$ es un campo escalar."
   ]
  },
  {
   "cell_type": "markdown",
   "id": "9f457f12",
   "metadata": {
    "slideshow": {
     "slide_type": "slide"
    }
   },
   "source": [
    "Por ejemplo, consideremos la siguiente modelación de convección natural en cavidad cuadrada:"
   ]
  },
  {
   "cell_type": "markdown",
   "id": "82d25881",
   "metadata": {
    "cell_style": "split",
    "slideshow": {
     "slide_type": "-"
    }
   },
   "source": [
    "<img src=\"./images/natural_convection.png\" width=\"500px\" align= center>"
   ]
  },
  {
   "cell_type": "markdown",
   "id": "f774a23a",
   "metadata": {
    "cell_style": "split"
   },
   "source": [
    "Aquí podemos visualizar la distribución espacial de temperaturas y velocidades de un fluido sometido a las condiciones indicadas en la figura. \n",
    "\n",
    "De esta figura podemos identificar:\n",
    "- Campo escalar: Distribución de temperaturas\n",
    "\n",
    "- Campo vectorial: Distribución de velocidades"
   ]
  },
  {
   "cell_type": "markdown",
   "id": "e10f2118",
   "metadata": {
    "slideshow": {
     "slide_type": "slide"
    }
   },
   "source": [
    "### Operadores diferenciales"
   ]
  },
  {
   "cell_type": "markdown",
   "id": "b32c6401",
   "metadata": {
    "slideshow": {
     "slide_type": "-"
    }
   },
   "source": [
    "**Operador Del.** \n",
    "\n",
    "Definimos el operador $\\nabla$ o \"del\", como:\n",
    "\n",
    "\\begin{equation}\n",
    "\\nabla= \\left( \\hat{x}\\frac{\\partial }{\\partial x} + \\hat{y}\\frac{\\partial }{\\partial y} + \\hat{z}\\frac{\\partial }{\\partial z} \\right)\n",
    "\\end{equation}"
   ]
  },
  {
   "cell_type": "markdown",
   "id": "58a0a5e8",
   "metadata": {
    "slideshow": {
     "slide_type": "slide"
    }
   },
   "source": [
    "**Operador Gradiente.** \n",
    "\n",
    "Es equivalente a la derivada de una función, pero en múltiples dimenciones. Permite identificar zonas de crecimiento o decrecimiento de un campo escalar o vectorial. Se define como el operador Del multiplicado por el campo escalar.\n",
    "\n",
    "\\begin{equation}\n",
    "\\nabla f= \\frac{\\partial f}{\\partial x}\\hat{x} + \\frac{\\partial f}{\\partial y}\\hat{y}+ \\frac{\\partial f}{\\partial z}\\hat{z}\n",
    "\\end{equation}\n",
    "\n",
    "> El gradiente de un campo escalar $f$, es un vector"
   ]
  },
  {
   "cell_type": "markdown",
   "id": "882f258f",
   "metadata": {
    "slideshow": {
     "slide_type": "slide"
    }
   },
   "source": [
    "**Operador Divergente.**\n",
    "\n",
    "Se aplica a campos vectoriales. Es una medida de cuanto un campo vectorial diverge o converge respecto de un punto en cuestión. Se define como el producto punto entre el operador Del y un campo vectorial:\n",
    "\n",
    "\\begin{equation}\n",
    "\\nabla \\cdot \\vec{f}= \\frac{\\partial f_x}{\\partial x} + \\frac{\\partial f_y}{\\partial y} + \\frac{\\partial f_z}{\\partial z}\n",
    "\\end{equation}"
   ]
  },
  {
   "cell_type": "markdown",
   "id": "e3a596c5",
   "metadata": {
    "slideshow": {
     "slide_type": "slide"
    }
   },
   "source": [
    "Por ejemplo:\n",
    "\n",
    "<img src=\"./images/divergence.jpg\" width=\"70%\" align= center>\n",
    "\n",
    "(a) $\\nabla\\cdot\\vec{f} \\gt 0$\n",
    "\n",
    "(b) $\\nabla\\cdot\\vec{f} = 0$\n",
    "\n",
    "(c) $\\nabla\\cdot\\vec{f} \\gt 0$"
   ]
  },
  {
   "cell_type": "markdown",
   "id": "f61f7480",
   "metadata": {
    "slideshow": {
     "slide_type": "slide"
    }
   },
   "source": [
    "**Operador Rotacional.** \n",
    "\n",
    "Se aplica a campos vectoriales. Es una medida de cuanto un campo vectorial rota respecto de un punto en cuestión. Se define como el producto cruz entre el operador Del y un campo vectorial:\n",
    "\n",
    "\\begin{equation}\n",
    "\\nabla \\times \\vec{f}= \\left(\\frac{\\partial f_z}{\\partial y}- \\frac{\\partial f_y}{\\partial z}\\right)\\hat{x}+\\left(\\frac{\\partial f_x}{\\partial z}- \\frac{\\partial f_z}{\\partial x}\\right)\\hat{y}+\\left(\\frac{\\partial f_y}{\\partial x}- \\frac{\\partial f_x}{\\partial y}\\right)\\hat{z}\n",
    "\\end{equation}"
   ]
  },
  {
   "cell_type": "markdown",
   "id": "962bd49e",
   "metadata": {
    "slideshow": {
     "slide_type": "slide"
    }
   },
   "source": [
    "Por ejemplo:\n",
    "\n",
    "<img src=\"./images/curl.jpg\" width=\"600\"  align= center>\n",
    "\n",
    "(a) $\\nabla\\times\\vec{f} \\gt 0$\n",
    "\n",
    "(b) $\\nabla\\times\\vec{f} \\gt 0$\n",
    "\n",
    ">En la figura anterior (divergente), $\\nabla\\times\\vec{f} = 0$ en todos los casos."
   ]
  },
  {
   "cell_type": "markdown",
   "id": "ac3d8f0a",
   "metadata": {
    "slideshow": {
     "slide_type": "slide"
    }
   },
   "source": [
    "### Ejemplos de uso de operadores diferenciales\n",
    "Los operadores diferenciales permiten una descripción más compacta en de las formuals basadas en ecuaciones diferenciales parciales."
   ]
  },
  {
   "cell_type": "markdown",
   "id": "d09d6b9e",
   "metadata": {
    "cell_style": "split",
    "slideshow": {
     "slide_type": "-"
    }
   },
   "source": [
    "<img src=\"./images/mass_conservation.png\" width=\"500\" align= center>"
   ]
  },
  {
   "cell_type": "markdown",
   "id": "da6c89c4",
   "metadata": {
    "cell_style": "split"
   },
   "source": [
    "Un ejemplo conocido es el caso de la ecuación de conservación de masa en su forma diferencial.\n",
    "\n",
    "$$\\frac{\\partial \\rho}{\\partial t}+\\frac{\\partial (\\rho u)}{\\partial x} +\\frac{\\partial (\\rho v)}{\\partial y}+\\frac{\\partial (\\rho w)}{\\partial z}=0.$$\n",
    "\n",
    "Usando el operador Del,\n",
    "\n",
    "$$\\frac{\\partial \\rho}{\\partial t} + \\nabla\\cdot\\left(\\rho\\vec{V}\\right)\n",
    "=0,$$\n",
    "\n",
    "o bien:\n",
    "\n",
    "$$\\frac{\\partial \\rho}{\\partial t} + \\vec{V}\\cdot\\nabla\\rho+ \\rho\\left(\\nabla\\cdot\\vec{V}\\right)\n",
    "=0.$$"
   ]
  },
  {
   "cell_type": "markdown",
   "id": "028355a5",
   "metadata": {
    "slideshow": {
     "slide_type": "slide"
    }
   },
   "source": [
    "## Ecuaciones de Maxwell"
   ]
  },
  {
   "cell_type": "markdown",
   "id": "35646689",
   "metadata": {
    "slideshow": {
     "slide_type": "slide"
    }
   },
   "source": [
    "### Ley de Gauss\n",
    "*El flujo de campo electrico a través de una superficie cerrada es proporcional a la carga eléctrica, $\\rho$, contenida dentro de esta superficie.*"
   ]
  },
  {
   "cell_type": "markdown",
   "id": "60e6c4b9",
   "metadata": {
    "cell_style": "split"
   },
   "source": [
    "En su forma diferencial:\n",
    "\n",
    "\\begin{equation}\n",
    "\\nabla\\cdot\\left(\\varepsilon_0\\vec{E}\\right) = \\rho\n",
    "\\end{equation}"
   ]
  },
  {
   "cell_type": "markdown",
   "id": "cbb2689e",
   "metadata": {
    "cell_style": "split"
   },
   "source": [
    "Donde:\n",
    " - $\\vec{E}$, es el **campo eléctrico** (se mide en unidades de $\\mathrm{V/m}$).\n",
    "\n",
    " - $\\varepsilon_0 = 8.854\\times10^{-12}$ $\\mathrm{F/m}$, es la **permitividad** en el vacío. "
   ]
  },
  {
   "cell_type": "markdown",
   "id": "92a79ef7",
   "metadata": {},
   "source": [
    ">Un campo eléctrico diveregente(convergente) es el resultado de una carga eléctrica positiva(negativa) que actúa como fuente(sumidero)"
   ]
  },
  {
   "cell_type": "markdown",
   "id": "6811d0f5",
   "metadata": {
    "slideshow": {
     "slide_type": "slide"
    }
   },
   "source": [
    "### Ley de continuidad del campo magnético\n",
    "*No existen cargas magnéticas que den lugar a un campo magnético*"
   ]
  },
  {
   "cell_type": "markdown",
   "id": "7b78c588",
   "metadata": {
    "cell_style": "split"
   },
   "source": [
    "En su forma diferencial:\n",
    "\n",
    "\\begin{equation}\n",
    "\\nabla\\cdot\\left(\\mu_0\\vec{H}\\right) = 0\n",
    "\\end{equation}"
   ]
  },
  {
   "cell_type": "markdown",
   "id": "90fd89e4",
   "metadata": {
    "cell_style": "split"
   },
   "source": [
    "Donde:\n",
    "\n",
    " - $\\vec{H}$, es la **intensidad de campo magnetico** (se mide en unidades de $\\mathrm{A/m}$).\n",
    " - $\\mu_0 = 4\\pi\\times10^{-7}$ $\\mathrm{N/A^2}$, es la **permeabilidad** magnética en el vacío."
   ]
  },
  {
   "cell_type": "markdown",
   "id": "2c73b892",
   "metadata": {},
   "source": [
    ">A diferencia del campo eléctrico, el campo magnético es continuo. Es decir no tiene fuentes ni sumideros"
   ]
  },
  {
   "cell_type": "markdown",
   "id": "f769c001",
   "metadata": {
    "slideshow": {
     "slide_type": "slide"
    }
   },
   "source": [
    "Es común en los textos de física ver las ecuaciones de campo magnético respresentadas en base al **vector campo magnético** $\\vec{B}$ y no a $\\vec{H}$ Esto, porque $\\vec{B}$ representa la componente \"experimentalmente medible\" del campo magnético y la que efectivamente afecta a las cargas en movimiento. Ambas variables se relaciona mediante $\\vec{B} =\\mu_0\\vec{H}$.\n",
    "\n",
    "De igual manera, el análogo del campo eléctrico se denomina **desplazamiento eléctrico**, y se relaciona con el campo eléctrico mediante $\\vec{D}=\\varepsilon_0\\vec{E}$. En este caso, la componente \"experimentalmente medible\" es $\\vec{E}$ y, por ende, es formalmente utilizada en los textos de física.\n"
   ]
  },
  {
   "cell_type": "markdown",
   "id": "41cd9d7b",
   "metadata": {
    "slideshow": {
     "slide_type": "slide"
    }
   },
   "source": [
    "### Ley de Faraday\n",
    "*Un campo magnético variable en el tiempo induce un campo eléctrico rotacional*"
   ]
  },
  {
   "cell_type": "markdown",
   "id": "e216acc8",
   "metadata": {
    "cell_style": "split"
   },
   "source": [
    "\\begin{equation}\n",
    "\\nabla\\times\\vec{E} = -\\mu_0\\frac{\\partial \\vec{H}}{\\partial t}\n",
    "\\end{equation}"
   ]
  },
  {
   "cell_type": "markdown",
   "id": "8a8620c3",
   "metadata": {
    "cell_style": "split"
   },
   "source": [
    "- Notar que el campo magnético debe ser variable en el tiempo para poder inducir una corriente."
   ]
  },
  {
   "cell_type": "markdown",
   "id": "4bfcaca2",
   "metadata": {
    "slideshow": {
     "slide_type": "slide"
    }
   },
   "source": [
    "### Ley de Ampere\n",
    "*Una corriente eléctrica induce un campo magnético rotacional alrededor de ella*"
   ]
  },
  {
   "cell_type": "markdown",
   "id": "f1cc4749",
   "metadata": {
    "cell_style": "split"
   },
   "source": [
    "\\begin{equation}\n",
    "\\nabla\\times\\vec{H} = \\vec{J}\n",
    "\\end{equation}"
   ]
  },
  {
   "cell_type": "markdown",
   "id": "b75acf35",
   "metadata": {
    "cell_style": "split"
   },
   "source": [
    "Donde:\n",
    "\n",
    " - $\\vec{J}$, es la **densidad de corriente**  eléctrica (se mide en unidades de $\\mathrm{A/m^2}$)."
   ]
  },
  {
   "cell_type": "markdown",
   "id": "641bf2c9",
   "metadata": {
    "slideshow": {
     "slide_type": "slide"
    }
   },
   "source": [
    "La ley de Ampere y de Faraday son la base del funcionamiento de motores de inducción, motores DC, transformadores, etc."
   ]
  },
  {
   "cell_type": "code",
   "execution_count": 1,
   "id": "22c404ab",
   "metadata": {
    "cell_style": "center",
    "slideshow": {
     "slide_type": "-"
    }
   },
   "outputs": [
    {
     "data": {
      "image/jpeg": "[encoded data removed]",
      "text/html": [
       "\n",
       "<iframe\n",
       "    width=\"600\"\n",
       "    height=\"400\"\n",
       "    src=\"https://www.youtube.com/embed/CWulQ1ZSE3c?playsinline=0&start=42\"\n",
       "    frameborder=\"0\"\n",
       "    allowfullscreen\n",
       "\n",
       "></iframe>\n"
      ],
      "text/plain": [
       "<IPython.lib.display.YouTubeVideo at 0x7f016c3deca0>"
      ]
     },
     "execution_count": 1,
     "metadata": {
      "filenames": {
       "image/jpeg": "/mnt/d/OneDrive - Universidad Adolfo Ibanez/Teaching_courses/Manejo_y_Conversion_Energia_Solar_Termica/material_catedra/_build/jupyter_execute/1_ondas_electromagneticas/1_ondas_electromagneticas_34_0.jpg"
      }
     },
     "output_type": "execute_result"
    }
   ],
   "source": [
    "from IPython.display import YouTubeVideo\n",
    "YouTubeVideo('CWulQ1ZSE3c', width=600, height=400,  playsinline=0, start=42)"
   ]
  },
  {
   "cell_type": "markdown",
   "id": "151f20b2",
   "metadata": {
    "slideshow": {
     "slide_type": "slide"
    }
   },
   "source": [
    "### Corrección de la ley de Ampere\n",
    "Es posible demostrar que, para un campo vectorial $\\vec{f}$, se cumple la siguiente identidad  \n",
    "\n",
    "$$\\nabla\\cdot\\nabla\\times\\vec{f} = 0,$$"
   ]
  },
  {
   "cell_type": "markdown",
   "id": "a78c883f",
   "metadata": {
    "cell_style": "center",
    "slideshow": {
     "slide_type": "slide"
    }
   },
   "source": [
    "Analicemos el divergente en la ley de Faraday\n",
    "\n",
    "\\begin{equation*}\n",
    "\\nabla\\cdot \\nabla\\times\\vec{E} = -\\nabla\\cdot\\mu_0\\frac{\\partial \\vec{H}}{\\partial t} \\Rightarrow -\\frac{\\partial }{\\partial t}\\left(\\nabla\\cdot\\mu_0\\vec{H}\\right) =0\n",
    "\\end{equation*}\n",
    "\n",
    "La relación se cumple por la ley de continuidad del campo magnético"
   ]
  },
  {
   "cell_type": "markdown",
   "id": "ec8438de",
   "metadata": {
    "cell_style": "split",
    "slideshow": {
     "slide_type": "slide"
    }
   },
   "source": [
    "Por otro lado, el divergente en la ley de Ampere:\n",
    "\n",
    "\\begin{equation*}\n",
    "\\nabla\\cdot \\nabla\\times\\vec{H} = \\nabla\\cdot\\vec{J} \\Rightarrow \\nabla\\cdot\\vec{J} = 0.\n",
    "\\end{equation*}\n",
    "\n",
    "Sin embargo, por la ley de conservación de masa:\n",
    "\n",
    "\\begin{equation*}\n",
    "\\nabla\\cdot\\vec{J} = - \\frac{\\partial \\rho}{\\partial t}\n",
    "\\end{equation*}"
   ]
  },
  {
   "cell_type": "markdown",
   "id": "5b681ca4",
   "metadata": {
    "cell_style": "split",
    "slideshow": {
     "slide_type": "fragment"
    }
   },
   "source": [
    "Claramente, la ecuación de Ampere no está completa. La corrección, fue propuesta por James Maxwell\n",
    "\n",
    "\\begin{equation}\n",
    "\\nabla\\times\\vec{H} = \\vec{J} + \\varepsilon_0\\frac{\\partial\\vec{E}}{\\partial t}\n",
    "\\end{equation}\n",
    "\n",
    "El último término es conocido como la *corriente de desplazamiento de Maxwell.*"
   ]
  },
  {
   "cell_type": "markdown",
   "id": "8a357b04",
   "metadata": {
    "slideshow": {
     "slide_type": "fragment"
    }
   },
   "source": [
    ">A través de esta contribución James C. Maxwell logra unificar las teorías de electricidad, magnetismo y la luz en un solo fenómeno, **las ondas electromagnéticas**."
   ]
  },
  {
   "cell_type": "markdown",
   "id": "6ca76219",
   "metadata": {
    "slideshow": {
     "slide_type": "slide"
    }
   },
   "source": [
    "## Ondas electromagnéticas"
   ]
  },
  {
   "cell_type": "markdown",
   "id": "e5660d0d",
   "metadata": {},
   "source": [
    "### Ondas electromagnéticas en el vacío"
   ]
  },
  {
   "cell_type": "markdown",
   "id": "c8e253e4",
   "metadata": {
    "cell_style": "center"
   },
   "source": [
    "En el vacío, no existen cargas eléctricas ($\\rho=0$) ni corrientes eléctricas ($\\vec{J} = 0$), y por lo tanto las ecuaciones de Maxwell son:\n",
    "\n",
    "\\begin{align*}\n",
    "\\nabla\\cdot\\vec{E} &= 0 \\\\\n",
    "\\nabla\\cdot\\vec{H} &= 0 \\\\\n",
    "\\nabla\\times\\vec{E} &= -\\mu_0\\frac{\\partial \\vec{H}}{\\partial t} \\\\\n",
    "\\nabla\\times\\vec{H} &= \\varepsilon_0\\frac{\\partial \\vec{E}}{\\partial t}\n",
    "\\end{align*}"
   ]
  },
  {
   "cell_type": "markdown",
   "id": "46a04954",
   "metadata": {
    "slideshow": {
     "slide_type": "slide"
    }
   },
   "source": [
    "Analicemos el rotacional sobre la ley de faraday\n",
    "\n",
    "\\begin{equation*}\n",
    "\\nabla\\times\\nabla\\times\\vec{E} = -\\mu_0\\frac{\\partial}{\\partial t}\\left(\\nabla\\times \\vec{H}\\right)\n",
    "\\end{equation*}"
   ]
  },
  {
   "cell_type": "markdown",
   "id": "d4ff69dd",
   "metadata": {
    "cell_style": "center",
    "slideshow": {
     "slide_type": "fragment"
    }
   },
   "source": [
    "Mediante la identidad,\n",
    "\n",
    "$$\\nabla\\times\\nabla\\times\\vec{E} = \\nabla\\left(\\nabla\\cdot\\vec{E}\\right) - \\nabla\\cdot\\nabla\\vec{E},$$"
   ]
  },
  {
   "cell_type": "markdown",
   "id": "6e099e30",
   "metadata": {
    "slideshow": {
     "slide_type": "fragment"
    }
   },
   "source": [
    "y la ley de Gauss $\\nabla\\cdot\\vec{E} = 0$, podemos demostrar:\n",
    "\n",
    "\\begin{equation*}\n",
    "\\nabla^2\\vec{E} = \\mu_0\\frac{\\partial}{\\partial t}\\left(\\nabla\\times \\vec{H}\\right)\n",
    "\\end{equation*}"
   ]
  },
  {
   "cell_type": "markdown",
   "id": "6489290a",
   "metadata": {
    "cell_style": "split",
    "slideshow": {
     "slide_type": "slide"
    }
   },
   "source": [
    "Finalmente, mediante la ley de Ampere modificada, determinamos:\n",
    "\n",
    "\\begin{equation*}\n",
    "\\nabla^2\\vec{E} - \\varepsilon_0\\mu_0\\frac{\\partial^2\\vec{E}}{\\partial t^2} = 0\n",
    "\\end{equation*}"
   ]
  },
  {
   "cell_type": "markdown",
   "id": "92d24593",
   "metadata": {
    "cell_style": "split",
    "slideshow": {
     "slide_type": "fragment"
    }
   },
   "source": [
    "Esta es la ecuación de onda en su forma tridimensional, la cual acepta soluciones del tipo:\n",
    "\n",
    "$$E_0 e^{i\\left(\\vec{k}\\cdot\\vec{r} - \\omega t\\right)} \\hat{e},$$ \n",
    "\n",
    "donde: \n",
    "- $\\vec{k}$ es el vector de onda\n",
    "- $\\vec{r}$ es un vector de posición \n",
    "- $\\omega$ es la frecuencia angular (rad/s) \n",
    "- $E_0$ es la amplitud\n",
    "- $\\hat{e}$ es la dirección de oscilación de la onda."
   ]
  },
  {
   "cell_type": "markdown",
   "id": "4ea4d045",
   "metadata": {
    "slideshow": {
     "slide_type": "slide"
    }
   },
   "source": [
    "Reemplazando esta solución en la ecuación de onda, determinamos la **relación de dispersión** entre la **magnitud del vector de onda en el vacío**, $k_0 = |\\vec{k}|$, y la frecuencia angular:\n",
    "\n",
    "\\begin{equation}\n",
    "k_0 = \\frac{\\omega}{c_0},\n",
    "\\end{equation}\n",
    "\n",
    "donde\n",
    "\n",
    "$$c_0 = \\frac{1}{\\sqrt{\\varepsilon_0\\mu_0}} \\approx 3.00\\times10^8~\\mathrm{m/s,}$$ \n",
    "\n",
    "es la velocidad de la luz."
   ]
  },
  {
   "cell_type": "markdown",
   "id": "fcfafb17",
   "metadata": {
    "slideshow": {
     "slide_type": "slide"
    }
   },
   "source": [
    "En general, estamos más familizarizados con los conceptos de **longitud de onda $\\lambda$** y **frecuencia $\\nu$**, para caracterizar ondas electromagnéticas. Estas variables se relacionan con el vector de onda y la frecuencia mediante:\n",
    "\n",
    "\\begin{equation}\n",
    "k_0 = \\frac{2\\pi}{\\lambda}, ~~ \\omega = 2\\pi\\nu\n",
    "\\end{equation}"
   ]
  },
  {
   "cell_type": "markdown",
   "id": "a6c47001",
   "metadata": {
    "slideshow": {
     "slide_type": "fragment"
    }
   },
   "source": [
    "De igual forma, mediante la relación de dispersión, podemos establecer la siguiente relación entre la longitud de onda y la frecuencia:\n",
    "\n",
    "\\begin{equation}\n",
    "\\lambda\\nu = c_0\n",
    "\\end{equation}"
   ]
  },
  {
   "cell_type": "markdown",
   "id": "caaa33f4",
   "metadata": {
    "slideshow": {
     "slide_type": "fragment"
    }
   },
   "source": [
    "> Esto quiere decir, que un punto $\\vec{r}$ arbitrario de la onda, viaja en el vacío a una velocidad constante $c_0$, **independendiente de su frecuencia**."
   ]
  },
  {
   "cell_type": "markdown",
   "id": "eff942b9",
   "metadata": {
    "cell_style": "center",
    "slideshow": {
     "slide_type": "slide"
    }
   },
   "source": [
    "**El vector de onda representa la dirección de propagación de la onda**. A partir de la ley de Gauss, podemos demostrar:\n",
    "\n",
    "\\begin{equation}\n",
    "\\vec{k} \\cdot\\hat{e} = 0\n",
    "\\end{equation}\n",
    "\n",
    "Es decir, el campo eléctrico oscila en dirección perpendicular a la dirección de propagación."
   ]
  },
  {
   "cell_type": "markdown",
   "id": "53b91925",
   "metadata": {
    "slideshow": {
     "slide_type": "fragment"
    }
   },
   "source": [
    "> En otras palabras, el campo electrico representa una **onda transversal.**\n",
    "\n",
    "<img src=\"./images/onda_transversal.png\" width=\"400px\" align= center>\n",
    "\n",
    "<center> Esquema de una onda transversal </center>"
   ]
  },
  {
   "cell_type": "markdown",
   "id": "1a63aaab",
   "metadata": {
    "slideshow": {
     "slide_type": "slide"
    }
   },
   "source": [
    "En general, tenemos dos tipos de ondas, transversales, y longitudinales"
   ]
  },
  {
   "cell_type": "code",
   "execution_count": 2,
   "id": "793600b7",
   "metadata": {
    "slideshow": {
     "slide_type": "-"
    }
   },
   "outputs": [
    {
     "data": {
      "text/html": [
       "\n",
       "<iframe\n",
       "    width=\"700px\"\n",
       "    height=\"450px\"\n",
       "    src=\"https://www.geogebra.org/material/iframe/id/auyft2pd/width/640/height/480/border/888888/sfsb/true/smb/false/stb/false/stbh/false/ai/false/asb/false/sri/true/rc/false/ld/false/sdz/false/ctl/false\"\n",
       "    frameborder=\"0\"\n",
       "    allowfullscreen\n",
       "\n",
       "></iframe>\n"
      ],
      "text/plain": [
       "<IPython.lib.display.IFrame at 0x7f016c3d78e0>"
      ]
     },
     "metadata": {},
     "output_type": "display_data"
    }
   ],
   "source": [
    "from IPython.display import IFrame, display\n",
    "display(IFrame('https://www.geogebra.org/material/iframe/id/auyft2pd/width/640/height/480/border/888888/sfsb/true/smb/false/stb/false/stbh/false/ai/false/asb/false/sri/true/rc/false/ld/false/sdz/false/ctl/false','700px', '450px'))"
   ]
  },
  {
   "cell_type": "markdown",
   "id": "75b89517",
   "metadata": {
    "slideshow": {
     "slide_type": "slide"
    }
   },
   "source": [
    "Debido a que el campo eléctrico toma la forma $\\vec{E} = E_0 e^{i\\left(\\vec{k}\\cdot\\vec{r} - \\omega t\\right)} \\hat{e},$$  decimos que se comporta como una **onda plana**, debido a que el campo es constante sobre un plano perpendicular a la dirección de propagación"
   ]
  },
  {
   "cell_type": "markdown",
   "id": "98ec05b4",
   "metadata": {},
   "source": [
    "<img src=\"./images/planewave.png\" width=\"400px\" align= center>"
   ]
  },
  {
   "cell_type": "markdown",
   "id": "1c3f8abf",
   "metadata": {
    "cell_style": "split",
    "slideshow": {
     "slide_type": "slide"
    }
   },
   "source": [
    "De igual forma, podemos demostrar que la intensidad de campo magnético en el vacío también satisface la ecuación de onda:\n",
    "\n",
    "\\begin{equation*}\n",
    "\\nabla^2\\vec{H} - \\varepsilon_0\\mu_0\\frac{\\partial^2\\vec{H}}{\\partial t^2} = 0\n",
    "\\end{equation*}"
   ]
  },
  {
   "cell_type": "markdown",
   "id": "5173da90",
   "metadata": {
    "cell_style": "split",
    "slideshow": {
     "slide_type": "fragment"
    }
   },
   "source": [
    "Utilizando un tratamiento similar al de $\\vec{E}$, concluiremos que $\\vec{H}$:\n",
    "- Se comporta como una onda de la forma $H_0 e^{ i\\left(\\vec{k}\\cdot\\vec{r} - \\omega t\\right)} \\hat{h}$\n",
    "\n",
    "- Se mueve en el vacio a una velocidad constante $c_0 \\approx 3.00\\times10^8~\\mathrm{m/s}$.\n",
    "\n",
    "- Es una onda transversal ($\\vec{k}\\cdot\\hat{h} = 0$, por la ley de continuidad de $\\vec{H}$)."
   ]
  },
  {
   "cell_type": "markdown",
   "id": "1fcdae6f",
   "metadata": {
    "slideshow": {
     "slide_type": "slide"
    }
   },
   "source": [
    "Finalmente, mediante la ley de Faraday (o Ampere), deducimos:\n",
    "\n",
    "\\begin{equation*}\n",
    "\\hat{h}{H}_0 = \\frac{E_0}{Z_0}\\left(\\hat{k}\\times\\hat{e}\\right),\n",
    "\\end{equation*}\n",
    "\n",
    "donde $Z_0 = \\sqrt{\\frac{\\mu_0}{\\varepsilon_0}}$, es la **impedancia del vacío** (se mide en $\\Omega$)."
   ]
  },
  {
   "cell_type": "markdown",
   "id": "9d962b17",
   "metadata": {
    "slideshow": {
     "slide_type": "fragment"
    }
   },
   "source": [
    "De esta relación concluímos:\n",
    "1. El campo eléctrico magnético y el vector de onda son mutuamente perpendiculares ($H\\perp E\\perp k$)\n",
    "2. La amplitud de la intensidad de campo magnético y del campo eléctrico, estan relacionadas por: ${H}_0 = \\frac{E_0}{Z_0}$"
   ]
  },
  {
   "cell_type": "markdown",
   "id": "33ce8e15",
   "metadata": {
    "cell_style": "split",
    "slideshow": {
     "slide_type": "slide"
    }
   },
   "source": [
    "En resumen:\n",
    "1. En el vacío, $\\vec{E}$ y $\\vec{H}$ se comportan como ondas trasversales de la forma $\\propto e^{ i\\left(\\vec{k}\\cdot\\vec{r} - \\omega t\\right)}$.\n",
    "\n",
    "2. El vector de onda $\\vec{k}$ representa la dirección de propagación de $\\vec{E}$ y $\\vec{H}$. \n",
    "\n",
    "3. $\\vec{E}$ y $\\vec{H}$ se propagan a una velocidad constante $c_0 = \\frac{1}{\\sqrt{\\mu_0\\varepsilon_0}} \\approx 3.00\\times10^8$ m/s.\n",
    "\n",
    "4. La magnitud del vector de onda en el vacío, $k_0$, y la frecuencia angular, $\\omega$, están relacionadas por $k_0 = \\omega/c_0$\n",
    "\n",
    "5. $\\vec{E}$, $\\vec{H}$ y $\\vec{k}$ son mutuamente perpendiculares. \n",
    "\n",
    "6. Las amplitudes de $\\vec{E}$ y $\\vec{H}$ están asociadas por la relación ${H}_0 = \\frac{E_0}{Z_0}$, donde $Z_0 = \\sqrt{\\frac{\\mu_0}{\\varepsilon_0}}$."
   ]
  },
  {
   "cell_type": "markdown",
   "id": "4dac4f89",
   "metadata": {
    "cell_style": "split",
    "slideshow": {
     "slide_type": "fragment"
    }
   },
   "source": [
    "<img src=\"./images/EM-Wave.gif\" width=\"400px\" align= center>\n",
    "\n",
    "<center> Esquema de una onda electromagnética </center>"
   ]
  },
  {
   "cell_type": "markdown",
   "id": "cd417e03",
   "metadata": {
    "slideshow": {
     "slide_type": "slide"
    }
   },
   "source": [
    "### Vector de Poynting\n",
    "El vector de Poynting, $\\vec{S}$, representa el flujo de energía electromagnética por unidad de área. Está dado por la relación:\n",
    "\n",
    "\\begin{equation}\n",
    "\\langle\\vec{S}\\rangle = \\frac{1}{2}\\mathrm{Re}\\left(\\vec{E}\\times\\vec{H}^*\\right),\n",
    "\\end{equation}\n",
    "\n",
    "donde $\\langle\\cdots\\rangle$ reprensenta el promedio temporal, y el símbolo \"$*$\" reprenta el complejo conjugado."
   ]
  },
  {
   "cell_type": "markdown",
   "id": "a5e81b62",
   "metadata": {
    "cell_style": "center",
    "slideshow": {
     "slide_type": "slide"
    }
   },
   "source": [
    "Consideremos, por ejemplo, el vector de Poynting para una onda plana que se propaga en en el vacio:\n",
    "\n",
    "\\begin{align*}\n",
    "\\langle\\vec{S}\\rangle &= \\frac{1}{2}\\mathrm{Re}\\left(\\vec{E}\\times\\vec{H}^*\\right) \\\\\n",
    "&=\\frac{1}{2}\\mathrm{Re}\\left[E_0 e^{i\\left(k_0\\hat{k}\\cdot\\vec{r} - \\omega t\\right)}\\frac{E_0}{Z_0}e^{-i\\left(k_0\\hat{k}\\cdot\\vec{r} - \\omega t\\right)}\\right] \\left(\\hat{e}\\times\\hat{h}\\right)\\\\\n",
    "&=\\frac{E_0^2}{2Z_0} \\hat{k}\n",
    "\\end{align*}"
   ]
  },
  {
   "cell_type": "markdown",
   "id": "b552cec0",
   "metadata": {},
   "source": [
    "Así, el flujo de energía que transporta onda electromagnética en el vacío es $\\frac{E_0^2}{2Z_0}$"
   ]
  },
  {
   "cell_type": "markdown",
   "id": "5289f0e9",
   "metadata": {
    "slideshow": {
     "slide_type": "slide"
    }
   },
   "source": [
    "Ahora con los conceptos de ondas electromagnéticas y vector de Poynting, pasemos a revisar este video explicativo de como fluye la energía en las redes eléctricas"
   ]
  },
  {
   "cell_type": "code",
   "execution_count": 3,
   "id": "c4f4bd09",
   "metadata": {
    "slideshow": {
     "slide_type": "-"
    }
   },
   "outputs": [
    {
     "data": {
      "image/jpeg": "[encoded data removed]",
      "text/html": [
       "\n",
       "<iframe\n",
       "    width=\"600\"\n",
       "    height=\"400\"\n",
       "    src=\"https://www.youtube.com/embed/bHIhgxav9LY?playsinline=0&start=42\"\n",
       "    frameborder=\"0\"\n",
       "    allowfullscreen\n",
       "\n",
       "></iframe>\n"
      ],
      "text/plain": [
       "<IPython.lib.display.YouTubeVideo at 0x7f016c3dee80>"
      ]
     },
     "execution_count": 3,
     "metadata": {
      "filenames": {
       "image/jpeg": "/mnt/d/OneDrive - Universidad Adolfo Ibanez/Teaching_courses/Manejo_y_Conversion_Energia_Solar_Termica/material_catedra/_build/jupyter_execute/1_ondas_electromagneticas/1_ondas_electromagneticas_68_0.jpg"
      }
     },
     "output_type": "execute_result"
    }
   ],
   "source": [
    "from IPython.display import YouTubeVideo\n",
    "YouTubeVideo('bHIhgxav9LY', width=600, height=400,  playsinline=0, start=42)"
   ]
  },
  {
   "cell_type": "markdown",
   "id": "17c1dc23",
   "metadata": {},
   "source": [
    "## Referencias\n",
    "Griffths D., *Introduction to Electrodynamics*, 4th Ed, Pearson, 2013\n",
    "- 1.2 Diferential Calculus\n",
    "- 7.2 Electromagnetic Induction\n",
    "- 7.3 Maxwell's Equations (hasta  7.3.3)\n",
    "- 8 Concervation laws (solo 8.1)\n",
    "- 9 Electromagnetic Waves (hasta 9.2)"
   ]
  },
  {
   "cell_type": "code",
   "execution_count": null,
   "id": "ca5e841f",
   "metadata": {},
   "outputs": [],
   "source": []
  }
 ],
 "metadata": {
  "kernelspec": {
   "display_name": "Python 3 (ipykernel)",
   "language": "python",
   "name": "python3"
  },
  "language_info": {
   "codemirror_mode": {
    "name": "ipython",
    "version": 3
   },
   "file_extension": ".py",
   "mimetype": "text/x-python",
   "name": "python",
   "nbconvert_exporter": "python",
   "pygments_lexer": "ipython3",
   "version": "3.9.13"
  },
  "latex_envs": {
   "LaTeX_envs_menu_present": true,
   "autoclose": true,
   "autocomplete": true,
   "bibliofile": "biblio.bib",
   "cite_by": "apalike",
   "current_citInitial": 1,
   "eqLabelWithNumbers": true,
   "eqNumInitial": 1,
   "hotkeys": {
    "equation": "Ctrl-E",
    "itemize": "Ctrl-I"
   },
   "labels_anchors": false,
   "latex_user_defs": false,
   "report_style_numbering": true,
   "user_envs_cfg": false
  },
  "toc": {
   "base_numbering": 1,
   "nav_menu": {},
   "number_sections": false,
   "sideBar": true,
   "skip_h1_title": true,
   "title_cell": "Tabla de contenidos",
   "title_sidebar": "Contenidos",
   "toc_cell": true,
   "toc_position": {
    "height": "calc(100% - 180px)",
    "left": "10px",
    "top": "150px",
    "width": "307.2px"
   },
   "toc_section_display": true,
   "toc_window_display": false
  },
  "varInspector": {
   "cols": {
    "lenName": 16,
    "lenType": 16,
    "lenVar": 40
   },
   "kernels_config": {
    "python": {
     "delete_cmd_postfix": "",
     "delete_cmd_prefix": "del ",
     "library": "var_list.py",
     "varRefreshCmd": "print(var_dic_list())"
    },
    "r": {
     "delete_cmd_postfix": ") ",
     "delete_cmd_prefix": "rm(",
     "library": "var_list.r",
     "varRefreshCmd": "cat(var_dic_list()) "
    }
   },
   "types_to_exclude": [
    "module",
    "function",
    "builtin_function_or_method",
    "instance",
    "_Feature"
   ],
   "window_display": false
  }
 },
 "nbformat": 4,
 "nbformat_minor": 5
}