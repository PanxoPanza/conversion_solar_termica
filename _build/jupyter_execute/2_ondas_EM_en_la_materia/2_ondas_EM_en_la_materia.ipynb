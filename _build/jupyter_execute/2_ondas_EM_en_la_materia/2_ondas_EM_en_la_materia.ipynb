{
 "cells": [
  {
   "cell_type": "markdown",
   "id": "8b01ca79",
   "metadata": {
    "slideshow": {
     "slide_type": "slide"
    }
   },
   "source": [
    " <font size=\"6\">MEC501 - Manejo y Conversión de Energía Solar Térmica</font>\n",
    "# 2. Ondas electromagnéticas en la materia\n",
    "<br><br><br><br>\n",
    "Profesor: Francisco Ramírez CueSvas<br>\n",
    "Fecha: 19 de Agosto 2022"
   ]
  },
  {
   "cell_type": "markdown",
   "id": "1a10e9e6",
   "metadata": {
    "slideshow": {
     "slide_type": "slide"
    },
    "toc": true
   },
   "source": [
    "<h1>Tabla de contenidos<span class=\"tocSkip\"></span></h1>\n",
    "<div class=\"toc\"><ul class=\"toc-item\"><li><span><a href=\"#Ecuaciones-de-Maxwell-en-un-medio\" data-toc-modified-id=\"Ecuaciones-de-Maxwell-en-un-medio-1\">Ecuaciones de Maxwell en un medio</a></span><ul class=\"toc-item\"><li><span><a href=\"#Vector-de-Poynting\" data-toc-modified-id=\"Vector-de-Poynting-1.1\">Vector de Poynting</a></span></li><li><span><a href=\"#Condiciones-de-borde\" data-toc-modified-id=\"Condiciones-de-borde-1.2\">Condiciones de borde</a></span></li></ul></li><li><span><a href=\"#Reflección-y-transmissión-de-ondas-electromagnéticas-en-una-interface\" data-toc-modified-id=\"Reflección-y-transmissión-de-ondas-electromagnéticas-en-una-interface-2\">Reflección y transmissión de ondas electromagnéticas en una interface</a></span><ul class=\"toc-item\"><li><span><a href=\"#Coeficientes-de-Fresnel\" data-toc-modified-id=\"Coeficientes-de-Fresnel-2.1\">Coeficientes de Fresnel</a></span></li><li><span><a href=\"#Reflectividad-($R$)-y-transmisividad-($T$)\" data-toc-modified-id=\"Reflectividad-($R$)-y-transmisividad-($T$)-2.2\">Reflectividad ($R$) y transmisividad ($T$)</a></span></li><li><span><a href=\"#Casos-particulares\" data-toc-modified-id=\"Casos-particulares-2.3\">Casos particulares</a></span></li></ul></li><li><span><a href=\"#Reflección-y-transmissión-en-películas-delgadas\" data-toc-modified-id=\"Reflección-y-transmissión-en-películas-delgadas-3\">Reflección y transmissión en películas delgadas</a></span></li><li><span><a href=\"#Referencias\" data-toc-modified-id=\"Referencias-4\">Referencias</a></span></li></ul></div>"
   ]
  },
  {
   "cell_type": "markdown",
   "id": "61b0f1b1",
   "metadata": {
    "slideshow": {
     "slide_type": "slide"
    }
   },
   "source": [
    "## Ecuaciones de Maxwell en un medio"
   ]
  },
  {
   "cell_type": "markdown",
   "id": "9c9eae7b",
   "metadata": {
    "cell_style": "center"
   },
   "source": [
    "La materia esta compuesta por cargas (electrónes, átomos, moléculas). Por lo tanto, a diferencia del vacío, la densidad de carga ($\\rho$) y de corriente ($\\vec{J}$) eléctricas están presentes en las ecuaciones de Maxwell:\n",
    "\n",
    "\\begin{align*}\n",
    "\\nabla\\cdot\\vec{E} &= \\frac{\\rho}{\\varepsilon_0} \\\\\n",
    "\\nabla\\cdot\\vec{B} &= 0 \\\\\n",
    "\\nabla\\times\\vec{E} &= -\\mu_0\\frac{\\partial \\vec{H}}{\\partial t} \\\\\n",
    "\\nabla\\times\\vec{H} &= \\vec{J} + \\varepsilon_0\\frac{\\partial \\vec{E}}{\\partial t}\n",
    "\\end{align*}"
   ]
  },
  {
   "cell_type": "markdown",
   "id": "7d40d83e",
   "metadata": {
    "slideshow": {
     "slide_type": "fragment"
    }
   },
   "source": [
    "> En general, existe un tercer término asociado con la polarización magnética del material. Sin embargo, en este curso veremos solo materiales paramagnéticos y, por lo tanto, este término será ignorado. "
   ]
  },
  {
   "cell_type": "markdown",
   "id": "9d58d7cd",
   "metadata": {
    "cell_style": "center",
    "slideshow": {
     "slide_type": "slide"
    }
   },
   "source": [
    "Asumiendo un medio homogéneo, y mediante la relación:\n",
    "\n",
    "\\begin{equation}\n",
    "\\vec{D} = \\varepsilon_0\\varepsilon\\vec{E}\n",
    "\\end{equation}\n",
    "\n",
    "donde $\\vec{D}$ es el desplazamiento eléctrico, y $\\varepsilon = \\varepsilon' + i\\varepsilon''$, es la **constante dieléctrica** compleja; \n",
    "\n",
    "podemos demostrar que las ecuaciones de Maxwell se pueden reescribir en la forma:\n",
    "\n",
    "\\begin{align*}\n",
    "\\nabla\\cdot\\vec{E} &= 0 \\\\\n",
    "\\nabla\\cdot\\vec{H} &= 0 \\\\\n",
    "\\nabla\\times\\vec{E} &= -\\mu_0\\frac{\\partial \\vec{H}}{\\partial t} \\\\\n",
    "\\nabla\\times\\vec{H} &= \\varepsilon_0 \\varepsilon\\frac{\\partial\\vec{E}}{\\partial t}\n",
    "\\end{align*}"
   ]
  },
  {
   "cell_type": "markdown",
   "id": "104dc93c",
   "metadata": {
    "cell_style": "center",
    "slideshow": {
     "slide_type": "slide"
    }
   },
   "source": [
    "Estas ecuaciones tiene la misma forma que las ecuaciones de Maxwell en el vacío, y por lo tanto todas las conclusiones anteriores aplican a este caso."
   ]
  },
  {
   "cell_type": "markdown",
   "id": "e214507b",
   "metadata": {
    "slideshow": {
     "slide_type": "fragment"
    }
   },
   "source": [
    "La gran diferencia está en la relación de dispersión. En este caso:\n",
    "\n",
    "\\begin{equation}\n",
    "k = N \\frac{\\omega}{c_0}\n",
    "\\end{equation}\n",
    "\n",
    "donde $N = \\sqrt{\\varepsilon} = n +i\\kappa$, es el **índice de refracción complejo**. En general $n$ se conoce como el **índice de refracción**, y $\\kappa$ como **extinsión**."
   ]
  },
  {
   "cell_type": "markdown",
   "id": "92929398",
   "metadata": {
    "cell_style": "center",
    "slideshow": {
     "slide_type": "fragment"
    }
   },
   "source": [
    "> Notar que la velocidad de la onda también cambia a $c = c_0/n$"
   ]
  },
  {
   "cell_type": "markdown",
   "id": "0baf3330",
   "metadata": {
    "cell_style": "center",
    "slideshow": {
     "slide_type": "slide"
    }
   },
   "source": [
    "Igualmente la relación entre $H_0$ y $E_0$, es de la forma \n",
    "\n",
    "$$H_0 = \\frac{E_0}{Z_0Z_r},$$\n",
    "\n",
    "donde $Z_r = \\sqrt{\\frac{1}{\\varepsilon}}$ es la **impedancia relativa**."
   ]
  },
  {
   "cell_type": "markdown",
   "id": "94d7d8b0",
   "metadata": {
    "slideshow": {
     "slide_type": "fragment"
    }
   },
   "source": [
    ">Notar que para materiales paramagnéticos, \n",
    ">\n",
    "> \\begin{equation*}Z_r = \\sqrt{\\frac{1}{\\varepsilon}} = \\frac{1}{N}\\end{equation*}"
   ]
  },
  {
   "cell_type": "markdown",
   "id": "5fb00820",
   "metadata": {
    "slideshow": {
     "slide_type": "slide"
    }
   },
   "source": [
    "**¿Qué representa la constante dielectrica compleja?**"
   ]
  },
  {
   "cell_type": "markdown",
   "id": "200b930b",
   "metadata": {
    "cell_style": "center",
    "slideshow": {
     "slide_type": "fragment"
    }
   },
   "source": [
    "Los materiales están compuestos de átomos, con un núcleo positivo y electrones negativos. Estos electrones interactúan con los átomos de distintas formas; algunos orbitan alrededor del núcleo mientras que otros se mueven libremente por el material. Así, podemos separar las cargas eléctricas en dos tipos: **cargas ligadas**, y **cargas libres**.\n",
    "\n",
    "<img src=\"./images/atomic_lattice.png\" width=\"400px\" align= center>"
   ]
  },
  {
   "cell_type": "markdown",
   "id": "8ff18cc1",
   "metadata": {
    "cell_style": "center",
    "slideshow": {
     "slide_type": "slide"
    }
   },
   "source": [
    "La interacción de las onda electromagnéticas con las cargas ligadas induce **polarización**, es decir, el nucleo y el electrón se polarizan, oscilando en sincronía con el campo externo. Esta respuesta está representada por la parte real de la constante dielectrica ($\\varepsilon'$)."
   ]
  },
  {
   "cell_type": "markdown",
   "id": "512f0e2f",
   "metadata": {
    "cell_style": "center"
   },
   "source": [
    "<img src=\"./images/constante_dielectrica.png\" width=\"550px\" align= center>"
   ]
  },
  {
   "cell_type": "markdown",
   "id": "93668abf",
   "metadata": {
    "slideshow": {
     "slide_type": "slide"
    }
   },
   "source": [
    "Las ondas electromagnéticas aceleran las cargas libres, generando **corrientes eléctricas inducidas**. Algunas cargas libres móbiles colicionan con otros electrónes o núcleos, disipando energía. Esta respuesta está representada por la parte imaginaria de la constante dieléctrica ($\\varepsilon''$)."
   ]
  },
  {
   "cell_type": "markdown",
   "id": "4cceda6a",
   "metadata": {
    "cell_style": "split"
   },
   "source": [
    "Esta discipación de energía está representada por la resistencia eléctrica, y es la reponsable de la generación de calor en metaeles. \n",
    "\n",
    "De hecho, la conductividad eléctrica $\\sigma$ en la ley de Ohm, $\\vec{J} = \\sigma\\vec{E}$, está relacionada con la parte imaginaria de la constante dielectrica por:\n",
    "\\begin{equation}\n",
    "\\sigma = \\varepsilon_0\\omega\\varepsilon''\n",
    "\\end{equation}"
   ]
  },
  {
   "cell_type": "markdown",
   "id": "0cdf10cc",
   "metadata": {
    "cell_style": "split"
   },
   "source": [
    "<img src=\"./images/light_bulb.jpg\" width=\"300px\" align= center>"
   ]
  },
  {
   "cell_type": "markdown",
   "id": "e9169102",
   "metadata": {
    "cell_style": "center",
    "slideshow": {
     "slide_type": "slide"
    }
   },
   "source": [
    "**¿Que significa que el vector de onda sea complejo?**"
   ]
  },
  {
   "cell_type": "markdown",
   "id": "6f5a7f4c",
   "metadata": {
    "cell_style": "split",
    "slideshow": {
     "slide_type": "fragment"
    }
   },
   "source": [
    "Analicemos la solución general de la ecuación de onda:\n",
    "\n",
    "\\begin{align*}\n",
    "\\vec{E} &= E_0 e^{i\\left(\\vec{k}\\cdot\\vec{r} - \\omega t\\right)} \\hat{e} \\\\\n",
    "&= E_0 e^{i\\left(Nk_0\\hat{k}\\cdot\\vec{r} - \\omega t\\right)} \\hat{e} \\\\\n",
    "&= E_0 e^{i\\left(nk_0\\hat{k}\\cdot\\vec{r} - \\omega t\\right)}e^{-\\kappa k_0\\left(\\hat{k}\\cdot\\vec{r}\\right)} \\hat{e}\n",
    "\\end{align*}"
   ]
  },
  {
   "cell_type": "markdown",
   "id": "d057a134",
   "metadata": {
    "cell_style": "split",
    "slideshow": {
     "slide_type": "fragment"
    }
   },
   "source": [
    "<img src=\"./images/decaying_wave.png\" width=\"300px\" align= center>\n",
    "\n",
    "Lo que notamos es, mientas que el índice de refracción $n$ representa el **cambio en la oscilación espacial de la onda**, la extinsión $\\kappa$ indica un **decaimiento en la amplitud**."
   ]
  },
  {
   "cell_type": "markdown",
   "id": "186e9f7e",
   "metadata": {
    "cell_style": "split",
    "slideshow": {
     "slide_type": "slide"
    }
   },
   "source": [
    "En resumen, en materiales paramagnéticos:\n",
    "1. $\\vec{E}$ y $\\vec{H}$ se comportan como ondas trasversales de la forma $\\propto e^{ i\\left(\\vec{k}\\cdot\\vec{r} - \\omega t\\right)}$.\n",
    "\n",
    "2. La relación de dispersión esta dada por $k = N\\frac{\\omega}{c_0},$ \n",
    "donde $N = n + i\\kappa$ es el índice de refracción complejo.\n",
    "\n",
    "4. $N =\\sqrt{\\varepsilon} =\\sqrt{\\varepsilon'+i\\varepsilon''}$, donde $\\varepsilon$ es la constante dieléctrica\n",
    "\n",
    "3. $\\vec{E}$ y $\\vec{H}$ se propagan a una velocidad constante $c = c_0/n$\n",
    "\n",
    "4. $\\kappa$ representa la extinsión de la onda en el espacio.\n",
    "\n",
    "5. $\\vec{E}$, $\\vec{H}$ y $\\vec{k}$ son mutuamente perpendiculares. \n",
    "\n",
    "6. Las amplitudes de $\\vec{E}$ y $\\vec{H}$ están asociadas por la relación ${H}_0 = \\frac{E_0}{Z_0Z_r}$, donde $Z_r = \\frac{1}{\\sqrt{\\varepsilon}}$."
   ]
  },
  {
   "cell_type": "markdown",
   "id": "2767246e",
   "metadata": {
    "cell_style": "split",
    "slideshow": {
     "slide_type": "-"
    }
   },
   "source": [
    "<img src=\"./images/em_wave_decaying.jpg\" width=\"400px\" align= center>\n",
    "\n",
    "<center> Esquema de una onda electromagnética en un material</center>"
   ]
  },
  {
   "cell_type": "markdown",
   "id": "cd417e03",
   "metadata": {
    "slideshow": {
     "slide_type": "slide"
    }
   },
   "source": [
    "### Vector de Poynting\n",
    "El vector de Poynting, $\\vec{S}$, representa el flujo de energía electromagnética por unidad de área. Está dado por la relación:\n",
    "\n",
    "\\begin{equation}\n",
    "\\langle\\vec{S}\\rangle = \\frac{1}{2}\\mathrm{Re}\\left(\\vec{E}\\times\\vec{H}^*\\right),\n",
    "\\end{equation}\n",
    "\n",
    "donde $\\langle\\cdots\\rangle$ reprensenta el promedio en un periodo, y $^*$ reprenta el complejo conjugado."
   ]
  },
  {
   "cell_type": "markdown",
   "id": "a5e81b62",
   "metadata": {
    "cell_style": "center",
    "slideshow": {
     "slide_type": "slide"
    }
   },
   "source": [
    "Consideremos, por ejemplo, el vector de Poynting para una onda plana que se propaga en un material con índice de refracción $N = n+i\\kappa$:\n",
    "\n",
    "\\begin{align*}\n",
    "\\langle\\vec{S}\\rangle &= \\frac{1}{2}\\mathrm{Re}\\left[\\vec{E}\\times\\vec{H}^*\\right] \\\\\n",
    "&=\\frac{1}{2}\\mathrm{Re}\\left[E_0 e^{i\\left(\\vec{k}\\cdot\\vec{r} - \\omega t\\right)}H_0^* e^{-i\\left(\\vec{k}^*\\cdot\\vec{r} - \\omega t\\right)}\\left(\\hat{e}\\times\\hat{h}\\right)\\right] \\\\\n",
    "&=\\frac{1}{2}\\mathrm{Re}\\left[\\frac{E_0^2}{Z_0Z_r^*} e^{i\\left(k_0N\\hat{k}\\cdot\\vec{r} - \\omega t\\right)}e^{-i\\left(k_0N^*\\hat{k}\\cdot\\vec{r} - \\omega t\\right)} \\hat{k}\\right] \\\\\n",
    "&=\\frac{1}{2}\\mathrm{Re}\\left[\\frac{E_0^2}{Z_0Z_r^*}  \\hat{k}\\right]e^{-2k_0\\kappa\\left(\\hat{k}\\cdot\\vec{r}\\right)} \\\\\n",
    "&=\\mathrm{Re}\\left[N^*\\hat{k}\\right]\\frac{E_0^2}{2Z_0}e^{-\\alpha\\left(\\hat{k}\\cdot\\vec{r}\\right)}\n",
    "\\end{align*}"
   ]
  },
  {
   "cell_type": "markdown",
   "id": "b6831a2a",
   "metadata": {
    "cell_style": "center",
    "slideshow": {
     "slide_type": "fragment"
    }
   },
   "source": [
    "El término $\\alpha = \\frac{4\\pi\\kappa}{\\lambda}$ es el **coeficiente de absorpción**. El inverso, $\\delta = 1/\\alpha$, se denomina **profundidad superficial** y representa la profundidad de penetración de la onda electromagnética en un material. "
   ]
  },
  {
   "cell_type": "markdown",
   "id": "e5bfcbf3",
   "metadata": {
    "slideshow": {
     "slide_type": "slide"
    }
   },
   "source": [
    "Como referencia, $\\delta\\sim 1000$ m en fibras ópticas a $\\lambda = 1.55$ $\\mu$m, que es la longitud de onda utilizada en comunicación óptica. Por otro lado, en metales como la plata, oro o aluminio, $\\delta\\sim 10$ nm para $\\lambda \\sim 500$ nm (espectro de luz visible)"
   ]
  },
  {
   "cell_type": "markdown",
   "id": "de2f10ea",
   "metadata": {
    "slideshow": {
     "slide_type": "slide"
    }
   },
   "source": [
    "### Condiciones de borde"
   ]
  },
  {
   "cell_type": "markdown",
   "id": "f7b45112",
   "metadata": {
    "slideshow": {
     "slide_type": "fragment"
    }
   },
   "source": [
    "Hasta ahora hemos revisado las ecuaciones de Maxwell en un medio homogeneo, y como estas dan lugar a la solución en forma de ondas electromagnéticas.\n",
    "\n",
    "> Recordemos que para un medio con índice de refracción $N$, la solución general es:\n",
    ">\n",
    ">\\begin{align*}\n",
    "\\vec{E} &= E_0 e^{i\\left(Nk_0\\hat{k}\\cdot\\vec{r} - \\omega t\\right)} \\hat{e} \\\\\n",
    "\\vec{H} &= \\frac{NE_0}{Z_0} e^{i\\left(Nk_0\\hat{k}\\cdot\\vec{r} - \\omega t\\right)} \\hat{k}\\times\\hat{e}\n",
    "\\end{align*}"
   ]
  },
  {
   "cell_type": "markdown",
   "id": "22a61931",
   "metadata": {
    "slideshow": {
     "slide_type": "slide"
    }
   },
   "source": [
    "**¿Que sucede cuando una onda electromagnética encuentra la frontera entre dos medios distintos?**"
   ]
  },
  {
   "cell_type": "markdown",
   "id": "d557ddef",
   "metadata": {
    "slideshow": {
     "slide_type": "fragment"
    }
   },
   "source": [
    "Como toda ecuación diferencial, la solución particular de las ecuaciones de Maxwell está definida por las condiciones de borde. Estas condiciones de borde surgen al aplicar las ecuaciones de Maxwell en una frontera (cuya derivación no revisaremos aqui). En general son 4 condiciones de borde. Sin embargo, para los problemas que veremos en este curso solo se necesitan dos:\n",
    "\n",
    "\\begin{align}\n",
    "E^{\\parallel}_1 - E^{\\parallel}_2 &= 0 \\\\\n",
    "H^{\\parallel}_1 - H^{\\parallel}_2 &= 0\n",
    "\\end{align}\n",
    "\n",
    "donde $1$ y $2$ son dos medios distintos, y el símbolo $\\parallel$ representa la componente paralela a la interface entre los medios $1$ y $2$"
   ]
  },
  {
   "cell_type": "markdown",
   "id": "ed38561f",
   "metadata": {
    "slideshow": {
     "slide_type": "fragment"
    }
   },
   "source": [
    ">**En la interface entre dos medios $1$ y $2$ las componentes de $\\vec{E}$ y $\\vec{H}$ paralelas a la interface, se conservan.**"
   ]
  },
  {
   "cell_type": "markdown",
   "id": "c7339c10",
   "metadata": {
    "slideshow": {
     "slide_type": "slide"
    }
   },
   "source": [
    "## Reflección y transmissión de ondas electromagnéticas en una interface"
   ]
  },
  {
   "cell_type": "markdown",
   "id": "29746567",
   "metadata": {
    "slideshow": {
     "slide_type": "slide"
    }
   },
   "source": [
    "### Coeficientes de Fresnel"
   ]
  },
  {
   "cell_type": "markdown",
   "id": "b162d332",
   "metadata": {
    "cell_style": "split"
   },
   "source": [
    "Consideremos el fenómeno de reflección y transmissión de una onda electromagnetética en dirección $\\hat{k}_i$ que incide sobre la interface entre dos medios 1 y 2, con índices de refracción reales $n_1$ y $n_2$, respectivamente\n",
    "\n",
    "Definimos como $\\hat{n}$ al vector normal al plano de interface entre los dos medios, y como **plano de incidencia,** al plano formado por los vectores $\\hat{k}_i$ y $\\hat{n}$.\n",
    "\n",
    "La dirección de la onda reflejada y transmitida está definida por los vectores $\\hat{k}_r$ y $\\hat{k}_t$, respectivamente."
   ]
  },
  {
   "cell_type": "markdown",
   "id": "e9ca295b",
   "metadata": {
    "cell_style": "split"
   },
   "source": [
    "<img src=\"./images/plano_incidencia.png\" width=\"350px\" align= center>"
   ]
  },
  {
   "cell_type": "markdown",
   "id": "f14a4173",
   "metadata": {
    "cell_style": "split",
    "slideshow": {
     "slide_type": "slide"
    }
   },
   "source": [
    "Como ejemplo, consideremos una onda electromagnética donde el campo magnético está **polarizado** en dirección perpendicular al plano de incidencia. Este tipo de onda se define como **onda transversal magnética (TM)**\n",
    "\n",
    "<img src=\"./images/em_reflection.png\" width=\"350px\" align= center>"
   ]
  },
  {
   "cell_type": "markdown",
   "id": "780de9d4",
   "metadata": {
    "cell_style": "split",
    "slideshow": {
     "slide_type": "-"
    }
   },
   "source": [
    "A través de las ecuaciones de Maxwell, podemos establecer la solución general para cada onda electromagnética:\n",
    "\n",
    "\\begin{align*}\n",
    "\\vec{E}_i &= E_i e^{ i\\left(k_0n_1\\hat{k}_i\\cdot\\vec{r} - \\omega t\\right)} \\hat{e}_i\\quad\\quad \\mathrm{onda~incidente}\n",
    " \\\\\n",
    "\\vec{E}_r &= E_r e^{ i\\left(k_0n_1\\hat{k}_r\\cdot\\vec{r} - \\omega t\\right)} \\hat{e}_r\\quad\\quad \\mathrm{onda~reflejada}\n",
    "\\\\\n",
    "\\vec{E}_t &= E_t e^{ i\\left(k_0n_2\\hat{k}_t\\cdot\\vec{r} - \\omega t\\right)} \\hat{e}_t\\quad\\quad \n",
    "\\mathrm{onda~transmitida}\n",
    "\\end{align*}\n",
    "\n",
    "donde:\n",
    "\n",
    "\\begin{eqnarray*}\n",
    "\\hat{k}_i &=& \\hat{x}\\sin\\theta_i + \\hat{z}\\cos\\theta_i \n",
    "&\\quad\\mathrm{y}\\quad& \n",
    "\\hat{e}_i &=& \\hat{x}\\cos\\theta_i - \\hat{z}\\sin\\theta_i\n",
    "\\\\\n",
    "\\hat{k}_r &=& \\hat{x}\\sin\\theta_r - \\hat{z}\\cos\\theta_r\n",
    "&\\quad\\mathrm{y}\\quad& \n",
    "\\hat{e}_r &=& \\hat{x}\\cos\\theta_r + \\hat{z}\\sin\\theta_r\n",
    "\\\\\n",
    "\\hat{k}_t &=& \\hat{x}\\sin\\theta_t + \\hat{z}\\cos\\theta_t\n",
    "&\\quad\\mathrm{y}\\quad& \n",
    "\\hat{e}_t &=& \\hat{x}\\cos\\theta_t - \\hat{z}\\sin\\theta_t\n",
    "\\end{eqnarray*}"
   ]
  },
  {
   "cell_type": "markdown",
   "id": "4476682a",
   "metadata": {
    "slideshow": {
     "slide_type": "slide"
    }
   },
   "source": [
    "Reemplazando en las soluciones generales,\n",
    "\n",
    "\\begin{eqnarray*}\n",
    "\\vec{E}_i &=& E_i e^{ ik_0n_1\\left(z\\cos\\theta_i + x\\sin\\theta_i\\right)}e^{-i\\omega t} \\left(\\hat{x}\\cos\\theta_i -\\hat{z}\\sin\\theta_i\\right)\\quad\\quad &&\\mathrm{onda~incidente}\n",
    " \\\\\n",
    "\\vec{E}_r &=& E_r e^{ ik_0n_1\\left(-z\\cos\\theta_r + x\\sin\\theta_r\\right)}e^{-i\\omega t} \\left(\\hat{x}\\cos\\theta_r +\\hat{z}\\sin\\theta_r\\right)\\quad\\quad &&\\mathrm{onda~reflejada}\n",
    "\\\\\n",
    "\\vec{E}_t &=& E_t e^{ ik_0n_2\\left(z\\cos\\theta_t + x\\sin\\theta_t\\right)}e^{-i\\omega t} \\left(\\hat{x}\\cos\\theta_t -\\hat{z}\\sin\\theta_t\\right)\\quad\\quad \n",
    "&&\\mathrm{onda~transmitida}\n",
    "\\end{eqnarray*}"
   ]
  },
  {
   "cell_type": "markdown",
   "id": "fe89145b",
   "metadata": {
    "slideshow": {
     "slide_type": "fragment"
    }
   },
   "source": [
    "De igual forma, a partir de la relación $\\vec{H} = \\frac{E}{Z_0Z_r}\\left(\\hat{k}\\times\\hat{e}\\right)$,\n",
    "\n",
    "\\begin{eqnarray*}\n",
    "\\vec{H}_i &=& \\frac{n_1E_i}{Z_0}e^{ ik_0n_1\\left(z\\cos\\theta_i + x\\sin\\theta_i\\right)}e^{-i\\omega t}\\left(\\hat{y}\\right)\\quad\\quad &&\\mathrm{onda~incidente}\n",
    " \\\\\n",
    "\\vec{H}_r &=& \\frac{n_1E_r}{Z_0} e^{ ik_0n_1\\left(-z\\cos\\theta_r + x\\sin\\theta_r\\right)}e^{-i\\omega t} \\left(-\\hat{y}\\right)\\quad\\quad &&\\mathrm{onda~reflejada}\n",
    "\\\\\n",
    "\\vec{H}_t &=& \\frac{n_2E_t}{Z_0} e^{ ik_0n_2\\left(z\\cos\\theta_t + x\\sin\\theta_t\\right)}e^{-i\\omega t} \\left(\\hat{y}\\right)\\quad\\quad \n",
    "&&\\mathrm{onda~transmitida}\n",
    "\\end{eqnarray*}"
   ]
  },
  {
   "cell_type": "markdown",
   "id": "dc334364",
   "metadata": {
    "slideshow": {
     "slide_type": "slide"
    }
   },
   "source": [
    "A partir de la condición de borde en la interface $z =0$:\n",
    "\n",
    "$$E^{\\parallel}_1|_{z=0} - E^{\\parallel}_2|_{z=0} = 0$$"
   ]
  },
  {
   "cell_type": "markdown",
   "id": "3b3ade24",
   "metadata": {
    "slideshow": {
     "slide_type": "fragment"
    }
   },
   "source": [
    "Tenemos:\n",
    "\n",
    "\\begin{equation*}\n",
    "E_i\\cos\\theta_i e^{ ik_0n_1x\\sin\\theta_i}+E_r\\cos\\theta_r e^{ ik_0n_1x\\sin\\theta_r} - E_t\\cos\\theta_t e^{ ik_0n_1x\\sin\\theta_t} = 0\n",
    "\\end{equation*}"
   ]
  },
  {
   "cell_type": "markdown",
   "id": "06d82130",
   "metadata": {
    "slideshow": {
     "slide_type": "fragment"
    }
   },
   "source": [
    "Dado que esta ecuación se debe satisfacer para cualquier punto $x$, los exponentes debe ser iguales:\n",
    "\n",
    "\\begin{equation*}\n",
    "n_1\\sin\\theta_i = n_1\\sin\\theta_r = n_2\\sin\\theta_t\n",
    "\\end{equation*}"
   ]
  },
  {
   "cell_type": "markdown",
   "id": "d24178a8",
   "metadata": {
    "slideshow": {
     "slide_type": "fragment"
    }
   },
   "source": [
    "Esto nos lleva a las leyes de Snell, para reflección y transmissión:\n",
    "\n",
    "\\begin{equation*}\n",
    "\\theta_i = \\theta_r\\quad\\quad\\mathrm{y}\\quad\\quad n_1\\sin\\theta_i = n_2\\sin\\theta_t\n",
    "\\end{equation*}"
   ]
  },
  {
   "cell_type": "markdown",
   "id": "ebaf7f99",
   "metadata": {
    "slideshow": {
     "slide_type": "slide"
    }
   },
   "source": [
    "Finalmente, la condición de borde del campo eléctrico queda:\n",
    "\n",
    "\\begin{equation}\\label{eq:boundaryE}\n",
    "E_i\\cos\\theta_i +E_r\\cos\\theta_r  - E_t\\cos\\theta_t = 0\n",
    "\\end{equation}"
   ]
  },
  {
   "cell_type": "markdown",
   "id": "7ee20184",
   "metadata": {
    "slideshow": {
     "slide_type": "fragment"
    }
   },
   "source": [
    "De igual forma, de la condición de borde $H^{\\parallel}_1 - H^{\\parallel}_2 = 0$, deducimos:\n",
    "\n",
    "\\begin{equation}\n",
    "n_1E_i - n_1E_r  - n_2E_t = 0 \\label{eq:boundaryH}\n",
    "\\end{equation}"
   ]
  },
  {
   "cell_type": "markdown",
   "id": "b988e005",
   "metadata": {
    "slideshow": {
     "slide_type": "slide"
    }
   },
   "source": [
    "A partir de las ecuaciones (\\ref{eq:boundaryE}) y (\\ref{eq:boundaryH}), determinamos los coeficientes de Fresnel de reflección ($r_\\mathrm{TM}$) y transmissión ($t_\\mathrm{TM}$) para una onda TM:\n",
    "\n",
    "\\begin{align}\n",
    "r_\\mathrm{TM} &= \\frac{E_r^\\mathrm{TM}}{E_i^\\mathrm{TM}} = \\frac{n_1\\cos\\theta_t-n_2\\cos\\theta_i}\n",
    "{n_1\\cos\\theta_t+n_2\\cos\\theta_i}\n",
    "\\\\[10pt]\n",
    "t_\\mathrm{TM} &= \\frac{E_t^\\mathrm{TM}}{E_i^\\mathrm{TM}} =\\frac{2n_1\\cos\\theta_t}\n",
    "{n_1\\cos\\theta_t+n_2\\cos\\theta_i}\n",
    "\\end{align}"
   ]
  },
  {
   "cell_type": "markdown",
   "id": "6b9df308",
   "metadata": {
    "slideshow": {
     "slide_type": "fragment"
    }
   },
   "source": [
    "Similarmente, para una onda transversal eléctrica (TE), los coeficientes de Fresnel son:\n",
    "\n",
    "\\begin{align}\n",
    "r_\\mathrm{TE} &= \\frac{E_r^\\mathrm{TE}}{E_i^\\mathrm{TE}} = \\frac{n_1\\cos\\theta_i -n_2\\cos\\theta_t}\n",
    "{n_1\\cos\\theta_i+n_2\\cos\\theta_t}\n",
    "\\\\[10pt]\n",
    "t_\\mathrm{TE} &= \\frac{E_t^\\mathrm{TE}}{E_i^\\mathrm{TE}} = \\frac{2n_1\\cos\\theta_i}\n",
    "{n_1\\cos\\theta_i+n_2\\cos\\theta_t}\n",
    "\\end{align}"
   ]
  },
  {
   "cell_type": "markdown",
   "id": "0f85e108",
   "metadata": {
    "slideshow": {
     "slide_type": "fragment"
    }
   },
   "source": [
    ">Las relaciones para los coeficientes de Fresnel se mantienen para índices de refracción complejos. En este caso, solo debemos reemplazar $n_1$ por $N_1$, y $n_2$ por $N_2$"
   ]
  },
  {
   "cell_type": "markdown",
   "id": "6e1bbe42",
   "metadata": {
    "cell_style": "center",
    "slideshow": {
     "slide_type": "slide"
    }
   },
   "source": [
    "### Reflectividad ($R$) y transmisividad ($T$)"
   ]
  },
  {
   "cell_type": "markdown",
   "id": "3502a921",
   "metadata": {
    "cell_style": "center"
   },
   "source": [
    "Los coeficientes de Fresnel permiten determinar la magnitud del campo eléctrico (y magnético) reflejado y transmitido por una interface. Para determinar el flujo de energía a través de la interface, utilizamos el vector de Poynting. En el caso de la onda $\\mathrm{TM}$, y considerando indices de refracción complejos en los medios 1 y 2:\n",
    "\n",
    "\\begin{eqnarray*}\n",
    "\\biggl\\langle{\\vec{S}_i^\\mathrm{TM}}\\biggl\\rangle &=& \\frac{1}{2}\\mathrm{Re}\\left[\\vec{E}_i\\times\\vec{H}_i^*\\right] &=& \\mathrm{Re}\\left[N_1^* \\hat{k}_i\\right]\\frac{{\\left(E_i^\\mathrm{TM}\\right)}^2}{2Z_0}\n",
    "\\\\\n",
    "\\biggl\\langle{\\vec{S}_r^\\mathrm{TM}}\\biggl\\rangle &=& \\frac{1}{2}\\mathrm{Re}\\left[\\vec{E}_r\\times\\vec{H}_r^*\\right] &=& \\mathrm{Re}\\left[N_1^* \\hat{k}_r\\right]\\frac{{\\left(E_r^\\mathrm{TM}\\right)}^2}{2Z_0}\n",
    "\\\\\n",
    "\\biggl\\langle{\\vec{S}_t^\\mathrm{TM}}\\biggl\\rangle &=& \\frac{1}{2}\\mathrm{Re}\\left[\\vec{E}_t\\times\\vec{H}_t^*\\right] &=& \\mathrm{Re}\\left[N_2^* \\hat{k}_t\\right]\\frac{{\\left(E_t^\\mathrm{TM}\\right)}^2}{2Z_0}\n",
    "\\end{eqnarray*}"
   ]
  },
  {
   "cell_type": "markdown",
   "id": "ccd07a27",
   "metadata": {
    "cell_style": "center",
    "slideshow": {
     "slide_type": "slide"
    }
   },
   "source": [
    "La **reflectividad ($R$)** y **transmissivitdad ($T$)** se definen, repectivamente, como **el flujo de energía reflejada y transmitida relativa al flujo de energía incidente, y en dirección normal a la interface.** "
   ]
  },
  {
   "cell_type": "markdown",
   "id": "5d579128",
   "metadata": {
    "cell_style": "split",
    "slideshow": {
     "slide_type": "fragment"
    }
   },
   "source": [
    "Así, considerando la componente del vector de Poynting normal a $\\hat{n}$ (notar que $\\hat{n} = - \\hat{z}$ en nuestro ejemplo), tenemos:\n",
    "\n",
    "\\begin{eqnarray}\n",
    "R_\\mathrm{TM} &=& \\frac{S_{r,z}^\\mathrm{TM}}{S_{i,z}^\\mathrm{TM}} &=& \\lvert r_\\mathrm{TM}\\rvert^2\n",
    "\\\\[10pt]\n",
    "T_\\mathrm{TM} &=& \\frac{S_{t,z}^\\mathrm{TM}}{S_{i,z}^\\mathrm{TM}} &=& \\frac{\\mathrm{Re}\\left(N_2^*\\cos\\theta_t\\right)}{\\mathrm{Re}\\left(N_1^*\\cos\\theta_i\\right)}\\lvert t_\\mathrm{TM}\\rvert^2\n",
    "\\end{eqnarray}"
   ]
  },
  {
   "cell_type": "markdown",
   "id": "2f057d84",
   "metadata": {
    "cell_style": "split",
    "slideshow": {
     "slide_type": "fragment"
    }
   },
   "source": [
    "De igual forma, para una onda TE, tenemos\n",
    "\n",
    "\\begin{eqnarray}\n",
    "R_\\mathrm{TE} &=& \\lvert r_\\mathrm{TE}\\rvert^2\n",
    "\\\\[10pt]\n",
    "T_\\mathrm{TE} &=& \\frac{\\mathrm{Re}\\left(N_2\\cos\\theta_t\\right)}{\\mathrm{Re}\\left(N_1\\cos\\theta_i\\right)}\\lvert t_\\mathrm{TE}\\rvert^2\n",
    "\\end{eqnarray}"
   ]
  },
  {
   "cell_type": "markdown",
   "id": "27f6fc55",
   "metadata": {
    "slideshow": {
     "slide_type": "fragment"
    }
   },
   "source": [
    "Notar que por conservación de energía:\n",
    "\\begin{equation}\n",
    "R + T = 1\n",
    "\\end{equation}"
   ]
  },
  {
   "cell_type": "markdown",
   "id": "187bf3c4",
   "metadata": {
    "slideshow": {
     "slide_type": "slide"
    }
   },
   "source": [
    "### Casos particulares"
   ]
  },
  {
   "cell_type": "markdown",
   "id": "071f50fa",
   "metadata": {
    "cell_style": "center",
    "slideshow": {
     "slide_type": "-"
    }
   },
   "source": [
    "Asumiendo dos medios 1 y 2, con índice de refracción real, analicemos la reflectancia en función del ángulo de incidencia:\n",
    "- caso 1, $n_1 < n_2$\n",
    "- caso 1, $n_1 > n_2$"
   ]
  },
  {
   "cell_type": "code",
   "execution_count": 1,
   "id": "8d7bed6f",
   "metadata": {
    "cell_style": "split",
    "slideshow": {
     "slide_type": "slide"
    }
   },
   "outputs": [],
   "source": [
    "import numpy as np\n",
    "import matplotlib.pyplot as plt\n",
    "from empylib.fresnel import interface\n",
    "\n",
    "theta = np.linspace(0,90,100) # Ángulo de incidencia\n",
    "# Reflectividad en una interface\n",
    "Rp = lambda n1,n2 : interface(theta,n1,n2)[0]\n",
    "Rs = lambda n1,n2 : interface(theta,n1,n2)[4]\n",
    "\n",
    "# preparamos el ploteo\n",
    "def plot_R_interface(n1,n2):\n",
    "    fig, ax = plt.subplots()\n",
    "    fig.set_size_inches(9, 6)\n",
    "    plt.rcParams['font.size'] = '16'\n",
    "    ax.plot(theta,Rp(n1,n2), label='$R_\\mathrm{TM}$', color='red')\n",
    "    ax.plot(theta,Rs(n1,n2), label='$R_\\mathrm{TE}$',color='blue')\n",
    "    ax.set_xlim([0,90])\n",
    "    ax.set_ylim([0,1.0])\n",
    "    ax.set_xlabel('Ángulo de incidencia (°)')\n",
    "    ax.set_ylabel('Reflectividad')\n",
    "    ax.legend(frameon=False)"
   ]
  },
  {
   "cell_type": "code",
   "execution_count": 2,
   "id": "42d89872",
   "metadata": {
    "cell_style": "split",
    "scrolled": false
   },
   "outputs": [
    {
     "data": {
      "application/vnd.jupyter.widget-view+json": {
       "model_id": "7806e20bee614314a315f8aed0bd6d18",
       "version_major": 2,
       "version_minor": 0
      },
      "text/plain": [
       "interactive(children=(FloatSlider(value=1.0, description='n1', max=5.0, min=1.0), FloatSlider(value=2.0, descr…"
      ]
     },
     "metadata": {},
     "output_type": "display_data"
    }
   ],
   "source": [
    "from ipywidgets import interact\n",
    "\n",
    "@interact(n1=(1,5, 0.1), n2=(1,5, 0.1))\n",
    "def g(n1=1, n2=2.0):\n",
    "    return plot_R_interface(n1,n2)"
   ]
  },
  {
   "cell_type": "markdown",
   "id": "63a4161a",
   "metadata": {
    "cell_style": "center",
    "slideshow": {
     "slide_type": "slide"
    }
   },
   "source": [
    "Cuando $n_1 < n_2$ vemos que $R_\\mathrm{TM} = 0$ en un cierto ángulo. Este ángulo se denomina **ángulo de Brewster.** En este ángulo solo la componente TE es reflejada. "
   ]
  },
  {
   "cell_type": "markdown",
   "id": "b5158912",
   "metadata": {
    "cell_style": "split",
    "slideshow": {
     "slide_type": "fragment"
    }
   },
   "source": [
    "Los lentes polarizados toman ventaja del ángulo de Brewster. Estos lentes están diseñados para bloquear las ondas TE, y de esta forma reducir el brillo enceguecedor generado por la reflección de la luz solar"
   ]
  },
  {
   "cell_type": "markdown",
   "id": "2edd4f05",
   "metadata": {
    "cell_style": "split",
    "slideshow": {
     "slide_type": "-"
    }
   },
   "source": [
    "<img src=\"./images/polarized_glasses.jpg\" width=\"350px\" align= center>"
   ]
  },
  {
   "cell_type": "markdown",
   "id": "8884b02f",
   "metadata": {
    "slideshow": {
     "slide_type": "fragment"
    }
   },
   "source": [
    "Así, si giramos los lentes en posición vertical (asumiento lentes con alto nivel de polarización), el efecto se invierte. Es decir, las ondas TE se transmiten y las TM no."
   ]
  },
  {
   "cell_type": "markdown",
   "id": "facd7e0b",
   "metadata": {
    "slideshow": {
     "slide_type": "slide"
    }
   },
   "source": [
    "Por otro lado, cuando $n_1 > n_2$, vemos que $R_\\mathrm{TM} = R_\\mathrm{TE} = 0$ sobre cierto ángulo. Este ángulo se denomina **ángulo crítico ($\\theta_c$).** Para deterinar el ángulo crítico usamos la ley de Snell."
   ]
  },
  {
   "cell_type": "markdown",
   "id": "65963ef2",
   "metadata": {
    "cell_style": "split"
   },
   "source": [
    "El ángulo máximo para la onda transmitida es $\\theta_t = 90^o$, la ley de Snell nos indica que existe un ángulo crítico. Sobre este valor, no existe solución real.\n",
    "\n",
    "\\begin{equation}\n",
    "n_1\\sin\\theta_c = n_2\\sin90^o \\Rightarrow \\theta_c = \\arcsin\\left(n_2/n_1\\right)\n",
    "\\end{equation}\n",
    "\n",
    "**Para $\\theta_i > \\theta_c$, $R_\\mathrm{TE} = R_\\mathrm{TM} = 1$.**"
   ]
  },
  {
   "cell_type": "markdown",
   "id": "34422d42",
   "metadata": {
    "cell_style": "split"
   },
   "source": [
    "Este mecanismo se llama **reflección interna total** y es la base para el funcionamiento de fibras ópticas y lasers\n",
    "<img src=\"./images/optical_fiber.png\" width=\"450px\" align= center>"
   ]
  },
  {
   "cell_type": "markdown",
   "id": "5536a48a",
   "metadata": {
    "slideshow": {
     "slide_type": "slide"
    }
   },
   "source": [
    "## Reflección y transmissión en películas delgadas\n",
    "En el caso materiales de película delgada, las ondas electromagnéticas se reflejan y transmiten múltiples veces.\n",
    "\n",
    "<img src=\"./images/reflectance_thinfilm.png\" width=\"600px\" align= center>"
   ]
  },
  {
   "cell_type": "markdown",
   "id": "6937e4c8",
   "metadata": {
    "slideshow": {
     "slide_type": "slide"
    }
   },
   "source": [
    "Considerando los medios 1,2 y 3, ordenados consecutivamente en dirección de la onda incidente, se puede demostrar que en este caso los coeficientes de Fresnel, para indices de refracción reales son:\n",
    "\n",
    "\\begin{align}\n",
    "r &= \\frac{r_{12}+r_{23}e^{2i\\varphi_2}}\n",
    "          {1+r_{12}r_{23}e^{2i\\varphi_2}}\n",
    "\\\\[10pt]\n",
    "t &= \\frac{t_{12}t_{23}e^{i\\varphi_2}}\n",
    "          {1+r_{12}r_{23}e^{2i\\varphi_2}}\n",
    "\\end{align}\n",
    "\n",
    "donde $\\varphi_2 = N_2k_0\\cos\\theta_i$; $r_{12}$, $r_{23}$ y $t_{12}$, $t_{23}$ son, respectivamente, los coeficientes de Fresnel desde el medio 1 al medio 2, y desde el medio 2 al medio 3. Estas fórmulas son válidas tanto para ondas TE como para ondas TM."
   ]
  },
  {
   "cell_type": "markdown",
   "id": "5735fd3a",
   "metadata": {
    "slideshow": {
     "slide_type": "fragment"
    }
   },
   "source": [
    "Basado en estas expresiones, podemos calcular la reflectividad y tranmissividad de la película:\n",
    "\n",
    "\\begin{align}\n",
    "R = {\\lvert r\\rvert}^2 &= \\frac{r_{12}^2+r_{23}^2+2r_{12}r_{23}\\cos 2\\varphi_2}\n",
    "                              {1 + 2r_{12}r_{23}\\cos 2\\varphi_2 + r_{12}^2r_{23}^2}\n",
    "\\\\[10pt]\n",
    "T = \\frac{n_3\\cos\\theta_t}{n_1\\cos\\theta_i}{\\lvert t\\rvert}^2 &= \n",
    "\\frac{\\left(1 - r_{12}^2\\right)\\left(1 - r_{23}^2\\right)}\n",
    "     {1 + 2r_{12}r_{23}\\cos 2\\varphi_2 + r_{12}^2r_{23}^2}\n",
    "\\end{align}"
   ]
  },
  {
   "cell_type": "markdown",
   "id": "9e4bca52",
   "metadata": {
    "slideshow": {
     "slide_type": "slide"
    }
   },
   "source": [
    "Analicemos como se comportan estas ecuaciones en un caso real. \n",
    "\n",
    "Como ejemplo, consideremos la reflectividad de una película delgada de sílice (SiO$_2$) sobre un sustrato de silicio. Esta capa se genera naturalmente debido a la oxidación del silicio\n",
    "\n",
    "<img src=\"./images/sio2_coating.png\" width=\"600px\" align= center>\n",
    "\n",
    "Para simplificar, consideremos:\n",
    "- índice de refracción del aire: 1.0\n",
    "- índice de refracción de sílice: 1.5\n",
    "- índice de refracción del silicio: 4.3\n",
    "- espectro de longitudes de onda: 300 - 800 nm (visible)\n",
    "- espesor del sílice, $d$: variable\n",
    "- ángulo de incidencia $\\theta_i$: variable"
   ]
  },
  {
   "cell_type": "code",
   "execution_count": 3,
   "id": "e4453a7a",
   "metadata": {
    "cell_style": "split",
    "slideshow": {
     "slide_type": "slide"
    }
   },
   "outputs": [],
   "source": [
    "import numpy as np\n",
    "import matplotlib.pyplot as plt\n",
    "from empylib.fresnel import multilayer\n",
    "\n",
    "# Reflectividad en capa delgada\n",
    "lam = np.linspace(0.3,0.8,100)          # longitud de onda (en um)\n",
    "n_layers = (1.0,1.5,4.3)         # índices de refracción n1, n2, n3\n",
    "Rp = lambda tt,d : multilayer(lam, tt,n_layers, (d,), 'p')[0]\n",
    "Rs = lambda tt,d : multilayer(lam, tt,n_layers, (d,), 's')[0]\n",
    "\n",
    "# preparamos el ploteo\n",
    "def plot_R_multi(theta,d):\n",
    "    fig, ax = plt.subplots()\n",
    "    fig.set_size_inches(9, 6)\n",
    "    plt.rcParams['font.size'] = '16'\n",
    "    ax.plot(lam,Rp(theta,d), label='$R_\\mathrm{TM}$', color='red')\n",
    "    ax.plot(lam,Rs(theta,d), label='$R_\\mathrm{TE}$',color='blue')\n",
    "    ax.set_xlim([min(lam),max(lam)])\n",
    "    ax.set_ylim([0,1.0])\n",
    "    ax.set_xlabel('Longitud de onda ($\\mu$m)')\n",
    "    ax.set_ylabel('Reflectividad')\n",
    "    ax.legend(frameon=False)"
   ]
  },
  {
   "cell_type": "code",
   "execution_count": 4,
   "id": "97271595",
   "metadata": {
    "cell_style": "split"
   },
   "outputs": [
    {
     "data": {
      "application/vnd.jupyter.widget-view+json": {
       "model_id": "76426282bb2c47f38dced4d4edc6cb38",
       "version_major": 2,
       "version_minor": 0
      },
      "text/plain": [
       "interactive(children=(IntSlider(value=30, description='theta', max=89, step=10), FloatSlider(value=0.3, descri…"
      ]
     },
     "metadata": {},
     "output_type": "display_data"
    }
   ],
   "source": [
    "from ipywidgets import interact\n",
    "\n",
    "@interact(theta=(0,89,10), d=(0,0.5,0.01))\n",
    "def g(theta=30, d=0.3):\n",
    "    return plot_R_multi(theta,d)"
   ]
  },
  {
   "cell_type": "markdown",
   "id": "43438f9c",
   "metadata": {
    "cell_style": "split",
    "slideshow": {
     "slide_type": "slide"
    }
   },
   "source": [
    "Esta oscilaciones en la reflectancia al variar $\\theta_i$ y $d$ son el resultado de la interferencia entre las ondas reflejadas en la parte inferior y superior de la película de silicio.\n",
    "\n",
    "<img src=\"./images/interference.png\" width=\"350px\" align= center>"
   ]
  },
  {
   "cell_type": "markdown",
   "id": "4037e868",
   "metadata": {
    "cell_style": "split",
    "slideshow": {
     "slide_type": "fragment"
    }
   },
   "source": [
    "En palabras simples, este fenómeno ocurre por qué la onda reflejada en la parte inferior de la película debe recorre un camino más largo. Esto produce un desface con las ondas reflejadas en la parte superior que deriva en interferencia constructiva (alta reflectividad) y destructiva (baja reflectividad)"
   ]
  },
  {
   "cell_type": "markdown",
   "id": "2af5990e",
   "metadata": {
    "slideshow": {
     "slide_type": "fragment"
    }
   },
   "source": [
    "Este fenómeno se manifiesta en forma de color ya que nuestros ojos son sensibles a los cambios de radiación en este espectro."
   ]
  },
  {
   "cell_type": "markdown",
   "id": "93e2c9e8",
   "metadata": {
    "slideshow": {
     "slide_type": "slide"
    }
   },
   "source": [
    "Analicemos como se manifiesta este fenómeno en forma de color:"
   ]
  },
  {
   "cell_type": "code",
   "execution_count": 5,
   "id": "04a79ec0",
   "metadata": {
    "cell_style": "split",
    "slideshow": {
     "slide_type": "-"
    }
   },
   "outputs": [],
   "source": [
    "import numpy as np\n",
    "import matplotlib.pyplot as plt\n",
    "from empylib.fresnel import multilayer\n",
    "from empylib.ref_spectra import AM15\n",
    "from empylib.ref_spectra import color_system as cs\n",
    "cs = cs.hdtv\n",
    "\n",
    "# Reflectividad en capa delgada\n",
    "lam = np.linspace(0.3,0.8,81)   # longitud de onda (en um)\n",
    "n_layers = (1.0,1.5,4.3)         # índices de refracción n1, n2, n3\n",
    "Rp = lambda tt,d : multilayer(lam, tt,n_layers, (d,), 'p')[0]\n",
    "Rs = lambda tt,d : multilayer(lam, tt,n_layers, (d,), 's')[0]\n",
    "\n",
    "def color_R_film(d):\n",
    "    # formateamos la figura\n",
    "    fig, ax = plt.subplots()\n",
    "    fig.set_size_inches(9, 5)\n",
    "    plt.rcParams['font.size'] = '16'\n",
    "    \n",
    "    AM15_spectra = AM15(lam)\n",
    "    theta = np.linspace(0,90,100) # angulo de incidencia\n",
    "    for i in range(len(theta)): \n",
    "        R = 0.5*Rp(theta[i],d) + 0.5*Rs(theta[i],d)\n",
    "        Irad = R*AM15_spectra\n",
    "        html_rgb = cs.spec_to_rgb(Irad, out_fmt='html')\n",
    "        ax.axvline(theta[i], color=html_rgb, linewidth=6) \n",
    "    ax.set_xlim([min(theta),max(theta)])\n",
    "    ax.set_ylim([0,1.0])\n",
    "    ax.axes.yaxis.set_visible(False)\n",
    "    ax.set_xlabel('Ángulo de incidencia (deg)')"
   ]
  },
  {
   "cell_type": "code",
   "execution_count": 6,
   "id": "dd72f038",
   "metadata": {
    "cell_style": "split"
   },
   "outputs": [
    {
     "data": {
      "application/vnd.jupyter.widget-view+json": {
       "model_id": "6011677f4b2d461abe4465e8ed916bed",
       "version_major": 2,
       "version_minor": 0
      },
      "text/plain": [
       "interactive(children=(FloatSlider(value=0.28, description='d', max=0.5, step=0.001), Output()), _dom_classes=(…"
      ]
     },
     "metadata": {},
     "output_type": "display_data"
    }
   ],
   "source": [
    "from ipywidgets import interact\n",
    "\n",
    "@interact(d=(0,0.5,0.001))\n",
    "def g(d=0.28):\n",
    "    return color_R_film(d)"
   ]
  },
  {
   "cell_type": "markdown",
   "id": "17c1dc23",
   "metadata": {
    "slideshow": {
     "slide_type": "slide"
    }
   },
   "source": [
    "## Referencias\n",
    "Griffths D., *Introduction to Electrodynamics*, 4th Ed, Pearson, 2013\n",
    "- 7.3 Maxwell's Equations (7.36)\n",
    "- 9 Electromagnetic Waves (9.3 y 9.4)"
   ]
  }
 ],
 "metadata": {
  "kernelspec": {
   "display_name": "Python 3 (ipykernel)",
   "language": "python",
   "name": "python3"
  },
  "language_info": {
   "codemirror_mode": {
    "name": "ipython",
    "version": 3
   },
   "file_extension": ".py",
   "mimetype": "text/x-python",
   "name": "python",
   "nbconvert_exporter": "python",
   "pygments_lexer": "ipython3",
   "version": "3.9.13"
  },
  "latex_envs": {
   "LaTeX_envs_menu_present": true,
   "autoclose": true,
   "autocomplete": true,
   "bibliofile": "biblio.bib",
   "cite_by": "apalike",
   "current_citInitial": 1,
   "eqLabelWithNumbers": true,
   "eqNumInitial": 1,
   "hotkeys": {
    "equation": "Ctrl-E",
    "itemize": "Ctrl-I"
   },
   "labels_anchors": false,
   "latex_user_defs": false,
   "report_style_numbering": false,
   "user_envs_cfg": false
  },
  "toc": {
   "base_numbering": 1,
   "nav_menu": {},
   "number_sections": false,
   "sideBar": true,
   "skip_h1_title": true,
   "title_cell": "Tabla de contenidos",
   "title_sidebar": "Contenidos",
   "toc_cell": true,
   "toc_position": {
    "height": "calc(100% - 180px)",
    "left": "10px",
    "top": "150px",
    "width": "307.2px"
   },
   "toc_section_display": true,
   "toc_window_display": false
  },
  "varInspector": {
   "cols": {
    "lenName": 16,
    "lenType": 16,
    "lenVar": 40
   },
   "kernels_config": {
    "python": {
     "delete_cmd_postfix": "",
     "delete_cmd_prefix": "del ",
     "library": "var_list.py",
     "varRefreshCmd": "print(var_dic_list())"
    },
    "r": {
     "delete_cmd_postfix": ") ",
     "delete_cmd_prefix": "rm(",
     "library": "var_list.r",
     "varRefreshCmd": "cat(var_dic_list()) "
    }
   },
   "types_to_exclude": [
    "module",
    "function",
    "builtin_function_or_method",
    "instance",
    "_Feature"
   ],
   "window_display": false
  },
  "widgets": {
   "application/vnd.jupyter.widget-state+json": {
    "state": {
     "051029d2e1c641a291c4d237086c9fc2": {
      "model_module": "@jupyter-widgets/base",
      "model_module_version": "1.2.0",
      "model_name": "LayoutModel",
      "state": {
       "_model_module": "@jupyter-widgets/base",
       "_model_module_version": "1.2.0",
       "_model_name": "LayoutModel",
       "_view_count": null,
       "_view_module": "@jupyter-widgets/base",
       "_view_module_version": "1.2.0",
       "_view_name": "LayoutView",
       "align_content": null,
       "align_items": null,
       "align_self": null,
       "border": null,
       "bottom": null,
       "display": null,
       "flex": null,
       "flex_flow": null,
       "grid_area": null,
       "grid_auto_columns": null,
       "grid_auto_flow": null,
       "grid_auto_rows": null,
       "grid_column": null,
       "grid_gap": null,
       "grid_row": null,
       "grid_template_areas": null,
       "grid_template_columns": null,
       "grid_template_rows": null,
       "height": null,
       "justify_content": null,
       "justify_items": null,
       "left": null,
       "margin": null,
       "max_height": null,
       "max_width": null,
       "min_height": null,
       "min_width": null,
       "object_fit": null,
       "object_position": null,
       "order": null,
       "overflow": null,
       "overflow_x": null,
       "overflow_y": null,
       "padding": null,
       "right": null,
       "top": null,
       "visibility": null,
       "width": null
      }
     },
     "088e014551ef4947a049def6af8ed983": {
      "model_module": "@jupyter-widgets/controls",
      "model_module_version": "1.5.0",
      "model_name": "FloatSliderModel",
      "state": {
       "_dom_classes": [],
       "_model_module": "@jupyter-widgets/controls",
       "_model_module_version": "1.5.0",
       "_model_name": "FloatSliderModel",
       "_view_count": null,
       "_view_module": "@jupyter-widgets/controls",
       "_view_module_version": "1.5.0",
       "_view_name": "FloatSliderView",
       "continuous_update": true,
       "description": "d",
       "description_tooltip": null,
       "disabled": false,
       "layout": "IPY_MODEL_a3537bb482c94666aed0b623fa2e8c18",
       "max": 0.5,
       "min": 0.0,
       "orientation": "horizontal",
       "readout": true,
       "readout_format": ".2f",
       "step": 0.001,
       "style": "IPY_MODEL_7c232f747ed94cb886728a4bddeceb58",
       "value": 0.28
      }
     },
     "0a048740cb0c40c8abf9c7772d4edc62": {
      "model_module": "@jupyter-widgets/base",
      "model_module_version": "1.2.0",
      "model_name": "LayoutModel",
      "state": {
       "_model_module": "@jupyter-widgets/base",
       "_model_module_version": "1.2.0",
       "_model_name": "LayoutModel",
       "_view_count": null,
       "_view_module": "@jupyter-widgets/base",
       "_view_module_version": "1.2.0",
       "_view_name": "LayoutView",
       "align_content": null,
       "align_items": null,
       "align_self": null,
       "border": null,
       "bottom": null,
       "display": null,
       "flex": null,
       "flex_flow": null,
       "grid_area": null,
       "grid_auto_columns": null,
       "grid_auto_flow": null,
       "grid_auto_rows": null,
       "grid_column": null,
       "grid_gap": null,
       "grid_row": null,
       "grid_template_areas": null,
       "grid_template_columns": null,
       "grid_template_rows": null,
       "height": null,
       "justify_content": null,
       "justify_items": null,
       "left": null,
       "margin": null,
       "max_height": null,
       "max_width": null,
       "min_height": null,
       "min_width": null,
       "object_fit": null,
       "object_position": null,
       "order": null,
       "overflow": null,
       "overflow_x": null,
       "overflow_y": null,
       "padding": null,
       "right": null,
       "top": null,
       "visibility": null,
       "width": null
      }
     },
     "0fe30c5c123a4d2a8cd3356cecaaace6": {
      "model_module": "@jupyter-widgets/controls",
      "model_module_version": "1.5.0",
      "model_name": "SliderStyleModel",
      "state": {
       "_model_module": "@jupyter-widgets/controls",
       "_model_module_version": "1.5.0",
       "_model_name": "SliderStyleModel",
       "_view_count": null,
       "_view_module": "@jupyter-widgets/base",
       "_view_module_version": "1.2.0",
       "_view_name": "StyleView",
       "description_width": "",
       "handle_color": null
      }
     },
     "1c03cca81f4c42e89d7e2f2acf27f683": {
      "model_module": "@jupyter-widgets/base",
      "model_module_version": "1.2.0",
      "model_name": "LayoutModel",
      "state": {
       "_model_module": "@jupyter-widgets/base",
       "_model_module_version": "1.2.0",
       "_model_name": "LayoutModel",
       "_view_count": null,
       "_view_module": "@jupyter-widgets/base",
       "_view_module_version": "1.2.0",
       "_view_name": "LayoutView",
       "align_content": null,
       "align_items": null,
       "align_self": null,
       "border": null,
       "bottom": null,
       "display": null,
       "flex": null,
       "flex_flow": null,
       "grid_area": null,
       "grid_auto_columns": null,
       "grid_auto_flow": null,
       "grid_auto_rows": null,
       "grid_column": null,
       "grid_gap": null,
       "grid_row": null,
       "grid_template_areas": null,
       "grid_template_columns": null,
       "grid_template_rows": null,
       "height": null,
       "justify_content": null,
       "justify_items": null,
       "left": null,
       "margin": null,
       "max_height": null,
       "max_width": null,
       "min_height": null,
       "min_width": null,
       "object_fit": null,
       "object_position": null,
       "order": null,
       "overflow": null,
       "overflow_x": null,
       "overflow_y": null,
       "padding": null,
       "right": null,
       "top": null,
       "visibility": null,
       "width": null
      }
     },
     "29ef7bf706ba468698edae0a1eb76f20": {
      "model_module": "@jupyter-widgets/base",
      "model_module_version": "1.2.0",
      "model_name": "LayoutModel",
      "state": {
       "_model_module": "@jupyter-widgets/base",
       "_model_module_version": "1.2.0",
       "_model_name": "LayoutModel",
       "_view_count": null,
       "_view_module": "@jupyter-widgets/base",
       "_view_module_version": "1.2.0",
       "_view_name": "LayoutView",
       "align_content": null,
       "align_items": null,
       "align_self": null,
       "border": null,
       "bottom": null,
       "display": null,
       "flex": null,
       "flex_flow": null,
       "grid_area": null,
       "grid_auto_columns": null,
       "grid_auto_flow": null,
       "grid_auto_rows": null,
       "grid_column": null,
       "grid_gap": null,
       "grid_row": null,
       "grid_template_areas": null,
       "grid_template_columns": null,
       "grid_template_rows": null,
       "height": null,
       "justify_content": null,
       "justify_items": null,
       "left": null,
       "margin": null,
       "max_height": null,
       "max_width": null,
       "min_height": null,
       "min_width": null,
       "object_fit": null,
       "object_position": null,
       "order": null,
       "overflow": null,
       "overflow_x": null,
       "overflow_y": null,
       "padding": null,
       "right": null,
       "top": null,
       "visibility": null,
       "width": null
      }
     },
     "2d95140784814cd0adcb60bf89fe0415": {
      "model_module": "@jupyter-widgets/output",
      "model_module_version": "1.0.0",
      "model_name": "OutputModel",
      "state": {
       "_dom_classes": [],
       "_model_module": "@jupyter-widgets/output",
       "_model_module_version": "1.0.0",
       "_model_name": "OutputModel",
       "_view_count": null,
       "_view_module": "@jupyter-widgets/output",
       "_view_module_version": "1.0.0",
       "_view_name": "OutputView",
       "layout": "IPY_MODEL_0a048740cb0c40c8abf9c7772d4edc62",
       "msg_id": "",
       "outputs": [
        {
         "data": {
          "image/png": "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\n",
          "text/plain": "<Figure size 648x432 with 1 Axes>"
         },
         "metadata": {
          "needs_background": "light"
         },
         "output_type": "display_data"
        }
       ]
      }
     },
     "36329d8332074b389e282e9f483ee87d": {
      "model_module": "@jupyter-widgets/controls",
      "model_module_version": "1.5.0",
      "model_name": "SliderStyleModel",
      "state": {
       "_model_module": "@jupyter-widgets/controls",
       "_model_module_version": "1.5.0",
       "_model_name": "SliderStyleModel",
       "_view_count": null,
       "_view_module": "@jupyter-widgets/base",
       "_view_module_version": "1.2.0",
       "_view_name": "StyleView",
       "description_width": "",
       "handle_color": null
      }
     },
     "3d738ba1186e441093d3a05b9c67a6dd": {
      "model_module": "@jupyter-widgets/base",
      "model_module_version": "1.2.0",
      "model_name": "LayoutModel",
      "state": {
       "_model_module": "@jupyter-widgets/base",
       "_model_module_version": "1.2.0",
       "_model_name": "LayoutModel",
       "_view_count": null,
       "_view_module": "@jupyter-widgets/base",
       "_view_module_version": "1.2.0",
       "_view_name": "LayoutView",
       "align_content": null,
       "align_items": null,
       "align_self": null,
       "border": null,
       "bottom": null,
       "display": null,
       "flex": null,
       "flex_flow": null,
       "grid_area": null,
       "grid_auto_columns": null,
       "grid_auto_flow": null,
       "grid_auto_rows": null,
       "grid_column": null,
       "grid_gap": null,
       "grid_row": null,
       "grid_template_areas": null,
       "grid_template_columns": null,
       "grid_template_rows": null,
       "height": null,
       "justify_content": null,
       "justify_items": null,
       "left": null,
       "margin": null,
       "max_height": null,
       "max_width": null,
       "min_height": null,
       "min_width": null,
       "object_fit": null,
       "object_position": null,
       "order": null,
       "overflow": null,
       "overflow_x": null,
       "overflow_y": null,
       "padding": null,
       "right": null,
       "top": null,
       "visibility": null,
       "width": null
      }
     },
     "3e3f19e849f94dc4a0b14904eadb3852": {
      "model_module": "@jupyter-widgets/controls",
      "model_module_version": "1.5.0",
      "model_name": "FloatSliderModel",
      "state": {
       "_dom_classes": [],
       "_model_module": "@jupyter-widgets/controls",
       "_model_module_version": "1.5.0",
       "_model_name": "FloatSliderModel",
       "_view_count": null,
       "_view_module": "@jupyter-widgets/controls",
       "_view_module_version": "1.5.0",
       "_view_name": "FloatSliderView",
       "continuous_update": true,
       "description": "d",
       "description_tooltip": null,
       "disabled": false,
       "layout": "IPY_MODEL_3d738ba1186e441093d3a05b9c67a6dd",
       "max": 0.5,
       "min": 0.0,
       "orientation": "horizontal",
       "readout": true,
       "readout_format": ".2f",
       "step": 0.01,
       "style": "IPY_MODEL_0fe30c5c123a4d2a8cd3356cecaaace6",
       "value": 0.3
      }
     },
     "44e5a89fafc64cbaa9335945c88d31ab": {
      "model_module": "@jupyter-widgets/base",
      "model_module_version": "1.2.0",
      "model_name": "LayoutModel",
      "state": {
       "_model_module": "@jupyter-widgets/base",
       "_model_module_version": "1.2.0",
       "_model_name": "LayoutModel",
       "_view_count": null,
       "_view_module": "@jupyter-widgets/base",
       "_view_module_version": "1.2.0",
       "_view_name": "LayoutView",
       "align_content": null,
       "align_items": null,
       "align_self": null,
       "border": null,
       "bottom": null,
       "display": null,
       "flex": null,
       "flex_flow": null,
       "grid_area": null,
       "grid_auto_columns": null,
       "grid_auto_flow": null,
       "grid_auto_rows": null,
       "grid_column": null,
       "grid_gap": null,
       "grid_row": null,
       "grid_template_areas": null,
       "grid_template_columns": null,
       "grid_template_rows": null,
       "height": null,
       "justify_content": null,
       "justify_items": null,
       "left": null,
       "margin": null,
       "max_height": null,
       "max_width": null,
       "min_height": null,
       "min_width": null,
       "object_fit": null,
       "object_position": null,
       "order": null,
       "overflow": null,
       "overflow_x": null,
       "overflow_y": null,
       "padding": null,
       "right": null,
       "top": null,
       "visibility": null,
       "width": null
      }
     },
     "55633850a57a46c8b9feeb4477479161": {
      "model_module": "@jupyter-widgets/controls",
      "model_module_version": "1.5.0",
      "model_name": "FloatSliderModel",
      "state": {
       "_dom_classes": [],
       "_model_module": "@jupyter-widgets/controls",
       "_model_module_version": "1.5.0",
       "_model_name": "FloatSliderModel",
       "_view_count": null,
       "_view_module": "@jupyter-widgets/controls",
       "_view_module_version": "1.5.0",
       "_view_name": "FloatSliderView",
       "continuous_update": true,
       "description": "n2",
       "description_tooltip": null,
       "disabled": false,
       "layout": "IPY_MODEL_575d232c816e49a982920d7acfc96f4e",
       "max": 5.0,
       "min": 1.0,
       "orientation": "horizontal",
       "readout": true,
       "readout_format": ".2f",
       "step": 0.1,
       "style": "IPY_MODEL_36329d8332074b389e282e9f483ee87d",
       "value": 2.0
      }
     },
     "575d232c816e49a982920d7acfc96f4e": {
      "model_module": "@jupyter-widgets/base",
      "model_module_version": "1.2.0",
      "model_name": "LayoutModel",
      "state": {
       "_model_module": "@jupyter-widgets/base",
       "_model_module_version": "1.2.0",
       "_model_name": "LayoutModel",
       "_view_count": null,
       "_view_module": "@jupyter-widgets/base",
       "_view_module_version": "1.2.0",
       "_view_name": "LayoutView",
       "align_content": null,
       "align_items": null,
       "align_self": null,
       "border": null,
       "bottom": null,
       "display": null,
       "flex": null,
       "flex_flow": null,
       "grid_area": null,
       "grid_auto_columns": null,
       "grid_auto_flow": null,
       "grid_auto_rows": null,
       "grid_column": null,
       "grid_gap": null,
       "grid_row": null,
       "grid_template_areas": null,
       "grid_template_columns": null,
       "grid_template_rows": null,
       "height": null,
       "justify_content": null,
       "justify_items": null,
       "left": null,
       "margin": null,
       "max_height": null,
       "max_width": null,
       "min_height": null,
       "min_width": null,
       "object_fit": null,
       "object_position": null,
       "order": null,
       "overflow": null,
       "overflow_x": null,
       "overflow_y": null,
       "padding": null,
       "right": null,
       "top": null,
       "visibility": null,
       "width": null
      }
     },
     "5d6419eb1a9249a58a7110d5b8c5651b": {
      "model_module": "@jupyter-widgets/base",
      "model_module_version": "1.2.0",
      "model_name": "LayoutModel",
      "state": {
       "_model_module": "@jupyter-widgets/base",
       "_model_module_version": "1.2.0",
       "_model_name": "LayoutModel",
       "_view_count": null,
       "_view_module": "@jupyter-widgets/base",
       "_view_module_version": "1.2.0",
       "_view_name": "LayoutView",
       "align_content": null,
       "align_items": null,
       "align_self": null,
       "border": null,
       "bottom": null,
       "display": null,
       "flex": null,
       "flex_flow": null,
       "grid_area": null,
       "grid_auto_columns": null,
       "grid_auto_flow": null,
       "grid_auto_rows": null,
       "grid_column": null,
       "grid_gap": null,
       "grid_row": null,
       "grid_template_areas": null,
       "grid_template_columns": null,
       "grid_template_rows": null,
       "height": null,
       "justify_content": null,
       "justify_items": null,
       "left": null,
       "margin": null,
       "max_height": null,
       "max_width": null,
       "min_height": null,
       "min_width": null,
       "object_fit": null,
       "object_position": null,
       "order": null,
       "overflow": null,
       "overflow_x": null,
       "overflow_y": null,
       "padding": null,
       "right": null,
       "top": null,
       "visibility": null,
       "width": null
      }
     },
     "6011677f4b2d461abe4465e8ed916bed": {
      "model_module": "@jupyter-widgets/controls",
      "model_module_version": "1.5.0",
      "model_name": "VBoxModel",
      "state": {
       "_dom_classes": [
        "widget-interact"
       ],
       "_model_module": "@jupyter-widgets/controls",
       "_model_module_version": "1.5.0",
       "_model_name": "VBoxModel",
       "_view_count": null,
       "_view_module": "@jupyter-widgets/controls",
       "_view_module_version": "1.5.0",
       "_view_name": "VBoxView",
       "box_style": "",
       "children": [
        "IPY_MODEL_088e014551ef4947a049def6af8ed983",
        "IPY_MODEL_ad02ed2c483940e0b7318ce162f12057"
       ],
       "layout": "IPY_MODEL_29ef7bf706ba468698edae0a1eb76f20"
      }
     },
     "6628d290c29a44f6896dac50524c9f8e": {
      "model_module": "@jupyter-widgets/base",
      "model_module_version": "1.2.0",
      "model_name": "LayoutModel",
      "state": {
       "_model_module": "@jupyter-widgets/base",
       "_model_module_version": "1.2.0",
       "_model_name": "LayoutModel",
       "_view_count": null,
       "_view_module": "@jupyter-widgets/base",
       "_view_module_version": "1.2.0",
       "_view_name": "LayoutView",
       "align_content": null,
       "align_items": null,
       "align_self": null,
       "border": null,
       "bottom": null,
       "display": null,
       "flex": null,
       "flex_flow": null,
       "grid_area": null,
       "grid_auto_columns": null,
       "grid_auto_flow": null,
       "grid_auto_rows": null,
       "grid_column": null,
       "grid_gap": null,
       "grid_row": null,
       "grid_template_areas": null,
       "grid_template_columns": null,
       "grid_template_rows": null,
       "height": null,
       "justify_content": null,
       "justify_items": null,
       "left": null,
       "margin": null,
       "max_height": null,
       "max_width": null,
       "min_height": null,
       "min_width": null,
       "object_fit": null,
       "object_position": null,
       "order": null,
       "overflow": null,
       "overflow_x": null,
       "overflow_y": null,
       "padding": null,
       "right": null,
       "top": null,
       "visibility": null,
       "width": null
      }
     },
     "76426282bb2c47f38dced4d4edc6cb38": {
      "model_module": "@jupyter-widgets/controls",
      "model_module_version": "1.5.0",
      "model_name": "VBoxModel",
      "state": {
       "_dom_classes": [
        "widget-interact"
       ],
       "_model_module": "@jupyter-widgets/controls",
       "_model_module_version": "1.5.0",
       "_model_name": "VBoxModel",
       "_view_count": null,
       "_view_module": "@jupyter-widgets/controls",
       "_view_module_version": "1.5.0",
       "_view_name": "VBoxView",
       "box_style": "",
       "children": [
        "IPY_MODEL_f07f8c1a08974ee6947588e13b2a6b49",
        "IPY_MODEL_3e3f19e849f94dc4a0b14904eadb3852",
        "IPY_MODEL_95bd0863c4e844b59033d60424b27285"
       ],
       "layout": "IPY_MODEL_8a245c2b2b10452aa5659154d91eb40f"
      }
     },
     "7806e20bee614314a315f8aed0bd6d18": {
      "model_module": "@jupyter-widgets/controls",
      "model_module_version": "1.5.0",
      "model_name": "VBoxModel",
      "state": {
       "_dom_classes": [
        "widget-interact"
       ],
       "_model_module": "@jupyter-widgets/controls",
       "_model_module_version": "1.5.0",
       "_model_name": "VBoxModel",
       "_view_count": null,
       "_view_module": "@jupyter-widgets/controls",
       "_view_module_version": "1.5.0",
       "_view_name": "VBoxView",
       "box_style": "",
       "children": [
        "IPY_MODEL_c2f5358b6f594131864cd8a260585391",
        "IPY_MODEL_55633850a57a46c8b9feeb4477479161",
        "IPY_MODEL_2d95140784814cd0adcb60bf89fe0415"
       ],
       "layout": "IPY_MODEL_1c03cca81f4c42e89d7e2f2acf27f683"
      }
     },
     "7c232f747ed94cb886728a4bddeceb58": {
      "model_module": "@jupyter-widgets/controls",
      "model_module_version": "1.5.0",
      "model_name": "SliderStyleModel",
      "state": {
       "_model_module": "@jupyter-widgets/controls",
       "_model_module_version": "1.5.0",
       "_model_name": "SliderStyleModel",
       "_view_count": null,
       "_view_module": "@jupyter-widgets/base",
       "_view_module_version": "1.2.0",
       "_view_name": "StyleView",
       "description_width": "",
       "handle_color": null
      }
     },
     "8a245c2b2b10452aa5659154d91eb40f": {
      "model_module": "@jupyter-widgets/base",
      "model_module_version": "1.2.0",
      "model_name": "LayoutModel",
      "state": {
       "_model_module": "@jupyter-widgets/base",
       "_model_module_version": "1.2.0",
       "_model_name": "LayoutModel",
       "_view_count": null,
       "_view_module": "@jupyter-widgets/base",
       "_view_module_version": "1.2.0",
       "_view_name": "LayoutView",
       "align_content": null,
       "align_items": null,
       "align_self": null,
       "border": null,
       "bottom": null,
       "display": null,
       "flex": null,
       "flex_flow": null,
       "grid_area": null,
       "grid_auto_columns": null,
       "grid_auto_flow": null,
       "grid_auto_rows": null,
       "grid_column": null,
       "grid_gap": null,
       "grid_row": null,
       "grid_template_areas": null,
       "grid_template_columns": null,
       "grid_template_rows": null,
       "height": null,
       "justify_content": null,
       "justify_items": null,
       "left": null,
       "margin": null,
       "max_height": null,
       "max_width": null,
       "min_height": null,
       "min_width": null,
       "object_fit": null,
       "object_position": null,
       "order": null,
       "overflow": null,
       "overflow_x": null,
       "overflow_y": null,
       "padding": null,
       "right": null,
       "top": null,
       "visibility": null,
       "width": null
      }
     },
     "95bd0863c4e844b59033d60424b27285": {
      "model_module": "@jupyter-widgets/output",
      "model_module_version": "1.0.0",
      "model_name": "OutputModel",
      "state": {
       "_dom_classes": [],
       "_model_module": "@jupyter-widgets/output",
       "_model_module_version": "1.0.0",
       "_model_name": "OutputModel",
       "_view_count": null,
       "_view_module": "@jupyter-widgets/output",
       "_view_module_version": "1.0.0",
       "_view_name": "OutputView",
       "layout": "IPY_MODEL_44e5a89fafc64cbaa9335945c88d31ab",
       "msg_id": "",
       "outputs": [
        {
         "data": {
          "image/png": "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\n",
          "text/plain": "<Figure size 648x432 with 1 Axes>"
         },
         "metadata": {
          "needs_background": "light"
         },
         "output_type": "display_data"
        }
       ]
      }
     },
     "a3537bb482c94666aed0b623fa2e8c18": {
      "model_module": "@jupyter-widgets/base",
      "model_module_version": "1.2.0",
      "model_name": "LayoutModel",
      "state": {
       "_model_module": "@jupyter-widgets/base",
       "_model_module_version": "1.2.0",
       "_model_name": "LayoutModel",
       "_view_count": null,
       "_view_module": "@jupyter-widgets/base",
       "_view_module_version": "1.2.0",
       "_view_name": "LayoutView",
       "align_content": null,
       "align_items": null,
       "align_self": null,
       "border": null,
       "bottom": null,
       "display": null,
       "flex": null,
       "flex_flow": null,
       "grid_area": null,
       "grid_auto_columns": null,
       "grid_auto_flow": null,
       "grid_auto_rows": null,
       "grid_column": null,
       "grid_gap": null,
       "grid_row": null,
       "grid_template_areas": null,
       "grid_template_columns": null,
       "grid_template_rows": null,
       "height": null,
       "justify_content": null,
       "justify_items": null,
       "left": null,
       "margin": null,
       "max_height": null,
       "max_width": null,
       "min_height": null,
       "min_width": null,
       "object_fit": null,
       "object_position": null,
       "order": null,
       "overflow": null,
       "overflow_x": null,
       "overflow_y": null,
       "padding": null,
       "right": null,
       "top": null,
       "visibility": null,
       "width": null
      }
     },
     "ad02ed2c483940e0b7318ce162f12057": {
      "model_module": "@jupyter-widgets/output",
      "model_module_version": "1.0.0",
      "model_name": "OutputModel",
      "state": {
       "_dom_classes": [],
       "_model_module": "@jupyter-widgets/output",
       "_model_module_version": "1.0.0",
       "_model_name": "OutputModel",
       "_view_count": null,
       "_view_module": "@jupyter-widgets/output",
       "_view_module_version": "1.0.0",
       "_view_name": "OutputView",
       "layout": "IPY_MODEL_051029d2e1c641a291c4d237086c9fc2",
       "msg_id": "",
       "outputs": [
        {
         "data": {
          "image/png": "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\n",
          "text/plain": "<Figure size 648x360 with 1 Axes>"
         },
         "metadata": {
          "needs_background": "light"
         },
         "output_type": "display_data"
        }
       ]
      }
     },
     "ae289c954ccb4993ba24a5dee48fab9f": {
      "model_module": "@jupyter-widgets/controls",
      "model_module_version": "1.5.0",
      "model_name": "SliderStyleModel",
      "state": {
       "_model_module": "@jupyter-widgets/controls",
       "_model_module_version": "1.5.0",
       "_model_name": "SliderStyleModel",
       "_view_count": null,
       "_view_module": "@jupyter-widgets/base",
       "_view_module_version": "1.2.0",
       "_view_name": "StyleView",
       "description_width": "",
       "handle_color": null
      }
     },
     "c2f5358b6f594131864cd8a260585391": {
      "model_module": "@jupyter-widgets/controls",
      "model_module_version": "1.5.0",
      "model_name": "FloatSliderModel",
      "state": {
       "_dom_classes": [],
       "_model_module": "@jupyter-widgets/controls",
       "_model_module_version": "1.5.0",
       "_model_name": "FloatSliderModel",
       "_view_count": null,
       "_view_module": "@jupyter-widgets/controls",
       "_view_module_version": "1.5.0",
       "_view_name": "FloatSliderView",
       "continuous_update": true,
       "description": "n1",
       "description_tooltip": null,
       "disabled": false,
       "layout": "IPY_MODEL_6628d290c29a44f6896dac50524c9f8e",
       "max": 5.0,
       "min": 1.0,
       "orientation": "horizontal",
       "readout": true,
       "readout_format": ".2f",
       "step": 0.1,
       "style": "IPY_MODEL_ae289c954ccb4993ba24a5dee48fab9f",
       "value": 1.0
      }
     },
     "e06cfe48457b4db39153ef585e74f46d": {
      "model_module": "@jupyter-widgets/controls",
      "model_module_version": "1.5.0",
      "model_name": "SliderStyleModel",
      "state": {
       "_model_module": "@jupyter-widgets/controls",
       "_model_module_version": "1.5.0",
       "_model_name": "SliderStyleModel",
       "_view_count": null,
       "_view_module": "@jupyter-widgets/base",
       "_view_module_version": "1.2.0",
       "_view_name": "StyleView",
       "description_width": "",
       "handle_color": null
      }
     },
     "f07f8c1a08974ee6947588e13b2a6b49": {
      "model_module": "@jupyter-widgets/controls",
      "model_module_version": "1.5.0",
      "model_name": "IntSliderModel",
      "state": {
       "_dom_classes": [],
       "_model_module": "@jupyter-widgets/controls",
       "_model_module_version": "1.5.0",
       "_model_name": "IntSliderModel",
       "_view_count": null,
       "_view_module": "@jupyter-widgets/controls",
       "_view_module_version": "1.5.0",
       "_view_name": "IntSliderView",
       "continuous_update": true,
       "description": "theta",
       "description_tooltip": null,
       "disabled": false,
       "layout": "IPY_MODEL_5d6419eb1a9249a58a7110d5b8c5651b",
       "max": 89,
       "min": 0,
       "orientation": "horizontal",
       "readout": true,
       "readout_format": "d",
       "step": 10,
       "style": "IPY_MODEL_e06cfe48457b4db39153ef585e74f46d",
       "value": 30
      }
     }
    },
    "version_major": 2,
    "version_minor": 0
   }
  }
 },
 "nbformat": 4,
 "nbformat_minor": 5
}