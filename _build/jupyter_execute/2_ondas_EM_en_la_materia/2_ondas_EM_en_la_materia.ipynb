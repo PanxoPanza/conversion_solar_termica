{
 "cells": [
  {
   "cell_type": "markdown",
   "id": "8b01ca79",
   "metadata": {
    "slideshow": {
     "slide_type": "slide"
    }
   },
   "source": [
    " <font size=\"6\">MEC501 - Manejo y Conversión de Energía Solar Térmica</font>\n",
    "# Ondas electromagnéticas en la materia\n",
    "<br><br><br><br>\n",
    "Profesor: Francisco Ramírez CueSvas<br>\n",
    "Fecha: 19 de Agosto 2022"
   ]
  },
  {
   "cell_type": "markdown",
   "id": "61b0f1b1",
   "metadata": {
    "slideshow": {
     "slide_type": "slide"
    }
   },
   "source": [
    "## Ecuaciones de Maxwell en un medio"
   ]
  },
  {
   "cell_type": "markdown",
   "id": "9c9eae7b",
   "metadata": {
    "cell_style": "center"
   },
   "source": [
    "La materia esta compuesta por cargas (electrónes, átomos, moléculas). Por lo tanto, a diferencia del vacío, la densidad de carga ($\\rho$) y de corriente ($\\vec{J}$) eléctricas están presentes en las ecuaciones de Maxwell:\n",
    "\n",
    "\\begin{align*}\n",
    "\\nabla\\cdot\\vec{E} &= \\frac{\\rho}{\\varepsilon_0} \\\\\n",
    "\\nabla\\cdot\\vec{B} &= 0 \\\\\n",
    "\\nabla\\times\\vec{E} &= -\\mu_0\\frac{\\partial \\vec{H}}{\\partial t} \\\\\n",
    "\\nabla\\times\\vec{H} &= \\vec{J} + \\varepsilon_0\\frac{\\partial \\vec{E}}{\\partial t}\n",
    "\\end{align*}"
   ]
  },
  {
   "cell_type": "markdown",
   "id": "7d40d83e",
   "metadata": {
    "slideshow": {
     "slide_type": "fragment"
    }
   },
   "source": [
    "> En general, existe un tercer término asociado con la polarización magnética del material. Sin embargo, en este curso veremos solo materiales paramagnéticos y, por lo tanto, este término será ignorado. "
   ]
  },
  {
   "cell_type": "markdown",
   "id": "9d58d7cd",
   "metadata": {
    "cell_style": "center",
    "slideshow": {
     "slide_type": "slide"
    }
   },
   "source": [
    "Asumiendo un medio homogéneo, y mediante la relación:\n",
    "\n",
    "\\begin{equation}\n",
    "\\vec{D} = \\varepsilon_0\\varepsilon\\vec{E}\n",
    "\\end{equation}\n",
    "\n",
    "donde $\\vec{D}$ es el desplazamiento eléctrico, y $\\varepsilon = \\varepsilon' + i\\varepsilon''$, es la **constante dieléctrica** compleja; \n",
    "\n",
    "podemos demostrar que las ecuaciones de Maxwell se pueden reescribir en la forma:\n",
    "\n",
    "\\begin{align*}\n",
    "\\nabla\\cdot\\vec{E} &= 0 \\\\\n",
    "\\nabla\\cdot\\vec{H} &= 0 \\\\\n",
    "\\nabla\\times\\vec{E} &= -\\mu_0\\frac{\\partial \\vec{H}}{\\partial t} \\\\\n",
    "\\nabla\\times\\vec{H} &= \\varepsilon_0 \\varepsilon\\frac{\\partial\\vec{E}}{\\partial t}\n",
    "\\end{align*}"
   ]
  },
  {
   "cell_type": "markdown",
   "id": "104dc93c",
   "metadata": {
    "cell_style": "center",
    "slideshow": {
     "slide_type": "slide"
    }
   },
   "source": [
    "Estas ecuaciones tiene la misma forma que las ecuaciones de Maxwell en el vacío, y por lo tanto todas las conclusiones anteriores aplican a este caso."
   ]
  },
  {
   "cell_type": "markdown",
   "id": "e214507b",
   "metadata": {
    "slideshow": {
     "slide_type": "fragment"
    }
   },
   "source": [
    "La gran diferencia está en la relación de dispersión. En este caso:\n",
    "\n",
    "\\begin{equation}\n",
    "k = N \\frac{\\omega}{c_0}\n",
    "\\end{equation}\n",
    "\n",
    "donde $N = \\sqrt{\\varepsilon} = n +i\\kappa$, es el **índice de refracción complejo**. En general $n$ se conoce como el **índice de refracción**, y $\\kappa$ como **extinsión**."
   ]
  },
  {
   "cell_type": "markdown",
   "id": "92929398",
   "metadata": {
    "cell_style": "center",
    "slideshow": {
     "slide_type": "fragment"
    }
   },
   "source": [
    "> Notar que la velocidad de la onda también cambia a $c = c_0/n$"
   ]
  },
  {
   "cell_type": "markdown",
   "id": "0baf3330",
   "metadata": {
    "cell_style": "center",
    "slideshow": {
     "slide_type": "slide"
    }
   },
   "source": [
    "Igualmente la relación entre $H_0$ y $E_0$, es de la forma \n",
    "\n",
    "$$H_0 = \\frac{E_0}{Z_0Z_r},$$\n",
    "\n",
    "donde $Z_r = \\sqrt{\\frac{1}{\\varepsilon}}$ es la **impedancia relativa**."
   ]
  },
  {
   "cell_type": "markdown",
   "id": "94d7d8b0",
   "metadata": {
    "slideshow": {
     "slide_type": "fragment"
    }
   },
   "source": [
    ">Notar que para materiales paramagnéticos, \n",
    ">\n",
    "> \\begin{equation*}Z_r = \\sqrt{\\frac{1}{\\varepsilon}} = \\frac{1}{N}\\end{equation*}"
   ]
  },
  {
   "cell_type": "markdown",
   "id": "5fb00820",
   "metadata": {
    "slideshow": {
     "slide_type": "slide"
    }
   },
   "source": [
    "**¿Qué representa la constante dielectrica compleja?**"
   ]
  },
  {
   "cell_type": "markdown",
   "id": "200b930b",
   "metadata": {
    "cell_style": "center",
    "slideshow": {
     "slide_type": "fragment"
    }
   },
   "source": [
    "Los materiales están compuestos de átomos, con un núcleo positivo y electrones negativos. Estos electrones interactúan con los átomos de distintas formas; algunos orbitan alrededor del núcleo mientras que otros se mueven libremente por el material. Así, podemos separar las cargas eléctricas en dos tipos: **cargas ligadas**, y **cargas libres**.\n",
    "\n",
    "<img src=\"./images/atomic_lattice.png\" width=\"400px\" align= center>"
   ]
  },
  {
   "cell_type": "markdown",
   "id": "8ff18cc1",
   "metadata": {
    "cell_style": "center",
    "slideshow": {
     "slide_type": "slide"
    }
   },
   "source": [
    "La interacción de las onda electromagnéticas con las cargas ligadas induce **polarización**, es decir, el nucleo y el electrón se polarizan, oscilando en sincronía con el campo externo. Esta respuesta está representada por la parte real de la constante dielectrica ($\\varepsilon'$)."
   ]
  },
  {
   "cell_type": "markdown",
   "id": "512f0e2f",
   "metadata": {
    "cell_style": "center"
   },
   "source": [
    "<img src=\"./images/constante_dielectrica.png\" width=\"550px\" align= center>"
   ]
  },
  {
   "cell_type": "markdown",
   "id": "93668abf",
   "metadata": {
    "slideshow": {
     "slide_type": "slide"
    }
   },
   "source": [
    "Las ondas electromagnéticas aceleran las cargas libres, generando **corrientes eléctricas inducidas**. Algunas cargas libres móbiles colicionan con otros electrónes o núcleos, disipando energía. Esta respuesta está representada por la parte imaginaria de la constante dieléctrica ($\\varepsilon''$)."
   ]
  },
  {
   "cell_type": "markdown",
   "id": "4cceda6a",
   "metadata": {
    "cell_style": "split"
   },
   "source": [
    "Esta discipación de energía está representada por la resistencia eléctrica, y es la reponsable de la generación de calor en metaeles. \n",
    "\n",
    "De hecho, la conductividad eléctrica $\\sigma$ en la ley de Ohm, $\\vec{J} = \\sigma\\vec{E}$, está relacionada con la parte imaginaria de la constante dielectrica por:\n",
    "\\begin{equation}\n",
    "\\sigma = \\varepsilon_0\\omega\\varepsilon''\n",
    "\\end{equation}"
   ]
  },
  {
   "cell_type": "markdown",
   "id": "0cdf10cc",
   "metadata": {
    "cell_style": "split"
   },
   "source": [
    "<img src=\"./images/light_bulb.jpg\" width=\"300px\" align= center>"
   ]
  },
  {
   "cell_type": "markdown",
   "id": "e9169102",
   "metadata": {
    "cell_style": "center",
    "slideshow": {
     "slide_type": "slide"
    }
   },
   "source": [
    "**¿Que significa que el vector de onda sea complejo?**"
   ]
  },
  {
   "cell_type": "markdown",
   "id": "6f5a7f4c",
   "metadata": {
    "cell_style": "split",
    "slideshow": {
     "slide_type": "fragment"
    }
   },
   "source": [
    "Analicemos la solución general de la ecuación de onda:\n",
    "\n",
    "\\begin{align*}\n",
    "\\vec{E} &= E_0 e^{i\\left(\\vec{k}\\cdot\\vec{r} - \\omega t\\right)} \\hat{e} \\\\\n",
    "&= E_0 e^{i\\left(Nk_0\\hat{k}\\cdot\\vec{r} - \\omega t\\right)} \\hat{e} \\\\\n",
    "&= E_0 e^{i\\left(nk_0\\hat{k}\\cdot\\vec{r} - \\omega t\\right)}e^{-\\kappa k_0\\left(\\hat{k}\\cdot\\vec{r}\\right)} \\hat{e}\n",
    "\\end{align*}"
   ]
  },
  {
   "cell_type": "markdown",
   "id": "d057a134",
   "metadata": {
    "cell_style": "split",
    "slideshow": {
     "slide_type": "fragment"
    }
   },
   "source": [
    "<img src=\"./images/decaying_wave.png\" width=\"300px\" align= center>\n",
    "\n",
    "Lo que notamos es, mientas que el índice de refracción $n$ representa el **cambio en la oscilación espacial de la onda**, la extinsión $\\kappa$ indica un **decaimiento en la amplitud**."
   ]
  },
  {
   "cell_type": "markdown",
   "id": "186e9f7e",
   "metadata": {
    "cell_style": "split",
    "slideshow": {
     "slide_type": "slide"
    }
   },
   "source": [
    "En resumen, en materiales paramagnéticos:\n",
    "1. $\\vec{E}$ y $\\vec{H}$ se comportan como ondas trasversales de la forma $\\propto e^{ i\\left(\\vec{k}\\cdot\\vec{r} - \\omega t\\right)}$.\n",
    "\n",
    "2. La relación de dispersión esta dada por $k = N\\frac{\\omega}{c_0},$ \n",
    "donde $N = n + i\\kappa$ es el índice de refracción complejo.\n",
    "\n",
    "4. $N =\\sqrt{\\varepsilon} =\\sqrt{\\varepsilon'+i\\varepsilon''}$, donde $\\varepsilon$ es la constante dieléctrica\n",
    "\n",
    "3. $\\vec{E}$ y $\\vec{H}$ se propagan a una velocidad constante $c = c_0/n$\n",
    "\n",
    "4. $\\kappa$ representa la extinsión de la onda en el espacio.\n",
    "\n",
    "5. $\\vec{E}$, $\\vec{H}$ y $\\vec{k}$ son mutuamente perpendiculares. \n",
    "\n",
    "6. Las amplitudes de $\\vec{E}$ y $\\vec{H}$ están asociadas por la relación ${H}_0 = \\frac{E_0}{Z_0Z_r}$, donde $Z_r = \\frac{1}{\\sqrt{\\varepsilon}}$."
   ]
  },
  {
   "cell_type": "markdown",
   "id": "2767246e",
   "metadata": {
    "cell_style": "split",
    "slideshow": {
     "slide_type": "-"
    }
   },
   "source": [
    "<img src=\"./images/em_wave_decaying.jpg\" width=\"400px\" align= center>\n",
    "\n",
    "<center> Esquema de una onda electromagnética en un material</center>"
   ]
  },
  {
   "cell_type": "markdown",
   "id": "cd417e03",
   "metadata": {
    "slideshow": {
     "slide_type": "slide"
    }
   },
   "source": [
    "### Vector de Poynting\n",
    "El vector de Poynting, $\\vec{S}$, representa el flujo de energía electromagnética por unidad de área. Está dado por la relación:\n",
    "\n",
    "\\begin{equation}\n",
    "\\langle\\vec{S}\\rangle = \\frac{1}{2}\\mathrm{Re}\\left(\\vec{E}\\times\\vec{H}^*\\right),\n",
    "\\end{equation}\n",
    "\n",
    "donde $\\langle\\cdots\\rangle$ reprensenta el promedio en un periodo, y $^*$ reprenta el complejo conjugado."
   ]
  },
  {
   "cell_type": "markdown",
   "id": "a5e81b62",
   "metadata": {
    "cell_style": "center",
    "slideshow": {
     "slide_type": "slide"
    }
   },
   "source": [
    "Consideremos, por ejemplo, el vector de Poynting para una onda plana que se propaga en un material con índice de refracción $N = n+i\\kappa$:\n",
    "\n",
    "\\begin{align*}\n",
    "\\langle\\vec{S}\\rangle &= \\frac{1}{2}\\mathrm{Re}\\left[\\vec{E}\\times\\vec{H}^*\\right] \\\\\n",
    "&=\\frac{1}{2}\\mathrm{Re}\\left[E_0 e^{i\\left(\\vec{k}\\cdot\\vec{r} - \\omega t\\right)}H_0^* e^{-i\\left(\\vec{k}^*\\cdot\\vec{r} - \\omega t\\right)}\\left(\\hat{e}\\times\\hat{h}\\right)\\right] \\\\\n",
    "&=\\frac{1}{2}\\mathrm{Re}\\left[\\frac{E_0^2}{Z_0Z_r^*} e^{i\\left(k_0N\\hat{k}\\cdot\\vec{r} - \\omega t\\right)}e^{-i\\left(k_0N^*\\hat{k}\\cdot\\vec{r} - \\omega t\\right)} \\hat{k}\\right] \\\\\n",
    "&=\\frac{1}{2}\\mathrm{Re}\\left[\\frac{E_0^2}{Z_0Z_r^*}  \\hat{k}\\right]e^{-2k_0\\kappa\\left(\\hat{k}\\cdot\\vec{r}\\right)} \\\\\n",
    "&=\\mathrm{Re}\\left[N^*\\hat{k}\\right]\\frac{E_0^2}{2Z_0}e^{-\\alpha\\left(\\hat{k}\\cdot\\vec{r}\\right)}\n",
    "\\end{align*}"
   ]
  },
  {
   "cell_type": "markdown",
   "id": "b6831a2a",
   "metadata": {
    "cell_style": "center",
    "slideshow": {
     "slide_type": "fragment"
    }
   },
   "source": [
    "El término $\\alpha = \\frac{4\\pi\\kappa}{\\lambda}$ es el **coeficiente de absorpción**. El inverso, $\\delta = 1/\\alpha$, se denomina **profundidad superficial** y representa la profundidad de penetración de la onda electromagnética en un material. "
   ]
  },
  {
   "cell_type": "markdown",
   "id": "e5bfcbf3",
   "metadata": {
    "slideshow": {
     "slide_type": "slide"
    }
   },
   "source": [
    "Como referencia, $\\delta\\sim 1000$ m en fibras ópticas a $\\lambda = 1.55$ $\\mu$m, que es la longitud de onda utilizada en comunicación óptica. Por otro lado, en metales como la plata, oro o aluminio, $\\delta\\sim 10$ nm para $\\lambda \\sim 500$ nm (espectro de luz visible)"
   ]
  },
  {
   "cell_type": "markdown",
   "id": "de2f10ea",
   "metadata": {
    "slideshow": {
     "slide_type": "slide"
    }
   },
   "source": [
    "### Condiciones de borde"
   ]
  },
  {
   "cell_type": "markdown",
   "id": "f7b45112",
   "metadata": {
    "slideshow": {
     "slide_type": "fragment"
    }
   },
   "source": [
    "Hasta ahora hemos revisado las ecuaciones de Maxwell en un medio homogeneo, y como estas dan lugar a la solución en forma de ondas electromagnéticas.\n",
    "\n",
    "> Recordemos que para un medio con índice de refracción $N$, la solución general es:\n",
    ">\n",
    ">\\begin{align*}\n",
    "\\vec{E} &= E_0 e^{i\\left(Nk_0\\hat{k}\\cdot\\vec{r} - \\omega t\\right)} \\hat{e} \\\\\n",
    "\\vec{H} &= \\frac{NE_0}{Z_0} e^{i\\left(Nk_0\\hat{k}\\cdot\\vec{r} - \\omega t\\right)} \\hat{k}\\times\\hat{e}\n",
    "\\end{align*}"
   ]
  },
  {
   "cell_type": "markdown",
   "id": "22a61931",
   "metadata": {
    "slideshow": {
     "slide_type": "slide"
    }
   },
   "source": [
    "**¿Que sucede cuando una onda electromagnética encuentra la frontera entre dos medios distintos?**"
   ]
  },
  {
   "cell_type": "markdown",
   "id": "d557ddef",
   "metadata": {
    "slideshow": {
     "slide_type": "fragment"
    }
   },
   "source": [
    "Como toda ecuación diferencial, la solución particular de las ecuaciones de Maxwell está definida por las condiciones de borde. Estas condiciones de borde surgen al aplicar las ecuaciones de Maxwell en una frontera (cuya derivación no revisaremos aqui). En general son 4 condiciones de borde. Sin embargo, para los problemas que veremos en este curso solo se necesitan dos:\n",
    "\n",
    "\\begin{align}\n",
    "E^{\\parallel}_1 - E^{\\parallel}_2 &= 0 \\\\\n",
    "H^{\\parallel}_1 - H^{\\parallel}_2 &= 0\n",
    "\\end{align}\n",
    "\n",
    "donde $1$ y $2$ son dos medios distintos, y el símbolo $\\parallel$ representa la componente paralela a la interface entre los medios $1$ y $2$"
   ]
  },
  {
   "cell_type": "markdown",
   "id": "ed38561f",
   "metadata": {
    "slideshow": {
     "slide_type": "fragment"
    }
   },
   "source": [
    ">**En la interface entre dos medios $1$ y $2$ las componentes de $\\vec{E}$ y $\\vec{H}$ paralelas a la interface, se conservan.**"
   ]
  },
  {
   "cell_type": "markdown",
   "id": "c7339c10",
   "metadata": {
    "slideshow": {
     "slide_type": "slide"
    }
   },
   "source": [
    "## Reflexión y transmisión de ondas electromagnéticas en una interface"
   ]
  },
  {
   "cell_type": "markdown",
   "id": "29746567",
   "metadata": {
    "slideshow": {
     "slide_type": "slide"
    }
   },
   "source": [
    "### Coeficientes de Fresnel"
   ]
  },
  {
   "cell_type": "markdown",
   "id": "b162d332",
   "metadata": {
    "cell_style": "split"
   },
   "source": [
    "Consideremos el fenómeno de reflección y transmissión de una onda electromagnetética en dirección $\\hat{k}_i$ que incide sobre la interface entre dos medios 1 y 2, con índices de refracción reales $n_1$ y $n_2$, respectivamente\n",
    "\n",
    "Definimos como $\\hat{n}$ al vector normal al plano de interface entre los dos medios, y como **plano de incidencia,** al plano formado por los vectores $\\hat{k}_i$ y $\\hat{n}$.\n",
    "\n",
    "La dirección de la onda reflejada y transmitida está definida por los vectores $\\hat{k}_r$ y $\\hat{k}_t$, respectivamente."
   ]
  },
  {
   "cell_type": "markdown",
   "id": "e9ca295b",
   "metadata": {
    "cell_style": "split"
   },
   "source": [
    "<img src=\"./images/plano_incidencia.png\" width=\"350px\" align= center>"
   ]
  },
  {
   "cell_type": "markdown",
   "id": "6860f66d",
   "metadata": {
    "slideshow": {
     "slide_type": "slide"
    }
   },
   "source": [
    "A partir de la dirección de $\\vec{E}$ y $\\vec{H}$ respecto al plano de incidencia, podemos distunguir dos polarizaciones:\n",
    "\n",
    "- Si **$\\vec{H}$ oscila en dirección perpendicular al plano de incidencia**, hablamos de una **polarización transversal magnética o TM**.\n",
    "\n",
    "- Si **$\\vec{E}$ oscila en dirección perpendicular al plano de incidencia**, hablamos de una **polarización transversal eléctrica o TE**."
   ]
  },
  {
   "cell_type": "markdown",
   "id": "f14a4173",
   "metadata": {
    "cell_style": "split",
    "slideshow": {
     "slide_type": "slide"
    }
   },
   "source": [
    "Como ejemplo, consideremos una **onda transversal magnética (TM)**\n",
    "\n",
    "<img src=\"./images/em_reflection.png\" width=\"350px\" align= center>\n",
    "\n",
    "La figura muestra la reflexión y transmisión de la onda visto desde el plano de incidencia"
   ]
  },
  {
   "cell_type": "markdown",
   "id": "780de9d4",
   "metadata": {
    "cell_style": "split",
    "slideshow": {
     "slide_type": "fragment"
    }
   },
   "source": [
    "A través de las ecuaciones de Maxwell, podemos establecer la solución general para cada onda electromagnética:\n",
    "\n",
    "\\begin{align*}\n",
    "\\vec{E}_i &= E_i e^{ i\\left(k_0n_1\\hat{k}_i\\cdot\\vec{r} - \\omega t\\right)} \\hat{e}_i\\quad\\quad \\mathrm{onda~incidente}\n",
    " \\\\\n",
    "\\vec{E}_r &= E_r e^{ i\\left(k_0n_1\\hat{k}_r\\cdot\\vec{r} - \\omega t\\right)} \\hat{e}_r\\quad\\quad \\mathrm{onda~reflejada}\n",
    "\\\\\n",
    "\\vec{E}_t &= E_t e^{ i\\left(k_0n_2\\hat{k}_t\\cdot\\vec{r} - \\omega t\\right)} \\hat{e}_t\\quad\\quad \n",
    "\\mathrm{onda~transmitida}\n",
    "\\end{align*}\n",
    "\n",
    "donde:\n",
    "\n",
    "\\begin{eqnarray*}\n",
    "\\hat{k}_i &=& \\hat{x}\\sin\\theta_i + \\hat{z}\\cos\\theta_i \n",
    "&\\quad\\mathrm{y}\\quad& \n",
    "\\hat{e}_i &=& \\hat{x}\\cos\\theta_i - \\hat{z}\\sin\\theta_i\n",
    "\\\\\n",
    "\\hat{k}_r &=& \\hat{x}\\sin\\theta_r - \\hat{z}\\cos\\theta_r\n",
    "&\\quad\\mathrm{y}\\quad& \n",
    "\\hat{e}_r &=& \\hat{x}\\cos\\theta_r + \\hat{z}\\sin\\theta_r\n",
    "\\\\\n",
    "\\hat{k}_t &=& \\hat{x}\\sin\\theta_t + \\hat{z}\\cos\\theta_t\n",
    "&\\quad\\mathrm{y}\\quad& \n",
    "\\hat{e}_t &=& \\hat{x}\\cos\\theta_t - \\hat{z}\\sin\\theta_t\n",
    "\\end{eqnarray*}"
   ]
  },
  {
   "cell_type": "markdown",
   "id": "4476682a",
   "metadata": {
    "cell_style": "split",
    "slideshow": {
     "slide_type": "slide"
    }
   },
   "source": [
    "Reemplazando en las soluciones generales,\n",
    "\n",
    "\\begin{eqnarray*}\n",
    "\\vec{E}_i &=& E_i e^{ ik_0n_1\\left(z\\cos\\theta_i + x\\sin\\theta_i\\right)}e^{-i\\omega t} \\left(\\hat{x}\\cos\\theta_i -\\hat{z}\\sin\\theta_i\\right)\\quad\\quad &&\\mathrm{onda~incidente}\n",
    " \\\\\n",
    "\\vec{E}_r &=& E_r e^{ ik_0n_1\\left(-z\\cos\\theta_r + x\\sin\\theta_r\\right)}e^{-i\\omega t} \\left(\\hat{x}\\cos\\theta_r +\\hat{z}\\sin\\theta_r\\right)\\quad\\quad &&\\mathrm{onda~reflejada}\n",
    "\\\\\n",
    "\\vec{E}_t &=& E_t e^{ ik_0n_2\\left(z\\cos\\theta_t + x\\sin\\theta_t\\right)}e^{-i\\omega t} \\left(\\hat{x}\\cos\\theta_t -\\hat{z}\\sin\\theta_t\\right)\\quad\\quad \n",
    "&&\\mathrm{onda~transmitida}\n",
    "\\end{eqnarray*}"
   ]
  },
  {
   "cell_type": "markdown",
   "id": "fe89145b",
   "metadata": {
    "slideshow": {
     "slide_type": "fragment"
    }
   },
   "source": [
    "De igual forma, a partir de la relación $\\vec{H} = \\frac{E}{Z_0Z_r}\\left(\\hat{k}\\times\\hat{e}\\right)$,\n",
    "\n",
    "\\begin{eqnarray*}\n",
    "\\vec{H}_i &=& \\frac{n_1E_i}{Z_0}e^{ ik_0n_1\\left(z\\cos\\theta_i + x\\sin\\theta_i\\right)}e^{-i\\omega t}\\left(\\hat{y}\\right)\\quad\\quad &&\\mathrm{onda~incidente}\n",
    " \\\\\n",
    "\\vec{H}_r &=& \\frac{n_1E_r}{Z_0} e^{ ik_0n_1\\left(-z\\cos\\theta_r + x\\sin\\theta_r\\right)}e^{-i\\omega t} \\left(-\\hat{y}\\right)\\quad\\quad &&\\mathrm{onda~reflejada}\n",
    "\\\\\n",
    "\\vec{H}_t &=& \\frac{n_2E_t}{Z_0} e^{ ik_0n_2\\left(z\\cos\\theta_t + x\\sin\\theta_t\\right)}e^{-i\\omega t} \\left(\\hat{y}\\right)\\quad\\quad \n",
    "&&\\mathrm{onda~transmitida}\n",
    "\\end{eqnarray*}"
   ]
  },
  {
   "cell_type": "markdown",
   "id": "dc334364",
   "metadata": {
    "slideshow": {
     "slide_type": "slide"
    }
   },
   "source": [
    "A partir de la condición de borde en la interface $z =0$:\n",
    "\n",
    "$$E^{\\parallel}_1|_{z=0} - E^{\\parallel}_2|_{z=0} = 0$$"
   ]
  },
  {
   "cell_type": "markdown",
   "id": "3b3ade24",
   "metadata": {
    "slideshow": {
     "slide_type": "fragment"
    }
   },
   "source": [
    "Tenemos:\n",
    "\n",
    "\\begin{equation*}\n",
    "E_i\\cos\\theta_i e^{ ik_0n_1x\\sin\\theta_i}+E_r\\cos\\theta_r e^{ ik_0n_1x\\sin\\theta_r} - E_t\\cos\\theta_t e^{ ik_0n_1x\\sin\\theta_t} = 0\n",
    "\\end{equation*}"
   ]
  },
  {
   "cell_type": "markdown",
   "id": "06d82130",
   "metadata": {
    "slideshow": {
     "slide_type": "fragment"
    }
   },
   "source": [
    "Dado que esta ecuación se debe satisfacer para cualquier punto $x$, los exponentes debe ser iguales:\n",
    "\n",
    "\\begin{equation*}\n",
    "n_1\\sin\\theta_i = n_1\\sin\\theta_r = n_2\\sin\\theta_t\n",
    "\\end{equation*}"
   ]
  },
  {
   "cell_type": "markdown",
   "id": "d24178a8",
   "metadata": {
    "slideshow": {
     "slide_type": "fragment"
    }
   },
   "source": [
    "Esto nos lleva a las leyes de Snell, para reflexión y transmisión:\n",
    "\n",
    "\\begin{equation*}\n",
    "\\theta_i = \\theta_r\\quad\\quad\\mathrm{y}\\quad\\quad n_1\\sin\\theta_i = n_2\\sin\\theta_t\n",
    "\\end{equation*}"
   ]
  },
  {
   "cell_type": "markdown",
   "id": "ebaf7f99",
   "metadata": {
    "slideshow": {
     "slide_type": "slide"
    }
   },
   "source": [
    "Finalmente, la condición de borde del campo eléctrico queda:\n",
    "\n",
    "\\begin{equation}\\label{eq:boundaryE}\n",
    "E_i\\cos\\theta_i +E_r\\cos\\theta_r  - E_t\\cos\\theta_t = 0\n",
    "\\end{equation}"
   ]
  },
  {
   "cell_type": "markdown",
   "id": "7ee20184",
   "metadata": {
    "slideshow": {
     "slide_type": "fragment"
    }
   },
   "source": [
    "De igual forma, de la condición de borde $H^{\\parallel}_1 - H^{\\parallel}_2 = 0$, deducimos:\n",
    "\n",
    "\\begin{equation}\n",
    "n_1E_i - n_1E_r  - n_2E_t = 0 \\label{eq:boundaryH}\n",
    "\\end{equation}"
   ]
  },
  {
   "cell_type": "markdown",
   "id": "b988e005",
   "metadata": {
    "slideshow": {
     "slide_type": "slide"
    }
   },
   "source": [
    "A partir de estas dos ecuaciones, determinamos los coeficientes de Fresnel de reflexión ($r_\\mathrm{TM}$) y transmisión ($t_\\mathrm{TM}$) para una onda TM:\n",
    "\n",
    "\\begin{align}\n",
    "r_\\mathrm{TM} &= \\frac{E_r^\\mathrm{TM}}{E_i^\\mathrm{TM}} = \\frac{n_1\\cos\\theta_t-n_2\\cos\\theta_i}\n",
    "{n_1\\cos\\theta_t+n_2\\cos\\theta_i}\n",
    "\\\\[10pt]\n",
    "t_\\mathrm{TM} &= \\frac{E_t^\\mathrm{TM}}{E_i^\\mathrm{TM}} =\\frac{2n_1\\cos\\theta_t}\n",
    "{n_1\\cos\\theta_t+n_2\\cos\\theta_i}\n",
    "\\end{align}"
   ]
  },
  {
   "cell_type": "markdown",
   "id": "6b9df308",
   "metadata": {
    "slideshow": {
     "slide_type": "fragment"
    }
   },
   "source": [
    "Similarmente, para una onda transversal eléctrica (TE), los coeficientes de Fresnel son:\n",
    "\n",
    "\\begin{align}\n",
    "r_\\mathrm{TE} &= \\frac{E_r^\\mathrm{TE}}{E_i^\\mathrm{TE}} = \\frac{n_1\\cos\\theta_i -n_2\\cos\\theta_t}\n",
    "{n_1\\cos\\theta_i+n_2\\cos\\theta_t}\n",
    "\\\\[10pt]\n",
    "t_\\mathrm{TE} &= \\frac{E_t^\\mathrm{TE}}{E_i^\\mathrm{TE}} = \\frac{2n_1\\cos\\theta_i}\n",
    "{n_1\\cos\\theta_i+n_2\\cos\\theta_t}\n",
    "\\end{align}"
   ]
  },
  {
   "cell_type": "markdown",
   "id": "0f85e108",
   "metadata": {
    "slideshow": {
     "slide_type": "slide"
    }
   },
   "source": [
    ">Las relaciones para los coeficientes de Fresnel se mantienen para índices de refracción complejos. En este caso, solo debemos reemplazar $n_1$ por $N_1$, y $n_2$ por $N_2$"
   ]
  },
  {
   "cell_type": "markdown",
   "id": "6e1bbe42",
   "metadata": {
    "cell_style": "center",
    "slideshow": {
     "slide_type": "slide"
    }
   },
   "source": [
    "### Reflectividad y transmisividad"
   ]
  },
  {
   "cell_type": "markdown",
   "id": "3502a921",
   "metadata": {
    "cell_style": "center"
   },
   "source": [
    "Los coeficientes de Fresnel permiten determinar la magnitud del campo eléctrico (y magnético) reflejado y transmitido por una interface. Para determinar el flujo de energía a través de la interface, utilizamos el vector de Poynting. En el caso de la onda $\\mathrm{TM}$, y considerando indices de refracción complejos en los medios 1 y 2:\n",
    "\n",
    "\\begin{eqnarray*}\n",
    "\\biggl\\langle{\\vec{S}_i^\\mathrm{TM}}\\biggl\\rangle &=& \\frac{1}{2}\\mathrm{Re}\\left[\\vec{E}_i\\times\\vec{H}_i^*\\right] &=& \\mathrm{Re}\\left[N_1^* \\hat{k}_i\\right]\\frac{{\\left(E_i^\\mathrm{TM}\\right)}^2}{2Z_0}\n",
    "\\\\\n",
    "\\biggl\\langle{\\vec{S}_r^\\mathrm{TM}}\\biggl\\rangle &=& \\frac{1}{2}\\mathrm{Re}\\left[\\vec{E}_r\\times\\vec{H}_r^*\\right] &=& \\mathrm{Re}\\left[N_1^* \\hat{k}_r\\right]\\frac{{\\left(E_r^\\mathrm{TM}\\right)}^2}{2Z_0}\n",
    "\\\\\n",
    "\\biggl\\langle{\\vec{S}_t^\\mathrm{TM}}\\biggl\\rangle &=& \\frac{1}{2}\\mathrm{Re}\\left[\\vec{E}_t\\times\\vec{H}_t^*\\right] &=& \\mathrm{Re}\\left[N_2^* \\hat{k}_t\\right]\\frac{{\\left(E_t^\\mathrm{TM}\\right)}^2}{2Z_0}\n",
    "\\end{eqnarray*}"
   ]
  },
  {
   "cell_type": "markdown",
   "id": "ccd07a27",
   "metadata": {
    "cell_style": "center",
    "slideshow": {
     "slide_type": "slide"
    }
   },
   "source": [
    "La **reflectividad ($R$)** y **transmissivitdad ($T$)** se definen, repectivamente, como **el flujo de energía reflejada y transmitida relativa al flujo de energía incidente, y en dirección normal a la interface.** "
   ]
  },
  {
   "cell_type": "markdown",
   "id": "5d579128",
   "metadata": {
    "cell_style": "split",
    "slideshow": {
     "slide_type": "fragment"
    }
   },
   "source": [
    "Así, considerando la componente del vector de Poynting normal a $\\hat{n}$ (notar que $\\hat{n} = - \\hat{z}$ en nuestro ejemplo), tenemos:\n",
    "\n",
    "\\begin{eqnarray}\n",
    "R_\\mathrm{TM} &=& \\frac{S_{r,z}^\\mathrm{TM}}{S_{i,z}^\\mathrm{TM}} &=& \\lvert r_\\mathrm{TM}\\rvert^2\n",
    "\\\\[10pt]\n",
    "T_\\mathrm{TM} &=& \\frac{S_{t,z}^\\mathrm{TM}}{S_{i,z}^\\mathrm{TM}} &=& \\frac{\\mathrm{Re}\\left(N_2^*\\cos\\theta_t\\right)}{\\mathrm{Re}\\left(N_1^*\\cos\\theta_i\\right)}\\lvert t_\\mathrm{TM}\\rvert^2\n",
    "\\end{eqnarray}"
   ]
  },
  {
   "cell_type": "markdown",
   "id": "2f057d84",
   "metadata": {
    "cell_style": "split",
    "slideshow": {
     "slide_type": "fragment"
    }
   },
   "source": [
    "De igual forma, para una onda TE, tenemos\n",
    "\n",
    "\\begin{eqnarray}\n",
    "R_\\mathrm{TE} &=& \\lvert r_\\mathrm{TE}\\rvert^2\n",
    "\\\\[10pt]\n",
    "T_\\mathrm{TE} &=& \\frac{\\mathrm{Re}\\left(N_2\\cos\\theta_t\\right)}{\\mathrm{Re}\\left(N_1\\cos\\theta_i\\right)}\\lvert t_\\mathrm{TE}\\rvert^2\n",
    "\\end{eqnarray}"
   ]
  },
  {
   "cell_type": "markdown",
   "id": "27f6fc55",
   "metadata": {
    "slideshow": {
     "slide_type": "fragment"
    }
   },
   "source": [
    "Notar que por conservación de energía:\n",
    "\\begin{equation}\n",
    "R + T = 1\n",
    "\\end{equation}"
   ]
  },
  {
   "cell_type": "markdown",
   "id": "187bf3c4",
   "metadata": {
    "slideshow": {
     "slide_type": "slide"
    }
   },
   "source": [
    "### Casos particulares"
   ]
  },
  {
   "cell_type": "markdown",
   "id": "071f50fa",
   "metadata": {
    "cell_style": "center",
    "slideshow": {
     "slide_type": "-"
    }
   },
   "source": [
    "Asumiendo dos medios 1 y 2, con índice de refracción real, analicemos la reflectancia en función del ángulo de incidencia:\n",
    "- caso 1, $n_1 < n_2$\n",
    "- caso 1, $n_1 > n_2$"
   ]
  },
  {
   "cell_type": "code",
   "execution_count": 1,
   "id": "8d7bed6f",
   "metadata": {
    "cell_style": "split",
    "slideshow": {
     "slide_type": "slide"
    }
   },
   "outputs": [],
   "source": [
    "import numpy as np\n",
    "from numpy import radians as rad # convertimos grados a radianes\n",
    "import matplotlib.pyplot as plt\n",
    "from empylib.waveoptics import interface\n",
    "\n",
    "theta = np.linspace(0,90,100) # Ángulo de incidencia\n",
    "\n",
    "# Reflectividad en una interface\n",
    "Rp = lambda n1,n2 : interface(rad(theta),n1,n2,pol='TM')[0] # TM\n",
    "Rs = lambda n1,n2 : interface(rad(theta),n1,n2,pol='TE')[0] # TE\n",
    "\n",
    "# preparamos el ploteo\n",
    "def plot_R_interface(n1,n2):\n",
    "    fig, ax = plt.subplots()\n",
    "    fig.set_size_inches(9, 6)\n",
    "    plt.rcParams['font.size'] = '18'\n",
    "    ax.plot(theta,Rp(n1,n2), label='$R_\\mathrm{TM}$', color='red')\n",
    "    ax.plot(theta,Rs(n1,n2), label='$R_\\mathrm{TE}$',color='blue')\n",
    "    ax.set_xlim([0,90])\n",
    "    ax.set_ylim([0,1.0])\n",
    "    ax.set_xlabel('Ángulo de incidencia (°)')\n",
    "    ax.set_ylabel('Reflectividad')\n",
    "    ax.legend(frameon=False)"
   ]
  },
  {
   "cell_type": "code",
   "execution_count": 2,
   "id": "42d89872",
   "metadata": {
    "cell_style": "split",
    "scrolled": false
   },
   "outputs": [
    {
     "data": {
      "application/vnd.jupyter.widget-view+json": {
       "model_id": "8a636df47b6e4de780211d431ce55e20",
       "version_major": 2,
       "version_minor": 0
      },
      "text/plain": [
       "interactive(children=(FloatSlider(value=1.0, description='n1', max=5.0, min=1.0), FloatSlider(value=1.5, descr…"
      ]
     },
     "metadata": {},
     "output_type": "display_data"
    }
   ],
   "source": [
    "from ipywidgets import interact\n",
    "\n",
    "@interact( n1=(1,5, 0.1), n2=(1,5, 0.1))\n",
    "def g(n1=1.0, n2=1.5):\n",
    "    return plot_R_interface(n1,n2)"
   ]
  },
  {
   "cell_type": "markdown",
   "id": "63a4161a",
   "metadata": {
    "cell_style": "center",
    "slideshow": {
     "slide_type": "slide"
    }
   },
   "source": [
    "Cuando $n_1 < n_2$ vemos que $R_\\mathrm{TM} = 0$ en un cierto ángulo. Este ángulo se denomina **ángulo de Brewster.** En este ángulo solo la componente TE es reflejada. "
   ]
  },
  {
   "cell_type": "markdown",
   "id": "b5158912",
   "metadata": {
    "cell_style": "split",
    "slideshow": {
     "slide_type": "fragment"
    }
   },
   "source": [
    "Los lentes polarizados toman ventaja del ángulo de Brewster. Estos lentes están diseñados para bloquear las ondas TE, y de esta forma reducir el brillo enceguecedor generado por la reflección de la luz solar"
   ]
  },
  {
   "cell_type": "markdown",
   "id": "2edd4f05",
   "metadata": {
    "cell_style": "split",
    "slideshow": {
     "slide_type": "-"
    }
   },
   "source": [
    "<img src=\"./images/polarized_glasses.jpg\" width=\"350px\" align= center>"
   ]
  },
  {
   "cell_type": "markdown",
   "id": "8884b02f",
   "metadata": {
    "slideshow": {
     "slide_type": "fragment"
    }
   },
   "source": [
    "Así, si giramos los lentes en posición vertical (asumiento lentes con alto nivel de polarización), el efecto se invierte. Es decir, las ondas TE se transmiten y las TM no."
   ]
  },
  {
   "cell_type": "markdown",
   "id": "facd7e0b",
   "metadata": {
    "slideshow": {
     "slide_type": "slide"
    }
   },
   "source": [
    "Por otro lado, cuando $n_1 > n_2$, vemos que $R_\\mathrm{TM} = R_\\mathrm{TE} = 0$ sobre cierto ángulo. Este ángulo se denomina **ángulo crítico ($\\theta_c$).** Para deterinar el ángulo crítico usamos la ley de Snell."
   ]
  },
  {
   "cell_type": "markdown",
   "id": "65963ef2",
   "metadata": {
    "cell_style": "split"
   },
   "source": [
    "El ángulo máximo para la onda transmitida es $\\theta_t = 90^o$, la ley de Snell nos indica que existe un ángulo crítico. Sobre este valor, no existe solución real.\n",
    "\n",
    "\\begin{equation}\n",
    "n_1\\sin\\theta_c = n_2\\sin90^o \\Rightarrow \\theta_c = \\arcsin\\left(n_2/n_1\\right)\n",
    "\\end{equation}\n",
    "\n",
    "**Para $\\theta_i > \\theta_c$, $R_\\mathrm{TE} = R_\\mathrm{TM} = 1$.**"
   ]
  },
  {
   "cell_type": "markdown",
   "id": "34422d42",
   "metadata": {
    "cell_style": "split"
   },
   "source": [
    "Este mecanismo se llama **reflección interna total** y es la base para el funcionamiento de fibras ópticas y lasers\n",
    "<img src=\"./images/optical_fiber.png\" width=\"450px\" align= center>"
   ]
  },
  {
   "cell_type": "markdown",
   "id": "5536a48a",
   "metadata": {
    "slideshow": {
     "slide_type": "slide"
    }
   },
   "source": [
    "## Reflección y transmissión en películas delgadas\n",
    "En el caso materiales de película delgada, las ondas electromagnéticas se reflejan y transmiten múltiples veces.\n",
    "\n",
    "<img src=\"./images/reflectance_thinfilm.png\" width=\"600px\" align= center>"
   ]
  },
  {
   "cell_type": "markdown",
   "id": "6937e4c8",
   "metadata": {
    "slideshow": {
     "slide_type": "slide"
    }
   },
   "source": [
    "Considerando los medios 1,2 y 3 ordenados consecutivamente en dirección de la onda incidente, con el medio 2 condicionado por un espesor $d$, se puede demostrar que en este caso los coeficientes de Fresnel, para indices de refracción reales son:\n",
    "\n",
    "\\begin{align}\n",
    "r &= \\frac{r_{12}+r_{23}e^{2i\\varphi_2}}\n",
    "          {1+r_{12}r_{23}e^{2i\\varphi_2}}\n",
    "\\\\[10pt]\n",
    "t &= \\frac{t_{12}t_{23}e^{i\\varphi_2}}\n",
    "          {1+r_{12}r_{23}e^{2i\\varphi_2}}\n",
    "\\end{align}\n",
    "\n",
    "donde $\\varphi_2 = N_2k_0d\\cos\\theta_2$ ($\\theta_2$ es el ángulo de transmisión en el medio 2); $r_{12}$, $r_{23}$ y $t_{12}$, $t_{23}$ son, respectivamente, los coeficientes de Fresnel desde el medio 1 al medio 2, y desde el medio 2 al medio 3. Estas fórmulas son válidas tanto para ondas TE como para ondas TM."
   ]
  },
  {
   "cell_type": "markdown",
   "id": "5735fd3a",
   "metadata": {
    "slideshow": {
     "slide_type": "fragment"
    }
   },
   "source": [
    "Basado en estas expresiones, podemos calcular la reflectividad y tranmissividad de la película:\n",
    "\n",
    "\\begin{align}\n",
    "R = {\\lvert r\\rvert}^2 &= \\frac{r_{12}^2+r_{23}^2+2r_{12}r_{23}\\cos 2\\varphi_2}\n",
    "                              {1 + 2r_{12}r_{23}\\cos 2\\varphi_2 + r_{12}^2r_{23}^2}\n",
    "\\\\[10pt]\n",
    "T = \\frac{n_3\\cos\\theta_t}{n_1\\cos\\theta_i}{\\lvert t\\rvert}^2 &= \n",
    "\\frac{\\left(1 - r_{12}^2\\right)\\left(1 - r_{23}^2\\right)}\n",
    "     {1 + 2r_{12}r_{23}\\cos 2\\varphi_2 + r_{12}^2r_{23}^2}\n",
    "\\end{align}"
   ]
  },
  {
   "cell_type": "markdown",
   "id": "9e4bca52",
   "metadata": {
    "slideshow": {
     "slide_type": "slide"
    }
   },
   "source": [
    "Analicemos como se comportan estas ecuaciones en un caso real. \n",
    "\n",
    "Como ejemplo, consideremos la reflectividad de una película delgada de sílice (SiO$_2$) sobre un sustrato de silicio. Esta capa se genera naturalmente debido a la oxidación del silicio\n",
    "\n",
    "<img src=\"./images/sio2_coating.png\" width=\"600px\" align= center>\n",
    "\n",
    "Para simplificar, consideremos:\n",
    "- índice de refracción del aire: 1.0\n",
    "- índice de refracción de sílice: 1.5\n",
    "- índice de refracción del silicio: 4.3\n",
    "- espectro de longitudes de onda: 300 - 800 nm (visible)\n",
    "- espesor del sílice, $d$: variable\n",
    "- ángulo de incidencia $\\theta_i$: variable"
   ]
  },
  {
   "cell_type": "code",
   "execution_count": 3,
   "id": "e4453a7a",
   "metadata": {
    "cell_style": "split",
    "slideshow": {
     "slide_type": "slide"
    }
   },
   "outputs": [],
   "source": [
    "import numpy as np\n",
    "from numpy import radians as rad # convertimos grados a radianes\n",
    "import matplotlib.pyplot as plt\n",
    "from empylib.waveoptics import multilayer\n",
    "\n",
    "# Reflectividad en capa delgada\n",
    "lam = np.linspace(0.3,0.8,100)          # longitud de onda (en um)\n",
    "n_layers = (1.0,1.5,4.3)         # índices de refracción n1, n2, n3\n",
    "Rp = lambda tt,d : multilayer(lam, rad(tt),n_layers, (d,), 'TM')[0]\n",
    "Rs = lambda tt,d : multilayer(lam, rad(tt),n_layers, (d,), 'TE')[0]\n",
    "\n",
    "# preparamos el ploteo\n",
    "def plot_R_multi(theta,d):\n",
    "    fig, ax = plt.subplots()\n",
    "    fig.set_size_inches(9, 6)\n",
    "    plt.rcParams['font.size'] = '16'\n",
    "    ax.plot(lam,Rp(theta,d), label='$R_\\mathrm{TM}$', color='red')\n",
    "    ax.plot(lam,Rs(theta,d), label='$R_\\mathrm{TE}$',color='blue')\n",
    "    ax.set_xlim([min(lam),max(lam)])\n",
    "    ax.set_ylim([0,1.0])\n",
    "    ax.set_xlabel('Longitud de onda ($\\mu$m)')\n",
    "    ax.set_ylabel('Reflectividad')\n",
    "    ax.legend(frameon=False)"
   ]
  },
  {
   "cell_type": "code",
   "execution_count": 4,
   "id": "97271595",
   "metadata": {
    "cell_style": "split"
   },
   "outputs": [
    {
     "data": {
      "application/vnd.jupyter.widget-view+json": {
       "model_id": "197230918cee478f8b99313df6d15784",
       "version_major": 2,
       "version_minor": 0
      },
      "text/plain": [
       "interactive(children=(IntSlider(value=30, description='theta', max=89, step=10), FloatSlider(value=0.3, descri…"
      ]
     },
     "metadata": {},
     "output_type": "display_data"
    }
   ],
   "source": [
    "from ipywidgets import interact\n",
    "\n",
    "@interact(theta=(0,89,10), d=(0,1.0,0.01))\n",
    "def g(theta=30, d=0.3):\n",
    "    return plot_R_multi(theta,d)"
   ]
  },
  {
   "cell_type": "markdown",
   "id": "43438f9c",
   "metadata": {
    "cell_style": "split",
    "slideshow": {
     "slide_type": "slide"
    }
   },
   "source": [
    "Esta oscilaciones en la reflectancia al variar $\\theta_i$ y $d$ son el resultado de la interferencia entre las ondas reflejadas en la parte inferior y superior de la película de silicio.\n",
    "\n",
    "<img src=\"./images/interference.png\" width=\"350px\" align= center>"
   ]
  },
  {
   "cell_type": "markdown",
   "id": "4037e868",
   "metadata": {
    "cell_style": "split",
    "slideshow": {
     "slide_type": "fragment"
    }
   },
   "source": [
    "En palabras simples, este fenómeno ocurre por qué la onda reflejada en la parte inferior de la película debe recorre un camino más largo. Esto produce un desface con las ondas reflejadas en la parte superior que deriva en interferencia constructiva (alta reflectividad) y destructiva (baja reflectividad)"
   ]
  },
  {
   "cell_type": "markdown",
   "id": "2af5990e",
   "metadata": {
    "slideshow": {
     "slide_type": "fragment"
    }
   },
   "source": [
    "Este fenómeno se manifiesta en forma de color ya que nuestros ojos son sensibles a los cambios de radiación en este espectro."
   ]
  },
  {
   "cell_type": "markdown",
   "id": "93e2c9e8",
   "metadata": {
    "slideshow": {
     "slide_type": "slide"
    }
   },
   "source": [
    "Analicemos como se manifiesta este fenómeno en forma de color:"
   ]
  },
  {
   "cell_type": "code",
   "execution_count": 5,
   "id": "04a79ec0",
   "metadata": {
    "cell_style": "center",
    "slideshow": {
     "slide_type": "-"
    }
   },
   "outputs": [],
   "source": [
    "import numpy as np\n",
    "from numpy import radians as rad # convertimos grados a radianes\n",
    "import matplotlib.pyplot as plt\n",
    "from empylib.waveoptics import multilayer\n",
    "from empylib.ref_spectra import AM15\n",
    "from empylib.ref_spectra import color_system as cs\n",
    "cs = cs.hdtv\n",
    "\n",
    "# Reflectividad en capa delgada\n",
    "lam = np.linspace(0.3,0.8,100)   # longitud de onda (en um)\n",
    "n_layers = (1.0,1.5,4.3)         # índices de refracción n1, n2, n3\n",
    "Rp = lambda tt,d : multilayer(lam, rad(tt),n_layers, (d,), 'TM')[0]\n",
    "Rs = lambda tt,d : multilayer(lam, rad(tt),n_layers, (d,), 'TE')[0]\n",
    "\n",
    "cs.interp_internals(lam)\n",
    "def color_R_film(d):\n",
    "    # formateamos la figura\n",
    "    fig, ax = plt.subplots()\n",
    "    fig.set_size_inches(9, 5)\n",
    "    plt.rcParams['font.size'] = '16'\n",
    "    \n",
    "    theta = np.linspace(0,90,100) # angulo de incidencia\n",
    "    for tt in theta: \n",
    "        R = 0.5*Rp(tt,d) + 0.5*Rs(tt,d)\n",
    "        Irad = R*AM15(lam)\n",
    "        html_rgb = cs.spec_to_rgb(Irad, out_fmt='html')\n",
    "        ax.axvline(tt, color=html_rgb, linewidth=6) \n",
    "    ax.set_xlim([min(theta),max(theta)])\n",
    "    ax.set_ylim([0,1.0])\n",
    "    ax.axes.yaxis.set_visible(False)\n",
    "    ax.set_xlabel('Ángulo de incidencia (deg)')"
   ]
  },
  {
   "cell_type": "code",
   "execution_count": 6,
   "id": "dd72f038",
   "metadata": {
    "cell_style": "split"
   },
   "outputs": [
    {
     "data": {
      "application/vnd.jupyter.widget-view+json": {
       "model_id": "45f0c9e53c5144ebb79dfd41a5b426bf",
       "version_major": 2,
       "version_minor": 0
      },
      "text/plain": [
       "interactive(children=(FloatSlider(value=0.28, description='d', max=1.0, step=0.001), Output()), _dom_classes=(…"
      ]
     },
     "metadata": {},
     "output_type": "display_data"
    }
   ],
   "source": [
    "from ipywidgets import interact\n",
    "\n",
    "@interact(d=(0,1.0,0.001))\n",
    "def g(d=0.28):\n",
    "    return color_R_film(d)"
   ]
  },
  {
   "cell_type": "markdown",
   "id": "17c1dc23",
   "metadata": {
    "slideshow": {
     "slide_type": "slide"
    }
   },
   "source": [
    "## Referencias\n",
    "Griffths D., *Introduction to Electrodynamics*, 4th Ed, Pearson, 2013\n",
    "- 7.3 Maxwell's Equations (7.36)\n",
    "- 9 Electromagnetic Waves (9.3 y 9.4)"
   ]
  }
 ],
 "metadata": {
  "celltoolbar": "Slideshow",
  "kernelspec": {
   "display_name": "Python 3 (ipykernel)",
   "language": "python",
   "name": "python3"
  },
  "language_info": {
   "codemirror_mode": {
    "name": "ipython",
    "version": 3
   },
   "file_extension": ".py",
   "mimetype": "text/x-python",
   "name": "python",
   "nbconvert_exporter": "python",
   "pygments_lexer": "ipython3",
   "version": "3.9.13"
  },
  "latex_envs": {
   "LaTeX_envs_menu_present": true,
   "autoclose": true,
   "autocomplete": true,
   "bibliofile": "biblio.bib",
   "cite_by": "apalike",
   "current_citInitial": 1,
   "eqLabelWithNumbers": true,
   "eqNumInitial": 1,
   "hotkeys": {
    "equation": "Ctrl-E",
    "itemize": "Ctrl-I"
   },
   "labels_anchors": false,
   "latex_user_defs": false,
   "report_style_numbering": false,
   "user_envs_cfg": false
  },
  "toc": {
   "base_numbering": 1,
   "nav_menu": {},
   "number_sections": true,
   "sideBar": true,
   "skip_h1_title": true,
   "title_cell": "Tabla de contenidos",
   "title_sidebar": "Contenidos",
   "toc_cell": false,
   "toc_position": {
    "height": "calc(100% - 180px)",
    "left": "10px",
    "top": "150px",
    "width": "307.2px"
   },
   "toc_section_display": true,
   "toc_window_display": false
  },
  "varInspector": {
   "cols": {
    "lenName": 16,
    "lenType": 16,
    "lenVar": 40
   },
   "kernels_config": {
    "python": {
     "delete_cmd_postfix": "",
     "delete_cmd_prefix": "del ",
     "library": "var_list.py",
     "varRefreshCmd": "print(var_dic_list())"
    },
    "r": {
     "delete_cmd_postfix": ") ",
     "delete_cmd_prefix": "rm(",
     "library": "var_list.r",
     "varRefreshCmd": "cat(var_dic_list()) "
    }
   },
   "types_to_exclude": [
    "module",
    "function",
    "builtin_function_or_method",
    "instance",
    "_Feature"
   ],
   "window_display": false
  },
  "widgets": {
   "application/vnd.jupyter.widget-state+json": {
    "state": {
     "0828dab148024ce08e61272a6c0bbed7": {
      "model_module": "@jupyter-widgets/base",
      "model_module_version": "1.2.0",
      "model_name": "LayoutModel",
      "state": {
       "_model_module": "@jupyter-widgets/base",
       "_model_module_version": "1.2.0",
       "_model_name": "LayoutModel",
       "_view_count": null,
       "_view_module": "@jupyter-widgets/base",
       "_view_module_version": "1.2.0",
       "_view_name": "LayoutView",
       "align_content": null,
       "align_items": null,
       "align_self": null,
       "border": null,
       "bottom": null,
       "display": null,
       "flex": null,
       "flex_flow": null,
       "grid_area": null,
       "grid_auto_columns": null,
       "grid_auto_flow": null,
       "grid_auto_rows": null,
       "grid_column": null,
       "grid_gap": null,
       "grid_row": null,
       "grid_template_areas": null,
       "grid_template_columns": null,
       "grid_template_rows": null,
       "height": null,
       "justify_content": null,
       "justify_items": null,
       "left": null,
       "margin": null,
       "max_height": null,
       "max_width": null,
       "min_height": null,
       "min_width": null,
       "object_fit": null,
       "object_position": null,
       "order": null,
       "overflow": null,
       "overflow_x": null,
       "overflow_y": null,
       "padding": null,
       "right": null,
       "top": null,
       "visibility": null,
       "width": null
      }
     },
     "08495eae6a674916b6deffb8a0f045c1": {
      "model_module": "@jupyter-widgets/controls",
      "model_module_version": "1.5.0",
      "model_name": "SliderStyleModel",
      "state": {
       "_model_module": "@jupyter-widgets/controls",
       "_model_module_version": "1.5.0",
       "_model_name": "SliderStyleModel",
       "_view_count": null,
       "_view_module": "@jupyter-widgets/base",
       "_view_module_version": "1.2.0",
       "_view_name": "StyleView",
       "description_width": "",
       "handle_color": null
      }
     },
     "1708a3e9ad914114a6a903236c6b11cd": {
      "model_module": "@jupyter-widgets/controls",
      "model_module_version": "1.5.0",
      "model_name": "SliderStyleModel",
      "state": {
       "_model_module": "@jupyter-widgets/controls",
       "_model_module_version": "1.5.0",
       "_model_name": "SliderStyleModel",
       "_view_count": null,
       "_view_module": "@jupyter-widgets/base",
       "_view_module_version": "1.2.0",
       "_view_name": "StyleView",
       "description_width": "",
       "handle_color": null
      }
     },
     "176995f28c5d4df2b27df13a88acfa93": {
      "model_module": "@jupyter-widgets/base",
      "model_module_version": "1.2.0",
      "model_name": "LayoutModel",
      "state": {
       "_model_module": "@jupyter-widgets/base",
       "_model_module_version": "1.2.0",
       "_model_name": "LayoutModel",
       "_view_count": null,
       "_view_module": "@jupyter-widgets/base",
       "_view_module_version": "1.2.0",
       "_view_name": "LayoutView",
       "align_content": null,
       "align_items": null,
       "align_self": null,
       "border": null,
       "bottom": null,
       "display": null,
       "flex": null,
       "flex_flow": null,
       "grid_area": null,
       "grid_auto_columns": null,
       "grid_auto_flow": null,
       "grid_auto_rows": null,
       "grid_column": null,
       "grid_gap": null,
       "grid_row": null,
       "grid_template_areas": null,
       "grid_template_columns": null,
       "grid_template_rows": null,
       "height": null,
       "justify_content": null,
       "justify_items": null,
       "left": null,
       "margin": null,
       "max_height": null,
       "max_width": null,
       "min_height": null,
       "min_width": null,
       "object_fit": null,
       "object_position": null,
       "order": null,
       "overflow": null,
       "overflow_x": null,
       "overflow_y": null,
       "padding": null,
       "right": null,
       "top": null,
       "visibility": null,
       "width": null
      }
     },
     "197230918cee478f8b99313df6d15784": {
      "model_module": "@jupyter-widgets/controls",
      "model_module_version": "1.5.0",
      "model_name": "VBoxModel",
      "state": {
       "_dom_classes": [
        "widget-interact"
       ],
       "_model_module": "@jupyter-widgets/controls",
       "_model_module_version": "1.5.0",
       "_model_name": "VBoxModel",
       "_view_count": null,
       "_view_module": "@jupyter-widgets/controls",
       "_view_module_version": "1.5.0",
       "_view_name": "VBoxView",
       "box_style": "",
       "children": [
        "IPY_MODEL_e81e432981704e2eab57104979fb88b6",
        "IPY_MODEL_ca491609a75949e8a4fac02132a068b5",
        "IPY_MODEL_bfce9a21fddb48b9b1e06bf37864501e"
       ],
       "layout": "IPY_MODEL_7373ec84e1e84951941400fca6c007eb"
      }
     },
     "276805217667436f8bd52004eddda702": {
      "model_module": "@jupyter-widgets/base",
      "model_module_version": "1.2.0",
      "model_name": "LayoutModel",
      "state": {
       "_model_module": "@jupyter-widgets/base",
       "_model_module_version": "1.2.0",
       "_model_name": "LayoutModel",
       "_view_count": null,
       "_view_module": "@jupyter-widgets/base",
       "_view_module_version": "1.2.0",
       "_view_name": "LayoutView",
       "align_content": null,
       "align_items": null,
       "align_self": null,
       "border": null,
       "bottom": null,
       "display": null,
       "flex": null,
       "flex_flow": null,
       "grid_area": null,
       "grid_auto_columns": null,
       "grid_auto_flow": null,
       "grid_auto_rows": null,
       "grid_column": null,
       "grid_gap": null,
       "grid_row": null,
       "grid_template_areas": null,
       "grid_template_columns": null,
       "grid_template_rows": null,
       "height": null,
       "justify_content": null,
       "justify_items": null,
       "left": null,
       "margin": null,
       "max_height": null,
       "max_width": null,
       "min_height": null,
       "min_width": null,
       "object_fit": null,
       "object_position": null,
       "order": null,
       "overflow": null,
       "overflow_x": null,
       "overflow_y": null,
       "padding": null,
       "right": null,
       "top": null,
       "visibility": null,
       "width": null
      }
     },
     "2f88a3ff745e436596ccc33515b5cfa4": {
      "model_module": "@jupyter-widgets/base",
      "model_module_version": "1.2.0",
      "model_name": "LayoutModel",
      "state": {
       "_model_module": "@jupyter-widgets/base",
       "_model_module_version": "1.2.0",
       "_model_name": "LayoutModel",
       "_view_count": null,
       "_view_module": "@jupyter-widgets/base",
       "_view_module_version": "1.2.0",
       "_view_name": "LayoutView",
       "align_content": null,
       "align_items": null,
       "align_self": null,
       "border": null,
       "bottom": null,
       "display": null,
       "flex": null,
       "flex_flow": null,
       "grid_area": null,
       "grid_auto_columns": null,
       "grid_auto_flow": null,
       "grid_auto_rows": null,
       "grid_column": null,
       "grid_gap": null,
       "grid_row": null,
       "grid_template_areas": null,
       "grid_template_columns": null,
       "grid_template_rows": null,
       "height": null,
       "justify_content": null,
       "justify_items": null,
       "left": null,
       "margin": null,
       "max_height": null,
       "max_width": null,
       "min_height": null,
       "min_width": null,
       "object_fit": null,
       "object_position": null,
       "order": null,
       "overflow": null,
       "overflow_x": null,
       "overflow_y": null,
       "padding": null,
       "right": null,
       "top": null,
       "visibility": null,
       "width": null
      }
     },
     "45f0c9e53c5144ebb79dfd41a5b426bf": {
      "model_module": "@jupyter-widgets/controls",
      "model_module_version": "1.5.0",
      "model_name": "VBoxModel",
      "state": {
       "_dom_classes": [
        "widget-interact"
       ],
       "_model_module": "@jupyter-widgets/controls",
       "_model_module_version": "1.5.0",
       "_model_name": "VBoxModel",
       "_view_count": null,
       "_view_module": "@jupyter-widgets/controls",
       "_view_module_version": "1.5.0",
       "_view_name": "VBoxView",
       "box_style": "",
       "children": [
        "IPY_MODEL_821b70ed9a6c4be8b14e366d49044963",
        "IPY_MODEL_e2bb05d5bb6f40dcbae55c1e006dc27b"
       ],
       "layout": "IPY_MODEL_72e59e532a3244a991b84d49402c2f7b"
      }
     },
     "66a6a7557c5a4937be6cf1d30cd5ee70": {
      "model_module": "@jupyter-widgets/controls",
      "model_module_version": "1.5.0",
      "model_name": "SliderStyleModel",
      "state": {
       "_model_module": "@jupyter-widgets/controls",
       "_model_module_version": "1.5.0",
       "_model_name": "SliderStyleModel",
       "_view_count": null,
       "_view_module": "@jupyter-widgets/base",
       "_view_module_version": "1.2.0",
       "_view_name": "StyleView",
       "description_width": "",
       "handle_color": null
      }
     },
     "6b8e7b0631eb409b9dc8be4be88ef2e8": {
      "model_module": "@jupyter-widgets/controls",
      "model_module_version": "1.5.0",
      "model_name": "FloatSliderModel",
      "state": {
       "_dom_classes": [],
       "_model_module": "@jupyter-widgets/controls",
       "_model_module_version": "1.5.0",
       "_model_name": "FloatSliderModel",
       "_view_count": null,
       "_view_module": "@jupyter-widgets/controls",
       "_view_module_version": "1.5.0",
       "_view_name": "FloatSliderView",
       "continuous_update": true,
       "description": "n1",
       "description_tooltip": null,
       "disabled": false,
       "layout": "IPY_MODEL_c283760e5fcc4e4fb3a30c41c8899478",
       "max": 5.0,
       "min": 1.0,
       "orientation": "horizontal",
       "readout": true,
       "readout_format": ".2f",
       "step": 0.1,
       "style": "IPY_MODEL_6fc21050a50640519a9e86dcd473aa29",
       "value": 1.0
      }
     },
     "6fc21050a50640519a9e86dcd473aa29": {
      "model_module": "@jupyter-widgets/controls",
      "model_module_version": "1.5.0",
      "model_name": "SliderStyleModel",
      "state": {
       "_model_module": "@jupyter-widgets/controls",
       "_model_module_version": "1.5.0",
       "_model_name": "SliderStyleModel",
       "_view_count": null,
       "_view_module": "@jupyter-widgets/base",
       "_view_module_version": "1.2.0",
       "_view_name": "StyleView",
       "description_width": "",
       "handle_color": null
      }
     },
     "72e59e532a3244a991b84d49402c2f7b": {
      "model_module": "@jupyter-widgets/base",
      "model_module_version": "1.2.0",
      "model_name": "LayoutModel",
      "state": {
       "_model_module": "@jupyter-widgets/base",
       "_model_module_version": "1.2.0",
       "_model_name": "LayoutModel",
       "_view_count": null,
       "_view_module": "@jupyter-widgets/base",
       "_view_module_version": "1.2.0",
       "_view_name": "LayoutView",
       "align_content": null,
       "align_items": null,
       "align_self": null,
       "border": null,
       "bottom": null,
       "display": null,
       "flex": null,
       "flex_flow": null,
       "grid_area": null,
       "grid_auto_columns": null,
       "grid_auto_flow": null,
       "grid_auto_rows": null,
       "grid_column": null,
       "grid_gap": null,
       "grid_row": null,
       "grid_template_areas": null,
       "grid_template_columns": null,
       "grid_template_rows": null,
       "height": null,
       "justify_content": null,
       "justify_items": null,
       "left": null,
       "margin": null,
       "max_height": null,
       "max_width": null,
       "min_height": null,
       "min_width": null,
       "object_fit": null,
       "object_position": null,
       "order": null,
       "overflow": null,
       "overflow_x": null,
       "overflow_y": null,
       "padding": null,
       "right": null,
       "top": null,
       "visibility": null,
       "width": null
      }
     },
     "7373ec84e1e84951941400fca6c007eb": {
      "model_module": "@jupyter-widgets/base",
      "model_module_version": "1.2.0",
      "model_name": "LayoutModel",
      "state": {
       "_model_module": "@jupyter-widgets/base",
       "_model_module_version": "1.2.0",
       "_model_name": "LayoutModel",
       "_view_count": null,
       "_view_module": "@jupyter-widgets/base",
       "_view_module_version": "1.2.0",
       "_view_name": "LayoutView",
       "align_content": null,
       "align_items": null,
       "align_self": null,
       "border": null,
       "bottom": null,
       "display": null,
       "flex": null,
       "flex_flow": null,
       "grid_area": null,
       "grid_auto_columns": null,
       "grid_auto_flow": null,
       "grid_auto_rows": null,
       "grid_column": null,
       "grid_gap": null,
       "grid_row": null,
       "grid_template_areas": null,
       "grid_template_columns": null,
       "grid_template_rows": null,
       "height": null,
       "justify_content": null,
       "justify_items": null,
       "left": null,
       "margin": null,
       "max_height": null,
       "max_width": null,
       "min_height": null,
       "min_width": null,
       "object_fit": null,
       "object_position": null,
       "order": null,
       "overflow": null,
       "overflow_x": null,
       "overflow_y": null,
       "padding": null,
       "right": null,
       "top": null,
       "visibility": null,
       "width": null
      }
     },
     "821b70ed9a6c4be8b14e366d49044963": {
      "model_module": "@jupyter-widgets/controls",
      "model_module_version": "1.5.0",
      "model_name": "FloatSliderModel",
      "state": {
       "_dom_classes": [],
       "_model_module": "@jupyter-widgets/controls",
       "_model_module_version": "1.5.0",
       "_model_name": "FloatSliderModel",
       "_view_count": null,
       "_view_module": "@jupyter-widgets/controls",
       "_view_module_version": "1.5.0",
       "_view_name": "FloatSliderView",
       "continuous_update": true,
       "description": "d",
       "description_tooltip": null,
       "disabled": false,
       "layout": "IPY_MODEL_0828dab148024ce08e61272a6c0bbed7",
       "max": 1.0,
       "min": 0.0,
       "orientation": "horizontal",
       "readout": true,
       "readout_format": ".2f",
       "step": 0.001,
       "style": "IPY_MODEL_08495eae6a674916b6deffb8a0f045c1",
       "value": 0.28
      }
     },
     "8a636df47b6e4de780211d431ce55e20": {
      "model_module": "@jupyter-widgets/controls",
      "model_module_version": "1.5.0",
      "model_name": "VBoxModel",
      "state": {
       "_dom_classes": [
        "widget-interact"
       ],
       "_model_module": "@jupyter-widgets/controls",
       "_model_module_version": "1.5.0",
       "_model_name": "VBoxModel",
       "_view_count": null,
       "_view_module": "@jupyter-widgets/controls",
       "_view_module_version": "1.5.0",
       "_view_name": "VBoxView",
       "box_style": "",
       "children": [
        "IPY_MODEL_6b8e7b0631eb409b9dc8be4be88ef2e8",
        "IPY_MODEL_9afaaff6a6054529b25cf0a6699bb571",
        "IPY_MODEL_9e637610690e471695c69da927df63b2"
       ],
       "layout": "IPY_MODEL_276805217667436f8bd52004eddda702"
      }
     },
     "921f2c28846b425cbc822085d0ba5bef": {
      "model_module": "@jupyter-widgets/base",
      "model_module_version": "1.2.0",
      "model_name": "LayoutModel",
      "state": {
       "_model_module": "@jupyter-widgets/base",
       "_model_module_version": "1.2.0",
       "_model_name": "LayoutModel",
       "_view_count": null,
       "_view_module": "@jupyter-widgets/base",
       "_view_module_version": "1.2.0",
       "_view_name": "LayoutView",
       "align_content": null,
       "align_items": null,
       "align_self": null,
       "border": null,
       "bottom": null,
       "display": null,
       "flex": null,
       "flex_flow": null,
       "grid_area": null,
       "grid_auto_columns": null,
       "grid_auto_flow": null,
       "grid_auto_rows": null,
       "grid_column": null,
       "grid_gap": null,
       "grid_row": null,
       "grid_template_areas": null,
       "grid_template_columns": null,
       "grid_template_rows": null,
       "height": null,
       "justify_content": null,
       "justify_items": null,
       "left": null,
       "margin": null,
       "max_height": null,
       "max_width": null,
       "min_height": null,
       "min_width": null,
       "object_fit": null,
       "object_position": null,
       "order": null,
       "overflow": null,
       "overflow_x": null,
       "overflow_y": null,
       "padding": null,
       "right": null,
       "top": null,
       "visibility": null,
       "width": null
      }
     },
     "9afaaff6a6054529b25cf0a6699bb571": {
      "model_module": "@jupyter-widgets/controls",
      "model_module_version": "1.5.0",
      "model_name": "FloatSliderModel",
      "state": {
       "_dom_classes": [],
       "_model_module": "@jupyter-widgets/controls",
       "_model_module_version": "1.5.0",
       "_model_name": "FloatSliderModel",
       "_view_count": null,
       "_view_module": "@jupyter-widgets/controls",
       "_view_module_version": "1.5.0",
       "_view_name": "FloatSliderView",
       "continuous_update": true,
       "description": "n2",
       "description_tooltip": null,
       "disabled": false,
       "layout": "IPY_MODEL_176995f28c5d4df2b27df13a88acfa93",
       "max": 5.0,
       "min": 1.0,
       "orientation": "horizontal",
       "readout": true,
       "readout_format": ".2f",
       "step": 0.1,
       "style": "IPY_MODEL_66a6a7557c5a4937be6cf1d30cd5ee70",
       "value": 1.5
      }
     },
     "9e637610690e471695c69da927df63b2": {
      "model_module": "@jupyter-widgets/output",
      "model_module_version": "1.0.0",
      "model_name": "OutputModel",
      "state": {
       "_dom_classes": [],
       "_model_module": "@jupyter-widgets/output",
       "_model_module_version": "1.0.0",
       "_model_name": "OutputModel",
       "_view_count": null,
       "_view_module": "@jupyter-widgets/output",
       "_view_module_version": "1.0.0",
       "_view_name": "OutputView",
       "layout": "IPY_MODEL_921f2c28846b425cbc822085d0ba5bef",
       "msg_id": "",
       "outputs": [
        {
         "data": {
          "image/png": "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\n",
          "text/plain": "<Figure size 648x432 with 1 Axes>"
         },
         "metadata": {
          "needs_background": "light"
         },
         "output_type": "display_data"
        }
       ]
      }
     },
     "a83975c90da848149122811f54aeb693": {
      "model_module": "@jupyter-widgets/base",
      "model_module_version": "1.2.0",
      "model_name": "LayoutModel",
      "state": {
       "_model_module": "@jupyter-widgets/base",
       "_model_module_version": "1.2.0",
       "_model_name": "LayoutModel",
       "_view_count": null,
       "_view_module": "@jupyter-widgets/base",
       "_view_module_version": "1.2.0",
       "_view_name": "LayoutView",
       "align_content": null,
       "align_items": null,
       "align_self": null,
       "border": null,
       "bottom": null,
       "display": null,
       "flex": null,
       "flex_flow": null,
       "grid_area": null,
       "grid_auto_columns": null,
       "grid_auto_flow": null,
       "grid_auto_rows": null,
       "grid_column": null,
       "grid_gap": null,
       "grid_row": null,
       "grid_template_areas": null,
       "grid_template_columns": null,
       "grid_template_rows": null,
       "height": null,
       "justify_content": null,
       "justify_items": null,
       "left": null,
       "margin": null,
       "max_height": null,
       "max_width": null,
       "min_height": null,
       "min_width": null,
       "object_fit": null,
       "object_position": null,
       "order": null,
       "overflow": null,
       "overflow_x": null,
       "overflow_y": null,
       "padding": null,
       "right": null,
       "top": null,
       "visibility": null,
       "width": null
      }
     },
     "adaf7aef827d47deb80d2c21f028ae09": {
      "model_module": "@jupyter-widgets/base",
      "model_module_version": "1.2.0",
      "model_name": "LayoutModel",
      "state": {
       "_model_module": "@jupyter-widgets/base",
       "_model_module_version": "1.2.0",
       "_model_name": "LayoutModel",
       "_view_count": null,
       "_view_module": "@jupyter-widgets/base",
       "_view_module_version": "1.2.0",
       "_view_name": "LayoutView",
       "align_content": null,
       "align_items": null,
       "align_self": null,
       "border": null,
       "bottom": null,
       "display": null,
       "flex": null,
       "flex_flow": null,
       "grid_area": null,
       "grid_auto_columns": null,
       "grid_auto_flow": null,
       "grid_auto_rows": null,
       "grid_column": null,
       "grid_gap": null,
       "grid_row": null,
       "grid_template_areas": null,
       "grid_template_columns": null,
       "grid_template_rows": null,
       "height": null,
       "justify_content": null,
       "justify_items": null,
       "left": null,
       "margin": null,
       "max_height": null,
       "max_width": null,
       "min_height": null,
       "min_width": null,
       "object_fit": null,
       "object_position": null,
       "order": null,
       "overflow": null,
       "overflow_x": null,
       "overflow_y": null,
       "padding": null,
       "right": null,
       "top": null,
       "visibility": null,
       "width": null
      }
     },
     "b81d2916753a4c5e8e4eb7f8871fa09f": {
      "model_module": "@jupyter-widgets/controls",
      "model_module_version": "1.5.0",
      "model_name": "SliderStyleModel",
      "state": {
       "_model_module": "@jupyter-widgets/controls",
       "_model_module_version": "1.5.0",
       "_model_name": "SliderStyleModel",
       "_view_count": null,
       "_view_module": "@jupyter-widgets/base",
       "_view_module_version": "1.2.0",
       "_view_name": "StyleView",
       "description_width": "",
       "handle_color": null
      }
     },
     "bfce9a21fddb48b9b1e06bf37864501e": {
      "model_module": "@jupyter-widgets/output",
      "model_module_version": "1.0.0",
      "model_name": "OutputModel",
      "state": {
       "_dom_classes": [],
       "_model_module": "@jupyter-widgets/output",
       "_model_module_version": "1.0.0",
       "_model_name": "OutputModel",
       "_view_count": null,
       "_view_module": "@jupyter-widgets/output",
       "_view_module_version": "1.0.0",
       "_view_name": "OutputView",
       "layout": "IPY_MODEL_a83975c90da848149122811f54aeb693",
       "msg_id": "",
       "outputs": [
        {
         "data": {
          "image/png": "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\n",
          "text/plain": "<Figure size 648x432 with 1 Axes>"
         },
         "metadata": {
          "needs_background": "light"
         },
         "output_type": "display_data"
        }
       ]
      }
     },
     "c283760e5fcc4e4fb3a30c41c8899478": {
      "model_module": "@jupyter-widgets/base",
      "model_module_version": "1.2.0",
      "model_name": "LayoutModel",
      "state": {
       "_model_module": "@jupyter-widgets/base",
       "_model_module_version": "1.2.0",
       "_model_name": "LayoutModel",
       "_view_count": null,
       "_view_module": "@jupyter-widgets/base",
       "_view_module_version": "1.2.0",
       "_view_name": "LayoutView",
       "align_content": null,
       "align_items": null,
       "align_self": null,
       "border": null,
       "bottom": null,
       "display": null,
       "flex": null,
       "flex_flow": null,
       "grid_area": null,
       "grid_auto_columns": null,
       "grid_auto_flow": null,
       "grid_auto_rows": null,
       "grid_column": null,
       "grid_gap": null,
       "grid_row": null,
       "grid_template_areas": null,
       "grid_template_columns": null,
       "grid_template_rows": null,
       "height": null,
       "justify_content": null,
       "justify_items": null,
       "left": null,
       "margin": null,
       "max_height": null,
       "max_width": null,
       "min_height": null,
       "min_width": null,
       "object_fit": null,
       "object_position": null,
       "order": null,
       "overflow": null,
       "overflow_x": null,
       "overflow_y": null,
       "padding": null,
       "right": null,
       "top": null,
       "visibility": null,
       "width": null
      }
     },
     "ca491609a75949e8a4fac02132a068b5": {
      "model_module": "@jupyter-widgets/controls",
      "model_module_version": "1.5.0",
      "model_name": "FloatSliderModel",
      "state": {
       "_dom_classes": [],
       "_model_module": "@jupyter-widgets/controls",
       "_model_module_version": "1.5.0",
       "_model_name": "FloatSliderModel",
       "_view_count": null,
       "_view_module": "@jupyter-widgets/controls",
       "_view_module_version": "1.5.0",
       "_view_name": "FloatSliderView",
       "continuous_update": true,
       "description": "d",
       "description_tooltip": null,
       "disabled": false,
       "layout": "IPY_MODEL_adaf7aef827d47deb80d2c21f028ae09",
       "max": 1.0,
       "min": 0.0,
       "orientation": "horizontal",
       "readout": true,
       "readout_format": ".2f",
       "step": 0.01,
       "style": "IPY_MODEL_1708a3e9ad914114a6a903236c6b11cd",
       "value": 0.3
      }
     },
     "e2bb05d5bb6f40dcbae55c1e006dc27b": {
      "model_module": "@jupyter-widgets/output",
      "model_module_version": "1.0.0",
      "model_name": "OutputModel",
      "state": {
       "_dom_classes": [],
       "_model_module": "@jupyter-widgets/output",
       "_model_module_version": "1.0.0",
       "_model_name": "OutputModel",
       "_view_count": null,
       "_view_module": "@jupyter-widgets/output",
       "_view_module_version": "1.0.0",
       "_view_name": "OutputView",
       "layout": "IPY_MODEL_fcf51c9115d549d2815ed2a3084b3c68",
       "msg_id": "",
       "outputs": [
        {
         "data": {
          "image/png": "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\n",
          "text/plain": "<Figure size 648x360 with 1 Axes>"
         },
         "metadata": {
          "needs_background": "light"
         },
         "output_type": "display_data"
        }
       ]
      }
     },
     "e81e432981704e2eab57104979fb88b6": {
      "model_module": "@jupyter-widgets/controls",
      "model_module_version": "1.5.0",
      "model_name": "IntSliderModel",
      "state": {
       "_dom_classes": [],
       "_model_module": "@jupyter-widgets/controls",
       "_model_module_version": "1.5.0",
       "_model_name": "IntSliderModel",
       "_view_count": null,
       "_view_module": "@jupyter-widgets/controls",
       "_view_module_version": "1.5.0",
       "_view_name": "IntSliderView",
       "continuous_update": true,
       "description": "theta",
       "description_tooltip": null,
       "disabled": false,
       "layout": "IPY_MODEL_2f88a3ff745e436596ccc33515b5cfa4",
       "max": 89,
       "min": 0,
       "orientation": "horizontal",
       "readout": true,
       "readout_format": "d",
       "step": 10,
       "style": "IPY_MODEL_b81d2916753a4c5e8e4eb7f8871fa09f",
       "value": 30
      }
     },
     "fcf51c9115d549d2815ed2a3084b3c68": {
      "model_module": "@jupyter-widgets/base",
      "model_module_version": "1.2.0",
      "model_name": "LayoutModel",
      "state": {
       "_model_module": "@jupyter-widgets/base",
       "_model_module_version": "1.2.0",
       "_model_name": "LayoutModel",
       "_view_count": null,
       "_view_module": "@jupyter-widgets/base",
       "_view_module_version": "1.2.0",
       "_view_name": "LayoutView",
       "align_content": null,
       "align_items": null,
       "align_self": null,
       "border": null,
       "bottom": null,
       "display": null,
       "flex": null,
       "flex_flow": null,
       "grid_area": null,
       "grid_auto_columns": null,
       "grid_auto_flow": null,
       "grid_auto_rows": null,
       "grid_column": null,
       "grid_gap": null,
       "grid_row": null,
       "grid_template_areas": null,
       "grid_template_columns": null,
       "grid_template_rows": null,
       "height": null,
       "justify_content": null,
       "justify_items": null,
       "left": null,
       "margin": null,
       "max_height": null,
       "max_width": null,
       "min_height": null,
       "min_width": null,
       "object_fit": null,
       "object_position": null,
       "order": null,
       "overflow": null,
       "overflow_x": null,
       "overflow_y": null,
       "padding": null,
       "right": null,
       "top": null,
       "visibility": null,
       "width": null
      }
     }
    },
    "version_major": 2,
    "version_minor": 0
   }
  }
 },
 "nbformat": 4,
 "nbformat_minor": 5
}