{
 "cells": [
  {
   "cell_type": "markdown",
   "id": "8b01ca79",
   "metadata": {
    "slideshow": {
     "slide_type": "slide"
    }
   },
   "source": [
    " <font size=\"6\">MEC501 - Manejo y Conversión de Energía Solar Térmica</font>\n",
    "# Radiación Térmica\n",
    "<br><br><br><br>\n",
    "Profesor: Francisco Ramírez Cuevas<br>\n",
    "Fecha: 30 de Septiembre 2022"
   ]
  },
  {
   "cell_type": "markdown",
   "id": "e21d64ae",
   "metadata": {
    "slideshow": {
     "slide_type": "slide"
    }
   },
   "source": [
    "## Introducción a la Transferencia de Calor\n",
    "A nivel molecular, los átomos que compomen la materia siempre está vibrando. La magnitud de estas vibraciones está caracterizada estadísticamente por la temperatura:"
   ]
  },
  {
   "cell_type": "markdown",
   "id": "35dd953b",
   "metadata": {},
   "source": [
    "<img src=\"./images/temperature_brownian_motion.gif\" width=\"400px\" align= center>"
   ]
  },
  {
   "cell_type": "markdown",
   "id": "7810d826",
   "metadata": {
    "cell_style": "center",
    "slideshow": {
     "slide_type": "slide"
    }
   },
   "source": [
    "Consideremos un sólido extendido con una diferencia de temperatura, $\\Delta T$, entre sus extremos, tal que el lado izquierdo tiene una mayor temperatura que el lado derecho"
   ]
  },
  {
   "cell_type": "markdown",
   "id": "5407e5b7",
   "metadata": {
    "cell_style": "split",
    "slideshow": {
     "slide_type": "fragment"
    }
   },
   "source": [
    "<img src=\"./images/heat_transfer.gif\" width=\"300px\" align= center>"
   ]
  },
  {
   "cell_type": "markdown",
   "id": "85b590b5",
   "metadata": {
    "cell_style": "split",
    "slideshow": {
     "slide_type": "fragment"
    }
   },
   "source": [
    "Debido a la diferencia de temperatura, la vibración molecular en el lado izquierdo es mayor. Esta energía cinética es transmitida a través del material hacia el lado derecho."
   ]
  },
  {
   "cell_type": "markdown",
   "id": "6f302797",
   "metadata": {
    "slideshow": {
     "slide_type": "slide"
    }
   },
   "source": [
    "Definimos como **calor**, $Q$, a la energía térmica intercambiada entre dos medios cuya diferencia de temperatura es $\\Delta T$. A mayor $\\Delta T$, mayor es el intercambio de calor, matematicamente: \n",
    "\n",
    "\\begin{equation*}\n",
    "Q \\propto \\Delta T,\\quad\\mathrm{J}\n",
    "\\end{equation*}\n",
    "\n"
   ]
  },
  {
   "cell_type": "markdown",
   "id": "05b934bc",
   "metadata": {
    "slideshow": {
     "slide_type": "fragment"
    }
   },
   "source": [
    "La **taza de transferencia de calor**:\n",
    "\\begin{equation*}\n",
    "\\dot{Q} = \\frac{dQ}{dt},\\quad\\mathrm{W}\n",
    "\\end{equation*}\n",
    "\n",
    "corresponde al calor tranferido por unidad de tiempo."
   ]
  },
  {
   "cell_type": "markdown",
   "id": "8aface27",
   "metadata": {
    "slideshow": {
     "slide_type": "fragment"
    }
   },
   "source": [
    "Por último, definimos como **flujo de calor**: \n",
    "\\begin{equation*}\n",
    "q'' = \\dot{Q}/A,\\quad\\frac{\\mathrm{W}}{\\mathrm{m}^2}\n",
    "\\end{equation*}\n",
    "a la taza de transferencia de calor por unidad de área."
   ]
  },
  {
   "cell_type": "markdown",
   "id": "2c634772",
   "metadata": {
    "cell_style": "split",
    "slideshow": {
     "slide_type": "slide"
    }
   },
   "source": [
    "Existen tres mecanismo de transferencia de calor:\n",
    "\n",
    "- Conducción de calor\n",
    "- Convección de calor\n",
    "- Radiación"
   ]
  },
  {
   "cell_type": "markdown",
   "id": "a3e69153",
   "metadata": {
    "cell_style": "split",
    "slideshow": {
     "slide_type": "-"
    }
   },
   "source": [
    "<img src=\"./images/heat_transfer_mechanism.png\" width=\"500px\" align= center>"
   ]
  },
  {
   "cell_type": "markdown",
   "id": "ccaa08be",
   "metadata": {
    "slideshow": {
     "slide_type": "slide"
    }
   },
   "source": [
    "### Conducción de Calor\n",
    "**Definimos como *conducción de calor* al calor transferido a través de un material en reposo**. El mecanismo generalmente se asocia a **sólidos**, donde el calor es transferido a travéz de la red atómica del material. Sin embargo, la definición también incluye **líquidos y gases en reposo.** En este caso, las moléculas se mueven eleatoriamente, de manera tal que la velocidad neta del fluido es cero."
   ]
  },
  {
   "cell_type": "markdown",
   "id": "183006ce",
   "metadata": {
    "slideshow": {
     "slide_type": "fragment"
    }
   },
   "source": [
    "Matemáticamente, para un material de espesor $t$ y diferencia de temperatura $\\Delta T$, la **taza de transferencia de calor por conducción** a través de una superficie $A$, es:\n",
    "\n",
    "<img src=\"./images/heat_conduction_formula.png\" width=\"700px\" align= center>"
   ]
  },
  {
   "cell_type": "markdown",
   "id": "4fdfda8b",
   "metadata": {
    "slideshow": {
     "slide_type": "slide"
    }
   },
   "source": [
    "La conductividad térmica, $k_c$, es una propiedad del material que varía según la temperatura.\n",
    "\n",
    "<img src=\"./images/thermal_conductivity.png\" width=\"800px\" align= center>"
   ]
  },
  {
   "cell_type": "markdown",
   "id": "be69080c",
   "metadata": {
    "slideshow": {
     "slide_type": "slide"
    }
   },
   "source": [
    "En su forma diferencial, $\\dot{Q}_\\mathrm{cond}= - k\\nabla T$, y para el caso unidimensional:\n",
    "\n",
    "\\begin{equation}\n",
    "\\dot{Q}_\\mathrm{cond} = - kA\\frac{dT}{dx},\\quad\\mathrm{W}\n",
    "\\end{equation}"
   ]
  },
  {
   "cell_type": "markdown",
   "id": "ac955652",
   "metadata": {
    "slideshow": {
     "slide_type": "fragment"
    }
   },
   "source": [
    "A partir de esta fórmula podemos deducir expresiones para taza de transferencia de calor por conducción según la geometría:"
   ]
  },
  {
   "cell_type": "markdown",
   "id": "ec4af943",
   "metadata": {},
   "source": [
    "<img src=\"./images/heat_conduction_resistance.png\" width=\"600px\" align= center>"
   ]
  },
  {
   "cell_type": "markdown",
   "id": "bb05f7de",
   "metadata": {
    "slideshow": {
     "slide_type": "slide"
    }
   },
   "source": [
    "Notar que, como fórmula general, podemos expresar la taza de conducción de calor en la forma:\n",
    "\n",
    "\\begin{equation*}\n",
    "\\dot{Q}_\\mathrm{cond} = \\frac{T_H - T_C}{R_\\mathrm{cond}},\\quad\\mathrm{W}\n",
    "\\end{equation*}\n",
    "\n",
    "donde, $R_\\mathrm{cond}$ (K/W) es la **resistencia térmica** asociada al mecanismo de conducción."
   ]
  },
  {
   "cell_type": "markdown",
   "id": "bbea9efd",
   "metadata": {
    "slideshow": {
     "slide_type": "slide"
    }
   },
   "source": [
    "### Convección de Calor\n",
    "**Definimos como *convección de calor* al calor transferido a través de fluidos en movimiento.** El movimiento de un fluido puede ocurrir naturalmente, debido a los efectos de flotación a raíz de los cambio de densidad con la temperatura; o de forma inducida, como por ejemplo mediante un ventilador."
   ]
  },
  {
   "cell_type": "markdown",
   "id": "2f11707d",
   "metadata": {
    "cell_style": "split",
    "slideshow": {
     "slide_type": "fragment"
    }
   },
   "source": [
    "A partir de esto, clasificamos la transferencia de calor por convección, respectivamente, como:\n",
    "- **convección natural**\n",
    "- **convección forzada**."
   ]
  },
  {
   "cell_type": "markdown",
   "id": "335e9cda",
   "metadata": {
    "cell_style": "split",
    "slideshow": {
     "slide_type": "fragment"
    }
   },
   "source": [
    "<img src=\"./images/heat_convection_mechanism.png\" width=\"300px\" align= center>"
   ]
  },
  {
   "cell_type": "markdown",
   "id": "a11782b3",
   "metadata": {
    "slideshow": {
     "slide_type": "slide"
    }
   },
   "source": [
    "La convección de calor esta asociada al contacto de fluidos con una superficie, $A$. Así, independiente del mecanismo de convección de calor (natural o forzada), expresamos la **taza de transferencia de calor por convección** como:\n",
    "\n",
    "<img src=\"./images/heat_convection_formula.png\" width=\"700px\" align= center>"
   ]
  },
  {
   "cell_type": "markdown",
   "id": "322fa067",
   "metadata": {},
   "source": [
    "Notar que la taza de transferencia de calor por convección puede ser expresada en la forma:\n",
    "\n",
    "\\begin{equation*}\n",
    "\\dot{Q}_\\mathrm{conv} = \\frac{T_\\infty - T}{R_\\mathrm{conv}},\\quad\\mathrm{W}\n",
    "\\end{equation*}\n",
    "\n",
    "donde $R_\\mathrm{conv}=1/hA$ es la resistencia térmica asociada a la convección de calor."
   ]
  },
  {
   "cell_type": "markdown",
   "id": "983b6ab0",
   "metadata": {
    "slideshow": {
     "slide_type": "slide"
    }
   },
   "source": [
    "A diferencia de la conducción de calor, el coeficiente convectivo, $h$, **no es una propiedad del fluido**. Esto porque no solo depende de las propiedades del fluido (densidad, viscocidad y conductividad térmica, entre otras), sino que además depende de condiciones externas, como la velocidad del flujo, la diferencia de temperaturas, y la geometría del cuerpó sometido a conveccción de calor."
   ]
  },
  {
   "cell_type": "markdown",
   "id": "608df105",
   "metadata": {
    "slideshow": {
     "slide_type": "fragment"
    }
   },
   "source": [
    "El coeficiente convectivo se determina a partir de relaciones expresadas en términos del número de Nusselt, $\\mathrm{Nu} = \\frac{hL_c}{k_f}$, donde $L_c$ es una longitud característica y $k_f$ es la conductividad térmica del fluido. En la mayoría de los casos, las relaciones para el número de Nusselt para cada caso se determinan experimentalmente."
   ]
  },
  {
   "cell_type": "markdown",
   "id": "f73fe75a",
   "metadata": {
    "slideshow": {
     "slide_type": "fragment"
    }
   },
   "source": [
    "Comúnmente, los valores para el número de Nusselt se encuentran dentro de los siguientes rangos:\n",
    "\n",
    "- Convección forzada, $\\mathrm{Nu} \\sim 5 - 1000 $\n",
    "- Convección natural, $\\mathrm{Nu} \\sim 0 - 100$"
   ]
  },
  {
   "cell_type": "markdown",
   "id": "7d4df5f2",
   "metadata": {
    "slideshow": {
     "slide_type": "slide"
    }
   },
   "source": [
    "### Transferencia de calor en estado estacionario\n",
    "\n",
    "En estado estacionario, el flujo de calor es constante. En este caso, podemos simplificar el análisis de transferencia de calor por convección y conducción utilizando resistencias térmicas.\n",
    "\n",
    "<img src=\"./images/stationary_heat_transfer.png\" width=\"700px\" align= center>"
   ]
  },
  {
   "cell_type": "markdown",
   "id": "53ef8ae3",
   "metadata": {
    "slideshow": {
     "slide_type": "slide"
    }
   },
   "source": [
    "## Fundamentos de la radiación térmica\n",
    "\n",
    "Las vibraciones a nivel molecular también inducen polarización en la materia. Esto es similar al fenómeno de polarización inducida por ondas electromagnéticas estudiada en la unidad 3. Estos dipolos inducidos térmicamente, oscilan constantemente generando campos electromagnéticos que se propagan en dirección radial.\n",
    "\n",
    "<img src=\"./images/radiating_dipole.png\" width=\"700px\" align= center>"
   ]
  },
  {
   "cell_type": "markdown",
   "id": "767562ad",
   "metadata": {
    "slideshow": {
     "slide_type": "slide"
    }
   },
   "source": [
    "En la siguiente animación podemos ver el proceso de emisión de ondas electromagnéticas por un dipolo oscilatorio. El mapa de colores representa la intensidad del campo magnético, es decir $|\\vec{H}|$, donde rojo y azul corresponden, respectivamente, a los valorse máximos y mínimos.\n",
    "\n",
    "<img src=\"./images/HW_vertical_noground.gif\" width=\"300px\" align= center>"
   ]
  },
  {
   "cell_type": "markdown",
   "id": "7088a84b",
   "metadata": {
    "cell_style": "center",
    "slideshow": {
     "slide_type": "slide"
    }
   },
   "source": [
    "### Poder de emisión\n",
    "Un cuerpo a temperatura $T$ emite ondas electromagnéticas en todas las direcciones y en un espectro de longitudes de onda. En general, la distribución angular ($\\Omega$) y espectral ($\\lambda$) de la radiación emitida depende de las propiedades ópticas de la superficie y la temperatura del material. "
   ]
  },
  {
   "cell_type": "markdown",
   "id": "b364c7cf",
   "metadata": {
    "slideshow": {
     "slide_type": "fragment"
    }
   },
   "source": [
    "Para caracterizar la intensidad de la radiación emitida por una superficie a tempertura $T$, usamos la **intensidad específica o radiancia espectral**, $I_\\lambda(\\lambda,\\Omega,T)$."
   ]
  },
  {
   "cell_type": "markdown",
   "id": "09477f6e",
   "metadata": {
    "cell_style": "center",
    "slideshow": {
     "slide_type": "slide"
    }
   },
   "source": [
    "La taza de calor total emitido por una superficie $dA$ de un cuerpo negro en función de $\\lambda$ y $\\Omega$, $d\\dot{Q}_\\mathrm{rad}$, está dada por:\n",
    "\n",
    "\\begin{equation}\n",
    "d\\dot{Q}_\\mathrm{rad} = I_{\\lambda}(\\lambda,T,\\theta,\\phi) \\sin\\theta \\cos\\theta dA d\\Omega d\\lambda\n",
    "\\end{equation}"
   ]
  },
  {
   "cell_type": "markdown",
   "id": "f849cc9e",
   "metadata": {
    "cell_style": "split",
    "slideshow": {
     "slide_type": "fragment"
    }
   },
   "source": [
    "El término $\\cos\\theta dA$ corresponde a la proyección de $dA$ en la dirección $\\Omega$"
   ]
  },
  {
   "cell_type": "markdown",
   "id": "d3b63571",
   "metadata": {
    "cell_style": "split"
   },
   "source": [
    "<img src=\"./images/specific_intensity.png\" width=\"300px\" align= center>"
   ]
  },
  {
   "cell_type": "markdown",
   "id": "891a8504",
   "metadata": {
    "cell_style": "center",
    "slideshow": {
     "slide_type": "slide"
    }
   },
   "source": [
    "Definimos como **poder de emisión direccional espectral** a la relación:\n",
    "\n",
    "\\begin{equation}\n",
    "E_{\\lambda,\\Omega}(T) = \\frac{d\\dot{Q}_\\mathrm{rad}}{dAd\\Omega d\\lambda}=I_{\\lambda}(\\lambda,\\Omega)\\cos\\theta ,\\quad\\quad\\frac{\\mathrm{W}}{\\mathrm{m}^2\\cdot\\mu\\mathrm{m}\\cdot\\mathrm{sr}}\n",
    "\\end{equation}"
   ]
  },
  {
   "cell_type": "markdown",
   "id": "ec272999",
   "metadata": {
    "slideshow": {
     "slide_type": "fragment"
    }
   },
   "source": [
    "A diferencia de la intensidad específica, el poder de emisión considera la radiación effectiva emitida por una superficie."
   ]
  },
  {
   "cell_type": "markdown",
   "id": "3c1cf7c2",
   "metadata": {},
   "source": [
    "<img src=\"./images/emissive_power.png\" width=\"500px\" align= center>"
   ]
  },
  {
   "cell_type": "markdown",
   "id": "ad56f5b7",
   "metadata": {
    "slideshow": {
     "slide_type": "slide"
    }
   },
   "source": [
    "A partir de este término podemos derivar:"
   ]
  },
  {
   "cell_type": "markdown",
   "id": "c62c0cc6",
   "metadata": {
    "slideshow": {
     "slide_type": "fragment"
    }
   },
   "source": [
    "- **Poder de emisión hemisférica espectral**, \n",
    "\n",
    "\\begin{align*}\n",
    "E_{\\lambda}(T) = \\frac{d\\dot{Q}}{dA d\\lambda} &= \\int_0^{2\\pi}\\int_0^{\\pi/2}I_{\\lambda}(\\lambda,\\Omega)\\cos\\theta~\\sin\\theta  d\\theta d\\phi\n",
    "  \\\\ \n",
    "  &=\\int_\\mathrm{hemi} I_{\\lambda}(\\lambda,\\Omega)\\cos\\theta~d\\Omega\n",
    "  ,\\quad\\quad\\frac{\\mathrm{W}}{\\mathrm{m}^2\\cdot\\mu\\mathrm{m}}\n",
    "\\end{align*}"
   ]
  },
  {
   "cell_type": "markdown",
   "id": "a9a23a55",
   "metadata": {
    "slideshow": {
     "slide_type": "fragment"
    }
   },
   "source": [
    "- **Poder de emisión direccional total**,\n",
    "\n",
    "\\begin{equation*}\n",
    "E_\\Omega(\\lambda,T) = \\frac{d\\dot{Q}}{dAd\\Omega}=\\cos\\theta \\int_0^\\infty~ I_{\\lambda}(\\lambda,\\Omega)~d\\lambda  ,\\quad\\quad\\frac{\\mathrm{W}}{\\mathrm{m}^2 \\cdot\\mathrm{sr}}\n",
    "\\end{equation*}"
   ]
  },
  {
   "cell_type": "markdown",
   "id": "4c94bf8c",
   "metadata": {
    "slideshow": {
     "slide_type": "fragment"
    }
   },
   "source": [
    "- **Poder de emisión hemisfética total**, \n",
    "\n",
    "\\begin{equation*}\n",
    "E(T) = \\frac{d\\dot{Q}}{dA}=\\int_0^\\infty\\int_\\mathrm{hemi}I_{\\lambda}(\\lambda,\\Omega)\\cos\\theta~d\\Omega d\\lambda ,\\quad\\quad\\frac{\\mathrm{W}}{\\mathrm{m}^2}\n",
    "\\end{equation*}"
   ]
  },
  {
   "cell_type": "markdown",
   "id": "b670c6be",
   "metadata": {
    "slideshow": {
     "slide_type": "slide"
    }
   },
   "source": [
    "### Distribución de Planck\n",
    "\n",
    "Max Planck en 1901 determinó que la **máxima radiancia espectral o intensidad específica** (flujo de energía por unidad de longitud de onda y ángulo sólido) emitida por un cuerpo a temperatura $T$, en un medio con índice de refracción $n_1$, está dada por:\n",
    "\n",
    "\\begin{equation}\n",
    "I_{\\mathrm{bb},\\lambda}(\\lambda,T,\\Omega) = \\frac{C_1}{n_1\\lambda^5\\left[\\exp\\left(C_2/\\lambda T\\right) - 1\\right]},\\quad\\quad\\frac{\\mathrm{W}}{\\mathrm{m}^2\\cdot\\mu\\mathrm{m}\\cdot\\mathrm{sr}}\n",
    "\\end{equation}\n",
    "\n",
    "donde \n",
    "\\begin{align*}\n",
    "C_1 &= 2hc_0^2 = 1.19104238\\times 10^8 ~\\mathrm{W}\\cdot\\mu\\mathrm{m}^4/\\mathrm{m}^2 \\\\\n",
    "C_2 &= hc_0/k_\\mathrm{B} = 1.43878\\times10^{4}~\\mu\\mathrm{m}\\cdot\\mathrm{K}\n",
    "\\end{align*}\n",
    "\n",
    "$k_\\mathrm{B} = 1.381\\times 10^{-23}$ J/K $=8.617\\times 10^{-5}$ eV/K, es la constante de Boltzmann. La unidad \"sr\" correponde a un esteroradian."
   ]
  },
  {
   "cell_type": "markdown",
   "id": "4e04c610",
   "metadata": {
    "slideshow": {
     "slide_type": "fragment"
    }
   },
   "source": [
    "Esta es la **distribución de Planck**. Representa la radiancia espectral emitida por un cuerpo idealizado, denominado **cuerpo negro**. Un cuerpo negro, así, representa un emisor perfecto, capaz de emitir la máxima radiacion posible a una temperatura $T$."
   ]
  },
  {
   "cell_type": "markdown",
   "id": "513d759b",
   "metadata": {
    "slideshow": {
     "slide_type": "slide"
    }
   },
   "source": [
    "El poder de emisión hemisférico espectral de la superficie de un cuerpo negro, $E_\\mathrm{bb}(\\lambda,T)$, se obtiene integrando la radiancia espectral por ángulo sólido en el límite de una hemiesfera:\n",
    "\n",
    "\\begin{equation}\n",
    "\\int_\\mathrm{hemi} I_{\\mathrm{bb},\\lambda}(\\lambda,T,\\Omega)\\cos\\theta d\\Omega = \\pi I_{\\mathrm{bb},\\lambda}(\\lambda,T) = E_{\\mathrm{bb},\\lambda}(\\lambda,T),\\quad\\quad\\frac{\\mathrm{W}}{\\mathrm{m}^2\\cdot\\mu\\mathrm{m}}\n",
    "\\end{equation}"
   ]
  },
  {
   "cell_type": "markdown",
   "id": "3cbf0ea5",
   "metadata": {
    "slideshow": {
     "slide_type": "fragment"
    }
   },
   "source": [
    "A partir de la integral de $E_\\mathrm{bb}(\\lambda,T)$ en el espectro de longitudes de onda, obtenemos el poder de emisión hemisferico total de un cuerpo negro:\n",
    "\n",
    "\\begin{equation}\n",
    "\\int_0^\\infty E_{\\mathrm{bb},\\lambda}(\\lambda,T) d\\lambda = \\sigma T^4,\\quad\\quad\\frac{\\mathrm{W}}{\\mathrm{m}^2}\n",
    "\\end{equation}\n",
    "\n",
    "donde $\\sigma = 5.670\\times10^{-8}$ W/m$^2\\cdot$K$^4$, es la *constante de Stefan-Boltzmann.* Esta fórmula se conoce como la **ley de Stefan-Boltzmann**"
   ]
  },
  {
   "cell_type": "markdown",
   "id": "18b26d00",
   "metadata": {
    "slideshow": {
     "slide_type": "slide"
    }
   },
   "source": [
    "En la siguiente figura, se ilustra $E_{\\mathrm{bb},\\lambda}(\\lambda,T)$ función de la temperatura y longitud de onda.\n"
   ]
  },
  {
   "cell_type": "markdown",
   "id": "0c94c575",
   "metadata": {},
   "source": [
    "<img src=\"./images/blackbody_rad.png\" width=\"700px\" align= center>"
   ]
  },
  {
   "cell_type": "markdown",
   "id": "8eb1ce9b",
   "metadata": {
    "slideshow": {
     "slide_type": "slide"
    }
   },
   "source": [
    "A medida que $T$ aumenta, notamos que el máximo de la curva se desplaza hacia el azul. La longitud de onda correspondiente a este máximo, $\\lambda_\\mathrm{peak}$, está definida por la **ley de desplazamiento de Wien:**\n",
    "\n",
    "\\begin{equation}\n",
    "\\lambda_\\mathrm{peak}T = 2897.8\\quad\\mu\\mathrm{m}\\cdot\\mathrm{K}\n",
    "\\end{equation}\n"
   ]
  },
  {
   "cell_type": "markdown",
   "id": "26d022df",
   "metadata": {
    "slideshow": {
     "slide_type": "fragment"
    }
   },
   "source": [
    "Esta relación permite entender el cambio de color de la fuente emisora con la tempertura."
   ]
  },
  {
   "cell_type": "markdown",
   "id": "441619f6",
   "metadata": {
    "slideshow": {
     "slide_type": "fragment"
    }
   },
   "source": [
    "Recordemos, sin embargo,  que **el color de un material no solo se define por la emisión de radiación, sino también por la forma en la que interactúa con la luz incidente**. Como revisamos en las unidades anteriores, esta interacción está condionada por las propiedades radiativas."
   ]
  },
  {
   "cell_type": "markdown",
   "id": "da43fbee",
   "metadata": {
    "slideshow": {
     "slide_type": "slide"
    }
   },
   "source": [
    "### Propiedades Radiativas\n",
    "\n",
    "Definimos como **emisividad direccional espectral, $\\epsilon_{\\lambda,\\Omega}$,** a la *razón entre la radiación emitida por una superficie, $I_\\lambda(\\lambda,T,\\Omega)$, y la radiación emitida por un cuerpo negro, ambas a temperatura $T$*:\n",
    "\n",
    "\\begin{equation}\n",
    "\\epsilon_{\\lambda,\\Omega} = \\frac{I_\\lambda(\\lambda,T,\\Omega)}{I_{\\mathrm{bb},\\lambda}(\\lambda,T,\\Omega)}\n",
    "\\end{equation}\n",
    "\n",
    "De esta forma, $\\epsilon$ es una propiedad adimensional de superfice que varía entre $0 \\le \\epsilon \\le 1$."
   ]
  },
  {
   "cell_type": "markdown",
   "id": "819d0302",
   "metadata": {
    "slideshow": {
     "slide_type": "fragment"
    }
   },
   "source": [
    "Definimos como **absortividad direccional espectral, $A_{\\lambda,\\Omega}$,** a la *porción de radiación incidente que es absorbida por una superficie*. Igualmente, $0 \\le \\alpha \\le 1$."
   ]
  },
  {
   "cell_type": "markdown",
   "id": "64a21ba8",
   "metadata": {
    "slideshow": {
     "slide_type": "slide"
    }
   },
   "source": [
    "A través de la **ley de Kirchhoff**, podemos establecer una relación entre la absortancia y emisividad espectral direccional:\n",
    "\n",
    "\\begin{equation}\n",
    "\\epsilon_{\\lambda,\\Omega} = A_{\\lambda,\\Omega}\n",
    "\\end{equation}"
   ]
  },
  {
   "cell_type": "markdown",
   "id": "5dd135bb",
   "metadata": {
    "slideshow": {
     "slide_type": "fragment"
    }
   },
   "source": [
    "En otras palabras, las propiedades de un material como receptor o emisor de radiación, son iguales. Este concepto, denominado *reciprocidad*, es consecuencia de las ecuaciones de Maxwell y es la base fundamental para el diseño de antenas y radares."
   ]
  },
  {
   "cell_type": "markdown",
   "id": "1f3f624f",
   "metadata": {
    "slideshow": {
     "slide_type": "slide"
    }
   },
   "source": [
    "Por conservación de energía:\n",
    "\\begin{equation}\n",
    "A_{\\lambda,\\Omega} + R_{\\lambda,\\Omega} + T_{\\lambda,\\Omega} = 1\n",
    "\\end{equation}\n"
   ]
  },
  {
   "cell_type": "markdown",
   "id": "c03d9fac",
   "metadata": {
    "slideshow": {
     "slide_type": "fragment"
    }
   },
   "source": [
    "donde $R_{\\lambda,\\Omega}$ y $T_{\\lambda,\\Omega}$ son, respectivamente, la reflectividad y transmisividad espectral direccional del material"
   ]
  },
  {
   "cell_type": "markdown",
   "id": "d93dacf1",
   "metadata": {
    "slideshow": {
     "slide_type": "fragment"
    }
   },
   "source": [
    "Debido a la naturaleza de la radiación térmica, la polarización de las ondas electromagnéticas es aleatoria. Así, $R_{\\lambda,\\Omega}$ y $T_{\\lambda,\\Omega}$ se calculan como:\n",
    "\n",
    "\\begin{equation}\n",
    "R_{\\lambda,\\Omega} = \\frac{R_{\\lambda,\\Omega}^\\mathrm{TM}+R_{\\lambda,\\Omega}^\\mathrm{TE}}{2}\\quad\\quad\n",
    "T_{\\lambda,\\Omega} = \\frac{T_{\\lambda,\\Omega}^\\mathrm{TM}+T_{\\lambda,\\Omega}^\\mathrm{TE}}{2}\n",
    "\\end{equation}"
   ]
  },
  {
   "cell_type": "markdown",
   "id": "1b34032f",
   "metadata": {
    "slideshow": {
     "slide_type": "fragment"
    }
   },
   "source": [
    "A partir de estas relaciones podemos determinar $\\epsilon_{\\lambda,\\Omega}$."
   ]
  },
  {
   "cell_type": "markdown",
   "id": "048661b3",
   "metadata": {
    "slideshow": {
     "slide_type": "slide"
    }
   },
   "source": [
    "Cabe mencionar que en textos de radiometría y transferencia de calor, la reflectividad y transmisividad se denominan, respectivamente, **reflectancia ($\\rho$)**, **transmitancia ($\\tau$).** Igualmente la absortividad se denomina **absortancia ($\\alpha$).** Ambos términos son equivalentes."
   ]
  },
  {
   "cell_type": "markdown",
   "id": "51fbf681",
   "metadata": {
    "slideshow": {
     "slide_type": "fragment"
    }
   },
   "source": [
    "En este curso, seguiremos utilizando los términos y notación de óptica, es decir $R_{\\lambda,\\Omega}$, $T_{\\lambda,\\Omega}$ y $A_{\\lambda,\\Omega}$, para evitar confusiones. "
   ]
  },
  {
   "cell_type": "markdown",
   "id": "4d61c797",
   "metadata": {
    "slideshow": {
     "slide_type": "slide"
    }
   },
   "source": [
    "Como ejemplo, analicemos el poder de emisión espectral direccional, $E_{\\lambda,\\Omega}(T)$ y la emisividad $\\epsilon(\\lambda,\\Omega)$ de una capa de vidrio en función de la temperatura ($T$), espesor ($d$) y dirección ($\\theta$). En este caso: \n",
    "\n",
    "\\begin{align*}\n",
    "E_{\\lambda,\\Omega}(T) &= \\epsilon(\\lambda,\\Omega)I_{\\mathrm{bb},\\lambda}(\\lambda,\\Omega,T)\\cos\\theta \\\\[10pt]\n",
    " &= \\left[1 - R_{\\lambda,\\Omega} - T_{\\lambda,\\Omega}\\right]I_{\\mathrm{bb},\\lambda}(\\lambda,\\Omega,T)\\cos\\theta\n",
    "\\end{align*}"
   ]
  },
  {
   "cell_type": "markdown",
   "id": "e04ec37d",
   "metadata": {
    "slideshow": {
     "slide_type": "slide"
    }
   },
   "source": [
    "Antes, analicemos el índice de refracción del vidrio (sílicice, SiO$_2$), en el espectro $\\lambda\\in[0.3,15]$ $\\mu$m."
   ]
  },
  {
   "cell_type": "code",
   "execution_count": 1,
   "id": "e34559d2",
   "metadata": {
    "cell_style": "split",
    "slideshow": {
     "slide_type": "fragment"
    }
   },
   "outputs": [],
   "source": [
    "%%capture showplot\n",
    "import numpy as np\n",
    "import empylib.nklib as nk\n",
    "import matplotlib.pyplot as plt\n",
    "\n",
    "plt.rcParams['font.size'] = '18' # tamaño de fuente\n",
    "\n",
    "lam = np.linspace(0.3,15,100)\n",
    "plt.plot(lam,nk.SiO2(lam).real,'-r',label='$n$')\n",
    "plt.plot(lam,nk.SiO2(lam).imag,'-b',label='$\\kappa$')\n",
    "plt.xlabel('Longitud de onda, $\\lambda$ ($\\mu$m)',fontsize=16)\n",
    "plt.ylabel('$n$, $\\kappa$',fontsize=16)\n",
    "plt.title('Índice de refracción SiO$_2$')\n",
    "plt.legend(frameon=False)"
   ]
  },
  {
   "cell_type": "code",
   "execution_count": 2,
   "id": "20435072",
   "metadata": {
    "cell_style": "split"
   },
   "outputs": [
    {
     "data": {
      "text/plain": [
       "<matplotlib.legend.Legend at 0x7f4e53f51c10>"
      ]
     },
     "metadata": {},
     "output_type": "display_data"
    },
    {
     "data": {
      "image/png": "[encoded data removed]",
      "text/plain": [
       "<Figure size 432x288 with 1 Axes>"
      ]
     },
     "metadata": {
      "filenames": {
       "image/png": "/mnt/d/OneDrive - Universidad Adolfo Ibanez/Teaching_courses/Manejo_y_Conversion_Energia_Solar_Termica/material_catedra/_build/jupyter_execute/6_RadiacionTermica/6_RadiacionTermica_63_1.png"
      },
      "needs_background": "light"
     },
     "output_type": "display_data"
    }
   ],
   "source": [
    "showplot()"
   ]
  },
  {
   "cell_type": "markdown",
   "id": "89749a31",
   "metadata": {
    "slideshow": {
     "slide_type": "fragment"
    }
   },
   "source": [
    "Comparamos $E_{\\lambda,\\Omega}(T)$ con el poder de emisión espectral direccional del cuerpo negro, $E_{\\mathrm{bb},\\lambda,\\Omega} = I_{\\mathrm{bb},\\lambda}\\cos\\theta$"
   ]
  },
  {
   "cell_type": "code",
   "execution_count": 3,
   "id": "f24c88be",
   "metadata": {
    "slideshow": {
     "slide_type": "slide"
    }
   },
   "outputs": [],
   "source": [
    "import empylib.waveoptics as wv\n",
    "import empylib.nklib as nk\n",
    "import numpy as np\n",
    "from numpy import log10, radians\n",
    "import matplotlib.pyplot as plt\n",
    "from empylib.ref_spectra import Bplanck\n",
    "\n",
    "def plot_emisivity_glass(Temp,d,lam0,theta0):\n",
    "    # parámetros de entrada\n",
    "    \n",
    "    lam = np.linspace(0.3,15,100)\n",
    "    Nfront = 1.0                 # índice de refracción medio superior\n",
    "    N1     = nk.SiO2(lam)        # índice de refracción capa intermedia\n",
    "    Nback  = 4.3                 # índice de refracción medio inferior\n",
    "    N = (Nfront, N1, Nback)      # indices de refracción (above, mid, below)\n",
    "\n",
    "    # Reflectancia y transmitancia espectral en theta0\n",
    "    Rs, Ts = wv.incoh_multilayer(lam,radians(theta0), N, d*1E3, pol='TM')\n",
    "    Rp, Tp = wv.incoh_multilayer(lam,radians(theta0), N, d*1E3, pol='TM')\n",
    "    \n",
    "    R_lam = (Rs + Rp)/2\n",
    "    T_lam = (Ts + Tp)/2\n",
    "    A_lam = 1 - T_lam - R_lam\n",
    "    \n",
    "   # Reflectancia y transmitancia direccional en lam0\n",
    "    theta = np.linspace(0,90,100)\n",
    "    N = (Nfront, np.interp(lam0,lam,N1), Nback)      # indices de refracción (above, mid, below)\n",
    "    A_theta = [] # lista vacía\n",
    "    for theta_i in theta:\n",
    "        Rs, Ts = wv.incoh_multilayer(lam0,radians(theta_i), N, d*1E3, pol='TM')\n",
    "        Rp, Tp = wv.incoh_multilayer(lam0,radians(theta_i), N, d*1E3, pol='TM')\n",
    "        R = (Rs + Rp)/2\n",
    "        T = (Ts + Tp)/2\n",
    "        A_theta.append(1 - T - R)\n",
    "    A_theta = np.array(A_theta).flatten() # convertimos la lista a ndarray\n",
    "\n",
    "    fig, ax = plt.subplots(1,3)\n",
    "    fig.set_size_inches(16, 5)\n",
    "    \n",
    "    # graficamos las propiedades radiativas espectrales\n",
    "    ax[0].plot(lam,R_lam,'--r',label=r'$R_{\\lambda,\\Omega}$',linewidth=0.5)\n",
    "    ax[0].plot(lam,T_lam,'--b',label=r'$T_{\\lambda,\\Omega}$',linewidth=0.5)\n",
    "    ax[0].plot(lam,A_lam,'-k',label=r'$A_{\\lambda,\\Omega}$',linewidth=2.0)  \n",
    "    ax[0].plot(lam0,np.interp(lam0,lam,A_lam),'or',ms=8.0)   \n",
    "    ax[0].set_xlabel('$\\lambda$ ($\\mu$m)',fontsize=18)\n",
    "    ax[0].set_ylabel(r'$R_{\\lambda,\\Omega}$, $T_{\\lambda,\\Omega}$ y $A_{\\lambda,\\Omega}$',fontsize=18)\n",
    "    ax[0].set_ylim(0,1.05)\n",
    "    ax[0].set_title(r'$\\theta = $ %i°' % theta0,fontsize=18)\n",
    "    ax[0].legend()\n",
    "    \n",
    "    # graficamos la emisividad espectral en el ángulo\n",
    "    ax[1].plot(theta,A_theta,'-k')  \n",
    "    ax[1].plot(theta0,np.interp(theta0,theta,A_theta),'or',ms=8.0)   \n",
    "    ax[1].set_xlabel(r'$\\theta$ (deg)',fontsize=18)\n",
    "    ax[1].set_ylabel(r'$\\epsilon_{\\lambda,\\Omega}(\\theta)$',fontsize=18)\n",
    "    ax[1].set_title(r'$\\lambda = $ %.2f $\\mu$m' % lam0,fontsize=18)\n",
    "    ax[1].set_ylim(0,1.05)\n",
    "    \n",
    "    # Graficamos la radiación espectral\n",
    "    E_lam = A_lam*Bplanck(lam,Temp)*np.cos(np.radians(theta0)) # poder de emisión material\n",
    "    E_bb = Bplanck(lam,Temp)*np.cos(np.radians(theta0))        # poder de emisión de cuerpo negro\n",
    "    ax[2].plot(lam,E_lam,'-k',label =r'$E_{\\lambda,\\Omega}$')\n",
    "    ax[2].plot(lam,E_bb,'-r',label =r'$E_\\mathrm{bb}$') \n",
    "    ax[2].plot(lam0,np.interp(lam0,lam,E_lam),'or',ms=8.0)   \n",
    "    ax[2].set_xlabel('Longitud de onda ($\\mu$m)',fontsize=18)\n",
    "    ax[2].set_ylabel(r'$E_{\\lambda,\\Omega}$(T) (W/m$^2$-$\\mu$m-sr)',fontsize=18)\n",
    "    ax[2].set_title(r'd = %.2f mm, $\\theta$=%i°' % (d,theta0) ,fontsize=18)\n",
    "    ax[2].set_ylim(0,max(Bplanck(lam,Temp))*1.05)\n",
    "    ax[2].legend()\n",
    "    \n",
    "    plt.subplots_adjust(wspace=0.30)\n",
    "    plt.show()"
   ]
  },
  {
   "cell_type": "code",
   "execution_count": 4,
   "id": "8e3af1c4",
   "metadata": {
    "slideshow": {
     "slide_type": "slide"
    }
   },
   "outputs": [
    {
     "data": {
      "application/vnd.jupyter.widget-view+json": {
       "model_id": "38c8cecac1fe40f4bb831e991b527611",
       "version_major": 2,
       "version_minor": 0
      },
      "text/plain": [
       "interactive(children=(IntSlider(value=300, description='T', max=1000, min=300, step=10), FloatSlider(value=1.0…"
      ]
     },
     "metadata": {},
     "output_type": "display_data"
    }
   ],
   "source": [
    " from ipywidgets import interact\n",
    "\n",
    "@interact(T=(300,1000,10), d=(0,10,0.01), lam0=(5,10,0.01), theta0=(0,90,1))\n",
    "def g(T=300,d=1, lam0=10, theta0=0):\n",
    "    return plot_emisivity_glass(T,d,lam0,theta0)"
   ]
  },
  {
   "cell_type": "markdown",
   "id": "1071c1d3",
   "metadata": {
    "slideshow": {
     "slide_type": "slide"
    }
   },
   "source": [
    "Al igual que con el poder de emisión, la emisividad puede también ser definida de forma hemisférica (integración por ángulo sólido) o total (integración por longitudes de onda)"
   ]
  },
  {
   "cell_type": "markdown",
   "id": "67f1a8ba",
   "metadata": {
    "slideshow": {
     "slide_type": "fragment"
    }
   },
   "source": [
    "**Emisividad direccional total**\n",
    "\\begin{equation}\n",
    "\\epsilon_\\Omega(\\Omega,T) = \\frac{E_\\Omega(T)}{E_{\\Omega,bb}(T)} =\\frac{\\int_0^\\infty \\epsilon_{\\lambda,\\Omega} I_{\\mathrm{bb},\\lambda} (T)\\cos\\theta~d\\lambda}{\\int_0^\\infty I_{\\mathrm{bb},\\lambda} (T)\\cos\\theta~d\\lambda} = \\frac{\\pi}{\\sigma T^4}\\int_0^\\infty \\epsilon_{\\lambda,\\Omega} I_{\\mathrm{bb},\\lambda} (T)~d\\lambda\n",
    "\\end{equation}"
   ]
  },
  {
   "cell_type": "markdown",
   "id": "6e8b85fd",
   "metadata": {
    "slideshow": {
     "slide_type": "fragment"
    }
   },
   "source": [
    "**Emisividad hemisférica espectral**\n",
    "\\begin{equation}\n",
    "\\epsilon_\\lambda(\\lambda) = \\frac{E_\\lambda(T)}{E_{\\lambda,bb}(T)} = \\frac{\\int_\\mathrm{hemi}\\epsilon_{\\lambda,\\Omega}I_{\\mathrm{bb},\\lambda}(T)\\cos\\theta~d\\Omega}{\\pi I_{\\mathrm{bb},\\lambda}(T)}  = \\frac{1}{\\pi}\\int_\\mathrm{hemi}\\epsilon_{\\lambda,\\Omega}\\cos\\theta~d\\Omega\n",
    "\\end{equation}"
   ]
  },
  {
   "cell_type": "markdown",
   "id": "7af36cfb",
   "metadata": {
    "slideshow": {
     "slide_type": "fragment"
    }
   },
   "source": [
    "**Emisividad hemisférica total**\n",
    "\\begin{equation}\n",
    "\\epsilon(T) = \\frac{E(T)}{\\sigma T^4} =\\frac{1}{\\sigma T^4}\\int\\int_0^\\infty \\epsilon_{\\lambda,\\Omega} I_{\\mathrm{bb},\\lambda} (T)\\cos\\theta~d\\lambda~d\\Omega\n",
    "\\end{equation}"
   ]
  },
  {
   "cell_type": "markdown",
   "id": "041e5c23",
   "metadata": {
    "slideshow": {
     "slide_type": "slide"
    }
   },
   "source": [
    "Notar que las valores totatles (integración en el espectro), implícitamente dependen de $T$ debido al factor $\\sigma T^4$."
   ]
  },
  {
   "cell_type": "markdown",
   "id": "42cb2a6f",
   "metadata": {
    "slideshow": {
     "slide_type": "slide"
    }
   },
   "source": [
    "### Materiales idealizados"
   ]
  },
  {
   "cell_type": "markdown",
   "id": "250a53e9",
   "metadata": {
    "slideshow": {
     "slide_type": "fragment"
    }
   },
   "source": [
    "- Decimos que una superficie es **difusa** cuando sus propiedades radiativas no dependen de $\\Omega$. Es práctica común suponer que las superficies son emisores difusos, con una emisividad igual al valor de la dirección normal ($\\theta = 0$)."
   ]
  },
  {
   "cell_type": "markdown",
   "id": "61822fca",
   "metadata": {
    "slideshow": {
     "slide_type": "fragment"
    }
   },
   "source": [
    "- Decimos que una superficie es **gris** cuando la emisividad es independiente de $\\lambda$."
   ]
  },
  {
   "cell_type": "markdown",
   "id": "55b28916",
   "metadata": {
    "slideshow": {
     "slide_type": "fragment"
    }
   },
   "source": [
    "- Decimos que una superficie es **opaca** cuando $T_{\\lambda,\\Omega} = 0$. En este caso, \n",
    "tenemos $A_{\\lambda,\\Omega} + R_{\\lambda,\\Omega} = 1$"
   ]
  },
  {
   "cell_type": "markdown",
   "id": "0107051b",
   "metadata": {
    "slideshow": {
     "slide_type": "fragment"
    }
   },
   "source": [
    "- En el caso de **gases**, $R_{\\lambda,\\Omega} \\approx 0$, así $A_{\\lambda,\\Omega} + T_{\\lambda,\\Omega} = 1$"
   ]
  },
  {
   "cell_type": "markdown",
   "id": "4a494870",
   "metadata": {
    "slideshow": {
     "slide_type": "slide"
    }
   },
   "source": [
    "### Irradiancia (G) y Radiosidad (J)"
   ]
  },
  {
   "cell_type": "markdown",
   "id": "fbc52f8b",
   "metadata": {
    "cell_style": "split",
    "slideshow": {
     "slide_type": "fragment"
    }
   },
   "source": [
    "Definimos como **irradiación espectral direccional, $G_{\\lambda,\\Omega}$** a la radiancia espectral incidente en una superficie.\n",
    "\n",
    "<img src=\"./images/irradiance.png\" width=\"300px\" align= center>"
   ]
  },
  {
   "cell_type": "markdown",
   "id": "ee20e9bd",
   "metadata": {
    "cell_style": "split",
    "slideshow": {
     "slide_type": "fragment"
    }
   },
   "source": [
    "Matématicamente:\n",
    "\n",
    "\\begin{equation}\n",
    "G_{\\lambda,\\Omega} = I_i(\\lambda,\\Omega) \\cos\\theta\\quad\\frac{\\mathrm{W}}{\\mathrm{m}^2}\n",
    "\\end{equation}\n",
    "\n",
    "donde $I_i$ es la radiancia espectral incidente sobre una superficie $dA$"
   ]
  },
  {
   "cell_type": "markdown",
   "id": "04ee6eb9",
   "metadata": {
    "slideshow": {
     "slide_type": "slide"
    }
   },
   "source": [
    "Definimos como **radiosidad, $J_{\\lambda,\\Omega}$** a la combinación de radiación emitida y reflejada por una superficie"
   ]
  },
  {
   "cell_type": "markdown",
   "id": "bae8d429",
   "metadata": {
    "cell_style": "split",
    "slideshow": {
     "slide_type": "-"
    }
   },
   "source": [
    "\n",
    "<img src=\"./images/radiosity.png\" width=\"250px\" align= center>"
   ]
  },
  {
   "cell_type": "markdown",
   "id": "23a0cca5",
   "metadata": {
    "cell_style": "split",
    "slideshow": {
     "slide_type": "fragment"
    }
   },
   "source": [
    "Matemáticamente:\n",
    "\\begin{equation}\n",
    "J_{\\lambda,\\Omega} = R_{\\lambda,\\Omega}G_{\\lambda,\\Omega}+E_{\\lambda,\\Omega}\n",
    "\\end{equation}"
   ]
  },
  {
   "cell_type": "markdown",
   "id": "0fc1336c",
   "metadata": {
    "slideshow": {
     "slide_type": "fragment"
    }
   },
   "source": [
    "Al igual que con el poder de emisión, la irradiancia ($G_{\\lambda,\\Omega}$) y la radiosidad ($J_{\\lambda,\\Omega}$) pueden ser definidas de forma hemisférica (integrando por ángulo sólido) o total (integrando por longitud de onda)."
   ]
  },
  {
   "cell_type": "markdown",
   "id": "17c1dc23",
   "metadata": {
    "slideshow": {
     "slide_type": "slide"
    }
   },
   "source": [
    "## Referencias\n",
    "- Çengel Y. A y Ghanjar A. J. **Capítulo 12 - Fundamentos de la radiación térmica** en *Transferencia de calor y masa*, 4ta Ed, McGraw Hill, 2011"
   ]
  },
  {
   "cell_type": "code",
   "execution_count": 5,
   "id": "6e0a420c",
   "metadata": {},
   "outputs": [
    {
     "data": {
      "image/jpeg": "[encoded data removed]",
      "text/html": [
       "\n",
       "<iframe\n",
       "    width=\"600\"\n",
       "    height=\"400\"\n",
       "    src=\"https://www.youtube.com/embed/FDmYCI_xYlA?playsinline=0\"\n",
       "    frameborder=\"0\"\n",
       "    allowfullscreen\n",
       "\n",
       "></iframe>\n"
      ],
      "text/plain": [
       "<IPython.lib.display.YouTubeVideo at 0x7f4e53db8a00>"
      ]
     },
     "execution_count": 5,
     "metadata": {
      "filenames": {
       "image/jpeg": "/mnt/d/OneDrive - Universidad Adolfo Ibanez/Teaching_courses/Manejo_y_Conversion_Energia_Solar_Termica/material_catedra/_build/jupyter_execute/6_RadiacionTermica/6_RadiacionTermica_85_0.jpg"
      }
     },
     "output_type": "execute_result"
    }
   ],
   "source": [
    "from IPython.display import YouTubeVideo\n",
    "YouTubeVideo('FDmYCI_xYlA', width=600, height=400,  playsinline=0)"
   ]
  }
 ],
 "metadata": {
  "celltoolbar": "Slideshow",
  "kernelspec": {
   "display_name": "Python 3 (ipykernel)",
   "language": "python",
   "name": "python3"
  },
  "language_info": {
   "codemirror_mode": {
    "name": "ipython",
    "version": 3
   },
   "file_extension": ".py",
   "mimetype": "text/x-python",
   "name": "python",
   "nbconvert_exporter": "python",
   "pygments_lexer": "ipython3",
   "version": "3.9.13"
  },
  "latex_envs": {
   "LaTeX_envs_menu_present": false,
   "autoclose": false,
   "autocomplete": false,
   "bibliofile": "biblio.bib",
   "cite_by": "apalike",
   "current_citInitial": 1,
   "eqLabelWithNumbers": true,
   "eqNumInitial": 1,
   "hotkeys": {
    "equation": "Ctrl-E",
    "itemize": "Ctrl-I"
   },
   "labels_anchors": false,
   "latex_user_defs": false,
   "report_style_numbering": false,
   "user_envs_cfg": true
  },
  "toc": {
   "base_numbering": 1,
   "nav_menu": {},
   "number_sections": true,
   "sideBar": true,
   "skip_h1_title": true,
   "title_cell": "Tabla de contenidos",
   "title_sidebar": "Contenidos",
   "toc_cell": false,
   "toc_position": {
    "height": "calc(100% - 180px)",
    "left": "10px",
    "top": "150px",
    "width": "307.2px"
   },
   "toc_section_display": true,
   "toc_window_display": false
  },
  "varInspector": {
   "cols": {
    "lenName": 16,
    "lenType": 16,
    "lenVar": 40
   },
   "kernels_config": {
    "python": {
     "delete_cmd_postfix": "",
     "delete_cmd_prefix": "del ",
     "library": "var_list.py",
     "varRefreshCmd": "print(var_dic_list())"
    },
    "r": {
     "delete_cmd_postfix": ") ",
     "delete_cmd_prefix": "rm(",
     "library": "var_list.r",
     "varRefreshCmd": "cat(var_dic_list()) "
    }
   },
   "types_to_exclude": [
    "module",
    "function",
    "builtin_function_or_method",
    "instance",
    "_Feature"
   ],
   "window_display": false
  },
  "widgets": {
   "application/vnd.jupyter.widget-state+json": {
    "state": {
     "333a7712bc6d4fc38ef0400ae044f180": {
      "model_module": "@jupyter-widgets/controls",
      "model_module_version": "1.5.0",
      "model_name": "SliderStyleModel",
      "state": {
       "_model_module": "@jupyter-widgets/controls",
       "_model_module_version": "1.5.0",
       "_model_name": "SliderStyleModel",
       "_view_count": null,
       "_view_module": "@jupyter-widgets/base",
       "_view_module_version": "1.2.0",
       "_view_name": "StyleView",
       "description_width": "",
       "handle_color": null
      }
     },
     "36ed7ebf46a141e888401570c755a4ed": {
      "model_module": "@jupyter-widgets/controls",
      "model_module_version": "1.5.0",
      "model_name": "SliderStyleModel",
      "state": {
       "_model_module": "@jupyter-widgets/controls",
       "_model_module_version": "1.5.0",
       "_model_name": "SliderStyleModel",
       "_view_count": null,
       "_view_module": "@jupyter-widgets/base",
       "_view_module_version": "1.2.0",
       "_view_name": "StyleView",
       "description_width": "",
       "handle_color": null
      }
     },
     "38c8cecac1fe40f4bb831e991b527611": {
      "model_module": "@jupyter-widgets/controls",
      "model_module_version": "1.5.0",
      "model_name": "VBoxModel",
      "state": {
       "_dom_classes": [
        "widget-interact"
       ],
       "_model_module": "@jupyter-widgets/controls",
       "_model_module_version": "1.5.0",
       "_model_name": "VBoxModel",
       "_view_count": null,
       "_view_module": "@jupyter-widgets/controls",
       "_view_module_version": "1.5.0",
       "_view_name": "VBoxView",
       "box_style": "",
       "children": [
        "IPY_MODEL_d6bb1bfc9900485ba28deae5d772cdc0",
        "IPY_MODEL_85dc63f37233447ea74b7fe5ac406aed",
        "IPY_MODEL_b0b71dac9016402a82dc4e2bebbb905d",
        "IPY_MODEL_6db733071d5d44e08f13004368403d4d",
        "IPY_MODEL_851252914303453898d8d3ef1178e6f6"
       ],
       "layout": "IPY_MODEL_5fe961fcb1cf452c94d7c8b23f335f41"
      }
     },
     "5fe961fcb1cf452c94d7c8b23f335f41": {
      "model_module": "@jupyter-widgets/base",
      "model_module_version": "1.2.0",
      "model_name": "LayoutModel",
      "state": {
       "_model_module": "@jupyter-widgets/base",
       "_model_module_version": "1.2.0",
       "_model_name": "LayoutModel",
       "_view_count": null,
       "_view_module": "@jupyter-widgets/base",
       "_view_module_version": "1.2.0",
       "_view_name": "LayoutView",
       "align_content": null,
       "align_items": null,
       "align_self": null,
       "border": null,
       "bottom": null,
       "display": null,
       "flex": null,
       "flex_flow": null,
       "grid_area": null,
       "grid_auto_columns": null,
       "grid_auto_flow": null,
       "grid_auto_rows": null,
       "grid_column": null,
       "grid_gap": null,
       "grid_row": null,
       "grid_template_areas": null,
       "grid_template_columns": null,
       "grid_template_rows": null,
       "height": null,
       "justify_content": null,
       "justify_items": null,
       "left": null,
       "margin": null,
       "max_height": null,
       "max_width": null,
       "min_height": null,
       "min_width": null,
       "object_fit": null,
       "object_position": null,
       "order": null,
       "overflow": null,
       "overflow_x": null,
       "overflow_y": null,
       "padding": null,
       "right": null,
       "top": null,
       "visibility": null,
       "width": null
      }
     },
     "6db733071d5d44e08f13004368403d4d": {
      "model_module": "@jupyter-widgets/controls",
      "model_module_version": "1.5.0",
      "model_name": "IntSliderModel",
      "state": {
       "_dom_classes": [],
       "_model_module": "@jupyter-widgets/controls",
       "_model_module_version": "1.5.0",
       "_model_name": "IntSliderModel",
       "_view_count": null,
       "_view_module": "@jupyter-widgets/controls",
       "_view_module_version": "1.5.0",
       "_view_name": "IntSliderView",
       "continuous_update": true,
       "description": "theta0",
       "description_tooltip": null,
       "disabled": false,
       "layout": "IPY_MODEL_9f0c2f6307b844bf8698130b0dd99667",
       "max": 90,
       "min": 0,
       "orientation": "horizontal",
       "readout": true,
       "readout_format": "d",
       "step": 1,
       "style": "IPY_MODEL_333a7712bc6d4fc38ef0400ae044f180",
       "value": 0
      }
     },
     "84775ef9801a4b8aaeba5c7eea374d07": {
      "model_module": "@jupyter-widgets/base",
      "model_module_version": "1.2.0",
      "model_name": "LayoutModel",
      "state": {
       "_model_module": "@jupyter-widgets/base",
       "_model_module_version": "1.2.0",
       "_model_name": "LayoutModel",
       "_view_count": null,
       "_view_module": "@jupyter-widgets/base",
       "_view_module_version": "1.2.0",
       "_view_name": "LayoutView",
       "align_content": null,
       "align_items": null,
       "align_self": null,
       "border": null,
       "bottom": null,
       "display": null,
       "flex": null,
       "flex_flow": null,
       "grid_area": null,
       "grid_auto_columns": null,
       "grid_auto_flow": null,
       "grid_auto_rows": null,
       "grid_column": null,
       "grid_gap": null,
       "grid_row": null,
       "grid_template_areas": null,
       "grid_template_columns": null,
       "grid_template_rows": null,
       "height": null,
       "justify_content": null,
       "justify_items": null,
       "left": null,
       "margin": null,
       "max_height": null,
       "max_width": null,
       "min_height": null,
       "min_width": null,
       "object_fit": null,
       "object_position": null,
       "order": null,
       "overflow": null,
       "overflow_x": null,
       "overflow_y": null,
       "padding": null,
       "right": null,
       "top": null,
       "visibility": null,
       "width": null
      }
     },
     "851252914303453898d8d3ef1178e6f6": {
      "model_module": "@jupyter-widgets/output",
      "model_module_version": "1.0.0",
      "model_name": "OutputModel",
      "state": {
       "_dom_classes": [],
       "_model_module": "@jupyter-widgets/output",
       "_model_module_version": "1.0.0",
       "_model_name": "OutputModel",
       "_view_count": null,
       "_view_module": "@jupyter-widgets/output",
       "_view_module_version": "1.0.0",
       "_view_name": "OutputView",
       "layout": "IPY_MODEL_e95a8305eafd402eb6bb420f0ed4975b",
       "msg_id": "",
       "outputs": [
        {
         "data": {
          "image/png": "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\n",
          "text/plain": "<Figure size 1152x360 with 3 Axes>"
         },
         "metadata": {
          "needs_background": "light"
         },
         "output_type": "display_data"
        }
       ]
      }
     },
     "85dc63f37233447ea74b7fe5ac406aed": {
      "model_module": "@jupyter-widgets/controls",
      "model_module_version": "1.5.0",
      "model_name": "FloatSliderModel",
      "state": {
       "_dom_classes": [],
       "_model_module": "@jupyter-widgets/controls",
       "_model_module_version": "1.5.0",
       "_model_name": "FloatSliderModel",
       "_view_count": null,
       "_view_module": "@jupyter-widgets/controls",
       "_view_module_version": "1.5.0",
       "_view_name": "FloatSliderView",
       "continuous_update": true,
       "description": "d",
       "description_tooltip": null,
       "disabled": false,
       "layout": "IPY_MODEL_c8ccbab1083d41e59bcddf148d406582",
       "max": 10.0,
       "min": 0.0,
       "orientation": "horizontal",
       "readout": true,
       "readout_format": ".2f",
       "step": 0.01,
       "style": "IPY_MODEL_dbe07615e1f14fc99ee5e16105f594d5",
       "value": 1.0
      }
     },
     "9f0c2f6307b844bf8698130b0dd99667": {
      "model_module": "@jupyter-widgets/base",
      "model_module_version": "1.2.0",
      "model_name": "LayoutModel",
      "state": {
       "_model_module": "@jupyter-widgets/base",
       "_model_module_version": "1.2.0",
       "_model_name": "LayoutModel",
       "_view_count": null,
       "_view_module": "@jupyter-widgets/base",
       "_view_module_version": "1.2.0",
       "_view_name": "LayoutView",
       "align_content": null,
       "align_items": null,
       "align_self": null,
       "border": null,
       "bottom": null,
       "display": null,
       "flex": null,
       "flex_flow": null,
       "grid_area": null,
       "grid_auto_columns": null,
       "grid_auto_flow": null,
       "grid_auto_rows": null,
       "grid_column": null,
       "grid_gap": null,
       "grid_row": null,
       "grid_template_areas": null,
       "grid_template_columns": null,
       "grid_template_rows": null,
       "height": null,
       "justify_content": null,
       "justify_items": null,
       "left": null,
       "margin": null,
       "max_height": null,
       "max_width": null,
       "min_height": null,
       "min_width": null,
       "object_fit": null,
       "object_position": null,
       "order": null,
       "overflow": null,
       "overflow_x": null,
       "overflow_y": null,
       "padding": null,
       "right": null,
       "top": null,
       "visibility": null,
       "width": null
      }
     },
     "b0b71dac9016402a82dc4e2bebbb905d": {
      "model_module": "@jupyter-widgets/controls",
      "model_module_version": "1.5.0",
      "model_name": "FloatSliderModel",
      "state": {
       "_dom_classes": [],
       "_model_module": "@jupyter-widgets/controls",
       "_model_module_version": "1.5.0",
       "_model_name": "FloatSliderModel",
       "_view_count": null,
       "_view_module": "@jupyter-widgets/controls",
       "_view_module_version": "1.5.0",
       "_view_name": "FloatSliderView",
       "continuous_update": true,
       "description": "lam0",
       "description_tooltip": null,
       "disabled": false,
       "layout": "IPY_MODEL_cec8fb83b585447396ef7204fb5074bd",
       "max": 10.0,
       "min": 5.0,
       "orientation": "horizontal",
       "readout": true,
       "readout_format": ".2f",
       "step": 0.01,
       "style": "IPY_MODEL_c34bc0003ee6496e833f06bf904aad8e",
       "value": 10.0
      }
     },
     "c34bc0003ee6496e833f06bf904aad8e": {
      "model_module": "@jupyter-widgets/controls",
      "model_module_version": "1.5.0",
      "model_name": "SliderStyleModel",
      "state": {
       "_model_module": "@jupyter-widgets/controls",
       "_model_module_version": "1.5.0",
       "_model_name": "SliderStyleModel",
       "_view_count": null,
       "_view_module": "@jupyter-widgets/base",
       "_view_module_version": "1.2.0",
       "_view_name": "StyleView",
       "description_width": "",
       "handle_color": null
      }
     },
     "c8ccbab1083d41e59bcddf148d406582": {
      "model_module": "@jupyter-widgets/base",
      "model_module_version": "1.2.0",
      "model_name": "LayoutModel",
      "state": {
       "_model_module": "@jupyter-widgets/base",
       "_model_module_version": "1.2.0",
       "_model_name": "LayoutModel",
       "_view_count": null,
       "_view_module": "@jupyter-widgets/base",
       "_view_module_version": "1.2.0",
       "_view_name": "LayoutView",
       "align_content": null,
       "align_items": null,
       "align_self": null,
       "border": null,
       "bottom": null,
       "display": null,
       "flex": null,
       "flex_flow": null,
       "grid_area": null,
       "grid_auto_columns": null,
       "grid_auto_flow": null,
       "grid_auto_rows": null,
       "grid_column": null,
       "grid_gap": null,
       "grid_row": null,
       "grid_template_areas": null,
       "grid_template_columns": null,
       "grid_template_rows": null,
       "height": null,
       "justify_content": null,
       "justify_items": null,
       "left": null,
       "margin": null,
       "max_height": null,
       "max_width": null,
       "min_height": null,
       "min_width": null,
       "object_fit": null,
       "object_position": null,
       "order": null,
       "overflow": null,
       "overflow_x": null,
       "overflow_y": null,
       "padding": null,
       "right": null,
       "top": null,
       "visibility": null,
       "width": null
      }
     },
     "cec8fb83b585447396ef7204fb5074bd": {
      "model_module": "@jupyter-widgets/base",
      "model_module_version": "1.2.0",
      "model_name": "LayoutModel",
      "state": {
       "_model_module": "@jupyter-widgets/base",
       "_model_module_version": "1.2.0",
       "_model_name": "LayoutModel",
       "_view_count": null,
       "_view_module": "@jupyter-widgets/base",
       "_view_module_version": "1.2.0",
       "_view_name": "LayoutView",
       "align_content": null,
       "align_items": null,
       "align_self": null,
       "border": null,
       "bottom": null,
       "display": null,
       "flex": null,
       "flex_flow": null,
       "grid_area": null,
       "grid_auto_columns": null,
       "grid_auto_flow": null,
       "grid_auto_rows": null,
       "grid_column": null,
       "grid_gap": null,
       "grid_row": null,
       "grid_template_areas": null,
       "grid_template_columns": null,
       "grid_template_rows": null,
       "height": null,
       "justify_content": null,
       "justify_items": null,
       "left": null,
       "margin": null,
       "max_height": null,
       "max_width": null,
       "min_height": null,
       "min_width": null,
       "object_fit": null,
       "object_position": null,
       "order": null,
       "overflow": null,
       "overflow_x": null,
       "overflow_y": null,
       "padding": null,
       "right": null,
       "top": null,
       "visibility": null,
       "width": null
      }
     },
     "d6bb1bfc9900485ba28deae5d772cdc0": {
      "model_module": "@jupyter-widgets/controls",
      "model_module_version": "1.5.0",
      "model_name": "IntSliderModel",
      "state": {
       "_dom_classes": [],
       "_model_module": "@jupyter-widgets/controls",
       "_model_module_version": "1.5.0",
       "_model_name": "IntSliderModel",
       "_view_count": null,
       "_view_module": "@jupyter-widgets/controls",
       "_view_module_version": "1.5.0",
       "_view_name": "IntSliderView",
       "continuous_update": true,
       "description": "T",
       "description_tooltip": null,
       "disabled": false,
       "layout": "IPY_MODEL_84775ef9801a4b8aaeba5c7eea374d07",
       "max": 1000,
       "min": 300,
       "orientation": "horizontal",
       "readout": true,
       "readout_format": "d",
       "step": 10,
       "style": "IPY_MODEL_36ed7ebf46a141e888401570c755a4ed",
       "value": 300
      }
     },
     "dbe07615e1f14fc99ee5e16105f594d5": {
      "model_module": "@jupyter-widgets/controls",
      "model_module_version": "1.5.0",
      "model_name": "SliderStyleModel",
      "state": {
       "_model_module": "@jupyter-widgets/controls",
       "_model_module_version": "1.5.0",
       "_model_name": "SliderStyleModel",
       "_view_count": null,
       "_view_module": "@jupyter-widgets/base",
       "_view_module_version": "1.2.0",
       "_view_name": "StyleView",
       "description_width": "",
       "handle_color": null
      }
     },
     "e95a8305eafd402eb6bb420f0ed4975b": {
      "model_module": "@jupyter-widgets/base",
      "model_module_version": "1.2.0",
      "model_name": "LayoutModel",
      "state": {
       "_model_module": "@jupyter-widgets/base",
       "_model_module_version": "1.2.0",
       "_model_name": "LayoutModel",
       "_view_count": null,
       "_view_module": "@jupyter-widgets/base",
       "_view_module_version": "1.2.0",
       "_view_name": "LayoutView",
       "align_content": null,
       "align_items": null,
       "align_self": null,
       "border": null,
       "bottom": null,
       "display": null,
       "flex": null,
       "flex_flow": null,
       "grid_area": null,
       "grid_auto_columns": null,
       "grid_auto_flow": null,
       "grid_auto_rows": null,
       "grid_column": null,
       "grid_gap": null,
       "grid_row": null,
       "grid_template_areas": null,
       "grid_template_columns": null,
       "grid_template_rows": null,
       "height": null,
       "justify_content": null,
       "justify_items": null,
       "left": null,
       "margin": null,
       "max_height": null,
       "max_width": null,
       "min_height": null,
       "min_width": null,
       "object_fit": null,
       "object_position": null,
       "order": null,
       "overflow": null,
       "overflow_x": null,
       "overflow_y": null,
       "padding": null,
       "right": null,
       "top": null,
       "visibility": null,
       "width": null
      }
     }
    },
    "version_major": 2,
    "version_minor": 0
   }
  }
 },
 "nbformat": 4,
 "nbformat_minor": 5
}