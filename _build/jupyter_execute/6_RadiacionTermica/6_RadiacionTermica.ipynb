{
 "cells": [
  {
   "cell_type": "markdown",
   "id": "8b01ca79",
   "metadata": {
    "slideshow": {
     "slide_type": "slide"
    }
   },
   "source": [
    " <font size=\"6\">MEC501 - Manejo y Conversión de Energía Solar Térmica</font>\n",
    "# Radiación Térmica\n",
    "<br><br><br><br>\n",
    "Profesor: Francisco Ramírez Cuevas<br>\n",
    "Fecha: 30 de Septiembre 2022"
   ]
  },
  {
   "cell_type": "markdown",
   "id": "e21d64ae",
   "metadata": {
    "slideshow": {
     "slide_type": "slide"
    }
   },
   "source": [
    "## Introducción a la Transferencia de Calor\n",
    "A nivel molecular, los átomos que compomen la materia siempre está vibrando. La magnitud de estas vibraciones está caracterizada estadísticamente por la temperatura:"
   ]
  },
  {
   "cell_type": "markdown",
   "id": "35dd953b",
   "metadata": {},
   "source": [
    "<img src=\"./images/temperature_brownian_motion.gif\" width=\"400px\" align= center>"
   ]
  },
  {
   "cell_type": "markdown",
   "id": "7810d826",
   "metadata": {
    "cell_style": "center",
    "slideshow": {
     "slide_type": "slide"
    }
   },
   "source": [
    "Consideremos un sólido extendido con una diferencia de temperatura, $\\Delta T$, entre sus extremos, tal que el lado izquierdo tiene una mayor temperatura que el lado derecho"
   ]
  },
  {
   "cell_type": "markdown",
   "id": "5407e5b7",
   "metadata": {
    "cell_style": "split",
    "slideshow": {
     "slide_type": "fragment"
    }
   },
   "source": [
    "<img src=\"./images/heat_transfer.gif\" width=\"300px\" align= center>"
   ]
  },
  {
   "cell_type": "markdown",
   "id": "85b590b5",
   "metadata": {
    "cell_style": "split",
    "slideshow": {
     "slide_type": "fragment"
    }
   },
   "source": [
    "Debido a la diferencia de temperatura, la vibración molecular en el lado izquierdo es mayor. Esta energía cinética es transmitida a través del material hacia el lado derecho."
   ]
  },
  {
   "cell_type": "markdown",
   "id": "6f302797",
   "metadata": {
    "slideshow": {
     "slide_type": "slide"
    }
   },
   "source": [
    "Definimos como **calor**, $Q$, a la energía térmica intercambiada entre dos medios cuya diferencia de temperatura es $\\Delta T$. A mayor $\\Delta T$, mayor es el intercambio de calor, matematicamente: \n",
    "\n",
    "\\begin{equation*}\n",
    "Q \\propto \\Delta T,\\quad\\mathrm{J}\n",
    "\\end{equation*}\n",
    "\n"
   ]
  },
  {
   "cell_type": "markdown",
   "id": "05b934bc",
   "metadata": {
    "slideshow": {
     "slide_type": "fragment"
    }
   },
   "source": [
    "La **taza de transferencia de calor**:\n",
    "\\begin{equation*}\n",
    "\\dot{Q} = \\frac{dQ}{dt},\\quad\\mathrm{W}\n",
    "\\end{equation*}\n",
    "\n",
    "corresponde al calor tranferido por unidad de tiempo."
   ]
  },
  {
   "cell_type": "markdown",
   "id": "8aface27",
   "metadata": {
    "slideshow": {
     "slide_type": "fragment"
    }
   },
   "source": [
    "Por último, definimos como **flujo de calor**: \n",
    "\\begin{equation*}\n",
    "q'' = \\dot{Q}/A,\\quad\\frac{\\mathrm{W}}{\\mathrm{m}^2}\n",
    "\\end{equation*}\n",
    "a la taza de transferencia de calor por unidad de área."
   ]
  },
  {
   "cell_type": "markdown",
   "id": "2c634772",
   "metadata": {
    "cell_style": "split",
    "slideshow": {
     "slide_type": "slide"
    }
   },
   "source": [
    "Existen tres mecanismo de transferencia de calor:\n",
    "\n",
    "- Conducción de calor\n",
    "- Convección de calor\n",
    "- Radiación"
   ]
  },
  {
   "cell_type": "markdown",
   "id": "a3e69153",
   "metadata": {
    "cell_style": "split",
    "slideshow": {
     "slide_type": "-"
    }
   },
   "source": [
    "<img src=\"./images/heat_transfer_mechanism.png\" width=\"500px\" align= center>"
   ]
  },
  {
   "cell_type": "markdown",
   "id": "ccaa08be",
   "metadata": {
    "slideshow": {
     "slide_type": "slide"
    }
   },
   "source": [
    "### Conducción de Calor\n",
    "**Definimos como *conducción de calor* al calor transferido a través de un material en reposo**. El mecanismo generalmente se asocia a **sólidos**, donde el calor es transferido a travéz de la red atómica del material. Sin embargo, la definición también incluye **líquidos y gases en reposo.** En este caso, las moléculas se mueven eleatoriamente, de manera tal que la velocidad neta del fluido es cero."
   ]
  },
  {
   "cell_type": "markdown",
   "id": "183006ce",
   "metadata": {
    "slideshow": {
     "slide_type": "fragment"
    }
   },
   "source": [
    "Matemáticamente, para un material de espesor $t$ y diferencia de temperatura $\\Delta T$, la **taza de transferencia de calor por conducción** a través de una superficie $A$, es:\n",
    "\n",
    "<img src=\"./images/heat_conduction_formula.png\" width=\"700px\" align= center>"
   ]
  },
  {
   "cell_type": "markdown",
   "id": "4fdfda8b",
   "metadata": {
    "slideshow": {
     "slide_type": "slide"
    }
   },
   "source": [
    "La conductividad térmica, $k_c$, es una propiedad del material que varía según la temperatura.\n",
    "\n",
    "<img src=\"./images/thermal_conductivity.png\" width=\"800px\" align= center>"
   ]
  },
  {
   "cell_type": "markdown",
   "id": "be69080c",
   "metadata": {
    "slideshow": {
     "slide_type": "slide"
    }
   },
   "source": [
    "En su forma diferencial, $\\dot{Q}_\\mathrm{cond}= - k\\nabla T$, y para el caso unidimensional:\n",
    "\n",
    "\\begin{equation}\n",
    "\\dot{Q}_\\mathrm{cond} = - kA\\frac{dT}{dx},\\quad\\mathrm{W}\n",
    "\\end{equation}"
   ]
  },
  {
   "cell_type": "markdown",
   "id": "ac955652",
   "metadata": {
    "slideshow": {
     "slide_type": "fragment"
    }
   },
   "source": [
    "A partir de esta fórmula podemos deducir expresiones para taza de transferencia de calor por conducción según la geometría:"
   ]
  },
  {
   "cell_type": "markdown",
   "id": "ec4af943",
   "metadata": {},
   "source": [
    "<img src=\"./images/heat_conduction_resistance.png\" width=\"600px\" align= center>"
   ]
  },
  {
   "cell_type": "markdown",
   "id": "bb05f7de",
   "metadata": {
    "slideshow": {
     "slide_type": "slide"
    }
   },
   "source": [
    "Notar que, como fórmula general, podemos expresar la taza de conducción de calor en la forma:\n",
    "\n",
    "\\begin{equation*}\n",
    "\\dot{Q}_\\mathrm{cond} = \\frac{T_H - T_C}{R_\\mathrm{cond}},\\quad\\mathrm{W}\n",
    "\\end{equation*}\n",
    "\n",
    "donde, $R_\\mathrm{cond}$ (K/W) es la **resistencia térmica** asociada al mecanismo de conducción."
   ]
  },
  {
   "cell_type": "markdown",
   "id": "bbea9efd",
   "metadata": {
    "slideshow": {
     "slide_type": "slide"
    }
   },
   "source": [
    "### Convección de Calor\n",
    "**Definimos como *convección de calor* al calor transferido a través de fluidos en movimiento.** El movimiento de un fluido puede ocurrir naturalmente, debido a los efectos de flotación a raíz de los cambio de densidad con la temperatura; o de forma inducida, como por ejemplo mediante un ventilador."
   ]
  },
  {
   "cell_type": "markdown",
   "id": "2f11707d",
   "metadata": {
    "cell_style": "split",
    "slideshow": {
     "slide_type": "fragment"
    }
   },
   "source": [
    "A partir de esto, clasificamos la transferencia de calor por convección, respectivamente, como:\n",
    "- **convección natural**\n",
    "- **convección forzada**."
   ]
  },
  {
   "cell_type": "markdown",
   "id": "335e9cda",
   "metadata": {
    "cell_style": "split",
    "slideshow": {
     "slide_type": "fragment"
    }
   },
   "source": [
    "<img src=\"./images/heat_convection_mechanism.png\" width=\"300px\" align= center>"
   ]
  },
  {
   "cell_type": "markdown",
   "id": "a11782b3",
   "metadata": {
    "slideshow": {
     "slide_type": "slide"
    }
   },
   "source": [
    "La convección de calor esta asociada al contacto de fluidos con una superficie, $A$. Así, independiente del mecanismo de convección de calor (natural o forzada), expresamos la **taza de transferencia de calor por convección** como:\n",
    "\n",
    "<img src=\"./images/heat_convection_formula.png\" width=\"700px\" align= center>"
   ]
  },
  {
   "cell_type": "markdown",
   "id": "322fa067",
   "metadata": {},
   "source": [
    "Notar que la taza de transferencia de calor por convección puede ser expresada en la forma:\n",
    "\n",
    "\\begin{equation*}\n",
    "\\dot{Q}_\\mathrm{conv} = \\frac{T_\\infty - T}{R_\\mathrm{conv}},\\quad\\mathrm{W}\n",
    "\\end{equation*}\n",
    "\n",
    "donde $R_\\mathrm{conv}=1/hA$ es la resistencia térmica asociada a la convección de calor."
   ]
  },
  {
   "cell_type": "markdown",
   "id": "983b6ab0",
   "metadata": {
    "slideshow": {
     "slide_type": "slide"
    }
   },
   "source": [
    "A diferencia de la conducción de calor, el coeficiente convectivo, $h$, **no es una propiedad del fluido**. Esto porque no solo depende de las propiedades del fluido (densidad, viscocidad y conductividad térmica, entre otras), sino que además depende de condiciones externas, como la velocidad del flujo, la diferencia de temperaturas, y la geometría del cuerpó sometido a conveccción de calor."
   ]
  },
  {
   "cell_type": "markdown",
   "id": "608df105",
   "metadata": {
    "slideshow": {
     "slide_type": "fragment"
    }
   },
   "source": [
    "El coeficiente convectivo se determina a partir de relaciones expresadas en términos del número de Nusselt, $\\mathrm{Nu} = \\frac{hL_c}{k_f}$, donde $L_c$ es una longitud característica y $k_f$ es la conductividad térmica del fluido. En la mayoría de los casos, las relaciones para el número de Nusselt para cada caso se determinan experimentalmente."
   ]
  },
  {
   "cell_type": "markdown",
   "id": "f73fe75a",
   "metadata": {
    "slideshow": {
     "slide_type": "fragment"
    }
   },
   "source": [
    "Comúnmente, los valores para el número de Nusselt se encuentran dentro de los siguientes rangos:\n",
    "\n",
    "- Convección forzada, $\\mathrm{Nu} \\sim 5 - 1000 $\n",
    "- Convección natural, $\\mathrm{Nu} \\sim 0 - 100$"
   ]
  },
  {
   "cell_type": "markdown",
   "id": "7d4df5f2",
   "metadata": {
    "slideshow": {
     "slide_type": "slide"
    }
   },
   "source": [
    "### Transferencia de calor en estado estacionario\n",
    "\n",
    "En estado estacionario, el flujo de calor es constante. En este caso, podemos simplificar el análisis de transferencia de calor por convección y conducción utilizando resistencias térmicas.\n",
    "\n",
    "<img src=\"./images/stationary_heat_transfer.png\" width=\"700px\" align= center>"
   ]
  },
  {
   "cell_type": "markdown",
   "id": "53ef8ae3",
   "metadata": {
    "slideshow": {
     "slide_type": "slide"
    }
   },
   "source": [
    "## Fundamentos de la radiación térmica\n",
    "\n",
    "Las vibraciones a nivel molecular también inducen polarización en la materia. Esto es similar al fenómeno de polarización inducida por ondas electromagnéticas estudiada en la unidad 3. Estos dipolos inducidos térmicamente, oscilan constantemente generando campos electromagnéticos que se propagan en dirección radial.\n",
    "\n",
    "<img src=\"./images/radiating_dipole.png\" width=\"700px\" align= center>"
   ]
  },
  {
   "cell_type": "markdown",
   "id": "767562ad",
   "metadata": {
    "slideshow": {
     "slide_type": "slide"
    }
   },
   "source": [
    "En la siguiente animación podemos ver el proceso de emisión de ondas electromagnéticas por un dipolo oscilatorio. El mapa de colores representa la intensidad del campo magnético, es decir $|\\vec{H}|$, donde rojo y azul corresponden, respectivamente, a los valorse máximos y mínimos.\n",
    "\n",
    "<img src=\"./images/HW_vertical_noground.gif\" width=\"300px\" align= center>"
   ]
  },
  {
   "cell_type": "markdown",
   "id": "7088a84b",
   "metadata": {
    "cell_style": "center",
    "slideshow": {
     "slide_type": "slide"
    }
   },
   "source": [
    "### Poder de emisión\n",
    "Un cuerpo a temperatura $T$ emite ondas electromagnéticas en todas las direcciones y en un espectro de longitudes de onda. En general, la distribución angular ($\\Omega$) y espectral ($\\lambda$) de la radiación emitida depende de las propiedades ópticas de la superficie y la temperatura del material. "
   ]
  },
  {
   "cell_type": "markdown",
   "id": "b364c7cf",
   "metadata": {
    "slideshow": {
     "slide_type": "fragment"
    }
   },
   "source": [
    "Para caracterizar la intensidad de la radiación emitida por una superficie a tempertura $T$, usamos la **intensidad específica o radiancia espectral**, $I_\\lambda(\\lambda,\\Omega,T)$."
   ]
  },
  {
   "cell_type": "markdown",
   "id": "09477f6e",
   "metadata": {
    "cell_style": "center",
    "slideshow": {
     "slide_type": "slide"
    }
   },
   "source": [
    "La taza de calor total emitido por una superficie $dA$ de un cuerpo negro en función de $\\lambda$ y $\\Omega$, $d\\dot{Q}_\\mathrm{rad}$, está dada por:\n",
    "\n",
    "\\begin{equation}\n",
    "d\\dot{Q}_\\mathrm{rad} = I_{\\lambda}(\\lambda,T,\\theta,\\phi) \\sin\\theta \\cos\\theta dA d\\Omega d\\lambda\n",
    "\\end{equation}"
   ]
  },
  {
   "cell_type": "markdown",
   "id": "f849cc9e",
   "metadata": {
    "cell_style": "split",
    "slideshow": {
     "slide_type": "fragment"
    }
   },
   "source": [
    "El término $\\cos\\theta dA$ corresponde a la proyección de $dA$ en la dirección $\\Omega$"
   ]
  },
  {
   "cell_type": "markdown",
   "id": "d3b63571",
   "metadata": {
    "cell_style": "split"
   },
   "source": [
    "<img src=\"./images/specific_intensity.png\" width=\"300px\" align= center>"
   ]
  },
  {
   "cell_type": "markdown",
   "id": "891a8504",
   "metadata": {
    "cell_style": "center",
    "slideshow": {
     "slide_type": "slide"
    }
   },
   "source": [
    "Definimos como **poder de emisión direccional espectral** a la relación:\n",
    "\n",
    "\\begin{equation}\n",
    "E_{\\lambda,\\Omega}(T) = \\frac{d\\dot{Q}_\\mathrm{rad}}{dAd\\Omega d\\lambda}=I_{\\lambda}(\\lambda,\\Omega)\\cos\\theta ,\\quad\\quad\\frac{\\mathrm{W}}{\\mathrm{m}^2\\cdot\\mu\\mathrm{m}\\cdot\\mathrm{sr}}\n",
    "\\end{equation}"
   ]
  },
  {
   "cell_type": "markdown",
   "id": "ec272999",
   "metadata": {
    "slideshow": {
     "slide_type": "fragment"
    }
   },
   "source": [
    "A diferencia de la intensidad específica, el poder de emisión considera la radiación effectiva emitida por una superficie."
   ]
  },
  {
   "cell_type": "markdown",
   "id": "3c1cf7c2",
   "metadata": {},
   "source": [
    "<img src=\"./images/emissive_power.png\" width=\"500px\" align= center>"
   ]
  },
  {
   "cell_type": "markdown",
   "id": "ad56f5b7",
   "metadata": {
    "slideshow": {
     "slide_type": "slide"
    }
   },
   "source": [
    "A partir de este término podemos derivar:"
   ]
  },
  {
   "cell_type": "markdown",
   "id": "c62c0cc6",
   "metadata": {
    "slideshow": {
     "slide_type": "fragment"
    }
   },
   "source": [
    "- **Poder de emisión hemisférica espectral**, \n",
    "\n",
    "\\begin{align*}\n",
    "E_{\\lambda}(T) = \\frac{d\\dot{Q}}{dA d\\lambda} &= \\int_0^{2\\pi}\\int_0^{\\pi/2}I_{\\lambda}(\\lambda,\\Omega)\\cos\\theta~\\sin\\theta  d\\theta d\\phi\n",
    "  \\\\ \n",
    "  &=\\int_\\mathrm{hemi} I_{\\lambda}(\\lambda,\\Omega)\\cos\\theta~d\\Omega\n",
    "  ,\\quad\\quad\\frac{\\mathrm{W}}{\\mathrm{m}^2\\cdot\\mu\\mathrm{m}}\n",
    "\\end{align*}"
   ]
  },
  {
   "cell_type": "markdown",
   "id": "a9a23a55",
   "metadata": {
    "slideshow": {
     "slide_type": "fragment"
    }
   },
   "source": [
    "- **Poder de emisión direccional total**,\n",
    "\n",
    "\\begin{equation*}\n",
    "E_\\Omega(\\lambda,T) = \\frac{d\\dot{Q}}{dAd\\Omega}=\\cos\\theta \\int_0^\\infty~ I_{\\lambda}(\\lambda,\\Omega)~d\\lambda  ,\\quad\\quad\\frac{\\mathrm{W}}{\\mathrm{m}^2 \\cdot\\mathrm{sr}}\n",
    "\\end{equation*}"
   ]
  },
  {
   "cell_type": "markdown",
   "id": "4c94bf8c",
   "metadata": {
    "slideshow": {
     "slide_type": "fragment"
    }
   },
   "source": [
    "- **Poder de emisión hemisfética total**, \n",
    "\n",
    "\\begin{equation*}\n",
    "E(T) = \\frac{d\\dot{Q}}{dA}=\\int_0^\\infty\\int_\\mathrm{hemi}I_{\\lambda}(\\lambda,\\Omega)\\cos\\theta~d\\Omega d\\lambda ,\\quad\\quad\\frac{\\mathrm{W}}{\\mathrm{m}^2}\n",
    "\\end{equation*}"
   ]
  },
  {
   "cell_type": "markdown",
   "id": "b670c6be",
   "metadata": {
    "slideshow": {
     "slide_type": "slide"
    }
   },
   "source": [
    "### Distribución de Planck\n",
    "\n",
    "Max Planck en 1901 determinó que la **máxima radiancia espectral o intensidad específica** (flujo de energía por unidad de longitud de onda y ángulo sólido) emitida por un cuerpo a temperatura $T$, en un medio con índice de refracción $n_1$, está dada por:\n",
    "\n",
    "\\begin{equation}\n",
    "I_{\\mathrm{bb},\\lambda}(\\lambda,T,\\Omega) = \\frac{C_1}{n_1\\lambda^5\\left[\\exp\\left(C_2/\\lambda T\\right) - 1\\right]},\\quad\\quad\\frac{\\mathrm{W}}{\\mathrm{m}^2\\cdot\\mu\\mathrm{m}\\cdot\\mathrm{sr}}\n",
    "\\end{equation}\n",
    "\n",
    "donde \n",
    "\\begin{align*}\n",
    "C_1 &= 2hc_0^2 = 1.19104238\\times 10^8 ~\\mathrm{W}\\cdot\\mu\\mathrm{m}^4/\\mathrm{m}^2 \\\\\n",
    "C_2 &= hc_0/k_\\mathrm{B} = 1.43878\\times10^{4}~\\mu\\mathrm{m}\\cdot\\mathrm{K}\n",
    "\\end{align*}\n",
    "\n",
    "$k_\\mathrm{B} = 1.381\\times 10^{-23}$ J/K $=8.617\\times 10^{-5}$ eV/K, es la constante de Boltzmann. La unidad \"sr\" correponde a un esteroradian."
   ]
  },
  {
   "cell_type": "markdown",
   "id": "4e04c610",
   "metadata": {
    "slideshow": {
     "slide_type": "fragment"
    }
   },
   "source": [
    "Esta es la **distribución de Planck**. Representa la radiancia espectral emitida por un cuerpo idealizado, denominado **cuerpo negro**. Un cuerpo negro, así, representa un emisor perfecto, capaz de emitir la máxima radiacion posible a una temperatura $T$."
   ]
  },
  {
   "cell_type": "markdown",
   "id": "513d759b",
   "metadata": {
    "slideshow": {
     "slide_type": "slide"
    }
   },
   "source": [
    "El poder de emisión hemisférico espectral de la superficie de un cuerpo negro, $E_\\mathrm{bb}(\\lambda,T)$, se obtiene integrando la radiancia espectral por ángulo sólido en el límite de una hemiesfera:\n",
    "\n",
    "\\begin{equation}\n",
    "\\int_\\mathrm{hemi} I_{\\mathrm{bb},\\lambda}(\\lambda,T,\\Omega)\\cos\\theta d\\Omega = \\pi I_{\\mathrm{bb},\\lambda}(\\lambda,T) = E_{\\mathrm{bb},\\lambda}(\\lambda,T),\\quad\\quad\\frac{\\mathrm{W}}{\\mathrm{m}^2\\cdot\\mu\\mathrm{m}}\n",
    "\\end{equation}"
   ]
  },
  {
   "cell_type": "markdown",
   "id": "3cbf0ea5",
   "metadata": {
    "slideshow": {
     "slide_type": "fragment"
    }
   },
   "source": [
    "A partir de la integral de $E_\\mathrm{bb}(\\lambda,T)$ en el espectro de longitudes de onda, obtenemos el poder de emisión hemisferico total de un cuerpo negro:\n",
    "\n",
    "\\begin{equation}\n",
    "\\int_0^\\infty E_{\\mathrm{bb},\\lambda}(\\lambda,T) d\\lambda = \\sigma T^4,\\quad\\quad\\frac{\\mathrm{W}}{\\mathrm{m}^2}\n",
    "\\end{equation}\n",
    "\n",
    "donde $\\sigma = 5.670\\times10^{-8}$ W/m$^2\\cdot$K$^4$, es la *constante de Stefan-Boltzmann.* Esta fórmula se conoce como la **ley de Stefan-Boltzmann**"
   ]
  },
  {
   "cell_type": "markdown",
   "id": "18b26d00",
   "metadata": {
    "slideshow": {
     "slide_type": "slide"
    }
   },
   "source": [
    "En la siguiente figura, se ilustra $E_{\\mathrm{bb},\\lambda}(\\lambda,T)$ función de la temperatura y longitud de onda.\n"
   ]
  },
  {
   "cell_type": "markdown",
   "id": "0c94c575",
   "metadata": {},
   "source": [
    "<img src=\"./images/blackbody_rad.png\" width=\"700px\" align= center>"
   ]
  },
  {
   "cell_type": "markdown",
   "id": "8eb1ce9b",
   "metadata": {
    "slideshow": {
     "slide_type": "slide"
    }
   },
   "source": [
    "A medida que $T$ aumenta, notamos que el máximo de la curva se desplaza hacia el azul. La longitud de onda correspondiente a este máximo, $\\lambda_\\mathrm{peak}$, está definida por la **ley de desplazamiento de Wien:**\n",
    "\n",
    "\\begin{equation}\n",
    "\\lambda_\\mathrm{peak}T = 2897.8\\quad\\mu\\mathrm{m}\\cdot\\mathrm{K}\n",
    "\\end{equation}\n"
   ]
  },
  {
   "cell_type": "markdown",
   "id": "26d022df",
   "metadata": {
    "slideshow": {
     "slide_type": "fragment"
    }
   },
   "source": [
    "Esta relación permite entender el cambio de color de la fuente emisora con la tempertura."
   ]
  },
  {
   "cell_type": "markdown",
   "id": "441619f6",
   "metadata": {
    "slideshow": {
     "slide_type": "fragment"
    }
   },
   "source": [
    "Recordemos, sin embargo,  que **el color de un material no solo se define por la emisión de radiación, sino también por la forma en la que interactúa con la luz incidente**. Como revisamos en las unidades anteriores, esta interacción está condionada por las propiedades radiativas."
   ]
  },
  {
   "cell_type": "markdown",
   "id": "da43fbee",
   "metadata": {
    "slideshow": {
     "slide_type": "slide"
    }
   },
   "source": [
    "### Propiedades Radiativas\n",
    "\n",
    "Definimos como **emisividad direccional espectral, $\\epsilon_{\\lambda,\\Omega}$,** a la *razón entre la radiación emitida por una superficie, $I_\\lambda(\\lambda,T,\\Omega)$, y la radiación emitida por un cuerpo negro, ambas a temperatura $T$*:\n",
    "\n",
    "\\begin{equation}\n",
    "\\epsilon_{\\lambda,\\Omega} = \\frac{I_\\lambda(\\lambda,T,\\Omega)}{I_{\\mathrm{bb},\\lambda}(\\lambda,T,\\Omega)}\n",
    "\\end{equation}\n",
    "\n",
    "De esta forma, $\\epsilon$ es una propiedad adimensional de superfice que varía entre $0 \\le \\epsilon \\le 1$."
   ]
  },
  {
   "cell_type": "markdown",
   "id": "819d0302",
   "metadata": {
    "slideshow": {
     "slide_type": "fragment"
    }
   },
   "source": [
    "Definimos como **absortividad direccional espectral, $A_{\\lambda,\\Omega}$,** a la *porción de radiación incidente que es absorbida por una superficie*. Igualmente, $0 \\le \\alpha \\le 1$."
   ]
  },
  {
   "cell_type": "markdown",
   "id": "64a21ba8",
   "metadata": {
    "slideshow": {
     "slide_type": "slide"
    }
   },
   "source": [
    "A través de la **ley de Kirchhoff**, podemos establecer una relación entre la absortancia y emisividad espectral direccional:\n",
    "\n",
    "\\begin{equation}\n",
    "\\epsilon_{\\lambda,\\Omega} = A_{\\lambda,\\Omega}\n",
    "\\end{equation}"
   ]
  },
  {
   "cell_type": "markdown",
   "id": "5dd135bb",
   "metadata": {
    "slideshow": {
     "slide_type": "fragment"
    }
   },
   "source": [
    "En otras palabras, las propiedades de un material como receptor o emisor de radiación, son iguales. Este concepto, denominado *reciprocidad*, es consecuencia de las ecuaciones de Maxwell y es la base fundamental para el diseño de antenas y radares."
   ]
  },
  {
   "cell_type": "markdown",
   "id": "1f3f624f",
   "metadata": {
    "slideshow": {
     "slide_type": "slide"
    }
   },
   "source": [
    "Por conservación de energía:\n",
    "\\begin{equation}\n",
    "A_{\\lambda,\\Omega} + R_{\\lambda,\\Omega} + T_{\\lambda,\\Omega} = 1\n",
    "\\end{equation}\n"
   ]
  },
  {
   "cell_type": "markdown",
   "id": "c03d9fac",
   "metadata": {
    "slideshow": {
     "slide_type": "fragment"
    }
   },
   "source": [
    "donde $R_{\\lambda,\\Omega}$ y $T_{\\lambda,\\Omega}$ son, respectivamente, la reflectividad y transmisividad espectral direccional del material"
   ]
  },
  {
   "cell_type": "markdown",
   "id": "d93dacf1",
   "metadata": {
    "slideshow": {
     "slide_type": "fragment"
    }
   },
   "source": [
    "Debido a la naturaleza de la radiación térmica, la polarización de las ondas electromagnéticas es aleatoria. Así, $R_{\\lambda,\\Omega}$ y $T_{\\lambda,\\Omega}$ se calculan como:\n",
    "\n",
    "\\begin{equation}\n",
    "R_{\\lambda,\\Omega} = \\frac{R_{\\lambda,\\Omega}^\\mathrm{TM}+R_{\\lambda,\\Omega}^\\mathrm{TE}}{2}\\quad\\quad\n",
    "T_{\\lambda,\\Omega} = \\frac{T_{\\lambda,\\Omega}^\\mathrm{TM}+T_{\\lambda,\\Omega}^\\mathrm{TE}}{2}\n",
    "\\end{equation}"
   ]
  },
  {
   "cell_type": "markdown",
   "id": "1b34032f",
   "metadata": {
    "slideshow": {
     "slide_type": "fragment"
    }
   },
   "source": [
    "A partir de estas relaciones podemos determinar $\\epsilon_{\\lambda,\\Omega}$."
   ]
  },
  {
   "cell_type": "markdown",
   "id": "048661b3",
   "metadata": {
    "slideshow": {
     "slide_type": "slide"
    }
   },
   "source": [
    "Cabe mencionar que en textos de radiometría y transferencia de calor, la reflectividad y transmisividad se denominan, respectivamente, **reflectancia ($\\rho$)**, **transmitancia ($\\tau$).** Igualmente la absortividad se denomina **absortancia ($\\alpha$).** Ambos términos son equivalentes."
   ]
  },
  {
   "cell_type": "markdown",
   "id": "51fbf681",
   "metadata": {
    "slideshow": {
     "slide_type": "fragment"
    }
   },
   "source": [
    "En este curso, seguiremos utilizando los términos y notación de óptica, es decir $R_{\\lambda,\\Omega}$, $T_{\\lambda,\\Omega}$ y $A_{\\lambda,\\Omega}$, para evitar confusiones. "
   ]
  },
  {
   "cell_type": "markdown",
   "id": "4d61c797",
   "metadata": {
    "slideshow": {
     "slide_type": "slide"
    }
   },
   "source": [
    "Como ejemplo, analicemos el poder de emisión espectral direccional, $E_{\\lambda,\\Omega}(T)$ y la emisividad $\\epsilon(\\lambda,\\Omega)$ de una capa de vidrio en función de la temperatura ($T$), espesor ($d$) y dirección ($\\theta$). En este caso: \n",
    "\n",
    "\\begin{align*}\n",
    "E_{\\lambda,\\Omega}(T) &= \\epsilon(\\lambda,\\Omega)I_{\\mathrm{bb},\\lambda}(\\lambda,\\Omega,T)\\cos\\theta \\\\[10pt]\n",
    " &= \\left[1 - R_{\\lambda,\\Omega} - T_{\\lambda,\\Omega}\\right]I_{\\mathrm{bb},\\lambda}(\\lambda,\\Omega,T)\\cos\\theta\n",
    "\\end{align*}"
   ]
  },
  {
   "cell_type": "markdown",
   "id": "e04ec37d",
   "metadata": {
    "slideshow": {
     "slide_type": "slide"
    }
   },
   "source": [
    "Antes, analicemos el índice de refracción del vidrio (sílicice, SiO$_2$), en el espectro $\\lambda\\in[0.3,15]$ $\\mu$m."
   ]
  },
  {
   "cell_type": "code",
   "execution_count": 1,
   "id": "e34559d2",
   "metadata": {
    "cell_style": "split",
    "slideshow": {
     "slide_type": "fragment"
    }
   },
   "outputs": [
    {
     "ename": "NameError",
     "evalue": "name 'np' is not defined",
     "output_type": "error",
     "traceback": [
      "\u001b[0;31m---------------------------------------------------------------------------\u001b[0m",
      "\u001b[0;31mNameError\u001b[0m                                 Traceback (most recent call last)",
      "\u001b[0;32m/tmp/ipykernel_373/1483285903.py\u001b[0m in \u001b[0;36m<module>\u001b[0;34m\u001b[0m\n\u001b[1;32m      4\u001b[0m \u001b[0mplt\u001b[0m\u001b[0;34m.\u001b[0m\u001b[0mrcParams\u001b[0m\u001b[0;34m[\u001b[0m\u001b[0;34m'font.size'\u001b[0m\u001b[0;34m]\u001b[0m \u001b[0;34m=\u001b[0m \u001b[0;34m'16'\u001b[0m \u001b[0;31m# tamaño de fuente\u001b[0m\u001b[0;34m\u001b[0m\u001b[0;34m\u001b[0m\u001b[0m\n\u001b[1;32m      5\u001b[0m \u001b[0;34m\u001b[0m\u001b[0m\n\u001b[0;32m----> 6\u001b[0;31m \u001b[0mlam\u001b[0m \u001b[0;34m=\u001b[0m \u001b[0mnp\u001b[0m\u001b[0;34m.\u001b[0m\u001b[0mlinspace\u001b[0m\u001b[0;34m(\u001b[0m\u001b[0;36m0.3\u001b[0m\u001b[0;34m,\u001b[0m\u001b[0;36m15\u001b[0m\u001b[0;34m,\u001b[0m\u001b[0;36m100\u001b[0m\u001b[0;34m)\u001b[0m\u001b[0;34m\u001b[0m\u001b[0;34m\u001b[0m\u001b[0m\n\u001b[0m\u001b[1;32m      7\u001b[0m \u001b[0mplt\u001b[0m\u001b[0;34m.\u001b[0m\u001b[0mplot\u001b[0m\u001b[0;34m(\u001b[0m\u001b[0mlam\u001b[0m\u001b[0;34m,\u001b[0m\u001b[0mnk\u001b[0m\u001b[0;34m.\u001b[0m\u001b[0mSiO2\u001b[0m\u001b[0;34m(\u001b[0m\u001b[0mlam\u001b[0m\u001b[0;34m)\u001b[0m\u001b[0;34m.\u001b[0m\u001b[0mreal\u001b[0m\u001b[0;34m,\u001b[0m\u001b[0;34m'-r'\u001b[0m\u001b[0;34m,\u001b[0m\u001b[0mlabel\u001b[0m\u001b[0;34m=\u001b[0m\u001b[0;34m'$n$'\u001b[0m\u001b[0;34m)\u001b[0m\u001b[0;34m\u001b[0m\u001b[0;34m\u001b[0m\u001b[0m\n\u001b[1;32m      8\u001b[0m \u001b[0mplt\u001b[0m\u001b[0;34m.\u001b[0m\u001b[0mplot\u001b[0m\u001b[0;34m(\u001b[0m\u001b[0mlam\u001b[0m\u001b[0;34m,\u001b[0m\u001b[0mnk\u001b[0m\u001b[0;34m.\u001b[0m\u001b[0mSiO2\u001b[0m\u001b[0;34m(\u001b[0m\u001b[0mlam\u001b[0m\u001b[0;34m)\u001b[0m\u001b[0;34m.\u001b[0m\u001b[0mimag\u001b[0m\u001b[0;34m,\u001b[0m\u001b[0;34m'-b'\u001b[0m\u001b[0;34m,\u001b[0m\u001b[0mlabel\u001b[0m\u001b[0;34m=\u001b[0m\u001b[0;34m'$\\kappa$'\u001b[0m\u001b[0;34m)\u001b[0m\u001b[0;34m\u001b[0m\u001b[0;34m\u001b[0m\u001b[0m\n",
      "\u001b[0;31mNameError\u001b[0m: name 'np' is not defined"
     ]
    }
   ],
   "source": [
    "%%capture showplot\n",
    "import empylib.nklib as nk\n",
    "import matplotlib.pyplot as plt\n",
    "\n",
    "plt.rcParams['font.size'] = '16' # tamaño de fuente\n",
    "\n",
    "lam = np.linspace(0.3,15,100)\n",
    "plt.plot(lam,nk.SiO2(lam).real,'-r',label='$n$')\n",
    "plt.plot(lam,nk.SiO2(lam).imag,'-b',label='$\\kappa$')\n",
    "plt.xlabel('Longitud de onda, $\\lambda$ ($\\mu$m)',fontsize=16)\n",
    "plt.ylabel('$n$, $\\kappa$',fontsize=16)\n",
    "plt.title('Índice de refracción SiO$_2$')\n",
    "plt.legend(frameon=False)"
   ]
  },
  {
   "cell_type": "code",
   "execution_count": 2,
   "id": "20435072",
   "metadata": {
    "cell_style": "split"
   },
   "outputs": [],
   "source": [
    "showplot()"
   ]
  },
  {
   "cell_type": "markdown",
   "id": "89749a31",
   "metadata": {
    "slideshow": {
     "slide_type": "fragment"
    }
   },
   "source": [
    "Comparamos $E_{\\lambda,\\Omega}(T)$ con el poder de emisión espectral direccional del cuerpo negro, $E_{\\mathrm{bb},\\lambda,\\Omega} = I_{\\mathrm{bb},\\lambda}\\cos\\theta$"
   ]
  },
  {
   "cell_type": "code",
   "execution_count": 3,
   "id": "f24c88be",
   "metadata": {
    "slideshow": {
     "slide_type": "slide"
    }
   },
   "outputs": [],
   "source": [
    "import empylib.waveoptics as wv\n",
    "import empylib.nklib as nk\n",
    "import numpy as np\n",
    "from numpy import log10, radians\n",
    "import matplotlib.pyplot as plt\n",
    "from empylib.ref_spectra import Bplanck\n",
    "\n",
    "def plot_emisivity_glass(Temp,d,lam0,theta0):\n",
    "    # parámetros de entrada\n",
    "    \n",
    "    lam = np.linspace(0.3,15,100)\n",
    "    Nfront = 1.0                 # índice de refracción medio superior\n",
    "    N1     = nk.SiO2(lam)        # índice de refracción capa intermedia\n",
    "    Nback  = 4.3                 # índice de refracción medio inferior\n",
    "    N = (Nfront, N1, Nback)      # indices de refracción (above, mid, below)\n",
    "\n",
    "    # Reflectancia y transmitancia espectral en theta0\n",
    "    Rs, Ts = wv.incoh_multilayer(lam,radians(theta0), N, d*1E3, pol='TM')\n",
    "    Rp, Tp = wv.incoh_multilayer(lam,radians(theta0), N, d*1E3, pol='TM')\n",
    "    \n",
    "    R_lam = (Rs + Rp)/2\n",
    "    T_lam = (Ts + Tp)/2\n",
    "    A_lam = 1 - T_lam - R_lam\n",
    "    \n",
    "   # Reflectancia y transmitancia direccional en lam0\n",
    "    theta = np.linspace(0,90,100)\n",
    "    N = (Nfront, np.interp(lam0,lam,N1), Nback)      # indices de refracción (above, mid, below)\n",
    "    A_theta = [] # lista vacía\n",
    "    for theta_i in theta:\n",
    "        Rs, Ts = wv.incoh_multilayer(lam0,radians(theta_i), N, d*1E3, pol='TM')\n",
    "        Rp, Tp = wv.incoh_multilayer(lam0,radians(theta_i), N, d*1E3, pol='TM')\n",
    "        R = (Rs + Rp)/2\n",
    "        T = (Ts + Tp)/2\n",
    "        A_theta.append(1 - T - R)\n",
    "    A_theta = np.array(A_theta).flatten() # convertimos la lista a ndarray\n",
    "\n",
    "    fig, ax = plt.subplots(1,3)\n",
    "    fig.set_size_inches(18, 5)\n",
    "    plt.rcParams['font.size'] = '18'\n",
    "    \n",
    "    # graficamos las propiedades radiativas espectrales\n",
    "    ax[0].plot(lam,R_lam,'--r',label=r'$R_{\\lambda,\\Omega}$',linewidth=0.5)\n",
    "    ax[0].plot(lam,T_lam,'--b',label=r'$T_{\\lambda,\\Omega}$',linewidth=0.5)\n",
    "    ax[0].plot(lam,A_lam,'-k',label=r'$A_{\\lambda,\\Omega}$',linewidth=2.0)  \n",
    "    ax[0].plot(lam0,np.interp(lam0,lam,A_lam),'or',ms=8.0)   \n",
    "    ax[0].set_xlabel('$\\lambda$ ($\\mu$m)')\n",
    "    ax[0].set_ylabel(r'$R_{\\lambda,\\Omega}$, $T_{\\lambda,\\Omega}$ y $A_{\\lambda,\\Omega}$')\n",
    "    ax[0].set_ylim(0,1.05)\n",
    "    ax[0].set_title(r'$\\theta = $ %i°' % theta0)\n",
    "    ax[0].legend()\n",
    "    \n",
    "    # graficamos la emisividad espectral en el ángulo\n",
    "    ax[1].plot(theta,A_theta,'-k')  \n",
    "    ax[1].plot(theta0,np.interp(theta0,theta,A_theta),'or',ms=8.0)   \n",
    "    ax[1].set_xlabel(r'$\\theta$ (deg)')\n",
    "    ax[1].set_ylabel(r'$\\epsilon_{\\lambda,\\Omega}(\\theta)$')\n",
    "    ax[1].set_title(r'$\\lambda = $ %.2f $\\mu$m' % lam0)\n",
    "    ax[1].set_ylim(0,1.05)\n",
    "    \n",
    "    # Graficamos la radiación espectral\n",
    "    E_lam = A_lam*Bplanck(lam,Temp)*np.cos(np.radians(theta0)) # poder de emisión material\n",
    "    E_bb = Bplanck(lam,Temp)*np.cos(np.radians(theta0))        # poder de emisión de cuerpo negro\n",
    "    ax[2].plot(lam,E_lam,'-k',label =r'$E_{\\lambda,\\Omega}$')\n",
    "    ax[2].plot(lam,E_bb,'-r',label =r'$E_\\mathrm{bb}$') \n",
    "    ax[2].plot(lam0,np.interp(lam0,lam,E_lam),'or',ms=8.0)   \n",
    "    ax[2].set_xlabel('Longitud de onda ($\\mu$m)')\n",
    "    ax[2].set_ylabel(r'$E_{\\lambda,\\Omega}$(T) (W/m$^2$-$\\mu$m-sr)')\n",
    "    ax[2].set_title(r'd = %.2f mm, $\\theta$=%i°' % (d,theta0) )\n",
    "    ax[2].set_ylim(0,max(Bplanck(lam,Temp))*1.05)\n",
    "    ax[2].legend()\n",
    "    \n",
    "    plt.subplots_adjust(wspace=0.35)\n",
    "    plt.show()"
   ]
  },
  {
   "cell_type": "code",
   "execution_count": 4,
   "id": "8e3af1c4",
   "metadata": {
    "slideshow": {
     "slide_type": "slide"
    }
   },
   "outputs": [
    {
     "data": {
      "application/vnd.jupyter.widget-view+json": {
       "model_id": "92df8c59f8f046249fac42d8ecd21543",
       "version_major": 2,
       "version_minor": 0
      },
      "text/plain": [
       "interactive(children=(IntSlider(value=300, description='T', max=1000, min=300, step=10), FloatSlider(value=1.0…"
      ]
     },
     "metadata": {},
     "output_type": "display_data"
    }
   ],
   "source": [
    " from ipywidgets import interact\n",
    "\n",
    "@interact(T=(300,1000,10), d=(0,10,0.01), lam0=(5,10,0.01), theta0=(0,90,1))\n",
    "def g(T=300,d=1, lam0=10, theta0=0):\n",
    "    return plot_emisivity_glass(T,d,lam0,theta0)"
   ]
  },
  {
   "cell_type": "markdown",
   "id": "1071c1d3",
   "metadata": {
    "slideshow": {
     "slide_type": "slide"
    }
   },
   "source": [
    "Al igual que con el poder de emisión, la emisividad puede también ser definida de forma hemisférica (integración por ángulo sólido) o total (integración por longitudes de onda)"
   ]
  },
  {
   "cell_type": "markdown",
   "id": "67f1a8ba",
   "metadata": {
    "slideshow": {
     "slide_type": "fragment"
    }
   },
   "source": [
    "**Emisividad direccional total**\n",
    "\\begin{equation}\n",
    "\\epsilon_\\Omega(\\Omega,T) = \\frac{E_\\Omega(T)}{E_{\\Omega,bb}(T)} =\\frac{\\int_0^\\infty \\epsilon_{\\lambda,\\Omega} I_{\\mathrm{bb},\\lambda} (T)\\cos\\theta~d\\lambda}{\\int_0^\\infty I_{\\mathrm{bb},\\lambda} (T)\\cos\\theta~d\\lambda} = \\frac{\\pi}{\\sigma T^4}\\int_0^\\infty \\epsilon_{\\lambda,\\Omega} I_{\\mathrm{bb},\\lambda} (T)~d\\lambda\n",
    "\\end{equation}"
   ]
  },
  {
   "cell_type": "markdown",
   "id": "6e8b85fd",
   "metadata": {
    "slideshow": {
     "slide_type": "fragment"
    }
   },
   "source": [
    "**Emisividad hemisférica espectral**\n",
    "\\begin{equation}\n",
    "\\epsilon_\\lambda(\\lambda) = \\frac{E_\\lambda(T)}{E_{\\lambda,bb}(T)} = \\frac{\\int_\\mathrm{hemi}\\epsilon_{\\lambda,\\Omega}I_{\\mathrm{bb},\\lambda}(T)\\cos\\theta~d\\Omega}{\\pi I_{\\mathrm{bb},\\lambda}(T)}  = \\frac{1}{\\pi}\\int_\\mathrm{hemi}\\epsilon_{\\lambda,\\Omega}\\cos\\theta~d\\Omega\n",
    "\\end{equation}"
   ]
  },
  {
   "cell_type": "markdown",
   "id": "7af36cfb",
   "metadata": {
    "slideshow": {
     "slide_type": "fragment"
    }
   },
   "source": [
    "**Emisividad hemisférica total**\n",
    "\\begin{equation}\n",
    "\\epsilon(T) = \\frac{E(T)}{\\sigma T^4} =\\frac{1}{\\sigma T^4}\\int\\int_0^\\infty \\epsilon_{\\lambda,\\Omega} I_{\\mathrm{bb},\\lambda} (T)\\cos\\theta~d\\lambda~d\\Omega\n",
    "\\end{equation}"
   ]
  },
  {
   "cell_type": "markdown",
   "id": "041e5c23",
   "metadata": {
    "slideshow": {
     "slide_type": "slide"
    }
   },
   "source": [
    "Notar que las valores totatles (integración en el espectro), implícitamente dependen de $T$ debido al factor $\\sigma T^4$."
   ]
  },
  {
   "cell_type": "markdown",
   "id": "42cb2a6f",
   "metadata": {
    "slideshow": {
     "slide_type": "slide"
    }
   },
   "source": [
    "### Materiales idealizados"
   ]
  },
  {
   "cell_type": "markdown",
   "id": "250a53e9",
   "metadata": {
    "slideshow": {
     "slide_type": "fragment"
    }
   },
   "source": [
    "- Decimos que una superficie es **difusa** cuando sus propiedades radiativas no dependen de $\\Omega$. Es práctica común suponer que las superficies son emisores difusos, con una emisividad igual al valor de la dirección normal ($\\theta = 0$)."
   ]
  },
  {
   "cell_type": "markdown",
   "id": "61822fca",
   "metadata": {
    "slideshow": {
     "slide_type": "fragment"
    }
   },
   "source": [
    "- Decimos que una superficie es **gris** cuando la emisividad es independiente de $\\lambda$."
   ]
  },
  {
   "cell_type": "markdown",
   "id": "55b28916",
   "metadata": {
    "slideshow": {
     "slide_type": "fragment"
    }
   },
   "source": [
    "- Decimos que una superficie es **opaca** cuando $T_{\\lambda,\\Omega} = 0$. En este caso, \n",
    "tenemos $A_{\\lambda,\\Omega} + R_{\\lambda,\\Omega} = 1$"
   ]
  },
  {
   "cell_type": "markdown",
   "id": "0107051b",
   "metadata": {
    "slideshow": {
     "slide_type": "fragment"
    }
   },
   "source": [
    "- En el caso de **gases**, $R_{\\lambda,\\Omega} \\approx 0$, así $A_{\\lambda,\\Omega} + T_{\\lambda,\\Omega} = 1$"
   ]
  },
  {
   "cell_type": "markdown",
   "id": "4a494870",
   "metadata": {
    "slideshow": {
     "slide_type": "slide"
    }
   },
   "source": [
    "### Irradiancia (G) y Radiosidad (J)"
   ]
  },
  {
   "cell_type": "markdown",
   "id": "fbc52f8b",
   "metadata": {
    "cell_style": "split",
    "slideshow": {
     "slide_type": "fragment"
    }
   },
   "source": [
    "Definimos como **irradiación espectral direccional, $G_{\\lambda,\\Omega}$** a la radiancia espectral incidente en una superficie.\n",
    "\n",
    "<img src=\"./images/irradiance.png\" width=\"300px\" align= center>"
   ]
  },
  {
   "cell_type": "markdown",
   "id": "ee20e9bd",
   "metadata": {
    "cell_style": "split",
    "slideshow": {
     "slide_type": "fragment"
    }
   },
   "source": [
    "Matématicamente:\n",
    "\n",
    "\\begin{equation}\n",
    "G_{\\lambda,\\Omega} = I_i(\\lambda,\\Omega) \\cos\\theta\\quad\\frac{\\mathrm{W}}{\\mathrm{m}^2}\n",
    "\\end{equation}\n",
    "\n",
    "donde $I_i$ es la radiancia espectral incidente sobre una superficie $dA$"
   ]
  },
  {
   "cell_type": "markdown",
   "id": "04ee6eb9",
   "metadata": {
    "slideshow": {
     "slide_type": "slide"
    }
   },
   "source": [
    "Definimos como **radiosidad, $J_{\\lambda,\\Omega}$** a la combinación de radiación emitida y reflejada por una superficie"
   ]
  },
  {
   "cell_type": "markdown",
   "id": "bae8d429",
   "metadata": {
    "cell_style": "split",
    "slideshow": {
     "slide_type": "-"
    }
   },
   "source": [
    "\n",
    "<img src=\"./images/radiosity.png\" width=\"250px\" align= center>"
   ]
  },
  {
   "cell_type": "markdown",
   "id": "23a0cca5",
   "metadata": {
    "cell_style": "split",
    "slideshow": {
     "slide_type": "fragment"
    }
   },
   "source": [
    "Matemáticamente:\n",
    "\\begin{equation}\n",
    "J_{\\lambda,\\Omega} = R_{\\lambda,\\Omega}G_{\\lambda,\\Omega}+E_{\\lambda,\\Omega}\n",
    "\\end{equation}"
   ]
  },
  {
   "cell_type": "markdown",
   "id": "0fc1336c",
   "metadata": {
    "slideshow": {
     "slide_type": "fragment"
    }
   },
   "source": [
    "Al igual que con el poder de emisión, la irradiancia ($G_{\\lambda,\\Omega}$) y la radiosidad ($J_{\\lambda,\\Omega}$) pueden ser definidas de forma hemisférica (integrando por ángulo sólido) o total (integrando por longitud de onda)."
   ]
  },
  {
   "cell_type": "markdown",
   "id": "17c1dc23",
   "metadata": {
    "slideshow": {
     "slide_type": "slide"
    }
   },
   "source": [
    "## Referencias\n",
    "- Çengel Y. A y Ghanjar A. J. **Capítulo 12 - Fundamentos de la radiación térmica** en *Transferencia de calor y masa*, 4ta Ed, McGraw Hill, 2011"
   ]
  },
  {
   "cell_type": "code",
   "execution_count": 5,
   "id": "6e0a420c",
   "metadata": {},
   "outputs": [
    {
     "data": {
      "image/jpeg": "[encoded data removed]",
      "text/html": [
       "\n",
       "<iframe\n",
       "    width=\"600\"\n",
       "    height=\"400\"\n",
       "    src=\"https://www.youtube.com/embed/FDmYCI_xYlA?playsinline=0\"\n",
       "    frameborder=\"0\"\n",
       "    allowfullscreen\n",
       "\n",
       "></iframe>\n"
      ],
      "text/plain": [
       "<IPython.lib.display.YouTubeVideo at 0x7fe2e7570b50>"
      ]
     },
     "execution_count": 5,
     "metadata": {
      "filenames": {
       "image/jpeg": "/mnt/d/OneDrive - Universidad Adolfo Ibanez/Teaching_courses/Manejo_y_Conversion_Energia_Solar_Termica/material_catedra/_build/jupyter_execute/6_RadiacionTermica/6_RadiacionTermica_85_0.jpg"
      }
     },
     "output_type": "execute_result"
    }
   ],
   "source": [
    "from IPython.display import YouTubeVideo\n",
    "YouTubeVideo('FDmYCI_xYlA', width=600, height=400,  playsinline=0)"
   ]
  }
 ],
 "metadata": {
  "celltoolbar": "Slideshow",
  "kernelspec": {
   "display_name": "Python 3 (ipykernel)",
   "language": "python",
   "name": "python3"
  },
  "language_info": {
   "codemirror_mode": {
    "name": "ipython",
    "version": 3
   },
   "file_extension": ".py",
   "mimetype": "text/x-python",
   "name": "python",
   "nbconvert_exporter": "python",
   "pygments_lexer": "ipython3",
   "version": "3.9.13"
  },
  "latex_envs": {
   "LaTeX_envs_menu_present": false,
   "autoclose": false,
   "autocomplete": false,
   "bibliofile": "biblio.bib",
   "cite_by": "apalike",
   "current_citInitial": 1,
   "eqLabelWithNumbers": true,
   "eqNumInitial": 1,
   "hotkeys": {
    "equation": "Ctrl-E",
    "itemize": "Ctrl-I"
   },
   "labels_anchors": false,
   "latex_user_defs": false,
   "report_style_numbering": false,
   "user_envs_cfg": true
  },
  "toc": {
   "base_numbering": 1,
   "nav_menu": {},
   "number_sections": true,
   "sideBar": true,
   "skip_h1_title": true,
   "title_cell": "Tabla de contenidos",
   "title_sidebar": "Contenidos",
   "toc_cell": false,
   "toc_position": {
    "height": "calc(100% - 180px)",
    "left": "10px",
    "top": "150px",
    "width": "307.2px"
   },
   "toc_section_display": true,
   "toc_window_display": false
  },
  "varInspector": {
   "cols": {
    "lenName": 16,
    "lenType": 16,
    "lenVar": 40
   },
   "kernels_config": {
    "python": {
     "delete_cmd_postfix": "",
     "delete_cmd_prefix": "del ",
     "library": "var_list.py",
     "varRefreshCmd": "print(var_dic_list())"
    },
    "r": {
     "delete_cmd_postfix": ") ",
     "delete_cmd_prefix": "rm(",
     "library": "var_list.r",
     "varRefreshCmd": "cat(var_dic_list()) "
    }
   },
   "types_to_exclude": [
    "module",
    "function",
    "builtin_function_or_method",
    "instance",
    "_Feature"
   ],
   "window_display": false
  },
  "widgets": {
   "application/vnd.jupyter.widget-state+json": {
    "state": {
     "06b96da493b4431fac8e3765a96039f3": {
      "model_module": "@jupyter-widgets/controls",
      "model_module_version": "1.5.0",
      "model_name": "SliderStyleModel",
      "state": {
       "_model_module": "@jupyter-widgets/controls",
       "_model_module_version": "1.5.0",
       "_model_name": "SliderStyleModel",
       "_view_count": null,
       "_view_module": "@jupyter-widgets/base",
       "_view_module_version": "1.2.0",
       "_view_name": "StyleView",
       "description_width": "",
       "handle_color": null
      }
     },
     "1b37f91210d347e9a0988fe23f31c2e0": {
      "model_module": "@jupyter-widgets/controls",
      "model_module_version": "1.5.0",
      "model_name": "SliderStyleModel",
      "state": {
       "_model_module": "@jupyter-widgets/controls",
       "_model_module_version": "1.5.0",
       "_model_name": "SliderStyleModel",
       "_view_count": null,
       "_view_module": "@jupyter-widgets/base",
       "_view_module_version": "1.2.0",
       "_view_name": "StyleView",
       "description_width": "",
       "handle_color": null
      }
     },
     "26cd6175c66a4835a48bd99bcd1fb757": {
      "model_module": "@jupyter-widgets/controls",
      "model_module_version": "1.5.0",
      "model_name": "FloatSliderModel",
      "state": {
       "_dom_classes": [],
       "_model_module": "@jupyter-widgets/controls",
       "_model_module_version": "1.5.0",
       "_model_name": "FloatSliderModel",
       "_view_count": null,
       "_view_module": "@jupyter-widgets/controls",
       "_view_module_version": "1.5.0",
       "_view_name": "FloatSliderView",
       "continuous_update": true,
       "description": "d",
       "description_tooltip": null,
       "disabled": false,
       "layout": "IPY_MODEL_347907dd835f46998c6d5ceedc0e48fd",
       "max": 10.0,
       "min": 0.0,
       "orientation": "horizontal",
       "readout": true,
       "readout_format": ".2f",
       "step": 0.01,
       "style": "IPY_MODEL_1b37f91210d347e9a0988fe23f31c2e0",
       "value": 1.0
      }
     },
     "347907dd835f46998c6d5ceedc0e48fd": {
      "model_module": "@jupyter-widgets/base",
      "model_module_version": "1.2.0",
      "model_name": "LayoutModel",
      "state": {
       "_model_module": "@jupyter-widgets/base",
       "_model_module_version": "1.2.0",
       "_model_name": "LayoutModel",
       "_view_count": null,
       "_view_module": "@jupyter-widgets/base",
       "_view_module_version": "1.2.0",
       "_view_name": "LayoutView",
       "align_content": null,
       "align_items": null,
       "align_self": null,
       "border": null,
       "bottom": null,
       "display": null,
       "flex": null,
       "flex_flow": null,
       "grid_area": null,
       "grid_auto_columns": null,
       "grid_auto_flow": null,
       "grid_auto_rows": null,
       "grid_column": null,
       "grid_gap": null,
       "grid_row": null,
       "grid_template_areas": null,
       "grid_template_columns": null,
       "grid_template_rows": null,
       "height": null,
       "justify_content": null,
       "justify_items": null,
       "left": null,
       "margin": null,
       "max_height": null,
       "max_width": null,
       "min_height": null,
       "min_width": null,
       "object_fit": null,
       "object_position": null,
       "order": null,
       "overflow": null,
       "overflow_x": null,
       "overflow_y": null,
       "padding": null,
       "right": null,
       "top": null,
       "visibility": null,
       "width": null
      }
     },
     "4a2a8999e3084f98b0bb3eef054dcc56": {
      "model_module": "@jupyter-widgets/controls",
      "model_module_version": "1.5.0",
      "model_name": "IntSliderModel",
      "state": {
       "_dom_classes": [],
       "_model_module": "@jupyter-widgets/controls",
       "_model_module_version": "1.5.0",
       "_model_name": "IntSliderModel",
       "_view_count": null,
       "_view_module": "@jupyter-widgets/controls",
       "_view_module_version": "1.5.0",
       "_view_name": "IntSliderView",
       "continuous_update": true,
       "description": "theta0",
       "description_tooltip": null,
       "disabled": false,
       "layout": "IPY_MODEL_f7a07af7fb8e4f39923469f974214a2e",
       "max": 90,
       "min": 0,
       "orientation": "horizontal",
       "readout": true,
       "readout_format": "d",
       "step": 1,
       "style": "IPY_MODEL_f952509e96d94c9d9ba409093d62bd94",
       "value": 0
      }
     },
     "4cdcb51b26f0402f8aa04267ad559472": {
      "model_module": "@jupyter-widgets/output",
      "model_module_version": "1.0.0",
      "model_name": "OutputModel",
      "state": {
       "_dom_classes": [],
       "_model_module": "@jupyter-widgets/output",
       "_model_module_version": "1.0.0",
       "_model_name": "OutputModel",
       "_view_count": null,
       "_view_module": "@jupyter-widgets/output",
       "_view_module_version": "1.0.0",
       "_view_name": "OutputView",
       "layout": "IPY_MODEL_af3136063a90471e9565249a500bfa9c",
       "msg_id": "",
       "outputs": [
        {
         "data": {
          "image/png": "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\n",
          "text/plain": "<Figure size 1296x360 with 3 Axes>"
         },
         "metadata": {
          "needs_background": "light"
         },
         "output_type": "display_data"
        }
       ]
      }
     },
     "92df8c59f8f046249fac42d8ecd21543": {
      "model_module": "@jupyter-widgets/controls",
      "model_module_version": "1.5.0",
      "model_name": "VBoxModel",
      "state": {
       "_dom_classes": [
        "widget-interact"
       ],
       "_model_module": "@jupyter-widgets/controls",
       "_model_module_version": "1.5.0",
       "_model_name": "VBoxModel",
       "_view_count": null,
       "_view_module": "@jupyter-widgets/controls",
       "_view_module_version": "1.5.0",
       "_view_name": "VBoxView",
       "box_style": "",
       "children": [
        "IPY_MODEL_d93a244e03344cfeb7c51de22c27e376",
        "IPY_MODEL_26cd6175c66a4835a48bd99bcd1fb757",
        "IPY_MODEL_aa87862bf49243a28443a6607fefd9bf",
        "IPY_MODEL_4a2a8999e3084f98b0bb3eef054dcc56",
        "IPY_MODEL_4cdcb51b26f0402f8aa04267ad559472"
       ],
       "layout": "IPY_MODEL_e3f4af9b0bc04d1eb8712a5ff3c4184f"
      }
     },
     "a5ef1bef96f34c3f814e4147525a6667": {
      "model_module": "@jupyter-widgets/base",
      "model_module_version": "1.2.0",
      "model_name": "LayoutModel",
      "state": {
       "_model_module": "@jupyter-widgets/base",
       "_model_module_version": "1.2.0",
       "_model_name": "LayoutModel",
       "_view_count": null,
       "_view_module": "@jupyter-widgets/base",
       "_view_module_version": "1.2.0",
       "_view_name": "LayoutView",
       "align_content": null,
       "align_items": null,
       "align_self": null,
       "border": null,
       "bottom": null,
       "display": null,
       "flex": null,
       "flex_flow": null,
       "grid_area": null,
       "grid_auto_columns": null,
       "grid_auto_flow": null,
       "grid_auto_rows": null,
       "grid_column": null,
       "grid_gap": null,
       "grid_row": null,
       "grid_template_areas": null,
       "grid_template_columns": null,
       "grid_template_rows": null,
       "height": null,
       "justify_content": null,
       "justify_items": null,
       "left": null,
       "margin": null,
       "max_height": null,
       "max_width": null,
       "min_height": null,
       "min_width": null,
       "object_fit": null,
       "object_position": null,
       "order": null,
       "overflow": null,
       "overflow_x": null,
       "overflow_y": null,
       "padding": null,
       "right": null,
       "top": null,
       "visibility": null,
       "width": null
      }
     },
     "aa87862bf49243a28443a6607fefd9bf": {
      "model_module": "@jupyter-widgets/controls",
      "model_module_version": "1.5.0",
      "model_name": "FloatSliderModel",
      "state": {
       "_dom_classes": [],
       "_model_module": "@jupyter-widgets/controls",
       "_model_module_version": "1.5.0",
       "_model_name": "FloatSliderModel",
       "_view_count": null,
       "_view_module": "@jupyter-widgets/controls",
       "_view_module_version": "1.5.0",
       "_view_name": "FloatSliderView",
       "continuous_update": true,
       "description": "lam0",
       "description_tooltip": null,
       "disabled": false,
       "layout": "IPY_MODEL_f21b1e8b448040e7b79255033a7e567e",
       "max": 10.0,
       "min": 5.0,
       "orientation": "horizontal",
       "readout": true,
       "readout_format": ".2f",
       "step": 0.01,
       "style": "IPY_MODEL_f9850127f9dd446ebce021b17e3e9138",
       "value": 10.0
      }
     },
     "af3136063a90471e9565249a500bfa9c": {
      "model_module": "@jupyter-widgets/base",
      "model_module_version": "1.2.0",
      "model_name": "LayoutModel",
      "state": {
       "_model_module": "@jupyter-widgets/base",
       "_model_module_version": "1.2.0",
       "_model_name": "LayoutModel",
       "_view_count": null,
       "_view_module": "@jupyter-widgets/base",
       "_view_module_version": "1.2.0",
       "_view_name": "LayoutView",
       "align_content": null,
       "align_items": null,
       "align_self": null,
       "border": null,
       "bottom": null,
       "display": null,
       "flex": null,
       "flex_flow": null,
       "grid_area": null,
       "grid_auto_columns": null,
       "grid_auto_flow": null,
       "grid_auto_rows": null,
       "grid_column": null,
       "grid_gap": null,
       "grid_row": null,
       "grid_template_areas": null,
       "grid_template_columns": null,
       "grid_template_rows": null,
       "height": null,
       "justify_content": null,
       "justify_items": null,
       "left": null,
       "margin": null,
       "max_height": null,
       "max_width": null,
       "min_height": null,
       "min_width": null,
       "object_fit": null,
       "object_position": null,
       "order": null,
       "overflow": null,
       "overflow_x": null,
       "overflow_y": null,
       "padding": null,
       "right": null,
       "top": null,
       "visibility": null,
       "width": null
      }
     },
     "d93a244e03344cfeb7c51de22c27e376": {
      "model_module": "@jupyter-widgets/controls",
      "model_module_version": "1.5.0",
      "model_name": "IntSliderModel",
      "state": {
       "_dom_classes": [],
       "_model_module": "@jupyter-widgets/controls",
       "_model_module_version": "1.5.0",
       "_model_name": "IntSliderModel",
       "_view_count": null,
       "_view_module": "@jupyter-widgets/controls",
       "_view_module_version": "1.5.0",
       "_view_name": "IntSliderView",
       "continuous_update": true,
       "description": "T",
       "description_tooltip": null,
       "disabled": false,
       "layout": "IPY_MODEL_a5ef1bef96f34c3f814e4147525a6667",
       "max": 1000,
       "min": 300,
       "orientation": "horizontal",
       "readout": true,
       "readout_format": "d",
       "step": 10,
       "style": "IPY_MODEL_06b96da493b4431fac8e3765a96039f3",
       "value": 300
      }
     },
     "e3f4af9b0bc04d1eb8712a5ff3c4184f": {
      "model_module": "@jupyter-widgets/base",
      "model_module_version": "1.2.0",
      "model_name": "LayoutModel",
      "state": {
       "_model_module": "@jupyter-widgets/base",
       "_model_module_version": "1.2.0",
       "_model_name": "LayoutModel",
       "_view_count": null,
       "_view_module": "@jupyter-widgets/base",
       "_view_module_version": "1.2.0",
       "_view_name": "LayoutView",
       "align_content": null,
       "align_items": null,
       "align_self": null,
       "border": null,
       "bottom": null,
       "display": null,
       "flex": null,
       "flex_flow": null,
       "grid_area": null,
       "grid_auto_columns": null,
       "grid_auto_flow": null,
       "grid_auto_rows": null,
       "grid_column": null,
       "grid_gap": null,
       "grid_row": null,
       "grid_template_areas": null,
       "grid_template_columns": null,
       "grid_template_rows": null,
       "height": null,
       "justify_content": null,
       "justify_items": null,
       "left": null,
       "margin": null,
       "max_height": null,
       "max_width": null,
       "min_height": null,
       "min_width": null,
       "object_fit": null,
       "object_position": null,
       "order": null,
       "overflow": null,
       "overflow_x": null,
       "overflow_y": null,
       "padding": null,
       "right": null,
       "top": null,
       "visibility": null,
       "width": null
      }
     },
     "f21b1e8b448040e7b79255033a7e567e": {
      "model_module": "@jupyter-widgets/base",
      "model_module_version": "1.2.0",
      "model_name": "LayoutModel",
      "state": {
       "_model_module": "@jupyter-widgets/base",
       "_model_module_version": "1.2.0",
       "_model_name": "LayoutModel",
       "_view_count": null,
       "_view_module": "@jupyter-widgets/base",
       "_view_module_version": "1.2.0",
       "_view_name": "LayoutView",
       "align_content": null,
       "align_items": null,
       "align_self": null,
       "border": null,
       "bottom": null,
       "display": null,
       "flex": null,
       "flex_flow": null,
       "grid_area": null,
       "grid_auto_columns": null,
       "grid_auto_flow": null,
       "grid_auto_rows": null,
       "grid_column": null,
       "grid_gap": null,
       "grid_row": null,
       "grid_template_areas": null,
       "grid_template_columns": null,
       "grid_template_rows": null,
       "height": null,
       "justify_content": null,
       "justify_items": null,
       "left": null,
       "margin": null,
       "max_height": null,
       "max_width": null,
       "min_height": null,
       "min_width": null,
       "object_fit": null,
       "object_position": null,
       "order": null,
       "overflow": null,
       "overflow_x": null,
       "overflow_y": null,
       "padding": null,
       "right": null,
       "top": null,
       "visibility": null,
       "width": null
      }
     },
     "f7a07af7fb8e4f39923469f974214a2e": {
      "model_module": "@jupyter-widgets/base",
      "model_module_version": "1.2.0",
      "model_name": "LayoutModel",
      "state": {
       "_model_module": "@jupyter-widgets/base",
       "_model_module_version": "1.2.0",
       "_model_name": "LayoutModel",
       "_view_count": null,
       "_view_module": "@jupyter-widgets/base",
       "_view_module_version": "1.2.0",
       "_view_name": "LayoutView",
       "align_content": null,
       "align_items": null,
       "align_self": null,
       "border": null,
       "bottom": null,
       "display": null,
       "flex": null,
       "flex_flow": null,
       "grid_area": null,
       "grid_auto_columns": null,
       "grid_auto_flow": null,
       "grid_auto_rows": null,
       "grid_column": null,
       "grid_gap": null,
       "grid_row": null,
       "grid_template_areas": null,
       "grid_template_columns": null,
       "grid_template_rows": null,
       "height": null,
       "justify_content": null,
       "justify_items": null,
       "left": null,
       "margin": null,
       "max_height": null,
       "max_width": null,
       "min_height": null,
       "min_width": null,
       "object_fit": null,
       "object_position": null,
       "order": null,
       "overflow": null,
       "overflow_x": null,
       "overflow_y": null,
       "padding": null,
       "right": null,
       "top": null,
       "visibility": null,
       "width": null
      }
     },
     "f952509e96d94c9d9ba409093d62bd94": {
      "model_module": "@jupyter-widgets/controls",
      "model_module_version": "1.5.0",
      "model_name": "SliderStyleModel",
      "state": {
       "_model_module": "@jupyter-widgets/controls",
       "_model_module_version": "1.5.0",
       "_model_name": "SliderStyleModel",
       "_view_count": null,
       "_view_module": "@jupyter-widgets/base",
       "_view_module_version": "1.2.0",
       "_view_name": "StyleView",
       "description_width": "",
       "handle_color": null
      }
     },
     "f9850127f9dd446ebce021b17e3e9138": {
      "model_module": "@jupyter-widgets/controls",
      "model_module_version": "1.5.0",
      "model_name": "SliderStyleModel",
      "state": {
       "_model_module": "@jupyter-widgets/controls",
       "_model_module_version": "1.5.0",
       "_model_name": "SliderStyleModel",
       "_view_count": null,
       "_view_module": "@jupyter-widgets/base",
       "_view_module_version": "1.2.0",
       "_view_name": "StyleView",
       "description_width": "",
       "handle_color": null
      }
     }
    },
    "version_major": 2,
    "version_minor": 0
   }
  }
 },
 "nbformat": 4,
 "nbformat_minor": 5
}