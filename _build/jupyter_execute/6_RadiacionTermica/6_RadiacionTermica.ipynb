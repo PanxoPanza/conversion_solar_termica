{
 "cells": [
  {
   "cell_type": "markdown",
   "id": "8b01ca79",
   "metadata": {
    "slideshow": {
     "slide_type": "slide"
    }
   },
   "source": [
    " <font size=\"6\">MEC501 - Manejo y Conversión de Energía Solar Térmica</font>\n",
    "# Radiación Térmica\n",
    "<br><br><br><br>\n",
    "Profesor: Francisco Ramírez Cuevas<br>\n",
    "Fecha: 30 de Septiembre 2022"
   ]
  },
  {
   "cell_type": "markdown",
   "id": "e21d64ae",
   "metadata": {
    "slideshow": {
     "slide_type": "slide"
    }
   },
   "source": [
    "## Introducción a la Transferencia de Calor\n",
    "A nivel molecular, los átomos que compomen la materia siempre está vibrando. La magnitud de estas vibraciones está caracterizada estadísticamente por la temperatura:"
   ]
  },
  {
   "cell_type": "markdown",
   "id": "35dd953b",
   "metadata": {},
   "source": [
    "<img src=\"./images/temperature_brownian_motion.gif\" width=\"400px\" align= center>"
   ]
  },
  {
   "cell_type": "markdown",
   "id": "7810d826",
   "metadata": {
    "cell_style": "center",
    "slideshow": {
     "slide_type": "slide"
    }
   },
   "source": [
    "Consideremos un sólido extendido con una diferencia de temperatura, $\\Delta T$, entre sus extremos, tal que el lado izquierdo tiene una mayor temperatura que el lado derecho"
   ]
  },
  {
   "cell_type": "markdown",
   "id": "5407e5b7",
   "metadata": {
    "cell_style": "split",
    "slideshow": {
     "slide_type": "fragment"
    }
   },
   "source": [
    "<img src=\"./images/heat_transfer.gif\" width=\"300px\" align= center>"
   ]
  },
  {
   "cell_type": "markdown",
   "id": "85b590b5",
   "metadata": {
    "cell_style": "split",
    "slideshow": {
     "slide_type": "fragment"
    }
   },
   "source": [
    "Debido a la diferencia de temperatura, la vibración molecular en el lado izquierdo es mayor. Esta energía cinética es transmitida a través del material hacia el lado derecho."
   ]
  },
  {
   "cell_type": "markdown",
   "id": "6f302797",
   "metadata": {
    "slideshow": {
     "slide_type": "slide"
    }
   },
   "source": [
    "Definimos como **calor**, $Q$, a la energía térmica intercambiada entre dos medios cuya diferencia de temperatura es $\\Delta T$. A mayor $\\Delta T$, mayor es el intercambio de calor, matematicamente: \n",
    "\n",
    "\\begin{equation*}\n",
    "Q \\propto \\Delta T,\\quad\\mathrm{J}\n",
    "\\end{equation*}\n",
    "\n"
   ]
  },
  {
   "cell_type": "markdown",
   "id": "05b934bc",
   "metadata": {
    "slideshow": {
     "slide_type": "fragment"
    }
   },
   "source": [
    "La **taza de transferencia de calor**:\n",
    "\\begin{equation*}\n",
    "\\dot{Q} = \\frac{dQ}{dt},\\quad\\mathrm{W}\n",
    "\\end{equation*}\n",
    "\n",
    "corresponde al calor tranferido por unidad de tiempo."
   ]
  },
  {
   "cell_type": "markdown",
   "id": "8aface27",
   "metadata": {
    "slideshow": {
     "slide_type": "fragment"
    }
   },
   "source": [
    "Por último, definimos como **flujo de calor**: \n",
    "\\begin{equation*}\n",
    "q'' = \\dot{Q}/A,\\quad\\frac{\\mathrm{W}}{\\mathrm{m}^2}\n",
    "\\end{equation*}\n",
    "a la taza de transferencia de calor por unidad de área."
   ]
  },
  {
   "cell_type": "markdown",
   "id": "2c634772",
   "metadata": {
    "cell_style": "split",
    "slideshow": {
     "slide_type": "slide"
    }
   },
   "source": [
    "Existen tres mecanismo de transferencia de calor:\n",
    "\n",
    "- Conducción de calor\n",
    "- Convección de calor\n",
    "- Radiación"
   ]
  },
  {
   "cell_type": "markdown",
   "id": "a3e69153",
   "metadata": {
    "cell_style": "split",
    "slideshow": {
     "slide_type": "-"
    }
   },
   "source": [
    "<img src=\"./images/heat_transfer_mechanism.png\" width=\"500px\" align= center>"
   ]
  },
  {
   "cell_type": "markdown",
   "id": "ccaa08be",
   "metadata": {
    "slideshow": {
     "slide_type": "slide"
    }
   },
   "source": [
    "### Conducción de Calor\n",
    "**Definimos como *conducción de calor* al calor transferido a través de un material en reposo**. El mecanismo generalmente se asocia a **sólidos**, donde el calor es transferido a travéz de la red atómica del material. Sin embargo, la definición también incluye **líquidos y gases en reposo.** En este caso, las moléculas se mueven eleatoriamente, de manera tal que la velocidad neta del fluido es cero."
   ]
  },
  {
   "cell_type": "markdown",
   "id": "183006ce",
   "metadata": {
    "slideshow": {
     "slide_type": "fragment"
    }
   },
   "source": [
    "Matemáticamente, para un material de espesor $t$ y diferencia de temperatura $\\Delta T$, la **taza de transferencia de calor por conducción** a través de una superficie $A$, es:\n",
    "\n",
    "<img src=\"./images/heat_conduction_formula.png\" width=\"700px\" align= center>"
   ]
  },
  {
   "cell_type": "markdown",
   "id": "4fdfda8b",
   "metadata": {
    "slideshow": {
     "slide_type": "slide"
    }
   },
   "source": [
    "La conductividad térmica, $k_c$, es una propiedad del material que varía según la temperatura.\n",
    "\n",
    "<img src=\"./images/thermal_conductivity.png\" width=\"800px\" align= center>"
   ]
  },
  {
   "cell_type": "markdown",
   "id": "be69080c",
   "metadata": {
    "slideshow": {
     "slide_type": "slide"
    }
   },
   "source": [
    "En su forma diferencial, $\\dot{Q}_\\mathrm{cond}= - k\\nabla T$, y para el caso unidimensional:\n",
    "\n",
    "\\begin{equation}\n",
    "\\dot{Q}_\\mathrm{cond} = - kA\\frac{dT}{dx},\\quad\\mathrm{W}\n",
    "\\end{equation}"
   ]
  },
  {
   "cell_type": "markdown",
   "id": "ac955652",
   "metadata": {
    "slideshow": {
     "slide_type": "fragment"
    }
   },
   "source": [
    "A partir de esta fórmula podemos deducir expresiones para taza de transferencia de calor por conducción según la geometría:"
   ]
  },
  {
   "cell_type": "markdown",
   "id": "ec4af943",
   "metadata": {},
   "source": [
    "<img src=\"./images/heat_conduction_resistance.png\" width=\"600px\" align= center>"
   ]
  },
  {
   "cell_type": "markdown",
   "id": "bb05f7de",
   "metadata": {
    "slideshow": {
     "slide_type": "slide"
    }
   },
   "source": [
    "Notar que, como fórmula general, podemos expresar la taza de conducción de calor en la forma:\n",
    "\n",
    "\\begin{equation*}\n",
    "\\dot{Q}_\\mathrm{cond} = \\frac{T_H - T_C}{R_\\mathrm{cond}},\\quad\\mathrm{W}\n",
    "\\end{equation*}\n",
    "\n",
    "donde, $R_\\mathrm{cond}$ (K/W) es la **resistencia térmica** asociada al mecanismo de conducción."
   ]
  },
  {
   "cell_type": "markdown",
   "id": "bbea9efd",
   "metadata": {
    "slideshow": {
     "slide_type": "slide"
    }
   },
   "source": [
    "### Convección de Calor\n",
    "**Definimos como *convección de calor* al calor transferido a través de fluidos en movimiento.** El movimiento de un fluido puede ocurrir naturalmente, debido a los efectos de flotación a raíz de los cambio de densidad con la temperatura; o de forma inducida, como por ejemplo mediante un ventilador."
   ]
  },
  {
   "cell_type": "markdown",
   "id": "2f11707d",
   "metadata": {
    "cell_style": "split",
    "slideshow": {
     "slide_type": "fragment"
    }
   },
   "source": [
    "A partir de esto, clasificamos la transferencia de calor por convección, respectivamente, como:\n",
    "- **convección natural**\n",
    "- **convección forzada**."
   ]
  },
  {
   "cell_type": "markdown",
   "id": "335e9cda",
   "metadata": {
    "cell_style": "split",
    "slideshow": {
     "slide_type": "fragment"
    }
   },
   "source": [
    "<img src=\"./images/heat_convection_mechanism.png\" width=\"300px\" align= center>"
   ]
  },
  {
   "cell_type": "markdown",
   "id": "a11782b3",
   "metadata": {
    "slideshow": {
     "slide_type": "slide"
    }
   },
   "source": [
    "La convección de calor esta asociada al contacto de fluidos con una superficie, $A$. Así, independiente del mecanismo de convección de calor (natural o forzada), expresamos la **taza de transferencia de calor por convección** como:\n",
    "\n",
    "<img src=\"./images/heat_convection_formula.png\" width=\"700px\" align= center>"
   ]
  },
  {
   "cell_type": "markdown",
   "id": "322fa067",
   "metadata": {},
   "source": [
    "Notar que la taza de transferencia de calor por convección puede ser expresada en la forma:\n",
    "\n",
    "\\begin{equation*}\n",
    "\\dot{Q}_\\mathrm{conv} = \\frac{T_\\infty - T}{R_\\mathrm{conv}},\\quad\\mathrm{W}\n",
    "\\end{equation*}\n",
    "\n",
    "donde $R_\\mathrm{conv}=1/hA$ es la resistencia térmica asociada a la convección de calor."
   ]
  },
  {
   "cell_type": "markdown",
   "id": "983b6ab0",
   "metadata": {
    "slideshow": {
     "slide_type": "slide"
    }
   },
   "source": [
    "A diferencia de la conducción de calor, el coeficiente convectivo, $h$, **no es una propiedad del fluido**. Esto porque no solo depende de las propiedades del fluido (densidad, viscocidad y conductividad térmica, entre otras), sino que además depende de condiciones externas, como la velocidad del flujo, la diferencia de temperaturas, y la geometría del cuerpó sometido a conveccción de calor."
   ]
  },
  {
   "cell_type": "markdown",
   "id": "608df105",
   "metadata": {
    "slideshow": {
     "slide_type": "fragment"
    }
   },
   "source": [
    "El coeficiente convectivo se determina a partir de relaciones expresadas en términos del número de Nusselt, $\\mathrm{Nu} = \\frac{hL_c}{k_f}$, donde $L_c$ es una longitud característica y $k_f$ es la conductividad térmica del fluido. En la mayoría de los casos, las relaciones para el número de Nusselt para cada caso se determinan experimentalmente."
   ]
  },
  {
   "cell_type": "markdown",
   "id": "f73fe75a",
   "metadata": {
    "slideshow": {
     "slide_type": "fragment"
    }
   },
   "source": [
    "Comúnmente, los valores para el número de Nusselt se encuentran dentro de los siguientes rangos:\n",
    "\n",
    "- Convección forzada, $\\mathrm{Nu} \\sim 5 - 1000 $\n",
    "- Convección natural, $\\mathrm{Nu} \\sim 0 - 100$"
   ]
  },
  {
   "cell_type": "markdown",
   "id": "7d4df5f2",
   "metadata": {
    "slideshow": {
     "slide_type": "slide"
    }
   },
   "source": [
    "### Transferencia de calor en estado estacionario\n",
    "\n",
    "En estado estacionario, el flujo de calor es constante. En este caso, podemos simplificar el análisis de transferencia de calor por convección y conducción utilizando resistencias térmicas.\n",
    "\n",
    "<img src=\"./images/stationary_heat_transfer.png\" width=\"700px\" align= center>"
   ]
  },
  {
   "cell_type": "markdown",
   "id": "53ef8ae3",
   "metadata": {
    "slideshow": {
     "slide_type": "slide"
    }
   },
   "source": [
    "## Fundamentos de la radiación térmica\n",
    "\n",
    "Las vibraciones a nivel molecular también inducen polarización en la materia. Esto es similar al fenómeno de polarización inducida por ondas electromagnéticas estudiada en la unidad 3. Estos dipolos inducidos térmicamente, oscilan constantemente generando campos electromagnéticos que se propagan en dirección radial.\n",
    "\n",
    "<img src=\"./images/radiating_dipole.png\" width=\"700px\" align= center>"
   ]
  },
  {
   "cell_type": "markdown",
   "id": "767562ad",
   "metadata": {
    "slideshow": {
     "slide_type": "slide"
    }
   },
   "source": [
    "En la siguiente animación podemos ver el proceso de emisión de ondas electromagnéticas por un dipolo oscilatorio. El mapa de colores representa la intensidad del campo magnético, es decir $|\\vec{H}|$, donde rojo y azul corresponden, respectivamente, a los valorse máximos y mínimos.\n",
    "\n",
    "<img src=\"./images/HW_vertical_noground.gif\" width=\"300px\" align= center>"
   ]
  },
  {
   "cell_type": "markdown",
   "id": "7088a84b",
   "metadata": {
    "cell_style": "center",
    "slideshow": {
     "slide_type": "slide"
    }
   },
   "source": [
    "### Poder de emisión\n",
    "Un cuerpo a temperatura $T$ emite ondas electromagnéticas en todas las direcciones y en un espectro de longitudes de onda. En general, la distribución angular ($\\Omega$) y espectral ($\\lambda$) de la radiación emitida depende de las propiedades ópticas de la superficie y la temperatura del material. "
   ]
  },
  {
   "cell_type": "markdown",
   "id": "b364c7cf",
   "metadata": {
    "slideshow": {
     "slide_type": "fragment"
    }
   },
   "source": [
    "Para caracterizar la intensidad de la radiación emitida por una superficie a tempertura $T$, usamos la **intensidad específica o radiancia espectral**, $I_\\lambda(\\lambda,\\Omega,T)$."
   ]
  },
  {
   "cell_type": "markdown",
   "id": "09477f6e",
   "metadata": {
    "cell_style": "center",
    "slideshow": {
     "slide_type": "slide"
    }
   },
   "source": [
    "La taza de calor total emitido por una superficie $dA$ de un cuerpo negro en función de $\\lambda$ y $\\Omega$, $d\\dot{Q}_\\mathrm{rad}$, está dada por:\n",
    "\n",
    "\\begin{equation}\n",
    "d\\dot{Q}_\\mathrm{rad} = I_{\\lambda}(\\lambda,T,\\theta,\\phi) \\sin\\theta \\cos\\theta dA d\\Omega d\\lambda\n",
    "\\end{equation}"
   ]
  },
  {
   "cell_type": "markdown",
   "id": "f849cc9e",
   "metadata": {
    "cell_style": "split",
    "slideshow": {
     "slide_type": "fragment"
    }
   },
   "source": [
    "El término $\\cos\\theta dA$ corresponde a la proyección de $dA$ en la dirección $\\Omega$"
   ]
  },
  {
   "cell_type": "markdown",
   "id": "d3b63571",
   "metadata": {
    "cell_style": "split"
   },
   "source": [
    "<img src=\"./images/specific_intensity.png\" width=\"300px\" align= center>"
   ]
  },
  {
   "cell_type": "markdown",
   "id": "891a8504",
   "metadata": {
    "cell_style": "center",
    "slideshow": {
     "slide_type": "slide"
    }
   },
   "source": [
    "Definimos como **poder de emisión direccional espectral** a la relación:\n",
    "\n",
    "\\begin{equation}\n",
    "E_{\\lambda,\\Omega}(T) = \\frac{d\\dot{Q}_\\mathrm{rad}}{dAd\\Omega d\\lambda}=I_{\\lambda}(\\lambda,\\Omega)\\cos\\theta ,\\quad\\quad\\frac{\\mathrm{W}}{\\mathrm{m}^2\\cdot\\mu\\mathrm{m}\\cdot\\mathrm{sr}}\n",
    "\\end{equation}"
   ]
  },
  {
   "cell_type": "markdown",
   "id": "ec272999",
   "metadata": {
    "slideshow": {
     "slide_type": "fragment"
    }
   },
   "source": [
    "A diferencia de la intensidad específica, el poder de emisión considera la radiación effectiva emitida por una superficie."
   ]
  },
  {
   "cell_type": "markdown",
   "id": "3c1cf7c2",
   "metadata": {},
   "source": [
    "<img src=\"./images/emissive_power.png\" width=\"500px\" align= center>"
   ]
  },
  {
   "cell_type": "markdown",
   "id": "ad56f5b7",
   "metadata": {
    "slideshow": {
     "slide_type": "slide"
    }
   },
   "source": [
    "A partir de este término podemos derivar:"
   ]
  },
  {
   "cell_type": "markdown",
   "id": "c62c0cc6",
   "metadata": {
    "slideshow": {
     "slide_type": "fragment"
    }
   },
   "source": [
    "- **Poder de emisión hemisférica espectral**, \n",
    "\n",
    "\\begin{align*}\n",
    "E_{\\lambda}(T) = \\frac{d\\dot{Q}}{dA d\\lambda} &= \\int_0^{2\\pi}\\int_0^{\\pi/2}I_{\\lambda}(\\lambda,\\Omega)\\cos\\theta~\\sin\\theta  d\\theta d\\phi\n",
    "  \\\\ \n",
    "  &=\\int_\\mathrm{hemi} I_{\\lambda}(\\lambda,\\Omega)\\cos\\theta~d\\Omega\n",
    "  ,\\quad\\quad\\frac{\\mathrm{W}}{\\mathrm{m}^2\\cdot\\mu\\mathrm{m}}\n",
    "\\end{align*}"
   ]
  },
  {
   "cell_type": "markdown",
   "id": "a9a23a55",
   "metadata": {
    "slideshow": {
     "slide_type": "fragment"
    }
   },
   "source": [
    "- **Poder de emisión direccional total**,\n",
    "\n",
    "\\begin{equation*}\n",
    "E_\\Omega(\\lambda,T) = \\frac{d\\dot{Q}}{dAd\\Omega}=\\cos\\theta \\int_0^\\infty~ I_{\\lambda}(\\lambda,\\Omega)~d\\lambda  ,\\quad\\quad\\frac{\\mathrm{W}}{\\mathrm{m}^2 \\cdot\\mathrm{sr}}\n",
    "\\end{equation*}"
   ]
  },
  {
   "cell_type": "markdown",
   "id": "4c94bf8c",
   "metadata": {
    "slideshow": {
     "slide_type": "fragment"
    }
   },
   "source": [
    "- **Poder de emisión hemisfética total**, \n",
    "\n",
    "\\begin{equation*}\n",
    "E(T) = \\frac{d\\dot{Q}}{dA}=\\int_0^\\infty\\int_\\mathrm{hemi}I_{\\lambda}(\\lambda,\\Omega)\\cos\\theta~d\\Omega d\\lambda ,\\quad\\quad\\frac{\\mathrm{W}}{\\mathrm{m}^2}\n",
    "\\end{equation*}"
   ]
  },
  {
   "cell_type": "markdown",
   "id": "b670c6be",
   "metadata": {
    "slideshow": {
     "slide_type": "slide"
    }
   },
   "source": [
    "### Distribución de Planck\n",
    "\n",
    "Max Planck en 1901 determinó que la **máxima radiancia espectral o intensidad específica** (flujo de energía por unidad de longitud de onda y ángulo sólido) emitida por un cuerpo a temperatura $T$, en un medio con índice de refracción $n_1$, está dada por:\n",
    "\n",
    "\\begin{equation}\n",
    "I_{\\mathrm{bb},\\lambda}(\\lambda,T,\\Omega) = \\frac{C_1}{n_1\\lambda^5\\left[\\exp\\left(C_2/\\lambda T\\right) - 1\\right]},\\quad\\quad\\frac{\\mathrm{W}}{\\mathrm{m}^2\\cdot\\mu\\mathrm{m}\\cdot\\mathrm{sr}}\n",
    "\\end{equation}\n",
    "\n",
    "donde \n",
    "\\begin{align*}\n",
    "C_1 &= 2hc_0^2 = 1.19104238\\times 10^8 ~\\mathrm{W}\\cdot\\mu\\mathrm{m}^4/\\mathrm{m}^2 \\\\\n",
    "C_2 &= hc_0/k_\\mathrm{B} = 1.43878\\times10^{4}~\\mu\\mathrm{m}\\cdot\\mathrm{K}\n",
    "\\end{align*}\n",
    "\n",
    "$k_\\mathrm{B} = 1.381\\times 10^{-23}$ J/K $=8.617\\times 10^{-5}$ eV/K, es la constante de Boltzmann. La unidad \"sr\" correponde a un esteroradian."
   ]
  },
  {
   "cell_type": "markdown",
   "id": "4e04c610",
   "metadata": {
    "slideshow": {
     "slide_type": "fragment"
    }
   },
   "source": [
    "Esta es la **distribución de Planck**. Representa la radiancia espectral emitida por un cuerpo idealizado, denominado **cuerpo negro**. Un cuerpo negro, así, representa un emisor perfecto, capaz de emitir la máxima radiacion posible a una temperatura $T$."
   ]
  },
  {
   "cell_type": "markdown",
   "id": "513d759b",
   "metadata": {
    "slideshow": {
     "slide_type": "slide"
    }
   },
   "source": [
    "El poder de emisión hemisférico espectral de la superficie de un cuerpo negro, $E_\\mathrm{bb}(\\lambda,T)$, se obtiene integrando la radiancia espectral por ángulo sólido en el límite de una hemiesfera:\n",
    "\n",
    "\\begin{equation}\n",
    "\\int_\\mathrm{hemi} I_{\\mathrm{bb},\\lambda}(\\lambda,T,\\Omega)\\cos\\theta d\\Omega = \\pi I_{\\mathrm{bb},\\lambda}(\\lambda,T) = E_{\\mathrm{bb},\\lambda}(\\lambda,T),\\quad\\quad\\frac{\\mathrm{W}}{\\mathrm{m}^2\\cdot\\mu\\mathrm{m}}\n",
    "\\end{equation}"
   ]
  },
  {
   "cell_type": "markdown",
   "id": "3cbf0ea5",
   "metadata": {
    "slideshow": {
     "slide_type": "fragment"
    }
   },
   "source": [
    "A partir de la integral de $E_\\mathrm{bb}(\\lambda,T)$ en el espectro de longitudes de onda, obtenemos el poder de emisión hemisferico total de un cuerpo negro:\n",
    "\n",
    "\\begin{equation}\n",
    "\\int_0^\\infty E_{\\mathrm{bb},\\lambda}(\\lambda,T) d\\lambda = \\sigma T^4,\\quad\\quad\\frac{\\mathrm{W}}{\\mathrm{m}^2}\n",
    "\\end{equation}\n",
    "\n",
    "donde $\\sigma = 5.670\\times10^{-8}$ W/m$^2\\cdot$K$^4$, es la *constante de Stefan-Boltzmann.* Esta fórmula se conoce como la **ley de Stefan-Boltzmann**"
   ]
  },
  {
   "cell_type": "markdown",
   "id": "18b26d00",
   "metadata": {
    "slideshow": {
     "slide_type": "slide"
    }
   },
   "source": [
    "En la siguiente figura, se ilustra $E_{\\mathrm{bb},\\lambda}(\\lambda,T)$ función de la temperatura y longitud de onda.\n"
   ]
  },
  {
   "cell_type": "markdown",
   "id": "0c94c575",
   "metadata": {},
   "source": [
    "<img src=\"./images/blackbody_rad.png\" width=\"700px\" align= center>"
   ]
  },
  {
   "cell_type": "markdown",
   "id": "8eb1ce9b",
   "metadata": {
    "slideshow": {
     "slide_type": "slide"
    }
   },
   "source": [
    "A medida que $T$ aumenta, notamos que el máximo de la curva se desplaza hacia el azul. La longitud de onda correspondiente a este máximo, $\\lambda_\\mathrm{peak}$, está definida por la **ley de desplazamiento de Wien:**\n",
    "\n",
    "\\begin{equation}\n",
    "\\lambda_\\mathrm{peak}T = 2897.8\\quad\\mu\\mathrm{m}\\cdot\\mathrm{K}\n",
    "\\end{equation}\n"
   ]
  },
  {
   "cell_type": "markdown",
   "id": "26d022df",
   "metadata": {
    "slideshow": {
     "slide_type": "fragment"
    }
   },
   "source": [
    "Esta relación permite entender el cambio de color de la fuente emisora con la tempertura."
   ]
  },
  {
   "cell_type": "markdown",
   "id": "441619f6",
   "metadata": {
    "slideshow": {
     "slide_type": "fragment"
    }
   },
   "source": [
    "Recordemos, sin embargo,  que **el color de un material no solo se define por la emisión de radiación, sino también por la forma en la que interactúa con la luz incidente**. Como revisamos en las unidades anteriores, esta interacción está condionada por las propiedades radiativas."
   ]
  },
  {
   "cell_type": "markdown",
   "id": "da43fbee",
   "metadata": {
    "slideshow": {
     "slide_type": "slide"
    }
   },
   "source": [
    "### Propiedades Radiativas\n",
    "\n",
    "Definimos como **emisividad direccional espectral, $\\epsilon_{\\lambda,\\Omega}$,** a la *razón entre la radiación emitida por una superficie, $I_\\lambda(\\lambda,T,\\Omega)$, y la radiación emitida por un cuerpo negro, ambas a temperatura $T$*:\n",
    "\n",
    "\\begin{equation}\n",
    "\\epsilon_{\\lambda,\\Omega} = \\frac{I_\\lambda(\\lambda,T,\\Omega)}{I_{\\mathrm{bb},\\lambda}(\\lambda,T,\\Omega)}\n",
    "\\end{equation}\n",
    "\n",
    "De esta forma, $\\epsilon$ es una propiedad adimensional de superfice que varía entre $0 \\le \\epsilon \\le 1$."
   ]
  },
  {
   "cell_type": "markdown",
   "id": "819d0302",
   "metadata": {
    "slideshow": {
     "slide_type": "fragment"
    }
   },
   "source": [
    "Definimos como **absortividad direccional espectral, $A_{\\lambda,\\Omega}$,** a la *porción de radiación incidente que es absorbida por una superficie*. Igualmente, $0 \\le \\alpha \\le 1$."
   ]
  },
  {
   "cell_type": "markdown",
   "id": "64a21ba8",
   "metadata": {
    "slideshow": {
     "slide_type": "slide"
    }
   },
   "source": [
    "A través de la **ley de Kirchhoff**, podemos establecer una relación entre la absortancia y emisividad espectral direccional:\n",
    "\n",
    "\\begin{equation}\n",
    "\\epsilon_{\\lambda,\\Omega} = A_{\\lambda,\\Omega}\n",
    "\\end{equation}"
   ]
  },
  {
   "cell_type": "markdown",
   "id": "5dd135bb",
   "metadata": {
    "slideshow": {
     "slide_type": "fragment"
    }
   },
   "source": [
    "En otras palabras, las propiedades de un material como receptor o emisor de radiación, son iguales. Este concepto, denominado *reciprocidad*, es consecuencia de las ecuaciones de Maxwell y es la base fundamental para el diseño de antenas y radares."
   ]
  },
  {
   "cell_type": "markdown",
   "id": "1f3f624f",
   "metadata": {
    "slideshow": {
     "slide_type": "slide"
    }
   },
   "source": [
    "Por conservación de energía:\n",
    "\\begin{equation}\n",
    "A_{\\lambda,\\Omega} + R_{\\lambda,\\Omega} + T_{\\lambda,\\Omega} = 1\n",
    "\\end{equation}\n"
   ]
  },
  {
   "cell_type": "markdown",
   "id": "c03d9fac",
   "metadata": {
    "slideshow": {
     "slide_type": "fragment"
    }
   },
   "source": [
    "donde $R_{\\lambda,\\Omega}$ y $T_{\\lambda,\\Omega}$ son, respectivamente, la reflectividad y transmisividad espectral direccional del material"
   ]
  },
  {
   "cell_type": "markdown",
   "id": "d93dacf1",
   "metadata": {
    "slideshow": {
     "slide_type": "fragment"
    }
   },
   "source": [
    "Debido a la naturaleza de la radiación térmica, la polarización de las ondas electromagnéticas es aleatoria. Así, $R_{\\lambda,\\Omega}$ y $T_{\\lambda,\\Omega}$ se calculan como:\n",
    "\n",
    "\\begin{equation}\n",
    "R_{\\lambda,\\Omega} = \\frac{R_{\\lambda,\\Omega}^\\mathrm{TM}+R_{\\lambda,\\Omega}^\\mathrm{TE}}{2}\\quad\\quad\n",
    "T_{\\lambda,\\Omega} = \\frac{T_{\\lambda,\\Omega}^\\mathrm{TM}+T_{\\lambda,\\Omega}^\\mathrm{TE}}{2}\n",
    "\\end{equation}"
   ]
  },
  {
   "cell_type": "markdown",
   "id": "1b34032f",
   "metadata": {
    "slideshow": {
     "slide_type": "fragment"
    }
   },
   "source": [
    "A partir de estas relaciones podemos determinar $\\epsilon_{\\lambda,\\Omega}$."
   ]
  },
  {
   "cell_type": "markdown",
   "id": "048661b3",
   "metadata": {
    "slideshow": {
     "slide_type": "slide"
    }
   },
   "source": [
    "Cabe mencionar que en textos de radiometría y transferencia de calor, la reflectividad y transmisividad se denominan, respectivamente, **reflectancia ($\\rho$)**, **transmitancia ($\\tau$).** Igualmente la absortividad se denomina **absortancia ($\\alpha$).** Ambos términos son equivalentes."
   ]
  },
  {
   "cell_type": "markdown",
   "id": "51fbf681",
   "metadata": {
    "slideshow": {
     "slide_type": "fragment"
    }
   },
   "source": [
    "En este curso, seguiremos utilizando los términos y notación de óptica, es decir $R_{\\lambda,\\Omega}$, $T_{\\lambda,\\Omega}$ y $A_{\\lambda,\\Omega}$, para evitar confusiones. "
   ]
  },
  {
   "cell_type": "markdown",
   "id": "4d61c797",
   "metadata": {
    "slideshow": {
     "slide_type": "slide"
    }
   },
   "source": [
    "Como ejemplo, analicemos el poder de emisión espectral direccional, $E_{\\lambda,\\Omega}(T)$ y la emisividad $\\epsilon(\\lambda,\\Omega)$ de una capa de vidrio en función de la temperatura ($T$), espesor ($d$) y dirección ($\\theta$). En este caso: \n",
    "\n",
    "\\begin{align*}\n",
    "E_{\\lambda,\\Omega}(T) &= \\epsilon(\\lambda,\\Omega)I_{\\mathrm{bb},\\lambda}(\\lambda,\\Omega,T)\\cos\\theta \\\\[10pt]\n",
    " &= \\left[1 - R_{\\lambda,\\Omega} - T_{\\lambda,\\Omega}\\right]I_{\\mathrm{bb},\\lambda}(\\lambda,\\Omega,T)\\cos\\theta\n",
    "\\end{align*}"
   ]
  },
  {
   "cell_type": "markdown",
   "id": "e04ec37d",
   "metadata": {
    "slideshow": {
     "slide_type": "slide"
    }
   },
   "source": [
    "Antes, analicemos el índice de refracción del vidrio (sílicice, SiO$_2$), en el espectro $\\lambda\\in[0.3,15]$ $\\mu$m."
   ]
  },
  {
   "cell_type": "code",
   "execution_count": 1,
   "id": "e34559d2",
   "metadata": {
    "cell_style": "split",
    "slideshow": {
     "slide_type": "fragment"
    }
   },
   "outputs": [],
   "source": [
    "%%capture showplot\n",
    "import numpy as np\n",
    "import empylib.nklib as nk\n",
    "import matplotlib.pyplot as plt\n",
    "\n",
    "plt.rcParams['font.size'] = '18' # tamaño de fuente\n",
    "\n",
    "lam = np.linspace(0.3,15,100)\n",
    "plt.plot(lam,nk.SiO2(lam).real,'-r',label='$n$')\n",
    "plt.plot(lam,nk.SiO2(lam).imag,'-b',label='$\\kappa$')\n",
    "plt.xlabel('Longitud de onda, $\\lambda$ ($\\mu$m)',fontsize=16)\n",
    "plt.ylabel('$n$, $\\kappa$',fontsize=16)\n",
    "plt.title('Índice de refracción SiO$_2$')\n",
    "plt.legend(frameon=False)"
   ]
  },
  {
   "cell_type": "code",
   "execution_count": 2,
   "id": "20435072",
   "metadata": {
    "cell_style": "split"
   },
   "outputs": [
    {
     "data": {
      "text/plain": [
       "<matplotlib.legend.Legend at 0x7fed5dce4c10>"
      ]
     },
     "metadata": {},
     "output_type": "display_data"
    },
    {
     "data": {
      "image/png": "[encoded data removed]",
      "text/plain": [
       "<Figure size 432x288 with 1 Axes>"
      ]
     },
     "metadata": {
      "filenames": {
       "image/png": "/mnt/d/OneDrive - Universidad Adolfo Ibanez/Teaching_courses/Manejo_y_Conversion_Energia_Solar_Termica/material_catedra/_build/jupyter_execute/6_RadiacionTermica/6_RadiacionTermica_63_1.png"
      },
      "needs_background": "light"
     },
     "output_type": "display_data"
    }
   ],
   "source": [
    "showplot()"
   ]
  },
  {
   "cell_type": "markdown",
   "id": "89749a31",
   "metadata": {
    "slideshow": {
     "slide_type": "fragment"
    }
   },
   "source": [
    "Comparamos $E_{\\lambda,\\Omega}(T)$ con el poder de emisión espectral direccional del cuerpo negro, $E_{\\mathrm{bb},\\lambda,\\Omega} = I_{\\mathrm{bb},\\lambda}\\cos\\theta$"
   ]
  },
  {
   "cell_type": "code",
   "execution_count": 3,
   "id": "f24c88be",
   "metadata": {
    "slideshow": {
     "slide_type": "slide"
    }
   },
   "outputs": [],
   "source": [
    "import empylib.waveoptics as wv\n",
    "import empylib.nklib as nk\n",
    "import numpy as np\n",
    "from numpy import log10, radians\n",
    "import matplotlib.pyplot as plt\n",
    "from empylib.ref_spectra import Bplanck\n",
    "\n",
    "def plot_emisivity_glass(Temp,d,lam0,theta0):\n",
    "    # parámetros de entrada\n",
    "    \n",
    "    lam = np.linspace(0.3,15,100)\n",
    "    Nfront = 1.0                 # índice de refracción medio superior\n",
    "    N1     = nk.SiO2(lam)        # índice de refracción capa intermedia\n",
    "    Nback  = 4.3                 # índice de refracción medio inferior\n",
    "    N = (Nfront, N1, Nback)      # indices de refracción (above, mid, below)\n",
    "\n",
    "    # Reflectancia y transmitancia espectral en theta0\n",
    "    Rs, Ts = wv.incoh_multilayer(lam,radians(theta0), N, d*1E3, pol='TM')\n",
    "    Rp, Tp = wv.incoh_multilayer(lam,radians(theta0), N, d*1E3, pol='TM')\n",
    "    \n",
    "    R_lam = (Rs + Rp)/2\n",
    "    T_lam = (Ts + Tp)/2\n",
    "    A_lam = 1 - T_lam - R_lam\n",
    "    \n",
    "   # Reflectancia y transmitancia direccional en lam0\n",
    "    theta = np.linspace(0,90,100)\n",
    "    N = (Nfront, np.interp(lam0,lam,N1), Nback)      # indices de refracción (above, mid, below)\n",
    "    A_theta = [] # lista vacía\n",
    "    for theta_i in theta:\n",
    "        Rs, Ts = wv.incoh_multilayer(lam0,radians(theta_i), N, d*1E3, pol='TM')\n",
    "        Rp, Tp = wv.incoh_multilayer(lam0,radians(theta_i), N, d*1E3, pol='TM')\n",
    "        R = (Rs + Rp)/2\n",
    "        T = (Ts + Tp)/2\n",
    "        A_theta.append(1 - T - R)\n",
    "    A_theta = np.array(A_theta).flatten() # convertimos la lista a ndarray\n",
    "\n",
    "    fig, ax = plt.subplots(1,3)\n",
    "    fig.set_size_inches(16, 5)\n",
    "    plt.rcParams.update({'font.size': 18})\n",
    "    \n",
    "    # graficamos las propiedades radiativas espectrales\n",
    "    ax[0].plot(lam,R_lam,'--r',label=r'$R_{\\lambda,\\Omega}$',linewidth=0.5)\n",
    "    ax[0].plot(lam,T_lam,'--b',label=r'$T_{\\lambda,\\Omega}$',linewidth=0.5)\n",
    "    ax[0].plot(lam,A_lam,'-k',label=r'$A_{\\lambda,\\Omega}$',linewidth=2.0)  \n",
    "    ax[0].plot(lam0,np.interp(lam0,lam,A_lam),'or',ms=8.0)   \n",
    "    ax[0].set_xlabel('$\\lambda$ ($\\mu$m)',fontsize=18)\n",
    "    ax[0].set_ylabel(r'$R_{\\lambda,\\Omega}$, $T_{\\lambda,\\Omega}$ y $A_{\\lambda,\\Omega}$',fontsize=18)\n",
    "    ax[0].set_ylim(0,1.05)\n",
    "    ax[0].set_title(r'$\\theta = $ %i°' % theta0,fontsize=18)\n",
    "    ax[0].legend(fontsize=16)\n",
    "    \n",
    "    # graficamos la emisividad espectral en el ángulo\n",
    "    ax[1].plot(theta,A_theta,'-k')  \n",
    "    ax[1].plot(theta0,np.interp(theta0,theta,A_theta),'or',ms=8.0)   \n",
    "    ax[1].set_xlabel(r'$\\theta$ (deg)',fontsize=18)\n",
    "    ax[1].set_ylabel(r'$\\epsilon_{\\lambda,\\Omega}(\\theta)$',fontsize=18)\n",
    "    ax[1].set_title(r'$\\lambda = $ %.2f $\\mu$m' % lam0,fontsize=18)\n",
    "    ax[1].set_ylim(0,1.05)\n",
    "    \n",
    "    # Graficamos la radiación espectral\n",
    "    E_lam = A_lam*Bplanck(lam,Temp)*np.cos(np.radians(theta0)) # poder de emisión material\n",
    "    E_bb = Bplanck(lam,Temp)*np.cos(np.radians(theta0))        # poder de emisión de cuerpo negro\n",
    "    ax[2].plot(lam,E_lam,'-k',label =r'$E_{\\lambda,\\Omega}$')\n",
    "    ax[2].plot(lam,E_bb,'-r',label =r'$E_\\mathrm{bb}$') \n",
    "    ax[2].plot(lam0,np.interp(lam0,lam,E_lam),'or',ms=8.0)   \n",
    "    ax[2].set_xlabel('Longitud de onda ($\\mu$m)',fontsize=18)\n",
    "    ax[2].set_ylabel(r'$E_{\\lambda,\\Omega}$(T) (W/m$^2$-$\\mu$m-sr)',fontsize=18)\n",
    "    ax[2].set_title(r'd = %.2f mm, $\\theta$=%i°' % (d,theta0) ,fontsize=18)\n",
    "    ax[2].set_ylim(0,max(Bplanck(lam,Temp))*1.05)\n",
    "    ax[2].legend(fontsize=16)\n",
    "    \n",
    "    plt.subplots_adjust(wspace=0.30)\n",
    "    plt.show()"
   ]
  },
  {
   "cell_type": "code",
   "execution_count": 4,
   "id": "8e3af1c4",
   "metadata": {
    "slideshow": {
     "slide_type": "slide"
    }
   },
   "outputs": [
    {
     "data": {
      "application/vnd.jupyter.widget-view+json": {
       "model_id": "dc653e578cea406caf65cb80a1b11234",
       "version_major": 2,
       "version_minor": 0
      },
      "text/plain": [
       "interactive(children=(IntSlider(value=300, description='T', max=1000, min=300, step=10), FloatSlider(value=1.0…"
      ]
     },
     "metadata": {},
     "output_type": "display_data"
    }
   ],
   "source": [
    " from ipywidgets import interact\n",
    "\n",
    "@interact(T=(300,1000,10), d=(0,10,0.01), lam0=(5,10,0.01), theta0=(0,90,1))\n",
    "def g(T=300,d=1, lam0=10, theta0=0):\n",
    "    return plot_emisivity_glass(T,d,lam0,theta0)"
   ]
  },
  {
   "cell_type": "markdown",
   "id": "1071c1d3",
   "metadata": {
    "slideshow": {
     "slide_type": "slide"
    }
   },
   "source": [
    "Al igual que con el poder de emisión, la emisividad puede también ser definida de forma hemisférica (integración por ángulo sólido) o total (integración por longitudes de onda)"
   ]
  },
  {
   "cell_type": "markdown",
   "id": "67f1a8ba",
   "metadata": {
    "slideshow": {
     "slide_type": "fragment"
    }
   },
   "source": [
    "**Emisividad direccional total**\n",
    "\\begin{equation}\n",
    "\\epsilon_\\Omega(\\Omega,T) = \\frac{E_\\Omega(T)}{E_{\\Omega,bb}(T)} =\\frac{\\int_0^\\infty \\epsilon_{\\lambda,\\Omega} I_{\\mathrm{bb},\\lambda} (T)\\cos\\theta~d\\lambda}{\\int_0^\\infty I_{\\mathrm{bb},\\lambda} (T)\\cos\\theta~d\\lambda} = \\frac{\\pi}{\\sigma T^4}\\int_0^\\infty \\epsilon_{\\lambda,\\Omega} I_{\\mathrm{bb},\\lambda} (T)~d\\lambda\n",
    "\\end{equation}"
   ]
  },
  {
   "cell_type": "markdown",
   "id": "6e8b85fd",
   "metadata": {
    "slideshow": {
     "slide_type": "fragment"
    }
   },
   "source": [
    "**Emisividad hemisférica espectral**\n",
    "\\begin{equation}\n",
    "\\epsilon_\\lambda(\\lambda) = \\frac{E_\\lambda(T)}{E_{\\lambda,bb}(T)} = \\frac{\\int_\\mathrm{hemi}\\epsilon_{\\lambda,\\Omega}I_{\\mathrm{bb},\\lambda}(T)\\cos\\theta~d\\Omega}{\\pi I_{\\mathrm{bb},\\lambda}(T)}  = \\frac{1}{\\pi}\\int_\\mathrm{hemi}\\epsilon_{\\lambda,\\Omega}\\cos\\theta~d\\Omega\n",
    "\\end{equation}"
   ]
  },
  {
   "cell_type": "markdown",
   "id": "7af36cfb",
   "metadata": {
    "slideshow": {
     "slide_type": "fragment"
    }
   },
   "source": [
    "**Emisividad hemisférica total**\n",
    "\\begin{equation}\n",
    "\\epsilon(T) = \\frac{E(T)}{\\sigma T^4} =\\frac{1}{\\sigma T^4}\\int\\int_0^\\infty \\epsilon_{\\lambda,\\Omega} I_{\\mathrm{bb},\\lambda} (T)\\cos\\theta~d\\lambda~d\\Omega\n",
    "\\end{equation}"
   ]
  },
  {
   "cell_type": "markdown",
   "id": "041e5c23",
   "metadata": {
    "slideshow": {
     "slide_type": "slide"
    }
   },
   "source": [
    "Notar que las valores totatles (integración en el espectro), implícitamente dependen de $T$ debido al factor $\\sigma T^4$."
   ]
  },
  {
   "cell_type": "markdown",
   "id": "42cb2a6f",
   "metadata": {
    "slideshow": {
     "slide_type": "slide"
    }
   },
   "source": [
    "### Materiales idealizados"
   ]
  },
  {
   "cell_type": "markdown",
   "id": "250a53e9",
   "metadata": {
    "slideshow": {
     "slide_type": "fragment"
    }
   },
   "source": [
    "- Decimos que una superficie es **difusa** cuando sus propiedades radiativas no dependen de $\\Omega$. Es práctica común suponer que las superficies son emisores difusos, con una emisividad igual al valor de la dirección normal ($\\theta = 0$)."
   ]
  },
  {
   "cell_type": "markdown",
   "id": "61822fca",
   "metadata": {
    "slideshow": {
     "slide_type": "fragment"
    }
   },
   "source": [
    "- Decimos que una superficie es **gris** cuando la emisividad es independiente de $\\lambda$."
   ]
  },
  {
   "cell_type": "markdown",
   "id": "55b28916",
   "metadata": {
    "slideshow": {
     "slide_type": "fragment"
    }
   },
   "source": [
    "- Decimos que una superficie es **opaca** cuando $T_{\\lambda,\\Omega} = 0$. En este caso, \n",
    "tenemos $A_{\\lambda,\\Omega} + R_{\\lambda,\\Omega} = 1$"
   ]
  },
  {
   "cell_type": "markdown",
   "id": "0107051b",
   "metadata": {
    "slideshow": {
     "slide_type": "fragment"
    }
   },
   "source": [
    "- En el caso de **gases**, $R_{\\lambda,\\Omega} \\approx 0$, así $A_{\\lambda,\\Omega} + T_{\\lambda,\\Omega} = 1$"
   ]
  },
  {
   "cell_type": "markdown",
   "id": "4a494870",
   "metadata": {
    "slideshow": {
     "slide_type": "slide"
    }
   },
   "source": [
    "### Irradiancia (G) y Radiosidad (J)"
   ]
  },
  {
   "cell_type": "markdown",
   "id": "fbc52f8b",
   "metadata": {
    "cell_style": "split",
    "slideshow": {
     "slide_type": "fragment"
    }
   },
   "source": [
    "Definimos como **irradiación espectral direccional, $G_{\\lambda,\\Omega}$** a la radiancia espectral incidente en una superficie.\n",
    "\n",
    "<img src=\"./images/irradiance.png\" width=\"300px\" align= center>"
   ]
  },
  {
   "cell_type": "markdown",
   "id": "ee20e9bd",
   "metadata": {
    "cell_style": "split",
    "slideshow": {
     "slide_type": "fragment"
    }
   },
   "source": [
    "Matématicamente:\n",
    "\n",
    "\\begin{equation}\n",
    "G_{\\lambda,\\Omega} = I_i(\\lambda,\\Omega) \\cos\\theta\\quad\\frac{\\mathrm{W}}{\\mathrm{m}^2}\n",
    "\\end{equation}\n",
    "\n",
    "donde $I_i$ es la radiancia espectral incidente sobre una superficie $dA$"
   ]
  },
  {
   "cell_type": "markdown",
   "id": "04ee6eb9",
   "metadata": {
    "slideshow": {
     "slide_type": "slide"
    }
   },
   "source": [
    "Definimos como **radiosidad, $J_{\\lambda,\\Omega}$** a la combinación de radiación emitida y reflejada por una superficie"
   ]
  },
  {
   "cell_type": "markdown",
   "id": "bae8d429",
   "metadata": {
    "cell_style": "split",
    "slideshow": {
     "slide_type": "-"
    }
   },
   "source": [
    "\n",
    "<img src=\"./images/radiosity.png\" width=\"250px\" align= center>"
   ]
  },
  {
   "cell_type": "markdown",
   "id": "23a0cca5",
   "metadata": {
    "cell_style": "split",
    "slideshow": {
     "slide_type": "fragment"
    }
   },
   "source": [
    "Matemáticamente:\n",
    "\\begin{equation}\n",
    "J_{\\lambda,\\Omega} = R_{\\lambda,\\Omega}G_{\\lambda,\\Omega}+E_{\\lambda,\\Omega}\n",
    "\\end{equation}"
   ]
  },
  {
   "cell_type": "markdown",
   "id": "0fc1336c",
   "metadata": {
    "slideshow": {
     "slide_type": "fragment"
    }
   },
   "source": [
    "Al igual que con el poder de emisión, la irradiancia ($G_{\\lambda,\\Omega}$) y la radiosidad ($J_{\\lambda,\\Omega}$) pueden ser definidas de forma hemisférica (integrando por ángulo sólido) o total (integrando por longitud de onda)."
   ]
  },
  {
   "cell_type": "markdown",
   "id": "17c1dc23",
   "metadata": {
    "slideshow": {
     "slide_type": "slide"
    }
   },
   "source": [
    "## Referencias\n",
    "- Çengel Y. A y Ghanjar A. J. **Capítulo 12 - Fundamentos de la radiación térmica** en *Transferencia de calor y masa*, 4ta Ed, McGraw Hill, 2011"
   ]
  },
  {
   "cell_type": "code",
   "execution_count": 5,
   "id": "6e0a420c",
   "metadata": {},
   "outputs": [
    {
     "data": {
      "image/jpeg": "[encoded data removed]",
      "text/html": [
       "\n",
       "<iframe\n",
       "    width=\"600\"\n",
       "    height=\"400\"\n",
       "    src=\"https://www.youtube.com/embed/FDmYCI_xYlA?playsinline=0\"\n",
       "    frameborder=\"0\"\n",
       "    allowfullscreen\n",
       "\n",
       "></iframe>\n"
      ],
      "text/plain": [
       "<IPython.lib.display.YouTubeVideo at 0x7fed5d751760>"
      ]
     },
     "execution_count": 5,
     "metadata": {
      "filenames": {
       "image/jpeg": "/mnt/d/OneDrive - Universidad Adolfo Ibanez/Teaching_courses/Manejo_y_Conversion_Energia_Solar_Termica/material_catedra/_build/jupyter_execute/6_RadiacionTermica/6_RadiacionTermica_85_0.jpg"
      }
     },
     "output_type": "execute_result"
    }
   ],
   "source": [
    "from IPython.display import YouTubeVideo\n",
    "YouTubeVideo('FDmYCI_xYlA', width=600, height=400,  playsinline=0)"
   ]
  }
 ],
 "metadata": {
  "celltoolbar": "Slideshow",
  "kernelspec": {
   "display_name": "Python 3 (ipykernel)",
   "language": "python",
   "name": "python3"
  },
  "language_info": {
   "codemirror_mode": {
    "name": "ipython",
    "version": 3
   },
   "file_extension": ".py",
   "mimetype": "text/x-python",
   "name": "python",
   "nbconvert_exporter": "python",
   "pygments_lexer": "ipython3",
   "version": "3.9.13"
  },
  "latex_envs": {
   "LaTeX_envs_menu_present": false,
   "autoclose": false,
   "autocomplete": false,
   "bibliofile": "biblio.bib",
   "cite_by": "apalike",
   "current_citInitial": 1,
   "eqLabelWithNumbers": true,
   "eqNumInitial": 1,
   "hotkeys": {
    "equation": "Ctrl-E",
    "itemize": "Ctrl-I"
   },
   "labels_anchors": false,
   "latex_user_defs": false,
   "report_style_numbering": false,
   "user_envs_cfg": true
  },
  "toc": {
   "base_numbering": 1,
   "nav_menu": {},
   "number_sections": true,
   "sideBar": true,
   "skip_h1_title": true,
   "title_cell": "Tabla de contenidos",
   "title_sidebar": "Contenidos",
   "toc_cell": false,
   "toc_position": {
    "height": "calc(100% - 180px)",
    "left": "10px",
    "top": "150px",
    "width": "307.2px"
   },
   "toc_section_display": true,
   "toc_window_display": false
  },
  "varInspector": {
   "cols": {
    "lenName": 16,
    "lenType": 16,
    "lenVar": 40
   },
   "kernels_config": {
    "python": {
     "delete_cmd_postfix": "",
     "delete_cmd_prefix": "del ",
     "library": "var_list.py",
     "varRefreshCmd": "print(var_dic_list())"
    },
    "r": {
     "delete_cmd_postfix": ") ",
     "delete_cmd_prefix": "rm(",
     "library": "var_list.r",
     "varRefreshCmd": "cat(var_dic_list()) "
    }
   },
   "types_to_exclude": [
    "module",
    "function",
    "builtin_function_or_method",
    "instance",
    "_Feature"
   ],
   "window_display": false
  },
  "widgets": {
   "application/vnd.jupyter.widget-state+json": {
    "state": {
     "1e144eb7ccd44b25b9080bf5b4d129a6": {
      "model_module": "@jupyter-widgets/controls",
      "model_module_version": "1.5.0",
      "model_name": "FloatSliderModel",
      "state": {
       "_dom_classes": [],
       "_model_module": "@jupyter-widgets/controls",
       "_model_module_version": "1.5.0",
       "_model_name": "FloatSliderModel",
       "_view_count": null,
       "_view_module": "@jupyter-widgets/controls",
       "_view_module_version": "1.5.0",
       "_view_name": "FloatSliderView",
       "continuous_update": true,
       "description": "lam0",
       "description_tooltip": null,
       "disabled": false,
       "layout": "IPY_MODEL_c228685d26da4d649e8ea8372aa29060",
       "max": 10.0,
       "min": 5.0,
       "orientation": "horizontal",
       "readout": true,
       "readout_format": ".2f",
       "step": 0.01,
       "style": "IPY_MODEL_716ad4cebb0440d98cb5e42fec0de234",
       "value": 10.0
      }
     },
     "240f1d96d8e2418e9db8542bbedf377c": {
      "model_module": "@jupyter-widgets/controls",
      "model_module_version": "1.5.0",
      "model_name": "IntSliderModel",
      "state": {
       "_dom_classes": [],
       "_model_module": "@jupyter-widgets/controls",
       "_model_module_version": "1.5.0",
       "_model_name": "IntSliderModel",
       "_view_count": null,
       "_view_module": "@jupyter-widgets/controls",
       "_view_module_version": "1.5.0",
       "_view_name": "IntSliderView",
       "continuous_update": true,
       "description": "T",
       "description_tooltip": null,
       "disabled": false,
       "layout": "IPY_MODEL_2c20b82bb6fc47178b7111e9f9e3aa33",
       "max": 1000,
       "min": 300,
       "orientation": "horizontal",
       "readout": true,
       "readout_format": "d",
       "step": 10,
       "style": "IPY_MODEL_a0219c5ae68945f5a4242e666f1ac33c",
       "value": 300
      }
     },
     "2c20b82bb6fc47178b7111e9f9e3aa33": {
      "model_module": "@jupyter-widgets/base",
      "model_module_version": "1.2.0",
      "model_name": "LayoutModel",
      "state": {
       "_model_module": "@jupyter-widgets/base",
       "_model_module_version": "1.2.0",
       "_model_name": "LayoutModel",
       "_view_count": null,
       "_view_module": "@jupyter-widgets/base",
       "_view_module_version": "1.2.0",
       "_view_name": "LayoutView",
       "align_content": null,
       "align_items": null,
       "align_self": null,
       "border": null,
       "bottom": null,
       "display": null,
       "flex": null,
       "flex_flow": null,
       "grid_area": null,
       "grid_auto_columns": null,
       "grid_auto_flow": null,
       "grid_auto_rows": null,
       "grid_column": null,
       "grid_gap": null,
       "grid_row": null,
       "grid_template_areas": null,
       "grid_template_columns": null,
       "grid_template_rows": null,
       "height": null,
       "justify_content": null,
       "justify_items": null,
       "left": null,
       "margin": null,
       "max_height": null,
       "max_width": null,
       "min_height": null,
       "min_width": null,
       "object_fit": null,
       "object_position": null,
       "order": null,
       "overflow": null,
       "overflow_x": null,
       "overflow_y": null,
       "padding": null,
       "right": null,
       "top": null,
       "visibility": null,
       "width": null
      }
     },
     "42db078f8a694d2eae8036f7d49cd5c4": {
      "model_module": "@jupyter-widgets/output",
      "model_module_version": "1.0.0",
      "model_name": "OutputModel",
      "state": {
       "_dom_classes": [],
       "_model_module": "@jupyter-widgets/output",
       "_model_module_version": "1.0.0",
       "_model_name": "OutputModel",
       "_view_count": null,
       "_view_module": "@jupyter-widgets/output",
       "_view_module_version": "1.0.0",
       "_view_name": "OutputView",
       "layout": "IPY_MODEL_f0eae0b3b40e4b499d2fa04989db9a63",
       "msg_id": "",
       "outputs": [
        {
         "data": {
          "image/png": "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\n",
          "text/plain": "<Figure size 1152x360 with 3 Axes>"
         },
         "metadata": {
          "needs_background": "light"
         },
         "output_type": "display_data"
        }
       ]
      }
     },
     "5fd22d90355941659b1e198edd8c2604": {
      "model_module": "@jupyter-widgets/controls",
      "model_module_version": "1.5.0",
      "model_name": "IntSliderModel",
      "state": {
       "_dom_classes": [],
       "_model_module": "@jupyter-widgets/controls",
       "_model_module_version": "1.5.0",
       "_model_name": "IntSliderModel",
       "_view_count": null,
       "_view_module": "@jupyter-widgets/controls",
       "_view_module_version": "1.5.0",
       "_view_name": "IntSliderView",
       "continuous_update": true,
       "description": "theta0",
       "description_tooltip": null,
       "disabled": false,
       "layout": "IPY_MODEL_d0c6a11a88ec411f9486da260a018a59",
       "max": 90,
       "min": 0,
       "orientation": "horizontal",
       "readout": true,
       "readout_format": "d",
       "step": 1,
       "style": "IPY_MODEL_ae2d9dc97b404b818eec6c5e08776088",
       "value": 0
      }
     },
     "716ad4cebb0440d98cb5e42fec0de234": {
      "model_module": "@jupyter-widgets/controls",
      "model_module_version": "1.5.0",
      "model_name": "SliderStyleModel",
      "state": {
       "_model_module": "@jupyter-widgets/controls",
       "_model_module_version": "1.5.0",
       "_model_name": "SliderStyleModel",
       "_view_count": null,
       "_view_module": "@jupyter-widgets/base",
       "_view_module_version": "1.2.0",
       "_view_name": "StyleView",
       "description_width": "",
       "handle_color": null
      }
     },
     "81373c764d9849538fc1d82e888f59ba": {
      "model_module": "@jupyter-widgets/controls",
      "model_module_version": "1.5.0",
      "model_name": "SliderStyleModel",
      "state": {
       "_model_module": "@jupyter-widgets/controls",
       "_model_module_version": "1.5.0",
       "_model_name": "SliderStyleModel",
       "_view_count": null,
       "_view_module": "@jupyter-widgets/base",
       "_view_module_version": "1.2.0",
       "_view_name": "StyleView",
       "description_width": "",
       "handle_color": null
      }
     },
     "a0219c5ae68945f5a4242e666f1ac33c": {
      "model_module": "@jupyter-widgets/controls",
      "model_module_version": "1.5.0",
      "model_name": "SliderStyleModel",
      "state": {
       "_model_module": "@jupyter-widgets/controls",
       "_model_module_version": "1.5.0",
       "_model_name": "SliderStyleModel",
       "_view_count": null,
       "_view_module": "@jupyter-widgets/base",
       "_view_module_version": "1.2.0",
       "_view_name": "StyleView",
       "description_width": "",
       "handle_color": null
      }
     },
     "a5482d3487124b5ca74be70e7d48a857": {
      "model_module": "@jupyter-widgets/base",
      "model_module_version": "1.2.0",
      "model_name": "LayoutModel",
      "state": {
       "_model_module": "@jupyter-widgets/base",
       "_model_module_version": "1.2.0",
       "_model_name": "LayoutModel",
       "_view_count": null,
       "_view_module": "@jupyter-widgets/base",
       "_view_module_version": "1.2.0",
       "_view_name": "LayoutView",
       "align_content": null,
       "align_items": null,
       "align_self": null,
       "border": null,
       "bottom": null,
       "display": null,
       "flex": null,
       "flex_flow": null,
       "grid_area": null,
       "grid_auto_columns": null,
       "grid_auto_flow": null,
       "grid_auto_rows": null,
       "grid_column": null,
       "grid_gap": null,
       "grid_row": null,
       "grid_template_areas": null,
       "grid_template_columns": null,
       "grid_template_rows": null,
       "height": null,
       "justify_content": null,
       "justify_items": null,
       "left": null,
       "margin": null,
       "max_height": null,
       "max_width": null,
       "min_height": null,
       "min_width": null,
       "object_fit": null,
       "object_position": null,
       "order": null,
       "overflow": null,
       "overflow_x": null,
       "overflow_y": null,
       "padding": null,
       "right": null,
       "top": null,
       "visibility": null,
       "width": null
      }
     },
     "ae2d9dc97b404b818eec6c5e08776088": {
      "model_module": "@jupyter-widgets/controls",
      "model_module_version": "1.5.0",
      "model_name": "SliderStyleModel",
      "state": {
       "_model_module": "@jupyter-widgets/controls",
       "_model_module_version": "1.5.0",
       "_model_name": "SliderStyleModel",
       "_view_count": null,
       "_view_module": "@jupyter-widgets/base",
       "_view_module_version": "1.2.0",
       "_view_name": "StyleView",
       "description_width": "",
       "handle_color": null
      }
     },
     "c228685d26da4d649e8ea8372aa29060": {
      "model_module": "@jupyter-widgets/base",
      "model_module_version": "1.2.0",
      "model_name": "LayoutModel",
      "state": {
       "_model_module": "@jupyter-widgets/base",
       "_model_module_version": "1.2.0",
       "_model_name": "LayoutModel",
       "_view_count": null,
       "_view_module": "@jupyter-widgets/base",
       "_view_module_version": "1.2.0",
       "_view_name": "LayoutView",
       "align_content": null,
       "align_items": null,
       "align_self": null,
       "border": null,
       "bottom": null,
       "display": null,
       "flex": null,
       "flex_flow": null,
       "grid_area": null,
       "grid_auto_columns": null,
       "grid_auto_flow": null,
       "grid_auto_rows": null,
       "grid_column": null,
       "grid_gap": null,
       "grid_row": null,
       "grid_template_areas": null,
       "grid_template_columns": null,
       "grid_template_rows": null,
       "height": null,
       "justify_content": null,
       "justify_items": null,
       "left": null,
       "margin": null,
       "max_height": null,
       "max_width": null,
       "min_height": null,
       "min_width": null,
       "object_fit": null,
       "object_position": null,
       "order": null,
       "overflow": null,
       "overflow_x": null,
       "overflow_y": null,
       "padding": null,
       "right": null,
       "top": null,
       "visibility": null,
       "width": null
      }
     },
     "d0c6a11a88ec411f9486da260a018a59": {
      "model_module": "@jupyter-widgets/base",
      "model_module_version": "1.2.0",
      "model_name": "LayoutModel",
      "state": {
       "_model_module": "@jupyter-widgets/base",
       "_model_module_version": "1.2.0",
       "_model_name": "LayoutModel",
       "_view_count": null,
       "_view_module": "@jupyter-widgets/base",
       "_view_module_version": "1.2.0",
       "_view_name": "LayoutView",
       "align_content": null,
       "align_items": null,
       "align_self": null,
       "border": null,
       "bottom": null,
       "display": null,
       "flex": null,
       "flex_flow": null,
       "grid_area": null,
       "grid_auto_columns": null,
       "grid_auto_flow": null,
       "grid_auto_rows": null,
       "grid_column": null,
       "grid_gap": null,
       "grid_row": null,
       "grid_template_areas": null,
       "grid_template_columns": null,
       "grid_template_rows": null,
       "height": null,
       "justify_content": null,
       "justify_items": null,
       "left": null,
       "margin": null,
       "max_height": null,
       "max_width": null,
       "min_height": null,
       "min_width": null,
       "object_fit": null,
       "object_position": null,
       "order": null,
       "overflow": null,
       "overflow_x": null,
       "overflow_y": null,
       "padding": null,
       "right": null,
       "top": null,
       "visibility": null,
       "width": null
      }
     },
     "dc653e578cea406caf65cb80a1b11234": {
      "model_module": "@jupyter-widgets/controls",
      "model_module_version": "1.5.0",
      "model_name": "VBoxModel",
      "state": {
       "_dom_classes": [
        "widget-interact"
       ],
       "_model_module": "@jupyter-widgets/controls",
       "_model_module_version": "1.5.0",
       "_model_name": "VBoxModel",
       "_view_count": null,
       "_view_module": "@jupyter-widgets/controls",
       "_view_module_version": "1.5.0",
       "_view_name": "VBoxView",
       "box_style": "",
       "children": [
        "IPY_MODEL_240f1d96d8e2418e9db8542bbedf377c",
        "IPY_MODEL_de62ff954dc4438da6076737750cd9aa",
        "IPY_MODEL_1e144eb7ccd44b25b9080bf5b4d129a6",
        "IPY_MODEL_5fd22d90355941659b1e198edd8c2604",
        "IPY_MODEL_42db078f8a694d2eae8036f7d49cd5c4"
       ],
       "layout": "IPY_MODEL_f6161431688c4f308cbfd4b02eff61aa"
      }
     },
     "de62ff954dc4438da6076737750cd9aa": {
      "model_module": "@jupyter-widgets/controls",
      "model_module_version": "1.5.0",
      "model_name": "FloatSliderModel",
      "state": {
       "_dom_classes": [],
       "_model_module": "@jupyter-widgets/controls",
       "_model_module_version": "1.5.0",
       "_model_name": "FloatSliderModel",
       "_view_count": null,
       "_view_module": "@jupyter-widgets/controls",
       "_view_module_version": "1.5.0",
       "_view_name": "FloatSliderView",
       "continuous_update": true,
       "description": "d",
       "description_tooltip": null,
       "disabled": false,
       "layout": "IPY_MODEL_a5482d3487124b5ca74be70e7d48a857",
       "max": 10.0,
       "min": 0.0,
       "orientation": "horizontal",
       "readout": true,
       "readout_format": ".2f",
       "step": 0.01,
       "style": "IPY_MODEL_81373c764d9849538fc1d82e888f59ba",
       "value": 1.0
      }
     },
     "f0eae0b3b40e4b499d2fa04989db9a63": {
      "model_module": "@jupyter-widgets/base",
      "model_module_version": "1.2.0",
      "model_name": "LayoutModel",
      "state": {
       "_model_module": "@jupyter-widgets/base",
       "_model_module_version": "1.2.0",
       "_model_name": "LayoutModel",
       "_view_count": null,
       "_view_module": "@jupyter-widgets/base",
       "_view_module_version": "1.2.0",
       "_view_name": "LayoutView",
       "align_content": null,
       "align_items": null,
       "align_self": null,
       "border": null,
       "bottom": null,
       "display": null,
       "flex": null,
       "flex_flow": null,
       "grid_area": null,
       "grid_auto_columns": null,
       "grid_auto_flow": null,
       "grid_auto_rows": null,
       "grid_column": null,
       "grid_gap": null,
       "grid_row": null,
       "grid_template_areas": null,
       "grid_template_columns": null,
       "grid_template_rows": null,
       "height": null,
       "justify_content": null,
       "justify_items": null,
       "left": null,
       "margin": null,
       "max_height": null,
       "max_width": null,
       "min_height": null,
       "min_width": null,
       "object_fit": null,
       "object_position": null,
       "order": null,
       "overflow": null,
       "overflow_x": null,
       "overflow_y": null,
       "padding": null,
       "right": null,
       "top": null,
       "visibility": null,
       "width": null
      }
     },
     "f6161431688c4f308cbfd4b02eff61aa": {
      "model_module": "@jupyter-widgets/base",
      "model_module_version": "1.2.0",
      "model_name": "LayoutModel",
      "state": {
       "_model_module": "@jupyter-widgets/base",
       "_model_module_version": "1.2.0",
       "_model_name": "LayoutModel",
       "_view_count": null,
       "_view_module": "@jupyter-widgets/base",
       "_view_module_version": "1.2.0",
       "_view_name": "LayoutView",
       "align_content": null,
       "align_items": null,
       "align_self": null,
       "border": null,
       "bottom": null,
       "display": null,
       "flex": null,
       "flex_flow": null,
       "grid_area": null,
       "grid_auto_columns": null,
       "grid_auto_flow": null,
       "grid_auto_rows": null,
       "grid_column": null,
       "grid_gap": null,
       "grid_row": null,
       "grid_template_areas": null,
       "grid_template_columns": null,
       "grid_template_rows": null,
       "height": null,
       "justify_content": null,
       "justify_items": null,
       "left": null,
       "margin": null,
       "max_height": null,
       "max_width": null,
       "min_height": null,
       "min_width": null,
       "object_fit": null,
       "object_position": null,
       "order": null,
       "overflow": null,
       "overflow_x": null,
       "overflow_y": null,
       "padding": null,
       "right": null,
       "top": null,
       "visibility": null,
       "width": null
      }
     }
    },
    "version_major": 2,
    "version_minor": 0
   }
  }
 },
 "nbformat": 4,
 "nbformat_minor": 5
}