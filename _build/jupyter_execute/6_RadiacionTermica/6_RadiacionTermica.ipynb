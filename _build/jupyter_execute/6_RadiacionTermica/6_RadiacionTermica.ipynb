{
 "cells": [
  {
   "cell_type": "markdown",
   "id": "8b01ca79",
   "metadata": {
    "slideshow": {
     "slide_type": "slide"
    }
   },
   "source": [
    " <font size=\"6\">MEC501 - Manejo y Conversión de Energía Solar Térmica</font>\n",
    "# Radiación Térmica\n",
    "<br><br><br><br>\n",
    "Profesor: Francisco Ramírez Cuevas<br>\n",
    "Fecha: 30 de Septiembre 2022"
   ]
  },
  {
   "cell_type": "markdown",
   "id": "e21d64ae",
   "metadata": {
    "slideshow": {
     "slide_type": "slide"
    }
   },
   "source": [
    "## Introducción a la Transferencia de Calor\n",
    "A nivel molecular, los átomos que compomen la materia siempre está vibrando. La magnitud de estas vibraciones está caracterizada estadísticamente por la temperatura:"
   ]
  },
  {
   "cell_type": "markdown",
   "id": "35dd953b",
   "metadata": {},
   "source": [
    "<img src=\"./images/temperature_brownian_motion.gif\" width=\"400px\" align= center>"
   ]
  },
  {
   "cell_type": "markdown",
   "id": "7810d826",
   "metadata": {
    "cell_style": "center",
    "slideshow": {
     "slide_type": "slide"
    }
   },
   "source": [
    "Consideremos un sólido extendido con una diferencia de temperatura, $\\Delta T$, entre sus extremos, tal que el lado izquierdo tiene una mayor temperatura que el lado derecho"
   ]
  },
  {
   "cell_type": "markdown",
   "id": "5407e5b7",
   "metadata": {
    "cell_style": "split",
    "slideshow": {
     "slide_type": "fragment"
    }
   },
   "source": [
    "<img src=\"./images/heat_transfer.gif\" width=\"300px\" align= center>"
   ]
  },
  {
   "cell_type": "markdown",
   "id": "85b590b5",
   "metadata": {
    "cell_style": "split",
    "slideshow": {
     "slide_type": "fragment"
    }
   },
   "source": [
    "Debido a la diferencia de temperatura, la vibración molecular en el lado izquierdo es mayor. Esta energía cinética es transmitida a través del material hacia el lado derecho."
   ]
  },
  {
   "cell_type": "markdown",
   "id": "6f302797",
   "metadata": {
    "slideshow": {
     "slide_type": "slide"
    }
   },
   "source": [
    "Definimos como **calor**, $Q$, a la energía térmica intercambiada entre dos medios cuya diferencia de temperatura es $\\Delta T$. A mayor $\\Delta T$, mayor es el intercambio de calor, matematicamente: \n",
    "\n",
    "\\begin{equation*}\n",
    "Q \\propto \\Delta T,\\quad\\mathrm{J}\n",
    "\\end{equation*}\n",
    "\n"
   ]
  },
  {
   "cell_type": "markdown",
   "id": "05b934bc",
   "metadata": {
    "slideshow": {
     "slide_type": "fragment"
    }
   },
   "source": [
    "La **taza de transferencia de calor**:\n",
    "\\begin{equation*}\n",
    "\\dot{Q} = \\frac{dQ}{dt},\\quad\\mathrm{W}\n",
    "\\end{equation*}\n",
    "\n",
    "corresponde al calor tranferido por unidad de tiempo."
   ]
  },
  {
   "cell_type": "markdown",
   "id": "8aface27",
   "metadata": {
    "slideshow": {
     "slide_type": "fragment"
    }
   },
   "source": [
    "Por último, definimos como **flujo de calor**: \n",
    "\\begin{equation*}\n",
    "q'' = \\dot{Q}/A,\\quad\\frac{\\mathrm{W}}{\\mathrm{m}^2}\n",
    "\\end{equation*}\n",
    "a la taza de transferencia de calor por unidad de área."
   ]
  },
  {
   "cell_type": "markdown",
   "id": "2c634772",
   "metadata": {
    "cell_style": "split",
    "slideshow": {
     "slide_type": "slide"
    }
   },
   "source": [
    "Existen tres mecanismo de transferencia de calor:\n",
    "\n",
    "- Conducción de calor\n",
    "- Convección de calor\n",
    "- Radiación"
   ]
  },
  {
   "cell_type": "markdown",
   "id": "a3e69153",
   "metadata": {
    "cell_style": "split",
    "slideshow": {
     "slide_type": "-"
    }
   },
   "source": [
    "<img src=\"./images/heat_transfer_mechanism.png\" width=\"500px\" align= center>"
   ]
  },
  {
   "cell_type": "markdown",
   "id": "ccaa08be",
   "metadata": {
    "slideshow": {
     "slide_type": "slide"
    }
   },
   "source": [
    "### Conducción de Calor\n",
    "**Definimos como *conducción de calor* al calor transferido a través de un material en reposo**. El mecanismo generalmente se asocia a **sólidos**, donde el calor es transferido a travéz de la red atómica del material. Sin embargo, la definición también incluye **líquidos y gases en reposo.** En este caso, las moléculas se mueven eleatoriamente, de manera tal que la velocidad neta del fluido es cero."
   ]
  },
  {
   "cell_type": "markdown",
   "id": "183006ce",
   "metadata": {
    "slideshow": {
     "slide_type": "fragment"
    }
   },
   "source": [
    "Matemáticamente, para un material de espesor $t$ y diferencia de temperatura $\\Delta T$, la **taza de transferencia de calor por conducción** a través de una superficie $A$, es:\n",
    "\n",
    "<img src=\"./images/heat_conduction_formula.png\" width=\"700px\" align= center>"
   ]
  },
  {
   "cell_type": "markdown",
   "id": "4fdfda8b",
   "metadata": {
    "slideshow": {
     "slide_type": "slide"
    }
   },
   "source": [
    "La conductividad térmica, $k_c$, es una propiedad del material que varía según la temperatura.\n",
    "\n",
    "<img src=\"./images/thermal_conductivity.png\" width=\"800px\" align= center>"
   ]
  },
  {
   "cell_type": "markdown",
   "id": "be69080c",
   "metadata": {
    "slideshow": {
     "slide_type": "slide"
    }
   },
   "source": [
    "En su forma diferencial, $\\dot{Q}_\\mathrm{cond}= - k\\nabla T$, y para el caso unidimensional:\n",
    "\n",
    "\\begin{equation}\n",
    "\\dot{Q}_\\mathrm{cond} = - kA\\frac{dT}{dx},\\quad\\mathrm{W}\n",
    "\\end{equation}"
   ]
  },
  {
   "cell_type": "markdown",
   "id": "ac955652",
   "metadata": {
    "slideshow": {
     "slide_type": "fragment"
    }
   },
   "source": [
    "A partir de esta fórmula podemos deducir expresiones para taza de transferencia de calor por conducción según la geometría:"
   ]
  },
  {
   "cell_type": "markdown",
   "id": "ec4af943",
   "metadata": {},
   "source": [
    "<img src=\"./images/heat_conduction_resistance.png\" width=\"600px\" align= center>"
   ]
  },
  {
   "cell_type": "markdown",
   "id": "bb05f7de",
   "metadata": {
    "slideshow": {
     "slide_type": "slide"
    }
   },
   "source": [
    "Notar que, como fórmula general, podemos expresar la taza de conducción de calor en la forma:\n",
    "\n",
    "\\begin{equation*}\n",
    "\\dot{Q}_\\mathrm{cond} = \\frac{T_H - T_C}{R_\\mathrm{cond}},\\quad\\mathrm{W}\n",
    "\\end{equation*}\n",
    "\n",
    "donde, $R_\\mathrm{cond}$ (K/W) es la **resistencia térmica** asociada al mecanismo de conducción."
   ]
  },
  {
   "cell_type": "markdown",
   "id": "bbea9efd",
   "metadata": {
    "slideshow": {
     "slide_type": "slide"
    }
   },
   "source": [
    "### Convección de Calor\n",
    "**Definimos como *convección de calor* al calor transferido a través de fluidos en movimiento.** El movimiento de un fluido puede ocurrir naturalmente, debido a los efectos de flotación a raíz de los cambio de densidad con la temperatura; o de forma inducida, como por ejemplo mediante un ventilador."
   ]
  },
  {
   "cell_type": "markdown",
   "id": "2f11707d",
   "metadata": {
    "cell_style": "split",
    "slideshow": {
     "slide_type": "fragment"
    }
   },
   "source": [
    "A partir de esto, clasificamos la transferencia de calor por convección, respectivamente, como:\n",
    "- **convección natural**\n",
    "- **convección forzada**."
   ]
  },
  {
   "cell_type": "markdown",
   "id": "335e9cda",
   "metadata": {
    "cell_style": "split",
    "slideshow": {
     "slide_type": "fragment"
    }
   },
   "source": [
    "<img src=\"./images/heat_convection_mechanism.png\" width=\"300px\" align= center>"
   ]
  },
  {
   "cell_type": "markdown",
   "id": "a11782b3",
   "metadata": {
    "slideshow": {
     "slide_type": "slide"
    }
   },
   "source": [
    "La convección de calor esta asociada al contacto de fluidos con una superficie, $A$. Así, independiente del mecanismo de convección de calor (natural o forzada), expresamos la **taza de transferencia de calor por convección** como:\n",
    "\n",
    "<img src=\"./images/heat_convection_formula.png\" width=\"700px\" align= center>"
   ]
  },
  {
   "cell_type": "markdown",
   "id": "322fa067",
   "metadata": {},
   "source": [
    "Notar que la taza de transferencia de calor por convección puede ser expresada en la forma:\n",
    "\n",
    "\\begin{equation*}\n",
    "\\dot{Q}_\\mathrm{conv} = \\frac{T_\\infty - T}{R_\\mathrm{conv}},\\quad\\mathrm{W}\n",
    "\\end{equation*}\n",
    "\n",
    "donde $R_\\mathrm{conv}=1/hA$ es la resistencia térmica asociada a la convección de calor."
   ]
  },
  {
   "cell_type": "markdown",
   "id": "983b6ab0",
   "metadata": {
    "slideshow": {
     "slide_type": "slide"
    }
   },
   "source": [
    "A diferencia de la conducción de calor, el coeficiente convectivo, $h$, **no es una propiedad del fluido**. Esto porque no solo depende de las propiedades del fluido (densidad, viscocidad y conductividad térmica, entre otras), sino que además depende de condiciones externas, como la velocidad del flujo, la diferencia de temperaturas, y la geometría del cuerpó sometido a conveccción de calor."
   ]
  },
  {
   "cell_type": "markdown",
   "id": "608df105",
   "metadata": {
    "slideshow": {
     "slide_type": "fragment"
    }
   },
   "source": [
    "El coeficiente convectivo se determina a partir de relaciones expresadas en términos del número de Nusselt, $\\mathrm{Nu} = \\frac{hL_c}{k_f}$, donde $L_c$ es una longitud característica y $k_f$ es la conductividad térmica del fluido. En la mayoría de los casos, las relaciones para el número de Nusselt para cada caso se determinan experimentalmente."
   ]
  },
  {
   "cell_type": "markdown",
   "id": "f73fe75a",
   "metadata": {
    "slideshow": {
     "slide_type": "fragment"
    }
   },
   "source": [
    "Comúnmente, los valores para el número de Nusselt se encuentran dentro de los siguientes rangos:\n",
    "\n",
    "- Convección forzada, $\\mathrm{Nu} \\sim 5 - 1000 $\n",
    "- Convección natural, $\\mathrm{Nu} \\sim 0 - 100$"
   ]
  },
  {
   "cell_type": "markdown",
   "id": "7d4df5f2",
   "metadata": {
    "slideshow": {
     "slide_type": "slide"
    }
   },
   "source": [
    "### Transferencia de calor en estado estacionario\n",
    "\n",
    "En estado estacionario, el flujo de calor es constante. En este caso, podemos simplificar el análisis de transferencia de calor por convección y conducción utilizando resistencias térmicas.\n",
    "\n",
    "<img src=\"./images/stationary_heat_transfer.png\" width=\"700px\" align= center>"
   ]
  },
  {
   "cell_type": "markdown",
   "id": "53ef8ae3",
   "metadata": {
    "slideshow": {
     "slide_type": "slide"
    }
   },
   "source": [
    "## Fundamentos de la radiación térmica\n",
    "\n",
    "Las vibraciones a nivel molecular también inducen polarización en la materia. Esto es similar al fenómeno de polarización inducida por ondas electromagnéticas estudiada en la unidad 3. Estos dipolos inducidos térmicamente, oscilan constantemente generando campos electromagnéticos que se propagan en dirección radial.\n",
    "\n",
    "<img src=\"./images/radiating_dipole.png\" width=\"700px\" align= center>"
   ]
  },
  {
   "cell_type": "markdown",
   "id": "767562ad",
   "metadata": {
    "slideshow": {
     "slide_type": "slide"
    }
   },
   "source": [
    "En la siguiente animación podemos ver el proceso de emisión de ondas electromagnéticas por un dipolo oscilatorio. El mapa de colores representa la intensidad del campo magnético, es decir $|\\vec{H}|$, donde rojo y azul corresponden, respectivamente, a los valorse máximos y mínimos.\n",
    "\n",
    "<img src=\"./images/HW_vertical_noground.gif\" width=\"300px\" align= center>"
   ]
  },
  {
   "cell_type": "markdown",
   "id": "7088a84b",
   "metadata": {
    "cell_style": "center",
    "slideshow": {
     "slide_type": "slide"
    }
   },
   "source": [
    "### Poder de emisión\n",
    "Un cuerpo a temperatura $T$ emite ondas electromagnéticas en todas las direcciones y en un espectro de longitudes de onda. En general, la distribución angular ($\\Omega$) y espectral ($\\lambda$) de la radiación emitida depende de las propiedades ópticas de la superficie y la temperatura del material. "
   ]
  },
  {
   "cell_type": "markdown",
   "id": "b364c7cf",
   "metadata": {
    "slideshow": {
     "slide_type": "fragment"
    }
   },
   "source": [
    "Para caracterizar la intensidad de la radiación emitida por una superficie a tempertura $T$, usamos la **intensidad específica o radiancia espectral**, $I_\\lambda(\\lambda,\\Omega,T)$."
   ]
  },
  {
   "cell_type": "markdown",
   "id": "09477f6e",
   "metadata": {
    "cell_style": "center",
    "slideshow": {
     "slide_type": "slide"
    }
   },
   "source": [
    "La taza de calor total emitido por una superficie $dA$ de un cuerpo negro en función de $\\lambda$ y $\\Omega$, $d\\dot{Q}_\\mathrm{rad}$, está dada por:\n",
    "\n",
    "\\begin{equation}\n",
    "d\\dot{Q}_\\mathrm{rad} = I_{\\lambda}(\\lambda,T,\\theta,\\phi) \\sin\\theta \\cos\\theta dA d\\Omega d\\lambda\n",
    "\\end{equation}"
   ]
  },
  {
   "cell_type": "markdown",
   "id": "f849cc9e",
   "metadata": {
    "cell_style": "split",
    "slideshow": {
     "slide_type": "fragment"
    }
   },
   "source": [
    "El término $\\cos\\theta dA$ corresponde a la proyección de $dA$ en la dirección $\\Omega$"
   ]
  },
  {
   "cell_type": "markdown",
   "id": "d3b63571",
   "metadata": {
    "cell_style": "split"
   },
   "source": [
    "<img src=\"./images/specific_intensity.png\" width=\"300px\" align= center>"
   ]
  },
  {
   "cell_type": "markdown",
   "id": "891a8504",
   "metadata": {
    "cell_style": "center",
    "slideshow": {
     "slide_type": "slide"
    }
   },
   "source": [
    "Definimos como **poder de emisión direccional espectral** a la relación:\n",
    "\n",
    "\\begin{equation}\n",
    "E_{\\lambda,\\Omega}(T) = \\frac{d\\dot{Q}_\\mathrm{rad}}{dAd\\Omega d\\lambda}=I_{\\lambda}(\\lambda,\\Omega)\\cos\\theta ,\\quad\\quad\\frac{\\mathrm{W}}{\\mathrm{m}^2\\cdot\\mu\\mathrm{m}\\cdot\\mathrm{sr}}\n",
    "\\end{equation}"
   ]
  },
  {
   "cell_type": "markdown",
   "id": "ec272999",
   "metadata": {
    "slideshow": {
     "slide_type": "fragment"
    }
   },
   "source": [
    "A diferencia de la intensidad específica, el poder de emisión considera la radiación effectiva emitida por una superficie."
   ]
  },
  {
   "cell_type": "markdown",
   "id": "3c1cf7c2",
   "metadata": {},
   "source": [
    "<img src=\"./images/emissive_power.png\" width=\"500px\" align= center>"
   ]
  },
  {
   "cell_type": "markdown",
   "id": "ad56f5b7",
   "metadata": {
    "slideshow": {
     "slide_type": "slide"
    }
   },
   "source": [
    "A partir de este término podemos derivar:"
   ]
  },
  {
   "cell_type": "markdown",
   "id": "c62c0cc6",
   "metadata": {
    "slideshow": {
     "slide_type": "fragment"
    }
   },
   "source": [
    "- **Poder de emisión hemisférica espectral**, \n",
    "\n",
    "\\begin{align*}\n",
    "E_{\\lambda}(T) = \\frac{d\\dot{Q}}{dA d\\lambda} &= \\int_0^{2\\pi}\\int_0^{\\pi/2}I_{\\lambda}(\\lambda,\\Omega)\\cos\\theta~\\sin\\theta  d\\theta d\\phi\n",
    "  \\\\ \n",
    "  &=\\int_\\mathrm{hemi} I_{\\lambda}(\\lambda,\\Omega)\\cos\\theta~d\\Omega\n",
    "  ,\\quad\\quad\\frac{\\mathrm{W}}{\\mathrm{m}^2\\cdot\\mu\\mathrm{m}}\n",
    "\\end{align*}"
   ]
  },
  {
   "cell_type": "markdown",
   "id": "a9a23a55",
   "metadata": {
    "slideshow": {
     "slide_type": "fragment"
    }
   },
   "source": [
    "- **Poder de emisión direccional total**,\n",
    "\n",
    "\\begin{equation*}\n",
    "E_\\Omega(\\lambda,T) = \\frac{d\\dot{Q}}{dAd\\Omega}=\\cos\\theta \\int_0^\\infty~ I_{\\lambda}(\\lambda,\\Omega)~d\\lambda  ,\\quad\\quad\\frac{\\mathrm{W}}{\\mathrm{m}^2 \\cdot\\mathrm{sr}}\n",
    "\\end{equation*}"
   ]
  },
  {
   "cell_type": "markdown",
   "id": "4c94bf8c",
   "metadata": {
    "slideshow": {
     "slide_type": "fragment"
    }
   },
   "source": [
    "- **Poder de emisión hemisfética total**, \n",
    "\n",
    "\\begin{equation*}\n",
    "E(T) = \\frac{d\\dot{Q}}{dA}=\\int_0^\\infty\\int_\\mathrm{hemi}I_{\\lambda}(\\lambda,\\Omega)\\cos\\theta~d\\Omega d\\lambda ,\\quad\\quad\\frac{\\mathrm{W}}{\\mathrm{m}^2}\n",
    "\\end{equation*}"
   ]
  },
  {
   "cell_type": "markdown",
   "id": "b670c6be",
   "metadata": {
    "slideshow": {
     "slide_type": "slide"
    }
   },
   "source": [
    "### Distribución de Planck\n",
    "\n",
    "Max Planck en 1901 determinó que la **máxima radiancia espectral o intensidad específica** (flujo de energía por unidad de longitud de onda y ángulo sólido) emitida por un cuerpo a temperatura $T$, en un medio con índice de refracción $n_1$, está dada por:\n",
    "\n",
    "\\begin{equation}\n",
    "I_{\\mathrm{bb},\\lambda}(\\lambda,T,\\Omega) = \\frac{C_1}{n_1\\lambda^5\\left[\\exp\\left(C_2/\\lambda T\\right) - 1\\right]},\\quad\\quad\\frac{\\mathrm{W}}{\\mathrm{m}^2\\cdot\\mu\\mathrm{m}\\cdot\\mathrm{sr}}\n",
    "\\end{equation}\n",
    "\n",
    "donde \n",
    "\\begin{align*}\n",
    "C_1 &= 2hc_0^2 = 1.19104238\\times 10^8 ~\\mathrm{W}\\cdot\\mu\\mathrm{m}^4/\\mathrm{m}^2 \\\\\n",
    "C_2 &= hc_0/k_\\mathrm{B} = 1.43878\\times10^{4}~\\mu\\mathrm{m}\\cdot\\mathrm{K}\n",
    "\\end{align*}\n",
    "\n",
    "$k_\\mathrm{B} = 1.381\\times 10^{-23}$ J/K $=8.617\\times 10^{-5}$ eV/K, es la constante de Boltzmann. La unidad \"sr\" correponde a un esteroradian."
   ]
  },
  {
   "cell_type": "markdown",
   "id": "4e04c610",
   "metadata": {
    "slideshow": {
     "slide_type": "fragment"
    }
   },
   "source": [
    "Esta es la **distribución de Planck**. Representa la radiancia espectral emitida por un cuerpo idealizado, denominado **cuerpo negro**. Un cuerpo negro, así, representa un emisor perfecto, capaz de emitir la máxima radiacion posible a una temperatura $T$."
   ]
  },
  {
   "cell_type": "markdown",
   "id": "513d759b",
   "metadata": {
    "slideshow": {
     "slide_type": "slide"
    }
   },
   "source": [
    "El poder de emisión hemisférico espectral de la superficie de un cuerpo negro, $E_\\mathrm{bb}(\\lambda,T)$, se obtiene integrando la radiancia espectral por ángulo sólido en el límite de una hemiesfera:\n",
    "\n",
    "\\begin{equation}\n",
    "\\int_\\mathrm{hemi} I_{\\mathrm{bb},\\lambda}(\\lambda,T,\\Omega)\\cos\\theta d\\Omega = \\pi I_{\\mathrm{bb},\\lambda}(\\lambda,T) = E_{\\mathrm{bb},\\lambda}(\\lambda,T),\\quad\\quad\\frac{\\mathrm{W}}{\\mathrm{m}^2\\cdot\\mu\\mathrm{m}}\n",
    "\\end{equation}"
   ]
  },
  {
   "cell_type": "markdown",
   "id": "3cbf0ea5",
   "metadata": {
    "slideshow": {
     "slide_type": "fragment"
    }
   },
   "source": [
    "A partir de la integral de $E_\\mathrm{bb}(\\lambda,T)$ en el espectro de longitudes de onda, obtenemos el poder de emisión hemisferico total de un cuerpo negro:\n",
    "\n",
    "\\begin{equation}\n",
    "\\int_0^\\infty E_{\\mathrm{bb},\\lambda}(\\lambda,T) d\\lambda = \\sigma T^4,\\quad\\quad\\frac{\\mathrm{W}}{\\mathrm{m}^2}\n",
    "\\end{equation}\n",
    "\n",
    "donde $\\sigma = 5.670\\times10^{-8}$ W/m$^2\\cdot$K$^4$, es la *constante de Stefan-Boltzmann.* Esta fórmula se conoce como la **ley de Stefan-Boltzmann**"
   ]
  },
  {
   "cell_type": "markdown",
   "id": "18b26d00",
   "metadata": {
    "slideshow": {
     "slide_type": "slide"
    }
   },
   "source": [
    "En la siguiente figura, se ilustra $E_{\\mathrm{bb},\\lambda}(\\lambda,T)$ función de la temperatura y longitud de onda.\n"
   ]
  },
  {
   "cell_type": "markdown",
   "id": "0c94c575",
   "metadata": {},
   "source": [
    "<img src=\"./images/blackbody_rad.png\" width=\"700px\" align= center>"
   ]
  },
  {
   "cell_type": "markdown",
   "id": "8eb1ce9b",
   "metadata": {
    "slideshow": {
     "slide_type": "slide"
    }
   },
   "source": [
    "A medida que $T$ aumenta, notamos que el máximo de la curva se desplaza hacia el azul. La longitud de onda correspondiente a este máximo, $\\lambda_\\mathrm{peak}$, está definida por la **ley de desplazamiento de Wien:**\n",
    "\n",
    "\\begin{equation}\n",
    "\\lambda_\\mathrm{peak}T = 2897.8\\quad\\mu\\mathrm{m}\\cdot\\mathrm{K}\n",
    "\\end{equation}\n"
   ]
  },
  {
   "cell_type": "markdown",
   "id": "26d022df",
   "metadata": {
    "slideshow": {
     "slide_type": "fragment"
    }
   },
   "source": [
    "Esta relación permite entender el cambio de color de la fuente emisora con la tempertura."
   ]
  },
  {
   "cell_type": "markdown",
   "id": "441619f6",
   "metadata": {
    "slideshow": {
     "slide_type": "fragment"
    }
   },
   "source": [
    "Recordemos, sin embargo,  que **el color de un material no solo se define por la emisión de radiación, sino también por la forma en la que interactúa con la luz incidente**. Como revisamos en las unidades anteriores, esta interacción está condionada por las propiedades radiativas."
   ]
  },
  {
   "cell_type": "markdown",
   "id": "da43fbee",
   "metadata": {
    "slideshow": {
     "slide_type": "slide"
    }
   },
   "source": [
    "### Propiedades Radiativas\n",
    "\n",
    "Definimos como **emisividad direccional espectral, $\\epsilon_{\\lambda,\\Omega}$,** a la *razón entre la radiación emitida por una superficie, $I_\\lambda(\\lambda,T,\\Omega)$, y la radiación emitida por un cuerpo negro, ambas a temperatura $T$*:\n",
    "\n",
    "\\begin{equation}\n",
    "\\epsilon_{\\lambda,\\Omega} = \\frac{I_\\lambda(\\lambda,T,\\Omega)}{I_{\\mathrm{bb},\\lambda}(\\lambda,T,\\Omega)}\n",
    "\\end{equation}\n",
    "\n",
    "De esta forma, $\\epsilon$ es una propiedad adimensional de superfice que varía entre $0 \\le \\epsilon \\le 1$."
   ]
  },
  {
   "cell_type": "markdown",
   "id": "819d0302",
   "metadata": {
    "slideshow": {
     "slide_type": "fragment"
    }
   },
   "source": [
    "Definimos como **absortividad direccional espectral, $A_{\\lambda,\\Omega}$,** a la *porción de radiación incidente que es absorbida por una superficie*. Igualmente, $0 \\le \\alpha \\le 1$."
   ]
  },
  {
   "cell_type": "markdown",
   "id": "64a21ba8",
   "metadata": {
    "slideshow": {
     "slide_type": "slide"
    }
   },
   "source": [
    "A través de la **ley de Kirchhoff**, podemos establecer una relación entre la absortancia y emisividad espectral direccional:\n",
    "\n",
    "\\begin{equation}\n",
    "\\epsilon_{\\lambda,\\Omega} = A_{\\lambda,\\Omega}\n",
    "\\end{equation}"
   ]
  },
  {
   "cell_type": "markdown",
   "id": "5dd135bb",
   "metadata": {
    "slideshow": {
     "slide_type": "fragment"
    }
   },
   "source": [
    "En otras palabras, las propiedades de un material como receptor o emisor de radiación, son iguales. Este concepto, denominado *reciprocidad*, es consecuencia de las ecuaciones de Maxwell y es la base fundamental para el diseño de antenas y radares."
   ]
  },
  {
   "cell_type": "markdown",
   "id": "1f3f624f",
   "metadata": {
    "slideshow": {
     "slide_type": "slide"
    }
   },
   "source": [
    "Por conservación de energía:\n",
    "\\begin{equation}\n",
    "A_{\\lambda,\\Omega} + R_{\\lambda,\\Omega} + T_{\\lambda,\\Omega} = 1\n",
    "\\end{equation}\n"
   ]
  },
  {
   "cell_type": "markdown",
   "id": "c03d9fac",
   "metadata": {
    "slideshow": {
     "slide_type": "fragment"
    }
   },
   "source": [
    "donde $R_{\\lambda,\\Omega}$ y $T_{\\lambda,\\Omega}$ son, respectivamente, la reflectividad y transmisividad espectral direccional del material"
   ]
  },
  {
   "cell_type": "markdown",
   "id": "d93dacf1",
   "metadata": {
    "slideshow": {
     "slide_type": "fragment"
    }
   },
   "source": [
    "Debido a la naturaleza de la radiación térmica, la polarización de las ondas electromagnéticas es aleatoria. Así, $R_{\\lambda,\\Omega}$ y $T_{\\lambda,\\Omega}$ se calculan como:\n",
    "\n",
    "\\begin{equation}\n",
    "R_{\\lambda,\\Omega} = \\frac{R_{\\lambda,\\Omega}^\\mathrm{TM}+R_{\\lambda,\\Omega}^\\mathrm{TE}}{2}\\quad\\quad\n",
    "T_{\\lambda,\\Omega} = \\frac{T_{\\lambda,\\Omega}^\\mathrm{TM}+T_{\\lambda,\\Omega}^\\mathrm{TE}}{2}\n",
    "\\end{equation}"
   ]
  },
  {
   "cell_type": "markdown",
   "id": "1b34032f",
   "metadata": {
    "slideshow": {
     "slide_type": "fragment"
    }
   },
   "source": [
    "A partir de estas relaciones podemos determinar $\\epsilon_{\\lambda,\\Omega}$."
   ]
  },
  {
   "cell_type": "markdown",
   "id": "048661b3",
   "metadata": {
    "slideshow": {
     "slide_type": "slide"
    }
   },
   "source": [
    "Cabe mencionar que en textos de radiometría y transferencia de calor, la reflectividad y transmisividad se denominan, respectivamente, **reflectancia ($\\rho$)**, **transmitancia ($\\tau$).** Igualmente la absortividad se denomina **absortancia ($\\alpha$).** Ambos términos son equivalentes."
   ]
  },
  {
   "cell_type": "markdown",
   "id": "51fbf681",
   "metadata": {
    "slideshow": {
     "slide_type": "fragment"
    }
   },
   "source": [
    "En este curso, seguiremos utilizando los términos y notación de óptica, es decir $R_{\\lambda,\\Omega}$, $T_{\\lambda,\\Omega}$ y $A_{\\lambda,\\Omega}$, para evitar confusiones. "
   ]
  },
  {
   "cell_type": "markdown",
   "id": "4d61c797",
   "metadata": {
    "slideshow": {
     "slide_type": "slide"
    }
   },
   "source": [
    "Como ejemplo, analicemos el poder de emisión espectral direccional, $E_{\\lambda,\\Omega}(T)$ y la emisividad $\\epsilon(\\lambda,\\Omega)$ de una capa de vidrio en función de la temperatura ($T$), espesor ($d$) y dirección ($\\theta$). En este caso: \n",
    "\n",
    "\\begin{align*}\n",
    "E_{\\lambda,\\Omega}(T) &= \\epsilon(\\lambda,\\Omega)I_{\\mathrm{bb},\\lambda}(\\lambda,\\Omega,T)\\cos\\theta \\\\[10pt]\n",
    " &= \\left[1 - R_{\\lambda,\\Omega} - T_{\\lambda,\\Omega}\\right]I_{\\mathrm{bb},\\lambda}(\\lambda,\\Omega,T)\\cos\\theta\n",
    "\\end{align*}"
   ]
  },
  {
   "cell_type": "markdown",
   "id": "e04ec37d",
   "metadata": {
    "slideshow": {
     "slide_type": "slide"
    }
   },
   "source": [
    "Antes, analicemos el índice de refracción del vidrio (sílicice, SiO$_2$), en el espectro $\\lambda\\in[0.3,15]$ $\\mu$m."
   ]
  },
  {
   "cell_type": "code",
   "execution_count": 1,
   "id": "e34559d2",
   "metadata": {
    "cell_style": "split",
    "slideshow": {
     "slide_type": "fragment"
    },
    "tags": [
     "hide-input"
    ]
   },
   "outputs": [],
   "source": [
    "%%capture showplot\n",
    "import numpy as np\n",
    "import empylib.nklib as nk\n",
    "import matplotlib.pyplot as plt\n",
    "\n",
    "lam = np.linspace(0.3,15,100)\n",
    "plt.plot(lam,nk.SiO2(lam).real,'-r',label='$n$')\n",
    "plt.plot(lam,nk.SiO2(lam).imag,'-b',label='$\\kappa$')\n",
    "plt.xlabel('Longitud de onda, $\\lambda$ ($\\mu$m)',fontsize=16)\n",
    "plt.ylabel('$n$, $\\kappa$',fontsize=16)\n",
    "plt.title('Índice de refracción SiO$_2$',fontsize=18)\n",
    "plt.legend(frameon=False,fontsize=16)\n",
    "plt.tick_params(labelsize=16)"
   ]
  },
  {
   "cell_type": "code",
   "execution_count": 2,
   "id": "20435072",
   "metadata": {
    "cell_style": "split"
   },
   "outputs": [
    {
     "data": {
      "image/png": "[encoded data removed]",
      "text/plain": [
       "<Figure size 432x288 with 1 Axes>"
      ]
     },
     "metadata": {
      "filenames": {
       "image/png": "/mnt/c/Users/francisco.ramirez.c/OneDrive - Universidad Adolfo Ibanez/Teaching_courses/Manejo_y_Conversion_Energia_Solar_Termica/material_catedra/_build/jupyter_execute/6_RadiacionTermica/6_RadiacionTermica_63_0.png"
      },
      "needs_background": "light"
     },
     "output_type": "display_data"
    }
   ],
   "source": [
    "showplot()"
   ]
  },
  {
   "cell_type": "markdown",
   "id": "89749a31",
   "metadata": {
    "slideshow": {
     "slide_type": "fragment"
    }
   },
   "source": [
    "Comparamos $E_{\\lambda,\\Omega}(T)$ con el poder de emisión espectral direccional del cuerpo negro, $E_{\\mathrm{bb},\\lambda,\\Omega} = I_{\\mathrm{bb},\\lambda}\\cos\\theta$"
   ]
  },
  {
   "cell_type": "code",
   "execution_count": 3,
   "id": "f24c88be",
   "metadata": {
    "slideshow": {
     "slide_type": "slide"
    },
    "tags": [
     "hide-input"
    ]
   },
   "outputs": [],
   "source": [
    "import empylib.waveoptics as wv\n",
    "import empylib.nklib as nk\n",
    "import numpy as np\n",
    "from numpy import log10, radians, cos\n",
    "import matplotlib.pyplot as plt\n",
    "from empylib.ref_spectra import Bplanck\n",
    "\n",
    "def plot_emisivity_glass(Temp,d,lam0,theta0):\n",
    "    # PARAMETROS DE ENTRADA\n",
    "    lam = np.linspace(0.3,15,100)\n",
    "    Nfront = 1.0                 # índice de refracción medio superior\n",
    "    N1     = nk.SiO2(lam)        # índice de refracción capa intermedia\n",
    "    Nback  = 4.3                 # índice de refracción medio inferior\n",
    "    N = (Nfront, N1, Nback)      # indices de refracción (above, mid, below)\n",
    "    #-------------------------------------------------------------------------\n",
    "\n",
    "    # CÁLCULO DE VARIABLES\n",
    "    # 1. Reflectancia y transmitancia espectral en theta0\n",
    "    Rs, Ts = wv.incoh_multilayer(lam,radians(theta0), N, d*1E3, pol='TM')\n",
    "    Rp, Tp = wv.incoh_multilayer(lam,radians(theta0), N, d*1E3, pol='TM')\n",
    "    \n",
    "    R_lam = (Rs + Rp)/2\n",
    "    T_lam = (Ts + Tp)/2\n",
    "    A_lam = 1 - T_lam - R_lam  # absortancia espectral\n",
    "    \n",
    "   # 2. Reflectancia y transmitancia direccional en lam0\n",
    "    theta = np.linspace(0,90,100)\n",
    "    N = (Nfront, nk.SiO2(lam0), Nback) # indices de refracción (above, mid, below)\n",
    "    \n",
    "    A_theta = [] # generamos la absortancia direccional en este loop\n",
    "    for theta_i in theta:\n",
    "        Rs, Ts = wv.incoh_multilayer(lam0,radians(theta_i), N, d*1E3, pol='TM')\n",
    "        Rp, Tp = wv.incoh_multilayer(lam0,radians(theta_i), N, d*1E3, pol='TM')\n",
    "        R = (Rs + Rp)/2\n",
    "        T = (Ts + Tp)/2\n",
    "        A_theta.append(1 - T - R)\n",
    "    A_theta = np.array(A_theta).flatten() # convertimos la lista a ndarray\n",
    "    \n",
    "    # 3. Poder de emisión direccional espectral\n",
    "    E_lam = A_lam*Bplanck(lam,Temp)*cos(radians(theta0)) # poder de emisión material\n",
    "    E_bb  =       Bplanck(lam,Temp)*cos(radians(theta0)) # poder de emisión de cuerpo negro\n",
    "    #-------------------------------------------------------------------------\n",
    "    \n",
    "    # GRAFICAMOS RESULTADOS.\n",
    "    fig, ax = plt.subplots(1,3)             # 3 ejes\n",
    "    fig.set_size_inches(16, 5)              # Tamaño de figura\n",
    "    \n",
    "    # 1. Propiedades radiativas direccional espectral para theta0\n",
    "    ax[0].plot(lam,R_lam,'--r',label=r'$R_{\\lambda,\\Omega}$',linewidth=0.5)\n",
    "    ax[0].plot(lam,T_lam,'--b',label=r'$T_{\\lambda,\\Omega}$',linewidth=0.5)\n",
    "    ax[0].plot(lam,A_lam,'-k',label=r'$A_{\\lambda,\\Omega}$',linewidth=2.0)  \n",
    "    ax[0].plot(lam0,np.interp(lam0,lam,A_lam),'or',ms=8.0)   \n",
    "    ax[0].set_xlabel('$\\lambda$ ($\\mu$m)',fontsize=18)\n",
    "    ax[0].set_ylabel(r'$R_{\\lambda,\\Omega}$, $T_{\\lambda,\\Omega}$ y $A_{\\lambda,\\Omega}$',fontsize=18)\n",
    "    ax[0].set_ylim(0,1.05)\n",
    "    ax[0].set_title(r'$\\theta = $ %i°' % theta0,fontsize=18)\n",
    "    ax[0].legend(fontsize=16, loc='lower right')\n",
    "    ax[0].tick_params(labelsize=16)\n",
    "    \n",
    "    # 2. Emisividad direccional espectral para lam0\n",
    "    ax[1].plot(theta,A_theta,'-k')  \n",
    "    ax[1].plot(theta0,np.interp(theta0,theta,A_theta),'or',ms=8.0)   \n",
    "    ax[1].set_xlabel(r'$\\theta$ (deg)',fontsize=18)\n",
    "    ax[1].set_ylabel(r'$\\epsilon_{\\lambda,\\Omega}(\\theta)$',fontsize=18)\n",
    "    ax[1].set_title(r'$\\lambda = $ %.2f $\\mu$m' % lam0,fontsize=18)\n",
    "    ax[1].set_ylim(0,1.05)\n",
    "    ax[1].tick_params(labelsize=16)\n",
    "    \n",
    "    # 3. Poder de emisión direccional espectral para theta0\n",
    "    ax[2].plot(lam,E_lam,'-k',label =r'$E_{\\lambda,\\Omega}$')\n",
    "    ax[2].plot(lam,E_bb,'-r',label =r'$E_\\mathrm{bb}$') \n",
    "    ax[2].plot(lam0,np.interp(lam0,lam,E_lam),'or',ms=8.0)   \n",
    "    ax[2].set_xlabel('Longitud de onda ($\\mu$m)',fontsize=18)\n",
    "    ax[2].set_ylabel(r'$E_{\\lambda,\\Omega}$(T) (W/m$^2$-$\\mu$m-sr)',fontsize=18)\n",
    "    ax[2].set_title(r'd = %.2f mm, $\\theta$=%i°' % (d,theta0) ,fontsize=18)\n",
    "    ax[2].set_ylim(0,max(Bplanck(lam,Temp))*1.05)\n",
    "    ax[2].legend(fontsize=16)\n",
    "    ax[2].tick_params(labelsize=16)\n",
    "    \n",
    "    plt.subplots_adjust(wspace=0.30)\n",
    "    plt.show()"
   ]
  },
  {
   "cell_type": "code",
   "execution_count": 4,
   "id": "8e3af1c4",
   "metadata": {
    "slideshow": {
     "slide_type": "slide"
    }
   },
   "outputs": [
    {
     "data": {
      "application/vnd.jupyter.widget-view+json": {
       "model_id": "c9bb02720ec74ef0be192b5a20920bb2",
       "version_major": 2,
       "version_minor": 0
      },
      "text/plain": [
       "interactive(children=(IntSlider(value=300, description='T', max=1000, min=300, step=10), FloatSlider(value=1.0…"
      ]
     },
     "metadata": {},
     "output_type": "display_data"
    }
   ],
   "source": [
    " from ipywidgets import interact\n",
    "\n",
    "@interact(T=(300,1000,10), d=(0,10,0.01), lam0=(5,10,0.01), theta0=(0,90,1))\n",
    "def g(T=300,d=1, lam0=10, theta0=0):\n",
    "    return plot_emisivity_glass(T,d,lam0,theta0)"
   ]
  },
  {
   "cell_type": "markdown",
   "id": "1071c1d3",
   "metadata": {
    "slideshow": {
     "slide_type": "slide"
    }
   },
   "source": [
    "Al igual que con el poder de emisión, la emisividad puede también ser definida de forma hemisférica (integración por ángulo sólido) o total (integración por longitudes de onda)"
   ]
  },
  {
   "cell_type": "markdown",
   "id": "67f1a8ba",
   "metadata": {
    "slideshow": {
     "slide_type": "fragment"
    }
   },
   "source": [
    "**Emisividad direccional total**\n",
    "\\begin{equation}\n",
    "\\epsilon_\\Omega(\\Omega,T) = \\frac{E_\\Omega(T)}{E_{\\Omega,bb}(T)} =\\frac{\\int_0^\\infty \\epsilon_{\\lambda,\\Omega} I_{\\mathrm{bb},\\lambda} (T)\\cos\\theta~d\\lambda}{\\int_0^\\infty I_{\\mathrm{bb},\\lambda} (T)\\cos\\theta~d\\lambda} = \\frac{\\pi}{\\sigma T^4}\\int_0^\\infty \\epsilon_{\\lambda,\\Omega} I_{\\mathrm{bb},\\lambda} (T)~d\\lambda\n",
    "\\end{equation}"
   ]
  },
  {
   "cell_type": "markdown",
   "id": "6e8b85fd",
   "metadata": {
    "slideshow": {
     "slide_type": "fragment"
    }
   },
   "source": [
    "**Emisividad hemisférica espectral**\n",
    "\\begin{equation}\n",
    "\\epsilon_\\lambda(\\lambda) = \\frac{E_\\lambda(T)}{E_{\\lambda,bb}(T)} = \\frac{\\int_\\mathrm{hemi}\\epsilon_{\\lambda,\\Omega}I_{\\mathrm{bb},\\lambda}(T)\\cos\\theta~d\\Omega}{\\pi I_{\\mathrm{bb},\\lambda}(T)}  = \\frac{1}{\\pi}\\int_\\mathrm{hemi}\\epsilon_{\\lambda,\\Omega}\\cos\\theta~d\\Omega\n",
    "\\end{equation}"
   ]
  },
  {
   "cell_type": "markdown",
   "id": "7af36cfb",
   "metadata": {
    "slideshow": {
     "slide_type": "fragment"
    }
   },
   "source": [
    "**Emisividad hemisférica total**\n",
    "\\begin{equation}\n",
    "\\epsilon(T) = \\frac{E(T)}{\\sigma T^4} =\\frac{1}{\\sigma T^4}\\int\\int_0^\\infty \\epsilon_{\\lambda,\\Omega} I_{\\mathrm{bb},\\lambda} (T)\\cos\\theta~d\\lambda~d\\Omega\n",
    "\\end{equation}"
   ]
  },
  {
   "cell_type": "markdown",
   "id": "041e5c23",
   "metadata": {
    "slideshow": {
     "slide_type": "slide"
    }
   },
   "source": [
    "Notar que las valores totatles (integración en el espectro), implícitamente dependen de $T$ debido al factor $\\sigma T^4$."
   ]
  },
  {
   "cell_type": "markdown",
   "id": "42cb2a6f",
   "metadata": {
    "slideshow": {
     "slide_type": "slide"
    }
   },
   "source": [
    "### Materiales idealizados"
   ]
  },
  {
   "cell_type": "markdown",
   "id": "250a53e9",
   "metadata": {
    "slideshow": {
     "slide_type": "fragment"
    }
   },
   "source": [
    "- Decimos que una superficie es **difusa** cuando sus propiedades radiativas no dependen de $\\Omega$. Es práctica común suponer que las superficies son emisores difusos, con una emisividad igual al valor de la dirección normal ($\\theta = 0$)."
   ]
  },
  {
   "cell_type": "markdown",
   "id": "61822fca",
   "metadata": {
    "slideshow": {
     "slide_type": "fragment"
    }
   },
   "source": [
    "- Decimos que una superficie es **gris** cuando la emisividad es independiente de $\\lambda$."
   ]
  },
  {
   "cell_type": "markdown",
   "id": "55b28916",
   "metadata": {
    "slideshow": {
     "slide_type": "fragment"
    }
   },
   "source": [
    "- Decimos que una superficie es **opaca** cuando $T_{\\lambda,\\Omega} = 0$. En este caso, \n",
    "tenemos $A_{\\lambda,\\Omega} + R_{\\lambda,\\Omega} = 1$"
   ]
  },
  {
   "cell_type": "markdown",
   "id": "0107051b",
   "metadata": {
    "slideshow": {
     "slide_type": "fragment"
    }
   },
   "source": [
    "- En el caso de **gases**, $R_{\\lambda,\\Omega} \\approx 0$, así $A_{\\lambda,\\Omega} + T_{\\lambda,\\Omega} = 1$"
   ]
  },
  {
   "cell_type": "markdown",
   "id": "4a494870",
   "metadata": {
    "slideshow": {
     "slide_type": "slide"
    }
   },
   "source": [
    "### Irradiancia (G) y Radiosidad (J)"
   ]
  },
  {
   "cell_type": "markdown",
   "id": "fbc52f8b",
   "metadata": {
    "cell_style": "split",
    "slideshow": {
     "slide_type": "fragment"
    }
   },
   "source": [
    "Definimos como **irradiación espectral direccional, $G_{\\lambda,\\Omega}$** a la radiancia espectral incidente en una superficie.\n",
    "\n",
    "<img src=\"./images/irradiance.png\" width=\"300px\" align= center>"
   ]
  },
  {
   "cell_type": "markdown",
   "id": "ee20e9bd",
   "metadata": {
    "cell_style": "split",
    "slideshow": {
     "slide_type": "fragment"
    }
   },
   "source": [
    "Matématicamente:\n",
    "\n",
    "\\begin{equation}\n",
    "G_{\\lambda,\\Omega} = I_i(\\lambda,\\Omega) \\cos\\theta\\quad\\frac{\\mathrm{W}}{\\mathrm{m}^2}\n",
    "\\end{equation}\n",
    "\n",
    "donde $I_i$ es la radiancia espectral incidente sobre una superficie $dA$"
   ]
  },
  {
   "cell_type": "markdown",
   "id": "04ee6eb9",
   "metadata": {
    "slideshow": {
     "slide_type": "slide"
    }
   },
   "source": [
    "Definimos como **radiosidad, $J_{\\lambda,\\Omega}$** a la combinación de radiación emitida y reflejada por una superficie"
   ]
  },
  {
   "cell_type": "markdown",
   "id": "bae8d429",
   "metadata": {
    "cell_style": "split",
    "slideshow": {
     "slide_type": "-"
    }
   },
   "source": [
    "\n",
    "<img src=\"./images/radiosity.png\" width=\"250px\" align= center>"
   ]
  },
  {
   "cell_type": "markdown",
   "id": "23a0cca5",
   "metadata": {
    "cell_style": "split",
    "slideshow": {
     "slide_type": "fragment"
    }
   },
   "source": [
    "Matemáticamente:\n",
    "\\begin{equation}\n",
    "J_{\\lambda,\\Omega} = R_{\\lambda,\\Omega}G_{\\lambda,\\Omega}+E_{\\lambda,\\Omega}\n",
    "\\end{equation}"
   ]
  },
  {
   "cell_type": "markdown",
   "id": "0fc1336c",
   "metadata": {
    "slideshow": {
     "slide_type": "fragment"
    }
   },
   "source": [
    "Al igual que con el poder de emisión, la irradiancia ($G_{\\lambda,\\Omega}$) y la radiosidad ($J_{\\lambda,\\Omega}$) pueden ser definidas de forma hemisférica (integrando por ángulo sólido) o total (integrando por longitud de onda)."
   ]
  },
  {
   "cell_type": "markdown",
   "id": "7c66c252",
   "metadata": {},
   "source": [
    "## Transferencia de calor por radiación"
   ]
  },
  {
   "cell_type": "markdown",
   "id": "4d97cde2",
   "metadata": {
    "slideshow": {
     "slide_type": "slide"
    }
   },
   "source": [
    "### Factor de visión para superficies difusas\n",
    "La transferencia de calor por radiación depende de la orientación relativa entre las superficies."
   ]
  },
  {
   "cell_type": "markdown",
   "id": "a9c57dec",
   "metadata": {
    "slideshow": {
     "slide_type": "fragment"
    }
   },
   "source": [
    "En general, este análisis es complejo ya que requiere integración por ángulo sólido considerando factores geométricos y dependencia de las propiedades radiativas con la orientación. En el caso de superficies difusas, sin embargo, podemos simplificar el análisis considerando sólamente los aspectos geométricos."
   ]
  },
  {
   "cell_type": "markdown",
   "id": "24d32a93",
   "metadata": {
    "slideshow": {
     "slide_type": "slide"
    }
   },
   "source": [
    "Consideremos el parámetro,  $\\dot{Q}_{dA_1\\rightarrow dA_2}$, que representa la radiación espectral emitida por una superficie $dA_1$ que incide sobre una superficie $dA_2$."
   ]
  },
  {
   "cell_type": "markdown",
   "id": "2361fe98",
   "metadata": {
    "cell_style": "split",
    "slideshow": {
     "slide_type": "fragment"
    }
   },
   "source": [
    "\n",
    "<img src=\"./images/vision_factor.png\" width=\"250px\" align= center>"
   ]
  },
  {
   "cell_type": "markdown",
   "id": "551f2ce3",
   "metadata": {
    "cell_style": "split",
    "slideshow": {
     "slide_type": "-"
    }
   },
   "source": [
    "\\begin{equation*}\n",
    "dQ_{dA_1\\rightarrow dA_2} = I_{\\mathrm{bb},\\lambda}(T_1)\\cos\\theta_1 dA_1 d\\Omega_{12}\n",
    "\\end{equation*}"
   ]
  },
  {
   "cell_type": "markdown",
   "id": "8d71c791",
   "metadata": {
    "cell_style": "split",
    "slideshow": {
     "slide_type": "fragment"
    }
   },
   "source": [
    "A través de la relación $r^2 d\\Omega_{12} = \\cos\\theta_2 dA_2$, podemos determinar:\n",
    "\n",
    "\\begin{equation*}\n",
    "\\dot{Q}_{dA_1\\rightarrow dA_2} = I_{\\mathrm{bb},\\lambda}(T_1) \\frac{\\cos\\theta_1 \\cos\\theta_2}{r^2 }dA_1dA_2\n",
    "\\end{equation*}"
   ]
  },
  {
   "cell_type": "markdown",
   "id": "f892a331",
   "metadata": {
    "slideshow": {
     "slide_type": "slide"
    }
   },
   "source": [
    "La radiación total espectral que incide sobre la superficie $A_2$, es:\n",
    "\n",
    "\\begin{equation*}\n",
    "\\dot{Q}_{A_1\\rightarrow A_2} = \\int_{A_1}\\int_{A_1}I_{\\mathrm{bb},\\lambda}(T_1) \\frac{\\cos\\theta_1 \\cos\\theta_2}{r^2 }dA_1dA_2\n",
    "\\end{equation*}"
   ]
  },
  {
   "cell_type": "markdown",
   "id": "1ecc9bb7",
   "metadata": {
    "slideshow": {
     "slide_type": "fragment"
    }
   },
   "source": [
    "Definimos como **factor de visión o factor de forma, $F_{12}$** a la razón entre $\\dot{Q}_{A_1\\rightarrow A_2}$ y la radiación hemisférica espectral emitida por $A_1$, es decir $\\dot{Q}_{A_1} = \\pi I_{\\mathrm{bb},\\lambda}(T_1) A_1 $:\n",
    "\n",
    "\n",
    "\\begin{equation}\n",
    "F_{12} = \\frac{\\dot{Q}_{A_1\\rightarrow A_2}}{\\dot{Q}_{A_1}} = \\frac{1}{A_1}\\int_{A_1}\\int_{A_2} \\frac{\\cos\\theta_1 \\cos\\theta_2}{\\pi r^2 }dA_1dA_2\n",
    "\\end{equation}"
   ]
  },
  {
   "cell_type": "markdown",
   "id": "410f376e",
   "metadata": {
    "slideshow": {
     "slide_type": "fragment"
    }
   },
   "source": [
    "El factor de visión permite simplificar el análisis para determinar el calor por radiación transferido a una superficie, de la forma:\n",
    "\n",
    "\\begin{equation*}\n",
    "\\dot{Q}_{A_1\\rightarrow A_2} = I_{\\mathrm{bb},\\lambda}(T_1) A_1F_{12}\n",
    "\\end{equation*}"
   ]
  },
  {
   "cell_type": "markdown",
   "id": "9973f4be",
   "metadata": {
    "slideshow": {
     "slide_type": "slide"
    }
   },
   "source": [
    "Por reciprocidad, el factor de visión desde $A_2$ a $A_1$ es:\n",
    "\n",
    "\\begin{equation*}\n",
    "F_{21} = \\frac{1}{A_2}\\int_{A_1}\\int_{A_2} \\frac{\\cos\\theta_1 \\cos\\theta_2}{\\pi r^2 }dA_1dA_2\n",
    "\\end{equation*}"
   ]
  },
  {
   "cell_type": "markdown",
   "id": "fd088d94",
   "metadata": {
    "slideshow": {
     "slide_type": "fragment"
    }
   },
   "source": [
    "De donde deducimos la relación:\n",
    "\n",
    "\\begin{equation}\n",
    "A_1 F_{12} = A_2 F_{21}\n",
    "\\end{equation}"
   ]
  },
  {
   "cell_type": "markdown",
   "id": "3e0d1079",
   "metadata": {
    "slideshow": {
     "slide_type": "fragment"
    }
   },
   "source": [
    "Las expresiones para el factor de visión se encuentran tabuladas en diversos textos especializados. "
   ]
  },
  {
   "cell_type": "markdown",
   "id": "1f2c6d99",
   "metadata": {
    "slideshow": {
     "slide_type": "slide"
    }
   },
   "source": [
    "Si una de las superficies es muy pequeña respecto a la otra, $F_{12} = 1$"
   ]
  },
  {
   "cell_type": "markdown",
   "id": "4f7b9ad8",
   "metadata": {},
   "source": [
    "\n",
    "<img src=\"./images/vision_factor_table.png\" width=\"500px\" align= center>"
   ]
  },
  {
   "cell_type": "markdown",
   "id": "bd990181",
   "metadata": {
    "slideshow": {
     "slide_type": "slide"
    }
   },
   "source": [
    "### Transferencia de calor por radiación\n",
    "En el caso de dos superficies negras a temperaturas $T_1$ y $T_2$, la transferencia de calor neta por radiación es:\n",
    "\n",
    "\\begin{align}\n",
    "\\dot{Q} &= \\dot{Q}_{A_1\\rightarrow A_2} - \\dot{Q}_{A_2\\rightarrow A_1} \\nonumber \\\\[10pt]\n",
    "&= A_1F_{12}\\sigma T_1^4 - A_2F_{21}\\sigma T_2^4 \\nonumber \\\\[10pt]\n",
    "&= A_1F_{12}\\sigma\\left(T_1^4 - T_2^4\\right)\n",
    "\\end{align}"
   ]
  },
  {
   "cell_type": "markdown",
   "id": "17c1dc23",
   "metadata": {
    "cell_style": "center",
    "slideshow": {
     "slide_type": "slide"
    }
   },
   "source": [
    "## Referencias\n",
    "- Çengel Y. A y Ghanjar A. J. **Capítulo 12 - Fundamentos de la radiación térmica** en *Transferencia de calor y masa*, 4ta Ed, McGraw Hill, 2011"
   ]
  },
  {
   "cell_type": "code",
   "execution_count": 5,
   "id": "6e0a420c",
   "metadata": {},
   "outputs": [
    {
     "data": {
      "image/jpeg": "[encoded data removed]",
      "text/html": [
       "\n",
       "<iframe\n",
       "    width=\"600\"\n",
       "    height=\"400\"\n",
       "    src=\"https://www.youtube.com/embed/FDmYCI_xYlA?playsinline=0\"\n",
       "    frameborder=\"0\"\n",
       "    allowfullscreen\n",
       "\n",
       "></iframe>\n"
      ],
      "text/plain": [
       "<IPython.lib.display.YouTubeVideo at 0x7f0e2ac8aac0>"
      ]
     },
     "execution_count": 5,
     "metadata": {
      "filenames": {
       "image/jpeg": "/mnt/c/Users/francisco.ramirez.c/OneDrive - Universidad Adolfo Ibanez/Teaching_courses/Manejo_y_Conversion_Energia_Solar_Termica/material_catedra/_build/jupyter_execute/6_RadiacionTermica/6_RadiacionTermica_101_0.jpg"
      }
     },
     "output_type": "execute_result"
    }
   ],
   "source": [
    "from IPython.display import YouTubeVideo\n",
    "YouTubeVideo('FDmYCI_xYlA', width=600, height=400,  playsinline=0)"
   ]
  }
 ],
 "metadata": {
  "celltoolbar": "Slideshow",
  "kernelspec": {
   "display_name": "Python 3 (ipykernel)",
   "language": "python",
   "name": "python3"
  },
  "language_info": {
   "codemirror_mode": {
    "name": "ipython",
    "version": 3
   },
   "file_extension": ".py",
   "mimetype": "text/x-python",
   "name": "python",
   "nbconvert_exporter": "python",
   "pygments_lexer": "ipython3",
   "version": "3.9.13"
  },
  "latex_envs": {
   "LaTeX_envs_menu_present": false,
   "autoclose": false,
   "autocomplete": false,
   "bibliofile": "biblio.bib",
   "cite_by": "apalike",
   "current_citInitial": 1,
   "eqLabelWithNumbers": true,
   "eqNumInitial": 1,
   "hotkeys": {
    "equation": "Ctrl-E",
    "itemize": "Ctrl-I"
   },
   "labels_anchors": false,
   "latex_user_defs": false,
   "report_style_numbering": false,
   "user_envs_cfg": true
  },
  "toc": {
   "base_numbering": 1,
   "nav_menu": {},
   "number_sections": true,
   "sideBar": true,
   "skip_h1_title": true,
   "title_cell": "Tabla de contenidos",
   "title_sidebar": "Contenidos",
   "toc_cell": false,
   "toc_position": {
    "height": "calc(100% - 180px)",
    "left": "10px",
    "top": "150px",
    "width": "307.2px"
   },
   "toc_section_display": true,
   "toc_window_display": false
  },
  "varInspector": {
   "cols": {
    "lenName": 16,
    "lenType": 16,
    "lenVar": 40
   },
   "kernels_config": {
    "python": {
     "delete_cmd_postfix": "",
     "delete_cmd_prefix": "del ",
     "library": "var_list.py",
     "varRefreshCmd": "print(var_dic_list())"
    },
    "r": {
     "delete_cmd_postfix": ") ",
     "delete_cmd_prefix": "rm(",
     "library": "var_list.r",
     "varRefreshCmd": "cat(var_dic_list()) "
    }
   },
   "types_to_exclude": [
    "module",
    "function",
    "builtin_function_or_method",
    "instance",
    "_Feature"
   ],
   "window_display": false
  },
  "widgets": {
   "application/vnd.jupyter.widget-state+json": {
    "state": {
     "10ff9baf3d374b2ca794f554f1845f84": {
      "model_module": "@jupyter-widgets/controls",
      "model_module_version": "1.5.0",
      "model_name": "SliderStyleModel",
      "state": {
       "_model_module": "@jupyter-widgets/controls",
       "_model_module_version": "1.5.0",
       "_model_name": "SliderStyleModel",
       "_view_count": null,
       "_view_module": "@jupyter-widgets/base",
       "_view_module_version": "1.2.0",
       "_view_name": "StyleView",
       "description_width": "",
       "handle_color": null
      }
     },
     "2b4727967e4c4ba8aa36d8e1ea31da86": {
      "model_module": "@jupyter-widgets/base",
      "model_module_version": "1.2.0",
      "model_name": "LayoutModel",
      "state": {
       "_model_module": "@jupyter-widgets/base",
       "_model_module_version": "1.2.0",
       "_model_name": "LayoutModel",
       "_view_count": null,
       "_view_module": "@jupyter-widgets/base",
       "_view_module_version": "1.2.0",
       "_view_name": "LayoutView",
       "align_content": null,
       "align_items": null,
       "align_self": null,
       "border": null,
       "bottom": null,
       "display": null,
       "flex": null,
       "flex_flow": null,
       "grid_area": null,
       "grid_auto_columns": null,
       "grid_auto_flow": null,
       "grid_auto_rows": null,
       "grid_column": null,
       "grid_gap": null,
       "grid_row": null,
       "grid_template_areas": null,
       "grid_template_columns": null,
       "grid_template_rows": null,
       "height": null,
       "justify_content": null,
       "justify_items": null,
       "left": null,
       "margin": null,
       "max_height": null,
       "max_width": null,
       "min_height": null,
       "min_width": null,
       "object_fit": null,
       "object_position": null,
       "order": null,
       "overflow": null,
       "overflow_x": null,
       "overflow_y": null,
       "padding": null,
       "right": null,
       "top": null,
       "visibility": null,
       "width": null
      }
     },
     "3ef03c6bfec745f28f3913b3bb7d0d1a": {
      "model_module": "@jupyter-widgets/controls",
      "model_module_version": "1.5.0",
      "model_name": "FloatSliderModel",
      "state": {
       "_dom_classes": [],
       "_model_module": "@jupyter-widgets/controls",
       "_model_module_version": "1.5.0",
       "_model_name": "FloatSliderModel",
       "_view_count": null,
       "_view_module": "@jupyter-widgets/controls",
       "_view_module_version": "1.5.0",
       "_view_name": "FloatSliderView",
       "continuous_update": true,
       "description": "lam0",
       "description_tooltip": null,
       "disabled": false,
       "layout": "IPY_MODEL_e6879184cc934cc1a7c4d4a78f21adff",
       "max": 10.0,
       "min": 5.0,
       "orientation": "horizontal",
       "readout": true,
       "readout_format": ".2f",
       "step": 0.01,
       "style": "IPY_MODEL_5e93895c3b594c8a9f8b7b65525da683",
       "value": 10.0
      }
     },
     "465b80ad6963487d844767de5b042491": {
      "model_module": "@jupyter-widgets/base",
      "model_module_version": "1.2.0",
      "model_name": "LayoutModel",
      "state": {
       "_model_module": "@jupyter-widgets/base",
       "_model_module_version": "1.2.0",
       "_model_name": "LayoutModel",
       "_view_count": null,
       "_view_module": "@jupyter-widgets/base",
       "_view_module_version": "1.2.0",
       "_view_name": "LayoutView",
       "align_content": null,
       "align_items": null,
       "align_self": null,
       "border": null,
       "bottom": null,
       "display": null,
       "flex": null,
       "flex_flow": null,
       "grid_area": null,
       "grid_auto_columns": null,
       "grid_auto_flow": null,
       "grid_auto_rows": null,
       "grid_column": null,
       "grid_gap": null,
       "grid_row": null,
       "grid_template_areas": null,
       "grid_template_columns": null,
       "grid_template_rows": null,
       "height": null,
       "justify_content": null,
       "justify_items": null,
       "left": null,
       "margin": null,
       "max_height": null,
       "max_width": null,
       "min_height": null,
       "min_width": null,
       "object_fit": null,
       "object_position": null,
       "order": null,
       "overflow": null,
       "overflow_x": null,
       "overflow_y": null,
       "padding": null,
       "right": null,
       "top": null,
       "visibility": null,
       "width": null
      }
     },
     "5e93895c3b594c8a9f8b7b65525da683": {
      "model_module": "@jupyter-widgets/controls",
      "model_module_version": "1.5.0",
      "model_name": "SliderStyleModel",
      "state": {
       "_model_module": "@jupyter-widgets/controls",
       "_model_module_version": "1.5.0",
       "_model_name": "SliderStyleModel",
       "_view_count": null,
       "_view_module": "@jupyter-widgets/base",
       "_view_module_version": "1.2.0",
       "_view_name": "StyleView",
       "description_width": "",
       "handle_color": null
      }
     },
     "759249781a3f4562b008e579048b35d2": {
      "model_module": "@jupyter-widgets/controls",
      "model_module_version": "1.5.0",
      "model_name": "SliderStyleModel",
      "state": {
       "_model_module": "@jupyter-widgets/controls",
       "_model_module_version": "1.5.0",
       "_model_name": "SliderStyleModel",
       "_view_count": null,
       "_view_module": "@jupyter-widgets/base",
       "_view_module_version": "1.2.0",
       "_view_name": "StyleView",
       "description_width": "",
       "handle_color": null
      }
     },
     "872295271a7c47bf995bd5242adc5bfb": {
      "model_module": "@jupyter-widgets/controls",
      "model_module_version": "1.5.0",
      "model_name": "SliderStyleModel",
      "state": {
       "_model_module": "@jupyter-widgets/controls",
       "_model_module_version": "1.5.0",
       "_model_name": "SliderStyleModel",
       "_view_count": null,
       "_view_module": "@jupyter-widgets/base",
       "_view_module_version": "1.2.0",
       "_view_name": "StyleView",
       "description_width": "",
       "handle_color": null
      }
     },
     "8792629a21b043138eede17347a2165f": {
      "model_module": "@jupyter-widgets/controls",
      "model_module_version": "1.5.0",
      "model_name": "IntSliderModel",
      "state": {
       "_dom_classes": [],
       "_model_module": "@jupyter-widgets/controls",
       "_model_module_version": "1.5.0",
       "_model_name": "IntSliderModel",
       "_view_count": null,
       "_view_module": "@jupyter-widgets/controls",
       "_view_module_version": "1.5.0",
       "_view_name": "IntSliderView",
       "continuous_update": true,
       "description": "theta0",
       "description_tooltip": null,
       "disabled": false,
       "layout": "IPY_MODEL_465b80ad6963487d844767de5b042491",
       "max": 90,
       "min": 0,
       "orientation": "horizontal",
       "readout": true,
       "readout_format": "d",
       "step": 1,
       "style": "IPY_MODEL_872295271a7c47bf995bd5242adc5bfb",
       "value": 0
      }
     },
     "9f393004e6e44fb0b6070e54b888b43e": {
      "model_module": "@jupyter-widgets/base",
      "model_module_version": "1.2.0",
      "model_name": "LayoutModel",
      "state": {
       "_model_module": "@jupyter-widgets/base",
       "_model_module_version": "1.2.0",
       "_model_name": "LayoutModel",
       "_view_count": null,
       "_view_module": "@jupyter-widgets/base",
       "_view_module_version": "1.2.0",
       "_view_name": "LayoutView",
       "align_content": null,
       "align_items": null,
       "align_self": null,
       "border": null,
       "bottom": null,
       "display": null,
       "flex": null,
       "flex_flow": null,
       "grid_area": null,
       "grid_auto_columns": null,
       "grid_auto_flow": null,
       "grid_auto_rows": null,
       "grid_column": null,
       "grid_gap": null,
       "grid_row": null,
       "grid_template_areas": null,
       "grid_template_columns": null,
       "grid_template_rows": null,
       "height": null,
       "justify_content": null,
       "justify_items": null,
       "left": null,
       "margin": null,
       "max_height": null,
       "max_width": null,
       "min_height": null,
       "min_width": null,
       "object_fit": null,
       "object_position": null,
       "order": null,
       "overflow": null,
       "overflow_x": null,
       "overflow_y": null,
       "padding": null,
       "right": null,
       "top": null,
       "visibility": null,
       "width": null
      }
     },
     "aa04d3e121c540359e7ff31fbe93619a": {
      "model_module": "@jupyter-widgets/base",
      "model_module_version": "1.2.0",
      "model_name": "LayoutModel",
      "state": {
       "_model_module": "@jupyter-widgets/base",
       "_model_module_version": "1.2.0",
       "_model_name": "LayoutModel",
       "_view_count": null,
       "_view_module": "@jupyter-widgets/base",
       "_view_module_version": "1.2.0",
       "_view_name": "LayoutView",
       "align_content": null,
       "align_items": null,
       "align_self": null,
       "border": null,
       "bottom": null,
       "display": null,
       "flex": null,
       "flex_flow": null,
       "grid_area": null,
       "grid_auto_columns": null,
       "grid_auto_flow": null,
       "grid_auto_rows": null,
       "grid_column": null,
       "grid_gap": null,
       "grid_row": null,
       "grid_template_areas": null,
       "grid_template_columns": null,
       "grid_template_rows": null,
       "height": null,
       "justify_content": null,
       "justify_items": null,
       "left": null,
       "margin": null,
       "max_height": null,
       "max_width": null,
       "min_height": null,
       "min_width": null,
       "object_fit": null,
       "object_position": null,
       "order": null,
       "overflow": null,
       "overflow_x": null,
       "overflow_y": null,
       "padding": null,
       "right": null,
       "top": null,
       "visibility": null,
       "width": null
      }
     },
     "b6bce29fd26f4ba4a07db55495f859a3": {
      "model_module": "@jupyter-widgets/controls",
      "model_module_version": "1.5.0",
      "model_name": "IntSliderModel",
      "state": {
       "_dom_classes": [],
       "_model_module": "@jupyter-widgets/controls",
       "_model_module_version": "1.5.0",
       "_model_name": "IntSliderModel",
       "_view_count": null,
       "_view_module": "@jupyter-widgets/controls",
       "_view_module_version": "1.5.0",
       "_view_name": "IntSliderView",
       "continuous_update": true,
       "description": "T",
       "description_tooltip": null,
       "disabled": false,
       "layout": "IPY_MODEL_2b4727967e4c4ba8aa36d8e1ea31da86",
       "max": 1000,
       "min": 300,
       "orientation": "horizontal",
       "readout": true,
       "readout_format": "d",
       "step": 10,
       "style": "IPY_MODEL_10ff9baf3d374b2ca794f554f1845f84",
       "value": 300
      }
     },
     "c9bb02720ec74ef0be192b5a20920bb2": {
      "model_module": "@jupyter-widgets/controls",
      "model_module_version": "1.5.0",
      "model_name": "VBoxModel",
      "state": {
       "_dom_classes": [
        "widget-interact"
       ],
       "_model_module": "@jupyter-widgets/controls",
       "_model_module_version": "1.5.0",
       "_model_name": "VBoxModel",
       "_view_count": null,
       "_view_module": "@jupyter-widgets/controls",
       "_view_module_version": "1.5.0",
       "_view_name": "VBoxView",
       "box_style": "",
       "children": [
        "IPY_MODEL_b6bce29fd26f4ba4a07db55495f859a3",
        "IPY_MODEL_fdfa7ae1908149c5bc6d8d708e3fcff4",
        "IPY_MODEL_3ef03c6bfec745f28f3913b3bb7d0d1a",
        "IPY_MODEL_8792629a21b043138eede17347a2165f",
        "IPY_MODEL_d5d6035a887843269f727917282e4883"
       ],
       "layout": "IPY_MODEL_aa04d3e121c540359e7ff31fbe93619a"
      }
     },
     "d5d6035a887843269f727917282e4883": {
      "model_module": "@jupyter-widgets/output",
      "model_module_version": "1.0.0",
      "model_name": "OutputModel",
      "state": {
       "_dom_classes": [],
       "_model_module": "@jupyter-widgets/output",
       "_model_module_version": "1.0.0",
       "_model_name": "OutputModel",
       "_view_count": null,
       "_view_module": "@jupyter-widgets/output",
       "_view_module_version": "1.0.0",
       "_view_name": "OutputView",
       "layout": "IPY_MODEL_efa1c3f50e5c4713a933815456c478f5",
       "msg_id": "",
       "outputs": [
        {
         "data": {
          "image/png": "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\n",
          "text/plain": "<Figure size 1152x360 with 3 Axes>"
         },
         "metadata": {
          "needs_background": "light"
         },
         "output_type": "display_data"
        }
       ]
      }
     },
     "e6879184cc934cc1a7c4d4a78f21adff": {
      "model_module": "@jupyter-widgets/base",
      "model_module_version": "1.2.0",
      "model_name": "LayoutModel",
      "state": {
       "_model_module": "@jupyter-widgets/base",
       "_model_module_version": "1.2.0",
       "_model_name": "LayoutModel",
       "_view_count": null,
       "_view_module": "@jupyter-widgets/base",
       "_view_module_version": "1.2.0",
       "_view_name": "LayoutView",
       "align_content": null,
       "align_items": null,
       "align_self": null,
       "border": null,
       "bottom": null,
       "display": null,
       "flex": null,
       "flex_flow": null,
       "grid_area": null,
       "grid_auto_columns": null,
       "grid_auto_flow": null,
       "grid_auto_rows": null,
       "grid_column": null,
       "grid_gap": null,
       "grid_row": null,
       "grid_template_areas": null,
       "grid_template_columns": null,
       "grid_template_rows": null,
       "height": null,
       "justify_content": null,
       "justify_items": null,
       "left": null,
       "margin": null,
       "max_height": null,
       "max_width": null,
       "min_height": null,
       "min_width": null,
       "object_fit": null,
       "object_position": null,
       "order": null,
       "overflow": null,
       "overflow_x": null,
       "overflow_y": null,
       "padding": null,
       "right": null,
       "top": null,
       "visibility": null,
       "width": null
      }
     },
     "efa1c3f50e5c4713a933815456c478f5": {
      "model_module": "@jupyter-widgets/base",
      "model_module_version": "1.2.0",
      "model_name": "LayoutModel",
      "state": {
       "_model_module": "@jupyter-widgets/base",
       "_model_module_version": "1.2.0",
       "_model_name": "LayoutModel",
       "_view_count": null,
       "_view_module": "@jupyter-widgets/base",
       "_view_module_version": "1.2.0",
       "_view_name": "LayoutView",
       "align_content": null,
       "align_items": null,
       "align_self": null,
       "border": null,
       "bottom": null,
       "display": null,
       "flex": null,
       "flex_flow": null,
       "grid_area": null,
       "grid_auto_columns": null,
       "grid_auto_flow": null,
       "grid_auto_rows": null,
       "grid_column": null,
       "grid_gap": null,
       "grid_row": null,
       "grid_template_areas": null,
       "grid_template_columns": null,
       "grid_template_rows": null,
       "height": null,
       "justify_content": null,
       "justify_items": null,
       "left": null,
       "margin": null,
       "max_height": null,
       "max_width": null,
       "min_height": null,
       "min_width": null,
       "object_fit": null,
       "object_position": null,
       "order": null,
       "overflow": null,
       "overflow_x": null,
       "overflow_y": null,
       "padding": null,
       "right": null,
       "top": null,
       "visibility": null,
       "width": null
      }
     },
     "fdfa7ae1908149c5bc6d8d708e3fcff4": {
      "model_module": "@jupyter-widgets/controls",
      "model_module_version": "1.5.0",
      "model_name": "FloatSliderModel",
      "state": {
       "_dom_classes": [],
       "_model_module": "@jupyter-widgets/controls",
       "_model_module_version": "1.5.0",
       "_model_name": "FloatSliderModel",
       "_view_count": null,
       "_view_module": "@jupyter-widgets/controls",
       "_view_module_version": "1.5.0",
       "_view_name": "FloatSliderView",
       "continuous_update": true,
       "description": "d",
       "description_tooltip": null,
       "disabled": false,
       "layout": "IPY_MODEL_9f393004e6e44fb0b6070e54b888b43e",
       "max": 10.0,
       "min": 0.0,
       "orientation": "horizontal",
       "readout": true,
       "readout_format": ".2f",
       "step": 0.01,
       "style": "IPY_MODEL_759249781a3f4562b008e579048b35d2",
       "value": 1.0
      }
     }
    },
    "version_major": 2,
    "version_minor": 0
   }
  }
 },
 "nbformat": 4,
 "nbformat_minor": 5
}