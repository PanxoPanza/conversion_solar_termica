{
 "cells": [
  {
   "cell_type": "markdown",
   "id": "8b01ca79",
   "metadata": {
    "slideshow": {
     "slide_type": "slide"
    }
   },
   "source": [
    " <font size=\"6\">MEC501 - Manejo y Conversión de Energía Solar Térmica</font>\n",
    "# Radiación Térmica\n",
    "<br><br><br><br>\n",
    "Profesor: Francisco Ramírez Cuevas<br>\n",
    "Fecha: 30 de Septiembre 2022"
   ]
  },
  {
   "cell_type": "markdown",
   "id": "e21d64ae",
   "metadata": {
    "slideshow": {
     "slide_type": "slide"
    }
   },
   "source": [
    "## Introducción a la Transferencia de Calor\n",
    "A nivel molecular, los átomos que compomen la materia siempre está vibrando. La magnitud de estas vibraciones está caracterizada estadísticamente por la temperatura:"
   ]
  },
  {
   "cell_type": "markdown",
   "id": "35dd953b",
   "metadata": {},
   "source": [
    "<img src=\"./images/temperature_brownian_motion.gif\" width=\"400px\" align= center>"
   ]
  },
  {
   "cell_type": "markdown",
   "id": "7810d826",
   "metadata": {
    "cell_style": "center",
    "slideshow": {
     "slide_type": "slide"
    }
   },
   "source": [
    "Consideremos un sólido extendido con una diferencia de temperatura, $\\Delta T$, entre sus extremos, tal que el lado izquierdo tiene una mayor temperatura que el lado derecho"
   ]
  },
  {
   "cell_type": "markdown",
   "id": "5407e5b7",
   "metadata": {
    "cell_style": "split",
    "slideshow": {
     "slide_type": "fragment"
    }
   },
   "source": [
    "<img src=\"./images/heat_transfer.gif\" width=\"300px\" align= center>"
   ]
  },
  {
   "cell_type": "markdown",
   "id": "85b590b5",
   "metadata": {
    "cell_style": "split",
    "slideshow": {
     "slide_type": "fragment"
    }
   },
   "source": [
    "Debido a la diferencia de temperatura, la vibración molecular en el lado izquierdo es mayor. Esta energía cinética es transmitida a través del material hacia el lado derecho."
   ]
  },
  {
   "cell_type": "markdown",
   "id": "6f302797",
   "metadata": {
    "slideshow": {
     "slide_type": "slide"
    }
   },
   "source": [
    "Definimos como **calor**, $Q$, a la energía térmica intercambiada entre dos medios cuya diferencia de temperatura es $\\Delta T$. A mayor $\\Delta T$, mayor es el intercambio de calor, matematicamente: \n",
    "\n",
    "\\begin{equation*}\n",
    "Q \\propto \\Delta T,\\quad\\mathrm{J}\n",
    "\\end{equation*}\n",
    "\n"
   ]
  },
  {
   "cell_type": "markdown",
   "id": "05b934bc",
   "metadata": {
    "slideshow": {
     "slide_type": "fragment"
    }
   },
   "source": [
    "La **taza de transferencia de calor**:\n",
    "\\begin{equation*}\n",
    "\\dot{Q} = \\frac{dQ}{dt},\\quad\\mathrm{W}\n",
    "\\end{equation*}\n",
    "\n",
    "corresponde al calor tranferido por unidad de tiempo."
   ]
  },
  {
   "cell_type": "markdown",
   "id": "8aface27",
   "metadata": {
    "slideshow": {
     "slide_type": "fragment"
    }
   },
   "source": [
    "Por último, definimos como **flujo de calor**: \n",
    "\\begin{equation*}\n",
    "q'' = \\dot{Q}/A,\\quad\\frac{\\mathrm{W}}{\\mathrm{m}^2}\n",
    "\\end{equation*}\n",
    "a la taza de transferencia de calor por unidad de área."
   ]
  },
  {
   "cell_type": "markdown",
   "id": "2c634772",
   "metadata": {
    "cell_style": "split",
    "slideshow": {
     "slide_type": "slide"
    }
   },
   "source": [
    "Existen tres mecanismo de transferencia de calor:\n",
    "\n",
    "- Conducción de calor\n",
    "- Convección de calor\n",
    "- Radiación"
   ]
  },
  {
   "cell_type": "markdown",
   "id": "a3e69153",
   "metadata": {
    "cell_style": "split",
    "slideshow": {
     "slide_type": "-"
    }
   },
   "source": [
    "<img src=\"./images/heat_transfer_mechanism.png\" width=\"500px\" align= center>"
   ]
  },
  {
   "cell_type": "markdown",
   "id": "ccaa08be",
   "metadata": {
    "slideshow": {
     "slide_type": "slide"
    }
   },
   "source": [
    "### Conducción de Calor\n",
    "**Definimos como *conducción de calor* al calor transferido a través de un material en reposo**. El mecanismo generalmente se asocia a **sólidos**, donde el calor es transferido a travéz de la red atómica del material. Sin embargo, la definición también incluye **líquidos y gases en reposo.** En este caso, las moléculas se mueven eleatoriamente, de manera tal que la velocidad neta del fluido es cero."
   ]
  },
  {
   "cell_type": "markdown",
   "id": "183006ce",
   "metadata": {
    "slideshow": {
     "slide_type": "fragment"
    }
   },
   "source": [
    "Matemáticamente, para un material de espesor $t$ y diferencia de temperatura $\\Delta T$, la **taza de transferencia de calor por conducción** a través de una superficie $A$, es:\n",
    "\n",
    "<img src=\"./images/heat_conduction_formula.png\" width=\"700px\" align= center>"
   ]
  },
  {
   "cell_type": "markdown",
   "id": "4fdfda8b",
   "metadata": {
    "slideshow": {
     "slide_type": "slide"
    }
   },
   "source": [
    "La conductividad térmica, $k_c$, es una propiedad del material que varía según la temperatura.\n",
    "\n",
    "<img src=\"./images/thermal_conductivity.png\" width=\"800px\" align= center>"
   ]
  },
  {
   "cell_type": "markdown",
   "id": "be69080c",
   "metadata": {
    "slideshow": {
     "slide_type": "slide"
    }
   },
   "source": [
    "En su forma diferencial, $\\dot{Q}_\\mathrm{cond}= - k\\nabla T$, y para el caso unidimensional:\n",
    "\n",
    "\\begin{equation}\n",
    "\\dot{Q}_\\mathrm{cond} = - kA\\frac{dT}{dx},\\quad\\mathrm{W}\n",
    "\\end{equation}"
   ]
  },
  {
   "cell_type": "markdown",
   "id": "ac955652",
   "metadata": {
    "slideshow": {
     "slide_type": "fragment"
    }
   },
   "source": [
    "A partir de esta fórmula podemos deducir expresiones para taza de transferencia de calor por conducción según la geometría:"
   ]
  },
  {
   "cell_type": "markdown",
   "id": "ec4af943",
   "metadata": {},
   "source": [
    "<img src=\"./images/heat_conduction_resistance.png\" width=\"600px\" align= center>"
   ]
  },
  {
   "cell_type": "markdown",
   "id": "bb05f7de",
   "metadata": {
    "slideshow": {
     "slide_type": "slide"
    }
   },
   "source": [
    "Notar que, como fórmula general, podemos expresar la taza de conducción de calor en la forma:\n",
    "\n",
    "\\begin{equation*}\n",
    "\\dot{Q}_\\mathrm{cond} = \\frac{T_H - T_C}{R_\\mathrm{cond}},\\quad\\mathrm{W}\n",
    "\\end{equation*}\n",
    "\n",
    "donde, $R_\\mathrm{cond}$ (K/W) es la **resistencia térmica** asociada al mecanismo de conducción."
   ]
  },
  {
   "cell_type": "markdown",
   "id": "bbea9efd",
   "metadata": {
    "slideshow": {
     "slide_type": "slide"
    }
   },
   "source": [
    "### Convección de Calor\n",
    "**Definimos como *convección de calor* al calor transferido a través de fluidos en movimiento.** El movimiento de un fluido puede ocurrir naturalmente, debido a los efectos de flotación a raíz de los cambio de densidad con la temperatura; o de forma inducida, como por ejemplo mediante un ventilador."
   ]
  },
  {
   "cell_type": "markdown",
   "id": "2f11707d",
   "metadata": {
    "cell_style": "split",
    "slideshow": {
     "slide_type": "fragment"
    }
   },
   "source": [
    "A partir de esto, clasificamos la transferencia de calor por convección, respectivamente, como:\n",
    "- **convección natural**\n",
    "- **convección forzada**."
   ]
  },
  {
   "cell_type": "markdown",
   "id": "335e9cda",
   "metadata": {
    "cell_style": "split",
    "slideshow": {
     "slide_type": "fragment"
    }
   },
   "source": [
    "<img src=\"./images/heat_convection_mechanism.png\" width=\"300px\" align= center>"
   ]
  },
  {
   "cell_type": "markdown",
   "id": "a11782b3",
   "metadata": {
    "slideshow": {
     "slide_type": "slide"
    }
   },
   "source": [
    "La convección de calor esta asociada al contacto de fluidos con una superficie, $A$. Así, independiente del mecanismo de convección de calor (natural o forzada), expresamos la **taza de transferencia de calor por convección** como:\n",
    "\n",
    "<img src=\"./images/heat_convection_formula.png\" width=\"700px\" align= center>"
   ]
  },
  {
   "cell_type": "markdown",
   "id": "322fa067",
   "metadata": {},
   "source": [
    "Notar que la taza de transferencia de calor por convección puede ser expresada en la forma:\n",
    "\n",
    "\\begin{equation*}\n",
    "\\dot{Q}_\\mathrm{conv} = \\frac{T_\\infty - T}{R_\\mathrm{conv}},\\quad\\mathrm{W}\n",
    "\\end{equation*}\n",
    "\n",
    "donde $R_\\mathrm{conv}=1/hA$ es la resistencia térmica asociada a la convección de calor."
   ]
  },
  {
   "cell_type": "markdown",
   "id": "983b6ab0",
   "metadata": {
    "slideshow": {
     "slide_type": "slide"
    }
   },
   "source": [
    "A diferencia de la conducción de calor, el coeficiente convectivo, $h$, **no es una propiedad del fluido**. Esto porque no solo depende de las propiedades del fluido (densidad, viscocidad y conductividad térmica, entre otras), sino que además depende de condiciones externas, como la velocidad del flujo, la diferencia de temperaturas, y la geometría del cuerpó sometido a conveccción de calor."
   ]
  },
  {
   "cell_type": "markdown",
   "id": "608df105",
   "metadata": {
    "slideshow": {
     "slide_type": "fragment"
    }
   },
   "source": [
    "El coeficiente convectivo se determina a partir de relaciones expresadas en términos del número de Nusselt, $\\mathrm{Nu} = \\frac{hL_c}{k_f}$, donde $L_c$ es una longitud característica y $k_f$ es la conductividad térmica del fluido. En la mayoría de los casos, las relaciones para el número de Nusselt para cada caso se determinan experimentalmente."
   ]
  },
  {
   "cell_type": "markdown",
   "id": "f73fe75a",
   "metadata": {
    "slideshow": {
     "slide_type": "fragment"
    }
   },
   "source": [
    "Comúnmente, los valores para el número de Nusselt se encuentran dentro de los siguientes rangos:\n",
    "\n",
    "- Convección forzada, $\\mathrm{Nu} \\sim 5 - 1000 $\n",
    "- Convección natural, $\\mathrm{Nu} \\sim 0 - 100$"
   ]
  },
  {
   "cell_type": "markdown",
   "id": "7d4df5f2",
   "metadata": {
    "slideshow": {
     "slide_type": "slide"
    }
   },
   "source": [
    "### Transferencia de calor en estado estacionario\n",
    "\n",
    "En estado estacionario, el flujo de calor es constante. En este caso, podemos simplificar el análisis de transferencia de calor por convección y conducción utilizando resistencias térmicas.\n",
    "\n",
    "<img src=\"./images/stationary_heat_transfer.png\" width=\"700px\" align= center>"
   ]
  },
  {
   "cell_type": "markdown",
   "id": "53ef8ae3",
   "metadata": {
    "slideshow": {
     "slide_type": "slide"
    }
   },
   "source": [
    "## Fundamentos de la radiación térmica\n",
    "\n",
    "Las vibraciones a nivel molecular también inducen polarización en la materia. Esto es similar al fenómeno de polarización inducida por ondas electromagnéticas estudiada en la unidad 3. Estos dipolos inducidos térmicamente, oscilan constantemente generando campos electromagnéticos que se propagan en dirección radial.\n",
    "\n",
    "<img src=\"./images/radiating_dipole.png\" width=\"700px\" align= center>"
   ]
  },
  {
   "cell_type": "markdown",
   "id": "767562ad",
   "metadata": {
    "slideshow": {
     "slide_type": "slide"
    }
   },
   "source": [
    "En la siguiente animación podemos ver el proceso de emisión de ondas electromagnéticas por un dipolo oscilatorio. El mapa de colores representa la intensidad del campo magnético, es decir $|\\vec{H}|$, donde rojo y azul corresponden, respectivamente, a los valorse máximos y mínimos.\n",
    "\n",
    "<img src=\"./images/HW_vertical_noground.gif\" width=\"300px\" align= center>"
   ]
  },
  {
   "cell_type": "markdown",
   "id": "7088a84b",
   "metadata": {
    "cell_style": "center",
    "slideshow": {
     "slide_type": "slide"
    }
   },
   "source": [
    "### Poder de emisión\n",
    "Un cuerpo a temperatura $T$ emite ondas electromagnéticas en todas las direcciones y en un rango de longitudes de onda. En general, la distribución angular ($\\Omega$) y espectral ($\\lambda$) de la radiación emitida depende de las propiedades ópticas de la superficie y la temperatura del material. "
   ]
  },
  {
   "cell_type": "markdown",
   "id": "b364c7cf",
   "metadata": {
    "slideshow": {
     "slide_type": "fragment"
    }
   },
   "source": [
    "Para caracterizar la intensidad de la radiación emitida por una superficie a tempertura $T$, usamos la **intensidad específica o radiancia espectral**, $I_\\lambda(\\lambda,\\Omega,T)$."
   ]
  },
  {
   "cell_type": "markdown",
   "id": "09477f6e",
   "metadata": {
    "cell_style": "split",
    "slideshow": {
     "slide_type": "fragment"
    }
   },
   "source": [
    "La taza de calor total emitido por una superficie $dA$ de un cuerpo negro en función de $\\lambda$ y $\\Omega$, $d\\dot{Q}_\\mathrm{rad}$, está dada por:\n",
    "\n",
    "\\begin{equation}\n",
    "d\\dot{Q}_\\mathrm{rad} = I_{\\lambda}(\\lambda,T,\\theta,\\phi) \\sin\\theta \\cos\\theta dA d\\Omega d\\lambda\n",
    "\\end{equation}"
   ]
  },
  {
   "cell_type": "markdown",
   "id": "f849cc9e",
   "metadata": {
    "cell_style": "split",
    "slideshow": {
     "slide_type": "fragment"
    }
   },
   "source": [
    "El término $\\cos\\theta dA$ corresponde a la proyección de $dA$ en la dirección $\\Omega$\n",
    "\n",
    "<img src=\"./images/specific_intensity.png\" width=\"300px\" align= center>"
   ]
  },
  {
   "cell_type": "markdown",
   "id": "891a8504",
   "metadata": {
    "cell_style": "center",
    "slideshow": {
     "slide_type": "slide"
    }
   },
   "source": [
    "Definimos como **poder de emisión** direccional y espectral a la relación:\n",
    "\n",
    "\\begin{equation}\n",
    "E_{\\lambda,\\Omega}(T) = \\frac{d\\dot{Q}_\\mathrm{rad}}{dAd\\Omega d\\lambda}=I_{\\lambda}(\\lambda,\\Omega)\\cos\\theta ,\\quad\\quad\\frac{\\mathrm{W}}{\\mathrm{m}^2\\cdot\\mu\\mathrm{m}\\cdot\\mathrm{sr}}\n",
    "\\end{equation}"
   ]
  },
  {
   "cell_type": "markdown",
   "id": "ec272999",
   "metadata": {
    "slideshow": {
     "slide_type": "fragment"
    }
   },
   "source": [
    "A diferencia de la intensidad específica, el poder de emisión considera la radiación effectiva emitida por una superficie."
   ]
  },
  {
   "cell_type": "markdown",
   "id": "dcc1436e",
   "metadata": {},
   "source": [
    "<img src=\"./images/emissive_power.png\" width=\"500px\" align= center>"
   ]
  },
  {
   "cell_type": "markdown",
   "id": "ad56f5b7",
   "metadata": {
    "slideshow": {
     "slide_type": "slide"
    }
   },
   "source": [
    "A partir de este término podemos derivar:"
   ]
  },
  {
   "cell_type": "markdown",
   "id": "c62c0cc6",
   "metadata": {
    "slideshow": {
     "slide_type": "fragment"
    }
   },
   "source": [
    "- **Poder de emisión hemisférica espectral**, \n",
    "\\begin{equation*}\n",
    "E_{\\lambda}(T) = \\frac{d\\dot{Q}}{dAd\\lambda}=  \\int_\\mathrm{hemi}I_{\\lambda}(\\lambda,\\Omega)\\cos\\theta d\\Omega,\\quad\\quad\\frac{\\mathrm{W}}{\\mathrm{m}^2\\cdot\\mu\\mathrm{m}}\n",
    "\\end{equation*}\n",
    "donde $\\int_\\mathrm{hemi} d\\Omega = \\int_0^{2\\pi}d\\phi\\int_0^{\\pi/2}\\sin\\theta d\\theta$"
   ]
  },
  {
   "cell_type": "markdown",
   "id": "4c94bf8c",
   "metadata": {
    "slideshow": {
     "slide_type": "fragment"
    }
   },
   "source": [
    "- **Poder de emisión**, \n",
    "\\begin{equation*}\n",
    "E(T) = \\frac{d\\dot{Q}}{dA}=\\int_0^\\infty\\int_\\mathrm{hemi}I_{\\lambda}(\\lambda,\\Omega)\\cos\\theta d\\Omega d\\lambda ,\\quad\\quad\\frac{\\mathrm{W}}{\\mathrm{m}^2}\n",
    "\\end{equation*}"
   ]
  },
  {
   "cell_type": "markdown",
   "id": "b670c6be",
   "metadata": {
    "slideshow": {
     "slide_type": "slide"
    }
   },
   "source": [
    "### Distribución de Planck\n",
    "\n",
    "Max Planck en 1901 determinó que la **máxima radiancia espectral o intensidad específica** (flujo de energía por unidad de longitud de onda y ángulo sólido) emitida por un cuerpo a temperatura $T$, en un medio con índice de refracción $n_1$, está dada por:\n",
    "\n",
    "\\begin{equation}\n",
    "I_{\\mathrm{bb},\\lambda}(\\lambda,T,\\Omega) = \\frac{C_1}{n_1\\lambda^5\\left[\\exp\\left(C_2/\\lambda T\\right) - 1\\right]},\\quad\\quad\\frac{\\mathrm{W}}{\\mathrm{m}^2\\cdot\\mu\\mathrm{m}\\cdot\\mathrm{sr}}\n",
    "\\end{equation}\n",
    "\n",
    "donde \n",
    "\\begin{align*}\n",
    "C_1 &= 2hc_0^2 = 1.19104238\\times 10^8 ~\\mathrm{W}\\cdot\\mu\\mathrm{m}^4/\\mathrm{m}^2 \\\\\n",
    "C_2 &= hc_0/k_\\mathrm{B} = 1.43878\\times10^{4}~\\mu\\mathrm{m}\\cdot\\mathrm{K}\n",
    "\\end{align*}\n",
    "\n",
    "$k_\\mathrm{B} = 1.381\\times 10^{-23}$ J/K $=8.617\\times 10^{-5}$ eV/K, es la constante de Boltzmann. La unidad \"sr\" correponde a un esteroradian."
   ]
  },
  {
   "cell_type": "markdown",
   "id": "4e04c610",
   "metadata": {
    "slideshow": {
     "slide_type": "fragment"
    }
   },
   "source": [
    "Esta es la **distribución de Planck**. Representa la radiancia espectral emitida por un cuerpo idealizado, denominado **cuerpo negro**. Un cuerpo negro, así, representa un emisor perfecto, capaz de emitir la máxima radiacion posible a una temperatura $T$."
   ]
  },
  {
   "cell_type": "markdown",
   "id": "513d759b",
   "metadata": {
    "slideshow": {
     "slide_type": "slide"
    }
   },
   "source": [
    "El poder de emisión espectral de la superficie de un cuerpo negro, $E_\\mathrm{bb}(\\lambda,T)$, se obtiene integrando la radiancia espectral por ángulo sólido en el límite de una hemiesfera:\n",
    "\n",
    "\\begin{equation}\n",
    "\\int_\\mathrm{hemi} I_{\\mathrm{bb},\\lambda}(\\lambda,T,\\Omega)\\cos\\theta d\\Omega = \\pi I_{\\mathrm{bb},\\lambda}(\\lambda,T) = E_\\mathrm{bb}(\\lambda,T),\\quad\\quad\\frac{\\mathrm{W}}{\\mathrm{m}^2\\cdot\\mu\\mathrm{m}}\n",
    "\\end{equation}\n",
    "\n",
    "donde $\\int_\\mathrm{hemi} d\\Omega = \\int_0^{2\\pi}d\\phi\\int_0^{\\pi/2}d\\theta$"
   ]
  },
  {
   "cell_type": "markdown",
   "id": "3cbf0ea5",
   "metadata": {
    "slideshow": {
     "slide_type": "fragment"
    }
   },
   "source": [
    "A partir de la integral de $E_\\mathrm{bb}(\\lambda,T)$ en el espectro de longitudes de onda, obtenemos el flujo de radiación emitida o el poder de emisión de un cuerpo negro:\n",
    "\n",
    "\\begin{equation}\n",
    "\\int_0^\\infty E_\\mathrm{bb}(\\lambda,T) d\\lambda = \\sigma T^4,\\quad\\quad\\frac{\\mathrm{W}}{\\mathrm{m}^2}\n",
    "\\end{equation}\n",
    "\n",
    "donde $\\sigma = 5.670\\times10^{-8}$ W/m$^2\\cdot$K$^4$, es la *constante de Stefan-Boltzmann.* Esta fórmula se conoce como la **ley de Stefan-Boltzmann**"
   ]
  },
  {
   "cell_type": "markdown",
   "id": "18b26d00",
   "metadata": {
    "slideshow": {
     "slide_type": "slide"
    }
   },
   "source": [
    "En la siguiente figura, se ilustra $E_\\mathrm{bb}(\\lambda,T)$ función de la temperatura y longitud de onda.\n",
    "\n",
    "<img src=\"./images/blackbody_rad.png\" width=\"700px\" align= center>"
   ]
  },
  {
   "cell_type": "markdown",
   "id": "8eb1ce9b",
   "metadata": {
    "slideshow": {
     "slide_type": "slide"
    }
   },
   "source": [
    "A medida que $T$ aumenta, notamos que el máximo de la curva se desplaza hacia el azul. La longitud de onda correspondiente a este máximo, $\\lambda_\\mathrm{peak}$, está definida por la **ley de desplazamiento de Wien:**\n",
    "\n",
    "\\begin{equation}\n",
    "\\lambda_\\mathrm{peak}T = 2897.8\\quad\\mu\\mathrm{m}\\cdot\\mathrm{K}\n",
    "\\end{equation}\n"
   ]
  },
  {
   "cell_type": "markdown",
   "id": "26d022df",
   "metadata": {
    "slideshow": {
     "slide_type": "fragment"
    }
   },
   "source": [
    "Esta relación permite entender el cambio de color de la fuente emisora con la tempertura. Sin embargo, **el color de un material no solo se define por la emisión de radiación, sino también por la forma en la que interactúa con la luz incidente**. Como revisamos en las unidades anteriores, esta interacción está condionada por las propiedades radiativas."
   ]
  },
  {
   "cell_type": "markdown",
   "id": "da43fbee",
   "metadata": {
    "slideshow": {
     "slide_type": "slide"
    }
   },
   "source": [
    "### Propiedades Radiativas\n",
    "\n",
    "Definimos como **emisividad, $\\epsilon$** a la *razón entre la radiación emitida por una superficie, $I_\\lambda(\\lambda,T,\\Omega)$, y la radiación emitida por un cuerpo negro, ambas a temperatura $T$*:\n",
    "\n",
    "\\begin{equation}\n",
    "\\epsilon(\\lambda,\\Omega) = \\frac{I_\\lambda(\\lambda,T,\\Omega)}{I_{\\mathrm{bb},\\lambda}(\\lambda,T,\\Omega)}\n",
    "\\end{equation}\n",
    "\n",
    "De esta forma, $\\epsilon$ es una propiedad adimensional de superfice que varía entre $0 \\le \\epsilon \\le 1$."
   ]
  },
  {
   "cell_type": "markdown",
   "id": "64a21ba8",
   "metadata": {
    "slideshow": {
     "slide_type": "fragment"
    }
   },
   "source": [
    "La **ley de Kirchhoff**, establece que la abortividad, $\\alpha$ y la emisividad están relacionadas por:\n",
    "\n",
    "\\begin{equation}\n",
    "\\epsilon(\\lambda,\\Omega) = \\alpha(\\lambda,\\Omega)\n",
    "\\end{equation}\n"
   ]
  },
  {
   "cell_type": "markdown",
   "id": "1b34032f",
   "metadata": {
    "slideshow": {
     "slide_type": "slide"
    }
   },
   "source": [
    "A partir de estas relacion podemos relacionar las propiedades de reflectividad, $R$ y transmisividad $T$ para determinar $\\epsilon$."
   ]
  },
  {
   "cell_type": "markdown",
   "id": "d93dacf1",
   "metadata": {
    "slideshow": {
     "slide_type": "fragment"
    }
   },
   "source": [
    "Debido a la naturaleza de la radiación térmica, la polarización de las ondas electromagnéticas es aleatoria. Así, $R$ y $T$ se calculan como:\n",
    "\n",
    "\\begin{equation}\n",
    "R = \\frac{R_\\mathrm{TM}+R_\\mathrm{TE}}{2}\\quad\\quad\n",
    "T = \\frac{T_\\mathrm{TM}+T_\\mathrm{TE}}{2}\n",
    "\\end{equation}"
   ]
  },
  {
   "cell_type": "markdown",
   "id": "048661b3",
   "metadata": {
    "slideshow": {
     "slide_type": "fragment"
    }
   },
   "source": [
    "Cabe mencionar que en radiometría, la reflectividad y transmisividad se denominan, respectivamente, **reflectancia ($\\rho$)**, **transmitancia ($\\tau$).** Igualmente la absortividad se denomina **absortancia.** Ambos términos son equivalentes."
   ]
  },
  {
   "cell_type": "markdown",
   "id": "c5a4c47f",
   "metadata": {
    "slideshow": {
     "slide_type": "fragment"
    }
   },
   "source": [
    "Por la ley de conservación de energía, la reflectancia, transmitancia y absortancia se relacionan por:\n",
    "\n",
    "\\begin{equation}\n",
    "1 = \\alpha(\\lambda,\\Omega) + \\rho(\\lambda,\\Omega) + \\tau(\\lambda,\\Omega)\n",
    "\\end{equation}"
   ]
  },
  {
   "cell_type": "markdown",
   "id": "4d61c797",
   "metadata": {
    "slideshow": {
     "slide_type": "slide"
    }
   },
   "source": [
    "Como ejemplo, analicemos el poder de emisión espectral direccional, $E_{\\lambda,\\Omega}(T)$ y la emisividad $\\epsilon(\\lambda,\\Omega)$ de una capa de vidrio en función de la temperatura, espesor y dirección. En este caso: \n",
    "\n",
    "\\begin{align*}\n",
    "E_{\\lambda,\\Omega}(T) &= \\epsilon(\\lambda,\\Omega)I_{\\mathrm{bb},\\lambda}(\\lambda,\\Omega,T)\\cos\\theta \\\\\n",
    " &= \\left[1 - \\rho(\\lambda,\\Omega) - \\tau(\\lambda,\\Omega)\\right]I_{\\mathrm{bb},\\lambda}(\\lambda,\\Omega,T)\\cos\\theta\n",
    "\\end{align*}"
   ]
  },
  {
   "cell_type": "markdown",
   "id": "89749a31",
   "metadata": {
    "slideshow": {
     "slide_type": "fragment"
    }
   },
   "source": [
    "Comparamos $E_{\\lambda,\\Omega}(T)$ con el poder de emisión espectral direccional del cuerpo negro, $E_\\mathrm{bb}(\\lambda,\\Omega,T)$"
   ]
  },
  {
   "cell_type": "code",
   "execution_count": 1,
   "id": "f24c88be",
   "metadata": {
    "slideshow": {
     "slide_type": "slide"
    }
   },
   "outputs": [],
   "source": [
    "import empylib.waveoptics as wv\n",
    "import empylib.nklib as nk\n",
    "import numpy as np\n",
    "from numpy import log10, radians\n",
    "import matplotlib.pyplot as plt\n",
    "from empylib.ref_spectra import Bplanck\n",
    "\n",
    "def plot_emisivity_glass(Temp,d,lam0,theta0):\n",
    "    # parámetros de entrada\n",
    "    \n",
    "    lam = np.linspace(0.3,15,100)\n",
    "    Nfront = 1.0                 # índice de refracción medio superior\n",
    "    N1     = nk.SiO2(lam)        # índice de refracción capa intermedia\n",
    "    Nback  = 4.3                 # índice de refracción medio inferior\n",
    "    N = (Nfront, N1, Nback)      # indices de refracción (above, mid, below)\n",
    "\n",
    "    # Reflectancia y transmitancia espectral en theta0\n",
    "    Rs, Ts = wv.incoh_multilayer(lam,radians(theta0), N, d*1E3, pol='TM')\n",
    "    Rp, Tp = wv.incoh_multilayer(lam,radians(theta0), N, d*1E3, pol='TM')\n",
    "    \n",
    "    R_lam = (Rs + Rp)/2\n",
    "    T_lam = (Ts + Tp)/2\n",
    "    A_lam = 1 - T_lam - R_lam\n",
    "    \n",
    "   # Reflectancia y transmitancia direccional en lam0\n",
    "    theta = np.linspace(0,90,100)\n",
    "    N = (Nfront, np.interp(lam0,lam,N1), Nback)      # indices de refracción (above, mid, below)\n",
    "    A_theta = [] # lista vacía\n",
    "    for theta_i in theta:\n",
    "        Rs, Ts = wv.incoh_multilayer(lam0,radians(theta_i), N, d*1E3, pol='TM')\n",
    "        Rp, Tp = wv.incoh_multilayer(lam0,radians(theta_i), N, d*1E3, pol='TM')\n",
    "        R = (Rs + Rp)/2\n",
    "        T = (Ts + Tp)/2\n",
    "        A_theta.append(1 - T - R)\n",
    "    A_theta = np.array(A_theta).flatten() # convertimos la lista a ndarray\n",
    "\n",
    "    fig, ax = plt.subplots(1,3)\n",
    "    fig.set_size_inches(18, 5)\n",
    "    plt.rcParams['font.size'] = '18'\n",
    "    \n",
    "    # graficamos las propiedades radiativas espectrales\n",
    "    ax[0].plot(lam,R_lam,'--r',label=r'$\\rho$',linewidth=0.5)\n",
    "    ax[0].plot(lam,T_lam,'--b',label=r'$\\tau$',linewidth=0.5)\n",
    "    ax[0].plot(lam,A_lam,'-k',label=r'$\\alpha$',linewidth=2.0)  \n",
    "    ax[0].plot(lam0,np.interp(lam0,lam,A_lam),'ok')   \n",
    "    ax[0].set_xlabel('$\\lambda$ ($\\mu$m)')\n",
    "    ax[0].set_ylabel(r'$\\rho$, $\\tau$ y $\\alpha$')\n",
    "    ax[0].set_ylim(0,1.05)\n",
    "    ax[0].set_title(r'$\\theta = $ %i°' % theta0)\n",
    "    ax[0].legend()\n",
    "    \n",
    "    # graficamos la emisividad espectral en el ángulo\n",
    "    ax[1].plot(theta,A_theta,'-k')  \n",
    "    ax[1].plot(theta0,np.interp(theta0,theta,A_theta),'ok')   \n",
    "    ax[1].set_xlabel(r'$\\theta$ (deg)')\n",
    "    ax[1].set_ylabel(r'$\\epsilon(\\lambda,\\theta)$')\n",
    "    ax[1].set_title(r'$\\lambda = $ %.2f $\\mu$m' % lam0)\n",
    "    ax[1].set_ylim(0,1.05)\n",
    "    \n",
    "    # Graficamos la radiación espectral\n",
    "    ax[2].plot(lam,A_lam*Bplanck(lam,Temp)*np.cos(np.radians(theta0)),'-k',label =r'$E_{\\lambda,\\Omega}$')\n",
    "    ax[2].plot(lam,Bplanck(lam,Temp)*np.cos(np.radians(theta0)),'-r',label =r'$E_\\mathrm{bb}$')\n",
    "    ax[2].set_xlabel('Longitud de onda ($\\mu$m)')\n",
    "    ax[2].set_ylabel(r'E_{\\lambda,\\Omega}(T) (W/m$^2$-$\\mu$m-sr)')\n",
    "    ax[2].set_title(r'd = %.2f mm, $\\theta$=%i°' % (d,theta0) )\n",
    "    ax[2].set_ylim(0,max(Bplanck(lam,Temp))*1.05)\n",
    "    ax[2].legend()\n",
    "    \n",
    "    plt.subplots_adjust(wspace=0.35)\n",
    "    plt.show()"
   ]
  },
  {
   "cell_type": "code",
   "execution_count": 2,
   "id": "8e3af1c4",
   "metadata": {
    "slideshow": {
     "slide_type": "slide"
    }
   },
   "outputs": [
    {
     "data": {
      "application/vnd.jupyter.widget-view+json": {
       "model_id": "c5247397567943b7add4d47ce139df34",
       "version_major": 2,
       "version_minor": 0
      },
      "text/plain": [
       "interactive(children=(IntSlider(value=300, description='T', max=1000, min=300, step=10), FloatSlider(value=1.0…"
      ]
     },
     "metadata": {},
     "output_type": "display_data"
    }
   ],
   "source": [
    " from ipywidgets import interact\n",
    "\n",
    "@interact(T=(300,1000,10), d=(0,10,0.01), lam0=(5,10,0.01), theta0=(0,90,1))\n",
    "def g(T=300,d=1, lam0=10, theta0=0):\n",
    "    return plot_emisivity_glass(T,d,lam0,theta0)"
   ]
  },
  {
   "cell_type": "markdown",
   "id": "250a53e9",
   "metadata": {
    "slideshow": {
     "slide_type": "slide"
    }
   },
   "source": [
    "Decimos que una superficie es **difusa** cuando sus propiedades radiativas no dependen de $\\Omega$. Si la superficie es difusa, una buena aproximación es considerar el valor de la propiedad difusa como la propiedad radiativa de la superficie lisa en la dirección normal. Por ejemplo, para la emisividad: $\\epsilon(\\lambda,T) = \\epsilon(\\lambda,\\Omega = 0, T)$"
   ]
  },
  {
   "cell_type": "markdown",
   "id": "55b28916",
   "metadata": {
    "slideshow": {
     "slide_type": "fragment"
    }
   },
   "source": [
    "Decimos que una superficie es **opaca** cuando $\\tau = 0$. En este caso, \n",
    "tenemos $\\alpha + \\rho = 1$"
   ]
  },
  {
   "cell_type": "markdown",
   "id": "0107051b",
   "metadata": {
    "slideshow": {
     "slide_type": "fragment"
    }
   },
   "source": [
    "Para gases, $\\rho \\approx 0$, así $\\alpha + \\tau = 1$"
   ]
  },
  {
   "cell_type": "markdown",
   "id": "4a494870",
   "metadata": {
    "slideshow": {
     "slide_type": "slide"
    }
   },
   "source": [
    "### Irradiancia (G) y Radiosidad (J)"
   ]
  },
  {
   "cell_type": "markdown",
   "id": "fbc52f8b",
   "metadata": {
    "cell_style": "split",
    "slideshow": {
     "slide_type": "fragment"
    }
   },
   "source": [
    "Definimos como **irradiación (G)** a la radiancia espectral incidente en una superficie.\n",
    "<img src=\"./images/irradiance.png\" width=\"300px\" align= center>"
   ]
  },
  {
   "cell_type": "markdown",
   "id": "bae8d429",
   "metadata": {
    "cell_style": "split",
    "slideshow": {
     "slide_type": "fragment"
    }
   },
   "source": [
    "Definimos como **radiosidad (J)** a la combinación de radiación emitida y reflejada por una superficie\n",
    "<img src=\"./images/radiosity.png\" width=\"250px\" align= center>"
   ]
  },
  {
   "cell_type": "markdown",
   "id": "17c1dc23",
   "metadata": {
    "slideshow": {
     "slide_type": "slide"
    }
   },
   "source": [
    "## Referencias\n",
    "- Çengel Y. A y Ghanjar A. J. **Capítulo 12 - Fundamentos de la radiación térmica** en *Transferencia de calor y masa*, 4ta Ed, McGraw Hill, 2011"
   ]
  },
  {
   "cell_type": "code",
   "execution_count": 3,
   "id": "6e0a420c",
   "metadata": {},
   "outputs": [
    {
     "data": {
      "image/jpeg": "[encoded data removed]",
      "text/html": [
       "\n",
       "<iframe\n",
       "    width=\"600\"\n",
       "    height=\"400\"\n",
       "    src=\"https://www.youtube.com/embed/FDmYCI_xYlA?playsinline=0\"\n",
       "    frameborder=\"0\"\n",
       "    allowfullscreen\n",
       "\n",
       "></iframe>\n"
      ],
      "text/plain": [
       "<IPython.lib.display.YouTubeVideo at 0x7fc0c80c2f10>"
      ]
     },
     "execution_count": 3,
     "metadata": {
      "filenames": {
       "image/jpeg": "/mnt/c/Users/francisco.ramirez.c/OneDrive - Universidad Adolfo Ibanez/Teaching_courses/Manejo_y_Conversion_Energia_Solar_Termica/material_catedra/_build/jupyter_execute/6_RadiacionTermica/6_RadiacionTermica_63_0.jpg"
      }
     },
     "output_type": "execute_result"
    }
   ],
   "source": [
    "from IPython.display import YouTubeVideo\n",
    "YouTubeVideo('FDmYCI_xYlA', width=600, height=400,  playsinline=0)"
   ]
  }
 ],
 "metadata": {
  "celltoolbar": "Slideshow",
  "kernelspec": {
   "display_name": "Python 3 (ipykernel)",
   "language": "python",
   "name": "python3"
  },
  "language_info": {
   "codemirror_mode": {
    "name": "ipython",
    "version": 3
   },
   "file_extension": ".py",
   "mimetype": "text/x-python",
   "name": "python",
   "nbconvert_exporter": "python",
   "pygments_lexer": "ipython3",
   "version": "3.9.13"
  },
  "latex_envs": {
   "LaTeX_envs_menu_present": false,
   "autoclose": false,
   "autocomplete": false,
   "bibliofile": "biblio.bib",
   "cite_by": "apalike",
   "current_citInitial": 1,
   "eqLabelWithNumbers": true,
   "eqNumInitial": 1,
   "hotkeys": {
    "equation": "Ctrl-E",
    "itemize": "Ctrl-I"
   },
   "labels_anchors": false,
   "latex_user_defs": false,
   "report_style_numbering": false,
   "user_envs_cfg": true
  },
  "toc": {
   "base_numbering": 1,
   "nav_menu": {},
   "number_sections": true,
   "sideBar": true,
   "skip_h1_title": true,
   "title_cell": "Tabla de contenidos",
   "title_sidebar": "Contenidos",
   "toc_cell": false,
   "toc_position": {
    "height": "calc(100% - 180px)",
    "left": "10px",
    "top": "150px",
    "width": "307.2px"
   },
   "toc_section_display": true,
   "toc_window_display": false
  },
  "varInspector": {
   "cols": {
    "lenName": 16,
    "lenType": 16,
    "lenVar": 40
   },
   "kernels_config": {
    "python": {
     "delete_cmd_postfix": "",
     "delete_cmd_prefix": "del ",
     "library": "var_list.py",
     "varRefreshCmd": "print(var_dic_list())"
    },
    "r": {
     "delete_cmd_postfix": ") ",
     "delete_cmd_prefix": "rm(",
     "library": "var_list.r",
     "varRefreshCmd": "cat(var_dic_list()) "
    }
   },
   "types_to_exclude": [
    "module",
    "function",
    "builtin_function_or_method",
    "instance",
    "_Feature"
   ],
   "window_display": false
  },
  "widgets": {
   "application/vnd.jupyter.widget-state+json": {
    "state": {
     "05fffc29243b4faa9c04e7dc5f930fb4": {
      "model_module": "@jupyter-widgets/base",
      "model_module_version": "1.2.0",
      "model_name": "LayoutModel",
      "state": {
       "_model_module": "@jupyter-widgets/base",
       "_model_module_version": "1.2.0",
       "_model_name": "LayoutModel",
       "_view_count": null,
       "_view_module": "@jupyter-widgets/base",
       "_view_module_version": "1.2.0",
       "_view_name": "LayoutView",
       "align_content": null,
       "align_items": null,
       "align_self": null,
       "border": null,
       "bottom": null,
       "display": null,
       "flex": null,
       "flex_flow": null,
       "grid_area": null,
       "grid_auto_columns": null,
       "grid_auto_flow": null,
       "grid_auto_rows": null,
       "grid_column": null,
       "grid_gap": null,
       "grid_row": null,
       "grid_template_areas": null,
       "grid_template_columns": null,
       "grid_template_rows": null,
       "height": null,
       "justify_content": null,
       "justify_items": null,
       "left": null,
       "margin": null,
       "max_height": null,
       "max_width": null,
       "min_height": null,
       "min_width": null,
       "object_fit": null,
       "object_position": null,
       "order": null,
       "overflow": null,
       "overflow_x": null,
       "overflow_y": null,
       "padding": null,
       "right": null,
       "top": null,
       "visibility": null,
       "width": null
      }
     },
     "100e435935274d50a948e80a5dbfe5c3": {
      "model_module": "@jupyter-widgets/controls",
      "model_module_version": "1.5.0",
      "model_name": "SliderStyleModel",
      "state": {
       "_model_module": "@jupyter-widgets/controls",
       "_model_module_version": "1.5.0",
       "_model_name": "SliderStyleModel",
       "_view_count": null,
       "_view_module": "@jupyter-widgets/base",
       "_view_module_version": "1.2.0",
       "_view_name": "StyleView",
       "description_width": "",
       "handle_color": null
      }
     },
     "16b837bc9c6241f49439ffe3f3947f23": {
      "model_module": "@jupyter-widgets/controls",
      "model_module_version": "1.5.0",
      "model_name": "IntSliderModel",
      "state": {
       "_dom_classes": [],
       "_model_module": "@jupyter-widgets/controls",
       "_model_module_version": "1.5.0",
       "_model_name": "IntSliderModel",
       "_view_count": null,
       "_view_module": "@jupyter-widgets/controls",
       "_view_module_version": "1.5.0",
       "_view_name": "IntSliderView",
       "continuous_update": true,
       "description": "T",
       "description_tooltip": null,
       "disabled": false,
       "layout": "IPY_MODEL_fa3a473c13964969924a7272369a0f9f",
       "max": 1000,
       "min": 300,
       "orientation": "horizontal",
       "readout": true,
       "readout_format": "d",
       "step": 10,
       "style": "IPY_MODEL_bf3f29b016de4e60a27954ce27c179be",
       "value": 300
      }
     },
     "2ba61e970eab4cd7b6770913e5f4f1b7": {
      "model_module": "@jupyter-widgets/controls",
      "model_module_version": "1.5.0",
      "model_name": "SliderStyleModel",
      "state": {
       "_model_module": "@jupyter-widgets/controls",
       "_model_module_version": "1.5.0",
       "_model_name": "SliderStyleModel",
       "_view_count": null,
       "_view_module": "@jupyter-widgets/base",
       "_view_module_version": "1.2.0",
       "_view_name": "StyleView",
       "description_width": "",
       "handle_color": null
      }
     },
     "2f47d0a2d6364f87a358d977e570be7b": {
      "model_module": "@jupyter-widgets/base",
      "model_module_version": "1.2.0",
      "model_name": "LayoutModel",
      "state": {
       "_model_module": "@jupyter-widgets/base",
       "_model_module_version": "1.2.0",
       "_model_name": "LayoutModel",
       "_view_count": null,
       "_view_module": "@jupyter-widgets/base",
       "_view_module_version": "1.2.0",
       "_view_name": "LayoutView",
       "align_content": null,
       "align_items": null,
       "align_self": null,
       "border": null,
       "bottom": null,
       "display": null,
       "flex": null,
       "flex_flow": null,
       "grid_area": null,
       "grid_auto_columns": null,
       "grid_auto_flow": null,
       "grid_auto_rows": null,
       "grid_column": null,
       "grid_gap": null,
       "grid_row": null,
       "grid_template_areas": null,
       "grid_template_columns": null,
       "grid_template_rows": null,
       "height": null,
       "justify_content": null,
       "justify_items": null,
       "left": null,
       "margin": null,
       "max_height": null,
       "max_width": null,
       "min_height": null,
       "min_width": null,
       "object_fit": null,
       "object_position": null,
       "order": null,
       "overflow": null,
       "overflow_x": null,
       "overflow_y": null,
       "padding": null,
       "right": null,
       "top": null,
       "visibility": null,
       "width": null
      }
     },
     "4820251be4d94706a172ba2947be3d11": {
      "model_module": "@jupyter-widgets/base",
      "model_module_version": "1.2.0",
      "model_name": "LayoutModel",
      "state": {
       "_model_module": "@jupyter-widgets/base",
       "_model_module_version": "1.2.0",
       "_model_name": "LayoutModel",
       "_view_count": null,
       "_view_module": "@jupyter-widgets/base",
       "_view_module_version": "1.2.0",
       "_view_name": "LayoutView",
       "align_content": null,
       "align_items": null,
       "align_self": null,
       "border": null,
       "bottom": null,
       "display": null,
       "flex": null,
       "flex_flow": null,
       "grid_area": null,
       "grid_auto_columns": null,
       "grid_auto_flow": null,
       "grid_auto_rows": null,
       "grid_column": null,
       "grid_gap": null,
       "grid_row": null,
       "grid_template_areas": null,
       "grid_template_columns": null,
       "grid_template_rows": null,
       "height": null,
       "justify_content": null,
       "justify_items": null,
       "left": null,
       "margin": null,
       "max_height": null,
       "max_width": null,
       "min_height": null,
       "min_width": null,
       "object_fit": null,
       "object_position": null,
       "order": null,
       "overflow": null,
       "overflow_x": null,
       "overflow_y": null,
       "padding": null,
       "right": null,
       "top": null,
       "visibility": null,
       "width": null
      }
     },
     "5a657382ff934c9485e5d253494d8191": {
      "model_module": "@jupyter-widgets/controls",
      "model_module_version": "1.5.0",
      "model_name": "IntSliderModel",
      "state": {
       "_dom_classes": [],
       "_model_module": "@jupyter-widgets/controls",
       "_model_module_version": "1.5.0",
       "_model_name": "IntSliderModel",
       "_view_count": null,
       "_view_module": "@jupyter-widgets/controls",
       "_view_module_version": "1.5.0",
       "_view_name": "IntSliderView",
       "continuous_update": true,
       "description": "theta0",
       "description_tooltip": null,
       "disabled": false,
       "layout": "IPY_MODEL_eb7f291c502247b8a47aeeecaf6b8903",
       "max": 90,
       "min": 0,
       "orientation": "horizontal",
       "readout": true,
       "readout_format": "d",
       "step": 1,
       "style": "IPY_MODEL_2ba61e970eab4cd7b6770913e5f4f1b7",
       "value": 0
      }
     },
     "7035e9e1345d4bf48818adfe45a59ca6": {
      "model_module": "@jupyter-widgets/output",
      "model_module_version": "1.0.0",
      "model_name": "OutputModel",
      "state": {
       "_dom_classes": [],
       "_model_module": "@jupyter-widgets/output",
       "_model_module_version": "1.0.0",
       "_model_name": "OutputModel",
       "_view_count": null,
       "_view_module": "@jupyter-widgets/output",
       "_view_module_version": "1.0.0",
       "_view_name": "OutputView",
       "layout": "IPY_MODEL_2f47d0a2d6364f87a358d977e570be7b",
       "msg_id": "",
       "outputs": [
        {
         "data": {
          "image/png": "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\n",
          "text/plain": "<Figure size 1296x360 with 3 Axes>"
         },
         "metadata": {
          "needs_background": "light"
         },
         "output_type": "display_data"
        }
       ]
      }
     },
     "93fb29507091451aae362e54a2cd051b": {
      "model_module": "@jupyter-widgets/controls",
      "model_module_version": "1.5.0",
      "model_name": "FloatSliderModel",
      "state": {
       "_dom_classes": [],
       "_model_module": "@jupyter-widgets/controls",
       "_model_module_version": "1.5.0",
       "_model_name": "FloatSliderModel",
       "_view_count": null,
       "_view_module": "@jupyter-widgets/controls",
       "_view_module_version": "1.5.0",
       "_view_name": "FloatSliderView",
       "continuous_update": true,
       "description": "lam0",
       "description_tooltip": null,
       "disabled": false,
       "layout": "IPY_MODEL_4820251be4d94706a172ba2947be3d11",
       "max": 10.0,
       "min": 5.0,
       "orientation": "horizontal",
       "readout": true,
       "readout_format": ".2f",
       "step": 0.01,
       "style": "IPY_MODEL_db7344b9a4864c23b91048e747bf38c1",
       "value": 10.0
      }
     },
     "9bce7d81854d43febf5df95194e8e653": {
      "model_module": "@jupyter-widgets/controls",
      "model_module_version": "1.5.0",
      "model_name": "FloatSliderModel",
      "state": {
       "_dom_classes": [],
       "_model_module": "@jupyter-widgets/controls",
       "_model_module_version": "1.5.0",
       "_model_name": "FloatSliderModel",
       "_view_count": null,
       "_view_module": "@jupyter-widgets/controls",
       "_view_module_version": "1.5.0",
       "_view_name": "FloatSliderView",
       "continuous_update": true,
       "description": "d",
       "description_tooltip": null,
       "disabled": false,
       "layout": "IPY_MODEL_e368bf39f57c476f938eafe24d66d71f",
       "max": 10.0,
       "min": 0.0,
       "orientation": "horizontal",
       "readout": true,
       "readout_format": ".2f",
       "step": 0.01,
       "style": "IPY_MODEL_100e435935274d50a948e80a5dbfe5c3",
       "value": 1.0
      }
     },
     "bf3f29b016de4e60a27954ce27c179be": {
      "model_module": "@jupyter-widgets/controls",
      "model_module_version": "1.5.0",
      "model_name": "SliderStyleModel",
      "state": {
       "_model_module": "@jupyter-widgets/controls",
       "_model_module_version": "1.5.0",
       "_model_name": "SliderStyleModel",
       "_view_count": null,
       "_view_module": "@jupyter-widgets/base",
       "_view_module_version": "1.2.0",
       "_view_name": "StyleView",
       "description_width": "",
       "handle_color": null
      }
     },
     "c5247397567943b7add4d47ce139df34": {
      "model_module": "@jupyter-widgets/controls",
      "model_module_version": "1.5.0",
      "model_name": "VBoxModel",
      "state": {
       "_dom_classes": [
        "widget-interact"
       ],
       "_model_module": "@jupyter-widgets/controls",
       "_model_module_version": "1.5.0",
       "_model_name": "VBoxModel",
       "_view_count": null,
       "_view_module": "@jupyter-widgets/controls",
       "_view_module_version": "1.5.0",
       "_view_name": "VBoxView",
       "box_style": "",
       "children": [
        "IPY_MODEL_16b837bc9c6241f49439ffe3f3947f23",
        "IPY_MODEL_9bce7d81854d43febf5df95194e8e653",
        "IPY_MODEL_93fb29507091451aae362e54a2cd051b",
        "IPY_MODEL_5a657382ff934c9485e5d253494d8191",
        "IPY_MODEL_7035e9e1345d4bf48818adfe45a59ca6"
       ],
       "layout": "IPY_MODEL_05fffc29243b4faa9c04e7dc5f930fb4"
      }
     },
     "db7344b9a4864c23b91048e747bf38c1": {
      "model_module": "@jupyter-widgets/controls",
      "model_module_version": "1.5.0",
      "model_name": "SliderStyleModel",
      "state": {
       "_model_module": "@jupyter-widgets/controls",
       "_model_module_version": "1.5.0",
       "_model_name": "SliderStyleModel",
       "_view_count": null,
       "_view_module": "@jupyter-widgets/base",
       "_view_module_version": "1.2.0",
       "_view_name": "StyleView",
       "description_width": "",
       "handle_color": null
      }
     },
     "e368bf39f57c476f938eafe24d66d71f": {
      "model_module": "@jupyter-widgets/base",
      "model_module_version": "1.2.0",
      "model_name": "LayoutModel",
      "state": {
       "_model_module": "@jupyter-widgets/base",
       "_model_module_version": "1.2.0",
       "_model_name": "LayoutModel",
       "_view_count": null,
       "_view_module": "@jupyter-widgets/base",
       "_view_module_version": "1.2.0",
       "_view_name": "LayoutView",
       "align_content": null,
       "align_items": null,
       "align_self": null,
       "border": null,
       "bottom": null,
       "display": null,
       "flex": null,
       "flex_flow": null,
       "grid_area": null,
       "grid_auto_columns": null,
       "grid_auto_flow": null,
       "grid_auto_rows": null,
       "grid_column": null,
       "grid_gap": null,
       "grid_row": null,
       "grid_template_areas": null,
       "grid_template_columns": null,
       "grid_template_rows": null,
       "height": null,
       "justify_content": null,
       "justify_items": null,
       "left": null,
       "margin": null,
       "max_height": null,
       "max_width": null,
       "min_height": null,
       "min_width": null,
       "object_fit": null,
       "object_position": null,
       "order": null,
       "overflow": null,
       "overflow_x": null,
       "overflow_y": null,
       "padding": null,
       "right": null,
       "top": null,
       "visibility": null,
       "width": null
      }
     },
     "eb7f291c502247b8a47aeeecaf6b8903": {
      "model_module": "@jupyter-widgets/base",
      "model_module_version": "1.2.0",
      "model_name": "LayoutModel",
      "state": {
       "_model_module": "@jupyter-widgets/base",
       "_model_module_version": "1.2.0",
       "_model_name": "LayoutModel",
       "_view_count": null,
       "_view_module": "@jupyter-widgets/base",
       "_view_module_version": "1.2.0",
       "_view_name": "LayoutView",
       "align_content": null,
       "align_items": null,
       "align_self": null,
       "border": null,
       "bottom": null,
       "display": null,
       "flex": null,
       "flex_flow": null,
       "grid_area": null,
       "grid_auto_columns": null,
       "grid_auto_flow": null,
       "grid_auto_rows": null,
       "grid_column": null,
       "grid_gap": null,
       "grid_row": null,
       "grid_template_areas": null,
       "grid_template_columns": null,
       "grid_template_rows": null,
       "height": null,
       "justify_content": null,
       "justify_items": null,
       "left": null,
       "margin": null,
       "max_height": null,
       "max_width": null,
       "min_height": null,
       "min_width": null,
       "object_fit": null,
       "object_position": null,
       "order": null,
       "overflow": null,
       "overflow_x": null,
       "overflow_y": null,
       "padding": null,
       "right": null,
       "top": null,
       "visibility": null,
       "width": null
      }
     },
     "fa3a473c13964969924a7272369a0f9f": {
      "model_module": "@jupyter-widgets/base",
      "model_module_version": "1.2.0",
      "model_name": "LayoutModel",
      "state": {
       "_model_module": "@jupyter-widgets/base",
       "_model_module_version": "1.2.0",
       "_model_name": "LayoutModel",
       "_view_count": null,
       "_view_module": "@jupyter-widgets/base",
       "_view_module_version": "1.2.0",
       "_view_name": "LayoutView",
       "align_content": null,
       "align_items": null,
       "align_self": null,
       "border": null,
       "bottom": null,
       "display": null,
       "flex": null,
       "flex_flow": null,
       "grid_area": null,
       "grid_auto_columns": null,
       "grid_auto_flow": null,
       "grid_auto_rows": null,
       "grid_column": null,
       "grid_gap": null,
       "grid_row": null,
       "grid_template_areas": null,
       "grid_template_columns": null,
       "grid_template_rows": null,
       "height": null,
       "justify_content": null,
       "justify_items": null,
       "left": null,
       "margin": null,
       "max_height": null,
       "max_width": null,
       "min_height": null,
       "min_width": null,
       "object_fit": null,
       "object_position": null,
       "order": null,
       "overflow": null,
       "overflow_x": null,
       "overflow_y": null,
       "padding": null,
       "right": null,
       "top": null,
       "visibility": null,
       "width": null
      }
     }
    },
    "version_major": 2,
    "version_minor": 0
   }
  }
 },
 "nbformat": 4,
 "nbformat_minor": 5
}