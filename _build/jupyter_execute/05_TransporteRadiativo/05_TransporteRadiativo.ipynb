{
 "cells": [
  {
   "cell_type": "code",
   "execution_count": 1,
   "id": "3c597da7",
   "metadata": {
    "slideshow": {
     "slide_type": "skip"
    },
    "tags": [
     "remove-cell"
    ]
   },
   "outputs": [],
   "source": [
    "import importlib.util\n",
    "if importlib.util.find_spec('empylib') is None:\n",
    "    !pip install git+https://github.com/PanxoPanza/empylib.git"
   ]
  },
  {
   "cell_type": "markdown",
   "id": "8b01ca79",
   "metadata": {
    "slideshow": {
     "slide_type": "slide"
    }
   },
   "source": [
    "# Transporte Radiativo"
   ]
  },
  {
   "cell_type": "markdown",
   "id": "580ab8db",
   "metadata": {
    "slideshow": {
     "slide_type": "slide"
    }
   },
   "source": [
    "## Introducción"
   ]
  },
  {
   "cell_type": "markdown",
   "id": "dadf38f1",
   "metadata": {
    "slideshow": {
     "slide_type": "fragment"
    }
   },
   "source": [
    "En la [unidad 2](../02_ondas_EM_en_la_materia/02_ondas_EM_en_la_materia.ipynb) revisamos el efecto de interferencia en películas de espesor finito, y como está daba lugar a la coloración tornasol caractéristica en derrames de aceites en agua, lentes y discos compactos.\n",
    "\n",
    "<img src=\"./images/interference_oils.png\" width=\"700px\" align= center>"
   ]
  },
  {
   "cell_type": "markdown",
   "id": "d2dc01e9",
   "metadata": {
    "slideshow": {
     "slide_type": "fragment"
    }
   },
   "source": [
    "Si, teóricamente, el efecto de interferencia ocurre cada vez que tenemos un tercer material intercalado entre dos materiales (iguales o diferentes). **¿Porqué no visualizamos este efecto en ventanas u otros materiales de gran espesor?**"
   ]
  },
  {
   "cell_type": "markdown",
   "id": "9ff4cae4",
   "metadata": {
    "slideshow": {
     "slide_type": "slide"
    }
   },
   "source": [
    "## Coherencia de la luz e interferencia\n",
    "\n",
    "Para entender esto, primero debemos revisar la distribución espectral de fuentes reales de luz\n",
    "\n",
    "<img src=\"./images/light_source_spectra.png\" width=\"800px\" align= center>"
   ]
  },
  {
   "cell_type": "markdown",
   "id": "16081fa2",
   "metadata": {
    "slideshow": {
     "slide_type": "fragment"
    }
   },
   "source": [
    "Como vemos, una fuente emite luz en varias longitudes de onda y a distinta intensidad. Así, las ondas emitidas se superponen, generando una onda resultante con una forma distinta a $e^{i(\\vec{k}\\cdot\\vec{r} -\\omega t)}$."
   ]
  },
  {
   "cell_type": "markdown",
   "id": "b54cf722",
   "metadata": {
    "slideshow": {
     "slide_type": "slide"
    }
   },
   "source": [
    "Consideremos, por ejemplo, una fuente de luz con una distribución espectral normal, centrada en $\\lambda_0$ y con una desviación estandar $\\pm\\sigma_\\lambda\\lambda_0$, con $\\sigma_\\lambda \\in [0,1]$. Imaginemos esta fuente como $N$ emisores, donde cada emisor $j$ emite una onda electromagnéticas con longitud de onda $\\lambda \\pm\\Delta \\lambda_j$, donde $\\Delta \\lambda_j$ es escogido aleatoriamente a partir de la distribución normal."
   ]
  },
  {
   "cell_type": "markdown",
   "id": "31f81723",
   "metadata": {
    "cell_style": "split",
    "slideshow": {
     "slide_type": "fragment"
    }
   },
   "source": [
    "<img src=\"./images/normal_distribution.png\" width=\"400px\" align= center>"
   ]
  },
  {
   "cell_type": "markdown",
   "id": "76d68ef4",
   "metadata": {
    "cell_style": "split",
    "slideshow": {
     "slide_type": "fragment"
    }
   },
   "source": [
    "Asumiendo ondas en el aire en dirección $\\hat{k} = \\hat{x}$, el campo eléctrico resultante es:\n",
    "\n",
    "\\begin{equation*}\n",
    "\\vec{E}_\\mathrm{tot} = \\sum_j^N E_0e^{i\\left(k_jx - \\omega_j t\\right)} \\hat{z},\n",
    "\\end{equation*}\n",
    "\n",
    "donde $k_j = \\frac{2\\pi}{\\lambda \\pm\\Delta \\lambda_j}$, y $\\omega_j = c_0k_j$"
   ]
  },
  {
   "cell_type": "markdown",
   "id": "e5e55e68",
   "metadata": {
    "cell_style": "center",
    "slideshow": {
     "slide_type": "slide"
    }
   },
   "source": [
    "Analicemos el comportamiento de $\\vec{E}_\\mathrm{tot} /E_0$ para $\\lambda_0 = 500$ nm"
   ]
  },
  {
   "cell_type": "code",
   "execution_count": 2,
   "id": "37df7e74",
   "metadata": {
    "cell_style": "center",
    "slideshow": {
     "slide_type": "skip"
    },
    "tags": [
     "hide-input"
    ]
   },
   "outputs": [
    {
     "name": "stderr",
     "output_type": "stream",
     "text": [
      "<>:37: SyntaxWarning: invalid escape sequence '\\m'\n",
      "<>:37: SyntaxWarning: invalid escape sequence '\\m'\n",
      "/tmp/ipykernel_1116/442575716.py:37: SyntaxWarning: invalid escape sequence '\\m'\n",
      "  ax.set_xlabel('x ($\\mu$m)')\n"
     ]
    }
   ],
   "source": [
    "import numpy as np\n",
    "from numpy.random import normal\n",
    "import matplotlib.pyplot as plt\n",
    "\n",
    "def light_packet(kdir, x, t, lam, sig, N):\n",
    "    c0 = 3E8          # velocidad de la luz (m/s)\n",
    "    xx = np.meshgrid(x,np.ones(N))[0]\n",
    "    \n",
    "    # Generamos arreglo de ondas aleatorias\n",
    "    dlamj =  normal(0, lam*sig,N)\n",
    "    kj = (2*np.pi/(lam + dlamj)).reshape(-1,1)\n",
    "    wj = c0*kj\n",
    "    Erand = np.exp(1j*(kdir*kj*xx-wj*t)) \n",
    "    \n",
    "    # Sumamos todas las ondas\n",
    "    return np.sum(Erand,axis=0)\n",
    " \n",
    "def plot_light_packet(N, t, sig):\n",
    "    '''\n",
    "    n: número de ondas generadas\n",
    "    t: tiempo en ns\n",
    "    sig: % de ancho de banda (dlam = sig*lam)\n",
    "    '''\n",
    "    lam = 0.5         # longitud de onda (um)\n",
    "    t = t*1E-9 # convertimos ns a s\n",
    "    \n",
    "    # recorrido de la onda\n",
    "    x = np.linspace(-2,2,1000)  # desde 0 a 4 micrones\n",
    "    E = light_packet(1, x, t, lam, sig, N)\n",
    "    \n",
    "    # Graficamos\n",
    "    fig, ax = plt.subplots()\n",
    "    fig.set_size_inches(6, 3)\n",
    "    plt.rcParams['font.size'] = '12'\n",
    "    \n",
    "    ax.plot(x,np.real(E), 'k')\n",
    "    ax.set_xlabel('x ($\\mu$m)')\n",
    "    ax.set_ylabel('Amplitud $|E|/E_0$')\n",
    "    ax.set_ylim(-N*1.1,N*1.1)\n",
    "    ax.grid()\n"
   ]
  },
  {
   "cell_type": "code",
   "execution_count": 3,
   "id": "5c81aca7",
   "metadata": {
    "cell_style": "center",
    "slideshow": {
     "slide_type": "fragment"
    },
    "tags": [
     "hide-input"
    ]
   },
   "outputs": [
    {
     "data": {
      "application/vnd.jupyter.widget-view+json": {
       "model_id": "fce359fa1c5547c892c762aa96ee62cc",
       "version_major": 2,
       "version_minor": 0
      },
      "text/plain": [
       "interactive(children=(IntSlider(value=1000, description='N', max=1000, min=1), FloatSlider(value=0.0, descript…"
      ]
     },
     "metadata": {},
     "output_type": "display_data"
    }
   ],
   "source": [
    "from ipywidgets import interact\n",
    "\n",
    "@interact( N=(1,1000,1), \n",
    "           t=(-10,10,0.1),\n",
    "           sig=(0,1,0.01))\n",
    "def g(N=1000, t=0, sig=0.3):\n",
    "    return plot_light_packet(N,t,sig)"
   ]
  },
  {
   "cell_type": "markdown",
   "id": "b53bb755",
   "metadata": {
    "slideshow": {
     "slide_type": "slide"
    }
   },
   "source": [
    "### Longitud de coherencia\n",
    "Definimos como **longitud de coherencia**, $l_c$, a la distancia donde un grupo de ondas electromagnética mantiene correlación entre las fases. Dos puntos en una paquete de onda separados a una distancia mayor a $l_c$ son incoherentes, es decir, no están correlacionados"
   ]
  },
  {
   "cell_type": "markdown",
   "id": "3ea340f8",
   "metadata": {
    "cell_style": "split",
    "slideshow": {
     "slide_type": "fragment"
    }
   },
   "source": [
    "<img src=\"./images/coherence_length.png\" width=\"300px\" align= center>\n",
    "\n",
    "<center>Esquema de un paquete de onda emitido por una fuente con longitud de coherencia $l_c$</center>"
   ]
  },
  {
   "cell_type": "markdown",
   "id": "1f71b46f",
   "metadata": {
    "cell_style": "split",
    "slideshow": {
     "slide_type": "fragment"
    }
   },
   "source": [
    "La relación entre $l_c$, la longitud de onda central $\\lambda$ y el ancho de banda $\\Delta\\lambda$ está dado, aproximadamente, por la relación:\n",
    "\n",
    "\\begin{equation*}\n",
    "l_c \\approx \\frac{\\lambda^2}{n\\Delta \\lambda},\n",
    "\\end{equation*}\n",
    "\n",
    "donde $n$ es el indice de refracción del medio donde se propaga la luz.\n",
    "\n",
    "Por ejemplo, para lasers He-Ne (laser rojo)  $l_c\\approx 0.2 - 100$ m.  "
   ]
  },
  {
   "cell_type": "markdown",
   "id": "b8e319bd",
   "metadata": {
    "slideshow": {
     "slide_type": "slide"
    }
   },
   "source": [
    "Para radiación emitida por un cuerpo a temperatura $T$, la longitud de coherencia está dada por:\n",
    "\n",
    "\\begin{equation*}\n",
    "l_c T = 2167.8~\\mathrm{\\mu m~K}\n",
    "\\end{equation*}\n",
    "\n",
    "Así, por ejemplo, la radiación solar ($T \\approx 5800~\\mathrm{K}$) tiene una longitud de coherencia, $l_c \\approx 370~\\mathrm{nm}$"
   ]
  },
  {
   "cell_type": "markdown",
   "id": "659f7454",
   "metadata": {
    "slideshow": {
     "slide_type": "slide"
    }
   },
   "source": [
    "### Régimen de trasporte de luz\n",
    "Los fenómenos de interferencia descritos en las unidades anteriores existen debido a la forma oscilatoria de la luz. **Dos paquetes de ondas distintos son incoherentes, y la superposición de estos no genera interferencia.**"
   ]
  },
  {
   "cell_type": "markdown",
   "id": "615ad1c6",
   "metadata": {
    "slideshow": {
     "slide_type": "slide"
    }
   },
   "source": [
    "En otras palabras, el fenómeno de interferencia solo existe si el paquete de onda interfiere consigo mismo. Así, podemos concluir que los fenómenos de interferencia en películas de espesor $d$ no serían visibles si $d > l_c$. "
   ]
  },
  {
   "cell_type": "markdown",
   "id": "db4d20e4",
   "metadata": {
    "cell_style": "split",
    "slideshow": {
     "slide_type": "fragment"
    }
   },
   "source": [
    "<img src=\"./images/interference_thinfilm.png\" width=\"200px\" align= center>\n",
    "\n",
    "<center>Propagación de una onda a través de una película de espesor $d$, con $l_c < d$</center>"
   ]
  },
  {
   "cell_type": "markdown",
   "id": "fce7ef57",
   "metadata": {
    "cell_style": "split",
    "slideshow": {
     "slide_type": "fragment"
    }
   },
   "source": [
    "En general, para una longitud características $d$, la regla es:\n",
    "\n",
    "- Si $d > l_c$ el **transporte de luz es incoherente** . En este régimen, podemos ignorar las propiedades oscilatorias de la luz, y analizar el problema como el transporte de pequeños paquetes de onda, o simplemente como partículas.\n",
    "\n",
    "- Si $d < l_c$, el **transporte de luz es coherente**. En este régimen debemos considerar las propiedades oscilatorias a partir de las Ecuaciones de Maxwell."
   ]
  },
  {
   "cell_type": "markdown",
   "id": "06aab8e7",
   "metadata": {
    "cell_style": "center",
    "slideshow": {
     "slide_type": "fragment"
    }
   },
   "source": [
    "Así, **los coeficientes de Fresnel para una película delgada solo son aplicables si $d < l_c$.**"
   ]
  },
  {
   "cell_type": "markdown",
   "id": "c7f85265",
   "metadata": {
    "cell_style": "center",
    "slideshow": {
     "slide_type": "slide"
    }
   },
   "source": [
    "Los coeficientes de Fresnel para una interface, en cambio, siempre son válidos debido a que consideran una interface infinitamente delgada."
   ]
  },
  {
   "cell_type": "markdown",
   "id": "57178760",
   "metadata": {
    "cell_style": "center",
    "slideshow": {
     "slide_type": "fragment"
    }
   },
   "source": [
    "<img src=\"./images/interference_interface.png\" width=\"350px\" align= center>\n",
    "\n",
    "<center>Refracción y reflexión de una onda incoherente a través de una interfaz</center>"
   ]
  },
  {
   "cell_type": "markdown",
   "id": "0c79f1b6",
   "metadata": {
    "slideshow": {
     "slide_type": "slide"
    }
   },
   "source": [
    "En medios particulados, los fenómenos de interferencia pueden ocurrir si las partículas están suficientemente cerca y tienen tamaños similares. Llamamos a esto **scattering coherente**"
   ]
  },
  {
   "cell_type": "markdown",
   "id": "61e2a519",
   "metadata": {
    "slideshow": {
     "slide_type": "fragment"
    }
   },
   "source": [
    "<img src=\"./images/scattering_coherence.png\" width=\"600px\" align= center>\n",
    "\n",
    "<center>Fenómeno de interferencia en scattering</center>"
   ]
  },
  {
   "cell_type": "markdown",
   "id": "8167d93c",
   "metadata": {
    "slideshow": {
     "slide_type": "slide"
    }
   },
   "source": [
    "El fenómeno de scattering coherente da lugar a los denominados **colores estructurales** presentes en las alas de las aves y mariposas (mas info [acá](https://wires.onlinelibrary.wiley.com/doi/10.1002/wnan.1396))"
   ]
  },
  {
   "cell_type": "markdown",
   "id": "06446d60",
   "metadata": {
    "cell_style": "split",
    "slideshow": {
     "slide_type": "fragment"
    }
   },
   "source": [
    "<img src=\"./images/structural_colors_birds.png\" width=\"550px\" align= center>\n",
    "\n",
    "<center>Colores estructurales en alas de aves</center>\n",
    "\n",
    "Fuente: [Hwang, V. et al. PNAS 118 (4) e2015551118\n",
    " (2020)](https://www.pnas.org/doi/10.1073/pnas.2015551118)"
   ]
  },
  {
   "cell_type": "markdown",
   "id": "71eaafb2",
   "metadata": {
    "cell_style": "split",
    "slideshow": {
     "slide_type": "fragment"
    }
   },
   "source": [
    "<img src=\"./images/structural_colors_buterflies.png\" width=\"450px\" align= center>\n",
    "\n",
    "<center>Colores estructurales en alas de mariposa</center>\n",
    "\n",
    "Fuente: [Tippets C. A. et al. J. Opt. 18 (2016) 065105](https://iopscience.iop.org/article/10.1088/2040-8978/18/6/065105)"
   ]
  },
  {
   "cell_type": "markdown",
   "id": "f629fcbe",
   "metadata": {
    "slideshow": {
     "slide_type": "slide"
    }
   },
   "source": [
    "## Teoría de transferencia radiativa\n",
    "Si el transporte de luz es incoherente, podemos ignorar las propiedades oscilatorias de la luz y analizar el fenómeno óptico como un el transporte de radiación a través de un volumen de control."
   ]
  },
  {
   "cell_type": "markdown",
   "id": "f62e3c70",
   "metadata": {
    "slideshow": {
     "slide_type": "slide"
    }
   },
   "source": [
    "### Intensidad específica"
   ]
  },
  {
   "cell_type": "markdown",
   "id": "790c7714",
   "metadata": {
    "cell_style": "split",
    "slideshow": {
     "slide_type": "-"
    }
   },
   "source": [
    "Definimos como **radiancia espectral o intensidad específica**, $I_\\lambda$, al flujo de energía por **ángulo sólido diferencial**, $d\\Omega$, para una longitud de onda $\\lambda$.\n",
    "\n",
    "<img src=\"./images/specific_intensity.png\" width=\"300px\" align= center>"
   ]
  },
  {
   "cell_type": "markdown",
   "id": "8568f20b",
   "metadata": {
    "cell_style": "split",
    "slideshow": {
     "slide_type": "fragment"
    }
   },
   "source": [
    "El ángulo sólido define el tamaño relativo del área $S$ para un observador en $P$ a una distancia $r$. \n",
    "\n",
    "El diferencial está definido por $d\\Omega = \\sin\\theta d\\theta d\\phi$\n",
    "\n",
    "<img src=\"./images/solid_angle.png\" width=\"450px\" align= center>"
   ]
  },
  {
   "cell_type": "markdown",
   "id": "0d8ed016",
   "metadata": {
    "slideshow": {
     "slide_type": "slide"
    }
   },
   "source": [
    "Es importante aclarar que los conceptos intensidad específica y vector de Poynting $\\langle\\vec{S}\\rangle$, son equivalentes: $I_\\lambda(\\hat{k})$ es un término utilizado en radiometría para definir el flujo de energía por unidad de ángulo sólido, mientras que $\\langle\\vec{S}\\rangle$ es un término utilizado en óptica para describir el flujo de energía en dirección $\\hat{k}$. Cabe destacar, sin embargo, que $I_\\lambda(\\hat{k})$ es una magnitud, y $\\langle\\vec{S}\\rangle$ es un vector. Así, podríamos decir que la relación entre estos dos términos está dada por $I_\\lambda(\\hat{k}) = \\langle\\vec{S}\\rangle\\cdot\\hat{k}$."
   ]
  },
  {
   "cell_type": "markdown",
   "id": "921c9262",
   "metadata": {
    "slideshow": {
     "slide_type": "slide"
    }
   },
   "source": [
    "### Ecuación de transferencia radiativa\n",
    "La **ecuación de transferencia radiativa** (RTE por sus siglas en ingles), es una ecuación de transporte que describe la propagación de la radiancia espectral, $I_\\lambda(\\vec{r},\\hat{k})$, en función de la posición posición $\\vec{r}$ y dirección $\\hat{k}$. En su forma más general, para un problema estacionario:\n",
    "\n",
    "\\begin{equation}\n",
    "\\hat{k}\\cdot\\nabla_r I_\\lambda(\\vec{r},\\hat{k}) = - \\left[\\frac{f_v}{V_p}C_\\mathrm{ext} + 2\\kappa k_0\\right]I_\\lambda(\\vec{r},\\hat{k}) + \\frac{f_v}{V_p}\\int_{4\\pi} P_\\mathrm{sca}\\left(\\hat{k},\\hat{k}'\\right) I_\\lambda(\\vec{r},\\hat{k}') d\\hat{k}'\n",
    "\\end{equation}"
   ]
  },
  {
   "cell_type": "markdown",
   "id": "44c82ce8",
   "metadata": {
    "slideshow": {
     "slide_type": "fragment"
    }
   },
   "source": [
    "donde $f_v$ y $V_p$ son, respectivamente la fracción de volúmen y el volúmen de las partículas en el medio, y $P_\\mathrm{sca}(\\hat{k},\\hat{k}')$ es la función de fase."
   ]
  },
  {
   "cell_type": "markdown",
   "id": "84f7041f",
   "metadata": {
    "slideshow": {
     "slide_type": "slide"
    }
   },
   "source": [
    "Notar que consideramos el caso más generalizado de la función de fase, que depende tanto de la dirección de la radiación incidente $\\hat{k}$ como de la dirección del scattering $\\hat{k}'$. Ambas definidas por ángulo sólido"
   ]
  },
  {
   "cell_type": "markdown",
   "id": "556660a5",
   "metadata": {
    "cell_style": "center",
    "slideshow": {
     "slide_type": "fragment"
    }
   },
   "source": [
    "En el caso de una esfera, $\\hat{k}_\\mathrm{sca} = \\hat{k}$ y $\\hat{k}_\\mathrm{inc} = \\hat{k}'$. Así, la función de fase depende de $\\theta$, el cual está definido por $\\cos\\theta = \\hat{k}\\cdot\\hat{k}'$\n",
    "\n"
   ]
  },
  {
   "cell_type": "markdown",
   "id": "b7b71333",
   "metadata": {
    "slideshow": {
     "slide_type": "slide"
    }
   },
   "source": [
    "Con esto en mente, ahora podemos discutir el significado de los términos en la RTE:"
   ]
  },
  {
   "cell_type": "markdown",
   "id": "12e1a1e8",
   "metadata": {
    "slideshow": {
     "slide_type": "fragment"
    }
   },
   "source": [
    "- El primer término representa el cambio de $I_\\lambda(\\vec{r},\\hat{k})$ a través volumen diferencial. Por ejemplo, en el caso unidimencional en dirección $\\hat{k} = \\hat{x}$, tenemos: \n",
    "\n",
    "\\begin{equation*}\n",
    "\\hat{x}\\cdot\\nabla_r I_\\lambda(\\vec{r},\\hat{k}) = \\frac{\\partial}{\\partial x}I_\\lambda(\\vec{r},\\hat{k})\n",
    "\\end{equation*}"
   ]
  },
  {
   "cell_type": "markdown",
   "id": "231c3da9",
   "metadata": {
    "slideshow": {
     "slide_type": "fragment"
    }
   },
   "source": [
    "- El segundo término representa la pérdida de energía radiativa, por extinción $\\left(\\frac{f_v}{V_p}C_\\mathrm{ext}\\right)$ y absorción en el material material ($2\\kappa k_0$), respectivamente. Recordemos que la extinción representa la energía absorbida por las partículas + la energía de scattering en direcciónes distintas a $\\hat{k}$, es decir $C_\\mathrm{ext}= C_\\mathrm{abs} + C_\\mathrm{sca}$."
   ]
  },
  {
   "cell_type": "markdown",
   "id": "4754c5ed",
   "metadata": {
    "slideshow": {
     "slide_type": "fragment"
    }
   },
   "source": [
    "- El tercer término representa la ganancia de energía radiativa produco del scattering inducido por radiación incidente en dirección $\\hat{k}'$. Este término representa el fenómeno de **scattering múltiple**."
   ]
  },
  {
   "cell_type": "markdown",
   "id": "43766712",
   "metadata": {
    "slideshow": {
     "slide_type": "slide"
    }
   },
   "source": [
    "## Soluciones de la RTE\n",
    "La ecuación de transferencia radiativa permite explicar de forma fenomenológica el transporte de radiación en un medio particulado. Debido a su complejidad, existen pocas soluciones analíticas. En esta sección describiremos las tres más conocidas."
   ]
  },
  {
   "cell_type": "markdown",
   "id": "6037462f",
   "metadata": {
    "slideshow": {
     "slide_type": "slide"
    }
   },
   "source": [
    "### Película de material sin partículas (Reflectividad y Transmisividad incoherente)\n",
    "En el caso de un medio sin partículas solo debemos considerar el primer término de la RTE. "
   ]
  },
  {
   "cell_type": "markdown",
   "id": "38e80853",
   "metadata": {
    "slideshow": {
     "slide_type": "fragment"
    }
   },
   "source": [
    "Para el caso particular de un material de espesor $t_\\mathrm{film}$ e índice de refracción $N = n + \\kappa$, rodeado por un medio con índice de refracción $N_0$, derivamos las siguientes relaciones de reflectividad y tranmisividad para luz incoherente:\n",
    "\n",
    "\\begin{align}\n",
    "R_\\mathrm{incoh}&= R_0 + \\frac{T_0^2R_0e^{-4\\kappa k_0 t_\\mathrm{film}}}{1 - R_0^2e^{-4\\kappa k_0 t_\\mathrm{film}}} \n",
    "\\\\[10pt]\n",
    "T_\\mathrm{incoh} &= \\frac{T_0^2e^{-4\\kappa k_0 t_\\mathrm{film}}}{1 - R_0^2e^{-4\\kappa k_0 t_\\mathrm{film}}}\n",
    "\\end{align}\n",
    "\n",
    "donde $R_0$ y $T_0$ corresponden, respectivamente, a la reflectividad y transmisividad en la interface $N_0 / N_1$"
   ]
  },
  {
   "cell_type": "markdown",
   "id": "7b8cb924",
   "metadata": {
    "slideshow": {
     "slide_type": "slide"
    }
   },
   "source": [
    "En el siguiente ejemplo, utilizamos la función ```incoh_multilayer``` de la libreria ```empylib.waveoptics```. Esta función es más general que la ecuación anterior y permite determinar $R_\\mathrm{incoh}$ y $T_\\mathrm{incoh}$ para arreglos multicapas. "
   ]
  },
  {
   "cell_type": "markdown",
   "id": "2a3e7bbc",
   "metadata": {
    "slideshow": {
     "slide_type": "fragment"
    }
   },
   "source": [
    "En este caso, evaluaremos una película de sílice de espesor $1~\\mu\\mathrm{m}$, sobre un sustrato con íncide de refracción $N_\\mathrm{back} = 4.3$, y con aire en la superficie $N_\\mathrm{front} = 1.0$. El espectro de longitudes de onda $\\lambda\\in[0.3,0.8]~\\mu\\mathrm{m}$ y el ángulo de incidencia $\\theta_i = 30°$. Para comparar, determinaremos $R$ y $T$ para el caso de luz coherente."
   ]
  },
  {
   "cell_type": "code",
   "execution_count": 4,
   "id": "a99aa431",
   "metadata": {
    "cell_style": "center",
    "slideshow": {
     "slide_type": "slide"
    },
    "tags": [
     "hide-input"
    ]
   },
   "outputs": [],
   "source": [
    "import numpy as np\n",
    "import empylib.waveoptics as wv\n",
    "import empylib.nklib as nk\n",
    "\n",
    "lam = np.linspace(0.3,0.8,100)  # espectro de longitudes de onda (um)\n",
    "theta = np.radians(30)          # ángulo de incidencia\n",
    "\n",
    "Nfront = 1.0                 # índice de refracción medio superior\n",
    "N1     = 1.5                 # índice de refracción capa delgada\n",
    "Nback  = 4.3                 # índice de refracción medio inferior\n",
    "N = (Nfront, N1, Nback)      # indices de refracción (above, mid, below)\n",
    "d = 0.2                      # espesor capa intermedia (um)\n",
    "\n",
    "# caso luz incoherente\n",
    "Rp_incoh, Tp_incoh = wv.incoh_multilayer(lam,theta, N, d, pol='TM')\n",
    "# caso luz coherente\n",
    "Rp, Tp = wv.multilayer(lam,theta, N, d, pol='TM')[:2]"
   ]
  },
  {
   "cell_type": "code",
   "execution_count": 5,
   "id": "3bee2ad8",
   "metadata": {
    "cell_style": "center",
    "slideshow": {
     "slide_type": "fragment"
    },
    "tags": [
     "hide-input"
    ]
   },
   "outputs": [
    {
     "name": "stderr",
     "output_type": "stream",
     "text": [
      "<>:6: SyntaxWarning: invalid escape sequence '\\m'\n",
      "<>:7: SyntaxWarning: invalid escape sequence '\\m'\n",
      "<>:8: SyntaxWarning: invalid escape sequence '\\m'\n",
      "<>:9: SyntaxWarning: invalid escape sequence '\\m'\n",
      "<>:11: SyntaxWarning: invalid escape sequence '\\m'\n",
      "<>:6: SyntaxWarning: invalid escape sequence '\\m'\n",
      "<>:7: SyntaxWarning: invalid escape sequence '\\m'\n",
      "<>:8: SyntaxWarning: invalid escape sequence '\\m'\n",
      "<>:9: SyntaxWarning: invalid escape sequence '\\m'\n",
      "<>:11: SyntaxWarning: invalid escape sequence '\\m'\n",
      "/tmp/ipykernel_1116/1606719474.py:6: SyntaxWarning: invalid escape sequence '\\m'\n",
      "  plt.plot(lam,Rp,'--r',label='$R_\\mathrm{TM}$ (coh)')\n",
      "/tmp/ipykernel_1116/1606719474.py:7: SyntaxWarning: invalid escape sequence '\\m'\n",
      "  plt.plot(lam,Tp,'--b',label='$T_\\mathrm{TM}$ (coh)')\n",
      "/tmp/ipykernel_1116/1606719474.py:8: SyntaxWarning: invalid escape sequence '\\m'\n",
      "  plt.plot(lam,Rp_incoh,'-r',label='$R_\\mathrm{TM}$ (incoh)')\n",
      "/tmp/ipykernel_1116/1606719474.py:9: SyntaxWarning: invalid escape sequence '\\m'\n",
      "  plt.plot(lam,Tp_incoh,'-b',label='$T_\\mathrm{TM}$ (incoh)')\n",
      "/tmp/ipykernel_1116/1606719474.py:11: SyntaxWarning: invalid escape sequence '\\m'\n",
      "  plt.xlabel('Longitud de onda ($\\mu$m)')\n"
     ]
    },
    {
     "data": {
      "image/png": "[encoded data removed]",
      "text/plain": [
       "<Figure size 600x350 with 1 Axes>"
      ]
     },
     "metadata": {},
     "output_type": "display_data"
    }
   ],
   "source": [
    "fig, ax = plt.subplots()\n",
    "fig.set_size_inches(6, 3.5)\n",
    "plt.rcParams['font.size'] = '12'\n",
    "\n",
    "# Graficamos el flujo de energía\n",
    "plt.plot(lam,Rp,'--r',label='$R_\\mathrm{TM}$ (coh)')\n",
    "plt.plot(lam,Tp,'--b',label='$T_\\mathrm{TM}$ (coh)')\n",
    "plt.plot(lam,Rp_incoh,'-r',label='$R_\\mathrm{TM}$ (incoh)')\n",
    "plt.plot(lam,Tp_incoh,'-b',label='$T_\\mathrm{TM}$ (incoh)')\n",
    "plt.title('arreglo 1.0/1.5/4.3')\n",
    "plt.xlabel('Longitud de onda ($\\mu$m)')\n",
    "plt.ylabel('Refletividad / Transmisividad')\n",
    "plt.ylim(0,1)\n",
    "plt.legend()\n",
    "plt.show()"
   ]
  },
  {
   "cell_type": "markdown",
   "id": "c6ed7877",
   "metadata": {
    "cell_style": "center",
    "slideshow": {
     "slide_type": "slide"
    }
   },
   "source": [
    "En la figura, para el caso de luz coherente, notamos oscilaciones en $R$ y $T$ producto de los fenómenos de interferencia. En el caso de luz incoherente, el fenómeno de interferencia desaparace."
   ]
  },
  {
   "cell_type": "markdown",
   "id": "a5316b37",
   "metadata": {
    "slideshow": {
     "slide_type": "slide"
    }
   },
   "source": [
    "### Película de material con baja concentración de partículas (Ley de Beer-Lambert)\n",
    "Definimos el **camino libre medio de scattering**, como $\\Lambda_\\mathrm{sca} = \\left(f_v C_\\mathrm{sca}/V_p\\right)^{-1}$. Este parametro representa la distancia promedio que recorre la luz entre eventos de scattering."
   ]
  },
  {
   "cell_type": "markdown",
   "id": "a352fb08",
   "metadata": {
    "cell_style": "center",
    "slideshow": {
     "slide_type": "fragment"
    }
   },
   "source": [
    "Si $\\Lambda_\\mathrm{sca}$ es mayor que el espesor del material, $t_\\mathrm{film}$, la probabilidad de que ocurran más de un evento scattering es despreciable, y decimos que el **scattering es de primer orden**. En este caso, el tercer término de la RTE es despreciable y la radiación solo pierde energía por absorción del material o extinción inducida por las partículas."
   ]
  },
  {
   "cell_type": "markdown",
   "id": "9407f0e6",
   "metadata": {
    "slideshow": {
     "slide_type": "slide"
    }
   },
   "source": [
    "La solución a esta ecuación se conoce como la ley de Beer-Lambert. Mediante esta aproximación podemos deducir las componentes total y especular de la transmitancia:\n",
    "\n",
    "\\begin{equation}\n",
    "T_\\mathrm{tot} = T_0 e^{-f_v\\frac{C_\\mathrm{abs}}{V_p}t_\\mathrm{film}}\\quad\\quad\\mathrm{and}\\quad\\quad \n",
    "T_\\mathrm{spec} = T_0 e^{-f_v\\frac{C_\\mathrm{ext}}{V_p}t_\\mathrm{film}}\n",
    "\\end{equation}\n",
    "\n",
    "donde, $T_0$ es la **transmisividad incoherente del material sin incrustaciones**."
   ]
  },
  {
   "cell_type": "markdown",
   "id": "2f29ecb5",
   "metadata": {
    "slideshow": {
     "slide_type": "fragment"
    }
   },
   "source": [
    "<img src=\"./images/beer_lambert.png\" width=\"500px\" align= center>\n",
    "\n",
    "<center>Transporte de luz en un medio con scattering de primer orden</center>"
   ]
  },
  {
   "cell_type": "markdown",
   "id": "963bc3c6",
   "metadata": {
    "slideshow": {
     "slide_type": "slide"
    }
   },
   "source": [
    "Podemos utilizar la ley de Beer-Lambert para analizar, de forma aproximada, el efecto del color del cielo durante el día y en la tarde."
   ]
  },
  {
   "cell_type": "markdown",
   "id": "227d193d",
   "metadata": {
    "slideshow": {
     "slide_type": "fragment"
    }
   },
   "source": [
    "El color del cielo está dado por la componente difusa. Así calculamos $T_\\mathrm{dif} = T_\\mathrm{tot} - T_\\mathrm{spec}$."
   ]
  },
  {
   "cell_type": "markdown",
   "id": "a2577fed",
   "metadata": {
    "slideshow": {
     "slide_type": "fragment"
    }
   },
   "source": [
    "Consideremos una atmosfera compuesta de aire ($N_h = 1.0$) y una pequeña concentración ($f_v = 1\\times 10^{-6}~\\%$) de partículas de 10 nm de diámetro e índice de refracción $N_p = 1.5$. El espesor de la atmosfera es $t_\\mathrm{atm} = 100~\\mathrm{km}$"
   ]
  },
  {
   "cell_type": "code",
   "execution_count": 6,
   "id": "33491447",
   "metadata": {
    "cell_style": "center",
    "slideshow": {
     "slide_type": "slide"
    },
    "tags": [
     "hide-input"
    ]
   },
   "outputs": [
    {
     "name": "stderr",
     "output_type": "stream",
     "text": [
      "<>:29: SyntaxWarning: invalid escape sequence '\\m'\n",
      "<>:29: SyntaxWarning: invalid escape sequence '\\m'\n",
      "/tmp/ipykernel_1116/2685868400.py:29: SyntaxWarning: invalid escape sequence '\\m'\n",
      "  ax.set_xlabel('Longitud de onda ($\\mu$m)')\n"
     ]
    }
   ],
   "source": [
    "import empylib.rad_transfer as rt\n",
    "import empylib.nklib as nk\n",
    "import numpy as np\n",
    "import matplotlib.pyplot as plt\n",
    "from empylib.ref_spectra import AM15, Bplanck\n",
    "from empylib.ref_spectra import color_system as cs\n",
    "cs = cs.hdtv\n",
    "\n",
    "lam1 = np.linspace(0.38,0.78,100) # espectro de longitudes de onda\n",
    "cs.interp_internals(lam1)\n",
    "def plot_atmosphere(theta_sun):\n",
    "    fig, ax = plt.subplots()          \n",
    "    fig.set_size_inches(6, 4)         # Tamaño del gráfico\n",
    "    plt.rcParams['font.size'] = '12'  # tamaño de  fuente\n",
    "    \n",
    "    # parámetros de entrada\n",
    "    tatm = 100E6                      # espesor de la atmósfera en mm\n",
    "    N = (1.0,1.0,1.0)                 # indice de refracción superior, intermedio e inferior\n",
    "    fvp = 1E-8                        # fracción de volúmen de las partículas\n",
    "    Dp = 0.010                        # diámetro de las partículas\n",
    "    Np = 1.5                          # índice de refracción de las partículas\n",
    "    \n",
    "    # transmitancia total y especular|\n",
    "    theta = np.radians(theta_sun)    # posición del sol en radianes\n",
    "    Ttot, Rtot, Tspec = rt.T_beer_lambert(lam1,theta,tatm,N,fvp,Dp,Np)\n",
    "    \n",
    "    Tdif = Ttot - Tspec              # transmitancia difusa\n",
    "    ax.plot(lam1,Tdif,'-k',label = 'Tdif')\n",
    "    ax.set_xlabel('Longitud de onda ($\\mu$m)')\n",
    "    ax.set_ylabel('Transmisividad')\n",
    "    ax.set_title(r'Posición del sol, $\\theta_\\mathrm{sun}$=%.1f°'% (theta_sun))\n",
    "    ax.set_ylim(0,1.05)\n",
    "    \n",
    "    Dcircle = 0.25\n",
    "    ax2 = fig.add_axes([0.11,0.15, Dcircle, Dcircle])\n",
    "    Irad = Tdif*Bplanck(lam1,5777)\n",
    "    html_rgb = cs.spec_to_rgb(Irad, out_fmt='html')\n",
    "    Circle = plt.Circle((0, 0), Dcircle, color=html_rgb)\n",
    "    ax2.add_patch(Circle)\n",
    "    ax2.set_aspect('equal')\n",
    "    ax2.set_xlim(-Dcircle*1.2,Dcircle*1.2)\n",
    "    ax2.set_ylim(-Dcircle*1.2,Dcircle*1.2)\n",
    "    ax2.set_xticks([])\n",
    "    ax2.set_yticks([])\n",
    "    ax2.set_facecolor('k')\n",
    "    plt.show()"
   ]
  },
  {
   "cell_type": "code",
   "execution_count": 7,
   "id": "f3b08336",
   "metadata": {
    "cell_style": "split",
    "slideshow": {
     "slide_type": "fragment"
    },
    "tags": [
     "hide-input"
    ]
   },
   "outputs": [
    {
     "data": {
      "application/vnd.jupyter.widget-view+json": {
       "model_id": "994ee2f091c547fb951e1ba654e847b7",
       "version_major": 2,
       "version_minor": 0
      },
      "text/plain": [
       "interactive(children=(FloatSlider(value=0.0, description='theta_sun', max=89.99), Output()), _dom_classes=('wi…"
      ]
     },
     "metadata": {},
     "output_type": "display_data"
    }
   ],
   "source": [
    "from ipywidgets import interact\n",
    "\n",
    "@interact(theta_sun=(0,89.99,0.1))\n",
    "def g(theta_sun=0):\n",
    "    return plot_atmosphere(theta_sun)"
   ]
  },
  {
   "cell_type": "markdown",
   "id": "8aa6d072",
   "metadata": {
    "cell_style": "center",
    "slideshow": {
     "slide_type": "slide"
    }
   },
   "source": [
    "### Pelicula de material particulado (simulaciones de transferencia radiativa)\n",
    "Este caso corresponde a materiales con $\\Lambda_\\mathrm{sca} < t_\\mathrm{film}$. En este caso los eventos de scattering se producen más de una vez, y decimos que estámos en un régimen de **scattering múltiple**. Como resultado, los tres términos de la RTE son relevantes y debemos resolver la ecuación mediante simulación computacional.\n",
    "\n",
    "<img src=\"./images/multiple_scattering.png\" width=\"400px\" align= center>\n",
    "\n",
    "<center>Transporte de luz en un medio con scattering múltiple</center>"
   ]
  },
  {
   "cell_type": "markdown",
   "id": "bea5c468",
   "metadata": {
    "slideshow": {
     "slide_type": "slide"
    }
   },
   "source": [
    "Analicemos la [copa de Licurgo](https://es.wikipedia.org/wiki/Copa_de_Licurgo), considerando un material de sílice de espesor $t_\\mathrm{film} = 5~\\mathrm{mm}$ con incrustaciones de partículas de plata de forma esférica."
   ]
  },
  {
   "cell_type": "markdown",
   "id": "db4db843",
   "metadata": {},
   "source": [
    "Evaluaremos los colores de este material en transmisión y reflexión para luz incidente normal a la superficie en función de la concentración y el diámetro de las partículas. Utilizamos la función ```adm_sphere``` de la librería ```empylib.rad_transfer```"
   ]
  },
  {
   "cell_type": "code",
   "execution_count": 8,
   "id": "24c8d4d6",
   "metadata": {
    "slideshow": {
     "slide_type": "slide"
    },
    "tags": [
     "hide-input"
    ]
   },
   "outputs": [
    {
     "name": "stderr",
     "output_type": "stream",
     "text": [
      "<>:29: SyntaxWarning: invalid escape sequence '\\m'\n",
      "<>:30: SyntaxWarning: invalid escape sequence '\\m'\n",
      "<>:31: SyntaxWarning: invalid escape sequence '\\m'\n",
      "<>:39: SyntaxWarning: invalid escape sequence '\\m'\n",
      "<>:29: SyntaxWarning: invalid escape sequence '\\m'\n",
      "<>:30: SyntaxWarning: invalid escape sequence '\\m'\n",
      "<>:31: SyntaxWarning: invalid escape sequence '\\m'\n",
      "<>:39: SyntaxWarning: invalid escape sequence '\\m'\n",
      "/tmp/ipykernel_1116/2242273654.py:29: SyntaxWarning: invalid escape sequence '\\m'\n",
      "  ax[0].plot(lam2,qsca,'-r',label='$C_\\mathrm{sca} A_c$')\n",
      "/tmp/ipykernel_1116/2242273654.py:30: SyntaxWarning: invalid escape sequence '\\m'\n",
      "  ax[0].plot(lam2,qabs,'-b',label='$C_\\mathrm{abs} A_c$')\n",
      "/tmp/ipykernel_1116/2242273654.py:31: SyntaxWarning: invalid escape sequence '\\m'\n",
      "  ax[0].set_xlabel('Longitud de onda ($\\mu$m)')\n",
      "/tmp/ipykernel_1116/2242273654.py:39: SyntaxWarning: invalid escape sequence '\\m'\n",
      "  ax[1].set_xlabel('Longitud de onda ($\\mu$m)')\n"
     ]
    }
   ],
   "source": [
    "import empylib.rad_transfer as rt\n",
    "import empylib.nklib as nk\n",
    "import empylib.miescattering as mie\n",
    "import numpy as np\n",
    "import matplotlib.pyplot as plt\n",
    "\n",
    "lam2 = np.linspace(0.3,1.0,100) # espectro de longitudes de onda en micrometros\n",
    "Nlayers = (1.0,1.5,1.0)         # indice de refracción superior, intermedio e inferior\n",
    "Np = nk.silver(lam2)            # Índice de refracción de las partículas\n",
    "cs.interp_internals(lam2)\n",
    "\n",
    "def plot_glass_silver(fv,D):\n",
    "    # parámetros de entrada\n",
    "    \n",
    "    theta = np.radians(0)       # 0 grados en radianes\n",
    "    tfilm = 5                   # espesor en milímetros\n",
    "    \n",
    "    fv = fv*1E-7                # fracción de volúmen de las partículas\n",
    "    D = D*1E-3                  # diámetro de las partículas\n",
    "    \n",
    "    qext, qsca = mie.scatter_efficiency(lam2,Nlayers[1],Np,D)[:2]\n",
    "    qabs = qext - qsca\n",
    "    Ttot, Rtot = rt.adm_sphere(lam2,tfilm,Nlayers,fv,D,Np)[:2]\n",
    "\n",
    "    fig, ax = plt.subplots(1,3)\n",
    "    fig.set_size_inches(12, 3)\n",
    "    plt.rcParams['font.size'] = '10'\n",
    "    \n",
    "    ax[0].plot(lam2,qsca,'-r',label='$C_\\mathrm{sca} A_c$')\n",
    "    ax[0].plot(lam2,qabs,'-b',label='$C_\\mathrm{abs} A_c$')\n",
    "    ax[0].set_xlabel('Longitud de onda ($\\mu$m)')\n",
    "    ax[0].set_ylabel('Eficiencia transversal')\n",
    "    ax[0].set_title('Partícula de plata (D=%.0f nm)' % (D*1E3))\n",
    "    ax[0].legend()\n",
    "    ax[0].set_ylim(0,10)\n",
    "    \n",
    "    ax[1].plot(lam2,Rtot,'-r',label = 'Rtot')\n",
    "    ax[1].plot(lam2,Ttot,'-b',label = 'Ttot')\n",
    "    ax[1].set_xlabel('Longitud de onda ($\\mu$m)')\n",
    "    ax[1].set_ylabel('Transmisividad')\n",
    "    ax[1].set_title(r'Sílice con plata (fv = %.3e %%)' % (fv*100) )\n",
    "    ax[1].legend()\n",
    "    ax[1].set_ylim(0,1)\n",
    "\n",
    "    Dcircle = 0.20\n",
    "    html_rgb = cs.spec_to_rgb(Ttot*AM15(lam2), out_fmt='html')\n",
    "    Circle = plt.Circle((0, 0), Dcircle, color=html_rgb)\n",
    "    ax[2].add_patch(Circle)\n",
    "    ax[2].annotate('Luz Transmitida', xy=(0, 0), va='center', ha='center')\n",
    "\n",
    "    html_rgb = cs.spec_to_rgb(Rtot*AM15(lam2), out_fmt='html')\n",
    "    Circle = plt.Circle((Dcircle*1.2*2, 0), Dcircle, color=html_rgb)\n",
    "    ax[2].add_patch(Circle)\n",
    "    ax[2].annotate('Luz Reflejada', xy=(Dcircle*1.2*2, 0), va='center', ha='center')\n",
    "\n",
    "    ax[2].set_aspect('equal')\n",
    "    ax[2].set_xlim(-Dcircle*1.2,Dcircle*1.2*3)\n",
    "    ax[2].set_ylim(-Dcircle*1.2,Dcircle*1.2)\n",
    "    ax[2].set_xticks([])\n",
    "    ax[2].set_yticks([])\n",
    "    ax[2].set_facecolor('k')\n",
    "    plt.subplots_adjust(wspace=0.3)\n",
    "    plt.show()"
   ]
  },
  {
   "cell_type": "code",
   "execution_count": 9,
   "id": "494ceeb2",
   "metadata": {
    "cell_style": "center",
    "slideshow": {
     "slide_type": "slide"
    },
    "tags": [
     "hide-input"
    ]
   },
   "outputs": [
    {
     "data": {
      "application/vnd.jupyter.widget-view+json": {
       "model_id": "6ac51fe11a75498592aea649a6fbfbe5",
       "version_major": 2,
       "version_minor": 0
      },
      "text/plain": [
       "interactive(children=(IntSlider(value=20, description='fv', min=1), IntSlider(value=70, description='D', max=2…"
      ]
     },
     "metadata": {},
     "output_type": "display_data"
    }
   ],
   "source": [
    "from ipywidgets import interact\n",
    "\n",
    "@interact(fv=(1,100,1), D = (10,200,1))\n",
    "def g(fv=20, D = 70):\n",
    "    return plot_glass_silver(fv,D)"
   ]
  },
  {
   "cell_type": "markdown",
   "id": "031ca52b",
   "metadata": {
    "slideshow": {
     "slide_type": "slide"
    }
   },
   "source": [
    "Cuando la concentración de partículas es densa, el medio se vuelve opaco. Este régimen se denomina **scattering difuso** y permite explicar, entre otras cosas, el color de las nubes o la pintura blanca\n",
    "\n",
    "<img src=\"./images/diffuse_scattering.png\" width=\"400px\" align= center>\n",
    "\n",
    "<center>Transporte de luz en un medio con scattering difuso</center>"
   ]
  },
  {
   "cell_type": "markdown",
   "id": "01df5bd6",
   "metadata": {
    "slideshow": {
     "slide_type": "slide"
    }
   },
   "source": [
    "Un ejemplo interesante corresponde a la leche. En términos simples, la leche es una emulsión formada por pequeñas partículas de grasa dispersas en un medio acuoso. \n",
    "\n",
    "<img src=\"./images/milk_microscope.png\" width=\"400px\" align= center>\n",
    "\n",
    "<center>Imagen de microscópio (40x) de leche orgánica. Las burbujas verdes corresponden al aceite en suspención en agua.</center>\n",
    "\n",
    "Fuente: [Braun K., Hanewald A. and Vilgis T. Foods 8(10): 483(2019)](https://www.ncbi.nlm.nih.gov/pmc/articles/PMC6836175/)"
   ]
  },
  {
   "cell_type": "markdown",
   "id": "225b5528",
   "metadata": {
    "slideshow": {
     "slide_type": "fragment"
    }
   },
   "source": [
    "Como aproximación, consideremos un medio de espesor $1$ cm, compuesto por agua $N_h = 1.3$ y pequeñas partículas esféricas de aceite $N_p = 1.5$. La emulsión considera un 60% de partículas de aceite por volumen."
   ]
  },
  {
   "cell_type": "code",
   "execution_count": 10,
   "id": "72cbfc3e",
   "metadata": {
    "cell_style": "center",
    "slideshow": {
     "slide_type": "slide"
    },
    "tags": [
     "hide-input"
    ]
   },
   "outputs": [],
   "source": [
    "%%capture showplot\n",
    "# import empylib.nklib as nk\n",
    "import numpy as np\n",
    "import empylib.rad_transfer as rt\n",
    "\n",
    "# Solo modificar estos parámetros\n",
    "#---------------------------------------------------------------\n",
    "lam3 = np.linspace(0.3,1.0,100)   # espectro de longitudes de onda\n",
    "tfilm = 10                        # espesor en milímetros\n",
    "fv = 0.50                         # fracción de volúmen de los poros\n",
    "D = 1.0                           # diámetro de los poros (micrones)\n",
    "Nh2o = 1.3                        # Índice de refracción del agua\n",
    "Noil = 1.5                        # índice de refracción partículas de aceite\n",
    "#---------------------------------------------------------------\n",
    "Ttot, Rtot = rt.adm_sphere(lam3,tfilm,(1.0,Nh2o,1.0),fv,D,Noil)[:2]\n",
    "\n",
    "fig, ax = plt.subplots()\n",
    "fig.set_size_inches(5, 3.5)\n",
    "plt.rcParams['font.size'] = '12'\n",
    "ax.plot(lam3,Rtot,'-r',label='R')\n",
    "ax.plot(lam3,Ttot,'-b',label='T')\n",
    "ax.set_xlabel('Longitud de onda ($\\mu$m)')\n",
    "ax.set_ylabel('Reflectividad / Transmisividad')\n",
    "ax.set_title(r'Leche (fv = %.0f %%)' % (fv*100))\n",
    "ax.legend()\n",
    "ax.set_ylim(0,1.02)\n",
    "plt.show()"
   ]
  },
  {
   "cell_type": "code",
   "execution_count": 11,
   "id": "9a1291f7",
   "metadata": {
    "cell_style": "center",
    "slideshow": {
     "slide_type": "fragment"
    },
    "tags": [
     "hide-input"
    ]
   },
   "outputs": [
    {
     "name": "stderr",
     "output_type": "stream",
     "text": [
      "<>:21: SyntaxWarning: invalid escape sequence '\\m'\n",
      "/tmp/ipykernel_1116/891576598.py:21: SyntaxWarning: invalid escape sequence '\\m'\n",
      "  ax.set_xlabel('Longitud de onda ($\\mu$m)')\n"
     ]
    },
    {
     "data": {
      "image/png": "[encoded data removed]",
      "text/plain": [
       "<Figure size 500x350 with 1 Axes>"
      ]
     },
     "metadata": {},
     "output_type": "display_data"
    }
   ],
   "source": [
    "showplot()"
   ]
  },
  {
   "cell_type": "markdown",
   "id": "6c035f58",
   "metadata": {
    "slideshow": {
     "slide_type": "slide"
    }
   },
   "source": [
    "Como vemos la alta concentración de partículas hace que la refletividad y transmisividad se vuelvan casi uniformes para todas las longitudes de onda. El espectro, así, toma un color blanco frente a una fuente de luz blanca."
   ]
  },
  {
   "cell_type": "markdown",
   "id": "17c1dc23",
   "metadata": {
    "slideshow": {
     "slide_type": "slide"
    }
   },
   "source": [
    "## Referencias\n",
    "- Chen G. **Chapter 5 - Energy Transfer by Waves** in *Nanoscale energy transport and conversion*, 1st Ed, Oxford University Press, 2005"
   ]
  }
 ],
 "metadata": {
  "celltoolbar": "Slideshow",
  "kernelspec": {
   "display_name": "Python 3 (ipykernel)",
   "language": "python",
   "name": "python3"
  },
  "language_info": {
   "codemirror_mode": {
    "name": "ipython",
    "version": 3
   },
   "file_extension": ".py",
   "mimetype": "text/x-python",
   "name": "python",
   "nbconvert_exporter": "python",
   "pygments_lexer": "ipython3",
   "version": "3.12.2"
  },
  "latex_envs": {
   "LaTeX_envs_menu_present": false,
   "autoclose": false,
   "autocomplete": false,
   "bibliofile": "biblio.bib",
   "cite_by": "apalike",
   "current_citInitial": 1,
   "eqLabelWithNumbers": true,
   "eqNumInitial": 2,
   "hotkeys": {
    "equation": "Ctrl-E",
    "itemize": "Ctrl-I"
   },
   "labels_anchors": false,
   "latex_user_defs": false,
   "report_style_numbering": false,
   "user_envs_cfg": true
  },
  "toc": {
   "base_numbering": 1,
   "nav_menu": {},
   "number_sections": false,
   "sideBar": true,
   "skip_h1_title": true,
   "title_cell": "Tabla de contenidos",
   "title_sidebar": "Contenidos",
   "toc_cell": false,
   "toc_position": {
    "height": "calc(100% - 180px)",
    "left": "10px",
    "top": "150px",
    "width": "307.2px"
   },
   "toc_section_display": true,
   "toc_window_display": false
  },
  "varInspector": {
   "cols": {
    "lenName": 16,
    "lenType": 16,
    "lenVar": 40
   },
   "kernels_config": {
    "python": {
     "delete_cmd_postfix": "",
     "delete_cmd_prefix": "del ",
     "library": "var_list.py",
     "varRefreshCmd": "print(var_dic_list())"
    },
    "r": {
     "delete_cmd_postfix": ") ",
     "delete_cmd_prefix": "rm(",
     "library": "var_list.r",
     "varRefreshCmd": "cat(var_dic_list()) "
    }
   },
   "types_to_exclude": [
    "module",
    "function",
    "builtin_function_or_method",
    "instance",
    "_Feature"
   ],
   "window_display": false
  },
  "widgets": {
   "application/vnd.jupyter.widget-state+json": {
    "state": {
     "0551a06b88854059b14b77b5efbf7ba3": {
      "model_module": "@jupyter-widgets/controls",
      "model_module_version": "2.0.0",
      "model_name": "FloatSliderModel",
      "state": {
       "_dom_classes": [],
       "_model_module": "@jupyter-widgets/controls",
       "_model_module_version": "2.0.0",
       "_model_name": "FloatSliderModel",
       "_view_count": null,
       "_view_module": "@jupyter-widgets/controls",
       "_view_module_version": "2.0.0",
       "_view_name": "FloatSliderView",
       "behavior": "drag-tap",
       "continuous_update": true,
       "description": "theta_sun",
       "description_allow_html": false,
       "disabled": false,
       "layout": "IPY_MODEL_6c631c37ba03467e97b325c0a5594bc9",
       "max": 89.99,
       "min": 0.0,
       "orientation": "horizontal",
       "readout": true,
       "readout_format": ".2f",
       "step": 0.1,
       "style": "IPY_MODEL_1a677b3bb77f4214860c3a4a9917e28e",
       "tabbable": null,
       "tooltip": null,
       "value": 0.0
      }
     },
     "062bdc2abfcf4026b6f6190fd3319897": {
      "model_module": "@jupyter-widgets/base",
      "model_module_version": "2.0.0",
      "model_name": "LayoutModel",
      "state": {
       "_model_module": "@jupyter-widgets/base",
       "_model_module_version": "2.0.0",
       "_model_name": "LayoutModel",
       "_view_count": null,
       "_view_module": "@jupyter-widgets/base",
       "_view_module_version": "2.0.0",
       "_view_name": "LayoutView",
       "align_content": null,
       "align_items": null,
       "align_self": null,
       "border_bottom": null,
       "border_left": null,
       "border_right": null,
       "border_top": null,
       "bottom": null,
       "display": null,
       "flex": null,
       "flex_flow": null,
       "grid_area": null,
       "grid_auto_columns": null,
       "grid_auto_flow": null,
       "grid_auto_rows": null,
       "grid_column": null,
       "grid_gap": null,
       "grid_row": null,
       "grid_template_areas": null,
       "grid_template_columns": null,
       "grid_template_rows": null,
       "height": null,
       "justify_content": null,
       "justify_items": null,
       "left": null,
       "margin": null,
       "max_height": null,
       "max_width": null,
       "min_height": null,
       "min_width": null,
       "object_fit": null,
       "object_position": null,
       "order": null,
       "overflow": null,
       "padding": null,
       "right": null,
       "top": null,
       "visibility": null,
       "width": null
      }
     },
     "0bddcd5af34e4585a8befc65bdcd7569": {
      "model_module": "@jupyter-widgets/base",
      "model_module_version": "2.0.0",
      "model_name": "LayoutModel",
      "state": {
       "_model_module": "@jupyter-widgets/base",
       "_model_module_version": "2.0.0",
       "_model_name": "LayoutModel",
       "_view_count": null,
       "_view_module": "@jupyter-widgets/base",
       "_view_module_version": "2.0.0",
       "_view_name": "LayoutView",
       "align_content": null,
       "align_items": null,
       "align_self": null,
       "border_bottom": null,
       "border_left": null,
       "border_right": null,
       "border_top": null,
       "bottom": null,
       "display": null,
       "flex": null,
       "flex_flow": null,
       "grid_area": null,
       "grid_auto_columns": null,
       "grid_auto_flow": null,
       "grid_auto_rows": null,
       "grid_column": null,
       "grid_gap": null,
       "grid_row": null,
       "grid_template_areas": null,
       "grid_template_columns": null,
       "grid_template_rows": null,
       "height": null,
       "justify_content": null,
       "justify_items": null,
       "left": null,
       "margin": null,
       "max_height": null,
       "max_width": null,
       "min_height": null,
       "min_width": null,
       "object_fit": null,
       "object_position": null,
       "order": null,
       "overflow": null,
       "padding": null,
       "right": null,
       "top": null,
       "visibility": null,
       "width": null
      }
     },
     "117ab9fc82894a21a4f3b40e574b7953": {
      "model_module": "@jupyter-widgets/controls",
      "model_module_version": "2.0.0",
      "model_name": "IntSliderModel",
      "state": {
       "_dom_classes": [],
       "_model_module": "@jupyter-widgets/controls",
       "_model_module_version": "2.0.0",
       "_model_name": "IntSliderModel",
       "_view_count": null,
       "_view_module": "@jupyter-widgets/controls",
       "_view_module_version": "2.0.0",
       "_view_name": "IntSliderView",
       "behavior": "drag-tap",
       "continuous_update": true,
       "description": "D",
       "description_allow_html": false,
       "disabled": false,
       "layout": "IPY_MODEL_871d1490a4a84bf9a76d02c18ad77665",
       "max": 200,
       "min": 10,
       "orientation": "horizontal",
       "readout": true,
       "readout_format": "d",
       "step": 1,
       "style": "IPY_MODEL_1b879362510b459388a78e957e6ea170",
       "tabbable": null,
       "tooltip": null,
       "value": 70
      }
     },
     "1a677b3bb77f4214860c3a4a9917e28e": {
      "model_module": "@jupyter-widgets/controls",
      "model_module_version": "2.0.0",
      "model_name": "SliderStyleModel",
      "state": {
       "_model_module": "@jupyter-widgets/controls",
       "_model_module_version": "2.0.0",
       "_model_name": "SliderStyleModel",
       "_view_count": null,
       "_view_module": "@jupyter-widgets/base",
       "_view_module_version": "2.0.0",
       "_view_name": "StyleView",
       "description_width": "",
       "handle_color": null
      }
     },
     "1b879362510b459388a78e957e6ea170": {
      "model_module": "@jupyter-widgets/controls",
      "model_module_version": "2.0.0",
      "model_name": "SliderStyleModel",
      "state": {
       "_model_module": "@jupyter-widgets/controls",
       "_model_module_version": "2.0.0",
       "_model_name": "SliderStyleModel",
       "_view_count": null,
       "_view_module": "@jupyter-widgets/base",
       "_view_module_version": "2.0.0",
       "_view_name": "StyleView",
       "description_width": "",
       "handle_color": null
      }
     },
     "2e6461d59f774563823f1877cae2c423": {
      "model_module": "@jupyter-widgets/controls",
      "model_module_version": "2.0.0",
      "model_name": "SliderStyleModel",
      "state": {
       "_model_module": "@jupyter-widgets/controls",
       "_model_module_version": "2.0.0",
       "_model_name": "SliderStyleModel",
       "_view_count": null,
       "_view_module": "@jupyter-widgets/base",
       "_view_module_version": "2.0.0",
       "_view_name": "StyleView",
       "description_width": "",
       "handle_color": null
      }
     },
     "329a0eb0efbb4d9bb6d1735087b946d5": {
      "model_module": "@jupyter-widgets/base",
      "model_module_version": "2.0.0",
      "model_name": "LayoutModel",
      "state": {
       "_model_module": "@jupyter-widgets/base",
       "_model_module_version": "2.0.0",
       "_model_name": "LayoutModel",
       "_view_count": null,
       "_view_module": "@jupyter-widgets/base",
       "_view_module_version": "2.0.0",
       "_view_name": "LayoutView",
       "align_content": null,
       "align_items": null,
       "align_self": null,
       "border_bottom": null,
       "border_left": null,
       "border_right": null,
       "border_top": null,
       "bottom": null,
       "display": null,
       "flex": null,
       "flex_flow": null,
       "grid_area": null,
       "grid_auto_columns": null,
       "grid_auto_flow": null,
       "grid_auto_rows": null,
       "grid_column": null,
       "grid_gap": null,
       "grid_row": null,
       "grid_template_areas": null,
       "grid_template_columns": null,
       "grid_template_rows": null,
       "height": null,
       "justify_content": null,
       "justify_items": null,
       "left": null,
       "margin": null,
       "max_height": null,
       "max_width": null,
       "min_height": null,
       "min_width": null,
       "object_fit": null,
       "object_position": null,
       "order": null,
       "overflow": null,
       "padding": null,
       "right": null,
       "top": null,
       "visibility": null,
       "width": null
      }
     },
     "4032629908e54505923feaeee7d497c5": {
      "model_module": "@jupyter-widgets/controls",
      "model_module_version": "2.0.0",
      "model_name": "FloatSliderModel",
      "state": {
       "_dom_classes": [],
       "_model_module": "@jupyter-widgets/controls",
       "_model_module_version": "2.0.0",
       "_model_name": "FloatSliderModel",
       "_view_count": null,
       "_view_module": "@jupyter-widgets/controls",
       "_view_module_version": "2.0.0",
       "_view_name": "FloatSliderView",
       "behavior": "drag-tap",
       "continuous_update": true,
       "description": "t",
       "description_allow_html": false,
       "disabled": false,
       "layout": "IPY_MODEL_800326db3d134d7ca38798cf8a9ddcb1",
       "max": 10.0,
       "min": -10.0,
       "orientation": "horizontal",
       "readout": true,
       "readout_format": ".2f",
       "step": 0.1,
       "style": "IPY_MODEL_4ab34b8ebc244f80a749b6dc56ddbcb1",
       "tabbable": null,
       "tooltip": null,
       "value": 0.0
      }
     },
     "49d78b6a9e3f4fa6a7e1062eb731298f": {
      "model_module": "@jupyter-widgets/controls",
      "model_module_version": "2.0.0",
      "model_name": "IntSliderModel",
      "state": {
       "_dom_classes": [],
       "_model_module": "@jupyter-widgets/controls",
       "_model_module_version": "2.0.0",
       "_model_name": "IntSliderModel",
       "_view_count": null,
       "_view_module": "@jupyter-widgets/controls",
       "_view_module_version": "2.0.0",
       "_view_name": "IntSliderView",
       "behavior": "drag-tap",
       "continuous_update": true,
       "description": "fv",
       "description_allow_html": false,
       "disabled": false,
       "layout": "IPY_MODEL_5b9e8aabef3140bb88d4971dfdd98c52",
       "max": 100,
       "min": 1,
       "orientation": "horizontal",
       "readout": true,
       "readout_format": "d",
       "step": 1,
       "style": "IPY_MODEL_2e6461d59f774563823f1877cae2c423",
       "tabbable": null,
       "tooltip": null,
       "value": 20
      }
     },
     "4ab34b8ebc244f80a749b6dc56ddbcb1": {
      "model_module": "@jupyter-widgets/controls",
      "model_module_version": "2.0.0",
      "model_name": "SliderStyleModel",
      "state": {
       "_model_module": "@jupyter-widgets/controls",
       "_model_module_version": "2.0.0",
       "_model_name": "SliderStyleModel",
       "_view_count": null,
       "_view_module": "@jupyter-widgets/base",
       "_view_module_version": "2.0.0",
       "_view_name": "StyleView",
       "description_width": "",
       "handle_color": null
      }
     },
     "4c9dc9e5d1f84131b00ae272a97c88f3": {
      "model_module": "@jupyter-widgets/output",
      "model_module_version": "1.0.0",
      "model_name": "OutputModel",
      "state": {
       "_dom_classes": [],
       "_model_module": "@jupyter-widgets/output",
       "_model_module_version": "1.0.0",
       "_model_name": "OutputModel",
       "_view_count": null,
       "_view_module": "@jupyter-widgets/output",
       "_view_module_version": "1.0.0",
       "_view_name": "OutputView",
       "layout": "IPY_MODEL_062bdc2abfcf4026b6f6190fd3319897",
       "msg_id": "",
       "outputs": [
        {
         "data": {
          "image/png": "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",
          "text/plain": "<Figure size 600x400 with 2 Axes>"
         },
         "metadata": {},
         "output_type": "display_data"
        }
       ],
       "tabbable": null,
       "tooltip": null
      }
     },
     "5b9e8aabef3140bb88d4971dfdd98c52": {
      "model_module": "@jupyter-widgets/base",
      "model_module_version": "2.0.0",
      "model_name": "LayoutModel",
      "state": {
       "_model_module": "@jupyter-widgets/base",
       "_model_module_version": "2.0.0",
       "_model_name": "LayoutModel",
       "_view_count": null,
       "_view_module": "@jupyter-widgets/base",
       "_view_module_version": "2.0.0",
       "_view_name": "LayoutView",
       "align_content": null,
       "align_items": null,
       "align_self": null,
       "border_bottom": null,
       "border_left": null,
       "border_right": null,
       "border_top": null,
       "bottom": null,
       "display": null,
       "flex": null,
       "flex_flow": null,
       "grid_area": null,
       "grid_auto_columns": null,
       "grid_auto_flow": null,
       "grid_auto_rows": null,
       "grid_column": null,
       "grid_gap": null,
       "grid_row": null,
       "grid_template_areas": null,
       "grid_template_columns": null,
       "grid_template_rows": null,
       "height": null,
       "justify_content": null,
       "justify_items": null,
       "left": null,
       "margin": null,
       "max_height": null,
       "max_width": null,
       "min_height": null,
       "min_width": null,
       "object_fit": null,
       "object_position": null,
       "order": null,
       "overflow": null,
       "padding": null,
       "right": null,
       "top": null,
       "visibility": null,
       "width": null
      }
     },
     "5ce50d4374934d2880862e353e9b192c": {
      "model_module": "@jupyter-widgets/controls",
      "model_module_version": "2.0.0",
      "model_name": "IntSliderModel",
      "state": {
       "_dom_classes": [],
       "_model_module": "@jupyter-widgets/controls",
       "_model_module_version": "2.0.0",
       "_model_name": "IntSliderModel",
       "_view_count": null,
       "_view_module": "@jupyter-widgets/controls",
       "_view_module_version": "2.0.0",
       "_view_name": "IntSliderView",
       "behavior": "drag-tap",
       "continuous_update": true,
       "description": "N",
       "description_allow_html": false,
       "disabled": false,
       "layout": "IPY_MODEL_e4b97fb4fbc04f6e969aaa4d171305e8",
       "max": 1000,
       "min": 1,
       "orientation": "horizontal",
       "readout": true,
       "readout_format": "d",
       "step": 1,
       "style": "IPY_MODEL_d67ea58c0eb34496bf6afe10627b548c",
       "tabbable": null,
       "tooltip": null,
       "value": 1000
      }
     },
     "5da27e94483046f58dfb54b73eff20cb": {
      "model_module": "@jupyter-widgets/base",
      "model_module_version": "2.0.0",
      "model_name": "LayoutModel",
      "state": {
       "_model_module": "@jupyter-widgets/base",
       "_model_module_version": "2.0.0",
       "_model_name": "LayoutModel",
       "_view_count": null,
       "_view_module": "@jupyter-widgets/base",
       "_view_module_version": "2.0.0",
       "_view_name": "LayoutView",
       "align_content": null,
       "align_items": null,
       "align_self": null,
       "border_bottom": null,
       "border_left": null,
       "border_right": null,
       "border_top": null,
       "bottom": null,
       "display": null,
       "flex": null,
       "flex_flow": null,
       "grid_area": null,
       "grid_auto_columns": null,
       "grid_auto_flow": null,
       "grid_auto_rows": null,
       "grid_column": null,
       "grid_gap": null,
       "grid_row": null,
       "grid_template_areas": null,
       "grid_template_columns": null,
       "grid_template_rows": null,
       "height": null,
       "justify_content": null,
       "justify_items": null,
       "left": null,
       "margin": null,
       "max_height": null,
       "max_width": null,
       "min_height": null,
       "min_width": null,
       "object_fit": null,
       "object_position": null,
       "order": null,
       "overflow": null,
       "padding": null,
       "right": null,
       "top": null,
       "visibility": null,
       "width": null
      }
     },
     "679e7c8cf8de415aadb3bc4db7f676b7": {
      "model_module": "@jupyter-widgets/base",
      "model_module_version": "2.0.0",
      "model_name": "LayoutModel",
      "state": {
       "_model_module": "@jupyter-widgets/base",
       "_model_module_version": "2.0.0",
       "_model_name": "LayoutModel",
       "_view_count": null,
       "_view_module": "@jupyter-widgets/base",
       "_view_module_version": "2.0.0",
       "_view_name": "LayoutView",
       "align_content": null,
       "align_items": null,
       "align_self": null,
       "border_bottom": null,
       "border_left": null,
       "border_right": null,
       "border_top": null,
       "bottom": null,
       "display": null,
       "flex": null,
       "flex_flow": null,
       "grid_area": null,
       "grid_auto_columns": null,
       "grid_auto_flow": null,
       "grid_auto_rows": null,
       "grid_column": null,
       "grid_gap": null,
       "grid_row": null,
       "grid_template_areas": null,
       "grid_template_columns": null,
       "grid_template_rows": null,
       "height": null,
       "justify_content": null,
       "justify_items": null,
       "left": null,
       "margin": null,
       "max_height": null,
       "max_width": null,
       "min_height": null,
       "min_width": null,
       "object_fit": null,
       "object_position": null,
       "order": null,
       "overflow": null,
       "padding": null,
       "right": null,
       "top": null,
       "visibility": null,
       "width": null
      }
     },
     "68742daed58a464fb04298c2e7873790": {
      "model_module": "@jupyter-widgets/output",
      "model_module_version": "1.0.0",
      "model_name": "OutputModel",
      "state": {
       "_dom_classes": [],
       "_model_module": "@jupyter-widgets/output",
       "_model_module_version": "1.0.0",
       "_model_name": "OutputModel",
       "_view_count": null,
       "_view_module": "@jupyter-widgets/output",
       "_view_module_version": "1.0.0",
       "_view_name": "OutputView",
       "layout": "IPY_MODEL_5da27e94483046f58dfb54b73eff20cb",
       "msg_id": "",
       "outputs": [
        {
         "data": {
          "image/png": "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",
          "text/plain": "<Figure size 600x300 with 1 Axes>"
         },
         "metadata": {},
         "output_type": "display_data"
        }
       ],
       "tabbable": null,
       "tooltip": null
      }
     },
     "6ac51fe11a75498592aea649a6fbfbe5": {
      "model_module": "@jupyter-widgets/controls",
      "model_module_version": "2.0.0",
      "model_name": "VBoxModel",
      "state": {
       "_dom_classes": [
        "widget-interact"
       ],
       "_model_module": "@jupyter-widgets/controls",
       "_model_module_version": "2.0.0",
       "_model_name": "VBoxModel",
       "_view_count": null,
       "_view_module": "@jupyter-widgets/controls",
       "_view_module_version": "2.0.0",
       "_view_name": "VBoxView",
       "box_style": "",
       "children": [
        "IPY_MODEL_49d78b6a9e3f4fa6a7e1062eb731298f",
        "IPY_MODEL_117ab9fc82894a21a4f3b40e574b7953",
        "IPY_MODEL_7c12789921ce422987d0588213d91980"
       ],
       "layout": "IPY_MODEL_329a0eb0efbb4d9bb6d1735087b946d5",
       "tabbable": null,
       "tooltip": null
      }
     },
     "6b94529dd2b442489acde294a1e8d67c": {
      "model_module": "@jupyter-widgets/base",
      "model_module_version": "2.0.0",
      "model_name": "LayoutModel",
      "state": {
       "_model_module": "@jupyter-widgets/base",
       "_model_module_version": "2.0.0",
       "_model_name": "LayoutModel",
       "_view_count": null,
       "_view_module": "@jupyter-widgets/base",
       "_view_module_version": "2.0.0",
       "_view_name": "LayoutView",
       "align_content": null,
       "align_items": null,
       "align_self": null,
       "border_bottom": null,
       "border_left": null,
       "border_right": null,
       "border_top": null,
       "bottom": null,
       "display": null,
       "flex": null,
       "flex_flow": null,
       "grid_area": null,
       "grid_auto_columns": null,
       "grid_auto_flow": null,
       "grid_auto_rows": null,
       "grid_column": null,
       "grid_gap": null,
       "grid_row": null,
       "grid_template_areas": null,
       "grid_template_columns": null,
       "grid_template_rows": null,
       "height": null,
       "justify_content": null,
       "justify_items": null,
       "left": null,
       "margin": null,
       "max_height": null,
       "max_width": null,
       "min_height": null,
       "min_width": null,
       "object_fit": null,
       "object_position": null,
       "order": null,
       "overflow": null,
       "padding": null,
       "right": null,
       "top": null,
       "visibility": null,
       "width": null
      }
     },
     "6c631c37ba03467e97b325c0a5594bc9": {
      "model_module": "@jupyter-widgets/base",
      "model_module_version": "2.0.0",
      "model_name": "LayoutModel",
      "state": {
       "_model_module": "@jupyter-widgets/base",
       "_model_module_version": "2.0.0",
       "_model_name": "LayoutModel",
       "_view_count": null,
       "_view_module": "@jupyter-widgets/base",
       "_view_module_version": "2.0.0",
       "_view_name": "LayoutView",
       "align_content": null,
       "align_items": null,
       "align_self": null,
       "border_bottom": null,
       "border_left": null,
       "border_right": null,
       "border_top": null,
       "bottom": null,
       "display": null,
       "flex": null,
       "flex_flow": null,
       "grid_area": null,
       "grid_auto_columns": null,
       "grid_auto_flow": null,
       "grid_auto_rows": null,
       "grid_column": null,
       "grid_gap": null,
       "grid_row": null,
       "grid_template_areas": null,
       "grid_template_columns": null,
       "grid_template_rows": null,
       "height": null,
       "justify_content": null,
       "justify_items": null,
       "left": null,
       "margin": null,
       "max_height": null,
       "max_width": null,
       "min_height": null,
       "min_width": null,
       "object_fit": null,
       "object_position": null,
       "order": null,
       "overflow": null,
       "padding": null,
       "right": null,
       "top": null,
       "visibility": null,
       "width": null
      }
     },
     "7c12789921ce422987d0588213d91980": {
      "model_module": "@jupyter-widgets/output",
      "model_module_version": "1.0.0",
      "model_name": "OutputModel",
      "state": {
       "_dom_classes": [],
       "_model_module": "@jupyter-widgets/output",
       "_model_module_version": "1.0.0",
       "_model_name": "OutputModel",
       "_view_count": null,
       "_view_module": "@jupyter-widgets/output",
       "_view_module_version": "1.0.0",
       "_view_name": "OutputView",
       "layout": "IPY_MODEL_0bddcd5af34e4585a8befc65bdcd7569",
       "msg_id": "",
       "outputs": [
        {
         "data": {
          "image/png": "iVBORw0KGgoAAAANSUhEUgAAA+wAAAFJCAYAAAABl6f8AAAAOXRFWHRTb2Z0d2FyZQBNYXRwbG90bGliIHZlcnNpb24zLjguNCwgaHR0cHM6Ly9tYXRwbG90bGliLm9yZy8fJSN1AAAACXBIWXMAAA9hAAAPYQGoP6dpAADbe0lEQVR4nOzdd3hT5RfA8W+S7pYuKLRltFD2Etl7iMhS9hKUIVMFRGSqbBkC/hwoSzaIbGUIMgSUvTeyN1RWNy1dub8/LgmEDjqSpuN8nidPkntz7z1N2tuc+77veTWKoigIIYQQQgghhBAiU9FaOwAhhBBCCCGEEEIkJAm7EEIIIYQQQgiRCUnCLoQQQgghhBBCZEKSsAshhBBCCCGEEJmQJOxCCCGEEEIIIUQmJAm7EEIIIYQQQgiRCUnCLoQQQgghhBBCZEKSsAshhBBCCCGEEJmQJOxCCCGEEEIIIUQmJAl7FjNv3jzmzJlj7TCEEDnYo0ePGDt2LIcOHbJ2KEIIIYQQ2Zok7FnItm3b6NevHyVKlDD7vnfv3o1Go2H37t1m3/eLFi1ahEaj4caNGxY9TmLq169P/fr1M/y4r3L48GHs7Oy4efOmtUPJFh4/foyzszObN2+2dijZ1sCBA1m7di3ly5dP9NzRvXt3/P39rRZfVuLv70/37t2tHUYCq1atwtPTk4iICOOyuLg4hg0bRsGCBdFqtbRq1cp6AYosafbs2RQqVIjo6GhrhyKEEFmGJOwpYEgyDTcHBweKFy9O//79uX//vtmOExkZydixYxNNmp88eUKfPn0YN25cpkw6s7PkPhdz+OKLL3j33Xfx8/MzLqtfv77x902r1eLq6kqJEiV4//332b59u9mObUi2krpNnDjR5PUhISH06dMHLy8vnJ2dadCgAcePHzdbPOaQO3duevXqxahRo6wdSpZy5swZ2rVrh5+fHw4ODuTPn59GjRoxY8YMk9dt2rSJjRs3smbNGhwdHa0Urbh37x5jx47l5MmTZt93fHw8Y8aMYcCAAbi4uBiXL1iwgGnTptGuXTsWL17Mp59+avZjp5Ver2fRokW0aNGCggUL4uzsTNmyZfnqq694+vRpivezf/9+ateujZOTE97e3gwcONDkooVBdHQ0w4cPx9fXF0dHR6pVq5bkuTml+0wvvV7P1KlTKVy4MA4ODpQvX55ff/012W1iY2MpXbo0Go2G6dOnv/IYiqIwbtw48ufPT968eRk0aBAxMTEmr4mIiCB//vwsX748wfbdu3cnJiZGegoKIUQq2Fg7gKxk/PjxFC5cmKdPn7J3715mzZrF5s2bOXv2LE5OTunef2RkJOPGjQNIkJR//vnnlCpVis8//zzdxxGpk9znkl4nT55kx44d7N+/P8G6AgUKMHnyZEC9YHPlyhXWrVvHsmXL6NChA8uWLcPW1jZdxy9VqhRLly5NsHzp0qVs27aNt956y7hMr9fTvHlzTp06xdChQ8mTJw8zZ86kfv36HDt2jGLFiqUrFnPq168fP/zwAzt37uSNN96wdjiZ3v79+2nQoAGFChWid+/eeHt7c/v2bQ4ePMj333/PgAEDAAgPD+fDDz9k7ty5yfb0+fnnn9Hr9RkVfo507949xo0bh7+/PxUqVDDrvjdu3MjFixfp06ePyfKdO3eSP39+vv32W7MezxwiIyPp0aMH1atXp1+/fuTNm5cDBw4wZswY/vrrL3bu3IlGo0l2HydPnqRhw4aUKlWK//3vf9y5c4fp06dz+fJltmzZYvLa7t27s2bNGgYNGkSxYsVYtGgRzZo1Y9euXdSuXTtN+0yvL774gilTptC7d2+qVKnC+vXr6dy5MxqNhk6dOiW6zYwZM7h161aKj/HLL78wadIkhg8fjrOzMxMnTiRfvnyMHDnS+JqJEyfi7+9P586dE2zv4OBAt27d+N///seAAQNe+ZkIIYQAFPFKCxcuVADlyJEjJssHDx6sAMry5cvTtf/4+HglKipKefjwoQIoY8aMSdf+0mLXrl0KoOzatcuixzG8l9evX7focRJTr149pV69eqnezpKfy8CBA5VChQoper3eZHm9evWUMmXKJHh9XFyc8tFHHymAMmzYMLPHY1C0aFGlWLFiJstWrlypAMrq1auNyx48eKC4u7sr7777rsViSauyZcsq77//vrXDyBKaNWumeHl5KcHBwQnW3b9/P9ltM+rckV35+fkp3bp1S/V2R44cUQBl4cKFZo+pRYsWSu3atRMsb9CgQaLnpcwgOjpa2bdvX4Ll48aNUwBl+/btr9xH06ZNFR8fHyU0NNS47Oeff1YAZevWrcZlhw4dUgBl2rRpxmVRUVFKQECAUqNGjTTtM73u3Lmj2NraKh9//LFxmV6vV+rUqaMUKFBAiYuLS7DN/fv3FTc3N2X8+PEJfp6kdOzYUenRo4fx+ZgxY5Tq1asbn1+5ckVxdHRM8H3pRUePHlUA5a+//krpjyeEEDmadIlPB0PL3fXr1wGYPn06NWvWJHfu3Dg6OlKpUiXWrFmTYDuNRkP//v355ZdfKFOmDPb29syePRsvLy8Axo0bZ+ySPHbsWADGjh2b6JXoZcuWUbVqVZycnPDw8KBu3bps27bN5FiGfbwoJeMm9+zZQ/v27SlUqBD29vYULFiQTz/9lKioqJS8PZw7d4433ngDR0dHChQowFdffZVkq9uWLVuoU6cOzs7O5MqVi+bNm3Pu3LlXHsMwXOGff/6hb9++5M6dG1dXV7p27UpwcHCy28bExDB69GgqVaqEm5sbzs7O1KlTh127dhlfc+PGjWQ/l9OnT9O9e3eKFCmCg4MD3t7efPDBBzx+/DhF79Hvv//OG2+8keJWBp1Oxw8//EDp0qX58ccfCQ0NTdF2qXH48GGuXLlCly5dTJavWbOGfPny0aZNG+MyLy8vOnTowPr16185JtHf35+3336bvXv3UrVqVRwcHChSpAhLliwxeZ3hM927dy8DBw7Ey8sLd3d3+vbtS0xMDCEhIXTt2hUPDw88PDwYNmwYiqIkOF6jRo3YuHFjouuEqatXr1KmTBnc3d0TrMubN6/J85ScOxIbw67X6/n+++8pV64cDg4OeHl50aRJE44ePWryumXLllGpUiUcHR3x9PSkU6dO3L59O0U/x927d+nZsye+vr7Y29tTuHBhPvzwQ5Muu9euXaN9+/Z4enri5ORE9erV+eOPP0z2YxgqsmrVKiZOnEiBAgVwcHCgYcOGXLly5ZVxGM7XFy5coEOHDri6upI7d24++eSTV3bPDgoKYsiQIZQrVw4XFxdcXV1p2rQpp06dMomvSpUqAPTo0cN4Xlq0aBGQvnP306dP+fPPP3nzzTeNy27cuIFGo2HXrl2cO3fOeLzt27fj6elJjx49EuwnLCwMBwcHhgwZ8spjmoOdnR01a9ZMsLx169YA/Pvvv8luHxYWxvbt23nvvfdwdXU1Lu/atSsuLi6sWrXKuGzNmjXodDqTHggODg707NmTAwcOGH9fU7NPUH9/P/jgA/Lly4e9vT1lypRhwYIFKfr5169fT2xsLB999JFxmUaj4cMPP+TOnTscOHAgwTYjRoygRIkSvPfeeyk6BkBUVBQeHh7G556enkRGRhqff/bZZ3Tq1InKlSsnuY9KlSrh6enJ+vXrU3xcIYTIyaRLfDpcvXoVUMfMAnz//fe0aNGCLl26EBMTw4oVK2jfvj2bNm2iefPmJtvu3LmTVatW0b9/f/LkycNrr73GrFmz+PDDD2ndurUxKSpfvnySxx83bhxjx46lZs2ajB8/Hjs7Ow4dOsTOnTtNujKn1erVq4mMjOTDDz8kd+7cHD58mBkzZnDnzh1Wr16d7Lb//fcfDRo0IC4ujhEjRuDs7MzcuXMTHfO6dOlSunXrRuPGjfn666+JjIxk1qxZ1K5dmxMnTqSoeFX//v1xd3dn7NixXLx4kVmzZnHz5k3jF+/EhIWFMW/ePN5991169+5NeHg48+fPp3Hjxhw+fJgKFSrg5eWV7Oeyfft2rl27Ro8ePfD29ubcuXPMnTuXc+fOcfDgwWQT8bt373Lr1i0qVqz4yp/vRTqdjnfffZdRo0axd+9e4+9WaGgosbGxr9zewcHBZFzqy3755ReABAn7iRMnqFixIlqt6XW+qlWrMnfuXC5dukS5cuWSPfaVK1do164dPXv2pFu3bixYsIDu3btTqVIlypQpY/LaAQMG4O3tzbhx4zh48CBz587F3d2d/fv3U6hQISZNmsTmzZuZNm0aZcuWpWvXribbV6pUiW+//ZZz585RtmzZV74vOZmfnx8HDhzg7NmzFnuvevbsyaJFi2jatCm9evUiLi6OPXv2cPDgQeOX+4kTJzJq1Cg6dOhAr169ePjwITNmzKBu3bqcOHEi0QsKBvfu3aNq1arGOgslS5bk7t27rFmzhsjISOzs7Lh//z41a9YkMjKSgQMHkjt3bhYvXkyLFi1Ys2aNMbkzmDJlClqtliFDhhAaGsrUqVPp0qVLiqvjd+jQAX9/fyZPnszBgwf54YcfCA4OTnCR6kXXrl3j999/p3379hQuXJj79+8zZ84c6tWrx/nz5/H19aVUqVKMHz+e0aNH06dPH+rUqQNgTFjTc+4+duwYMTExJuclLy8vli5dysSJE4mIiDAO1SlfvjytW7dm3bp1zJkzBzs7O+M2v//+O9HR0Ul2xTYw13krKf/99x8AefLkSfZ1Z86cIS4uLkGiaWdnR4UKFThx4oRx2YkTJyhevLhJEg7quRDUbvAFCxZM1T7v379P9erVjRf0vby82LJlCz179iQsLIxBgwYlG/+JEydwdnamVKlSicZ04sQJk676hw8fZvHixezduzdV3dKrVKnCzJkzad++Pc7OzsyZM8f4e7d9+3Z27tzJpUuXXrmfihUrsm/fvhQfVwghcjRrN/FnBYZu3Dt27FAePnyo3L59W1mxYoWSO3duxdHRUblz546iKIoSGRlpsl1MTIxStmxZ5Y033jBZDiharVY5d+6cyfLkul6PGTNGefHjunz5sqLVapXWrVsr8fHxJq99sXt1Uvt7uRtmYt1aX/55FEVRJk+erGg0GuXmzZsJ1r1o0KBBCqAcOnTIuOzBgweKm5ubSZf48PBwxd3dXendu7fJ9v/995/i5uaWYPnLDJ9NpUqVlJiYGOPyqVOnKoCyfv1647KXu8THxcUp0dHRJvsLDg5W8uXLp3zwwQfGZcl9Lom9R7/++qsCKP/880+yse/YsUMBlI0bNyZYl1SXeIPffvtNAZTvv//eZBvglbfkut/GxcUp+fLlU6pWrZpgnbOzs8n7YvDHH38ogPLnn38m+/P6+fkleF8ePHig2NvbK5999plxmeEzbdy4scnvco0aNRSNRqP069fPJN4CBQokOtRh//79CqCsXLky2biEomzbtk3R6XSKTqdTatSooQwbNkzZunWryd+UQUrOHd26dVP8/PyMz3fu3KkAysCBAxPsz/AZ37hxQ9HpdMrEiRNN1p85c0axsbFJsPxlXbt2VbRabaJdcQ3HMJyX9uzZY1wXHh6uFC5cWPH39zeeSw0/U6lSpUzOEd9//70CKGfOnEk2FsP5ukWLFibLDcNZTp06ZVz28vv59OnTBOf069evK/b29sr48eONy5LrEp+ec/e8efOS/BkTOy9t3bo10fNYs2bNlCJFiiR7LMM+03veSs6bb76puLq6Jjrc40WrV69O8rzdvn17xdvb2/i8TJkyCf6vK4qinDt3TgGU2bNnp3qfPXv2VHx8fJRHjx6ZvK5Tp06Km5tbop/pi5o3b57o+/3kyRMFUEaMGGFcptfrlapVqxqHMl2/fj3FXeLDwsKU2rVrGz+XMmXKKHfu3FFiY2OV0qVLK1OmTHnlPhRFUfr06aM4Ojqm6LVCCJHTSQt7KrzYRRDUVqlffvmF/PnzA5i0HgcHBxMfH0+dOnUSrdJar149SpcuneZYfv/9d/R6PaNHj07Q4mmuIi4v/jxPnjwhKiqKmjVroigKJ06coFChQkluu3nzZqpXr268ug9qK02XLl2YOXOmcdn27dsJCQnh3Xff5dGjR8blOp2OatWqmXRPT06fPn1MCrB9+OGHfP7552zevJkWLVokuo1Op0On0wFqd92QkBD0ej2VK1dOceXzF9+jp0+fEhERQfXq1QE4fvy4seUrMYZu8y92L0wpQ0tTeHi4cdk333zzymEAAL6+vkmu++uvv7h//36ixQ2joqKwt7dPsNzBwcG4/lVKly5t8p54eXlRokQJrl27luC1PXv2NPldrlatGgcOHKBnz57GZTqdjsqVK3Ps2LEE2xve1xd/r0TiGjVqxIEDB5g8eTJbt27lwIEDTJ06FS8vL+bNm5fk31BKrV27Fo1Gw5gxYxKsM3zG69atQ6/X06FDB5PPzNvbm2LFirFr164ki27q9Xp+//133nnnnUS74hqOsXnzZqpWrWrS0uji4kKfPn0YOXIk58+fN+lh0KNHD5NWY8Pv7rVr11LUE+Hjjz82eT5gwABmzpzJ5s2bk+w99eLfWHx8PCEhIbi4uFCiRIk0nZdSe+5O7XnpjTfeIE+ePKxcuZK3334bUP//bd++PUXd4c1x3krKpEmT2LFjBzNnzky2dwY8P38ldY578fyW0nNhSvepKApr166lQ4cOKIpi8vvfuHFjVqxYwfHjx6lVq1ay8af0/Lxo0SLOnDmT6JC9V8mVKxd///03Fy5cIDY2ljJlymBjY8MPP/xAdHQ0n376KefPn+fjjz/m0qVLNGjQgJkzZybojeDh4UFUVBSRkZFmKdorhBDZmSTsqfDTTz9RvHhxbGxsyJcvHyVKlDBJljdt2sRXX33FyZMnTcbzJpZAFy5cOF2xXL16Fa1Wm66k/1Vu3brF6NGj2bBhQ4IvVK8aO33z5k2qVauWYPnLlaUvX74MkGQl75f/ySfl5QrlLi4u+Pj4vHK+98WLF/PNN98Yv3wYpPTzCQoKYty4caxYsYIHDx6YrEvp+HIlDWOsDVMC5cqVy7isUqVKqd7Py3755Rd0Oh0dO3ZMsM7R0THRceqGMbkpmeIrsUTBw8Mj0S/sL7/Wzc0NgIIFCyZYntj2hvdVqhCnTJUqVVi3bh0xMTGcOnWK3377jW+//ZZ27dpx8uTJdJ1rrl69iq+vL56enkm+5vLlyyiKkuRsA8nNiPDw4UPCwsJemUQndV4ydCO+efOmyT5e/h00JLEpSTAh4XkpICAArVab7HnJMNZ/5syZXL9+nfj4eOM6w/CrV0nPudsgpeclGxsb2rZty/Lly4mOjsbe3p5169YRGxub6HnkZeY4byVm5cqVfPnll/Ts2ZMPP/zwla83nL+SOse9eH5L6bkwpft8+PAhISEhzJ07l7lz5yYan+H/i6GLv4GbmxuOjo4pjiksLIyRI0cydOjQBOfSlHr5u8ejR48YO3YsCxYsQKPR8Pbbb/P2228zbdo0Bg8ezIABA1i8eLHJPuT8LIQQKScJeypUrVo1yUIqe/bsoUWLFtStW5eZM2fi4+ODra0tCxcuTHQuUmvPX/zil8Ck1jdq1IigoCCGDx9OyZIlcXZ25u7du3Tv3t1sUzYZ9rN06VK8vb0TrLexsdyv6LJly+jevTutWrVi6NCh5M2bF51Ox+TJk431CV6lQ4cO7N+/n6FDh1KhQgVcXFzQ6/U0adLkle+R4ct3Sr/8v+js2bMAFC1a1LgsKCgowXy4iXF0dDQmvy+Kiorit99+48033yRfvnwJ1vv4+BAYGJhguWFZSlrADD0aXpZYcpDUaxNbntj2hvf1VWNXhSk7OzuqVKlClSpVKF68OD169GD16tWJto6bk16vR6PRsGXLlkQ/47SMX06v1Py+pkRKkpNJkyYxatQoPvjgAyZMmICnpydarZZBgwal6Lyb3nP3i+elAgUKpOjn6tSpE3PmzGHLli20atWKVatWUbJkSV577bVXbpve81Zitm/fTteuXWnevDmzZ89O0TY+Pj4ASZ7jXjy/+fj4cPfu3URfB8/PhSndp+Ezee+99+jWrVui8Rl6ZBj2abBw4UK6d++Oj48Pu3btQlEUk9+zl2OaPn06MTExdOzY0Xjh6M6dO4D6md+4cQNfX1+TniWvMmrUKCpWrEirVq3Ys2cPgYGBTJ06FQcHB8aNG0eTJk1YuHChSQNHcHAwTk5OVv8uJIQQWYEk7Gaydu1aHBwc2Lp1q0m3tIULF6Z4H6m50hwQEIBer+f8+fPJzsHr4eFBSEiIybKYmJhEv0C86MyZM1y6dInFixebFPPavn17iuLz8/Mztp6/6OLFiybPAwICALUS9ctDDlLj8uXLNGjQwPg8IiKCwMBAmjVrluQ2a9asoUiRIqxbt87kvX85MUnqcwkODuavv/5i3LhxjB492iSWlChZsiTwfJaBlIqPj2f58uU4OTmZdO1t06YNf//99yu379atm7Ga9Is2bNhAeHh4gmJzBhUqVGDPnj3o9XqTL16HDh3CycmJ4sWLp+rnsDTD+/pyESaRcoYLlK86X7xKQEAAW7duJSgoKMlW9oCAABRFoXDhwqn+XfLy8sLV1dV4ISspfn5+Cc5BABcuXDCuN6fLly+b9Na5cuUKer0+2UKaa9asoUGDBsyfP99keUhIiMnFp6TOS+k9d794XnpVEUmDunXr4uPjw8qVK6lduzY7d+7kiy++SNG26T1vvezQoUO0bt2aypUrs2rVqhRf9C1btiw2NjYcPXqUDh06GJfHxMRw8uRJk2UVKlRg165dhIWFmfQCMxQjNPxPTuk+vby8yJUrF/Hx8a/8P/jy52go1lmhQgXmzZvHv//+a9L6/XJMt27dIjg4OEGRT1AvFk2aNIkTJ04k+73iRadOnWLBggXGYUn37t3Dw8PD2BXf19eXmJgYHj58aHIh+Pr163JuFkKIFJJp3cxEp9Oh0WhMWq5v3LjB77//nuJ9GMZxvZxgJ6ZVq1ZotVrGjx+foMXkxdafgIAA/vnnH5P1c+fOfWULu6Fl6cV9KYrC999//8rYAJo1a8bBgwc5fPiwcdnDhw+NFcgNGjdujKurK5MmTUq0UvDDhw9TdLy5c+eabD9r1izi4uJo2rRpktsk9jMeOnQowfQ3SX0uiW0P8N1336Uo5vz581OwYMEE01olJz4+noEDB/Lvv/8ycOBAky+L33zzDdu3b3/lbdiwYYnu23AR4OVK2Qbt2rXj/v37rFu3zrjs0aNHrF69mnfeeSfR8ZPWdOzYMdzc3BL9YipMGVrmXrZ582Yg4VCW1Grbti2KojBu3LgE6wzHbdOmDTqdjnHjxiWIRVGUZKdK1Gq1tGrVio0bNyb692TYX7NmzTh8+LDJ3/iTJ0+YO3cu/v7+Zh9i9NNPP5k8nzFjBsArz0sv//yrV69O0KLr7OwMpOy8lJpzd6VKlbCzs0vVeUmr1dKuXTs2btzI0qVLiYuLS1F3eEj/eetF//77L82bN8ff359NmzYl23p74cIFbt26ZXzu5ubGm2++ybJly0xqgyxdupSIiAjat29vXNauXTvi4+NNuq9HR0ezcOFCqlWrZuxqntJ96nQ62rZty9q1axO96PTi/8E333zT5GZocW/ZsiW2trYmNWIURWH27Nnkz5/fWMl94MCB/Pbbbya3OXPmAOp0jL/99luqhux98skn9OrVyziUJF++fDx8+JCgoCBA/UxsbGwS9HQ6fvx4otPwCSGESEha2M2kefPm/O9//6NJkyZ07tyZBw8e8NNPP1G0aFFOnz6don04OjpSunRpVq5cSfHixfH09KRs2bKJjsssWrQoX3zxBRMmTKBOnTq0adMGe3t7jhw5gq+vr3HanV69etGvXz/atm1Lo0aNOHXqFFu3bn1lN+GSJUsSEBDAkCFDuHv3Lq6urqxduzbF3beHDRvG0qVLadKkCZ988olxWjc/Pz+T98PV1ZVZs2bx/vvvU7FiRTp16oSXlxe3bt3ijz/+oFatWvz444+vPF5MTAwNGzakQ4cOXLx4kZkzZ1K7du1ki2W9/fbbrFu3jtatW9O8eXOuX7/O7NmzKV26tHGMOCT/udStW5epU6cSGxtL/vz52bZtW6pazFu2bMlvv/2WoBsjqGNNly1bBkBkZCRXrlxh3bp1XL16lU6dOjFhwgST16dnLGhQUBBbtmyhbdu2SXY9bteuHdWrV6dHjx6cP3+ePHnyMHPmTOLj4xNNxKxt+/btvPPOOzJGMgUGDBhAZGQkrVu3pmTJksTExLB//35WrlyJv79/ovNsp0aDBg14//33+eGHH7h8+bJxyMiePXto0KAB/fv3JyAggK+++oqRI0dy48YNWrVqRa5cubh+/Tq//fYbffr0SbaI2aRJk9i2bRv16tWjT58+lCpVisDAQFavXs3evXtxd3dnxIgR/PrrrzRt2pSBAwfi6enJ4sWLuX79OmvXrk1QwDO9rl+/TosWLWjSpAkHDhxg2bJldO7cOdmu4m+//Tbjx4+nR48e1KxZkzNnzvDLL79QpEgRk9cFBATg7u7O7NmzyZUrF87OzlSrVi3d524HBwfeeustduzYwfjx41P8s3bs2JEZM2YwZswYypUrl+LWU3ONYQ8PD6dx48YEBwczdOhQ/vjjD5P1AQEB1KhRw/i8VKlS1KtXj927dxuXTZw4kZo1axp/h+7cucM333zDW2+9RZMmTYyvq1atGu3bt2fkyJE8ePCAokWLsnjxYm7cuJGgZ0RK9zllyhR27dpFtWrV6N27N6VLlyYoKIjjx4+zY8cOYwKclAIFCjBo0CCmTZtGbGwsVapU4ffff2fPnj3G2iSgTqf28lSihq7xZcqUoVWrVq98rw1Wr17N6dOnWbt2rXFZjRo1yJcvH+3bt6dNmzZMnz7deDHO4NixYwQFBdGyZcsUH0sIIXK0jChFn9UZpplKbLqgF82fP18pVqyYYm9vr5QsWVJZuHBhgunYFEWdau3jjz9OdB/79+9XKlWqpNjZ2ZlMJZbYfhRFURYsWKC8/vrrir29veLh4aHUq1dP2b59u3F9fHy8Mnz4cCVPnjyKk5OT0rhxY+XKlSspmprp/Pnzyptvvqm4uLgoefLkUXr37q2cOnUqyamEXnb69GmlXr16ioODg5I/f35lwoQJyvz5802mdXvx+I0bN1bc3NwUBwcHJSAgQOnevbty9OjRZI9h+Gz+/vtvpU+fPoqHh4fi4uKidOnSRXn8+LHJa1+e1k2v1yuTJk1S/Pz8FHt7e+X1119XNm3alGBKKkVJ+nO5c+eO0rp1a8Xd3V1xc3NT2rdvr9y7dy/JaeBedvz48QTTTBli5YUpjVxcXJRixYop7733nrJt27ZX7je1Zs+erQDKhg0bkn1dUFCQ0rNnTyV37tyKk5OTUq9evVf+XRj4+fkpzZs3T7D85c8lqb83w9/Aw4cPTZZ369ZNcXZ2Nln277//GqdiFK+2ZcsW5YMPPlBKliypuLi4KHZ2dkrRokWVAQMGKPfv3zd5bVqmdVMUdQq+adOmKSVLllTs7OwULy8vpWnTpsqxY8dMXrd27Vqldu3airOzs+Ls7KyULFlS+fjjj5WLFy++8ue4efOm0rVrV8XLy0uxt7dXihQponz88ccmU7NdvXpVadeuneLu7q44ODgoVatWVTZt2mSyH8PPtHr1apPlhumvXnX+M/yunj9/XmnXrp2SK1cuxcPDQ+nfv78SFRVl8trEpnX77LPPFB8fH8XR0VGpVauWcuDAgQR/J4qiKOvXr1dKly6t2NjYmMSV3nP3unXrFI1Go9y6dctkeXLTTer1eqVgwYIKoHz11VevPIa5GT6bpG4vTwsHJDod5J49e5SaNWsqDg4OipeXl/Lxxx8rYWFhCV4XFRWlDBkyRPH29lbs7e2VKlWqJDm1ZUr3ef/+feXjjz9WChYsqNja2ire3t5Kw4YNlblz56boPYiPjzf+T7Ozs1PKlCmjLFu27JXbpWZaN4PIyEjFz89P+eGHHxKsO3LkiFKxYkUlV65cyjvvvKM8ePDAZP3w4cOVQoUKmUzbKYQQImkaRUlj9RwhMoFFixbRo0cPjhw5kmRBwMyuYcOG+Pr6snTpUmuHkm0MGjSIf/75h2PHjkkLu8hwY8eOZdy4cTx8+DBLFj2Mj4+ndOnSdOjQIUFPHiHSIzo6Gn9/f0aMGMEnn3xi7XCEECJLkDHsQljZpEmTWLlyJTdv3rR2KNnC48ePmTdvHl999ZUk60KkgU6nY/z48fz0008mw4OESK+FCxdia2tLv379rB2KEEJkGZkqYY+IiGDMmDE0adIET09PNBpNklVh//33X5o0aYKLiwuenp68//77KS5QJkRmUq1aNWJiYsxeoTqnyp07NxEREcnOEJDVpeZcmZiQkBD69OmDl5cXzs7ONGjQgOPHj1suYJHldOzYkaCgIKtMpyeyr379+nHr1q1MV6RUCCEys0yVsD969Ijx48fz77//JluU586dO9StW5crV64wadIkhgwZwh9//EGjRo1SNJ+rEEJkZSk9VyZGr9fTvHlzli9fTv/+/Zk6dSoPHjygfv36KZ6SUAghhBBCZIxMNYY9Ojqa4OBgvL29OXr0KFWqVGHhwoV0797d5HUfffQRixYt4sKFCxQqVAiAHTt20KhRI+bMmUOfPn2sEL0QQmSMlJ4rE7Nq1So6duzI6tWradeuHaBOG1W8eHGaNm3K8uXLLRy9EEIIIYRIqUzVwm5vb4+3t/crX7d27VrefvttY7IO6tykxYsXZ9WqVZYMUQghrC6l58rErFmzhnz58tGmTRvjMi8vLzp06MD69euJjo42V5hCCCGEECKdMlXCnhJ3797lwYMHiVYEr1q1KidOnLBCVEIIkTWcOHGCihUrJphzvGrVqkRGRnLp0iUrRSaEEEIIIV5mY+0AUiswMBAAHx+fBOt8fHwICgoiOjo60YIm0dHRJq1Her2eoKAgcufOLdWkhcjBFEUhPDwcX1/fBIlsdhMYGEjdunUTLDecU+/du0e5cuUSrJfzpxAiMTnp/CmEENaQ5RL2qKgogEQTcgcHB+NrEls/efJkxo0bZ9kAhRBZ1u3btylQoIC1w7CopM6PL54/EyPnTyFEcnLC+VMIIawhyyXsjo6OAImOs3z69KnJa142cuRIBg8ebHweGhpKoUKFuH37Nq6urhaIVgiRFYSFhVGwYEFy5cpl7VAsztHRUc6fQgizyUnnTyGEsIYsl7Abum0ausa/KDAwEE9PzyTn97S3t090naurq3zhFELkiK7dPj4+SZ4/AXx9fRPdTs6fQojk5ITzpxBCWEOWG2yUP39+vLy8OHr0aIJ1hw8fpkKFChkflBBCZBEVKlTg+PHj6PV6k+WHDh3CycmJ4sWLWykyIYQQQgjxsiyXsAO0bduWTZs2cfv2beOyv/76i0uXLtG+fXsrRiaEEJlHYGAgFy5cIDY21risXbt23L9/n3Xr1hmXPXr0iNWrV/POO+8k2UNJCCGEEEJkvEzXJf7HH38kJCSEe/fuAbBx40bu3LkDwIABA3Bzc+Pzzz9n9erVNGjQgE8++YSIiAimTZtGuXLl6NGjhzXDF0KIDJGSc+XIkSNZvHgx169fx9/fH1AT9urVq9OjRw/Onz9Pnjx5mDlzJvHx8VJUTgghhBAik9EoiqJYO4gX+fv7c/PmzUTXvfil89y5cwwePJi9e/diZ2dH8+bN+eabb8iXL1+KjxUWFoabmxuhoaEyBlNkOEVRiIuLIz4+3tqhZHs6nQ4bG5skx1hmxXNBSs6V3bt3T5CwAwQHBzN06FB+//13oqKiqFKlCtOnT6dy5copPn5WfM+EEOYn5wIhhLCsTJewZyT5JyOsJSYmhsDAQCIjI60dSo7h5OSEj48PdnZ2CdbJuSD15D0TQoCcC4QQwtIyXZd4IbI7vV7P9evX0el0+Pr6YmdnJ9V1LUhRFGJiYnj48CHXr1+nWLFiaLVZsnyHEEIIIYTIYSRhFyKDxcTEoNfrKViwIE5OTtYOJ0dwdHTE1taWmzdvEhMTg4ODg7VDEkIIIYQQ4pWkmUkIK5FW3owl77cQQgghhMhq5BusEEIIIYQQQgiRCUnCLlJu+HAICIAvv4S7d60djRBCCCGEEEJka5Kwi5R5+hS+/x6uXYOJE8HfH5Yvt3ZUQgghhBBCCJFtScIuUubgQYiOhty5oWpViIuDhQutHZWwkmPHjtGpUyd8fX1xcHCgaNGivPfee5w7d87sxzpx4gS2trbUr1/f7PsWQgghhBAiM5OEXaTMzp3qfePG8PPP6uODByE+3noxCav4+eefqVatGm5ubqxbt46LFy8yZ84cwsPDWW6BXhcDBw5kyJAhnDp1yuz7FkIIIYQQIjOTad1EyhgS9jfegDJlwNUVwsLgzBmoUMGqoYmMs3fvXvr168ePP/7Ihx9+aFzu5+dHw4YNCQoKMuvxli9fjoeHBx9//DFTpkzhxo0b+Pv7m/UYQgghhBBCZFaSsItXe/IEDh1SHzdoADodVK8O27bB/v2SsKeXokBkpHWO7eQEGk2KXz548GDq1atnkqy/yNPT01yR8eTJEz7//HO2bNlCgQIFcHNz4+TJk5KwCyGEEEKIHEMSdvFqe/eqY9b9/KBwYXVZzZpqwr5vH3z0kXXjy+oiI8HFxTrHjogAZ+cUvfTff//lyJEjrFmzxsJBqSZNmkSTJk0oVaoUAKVLl+bkyZO0atUqQ44vhBDZTnw8REWphWQNt+jo5/cxMerNzg6kbogQQmQKkrCLV9u1S71v0OB5a2zNmur9/v3WiUlkuOPHjwNQqVIlix/r2rVrzJkzh7NnzxqXlS1blpMnT1r82EIIYTV6vdqrLTzc9BYRoS6PiHh+e/JEveBruH/xFhWl3gyPIyPVpDwuLmVxBATAlSuW/VmFEEKkiCTs4tVeHL9uUK0aaLVw4wbcuwe+vlYJLVtwclK/fFnr2CkU+azbvksyvQEiIiJo164dd+/eBWD69Ok0btyYBQsW8N1336HRaGjUqBHTp08H4O233yYwMJDo6GhGjhxJly5dAPj00095/PgxBQoUMO5br9dTqFAh4/ObN2/Sv39/7ty5Q2xsLJs3bzZZL4QQVhETA48fq7egINNbSAgEB0NoqPrYcB8SotaFCQ9Xh0llBFtbcHAAe/vn93Z26q1gwYyJQQghxCtJwi6SFxoKx46pjxs0eL7c1RXKlYNTp9RW9nbtrBNfdqDRpLhbujWVLVsWgD179tC6desE66Oioti6dSu5c+fmzz//RFEUwsPDOXPmDN9++y179uzB3d3dpDDdkiVL8PT05MmTJ1SpUoV27drx999/s2/fPk6cOIGNzfNT1JEjR/jggw8ICQnBycmJZs2a8dNPP1G/fn2Cg4OTvZAghBDpEhEBgYHq7b//nt/u34cHD9Tbw4fw6JGadKeXTge5cqk3Fxf13tlZfezi8vyxk5P62Mnp+c3RMeG94ebgoN7b26vHEEIIkelJwi6Sd+yY2kWvcGF4obUTgFq1JGHPQWrUqMFbb73FRx99REREBDVq1ECv13PkyBFmzZrF3LlzKVeuHIMGDWLYsGG0bt2aGjVqsGvXLjp27Ii7uztgWpju22+/ZcOGDQDcunWLW7duMWjQIIYOHUqFl4oZurq6AnDy5Enu379P9erVjXOze3h4WPznF0JkU7GxcPs2XL8Ot27BzZvq8zt31Pu7d9XW79TQaMDTE3LnVm+enuDhod7c3J7fu7urN1dX9bmrq3pzdExVQVAhhBDZlyTsInmGMWzPCn+ZqFkTZs5UC8+JHGH9+vV8++23TJ06lWvXruHg4EDRokV55513KFmyJFqtlpMnT7Jp0yYGDx5s7OKemF27drFv3z4OHTqEg4MDlStXZsWKFTx+/Jj+/fsneH3BggVxcnLi5MmTPHr0iKpVq1ryRxVCZCfx8XDtGly4ABcvwqVLcPWqert9W70w/SrOzuDjow4B8/aGfPme37y8IG9eyJNHTdDd3dVhY0IIIUQ6ScIuknf5snpfrFjCdYbCcydOqIVsbOTXKbtzcHBg5MiRjBw5MtH19+7dw9PTk27duuHg4MD27dsZNGgQ7777LgMGDMDNzY2goCA8PT0JCwsjd+7cODg4cPLkSU6dOsWiRYsYNWpUovvWaDQ8efIEgBkzZhgL0sXHxxMaGmrWKeWEEFmUoqgt4idPqj3Azp6F8+fVJD06OuntHBzA31+dDaVQIXUMd8GCas+y/PnV27NePkIIIURGkgxLJM+QsBctmnCdn586Di46Wu1GWKRIxsYmMp0zZ84wZMgQdDodjo6OzJ8/n9KlS/PJJ59Qq1YtbGxseOutt5g6dSpNmjRh1qxZlC5dmjJlyqSq+nz37t3p2LEjZcuWxdbWllmzZlG9enUL/mRCiEwpMBAOH1Zvx46pt0ePEn+tgwOULAklSkDx4ur/taJF1f9d+fJJF3QhhBCZkiTsInmGLvGJtbBrterUL+fPq90KJWHP8Ro3bkzjxo0TLO/Vqxe9evUyWWZvb8+ff/6ZpuPkypWLzZs3p2lbIUQWpShqt/Zdu+Cff2DvXnXc+ct0OihdGl57DcqWhTJl1Of+/tJNXQghRJYjCbtIml6vJuKQeAs7PE/Yr1yBRo0yLjYhhBDZ3+PHsH27etuxQ+3N9SKtVk3Iq1aFypWhUiV1BhMHB+vEK4QQQphZihL2f/75J007r1u3bpq2E5nE3bvw9Kk6Nt3PL/HXGBJ5Q2IvhBBCpMfVq7B2LWzYAAcOmBaEs7WFatWgfn2oUwdq1FCnPBNCCCGyqRQl7PXr10eTirFdiqKg0WiIj49Pc2AiEzCMXy9SJOmCcgEB6r2h67wQQgiRWnfvwq+/wvLlaiHTF5UtC2+9pfbiqlNHrdYuhBBC5BApSth37dpl6ThEZpRcwTkDwzpJ2IUQQqRGdDSsXw/z5qnd3RVFXa7TQYMG0Lo1vP22WrVdCCGEyKFSlLDXq1fP0nGIzCi5gnMGhhb2a9fUbotS0EcIIURy7tyB2bNh7lx4+PD58tq1oUsXaNdOnc9cCCGEEFJ0TiQjuTnYDfz81NaQqCh1ep38+TMmNiGEEFnLuXMwZYra9d0wZM7XF3r0gA8+kJlGhBBCiESkOWF/+vQpa9eu5fjx44SGhqJ/sSgMoNFomD9/froDFFZkaGFPrku8ra2atF+7phYKkoRdCCHEiy5ehM8/h3Xrni+rWxcGDoSWLZOukSKEEEKItCXsN2/epEGDBty4cQN3d3dCQ0Px9PQkJCSE+Ph48uTJg4uLi7ljFRnpxSndkmthBzWhv3ZNTfBlZgAhhBCgdncfPRp+/lltUddooE0bGDFCnYJNCCGEEK+UpgHHQ4cOJTQ0lIMHD3Lp0iUURWHlypVERETw9ddf4+joyNatW80dq8hId+48n9LtVQV/DOPYZWo3IYQQsbHw3Xfqxd7Zs9VkvUULOHsW1qyRZF0IIYRIhTQl7Dt37uSjjz6iatWqaJ8VGVMUBXt7e4YOHUrDhg0ZNGiQOeMUGc3QHT65Kd0MpFK8EEIIgEOHoFIl+PRTCA2F11+Hv/9Wq8GXLm3t6IQQQogsJ00Je2RkJP7+/gC4urqi0WgIDQ01rq9RowZ79+41S4DCSlJScM5AWthznGPHjtGpUyd8fX1xcHCgaNGivPfee5w7d84ixztx4gS2trbUr1/fIvsXQqTT06dqkl6jBpw5A7lzq1XgjxyRoVJCCCFEOqQpYS9UqBB37twBwMbGhvz583Pw4EHj+vPnz+Pg4GCeCIV1pKTgnMGLLeyGeXRFtvXzzz9TrVo13NzcWLduHRcvXmTOnDmEh4ezfPlyixxz4MCBDBkyhFOnTllk/0KIdLh4EapXV7vBKwq8/z5cuAC9e6uziAghhBAizdJUdO6NN95g/fr1jBkzBoDu3bszefJkgoOD0ev1LF26lK5du5o1UJHBbt5U7wsXfvVrDVPxhIZCUJDasiKypb1799KvXz9+/PFHPvzwQ+NyPz8/GjZsSFBQkNmPuXz5cjw8PPj444+ZMmUKN27cMPbwEUJY2a+/qon5kyfg5QWLFkGzZtaOSgghhMg20tTCPmLECL744guio6MB+Pzzz+nWrRtr1qxh/fr1dO7cmf/9739mDfRlly9fplOnThQoUAAnJydKlizJ+PHjiYyMtOhxc4zbt9X7ggVf/VpHx+fTuck49mxt8ODB1KtXzyRZf5Gnp6dZj/fkyRM+//xzvv76awoUKICbmxsnT5406zGyoujoaIYPH46vry+Ojo5Uq1aN7du3p2jbHTt20KBBA/LkyYO7uztVq1Zl6dKlFo74Fc6dAxlGlbXExcHgwdC5s5qsN2gAJ09Ksi6EEEKYWZpa2AsVKkShFyqHOzg4MG/ePObNm2e2wJJz+/ZtqlatipubG/3798fT05MDBw4wZswYjh07xvr16zMkjmzt2ZAHChRI2esDAuDuXXUce7VqlosrG1IUsNZ1JicndaallPj33385cuQIa9asSfVxbty4Qbt27Th69Giqtps0aRJNmjShVKlSAJQuXZqTJ0/SqlWrVMeQnXTv3p01a9YwaNAgihUrxqJFi2jWrBm7du2idu3aSW63YcMGWrVqRY0aNRg7diwajYZVq1bRtWtXHj16xKeffpqBP8UzISFQu7Z6f+CA2rVaZG4REer0bIaLRCNHwoQJ0v1dCCGEsIA0JexJiYmJITY2FmdnZ3PuNoGlS5cSEhLC3r17KVOmDAB9+vRBr9ezZMkSgoOD8fDwsGgM2VpcHNy7pz5OSQs7PJ/6zdAyL1IsMhJcXKxz7IgISOmf6/HjxwGoVKmSBSN67tq1a8yZM4ezZ88al5UtWzbHt7AfPnyYFStWMG3aNIYMGQJA165dKVu2LMOGDWP//v1Jbvvjjz/i4+PDzp07sbe3B6Bv376ULFmSRYsWWSdhnzlTTdYBhg1TK4qn9CqSyHiPH0Pz5mo1eGdnWLJETd6FEEIIYRFp6hK/YsWKBF/sxo0bh4uLC+7u7rRu3ZqIiAizBJiYsLAwAPLly2ey3MfHB61Wi52dncWOnSMEBoJer07n9tJ7nCRDYi8Je7ZlGG7i8oqrC2+//TaVKlWibNmy/PLLL8blMTExdOjQgVKlStGtWzfi4uKIiIigSZMmlCtXjnLlyrF161bj6z/99FMeP35MgQIFsLGxwcbGhnnz5pkk7Ddv3uSdd97h9ddfp2zZsty6dcu8P3QmtGbNGnQ6HX369DEuc3BwoGfPnhw4cIDbyfwNhoWF4eHhYUzWQS0cmidPHhwdHS0ad6IiI+Hbb58/37MH/vgj4+MQKfPff1Cvnpqse3rCzp2SrAshhBAWlqaE/ZtvvuHJkyfG5/v372fcuHE0btyYTz/9lD///JOJEyeaLciXGaZ26tmzJydPnuT27dusXLmSWbNmMXDgQIu38Gd7hu7w+fODNoW/IpKwp5mTk9rSbY2bk1PK4yxbtiwAe/bsSXR9VFQUAEuWLOHYsWMcOnSIiRMnGmtdnD17lmHDhvHvv/8SGxvLsmXL2Lp1K7lz5+bMmTOcPn2aGjVqALBt2zb27dvHiRMnOHnypPE2f/58bt68SUhICDExMTRr1ozPPvuMEydOsGfPHnx8fNLxSWQNJ06coHjx4ri6uposr1q1KkCyPRDq16/PuXPnGDVqFFeuXOHq1atMmDCBo0ePMmzYMEuGnbh58+DRI7W45eDB6rIRIyA+PuNjEcm7dw/q11frDfj6wj//wLPfOSGEEEJYTpq6xF+9epVu3boZny9fvhxvb29+++03bGxs0Ov1rF27lsmTJ5st0Bc1adKECRMmMGnSJDZs2GBc/sUXX/DVV18luV10dLQxeYDnLfXiJakpOGcgCXuaaTQp75ZuTTVq1OCtt97io48+IiIigho1aqDX6zly5AizZs1i7ty5lC5dmm+//db4d3nr1i1u3bqFra0tRYsWpXLlygB06tSJDRs2MGzYMAYNGsSwYcNo3bo1NWrUIDY2lkGDBjF06FAqVKhgEoMhST158iT379+nevXqxgt4OWUYTGBgYKIXJgzL7hmGsyRi1KhRXL9+nYkTJxrPlU5OTqxdu5aWLVsme1yznz9jYmDaNPXx8OHQoQMsXKgmhL/8AjLTSOZhSNYvX1bP9bt2qXVLhBBCCGFxaUrYo6OjTeZZ37ZtG02bNsXGRt1d6dKlmTlzpnkiTIK/vz9169albdu25M6dmz/++INJkybh7e1N//79E91m8uTJjBs3zqJxZQupLTgHkrDnEOvXr+fbb79l6tSpXLt2DQcHB4oWLco777xDyZIl2bVrF/v27ePQoUM4ODhQuXJloqOjsbW1RfPCuGSNRoNGo6F48eKcPHmSTZs2MXjwYLp06UJsbCyPHz9O9O+4YMGCODk5cfLkSR49emRsVc5JoqKiTLq0GxjOyYaeDomxt7enePHitGvXjjZt2hAfH8/cuXN577332L59O9WTKfhm9vPnli3qucbHB7p1AwcHdQz7yJHwv/+pc3nLWHbrCw+Hpk3VZN3PT03WUzLdpxBCCCHMIk0Je+HChdmxYwe9evXi6NGjXLlyxaQL/P379185zjU9VqxYQZ8+fbh06RIFniWVbdq0Qa/XM3z4cN59911yJzIX+MiRIxls6HaJ2kJUMDWtyDlFelrYHz2CqCh1qjeR7Tg4ODBy5EhGjhyZ6PqwsDBy586Ng4MDJ0+e5NSpU8Z1ly9f5vjx41SsWJGVK1fSqFEj7t27h6enJ926dcPBwYHt27czb968JIufaTQa43CcGTNmGAvSxcfHExoaavZp5TIjR0dHk5Zug6dPnxrXJ6V///4cPHiQ48ePo3023KVDhw6UKVOGTz75hEOHDiW5rdnPn4cPq/fNm6vJOkCfPjB+PJw6pU7zVqdO2vcv0i8uDjp2hNOn1XomkqwLIYQQGS5NY9j79u3LqlWrKF++PG+99RYFChTg7bffNq7ft2+fsXq7JcycOZPXX3/dmKwbtGjRgsjISE6cOJHodvb29ri6uprcRCLS0sLu4fF8QPTdu+aPSWQJTZo0ITw8nNKlSzNx4kSTivJly5bl66+/plSpUmi1Wjp37syZM2eoUqUKFSpU4LvvvjNJCF+le/fuXL16lbJly1K5cmUuXbpkiR8p0/Hx8SEwMDDBcsMyX1/fRLeLiYlh/vz5NG/e3JisA9ja2tK0aVOOHj1KTExMksc1+/nz2DH1vmLF58s8PaFLF/XxjBnp279Iv0GD1J4Qjo6wcaMk60IIIYQVpKmFfcCAATg4OLB582YqVarE8OHDja06QUFB/Pfff/Tr18+sgb7o/v37iY5XjY2NBSAuLs5ix84R0tLCrtGor794Ud2+aFHLxCYyNXt7e/78889E150+fTrBssaNG9O4ceM0HStXrlxs3rw5TdtmZRUqVGDXrl2EhYWZJM2G1vGXx/0bPH78mLi4OOITKegWGxuLXq9PdJ1FKAo8myaQl6cJHDBALUa3bp168TA1Fw6F+SxYAD/9pJ7bf/kFqlSxdkRCCCFEjpTqhD02NpZ///2Xpk2b0rt37wTrPT09OXr0qFmCS0rx4sXZtm0bly5donjx4sblv/76K1qtlvLly1v0+NleWhJ2w+sNCbsQwiLatWvH9OnTmTt3rnEe9ujoaBYuXEi1atWM3dRv3bpFZGQkJUuWBCBv3ry4u7vz22+/MX78eOP0lxEREWzcuJGSJUtm3NRud+7Aw4eg00G5cqbrypdXpw77+2+YPRuSKSQqLOToUfjoI/Xx+PHQurV14xEim9Hr9dy7d49cuXKZ1HcRQuQciqIQHh6Or6+vSc/HxKQ6YddqtVSqVIlvvvmGgQMHpjnI9Bg6dChbtmyhTp069O/fn9y5c7Np0ya2bNlCr169kuwSKlIgNladhx1S37IlheeEsLhq1arRvn17Ro4cyYMHDyhatCiLFy/mxo0bzJ8/3/i6rl278vfff6MoCgA6nY4hQ4bw5ZdfUr16dbp27Up8fDzz58/nzp07LFu2LON+CEPrepkyide7GDBATdjnzoXRo+HZxQWRAR4/hrZtIToaWrSAzz+3dkRCZDv37t2TGkpCCABu376dYJj3y1KdsOt0Ovz8/BItepRR6taty/79+xk7diwzZ87k8ePHFC5cmIkTJ1pnLuHsJDBQ7a5qawt586ZuW0nYhcgQS5YsYdSoUSxdupTg4GDKly/Ppk2bqFu3brLbffHFFxQuXJjvv/+ecePGER0dTfny5VmzZg1t27bNoOhJfPz6i1q2VOf6vncPfv9dnfJNZIwBA+DWLShWDJYsgVdc9RdCpF6uXLmsHYIQIpNIyfkgzWPYf/zxR3r27Gm1qsxVq1bNkeNXLc5QcC5//tR/UTNcHZKEXQiLcnBwYNq0aUwzzGOeiN27dye6vHPnznTu3NlCkaVQUuPXDWxsoGdPmDBB7RYvCXvGWLsWfv1VHaqwfDm4uVk7IiGyJekGL4QwSMn5IE0Je3x8PPb29gQEBNCuXTv8/f0TjH3UaDRJTs0kMrG0jl9/cRtJ2IUQyXlVCztAr14wcaI6ldilS/BCvRJhAQ8fwocfqo9HjIDKla0bjxBCCCGANCbshkJHgMmYyRdJwp5FpWVKNwNJ2FPFMLZYZIyMeL+XLFmSpu26du1q5kgyscBA+O8/tQfPa68l/bpChaBpU/jjD3Us+/TpGRdjTjRokJq0lysHo0ZZOxohhBBCPJOmhP369evmjkNkFuZoYQ8JgYgIcHExW1jZia2tLQCRkZEZV5VbEBkZCTx//y2he/fuCZYZujq9fMHgxS5QOSphN7SulywJzs7Jv7ZvXzVhX7RIrRbv4GDx8HKk3bvVLvBaLSxcCPb21o5ICCGEEM+kKWH38/Mzdxwis0hPwu7qqt7CwtT9lCpl3tiyCZ1Oh7u7Ow8ePADAyclJxrNZkKIoREZG8uDBA9zd3dHpdBY71ssXM0NCQujWrRtubm4MGDCAEiVKAHDhwgVmzJhBeHg4ixcvtlg8mdKrxq+/qFkztbfPnTvqvOzWHnufHcXGwscfq4/79UvZ5yKEEEKIDJOmhN3g7t27/PPPPzx48IC2bdtSoEAB4uPjCQ0Nxc3NzaJfjIWFpKdLPKiJ/rlzkrC/gre3N4AxaReW5+7ubnzfLeXli5ljx47Fy8uLbdu2mVyUKVeuHG3btuWtt97i22+/ZeHChRaNK1MxJOzJjV830OnUsexjx6rd4iVhN78ZM+D8eciTR+a8F0IIITKhNCXsiqLw2Wef8eOPPxIXF4dGo6FcuXIUKFCAiIgI/P39GT9+PIMGDTJzuMLi0tPCbtjOkLCLJGk0Gnx8fMibNy+xsbHWDifbs7W1tcoFxN9//52JEycm2oNCq9XSpk0bvvzyywyPy6rOnlXvy5dP2et79oTx49V52S9cULvSC/N4+FC9GAIwZQp4eFg1HCGEEEIklKaEfdq0aXz//fcMHz6chg0b0qhRI+M6Nzc32rRpw9q1ayVhz2piY9ViUKBO65YWhkTf0FIvkqXT6aQnSjamKAoXLlxIcv358+dzVvHByEi4dk19XLZsyrYpUACaN4eNG+Hnn+GbbywXX04zZQqEh6u9HXr0sHY0QohsSqfT4pHPnTy+njjlckBna4PORoc+Xk98XDzRUTEE/RfM48BgoqNirB2usAAN4OVsh4+LAx4OttjqtNhoNSgKxOr1xMTruf8kmsDwaMJj4qwdbqaTpoT9559/pmvXrkyaNInHjx8nWF++fHm2bNmS7uBEBgsMBEUBW1vImzdt+5BK8UIYtWrVilmzZuHv70+/fv1wcnIC1AJ4s2bNYs6cOXTp0sXKUWagf/9VzzF58qTuHNO3r5qwL1qkTvUmxefS784d+Okn9fGkSWrBOSGESIfcPh6UqBRAiUoBFKtYBN8i+cjt40EuDxe02pTV6okMjyLofggPbj3iyqkbXDx2lUvHrnL7UiB6vd7CP4FILw8HWyr6uFHJx42K3m4Uz+2Cr4sDuZ1ssUnh/5mo2HjuP4nmTlgUZx+GcywwlKOBIZx7EE6sPgc1crwgTQn77du3qVmzZpLrnZ2dCQsLS3NQwkru3lXv8+dP+5c3SdiFMPr++++5fv06Q4YMYeTIkfj4+AAQGBhIbGwstWrV4rvvvrNukBnJ0B0+pa3rBk2aqOeW27dh7VrISRc5LGXCBIiOhrp14a23rB2NECIL8sqfm5rvVKZ604qUqVEcdy83AOJi49FqNWh1qf8u6ZTLEadcjuQP8KZc7VLY2qmpSnRUNJdPXOfItlPs23iES8evmfVnEWnj4WBLs2J5aV40H7ULelLQTZ39KE6vAEqKk/QXOdrq8Hd3wt/diar5PehbUYNGoyE2Xs/Zh+HsuvGIDZfus/dWEPE5pJdimhL2vHnzcjuZhOzYsWMUKlQozUEJK0lvwbkXt5WEXQjc3Nz4+++/Wb9+PVu2bOHmzZsANGnShGbNmvHOO+/krBkCzp1T78uUSd12huJzY8aoxeckYU+fK1dg/nz18cSJkJN+B4UQ6VKsQmFqt6xKndbVKPqaP3q9HkWvoLN5PrzPxjb9Q/00Go0xWQewd7SnTI0SlKpajB5jOxL0Xwj//HaQ/RuPcnTHaeJipRt1RgnwcKJlCW9al/CmRgFPdFo1mbZ94QKNjVaD2hE+fexe2KetTsvr3m6U9crF4OoBhEbHsvHSfTZeus/mK/eJiIlP9/EyqzQl7G3atGH27Nl0794dNzf1aprhS+e2bdtYtGgRw4YNM1+UImMYEva0jl8HGcMuRCJatmxJy5YtrR2G9aW1hR3ggw9g3Dj45x+1a73MQpF2X38N8fHQtCnUrm3taIQQmZyDkz0N361Du4HNCCjvT3xcPJpnXdy1Wi1k0IgajUZjvDDg6e3O273epNWHTQh9HM76WX+yYe52Htx+lDHB5DA2Wg0tinszoIo/9f3zEP+sa7ru2e+BbRp6U6SV4Vhu9rZ0LO3Le+UKEBkbz6JTt5l17AZnH4RnWCwZRaOkoeJRaGgodevW5fr169SpU4c///yTRo0aERERwYEDB3j99df5559/jOM1M6uwsDDc3NwIDQ3F1dXV2uFY32efwf/+p95Pn562fTx5Ai4u6uOQEHh2QUeIzEzOBamXpvfMzw9u3VKT7jp1Un/Qli1hwwYYNAi+/Tb12wu1Vom/P8TEwL59kMzwNiFSQs6fqWd4zzK7gsV9afVhE5r3bIijiwN6vYIuAxOz1DBcRNi/6Ri//biZI9tPWTukbMHHxZ7eFf34qJI/+VzsidPr09TNPSMYWvn33Q5ixpHrrPs3MEuMeU/JuTNNLexubm4cPHiQb775hjVr1uDg4MDff/9NQEAAY8aMYejQoTg6OqYpaGFF5ugS7+ysTg0UHKzuLwv8QxLCkk6fPs2MGTM4fvw4oaGhCYrmaDQarl69aqXoMlBYmJqsQ+q7xBv07asm7IsXw+TJUnwuLX74QU3Wa9WSZF0IkSgf/7z0nPAujTrXJT5eb+zirtNl3uEzhpb36k0rUrtFFS4dv8bMoYs5vvOMlSPLmjwdbRlZqxgDqxZGq9E86+JOpk3W4XnLe7X87tQqWImboZGM3HmBFWfvkvnT9uSl+V13dHTkyy+/5OTJkzx58oSoqCjOnj3L6NGjJVnPqgxF59KTsL+4vYxjFznc7t27qVq1Kps2bcLX15dr165RpEgRfH19uXnzJi4uLtStW9faYWaM8+fVe19f8PRM2z4aN4ZChdQLgmvWmC+2nCIsDGbNUh/LsDUhxEvcvdwY+N0H/HLpJ97oWBuNVmOW8egZyRBvQHk/vvtrHN9uH0vxikWsHFXW4WSr4/Paxbg58E0GVSuC3bPp17ISw0WFArkcWd66Iqf61qNJQBpnv8ok0pSwz5w5k4cPH5o7FmFt5mhhBxnHLsQzo0ePpkiRIly8eJGFCxcC8Pnnn7N3717279/PnTt36NChg5WjzCCG8etpbV0Htfhc797q4zlz0h9TTvPzzxAaCiVLwttvWzsaIUQmodNp6TKiDatuzKb1x02xsdVluUT9ZYYW99fqlWHesemM+XUwHnml12dy3itXgBsDGjKhfglc7GyyXKL+MsP4+lJ5XNjSuRr/dKtJyTwuVo4qbdKUsPfv35/8+fPTqFEj5s+fT1BQkLnjEhlNrzed1i09pIVdCACOHz9Oz549cXV1RadTvzzEx6tVTKtVq0bfvn0ZNWqUNUPMOIYK8WkpOPeiDz5QE/e9e5/vU7xafLzaHR5gyBCZd10IAUDhMoWYe2QafSZ2wcHJ3qTae3ZguPBQv10Nfrn4Iw07SaHNl/m42LOpU1WWtnqd3E52aLPZzCGGFvfq+T041aceQ2oEkNWuRaTpP/aFCxf48ssvCQwMpHfv3vj4+NCsWTOWLl0q869nVQ8eQFyc+iXO2zt9+5IWdiEAsLGxIVeuXAC4u7tja2vLgwcPjOuLFCnCeUNX8ezOHC3soHapb9FCfSyt7Cm3dataQ8DDAzp3tnY0Qggr0+m0vP95W+af+IbCZQsZq75nVzobHU6ujoz5dTATfxsure3PvF++ABc+asBbRbwAsl2y/iJbnRY7nZapDUtx8IM6lMiddVrb05SwFy9enNGjR3P27FnOnDnDsGHDuHbtGt26dSNfvny0atWKFStWmDtWYUmG5NrbG2xt07cvaWEXAoCiRYty+fJlQC0uV7JkSX777Tfj+j/++APv9F4gyyrM1cIO0K+fer9kiTozhXg1w8WNbt1A6swIkaPlK+TFnMNT6TWhc7bo/p5S2mctrTXfrswvF3+kerNKVo7IelztbVjfoQpLWr6Oi51Nhk7LZm0ajYYK+Vw53bceH1X2t3Y4KZLuT6dMmTJMmDCBCxcucOLECQYNGsSuXbt47733zBGfyCjmKjgH0sIuxDPNmjXj119/JS4uDoDBgwezbt06ihUrRrFixdiwYQN9+/a1cpQZIChInU4MoHTp9O/vzTehSBF1PPbKlenfX3Z35w5s2qQ+7tPHurEIIazqtTqlWXDiG4qU88v2repJ0dnocMrlyNcbP6fzsNbWDifDFfN05livujQrphZiy86t6kkxtLb/1LQcc5uXxzaT/y2Y7XLK6dOnWbVqFWvWrCE8PBx7e3tz7VpkBHMVnHtxH7dvg5LVJ1IQIu1GjRrFqVOnjOPXu3XrxpIlSyhbtiyvvfYaCxYsYPjw4VaOMgPEx6tVybt1g2dDBNJFq1WneAOYPTv9+8vuFixQ65TUrQulSlk7GiGElbzTuxHf7RyHk6tjjmlVT4pWp0Wj1dDv6/cZ9cun2DnYWTukDPFWES+O9aqLn5tjpp6iLSN9UKEQu7vWxMsp8/4OaBQl7RnV+fPnWblyJatWreLSpUvY2trSuHFjOnbsSIsWLXBxydxjA8LCwnBzc0vRhPXZ3siRMGUKDBjwvDBRWj15AobPPiRE5mIXmZ6cC1LP6u/ZgwfqxcHYWDh6FCrl3K6NyYqPh8KF1Quov/wi49eF2Vn9XJAFGd6zjKLTaRnw3Qe06d8MRVHQ5MAW1eTEx+u5euoGw9+eyOPAYGuHYzGfVC3M/94qg6I8r6AuVLHxeh48iabZisOcvp+x9dhScu5M06WVCRMmUK5cOcqVK8fkyZPx9/dnwYIF3L9/n/Xr19O5c+dMn6yLl5izhd3ZWS1sBDKOXQhhGXnzQtu26uOff7ZuLJnZjh3qeTh37ufvlxAix9DZ6Bjz62BafdQUQJL1ROh0WoqU82PWgSnkK+Rl7XAsYkL9EnzXuCxajUaS9UTY6rTkc7Fnb7daVMvvbu1wErBJy0bjx4+nXr16DBw4kDZt2pA7d25zxyUymjkTdlDHsQcHq/s1R5EpIbKAN954I9XbaDQa/vrrLwtEkwP07g0rVsDy5TB9+vOePeK5X35R7zt1AhmqJkSOYmNrw4S1Q6nRvBJaSdKSZWOrI4+vJ7MOTKZ/nS+4d+2+tUMym6kNSzG0ZlFrh5Hp2Wi1ONrCzvdr0viXg+y9nXmmLU9TC/vdu3fZsWMHvXv3lmQ9uzBn0bkX9yMt7CIH0ev1KIpicrt16xa7d+/mxIkThIaGEhoaysmTJ9m9eze3b98mHaOSRP36EBAA4eGwapW1o8l8IiPBMCtBly7WjUUIkaF0NjrGrvyMGs0qGauji+TZ2Opw93Jjxj9fZZuW9slvlJRkPRVstFrsdBq2dqmeqVra0/QXnDdv3gTLFEVh586dbNmyhfDw8HQHJjKQolimhR2kUrzIUXbv3s2uXbuMtwkTJhAUFMTPP//Mw4cPOXbsGMeOHePBgwfMmTOHx48fM2HCBGuHnXVptdCrl/pYusUntGEDRESoFfWrV7d2NEKIDKLRaPhyyUBqt6yCNgdN12UONrY6PPK6M+Ofr/DM527tcNLli9rFGFGrmLXDyHIMSfv2LjV4LV/mqMuRpr/iL774ggYNGhifK4rCW2+9RaNGjWjevDnlypXj6tWrZgtSWFhwMERFqY99fc2zT2lhF4IhQ4bQo0cPevbsiY3N8xFINjY29O7dmx49ejB48GArRpgNdO8ONjZw8CCcPWvtaDKXZcvU+y5dQMatCpFjdB/dgTc61ZaW9TQydI+fvGEktnZpGj1sdR1K+/JVg5LWDiPLUrvHa9n8bjXyOlu/enya/pLXrl1L1apVjc/XrFnDX3/9xVdffcWmTZuIj49n7Nix5opRWJqhFTxPHnBwMM8+pYVdCE6fPk2RIkWSXF+4cGHOnDmTgRFlQ97e8M476mNpZX/u0SPYulV9LN3hhcgx6rWtQY+xHaW4XDrZ2OooUSmAIbP7WTuUVHvd243FLSuglyF36WKj1eLlZMf6DlWxs3JPlTSPYS9a9Pl4iHXr1lG6dGlGjhxJs2bN+PDDD9m9e7e5YhSWZu7u8C/uS1rYRQ7m6+vLypUriYuLS7AuLi6OlStX4muuXi05We/e6v0vv0BMjHVjySxWrYK4OHW6uxIlrB2NECIDFH3Nny+XfoJer7d2KNmCVqelaY83aD/obWuHkmJ5ne34o1NVbLQatHLRJt1sdVqq+Lozs6l1C2inKWG3sbEhOjoaULvD//XXXzRp0sS4Pl++fDx69Mg8EQrLs0TCbmhhv31bHSMvRA40bNgw9u7dS/Xq1Zk3bx67d+9m9+7d/Pzzz1SrVo39+/czdOhQa4eZ9TVqpLa0P34MW7ZYO5rMYe1a9f7dd60bhxAiQ7jlceXrP77AxlYnXeHN7ONvulOl0WvWDuOVbLUafu9QhTxOdtjI74DZ6LQaer7uR/8q/laLIU2fZtmyZVm2bBnBwcEsXLiQx48f07x5c+P6mzdvkidPHrMFKSzM0ApuSLLNwZD8P3kCoaHm268QWUifPn34+eefuXPnDn369KFhw4Y0bNiQvn37cufOHWbPnk3fvn2tHWbWZ2PzvNv3kiXWjSUzePwY/v5bfdy6tXVjEUJkiM9m9cUznzs6G521Q8l+FBj1yyByeWTuqUM/r12Mavk9sJVCgxbxv0ZlKO1lnd+BNH2io0eP5uTJk+TJk4fevXtTq1YtkyJ0f/zxB1WqVDFbkMLCDAm7OVvYnZzAMOWfdIsXOVjPnj25c+cO+/fvZ/ny5Sxfvpz9+/dz9+5dehu6cov069pVvd+4EYIyz9ypVvHHHxAfD+XLqxXihRDZWoP2NanfroYk6xai1WnJ5eHCJz/0tHYoSXotnytf1ikm3eAtbGnLiuis8B6nqfRho0aNOH78ONu3b8fd3Z2OHTsa1wUHB1O3bl1atGhhtiCFhRm6xJuzhR2gUCG1pefmTShXzrz7FiILsbGxoXr16lSXqbUsp3x5eO01OHUKVq6EDz+0dkTWY5h7XVrXhcj23L3cGDK7H3q9XrrCW5DORsdb79Vj16r97Nt4xNrhmLDValjWqqKMQLUwW52WCt6uDK0ZwJR9VzL02Gn+yy5dujSffPIJ3bp1w+GFyuIeHh58++23Ji3ulnL8+HFatGiBp6cnTk5OlC1blh9++MHix812LNElHsDPT72/dcu8+xUik/rnn3/4559/Ejx/1S21oqOjGT58OL6+vjg6OlKtWjW2b9+e4u1XrlxJjRo1cHZ2xt3dnZo1a7Jz585Ux5HpdOum3ufkbvGRkc+rw0vCLkS2N3hmHxxdHSVZzwDx8XqGz/8o03WN/7x2MUp7uUhX+Ayg1WgYX69EhneNT/fkghEREQQHB6MkclmnUKFC6d19krZt28Y777zD66+/zqhRo3BxceHq1avckWnEUkdRLJewGz5/SdhFDlG/fn00Gg1RUVHY2dkZnydFURQ0Gg3x8fGpOk737t1Zs2YNgwYNolixYixatIhmzZqxa9cuateuney2Y8eOZfz48bRr147u3bsTGxvL2bNnuXv3bqpiyJQ6d4ahQ9U52S9fhmLFrB1Rxtu2DaKiwN9f7XUghMi2ajSvRP12NawdRo6he9Y1vu/k95jeb7a1wwGgmKezdIW3gnlvv0bNhfsy7HhpStifPn3KuHHjmD9/Po8fP07ydan9EppSYWFhdO3alebNm7NmzRq5qpgeQUHqlzuA/PnNu29Dwn7zpnn3K0QmtWvXLgDs7OxMnpvT4cOHWbFiBdOmTWPIkCEAdO3albJlyzJs2DD279+f5LYHDx5k/PjxfPPNN3z66admj83q8uWDhg3VpHX1avj8c2tHlPFe7A4vX+CEyLa0Wi0fTutGfFy8jF3PQDobHW/3epOV/9vA7Uv3rB0OExuUlK7wGcxWp6VGAU/eLpaPTZfvZ8gx05Swf/TRRyxevJhWrVpRp04dPDw8zB1XspYvX879+/eZOHEiWq2WJ0+e4Ogo3YHSxNAjwcsLXhjaYBbSJV7kMPXq1Uv2uTmsWbMGnU5Hnz59jMscHBzo2bMnn3/+Obdv36ZgEr1lvvvuO7y9vfnkk09QFIUnT57g4pK5uvalW4cOasK+alXOS9jj42HTJvVxq1ZWDUUIYVlvdq6DfykzFgsWKabXK/Se2IXR7adZNY5KPm60L+1r1Rhyqji9nqlvlmLzlfvoM+CCSZoy3HXr1tGrVy/Wrl3LoEGD6NatW6I3S9mxYweurq7cvXuXEiVK4OLigqurKx9++CFPnz612HGzJUt1hwdpYRc53syZM3n48KFZ93nixAmKFy+Oq6uryfKqVasCcPLkySS3/euvv6hSpQo//PADXl5e5MqVCx8fH3788UezxmhVrVqp07ydOgUXL1o7mox19Kjaa8rNDWrWtHY0QggLsbWzoc/k99Dr9dYOJUeysdVRv10NSlYuatU4pjYsTWy8/A5Yg41WS6k8uehSLmMumqWphV2j0VCxYkVzx5Jily9fJi4ujpYtW9KzZ08mT57M7t27mTFjBiEhIfz666+JbhcdHU10dLTxeVhYWEaFnHllRMJ+7x7ExoKtrfmPIUQm1r9/fwYNGkS9evXo1KkTrVu3xtPTM137DAwMxMfHJ8Fyw7J79xLvohccHMyjR4/Yt28fO3fuZMyYMRQqVIiFCxcyYMAAbG1tk50TPsucP3PnhjffhD//VFvZR42ydkQZx1Bs7s031YsWIlF6vZ6YmBhrh5Fl2NraotNJl+vMpEXft/Dy9USjlWEv1hIXG8+H07rySYPRVjl+w8J5eKNwHqscW6j0isKkBiVZee4eMRa+cJKm/+gtW7Zkx44dyX65s6SIiAgiIyPp16+fsSp8mzZtiImJYc6cOYwfP55iiRQbmjx5MuPGjcvocDM3SybsefOCvT1ER8Pdu2oRJCFykAsXLrBixQpWrVpF7969+eijj2jYsCHvvvsuLVu2TNBKnhJRUVHY29snWG6YrSPKUJPiJREREQA8fvyYFStWGKfjbNeuHeXKleOrr75K9pyepc6fHTrk7IS9cWPrxpGJxcTEcP36dWmZTCV3d3e8vb2TLaIpMoZOp6XLiDYgH4VV2djqeL1+WUpUCuDisasZfvyRtYoRp9djI8OBrUar0VDA1ZEOpX1ZdsayRc/TlLCPGjWKDh060KdPH/r27UuhQoUSvfqa3pakpDg6OgLw7rvvmizv3Lkzc+bM4cCBA4km7CNHjmTw4MHG52FhYUmO9cwxDGPYC1igS4dWq14IuHJF7RYvCbvIYYoXL87o0aMZPXo0586dY8WKFaxevZpu3bphb29P48aN6dSpE506dUrxPh0dHU1aug0Mw4EM58fEtgO1taxdu3bG5Vqtlo4dOzJmzBhu3bqV5OweWer82aoV9O0LZ8/C+fNQurS1I7K8kBA4dEh9/NZbVg0ls1IUhcDAQHQ6HQULFpS6NymgKAqRkZE8ePAAINHePSJj1WheiTy+lvl+LVInLjaOVh825uteMzP0uMVzO9NQWtczhTi9ngFV/DNnwm5Ihk+cOMH8+fOTfJ2lqsT7+vpy7tw58uXLZ7I8b968gNr1MzH29vaJtkzlaJZsYQe18NyVK1J4TuR4ZcqUYcKECUyYMIFTp06xYsUKZs6cyaZNm1KVsPv4+CQ6BVtgYCCgnh8T4+npiYODA+7u7gkusL547kwqYc9S508PDzVp/eMPWLs2ZyTsO3eqRedKlHhe8FOYiIuLIzIyEl9fX5ycnKwdTpZhuNj34MED8ubNK93jraxN/2ZSGT6TsLG14a336vHTkMVEhDzJsOP2q+hPbLxe5l3PBGy0Wqrm9+B1bzdO/BdqueOkZaPRo0dbtVtUpUqV2L59u7HonIFh7KaXl5e1Qst6LJ2wy1zsQpg4ffo0q1atYs2aNYSHhyfZIp6UChUqsGvXLsLCwky61B961rpaoUKFRLfTarVUqFCBI0eOEBMTY5x6DrLpubNlSzVh37w5Z3SLl+7wr2RoRHjxd1+kjOECR2xsrCTsVlSgmA+VG71m7TDEC3S2Opp2b8Dq7zZlyPGcbHX0er2QJOuZSGy8ng8r+dHnj9MWO0aaEvaxY8eaOYzU6dChA1OmTGH+/Pm88cYbxuXz5s3DxsaG+vXrWy+4rERRnneJt3TCLpXiRQ52/vx5Vq5cyapVq7h06RK2trY0btyYcePG0aJFi1Ttq127dkyfPp25c+ca52GPjo5m4cKFVKtWzdhN/datW0RGRlKyZEnjth07duTgwYMsXryY3r17A2pX+l9++YXSpUsn2TqfJTVtqt4fOgSPHkGebNx9UFEkYU8FGYedevKeZQ4t+zWW1vVMqO2A5hmWsHcq44uLnXz+mYmtTsv75QswdMd5QqPjLHKMLFlG9vXXX+eDDz5gwYIFxMXFUa9ePXbv3s3q1asZOXJk9vrSaUmPHqkF4TQasNR7JnOxixxswoQJrFq1ivPnz6PT6WjYsCEjRoygVatWuLm5pWmf1apVo3379owcOZIHDx5QtGhRFi9ezI0bN0yGKHXt2pW///4bRXk+QWjfvn2ZN28eH3/8MZcuXaJQoUIsXbqUmzdvsnHjxnT/vJlKgQJQvjycPq3Oy965s7UjspxLl9SLonZ2UK+etaMRQlhIoy51JVnPZLRaLb5F8lH89SJcOnHN4sd7t2x+9Aro5BpapuJgo+Pt4vn45UzCIYvmkK6Efd++fRw/fpzQ0NAEFVc1Gg2jLNgNcfbs2cYpiX777Tf8/Pz49ttvGTRokMWOme0YusPny6d+0bME6RIvcrDx48dTr149Bg4cSJs2bcidO7dZ9rtkyRJGjRrF0qVLCQ4Opnz58mzatIm6desmu52joyM7d+5k2LBhLFiwgCdPnlChQgX++OMPGmfHltmmTdWEffPm7J2w79yp3teqBc7O1o1FCGERxSsWwTOfu7XDEImIj4unVosqFk/YXe1tqFcoNzqZzi/TiY3X07K4d+ZK2IOCgmjevDmHDx9GURQ0Go2xFcfw2NIJu62tLWPGjGHMmDEWO0a2Z+nx62DaJV5R1NZ8IXKIu3fvGgu6mZODgwPTpk1j2rRpSb5m9+7diS7PmzcvixYtMntMmVKzZvD11+oUb/HxkF3H3ho+6wYNrBqGsIzu3buzePFiAGxsbChQoADt27dn/PjxODg4cOPGDQoXLsyJEyeSrGGRmLRuJ6yjVosq0h0+k9JoNdRtU52F41Za9DiNA7xk7HomZavT0qxoXux0WovMyZ6mT33o0KGcPn2a5cuXc+3aNRRFYevWrVy6dIl+/fpRoUIFYxEjkYllRMJu2HdkJAQFWe44QmRClkjWRSrUqAFubvD4MRw9au1oLENR4O+/1cfSHT7batKkCYGBgVy7do1vv/2WOXPmSINFDlO3dXU00rKaKWm1WgLK++GV3zy96JLyTjFvYi2QDArzcLazoZ6fZX4H0pSwb968mb59+9KxY0dy5cql7kirpWjRovz000/4+/tL1/SswJJzsBs4OKhd7kG6xYtsr0GDBjRs2JC4OLXoyBtvvPHKW8OGDa0cdTZma/t8TvLNm60bi6VcugT374O9PVStau1ohIXY29vj7e1NwYIFadWqFW+++Sbbt28HoHDhwoBa30ej0RgL7+r1esaPH0+BAgWwt7enQoUK/Pnnn8Z9JrWdyHzyFshNQHk/tFppXc2s9Ho9tVpUsdj+dRoNLUrkkxb2TEztFp/v1S9MgzR96iEhIZQpUwYAFxcXACIiIozr33rrLbYaKtaKzCsjWtjheeE5qRQvsjlFUUzqeej1ehRFSfb2cv0PYWaGavFbtlg3DksxdIevUUO9QCpSTlHgyRPr3F4oBplaZ8+eZf/+/cbp6Q4fPgzAjh07CAwMZN26dQB8//33fPPNN0yfPp3Tp0/TuHFjWrRoweXLl5PdTmQ+r9UtY+0QxCsoeoXX6pa22P7L5s2Fm72txfYv0s9Wp6VhYcvMSJOmMey+vr78999/gHrVN2/evJw6dYqWLVsC6rhNmQIkCzAk0IZx5pZSqBAcPiwJu8j2Xh43ntQ4cpGBGjVS748dg/BweNYrLNuQ7vBpFxkJzxodMlxERKoKBG7atAkXFxfi4uKIjo5Gq9Xy448/AuDl5QVA7ty58fb2Nm4zffp0hg8fTqdOnQD4+uuv2bVrF9999x0//fRTktuJzKd4pSLExsRha5clJ3fKEXQ2OspUL26x/VfycTPWCBOZVzFPFxxtdETFxZt1v2n6y69bty7bt2/niy++ANS5fadOnYpOp0Ov1/Pdd99lz4rD2c316+r9s25xFuPvr97fuGHZ4wghxMsKFFDPQTduwIEDz7vIZweK8ryFXRL2bK1BgwbMmjWLJ0+e8O2332JjY0Pbtm2TfH1YWBj37t2jVq1aJstr1arFqVOnLB2uMLNSVYthYyvF5jI7b/+8uLg5EREaafZ9V/JxJ1avYCfzuWVqOq2G1/K5cvBusFn3m6aEffDgwWzfvp3o6Gjs7e0ZO3Ys586dM1aFr1u3LjNmzDBroMLMoqPBUBjQkFBbSpEi6v01y89PKURmcuvWLW7dukXt2rWNy06dOsU333xDdHQ07777Lq1atbJegDlF7dpqwr53b/ZK2K9cgcBAdVrO6tWtHU3W4+SktnRb69ip4OzsTNGiRQFYsGABr732GvPnz6dnz56WiE5kIhqNhuIVi0jLahZRvGIRju86a/b9Vs/vgZ2MX8/04vUKlX3dMkfCXq5cOcqVK2d87uHhwY4dOwgJCUGn0xkL0YlMzNA93dkZ8lhmvIWRoQXf0KIvRA4xcOBAIiIi2LFjBwD379+nQYMGxMTEkCtXLtasWcPq1atp06aNlSPN5urUgWXLYM8ea0diXobu8NWqgaOjdWPJijSaLDlvvVar5fPPP2fw4MF07tzZOJY9Pv55F0xXV1d8fX3Zt28f9V7ofbFv3z6qPitOmNh2IvMpWNwXByd7a4chUiA+Lp7ilQLMnrDbaDWUzSu5VVagVxQq+bibfb+pvlQTGRlJpUqVmD17doJ17u7ukqxnFS92h7f0VdsXW9jTUWhHiKzm8OHDNDKMoQaWLFlCVFQUp06d4u7duzRs2JDp06dbMcIcok4d9f7QIYiJsW4s5iTj13Os9u3bo9Pp+Omnn8ibNy+Ojo78+eef3L9/n9DQUECdgvfrr79m5cqVXLx4kREjRnDy5Ek++eQTgCS3E5mLf2kLzuQjzEpRFPxLm7+QcxEPJ2ldzyJsdVrK53U1+35T/ek7OTlx/fp16ZqT1WXU+HVQq8RrNGpl3IcPLX88ITKJoKAgk7nYN23aRL169QgICECr1dKmTRsuXLhgxQhziJIlIXduiIqC48etHY357Nun3hsuSIgcw8bGhv79+zN16lSio6P54YcfmDNnDr6+vsYCwAMHDmTw4MF89tlnlCtXjj///JMNGzZQrFgx4z4S205kLnl8PWU2kTRaMHYFH1QYnOxrAm88oK6mDZdPJt0L9MTus9TVtCE85Emy+7KxtcErv2eaYk2Or0v2nQFk3+0gys3eje3ETbRaeZjdNx6hmbCRkKexKd5H/SX7GbQ1fb0a0nLcpOTPZf7PK01d4ps0acLWrVvp27evueMRGcVQAM7S49dBnR84f3513vfr1+GFBEaI7MzLy4ubz4afhISEcPDgQaZMmWJcHxcXZ5yzXViQRqOOY1+/Xh3Hnh3GewcGqudTjSZ7/DwiSYsWLUp0+YgRIxgxYgQAvXr1olevXibrtVotY8aMYcyYMUnuO7HtRObi6ePBpO4ziAyLYtLvIyx+vLqa5IdodR/TgQ/GdrJ4HObQaUhL2g5obnw+qfsMIkKemLyPeQvm5rfA+bjlMU+raN6C5h9m6pOCBLD7+hOEPI3l945VzX78pI63+PQdQO2yX8DVgfalfBlfvwQONikvkDh42zkqeLuypXM1XOxsOPlf6nv6rGtfGVtt5umBkMfJDg1gzj7FaUrYR40aRfv27Xn//ffp27cvhQsXxjGR8XOenua/yiTMJCNb2EHtFn/njtotvlq1jDmmEFb25ptv8sMPP+Dq6sru3bvR6/UmRebOnz9PwYLm7z4nElGnjpqw79kDQ4ZYO5r0O3BAvS9XDlzN3/1OCJE55PH15PbFuxl2vN8C5xsf71y5jwWjV7Ds4vNC0o4vtPYqikJ8vB6bVCRoGcnJxRFeMXOjTqcjt7eH2Y6Z28d8+zLwdbEnTq/HJhMlpQBNArxY2KICsfEKxwJD6LbhJBrg6zdTPh/91eAn9KvkRwHXtNdh8XS0S/O2lqDTavBytuPBE/MNwUtTwl6mTBlA/bK5fPnyJF8nhUwyMWsk7P/8I5XiRY4yZcoULl26xJAhQ7Czs2P69OkUfvY3Fx0dzapVq+jcubOVo8whDJX69+4FvR4y2RefVDN0h69Z07pxCCEsKo+vJxpt0sNQtyzayYxBC9gcssy4bM/vh/ii9df8o6wDoIN/X/67mXBIomH9i15MXl3cnNBoni87sfssnzQYzdTNXzLvy+VcO3OLb7aNJm/BPPw4eCHnD17i6ZNo/Erlp8/k96j85mvGfXXw78s7fRpx98p/7Fq9n1weLnT9sh0t+qgzd8TGxPLj4EX8vfYAEcFP8MjnRst+jXlvpDp9YV1NGz6b3Zf9G49yfOcZ8vl5MWJBf9y9XJnaayYXjlwh4DV/vlz6CfkDvAG1S/ze3w+z4OT/WDB2BX8u3mXcF8D3u8bj7Z+XjoX7Mf/ENxSroP5/PrD5GDMGLeDB7ceUqV6cJt3qm7xHoY/D+a7/z5z65zzhwRH4Bnjz/udtefPdOri4O2Nja0NcrPl6z/m4OKBPR3PtolO3GbT1LCHDmhqX/X4hkNarj6KMegcA/x92cDM0KsG2hvWJsddp8X52AaegmyNvnrnD9usP+frZer2i8PW+K8w9cZP/IqIp7unCqDrFaFfalxshkRSe8RcAH2w8xQcbT7GwRQX83RIm7ntvPWbkzgscDQwhj5MdrUv4MPmNkjjbqWls/SX7qZDPle8alwVg6enbfH/4OhcfR+Bsa8Mb/nn4rnEZ8jo/L964+fJ9Bm07x+2wKKrn96Dba6aNJ48jY+j/5xn+uRVEcFQMAR7OfF67GO+Wzf+qtxtQPzOrJ+yjR4+WMexZXUYn7FIpXuRA+fLlY9++fYSGhuLo6Gisygyg1+v566+/pIU9o1SsqE6lFRQEFy5A6ZS3AGRK+/er9y/Nsy2EyF7y5PcE0vede+6RqcTHq+Pg9fF6Rrebhs42TSkAAHNGLOWj6d3wLeJNLg9nHtx+RPVmFek9sTO29rZsXbKbEe9M5peLM8hXyMu43cpvNtBzwru893lbdq85wP8+nEuFemUoVCI/a374g30bjjBu1RDyFcrDg9uPeXD7kclxl0xYzcf/60H///Vg9vAljO/8Lb5F8vHeyDbkLeTF1x/8yHf9f2ballEJYu40pCU3/71DZFgUIxb2B8DV04VH90yn37p/+xGj2kyl1cdNaNHnLS4cvcLMzxabvCbmaQzFKxWh8/DWOLs6cuCPY0x8/3t8A7wpXbUYHnndeHj3cZrf35flc7EnmWs2ZnGkZx3inxWGjtcrtFtzDNtUzPl+9kEY++8E4/dCwj1572WWnbnL7GblKebpzD+3gnjv9xN4OdtRu2BuAj9tRImZuxhfrwQdy/jiZm/LoZemQ7sa9IQmyw/xVYOSLHjnNR4+S6T7/3mWhS0qJBpLrF5hQv0SlMjtwoMnMQzefo7uG06y+V21h+/t0CjarD7Kx1X86fO6H0cDQ/hs+3mTfTyNi6eSjzvDaxbF1d6GPy4/4P3fTxDg4UTV/K/uRZHP2bwzO6Tpr3Xs2LFmDUJksIgIePTsJJgRY9hB5mIXOZqbm1uCZY6Ojrz22muJvFpYhK0tVKqkdok/ejRrJ+xPn8KxY+pjaWEXIluzc7BN9z7cvZ7/D/r+k/k8Dgxm7pGpad7fB+PfpUqjCsbnrp65KPra8wagXhM6s+e3Q+zdcIS2/ZsZl1dvVonWH6mtvF2Gt2b1txs5sesshUrk58GtRxQo5kP52qXQaDR4+yWsd9S0xxu80UG9SNl5eGs+rDGSbqPaU7Xx6wC0++RtJvf4MdGYnVwcsXe0JzY6Ltku8Otn/YlvgDf9v+kBQKES+bl25hbLv/7N+Bqv/Ll5d0gr4/O2A5pzeOtJdq3aR+mqxbC1T/vFkMTY67Ro03nR5lW8XkgwP9l6lsCIpxzpmXxB002XH+AyZTNxeoXoeD1aDfzYRG3ljo6LZ9K+K+x4rzo1CqhDpIt4OLP3VhBzjt2inl8evF0c0ABuDrbGlvqXTd53hS7l8jOomppHFMsNPzQuS70l+5nVrFyi4+U/qFDI+LiIhzM/NC5Llfl7iIiJw8XOhlnHbhDg4cQ3jdQe4yXyuHDmQThf779i3C6/qyNDagQYnw+oWpit1x6w6vy9FCXs9jbm7cWXpt+oDz74gL59+1ItibHIhw8fZvbs2SxYsCBdwQkLMRSc8/CARBIJi5CEXeQAS5YsAeD9999Ho9EYn79K165dLRmWMKhYUU3YT5yArPyeHzsGsbGQL1/G9ZISQliFzozjwzfM3cbm+X8xc/8kkyQ+tUpWDjB5HhkRxcKxKznwxzGCAoOJj9MTHRXDg1umLeQB5f2MjzUaDZ7e7gQ/UIuMNenegM8ajaNLif5Ua/I6Nd6uTNW3Kry0vb/xsUc+dwCKlCv0wjI3Yp7G8CQsEmdXpzT9bDf/vUPpasVMlpWpUcLkeXx8PMsmrWXnqv08uhtEXEwcMdGxODipSa9NOnovJMZWp7X4DMwGc4/fZP6JW+zvUdskiU9MA//czGpWnicxcXx76Bo2Wi1tS/kCcCUoksjYeBotO2iyTUy8nte9U/67d+p+KKcfhPPLmed1HBRAr8D14EhKeSWcTvxYYAhj/77EqfuhBD+NNQ4nuBUaRWmvXPz7KIJqLyXdNQqYPo/XK0zae5lV5+9xN/wpMfF6ouP1OKXw79HGzF0i0vQbtWjRIt58880kE/br16+zePFiSdgzq4zuDv/isW7fVr9o2qb/irEQmU337t3RaDR06tQJOzs7unfv/sptNBqNJOwZ5XW1FSbLT+1mGL9eqxYZ9i1OCGEVr/oT12g1KC+Nb46LTVhD6viuM3w/YB6jfx1skvimhYOzaWvozCGLObr9FB9N70b+oj7YO9oxut00YmNMp8jS2ZomOxqNxjhlXYmKAay8PpuDW45zbMdpxnaYTqU3yzNhzTDj621e2N4wNPfF5NiwTJ+eAd8p8Ou09az5/g8GfPcBRcoVwsHZgRmDFhAbo45bT67mQFqkd29aElYsj03kPdp14xED/jzLr60rUj7fq4uZOtvqKOrpDMCCFhV4bc7fzD9xi56vFyLi2Rj+P96tSv5cpuPS7VMxp3xETDx9K/oxsGrCnKVQIuPdn8TE0fiXgzQOyMsvrSvi5WTHrdAoGi8/REx8yqdHnHbgCt8fvsZ3b5WlXN5cONvZMGjb2RTvQ2vm/83mvQT0zL179xKtGi8yCWsk7N7e4OCgduW8dQsCAl69jRBZzPVnf1uGserXpWZD5lKxonp/8mTWLjxnGL8u3eGFyPbi45JPENy93IgMjyLqyVMcnyXSV16aU/zOlUBGt5vGe5+3pV4b808DeWbfBZp2b0Dd1uq+IyOi+O/GA6BMqvbj7OpEw461adixNvXb1WBIkwmEBYXj6pmwFTUtbO1s0L8i4fIrVYB9G46YLDt/8JLJ87P7LlCrZVXeeq8eoNakuX3pHv6l1Zo08YlcMEmPOL2CQtoTdy9nO8Kj43gSE2cs1Pby9GlXgp7Qbs1RPq9VlDalfFJ9DK1Gw+e1izF4+zk6l81P6Ty5sNdpuRUaRT2/tE91V9HHjfOPwo0XBl7lwuMIHkfFMuWNUhR8ltAfvWf6s5bK48KGS/dNlh28Yzp2ft/tYFqW8Oa98gUAtYDepcdPKJ3nFdMOPBObiosDKZHihH39+vWsX7/e+Hzu3Lns2LEjwetCQkLYsWMHVapUMU+Ewvwycg52A41G7RZ//rzaLV4SdpEN+fn5JftcWFnJkmBvD2Fh6nmoaFFrR5R6iiIF54TIQQzJ35PQSC6/lIi75s5F6WrFcHCyZ+7nv9BuYHPOH7rElkW7jK+JjopmxDuTKPZ6Ed7p04jH/z1PTMw1nVmBYj78s+4QNd+pgkYD80b9mupW7pX/20BuHw+KvV4YrVbLrtX78fR2x8U9ZYlaSnj7e3F46wluXbyLa+5cuLgl7Dbfsl9jVn6zgZlDF/N2rze5eOwqWxbtNHlNgWI+7F5zgDP7L5DLw4VV/9tA8P3Q5wl7nLkTdr3ai+IVGXtodFyCRDy3ox3V8nvgZKvj810XGFilMIfuBrPo2RzqAFGx8byz4jCve7vRp6If/0U8Na5Lamx5YtqX9mHojvP8dPQGQ2oEMKRGAJ9uO4degdoFPQmNjmXf7WBc7W0SVGVPyvCaRam+YA/9t5yh1+uFcLbVcf5RBNuvPeTHpuUSvL6QqyN2Oi0zjlynXyU/zj4IZ8Ie0wsu/Sr58c3BawzdcZ5eFQpxLDCERadvm7ymmKcza/69x/7bQXg42PK/Q9e4/yQ6xQl7/MvdXtIpxQn7+fPnWb16NaB2OTl06BDHDEVvntFoNDg7O1O3bl3+97//mTVQYUbWaGE3HM+QsAshREaztYXy5eHIEXUce1ZM2G/cgIcP1Z/F0MVfCJFthQVFAOqUaj1f/8xkXfOeDRk+72O+XPYJM4cuYdPP26nUsDw9xnZkWp9ZAATdD+XWhbvcunCXNr69TLZPbFq3tOj/vx5M+eBHPqo5Erc8rnQe3prIsIRThCXHKZcjv079nTuXA9HqtJSsUpSpm79Ea8aeUO/0bsSJ3efoXXkoURFPjdO6vShfIS8mrB3GjE8Xsm7GZkpWLUafSV2Y8sFPxtd0/bId967dZ0jj8Tg42fNOn0bUblWVJ6GRAIQHR5gtZoDgp7HEKwq6V2Tsu28+5vWf/zFZ1rNCIea98xrLWr3O0L/+5efjN2lY2IuxdYvT54/TANx/Es2FxxFceByB73fbTbZPblq3l9lotfSv4s/U/Vf4sJIfE+qXwMvJjsn7LnMtOBJ3B1sq+rjxea1ir97ZM+XzufJ3t1p8setf6izeh6JAgIczHcv4Jvp6L2d7FrWowOe7/uWHw9ep6OPG9EalabHyea+JQm5OrG1XmU+3n2PG4etUze/OpAYl+WDjKeNrvqxTjGvBT2i8/CBOtjr6vO5HqxLehD6NTeywCQRHpex1KaVRlNRfAtBqtSxbtizLzx8cFhaGm5sboaGhuLq+eqxGtlGhApw6BX/8Ac2avfLlZjNwIMyYAcOHw5QpGXdcIV7BkueCvXv3smDBAq5du0ZwcDAvn3I1Gg2nTp1KYuvMK8ueP/v2hblzYcQImDzZ2tGk3urV0KEDVK6sXngQKfb06VOuX79O4cKFcXBIeauRSP69y7LnAisyvGcpMXblZ9RrWwNdKsb9CuuJiY7lTYeOZt3n6LrF+aJ2MezkdyBRNRbspWHhPHzVoKS1QzEqMuMvrodEpui1KTl3pumT1+v1WT5Zz7EUxXot7FIpXuQw//vf/6hXrx4rV64kLCwMT09PcufObXLz9PS0dpg5i2Ec+4kT1o0jrY4eVe8rV7ZuHCJDaDSaZG9jx45l9+7daDQaQkJCUrXvtG4nMtbje8Ho483bxVpYTvD90Fe/KJXuhT/F1tITsWdB0XHxHL0XwrmH4ZRJpFq8NQW+MKzAHCxSdE5kYsHB6vhNgIweX2u4QHD1asYeVwgrmTZtGrVq1WLjxo0pbk0RFvZipXhFyXpV1g2t6pKw5wiBgYHGxytXrmT06NFcvHjRuMzFxYWjhos4Ilt6HBiMJqsWyMyBHt17bPZ9BkY8NVbAF89tufKArutP0qJ4PtqloVCepYRHx/H0FcUiU0vOADnN5cvqff784JS2OSrTzDBe9PJlEsxBIkQ2FBkZSZcuXSRZz0zKlQOdTh0Hfu+etaNJHb1enYMdJGHPIby9vY03Nzc3NBqNybJHjx7RoEEDADw8PNBoNMbpJKOjoxk4cCB58+bFwcGB2rVrc+TZBZ8bN24kuZ3IXB4HBmNjxrnYheXo4/U8uG2BhD082uz7zA5alfQhbHhTlrWuiG0mGi7w3xPzf17Swp7TXHpWKbF48Yw/dtGi6jRK4eHw33/gk3muhglhCQ0aNODMmTPWDkO8yNERSpWCs2fVVvb8+a0dUcpduaL2kHJwgDKpmy5JJKQoEJmyIYZm5+Rkns4dBQsWZO3atbRt25aLFy/i6upqnFZ32LBhrF27lsWLF+Pn58fUqVNp3LgxV65cSXY7kbmo06OJrCA+Xm+Rz+tGqJVOVCLV4vUKV4KemH2/medyhMgYhq501kjY7e2fd4t/oUufENnVjBkz+Ouvv5g+fTpBQUHWDkcYGMaxHz9u3ThSy9D1+fXXwUaut6dXZCS4uFjnZq4LBTqdzlgHI2/evMaW+CdPnjBr1iymTZtG06ZNKV26ND///DOOjo7Mnz8/ye1E5nP55PVUT5EmrMPWzoaLx8w/7DMoKpa7qay6L6xDrygcDQwx+34lYc9pDC3sJUpY5/gln1VwvHDBOscXIgMVLFiQvn37MmLECLy8vHB2dsbV1dXkJl+SrcAwjv3kSauGkWpScE6k0NWrV4mNjaVWrVrGZba2tlStWpV///3XipGJ1IoMjyLw+n1rhyFS6NIxyxRWPng3hDi9ecdFC/Oz1Wk5Fmj+woNyiT6nsWaXeFAvFPzxh7Swixxh9OjRTJw4kfz581O5cmVJzjOLChXUe0nYczQnJ4gw73TJqTq2ECl1/uAl8hXywsZWxrJnZlERT7l79T+L7PtYYAgtS+SzyL6FeR2zQAt7mhP2//77j/nz53P8+HFCQ0PRv3TVR6PR8Ndff6U7QGFGev3zonPWTNhBWthFjjB79myaN2/O77//jlaq/GYer72m3t+4ASEh4O5uxWBSKD7+eRd+SdjNQqMBZ2drR5F+dnZ2AMS/MPVXQEAAdnZ27Nu3D79nM8LExsZy5MgRBg0alOR2InO6eOwqb3Sqbe0wRDIUReHisasoFiqqfCwwFBv5HpHpBUXFcCfMvFO6QRq7xJ8+fZrSpUvz1VdfcfXqVXbt2sXDhw+5fPkyu3fv5vbt2xb7hRXpcPeuOnDOxgb8/a0Tg6FLvLSwixwgJiaG5s2bS7Ke2Xh4PD8Hnjpl1VBS7MIFePJEzTCtNaRJZEp+fn5oNBo2bdrEw4cPiYiIwNnZmQ8//JChQ4fy559/cv78eXr37k1kZCQ9e/ZMcjuROZ0/dBldJqqCLRKKj4vn/MFLFtv/0cAQ9JJbZWpxej0H7gRbZN9p+usfMWIELi4uXLx4kR07dqAoCt9//z23b99m5cqVBAcHM2XKFHPHKtLL0B0+IABsba0Tg+GL5o0b8NT8V6CEyEzefvtt9uzZY+0wRGIM3eJPnLBqGClm6A5fsaI6LZ0Qz+TPn59x48YxYsQI8uXLR//+/QGYMmUKbdu25f3336dixYpcuXKFrVu34uHhkex2IvP599Alnkil8EzNxtaGA38cs9j+g6JiOXpPkvbMTKvRsOmyZepNpClh37dvH3379qVQoULGliNDl/j27dvTpUsXhg4dar4ohXlYe/w6QN684Oamzqdj6J4vRDY1ZswYzp8/z0cffcSxY8d4+PAhQUFBCW7CCrLaOHZDwl6pknXjEFbTvXt3QkJCEl03atQoAgMD0ev1LFq0CAAHBwd++OEHHj58yNOnT9m7dy9VqlR55XYi84mP17N3w2HiYuOsHYpIQkToE87ut+xwz3UX/kMmDMi8tBoNGy9looRdr9eTL59a+MDd3R2dTmfypbNcuXIcO2a5q0wijTJDwq7RSLd4kWOUKFGCkydPMnv2bKpWrYq3tzdeXl4JbsIKsmrC/lLCJYTIGfZvPIqNrdSKzoziYuPYt+EI8fGWreK+8fJ/2Gg1Fj2GSBu9onDqfih3wy3TezhNf/mFCxfm+vXrAGi1WgoXLsyOHTvo0KEDAPv378c9g4v4TJw4kS+//JIyZcpw9uzZDD12lpEZEnZQu8UfOiQJu8j2Ro8ejUZj/n+u0dHRjB49mqVLlxIcHEz58uX56quvaNSoUar206hRI3bs2MHHH3/Mjz/+aPY4MzVDwn7+PMTEwLMCXJlSbOzzCwtScE6IHOnw1pPExcZLpfhMyMbWhn0bjlj8OOcfRnAzNBI/N5lmIrPRKwrrLlhmhgBIY8L+1ltvsXr1aiZOnAjAhx9+yGeffca1a9dQFIXdu3fz2WefmTXQ5Ny5c4dJkybhnB3KvVqSIUG2dsIuc7GLHGLs2LEW2W/37t1Zs2YNgwYNolixYixatIhmzZqxa9cuatdOWSXhdevWceDAAYvElyUUKqQWnwsOVpN2QwKfGZ0/r9b8cHWFokWtHY0QwgqehEVyYtcZKr5RDp2NJO2ZSWxMHIe3nsyQY605H8jAqoWxlSKEmYqNVsv6i5ZL2NP0aX/xxRf8+uuvxMbGAjBo0CDGjx/P48ePCQ0NZdSoUXz11VdmDTQ5Q4YMoXr16lSWloekxcTAs14RVq8wbDi+tLCLHComJoYnT56kadvDhw+zYsUKJk+ezLRp0+jTpw87d+7Ez8+PYcOGpWgfT58+5bPPPmP48OFpiiFb0GiyTrd4wxCzSpVAZhwQIsfaMGebJOuZTFxsHDuW/0NkeFSGHG/eyVuSrGcy8XqFY4EhnLofZrFjpOkT9/DwoFKlStg+qzSu0Wj48ssvOXHiBEePHmXs2LHG+T0t7Z9//mHNmjV89913GXK8LOvaNXUedhcX8Pa2biwvJuxS7VJkYytWrODTTz81WTZu3DhcXFxwd3endevWqZ5Kac2aNeh0Ovr06WNc5uDgQM+ePTlw4AC3b99+5T6mTp2KXq9nyJAhqTp2tpNVKsUbxq/LRWmzkGlnU0/es8xh74YjBN0PsXYY4gU2tjb8PvPPDDvehUcR/H3zEXF6y46XFymn1cCMw9ctewyL7t3C4uPjGTBgAL169aJcuXLWDidze3H8ugXG1KZK0aJqK1FYGPxnue4jQljbN998Y9KSvn//fsaNG0fjxo359NNP+fPPP41Di1LqxIkTFC9eHFdXV5PlVatWBeDkK1qLb926xZQpU/j6669xdHRM1bGznazSwi4Ju1nonk2HFxMTY+VIsp7ISHVKMVtrTQkrAHWu799n/kl8XLy1QxGoecjlk9f598iVDD3ujCM3sJHeVplGWEwcK8/fs+gxUjSG/YMPPkCj0TB37lx0Oh0ffPDBK7fRaDTMnz8/3QEmZ/bs2dy8eZMdO3ak6PXR0dFER0cbn4eFWa7rQqZjGC9u7fHrAPb2UKQIXLmijs308bF2REJYxNWrV+nWrZvx+fLly/H29ua3337DxsYGvV7P2rVrmTx5cor3GRgYiE8ifzOGZffuJf9P47PPPuP111+nU6dOKT4mZNPz54st7E+fgoODVcNJVEwMnDqlPpaEPV1sbGxwcnLi4cOH2NraGqelFUlTFIXIyEgePHhgnBVIWNfGn7fTbVR7a4chUAtvr/3hjww/7vqL//HgSTR5ne0z/NjCVJxez8/Hb/E0zrI9HlKUsO/cuROtVoter0en07Fz585XVj62RGXkFz1+/JjRo0czatSoFE+LNHnyZMaNG2fRuDKtM2fU+7JlrRuHQfnyasJ++jQ0bGjtaISwiOjoaBxeSAK3bdtG06ZNsbFRT72lS5dm5syZqdpnVFQU9vYJ/0kbjhMVlfQ4ul27drF27VoOHTqUqmNCNj1/likDBQvC7duwdi106WLtiBI6e1ZN2j08oHBha0eTpWk0Gnx8fLh+/To3b960djhZiru7O97WHk4nAHgcGMzuNQeo17a6TPNmRYqiEBHyhL9W7M3wY8fpFWYcuc7YuiXQyTRvVqVBw6xjNyx+nBT9pd+4cSPZ59bw5Zdf4unpyYABA1K8zciRIxk8eLDxeVhYGAULFrREeJnP6dPqffny1o3DoHx5WLfuecuRENmQYcrLXr16cfToUa5cuWLSBf7+/fu4uLikap+Ojo4mLd0GT58+Na5PTFxcHAMHDuT999+nShrm8s6W50+dDnr3htGjYfbszJmwv9gd3trDmbIBOzs7ihUrJt3iU8HW1lZa1jOZBWNW0KB9TWuHkbMpsGjcKqKjrHMu+f7QdT6tVgQPB1uLN5KKxMXG61l46jbXgiMtfqwseWnu8uXLzJ07l++++86k++fTp0+JjY3lxo0buLq64unpabKdvb19oi1T2V5MDPz7r/o4syTsr72m3hsuJAiRDfXt25dPPvmE8+fPc+fOHQoUKMDbb79tXL9v3z7KlCmTqn36+Phw9+7dBMsDAwMB8PX1TXS7JUuWcPHiRebMmZPgomt4eDg3btwgb968ODklPr9rtj1/9uwJ48bB3r1qT6Ry5dSp3nbvhp07IW9e+PJL6yXLMn7d7LRarUnPFyGymtuX7rFp/g6af9BQqsZbgV6v53FgMOtnb7VaDOExcYz/5xL/e6sMkq5bh16B8f9cypBjpWkA1/Hjx5Ptxjlz5sxXFj5Kj7t376LX6xk4cCCFCxc23g4dOsSlS5coXLgw48ePt9jxs5yLFyE2Vp3Dt1Aha0ejMlw4OHdOjU2IbGjAgAHMmTOHgIAAWrZsybZt24wt4EFBQfz33390SWWrboUKFbh06VKCMeSGbu4VkphP/NatW8TGxlKrVi2T8yaoyXzhwoXZtm1bKn/CbMDXF1q2VB//9BN89ZU6k0abNvDjj2rr+7x51ovPkLBXqmS9GIQQmc6icavQx0ulcGvQarX8/PkvxERb9/vrrGM3CQx/il5mcchwcXqF7w9f42740ww5nkZJw1wdTZs2xdHRkXXr1iW6vl27djx9+pRNmzalO8DEPHr0iL17E44Z+fLLLwkPD+f7778nICDglZXjw8LCcHNzIzQ0NEHF5Wzll1/gvfegdm3Ys8fa0aj0enB3h/BwtVUrs4ytFzlSVjoXHDp0iOrVqzNt2jTjtGzR0dGULVuW3Llzc/DgQUBN0CMjIylZsiQAFy5c4IKh+OQLWrduTbNmzejduzfVqlVLtKBdYrLSe/ZKO3ZAo0amy0qUUMeM//kn5MqljiXP6Aue0dHqsWNj4fp18PfP2OMLkQLZ6lyQQQzvWXr1m/I+HT9rIa3sGSg+Pp47lwPpVmYQ+kwwtVrX8gVY3PJ1a4eR44RHx+H3ww6Cn6b/ok1Kzp1p6hJ/7NgxRo4cmeT6OnXqpKrqcWrlyZOHVq1aJVhumIs9sXU5mqHgXGaa+k6rVVvZ9+1Tu8VLwi5EilSrVo327dszcuRIHjx4QNGiRVm8eDE3btwwmZmja9eu/P3338b5k0uWLGlM3l9WuHDhnH3efOMNdbrJK1fUC4k//gidO6sXFuvWhf371bHuf/6ZsV3jz5xRk3VPT/Dzy7jjCiGyhGVT1tG0xxu45naROgMZRKfT8f2A+ZkiWQdYduYOA6oU5rV8rtjqZOaLjPLl7gtmSdZTKk2fbHh4uLHKcaI71WoJDQ1Nc1DCzDJbwTkDQzxSeE5kY1u3bqVDhw5UrlyZgIAAihQpYnILCAhI9T6XLFnCoEGDWLp0KQMHDiQ2NpZNmzZRt25dC/wEOYBWC6tWqWPVz55Vi89pNGpRugUL1Onetm2DlSszNi4pOCeESEZEyBO+7vnT/9u77/CmyrcP4N907xa6KLLLpiBDWhBlKLKHslGwIAqCgAq84EJAtijTnwKKbAeCyFJA9t57ll2E0tLd0jZtkuf94zEttQWSNMlJyvdzXec6yTk5yZ1DeXLu8ywm61ai1WixfuFWHNtmO9etOgG8ue6k0mE8NXK0Ohy4nYh5R25Y9XNNqmGvUqUKtm7d+sgR2jdv3oxKlSoVKTBT7Nq1y+qfaRdsNWHnwHNUzM2YMQMfffQRgoODER4e/sRuOoZyc3PDjBkzMGPGjEe+xtDy0IReUcVTvXpy+a9q1YDRo4EvvgAWLgSMnL++SI4fl2v2XyeiRziw8Ri2LN+Nlr1fYNN4C9JqtUiMTca3o5YqHUoBF+PT8dmuS5j6Ug048OauRWmFwJvrTsLaV04mJewDBgzAhx9+iBEjRuDzzz+Hn58fACA5ORkTJkzA5s2bH3shSVaUkADoR5S2tWbnrGGnYm7OnDl46aWX8Oeff8LZ2VnpcMhU/fvLhH3XLjlnu7Wms2PCTkQGmDP8B4S3rsum8Rbk6OiIqf2+QUZaptKhFOrrg9fRvUZpNo23sDHbL+KaFaZx+y+T/kWHDx+OyMhIzJ49GwEBAShXrhzKlSuHgIAAzJkzB3369MGHH35o7ljJFPr+6xUrylHibUnt2rKZZ0wMcP++0tEQmV1SUhK6devGZN3eVagANGsGCCEH8bQGtVo2zweYsBPRY6UnP8C0t75hsm4hOq0O6+Zvsamm8P+lr/nVCsFR4y0gR6vDvugEqzeF1zMpYVepVFi8eDG2b9+Od999F2FhYQgLC8PgwYOxY8cOLF26FCo2ybANtjjgnJ6XF6Dvv8tm8VQMhYeH4/Lly0qHQebQt69cL18uE3dL44BzRGSEg5uOY/GEX9nNycw0OVpcPn4N8z74UelQnuhifDoi151is3gz0+h0iM/IRtfVx6zeFF7PpCbxei1atECLFi3MFQtZgq32X9erU0eOzHz6NPDyy0pHQ2RW3377Ldq2bYvnnnsOr7/+utLhUFF06wYMHQpcuACcPAnUr2/Zz3u4OTwvvojIAEsmrEJonQpo0vE59mc3A61Gi5SEVHzSeZric64batWFu6gd5I1PX6jCylMz0AkBjU6g/S9HEPcgW7E42MmhuNP3D7fVhL1uXbk+cULRMIgsoWfPntBoNOjbty98fX1Rq1Yt1KlTJ9/yrH7wRbJtvr5Ap07y8bJllv889l8nIiMJITC57xzcjroLTY5W6XDsmk6ng06rw0cdpiDhXpLS4Rjl812XsfFKLDQ6trYoKgeVCpHrTuHkPWVnPzMpYRdCYMGCBQgPD0dAQAAcHR0LLI+b9o2sJCsLOHVKPrbVi77wcLk+fFjZOIgsoGTJkqhSpQqaNm2K+vXrIygoCP7+/vmWkiVLKh0mGUrfLP633yzfLJ4JOxGZIPNBFsa0n4yMtExoNUzaTeXg4ICp/b/B5ePXlA7FaALA62tP4EpiOnK0tjFfvL2atDcKqy7cVToM05rEjx49GjNnzkTdunXRp08flChRwtxxkTkcPy77QAYHy0HnbJE+Yb96FYiPBwIClI2HyIw41WQx07Il4OEB3L0rWy/pWwiZm1qdN/4IE3YiMlLMzTiMaDkec3Z9ATcPVzaPN8Gc4T9g2897lQ7DZOnZWry8/CAO9H8Bz3i7ceR4IwkhMP/4LYzdZRvjEJmUsC9duhRdu3bFqlWrzB0PmdPBg3LduLHt9oEsUULOc3z5MnDkCNCundIREREVzs1NJu3r1wObNlkuYT9zJm/AuQoVLPMZRFSsRZ28jhGvTMDsHRPgAjBpN8J3o5dhzbw/lQ6jyGLS1Wi69AD292uCUl6uTNoNpBMCS0/fxnt/nVU6lFwm/ctlZmaiZcuW5o6FzO3hhN2WNWok14cOKRsHkYXk5OTg7Nmz2LdvH/bs2VNgITvSvr1cb9pkuc/QdxEKD7fdm61EZPMuHrmCD1p8jqwMNZvHG+ibEYvx84w/lA7DbG6nZqLJkv24k5bF5vEGWnQyGgM2nFZsRPjCmJSwv/zyyzh69Ki5YyFzEgI4cEA+fv55ZWN5kogIuWbCTsWMTqfDmDFjULJkSdStWxfNmjXLnV3j4YXsSNu2cn3okOzGYwn6hF1fNhIRmeji0asY3mws0pMzOBDdI2i1Ouh0OswcshCrZm1QOhyzu52aiecX78O1pAxodEzaC6OfDnH24esYtOmMTSXrgIkJ+7fffotDhw5hypQpSEhIMHdMZA63bgH37gFOTrbfB1Jfw37kCMCChIqRKVOmYMaMGejTpw+WLVsGIQSmTZuG+fPn544Qv2XLFqXDJGOULStn3RACsNS/HRN2IjKjK6duYED9kbh54Ta0rGXNR5OjhTpDjdHtJuOP7zYrHY7FxKSrEb5oL7Zcu5+bnJKk1emgFQKD/zyDD7eet7lkHTAxYa9WrRquX7+OsWPHIigoCJ6envDx8cm3+Pr6mjtWMoa+OXz9+oC7u7KxPEnt2jLGlBTZl52omFiyZAl69OiB7777Dm3atAEANGjQAO+88w4OHz4MlUqFHTt2KBwlGc2SzeITE4ErV+Rj/aCcRERFFHc7HoMbf4Q9aw4qHYrN0Gq0iI2+j3ee+z8c2XJS6XAsLi1bg06/HsHU/VcByL7aT7scrQ6p2Vq8vPwQ5h+/pXQ4j2TSoHNdu3aFiv3qbJu+Obyt918HZCuA554D9u6VNUs1aigdEZFZ/PPPPxg9ejQAwNXVFQCQlZUFAHBxcUGfPn0wc+ZMTJkyRbEYyQTt2gFTpwKbNwMajSzDzOXIEbmuXBnw9zff+xLRU0+dmY1xPb/G1dM38c7kN6DVaJ/aweiEEDix4yzG9fgK6SkZSodjNToBfLrzEs7GpWJJp3pwUImndjA6rU7gSuIDtP/lMG4mZyodzmOZdJWxZMkSM4dBZqevYbf1/ut6jRrJhP3QIaBfP6WjITILf39/pKenAwC8vLzg4+OD69ev53tNUlKSEqFRUTRqJGe4SEqSNxmbNDHfe7M5PBFZ2PIpa3D+4GV8sux9+Jfye6qSdk2OFkIIfP/pSqyauQG6p7Qr5i/n7+JsXBqWv1oPzwb7wOEpqojV6HRwcnDAN0dv4JOdl5BhB2M7PJ23VIq7Bw+AU6fkY3uoYQc48BwVS/Xq1cs3QGeLFi0we/Zs7N+/H3v37sXcuXPx7LPPKhghmcTJCWjVSj42dz92JuxEZAUndp5D3xrDsOH7vwHgqRhFXgiBKyevo3+dD/HLV+ue2mRd7/z9NDT8YS8+23kJOVrdUzGKvFYncCc1C02X7scHW8/bRbIOFCFhj46Oxrvvvotq1aqhRIkSuVMTxcfHY/jw4Th5svj3BbFZBw8CWi1QpowcIMke6G8snD0LJCcrGgqRubzzzjtQq9VQq9UAgMmTJyM5ORlNmzZFs2bNkJqaiq+//lrhKMkk/45JgM1mHKRIiLwm8UzYicjCMtOzMHPIQnzw8jgk3EsutgmsJkeLnGwNvhu9DIMbf4zoy3eUDslmaIXA1P1XUe/7PTh3Pw0AoNMVv77t+psR3xy9gZrzd2FvdKLCERnHpCbxFy5cwIsvvgidToeIiAhcvXoVGo0GABAQEIB9+/bhwYMHWLRokVmDJQNt3SrXLVsqG4cxSpcGqlYFoqKA3buBzp2VjoioyDp37ozOD/0t16xZE9euXcOuXbvg6OiI559/HiVLllQwQjJZ69ZyfewYcP8+EBhY9Pe8dg1ISABcXAC2vCAiKzmx4yz6VBuKrsPbo+8nXeHq7lIsmslrcjRwdHTEjl/3YdHYnxFzM07pkGyWvrY98tkymNyiOoI8XaEC7H7MMn3z9123EvDR9os4cS9F6ZBMYlIN++jRo+Hn54eoqCisWLGiwPQA7du3x969e80SIJlA30RTf0FpL156Sa45ajYVA5mZmRgxYgQ2bMg/p6uvry86d+6MDh06MFm3ZyEhedO7/f23ed5T3xy+Xj3g30EKiYisIStDjZXTfkePCoPw68z1yMnW2O287Zp/m/cf+/s0+tcdgUl95zBZN4BWCPx46jYqztuO0dsuIFWtgdZOa9v1cZ+OTcVLyw+g1cpDdpusAyYm7Hv27MHgwYMRGBhY6J2XcuXK4c4dNjdRREwMcOYMoFLZVw07ALz8slxv365sHERm4O7ujgULFiA2NlbpUMhS9M3izdWPXT9YKJvDE5FCUhPTMX/McvSqNBgbFm6FOlMNnU7YRXN5fT/8E9vPYuiLn2J0+8m4ftZ2p+qyVVkaHb4+dB3l527D5H1XkJiZDUDWVts6fdP3k/dS0PW3Y3juh73YeTNB4aiKzqSEXafTwcPD45H779+/nzuFEVmZvqanQQMgIEDZWIzVvLlcnz8PMMmhYqBBgwY4d+6c0mGQpTycsJvjQmb3brlu2rTo70VEVAT37yRg1tDv0Tn4LcwZ9j3+uRIDQDYztyXafxO09OQHWDVrA3qFDsaoNl/gzL6LCkdm/1LUGozbfRkhs/7G62tP4OjdZACwucHpdEJAJwTUGh2WnfkHDb7fg4aL9uL3SzFKh2Y2JvVhr1+/PjZt2oQhQ4YU2KfRaPDLL7+gUaNGRQ6OTKCv6dGPYGxPAgKAunXlCPc7dwK9eikdEVGRzJ49G+3atUNYWBj69esHJ3PO103Ka9IE8PSUNxhPn5ZN2U0VHw/ob+4wYSciG5GRlom1327G2m8349mmNdHh7ZZ4oVM4PH09oMnRwMnZ+r9r+s/V5Ghxes95bFm+Gzt+3Y/srGyrx/I0yNbq8PO5O/j53B3UCfbBO/XKoVuNEJTycoNGp4ODSmX1aeH0nwsAx2NS8NO5O1h6+jaSsnKsGoe1mPS/7OOPP0aHDh0wePBg9Po3qYqNjcW2bdswZcoUXLx4Ed98841ZAyUD6HR5A87ZW/91vZdekgn79u1M2Mku7dmzBzVq1EBgYCAiIyPh4OCAQYMGYfjw4XjmmWfg7u6e7/UqlQqnT59WKFoqEhcX2ZVn/Xrgr7+KlrD/O9MKatUyzwB2RERmdnrPBZzecwGOjg4Ie746mnRqiGZdGyGkYjAAICdbA0cnRzg4mDd5y8nWwMnJESoHFR6kZGD/hqPYv/4ojmw5hQepGWb9LHq8M7GpGLb5HIZtPod6pXzRsWowulQvhWeDfQHI2ncHlQqO5v4beOh9szRabL1+H+su38OmK3GIfaA262fZIpX474hxBlq+fDnef/99pKSkQAgBlUoFIQR8fHzw3XffoXfv3uaO1exSU1Ph6+uLlJQU+Pj4KB1O0Z04IZvCe3kBiYmAs7PSERlv0yagQwegUiU5YjKRFZizLHB0dMSKFSvQu3dvNG/e3KARVnfu3Fmkz1RCsSs/TTV/PjB4sJya8sAB099n+HBg3jxgyBDgf/8zX3xEFsaywHj6c1ZclK4UjOrPVUa150JRI7wKqtavBA/vvJvTWo0WOp0ODg4OhY4+r9PpoNXooFIhX429JkeLmxdu48LhKEQdv47Lx6/h6qkbuc3gyXaU8nJFeGk/NAjxw3OlfRFeugQCPFxy92t1AlohoALg7FiwR7ZOCGj+HSjO2UGVe+2kEwLXkh7g0D/JOBaTjOMxKTgek4wsTfH5GzCk7DS5HUvfvn3RpUsXbN26FVevXoVOp0NoaChat24Nb29vU9+WikLfHP6ll+wzWQdkU1BHR+D6deDmTaBCBaUjIjKKECJ35oxdu3YpGwxZXocOMmE/dEg2jQ8ONu199P3XmzUzX2xERFZw93os7l6PxY5V+wHIlmOlKgQhuFwA/ENKIKB0SfiHlIB/6RLw8HaHk7MTnJwdodXooMnRIDsrB4n3khB/NwkJMUmIv5uIhLuJuB11FznZttVnngp3L12N9VGxWB+VNwZVaW83VPB1R2lvN4R4uaG0tytCvNxQ0t0ZTg4OcHFUQSdk7blaq0PsAzVi0tW4m5aFmPQsxKSpcTkhHQ/sdLYCcypSxxNPT0+89tpr5oqFimrjRrnWD4Rkj7y9gfBwOVryli3AoEFKR0RE9GhlysiWTcePyzJ4wADj3yMhQc7uATBhJyK7J4RAzI1YxNzgAMJPs7tpWbiblqV0GMWCQQl7dHQ0ADld28PPn0T/erKC+/fzpgTq2FHZWIqqQwf5XdavZ8JOdsmQZvBUjHTuLBP29etNS9j37pXr6tVNr6EnIiKiYsmghL1ChQpQqVTIzMyEi4tL7vMn0WrZhMFqNm0ChJCDHpUpo3Q0RdO5M/Dpp3LgufR02SefyI706dMHffr0Mei1KpUKGg2b/Nm1Tp2Azz+X02pmZACPmfa0UPrm8PqpLYmIiIj+ZVDC/uOPP0KlUsH5337R+udkQzZskOtOnZSNwxxq1gRCQ+Wgc1u2AF27Kh0RkVFatmyJqlWrKh0GWUudOkD58sCtW8C2bcaXw/pBB9kcnoiIiP7DoIS9X79+j31OCsvKyhtwzt6bwwOASiVr2WfOlE1MmbCTnYmMjMTrr7+udBhkLSqVTNLnzQPWrTMuYY+OlnO4q1RAixaWi5GIiIjsUsFx9cn+7NoFPHgAlC4N1K+vdDTmob/g3bgRYHNhIrJ1nTvL9fr1QE6O4cf9/rtcv/AC+68TERFRASYl7J999hnq1q37yP316tXDhAkTTI2JjLV+vVx37ChraYqDJk2AkiXlfPL79ysdDRHR4zVtCgQFAfHxwF9/GX7cmjVyzZZEREREVAiTEvbVq1ejbdu2j9zfrl07/PrrryYHRUYQIq//enFoDq/n5CRHiwdkE1MiIlvm7Az07SsfL15s2DH37uXdkOzSxTJxERERkV0zKWGPjo5GaGjoI/dXrFgRt27dMjkoMsLRo8A//wCensBLLykdjXm99ppcr1oFcMYBshM6nY79159W/fvL9caNQFzck1//xx/ypmvDhkDZshYNjYiIiOyTSQm7l5fXYxPyGzduwM3NzeSgnuTo0aMYOnQoatWqBU9PT5QrVw49evRAVFSUxT7TZq1Zg7/REoOC/0DbLu5o2hQ4dUrpoMykbVvZLP7OnbxRlIkIarUaY8aMQenSpeHu7o6IiAj8/fffTzzu999/R8+ePVGpUiV4eHigWrVqGDlyJJKTky0f9NOgVi0gPFyOu7FixZNfr++//m9zeJ0OSEqSQ5IIYcE4iUhRgv/BiehfhpQHJiXszZs3x4IFC3Dnzp0C+27fvo2FCxeihQVHu50+fTrWrFmDl19+GXPmzMHAgQOxZ88e1K9fH+fOnbPY59ocIZC5ehO64HcsvN4SmzcDe/cCX32ldGBm4uoK9OolHy9dqmwsRDakX79+mDlzJt544w3MmTMHjo6OaNeuHfbt2/fY4wYOHIiLFy+iT58+mDt3Ltq0aYNvvvkGjRs3RmZmppWiL+b0tew//vj4rDsxEXd3XMJCvINOW99DuXKyyCtZEvDyAhwdgQoVgB49gLlzgZQUq0RPRFaQlpamdAhEZCMMKQ9UwoTbfJcvX0Z4eDhUKhUGDBiAWrVqAQDOnTuHH3/8EUIIHDp0CDVq1DA+agMcOHAAzz33HFxcXHK3XblyBbVr10a3bt2wwpCaDQCpqanw9fVFSkoKfHx8LBKrRZ05gw3PfopO2IBSwTq8M9ABEyfKC764OHnBZ/cOHwYaNQI8PGR/T29vpSOiYsieyoIjR44gIiICM2bMwKhRowAAWVlZCAsLQ1BQEA4cOPDIY3ft2oXmzZvn27Zs2TJERkbi+++/x9tvv21wHPZ0zqwqORkICZHTbe7bJwfQfEh6OrB6NbB84g3svF4ewsD75r6+wNChwIcfAv7+FoibyEQsC4yn0+lw9+5deHt7Q1VcBgsmIqMIIZCWlobSpUvDweHx1wImJewAcObMGQwbNgx79+7Nt71p06aYO3cu6tSpY8rbFkmDBg0AAMePHzfo9Xb/IzN+PN6eUAaL8Dbeew+YPVsOUpyUVOh1on0SAqheHYiKApYsASIjlY6IiiF7KgtGjx6NmTNnIjExMV+sU6dOxSeffILo6GiUNaI/dFpaGnx8fDBixAh8/fXXBh9nT+fM6gYMkDXsjRrJQeUcHHDuHPC//wErVwIP30wPD01Ap/7+eOkl2Y09KAjIzpavuXRJ3rNcsQI4f16+3tsbGDFCLjztZAtYFhARWZbJ87DXqVMHu3fvRlxcHA4dOoRDhw4hLi4Ou3btUiRZF0IgNjYWAQEBVv9spehW/44NkCPDd+4sB1bXD96/caOCgZmTSgW8+aZ8vGyZsrEQ2YCTJ0+iatWqBS6Mw8PDAQCnjBzE4t69ewDwVJWdFjdxomzXfugQ/pn7O/r3B+rUAebPl4l45RLxmIjPcL16OxyOKoFPPwUaNwbKlAFcXOShISFAixbARx8BZ87I7u5168rjJ0wAqlYFtm1T+osSERGRpZmcsOsFBAQgPDwc4eHhil7wrVy5Enfu3EHPnj0f+Rq1Wo3U1NR8i92KisLh856IQzB8vAWaNZOb27eX62KTsANAnz5yvXMncO2asrEQKSwmJgYhISEFtuu33b1716j3mz59OhwdHdGtW7fHvq5YlZ+WVro0MsZMwAR8jqoftseSJbKxUJcuwPbfEnE5qwI+w2RUnP4u8IRmcIB8yWuvAcePy0kzqlQBYmOBVq2Ajz8GcnIs/5WIiIhIGU6GvGjZvzWbffv2hUqlyn3+JG/qa0Yt7NKlS3jvvffQuHFjRD6myfTUqVMxYcIEq8RkccuXYx06AwDatVdB352/TRt5cXfuHHDrFlC+vIIxmkv58rLpwF9/AfPmybb/RE+pzMxMuLq6Ftiun5nDmMHjfvrpJyxatAijR49GlSpVHvvaYlV+WtiGDcDQhR8iGrJvahO/8/h6kR8iaqTK5vKZD+Ro8h07GvW+Dg5A9+7yxuyIEcCCBcC0acCePcDPPwPlylni2xAREZGSDOrD7uDgAJVKhczMTLi4uDyxYzwAqFQqaK0wd/a9e/fQpEkT5OTk4NChQyhduvQjX6tWq6FWq3Ofp6amomzZsvbX70qjASpUQI07f+MSauCnn4DevfN2N20qR4v/3/+AIUOUC9OstmyRdyO8veW88/b070U2z576YIaFhSE4OBjbt2/Pt/3ChQuoVasW5s+fj0GDBj3xffbu3YtWrVqhWbNm2LhxI5ycHn//ttiUnxaUmQn83//JshcAygVlYsb9/ugufoXKxUVWs+fkyEE0t22T7eCL4LffgLffBlJTgRIl5GQaRt4DICoyeyo/iYjskUE17Ddu3ACA3FHZ9c+VlpKSgrZt2yI5ORl79+59bLIOAK6uroXWTNmdLVsQdccDl1ADTk4CbdvmH2G0QweZsG/cWIwS9lat5OBzly7JweeGD1c6IiJFhISEFDqlZkxMDAA8sRwEgNOnT6NTp04ICwvD6tWrn5isA8Wo/LSQK1eAbt1kf3MAGDkS+OILd3hc+xQYkZDX4bx9e5nRm6H5U/fuQIMGQM+ewLFjQKdOson8F1/IMU2IiIjI/hnUh33OnDlITEzMfa5SqRAUFITy5cs/drGkrKwsdOzYEVFRUdi4cSNq1qxp0c+zKT/8gLV4DQDQvLkKfn75d+trWLZvlyPGF8WDB3Kst2XLgNOn5ejFilCp8pL0efMAnU6hQIiUVbduXURFRRXoQ3748OHc/Y9z7do1tGnTBkFBQfjzzz/h5eVlqVCfGuvWAc89J5P1oCDZe+err2RFOmrXBrZulQXy5s2yvbwZfx8rVZID0Q8bJp9PnQq0bi2n9iQiIiL7Z1DCPnv2bFy8eDH3ecWKFbF27VqLBfUkWq0WPXv2xMGDB/Hbb7+hcRGbFdqVe/eAjRuxBl0BAF27FnxJjRpyROLsbGDNGtM+JiUFGDdO9omMjJRL3bpA6dJytGJFvPkm4OcHXL1azEbVIzJct27doNVqsXDhwtxtarUaixcvRkRERO6UbtHR0bh06VK+Y+/du4dWrVrBwcEBW7ZsQWBgoFVjL46+/hp49VXZLL1JE+DkSdl7Jx+VCnjpJZlJW2DOZRcXYO5c2Y/d0xPYsQOoV08m8kRERGTfDGo0FxwcjOvXr+c+N3HqdrMZOXIk1q9fj44dOyIxMRErVqzIt7+PflTx4mjZMtzSlMZRhEOlkiMHF+b112Vtz08/yT6OxjhzRt4IuHpVPg8NBZ55RtawJyTIfcOHA19+CVi1haynJzBoEDB9upzXqGNHi1z8EtmyiIgIdO/eHR9//DHi4uJQuXJlLF26FDdv3sSiRYtyX/fmm29i9+7d+crrNm3a4Pr16xg9ejT27duHffv25e4LDg7GK6+8YtXvYs+EACZNAj7/XD4fNkwm787OysXUqxfw7LOyjL54EWjeXBaXH37IopKIiMheGTTo3Ntvv41ly5ahUaNG8PPzw8aNG1GvXj0888wzj35jlQrr1q0za7B6zZs3x+7dux+539AbCnY3UEp2NhAailn/dMMIzELTpsCjTsOtW0CFCvIi7fZtmXAbQp/gZ2bK2vWvvpJTETk6yrGSPv0UmDFDvrZPH2D5crN8M8Pdvy/bgKany6r+R92xIDKCvZUFWVlZGDt2LFasWIGkpCTUqVMHEydOROvWrXNfoy8nHy4PVY/J2po1a4Zdu3YZHIO9nTNzGztWJuyAXH/6qbLxPCw9HXjnHeCXX+TzDh3k0B/+/oqGRcXU014WEBFZmkEJ+4MHDzB58mTs3LkTcXFxuHnzJvz9/eHp6fnoN1ap8tXK2yK7+5FZvBh46y00cT6CAzkNMXduXr/Fwrz4IrBvn0y6R4588tvPm5fXTbx1a2DlysIv8NatkzU4Wq3s2963r2lfx2SffQZMngyEhclqfwNmLSB6HLsrC2zA03zOZs2S06oBslZd/9iWCAHMny9r19Vq2Z1pyRKAjSjI3J7msoCIyBoMStj/y8HBAStWrMDrr79uiZisxq5+ZLRaoGZN3IlKRxnIEaL/+efxNefz5wODB8u+jCdOPP7tp08HPvpIPv7gA5nkOzo++vWTJskaJi8v2WezcmXjvk6RJCUBFSvKjvY//yzbgRIVgV2VBTbiaT1nK1fK1kWAHOBNX27aqlOnZBF5+bJ8PmyYjPsx99uJjPK0lgVERNZiUtXkzp072dfR2tauBaKisNb9DQBAo0ZPbuberZuc2ufkSVnTXpicHHkBp7/oHDsWmDnz8ck6IKcOatpUNr3s08fKg7aXKJHXZOCzz4CsLCt+OBE9rfbtA/r1k48/+AAYM0bJaAxTt668Yfvee/L5vHmycdKWLYqGRURERAYyOGE/cuRI7tRuzZo1e+zowjdu3MCyZcuKHh1JQgBTpkAAWOL3PgCZjD9JQADQuzdyXx8dnX9/QgLQti3wzTfy+fTpcv5eQwYncnQEVqwAfHyAw4dl03ir+uAD2cbz2rW8TvVERBYSHy9rqjUaoEcP2RTeXgZy8/CQ5fyWLXJskps35Uj2vXvLllpERERkuwxO2Bs3bozNmzfnPk9MTISHh0ehg78dOHAA/fv3N0+EJEeCO3kSu93a4HjMM3Bzk9OsGeLbb+WowbGxclD1M2eAu3flCO+VK8upgT09ZQX+6NHGhVW2rKyRB4BPPpG17Vbj7S2bAgDAlCnAjRtW/HAieprodLLMvXMHqFYNWLTIPofOaNUKOH8eeP99ebPhl1/k95k40crlNxERERnM4EuO/3Z1F0IgKysLWq3W7EHRQ9LTczPpr8rPAyCbZAYEGHa4lxewfj0QHCyT9WeflU3px4wBkpNl08gDB+Q8wqYYNkxO+xYTI28CWFWPHnJu46wseQVKRGQBc+YAf/4JuLkBq1bJctVeeXkBs2cDx48DL7wAZGTIqelCQ+Vc7uxhREREZFvssI7gKTN1KnD3Li6UaYVNlytDpZKj/hqjXDlg0yYgIiJv1PcKFYClS+WARHXqmB6eq2teoj5jRsFm9xalUsl2ns7OwIYNcgA6IiIzun1bDpUByES3KOWlLalXD9izRxaboaFAXJy871mpkvyeGRlKR0hEREQAE3bbdu2a7CgJYGb1hQCAzp2BqlWNf6sGDYBDh2Q/zOxs4Pp14M03nzy4nCFeew1o1kzWzOgvbK2mRg3ZHh+QQ+Jb9Y4BERV3I0bI5PWFF4CBA5WOxrxUKtkv/+JFOatI2bKytdSHHwLly8sxTRISlI6SiIjo6caE3VbpdMCAAYBajSvPR2L5nnIAgFGjiv7Wzs7mHSxJpZLTwAHA8uWyqaVVffqpbD6QkiI7mlp1yHoiKq62bgVWr5Y3Nr/91n4GmTOWszMwaBBw9SqwcKGcNTM+Hhg3Tibx/fvLG77GTwJLRERERWVUwn7z5k2cOHECJ06cwJkzZwAAV65cyd2mX24U4wHAYmOt9EHz5gG7d0N4eOJd8S2ys1V45RXg+eet9PlGeu454A054xxGjbLyhZ2zs7xT4OkJ7NoluxEQERWBfspLABg+HKhdW9l4rMHFBXjnHSAqSjaVr1cPyMwEliwBGjeW52DmTODePaUjJSIienqoxH9Hk3sEBwcHqP5TvSCEKLDt4e22PiBdamoqfH19kZKSAh8fnye8FmjZUvb5vncPKFnSgoFduiSvlLKysCxyOyKXvgQ3N+DcOdnX0FZFR8vm+mq1HOiuY0crB/Djj7JVgkolA+jQwcoBkL0ypiwgqbifs4ULZa1zUBBw5YqcwvJpI4SsWV+wAPj117wB6VQq4MUXga5d5YCl5copGiYprLiXBURESjM4YV+6dKnRbx5p6NxjCjH2R6ZOHeDsWeCHH2ReaBFZWbKz5PHjiG/WFdXP/YaEBBWmTgU++shCn2lGH38MTJsGVKkibzC4uFg5gMGDZWdMb285QXyNGlYOgOwRLziNV5zPWWamnPby7l05crq+pv1plpIip4FbvFgWrQ+rW1fO696ypWwF5u6uSIikkOJcFhAR2QKDE/biyNgfmSlTZHfpli2Bv/+2UFDvvgssWABNiUC0C4vG33vdULu27Bfu7GyhzzSj1FRZyx4bK0eNN0efe6NkZ8t/oL17ZXOEffuAUqWsHATZG15wGq84n7Ovv5ZlV7lysnm4q6vSEdmW6GhgzRpg7Vpg//78w4a4usrm8y1ayFr48HDZW4mKr+JcFhAR2QIm7Eb8yFy/LnNABwdZ8xIcbOaAli6Vk6yrVBj12jV8/XtFeHjIedKffdbMn2VBixcDb70lK7mjohTIl+Pi5CB0N2/KTpe7dwMlSlg5CLInvOA0XnE9Z6mpcmqzhATZy6Z/f6Ujsm337wN//QVs3w5s2yZ/Gx/m6AiEhcmZSho0AOrXl63VPDyUiZfMr7iWBUREtoIJu5E/MhERwJEjcvrv994zYzDHjgFNmwKZmVj26u+I/OM1AMCqVUD37mb8HCvQ6YBGjYCjR+X9h8WLFQji6lVZvXPvngxmy5ansxMqGYQXnMYrrufso4+A6dOBatVktx4nJ6Ujsh9CyP7+O3bI8T/37QPu3Cn4OgcH2eUgLAyoVUv2XKpeXXal8vKyethURMW1LCAishVM2I38kZk1S87L+8ILstW1Wdy6JZPKe/ewscE4vHZ6HDQaFT77DJg40UyfYWWHDslmkQCwZ4/Mna3u3Dl5EyQpSVbt/PUXEBioQCBk63jBabzieM6iomQSmZMDrFsHdOqkdET2TQjg9m15P/r4ceDkSeDEicfPtlKqlGzJFhoqp5erUEEu5coBZcooMC4KPVFxLAuIiGwJE3Yjf2Tu3JHz0goh+/GVLVvEIFJSZPZ/7hx2VhqAtne+h1qtwhtvAMuWyZoIe/X228CiRbJP++nTgJubAkGcOAG0bi0nFa5WTQ4+UOR/NCpueMFpvOJ4ztq3B/78Uw6g9uefxXfedaXduyfvp549C1y4AFy8CFy+LIvpJwkKAkqXlkupUnIJDpZLUJC8JxsYKGdysYdxX4qD4lgWEBHZEibsJvzINGsma42LPKiaWg20awfs2IGdJbuiY9YqPMhwQOfOwG+/2f/FRnIyULMmEBMDfPIJMHmyQoFcugS0aiWreoKD5WhJTZooFAzZIl5wGq+4nbP164HOnWW5e+6cvNFI1pWUJJvU37gBXLsmhyHRL7dv500rZygfH5m4+/vLYUz8/PIWX1+5+PjItbe3fOzlJR97ecmFXSKerLiVBUREtoYJuwk/MvPny9nD6tWTFbgm0emA3r2BVauwwa07uut+gTrbAS1bAhs2KFQbbQFr1wJdusiBh44ckQMOKSI6Wk4Mf+aMvCKfNw8YOJBVaASAF5ymsIVzlp0NpKUBDx7IJStLLtnZslm7TidHLXdzk4lbSEjhfaQXL5ZluloNjB4t+7CTbRFC1sDfvStbusXEyJr6e/dkE/vYWDne6P37QGKifL05uLjIUe71i4dH3uLunre4ueWtH15cXfMWF5eCj11c5E+Sfv3w8vA2Bwfb/bmyhbKAiKg4Y8Juwo9MfLy88NNoZHM+o6f6FgJ4/31g3jwsd+yHt7AIGq2sWf/ll+KTrOt17w6sXi37IR47Jms7FJGeLod8Xr1aPu/WDViwQF7J01ONF5zGs+Q503c5unRJ9iu/cSMvSUtIkAlZcrLxNa6ArF2tVk0OeuboKBO+rVvlvvbt5UCfHMHcvmm18u8jPl7W2ickyOdJSXJJScm/pKbKGz+pqfJnIi1N/r7bGn3y7uSUty5scXSUi/7xw9sKWxwc8j92cJDdC776yrC4WH4SEVkWE3YTf2Q6dgQ2bpTzsk+aZOQHT50K8cknmIjPMQ4TAAB9+sgphOy9GXxhEhOBhg3ltHgtW8qx3xRrZiiE7Mvw6afyiqxMGZm0t2unUEBkC3jBaTxznrPMTDl95d69cn38uCw3DKWvBfXwkDc8H66VzM6W7x8fL5OxwqhUwBdfyK479jxuCJmHEPLvJj09r/XGgwdARoZcZ2bKx5mZeUtWVsG1Wl1wyc7Ov87JkY/1rUL0a6VVqiS7JRiC5ScRkWUxYTfxR+aXX2SL9ooV5Y+awU3VliyBuv8gDMICLEU/AMCYMcCUKcX7QvHsWTlq/IMHwMiRht+5t5ijR4E33pAdJgGgZ085BUBIiLJxkSJ4wWm8op4zjUYm6MuXy0YvaWn59zs7y37k1arJ5OGZZ+R/T/2AYvp+yN7eht8ATEuT/aEvX5Y3EFUq+TlNmsibikS2QAj5/0Ojkcl7Tk7e48K2abXysX798OOH1/rHOl3ec/2i3yaEfOzjA7zzjmHxsvwkIrIsJuwm/shkZMjxy9LTgf37geefN+CgP//E/Y5voYvuN+zDi3B0BP73P2DQINPitze//Qb06CEfm30ee1M8eAB8/jkwe7a8QvH0lJMwjxjBNrFPGV5wGs/YcyYEcPWqnPJxxw45VkdCQt7+0qWB5s3lpBnh4XJ6NVdXy8VPRObB8pOIyLKKcZ2uZXl4AK+9Jh//9JMBBxw5ghNdJyNcdxD78CJ8fQU2bXp6knVA9mXXdx8YPlzOc6woT0/g669lbXt4uEzgx44FqlSRdxRM6SBLRAVcuQIEBMga8zffBJYskcl6yZJy+sc9e+Qo4CtXysHfGjRgsk5EREQEMGEvktdfl+uffpID2jyKuHIVC1/+Bc9nbcdNVERoqMChQyq0bm2VMG3KJ5/IZnY6HdCrF/DHH0pHBDl0/cGD8h+yfHk5DPGwYUBoqOzv/rh/XCJ6ovLl5f0wV1fZGmnkSGDnTjmy9/ffAy++WLy7BBERERGZipdIRfDKK3Ke8aQk4MsvC3/N/agk9KofhUHpM6GGGzq00eDoURWqV7durLZCpQK+/VbOd5yVJad8mzHDfFPwmMzBQQ5KcPmyDLBMGZm4jx4tH7/3HnD6tMJBEtknFxc5BWZqquxC9NVXsvk757gmIiIiejwm7EXg6AhMnSofz54tpx3S0+mAn5drUCsMWJXeDo7QYNqnaVi3yQklSigSrs1wcpKDTA0dKhP10aPl+G+pqUpHBlkFOHiw7Gy7aJHsSPvggUzi69aVTefnzZMT/hKRwWrWlIk7ERERERmOCXsRdewoB0nKzAQ++0zOG7xiBVCnjsDrbzrhfk4JhDmcx+FfbmDMJG82+/yXk5PMe+fOlTc+fv5Z5sMHDyod2b9cXYG33gLOnAH+/lt2wHdykv3dhw+XI2S98gowf76cHJqIiIiIiMjMOEq8GUY2PXiw8FHifZCCUaqvMfr3xnB9tW0RIi3eDh2SrdFv3pRN5t96S7ZcCAxUOrL/iIuTdxZWrpSJ+8Pq15dzubdqBUREsCrRznCUY+PxnBERwLKAiMjSWN9rBo0bA5GR8rG3NxBW6QHGO3yBWyiPsdO8mKw/QaNGwKlT8hwKIVuiV6kiZ1x7eNonxQUFAe+/Dxw5Ioe9nj5dNpEHZAfdSZOApk3l0NetWwOTJwO7d8sm9UREREREREZiDbuZ7goLIedm90iJgapBfeDePdmM+tdfZbUxGWT/ftm3/dQp+dzTU04DNXCgbDJvk2Jjgc2bgb/+khNM37+ff7+jI1C7NtCwoZyvql492Teec73bDNYQGY/njIgAlgVERJbGhN2YH5m4OFm72qFD4fs1GuDll+WkwmFhsq28l5d5g34KaLVyurfJk4GTJ/O2168P9Owp74NUrKhYeI+n0wHnzsm/gT175B2Iu3cLvs7BAahcGahVSy41agDVq8uJqvk3Y3W84DQezxkRASwLiIgsjQm7oT8yd+/Ktu8xMcCuXYV3Wv/4Y2DaNNku/vhx2a6bTCaEnKt54ULg99+BnJy8fTVrAm3ayPsjzz8P+PkpFuaT/fMPcPiw/Js4dkw2H/hvLfzDSpWSyXzFikClSkCFCnIi6/LlgWeekQPikVnxgtN4PGdEBLAsICKyNLtN2NVqNT7//HMsX74cSUlJqFOnDiZNmoRXXnnF4Pcw6kdGpwN69ADWrAGCg+WgY2XL5u3fsAHo1Ek+XrVKVgOT2cTHy1O/apW8X6LT5e1TqWSDhoYN5fLss/K5t7di4T6eELIZ/ZkzwIULwPnzcv73S5cen8jrBQXJxP2ZZ4CQkLwlOFju0y8+PuyOYSB7u+AsSvl3584dfPjhh9i6dSt0Oh1atGiBWbNmoVKlSkbFYG/njIgsg2UBEZFl2W3C3rt3b6xevRoffPABqlSpgiVLluDo0aPYuXMnXnjhBYPew+gfmfR0oEkTmWjVry/7K/v6AsuWAW+/LauAhw2Tc5WRxSQmAtu2AVu2yFbnV68W/royZWQFdWioXFesKLeVLi3zW5tseZ6cDFy7Jr/UjRvA9ety+Pxbt4DoaCAry/D3cnYGAgLk4u8vB8MrWRIoUSJv8fOTf8P/XTw98TTNQWhvF5ymln/p6emoX78+UlJSMHLkSDg7O2PWrFkQQuDUqVPw9/c3OAZ7O2dEZBksC4iILMsuE/YjR44gIiICM2bMwKhRowAAWVlZCAsLQ1BQEA4cOGDQ+5j0I3PzpqzGjY+XTZMbNgT27ZP7unWTU35xSi+riomRLc6PHZPL2bOFdxv/Lx8fmbgHBsqcNjBQLv7+j85jfX3lP7siFddCyGHz//kHuHNHLjExcrl3T9bax8bKsRaKOjK9SiXvaHh75609PeXjh9ceHnlrDw/A3T1v0T93c8tb6xdXV7l2cjLPuSkie7rgLEr59+WXX2LMmDE4cuQIGjZsCAC4dOkSwsLCMHr0aEyZMsXgOOzpnBGR5bAsICKyLLtM2EePHo2ZM2ciMTEx34/D1KlT8cknnyA6OhplH26u/ggm/8gcPAj07y+bMet9/LGc1uspqpW0ZQkJspL62jW56Cur796VS1HyWQcHmaPql8Jy1f/mpq6u8j6Ofnl4m7Nz/sXJqeBzR0e51u/TP394nW9RZ8AxOQEOifFwTIqHKjFBnpSkJNlEITlZLklJQEqKfJyaKh9rNGb6VzDwZD58Mv57sh5+7OxccF3Y8vAJHDXKoBto9nTBWZTyL/zfaQiPHDmSb3vr1q1x7do1XH1Uc5VC2NM5IyLLYVlARGRZtlG9ZaSTJ0+iatWqBX4Y9Bejp06dMihhN1njxsDFi7Lv8fr1QLVqQNeulvs8Mpq/v1wiIgrfn5aWV0EdHy+7jsfH5y36HDYlRS6pqfIYIWT/+bQ0udguj3+XvP8Hjo4yP9avC3us8hdwUAEOKh1UQgcHCDiqtFAJAQdo4SD+3S60UAkdVEILh38XlU7372MNVDr987zHcq2FCjqoIKCCgINOB1WmkAvkvcPcfQ+97r/7nrRdv235EC1ci1mDF1PLP51OhzNnzuCtt94qsC88PBxbt25FWloavG128AciIiKip49dJuwxMTEICQkpsF2/7e4j2kOr1Wqo1erc5ykpKQDk3WGTlCsnJw2Xb2Lae5BiSpeWi6F0OjmMQUaGrKF/8EA+zsyUS0YGoFbLxw+vs7PlOicnb/3wtuxsWamdk5O31j/WL1pt/m1abd5aqzUsfv1rHx5t33gqAI7/LrZv3oNMuDs8+QvrywB7aHBkavmXmJgItVr9xGOrVatW6PFmLz+JqFiwp/KTiMge2WXCnpmZCddCprZyc3PL3V+YqVOnYsKECQW2W7Q2nogUU6qMca9PS0uDr6+vZYIxE1PLP/12U44FWH4S0ePZQ/lJRGSP7DJhd3d3z1fTo5f17wja7u7uhR738ccfY8SIEbnPdTodEhMT4e/vD5UdTX+VmpqKsmXL4vbt2099fzGeizw8F3mMPRdCCKSlpaG0MU0uFGJq+affbsqxAMvP4ojnIg/PRZ7iXH4SEdkju0zYQ0JCcOfOnQLbY2JiAOCRPxqurq4Fapf8/PzMHp+1+Pj4PPUXFno8F3l4LvIYcy7spWbI1PKvZMmScHV1zX2dMccCLD+LM56LPDwXeYpj+UlEZI/sckjzunXrIioqqkDfycOHD+fuJyIqjkwt/xwcHFC7dm0cO3aswL7Dhw+jUqVKHHCOiIiIyMbYZcLerVs3aLVaLFy4MHebWq3G4sWLERERwT6VRFRsGVr+RUdH49KlSwWOPXr0aL6k/fLly9ixYwe6d+9unS9ARERERAazyybxERER6N69Oz7++GPExcWhcuXKWLp0KW7evIlFixYpHZ7Fubq6Yty4cYUOHvW04bnIw3ORpzifC0PLvzfffBO7d+/ON3LzkCFD8P3336N9+/YYNWoUnJ2dMXPmTAQHB2PkyJFKfB2rK85/G8biucjDc5GH54KIyLaohJ3Ow5GVlYWxY8dixYoVSEpKQp06dTBx4kS0bt1a6dCIiCzKkPKvefPmBRJ2APjnn3/w4YcfYuvWrdDpdGjevDlmzZqFypUrW/trEBEREdET2G3CTkRERERERFSc2WUfdiIiIiIiIqLijgk7ERERERERkQ1iwk5ERERERERkg5iw2xC1Wo0xY8agdOnScHd3R0REBP7++2+j3+eVV16BSqXC0KFDLRCldRT1XPz6669o3LgxPD094efnh+effx47duywYMSWU5RzsW3bNrRo0QIBAQHw8/NDeHg4li9fbuGILSc9PR3jxo1DmzZtULJkSahUKixZssTg45OTkzFw4EAEBgbC09MTLVq0wIkTJywXMFkNy888LD/zsPzMw/KTiMg+MWG3If369cPMmTPxxhtvYM6cOXB0dES7du2wb98+g9/j999/x8GDBy0YpXUU5VyMHz8evXv3RtmyZTFz5kxMmjQJderUwZ07d6wQufmZei7Wr1+PVq1aITs7G+PHj8fkyZPh7u6ON998E7NmzbJS9OYVHx+PL774AhcvXsSzzz5r1LE6nQ7t27fHTz/9hKFDh+LLL79EXFwcmjdvjitXrlgoYrIWlp95WH7mYfmZh+UnEZGdEmQTDh8+LACIGTNm5G7LzMwUoaGhonHjxga9R2ZmpqhQoYL44osvBADx3nvvWSpciyrKuTh48KBQqVRi5syZlg7TKopyLl555RVRunRpkZWVlbstJydHhIaGijp16lgsZkvKysoSMTExQgghjh49KgCIxYsXG3Tsr7/+KgCI3377LXdbXFyc8PPzE71797ZEuGQlLD/zsPzMw/IzP5afRET2iTXsNmL16tVwdHTEwIEDc7e5ublhwIABOHjwIG7fvv3E9/jyyy+h0+kwatQoS4ZqcUU5F7Nnz0apUqXw/vvvQwiB9PR0a4RsMUU5F6mpqShRogRcXV1ztzk5OSEgIADu7u4WjdtSXF1dUapUKZOOXb16NYKDg9GlS5fcbYGBgejRowfWrVsHtVptrjDJylh+5mH5mYflZ34sP4mI7BMTdhtx8uRJVK1aFT4+Pvm2h4eHAwBOnTr12OOjo6Mxbdo0TJ8+3W4vJvSKci62b9+Ohg0bYu7cuQgMDIS3tzdCQkLwzTffWDJkiynKuWjevDnOnz+PsWPH4urVq7h27RomTpyIY8eOYfTo0ZYM2yadPHkS9evXh4ND/mIvPDwcGRkZiIqKUigyKiqWn3lYfuZh+Wk+LD+JiJTjpHQAJMXExCAkJKTAdv22u3fvPvb4kSNHol69eujVq5dF4rMmU89FUlIS4uPjsX//fuzYsQPjxo1DuXLlsHjxYgwbNgzOzs4YNGiQRWM3t6L8XYwdOxY3btzA5MmTMWnSJACAh4cH1qxZg86dO1smYBsWExODpk2bFtj+8LmsXbu2tcMiM2D5mYflZx6Wn+bD8pOISDlM2G1EZmZmvqZ3em5ubrn7H2Xnzp1Ys2YNDh8+bLH4rMnUc6FvvpmQkIBffvkFPXv2BAB069YNtWvXxqRJk+zugrMofxeurq6oWrUqunXrhi5dukCr1WLhwoXo06cP/v77bzRq1MhicduiopxLsm0sP/Ow/MzD8tN8WH4SESmHCbuNcHd3L7QPWFZWVu7+wmg0GgwfPhx9+/ZFw4YNLRqjtZh6LvTbnZ2d0a1bt9ztDg4O6NmzJ8aNG4fo6GiUK1fOAlFbhqnnAgCGDh2KQ4cO4cSJE7nNGHv06IFatWrh/fffLzYJiqGKci7JtrH8zMPyMw/LT/Nh+UlEpBz2YbcRISEhiImJKbBdv6106dKFHrds2TJcvnwZgwYNws2bN3MXAEhLS8PNmzeRkZFhsbgtwdRzUbJkSbi5ucHf3x+Ojo759gUFBQGQzT7tiannIjs7G4sWLUL79u3z9Tl0dnZG27ZtcezYMWRnZ1smaBtl6rkk28fyMw/LzzwsP82H5ScRkXKYsNuIunXrIioqCqmpqfm26+/i161bt9DjoqOjkZOTgyZNmqBixYq5CyAvRitWrIitW7daNHZzM/VcODg4oG7durh//36Biyl9X8XAwEDzB2xBpp6LhIQEaDQaaLXaAvtycnKg0+kK3Vec1a1bFydOnIBOp8u3/fDhw/Dw8EDVqlUVioyKiuVnHpafeVh+mg/LTyIi5TBhtxHdunXL7SOnp1arsXjxYkRERKBs2bIA5AXmpUuXcl/Tq1cvrF27tsACAO3atcPatWsRERFh3S9TRKaeCwDo2bMntFotli5dmrstKysLK1euRM2aNe2uFsDUcxEUFAQ/Pz+sXbs238V3eno6NmzYgOrVqxfrJowxMTG4dOkScnJycrd169YNsbGx+P3333O3xcfH47fffkPHjh0L7Z9J9oHlZx6Wn3lYfpqG5ScRkY1ReiJ4ytO9e3fh5OQk/u///k8sWLBAPP/888LJyUns3r079zXNmjUThvyzARDvvfeeJcO1KFPPRUZGhqhVq5ZwdnYWo0aNEnPnzhUNGzYUjo6O4s8//7T21zALU8/FpEmTBABRr149MWvWLPHVV1+JGjVqCABixYoV1v4aZjNv3jwxceJEMXjwYAFAdOnSRUycOFFMnDhRJCcnCyGEiIyMFADEjRs3co/TaDSiUaNGwsvLS0yYMEH873//E7Vq1RLe3t7i0qVLCn0bMheWn3lYfuZh+Zkfy08iIvvDhN2GZGZmilGjRolSpUoJV1dX0bBhQ7F58+Z8r3laLjiLci5iY2NFZGSkKFmypHB1dRUREREFjrUnRTkXK1euFOHh4cLPz0+4u7uLiIgIsXr1amuFbhHly5cXAApd9BeYhV1wCiFEYmKiGDBggPD39xceHh6iWbNm4ujRo9b/EmR2LD/zsPzMw/IzP5afRET2RyWEEJaswSciIiIiIiIi47EPOxEREREREZENYsJOREREREREZIOYsBMRERERERHZICbsRERERERERDaICTsRERERERGRDWLCTkRERERERGSDmLATERERERER2SAm7EREREREREQ2iAk7ERERERERkQ1iwk5ERERERERkg5iwk1GWLFkClUqFmzdvWuXzxo8fD5VKpdjxSrFU3F9++SWqV68OnU5n9vc2xPz581GuXDmo1WpFPp9ISSw/rYPlJxERFSdM2G2M/oLu2LFjSodisAMHDmD8+PFITk5WOhR6jNTUVEyfPh1jxoyBg4My//X79euH7OxsLFiwQJHPp+KN5SdZCstPIiJSChN2Mkrfvn2RmZmJ8uXL5247cOAAJkyYwAtOG/fjjz9Co9Ggd+/eisXg5uaGyMhIzJw5E0IIxeIgUgLLT/vF8pOIiJTChJ2M4ujoCDc3N7tsJvm0W7x4MTp16gQ3NzdF4+jRowdu3bqFnTt3KhoHkbWx/LRfLD+JiEgpTNjt1MmTJ9G2bVv4+PjAy8sLL7/8Mg4dOpTvNfp+fFevXkW/fv3g5+cHX19f9O/fHxkZGfleu2vXLjz33HNwc3NDaGgoFixYUGg/wP/2wRw/fjz+7//+DwBQsWJFqFSq3P39+vVDhQoVCsT+qP6F+/btQ8OGDfPFYAxDj79z5w7eeustBAcHw9XVFbVq1cKPP/5o8OeY+9wbGvetW7cwZMgQVKtWDe7u7vD390f37t0N6g9748YNnDlzBi1btix0f6VKldCnT58C21u0aIFmzZrl+05RUVHo06cPfH19ERgYiLFjx0IIgdu3b6Nz587w8fFBqVKl8PXXXxf6WQ0aNEDJkiWxbt26J8ZNZAksPwti+floLD+JiEhJTkoHQMY7f/48XnzxRfj4+GD06NFwdnbGggUL0Lx5c+zevRsRERH5Xt+jRw9UrFgRU6dOxYkTJ/DDDz8gKCgI06dPByAvoNq0aYOQkBBMmDABWq0WX3zxBQIDA58YS5cuXRAVFYWff/4Zs2bNQkBAAAAYdOzDzp49i1atWiEwMBDjx4+HRqPBuHHjEBwcbNbjY2Nj0ahRI6hUKgwdOhSBgYH466+/MGDAAKSmpuKDDz547OeY+9wb872PHj2KAwcOoFevXihTpgxu3ryJ7777Ds2bN8eFCxfg4eHxyLgPHDgAAKhfv36Bfenp6bh58yYGDx5cYN+ZM2fw+uuv59vWs2dP1KhRA9OmTcOmTZswadIklCxZEgsWLMBLL72E6dOnY+XKlRg1ahQaNmyIpk2bFnjf+vXrY//+/Y+Ml8hSWH6afjzLT5afRESkAEE2ZfHixQKAOHr06CNf8+qrrwoXFxdx7dq13G13794V3t7eomnTprnbxo0bJwCIt956K9/xr732mvD398993rFjR+Hh4SHu3LmTu+3KlSvCyclJ/PdPRB/fjRs3crfNmDGjwDYhhIiMjBTly5cvEL8+rv9+Jzc3N3Hr1q3cbRcuXBCOjo4FXlsYQ48fMGCACAkJEfHx8fmO79Wrl/D19RUZGRlP/BxznntjvndhsR08eFAAEMuWLXts3J999pkAINLS0h75Hlu2bMm3/fbt2wKAWLhwYb7vNHDgwNzXaDQaUaZMGaFSqcS0adNytyclJQl3d3cRGRlZaDwDBw4U7u7uj42ZyFgsP1l+svwkIqLihk3i7YxWq8XWrVvx6quvolKlSrnbQ0JC8Prrr2Pfvn1ITU3Nd8y7776b7/mLL76IhIQEpKamQqvVYtu2bXj11VdRunTp3NdUrlwZbdu2teyX+ZdWq8WWLVvw6quvoly5crnba9SogdatW5vteCEE1qxZg44dO0IIgfj4+NyldevWSElJwYkTJx77OeY+98Z8b3d399zHOTk5SEhIQOXKleHn5/fYuAEgISEBTk5O8PLyKrDv3LlzAIBnn3023/bTp08DAOrUqZNv+9tvv5372NHREc899xyEEBgwYEDudj8/P1SrVg3Xr18vNJ4SJUogMzOzQPNWIkti+Wn68Sw/WX4SEZEymLDbmfv37yMjIwPVqlUrsK9GjRrQ6XS4fft2vu0PX8wA8sceAJKSkhAXF4fMzExUrly5wPsVts0S7t+/j8zMTFSpUqXAvsK+p6nH379/H8nJyVi4cCECAwPzLf379wcAxMXFPfZzzHnujf3emZmZ+Pzzz1G2bFm4uroiICAAgYGBSE5ORkpKyiPjfpKzZ88iODi4QDPSM2fOwMHBAWFhYY/9Tr6+vnBzc8ttzvvw9qSkpEI/U/w7wjEH3yJrYvlp+vEsPwvH8pOIiCyNfdifAo6OjoVuFxaeFuZRFxNardain/soOp0OANCnTx9ERkYW+pr/1oYUlTnP/bBhw7B48WJ88MEHaNy4MXx9faFSqdCrV6/c7/Yo/v7+0Gg0SEtLg7e3d759586dK1A7BACnTp1CpUqV4OnpmW97Yd/J2O+ZlJQEDw+PfLVeRLaI5afE8pPlJxERKYMJu50JDAyEh4cHLl++XGDfpUuX4ODggLJlyxr8fkFBQXBzc8PVq1cL7CtsW2EedWFZokSJQucWvnXrVr7ngYGBcHd3x5UrVwq8trDv+V+GHh8YGAhvb29otdpHjvb7pM8x57k39nuvXr0akZGR+UYPzsrKMmj+5urVqwOQox3/96L67Nmz6NmzZ75tOp0OO3bsKHTAI3O4ceMGatSoYZH3JnoUlp8FsfxMfuJnsfwkIiIlsUm8nXF0dESrVq2wbt26fNPRxMbG4qeffsILL7wAHx8fo96vZcuW+OOPP3D37t3c7VevXsVff/1l0HvoaxD+e+ETGhqKlJQUnDlzJndbTEwM1q5dWyCG1q1b448//kB0dHTu9osXL2LLli0GfQdDjnd0dETXrl2xZs2a3H6HD7t///4TP8fc596Y7+3o6FigxmXevHkG1bg1btwYAHDs2LF82+Pi4nD//n3ExMTk2z537lzEx8ejdu3aBn8fY5w4cQLPP/+8Rd6b6FFYfhb+HVh+Ph7LTyIiUhJr2G3Ujz/+iM2bNxfY/v7772PSpEn4+++/8cILL2DIkCFwcnLCggULoFar8eWXXxr9WePHj8fWrVvRpEkTDB48GFqtFt988w3CwsJw6tSpJx7foEEDAMCnn36KXr16wdnZGR07dkSvXr0wZswYvPbaaxg+fDgyMjLw3XffoWrVqgUG+ZkwYQI2b96MF198EUOGDIFGo8G8efNQq1atfBesj2Lo8dOmTcPOnTsRERGBd955BzVr1kRiYiJOnDiBbdu2ITEx8bGfY+5zb8z37tChA5YvXw5fX1/UrFkTBw8exLZt2+Dv7//Ez6lUqRLCwsKwbds2vPXWW7nbz549CwDYunUrhgwZgurVq+PQoUO5F7zHjx/H4cOHC0y3VBTHjx9HYmIiOnfubLb3JHoYy0+Wnyw/iYio2LD+wPT0OPppfx613L59WwghxIkTJ0Tr1q2Fl5eX8PDwEC1atBAHDhzI9176aWTu379f6Gc8PI3Q9u3bRb169YSLi4sIDQ0VP/zwgxg5cqRwc3N74rFCCDFx4kTxzDPPCAcHh3z7t27dKsLCwoSLi4uoVq2aWLFiRaHTEgkhxO7du0WDBg2Ei4uLqFSpkpg/f/4jX1sYQ4+PjY0V7733nihbtqxwdnYWpUqVEi+//HLu9DtPYu5zb2jcSUlJon///iIgIEB4eXmJ1q1bi0uXLony5cs/cvqfh82cOVN4eXnlm95o1qxZwtHRUWzatEmEhoYKNzc38corr4izZ8+K0NBQUaZMGXH8+PHHfqfIyEjh6elZ4POaNWsmatWqVWD7mDFjRLly5YROp3tizETGYPnJ8pPlJxERFTcqISw8cg7ZrVdffRXnz58vtI8g2Z+UlBRUqlQJX375Ze4UQm+//Tb27NmDqKgoq8SgVqtRoUIFfPTRR3j//fet8plESmD5Wbyw/CQiIqWwDzsBkFPePOzKlSv4888/0bx5c2UCIrPz9fXF6NGjMWPGjNxRkc+ePYuaNWtaLYbFixfD2dm5wPzKRPaM5Wfxx/KTiIiUwhp2AgCEhISgX79+qFSpEm7duoXvvvsOarUaJ0+eLHSeW7J/Qgj4+Phg2LBhmDJlitLhENktlp9PH5afRERkLRx0jgAAbdq0wc8//4x79+7B1dUVjRs3xpQpU3ixWYzduHED6enpVq0hIiqOWH4+fVh+EhGRtbCGnYiIiIiIiMgGsQ87ERERERERkQ1iwk5ERERERERkg5iwExEREREREdkgJuxERERERERENogJOxEREREREZENYsJOREREREREZIOYsBMRERERERHZICbsRERERERERDaICTsRERERERGRDWLCTkRERERERGSDmLATERERERER2aD/B3OHW3YKnownAAAAAElFTkSuQmCC",
          "text/plain": "<Figure size 1200x300 with 3 Axes>"
         },
         "metadata": {},
         "output_type": "display_data"
        }
       ],
       "tabbable": null,
       "tooltip": null
      }
     },
     "800326db3d134d7ca38798cf8a9ddcb1": {
      "model_module": "@jupyter-widgets/base",
      "model_module_version": "2.0.0",
      "model_name": "LayoutModel",
      "state": {
       "_model_module": "@jupyter-widgets/base",
       "_model_module_version": "2.0.0",
       "_model_name": "LayoutModel",
       "_view_count": null,
       "_view_module": "@jupyter-widgets/base",
       "_view_module_version": "2.0.0",
       "_view_name": "LayoutView",
       "align_content": null,
       "align_items": null,
       "align_self": null,
       "border_bottom": null,
       "border_left": null,
       "border_right": null,
       "border_top": null,
       "bottom": null,
       "display": null,
       "flex": null,
       "flex_flow": null,
       "grid_area": null,
       "grid_auto_columns": null,
       "grid_auto_flow": null,
       "grid_auto_rows": null,
       "grid_column": null,
       "grid_gap": null,
       "grid_row": null,
       "grid_template_areas": null,
       "grid_template_columns": null,
       "grid_template_rows": null,
       "height": null,
       "justify_content": null,
       "justify_items": null,
       "left": null,
       "margin": null,
       "max_height": null,
       "max_width": null,
       "min_height": null,
       "min_width": null,
       "object_fit": null,
       "object_position": null,
       "order": null,
       "overflow": null,
       "padding": null,
       "right": null,
       "top": null,
       "visibility": null,
       "width": null
      }
     },
     "871d1490a4a84bf9a76d02c18ad77665": {
      "model_module": "@jupyter-widgets/base",
      "model_module_version": "2.0.0",
      "model_name": "LayoutModel",
      "state": {
       "_model_module": "@jupyter-widgets/base",
       "_model_module_version": "2.0.0",
       "_model_name": "LayoutModel",
       "_view_count": null,
       "_view_module": "@jupyter-widgets/base",
       "_view_module_version": "2.0.0",
       "_view_name": "LayoutView",
       "align_content": null,
       "align_items": null,
       "align_self": null,
       "border_bottom": null,
       "border_left": null,
       "border_right": null,
       "border_top": null,
       "bottom": null,
       "display": null,
       "flex": null,
       "flex_flow": null,
       "grid_area": null,
       "grid_auto_columns": null,
       "grid_auto_flow": null,
       "grid_auto_rows": null,
       "grid_column": null,
       "grid_gap": null,
       "grid_row": null,
       "grid_template_areas": null,
       "grid_template_columns": null,
       "grid_template_rows": null,
       "height": null,
       "justify_content": null,
       "justify_items": null,
       "left": null,
       "margin": null,
       "max_height": null,
       "max_width": null,
       "min_height": null,
       "min_width": null,
       "object_fit": null,
       "object_position": null,
       "order": null,
       "overflow": null,
       "padding": null,
       "right": null,
       "top": null,
       "visibility": null,
       "width": null
      }
     },
     "994ee2f091c547fb951e1ba654e847b7": {
      "model_module": "@jupyter-widgets/controls",
      "model_module_version": "2.0.0",
      "model_name": "VBoxModel",
      "state": {
       "_dom_classes": [
        "widget-interact"
       ],
       "_model_module": "@jupyter-widgets/controls",
       "_model_module_version": "2.0.0",
       "_model_name": "VBoxModel",
       "_view_count": null,
       "_view_module": "@jupyter-widgets/controls",
       "_view_module_version": "2.0.0",
       "_view_name": "VBoxView",
       "box_style": "",
       "children": [
        "IPY_MODEL_0551a06b88854059b14b77b5efbf7ba3",
        "IPY_MODEL_4c9dc9e5d1f84131b00ae272a97c88f3"
       ],
       "layout": "IPY_MODEL_6b94529dd2b442489acde294a1e8d67c",
       "tabbable": null,
       "tooltip": null
      }
     },
     "9c19b059c55b401892d3572527824405": {
      "model_module": "@jupyter-widgets/controls",
      "model_module_version": "2.0.0",
      "model_name": "FloatSliderModel",
      "state": {
       "_dom_classes": [],
       "_model_module": "@jupyter-widgets/controls",
       "_model_module_version": "2.0.0",
       "_model_name": "FloatSliderModel",
       "_view_count": null,
       "_view_module": "@jupyter-widgets/controls",
       "_view_module_version": "2.0.0",
       "_view_name": "FloatSliderView",
       "behavior": "drag-tap",
       "continuous_update": true,
       "description": "sig",
       "description_allow_html": false,
       "disabled": false,
       "layout": "IPY_MODEL_679e7c8cf8de415aadb3bc4db7f676b7",
       "max": 1.0,
       "min": 0.0,
       "orientation": "horizontal",
       "readout": true,
       "readout_format": ".2f",
       "step": 0.01,
       "style": "IPY_MODEL_9dfe462034434835aae833b813ca664d",
       "tabbable": null,
       "tooltip": null,
       "value": 0.3
      }
     },
     "9dfe462034434835aae833b813ca664d": {
      "model_module": "@jupyter-widgets/controls",
      "model_module_version": "2.0.0",
      "model_name": "SliderStyleModel",
      "state": {
       "_model_module": "@jupyter-widgets/controls",
       "_model_module_version": "2.0.0",
       "_model_name": "SliderStyleModel",
       "_view_count": null,
       "_view_module": "@jupyter-widgets/base",
       "_view_module_version": "2.0.0",
       "_view_name": "StyleView",
       "description_width": "",
       "handle_color": null
      }
     },
     "d67ea58c0eb34496bf6afe10627b548c": {
      "model_module": "@jupyter-widgets/controls",
      "model_module_version": "2.0.0",
      "model_name": "SliderStyleModel",
      "state": {
       "_model_module": "@jupyter-widgets/controls",
       "_model_module_version": "2.0.0",
       "_model_name": "SliderStyleModel",
       "_view_count": null,
       "_view_module": "@jupyter-widgets/base",
       "_view_module_version": "2.0.0",
       "_view_name": "StyleView",
       "description_width": "",
       "handle_color": null
      }
     },
     "d7a1bab403e446db9b1c04a3654eba50": {
      "model_module": "@jupyter-widgets/base",
      "model_module_version": "2.0.0",
      "model_name": "LayoutModel",
      "state": {
       "_model_module": "@jupyter-widgets/base",
       "_model_module_version": "2.0.0",
       "_model_name": "LayoutModel",
       "_view_count": null,
       "_view_module": "@jupyter-widgets/base",
       "_view_module_version": "2.0.0",
       "_view_name": "LayoutView",
       "align_content": null,
       "align_items": null,
       "align_self": null,
       "border_bottom": null,
       "border_left": null,
       "border_right": null,
       "border_top": null,
       "bottom": null,
       "display": null,
       "flex": null,
       "flex_flow": null,
       "grid_area": null,
       "grid_auto_columns": null,
       "grid_auto_flow": null,
       "grid_auto_rows": null,
       "grid_column": null,
       "grid_gap": null,
       "grid_row": null,
       "grid_template_areas": null,
       "grid_template_columns": null,
       "grid_template_rows": null,
       "height": null,
       "justify_content": null,
       "justify_items": null,
       "left": null,
       "margin": null,
       "max_height": null,
       "max_width": null,
       "min_height": null,
       "min_width": null,
       "object_fit": null,
       "object_position": null,
       "order": null,
       "overflow": null,
       "padding": null,
       "right": null,
       "top": null,
       "visibility": null,
       "width": null
      }
     },
     "e4b97fb4fbc04f6e969aaa4d171305e8": {
      "model_module": "@jupyter-widgets/base",
      "model_module_version": "2.0.0",
      "model_name": "LayoutModel",
      "state": {
       "_model_module": "@jupyter-widgets/base",
       "_model_module_version": "2.0.0",
       "_model_name": "LayoutModel",
       "_view_count": null,
       "_view_module": "@jupyter-widgets/base",
       "_view_module_version": "2.0.0",
       "_view_name": "LayoutView",
       "align_content": null,
       "align_items": null,
       "align_self": null,
       "border_bottom": null,
       "border_left": null,
       "border_right": null,
       "border_top": null,
       "bottom": null,
       "display": null,
       "flex": null,
       "flex_flow": null,
       "grid_area": null,
       "grid_auto_columns": null,
       "grid_auto_flow": null,
       "grid_auto_rows": null,
       "grid_column": null,
       "grid_gap": null,
       "grid_row": null,
       "grid_template_areas": null,
       "grid_template_columns": null,
       "grid_template_rows": null,
       "height": null,
       "justify_content": null,
       "justify_items": null,
       "left": null,
       "margin": null,
       "max_height": null,
       "max_width": null,
       "min_height": null,
       "min_width": null,
       "object_fit": null,
       "object_position": null,
       "order": null,
       "overflow": null,
       "padding": null,
       "right": null,
       "top": null,
       "visibility": null,
       "width": null
      }
     },
     "fce359fa1c5547c892c762aa96ee62cc": {
      "model_module": "@jupyter-widgets/controls",
      "model_module_version": "2.0.0",
      "model_name": "VBoxModel",
      "state": {
       "_dom_classes": [
        "widget-interact"
       ],
       "_model_module": "@jupyter-widgets/controls",
       "_model_module_version": "2.0.0",
       "_model_name": "VBoxModel",
       "_view_count": null,
       "_view_module": "@jupyter-widgets/controls",
       "_view_module_version": "2.0.0",
       "_view_name": "VBoxView",
       "box_style": "",
       "children": [
        "IPY_MODEL_5ce50d4374934d2880862e353e9b192c",
        "IPY_MODEL_4032629908e54505923feaeee7d497c5",
        "IPY_MODEL_9c19b059c55b401892d3572527824405",
        "IPY_MODEL_68742daed58a464fb04298c2e7873790"
       ],
       "layout": "IPY_MODEL_d7a1bab403e446db9b1c04a3654eba50",
       "tabbable": null,
       "tooltip": null
      }
     }
    },
    "version_major": 2,
    "version_minor": 0
   }
  }
 },
 "nbformat": 4,
 "nbformat_minor": 5
}