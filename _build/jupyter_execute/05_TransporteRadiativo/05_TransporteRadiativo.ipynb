{
 "cells": [
  {
   "cell_type": "markdown",
   "id": "8b01ca79",
   "metadata": {
    "slideshow": {
     "slide_type": "slide"
    }
   },
   "source": [
    " <font size=\"6\">MEC501 - Manejo y Conversión de Energía Solar Térmica</font>\n",
    "# Transporte Radiativo\n",
    "<br><br><br><br>\n",
    "Profesor: Francisco Ramírez Cuevas<br>\n",
    "Fecha: 9 de Septiembre 2022"
   ]
  },
  {
   "cell_type": "markdown",
   "id": "9ff4cae4",
   "metadata": {
    "slideshow": {
     "slide_type": "slide"
    }
   },
   "source": [
    "## Coherencia de la luz e interferencia\n",
    "Como veremos en las próximas clases, las vibraciones moleculares en la materia son las responsables de emitir radiación en forma de ondas electromagnéticas. El mecanismo es similar, pero inverso, al mecanismo de absorción de luz, el cual es originado por la interacción de ondas electromagnéticas con las vibraciones moleculares (ver clase 3)."
   ]
  },
  {
   "cell_type": "markdown",
   "id": "bcb7cf39",
   "metadata": {
    "slideshow": {
     "slide_type": "fragment"
    }
   },
   "source": [
    "Dicho esto, dos moléculas pueden emitir radiación con una pequeña variación en la longitud de onda $\\Delta\\lambda$. Esto ocurre porque las vibraciones no están 100% correlacionadas, es decir, existe un grado de aletoriedad en las vibraciones."
   ]
  },
  {
   "cell_type": "markdown",
   "id": "16081fa2",
   "metadata": {
    "slideshow": {
     "slide_type": "slide"
    }
   },
   "source": [
    "Esta aletoriedad en las vibraciones da lugar a una distribución del flujo de radiación emitido por una fuente.\n",
    "\n",
    "<img src=\"./images/light_source_spectra.png\" width=\"800px\" align= center>"
   ]
  },
  {
   "cell_type": "markdown",
   "id": "b54cf722",
   "metadata": {
    "slideshow": {
     "slide_type": "slide"
    }
   },
   "source": [
    "Por ejemplo, consideremos una fuente de luz con una distribución espectral normal, centrada en $\\lambda_0$ y con una desviación estandar $\\pm\\sigma_\\lambda\\lambda_0$, con $\\sigma_\\lambda \\in [0,1]$. Imaginemos esta fuente como $N$ emisores, donde cada emisor $j$ emite ondas electromagnéticas con longitud de onda $\\lambda \\pm\\Delta \\lambda_j$, donde $\\Delta \\lambda_j$ es escogido aleatoriamente a partir de la distribución normal."
   ]
  },
  {
   "cell_type": "markdown",
   "id": "31f81723",
   "metadata": {
    "cell_style": "split",
    "slideshow": {
     "slide_type": "fragment"
    }
   },
   "source": [
    "<img src=\"./images/normal_distribution.png\" width=\"400px\" align= center>"
   ]
  },
  {
   "cell_type": "markdown",
   "id": "76d68ef4",
   "metadata": {
    "cell_style": "split",
    "slideshow": {
     "slide_type": "fragment"
    }
   },
   "source": [
    "Asumiendo ondas en el aire en dirección $\\hat{k} = \\hat{x}$, el campo eléctrico resultante es:\n",
    "\n",
    "\\begin{equation*}\n",
    "\\vec{E}_\\mathrm{tot} = \\sum_j^N E_0e^{i\\left(k_jx - \\omega_j t\\right)} \\hat{z},\n",
    "\\end{equation*}\n",
    "\n",
    "donde $k_j = \\frac{2\\pi}{\\lambda \\pm\\Delta \\lambda_j}$, y $\\omega_j = c_0k_j$"
   ]
  },
  {
   "cell_type": "markdown",
   "id": "e5e55e68",
   "metadata": {
    "cell_style": "center",
    "slideshow": {
     "slide_type": "fragment"
    }
   },
   "source": [
    "Analicemos el comportamiento de $\\vec{E}_\\mathrm{tot} /E_0$ para $\\lambda_0 = 500$ nm"
   ]
  },
  {
   "cell_type": "code",
   "execution_count": 1,
   "id": "37df7e74",
   "metadata": {
    "cell_style": "split",
    "slideshow": {
     "slide_type": "slide"
    },
    "tags": [
     "hide-input"
    ]
   },
   "outputs": [],
   "source": [
    "import numpy as np\n",
    "from numpy.random import normal\n",
    "import matplotlib.pyplot as plt\n",
    "\n",
    "def light_packet(kdir, x, t, lam, sig, N):\n",
    "    c0 = 3E8          # velocidad de la luz (m/s)\n",
    "    xx = np.meshgrid(x,np.ones(N))[0]\n",
    "    \n",
    "    # Generamos arreglo de ondas aleatorias\n",
    "    dlamj =  normal(0, lam*sig,N)\n",
    "    kj = (2*np.pi/(lam + dlamj)).reshape(-1,1)\n",
    "    wj = c0*kj\n",
    "    Erand = np.exp(1j*(kdir*kj*xx-wj*t)) \n",
    "    \n",
    "    # Sumamos todas las ondas\n",
    "    return np.sum(Erand,axis=0)\n",
    " \n",
    "def plot_light_packet(N, t, sig):\n",
    "    '''\n",
    "    n: número de ondas generadas\n",
    "    t: tiempo en ns\n",
    "    sig: % de ancho de banda (dlam = sig*lam)\n",
    "    '''\n",
    "    lam = 0.5         # longitud de onda (um)\n",
    "    t = t*1E-9 # convertimos ns a s\n",
    "    \n",
    "    # recorrido de la onda\n",
    "    x = np.linspace(-2,2,1000)  # desde 0 a 4 micrones\n",
    "    E = light_packet(1, x, t, lam, sig, N)\n",
    "    \n",
    "    # Graficamos\n",
    "    fig, ax = plt.subplots()\n",
    "    fig.set_size_inches(9, 5)\n",
    "    plt.rcParams['font.size'] = '18'\n",
    "    \n",
    "    ax.plot(x,np.real(E), 'k')\n",
    "    ax.set_xlabel('x ($\\mu$m)')\n",
    "    ax.set_ylabel('Amplitud $|E|/E_0$')\n",
    "    ax.set_ylim(-N*1.1,N*1.1)\n",
    "    ax.grid()\n"
   ]
  },
  {
   "cell_type": "code",
   "execution_count": 2,
   "id": "5c81aca7",
   "metadata": {
    "cell_style": "split",
    "slideshow": {
     "slide_type": "fragment"
    },
    "tags": [
     "hide-input"
    ]
   },
   "outputs": [
    {
     "data": {
      "application/vnd.jupyter.widget-view+json": {
       "model_id": "664d89ed97914228a4facf0fdaa9daa3",
       "version_major": 2,
       "version_minor": 0
      },
      "text/plain": [
       "interactive(children=(IntSlider(value=1000, description='N', max=1000, min=1), FloatSlider(value=0.0, descript…"
      ]
     },
     "metadata": {},
     "output_type": "display_data"
    }
   ],
   "source": [
    "from ipywidgets import interact\n",
    "\n",
    "@interact( N=(1,1000,1), \n",
    "           t=(-10,10,0.1),\n",
    "           sig=(0,1,0.01))\n",
    "def g(N=1000, t=0, sig=0.3):\n",
    "    return plot_light_packet(N,t,sig)"
   ]
  },
  {
   "cell_type": "markdown",
   "id": "b53bb755",
   "metadata": {
    "slideshow": {
     "slide_type": "slide"
    }
   },
   "source": [
    "### Longitud de coherencia\n",
    "Definimos como **longitud de coherencia**, $l_c$, a la distancia donde un grupo de ondas electromagnética mantiene correlación entre las fases. Para longitudes mayores a $l_c$, decimos que la luz es incoherente, es decir, el desface entre las distintas ondas es completamente aleatorio."
   ]
  },
  {
   "cell_type": "markdown",
   "id": "3ea340f8",
   "metadata": {
    "cell_style": "split",
    "slideshow": {
     "slide_type": "fragment"
    }
   },
   "source": [
    "<img src=\"./images/coherence_length.png\" width=\"300px\" align= center>\n",
    "\n",
    "<center>Esquema de un paquete de onda emitido por una fuente con longitud de coherencia $l_c$</center>"
   ]
  },
  {
   "cell_type": "markdown",
   "id": "1f71b46f",
   "metadata": {
    "cell_style": "split",
    "slideshow": {
     "slide_type": "fragment"
    }
   },
   "source": [
    "La relación entre $l_c$, la longitud de onda central $\\lambda$ y el ancho de banda $\\Delta\\lambda$ está dado, aproximadamente, por la relación:\n",
    "\n",
    "\\begin{equation*}\n",
    "l_c \\approx \\frac{\\lambda^2}{n\\Delta \\lambda},\n",
    "\\end{equation*}\n",
    "\n",
    "donde $n$ es el indice de refracción del medio donde se propaga la luz.\n",
    "\n",
    "Por ejemplo, para lasers He-Ne (laser rojo)  $l_c\\approx 0.2 - 100$ m.  "
   ]
  },
  {
   "cell_type": "markdown",
   "id": "b8e319bd",
   "metadata": {
    "slideshow": {
     "slide_type": "slide"
    }
   },
   "source": [
    "Para radiación emitida por un cuerpo a temperatura $T$, la longitud de coherencia está dada por:\n",
    "\n",
    "\\begin{equation*}\n",
    "l_c T = 2167.8~\\mathrm{\\mu m~K}\n",
    "\\end{equation*}\n",
    "\n",
    "Así, por ejemplo, la radiación solar ($T \\approx 5800~\\mathrm{K}$) tiene una longitud de coherencia, $l_c \\approx 370~\\mathrm{nm}$"
   ]
  },
  {
   "cell_type": "markdown",
   "id": "659f7454",
   "metadata": {
    "slideshow": {
     "slide_type": "slide"
    }
   },
   "source": [
    "### Régimen de trasporte de luz\n",
    "Consideremos dos paquetes de onda con una longitud de coherencia $l_c$, viajando en sentido opuesto."
   ]
  },
  {
   "cell_type": "markdown",
   "id": "1b6928bc",
   "metadata": {
    "slideshow": {
     "slide_type": "fragment"
    }
   },
   "source": [
    "Podemos ver que ambos paquetes de luz interfieren en $x = 0$ en un instante $t$. Al continuar su camino, ambos paquetes de onda recuperan su forma original."
   ]
  },
  {
   "cell_type": "code",
   "execution_count": 3,
   "id": "8b9e3e63",
   "metadata": {
    "cell_style": "split",
    "slideshow": {
     "slide_type": "slide"
    },
    "tags": [
     "hide-input"
    ]
   },
   "outputs": [],
   "source": [
    "def plot_2light_packet(n, t, sig):\n",
    "    '''\n",
    "    n: número de ondas generadas\n",
    "    t: tiempo en ns\n",
    "    sig: % de ancho de banda (dlam = sig*lam)\n",
    "    '''\n",
    "    t = t*1E-9 # convertimos ns a s\n",
    "    lam = 0.5\n",
    "    \n",
    "    # recorrido de la onda\n",
    "    x = np.linspace(-2,2,1000)  # desde 0 a 4 micrones\n",
    "    k0 = 2*np.pi/lam\n",
    "    Efw = light_packet( 1, x - x[ 0], t, lam, sig, n)\n",
    "    Ebw = light_packet(-1, x - x[-1], t, lam, sig, n)\n",
    "    \n",
    "    # Graficamos\n",
    "    fig, ax = plt.subplots()\n",
    "    fig.set_size_inches(9, 5)\n",
    "    plt.rcParams['font.size'] = '18'\n",
    "    \n",
    "    ax.plot(x,np.real(Efw + Ebw), 'k')\n",
    "    ax.set_xlabel('x ($\\mu$m)')\n",
    "    ax.set_ylabel('Amplitud $|E|/E_0$')\n",
    "    ax.set_ylim(-n*2.1,n*2.1)\n",
    "    ax.grid()\n"
   ]
  },
  {
   "cell_type": "code",
   "execution_count": 4,
   "id": "977daeda",
   "metadata": {
    "cell_style": "split",
    "tags": [
     "hide-input"
    ]
   },
   "outputs": [
    {
     "data": {
      "application/vnd.jupyter.widget-view+json": {
       "model_id": "819a93de9bbf4ac3904b95e3f1c18235",
       "version_major": 2,
       "version_minor": 0
      },
      "text/plain": [
       "interactive(children=(IntSlider(value=1000, description='N', max=1000, min=1), FloatSlider(value=2.0, descript…"
      ]
     },
     "metadata": {},
     "output_type": "display_data"
    }
   ],
   "source": [
    "from ipywidgets import interact\n",
    "\n",
    "@interact( N=(1,1000,1), \n",
    "           t=(0,20,0.1),\n",
    "           sig=(0,1,0.01))\n",
    "def g(N=1000, t=2, sig=0.3):\n",
    "    return plot_2light_packet(N,t,sig)"
   ]
  },
  {
   "cell_type": "markdown",
   "id": "615ad1c6",
   "metadata": {
    "slideshow": {
     "slide_type": "slide"
    }
   },
   "source": [
    "A partir de esto, podemos concluir que los fenómenos de interferencia en películas de capa delgada de espesor $d$ no serían visibles si $d > l_c$. En otras palabras, el fenómeno de interferencia solo existe si el paquete de onda interfiere consigo mismo."
   ]
  },
  {
   "cell_type": "markdown",
   "id": "db4d20e4",
   "metadata": {
    "cell_style": "split",
    "slideshow": {
     "slide_type": "fragment"
    }
   },
   "source": [
    "<img src=\"./images/interference_thinfilm.png\" width=\"200px\" align= center>\n",
    "\n",
    "<center>Propagación de una onda a través de una película de espesor $d$, con $l_c < d$</center>"
   ]
  },
  {
   "cell_type": "markdown",
   "id": "fce7ef57",
   "metadata": {
    "cell_style": "split",
    "slideshow": {
     "slide_type": "fragment"
    }
   },
   "source": [
    "En general, para una longitud características $d$:\n",
    "\n",
    "- Si $d > l_c$ el **transporte de luz es incoherente** . En este régimen, podemos ignorar las propiedades oscilatorias de la luz, y analizar el problema como el transporte de pequeños paquetes de onda, o simplemente como partículas.\n",
    "\n",
    "- Si $d < l_c$, el **transporte de luz es coherente**. En este régimen debemos considerar las propiedades oscilatorias a partir de las Ecuaciones de Maxwell."
   ]
  },
  {
   "cell_type": "markdown",
   "id": "06aab8e7",
   "metadata": {
    "cell_style": "center",
    "slideshow": {
     "slide_type": "slide"
    }
   },
   "source": [
    "Así, los coeficientes de Fresnel para una película delgada solo son válidos para $d < l_c$. "
   ]
  },
  {
   "cell_type": "markdown",
   "id": "c7f85265",
   "metadata": {
    "cell_style": "split",
    "slideshow": {
     "slide_type": "fragment"
    }
   },
   "source": [
    "Los coeficientes de Fresnel para una interface, en cambio, siempre son válidos."
   ]
  },
  {
   "cell_type": "markdown",
   "id": "57178760",
   "metadata": {
    "cell_style": "split",
    "slideshow": {
     "slide_type": "fragment"
    }
   },
   "source": [
    "<img src=\"./images/interference_interface.png\" width=\"350px\" align= center>\n",
    "\n",
    "<center>Refracción y reflexión de una onda incoherente a través de una interfaz</center>"
   ]
  },
  {
   "cell_type": "markdown",
   "id": "0c79f1b6",
   "metadata": {
    "slideshow": {
     "slide_type": "slide"
    }
   },
   "source": [
    "Igualmente, en medios particulados, los fenómenos de interferencia pueden ocurrir si las partículas están suficientemente cerca y tienen tamaños similares. Llamamos a esto **scattering coherente**"
   ]
  },
  {
   "cell_type": "markdown",
   "id": "61e2a519",
   "metadata": {
    "slideshow": {
     "slide_type": "fragment"
    }
   },
   "source": [
    "<img src=\"./images/scattering_coherence.png\" width=\"600px\" align= center>\n",
    "\n",
    "<center>Fenómeno de interferencia en scattering</center>"
   ]
  },
  {
   "cell_type": "markdown",
   "id": "8167d93c",
   "metadata": {
    "slideshow": {
     "slide_type": "slide"
    }
   },
   "source": [
    "El fenómeno de scattering coherente da lugar a los denominados **colores estructurales** presentes en las alas de las aves y mariposas (mas info [acá](https://wires.onlinelibrary.wiley.com/doi/10.1002/wnan.1396))"
   ]
  },
  {
   "cell_type": "markdown",
   "id": "06446d60",
   "metadata": {
    "cell_style": "split",
    "slideshow": {
     "slide_type": "fragment"
    }
   },
   "source": [
    "<img src=\"./images/structural_colors_birds.png\" width=\"550px\" align= center>\n",
    "\n",
    "<center>Colores estructurales en alas de aves</center>\n",
    "\n",
    "Fuente: [Hwang, V. et al. PNAS 118 (4) e2015551118\n",
    " (2020)](https://www.pnas.org/doi/10.1073/pnas.2015551118)"
   ]
  },
  {
   "cell_type": "markdown",
   "id": "71eaafb2",
   "metadata": {
    "cell_style": "split",
    "slideshow": {
     "slide_type": "fragment"
    }
   },
   "source": [
    "<img src=\"./images/structural_colors_buterflies.png\" width=\"450px\" align= center>\n",
    "\n",
    "<center>Colores estructurales en alas de mariposa</center>\n",
    "\n",
    "Fuente: [Tippets C. A. et al. J. Opt. 18 (2016) 065105](https://iopscience.iop.org/article/10.1088/2040-8978/18/6/065105)"
   ]
  },
  {
   "cell_type": "markdown",
   "id": "f629fcbe",
   "metadata": {
    "slideshow": {
     "slide_type": "slide"
    }
   },
   "source": [
    "## Teoría de transferencia radiativa\n",
    "Si el transporte de luz es incoherente, podemos ignorar las propiedades oscilatorias de la luz y analizar el fenómeno óptico como un el transporte de radiación a través de un volumen de control."
   ]
  },
  {
   "cell_type": "markdown",
   "id": "f62e3c70",
   "metadata": {
    "slideshow": {
     "slide_type": "slide"
    }
   },
   "source": [
    "### Intensidad específica"
   ]
  },
  {
   "cell_type": "markdown",
   "id": "790c7714",
   "metadata": {
    "cell_style": "split",
    "slideshow": {
     "slide_type": "-"
    }
   },
   "source": [
    "Definimos como **radiancia espectral o intensidad específica**, $I_\\lambda$, al flujo de energía por **ángulo sólido diferencial**, $d\\Omega$, para una longitud de onda $\\lambda$.\n",
    "\n",
    "<img src=\"./images/specific_intensity.png\" width=\"300px\" align= center>"
   ]
  },
  {
   "cell_type": "markdown",
   "id": "8568f20b",
   "metadata": {
    "cell_style": "split",
    "slideshow": {
     "slide_type": "fragment"
    }
   },
   "source": [
    "El ángulo sólido define el tamaño relativo del área $S$ para un observador en $P$ a una distancia $r$. \n",
    "\n",
    "El diferencial está definido por $d\\Omega = \\sin\\theta d\\theta d\\phi$\n",
    "\n",
    "<img src=\"./images/solid_angle.png\" width=\"450px\" align= center>"
   ]
  },
  {
   "cell_type": "markdown",
   "id": "0d8ed016",
   "metadata": {
    "slideshow": {
     "slide_type": "slide"
    }
   },
   "source": [
    "Es importante aclarar que los conceptos intensidad específica y vector de Poynting $\\langle\\vec{S}\\rangle$, son equivalentes: $I_\\lambda(\\hat{k})$ es un término utilizado en radiometría para definir el flujo de energía por unidad de ángulo sólido, mientras que $\\langle\\vec{S}\\rangle$ es un término ulizado en óptica para describir el flujo de energía en dirección $\\hat{k}$. Cabe destacar, sin embargo, que $I_\\lambda(\\hat{k})$ es una magnitud, y $\\langle\\vec{S}\\rangle$ es un vector. Así, podríamos decir que la relación entre estos dos términos está dada por $I_\\lambda(\\hat{k}) = \\langle\\vec{S}\\rangle\\cdot\\hat{k}$."
   ]
  },
  {
   "cell_type": "markdown",
   "id": "067ade0b",
   "metadata": {
    "slideshow": {
     "slide_type": "fragment"
    }
   },
   "source": [
    "El ángulo sólido total para una esfera es:\n",
    "\\begin{equation*}\n",
    "\\int_\\mathrm{esfera} d\\Omega = \\int_0^{2\\pi}\\int_0^{\\pi} \\sin\\theta d\\theta d\\phi= 4\\pi\n",
    "\\end{equation*}"
   ]
  },
  {
   "cell_type": "markdown",
   "id": "921c9262",
   "metadata": {
    "slideshow": {
     "slide_type": "slide"
    }
   },
   "source": [
    "### Ecuación de transferencia radiativa\n",
    "La **ecuación de transferencia radiativa** (RTE por sus siglas en ingles), es una ecuación de transporte que describe la propagación de la radiancia espectral, $I_\\lambda(\\vec{r},\\hat{k})$, en función de la posición posición $\\vec{r}$ y dirección $\\hat{k}$. En su forma más general, para un problema estacionario:\n",
    "\n",
    "\\begin{equation}\n",
    "\\hat{k}\\cdot\\nabla_r I_\\lambda(\\vec{r},\\hat{k}) = - \\left[\\frac{f_v}{V_p}C_\\mathrm{ext} + 2\\kappa k_0\\right]I_\\lambda(\\vec{r},\\hat{k}) + \\frac{f_v}{V_p}\\int_{4\\pi} P_\\mathrm{sca}(\\hat{k},\\hat{k}') I_\\lambda(\\vec{r},\\hat{k}') d\\Omega'\n",
    "\\end{equation}"
   ]
  },
  {
   "cell_type": "markdown",
   "id": "44c82ce8",
   "metadata": {
    "slideshow": {
     "slide_type": "fragment"
    }
   },
   "source": [
    "donde $f_v$ y $V_p$ son, respectivamente la fracción de volúmen y el volúmen de las partículas en el medio, y $P_\\mathrm{sca}(\\hat{k},\\hat{k}')$ es la función de fase."
   ]
  },
  {
   "cell_type": "markdown",
   "id": "84f7041f",
   "metadata": {
    "slideshow": {
     "slide_type": "slide"
    }
   },
   "source": [
    "Notar que consideramos el caso más generalizado de la función de fase, que depende tanto de la dirección de la radiación incidente $\\hat{k}$ como de la dirección del scattering $\\hat{k}'$. Ambas definidas por ángulo sólido"
   ]
  },
  {
   "cell_type": "markdown",
   "id": "556660a5",
   "metadata": {
    "cell_style": "center",
    "slideshow": {
     "slide_type": "fragment"
    }
   },
   "source": [
    "En el caso de una esfera, $\\hat{k}_\\mathrm{sca} = \\hat{k}$ y $\\hat{k}_\\mathrm{inc} = \\hat{k}'$. Así, la función de fase depende de $\\theta$, el cual está definido por $\\cos\\theta = \\hat{k}\\cdot\\hat{k}'$\n",
    "\n"
   ]
  },
  {
   "cell_type": "markdown",
   "id": "b7b71333",
   "metadata": {
    "slideshow": {
     "slide_type": "slide"
    }
   },
   "source": [
    "Con esto en mente, ahora podemos discutir el significado de los términos en la RTE:"
   ]
  },
  {
   "cell_type": "markdown",
   "id": "12e1a1e8",
   "metadata": {
    "slideshow": {
     "slide_type": "fragment"
    }
   },
   "source": [
    "- El primer término representa el cambio de $I_\\lambda(\\vec{r},\\hat{k})$ a través volumen diferencial. Por ejemplo, en el caso unidimencional en dirección $\\hat{k} = \\hat{x}$, tenemos: \n",
    "\n",
    "\\begin{equation*}\n",
    "\\hat{x}\\cdot\\nabla_r I_\\lambda(\\vec{r},\\hat{k}) = \\frac{\\partial}{\\partial x}I_\\lambda(\\vec{r},\\hat{k})\n",
    "\\end{equation*}"
   ]
  },
  {
   "cell_type": "markdown",
   "id": "231c3da9",
   "metadata": {
    "slideshow": {
     "slide_type": "fragment"
    }
   },
   "source": [
    "- El segundo término representa la pérdida de energía radiativa, por extinción $\\left(\\frac{f_v}{V_p}C_\\mathrm{ext}\\right)$ y absorción en el material material ($2\\kappa k_0$), respectivamente. Recordemos que la extinción representa la energía absorbida por las partículas + la energía de scattering en direcciónes distintas a $\\hat{k}$, es decir $C_\\mathrm{ext}= C_\\mathrm{abs} + C_\\mathrm{sca}$."
   ]
  },
  {
   "cell_type": "markdown",
   "id": "4754c5ed",
   "metadata": {
    "slideshow": {
     "slide_type": "fragment"
    }
   },
   "source": [
    "- El tercer término representa la ganancia de energía radiativa produco del scattering inducido por radiación incidente en dirección $\\hat{k}'$. Este término representa el fenómeno de **scattering múltiple**."
   ]
  },
  {
   "cell_type": "markdown",
   "id": "43766712",
   "metadata": {
    "slideshow": {
     "slide_type": "slide"
    }
   },
   "source": [
    "## Soluciones de la RTE\n",
    "La ecuación de transferencia radiativa permite explicar de forma fenomenológica el transporte de radiación en un medio particulado. Debido a su complejidad, existen pocas soluciones analíticas. En esta sección describiremos las tres más conocidas."
   ]
  },
  {
   "cell_type": "markdown",
   "id": "6037462f",
   "metadata": {
    "slideshow": {
     "slide_type": "slide"
    }
   },
   "source": [
    "### Película de material sin partículas (Reflectividad y Transmisividad incoherente)\n",
    "En el caso de un medio sin partículas solo debemos considerar el primer término de la RTE. "
   ]
  },
  {
   "cell_type": "markdown",
   "id": "38e80853",
   "metadata": {
    "slideshow": {
     "slide_type": "fragment"
    }
   },
   "source": [
    "Para el caso particular de un material de espesor $t_\\mathrm{film}$ e índice de refracción $N = n + \\kappa$, rodeado por un medio con índice de refracción $N_0$, derivamos las siguientes relaciones de reflectividad y tranmisividad para luz incoherente:\n",
    "\n",
    "\\begin{align}\n",
    "R_\\mathrm{incoh}&= R_0 + \\frac{T_0^2R_0e^{-4\\kappa k_0 t_\\mathrm{film}}}{1 - R_0^2e^{-4\\kappa k_0 t_\\mathrm{film}}} \n",
    "\\\\[10pt]\n",
    "T_\\mathrm{incoh} &= \\frac{T_0^2e^{-4\\kappa k_0 t_\\mathrm{film}}}{1 - R_0^2e^{-4\\kappa k_0 t_\\mathrm{film}}}\n",
    "\\end{align}\n",
    "\n",
    "donde $R_0$ y $T_0$ corresponden, respectivamente, a la reflectividad y transmisividad en la interface $N_0 / N_1$"
   ]
  },
  {
   "cell_type": "markdown",
   "id": "7b8cb924",
   "metadata": {
    "slideshow": {
     "slide_type": "slide"
    }
   },
   "source": [
    "En el siguiente ejemplo, utilizamos la función ```incoh_multilayer``` de la libreria ```empylib.waveoptics```. Esta función es más general que la ecuación anterior y permite determinar $R_\\mathrm{incoh}$ y $T_\\mathrm{incoh}$ para arreglos multicapas. "
   ]
  },
  {
   "cell_type": "markdown",
   "id": "2a3e7bbc",
   "metadata": {
    "slideshow": {
     "slide_type": "fragment"
    }
   },
   "source": [
    "En este caso, evaluaremos una película de sílice de espesor $1~\\mu\\mathrm{m}$, sobre un sustrato con íncide de refracción $N_\\mathrm{back} = 4.3$, y con aire en la superficie $N_\\mathrm{front} = 1.0$. El espectro de longitudes de onda $\\lambda\\in[0.3,0.8]~\\mu\\mathrm{m}$ y el ángulo de incidencia $\\theta_i = 30°$. Para comparar, determinaremos $R$ y $T$ para el caso de luz coherente."
   ]
  },
  {
   "cell_type": "code",
   "execution_count": 5,
   "id": "a99aa431",
   "metadata": {
    "cell_style": "split",
    "slideshow": {
     "slide_type": "slide"
    },
    "tags": [
     "hide-input"
    ]
   },
   "outputs": [],
   "source": [
    "import numpy as np\n",
    "import empylib.waveoptics as wv\n",
    "import empylib.nklib as nk\n",
    "\n",
    "lam = np.linspace(2,10,100)  # espectro de longitudes de onda (um)\n",
    "theta = np.radians(30)          # ángulo de incidencia\n",
    "\n",
    "Nfront = 1.0                 # índice de refracción medio superior\n",
    "N1     = nk.SiO2(lam)        # índice de refracción capa delgada\n",
    "Nback  = 4.3                 # índice de refracción medio inferior\n",
    "N = (Nfront, N1, Nback)      # indices de refracción (above, mid, below)\n",
    "d = 1.0                      # espesor capa intermedia (um)\n",
    "\n",
    "# caso luz incoherente\n",
    "Rp_incoh, Tp_incoh = wv.incoh_multilayer(lam,theta, N, d, pol='TM')\n",
    "# caso luz coherente\n",
    "Rp, Tp = wv.multilayer(lam,theta, N, d, pol='TM')[:2]"
   ]
  },
  {
   "cell_type": "code",
   "execution_count": 6,
   "id": "3bee2ad8",
   "metadata": {
    "cell_style": "split",
    "slideshow": {
     "slide_type": "fragment"
    },
    "tags": [
     "hide-input"
    ]
   },
   "outputs": [
    {
     "data": {
      "image/png": "[encoded data removed]",
      "text/plain": [
       "<Figure size 700x500 with 1 Axes>"
      ]
     },
     "metadata": {
      "filenames": {
       "image/png": "/mnt/c/Users/frami/OneDrive - Universidad Adolfo Ibanez/Teaching_courses/MEC501 - Manejo_y_Conversion_Energia_Solar_Termica/material_catedra/_build/jupyter_execute/05_TransporteRadiativo/05_TransporteRadiativo_49_0.png"
      }
     },
     "output_type": "display_data"
    }
   ],
   "source": [
    "fig, ax = plt.subplots()\n",
    "fig.set_size_inches(7, 5)\n",
    "plt.rcParams['font.size'] = '16'\n",
    "\n",
    "# Graficamos el flujo de energía\n",
    "plt.plot(lam,Rp,'--r',label='$R_\\mathrm{TM}$ (coh)')\n",
    "plt.plot(lam,Tp,'--b',label='$T_\\mathrm{TM}$ (coh)')\n",
    "plt.plot(lam,Rp_incoh,'-r',label='$R_\\mathrm{TM}$ (incoh)')\n",
    "plt.plot(lam,Tp_incoh,'-b',label='$T_\\mathrm{TM}$ (incoh)')\n",
    "plt.title('arreglo 1.0/1.5/4.3')\n",
    "plt.xlabel('Longitud de onda ($\\mu$m)')\n",
    "plt.ylabel('Refletividad / Transmisividad')\n",
    "plt.legend()\n",
    "plt.show()"
   ]
  },
  {
   "cell_type": "markdown",
   "id": "c6ed7877",
   "metadata": {
    "slideshow": {
     "slide_type": "slide"
    }
   },
   "source": [
    "En la figura, para el caso de luz coherente, notamos oscilaciones en $R$ y $T$ producto de los fenómenos de interferencia. En el caso de luz incoherente, el fenómeno de interferencia desaparace."
   ]
  },
  {
   "cell_type": "markdown",
   "id": "a5316b37",
   "metadata": {
    "slideshow": {
     "slide_type": "slide"
    }
   },
   "source": [
    "### Película de material con baja concentración de partículas (Ley de Beer-Lambert)\n",
    "Definimos el **camino libre medio de scattering**, como $\\Lambda_\\mathrm{sca} = \\left(f_v C_\\mathrm{sca}/V_p\\right)^{-1}$. Este parametro representa la distancia promedio que recorre la luz entre eventos de scattering."
   ]
  },
  {
   "cell_type": "markdown",
   "id": "a352fb08",
   "metadata": {
    "cell_style": "center",
    "slideshow": {
     "slide_type": "fragment"
    }
   },
   "source": [
    "Si $\\Lambda_\\mathrm{sca}$ es mayor que el espesor del material, $t_\\mathrm{film}$, la probabilidad de que ocurran más de un evento scattering es despreciable, y decimos que el **scattering es de primer orden**. En este caso, el tercer término de la RTE es despreciable y la radiación solo pierde energía por absorción del material o extinción inducida por las partículas."
   ]
  },
  {
   "cell_type": "markdown",
   "id": "9407f0e6",
   "metadata": {
    "slideshow": {
     "slide_type": "slide"
    }
   },
   "source": [
    "La solución a esta ecuación se conoce como la ley de Beer-Lambert. Mediante esta aproximación podemos deducir las componentes total y especular de la transmitancia:\n",
    "\n",
    "\\begin{equation}\n",
    "T_\\mathrm{tot} = T_0 e^{-f_v\\frac{C_\\mathrm{abs}}{V_p}t_\\mathrm{film}}\\quad\\quad\\mathrm{and}\\quad\\quad \n",
    "T_\\mathrm{spec} = T_0 e^{-f_v\\frac{C_\\mathrm{ext}}{V_p}t_\\mathrm{film}}\n",
    "\\end{equation}\n",
    "\n",
    "donde, $T_0$ es la **transmisividad incoherente del material sin incrustaciones**."
   ]
  },
  {
   "cell_type": "markdown",
   "id": "2f29ecb5",
   "metadata": {
    "slideshow": {
     "slide_type": "fragment"
    }
   },
   "source": [
    "<img src=\"./images/beer_lambert.png\" width=\"500px\" align= center>\n",
    "\n",
    "<center>Transporte de luz en un medio con scattering de primer orden</center>"
   ]
  },
  {
   "cell_type": "markdown",
   "id": "963bc3c6",
   "metadata": {
    "slideshow": {
     "slide_type": "slide"
    }
   },
   "source": [
    "Podemos utilizar la ley de Beer-Lambert para analizar, de forma aproximada, el efecto del color del cielo durante el día y en la tarde."
   ]
  },
  {
   "cell_type": "markdown",
   "id": "227d193d",
   "metadata": {
    "slideshow": {
     "slide_type": "fragment"
    }
   },
   "source": [
    "El color del cielo está dado por la componente difusa. Así calculamos $T_\\mathrm{dif} = T_\\mathrm{tot} - T_\\mathrm{spec}$."
   ]
  },
  {
   "cell_type": "markdown",
   "id": "a2577fed",
   "metadata": {
    "slideshow": {
     "slide_type": "fragment"
    }
   },
   "source": [
    "Consideremos una atmosfera compuesta de aire ($N_h = 1.0$) y una pequeña concentración ($f_v = 1\\times 10^{-6}~\\%$) de partículas de 10 nm de diámetro e índice de refracción $N_p = 1.5$. El espesor de la atmosfera es $t_\\mathrm{atm} = 100~\\mathrm{km}$"
   ]
  },
  {
   "cell_type": "code",
   "execution_count": 7,
   "id": "33491447",
   "metadata": {
    "cell_style": "center",
    "slideshow": {
     "slide_type": "slide"
    },
    "tags": [
     "hide-input"
    ]
   },
   "outputs": [],
   "source": [
    "import empylib.rad_transfer as rt\n",
    "import empylib.nklib as nk\n",
    "import numpy as np\n",
    "import matplotlib.pyplot as plt\n",
    "from empylib.ref_spectra import AM15, Bplanck\n",
    "from empylib.ref_spectra import color_system as cs\n",
    "cs = cs.hdtv\n",
    "\n",
    "lam1 = np.linspace(0.38,0.78,100) # espectro de longitudes de onda\n",
    "cs.interp_internals(lam1)\n",
    "def plot_atmosphere(theta_sun):\n",
    "    fig, ax = plt.subplots()          \n",
    "    fig.set_size_inches(8, 5)         # Tamaño del gráfico\n",
    "    plt.rcParams['font.size'] = '14'  # tamaño de  fuente\n",
    "    \n",
    "    # parámetros de entrada\n",
    "    tatm = 100E6                      # espesor de la atmósfera en mm\n",
    "    N = (1.0,1.0,1.0)                 # indice de refracción superior, intermedio e inferior\n",
    "    fvp = 1E-8                        # fracción de volúmen de las partículas\n",
    "    Dp = 0.010                        # diámetro de las partículas\n",
    "    Np = 1.5                          # índice de refracción de las partículas\n",
    "    \n",
    "    # transmitancia total y especular\n",
    "    theta = np.radians(theta_sun)    # posición del sol en radianes\n",
    "    Ttot, Tspec = rt.T_beer_lambert(lam1,theta,tatm,N,fvp,Dp,Np)[:2]\n",
    "    \n",
    "    Tdif = Ttot - Tspec              # transmitancia difusa\n",
    "    ax.plot(lam1,Tdif,'-k',label = 'Tdif')\n",
    "    ax.set_xlabel('Longitud de onda ($\\mu$m)')\n",
    "    ax.set_ylabel('Transmisividad')\n",
    "    ax.set_title(r'Posición del sol, $\\theta_\\mathrm{sun}$=%.1f°'% (theta_sun))\n",
    "    ax.set_ylim(0,1.05)\n",
    "    \n",
    "    Dcircle = 0.25\n",
    "    ax2 = fig.add_axes([0.11,0.15, Dcircle, Dcircle])\n",
    "    Irad = Tdif*Bplanck(lam1,5777)\n",
    "    html_rgb = cs.spec_to_rgb(Irad, out_fmt='html')\n",
    "    Circle = plt.Circle((0, 0), Dcircle, color=html_rgb)\n",
    "    ax2.add_patch(Circle)\n",
    "    ax2.set_aspect('equal')\n",
    "    ax2.set_xlim(-Dcircle*1.2,Dcircle*1.2)\n",
    "    ax2.set_ylim(-Dcircle*1.2,Dcircle*1.2)\n",
    "    ax2.set_xticks([])\n",
    "    ax2.set_yticks([])\n",
    "    ax2.set_facecolor('k')"
   ]
  },
  {
   "cell_type": "code",
   "execution_count": 8,
   "id": "f3b08336",
   "metadata": {
    "cell_style": "center",
    "slideshow": {
     "slide_type": "slide"
    },
    "tags": [
     "hide-input"
    ]
   },
   "outputs": [
    {
     "data": {
      "application/vnd.jupyter.widget-view+json": {
       "model_id": "91fe54fee09c4ab1aabc758138de1241",
       "version_major": 2,
       "version_minor": 0
      },
      "text/plain": [
       "interactive(children=(FloatSlider(value=0.0, description='theta_sun', max=89.99), Output()), _dom_classes=('wi…"
      ]
     },
     "metadata": {},
     "output_type": "display_data"
    }
   ],
   "source": [
    "from ipywidgets import interact\n",
    "\n",
    "@interact(theta_sun=(0,89.99,0.1))\n",
    "def g(theta_sun=0):\n",
    "    return plot_atmosphere(theta_sun)"
   ]
  },
  {
   "cell_type": "markdown",
   "id": "8aa6d072",
   "metadata": {
    "cell_style": "center",
    "slideshow": {
     "slide_type": "slide"
    }
   },
   "source": [
    "### Pelicula de material particulado (simulaciones de transferencia radiativa)\n",
    "Este caso corresponde a materiales con $\\Lambda_\\mathrm{sca} > t_\\mathrm{film}$. En este caso los eventos de scattering se producen más de una vez, y decimos que estámos en un régimen de **scattering múltiple**. Como resultado, los tres términos de la RTE son relevantes y debemos resolver la ecuación mediante simulación computacional.\n",
    "\n",
    "<img src=\"./images/multiple_scattering.png\" width=\"400px\" align= center>\n",
    "\n",
    "<center>Transporte de luz en un medio con scattering múltiple</center>"
   ]
  },
  {
   "cell_type": "markdown",
   "id": "bea5c468",
   "metadata": {
    "slideshow": {
     "slide_type": "slide"
    }
   },
   "source": [
    "Consideremos un material de sílice de espesor $t_\\mathrm{film} = 5~\\mathrm{mm}$. Evaluaremos los colores de este material en transmisión y reflección para luz incidente normal a la superficie en función de la concentración y el diámetro de las partículas. Utilizamos la función ```ad_rad_transfer``` de la librería ```empylib.rad_transfer```"
   ]
  },
  {
   "cell_type": "code",
   "execution_count": 9,
   "id": "24c8d4d6",
   "metadata": {
    "slideshow": {
     "slide_type": "slide"
    },
    "tags": [
     "hide-input"
    ]
   },
   "outputs": [],
   "source": [
    "import empylib.rad_transfer as rt\n",
    "import empylib.nklib as nk\n",
    "import empylib.miescattering as mie\n",
    "import numpy as np\n",
    "import matplotlib.pyplot as plt\n",
    "\n",
    "lam2 = np.linspace(0.3,1.0,100) # espectro de longitudes de onda en micrometros\n",
    "Nlayers = (1.0,1.5,1.0)   # indice de refracción superior, intermedio e inferior\n",
    "Np = nk.silver(lam2)                # Índice de refracción de las partículas\n",
    "cs.interp_internals(lam2)\n",
    "\n",
    "def plot_glass_silver(fv,D):\n",
    "    # parámetros de entrada\n",
    "    \n",
    "    theta = np.radians(0)       # 0 grados en radianes\n",
    "    tfilm = 5                   # espesor en milímetros\n",
    "    \n",
    "    fv = fv*1E-7                # fracción de volúmen de las partículas\n",
    "    D = D*1E-3                  # diámetro de las partículas\n",
    "    \n",
    "    qext, qsca = mie.scatter_efficiency(lam2,Nlayers[1],Np,D)[:2]\n",
    "    qabs = qext - qsca\n",
    "    Rtot, Ttot = rt.adm_sphere(lam2,tfilm,Nlayers,fv,D,Np)\n",
    "\n",
    "    fig, ax = plt.subplots(1,3)\n",
    "    fig.set_size_inches(20, 5)\n",
    "    plt.rcParams['font.size'] = '16'\n",
    "    \n",
    "    ax[0].plot(lam2,qsca,'-r',label='$C_\\mathrm{sca} A_c$')\n",
    "    ax[0].plot(lam2,qabs,'-b',label='$C_\\mathrm{abs} A_c$')\n",
    "    ax[0].set_xlabel('Longitud de onda ($\\mu$m)')\n",
    "    ax[0].set_ylabel('Eficiencia transversal')\n",
    "    ax[0].set_title('Partícula de plata (D=%.0f nm)' % (D*1E3))\n",
    "    ax[0].legend()\n",
    "    ax[0].set_ylim(0,10)\n",
    "    \n",
    "    ax[1].plot(lam2,Rtot,'-r',label = 'Rtot')\n",
    "    ax[1].plot(lam2,Ttot,'-b',label = 'Ttot')\n",
    "    ax[1].set_xlabel('Longitud de onda ($\\mu$m)')\n",
    "    ax[1].set_ylabel('Transmisividad')\n",
    "    ax[1].set_title(r'Sílice con plata (fv = %.3e %%)' % (fv*100) )\n",
    "    ax[1].legend()\n",
    "    ax[1].set_ylim(0,1)\n",
    "\n",
    "    Dcircle = 0.20\n",
    "    html_rgb = cs.spec_to_rgb(Ttot*AM15(lam2), out_fmt='html')\n",
    "    Circle = plt.Circle((0, 0), Dcircle, color=html_rgb)\n",
    "    ax[2].add_patch(Circle)\n",
    "    ax[2].annotate('Luz Trasera', xy=(0, 0), va='center', ha='center')\n",
    "\n",
    "    html_rgb = cs.spec_to_rgb(Rtot*AM15(lam2), out_fmt='html')\n",
    "    Circle = plt.Circle((Dcircle*1.2*2, 0), Dcircle, color=html_rgb)\n",
    "    ax[2].add_patch(Circle)\n",
    "    ax[2].annotate('Luz Frontal', xy=(Dcircle*1.2*2, 0), va='center', ha='center')\n",
    "\n",
    "    ax[2].set_aspect('equal')\n",
    "    ax[2].set_xlim(-Dcircle*1.2,Dcircle*1.2*3)\n",
    "    ax[2].set_ylim(-Dcircle*1.2,Dcircle*1.2)\n",
    "    ax[2].set_xticks([])\n",
    "    ax[2].set_yticks([])\n",
    "    ax[2].set_facecolor('k')\n",
    "    plt.subplots_adjust(wspace=0.3)"
   ]
  },
  {
   "cell_type": "code",
   "execution_count": 10,
   "id": "494ceeb2",
   "metadata": {
    "cell_style": "center",
    "slideshow": {
     "slide_type": "slide"
    },
    "tags": [
     "hide-input"
    ]
   },
   "outputs": [
    {
     "data": {
      "application/vnd.jupyter.widget-view+json": {
       "model_id": "5426c8f720cc4f10bdeb45932c399c20",
       "version_major": 2,
       "version_minor": 0
      },
      "text/plain": [
       "interactive(children=(IntSlider(value=20, description='fv', min=1), IntSlider(value=70, description='D', max=2…"
      ]
     },
     "metadata": {},
     "output_type": "display_data"
    }
   ],
   "source": [
    "from ipywidgets import interact\n",
    "\n",
    "@interact(fv=(1,100,1), D = (10,200,1))\n",
    "def g(fv=20, D = 70):\n",
    "    return plot_glass_silver(fv,D)"
   ]
  },
  {
   "cell_type": "markdown",
   "id": "031ca52b",
   "metadata": {
    "slideshow": {
     "slide_type": "slide"
    }
   },
   "source": [
    "Cuando la concentración de partículas es densa, el medio se vuelve opaco. Este régimen se denomina **scattering difuso** y permite explicar, entre otras cosas, el color de las nubes o la pintura blanca\n",
    "\n",
    "<img src=\"./images/diffuse_scattering.png\" width=\"400px\" align= center>\n",
    "\n",
    "<center>Transporte de luz en un medio con scattering difuso</center>"
   ]
  },
  {
   "cell_type": "markdown",
   "id": "01df5bd6",
   "metadata": {
    "slideshow": {
     "slide_type": "slide"
    }
   },
   "source": [
    "Un ejemplo interesante corresponde a la leche. En términos simples, la leche es una emulsión formada por pequeñas partículas de grasa dispersas en un medio acuoso. \n",
    "\n",
    "<img src=\"./images/milk_microscope.png\" width=\"400px\" align= center>\n",
    "\n",
    "<center>Imagen de microscópio (40x) de leche orgánica. Las burbujas verdes corresponden al aceite en suspención en agua.</center>\n",
    "\n",
    "Fuente: [Braun K., Hanewald A. and Vilgis T. Foods 8(10): 483(2019)](https://www.ncbi.nlm.nih.gov/pmc/articles/PMC6836175/)"
   ]
  },
  {
   "cell_type": "markdown",
   "id": "225b5528",
   "metadata": {
    "slideshow": {
     "slide_type": "fragment"
    }
   },
   "source": [
    "Como aproximación, consideremos un medio de espesor $1$ cm, compuesto por agua $N_h = 1.3$ y pequeñas partículas esféricas de aceite $N_p = 1.5$. La emulsión considera un 60% de partículas de aceite por volumen."
   ]
  },
  {
   "cell_type": "code",
   "execution_count": 11,
   "id": "72cbfc3e",
   "metadata": {
    "cell_style": "split",
    "slideshow": {
     "slide_type": "slide"
    },
    "tags": [
     "hide-input"
    ]
   },
   "outputs": [],
   "source": [
    "%%capture showplot\n",
    "# import empylib.nklib as nk\n",
    "import numpy as np\n",
    "import empylib.rad_transfer as rt\n",
    "\n",
    "# Solo modificar estos parámetros\n",
    "#---------------------------------------------------------------\n",
    "lam3 = np.linspace(0.3,1.0,100)   # espectro de longitudes de onda\n",
    "tfilm = 10                        # espesor en milímetros\n",
    "fv = 0.50                         # fracción de volúmen de los poros\n",
    "D = 1.0                           # diámetro de los poros (micrones)\n",
    "Nh2o = 1.3                        # Índice de refracción del agua\n",
    "Noil = 1.5                        # índice de refracción partículas de aceite\n",
    "#---------------------------------------------------------------\n",
    "Rtot, Ttot = rt.adm_sphere(lam3,tfilm,(1.0,Nh2o,1.0),fv,D,Noil)\n",
    "\n",
    "fig, ax = plt.subplots()\n",
    "fig.set_size_inches(7, 5)\n",
    "plt.rcParams['font.size'] = '16'\n",
    "ax.plot(lam3,Rtot,'-r',label='R')\n",
    "ax.plot(lam3,Ttot,'-b',label='T')\n",
    "ax.set_xlabel('Longitud de onda ($\\mu$m)')\n",
    "ax.set_ylabel('Reflectividad / Transmisividad')\n",
    "ax.set_title(r'Leche (fv = %.0f %%)' % (fv*100))\n",
    "ax.legend()\n",
    "ax.set_ylim(0,1.02)\n",
    "plt.show"
   ]
  },
  {
   "cell_type": "code",
   "execution_count": 12,
   "id": "9a1291f7",
   "metadata": {
    "cell_style": "split",
    "slideshow": {
     "slide_type": "fragment"
    },
    "tags": [
     "hide-input"
    ]
   },
   "outputs": [
    {
     "data": {
      "text/plain": [
       "<function matplotlib.pyplot.show(close=None, block=None)>"
      ]
     },
     "metadata": {},
     "output_type": "display_data"
    },
    {
     "data": {
      "image/png": "[encoded data removed]",
      "text/plain": [
       "<Figure size 700x500 with 1 Axes>"
      ]
     },
     "metadata": {
      "filenames": {
       "image/png": "/mnt/c/Users/frami/OneDrive - Universidad Adolfo Ibanez/Teaching_courses/MEC501 - Manejo_y_Conversion_Energia_Solar_Termica/material_catedra/_build/jupyter_execute/05_TransporteRadiativo/05_TransporteRadiativo_68_1.png"
      }
     },
     "output_type": "display_data"
    }
   ],
   "source": [
    "showplot()"
   ]
  },
  {
   "cell_type": "markdown",
   "id": "6c035f58",
   "metadata": {
    "slideshow": {
     "slide_type": "slide"
    }
   },
   "source": [
    "Como vemos la alta concentración de partículas hace que la refletividad y transmisividad se vuelvan casi uniformes para todas las longitudes de onda. El espectro, así, toma un color blanco frente a una fuente de luz blanca."
   ]
  },
  {
   "cell_type": "markdown",
   "id": "17c1dc23",
   "metadata": {
    "slideshow": {
     "slide_type": "slide"
    }
   },
   "source": [
    "## Referencias\n",
    "- Chen G. **Chapter 5 - Energy Transfer by Waves** in *Nanoscale energy transport and conversion*, 1st Ed, Oxford University Press, 2005"
   ]
  }
 ],
 "metadata": {
  "celltoolbar": "Slideshow",
  "kernelspec": {
   "display_name": "Python 3 (ipykernel)",
   "language": "python",
   "name": "python3"
  },
  "language_info": {
   "codemirror_mode": {
    "name": "ipython",
    "version": 3
   },
   "file_extension": ".py",
   "mimetype": "text/x-python",
   "name": "python",
   "nbconvert_exporter": "python",
   "pygments_lexer": "ipython3",
   "version": "3.10.8"
  },
  "latex_envs": {
   "LaTeX_envs_menu_present": false,
   "autoclose": false,
   "autocomplete": false,
   "bibliofile": "biblio.bib",
   "cite_by": "apalike",
   "current_citInitial": 1,
   "eqLabelWithNumbers": true,
   "eqNumInitial": 2,
   "hotkeys": {
    "equation": "Ctrl-E",
    "itemize": "Ctrl-I"
   },
   "labels_anchors": false,
   "latex_user_defs": false,
   "report_style_numbering": false,
   "user_envs_cfg": true
  },
  "toc": {
   "base_numbering": 1,
   "nav_menu": {},
   "number_sections": false,
   "sideBar": true,
   "skip_h1_title": true,
   "title_cell": "Tabla de contenidos",
   "title_sidebar": "Contenidos",
   "toc_cell": false,
   "toc_position": {
    "height": "calc(100% - 180px)",
    "left": "10px",
    "top": "150px",
    "width": "307.2px"
   },
   "toc_section_display": true,
   "toc_window_display": false
  },
  "varInspector": {
   "cols": {
    "lenName": 16,
    "lenType": 16,
    "lenVar": 40
   },
   "kernels_config": {
    "python": {
     "delete_cmd_postfix": "",
     "delete_cmd_prefix": "del ",
     "library": "var_list.py",
     "varRefreshCmd": "print(var_dic_list())"
    },
    "r": {
     "delete_cmd_postfix": ") ",
     "delete_cmd_prefix": "rm(",
     "library": "var_list.r",
     "varRefreshCmd": "cat(var_dic_list()) "
    }
   },
   "types_to_exclude": [
    "module",
    "function",
    "builtin_function_or_method",
    "instance",
    "_Feature"
   ],
   "window_display": false
  },
  "widgets": {
   "application/vnd.jupyter.widget-state+json": {
    "state": {
     "068ad3cd4f91436fa3b155d56526936d": {
      "model_module": "@jupyter-widgets/base",
      "model_module_version": "1.2.0",
      "model_name": "LayoutModel",
      "state": {
       "_model_module": "@jupyter-widgets/base",
       "_model_module_version": "1.2.0",
       "_model_name": "LayoutModel",
       "_view_count": null,
       "_view_module": "@jupyter-widgets/base",
       "_view_module_version": "1.2.0",
       "_view_name": "LayoutView",
       "align_content": null,
       "align_items": null,
       "align_self": null,
       "border": null,
       "bottom": null,
       "display": null,
       "flex": null,
       "flex_flow": null,
       "grid_area": null,
       "grid_auto_columns": null,
       "grid_auto_flow": null,
       "grid_auto_rows": null,
       "grid_column": null,
       "grid_gap": null,
       "grid_row": null,
       "grid_template_areas": null,
       "grid_template_columns": null,
       "grid_template_rows": null,
       "height": null,
       "justify_content": null,
       "justify_items": null,
       "left": null,
       "margin": null,
       "max_height": null,
       "max_width": null,
       "min_height": null,
       "min_width": null,
       "object_fit": null,
       "object_position": null,
       "order": null,
       "overflow": null,
       "overflow_x": null,
       "overflow_y": null,
       "padding": null,
       "right": null,
       "top": null,
       "visibility": null,
       "width": null
      }
     },
     "09770723fa664746baa051b8450e5de4": {
      "model_module": "@jupyter-widgets/controls",
      "model_module_version": "1.5.0",
      "model_name": "SliderStyleModel",
      "state": {
       "_model_module": "@jupyter-widgets/controls",
       "_model_module_version": "1.5.0",
       "_model_name": "SliderStyleModel",
       "_view_count": null,
       "_view_module": "@jupyter-widgets/base",
       "_view_module_version": "1.2.0",
       "_view_name": "StyleView",
       "description_width": "",
       "handle_color": null
      }
     },
     "15ed499eac874c7281c71b91ac981ca4": {
      "model_module": "@jupyter-widgets/base",
      "model_module_version": "1.2.0",
      "model_name": "LayoutModel",
      "state": {
       "_model_module": "@jupyter-widgets/base",
       "_model_module_version": "1.2.0",
       "_model_name": "LayoutModel",
       "_view_count": null,
       "_view_module": "@jupyter-widgets/base",
       "_view_module_version": "1.2.0",
       "_view_name": "LayoutView",
       "align_content": null,
       "align_items": null,
       "align_self": null,
       "border": null,
       "bottom": null,
       "display": null,
       "flex": null,
       "flex_flow": null,
       "grid_area": null,
       "grid_auto_columns": null,
       "grid_auto_flow": null,
       "grid_auto_rows": null,
       "grid_column": null,
       "grid_gap": null,
       "grid_row": null,
       "grid_template_areas": null,
       "grid_template_columns": null,
       "grid_template_rows": null,
       "height": null,
       "justify_content": null,
       "justify_items": null,
       "left": null,
       "margin": null,
       "max_height": null,
       "max_width": null,
       "min_height": null,
       "min_width": null,
       "object_fit": null,
       "object_position": null,
       "order": null,
       "overflow": null,
       "overflow_x": null,
       "overflow_y": null,
       "padding": null,
       "right": null,
       "top": null,
       "visibility": null,
       "width": null
      }
     },
     "1830e4e7f6e0459a986f19860b7f525f": {
      "model_module": "@jupyter-widgets/controls",
      "model_module_version": "1.5.0",
      "model_name": "SliderStyleModel",
      "state": {
       "_model_module": "@jupyter-widgets/controls",
       "_model_module_version": "1.5.0",
       "_model_name": "SliderStyleModel",
       "_view_count": null,
       "_view_module": "@jupyter-widgets/base",
       "_view_module_version": "1.2.0",
       "_view_name": "StyleView",
       "description_width": "",
       "handle_color": null
      }
     },
     "1cacda0ed3894c8ca04be8d7e5b566e4": {
      "model_module": "@jupyter-widgets/base",
      "model_module_version": "1.2.0",
      "model_name": "LayoutModel",
      "state": {
       "_model_module": "@jupyter-widgets/base",
       "_model_module_version": "1.2.0",
       "_model_name": "LayoutModel",
       "_view_count": null,
       "_view_module": "@jupyter-widgets/base",
       "_view_module_version": "1.2.0",
       "_view_name": "LayoutView",
       "align_content": null,
       "align_items": null,
       "align_self": null,
       "border": null,
       "bottom": null,
       "display": null,
       "flex": null,
       "flex_flow": null,
       "grid_area": null,
       "grid_auto_columns": null,
       "grid_auto_flow": null,
       "grid_auto_rows": null,
       "grid_column": null,
       "grid_gap": null,
       "grid_row": null,
       "grid_template_areas": null,
       "grid_template_columns": null,
       "grid_template_rows": null,
       "height": null,
       "justify_content": null,
       "justify_items": null,
       "left": null,
       "margin": null,
       "max_height": null,
       "max_width": null,
       "min_height": null,
       "min_width": null,
       "object_fit": null,
       "object_position": null,
       "order": null,
       "overflow": null,
       "overflow_x": null,
       "overflow_y": null,
       "padding": null,
       "right": null,
       "top": null,
       "visibility": null,
       "width": null
      }
     },
     "249d9fa7d272462b9e38ee23edbe4ce8": {
      "model_module": "@jupyter-widgets/controls",
      "model_module_version": "1.5.0",
      "model_name": "SliderStyleModel",
      "state": {
       "_model_module": "@jupyter-widgets/controls",
       "_model_module_version": "1.5.0",
       "_model_name": "SliderStyleModel",
       "_view_count": null,
       "_view_module": "@jupyter-widgets/base",
       "_view_module_version": "1.2.0",
       "_view_name": "StyleView",
       "description_width": "",
       "handle_color": null
      }
     },
     "2f93013b73d745b3a21fceaec156e3ea": {
      "model_module": "@jupyter-widgets/base",
      "model_module_version": "1.2.0",
      "model_name": "LayoutModel",
      "state": {
       "_model_module": "@jupyter-widgets/base",
       "_model_module_version": "1.2.0",
       "_model_name": "LayoutModel",
       "_view_count": null,
       "_view_module": "@jupyter-widgets/base",
       "_view_module_version": "1.2.0",
       "_view_name": "LayoutView",
       "align_content": null,
       "align_items": null,
       "align_self": null,
       "border": null,
       "bottom": null,
       "display": null,
       "flex": null,
       "flex_flow": null,
       "grid_area": null,
       "grid_auto_columns": null,
       "grid_auto_flow": null,
       "grid_auto_rows": null,
       "grid_column": null,
       "grid_gap": null,
       "grid_row": null,
       "grid_template_areas": null,
       "grid_template_columns": null,
       "grid_template_rows": null,
       "height": null,
       "justify_content": null,
       "justify_items": null,
       "left": null,
       "margin": null,
       "max_height": null,
       "max_width": null,
       "min_height": null,
       "min_width": null,
       "object_fit": null,
       "object_position": null,
       "order": null,
       "overflow": null,
       "overflow_x": null,
       "overflow_y": null,
       "padding": null,
       "right": null,
       "top": null,
       "visibility": null,
       "width": null
      }
     },
     "31c860d59ed6410f9930d300819b5185": {
      "model_module": "@jupyter-widgets/output",
      "model_module_version": "1.0.0",
      "model_name": "OutputModel",
      "state": {
       "_dom_classes": [],
       "_model_module": "@jupyter-widgets/output",
       "_model_module_version": "1.0.0",
       "_model_name": "OutputModel",
       "_view_count": null,
       "_view_module": "@jupyter-widgets/output",
       "_view_module_version": "1.0.0",
       "_view_name": "OutputView",
       "layout": "IPY_MODEL_a92172f14a2e49869e56080756795a09",
       "msg_id": "",
       "outputs": [
        {
         "data": {
          "image/png": "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\n",
          "text/plain": "<Figure size 2000x500 with 3 Axes>"
         },
         "metadata": {},
         "output_type": "display_data"
        }
       ]
      }
     },
     "39b6ae28722342e0a7dac05864d57c59": {
      "model_module": "@jupyter-widgets/base",
      "model_module_version": "1.2.0",
      "model_name": "LayoutModel",
      "state": {
       "_model_module": "@jupyter-widgets/base",
       "_model_module_version": "1.2.0",
       "_model_name": "LayoutModel",
       "_view_count": null,
       "_view_module": "@jupyter-widgets/base",
       "_view_module_version": "1.2.0",
       "_view_name": "LayoutView",
       "align_content": null,
       "align_items": null,
       "align_self": null,
       "border": null,
       "bottom": null,
       "display": null,
       "flex": null,
       "flex_flow": null,
       "grid_area": null,
       "grid_auto_columns": null,
       "grid_auto_flow": null,
       "grid_auto_rows": null,
       "grid_column": null,
       "grid_gap": null,
       "grid_row": null,
       "grid_template_areas": null,
       "grid_template_columns": null,
       "grid_template_rows": null,
       "height": null,
       "justify_content": null,
       "justify_items": null,
       "left": null,
       "margin": null,
       "max_height": null,
       "max_width": null,
       "min_height": null,
       "min_width": null,
       "object_fit": null,
       "object_position": null,
       "order": null,
       "overflow": null,
       "overflow_x": null,
       "overflow_y": null,
       "padding": null,
       "right": null,
       "top": null,
       "visibility": null,
       "width": null
      }
     },
     "43ba5d7ade07459bad35002c31e11a4b": {
      "model_module": "@jupyter-widgets/base",
      "model_module_version": "1.2.0",
      "model_name": "LayoutModel",
      "state": {
       "_model_module": "@jupyter-widgets/base",
       "_model_module_version": "1.2.0",
       "_model_name": "LayoutModel",
       "_view_count": null,
       "_view_module": "@jupyter-widgets/base",
       "_view_module_version": "1.2.0",
       "_view_name": "LayoutView",
       "align_content": null,
       "align_items": null,
       "align_self": null,
       "border": null,
       "bottom": null,
       "display": null,
       "flex": null,
       "flex_flow": null,
       "grid_area": null,
       "grid_auto_columns": null,
       "grid_auto_flow": null,
       "grid_auto_rows": null,
       "grid_column": null,
       "grid_gap": null,
       "grid_row": null,
       "grid_template_areas": null,
       "grid_template_columns": null,
       "grid_template_rows": null,
       "height": null,
       "justify_content": null,
       "justify_items": null,
       "left": null,
       "margin": null,
       "max_height": null,
       "max_width": null,
       "min_height": null,
       "min_width": null,
       "object_fit": null,
       "object_position": null,
       "order": null,
       "overflow": null,
       "overflow_x": null,
       "overflow_y": null,
       "padding": null,
       "right": null,
       "top": null,
       "visibility": null,
       "width": null
      }
     },
     "4598f53dc05c4bc2b0ccab7539707665": {
      "model_module": "@jupyter-widgets/output",
      "model_module_version": "1.0.0",
      "model_name": "OutputModel",
      "state": {
       "_dom_classes": [],
       "_model_module": "@jupyter-widgets/output",
       "_model_module_version": "1.0.0",
       "_model_name": "OutputModel",
       "_view_count": null,
       "_view_module": "@jupyter-widgets/output",
       "_view_module_version": "1.0.0",
       "_view_name": "OutputView",
       "layout": "IPY_MODEL_de3b2ea4b5484b56ac3ce75c3500b622",
       "msg_id": "",
       "outputs": [
        {
         "data": {
          "image/png": "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\n",
          "text/plain": "<Figure size 900x500 with 1 Axes>"
         },
         "metadata": {},
         "output_type": "display_data"
        }
       ]
      }
     },
     "4ee2e72765554b9484d6edd7eb888e3e": {
      "model_module": "@jupyter-widgets/base",
      "model_module_version": "1.2.0",
      "model_name": "LayoutModel",
      "state": {
       "_model_module": "@jupyter-widgets/base",
       "_model_module_version": "1.2.0",
       "_model_name": "LayoutModel",
       "_view_count": null,
       "_view_module": "@jupyter-widgets/base",
       "_view_module_version": "1.2.0",
       "_view_name": "LayoutView",
       "align_content": null,
       "align_items": null,
       "align_self": null,
       "border": null,
       "bottom": null,
       "display": null,
       "flex": null,
       "flex_flow": null,
       "grid_area": null,
       "grid_auto_columns": null,
       "grid_auto_flow": null,
       "grid_auto_rows": null,
       "grid_column": null,
       "grid_gap": null,
       "grid_row": null,
       "grid_template_areas": null,
       "grid_template_columns": null,
       "grid_template_rows": null,
       "height": null,
       "justify_content": null,
       "justify_items": null,
       "left": null,
       "margin": null,
       "max_height": null,
       "max_width": null,
       "min_height": null,
       "min_width": null,
       "object_fit": null,
       "object_position": null,
       "order": null,
       "overflow": null,
       "overflow_x": null,
       "overflow_y": null,
       "padding": null,
       "right": null,
       "top": null,
       "visibility": null,
       "width": null
      }
     },
     "5426c8f720cc4f10bdeb45932c399c20": {
      "model_module": "@jupyter-widgets/controls",
      "model_module_version": "1.5.0",
      "model_name": "VBoxModel",
      "state": {
       "_dom_classes": [
        "widget-interact"
       ],
       "_model_module": "@jupyter-widgets/controls",
       "_model_module_version": "1.5.0",
       "_model_name": "VBoxModel",
       "_view_count": null,
       "_view_module": "@jupyter-widgets/controls",
       "_view_module_version": "1.5.0",
       "_view_name": "VBoxView",
       "box_style": "",
       "children": [
        "IPY_MODEL_a872436710c6421c8579a324e0502b1e",
        "IPY_MODEL_e0a17ec2b7ef448fb204edc27c2a1dad",
        "IPY_MODEL_31c860d59ed6410f9930d300819b5185"
       ],
       "layout": "IPY_MODEL_4ee2e72765554b9484d6edd7eb888e3e"
      }
     },
     "5a1399c2e64342dfadb6a197f49cfb94": {
      "model_module": "@jupyter-widgets/controls",
      "model_module_version": "1.5.0",
      "model_name": "FloatSliderModel",
      "state": {
       "_dom_classes": [],
       "_model_module": "@jupyter-widgets/controls",
       "_model_module_version": "1.5.0",
       "_model_name": "FloatSliderModel",
       "_view_count": null,
       "_view_module": "@jupyter-widgets/controls",
       "_view_module_version": "1.5.0",
       "_view_name": "FloatSliderView",
       "continuous_update": true,
       "description": "t",
       "description_tooltip": null,
       "disabled": false,
       "layout": "IPY_MODEL_2f93013b73d745b3a21fceaec156e3ea",
       "max": 20.0,
       "min": 0.0,
       "orientation": "horizontal",
       "readout": true,
       "readout_format": ".2f",
       "step": 0.1,
       "style": "IPY_MODEL_249d9fa7d272462b9e38ee23edbe4ce8",
       "value": 2.0
      }
     },
     "664d89ed97914228a4facf0fdaa9daa3": {
      "model_module": "@jupyter-widgets/controls",
      "model_module_version": "1.5.0",
      "model_name": "VBoxModel",
      "state": {
       "_dom_classes": [
        "widget-interact"
       ],
       "_model_module": "@jupyter-widgets/controls",
       "_model_module_version": "1.5.0",
       "_model_name": "VBoxModel",
       "_view_count": null,
       "_view_module": "@jupyter-widgets/controls",
       "_view_module_version": "1.5.0",
       "_view_name": "VBoxView",
       "box_style": "",
       "children": [
        "IPY_MODEL_736b6845eea9435faa9f78114b25fd0a",
        "IPY_MODEL_6c84fb27b3124965893dc20681c7cfa7",
        "IPY_MODEL_c9c3fba187c74c00a47210ecd0450a75",
        "IPY_MODEL_8ae29327e82c4a46a825e77b96595fb2"
       ],
       "layout": "IPY_MODEL_8b347aa8d80643f9bcad3cedf8625186"
      }
     },
     "6c84fb27b3124965893dc20681c7cfa7": {
      "model_module": "@jupyter-widgets/controls",
      "model_module_version": "1.5.0",
      "model_name": "FloatSliderModel",
      "state": {
       "_dom_classes": [],
       "_model_module": "@jupyter-widgets/controls",
       "_model_module_version": "1.5.0",
       "_model_name": "FloatSliderModel",
       "_view_count": null,
       "_view_module": "@jupyter-widgets/controls",
       "_view_module_version": "1.5.0",
       "_view_name": "FloatSliderView",
       "continuous_update": true,
       "description": "t",
       "description_tooltip": null,
       "disabled": false,
       "layout": "IPY_MODEL_dd5b1102f3aa4532877f641ea85e9741",
       "max": 10.0,
       "min": -10.0,
       "orientation": "horizontal",
       "readout": true,
       "readout_format": ".2f",
       "step": 0.1,
       "style": "IPY_MODEL_6c90c87e181e486db455db9976cca2fc",
       "value": 0.0
      }
     },
     "6c90c87e181e486db455db9976cca2fc": {
      "model_module": "@jupyter-widgets/controls",
      "model_module_version": "1.5.0",
      "model_name": "SliderStyleModel",
      "state": {
       "_model_module": "@jupyter-widgets/controls",
       "_model_module_version": "1.5.0",
       "_model_name": "SliderStyleModel",
       "_view_count": null,
       "_view_module": "@jupyter-widgets/base",
       "_view_module_version": "1.2.0",
       "_view_name": "StyleView",
       "description_width": "",
       "handle_color": null
      }
     },
     "6f3bf7abccbb40358161b42753e116c0": {
      "model_module": "@jupyter-widgets/base",
      "model_module_version": "1.2.0",
      "model_name": "LayoutModel",
      "state": {
       "_model_module": "@jupyter-widgets/base",
       "_model_module_version": "1.2.0",
       "_model_name": "LayoutModel",
       "_view_count": null,
       "_view_module": "@jupyter-widgets/base",
       "_view_module_version": "1.2.0",
       "_view_name": "LayoutView",
       "align_content": null,
       "align_items": null,
       "align_self": null,
       "border": null,
       "bottom": null,
       "display": null,
       "flex": null,
       "flex_flow": null,
       "grid_area": null,
       "grid_auto_columns": null,
       "grid_auto_flow": null,
       "grid_auto_rows": null,
       "grid_column": null,
       "grid_gap": null,
       "grid_row": null,
       "grid_template_areas": null,
       "grid_template_columns": null,
       "grid_template_rows": null,
       "height": null,
       "justify_content": null,
       "justify_items": null,
       "left": null,
       "margin": null,
       "max_height": null,
       "max_width": null,
       "min_height": null,
       "min_width": null,
       "object_fit": null,
       "object_position": null,
       "order": null,
       "overflow": null,
       "overflow_x": null,
       "overflow_y": null,
       "padding": null,
       "right": null,
       "top": null,
       "visibility": null,
       "width": null
      }
     },
     "736b6845eea9435faa9f78114b25fd0a": {
      "model_module": "@jupyter-widgets/controls",
      "model_module_version": "1.5.0",
      "model_name": "IntSliderModel",
      "state": {
       "_dom_classes": [],
       "_model_module": "@jupyter-widgets/controls",
       "_model_module_version": "1.5.0",
       "_model_name": "IntSliderModel",
       "_view_count": null,
       "_view_module": "@jupyter-widgets/controls",
       "_view_module_version": "1.5.0",
       "_view_name": "IntSliderView",
       "continuous_update": true,
       "description": "N",
       "description_tooltip": null,
       "disabled": false,
       "layout": "IPY_MODEL_39b6ae28722342e0a7dac05864d57c59",
       "max": 1000,
       "min": 1,
       "orientation": "horizontal",
       "readout": true,
       "readout_format": "d",
       "step": 1,
       "style": "IPY_MODEL_d787830c5ce241caaf806f2e04caae58",
       "value": 1000
      }
     },
     "74f6c31a12784d49988dc5a3d5e99208": {
      "model_module": "@jupyter-widgets/controls",
      "model_module_version": "1.5.0",
      "model_name": "SliderStyleModel",
      "state": {
       "_model_module": "@jupyter-widgets/controls",
       "_model_module_version": "1.5.0",
       "_model_name": "SliderStyleModel",
       "_view_count": null,
       "_view_module": "@jupyter-widgets/base",
       "_view_module_version": "1.2.0",
       "_view_name": "StyleView",
       "description_width": "",
       "handle_color": null
      }
     },
     "769f63d2c3c0453b985dc3fb7665dbe9": {
      "model_module": "@jupyter-widgets/controls",
      "model_module_version": "1.5.0",
      "model_name": "SliderStyleModel",
      "state": {
       "_model_module": "@jupyter-widgets/controls",
       "_model_module_version": "1.5.0",
       "_model_name": "SliderStyleModel",
       "_view_count": null,
       "_view_module": "@jupyter-widgets/base",
       "_view_module_version": "1.2.0",
       "_view_name": "StyleView",
       "description_width": "",
       "handle_color": null
      }
     },
     "819a93de9bbf4ac3904b95e3f1c18235": {
      "model_module": "@jupyter-widgets/controls",
      "model_module_version": "1.5.0",
      "model_name": "VBoxModel",
      "state": {
       "_dom_classes": [
        "widget-interact"
       ],
       "_model_module": "@jupyter-widgets/controls",
       "_model_module_version": "1.5.0",
       "_model_name": "VBoxModel",
       "_view_count": null,
       "_view_module": "@jupyter-widgets/controls",
       "_view_module_version": "1.5.0",
       "_view_name": "VBoxView",
       "box_style": "",
       "children": [
        "IPY_MODEL_96427972d9c340d581d63fb231f7930f",
        "IPY_MODEL_5a1399c2e64342dfadb6a197f49cfb94",
        "IPY_MODEL_d54f15619c5049869366a6783fb55f9f",
        "IPY_MODEL_4598f53dc05c4bc2b0ccab7539707665"
       ],
       "layout": "IPY_MODEL_1cacda0ed3894c8ca04be8d7e5b566e4"
      }
     },
     "8ae29327e82c4a46a825e77b96595fb2": {
      "model_module": "@jupyter-widgets/output",
      "model_module_version": "1.0.0",
      "model_name": "OutputModel",
      "state": {
       "_dom_classes": [],
       "_model_module": "@jupyter-widgets/output",
       "_model_module_version": "1.0.0",
       "_model_name": "OutputModel",
       "_view_count": null,
       "_view_module": "@jupyter-widgets/output",
       "_view_module_version": "1.0.0",
       "_view_name": "OutputView",
       "layout": "IPY_MODEL_979a207ce8b7417fa3c00596d6cbce0f",
       "msg_id": "",
       "outputs": [
        {
         "data": {
          "image/png": "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\n",
          "text/plain": "<Figure size 900x500 with 1 Axes>"
         },
         "metadata": {},
         "output_type": "display_data"
        }
       ]
      }
     },
     "8b347aa8d80643f9bcad3cedf8625186": {
      "model_module": "@jupyter-widgets/base",
      "model_module_version": "1.2.0",
      "model_name": "LayoutModel",
      "state": {
       "_model_module": "@jupyter-widgets/base",
       "_model_module_version": "1.2.0",
       "_model_name": "LayoutModel",
       "_view_count": null,
       "_view_module": "@jupyter-widgets/base",
       "_view_module_version": "1.2.0",
       "_view_name": "LayoutView",
       "align_content": null,
       "align_items": null,
       "align_self": null,
       "border": null,
       "bottom": null,
       "display": null,
       "flex": null,
       "flex_flow": null,
       "grid_area": null,
       "grid_auto_columns": null,
       "grid_auto_flow": null,
       "grid_auto_rows": null,
       "grid_column": null,
       "grid_gap": null,
       "grid_row": null,
       "grid_template_areas": null,
       "grid_template_columns": null,
       "grid_template_rows": null,
       "height": null,
       "justify_content": null,
       "justify_items": null,
       "left": null,
       "margin": null,
       "max_height": null,
       "max_width": null,
       "min_height": null,
       "min_width": null,
       "object_fit": null,
       "object_position": null,
       "order": null,
       "overflow": null,
       "overflow_x": null,
       "overflow_y": null,
       "padding": null,
       "right": null,
       "top": null,
       "visibility": null,
       "width": null
      }
     },
     "91fe54fee09c4ab1aabc758138de1241": {
      "model_module": "@jupyter-widgets/controls",
      "model_module_version": "1.5.0",
      "model_name": "VBoxModel",
      "state": {
       "_dom_classes": [
        "widget-interact"
       ],
       "_model_module": "@jupyter-widgets/controls",
       "_model_module_version": "1.5.0",
       "_model_name": "VBoxModel",
       "_view_count": null,
       "_view_module": "@jupyter-widgets/controls",
       "_view_module_version": "1.5.0",
       "_view_name": "VBoxView",
       "box_style": "",
       "children": [
        "IPY_MODEL_bfa54f17e48944f18dcedff935d7a9ed",
        "IPY_MODEL_f5bad463e10e4fdcacfa818c3296a5eb"
       ],
       "layout": "IPY_MODEL_068ad3cd4f91436fa3b155d56526936d"
      }
     },
     "96427972d9c340d581d63fb231f7930f": {
      "model_module": "@jupyter-widgets/controls",
      "model_module_version": "1.5.0",
      "model_name": "IntSliderModel",
      "state": {
       "_dom_classes": [],
       "_model_module": "@jupyter-widgets/controls",
       "_model_module_version": "1.5.0",
       "_model_name": "IntSliderModel",
       "_view_count": null,
       "_view_module": "@jupyter-widgets/controls",
       "_view_module_version": "1.5.0",
       "_view_name": "IntSliderView",
       "continuous_update": true,
       "description": "N",
       "description_tooltip": null,
       "disabled": false,
       "layout": "IPY_MODEL_15ed499eac874c7281c71b91ac981ca4",
       "max": 1000,
       "min": 1,
       "orientation": "horizontal",
       "readout": true,
       "readout_format": "d",
       "step": 1,
       "style": "IPY_MODEL_09770723fa664746baa051b8450e5de4",
       "value": 1000
      }
     },
     "979a207ce8b7417fa3c00596d6cbce0f": {
      "model_module": "@jupyter-widgets/base",
      "model_module_version": "1.2.0",
      "model_name": "LayoutModel",
      "state": {
       "_model_module": "@jupyter-widgets/base",
       "_model_module_version": "1.2.0",
       "_model_name": "LayoutModel",
       "_view_count": null,
       "_view_module": "@jupyter-widgets/base",
       "_view_module_version": "1.2.0",
       "_view_name": "LayoutView",
       "align_content": null,
       "align_items": null,
       "align_self": null,
       "border": null,
       "bottom": null,
       "display": null,
       "flex": null,
       "flex_flow": null,
       "grid_area": null,
       "grid_auto_columns": null,
       "grid_auto_flow": null,
       "grid_auto_rows": null,
       "grid_column": null,
       "grid_gap": null,
       "grid_row": null,
       "grid_template_areas": null,
       "grid_template_columns": null,
       "grid_template_rows": null,
       "height": null,
       "justify_content": null,
       "justify_items": null,
       "left": null,
       "margin": null,
       "max_height": null,
       "max_width": null,
       "min_height": null,
       "min_width": null,
       "object_fit": null,
       "object_position": null,
       "order": null,
       "overflow": null,
       "overflow_x": null,
       "overflow_y": null,
       "padding": null,
       "right": null,
       "top": null,
       "visibility": null,
       "width": null
      }
     },
     "a872436710c6421c8579a324e0502b1e": {
      "model_module": "@jupyter-widgets/controls",
      "model_module_version": "1.5.0",
      "model_name": "IntSliderModel",
      "state": {
       "_dom_classes": [],
       "_model_module": "@jupyter-widgets/controls",
       "_model_module_version": "1.5.0",
       "_model_name": "IntSliderModel",
       "_view_count": null,
       "_view_module": "@jupyter-widgets/controls",
       "_view_module_version": "1.5.0",
       "_view_name": "IntSliderView",
       "continuous_update": true,
       "description": "fv",
       "description_tooltip": null,
       "disabled": false,
       "layout": "IPY_MODEL_fe38a50c0df548b0aa3b444393e67621",
       "max": 100,
       "min": 1,
       "orientation": "horizontal",
       "readout": true,
       "readout_format": "d",
       "step": 1,
       "style": "IPY_MODEL_1830e4e7f6e0459a986f19860b7f525f",
       "value": 20
      }
     },
     "a92172f14a2e49869e56080756795a09": {
      "model_module": "@jupyter-widgets/base",
      "model_module_version": "1.2.0",
      "model_name": "LayoutModel",
      "state": {
       "_model_module": "@jupyter-widgets/base",
       "_model_module_version": "1.2.0",
       "_model_name": "LayoutModel",
       "_view_count": null,
       "_view_module": "@jupyter-widgets/base",
       "_view_module_version": "1.2.0",
       "_view_name": "LayoutView",
       "align_content": null,
       "align_items": null,
       "align_self": null,
       "border": null,
       "bottom": null,
       "display": null,
       "flex": null,
       "flex_flow": null,
       "grid_area": null,
       "grid_auto_columns": null,
       "grid_auto_flow": null,
       "grid_auto_rows": null,
       "grid_column": null,
       "grid_gap": null,
       "grid_row": null,
       "grid_template_areas": null,
       "grid_template_columns": null,
       "grid_template_rows": null,
       "height": null,
       "justify_content": null,
       "justify_items": null,
       "left": null,
       "margin": null,
       "max_height": null,
       "max_width": null,
       "min_height": null,
       "min_width": null,
       "object_fit": null,
       "object_position": null,
       "order": null,
       "overflow": null,
       "overflow_x": null,
       "overflow_y": null,
       "padding": null,
       "right": null,
       "top": null,
       "visibility": null,
       "width": null
      }
     },
     "b1ccf37e62ea4e44bd057243d3862614": {
      "model_module": "@jupyter-widgets/controls",
      "model_module_version": "1.5.0",
      "model_name": "SliderStyleModel",
      "state": {
       "_model_module": "@jupyter-widgets/controls",
       "_model_module_version": "1.5.0",
       "_model_name": "SliderStyleModel",
       "_view_count": null,
       "_view_module": "@jupyter-widgets/base",
       "_view_module_version": "1.2.0",
       "_view_name": "StyleView",
       "description_width": "",
       "handle_color": null
      }
     },
     "bfa54f17e48944f18dcedff935d7a9ed": {
      "model_module": "@jupyter-widgets/controls",
      "model_module_version": "1.5.0",
      "model_name": "FloatSliderModel",
      "state": {
       "_dom_classes": [],
       "_model_module": "@jupyter-widgets/controls",
       "_model_module_version": "1.5.0",
       "_model_name": "FloatSliderModel",
       "_view_count": null,
       "_view_module": "@jupyter-widgets/controls",
       "_view_module_version": "1.5.0",
       "_view_name": "FloatSliderView",
       "continuous_update": true,
       "description": "theta_sun",
       "description_tooltip": null,
       "disabled": false,
       "layout": "IPY_MODEL_6f3bf7abccbb40358161b42753e116c0",
       "max": 89.99,
       "min": 0.0,
       "orientation": "horizontal",
       "readout": true,
       "readout_format": ".2f",
       "step": 0.1,
       "style": "IPY_MODEL_b1ccf37e62ea4e44bd057243d3862614",
       "value": 0.0
      }
     },
     "c9c3fba187c74c00a47210ecd0450a75": {
      "model_module": "@jupyter-widgets/controls",
      "model_module_version": "1.5.0",
      "model_name": "FloatSliderModel",
      "state": {
       "_dom_classes": [],
       "_model_module": "@jupyter-widgets/controls",
       "_model_module_version": "1.5.0",
       "_model_name": "FloatSliderModel",
       "_view_count": null,
       "_view_module": "@jupyter-widgets/controls",
       "_view_module_version": "1.5.0",
       "_view_name": "FloatSliderView",
       "continuous_update": true,
       "description": "sig",
       "description_tooltip": null,
       "disabled": false,
       "layout": "IPY_MODEL_e0ac532bfbe748cf9c4f801b1fe3e43b",
       "max": 1.0,
       "min": 0.0,
       "orientation": "horizontal",
       "readout": true,
       "readout_format": ".2f",
       "step": 0.01,
       "style": "IPY_MODEL_769f63d2c3c0453b985dc3fb7665dbe9",
       "value": 0.3
      }
     },
     "d54f15619c5049869366a6783fb55f9f": {
      "model_module": "@jupyter-widgets/controls",
      "model_module_version": "1.5.0",
      "model_name": "FloatSliderModel",
      "state": {
       "_dom_classes": [],
       "_model_module": "@jupyter-widgets/controls",
       "_model_module_version": "1.5.0",
       "_model_name": "FloatSliderModel",
       "_view_count": null,
       "_view_module": "@jupyter-widgets/controls",
       "_view_module_version": "1.5.0",
       "_view_name": "FloatSliderView",
       "continuous_update": true,
       "description": "sig",
       "description_tooltip": null,
       "disabled": false,
       "layout": "IPY_MODEL_e9e41f93e0854dddb9060b235055a34b",
       "max": 1.0,
       "min": 0.0,
       "orientation": "horizontal",
       "readout": true,
       "readout_format": ".2f",
       "step": 0.01,
       "style": "IPY_MODEL_74f6c31a12784d49988dc5a3d5e99208",
       "value": 0.3
      }
     },
     "d787830c5ce241caaf806f2e04caae58": {
      "model_module": "@jupyter-widgets/controls",
      "model_module_version": "1.5.0",
      "model_name": "SliderStyleModel",
      "state": {
       "_model_module": "@jupyter-widgets/controls",
       "_model_module_version": "1.5.0",
       "_model_name": "SliderStyleModel",
       "_view_count": null,
       "_view_module": "@jupyter-widgets/base",
       "_view_module_version": "1.2.0",
       "_view_name": "StyleView",
       "description_width": "",
       "handle_color": null
      }
     },
     "dd5b1102f3aa4532877f641ea85e9741": {
      "model_module": "@jupyter-widgets/base",
      "model_module_version": "1.2.0",
      "model_name": "LayoutModel",
      "state": {
       "_model_module": "@jupyter-widgets/base",
       "_model_module_version": "1.2.0",
       "_model_name": "LayoutModel",
       "_view_count": null,
       "_view_module": "@jupyter-widgets/base",
       "_view_module_version": "1.2.0",
       "_view_name": "LayoutView",
       "align_content": null,
       "align_items": null,
       "align_self": null,
       "border": null,
       "bottom": null,
       "display": null,
       "flex": null,
       "flex_flow": null,
       "grid_area": null,
       "grid_auto_columns": null,
       "grid_auto_flow": null,
       "grid_auto_rows": null,
       "grid_column": null,
       "grid_gap": null,
       "grid_row": null,
       "grid_template_areas": null,
       "grid_template_columns": null,
       "grid_template_rows": null,
       "height": null,
       "justify_content": null,
       "justify_items": null,
       "left": null,
       "margin": null,
       "max_height": null,
       "max_width": null,
       "min_height": null,
       "min_width": null,
       "object_fit": null,
       "object_position": null,
       "order": null,
       "overflow": null,
       "overflow_x": null,
       "overflow_y": null,
       "padding": null,
       "right": null,
       "top": null,
       "visibility": null,
       "width": null
      }
     },
     "de3b2ea4b5484b56ac3ce75c3500b622": {
      "model_module": "@jupyter-widgets/base",
      "model_module_version": "1.2.0",
      "model_name": "LayoutModel",
      "state": {
       "_model_module": "@jupyter-widgets/base",
       "_model_module_version": "1.2.0",
       "_model_name": "LayoutModel",
       "_view_count": null,
       "_view_module": "@jupyter-widgets/base",
       "_view_module_version": "1.2.0",
       "_view_name": "LayoutView",
       "align_content": null,
       "align_items": null,
       "align_self": null,
       "border": null,
       "bottom": null,
       "display": null,
       "flex": null,
       "flex_flow": null,
       "grid_area": null,
       "grid_auto_columns": null,
       "grid_auto_flow": null,
       "grid_auto_rows": null,
       "grid_column": null,
       "grid_gap": null,
       "grid_row": null,
       "grid_template_areas": null,
       "grid_template_columns": null,
       "grid_template_rows": null,
       "height": null,
       "justify_content": null,
       "justify_items": null,
       "left": null,
       "margin": null,
       "max_height": null,
       "max_width": null,
       "min_height": null,
       "min_width": null,
       "object_fit": null,
       "object_position": null,
       "order": null,
       "overflow": null,
       "overflow_x": null,
       "overflow_y": null,
       "padding": null,
       "right": null,
       "top": null,
       "visibility": null,
       "width": null
      }
     },
     "e0a17ec2b7ef448fb204edc27c2a1dad": {
      "model_module": "@jupyter-widgets/controls",
      "model_module_version": "1.5.0",
      "model_name": "IntSliderModel",
      "state": {
       "_dom_classes": [],
       "_model_module": "@jupyter-widgets/controls",
       "_model_module_version": "1.5.0",
       "_model_name": "IntSliderModel",
       "_view_count": null,
       "_view_module": "@jupyter-widgets/controls",
       "_view_module_version": "1.5.0",
       "_view_name": "IntSliderView",
       "continuous_update": true,
       "description": "D",
       "description_tooltip": null,
       "disabled": false,
       "layout": "IPY_MODEL_43ba5d7ade07459bad35002c31e11a4b",
       "max": 200,
       "min": 10,
       "orientation": "horizontal",
       "readout": true,
       "readout_format": "d",
       "step": 1,
       "style": "IPY_MODEL_f03447aa8f474081af783ada83791f6f",
       "value": 70
      }
     },
     "e0ac532bfbe748cf9c4f801b1fe3e43b": {
      "model_module": "@jupyter-widgets/base",
      "model_module_version": "1.2.0",
      "model_name": "LayoutModel",
      "state": {
       "_model_module": "@jupyter-widgets/base",
       "_model_module_version": "1.2.0",
       "_model_name": "LayoutModel",
       "_view_count": null,
       "_view_module": "@jupyter-widgets/base",
       "_view_module_version": "1.2.0",
       "_view_name": "LayoutView",
       "align_content": null,
       "align_items": null,
       "align_self": null,
       "border": null,
       "bottom": null,
       "display": null,
       "flex": null,
       "flex_flow": null,
       "grid_area": null,
       "grid_auto_columns": null,
       "grid_auto_flow": null,
       "grid_auto_rows": null,
       "grid_column": null,
       "grid_gap": null,
       "grid_row": null,
       "grid_template_areas": null,
       "grid_template_columns": null,
       "grid_template_rows": null,
       "height": null,
       "justify_content": null,
       "justify_items": null,
       "left": null,
       "margin": null,
       "max_height": null,
       "max_width": null,
       "min_height": null,
       "min_width": null,
       "object_fit": null,
       "object_position": null,
       "order": null,
       "overflow": null,
       "overflow_x": null,
       "overflow_y": null,
       "padding": null,
       "right": null,
       "top": null,
       "visibility": null,
       "width": null
      }
     },
     "e9e41f93e0854dddb9060b235055a34b": {
      "model_module": "@jupyter-widgets/base",
      "model_module_version": "1.2.0",
      "model_name": "LayoutModel",
      "state": {
       "_model_module": "@jupyter-widgets/base",
       "_model_module_version": "1.2.0",
       "_model_name": "LayoutModel",
       "_view_count": null,
       "_view_module": "@jupyter-widgets/base",
       "_view_module_version": "1.2.0",
       "_view_name": "LayoutView",
       "align_content": null,
       "align_items": null,
       "align_self": null,
       "border": null,
       "bottom": null,
       "display": null,
       "flex": null,
       "flex_flow": null,
       "grid_area": null,
       "grid_auto_columns": null,
       "grid_auto_flow": null,
       "grid_auto_rows": null,
       "grid_column": null,
       "grid_gap": null,
       "grid_row": null,
       "grid_template_areas": null,
       "grid_template_columns": null,
       "grid_template_rows": null,
       "height": null,
       "justify_content": null,
       "justify_items": null,
       "left": null,
       "margin": null,
       "max_height": null,
       "max_width": null,
       "min_height": null,
       "min_width": null,
       "object_fit": null,
       "object_position": null,
       "order": null,
       "overflow": null,
       "overflow_x": null,
       "overflow_y": null,
       "padding": null,
       "right": null,
       "top": null,
       "visibility": null,
       "width": null
      }
     },
     "f03447aa8f474081af783ada83791f6f": {
      "model_module": "@jupyter-widgets/controls",
      "model_module_version": "1.5.0",
      "model_name": "SliderStyleModel",
      "state": {
       "_model_module": "@jupyter-widgets/controls",
       "_model_module_version": "1.5.0",
       "_model_name": "SliderStyleModel",
       "_view_count": null,
       "_view_module": "@jupyter-widgets/base",
       "_view_module_version": "1.2.0",
       "_view_name": "StyleView",
       "description_width": "",
       "handle_color": null
      }
     },
     "f5bad463e10e4fdcacfa818c3296a5eb": {
      "model_module": "@jupyter-widgets/output",
      "model_module_version": "1.0.0",
      "model_name": "OutputModel",
      "state": {
       "_dom_classes": [],
       "_model_module": "@jupyter-widgets/output",
       "_model_module_version": "1.0.0",
       "_model_name": "OutputModel",
       "_view_count": null,
       "_view_module": "@jupyter-widgets/output",
       "_view_module_version": "1.0.0",
       "_view_name": "OutputView",
       "layout": "IPY_MODEL_f695f16a70a248b6870134eab9b32202",
       "msg_id": "",
       "outputs": [
        {
         "data": {
          "image/png": "iVBORw0KGgoAAAANSUhEUgAAAuIAAAHzCAYAAABlgXicAAAAOXRFWHRTb2Z0d2FyZQBNYXRwbG90bGliIHZlcnNpb24zLjYuMiwgaHR0cHM6Ly9tYXRwbG90bGliLm9yZy8o6BhiAAAACXBIWXMAAA9hAAAPYQGoP6dpAACSi0lEQVR4nOzdd1QU198G8GcWli4oSBGlWgA7KDawG2usicZuLDH2GBNNjCbWxJYoamKJNRpLmsau0YgN7CgWxIKCqIiKCopS975/+LI/CX1ZmGV5PufsSTIze+c7d4fNw3DnjiSEECAiIiIiomKlkLsAIiIiIqLSiEGciIiIiEgGDOJERERERDJgECciIiIikgGDOBERERGRDBjEiYiIiIhkwCBORERERCQDBnEiIiIiIhkwiBMRERERyYBBnIiIiIhIBgziREREREQyYBAnolKjT58+kCQJn332mdylEBERMYgTUfFp0aIFJEnC+vXri72tDRs2YOvWrWjfvj3mz59f6P1r0/Tp0yFJEj788EOttanNvi4qRV1jSkoKFi5ciHr16sHCwgLW1tZ49913ERISUiT7IyIqKAZxIj2SEWzefhkYGMDa2hpNmjTB/PnzkZiYKHeZxe7OnTsYO3YsPD09sXXrVhgYGMhdEhWx6Oho+Pj44LPPPsPNmzfh4eEBIQT27NmDpk2b4sKFC3KXWKROnjyJ9957D/b29jAxMYGbmxtGjRqF+/fvy9LulStX0L59e5iZmcHW1haffvppqfwuIvovBnEiPeTk5AQ/Pz/4+fmhfv36MDAwwMmTJ/HFF1/A29sbDx48kKUuZ2dneHh4wMrKqtjaSk9PR//+/WFgYICdO3dqZd+k254/f46WLVvi6tWrGDt2LGJiYnD+/HlER0ejZcuWePXqFT799FO5yywyq1evhr+/P7Zt2waVSoWaNWvi6dOnWL58OWrVqoXQ0NBibTciIgL+/v74559/ULlyZZiZmSEgIACdOnWCSqUqzKESlXyCiPRG8+bNBQAxbdq0LOv+/PNPYW5uLgCILl26FH9xMgkLCxPTpk0TQUFBcpeSo2nTpgkAYtCgQVprM+NcWLdundba1LaiqrF3794CgOjfv3+WdRcvXhQAhCRJIiYmRqv71QWXLl0SBgYGAoD44osvREpKihBCiMTERNGvXz8BQLi5uYmkpKRia3fUqFHCyMhIBAYGCiGEUKlUYvbs2QKA+Ouvvwp3wEQlHK+IE5US7733Hr7++msAwO7du/H06VOZKyoeXl5emD59Opo0aSJ3KVQMzpw5g61bt8Lc3ByLFi3Ksr5OnTowMzODEAJhYWEyVFi0ZsyYgfT0dDRp0gRz586FUqkEAJiZmWHNmjVwc3PDnTt3sG7dumJr9+bNm6hRowZatGgBAJAkCWPGjAEAXL9+vRBHS1TyMYgTlSKtW7cGAKhUKkRERGRal5iYiLlz56J+/fqwtLSEmZkZPD09MWHCBDx8+DDb9l68eIGZM2fC29sbZcqUgbGxMSpWrIiGDRti4sSJuHXrVqbtc7s5TwiBbdu2oXPnzqhQoQKMjIzg4OCg/h//kydP8t2Wpsfj6uoKSZJw5MgR3L17F0OHDkXFihVhbGwMV1dXfPbZZ0hISMj2vXl5/PgxxowZAycnJ5iYmMDV1RVjx47N9y9Eu3fvRpcuXeDg4AAjIyPY2dmhS5cuCAwM1KienBT0MwU06+uiMnfuXADAoEGDUL58+Wy3KVOmDAAgLi6u2OoqDomJidizZw8AYOTIkVnWGxsbq28I3rp1a7G16+rqiqtXr+L48ePqZcuXLwcAuLu757sOIr0k9yV5ItKe3IamCCHEmTNnBAABQJw5c0a9/P79+6J69erqdV5eXsLb21solUoBQJQvX16cPXs2U1svXrwQNWvWVP+Zv0qVKsLX11e4uLio37dq1aps6/vvUITExETx7rvvqvdfvnx5Ub9+feHm5iYMDQ0FALF9+/Z8taXp8QghhIuLiwAgFi9eLMqWLSuMjY2Fj4+PcHV1VbfVqFEjkZqamvOHkI07d+4IJycnAUAoFApRu3ZtUaNGDSFJknB3dxfjxo3LcWhKamqq6N+/v3r/NjY2wtvbW9jY2KiXzZkzJ8v7NBn2oclnqmlfa1pjbuLi4oSRkZEAIE6ePJnjduXKlRMAxI4dO7SyX11x/Phx9ecQFRWV7TZHjhwRAISJiYlIT08vlnavXr0qzMzMhCRJombNmuqfszp16ojk5OSCHSSRnmEQJ9IjeQXxuXPnqsPg06dP1ctbtGghAIiqVauKy5cvq5fHxMSIVq1aCQDCyclJJCQkqNcFBAQIAKJWrVrizp07mfbz+vVr8fvvv4vg4OBs6/tv8BowYIAAIKytrcX27duFSqVSr3v58qVYs2aNOHfuXL7a0vR4hPhfEFcqlWLAgAHi+fPn6nX//POPMDU1FQDE2rVrs+wzN/7+/uq+ioiIUC8PCwsTVapUUYfW7IL4pEmTBADh7u4uDh48mGndpk2bhLm5uZAkSRw+fDjTOk1CriafqaZ9rWmNudm0aZMAIOzt7TOdQ29TqVRCoVAIAOLUqVNa2W9hrFmzRvj5+Wn0+u8Y9zVr1ggAwsjIKMfjj46OVofq27dv57vGwrZ76dIl0a5dO1G2bFlRqVIlMWrUqEw/X0SlFYM4kR7R5GbNY8eOZXuVPMPTp0+FpaWlACACAgLUyz/++OMsy/Jb39vBKzQ0VL3/o0ePFqqtwhyPEP8L4p6enuqb0d42evRoAUB0794933Vm1CNJUqagmiEoKEhd73+D+L1794RSqRRKpVJcunQp2/Z/+OEHAUC0a9cu03JNQm5BP9PC9LWmNeZm+PDh6nry84qLi9PKfgsj40ZdTV7//WVpwYIF6l9EcpKYmKh+//nz5/NVY1G1S0S8WZNIL61duxb+/v7w9/dHw4YNYWtri/fffx+JiYmoWrWqenwmAPXYz+bNm8PX1zdLW+XKlcPQoUMzbQu8mT4QAP7++2+Nx00DwF9//QUAaNq0KZo1a6ZxOxk0PZ63DR8+XH0z2tv8/PwAINtx0jnZu3cvAKBVq1aoWbNmlvVNmjTJtk7gTd+mpqaiSZMmqFWrVrbbvPfeewCAY8eOIT09Pd91Zaegn6k2+lqbMh7UU61aNfX0nf99ZYxJdnV1hbW1dZHXlJfp06dDvLkoVuCXq6trprZev34NADAyMspxfyYmJup/f/XqVb5qLKp2iQgwlLsAItK+6OhoREdHAwAUCgUsLS3RuHFjdOvWDaNHj4a5ubl624xZC3IKem+vCw8PVy8bMmQIFi5ciCNHjsDR0RFt2rSBn58fGjdujEaNGsHQMH9fL1euXAEArc1qounxvK1atWrZLre3twcAvHz5Mt/1ZOyjevXqOW5To0YNnD17NsvyjHmZr1+/Dn9//2zfK4QA8CYsxcXFwc7OLt+1/VdBP1Nt9LU23bx5EwAQEBCADh06ZLvNyJEjsWLFCvUMHvrE1NQUwJsniuYkKSlJ/e9mZmaytktEDOJEemnatGmYPn16vrZ98eIFAMDBwSHHbSpUqJBp24ztT58+jRkzZuDvv//Gjh07sGPHDgBQPzlv0qRJeT7FMuPKa9myZfNVb140PZ63vf2LytsUijd/RCzIQ0gy9pER4rOT07pnz54BAB4+fJiv2UcKeyWyoJ+pNvpaW1JSUhAfHw8AcHR0zHYbIQT27dsHAOjSpUuR1iOHcuXKAXhz3gghIElSlm3enqUnY3u52iUiTl9IVOplTOWWW9CLiYnJtG2GypUrY8OGDXj27BnOnTuHRYsWoXXr1nj8+DG++uor9bzlubG0tATw5mmI2lCY4ykKGfuIjY3NcZuc1llYWAAAxo8fr9FQBU0U5DPVpb5++2ptTldkT5w4gaioKFhbW6NTp07q5bGxsRgyZAgqVaoEY2Nj2Nvbo02bNrh8+bJ6mw8//DDb/v3v8unTp0OSJFy7dg3du3dHmTJlULFiRYwfPz7TVeMMbw8jK+jrv/3u4eGh7ou7d+9m2wcZ05aamJjAxcUl223+q6jaJSJeEScq9Tw9PQH8b4hIdjLWeXl5ZbvewMAA9erVQ7169TB+/HgsWbIEn3zyCZYvX47vvvsu1/3XqlUL27ZtQ3BwsIZHkJk2jkebMurJ7eExV69ezXZ5xrCOoKAg7ReWh/x8prrU1xYWFjAxMUFSUlKOV98XLFgAAJgwYUKm8c4DBw7E7du3MXfuXDg7O+PJkycICgpS/0VCEz169MCAAQMwZswYBAUFYcaMGShbtmyWv1TdvXtX48/3v8He29tb3QfHjh3DgAEDsrzn6NGjAIAGDRqo/8KTl6Jql4h4RZyo1Mu4MnjkyBH1zW5ve/78OdasWZNp27xk3HT5/PnzPIdLZNxsePz4cZw4cSLfdeekKI6nMDLGKh8+fDjbwH3y5Mlsx4cDb8KcoaEhzp49iwMHDhRpnXnJ7jPVtb6uUaMGAGT7S91ff/2FXbt2wc3NDZ988kmmdcHBwRgzZgz69++PZs2aoUePHvjhhx8KdfPwmDFj8NVXX6F169b45ptv0KFDB2zZsiXLdtq8WdPc3BwdO3YEAKxcuTLLvpKTk9UPwPrggw/yfSxF1S4RMYgTlXr+/v7qG9f69u2b6cptbGwsevXqhfj4eDg5OWHw4MHqdZMnT8by5cuzDKt4/vw55syZA+DNDYp53bhVq1YtDBw4EADQvXt37Ny5U30DIvDmqX7r1q3D+fPni/R4ikqzZs3QpEkTCCHQv39/3LlzR70uPDwcH374YbYztABvZvb49NNPAQC9evXChg0bkJaWlmmbhw8fYvny5eonShZGQT/TourrI0eOQJIkSJKEyMjIfL+vV69eAN48XfP27dsA3owL37RpEwYMGABTU1Ns2bJFPeQnQ4MGDbBgwQIsWrQIFy9eLNA9ADnp3Llzpv+uVasWoqKiCt1uXr755hsYGBggKCgIX375JVJTUwG8uX9g2LBhuHPnDlxcXNSz2bwtICAArq6u2d4YXJh2iSgXRTMrIhHJIa8H+uTk7acjSpIkqlevnunpiDY2Nlmejti1a1f1vMHOzs6iQYMGokaNGsLY2FgAEBYWFuLYsWPZ1pfdkzU7duyobs/W1lb4+voKd3f3Qj9ZM7/HI8T/5hEPDAzMtp8CAwMFAOHi4pJXl2YSEREhKlasKAAIAwMDUbt2bVGzZk31kzXHjh2b4wN90tLS1PN7AxBlypQRPj4+wtfXV1SqVCnHOcg1maNbk89U077OrcaMfkY2c2Xn5tWrV+pajIyMhI+Pj3B0dBQARLly5cShQ4eyfd/jx4/F2LFj1Z+RjY2NGD9+vHj58qV6m0GDBmX7uf93eca84C9evMi0Xcby4rBixQr1Q4vKly8v6tWrp57PvWzZsiIkJCTb92XUmNP5rWm7RJQzXhEnIjg6OuLMmTP47rvv4O3tjbt37+LatWtwc3PDp59+isuXL6N+/fqZ3vP1119j6tSp8Pf3h0qlwsWLF3H79m24urpizJgxuHz5Mpo2bZqv/ZuZmWH37t3YunUr2rdvDwC4ePEiXr16hYYNG2LevHn5bkvT4ylK7u7uOH/+PEaOHAkHBweEh4cjISEBo0ePxtmzZ3Odz9rAwAArVqzA0aNH0bdvX1hbW+Pq1au4fv06ypQpg+7du2PNmjX4/vvvC12nJp9pUfR1xg2eDg4O6llX8sPU1BTHjh3Dxx9/jPLly+Pq1aswMTHBp59+irCwMLRu3Trb95UvXx5LlizBvXv3cOvWLXz22WdYunQppkyZot7GxMQEycnJWd4bFxdXoGMrDh9//DGOHz+Obt26QZIkXL58GWXLlsWIESNw+fJleHt761S7RKWZJMRbfwMmIiKSWcZc3/Pnz8fEiRNlqcHb2xvW1tb4999/AQBz5szB1KlTERMTo56r/enTp6hSpQosLS3VQ2imT5+OGTNm4MWLF5mGwGQs5/9yiehtvCJOREQ65fjx4+orrUUtPj4e9evXx8KFC7Fv3z4EBgbim2++waVLlzI9FKhXr15QKBTo06cP9u/fj99//x1t27YtlikwiUh/cfpCIiLSGU+fPkVYWBi++uqrYgm5JiYmqF+/PtatW4eoqCioVCq4u7tj0aJFGDdunHq7ypUrY/v27fjqq6/QvXt3uLi4YNq0aThw4ACOHDlS5HUSkX7i0BQiIiIiIhlwaAoRERERkQwYxImIiIiIZMAgTkREREQkA96sqUUqlQoPHjxAmTJlIEmS3OUQERER0X8IIfDixQs4OjpCoZD3mjSDuBY9ePAATk5OcpdBRERERHmIjo5GpUqVZK2BQVyLMqbaio6OhqWlpczVEBEREdF/JSQkwMnJSSeeA8AgrkUZw1EsLS0ZxImIiIh0mC4MI+bNmkREREREMmAQJyIiIiKSAYM4EREREZEMGMSJiIiIiGTAIE5EREREJAMGcSIiIiIiGTCIExERERHJgEGciIiIiEgGJSKI37lzB6tWrcJHH32EOnXqwNDQEJIkYfbs2YVq9+TJk+jatStsbW1hamqK6tWrY9asWUhKStJS5URERERE2SsRT9ZcvHgxFi9erNU2N23ahEGDBiE9PR0VK1aEk5MTrly5gm+++Qa7du3CkSNHYGZmptV9EhERERFlKBFXxMuXL493330XM2fOxL59+/Dee+8Vqr3IyEgMHToU6enpmD9/PqKjoxESEoKbN2/Cw8MDZ8+exaRJk7RUPRERERFRViXiivjUqVMz/ffWrVsL1d6CBQuQnJyMtm3bYuLEierlLi4uWLt2Lfz8/PDzzz/j66+/hr29faH2RURERESUnRJxRVybhBDYvn07AGDo0KFZ1jdp0gSenp5ITU3Fjh07irs8IiIiIiolSl0Qv3v3LmJiYgAAfn5+2W6Tsfz06dPFVhcRERERlS4lYmiKNt28eRMAYGxsDEdHx2y3cXd3z7RtTpKTk5GcnKz+74SEBC1VSURERET6rtRdEX/27BkAoGzZspAkKdttypUrl2nbnMyZMwdWVlbql5OTk3aLJSIiIiK9VeqCeMYc4UZGRjluY2xsDAB4/fp1rm1NnjwZ8fHx6ld0dLT2CiUiIiIivVbqhqaYmJgAAFJSUnLcJmO4iampaa5tGRsbq0M7EREREVFBlLor4hnDTp4/fw4hRLbbZAxJydiWiIiIiEjbSl0Qr1q1KoA3V70fPHiQ7Ta3b9/OtC0RERERkbaVuiDu7OwMBwcHAEBQUFC222Qsb9iwYbHVRURERESlS6kL4pIkoXv37gCANWvWZFkfHByM8PBwKJVKdOnSpbjLIyIiIqJSQm+DeEBAAFxdXdG7d+8s6yZOnAgjIyP8888/WLBggXqseFRUFIYMGQIAGDZsmPrKORERERGRtpWIIB4UFITy5curX1u3bgXwZh7vt5e/PX3g8+fPERUVhYcPH2Zpz83NDatWrYJCocCkSZPg5OQEHx8fVK1aFdevX0e9evWwYMGCYjs+IiIiIip9SsT0hampqYiLi8uy/NWrV3j16pX6v9PT0/Pd5sCBA1GlShXMmTMHwcHBCAsLg7u7O/r06YMvvvhCPc0hEREREVFRkEROc/hRgSUkJMDKygrx8fGwtLSUuxwiIiIi+g9dymslYmgKEREREZG+YRAnIiIiIpIBgzgRERERkQwYxImIiIiIZMAgTkREREQkAwZxIiIiIiIZMIgTEREREcmAQZyIiIiISAYM4kREREREMmAQJyIiIiKSAYM4EREREZEMGMSJiIiIiGTAIE5EREREJAMGcSIiIiIiGTCIExERERHJgEGciIiIiEgGDOJERERERDJgECciIiIikgGDOBERERGRDBjEiYiIiIhkwCBORERERCQDBnEiIiIiIhkwiBMRERERyYBBnIiIiIhIBgziREREREQyYBAnIiIiIpIBgzgRERERkQwYxImIiIiIZMAgTkREREQkAwZxIiIiIiIZMIgTEREREcmAQZyIiIiISAYM4kREREREMmAQJyIiIiKSAYM4EREREZEMGMSJiIiIiGTAIE5EREREJAMGcSIiIiIiGTCIExERERHJgEGciIiIiEgGDOJERERERDJgECciIiIikgGDOBERERGRDBjEiYiIiIhkwCBORERERCQDBnEiIiIiIhkwiBMRERERyYBBnIiIiIhIBgziREREREQyYBAnIiIiIpIBgzgRERERkQwYxImIiIiIZMAgTkREREQkAwZxIiIiIiIZMIgTEREREcmgRAXxvXv3ok2bNrC2toa5uTl8fHywdOlSqFSqArf14sULzJw5E97e3rCwsICRkRGcnZ3Rr18/hISEFEH1RERERET/IwkhhNxF5MfcuXMxefJkAIC7uzssLCxw5coVqFQqdOnSBdu3b4dCkb/fKx49eoSmTZvixo0bUCgUcHNzg4WFBSIiIvDy5UsYGBhg48aN6NOnT4FqTEhIgJWVFeLj42FpaVngYyQiIiKioqVLea1EXBE/efIkvvrqKygUCmzevBkREREIDQ1FSEgI7O3tsXPnTixcuDDf7X311Ve4ceMGPDw8cPXqVdy6dQsXL17Ew4cPMXz4cKSnp2PEiBFISEgowqMiIiIiotKsRATx2bNnQwiBYcOGZbpKXadOHXUAnzt3LlJTU/PV3p49ewAACxYsgKenp3q5ubk5fvrpJ5QvXx4JCQkICgrS4lEQEREREf2PzgfxhIQEHDp0CAAwdOjQLOt79uwJS0tLxMXFITAwMF9tvn79GsCbIS7/ZWhoCBcXFwBAWlqapmUTEREREeVK54P4hQsXkJKSAhMTE/j4+GRZr1Qq4evrCwA4ffp0vtqsXbs2ACA4ODjLuqdPnyI8PByGhoaoW7eu5oUXg/Xr1yM+Pl7uMoiIiIhIAzofxG/evAkAcHZ2hqGhYbbbZFzZztg2L9OnT4dSqcTEiROxbt06xMbGIjExEUFBQXj33XeRmJiIL7/8Ek5OTrm2k5ycjISEhEyv4vLzzz9j8ODBaNasGe7fv19s+yUiIiIi7dD5IP7s2TMAQLly5XLcJmNdxrZ5adWqFQ4ePIjatWtjyJAhcHBwgIWFBfz9/RETE4Nff/0Vs2bNyrOdOXPmwMrKSv3KK7hrk6+vLxwcHHDp0iU0atQIV69eLbZ9ExEREVHh6XwQT0pKAgAYGRnluI2xsTGA/439zo87d+7g0aNHkCQJLi4uqFWrFkxNTREZGYnVq1cjMjIyzzYmT56M+Ph49Ss6Ojrf+y8sb29vnDx5Ep6enrh37x78/Pxw9OjRYts/ERERERWOzgdxExMTAEBKSkqO2yQnJwMATE1N89XmnDlzMHjwYEiShIsXLyIyMhKXLl3Co0ePMHToUBw5cgR+fn55jr82NjaGpaVlpldxcnV1RVBQkLrWtm3b4rfffivWGoiIiIhIMzofxPMz7CQ/w1cyPHr0CDNnzgTw5mbHjBs3AcDCwgIrVqxA9erV8eDBAyxbtqwwpRcLa2trHDx4EN27d0dKSgp69+5doDnViYiIiEgeOh/Eq1atCgC4e/dujtMJ3r59O9O2uTl37hySkpJgYWGBBg0aZFlvaGiIFi1aqLctCUxNTfHHH39g7NixAIDPPvsMEyZMgEqlkrkyIiIiIsqJzgdxb29vKJVKJCUlISQkJMv61NRUnD17FgDQsGHDPNt78eJFntsIIQD8b3x6SWBgYIDFixdj/vz5AIBFixahf//+6mE7RERERKRbdD6IW1paok2bNgCANWvWZFn/xx9/ICEhATY2Nuor2bnJuGr+8uVLnDlzJsv6tLQ09U2P1apVK0TlxU+SJEycOBG//vorDA0NsWXLFnTs2LFYp1UkIiIiovzR+SAOAFOmTIEkSVi9ejW2bNmiXh4aGooJEyYAACZNmpRpZpWAgAC4urqid+/emdry9vZG9erVAQAffvghLl26pF734sULjBgxAmFhYQCA/v37F9kxFaV+/fphz549sLCwwOHDh9G8eXPExMTIXRYRERERvaVEBHE/Pz/MmjULKpUKffv2ReXKlVGnTh34+PggNjYWnTp1wmeffZbpPc+fP0dUVBQePnyYabkkSdi4cSPKlSuH8PBw1K1bF25ubqhTpw7s7e3VV91nz56NevXqFdsxalvbtm1x9OhR2NnZ4eLFi2jSpAlu3Lghd1lERERE9P9KRBAH3lwV37VrF1q1aoW4uDjcunULtWrVQkBAAHbs2AEDA4N8t+Xj44MrV65gwoQJ8PLyQmxsLK5du4Zy5crhvffew+HDhzFlypQiPJri4ePjg+DgYFSpUgWRkZFo0qRJtsNxiIiIiKj4SSLjzkQqtISEBFhZWSE+Pr7Y5xTPzaNHj9CpUyecO3cOZmZm+Ouvv9C+fXu5yyIiIiIqdrqU10rMFXHSnJ2dHQIDA9G2bVu8evUKnTt3xsaNG+Uui4iIiKhUYxAvJSwsLLBr1y707dsXaWlpGDhwIH744Qe5yyIiIiIqtRjESxEjIyNs3LgRn376KQDg888/x8SJE/ngHyIiIiIZMIiXMgqFAj/88IP6wT/ff/89PvzwQ6SmpspcGREREVHpwiBeCmU8+Gf9+vUwMDDAxo0b0a1bNyQmJspdGhEREVGpwSBeig0aNAg7duyAqakp9u7di3feeQdPnz6VuywiIiKiUoFBvJTr1KkTDh06hLJly+LkyZNo2rQp7t27J3dZRERERHqPQZzQpEkTHD9+HI6OjggLC0OTJk0QHh4ud1lEREREeo1BnAAANWvWRHBwMDw8PBAdHQ1/f38+hZOIiIioCDGIk5qLiwtOnDgBX19fxMXFoVWrVjh48KDcZRERERHpJQZxyqR8+fI4fPgw3nnnHSQmJqJTp074/fff5S6LiIiISO/kK4gbGBgU+mVoaFjUx0JakvEUzl69eiE1NRW9e/fG8uXL5S6LiIiISK/kK4gLIQr94tMbSxZjY2Ns3rwZI0eOhBACo0aNwsyZMyGEkLs0IiIiIr2QryCuUqmyfc2fPx9KpRJdunTB/v37ERUVhaSkJNy9excHDhxAly5doFQqsWDBAgbxEsjAwAA//fQTpk2bBgCYNm0axo0bx8+SiIiISAskoeElzt9++w19+/bFDz/8gPHjx+e43eLFizFhwgRs3boVPXv21LTOEiEhIQFWVlaIj4+HpaWl3OVo1Y8//ohx48ZBCIE+ffpg/fr1MDIykrssIiIiogLRpbymcRBv1KgRoqOjcf/+/Ty3dXR0hLOzM06dOqXJrkoMXfpgi8LWrVsxYMAApKWloV27dvjrr79gbm4ud1lERERE+aZLeU3jWVOuXr2KSpUq5WtbJycnhIWFabor0hG9e/fGrl27YGZmhgMHDqBNmzZ4+vSp3GURERERlUgaB3GlUokbN24gKSkp1+2SkpJw/fp1zpqiJ9q3b49Dhw6hXLlyOHXqFJo1a5avv4oQERERUWYaB/GmTZsiISEBo0aNQnp6erbbpKenY/To0UhISECzZs00LpJ0S+PGjXH8+HE4Ojri6tWr8PPzw40bN+Qui4iIiKhE0XiM+OXLl9GoUSMkJSWhYsWKGDp0KLy8vGBra4vHjx8jPDwca9aswb1792BsbIxTp06hdu3a2q5fp+jSmKPiEBkZibZt2+LmzZuwtbXFvn37UK9ePbnLIiIiIsqRLuU1jYM4ABw7dgz9+vXD/fv3IUlSlvVCCFSsWBEbN25EixYtClNniaBLH2xxefToETp06ICQkBCUKVMGO3bsQMuWLeUui4iIiChbupTXChXEAeDVq1fYunUrDhw4gBs3buDly5ewsLBAtWrV0LZtW/Tp0wdmZmbaqlen6dIHW5wSEhLQtWtXHDlyBEZGRti6dSu6d+8ud1lEREREWehSXit0EKf/0aUPtrglJSWhT58++Pvvv6FQKPDzzz9j6NChcpdFRERElIku5TWNb9YkepuJiQn++OMPDB06FCqVCsOGDcP8+fPlLouIiIhIZzGIk9YYGhpi1apV+OKLLwAAX3zxBT7//HPwjy5EREREWRV6cu/jx49j06ZNCA0NxdOnT5GamprtdpIkISIiorC7Ix0nSRLmzp2L8uXLY+LEifjhhx8QFxeHVatWcS55IiIiorcUKhmNHj0aK1asyNcVz+xmVSH99fnnn8PGxgYfffQR1q9fj6dPn2Lr1q0wNTWVuzQiIiIinaDx0JRff/0Vy5cvh5eXFw4dOoT69etDkiTcvHkThw8fxqJFi+Di4gJTU1OsWLECt2/f1mbdVAIMHjwY27Ztg7GxMXbu3In27dsjPj5e7rKIiIiIdILGQXz16tWQJAlbt25Fq1atYGxsDACoXLkyWrRogU8++QQ3b95Ep06dMG7cODx+/FhrRVPJ0aVLFxw4cACWlpY4duwYWrRogdjYWLnLIiIiIpKdxkH80qVLcHZ2Rs2aNQH8b+jJ28NUMm7eMzAwwLffflvIUqmkat68OY4cOQI7OztcvHgRfn5+/AsJERERlXoaB/HXr1/Dzs5O/d8ZY3+fP3+eaTsrKytUr14dwcHBmu6K9IC3tzeCgoLg6uqKiIgI+Pn54dKlS3KXRURERCQbjYO4g4MDnj17pv7vChUqAADCwsKybPv48WMkJCRouivSE1WqVEFwcDBq1aqFhw8folmzZjh+/LjcZRERERHJQuMg7uHhgQcPHqiHovj7+0MIgXnz5mWawnDjxo24e/cu3N3dC18tlXgVKlTAsWPH4O/vj/j4eLRt2xa7du2SuywiIiKiYqdxEO/UqRNevXqFY8eOAQB69+6NChUqYM+ePfDw8EDPnj3RrFkzfPjhh5AkCSNGjNBa0VSylS1bFv/88w86d+6MpKQkdO/eHevXr5e7LCIiIqJipfE84r169UJCQgKUSiUAwMLCArt370avXr0QERGByMjINzswNMT48eMxduxYrRRM+sHU1BTbtm3DsGHD8Msvv2Dw4MF48uQJPv/8c7lLIyIiIioWktDy88dVKhXOnDmDyMhImJqaolGjRrC3t9fmLnRWQkICrKysEB8fD0tLS7nLKRGEEJg0aRK+//57AMDEiRMxb948PgCKiIiIioQu5TWtB/HSTJc+2JJmwYIFmDRpEgBg0KBBWLVqlfqvLURERETaokt5TeMx4kTaNHHiRKxfvx4GBgb45Zdf0L17d7x69UrusoiIiIiKTL7GiGfckFlYzZo100o7pJ8GDRoEGxsb9OrVC3v27EGbNm2we/duWFtby10aERERkdbla2iKQqEo9JhdSZKQlpZWqDZ0nS79qaMkCwoKwrvvvovnz5+jevXqOHDgACpVqiR3WURERKQHdCmv5euKeLNmzbIN4kIInDx5EqmpqTAyMkLFihVhb2+PR48e4d69e0hJSYGRkREaNWrEm+8o3/z8/HD8+HG0a9cOYWFhaNKkCQ4cOAAvLy+5SyMiIiLSmnwF8SNHjmRZlpaWhh49esDExATz5s3DsGHDYGFhoV6fmJiIVatWYcaMGbC0tMT27du1VjTpv5o1ayI4OBjt2rXD9evX4e/vj927d6Nx48Zyl0ZERESkFRrfrDl37lzs2bMHO3bswPjx4zOFcAAwNzfH+PHjsX37duzevRvz5s0rdLFUuri4uODEiRNo0KABnj59itatW2PPnj1yl0VERESkFRpPX+jp6QkACA8P1+q2JZkujTnSJ4mJiXj//fexf/9+GBgYYPXq1fjwww/lLouIiIhKIF3KaxpfEY+KioK5uXm+tjU3N8fdu3c13RWVcubm5ti5cyf69++P9PR0DB48GPPmzQOnwCciIqKSTOMgbmNjgytXruDBgwe5bnf//n1cuXKFU9BRoSiVSvzyyy/4/PPPAQBffvklxo8fD5VKJXNlRERERJrROIh36dIFqamp6NatW45DTsLDw9GjRw+kpaWha9euGhdJBLyZRnPBggX4/vvvAQBLlixBnz59kJycLHNlRERERAWn8RjxuLg4NGjQAHfu3IEkSWjWrBm8vLxga2uLx48fIzw8HMeOHYNKpYKbmxvOnDkDGxsbbdevU3RpzJG+27RpEwYPHozU1FS0bNkS27dvh5WVldxlERERkY7TpbymcRAHgNjYWIwcORI7duxQj9eVJCnT2N2uXbti2bJlqFChQuGr1XG69MGWBgcPHkSPHj3w8uVL1KlTB/v27SsV5xkRERFpTpfyWqGCeIaIiAj8888/uHHjBl6+fAkLCwtUq1YNbdu2ReXKlbVRZ4mgSx9saRESEoKOHTsiNjYWLi4uOHDgADw8POQui4iIiHSULuU1rQRxekOXPtjS5Pbt22jXrh1u3boFGxsb7N69G40aNZK7LCIiItJBupTXNL5Zk0hXuLu7IygoCL6+voiLi0OrVq2wc+dOucsiIiIiyhWDOOkFOzs7BAYGomPHjnj9+jW6d++OlStXyl0WERERUY7yFcQNDAxgYGCAGjVqZFmW35ehoWGRHQQR8ObBPzt27MDQoUOhUqkwYsQIfP3113zwDxEREemkfAVxIQSEEJkenpKxLL8vPniFioOhoSFWrVqFadOmAQBmz56NIUOGIDU1VebKiIiIiDLLVxBXqVRQqVS4du1almUFeRXW3r170aZNG1hbW8Pc3Bw+Pj5YunRpodr+/fff0b59e9jb28PY2BgVK1ZE+/btsXbt2kLXS/KQJAnTp0/HqlWrYGBggPXr16Nz58548eKF3KURERERqZWYWVPmzp2LyZMnA3hzc56FhQWuXLkClUqFLl26YPv27VAo8j/kPTk5Gb169VLf1Ofu7g4bGxs8fPgQ9+/fh7e3N86dO1egGnXpLlx6Y8+ePejVqxdevXoFb29v7Nmzh3ONExERlWK6lNc0vlnz2bNn2qwjVydPnsRXX30FhUKBzZs3IyIiAqGhoQgJCYG9vT127tyJhQsXFqjNwYMHY+fOnWjWrBnCw8MRERGBM2fO4O7du3j48CG+++67IjoaKk6dOnXCkSNHYGtriwsXLqBRo0YICwuTuywiIiIizYO4g4MDunTpgq1bt+LVq1farCmL2bNnQwiBYcOGoU+fPurlderUUQfwuXPn5nsc8P79+7FlyxZ4enpi//79WR4AY2tri7Zt22rvAEhWvr6+OHnyJKpWrYq7d+/Cz88PR48elbssIiIiKuU0DuJCCOzevRv9+vWDvb09+vXrh127diEtLU2b9SEhIQGHDh0CAAwdOjTL+p49e8LS0hJxcXEIDAzMV5sBAQEAgKlTp8LU1FRrtZLuqly5MoKDg9G4cWM8f/4cbdu2xdatW+Uui4iIiEoxjYN4bGwsVqxYgWbNmuH169fYsmULunXrBnt7e3z88cc4cuSIVgq8cOECUlJSYGJiAh8fnyzrlUolfH19AQCnT5/Os73Xr1/j33//hSRJ6mELQ4cORevWrfHee+8hICCAN/XpqfLly+Pff/9Fjx49kJKSgj59+mD+/Pmc3pCIiIhkoXEQL1euHIYPH47AwEBER0fjhx9+QL169fDs2TOsWrUKrVu3RqVKlfD5558X+KbHt928eRMA4OzsnONc5O7u7pm2zU1oaCjS0tLg6OiIefPmoWXLlli7di0OHz6Mbdu24dNPP4WnpycuXryocc2ku0xNTfH777/jk08+AQB88cUXGDVqlNb/kkNERESUF608WbNChQr49NNPcebMGdy6dQszZ86Ep6cnHjx4gEWLFqFhw4ZZxmHnV8ZNoeXKlctxm4x1+bmBNCYmBgDw6NEjzJ07F507d0Z4eDiSk5Nx5swZ+Pj44MGDB+jatStevnyZa1vJyclISEjI9CLdZ2BggICAAAQEBECSJKxYsSJfnzcRERGRNmn9Effu7u6YOnUqrl69iosXL6Jdu3YQQuDWrVsatZeUlAQAMDIyynEbY2NjAG+GneQlMTERAJCamgp3d3f89ddf8PDwgJGREXx9fbFnzx6YmZnh7t27WLduXa5tzZkzB1ZWVuqXk5NTfg+LdMAnn3yCv/76C6ampti7dy+aNWuGBw8eyF0WERERlRJaD+IAcPv2bXz77bfo27cvDhw4UKi2TExMAAApKSk5bpOcnAwA+brxMqM9ABg1ahSUSmWm9Q4ODujduzeAN7Or5Gby5MmIj49Xv6Kjo/PcP+mW7t27IzAwMNP0hleuXJG7LCIiIioFsh90rYGHDx/it99+w5YtW3D27FkAb2ZWqVChAj744AP07dtXo3bzM+wkP8NX/tseAHh6ema7jZeXFwAgMjIy17aMjY3VV+Op5GrYsCFOnTqFjh074vr16/Dz88Off/6Jd955R+7SiIiISI8VKog/f/4cf/75J7Zs2YJjx45BpVJBCIGyZcuiR48e6Nu3L1q2bAlJkjTeR9WqVQEAd+/eRVpaWrY3bN6+fTvTtrl5e6x6TiE6Y3l6enqB66WSyd3dHcHBwejevTuOHTuGDh06YPny5fjoo4/kLo2IiIj0lMZBvEuXLvjnn3+QmpoKIQRMTU3x7rvvom/fvujQoUOuY7oLwtvbG0qlEklJSQgJCUGDBg0yrU9NTVVfgW/YsGGe7VWqVAlOTk6Ijo5WB/j/ylhesWLFQlZPJYm1tTX++ecfDB06FJs2bcLw4cMRERGB7777DgpFkYziIiIiolJM43Sxe/duqFQqtG3bFr/88gtiY2Px22+/oWvXrloL4QBgaWmJNm3aAADWrFmTZf0ff/yBhIQE2NjYoEWLFvlqs2fPngCADRs2ZFmXlJSE3377DQDQqlUrDaumksrY2BgbN27E9OnTAQDz5s3DBx98kK8bgYmIiIgKQuMgvnTpUjx48AD79u3DgAEDYGFhoc26MpkyZQokScLq1auxZcsW9fLQ0FBMmDABADBp0qRMvwAEBATA1dVVfePl2yZOnAgLCwsEBQXh22+/hUqlAvBm1pURI0YgJiZGPU86lT6SJGHatGnYuHEjlEol/vzzT7Rs2RKxsbFyl0ZERER6ROMgPnr0aJQvX16bteTIz88Ps2bNgkqlQt++fVG5cmXUqVMHPj4+iI2NRadOnfDZZ59les/z588RFRWFhw8fZmnPwcEBmzdvhpGREaZOnQpHR0c0aNAAFSpUwC+//AIzMzNs3boVtra2xXJ8pJv69++PQ4cOwdraGqdPn0bDhg05owoRERFpTYkZ+DplyhTs2rULrVq1QlxcHG7duoVatWohICAAO3bsgIGBQYHa69y5M86dO4fevXtDkiRcvHgR5ubmGDhwIM6fP4+2bdsW0ZFQSdKsWTOcPHkSVapUQVRUFJo0aZLntJZERERE+SEJIUReGw0ZMgTAmydofvvtt5mW5XtHkpTtGG99kpCQACsrK8THx8PS0lLuckiL4uLi0KNHDxw7dgwKhQKLFy/GmDFj5C6LiIiICkiX8lq+gnjGjBGenp4ICwvLtCzfO5IkvZ8OUJc+WNK+lJQUfPzxx1i/fj0AYMyYMVi0aFG2U2oSERGRbtKlvJavBJHxqHcrK6ssy4hKCyMjI6xduxYeHh6YPHkyfvzxR9y6dQu//fab7D/IREREVPLk64o45Y8u/YZFReuvv/7CgAED8Pr1a1SvXh27du2Cu7u73GURERFRHnQpr5WYmzWJdMl7772HY8eOwdHREWFhYWjQoAGOHTsmd1lERERUghRJEE9PT8fp06exfft2REZGFsUuiGRXv359nDlzBvXq1UNcXBzatGmj9zckExERkfZoHMQPHDiAHj16YOvWrZmWP3jwAA0bNkSTJk3w/vvvo0qVKpgxY0ahCyXSRRUrVsSxY8fQq1cvpKamYtiwYfjss8/0/sZkIiIiKjyNg/iGDRuwY8cOVKtWLdPyTz/9FCEhIbC0tESdOnUgSRJmzpyJoKCgQhdLpIsyHgA1ffp0AMDChQvRpUsXJCQkyFsYERER6TSNg/jZs2dhZWUFHx8f9bKnT59i+/btsLW1xY0bNxASEoItW7ZACIGAgABt1EukkyRJwrRp0/Dbb7/BxMQEe/fuRaNGjXDr1i25SyMiIiIdpXEQf/z4MZycnDItCwwMRFpaGvr06aN+PPz777+PChUqIDQ0tHCVEpUAvXr1wvHjx1GxYkVcu3YNDRo0wKFDh+Qui4iIiHSQxkH81atXWR4rf+LECUiShNatW2daXqlSJdy7d0/TXRGVKPXr18fZs2fRqFEjPHv2DO3bt8eSJUvAmUKJiIjobRoHcXt7e0RGRiItLU297MCBA1AoFGjatGmmbV+/fg1zc3PNqyQqYSpUqIDAwEAMGjQI6enp+OSTT/DRRx8hOTlZ7tKIiIhIR2gcxJs2bYr4+HjMnDkTL1++xJo1axAeHo5GjRqhbNmy6u1SU1Nx8+ZNODo6aqNeohLDxMQE69atww8//ACFQoE1a9agVatWePjwodylERERkQ7QOIh/9dVXMDExwbfffgsrKysMHz4cADBlypRM2x08eBDJyclo0qRJ4SolKoEkScKECROwd+9eWFlZITg4WD10hYiIiEo3jYN4jRo1EBgYiI4dO6JatWpo3bo1du/ejfbt22fabuPGjbCyskLHjh0LXSxRSdWuXTucOXMGXl5euH//Ppo2bYpffvlF7rKIiIhIRpLgHWRak5CQACsrK8THx8PS0lLuckgHJSQkYMCAAdi5cycA4JNPPsGCBQugVCplroyIiKh00KW8ViSPuCei7FlaWmL79u2YNm0aAGDx4sVo164dnjx5InNlREREVNwYxImKmUKhwPTp07Ft2zZYWFggMDAQ9evXR0hIiNylERERUTHK19CUVq1aAQBcXFywbt26TMvyvSNJwr///qtBiSWHLv2pg0qGq1evolu3brh16xZMTEywcuVKDBw4UO6yiIiI9JYu5bV8BXGF4s2Fc09PT4SFhWValu8dSRLS09M1KLHk0KUPlkqO58+fY8CAAdi9ezcAYPTo0Vi4cCGMjIxkroyIiEj/6FJeM8zPRoGBgQAAMzOzLMuIqHDKli2LHTt2YObMmZgxYwZ++uknhIaG4o8//oCDg4Pc5REREVER4awpWqRLv2FRybRr1y70798fCQkJqFChAv7880/OwU9ERKRFupTXeLMmkQ7p3Lkzzp49i+rVqyMmJgbNmzfHkiVLwN+XiYiI9A+DOJGOqVatGk6fPo1evXohLS0Nn3zyCfr164eXL1/KXRoRERFpUaGHphw4cAD79+/H7du38fLlyxyv3HHWFKKCEUJg8eLFmDhxItLS0lCjRg1s27YN1apVk7s0IiKiEkuX8prGQTwhIQHdunXD0aNH8/Vnc86aQqSZEydOoGfPnnj48CHKlCmD9evXo0ePHnKXRUREVCLpUl7L16wp2fniiy9w5MgRWFtbY/jw4fD29oatrS0kSdJmfUSlnr+/P0JCQvDBBx/g+PHjeO+99zBhwgTMnTsXSqVS7vKIiIhIQxpfEbe3t8fz588REhKCGjVqaLuuEkmXfsMi/ZOamoovv/wSCxcuBAA0adIEv/32GypVqiRzZURERCWHLuU1jW/WTExMhIeHB0M4UTFRKpX44YcfsG3bNlhaWiI4OBje3t44ePCg3KURERGRBjQO4p6ennj9+rU2ayGifOjevTtCQkJQt25dPHnyBO3atcOMGTP0/h4MIiIifaNxEB89ejQiIiJw5MgRLZZDRPlRuXJlBAcH46OPPoIQAtOnT0eHDh3w6NEjuUsjIiKifNI4iA8ePBhjx45Fjx49sHTpUs5xTFTMTE1N8fPPP2PDhg0wMzPDwYMHUbduXf5yTEREVEIUah7x5ORk9OnTBzt27AAA2NrawszMLPsdSRIiIiI03VWJoEuD/6l0CQsLQ8+ePREWFgaFQoFp06ZhypQpMDAwkLs0IiIinaJLeU3jIB4bG4s2bdogLCyM84j/P136YKn0SUxMxNixY7Fu3ToAQOvWrbFp0ybY29vLXBkREZHu0KW8Vqh5xK9evYoqVapg4sSJqFu3LucRJ5KRubk51q5di+bNm2PUqFH4999/UbduXfz6669o3bq13OURERHRf2h8RdzBwQEJCQm4desWHB0dtV1XiaRLv2FR6fb2UBVJkjB58mTMmDEDhoYa/+5NRESkF3QprxVqHnFPT0+GcCIdVL16dZw9e1Y9q8p3332H5s2b4+7du3KXRkRERP9P4yBeq1YtxMXFabMWItIiMzMz/Pzzz9i6dav6AUB16tTB9u3b5S6NiIiIUIggPnHiRERHR+P333/XZj1EpGUffPABLly4gAYNGuD58+fo0aMHRo0axQdyERERyUzjIN69e3csWbIEw4YNw2effYarV68iKSlJm7URkZa4u7vj+PHjmDhxIgBg+fLl8PX1xeXLl2WujIiIqPTS+GbNgs5PLEkS0tLSNNlViaFLg/+JcnLgwAEMGjQIsbGxMDY2xvfff4/Ro0dzxiMiIioVdCmvaXxFXAhRoJdKpdJm3USkoXbt2uHSpUvo2LEjkpOTMXbsWHTu3BmPHj2SuzQiIqJSReMgrlKpCvwiIt1gZ2eH3bt3Y8mSJTA2NsaePXtQu3ZtHDhwQO7SiIiISg2NgzgRlWySJGHs2LE4c+YMqlevjtjYWLRv3x6ffPIJb+QkIiIqBgziRKVc7dq1ce7cOYwZMwYAsGTJEtSvXx8XL16UtzAiIiI9p3EQT0hIwKVLl3D//v0s67Zt24YOHTqgTp06GDJkCO7du1eoIomoaJmammLp0qXYu3cv7O3tERYWhgYNGmDBggVIT0+XuzwiIiK9pHEQX7hwIby9vbOMKf3ll1/Qs2dPHDhwAJcvX8b69evh5+eHhISEQhdLREWrQ4cOuHz5Mrp27YrU1FRMmjQJrVu3RlRUlNylERER6R2Ng/jBgwdhYGCAXr16ZVo+ffp0AMCXX36Jv//+Gy1btsS9e/ewbNmyQhVKRMXD1tYW27dvx+rVq2Fubo6jR4+idu3a+OWXX6DhbKdERESUDY3nEa9YsSKUSiUiIyPVy0JCQlC/fn20atUKhw4dAgDExcWhYsWKqFWrFs6ePauVonWVLs1LSaQNt27dwsCBA3Hy5EkAQLdu3bBy5UrY2dnJXBkREZFmdCmvaXxFPC4uDg4ODpmWHT16FJIkoVu3buplNjY2qFatGv+0TVQCValSBceOHcN3330HpVKJv//+G7Vq1cLOnTvlLo2IiKjE0ziIGxkZ4enTp5mWHTt2DADQrFmzTMtNTU2RmJio6a6ISEaGhoaYPHkyzpw5g5o1a+LRo0fo2rUrhgwZgvj4eLnLIyIiKrE0DuKenp6IiIjAjRs3AADPnj3DwYMHYWNjg9q1a2fa9sGDB/xTNlEJV7duXZw7dw6TJk2CJElYt24datWqhYMHD8pdGhERUYmkcRDv168fhBBo27YtPv/8c7Rq1QqvX79G//79M20XFRWF+/fvw8PDo9DFEpG8jI2NMW/ePBw7dgyVK1dGdHQ02rZtixEjRuDFixdyl0dERFSiaBzEx4wZgx49euDu3btYuHAhQkND0aBBA0ybNi3Tdhs3bgQAtGnTpnCVEpHO8Pf3R2hoKMaOHQsAWLlyJWrVqoXDhw/LXBkREVHJofGsKRlCQkJw8+ZNODk5oXHjxpAkKdP6zZs34/Hjx3j//fdRsWLFQhWr63TpLlyi4nLkyBEMHjxYPYPSqFGjMG/ePFhYWMhbGBERUTZ0Ka8VOojT/+jSB0tUnF68eIFJkyZhxYoVAAAXFxesXr2afwkjIiKdo0t5TeOhKUREGcqUKYPly5fj0KFDcHV1RVRUFN555x189NFHnFmFiIgoB4W+Ip6QkIDAwEDcvn0bL1++zPHJe5Ik4euvvy7MrrB3714sXLgQISEhSE5OhoeHBwYPHozRo0dDoSjc7xSrV6/GRx99BAAYOnQoVq9eXeA2dOk3LCK5vHz5EpMnT8aPP/4I4M3Dv1auXIlOnTrJXBkREZFu5bVCBfE5c+Zg9uzZSEpKUi/7b3OSJEEIAUmSkJ6ernGhc+fOxeTJkwEA7u7usLCwwJUrV6BSqdClSxds375d4zD++PFjeHp6qudFZxAnKrzjx49jyJAhuHXrFoA3My0tWrQItra2MldGRESlmS7lNUNN37hs2TJMmTIFAODj4wNfX1/Y2dkV+sp0dk6ePImvvvoKCoUCv/76K/r06QMACA0NRbt27bBz504sXLgQn3/+uUbtf/rpp3j+/Dk6deqEPXv2aLN0olKradOmCA0NxTfffINFixZh06ZNOHDgAAICAtC3b98sN3YTERGVNhpfEa9ZsyauXbuGZcuW4eOPP9Z2XZl06tQJe/fuxfDhw7Fy5cpM6zZv3ox+/frBxsYGMTExUCqVBWr70KFDeOeddzBy5EjY2dlhxowZvCJOpGVnzpzBsGHDcPnyZQBAhw4dsHz5cri4uMhcGRERlTa6lNc0vnwdEREBR0fHIg/hCQkJOHToEIA3Q0b+q2fPnrC0tERcXBwCAwML1HZSUpI6gH/33XdaqZeIsmrQoAHOnTuH2bNnw8jICPv27UONGjWwdOnSQg1ZIyIiKsk0DuLlypWDg4ODNmvJ1oULF5CSkgITExP4+PhkWa9UKuHr6wsAOH36dIHanj17Nm7duoUFCxagbNmy2iiXiHJgZGSEKVOmIDQ0FP7+/khMTMS4cePg5+eH0NBQucsjIiIqdhoH8fbt2yMsLAwJCQnarCeLmzdvAgCcnZ1haJj9kHZ3d/dM2+bHtWvXsGDBAjRt2hQDBw7UqLbk5GQkJCRkehFR7jw9PXH06FEsW7YMlpaWOH36NOrVq4cvvvgCr169krs8IiKiYqNxEP/2229hZWWF4cOH4/Xr19qsKZNnz54BeHMFPicZ6zK2zYsQAh9//DFUKhWWLVumcW1z5syBlZWV+uXk5KRxW0SliUKhwMiRI3Ht2jW89957SE9Px/z581GjRg3s379f7vKIiIiKhcazphw8eBAjRozAt99+i+PHj6NPnz6oXLkyzM3Nc3yPJleeM6ZGNDIyynEbY2NjAMj3LwRr1qzB8ePH8fnnn6NmzZoFrinD5MmTMWHCBPV/JyQkFHkYV6lUePDgAcqUKcNZJ0oJIQRevHgBR0fHIpmVSE6Ojo74888/sWvXLowePRqRkZHo0KEDevfujYULF6JChQpyl0hERFRkNA7iH374oXqO8JiYGCxatCjP92gSxE1MTAAAKSkpOW6TnJwMADA1Nc2zvcePH+OLL75ApUqVMG3atALX8zZjY2P1LwHF5cGDB7zyXkpFR0ejUqVKcpdRJDp37oyWLVvim2++weLFi7F161bs3bsXs2fPxqhRo2BgYCB3iURERFqncRAfOHBgsVyRzc+wk/wMX8kwadIkPH36FCtXroSFhYV2iixGZcqUkbsEkom+f/YWFhZYuHAh+vfvj5EjR+LMmTMYN24c1q9fjxUrVqhvyiYiItIXhX7EfVE7evQoWrRoARMTE7x48SLbGzbbtGmDf//9FzNnzsTXX3+da3t169ZFaGgo7O3ts6x7+fIlEhMTYWpqqp5X8uHDh/mutTjmpczYB5U+ujDfaXFJT0/HqlWrMHnyZDx//hySJKmHwuXnF24iIqKc6MU84sXF29sbSqUSSUlJCAkJybI+NTUVZ8+eBQA0bNgw3+3GxsZmeSUmJgJ4M9Y8YxkRFT8DAwOMGDEC4eHhGDBgAIQQWL58OTw8PLBu3TqoVCq5SyQiIio0nQ/ilpaWaNOmDYA3N1n+1x9//IGEhATY2NigRYsWebZ38eJFCCGyfWWMGR86dKh6GRHJx97eHhs2bEBgYCC8vLzw+PFjDBkyBH5+ftn+Yk5ERFSSaDxG/G0xMTG4dOkSnj59itTU1By303S+7ilTpmD//v1YvXo1WrRogT59+gAAQkND1bOWTJo0KdPMKgEBAQgICECjRo2wdetWjfZLRLqhRYsWuHjxIpYsWYIZM2bg1KlTqF+/PkaMGIHZs2fD2tpa7hKJiIgKThTCtWvXRKtWrYRCocj1JUmSUCgUhdmVmD17tgAgAAh3d3dRu3ZtoVAoBADRqVMnkZaWlmn7adOmCQCiefPm+d5HxnuGDh2qUY3x8fECgIiPj9fo/QXZB1+l71WU51VJcu/ePdGnTx91v5QvX16sXLkyy3cAERFRdoojr+WXxkNToqOj0bRpUwQGBsLPzw+2trYAgL59+6Jp06YoX748hBAwMTFBv379NL4anmHKlCnYtWsXWrVqhbi4ONy6dQu1atVCQEAAduzYwenNiEqJihUrYvPmzQgMDET16tXx5MkTfPzxx/D19UVQUJDc5REREeWbxrOmjBo1CitWrMB3332HL7/8Ek2bNkVwcDDS09MBAGlpaVi7di0mTZqE+vXrY//+/Tk+ol5fcNYUKkq6cHe3rklNTcWyZcswbdo0xMfHA3hzMWD+/PmoWLGizNUREZEu0qVZUzQO4lWqVMGjR4/w+PFjGBsbZwniGfbv34+OHTti1qxZmDJlilaK1lUM4oVnYm4Di7KOMLOsAHOrCrCwcoTS2AKSgSEUCkMIVTpU6alITUlEYnwMEuMf/P8/Y/A68QmgxzfY6sIXhq569OgRpk6ditWrV0MIAXNzc3z11Vf49NNP8/WgLyIiKj30IoibmpqiWrVqCA0NBfDmZqrjx4/j1atXWZ426e7uDlNTU1y9erXwFeswBvECkCSUs6sGO+d6sHeuD3vXBrB18obSyCzTZunpqf8frt8+TSVAkmBgoMy0bVrqazy+F4qHkafx6O55PLp7Hs8ehkMI/ZjqThe+MHTd+fPnMW7cOAQHBwMAXFxcMH/+fPTs2bNYHkBGRES6T5eCuMZjRczMzDINNckIh/fv34e7u3umbcuWLYvr169ruivSE0YmZeDs1Q7utbvAvXZnGJuWBQCkp6VAYaDMNij9N2znxlBpCgfXhrBz8oGB4ZsZdFKSXuDOld24fWknIq/uQ8rreK0cC+mmevXq4cSJE9i8eTO++OILREVF4YMPPsCSJUsQEBCA+vXry10iERGRmsY3azo5OeHBgwfq/65evToA4NChQ5m2e/LkCa5fv57lKjmVDoZGZqjRZCi6j/0HHy+IQ6eP/kC1+r3VIRwADAyNtHa1UpIkdQgH3oT/qt7vo8OQLfh4/hO8Nz4QtZqOgJGJfj8uvjSTJAn9+vXD9evXMX36dJiZmSEoKAi+vr4YNGgQ7t+/L3eJREREAAoRxP39/fH48WP1I+Dff/99CCHw+eefY/Xq1bh69SoOHz6MLl26ICkpCa1bt9Za0aT7ytl7oFnPAHw09yFa91uFSh6toPj/q9sFucqtDRn7VRgYwrFKU7Ts/ROGzX2Ilr1/go1jzWKthYqPubk5pk2bhuvXr2PAgAEAgA0bNqBatWqYNm0aXr58KXOFRERU2mk8RvzgwYPo2LEjli9fjmHDhgEARo8ejeXLl2e6uimEgLW1NU6dOoUqVapop2odxTHigLNnG/i2n4JK1VpAlZ6qDsG6KKO+mNvBOLv/O9y5skfuknKlC2PZSrIzZ87g008/VY8ft7e3x6xZszBkyBBOf0pEVIro0hhxjYN4TjZs2IDNmzcjMjISpqam8Pf3x6RJk+Dk5KTN3eik0hzE7V3qw6/bPDh5tIIqPQ0Kg5IzVWVGvQ9uB+PEtomIuR0sd0nZ0oUvjJJOCIFt27bhiy++QEREBACgZs2aWLBgAdq1a8cbOomISgG9DuKlWWkM4mXtqqJJl+9Q1ed9nb8CnpeM+u9c3o2gv79EXIxuzfKjC18Y+iIlJQXLli3DzJkz8ezZMwBA69atMW/ePNSrV0/m6oiIqCjpUhDXeIz4kCFD8NFHHyElJUWb9VAJISkM4NtuMvp/fRWV63QFgBIdwoH/1e9SvR36TglFo3dnZrrxk/SHkZERxo8fj4iICEyYMAFGRkb4999/Ub9+ffTt2xe3b9+Wu0QiIioFNL4ibmRkhBo1auDChQvarqnEKi1XxG0q1EDbDzfCtlIdSJLGv8vpPCFUePYwHAfWD8Cj6BC5y9GJ39z11Z07d/D1119j06ZNAAClUomRI0di6tSpsLW1lbk6IiLSJr24Is7HR5c+kqSAb7vJ6PPVBZR3rKnXIRx4c7xl7arhgy/OoHHnWVAoSs64dyoYNzc3/PrrrwgJCcE777yD1NRULFmyBJUrV8bMmTPx4sULuUskIiI9pHGS6tSpE65evYqYmBht1kM6ysjEEl1G7UbjLrNhYKAs8cNQ8kthYAiFwgC+7b9C908OwcTcRu6SqAh5e3vjn3/+wT///ANvb2+8ePEC06ZNQ+XKlbF48WIkJyfLXSIREekRjYP49OnT4ejoiF69eiE2NlabNZGOKWtXFX2+PAdnz3f0/ip4TiRJAUd3P/SdHAKbCjXkLoeK2DvvvINz585h69atqFq1Kh4/fozx48ejWrVqWLduHdLS0uQukYiI9IDGY8RnzpyJR48eYeXKlVAqlWjTpg28vLxgbm6e/Y4kCV9//XWhitV1+jhG3NnrHXT66E8YKk1LzVXw3KjSU5Genor9a/vg9qWdxbpvXRjLVhqlpqZi3bp1mDFjhvppwp6enpgxYwbef/99KBSl85dTIqKSSpfGiOc7iLdq1Qq1a9dGQEAAAEChUECSJOT19oxtJElCenp6oQvWZfoWxD0a9EO7gRsgIKBQ8IEnGYRKBUmhwOEtI3D5+Mpi268ufGGUZq9fv8aPP/6IuXPn4unTpwCA2rVrY9asWejcuTPnICciKiF0KYjn++6zI0eOZPpz7LRp04qkININNZoMRet+PwMAFBJD+Nuk/78C2qrPChgYmuBi4GKZK6LiYGpqiokTJ2L48OEICAjAwoULcenSJXTt2hW+vr6YPXs23nnnHQZyIiLKt3xfEVcoFPD398exY8eKuqYSS1+uiFdvPBjvDFir/ksG5e7I7+MQemRpke9HF35zp/+Ji4vD999/jyVLluDVq1cAAD8/P0yfPh2tW7fmzw4RkY7SpSviHNxImVSr3xtt+q9mCC+AFr2WoIbfMLnLoGJmY2ODOXPm4Pbt2xg/fjyMjY0RFBSEd955B82aNcPhw4fzHLpHRESlG4M4qVVwb4J2gzYAAEN4AQgh0LrPSjh7vSN3KSQDe3t7LFq0CLdv38a4ceNgbGyMEydOoHXr1mjRogUCAwMZyImIKFsM4gQAKFPOCZ1H7AQgldopCjUlSRIEBDp99CfK2laRuxySiaOjIxYvXoyIiAiMGTMGRkZGOHbsGFq1aoWmTZvin3/+YSAnIqJMCpS4goKCYGBgoNHL0JBPJdRVhkpTdB65C8amllAY8HPShEJhAEOlKbqM3gsjE47jLs0qVqyIpUuXIiIiAqNHj4aRkRGCgoLQrl07NGrUCLt372YgJyIiAAUM4kKIQr1IN70zcB1sHGtynvBCUhgoYWXjhg5DtwIc2lPqVapUCT/++CPu3LmD8ePHw8TEBGfOnEHnzp1Rr149bNu2DSqVSu4yiYhIRgWaNaVWrVpYsmSJxjtr3ry5xu8tCUrirClejQah7cD1WmuP3iiKmVR04e5u0lxsbCx++OEHLFu2DImJiQAALy8vTJ48Gb1794ZSyV+EiYiKgy7NmsLpC7WopAVxcytHDJwWDqWRuXpubCo8IQTS05Lx6+yaiH8cobV2deELgwrvyZMnCAgIwI8//oj4+HgAgKurKyZNmoTBgwfDxMRE5gqJiPSbLgVxpq9SrE3/1TBUmjCEa5kkSVAoDPDOgPUcokJZlC9fHrNnz0ZUVBTmzJkDW1tbREZGYtSoUXBzc8P8+fPVAZ2IiPQbE1gp5dVoEFxrdOC48CKiMFCiYhV/1Gk+Wu5SSEdZWVnhyy+/RGRkJJYuXQonJyc8fPgQX3zxBZydnfHll18iJiZG7jKJiKgIMYiXQkamVmjeczEEbxQrUkII+HebB7MydnKXQjrMzMwMY8aMwa1bt7B+/XpUr14dCQkJmDdvHlxdXTF8+HDcuHFD7jKJiKgIMIiXQvXfmQSlsQWHpBQxSZKgMDCCb4epcpdCJYCRkREGDRqEy5cvY8eOHWjSpAlSUlKwatUqeHp6okePHggODpa7TCIi0qJ8JzGVSsUbNfWAmaUDvFtPgEJhIHcppYLCwBC1m46ApY2b3KVQCaFQKNClSxcEBQXh+PHjePfddyGEwPbt2+Hn54fGjRvjr7/+Qnp6utylEhFRIfGSaCnTsOM3UCj40J7i1rjLbLlLoBLI398fu3btQlhYGIYNGwYjIyOcOnUK77//Pjw8PPDjjz/i5cuXcpdJREQaYhAvRazKu6Om/3A+PbOYKQyU8PTti/IVa8ldCpVQXl5eWLVqFaKiojB16lRYW1sjIiICY8eOhZOTEyZNmoTo6Gi5yyQiogJiEC9FajcfDQjeoCkHVXoq6rQYJ3cZVMI5ODhg1qxZuHv3Ln788UdUrVoVz58/x4IFC+Dm5obevXvj9OnTcpdJRET5xCBeShgqTVHTbxinK5SJwkAJzwb9YWxaVu5SSA+Ym5tj9OjRCA8Px86dO9GyZUukp6fjt99+Q6NGjdC4cWNs2bIFKSkpcpdKRES5YBAvJTx8+0BpXEbuMko1AwMjeDUaJHcZpEcUCgU6d+6Mw4cP48KFCxg0aJB6HHnfvn3h6uqKmTNnIjY2Vu5SiYgoGwzipUSdFuMgOCxFdnVbjuPTNqlI1K1bF+vXr8fdu3cxc+ZMODg4ICYmBtOmTYOzszMGDhyIM2fOyF0mERG9hUG8FLBz8oFtpTqcslBmkkIBq/LuqFilmdylkB6zt7fH119/jaioKGzevBmNGjVCSkoKNm7ciIYNG8LX1xfr16/H69ev5S6ViKjUYxAvBdzrdIMqPU3uMghAenoqKtfpJncZVAoYGRmhT58+OHnyJE6fPo0BAwbAyMgI586dw+DBg1GpUiVMmjQJd+7ckbtUIqJSi0G8FKhStwckXg3XCQYGSlSp20PuMqiUadCgATZs2IB79+5hzpw5cHZ2xtOnT7FgwQJUrlwZHTt2xM6dO/mQICKiYsYgrufKWDvDxrEGJI5L1hllrJ1hXaG63GVQKWRra4svv/wSt2/fxo4dO9C2bVsIIbBv3z507doVbm5umDVrFmJiYuQulYioVGAQ13NutTpDqHiTpi5RqdLgXruL3GVQKWZgYIAuXbrgwIEDuHnzJiZOnAgbGxtER0fjm2++gbOzM9577z0cOHAAKn5/EBEVGQZxPedWsyMEhNxl0FskSQG3mu/KXQYRAKBKlSqYP38+7t27h19//RX+/v5IS0vDtm3b0L59e7i7u2P27Nm4f/++3KUSEekdBnE95+DaiLOl6BhJUsDO2QeSxB8/0h0mJibo168fjh8/jitXruCTTz5BuXLlEBUVha+//hrOzs7o0qULdu7cibQ03vxNRKQNTAJ6zKJcJZiYW8tdBmXDUGmKcvYecpdBlK0aNWogICAA9+/fx8aNG9G0aVOoVCrs2rULXbt2hZOTE7788kvcvHlT7lKJiEo0BnE9ZudcT+4SKBf8fEjXmZqaon///jh27BjCwsLw2WefwdbWFg8fPsS8efNQrVo1NGvWDL/88gsSExPlLpeIqMRhENdjdk71kJ6eKncZlI30tBQGcSpRvLy88P333+PevXv466+/0LFjRygUChw/fhwffvghHBwcMGTIEBw7dgxC8L4UIqL8YBDXY7aV6kCSOD5cFykMlAziVCIZGRmhR48e2LNnD6KiojB79mxUqVIFL1++xLp169C8eXNUqVIFM2fORGRkpNzlEhHpNAZxPWZp4wqFgh+xLpIkCWXKOcldBlGhVKpUCVOmTMGNGzdw/PhxDB06FBYWFrh9+zamTZsGNzc3tGjRAmvXrkVCQoLc5RIR6RymND1mbuUodwmUC7My9nKXQKQVkiTB398fq1evxsOHD7Fx40a0atUKkiTh6NGjGDp0KOzt7dG3b1/s27ePs64QEf0/BnE9JSkMYGJWTu4yKBeGRqYwMikjdxlEWmVubo7+/fvj33//RVRUFObMmQMvLy8kJSVhy5Yt6NixIypWrIhPPvkEZ86c4XhyIirVGMT1lFkZO0icP1znmVlWkLsEoiKTMc3h1atXcfbsWYwbNw7ly5fHo0ePsGTJEjRs2BAeHh6YMWMGp0IkolKJQVxPcdhDyWBu5SB3CURFTpIk1K9fH4sXL8aDBw+wZ88e9O3bF2ZmZrh58yamT5+OatWqwdfXFwsXLuRTPImo1GAQ11MGShO5S6B8MDA0lrsEomKlVCrRsWNHbNq0CbGxsdi4cSPatWsHAwMDnDt3Dp999hmcnJzQokULrFy5Ek+ePJG7ZCKiIsMgrqcUBkq5S6B84OdEpZmFhQX69++P/fv348GDB/jpp5/g7+8PIQSOHj2KESNGwMHBAe3bt8fatWvx7NkzuUsmItIqBnE9JUmS3CVQPkgSfwSJAMDOzg6jRo3C8ePHERUVhfnz58Pb2xvp6ek4cOCAeuaVTp06YcOGDXj+/LncJRMRFRpTgJ5SpXN6sJJAxSefEmXh7OyMiRMnIiQkBDdu3MDs2bNRq1YtpKamYu/evRg0aBDs7OzQqVMnrF+/nlfKiajEKlFBfO/evWjTpg2sra1hbm4OHx8fLF26FCqVqkDtXLhwAd988w2aN2+O8uXLQ6lUws7ODh06dMD27duLqPripVIxiJcE/IWJKHdVq1bFlClTcOnSJYSFhWH69OmoXr26OpQPHjxY/f29Zs0ajiknohJFEiVkEte5c+di8uTJAAB3d3dYWFjgypUrUKlU6NKlC7Zv356vp0hGRESgSpUq6v92c3ODtbU1bt++rb6qMmjQIKxdu7bAT6VMSEiAlZUV4uPjYWlpWaD3FnQfeSlrWwWDZnA6MF23eY4PHkdfyNe2RXleEZU0YWFh+PPPP/Hnn3/i8uXL6uUKhQLNmzdHjx490K1bN1SqVEnGKolIFxVHXsuvEnFF/OTJk/jqq6+gUCiwefNmREREIDQ0FCEhIbC3t8fOnTuxcOHCfLUlhECFChUwb948PHjwALdv38a5c+fw5MkTLF26FJIk4ZdffsGyZcuK+KiKVmJCjNwlUD4kxvNzItJE9erV8c033+DSpUsIDw/H7Nmz4e3tDZVKhcDAQIwdOxZOTk5o1KgR5s+fjxs3bshdMhFRFiXiininTp2wd+9eDB8+HCtXrsy0bvPmzejXrx9sbGwQExMDpTL3WSiSkpKgUqlgZmaW7fqRI0dixYoVqF27NkJDQwtUpy5dEQeAUYteQmlsXiR1UOEJVTqWjjWCEPkbWqULv7kT6bo7d+5g+/bt2LZtG4KDgzM9udPLywtdu3ZFt27d4OvrW+C/ehKRfuAV8QJISEjAoUOHAABDhw7Nsr5nz56wtLREXFwcAgMD82zPxMQkxxAOAG3btgUAvbh68upFrNwlUC5eJz7Ndwgnovxxc3PDhAkTcOLECdy/fx/Lly9Hu3btoFQqce3aNcydOxeNGjVCpUqVMGLECOzZswevX7+Wu2wiKqV0PohfuHABKSkpMDExgY+PT5b1SqUSvr6+AIDTp08Xen9JSUkAAFNT00K3JbcXz6LlLoFy8YrDh4iKVIUKFTBixAjs378fjx8/xpYtW/DBBx+gTJkyiImJwcqVK/Huu++ifPny6N69O9atW4dHjx7JXTYRlSI6H8Rv3nxzw6GzszMMDQ2z3cbd3T3TtoXx+++/AwD8/Pzy3DY5ORkJCQmZXrrk2cNwpKelyF0GZUOVnoa4B1flLoOo1LCyskLv3r2xdetWPH78GPv27cOoUaNQqVIlvHr1Cn///TeGDBkCBwcHNG7cGN9++y1CQ0NRAkZvElEJpvNBPGMmk3LlyuW4Tca6ws4l+88//+Dvv/8GAEycODHP7efMmQMrKyv1y8nJqVD717ZHd89DYZD9Ly8kM0nCo+jzcldBVCoZGxujffv2+Omnn3D37l2EhIRg+vTp8PHxgRACp06dwtSpU1G3bl04OztjxIgR2L17NxITE+UunYj0jM4H8YyhIkZGRjluY2xsDACFGud39+5d9OvXDwAwatQoNGvWLM/3TJ48GfHx8epXdLRuDQV5dPc8n9yooxQKAzy6yyBOJDdJkuDt7Y1p06bh/PnziI6OxsqVK9G5c2eYmpri3r176v+2sbFB+/btsXjxYq38BZaISOdTmomJCQAgJSXnIRbJyckANB/X/fTpU3To0AFPnjxBixYt8j0VorGxMSwtLTO9dElczBU+uVGHPbobIncJRPQflSpVwvDhw7Fz507ExcVh7969GDVqFFxcXJCcnIwDBw5g/PjxqFatGqpWrYpx48Zh7969vFpORBrR+SCen2En+Rm+kpOXL1+iY8eOCAsLQ7169bBz5071FfaSLj0tBXExYXKXQdmIf3IHKUm6dU8BEWVmamqKDh064KeffsKdO3cQFhaG77//Hq1atYJSqcStW7ewdOlSdOrUCdbW1njnnXfwww8/4MqVKxxbTkT5ovNBvGrVqgDeDB1JS8v+ceC3b9/OtG1+JScno2vXrjh9+jSqV6+O/fv3o0yZMoUrWMfcu34Y6bwqrlPS01Nx78ZhucsgogKQJAleXl747LPP8O+//yIuLg7btm3Dxx9/DBcXF6SkpODQoUP4/PPPUatWLVSqVAmDBw/Gli1b8PjxY7nLJyIdpfNB3NvbG0qlEklJSQgJyfqn/NTUVJw9exYA0LBhw3y3m5aWhl69euHw4cNwd3fHwYMHUb58ea3VrStuX94JA4PcH3JExcvAQImI0B1yl0FEhVCmTBl0794dK1aswJ07dxAeHo6AgAC0b98eJiYmePDgAdavX4++ffvCzs4O9erVw5dffol///1Xfe8TEZHOB3FLS0u0adMGALBmzZos6//44w8kJCTAxsYGLVq0yFebQgh8+OGH2LlzJxwdHXHo0CE4Ojpqs2yd8eDWCQ6B0DHpacmIDj8kdxlEpCWSJMHDwwOffPIJ9u3bh2fPnuHgwYOYOHEi6tSpAwAICQnBvHnz0KZNG5QrVw7vvPMO5s2bh5CQEKhUfLAXUWml80EcAKZMmQJJkrB69Wps2bJFvTw0NBQTJkwAAEyaNCnTzCoBAQFwdXVF7969s7T3ySefYNOmTShfvjwOHToENze3oj8ImahUabh9eReHp+gIVXoaoq4dRFoqn+RHpK9MTEzQpk0bzJ8/HxcvXkRMTAw2bNiAgQMHwtHREUlJSTh06BC+/PJL1KtXD7a2tnjvvfewbNkyhIeHc3w5USkiiRLyE//tt99i6tSpAN48wMfCwgJXrlyBSqVCp06dsGPHDhgYGKi3nz59OmbMmIHmzZvjyJEj6uUnT55EkyZNAABOTk5wdnbOcZ8nTpwoUI0JCQmwsrJCfHx8kc2gkrGPgqharxc6Dv2tSOqhghFChX83DcfV4Kx/3clLUZ5XRFQ8hBAIDw/HwYMHcejQIRw5cgQvXrzItI2joyNatWqFli1bomXLlnB1dYUkSTJVTKR/iiOv5VeJedrLlClTUKdOHSxatAjnz5/Hw4cPUatWLQwePBhjxozJFMJzkzHVIQBER0fr3NzfRSHyyh6kJL+EkbGF3KWUeqr0VESEbpe7DCKSScZNn15eXhg3bhxSU1Nx7tw5HD58GIcPH0ZQUBAePHiAX3/9Fb/++iuAN0+WbtmyJVq0aIGWLVvCxcVF5qMgIm0pMVfESwJdvSIOAM17LkbtZiOh4I2bslGlpyL8zK84uHGIRu/Xhd/ciahovX79GidPnsThw4cRGBiIM2fOZJkxzMXFBc2bN1e/3N3decWcqAB06Yo4g7gW6XIQL+fgiYHfXCuCiqggts7zRWzUOY3eqwtfGERUvBITExEUFITAwEAEBgbi3LlzSE9Pz7RNxYoV0axZMzRt2hTNmjWDl5cXFIoScQsYkSwYxPWULgdxAHjv0yNwdPeDwqDEjEjSGypVOp7cv4Qtc3w0bkMXvjCISF4vX75EcHAwjh49iqNHj+LMmTNITc18M761tTX8/f3RrFkz+Pv7w9vbO9NkBkSlHYO4ntL1IF6lbg90Gv6Xliui/BBC4NDGIQg7tV7jNnThC4OIdMurV69w6tQpHD9+HMeOHcOpU6fw6tWrTNuYmpqiYcOG8PPzg7+/Pxo3bqzx/0eI9AGDuJ7S9SAuSQr0m3oZ5eyq8ap4MVKp0vHy2T38Mr0qVIWYRlIXvjCISLelpqYiJCREHcyDgoLw9OnTTNtIkoSaNWuiSZMm8PPzQ5MmTTjOnEoVBnE9petBHABca3ZE11F7tFgR5ce+tX1w49zWQrWhC18YRFSyqFQqXL9+HSdOnEBQUBBOnDiBiIiILNvZ2dmhcePG6lf9+vVhZmYmQ8VERY9BXE+VhCAOAD0/D4KDiy9nUCkGqvQ0PH0Yhk3f1QUK+aOmC18YRFTyPXz4ECdPnkRwcDCCg4Nx7tw5pKSkZNrG0NAQderUQaNGjdCoUSM0bNgQVapU4VVz0gsM4nqqpATxCu5N0OvzIC1VRHn5+8f2iAo7UOh2dOELg4j0T3JyMs6fP4+TJ0+qXw8ePMiynbW1NRo2bKh++fr6wsbGRoaKiQqHQVxPlZQgDgAdh/2OynW6c6x4EVKlpyL6RiD+XtpOK+3pwhcGEek/IQSio6Nx6tQpnDx5EqdPn0ZISEimB+JlqFy5Mho0aIAGDRrA19cX3t7eHNJCOo9BXE+VpCBuamGLgdPCYWxaFhLnm9U6IVRIS3mNjTO98OKZdp7eqgtfGERUOqWkpCA0NBSnT59Wv27evJllOwMDA9SoUQO+vr6oX78+6tevj9q1a3P6RNIpDOJ6qiQFcQCo6tMTHYf9rpW2KKtDvw7D1eA1WmtPF74wiIgyPHv2DOfOncOZM2fUr4cPH2bZzsjICLVq1UK9evVQv3591KtXDzVr1mQ4J9kwiOupkhbEAaDTR3/CvXZXDlHRIlV6Ku7dOILtS9tqtV1d+MIgIsqJEAL379/HuXPncO7cOZw9exbnzp3LMn0i8L9w7uPjo37VqlULpqamMlROpQ2DuJ4qiUHc1MIWA74Jg7FZWSgUDOOFpVKlIy0lEb/Oqqm1ISkZdOELg4ioIIQQuHPnDs6fP5/p9ezZsyzbGhgYwMvLC97e3upXnTp1UK5cORkqJ33GIK6nSmIQB97MovL+p0cgKQw5NVUhCZUKf//UHnevHdR627rwhUFEVFhCCERGRuL8+fO4cOECQkJCcP78eTx+/Djb7V1dXVG3bl3UrVsXderUQd26deHi4sL/X5HGGMT1VEkN4gBQo8kQtOmvvfHMpdXRP8bjYuDiImlbF74wiIiKghACDx48QEhICC5cuICLFy/iwoULiIyMzHZ7Kysr1K5dG3Xq1EGdOnVQu3Zt1KhRA+bm5sVbOJVIDOJ6qiQHcQBo1jMAdVuMhSRxFpWCUqnSce30BhzaOKTI9qELXxhERMXp2bNnCA0NxYULFxAaGorQ0FBcvXoVqampWbaVJAlVqlRB7dq1Ubt2bdSqVQu1atWCu7s7FJwdjN7CIK6nSnoQlxQG6DZ6Hyp5tOR48QJQpachNuos/gpogfS0lLzfoCFd+MIgIpJbSkoKwsPDERoaiosXL+Ly5cu4dOkSYmNjs93ezMwMNWrUQK1atVCzZk31y8HBgcNbSikGcT1V0oM4ABgamaH7uINwcGnAmVTyQZWehicPLuOvRS2QkpRQpPvShS8MIiJdFRsbi8uXLyM0NBSXL1/G5cuXERYWhqSkpGy3t7a2Ro0aNVCzZk3UqFEDNWrUQPXq1WFnZ1fMlVNxYxDXU/oQxAHAyKQMuo87BDtnH14Zz4UqPQ1PY6/hr0UtkJSYdXoubdOFLwwiopIkPT0dt27dUgfzq1ev4sqVK7h58yZUKlW27ylfvrw6mHt5eaF69eqoXr067O3teQVdTzCI6yl9CeIAoDS2QLcx++Hg1ggKhUGR76+kUaWn4cn9UGxb8g6SX2Wdhqso6MIXBhGRPkhKSkJ4eDiuXLmCK1euICwsDFevXsWdO3eQUywqW7YsqlevDi8vL3h5ecHT0xNeXl5wcXGBgQH/P1mSMIjrKX0K4sCbYSodhv4Gt5qdeBXgLUKoEH0jEHtW9ijy4Shv04UvDCIiffbq1SuEh4fj6tWruHr1Kq5du4Zr164hIiIixyvoJiYmqFatGjw9PeHh4QFPT094enqiWrVqsLCwKOYjoPxgENdT+hbEAQCShMadZ6FB+ykQKhWkUnznuRACkiThwuEAHN/2OYQqvVj3rwtfGEREpVFSUhJu3ryJsLAwdTi/du0abty4geTk5BzfV7FiRXh4eMDDwwPVqlVT/9PV1ZVX0WXEIK6n9DKI/79q9T7AOwPXQ6EwLJU3carS0wAI/Lv5Y4SdXCdLDbrwhUFERP+Tnp6OyMhIXLt2DdevX0d4eLj6nzk9oAgAjIyM4O7ujmrVqqlfVatWRdWqVeHo6Mi/QhcxBnE9pc9BHABsnbzRecQOmFs5lqpx46r0NCQlxmH3zz0QcztYtjp04QuDiIjy5+nTp7h+/Tpu3LiR6Z83b97M9Sq6mZkZqlSpgqpVq2b6Z5UqVVChQgXOia4FDOJ6St+DOAAojc3h330+ajcbBVV6ml5fHVep0qFQGCDs5Doc/fNTpLyOl7UeXfjCICKiwklPT8e9e/dw48YN3Lx5Ezdu3FD/+507d5CenvOwRxMTE1SuXBlVqlRB5cqVM71cXFygVCqL8UhKLgZxPVUagniGStVaou2gDTC3ctDLKQ4zroIf3DgYkVf3yV0OAAZxIiJ9l5qaisjISNy8eTPTKyIiApGRkbmGdAMDAzg7O6Ny5cpwd3fP8ipXrlwxHoluYxDXU6UpiANvpjhs3HkW6jQfDQBQGJT838RV6amApMDVoFU48feXsl8Ff5sufGEQEZE8UlNTcffuXdy6dUsdzjNet2/fzvHBRRmsrKzg5uYGNzc3uLu7q//dzc0NLi4uMDMzK6YjkR+DuJ4qbUE8g6WNGxp3ngUP3z4QqvQSGchV6alQGChxM+RPBO+cguePbshdUha68IVBRES6R6VS4eHDh+pQ/t/Xw4cP82zD3t4erq6ucHNzg6urK1xdXeHi4qL+p6mpaTEcSfFgENdTpTWIZyhfsTb8us2Fa40O6mCr6zLqvHfjCE5sn4jYqHNyl5QjXfjCICKikicxMRGRkZG4c+eO+nX79m3cuXMHkZGRSEjI+5kYdnZ2cHFxyfRydnZW/3vZsmVLzGwvDOJ6qrQH8QzlK9ZCraYjUb3RhzBQGgMAJEl37vIW//9QBpUqFeFnfsWlo8vwKDpE5qrypgtfGEREpF+EEHj+/Lk6lN+5cwdRUVGIjIxUv168eJFnOxYWFupg7uzsDGdnZzg5Oan/WalSJRgZGRXDEeWNQVxPMYhnZmRiCc+GA1C3xViUs/eASpUGSVLIEsqFSgUhVFAYGCL+yW2EHlmKsFO/FNvj6bVBF74wiIiodBFC4NmzZ4iMjERUVBTu3r2LqKioTK8nT57k2Y4kSbC3t4eTk5M6mGf8u5OTEzw9PWFtbV0MR8QgrrcYxHNm7eAF99pdULlud9i7+AKQoEpPhYFh0f12nJ6WAoWBISRJgUd3Q3Dr4jbcubwTT+5fLrJ9FiVd+MIgIiL6r1evXiE6Ohp3795VB/WM/46OjkZ0dHSeN5MuWbIEY8eOLZZ6dSmI69+8c6STnj68hqcPr+HcP/NgamEL15odUcGtMRzcGsKmQg0oDJQQQvXmCZaSBIXCMN9jzdLTUwEh1KFblZ6Gp7HX8PDOaTy8cwqRV/ciMT6miI+QiIiodDIzM4OHhwc8PDyyXS+EwJMnT9ShPDo6Gvfu3cv0366ursVbtI7gFXEt4hVxzSgMlLBxrAk7Jx9Y2rjC3MoRFlaOKGPtDDOrClAamUGSDKAwMIRKlQ6hSkNaymskJsTgxbNoJD6/j8T4GCQ8jcLj6BA8uX8Z6Wk5P7WspNKF39yJiIhKOl4RJ3qLKj0Vj6Mv4HH0BblLISIiIio2ujOVBRERERFRKcIgTkREREQkAwZxIiIiIiIZMIgTEREREcmAQZyIiIiISAYM4kREREREMmAQJyIiIiKSAYM4EREREZEMGMRLGD4ItfTiZ09ERKRfGMRLmBcvXshdAsmEnz0REZF+4SPuSxhHR0dER0ejTJkykCRJ7nKoGAgh8OLFCzg6OspdChEREWkRg3gJo1AoUKlSJbnLoGJmZWUldwlERESkZRyaQkREREQkAwZxIiIiIiIZMIgTEREREcmAQZyIiIiISAYM4kREREREMmAQJyIiIiKSAYM4EREREZEMGMSJiIiIiGTAIE5EREREJIMSFcT37t2LNm3awNraGubm5vDx8cHSpUuhUqk0au/kyZPo2rUrbG1tYWpqiurVq2PWrFlISkrScuVERERERJlJQgghdxH5MXfuXEyePBkA4O7uDgsLC1y5cgUqlQpdunTB9u3boVDk//eKTZs2YdCgQUhPT0fFihVhZ2eHK1euIDU1Fb6+vjhy5AjMzMwKVGNCQgKsrKwQHx8PS0vLAr2XiIiIiIqeLuW1EnFF/OTJk/jqq6+gUCiwefNmREREIDQ0FCEhIbC3t8fOnTuxcOHCfLcXGRmJoUOHIj09HfPnz0d0dDRCQkJw8+ZNeHh44OzZs5g0aVIRHhERERERlXYlIojPnj0bQggMGzYMffr0US+vU6eOOoDPnTsXqamp+WpvwYIFSE5ORtu2bTFx4kRIkgQAcHFxwdq1awEAP//8M2JjY7V8JEREREREb+h8EE9ISMChQ4cAAEOHDs2yvmfPnrC0tERcXBwCAwPzbE8Ige3bt+fYXpMmTeDp6YnU1FTs2LGjkNUTEREREWVP54P4hQsXkJKSAhMTE/j4+GRZr1Qq4evrCwA4ffp0nu3dvXsXMTExAAA/P79st8lYnp/2iIiIiIg0ofNB/ObNmwAAZ2dnGBoaZruNu7t7pm3z056xsTEcHR0L3R4RERERkSayT7Y65NmzZwCAcuXK5bhNxrqMbfPTXtmyZdVjwzVtLzk5GcnJyer/jo+PB/BmOA0RERER6Z6MnKYLEwfqfBDPmNPbyMgox22MjY0BAK9fvy7W9ubMmYMZM2ZkWe7k5JRnHUREREQkn7i4OFhZWclag84HcRMTEwBASkpKjttkXJU2NTUt1vYmT56MCRMmqP9bpVLh6dOnsLGxyfFqe0mWkJAAJycnREdHyz7vpi5hv+SMfZM99kvO2DfZY7/kjH2TPfZLzuLj4+Hs7Axra2u5S9H9IJ6fYSL5Gb7y3/aeP38OIUS2gTm/7RkbG6uvnmcoW7ZsnjWUdJaWlvyhzgb7JWfsm+yxX3LGvske+yVn7JvssV9yVpAHQRZZDXIXkJeqVasCeDPbSVpaWrbb3L59O9O2+WkvOTkZDx48KHR7RERERESa0Pkg7u3tDaVSiaSkJISEhGRZn5qairNnzwIAGjZsmGd7zs7OcHBwAAAEBQVlu03G8vy0R0RERESkCZ0P4paWlmjTpg0AYM2aNVnW//HHH0hISICNjQ1atGiRZ3uSJKF79+45thccHIzw8HAolUp06dKlcMXrGWNjY0ybNi3LcJzSjv2SM/ZN9tgvOWPfZI/9kjP2TfbYLznTpb6RhC7M3ZKHoKAgNG3aFJIk4ddff1U/5j40NBTt2rVDbGws5s2bh0mTJqnfExAQgICAADRq1Ahbt27N1N6dO3fg6emJlJQUzJ8/H59//jkkSUJUVBTatWuH69evY+TIkVi2bFmxHicRERERlR46f0UcePOky1mzZkGlUqFv376oXLky6tSpAx8fH8TGxqJTp0747LPPMr3n+fPniIqKwsOHD7O05+bmhlWrVkGhUGDSpElwcnKCj48PqlatiuvXr6NevXpYsGBBcR0eEREREZVCJSKIA8CUKVOwa9cutGrVCnFxcbh16xZq1aqFgIAA7NixAwYGBgVqb+DAgTh+/DjeffddvH79GmFhYXB3d8f06dNx4sQJmJubF9GREBERERGVkKEpRERERET6psRcESciIiIi0icM4npu7969aNOmDaytrWFubg4fHx8sXboUKpWq0G2vXr0akiRBkiQMGzYs122vXbuGfv36oUKFCjAxMUHlypXx+eef4/nz54WuQxNy98v69evV2+T02r9/f6Fr0YS2+mb69Ol5HmN4eHiO79fXc0bTfikN58zbfv/9d7Rv3x729vYwNjZGxYoV0b59e6xduzbH9+jrOfO2gvSLrp4z2uqXvI4t4/XLL79k+35dO18A+ftG388ZAHjx4gVmzpwJb29vWFhYwMjICM7OzujXr1+202S/rUjOGUF6a86cOQKAACDc3d1F7dq1hUKhEABEly5dRHp6usZtP3r0SFhbW6vbHzp0aI7bHj58WJiamgoAwtbWVvj4+AgzMzN1XQ8fPtS4Dk3oQr+sW7dOABB2dnbCz88v29epU6c0rkNT2uybadOmCQDCyckpx2OMiorK9r36fM5o2i+l4ZwRQoikpCTRpUuXTG36+voKJycnoVAoRL169bJ9nz6fM0Jo1i+6eM5os19yOiY/Pz9RvXp19X7Cw8OzvFfXzhchdKNv9P2ciY2NFdWqVRMAhEKhEJUrVxZ16tQRFhYWAoAwMDAQmzdvzva9RXXOMIjrqeDgYCFJklAoFJlOqosXLwp7e3sBQCxYsEDj9vv16ycUCoXo1KlTroEzISFB2NraCgBi3LhxIiUlRQghxJMnT4Sfn58AIDp16qRxHQWlK/2S8WU3aNAgjfelbdrum4zAOW3atALVoe/njKb9UhrOGSGE6NOnjwAgmjVrliUkPHr0SBw4cCDLe/T9nBFCs37RtXOmqL9/3zZlyhQBQDRo0CDLOl07X4TQnb7R93Nm6NChAoDw8PAQ165dUy9/+fKlGD58uAAgLC0tRXx8fKb3FeU5wyCupzp27CgAiOHDh2dZt2nTJgFA2NjYqE+mgjh48KAAIEaOHKkOFTkFzvnz5wsAwsvLS6SlpWVaFxUVJQwNDQUAcf78+QLXoQld6Rdd+7ITQvt9o2ng1PdzRp+CuLb7Zt++fQKA8PT0FK9evcp3Hfp+zmjaL7p2zhTl9+/bVCqVcHV1FQDE0qVLs6zXtfNFCN3pG30/ZxwcHAQAsXPnzizrUlNTRfny5QUAsXfv3kzrivKc4RhxPZSQkIBDhw4BAIYOHZplfc+ePWFpaYm4uDgEBgYWqO2kpCSMHDkSdnZ2+O677/Lcftu2bQCADz/8MMsUk87Ozuqnpv75558FqkMTutQvuqYo+6agSss5U9IVRd8EBAQAAKZOnQpTU9N816Lv54ym/aJLivNn6fjx44iMjIRSqUTv3r2zrNel8wXQrb7RJUXRL69fvwYAuLu7Z1lnaGgIFxcXAEBaWlqmdUV5zjCI66ELFy4gJSUFJiYm8PHxybJeqVTC19cXAHD69OkCtT179mzcunULCxYsQNmyZXPdNi0tDefPnwfw5qFM2clYXtA6NKEr/fK20NBQ9O3bF61atUK3bt0wY8YMREREFGjf2lCUfRMYGIiePXuiVatWeP/99zF//vxsH7QFlK5zpiD98jZ9PWdev36Nf//9F5IkoVOnTjhy5AiGDh2K1q1b47333kNAQABevHiR5X36fs5o2i9v04Vzpih/lv7r119/BQC0b98e5cuXz7RO184XQHf65m36es7Url0bABAcHJxl3dOnTxEeHg5DQ0PUrVtXvbzIz5kCX0Mnnbdq1SoBQFSrVi3HbT766CMBQAwYMCDf7YaFhQkjIyPRtGlT9bLchmDcvHlTfYPFgwcPsm0z409LTk5O+a5DU7rSL0L8789/2b0MDAzE7Nmz839gWlAUfZPRB9m9TE1Nxbp167K8pzScM5r0ixD6f86cPHlSABAVK1YUX375ZbbH6ejoKC5cuJDpffp+zmjaL0Lo1jlTVN+//5WUlCTKli0rAIjff/89y3pdO1+E0J2+EUL/z5l///1XKJVKYWVlJdauXSsePnwoXr58KU6cOCEaN24sAIipU6dmek9RnzO8Iq6Hnj17BgAoV65cjttkrMvYNi9CCHz88cdQqVRYtmxZgerIrZaC1lEYutIvAFC2bFmMHTsWQUFBiI2NRVJSEi5cuIABAwYgPT0dU6dOxY8//pjv9gqrKPqmQoUK+Oqrr3D27FnExcXh1atXCAoKQocOHfD69WsMGTIEu3btyraO3Gop6eeMJv0C6P85ExMTAwB49OgR5s6di86dOyM8PBzJyck4c+YMfHx88ODBA3Tt2hUvX77MUkdutZTkc0bTfgF065wpip+l7OzatQvPnz+HlZUVOnfunGMdudVSnOfL2/uRu28A/T9nWrVqhYMHD6J27doYMmQIHBwcYGFhAX9/f8TExODXX3/FrFmzsq0jt1oK8/kwiOuhpKQkAICRkVGO2xgbGwP433ipvKxZswbHjx/H+PHjUbNmzQLVkVstBa2jMHSlXwCgW7duWLJkCZo0aQI7OzsYGxujbt262LBhA8aPHw/gzXjQvP7krC1F0Tcff/wxvv32W9SvXx/W1tYwNTVFkyZNsGfPHnTv3h1CCHz66acQbz3ctzScM5r0C6D/50xiYiIAIDU1Fe7u7vjrr7/g4eEBIyMj+Pr6Ys+ePTAzM8Pdu3exbt26LHXkVktJPmc07RdAt86ZovhZyk7G0IuePXvCxMQkxzpyq6U4z5e3a5K7b4DScc7cuXMHjx49giRJcHFxQa1atWBqaorIyEisXr0akZGR2daRWy2F+XwYxPVQxg9YSkpKjtskJycDQL5u/Hn8+DG++OILVKpUCdOmTStwHbnVUpA6CktX+iUvM2bMgLGxMeLj43H48GGttZsbbfdNbiRJwty5cwEAERERuHTpUpY6cqulJJ8zucmtX/KiD+fM25/9qFGjoFQqM613cHBQ31z29gNF9P2c0bRf8lLc50xx/CzFxcVh7969AICBAwfmWkdutRTn+fJ2TXL3TV704ZyZM2cOBg8eDEmScPHiRURGRuLSpUt49OgRhg4diiNHjsDPzw/x8fFZ6sitlsJ8Pgzieig/fyLJz598MkyaNAlPnz7FokWLYGFhUeA6cqulIHUUlq70S14sLS1Ro0YNAMCtW7e01m5utN03ealWrRqsra0BZD5GfT9n8pJTv+RFH86Zt7fx9PTMdhsvLy8AyHTFSt/PGU37JS/Ffc4Ux8/Sb7/9htTUVLi6usLf3z/XOnKrpTjPl7f3I3ff5KWknzOPHj3CzJkzAbx5gmjGjZsAYGFhgRUrVqB69ep48OBBpqGmRX3OMIjroapVqwIA7t69m2UKngy3b9/OtG1uLly4AAAYM2YMHBwcMr2+//57AMDmzZvVyzK4urqqr95k7K8wdRSWrvRLfmT0W051apu2+yY/sjtGfT9n8kPTz76knzMeHh7qf8/4M+9/ZSxPT09XL9P3c0bTfsmP4jxniuNnKWPoRf/+/SFJUrbb6Nr58vZ+5O6b/CjJ58y5c+eQlJQECwsLNGjQIMt6Q0NDtGjRQr1thqI+ZxjE9ZC3tzeUSiWSkpIQEhKSZX1qairOnj0LAGjYsGG+242Njc3yyhi/+Pr1a/WyDIaGhuoph4KCgrJtM2N5QerQlK70S17S09Nx/fp1AEClSpXy/b7CKKq+ycmTJ0/w6NEjAJmPsbScMznJqV/yog/nTKVKleDk5AQg7//ZVaxYUb1M388ZTfslL8V9zhT1z1JERAROnjwJ4E3YzImunS+A7vRNXkr6OZOfce0Z9+a8PS68yM+ZAs+zQiVChw4dBPLxNKrk5ORC7SevafrmzZsnkI+nUZ07d65QdeSXrvRLblauXKmeKurevXuFqqMgiqtvhBBi8uTJAoCwsrLK0l5pPWeEyL1fcqMv58yECRMEAOHn55dl3evXr0WFChUEgCxTqOn7OaNpv+RGjnOmKH+WMr5zs3ts+3/p2vkihO70TW5K+jlz/vx59TSEp06dyrI+NTVVVK9eXQAQ48ePz7SuKM8ZBnE9deLECSFJklAoFGLz5s3q5RcvXhT29vYCgJg3b16m9yxatEi4uLiIDz74IN/7yStwxsfHqx8ZO27cOPVjaJ88eSL8/PwEANGhQwcNjlAzutAv8fHxonfv3uL06dOZlqelpYmff/5ZmJiY5PjFU5S02TdXrlwRI0eOFFeuXMm0/PXr1+Lbb78VCoVCABDfffddljr0+ZzRtF9KwzkjhBAxMTHCwsJCHSrT09OFEEK8evVKDBo0SAAQ5cqVE48ePcr0Pn0+Z4TQrF908Zwpyu/fKlWqCCD7x7b/l66dL0LoRt/o+zmjUqnUQdvT01OEhoaq1yUkJIihQ4eqg/p/A3VRnjMM4nps9uzZ6pPK3d1d1K5dW/0/+k6dOmX5rS4jPDZv3jzf+8jPld9Dhw6pf4BtbW1FvXr1hJmZmQAgXF1dRUxMjKaHqBG5++XZs2fq/ZctW1Z4e3sLX19f9YMWMn6gX79+XdhDLTBt9c2FCxfU7WR85m9/7hl9o1Kpsq1DX88ZTfulNJwzGXbu3CmMjIwEAGFvby98fX2FlZWVACDMzMzEgQMHsn2fvp4zGQraL7p6zhTF929wcLAAIJRKpXj8+HG+6tC180UI+fumNJwz58+fF+XKlRMAhCRJwtXVVdSuXVuYmpqq95HTX5aK6pxhENdzu3btEq1atRJWVlbCzMxM1KlTRwQEBGQ5cYUouiAuxJsrgb179xZ2dnbCyMhIuLm5iQkTJoinT58W9JC0Qs5+SUlJEfPnzxfdunUTVapUEZaWlkKpVAoHBwfRqVMn8dtvv+UYUIuDNvrm2bNnYtasWaJDhw7Czc1NWFhYCCMjI1GpUiXx/vvvi/379+dZhz6eM5r2S2k4Z9526dIl0bt3b+Hg4CCUSqVwdHQUAwcOFNeuXcu1Dn08Z95WkH7R5XNG2/0ycuRIAUB07ty5QHXo2vkihLx9U1rOmfv374sJEyaI6tWrC1NTU/XP0nvvvScOHz6cax1Fcc5IQvznqRFERERERFTkOGsKEREREZEMGMSJiIiIiGTAIE5EREREJAMGcSIiIiIiGTCIExERERHJgEGciIiIiEgGDOJERERERDJgECciIiIikgGDOBERERGRDBjEiYiIiIhkwCBORERERCQDBnEiIiIiIhkwiBMRAXB1dYUkSYiMjJS7FLWiqEkXj7M4yHHcV65cgYGBAUaMGFFs+9REQkICypUrB39/f7lLISp1GMSJqEAyAs369evlLqVYBAQEYPr06Xj+/LncpVAJ88UXX8DAwACTJ0+Wu5RcWVpaYty4cQgKCsKOHTvkLoeoVGEQJyICULlyZXh4eECpVGZaHhAQgBkzZjCIU4EcP34ce/fuRb9+/eDi4iJ3OXkaP348zMzMMHnyZAgh5C6HqNRgECciAvDvv/8iPDwcFStWlLsU0gM//vgjAGDQoEEyV5I/5cqVQ+fOnXHt2jUcPnxY7nKISg0GcSIiIi16/Pgx/v77bzg6OqJZs2Zyl5NvvXv3BgCsXr1a5kqISg8GcSIqcnFxcZg0aRI8PDxgamqKcuXKoUWLFti0aVO2fwaXJAmSJAEA9u3bh2bNmqFMmTKwsrJChw4dcOHChVz3FxERgT59+sDW1hZmZmaoW7cuVqxYASDnm/b+u3z9+vWQJAlRUVEAADc3N3VdkiThyJEjAIDIyEhIkgRXV9cc63n7eP4rKioK/fv3h52dHczMzFC7dm389NNPhRoeoGmbaWlpWLFiBfz9/VG2bFmYmJjA09MTU6dORUJCgka1FOdnr8lxX7lyBdOmTUPjxo1RoUIFGBkZoUKFCujRoweCg4M1Oubt27cjJSUFHTp0gELxf+3df0xV9f8H8Cfy4164l8uPixoOuAlaglyIC06HJCYptVorZ8Ro5SorYpP+qFV/4I/1Y5WrNfthMf9AK0qjgrRZphturtnSJH4kCogKWhoD4YKBQ+7z84c75wvcc4R7+XH31ddjY7rzOud9X+/3uYwXb859v7V/zCrvm9jYWN12IiIi4OfnN+KxqOHjU1lZiczMTJjNZsyePRtr167FxYsX1XPLysqQnp4Ok8mEWbNmobCwED09Pbqvl5ubi4CAAFRVVeHq1ase9loI4RUKIYQHbDYbAbCsrGxc5zc3NzM2NpYAGBQURIfDwfj4eAIgAD755JN0uVwjrlFin376Kf38/BgdHU2Hw0GTyUQANJvNbGxs1Hy92tpahoeHEwCDg4OZnp6u5lxcXKz+/8yZM5r9Uo7v27ePS5cupcFgIABmZGRw6dKl6tfx48dJkmfOnCEA2mw23TFQ+jPaiRMnaLVaCYBGo5Hp6emMi4sjABYVFenmeiPettnT08Nly5YRAGfMmEGbzcbk5GQGBQURABMTE3np0qVx50FO7733tt85OTkEwPDwcCYmJtLhcDAqKooA6O/vz/Lyco/6TJKPP/44AbC0tFT3nB9++IEA+OCDD2rG9d5Xyvh8+OGHBMCYmBimpqaq79OkpCT29/ezuLiYABgfH8+FCxcyICCAAJidne025sOlpaURAA8fPuxxv4UQnpNCXAjhEU8KcZfLxYyMDLUAuHjxohr76aef1OJq27ZtI65Tio2QkJARr+N0OtXC6bHHHnN7vaGhIdrtdgLg/fffz66uLjX27bff0mAwMDAwcFyF+FjHFd4W4i6Xiw6HgwCYm5vLzs5ONfb1118zMDBQLZ7GW4hPpM38/HwCYE5ODk+fPq0e7+rq4urVqwmAa9asGVceSi7Tde8n0u+KigrW1dW5tVdVVUWz2UyLxUKn0znufpPk3LlzCYDHjh3TPeeNN94gAJaUlGjGq6qqCIAPPfTQiOPK+JhMJn711Vfq8fb2ds6bN48A+PDDDzMsLIwHDx5U43V1dYyMjCQA7tu3Tzev5557jgD49ttvj7e7QogJkEJcCOERTwrxAwcOEAANBgP/+ecft/iWLVvUInb4LJ1SbKxfv97tmrq6OgJgWFiYW+znn38mAFqtVnZ3d7vFN23apLbt60L84MGD6qx9R0eH2zXKjKYnhbi3bdbW1qp90Co6r1y5wtjYWPr5+fHs2bPjymU67/1UjCVJlpSUEIBHs+Iul0st+i9cuKB73po1awiA3333nWZ88+bNBMANGzaMOK7048UXX3S7prS0VI1/8MEHbvHXXntN/cuQHuV7pLCwUPccIcTkkWfEhRBT5pdffgEAPProo7jtttvc4oWFhTAYDDh37hxOnTrlFl+3bp3bMbvdDqPRiJ6eHnR2do6IHThwAACwevVqhIWFuV371FNPedWPqbB//34A18cmKirKLV5UVDRtbVZWVgIA8vLyEBoa6hYPCQnBvffeC5I4fPjwuHKZzns/0bFsa2vDO++8g7y8PKxYsQJZWVnIysrC7t27AQC1tbU3vH647u5uXLt2DQAQGRmpe15dXR0A4K677tKM//nnnwCA1NRUzfgzzzzjdmx4W08//bRbPC0tDQDQ2tqqm5eSc0dHh+45QojJE+DrBIQQN6+mpiYAQFJSkmY8NDQUsbGxaGlpQVNTExYsWDAinpCQoHndzJkz0d7ejr6+PlitVvV4c3MzACAlJUXzOpvNBovF4vUHDyeTMjaJiYma8fnz5yMgIEAt6qayzfr6egDXC3K9DygqH1q9cOGCR7lMx72fyFju3LkThYWFGBgY0O1LV1eXbmy04e0EBQVpnvPff/+hpaUFFosFc+fO1TxHKf71CnWt8Zk5c6b6r8Vi0Y339fXp5h8cHAwA6O/v1z1HCDF5ZEZcCDFllB/4s2bN0j1n9uzZAIDe3l63mMlk0rxGWYmCo1bDuHLlCgBozuoqbhSbTsrYKMXRaDNmzNCc3Z2KNpWVNFpaWvDrr79qfp0/fx7A+Au06bz33vb79OnTePbZZzEwMICXXnoJNTU1cDqdcLlcIInt27cDAAYHB3X7MNrwWXC9FUoaGhrgcrmQmpqquZqO0+nE2bNnYTabER8fr9lGSEiI2zGlLa3Y8Pjo75vhlF86PH3vCSG8IzPiQogpYzabAQD//vuv7jmXLl0CMDkFslK83WjGT6vom4ixihvll4PRlLHRewTA5XK5PXozFm/bVK7bvn275iMh3pjOe+9tv7/55hsMDg4iPz8f7733nlu8vb3d41wMBoP6V5euri5ERES4nTPWbPfRo0dBEikpKbrLXk4VpRDX+6VGCDG5ZEZcCDFl7rjjDgDAiRMnNOO9vb1qsaOcOxmvpzx/O1pbW5vHj6WMVQgpxb9eEdjS0qJ5XMn15MmTutd5MhM7kTaVx0caGho8er3x5DId997bfitrxmdmZmpe58mz4cMpBXZjY6NmXHl/6vX7xx9/BKD/fPhUUu6Xw+GY9tcW4lYkhbgQYsrk5uYCACoqKkZsNKIoLS3F1atXYbPZcOedd0749VauXAkA+P777zVnvnfs2OFxm2M9M2u1WhEWFob+/n789ddfbnG9XQpXrVoF4PrYaM3Wbtu2zeNcvW3zkUceAQB8+eWXHs/C65nOe+9tv5V7q8zMD3fy5Ens3bvXq3yysrIAAMeOHdOMKwW+1nv0/Pnz2LlzJwDfFOJHjx4FANx9993T/tpC3JJ8uGKLEOL/IU/XEV+0aBEBcPny5SM2hNm/fz/NZrO6ectw0NkAZ3QOo5eiGxoaYkpKirpRyuXLl9VYZWUljUajx+uIP/DAA5o5DpeXl0cAXLVqFXt7e9XjO3bsYEhIiO464srmKaPXPN+9ezeDgoK8Wkfc2zaVPqSlpambFSmuXbvG6upqFhQUcGBgYNy5TNe997bfFRUVBMCIiAjW1NSox0+dOsXk5GQajUYC4Nq1a8fVZ8WhQ4fUNdm1KBtOxcXFsaWlRT3+xx9/qO9fANyzZ4/beN9ofMZaSrO6ulpd111Lc3MzAXDBggVjd1IIMSmkEBdCeEQphMxmM61Wq+5XfX09yes/3GNiYtQ1pR0Oh7rxCAA+8cQTursrjpWDVoE6fGfNkJAQZmRk8Pbbb1fXplaubWtrG1ebn3/+uZpPcnIys7OzmZ2dPaJwa2xsVAtLk8lEh8PB6OhotdDU609DQ4O6yUpwcDAzMjLUPLzdWdPbNnt7e7ly5Uo117i4OC5evJh2u53BwcHq8f7+/nHnMp333pt+Dw4OcsmSJQSu76KZmJjI5ORkdUfPN99806tC3OVycd68efT39x+xkRFJnjt3Ti2WrVYr/f39mZCQoO7muWjRIs6ZM0ddD3/jxo3jHp+JFuJKf7ds2eJRf4UQ3pNCXAjhEaWgGetreKHa0dHBl19+mfPnz6fBYKDFYuGyZcv4xRdfaG63PZFCnCRbWlqYn59Pq9VKo9FIu93Ojz/+mCTVgmf4bPlYbW7dupUpKSkjCtLq6uoR5xw/fpz33XcfQ0NDaTKZmJmZyb17947Zn9bWVhYUFIzI9aOPPqLL5fKqEJ9Im0NDQywvL2dubi6joqIYGBjI6OhoLl68mK+++ip///13j/Igp/fee9Pvnp4erl+/nnPmzGFgYCBjYmK4bt06/v333ywrK/OqECfJd999lwC4devWEcf37NlD4Poupb/99huXLFlCo9HI6OhoFhUVsbu7m++//z5NJhPtdjuPHDky7vGZaCG+cOFCBgYGjvjrhRBiavmRN1jHSAghbiKdnZ2IiopCeHg4Ll++7Ot0xE3M6XQiISEBkZGRaGxsVJddfOutt1BSUoLNmzdj06ZNPs7y/1RXV2PFihUoKirCJ5984ut0hLhlyIc1hRC3jLKyMgD6q2QIMVksFgtKSkrQ1NSEXbt2qceVD2omJyf7KjVNr7/+OsxmMzZu3OjrVIS4pcg64kKIm0p9fT2OHDmCgoICdX1pkigvL8eGDRsAXN9eXYip9sILL6gbBCmUpQvtdruv0nLjdDqxfPlyFBcXq5ssCSGmhzyaIoS4qRw6dAj33HMP/P39YbPZYLVa0draqi5r9/zzz+Ozzz7zcZbiVtTf3w+z2YygoCD09fXB39/f1ykJIXxMHk0RQtxUkpKS8Morr8But6Onpwc1NTUgiZycHOzatUuKcOEzytb2iYmJUoQLIQDIjLgQQgghhBA+ITPiQgghhBBC+IAU4kIIIYQQQviAFOJCCCGEEEL4gBTiQgghhBBC+IAU4kIIIYQQQviAFOJCCCGEEEL4gBTiQgghhBBC+IAU4kIIIYQQQviAFOJCCCGEEEL4gBTiQgghhBBC+MD/AG6QHznz9s0CAAAAAElFTkSuQmCC\n",
          "text/plain": "<Figure size 800x500 with 2 Axes>"
         },
         "metadata": {},
         "output_type": "display_data"
        }
       ]
      }
     },
     "f695f16a70a248b6870134eab9b32202": {
      "model_module": "@jupyter-widgets/base",
      "model_module_version": "1.2.0",
      "model_name": "LayoutModel",
      "state": {
       "_model_module": "@jupyter-widgets/base",
       "_model_module_version": "1.2.0",
       "_model_name": "LayoutModel",
       "_view_count": null,
       "_view_module": "@jupyter-widgets/base",
       "_view_module_version": "1.2.0",
       "_view_name": "LayoutView",
       "align_content": null,
       "align_items": null,
       "align_self": null,
       "border": null,
       "bottom": null,
       "display": null,
       "flex": null,
       "flex_flow": null,
       "grid_area": null,
       "grid_auto_columns": null,
       "grid_auto_flow": null,
       "grid_auto_rows": null,
       "grid_column": null,
       "grid_gap": null,
       "grid_row": null,
       "grid_template_areas": null,
       "grid_template_columns": null,
       "grid_template_rows": null,
       "height": null,
       "justify_content": null,
       "justify_items": null,
       "left": null,
       "margin": null,
       "max_height": null,
       "max_width": null,
       "min_height": null,
       "min_width": null,
       "object_fit": null,
       "object_position": null,
       "order": null,
       "overflow": null,
       "overflow_x": null,
       "overflow_y": null,
       "padding": null,
       "right": null,
       "top": null,
       "visibility": null,
       "width": null
      }
     },
     "fe38a50c0df548b0aa3b444393e67621": {
      "model_module": "@jupyter-widgets/base",
      "model_module_version": "1.2.0",
      "model_name": "LayoutModel",
      "state": {
       "_model_module": "@jupyter-widgets/base",
       "_model_module_version": "1.2.0",
       "_model_name": "LayoutModel",
       "_view_count": null,
       "_view_module": "@jupyter-widgets/base",
       "_view_module_version": "1.2.0",
       "_view_name": "LayoutView",
       "align_content": null,
       "align_items": null,
       "align_self": null,
       "border": null,
       "bottom": null,
       "display": null,
       "flex": null,
       "flex_flow": null,
       "grid_area": null,
       "grid_auto_columns": null,
       "grid_auto_flow": null,
       "grid_auto_rows": null,
       "grid_column": null,
       "grid_gap": null,
       "grid_row": null,
       "grid_template_areas": null,
       "grid_template_columns": null,
       "grid_template_rows": null,
       "height": null,
       "justify_content": null,
       "justify_items": null,
       "left": null,
       "margin": null,
       "max_height": null,
       "max_width": null,
       "min_height": null,
       "min_width": null,
       "object_fit": null,
       "object_position": null,
       "order": null,
       "overflow": null,
       "overflow_x": null,
       "overflow_y": null,
       "padding": null,
       "right": null,
       "top": null,
       "visibility": null,
       "width": null
      }
     }
    },
    "version_major": 2,
    "version_minor": 0
   }
  }
 },
 "nbformat": 4,
 "nbformat_minor": 5
}