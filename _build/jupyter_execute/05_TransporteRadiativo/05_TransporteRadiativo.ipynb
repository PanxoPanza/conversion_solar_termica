{
 "cells": [
  {
   "cell_type": "code",
   "execution_count": 1,
   "id": "3c597da7",
   "metadata": {
    "slideshow": {
     "slide_type": "skip"
    },
    "tags": [
     "remove-cell"
    ]
   },
   "outputs": [],
   "source": [
    "import importlib.util\n",
    "if importlib.util.find_spec('empylib') is None:\n",
    "    !pip install git+https://github.com/PanxoPanza/empylib.git"
   ]
  },
  {
   "cell_type": "markdown",
   "id": "8b01ca79",
   "metadata": {
    "slideshow": {
     "slide_type": "slide"
    }
   },
   "source": [
    "# Transporte Radiativo"
   ]
  },
  {
   "cell_type": "markdown",
   "id": "580ab8db",
   "metadata": {
    "slideshow": {
     "slide_type": "slide"
    }
   },
   "source": [
    "## Introducción"
   ]
  },
  {
   "cell_type": "markdown",
   "id": "dadf38f1",
   "metadata": {
    "slideshow": {
     "slide_type": "fragment"
    }
   },
   "source": [
    "En la [unidad 2](../02_ondas_EM_en_la_materia/02_ondas_EM_en_la_materia.ipynb) revisamos el efecto de interferencia en películas de espesor finito, y como está daba lugar a la coloración tornasol caractéristica en derrames de aceites en agua, lentes y discos compactos.\n",
    "\n",
    "<img src=\"./images/interference_oils.png\" width=\"700px\" align= center>"
   ]
  },
  {
   "cell_type": "markdown",
   "id": "d2dc01e9",
   "metadata": {
    "slideshow": {
     "slide_type": "fragment"
    }
   },
   "source": [
    "Si, teóricamente, el efecto de interferencia ocurre cada vez que tenemos un tercer material intercalado entre dos materiales (iguales o diferentes). **¿Porqué no visualizamos este efecto en ventanas u otros materiales de gran espesor?**"
   ]
  },
  {
   "cell_type": "markdown",
   "id": "9ff4cae4",
   "metadata": {
    "slideshow": {
     "slide_type": "slide"
    }
   },
   "source": [
    "## Coherencia de la luz e interferencia\n",
    "\n",
    "Para entender esto, primero debemos revisar la distribución espectral de fuentes reales de luz\n",
    "\n",
    "<img src=\"./images/light_source_spectra.png\" width=\"800px\" align= center>"
   ]
  },
  {
   "cell_type": "markdown",
   "id": "16081fa2",
   "metadata": {
    "slideshow": {
     "slide_type": "fragment"
    }
   },
   "source": [
    "Como vemos, una fuente emite luz en varias longitudes de onda y a distinta intensidad. Así, las ondas emitidas se superponen, generando una onda resultante con una forma distinta a $e^{i(\\vec{k}\\cdot\\vec{r} -\\omega t)}$."
   ]
  },
  {
   "cell_type": "markdown",
   "id": "b54cf722",
   "metadata": {
    "slideshow": {
     "slide_type": "slide"
    }
   },
   "source": [
    "Consideremos, por ejemplo, una fuente de luz con una distribución espectral normal, centrada en $\\lambda_0$ y con una desviación estandar $\\pm\\sigma_\\lambda\\lambda_0$, con $\\sigma_\\lambda \\in [0,1]$. Imaginemos esta fuente como $N$ emisores, donde cada emisor $j$ emite una onda electromagnéticas con longitud de onda $\\lambda \\pm\\Delta \\lambda_j$, donde $\\Delta \\lambda_j$ es escogido aleatoriamente a partir de la distribución normal."
   ]
  },
  {
   "cell_type": "markdown",
   "id": "31f81723",
   "metadata": {
    "cell_style": "split",
    "slideshow": {
     "slide_type": "fragment"
    }
   },
   "source": [
    "<img src=\"./images/normal_distribution.png\" width=\"400px\" align= center>"
   ]
  },
  {
   "cell_type": "markdown",
   "id": "76d68ef4",
   "metadata": {
    "cell_style": "split",
    "slideshow": {
     "slide_type": "fragment"
    }
   },
   "source": [
    "Asumiendo ondas en el aire en dirección $\\hat{k} = \\hat{x}$, el campo eléctrico resultante es:\n",
    "\n",
    "\\begin{equation*}\n",
    "\\vec{E}_\\mathrm{tot} = \\sum_j^N E_0e^{i\\left(k_jx - \\omega_j t\\right)} \\hat{z},\n",
    "\\end{equation*}\n",
    "\n",
    "donde $k_j = \\frac{2\\pi}{\\lambda \\pm\\Delta \\lambda_j}$, y $\\omega_j = c_0k_j$"
   ]
  },
  {
   "cell_type": "markdown",
   "id": "e5e55e68",
   "metadata": {
    "cell_style": "center",
    "slideshow": {
     "slide_type": "slide"
    }
   },
   "source": [
    "Analicemos el comportamiento de $\\vec{E}_\\mathrm{tot} /E_0$ para $\\lambda_0 = 500$ nm"
   ]
  },
  {
   "cell_type": "code",
   "execution_count": 2,
   "id": "37df7e74",
   "metadata": {
    "cell_style": "center",
    "slideshow": {
     "slide_type": "skip"
    },
    "tags": [
     "hide-input"
    ]
   },
   "outputs": [],
   "source": [
    "import numpy as np\n",
    "from numpy.random import normal\n",
    "import matplotlib.pyplot as plt\n",
    "\n",
    "def light_packet(kdir, x, t, lam, sig, N):\n",
    "    c0 = 3E8          # velocidad de la luz (m/s)\n",
    "    xx = np.meshgrid(x,np.ones(N))[0]\n",
    "    \n",
    "    # Generamos arreglo de ondas aleatorias\n",
    "    dlamj =  normal(0, lam*sig,N)\n",
    "    kj = (2*np.pi/(lam + dlamj)).reshape(-1,1)\n",
    "    wj = c0*kj\n",
    "    Erand = np.exp(1j*(kdir*kj*xx-wj*t)) \n",
    "    \n",
    "    # Sumamos todas las ondas\n",
    "    return np.sum(Erand,axis=0)\n",
    " \n",
    "def plot_light_packet(N, t, sig):\n",
    "    '''\n",
    "    n: número de ondas generadas\n",
    "    t: tiempo en ns\n",
    "    sig: % de ancho de banda (dlam = sig*lam)\n",
    "    '''\n",
    "    lam = 0.5         # longitud de onda (um)\n",
    "    t = t*1E-9 # convertimos ns a s\n",
    "    \n",
    "    # recorrido de la onda\n",
    "    x = np.linspace(-2,2,1000)  # desde 0 a 4 micrones\n",
    "    E = light_packet(1, x, t, lam, sig, N)\n",
    "    \n",
    "    # Graficamos\n",
    "    fig, ax = plt.subplots()\n",
    "    fig.set_size_inches(6, 3)\n",
    "    plt.rcParams['font.size'] = '12'\n",
    "    \n",
    "    ax.plot(x,np.real(E), 'k')\n",
    "    ax.set_xlabel('x ($\\mu$m)')\n",
    "    ax.set_ylabel('Amplitud $|E|/E_0$')\n",
    "    ax.set_ylim(-N*1.1,N*1.1)\n",
    "    ax.grid()\n"
   ]
  },
  {
   "cell_type": "code",
   "execution_count": 3,
   "id": "5c81aca7",
   "metadata": {
    "cell_style": "center",
    "slideshow": {
     "slide_type": "fragment"
    },
    "tags": [
     "hide-input"
    ]
   },
   "outputs": [
    {
     "data": {
      "application/vnd.jupyter.widget-view+json": {
       "model_id": "ad2bef452c2446adaeddbc2ba0c05983",
       "version_major": 2,
       "version_minor": 0
      },
      "text/plain": [
       "interactive(children=(IntSlider(value=1000, description='N', max=1000, min=1), FloatSlider(value=0.0, descript…"
      ]
     },
     "metadata": {},
     "output_type": "display_data"
    }
   ],
   "source": [
    "from ipywidgets import interact\n",
    "\n",
    "@interact( N=(1,1000,1), \n",
    "           t=(-10,10,0.1),\n",
    "           sig=(0,1,0.01))\n",
    "def g(N=1000, t=0, sig=0.3):\n",
    "    return plot_light_packet(N,t,sig)"
   ]
  },
  {
   "cell_type": "markdown",
   "id": "b53bb755",
   "metadata": {
    "slideshow": {
     "slide_type": "slide"
    }
   },
   "source": [
    "### Longitud de coherencia\n",
    "Definimos como **longitud de coherencia**, $l_c$, a la distancia donde un grupo de ondas electromagnética mantiene correlación entre las fases. Dos puntos en una paquete de onda separados a una distancia mayor a $l_c$ son incoherentes, es decir, no están correlacionados"
   ]
  },
  {
   "cell_type": "markdown",
   "id": "3ea340f8",
   "metadata": {
    "cell_style": "split",
    "slideshow": {
     "slide_type": "fragment"
    }
   },
   "source": [
    "<img src=\"./images/coherence_length.png\" width=\"300px\" align= center>\n",
    "\n",
    "<center>Esquema de un paquete de onda emitido por una fuente con longitud de coherencia $l_c$</center>"
   ]
  },
  {
   "cell_type": "markdown",
   "id": "1f71b46f",
   "metadata": {
    "cell_style": "split",
    "slideshow": {
     "slide_type": "fragment"
    }
   },
   "source": [
    "La relación entre $l_c$, la longitud de onda central $\\lambda$ y el ancho de banda $\\Delta\\lambda$ está dado, aproximadamente, por la relación:\n",
    "\n",
    "\\begin{equation*}\n",
    "l_c \\approx \\frac{\\lambda^2}{n\\Delta \\lambda},\n",
    "\\end{equation*}\n",
    "\n",
    "donde $n$ es el indice de refracción del medio donde se propaga la luz.\n",
    "\n",
    "Por ejemplo, para lasers He-Ne (laser rojo)  $l_c\\approx 0.2 - 100$ m.  "
   ]
  },
  {
   "cell_type": "markdown",
   "id": "b8e319bd",
   "metadata": {
    "slideshow": {
     "slide_type": "slide"
    }
   },
   "source": [
    "Para radiación emitida por un cuerpo a temperatura $T$, la longitud de coherencia está dada por:\n",
    "\n",
    "\\begin{equation*}\n",
    "l_c T = 2167.8~\\mathrm{\\mu m~K}\n",
    "\\end{equation*}\n",
    "\n",
    "Así, por ejemplo, la radiación solar ($T \\approx 5800~\\mathrm{K}$) tiene una longitud de coherencia, $l_c \\approx 370~\\mathrm{nm}$"
   ]
  },
  {
   "cell_type": "markdown",
   "id": "659f7454",
   "metadata": {
    "slideshow": {
     "slide_type": "slide"
    }
   },
   "source": [
    "### Régimen de trasporte de luz\n",
    "Los fenómenos de interferencia descritos en las unidades anteriores existen debido a la forma oscilatoria de la luz. **Dos paquetes de ondas distintos son incoherentes, y la superposición de estos no genera interferencia.**"
   ]
  },
  {
   "cell_type": "markdown",
   "id": "615ad1c6",
   "metadata": {
    "slideshow": {
     "slide_type": "slide"
    }
   },
   "source": [
    "En otras palabras, el fenómeno de interferencia solo existe si el paquete de onda interfiere consigo mismo. Así, podemos concluir que los fenómenos de interferencia en películas de espesor $d$ no serían visibles si $d > l_c$. "
   ]
  },
  {
   "cell_type": "markdown",
   "id": "db4d20e4",
   "metadata": {
    "cell_style": "split",
    "slideshow": {
     "slide_type": "fragment"
    }
   },
   "source": [
    "<img src=\"./images/interference_thinfilm.png\" width=\"200px\" align= center>\n",
    "\n",
    "<center>Propagación de una onda a través de una película de espesor $d$, con $l_c < d$</center>"
   ]
  },
  {
   "cell_type": "markdown",
   "id": "fce7ef57",
   "metadata": {
    "cell_style": "split",
    "slideshow": {
     "slide_type": "fragment"
    }
   },
   "source": [
    "En general, para una longitud características $d$, la regla es:\n",
    "\n",
    "- Si $d > l_c$ el **transporte de luz es incoherente** . En este régimen, podemos ignorar las propiedades oscilatorias de la luz, y analizar el problema como el transporte de pequeños paquetes de onda, o simplemente como partículas.\n",
    "\n",
    "- Si $d < l_c$, el **transporte de luz es coherente**. En este régimen debemos considerar las propiedades oscilatorias a partir de las Ecuaciones de Maxwell."
   ]
  },
  {
   "cell_type": "markdown",
   "id": "06aab8e7",
   "metadata": {
    "cell_style": "center",
    "slideshow": {
     "slide_type": "fragment"
    }
   },
   "source": [
    "Así, **los coeficientes de Fresnel para una película delgada solo son aplicables si $d < l_c$.**"
   ]
  },
  {
   "cell_type": "markdown",
   "id": "c7f85265",
   "metadata": {
    "cell_style": "center",
    "slideshow": {
     "slide_type": "slide"
    }
   },
   "source": [
    "Los coeficientes de Fresnel para una interface, en cambio, siempre son válidos debido a que consideran una interface infinitamente delgada."
   ]
  },
  {
   "cell_type": "markdown",
   "id": "57178760",
   "metadata": {
    "cell_style": "center",
    "slideshow": {
     "slide_type": "fragment"
    }
   },
   "source": [
    "<img src=\"./images/interference_interface.png\" width=\"350px\" align= center>\n",
    "\n",
    "<center>Refracción y reflexión de una onda incoherente a través de una interfaz</center>"
   ]
  },
  {
   "cell_type": "markdown",
   "id": "0c79f1b6",
   "metadata": {
    "slideshow": {
     "slide_type": "slide"
    }
   },
   "source": [
    "En medios particulados, los fenómenos de interferencia pueden ocurrir si las partículas están suficientemente cerca y tienen tamaños similares. Llamamos a esto **scattering coherente**"
   ]
  },
  {
   "cell_type": "markdown",
   "id": "61e2a519",
   "metadata": {
    "slideshow": {
     "slide_type": "fragment"
    }
   },
   "source": [
    "<img src=\"./images/scattering_coherence.png\" width=\"600px\" align= center>\n",
    "\n",
    "<center>Fenómeno de interferencia en scattering</center>"
   ]
  },
  {
   "cell_type": "markdown",
   "id": "8167d93c",
   "metadata": {
    "slideshow": {
     "slide_type": "slide"
    }
   },
   "source": [
    "El fenómeno de scattering coherente da lugar a los denominados **colores estructurales** presentes en las alas de las aves y mariposas (mas info [acá](https://wires.onlinelibrary.wiley.com/doi/10.1002/wnan.1396))"
   ]
  },
  {
   "cell_type": "markdown",
   "id": "06446d60",
   "metadata": {
    "cell_style": "split",
    "slideshow": {
     "slide_type": "fragment"
    }
   },
   "source": [
    "<img src=\"./images/structural_colors_birds.png\" width=\"550px\" align= center>\n",
    "\n",
    "<center>Colores estructurales en alas de aves</center>\n",
    "\n",
    "Fuente: [Hwang, V. et al. PNAS 118 (4) e2015551118\n",
    " (2020)](https://www.pnas.org/doi/10.1073/pnas.2015551118)"
   ]
  },
  {
   "cell_type": "markdown",
   "id": "71eaafb2",
   "metadata": {
    "cell_style": "split",
    "slideshow": {
     "slide_type": "fragment"
    }
   },
   "source": [
    "<img src=\"./images/structural_colors_buterflies.png\" width=\"450px\" align= center>\n",
    "\n",
    "<center>Colores estructurales en alas de mariposa</center>\n",
    "\n",
    "Fuente: [Tippets C. A. et al. J. Opt. 18 (2016) 065105](https://iopscience.iop.org/article/10.1088/2040-8978/18/6/065105)"
   ]
  },
  {
   "cell_type": "markdown",
   "id": "f629fcbe",
   "metadata": {
    "slideshow": {
     "slide_type": "slide"
    }
   },
   "source": [
    "## Teoría de transferencia radiativa\n",
    "Si el transporte de luz es incoherente, podemos ignorar las propiedades oscilatorias de la luz y analizar el fenómeno óptico como un el transporte de radiación a través de un volumen de control."
   ]
  },
  {
   "cell_type": "markdown",
   "id": "f62e3c70",
   "metadata": {
    "slideshow": {
     "slide_type": "slide"
    }
   },
   "source": [
    "### Intensidad específica"
   ]
  },
  {
   "cell_type": "markdown",
   "id": "790c7714",
   "metadata": {
    "cell_style": "split",
    "slideshow": {
     "slide_type": "-"
    }
   },
   "source": [
    "Definimos como **radiancia espectral o intensidad específica**, $I_\\lambda$, al flujo de energía por **ángulo sólido diferencial**, $d\\Omega$, para una longitud de onda $\\lambda$.\n",
    "\n",
    "<img src=\"./images/specific_intensity.png\" width=\"300px\" align= center>"
   ]
  },
  {
   "cell_type": "markdown",
   "id": "8568f20b",
   "metadata": {
    "cell_style": "split",
    "slideshow": {
     "slide_type": "fragment"
    }
   },
   "source": [
    "El ángulo sólido define el tamaño relativo del área $S$ para un observador en $P$ a una distancia $r$. \n",
    "\n",
    "El diferencial está definido por $d\\Omega = \\sin\\theta d\\theta d\\phi$\n",
    "\n",
    "<img src=\"./images/solid_angle.png\" width=\"450px\" align= center>"
   ]
  },
  {
   "cell_type": "markdown",
   "id": "0d8ed016",
   "metadata": {
    "slideshow": {
     "slide_type": "slide"
    }
   },
   "source": [
    "Es importante aclarar que los conceptos intensidad específica y vector de Poynting $\\langle\\vec{S}\\rangle$, son equivalentes: $I_\\lambda(\\hat{k})$ es un término utilizado en radiometría para definir el flujo de energía por unidad de ángulo sólido, mientras que $\\langle\\vec{S}\\rangle$ es un término utilizado en óptica para describir el flujo de energía en dirección $\\hat{k}$. Cabe destacar, sin embargo, que $I_\\lambda(\\hat{k})$ es una magnitud, y $\\langle\\vec{S}\\rangle$ es un vector. Así, podríamos decir que la relación entre estos dos términos está dada por $I_\\lambda(\\hat{k}) = \\langle\\vec{S}\\rangle\\cdot\\hat{k}$."
   ]
  },
  {
   "cell_type": "markdown",
   "id": "921c9262",
   "metadata": {
    "slideshow": {
     "slide_type": "slide"
    }
   },
   "source": [
    "### Ecuación de transferencia radiativa\n",
    "La **ecuación de transferencia radiativa** (RTE por sus siglas en ingles), es una ecuación de transporte que describe la propagación de la radiancia espectral, $I_\\lambda(\\vec{r},\\hat{k})$, en función de la posición posición $\\vec{r}$ y dirección $\\hat{k}$. En su forma más general, para un problema estacionario:\n",
    "\n",
    "\\begin{equation}\n",
    "\\hat{k}\\cdot\\nabla_r I_\\lambda(\\vec{r},\\hat{k}) = - \\left[\\frac{f_v}{V_p}C_\\mathrm{ext} + 2\\kappa k_0\\right]I_\\lambda(\\vec{r},\\hat{k}) + \\frac{f_v}{V_p}\\int_{4\\pi} P_\\mathrm{sca}(\\hat{k},\\hat{k}') I_\\lambda(\\vec{r},\\hat{k}') d\\Omega'\n",
    "\\end{equation}"
   ]
  },
  {
   "cell_type": "markdown",
   "id": "44c82ce8",
   "metadata": {
    "slideshow": {
     "slide_type": "fragment"
    }
   },
   "source": [
    "donde $f_v$ y $V_p$ son, respectivamente la fracción de volúmen y el volúmen de las partículas en el medio, y $P_\\mathrm{sca}(\\hat{k},\\hat{k}')$ es la función de fase."
   ]
  },
  {
   "cell_type": "markdown",
   "id": "84f7041f",
   "metadata": {
    "slideshow": {
     "slide_type": "slide"
    }
   },
   "source": [
    "Notar que consideramos el caso más generalizado de la función de fase, que depende tanto de la dirección de la radiación incidente $\\hat{k}$ como de la dirección del scattering $\\hat{k}'$. Ambas definidas por ángulo sólido"
   ]
  },
  {
   "cell_type": "markdown",
   "id": "556660a5",
   "metadata": {
    "cell_style": "center",
    "slideshow": {
     "slide_type": "fragment"
    }
   },
   "source": [
    "En el caso de una esfera, $\\hat{k}_\\mathrm{sca} = \\hat{k}$ y $\\hat{k}_\\mathrm{inc} = \\hat{k}'$. Así, la función de fase depende de $\\theta$, el cual está definido por $\\cos\\theta = \\hat{k}\\cdot\\hat{k}'$\n",
    "\n"
   ]
  },
  {
   "cell_type": "markdown",
   "id": "b7b71333",
   "metadata": {
    "slideshow": {
     "slide_type": "slide"
    }
   },
   "source": [
    "Con esto en mente, ahora podemos discutir el significado de los términos en la RTE:"
   ]
  },
  {
   "cell_type": "markdown",
   "id": "12e1a1e8",
   "metadata": {
    "slideshow": {
     "slide_type": "fragment"
    }
   },
   "source": [
    "- El primer término representa el cambio de $I_\\lambda(\\vec{r},\\hat{k})$ a través volumen diferencial. Por ejemplo, en el caso unidimencional en dirección $\\hat{k} = \\hat{x}$, tenemos: \n",
    "\n",
    "\\begin{equation*}\n",
    "\\hat{x}\\cdot\\nabla_r I_\\lambda(\\vec{r},\\hat{k}) = \\frac{\\partial}{\\partial x}I_\\lambda(\\vec{r},\\hat{k})\n",
    "\\end{equation*}"
   ]
  },
  {
   "cell_type": "markdown",
   "id": "231c3da9",
   "metadata": {
    "slideshow": {
     "slide_type": "fragment"
    }
   },
   "source": [
    "- El segundo término representa la pérdida de energía radiativa, por extinción $\\left(\\frac{f_v}{V_p}C_\\mathrm{ext}\\right)$ y absorción en el material material ($2\\kappa k_0$), respectivamente. Recordemos que la extinción representa la energía absorbida por las partículas + la energía de scattering en direcciónes distintas a $\\hat{k}$, es decir $C_\\mathrm{ext}= C_\\mathrm{abs} + C_\\mathrm{sca}$."
   ]
  },
  {
   "cell_type": "markdown",
   "id": "4754c5ed",
   "metadata": {
    "slideshow": {
     "slide_type": "fragment"
    }
   },
   "source": [
    "- El tercer término representa la ganancia de energía radiativa produco del scattering inducido por radiación incidente en dirección $\\hat{k}'$. Este término representa el fenómeno de **scattering múltiple**."
   ]
  },
  {
   "cell_type": "markdown",
   "id": "43766712",
   "metadata": {
    "slideshow": {
     "slide_type": "slide"
    }
   },
   "source": [
    "## Soluciones de la RTE\n",
    "La ecuación de transferencia radiativa permite explicar de forma fenomenológica el transporte de radiación en un medio particulado. Debido a su complejidad, existen pocas soluciones analíticas. En esta sección describiremos las tres más conocidas."
   ]
  },
  {
   "cell_type": "markdown",
   "id": "6037462f",
   "metadata": {
    "slideshow": {
     "slide_type": "slide"
    }
   },
   "source": [
    "### Película de material sin partículas (Reflectividad y Transmisividad incoherente)\n",
    "En el caso de un medio sin partículas solo debemos considerar el primer término de la RTE. "
   ]
  },
  {
   "cell_type": "markdown",
   "id": "38e80853",
   "metadata": {
    "slideshow": {
     "slide_type": "fragment"
    }
   },
   "source": [
    "Para el caso particular de un material de espesor $t_\\mathrm{film}$ e índice de refracción $N = n + \\kappa$, rodeado por un medio con índice de refracción $N_0$, derivamos las siguientes relaciones de reflectividad y tranmisividad para luz incoherente:\n",
    "\n",
    "\\begin{align}\n",
    "R_\\mathrm{incoh}&= R_0 + \\frac{T_0^2R_0e^{-4\\kappa k_0 t_\\mathrm{film}}}{1 - R_0^2e^{-4\\kappa k_0 t_\\mathrm{film}}} \n",
    "\\\\[10pt]\n",
    "T_\\mathrm{incoh} &= \\frac{T_0^2e^{-4\\kappa k_0 t_\\mathrm{film}}}{1 - R_0^2e^{-4\\kappa k_0 t_\\mathrm{film}}}\n",
    "\\end{align}\n",
    "\n",
    "donde $R_0$ y $T_0$ corresponden, respectivamente, a la reflectividad y transmisividad en la interface $N_0 / N_1$"
   ]
  },
  {
   "cell_type": "markdown",
   "id": "7b8cb924",
   "metadata": {
    "slideshow": {
     "slide_type": "slide"
    }
   },
   "source": [
    "En el siguiente ejemplo, utilizamos la función ```incoh_multilayer``` de la libreria ```empylib.waveoptics```. Esta función es más general que la ecuación anterior y permite determinar $R_\\mathrm{incoh}$ y $T_\\mathrm{incoh}$ para arreglos multicapas. "
   ]
  },
  {
   "cell_type": "markdown",
   "id": "2a3e7bbc",
   "metadata": {
    "slideshow": {
     "slide_type": "fragment"
    }
   },
   "source": [
    "En este caso, evaluaremos una película de sílice de espesor $1~\\mu\\mathrm{m}$, sobre un sustrato con íncide de refracción $N_\\mathrm{back} = 4.3$, y con aire en la superficie $N_\\mathrm{front} = 1.0$. El espectro de longitudes de onda $\\lambda\\in[0.3,0.8]~\\mu\\mathrm{m}$ y el ángulo de incidencia $\\theta_i = 30°$. Para comparar, determinaremos $R$ y $T$ para el caso de luz coherente."
   ]
  },
  {
   "cell_type": "code",
   "execution_count": 4,
   "id": "a99aa431",
   "metadata": {
    "cell_style": "center",
    "slideshow": {
     "slide_type": "slide"
    },
    "tags": [
     "hide-input"
    ]
   },
   "outputs": [],
   "source": [
    "import numpy as np\n",
    "import empylib.waveoptics as wv\n",
    "import empylib.nklib as nk\n",
    "\n",
    "lam = np.linspace(0.3,0.8,100)  # espectro de longitudes de onda (um)\n",
    "theta = np.radians(30)          # ángulo de incidencia\n",
    "\n",
    "Nfront = 1.0                 # índice de refracción medio superior\n",
    "N1     = 1.5                 # índice de refracción capa delgada\n",
    "Nback  = 4.3                 # índice de refracción medio inferior\n",
    "N = (Nfront, N1, Nback)      # indices de refracción (above, mid, below)\n",
    "d = 1.0                      # espesor capa intermedia (um)\n",
    "\n",
    "# caso luz incoherente\n",
    "Rp_incoh, Tp_incoh = wv.incoh_multilayer(lam,theta, N, d, pol='TM')\n",
    "# caso luz coherente\n",
    "Rp, Tp = wv.multilayer(lam,theta, N, d, pol='TM')[:2]"
   ]
  },
  {
   "cell_type": "code",
   "execution_count": 5,
   "id": "3bee2ad8",
   "metadata": {
    "cell_style": "center",
    "slideshow": {
     "slide_type": "fragment"
    },
    "tags": [
     "hide-input"
    ]
   },
   "outputs": [
    {
     "data": {
      "image/png": "[encoded data removed]",
      "text/plain": [
       "<Figure size 600x350 with 1 Axes>"
      ]
     },
     "metadata": {},
     "output_type": "display_data"
    }
   ],
   "source": [
    "fig, ax = plt.subplots()\n",
    "fig.set_size_inches(6, 3.5)\n",
    "plt.rcParams['font.size'] = '12'\n",
    "\n",
    "# Graficamos el flujo de energía\n",
    "plt.plot(lam,Rp,'--r',label='$R_\\mathrm{TM}$ (coh)')\n",
    "plt.plot(lam,Tp,'--b',label='$T_\\mathrm{TM}$ (coh)')\n",
    "plt.plot(lam,Rp_incoh,'-r',label='$R_\\mathrm{TM}$ (incoh)')\n",
    "plt.plot(lam,Tp_incoh,'-b',label='$T_\\mathrm{TM}$ (incoh)')\n",
    "plt.title('arreglo 1.0/1.5/4.3')\n",
    "plt.xlabel('Longitud de onda ($\\mu$m)')\n",
    "plt.ylabel('Refletividad / Transmisividad')\n",
    "plt.ylim(0,1)\n",
    "plt.legend()\n",
    "plt.show()"
   ]
  },
  {
   "cell_type": "markdown",
   "id": "c6ed7877",
   "metadata": {
    "cell_style": "center",
    "slideshow": {
     "slide_type": "slide"
    }
   },
   "source": [
    "En la figura, para el caso de luz coherente, notamos oscilaciones en $R$ y $T$ producto de los fenómenos de interferencia. En el caso de luz incoherente, el fenómeno de interferencia desaparace."
   ]
  },
  {
   "cell_type": "markdown",
   "id": "a5316b37",
   "metadata": {
    "slideshow": {
     "slide_type": "slide"
    }
   },
   "source": [
    "### Película de material con baja concentración de partículas (Ley de Beer-Lambert)\n",
    "Definimos el **camino libre medio de scattering**, como $\\Lambda_\\mathrm{sca} = \\left(f_v C_\\mathrm{sca}/V_p\\right)^{-1}$. Este parametro representa la distancia promedio que recorre la luz entre eventos de scattering."
   ]
  },
  {
   "cell_type": "markdown",
   "id": "a352fb08",
   "metadata": {
    "cell_style": "center",
    "slideshow": {
     "slide_type": "fragment"
    }
   },
   "source": [
    "Si $\\Lambda_\\mathrm{sca}$ es mayor que el espesor del material, $t_\\mathrm{film}$, la probabilidad de que ocurran más de un evento scattering es despreciable, y decimos que el **scattering es de primer orden**. En este caso, el tercer término de la RTE es despreciable y la radiación solo pierde energía por absorción del material o extinción inducida por las partículas."
   ]
  },
  {
   "cell_type": "markdown",
   "id": "9407f0e6",
   "metadata": {
    "slideshow": {
     "slide_type": "slide"
    }
   },
   "source": [
    "La solución a esta ecuación se conoce como la ley de Beer-Lambert. Mediante esta aproximación podemos deducir las componentes total y especular de la transmitancia:\n",
    "\n",
    "\\begin{equation}\n",
    "T_\\mathrm{tot} = T_0 e^{-f_v\\frac{C_\\mathrm{abs}}{V_p}t_\\mathrm{film}}\\quad\\quad\\mathrm{and}\\quad\\quad \n",
    "T_\\mathrm{spec} = T_0 e^{-f_v\\frac{C_\\mathrm{ext}}{V_p}t_\\mathrm{film}}\n",
    "\\end{equation}\n",
    "\n",
    "donde, $T_0$ es la **transmisividad incoherente del material sin incrustaciones**."
   ]
  },
  {
   "cell_type": "markdown",
   "id": "2f29ecb5",
   "metadata": {
    "slideshow": {
     "slide_type": "fragment"
    }
   },
   "source": [
    "<img src=\"./images/beer_lambert.png\" width=\"500px\" align= center>\n",
    "\n",
    "<center>Transporte de luz en un medio con scattering de primer orden</center>"
   ]
  },
  {
   "cell_type": "markdown",
   "id": "963bc3c6",
   "metadata": {
    "slideshow": {
     "slide_type": "slide"
    }
   },
   "source": [
    "Podemos utilizar la ley de Beer-Lambert para analizar, de forma aproximada, el efecto del color del cielo durante el día y en la tarde."
   ]
  },
  {
   "cell_type": "markdown",
   "id": "227d193d",
   "metadata": {
    "slideshow": {
     "slide_type": "fragment"
    }
   },
   "source": [
    "El color del cielo está dado por la componente difusa. Así calculamos $T_\\mathrm{dif} = T_\\mathrm{tot} - T_\\mathrm{spec}$."
   ]
  },
  {
   "cell_type": "markdown",
   "id": "a2577fed",
   "metadata": {
    "slideshow": {
     "slide_type": "fragment"
    }
   },
   "source": [
    "Consideremos una atmosfera compuesta de aire ($N_h = 1.0$) y una pequeña concentración ($f_v = 1\\times 10^{-6}~\\%$) de partículas de 10 nm de diámetro e índice de refracción $N_p = 1.5$. El espesor de la atmosfera es $t_\\mathrm{atm} = 100~\\mathrm{km}$"
   ]
  },
  {
   "cell_type": "code",
   "execution_count": 6,
   "id": "33491447",
   "metadata": {
    "cell_style": "center",
    "slideshow": {
     "slide_type": "slide"
    },
    "tags": [
     "hide-input"
    ]
   },
   "outputs": [],
   "source": [
    "import empylib.rad_transfer as rt\n",
    "import empylib.nklib as nk\n",
    "import numpy as np\n",
    "import matplotlib.pyplot as plt\n",
    "from empylib.ref_spectra import AM15, Bplanck\n",
    "from empylib.ref_spectra import color_system as cs\n",
    "cs = cs.hdtv\n",
    "\n",
    "lam1 = np.linspace(0.38,0.78,100) # espectro de longitudes de onda\n",
    "cs.interp_internals(lam1)\n",
    "def plot_atmosphere(theta_sun):\n",
    "    fig, ax = plt.subplots()          \n",
    "    fig.set_size_inches(6, 4)         # Tamaño del gráfico\n",
    "    plt.rcParams['font.size'] = '12'  # tamaño de  fuente\n",
    "    \n",
    "    # parámetros de entrada\n",
    "    tatm = 100E6                      # espesor de la atmósfera en mm\n",
    "    N = (1.0,1.0,1.0)                 # indice de refracción superior, intermedio e inferior\n",
    "    fvp = 1E-8                        # fracción de volúmen de las partículas\n",
    "    Dp = 0.010                        # diámetro de las partículas\n",
    "    Np = 1.5                          # índice de refracción de las partículas\n",
    "    \n",
    "    # transmitancia total y especular|\n",
    "    theta = np.radians(theta_sun)    # posición del sol en radianes\n",
    "    Ttot, Tspec = rt.T_beer_lambert(lam1,theta,tatm,N,fvp,Dp,Np)[:2]\n",
    "    \n",
    "    Tdif = Ttot - Tspec              # transmitancia difusa\n",
    "    ax.plot(lam1,Tdif,'-k',label = 'Tdif')\n",
    "    ax.set_xlabel('Longitud de onda ($\\mu$m)')\n",
    "    ax.set_ylabel('Transmisividad')\n",
    "    ax.set_title(r'Posición del sol, $\\theta_\\mathrm{sun}$=%.1f°'% (theta_sun))\n",
    "    ax.set_ylim(0,1.05)\n",
    "    \n",
    "    Dcircle = 0.25\n",
    "    ax2 = fig.add_axes([0.11,0.15, Dcircle, Dcircle])\n",
    "    Irad = Tdif*Bplanck(lam1,5777)\n",
    "    html_rgb = cs.spec_to_rgb(Irad, out_fmt='html')\n",
    "    Circle = plt.Circle((0, 0), Dcircle, color=html_rgb)\n",
    "    ax2.add_patch(Circle)\n",
    "    ax2.set_aspect('equal')\n",
    "    ax2.set_xlim(-Dcircle*1.2,Dcircle*1.2)\n",
    "    ax2.set_ylim(-Dcircle*1.2,Dcircle*1.2)\n",
    "    ax2.set_xticks([])\n",
    "    ax2.set_yticks([])\n",
    "    ax2.set_facecolor('k')\n",
    "    plt.show()"
   ]
  },
  {
   "cell_type": "code",
   "execution_count": 7,
   "id": "f3b08336",
   "metadata": {
    "cell_style": "split",
    "slideshow": {
     "slide_type": "fragment"
    },
    "tags": [
     "hide-input"
    ]
   },
   "outputs": [
    {
     "data": {
      "application/vnd.jupyter.widget-view+json": {
       "model_id": "5a8238351d8940fbb467a271f547feb5",
       "version_major": 2,
       "version_minor": 0
      },
      "text/plain": [
       "interactive(children=(FloatSlider(value=0.0, description='theta_sun', max=89.99), Output()), _dom_classes=('wi…"
      ]
     },
     "metadata": {},
     "output_type": "display_data"
    }
   ],
   "source": [
    "from ipywidgets import interact\n",
    "\n",
    "@interact(theta_sun=(0,89.99,0.1))\n",
    "def g(theta_sun=0):\n",
    "    return plot_atmosphere(theta_sun)"
   ]
  },
  {
   "cell_type": "markdown",
   "id": "8aa6d072",
   "metadata": {
    "cell_style": "center",
    "slideshow": {
     "slide_type": "slide"
    }
   },
   "source": [
    "### Pelicula de material particulado (simulaciones de transferencia radiativa)\n",
    "Este caso corresponde a materiales con $\\Lambda_\\mathrm{sca} < t_\\mathrm{film}$. En este caso los eventos de scattering se producen más de una vez, y decimos que estámos en un régimen de **scattering múltiple**. Como resultado, los tres términos de la RTE son relevantes y debemos resolver la ecuación mediante simulación computacional.\n",
    "\n",
    "<img src=\"./images/multiple_scattering.png\" width=\"400px\" align= center>\n",
    "\n",
    "<center>Transporte de luz en un medio con scattering múltiple</center>"
   ]
  },
  {
   "cell_type": "markdown",
   "id": "bea5c468",
   "metadata": {
    "slideshow": {
     "slide_type": "slide"
    }
   },
   "source": [
    "Analicemos la [copa de Licurgo](https://es.wikipedia.org/wiki/Copa_de_Licurgo), considerando un material de sílice de espesor $t_\\mathrm{film} = 5~\\mathrm{mm}$ con incrustaciones de partículas de plata de forma esférica."
   ]
  },
  {
   "cell_type": "markdown",
   "id": "db4db843",
   "metadata": {},
   "source": [
    "Evaluaremos los colores de este material en transmisión y reflexión para luz incidente normal a la superficie en función de la concentración y el diámetro de las partículas. Utilizamos la función ```adm_sphere``` de la librería ```empylib.rad_transfer```"
   ]
  },
  {
   "cell_type": "code",
   "execution_count": 8,
   "id": "24c8d4d6",
   "metadata": {
    "slideshow": {
     "slide_type": "slide"
    },
    "tags": [
     "hide-input"
    ]
   },
   "outputs": [],
   "source": [
    "import empylib.rad_transfer as rt\n",
    "import empylib.nklib as nk\n",
    "import empylib.miescattering as mie\n",
    "import numpy as np\n",
    "import matplotlib.pyplot as plt\n",
    "\n",
    "lam2 = np.linspace(0.3,1.0,100) # espectro de longitudes de onda en micrometros\n",
    "Nlayers = (1.0,1.5,1.0)         # indice de refracción superior, intermedio e inferior\n",
    "Np = nk.silver(lam2)            # Índice de refracción de las partículas\n",
    "cs.interp_internals(lam2)\n",
    "\n",
    "def plot_glass_silver(fv,D):\n",
    "    # parámetros de entrada\n",
    "    \n",
    "    theta = np.radians(0)       # 0 grados en radianes\n",
    "    tfilm = 5                   # espesor en milímetros\n",
    "    \n",
    "    fv = fv*1E-7                # fracción de volúmen de las partículas\n",
    "    D = D*1E-3                  # diámetro de las partículas\n",
    "    \n",
    "    qext, qsca = mie.scatter_efficiency(lam2,Nlayers[1],Np,D)[:2]\n",
    "    qabs = qext - qsca\n",
    "    Rtot, Ttot = rt.adm_sphere(lam2,tfilm,Nlayers,fv,D,Np)\n",
    "\n",
    "    fig, ax = plt.subplots(1,3)\n",
    "    fig.set_size_inches(12, 3)\n",
    "    plt.rcParams['font.size'] = '10'\n",
    "    \n",
    "    ax[0].plot(lam2,qsca,'-r',label='$C_\\mathrm{sca} A_c$')\n",
    "    ax[0].plot(lam2,qabs,'-b',label='$C_\\mathrm{abs} A_c$')\n",
    "    ax[0].set_xlabel('Longitud de onda ($\\mu$m)')\n",
    "    ax[0].set_ylabel('Eficiencia transversal')\n",
    "    ax[0].set_title('Partícula de plata (D=%.0f nm)' % (D*1E3))\n",
    "    ax[0].legend()\n",
    "    ax[0].set_ylim(0,10)\n",
    "    \n",
    "    ax[1].plot(lam2,Rtot,'-r',label = 'Rtot')\n",
    "    ax[1].plot(lam2,Ttot,'-b',label = 'Ttot')\n",
    "    ax[1].set_xlabel('Longitud de onda ($\\mu$m)')\n",
    "    ax[1].set_ylabel('Transmisividad')\n",
    "    ax[1].set_title(r'Sílice con plata (fv = %.3e %%)' % (fv*100) )\n",
    "    ax[1].legend()\n",
    "    ax[1].set_ylim(0,1)\n",
    "\n",
    "    Dcircle = 0.20\n",
    "    html_rgb = cs.spec_to_rgb(Ttot*AM15(lam2), out_fmt='html')\n",
    "    Circle = plt.Circle((0, 0), Dcircle, color=html_rgb)\n",
    "    ax[2].add_patch(Circle)\n",
    "    ax[2].annotate('Luz Transmitida', xy=(0, 0), va='center', ha='center')\n",
    "\n",
    "    html_rgb = cs.spec_to_rgb(Rtot*AM15(lam2), out_fmt='html')\n",
    "    Circle = plt.Circle((Dcircle*1.2*2, 0), Dcircle, color=html_rgb)\n",
    "    ax[2].add_patch(Circle)\n",
    "    ax[2].annotate('Luz Reflejada', xy=(Dcircle*1.2*2, 0), va='center', ha='center')\n",
    "\n",
    "    ax[2].set_aspect('equal')\n",
    "    ax[2].set_xlim(-Dcircle*1.2,Dcircle*1.2*3)\n",
    "    ax[2].set_ylim(-Dcircle*1.2,Dcircle*1.2)\n",
    "    ax[2].set_xticks([])\n",
    "    ax[2].set_yticks([])\n",
    "    ax[2].set_facecolor('k')\n",
    "    plt.subplots_adjust(wspace=0.3)\n",
    "    plt.show()"
   ]
  },
  {
   "cell_type": "code",
   "execution_count": 9,
   "id": "494ceeb2",
   "metadata": {
    "cell_style": "center",
    "slideshow": {
     "slide_type": "slide"
    },
    "tags": [
     "hide-input"
    ]
   },
   "outputs": [
    {
     "data": {
      "application/vnd.jupyter.widget-view+json": {
       "model_id": "2aac7306b4074719a45063454db468c9",
       "version_major": 2,
       "version_minor": 0
      },
      "text/plain": [
       "interactive(children=(IntSlider(value=20, description='fv', min=1), IntSlider(value=70, description='D', max=2…"
      ]
     },
     "metadata": {},
     "output_type": "display_data"
    }
   ],
   "source": [
    "from ipywidgets import interact\n",
    "\n",
    "@interact(fv=(1,100,1), D = (10,200,1))\n",
    "def g(fv=20, D = 70):\n",
    "    return plot_glass_silver(fv,D)"
   ]
  },
  {
   "cell_type": "markdown",
   "id": "031ca52b",
   "metadata": {
    "slideshow": {
     "slide_type": "slide"
    }
   },
   "source": [
    "Cuando la concentración de partículas es densa, el medio se vuelve opaco. Este régimen se denomina **scattering difuso** y permite explicar, entre otras cosas, el color de las nubes o la pintura blanca\n",
    "\n",
    "<img src=\"./images/diffuse_scattering.png\" width=\"400px\" align= center>\n",
    "\n",
    "<center>Transporte de luz en un medio con scattering difuso</center>"
   ]
  },
  {
   "cell_type": "markdown",
   "id": "01df5bd6",
   "metadata": {
    "slideshow": {
     "slide_type": "slide"
    }
   },
   "source": [
    "Un ejemplo interesante corresponde a la leche. En términos simples, la leche es una emulsión formada por pequeñas partículas de grasa dispersas en un medio acuoso. \n",
    "\n",
    "<img src=\"./images/milk_microscope.png\" width=\"400px\" align= center>\n",
    "\n",
    "<center>Imagen de microscópio (40x) de leche orgánica. Las burbujas verdes corresponden al aceite en suspención en agua.</center>\n",
    "\n",
    "Fuente: [Braun K., Hanewald A. and Vilgis T. Foods 8(10): 483(2019)](https://www.ncbi.nlm.nih.gov/pmc/articles/PMC6836175/)"
   ]
  },
  {
   "cell_type": "markdown",
   "id": "225b5528",
   "metadata": {
    "slideshow": {
     "slide_type": "fragment"
    }
   },
   "source": [
    "Como aproximación, consideremos un medio de espesor $1$ cm, compuesto por agua $N_h = 1.3$ y pequeñas partículas esféricas de aceite $N_p = 1.5$. La emulsión considera un 60% de partículas de aceite por volumen."
   ]
  },
  {
   "cell_type": "code",
   "execution_count": 10,
   "id": "72cbfc3e",
   "metadata": {
    "cell_style": "split",
    "slideshow": {
     "slide_type": "slide"
    },
    "tags": [
     "hide-input"
    ]
   },
   "outputs": [],
   "source": [
    "%%capture showplot\n",
    "# import empylib.nklib as nk\n",
    "import numpy as np\n",
    "import empylib.rad_transfer as rt\n",
    "\n",
    "# Solo modificar estos parámetros\n",
    "#---------------------------------------------------------------\n",
    "lam3 = np.linspace(0.3,1.0,100)   # espectro de longitudes de onda\n",
    "tfilm = 10                        # espesor en milímetros\n",
    "fv = 0.50                         # fracción de volúmen de los poros\n",
    "D = 1.0                           # diámetro de los poros (micrones)\n",
    "Nh2o = 1.3                        # Índice de refracción del agua\n",
    "Noil = 1.5                        # índice de refracción partículas de aceite\n",
    "#---------------------------------------------------------------\n",
    "Rtot, Ttot = rt.adm_sphere(lam3,tfilm,(1.0,Nh2o,1.0),fv,D,Noil)\n",
    "\n",
    "fig, ax = plt.subplots()\n",
    "fig.set_size_inches(5, 3.5)\n",
    "plt.rcParams['font.size'] = '12'\n",
    "ax.plot(lam3,Rtot,'-r',label='R')\n",
    "ax.plot(lam3,Ttot,'-b',label='T')\n",
    "ax.set_xlabel('Longitud de onda ($\\mu$m)')\n",
    "ax.set_ylabel('Reflectividad / Transmisividad')\n",
    "ax.set_title(r'Leche (fv = %.0f %%)' % (fv*100))\n",
    "ax.legend()\n",
    "ax.set_ylim(0,1.02)\n",
    "plt.show()"
   ]
  },
  {
   "cell_type": "code",
   "execution_count": 11,
   "id": "9a1291f7",
   "metadata": {
    "cell_style": "split",
    "slideshow": {
     "slide_type": "fragment"
    },
    "tags": [
     "hide-input"
    ]
   },
   "outputs": [
    {
     "data": {
      "image/png": "[encoded data removed]",
      "text/plain": [
       "<Figure size 500x350 with 1 Axes>"
      ]
     },
     "metadata": {},
     "output_type": "display_data"
    }
   ],
   "source": [
    "showplot()"
   ]
  },
  {
   "cell_type": "markdown",
   "id": "6c035f58",
   "metadata": {
    "slideshow": {
     "slide_type": "slide"
    }
   },
   "source": [
    "Como vemos la alta concentración de partículas hace que la refletividad y transmisividad se vuelvan casi uniformes para todas las longitudes de onda. El espectro, así, toma un color blanco frente a una fuente de luz blanca."
   ]
  },
  {
   "cell_type": "markdown",
   "id": "17c1dc23",
   "metadata": {
    "slideshow": {
     "slide_type": "slide"
    }
   },
   "source": [
    "## Referencias\n",
    "- Chen G. **Chapter 5 - Energy Transfer by Waves** in *Nanoscale energy transport and conversion*, 1st Ed, Oxford University Press, 2005"
   ]
  }
 ],
 "metadata": {
  "celltoolbar": "Slideshow",
  "kernelspec": {
   "display_name": "Python 3 (ipykernel)",
   "language": "python",
   "name": "python3"
  },
  "language_info": {
   "codemirror_mode": {
    "name": "ipython",
    "version": 3
   },
   "file_extension": ".py",
   "mimetype": "text/x-python",
   "name": "python",
   "nbconvert_exporter": "python",
   "pygments_lexer": "ipython3",
   "version": "3.9.12"
  },
  "latex_envs": {
   "LaTeX_envs_menu_present": false,
   "autoclose": false,
   "autocomplete": false,
   "bibliofile": "biblio.bib",
   "cite_by": "apalike",
   "current_citInitial": 1,
   "eqLabelWithNumbers": true,
   "eqNumInitial": 2,
   "hotkeys": {
    "equation": "Ctrl-E",
    "itemize": "Ctrl-I"
   },
   "labels_anchors": false,
   "latex_user_defs": false,
   "report_style_numbering": false,
   "user_envs_cfg": true
  },
  "toc": {
   "base_numbering": 1,
   "nav_menu": {},
   "number_sections": false,
   "sideBar": true,
   "skip_h1_title": true,
   "title_cell": "Tabla de contenidos",
   "title_sidebar": "Contenidos",
   "toc_cell": false,
   "toc_position": {
    "height": "calc(100% - 180px)",
    "left": "10px",
    "top": "150px",
    "width": "307.2px"
   },
   "toc_section_display": true,
   "toc_window_display": false
  },
  "varInspector": {
   "cols": {
    "lenName": 16,
    "lenType": 16,
    "lenVar": 40
   },
   "kernels_config": {
    "python": {
     "delete_cmd_postfix": "",
     "delete_cmd_prefix": "del ",
     "library": "var_list.py",
     "varRefreshCmd": "print(var_dic_list())"
    },
    "r": {
     "delete_cmd_postfix": ") ",
     "delete_cmd_prefix": "rm(",
     "library": "var_list.r",
     "varRefreshCmd": "cat(var_dic_list()) "
    }
   },
   "types_to_exclude": [
    "module",
    "function",
    "builtin_function_or_method",
    "instance",
    "_Feature"
   ],
   "window_display": false
  },
  "widgets": {
   "application/vnd.jupyter.widget-state+json": {
    "state": {
     "057abbc3979445e0ba58691abae1fa55": {
      "model_module": "@jupyter-widgets/controls",
      "model_module_version": "1.5.0",
      "model_name": "SliderStyleModel",
      "state": {
       "_model_module": "@jupyter-widgets/controls",
       "_model_module_version": "1.5.0",
       "_model_name": "SliderStyleModel",
       "_view_count": null,
       "_view_module": "@jupyter-widgets/base",
       "_view_module_version": "1.2.0",
       "_view_name": "StyleView",
       "description_width": "",
       "handle_color": null
      }
     },
     "0f2e163eff8e46a5bd1318d571030fee": {
      "model_module": "@jupyter-widgets/base",
      "model_module_version": "1.2.0",
      "model_name": "LayoutModel",
      "state": {
       "_model_module": "@jupyter-widgets/base",
       "_model_module_version": "1.2.0",
       "_model_name": "LayoutModel",
       "_view_count": null,
       "_view_module": "@jupyter-widgets/base",
       "_view_module_version": "1.2.0",
       "_view_name": "LayoutView",
       "align_content": null,
       "align_items": null,
       "align_self": null,
       "border": null,
       "bottom": null,
       "display": null,
       "flex": null,
       "flex_flow": null,
       "grid_area": null,
       "grid_auto_columns": null,
       "grid_auto_flow": null,
       "grid_auto_rows": null,
       "grid_column": null,
       "grid_gap": null,
       "grid_row": null,
       "grid_template_areas": null,
       "grid_template_columns": null,
       "grid_template_rows": null,
       "height": null,
       "justify_content": null,
       "justify_items": null,
       "left": null,
       "margin": null,
       "max_height": null,
       "max_width": null,
       "min_height": null,
       "min_width": null,
       "object_fit": null,
       "object_position": null,
       "order": null,
       "overflow": null,
       "overflow_x": null,
       "overflow_y": null,
       "padding": null,
       "right": null,
       "top": null,
       "visibility": null,
       "width": null
      }
     },
     "1a5923e4488647d6b54fde7f9b9d2252": {
      "model_module": "@jupyter-widgets/base",
      "model_module_version": "1.2.0",
      "model_name": "LayoutModel",
      "state": {
       "_model_module": "@jupyter-widgets/base",
       "_model_module_version": "1.2.0",
       "_model_name": "LayoutModel",
       "_view_count": null,
       "_view_module": "@jupyter-widgets/base",
       "_view_module_version": "1.2.0",
       "_view_name": "LayoutView",
       "align_content": null,
       "align_items": null,
       "align_self": null,
       "border": null,
       "bottom": null,
       "display": null,
       "flex": null,
       "flex_flow": null,
       "grid_area": null,
       "grid_auto_columns": null,
       "grid_auto_flow": null,
       "grid_auto_rows": null,
       "grid_column": null,
       "grid_gap": null,
       "grid_row": null,
       "grid_template_areas": null,
       "grid_template_columns": null,
       "grid_template_rows": null,
       "height": null,
       "justify_content": null,
       "justify_items": null,
       "left": null,
       "margin": null,
       "max_height": null,
       "max_width": null,
       "min_height": null,
       "min_width": null,
       "object_fit": null,
       "object_position": null,
       "order": null,
       "overflow": null,
       "overflow_x": null,
       "overflow_y": null,
       "padding": null,
       "right": null,
       "top": null,
       "visibility": null,
       "width": null
      }
     },
     "1cb639bd93164c279a6cdcbf61f38d77": {
      "model_module": "@jupyter-widgets/controls",
      "model_module_version": "1.5.0",
      "model_name": "IntSliderModel",
      "state": {
       "_dom_classes": [],
       "_model_module": "@jupyter-widgets/controls",
       "_model_module_version": "1.5.0",
       "_model_name": "IntSliderModel",
       "_view_count": null,
       "_view_module": "@jupyter-widgets/controls",
       "_view_module_version": "1.5.0",
       "_view_name": "IntSliderView",
       "continuous_update": true,
       "description": "fv",
       "description_tooltip": null,
       "disabled": false,
       "layout": "IPY_MODEL_c58032158df8427e98fa4104e38fc317",
       "max": 100,
       "min": 1,
       "orientation": "horizontal",
       "readout": true,
       "readout_format": "d",
       "step": 1,
       "style": "IPY_MODEL_316142bf688945b085377c6fd47e6789",
       "value": 20
      }
     },
     "253d9f08b0cc4ebb80d7a14d140aa5c1": {
      "model_module": "@jupyter-widgets/base",
      "model_module_version": "1.2.0",
      "model_name": "LayoutModel",
      "state": {
       "_model_module": "@jupyter-widgets/base",
       "_model_module_version": "1.2.0",
       "_model_name": "LayoutModel",
       "_view_count": null,
       "_view_module": "@jupyter-widgets/base",
       "_view_module_version": "1.2.0",
       "_view_name": "LayoutView",
       "align_content": null,
       "align_items": null,
       "align_self": null,
       "border": null,
       "bottom": null,
       "display": null,
       "flex": null,
       "flex_flow": null,
       "grid_area": null,
       "grid_auto_columns": null,
       "grid_auto_flow": null,
       "grid_auto_rows": null,
       "grid_column": null,
       "grid_gap": null,
       "grid_row": null,
       "grid_template_areas": null,
       "grid_template_columns": null,
       "grid_template_rows": null,
       "height": null,
       "justify_content": null,
       "justify_items": null,
       "left": null,
       "margin": null,
       "max_height": null,
       "max_width": null,
       "min_height": null,
       "min_width": null,
       "object_fit": null,
       "object_position": null,
       "order": null,
       "overflow": null,
       "overflow_x": null,
       "overflow_y": null,
       "padding": null,
       "right": null,
       "top": null,
       "visibility": null,
       "width": null
      }
     },
     "2aac7306b4074719a45063454db468c9": {
      "model_module": "@jupyter-widgets/controls",
      "model_module_version": "1.5.0",
      "model_name": "VBoxModel",
      "state": {
       "_dom_classes": [
        "widget-interact"
       ],
       "_model_module": "@jupyter-widgets/controls",
       "_model_module_version": "1.5.0",
       "_model_name": "VBoxModel",
       "_view_count": null,
       "_view_module": "@jupyter-widgets/controls",
       "_view_module_version": "1.5.0",
       "_view_name": "VBoxView",
       "box_style": "",
       "children": [
        "IPY_MODEL_1cb639bd93164c279a6cdcbf61f38d77",
        "IPY_MODEL_3e675ba5397a424697f570fc4694a9ea",
        "IPY_MODEL_6f2e57998c6a4490a7da292d2d3f0bb5"
       ],
       "layout": "IPY_MODEL_c85e5e6e8c3648f2842f27334cee803e"
      }
     },
     "316142bf688945b085377c6fd47e6789": {
      "model_module": "@jupyter-widgets/controls",
      "model_module_version": "1.5.0",
      "model_name": "SliderStyleModel",
      "state": {
       "_model_module": "@jupyter-widgets/controls",
       "_model_module_version": "1.5.0",
       "_model_name": "SliderStyleModel",
       "_view_count": null,
       "_view_module": "@jupyter-widgets/base",
       "_view_module_version": "1.2.0",
       "_view_name": "StyleView",
       "description_width": "",
       "handle_color": null
      }
     },
     "3e675ba5397a424697f570fc4694a9ea": {
      "model_module": "@jupyter-widgets/controls",
      "model_module_version": "1.5.0",
      "model_name": "IntSliderModel",
      "state": {
       "_dom_classes": [],
       "_model_module": "@jupyter-widgets/controls",
       "_model_module_version": "1.5.0",
       "_model_name": "IntSliderModel",
       "_view_count": null,
       "_view_module": "@jupyter-widgets/controls",
       "_view_module_version": "1.5.0",
       "_view_name": "IntSliderView",
       "continuous_update": true,
       "description": "D",
       "description_tooltip": null,
       "disabled": false,
       "layout": "IPY_MODEL_1a5923e4488647d6b54fde7f9b9d2252",
       "max": 200,
       "min": 10,
       "orientation": "horizontal",
       "readout": true,
       "readout_format": "d",
       "step": 1,
       "style": "IPY_MODEL_bb2b503b30e847cc9ff8ea7d6d41be23",
       "value": 70
      }
     },
     "418c7d73c7354b9e842506128463545d": {
      "model_module": "@jupyter-widgets/output",
      "model_module_version": "1.0.0",
      "model_name": "OutputModel",
      "state": {
       "_dom_classes": [],
       "_model_module": "@jupyter-widgets/output",
       "_model_module_version": "1.0.0",
       "_model_name": "OutputModel",
       "_view_count": null,
       "_view_module": "@jupyter-widgets/output",
       "_view_module_version": "1.0.0",
       "_view_name": "OutputView",
       "layout": "IPY_MODEL_d03f5dee7e5047b9b564333033d29952",
       "msg_id": "",
       "outputs": [
        {
         "data": {
          "image/png": "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",
          "text/plain": "<Figure size 600x300 with 1 Axes>"
         },
         "metadata": {},
         "output_type": "display_data"
        }
       ]
      }
     },
     "4cd9ee6d9f044c3dbeae2ec972e7b69f": {
      "model_module": "@jupyter-widgets/base",
      "model_module_version": "1.2.0",
      "model_name": "LayoutModel",
      "state": {
       "_model_module": "@jupyter-widgets/base",
       "_model_module_version": "1.2.0",
       "_model_name": "LayoutModel",
       "_view_count": null,
       "_view_module": "@jupyter-widgets/base",
       "_view_module_version": "1.2.0",
       "_view_name": "LayoutView",
       "align_content": null,
       "align_items": null,
       "align_self": null,
       "border": null,
       "bottom": null,
       "display": null,
       "flex": null,
       "flex_flow": null,
       "grid_area": null,
       "grid_auto_columns": null,
       "grid_auto_flow": null,
       "grid_auto_rows": null,
       "grid_column": null,
       "grid_gap": null,
       "grid_row": null,
       "grid_template_areas": null,
       "grid_template_columns": null,
       "grid_template_rows": null,
       "height": null,
       "justify_content": null,
       "justify_items": null,
       "left": null,
       "margin": null,
       "max_height": null,
       "max_width": null,
       "min_height": null,
       "min_width": null,
       "object_fit": null,
       "object_position": null,
       "order": null,
       "overflow": null,
       "overflow_x": null,
       "overflow_y": null,
       "padding": null,
       "right": null,
       "top": null,
       "visibility": null,
       "width": null
      }
     },
     "5a8238351d8940fbb467a271f547feb5": {
      "model_module": "@jupyter-widgets/controls",
      "model_module_version": "1.5.0",
      "model_name": "VBoxModel",
      "state": {
       "_dom_classes": [
        "widget-interact"
       ],
       "_model_module": "@jupyter-widgets/controls",
       "_model_module_version": "1.5.0",
       "_model_name": "VBoxModel",
       "_view_count": null,
       "_view_module": "@jupyter-widgets/controls",
       "_view_module_version": "1.5.0",
       "_view_name": "VBoxView",
       "box_style": "",
       "children": [
        "IPY_MODEL_7fa6bd6b87864a729f97c4a7a109fda6",
        "IPY_MODEL_a050a7a51be34ea3b496c143d976a0fa"
       ],
       "layout": "IPY_MODEL_7278a02210b245b296fc7763ed8957cf"
      }
     },
     "678b205319ef47c1917ab9a81ff4a1f3": {
      "model_module": "@jupyter-widgets/controls",
      "model_module_version": "1.5.0",
      "model_name": "SliderStyleModel",
      "state": {
       "_model_module": "@jupyter-widgets/controls",
       "_model_module_version": "1.5.0",
       "_model_name": "SliderStyleModel",
       "_view_count": null,
       "_view_module": "@jupyter-widgets/base",
       "_view_module_version": "1.2.0",
       "_view_name": "StyleView",
       "description_width": "",
       "handle_color": null
      }
     },
     "6e60655db7a04c7ab9d4918edd01d886": {
      "model_module": "@jupyter-widgets/base",
      "model_module_version": "1.2.0",
      "model_name": "LayoutModel",
      "state": {
       "_model_module": "@jupyter-widgets/base",
       "_model_module_version": "1.2.0",
       "_model_name": "LayoutModel",
       "_view_count": null,
       "_view_module": "@jupyter-widgets/base",
       "_view_module_version": "1.2.0",
       "_view_name": "LayoutView",
       "align_content": null,
       "align_items": null,
       "align_self": null,
       "border": null,
       "bottom": null,
       "display": null,
       "flex": null,
       "flex_flow": null,
       "grid_area": null,
       "grid_auto_columns": null,
       "grid_auto_flow": null,
       "grid_auto_rows": null,
       "grid_column": null,
       "grid_gap": null,
       "grid_row": null,
       "grid_template_areas": null,
       "grid_template_columns": null,
       "grid_template_rows": null,
       "height": null,
       "justify_content": null,
       "justify_items": null,
       "left": null,
       "margin": null,
       "max_height": null,
       "max_width": null,
       "min_height": null,
       "min_width": null,
       "object_fit": null,
       "object_position": null,
       "order": null,
       "overflow": null,
       "overflow_x": null,
       "overflow_y": null,
       "padding": null,
       "right": null,
       "top": null,
       "visibility": null,
       "width": null
      }
     },
     "6f2e57998c6a4490a7da292d2d3f0bb5": {
      "model_module": "@jupyter-widgets/output",
      "model_module_version": "1.0.0",
      "model_name": "OutputModel",
      "state": {
       "_dom_classes": [],
       "_model_module": "@jupyter-widgets/output",
       "_model_module_version": "1.0.0",
       "_model_name": "OutputModel",
       "_view_count": null,
       "_view_module": "@jupyter-widgets/output",
       "_view_module_version": "1.0.0",
       "_view_name": "OutputView",
       "layout": "IPY_MODEL_0f2e163eff8e46a5bd1318d571030fee",
       "msg_id": "",
       "outputs": [
        {
         "data": {
          "image/png": "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",
          "text/plain": "<Figure size 1200x300 with 3 Axes>"
         },
         "metadata": {},
         "output_type": "display_data"
        }
       ]
      }
     },
     "7278a02210b245b296fc7763ed8957cf": {
      "model_module": "@jupyter-widgets/base",
      "model_module_version": "1.2.0",
      "model_name": "LayoutModel",
      "state": {
       "_model_module": "@jupyter-widgets/base",
       "_model_module_version": "1.2.0",
       "_model_name": "LayoutModel",
       "_view_count": null,
       "_view_module": "@jupyter-widgets/base",
       "_view_module_version": "1.2.0",
       "_view_name": "LayoutView",
       "align_content": null,
       "align_items": null,
       "align_self": null,
       "border": null,
       "bottom": null,
       "display": null,
       "flex": null,
       "flex_flow": null,
       "grid_area": null,
       "grid_auto_columns": null,
       "grid_auto_flow": null,
       "grid_auto_rows": null,
       "grid_column": null,
       "grid_gap": null,
       "grid_row": null,
       "grid_template_areas": null,
       "grid_template_columns": null,
       "grid_template_rows": null,
       "height": null,
       "justify_content": null,
       "justify_items": null,
       "left": null,
       "margin": null,
       "max_height": null,
       "max_width": null,
       "min_height": null,
       "min_width": null,
       "object_fit": null,
       "object_position": null,
       "order": null,
       "overflow": null,
       "overflow_x": null,
       "overflow_y": null,
       "padding": null,
       "right": null,
       "top": null,
       "visibility": null,
       "width": null
      }
     },
     "7bec330a15d04c72a430e100c2e35b65": {
      "model_module": "@jupyter-widgets/controls",
      "model_module_version": "1.5.0",
      "model_name": "FloatSliderModel",
      "state": {
       "_dom_classes": [],
       "_model_module": "@jupyter-widgets/controls",
       "_model_module_version": "1.5.0",
       "_model_name": "FloatSliderModel",
       "_view_count": null,
       "_view_module": "@jupyter-widgets/controls",
       "_view_module_version": "1.5.0",
       "_view_name": "FloatSliderView",
       "continuous_update": true,
       "description": "sig",
       "description_tooltip": null,
       "disabled": false,
       "layout": "IPY_MODEL_4cd9ee6d9f044c3dbeae2ec972e7b69f",
       "max": 1.0,
       "min": 0.0,
       "orientation": "horizontal",
       "readout": true,
       "readout_format": ".2f",
       "step": 0.01,
       "style": "IPY_MODEL_9f1c13da7cb84dc79fd78474d2507c44",
       "value": 0.3
      }
     },
     "7fa6bd6b87864a729f97c4a7a109fda6": {
      "model_module": "@jupyter-widgets/controls",
      "model_module_version": "1.5.0",
      "model_name": "FloatSliderModel",
      "state": {
       "_dom_classes": [],
       "_model_module": "@jupyter-widgets/controls",
       "_model_module_version": "1.5.0",
       "_model_name": "FloatSliderModel",
       "_view_count": null,
       "_view_module": "@jupyter-widgets/controls",
       "_view_module_version": "1.5.0",
       "_view_name": "FloatSliderView",
       "continuous_update": true,
       "description": "theta_sun",
       "description_tooltip": null,
       "disabled": false,
       "layout": "IPY_MODEL_c02abfba9e2b4849a6cb7e39f2ac26b8",
       "max": 89.99,
       "min": 0.0,
       "orientation": "horizontal",
       "readout": true,
       "readout_format": ".2f",
       "step": 0.1,
       "style": "IPY_MODEL_057abbc3979445e0ba58691abae1fa55",
       "value": 0.0
      }
     },
     "8248295a9fb042cda82488fd0844b2ef": {
      "model_module": "@jupyter-widgets/base",
      "model_module_version": "1.2.0",
      "model_name": "LayoutModel",
      "state": {
       "_model_module": "@jupyter-widgets/base",
       "_model_module_version": "1.2.0",
       "_model_name": "LayoutModel",
       "_view_count": null,
       "_view_module": "@jupyter-widgets/base",
       "_view_module_version": "1.2.0",
       "_view_name": "LayoutView",
       "align_content": null,
       "align_items": null,
       "align_self": null,
       "border": null,
       "bottom": null,
       "display": null,
       "flex": null,
       "flex_flow": null,
       "grid_area": null,
       "grid_auto_columns": null,
       "grid_auto_flow": null,
       "grid_auto_rows": null,
       "grid_column": null,
       "grid_gap": null,
       "grid_row": null,
       "grid_template_areas": null,
       "grid_template_columns": null,
       "grid_template_rows": null,
       "height": null,
       "justify_content": null,
       "justify_items": null,
       "left": null,
       "margin": null,
       "max_height": null,
       "max_width": null,
       "min_height": null,
       "min_width": null,
       "object_fit": null,
       "object_position": null,
       "order": null,
       "overflow": null,
       "overflow_x": null,
       "overflow_y": null,
       "padding": null,
       "right": null,
       "top": null,
       "visibility": null,
       "width": null
      }
     },
     "8890e42da2a6495e94328767eff51d03": {
      "model_module": "@jupyter-widgets/controls",
      "model_module_version": "1.5.0",
      "model_name": "IntSliderModel",
      "state": {
       "_dom_classes": [],
       "_model_module": "@jupyter-widgets/controls",
       "_model_module_version": "1.5.0",
       "_model_name": "IntSliderModel",
       "_view_count": null,
       "_view_module": "@jupyter-widgets/controls",
       "_view_module_version": "1.5.0",
       "_view_name": "IntSliderView",
       "continuous_update": true,
       "description": "N",
       "description_tooltip": null,
       "disabled": false,
       "layout": "IPY_MODEL_253d9f08b0cc4ebb80d7a14d140aa5c1",
       "max": 1000,
       "min": 1,
       "orientation": "horizontal",
       "readout": true,
       "readout_format": "d",
       "step": 1,
       "style": "IPY_MODEL_8926e926510b49ca8015cc934870c99f",
       "value": 1000
      }
     },
     "8926e926510b49ca8015cc934870c99f": {
      "model_module": "@jupyter-widgets/controls",
      "model_module_version": "1.5.0",
      "model_name": "SliderStyleModel",
      "state": {
       "_model_module": "@jupyter-widgets/controls",
       "_model_module_version": "1.5.0",
       "_model_name": "SliderStyleModel",
       "_view_count": null,
       "_view_module": "@jupyter-widgets/base",
       "_view_module_version": "1.2.0",
       "_view_name": "StyleView",
       "description_width": "",
       "handle_color": null
      }
     },
     "9f1c13da7cb84dc79fd78474d2507c44": {
      "model_module": "@jupyter-widgets/controls",
      "model_module_version": "1.5.0",
      "model_name": "SliderStyleModel",
      "state": {
       "_model_module": "@jupyter-widgets/controls",
       "_model_module_version": "1.5.0",
       "_model_name": "SliderStyleModel",
       "_view_count": null,
       "_view_module": "@jupyter-widgets/base",
       "_view_module_version": "1.2.0",
       "_view_name": "StyleView",
       "description_width": "",
       "handle_color": null
      }
     },
     "a050a7a51be34ea3b496c143d976a0fa": {
      "model_module": "@jupyter-widgets/output",
      "model_module_version": "1.0.0",
      "model_name": "OutputModel",
      "state": {
       "_dom_classes": [],
       "_model_module": "@jupyter-widgets/output",
       "_model_module_version": "1.0.0",
       "_model_name": "OutputModel",
       "_view_count": null,
       "_view_module": "@jupyter-widgets/output",
       "_view_module_version": "1.0.0",
       "_view_name": "OutputView",
       "layout": "IPY_MODEL_6e60655db7a04c7ab9d4918edd01d886",
       "msg_id": "",
       "outputs": [
        {
         "data": {
          "image/png": "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",
          "text/plain": "<Figure size 600x400 with 2 Axes>"
         },
         "metadata": {},
         "output_type": "display_data"
        }
       ]
      }
     },
     "a0eb5def77854d5a97c42842b8446537": {
      "model_module": "@jupyter-widgets/base",
      "model_module_version": "1.2.0",
      "model_name": "LayoutModel",
      "state": {
       "_model_module": "@jupyter-widgets/base",
       "_model_module_version": "1.2.0",
       "_model_name": "LayoutModel",
       "_view_count": null,
       "_view_module": "@jupyter-widgets/base",
       "_view_module_version": "1.2.0",
       "_view_name": "LayoutView",
       "align_content": null,
       "align_items": null,
       "align_self": null,
       "border": null,
       "bottom": null,
       "display": null,
       "flex": null,
       "flex_flow": null,
       "grid_area": null,
       "grid_auto_columns": null,
       "grid_auto_flow": null,
       "grid_auto_rows": null,
       "grid_column": null,
       "grid_gap": null,
       "grid_row": null,
       "grid_template_areas": null,
       "grid_template_columns": null,
       "grid_template_rows": null,
       "height": null,
       "justify_content": null,
       "justify_items": null,
       "left": null,
       "margin": null,
       "max_height": null,
       "max_width": null,
       "min_height": null,
       "min_width": null,
       "object_fit": null,
       "object_position": null,
       "order": null,
       "overflow": null,
       "overflow_x": null,
       "overflow_y": null,
       "padding": null,
       "right": null,
       "top": null,
       "visibility": null,
       "width": null
      }
     },
     "ad2bef452c2446adaeddbc2ba0c05983": {
      "model_module": "@jupyter-widgets/controls",
      "model_module_version": "1.5.0",
      "model_name": "VBoxModel",
      "state": {
       "_dom_classes": [
        "widget-interact"
       ],
       "_model_module": "@jupyter-widgets/controls",
       "_model_module_version": "1.5.0",
       "_model_name": "VBoxModel",
       "_view_count": null,
       "_view_module": "@jupyter-widgets/controls",
       "_view_module_version": "1.5.0",
       "_view_name": "VBoxView",
       "box_style": "",
       "children": [
        "IPY_MODEL_8890e42da2a6495e94328767eff51d03",
        "IPY_MODEL_b3b21c0e03954cc0ab4441d52e84adc9",
        "IPY_MODEL_7bec330a15d04c72a430e100c2e35b65",
        "IPY_MODEL_418c7d73c7354b9e842506128463545d"
       ],
       "layout": "IPY_MODEL_a0eb5def77854d5a97c42842b8446537"
      }
     },
     "b3b21c0e03954cc0ab4441d52e84adc9": {
      "model_module": "@jupyter-widgets/controls",
      "model_module_version": "1.5.0",
      "model_name": "FloatSliderModel",
      "state": {
       "_dom_classes": [],
       "_model_module": "@jupyter-widgets/controls",
       "_model_module_version": "1.5.0",
       "_model_name": "FloatSliderModel",
       "_view_count": null,
       "_view_module": "@jupyter-widgets/controls",
       "_view_module_version": "1.5.0",
       "_view_name": "FloatSliderView",
       "continuous_update": true,
       "description": "t",
       "description_tooltip": null,
       "disabled": false,
       "layout": "IPY_MODEL_8248295a9fb042cda82488fd0844b2ef",
       "max": 10.0,
       "min": -10.0,
       "orientation": "horizontal",
       "readout": true,
       "readout_format": ".2f",
       "step": 0.1,
       "style": "IPY_MODEL_678b205319ef47c1917ab9a81ff4a1f3",
       "value": 0.0
      }
     },
     "bb2b503b30e847cc9ff8ea7d6d41be23": {
      "model_module": "@jupyter-widgets/controls",
      "model_module_version": "1.5.0",
      "model_name": "SliderStyleModel",
      "state": {
       "_model_module": "@jupyter-widgets/controls",
       "_model_module_version": "1.5.0",
       "_model_name": "SliderStyleModel",
       "_view_count": null,
       "_view_module": "@jupyter-widgets/base",
       "_view_module_version": "1.2.0",
       "_view_name": "StyleView",
       "description_width": "",
       "handle_color": null
      }
     },
     "c02abfba9e2b4849a6cb7e39f2ac26b8": {
      "model_module": "@jupyter-widgets/base",
      "model_module_version": "1.2.0",
      "model_name": "LayoutModel",
      "state": {
       "_model_module": "@jupyter-widgets/base",
       "_model_module_version": "1.2.0",
       "_model_name": "LayoutModel",
       "_view_count": null,
       "_view_module": "@jupyter-widgets/base",
       "_view_module_version": "1.2.0",
       "_view_name": "LayoutView",
       "align_content": null,
       "align_items": null,
       "align_self": null,
       "border": null,
       "bottom": null,
       "display": null,
       "flex": null,
       "flex_flow": null,
       "grid_area": null,
       "grid_auto_columns": null,
       "grid_auto_flow": null,
       "grid_auto_rows": null,
       "grid_column": null,
       "grid_gap": null,
       "grid_row": null,
       "grid_template_areas": null,
       "grid_template_columns": null,
       "grid_template_rows": null,
       "height": null,
       "justify_content": null,
       "justify_items": null,
       "left": null,
       "margin": null,
       "max_height": null,
       "max_width": null,
       "min_height": null,
       "min_width": null,
       "object_fit": null,
       "object_position": null,
       "order": null,
       "overflow": null,
       "overflow_x": null,
       "overflow_y": null,
       "padding": null,
       "right": null,
       "top": null,
       "visibility": null,
       "width": null
      }
     },
     "c58032158df8427e98fa4104e38fc317": {
      "model_module": "@jupyter-widgets/base",
      "model_module_version": "1.2.0",
      "model_name": "LayoutModel",
      "state": {
       "_model_module": "@jupyter-widgets/base",
       "_model_module_version": "1.2.0",
       "_model_name": "LayoutModel",
       "_view_count": null,
       "_view_module": "@jupyter-widgets/base",
       "_view_module_version": "1.2.0",
       "_view_name": "LayoutView",
       "align_content": null,
       "align_items": null,
       "align_self": null,
       "border": null,
       "bottom": null,
       "display": null,
       "flex": null,
       "flex_flow": null,
       "grid_area": null,
       "grid_auto_columns": null,
       "grid_auto_flow": null,
       "grid_auto_rows": null,
       "grid_column": null,
       "grid_gap": null,
       "grid_row": null,
       "grid_template_areas": null,
       "grid_template_columns": null,
       "grid_template_rows": null,
       "height": null,
       "justify_content": null,
       "justify_items": null,
       "left": null,
       "margin": null,
       "max_height": null,
       "max_width": null,
       "min_height": null,
       "min_width": null,
       "object_fit": null,
       "object_position": null,
       "order": null,
       "overflow": null,
       "overflow_x": null,
       "overflow_y": null,
       "padding": null,
       "right": null,
       "top": null,
       "visibility": null,
       "width": null
      }
     },
     "c85e5e6e8c3648f2842f27334cee803e": {
      "model_module": "@jupyter-widgets/base",
      "model_module_version": "1.2.0",
      "model_name": "LayoutModel",
      "state": {
       "_model_module": "@jupyter-widgets/base",
       "_model_module_version": "1.2.0",
       "_model_name": "LayoutModel",
       "_view_count": null,
       "_view_module": "@jupyter-widgets/base",
       "_view_module_version": "1.2.0",
       "_view_name": "LayoutView",
       "align_content": null,
       "align_items": null,
       "align_self": null,
       "border": null,
       "bottom": null,
       "display": null,
       "flex": null,
       "flex_flow": null,
       "grid_area": null,
       "grid_auto_columns": null,
       "grid_auto_flow": null,
       "grid_auto_rows": null,
       "grid_column": null,
       "grid_gap": null,
       "grid_row": null,
       "grid_template_areas": null,
       "grid_template_columns": null,
       "grid_template_rows": null,
       "height": null,
       "justify_content": null,
       "justify_items": null,
       "left": null,
       "margin": null,
       "max_height": null,
       "max_width": null,
       "min_height": null,
       "min_width": null,
       "object_fit": null,
       "object_position": null,
       "order": null,
       "overflow": null,
       "overflow_x": null,
       "overflow_y": null,
       "padding": null,
       "right": null,
       "top": null,
       "visibility": null,
       "width": null
      }
     },
     "d03f5dee7e5047b9b564333033d29952": {
      "model_module": "@jupyter-widgets/base",
      "model_module_version": "1.2.0",
      "model_name": "LayoutModel",
      "state": {
       "_model_module": "@jupyter-widgets/base",
       "_model_module_version": "1.2.0",
       "_model_name": "LayoutModel",
       "_view_count": null,
       "_view_module": "@jupyter-widgets/base",
       "_view_module_version": "1.2.0",
       "_view_name": "LayoutView",
       "align_content": null,
       "align_items": null,
       "align_self": null,
       "border": null,
       "bottom": null,
       "display": null,
       "flex": null,
       "flex_flow": null,
       "grid_area": null,
       "grid_auto_columns": null,
       "grid_auto_flow": null,
       "grid_auto_rows": null,
       "grid_column": null,
       "grid_gap": null,
       "grid_row": null,
       "grid_template_areas": null,
       "grid_template_columns": null,
       "grid_template_rows": null,
       "height": null,
       "justify_content": null,
       "justify_items": null,
       "left": null,
       "margin": null,
       "max_height": null,
       "max_width": null,
       "min_height": null,
       "min_width": null,
       "object_fit": null,
       "object_position": null,
       "order": null,
       "overflow": null,
       "overflow_x": null,
       "overflow_y": null,
       "padding": null,
       "right": null,
       "top": null,
       "visibility": null,
       "width": null
      }
     }
    },
    "version_major": 2,
    "version_minor": 0
   }
  }
 },
 "nbformat": 4,
 "nbformat_minor": 5
}