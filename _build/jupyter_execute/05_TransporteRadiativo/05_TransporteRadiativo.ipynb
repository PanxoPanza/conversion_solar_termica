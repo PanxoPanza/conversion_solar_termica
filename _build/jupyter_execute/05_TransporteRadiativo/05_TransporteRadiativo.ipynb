{
 "cells": [
  {
   "cell_type": "markdown",
   "id": "8b01ca79",
   "metadata": {
    "slideshow": {
     "slide_type": "slide"
    }
   },
   "source": [
    " <font size=\"6\">MEC501 - Manejo y Conversión de Energía Solar Térmica</font>\n",
    "# Transporte Radiativo\n",
    "<br><br><br><br>\n",
    "Profesor: Francisco Ramírez Cuevas<br>\n",
    "Fecha: 9 de Septiembre 2022"
   ]
  },
  {
   "cell_type": "markdown",
   "id": "9ff4cae4",
   "metadata": {
    "slideshow": {
     "slide_type": "slide"
    }
   },
   "source": [
    "## Coherencia de la luz e interferencia\n",
    "Como veremos en las próximas clases, las vibraciones moleculares en la materia son las responsables de emitir radiación en forma de ondas electromagnéticas. El mecanismo es similar, pero inverso, al mecanismo de absorción de luz, el cual es originado por la interacción de ondas electromagnéticas con las vibraciones moleculares (ver clase 3)."
   ]
  },
  {
   "cell_type": "markdown",
   "id": "bcb7cf39",
   "metadata": {
    "slideshow": {
     "slide_type": "fragment"
    }
   },
   "source": [
    "Dicho esto, dos moléculas pueden emitir radiación con una pequeña variación en la longitud de onda $\\Delta\\lambda$. Esto ocurre porque las vibraciones no están 100% correlacionadas, es decir, existe un grado de aletoriedad en las vibraciones."
   ]
  },
  {
   "cell_type": "markdown",
   "id": "16081fa2",
   "metadata": {
    "slideshow": {
     "slide_type": "slide"
    }
   },
   "source": [
    "Esta aletoriedad en las vibraciones da lugar a una distribución del flujo de radiación emitido por una fuente.\n",
    "\n",
    "<img src=\"./images/light_source_spectra.png\" width=\"800px\" align= center>"
   ]
  },
  {
   "cell_type": "markdown",
   "id": "b54cf722",
   "metadata": {
    "slideshow": {
     "slide_type": "slide"
    }
   },
   "source": [
    "Por ejemplo, consideremos una fuente de luz con una distribución espectral normal, centrada en $\\lambda_0$ y con una desviación estandar $\\pm\\sigma_\\lambda\\lambda_0$, con $\\sigma_\\lambda \\in [0,1]$. Imaginemos esta fuente como $N$ emisores, donde cada emisor $j$ emite ondas electromagnéticas con longitud de onda $\\lambda \\pm\\Delta \\lambda_j$, donde $\\Delta \\lambda_j$ es escogido aleatoriamente a partir de la distribución normal."
   ]
  },
  {
   "cell_type": "markdown",
   "id": "31f81723",
   "metadata": {
    "cell_style": "split",
    "slideshow": {
     "slide_type": "fragment"
    }
   },
   "source": [
    "<img src=\"./images/normal_distribution.png\" width=\"400px\" align= center>"
   ]
  },
  {
   "cell_type": "markdown",
   "id": "76d68ef4",
   "metadata": {
    "cell_style": "split",
    "slideshow": {
     "slide_type": "fragment"
    }
   },
   "source": [
    "Asumiendo ondas en el aire en dirección $\\hat{k} = \\hat{x}$, el campo eléctrico resultante es:\n",
    "\n",
    "\\begin{equation*}\n",
    "\\vec{E}_\\mathrm{tot} = \\sum_j^N E_0e^{i\\left(k_jx - \\omega_j t\\right)} \\hat{z},\n",
    "\\end{equation*}\n",
    "\n",
    "donde $k_j = \\frac{2\\pi}{\\lambda \\pm\\Delta \\lambda_j}$, y $\\omega_j = c_0k_j$"
   ]
  },
  {
   "cell_type": "markdown",
   "id": "e5e55e68",
   "metadata": {
    "cell_style": "center",
    "slideshow": {
     "slide_type": "fragment"
    }
   },
   "source": [
    "Analicemos el comportamiento de $\\vec{E}_\\mathrm{tot} /E_0$ para $\\lambda_0 = 500$ nm"
   ]
  },
  {
   "cell_type": "code",
   "execution_count": 1,
   "id": "37df7e74",
   "metadata": {
    "cell_style": "split",
    "slideshow": {
     "slide_type": "slide"
    },
    "tags": [
     "hide-input"
    ]
   },
   "outputs": [],
   "source": [
    "import numpy as np\n",
    "from numpy.random import normal\n",
    "import matplotlib.pyplot as plt\n",
    "\n",
    "def light_packet(kdir, x, t, lam, sig, N):\n",
    "    c0 = 3E8          # velocidad de la luz (m/s)\n",
    "    xx = np.meshgrid(x,np.ones(N))[0]\n",
    "    \n",
    "    # Generamos arreglo de ondas aleatorias\n",
    "    dlamj =  normal(0, lam*sig,N)\n",
    "    kj = (2*np.pi/(lam + dlamj)).reshape(-1,1)\n",
    "    wj = c0*kj\n",
    "    Erand = np.exp(1j*(kdir*kj*xx-wj*t)) \n",
    "    \n",
    "    # Sumamos todas las ondas\n",
    "    return np.sum(Erand,axis=0)\n",
    " \n",
    "def plot_light_packet(N, t, sig):\n",
    "    '''\n",
    "    n: número de ondas generadas\n",
    "    t: tiempo en ns\n",
    "    sig: % de ancho de banda (dlam = sig*lam)\n",
    "    '''\n",
    "    lam = 0.5         # longitud de onda (um)\n",
    "    t = t*1E-9 # convertimos ns a s\n",
    "    \n",
    "    # recorrido de la onda\n",
    "    x = np.linspace(-2,2,1000)  # desde 0 a 4 micrones\n",
    "    E = light_packet(1, x, t, lam, sig, N)\n",
    "    \n",
    "    # Graficamos\n",
    "    fig, ax = plt.subplots()\n",
    "    fig.set_size_inches(9, 5)\n",
    "    plt.rcParams['font.size'] = '18'\n",
    "    \n",
    "    ax.plot(x,np.real(E), 'k')\n",
    "    ax.set_xlabel('x ($\\mu$m)')\n",
    "    ax.set_ylabel('Amplitud $|E|/E_0$')\n",
    "    ax.set_ylim(-N*1.1,N*1.1)\n",
    "    ax.grid()\n"
   ]
  },
  {
   "cell_type": "code",
   "execution_count": 2,
   "id": "5c81aca7",
   "metadata": {
    "cell_style": "split",
    "slideshow": {
     "slide_type": "fragment"
    },
    "tags": [
     "hide-input"
    ]
   },
   "outputs": [
    {
     "data": {
      "application/vnd.jupyter.widget-view+json": {
       "model_id": "8b143c3ac68747f494276d42b9d1abc4",
       "version_major": 2,
       "version_minor": 0
      },
      "text/plain": [
       "interactive(children=(IntSlider(value=1000, description='N', max=1000, min=1), FloatSlider(value=0.0, descript…"
      ]
     },
     "metadata": {},
     "output_type": "display_data"
    }
   ],
   "source": [
    "from ipywidgets import interact\n",
    "\n",
    "@interact( N=(1,1000,1), \n",
    "           t=(-10,10,0.1),\n",
    "           sig=(0,1,0.01))\n",
    "def g(N=1000, t=0, sig=0.3):\n",
    "    return plot_light_packet(N,t,sig)"
   ]
  },
  {
   "cell_type": "markdown",
   "id": "b53bb755",
   "metadata": {
    "slideshow": {
     "slide_type": "slide"
    }
   },
   "source": [
    "### Longitud de coherencia\n",
    "Definimos como **longitud de coherencia**, $l_c$, a la distancia donde un grupo de ondas electromagnética mantiene correlación entre las fases. Para longitudes mayores a $l_c$, decimos que la luz es incoherente, es decir, el desface entre las distintas ondas es completamente aleatorio."
   ]
  },
  {
   "cell_type": "markdown",
   "id": "3ea340f8",
   "metadata": {
    "cell_style": "split",
    "slideshow": {
     "slide_type": "fragment"
    }
   },
   "source": [
    "<img src=\"./images/coherence_length.png\" width=\"300px\" align= center>\n",
    "\n",
    "<center>Esquema de un paquete de onda emitido por una fuente con longitud de coherencia $l_c$</center>"
   ]
  },
  {
   "cell_type": "markdown",
   "id": "1f71b46f",
   "metadata": {
    "cell_style": "split",
    "slideshow": {
     "slide_type": "fragment"
    }
   },
   "source": [
    "La relación entre $l_c$, la longitud de onda central $\\lambda$ y el ancho de banda $\\Delta\\lambda$ está dado, aproximadamente, por la relación:\n",
    "\n",
    "\\begin{equation*}\n",
    "l_c \\approx \\frac{\\lambda^2}{n\\Delta \\lambda},\n",
    "\\end{equation*}\n",
    "\n",
    "donde $n$ es el indice de refracción del medio donde se propaga la luz.\n",
    "\n",
    "Por ejemplo, para lasers He-Ne (laser rojo)  $l_c\\approx 0.2 - 100$ m.  "
   ]
  },
  {
   "cell_type": "markdown",
   "id": "b8e319bd",
   "metadata": {
    "slideshow": {
     "slide_type": "slide"
    }
   },
   "source": [
    "Para radiación emitida por un cuerpo a temperatura $T$, la longitud de coherencia está dada por:\n",
    "\n",
    "\\begin{equation*}\n",
    "l_c T = 2167.8~\\mathrm{\\mu m~K}\n",
    "\\end{equation*}\n",
    "\n",
    "Así, por ejemplo, la radiación solar ($T \\approx 5800~\\mathrm{K}$) tiene una longitud de coherencia, $l_c \\approx 370~\\mathrm{nm}$"
   ]
  },
  {
   "cell_type": "markdown",
   "id": "659f7454",
   "metadata": {
    "slideshow": {
     "slide_type": "slide"
    }
   },
   "source": [
    "### Régimen de trasporte de luz\n",
    "Consideremos dos paquetes de onda con una longitud de coherencia $l_c$, viajando en sentido opuesto."
   ]
  },
  {
   "cell_type": "markdown",
   "id": "1b6928bc",
   "metadata": {
    "slideshow": {
     "slide_type": "fragment"
    }
   },
   "source": [
    "Podemos ver que ambos paquetes de luz interfieren en $x = 0$ en un instante $t$. Al continuar su camino, ambos paquetes de onda recuperan su forma original."
   ]
  },
  {
   "cell_type": "code",
   "execution_count": 3,
   "id": "8b9e3e63",
   "metadata": {
    "cell_style": "split",
    "slideshow": {
     "slide_type": "slide"
    },
    "tags": [
     "hide-input"
    ]
   },
   "outputs": [],
   "source": [
    "def plot_2light_packet(n, t, sig):\n",
    "    '''\n",
    "    n: número de ondas generadas\n",
    "    t: tiempo en ns\n",
    "    sig: % de ancho de banda (dlam = sig*lam)\n",
    "    '''\n",
    "    t = t*1E-9 # convertimos ns a s\n",
    "    lam = 0.5\n",
    "    \n",
    "    # recorrido de la onda\n",
    "    x = np.linspace(-2,2,1000)  # desde 0 a 4 micrones\n",
    "    k0 = 2*np.pi/lam\n",
    "    Efw = light_packet( 1, x - x[ 0], t, lam, sig, n)\n",
    "    Ebw = light_packet(-1, x - x[-1], t, lam, sig, n)\n",
    "    \n",
    "    # Graficamos\n",
    "    fig, ax = plt.subplots()\n",
    "    fig.set_size_inches(9, 5)\n",
    "    plt.rcParams['font.size'] = '18'\n",
    "    \n",
    "    ax.plot(x,np.real(Efw + Ebw), 'k')\n",
    "    ax.set_xlabel('x ($\\mu$m)')\n",
    "    ax.set_ylabel('Amplitud $|E|/E_0$')\n",
    "    ax.set_ylim(-n*2.1,n*2.1)\n",
    "    ax.grid()\n"
   ]
  },
  {
   "cell_type": "code",
   "execution_count": 4,
   "id": "977daeda",
   "metadata": {
    "cell_style": "split",
    "tags": [
     "hide-input"
    ]
   },
   "outputs": [
    {
     "data": {
      "application/vnd.jupyter.widget-view+json": {
       "model_id": "b9e2878eaf9044818c66e6432cc18e45",
       "version_major": 2,
       "version_minor": 0
      },
      "text/plain": [
       "interactive(children=(IntSlider(value=1000, description='N', max=1000, min=1), FloatSlider(value=2.0, descript…"
      ]
     },
     "metadata": {},
     "output_type": "display_data"
    }
   ],
   "source": [
    "from ipywidgets import interact\n",
    "\n",
    "@interact( N=(1,1000,1), \n",
    "           t=(0,20,0.1),\n",
    "           sig=(0,1,0.01))\n",
    "def g(N=1000, t=2, sig=0.3):\n",
    "    return plot_2light_packet(N,t,sig)"
   ]
  },
  {
   "cell_type": "markdown",
   "id": "615ad1c6",
   "metadata": {
    "slideshow": {
     "slide_type": "slide"
    }
   },
   "source": [
    "A partir de esto, podemos concluir que los fenómenos de interferencia en películas de capa delgada de espesor $d$ no serían visibles si $d > l_c$. En otras palabras, el fenómeno de interferencia solo existe si el paquete de onda interfiere consigo mismo."
   ]
  },
  {
   "cell_type": "markdown",
   "id": "db4d20e4",
   "metadata": {
    "cell_style": "split",
    "slideshow": {
     "slide_type": "fragment"
    }
   },
   "source": [
    "<img src=\"./images/interference_thinfilm.png\" width=\"200px\" align= center>\n",
    "\n",
    "<center>Propagación de una onda a través de una película de espesor $d$, con $l_c < d$</center>"
   ]
  },
  {
   "cell_type": "markdown",
   "id": "fce7ef57",
   "metadata": {
    "cell_style": "split",
    "slideshow": {
     "slide_type": "fragment"
    }
   },
   "source": [
    "En general, para una longitud características $d$:\n",
    "\n",
    "- Si $d > l_c$ el **transporte de luz es incoherente** . En este régimen, podemos ignorar las propiedades oscilatorias de la luz, y analizar el problema como el transporte de pequeños paquetes de onda, o simplemente como partículas.\n",
    "\n",
    "- Si $d < l_c$, el **transporte de luz es coherente**. En este régimen debemos considerar las propiedades oscilatorias a partir de las Ecuaciones de Maxwell."
   ]
  },
  {
   "cell_type": "markdown",
   "id": "06aab8e7",
   "metadata": {
    "cell_style": "center",
    "slideshow": {
     "slide_type": "slide"
    }
   },
   "source": [
    "Así, los coeficientes de Fresnel para una película delgada solo son válidos para $d < l_c$. "
   ]
  },
  {
   "cell_type": "markdown",
   "id": "c7f85265",
   "metadata": {
    "cell_style": "split",
    "slideshow": {
     "slide_type": "fragment"
    }
   },
   "source": [
    "Los coeficientes de Fresnel para una interface, en cambio, siempre son válidos."
   ]
  },
  {
   "cell_type": "markdown",
   "id": "57178760",
   "metadata": {
    "cell_style": "split",
    "slideshow": {
     "slide_type": "fragment"
    }
   },
   "source": [
    "<img src=\"./images/interference_interface.png\" width=\"350px\" align= center>\n",
    "\n",
    "<center>Refracción y reflexión de una onda incoherente a través de una interfaz</center>"
   ]
  },
  {
   "cell_type": "markdown",
   "id": "0c79f1b6",
   "metadata": {
    "slideshow": {
     "slide_type": "slide"
    }
   },
   "source": [
    "Igualmente, en medios particulados, los fenómenos de interferencia pueden ocurrir si las partículas están suficientemente cerca y tienen tamaños similares. Llamamos a esto **scattering coherente**"
   ]
  },
  {
   "cell_type": "markdown",
   "id": "61e2a519",
   "metadata": {
    "slideshow": {
     "slide_type": "fragment"
    }
   },
   "source": [
    "<img src=\"./images/scattering_coherence.png\" width=\"600px\" align= center>\n",
    "\n",
    "<center>Fenómeno de interferencia en scattering</center>"
   ]
  },
  {
   "cell_type": "markdown",
   "id": "8167d93c",
   "metadata": {
    "slideshow": {
     "slide_type": "slide"
    }
   },
   "source": [
    "El fenómeno de scattering coherente da lugar a los denominados **colores estructurales** presentes en las alas de las aves y mariposas (mas info [acá](https://wires.onlinelibrary.wiley.com/doi/10.1002/wnan.1396))"
   ]
  },
  {
   "cell_type": "markdown",
   "id": "06446d60",
   "metadata": {
    "cell_style": "split",
    "slideshow": {
     "slide_type": "fragment"
    }
   },
   "source": [
    "<img src=\"./images/structural_colors_birds.png\" width=\"550px\" align= center>\n",
    "\n",
    "<center>Colores estructurales en alas de aves</center>\n",
    "\n",
    "Fuente: [Hwang, V. et al. PNAS 118 (4) e2015551118\n",
    " (2020)](https://www.pnas.org/doi/10.1073/pnas.2015551118)"
   ]
  },
  {
   "cell_type": "markdown",
   "id": "71eaafb2",
   "metadata": {
    "cell_style": "split",
    "slideshow": {
     "slide_type": "fragment"
    }
   },
   "source": [
    "<img src=\"./images/structural_colors_buterflies.png\" width=\"450px\" align= center>\n",
    "\n",
    "<center>Colores estructurales en alas de mariposa</center>\n",
    "\n",
    "Fuente: [Tippets C. A. et al. J. Opt. 18 (2016) 065105](https://iopscience.iop.org/article/10.1088/2040-8978/18/6/065105)"
   ]
  },
  {
   "cell_type": "markdown",
   "id": "f629fcbe",
   "metadata": {
    "slideshow": {
     "slide_type": "slide"
    }
   },
   "source": [
    "## Teoría de transferencia radiativa\n",
    "Si el transporte de luz es incoherente, podemos ignorar las propiedades oscilatorias de la luz y analizar el fenómeno óptico como un el transporte de radiación a través de un volumen de control."
   ]
  },
  {
   "cell_type": "markdown",
   "id": "f62e3c70",
   "metadata": {
    "slideshow": {
     "slide_type": "slide"
    }
   },
   "source": [
    "### Intensidad específica"
   ]
  },
  {
   "cell_type": "markdown",
   "id": "790c7714",
   "metadata": {
    "cell_style": "split",
    "slideshow": {
     "slide_type": "-"
    }
   },
   "source": [
    "Definimos como **radiancia espectral o intensidad específica**, $I_\\lambda$, al flujo de energía por **ángulo sólido diferencial**, $d\\Omega$, para una longitud de onda $\\lambda$.\n",
    "\n",
    "<img src=\"./images/specific_intensity.png\" width=\"300px\" align= center>"
   ]
  },
  {
   "cell_type": "markdown",
   "id": "8568f20b",
   "metadata": {
    "cell_style": "split",
    "slideshow": {
     "slide_type": "fragment"
    }
   },
   "source": [
    "El ángulo sólido define el tamaño relativo del área $S$ para un observador en $P$ a una distancia $r$. \n",
    "\n",
    "El diferencial está definido por $d\\Omega = \\sin\\theta d\\theta d\\phi$\n",
    "\n",
    "<img src=\"./images/solid_angle.png\" width=\"450px\" align= center>"
   ]
  },
  {
   "cell_type": "markdown",
   "id": "0d8ed016",
   "metadata": {
    "slideshow": {
     "slide_type": "slide"
    }
   },
   "source": [
    "Es importante aclarar que los conceptos intensidad específica y vector de Poynting $\\langle\\vec{S}\\rangle$, son equivalentes: $I_\\lambda(\\hat{k})$ es un término utilizado en radiometría para definir el flujo de energía por unidad de ángulo sólido, mientras que $\\langle\\vec{S}\\rangle$ es un término ulizado en óptica para describir el flujo de energía en dirección $\\hat{k}$. Cabe destacar, sin embargo, que $I_\\lambda(\\hat{k})$ es una magnitud, y $\\langle\\vec{S}\\rangle$ es un vector. Así, podríamos decir que la relación entre estos dos términos está dada por $I_\\lambda(\\hat{k}) = \\langle\\vec{S}\\rangle\\cdot\\hat{k}$."
   ]
  },
  {
   "cell_type": "markdown",
   "id": "067ade0b",
   "metadata": {
    "slideshow": {
     "slide_type": "fragment"
    }
   },
   "source": [
    "El ángulo sólido total para una esfera es:\n",
    "\\begin{equation*}\n",
    "\\int_\\mathrm{esfera} d\\Omega = \\int_0^{2\\pi}\\int_0^{\\pi} \\sin\\theta d\\theta d\\phi= 4\\pi\n",
    "\\end{equation*}"
   ]
  },
  {
   "cell_type": "markdown",
   "id": "921c9262",
   "metadata": {
    "slideshow": {
     "slide_type": "slide"
    }
   },
   "source": [
    "### Ecuación de transferencia radiativa\n",
    "La **ecuación de transferencia radiativa** (RTE por sus siglas en ingles), es una ecuación de transporte que describe la propagación de la radiancia espectral, $I_\\lambda(\\vec{r},\\hat{k})$, en función de la posición posición $\\vec{r}$ y dirección $\\hat{k}$. En su forma más general, para un problema estacionario:\n",
    "\n",
    "\\begin{equation}\n",
    "\\hat{k}\\cdot\\nabla_r I_\\lambda(\\vec{r},\\hat{k}) = - \\left[\\frac{f_v}{V_p}C_\\mathrm{ext} + 2\\kappa k_0\\right]I_\\lambda(\\vec{r},\\hat{k}) + \\frac{f_v}{V_p}\\int_{4\\pi} P_\\mathrm{sca}(\\hat{k},\\hat{k}') I_\\lambda(\\vec{r},\\hat{k}') d\\Omega'\n",
    "\\end{equation}"
   ]
  },
  {
   "cell_type": "markdown",
   "id": "44c82ce8",
   "metadata": {
    "slideshow": {
     "slide_type": "fragment"
    }
   },
   "source": [
    "donde $f_v$ y $V_p$ son, respectivamente la fracción de volúmen y el volúmen de las partículas en el medio, y $P_\\mathrm{sca}(\\hat{k},\\hat{k}')$ es la función de fase."
   ]
  },
  {
   "cell_type": "markdown",
   "id": "84f7041f",
   "metadata": {
    "slideshow": {
     "slide_type": "slide"
    }
   },
   "source": [
    "Notar que consideramos el caso más generalizado de la función de fase, que depende tanto de la dirección de la radiación incidente $\\hat{k}$ como de la dirección del scattering $\\hat{k}'$. Ambas definidas por ángulo sólido"
   ]
  },
  {
   "cell_type": "markdown",
   "id": "556660a5",
   "metadata": {
    "cell_style": "center",
    "slideshow": {
     "slide_type": "fragment"
    }
   },
   "source": [
    "En el caso de una esfera, $\\hat{k}_\\mathrm{sca} = \\hat{k}$ y $\\hat{k}_\\mathrm{inc} = \\hat{k}'$. Así, la función de fase depende de $\\theta$, el cual está definido por $\\cos\\theta = \\hat{k}\\cdot\\hat{k}'$\n",
    "\n"
   ]
  },
  {
   "cell_type": "markdown",
   "id": "b7b71333",
   "metadata": {
    "slideshow": {
     "slide_type": "slide"
    }
   },
   "source": [
    "Con esto en mente, ahora podemos discutir el significado de los términos en la RTE:"
   ]
  },
  {
   "cell_type": "markdown",
   "id": "12e1a1e8",
   "metadata": {
    "slideshow": {
     "slide_type": "fragment"
    }
   },
   "source": [
    "- El primer término representa el cambio de $I_\\lambda(\\vec{r},\\hat{k})$ a través volumen diferencial. Por ejemplo, en el caso unidimencional en dirección $\\hat{k} = \\hat{x}$, tenemos: \n",
    "\n",
    "\\begin{equation*}\n",
    "\\hat{x}\\cdot\\nabla_r I_\\lambda(\\vec{r},\\hat{k}) = \\frac{\\partial}{\\partial x}I_\\lambda(\\vec{r},\\hat{k})\n",
    "\\end{equation*}"
   ]
  },
  {
   "cell_type": "markdown",
   "id": "231c3da9",
   "metadata": {
    "slideshow": {
     "slide_type": "fragment"
    }
   },
   "source": [
    "- El segundo término representa la pérdida de energía radiativa, por extinción $\\left(\\frac{f_v}{V_p}C_\\mathrm{ext}\\right)$ y absorción en el material material ($2\\kappa k_0$), respectivamente. Recordemos que la extinción representa la energía absorbida por las partículas + la energía de scattering en direcciónes distintas a $\\hat{k}$, es decir $C_\\mathrm{ext}= C_\\mathrm{abs} + C_\\mathrm{sca}$."
   ]
  },
  {
   "cell_type": "markdown",
   "id": "4754c5ed",
   "metadata": {
    "slideshow": {
     "slide_type": "fragment"
    }
   },
   "source": [
    "- El tercer término representa la ganancia de energía radiativa produco del scattering inducido por radiación incidente en dirección $\\hat{k}'$. Este término representa el fenómeno de **scattering múltiple**."
   ]
  },
  {
   "cell_type": "markdown",
   "id": "43766712",
   "metadata": {
    "slideshow": {
     "slide_type": "slide"
    }
   },
   "source": [
    "## Soluciones de la RTE\n",
    "La ecuación de transferencia radiativa permite explicar de forma fenomenológica el transporte de radiación en un medio particulado. Debido a su complejidad, existen pocas soluciones analíticas. En esta sección describiremos las tres más conocidas."
   ]
  },
  {
   "cell_type": "markdown",
   "id": "6037462f",
   "metadata": {
    "slideshow": {
     "slide_type": "slide"
    }
   },
   "source": [
    "### Película de material sin partículas (Reflectividad y Transmisividad incoherente)\n",
    "En el caso de un medio sin partículas solo debemos considerar el primer término de la RTE. "
   ]
  },
  {
   "cell_type": "markdown",
   "id": "38e80853",
   "metadata": {
    "slideshow": {
     "slide_type": "fragment"
    }
   },
   "source": [
    "Para el caso particular de un material de espesor $t_\\mathrm{film}$ e índice de refracción $N = n + \\kappa$, rodeado por un medio con índice de refracción $N_0$, derivamos las siguientes relaciones de reflectividad y tranmisividad para luz incoherente:\n",
    "\n",
    "\\begin{align}\n",
    "R_\\mathrm{incoh}&= R_0 + \\frac{T_0^2R_0e^{-4\\kappa k_0 t_\\mathrm{film}}}{1 - R_0^2e^{-4\\kappa k_0 t_\\mathrm{film}}} \n",
    "\\\\[10pt]\n",
    "T_\\mathrm{incoh} &= \\frac{T_0^2e^{-4\\kappa k_0 t_\\mathrm{film}}}{1 - R_0^2e^{-4\\kappa k_0 t_\\mathrm{film}}}\n",
    "\\end{align}\n",
    "\n",
    "donde $R_0$ y $T_0$ corresponden, respectivamente, a la reflectividad y transmisividad en la interface $N_0 / N_1$"
   ]
  },
  {
   "cell_type": "markdown",
   "id": "7b8cb924",
   "metadata": {
    "slideshow": {
     "slide_type": "slide"
    }
   },
   "source": [
    "En el siguiente ejemplo, utilizamos la función ```incoh_multilayer``` de la libreria ```empylib.waveoptics```. Esta función es más general que la ecuación anterior y permite determinar $R_\\mathrm{incoh}$ y $T_\\mathrm{incoh}$ para arreglos multicapas. "
   ]
  },
  {
   "cell_type": "markdown",
   "id": "2a3e7bbc",
   "metadata": {
    "slideshow": {
     "slide_type": "fragment"
    }
   },
   "source": [
    "En este caso, evaluaremos una película de sílice de espesor $1~\\mu\\mathrm{m}$, sobre un sustrato con íncide de refracción $N_\\mathrm{back} = 4.3$, y con aire en la superficie $N_\\mathrm{front} = 1.0$. El espectro de longitudes de onda $\\lambda\\in[0.3,0.8]~\\mu\\mathrm{m}$ y el ángulo de incidencia $\\theta_i = 30°$. Para comparar, determinaremos $R$ y $T$ para el caso de luz coherente."
   ]
  },
  {
   "cell_type": "code",
   "execution_count": 5,
   "id": "a99aa431",
   "metadata": {
    "cell_style": "split",
    "slideshow": {
     "slide_type": "slide"
    },
    "tags": [
     "hide-input"
    ]
   },
   "outputs": [],
   "source": [
    "import numpy as np\n",
    "import empylib.waveoptics as wv\n",
    "import empylib.nklib as nk\n",
    "\n",
    "lam = np.linspace(2,10,100)  # espectro de longitudes de onda (um)\n",
    "theta = np.radians(30)          # ángulo de incidencia\n",
    "\n",
    "Nfront = 1.0                 # índice de refracción medio superior\n",
    "N1     = nk.SiO2(lam)        # índice de refracción capa delgada\n",
    "Nback  = 4.3                 # índice de refracción medio inferior\n",
    "N = (Nfront, N1, Nback)      # indices de refracción (above, mid, below)\n",
    "d = 1.0                      # espesor capa intermedia (um)\n",
    "\n",
    "# caso luz incoherente\n",
    "Rp_incoh, Tp_incoh = wv.incoh_multilayer(lam,theta, N, d, pol='TM')\n",
    "# caso luz coherente\n",
    "Rp, Tp = wv.multilayer(lam,theta, N, d, pol='TM')[:2]"
   ]
  },
  {
   "cell_type": "code",
   "execution_count": 6,
   "id": "3bee2ad8",
   "metadata": {
    "cell_style": "split",
    "slideshow": {
     "slide_type": "fragment"
    },
    "tags": [
     "hide-input"
    ]
   },
   "outputs": [
    {
     "data": {
      "image/png": "[encoded data removed]",
      "text/plain": [
       "<Figure size 700x500 with 1 Axes>"
      ]
     },
     "metadata": {
      "filenames": {
       "image/png": "/mnt/c/Users/frami/OneDrive - Universidad Adolfo Ibanez/Teaching_courses/MEC501 - Manejo_y_Conversion_Energia_Solar_Termica/material_catedra/_build/jupyter_execute/05_TransporteRadiativo/05_TransporteRadiativo_49_0.png"
      }
     },
     "output_type": "display_data"
    }
   ],
   "source": [
    "fig, ax = plt.subplots()\n",
    "fig.set_size_inches(7, 5)\n",
    "plt.rcParams['font.size'] = '16'\n",
    "\n",
    "# Graficamos el flujo de energía\n",
    "plt.plot(lam,Rp,'--r',label='$R_\\mathrm{TM}$ (coh)')\n",
    "plt.plot(lam,Tp,'--b',label='$T_\\mathrm{TM}$ (coh)')\n",
    "plt.plot(lam,Rp_incoh,'-r',label='$R_\\mathrm{TM}$ (incoh)')\n",
    "plt.plot(lam,Tp_incoh,'-b',label='$T_\\mathrm{TM}$ (incoh)')\n",
    "plt.title('arreglo 1.0/1.5/4.3')\n",
    "plt.xlabel('Longitud de onda ($\\mu$m)')\n",
    "plt.ylabel('Refletividad / Transmisividad')\n",
    "plt.legend()\n",
    "plt.show()"
   ]
  },
  {
   "cell_type": "markdown",
   "id": "c6ed7877",
   "metadata": {
    "slideshow": {
     "slide_type": "slide"
    }
   },
   "source": [
    "En la figura, para el caso de luz coherente, notamos oscilaciones en $R$ y $T$ producto de los fenómenos de interferencia. En el caso de luz incoherente, el fenómeno de interferencia desaparace."
   ]
  },
  {
   "cell_type": "markdown",
   "id": "a5316b37",
   "metadata": {
    "slideshow": {
     "slide_type": "slide"
    }
   },
   "source": [
    "### Película de material con baja concentración de partículas (Ley de Beer-Lambert)\n",
    "Definimos el **camino libre medio de scattering**, como $\\Lambda_\\mathrm{sca} = \\left(f_v C_\\mathrm{sca}/V_p\\right)^{-1}$. Este parametro representa la distancia promedio que recorre la luz entre eventos de scattering."
   ]
  },
  {
   "cell_type": "markdown",
   "id": "a352fb08",
   "metadata": {
    "cell_style": "center",
    "slideshow": {
     "slide_type": "fragment"
    }
   },
   "source": [
    "Si $\\Lambda_\\mathrm{sca}$ es mayor que el espesor del material, $t_\\mathrm{film}$, la probabilidad de que ocurran más de un evento scattering es despreciable, y decimos que el **scattering es de primer orden**. En este caso, el tercer término de la RTE es despreciable y la radiación solo pierde energía por absorción del material o extinción inducida por las partículas."
   ]
  },
  {
   "cell_type": "markdown",
   "id": "9407f0e6",
   "metadata": {
    "slideshow": {
     "slide_type": "slide"
    }
   },
   "source": [
    "La solución a esta ecuación se conoce como la ley de Beer-Lambert. Mediante esta aproximación podemos deducir las componentes total y especular de la transmitancia:\n",
    "\n",
    "\\begin{equation}\n",
    "T_\\mathrm{tot} = T_0 e^{-f_v\\frac{C_\\mathrm{abs}}{V_p}t_\\mathrm{film}}\\quad\\quad\\mathrm{and}\\quad\\quad \n",
    "T_\\mathrm{spec} = T_0 e^{-f_v\\frac{C_\\mathrm{ext}}{V_p}t_\\mathrm{film}}\n",
    "\\end{equation}\n",
    "\n",
    "donde, $T_0$ es la **transmisividad incoherente del material sin incrustaciones**."
   ]
  },
  {
   "cell_type": "markdown",
   "id": "2f29ecb5",
   "metadata": {
    "slideshow": {
     "slide_type": "fragment"
    }
   },
   "source": [
    "<img src=\"./images/beer_lambert.png\" width=\"500px\" align= center>\n",
    "\n",
    "<center>Transporte de luz en un medio con scattering de primer orden</center>"
   ]
  },
  {
   "cell_type": "markdown",
   "id": "963bc3c6",
   "metadata": {
    "slideshow": {
     "slide_type": "slide"
    }
   },
   "source": [
    "Podemos utilizar la ley de Beer-Lambert para analizar, de forma aproximada, el efecto del color del cielo durante el día y en la tarde."
   ]
  },
  {
   "cell_type": "markdown",
   "id": "227d193d",
   "metadata": {
    "slideshow": {
     "slide_type": "fragment"
    }
   },
   "source": [
    "El color del cielo está dado por la componente difusa. Así calculamos $T_\\mathrm{dif} = T_\\mathrm{tot} - T_\\mathrm{spec}$."
   ]
  },
  {
   "cell_type": "markdown",
   "id": "a2577fed",
   "metadata": {
    "slideshow": {
     "slide_type": "fragment"
    }
   },
   "source": [
    "Consideremos una atmosfera compuesta de aire ($N_h = 1.0$) y una pequeña concentración ($f_v = 1\\times 10^{-6}~\\%$) de partículas de 10 nm de diámetro e índice de refracción $N_p = 1.5$. El espesor de la atmosfera es $t_\\mathrm{atm} = 100~\\mathrm{km}$"
   ]
  },
  {
   "cell_type": "code",
   "execution_count": 7,
   "id": "33491447",
   "metadata": {
    "cell_style": "center",
    "slideshow": {
     "slide_type": "slide"
    },
    "tags": [
     "hide-input"
    ]
   },
   "outputs": [],
   "source": [
    "import empylib.rad_transfer as rt\n",
    "import empylib.nklib as nk\n",
    "import numpy as np\n",
    "import matplotlib.pyplot as plt\n",
    "from empylib.ref_spectra import AM15, Bplanck\n",
    "from empylib.ref_spectra import color_system as cs\n",
    "cs = cs.hdtv\n",
    "\n",
    "lam1 = np.linspace(0.38,0.78,100) # espectro de longitudes de onda\n",
    "cs.interp_internals(lam1)\n",
    "def plot_atmosphere(theta_sun):\n",
    "    fig, ax = plt.subplots()          \n",
    "    fig.set_size_inches(8, 5)         # Tamaño del gráfico\n",
    "    plt.rcParams['font.size'] = '14'  # tamaño de  fuente\n",
    "    \n",
    "    # parámetros de entrada\n",
    "    tatm = 100E6                      # espesor de la atmósfera en mm\n",
    "    N = (1.0,1.0,1.0)                 # indice de refracción superior, intermedio e inferior\n",
    "    fvp = 1E-8                        # fracción de volúmen de las partículas\n",
    "    Dp = 0.010                        # diámetro de las partículas\n",
    "    Np = 1.5                          # índice de refracción de las partículas\n",
    "    \n",
    "    # transmitancia total y especular\n",
    "    theta = np.radians(theta_sun)    # posición del sol en radianes\n",
    "    Ttot, Tspec = rt.T_beer_lambert(lam1,theta,tatm,N,fvp,Dp,Np)[:2]\n",
    "    \n",
    "    Tdif = Ttot - Tspec              # transmitancia difusa\n",
    "    ax.plot(lam1,Tdif,'-k',label = 'Tdif')\n",
    "    ax.set_xlabel('Longitud de onda ($\\mu$m)')\n",
    "    ax.set_ylabel('Transmisividad')\n",
    "    ax.set_title(r'Posición del sol, $\\theta_\\mathrm{sun}$=%.1f°'% (theta_sun))\n",
    "    ax.set_ylim(0,1.05)\n",
    "    \n",
    "    Dcircle = 0.25\n",
    "    ax2 = fig.add_axes([0.11,0.15, Dcircle, Dcircle])\n",
    "    Irad = Tdif*Bplanck(lam1,5777)\n",
    "    html_rgb = cs.spec_to_rgb(Irad, out_fmt='html')\n",
    "    Circle = plt.Circle((0, 0), Dcircle, color=html_rgb)\n",
    "    ax2.add_patch(Circle)\n",
    "    ax2.set_aspect('equal')\n",
    "    ax2.set_xlim(-Dcircle*1.2,Dcircle*1.2)\n",
    "    ax2.set_ylim(-Dcircle*1.2,Dcircle*1.2)\n",
    "    ax2.set_xticks([])\n",
    "    ax2.set_yticks([])\n",
    "    ax2.set_facecolor('k')"
   ]
  },
  {
   "cell_type": "code",
   "execution_count": 8,
   "id": "f3b08336",
   "metadata": {
    "cell_style": "center",
    "slideshow": {
     "slide_type": "slide"
    },
    "tags": [
     "hide-input"
    ]
   },
   "outputs": [
    {
     "data": {
      "application/vnd.jupyter.widget-view+json": {
       "model_id": "1a8eab93da01457ebc1c0026f07384c2",
       "version_major": 2,
       "version_minor": 0
      },
      "text/plain": [
       "interactive(children=(FloatSlider(value=0.0, description='theta_sun', max=89.99), Output()), _dom_classes=('wi…"
      ]
     },
     "metadata": {},
     "output_type": "display_data"
    }
   ],
   "source": [
    "from ipywidgets import interact\n",
    "\n",
    "@interact(theta_sun=(0,89.99,0.1))\n",
    "def g(theta_sun=0):\n",
    "    return plot_atmosphere(theta_sun)"
   ]
  },
  {
   "cell_type": "markdown",
   "id": "8aa6d072",
   "metadata": {
    "cell_style": "center",
    "slideshow": {
     "slide_type": "slide"
    }
   },
   "source": [
    "### Pelicula de material particulado (simulaciones de transferencia radiativa)\n",
    "Este caso corresponde a materiales con $\\Lambda_\\mathrm{sca} > t_\\mathrm{film}$. En este caso los eventos de scattering se producen más de una vez, y decimos que estámos en un régimen de **scattering múltiple**. Como resultado, los tres términos de la RTE son relevantes y debemos resolver la ecuación mediante simulación computacional.\n",
    "\n",
    "<img src=\"./images/multiple_scattering.png\" width=\"400px\" align= center>\n",
    "\n",
    "<center>Transporte de luz en un medio con scattering múltiple</center>"
   ]
  },
  {
   "cell_type": "markdown",
   "id": "bea5c468",
   "metadata": {
    "slideshow": {
     "slide_type": "slide"
    }
   },
   "source": [
    "Consideremos un material de sílice de espesor $t_\\mathrm{film} = 5~\\mathrm{mm}$. Evaluaremos los colores de este material en transmisión y reflección para luz incidente normal a la superficie en función de la concentración y el diámetro de las partículas. Utilizamos la función ```ad_rad_transfer``` de la librería ```empylib.rad_transfer```"
   ]
  },
  {
   "cell_type": "code",
   "execution_count": 9,
   "id": "24c8d4d6",
   "metadata": {
    "slideshow": {
     "slide_type": "slide"
    },
    "tags": [
     "hide-input"
    ]
   },
   "outputs": [],
   "source": [
    "import empylib.rad_transfer as rt\n",
    "import empylib.nklib as nk\n",
    "import empylib.miescattering as mie\n",
    "import numpy as np\n",
    "import matplotlib.pyplot as plt\n",
    "\n",
    "lam2 = np.linspace(0.3,1.0,100) # espectro de longitudes de onda en micrometros\n",
    "Nlayers = (1.0,1.5,1.0)   # indice de refracción superior, intermedio e inferior\n",
    "Np = nk.silver(lam2)                # Índice de refracción de las partículas\n",
    "cs.interp_internals(lam2)\n",
    "\n",
    "def plot_glass_silver(fv,D):\n",
    "    # parámetros de entrada\n",
    "    \n",
    "    theta = np.radians(0)       # 0 grados en radianes\n",
    "    tfilm = 5                   # espesor en milímetros\n",
    "    \n",
    "    fv = fv*1E-7                # fracción de volúmen de las partículas\n",
    "    D = D*1E-3                  # diámetro de las partículas\n",
    "    \n",
    "    qext, qsca = mie.scatter_efficiency(lam2,Nlayers[1],Np,D)[:2]\n",
    "    qabs = qext - qsca\n",
    "    Rtot, Ttot = rt.adm_sphere(lam2,tfilm,Nlayers,fv,D,Np)\n",
    "\n",
    "    fig, ax = plt.subplots(1,3)\n",
    "    fig.set_size_inches(20, 5)\n",
    "    plt.rcParams['font.size'] = '16'\n",
    "    \n",
    "    ax[0].plot(lam2,qsca,'-r',label='$C_\\mathrm{sca} A_c$')\n",
    "    ax[0].plot(lam2,qabs,'-b',label='$C_\\mathrm{abs} A_c$')\n",
    "    ax[0].set_xlabel('Longitud de onda ($\\mu$m)')\n",
    "    ax[0].set_ylabel('Eficiencia transversal')\n",
    "    ax[0].set_title('Partícula de plata (D=%.0f nm)' % (D*1E3))\n",
    "    ax[0].legend()\n",
    "    ax[0].set_ylim(0,10)\n",
    "    \n",
    "    ax[1].plot(lam2,Rtot,'-r',label = 'Rtot')\n",
    "    ax[1].plot(lam2,Ttot,'-b',label = 'Ttot')\n",
    "    ax[1].set_xlabel('Longitud de onda ($\\mu$m)')\n",
    "    ax[1].set_ylabel('Transmisividad')\n",
    "    ax[1].set_title(r'Sílice con plata (fv = %.3e %%)' % (fv*100) )\n",
    "    ax[1].legend()\n",
    "    ax[1].set_ylim(0,1)\n",
    "\n",
    "    Dcircle = 0.20\n",
    "    html_rgb = cs.spec_to_rgb(Ttot*AM15(lam2), out_fmt='html')\n",
    "    Circle = plt.Circle((0, 0), Dcircle, color=html_rgb)\n",
    "    ax[2].add_patch(Circle)\n",
    "    ax[2].annotate('Luz Trasera', xy=(0, 0), va='center', ha='center')\n",
    "\n",
    "    html_rgb = cs.spec_to_rgb(Rtot*AM15(lam2), out_fmt='html')\n",
    "    Circle = plt.Circle((Dcircle*1.2*2, 0), Dcircle, color=html_rgb)\n",
    "    ax[2].add_patch(Circle)\n",
    "    ax[2].annotate('Luz Frontal', xy=(Dcircle*1.2*2, 0), va='center', ha='center')\n",
    "\n",
    "    ax[2].set_aspect('equal')\n",
    "    ax[2].set_xlim(-Dcircle*1.2,Dcircle*1.2*3)\n",
    "    ax[2].set_ylim(-Dcircle*1.2,Dcircle*1.2)\n",
    "    ax[2].set_xticks([])\n",
    "    ax[2].set_yticks([])\n",
    "    ax[2].set_facecolor('k')\n",
    "    plt.subplots_adjust(wspace=0.3)"
   ]
  },
  {
   "cell_type": "code",
   "execution_count": 10,
   "id": "494ceeb2",
   "metadata": {
    "cell_style": "center",
    "slideshow": {
     "slide_type": "slide"
    },
    "tags": [
     "hide-input"
    ]
   },
   "outputs": [
    {
     "data": {
      "application/vnd.jupyter.widget-view+json": {
       "model_id": "5a003c9e54884cf083cf968840c61fdf",
       "version_major": 2,
       "version_minor": 0
      },
      "text/plain": [
       "interactive(children=(IntSlider(value=20, description='fv', min=1), IntSlider(value=70, description='D', max=2…"
      ]
     },
     "metadata": {},
     "output_type": "display_data"
    }
   ],
   "source": [
    "from ipywidgets import interact\n",
    "\n",
    "@interact(fv=(1,100,1), D = (10,200,1))\n",
    "def g(fv=20, D = 70):\n",
    "    return plot_glass_silver(fv,D)"
   ]
  },
  {
   "cell_type": "markdown",
   "id": "031ca52b",
   "metadata": {
    "slideshow": {
     "slide_type": "slide"
    }
   },
   "source": [
    "Cuando la concentración de partículas es densa, el medio se vuelve opaco. Este régimen se denomina **scattering difuso** y permite explicar, entre otras cosas, el color de las nubes o la pintura blanca\n",
    "\n",
    "<img src=\"./images/diffuse_scattering.png\" width=\"400px\" align= center>\n",
    "\n",
    "<center>Transporte de luz en un medio con scattering difuso</center>"
   ]
  },
  {
   "cell_type": "markdown",
   "id": "01df5bd6",
   "metadata": {
    "slideshow": {
     "slide_type": "slide"
    }
   },
   "source": [
    "Un ejemplo interesante corresponde a la leche. En términos simples, la leche es una emulsión formada por pequeñas partículas de grasa dispersas en un medio acuoso. \n",
    "\n",
    "<img src=\"./images/milk_microscope.png\" width=\"400px\" align= center>\n",
    "\n",
    "<center>Imagen de microscópio (40x) de leche orgánica. Las burbujas verdes corresponden al aceite en suspención en agua.</center>\n",
    "\n",
    "Fuente: [Braun K., Hanewald A. and Vilgis T. Foods 8(10): 483(2019)](https://www.ncbi.nlm.nih.gov/pmc/articles/PMC6836175/)"
   ]
  },
  {
   "cell_type": "markdown",
   "id": "225b5528",
   "metadata": {
    "slideshow": {
     "slide_type": "fragment"
    }
   },
   "source": [
    "Como aproximación, consideremos un medio de espesor $1$ cm, compuesto por agua $N_h = 1.3$ y pequeñas partículas esféricas de aceite $N_p = 1.5$. La emulsión considera un 60% de partículas de aceite por volumen."
   ]
  },
  {
   "cell_type": "code",
   "execution_count": 11,
   "id": "72cbfc3e",
   "metadata": {
    "cell_style": "split",
    "slideshow": {
     "slide_type": "slide"
    },
    "tags": [
     "hide-input"
    ]
   },
   "outputs": [],
   "source": [
    "%%capture showplot\n",
    "# import empylib.nklib as nk\n",
    "import numpy as np\n",
    "import empylib.rad_transfer as rt\n",
    "\n",
    "# Solo modificar estos parámetros\n",
    "#---------------------------------------------------------------\n",
    "lam3 = np.linspace(0.3,1.0,100)   # espectro de longitudes de onda\n",
    "tfilm = 10                        # espesor en milímetros\n",
    "fv = 0.50                         # fracción de volúmen de los poros\n",
    "D = 1.0                           # diámetro de los poros (micrones)\n",
    "Nh2o = 1.3                        # Índice de refracción del agua\n",
    "Noil = 1.5                        # índice de refracción partículas de aceite\n",
    "#---------------------------------------------------------------\n",
    "Rtot, Ttot = rt.adm_sphere(lam3,tfilm,(1.0,Nh2o,1.0),fv,D,Noil)\n",
    "\n",
    "fig, ax = plt.subplots()\n",
    "fig.set_size_inches(7, 5)\n",
    "plt.rcParams['font.size'] = '16'\n",
    "ax.plot(lam3,Rtot,'-r',label='R')\n",
    "ax.plot(lam3,Ttot,'-b',label='T')\n",
    "ax.set_xlabel('Longitud de onda ($\\mu$m)')\n",
    "ax.set_ylabel('Reflectividad / Transmisividad')\n",
    "ax.set_title(r'Leche (fv = %.0f %%)' % (fv*100))\n",
    "ax.legend()\n",
    "ax.set_ylim(0,1.02)\n",
    "plt.show"
   ]
  },
  {
   "cell_type": "code",
   "execution_count": 12,
   "id": "9a1291f7",
   "metadata": {
    "cell_style": "split",
    "slideshow": {
     "slide_type": "fragment"
    },
    "tags": [
     "hide-input"
    ]
   },
   "outputs": [
    {
     "data": {
      "text/plain": [
       "<function matplotlib.pyplot.show(close=None, block=None)>"
      ]
     },
     "metadata": {},
     "output_type": "display_data"
    },
    {
     "data": {
      "image/png": "[encoded data removed]",
      "text/plain": [
       "<Figure size 700x500 with 1 Axes>"
      ]
     },
     "metadata": {
      "filenames": {
       "image/png": "/mnt/c/Users/frami/OneDrive - Universidad Adolfo Ibanez/Teaching_courses/MEC501 - Manejo_y_Conversion_Energia_Solar_Termica/material_catedra/_build/jupyter_execute/05_TransporteRadiativo/05_TransporteRadiativo_68_1.png"
      }
     },
     "output_type": "display_data"
    }
   ],
   "source": [
    "showplot()"
   ]
  },
  {
   "cell_type": "markdown",
   "id": "6c035f58",
   "metadata": {
    "slideshow": {
     "slide_type": "slide"
    }
   },
   "source": [
    "Como vemos la alta concentración de partículas hace que la refletividad y transmisividad se vuelvan casi uniformes para todas las longitudes de onda. El espectro, así, toma un color blanco frente a una fuente de luz blanca."
   ]
  },
  {
   "cell_type": "markdown",
   "id": "17c1dc23",
   "metadata": {
    "slideshow": {
     "slide_type": "slide"
    }
   },
   "source": [
    "## Referencias\n",
    "- Chen G. **Chapter 5 - Energy Transfer by Waves** in *Nanoscale energy transport and conversion*, 1st Ed, Oxford University Press, 2005"
   ]
  }
 ],
 "metadata": {
  "celltoolbar": "Slideshow",
  "kernelspec": {
   "display_name": "Python 3 (ipykernel)",
   "language": "python",
   "name": "python3"
  },
  "language_info": {
   "codemirror_mode": {
    "name": "ipython",
    "version": 3
   },
   "file_extension": ".py",
   "mimetype": "text/x-python",
   "name": "python",
   "nbconvert_exporter": "python",
   "pygments_lexer": "ipython3",
   "version": "3.10.8"
  },
  "latex_envs": {
   "LaTeX_envs_menu_present": false,
   "autoclose": false,
   "autocomplete": false,
   "bibliofile": "biblio.bib",
   "cite_by": "apalike",
   "current_citInitial": 1,
   "eqLabelWithNumbers": true,
   "eqNumInitial": 2,
   "hotkeys": {
    "equation": "Ctrl-E",
    "itemize": "Ctrl-I"
   },
   "labels_anchors": false,
   "latex_user_defs": false,
   "report_style_numbering": false,
   "user_envs_cfg": true
  },
  "toc": {
   "base_numbering": 1,
   "nav_menu": {},
   "number_sections": false,
   "sideBar": true,
   "skip_h1_title": true,
   "title_cell": "Tabla de contenidos",
   "title_sidebar": "Contenidos",
   "toc_cell": false,
   "toc_position": {
    "height": "calc(100% - 180px)",
    "left": "10px",
    "top": "150px",
    "width": "307.2px"
   },
   "toc_section_display": true,
   "toc_window_display": false
  },
  "varInspector": {
   "cols": {
    "lenName": 16,
    "lenType": 16,
    "lenVar": 40
   },
   "kernels_config": {
    "python": {
     "delete_cmd_postfix": "",
     "delete_cmd_prefix": "del ",
     "library": "var_list.py",
     "varRefreshCmd": "print(var_dic_list())"
    },
    "r": {
     "delete_cmd_postfix": ") ",
     "delete_cmd_prefix": "rm(",
     "library": "var_list.r",
     "varRefreshCmd": "cat(var_dic_list()) "
    }
   },
   "types_to_exclude": [
    "module",
    "function",
    "builtin_function_or_method",
    "instance",
    "_Feature"
   ],
   "window_display": false
  },
  "widgets": {
   "application/vnd.jupyter.widget-state+json": {
    "state": {
     "00a4a476b61749edb9ea90a64723c713": {
      "model_module": "@jupyter-widgets/controls",
      "model_module_version": "1.5.0",
      "model_name": "SliderStyleModel",
      "state": {
       "_model_module": "@jupyter-widgets/controls",
       "_model_module_version": "1.5.0",
       "_model_name": "SliderStyleModel",
       "_view_count": null,
       "_view_module": "@jupyter-widgets/base",
       "_view_module_version": "1.2.0",
       "_view_name": "StyleView",
       "description_width": "",
       "handle_color": null
      }
     },
     "1a8eab93da01457ebc1c0026f07384c2": {
      "model_module": "@jupyter-widgets/controls",
      "model_module_version": "1.5.0",
      "model_name": "VBoxModel",
      "state": {
       "_dom_classes": [
        "widget-interact"
       ],
       "_model_module": "@jupyter-widgets/controls",
       "_model_module_version": "1.5.0",
       "_model_name": "VBoxModel",
       "_view_count": null,
       "_view_module": "@jupyter-widgets/controls",
       "_view_module_version": "1.5.0",
       "_view_name": "VBoxView",
       "box_style": "",
       "children": [
        "IPY_MODEL_5e5478f54a3a488aa1ff71d781d81c9c",
        "IPY_MODEL_6d08253621bc4428baf4580fa2f3a2b6"
       ],
       "layout": "IPY_MODEL_5fc2e59549784a91abdff48e42be0bee"
      }
     },
     "209bc54a52a449f69312a5a02aa2f347": {
      "model_module": "@jupyter-widgets/controls",
      "model_module_version": "1.5.0",
      "model_name": "IntSliderModel",
      "state": {
       "_dom_classes": [],
       "_model_module": "@jupyter-widgets/controls",
       "_model_module_version": "1.5.0",
       "_model_name": "IntSliderModel",
       "_view_count": null,
       "_view_module": "@jupyter-widgets/controls",
       "_view_module_version": "1.5.0",
       "_view_name": "IntSliderView",
       "continuous_update": true,
       "description": "N",
       "description_tooltip": null,
       "disabled": false,
       "layout": "IPY_MODEL_bc056e3c2e2e4b27a13f699d6a10eadc",
       "max": 1000,
       "min": 1,
       "orientation": "horizontal",
       "readout": true,
       "readout_format": "d",
       "step": 1,
       "style": "IPY_MODEL_6ac595bf1305404e89845f16a95d1b82",
       "value": 1000
      }
     },
     "22465dc1861749a8a874b40e0120e3d9": {
      "model_module": "@jupyter-widgets/base",
      "model_module_version": "1.2.0",
      "model_name": "LayoutModel",
      "state": {
       "_model_module": "@jupyter-widgets/base",
       "_model_module_version": "1.2.0",
       "_model_name": "LayoutModel",
       "_view_count": null,
       "_view_module": "@jupyter-widgets/base",
       "_view_module_version": "1.2.0",
       "_view_name": "LayoutView",
       "align_content": null,
       "align_items": null,
       "align_self": null,
       "border": null,
       "bottom": null,
       "display": null,
       "flex": null,
       "flex_flow": null,
       "grid_area": null,
       "grid_auto_columns": null,
       "grid_auto_flow": null,
       "grid_auto_rows": null,
       "grid_column": null,
       "grid_gap": null,
       "grid_row": null,
       "grid_template_areas": null,
       "grid_template_columns": null,
       "grid_template_rows": null,
       "height": null,
       "justify_content": null,
       "justify_items": null,
       "left": null,
       "margin": null,
       "max_height": null,
       "max_width": null,
       "min_height": null,
       "min_width": null,
       "object_fit": null,
       "object_position": null,
       "order": null,
       "overflow": null,
       "overflow_x": null,
       "overflow_y": null,
       "padding": null,
       "right": null,
       "top": null,
       "visibility": null,
       "width": null
      }
     },
     "2376ce3f91f3409c8e2712a9d17393b0": {
      "model_module": "@jupyter-widgets/base",
      "model_module_version": "1.2.0",
      "model_name": "LayoutModel",
      "state": {
       "_model_module": "@jupyter-widgets/base",
       "_model_module_version": "1.2.0",
       "_model_name": "LayoutModel",
       "_view_count": null,
       "_view_module": "@jupyter-widgets/base",
       "_view_module_version": "1.2.0",
       "_view_name": "LayoutView",
       "align_content": null,
       "align_items": null,
       "align_self": null,
       "border": null,
       "bottom": null,
       "display": null,
       "flex": null,
       "flex_flow": null,
       "grid_area": null,
       "grid_auto_columns": null,
       "grid_auto_flow": null,
       "grid_auto_rows": null,
       "grid_column": null,
       "grid_gap": null,
       "grid_row": null,
       "grid_template_areas": null,
       "grid_template_columns": null,
       "grid_template_rows": null,
       "height": null,
       "justify_content": null,
       "justify_items": null,
       "left": null,
       "margin": null,
       "max_height": null,
       "max_width": null,
       "min_height": null,
       "min_width": null,
       "object_fit": null,
       "object_position": null,
       "order": null,
       "overflow": null,
       "overflow_x": null,
       "overflow_y": null,
       "padding": null,
       "right": null,
       "top": null,
       "visibility": null,
       "width": null
      }
     },
     "2afb3f45263447f7ae33886d943fafa8": {
      "model_module": "@jupyter-widgets/output",
      "model_module_version": "1.0.0",
      "model_name": "OutputModel",
      "state": {
       "_dom_classes": [],
       "_model_module": "@jupyter-widgets/output",
       "_model_module_version": "1.0.0",
       "_model_name": "OutputModel",
       "_view_count": null,
       "_view_module": "@jupyter-widgets/output",
       "_view_module_version": "1.0.0",
       "_view_name": "OutputView",
       "layout": "IPY_MODEL_764221cb1a6f4f6d8911a6ebd871f64a",
       "msg_id": "",
       "outputs": [
        {
         "data": {
          "image/png": "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\n",
          "text/plain": "<Figure size 900x500 with 1 Axes>"
         },
         "metadata": {},
         "output_type": "display_data"
        }
       ]
      }
     },
     "3606d544f7a24febbc92958cdd8924df": {
      "model_module": "@jupyter-widgets/controls",
      "model_module_version": "1.5.0",
      "model_name": "FloatSliderModel",
      "state": {
       "_dom_classes": [],
       "_model_module": "@jupyter-widgets/controls",
       "_model_module_version": "1.5.0",
       "_model_name": "FloatSliderModel",
       "_view_count": null,
       "_view_module": "@jupyter-widgets/controls",
       "_view_module_version": "1.5.0",
       "_view_name": "FloatSliderView",
       "continuous_update": true,
       "description": "sig",
       "description_tooltip": null,
       "disabled": false,
       "layout": "IPY_MODEL_7d9be6b286db469b9a681ff5f5fadb92",
       "max": 1.0,
       "min": 0.0,
       "orientation": "horizontal",
       "readout": true,
       "readout_format": ".2f",
       "step": 0.01,
       "style": "IPY_MODEL_a1208a9e549f4c2d943ecb4b753e9dfe",
       "value": 0.3
      }
     },
     "4363b05107af4de790a9557bed959f17": {
      "model_module": "@jupyter-widgets/controls",
      "model_module_version": "1.5.0",
      "model_name": "FloatSliderModel",
      "state": {
       "_dom_classes": [],
       "_model_module": "@jupyter-widgets/controls",
       "_model_module_version": "1.5.0",
       "_model_name": "FloatSliderModel",
       "_view_count": null,
       "_view_module": "@jupyter-widgets/controls",
       "_view_module_version": "1.5.0",
       "_view_name": "FloatSliderView",
       "continuous_update": true,
       "description": "t",
       "description_tooltip": null,
       "disabled": false,
       "layout": "IPY_MODEL_db523dbda8954a4eb9fe6fbdfcbf73c5",
       "max": 10.0,
       "min": -10.0,
       "orientation": "horizontal",
       "readout": true,
       "readout_format": ".2f",
       "step": 0.1,
       "style": "IPY_MODEL_e142eb19c26b42f9b4a1b938a02de59d",
       "value": 0.0
      }
     },
     "4af1966b2bb24b27b4747a1ed304191e": {
      "model_module": "@jupyter-widgets/base",
      "model_module_version": "1.2.0",
      "model_name": "LayoutModel",
      "state": {
       "_model_module": "@jupyter-widgets/base",
       "_model_module_version": "1.2.0",
       "_model_name": "LayoutModel",
       "_view_count": null,
       "_view_module": "@jupyter-widgets/base",
       "_view_module_version": "1.2.0",
       "_view_name": "LayoutView",
       "align_content": null,
       "align_items": null,
       "align_self": null,
       "border": null,
       "bottom": null,
       "display": null,
       "flex": null,
       "flex_flow": null,
       "grid_area": null,
       "grid_auto_columns": null,
       "grid_auto_flow": null,
       "grid_auto_rows": null,
       "grid_column": null,
       "grid_gap": null,
       "grid_row": null,
       "grid_template_areas": null,
       "grid_template_columns": null,
       "grid_template_rows": null,
       "height": null,
       "justify_content": null,
       "justify_items": null,
       "left": null,
       "margin": null,
       "max_height": null,
       "max_width": null,
       "min_height": null,
       "min_width": null,
       "object_fit": null,
       "object_position": null,
       "order": null,
       "overflow": null,
       "overflow_x": null,
       "overflow_y": null,
       "padding": null,
       "right": null,
       "top": null,
       "visibility": null,
       "width": null
      }
     },
     "504413dbc4fd453a80740e5fbabe76b5": {
      "model_module": "@jupyter-widgets/controls",
      "model_module_version": "1.5.0",
      "model_name": "FloatSliderModel",
      "state": {
       "_dom_classes": [],
       "_model_module": "@jupyter-widgets/controls",
       "_model_module_version": "1.5.0",
       "_model_name": "FloatSliderModel",
       "_view_count": null,
       "_view_module": "@jupyter-widgets/controls",
       "_view_module_version": "1.5.0",
       "_view_name": "FloatSliderView",
       "continuous_update": true,
       "description": "sig",
       "description_tooltip": null,
       "disabled": false,
       "layout": "IPY_MODEL_ce6bdd0f546845a18c912c9915addb0d",
       "max": 1.0,
       "min": 0.0,
       "orientation": "horizontal",
       "readout": true,
       "readout_format": ".2f",
       "step": 0.01,
       "style": "IPY_MODEL_993e17ade9814ab7a2e8cf6ca57bd0ef",
       "value": 0.3
      }
     },
     "51b2f63b4d5d4f71b229927b26fca9b9": {
      "model_module": "@jupyter-widgets/controls",
      "model_module_version": "1.5.0",
      "model_name": "SliderStyleModel",
      "state": {
       "_model_module": "@jupyter-widgets/controls",
       "_model_module_version": "1.5.0",
       "_model_name": "SliderStyleModel",
       "_view_count": null,
       "_view_module": "@jupyter-widgets/base",
       "_view_module_version": "1.2.0",
       "_view_name": "StyleView",
       "description_width": "",
       "handle_color": null
      }
     },
     "5a003c9e54884cf083cf968840c61fdf": {
      "model_module": "@jupyter-widgets/controls",
      "model_module_version": "1.5.0",
      "model_name": "VBoxModel",
      "state": {
       "_dom_classes": [
        "widget-interact"
       ],
       "_model_module": "@jupyter-widgets/controls",
       "_model_module_version": "1.5.0",
       "_model_name": "VBoxModel",
       "_view_count": null,
       "_view_module": "@jupyter-widgets/controls",
       "_view_module_version": "1.5.0",
       "_view_name": "VBoxView",
       "box_style": "",
       "children": [
        "IPY_MODEL_da0550cf8edb4d9e92eb89e5e69b4c1f",
        "IPY_MODEL_ab3d4158473d4e3ba613e3c9fb93387c",
        "IPY_MODEL_a812d0c9870645e6985ce7114de64e8f"
       ],
       "layout": "IPY_MODEL_6e71e17cea27405a85065e3b421fc0c4"
      }
     },
     "5e5478f54a3a488aa1ff71d781d81c9c": {
      "model_module": "@jupyter-widgets/controls",
      "model_module_version": "1.5.0",
      "model_name": "FloatSliderModel",
      "state": {
       "_dom_classes": [],
       "_model_module": "@jupyter-widgets/controls",
       "_model_module_version": "1.5.0",
       "_model_name": "FloatSliderModel",
       "_view_count": null,
       "_view_module": "@jupyter-widgets/controls",
       "_view_module_version": "1.5.0",
       "_view_name": "FloatSliderView",
       "continuous_update": true,
       "description": "theta_sun",
       "description_tooltip": null,
       "disabled": false,
       "layout": "IPY_MODEL_906a2b4394ff45fea5aa8e597dbdba83",
       "max": 89.99,
       "min": 0.0,
       "orientation": "horizontal",
       "readout": true,
       "readout_format": ".2f",
       "step": 0.1,
       "style": "IPY_MODEL_e53a37024ce7422bbfed76aa7e7c4c73",
       "value": 0.0
      }
     },
     "5fc2e59549784a91abdff48e42be0bee": {
      "model_module": "@jupyter-widgets/base",
      "model_module_version": "1.2.0",
      "model_name": "LayoutModel",
      "state": {
       "_model_module": "@jupyter-widgets/base",
       "_model_module_version": "1.2.0",
       "_model_name": "LayoutModel",
       "_view_count": null,
       "_view_module": "@jupyter-widgets/base",
       "_view_module_version": "1.2.0",
       "_view_name": "LayoutView",
       "align_content": null,
       "align_items": null,
       "align_self": null,
       "border": null,
       "bottom": null,
       "display": null,
       "flex": null,
       "flex_flow": null,
       "grid_area": null,
       "grid_auto_columns": null,
       "grid_auto_flow": null,
       "grid_auto_rows": null,
       "grid_column": null,
       "grid_gap": null,
       "grid_row": null,
       "grid_template_areas": null,
       "grid_template_columns": null,
       "grid_template_rows": null,
       "height": null,
       "justify_content": null,
       "justify_items": null,
       "left": null,
       "margin": null,
       "max_height": null,
       "max_width": null,
       "min_height": null,
       "min_width": null,
       "object_fit": null,
       "object_position": null,
       "order": null,
       "overflow": null,
       "overflow_x": null,
       "overflow_y": null,
       "padding": null,
       "right": null,
       "top": null,
       "visibility": null,
       "width": null
      }
     },
     "61aac738420544f696bd44854057ec2a": {
      "model_module": "@jupyter-widgets/base",
      "model_module_version": "1.2.0",
      "model_name": "LayoutModel",
      "state": {
       "_model_module": "@jupyter-widgets/base",
       "_model_module_version": "1.2.0",
       "_model_name": "LayoutModel",
       "_view_count": null,
       "_view_module": "@jupyter-widgets/base",
       "_view_module_version": "1.2.0",
       "_view_name": "LayoutView",
       "align_content": null,
       "align_items": null,
       "align_self": null,
       "border": null,
       "bottom": null,
       "display": null,
       "flex": null,
       "flex_flow": null,
       "grid_area": null,
       "grid_auto_columns": null,
       "grid_auto_flow": null,
       "grid_auto_rows": null,
       "grid_column": null,
       "grid_gap": null,
       "grid_row": null,
       "grid_template_areas": null,
       "grid_template_columns": null,
       "grid_template_rows": null,
       "height": null,
       "justify_content": null,
       "justify_items": null,
       "left": null,
       "margin": null,
       "max_height": null,
       "max_width": null,
       "min_height": null,
       "min_width": null,
       "object_fit": null,
       "object_position": null,
       "order": null,
       "overflow": null,
       "overflow_x": null,
       "overflow_y": null,
       "padding": null,
       "right": null,
       "top": null,
       "visibility": null,
       "width": null
      }
     },
     "6ac595bf1305404e89845f16a95d1b82": {
      "model_module": "@jupyter-widgets/controls",
      "model_module_version": "1.5.0",
      "model_name": "SliderStyleModel",
      "state": {
       "_model_module": "@jupyter-widgets/controls",
       "_model_module_version": "1.5.0",
       "_model_name": "SliderStyleModel",
       "_view_count": null,
       "_view_module": "@jupyter-widgets/base",
       "_view_module_version": "1.2.0",
       "_view_name": "StyleView",
       "description_width": "",
       "handle_color": null
      }
     },
     "6d08253621bc4428baf4580fa2f3a2b6": {
      "model_module": "@jupyter-widgets/output",
      "model_module_version": "1.0.0",
      "model_name": "OutputModel",
      "state": {
       "_dom_classes": [],
       "_model_module": "@jupyter-widgets/output",
       "_model_module_version": "1.0.0",
       "_model_name": "OutputModel",
       "_view_count": null,
       "_view_module": "@jupyter-widgets/output",
       "_view_module_version": "1.0.0",
       "_view_name": "OutputView",
       "layout": "IPY_MODEL_f8e7745bd73c48a2b3054dae4a6c7af2",
       "msg_id": "",
       "outputs": [
        {
         "data": {
          "image/png": "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\n",
          "text/plain": "<Figure size 800x500 with 2 Axes>"
         },
         "metadata": {},
         "output_type": "display_data"
        }
       ]
      }
     },
     "6e71e17cea27405a85065e3b421fc0c4": {
      "model_module": "@jupyter-widgets/base",
      "model_module_version": "1.2.0",
      "model_name": "LayoutModel",
      "state": {
       "_model_module": "@jupyter-widgets/base",
       "_model_module_version": "1.2.0",
       "_model_name": "LayoutModel",
       "_view_count": null,
       "_view_module": "@jupyter-widgets/base",
       "_view_module_version": "1.2.0",
       "_view_name": "LayoutView",
       "align_content": null,
       "align_items": null,
       "align_self": null,
       "border": null,
       "bottom": null,
       "display": null,
       "flex": null,
       "flex_flow": null,
       "grid_area": null,
       "grid_auto_columns": null,
       "grid_auto_flow": null,
       "grid_auto_rows": null,
       "grid_column": null,
       "grid_gap": null,
       "grid_row": null,
       "grid_template_areas": null,
       "grid_template_columns": null,
       "grid_template_rows": null,
       "height": null,
       "justify_content": null,
       "justify_items": null,
       "left": null,
       "margin": null,
       "max_height": null,
       "max_width": null,
       "min_height": null,
       "min_width": null,
       "object_fit": null,
       "object_position": null,
       "order": null,
       "overflow": null,
       "overflow_x": null,
       "overflow_y": null,
       "padding": null,
       "right": null,
       "top": null,
       "visibility": null,
       "width": null
      }
     },
     "758ce2da6226424b9b4aa9699c19c083": {
      "model_module": "@jupyter-widgets/base",
      "model_module_version": "1.2.0",
      "model_name": "LayoutModel",
      "state": {
       "_model_module": "@jupyter-widgets/base",
       "_model_module_version": "1.2.0",
       "_model_name": "LayoutModel",
       "_view_count": null,
       "_view_module": "@jupyter-widgets/base",
       "_view_module_version": "1.2.0",
       "_view_name": "LayoutView",
       "align_content": null,
       "align_items": null,
       "align_self": null,
       "border": null,
       "bottom": null,
       "display": null,
       "flex": null,
       "flex_flow": null,
       "grid_area": null,
       "grid_auto_columns": null,
       "grid_auto_flow": null,
       "grid_auto_rows": null,
       "grid_column": null,
       "grid_gap": null,
       "grid_row": null,
       "grid_template_areas": null,
       "grid_template_columns": null,
       "grid_template_rows": null,
       "height": null,
       "justify_content": null,
       "justify_items": null,
       "left": null,
       "margin": null,
       "max_height": null,
       "max_width": null,
       "min_height": null,
       "min_width": null,
       "object_fit": null,
       "object_position": null,
       "order": null,
       "overflow": null,
       "overflow_x": null,
       "overflow_y": null,
       "padding": null,
       "right": null,
       "top": null,
       "visibility": null,
       "width": null
      }
     },
     "764221cb1a6f4f6d8911a6ebd871f64a": {
      "model_module": "@jupyter-widgets/base",
      "model_module_version": "1.2.0",
      "model_name": "LayoutModel",
      "state": {
       "_model_module": "@jupyter-widgets/base",
       "_model_module_version": "1.2.0",
       "_model_name": "LayoutModel",
       "_view_count": null,
       "_view_module": "@jupyter-widgets/base",
       "_view_module_version": "1.2.0",
       "_view_name": "LayoutView",
       "align_content": null,
       "align_items": null,
       "align_self": null,
       "border": null,
       "bottom": null,
       "display": null,
       "flex": null,
       "flex_flow": null,
       "grid_area": null,
       "grid_auto_columns": null,
       "grid_auto_flow": null,
       "grid_auto_rows": null,
       "grid_column": null,
       "grid_gap": null,
       "grid_row": null,
       "grid_template_areas": null,
       "grid_template_columns": null,
       "grid_template_rows": null,
       "height": null,
       "justify_content": null,
       "justify_items": null,
       "left": null,
       "margin": null,
       "max_height": null,
       "max_width": null,
       "min_height": null,
       "min_width": null,
       "object_fit": null,
       "object_position": null,
       "order": null,
       "overflow": null,
       "overflow_x": null,
       "overflow_y": null,
       "padding": null,
       "right": null,
       "top": null,
       "visibility": null,
       "width": null
      }
     },
     "7d9be6b286db469b9a681ff5f5fadb92": {
      "model_module": "@jupyter-widgets/base",
      "model_module_version": "1.2.0",
      "model_name": "LayoutModel",
      "state": {
       "_model_module": "@jupyter-widgets/base",
       "_model_module_version": "1.2.0",
       "_model_name": "LayoutModel",
       "_view_count": null,
       "_view_module": "@jupyter-widgets/base",
       "_view_module_version": "1.2.0",
       "_view_name": "LayoutView",
       "align_content": null,
       "align_items": null,
       "align_self": null,
       "border": null,
       "bottom": null,
       "display": null,
       "flex": null,
       "flex_flow": null,
       "grid_area": null,
       "grid_auto_columns": null,
       "grid_auto_flow": null,
       "grid_auto_rows": null,
       "grid_column": null,
       "grid_gap": null,
       "grid_row": null,
       "grid_template_areas": null,
       "grid_template_columns": null,
       "grid_template_rows": null,
       "height": null,
       "justify_content": null,
       "justify_items": null,
       "left": null,
       "margin": null,
       "max_height": null,
       "max_width": null,
       "min_height": null,
       "min_width": null,
       "object_fit": null,
       "object_position": null,
       "order": null,
       "overflow": null,
       "overflow_x": null,
       "overflow_y": null,
       "padding": null,
       "right": null,
       "top": null,
       "visibility": null,
       "width": null
      }
     },
     "8b143c3ac68747f494276d42b9d1abc4": {
      "model_module": "@jupyter-widgets/controls",
      "model_module_version": "1.5.0",
      "model_name": "VBoxModel",
      "state": {
       "_dom_classes": [
        "widget-interact"
       ],
       "_model_module": "@jupyter-widgets/controls",
       "_model_module_version": "1.5.0",
       "_model_name": "VBoxModel",
       "_view_count": null,
       "_view_module": "@jupyter-widgets/controls",
       "_view_module_version": "1.5.0",
       "_view_name": "VBoxView",
       "box_style": "",
       "children": [
        "IPY_MODEL_beada89538844607a54a67f974246c18",
        "IPY_MODEL_4363b05107af4de790a9557bed959f17",
        "IPY_MODEL_3606d544f7a24febbc92958cdd8924df",
        "IPY_MODEL_2afb3f45263447f7ae33886d943fafa8"
       ],
       "layout": "IPY_MODEL_22465dc1861749a8a874b40e0120e3d9"
      }
     },
     "8c8a0acd005d4587841fd03b1a7051f3": {
      "model_module": "@jupyter-widgets/base",
      "model_module_version": "1.2.0",
      "model_name": "LayoutModel",
      "state": {
       "_model_module": "@jupyter-widgets/base",
       "_model_module_version": "1.2.0",
       "_model_name": "LayoutModel",
       "_view_count": null,
       "_view_module": "@jupyter-widgets/base",
       "_view_module_version": "1.2.0",
       "_view_name": "LayoutView",
       "align_content": null,
       "align_items": null,
       "align_self": null,
       "border": null,
       "bottom": null,
       "display": null,
       "flex": null,
       "flex_flow": null,
       "grid_area": null,
       "grid_auto_columns": null,
       "grid_auto_flow": null,
       "grid_auto_rows": null,
       "grid_column": null,
       "grid_gap": null,
       "grid_row": null,
       "grid_template_areas": null,
       "grid_template_columns": null,
       "grid_template_rows": null,
       "height": null,
       "justify_content": null,
       "justify_items": null,
       "left": null,
       "margin": null,
       "max_height": null,
       "max_width": null,
       "min_height": null,
       "min_width": null,
       "object_fit": null,
       "object_position": null,
       "order": null,
       "overflow": null,
       "overflow_x": null,
       "overflow_y": null,
       "padding": null,
       "right": null,
       "top": null,
       "visibility": null,
       "width": null
      }
     },
     "906a2b4394ff45fea5aa8e597dbdba83": {
      "model_module": "@jupyter-widgets/base",
      "model_module_version": "1.2.0",
      "model_name": "LayoutModel",
      "state": {
       "_model_module": "@jupyter-widgets/base",
       "_model_module_version": "1.2.0",
       "_model_name": "LayoutModel",
       "_view_count": null,
       "_view_module": "@jupyter-widgets/base",
       "_view_module_version": "1.2.0",
       "_view_name": "LayoutView",
       "align_content": null,
       "align_items": null,
       "align_self": null,
       "border": null,
       "bottom": null,
       "display": null,
       "flex": null,
       "flex_flow": null,
       "grid_area": null,
       "grid_auto_columns": null,
       "grid_auto_flow": null,
       "grid_auto_rows": null,
       "grid_column": null,
       "grid_gap": null,
       "grid_row": null,
       "grid_template_areas": null,
       "grid_template_columns": null,
       "grid_template_rows": null,
       "height": null,
       "justify_content": null,
       "justify_items": null,
       "left": null,
       "margin": null,
       "max_height": null,
       "max_width": null,
       "min_height": null,
       "min_width": null,
       "object_fit": null,
       "object_position": null,
       "order": null,
       "overflow": null,
       "overflow_x": null,
       "overflow_y": null,
       "padding": null,
       "right": null,
       "top": null,
       "visibility": null,
       "width": null
      }
     },
     "993e17ade9814ab7a2e8cf6ca57bd0ef": {
      "model_module": "@jupyter-widgets/controls",
      "model_module_version": "1.5.0",
      "model_name": "SliderStyleModel",
      "state": {
       "_model_module": "@jupyter-widgets/controls",
       "_model_module_version": "1.5.0",
       "_model_name": "SliderStyleModel",
       "_view_count": null,
       "_view_module": "@jupyter-widgets/base",
       "_view_module_version": "1.2.0",
       "_view_name": "StyleView",
       "description_width": "",
       "handle_color": null
      }
     },
     "a1208a9e549f4c2d943ecb4b753e9dfe": {
      "model_module": "@jupyter-widgets/controls",
      "model_module_version": "1.5.0",
      "model_name": "SliderStyleModel",
      "state": {
       "_model_module": "@jupyter-widgets/controls",
       "_model_module_version": "1.5.0",
       "_model_name": "SliderStyleModel",
       "_view_count": null,
       "_view_module": "@jupyter-widgets/base",
       "_view_module_version": "1.2.0",
       "_view_name": "StyleView",
       "description_width": "",
       "handle_color": null
      }
     },
     "a4bbf466f9f84adba07c86e92f06b2da": {
      "model_module": "@jupyter-widgets/controls",
      "model_module_version": "1.5.0",
      "model_name": "FloatSliderModel",
      "state": {
       "_dom_classes": [],
       "_model_module": "@jupyter-widgets/controls",
       "_model_module_version": "1.5.0",
       "_model_name": "FloatSliderModel",
       "_view_count": null,
       "_view_module": "@jupyter-widgets/controls",
       "_view_module_version": "1.5.0",
       "_view_name": "FloatSliderView",
       "continuous_update": true,
       "description": "t",
       "description_tooltip": null,
       "disabled": false,
       "layout": "IPY_MODEL_2376ce3f91f3409c8e2712a9d17393b0",
       "max": 20.0,
       "min": 0.0,
       "orientation": "horizontal",
       "readout": true,
       "readout_format": ".2f",
       "step": 0.1,
       "style": "IPY_MODEL_a8d05ca28f3942feb117923afcd9a7c5",
       "value": 2.0
      }
     },
     "a812d0c9870645e6985ce7114de64e8f": {
      "model_module": "@jupyter-widgets/output",
      "model_module_version": "1.0.0",
      "model_name": "OutputModel",
      "state": {
       "_dom_classes": [],
       "_model_module": "@jupyter-widgets/output",
       "_model_module_version": "1.0.0",
       "_model_name": "OutputModel",
       "_view_count": null,
       "_view_module": "@jupyter-widgets/output",
       "_view_module_version": "1.0.0",
       "_view_name": "OutputView",
       "layout": "IPY_MODEL_4af1966b2bb24b27b4747a1ed304191e",
       "msg_id": "",
       "outputs": [
        {
         "data": {
          "image/png": "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\n",
          "text/plain": "<Figure size 2000x500 with 3 Axes>"
         },
         "metadata": {},
         "output_type": "display_data"
        }
       ]
      }
     },
     "a8d05ca28f3942feb117923afcd9a7c5": {
      "model_module": "@jupyter-widgets/controls",
      "model_module_version": "1.5.0",
      "model_name": "SliderStyleModel",
      "state": {
       "_model_module": "@jupyter-widgets/controls",
       "_model_module_version": "1.5.0",
       "_model_name": "SliderStyleModel",
       "_view_count": null,
       "_view_module": "@jupyter-widgets/base",
       "_view_module_version": "1.2.0",
       "_view_name": "StyleView",
       "description_width": "",
       "handle_color": null
      }
     },
     "ab3d4158473d4e3ba613e3c9fb93387c": {
      "model_module": "@jupyter-widgets/controls",
      "model_module_version": "1.5.0",
      "model_name": "IntSliderModel",
      "state": {
       "_dom_classes": [],
       "_model_module": "@jupyter-widgets/controls",
       "_model_module_version": "1.5.0",
       "_model_name": "IntSliderModel",
       "_view_count": null,
       "_view_module": "@jupyter-widgets/controls",
       "_view_module_version": "1.5.0",
       "_view_name": "IntSliderView",
       "continuous_update": true,
       "description": "D",
       "description_tooltip": null,
       "disabled": false,
       "layout": "IPY_MODEL_61aac738420544f696bd44854057ec2a",
       "max": 200,
       "min": 10,
       "orientation": "horizontal",
       "readout": true,
       "readout_format": "d",
       "step": 1,
       "style": "IPY_MODEL_00a4a476b61749edb9ea90a64723c713",
       "value": 70
      }
     },
     "b3d4fa96886c4fa2b01f0b680defb8af": {
      "model_module": "@jupyter-widgets/output",
      "model_module_version": "1.0.0",
      "model_name": "OutputModel",
      "state": {
       "_dom_classes": [],
       "_model_module": "@jupyter-widgets/output",
       "_model_module_version": "1.0.0",
       "_model_name": "OutputModel",
       "_view_count": null,
       "_view_module": "@jupyter-widgets/output",
       "_view_module_version": "1.0.0",
       "_view_name": "OutputView",
       "layout": "IPY_MODEL_ddb38a06fc2a4ff693893e45ce1bd5a1",
       "msg_id": "",
       "outputs": [
        {
         "data": {
          "image/png": "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\n",
          "text/plain": "<Figure size 900x500 with 1 Axes>"
         },
         "metadata": {},
         "output_type": "display_data"
        }
       ]
      }
     },
     "b87cf93461b743f38bf7e289274082d6": {
      "model_module": "@jupyter-widgets/base",
      "model_module_version": "1.2.0",
      "model_name": "LayoutModel",
      "state": {
       "_model_module": "@jupyter-widgets/base",
       "_model_module_version": "1.2.0",
       "_model_name": "LayoutModel",
       "_view_count": null,
       "_view_module": "@jupyter-widgets/base",
       "_view_module_version": "1.2.0",
       "_view_name": "LayoutView",
       "align_content": null,
       "align_items": null,
       "align_self": null,
       "border": null,
       "bottom": null,
       "display": null,
       "flex": null,
       "flex_flow": null,
       "grid_area": null,
       "grid_auto_columns": null,
       "grid_auto_flow": null,
       "grid_auto_rows": null,
       "grid_column": null,
       "grid_gap": null,
       "grid_row": null,
       "grid_template_areas": null,
       "grid_template_columns": null,
       "grid_template_rows": null,
       "height": null,
       "justify_content": null,
       "justify_items": null,
       "left": null,
       "margin": null,
       "max_height": null,
       "max_width": null,
       "min_height": null,
       "min_width": null,
       "object_fit": null,
       "object_position": null,
       "order": null,
       "overflow": null,
       "overflow_x": null,
       "overflow_y": null,
       "padding": null,
       "right": null,
       "top": null,
       "visibility": null,
       "width": null
      }
     },
     "b9e2878eaf9044818c66e6432cc18e45": {
      "model_module": "@jupyter-widgets/controls",
      "model_module_version": "1.5.0",
      "model_name": "VBoxModel",
      "state": {
       "_dom_classes": [
        "widget-interact"
       ],
       "_model_module": "@jupyter-widgets/controls",
       "_model_module_version": "1.5.0",
       "_model_name": "VBoxModel",
       "_view_count": null,
       "_view_module": "@jupyter-widgets/controls",
       "_view_module_version": "1.5.0",
       "_view_name": "VBoxView",
       "box_style": "",
       "children": [
        "IPY_MODEL_209bc54a52a449f69312a5a02aa2f347",
        "IPY_MODEL_a4bbf466f9f84adba07c86e92f06b2da",
        "IPY_MODEL_504413dbc4fd453a80740e5fbabe76b5",
        "IPY_MODEL_b3d4fa96886c4fa2b01f0b680defb8af"
       ],
       "layout": "IPY_MODEL_b87cf93461b743f38bf7e289274082d6"
      }
     },
     "bc056e3c2e2e4b27a13f699d6a10eadc": {
      "model_module": "@jupyter-widgets/base",
      "model_module_version": "1.2.0",
      "model_name": "LayoutModel",
      "state": {
       "_model_module": "@jupyter-widgets/base",
       "_model_module_version": "1.2.0",
       "_model_name": "LayoutModel",
       "_view_count": null,
       "_view_module": "@jupyter-widgets/base",
       "_view_module_version": "1.2.0",
       "_view_name": "LayoutView",
       "align_content": null,
       "align_items": null,
       "align_self": null,
       "border": null,
       "bottom": null,
       "display": null,
       "flex": null,
       "flex_flow": null,
       "grid_area": null,
       "grid_auto_columns": null,
       "grid_auto_flow": null,
       "grid_auto_rows": null,
       "grid_column": null,
       "grid_gap": null,
       "grid_row": null,
       "grid_template_areas": null,
       "grid_template_columns": null,
       "grid_template_rows": null,
       "height": null,
       "justify_content": null,
       "justify_items": null,
       "left": null,
       "margin": null,
       "max_height": null,
       "max_width": null,
       "min_height": null,
       "min_width": null,
       "object_fit": null,
       "object_position": null,
       "order": null,
       "overflow": null,
       "overflow_x": null,
       "overflow_y": null,
       "padding": null,
       "right": null,
       "top": null,
       "visibility": null,
       "width": null
      }
     },
     "beada89538844607a54a67f974246c18": {
      "model_module": "@jupyter-widgets/controls",
      "model_module_version": "1.5.0",
      "model_name": "IntSliderModel",
      "state": {
       "_dom_classes": [],
       "_model_module": "@jupyter-widgets/controls",
       "_model_module_version": "1.5.0",
       "_model_name": "IntSliderModel",
       "_view_count": null,
       "_view_module": "@jupyter-widgets/controls",
       "_view_module_version": "1.5.0",
       "_view_name": "IntSliderView",
       "continuous_update": true,
       "description": "N",
       "description_tooltip": null,
       "disabled": false,
       "layout": "IPY_MODEL_8c8a0acd005d4587841fd03b1a7051f3",
       "max": 1000,
       "min": 1,
       "orientation": "horizontal",
       "readout": true,
       "readout_format": "d",
       "step": 1,
       "style": "IPY_MODEL_da542e1803b04e38afd696983fa45a5c",
       "value": 1000
      }
     },
     "ce6bdd0f546845a18c912c9915addb0d": {
      "model_module": "@jupyter-widgets/base",
      "model_module_version": "1.2.0",
      "model_name": "LayoutModel",
      "state": {
       "_model_module": "@jupyter-widgets/base",
       "_model_module_version": "1.2.0",
       "_model_name": "LayoutModel",
       "_view_count": null,
       "_view_module": "@jupyter-widgets/base",
       "_view_module_version": "1.2.0",
       "_view_name": "LayoutView",
       "align_content": null,
       "align_items": null,
       "align_self": null,
       "border": null,
       "bottom": null,
       "display": null,
       "flex": null,
       "flex_flow": null,
       "grid_area": null,
       "grid_auto_columns": null,
       "grid_auto_flow": null,
       "grid_auto_rows": null,
       "grid_column": null,
       "grid_gap": null,
       "grid_row": null,
       "grid_template_areas": null,
       "grid_template_columns": null,
       "grid_template_rows": null,
       "height": null,
       "justify_content": null,
       "justify_items": null,
       "left": null,
       "margin": null,
       "max_height": null,
       "max_width": null,
       "min_height": null,
       "min_width": null,
       "object_fit": null,
       "object_position": null,
       "order": null,
       "overflow": null,
       "overflow_x": null,
       "overflow_y": null,
       "padding": null,
       "right": null,
       "top": null,
       "visibility": null,
       "width": null
      }
     },
     "da0550cf8edb4d9e92eb89e5e69b4c1f": {
      "model_module": "@jupyter-widgets/controls",
      "model_module_version": "1.5.0",
      "model_name": "IntSliderModel",
      "state": {
       "_dom_classes": [],
       "_model_module": "@jupyter-widgets/controls",
       "_model_module_version": "1.5.0",
       "_model_name": "IntSliderModel",
       "_view_count": null,
       "_view_module": "@jupyter-widgets/controls",
       "_view_module_version": "1.5.0",
       "_view_name": "IntSliderView",
       "continuous_update": true,
       "description": "fv",
       "description_tooltip": null,
       "disabled": false,
       "layout": "IPY_MODEL_758ce2da6226424b9b4aa9699c19c083",
       "max": 100,
       "min": 1,
       "orientation": "horizontal",
       "readout": true,
       "readout_format": "d",
       "step": 1,
       "style": "IPY_MODEL_51b2f63b4d5d4f71b229927b26fca9b9",
       "value": 20
      }
     },
     "da542e1803b04e38afd696983fa45a5c": {
      "model_module": "@jupyter-widgets/controls",
      "model_module_version": "1.5.0",
      "model_name": "SliderStyleModel",
      "state": {
       "_model_module": "@jupyter-widgets/controls",
       "_model_module_version": "1.5.0",
       "_model_name": "SliderStyleModel",
       "_view_count": null,
       "_view_module": "@jupyter-widgets/base",
       "_view_module_version": "1.2.0",
       "_view_name": "StyleView",
       "description_width": "",
       "handle_color": null
      }
     },
     "db523dbda8954a4eb9fe6fbdfcbf73c5": {
      "model_module": "@jupyter-widgets/base",
      "model_module_version": "1.2.0",
      "model_name": "LayoutModel",
      "state": {
       "_model_module": "@jupyter-widgets/base",
       "_model_module_version": "1.2.0",
       "_model_name": "LayoutModel",
       "_view_count": null,
       "_view_module": "@jupyter-widgets/base",
       "_view_module_version": "1.2.0",
       "_view_name": "LayoutView",
       "align_content": null,
       "align_items": null,
       "align_self": null,
       "border": null,
       "bottom": null,
       "display": null,
       "flex": null,
       "flex_flow": null,
       "grid_area": null,
       "grid_auto_columns": null,
       "grid_auto_flow": null,
       "grid_auto_rows": null,
       "grid_column": null,
       "grid_gap": null,
       "grid_row": null,
       "grid_template_areas": null,
       "grid_template_columns": null,
       "grid_template_rows": null,
       "height": null,
       "justify_content": null,
       "justify_items": null,
       "left": null,
       "margin": null,
       "max_height": null,
       "max_width": null,
       "min_height": null,
       "min_width": null,
       "object_fit": null,
       "object_position": null,
       "order": null,
       "overflow": null,
       "overflow_x": null,
       "overflow_y": null,
       "padding": null,
       "right": null,
       "top": null,
       "visibility": null,
       "width": null
      }
     },
     "ddb38a06fc2a4ff693893e45ce1bd5a1": {
      "model_module": "@jupyter-widgets/base",
      "model_module_version": "1.2.0",
      "model_name": "LayoutModel",
      "state": {
       "_model_module": "@jupyter-widgets/base",
       "_model_module_version": "1.2.0",
       "_model_name": "LayoutModel",
       "_view_count": null,
       "_view_module": "@jupyter-widgets/base",
       "_view_module_version": "1.2.0",
       "_view_name": "LayoutView",
       "align_content": null,
       "align_items": null,
       "align_self": null,
       "border": null,
       "bottom": null,
       "display": null,
       "flex": null,
       "flex_flow": null,
       "grid_area": null,
       "grid_auto_columns": null,
       "grid_auto_flow": null,
       "grid_auto_rows": null,
       "grid_column": null,
       "grid_gap": null,
       "grid_row": null,
       "grid_template_areas": null,
       "grid_template_columns": null,
       "grid_template_rows": null,
       "height": null,
       "justify_content": null,
       "justify_items": null,
       "left": null,
       "margin": null,
       "max_height": null,
       "max_width": null,
       "min_height": null,
       "min_width": null,
       "object_fit": null,
       "object_position": null,
       "order": null,
       "overflow": null,
       "overflow_x": null,
       "overflow_y": null,
       "padding": null,
       "right": null,
       "top": null,
       "visibility": null,
       "width": null
      }
     },
     "e142eb19c26b42f9b4a1b938a02de59d": {
      "model_module": "@jupyter-widgets/controls",
      "model_module_version": "1.5.0",
      "model_name": "SliderStyleModel",
      "state": {
       "_model_module": "@jupyter-widgets/controls",
       "_model_module_version": "1.5.0",
       "_model_name": "SliderStyleModel",
       "_view_count": null,
       "_view_module": "@jupyter-widgets/base",
       "_view_module_version": "1.2.0",
       "_view_name": "StyleView",
       "description_width": "",
       "handle_color": null
      }
     },
     "e53a37024ce7422bbfed76aa7e7c4c73": {
      "model_module": "@jupyter-widgets/controls",
      "model_module_version": "1.5.0",
      "model_name": "SliderStyleModel",
      "state": {
       "_model_module": "@jupyter-widgets/controls",
       "_model_module_version": "1.5.0",
       "_model_name": "SliderStyleModel",
       "_view_count": null,
       "_view_module": "@jupyter-widgets/base",
       "_view_module_version": "1.2.0",
       "_view_name": "StyleView",
       "description_width": "",
       "handle_color": null
      }
     },
     "f8e7745bd73c48a2b3054dae4a6c7af2": {
      "model_module": "@jupyter-widgets/base",
      "model_module_version": "1.2.0",
      "model_name": "LayoutModel",
      "state": {
       "_model_module": "@jupyter-widgets/base",
       "_model_module_version": "1.2.0",
       "_model_name": "LayoutModel",
       "_view_count": null,
       "_view_module": "@jupyter-widgets/base",
       "_view_module_version": "1.2.0",
       "_view_name": "LayoutView",
       "align_content": null,
       "align_items": null,
       "align_self": null,
       "border": null,
       "bottom": null,
       "display": null,
       "flex": null,
       "flex_flow": null,
       "grid_area": null,
       "grid_auto_columns": null,
       "grid_auto_flow": null,
       "grid_auto_rows": null,
       "grid_column": null,
       "grid_gap": null,
       "grid_row": null,
       "grid_template_areas": null,
       "grid_template_columns": null,
       "grid_template_rows": null,
       "height": null,
       "justify_content": null,
       "justify_items": null,
       "left": null,
       "margin": null,
       "max_height": null,
       "max_width": null,
       "min_height": null,
       "min_width": null,
       "object_fit": null,
       "object_position": null,
       "order": null,
       "overflow": null,
       "overflow_x": null,
       "overflow_y": null,
       "padding": null,
       "right": null,
       "top": null,
       "visibility": null,
       "width": null
      }
     }
    },
    "version_major": 2,
    "version_minor": 0
   }
  }
 },
 "nbformat": 4,
 "nbformat_minor": 5
}