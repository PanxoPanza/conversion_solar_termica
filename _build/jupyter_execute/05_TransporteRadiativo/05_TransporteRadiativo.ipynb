{
 "cells": [
  {
   "cell_type": "code",
   "execution_count": 1,
   "id": "3c597da7",
   "metadata": {
    "slideshow": {
     "slide_type": "skip"
    },
    "tags": [
     "remove-cell"
    ]
   },
   "outputs": [],
   "source": [
    "import importlib.util\n",
    "if importlib.util.find_spec('empylib') is None:\n",
    "    !pip install git+https://github.com/PanxoPanza/empylib.git"
   ]
  },
  {
   "cell_type": "markdown",
   "id": "8b01ca79",
   "metadata": {
    "slideshow": {
     "slide_type": "slide"
    }
   },
   "source": [
    "# Transporte Radiativo"
   ]
  },
  {
   "cell_type": "markdown",
   "id": "580ab8db",
   "metadata": {
    "slideshow": {
     "slide_type": "slide"
    }
   },
   "source": [
    "## Introducción"
   ]
  },
  {
   "cell_type": "markdown",
   "id": "dadf38f1",
   "metadata": {
    "slideshow": {
     "slide_type": "fragment"
    }
   },
   "source": [
    "En la [unidad 2](../02_ondas_EM_en_la_materia/02_ondas_EM_en_la_materia.ipynb) revisamos el efecto de interferencia en películas de espesor finito, y como está daba lugar a la coloración tornasol caractéristica en derrames de aceites en agua, lentes y discos compactos.\n",
    "\n",
    "<img src=\"./images/interference_oils.png\" width=\"700px\" align= center>"
   ]
  },
  {
   "cell_type": "markdown",
   "id": "d2dc01e9",
   "metadata": {
    "slideshow": {
     "slide_type": "fragment"
    }
   },
   "source": [
    "Si, teóricamente, el efecto de interferencia ocurre cada vez que tenemos un tercer material intercalado entre dos materiales (iguales o diferentes). **¿Porqué no visualizamos este efecto en ventanas u otros materiales de gran espesor?**"
   ]
  },
  {
   "cell_type": "markdown",
   "id": "9ff4cae4",
   "metadata": {
    "slideshow": {
     "slide_type": "slide"
    }
   },
   "source": [
    "## Coherencia de la luz e interferencia\n",
    "\n",
    "Para entender esto, primero debemos revisar la distribución espectral de fuentes reales de luz\n",
    "\n",
    "<img src=\"./images/light_source_spectra.png\" width=\"800px\" align= center>"
   ]
  },
  {
   "cell_type": "markdown",
   "id": "16081fa2",
   "metadata": {
    "slideshow": {
     "slide_type": "fragment"
    }
   },
   "source": [
    "Como vemos, una fuente emite luz en varias longitudes de onda y a distinta intensidad. Así, las ondas emitidas se superponen, generando una onda resultante con una forma distinta a $e^{i(\\vec{k}\\cdot\\vec{r} -\\omega t)}$."
   ]
  },
  {
   "cell_type": "markdown",
   "id": "b54cf722",
   "metadata": {
    "slideshow": {
     "slide_type": "slide"
    }
   },
   "source": [
    "Consideremos, por ejemplo, una fuente de luz con una distribución espectral normal, centrada en $\\lambda_0$ y con una desviación estandar $\\pm\\sigma_\\lambda\\lambda_0$, con $\\sigma_\\lambda \\in [0,1]$. Imaginemos esta fuente como $N$ emisores, donde cada emisor $j$ emite una onda electromagnéticas con longitud de onda $\\lambda \\pm\\Delta \\lambda_j$, donde $\\Delta \\lambda_j$ es escogido aleatoriamente a partir de la distribución normal."
   ]
  },
  {
   "cell_type": "markdown",
   "id": "31f81723",
   "metadata": {
    "cell_style": "split",
    "slideshow": {
     "slide_type": "fragment"
    }
   },
   "source": [
    "<img src=\"./images/normal_distribution.png\" width=\"400px\" align= center>"
   ]
  },
  {
   "cell_type": "markdown",
   "id": "76d68ef4",
   "metadata": {
    "cell_style": "split",
    "slideshow": {
     "slide_type": "fragment"
    }
   },
   "source": [
    "Asumiendo ondas en el aire en dirección $\\hat{k} = \\hat{x}$, el campo eléctrico resultante es:\n",
    "\n",
    "\\begin{equation*}\n",
    "\\vec{E}_\\mathrm{tot} = \\sum_j^N E_0e^{i\\left(k_jx - \\omega_j t\\right)} \\hat{z},\n",
    "\\end{equation*}\n",
    "\n",
    "donde $k_j = \\frac{2\\pi}{\\lambda \\pm\\Delta \\lambda_j}$, y $\\omega_j = c_0k_j$"
   ]
  },
  {
   "cell_type": "markdown",
   "id": "e5e55e68",
   "metadata": {
    "cell_style": "center",
    "slideshow": {
     "slide_type": "slide"
    }
   },
   "source": [
    "Analicemos el comportamiento de $\\vec{E}_\\mathrm{tot} /E_0$ para $\\lambda_0 = 500$ nm"
   ]
  },
  {
   "cell_type": "code",
   "execution_count": 2,
   "id": "37df7e74",
   "metadata": {
    "cell_style": "center",
    "slideshow": {
     "slide_type": "skip"
    },
    "tags": [
     "hide-input"
    ]
   },
   "outputs": [],
   "source": [
    "import numpy as np\n",
    "from numpy.random import normal\n",
    "import matplotlib.pyplot as plt\n",
    "\n",
    "def light_packet(kdir, x, t, lam, sig, N):\n",
    "    c0 = 3E8          # velocidad de la luz (m/s)\n",
    "    xx = np.meshgrid(x,np.ones(N))[0]\n",
    "    \n",
    "    # Generamos arreglo de ondas aleatorias\n",
    "    dlamj =  normal(0, lam*sig,N)\n",
    "    kj = (2*np.pi/(lam + dlamj)).reshape(-1,1)\n",
    "    wj = c0*kj\n",
    "    Erand = np.exp(1j*(kdir*kj*xx-wj*t)) \n",
    "    \n",
    "    # Sumamos todas las ondas\n",
    "    return np.sum(Erand,axis=0)\n",
    " \n",
    "def plot_light_packet(N, t, sig):\n",
    "    '''\n",
    "    n: número de ondas generadas\n",
    "    t: tiempo en ns\n",
    "    sig: % de ancho de banda (dlam = sig*lam)\n",
    "    '''\n",
    "    lam = 0.5         # longitud de onda (um)\n",
    "    t = t*1E-9 # convertimos ns a s\n",
    "    \n",
    "    # recorrido de la onda\n",
    "    x = np.linspace(-2,2,1000)  # desde 0 a 4 micrones\n",
    "    E = light_packet(1, x, t, lam, sig, N)\n",
    "    \n",
    "    # Graficamos\n",
    "    fig, ax = plt.subplots()\n",
    "    fig.set_size_inches(6, 3)\n",
    "    plt.rcParams['font.size'] = '12'\n",
    "    \n",
    "    ax.plot(x,np.real(E), 'k')\n",
    "    ax.set_xlabel('x ($\\mu$m)')\n",
    "    ax.set_ylabel('Amplitud $|E|/E_0$')\n",
    "    ax.set_ylim(-N*1.1,N*1.1)\n",
    "    ax.grid()\n"
   ]
  },
  {
   "cell_type": "code",
   "execution_count": 3,
   "id": "5c81aca7",
   "metadata": {
    "cell_style": "center",
    "slideshow": {
     "slide_type": "fragment"
    },
    "tags": [
     "hide-input"
    ]
   },
   "outputs": [
    {
     "data": {
      "application/vnd.jupyter.widget-view+json": {
       "model_id": "7dd4a578203d4d4ca0d55fd46d283db5",
       "version_major": 2,
       "version_minor": 0
      },
      "text/plain": [
       "interactive(children=(IntSlider(value=1000, description='N', max=1000, min=1), FloatSlider(value=0.0, descript…"
      ]
     },
     "metadata": {},
     "output_type": "display_data"
    }
   ],
   "source": [
    "from ipywidgets import interact\n",
    "\n",
    "@interact( N=(1,1000,1), \n",
    "           t=(-10,10,0.1),\n",
    "           sig=(0,1,0.01))\n",
    "def g(N=1000, t=0, sig=0.3):\n",
    "    return plot_light_packet(N,t,sig)"
   ]
  },
  {
   "cell_type": "markdown",
   "id": "b53bb755",
   "metadata": {
    "slideshow": {
     "slide_type": "slide"
    }
   },
   "source": [
    "### Longitud de coherencia\n",
    "Definimos como **longitud de coherencia**, $l_c$, a la distancia donde un grupo de ondas electromagnética mantiene correlación entre las fases. Dos puntos en una paquete de onda separados a una distancia mayor a $l_c$ son incoherentes, es decir, no están correlacionados"
   ]
  },
  {
   "cell_type": "markdown",
   "id": "3ea340f8",
   "metadata": {
    "cell_style": "split",
    "slideshow": {
     "slide_type": "fragment"
    }
   },
   "source": [
    "<img src=\"./images/coherence_length.png\" width=\"300px\" align= center>\n",
    "\n",
    "<center>Esquema de un paquete de onda emitido por una fuente con longitud de coherencia $l_c$</center>"
   ]
  },
  {
   "cell_type": "markdown",
   "id": "1f71b46f",
   "metadata": {
    "cell_style": "split",
    "slideshow": {
     "slide_type": "fragment"
    }
   },
   "source": [
    "La relación entre $l_c$, la longitud de onda central $\\lambda$ y el ancho de banda $\\Delta\\lambda$ está dado, aproximadamente, por la relación:\n",
    "\n",
    "\\begin{equation*}\n",
    "l_c \\approx \\frac{\\lambda^2}{n\\Delta \\lambda},\n",
    "\\end{equation*}\n",
    "\n",
    "donde $n$ es el indice de refracción del medio donde se propaga la luz.\n",
    "\n",
    "Por ejemplo, para lasers He-Ne (laser rojo)  $l_c\\approx 0.2 - 100$ m.  "
   ]
  },
  {
   "cell_type": "markdown",
   "id": "b8e319bd",
   "metadata": {
    "slideshow": {
     "slide_type": "slide"
    }
   },
   "source": [
    "Para radiación emitida por un cuerpo a temperatura $T$, la longitud de coherencia está dada por:\n",
    "\n",
    "\\begin{equation*}\n",
    "l_c T = 2167.8~\\mathrm{\\mu m~K}\n",
    "\\end{equation*}\n",
    "\n",
    "Así, por ejemplo, la radiación solar ($T \\approx 5800~\\mathrm{K}$) tiene una longitud de coherencia, $l_c \\approx 370~\\mathrm{nm}$"
   ]
  },
  {
   "cell_type": "markdown",
   "id": "659f7454",
   "metadata": {
    "slideshow": {
     "slide_type": "slide"
    }
   },
   "source": [
    "### Régimen de trasporte de luz\n",
    "Los fenómenos de interferencia descritos en las unidades anteriores existen debido a la forma oscilatoria de la luz. **Dos paquetes de ondas distintos son incoherentes, y la superposición de estos no genera interferencia.**"
   ]
  },
  {
   "cell_type": "markdown",
   "id": "615ad1c6",
   "metadata": {
    "slideshow": {
     "slide_type": "slide"
    }
   },
   "source": [
    "En otras palabras, el fenómeno de interferencia solo existe si el paquete de onda interfiere consigo mismo. Así, podemos concluir que los fenómenos de interferencia en películas de espesor $d$ no serían visibles si $d > l_c$. "
   ]
  },
  {
   "cell_type": "markdown",
   "id": "db4d20e4",
   "metadata": {
    "cell_style": "split",
    "slideshow": {
     "slide_type": "fragment"
    }
   },
   "source": [
    "<img src=\"./images/interference_thinfilm.png\" width=\"200px\" align= center>\n",
    "\n",
    "<center>Propagación de una onda a través de una película de espesor $d$, con $l_c < d$</center>"
   ]
  },
  {
   "cell_type": "markdown",
   "id": "fce7ef57",
   "metadata": {
    "cell_style": "split",
    "slideshow": {
     "slide_type": "fragment"
    }
   },
   "source": [
    "En general, para una longitud características $d$, la regla es:\n",
    "\n",
    "- Si $d > l_c$ el **transporte de luz es incoherente** . En este régimen, podemos ignorar las propiedades oscilatorias de la luz, y analizar el problema como el transporte de pequeños paquetes de onda, o simplemente como partículas.\n",
    "\n",
    "- Si $d < l_c$, el **transporte de luz es coherente**. En este régimen debemos considerar las propiedades oscilatorias a partir de las Ecuaciones de Maxwell."
   ]
  },
  {
   "cell_type": "markdown",
   "id": "06aab8e7",
   "metadata": {
    "cell_style": "center",
    "slideshow": {
     "slide_type": "fragment"
    }
   },
   "source": [
    "Así, **los coeficientes de Fresnel para una película delgada solo son aplicables si $d < l_c$.**"
   ]
  },
  {
   "cell_type": "markdown",
   "id": "c7f85265",
   "metadata": {
    "cell_style": "center",
    "slideshow": {
     "slide_type": "slide"
    }
   },
   "source": [
    "Los coeficientes de Fresnel para una interface, en cambio, siempre son válidos debido a que consideran una interface infinitamente delgada."
   ]
  },
  {
   "cell_type": "markdown",
   "id": "57178760",
   "metadata": {
    "cell_style": "center",
    "slideshow": {
     "slide_type": "fragment"
    }
   },
   "source": [
    "<img src=\"./images/interference_interface.png\" width=\"350px\" align= center>\n",
    "\n",
    "<center>Refracción y reflexión de una onda incoherente a través de una interfaz</center>"
   ]
  },
  {
   "cell_type": "markdown",
   "id": "0c79f1b6",
   "metadata": {
    "slideshow": {
     "slide_type": "slide"
    }
   },
   "source": [
    "En medios particulados, los fenómenos de interferencia pueden ocurrir si las partículas están suficientemente cerca y tienen tamaños similares. Llamamos a esto **scattering coherente**"
   ]
  },
  {
   "cell_type": "markdown",
   "id": "61e2a519",
   "metadata": {
    "slideshow": {
     "slide_type": "fragment"
    }
   },
   "source": [
    "<img src=\"./images/scattering_coherence.png\" width=\"600px\" align= center>\n",
    "\n",
    "<center>Fenómeno de interferencia en scattering</center>"
   ]
  },
  {
   "cell_type": "markdown",
   "id": "8167d93c",
   "metadata": {
    "slideshow": {
     "slide_type": "slide"
    }
   },
   "source": [
    "El fenómeno de scattering coherente da lugar a los denominados **colores estructurales** presentes en las alas de las aves y mariposas (mas info [acá](https://wires.onlinelibrary.wiley.com/doi/10.1002/wnan.1396))"
   ]
  },
  {
   "cell_type": "markdown",
   "id": "06446d60",
   "metadata": {
    "cell_style": "split",
    "slideshow": {
     "slide_type": "fragment"
    }
   },
   "source": [
    "<img src=\"./images/structural_colors_birds.png\" width=\"550px\" align= center>\n",
    "\n",
    "<center>Colores estructurales en alas de aves</center>\n",
    "\n",
    "Fuente: [Hwang, V. et al. PNAS 118 (4) e2015551118\n",
    " (2020)](https://www.pnas.org/doi/10.1073/pnas.2015551118)"
   ]
  },
  {
   "cell_type": "markdown",
   "id": "71eaafb2",
   "metadata": {
    "cell_style": "split",
    "slideshow": {
     "slide_type": "fragment"
    }
   },
   "source": [
    "<img src=\"./images/structural_colors_buterflies.png\" width=\"450px\" align= center>\n",
    "\n",
    "<center>Colores estructurales en alas de mariposa</center>\n",
    "\n",
    "Fuente: [Tippets C. A. et al. J. Opt. 18 (2016) 065105](https://iopscience.iop.org/article/10.1088/2040-8978/18/6/065105)"
   ]
  },
  {
   "cell_type": "markdown",
   "id": "f629fcbe",
   "metadata": {
    "slideshow": {
     "slide_type": "slide"
    }
   },
   "source": [
    "## Teoría de transferencia radiativa\n",
    "Si el transporte de luz es incoherente, podemos ignorar las propiedades oscilatorias de la luz y analizar el fenómeno óptico como un el transporte de radiación a través de un volumen de control."
   ]
  },
  {
   "cell_type": "markdown",
   "id": "f62e3c70",
   "metadata": {
    "slideshow": {
     "slide_type": "slide"
    }
   },
   "source": [
    "### Intensidad específica"
   ]
  },
  {
   "cell_type": "markdown",
   "id": "790c7714",
   "metadata": {
    "cell_style": "split",
    "slideshow": {
     "slide_type": "-"
    }
   },
   "source": [
    "Definimos como **radiancia espectral o intensidad específica**, $I_\\lambda$, al flujo de energía por **ángulo sólido diferencial**, $d\\Omega$, para una longitud de onda $\\lambda$.\n",
    "\n",
    "<img src=\"./images/specific_intensity.png\" width=\"300px\" align= center>"
   ]
  },
  {
   "cell_type": "markdown",
   "id": "8568f20b",
   "metadata": {
    "cell_style": "split",
    "slideshow": {
     "slide_type": "fragment"
    }
   },
   "source": [
    "El ángulo sólido define el tamaño relativo del área $S$ para un observador en $P$ a una distancia $r$. \n",
    "\n",
    "El diferencial está definido por $d\\Omega = \\sin\\theta d\\theta d\\phi$\n",
    "\n",
    "<img src=\"./images/solid_angle.png\" width=\"450px\" align= center>"
   ]
  },
  {
   "cell_type": "markdown",
   "id": "0d8ed016",
   "metadata": {
    "slideshow": {
     "slide_type": "slide"
    }
   },
   "source": [
    "Es importante aclarar que los conceptos intensidad específica y vector de Poynting $\\langle\\vec{S}\\rangle$, son equivalentes: $I_\\lambda(\\hat{k})$ es un término utilizado en radiometría para definir el flujo de energía por unidad de ángulo sólido, mientras que $\\langle\\vec{S}\\rangle$ es un término utilizado en óptica para describir el flujo de energía en dirección $\\hat{k}$. Cabe destacar, sin embargo, que $I_\\lambda(\\hat{k})$ es una magnitud, y $\\langle\\vec{S}\\rangle$ es un vector. Así, podríamos decir que la relación entre estos dos términos está dada por $I_\\lambda(\\hat{k}) = \\langle\\vec{S}\\rangle\\cdot\\hat{k}$."
   ]
  },
  {
   "cell_type": "markdown",
   "id": "921c9262",
   "metadata": {
    "slideshow": {
     "slide_type": "slide"
    }
   },
   "source": [
    "### Ecuación de transferencia radiativa\n",
    "La **ecuación de transferencia radiativa** (RTE por sus siglas en ingles), es una ecuación de transporte que describe la propagación de la radiancia espectral, $I_\\lambda(\\vec{r},\\hat{k})$, en función de la posición posición $\\vec{r}$ y dirección $\\hat{k}$. En su forma más general, para un problema estacionario:\n",
    "\n",
    "\\begin{equation}\n",
    "\\hat{k}\\cdot\\nabla_r I_\\lambda(\\vec{r},\\hat{k}) = - \\left[\\frac{f_v}{V_p}C_\\mathrm{ext} + 2\\kappa k_0\\right]I_\\lambda(\\vec{r},\\hat{k}) + \\frac{f_v}{V_p}\\int_{4\\pi} P_\\mathrm{sca}(\\hat{k},\\hat{k}') I_\\lambda(\\vec{r},\\hat{k}') d\\Omega'\n",
    "\\end{equation}"
   ]
  },
  {
   "cell_type": "markdown",
   "id": "44c82ce8",
   "metadata": {
    "slideshow": {
     "slide_type": "fragment"
    }
   },
   "source": [
    "donde $f_v$ y $V_p$ son, respectivamente la fracción de volúmen y el volúmen de las partículas en el medio, y $P_\\mathrm{sca}(\\hat{k},\\hat{k}')$ es la función de fase."
   ]
  },
  {
   "cell_type": "markdown",
   "id": "84f7041f",
   "metadata": {
    "slideshow": {
     "slide_type": "slide"
    }
   },
   "source": [
    "Notar que consideramos el caso más generalizado de la función de fase, que depende tanto de la dirección de la radiación incidente $\\hat{k}$ como de la dirección del scattering $\\hat{k}'$. Ambas definidas por ángulo sólido"
   ]
  },
  {
   "cell_type": "markdown",
   "id": "556660a5",
   "metadata": {
    "cell_style": "center",
    "slideshow": {
     "slide_type": "fragment"
    }
   },
   "source": [
    "En el caso de una esfera, $\\hat{k}_\\mathrm{sca} = \\hat{k}$ y $\\hat{k}_\\mathrm{inc} = \\hat{k}'$. Así, la función de fase depende de $\\theta$, el cual está definido por $\\cos\\theta = \\hat{k}\\cdot\\hat{k}'$\n",
    "\n"
   ]
  },
  {
   "cell_type": "markdown",
   "id": "b7b71333",
   "metadata": {
    "slideshow": {
     "slide_type": "slide"
    }
   },
   "source": [
    "Con esto en mente, ahora podemos discutir el significado de los términos en la RTE:"
   ]
  },
  {
   "cell_type": "markdown",
   "id": "12e1a1e8",
   "metadata": {
    "slideshow": {
     "slide_type": "fragment"
    }
   },
   "source": [
    "- El primer término representa el cambio de $I_\\lambda(\\vec{r},\\hat{k})$ a través volumen diferencial. Por ejemplo, en el caso unidimencional en dirección $\\hat{k} = \\hat{x}$, tenemos: \n",
    "\n",
    "\\begin{equation*}\n",
    "\\hat{x}\\cdot\\nabla_r I_\\lambda(\\vec{r},\\hat{k}) = \\frac{\\partial}{\\partial x}I_\\lambda(\\vec{r},\\hat{k})\n",
    "\\end{equation*}"
   ]
  },
  {
   "cell_type": "markdown",
   "id": "231c3da9",
   "metadata": {
    "slideshow": {
     "slide_type": "fragment"
    }
   },
   "source": [
    "- El segundo término representa la pérdida de energía radiativa, por extinción $\\left(\\frac{f_v}{V_p}C_\\mathrm{ext}\\right)$ y absorción en el material material ($2\\kappa k_0$), respectivamente. Recordemos que la extinción representa la energía absorbida por las partículas + la energía de scattering en direcciónes distintas a $\\hat{k}$, es decir $C_\\mathrm{ext}= C_\\mathrm{abs} + C_\\mathrm{sca}$."
   ]
  },
  {
   "cell_type": "markdown",
   "id": "4754c5ed",
   "metadata": {
    "slideshow": {
     "slide_type": "fragment"
    }
   },
   "source": [
    "- El tercer término representa la ganancia de energía radiativa produco del scattering inducido por radiación incidente en dirección $\\hat{k}'$. Este término representa el fenómeno de **scattering múltiple**."
   ]
  },
  {
   "cell_type": "markdown",
   "id": "43766712",
   "metadata": {
    "slideshow": {
     "slide_type": "slide"
    }
   },
   "source": [
    "## Soluciones de la RTE\n",
    "La ecuación de transferencia radiativa permite explicar de forma fenomenológica el transporte de radiación en un medio particulado. Debido a su complejidad, existen pocas soluciones analíticas. En esta sección describiremos las tres más conocidas."
   ]
  },
  {
   "cell_type": "markdown",
   "id": "6037462f",
   "metadata": {
    "slideshow": {
     "slide_type": "slide"
    }
   },
   "source": [
    "### Película de material sin partículas (Reflectividad y Transmisividad incoherente)\n",
    "En el caso de un medio sin partículas solo debemos considerar el primer término de la RTE. "
   ]
  },
  {
   "cell_type": "markdown",
   "id": "38e80853",
   "metadata": {
    "slideshow": {
     "slide_type": "fragment"
    }
   },
   "source": [
    "Para el caso particular de un material de espesor $t_\\mathrm{film}$ e índice de refracción $N = n + \\kappa$, rodeado por un medio con índice de refracción $N_0$, derivamos las siguientes relaciones de reflectividad y tranmisividad para luz incoherente:\n",
    "\n",
    "\\begin{align}\n",
    "R_\\mathrm{incoh}&= R_0 + \\frac{T_0^2R_0e^{-4\\kappa k_0 t_\\mathrm{film}}}{1 - R_0^2e^{-4\\kappa k_0 t_\\mathrm{film}}} \n",
    "\\\\[10pt]\n",
    "T_\\mathrm{incoh} &= \\frac{T_0^2e^{-4\\kappa k_0 t_\\mathrm{film}}}{1 - R_0^2e^{-4\\kappa k_0 t_\\mathrm{film}}}\n",
    "\\end{align}\n",
    "\n",
    "donde $R_0$ y $T_0$ corresponden, respectivamente, a la reflectividad y transmisividad en la interface $N_0 / N_1$"
   ]
  },
  {
   "cell_type": "markdown",
   "id": "7b8cb924",
   "metadata": {
    "slideshow": {
     "slide_type": "slide"
    }
   },
   "source": [
    "En el siguiente ejemplo, utilizamos la función ```incoh_multilayer``` de la libreria ```empylib.waveoptics```. Esta función es más general que la ecuación anterior y permite determinar $R_\\mathrm{incoh}$ y $T_\\mathrm{incoh}$ para arreglos multicapas. "
   ]
  },
  {
   "cell_type": "markdown",
   "id": "2a3e7bbc",
   "metadata": {
    "slideshow": {
     "slide_type": "fragment"
    }
   },
   "source": [
    "En este caso, evaluaremos una película de sílice de espesor $1~\\mu\\mathrm{m}$, sobre un sustrato con íncide de refracción $N_\\mathrm{back} = 4.3$, y con aire en la superficie $N_\\mathrm{front} = 1.0$. El espectro de longitudes de onda $\\lambda\\in[0.3,0.8]~\\mu\\mathrm{m}$ y el ángulo de incidencia $\\theta_i = 30°$. Para comparar, determinaremos $R$ y $T$ para el caso de luz coherente."
   ]
  },
  {
   "cell_type": "code",
   "execution_count": 4,
   "id": "a99aa431",
   "metadata": {
    "cell_style": "center",
    "slideshow": {
     "slide_type": "slide"
    },
    "tags": [
     "hide-input"
    ]
   },
   "outputs": [],
   "source": [
    "import numpy as np\n",
    "import empylib.waveoptics as wv\n",
    "import empylib.nklib as nk\n",
    "\n",
    "lam = np.linspace(0.3,0.8,100)  # espectro de longitudes de onda (um)\n",
    "theta = np.radians(30)          # ángulo de incidencia\n",
    "\n",
    "Nfront = 1.0                 # índice de refracción medio superior\n",
    "N1     = 1.5                 # índice de refracción capa delgada\n",
    "Nback  = 4.3                 # índice de refracción medio inferior\n",
    "N = (Nfront, N1, Nback)      # indices de refracción (above, mid, below)\n",
    "d = 1.0                      # espesor capa intermedia (um)\n",
    "\n",
    "# caso luz incoherente\n",
    "Rp_incoh, Tp_incoh = wv.incoh_multilayer(lam,theta, N, d, pol='TM')\n",
    "# caso luz coherente\n",
    "Rp, Tp = wv.multilayer(lam,theta, N, d, pol='TM')[:2]"
   ]
  },
  {
   "cell_type": "code",
   "execution_count": 5,
   "id": "3bee2ad8",
   "metadata": {
    "cell_style": "center",
    "slideshow": {
     "slide_type": "fragment"
    },
    "tags": [
     "hide-input"
    ]
   },
   "outputs": [
    {
     "data": {
      "image/png": "[encoded data removed]",
      "text/plain": [
       "<Figure size 600x350 with 1 Axes>"
      ]
     },
     "metadata": {
      "filenames": {
       "image/png": "/mnt/c/Users/francisco.ramirez.c/OneDrive - Universidad Adolfo Ibanez/Teaching_courses/MEC501 - Manejo_y_Conversion_Energia_Solar/material_catedra/_build/jupyter_execute/05_TransporteRadiativo/05_TransporteRadiativo_48_0.png"
      }
     },
     "output_type": "display_data"
    }
   ],
   "source": [
    "fig, ax = plt.subplots()\n",
    "fig.set_size_inches(6, 3.5)\n",
    "plt.rcParams['font.size'] = '12'\n",
    "\n",
    "# Graficamos el flujo de energía\n",
    "plt.plot(lam,Rp,'--r',label='$R_\\mathrm{TM}$ (coh)')\n",
    "plt.plot(lam,Tp,'--b',label='$T_\\mathrm{TM}$ (coh)')\n",
    "plt.plot(lam,Rp_incoh,'-r',label='$R_\\mathrm{TM}$ (incoh)')\n",
    "plt.plot(lam,Tp_incoh,'-b',label='$T_\\mathrm{TM}$ (incoh)')\n",
    "plt.title('arreglo 1.0/1.5/4.3')\n",
    "plt.xlabel('Longitud de onda ($\\mu$m)')\n",
    "plt.ylabel('Refletividad / Transmisividad')\n",
    "plt.ylim(0,1)\n",
    "plt.legend()\n",
    "plt.show()"
   ]
  },
  {
   "cell_type": "markdown",
   "id": "c6ed7877",
   "metadata": {
    "cell_style": "center",
    "slideshow": {
     "slide_type": "slide"
    }
   },
   "source": [
    "En la figura, para el caso de luz coherente, notamos oscilaciones en $R$ y $T$ producto de los fenómenos de interferencia. En el caso de luz incoherente, el fenómeno de interferencia desaparace."
   ]
  },
  {
   "cell_type": "markdown",
   "id": "a5316b37",
   "metadata": {
    "slideshow": {
     "slide_type": "slide"
    }
   },
   "source": [
    "### Película de material con baja concentración de partículas (Ley de Beer-Lambert)\n",
    "Definimos el **camino libre medio de scattering**, como $\\Lambda_\\mathrm{sca} = \\left(f_v C_\\mathrm{sca}/V_p\\right)^{-1}$. Este parametro representa la distancia promedio que recorre la luz entre eventos de scattering."
   ]
  },
  {
   "cell_type": "markdown",
   "id": "a352fb08",
   "metadata": {
    "cell_style": "center",
    "slideshow": {
     "slide_type": "fragment"
    }
   },
   "source": [
    "Si $\\Lambda_\\mathrm{sca}$ es mayor que el espesor del material, $t_\\mathrm{film}$, la probabilidad de que ocurran más de un evento scattering es despreciable, y decimos que el **scattering es de primer orden**. En este caso, el tercer término de la RTE es despreciable y la radiación solo pierde energía por absorción del material o extinción inducida por las partículas."
   ]
  },
  {
   "cell_type": "markdown",
   "id": "9407f0e6",
   "metadata": {
    "slideshow": {
     "slide_type": "slide"
    }
   },
   "source": [
    "La solución a esta ecuación se conoce como la ley de Beer-Lambert. Mediante esta aproximación podemos deducir las componentes total y especular de la transmitancia:\n",
    "\n",
    "\\begin{equation}\n",
    "T_\\mathrm{tot} = T_0 e^{-f_v\\frac{C_\\mathrm{abs}}{V_p}t_\\mathrm{film}}\\quad\\quad\\mathrm{and}\\quad\\quad \n",
    "T_\\mathrm{spec} = T_0 e^{-f_v\\frac{C_\\mathrm{ext}}{V_p}t_\\mathrm{film}}\n",
    "\\end{equation}\n",
    "\n",
    "donde, $T_0$ es la **transmisividad incoherente del material sin incrustaciones**."
   ]
  },
  {
   "cell_type": "markdown",
   "id": "2f29ecb5",
   "metadata": {
    "slideshow": {
     "slide_type": "fragment"
    }
   },
   "source": [
    "<img src=\"./images/beer_lambert.png\" width=\"500px\" align= center>\n",
    "\n",
    "<center>Transporte de luz en un medio con scattering de primer orden</center>"
   ]
  },
  {
   "cell_type": "markdown",
   "id": "963bc3c6",
   "metadata": {
    "slideshow": {
     "slide_type": "slide"
    }
   },
   "source": [
    "Podemos utilizar la ley de Beer-Lambert para analizar, de forma aproximada, el efecto del color del cielo durante el día y en la tarde."
   ]
  },
  {
   "cell_type": "markdown",
   "id": "227d193d",
   "metadata": {
    "slideshow": {
     "slide_type": "fragment"
    }
   },
   "source": [
    "El color del cielo está dado por la componente difusa. Así calculamos $T_\\mathrm{dif} = T_\\mathrm{tot} - T_\\mathrm{spec}$."
   ]
  },
  {
   "cell_type": "markdown",
   "id": "a2577fed",
   "metadata": {
    "slideshow": {
     "slide_type": "fragment"
    }
   },
   "source": [
    "Consideremos una atmosfera compuesta de aire ($N_h = 1.0$) y una pequeña concentración ($f_v = 1\\times 10^{-6}~\\%$) de partículas de 10 nm de diámetro e índice de refracción $N_p = 1.5$. El espesor de la atmosfera es $t_\\mathrm{atm} = 100~\\mathrm{km}$"
   ]
  },
  {
   "cell_type": "code",
   "execution_count": 6,
   "id": "33491447",
   "metadata": {
    "cell_style": "center",
    "slideshow": {
     "slide_type": "slide"
    },
    "tags": [
     "hide-input"
    ]
   },
   "outputs": [],
   "source": [
    "import empylib.rad_transfer as rt\n",
    "import empylib.nklib as nk\n",
    "import numpy as np\n",
    "import matplotlib.pyplot as plt\n",
    "from empylib.ref_spectra import AM15, Bplanck\n",
    "from empylib.ref_spectra import color_system as cs\n",
    "cs = cs.hdtv\n",
    "\n",
    "lam1 = np.linspace(0.38,0.78,100) # espectro de longitudes de onda\n",
    "cs.interp_internals(lam1)\n",
    "def plot_atmosphere(theta_sun):\n",
    "    fig, ax = plt.subplots()          \n",
    "    fig.set_size_inches(6, 4)         # Tamaño del gráfico\n",
    "    plt.rcParams['font.size'] = '12'  # tamaño de  fuente\n",
    "    \n",
    "    # parámetros de entrada\n",
    "    tatm = 100E6                      # espesor de la atmósfera en mm\n",
    "    N = (1.0,1.0,1.0)                 # indice de refracción superior, intermedio e inferior\n",
    "    fvp = 1E-8                        # fracción de volúmen de las partículas\n",
    "    Dp = 0.010                        # diámetro de las partículas\n",
    "    Np = 1.5                          # índice de refracción de las partículas\n",
    "    \n",
    "    # transmitancia total y especular|\n",
    "    theta = np.radians(theta_sun)    # posición del sol en radianes\n",
    "    Ttot, Tspec = rt.T_beer_lambert(lam1,theta,tatm,N,fvp,Dp,Np)[:2]\n",
    "    \n",
    "    Tdif = Ttot - Tspec              # transmitancia difusa\n",
    "    ax.plot(lam1,Tdif,'-k',label = 'Tdif')\n",
    "    ax.set_xlabel('Longitud de onda ($\\mu$m)')\n",
    "    ax.set_ylabel('Transmisividad')\n",
    "    ax.set_title(r'Posición del sol, $\\theta_\\mathrm{sun}$=%.1f°'% (theta_sun))\n",
    "    ax.set_ylim(0,1.05)\n",
    "    \n",
    "    Dcircle = 0.25\n",
    "    ax2 = fig.add_axes([0.11,0.15, Dcircle, Dcircle])\n",
    "    Irad = Tdif*Bplanck(lam1,5777)\n",
    "    html_rgb = cs.spec_to_rgb(Irad, out_fmt='html')\n",
    "    Circle = plt.Circle((0, 0), Dcircle, color=html_rgb)\n",
    "    ax2.add_patch(Circle)\n",
    "    ax2.set_aspect('equal')\n",
    "    ax2.set_xlim(-Dcircle*1.2,Dcircle*1.2)\n",
    "    ax2.set_ylim(-Dcircle*1.2,Dcircle*1.2)\n",
    "    ax2.set_xticks([])\n",
    "    ax2.set_yticks([])\n",
    "    ax2.set_facecolor('k')\n",
    "    plt.show()"
   ]
  },
  {
   "cell_type": "code",
   "execution_count": 7,
   "id": "f3b08336",
   "metadata": {
    "cell_style": "split",
    "slideshow": {
     "slide_type": "fragment"
    },
    "tags": [
     "hide-input"
    ]
   },
   "outputs": [
    {
     "data": {
      "application/vnd.jupyter.widget-view+json": {
       "model_id": "a418b3e2937147df9cde954cc0412262",
       "version_major": 2,
       "version_minor": 0
      },
      "text/plain": [
       "interactive(children=(FloatSlider(value=0.0, description='theta_sun', max=89.99), Output()), _dom_classes=('wi…"
      ]
     },
     "metadata": {},
     "output_type": "display_data"
    }
   ],
   "source": [
    "from ipywidgets import interact\n",
    "\n",
    "@interact(theta_sun=(0,89.99,0.1))\n",
    "def g(theta_sun=0):\n",
    "    return plot_atmosphere(theta_sun)"
   ]
  },
  {
   "cell_type": "markdown",
   "id": "8aa6d072",
   "metadata": {
    "cell_style": "center",
    "slideshow": {
     "slide_type": "slide"
    }
   },
   "source": [
    "### Pelicula de material particulado (simulaciones de transferencia radiativa)\n",
    "Este caso corresponde a materiales con $\\Lambda_\\mathrm{sca} < t_\\mathrm{film}$. En este caso los eventos de scattering se producen más de una vez, y decimos que estámos en un régimen de **scattering múltiple**. Como resultado, los tres términos de la RTE son relevantes y debemos resolver la ecuación mediante simulación computacional.\n",
    "\n",
    "<img src=\"./images/multiple_scattering.png\" width=\"400px\" align= center>\n",
    "\n",
    "<center>Transporte de luz en un medio con scattering múltiple</center>"
   ]
  },
  {
   "cell_type": "markdown",
   "id": "bea5c468",
   "metadata": {
    "slideshow": {
     "slide_type": "slide"
    }
   },
   "source": [
    "Analicemos la [copa de Licurgo](https://es.wikipedia.org/wiki/Copa_de_Licurgo), considerando un material de sílice de espesor $t_\\mathrm{film} = 5~\\mathrm{mm}$ con incrustaciones de partículas de plata de forma esférica."
   ]
  },
  {
   "cell_type": "markdown",
   "id": "db4db843",
   "metadata": {},
   "source": [
    "Evaluaremos los colores de este material en transmisión y reflexión para luz incidente normal a la superficie en función de la concentración y el diámetro de las partículas. Utilizamos la función ```adm_sphere``` de la librería ```empylib.rad_transfer```"
   ]
  },
  {
   "cell_type": "code",
   "execution_count": 8,
   "id": "24c8d4d6",
   "metadata": {
    "slideshow": {
     "slide_type": "slide"
    },
    "tags": [
     "hide-input"
    ]
   },
   "outputs": [],
   "source": [
    "import empylib.rad_transfer as rt\n",
    "import empylib.nklib as nk\n",
    "import empylib.miescattering as mie\n",
    "import numpy as np\n",
    "import matplotlib.pyplot as plt\n",
    "\n",
    "lam2 = np.linspace(0.3,1.0,100) # espectro de longitudes de onda en micrometros\n",
    "Nlayers = (1.0,1.5,1.0)         # indice de refracción superior, intermedio e inferior\n",
    "Np = nk.silver(lam2)            # Índice de refracción de las partículas\n",
    "cs.interp_internals(lam2)\n",
    "\n",
    "def plot_glass_silver(fv,D):\n",
    "    # parámetros de entrada\n",
    "    \n",
    "    theta = np.radians(0)       # 0 grados en radianes\n",
    "    tfilm = 5                   # espesor en milímetros\n",
    "    \n",
    "    fv = fv*1E-7                # fracción de volúmen de las partículas\n",
    "    D = D*1E-3                  # diámetro de las partículas\n",
    "    \n",
    "    qext, qsca = mie.scatter_efficiency(lam2,Nlayers[1],Np,D)[:2]\n",
    "    qabs = qext - qsca\n",
    "    Rtot, Ttot = rt.adm_sphere(lam2,tfilm,Nlayers,fv,D,Np)\n",
    "\n",
    "    fig, ax = plt.subplots(1,3)\n",
    "    fig.set_size_inches(12, 3)\n",
    "    plt.rcParams['font.size'] = '10'\n",
    "    \n",
    "    ax[0].plot(lam2,qsca,'-r',label='$C_\\mathrm{sca} A_c$')\n",
    "    ax[0].plot(lam2,qabs,'-b',label='$C_\\mathrm{abs} A_c$')\n",
    "    ax[0].set_xlabel('Longitud de onda ($\\mu$m)')\n",
    "    ax[0].set_ylabel('Eficiencia transversal')\n",
    "    ax[0].set_title('Partícula de plata (D=%.0f nm)' % (D*1E3))\n",
    "    ax[0].legend()\n",
    "    ax[0].set_ylim(0,10)\n",
    "    \n",
    "    ax[1].plot(lam2,Rtot,'-r',label = 'Rtot')\n",
    "    ax[1].plot(lam2,Ttot,'-b',label = 'Ttot')\n",
    "    ax[1].set_xlabel('Longitud de onda ($\\mu$m)')\n",
    "    ax[1].set_ylabel('Transmisividad')\n",
    "    ax[1].set_title(r'Sílice con plata (fv = %.3e %%)' % (fv*100) )\n",
    "    ax[1].legend()\n",
    "    ax[1].set_ylim(0,1)\n",
    "\n",
    "    Dcircle = 0.20\n",
    "    html_rgb = cs.spec_to_rgb(Ttot*AM15(lam2), out_fmt='html')\n",
    "    Circle = plt.Circle((0, 0), Dcircle, color=html_rgb)\n",
    "    ax[2].add_patch(Circle)\n",
    "    ax[2].annotate('Luz Transmitida', xy=(0, 0), va='center', ha='center')\n",
    "\n",
    "    html_rgb = cs.spec_to_rgb(Rtot*AM15(lam2), out_fmt='html')\n",
    "    Circle = plt.Circle((Dcircle*1.2*2, 0), Dcircle, color=html_rgb)\n",
    "    ax[2].add_patch(Circle)\n",
    "    ax[2].annotate('Luz Reflejada', xy=(Dcircle*1.2*2, 0), va='center', ha='center')\n",
    "\n",
    "    ax[2].set_aspect('equal')\n",
    "    ax[2].set_xlim(-Dcircle*1.2,Dcircle*1.2*3)\n",
    "    ax[2].set_ylim(-Dcircle*1.2,Dcircle*1.2)\n",
    "    ax[2].set_xticks([])\n",
    "    ax[2].set_yticks([])\n",
    "    ax[2].set_facecolor('k')\n",
    "    plt.subplots_adjust(wspace=0.3)\n",
    "    plt.show()"
   ]
  },
  {
   "cell_type": "code",
   "execution_count": 9,
   "id": "494ceeb2",
   "metadata": {
    "cell_style": "center",
    "slideshow": {
     "slide_type": "slide"
    },
    "tags": [
     "hide-input"
    ]
   },
   "outputs": [
    {
     "data": {
      "application/vnd.jupyter.widget-view+json": {
       "model_id": "825efe52d21e4d3c8fbc0dcf817f9a4e",
       "version_major": 2,
       "version_minor": 0
      },
      "text/plain": [
       "interactive(children=(IntSlider(value=20, description='fv', min=1), IntSlider(value=70, description='D', max=2…"
      ]
     },
     "metadata": {},
     "output_type": "display_data"
    }
   ],
   "source": [
    "from ipywidgets import interact\n",
    "\n",
    "@interact(fv=(1,100,1), D = (10,200,1))\n",
    "def g(fv=20, D = 70):\n",
    "    return plot_glass_silver(fv,D)"
   ]
  },
  {
   "cell_type": "markdown",
   "id": "031ca52b",
   "metadata": {
    "slideshow": {
     "slide_type": "slide"
    }
   },
   "source": [
    "Cuando la concentración de partículas es densa, el medio se vuelve opaco. Este régimen se denomina **scattering difuso** y permite explicar, entre otras cosas, el color de las nubes o la pintura blanca\n",
    "\n",
    "<img src=\"./images/diffuse_scattering.png\" width=\"400px\" align= center>\n",
    "\n",
    "<center>Transporte de luz en un medio con scattering difuso</center>"
   ]
  },
  {
   "cell_type": "markdown",
   "id": "01df5bd6",
   "metadata": {
    "slideshow": {
     "slide_type": "slide"
    }
   },
   "source": [
    "Un ejemplo interesante corresponde a la leche. En términos simples, la leche es una emulsión formada por pequeñas partículas de grasa dispersas en un medio acuoso. \n",
    "\n",
    "<img src=\"./images/milk_microscope.png\" width=\"400px\" align= center>\n",
    "\n",
    "<center>Imagen de microscópio (40x) de leche orgánica. Las burbujas verdes corresponden al aceite en suspención en agua.</center>\n",
    "\n",
    "Fuente: [Braun K., Hanewald A. and Vilgis T. Foods 8(10): 483(2019)](https://www.ncbi.nlm.nih.gov/pmc/articles/PMC6836175/)"
   ]
  },
  {
   "cell_type": "markdown",
   "id": "225b5528",
   "metadata": {
    "slideshow": {
     "slide_type": "fragment"
    }
   },
   "source": [
    "Como aproximación, consideremos un medio de espesor $1$ cm, compuesto por agua $N_h = 1.3$ y pequeñas partículas esféricas de aceite $N_p = 1.5$. La emulsión considera un 60% de partículas de aceite por volumen."
   ]
  },
  {
   "cell_type": "code",
   "execution_count": 10,
   "id": "72cbfc3e",
   "metadata": {
    "cell_style": "split",
    "slideshow": {
     "slide_type": "slide"
    },
    "tags": [
     "hide-input"
    ]
   },
   "outputs": [],
   "source": [
    "%%capture showplot\n",
    "# import empylib.nklib as nk\n",
    "import numpy as np\n",
    "import empylib.rad_transfer as rt\n",
    "\n",
    "# Solo modificar estos parámetros\n",
    "#---------------------------------------------------------------\n",
    "lam3 = np.linspace(0.3,1.0,100)   # espectro de longitudes de onda\n",
    "tfilm = 10                        # espesor en milímetros\n",
    "fv = 0.50                         # fracción de volúmen de los poros\n",
    "D = 1.0                           # diámetro de los poros (micrones)\n",
    "Nh2o = 1.3                        # Índice de refracción del agua\n",
    "Noil = 1.5                        # índice de refracción partículas de aceite\n",
    "#---------------------------------------------------------------\n",
    "Rtot, Ttot = rt.adm_sphere(lam3,tfilm,(1.0,Nh2o,1.0),fv,D,Noil)\n",
    "\n",
    "fig, ax = plt.subplots()\n",
    "fig.set_size_inches(5, 3.5)\n",
    "plt.rcParams['font.size'] = '12'\n",
    "ax.plot(lam3,Rtot,'-r',label='R')\n",
    "ax.plot(lam3,Ttot,'-b',label='T')\n",
    "ax.set_xlabel('Longitud de onda ($\\mu$m)')\n",
    "ax.set_ylabel('Reflectividad / Transmisividad')\n",
    "ax.set_title(r'Leche (fv = %.0f %%)' % (fv*100))\n",
    "ax.legend()\n",
    "ax.set_ylim(0,1.02)\n",
    "plt.show()"
   ]
  },
  {
   "cell_type": "code",
   "execution_count": 11,
   "id": "9a1291f7",
   "metadata": {
    "cell_style": "split",
    "slideshow": {
     "slide_type": "fragment"
    },
    "tags": [
     "hide-input"
    ]
   },
   "outputs": [
    {
     "data": {
      "image/png": "[encoded data removed]",
      "text/plain": [
       "<Figure size 500x350 with 1 Axes>"
      ]
     },
     "metadata": {
      "filenames": {
       "image/png": "/mnt/c/Users/francisco.ramirez.c/OneDrive - Universidad Adolfo Ibanez/Teaching_courses/MEC501 - Manejo_y_Conversion_Energia_Solar/material_catedra/_build/jupyter_execute/05_TransporteRadiativo/05_TransporteRadiativo_68_0.png"
      }
     },
     "output_type": "display_data"
    }
   ],
   "source": [
    "showplot()"
   ]
  },
  {
   "cell_type": "markdown",
   "id": "6c035f58",
   "metadata": {
    "slideshow": {
     "slide_type": "slide"
    }
   },
   "source": [
    "Como vemos la alta concentración de partículas hace que la refletividad y transmisividad se vuelvan casi uniformes para todas las longitudes de onda. El espectro, así, toma un color blanco frente a una fuente de luz blanca."
   ]
  },
  {
   "cell_type": "markdown",
   "id": "17c1dc23",
   "metadata": {
    "slideshow": {
     "slide_type": "slide"
    }
   },
   "source": [
    "## Referencias\n",
    "- Chen G. **Chapter 5 - Energy Transfer by Waves** in *Nanoscale energy transport and conversion*, 1st Ed, Oxford University Press, 2005"
   ]
  }
 ],
 "metadata": {
  "celltoolbar": "Slideshow",
  "kernelspec": {
   "display_name": "Python 3 (ipykernel)",
   "language": "python",
   "name": "python3"
  },
  "language_info": {
   "codemirror_mode": {
    "name": "ipython",
    "version": 3
   },
   "file_extension": ".py",
   "mimetype": "text/x-python",
   "name": "python",
   "nbconvert_exporter": "python",
   "pygments_lexer": "ipython3",
   "version": "3.9.16"
  },
  "latex_envs": {
   "LaTeX_envs_menu_present": false,
   "autoclose": false,
   "autocomplete": false,
   "bibliofile": "biblio.bib",
   "cite_by": "apalike",
   "current_citInitial": 1,
   "eqLabelWithNumbers": true,
   "eqNumInitial": 2,
   "hotkeys": {
    "equation": "Ctrl-E",
    "itemize": "Ctrl-I"
   },
   "labels_anchors": false,
   "latex_user_defs": false,
   "report_style_numbering": false,
   "user_envs_cfg": true
  },
  "toc": {
   "base_numbering": 1,
   "nav_menu": {},
   "number_sections": false,
   "sideBar": true,
   "skip_h1_title": true,
   "title_cell": "Tabla de contenidos",
   "title_sidebar": "Contenidos",
   "toc_cell": false,
   "toc_position": {
    "height": "calc(100% - 180px)",
    "left": "10px",
    "top": "150px",
    "width": "307.2px"
   },
   "toc_section_display": true,
   "toc_window_display": false
  },
  "varInspector": {
   "cols": {
    "lenName": 16,
    "lenType": 16,
    "lenVar": 40
   },
   "kernels_config": {
    "python": {
     "delete_cmd_postfix": "",
     "delete_cmd_prefix": "del ",
     "library": "var_list.py",
     "varRefreshCmd": "print(var_dic_list())"
    },
    "r": {
     "delete_cmd_postfix": ") ",
     "delete_cmd_prefix": "rm(",
     "library": "var_list.r",
     "varRefreshCmd": "cat(var_dic_list()) "
    }
   },
   "types_to_exclude": [
    "module",
    "function",
    "builtin_function_or_method",
    "instance",
    "_Feature"
   ],
   "window_display": false
  },
  "widgets": {
   "application/vnd.jupyter.widget-state+json": {
    "state": {
     "08816a5bbd0d4b318f85755997266e25": {
      "model_module": "@jupyter-widgets/controls",
      "model_module_version": "1.5.0",
      "model_name": "IntSliderModel",
      "state": {
       "_dom_classes": [],
       "_model_module": "@jupyter-widgets/controls",
       "_model_module_version": "1.5.0",
       "_model_name": "IntSliderModel",
       "_view_count": null,
       "_view_module": "@jupyter-widgets/controls",
       "_view_module_version": "1.5.0",
       "_view_name": "IntSliderView",
       "continuous_update": true,
       "description": "fv",
       "description_tooltip": null,
       "disabled": false,
       "layout": "IPY_MODEL_1efde10a39b54081ba3849361881658e",
       "max": 100,
       "min": 1,
       "orientation": "horizontal",
       "readout": true,
       "readout_format": "d",
       "step": 1,
       "style": "IPY_MODEL_ade5b3e122f8492a8048c835ca3ec20e",
       "value": 20
      }
     },
     "0f3ed22c9687478a87a82d0ec01bef5c": {
      "model_module": "@jupyter-widgets/base",
      "model_module_version": "1.2.0",
      "model_name": "LayoutModel",
      "state": {
       "_model_module": "@jupyter-widgets/base",
       "_model_module_version": "1.2.0",
       "_model_name": "LayoutModel",
       "_view_count": null,
       "_view_module": "@jupyter-widgets/base",
       "_view_module_version": "1.2.0",
       "_view_name": "LayoutView",
       "align_content": null,
       "align_items": null,
       "align_self": null,
       "border": null,
       "bottom": null,
       "display": null,
       "flex": null,
       "flex_flow": null,
       "grid_area": null,
       "grid_auto_columns": null,
       "grid_auto_flow": null,
       "grid_auto_rows": null,
       "grid_column": null,
       "grid_gap": null,
       "grid_row": null,
       "grid_template_areas": null,
       "grid_template_columns": null,
       "grid_template_rows": null,
       "height": null,
       "justify_content": null,
       "justify_items": null,
       "left": null,
       "margin": null,
       "max_height": null,
       "max_width": null,
       "min_height": null,
       "min_width": null,
       "object_fit": null,
       "object_position": null,
       "order": null,
       "overflow": null,
       "overflow_x": null,
       "overflow_y": null,
       "padding": null,
       "right": null,
       "top": null,
       "visibility": null,
       "width": null
      }
     },
     "146812e5610f47c7b82f63c97cb5d2dc": {
      "model_module": "@jupyter-widgets/output",
      "model_module_version": "1.0.0",
      "model_name": "OutputModel",
      "state": {
       "_dom_classes": [],
       "_model_module": "@jupyter-widgets/output",
       "_model_module_version": "1.0.0",
       "_model_name": "OutputModel",
       "_view_count": null,
       "_view_module": "@jupyter-widgets/output",
       "_view_module_version": "1.0.0",
       "_view_name": "OutputView",
       "layout": "IPY_MODEL_b1b637dd41874d0db6eb64e50494d112",
       "msg_id": "",
       "outputs": [
        {
         "data": {
          "image/png": "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",
          "text/plain": "<Figure size 600x400 with 2 Axes>"
         },
         "metadata": {},
         "output_type": "display_data"
        }
       ]
      }
     },
     "1e9a366d868c4ffda603aa3b090058d3": {
      "model_module": "@jupyter-widgets/output",
      "model_module_version": "1.0.0",
      "model_name": "OutputModel",
      "state": {
       "_dom_classes": [],
       "_model_module": "@jupyter-widgets/output",
       "_model_module_version": "1.0.0",
       "_model_name": "OutputModel",
       "_view_count": null,
       "_view_module": "@jupyter-widgets/output",
       "_view_module_version": "1.0.0",
       "_view_name": "OutputView",
       "layout": "IPY_MODEL_fcae51346c444faa9f70c9a46a108d16",
       "msg_id": "",
       "outputs": [
        {
         "data": {
          "image/png": "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",
          "text/plain": "<Figure size 1200x300 with 3 Axes>"
         },
         "metadata": {},
         "output_type": "display_data"
        }
       ]
      }
     },
     "1efde10a39b54081ba3849361881658e": {
      "model_module": "@jupyter-widgets/base",
      "model_module_version": "1.2.0",
      "model_name": "LayoutModel",
      "state": {
       "_model_module": "@jupyter-widgets/base",
       "_model_module_version": "1.2.0",
       "_model_name": "LayoutModel",
       "_view_count": null,
       "_view_module": "@jupyter-widgets/base",
       "_view_module_version": "1.2.0",
       "_view_name": "LayoutView",
       "align_content": null,
       "align_items": null,
       "align_self": null,
       "border": null,
       "bottom": null,
       "display": null,
       "flex": null,
       "flex_flow": null,
       "grid_area": null,
       "grid_auto_columns": null,
       "grid_auto_flow": null,
       "grid_auto_rows": null,
       "grid_column": null,
       "grid_gap": null,
       "grid_row": null,
       "grid_template_areas": null,
       "grid_template_columns": null,
       "grid_template_rows": null,
       "height": null,
       "justify_content": null,
       "justify_items": null,
       "left": null,
       "margin": null,
       "max_height": null,
       "max_width": null,
       "min_height": null,
       "min_width": null,
       "object_fit": null,
       "object_position": null,
       "order": null,
       "overflow": null,
       "overflow_x": null,
       "overflow_y": null,
       "padding": null,
       "right": null,
       "top": null,
       "visibility": null,
       "width": null
      }
     },
     "23bc65fe64a84d13837044886edfc2f6": {
      "model_module": "@jupyter-widgets/controls",
      "model_module_version": "1.5.0",
      "model_name": "SliderStyleModel",
      "state": {
       "_model_module": "@jupyter-widgets/controls",
       "_model_module_version": "1.5.0",
       "_model_name": "SliderStyleModel",
       "_view_count": null,
       "_view_module": "@jupyter-widgets/base",
       "_view_module_version": "1.2.0",
       "_view_name": "StyleView",
       "description_width": "",
       "handle_color": null
      }
     },
     "28b61b3c77c24a718a7439a10b51578a": {
      "model_module": "@jupyter-widgets/controls",
      "model_module_version": "1.5.0",
      "model_name": "SliderStyleModel",
      "state": {
       "_model_module": "@jupyter-widgets/controls",
       "_model_module_version": "1.5.0",
       "_model_name": "SliderStyleModel",
       "_view_count": null,
       "_view_module": "@jupyter-widgets/base",
       "_view_module_version": "1.2.0",
       "_view_name": "StyleView",
       "description_width": "",
       "handle_color": null
      }
     },
     "2a8a59e33ba84b98ab7862a1c10f5f30": {
      "model_module": "@jupyter-widgets/base",
      "model_module_version": "1.2.0",
      "model_name": "LayoutModel",
      "state": {
       "_model_module": "@jupyter-widgets/base",
       "_model_module_version": "1.2.0",
       "_model_name": "LayoutModel",
       "_view_count": null,
       "_view_module": "@jupyter-widgets/base",
       "_view_module_version": "1.2.0",
       "_view_name": "LayoutView",
       "align_content": null,
       "align_items": null,
       "align_self": null,
       "border": null,
       "bottom": null,
       "display": null,
       "flex": null,
       "flex_flow": null,
       "grid_area": null,
       "grid_auto_columns": null,
       "grid_auto_flow": null,
       "grid_auto_rows": null,
       "grid_column": null,
       "grid_gap": null,
       "grid_row": null,
       "grid_template_areas": null,
       "grid_template_columns": null,
       "grid_template_rows": null,
       "height": null,
       "justify_content": null,
       "justify_items": null,
       "left": null,
       "margin": null,
       "max_height": null,
       "max_width": null,
       "min_height": null,
       "min_width": null,
       "object_fit": null,
       "object_position": null,
       "order": null,
       "overflow": null,
       "overflow_x": null,
       "overflow_y": null,
       "padding": null,
       "right": null,
       "top": null,
       "visibility": null,
       "width": null
      }
     },
     "356fa822a8d24a12a88298831bb94462": {
      "model_module": "@jupyter-widgets/base",
      "model_module_version": "1.2.0",
      "model_name": "LayoutModel",
      "state": {
       "_model_module": "@jupyter-widgets/base",
       "_model_module_version": "1.2.0",
       "_model_name": "LayoutModel",
       "_view_count": null,
       "_view_module": "@jupyter-widgets/base",
       "_view_module_version": "1.2.0",
       "_view_name": "LayoutView",
       "align_content": null,
       "align_items": null,
       "align_self": null,
       "border": null,
       "bottom": null,
       "display": null,
       "flex": null,
       "flex_flow": null,
       "grid_area": null,
       "grid_auto_columns": null,
       "grid_auto_flow": null,
       "grid_auto_rows": null,
       "grid_column": null,
       "grid_gap": null,
       "grid_row": null,
       "grid_template_areas": null,
       "grid_template_columns": null,
       "grid_template_rows": null,
       "height": null,
       "justify_content": null,
       "justify_items": null,
       "left": null,
       "margin": null,
       "max_height": null,
       "max_width": null,
       "min_height": null,
       "min_width": null,
       "object_fit": null,
       "object_position": null,
       "order": null,
       "overflow": null,
       "overflow_x": null,
       "overflow_y": null,
       "padding": null,
       "right": null,
       "top": null,
       "visibility": null,
       "width": null
      }
     },
     "508a1a30405845cb9fe2804af2ea124e": {
      "model_module": "@jupyter-widgets/base",
      "model_module_version": "1.2.0",
      "model_name": "LayoutModel",
      "state": {
       "_model_module": "@jupyter-widgets/base",
       "_model_module_version": "1.2.0",
       "_model_name": "LayoutModel",
       "_view_count": null,
       "_view_module": "@jupyter-widgets/base",
       "_view_module_version": "1.2.0",
       "_view_name": "LayoutView",
       "align_content": null,
       "align_items": null,
       "align_self": null,
       "border": null,
       "bottom": null,
       "display": null,
       "flex": null,
       "flex_flow": null,
       "grid_area": null,
       "grid_auto_columns": null,
       "grid_auto_flow": null,
       "grid_auto_rows": null,
       "grid_column": null,
       "grid_gap": null,
       "grid_row": null,
       "grid_template_areas": null,
       "grid_template_columns": null,
       "grid_template_rows": null,
       "height": null,
       "justify_content": null,
       "justify_items": null,
       "left": null,
       "margin": null,
       "max_height": null,
       "max_width": null,
       "min_height": null,
       "min_width": null,
       "object_fit": null,
       "object_position": null,
       "order": null,
       "overflow": null,
       "overflow_x": null,
       "overflow_y": null,
       "padding": null,
       "right": null,
       "top": null,
       "visibility": null,
       "width": null
      }
     },
     "5733f54d69fa447f9f33a05495491639": {
      "model_module": "@jupyter-widgets/base",
      "model_module_version": "1.2.0",
      "model_name": "LayoutModel",
      "state": {
       "_model_module": "@jupyter-widgets/base",
       "_model_module_version": "1.2.0",
       "_model_name": "LayoutModel",
       "_view_count": null,
       "_view_module": "@jupyter-widgets/base",
       "_view_module_version": "1.2.0",
       "_view_name": "LayoutView",
       "align_content": null,
       "align_items": null,
       "align_self": null,
       "border": null,
       "bottom": null,
       "display": null,
       "flex": null,
       "flex_flow": null,
       "grid_area": null,
       "grid_auto_columns": null,
       "grid_auto_flow": null,
       "grid_auto_rows": null,
       "grid_column": null,
       "grid_gap": null,
       "grid_row": null,
       "grid_template_areas": null,
       "grid_template_columns": null,
       "grid_template_rows": null,
       "height": null,
       "justify_content": null,
       "justify_items": null,
       "left": null,
       "margin": null,
       "max_height": null,
       "max_width": null,
       "min_height": null,
       "min_width": null,
       "object_fit": null,
       "object_position": null,
       "order": null,
       "overflow": null,
       "overflow_x": null,
       "overflow_y": null,
       "padding": null,
       "right": null,
       "top": null,
       "visibility": null,
       "width": null
      }
     },
     "617a1fee3da342ba8f0acfecb673d694": {
      "model_module": "@jupyter-widgets/output",
      "model_module_version": "1.0.0",
      "model_name": "OutputModel",
      "state": {
       "_dom_classes": [],
       "_model_module": "@jupyter-widgets/output",
       "_model_module_version": "1.0.0",
       "_model_name": "OutputModel",
       "_view_count": null,
       "_view_module": "@jupyter-widgets/output",
       "_view_module_version": "1.0.0",
       "_view_name": "OutputView",
       "layout": "IPY_MODEL_bdc182b51b9b4ebf8bab4c290bfdeea9",
       "msg_id": "",
       "outputs": [
        {
         "data": {
          "image/png": "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",
          "text/plain": "<Figure size 600x300 with 1 Axes>"
         },
         "metadata": {},
         "output_type": "display_data"
        }
       ]
      }
     },
     "6931afc86561472a9e256a6afd13fdaf": {
      "model_module": "@jupyter-widgets/controls",
      "model_module_version": "1.5.0",
      "model_name": "IntSliderModel",
      "state": {
       "_dom_classes": [],
       "_model_module": "@jupyter-widgets/controls",
       "_model_module_version": "1.5.0",
       "_model_name": "IntSliderModel",
       "_view_count": null,
       "_view_module": "@jupyter-widgets/controls",
       "_view_module_version": "1.5.0",
       "_view_name": "IntSliderView",
       "continuous_update": true,
       "description": "N",
       "description_tooltip": null,
       "disabled": false,
       "layout": "IPY_MODEL_c9dcb88118c84f7387ad36393c5408da",
       "max": 1000,
       "min": 1,
       "orientation": "horizontal",
       "readout": true,
       "readout_format": "d",
       "step": 1,
       "style": "IPY_MODEL_23bc65fe64a84d13837044886edfc2f6",
       "value": 1000
      }
     },
     "7dd4a578203d4d4ca0d55fd46d283db5": {
      "model_module": "@jupyter-widgets/controls",
      "model_module_version": "1.5.0",
      "model_name": "VBoxModel",
      "state": {
       "_dom_classes": [
        "widget-interact"
       ],
       "_model_module": "@jupyter-widgets/controls",
       "_model_module_version": "1.5.0",
       "_model_name": "VBoxModel",
       "_view_count": null,
       "_view_module": "@jupyter-widgets/controls",
       "_view_module_version": "1.5.0",
       "_view_name": "VBoxView",
       "box_style": "",
       "children": [
        "IPY_MODEL_6931afc86561472a9e256a6afd13fdaf",
        "IPY_MODEL_e8e4fd0a5cec4e4d8a1216f700fc440a",
        "IPY_MODEL_bbb6f63d807748e49995dbb89670b8ee",
        "IPY_MODEL_617a1fee3da342ba8f0acfecb673d694"
       ],
       "layout": "IPY_MODEL_f433a6f513eb43708a2948942a894328"
      }
     },
     "825efe52d21e4d3c8fbc0dcf817f9a4e": {
      "model_module": "@jupyter-widgets/controls",
      "model_module_version": "1.5.0",
      "model_name": "VBoxModel",
      "state": {
       "_dom_classes": [
        "widget-interact"
       ],
       "_model_module": "@jupyter-widgets/controls",
       "_model_module_version": "1.5.0",
       "_model_name": "VBoxModel",
       "_view_count": null,
       "_view_module": "@jupyter-widgets/controls",
       "_view_module_version": "1.5.0",
       "_view_name": "VBoxView",
       "box_style": "",
       "children": [
        "IPY_MODEL_08816a5bbd0d4b318f85755997266e25",
        "IPY_MODEL_c0d69d42201e4e659a6ddf890bcd470a",
        "IPY_MODEL_1e9a366d868c4ffda603aa3b090058d3"
       ],
       "layout": "IPY_MODEL_2a8a59e33ba84b98ab7862a1c10f5f30"
      }
     },
     "91186cbd026e476fa8ffb51d70eee88b": {
      "model_module": "@jupyter-widgets/controls",
      "model_module_version": "1.5.0",
      "model_name": "SliderStyleModel",
      "state": {
       "_model_module": "@jupyter-widgets/controls",
       "_model_module_version": "1.5.0",
       "_model_name": "SliderStyleModel",
       "_view_count": null,
       "_view_module": "@jupyter-widgets/base",
       "_view_module_version": "1.2.0",
       "_view_name": "StyleView",
       "description_width": "",
       "handle_color": null
      }
     },
     "983b45e68f4f4b2cba2ac26d27d0fbe8": {
      "model_module": "@jupyter-widgets/controls",
      "model_module_version": "1.5.0",
      "model_name": "SliderStyleModel",
      "state": {
       "_model_module": "@jupyter-widgets/controls",
       "_model_module_version": "1.5.0",
       "_model_name": "SliderStyleModel",
       "_view_count": null,
       "_view_module": "@jupyter-widgets/base",
       "_view_module_version": "1.2.0",
       "_view_name": "StyleView",
       "description_width": "",
       "handle_color": null
      }
     },
     "a418b3e2937147df9cde954cc0412262": {
      "model_module": "@jupyter-widgets/controls",
      "model_module_version": "1.5.0",
      "model_name": "VBoxModel",
      "state": {
       "_dom_classes": [
        "widget-interact"
       ],
       "_model_module": "@jupyter-widgets/controls",
       "_model_module_version": "1.5.0",
       "_model_name": "VBoxModel",
       "_view_count": null,
       "_view_module": "@jupyter-widgets/controls",
       "_view_module_version": "1.5.0",
       "_view_name": "VBoxView",
       "box_style": "",
       "children": [
        "IPY_MODEL_f006556314934bde9f0e6f2257b84402",
        "IPY_MODEL_146812e5610f47c7b82f63c97cb5d2dc"
       ],
       "layout": "IPY_MODEL_a7ad7294ba9347379b980e2cac6a1494"
      }
     },
     "a7ad7294ba9347379b980e2cac6a1494": {
      "model_module": "@jupyter-widgets/base",
      "model_module_version": "1.2.0",
      "model_name": "LayoutModel",
      "state": {
       "_model_module": "@jupyter-widgets/base",
       "_model_module_version": "1.2.0",
       "_model_name": "LayoutModel",
       "_view_count": null,
       "_view_module": "@jupyter-widgets/base",
       "_view_module_version": "1.2.0",
       "_view_name": "LayoutView",
       "align_content": null,
       "align_items": null,
       "align_self": null,
       "border": null,
       "bottom": null,
       "display": null,
       "flex": null,
       "flex_flow": null,
       "grid_area": null,
       "grid_auto_columns": null,
       "grid_auto_flow": null,
       "grid_auto_rows": null,
       "grid_column": null,
       "grid_gap": null,
       "grid_row": null,
       "grid_template_areas": null,
       "grid_template_columns": null,
       "grid_template_rows": null,
       "height": null,
       "justify_content": null,
       "justify_items": null,
       "left": null,
       "margin": null,
       "max_height": null,
       "max_width": null,
       "min_height": null,
       "min_width": null,
       "object_fit": null,
       "object_position": null,
       "order": null,
       "overflow": null,
       "overflow_x": null,
       "overflow_y": null,
       "padding": null,
       "right": null,
       "top": null,
       "visibility": null,
       "width": null
      }
     },
     "ade5b3e122f8492a8048c835ca3ec20e": {
      "model_module": "@jupyter-widgets/controls",
      "model_module_version": "1.5.0",
      "model_name": "SliderStyleModel",
      "state": {
       "_model_module": "@jupyter-widgets/controls",
       "_model_module_version": "1.5.0",
       "_model_name": "SliderStyleModel",
       "_view_count": null,
       "_view_module": "@jupyter-widgets/base",
       "_view_module_version": "1.2.0",
       "_view_name": "StyleView",
       "description_width": "",
       "handle_color": null
      }
     },
     "b1b637dd41874d0db6eb64e50494d112": {
      "model_module": "@jupyter-widgets/base",
      "model_module_version": "1.2.0",
      "model_name": "LayoutModel",
      "state": {
       "_model_module": "@jupyter-widgets/base",
       "_model_module_version": "1.2.0",
       "_model_name": "LayoutModel",
       "_view_count": null,
       "_view_module": "@jupyter-widgets/base",
       "_view_module_version": "1.2.0",
       "_view_name": "LayoutView",
       "align_content": null,
       "align_items": null,
       "align_self": null,
       "border": null,
       "bottom": null,
       "display": null,
       "flex": null,
       "flex_flow": null,
       "grid_area": null,
       "grid_auto_columns": null,
       "grid_auto_flow": null,
       "grid_auto_rows": null,
       "grid_column": null,
       "grid_gap": null,
       "grid_row": null,
       "grid_template_areas": null,
       "grid_template_columns": null,
       "grid_template_rows": null,
       "height": null,
       "justify_content": null,
       "justify_items": null,
       "left": null,
       "margin": null,
       "max_height": null,
       "max_width": null,
       "min_height": null,
       "min_width": null,
       "object_fit": null,
       "object_position": null,
       "order": null,
       "overflow": null,
       "overflow_x": null,
       "overflow_y": null,
       "padding": null,
       "right": null,
       "top": null,
       "visibility": null,
       "width": null
      }
     },
     "bbb6f63d807748e49995dbb89670b8ee": {
      "model_module": "@jupyter-widgets/controls",
      "model_module_version": "1.5.0",
      "model_name": "FloatSliderModel",
      "state": {
       "_dom_classes": [],
       "_model_module": "@jupyter-widgets/controls",
       "_model_module_version": "1.5.0",
       "_model_name": "FloatSliderModel",
       "_view_count": null,
       "_view_module": "@jupyter-widgets/controls",
       "_view_module_version": "1.5.0",
       "_view_name": "FloatSliderView",
       "continuous_update": true,
       "description": "sig",
       "description_tooltip": null,
       "disabled": false,
       "layout": "IPY_MODEL_5733f54d69fa447f9f33a05495491639",
       "max": 1.0,
       "min": 0.0,
       "orientation": "horizontal",
       "readout": true,
       "readout_format": ".2f",
       "step": 0.01,
       "style": "IPY_MODEL_983b45e68f4f4b2cba2ac26d27d0fbe8",
       "value": 0.3
      }
     },
     "bdc182b51b9b4ebf8bab4c290bfdeea9": {
      "model_module": "@jupyter-widgets/base",
      "model_module_version": "1.2.0",
      "model_name": "LayoutModel",
      "state": {
       "_model_module": "@jupyter-widgets/base",
       "_model_module_version": "1.2.0",
       "_model_name": "LayoutModel",
       "_view_count": null,
       "_view_module": "@jupyter-widgets/base",
       "_view_module_version": "1.2.0",
       "_view_name": "LayoutView",
       "align_content": null,
       "align_items": null,
       "align_self": null,
       "border": null,
       "bottom": null,
       "display": null,
       "flex": null,
       "flex_flow": null,
       "grid_area": null,
       "grid_auto_columns": null,
       "grid_auto_flow": null,
       "grid_auto_rows": null,
       "grid_column": null,
       "grid_gap": null,
       "grid_row": null,
       "grid_template_areas": null,
       "grid_template_columns": null,
       "grid_template_rows": null,
       "height": null,
       "justify_content": null,
       "justify_items": null,
       "left": null,
       "margin": null,
       "max_height": null,
       "max_width": null,
       "min_height": null,
       "min_width": null,
       "object_fit": null,
       "object_position": null,
       "order": null,
       "overflow": null,
       "overflow_x": null,
       "overflow_y": null,
       "padding": null,
       "right": null,
       "top": null,
       "visibility": null,
       "width": null
      }
     },
     "c0d69d42201e4e659a6ddf890bcd470a": {
      "model_module": "@jupyter-widgets/controls",
      "model_module_version": "1.5.0",
      "model_name": "IntSliderModel",
      "state": {
       "_dom_classes": [],
       "_model_module": "@jupyter-widgets/controls",
       "_model_module_version": "1.5.0",
       "_model_name": "IntSliderModel",
       "_view_count": null,
       "_view_module": "@jupyter-widgets/controls",
       "_view_module_version": "1.5.0",
       "_view_name": "IntSliderView",
       "continuous_update": true,
       "description": "D",
       "description_tooltip": null,
       "disabled": false,
       "layout": "IPY_MODEL_356fa822a8d24a12a88298831bb94462",
       "max": 200,
       "min": 10,
       "orientation": "horizontal",
       "readout": true,
       "readout_format": "d",
       "step": 1,
       "style": "IPY_MODEL_91186cbd026e476fa8ffb51d70eee88b",
       "value": 70
      }
     },
     "c9dcb88118c84f7387ad36393c5408da": {
      "model_module": "@jupyter-widgets/base",
      "model_module_version": "1.2.0",
      "model_name": "LayoutModel",
      "state": {
       "_model_module": "@jupyter-widgets/base",
       "_model_module_version": "1.2.0",
       "_model_name": "LayoutModel",
       "_view_count": null,
       "_view_module": "@jupyter-widgets/base",
       "_view_module_version": "1.2.0",
       "_view_name": "LayoutView",
       "align_content": null,
       "align_items": null,
       "align_self": null,
       "border": null,
       "bottom": null,
       "display": null,
       "flex": null,
       "flex_flow": null,
       "grid_area": null,
       "grid_auto_columns": null,
       "grid_auto_flow": null,
       "grid_auto_rows": null,
       "grid_column": null,
       "grid_gap": null,
       "grid_row": null,
       "grid_template_areas": null,
       "grid_template_columns": null,
       "grid_template_rows": null,
       "height": null,
       "justify_content": null,
       "justify_items": null,
       "left": null,
       "margin": null,
       "max_height": null,
       "max_width": null,
       "min_height": null,
       "min_width": null,
       "object_fit": null,
       "object_position": null,
       "order": null,
       "overflow": null,
       "overflow_x": null,
       "overflow_y": null,
       "padding": null,
       "right": null,
       "top": null,
       "visibility": null,
       "width": null
      }
     },
     "e8e4fd0a5cec4e4d8a1216f700fc440a": {
      "model_module": "@jupyter-widgets/controls",
      "model_module_version": "1.5.0",
      "model_name": "FloatSliderModel",
      "state": {
       "_dom_classes": [],
       "_model_module": "@jupyter-widgets/controls",
       "_model_module_version": "1.5.0",
       "_model_name": "FloatSliderModel",
       "_view_count": null,
       "_view_module": "@jupyter-widgets/controls",
       "_view_module_version": "1.5.0",
       "_view_name": "FloatSliderView",
       "continuous_update": true,
       "description": "t",
       "description_tooltip": null,
       "disabled": false,
       "layout": "IPY_MODEL_508a1a30405845cb9fe2804af2ea124e",
       "max": 10.0,
       "min": -10.0,
       "orientation": "horizontal",
       "readout": true,
       "readout_format": ".2f",
       "step": 0.1,
       "style": "IPY_MODEL_28b61b3c77c24a718a7439a10b51578a",
       "value": 0.0
      }
     },
     "f006556314934bde9f0e6f2257b84402": {
      "model_module": "@jupyter-widgets/controls",
      "model_module_version": "1.5.0",
      "model_name": "FloatSliderModel",
      "state": {
       "_dom_classes": [],
       "_model_module": "@jupyter-widgets/controls",
       "_model_module_version": "1.5.0",
       "_model_name": "FloatSliderModel",
       "_view_count": null,
       "_view_module": "@jupyter-widgets/controls",
       "_view_module_version": "1.5.0",
       "_view_name": "FloatSliderView",
       "continuous_update": true,
       "description": "theta_sun",
       "description_tooltip": null,
       "disabled": false,
       "layout": "IPY_MODEL_0f3ed22c9687478a87a82d0ec01bef5c",
       "max": 89.99,
       "min": 0.0,
       "orientation": "horizontal",
       "readout": true,
       "readout_format": ".2f",
       "step": 0.1,
       "style": "IPY_MODEL_fc19e351b9ff4e48b5b601a5693eb6d8",
       "value": 0.0
      }
     },
     "f433a6f513eb43708a2948942a894328": {
      "model_module": "@jupyter-widgets/base",
      "model_module_version": "1.2.0",
      "model_name": "LayoutModel",
      "state": {
       "_model_module": "@jupyter-widgets/base",
       "_model_module_version": "1.2.0",
       "_model_name": "LayoutModel",
       "_view_count": null,
       "_view_module": "@jupyter-widgets/base",
       "_view_module_version": "1.2.0",
       "_view_name": "LayoutView",
       "align_content": null,
       "align_items": null,
       "align_self": null,
       "border": null,
       "bottom": null,
       "display": null,
       "flex": null,
       "flex_flow": null,
       "grid_area": null,
       "grid_auto_columns": null,
       "grid_auto_flow": null,
       "grid_auto_rows": null,
       "grid_column": null,
       "grid_gap": null,
       "grid_row": null,
       "grid_template_areas": null,
       "grid_template_columns": null,
       "grid_template_rows": null,
       "height": null,
       "justify_content": null,
       "justify_items": null,
       "left": null,
       "margin": null,
       "max_height": null,
       "max_width": null,
       "min_height": null,
       "min_width": null,
       "object_fit": null,
       "object_position": null,
       "order": null,
       "overflow": null,
       "overflow_x": null,
       "overflow_y": null,
       "padding": null,
       "right": null,
       "top": null,
       "visibility": null,
       "width": null
      }
     },
     "fc19e351b9ff4e48b5b601a5693eb6d8": {
      "model_module": "@jupyter-widgets/controls",
      "model_module_version": "1.5.0",
      "model_name": "SliderStyleModel",
      "state": {
       "_model_module": "@jupyter-widgets/controls",
       "_model_module_version": "1.5.0",
       "_model_name": "SliderStyleModel",
       "_view_count": null,
       "_view_module": "@jupyter-widgets/base",
       "_view_module_version": "1.2.0",
       "_view_name": "StyleView",
       "description_width": "",
       "handle_color": null
      }
     },
     "fcae51346c444faa9f70c9a46a108d16": {
      "model_module": "@jupyter-widgets/base",
      "model_module_version": "1.2.0",
      "model_name": "LayoutModel",
      "state": {
       "_model_module": "@jupyter-widgets/base",
       "_model_module_version": "1.2.0",
       "_model_name": "LayoutModel",
       "_view_count": null,
       "_view_module": "@jupyter-widgets/base",
       "_view_module_version": "1.2.0",
       "_view_name": "LayoutView",
       "align_content": null,
       "align_items": null,
       "align_self": null,
       "border": null,
       "bottom": null,
       "display": null,
       "flex": null,
       "flex_flow": null,
       "grid_area": null,
       "grid_auto_columns": null,
       "grid_auto_flow": null,
       "grid_auto_rows": null,
       "grid_column": null,
       "grid_gap": null,
       "grid_row": null,
       "grid_template_areas": null,
       "grid_template_columns": null,
       "grid_template_rows": null,
       "height": null,
       "justify_content": null,
       "justify_items": null,
       "left": null,
       "margin": null,
       "max_height": null,
       "max_width": null,
       "min_height": null,
       "min_width": null,
       "object_fit": null,
       "object_position": null,
       "order": null,
       "overflow": null,
       "overflow_x": null,
       "overflow_y": null,
       "padding": null,
       "right": null,
       "top": null,
       "visibility": null,
       "width": null
      }
     }
    },
    "version_major": 2,
    "version_minor": 0
   }
  }
 },
 "nbformat": 4,
 "nbformat_minor": 5
}