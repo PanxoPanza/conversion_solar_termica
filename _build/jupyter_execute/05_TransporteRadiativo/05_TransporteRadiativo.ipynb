{
 "cells": [
  {
   "cell_type": "markdown",
   "id": "8b01ca79",
   "metadata": {
    "slideshow": {
     "slide_type": "slide"
    }
   },
   "source": [
    "# Transporte Radiativo"
   ]
  },
  {
   "cell_type": "markdown",
   "id": "580ab8db",
   "metadata": {
    "slideshow": {
     "slide_type": "slide"
    }
   },
   "source": [
    "## Introducción"
   ]
  },
  {
   "cell_type": "markdown",
   "id": "dadf38f1",
   "metadata": {
    "slideshow": {
     "slide_type": "fragment"
    }
   },
   "source": [
    "En la [unidad 2](../02_ondas_EM_en_la_materia/02_ondas_EM_en_la_materia.ipynb) revisamos el efecto de interferencia en películas de espesor finito, y como está daba lugar a la coloración tornasol caractéristica en derrames de aceites en agua, lentes y discos compactos.\n",
    "\n",
    "<img src=\"./images/interference_oils.png\" width=\"700px\" align= center>"
   ]
  },
  {
   "cell_type": "markdown",
   "id": "d2dc01e9",
   "metadata": {
    "slideshow": {
     "slide_type": "fragment"
    }
   },
   "source": [
    "Si, teóricamente, el efecto de interferencia ocurre cada vez que tenemos un tercer material intercalado entre dos materiales (iguales o diferentes). **¿Porqué no visualizamos este efecto en ventanas u otros materiales de gran espesor?**"
   ]
  },
  {
   "cell_type": "markdown",
   "id": "9ff4cae4",
   "metadata": {
    "slideshow": {
     "slide_type": "slide"
    }
   },
   "source": [
    "## Coherencia de la luz e interferencia\n",
    "\n",
    "Para entender esto, primero debemos revisar la distribución espectral de fuentes reales de luz\n",
    "\n",
    "<img src=\"./images/light_source_spectra.png\" width=\"800px\" align= center>"
   ]
  },
  {
   "cell_type": "markdown",
   "id": "16081fa2",
   "metadata": {
    "slideshow": {
     "slide_type": "fragment"
    }
   },
   "source": [
    "Como vemos, una fuente emite luz en varias longitudes de onda y a distinta intensidad. Así, las ondas emitidas se superponen, generando una onda resultante con una forma distinta a $e^{i(\\vec{k}\\cdot\\vec{r} -\\omega t)}$."
   ]
  },
  {
   "cell_type": "markdown",
   "id": "b54cf722",
   "metadata": {
    "slideshow": {
     "slide_type": "slide"
    }
   },
   "source": [
    "Consideremos, por ejemplo, una fuente de luz con una distribución espectral normal, centrada en $\\lambda_0$ y con una desviación estandar $\\pm\\sigma_\\lambda\\lambda_0$, con $\\sigma_\\lambda \\in [0,1]$. Imaginemos esta fuente como $N$ emisores, donde cada emisor $j$ emite una onda electromagnéticas con longitud de onda $\\lambda \\pm\\Delta \\lambda_j$, donde $\\Delta \\lambda_j$ es escogido aleatoriamente a partir de la distribución normal."
   ]
  },
  {
   "cell_type": "markdown",
   "id": "31f81723",
   "metadata": {
    "cell_style": "split",
    "slideshow": {
     "slide_type": "fragment"
    }
   },
   "source": [
    "<img src=\"./images/normal_distribution.png\" width=\"400px\" align= center>"
   ]
  },
  {
   "cell_type": "markdown",
   "id": "76d68ef4",
   "metadata": {
    "cell_style": "split",
    "slideshow": {
     "slide_type": "fragment"
    }
   },
   "source": [
    "Asumiendo ondas en el aire en dirección $\\hat{k} = \\hat{x}$, el campo eléctrico resultante es:\n",
    "\n",
    "\\begin{equation*}\n",
    "\\vec{E}_\\mathrm{tot} = \\sum_j^N E_0e^{i\\left(k_jx - \\omega_j t\\right)} \\hat{z},\n",
    "\\end{equation*}\n",
    "\n",
    "donde $k_j = \\frac{2\\pi}{\\lambda \\pm\\Delta \\lambda_j}$, y $\\omega_j = c_0k_j$"
   ]
  },
  {
   "cell_type": "markdown",
   "id": "e5e55e68",
   "metadata": {
    "cell_style": "center",
    "slideshow": {
     "slide_type": "fragment"
    }
   },
   "source": [
    "Analicemos el comportamiento de $\\vec{E}_\\mathrm{tot} /E_0$ para $\\lambda_0 = 500$ nm"
   ]
  },
  {
   "cell_type": "code",
   "execution_count": 1,
   "id": "37df7e74",
   "metadata": {
    "cell_style": "split",
    "slideshow": {
     "slide_type": "slide"
    },
    "tags": [
     "hide-input"
    ]
   },
   "outputs": [],
   "source": [
    "import numpy as np\n",
    "from numpy.random import normal\n",
    "import matplotlib.pyplot as plt\n",
    "\n",
    "def light_packet(kdir, x, t, lam, sig, N):\n",
    "    c0 = 3E8          # velocidad de la luz (m/s)\n",
    "    xx = np.meshgrid(x,np.ones(N))[0]\n",
    "    \n",
    "    # Generamos arreglo de ondas aleatorias\n",
    "    dlamj =  normal(0, lam*sig,N)\n",
    "    kj = (2*np.pi/(lam + dlamj)).reshape(-1,1)\n",
    "    wj = c0*kj\n",
    "    Erand = np.exp(1j*(kdir*kj*xx-wj*t)) \n",
    "    \n",
    "    # Sumamos todas las ondas\n",
    "    return np.sum(Erand,axis=0)\n",
    " \n",
    "def plot_light_packet(N, t, sig):\n",
    "    '''\n",
    "    n: número de ondas generadas\n",
    "    t: tiempo en ns\n",
    "    sig: % de ancho de banda (dlam = sig*lam)\n",
    "    '''\n",
    "    lam = 0.5         # longitud de onda (um)\n",
    "    t = t*1E-9 # convertimos ns a s\n",
    "    \n",
    "    # recorrido de la onda\n",
    "    x = np.linspace(-2,2,1000)  # desde 0 a 4 micrones\n",
    "    E = light_packet(1, x, t, lam, sig, N)\n",
    "    \n",
    "    # Graficamos\n",
    "    fig, ax = plt.subplots()\n",
    "    fig.set_size_inches(6, 3)\n",
    "    plt.rcParams['font.size'] = '12'\n",
    "    \n",
    "    ax.plot(x,np.real(E), 'k')\n",
    "    ax.set_xlabel('x ($\\mu$m)')\n",
    "    ax.set_ylabel('Amplitud $|E|/E_0$')\n",
    "    ax.set_ylim(-N*1.1,N*1.1)\n",
    "    ax.grid()\n"
   ]
  },
  {
   "cell_type": "code",
   "execution_count": 2,
   "id": "5c81aca7",
   "metadata": {
    "cell_style": "split",
    "slideshow": {
     "slide_type": "fragment"
    },
    "tags": [
     "hide-input"
    ]
   },
   "outputs": [
    {
     "data": {
      "application/vnd.jupyter.widget-view+json": {
       "model_id": "285d3a7c6ece4e84aebedbae36d246f0",
       "version_major": 2,
       "version_minor": 0
      },
      "text/plain": [
       "interactive(children=(IntSlider(value=1000, description='N', max=1000, min=1), FloatSlider(value=0.0, descript…"
      ]
     },
     "metadata": {},
     "output_type": "display_data"
    }
   ],
   "source": [
    "from ipywidgets import interact\n",
    "\n",
    "@interact( N=(1,1000,1), \n",
    "           t=(-10,10,0.1),\n",
    "           sig=(0,1,0.01))\n",
    "def g(N=1000, t=0, sig=0.3):\n",
    "    return plot_light_packet(N,t,sig)"
   ]
  },
  {
   "cell_type": "markdown",
   "id": "b53bb755",
   "metadata": {
    "slideshow": {
     "slide_type": "slide"
    }
   },
   "source": [
    "### Longitud de coherencia\n",
    "Definimos como **longitud de coherencia**, $l_c$, a la distancia donde un grupo de ondas electromagnética mantiene correlación entre las fases. Dos puntos en una paquete de onda separados a una distancia mayor a $l_c$ son incoherentes, es decir, no están correlacionados"
   ]
  },
  {
   "cell_type": "markdown",
   "id": "3ea340f8",
   "metadata": {
    "cell_style": "split",
    "slideshow": {
     "slide_type": "fragment"
    }
   },
   "source": [
    "<img src=\"./images/coherence_length.png\" width=\"300px\" align= center>\n",
    "\n",
    "<center>Esquema de un paquete de onda emitido por una fuente con longitud de coherencia $l_c$</center>"
   ]
  },
  {
   "cell_type": "markdown",
   "id": "1f71b46f",
   "metadata": {
    "cell_style": "split",
    "slideshow": {
     "slide_type": "fragment"
    }
   },
   "source": [
    "La relación entre $l_c$, la longitud de onda central $\\lambda$ y el ancho de banda $\\Delta\\lambda$ está dado, aproximadamente, por la relación:\n",
    "\n",
    "\\begin{equation*}\n",
    "l_c \\approx \\frac{\\lambda^2}{n\\Delta \\lambda},\n",
    "\\end{equation*}\n",
    "\n",
    "donde $n$ es el indice de refracción del medio donde se propaga la luz.\n",
    "\n",
    "Por ejemplo, para lasers He-Ne (laser rojo)  $l_c\\approx 0.2 - 100$ m.  "
   ]
  },
  {
   "cell_type": "markdown",
   "id": "b8e319bd",
   "metadata": {
    "slideshow": {
     "slide_type": "slide"
    }
   },
   "source": [
    "Para radiación emitida por un cuerpo a temperatura $T$, la longitud de coherencia está dada por:\n",
    "\n",
    "\\begin{equation*}\n",
    "l_c T = 2167.8~\\mathrm{\\mu m~K}\n",
    "\\end{equation*}\n",
    "\n",
    "Así, por ejemplo, la radiación solar ($T \\approx 5800~\\mathrm{K}$) tiene una longitud de coherencia, $l_c \\approx 370~\\mathrm{nm}$"
   ]
  },
  {
   "cell_type": "markdown",
   "id": "659f7454",
   "metadata": {
    "slideshow": {
     "slide_type": "slide"
    }
   },
   "source": [
    "### Régimen de trasporte de luz\n",
    "Los fenómenos de interferencia descritos en las unidades anteriores existen debido a la forma oscilatorioa de la luz. **Dos paquetes de ondas distintos son incoherentes, y la superposición de estos no genera interferencia.**"
   ]
  },
  {
   "cell_type": "markdown",
   "id": "615ad1c6",
   "metadata": {
    "slideshow": {
     "slide_type": "slide"
    }
   },
   "source": [
    "En otras palabras, el fenómeno de interferencia solo existe si el paquete de onda interfiere consigo mismo. Así, podemos concluir que los fenómenos de interferencia en películas de espesor $d$ no serían visibles si $d > l_c$. "
   ]
  },
  {
   "cell_type": "markdown",
   "id": "db4d20e4",
   "metadata": {
    "cell_style": "split",
    "slideshow": {
     "slide_type": "fragment"
    }
   },
   "source": [
    "<img src=\"./images/interference_thinfilm.png\" width=\"200px\" align= center>\n",
    "\n",
    "<center>Propagación de una onda a través de una película de espesor $d$, con $l_c < d$</center>"
   ]
  },
  {
   "cell_type": "markdown",
   "id": "fce7ef57",
   "metadata": {
    "cell_style": "split",
    "slideshow": {
     "slide_type": "fragment"
    }
   },
   "source": [
    "En general, para una longitud características $d$, la regla es:\n",
    "\n",
    "- Si $d > l_c$ el **transporte de luz es incoherente** . En este régimen, podemos ignorar las propiedades oscilatorias de la luz, y analizar el problema como el transporte de pequeños paquetes de onda, o simplemente como partículas.\n",
    "\n",
    "- Si $d < l_c$, el **transporte de luz es coherente**. En este régimen debemos considerar las propiedades oscilatorias a partir de las Ecuaciones de Maxwell."
   ]
  },
  {
   "cell_type": "markdown",
   "id": "06aab8e7",
   "metadata": {
    "cell_style": "center",
    "slideshow": {
     "slide_type": "fragment"
    }
   },
   "source": [
    "Así, **los coeficientes de Fresnel para una película delgada solo son aplicables si $d < l_c$.**"
   ]
  },
  {
   "cell_type": "markdown",
   "id": "c7f85265",
   "metadata": {
    "cell_style": "center",
    "slideshow": {
     "slide_type": "slide"
    }
   },
   "source": [
    "Los coeficientes de Fresnel para una interface, en cambio, siempre son válidos debido a que consideran una interface infinitamente delgada."
   ]
  },
  {
   "cell_type": "markdown",
   "id": "57178760",
   "metadata": {
    "cell_style": "center",
    "slideshow": {
     "slide_type": "fragment"
    }
   },
   "source": [
    "<img src=\"./images/interference_interface.png\" width=\"350px\" align= center>\n",
    "\n",
    "<center>Refracción y reflexión de una onda incoherente a través de una interfaz</center>"
   ]
  },
  {
   "cell_type": "markdown",
   "id": "0c79f1b6",
   "metadata": {
    "slideshow": {
     "slide_type": "slide"
    }
   },
   "source": [
    "En medios particulados, los fenómenos de interferencia pueden ocurrir si las partículas están suficientemente cerca y tienen tamaños similares. Llamamos a esto **scattering coherente**"
   ]
  },
  {
   "cell_type": "markdown",
   "id": "61e2a519",
   "metadata": {
    "slideshow": {
     "slide_type": "fragment"
    }
   },
   "source": [
    "<img src=\"./images/scattering_coherence.png\" width=\"600px\" align= center>\n",
    "\n",
    "<center>Fenómeno de interferencia en scattering</center>"
   ]
  },
  {
   "cell_type": "markdown",
   "id": "8167d93c",
   "metadata": {
    "slideshow": {
     "slide_type": "slide"
    }
   },
   "source": [
    "El fenómeno de scattering coherente da lugar a los denominados **colores estructurales** presentes en las alas de las aves y mariposas (mas info [acá](https://wires.onlinelibrary.wiley.com/doi/10.1002/wnan.1396))"
   ]
  },
  {
   "cell_type": "markdown",
   "id": "06446d60",
   "metadata": {
    "cell_style": "split",
    "slideshow": {
     "slide_type": "fragment"
    }
   },
   "source": [
    "<img src=\"./images/structural_colors_birds.png\" width=\"550px\" align= center>\n",
    "\n",
    "<center>Colores estructurales en alas de aves</center>\n",
    "\n",
    "Fuente: [Hwang, V. et al. PNAS 118 (4) e2015551118\n",
    " (2020)](https://www.pnas.org/doi/10.1073/pnas.2015551118)"
   ]
  },
  {
   "cell_type": "markdown",
   "id": "71eaafb2",
   "metadata": {
    "cell_style": "split",
    "slideshow": {
     "slide_type": "fragment"
    }
   },
   "source": [
    "<img src=\"./images/structural_colors_buterflies.png\" width=\"450px\" align= center>\n",
    "\n",
    "<center>Colores estructurales en alas de mariposa</center>\n",
    "\n",
    "Fuente: [Tippets C. A. et al. J. Opt. 18 (2016) 065105](https://iopscience.iop.org/article/10.1088/2040-8978/18/6/065105)"
   ]
  },
  {
   "cell_type": "markdown",
   "id": "f629fcbe",
   "metadata": {
    "slideshow": {
     "slide_type": "slide"
    }
   },
   "source": [
    "## Teoría de transferencia radiativa\n",
    "Si el transporte de luz es incoherente, podemos ignorar las propiedades oscilatorias de la luz y analizar el fenómeno óptico como un el transporte de radiación a través de un volumen de control."
   ]
  },
  {
   "cell_type": "markdown",
   "id": "f62e3c70",
   "metadata": {
    "slideshow": {
     "slide_type": "slide"
    }
   },
   "source": [
    "### Intensidad específica"
   ]
  },
  {
   "cell_type": "markdown",
   "id": "790c7714",
   "metadata": {
    "cell_style": "split",
    "slideshow": {
     "slide_type": "-"
    }
   },
   "source": [
    "Definimos como **radiancia espectral o intensidad específica**, $I_\\lambda$, al flujo de energía por **ángulo sólido diferencial**, $d\\Omega$, para una longitud de onda $\\lambda$.\n",
    "\n",
    "<img src=\"./images/specific_intensity.png\" width=\"300px\" align= center>"
   ]
  },
  {
   "cell_type": "markdown",
   "id": "8568f20b",
   "metadata": {
    "cell_style": "split",
    "slideshow": {
     "slide_type": "fragment"
    }
   },
   "source": [
    "El ángulo sólido define el tamaño relativo del área $S$ para un observador en $P$ a una distancia $r$. \n",
    "\n",
    "El diferencial está definido por $d\\Omega = \\sin\\theta d\\theta d\\phi$\n",
    "\n",
    "<img src=\"./images/solid_angle.png\" width=\"450px\" align= center>"
   ]
  },
  {
   "cell_type": "markdown",
   "id": "0d8ed016",
   "metadata": {
    "slideshow": {
     "slide_type": "slide"
    }
   },
   "source": [
    "Es importante aclarar que los conceptos intensidad específica y vector de Poynting $\\langle\\vec{S}\\rangle$, son equivalentes: $I_\\lambda(\\hat{k})$ es un término utilizado en radiometría para definir el flujo de energía por unidad de ángulo sólido, mientras que $\\langle\\vec{S}\\rangle$ es un término utilizado en óptica para describir el flujo de energía en dirección $\\hat{k}$. Cabe destacar, sin embargo, que $I_\\lambda(\\hat{k})$ es una magnitud, y $\\langle\\vec{S}\\rangle$ es un vector. Así, podríamos decir que la relación entre estos dos términos está dada por $I_\\lambda(\\hat{k}) = \\langle\\vec{S}\\rangle\\cdot\\hat{k}$."
   ]
  },
  {
   "cell_type": "markdown",
   "id": "921c9262",
   "metadata": {
    "slideshow": {
     "slide_type": "slide"
    }
   },
   "source": [
    "### Ecuación de transferencia radiativa\n",
    "La **ecuación de transferencia radiativa** (RTE por sus siglas en ingles), es una ecuación de transporte que describe la propagación de la radiancia espectral, $I_\\lambda(\\vec{r},\\hat{k})$, en función de la posición posición $\\vec{r}$ y dirección $\\hat{k}$. En su forma más general, para un problema estacionario:\n",
    "\n",
    "\\begin{equation}\n",
    "\\hat{k}\\cdot\\nabla_r I_\\lambda(\\vec{r},\\hat{k}) = - \\left[\\frac{f_v}{V_p}C_\\mathrm{ext} + 2\\kappa k_0\\right]I_\\lambda(\\vec{r},\\hat{k}) + \\frac{f_v}{V_p}\\int_{4\\pi} P_\\mathrm{sca}(\\hat{k},\\hat{k}') I_\\lambda(\\vec{r},\\hat{k}') d\\Omega'\n",
    "\\end{equation}"
   ]
  },
  {
   "cell_type": "markdown",
   "id": "44c82ce8",
   "metadata": {
    "slideshow": {
     "slide_type": "fragment"
    }
   },
   "source": [
    "donde $f_v$ y $V_p$ son, respectivamente la fracción de volúmen y el volúmen de las partículas en el medio, y $P_\\mathrm{sca}(\\hat{k},\\hat{k}')$ es la función de fase."
   ]
  },
  {
   "cell_type": "markdown",
   "id": "84f7041f",
   "metadata": {
    "slideshow": {
     "slide_type": "slide"
    }
   },
   "source": [
    "Notar que consideramos el caso más generalizado de la función de fase, que depende tanto de la dirección de la radiación incidente $\\hat{k}$ como de la dirección del scattering $\\hat{k}'$. Ambas definidas por ángulo sólido"
   ]
  },
  {
   "cell_type": "markdown",
   "id": "556660a5",
   "metadata": {
    "cell_style": "center",
    "slideshow": {
     "slide_type": "fragment"
    }
   },
   "source": [
    "En el caso de una esfera, $\\hat{k}_\\mathrm{sca} = \\hat{k}$ y $\\hat{k}_\\mathrm{inc} = \\hat{k}'$. Así, la función de fase depende de $\\theta$, el cual está definido por $\\cos\\theta = \\hat{k}\\cdot\\hat{k}'$\n",
    "\n"
   ]
  },
  {
   "cell_type": "markdown",
   "id": "b7b71333",
   "metadata": {
    "slideshow": {
     "slide_type": "slide"
    }
   },
   "source": [
    "Con esto en mente, ahora podemos discutir el significado de los términos en la RTE:"
   ]
  },
  {
   "cell_type": "markdown",
   "id": "12e1a1e8",
   "metadata": {
    "slideshow": {
     "slide_type": "fragment"
    }
   },
   "source": [
    "- El primer término representa el cambio de $I_\\lambda(\\vec{r},\\hat{k})$ a través volumen diferencial. Por ejemplo, en el caso unidimencional en dirección $\\hat{k} = \\hat{x}$, tenemos: \n",
    "\n",
    "\\begin{equation*}\n",
    "\\hat{x}\\cdot\\nabla_r I_\\lambda(\\vec{r},\\hat{k}) = \\frac{\\partial}{\\partial x}I_\\lambda(\\vec{r},\\hat{k})\n",
    "\\end{equation*}"
   ]
  },
  {
   "cell_type": "markdown",
   "id": "231c3da9",
   "metadata": {
    "slideshow": {
     "slide_type": "fragment"
    }
   },
   "source": [
    "- El segundo término representa la pérdida de energía radiativa, por extinción $\\left(\\frac{f_v}{V_p}C_\\mathrm{ext}\\right)$ y absorción en el material material ($2\\kappa k_0$), respectivamente. Recordemos que la extinción representa la energía absorbida por las partículas + la energía de scattering en direcciónes distintas a $\\hat{k}$, es decir $C_\\mathrm{ext}= C_\\mathrm{abs} + C_\\mathrm{sca}$."
   ]
  },
  {
   "cell_type": "markdown",
   "id": "4754c5ed",
   "metadata": {
    "slideshow": {
     "slide_type": "fragment"
    }
   },
   "source": [
    "- El tercer término representa la ganancia de energía radiativa produco del scattering inducido por radiación incidente en dirección $\\hat{k}'$. Este término representa el fenómeno de **scattering múltiple**."
   ]
  },
  {
   "cell_type": "markdown",
   "id": "43766712",
   "metadata": {
    "slideshow": {
     "slide_type": "slide"
    }
   },
   "source": [
    "## Soluciones de la RTE\n",
    "La ecuación de transferencia radiativa permite explicar de forma fenomenológica el transporte de radiación en un medio particulado. Debido a su complejidad, existen pocas soluciones analíticas. En esta sección describiremos las tres más conocidas."
   ]
  },
  {
   "cell_type": "markdown",
   "id": "6037462f",
   "metadata": {
    "slideshow": {
     "slide_type": "slide"
    }
   },
   "source": [
    "### Película de material sin partículas (Reflectividad y Transmisividad incoherente)\n",
    "En el caso de un medio sin partículas solo debemos considerar el primer término de la RTE. "
   ]
  },
  {
   "cell_type": "markdown",
   "id": "38e80853",
   "metadata": {
    "slideshow": {
     "slide_type": "fragment"
    }
   },
   "source": [
    "Para el caso particular de un material de espesor $t_\\mathrm{film}$ e índice de refracción $N = n + \\kappa$, rodeado por un medio con índice de refracción $N_0$, derivamos las siguientes relaciones de reflectividad y tranmisividad para luz incoherente:\n",
    "\n",
    "\\begin{align}\n",
    "R_\\mathrm{incoh}&= R_0 + \\frac{T_0^2R_0e^{-4\\kappa k_0 t_\\mathrm{film}}}{1 - R_0^2e^{-4\\kappa k_0 t_\\mathrm{film}}} \n",
    "\\\\[10pt]\n",
    "T_\\mathrm{incoh} &= \\frac{T_0^2e^{-4\\kappa k_0 t_\\mathrm{film}}}{1 - R_0^2e^{-4\\kappa k_0 t_\\mathrm{film}}}\n",
    "\\end{align}\n",
    "\n",
    "donde $R_0$ y $T_0$ corresponden, respectivamente, a la reflectividad y transmisividad en la interface $N_0 / N_1$"
   ]
  },
  {
   "cell_type": "markdown",
   "id": "7b8cb924",
   "metadata": {
    "slideshow": {
     "slide_type": "slide"
    }
   },
   "source": [
    "En el siguiente ejemplo, utilizamos la función ```incoh_multilayer``` de la libreria ```empylib.waveoptics```. Esta función es más general que la ecuación anterior y permite determinar $R_\\mathrm{incoh}$ y $T_\\mathrm{incoh}$ para arreglos multicapas. "
   ]
  },
  {
   "cell_type": "markdown",
   "id": "2a3e7bbc",
   "metadata": {
    "slideshow": {
     "slide_type": "fragment"
    }
   },
   "source": [
    "En este caso, evaluaremos una película de sílice de espesor $1~\\mu\\mathrm{m}$, sobre un sustrato con íncide de refracción $N_\\mathrm{back} = 4.3$, y con aire en la superficie $N_\\mathrm{front} = 1.0$. El espectro de longitudes de onda $\\lambda\\in[0.3,0.8]~\\mu\\mathrm{m}$ y el ángulo de incidencia $\\theta_i = 30°$. Para comparar, determinaremos $R$ y $T$ para el caso de luz coherente."
   ]
  },
  {
   "cell_type": "code",
   "execution_count": 3,
   "id": "a99aa431",
   "metadata": {
    "cell_style": "split",
    "slideshow": {
     "slide_type": "slide"
    },
    "tags": [
     "hide-input"
    ]
   },
   "outputs": [],
   "source": [
    "import numpy as np\n",
    "import empylib.waveoptics as wv\n",
    "import empylib.nklib as nk\n",
    "\n",
    "lam = np.linspace(2,10,100)  # espectro de longitudes de onda (um)\n",
    "theta = np.radians(30)          # ángulo de incidencia\n",
    "\n",
    "Nfront = 1.0                 # índice de refracción medio superior\n",
    "N1     = 1.5        # índice de refracción capa delgada\n",
    "Nback  = 4.3                 # índice de refracción medio inferior\n",
    "N = (Nfront, N1, Nback)      # indices de refracción (above, mid, below)\n",
    "d = 1.0                      # espesor capa intermedia (um)\n",
    "\n",
    "# caso luz incoherente\n",
    "Rp_incoh, Tp_incoh = wv.incoh_multilayer(lam,theta, N, d, pol='TM')\n",
    "# caso luz coherente\n",
    "Rp, Tp = wv.multilayer(lam,theta, N, d, pol='TM')[:2]"
   ]
  },
  {
   "cell_type": "code",
   "execution_count": 4,
   "id": "3bee2ad8",
   "metadata": {
    "cell_style": "split",
    "slideshow": {
     "slide_type": "fragment"
    },
    "tags": [
     "hide-input"
    ]
   },
   "outputs": [
    {
     "data": {
      "image/png": "[encoded data removed]",
      "text/plain": [
       "<Figure size 600x350 with 1 Axes>"
      ]
     },
     "metadata": {
      "filenames": {
       "image/png": "/mnt/c/Users/frami/OneDrive - Universidad Adolfo Ibanez/Teaching_courses/MEC501 - Manejo_y_Conversion_Energia_Solar_Termica/material_catedra/_build/jupyter_execute/05_TransporteRadiativo/05_TransporteRadiativo_47_0.png"
      }
     },
     "output_type": "display_data"
    }
   ],
   "source": [
    "fig, ax = plt.subplots()\n",
    "fig.set_size_inches(6, 3.5)\n",
    "plt.rcParams['font.size'] = '12'\n",
    "\n",
    "# Graficamos el flujo de energía\n",
    "plt.plot(lam,Rp,'--r',label='$R_\\mathrm{TM}$ (coh)')\n",
    "plt.plot(lam,Tp,'--b',label='$T_\\mathrm{TM}$ (coh)')\n",
    "plt.plot(lam,Rp_incoh,'-r',label='$R_\\mathrm{TM}$ (incoh)')\n",
    "plt.plot(lam,Tp_incoh,'-b',label='$T_\\mathrm{TM}$ (incoh)')\n",
    "plt.title('arreglo 1.0/1.5/4.3')\n",
    "plt.xlabel('Longitud de onda ($\\mu$m)')\n",
    "plt.ylabel('Refletividad / Transmisividad')\n",
    "plt.ylim(0,1)\n",
    "plt.legend()\n",
    "plt.show()"
   ]
  },
  {
   "cell_type": "markdown",
   "id": "c6ed7877",
   "metadata": {
    "cell_style": "center",
    "slideshow": {
     "slide_type": "slide"
    }
   },
   "source": [
    "En la figura, para el caso de luz coherente, notamos oscilaciones en $R$ y $T$ producto de los fenómenos de interferencia. En el caso de luz incoherente, el fenómeno de interferencia desaparace."
   ]
  },
  {
   "cell_type": "markdown",
   "id": "a5316b37",
   "metadata": {
    "slideshow": {
     "slide_type": "slide"
    }
   },
   "source": [
    "### Película de material con baja concentración de partículas (Ley de Beer-Lambert)\n",
    "Definimos el **camino libre medio de scattering**, como $\\Lambda_\\mathrm{sca} = \\left(f_v C_\\mathrm{sca}/V_p\\right)^{-1}$. Este parametro representa la distancia promedio que recorre la luz entre eventos de scattering."
   ]
  },
  {
   "cell_type": "markdown",
   "id": "a352fb08",
   "metadata": {
    "cell_style": "center",
    "slideshow": {
     "slide_type": "fragment"
    }
   },
   "source": [
    "Si $\\Lambda_\\mathrm{sca}$ es mayor que el espesor del material, $t_\\mathrm{film}$, la probabilidad de que ocurran más de un evento scattering es despreciable, y decimos que el **scattering es de primer orden**. En este caso, el tercer término de la RTE es despreciable y la radiación solo pierde energía por absorción del material o extinción inducida por las partículas."
   ]
  },
  {
   "cell_type": "markdown",
   "id": "9407f0e6",
   "metadata": {
    "slideshow": {
     "slide_type": "slide"
    }
   },
   "source": [
    "La solución a esta ecuación se conoce como la ley de Beer-Lambert. Mediante esta aproximación podemos deducir las componentes total y especular de la transmitancia:\n",
    "\n",
    "\\begin{equation}\n",
    "T_\\mathrm{tot} = T_0 e^{-f_v\\frac{C_\\mathrm{abs}}{V_p}t_\\mathrm{film}}\\quad\\quad\\mathrm{and}\\quad\\quad \n",
    "T_\\mathrm{spec} = T_0 e^{-f_v\\frac{C_\\mathrm{ext}}{V_p}t_\\mathrm{film}}\n",
    "\\end{equation}\n",
    "\n",
    "donde, $T_0$ es la **transmisividad incoherente del material sin incrustaciones**."
   ]
  },
  {
   "cell_type": "markdown",
   "id": "2f29ecb5",
   "metadata": {
    "slideshow": {
     "slide_type": "fragment"
    }
   },
   "source": [
    "<img src=\"./images/beer_lambert.png\" width=\"500px\" align= center>\n",
    "\n",
    "<center>Transporte de luz en un medio con scattering de primer orden</center>"
   ]
  },
  {
   "cell_type": "markdown",
   "id": "963bc3c6",
   "metadata": {
    "slideshow": {
     "slide_type": "slide"
    }
   },
   "source": [
    "Podemos utilizar la ley de Beer-Lambert para analizar, de forma aproximada, el efecto del color del cielo durante el día y en la tarde."
   ]
  },
  {
   "cell_type": "markdown",
   "id": "227d193d",
   "metadata": {
    "slideshow": {
     "slide_type": "fragment"
    }
   },
   "source": [
    "El color del cielo está dado por la componente difusa. Así calculamos $T_\\mathrm{dif} = T_\\mathrm{tot} - T_\\mathrm{spec}$."
   ]
  },
  {
   "cell_type": "markdown",
   "id": "a2577fed",
   "metadata": {
    "slideshow": {
     "slide_type": "fragment"
    }
   },
   "source": [
    "Consideremos una atmosfera compuesta de aire ($N_h = 1.0$) y una pequeña concentración ($f_v = 1\\times 10^{-6}~\\%$) de partículas de 10 nm de diámetro e índice de refracción $N_p = 1.5$. El espesor de la atmosfera es $t_\\mathrm{atm} = 100~\\mathrm{km}$"
   ]
  },
  {
   "cell_type": "code",
   "execution_count": 5,
   "id": "33491447",
   "metadata": {
    "cell_style": "split",
    "slideshow": {
     "slide_type": "slide"
    },
    "tags": [
     "hide-input"
    ]
   },
   "outputs": [],
   "source": [
    "import empylib.rad_transfer as rt\n",
    "import empylib.nklib as nk\n",
    "import numpy as np\n",
    "import matplotlib.pyplot as plt\n",
    "from empylib.ref_spectra import AM15, Bplanck\n",
    "from empylib.ref_spectra import color_system as cs\n",
    "cs = cs.hdtv\n",
    "\n",
    "lam1 = np.linspace(0.38,0.78,100) # espectro de longitudes de onda\n",
    "cs.interp_internals(lam1)\n",
    "def plot_atmosphere(theta_sun):\n",
    "    fig, ax = plt.subplots()          \n",
    "    fig.set_size_inches(6, 4)         # Tamaño del gráfico\n",
    "    plt.rcParams['font.size'] = '12'  # tamaño de  fuente\n",
    "    \n",
    "    # parámetros de entrada\n",
    "    tatm = 100E6                      # espesor de la atmósfera en mm\n",
    "    N = (1.0,1.0,1.0)                 # indice de refracción superior, intermedio e inferior\n",
    "    fvp = 1E-8                        # fracción de volúmen de las partículas\n",
    "    Dp = 0.010                        # diámetro de las partículas\n",
    "    Np = 1.5                          # índice de refracción de las partículas\n",
    "    \n",
    "    # transmitancia total y especular\n",
    "    theta = np.radians(theta_sun)    # posición del sol en radianes\n",
    "    Ttot, Tspec = rt.T_beer_lambert(lam1,theta,tatm,N,fvp,Dp,Np)[:2]\n",
    "    \n",
    "    Tdif = Ttot - Tspec              # transmitancia difusa\n",
    "    ax.plot(lam1,Tdif,'-k',label = 'Tdif')\n",
    "    ax.set_xlabel('Longitud de onda ($\\mu$m)')\n",
    "    ax.set_ylabel('Transmisividad')\n",
    "    ax.set_title(r'Posición del sol, $\\theta_\\mathrm{sun}$=%.1f°'% (theta_sun))\n",
    "    ax.set_ylim(0,1.05)\n",
    "    \n",
    "    Dcircle = 0.25\n",
    "    ax2 = fig.add_axes([0.11,0.15, Dcircle, Dcircle])\n",
    "    Irad = Tdif*Bplanck(lam1,5777)\n",
    "    html_rgb = cs.spec_to_rgb(Irad, out_fmt='html')\n",
    "    Circle = plt.Circle((0, 0), Dcircle, color=html_rgb)\n",
    "    ax2.add_patch(Circle)\n",
    "    ax2.set_aspect('equal')\n",
    "    ax2.set_xlim(-Dcircle*1.2,Dcircle*1.2)\n",
    "    ax2.set_ylim(-Dcircle*1.2,Dcircle*1.2)\n",
    "    ax2.set_xticks([])\n",
    "    ax2.set_yticks([])\n",
    "    ax2.set_facecolor('k')"
   ]
  },
  {
   "cell_type": "code",
   "execution_count": 6,
   "id": "f3b08336",
   "metadata": {
    "cell_style": "split",
    "slideshow": {
     "slide_type": "fragment"
    },
    "tags": [
     "hide-input"
    ]
   },
   "outputs": [
    {
     "data": {
      "application/vnd.jupyter.widget-view+json": {
       "model_id": "bc49a57c104442ed86c7578ed175f454",
       "version_major": 2,
       "version_minor": 0
      },
      "text/plain": [
       "interactive(children=(FloatSlider(value=0.0, description='theta_sun', max=89.99), Output()), _dom_classes=('wi…"
      ]
     },
     "metadata": {},
     "output_type": "display_data"
    }
   ],
   "source": [
    "from ipywidgets import interact\n",
    "\n",
    "@interact(theta_sun=(0,89.99,0.1))\n",
    "def g(theta_sun=0):\n",
    "    return plot_atmosphere(theta_sun)"
   ]
  },
  {
   "cell_type": "markdown",
   "id": "8aa6d072",
   "metadata": {
    "cell_style": "center",
    "slideshow": {
     "slide_type": "slide"
    }
   },
   "source": [
    "### Pelicula de material particulado (simulaciones de transferencia radiativa)\n",
    "Este caso corresponde a materiales con $\\Lambda_\\mathrm{sca} > t_\\mathrm{film}$. En este caso los eventos de scattering se producen más de una vez, y decimos que estámos en un régimen de **scattering múltiple**. Como resultado, los tres términos de la RTE son relevantes y debemos resolver la ecuación mediante simulación computacional.\n",
    "\n",
    "<img src=\"./images/multiple_scattering.png\" width=\"400px\" align= center>\n",
    "\n",
    "<center>Transporte de luz en un medio con scattering múltiple</center>"
   ]
  },
  {
   "cell_type": "markdown",
   "id": "bea5c468",
   "metadata": {
    "slideshow": {
     "slide_type": "slide"
    }
   },
   "source": [
    "Consideremos un material de sílice de espesor $t_\\mathrm{film} = 5~\\mathrm{mm}$ con incrustaciones de partículas de plata de forma esférica."
   ]
  },
  {
   "cell_type": "markdown",
   "id": "db4db843",
   "metadata": {},
   "source": [
    "Evaluaremos los colores de este material en transmisión y reflección para luz incidente normal a la superficie en función de la concentración y el diámetro de las partículas. Utilizamos la función ```adm_sphere``` de la librería ```empylib.rad_transfer```"
   ]
  },
  {
   "cell_type": "code",
   "execution_count": 7,
   "id": "24c8d4d6",
   "metadata": {
    "slideshow": {
     "slide_type": "slide"
    },
    "tags": [
     "hide-input"
    ]
   },
   "outputs": [],
   "source": [
    "import empylib.rad_transfer as rt\n",
    "import empylib.nklib as nk\n",
    "import empylib.miescattering as mie\n",
    "import numpy as np\n",
    "import matplotlib.pyplot as plt\n",
    "\n",
    "lam2 = np.linspace(0.3,1.0,100) # espectro de longitudes de onda en micrometros\n",
    "Nlayers = (1.0,1.5,1.0)         # indice de refracción superior, intermedio e inferior\n",
    "Np = nk.silver(lam2)            # Índice de refracción de las partículas\n",
    "cs.interp_internals(lam2)\n",
    "\n",
    "def plot_glass_silver(fv,D):\n",
    "    # parámetros de entrada\n",
    "    \n",
    "    theta = np.radians(0)       # 0 grados en radianes\n",
    "    tfilm = 5                   # espesor en milímetros\n",
    "    \n",
    "    fv = fv*1E-7                # fracción de volúmen de las partículas\n",
    "    D = D*1E-3                  # diámetro de las partículas\n",
    "    \n",
    "    qext, qsca = mie.scatter_efficiency(lam2,Nlayers[1],Np,D)[:2]\n",
    "    qabs = qext - qsca\n",
    "    Rtot, Ttot = rt.adm_sphere(lam2,tfilm,Nlayers,fv,D,Np)\n",
    "\n",
    "    fig, ax = plt.subplots(1,3)\n",
    "    fig.set_size_inches(12, 3)\n",
    "    plt.rcParams['font.size'] = '10'\n",
    "    \n",
    "    ax[0].plot(lam2,qsca,'-r',label='$C_\\mathrm{sca} A_c$')\n",
    "    ax[0].plot(lam2,qabs,'-b',label='$C_\\mathrm{abs} A_c$')\n",
    "    ax[0].set_xlabel('Longitud de onda ($\\mu$m)')\n",
    "    ax[0].set_ylabel('Eficiencia transversal')\n",
    "    ax[0].set_title('Partícula de plata (D=%.0f nm)' % (D*1E3))\n",
    "    ax[0].legend()\n",
    "    ax[0].set_ylim(0,10)\n",
    "    \n",
    "    ax[1].plot(lam2,Rtot,'-r',label = 'Rtot')\n",
    "    ax[1].plot(lam2,Ttot,'-b',label = 'Ttot')\n",
    "    ax[1].set_xlabel('Longitud de onda ($\\mu$m)')\n",
    "    ax[1].set_ylabel('Transmisividad')\n",
    "    ax[1].set_title(r'Sílice con plata (fv = %.3e %%)' % (fv*100) )\n",
    "    ax[1].legend()\n",
    "    ax[1].set_ylim(0,1)\n",
    "\n",
    "    Dcircle = 0.20\n",
    "    html_rgb = cs.spec_to_rgb(Ttot*AM15(lam2), out_fmt='html')\n",
    "    Circle = plt.Circle((0, 0), Dcircle, color=html_rgb)\n",
    "    ax[2].add_patch(Circle)\n",
    "    ax[2].annotate('Luz Trasera', xy=(0, 0), va='center', ha='center')\n",
    "\n",
    "    html_rgb = cs.spec_to_rgb(Rtot*AM15(lam2), out_fmt='html')\n",
    "    Circle = plt.Circle((Dcircle*1.2*2, 0), Dcircle, color=html_rgb)\n",
    "    ax[2].add_patch(Circle)\n",
    "    ax[2].annotate('Luz Frontal', xy=(Dcircle*1.2*2, 0), va='center', ha='center')\n",
    "\n",
    "    ax[2].set_aspect('equal')\n",
    "    ax[2].set_xlim(-Dcircle*1.2,Dcircle*1.2*3)\n",
    "    ax[2].set_ylim(-Dcircle*1.2,Dcircle*1.2)\n",
    "    ax[2].set_xticks([])\n",
    "    ax[2].set_yticks([])\n",
    "    ax[2].set_facecolor('k')\n",
    "    plt.subplots_adjust(wspace=0.3)"
   ]
  },
  {
   "cell_type": "code",
   "execution_count": 8,
   "id": "494ceeb2",
   "metadata": {
    "cell_style": "center",
    "slideshow": {
     "slide_type": "slide"
    },
    "tags": [
     "hide-input"
    ]
   },
   "outputs": [
    {
     "data": {
      "application/vnd.jupyter.widget-view+json": {
       "model_id": "868416d979ad48779a9e7acb07c686d7",
       "version_major": 2,
       "version_minor": 0
      },
      "text/plain": [
       "interactive(children=(IntSlider(value=20, description='fv', min=1), IntSlider(value=70, description='D', max=2…"
      ]
     },
     "metadata": {},
     "output_type": "display_data"
    }
   ],
   "source": [
    "from ipywidgets import interact\n",
    "\n",
    "@interact(fv=(1,100,1), D = (10,200,1))\n",
    "def g(fv=20, D = 70):\n",
    "    return plot_glass_silver(fv,D)"
   ]
  },
  {
   "cell_type": "markdown",
   "id": "031ca52b",
   "metadata": {
    "slideshow": {
     "slide_type": "slide"
    }
   },
   "source": [
    "Cuando la concentración de partículas es densa, el medio se vuelve opaco. Este régimen se denomina **scattering difuso** y permite explicar, entre otras cosas, el color de las nubes o la pintura blanca\n",
    "\n",
    "<img src=\"./images/diffuse_scattering.png\" width=\"400px\" align= center>\n",
    "\n",
    "<center>Transporte de luz en un medio con scattering difuso</center>"
   ]
  },
  {
   "cell_type": "markdown",
   "id": "01df5bd6",
   "metadata": {
    "slideshow": {
     "slide_type": "slide"
    }
   },
   "source": [
    "Un ejemplo interesante corresponde a la leche. En términos simples, la leche es una emulsión formada por pequeñas partículas de grasa dispersas en un medio acuoso. \n",
    "\n",
    "<img src=\"./images/milk_microscope.png\" width=\"400px\" align= center>\n",
    "\n",
    "<center>Imagen de microscópio (40x) de leche orgánica. Las burbujas verdes corresponden al aceite en suspención en agua.</center>\n",
    "\n",
    "Fuente: [Braun K., Hanewald A. and Vilgis T. Foods 8(10): 483(2019)](https://www.ncbi.nlm.nih.gov/pmc/articles/PMC6836175/)"
   ]
  },
  {
   "cell_type": "markdown",
   "id": "225b5528",
   "metadata": {
    "slideshow": {
     "slide_type": "fragment"
    }
   },
   "source": [
    "Como aproximación, consideremos un medio de espesor $1$ cm, compuesto por agua $N_h = 1.3$ y pequeñas partículas esféricas de aceite $N_p = 1.5$. La emulsión considera un 60% de partículas de aceite por volumen."
   ]
  },
  {
   "cell_type": "code",
   "execution_count": 9,
   "id": "72cbfc3e",
   "metadata": {
    "cell_style": "split",
    "slideshow": {
     "slide_type": "slide"
    },
    "tags": [
     "hide-input"
    ]
   },
   "outputs": [],
   "source": [
    "%%capture showplot\n",
    "# import empylib.nklib as nk\n",
    "import numpy as np\n",
    "import empylib.rad_transfer as rt\n",
    "\n",
    "# Solo modificar estos parámetros\n",
    "#---------------------------------------------------------------\n",
    "lam3 = np.linspace(0.3,1.0,100)   # espectro de longitudes de onda\n",
    "tfilm = 10                        # espesor en milímetros\n",
    "fv = 0.50                         # fracción de volúmen de los poros\n",
    "D = 1.0                           # diámetro de los poros (micrones)\n",
    "Nh2o = 1.3                        # Índice de refracción del agua\n",
    "Noil = 1.5                        # índice de refracción partículas de aceite\n",
    "#---------------------------------------------------------------\n",
    "Rtot, Ttot = rt.adm_sphere(lam3,tfilm,(1.0,Nh2o,1.0),fv,D,Noil)\n",
    "\n",
    "fig, ax = plt.subplots()\n",
    "fig.set_size_inches(5, 3.5)\n",
    "plt.rcParams['font.size'] = '12'\n",
    "ax.plot(lam3,Rtot,'-r',label='R')\n",
    "ax.plot(lam3,Ttot,'-b',label='T')\n",
    "ax.set_xlabel('Longitud de onda ($\\mu$m)')\n",
    "ax.set_ylabel('Reflectividad / Transmisividad')\n",
    "ax.set_title(r'Leche (fv = %.0f %%)' % (fv*100))\n",
    "ax.legend()\n",
    "ax.set_ylim(0,1.02)\n",
    "plt.show()"
   ]
  },
  {
   "cell_type": "code",
   "execution_count": 10,
   "id": "9a1291f7",
   "metadata": {
    "cell_style": "split",
    "slideshow": {
     "slide_type": "fragment"
    },
    "tags": [
     "hide-input"
    ]
   },
   "outputs": [
    {
     "data": {
      "image/png": "[encoded data removed]",
      "text/plain": [
       "<Figure size 500x350 with 1 Axes>"
      ]
     },
     "metadata": {
      "filenames": {
       "image/png": "/mnt/c/Users/frami/OneDrive - Universidad Adolfo Ibanez/Teaching_courses/MEC501 - Manejo_y_Conversion_Energia_Solar_Termica/material_catedra/_build/jupyter_execute/05_TransporteRadiativo/05_TransporteRadiativo_67_0.png"
      }
     },
     "output_type": "display_data"
    }
   ],
   "source": [
    "showplot()"
   ]
  },
  {
   "cell_type": "markdown",
   "id": "6c035f58",
   "metadata": {
    "slideshow": {
     "slide_type": "slide"
    }
   },
   "source": [
    "Como vemos la alta concentración de partículas hace que la refletividad y transmisividad se vuelvan casi uniformes para todas las longitudes de onda. El espectro, así, toma un color blanco frente a una fuente de luz blanca."
   ]
  },
  {
   "cell_type": "markdown",
   "id": "17c1dc23",
   "metadata": {
    "slideshow": {
     "slide_type": "slide"
    }
   },
   "source": [
    "## Referencias\n",
    "- Chen G. **Chapter 5 - Energy Transfer by Waves** in *Nanoscale energy transport and conversion*, 1st Ed, Oxford University Press, 2005"
   ]
  }
 ],
 "metadata": {
  "celltoolbar": "Slideshow",
  "kernelspec": {
   "display_name": "Python 3 (ipykernel)",
   "language": "python",
   "name": "python3"
  },
  "language_info": {
   "codemirror_mode": {
    "name": "ipython",
    "version": 3
   },
   "file_extension": ".py",
   "mimetype": "text/x-python",
   "name": "python",
   "nbconvert_exporter": "python",
   "pygments_lexer": "ipython3",
   "version": "3.10.8"
  },
  "latex_envs": {
   "LaTeX_envs_menu_present": false,
   "autoclose": false,
   "autocomplete": false,
   "bibliofile": "biblio.bib",
   "cite_by": "apalike",
   "current_citInitial": 1,
   "eqLabelWithNumbers": true,
   "eqNumInitial": 2,
   "hotkeys": {
    "equation": "Ctrl-E",
    "itemize": "Ctrl-I"
   },
   "labels_anchors": false,
   "latex_user_defs": false,
   "report_style_numbering": false,
   "user_envs_cfg": true
  },
  "toc": {
   "base_numbering": 1,
   "nav_menu": {},
   "number_sections": false,
   "sideBar": true,
   "skip_h1_title": true,
   "title_cell": "Tabla de contenidos",
   "title_sidebar": "Contenidos",
   "toc_cell": false,
   "toc_position": {
    "height": "calc(100% - 180px)",
    "left": "10px",
    "top": "150px",
    "width": "307.2px"
   },
   "toc_section_display": true,
   "toc_window_display": false
  },
  "varInspector": {
   "cols": {
    "lenName": 16,
    "lenType": 16,
    "lenVar": 40
   },
   "kernels_config": {
    "python": {
     "delete_cmd_postfix": "",
     "delete_cmd_prefix": "del ",
     "library": "var_list.py",
     "varRefreshCmd": "print(var_dic_list())"
    },
    "r": {
     "delete_cmd_postfix": ") ",
     "delete_cmd_prefix": "rm(",
     "library": "var_list.r",
     "varRefreshCmd": "cat(var_dic_list()) "
    }
   },
   "types_to_exclude": [
    "module",
    "function",
    "builtin_function_or_method",
    "instance",
    "_Feature"
   ],
   "window_display": false
  },
  "widgets": {
   "application/vnd.jupyter.widget-state+json": {
    "state": {
     "10338fe7dd834160a0e6fec473de0e69": {
      "model_module": "@jupyter-widgets/controls",
      "model_module_version": "1.5.0",
      "model_name": "IntSliderModel",
      "state": {
       "_dom_classes": [],
       "_model_module": "@jupyter-widgets/controls",
       "_model_module_version": "1.5.0",
       "_model_name": "IntSliderModel",
       "_view_count": null,
       "_view_module": "@jupyter-widgets/controls",
       "_view_module_version": "1.5.0",
       "_view_name": "IntSliderView",
       "continuous_update": true,
       "description": "fv",
       "description_tooltip": null,
       "disabled": false,
       "layout": "IPY_MODEL_2aad0d466a9d4ec59bb24dad0f567f6f",
       "max": 100,
       "min": 1,
       "orientation": "horizontal",
       "readout": true,
       "readout_format": "d",
       "step": 1,
       "style": "IPY_MODEL_7f0f417102384c0b96d6e377fd8a2636",
       "value": 20
      }
     },
     "1cf92cfbe89a4c5cbe34b636431de5b3": {
      "model_module": "@jupyter-widgets/controls",
      "model_module_version": "1.5.0",
      "model_name": "FloatSliderModel",
      "state": {
       "_dom_classes": [],
       "_model_module": "@jupyter-widgets/controls",
       "_model_module_version": "1.5.0",
       "_model_name": "FloatSliderModel",
       "_view_count": null,
       "_view_module": "@jupyter-widgets/controls",
       "_view_module_version": "1.5.0",
       "_view_name": "FloatSliderView",
       "continuous_update": true,
       "description": "sig",
       "description_tooltip": null,
       "disabled": false,
       "layout": "IPY_MODEL_bee7b8fbd1b349519b57bc16cf9ba034",
       "max": 1.0,
       "min": 0.0,
       "orientation": "horizontal",
       "readout": true,
       "readout_format": ".2f",
       "step": 0.01,
       "style": "IPY_MODEL_ba879820963e4cedb826b6f04f766624",
       "value": 0.3
      }
     },
     "1d6e24a24b594d7a94c094d80d6e3d5c": {
      "model_module": "@jupyter-widgets/base",
      "model_module_version": "1.2.0",
      "model_name": "LayoutModel",
      "state": {
       "_model_module": "@jupyter-widgets/base",
       "_model_module_version": "1.2.0",
       "_model_name": "LayoutModel",
       "_view_count": null,
       "_view_module": "@jupyter-widgets/base",
       "_view_module_version": "1.2.0",
       "_view_name": "LayoutView",
       "align_content": null,
       "align_items": null,
       "align_self": null,
       "border": null,
       "bottom": null,
       "display": null,
       "flex": null,
       "flex_flow": null,
       "grid_area": null,
       "grid_auto_columns": null,
       "grid_auto_flow": null,
       "grid_auto_rows": null,
       "grid_column": null,
       "grid_gap": null,
       "grid_row": null,
       "grid_template_areas": null,
       "grid_template_columns": null,
       "grid_template_rows": null,
       "height": null,
       "justify_content": null,
       "justify_items": null,
       "left": null,
       "margin": null,
       "max_height": null,
       "max_width": null,
       "min_height": null,
       "min_width": null,
       "object_fit": null,
       "object_position": null,
       "order": null,
       "overflow": null,
       "overflow_x": null,
       "overflow_y": null,
       "padding": null,
       "right": null,
       "top": null,
       "visibility": null,
       "width": null
      }
     },
     "285d3a7c6ece4e84aebedbae36d246f0": {
      "model_module": "@jupyter-widgets/controls",
      "model_module_version": "1.5.0",
      "model_name": "VBoxModel",
      "state": {
       "_dom_classes": [
        "widget-interact"
       ],
       "_model_module": "@jupyter-widgets/controls",
       "_model_module_version": "1.5.0",
       "_model_name": "VBoxModel",
       "_view_count": null,
       "_view_module": "@jupyter-widgets/controls",
       "_view_module_version": "1.5.0",
       "_view_name": "VBoxView",
       "box_style": "",
       "children": [
        "IPY_MODEL_60247bf047ed4598a4c2271bf7461931",
        "IPY_MODEL_8db1b0bd36444dfab71714b9bd8be3b6",
        "IPY_MODEL_1cf92cfbe89a4c5cbe34b636431de5b3",
        "IPY_MODEL_28bd02f0bcc54a58b33d799983ebbdd0"
       ],
       "layout": "IPY_MODEL_d48956e9526b48d8bb4cefcd12c5eb6a"
      }
     },
     "28bd02f0bcc54a58b33d799983ebbdd0": {
      "model_module": "@jupyter-widgets/output",
      "model_module_version": "1.0.0",
      "model_name": "OutputModel",
      "state": {
       "_dom_classes": [],
       "_model_module": "@jupyter-widgets/output",
       "_model_module_version": "1.0.0",
       "_model_name": "OutputModel",
       "_view_count": null,
       "_view_module": "@jupyter-widgets/output",
       "_view_module_version": "1.0.0",
       "_view_name": "OutputView",
       "layout": "IPY_MODEL_81a02d54d7fa4e79a746610a2b97f9e6",
       "msg_id": "",
       "outputs": [
        {
         "data": {
          "image/png": "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\n",
          "text/plain": "<Figure size 600x300 with 1 Axes>"
         },
         "metadata": {},
         "output_type": "display_data"
        }
       ]
      }
     },
     "2aad0d466a9d4ec59bb24dad0f567f6f": {
      "model_module": "@jupyter-widgets/base",
      "model_module_version": "1.2.0",
      "model_name": "LayoutModel",
      "state": {
       "_model_module": "@jupyter-widgets/base",
       "_model_module_version": "1.2.0",
       "_model_name": "LayoutModel",
       "_view_count": null,
       "_view_module": "@jupyter-widgets/base",
       "_view_module_version": "1.2.0",
       "_view_name": "LayoutView",
       "align_content": null,
       "align_items": null,
       "align_self": null,
       "border": null,
       "bottom": null,
       "display": null,
       "flex": null,
       "flex_flow": null,
       "grid_area": null,
       "grid_auto_columns": null,
       "grid_auto_flow": null,
       "grid_auto_rows": null,
       "grid_column": null,
       "grid_gap": null,
       "grid_row": null,
       "grid_template_areas": null,
       "grid_template_columns": null,
       "grid_template_rows": null,
       "height": null,
       "justify_content": null,
       "justify_items": null,
       "left": null,
       "margin": null,
       "max_height": null,
       "max_width": null,
       "min_height": null,
       "min_width": null,
       "object_fit": null,
       "object_position": null,
       "order": null,
       "overflow": null,
       "overflow_x": null,
       "overflow_y": null,
       "padding": null,
       "right": null,
       "top": null,
       "visibility": null,
       "width": null
      }
     },
     "34c7e76d1ee14528a6fe53d10f08974e": {
      "model_module": "@jupyter-widgets/base",
      "model_module_version": "1.2.0",
      "model_name": "LayoutModel",
      "state": {
       "_model_module": "@jupyter-widgets/base",
       "_model_module_version": "1.2.0",
       "_model_name": "LayoutModel",
       "_view_count": null,
       "_view_module": "@jupyter-widgets/base",
       "_view_module_version": "1.2.0",
       "_view_name": "LayoutView",
       "align_content": null,
       "align_items": null,
       "align_self": null,
       "border": null,
       "bottom": null,
       "display": null,
       "flex": null,
       "flex_flow": null,
       "grid_area": null,
       "grid_auto_columns": null,
       "grid_auto_flow": null,
       "grid_auto_rows": null,
       "grid_column": null,
       "grid_gap": null,
       "grid_row": null,
       "grid_template_areas": null,
       "grid_template_columns": null,
       "grid_template_rows": null,
       "height": null,
       "justify_content": null,
       "justify_items": null,
       "left": null,
       "margin": null,
       "max_height": null,
       "max_width": null,
       "min_height": null,
       "min_width": null,
       "object_fit": null,
       "object_position": null,
       "order": null,
       "overflow": null,
       "overflow_x": null,
       "overflow_y": null,
       "padding": null,
       "right": null,
       "top": null,
       "visibility": null,
       "width": null
      }
     },
     "49ab7273bf6a44b9bf9fbfdf34acda3d": {
      "model_module": "@jupyter-widgets/controls",
      "model_module_version": "1.5.0",
      "model_name": "SliderStyleModel",
      "state": {
       "_model_module": "@jupyter-widgets/controls",
       "_model_module_version": "1.5.0",
       "_model_name": "SliderStyleModel",
       "_view_count": null,
       "_view_module": "@jupyter-widgets/base",
       "_view_module_version": "1.2.0",
       "_view_name": "StyleView",
       "description_width": "",
       "handle_color": null
      }
     },
     "549dc67bf14e458ebb0930664974c13a": {
      "model_module": "@jupyter-widgets/base",
      "model_module_version": "1.2.0",
      "model_name": "LayoutModel",
      "state": {
       "_model_module": "@jupyter-widgets/base",
       "_model_module_version": "1.2.0",
       "_model_name": "LayoutModel",
       "_view_count": null,
       "_view_module": "@jupyter-widgets/base",
       "_view_module_version": "1.2.0",
       "_view_name": "LayoutView",
       "align_content": null,
       "align_items": null,
       "align_self": null,
       "border": null,
       "bottom": null,
       "display": null,
       "flex": null,
       "flex_flow": null,
       "grid_area": null,
       "grid_auto_columns": null,
       "grid_auto_flow": null,
       "grid_auto_rows": null,
       "grid_column": null,
       "grid_gap": null,
       "grid_row": null,
       "grid_template_areas": null,
       "grid_template_columns": null,
       "grid_template_rows": null,
       "height": null,
       "justify_content": null,
       "justify_items": null,
       "left": null,
       "margin": null,
       "max_height": null,
       "max_width": null,
       "min_height": null,
       "min_width": null,
       "object_fit": null,
       "object_position": null,
       "order": null,
       "overflow": null,
       "overflow_x": null,
       "overflow_y": null,
       "padding": null,
       "right": null,
       "top": null,
       "visibility": null,
       "width": null
      }
     },
     "54b260d33aae4934845e2adce5910e50": {
      "model_module": "@jupyter-widgets/output",
      "model_module_version": "1.0.0",
      "model_name": "OutputModel",
      "state": {
       "_dom_classes": [],
       "_model_module": "@jupyter-widgets/output",
       "_model_module_version": "1.0.0",
       "_model_name": "OutputModel",
       "_view_count": null,
       "_view_module": "@jupyter-widgets/output",
       "_view_module_version": "1.0.0",
       "_view_name": "OutputView",
       "layout": "IPY_MODEL_d261e734fbd642cb8c1d177d0b6e5bb1",
       "msg_id": "",
       "outputs": [
        {
         "data": {
          "image/png": "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\n",
          "text/plain": "<Figure size 600x400 with 2 Axes>"
         },
         "metadata": {},
         "output_type": "display_data"
        }
       ]
      }
     },
     "60247bf047ed4598a4c2271bf7461931": {
      "model_module": "@jupyter-widgets/controls",
      "model_module_version": "1.5.0",
      "model_name": "IntSliderModel",
      "state": {
       "_dom_classes": [],
       "_model_module": "@jupyter-widgets/controls",
       "_model_module_version": "1.5.0",
       "_model_name": "IntSliderModel",
       "_view_count": null,
       "_view_module": "@jupyter-widgets/controls",
       "_view_module_version": "1.5.0",
       "_view_name": "IntSliderView",
       "continuous_update": true,
       "description": "N",
       "description_tooltip": null,
       "disabled": false,
       "layout": "IPY_MODEL_e55bf331ad474fa9982a2f2f0ee0a5e8",
       "max": 1000,
       "min": 1,
       "orientation": "horizontal",
       "readout": true,
       "readout_format": "d",
       "step": 1,
       "style": "IPY_MODEL_a7a05bda04ab41eeb052dd279fed1284",
       "value": 1000
      }
     },
     "61ed5a80ba7742f891a37fd7b51bb237": {
      "model_module": "@jupyter-widgets/controls",
      "model_module_version": "1.5.0",
      "model_name": "SliderStyleModel",
      "state": {
       "_model_module": "@jupyter-widgets/controls",
       "_model_module_version": "1.5.0",
       "_model_name": "SliderStyleModel",
       "_view_count": null,
       "_view_module": "@jupyter-widgets/base",
       "_view_module_version": "1.2.0",
       "_view_name": "StyleView",
       "description_width": "",
       "handle_color": null
      }
     },
     "7f0f417102384c0b96d6e377fd8a2636": {
      "model_module": "@jupyter-widgets/controls",
      "model_module_version": "1.5.0",
      "model_name": "SliderStyleModel",
      "state": {
       "_model_module": "@jupyter-widgets/controls",
       "_model_module_version": "1.5.0",
       "_model_name": "SliderStyleModel",
       "_view_count": null,
       "_view_module": "@jupyter-widgets/base",
       "_view_module_version": "1.2.0",
       "_view_name": "StyleView",
       "description_width": "",
       "handle_color": null
      }
     },
     "81a02d54d7fa4e79a746610a2b97f9e6": {
      "model_module": "@jupyter-widgets/base",
      "model_module_version": "1.2.0",
      "model_name": "LayoutModel",
      "state": {
       "_model_module": "@jupyter-widgets/base",
       "_model_module_version": "1.2.0",
       "_model_name": "LayoutModel",
       "_view_count": null,
       "_view_module": "@jupyter-widgets/base",
       "_view_module_version": "1.2.0",
       "_view_name": "LayoutView",
       "align_content": null,
       "align_items": null,
       "align_self": null,
       "border": null,
       "bottom": null,
       "display": null,
       "flex": null,
       "flex_flow": null,
       "grid_area": null,
       "grid_auto_columns": null,
       "grid_auto_flow": null,
       "grid_auto_rows": null,
       "grid_column": null,
       "grid_gap": null,
       "grid_row": null,
       "grid_template_areas": null,
       "grid_template_columns": null,
       "grid_template_rows": null,
       "height": null,
       "justify_content": null,
       "justify_items": null,
       "left": null,
       "margin": null,
       "max_height": null,
       "max_width": null,
       "min_height": null,
       "min_width": null,
       "object_fit": null,
       "object_position": null,
       "order": null,
       "overflow": null,
       "overflow_x": null,
       "overflow_y": null,
       "padding": null,
       "right": null,
       "top": null,
       "visibility": null,
       "width": null
      }
     },
     "8472f231a3f2468f8243ea867ef9af8b": {
      "model_module": "@jupyter-widgets/base",
      "model_module_version": "1.2.0",
      "model_name": "LayoutModel",
      "state": {
       "_model_module": "@jupyter-widgets/base",
       "_model_module_version": "1.2.0",
       "_model_name": "LayoutModel",
       "_view_count": null,
       "_view_module": "@jupyter-widgets/base",
       "_view_module_version": "1.2.0",
       "_view_name": "LayoutView",
       "align_content": null,
       "align_items": null,
       "align_self": null,
       "border": null,
       "bottom": null,
       "display": null,
       "flex": null,
       "flex_flow": null,
       "grid_area": null,
       "grid_auto_columns": null,
       "grid_auto_flow": null,
       "grid_auto_rows": null,
       "grid_column": null,
       "grid_gap": null,
       "grid_row": null,
       "grid_template_areas": null,
       "grid_template_columns": null,
       "grid_template_rows": null,
       "height": null,
       "justify_content": null,
       "justify_items": null,
       "left": null,
       "margin": null,
       "max_height": null,
       "max_width": null,
       "min_height": null,
       "min_width": null,
       "object_fit": null,
       "object_position": null,
       "order": null,
       "overflow": null,
       "overflow_x": null,
       "overflow_y": null,
       "padding": null,
       "right": null,
       "top": null,
       "visibility": null,
       "width": null
      }
     },
     "868416d979ad48779a9e7acb07c686d7": {
      "model_module": "@jupyter-widgets/controls",
      "model_module_version": "1.5.0",
      "model_name": "VBoxModel",
      "state": {
       "_dom_classes": [
        "widget-interact"
       ],
       "_model_module": "@jupyter-widgets/controls",
       "_model_module_version": "1.5.0",
       "_model_name": "VBoxModel",
       "_view_count": null,
       "_view_module": "@jupyter-widgets/controls",
       "_view_module_version": "1.5.0",
       "_view_name": "VBoxView",
       "box_style": "",
       "children": [
        "IPY_MODEL_10338fe7dd834160a0e6fec473de0e69",
        "IPY_MODEL_e33bb9ba507b4650b5d13e064fe09625",
        "IPY_MODEL_b7eeb25ea21841859f82cbe1cf1f04a9"
       ],
       "layout": "IPY_MODEL_f974d26c2e274047b826f29a4915d8b4"
      }
     },
     "8db1b0bd36444dfab71714b9bd8be3b6": {
      "model_module": "@jupyter-widgets/controls",
      "model_module_version": "1.5.0",
      "model_name": "FloatSliderModel",
      "state": {
       "_dom_classes": [],
       "_model_module": "@jupyter-widgets/controls",
       "_model_module_version": "1.5.0",
       "_model_name": "FloatSliderModel",
       "_view_count": null,
       "_view_module": "@jupyter-widgets/controls",
       "_view_module_version": "1.5.0",
       "_view_name": "FloatSliderView",
       "continuous_update": true,
       "description": "t",
       "description_tooltip": null,
       "disabled": false,
       "layout": "IPY_MODEL_549dc67bf14e458ebb0930664974c13a",
       "max": 10.0,
       "min": -10.0,
       "orientation": "horizontal",
       "readout": true,
       "readout_format": ".2f",
       "step": 0.1,
       "style": "IPY_MODEL_e1c828a09a4d40349a11fd0124ecbba9",
       "value": 0.0
      }
     },
     "a78520bb44de4dbbbb83bf9e46dd4cf8": {
      "model_module": "@jupyter-widgets/base",
      "model_module_version": "1.2.0",
      "model_name": "LayoutModel",
      "state": {
       "_model_module": "@jupyter-widgets/base",
       "_model_module_version": "1.2.0",
       "_model_name": "LayoutModel",
       "_view_count": null,
       "_view_module": "@jupyter-widgets/base",
       "_view_module_version": "1.2.0",
       "_view_name": "LayoutView",
       "align_content": null,
       "align_items": null,
       "align_self": null,
       "border": null,
       "bottom": null,
       "display": null,
       "flex": null,
       "flex_flow": null,
       "grid_area": null,
       "grid_auto_columns": null,
       "grid_auto_flow": null,
       "grid_auto_rows": null,
       "grid_column": null,
       "grid_gap": null,
       "grid_row": null,
       "grid_template_areas": null,
       "grid_template_columns": null,
       "grid_template_rows": null,
       "height": null,
       "justify_content": null,
       "justify_items": null,
       "left": null,
       "margin": null,
       "max_height": null,
       "max_width": null,
       "min_height": null,
       "min_width": null,
       "object_fit": null,
       "object_position": null,
       "order": null,
       "overflow": null,
       "overflow_x": null,
       "overflow_y": null,
       "padding": null,
       "right": null,
       "top": null,
       "visibility": null,
       "width": null
      }
     },
     "a7a05bda04ab41eeb052dd279fed1284": {
      "model_module": "@jupyter-widgets/controls",
      "model_module_version": "1.5.0",
      "model_name": "SliderStyleModel",
      "state": {
       "_model_module": "@jupyter-widgets/controls",
       "_model_module_version": "1.5.0",
       "_model_name": "SliderStyleModel",
       "_view_count": null,
       "_view_module": "@jupyter-widgets/base",
       "_view_module_version": "1.2.0",
       "_view_name": "StyleView",
       "description_width": "",
       "handle_color": null
      }
     },
     "b7eeb25ea21841859f82cbe1cf1f04a9": {
      "model_module": "@jupyter-widgets/output",
      "model_module_version": "1.0.0",
      "model_name": "OutputModel",
      "state": {
       "_dom_classes": [],
       "_model_module": "@jupyter-widgets/output",
       "_model_module_version": "1.0.0",
       "_model_name": "OutputModel",
       "_view_count": null,
       "_view_module": "@jupyter-widgets/output",
       "_view_module_version": "1.0.0",
       "_view_name": "OutputView",
       "layout": "IPY_MODEL_8472f231a3f2468f8243ea867ef9af8b",
       "msg_id": "",
       "outputs": [
        {
         "data": {
          "image/png": "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\n",
          "text/plain": "<Figure size 1200x300 with 3 Axes>"
         },
         "metadata": {},
         "output_type": "display_data"
        }
       ]
      }
     },
     "ba879820963e4cedb826b6f04f766624": {
      "model_module": "@jupyter-widgets/controls",
      "model_module_version": "1.5.0",
      "model_name": "SliderStyleModel",
      "state": {
       "_model_module": "@jupyter-widgets/controls",
       "_model_module_version": "1.5.0",
       "_model_name": "SliderStyleModel",
       "_view_count": null,
       "_view_module": "@jupyter-widgets/base",
       "_view_module_version": "1.2.0",
       "_view_name": "StyleView",
       "description_width": "",
       "handle_color": null
      }
     },
     "bc49a57c104442ed86c7578ed175f454": {
      "model_module": "@jupyter-widgets/controls",
      "model_module_version": "1.5.0",
      "model_name": "VBoxModel",
      "state": {
       "_dom_classes": [
        "widget-interact"
       ],
       "_model_module": "@jupyter-widgets/controls",
       "_model_module_version": "1.5.0",
       "_model_name": "VBoxModel",
       "_view_count": null,
       "_view_module": "@jupyter-widgets/controls",
       "_view_module_version": "1.5.0",
       "_view_name": "VBoxView",
       "box_style": "",
       "children": [
        "IPY_MODEL_f2252f6324ec4a57baed97206b253847",
        "IPY_MODEL_54b260d33aae4934845e2adce5910e50"
       ],
       "layout": "IPY_MODEL_a78520bb44de4dbbbb83bf9e46dd4cf8"
      }
     },
     "bee7b8fbd1b349519b57bc16cf9ba034": {
      "model_module": "@jupyter-widgets/base",
      "model_module_version": "1.2.0",
      "model_name": "LayoutModel",
      "state": {
       "_model_module": "@jupyter-widgets/base",
       "_model_module_version": "1.2.0",
       "_model_name": "LayoutModel",
       "_view_count": null,
       "_view_module": "@jupyter-widgets/base",
       "_view_module_version": "1.2.0",
       "_view_name": "LayoutView",
       "align_content": null,
       "align_items": null,
       "align_self": null,
       "border": null,
       "bottom": null,
       "display": null,
       "flex": null,
       "flex_flow": null,
       "grid_area": null,
       "grid_auto_columns": null,
       "grid_auto_flow": null,
       "grid_auto_rows": null,
       "grid_column": null,
       "grid_gap": null,
       "grid_row": null,
       "grid_template_areas": null,
       "grid_template_columns": null,
       "grid_template_rows": null,
       "height": null,
       "justify_content": null,
       "justify_items": null,
       "left": null,
       "margin": null,
       "max_height": null,
       "max_width": null,
       "min_height": null,
       "min_width": null,
       "object_fit": null,
       "object_position": null,
       "order": null,
       "overflow": null,
       "overflow_x": null,
       "overflow_y": null,
       "padding": null,
       "right": null,
       "top": null,
       "visibility": null,
       "width": null
      }
     },
     "d261e734fbd642cb8c1d177d0b6e5bb1": {
      "model_module": "@jupyter-widgets/base",
      "model_module_version": "1.2.0",
      "model_name": "LayoutModel",
      "state": {
       "_model_module": "@jupyter-widgets/base",
       "_model_module_version": "1.2.0",
       "_model_name": "LayoutModel",
       "_view_count": null,
       "_view_module": "@jupyter-widgets/base",
       "_view_module_version": "1.2.0",
       "_view_name": "LayoutView",
       "align_content": null,
       "align_items": null,
       "align_self": null,
       "border": null,
       "bottom": null,
       "display": null,
       "flex": null,
       "flex_flow": null,
       "grid_area": null,
       "grid_auto_columns": null,
       "grid_auto_flow": null,
       "grid_auto_rows": null,
       "grid_column": null,
       "grid_gap": null,
       "grid_row": null,
       "grid_template_areas": null,
       "grid_template_columns": null,
       "grid_template_rows": null,
       "height": null,
       "justify_content": null,
       "justify_items": null,
       "left": null,
       "margin": null,
       "max_height": null,
       "max_width": null,
       "min_height": null,
       "min_width": null,
       "object_fit": null,
       "object_position": null,
       "order": null,
       "overflow": null,
       "overflow_x": null,
       "overflow_y": null,
       "padding": null,
       "right": null,
       "top": null,
       "visibility": null,
       "width": null
      }
     },
     "d48956e9526b48d8bb4cefcd12c5eb6a": {
      "model_module": "@jupyter-widgets/base",
      "model_module_version": "1.2.0",
      "model_name": "LayoutModel",
      "state": {
       "_model_module": "@jupyter-widgets/base",
       "_model_module_version": "1.2.0",
       "_model_name": "LayoutModel",
       "_view_count": null,
       "_view_module": "@jupyter-widgets/base",
       "_view_module_version": "1.2.0",
       "_view_name": "LayoutView",
       "align_content": null,
       "align_items": null,
       "align_self": null,
       "border": null,
       "bottom": null,
       "display": null,
       "flex": null,
       "flex_flow": null,
       "grid_area": null,
       "grid_auto_columns": null,
       "grid_auto_flow": null,
       "grid_auto_rows": null,
       "grid_column": null,
       "grid_gap": null,
       "grid_row": null,
       "grid_template_areas": null,
       "grid_template_columns": null,
       "grid_template_rows": null,
       "height": null,
       "justify_content": null,
       "justify_items": null,
       "left": null,
       "margin": null,
       "max_height": null,
       "max_width": null,
       "min_height": null,
       "min_width": null,
       "object_fit": null,
       "object_position": null,
       "order": null,
       "overflow": null,
       "overflow_x": null,
       "overflow_y": null,
       "padding": null,
       "right": null,
       "top": null,
       "visibility": null,
       "width": null
      }
     },
     "e1c828a09a4d40349a11fd0124ecbba9": {
      "model_module": "@jupyter-widgets/controls",
      "model_module_version": "1.5.0",
      "model_name": "SliderStyleModel",
      "state": {
       "_model_module": "@jupyter-widgets/controls",
       "_model_module_version": "1.5.0",
       "_model_name": "SliderStyleModel",
       "_view_count": null,
       "_view_module": "@jupyter-widgets/base",
       "_view_module_version": "1.2.0",
       "_view_name": "StyleView",
       "description_width": "",
       "handle_color": null
      }
     },
     "e33bb9ba507b4650b5d13e064fe09625": {
      "model_module": "@jupyter-widgets/controls",
      "model_module_version": "1.5.0",
      "model_name": "IntSliderModel",
      "state": {
       "_dom_classes": [],
       "_model_module": "@jupyter-widgets/controls",
       "_model_module_version": "1.5.0",
       "_model_name": "IntSliderModel",
       "_view_count": null,
       "_view_module": "@jupyter-widgets/controls",
       "_view_module_version": "1.5.0",
       "_view_name": "IntSliderView",
       "continuous_update": true,
       "description": "D",
       "description_tooltip": null,
       "disabled": false,
       "layout": "IPY_MODEL_34c7e76d1ee14528a6fe53d10f08974e",
       "max": 200,
       "min": 10,
       "orientation": "horizontal",
       "readout": true,
       "readout_format": "d",
       "step": 1,
       "style": "IPY_MODEL_61ed5a80ba7742f891a37fd7b51bb237",
       "value": 70
      }
     },
     "e55bf331ad474fa9982a2f2f0ee0a5e8": {
      "model_module": "@jupyter-widgets/base",
      "model_module_version": "1.2.0",
      "model_name": "LayoutModel",
      "state": {
       "_model_module": "@jupyter-widgets/base",
       "_model_module_version": "1.2.0",
       "_model_name": "LayoutModel",
       "_view_count": null,
       "_view_module": "@jupyter-widgets/base",
       "_view_module_version": "1.2.0",
       "_view_name": "LayoutView",
       "align_content": null,
       "align_items": null,
       "align_self": null,
       "border": null,
       "bottom": null,
       "display": null,
       "flex": null,
       "flex_flow": null,
       "grid_area": null,
       "grid_auto_columns": null,
       "grid_auto_flow": null,
       "grid_auto_rows": null,
       "grid_column": null,
       "grid_gap": null,
       "grid_row": null,
       "grid_template_areas": null,
       "grid_template_columns": null,
       "grid_template_rows": null,
       "height": null,
       "justify_content": null,
       "justify_items": null,
       "left": null,
       "margin": null,
       "max_height": null,
       "max_width": null,
       "min_height": null,
       "min_width": null,
       "object_fit": null,
       "object_position": null,
       "order": null,
       "overflow": null,
       "overflow_x": null,
       "overflow_y": null,
       "padding": null,
       "right": null,
       "top": null,
       "visibility": null,
       "width": null
      }
     },
     "f2252f6324ec4a57baed97206b253847": {
      "model_module": "@jupyter-widgets/controls",
      "model_module_version": "1.5.0",
      "model_name": "FloatSliderModel",
      "state": {
       "_dom_classes": [],
       "_model_module": "@jupyter-widgets/controls",
       "_model_module_version": "1.5.0",
       "_model_name": "FloatSliderModel",
       "_view_count": null,
       "_view_module": "@jupyter-widgets/controls",
       "_view_module_version": "1.5.0",
       "_view_name": "FloatSliderView",
       "continuous_update": true,
       "description": "theta_sun",
       "description_tooltip": null,
       "disabled": false,
       "layout": "IPY_MODEL_1d6e24a24b594d7a94c094d80d6e3d5c",
       "max": 89.99,
       "min": 0.0,
       "orientation": "horizontal",
       "readout": true,
       "readout_format": ".2f",
       "step": 0.1,
       "style": "IPY_MODEL_49ab7273bf6a44b9bf9fbfdf34acda3d",
       "value": 0.0
      }
     },
     "f974d26c2e274047b826f29a4915d8b4": {
      "model_module": "@jupyter-widgets/base",
      "model_module_version": "1.2.0",
      "model_name": "LayoutModel",
      "state": {
       "_model_module": "@jupyter-widgets/base",
       "_model_module_version": "1.2.0",
       "_model_name": "LayoutModel",
       "_view_count": null,
       "_view_module": "@jupyter-widgets/base",
       "_view_module_version": "1.2.0",
       "_view_name": "LayoutView",
       "align_content": null,
       "align_items": null,
       "align_self": null,
       "border": null,
       "bottom": null,
       "display": null,
       "flex": null,
       "flex_flow": null,
       "grid_area": null,
       "grid_auto_columns": null,
       "grid_auto_flow": null,
       "grid_auto_rows": null,
       "grid_column": null,
       "grid_gap": null,
       "grid_row": null,
       "grid_template_areas": null,
       "grid_template_columns": null,
       "grid_template_rows": null,
       "height": null,
       "justify_content": null,
       "justify_items": null,
       "left": null,
       "margin": null,
       "max_height": null,
       "max_width": null,
       "min_height": null,
       "min_width": null,
       "object_fit": null,
       "object_position": null,
       "order": null,
       "overflow": null,
       "overflow_x": null,
       "overflow_y": null,
       "padding": null,
       "right": null,
       "top": null,
       "visibility": null,
       "width": null
      }
     }
    },
    "version_major": 2,
    "version_minor": 0
   }
  }
 },
 "nbformat": 4,
 "nbformat_minor": 5
}