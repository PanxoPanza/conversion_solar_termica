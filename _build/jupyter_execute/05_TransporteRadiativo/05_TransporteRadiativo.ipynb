{
 "cells": [
  {
   "cell_type": "code",
   "execution_count": 1,
   "id": "3c597da7",
   "metadata": {
    "slideshow": {
     "slide_type": "skip"
    },
    "tags": [
     "remove-cell"
    ]
   },
   "outputs": [],
   "source": [
    "import importlib.util\n",
    "if importlib.util.find_spec('empylib') is None:\n",
    "    !pip install git+https://github.com/PanxoPanza/empylib.git"
   ]
  },
  {
   "cell_type": "markdown",
   "id": "8b01ca79",
   "metadata": {
    "slideshow": {
     "slide_type": "slide"
    }
   },
   "source": [
    "# Transporte Radiativo"
   ]
  },
  {
   "cell_type": "markdown",
   "id": "580ab8db",
   "metadata": {
    "slideshow": {
     "slide_type": "slide"
    }
   },
   "source": [
    "## Introducción"
   ]
  },
  {
   "cell_type": "markdown",
   "id": "dadf38f1",
   "metadata": {
    "slideshow": {
     "slide_type": "fragment"
    }
   },
   "source": [
    "En la [unidad 2](../02_ondas_EM_en_la_materia/02_ondas_EM_en_la_materia.ipynb) revisamos el efecto de interferencia en películas de espesor finito, y como está daba lugar a la coloración tornasol caractéristica en derrames de aceites en agua, lentes y discos compactos.\n",
    "\n",
    "<img src=\"./images/interference_oils.png\" width=\"700px\" align= center>"
   ]
  },
  {
   "cell_type": "markdown",
   "id": "d2dc01e9",
   "metadata": {
    "slideshow": {
     "slide_type": "fragment"
    }
   },
   "source": [
    "Si, teóricamente, el efecto de interferencia ocurre cada vez que tenemos un tercer material intercalado entre dos materiales (iguales o diferentes). **¿Porqué no visualizamos este efecto en ventanas u otros materiales de gran espesor?**"
   ]
  },
  {
   "cell_type": "markdown",
   "id": "9ff4cae4",
   "metadata": {
    "slideshow": {
     "slide_type": "slide"
    }
   },
   "source": [
    "## Coherencia de la luz e interferencia\n",
    "\n",
    "Para entender esto, primero debemos revisar la distribución espectral de fuentes reales de luz\n",
    "\n",
    "<img src=\"./images/light_source_spectra.png\" width=\"800px\" align= center>"
   ]
  },
  {
   "cell_type": "markdown",
   "id": "16081fa2",
   "metadata": {
    "slideshow": {
     "slide_type": "fragment"
    }
   },
   "source": [
    "Como vemos, una fuente emite luz en varias longitudes de onda y a distinta intensidad. Así, las ondas emitidas se superponen, generando una onda resultante con una forma distinta a $e^{i(\\vec{k}\\cdot\\vec{r} -\\omega t)}$."
   ]
  },
  {
   "cell_type": "markdown",
   "id": "b54cf722",
   "metadata": {
    "slideshow": {
     "slide_type": "slide"
    }
   },
   "source": [
    "Consideremos, por ejemplo, una fuente de luz con una distribución espectral normal, centrada en $\\lambda_0$ y con una desviación estandar $\\pm\\sigma_\\lambda\\lambda_0$, con $\\sigma_\\lambda \\in [0,1]$. Imaginemos esta fuente como $N$ emisores, donde cada emisor $j$ emite una onda electromagnéticas con longitud de onda $\\lambda \\pm\\Delta \\lambda_j$, donde $\\Delta \\lambda_j$ es escogido aleatoriamente a partir de la distribución normal."
   ]
  },
  {
   "cell_type": "markdown",
   "id": "31f81723",
   "metadata": {
    "cell_style": "split",
    "slideshow": {
     "slide_type": "fragment"
    }
   },
   "source": [
    "<img src=\"./images/normal_distribution.png\" width=\"400px\" align= center>"
   ]
  },
  {
   "cell_type": "markdown",
   "id": "76d68ef4",
   "metadata": {
    "cell_style": "split",
    "slideshow": {
     "slide_type": "fragment"
    }
   },
   "source": [
    "Asumiendo ondas en el aire en dirección $\\hat{k} = \\hat{x}$, el campo eléctrico resultante es:\n",
    "\n",
    "\\begin{equation*}\n",
    "\\vec{E}_\\mathrm{tot} = \\sum_j^N E_0e^{i\\left(k_jx - \\omega_j t\\right)} \\hat{z},\n",
    "\\end{equation*}\n",
    "\n",
    "donde $k_j = \\frac{2\\pi}{\\lambda \\pm\\Delta \\lambda_j}$, y $\\omega_j = c_0k_j$"
   ]
  },
  {
   "cell_type": "markdown",
   "id": "e5e55e68",
   "metadata": {
    "cell_style": "center",
    "slideshow": {
     "slide_type": "slide"
    }
   },
   "source": [
    "Analicemos el comportamiento de $\\vec{E}_\\mathrm{tot} /E_0$ para $\\lambda_0 = 500$ nm"
   ]
  },
  {
   "cell_type": "code",
   "execution_count": 2,
   "id": "37df7e74",
   "metadata": {
    "cell_style": "center",
    "slideshow": {
     "slide_type": "skip"
    },
    "tags": [
     "hide-input"
    ]
   },
   "outputs": [],
   "source": [
    "import numpy as np\n",
    "from numpy.random import normal\n",
    "import matplotlib.pyplot as plt\n",
    "\n",
    "def light_packet(kdir, x, t, lam, sig, N):\n",
    "    c0 = 3E8          # velocidad de la luz (m/s)\n",
    "    xx = np.meshgrid(x,np.ones(N))[0]\n",
    "    \n",
    "    # Generamos arreglo de ondas aleatorias\n",
    "    dlamj =  normal(0, lam*sig,N)\n",
    "    kj = (2*np.pi/(lam + dlamj)).reshape(-1,1)\n",
    "    wj = c0*kj\n",
    "    Erand = np.exp(1j*(kdir*kj*xx-wj*t)) \n",
    "    \n",
    "    # Sumamos todas las ondas\n",
    "    return np.sum(Erand,axis=0)\n",
    " \n",
    "def plot_light_packet(N, t, sig):\n",
    "    '''\n",
    "    n: número de ondas generadas\n",
    "    t: tiempo en ns\n",
    "    sig: % de ancho de banda (dlam = sig*lam)\n",
    "    '''\n",
    "    lam = 0.5         # longitud de onda (um)\n",
    "    t = t*1E-9 # convertimos ns a s\n",
    "    \n",
    "    # recorrido de la onda\n",
    "    x = np.linspace(-2,2,1000)  # desde 0 a 4 micrones\n",
    "    E = light_packet(1, x, t, lam, sig, N)\n",
    "    \n",
    "    # Graficamos\n",
    "    fig, ax = plt.subplots()\n",
    "    fig.set_size_inches(6, 3)\n",
    "    plt.rcParams['font.size'] = '12'\n",
    "    \n",
    "    ax.plot(x,np.real(E), 'k')\n",
    "    ax.set_xlabel('x ($\\mu$m)')\n",
    "    ax.set_ylabel('Amplitud $|E|/E_0$')\n",
    "    ax.set_ylim(-N*1.1,N*1.1)\n",
    "    ax.grid()\n"
   ]
  },
  {
   "cell_type": "code",
   "execution_count": 3,
   "id": "5c81aca7",
   "metadata": {
    "cell_style": "center",
    "slideshow": {
     "slide_type": "fragment"
    },
    "tags": [
     "hide-input"
    ]
   },
   "outputs": [
    {
     "data": {
      "application/vnd.jupyter.widget-view+json": {
       "model_id": "381947c32e9b402b89c9b0447de77825",
       "version_major": 2,
       "version_minor": 0
      },
      "text/plain": [
       "interactive(children=(IntSlider(value=1000, description='N', max=1000, min=1), FloatSlider(value=0.0, descript…"
      ]
     },
     "metadata": {},
     "output_type": "display_data"
    }
   ],
   "source": [
    "from ipywidgets import interact\n",
    "\n",
    "@interact( N=(1,1000,1), \n",
    "           t=(-10,10,0.1),\n",
    "           sig=(0,1,0.01))\n",
    "def g(N=1000, t=0, sig=0.3):\n",
    "    return plot_light_packet(N,t,sig)"
   ]
  },
  {
   "cell_type": "markdown",
   "id": "b53bb755",
   "metadata": {
    "slideshow": {
     "slide_type": "slide"
    }
   },
   "source": [
    "### Longitud de coherencia\n",
    "Definimos como **longitud de coherencia**, $l_c$, a la distancia donde un grupo de ondas electromagnética mantiene correlación entre las fases. Dos puntos en una paquete de onda separados a una distancia mayor a $l_c$ son incoherentes, es decir, no están correlacionados"
   ]
  },
  {
   "cell_type": "markdown",
   "id": "3ea340f8",
   "metadata": {
    "cell_style": "split",
    "slideshow": {
     "slide_type": "fragment"
    }
   },
   "source": [
    "<img src=\"./images/coherence_length.png\" width=\"300px\" align= center>\n",
    "\n",
    "<center>Esquema de un paquete de onda emitido por una fuente con longitud de coherencia $l_c$</center>"
   ]
  },
  {
   "cell_type": "markdown",
   "id": "1f71b46f",
   "metadata": {
    "cell_style": "split",
    "slideshow": {
     "slide_type": "fragment"
    }
   },
   "source": [
    "La relación entre $l_c$, la longitud de onda central $\\lambda$ y el ancho de banda $\\Delta\\lambda$ está dado, aproximadamente, por la relación:\n",
    "\n",
    "\\begin{equation*}\n",
    "l_c \\approx \\frac{\\lambda^2}{n\\Delta \\lambda},\n",
    "\\end{equation*}\n",
    "\n",
    "donde $n$ es el indice de refracción del medio donde se propaga la luz.\n",
    "\n",
    "Por ejemplo, para lasers He-Ne (laser rojo)  $l_c\\approx 0.2 - 100$ m.  "
   ]
  },
  {
   "cell_type": "markdown",
   "id": "b8e319bd",
   "metadata": {
    "slideshow": {
     "slide_type": "slide"
    }
   },
   "source": [
    "Para radiación emitida por un cuerpo a temperatura $T$, la longitud de coherencia está dada por:\n",
    "\n",
    "\\begin{equation*}\n",
    "l_c T = 2167.8~\\mathrm{\\mu m~K}\n",
    "\\end{equation*}\n",
    "\n",
    "Así, por ejemplo, la radiación solar ($T \\approx 5800~\\mathrm{K}$) tiene una longitud de coherencia, $l_c \\approx 370~\\mathrm{nm}$"
   ]
  },
  {
   "cell_type": "markdown",
   "id": "659f7454",
   "metadata": {
    "slideshow": {
     "slide_type": "slide"
    }
   },
   "source": [
    "### Régimen de trasporte de luz\n",
    "Los fenómenos de interferencia descritos en las unidades anteriores existen debido a la forma oscilatoria de la luz. **Dos paquetes de ondas distintos son incoherentes, y la superposición de estos no genera interferencia.**"
   ]
  },
  {
   "cell_type": "markdown",
   "id": "615ad1c6",
   "metadata": {
    "slideshow": {
     "slide_type": "slide"
    }
   },
   "source": [
    "En otras palabras, el fenómeno de interferencia solo existe si el paquete de onda interfiere consigo mismo. Así, podemos concluir que los fenómenos de interferencia en películas de espesor $d$ no serían visibles si $d > l_c$. "
   ]
  },
  {
   "cell_type": "markdown",
   "id": "db4d20e4",
   "metadata": {
    "cell_style": "split",
    "slideshow": {
     "slide_type": "fragment"
    }
   },
   "source": [
    "<img src=\"./images/interference_thinfilm.png\" width=\"200px\" align= center>\n",
    "\n",
    "<center>Propagación de una onda a través de una película de espesor $d$, con $l_c < d$</center>"
   ]
  },
  {
   "cell_type": "markdown",
   "id": "fce7ef57",
   "metadata": {
    "cell_style": "split",
    "slideshow": {
     "slide_type": "fragment"
    }
   },
   "source": [
    "En general, para una longitud características $d$, la regla es:\n",
    "\n",
    "- Si $d > l_c$ el **transporte de luz es incoherente** . En este régimen, podemos ignorar las propiedades oscilatorias de la luz, y analizar el problema como el transporte de pequeños paquetes de onda, o simplemente como partículas.\n",
    "\n",
    "- Si $d < l_c$, el **transporte de luz es coherente**. En este régimen debemos considerar las propiedades oscilatorias a partir de las Ecuaciones de Maxwell."
   ]
  },
  {
   "cell_type": "markdown",
   "id": "06aab8e7",
   "metadata": {
    "cell_style": "center",
    "slideshow": {
     "slide_type": "fragment"
    }
   },
   "source": [
    "Así, **los coeficientes de Fresnel para una película delgada solo son aplicables si $d < l_c$.**"
   ]
  },
  {
   "cell_type": "markdown",
   "id": "c7f85265",
   "metadata": {
    "cell_style": "center",
    "slideshow": {
     "slide_type": "slide"
    }
   },
   "source": [
    "Los coeficientes de Fresnel para una interface, en cambio, siempre son válidos debido a que consideran una interface infinitamente delgada."
   ]
  },
  {
   "cell_type": "markdown",
   "id": "57178760",
   "metadata": {
    "cell_style": "center",
    "slideshow": {
     "slide_type": "fragment"
    }
   },
   "source": [
    "<img src=\"./images/interference_interface.png\" width=\"350px\" align= center>\n",
    "\n",
    "<center>Refracción y reflexión de una onda incoherente a través de una interfaz</center>"
   ]
  },
  {
   "cell_type": "markdown",
   "id": "0c79f1b6",
   "metadata": {
    "slideshow": {
     "slide_type": "slide"
    }
   },
   "source": [
    "En medios particulados, los fenómenos de interferencia pueden ocurrir si las partículas están suficientemente cerca y tienen tamaños similares. Llamamos a esto **scattering coherente**"
   ]
  },
  {
   "cell_type": "markdown",
   "id": "61e2a519",
   "metadata": {
    "slideshow": {
     "slide_type": "fragment"
    }
   },
   "source": [
    "<img src=\"./images/scattering_coherence.png\" width=\"600px\" align= center>\n",
    "\n",
    "<center>Fenómeno de interferencia en scattering</center>"
   ]
  },
  {
   "cell_type": "markdown",
   "id": "8167d93c",
   "metadata": {
    "slideshow": {
     "slide_type": "slide"
    }
   },
   "source": [
    "El fenómeno de scattering coherente da lugar a los denominados **colores estructurales** presentes en las alas de las aves y mariposas (mas info [acá](https://wires.onlinelibrary.wiley.com/doi/10.1002/wnan.1396))"
   ]
  },
  {
   "cell_type": "markdown",
   "id": "06446d60",
   "metadata": {
    "cell_style": "split",
    "slideshow": {
     "slide_type": "fragment"
    }
   },
   "source": [
    "<img src=\"./images/structural_colors_birds.png\" width=\"550px\" align= center>\n",
    "\n",
    "<center>Colores estructurales en alas de aves</center>\n",
    "\n",
    "Fuente: [Hwang, V. et al. PNAS 118 (4) e2015551118\n",
    " (2020)](https://www.pnas.org/doi/10.1073/pnas.2015551118)"
   ]
  },
  {
   "cell_type": "markdown",
   "id": "71eaafb2",
   "metadata": {
    "cell_style": "split",
    "slideshow": {
     "slide_type": "fragment"
    }
   },
   "source": [
    "<img src=\"./images/structural_colors_buterflies.png\" width=\"450px\" align= center>\n",
    "\n",
    "<center>Colores estructurales en alas de mariposa</center>\n",
    "\n",
    "Fuente: [Tippets C. A. et al. J. Opt. 18 (2016) 065105](https://iopscience.iop.org/article/10.1088/2040-8978/18/6/065105)"
   ]
  },
  {
   "cell_type": "markdown",
   "id": "f629fcbe",
   "metadata": {
    "slideshow": {
     "slide_type": "slide"
    }
   },
   "source": [
    "## Teoría de transferencia radiativa\n",
    "Si el transporte de luz es incoherente, podemos ignorar las propiedades oscilatorias de la luz y analizar el fenómeno óptico como un el transporte de radiación a través de un volumen de control."
   ]
  },
  {
   "cell_type": "markdown",
   "id": "f62e3c70",
   "metadata": {
    "slideshow": {
     "slide_type": "slide"
    }
   },
   "source": [
    "### Intensidad específica"
   ]
  },
  {
   "cell_type": "markdown",
   "id": "790c7714",
   "metadata": {
    "cell_style": "split",
    "slideshow": {
     "slide_type": "-"
    }
   },
   "source": [
    "Definimos como **radiancia espectral o intensidad específica**, $I_\\lambda$, al flujo de energía por **ángulo sólido diferencial**, $d\\Omega$, para una longitud de onda $\\lambda$.\n",
    "\n",
    "<img src=\"./images/specific_intensity.png\" width=\"300px\" align= center>"
   ]
  },
  {
   "cell_type": "markdown",
   "id": "8568f20b",
   "metadata": {
    "cell_style": "split",
    "slideshow": {
     "slide_type": "fragment"
    }
   },
   "source": [
    "El ángulo sólido define el tamaño relativo del área $S$ para un observador en $P$ a una distancia $r$. \n",
    "\n",
    "El diferencial está definido por $d\\Omega = \\sin\\theta d\\theta d\\phi$\n",
    "\n",
    "<img src=\"./images/solid_angle.png\" width=\"450px\" align= center>"
   ]
  },
  {
   "cell_type": "markdown",
   "id": "0d8ed016",
   "metadata": {
    "slideshow": {
     "slide_type": "slide"
    }
   },
   "source": [
    "Es importante aclarar que los conceptos intensidad específica y vector de Poynting $\\langle\\vec{S}\\rangle$, son equivalentes: $I_\\lambda(\\hat{k})$ es un término utilizado en radiometría para definir el flujo de energía por unidad de ángulo sólido, mientras que $\\langle\\vec{S}\\rangle$ es un término utilizado en óptica para describir el flujo de energía en dirección $\\hat{k}$. Cabe destacar, sin embargo, que $I_\\lambda(\\hat{k})$ es una magnitud, y $\\langle\\vec{S}\\rangle$ es un vector. Así, podríamos decir que la relación entre estos dos términos está dada por $I_\\lambda(\\hat{k}) = \\langle\\vec{S}\\rangle\\cdot\\hat{k}$."
   ]
  },
  {
   "cell_type": "markdown",
   "id": "921c9262",
   "metadata": {
    "slideshow": {
     "slide_type": "slide"
    }
   },
   "source": [
    "### Ecuación de transferencia radiativa\n",
    "La **ecuación de transferencia radiativa** (RTE por sus siglas en ingles), es una ecuación de transporte que describe la propagación de la radiancia espectral, $I_\\lambda(\\vec{r},\\hat{k})$, en función de la posición posición $\\vec{r}$ y dirección $\\hat{k}$. En su forma más general, para un problema estacionario:\n",
    "\n",
    "\\begin{equation}\n",
    "\\hat{k}\\cdot\\nabla_r I_\\lambda(\\vec{r},\\hat{k}) = - \\left[\\frac{f_v}{V_p}C_\\mathrm{ext} + 2\\kappa k_0\\right]I_\\lambda(\\vec{r},\\hat{k}) + \\frac{f_v}{V_p}\\int_{4\\pi} P_\\mathrm{sca}(\\hat{k},\\hat{k}') I_\\lambda(\\vec{r},\\hat{k}') d\\Omega'\n",
    "\\end{equation}"
   ]
  },
  {
   "cell_type": "markdown",
   "id": "44c82ce8",
   "metadata": {
    "slideshow": {
     "slide_type": "fragment"
    }
   },
   "source": [
    "donde $f_v$ y $V_p$ son, respectivamente la fracción de volúmen y el volúmen de las partículas en el medio, y $P_\\mathrm{sca}(\\hat{k},\\hat{k}')$ es la función de fase."
   ]
  },
  {
   "cell_type": "markdown",
   "id": "84f7041f",
   "metadata": {
    "slideshow": {
     "slide_type": "slide"
    }
   },
   "source": [
    "Notar que consideramos el caso más generalizado de la función de fase, que depende tanto de la dirección de la radiación incidente $\\hat{k}$ como de la dirección del scattering $\\hat{k}'$. Ambas definidas por ángulo sólido"
   ]
  },
  {
   "cell_type": "markdown",
   "id": "556660a5",
   "metadata": {
    "cell_style": "center",
    "slideshow": {
     "slide_type": "fragment"
    }
   },
   "source": [
    "En el caso de una esfera, $\\hat{k}_\\mathrm{sca} = \\hat{k}$ y $\\hat{k}_\\mathrm{inc} = \\hat{k}'$. Así, la función de fase depende de $\\theta$, el cual está definido por $\\cos\\theta = \\hat{k}\\cdot\\hat{k}'$\n",
    "\n"
   ]
  },
  {
   "cell_type": "markdown",
   "id": "b7b71333",
   "metadata": {
    "slideshow": {
     "slide_type": "slide"
    }
   },
   "source": [
    "Con esto en mente, ahora podemos discutir el significado de los términos en la RTE:"
   ]
  },
  {
   "cell_type": "markdown",
   "id": "12e1a1e8",
   "metadata": {
    "slideshow": {
     "slide_type": "fragment"
    }
   },
   "source": [
    "- El primer término representa el cambio de $I_\\lambda(\\vec{r},\\hat{k})$ a través volumen diferencial. Por ejemplo, en el caso unidimencional en dirección $\\hat{k} = \\hat{x}$, tenemos: \n",
    "\n",
    "\\begin{equation*}\n",
    "\\hat{x}\\cdot\\nabla_r I_\\lambda(\\vec{r},\\hat{k}) = \\frac{\\partial}{\\partial x}I_\\lambda(\\vec{r},\\hat{k})\n",
    "\\end{equation*}"
   ]
  },
  {
   "cell_type": "markdown",
   "id": "231c3da9",
   "metadata": {
    "slideshow": {
     "slide_type": "fragment"
    }
   },
   "source": [
    "- El segundo término representa la pérdida de energía radiativa, por extinción $\\left(\\frac{f_v}{V_p}C_\\mathrm{ext}\\right)$ y absorción en el material material ($2\\kappa k_0$), respectivamente. Recordemos que la extinción representa la energía absorbida por las partículas + la energía de scattering en direcciónes distintas a $\\hat{k}$, es decir $C_\\mathrm{ext}= C_\\mathrm{abs} + C_\\mathrm{sca}$."
   ]
  },
  {
   "cell_type": "markdown",
   "id": "4754c5ed",
   "metadata": {
    "slideshow": {
     "slide_type": "fragment"
    }
   },
   "source": [
    "- El tercer término representa la ganancia de energía radiativa produco del scattering inducido por radiación incidente en dirección $\\hat{k}'$. Este término representa el fenómeno de **scattering múltiple**."
   ]
  },
  {
   "cell_type": "markdown",
   "id": "43766712",
   "metadata": {
    "slideshow": {
     "slide_type": "slide"
    }
   },
   "source": [
    "## Soluciones de la RTE\n",
    "La ecuación de transferencia radiativa permite explicar de forma fenomenológica el transporte de radiación en un medio particulado. Debido a su complejidad, existen pocas soluciones analíticas. En esta sección describiremos las tres más conocidas."
   ]
  },
  {
   "cell_type": "markdown",
   "id": "6037462f",
   "metadata": {
    "slideshow": {
     "slide_type": "slide"
    }
   },
   "source": [
    "### Película de material sin partículas (Reflectividad y Transmisividad incoherente)\n",
    "En el caso de un medio sin partículas solo debemos considerar el primer término de la RTE. "
   ]
  },
  {
   "cell_type": "markdown",
   "id": "38e80853",
   "metadata": {
    "slideshow": {
     "slide_type": "fragment"
    }
   },
   "source": [
    "Para el caso particular de un material de espesor $t_\\mathrm{film}$ e índice de refracción $N = n + \\kappa$, rodeado por un medio con índice de refracción $N_0$, derivamos las siguientes relaciones de reflectividad y tranmisividad para luz incoherente:\n",
    "\n",
    "\\begin{align}\n",
    "R_\\mathrm{incoh}&= R_0 + \\frac{T_0^2R_0e^{-4\\kappa k_0 t_\\mathrm{film}}}{1 - R_0^2e^{-4\\kappa k_0 t_\\mathrm{film}}} \n",
    "\\\\[10pt]\n",
    "T_\\mathrm{incoh} &= \\frac{T_0^2e^{-4\\kappa k_0 t_\\mathrm{film}}}{1 - R_0^2e^{-4\\kappa k_0 t_\\mathrm{film}}}\n",
    "\\end{align}\n",
    "\n",
    "donde $R_0$ y $T_0$ corresponden, respectivamente, a la reflectividad y transmisividad en la interface $N_0 / N_1$"
   ]
  },
  {
   "cell_type": "markdown",
   "id": "7b8cb924",
   "metadata": {
    "slideshow": {
     "slide_type": "slide"
    }
   },
   "source": [
    "En el siguiente ejemplo, utilizamos la función ```incoh_multilayer``` de la libreria ```empylib.waveoptics```. Esta función es más general que la ecuación anterior y permite determinar $R_\\mathrm{incoh}$ y $T_\\mathrm{incoh}$ para arreglos multicapas. "
   ]
  },
  {
   "cell_type": "markdown",
   "id": "2a3e7bbc",
   "metadata": {
    "slideshow": {
     "slide_type": "fragment"
    }
   },
   "source": [
    "En este caso, evaluaremos una película de sílice de espesor $1~\\mu\\mathrm{m}$, sobre un sustrato con íncide de refracción $N_\\mathrm{back} = 4.3$, y con aire en la superficie $N_\\mathrm{front} = 1.0$. El espectro de longitudes de onda $\\lambda\\in[0.3,0.8]~\\mu\\mathrm{m}$ y el ángulo de incidencia $\\theta_i = 30°$. Para comparar, determinaremos $R$ y $T$ para el caso de luz coherente."
   ]
  },
  {
   "cell_type": "code",
   "execution_count": 4,
   "id": "a99aa431",
   "metadata": {
    "cell_style": "center",
    "slideshow": {
     "slide_type": "slide"
    },
    "tags": [
     "hide-input"
    ]
   },
   "outputs": [],
   "source": [
    "import numpy as np\n",
    "import empylib.waveoptics as wv\n",
    "import empylib.nklib as nk\n",
    "\n",
    "lam = np.linspace(0.3,0.8,100)  # espectro de longitudes de onda (um)\n",
    "theta = np.radians(30)          # ángulo de incidencia\n",
    "\n",
    "Nfront = 1.0                 # índice de refracción medio superior\n",
    "N1     = 1.5                 # índice de refracción capa delgada\n",
    "Nback  = 4.3                 # índice de refracción medio inferior\n",
    "N = (Nfront, N1, Nback)      # indices de refracción (above, mid, below)\n",
    "d = 1.0                      # espesor capa intermedia (um)\n",
    "\n",
    "# caso luz incoherente\n",
    "Rp_incoh, Tp_incoh = wv.incoh_multilayer(lam,theta, N, d, pol='TM')\n",
    "# caso luz coherente\n",
    "Rp, Tp = wv.multilayer(lam,theta, N, d, pol='TM')[:2]"
   ]
  },
  {
   "cell_type": "code",
   "execution_count": 5,
   "id": "3bee2ad8",
   "metadata": {
    "cell_style": "center",
    "slideshow": {
     "slide_type": "fragment"
    },
    "tags": [
     "hide-input"
    ]
   },
   "outputs": [
    {
     "data": {
      "image/png": "[encoded data removed]",
      "text/plain": [
       "<Figure size 600x350 with 1 Axes>"
      ]
     },
     "metadata": {},
     "output_type": "display_data"
    }
   ],
   "source": [
    "fig, ax = plt.subplots()\n",
    "fig.set_size_inches(6, 3.5)\n",
    "plt.rcParams['font.size'] = '12'\n",
    "\n",
    "# Graficamos el flujo de energía\n",
    "plt.plot(lam,Rp,'--r',label='$R_\\mathrm{TM}$ (coh)')\n",
    "plt.plot(lam,Tp,'--b',label='$T_\\mathrm{TM}$ (coh)')\n",
    "plt.plot(lam,Rp_incoh,'-r',label='$R_\\mathrm{TM}$ (incoh)')\n",
    "plt.plot(lam,Tp_incoh,'-b',label='$T_\\mathrm{TM}$ (incoh)')\n",
    "plt.title('arreglo 1.0/1.5/4.3')\n",
    "plt.xlabel('Longitud de onda ($\\mu$m)')\n",
    "plt.ylabel('Refletividad / Transmisividad')\n",
    "plt.ylim(0,1)\n",
    "plt.legend()\n",
    "plt.show()"
   ]
  },
  {
   "cell_type": "markdown",
   "id": "c6ed7877",
   "metadata": {
    "cell_style": "center",
    "slideshow": {
     "slide_type": "slide"
    }
   },
   "source": [
    "En la figura, para el caso de luz coherente, notamos oscilaciones en $R$ y $T$ producto de los fenómenos de interferencia. En el caso de luz incoherente, el fenómeno de interferencia desaparace."
   ]
  },
  {
   "cell_type": "markdown",
   "id": "a5316b37",
   "metadata": {
    "slideshow": {
     "slide_type": "slide"
    }
   },
   "source": [
    "### Película de material con baja concentración de partículas (Ley de Beer-Lambert)\n",
    "Definimos el **camino libre medio de scattering**, como $\\Lambda_\\mathrm{sca} = \\left(f_v C_\\mathrm{sca}/V_p\\right)^{-1}$. Este parametro representa la distancia promedio que recorre la luz entre eventos de scattering."
   ]
  },
  {
   "cell_type": "markdown",
   "id": "a352fb08",
   "metadata": {
    "cell_style": "center",
    "slideshow": {
     "slide_type": "fragment"
    }
   },
   "source": [
    "Si $\\Lambda_\\mathrm{sca}$ es mayor que el espesor del material, $t_\\mathrm{film}$, la probabilidad de que ocurran más de un evento scattering es despreciable, y decimos que el **scattering es de primer orden**. En este caso, el tercer término de la RTE es despreciable y la radiación solo pierde energía por absorción del material o extinción inducida por las partículas."
   ]
  },
  {
   "cell_type": "markdown",
   "id": "9407f0e6",
   "metadata": {
    "slideshow": {
     "slide_type": "slide"
    }
   },
   "source": [
    "La solución a esta ecuación se conoce como la ley de Beer-Lambert. Mediante esta aproximación podemos deducir las componentes total y especular de la transmitancia:\n",
    "\n",
    "\\begin{equation}\n",
    "T_\\mathrm{tot} = T_0 e^{-f_v\\frac{C_\\mathrm{abs}}{V_p}t_\\mathrm{film}}\\quad\\quad\\mathrm{and}\\quad\\quad \n",
    "T_\\mathrm{spec} = T_0 e^{-f_v\\frac{C_\\mathrm{ext}}{V_p}t_\\mathrm{film}}\n",
    "\\end{equation}\n",
    "\n",
    "donde, $T_0$ es la **transmisividad incoherente del material sin incrustaciones**."
   ]
  },
  {
   "cell_type": "markdown",
   "id": "2f29ecb5",
   "metadata": {
    "slideshow": {
     "slide_type": "fragment"
    }
   },
   "source": [
    "<img src=\"./images/beer_lambert.png\" width=\"500px\" align= center>\n",
    "\n",
    "<center>Transporte de luz en un medio con scattering de primer orden</center>"
   ]
  },
  {
   "cell_type": "markdown",
   "id": "963bc3c6",
   "metadata": {
    "slideshow": {
     "slide_type": "slide"
    }
   },
   "source": [
    "Podemos utilizar la ley de Beer-Lambert para analizar, de forma aproximada, el efecto del color del cielo durante el día y en la tarde."
   ]
  },
  {
   "cell_type": "markdown",
   "id": "227d193d",
   "metadata": {
    "slideshow": {
     "slide_type": "fragment"
    }
   },
   "source": [
    "El color del cielo está dado por la componente difusa. Así calculamos $T_\\mathrm{dif} = T_\\mathrm{tot} - T_\\mathrm{spec}$."
   ]
  },
  {
   "cell_type": "markdown",
   "id": "a2577fed",
   "metadata": {
    "slideshow": {
     "slide_type": "fragment"
    }
   },
   "source": [
    "Consideremos una atmosfera compuesta de aire ($N_h = 1.0$) y una pequeña concentración ($f_v = 1\\times 10^{-6}~\\%$) de partículas de 10 nm de diámetro e índice de refracción $N_p = 1.5$. El espesor de la atmosfera es $t_\\mathrm{atm} = 100~\\mathrm{km}$"
   ]
  },
  {
   "cell_type": "code",
   "execution_count": 6,
   "id": "33491447",
   "metadata": {
    "cell_style": "center",
    "slideshow": {
     "slide_type": "slide"
    },
    "tags": [
     "hide-input"
    ]
   },
   "outputs": [],
   "source": [
    "import empylib.rad_transfer as rt\n",
    "import empylib.nklib as nk\n",
    "import numpy as np\n",
    "import matplotlib.pyplot as plt\n",
    "from empylib.ref_spectra import AM15, Bplanck\n",
    "from empylib.ref_spectra import color_system as cs\n",
    "cs = cs.hdtv\n",
    "\n",
    "lam1 = np.linspace(0.38,0.78,100) # espectro de longitudes de onda\n",
    "cs.interp_internals(lam1)\n",
    "def plot_atmosphere(theta_sun):\n",
    "    fig, ax = plt.subplots()          \n",
    "    fig.set_size_inches(6, 4)         # Tamaño del gráfico\n",
    "    plt.rcParams['font.size'] = '12'  # tamaño de  fuente\n",
    "    \n",
    "    # parámetros de entrada\n",
    "    tatm = 100E6                      # espesor de la atmósfera en mm\n",
    "    N = (1.0,1.0,1.0)                 # indice de refracción superior, intermedio e inferior\n",
    "    fvp = 1E-8                        # fracción de volúmen de las partículas\n",
    "    Dp = 0.010                        # diámetro de las partículas\n",
    "    Np = 1.5                          # índice de refracción de las partículas\n",
    "    \n",
    "    # transmitancia total y especular|\n",
    "    theta = np.radians(theta_sun)    # posición del sol en radianes\n",
    "    Ttot, Rtot, Tspec = rt.T_beer_lambert(lam1,theta,tatm,N,fvp,Dp,Np)\n",
    "    \n",
    "    Tdif = Ttot - Tspec              # transmitancia difusa\n",
    "    ax.plot(lam1,Tdif,'-k',label = 'Tdif')\n",
    "    ax.set_xlabel('Longitud de onda ($\\mu$m)')\n",
    "    ax.set_ylabel('Transmisividad')\n",
    "    ax.set_title(r'Posición del sol, $\\theta_\\mathrm{sun}$=%.1f°'% (theta_sun))\n",
    "    ax.set_ylim(0,1.05)\n",
    "    \n",
    "    Dcircle = 0.25\n",
    "    ax2 = fig.add_axes([0.11,0.15, Dcircle, Dcircle])\n",
    "    Irad = Tdif*Bplanck(lam1,5777)\n",
    "    html_rgb = cs.spec_to_rgb(Irad, out_fmt='html')\n",
    "    Circle = plt.Circle((0, 0), Dcircle, color=html_rgb)\n",
    "    ax2.add_patch(Circle)\n",
    "    ax2.set_aspect('equal')\n",
    "    ax2.set_xlim(-Dcircle*1.2,Dcircle*1.2)\n",
    "    ax2.set_ylim(-Dcircle*1.2,Dcircle*1.2)\n",
    "    ax2.set_xticks([])\n",
    "    ax2.set_yticks([])\n",
    "    ax2.set_facecolor('k')\n",
    "    plt.show()"
   ]
  },
  {
   "cell_type": "code",
   "execution_count": 7,
   "id": "f3b08336",
   "metadata": {
    "cell_style": "split",
    "slideshow": {
     "slide_type": "fragment"
    },
    "tags": [
     "hide-input"
    ]
   },
   "outputs": [
    {
     "data": {
      "application/vnd.jupyter.widget-view+json": {
       "model_id": "90d4678e79124256bfd663dadf8c0d49",
       "version_major": 2,
       "version_minor": 0
      },
      "text/plain": [
       "interactive(children=(FloatSlider(value=0.0, description='theta_sun', max=89.99), Output()), _dom_classes=('wi…"
      ]
     },
     "metadata": {},
     "output_type": "display_data"
    }
   ],
   "source": [
    "from ipywidgets import interact\n",
    "\n",
    "@interact(theta_sun=(0,89.99,0.1))\n",
    "def g(theta_sun=0):\n",
    "    return plot_atmosphere(theta_sun)"
   ]
  },
  {
   "cell_type": "markdown",
   "id": "8aa6d072",
   "metadata": {
    "cell_style": "center",
    "slideshow": {
     "slide_type": "slide"
    }
   },
   "source": [
    "### Pelicula de material particulado (simulaciones de transferencia radiativa)\n",
    "Este caso corresponde a materiales con $\\Lambda_\\mathrm{sca} < t_\\mathrm{film}$. En este caso los eventos de scattering se producen más de una vez, y decimos que estámos en un régimen de **scattering múltiple**. Como resultado, los tres términos de la RTE son relevantes y debemos resolver la ecuación mediante simulación computacional.\n",
    "\n",
    "<img src=\"./images/multiple_scattering.png\" width=\"400px\" align= center>\n",
    "\n",
    "<center>Transporte de luz en un medio con scattering múltiple</center>"
   ]
  },
  {
   "cell_type": "markdown",
   "id": "bea5c468",
   "metadata": {
    "slideshow": {
     "slide_type": "slide"
    }
   },
   "source": [
    "Analicemos la [copa de Licurgo](https://es.wikipedia.org/wiki/Copa_de_Licurgo), considerando un material de sílice de espesor $t_\\mathrm{film} = 5~\\mathrm{mm}$ con incrustaciones de partículas de plata de forma esférica."
   ]
  },
  {
   "cell_type": "markdown",
   "id": "db4db843",
   "metadata": {},
   "source": [
    "Evaluaremos los colores de este material en transmisión y reflexión para luz incidente normal a la superficie en función de la concentración y el diámetro de las partículas. Utilizamos la función ```adm_sphere``` de la librería ```empylib.rad_transfer```"
   ]
  },
  {
   "cell_type": "code",
   "execution_count": 8,
   "id": "24c8d4d6",
   "metadata": {
    "slideshow": {
     "slide_type": "slide"
    },
    "tags": [
     "hide-input"
    ]
   },
   "outputs": [],
   "source": [
    "import empylib.rad_transfer as rt\n",
    "import empylib.nklib as nk\n",
    "import empylib.miescattering as mie\n",
    "import numpy as np\n",
    "import matplotlib.pyplot as plt\n",
    "\n",
    "lam2 = np.linspace(0.3,1.0,100) # espectro de longitudes de onda en micrometros\n",
    "Nlayers = (1.0,1.5,1.0)         # indice de refracción superior, intermedio e inferior\n",
    "Np = nk.silver(lam2)            # Índice de refracción de las partículas\n",
    "cs.interp_internals(lam2)\n",
    "\n",
    "def plot_glass_silver(fv,D):\n",
    "    # parámetros de entrada\n",
    "    \n",
    "    theta = np.radians(0)       # 0 grados en radianes\n",
    "    tfilm = 5                   # espesor en milímetros\n",
    "    \n",
    "    fv = fv*1E-7                # fracción de volúmen de las partículas\n",
    "    D = D*1E-3                  # diámetro de las partículas\n",
    "    \n",
    "    qext, qsca = mie.scatter_efficiency(lam2,Nlayers[1],Np,D)[:2]\n",
    "    qabs = qext - qsca\n",
    "    Ttot, Rtot = rt.adm_sphere(lam2,tfilm,Nlayers,fv,D,Np)[:2]\n",
    "\n",
    "    fig, ax = plt.subplots(1,3)\n",
    "    fig.set_size_inches(12, 3)\n",
    "    plt.rcParams['font.size'] = '10'\n",
    "    \n",
    "    ax[0].plot(lam2,qsca,'-r',label='$C_\\mathrm{sca} A_c$')\n",
    "    ax[0].plot(lam2,qabs,'-b',label='$C_\\mathrm{abs} A_c$')\n",
    "    ax[0].set_xlabel('Longitud de onda ($\\mu$m)')\n",
    "    ax[0].set_ylabel('Eficiencia transversal')\n",
    "    ax[0].set_title('Partícula de plata (D=%.0f nm)' % (D*1E3))\n",
    "    ax[0].legend()\n",
    "    ax[0].set_ylim(0,10)\n",
    "    \n",
    "    ax[1].plot(lam2,Rtot,'-r',label = 'Rtot')\n",
    "    ax[1].plot(lam2,Ttot,'-b',label = 'Ttot')\n",
    "    ax[1].set_xlabel('Longitud de onda ($\\mu$m)')\n",
    "    ax[1].set_ylabel('Transmisividad')\n",
    "    ax[1].set_title(r'Sílice con plata (fv = %.3e %%)' % (fv*100) )\n",
    "    ax[1].legend()\n",
    "    ax[1].set_ylim(0,1)\n",
    "\n",
    "    Dcircle = 0.20\n",
    "    html_rgb = cs.spec_to_rgb(Ttot*AM15(lam2), out_fmt='html')\n",
    "    Circle = plt.Circle((0, 0), Dcircle, color=html_rgb)\n",
    "    ax[2].add_patch(Circle)\n",
    "    ax[2].annotate('Luz Transmitida', xy=(0, 0), va='center', ha='center')\n",
    "\n",
    "    html_rgb = cs.spec_to_rgb(Rtot*AM15(lam2), out_fmt='html')\n",
    "    Circle = plt.Circle((Dcircle*1.2*2, 0), Dcircle, color=html_rgb)\n",
    "    ax[2].add_patch(Circle)\n",
    "    ax[2].annotate('Luz Reflejada', xy=(Dcircle*1.2*2, 0), va='center', ha='center')\n",
    "\n",
    "    ax[2].set_aspect('equal')\n",
    "    ax[2].set_xlim(-Dcircle*1.2,Dcircle*1.2*3)\n",
    "    ax[2].set_ylim(-Dcircle*1.2,Dcircle*1.2)\n",
    "    ax[2].set_xticks([])\n",
    "    ax[2].set_yticks([])\n",
    "    ax[2].set_facecolor('k')\n",
    "    plt.subplots_adjust(wspace=0.3)\n",
    "    plt.show()"
   ]
  },
  {
   "cell_type": "code",
   "execution_count": 9,
   "id": "494ceeb2",
   "metadata": {
    "cell_style": "center",
    "slideshow": {
     "slide_type": "slide"
    },
    "tags": [
     "hide-input"
    ]
   },
   "outputs": [
    {
     "data": {
      "application/vnd.jupyter.widget-view+json": {
       "model_id": "b8177a1d0fe446f5b34925c7606aee1b",
       "version_major": 2,
       "version_minor": 0
      },
      "text/plain": [
       "interactive(children=(IntSlider(value=20, description='fv', min=1), IntSlider(value=70, description='D', max=2…"
      ]
     },
     "metadata": {},
     "output_type": "display_data"
    }
   ],
   "source": [
    "from ipywidgets import interact\n",
    "\n",
    "@interact(fv=(1,100,1), D = (10,200,1))\n",
    "def g(fv=20, D = 70):\n",
    "    return plot_glass_silver(fv,D)"
   ]
  },
  {
   "cell_type": "markdown",
   "id": "031ca52b",
   "metadata": {
    "slideshow": {
     "slide_type": "slide"
    }
   },
   "source": [
    "Cuando la concentración de partículas es densa, el medio se vuelve opaco. Este régimen se denomina **scattering difuso** y permite explicar, entre otras cosas, el color de las nubes o la pintura blanca\n",
    "\n",
    "<img src=\"./images/diffuse_scattering.png\" width=\"400px\" align= center>\n",
    "\n",
    "<center>Transporte de luz en un medio con scattering difuso</center>"
   ]
  },
  {
   "cell_type": "markdown",
   "id": "01df5bd6",
   "metadata": {
    "slideshow": {
     "slide_type": "slide"
    }
   },
   "source": [
    "Un ejemplo interesante corresponde a la leche. En términos simples, la leche es una emulsión formada por pequeñas partículas de grasa dispersas en un medio acuoso. \n",
    "\n",
    "<img src=\"./images/milk_microscope.png\" width=\"400px\" align= center>\n",
    "\n",
    "<center>Imagen de microscópio (40x) de leche orgánica. Las burbujas verdes corresponden al aceite en suspención en agua.</center>\n",
    "\n",
    "Fuente: [Braun K., Hanewald A. and Vilgis T. Foods 8(10): 483(2019)](https://www.ncbi.nlm.nih.gov/pmc/articles/PMC6836175/)"
   ]
  },
  {
   "cell_type": "markdown",
   "id": "225b5528",
   "metadata": {
    "slideshow": {
     "slide_type": "fragment"
    }
   },
   "source": [
    "Como aproximación, consideremos un medio de espesor $1$ cm, compuesto por agua $N_h = 1.3$ y pequeñas partículas esféricas de aceite $N_p = 1.5$. La emulsión considera un 60% de partículas de aceite por volumen."
   ]
  },
  {
   "cell_type": "code",
   "execution_count": 10,
   "id": "72cbfc3e",
   "metadata": {
    "cell_style": "center",
    "slideshow": {
     "slide_type": "slide"
    },
    "tags": [
     "hide-input"
    ]
   },
   "outputs": [],
   "source": [
    "%%capture showplot\n",
    "# import empylib.nklib as nk\n",
    "import numpy as np\n",
    "import empylib.rad_transfer as rt\n",
    "\n",
    "# Solo modificar estos parámetros\n",
    "#---------------------------------------------------------------\n",
    "lam3 = np.linspace(0.3,1.0,100)   # espectro de longitudes de onda\n",
    "tfilm = 10                        # espesor en milímetros\n",
    "fv = 0.50                         # fracción de volúmen de los poros\n",
    "D = 1.0                           # diámetro de los poros (micrones)\n",
    "Nh2o = 1.3                        # Índice de refracción del agua\n",
    "Noil = 1.5                        # índice de refracción partículas de aceite\n",
    "#---------------------------------------------------------------\n",
    "Ttot, Rtot = rt.adm_sphere(lam3,tfilm,(1.0,Nh2o,1.0),fv,D,Noil)[:2]\n",
    "\n",
    "fig, ax = plt.subplots()\n",
    "fig.set_size_inches(5, 3.5)\n",
    "plt.rcParams['font.size'] = '12'\n",
    "ax.plot(lam3,Rtot,'-r',label='R')\n",
    "ax.plot(lam3,Ttot,'-b',label='T')\n",
    "ax.set_xlabel('Longitud de onda ($\\mu$m)')\n",
    "ax.set_ylabel('Reflectividad / Transmisividad')\n",
    "ax.set_title(r'Leche (fv = %.0f %%)' % (fv*100))\n",
    "ax.legend()\n",
    "ax.set_ylim(0,1.02)\n",
    "plt.show()"
   ]
  },
  {
   "cell_type": "code",
   "execution_count": 11,
   "id": "9a1291f7",
   "metadata": {
    "cell_style": "split",
    "slideshow": {
     "slide_type": "fragment"
    },
    "tags": [
     "hide-input"
    ]
   },
   "outputs": [
    {
     "data": {
      "image/png": "[encoded data removed]",
      "text/plain": [
       "<Figure size 500x350 with 1 Axes>"
      ]
     },
     "metadata": {},
     "output_type": "display_data"
    }
   ],
   "source": [
    "showplot()"
   ]
  },
  {
   "cell_type": "markdown",
   "id": "6c035f58",
   "metadata": {
    "slideshow": {
     "slide_type": "slide"
    }
   },
   "source": [
    "Como vemos la alta concentración de partículas hace que la refletividad y transmisividad se vuelvan casi uniformes para todas las longitudes de onda. El espectro, así, toma un color blanco frente a una fuente de luz blanca."
   ]
  },
  {
   "cell_type": "markdown",
   "id": "17c1dc23",
   "metadata": {
    "slideshow": {
     "slide_type": "slide"
    }
   },
   "source": [
    "## Referencias\n",
    "- Chen G. **Chapter 5 - Energy Transfer by Waves** in *Nanoscale energy transport and conversion*, 1st Ed, Oxford University Press, 2005"
   ]
  }
 ],
 "metadata": {
  "celltoolbar": "Slideshow",
  "kernelspec": {
   "display_name": "Python 3 (ipykernel)",
   "language": "python",
   "name": "python3"
  },
  "language_info": {
   "codemirror_mode": {
    "name": "ipython",
    "version": 3
   },
   "file_extension": ".py",
   "mimetype": "text/x-python",
   "name": "python",
   "nbconvert_exporter": "python",
   "pygments_lexer": "ipython3",
   "version": "3.11.6"
  },
  "latex_envs": {
   "LaTeX_envs_menu_present": false,
   "autoclose": false,
   "autocomplete": false,
   "bibliofile": "biblio.bib",
   "cite_by": "apalike",
   "current_citInitial": 1,
   "eqLabelWithNumbers": true,
   "eqNumInitial": 2,
   "hotkeys": {
    "equation": "Ctrl-E",
    "itemize": "Ctrl-I"
   },
   "labels_anchors": false,
   "latex_user_defs": false,
   "report_style_numbering": false,
   "user_envs_cfg": true
  },
  "toc": {
   "base_numbering": 1,
   "nav_menu": {},
   "number_sections": false,
   "sideBar": true,
   "skip_h1_title": true,
   "title_cell": "Tabla de contenidos",
   "title_sidebar": "Contenidos",
   "toc_cell": false,
   "toc_position": {
    "height": "calc(100% - 180px)",
    "left": "10px",
    "top": "150px",
    "width": "307.2px"
   },
   "toc_section_display": true,
   "toc_window_display": false
  },
  "varInspector": {
   "cols": {
    "lenName": 16,
    "lenType": 16,
    "lenVar": 40
   },
   "kernels_config": {
    "python": {
     "delete_cmd_postfix": "",
     "delete_cmd_prefix": "del ",
     "library": "var_list.py",
     "varRefreshCmd": "print(var_dic_list())"
    },
    "r": {
     "delete_cmd_postfix": ") ",
     "delete_cmd_prefix": "rm(",
     "library": "var_list.r",
     "varRefreshCmd": "cat(var_dic_list()) "
    }
   },
   "types_to_exclude": [
    "module",
    "function",
    "builtin_function_or_method",
    "instance",
    "_Feature"
   ],
   "window_display": false
  },
  "widgets": {
   "application/vnd.jupyter.widget-state+json": {
    "state": {
     "02f1c387d291450c8825a4ee6a16f136": {
      "model_module": "@jupyter-widgets/controls",
      "model_module_version": "2.0.0",
      "model_name": "SliderStyleModel",
      "state": {
       "_model_module": "@jupyter-widgets/controls",
       "_model_module_version": "2.0.0",
       "_model_name": "SliderStyleModel",
       "_view_count": null,
       "_view_module": "@jupyter-widgets/base",
       "_view_module_version": "2.0.0",
       "_view_name": "StyleView",
       "description_width": "",
       "handle_color": null
      }
     },
     "05e976fc14a347669216a98a734a9bab": {
      "model_module": "@jupyter-widgets/controls",
      "model_module_version": "2.0.0",
      "model_name": "FloatSliderModel",
      "state": {
       "_dom_classes": [],
       "_model_module": "@jupyter-widgets/controls",
       "_model_module_version": "2.0.0",
       "_model_name": "FloatSliderModel",
       "_view_count": null,
       "_view_module": "@jupyter-widgets/controls",
       "_view_module_version": "2.0.0",
       "_view_name": "FloatSliderView",
       "behavior": "drag-tap",
       "continuous_update": true,
       "description": "t",
       "description_allow_html": false,
       "disabled": false,
       "layout": "IPY_MODEL_7cefdced5cc34f85898d7cd19fee242b",
       "max": 10.0,
       "min": -10.0,
       "orientation": "horizontal",
       "readout": true,
       "readout_format": ".2f",
       "step": 0.1,
       "style": "IPY_MODEL_d4fc15c0316b4e60ae7ba9e105a5d532",
       "tabbable": null,
       "tooltip": null,
       "value": 0.0
      }
     },
     "0bce06bbfd7e40d08ccc81dd52c123c5": {
      "model_module": "@jupyter-widgets/controls",
      "model_module_version": "2.0.0",
      "model_name": "SliderStyleModel",
      "state": {
       "_model_module": "@jupyter-widgets/controls",
       "_model_module_version": "2.0.0",
       "_model_name": "SliderStyleModel",
       "_view_count": null,
       "_view_module": "@jupyter-widgets/base",
       "_view_module_version": "2.0.0",
       "_view_name": "StyleView",
       "description_width": "",
       "handle_color": null
      }
     },
     "25facaecc8f74f0a9fed50936c3f8866": {
      "model_module": "@jupyter-widgets/controls",
      "model_module_version": "2.0.0",
      "model_name": "FloatSliderModel",
      "state": {
       "_dom_classes": [],
       "_model_module": "@jupyter-widgets/controls",
       "_model_module_version": "2.0.0",
       "_model_name": "FloatSliderModel",
       "_view_count": null,
       "_view_module": "@jupyter-widgets/controls",
       "_view_module_version": "2.0.0",
       "_view_name": "FloatSliderView",
       "behavior": "drag-tap",
       "continuous_update": true,
       "description": "sig",
       "description_allow_html": false,
       "disabled": false,
       "layout": "IPY_MODEL_d6ece26c9fd04da582325009956057e7",
       "max": 1.0,
       "min": 0.0,
       "orientation": "horizontal",
       "readout": true,
       "readout_format": ".2f",
       "step": 0.01,
       "style": "IPY_MODEL_f054b5a5c0a24fde9b22aa7740994a12",
       "tabbable": null,
       "tooltip": null,
       "value": 0.3
      }
     },
     "2638bfec09244f2d8c9bf2f89c516682": {
      "model_module": "@jupyter-widgets/controls",
      "model_module_version": "2.0.0",
      "model_name": "FloatSliderModel",
      "state": {
       "_dom_classes": [],
       "_model_module": "@jupyter-widgets/controls",
       "_model_module_version": "2.0.0",
       "_model_name": "FloatSliderModel",
       "_view_count": null,
       "_view_module": "@jupyter-widgets/controls",
       "_view_module_version": "2.0.0",
       "_view_name": "FloatSliderView",
       "behavior": "drag-tap",
       "continuous_update": true,
       "description": "theta_sun",
       "description_allow_html": false,
       "disabled": false,
       "layout": "IPY_MODEL_fb3c7da21b784ec89d5a41a712063f1f",
       "max": 89.99,
       "min": 0.0,
       "orientation": "horizontal",
       "readout": true,
       "readout_format": ".2f",
       "step": 0.1,
       "style": "IPY_MODEL_02f1c387d291450c8825a4ee6a16f136",
       "tabbable": null,
       "tooltip": null,
       "value": 0.0
      }
     },
     "285e31e47a314ae1a05d693200508816": {
      "model_module": "@jupyter-widgets/controls",
      "model_module_version": "2.0.0",
      "model_name": "IntSliderModel",
      "state": {
       "_dom_classes": [],
       "_model_module": "@jupyter-widgets/controls",
       "_model_module_version": "2.0.0",
       "_model_name": "IntSliderModel",
       "_view_count": null,
       "_view_module": "@jupyter-widgets/controls",
       "_view_module_version": "2.0.0",
       "_view_name": "IntSliderView",
       "behavior": "drag-tap",
       "continuous_update": true,
       "description": "fv",
       "description_allow_html": false,
       "disabled": false,
       "layout": "IPY_MODEL_9d7cc8b64ea842b5aede36d1cd15eacd",
       "max": 100,
       "min": 1,
       "orientation": "horizontal",
       "readout": true,
       "readout_format": "d",
       "step": 1,
       "style": "IPY_MODEL_0bce06bbfd7e40d08ccc81dd52c123c5",
       "tabbable": null,
       "tooltip": null,
       "value": 20
      }
     },
     "3031e52b915c4a4c893a16d4522b7bfe": {
      "model_module": "@jupyter-widgets/output",
      "model_module_version": "1.0.0",
      "model_name": "OutputModel",
      "state": {
       "_dom_classes": [],
       "_model_module": "@jupyter-widgets/output",
       "_model_module_version": "1.0.0",
       "_model_name": "OutputModel",
       "_view_count": null,
       "_view_module": "@jupyter-widgets/output",
       "_view_module_version": "1.0.0",
       "_view_name": "OutputView",
       "layout": "IPY_MODEL_a8063c438b0745d4900d4edee5093745",
       "msg_id": "",
       "outputs": [
        {
         "data": {
          "image/png": "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",
          "text/plain": "<Figure size 600x300 with 1 Axes>"
         },
         "metadata": {},
         "output_type": "display_data"
        }
       ],
       "tabbable": null,
       "tooltip": null
      }
     },
     "381947c32e9b402b89c9b0447de77825": {
      "model_module": "@jupyter-widgets/controls",
      "model_module_version": "2.0.0",
      "model_name": "VBoxModel",
      "state": {
       "_dom_classes": [
        "widget-interact"
       ],
       "_model_module": "@jupyter-widgets/controls",
       "_model_module_version": "2.0.0",
       "_model_name": "VBoxModel",
       "_view_count": null,
       "_view_module": "@jupyter-widgets/controls",
       "_view_module_version": "2.0.0",
       "_view_name": "VBoxView",
       "box_style": "",
       "children": [
        "IPY_MODEL_85bfe83e69ae4c198ba5519f9e5b2d0d",
        "IPY_MODEL_05e976fc14a347669216a98a734a9bab",
        "IPY_MODEL_25facaecc8f74f0a9fed50936c3f8866",
        "IPY_MODEL_3031e52b915c4a4c893a16d4522b7bfe"
       ],
       "layout": "IPY_MODEL_9ce61cb23f274cd08b329845e59a0a34",
       "tabbable": null,
       "tooltip": null
      }
     },
     "5b553246d7b942a19cc274e30f7ec7e7": {
      "model_module": "@jupyter-widgets/base",
      "model_module_version": "2.0.0",
      "model_name": "LayoutModel",
      "state": {
       "_model_module": "@jupyter-widgets/base",
       "_model_module_version": "2.0.0",
       "_model_name": "LayoutModel",
       "_view_count": null,
       "_view_module": "@jupyter-widgets/base",
       "_view_module_version": "2.0.0",
       "_view_name": "LayoutView",
       "align_content": null,
       "align_items": null,
       "align_self": null,
       "border_bottom": null,
       "border_left": null,
       "border_right": null,
       "border_top": null,
       "bottom": null,
       "display": null,
       "flex": null,
       "flex_flow": null,
       "grid_area": null,
       "grid_auto_columns": null,
       "grid_auto_flow": null,
       "grid_auto_rows": null,
       "grid_column": null,
       "grid_gap": null,
       "grid_row": null,
       "grid_template_areas": null,
       "grid_template_columns": null,
       "grid_template_rows": null,
       "height": null,
       "justify_content": null,
       "justify_items": null,
       "left": null,
       "margin": null,
       "max_height": null,
       "max_width": null,
       "min_height": null,
       "min_width": null,
       "object_fit": null,
       "object_position": null,
       "order": null,
       "overflow": null,
       "padding": null,
       "right": null,
       "top": null,
       "visibility": null,
       "width": null
      }
     },
     "7cefdced5cc34f85898d7cd19fee242b": {
      "model_module": "@jupyter-widgets/base",
      "model_module_version": "2.0.0",
      "model_name": "LayoutModel",
      "state": {
       "_model_module": "@jupyter-widgets/base",
       "_model_module_version": "2.0.0",
       "_model_name": "LayoutModel",
       "_view_count": null,
       "_view_module": "@jupyter-widgets/base",
       "_view_module_version": "2.0.0",
       "_view_name": "LayoutView",
       "align_content": null,
       "align_items": null,
       "align_self": null,
       "border_bottom": null,
       "border_left": null,
       "border_right": null,
       "border_top": null,
       "bottom": null,
       "display": null,
       "flex": null,
       "flex_flow": null,
       "grid_area": null,
       "grid_auto_columns": null,
       "grid_auto_flow": null,
       "grid_auto_rows": null,
       "grid_column": null,
       "grid_gap": null,
       "grid_row": null,
       "grid_template_areas": null,
       "grid_template_columns": null,
       "grid_template_rows": null,
       "height": null,
       "justify_content": null,
       "justify_items": null,
       "left": null,
       "margin": null,
       "max_height": null,
       "max_width": null,
       "min_height": null,
       "min_width": null,
       "object_fit": null,
       "object_position": null,
       "order": null,
       "overflow": null,
       "padding": null,
       "right": null,
       "top": null,
       "visibility": null,
       "width": null
      }
     },
     "85bfe83e69ae4c198ba5519f9e5b2d0d": {
      "model_module": "@jupyter-widgets/controls",
      "model_module_version": "2.0.0",
      "model_name": "IntSliderModel",
      "state": {
       "_dom_classes": [],
       "_model_module": "@jupyter-widgets/controls",
       "_model_module_version": "2.0.0",
       "_model_name": "IntSliderModel",
       "_view_count": null,
       "_view_module": "@jupyter-widgets/controls",
       "_view_module_version": "2.0.0",
       "_view_name": "IntSliderView",
       "behavior": "drag-tap",
       "continuous_update": true,
       "description": "N",
       "description_allow_html": false,
       "disabled": false,
       "layout": "IPY_MODEL_c4b10a996d934b2e961cebb14f585d12",
       "max": 1000,
       "min": 1,
       "orientation": "horizontal",
       "readout": true,
       "readout_format": "d",
       "step": 1,
       "style": "IPY_MODEL_a217e0d394e141a39087ea3c95b468e3",
       "tabbable": null,
       "tooltip": null,
       "value": 1000
      }
     },
     "907d3e1a6d154af9968050ad21a14ef5": {
      "model_module": "@jupyter-widgets/controls",
      "model_module_version": "2.0.0",
      "model_name": "IntSliderModel",
      "state": {
       "_dom_classes": [],
       "_model_module": "@jupyter-widgets/controls",
       "_model_module_version": "2.0.0",
       "_model_name": "IntSliderModel",
       "_view_count": null,
       "_view_module": "@jupyter-widgets/controls",
       "_view_module_version": "2.0.0",
       "_view_name": "IntSliderView",
       "behavior": "drag-tap",
       "continuous_update": true,
       "description": "D",
       "description_allow_html": false,
       "disabled": false,
       "layout": "IPY_MODEL_9b0507cd3a634230b8ba69c6b85f91dc",
       "max": 200,
       "min": 10,
       "orientation": "horizontal",
       "readout": true,
       "readout_format": "d",
       "step": 1,
       "style": "IPY_MODEL_d17a81e98f07439e8340c7aa5d41d949",
       "tabbable": null,
       "tooltip": null,
       "value": 70
      }
     },
     "90d4678e79124256bfd663dadf8c0d49": {
      "model_module": "@jupyter-widgets/controls",
      "model_module_version": "2.0.0",
      "model_name": "VBoxModel",
      "state": {
       "_dom_classes": [
        "widget-interact"
       ],
       "_model_module": "@jupyter-widgets/controls",
       "_model_module_version": "2.0.0",
       "_model_name": "VBoxModel",
       "_view_count": null,
       "_view_module": "@jupyter-widgets/controls",
       "_view_module_version": "2.0.0",
       "_view_name": "VBoxView",
       "box_style": "",
       "children": [
        "IPY_MODEL_2638bfec09244f2d8c9bf2f89c516682",
        "IPY_MODEL_985d1dbf25a7430e834727fa5b31dd15"
       ],
       "layout": "IPY_MODEL_a96d3773e8924b46a4096b9a87d89c27",
       "tabbable": null,
       "tooltip": null
      }
     },
     "985d1dbf25a7430e834727fa5b31dd15": {
      "model_module": "@jupyter-widgets/output",
      "model_module_version": "1.0.0",
      "model_name": "OutputModel",
      "state": {
       "_dom_classes": [],
       "_model_module": "@jupyter-widgets/output",
       "_model_module_version": "1.0.0",
       "_model_name": "OutputModel",
       "_view_count": null,
       "_view_module": "@jupyter-widgets/output",
       "_view_module_version": "1.0.0",
       "_view_name": "OutputView",
       "layout": "IPY_MODEL_f6210db684e44091a5cb23f4ecfff23a",
       "msg_id": "",
       "outputs": [
        {
         "data": {
          "image/png": "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",
          "text/plain": "<Figure size 600x400 with 2 Axes>"
         },
         "metadata": {},
         "output_type": "display_data"
        }
       ],
       "tabbable": null,
       "tooltip": null
      }
     },
     "9b0507cd3a634230b8ba69c6b85f91dc": {
      "model_module": "@jupyter-widgets/base",
      "model_module_version": "2.0.0",
      "model_name": "LayoutModel",
      "state": {
       "_model_module": "@jupyter-widgets/base",
       "_model_module_version": "2.0.0",
       "_model_name": "LayoutModel",
       "_view_count": null,
       "_view_module": "@jupyter-widgets/base",
       "_view_module_version": "2.0.0",
       "_view_name": "LayoutView",
       "align_content": null,
       "align_items": null,
       "align_self": null,
       "border_bottom": null,
       "border_left": null,
       "border_right": null,
       "border_top": null,
       "bottom": null,
       "display": null,
       "flex": null,
       "flex_flow": null,
       "grid_area": null,
       "grid_auto_columns": null,
       "grid_auto_flow": null,
       "grid_auto_rows": null,
       "grid_column": null,
       "grid_gap": null,
       "grid_row": null,
       "grid_template_areas": null,
       "grid_template_columns": null,
       "grid_template_rows": null,
       "height": null,
       "justify_content": null,
       "justify_items": null,
       "left": null,
       "margin": null,
       "max_height": null,
       "max_width": null,
       "min_height": null,
       "min_width": null,
       "object_fit": null,
       "object_position": null,
       "order": null,
       "overflow": null,
       "padding": null,
       "right": null,
       "top": null,
       "visibility": null,
       "width": null
      }
     },
     "9ce61cb23f274cd08b329845e59a0a34": {
      "model_module": "@jupyter-widgets/base",
      "model_module_version": "2.0.0",
      "model_name": "LayoutModel",
      "state": {
       "_model_module": "@jupyter-widgets/base",
       "_model_module_version": "2.0.0",
       "_model_name": "LayoutModel",
       "_view_count": null,
       "_view_module": "@jupyter-widgets/base",
       "_view_module_version": "2.0.0",
       "_view_name": "LayoutView",
       "align_content": null,
       "align_items": null,
       "align_self": null,
       "border_bottom": null,
       "border_left": null,
       "border_right": null,
       "border_top": null,
       "bottom": null,
       "display": null,
       "flex": null,
       "flex_flow": null,
       "grid_area": null,
       "grid_auto_columns": null,
       "grid_auto_flow": null,
       "grid_auto_rows": null,
       "grid_column": null,
       "grid_gap": null,
       "grid_row": null,
       "grid_template_areas": null,
       "grid_template_columns": null,
       "grid_template_rows": null,
       "height": null,
       "justify_content": null,
       "justify_items": null,
       "left": null,
       "margin": null,
       "max_height": null,
       "max_width": null,
       "min_height": null,
       "min_width": null,
       "object_fit": null,
       "object_position": null,
       "order": null,
       "overflow": null,
       "padding": null,
       "right": null,
       "top": null,
       "visibility": null,
       "width": null
      }
     },
     "9d7cc8b64ea842b5aede36d1cd15eacd": {
      "model_module": "@jupyter-widgets/base",
      "model_module_version": "2.0.0",
      "model_name": "LayoutModel",
      "state": {
       "_model_module": "@jupyter-widgets/base",
       "_model_module_version": "2.0.0",
       "_model_name": "LayoutModel",
       "_view_count": null,
       "_view_module": "@jupyter-widgets/base",
       "_view_module_version": "2.0.0",
       "_view_name": "LayoutView",
       "align_content": null,
       "align_items": null,
       "align_self": null,
       "border_bottom": null,
       "border_left": null,
       "border_right": null,
       "border_top": null,
       "bottom": null,
       "display": null,
       "flex": null,
       "flex_flow": null,
       "grid_area": null,
       "grid_auto_columns": null,
       "grid_auto_flow": null,
       "grid_auto_rows": null,
       "grid_column": null,
       "grid_gap": null,
       "grid_row": null,
       "grid_template_areas": null,
       "grid_template_columns": null,
       "grid_template_rows": null,
       "height": null,
       "justify_content": null,
       "justify_items": null,
       "left": null,
       "margin": null,
       "max_height": null,
       "max_width": null,
       "min_height": null,
       "min_width": null,
       "object_fit": null,
       "object_position": null,
       "order": null,
       "overflow": null,
       "padding": null,
       "right": null,
       "top": null,
       "visibility": null,
       "width": null
      }
     },
     "a1eca8520bd84a8e8b72f9f5136206ba": {
      "model_module": "@jupyter-widgets/base",
      "model_module_version": "2.0.0",
      "model_name": "LayoutModel",
      "state": {
       "_model_module": "@jupyter-widgets/base",
       "_model_module_version": "2.0.0",
       "_model_name": "LayoutModel",
       "_view_count": null,
       "_view_module": "@jupyter-widgets/base",
       "_view_module_version": "2.0.0",
       "_view_name": "LayoutView",
       "align_content": null,
       "align_items": null,
       "align_self": null,
       "border_bottom": null,
       "border_left": null,
       "border_right": null,
       "border_top": null,
       "bottom": null,
       "display": null,
       "flex": null,
       "flex_flow": null,
       "grid_area": null,
       "grid_auto_columns": null,
       "grid_auto_flow": null,
       "grid_auto_rows": null,
       "grid_column": null,
       "grid_gap": null,
       "grid_row": null,
       "grid_template_areas": null,
       "grid_template_columns": null,
       "grid_template_rows": null,
       "height": null,
       "justify_content": null,
       "justify_items": null,
       "left": null,
       "margin": null,
       "max_height": null,
       "max_width": null,
       "min_height": null,
       "min_width": null,
       "object_fit": null,
       "object_position": null,
       "order": null,
       "overflow": null,
       "padding": null,
       "right": null,
       "top": null,
       "visibility": null,
       "width": null
      }
     },
     "a217e0d394e141a39087ea3c95b468e3": {
      "model_module": "@jupyter-widgets/controls",
      "model_module_version": "2.0.0",
      "model_name": "SliderStyleModel",
      "state": {
       "_model_module": "@jupyter-widgets/controls",
       "_model_module_version": "2.0.0",
       "_model_name": "SliderStyleModel",
       "_view_count": null,
       "_view_module": "@jupyter-widgets/base",
       "_view_module_version": "2.0.0",
       "_view_name": "StyleView",
       "description_width": "",
       "handle_color": null
      }
     },
     "a8063c438b0745d4900d4edee5093745": {
      "model_module": "@jupyter-widgets/base",
      "model_module_version": "2.0.0",
      "model_name": "LayoutModel",
      "state": {
       "_model_module": "@jupyter-widgets/base",
       "_model_module_version": "2.0.0",
       "_model_name": "LayoutModel",
       "_view_count": null,
       "_view_module": "@jupyter-widgets/base",
       "_view_module_version": "2.0.0",
       "_view_name": "LayoutView",
       "align_content": null,
       "align_items": null,
       "align_self": null,
       "border_bottom": null,
       "border_left": null,
       "border_right": null,
       "border_top": null,
       "bottom": null,
       "display": null,
       "flex": null,
       "flex_flow": null,
       "grid_area": null,
       "grid_auto_columns": null,
       "grid_auto_flow": null,
       "grid_auto_rows": null,
       "grid_column": null,
       "grid_gap": null,
       "grid_row": null,
       "grid_template_areas": null,
       "grid_template_columns": null,
       "grid_template_rows": null,
       "height": null,
       "justify_content": null,
       "justify_items": null,
       "left": null,
       "margin": null,
       "max_height": null,
       "max_width": null,
       "min_height": null,
       "min_width": null,
       "object_fit": null,
       "object_position": null,
       "order": null,
       "overflow": null,
       "padding": null,
       "right": null,
       "top": null,
       "visibility": null,
       "width": null
      }
     },
     "a96d3773e8924b46a4096b9a87d89c27": {
      "model_module": "@jupyter-widgets/base",
      "model_module_version": "2.0.0",
      "model_name": "LayoutModel",
      "state": {
       "_model_module": "@jupyter-widgets/base",
       "_model_module_version": "2.0.0",
       "_model_name": "LayoutModel",
       "_view_count": null,
       "_view_module": "@jupyter-widgets/base",
       "_view_module_version": "2.0.0",
       "_view_name": "LayoutView",
       "align_content": null,
       "align_items": null,
       "align_self": null,
       "border_bottom": null,
       "border_left": null,
       "border_right": null,
       "border_top": null,
       "bottom": null,
       "display": null,
       "flex": null,
       "flex_flow": null,
       "grid_area": null,
       "grid_auto_columns": null,
       "grid_auto_flow": null,
       "grid_auto_rows": null,
       "grid_column": null,
       "grid_gap": null,
       "grid_row": null,
       "grid_template_areas": null,
       "grid_template_columns": null,
       "grid_template_rows": null,
       "height": null,
       "justify_content": null,
       "justify_items": null,
       "left": null,
       "margin": null,
       "max_height": null,
       "max_width": null,
       "min_height": null,
       "min_width": null,
       "object_fit": null,
       "object_position": null,
       "order": null,
       "overflow": null,
       "padding": null,
       "right": null,
       "top": null,
       "visibility": null,
       "width": null
      }
     },
     "b8177a1d0fe446f5b34925c7606aee1b": {
      "model_module": "@jupyter-widgets/controls",
      "model_module_version": "2.0.0",
      "model_name": "VBoxModel",
      "state": {
       "_dom_classes": [
        "widget-interact"
       ],
       "_model_module": "@jupyter-widgets/controls",
       "_model_module_version": "2.0.0",
       "_model_name": "VBoxModel",
       "_view_count": null,
       "_view_module": "@jupyter-widgets/controls",
       "_view_module_version": "2.0.0",
       "_view_name": "VBoxView",
       "box_style": "",
       "children": [
        "IPY_MODEL_285e31e47a314ae1a05d693200508816",
        "IPY_MODEL_907d3e1a6d154af9968050ad21a14ef5",
        "IPY_MODEL_b8fad7f3b540417997a39dd4e588f755"
       ],
       "layout": "IPY_MODEL_a1eca8520bd84a8e8b72f9f5136206ba",
       "tabbable": null,
       "tooltip": null
      }
     },
     "b8fad7f3b540417997a39dd4e588f755": {
      "model_module": "@jupyter-widgets/output",
      "model_module_version": "1.0.0",
      "model_name": "OutputModel",
      "state": {
       "_dom_classes": [],
       "_model_module": "@jupyter-widgets/output",
       "_model_module_version": "1.0.0",
       "_model_name": "OutputModel",
       "_view_count": null,
       "_view_module": "@jupyter-widgets/output",
       "_view_module_version": "1.0.0",
       "_view_name": "OutputView",
       "layout": "IPY_MODEL_5b553246d7b942a19cc274e30f7ec7e7",
       "msg_id": "",
       "outputs": [
        {
         "data": {
          "image/png": "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",
          "text/plain": "<Figure size 1200x300 with 3 Axes>"
         },
         "metadata": {},
         "output_type": "display_data"
        }
       ],
       "tabbable": null,
       "tooltip": null
      }
     },
     "c4b10a996d934b2e961cebb14f585d12": {
      "model_module": "@jupyter-widgets/base",
      "model_module_version": "2.0.0",
      "model_name": "LayoutModel",
      "state": {
       "_model_module": "@jupyter-widgets/base",
       "_model_module_version": "2.0.0",
       "_model_name": "LayoutModel",
       "_view_count": null,
       "_view_module": "@jupyter-widgets/base",
       "_view_module_version": "2.0.0",
       "_view_name": "LayoutView",
       "align_content": null,
       "align_items": null,
       "align_self": null,
       "border_bottom": null,
       "border_left": null,
       "border_right": null,
       "border_top": null,
       "bottom": null,
       "display": null,
       "flex": null,
       "flex_flow": null,
       "grid_area": null,
       "grid_auto_columns": null,
       "grid_auto_flow": null,
       "grid_auto_rows": null,
       "grid_column": null,
       "grid_gap": null,
       "grid_row": null,
       "grid_template_areas": null,
       "grid_template_columns": null,
       "grid_template_rows": null,
       "height": null,
       "justify_content": null,
       "justify_items": null,
       "left": null,
       "margin": null,
       "max_height": null,
       "max_width": null,
       "min_height": null,
       "min_width": null,
       "object_fit": null,
       "object_position": null,
       "order": null,
       "overflow": null,
       "padding": null,
       "right": null,
       "top": null,
       "visibility": null,
       "width": null
      }
     },
     "d17a81e98f07439e8340c7aa5d41d949": {
      "model_module": "@jupyter-widgets/controls",
      "model_module_version": "2.0.0",
      "model_name": "SliderStyleModel",
      "state": {
       "_model_module": "@jupyter-widgets/controls",
       "_model_module_version": "2.0.0",
       "_model_name": "SliderStyleModel",
       "_view_count": null,
       "_view_module": "@jupyter-widgets/base",
       "_view_module_version": "2.0.0",
       "_view_name": "StyleView",
       "description_width": "",
       "handle_color": null
      }
     },
     "d4fc15c0316b4e60ae7ba9e105a5d532": {
      "model_module": "@jupyter-widgets/controls",
      "model_module_version": "2.0.0",
      "model_name": "SliderStyleModel",
      "state": {
       "_model_module": "@jupyter-widgets/controls",
       "_model_module_version": "2.0.0",
       "_model_name": "SliderStyleModel",
       "_view_count": null,
       "_view_module": "@jupyter-widgets/base",
       "_view_module_version": "2.0.0",
       "_view_name": "StyleView",
       "description_width": "",
       "handle_color": null
      }
     },
     "d6ece26c9fd04da582325009956057e7": {
      "model_module": "@jupyter-widgets/base",
      "model_module_version": "2.0.0",
      "model_name": "LayoutModel",
      "state": {
       "_model_module": "@jupyter-widgets/base",
       "_model_module_version": "2.0.0",
       "_model_name": "LayoutModel",
       "_view_count": null,
       "_view_module": "@jupyter-widgets/base",
       "_view_module_version": "2.0.0",
       "_view_name": "LayoutView",
       "align_content": null,
       "align_items": null,
       "align_self": null,
       "border_bottom": null,
       "border_left": null,
       "border_right": null,
       "border_top": null,
       "bottom": null,
       "display": null,
       "flex": null,
       "flex_flow": null,
       "grid_area": null,
       "grid_auto_columns": null,
       "grid_auto_flow": null,
       "grid_auto_rows": null,
       "grid_column": null,
       "grid_gap": null,
       "grid_row": null,
       "grid_template_areas": null,
       "grid_template_columns": null,
       "grid_template_rows": null,
       "height": null,
       "justify_content": null,
       "justify_items": null,
       "left": null,
       "margin": null,
       "max_height": null,
       "max_width": null,
       "min_height": null,
       "min_width": null,
       "object_fit": null,
       "object_position": null,
       "order": null,
       "overflow": null,
       "padding": null,
       "right": null,
       "top": null,
       "visibility": null,
       "width": null
      }
     },
     "f054b5a5c0a24fde9b22aa7740994a12": {
      "model_module": "@jupyter-widgets/controls",
      "model_module_version": "2.0.0",
      "model_name": "SliderStyleModel",
      "state": {
       "_model_module": "@jupyter-widgets/controls",
       "_model_module_version": "2.0.0",
       "_model_name": "SliderStyleModel",
       "_view_count": null,
       "_view_module": "@jupyter-widgets/base",
       "_view_module_version": "2.0.0",
       "_view_name": "StyleView",
       "description_width": "",
       "handle_color": null
      }
     },
     "f6210db684e44091a5cb23f4ecfff23a": {
      "model_module": "@jupyter-widgets/base",
      "model_module_version": "2.0.0",
      "model_name": "LayoutModel",
      "state": {
       "_model_module": "@jupyter-widgets/base",
       "_model_module_version": "2.0.0",
       "_model_name": "LayoutModel",
       "_view_count": null,
       "_view_module": "@jupyter-widgets/base",
       "_view_module_version": "2.0.0",
       "_view_name": "LayoutView",
       "align_content": null,
       "align_items": null,
       "align_self": null,
       "border_bottom": null,
       "border_left": null,
       "border_right": null,
       "border_top": null,
       "bottom": null,
       "display": null,
       "flex": null,
       "flex_flow": null,
       "grid_area": null,
       "grid_auto_columns": null,
       "grid_auto_flow": null,
       "grid_auto_rows": null,
       "grid_column": null,
       "grid_gap": null,
       "grid_row": null,
       "grid_template_areas": null,
       "grid_template_columns": null,
       "grid_template_rows": null,
       "height": null,
       "justify_content": null,
       "justify_items": null,
       "left": null,
       "margin": null,
       "max_height": null,
       "max_width": null,
       "min_height": null,
       "min_width": null,
       "object_fit": null,
       "object_position": null,
       "order": null,
       "overflow": null,
       "padding": null,
       "right": null,
       "top": null,
       "visibility": null,
       "width": null
      }
     },
     "fb3c7da21b784ec89d5a41a712063f1f": {
      "model_module": "@jupyter-widgets/base",
      "model_module_version": "2.0.0",
      "model_name": "LayoutModel",
      "state": {
       "_model_module": "@jupyter-widgets/base",
       "_model_module_version": "2.0.0",
       "_model_name": "LayoutModel",
       "_view_count": null,
       "_view_module": "@jupyter-widgets/base",
       "_view_module_version": "2.0.0",
       "_view_name": "LayoutView",
       "align_content": null,
       "align_items": null,
       "align_self": null,
       "border_bottom": null,
       "border_left": null,
       "border_right": null,
       "border_top": null,
       "bottom": null,
       "display": null,
       "flex": null,
       "flex_flow": null,
       "grid_area": null,
       "grid_auto_columns": null,
       "grid_auto_flow": null,
       "grid_auto_rows": null,
       "grid_column": null,
       "grid_gap": null,
       "grid_row": null,
       "grid_template_areas": null,
       "grid_template_columns": null,
       "grid_template_rows": null,
       "height": null,
       "justify_content": null,
       "justify_items": null,
       "left": null,
       "margin": null,
       "max_height": null,
       "max_width": null,
       "min_height": null,
       "min_width": null,
       "object_fit": null,
       "object_position": null,
       "order": null,
       "overflow": null,
       "padding": null,
       "right": null,
       "top": null,
       "visibility": null,
       "width": null
      }
     }
    },
    "version_major": 2,
    "version_minor": 0
   }
  }
 },
 "nbformat": 4,
 "nbformat_minor": 5
}