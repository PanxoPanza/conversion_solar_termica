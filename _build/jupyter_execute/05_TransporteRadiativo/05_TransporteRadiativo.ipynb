{
 "cells": [
  {
   "cell_type": "markdown",
   "id": "8b01ca79",
   "metadata": {
    "slideshow": {
     "slide_type": "slide"
    }
   },
   "source": [
    "# Transporte Radiativo"
   ]
  },
  {
   "cell_type": "markdown",
   "id": "580ab8db",
   "metadata": {
    "slideshow": {
     "slide_type": "slide"
    }
   },
   "source": [
    "## Introducción"
   ]
  },
  {
   "cell_type": "markdown",
   "id": "dadf38f1",
   "metadata": {
    "slideshow": {
     "slide_type": "fragment"
    }
   },
   "source": [
    "En la [unidad 2](../02_ondas_EM_en_la_materia/02_ondas_EM_en_la_materia.ipynb) revisamos el efecto de interferencia en películas de espesor finito, y como está daba lugar a la coloración tornasol caractéristica en derrames de aceites en agua, lentes y discos compactos.\n",
    "\n",
    "<img src=\"./images/interference_oils.png\" width=\"700px\" align= center>"
   ]
  },
  {
   "cell_type": "markdown",
   "id": "d2dc01e9",
   "metadata": {
    "slideshow": {
     "slide_type": "fragment"
    }
   },
   "source": [
    "Si, teóricamente, el efecto de interferencia ocurre cada vez que tenemos un tercer material intercalado entre dos materiales (iguales o diferentes). **¿Porqué no visualizamos este efecto en ventanas u otros materiales de gran espesor?**"
   ]
  },
  {
   "cell_type": "markdown",
   "id": "9ff4cae4",
   "metadata": {
    "slideshow": {
     "slide_type": "slide"
    }
   },
   "source": [
    "## Coherencia de la luz e interferencia\n",
    "\n",
    "Para entender esto, primero debemos revisar la distribución espectral de fuentes reales de luz\n",
    "\n",
    "<img src=\"./images/light_source_spectra.png\" width=\"800px\" align= center>"
   ]
  },
  {
   "cell_type": "markdown",
   "id": "16081fa2",
   "metadata": {
    "slideshow": {
     "slide_type": "fragment"
    }
   },
   "source": [
    "Como vemos, una fuente emite luz en varias longitudes de onda y a distinta intensidad. Así, las ondas emitidas se superponen, generando una onda resultante con una forma distinta a $e^{i(\\vec{k}\\cdot\\vec{r} -\\omega t)}$."
   ]
  },
  {
   "cell_type": "markdown",
   "id": "b54cf722",
   "metadata": {
    "slideshow": {
     "slide_type": "slide"
    }
   },
   "source": [
    "Consideremos, por ejemplo, una fuente de luz con una distribución espectral normal, centrada en $\\lambda_0$ y con una desviación estandar $\\pm\\sigma_\\lambda\\lambda_0$, con $\\sigma_\\lambda \\in [0,1]$. Imaginemos esta fuente como $N$ emisores, donde cada emisor $j$ emite una onda electromagnéticas con longitud de onda $\\lambda \\pm\\Delta \\lambda_j$, donde $\\Delta \\lambda_j$ es escogido aleatoriamente a partir de la distribución normal."
   ]
  },
  {
   "cell_type": "markdown",
   "id": "31f81723",
   "metadata": {
    "cell_style": "split",
    "slideshow": {
     "slide_type": "fragment"
    }
   },
   "source": [
    "<img src=\"./images/normal_distribution.png\" width=\"400px\" align= center>"
   ]
  },
  {
   "cell_type": "markdown",
   "id": "76d68ef4",
   "metadata": {
    "cell_style": "split",
    "slideshow": {
     "slide_type": "fragment"
    }
   },
   "source": [
    "Asumiendo ondas en el aire en dirección $\\hat{k} = \\hat{x}$, el campo eléctrico resultante es:\n",
    "\n",
    "\\begin{equation*}\n",
    "\\vec{E}_\\mathrm{tot} = \\sum_j^N E_0e^{i\\left(k_jx - \\omega_j t\\right)} \\hat{z},\n",
    "\\end{equation*}\n",
    "\n",
    "donde $k_j = \\frac{2\\pi}{\\lambda \\pm\\Delta \\lambda_j}$, y $\\omega_j = c_0k_j$"
   ]
  },
  {
   "cell_type": "markdown",
   "id": "e5e55e68",
   "metadata": {
    "cell_style": "center",
    "slideshow": {
     "slide_type": "fragment"
    }
   },
   "source": [
    "Analicemos el comportamiento de $\\vec{E}_\\mathrm{tot} /E_0$ para $\\lambda_0 = 500$ nm"
   ]
  },
  {
   "cell_type": "code",
   "execution_count": 1,
   "id": "37df7e74",
   "metadata": {
    "cell_style": "split",
    "slideshow": {
     "slide_type": "slide"
    },
    "tags": [
     "hide-input"
    ]
   },
   "outputs": [],
   "source": [
    "import numpy as np\n",
    "from numpy.random import normal\n",
    "import matplotlib.pyplot as plt\n",
    "\n",
    "def light_packet(kdir, x, t, lam, sig, N):\n",
    "    c0 = 3E8          # velocidad de la luz (m/s)\n",
    "    xx = np.meshgrid(x,np.ones(N))[0]\n",
    "    \n",
    "    # Generamos arreglo de ondas aleatorias\n",
    "    dlamj =  normal(0, lam*sig,N)\n",
    "    kj = (2*np.pi/(lam + dlamj)).reshape(-1,1)\n",
    "    wj = c0*kj\n",
    "    Erand = np.exp(1j*(kdir*kj*xx-wj*t)) \n",
    "    \n",
    "    # Sumamos todas las ondas\n",
    "    return np.sum(Erand,axis=0)\n",
    " \n",
    "def plot_light_packet(N, t, sig):\n",
    "    '''\n",
    "    n: número de ondas generadas\n",
    "    t: tiempo en ns\n",
    "    sig: % de ancho de banda (dlam = sig*lam)\n",
    "    '''\n",
    "    lam = 0.5         # longitud de onda (um)\n",
    "    t = t*1E-9 # convertimos ns a s\n",
    "    \n",
    "    # recorrido de la onda\n",
    "    x = np.linspace(-2,2,1000)  # desde 0 a 4 micrones\n",
    "    E = light_packet(1, x, t, lam, sig, N)\n",
    "    \n",
    "    # Graficamos\n",
    "    fig, ax = plt.subplots()\n",
    "    fig.set_size_inches(6, 3)\n",
    "    plt.rcParams['font.size'] = '12'\n",
    "    \n",
    "    ax.plot(x,np.real(E), 'k')\n",
    "    ax.set_xlabel('x ($\\mu$m)')\n",
    "    ax.set_ylabel('Amplitud $|E|/E_0$')\n",
    "    ax.set_ylim(-N*1.1,N*1.1)\n",
    "    ax.grid()\n"
   ]
  },
  {
   "cell_type": "code",
   "execution_count": 2,
   "id": "5c81aca7",
   "metadata": {
    "cell_style": "split",
    "slideshow": {
     "slide_type": "fragment"
    },
    "tags": [
     "hide-input"
    ]
   },
   "outputs": [
    {
     "data": {
      "application/vnd.jupyter.widget-view+json": {
       "model_id": "0ba43096909c4e08a0082a1b100adcee",
       "version_major": 2,
       "version_minor": 0
      },
      "text/plain": [
       "interactive(children=(IntSlider(value=1000, description='N', max=1000, min=1), FloatSlider(value=0.0, descript…"
      ]
     },
     "metadata": {},
     "output_type": "display_data"
    }
   ],
   "source": [
    "from ipywidgets import interact\n",
    "\n",
    "@interact( N=(1,1000,1), \n",
    "           t=(-10,10,0.1),\n",
    "           sig=(0,1,0.01))\n",
    "def g(N=1000, t=0, sig=0.3):\n",
    "    return plot_light_packet(N,t,sig)"
   ]
  },
  {
   "cell_type": "markdown",
   "id": "b53bb755",
   "metadata": {
    "slideshow": {
     "slide_type": "slide"
    }
   },
   "source": [
    "### Longitud de coherencia\n",
    "Definimos como **longitud de coherencia**, $l_c$, a la distancia donde un grupo de ondas electromagnética mantiene correlación entre las fases. Dos puntos en una paquete de onda separados a una distancia mayor a $l_c$ son incoherentes, es decir, no están correlacionados"
   ]
  },
  {
   "cell_type": "markdown",
   "id": "3ea340f8",
   "metadata": {
    "cell_style": "split",
    "slideshow": {
     "slide_type": "fragment"
    }
   },
   "source": [
    "<img src=\"./images/coherence_length.png\" width=\"300px\" align= center>\n",
    "\n",
    "<center>Esquema de un paquete de onda emitido por una fuente con longitud de coherencia $l_c$</center>"
   ]
  },
  {
   "cell_type": "markdown",
   "id": "1f71b46f",
   "metadata": {
    "cell_style": "split",
    "slideshow": {
     "slide_type": "fragment"
    }
   },
   "source": [
    "La relación entre $l_c$, la longitud de onda central $\\lambda$ y el ancho de banda $\\Delta\\lambda$ está dado, aproximadamente, por la relación:\n",
    "\n",
    "\\begin{equation*}\n",
    "l_c \\approx \\frac{\\lambda^2}{n\\Delta \\lambda},\n",
    "\\end{equation*}\n",
    "\n",
    "donde $n$ es el indice de refracción del medio donde se propaga la luz.\n",
    "\n",
    "Por ejemplo, para lasers He-Ne (laser rojo)  $l_c\\approx 0.2 - 100$ m.  "
   ]
  },
  {
   "cell_type": "markdown",
   "id": "b8e319bd",
   "metadata": {
    "slideshow": {
     "slide_type": "slide"
    }
   },
   "source": [
    "Para radiación emitida por un cuerpo a temperatura $T$, la longitud de coherencia está dada por:\n",
    "\n",
    "\\begin{equation*}\n",
    "l_c T = 2167.8~\\mathrm{\\mu m~K}\n",
    "\\end{equation*}\n",
    "\n",
    "Así, por ejemplo, la radiación solar ($T \\approx 5800~\\mathrm{K}$) tiene una longitud de coherencia, $l_c \\approx 370~\\mathrm{nm}$"
   ]
  },
  {
   "cell_type": "markdown",
   "id": "659f7454",
   "metadata": {
    "slideshow": {
     "slide_type": "slide"
    }
   },
   "source": [
    "### Régimen de trasporte de luz\n",
    "Los fenómenos de interferencia descritos en las unidades anteriores existen debido a la forma oscilatorioa de la luz. **Dos paquetes de ondas distintos son incoherentes, y la superposición de estos no genera interferencia.**"
   ]
  },
  {
   "cell_type": "markdown",
   "id": "615ad1c6",
   "metadata": {
    "slideshow": {
     "slide_type": "slide"
    }
   },
   "source": [
    "En otras palabras, el fenómeno de interferencia solo existe si el paquete de onda interfiere consigo mismo. Así, podemos concluir que los fenómenos de interferencia en películas de espesor $d$ no serían visibles si $d > l_c$. "
   ]
  },
  {
   "cell_type": "markdown",
   "id": "db4d20e4",
   "metadata": {
    "cell_style": "split",
    "slideshow": {
     "slide_type": "fragment"
    }
   },
   "source": [
    "<img src=\"./images/interference_thinfilm.png\" width=\"200px\" align= center>\n",
    "\n",
    "<center>Propagación de una onda a través de una película de espesor $d$, con $l_c < d$</center>"
   ]
  },
  {
   "cell_type": "markdown",
   "id": "fce7ef57",
   "metadata": {
    "cell_style": "split",
    "slideshow": {
     "slide_type": "fragment"
    }
   },
   "source": [
    "En general, para una longitud características $d$, la regla es:\n",
    "\n",
    "- Si $d > l_c$ el **transporte de luz es incoherente** . En este régimen, podemos ignorar las propiedades oscilatorias de la luz, y analizar el problema como el transporte de pequeños paquetes de onda, o simplemente como partículas.\n",
    "\n",
    "- Si $d < l_c$, el **transporte de luz es coherente**. En este régimen debemos considerar las propiedades oscilatorias a partir de las Ecuaciones de Maxwell."
   ]
  },
  {
   "cell_type": "markdown",
   "id": "06aab8e7",
   "metadata": {
    "cell_style": "center",
    "slideshow": {
     "slide_type": "fragment"
    }
   },
   "source": [
    "Así, **los coeficientes de Fresnel para una película delgada solo son aplicables si $d < l_c$.**"
   ]
  },
  {
   "cell_type": "markdown",
   "id": "c7f85265",
   "metadata": {
    "cell_style": "center",
    "slideshow": {
     "slide_type": "slide"
    }
   },
   "source": [
    "Los coeficientes de Fresnel para una interface, en cambio, siempre son válidos debido a que consideran una interface infinitamente delgada."
   ]
  },
  {
   "cell_type": "markdown",
   "id": "57178760",
   "metadata": {
    "cell_style": "center",
    "slideshow": {
     "slide_type": "fragment"
    }
   },
   "source": [
    "<img src=\"./images/interference_interface.png\" width=\"350px\" align= center>\n",
    "\n",
    "<center>Refracción y reflexión de una onda incoherente a través de una interfaz</center>"
   ]
  },
  {
   "cell_type": "markdown",
   "id": "0c79f1b6",
   "metadata": {
    "slideshow": {
     "slide_type": "slide"
    }
   },
   "source": [
    "En medios particulados, los fenómenos de interferencia pueden ocurrir si las partículas están suficientemente cerca y tienen tamaños similares. Llamamos a esto **scattering coherente**"
   ]
  },
  {
   "cell_type": "markdown",
   "id": "61e2a519",
   "metadata": {
    "slideshow": {
     "slide_type": "fragment"
    }
   },
   "source": [
    "<img src=\"./images/scattering_coherence.png\" width=\"600px\" align= center>\n",
    "\n",
    "<center>Fenómeno de interferencia en scattering</center>"
   ]
  },
  {
   "cell_type": "markdown",
   "id": "8167d93c",
   "metadata": {
    "slideshow": {
     "slide_type": "slide"
    }
   },
   "source": [
    "El fenómeno de scattering coherente da lugar a los denominados **colores estructurales** presentes en las alas de las aves y mariposas (mas info [acá](https://wires.onlinelibrary.wiley.com/doi/10.1002/wnan.1396))"
   ]
  },
  {
   "cell_type": "markdown",
   "id": "06446d60",
   "metadata": {
    "cell_style": "split",
    "slideshow": {
     "slide_type": "fragment"
    }
   },
   "source": [
    "<img src=\"./images/structural_colors_birds.png\" width=\"550px\" align= center>\n",
    "\n",
    "<center>Colores estructurales en alas de aves</center>\n",
    "\n",
    "Fuente: [Hwang, V. et al. PNAS 118 (4) e2015551118\n",
    " (2020)](https://www.pnas.org/doi/10.1073/pnas.2015551118)"
   ]
  },
  {
   "cell_type": "markdown",
   "id": "71eaafb2",
   "metadata": {
    "cell_style": "split",
    "slideshow": {
     "slide_type": "fragment"
    }
   },
   "source": [
    "<img src=\"./images/structural_colors_buterflies.png\" width=\"450px\" align= center>\n",
    "\n",
    "<center>Colores estructurales en alas de mariposa</center>\n",
    "\n",
    "Fuente: [Tippets C. A. et al. J. Opt. 18 (2016) 065105](https://iopscience.iop.org/article/10.1088/2040-8978/18/6/065105)"
   ]
  },
  {
   "cell_type": "markdown",
   "id": "f629fcbe",
   "metadata": {
    "slideshow": {
     "slide_type": "slide"
    }
   },
   "source": [
    "## Teoría de transferencia radiativa\n",
    "Si el transporte de luz es incoherente, podemos ignorar las propiedades oscilatorias de la luz y analizar el fenómeno óptico como un el transporte de radiación a través de un volumen de control."
   ]
  },
  {
   "cell_type": "markdown",
   "id": "f62e3c70",
   "metadata": {
    "slideshow": {
     "slide_type": "slide"
    }
   },
   "source": [
    "### Intensidad específica"
   ]
  },
  {
   "cell_type": "markdown",
   "id": "790c7714",
   "metadata": {
    "cell_style": "split",
    "slideshow": {
     "slide_type": "-"
    }
   },
   "source": [
    "Definimos como **radiancia espectral o intensidad específica**, $I_\\lambda$, al flujo de energía por **ángulo sólido diferencial**, $d\\Omega$, para una longitud de onda $\\lambda$.\n",
    "\n",
    "<img src=\"./images/specific_intensity.png\" width=\"300px\" align= center>"
   ]
  },
  {
   "cell_type": "markdown",
   "id": "8568f20b",
   "metadata": {
    "cell_style": "split",
    "slideshow": {
     "slide_type": "fragment"
    }
   },
   "source": [
    "El ángulo sólido define el tamaño relativo del área $S$ para un observador en $P$ a una distancia $r$. \n",
    "\n",
    "El diferencial está definido por $d\\Omega = \\sin\\theta d\\theta d\\phi$\n",
    "\n",
    "<img src=\"./images/solid_angle.png\" width=\"450px\" align= center>"
   ]
  },
  {
   "cell_type": "markdown",
   "id": "0d8ed016",
   "metadata": {
    "slideshow": {
     "slide_type": "slide"
    }
   },
   "source": [
    "Es importante aclarar que los conceptos intensidad específica y vector de Poynting $\\langle\\vec{S}\\rangle$, son equivalentes: $I_\\lambda(\\hat{k})$ es un término utilizado en radiometría para definir el flujo de energía por unidad de ángulo sólido, mientras que $\\langle\\vec{S}\\rangle$ es un término utilizado en óptica para describir el flujo de energía en dirección $\\hat{k}$. Cabe destacar, sin embargo, que $I_\\lambda(\\hat{k})$ es una magnitud, y $\\langle\\vec{S}\\rangle$ es un vector. Así, podríamos decir que la relación entre estos dos términos está dada por $I_\\lambda(\\hat{k}) = \\langle\\vec{S}\\rangle\\cdot\\hat{k}$."
   ]
  },
  {
   "cell_type": "markdown",
   "id": "921c9262",
   "metadata": {
    "slideshow": {
     "slide_type": "slide"
    }
   },
   "source": [
    "### Ecuación de transferencia radiativa\n",
    "La **ecuación de transferencia radiativa** (RTE por sus siglas en ingles), es una ecuación de transporte que describe la propagación de la radiancia espectral, $I_\\lambda(\\vec{r},\\hat{k})$, en función de la posición posición $\\vec{r}$ y dirección $\\hat{k}$. En su forma más general, para un problema estacionario:\n",
    "\n",
    "\\begin{equation}\n",
    "\\hat{k}\\cdot\\nabla_r I_\\lambda(\\vec{r},\\hat{k}) = - \\left[\\frac{f_v}{V_p}C_\\mathrm{ext} + 2\\kappa k_0\\right]I_\\lambda(\\vec{r},\\hat{k}) + \\frac{f_v}{V_p}\\int_{4\\pi} P_\\mathrm{sca}(\\hat{k},\\hat{k}') I_\\lambda(\\vec{r},\\hat{k}') d\\Omega'\n",
    "\\end{equation}"
   ]
  },
  {
   "cell_type": "markdown",
   "id": "44c82ce8",
   "metadata": {
    "slideshow": {
     "slide_type": "fragment"
    }
   },
   "source": [
    "donde $f_v$ y $V_p$ son, respectivamente la fracción de volúmen y el volúmen de las partículas en el medio, y $P_\\mathrm{sca}(\\hat{k},\\hat{k}')$ es la función de fase."
   ]
  },
  {
   "cell_type": "markdown",
   "id": "84f7041f",
   "metadata": {
    "slideshow": {
     "slide_type": "slide"
    }
   },
   "source": [
    "Notar que consideramos el caso más generalizado de la función de fase, que depende tanto de la dirección de la radiación incidente $\\hat{k}$ como de la dirección del scattering $\\hat{k}'$. Ambas definidas por ángulo sólido"
   ]
  },
  {
   "cell_type": "markdown",
   "id": "556660a5",
   "metadata": {
    "cell_style": "center",
    "slideshow": {
     "slide_type": "fragment"
    }
   },
   "source": [
    "En el caso de una esfera, $\\hat{k}_\\mathrm{sca} = \\hat{k}$ y $\\hat{k}_\\mathrm{inc} = \\hat{k}'$. Así, la función de fase depende de $\\theta$, el cual está definido por $\\cos\\theta = \\hat{k}\\cdot\\hat{k}'$\n",
    "\n"
   ]
  },
  {
   "cell_type": "markdown",
   "id": "b7b71333",
   "metadata": {
    "slideshow": {
     "slide_type": "slide"
    }
   },
   "source": [
    "Con esto en mente, ahora podemos discutir el significado de los términos en la RTE:"
   ]
  },
  {
   "cell_type": "markdown",
   "id": "12e1a1e8",
   "metadata": {
    "slideshow": {
     "slide_type": "fragment"
    }
   },
   "source": [
    "- El primer término representa el cambio de $I_\\lambda(\\vec{r},\\hat{k})$ a través volumen diferencial. Por ejemplo, en el caso unidimencional en dirección $\\hat{k} = \\hat{x}$, tenemos: \n",
    "\n",
    "\\begin{equation*}\n",
    "\\hat{x}\\cdot\\nabla_r I_\\lambda(\\vec{r},\\hat{k}) = \\frac{\\partial}{\\partial x}I_\\lambda(\\vec{r},\\hat{k})\n",
    "\\end{equation*}"
   ]
  },
  {
   "cell_type": "markdown",
   "id": "231c3da9",
   "metadata": {
    "slideshow": {
     "slide_type": "fragment"
    }
   },
   "source": [
    "- El segundo término representa la pérdida de energía radiativa, por extinción $\\left(\\frac{f_v}{V_p}C_\\mathrm{ext}\\right)$ y absorción en el material material ($2\\kappa k_0$), respectivamente. Recordemos que la extinción representa la energía absorbida por las partículas + la energía de scattering en direcciónes distintas a $\\hat{k}$, es decir $C_\\mathrm{ext}= C_\\mathrm{abs} + C_\\mathrm{sca}$."
   ]
  },
  {
   "cell_type": "markdown",
   "id": "4754c5ed",
   "metadata": {
    "slideshow": {
     "slide_type": "fragment"
    }
   },
   "source": [
    "- El tercer término representa la ganancia de energía radiativa produco del scattering inducido por radiación incidente en dirección $\\hat{k}'$. Este término representa el fenómeno de **scattering múltiple**."
   ]
  },
  {
   "cell_type": "markdown",
   "id": "43766712",
   "metadata": {
    "slideshow": {
     "slide_type": "slide"
    }
   },
   "source": [
    "## Soluciones de la RTE\n",
    "La ecuación de transferencia radiativa permite explicar de forma fenomenológica el transporte de radiación en un medio particulado. Debido a su complejidad, existen pocas soluciones analíticas. En esta sección describiremos las tres más conocidas."
   ]
  },
  {
   "cell_type": "markdown",
   "id": "6037462f",
   "metadata": {
    "slideshow": {
     "slide_type": "slide"
    }
   },
   "source": [
    "### Película de material sin partículas (Reflectividad y Transmisividad incoherente)\n",
    "En el caso de un medio sin partículas solo debemos considerar el primer término de la RTE. "
   ]
  },
  {
   "cell_type": "markdown",
   "id": "38e80853",
   "metadata": {
    "slideshow": {
     "slide_type": "fragment"
    }
   },
   "source": [
    "Para el caso particular de un material de espesor $t_\\mathrm{film}$ e índice de refracción $N = n + \\kappa$, rodeado por un medio con índice de refracción $N_0$, derivamos las siguientes relaciones de reflectividad y tranmisividad para luz incoherente:\n",
    "\n",
    "\\begin{align}\n",
    "R_\\mathrm{incoh}&= R_0 + \\frac{T_0^2R_0e^{-4\\kappa k_0 t_\\mathrm{film}}}{1 - R_0^2e^{-4\\kappa k_0 t_\\mathrm{film}}} \n",
    "\\\\[10pt]\n",
    "T_\\mathrm{incoh} &= \\frac{T_0^2e^{-4\\kappa k_0 t_\\mathrm{film}}}{1 - R_0^2e^{-4\\kappa k_0 t_\\mathrm{film}}}\n",
    "\\end{align}\n",
    "\n",
    "donde $R_0$ y $T_0$ corresponden, respectivamente, a la reflectividad y transmisividad en la interface $N_0 / N_1$"
   ]
  },
  {
   "cell_type": "markdown",
   "id": "7b8cb924",
   "metadata": {
    "slideshow": {
     "slide_type": "slide"
    }
   },
   "source": [
    "En el siguiente ejemplo, utilizamos la función ```incoh_multilayer``` de la libreria ```empylib.waveoptics```. Esta función es más general que la ecuación anterior y permite determinar $R_\\mathrm{incoh}$ y $T_\\mathrm{incoh}$ para arreglos multicapas. "
   ]
  },
  {
   "cell_type": "markdown",
   "id": "2a3e7bbc",
   "metadata": {
    "slideshow": {
     "slide_type": "fragment"
    }
   },
   "source": [
    "En este caso, evaluaremos una película de sílice de espesor $1~\\mu\\mathrm{m}$, sobre un sustrato con íncide de refracción $N_\\mathrm{back} = 4.3$, y con aire en la superficie $N_\\mathrm{front} = 1.0$. El espectro de longitudes de onda $\\lambda\\in[0.3,0.8]~\\mu\\mathrm{m}$ y el ángulo de incidencia $\\theta_i = 30°$. Para comparar, determinaremos $R$ y $T$ para el caso de luz coherente."
   ]
  },
  {
   "cell_type": "code",
   "execution_count": 3,
   "id": "a99aa431",
   "metadata": {
    "cell_style": "split",
    "slideshow": {
     "slide_type": "slide"
    },
    "tags": [
     "hide-input"
    ]
   },
   "outputs": [],
   "source": [
    "import numpy as np\n",
    "import empylib.waveoptics as wv\n",
    "import empylib.nklib as nk\n",
    "\n",
    "lam = np.linspace(2,10,100)  # espectro de longitudes de onda (um)\n",
    "theta = np.radians(30)          # ángulo de incidencia\n",
    "\n",
    "Nfront = 1.0                 # índice de refracción medio superior\n",
    "N1     = 1.5        # índice de refracción capa delgada\n",
    "Nback  = 4.3                 # índice de refracción medio inferior\n",
    "N = (Nfront, N1, Nback)      # indices de refracción (above, mid, below)\n",
    "d = 1.0                      # espesor capa intermedia (um)\n",
    "\n",
    "# caso luz incoherente\n",
    "Rp_incoh, Tp_incoh = wv.incoh_multilayer(lam,theta, N, d, pol='TM')\n",
    "# caso luz coherente\n",
    "Rp, Tp = wv.multilayer(lam,theta, N, d, pol='TM')[:2]"
   ]
  },
  {
   "cell_type": "code",
   "execution_count": 4,
   "id": "3bee2ad8",
   "metadata": {
    "cell_style": "split",
    "slideshow": {
     "slide_type": "fragment"
    },
    "tags": [
     "hide-input"
    ]
   },
   "outputs": [
    {
     "data": {
      "image/png": "[encoded data removed]",
      "text/plain": [
       "<Figure size 432x252 with 1 Axes>"
      ]
     },
     "metadata": {
      "filenames": {
       "image/png": "/mnt/c/Users/francisco.ramirez.c/OneDrive - Universidad Adolfo Ibanez/Teaching_courses/MEC501 - Manejo_y_Conversion_Energia_Solar_Termica/material_catedra/_build/jupyter_execute/05_TransporteRadiativo/05_TransporteRadiativo_47_0.png"
      },
      "needs_background": "light"
     },
     "output_type": "display_data"
    }
   ],
   "source": [
    "fig, ax = plt.subplots()\n",
    "fig.set_size_inches(6, 3.5)\n",
    "plt.rcParams['font.size'] = '12'\n",
    "\n",
    "# Graficamos el flujo de energía\n",
    "plt.plot(lam,Rp,'--r',label='$R_\\mathrm{TM}$ (coh)')\n",
    "plt.plot(lam,Tp,'--b',label='$T_\\mathrm{TM}$ (coh)')\n",
    "plt.plot(lam,Rp_incoh,'-r',label='$R_\\mathrm{TM}$ (incoh)')\n",
    "plt.plot(lam,Tp_incoh,'-b',label='$T_\\mathrm{TM}$ (incoh)')\n",
    "plt.title('arreglo 1.0/1.5/4.3')\n",
    "plt.xlabel('Longitud de onda ($\\mu$m)')\n",
    "plt.ylabel('Refletividad / Transmisividad')\n",
    "plt.ylim(0,1)\n",
    "plt.legend()\n",
    "plt.show()"
   ]
  },
  {
   "cell_type": "markdown",
   "id": "c6ed7877",
   "metadata": {
    "cell_style": "center",
    "slideshow": {
     "slide_type": "slide"
    }
   },
   "source": [
    "En la figura, para el caso de luz coherente, notamos oscilaciones en $R$ y $T$ producto de los fenómenos de interferencia. En el caso de luz incoherente, el fenómeno de interferencia desaparace."
   ]
  },
  {
   "cell_type": "markdown",
   "id": "a5316b37",
   "metadata": {
    "slideshow": {
     "slide_type": "slide"
    }
   },
   "source": [
    "### Película de material con baja concentración de partículas (Ley de Beer-Lambert)\n",
    "Definimos el **camino libre medio de scattering**, como $\\Lambda_\\mathrm{sca} = \\left(f_v C_\\mathrm{sca}/V_p\\right)^{-1}$. Este parametro representa la distancia promedio que recorre la luz entre eventos de scattering."
   ]
  },
  {
   "cell_type": "markdown",
   "id": "a352fb08",
   "metadata": {
    "cell_style": "center",
    "slideshow": {
     "slide_type": "fragment"
    }
   },
   "source": [
    "Si $\\Lambda_\\mathrm{sca}$ es mayor que el espesor del material, $t_\\mathrm{film}$, la probabilidad de que ocurran más de un evento scattering es despreciable, y decimos que el **scattering es de primer orden**. En este caso, el tercer término de la RTE es despreciable y la radiación solo pierde energía por absorción del material o extinción inducida por las partículas."
   ]
  },
  {
   "cell_type": "markdown",
   "id": "9407f0e6",
   "metadata": {
    "slideshow": {
     "slide_type": "slide"
    }
   },
   "source": [
    "La solución a esta ecuación se conoce como la ley de Beer-Lambert. Mediante esta aproximación podemos deducir las componentes total y especular de la transmitancia:\n",
    "\n",
    "\\begin{equation}\n",
    "T_\\mathrm{tot} = T_0 e^{-f_v\\frac{C_\\mathrm{abs}}{V_p}t_\\mathrm{film}}\\quad\\quad\\mathrm{and}\\quad\\quad \n",
    "T_\\mathrm{spec} = T_0 e^{-f_v\\frac{C_\\mathrm{ext}}{V_p}t_\\mathrm{film}}\n",
    "\\end{equation}\n",
    "\n",
    "donde, $T_0$ es la **transmisividad incoherente del material sin incrustaciones**."
   ]
  },
  {
   "cell_type": "markdown",
   "id": "2f29ecb5",
   "metadata": {
    "slideshow": {
     "slide_type": "fragment"
    }
   },
   "source": [
    "<img src=\"./images/beer_lambert.png\" width=\"500px\" align= center>\n",
    "\n",
    "<center>Transporte de luz en un medio con scattering de primer orden</center>"
   ]
  },
  {
   "cell_type": "markdown",
   "id": "963bc3c6",
   "metadata": {
    "slideshow": {
     "slide_type": "slide"
    }
   },
   "source": [
    "Podemos utilizar la ley de Beer-Lambert para analizar, de forma aproximada, el efecto del color del cielo durante el día y en la tarde."
   ]
  },
  {
   "cell_type": "markdown",
   "id": "227d193d",
   "metadata": {
    "slideshow": {
     "slide_type": "fragment"
    }
   },
   "source": [
    "El color del cielo está dado por la componente difusa. Así calculamos $T_\\mathrm{dif} = T_\\mathrm{tot} - T_\\mathrm{spec}$."
   ]
  },
  {
   "cell_type": "markdown",
   "id": "a2577fed",
   "metadata": {
    "slideshow": {
     "slide_type": "fragment"
    }
   },
   "source": [
    "Consideremos una atmosfera compuesta de aire ($N_h = 1.0$) y una pequeña concentración ($f_v = 1\\times 10^{-6}~\\%$) de partículas de 10 nm de diámetro e índice de refracción $N_p = 1.5$. El espesor de la atmosfera es $t_\\mathrm{atm} = 100~\\mathrm{km}$"
   ]
  },
  {
   "cell_type": "code",
   "execution_count": 5,
   "id": "33491447",
   "metadata": {
    "cell_style": "split",
    "slideshow": {
     "slide_type": "slide"
    },
    "tags": [
     "hide-input"
    ]
   },
   "outputs": [],
   "source": [
    "import empylib.rad_transfer as rt\n",
    "import empylib.nklib as nk\n",
    "import numpy as np\n",
    "import matplotlib.pyplot as plt\n",
    "from empylib.ref_spectra import AM15, Bplanck\n",
    "from empylib.ref_spectra import color_system as cs\n",
    "cs = cs.hdtv\n",
    "\n",
    "lam1 = np.linspace(0.38,0.78,100) # espectro de longitudes de onda\n",
    "cs.interp_internals(lam1)\n",
    "def plot_atmosphere(theta_sun):\n",
    "    fig, ax = plt.subplots()          \n",
    "    fig.set_size_inches(6, 4)         # Tamaño del gráfico\n",
    "    plt.rcParams['font.size'] = '12'  # tamaño de  fuente\n",
    "    \n",
    "    # parámetros de entrada\n",
    "    tatm = 100E6                      # espesor de la atmósfera en mm\n",
    "    N = (1.0,1.0,1.0)                 # indice de refracción superior, intermedio e inferior\n",
    "    fvp = 1E-8                        # fracción de volúmen de las partículas\n",
    "    Dp = 0.010                        # diámetro de las partículas\n",
    "    Np = 1.5                          # índice de refracción de las partículas\n",
    "    \n",
    "    # transmitancia total y especular\n",
    "    theta = np.radians(theta_sun)    # posición del sol en radianes\n",
    "    Ttot, Tspec = rt.T_beer_lambert(lam1,theta,tatm,N,fvp,Dp,Np)[:2]\n",
    "    \n",
    "    Tdif = Ttot - Tspec              # transmitancia difusa\n",
    "    ax.plot(lam1,Tdif,'-k',label = 'Tdif')\n",
    "    ax.set_xlabel('Longitud de onda ($\\mu$m)')\n",
    "    ax.set_ylabel('Transmisividad')\n",
    "    ax.set_title(r'Posición del sol, $\\theta_\\mathrm{sun}$=%.1f°'% (theta_sun))\n",
    "    ax.set_ylim(0,1.05)\n",
    "    \n",
    "    Dcircle = 0.25\n",
    "    ax2 = fig.add_axes([0.11,0.15, Dcircle, Dcircle])\n",
    "    Irad = Tdif*Bplanck(lam1,5777)\n",
    "    html_rgb = cs.spec_to_rgb(Irad, out_fmt='html')\n",
    "    Circle = plt.Circle((0, 0), Dcircle, color=html_rgb)\n",
    "    ax2.add_patch(Circle)\n",
    "    ax2.set_aspect('equal')\n",
    "    ax2.set_xlim(-Dcircle*1.2,Dcircle*1.2)\n",
    "    ax2.set_ylim(-Dcircle*1.2,Dcircle*1.2)\n",
    "    ax2.set_xticks([])\n",
    "    ax2.set_yticks([])\n",
    "    ax2.set_facecolor('k')"
   ]
  },
  {
   "cell_type": "code",
   "execution_count": 6,
   "id": "f3b08336",
   "metadata": {
    "cell_style": "split",
    "slideshow": {
     "slide_type": "fragment"
    },
    "tags": [
     "hide-input"
    ]
   },
   "outputs": [
    {
     "data": {
      "application/vnd.jupyter.widget-view+json": {
       "model_id": "e7a2456580d24aa89f472e3181620aec",
       "version_major": 2,
       "version_minor": 0
      },
      "text/plain": [
       "interactive(children=(FloatSlider(value=0.0, description='theta_sun', max=89.99), Output()), _dom_classes=('wi…"
      ]
     },
     "metadata": {},
     "output_type": "display_data"
    }
   ],
   "source": [
    "from ipywidgets import interact\n",
    "\n",
    "@interact(theta_sun=(0,89.99,0.1))\n",
    "def g(theta_sun=0):\n",
    "    return plot_atmosphere(theta_sun)"
   ]
  },
  {
   "cell_type": "markdown",
   "id": "8aa6d072",
   "metadata": {
    "cell_style": "center",
    "slideshow": {
     "slide_type": "slide"
    }
   },
   "source": [
    "### Pelicula de material particulado (simulaciones de transferencia radiativa)\n",
    "Este caso corresponde a materiales con $\\Lambda_\\mathrm{sca} > t_\\mathrm{film}$. En este caso los eventos de scattering se producen más de una vez, y decimos que estámos en un régimen de **scattering múltiple**. Como resultado, los tres términos de la RTE son relevantes y debemos resolver la ecuación mediante simulación computacional.\n",
    "\n",
    "<img src=\"./images/multiple_scattering.png\" width=\"400px\" align= center>\n",
    "\n",
    "<center>Transporte de luz en un medio con scattering múltiple</center>"
   ]
  },
  {
   "cell_type": "markdown",
   "id": "bea5c468",
   "metadata": {
    "slideshow": {
     "slide_type": "slide"
    }
   },
   "source": [
    "Consideremos un material de sílice de espesor $t_\\mathrm{film} = 5~\\mathrm{mm}$ con incrustaciones de partículas de plata de forma esférica."
   ]
  },
  {
   "cell_type": "markdown",
   "id": "db4db843",
   "metadata": {},
   "source": [
    "Evaluaremos los colores de este material en transmisión y reflección para luz incidente normal a la superficie en función de la concentración y el diámetro de las partículas. Utilizamos la función ```adm_sphere``` de la librería ```empylib.rad_transfer```"
   ]
  },
  {
   "cell_type": "code",
   "execution_count": 7,
   "id": "24c8d4d6",
   "metadata": {
    "slideshow": {
     "slide_type": "slide"
    },
    "tags": [
     "hide-input"
    ]
   },
   "outputs": [],
   "source": [
    "import empylib.rad_transfer as rt\n",
    "import empylib.nklib as nk\n",
    "import empylib.miescattering as mie\n",
    "import numpy as np\n",
    "import matplotlib.pyplot as plt\n",
    "\n",
    "lam2 = np.linspace(0.3,1.0,100) # espectro de longitudes de onda en micrometros\n",
    "Nlayers = (1.0,1.5,1.0)         # indice de refracción superior, intermedio e inferior\n",
    "Np = nk.silver(lam2)            # Índice de refracción de las partículas\n",
    "cs.interp_internals(lam2)\n",
    "\n",
    "def plot_glass_silver(fv,D):\n",
    "    # parámetros de entrada\n",
    "    \n",
    "    theta = np.radians(0)       # 0 grados en radianes\n",
    "    tfilm = 5                   # espesor en milímetros\n",
    "    \n",
    "    fv = fv*1E-7                # fracción de volúmen de las partículas\n",
    "    D = D*1E-3                  # diámetro de las partículas\n",
    "    \n",
    "    qext, qsca = mie.scatter_efficiency(lam2,Nlayers[1],Np,D)[:2]\n",
    "    qabs = qext - qsca\n",
    "    Rtot, Ttot = rt.adm_sphere(lam2,tfilm,Nlayers,fv,D,Np)\n",
    "\n",
    "    fig, ax = plt.subplots(1,3)\n",
    "    fig.set_size_inches(12, 3)\n",
    "    plt.rcParams['font.size'] = '10'\n",
    "    \n",
    "    ax[0].plot(lam2,qsca,'-r',label='$C_\\mathrm{sca} A_c$')\n",
    "    ax[0].plot(lam2,qabs,'-b',label='$C_\\mathrm{abs} A_c$')\n",
    "    ax[0].set_xlabel('Longitud de onda ($\\mu$m)')\n",
    "    ax[0].set_ylabel('Eficiencia transversal')\n",
    "    ax[0].set_title('Partícula de plata (D=%.0f nm)' % (D*1E3))\n",
    "    ax[0].legend()\n",
    "    ax[0].set_ylim(0,10)\n",
    "    \n",
    "    ax[1].plot(lam2,Rtot,'-r',label = 'Rtot')\n",
    "    ax[1].plot(lam2,Ttot,'-b',label = 'Ttot')\n",
    "    ax[1].set_xlabel('Longitud de onda ($\\mu$m)')\n",
    "    ax[1].set_ylabel('Transmisividad')\n",
    "    ax[1].set_title(r'Sílice con plata (fv = %.3e %%)' % (fv*100) )\n",
    "    ax[1].legend()\n",
    "    ax[1].set_ylim(0,1)\n",
    "\n",
    "    Dcircle = 0.20\n",
    "    html_rgb = cs.spec_to_rgb(Ttot*AM15(lam2), out_fmt='html')\n",
    "    Circle = plt.Circle((0, 0), Dcircle, color=html_rgb)\n",
    "    ax[2].add_patch(Circle)\n",
    "    ax[2].annotate('Luz Trasera', xy=(0, 0), va='center', ha='center')\n",
    "\n",
    "    html_rgb = cs.spec_to_rgb(Rtot*AM15(lam2), out_fmt='html')\n",
    "    Circle = plt.Circle((Dcircle*1.2*2, 0), Dcircle, color=html_rgb)\n",
    "    ax[2].add_patch(Circle)\n",
    "    ax[2].annotate('Luz Frontal', xy=(Dcircle*1.2*2, 0), va='center', ha='center')\n",
    "\n",
    "    ax[2].set_aspect('equal')\n",
    "    ax[2].set_xlim(-Dcircle*1.2,Dcircle*1.2*3)\n",
    "    ax[2].set_ylim(-Dcircle*1.2,Dcircle*1.2)\n",
    "    ax[2].set_xticks([])\n",
    "    ax[2].set_yticks([])\n",
    "    ax[2].set_facecolor('k')\n",
    "    plt.subplots_adjust(wspace=0.3)"
   ]
  },
  {
   "cell_type": "code",
   "execution_count": 8,
   "id": "494ceeb2",
   "metadata": {
    "cell_style": "center",
    "slideshow": {
     "slide_type": "slide"
    },
    "tags": [
     "hide-input"
    ]
   },
   "outputs": [
    {
     "data": {
      "application/vnd.jupyter.widget-view+json": {
       "model_id": "c5471addc8e04b7e8dfd4c4088b05776",
       "version_major": 2,
       "version_minor": 0
      },
      "text/plain": [
       "interactive(children=(IntSlider(value=20, description='fv', min=1), IntSlider(value=70, description='D', max=2…"
      ]
     },
     "metadata": {},
     "output_type": "display_data"
    }
   ],
   "source": [
    "from ipywidgets import interact\n",
    "\n",
    "@interact(fv=(1,100,1), D = (10,200,1))\n",
    "def g(fv=20, D = 70):\n",
    "    return plot_glass_silver(fv,D)"
   ]
  },
  {
   "cell_type": "markdown",
   "id": "031ca52b",
   "metadata": {
    "slideshow": {
     "slide_type": "slide"
    }
   },
   "source": [
    "Cuando la concentración de partículas es densa, el medio se vuelve opaco. Este régimen se denomina **scattering difuso** y permite explicar, entre otras cosas, el color de las nubes o la pintura blanca\n",
    "\n",
    "<img src=\"./images/diffuse_scattering.png\" width=\"400px\" align= center>\n",
    "\n",
    "<center>Transporte de luz en un medio con scattering difuso</center>"
   ]
  },
  {
   "cell_type": "markdown",
   "id": "01df5bd6",
   "metadata": {
    "slideshow": {
     "slide_type": "slide"
    }
   },
   "source": [
    "Un ejemplo interesante corresponde a la leche. En términos simples, la leche es una emulsión formada por pequeñas partículas de grasa dispersas en un medio acuoso. \n",
    "\n",
    "<img src=\"./images/milk_microscope.png\" width=\"400px\" align= center>\n",
    "\n",
    "<center>Imagen de microscópio (40x) de leche orgánica. Las burbujas verdes corresponden al aceite en suspención en agua.</center>\n",
    "\n",
    "Fuente: [Braun K., Hanewald A. and Vilgis T. Foods 8(10): 483(2019)](https://www.ncbi.nlm.nih.gov/pmc/articles/PMC6836175/)"
   ]
  },
  {
   "cell_type": "markdown",
   "id": "225b5528",
   "metadata": {
    "slideshow": {
     "slide_type": "fragment"
    }
   },
   "source": [
    "Como aproximación, consideremos un medio de espesor $1$ cm, compuesto por agua $N_h = 1.3$ y pequeñas partículas esféricas de aceite $N_p = 1.5$. La emulsión considera un 60% de partículas de aceite por volumen."
   ]
  },
  {
   "cell_type": "code",
   "execution_count": 9,
   "id": "72cbfc3e",
   "metadata": {
    "cell_style": "split",
    "slideshow": {
     "slide_type": "slide"
    },
    "tags": [
     "hide-input"
    ]
   },
   "outputs": [],
   "source": [
    "%%capture showplot\n",
    "# import empylib.nklib as nk\n",
    "import numpy as np\n",
    "import empylib.rad_transfer as rt\n",
    "\n",
    "# Solo modificar estos parámetros\n",
    "#---------------------------------------------------------------\n",
    "lam3 = np.linspace(0.3,1.0,100)   # espectro de longitudes de onda\n",
    "tfilm = 10                        # espesor en milímetros\n",
    "fv = 0.50                         # fracción de volúmen de los poros\n",
    "D = 1.0                           # diámetro de los poros (micrones)\n",
    "Nh2o = 1.3                        # Índice de refracción del agua\n",
    "Noil = 1.5                        # índice de refracción partículas de aceite\n",
    "#---------------------------------------------------------------\n",
    "Rtot, Ttot = rt.adm_sphere(lam3,tfilm,(1.0,Nh2o,1.0),fv,D,Noil)\n",
    "\n",
    "fig, ax = plt.subplots()\n",
    "fig.set_size_inches(5, 3.5)\n",
    "plt.rcParams['font.size'] = '12'\n",
    "ax.plot(lam3,Rtot,'-r',label='R')\n",
    "ax.plot(lam3,Ttot,'-b',label='T')\n",
    "ax.set_xlabel('Longitud de onda ($\\mu$m)')\n",
    "ax.set_ylabel('Reflectividad / Transmisividad')\n",
    "ax.set_title(r'Leche (fv = %.0f %%)' % (fv*100))\n",
    "ax.legend()\n",
    "ax.set_ylim(0,1.02)\n",
    "plt.show()"
   ]
  },
  {
   "cell_type": "code",
   "execution_count": 10,
   "id": "9a1291f7",
   "metadata": {
    "cell_style": "split",
    "slideshow": {
     "slide_type": "fragment"
    },
    "tags": [
     "hide-input"
    ]
   },
   "outputs": [
    {
     "data": {
      "image/png": "[encoded data removed]",
      "text/plain": [
       "<Figure size 360x252 with 1 Axes>"
      ]
     },
     "metadata": {
      "filenames": {
       "image/png": "/mnt/c/Users/francisco.ramirez.c/OneDrive - Universidad Adolfo Ibanez/Teaching_courses/MEC501 - Manejo_y_Conversion_Energia_Solar_Termica/material_catedra/_build/jupyter_execute/05_TransporteRadiativo/05_TransporteRadiativo_67_0.png"
      },
      "needs_background": "light"
     },
     "output_type": "display_data"
    }
   ],
   "source": [
    "showplot()"
   ]
  },
  {
   "cell_type": "markdown",
   "id": "6c035f58",
   "metadata": {
    "slideshow": {
     "slide_type": "slide"
    }
   },
   "source": [
    "Como vemos la alta concentración de partículas hace que la refletividad y transmisividad se vuelvan casi uniformes para todas las longitudes de onda. El espectro, así, toma un color blanco frente a una fuente de luz blanca."
   ]
  },
  {
   "cell_type": "markdown",
   "id": "17c1dc23",
   "metadata": {
    "slideshow": {
     "slide_type": "slide"
    }
   },
   "source": [
    "## Referencias\n",
    "- Chen G. **Chapter 5 - Energy Transfer by Waves** in *Nanoscale energy transport and conversion*, 1st Ed, Oxford University Press, 2005"
   ]
  }
 ],
 "metadata": {
  "celltoolbar": "Slideshow",
  "kernelspec": {
   "display_name": "Python 3 (ipykernel)",
   "language": "python",
   "name": "python3"
  },
  "language_info": {
   "codemirror_mode": {
    "name": "ipython",
    "version": 3
   },
   "file_extension": ".py",
   "mimetype": "text/x-python",
   "name": "python",
   "nbconvert_exporter": "python",
   "pygments_lexer": "ipython3",
   "version": "3.9.13"
  },
  "latex_envs": {
   "LaTeX_envs_menu_present": false,
   "autoclose": false,
   "autocomplete": false,
   "bibliofile": "biblio.bib",
   "cite_by": "apalike",
   "current_citInitial": 1,
   "eqLabelWithNumbers": true,
   "eqNumInitial": 2,
   "hotkeys": {
    "equation": "Ctrl-E",
    "itemize": "Ctrl-I"
   },
   "labels_anchors": false,
   "latex_user_defs": false,
   "report_style_numbering": false,
   "user_envs_cfg": true
  },
  "toc": {
   "base_numbering": 1,
   "nav_menu": {},
   "number_sections": false,
   "sideBar": true,
   "skip_h1_title": true,
   "title_cell": "Tabla de contenidos",
   "title_sidebar": "Contenidos",
   "toc_cell": false,
   "toc_position": {
    "height": "calc(100% - 180px)",
    "left": "10px",
    "top": "150px",
    "width": "307.2px"
   },
   "toc_section_display": true,
   "toc_window_display": false
  },
  "varInspector": {
   "cols": {
    "lenName": 16,
    "lenType": 16,
    "lenVar": 40
   },
   "kernels_config": {
    "python": {
     "delete_cmd_postfix": "",
     "delete_cmd_prefix": "del ",
     "library": "var_list.py",
     "varRefreshCmd": "print(var_dic_list())"
    },
    "r": {
     "delete_cmd_postfix": ") ",
     "delete_cmd_prefix": "rm(",
     "library": "var_list.r",
     "varRefreshCmd": "cat(var_dic_list()) "
    }
   },
   "types_to_exclude": [
    "module",
    "function",
    "builtin_function_or_method",
    "instance",
    "_Feature"
   ],
   "window_display": false
  },
  "widgets": {
   "application/vnd.jupyter.widget-state+json": {
    "state": {
     "060eb920062f4526963e95b880e52b34": {
      "model_module": "@jupyter-widgets/base",
      "model_module_version": "1.2.0",
      "model_name": "LayoutModel",
      "state": {
       "_model_module": "@jupyter-widgets/base",
       "_model_module_version": "1.2.0",
       "_model_name": "LayoutModel",
       "_view_count": null,
       "_view_module": "@jupyter-widgets/base",
       "_view_module_version": "1.2.0",
       "_view_name": "LayoutView",
       "align_content": null,
       "align_items": null,
       "align_self": null,
       "border": null,
       "bottom": null,
       "display": null,
       "flex": null,
       "flex_flow": null,
       "grid_area": null,
       "grid_auto_columns": null,
       "grid_auto_flow": null,
       "grid_auto_rows": null,
       "grid_column": null,
       "grid_gap": null,
       "grid_row": null,
       "grid_template_areas": null,
       "grid_template_columns": null,
       "grid_template_rows": null,
       "height": null,
       "justify_content": null,
       "justify_items": null,
       "left": null,
       "margin": null,
       "max_height": null,
       "max_width": null,
       "min_height": null,
       "min_width": null,
       "object_fit": null,
       "object_position": null,
       "order": null,
       "overflow": null,
       "overflow_x": null,
       "overflow_y": null,
       "padding": null,
       "right": null,
       "top": null,
       "visibility": null,
       "width": null
      }
     },
     "0ba43096909c4e08a0082a1b100adcee": {
      "model_module": "@jupyter-widgets/controls",
      "model_module_version": "1.5.0",
      "model_name": "VBoxModel",
      "state": {
       "_dom_classes": [
        "widget-interact"
       ],
       "_model_module": "@jupyter-widgets/controls",
       "_model_module_version": "1.5.0",
       "_model_name": "VBoxModel",
       "_view_count": null,
       "_view_module": "@jupyter-widgets/controls",
       "_view_module_version": "1.5.0",
       "_view_name": "VBoxView",
       "box_style": "",
       "children": [
        "IPY_MODEL_4ae695aafab1486d95be80af0dbeb9db",
        "IPY_MODEL_66c941d2589f4083adb9fb4fad135094",
        "IPY_MODEL_ad11302a7de6493a9b848e557f28ce27",
        "IPY_MODEL_cb759a40fad7465690e1b86d47fe571e"
       ],
       "layout": "IPY_MODEL_54bf6fa361f14d76b8e820f5317edd90"
      }
     },
     "12be558c2b624b08a1dee9a10da53c8b": {
      "model_module": "@jupyter-widgets/base",
      "model_module_version": "1.2.0",
      "model_name": "LayoutModel",
      "state": {
       "_model_module": "@jupyter-widgets/base",
       "_model_module_version": "1.2.0",
       "_model_name": "LayoutModel",
       "_view_count": null,
       "_view_module": "@jupyter-widgets/base",
       "_view_module_version": "1.2.0",
       "_view_name": "LayoutView",
       "align_content": null,
       "align_items": null,
       "align_self": null,
       "border": null,
       "bottom": null,
       "display": null,
       "flex": null,
       "flex_flow": null,
       "grid_area": null,
       "grid_auto_columns": null,
       "grid_auto_flow": null,
       "grid_auto_rows": null,
       "grid_column": null,
       "grid_gap": null,
       "grid_row": null,
       "grid_template_areas": null,
       "grid_template_columns": null,
       "grid_template_rows": null,
       "height": null,
       "justify_content": null,
       "justify_items": null,
       "left": null,
       "margin": null,
       "max_height": null,
       "max_width": null,
       "min_height": null,
       "min_width": null,
       "object_fit": null,
       "object_position": null,
       "order": null,
       "overflow": null,
       "overflow_x": null,
       "overflow_y": null,
       "padding": null,
       "right": null,
       "top": null,
       "visibility": null,
       "width": null
      }
     },
     "1316d93a008241de8b5bd0512f3722a7": {
      "model_module": "@jupyter-widgets/base",
      "model_module_version": "1.2.0",
      "model_name": "LayoutModel",
      "state": {
       "_model_module": "@jupyter-widgets/base",
       "_model_module_version": "1.2.0",
       "_model_name": "LayoutModel",
       "_view_count": null,
       "_view_module": "@jupyter-widgets/base",
       "_view_module_version": "1.2.0",
       "_view_name": "LayoutView",
       "align_content": null,
       "align_items": null,
       "align_self": null,
       "border": null,
       "bottom": null,
       "display": null,
       "flex": null,
       "flex_flow": null,
       "grid_area": null,
       "grid_auto_columns": null,
       "grid_auto_flow": null,
       "grid_auto_rows": null,
       "grid_column": null,
       "grid_gap": null,
       "grid_row": null,
       "grid_template_areas": null,
       "grid_template_columns": null,
       "grid_template_rows": null,
       "height": null,
       "justify_content": null,
       "justify_items": null,
       "left": null,
       "margin": null,
       "max_height": null,
       "max_width": null,
       "min_height": null,
       "min_width": null,
       "object_fit": null,
       "object_position": null,
       "order": null,
       "overflow": null,
       "overflow_x": null,
       "overflow_y": null,
       "padding": null,
       "right": null,
       "top": null,
       "visibility": null,
       "width": null
      }
     },
     "18c706d12e0346af9cb9eca97fa30634": {
      "model_module": "@jupyter-widgets/controls",
      "model_module_version": "1.5.0",
      "model_name": "SliderStyleModel",
      "state": {
       "_model_module": "@jupyter-widgets/controls",
       "_model_module_version": "1.5.0",
       "_model_name": "SliderStyleModel",
       "_view_count": null,
       "_view_module": "@jupyter-widgets/base",
       "_view_module_version": "1.2.0",
       "_view_name": "StyleView",
       "description_width": "",
       "handle_color": null
      }
     },
     "407899c940b94289b793d63a8fbb0a54": {
      "model_module": "@jupyter-widgets/controls",
      "model_module_version": "1.5.0",
      "model_name": "IntSliderModel",
      "state": {
       "_dom_classes": [],
       "_model_module": "@jupyter-widgets/controls",
       "_model_module_version": "1.5.0",
       "_model_name": "IntSliderModel",
       "_view_count": null,
       "_view_module": "@jupyter-widgets/controls",
       "_view_module_version": "1.5.0",
       "_view_name": "IntSliderView",
       "continuous_update": true,
       "description": "fv",
       "description_tooltip": null,
       "disabled": false,
       "layout": "IPY_MODEL_48e5cea2e0f24f85b7bb0ce329b04aaa",
       "max": 100,
       "min": 1,
       "orientation": "horizontal",
       "readout": true,
       "readout_format": "d",
       "step": 1,
       "style": "IPY_MODEL_98bee5eb07ca40a4824b7b0313f4ba2d",
       "value": 20
      }
     },
     "48e5cea2e0f24f85b7bb0ce329b04aaa": {
      "model_module": "@jupyter-widgets/base",
      "model_module_version": "1.2.0",
      "model_name": "LayoutModel",
      "state": {
       "_model_module": "@jupyter-widgets/base",
       "_model_module_version": "1.2.0",
       "_model_name": "LayoutModel",
       "_view_count": null,
       "_view_module": "@jupyter-widgets/base",
       "_view_module_version": "1.2.0",
       "_view_name": "LayoutView",
       "align_content": null,
       "align_items": null,
       "align_self": null,
       "border": null,
       "bottom": null,
       "display": null,
       "flex": null,
       "flex_flow": null,
       "grid_area": null,
       "grid_auto_columns": null,
       "grid_auto_flow": null,
       "grid_auto_rows": null,
       "grid_column": null,
       "grid_gap": null,
       "grid_row": null,
       "grid_template_areas": null,
       "grid_template_columns": null,
       "grid_template_rows": null,
       "height": null,
       "justify_content": null,
       "justify_items": null,
       "left": null,
       "margin": null,
       "max_height": null,
       "max_width": null,
       "min_height": null,
       "min_width": null,
       "object_fit": null,
       "object_position": null,
       "order": null,
       "overflow": null,
       "overflow_x": null,
       "overflow_y": null,
       "padding": null,
       "right": null,
       "top": null,
       "visibility": null,
       "width": null
      }
     },
     "4ae695aafab1486d95be80af0dbeb9db": {
      "model_module": "@jupyter-widgets/controls",
      "model_module_version": "1.5.0",
      "model_name": "IntSliderModel",
      "state": {
       "_dom_classes": [],
       "_model_module": "@jupyter-widgets/controls",
       "_model_module_version": "1.5.0",
       "_model_name": "IntSliderModel",
       "_view_count": null,
       "_view_module": "@jupyter-widgets/controls",
       "_view_module_version": "1.5.0",
       "_view_name": "IntSliderView",
       "continuous_update": true,
       "description": "N",
       "description_tooltip": null,
       "disabled": false,
       "layout": "IPY_MODEL_12be558c2b624b08a1dee9a10da53c8b",
       "max": 1000,
       "min": 1,
       "orientation": "horizontal",
       "readout": true,
       "readout_format": "d",
       "step": 1,
       "style": "IPY_MODEL_e3c842469ce043f6b2beaa21bdea5cb2",
       "value": 1000
      }
     },
     "50779bed41944d5ba499d4b0827b3877": {
      "model_module": "@jupyter-widgets/controls",
      "model_module_version": "1.5.0",
      "model_name": "FloatSliderModel",
      "state": {
       "_dom_classes": [],
       "_model_module": "@jupyter-widgets/controls",
       "_model_module_version": "1.5.0",
       "_model_name": "FloatSliderModel",
       "_view_count": null,
       "_view_module": "@jupyter-widgets/controls",
       "_view_module_version": "1.5.0",
       "_view_name": "FloatSliderView",
       "continuous_update": true,
       "description": "theta_sun",
       "description_tooltip": null,
       "disabled": false,
       "layout": "IPY_MODEL_e36d4e1a98ec4642ac1ffb981ec47bbd",
       "max": 89.99,
       "min": 0.0,
       "orientation": "horizontal",
       "readout": true,
       "readout_format": ".2f",
       "step": 0.1,
       "style": "IPY_MODEL_a601c9c48b12406eb7056ea4c0d49f53",
       "value": 0.0
      }
     },
     "54bf6fa361f14d76b8e820f5317edd90": {
      "model_module": "@jupyter-widgets/base",
      "model_module_version": "1.2.0",
      "model_name": "LayoutModel",
      "state": {
       "_model_module": "@jupyter-widgets/base",
       "_model_module_version": "1.2.0",
       "_model_name": "LayoutModel",
       "_view_count": null,
       "_view_module": "@jupyter-widgets/base",
       "_view_module_version": "1.2.0",
       "_view_name": "LayoutView",
       "align_content": null,
       "align_items": null,
       "align_self": null,
       "border": null,
       "bottom": null,
       "display": null,
       "flex": null,
       "flex_flow": null,
       "grid_area": null,
       "grid_auto_columns": null,
       "grid_auto_flow": null,
       "grid_auto_rows": null,
       "grid_column": null,
       "grid_gap": null,
       "grid_row": null,
       "grid_template_areas": null,
       "grid_template_columns": null,
       "grid_template_rows": null,
       "height": null,
       "justify_content": null,
       "justify_items": null,
       "left": null,
       "margin": null,
       "max_height": null,
       "max_width": null,
       "min_height": null,
       "min_width": null,
       "object_fit": null,
       "object_position": null,
       "order": null,
       "overflow": null,
       "overflow_x": null,
       "overflow_y": null,
       "padding": null,
       "right": null,
       "top": null,
       "visibility": null,
       "width": null
      }
     },
     "5b95a8669c874dba9297f8c708bf1949": {
      "model_module": "@jupyter-widgets/base",
      "model_module_version": "1.2.0",
      "model_name": "LayoutModel",
      "state": {
       "_model_module": "@jupyter-widgets/base",
       "_model_module_version": "1.2.0",
       "_model_name": "LayoutModel",
       "_view_count": null,
       "_view_module": "@jupyter-widgets/base",
       "_view_module_version": "1.2.0",
       "_view_name": "LayoutView",
       "align_content": null,
       "align_items": null,
       "align_self": null,
       "border": null,
       "bottom": null,
       "display": null,
       "flex": null,
       "flex_flow": null,
       "grid_area": null,
       "grid_auto_columns": null,
       "grid_auto_flow": null,
       "grid_auto_rows": null,
       "grid_column": null,
       "grid_gap": null,
       "grid_row": null,
       "grid_template_areas": null,
       "grid_template_columns": null,
       "grid_template_rows": null,
       "height": null,
       "justify_content": null,
       "justify_items": null,
       "left": null,
       "margin": null,
       "max_height": null,
       "max_width": null,
       "min_height": null,
       "min_width": null,
       "object_fit": null,
       "object_position": null,
       "order": null,
       "overflow": null,
       "overflow_x": null,
       "overflow_y": null,
       "padding": null,
       "right": null,
       "top": null,
       "visibility": null,
       "width": null
      }
     },
     "5fe4f66cdcf041718e68fc48ebe297f5": {
      "model_module": "@jupyter-widgets/controls",
      "model_module_version": "1.5.0",
      "model_name": "SliderStyleModel",
      "state": {
       "_model_module": "@jupyter-widgets/controls",
       "_model_module_version": "1.5.0",
       "_model_name": "SliderStyleModel",
       "_view_count": null,
       "_view_module": "@jupyter-widgets/base",
       "_view_module_version": "1.2.0",
       "_view_name": "StyleView",
       "description_width": "",
       "handle_color": null
      }
     },
     "6047e5202c7f46bba239fbe887c97aaf": {
      "model_module": "@jupyter-widgets/base",
      "model_module_version": "1.2.0",
      "model_name": "LayoutModel",
      "state": {
       "_model_module": "@jupyter-widgets/base",
       "_model_module_version": "1.2.0",
       "_model_name": "LayoutModel",
       "_view_count": null,
       "_view_module": "@jupyter-widgets/base",
       "_view_module_version": "1.2.0",
       "_view_name": "LayoutView",
       "align_content": null,
       "align_items": null,
       "align_self": null,
       "border": null,
       "bottom": null,
       "display": null,
       "flex": null,
       "flex_flow": null,
       "grid_area": null,
       "grid_auto_columns": null,
       "grid_auto_flow": null,
       "grid_auto_rows": null,
       "grid_column": null,
       "grid_gap": null,
       "grid_row": null,
       "grid_template_areas": null,
       "grid_template_columns": null,
       "grid_template_rows": null,
       "height": null,
       "justify_content": null,
       "justify_items": null,
       "left": null,
       "margin": null,
       "max_height": null,
       "max_width": null,
       "min_height": null,
       "min_width": null,
       "object_fit": null,
       "object_position": null,
       "order": null,
       "overflow": null,
       "overflow_x": null,
       "overflow_y": null,
       "padding": null,
       "right": null,
       "top": null,
       "visibility": null,
       "width": null
      }
     },
     "66c941d2589f4083adb9fb4fad135094": {
      "model_module": "@jupyter-widgets/controls",
      "model_module_version": "1.5.0",
      "model_name": "FloatSliderModel",
      "state": {
       "_dom_classes": [],
       "_model_module": "@jupyter-widgets/controls",
       "_model_module_version": "1.5.0",
       "_model_name": "FloatSliderModel",
       "_view_count": null,
       "_view_module": "@jupyter-widgets/controls",
       "_view_module_version": "1.5.0",
       "_view_name": "FloatSliderView",
       "continuous_update": true,
       "description": "t",
       "description_tooltip": null,
       "disabled": false,
       "layout": "IPY_MODEL_060eb920062f4526963e95b880e52b34",
       "max": 10.0,
       "min": -10.0,
       "orientation": "horizontal",
       "readout": true,
       "readout_format": ".2f",
       "step": 0.1,
       "style": "IPY_MODEL_b9e95375a6124c6b86a9420e6789a1d8",
       "value": 0.0
      }
     },
     "67fdc016fa2d451cb324d1cb7eba8847": {
      "model_module": "@jupyter-widgets/output",
      "model_module_version": "1.0.0",
      "model_name": "OutputModel",
      "state": {
       "_dom_classes": [],
       "_model_module": "@jupyter-widgets/output",
       "_model_module_version": "1.0.0",
       "_model_name": "OutputModel",
       "_view_count": null,
       "_view_module": "@jupyter-widgets/output",
       "_view_module_version": "1.0.0",
       "_view_name": "OutputView",
       "layout": "IPY_MODEL_6047e5202c7f46bba239fbe887c97aaf",
       "msg_id": "",
       "outputs": [
        {
         "data": {
          "image/png": "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\n",
          "text/plain": "<Figure size 432x288 with 2 Axes>"
         },
         "metadata": {
          "needs_background": "light"
         },
         "output_type": "display_data"
        }
       ]
      }
     },
     "71cd7044a12c42a395dabf890c02da92": {
      "model_module": "@jupyter-widgets/base",
      "model_module_version": "1.2.0",
      "model_name": "LayoutModel",
      "state": {
       "_model_module": "@jupyter-widgets/base",
       "_model_module_version": "1.2.0",
       "_model_name": "LayoutModel",
       "_view_count": null,
       "_view_module": "@jupyter-widgets/base",
       "_view_module_version": "1.2.0",
       "_view_name": "LayoutView",
       "align_content": null,
       "align_items": null,
       "align_self": null,
       "border": null,
       "bottom": null,
       "display": null,
       "flex": null,
       "flex_flow": null,
       "grid_area": null,
       "grid_auto_columns": null,
       "grid_auto_flow": null,
       "grid_auto_rows": null,
       "grid_column": null,
       "grid_gap": null,
       "grid_row": null,
       "grid_template_areas": null,
       "grid_template_columns": null,
       "grid_template_rows": null,
       "height": null,
       "justify_content": null,
       "justify_items": null,
       "left": null,
       "margin": null,
       "max_height": null,
       "max_width": null,
       "min_height": null,
       "min_width": null,
       "object_fit": null,
       "object_position": null,
       "order": null,
       "overflow": null,
       "overflow_x": null,
       "overflow_y": null,
       "padding": null,
       "right": null,
       "top": null,
       "visibility": null,
       "width": null
      }
     },
     "72a383968eee4e9288de3a228c777495": {
      "model_module": "@jupyter-widgets/output",
      "model_module_version": "1.0.0",
      "model_name": "OutputModel",
      "state": {
       "_dom_classes": [],
       "_model_module": "@jupyter-widgets/output",
       "_model_module_version": "1.0.0",
       "_model_name": "OutputModel",
       "_view_count": null,
       "_view_module": "@jupyter-widgets/output",
       "_view_module_version": "1.0.0",
       "_view_name": "OutputView",
       "layout": "IPY_MODEL_1316d93a008241de8b5bd0512f3722a7",
       "msg_id": "",
       "outputs": [
        {
         "data": {
          "image/png": "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\n",
          "text/plain": "<Figure size 864x216 with 3 Axes>"
         },
         "metadata": {
          "needs_background": "light"
         },
         "output_type": "display_data"
        }
       ]
      }
     },
     "894d0bc30eda420984d1b852d40f83ba": {
      "model_module": "@jupyter-widgets/base",
      "model_module_version": "1.2.0",
      "model_name": "LayoutModel",
      "state": {
       "_model_module": "@jupyter-widgets/base",
       "_model_module_version": "1.2.0",
       "_model_name": "LayoutModel",
       "_view_count": null,
       "_view_module": "@jupyter-widgets/base",
       "_view_module_version": "1.2.0",
       "_view_name": "LayoutView",
       "align_content": null,
       "align_items": null,
       "align_self": null,
       "border": null,
       "bottom": null,
       "display": null,
       "flex": null,
       "flex_flow": null,
       "grid_area": null,
       "grid_auto_columns": null,
       "grid_auto_flow": null,
       "grid_auto_rows": null,
       "grid_column": null,
       "grid_gap": null,
       "grid_row": null,
       "grid_template_areas": null,
       "grid_template_columns": null,
       "grid_template_rows": null,
       "height": null,
       "justify_content": null,
       "justify_items": null,
       "left": null,
       "margin": null,
       "max_height": null,
       "max_width": null,
       "min_height": null,
       "min_width": null,
       "object_fit": null,
       "object_position": null,
       "order": null,
       "overflow": null,
       "overflow_x": null,
       "overflow_y": null,
       "padding": null,
       "right": null,
       "top": null,
       "visibility": null,
       "width": null
      }
     },
     "98bee5eb07ca40a4824b7b0313f4ba2d": {
      "model_module": "@jupyter-widgets/controls",
      "model_module_version": "1.5.0",
      "model_name": "SliderStyleModel",
      "state": {
       "_model_module": "@jupyter-widgets/controls",
       "_model_module_version": "1.5.0",
       "_model_name": "SliderStyleModel",
       "_view_count": null,
       "_view_module": "@jupyter-widgets/base",
       "_view_module_version": "1.2.0",
       "_view_name": "StyleView",
       "description_width": "",
       "handle_color": null
      }
     },
     "a601c9c48b12406eb7056ea4c0d49f53": {
      "model_module": "@jupyter-widgets/controls",
      "model_module_version": "1.5.0",
      "model_name": "SliderStyleModel",
      "state": {
       "_model_module": "@jupyter-widgets/controls",
       "_model_module_version": "1.5.0",
       "_model_name": "SliderStyleModel",
       "_view_count": null,
       "_view_module": "@jupyter-widgets/base",
       "_view_module_version": "1.2.0",
       "_view_name": "StyleView",
       "description_width": "",
       "handle_color": null
      }
     },
     "ad11302a7de6493a9b848e557f28ce27": {
      "model_module": "@jupyter-widgets/controls",
      "model_module_version": "1.5.0",
      "model_name": "FloatSliderModel",
      "state": {
       "_dom_classes": [],
       "_model_module": "@jupyter-widgets/controls",
       "_model_module_version": "1.5.0",
       "_model_name": "FloatSliderModel",
       "_view_count": null,
       "_view_module": "@jupyter-widgets/controls",
       "_view_module_version": "1.5.0",
       "_view_name": "FloatSliderView",
       "continuous_update": true,
       "description": "sig",
       "description_tooltip": null,
       "disabled": false,
       "layout": "IPY_MODEL_5b95a8669c874dba9297f8c708bf1949",
       "max": 1.0,
       "min": 0.0,
       "orientation": "horizontal",
       "readout": true,
       "readout_format": ".2f",
       "step": 0.01,
       "style": "IPY_MODEL_18c706d12e0346af9cb9eca97fa30634",
       "value": 0.3
      }
     },
     "b5a0b3cd173f44739a4e8767831ca519": {
      "model_module": "@jupyter-widgets/base",
      "model_module_version": "1.2.0",
      "model_name": "LayoutModel",
      "state": {
       "_model_module": "@jupyter-widgets/base",
       "_model_module_version": "1.2.0",
       "_model_name": "LayoutModel",
       "_view_count": null,
       "_view_module": "@jupyter-widgets/base",
       "_view_module_version": "1.2.0",
       "_view_name": "LayoutView",
       "align_content": null,
       "align_items": null,
       "align_self": null,
       "border": null,
       "bottom": null,
       "display": null,
       "flex": null,
       "flex_flow": null,
       "grid_area": null,
       "grid_auto_columns": null,
       "grid_auto_flow": null,
       "grid_auto_rows": null,
       "grid_column": null,
       "grid_gap": null,
       "grid_row": null,
       "grid_template_areas": null,
       "grid_template_columns": null,
       "grid_template_rows": null,
       "height": null,
       "justify_content": null,
       "justify_items": null,
       "left": null,
       "margin": null,
       "max_height": null,
       "max_width": null,
       "min_height": null,
       "min_width": null,
       "object_fit": null,
       "object_position": null,
       "order": null,
       "overflow": null,
       "overflow_x": null,
       "overflow_y": null,
       "padding": null,
       "right": null,
       "top": null,
       "visibility": null,
       "width": null
      }
     },
     "b9e95375a6124c6b86a9420e6789a1d8": {
      "model_module": "@jupyter-widgets/controls",
      "model_module_version": "1.5.0",
      "model_name": "SliderStyleModel",
      "state": {
       "_model_module": "@jupyter-widgets/controls",
       "_model_module_version": "1.5.0",
       "_model_name": "SliderStyleModel",
       "_view_count": null,
       "_view_module": "@jupyter-widgets/base",
       "_view_module_version": "1.2.0",
       "_view_name": "StyleView",
       "description_width": "",
       "handle_color": null
      }
     },
     "c5471addc8e04b7e8dfd4c4088b05776": {
      "model_module": "@jupyter-widgets/controls",
      "model_module_version": "1.5.0",
      "model_name": "VBoxModel",
      "state": {
       "_dom_classes": [
        "widget-interact"
       ],
       "_model_module": "@jupyter-widgets/controls",
       "_model_module_version": "1.5.0",
       "_model_name": "VBoxModel",
       "_view_count": null,
       "_view_module": "@jupyter-widgets/controls",
       "_view_module_version": "1.5.0",
       "_view_name": "VBoxView",
       "box_style": "",
       "children": [
        "IPY_MODEL_407899c940b94289b793d63a8fbb0a54",
        "IPY_MODEL_f84c56c0044e4038812136748270f2fe",
        "IPY_MODEL_72a383968eee4e9288de3a228c777495"
       ],
       "layout": "IPY_MODEL_71cd7044a12c42a395dabf890c02da92"
      }
     },
     "cb759a40fad7465690e1b86d47fe571e": {
      "model_module": "@jupyter-widgets/output",
      "model_module_version": "1.0.0",
      "model_name": "OutputModel",
      "state": {
       "_dom_classes": [],
       "_model_module": "@jupyter-widgets/output",
       "_model_module_version": "1.0.0",
       "_model_name": "OutputModel",
       "_view_count": null,
       "_view_module": "@jupyter-widgets/output",
       "_view_module_version": "1.0.0",
       "_view_name": "OutputView",
       "layout": "IPY_MODEL_eb1642fdbd4346fb9ec8f7fde5933837",
       "msg_id": "",
       "outputs": [
        {
         "data": {
          "image/png": "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\n",
          "text/plain": "<Figure size 432x216 with 1 Axes>"
         },
         "metadata": {
          "needs_background": "light"
         },
         "output_type": "display_data"
        }
       ]
      }
     },
     "e36d4e1a98ec4642ac1ffb981ec47bbd": {
      "model_module": "@jupyter-widgets/base",
      "model_module_version": "1.2.0",
      "model_name": "LayoutModel",
      "state": {
       "_model_module": "@jupyter-widgets/base",
       "_model_module_version": "1.2.0",
       "_model_name": "LayoutModel",
       "_view_count": null,
       "_view_module": "@jupyter-widgets/base",
       "_view_module_version": "1.2.0",
       "_view_name": "LayoutView",
       "align_content": null,
       "align_items": null,
       "align_self": null,
       "border": null,
       "bottom": null,
       "display": null,
       "flex": null,
       "flex_flow": null,
       "grid_area": null,
       "grid_auto_columns": null,
       "grid_auto_flow": null,
       "grid_auto_rows": null,
       "grid_column": null,
       "grid_gap": null,
       "grid_row": null,
       "grid_template_areas": null,
       "grid_template_columns": null,
       "grid_template_rows": null,
       "height": null,
       "justify_content": null,
       "justify_items": null,
       "left": null,
       "margin": null,
       "max_height": null,
       "max_width": null,
       "min_height": null,
       "min_width": null,
       "object_fit": null,
       "object_position": null,
       "order": null,
       "overflow": null,
       "overflow_x": null,
       "overflow_y": null,
       "padding": null,
       "right": null,
       "top": null,
       "visibility": null,
       "width": null
      }
     },
     "e3c842469ce043f6b2beaa21bdea5cb2": {
      "model_module": "@jupyter-widgets/controls",
      "model_module_version": "1.5.0",
      "model_name": "SliderStyleModel",
      "state": {
       "_model_module": "@jupyter-widgets/controls",
       "_model_module_version": "1.5.0",
       "_model_name": "SliderStyleModel",
       "_view_count": null,
       "_view_module": "@jupyter-widgets/base",
       "_view_module_version": "1.2.0",
       "_view_name": "StyleView",
       "description_width": "",
       "handle_color": null
      }
     },
     "e7a2456580d24aa89f472e3181620aec": {
      "model_module": "@jupyter-widgets/controls",
      "model_module_version": "1.5.0",
      "model_name": "VBoxModel",
      "state": {
       "_dom_classes": [
        "widget-interact"
       ],
       "_model_module": "@jupyter-widgets/controls",
       "_model_module_version": "1.5.0",
       "_model_name": "VBoxModel",
       "_view_count": null,
       "_view_module": "@jupyter-widgets/controls",
       "_view_module_version": "1.5.0",
       "_view_name": "VBoxView",
       "box_style": "",
       "children": [
        "IPY_MODEL_50779bed41944d5ba499d4b0827b3877",
        "IPY_MODEL_67fdc016fa2d451cb324d1cb7eba8847"
       ],
       "layout": "IPY_MODEL_894d0bc30eda420984d1b852d40f83ba"
      }
     },
     "eb1642fdbd4346fb9ec8f7fde5933837": {
      "model_module": "@jupyter-widgets/base",
      "model_module_version": "1.2.0",
      "model_name": "LayoutModel",
      "state": {
       "_model_module": "@jupyter-widgets/base",
       "_model_module_version": "1.2.0",
       "_model_name": "LayoutModel",
       "_view_count": null,
       "_view_module": "@jupyter-widgets/base",
       "_view_module_version": "1.2.0",
       "_view_name": "LayoutView",
       "align_content": null,
       "align_items": null,
       "align_self": null,
       "border": null,
       "bottom": null,
       "display": null,
       "flex": null,
       "flex_flow": null,
       "grid_area": null,
       "grid_auto_columns": null,
       "grid_auto_flow": null,
       "grid_auto_rows": null,
       "grid_column": null,
       "grid_gap": null,
       "grid_row": null,
       "grid_template_areas": null,
       "grid_template_columns": null,
       "grid_template_rows": null,
       "height": null,
       "justify_content": null,
       "justify_items": null,
       "left": null,
       "margin": null,
       "max_height": null,
       "max_width": null,
       "min_height": null,
       "min_width": null,
       "object_fit": null,
       "object_position": null,
       "order": null,
       "overflow": null,
       "overflow_x": null,
       "overflow_y": null,
       "padding": null,
       "right": null,
       "top": null,
       "visibility": null,
       "width": null
      }
     },
     "f84c56c0044e4038812136748270f2fe": {
      "model_module": "@jupyter-widgets/controls",
      "model_module_version": "1.5.0",
      "model_name": "IntSliderModel",
      "state": {
       "_dom_classes": [],
       "_model_module": "@jupyter-widgets/controls",
       "_model_module_version": "1.5.0",
       "_model_name": "IntSliderModel",
       "_view_count": null,
       "_view_module": "@jupyter-widgets/controls",
       "_view_module_version": "1.5.0",
       "_view_name": "IntSliderView",
       "continuous_update": true,
       "description": "D",
       "description_tooltip": null,
       "disabled": false,
       "layout": "IPY_MODEL_b5a0b3cd173f44739a4e8767831ca519",
       "max": 200,
       "min": 10,
       "orientation": "horizontal",
       "readout": true,
       "readout_format": "d",
       "step": 1,
       "style": "IPY_MODEL_5fe4f66cdcf041718e68fc48ebe297f5",
       "value": 70
      }
     }
    },
    "version_major": 2,
    "version_minor": 0
   }
  }
 },
 "nbformat": 4,
 "nbformat_minor": 5
}