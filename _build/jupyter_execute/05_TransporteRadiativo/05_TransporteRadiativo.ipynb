{
 "cells": [
  {
   "cell_type": "markdown",
   "id": "8b01ca79",
   "metadata": {
    "slideshow": {
     "slide_type": "slide"
    }
   },
   "source": [
    " <font size=\"6\">MEC501 - Manejo y Conversión de Energía Solar Térmica</font>\n",
    "# Transporte Radiativo\n",
    "<br><br><br><br>\n",
    "Profesor: Francisco Ramírez Cuevas<br>\n",
    "Fecha: 9 de Septiembre 2022"
   ]
  },
  {
   "cell_type": "markdown",
   "id": "9ff4cae4",
   "metadata": {
    "slideshow": {
     "slide_type": "slide"
    }
   },
   "source": [
    "## Coherencia de la luz e interferencia\n",
    "Como veremos en las próximas clases, las vibraciones moleculares en la materia son las responsables de emitir radiación en forma de ondas electromagnéticas. El mecanismo es similar, pero inverso, al mecanismo de absorción de luz, el cual es originado por la interacción de ondas electromagnéticas con las vibraciones moleculares (ver clase 3)."
   ]
  },
  {
   "cell_type": "markdown",
   "id": "bcb7cf39",
   "metadata": {
    "slideshow": {
     "slide_type": "fragment"
    }
   },
   "source": [
    "Dicho esto, dos moléculas pueden emitir radiación con una pequeña variación en la longitud de onda $\\Delta\\lambda$. Esto ocurre porque las vibraciones no están 100% correlacionadas, es decir, existe un grado de aletoriedad en las vibraciones."
   ]
  },
  {
   "cell_type": "markdown",
   "id": "16081fa2",
   "metadata": {
    "slideshow": {
     "slide_type": "slide"
    }
   },
   "source": [
    "Esta aletoriedad en las vibraciones da lugar a una distribución del flujo de radiación emitido por una fuente.\n",
    "\n",
    "<img src=\"./images/light_source_spectra.png\" width=\"800px\" align= center>"
   ]
  },
  {
   "cell_type": "markdown",
   "id": "b54cf722",
   "metadata": {
    "slideshow": {
     "slide_type": "slide"
    }
   },
   "source": [
    "Por ejemplo, consideremos una fuente de luz con una distribución espectral normal, centrada en $\\lambda_0$ y con una desviación estandar $\\pm\\sigma_\\lambda\\lambda_0$, con $\\sigma_\\lambda \\in [0,1]$. Imaginemos esta fuente como $N$ emisores, donde cada emisor $j$ emite ondas electromagnéticas con longitud de onda $\\lambda \\pm\\Delta \\lambda_j$, donde $\\Delta \\lambda_j$ es escogido aleatoriamente a partir de la distribución normal."
   ]
  },
  {
   "cell_type": "markdown",
   "id": "31f81723",
   "metadata": {
    "cell_style": "split",
    "slideshow": {
     "slide_type": "fragment"
    }
   },
   "source": [
    "<img src=\"./images/normal_distribution.png\" width=\"400px\" align= center>"
   ]
  },
  {
   "cell_type": "markdown",
   "id": "76d68ef4",
   "metadata": {
    "cell_style": "split",
    "slideshow": {
     "slide_type": "fragment"
    }
   },
   "source": [
    "Asumiendo ondas en el aire en dirección $\\hat{k} = \\hat{x}$, el campo eléctrico resultante es:\n",
    "\n",
    "\\begin{equation*}\n",
    "\\vec{E}_\\mathrm{tot} = \\sum_j^N E_0e^{i\\left(k_jx - \\omega_j t\\right)} \\hat{z},\n",
    "\\end{equation*}\n",
    "\n",
    "donde $k_j = \\frac{2\\pi}{\\lambda \\pm\\Delta \\lambda_j}$, y $\\omega_j = c_0k_j$"
   ]
  },
  {
   "cell_type": "markdown",
   "id": "e5e55e68",
   "metadata": {
    "cell_style": "center",
    "slideshow": {
     "slide_type": "fragment"
    }
   },
   "source": [
    "Analicemos el comportamiento de $\\vec{E}_\\mathrm{tot} /E_0$ para $\\lambda_0 = 500$ nm"
   ]
  },
  {
   "cell_type": "code",
   "execution_count": 1,
   "id": "37df7e74",
   "metadata": {
    "cell_style": "split",
    "slideshow": {
     "slide_type": "slide"
    },
    "tags": [
     "hide-input"
    ]
   },
   "outputs": [],
   "source": [
    "import numpy as np\n",
    "from numpy.random import normal\n",
    "import matplotlib.pyplot as plt\n",
    "\n",
    "def light_packet(kdir, x, t, lam, sig, N):\n",
    "    c0 = 3E8          # velocidad de la luz (m/s)\n",
    "    xx = np.meshgrid(x,np.ones(N))[0]\n",
    "    \n",
    "    # Generamos arreglo de ondas aleatorias\n",
    "    dlamj =  normal(0, lam*sig,N)\n",
    "    kj = (2*np.pi/(lam + dlamj)).reshape(-1,1)\n",
    "    wj = c0*kj\n",
    "    Erand = np.exp(1j*(kdir*kj*xx-wj*t)) \n",
    "    \n",
    "    # Sumamos todas las ondas\n",
    "    return np.sum(Erand,axis=0)\n",
    " \n",
    "def plot_light_packet(N, t, sig):\n",
    "    '''\n",
    "    n: número de ondas generadas\n",
    "    t: tiempo en ns\n",
    "    sig: % de ancho de banda (dlam = sig*lam)\n",
    "    '''\n",
    "    lam = 0.5         # longitud de onda (um)\n",
    "    t = t*1E-9 # convertimos ns a s\n",
    "    \n",
    "    # recorrido de la onda\n",
    "    x = np.linspace(-2,2,1000)  # desde 0 a 4 micrones\n",
    "    E = light_packet(1, x, t, lam, sig, N)\n",
    "    \n",
    "    # Graficamos\n",
    "    fig, ax = plt.subplots()\n",
    "    fig.set_size_inches(9, 5)\n",
    "    plt.rcParams['font.size'] = '18'\n",
    "    \n",
    "    ax.plot(x,np.real(E), 'k')\n",
    "    ax.set_xlabel('x ($\\mu$m)')\n",
    "    ax.set_ylabel('Amplitud $|E|/E_0$')\n",
    "    ax.set_ylim(-N*1.1,N*1.1)\n",
    "    ax.grid()\n"
   ]
  },
  {
   "cell_type": "code",
   "execution_count": 2,
   "id": "5c81aca7",
   "metadata": {
    "cell_style": "split",
    "slideshow": {
     "slide_type": "fragment"
    },
    "tags": [
     "hide-input"
    ]
   },
   "outputs": [
    {
     "data": {
      "application/vnd.jupyter.widget-view+json": {
       "model_id": "96d9dc385c7149f6bb6a992ec7779746",
       "version_major": 2,
       "version_minor": 0
      },
      "text/plain": [
       "interactive(children=(IntSlider(value=1000, description='N', max=1000, min=1), FloatSlider(value=0.0, descript…"
      ]
     },
     "metadata": {},
     "output_type": "display_data"
    }
   ],
   "source": [
    "from ipywidgets import interact\n",
    "\n",
    "@interact( N=(1,1000,1), \n",
    "           t=(-10,10,0.1),\n",
    "           sig=(0,1,0.01))\n",
    "def g(N=1000, t=0, sig=0.3):\n",
    "    return plot_light_packet(N,t,sig)"
   ]
  },
  {
   "cell_type": "markdown",
   "id": "b53bb755",
   "metadata": {
    "slideshow": {
     "slide_type": "slide"
    }
   },
   "source": [
    "### Longitud de coherencia\n",
    "Definimos como **longitud de coherencia**, $l_c$, a la distancia donde un grupo de ondas electromagnética mantiene correlación entre las fases. Para longitudes mayores a $l_c$, decimos que la luz es incoherente, es decir, el desface entre las distintas ondas es completamente aleatorio."
   ]
  },
  {
   "cell_type": "markdown",
   "id": "3ea340f8",
   "metadata": {
    "cell_style": "split",
    "slideshow": {
     "slide_type": "fragment"
    }
   },
   "source": [
    "<img src=\"./images/coherence_length.png\" width=\"300px\" align= center>\n",
    "\n",
    "<center>Esquema de un paquete de onda emitido por una fuente con longitud de coherencia $l_c$</center>"
   ]
  },
  {
   "cell_type": "markdown",
   "id": "1f71b46f",
   "metadata": {
    "cell_style": "split",
    "slideshow": {
     "slide_type": "fragment"
    }
   },
   "source": [
    "La relación entre $l_c$, la longitud de onda central $\\lambda$ y el ancho de banda $\\Delta\\lambda$ está dado, aproximadamente, por la relación:\n",
    "\n",
    "\\begin{equation*}\n",
    "l_c \\approx \\frac{\\lambda^2}{n\\Delta \\lambda},\n",
    "\\end{equation*}\n",
    "\n",
    "donde $n$ es el indice de refracción del medio donde se propaga la luz.\n",
    "\n",
    "Por ejemplo, para lasers He-Ne (laser rojo)  $l_c\\approx 0.2 - 100$ m.  "
   ]
  },
  {
   "cell_type": "markdown",
   "id": "b8e319bd",
   "metadata": {
    "slideshow": {
     "slide_type": "slide"
    }
   },
   "source": [
    "Para radiación emitida por un cuerpo a temperatura $T$, la longitud de coherencia está dada por:\n",
    "\n",
    "\\begin{equation*}\n",
    "l_c T = 2167.8~\\mathrm{\\mu m~K}\n",
    "\\end{equation*}\n",
    "\n",
    "Así, por ejemplo, la radiación solar ($T \\approx 5800~\\mathrm{K}$) tiene una longitud de coherencia, $l_c \\approx 370~\\mathrm{nm}$"
   ]
  },
  {
   "cell_type": "markdown",
   "id": "659f7454",
   "metadata": {
    "slideshow": {
     "slide_type": "slide"
    }
   },
   "source": [
    "### Régimen de trasporte de luz\n",
    "Consideremos dos paquetes de onda con una longitud de coherencia $l_c$, viajando en sentido opuesto."
   ]
  },
  {
   "cell_type": "markdown",
   "id": "1b6928bc",
   "metadata": {
    "slideshow": {
     "slide_type": "fragment"
    }
   },
   "source": [
    "Podemos ver que ambos paquetes de luz interfieren en $x = 0$ en un instante $t$. Al continuar su camino, ambos paquetes de onda recuperan su forma original."
   ]
  },
  {
   "cell_type": "code",
   "execution_count": 3,
   "id": "8b9e3e63",
   "metadata": {
    "cell_style": "split",
    "slideshow": {
     "slide_type": "slide"
    },
    "tags": [
     "hide-input"
    ]
   },
   "outputs": [],
   "source": [
    "def plot_2light_packet(n, t, sig):\n",
    "    '''\n",
    "    n: número de ondas generadas\n",
    "    t: tiempo en ns\n",
    "    sig: % de ancho de banda (dlam = sig*lam)\n",
    "    '''\n",
    "    t = t*1E-9 # convertimos ns a s\n",
    "    lam = 0.5\n",
    "    \n",
    "    # recorrido de la onda\n",
    "    x = np.linspace(-2,2,1000)  # desde 0 a 4 micrones\n",
    "    k0 = 2*np.pi/lam\n",
    "    Efw = light_packet( 1, x - x[ 0], t, lam, sig, n)\n",
    "    Ebw = light_packet(-1, x - x[-1], t, lam, sig, n)\n",
    "    \n",
    "    # Graficamos\n",
    "    fig, ax = plt.subplots()\n",
    "    fig.set_size_inches(9, 5)\n",
    "    plt.rcParams['font.size'] = '18'\n",
    "    \n",
    "    ax.plot(x,np.real(Efw + Ebw), 'k')\n",
    "    ax.set_xlabel('x ($\\mu$m)')\n",
    "    ax.set_ylabel('Amplitud $|E|/E_0$')\n",
    "    ax.set_ylim(-n*2.1,n*2.1)\n",
    "    ax.grid()\n"
   ]
  },
  {
   "cell_type": "code",
   "execution_count": 4,
   "id": "977daeda",
   "metadata": {
    "cell_style": "split",
    "tags": [
     "hide-input"
    ]
   },
   "outputs": [
    {
     "data": {
      "application/vnd.jupyter.widget-view+json": {
       "model_id": "18b0ac5d79e44ee7bd2680ce2f80a60e",
       "version_major": 2,
       "version_minor": 0
      },
      "text/plain": [
       "interactive(children=(IntSlider(value=1000, description='N', max=1000, min=1), FloatSlider(value=2.0, descript…"
      ]
     },
     "metadata": {},
     "output_type": "display_data"
    }
   ],
   "source": [
    "from ipywidgets import interact\n",
    "\n",
    "@interact( N=(1,1000,1), \n",
    "           t=(0,20,0.1),\n",
    "           sig=(0,1,0.01))\n",
    "def g(N=1000, t=2, sig=0.3):\n",
    "    return plot_2light_packet(N,t,sig)"
   ]
  },
  {
   "cell_type": "markdown",
   "id": "615ad1c6",
   "metadata": {
    "slideshow": {
     "slide_type": "slide"
    }
   },
   "source": [
    "A partir de esto, podemos concluir que los fenómenos de interferencia en películas de capa delgada de espesor $d$ no serían visibles si $d > l_c$. En otras palabras, el fenómeno de interferencia solo existe si el paquete de onda interfiere consigo mismo."
   ]
  },
  {
   "cell_type": "markdown",
   "id": "db4d20e4",
   "metadata": {
    "cell_style": "split",
    "slideshow": {
     "slide_type": "fragment"
    }
   },
   "source": [
    "<img src=\"./images/interference_thinfilm.png\" width=\"200px\" align= center>\n",
    "\n",
    "<center>Propagación de una onda a través de una película de espesor $d$, con $l_c < d$</center>"
   ]
  },
  {
   "cell_type": "markdown",
   "id": "fce7ef57",
   "metadata": {
    "cell_style": "split",
    "slideshow": {
     "slide_type": "fragment"
    }
   },
   "source": [
    "En general, para una longitud características $d$:\n",
    "\n",
    "- Si $d > l_c$ el **transporte de luz es incoherente** . En este régimen, podemos ignorar las propiedades oscilatorias de la luz, y analizar el problema como el transporte de pequeños paquetes de onda, o simplemente como partículas.\n",
    "\n",
    "- Si $d < l_c$, el **transporte de luz es coherente**. En este régimen debemos considerar las propiedades oscilatorias a partir de las Ecuaciones de Maxwell."
   ]
  },
  {
   "cell_type": "markdown",
   "id": "06aab8e7",
   "metadata": {
    "cell_style": "center",
    "slideshow": {
     "slide_type": "slide"
    }
   },
   "source": [
    "Así, los coeficientes de Fresnel para una película delgada solo son válidos para $d < l_c$. "
   ]
  },
  {
   "cell_type": "markdown",
   "id": "c7f85265",
   "metadata": {
    "cell_style": "split",
    "slideshow": {
     "slide_type": "fragment"
    }
   },
   "source": [
    "Los coeficientes de Fresnel para una interface, en cambio, siempre son válidos."
   ]
  },
  {
   "cell_type": "markdown",
   "id": "57178760",
   "metadata": {
    "cell_style": "split",
    "slideshow": {
     "slide_type": "fragment"
    }
   },
   "source": [
    "<img src=\"./images/interference_interface.png\" width=\"350px\" align= center>\n",
    "\n",
    "<center>Refracción y reflexión de una onda incoherente a través de una interfaz</center>"
   ]
  },
  {
   "cell_type": "markdown",
   "id": "0c79f1b6",
   "metadata": {
    "slideshow": {
     "slide_type": "slide"
    }
   },
   "source": [
    "Igualmente, en medios particulados, los fenómenos de interferencia pueden ocurrir si las partículas están suficientemente cerca y tienen tamaños similares. Llamamos a esto **scattering coherente**"
   ]
  },
  {
   "cell_type": "markdown",
   "id": "61e2a519",
   "metadata": {
    "slideshow": {
     "slide_type": "fragment"
    }
   },
   "source": [
    "<img src=\"./images/scattering_coherence.png\" width=\"600px\" align= center>\n",
    "\n",
    "<center>Fenómeno de interferencia en scattering</center>"
   ]
  },
  {
   "cell_type": "markdown",
   "id": "8167d93c",
   "metadata": {
    "slideshow": {
     "slide_type": "slide"
    }
   },
   "source": [
    "El fenómeno de scattering coherente da lugar a los denominados **colores estructurales** presentes en las alas de las aves y mariposas (mas info [acá](https://wires.onlinelibrary.wiley.com/doi/10.1002/wnan.1396))"
   ]
  },
  {
   "cell_type": "markdown",
   "id": "06446d60",
   "metadata": {
    "cell_style": "split",
    "slideshow": {
     "slide_type": "fragment"
    }
   },
   "source": [
    "<img src=\"./images/structural_colors_birds.png\" width=\"550px\" align= center>\n",
    "\n",
    "<center>Colores estructurales en alas de aves</center>\n",
    "\n",
    "Fuente: [Hwang, V. et al. PNAS 118 (4) e2015551118\n",
    " (2020)](https://www.pnas.org/doi/10.1073/pnas.2015551118)"
   ]
  },
  {
   "cell_type": "markdown",
   "id": "71eaafb2",
   "metadata": {
    "cell_style": "split",
    "slideshow": {
     "slide_type": "fragment"
    }
   },
   "source": [
    "<img src=\"./images/structural_colors_buterflies.png\" width=\"450px\" align= center>\n",
    "\n",
    "<center>Colores estructurales en alas de mariposa</center>\n",
    "\n",
    "Fuente: [Tippets C. A. et al. J. Opt. 18 (2016) 065105](https://iopscience.iop.org/article/10.1088/2040-8978/18/6/065105)"
   ]
  },
  {
   "cell_type": "markdown",
   "id": "f629fcbe",
   "metadata": {
    "slideshow": {
     "slide_type": "slide"
    }
   },
   "source": [
    "## Teoría de transferencia radiativa\n",
    "Si el transporte de luz es incoherente, podemos ignorar las propiedades oscilatorias de la luz y analizar el fenómeno óptico como un el transporte de radiación a través de un volumen de control."
   ]
  },
  {
   "cell_type": "markdown",
   "id": "f62e3c70",
   "metadata": {
    "slideshow": {
     "slide_type": "slide"
    }
   },
   "source": [
    "### Intensidad específica"
   ]
  },
  {
   "cell_type": "markdown",
   "id": "790c7714",
   "metadata": {
    "cell_style": "split",
    "slideshow": {
     "slide_type": "-"
    }
   },
   "source": [
    "Definimos como **radiancia espectral o intensidad específica**, $I_\\lambda$, al flujo de energía por **ángulo sólido diferencial**, $d\\Omega$, para una longitud de onda $\\lambda$.\n",
    "\n",
    "<img src=\"./images/specific_intensity.png\" width=\"300px\" align= center>"
   ]
  },
  {
   "cell_type": "markdown",
   "id": "8568f20b",
   "metadata": {
    "cell_style": "split",
    "slideshow": {
     "slide_type": "fragment"
    }
   },
   "source": [
    "El ángulo sólido define el tamaño relativo del área $S$ para un observador en $P$ a una distancia $r$. \n",
    "\n",
    "El diferencial está definido por $d\\Omega = \\sin\\theta d\\theta d\\phi$\n",
    "\n",
    "<img src=\"./images/solid_angle.png\" width=\"450px\" align= center>"
   ]
  },
  {
   "cell_type": "markdown",
   "id": "0d8ed016",
   "metadata": {
    "slideshow": {
     "slide_type": "slide"
    }
   },
   "source": [
    "Es importante aclarar que los conceptos intensidad específica y vector de Poynting $\\langle\\vec{S}\\rangle$, son equivalentes: $I_\\lambda(\\hat{k})$ es un término utilizado en radiometría para definir el flujo de energía por unidad de ángulo sólido, mientras que $\\langle\\vec{S}\\rangle$ es un término ulizado en óptica para describir el flujo de energía en dirección $\\hat{k}$. Cabe destacar, sin embargo, que $I_\\lambda(\\hat{k})$ es una magnitud, y $\\langle\\vec{S}\\rangle$ es un vector. Así, podríamos decir que la relación entre estos dos términos está dada por $I_\\lambda(\\hat{k}) = \\langle\\vec{S}\\rangle\\cdot\\hat{k}$."
   ]
  },
  {
   "cell_type": "markdown",
   "id": "067ade0b",
   "metadata": {
    "slideshow": {
     "slide_type": "fragment"
    }
   },
   "source": [
    "El ángulo sólido total para una esfera es:\n",
    "\\begin{equation*}\n",
    "\\int_\\mathrm{esfera} d\\Omega = \\int_0^{2\\pi}\\int_0^{\\pi} \\sin\\theta d\\theta d\\phi= 4\\pi\n",
    "\\end{equation*}"
   ]
  },
  {
   "cell_type": "markdown",
   "id": "921c9262",
   "metadata": {
    "slideshow": {
     "slide_type": "slide"
    }
   },
   "source": [
    "### Ecuación de transferencia radiativa\n",
    "La **ecuación de transferencia radiativa** (RTE por sus siglas en ingles), es una ecuación de transporte que describe la propagación de la radiancia espectral, $I_\\lambda(\\vec{r},\\hat{k})$, en función de la posición posición $\\vec{r}$ y dirección $\\hat{k}$. En su forma más general, para un problema estacionario:\n",
    "\n",
    "\\begin{equation}\n",
    "\\hat{k}\\cdot\\nabla_r I_\\lambda(\\vec{r},\\hat{k}) = - \\left[\\frac{f_v}{V_p}C_\\mathrm{ext} + 2\\kappa k_0\\right]I_\\lambda(\\vec{r},\\hat{k}) + \\frac{f_v}{V_p}\\int_{4\\pi} P_\\mathrm{sca}(\\hat{k},\\hat{k}') I_\\lambda(\\vec{r},\\hat{k}') d\\Omega'\n",
    "\\end{equation}"
   ]
  },
  {
   "cell_type": "markdown",
   "id": "44c82ce8",
   "metadata": {
    "slideshow": {
     "slide_type": "fragment"
    }
   },
   "source": [
    "donde $f_v$ y $V_p$ son, respectivamente la fracción de volúmen y el volúmen de las partículas en el medio, y $P_\\mathrm{sca}(\\hat{k},\\hat{k}')$ es la función de fase."
   ]
  },
  {
   "cell_type": "markdown",
   "id": "84f7041f",
   "metadata": {
    "slideshow": {
     "slide_type": "slide"
    }
   },
   "source": [
    "Notar que consideramos el caso más generalizado de la función de fase, que depende tanto de la dirección de la radiación incidente $\\hat{k}$ como de la dirección del scattering $\\hat{k}'$. Ambas definidas por ángulo sólido"
   ]
  },
  {
   "cell_type": "markdown",
   "id": "556660a5",
   "metadata": {
    "cell_style": "center",
    "slideshow": {
     "slide_type": "fragment"
    }
   },
   "source": [
    "En el caso de una esfera, $\\hat{k}_\\mathrm{sca} = \\hat{k}$ y $\\hat{k}_\\mathrm{inc} = \\hat{k}'$. Así, la función de fase depende de $\\theta$, el cual está definido por $\\cos\\theta = \\hat{k}\\cdot\\hat{k}'$\n",
    "\n"
   ]
  },
  {
   "cell_type": "markdown",
   "id": "b7b71333",
   "metadata": {
    "slideshow": {
     "slide_type": "slide"
    }
   },
   "source": [
    "Con esto en mente, ahora podemos discutir el significado de los términos en la RTE:"
   ]
  },
  {
   "cell_type": "markdown",
   "id": "12e1a1e8",
   "metadata": {
    "slideshow": {
     "slide_type": "fragment"
    }
   },
   "source": [
    "- El primer término representa el cambio de $I_\\lambda(\\vec{r},\\hat{k})$ a través volumen diferencial. Por ejemplo, en el caso unidimencional en dirección $\\hat{k} = \\hat{x}$, tenemos: \n",
    "\n",
    "\\begin{equation*}\n",
    "\\hat{x}\\cdot\\nabla_r I_\\lambda(\\vec{r},\\hat{k}) = \\frac{\\partial}{\\partial x}I_\\lambda(\\vec{r},\\hat{k})\n",
    "\\end{equation*}"
   ]
  },
  {
   "cell_type": "markdown",
   "id": "231c3da9",
   "metadata": {
    "slideshow": {
     "slide_type": "fragment"
    }
   },
   "source": [
    "- El segundo término representa la pérdida de energía radiativa, por extinción $\\left(\\frac{f_v}{V_p}C_\\mathrm{ext}\\right)$ y absorción en el material material ($2\\kappa k_0$), respectivamente. Recordemos que la extinción representa la energía absorbida por las partículas + la energía de scattering en direcciónes distintas a $\\hat{k}$, es decir $C_\\mathrm{ext}= C_\\mathrm{abs} + C_\\mathrm{sca}$."
   ]
  },
  {
   "cell_type": "markdown",
   "id": "4754c5ed",
   "metadata": {
    "slideshow": {
     "slide_type": "fragment"
    }
   },
   "source": [
    "- El tercer término representa la ganancia de energía radiativa produco del scattering inducido por radiación incidente en dirección $\\hat{k}'$. Este término representa el fenómeno de **scattering múltiple**."
   ]
  },
  {
   "cell_type": "markdown",
   "id": "43766712",
   "metadata": {
    "slideshow": {
     "slide_type": "slide"
    }
   },
   "source": [
    "## Soluciones de la RTE\n",
    "La ecuación de transferencia radiativa permite explicar de forma fenomenológica el transporte de radiación en un medio particulado. Debido a su complejidad, existen pocas soluciones analíticas. En esta sección describiremos las tres más conocidas."
   ]
  },
  {
   "cell_type": "markdown",
   "id": "6037462f",
   "metadata": {
    "slideshow": {
     "slide_type": "slide"
    }
   },
   "source": [
    "### Película de material sin partículas (Reflectividad y Transmisividad incoherente)\n",
    "En el caso de un medio sin partículas solo debemos considerar el primer término de la RTE. "
   ]
  },
  {
   "cell_type": "markdown",
   "id": "38e80853",
   "metadata": {
    "slideshow": {
     "slide_type": "fragment"
    }
   },
   "source": [
    "Para el caso particular de un material de espesor $t_\\mathrm{film}$ e índice de refracción $N = n + \\kappa$, rodeado por un medio con índice de refracción $N_0$, derivamos las siguientes relaciones de reflectividad y tranmisividad para luz incoherente:\n",
    "\n",
    "\\begin{align}\n",
    "R_\\mathrm{incoh}&= R_0 + \\frac{T_0^2R_0e^{-4\\kappa k_0 t_\\mathrm{film}}}{1 - R_0^2e^{-4\\kappa k_0 t_\\mathrm{film}}} \n",
    "\\\\[10pt]\n",
    "T_\\mathrm{incoh} &= \\frac{T_0^2e^{-4\\kappa k_0 t_\\mathrm{film}}}{1 - R_0^2e^{-4\\kappa k_0 t_\\mathrm{film}}}\n",
    "\\end{align}\n",
    "\n",
    "donde $R_0$ y $T_0$ corresponden, respectivamente, a la reflectividad y transmisividad en la interface $N_0 / N_1$"
   ]
  },
  {
   "cell_type": "markdown",
   "id": "7b8cb924",
   "metadata": {
    "slideshow": {
     "slide_type": "slide"
    }
   },
   "source": [
    "En el siguiente ejemplo, utilizamos la función ```incoh_multilayer``` de la libreria ```empylib.waveoptics```. Esta función es más general que la ecuación anterior y permite determinar $R_\\mathrm{incoh}$ y $T_\\mathrm{incoh}$ para arreglos multicapas. "
   ]
  },
  {
   "cell_type": "markdown",
   "id": "2a3e7bbc",
   "metadata": {
    "slideshow": {
     "slide_type": "fragment"
    }
   },
   "source": [
    "En este caso, evaluaremos una película de sílice de espesor $1~\\mu\\mathrm{m}$, sobre un sustrato con íncide de refracción $N_\\mathrm{back} = 4.3$, y con aire en la superficie $N_\\mathrm{front} = 1.0$. El espectro de longitudes de onda $\\lambda\\in[0.3,0.8]~\\mu\\mathrm{m}$ y el ángulo de incidencia $\\theta_i = 30°$. Para comparar, determinaremos $R$ y $T$ para el caso de luz coherente."
   ]
  },
  {
   "cell_type": "code",
   "execution_count": 5,
   "id": "a99aa431",
   "metadata": {
    "cell_style": "split",
    "slideshow": {
     "slide_type": "slide"
    },
    "tags": [
     "hide-input"
    ]
   },
   "outputs": [],
   "source": [
    "import numpy as np\n",
    "import empylib.waveoptics as wv\n",
    "import empylib.nklib as nk\n",
    "\n",
    "lam = np.linspace(2,10,100)  # espectro de longitudes de onda (um)\n",
    "theta = np.radians(30)          # ángulo de incidencia\n",
    "\n",
    "Nfront = 1.0                 # índice de refracción medio superior\n",
    "N1     = nk.SiO2(lam)        # índice de refracción capa delgada\n",
    "Nback  = 4.3                 # índice de refracción medio inferior\n",
    "N = (Nfront, N1, Nback)      # indices de refracción (above, mid, below)\n",
    "d = 1.0                      # espesor capa intermedia (um)\n",
    "\n",
    "# caso luz incoherente\n",
    "Rp_incoh, Tp_incoh = wv.incoh_multilayer(lam,theta, N, d, pol='TM')\n",
    "# caso luz coherente\n",
    "Rp, Tp = wv.multilayer(lam,theta, N, d, pol='TM')[:2]"
   ]
  },
  {
   "cell_type": "code",
   "execution_count": 6,
   "id": "3bee2ad8",
   "metadata": {
    "cell_style": "split",
    "slideshow": {
     "slide_type": "fragment"
    },
    "tags": [
     "hide-input"
    ]
   },
   "outputs": [
    {
     "data": {
      "image/png": "[encoded data removed]",
      "text/plain": [
       "<Figure size 700x500 with 1 Axes>"
      ]
     },
     "metadata": {
      "filenames": {
       "image/png": "/mnt/c/Users/frami/OneDrive - Universidad Adolfo Ibanez/Teaching_courses/MEC501 - Manejo_y_Conversion_Energia_Solar_Termica/material_catedra/_build/jupyter_execute/05_TransporteRadiativo/05_TransporteRadiativo_49_0.png"
      }
     },
     "output_type": "display_data"
    }
   ],
   "source": [
    "fig, ax = plt.subplots()\n",
    "fig.set_size_inches(7, 5)\n",
    "plt.rcParams['font.size'] = '16'\n",
    "\n",
    "# Graficamos el flujo de energía\n",
    "plt.plot(lam,Rp,'--r',label='$R_\\mathrm{TM}$ (coh)')\n",
    "plt.plot(lam,Tp,'--b',label='$T_\\mathrm{TM}$ (coh)')\n",
    "plt.plot(lam,Rp_incoh,'-r',label='$R_\\mathrm{TM}$ (incoh)')\n",
    "plt.plot(lam,Tp_incoh,'-b',label='$T_\\mathrm{TM}$ (incoh)')\n",
    "plt.title('arreglo 1.0/1.5/4.3')\n",
    "plt.xlabel('Longitud de onda ($\\mu$m)')\n",
    "plt.ylabel('Refletividad / Transmisividad')\n",
    "plt.legend()\n",
    "plt.show()"
   ]
  },
  {
   "cell_type": "markdown",
   "id": "c6ed7877",
   "metadata": {
    "slideshow": {
     "slide_type": "slide"
    }
   },
   "source": [
    "En la figura, para el caso de luz coherente, notamos oscilaciones en $R$ y $T$ producto de los fenómenos de interferencia. En el caso de luz incoherente, el fenómeno de interferencia desaparace."
   ]
  },
  {
   "cell_type": "markdown",
   "id": "a5316b37",
   "metadata": {
    "slideshow": {
     "slide_type": "slide"
    }
   },
   "source": [
    "### Película de material con baja concentración de partículas (Ley de Beer-Lambert)\n",
    "Definimos el **camino libre medio de scattering**, como $\\Lambda_\\mathrm{sca} = \\left(f_v C_\\mathrm{sca}/V_p\\right)^{-1}$. Este parametro representa la distancia promedio que recorre la luz entre eventos de scattering."
   ]
  },
  {
   "cell_type": "markdown",
   "id": "a352fb08",
   "metadata": {
    "cell_style": "center",
    "slideshow": {
     "slide_type": "fragment"
    }
   },
   "source": [
    "Si $\\Lambda_\\mathrm{sca}$ es mayor que el espesor del material, $t_\\mathrm{film}$, la probabilidad de que ocurran más de un evento scattering es despreciable, y decimos que el **scattering es de primer orden**. En este caso, el tercer término de la RTE es despreciable y la radiación solo pierde energía por absorción del material o extinción inducida por las partículas."
   ]
  },
  {
   "cell_type": "markdown",
   "id": "9407f0e6",
   "metadata": {
    "slideshow": {
     "slide_type": "slide"
    }
   },
   "source": [
    "La solución a esta ecuación se conoce como la ley de Beer-Lambert. Mediante esta aproximación podemos deducir las componentes total y especular de la transmitancia:\n",
    "\n",
    "\\begin{equation}\n",
    "T_\\mathrm{tot} = T_0 e^{-f_v\\frac{C_\\mathrm{abs}}{V_p}t_\\mathrm{film}}\\quad\\quad\\mathrm{and}\\quad\\quad \n",
    "T_\\mathrm{spec} = T_0 e^{-f_v\\frac{C_\\mathrm{ext}}{V_p}t_\\mathrm{film}}\n",
    "\\end{equation}\n",
    "\n",
    "donde, $T_0$ es la **transmisividad incoherente del material sin incrustaciones**."
   ]
  },
  {
   "cell_type": "markdown",
   "id": "2f29ecb5",
   "metadata": {
    "slideshow": {
     "slide_type": "fragment"
    }
   },
   "source": [
    "<img src=\"./images/beer_lambert.png\" width=\"500px\" align= center>\n",
    "\n",
    "<center>Transporte de luz en un medio con scattering de primer orden</center>"
   ]
  },
  {
   "cell_type": "markdown",
   "id": "963bc3c6",
   "metadata": {
    "slideshow": {
     "slide_type": "slide"
    }
   },
   "source": [
    "Podemos utilizar la ley de Beer-Lambert para analizar, de forma aproximada, el efecto del color del cielo durante el día y en la tarde."
   ]
  },
  {
   "cell_type": "markdown",
   "id": "227d193d",
   "metadata": {
    "slideshow": {
     "slide_type": "fragment"
    }
   },
   "source": [
    "El color del cielo está dado por la componente difusa. Así calculamos $T_\\mathrm{dif} = T_\\mathrm{tot} - T_\\mathrm{spec}$."
   ]
  },
  {
   "cell_type": "markdown",
   "id": "a2577fed",
   "metadata": {
    "slideshow": {
     "slide_type": "fragment"
    }
   },
   "source": [
    "Consideremos una atmosfera compuesta de aire ($N_h = 1.0$) y una pequeña concentración ($f_v = 1\\times 10^{-6}~\\%$) de partículas de 10 nm de diámetro e índice de refracción $N_p = 1.5$. El espesor de la atmosfera es $t_\\mathrm{atm} = 100~\\mathrm{km}$"
   ]
  },
  {
   "cell_type": "code",
   "execution_count": 7,
   "id": "33491447",
   "metadata": {
    "cell_style": "center",
    "slideshow": {
     "slide_type": "slide"
    },
    "tags": [
     "hide-input"
    ]
   },
   "outputs": [],
   "source": [
    "import empylib.rad_transfer as rt\n",
    "import empylib.nklib as nk\n",
    "import numpy as np\n",
    "import matplotlib.pyplot as plt\n",
    "from empylib.ref_spectra import AM15, Bplanck\n",
    "from empylib.ref_spectra import color_system as cs\n",
    "cs = cs.hdtv\n",
    "\n",
    "lam1 = np.linspace(0.38,0.78,100) # espectro de longitudes de onda\n",
    "cs.interp_internals(lam1)\n",
    "def plot_atmosphere(theta_sun):\n",
    "    fig, ax = plt.subplots()          \n",
    "    fig.set_size_inches(8, 5)         # Tamaño del gráfico\n",
    "    plt.rcParams['font.size'] = '14'  # tamaño de  fuente\n",
    "    \n",
    "    # parámetros de entrada\n",
    "    tatm = 100E6                      # espesor de la atmósfera en mm\n",
    "    N = (1.0,1.0,1.0)                 # indice de refracción superior, intermedio e inferior\n",
    "    fvp = 1E-8                        # fracción de volúmen de las partículas\n",
    "    Dp = 0.010                        # diámetro de las partículas\n",
    "    Np = 1.5                          # índice de refracción de las partículas\n",
    "    \n",
    "    # transmitancia total y especular\n",
    "    theta = np.radians(theta_sun)    # posición del sol en radianes\n",
    "    Ttot, Tspec = rt.T_beer_lambert(lam1,theta,tatm,N,fvp,Dp,Np)[:2]\n",
    "    \n",
    "    Tdif = Ttot - Tspec              # transmitancia difusa\n",
    "    ax.plot(lam1,Tdif,'-k',label = 'Tdif')\n",
    "    ax.set_xlabel('Longitud de onda ($\\mu$m)')\n",
    "    ax.set_ylabel('Transmisividad')\n",
    "    ax.set_title(r'Posición del sol, $\\theta_\\mathrm{sun}$=%.1f°'% (theta_sun))\n",
    "    ax.set_ylim(0,1.05)\n",
    "    \n",
    "    Dcircle = 0.25\n",
    "    ax2 = fig.add_axes([0.11,0.15, Dcircle, Dcircle])\n",
    "    Irad = Tdif*Bplanck(lam1,5777)\n",
    "    html_rgb = cs.spec_to_rgb(Irad, out_fmt='html')\n",
    "    Circle = plt.Circle((0, 0), Dcircle, color=html_rgb)\n",
    "    ax2.add_patch(Circle)\n",
    "    ax2.set_aspect('equal')\n",
    "    ax2.set_xlim(-Dcircle*1.2,Dcircle*1.2)\n",
    "    ax2.set_ylim(-Dcircle*1.2,Dcircle*1.2)\n",
    "    ax2.set_xticks([])\n",
    "    ax2.set_yticks([])\n",
    "    ax2.set_facecolor('k')"
   ]
  },
  {
   "cell_type": "code",
   "execution_count": 8,
   "id": "f3b08336",
   "metadata": {
    "cell_style": "center",
    "slideshow": {
     "slide_type": "slide"
    },
    "tags": [
     "hide-input"
    ]
   },
   "outputs": [
    {
     "data": {
      "application/vnd.jupyter.widget-view+json": {
       "model_id": "be87def4bdec48c1b483036671c505d5",
       "version_major": 2,
       "version_minor": 0
      },
      "text/plain": [
       "interactive(children=(FloatSlider(value=0.0, description='theta_sun', max=89.99), Output()), _dom_classes=('wi…"
      ]
     },
     "metadata": {},
     "output_type": "display_data"
    }
   ],
   "source": [
    "from ipywidgets import interact\n",
    "\n",
    "@interact(theta_sun=(0,89.99,0.1))\n",
    "def g(theta_sun=0):\n",
    "    return plot_atmosphere(theta_sun)"
   ]
  },
  {
   "cell_type": "markdown",
   "id": "8aa6d072",
   "metadata": {
    "cell_style": "center",
    "slideshow": {
     "slide_type": "slide"
    }
   },
   "source": [
    "### Pelicula de material particulado (simulaciones de transferencia radiativa)\n",
    "Este caso corresponde a materiales con $\\Lambda_\\mathrm{sca} > t_\\mathrm{film}$. En este caso los eventos de scattering se producen más de una vez, y decimos que estámos en un régimen de **scattering múltiple**. Como resultado, los tres términos de la RTE son relevantes y debemos resolver la ecuación mediante simulación computacional.\n",
    "\n",
    "<img src=\"./images/multiple_scattering.png\" width=\"400px\" align= center>\n",
    "\n",
    "<center>Transporte de luz en un medio con scattering múltiple</center>"
   ]
  },
  {
   "cell_type": "markdown",
   "id": "bea5c468",
   "metadata": {
    "slideshow": {
     "slide_type": "slide"
    }
   },
   "source": [
    "Consideremos un material de sílice de espesor $t_\\mathrm{film} = 5~\\mathrm{mm}$. Evaluaremos los colores de este material en transmisión y reflección para luz incidente normal a la superficie en función de la concentración y el diámetro de las partículas. Utilizamos la función ```ad_rad_transfer``` de la librería ```empylib.rad_transfer```"
   ]
  },
  {
   "cell_type": "code",
   "execution_count": 9,
   "id": "24c8d4d6",
   "metadata": {
    "slideshow": {
     "slide_type": "slide"
    },
    "tags": [
     "hide-input"
    ]
   },
   "outputs": [],
   "source": [
    "import empylib.rad_transfer as rt\n",
    "import empylib.nklib as nk\n",
    "import empylib.miescattering as mie\n",
    "import numpy as np\n",
    "import matplotlib.pyplot as plt\n",
    "\n",
    "lam2 = np.linspace(0.3,1.0,100) # espectro de longitudes de onda en micrometros\n",
    "Nlayers = (1.0,1.5,1.0)   # indice de refracción superior, intermedio e inferior\n",
    "Np = nk.silver(lam2)                # Índice de refracción de las partículas\n",
    "cs.interp_internals(lam2)\n",
    "\n",
    "def plot_glass_silver(fv,D):\n",
    "    # parámetros de entrada\n",
    "    \n",
    "    theta = np.radians(0)       # 0 grados en radianes\n",
    "    tfilm = 5                   # espesor en milímetros\n",
    "    \n",
    "    fv = fv*1E-7                # fracción de volúmen de las partículas\n",
    "    D = D*1E-3                  # diámetro de las partículas\n",
    "    \n",
    "    qext, qsca = mie.scatter_efficiency(lam2,Nlayers[1],Np,D)[:2]\n",
    "    qabs = qext - qsca\n",
    "    Rtot, Ttot = rt.ad_rad_transfer(lam2,tfilm,Nlayers,fv,D,Np)\n",
    "\n",
    "    fig, ax = plt.subplots(1,3)\n",
    "    fig.set_size_inches(20, 5)\n",
    "    plt.rcParams['font.size'] = '16'\n",
    "    \n",
    "    ax[0].plot(lam2,qsca,'-r',label='$C_\\mathrm{sca} A_c$')\n",
    "    ax[0].plot(lam2,qabs,'-b',label='$C_\\mathrm{abs} A_c$')\n",
    "    ax[0].set_xlabel('Longitud de onda ($\\mu$m)')\n",
    "    ax[0].set_ylabel('Eficiencia transversal')\n",
    "    ax[0].set_title('Partícula de plata (D=%.0f nm)' % (D*1E3))\n",
    "    ax[0].legend()\n",
    "    ax[0].set_ylim(0,10)\n",
    "    \n",
    "    ax[1].plot(lam2,Rtot,'-r',label = 'Rtot')\n",
    "    ax[1].plot(lam2,Ttot,'-b',label = 'Ttot')\n",
    "    ax[1].set_xlabel('Longitud de onda ($\\mu$m)')\n",
    "    ax[1].set_ylabel('Transmisividad')\n",
    "    ax[1].set_title(r'Sílice con plata (fv = %.3e %%)' % (fv*100) )\n",
    "    ax[1].legend()\n",
    "    ax[1].set_ylim(0,1)\n",
    "\n",
    "    Dcircle = 0.20\n",
    "    html_rgb = cs.spec_to_rgb(Ttot*AM15(lam2), out_fmt='html')\n",
    "    Circle = plt.Circle((0, 0), Dcircle, color=html_rgb)\n",
    "    ax[2].add_patch(Circle)\n",
    "    ax[2].annotate('Luz Trasera', xy=(0, 0), va='center', ha='center')\n",
    "\n",
    "    html_rgb = cs.spec_to_rgb(Rtot*AM15(lam2), out_fmt='html')\n",
    "    Circle = plt.Circle((Dcircle*1.2*2, 0), Dcircle, color=html_rgb)\n",
    "    ax[2].add_patch(Circle)\n",
    "    ax[2].annotate('Luz Frontal', xy=(Dcircle*1.2*2, 0), va='center', ha='center')\n",
    "\n",
    "    ax[2].set_aspect('equal')\n",
    "    ax[2].set_xlim(-Dcircle*1.2,Dcircle*1.2*3)\n",
    "    ax[2].set_ylim(-Dcircle*1.2,Dcircle*1.2)\n",
    "    ax[2].set_xticks([])\n",
    "    ax[2].set_yticks([])\n",
    "    ax[2].set_facecolor('k')\n",
    "    plt.subplots_adjust(wspace=0.3)"
   ]
  },
  {
   "cell_type": "code",
   "execution_count": 10,
   "id": "494ceeb2",
   "metadata": {
    "cell_style": "center",
    "slideshow": {
     "slide_type": "slide"
    },
    "tags": [
     "hide-input"
    ]
   },
   "outputs": [
    {
     "data": {
      "application/vnd.jupyter.widget-view+json": {
       "model_id": "a5be0b9c99614c3c836399c9b45b351e",
       "version_major": 2,
       "version_minor": 0
      },
      "text/plain": [
       "interactive(children=(IntSlider(value=20, description='fv', min=1), IntSlider(value=70, description='D', max=2…"
      ]
     },
     "metadata": {},
     "output_type": "display_data"
    }
   ],
   "source": [
    "from ipywidgets import interact\n",
    "\n",
    "@interact(fv=(1,100,1), D = (10,200,1))\n",
    "def g(fv=20, D = 70):\n",
    "    return plot_glass_silver(fv,D)"
   ]
  },
  {
   "cell_type": "markdown",
   "id": "031ca52b",
   "metadata": {
    "slideshow": {
     "slide_type": "slide"
    }
   },
   "source": [
    "Cuando la concentración de partículas es densa, el medio se vuelve opaco. Este régimen se denomina **scattering difuso** y permite explicar, entre otras cosas, el color de las nubes o la pintura blanca\n",
    "\n",
    "<img src=\"./images/diffuse_scattering.png\" width=\"400px\" align= center>\n",
    "\n",
    "<center>Transporte de luz en un medio con scattering difuso</center>"
   ]
  },
  {
   "cell_type": "markdown",
   "id": "01df5bd6",
   "metadata": {
    "slideshow": {
     "slide_type": "slide"
    }
   },
   "source": [
    "Un ejemplo interesante corresponde a la leche. En términos simples, la leche es una emulsión formada por pequeñas partículas de grasa dispersas en un medio acuoso. \n",
    "\n",
    "<img src=\"./images/milk_microscope.png\" width=\"400px\" align= center>\n",
    "\n",
    "<center>Imagen de microscópio (40x) de leche orgánica. Las burbujas verdes corresponden al aceite en suspención en agua.</center>\n",
    "\n",
    "Fuente: [Braun K., Hanewald A. and Vilgis T. Foods 8(10): 483(2019)](https://www.ncbi.nlm.nih.gov/pmc/articles/PMC6836175/)"
   ]
  },
  {
   "cell_type": "markdown",
   "id": "225b5528",
   "metadata": {
    "slideshow": {
     "slide_type": "fragment"
    }
   },
   "source": [
    "Como aproximación, consideremos un medio de espesor $1$ cm, compuesto por agua $N_h = 1.3$ y pequeñas partículas esféricas de aceite $N_p = 1.5$. La emulsión considera un 60% de partículas de aceite por volumen."
   ]
  },
  {
   "cell_type": "code",
   "execution_count": 11,
   "id": "72cbfc3e",
   "metadata": {
    "cell_style": "split",
    "slideshow": {
     "slide_type": "slide"
    },
    "tags": [
     "hide-input"
    ]
   },
   "outputs": [
    {
     "ename": "TypeError",
     "evalue": "ad_rad_transfer() missing 2 required positional arguments: 'gcos' and 'Vp'",
     "output_type": "error",
     "traceback": [
      "\u001b[0;31m---------------------------------------------------------------------------\u001b[0m",
      "\u001b[0;31mTypeError\u001b[0m                                 Traceback (most recent call last)",
      "Cell \u001b[0;32mIn[11], line 14\u001b[0m\n\u001b[1;32m     12\u001b[0m Noil \u001b[38;5;241m=\u001b[39m \u001b[38;5;241m1.5\u001b[39m                        \u001b[38;5;66;03m# índice de refracción partículas de aceite\u001b[39;00m\n\u001b[1;32m     13\u001b[0m \u001b[38;5;66;03m#---------------------------------------------------------------\u001b[39;00m\n\u001b[0;32m---> 14\u001b[0m Rtot, Ttot \u001b[38;5;241m=\u001b[39m \u001b[43mrt\u001b[49m\u001b[38;5;241;43m.\u001b[39;49m\u001b[43mad_rad_transfer\u001b[49m\u001b[43m(\u001b[49m\u001b[43mlam3\u001b[49m\u001b[43m,\u001b[49m\u001b[43mtfilm\u001b[49m\u001b[43m,\u001b[49m\u001b[43m(\u001b[49m\u001b[38;5;241;43m1.0\u001b[39;49m\u001b[43m,\u001b[49m\u001b[43mNh2o\u001b[49m\u001b[43m,\u001b[49m\u001b[38;5;241;43m1.0\u001b[39;49m\u001b[43m)\u001b[49m\u001b[43m,\u001b[49m\u001b[43mfv\u001b[49m\u001b[43m,\u001b[49m\u001b[43mD\u001b[49m\u001b[43m,\u001b[49m\u001b[43mNoil\u001b[49m\u001b[43m)\u001b[49m\n\u001b[1;32m     16\u001b[0m fig, ax \u001b[38;5;241m=\u001b[39m plt\u001b[38;5;241m.\u001b[39msubplots()\n\u001b[1;32m     17\u001b[0m fig\u001b[38;5;241m.\u001b[39mset_size_inches(\u001b[38;5;241m7\u001b[39m, \u001b[38;5;241m5\u001b[39m)\n",
      "\u001b[0;31mTypeError\u001b[0m: ad_rad_transfer() missing 2 required positional arguments: 'gcos' and 'Vp'"
     ]
    }
   ],
   "source": [
    "%%capture showplot\n",
    "# import empylib.nklib as nk\n",
    "import numpy as np\n",
    "import empylib.rad_transfer as rt\n",
    "\n",
    "# Solo modificar estos parámetros\n",
    "#---------------------------------------------------------------\n",
    "lam3 = np.linspace(0.3,1.0,100)   # espectro de longitudes de onda\n",
    "tfilm = 10                        # espesor en milímetros\n",
    "fv = 0.50                         # fracción de volúmen de los poros\n",
    "D = 1.0                           # diámetro de los poros (micrones)\n",
    "Nh2o = 1.3                        # Índice de refracción del agua\n",
    "Noil = 1.5                        # índice de refracción partículas de aceite\n",
    "#---------------------------------------------------------------\n",
    "Rtot, Ttot = rt.ad_rad_transfer(lam3,tfilm,(1.0,Nh2o,1.0),fv,D,Noil)\n",
    "\n",
    "fig, ax = plt.subplots()\n",
    "fig.set_size_inches(7, 5)\n",
    "plt.rcParams['font.size'] = '16'\n",
    "ax.plot(lam3,Rtot,'-r',label='R')\n",
    "ax.plot(lam3,Ttot,'-b',label='T')\n",
    "ax.set_xlabel('Longitud de onda ($\\mu$m)')\n",
    "ax.set_ylabel('Reflectividad / Transmisividad')\n",
    "ax.set_title(r'Leche (fv = %.0f %%)' % (fv*100))\n",
    "ax.legend()\n",
    "ax.set_ylim(0,1.02)\n",
    "plt.show"
   ]
  },
  {
   "cell_type": "code",
   "execution_count": 12,
   "id": "9a1291f7",
   "metadata": {
    "cell_style": "split",
    "slideshow": {
     "slide_type": "fragment"
    },
    "tags": [
     "hide-input"
    ]
   },
   "outputs": [],
   "source": [
    "showplot()"
   ]
  },
  {
   "cell_type": "markdown",
   "id": "6c035f58",
   "metadata": {
    "slideshow": {
     "slide_type": "slide"
    }
   },
   "source": [
    "Como vemos la alta concentración de partículas hace que la refletividad y transmisividad se vuelvan casi uniformes para todas las longitudes de onda. El espectro, así, toma un color blanco frente a una fuente de luz blanca."
   ]
  },
  {
   "cell_type": "markdown",
   "id": "17c1dc23",
   "metadata": {
    "slideshow": {
     "slide_type": "slide"
    }
   },
   "source": [
    "## Referencias\n",
    "- Chen G. **Chapter 5 - Energy Transfer by Waves** in *Nanoscale energy transport and conversion*, 1st Ed, Oxford University Press, 2005"
   ]
  }
 ],
 "metadata": {
  "celltoolbar": "Slideshow",
  "kernelspec": {
   "display_name": "Python 3 (ipykernel)",
   "language": "python",
   "name": "python3"
  },
  "language_info": {
   "codemirror_mode": {
    "name": "ipython",
    "version": 3
   },
   "file_extension": ".py",
   "mimetype": "text/x-python",
   "name": "python",
   "nbconvert_exporter": "python",
   "pygments_lexer": "ipython3",
   "version": "3.10.8"
  },
  "latex_envs": {
   "LaTeX_envs_menu_present": false,
   "autoclose": false,
   "autocomplete": false,
   "bibliofile": "biblio.bib",
   "cite_by": "apalike",
   "current_citInitial": 1,
   "eqLabelWithNumbers": true,
   "eqNumInitial": 2,
   "hotkeys": {
    "equation": "Ctrl-E",
    "itemize": "Ctrl-I"
   },
   "labels_anchors": false,
   "latex_user_defs": false,
   "report_style_numbering": false,
   "user_envs_cfg": true
  },
  "toc": {
   "base_numbering": 1,
   "nav_menu": {},
   "number_sections": false,
   "sideBar": true,
   "skip_h1_title": true,
   "title_cell": "Tabla de contenidos",
   "title_sidebar": "Contenidos",
   "toc_cell": false,
   "toc_position": {
    "height": "calc(100% - 180px)",
    "left": "10px",
    "top": "150px",
    "width": "307.2px"
   },
   "toc_section_display": true,
   "toc_window_display": false
  },
  "varInspector": {
   "cols": {
    "lenName": 16,
    "lenType": 16,
    "lenVar": 40
   },
   "kernels_config": {
    "python": {
     "delete_cmd_postfix": "",
     "delete_cmd_prefix": "del ",
     "library": "var_list.py",
     "varRefreshCmd": "print(var_dic_list())"
    },
    "r": {
     "delete_cmd_postfix": ") ",
     "delete_cmd_prefix": "rm(",
     "library": "var_list.r",
     "varRefreshCmd": "cat(var_dic_list()) "
    }
   },
   "types_to_exclude": [
    "module",
    "function",
    "builtin_function_or_method",
    "instance",
    "_Feature"
   ],
   "window_display": false
  },
  "widgets": {
   "application/vnd.jupyter.widget-state+json": {
    "state": {
     "0af27a3041674aeea5030b83703b39d0": {
      "model_module": "@jupyter-widgets/base",
      "model_module_version": "1.2.0",
      "model_name": "LayoutModel",
      "state": {
       "_model_module": "@jupyter-widgets/base",
       "_model_module_version": "1.2.0",
       "_model_name": "LayoutModel",
       "_view_count": null,
       "_view_module": "@jupyter-widgets/base",
       "_view_module_version": "1.2.0",
       "_view_name": "LayoutView",
       "align_content": null,
       "align_items": null,
       "align_self": null,
       "border": null,
       "bottom": null,
       "display": null,
       "flex": null,
       "flex_flow": null,
       "grid_area": null,
       "grid_auto_columns": null,
       "grid_auto_flow": null,
       "grid_auto_rows": null,
       "grid_column": null,
       "grid_gap": null,
       "grid_row": null,
       "grid_template_areas": null,
       "grid_template_columns": null,
       "grid_template_rows": null,
       "height": null,
       "justify_content": null,
       "justify_items": null,
       "left": null,
       "margin": null,
       "max_height": null,
       "max_width": null,
       "min_height": null,
       "min_width": null,
       "object_fit": null,
       "object_position": null,
       "order": null,
       "overflow": null,
       "overflow_x": null,
       "overflow_y": null,
       "padding": null,
       "right": null,
       "top": null,
       "visibility": null,
       "width": null
      }
     },
     "0d8b0612abaf43c4bc58e9d4797bbcaf": {
      "model_module": "@jupyter-widgets/base",
      "model_module_version": "1.2.0",
      "model_name": "LayoutModel",
      "state": {
       "_model_module": "@jupyter-widgets/base",
       "_model_module_version": "1.2.0",
       "_model_name": "LayoutModel",
       "_view_count": null,
       "_view_module": "@jupyter-widgets/base",
       "_view_module_version": "1.2.0",
       "_view_name": "LayoutView",
       "align_content": null,
       "align_items": null,
       "align_self": null,
       "border": null,
       "bottom": null,
       "display": null,
       "flex": null,
       "flex_flow": null,
       "grid_area": null,
       "grid_auto_columns": null,
       "grid_auto_flow": null,
       "grid_auto_rows": null,
       "grid_column": null,
       "grid_gap": null,
       "grid_row": null,
       "grid_template_areas": null,
       "grid_template_columns": null,
       "grid_template_rows": null,
       "height": null,
       "justify_content": null,
       "justify_items": null,
       "left": null,
       "margin": null,
       "max_height": null,
       "max_width": null,
       "min_height": null,
       "min_width": null,
       "object_fit": null,
       "object_position": null,
       "order": null,
       "overflow": null,
       "overflow_x": null,
       "overflow_y": null,
       "padding": null,
       "right": null,
       "top": null,
       "visibility": null,
       "width": null
      }
     },
     "0efc42a4c4364b028c90367777111a1f": {
      "model_module": "@jupyter-widgets/controls",
      "model_module_version": "1.5.0",
      "model_name": "FloatSliderModel",
      "state": {
       "_dom_classes": [],
       "_model_module": "@jupyter-widgets/controls",
       "_model_module_version": "1.5.0",
       "_model_name": "FloatSliderModel",
       "_view_count": null,
       "_view_module": "@jupyter-widgets/controls",
       "_view_module_version": "1.5.0",
       "_view_name": "FloatSliderView",
       "continuous_update": true,
       "description": "sig",
       "description_tooltip": null,
       "disabled": false,
       "layout": "IPY_MODEL_fde2cc5a46ea4f87bd1b024ed8afbeb3",
       "max": 1.0,
       "min": 0.0,
       "orientation": "horizontal",
       "readout": true,
       "readout_format": ".2f",
       "step": 0.01,
       "style": "IPY_MODEL_3b4a454b777640eeba119875c3df7ba4",
       "value": 0.3
      }
     },
     "156a654af7664c1cb1c1f320b204c5ff": {
      "model_module": "@jupyter-widgets/controls",
      "model_module_version": "1.5.0",
      "model_name": "SliderStyleModel",
      "state": {
       "_model_module": "@jupyter-widgets/controls",
       "_model_module_version": "1.5.0",
       "_model_name": "SliderStyleModel",
       "_view_count": null,
       "_view_module": "@jupyter-widgets/base",
       "_view_module_version": "1.2.0",
       "_view_name": "StyleView",
       "description_width": "",
       "handle_color": null
      }
     },
     "18b0ac5d79e44ee7bd2680ce2f80a60e": {
      "model_module": "@jupyter-widgets/controls",
      "model_module_version": "1.5.0",
      "model_name": "VBoxModel",
      "state": {
       "_dom_classes": [
        "widget-interact"
       ],
       "_model_module": "@jupyter-widgets/controls",
       "_model_module_version": "1.5.0",
       "_model_name": "VBoxModel",
       "_view_count": null,
       "_view_module": "@jupyter-widgets/controls",
       "_view_module_version": "1.5.0",
       "_view_name": "VBoxView",
       "box_style": "",
       "children": [
        "IPY_MODEL_aadd408a8d9540a5ae47e2f11372a927",
        "IPY_MODEL_a76564af3730467a8296e8dc84d6a0f4",
        "IPY_MODEL_3f9b8c1a3ec7442b89b53c4796704b18",
        "IPY_MODEL_4a4c1d54a8ec4553bf7b20d439e14e1a"
       ],
       "layout": "IPY_MODEL_72c0b11b062948afbe9929f6d93ca48a"
      }
     },
     "19367816b3884fdd99c3efb4d4bdf805": {
      "model_module": "@jupyter-widgets/base",
      "model_module_version": "1.2.0",
      "model_name": "LayoutModel",
      "state": {
       "_model_module": "@jupyter-widgets/base",
       "_model_module_version": "1.2.0",
       "_model_name": "LayoutModel",
       "_view_count": null,
       "_view_module": "@jupyter-widgets/base",
       "_view_module_version": "1.2.0",
       "_view_name": "LayoutView",
       "align_content": null,
       "align_items": null,
       "align_self": null,
       "border": null,
       "bottom": null,
       "display": null,
       "flex": null,
       "flex_flow": null,
       "grid_area": null,
       "grid_auto_columns": null,
       "grid_auto_flow": null,
       "grid_auto_rows": null,
       "grid_column": null,
       "grid_gap": null,
       "grid_row": null,
       "grid_template_areas": null,
       "grid_template_columns": null,
       "grid_template_rows": null,
       "height": null,
       "justify_content": null,
       "justify_items": null,
       "left": null,
       "margin": null,
       "max_height": null,
       "max_width": null,
       "min_height": null,
       "min_width": null,
       "object_fit": null,
       "object_position": null,
       "order": null,
       "overflow": null,
       "overflow_x": null,
       "overflow_y": null,
       "padding": null,
       "right": null,
       "top": null,
       "visibility": null,
       "width": null
      }
     },
     "197d20c270ab46b3b10310840d1407f0": {
      "model_module": "@jupyter-widgets/base",
      "model_module_version": "1.2.0",
      "model_name": "LayoutModel",
      "state": {
       "_model_module": "@jupyter-widgets/base",
       "_model_module_version": "1.2.0",
       "_model_name": "LayoutModel",
       "_view_count": null,
       "_view_module": "@jupyter-widgets/base",
       "_view_module_version": "1.2.0",
       "_view_name": "LayoutView",
       "align_content": null,
       "align_items": null,
       "align_self": null,
       "border": null,
       "bottom": null,
       "display": null,
       "flex": null,
       "flex_flow": null,
       "grid_area": null,
       "grid_auto_columns": null,
       "grid_auto_flow": null,
       "grid_auto_rows": null,
       "grid_column": null,
       "grid_gap": null,
       "grid_row": null,
       "grid_template_areas": null,
       "grid_template_columns": null,
       "grid_template_rows": null,
       "height": null,
       "justify_content": null,
       "justify_items": null,
       "left": null,
       "margin": null,
       "max_height": null,
       "max_width": null,
       "min_height": null,
       "min_width": null,
       "object_fit": null,
       "object_position": null,
       "order": null,
       "overflow": null,
       "overflow_x": null,
       "overflow_y": null,
       "padding": null,
       "right": null,
       "top": null,
       "visibility": null,
       "width": null
      }
     },
     "20f81e279e7f4f7999faef4a6a093c24": {
      "model_module": "@jupyter-widgets/base",
      "model_module_version": "1.2.0",
      "model_name": "LayoutModel",
      "state": {
       "_model_module": "@jupyter-widgets/base",
       "_model_module_version": "1.2.0",
       "_model_name": "LayoutModel",
       "_view_count": null,
       "_view_module": "@jupyter-widgets/base",
       "_view_module_version": "1.2.0",
       "_view_name": "LayoutView",
       "align_content": null,
       "align_items": null,
       "align_self": null,
       "border": null,
       "bottom": null,
       "display": null,
       "flex": null,
       "flex_flow": null,
       "grid_area": null,
       "grid_auto_columns": null,
       "grid_auto_flow": null,
       "grid_auto_rows": null,
       "grid_column": null,
       "grid_gap": null,
       "grid_row": null,
       "grid_template_areas": null,
       "grid_template_columns": null,
       "grid_template_rows": null,
       "height": null,
       "justify_content": null,
       "justify_items": null,
       "left": null,
       "margin": null,
       "max_height": null,
       "max_width": null,
       "min_height": null,
       "min_width": null,
       "object_fit": null,
       "object_position": null,
       "order": null,
       "overflow": null,
       "overflow_x": null,
       "overflow_y": null,
       "padding": null,
       "right": null,
       "top": null,
       "visibility": null,
       "width": null
      }
     },
     "2b5d2af25fb544d5a9f33cfeedfcf246": {
      "model_module": "@jupyter-widgets/controls",
      "model_module_version": "1.5.0",
      "model_name": "SliderStyleModel",
      "state": {
       "_model_module": "@jupyter-widgets/controls",
       "_model_module_version": "1.5.0",
       "_model_name": "SliderStyleModel",
       "_view_count": null,
       "_view_module": "@jupyter-widgets/base",
       "_view_module_version": "1.2.0",
       "_view_name": "StyleView",
       "description_width": "",
       "handle_color": null
      }
     },
     "3b4a454b777640eeba119875c3df7ba4": {
      "model_module": "@jupyter-widgets/controls",
      "model_module_version": "1.5.0",
      "model_name": "SliderStyleModel",
      "state": {
       "_model_module": "@jupyter-widgets/controls",
       "_model_module_version": "1.5.0",
       "_model_name": "SliderStyleModel",
       "_view_count": null,
       "_view_module": "@jupyter-widgets/base",
       "_view_module_version": "1.2.0",
       "_view_name": "StyleView",
       "description_width": "",
       "handle_color": null
      }
     },
     "3f9b8c1a3ec7442b89b53c4796704b18": {
      "model_module": "@jupyter-widgets/controls",
      "model_module_version": "1.5.0",
      "model_name": "FloatSliderModel",
      "state": {
       "_dom_classes": [],
       "_model_module": "@jupyter-widgets/controls",
       "_model_module_version": "1.5.0",
       "_model_name": "FloatSliderModel",
       "_view_count": null,
       "_view_module": "@jupyter-widgets/controls",
       "_view_module_version": "1.5.0",
       "_view_name": "FloatSliderView",
       "continuous_update": true,
       "description": "sig",
       "description_tooltip": null,
       "disabled": false,
       "layout": "IPY_MODEL_0af27a3041674aeea5030b83703b39d0",
       "max": 1.0,
       "min": 0.0,
       "orientation": "horizontal",
       "readout": true,
       "readout_format": ".2f",
       "step": 0.01,
       "style": "IPY_MODEL_56c6070655f040c79a2ef2ae14f1485c",
       "value": 0.3
      }
     },
     "41455260fa674d778de0c62385e48d5e": {
      "model_module": "@jupyter-widgets/controls",
      "model_module_version": "1.5.0",
      "model_name": "IntSliderModel",
      "state": {
       "_dom_classes": [],
       "_model_module": "@jupyter-widgets/controls",
       "_model_module_version": "1.5.0",
       "_model_name": "IntSliderModel",
       "_view_count": null,
       "_view_module": "@jupyter-widgets/controls",
       "_view_module_version": "1.5.0",
       "_view_name": "IntSliderView",
       "continuous_update": true,
       "description": "D",
       "description_tooltip": null,
       "disabled": false,
       "layout": "IPY_MODEL_d757bea6506045bd8cce95514c66ed2a",
       "max": 200,
       "min": 10,
       "orientation": "horizontal",
       "readout": true,
       "readout_format": "d",
       "step": 1,
       "style": "IPY_MODEL_2b5d2af25fb544d5a9f33cfeedfcf246",
       "value": 70
      }
     },
     "44766e093d644edb8a24b03816eea331": {
      "model_module": "@jupyter-widgets/base",
      "model_module_version": "1.2.0",
      "model_name": "LayoutModel",
      "state": {
       "_model_module": "@jupyter-widgets/base",
       "_model_module_version": "1.2.0",
       "_model_name": "LayoutModel",
       "_view_count": null,
       "_view_module": "@jupyter-widgets/base",
       "_view_module_version": "1.2.0",
       "_view_name": "LayoutView",
       "align_content": null,
       "align_items": null,
       "align_self": null,
       "border": null,
       "bottom": null,
       "display": null,
       "flex": null,
       "flex_flow": null,
       "grid_area": null,
       "grid_auto_columns": null,
       "grid_auto_flow": null,
       "grid_auto_rows": null,
       "grid_column": null,
       "grid_gap": null,
       "grid_row": null,
       "grid_template_areas": null,
       "grid_template_columns": null,
       "grid_template_rows": null,
       "height": null,
       "justify_content": null,
       "justify_items": null,
       "left": null,
       "margin": null,
       "max_height": null,
       "max_width": null,
       "min_height": null,
       "min_width": null,
       "object_fit": null,
       "object_position": null,
       "order": null,
       "overflow": null,
       "overflow_x": null,
       "overflow_y": null,
       "padding": null,
       "right": null,
       "top": null,
       "visibility": null,
       "width": null
      }
     },
     "467af3570bad492aa5794f15e1ad257f": {
      "model_module": "@jupyter-widgets/controls",
      "model_module_version": "1.5.0",
      "model_name": "SliderStyleModel",
      "state": {
       "_model_module": "@jupyter-widgets/controls",
       "_model_module_version": "1.5.0",
       "_model_name": "SliderStyleModel",
       "_view_count": null,
       "_view_module": "@jupyter-widgets/base",
       "_view_module_version": "1.2.0",
       "_view_name": "StyleView",
       "description_width": "",
       "handle_color": null
      }
     },
     "484090dc929a471b91580e6edeb0c8f9": {
      "model_module": "@jupyter-widgets/controls",
      "model_module_version": "1.5.0",
      "model_name": "FloatSliderModel",
      "state": {
       "_dom_classes": [],
       "_model_module": "@jupyter-widgets/controls",
       "_model_module_version": "1.5.0",
       "_model_name": "FloatSliderModel",
       "_view_count": null,
       "_view_module": "@jupyter-widgets/controls",
       "_view_module_version": "1.5.0",
       "_view_name": "FloatSliderView",
       "continuous_update": true,
       "description": "theta_sun",
       "description_tooltip": null,
       "disabled": false,
       "layout": "IPY_MODEL_44766e093d644edb8a24b03816eea331",
       "max": 89.99,
       "min": 0.0,
       "orientation": "horizontal",
       "readout": true,
       "readout_format": ".2f",
       "step": 0.1,
       "style": "IPY_MODEL_823f5cf3afe3476aaa8586b6ef541f55",
       "value": 0.0
      }
     },
     "4a4c1d54a8ec4553bf7b20d439e14e1a": {
      "model_module": "@jupyter-widgets/output",
      "model_module_version": "1.0.0",
      "model_name": "OutputModel",
      "state": {
       "_dom_classes": [],
       "_model_module": "@jupyter-widgets/output",
       "_model_module_version": "1.0.0",
       "_model_name": "OutputModel",
       "_view_count": null,
       "_view_module": "@jupyter-widgets/output",
       "_view_module_version": "1.0.0",
       "_view_name": "OutputView",
       "layout": "IPY_MODEL_d5b40259b52c4ca3bc7389d8aa1abb9f",
       "msg_id": "",
       "outputs": [
        {
         "data": {
          "image/png": "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\n",
          "text/plain": "<Figure size 900x500 with 1 Axes>"
         },
         "metadata": {},
         "output_type": "display_data"
        }
       ]
      }
     },
     "56c6070655f040c79a2ef2ae14f1485c": {
      "model_module": "@jupyter-widgets/controls",
      "model_module_version": "1.5.0",
      "model_name": "SliderStyleModel",
      "state": {
       "_model_module": "@jupyter-widgets/controls",
       "_model_module_version": "1.5.0",
       "_model_name": "SliderStyleModel",
       "_view_count": null,
       "_view_module": "@jupyter-widgets/base",
       "_view_module_version": "1.2.0",
       "_view_name": "StyleView",
       "description_width": "",
       "handle_color": null
      }
     },
     "63113833aa474f2ebe971efec0fdd7fb": {
      "model_module": "@jupyter-widgets/controls",
      "model_module_version": "1.5.0",
      "model_name": "SliderStyleModel",
      "state": {
       "_model_module": "@jupyter-widgets/controls",
       "_model_module_version": "1.5.0",
       "_model_name": "SliderStyleModel",
       "_view_count": null,
       "_view_module": "@jupyter-widgets/base",
       "_view_module_version": "1.2.0",
       "_view_name": "StyleView",
       "description_width": "",
       "handle_color": null
      }
     },
     "6a19df924ec74bf187175b1c65708217": {
      "model_module": "@jupyter-widgets/controls",
      "model_module_version": "1.5.0",
      "model_name": "SliderStyleModel",
      "state": {
       "_model_module": "@jupyter-widgets/controls",
       "_model_module_version": "1.5.0",
       "_model_name": "SliderStyleModel",
       "_view_count": null,
       "_view_module": "@jupyter-widgets/base",
       "_view_module_version": "1.2.0",
       "_view_name": "StyleView",
       "description_width": "",
       "handle_color": null
      }
     },
     "717433d1c84849f3a05f18f5d446c59c": {
      "model_module": "@jupyter-widgets/base",
      "model_module_version": "1.2.0",
      "model_name": "LayoutModel",
      "state": {
       "_model_module": "@jupyter-widgets/base",
       "_model_module_version": "1.2.0",
       "_model_name": "LayoutModel",
       "_view_count": null,
       "_view_module": "@jupyter-widgets/base",
       "_view_module_version": "1.2.0",
       "_view_name": "LayoutView",
       "align_content": null,
       "align_items": null,
       "align_self": null,
       "border": null,
       "bottom": null,
       "display": null,
       "flex": null,
       "flex_flow": null,
       "grid_area": null,
       "grid_auto_columns": null,
       "grid_auto_flow": null,
       "grid_auto_rows": null,
       "grid_column": null,
       "grid_gap": null,
       "grid_row": null,
       "grid_template_areas": null,
       "grid_template_columns": null,
       "grid_template_rows": null,
       "height": null,
       "justify_content": null,
       "justify_items": null,
       "left": null,
       "margin": null,
       "max_height": null,
       "max_width": null,
       "min_height": null,
       "min_width": null,
       "object_fit": null,
       "object_position": null,
       "order": null,
       "overflow": null,
       "overflow_x": null,
       "overflow_y": null,
       "padding": null,
       "right": null,
       "top": null,
       "visibility": null,
       "width": null
      }
     },
     "72c0b11b062948afbe9929f6d93ca48a": {
      "model_module": "@jupyter-widgets/base",
      "model_module_version": "1.2.0",
      "model_name": "LayoutModel",
      "state": {
       "_model_module": "@jupyter-widgets/base",
       "_model_module_version": "1.2.0",
       "_model_name": "LayoutModel",
       "_view_count": null,
       "_view_module": "@jupyter-widgets/base",
       "_view_module_version": "1.2.0",
       "_view_name": "LayoutView",
       "align_content": null,
       "align_items": null,
       "align_self": null,
       "border": null,
       "bottom": null,
       "display": null,
       "flex": null,
       "flex_flow": null,
       "grid_area": null,
       "grid_auto_columns": null,
       "grid_auto_flow": null,
       "grid_auto_rows": null,
       "grid_column": null,
       "grid_gap": null,
       "grid_row": null,
       "grid_template_areas": null,
       "grid_template_columns": null,
       "grid_template_rows": null,
       "height": null,
       "justify_content": null,
       "justify_items": null,
       "left": null,
       "margin": null,
       "max_height": null,
       "max_width": null,
       "min_height": null,
       "min_width": null,
       "object_fit": null,
       "object_position": null,
       "order": null,
       "overflow": null,
       "overflow_x": null,
       "overflow_y": null,
       "padding": null,
       "right": null,
       "top": null,
       "visibility": null,
       "width": null
      }
     },
     "7842907a66e547968ff84bd0273febc9": {
      "model_module": "@jupyter-widgets/controls",
      "model_module_version": "1.5.0",
      "model_name": "SliderStyleModel",
      "state": {
       "_model_module": "@jupyter-widgets/controls",
       "_model_module_version": "1.5.0",
       "_model_name": "SliderStyleModel",
       "_view_count": null,
       "_view_module": "@jupyter-widgets/base",
       "_view_module_version": "1.2.0",
       "_view_name": "StyleView",
       "description_width": "",
       "handle_color": null
      }
     },
     "78febd68f7044f27a717a3cb9a61c5d7": {
      "model_module": "@jupyter-widgets/controls",
      "model_module_version": "1.5.0",
      "model_name": "FloatSliderModel",
      "state": {
       "_dom_classes": [],
       "_model_module": "@jupyter-widgets/controls",
       "_model_module_version": "1.5.0",
       "_model_name": "FloatSliderModel",
       "_view_count": null,
       "_view_module": "@jupyter-widgets/controls",
       "_view_module_version": "1.5.0",
       "_view_name": "FloatSliderView",
       "continuous_update": true,
       "description": "t",
       "description_tooltip": null,
       "disabled": false,
       "layout": "IPY_MODEL_19367816b3884fdd99c3efb4d4bdf805",
       "max": 10.0,
       "min": -10.0,
       "orientation": "horizontal",
       "readout": true,
       "readout_format": ".2f",
       "step": 0.1,
       "style": "IPY_MODEL_467af3570bad492aa5794f15e1ad257f",
       "value": 0.0
      }
     },
     "7b093250340549f69e5f478f251c57d3": {
      "model_module": "@jupyter-widgets/base",
      "model_module_version": "1.2.0",
      "model_name": "LayoutModel",
      "state": {
       "_model_module": "@jupyter-widgets/base",
       "_model_module_version": "1.2.0",
       "_model_name": "LayoutModel",
       "_view_count": null,
       "_view_module": "@jupyter-widgets/base",
       "_view_module_version": "1.2.0",
       "_view_name": "LayoutView",
       "align_content": null,
       "align_items": null,
       "align_self": null,
       "border": null,
       "bottom": null,
       "display": null,
       "flex": null,
       "flex_flow": null,
       "grid_area": null,
       "grid_auto_columns": null,
       "grid_auto_flow": null,
       "grid_auto_rows": null,
       "grid_column": null,
       "grid_gap": null,
       "grid_row": null,
       "grid_template_areas": null,
       "grid_template_columns": null,
       "grid_template_rows": null,
       "height": null,
       "justify_content": null,
       "justify_items": null,
       "left": null,
       "margin": null,
       "max_height": null,
       "max_width": null,
       "min_height": null,
       "min_width": null,
       "object_fit": null,
       "object_position": null,
       "order": null,
       "overflow": null,
       "overflow_x": null,
       "overflow_y": null,
       "padding": null,
       "right": null,
       "top": null,
       "visibility": null,
       "width": null
      }
     },
     "823f5cf3afe3476aaa8586b6ef541f55": {
      "model_module": "@jupyter-widgets/controls",
      "model_module_version": "1.5.0",
      "model_name": "SliderStyleModel",
      "state": {
       "_model_module": "@jupyter-widgets/controls",
       "_model_module_version": "1.5.0",
       "_model_name": "SliderStyleModel",
       "_view_count": null,
       "_view_module": "@jupyter-widgets/base",
       "_view_module_version": "1.2.0",
       "_view_name": "StyleView",
       "description_width": "",
       "handle_color": null
      }
     },
     "82d60a667b5c426583f04660bd3aadad": {
      "model_module": "@jupyter-widgets/output",
      "model_module_version": "1.0.0",
      "model_name": "OutputModel",
      "state": {
       "_dom_classes": [],
       "_model_module": "@jupyter-widgets/output",
       "_model_module_version": "1.0.0",
       "_model_name": "OutputModel",
       "_view_count": null,
       "_view_module": "@jupyter-widgets/output",
       "_view_module_version": "1.0.0",
       "_view_name": "OutputView",
       "layout": "IPY_MODEL_bbf217782cbb49a9aff8d654155ce00c",
       "msg_id": "",
       "outputs": [
        {
         "ename": "TypeError",
         "evalue": "ad_rad_transfer() missing 2 required positional arguments: 'gcos' and 'Vp'",
         "output_type": "error",
         "traceback": [
          "\u001b[0;31m---------------------------------------------------------------------------\u001b[0m",
          "\u001b[0;31mTypeError\u001b[0m                                 Traceback (most recent call last)",
          "File \u001b[0;32m~/programs/miniconda3/lib/python3.10/site-packages/ipywidgets/widgets/interaction.py:257\u001b[0m, in \u001b[0;36minteractive.update\u001b[0;34m(self, *args)\u001b[0m\n\u001b[1;32m    255\u001b[0m     value \u001b[38;5;241m=\u001b[39m widget\u001b[38;5;241m.\u001b[39mget_interact_value()\n\u001b[1;32m    256\u001b[0m     \u001b[38;5;28mself\u001b[39m\u001b[38;5;241m.\u001b[39mkwargs[widget\u001b[38;5;241m.\u001b[39m_kwarg] \u001b[38;5;241m=\u001b[39m value\n\u001b[0;32m--> 257\u001b[0m \u001b[38;5;28mself\u001b[39m\u001b[38;5;241m.\u001b[39mresult \u001b[38;5;241m=\u001b[39m \u001b[38;5;28;43mself\u001b[39;49m\u001b[38;5;241;43m.\u001b[39;49m\u001b[43mf\u001b[49m\u001b[43m(\u001b[49m\u001b[38;5;241;43m*\u001b[39;49m\u001b[38;5;241;43m*\u001b[39;49m\u001b[38;5;28;43mself\u001b[39;49m\u001b[38;5;241;43m.\u001b[39;49m\u001b[43mkwargs\u001b[49m\u001b[43m)\u001b[49m\n\u001b[1;32m    258\u001b[0m show_inline_matplotlib_plots()\n\u001b[1;32m    259\u001b[0m \u001b[38;5;28;01mif\u001b[39;00m \u001b[38;5;28mself\u001b[39m\u001b[38;5;241m.\u001b[39mauto_display \u001b[38;5;129;01mand\u001b[39;00m \u001b[38;5;28mself\u001b[39m\u001b[38;5;241m.\u001b[39mresult \u001b[38;5;129;01mis\u001b[39;00m \u001b[38;5;129;01mnot\u001b[39;00m \u001b[38;5;28;01mNone\u001b[39;00m:\n",
          "Cell \u001b[0;32mIn[10], line 5\u001b[0m, in \u001b[0;36mg\u001b[0;34m(fv, D)\u001b[0m\n\u001b[1;32m      3\u001b[0m \u001b[38;5;129m@interact\u001b[39m(fv\u001b[38;5;241m=\u001b[39m(\u001b[38;5;241m1\u001b[39m,\u001b[38;5;241m100\u001b[39m,\u001b[38;5;241m1\u001b[39m), D \u001b[38;5;241m=\u001b[39m (\u001b[38;5;241m10\u001b[39m,\u001b[38;5;241m200\u001b[39m,\u001b[38;5;241m1\u001b[39m))\n\u001b[1;32m      4\u001b[0m \u001b[38;5;28;01mdef\u001b[39;00m \u001b[38;5;21mg\u001b[39m(fv\u001b[38;5;241m=\u001b[39m\u001b[38;5;241m20\u001b[39m, D \u001b[38;5;241m=\u001b[39m \u001b[38;5;241m70\u001b[39m):\n\u001b[0;32m----> 5\u001b[0m     \u001b[38;5;28;01mreturn\u001b[39;00m \u001b[43mplot_glass_silver\u001b[49m\u001b[43m(\u001b[49m\u001b[43mfv\u001b[49m\u001b[43m,\u001b[49m\u001b[43mD\u001b[49m\u001b[43m)\u001b[49m\n",
          "Cell \u001b[0;32mIn[9], line 23\u001b[0m, in \u001b[0;36mplot_glass_silver\u001b[0;34m(fv, D)\u001b[0m\n\u001b[1;32m     21\u001b[0m qext, qsca \u001b[38;5;241m=\u001b[39m mie\u001b[38;5;241m.\u001b[39mscatter_efficiency(lam2,Nlayers[\u001b[38;5;241m1\u001b[39m],Np,D)[:\u001b[38;5;241m2\u001b[39m]\n\u001b[1;32m     22\u001b[0m qabs \u001b[38;5;241m=\u001b[39m qext \u001b[38;5;241m-\u001b[39m qsca\n\u001b[0;32m---> 23\u001b[0m Rtot, Ttot \u001b[38;5;241m=\u001b[39m \u001b[43mrt\u001b[49m\u001b[38;5;241;43m.\u001b[39;49m\u001b[43mad_rad_transfer\u001b[49m\u001b[43m(\u001b[49m\u001b[43mlam2\u001b[49m\u001b[43m,\u001b[49m\u001b[43mtfilm\u001b[49m\u001b[43m,\u001b[49m\u001b[43mNlayers\u001b[49m\u001b[43m,\u001b[49m\u001b[43mfv\u001b[49m\u001b[43m,\u001b[49m\u001b[43mD\u001b[49m\u001b[43m,\u001b[49m\u001b[43mNp\u001b[49m\u001b[43m)\u001b[49m\n\u001b[1;32m     25\u001b[0m fig, ax \u001b[38;5;241m=\u001b[39m plt\u001b[38;5;241m.\u001b[39msubplots(\u001b[38;5;241m1\u001b[39m,\u001b[38;5;241m3\u001b[39m)\n\u001b[1;32m     26\u001b[0m fig\u001b[38;5;241m.\u001b[39mset_size_inches(\u001b[38;5;241m20\u001b[39m, \u001b[38;5;241m5\u001b[39m)\n",
          "\u001b[0;31mTypeError\u001b[0m: ad_rad_transfer() missing 2 required positional arguments: 'gcos' and 'Vp'"
         ]
        }
       ]
      }
     },
     "90236e06e5b442d9bb457d62a757bfaf": {
      "model_module": "@jupyter-widgets/base",
      "model_module_version": "1.2.0",
      "model_name": "LayoutModel",
      "state": {
       "_model_module": "@jupyter-widgets/base",
       "_model_module_version": "1.2.0",
       "_model_name": "LayoutModel",
       "_view_count": null,
       "_view_module": "@jupyter-widgets/base",
       "_view_module_version": "1.2.0",
       "_view_name": "LayoutView",
       "align_content": null,
       "align_items": null,
       "align_self": null,
       "border": null,
       "bottom": null,
       "display": null,
       "flex": null,
       "flex_flow": null,
       "grid_area": null,
       "grid_auto_columns": null,
       "grid_auto_flow": null,
       "grid_auto_rows": null,
       "grid_column": null,
       "grid_gap": null,
       "grid_row": null,
       "grid_template_areas": null,
       "grid_template_columns": null,
       "grid_template_rows": null,
       "height": null,
       "justify_content": null,
       "justify_items": null,
       "left": null,
       "margin": null,
       "max_height": null,
       "max_width": null,
       "min_height": null,
       "min_width": null,
       "object_fit": null,
       "object_position": null,
       "order": null,
       "overflow": null,
       "overflow_x": null,
       "overflow_y": null,
       "padding": null,
       "right": null,
       "top": null,
       "visibility": null,
       "width": null
      }
     },
     "96d9dc385c7149f6bb6a992ec7779746": {
      "model_module": "@jupyter-widgets/controls",
      "model_module_version": "1.5.0",
      "model_name": "VBoxModel",
      "state": {
       "_dom_classes": [
        "widget-interact"
       ],
       "_model_module": "@jupyter-widgets/controls",
       "_model_module_version": "1.5.0",
       "_model_name": "VBoxModel",
       "_view_count": null,
       "_view_module": "@jupyter-widgets/controls",
       "_view_module_version": "1.5.0",
       "_view_name": "VBoxView",
       "box_style": "",
       "children": [
        "IPY_MODEL_bde5e5cefcd141e08e124d5f8b73c69f",
        "IPY_MODEL_78febd68f7044f27a717a3cb9a61c5d7",
        "IPY_MODEL_0efc42a4c4364b028c90367777111a1f",
        "IPY_MODEL_e4431d74192742b99ba0cb301cff9424"
       ],
       "layout": "IPY_MODEL_c0ff989af7554812b2710bb5ce4f9a80"
      }
     },
     "a5be0b9c99614c3c836399c9b45b351e": {
      "model_module": "@jupyter-widgets/controls",
      "model_module_version": "1.5.0",
      "model_name": "VBoxModel",
      "state": {
       "_dom_classes": [
        "widget-interact"
       ],
       "_model_module": "@jupyter-widgets/controls",
       "_model_module_version": "1.5.0",
       "_model_name": "VBoxModel",
       "_view_count": null,
       "_view_module": "@jupyter-widgets/controls",
       "_view_module_version": "1.5.0",
       "_view_name": "VBoxView",
       "box_style": "",
       "children": [
        "IPY_MODEL_fb4854e73dc54e93bbaa5d0f655314f0",
        "IPY_MODEL_41455260fa674d778de0c62385e48d5e",
        "IPY_MODEL_82d60a667b5c426583f04660bd3aadad"
       ],
       "layout": "IPY_MODEL_aee4e430965b44d5804f0c79ce204814"
      }
     },
     "a76564af3730467a8296e8dc84d6a0f4": {
      "model_module": "@jupyter-widgets/controls",
      "model_module_version": "1.5.0",
      "model_name": "FloatSliderModel",
      "state": {
       "_dom_classes": [],
       "_model_module": "@jupyter-widgets/controls",
       "_model_module_version": "1.5.0",
       "_model_name": "FloatSliderModel",
       "_view_count": null,
       "_view_module": "@jupyter-widgets/controls",
       "_view_module_version": "1.5.0",
       "_view_name": "FloatSliderView",
       "continuous_update": true,
       "description": "t",
       "description_tooltip": null,
       "disabled": false,
       "layout": "IPY_MODEL_0d8b0612abaf43c4bc58e9d4797bbcaf",
       "max": 20.0,
       "min": 0.0,
       "orientation": "horizontal",
       "readout": true,
       "readout_format": ".2f",
       "step": 0.1,
       "style": "IPY_MODEL_63113833aa474f2ebe971efec0fdd7fb",
       "value": 2.0
      }
     },
     "aadd408a8d9540a5ae47e2f11372a927": {
      "model_module": "@jupyter-widgets/controls",
      "model_module_version": "1.5.0",
      "model_name": "IntSliderModel",
      "state": {
       "_dom_classes": [],
       "_model_module": "@jupyter-widgets/controls",
       "_model_module_version": "1.5.0",
       "_model_name": "IntSliderModel",
       "_view_count": null,
       "_view_module": "@jupyter-widgets/controls",
       "_view_module_version": "1.5.0",
       "_view_name": "IntSliderView",
       "continuous_update": true,
       "description": "N",
       "description_tooltip": null,
       "disabled": false,
       "layout": "IPY_MODEL_197d20c270ab46b3b10310840d1407f0",
       "max": 1000,
       "min": 1,
       "orientation": "horizontal",
       "readout": true,
       "readout_format": "d",
       "step": 1,
       "style": "IPY_MODEL_7842907a66e547968ff84bd0273febc9",
       "value": 1000
      }
     },
     "aee4e430965b44d5804f0c79ce204814": {
      "model_module": "@jupyter-widgets/base",
      "model_module_version": "1.2.0",
      "model_name": "LayoutModel",
      "state": {
       "_model_module": "@jupyter-widgets/base",
       "_model_module_version": "1.2.0",
       "_model_name": "LayoutModel",
       "_view_count": null,
       "_view_module": "@jupyter-widgets/base",
       "_view_module_version": "1.2.0",
       "_view_name": "LayoutView",
       "align_content": null,
       "align_items": null,
       "align_self": null,
       "border": null,
       "bottom": null,
       "display": null,
       "flex": null,
       "flex_flow": null,
       "grid_area": null,
       "grid_auto_columns": null,
       "grid_auto_flow": null,
       "grid_auto_rows": null,
       "grid_column": null,
       "grid_gap": null,
       "grid_row": null,
       "grid_template_areas": null,
       "grid_template_columns": null,
       "grid_template_rows": null,
       "height": null,
       "justify_content": null,
       "justify_items": null,
       "left": null,
       "margin": null,
       "max_height": null,
       "max_width": null,
       "min_height": null,
       "min_width": null,
       "object_fit": null,
       "object_position": null,
       "order": null,
       "overflow": null,
       "overflow_x": null,
       "overflow_y": null,
       "padding": null,
       "right": null,
       "top": null,
       "visibility": null,
       "width": null
      }
     },
     "bbf217782cbb49a9aff8d654155ce00c": {
      "model_module": "@jupyter-widgets/base",
      "model_module_version": "1.2.0",
      "model_name": "LayoutModel",
      "state": {
       "_model_module": "@jupyter-widgets/base",
       "_model_module_version": "1.2.0",
       "_model_name": "LayoutModel",
       "_view_count": null,
       "_view_module": "@jupyter-widgets/base",
       "_view_module_version": "1.2.0",
       "_view_name": "LayoutView",
       "align_content": null,
       "align_items": null,
       "align_self": null,
       "border": null,
       "bottom": null,
       "display": null,
       "flex": null,
       "flex_flow": null,
       "grid_area": null,
       "grid_auto_columns": null,
       "grid_auto_flow": null,
       "grid_auto_rows": null,
       "grid_column": null,
       "grid_gap": null,
       "grid_row": null,
       "grid_template_areas": null,
       "grid_template_columns": null,
       "grid_template_rows": null,
       "height": null,
       "justify_content": null,
       "justify_items": null,
       "left": null,
       "margin": null,
       "max_height": null,
       "max_width": null,
       "min_height": null,
       "min_width": null,
       "object_fit": null,
       "object_position": null,
       "order": null,
       "overflow": null,
       "overflow_x": null,
       "overflow_y": null,
       "padding": null,
       "right": null,
       "top": null,
       "visibility": null,
       "width": null
      }
     },
     "bde5e5cefcd141e08e124d5f8b73c69f": {
      "model_module": "@jupyter-widgets/controls",
      "model_module_version": "1.5.0",
      "model_name": "IntSliderModel",
      "state": {
       "_dom_classes": [],
       "_model_module": "@jupyter-widgets/controls",
       "_model_module_version": "1.5.0",
       "_model_name": "IntSliderModel",
       "_view_count": null,
       "_view_module": "@jupyter-widgets/controls",
       "_view_module_version": "1.5.0",
       "_view_name": "IntSliderView",
       "continuous_update": true,
       "description": "N",
       "description_tooltip": null,
       "disabled": false,
       "layout": "IPY_MODEL_7b093250340549f69e5f478f251c57d3",
       "max": 1000,
       "min": 1,
       "orientation": "horizontal",
       "readout": true,
       "readout_format": "d",
       "step": 1,
       "style": "IPY_MODEL_6a19df924ec74bf187175b1c65708217",
       "value": 1000
      }
     },
     "be87def4bdec48c1b483036671c505d5": {
      "model_module": "@jupyter-widgets/controls",
      "model_module_version": "1.5.0",
      "model_name": "VBoxModel",
      "state": {
       "_dom_classes": [
        "widget-interact"
       ],
       "_model_module": "@jupyter-widgets/controls",
       "_model_module_version": "1.5.0",
       "_model_name": "VBoxModel",
       "_view_count": null,
       "_view_module": "@jupyter-widgets/controls",
       "_view_module_version": "1.5.0",
       "_view_name": "VBoxView",
       "box_style": "",
       "children": [
        "IPY_MODEL_484090dc929a471b91580e6edeb0c8f9",
        "IPY_MODEL_f9c21e960ba54a828a8ec1344ca32799"
       ],
       "layout": "IPY_MODEL_20f81e279e7f4f7999faef4a6a093c24"
      }
     },
     "c0ff989af7554812b2710bb5ce4f9a80": {
      "model_module": "@jupyter-widgets/base",
      "model_module_version": "1.2.0",
      "model_name": "LayoutModel",
      "state": {
       "_model_module": "@jupyter-widgets/base",
       "_model_module_version": "1.2.0",
       "_model_name": "LayoutModel",
       "_view_count": null,
       "_view_module": "@jupyter-widgets/base",
       "_view_module_version": "1.2.0",
       "_view_name": "LayoutView",
       "align_content": null,
       "align_items": null,
       "align_self": null,
       "border": null,
       "bottom": null,
       "display": null,
       "flex": null,
       "flex_flow": null,
       "grid_area": null,
       "grid_auto_columns": null,
       "grid_auto_flow": null,
       "grid_auto_rows": null,
       "grid_column": null,
       "grid_gap": null,
       "grid_row": null,
       "grid_template_areas": null,
       "grid_template_columns": null,
       "grid_template_rows": null,
       "height": null,
       "justify_content": null,
       "justify_items": null,
       "left": null,
       "margin": null,
       "max_height": null,
       "max_width": null,
       "min_height": null,
       "min_width": null,
       "object_fit": null,
       "object_position": null,
       "order": null,
       "overflow": null,
       "overflow_x": null,
       "overflow_y": null,
       "padding": null,
       "right": null,
       "top": null,
       "visibility": null,
       "width": null
      }
     },
     "d5b40259b52c4ca3bc7389d8aa1abb9f": {
      "model_module": "@jupyter-widgets/base",
      "model_module_version": "1.2.0",
      "model_name": "LayoutModel",
      "state": {
       "_model_module": "@jupyter-widgets/base",
       "_model_module_version": "1.2.0",
       "_model_name": "LayoutModel",
       "_view_count": null,
       "_view_module": "@jupyter-widgets/base",
       "_view_module_version": "1.2.0",
       "_view_name": "LayoutView",
       "align_content": null,
       "align_items": null,
       "align_self": null,
       "border": null,
       "bottom": null,
       "display": null,
       "flex": null,
       "flex_flow": null,
       "grid_area": null,
       "grid_auto_columns": null,
       "grid_auto_flow": null,
       "grid_auto_rows": null,
       "grid_column": null,
       "grid_gap": null,
       "grid_row": null,
       "grid_template_areas": null,
       "grid_template_columns": null,
       "grid_template_rows": null,
       "height": null,
       "justify_content": null,
       "justify_items": null,
       "left": null,
       "margin": null,
       "max_height": null,
       "max_width": null,
       "min_height": null,
       "min_width": null,
       "object_fit": null,
       "object_position": null,
       "order": null,
       "overflow": null,
       "overflow_x": null,
       "overflow_y": null,
       "padding": null,
       "right": null,
       "top": null,
       "visibility": null,
       "width": null
      }
     },
     "d757bea6506045bd8cce95514c66ed2a": {
      "model_module": "@jupyter-widgets/base",
      "model_module_version": "1.2.0",
      "model_name": "LayoutModel",
      "state": {
       "_model_module": "@jupyter-widgets/base",
       "_model_module_version": "1.2.0",
       "_model_name": "LayoutModel",
       "_view_count": null,
       "_view_module": "@jupyter-widgets/base",
       "_view_module_version": "1.2.0",
       "_view_name": "LayoutView",
       "align_content": null,
       "align_items": null,
       "align_self": null,
       "border": null,
       "bottom": null,
       "display": null,
       "flex": null,
       "flex_flow": null,
       "grid_area": null,
       "grid_auto_columns": null,
       "grid_auto_flow": null,
       "grid_auto_rows": null,
       "grid_column": null,
       "grid_gap": null,
       "grid_row": null,
       "grid_template_areas": null,
       "grid_template_columns": null,
       "grid_template_rows": null,
       "height": null,
       "justify_content": null,
       "justify_items": null,
       "left": null,
       "margin": null,
       "max_height": null,
       "max_width": null,
       "min_height": null,
       "min_width": null,
       "object_fit": null,
       "object_position": null,
       "order": null,
       "overflow": null,
       "overflow_x": null,
       "overflow_y": null,
       "padding": null,
       "right": null,
       "top": null,
       "visibility": null,
       "width": null
      }
     },
     "e4431d74192742b99ba0cb301cff9424": {
      "model_module": "@jupyter-widgets/output",
      "model_module_version": "1.0.0",
      "model_name": "OutputModel",
      "state": {
       "_dom_classes": [],
       "_model_module": "@jupyter-widgets/output",
       "_model_module_version": "1.0.0",
       "_model_name": "OutputModel",
       "_view_count": null,
       "_view_module": "@jupyter-widgets/output",
       "_view_module_version": "1.0.0",
       "_view_name": "OutputView",
       "layout": "IPY_MODEL_e74833daf1fa4ab6bacbd384d775818a",
       "msg_id": "",
       "outputs": [
        {
         "data": {
          "image/png": "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\n",
          "text/plain": "<Figure size 900x500 with 1 Axes>"
         },
         "metadata": {},
         "output_type": "display_data"
        }
       ]
      }
     },
     "e74833daf1fa4ab6bacbd384d775818a": {
      "model_module": "@jupyter-widgets/base",
      "model_module_version": "1.2.0",
      "model_name": "LayoutModel",
      "state": {
       "_model_module": "@jupyter-widgets/base",
       "_model_module_version": "1.2.0",
       "_model_name": "LayoutModel",
       "_view_count": null,
       "_view_module": "@jupyter-widgets/base",
       "_view_module_version": "1.2.0",
       "_view_name": "LayoutView",
       "align_content": null,
       "align_items": null,
       "align_self": null,
       "border": null,
       "bottom": null,
       "display": null,
       "flex": null,
       "flex_flow": null,
       "grid_area": null,
       "grid_auto_columns": null,
       "grid_auto_flow": null,
       "grid_auto_rows": null,
       "grid_column": null,
       "grid_gap": null,
       "grid_row": null,
       "grid_template_areas": null,
       "grid_template_columns": null,
       "grid_template_rows": null,
       "height": null,
       "justify_content": null,
       "justify_items": null,
       "left": null,
       "margin": null,
       "max_height": null,
       "max_width": null,
       "min_height": null,
       "min_width": null,
       "object_fit": null,
       "object_position": null,
       "order": null,
       "overflow": null,
       "overflow_x": null,
       "overflow_y": null,
       "padding": null,
       "right": null,
       "top": null,
       "visibility": null,
       "width": null
      }
     },
     "f9c21e960ba54a828a8ec1344ca32799": {
      "model_module": "@jupyter-widgets/output",
      "model_module_version": "1.0.0",
      "model_name": "OutputModel",
      "state": {
       "_dom_classes": [],
       "_model_module": "@jupyter-widgets/output",
       "_model_module_version": "1.0.0",
       "_model_name": "OutputModel",
       "_view_count": null,
       "_view_module": "@jupyter-widgets/output",
       "_view_module_version": "1.0.0",
       "_view_name": "OutputView",
       "layout": "IPY_MODEL_717433d1c84849f3a05f18f5d446c59c",
       "msg_id": "",
       "outputs": [
        {
         "data": {
          "image/png": "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\n",
          "text/plain": "<Figure size 800x500 with 2 Axes>"
         },
         "metadata": {},
         "output_type": "display_data"
        }
       ]
      }
     },
     "fb4854e73dc54e93bbaa5d0f655314f0": {
      "model_module": "@jupyter-widgets/controls",
      "model_module_version": "1.5.0",
      "model_name": "IntSliderModel",
      "state": {
       "_dom_classes": [],
       "_model_module": "@jupyter-widgets/controls",
       "_model_module_version": "1.5.0",
       "_model_name": "IntSliderModel",
       "_view_count": null,
       "_view_module": "@jupyter-widgets/controls",
       "_view_module_version": "1.5.0",
       "_view_name": "IntSliderView",
       "continuous_update": true,
       "description": "fv",
       "description_tooltip": null,
       "disabled": false,
       "layout": "IPY_MODEL_90236e06e5b442d9bb457d62a757bfaf",
       "max": 100,
       "min": 1,
       "orientation": "horizontal",
       "readout": true,
       "readout_format": "d",
       "step": 1,
       "style": "IPY_MODEL_156a654af7664c1cb1c1f320b204c5ff",
       "value": 20
      }
     },
     "fde2cc5a46ea4f87bd1b024ed8afbeb3": {
      "model_module": "@jupyter-widgets/base",
      "model_module_version": "1.2.0",
      "model_name": "LayoutModel",
      "state": {
       "_model_module": "@jupyter-widgets/base",
       "_model_module_version": "1.2.0",
       "_model_name": "LayoutModel",
       "_view_count": null,
       "_view_module": "@jupyter-widgets/base",
       "_view_module_version": "1.2.0",
       "_view_name": "LayoutView",
       "align_content": null,
       "align_items": null,
       "align_self": null,
       "border": null,
       "bottom": null,
       "display": null,
       "flex": null,
       "flex_flow": null,
       "grid_area": null,
       "grid_auto_columns": null,
       "grid_auto_flow": null,
       "grid_auto_rows": null,
       "grid_column": null,
       "grid_gap": null,
       "grid_row": null,
       "grid_template_areas": null,
       "grid_template_columns": null,
       "grid_template_rows": null,
       "height": null,
       "justify_content": null,
       "justify_items": null,
       "left": null,
       "margin": null,
       "max_height": null,
       "max_width": null,
       "min_height": null,
       "min_width": null,
       "object_fit": null,
       "object_position": null,
       "order": null,
       "overflow": null,
       "overflow_x": null,
       "overflow_y": null,
       "padding": null,
       "right": null,
       "top": null,
       "visibility": null,
       "width": null
      }
     }
    },
    "version_major": 2,
    "version_minor": 0
   }
  }
 },
 "nbformat": 4,
 "nbformat_minor": 5
}