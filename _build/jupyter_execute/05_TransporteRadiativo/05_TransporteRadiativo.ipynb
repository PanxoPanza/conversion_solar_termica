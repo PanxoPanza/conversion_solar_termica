{
 "cells": [
  {
   "cell_type": "markdown",
   "id": "8b01ca79",
   "metadata": {
    "slideshow": {
     "slide_type": "slide"
    }
   },
   "source": [
    "# Transporte Radiativo"
   ]
  },
  {
   "cell_type": "markdown",
   "id": "580ab8db",
   "metadata": {
    "slideshow": {
     "slide_type": "slide"
    }
   },
   "source": [
    "## Introducción"
   ]
  },
  {
   "cell_type": "markdown",
   "id": "dadf38f1",
   "metadata": {
    "slideshow": {
     "slide_type": "fragment"
    }
   },
   "source": [
    "En la [unidad 2](../02_ondas_EM_en_la_materia/02_ondas_EM_en_la_materia.ipynb) revisamos el efecto de interferencia en películas de espesor finito, y como está daba lugar a la coloración tornasol caractéristica en derrames de aceites en agua, lentes y discos compactos.\n",
    "\n",
    "<img src=\"./images/interference_oils.png\" width=\"700px\" align= center>"
   ]
  },
  {
   "cell_type": "markdown",
   "id": "d2dc01e9",
   "metadata": {
    "slideshow": {
     "slide_type": "fragment"
    }
   },
   "source": [
    "Si, teóricamente, el efecto de interferencia ocurre cada vez que tenemos un tercer material intercalado entre dos materiales (iguales o diferentes). **¿Porqué no visualizamos este efecto en ventanas u otros materiales de gran espesor?**"
   ]
  },
  {
   "cell_type": "markdown",
   "id": "9ff4cae4",
   "metadata": {
    "slideshow": {
     "slide_type": "slide"
    }
   },
   "source": [
    "## Coherencia de la luz e interferencia\n",
    "\n",
    "Para entender esto, primero debemos revisar la distribución espectral de fuentes reales de luz\n",
    "\n",
    "<img src=\"./images/light_source_spectra.png\" width=\"800px\" align= center>"
   ]
  },
  {
   "cell_type": "markdown",
   "id": "16081fa2",
   "metadata": {
    "slideshow": {
     "slide_type": "fragment"
    }
   },
   "source": [
    "Como vemos, una fuente emite luz en varias longitudes de onda y a distinta intensidad. Así, las ondas emitidas se superponen, generando una onda resultante con una forma distinta a $e^{i(\\vec{k}\\cdot\\vec{r} -\\omega t)}$."
   ]
  },
  {
   "cell_type": "markdown",
   "id": "b54cf722",
   "metadata": {
    "slideshow": {
     "slide_type": "slide"
    }
   },
   "source": [
    "Consideremos, por ejemplo, una fuente de luz con una distribución espectral normal, centrada en $\\lambda_0$ y con una desviación estandar $\\pm\\sigma_\\lambda\\lambda_0$, con $\\sigma_\\lambda \\in [0,1]$. Imaginemos esta fuente como $N$ emisores, donde cada emisor $j$ emite una onda electromagnéticas con longitud de onda $\\lambda \\pm\\Delta \\lambda_j$, donde $\\Delta \\lambda_j$ es escogido aleatoriamente a partir de la distribución normal."
   ]
  },
  {
   "cell_type": "markdown",
   "id": "31f81723",
   "metadata": {
    "cell_style": "split",
    "slideshow": {
     "slide_type": "fragment"
    }
   },
   "source": [
    "<img src=\"./images/normal_distribution.png\" width=\"400px\" align= center>"
   ]
  },
  {
   "cell_type": "markdown",
   "id": "76d68ef4",
   "metadata": {
    "cell_style": "split",
    "slideshow": {
     "slide_type": "fragment"
    }
   },
   "source": [
    "Asumiendo ondas en el aire en dirección $\\hat{k} = \\hat{x}$, el campo eléctrico resultante es:\n",
    "\n",
    "\\begin{equation*}\n",
    "\\vec{E}_\\mathrm{tot} = \\sum_j^N E_0e^{i\\left(k_jx - \\omega_j t\\right)} \\hat{z},\n",
    "\\end{equation*}\n",
    "\n",
    "donde $k_j = \\frac{2\\pi}{\\lambda \\pm\\Delta \\lambda_j}$, y $\\omega_j = c_0k_j$"
   ]
  },
  {
   "cell_type": "markdown",
   "id": "e5e55e68",
   "metadata": {
    "cell_style": "center",
    "slideshow": {
     "slide_type": "slide"
    }
   },
   "source": [
    "Analicemos el comportamiento de $\\vec{E}_\\mathrm{tot} /E_0$ para $\\lambda_0 = 500$ nm"
   ]
  },
  {
   "cell_type": "code",
   "execution_count": 1,
   "id": "37df7e74",
   "metadata": {
    "cell_style": "center",
    "slideshow": {
     "slide_type": "skip"
    },
    "tags": [
     "hide-input"
    ]
   },
   "outputs": [],
   "source": [
    "import numpy as np\n",
    "from numpy.random import normal\n",
    "import matplotlib.pyplot as plt\n",
    "\n",
    "def light_packet(kdir, x, t, lam, sig, N):\n",
    "    c0 = 3E8          # velocidad de la luz (m/s)\n",
    "    xx = np.meshgrid(x,np.ones(N))[0]\n",
    "    \n",
    "    # Generamos arreglo de ondas aleatorias\n",
    "    dlamj =  normal(0, lam*sig,N)\n",
    "    kj = (2*np.pi/(lam + dlamj)).reshape(-1,1)\n",
    "    wj = c0*kj\n",
    "    Erand = np.exp(1j*(kdir*kj*xx-wj*t)) \n",
    "    \n",
    "    # Sumamos todas las ondas\n",
    "    return np.sum(Erand,axis=0)\n",
    " \n",
    "def plot_light_packet(N, t, sig):\n",
    "    '''\n",
    "    n: número de ondas generadas\n",
    "    t: tiempo en ns\n",
    "    sig: % de ancho de banda (dlam = sig*lam)\n",
    "    '''\n",
    "    lam = 0.5         # longitud de onda (um)\n",
    "    t = t*1E-9 # convertimos ns a s\n",
    "    \n",
    "    # recorrido de la onda\n",
    "    x = np.linspace(-2,2,1000)  # desde 0 a 4 micrones\n",
    "    E = light_packet(1, x, t, lam, sig, N)\n",
    "    \n",
    "    # Graficamos\n",
    "    fig, ax = plt.subplots()\n",
    "    fig.set_size_inches(6, 3)\n",
    "    plt.rcParams['font.size'] = '12'\n",
    "    \n",
    "    ax.plot(x,np.real(E), 'k')\n",
    "    ax.set_xlabel('x ($\\mu$m)')\n",
    "    ax.set_ylabel('Amplitud $|E|/E_0$')\n",
    "    ax.set_ylim(-N*1.1,N*1.1)\n",
    "    ax.grid()\n"
   ]
  },
  {
   "cell_type": "code",
   "execution_count": 2,
   "id": "5c81aca7",
   "metadata": {
    "cell_style": "center",
    "slideshow": {
     "slide_type": "fragment"
    },
    "tags": [
     "hide-input"
    ]
   },
   "outputs": [
    {
     "data": {
      "application/vnd.jupyter.widget-view+json": {
       "model_id": "e407d9793a41465ebc762737ca4431ea",
       "version_major": 2,
       "version_minor": 0
      },
      "text/plain": [
       "interactive(children=(IntSlider(value=1000, description='N', max=1000, min=1), FloatSlider(value=0.0, descript…"
      ]
     },
     "metadata": {},
     "output_type": "display_data"
    }
   ],
   "source": [
    "from ipywidgets import interact\n",
    "\n",
    "@interact( N=(1,1000,1), \n",
    "           t=(-10,10,0.1),\n",
    "           sig=(0,1,0.01))\n",
    "def g(N=1000, t=0, sig=0.3):\n",
    "    return plot_light_packet(N,t,sig)"
   ]
  },
  {
   "cell_type": "markdown",
   "id": "b53bb755",
   "metadata": {
    "slideshow": {
     "slide_type": "slide"
    }
   },
   "source": [
    "### Longitud de coherencia\n",
    "Definimos como **longitud de coherencia**, $l_c$, a la distancia donde un grupo de ondas electromagnética mantiene correlación entre las fases. Dos puntos en una paquete de onda separados a una distancia mayor a $l_c$ son incoherentes, es decir, no están correlacionados"
   ]
  },
  {
   "cell_type": "markdown",
   "id": "3ea340f8",
   "metadata": {
    "cell_style": "split",
    "slideshow": {
     "slide_type": "fragment"
    }
   },
   "source": [
    "<img src=\"./images/coherence_length.png\" width=\"300px\" align= center>\n",
    "\n",
    "<center>Esquema de un paquete de onda emitido por una fuente con longitud de coherencia $l_c$</center>"
   ]
  },
  {
   "cell_type": "markdown",
   "id": "1f71b46f",
   "metadata": {
    "cell_style": "split",
    "slideshow": {
     "slide_type": "fragment"
    }
   },
   "source": [
    "La relación entre $l_c$, la longitud de onda central $\\lambda$ y el ancho de banda $\\Delta\\lambda$ está dado, aproximadamente, por la relación:\n",
    "\n",
    "\\begin{equation*}\n",
    "l_c \\approx \\frac{\\lambda^2}{n\\Delta \\lambda},\n",
    "\\end{equation*}\n",
    "\n",
    "donde $n$ es el indice de refracción del medio donde se propaga la luz.\n",
    "\n",
    "Por ejemplo, para lasers He-Ne (laser rojo)  $l_c\\approx 0.2 - 100$ m.  "
   ]
  },
  {
   "cell_type": "markdown",
   "id": "b8e319bd",
   "metadata": {
    "slideshow": {
     "slide_type": "slide"
    }
   },
   "source": [
    "Para radiación emitida por un cuerpo a temperatura $T$, la longitud de coherencia está dada por:\n",
    "\n",
    "\\begin{equation*}\n",
    "l_c T = 2167.8~\\mathrm{\\mu m~K}\n",
    "\\end{equation*}\n",
    "\n",
    "Así, por ejemplo, la radiación solar ($T \\approx 5800~\\mathrm{K}$) tiene una longitud de coherencia, $l_c \\approx 370~\\mathrm{nm}$"
   ]
  },
  {
   "cell_type": "markdown",
   "id": "659f7454",
   "metadata": {
    "slideshow": {
     "slide_type": "slide"
    }
   },
   "source": [
    "### Régimen de trasporte de luz\n",
    "Los fenómenos de interferencia descritos en las unidades anteriores existen debido a la forma oscilatoria de la luz. **Dos paquetes de ondas distintos son incoherentes, y la superposición de estos no genera interferencia.**"
   ]
  },
  {
   "cell_type": "markdown",
   "id": "615ad1c6",
   "metadata": {
    "slideshow": {
     "slide_type": "slide"
    }
   },
   "source": [
    "En otras palabras, el fenómeno de interferencia solo existe si el paquete de onda interfiere consigo mismo. Así, podemos concluir que los fenómenos de interferencia en películas de espesor $d$ no serían visibles si $d > l_c$. "
   ]
  },
  {
   "cell_type": "markdown",
   "id": "db4d20e4",
   "metadata": {
    "cell_style": "split",
    "slideshow": {
     "slide_type": "fragment"
    }
   },
   "source": [
    "<img src=\"./images/interference_thinfilm.png\" width=\"200px\" align= center>\n",
    "\n",
    "<center>Propagación de una onda a través de una película de espesor $d$, con $l_c < d$</center>"
   ]
  },
  {
   "cell_type": "markdown",
   "id": "fce7ef57",
   "metadata": {
    "cell_style": "split",
    "slideshow": {
     "slide_type": "fragment"
    }
   },
   "source": [
    "En general, para una longitud características $d$, la regla es:\n",
    "\n",
    "- Si $d > l_c$ el **transporte de luz es incoherente** . En este régimen, podemos ignorar las propiedades oscilatorias de la luz, y analizar el problema como el transporte de pequeños paquetes de onda, o simplemente como partículas.\n",
    "\n",
    "- Si $d < l_c$, el **transporte de luz es coherente**. En este régimen debemos considerar las propiedades oscilatorias a partir de las Ecuaciones de Maxwell."
   ]
  },
  {
   "cell_type": "markdown",
   "id": "06aab8e7",
   "metadata": {
    "cell_style": "center",
    "slideshow": {
     "slide_type": "fragment"
    }
   },
   "source": [
    "Así, **los coeficientes de Fresnel para una película delgada solo son aplicables si $d < l_c$.**"
   ]
  },
  {
   "cell_type": "markdown",
   "id": "c7f85265",
   "metadata": {
    "cell_style": "center",
    "slideshow": {
     "slide_type": "slide"
    }
   },
   "source": [
    "Los coeficientes de Fresnel para una interface, en cambio, siempre son válidos debido a que consideran una interface infinitamente delgada."
   ]
  },
  {
   "cell_type": "markdown",
   "id": "57178760",
   "metadata": {
    "cell_style": "center",
    "slideshow": {
     "slide_type": "fragment"
    }
   },
   "source": [
    "<img src=\"./images/interference_interface.png\" width=\"350px\" align= center>\n",
    "\n",
    "<center>Refracción y reflexión de una onda incoherente a través de una interfaz</center>"
   ]
  },
  {
   "cell_type": "markdown",
   "id": "0c79f1b6",
   "metadata": {
    "slideshow": {
     "slide_type": "slide"
    }
   },
   "source": [
    "En medios particulados, los fenómenos de interferencia pueden ocurrir si las partículas están suficientemente cerca y tienen tamaños similares. Llamamos a esto **scattering coherente**"
   ]
  },
  {
   "cell_type": "markdown",
   "id": "61e2a519",
   "metadata": {
    "slideshow": {
     "slide_type": "fragment"
    }
   },
   "source": [
    "<img src=\"./images/scattering_coherence.png\" width=\"600px\" align= center>\n",
    "\n",
    "<center>Fenómeno de interferencia en scattering</center>"
   ]
  },
  {
   "cell_type": "markdown",
   "id": "8167d93c",
   "metadata": {
    "slideshow": {
     "slide_type": "slide"
    }
   },
   "source": [
    "El fenómeno de scattering coherente da lugar a los denominados **colores estructurales** presentes en las alas de las aves y mariposas (mas info [acá](https://wires.onlinelibrary.wiley.com/doi/10.1002/wnan.1396))"
   ]
  },
  {
   "cell_type": "markdown",
   "id": "06446d60",
   "metadata": {
    "cell_style": "split",
    "slideshow": {
     "slide_type": "fragment"
    }
   },
   "source": [
    "<img src=\"./images/structural_colors_birds.png\" width=\"550px\" align= center>\n",
    "\n",
    "<center>Colores estructurales en alas de aves</center>\n",
    "\n",
    "Fuente: [Hwang, V. et al. PNAS 118 (4) e2015551118\n",
    " (2020)](https://www.pnas.org/doi/10.1073/pnas.2015551118)"
   ]
  },
  {
   "cell_type": "markdown",
   "id": "71eaafb2",
   "metadata": {
    "cell_style": "split",
    "slideshow": {
     "slide_type": "fragment"
    }
   },
   "source": [
    "<img src=\"./images/structural_colors_buterflies.png\" width=\"450px\" align= center>\n",
    "\n",
    "<center>Colores estructurales en alas de mariposa</center>\n",
    "\n",
    "Fuente: [Tippets C. A. et al. J. Opt. 18 (2016) 065105](https://iopscience.iop.org/article/10.1088/2040-8978/18/6/065105)"
   ]
  },
  {
   "cell_type": "markdown",
   "id": "f629fcbe",
   "metadata": {
    "slideshow": {
     "slide_type": "slide"
    }
   },
   "source": [
    "## Teoría de transferencia radiativa\n",
    "Si el transporte de luz es incoherente, podemos ignorar las propiedades oscilatorias de la luz y analizar el fenómeno óptico como un el transporte de radiación a través de un volumen de control."
   ]
  },
  {
   "cell_type": "markdown",
   "id": "f62e3c70",
   "metadata": {
    "slideshow": {
     "slide_type": "slide"
    }
   },
   "source": [
    "### Intensidad específica"
   ]
  },
  {
   "cell_type": "markdown",
   "id": "790c7714",
   "metadata": {
    "cell_style": "split",
    "slideshow": {
     "slide_type": "-"
    }
   },
   "source": [
    "Definimos como **radiancia espectral o intensidad específica**, $I_\\lambda$, al flujo de energía por **ángulo sólido diferencial**, $d\\Omega$, para una longitud de onda $\\lambda$.\n",
    "\n",
    "<img src=\"./images/specific_intensity.png\" width=\"300px\" align= center>"
   ]
  },
  {
   "cell_type": "markdown",
   "id": "8568f20b",
   "metadata": {
    "cell_style": "split",
    "slideshow": {
     "slide_type": "fragment"
    }
   },
   "source": [
    "El ángulo sólido define el tamaño relativo del área $S$ para un observador en $P$ a una distancia $r$. \n",
    "\n",
    "El diferencial está definido por $d\\Omega = \\sin\\theta d\\theta d\\phi$\n",
    "\n",
    "<img src=\"./images/solid_angle.png\" width=\"450px\" align= center>"
   ]
  },
  {
   "cell_type": "markdown",
   "id": "0d8ed016",
   "metadata": {
    "slideshow": {
     "slide_type": "slide"
    }
   },
   "source": [
    "Es importante aclarar que los conceptos intensidad específica y vector de Poynting $\\langle\\vec{S}\\rangle$, son equivalentes: $I_\\lambda(\\hat{k})$ es un término utilizado en radiometría para definir el flujo de energía por unidad de ángulo sólido, mientras que $\\langle\\vec{S}\\rangle$ es un término utilizado en óptica para describir el flujo de energía en dirección $\\hat{k}$. Cabe destacar, sin embargo, que $I_\\lambda(\\hat{k})$ es una magnitud, y $\\langle\\vec{S}\\rangle$ es un vector. Así, podríamos decir que la relación entre estos dos términos está dada por $I_\\lambda(\\hat{k}) = \\langle\\vec{S}\\rangle\\cdot\\hat{k}$."
   ]
  },
  {
   "cell_type": "markdown",
   "id": "921c9262",
   "metadata": {
    "slideshow": {
     "slide_type": "slide"
    }
   },
   "source": [
    "### Ecuación de transferencia radiativa\n",
    "La **ecuación de transferencia radiativa** (RTE por sus siglas en ingles), es una ecuación de transporte que describe la propagación de la radiancia espectral, $I_\\lambda(\\vec{r},\\hat{k})$, en función de la posición posición $\\vec{r}$ y dirección $\\hat{k}$. En su forma más general, para un problema estacionario:\n",
    "\n",
    "\\begin{equation}\n",
    "\\hat{k}\\cdot\\nabla_r I_\\lambda(\\vec{r},\\hat{k}) = - \\left[\\frac{f_v}{V_p}C_\\mathrm{ext} + 2\\kappa k_0\\right]I_\\lambda(\\vec{r},\\hat{k}) + \\frac{f_v}{V_p}\\int_{4\\pi} P_\\mathrm{sca}(\\hat{k},\\hat{k}') I_\\lambda(\\vec{r},\\hat{k}') d\\Omega'\n",
    "\\end{equation}"
   ]
  },
  {
   "cell_type": "markdown",
   "id": "44c82ce8",
   "metadata": {
    "slideshow": {
     "slide_type": "fragment"
    }
   },
   "source": [
    "donde $f_v$ y $V_p$ son, respectivamente la fracción de volúmen y el volúmen de las partículas en el medio, y $P_\\mathrm{sca}(\\hat{k},\\hat{k}')$ es la función de fase."
   ]
  },
  {
   "cell_type": "markdown",
   "id": "84f7041f",
   "metadata": {
    "slideshow": {
     "slide_type": "slide"
    }
   },
   "source": [
    "Notar que consideramos el caso más generalizado de la función de fase, que depende tanto de la dirección de la radiación incidente $\\hat{k}$ como de la dirección del scattering $\\hat{k}'$. Ambas definidas por ángulo sólido"
   ]
  },
  {
   "cell_type": "markdown",
   "id": "556660a5",
   "metadata": {
    "cell_style": "center",
    "slideshow": {
     "slide_type": "fragment"
    }
   },
   "source": [
    "En el caso de una esfera, $\\hat{k}_\\mathrm{sca} = \\hat{k}$ y $\\hat{k}_\\mathrm{inc} = \\hat{k}'$. Así, la función de fase depende de $\\theta$, el cual está definido por $\\cos\\theta = \\hat{k}\\cdot\\hat{k}'$\n",
    "\n"
   ]
  },
  {
   "cell_type": "markdown",
   "id": "b7b71333",
   "metadata": {
    "slideshow": {
     "slide_type": "slide"
    }
   },
   "source": [
    "Con esto en mente, ahora podemos discutir el significado de los términos en la RTE:"
   ]
  },
  {
   "cell_type": "markdown",
   "id": "12e1a1e8",
   "metadata": {
    "slideshow": {
     "slide_type": "fragment"
    }
   },
   "source": [
    "- El primer término representa el cambio de $I_\\lambda(\\vec{r},\\hat{k})$ a través volumen diferencial. Por ejemplo, en el caso unidimencional en dirección $\\hat{k} = \\hat{x}$, tenemos: \n",
    "\n",
    "\\begin{equation*}\n",
    "\\hat{x}\\cdot\\nabla_r I_\\lambda(\\vec{r},\\hat{k}) = \\frac{\\partial}{\\partial x}I_\\lambda(\\vec{r},\\hat{k})\n",
    "\\end{equation*}"
   ]
  },
  {
   "cell_type": "markdown",
   "id": "231c3da9",
   "metadata": {
    "slideshow": {
     "slide_type": "fragment"
    }
   },
   "source": [
    "- El segundo término representa la pérdida de energía radiativa, por extinción $\\left(\\frac{f_v}{V_p}C_\\mathrm{ext}\\right)$ y absorción en el material material ($2\\kappa k_0$), respectivamente. Recordemos que la extinción representa la energía absorbida por las partículas + la energía de scattering en direcciónes distintas a $\\hat{k}$, es decir $C_\\mathrm{ext}= C_\\mathrm{abs} + C_\\mathrm{sca}$."
   ]
  },
  {
   "cell_type": "markdown",
   "id": "4754c5ed",
   "metadata": {
    "slideshow": {
     "slide_type": "fragment"
    }
   },
   "source": [
    "- El tercer término representa la ganancia de energía radiativa produco del scattering inducido por radiación incidente en dirección $\\hat{k}'$. Este término representa el fenómeno de **scattering múltiple**."
   ]
  },
  {
   "cell_type": "markdown",
   "id": "43766712",
   "metadata": {
    "slideshow": {
     "slide_type": "slide"
    }
   },
   "source": [
    "## Soluciones de la RTE\n",
    "La ecuación de transferencia radiativa permite explicar de forma fenomenológica el transporte de radiación en un medio particulado. Debido a su complejidad, existen pocas soluciones analíticas. En esta sección describiremos las tres más conocidas."
   ]
  },
  {
   "cell_type": "markdown",
   "id": "6037462f",
   "metadata": {
    "slideshow": {
     "slide_type": "slide"
    }
   },
   "source": [
    "### Película de material sin partículas (Reflectividad y Transmisividad incoherente)\n",
    "En el caso de un medio sin partículas solo debemos considerar el primer término de la RTE. "
   ]
  },
  {
   "cell_type": "markdown",
   "id": "38e80853",
   "metadata": {
    "slideshow": {
     "slide_type": "fragment"
    }
   },
   "source": [
    "Para el caso particular de un material de espesor $t_\\mathrm{film}$ e índice de refracción $N = n + \\kappa$, rodeado por un medio con índice de refracción $N_0$, derivamos las siguientes relaciones de reflectividad y tranmisividad para luz incoherente:\n",
    "\n",
    "\\begin{align}\n",
    "R_\\mathrm{incoh}&= R_0 + \\frac{T_0^2R_0e^{-4\\kappa k_0 t_\\mathrm{film}}}{1 - R_0^2e^{-4\\kappa k_0 t_\\mathrm{film}}} \n",
    "\\\\[10pt]\n",
    "T_\\mathrm{incoh} &= \\frac{T_0^2e^{-4\\kappa k_0 t_\\mathrm{film}}}{1 - R_0^2e^{-4\\kappa k_0 t_\\mathrm{film}}}\n",
    "\\end{align}\n",
    "\n",
    "donde $R_0$ y $T_0$ corresponden, respectivamente, a la reflectividad y transmisividad en la interface $N_0 / N_1$"
   ]
  },
  {
   "cell_type": "markdown",
   "id": "7b8cb924",
   "metadata": {
    "slideshow": {
     "slide_type": "slide"
    }
   },
   "source": [
    "En el siguiente ejemplo, utilizamos la función ```incoh_multilayer``` de la libreria ```empylib.waveoptics```. Esta función es más general que la ecuación anterior y permite determinar $R_\\mathrm{incoh}$ y $T_\\mathrm{incoh}$ para arreglos multicapas. "
   ]
  },
  {
   "cell_type": "markdown",
   "id": "2a3e7bbc",
   "metadata": {
    "slideshow": {
     "slide_type": "fragment"
    }
   },
   "source": [
    "En este caso, evaluaremos una película de sílice de espesor $1~\\mu\\mathrm{m}$, sobre un sustrato con íncide de refracción $N_\\mathrm{back} = 4.3$, y con aire en la superficie $N_\\mathrm{front} = 1.0$. El espectro de longitudes de onda $\\lambda\\in[0.3,0.8]~\\mu\\mathrm{m}$ y el ángulo de incidencia $\\theta_i = 30°$. Para comparar, determinaremos $R$ y $T$ para el caso de luz coherente."
   ]
  },
  {
   "cell_type": "code",
   "execution_count": 3,
   "id": "a99aa431",
   "metadata": {
    "cell_style": "split",
    "slideshow": {
     "slide_type": "slide"
    },
    "tags": [
     "hide-input"
    ]
   },
   "outputs": [],
   "source": [
    "import numpy as np\n",
    "import empylib.waveoptics as wv\n",
    "import empylib.nklib as nk\n",
    "\n",
    "lam = np.linspace(0.3,0.8,100)  # espectro de longitudes de onda (um)\n",
    "theta = np.radians(30)          # ángulo de incidencia\n",
    "\n",
    "Nfront = 1.0                 # índice de refracción medio superior\n",
    "N1     = 1.5        # índice de refracción capa delgada\n",
    "Nback  = 4.3                 # índice de refracción medio inferior\n",
    "N = (Nfront, N1, Nback)      # indices de refracción (above, mid, below)\n",
    "d = 1.0                      # espesor capa intermedia (um)\n",
    "\n",
    "# caso luz incoherente\n",
    "Rp_incoh, Tp_incoh = wv.incoh_multilayer(lam,theta, N, d, pol='TM')\n",
    "# caso luz coherente\n",
    "Rp, Tp = wv.multilayer(lam,theta, N, d, pol='TM')[:2]"
   ]
  },
  {
   "cell_type": "code",
   "execution_count": 4,
   "id": "3bee2ad8",
   "metadata": {
    "cell_style": "split",
    "slideshow": {
     "slide_type": "fragment"
    },
    "tags": [
     "hide-input"
    ]
   },
   "outputs": [
    {
     "data": {
      "image/png": "[encoded data removed]",
      "text/plain": [
       "<Figure size 600x350 with 1 Axes>"
      ]
     },
     "metadata": {
      "filenames": {
       "image/png": "/mnt/c/Users/frami/OneDrive - Universidad Adolfo Ibanez/Teaching_courses/MEC501 - Manejo_y_Conversion_Energia_Solar/material_catedra/_build/jupyter_execute/05_TransporteRadiativo/05_TransporteRadiativo_47_0.png"
      }
     },
     "output_type": "display_data"
    }
   ],
   "source": [
    "fig, ax = plt.subplots()\n",
    "fig.set_size_inches(6, 3.5)\n",
    "plt.rcParams['font.size'] = '12'\n",
    "\n",
    "# Graficamos el flujo de energía\n",
    "plt.plot(lam,Rp,'--r',label='$R_\\mathrm{TM}$ (coh)')\n",
    "plt.plot(lam,Tp,'--b',label='$T_\\mathrm{TM}$ (coh)')\n",
    "plt.plot(lam,Rp_incoh,'-r',label='$R_\\mathrm{TM}$ (incoh)')\n",
    "plt.plot(lam,Tp_incoh,'-b',label='$T_\\mathrm{TM}$ (incoh)')\n",
    "plt.title('arreglo 1.0/1.5/4.3')\n",
    "plt.xlabel('Longitud de onda ($\\mu$m)')\n",
    "plt.ylabel('Refletividad / Transmisividad')\n",
    "plt.ylim(0,1)\n",
    "plt.legend()\n",
    "plt.show()"
   ]
  },
  {
   "cell_type": "markdown",
   "id": "c6ed7877",
   "metadata": {
    "cell_style": "center",
    "slideshow": {
     "slide_type": "slide"
    }
   },
   "source": [
    "En la figura, para el caso de luz coherente, notamos oscilaciones en $R$ y $T$ producto de los fenómenos de interferencia. En el caso de luz incoherente, el fenómeno de interferencia desaparace."
   ]
  },
  {
   "cell_type": "markdown",
   "id": "a5316b37",
   "metadata": {
    "slideshow": {
     "slide_type": "slide"
    }
   },
   "source": [
    "### Película de material con baja concentración de partículas (Ley de Beer-Lambert)\n",
    "Definimos el **camino libre medio de scattering**, como $\\Lambda_\\mathrm{sca} = \\left(f_v C_\\mathrm{sca}/V_p\\right)^{-1}$. Este parametro representa la distancia promedio que recorre la luz entre eventos de scattering."
   ]
  },
  {
   "cell_type": "markdown",
   "id": "a352fb08",
   "metadata": {
    "cell_style": "center",
    "slideshow": {
     "slide_type": "fragment"
    }
   },
   "source": [
    "Si $\\Lambda_\\mathrm{sca}$ es mayor que el espesor del material, $t_\\mathrm{film}$, la probabilidad de que ocurran más de un evento scattering es despreciable, y decimos que el **scattering es de primer orden**. En este caso, el tercer término de la RTE es despreciable y la radiación solo pierde energía por absorción del material o extinción inducida por las partículas."
   ]
  },
  {
   "cell_type": "markdown",
   "id": "9407f0e6",
   "metadata": {
    "slideshow": {
     "slide_type": "slide"
    }
   },
   "source": [
    "La solución a esta ecuación se conoce como la ley de Beer-Lambert. Mediante esta aproximación podemos deducir las componentes total y especular de la transmitancia:\n",
    "\n",
    "\\begin{equation}\n",
    "T_\\mathrm{tot} = T_0 e^{-f_v\\frac{C_\\mathrm{abs}}{V_p}t_\\mathrm{film}}\\quad\\quad\\mathrm{and}\\quad\\quad \n",
    "T_\\mathrm{spec} = T_0 e^{-f_v\\frac{C_\\mathrm{ext}}{V_p}t_\\mathrm{film}}\n",
    "\\end{equation}\n",
    "\n",
    "donde, $T_0$ es la **transmisividad incoherente del material sin incrustaciones**."
   ]
  },
  {
   "cell_type": "markdown",
   "id": "2f29ecb5",
   "metadata": {
    "slideshow": {
     "slide_type": "fragment"
    }
   },
   "source": [
    "<img src=\"./images/beer_lambert.png\" width=\"500px\" align= center>\n",
    "\n",
    "<center>Transporte de luz en un medio con scattering de primer orden</center>"
   ]
  },
  {
   "cell_type": "markdown",
   "id": "963bc3c6",
   "metadata": {
    "slideshow": {
     "slide_type": "slide"
    }
   },
   "source": [
    "Podemos utilizar la ley de Beer-Lambert para analizar, de forma aproximada, el efecto del color del cielo durante el día y en la tarde."
   ]
  },
  {
   "cell_type": "markdown",
   "id": "227d193d",
   "metadata": {
    "slideshow": {
     "slide_type": "fragment"
    }
   },
   "source": [
    "El color del cielo está dado por la componente difusa. Así calculamos $T_\\mathrm{dif} = T_\\mathrm{tot} - T_\\mathrm{spec}$."
   ]
  },
  {
   "cell_type": "markdown",
   "id": "a2577fed",
   "metadata": {
    "slideshow": {
     "slide_type": "fragment"
    }
   },
   "source": [
    "Consideremos una atmosfera compuesta de aire ($N_h = 1.0$) y una pequeña concentración ($f_v = 1\\times 10^{-6}~\\%$) de partículas de 10 nm de diámetro e índice de refracción $N_p = 1.5$. El espesor de la atmosfera es $t_\\mathrm{atm} = 100~\\mathrm{km}$"
   ]
  },
  {
   "cell_type": "code",
   "execution_count": 5,
   "id": "33491447",
   "metadata": {
    "cell_style": "center",
    "slideshow": {
     "slide_type": "slide"
    },
    "tags": [
     "hide-input"
    ]
   },
   "outputs": [],
   "source": [
    "import empylib.rad_transfer as rt\n",
    "import empylib.nklib as nk\n",
    "import numpy as np\n",
    "import matplotlib.pyplot as plt\n",
    "from empylib.ref_spectra import AM15, Bplanck\n",
    "from empylib.ref_spectra import color_system as cs\n",
    "cs = cs.hdtv\n",
    "\n",
    "lam1 = np.linspace(0.38,0.78,100) # espectro de longitudes de onda\n",
    "cs.interp_internals(lam1)\n",
    "def plot_atmosphere(theta_sun):\n",
    "    fig, ax = plt.subplots()          \n",
    "    fig.set_size_inches(6, 4)         # Tamaño del gráfico\n",
    "    plt.rcParams['font.size'] = '12'  # tamaño de  fuente\n",
    "    \n",
    "    # parámetros de entrada\n",
    "    tatm = 100E6                      # espesor de la atmósfera en mm\n",
    "    N = (1.0,1.0,1.0)                 # indice de refracción superior, intermedio e inferior\n",
    "    fvp = 1E-8                        # fracción de volúmen de las partículas\n",
    "    Dp = 0.010                        # diámetro de las partículas\n",
    "    Np = 1.5                          # índice de refracción de las partículas\n",
    "    \n",
    "    # transmitancia total y especular|\n",
    "    theta = np.radians(theta_sun)    # posición del sol en radianes\n",
    "    Ttot, Tspec = rt.T_beer_lambert(lam1,theta,tatm,N,fvp,Dp,Np)[:2]\n",
    "    \n",
    "    Tdif = Ttot - Tspec              # transmitancia difusa\n",
    "    ax.plot(lam1,Tdif,'-k',label = 'Tdif')\n",
    "    ax.set_xlabel('Longitud de onda ($\\mu$m)')\n",
    "    ax.set_ylabel('Transmisividad')\n",
    "    ax.set_title(r'Posición del sol, $\\theta_\\mathrm{sun}$=%.1f°'% (theta_sun))\n",
    "    ax.set_ylim(0,1.05)\n",
    "    \n",
    "    Dcircle = 0.25\n",
    "    ax2 = fig.add_axes([0.11,0.15, Dcircle, Dcircle])\n",
    "    Irad = Tdif*Bplanck(lam1,5777)\n",
    "    html_rgb = cs.spec_to_rgb(Irad, out_fmt='html')\n",
    "    Circle = plt.Circle((0, 0), Dcircle, color=html_rgb)\n",
    "    ax2.add_patch(Circle)\n",
    "    ax2.set_aspect('equal')\n",
    "    ax2.set_xlim(-Dcircle*1.2,Dcircle*1.2)\n",
    "    ax2.set_ylim(-Dcircle*1.2,Dcircle*1.2)\n",
    "    ax2.set_xticks([])\n",
    "    ax2.set_yticks([])\n",
    "    ax2.set_facecolor('k')"
   ]
  },
  {
   "cell_type": "code",
   "execution_count": 6,
   "id": "f3b08336",
   "metadata": {
    "cell_style": "split",
    "slideshow": {
     "slide_type": "fragment"
    },
    "tags": [
     "hide-input"
    ]
   },
   "outputs": [
    {
     "data": {
      "application/vnd.jupyter.widget-view+json": {
       "model_id": "29116c24d6034c3e879cd9a8e4c0e344",
       "version_major": 2,
       "version_minor": 0
      },
      "text/plain": [
       "interactive(children=(FloatSlider(value=0.0, description='theta_sun', max=89.99), Output()), _dom_classes=('wi…"
      ]
     },
     "metadata": {},
     "output_type": "display_data"
    }
   ],
   "source": [
    "from ipywidgets import interact\n",
    "\n",
    "@interact(theta_sun=(0,89.99,0.1))\n",
    "def g(theta_sun=0):\n",
    "    return plot_atmosphere(theta_sun)"
   ]
  },
  {
   "cell_type": "markdown",
   "id": "8aa6d072",
   "metadata": {
    "cell_style": "center",
    "slideshow": {
     "slide_type": "slide"
    }
   },
   "source": [
    "### Pelicula de material particulado (simulaciones de transferencia radiativa)\n",
    "Este caso corresponde a materiales con $\\Lambda_\\mathrm{sca} > t_\\mathrm{film}$. En este caso los eventos de scattering se producen más de una vez, y decimos que estámos en un régimen de **scattering múltiple**. Como resultado, los tres términos de la RTE son relevantes y debemos resolver la ecuación mediante simulación computacional.\n",
    "\n",
    "<img src=\"./images/multiple_scattering.png\" width=\"400px\" align= center>\n",
    "\n",
    "<center>Transporte de luz en un medio con scattering múltiple</center>"
   ]
  },
  {
   "cell_type": "markdown",
   "id": "bea5c468",
   "metadata": {
    "slideshow": {
     "slide_type": "slide"
    }
   },
   "source": [
    "Consideremos un material de sílice de espesor $t_\\mathrm{film} = 5~\\mathrm{mm}$ con incrustaciones de partículas de plata de forma esférica."
   ]
  },
  {
   "cell_type": "markdown",
   "id": "db4db843",
   "metadata": {},
   "source": [
    "Evaluaremos los colores de este material en transmisión y reflección para luz incidente normal a la superficie en función de la concentración y el diámetro de las partículas. Utilizamos la función ```adm_sphere``` de la librería ```empylib.rad_transfer```"
   ]
  },
  {
   "cell_type": "code",
   "execution_count": 7,
   "id": "24c8d4d6",
   "metadata": {
    "slideshow": {
     "slide_type": "slide"
    },
    "tags": [
     "hide-input"
    ]
   },
   "outputs": [],
   "source": [
    "import empylib.rad_transfer as rt\n",
    "import empylib.nklib as nk\n",
    "import empylib.miescattering as mie\n",
    "import numpy as np\n",
    "import matplotlib.pyplot as plt\n",
    "\n",
    "lam2 = np.linspace(0.3,1.0,100) # espectro de longitudes de onda en micrometros\n",
    "Nlayers = (1.0,1.5,1.0)         # indice de refracción superior, intermedio e inferior\n",
    "Np = nk.silver(lam2)            # Índice de refracción de las partículas\n",
    "cs.interp_internals(lam2)\n",
    "\n",
    "def plot_glass_silver(fv,D):\n",
    "    # parámetros de entrada\n",
    "    \n",
    "    theta = np.radians(0)       # 0 grados en radianes\n",
    "    tfilm = 5                   # espesor en milímetros\n",
    "    \n",
    "    fv = fv*1E-7                # fracción de volúmen de las partículas\n",
    "    D = D*1E-3                  # diámetro de las partículas\n",
    "    \n",
    "    qext, qsca = mie.scatter_efficiency(lam2,Nlayers[1],Np,D)[:2]\n",
    "    qabs = qext - qsca\n",
    "    Rtot, Ttot = rt.adm_sphere(lam2,tfilm,Nlayers,fv,D,Np)\n",
    "\n",
    "    fig, ax = plt.subplots(1,3)\n",
    "    fig.set_size_inches(12, 3)\n",
    "    plt.rcParams['font.size'] = '10'\n",
    "    \n",
    "    ax[0].plot(lam2,qsca,'-r',label='$C_\\mathrm{sca} A_c$')\n",
    "    ax[0].plot(lam2,qabs,'-b',label='$C_\\mathrm{abs} A_c$')\n",
    "    ax[0].set_xlabel('Longitud de onda ($\\mu$m)')\n",
    "    ax[0].set_ylabel('Eficiencia transversal')\n",
    "    ax[0].set_title('Partícula de plata (D=%.0f nm)' % (D*1E3))\n",
    "    ax[0].legend()\n",
    "    ax[0].set_ylim(0,10)\n",
    "    \n",
    "    ax[1].plot(lam2,Rtot,'-r',label = 'Rtot')\n",
    "    ax[1].plot(lam2,Ttot,'-b',label = 'Ttot')\n",
    "    ax[1].set_xlabel('Longitud de onda ($\\mu$m)')\n",
    "    ax[1].set_ylabel('Transmisividad')\n",
    "    ax[1].set_title(r'Sílice con plata (fv = %.3e %%)' % (fv*100) )\n",
    "    ax[1].legend()\n",
    "    ax[1].set_ylim(0,1)\n",
    "\n",
    "    Dcircle = 0.20\n",
    "    html_rgb = cs.spec_to_rgb(Ttot*AM15(lam2), out_fmt='html')\n",
    "    Circle = plt.Circle((0, 0), Dcircle, color=html_rgb)\n",
    "    ax[2].add_patch(Circle)\n",
    "    ax[2].annotate('Luz Trasera', xy=(0, 0), va='center', ha='center')\n",
    "\n",
    "    html_rgb = cs.spec_to_rgb(Rtot*AM15(lam2), out_fmt='html')\n",
    "    Circle = plt.Circle((Dcircle*1.2*2, 0), Dcircle, color=html_rgb)\n",
    "    ax[2].add_patch(Circle)\n",
    "    ax[2].annotate('Luz Frontal', xy=(Dcircle*1.2*2, 0), va='center', ha='center')\n",
    "\n",
    "    ax[2].set_aspect('equal')\n",
    "    ax[2].set_xlim(-Dcircle*1.2,Dcircle*1.2*3)\n",
    "    ax[2].set_ylim(-Dcircle*1.2,Dcircle*1.2)\n",
    "    ax[2].set_xticks([])\n",
    "    ax[2].set_yticks([])\n",
    "    ax[2].set_facecolor('k')\n",
    "    plt.subplots_adjust(wspace=0.3)"
   ]
  },
  {
   "cell_type": "code",
   "execution_count": 8,
   "id": "494ceeb2",
   "metadata": {
    "cell_style": "center",
    "slideshow": {
     "slide_type": "slide"
    },
    "tags": [
     "hide-input"
    ]
   },
   "outputs": [
    {
     "data": {
      "application/vnd.jupyter.widget-view+json": {
       "model_id": "ce5eceb764d9411c841af1befd77509b",
       "version_major": 2,
       "version_minor": 0
      },
      "text/plain": [
       "interactive(children=(IntSlider(value=20, description='fv', min=1), IntSlider(value=70, description='D', max=2…"
      ]
     },
     "metadata": {},
     "output_type": "display_data"
    }
   ],
   "source": [
    "from ipywidgets import interact\n",
    "\n",
    "@interact(fv=(1,100,1), D = (10,200,1))\n",
    "def g(fv=20, D = 70):\n",
    "    return plot_glass_silver(fv,D)"
   ]
  },
  {
   "cell_type": "markdown",
   "id": "031ca52b",
   "metadata": {
    "slideshow": {
     "slide_type": "slide"
    }
   },
   "source": [
    "Cuando la concentración de partículas es densa, el medio se vuelve opaco. Este régimen se denomina **scattering difuso** y permite explicar, entre otras cosas, el color de las nubes o la pintura blanca\n",
    "\n",
    "<img src=\"./images/diffuse_scattering.png\" width=\"400px\" align= center>\n",
    "\n",
    "<center>Transporte de luz en un medio con scattering difuso</center>"
   ]
  },
  {
   "cell_type": "markdown",
   "id": "01df5bd6",
   "metadata": {
    "slideshow": {
     "slide_type": "slide"
    }
   },
   "source": [
    "Un ejemplo interesante corresponde a la leche. En términos simples, la leche es una emulsión formada por pequeñas partículas de grasa dispersas en un medio acuoso. \n",
    "\n",
    "<img src=\"./images/milk_microscope.png\" width=\"400px\" align= center>\n",
    "\n",
    "<center>Imagen de microscópio (40x) de leche orgánica. Las burbujas verdes corresponden al aceite en suspención en agua.</center>\n",
    "\n",
    "Fuente: [Braun K., Hanewald A. and Vilgis T. Foods 8(10): 483(2019)](https://www.ncbi.nlm.nih.gov/pmc/articles/PMC6836175/)"
   ]
  },
  {
   "cell_type": "markdown",
   "id": "225b5528",
   "metadata": {
    "slideshow": {
     "slide_type": "fragment"
    }
   },
   "source": [
    "Como aproximación, consideremos un medio de espesor $1$ cm, compuesto por agua $N_h = 1.3$ y pequeñas partículas esféricas de aceite $N_p = 1.5$. La emulsión considera un 60% de partículas de aceite por volumen."
   ]
  },
  {
   "cell_type": "code",
   "execution_count": 9,
   "id": "72cbfc3e",
   "metadata": {
    "cell_style": "split",
    "slideshow": {
     "slide_type": "slide"
    },
    "tags": [
     "hide-input"
    ]
   },
   "outputs": [],
   "source": [
    "%%capture showplot\n",
    "# import empylib.nklib as nk\n",
    "import numpy as np\n",
    "import empylib.rad_transfer as rt\n",
    "\n",
    "# Solo modificar estos parámetros\n",
    "#---------------------------------------------------------------\n",
    "lam3 = np.linspace(0.3,1.0,100)   # espectro de longitudes de onda\n",
    "tfilm = 10                        # espesor en milímetros\n",
    "fv = 0.50                         # fracción de volúmen de los poros\n",
    "D = 1.0                           # diámetro de los poros (micrones)\n",
    "Nh2o = 1.3                        # Índice de refracción del agua\n",
    "Noil = 1.5                        # índice de refracción partículas de aceite\n",
    "#---------------------------------------------------------------\n",
    "Rtot, Ttot = rt.adm_sphere(lam3,tfilm,(1.0,Nh2o,1.0),fv,D,Noil)\n",
    "\n",
    "fig, ax = plt.subplots()\n",
    "fig.set_size_inches(5, 3.5)\n",
    "plt.rcParams['font.size'] = '12'\n",
    "ax.plot(lam3,Rtot,'-r',label='R')\n",
    "ax.plot(lam3,Ttot,'-b',label='T')\n",
    "ax.set_xlabel('Longitud de onda ($\\mu$m)')\n",
    "ax.set_ylabel('Reflectividad / Transmisividad')\n",
    "ax.set_title(r'Leche (fv = %.0f %%)' % (fv*100))\n",
    "ax.legend()\n",
    "ax.set_ylim(0,1.02)\n",
    "plt.show()"
   ]
  },
  {
   "cell_type": "code",
   "execution_count": 10,
   "id": "9a1291f7",
   "metadata": {
    "cell_style": "split",
    "slideshow": {
     "slide_type": "fragment"
    },
    "tags": [
     "hide-input"
    ]
   },
   "outputs": [
    {
     "data": {
      "image/png": "[encoded data removed]",
      "text/plain": [
       "<Figure size 500x350 with 1 Axes>"
      ]
     },
     "metadata": {
      "filenames": {
       "image/png": "/mnt/c/Users/frami/OneDrive - Universidad Adolfo Ibanez/Teaching_courses/MEC501 - Manejo_y_Conversion_Energia_Solar/material_catedra/_build/jupyter_execute/05_TransporteRadiativo/05_TransporteRadiativo_67_0.png"
      }
     },
     "output_type": "display_data"
    }
   ],
   "source": [
    "showplot()"
   ]
  },
  {
   "cell_type": "markdown",
   "id": "6c035f58",
   "metadata": {
    "slideshow": {
     "slide_type": "slide"
    }
   },
   "source": [
    "Como vemos la alta concentración de partículas hace que la refletividad y transmisividad se vuelvan casi uniformes para todas las longitudes de onda. El espectro, así, toma un color blanco frente a una fuente de luz blanca."
   ]
  },
  {
   "cell_type": "markdown",
   "id": "17c1dc23",
   "metadata": {
    "slideshow": {
     "slide_type": "slide"
    }
   },
   "source": [
    "## Referencias\n",
    "- Chen G. **Chapter 5 - Energy Transfer by Waves** in *Nanoscale energy transport and conversion*, 1st Ed, Oxford University Press, 2005"
   ]
  }
 ],
 "metadata": {
  "celltoolbar": "Slideshow",
  "kernelspec": {
   "display_name": "Python 3 (ipykernel)",
   "language": "python",
   "name": "python3"
  },
  "language_info": {
   "codemirror_mode": {
    "name": "ipython",
    "version": 3
   },
   "file_extension": ".py",
   "mimetype": "text/x-python",
   "name": "python",
   "nbconvert_exporter": "python",
   "pygments_lexer": "ipython3",
   "version": "3.9.12"
  },
  "latex_envs": {
   "LaTeX_envs_menu_present": false,
   "autoclose": false,
   "autocomplete": false,
   "bibliofile": "biblio.bib",
   "cite_by": "apalike",
   "current_citInitial": 1,
   "eqLabelWithNumbers": true,
   "eqNumInitial": 2,
   "hotkeys": {
    "equation": "Ctrl-E",
    "itemize": "Ctrl-I"
   },
   "labels_anchors": false,
   "latex_user_defs": false,
   "report_style_numbering": false,
   "user_envs_cfg": true
  },
  "toc": {
   "base_numbering": 1,
   "nav_menu": {},
   "number_sections": false,
   "sideBar": true,
   "skip_h1_title": true,
   "title_cell": "Tabla de contenidos",
   "title_sidebar": "Contenidos",
   "toc_cell": false,
   "toc_position": {
    "height": "calc(100% - 180px)",
    "left": "10px",
    "top": "150px",
    "width": "307.2px"
   },
   "toc_section_display": true,
   "toc_window_display": false
  },
  "varInspector": {
   "cols": {
    "lenName": 16,
    "lenType": 16,
    "lenVar": 40
   },
   "kernels_config": {
    "python": {
     "delete_cmd_postfix": "",
     "delete_cmd_prefix": "del ",
     "library": "var_list.py",
     "varRefreshCmd": "print(var_dic_list())"
    },
    "r": {
     "delete_cmd_postfix": ") ",
     "delete_cmd_prefix": "rm(",
     "library": "var_list.r",
     "varRefreshCmd": "cat(var_dic_list()) "
    }
   },
   "types_to_exclude": [
    "module",
    "function",
    "builtin_function_or_method",
    "instance",
    "_Feature"
   ],
   "window_display": false
  },
  "widgets": {
   "application/vnd.jupyter.widget-state+json": {
    "state": {
     "059b35bf6a9d4a24b21f468f432390a1": {
      "model_module": "@jupyter-widgets/base",
      "model_module_version": "1.2.0",
      "model_name": "LayoutModel",
      "state": {
       "_model_module": "@jupyter-widgets/base",
       "_model_module_version": "1.2.0",
       "_model_name": "LayoutModel",
       "_view_count": null,
       "_view_module": "@jupyter-widgets/base",
       "_view_module_version": "1.2.0",
       "_view_name": "LayoutView",
       "align_content": null,
       "align_items": null,
       "align_self": null,
       "border": null,
       "bottom": null,
       "display": null,
       "flex": null,
       "flex_flow": null,
       "grid_area": null,
       "grid_auto_columns": null,
       "grid_auto_flow": null,
       "grid_auto_rows": null,
       "grid_column": null,
       "grid_gap": null,
       "grid_row": null,
       "grid_template_areas": null,
       "grid_template_columns": null,
       "grid_template_rows": null,
       "height": null,
       "justify_content": null,
       "justify_items": null,
       "left": null,
       "margin": null,
       "max_height": null,
       "max_width": null,
       "min_height": null,
       "min_width": null,
       "object_fit": null,
       "object_position": null,
       "order": null,
       "overflow": null,
       "overflow_x": null,
       "overflow_y": null,
       "padding": null,
       "right": null,
       "top": null,
       "visibility": null,
       "width": null
      }
     },
     "1a1c0798167346d3a64acf098b855752": {
      "model_module": "@jupyter-widgets/base",
      "model_module_version": "1.2.0",
      "model_name": "LayoutModel",
      "state": {
       "_model_module": "@jupyter-widgets/base",
       "_model_module_version": "1.2.0",
       "_model_name": "LayoutModel",
       "_view_count": null,
       "_view_module": "@jupyter-widgets/base",
       "_view_module_version": "1.2.0",
       "_view_name": "LayoutView",
       "align_content": null,
       "align_items": null,
       "align_self": null,
       "border": null,
       "bottom": null,
       "display": null,
       "flex": null,
       "flex_flow": null,
       "grid_area": null,
       "grid_auto_columns": null,
       "grid_auto_flow": null,
       "grid_auto_rows": null,
       "grid_column": null,
       "grid_gap": null,
       "grid_row": null,
       "grid_template_areas": null,
       "grid_template_columns": null,
       "grid_template_rows": null,
       "height": null,
       "justify_content": null,
       "justify_items": null,
       "left": null,
       "margin": null,
       "max_height": null,
       "max_width": null,
       "min_height": null,
       "min_width": null,
       "object_fit": null,
       "object_position": null,
       "order": null,
       "overflow": null,
       "overflow_x": null,
       "overflow_y": null,
       "padding": null,
       "right": null,
       "top": null,
       "visibility": null,
       "width": null
      }
     },
     "29116c24d6034c3e879cd9a8e4c0e344": {
      "model_module": "@jupyter-widgets/controls",
      "model_module_version": "1.5.0",
      "model_name": "VBoxModel",
      "state": {
       "_dom_classes": [
        "widget-interact"
       ],
       "_model_module": "@jupyter-widgets/controls",
       "_model_module_version": "1.5.0",
       "_model_name": "VBoxModel",
       "_view_count": null,
       "_view_module": "@jupyter-widgets/controls",
       "_view_module_version": "1.5.0",
       "_view_name": "VBoxView",
       "box_style": "",
       "children": [
        "IPY_MODEL_9a39aa5bac424ee5a35eb2f9a49476c9",
        "IPY_MODEL_d274295e995b4c1883090215b6365c43"
       ],
       "layout": "IPY_MODEL_1a1c0798167346d3a64acf098b855752"
      }
     },
     "2c30036fa2834a0e84c784e608a0561d": {
      "model_module": "@jupyter-widgets/controls",
      "model_module_version": "1.5.0",
      "model_name": "IntSliderModel",
      "state": {
       "_dom_classes": [],
       "_model_module": "@jupyter-widgets/controls",
       "_model_module_version": "1.5.0",
       "_model_name": "IntSliderModel",
       "_view_count": null,
       "_view_module": "@jupyter-widgets/controls",
       "_view_module_version": "1.5.0",
       "_view_name": "IntSliderView",
       "continuous_update": true,
       "description": "N",
       "description_tooltip": null,
       "disabled": false,
       "layout": "IPY_MODEL_e591b5b0578f4e6e978c8988c1050cbc",
       "max": 1000,
       "min": 1,
       "orientation": "horizontal",
       "readout": true,
       "readout_format": "d",
       "step": 1,
       "style": "IPY_MODEL_95ecb7622c104091b2621a90ddfd9540",
       "value": 1000
      }
     },
     "4170b88cd63849cd8b4258ce75a2b22c": {
      "model_module": "@jupyter-widgets/base",
      "model_module_version": "1.2.0",
      "model_name": "LayoutModel",
      "state": {
       "_model_module": "@jupyter-widgets/base",
       "_model_module_version": "1.2.0",
       "_model_name": "LayoutModel",
       "_view_count": null,
       "_view_module": "@jupyter-widgets/base",
       "_view_module_version": "1.2.0",
       "_view_name": "LayoutView",
       "align_content": null,
       "align_items": null,
       "align_self": null,
       "border": null,
       "bottom": null,
       "display": null,
       "flex": null,
       "flex_flow": null,
       "grid_area": null,
       "grid_auto_columns": null,
       "grid_auto_flow": null,
       "grid_auto_rows": null,
       "grid_column": null,
       "grid_gap": null,
       "grid_row": null,
       "grid_template_areas": null,
       "grid_template_columns": null,
       "grid_template_rows": null,
       "height": null,
       "justify_content": null,
       "justify_items": null,
       "left": null,
       "margin": null,
       "max_height": null,
       "max_width": null,
       "min_height": null,
       "min_width": null,
       "object_fit": null,
       "object_position": null,
       "order": null,
       "overflow": null,
       "overflow_x": null,
       "overflow_y": null,
       "padding": null,
       "right": null,
       "top": null,
       "visibility": null,
       "width": null
      }
     },
     "4bb6e0d9999a40d09f6eaaba3600ec8d": {
      "model_module": "@jupyter-widgets/controls",
      "model_module_version": "1.5.0",
      "model_name": "IntSliderModel",
      "state": {
       "_dom_classes": [],
       "_model_module": "@jupyter-widgets/controls",
       "_model_module_version": "1.5.0",
       "_model_name": "IntSliderModel",
       "_view_count": null,
       "_view_module": "@jupyter-widgets/controls",
       "_view_module_version": "1.5.0",
       "_view_name": "IntSliderView",
       "continuous_update": true,
       "description": "D",
       "description_tooltip": null,
       "disabled": false,
       "layout": "IPY_MODEL_98be8dcec8db4e0daf339ba629e35205",
       "max": 200,
       "min": 10,
       "orientation": "horizontal",
       "readout": true,
       "readout_format": "d",
       "step": 1,
       "style": "IPY_MODEL_7e15816cf5754f69990d70bd9f59774e",
       "value": 70
      }
     },
     "4c45e2f72b524fd1b2e79aa0ec3f25ce": {
      "model_module": "@jupyter-widgets/controls",
      "model_module_version": "1.5.0",
      "model_name": "IntSliderModel",
      "state": {
       "_dom_classes": [],
       "_model_module": "@jupyter-widgets/controls",
       "_model_module_version": "1.5.0",
       "_model_name": "IntSliderModel",
       "_view_count": null,
       "_view_module": "@jupyter-widgets/controls",
       "_view_module_version": "1.5.0",
       "_view_name": "IntSliderView",
       "continuous_update": true,
       "description": "fv",
       "description_tooltip": null,
       "disabled": false,
       "layout": "IPY_MODEL_5d1530cd34b54f4aa61e3eb3247b3211",
       "max": 100,
       "min": 1,
       "orientation": "horizontal",
       "readout": true,
       "readout_format": "d",
       "step": 1,
       "style": "IPY_MODEL_b0134cfb154d4b63933514b3bfd6da7c",
       "value": 20
      }
     },
     "4cc772869d994722ad9ec18c11913106": {
      "model_module": "@jupyter-widgets/base",
      "model_module_version": "1.2.0",
      "model_name": "LayoutModel",
      "state": {
       "_model_module": "@jupyter-widgets/base",
       "_model_module_version": "1.2.0",
       "_model_name": "LayoutModel",
       "_view_count": null,
       "_view_module": "@jupyter-widgets/base",
       "_view_module_version": "1.2.0",
       "_view_name": "LayoutView",
       "align_content": null,
       "align_items": null,
       "align_self": null,
       "border": null,
       "bottom": null,
       "display": null,
       "flex": null,
       "flex_flow": null,
       "grid_area": null,
       "grid_auto_columns": null,
       "grid_auto_flow": null,
       "grid_auto_rows": null,
       "grid_column": null,
       "grid_gap": null,
       "grid_row": null,
       "grid_template_areas": null,
       "grid_template_columns": null,
       "grid_template_rows": null,
       "height": null,
       "justify_content": null,
       "justify_items": null,
       "left": null,
       "margin": null,
       "max_height": null,
       "max_width": null,
       "min_height": null,
       "min_width": null,
       "object_fit": null,
       "object_position": null,
       "order": null,
       "overflow": null,
       "overflow_x": null,
       "overflow_y": null,
       "padding": null,
       "right": null,
       "top": null,
       "visibility": null,
       "width": null
      }
     },
     "5d1530cd34b54f4aa61e3eb3247b3211": {
      "model_module": "@jupyter-widgets/base",
      "model_module_version": "1.2.0",
      "model_name": "LayoutModel",
      "state": {
       "_model_module": "@jupyter-widgets/base",
       "_model_module_version": "1.2.0",
       "_model_name": "LayoutModel",
       "_view_count": null,
       "_view_module": "@jupyter-widgets/base",
       "_view_module_version": "1.2.0",
       "_view_name": "LayoutView",
       "align_content": null,
       "align_items": null,
       "align_self": null,
       "border": null,
       "bottom": null,
       "display": null,
       "flex": null,
       "flex_flow": null,
       "grid_area": null,
       "grid_auto_columns": null,
       "grid_auto_flow": null,
       "grid_auto_rows": null,
       "grid_column": null,
       "grid_gap": null,
       "grid_row": null,
       "grid_template_areas": null,
       "grid_template_columns": null,
       "grid_template_rows": null,
       "height": null,
       "justify_content": null,
       "justify_items": null,
       "left": null,
       "margin": null,
       "max_height": null,
       "max_width": null,
       "min_height": null,
       "min_width": null,
       "object_fit": null,
       "object_position": null,
       "order": null,
       "overflow": null,
       "overflow_x": null,
       "overflow_y": null,
       "padding": null,
       "right": null,
       "top": null,
       "visibility": null,
       "width": null
      }
     },
     "6473387334be4a78a2ff236394b02f10": {
      "model_module": "@jupyter-widgets/base",
      "model_module_version": "1.2.0",
      "model_name": "LayoutModel",
      "state": {
       "_model_module": "@jupyter-widgets/base",
       "_model_module_version": "1.2.0",
       "_model_name": "LayoutModel",
       "_view_count": null,
       "_view_module": "@jupyter-widgets/base",
       "_view_module_version": "1.2.0",
       "_view_name": "LayoutView",
       "align_content": null,
       "align_items": null,
       "align_self": null,
       "border": null,
       "bottom": null,
       "display": null,
       "flex": null,
       "flex_flow": null,
       "grid_area": null,
       "grid_auto_columns": null,
       "grid_auto_flow": null,
       "grid_auto_rows": null,
       "grid_column": null,
       "grid_gap": null,
       "grid_row": null,
       "grid_template_areas": null,
       "grid_template_columns": null,
       "grid_template_rows": null,
       "height": null,
       "justify_content": null,
       "justify_items": null,
       "left": null,
       "margin": null,
       "max_height": null,
       "max_width": null,
       "min_height": null,
       "min_width": null,
       "object_fit": null,
       "object_position": null,
       "order": null,
       "overflow": null,
       "overflow_x": null,
       "overflow_y": null,
       "padding": null,
       "right": null,
       "top": null,
       "visibility": null,
       "width": null
      }
     },
     "7e15816cf5754f69990d70bd9f59774e": {
      "model_module": "@jupyter-widgets/controls",
      "model_module_version": "1.5.0",
      "model_name": "SliderStyleModel",
      "state": {
       "_model_module": "@jupyter-widgets/controls",
       "_model_module_version": "1.5.0",
       "_model_name": "SliderStyleModel",
       "_view_count": null,
       "_view_module": "@jupyter-widgets/base",
       "_view_module_version": "1.2.0",
       "_view_name": "StyleView",
       "description_width": "",
       "handle_color": null
      }
     },
     "82c124df0e164b3489514665a4a24011": {
      "model_module": "@jupyter-widgets/base",
      "model_module_version": "1.2.0",
      "model_name": "LayoutModel",
      "state": {
       "_model_module": "@jupyter-widgets/base",
       "_model_module_version": "1.2.0",
       "_model_name": "LayoutModel",
       "_view_count": null,
       "_view_module": "@jupyter-widgets/base",
       "_view_module_version": "1.2.0",
       "_view_name": "LayoutView",
       "align_content": null,
       "align_items": null,
       "align_self": null,
       "border": null,
       "bottom": null,
       "display": null,
       "flex": null,
       "flex_flow": null,
       "grid_area": null,
       "grid_auto_columns": null,
       "grid_auto_flow": null,
       "grid_auto_rows": null,
       "grid_column": null,
       "grid_gap": null,
       "grid_row": null,
       "grid_template_areas": null,
       "grid_template_columns": null,
       "grid_template_rows": null,
       "height": null,
       "justify_content": null,
       "justify_items": null,
       "left": null,
       "margin": null,
       "max_height": null,
       "max_width": null,
       "min_height": null,
       "min_width": null,
       "object_fit": null,
       "object_position": null,
       "order": null,
       "overflow": null,
       "overflow_x": null,
       "overflow_y": null,
       "padding": null,
       "right": null,
       "top": null,
       "visibility": null,
       "width": null
      }
     },
     "82d292ffcefc43e1b36c9e55c6876d7a": {
      "model_module": "@jupyter-widgets/controls",
      "model_module_version": "1.5.0",
      "model_name": "SliderStyleModel",
      "state": {
       "_model_module": "@jupyter-widgets/controls",
       "_model_module_version": "1.5.0",
       "_model_name": "SliderStyleModel",
       "_view_count": null,
       "_view_module": "@jupyter-widgets/base",
       "_view_module_version": "1.2.0",
       "_view_name": "StyleView",
       "description_width": "",
       "handle_color": null
      }
     },
     "8564db833d064ded900097478ffd1f44": {
      "model_module": "@jupyter-widgets/output",
      "model_module_version": "1.0.0",
      "model_name": "OutputModel",
      "state": {
       "_dom_classes": [],
       "_model_module": "@jupyter-widgets/output",
       "_model_module_version": "1.0.0",
       "_model_name": "OutputModel",
       "_view_count": null,
       "_view_module": "@jupyter-widgets/output",
       "_view_module_version": "1.0.0",
       "_view_name": "OutputView",
       "layout": "IPY_MODEL_4170b88cd63849cd8b4258ce75a2b22c",
       "msg_id": "",
       "outputs": [
        {
         "data": {
          "image/png": "iVBORw0KGgoAAAANSUhEUgAAA+wAAAFJCAYAAAABl6f8AAAAOXRFWHRTb2Z0d2FyZQBNYXRwbG90bGliIHZlcnNpb24zLjcuMiwgaHR0cHM6Ly9tYXRwbG90bGliLm9yZy8pXeV/AAAACXBIWXMAAA9hAAAPYQGoP6dpAADWvElEQVR4nOzdd3hT5RfA8W+SjnTQBYW2rLI3svcUkaXsJSpDliggIlNly/gBTpQlyBTZigxZArL3BtkbyuyitHTl/v64JrR00JE0aXs+z5Mn6b25954k7W3Ofd/3vBpFURSEEEIIIYQQQghhU7TWDkAIIYQQQgghhBAJScIuhBBCCCGEEELYIEnYhRBCCCGEEEIIGyQJuxBCCCGEEEIIYYMkYRdCCCGEEEIIIWyQJOxCCCGEEEIIIYQNkoRdCCGEEEIIIYSwQZKwCyGEEEIIIYQQNkgSdiGEEEIIIYQQwgZJwp7JzJs3jzlz5lg7DCFENvb48WPGjh3LoUOHrB2KEEIIIUSWJgl7JrJ161Y+/PBDSpQoYfZ979q1C41Gw65du8y+77gWLlyIRqPhxo0bFj1OYho0aECDBg0y/LivcvjwYRwcHLh586a1Q8kSnjx5gouLC5s2bbJ2KFnWwIEDWbNmDeXLl0/03NG9e3f8/f2tFl9m4u/vT/fu3a0dRgIrV67Ey8uLsLAw07KYmBiGDRtG/vz50Wq1tG7d2noBikxp9uzZFChQgMjISGuHIoQQmYYk7ClgTDKNN71eT/Hixenfvz8PHjww23HCw8MZO3Zsoknzs2fP6NOnD+PGjbPJpDMrS+5zMYcvvviCd955h4IFC5qWNWjQwPT7ptVqcXNzo0SJErz//vts27bNbMc2JltJ3SZOnBjv+cHBwfTp0wdvb29cXFxo2LAhx48fN1s85pAzZ0569erFqFGjrB1KpnLmzBnat29PwYIF0ev15M2bl8aNGzNjxox4z9uwYQPr169n9erVODk5WSlace/ePcaOHcvJkyfNvu/Y2FjGjBnDgAEDcHV1NS3/5ZdfmDZtGu3bt2fRokV8+umnZj92WhkMBhYuXEjLli3Jnz8/Li4ulC1blq+++ornz5+neD/79++nTp06ODs74+Pjw8CBA+NdtDCKjIxk+PDh+Pn54eTkRPXq1ZM8N6d0n+llMBiYOnUqhQoVQq/XU758eX777bdkt4mOjqZ06dJoNBqmT5/+ymMoisK4cePImzcvuXPnZtCgQURFRcV7TlhYGHnz5mXZsmUJtu/evTtRUVHSU1AIIVLBztoBZCbjx4+nUKFCPH/+nL179zJr1iw2bdrE2bNncXZ2Tvf+w8PDGTduHECCpPzzzz+nVKlSfP755+k+jkid5D6X9Dp58iTbt29n//79Cdbly5ePyZMnA+oFmytXrrB27VqWLl1Kx44dWbp0Kfb29uk6fqlSpViyZEmC5UuWLGHr1q28+eabpmUGg4EWLVpw6tQphg4dSq5cuZg5cyYNGjTg2LFjFCtWLF2xmNOHH37IDz/8wI4dO3j99detHY7N279/Pw0bNqRAgQL07t0bHx8fbt++zcGDB/n+++8ZMGAAAE+fPqVfv37MnTs32Z4+P//8MwaDIaPCz5bu3bvHuHHj8Pf3p0KFCmbd9/r167l48SJ9+vSJt3zHjh3kzZuXb7/91qzHM4fw8HB69OhBjRo1+PDDD8mdOzcHDhxgzJgx/P333+zYsQONRpPsPk6ePEmjRo0oVaoU33zzDXfu3GH69OlcvnyZv/76K95zu3fvzurVqxk0aBDFihVj4cKFNG/enJ07d1KnTp007TO9vvjiC6ZMmULv3r2pWrUq69ato0uXLmg0Gjp37pzoNjNmzODWrVspPsavv/7KpEmTGD58OC4uLkycOJE8efIwcuRI03MmTpyIv78/Xbp0SbC9Xq+nW7dufPPNNwwYMOCVn4kQQghAEa+0YMECBVCOHDkSb/ngwYMVQFm2bFm69h8bG6tEREQojx49UgBlzJgx6dpfWuzcuVMBlJ07d1r0OMb38vr16xY9TmLq16+v1K9fP9XbWfJzGThwoFKgQAHFYDDEW16/fn2lTJkyCZ4fExOjfPTRRwqgDBs2zOzxGBUtWlQpVqxYvGUrVqxQAGXVqlWmZQ8fPlQ8PDyUd955x2KxpFXZsmWV999/39phZArNmzdXvL29laCgoATrHjx4kOy2GXXuyKoKFiyodOvWLdXbHTlyRAGUBQsWmD2mli1bKnXq1EmwvGHDhomel2xBZGSksm/fvgTLx40bpwDKtm3bXrmPZs2aKb6+vkpISIhp2c8//6wAypYtW0zLDh06pADKtGnTTMsiIiKUIkWKKDVr1kzTPtPrzp07ir29vfLxxx+blhkMBqVu3bpKvnz5lJiYmATbPHjwQHF3d1fGjx+f4PUkpVOnTkqPHj1MP48ZM0apUaOG6ecrV64oTk5OCb4vxXX06FEFUP7++++UvjwhhMjWpEt8Ohhb7q5fvw7A9OnTqVWrFjlz5sTJyYnKlSuzevXqBNtpNBr69+/Pr7/+SpkyZXB0dGT27Nl4e3sDMG7cOFOX5LFjxwIwduzYRK9EL126lGrVquHs7Iynpyf16tVj69at8Y5l3EdcKRk3uWfPHjp06ECBAgVwdHQkf/78fPrpp0RERKTk7eHcuXO8/vrrODk5kS9fPr766qskW93++usv6tati4uLCzly5KBFixacO3fulccwDlfYvXs3ffv2JWfOnLi5udG1a1eCgoKS3TYqKorRo0dTuXJl3N3dcXFxoW7duuzcudP0nBs3biT7uZw+fZru3btTuHBh9Ho9Pj4+fPDBBzx58iRF79Eff/zB66+/nuJWBp1Oxw8//EDp0qX58ccfCQkJSdF2qXH48GGuXLnCu+++G2/56tWryZMnD23btjUt8/b2pmPHjqxbt+6VYxL9/f1566232Lt3L9WqVUOv11O4cGEWL14c73nGz3Tv3r0MHDgQb29vPDw86Nu3L1FRUQQHB9O1a1c8PT3x9PRk2LBhKIqS4HiNGzdm/fr1ia4T8V29epUyZcrg4eGRYF3u3Lnj/ZySc0diY9gNBgPff/895cqVQ6/X4+3tTdOmTTl69Gi85y1dupTKlSvj5OSEl5cXnTt35vbt2yl6HXfv3qVnz574+fnh6OhIoUKF6NevX7wuu9euXaNDhw54eXnh7OxMjRo12LhxY7z9GIeKrFy5kokTJ5IvXz70ej2NGjXiypUrr4zDeL6+cOECHTt2xM3NjZw5c/LJJ5+8snt2YGAgQ4YMoVy5cri6uuLm5kazZs04depUvPiqVq0KQI8ePUznpYULFwLpO3c/f/6czZs388Ybb5iW3bhxA41Gw86dOzl37pzpeNu2bcPLy4sePXok2E9oaCh6vZ4hQ4a88pjm4ODgQK1atRIsb9OmDQD//vtvstuHhoaybds23nvvPdzc3EzLu3btiqurKytXrjQtW716NTqdLl4PBL1eT8+ePTlw4IDp9zU1+wT19/eDDz4gT548ODo6UqZMGX755ZcUvf5169YRHR3NRx99ZFqm0Wjo168fd+7c4cCBAwm2GTFiBCVKlOC9995L0TEAIiIi8PT0NP3s5eVFeHi46efPPvuMzp07U6VKlST3UblyZby8vFi3bl2KjyuEENmZdIlPh6tXrwLqmFmA77//npYtW/Luu+8SFRXF8uXL6dChAxs2bKBFixbxtt2xYwcrV66kf//+5MqVi9dee41Zs2bRr18/2rRpY0qKypcvn+Txx40bx9ixY6lVqxbjx4/HwcGBQ4cOsWPHjnhdmdNq1apVhIeH069fP3LmzMnhw4eZMWMGd+7cYdWqVclue//+fRo2bEhMTAwjRozAxcWFuXPnJjrmdcmSJXTr1o0mTZrwv//9j/DwcGbNmkWdOnU4ceJEiopX9e/fHw8PD8aOHcvFixeZNWsWN2/eNH3xTkxoaCjz5s3jnXfeoXfv3jx9+pT58+fTpEkTDh8+TIUKFfD29k72c9m2bRvXrl2jR48e+Pj4cO7cOebOncu5c+c4ePBgson43bt3uXXrFpUqVXrl64tLp9PxzjvvMGrUKPbu3Wv63QoJCSE6OvqV2+v1+njjUl/266+/AiRI2E+cOEGlSpXQauNf56tWrRpz587l0qVLlCtXLtljX7lyhfbt29OzZ0+6devGL7/8Qvfu3alcuTJlypSJ99wBAwbg4+PDuHHjOHjwIHPnzsXDw4P9+/dToEABJk2axKZNm5g2bRply5ala9eu8bavXLky3377LefOnaNs2bKvfF+ys4IFC3LgwAHOnj1rsfeqZ8+eLFy4kGbNmtGrVy9iYmLYs2cPBw8eNH25nzhxIqNGjaJjx4706tWLR48eMWPGDOrVq8eJEycSvaBgdO/ePapVq2aqs1CyZEnu3r3L6tWrCQ8Px8HBgQcPHlCrVi3Cw8MZOHAgOXPmZNGiRbRs2ZLVq1ebkjujKVOmoNVqGTJkCCEhIUydOpV33303xdXxO3bsiL+/P5MnT+bgwYP88MMPBAUFJbhIFde1a9f4448/6NChA4UKFeLBgwfMmTOH+vXrc/78efz8/ChVqhTjx49n9OjR9OnTh7p16wKYEtb0nLuPHTtGVFRUvPOSt7c3S5YsYeLEiYSFhZmG6pQvX542bdqwdu1a5syZg4ODg2mbP/74g8jIyCS7YhuZ67yVlPv37wOQK1euZJ935swZYmJiEiSaDg4OVKhQgRMnTpiWnThxguLFi8dLwkE9F4LaDT5//vyp2ueDBw+oUaOG6YK+t7c3f/31Fz179iQ0NJRBgwYlG/+JEydwcXGhVKlSicZ04sSJeF31Dx8+zKJFi9i7d2+quqVXrVqVmTNn0qFDB1xcXJgzZ47p927btm3s2LGDS5cuvXI/lSpVYt++fSk+rhBCZGvWbuLPDIzduLdv3648evRIuX37trJ8+XIlZ86cipOTk3Lnzh1FURQlPDw83nZRUVFK2bJllddffz3eckDRarXKuXPn4i1Pruv1mDFjlLgf1+XLlxWtVqu0adNGiY2NjffcuN2rk9rfy90wE+vW+vLrURRFmTx5sqLRaJSbN28mWBfXoEGDFEA5dOiQadnDhw8Vd3f3eF3inz59qnh4eCi9e/eOt/39+/cVd3f3BMtfZvxsKleurERFRZmWT506VQGUdevWmZa93CU+JiZGiYyMjLe/oKAgJU+ePMoHH3xgWpbc55LYe/Tbb78pgLJ79+5kY9++fbsCKOvXr0+wLqku8Ua///67Aijff/99vG2AV96S634bExOj5MmTR6lWrVqCdS4uLvHeF6ONGzcqgLJ58+ZkX2/BggUTvC8PHz5UHB0dlc8++8y0zPiZNmnSJN7vcs2aNRWNRqN8+OGH8eLNly9fokMd9u/frwDKihUrko1LKMrWrVsVnU6n6HQ6pWbNmsqwYcOULVu2xPubMkrJuaNbt25KwYIFTT/v2LFDAZSBAwcm2J/xM75x44ai0+mUiRMnxlt/5swZxc7OLsHyl3Xt2lXRarWJdsU1HsN4XtqzZ49p3dOnT5VChQop/v7+pnOp8TWVKlUq3jni+++/VwDlzJkzycZiPF+3bNky3nLjcJZTp06Zlr38fj5//jzBOf369euKo6OjMn78eNOy5LrEp+fcPW/evCRfY2LnpS1btiR6HmvevLlSuHDhZI9l3Gd6z1vJeeONNxQ3N7dEh3vEtWrVqiTP2x06dFB8fHxMP5cpUybB/3VFUZRz584pgDJ79uxU77Nnz56Kr6+v8vjx43jP69y5s+Lu7p7oZxpXixYtEn2/nz17pgDKiBEjTMsMBoNSrVo101Cm69evp7hLfGhoqFKnTh3T51KmTBnlzp07SnR0tFK6dGllypQpr9yHoihKnz59FCcnpxQ9VwghsjtpYU+FuF0EQW2V+vXXX8mbNy9AvNbjoKAgYmNjqVu3bqJVWuvXr0/p0qXTHMsff/yBwWBg9OjRCVo8zVXEJe7refbsGREREdSqVQtFUThx4gQFChRIcttNmzZRo0YN09V9UFtp3n33XWbOnGlatm3bNoKDg3nnnXd4/PixablOp6N69erxuqcnp0+fPvEKsPXr14/PP/+cTZs20bJly0S30el06HQ6QO2uGxwcjMFgoEqVKimufB73PXr+/DlhYWHUqFEDgOPHj5tavhJj7DYft3thShlbmp4+fWpa9vXXX79yGACAn59fkuv+/vtvHjx4kGhxw4iICBwdHRMs1+v1pvWvUrp06Xjvibe3NyVKlODatWsJntuzZ894v8vVq1fnwIED9OzZ07RMp9NRpUoVjh07lmB74/sa9/dKJK5x48YcOHCAyZMns2XLFg4cOMDUqVPx9vZm3rx5Sf4NpdSaNWvQaDSMGTMmwTrjZ7x27VoMBgMdO3aM95n5+PhQrFgxdu7cmWTRTYPBwB9//MHbb7+daFdc4zE2bdpEtWrV4rU0urq60qdPH0aOHMn58+fj9TDo0aNHvFZj4+/utWvXUtQT4eOPP47384ABA5g5cyabNm1KsvdU3L+x2NhYgoODcXV1pUSJEmk6L6X23J3a89Lrr79Orly5WLFiBW+99Rag/v/btm1birrDm+O8lZRJkyaxfft2Zs6cmWzvDHhx/krqHBf3/JbSc2FK96koCmvWrKFjx44oihLv979JkyYsX76c48ePU7t27WTjT+n5eeHChZw5cybRIXuvkiNHDv755x8uXLhAdHQ0ZcqUwc7Ojh9++IHIyEg+/fRTzp8/z8cff8ylS5do2LAhM2fOTNAbwdPTk4iICMLDw81StFcIIbIySdhT4aeffqJ48eLY2dmRJ08eSpQoES9Z3rBhA1999RUnT56MN543sQS6UKFC6Yrl6tWraLXadCX9r3Lr1i1Gjx7Nn3/+meAL1avGTt+8eZPq1asnWP5yZenLly8DJFnJ++V/8kl5uUK5q6srvr6+r5zvfdGiRXz99demLx9GKf18AgMDGTduHMuXL+fhw4fx1qV0fLmShjHWximBcuTIYVpWuXLlVO/nZb/++is6nY5OnTolWOfk5JToOHXjmNyUTPGVWKLg6emZ6Bf2l5/r7u4OQP78+RMsT2x74/sqVYhTpmrVqqxdu5aoqChOnTrF77//zrfffkv79u05efJkus41V69exc/PDy8vrySfc/nyZRRFSXK2geRmRHj06BGhoaGvTKKTOi8ZuxHfvHkz3j5e/h00JrEpSTAh4XmpSJEiaLXaZM9LxrH+M2fO5Pr168TGxprWGYdfvUp6zt1GKT0v2dnZ0a5dO5YtW0ZkZCSOjo6sXbuW6OjoRM8jLzPHeSsxK1as4Msvv6Rnz57069fvlc83nr+SOsfFPb+l9FyY0n0+evSI4OBg5s6dy9y5cxONz/j/xdjF38jd3R0nJ6cUxxQaGsrIkSMZOnRognNpSr383ePx48eMHTuWX375BY1Gw1tvvcVbb73FtGnTGDx4MAMGDGDRokXx9iHnZyGESDlJ2FOhWrVqSRZS2bNnDy1btqRevXrMnDkTX19f7O3tWbBgQaJzkVp7/uK4XwKTWt+4cWMCAwMZPnw4JUuWxMXFhbt379K9e3ezTdlk3M+SJUvw8fFJsN7OznK/okuXLqV79+60bt2aoUOHkjt3bnQ6HZMnTzbVJ3iVjh07sn//foYOHUqFChVwdXXFYDDQtGnTV75Hxi/fKf3yH9fZs2cBKFq0qGlZYGBggvlwE+Pk5GRKfuOKiIjg999/54033iBPnjwJ1vv6+hIQEJBguXFZSlrAjD0aXpZYcpDUcxNbntj2xvf1VWNXRXwODg5UrVqVqlWrUrx4cXr06MGqVasSbR03J4PBgEaj4a+//kr0M07L+OX0Ss3va0qkJDmZNGkSo0aN4oMPPmDChAl4eXmh1WoZNGhQis676T13xz0v5cuXL0Wvq3PnzsyZM4e//vqL1q1bs3LlSkqWLMlrr732ym3Te95KzLZt2+jatSstWrRg9uzZKdrG19cXIMlzXNzzm6+vL3fv3k30efDiXJjSfRo/k/fee49u3bolGp+xR4Zxn0YLFiyge/fu+Pr6snPnThRFifd79nJM06dPJyoqik6dOpkuHN25cwdQP/MbN27g5+cXr2fJq4waNYpKlSrRunVr9uzZQ0BAAFOnTkWv1zNu3DiaNm3KggUL4jVwBAUF4ezsbPXvQkIIkRlIwm4ma9asQa/Xs2XLlnjd0hYsWJDifaTmSnORIkUwGAycP38+2Tl4PT09CQ4OjrcsKioq0S8QcZ05c4ZLly6xaNGieMW8tm3blqL4ChYsaGo9j+vixYvxfi5SpAigVqJ+echBaly+fJmGDRuafg4LCyMgIIDmzZsnuc3q1aspXLgwa9eujffev5yYJPW5BAUF8ffffzNu3DhGjx4dL5aUKFmyJPBiloGUio2NZdmyZTg7O8fr2tu2bVv++eefV27frVs3UzXpuP7880+ePn2aoNicUYUKFdizZw8GgyHeF69Dhw7h7OxM8eLFU/U6LM34vr5chEmknPEC5avOF69SpEgRtmzZQmBgYJKt7EWKFEFRFAoVKpTq3yVvb2/c3NxMF7KSUrBgwQTnIIALFy6Y1pvT5cuX4/XWuXLlCgaDIdlCmqtXr6Zhw4bMnz8/3vLg4OB4F5+SOi+l99wd97z0qiKSRvXq1cPX15cVK1ZQp04dduzYwRdffJGibdN73nrZoUOHaNOmDVWqVGHlypUpvuhbtmxZ7OzsOHr0KB07djQtj4qK4uTJk/GWVahQgZ07dxIaGhqvF5ixGKHxf3JK9+nt7U2OHDmIjY195f/Blz9HY7HOChUqMG/ePP799994rd8vx3Tr1i2CgoISFPkE9WLRpEmTOHHiRLLfK+I6deoUv/zyi2lY0r179/D09DR1xffz8yMqKopHjx7FuxB8/fp1OTcLIUQKybRuZqLT6dBoNPFarm/cuMEff/yR4n0Yx3G9nGAnpnXr1mi1WsaPH5+gxSRu60+RIkXYvXt3vPVz5859ZQu7sWUp7r4UReH7779/ZWwAzZs35+DBgxw+fNi07NGjR6YK5EZNmjTBzc2NSZMmJVop+NGjRyk63ty5c+NtP2vWLGJiYmjWrFmS2yT2Gg8dOpRg+pukPpfEtgf47rvvUhRz3rx5yZ8/f4JprZITGxvLwIED+ffffxk4cGC8L4tff/0127Zte+Vt2LBhie7beBHg5UrZRu3bt+fBgwesXbvWtOzx48esWrWKt99+O9Hxk9Z07Ngx3N3dE/1iKuIztsy9bNOmTUDCoSyp1a5dOxRFYdy4cQnWGY/btm1bdDod48aNSxCLoijJTpWo1Wpp3bo169evT/Tvybi/5s2bc/jw4Xh/48+ePWPu3Ln4+/ubfYjRTz/9FO/nGTNmALzyvPTy61+1alWCFl0XFxcgZeel1Jy7K1eujIODQ6rOS1qtlvbt27N+/XqWLFlCTExMirrDQ/rPW3H9+++/tGjRAn9/fzZs2JBs6+2FCxe4deuW6Wd3d3feeOMNli5dGq82yJIlSwgLC6NDhw6mZe3btyc2NjZe9/XIyEgWLFhA9erVTV3NU7pPnU5Hu3btWLNmTaIXneL+H3zjjTfi3Ywt7q1atcLe3j5ejRhFUZg9ezZ58+Y1VXIfOHAgv//+e7zbnDlzAHU6xt9//z1VQ/Y++eQTevXqZRpKkidPHh49ekRgYCCgfiZ2dnYJejodP3480Wn4hBBCJCQt7GbSokULvvnmG5o2bUqXLl14+PAhP/30E0WLFuX06dMp2oeTkxOlS5dmxYoVFC9eHC8vL8qWLZvouMyiRYvyxRdfMGHCBOrWrUvbtm1xdHTkyJEj+Pn5mabd6dWrFx9++CHt2rWjcePGnDp1ii1btryym3DJkiUpUqQIQ4YM4e7du7i5ubFmzZoUd98eNmwYS5YsoWnTpnzyySemad0KFiwY7/1wc3Nj1qxZvP/++1SqVInOnTvj7e3NrVu32LhxI7Vr1+bHH3985fGioqJo1KgRHTt25OLFi8ycOZM6deokWyzrrbfeYu3atbRp04YWLVpw/fp1Zs+eTenSpU1jxCH5z6VevXpMnTqV6Oho8ubNy9atW1PVYt6qVSt+//33BN0YQR1runTpUgDCw8O5cuUKa9eu5erVq3Tu3JkJEybEe356xoIGBgby119/0a5duyS7Hrdv354aNWrQo0cPzp8/T65cuZg5cyaxsbGJJmLWtm3bNt5++20ZI5kCAwYMIDw8nDZt2lCyZEmioqLYv38/K1aswN/fP9F5tlOjYcOGvP/++/zwww9cvnzZNGRkz549NGzYkP79+1OkSBG++uorRo4cyY0bN2jdujU5cuTg+vXr/P777/Tp0yfZImaTJk1i69at1K9fnz59+lCqVCkCAgJYtWoVe/fuxcPDgxEjRvDbb7/RrFkzBg4ciJeXF4sWLeL69eusWbMmQQHP9Lp+/TotW7akadOmHDhwgKVLl9KlS5dku4q/9dZbjB8/nh49elCrVi3OnDnDr7/+SuHCheM9r0iRInh4eDB79mxy5MiBi4sL1atXT/e5W6/X8+abb7J9+3bGjx+f4tfaqVMnZsyYwZgxYyhXrlyKW0/NNYb96dOnNGnShKCgIIYOHcrGjRvjrS9SpAg1a9Y0/VyqVCnq16/Prl27TMsmTpxIrVq1TL9Dd+7c4euvv+bNN9+kadOmpudVr16dDh06MHLkSB4+fEjRokVZtGgRN27cSNAzIqX7nDJlCjt37qR69er07t2b0qVLExgYyPHjx9m+fbspAU5Kvnz5GDRoENOmTSM6OpqqVavyxx9/sGfPHlNtElCnU3t5KlFj1/gyZcrQunXrV77XRqtWreL06dOsWbPGtKxmzZrkyZOHDh060LZtW6ZPn266GGd07NgxAgMDadWqVYqPJYQQ2VpGlKLP7IzTTCU2XVBc8+fPV4oVK6Y4OjoqJUuWVBYsWJBgOjZFUada+/jjjxPdx/79+5XKlSsrDg4O8aYSS2w/iqIov/zyi1KxYkXF0dFR8fT0VOrXr69s27bNtD42NlYZPny4kitXLsXZ2Vlp0qSJcuXKlRRNzXT+/HnljTfeUFxdXZVcuXIpvXv3Vk6dOpXkVEIvO336tFK/fn1Fr9crefPmVSZMmKDMnz8/3rRucY/fpEkTxd3dXdHr9UqRIkWU7t27K0ePHk32GMbP5p9//lH69OmjeHp6Kq6ursq7776rPHnyJN5zX57WzWAwKJMmTVIKFiyoODo6KhUrVlQ2bNiQYEoqRUn6c7lz547Spk0bxcPDQ3F3d1c6dOig3Lt3L8lp4F52/PjxBNNMGWMlzpRGrq6uSrFixZT33ntP2bp16yv3m1qzZ89WAOXPP/9M9nmBgYFKz549lZw5cyrOzs5K/fr1X/l3YVSwYEGlRYsWCZa//Lkk9fdm/Bt49OhRvOXdunVTXFxc4i37999/TVMxilf766+/lA8++EApWbKk4urqqjg4OChFixZVBgwYoDx48CDec9MyrZuiqFPwTZs2TSlZsqTi4OCgeHt7K82aNVOOHTsW73lr1qxR6tSpo7i4uCguLi5KyZIllY8//li5ePHiK1/HzZs3la5duyre3t6Ko6OjUrhwYeXjjz+ONzXb1atXlfbt2yseHh6KXq9XqlWrpmzYsCHefoyvadWqVfGWG6e/etX5z/i7ev78eaV9+/ZKjhw5FE9PT6V///5KREREvOcmNq3bZ599pvj6+ipOTk5K7dq1lQMHDiT4O1EURVm3bp1SunRpxc7OLl5c6T13r127VtFoNMqtW7fiLU9uukmDwaDkz59fAZSvvvrqlccwN+Nnk9Tt5WnhgESng9yzZ49Sq1YtRa/XK97e3srHH3+shIaGJnheRESEMmTIEMXHx0dxdHRUqlatmuTUlind54MHD5SPP/5YyZ8/v2Jvb6/4+PgojRo1UubOnZui9yA2Ntb0P83BwUEpU6aMsnTp0ldul5pp3YzCw8OVggULKj/88EOCdUeOHFEqVaqk5MiRQ3n77beVhw8fxls/fPhwpUCBAvGm7RRCCJE0jaKksXqOEDZg4cKF9OjRgyNHjiRZENDWNWrUCD8/P5YsWWLtULKMQYMGsXv3bo4dOyYt7CLDjR07lnHjxvHo0aNMWfQwNjaW0qVL07FjxwQ9eYRIj8jISPz9/RkxYgSffPKJtcMRQohMQcawC2FlkyZNYsWKFdy8edPaoWQJT548Yd68eXz11VeSrAuRBjqdjvHjx/PTTz/FGx4kRHotWLAAe3t7PvzwQ2uHIoQQmYZNJexhYWGMGTOGpk2b4uXlhUajSbIq7L///kvTpk1xdXXFy8uL999/P8UFyoSwJdWrVycqKsrsFaqzq5w5cxIWFpbsDAGZXWrOlYkJDg6mT58+eHt74+LiQsOGDTl+/LjlAhaZTqdOnQgMDLTKdHoi6/rwww+5deuWzRUpFUIIW2ZTCfvjx48ZP348//77b7JFee7cuUO9evW4cuUKkyZNYsiQIWzcuJHGjRunaD5XIYTIzFJ6rkyMwWCgRYsWLFu2jP79+zN16lQePnxIgwYNUjwloRBCCCGEyBg2NYY9MjKSoKAgfHx8OHr0KFWrVmXBggV079493vM++ugjFi5cyIULFyhQoAAA27dvp3HjxsyZM4c+ffpYIXohhMgYKT1XJmblypV06tSJVatW0b59e0CdNqp48eI0a9aMZcuWWTh6IYQQQgiRUjbVwu7o6IiPj88rn7dmzRreeustU7IO6tykxYsXZ+XKlZYMUQghrC6l58rErF69mjx58tC2bVvTMm9vbzp27Mi6deuIjIw0V5hCCCGEECKdbCphT4m7d+/y8OHDRCuCV6tWjRMnTlghKiGEyBxOnDhBpUqVEsw5Xq1aNcLDw7l06ZKVIhNCCCGEEC+zs3YAqRUQEACAr69vgnW+vr4EBgYSGRmZaEGTyMjIeK1HBoOBwMBAcubMKdWkhcjGFEXh6dOn+Pn5JUhks5qAgADq1auXYLnxnHrv3j3KlSuXYL2cP4UQiclO508hhLCGTJewR0REACSakOv1etNzEls/efJkxo0bZ9kAhRCZ1u3bt8mXL5+1w7CopM6Pcc+fiZHzpxAiOdnh/CmEENaQ6RJ2JycngETHWT5//jzec142cuRIBg8ebPo5JCSEAgUKcPv2bdzc3CwQrRAiMwgNDSV//vzkyJHD2qFYnJOTk5w/hRBmk53On0IIYQ2ZLmE3dts0do2PKyAgAC8vryTn93R0dEx0nZubm3zhFEJki67dvr6+SZ4/Afz8/BLdTs6fQojkZIfzpxBCWEOmG2yUN29evL29OXr0aIJ1hw8fpkKFChkflBBCZBIVKlTg+PHjGAyGeMsPHTqEs7MzxYsXt1JkQgghhBDiZZkuYQdo164dGzZs4Pbt26Zlf//9N5cuXaJDhw5WjEwIIWxHQEAAFy5cIDo62rSsffv2PHjwgLVr15qWPX78mFWrVvH2228n2UNJCCGEEEJkPJvrEv/jjz8SHBzMvXv3AFi/fj137twBYMCAAbi7u/P555+zatUqGjZsyCeffEJYWBjTpk2jXLly9OjRw5rhCyFEhkjJuXLkyJEsWrSI69ev4+/vD6gJe40aNejRowfnz58nV65czJw5k9jYWCkqJ4QQQghhYzSKoijWDiIuf39/bt68mei6uF86z507x+DBg9m7dy8ODg60aNGCr7/+mjx58qT4WKGhobi7uxMSEiJjMEWGUxSFmJgYYmNjrR1KlqfT6bCzs0tyjGVmPBek5FzZvXv3BAk7QFBQEEOHDuWPP/4gIiKCqlWrMn36dKpUqZLi42fG90wIYX5yLhBCCMuyuYQ9I8k/GWEtUVFRBAQEEB4ebu1Qsg1nZ2d8fX1xcHBIsE7OBakn75kQAuRcIIQQlmZzXeKFyOoMBgPXr19Hp9Ph5+eHg4ODVNe1IEVRiIqK4tGjR1y/fp1ixYqh1WbK8h1CCCGEECKbkYRdiAwWFRWFwWAgf/78ODs7WzucbMHJyQl7e3tu3rxJVFQUer3e2iEJIYQQQgjxStLMJISVSCtvxpL3WwghhBBCZDbyDVYIIYQQQgghhLBBkrCLlBs+HIoUgS+/hLt3rR2NEEIIIYQQQmRpkrCLlHn+HL7/Hq5dg4kTwd8fli2zdlRCCCGEEEIIkWVJwi5S5uBBiIyEnDmhWjWIiYEFC6wdlbCSY8eO0blzZ/z8/NDr9RQtWpT33nuPc+fOmf1YJ06cwN7engYNGph930IIIYQQQtgySdhFyuzYod43aQI//6w+PngQYmOtF5Owip9//pnq1avj7u7O2rVruXjxInPmzOHp06css0Cvi4EDBzJkyBBOnTpl9n0LIYQQQghhy2RaN5EyxoT99dehTBlwc4PQUDhzBipUsGpoIuPs3buXDz/8kB9//JF+/fqZlhcsWJBGjRoRGBho1uMtW7YMT09PPv74Y6ZMmcKNGzfw9/c36zGEEEIIIYSwVZKwi1d79gwOHVIfN2wIOh3UqAFbt8L+/ZKwp5eiQHi4dY7t7AwaTYqfPnjwYOrXrx8vWY/Ly8vLXJHx7NkzPv/8c/766y/y5cuHu7s7J0+elIRdCCGEEEJkG5Kwi1fbu1cds16wIBQqpC6rVUtN2Pftg48+sm58mV14OLi6WufYYWHg4pKip/77778cOXKE1atXWzgo1aRJk2jatCmlSpUCoHTp0pw8eZLWrVtnyPGFECKriY2FiAi1jqzxFhn54j4qSr05OICUDRFCCNsgCbt4tZ071fuGDV+0xtaqpd7v32+dmESGO378OACVK1e2+LGuXbvGnDlzOHv2rGlZ2bJlOXnypMWPLYQQ1mIwqJ3anj6NfwsLU5eHhb24PXumXu813se9RUSoN+Pj8HA1KY+JSVkcRYrAlSuWfa1CCCFSRhJ28Wpxx68bVa8OWi3cuAH37oGfn1VCyxKcndVvX9Y6dgqF/9dt3zWZ3gBhYWG0b9+eu3fvAjB9+nSaNGnCL7/8wnfffYdGo6Fx48ZMnz4dgLfeeouAgAAiIyMZOXIk7777LgCffvopT548IV++fKZ9GwwGChQoYPr55s2b9O/fnzt37hAdHc2mTZvirRdCCGuIioInT9RbYGD8W3AwBAVBSIj62HgfHKyWhXn6VB0llRHs7UGvB0fHF/cODuotf/6MiUEIIcSrScIukhcSAseOqY8bNnyx3M0NypWDU6fUVvb27a0TX1ag0aS4W7o1lS1bFoA9e/bQpk2bBOsjIiLYsmULOXPmZPPmzSiKwtOnTzlz5gzffvste/bswcPDI15husWLF+Pl5cWzZ8+oWrUq7du3559//mHfvn2cOHECO7sXp6gjR47wwQcfEBwcjLOzM82bN+enn36iQYMGBAUFJXshQQgh0iMsDAIC1Nv9+y9uDx7Aw4fq7dEjePxYTbrTS6eDHDnUm6ureu/ioj52dX3x2NlZfezs/OLm5JTw3njT69V7R0f1GEIIIWyfJOwieceOqX30ChWCOK2dANSuLQl7NlKzZk3efPNNPvroI8LCwqhZsyYGg4EjR44wa9Ys5s6dS7ly5Rg0aBDDhg2jTZs21KxZk507d9KpUyc8PDyA+IXpvv32W/78808Abt26xa1btxg0aBBDhw6lwkvFDN3c3AA4efIkDx48oEaNGqa52T09PS3++oUQWVN0NNy+Ddevw61bcPOm+vOdO+r93btq63dqaDTg5QU5c6o3Ly/w9FRv7u4v7j081Jubm/qzm5t6c3JKVT1QIYQQWZgk7CJ5xkFs/xX+iqdWLZg5Uy08J7KFdevW8e233zJ16lSuXbuGXq+naNGivP3225QsWRKtVsvJkyfZsGEDgwcPNnVxT8zOnTvZt28fhw4dQq/XU6VKFZYvX86TJ0/o379/gufnz58fZ2dnTp48yePHj6lWrZolX6oQIguJjYVr1+DCBbh4ES5dgqtX1dvt2+p16VdxcQFfX3UEmI8P5Mnz4ubtDblzQ65caoLu4aGOGhNCCCHSSxJ2kbzLl9X7YsUSrjMWnjtxQq1kYye/TlmdXq9n5MiRjBw5MtH19+7dw8vLi27duqHX69m2bRuDBg3inXfeYcCAAbi7uxMYGIiXlxehoaHkzJkTvV7PyZMnOXXqFAsXLmTUqFGJ7luj0fDs2TMAZsyYYSpIFxsbS0hIiFmnlBNCZE6KoraInzypdgA7exbOn1eT9MjIpLfT68HfX50MpUABdQx3/vxqx7K8edXbf518hBBCiAwlGZZInjFhL1o04bqCBdWBcJGRaj/CwoUzNjZhc86cOcOQIUPQ6XQ4OTkxf/58SpcuzSeffELt2rWxs7PjzTffZOrUqTRt2pRZs2ZRunRpypQpk6rq8927d6dTp06ULVsWe3t7Zs2aRY0aNSz4yoQQtiggAA4fVm/Hjqm3x48Tf65eDyVLQokSULy4+m+taFH1X1eePNIFXQghhG2ShF0kz9glPrEWdq1Wnfvl/Hm1X6Ek7NlekyZNaNKkSYLlvXr1olevXvGWOTo6snnz5jQdJ0eOHGzatClN2wohMidFUbu179wJu3fD3r3quPOX6XRQujS89hqULQtlyqg/+/tLN3UhhBCZjyTsImkGg5qIQ+It7PAiYb9yBRo3zrjYhBBCZHlPnsC2bept+3a1M1dcWq2akFerBlWqQOXK6gQmer114hVCCCHMLUUJ++7du9O083r16qVpO2Ej7t6F58/VsekFCyb+HGMib0zshRBCiHS4ehXWrIE//4QDB+IXhLO3h+rVoUEDqFsXatZUpzwTQgghsqoUJewNGjRAk4rBXYqioNFoiI2NTXNgwgYYx68XLpx0QbkiRdR7Y9d5IYQQIpXu3oXffoNly9Q6pnGVLQtvvql24qpbV63WLoQQQmQXKUrYd+7caek4hC1KruCckXGdJOxCCCFSITIS1q2DefPU7u6Koi7X6aBhQ2jTBt56S63aLoQQQmRXKUrY69evb+k4hC1KruCckbGF/do1td+iVPQRQgiRjDt3YPZsmDsXHj16sbxOHXj3XWjfXp3PXAghhBBSdE4kJ7k52I0KFlSbQyIi1Pl18ubNmNiEEEJkKufOwZQpatd344g5Pz/o0QM++EAmGhFCCCESk+aE/fnz56xZs4bjx48TEhKCIW5VGECj0TB//vx0ByisyNjCnlyXeHt7NWm/dk2tFCQJuxBCiDguXoTPP4e1a18sq1cPBg6EVq2SLpEihBBCiDQm7Ddv3qRhw4bcuHEDDw8PQkJC8PLyIjg4mNjYWHLlyoWrq6u5YxUZKe6Ubsm1sIOa0F+7pib4MjOAEEII1O7uo0fDzz+rLeoaDbRtCyNGqFOwCSGEEOLV0jTgeOjQoYSEhHDw4EEuXbqEoiisWLGCsLAw/ve//+Hk5MSWLVvMHavISHfuvJjS7VUVf4zj2GVqNyGEyPaio+G779RrvbNnq8l6y5Zw9iysXi3JuhBCCJEaaUrYd+zYwUcffUS1atXQ/ldkTFEUHB0dGTp0KI0aNWLQoEHmjFNkNGN3+OSmdDOSSvFCCCGAQ4egcmX49FMICYGKFeGff9Rq8KVLWzs6IYQQIvNJU8IeHh6Ov78/AG5ubmg0GkJCQkzra9asyd69e80SoLCSlBScM5IW9mzn2LFjdO7cGT8/P/R6PUWLFuW9997j3LlzFjneiRMnsLe3p0GDBhbZvxAifZ4/V5P0mjXhzBnImVOtAn/kiIyUEkIIIdIjTQl7gQIFuHPnDgB2dnbkzZuXgwcPmtafP38evV5vngiFdaSk4JxR3BZ240S6Isv6+eefqV69Ou7u7qxdu5aLFy8yZ84cnj59yrJlyyxyzIEDBzJkyBBOnTplkf0LIdLu4kWoUUPtBq8o8P77cOEC9O6tTiIihBBCiLRLU9G5119/nXXr1jFmzBgAunfvzuTJkwkKCsJgMLBkyRK6du1q1kBFBrt5U70vVOjVzzXOxRMSAoGBatOKyJL27t3Lhx9+yI8//ki/fv1MywsWLEijRo0IDAw0+zGXLVuGp6cnH3/8MVOmTOHGjRumHj5CCOv67Tc1MX/2DLy9YeFCaN7c2lEJIYQQWUeaWthHjBjBF198QWRkJACff/453bp1Y/Xq1axbt44uXbrwzTffmDXQl12+fJnOnTuTL18+nJ2dKVmyJOPHjyc8PNyix802bt9W7/Pnf/VznZxeTOcm49iztMGDB1O/fv14yXpcXl5eZj3es2fP+Pzzz/nf//5Hvnz5cHd35+TJk2Y9RmYUGRnJ8OHD8fPzw8nJierVq7Nt27YUbbt9+3YaNmxIrly58PDwoFq1aixZssTCESfv3DmQUVSZS0wMDB4MXbqoyXrDhnDypCTrQgghhLmlqYW9QIECFIhTOVyv1zNv3jzmzZtntsCSc/v2bapVq4a7uzv9+/fHy8uLAwcOMGbMGI4dO8a6desyJI4s7b8hD+TLl7LnFykCd++q49irV7dcXFmQooC1rjM5O6tTLaXEv//+y5EjR1i9enWqj3Pjxg3at2/P0aNHU7XdpEmTaNq0KaVKlQKgdOnSnDx5ktatW6c6hqyke/furF69mkGDBlGsWDEWLlxI8+bN2blzJ3Xq1Elyuz///JPWrVtTs2ZNxo4di0ajYeXKlXTt2pXHjx/z6aefZuCrUAUHQ5066v2BA2rXamHbwsLU6dmM14hGjoQJE6T7uxBCCGEJaUrYkxIVFUV0dDQuLi7m3G0CS5YsITg4mL1791KmTBkA+vTpg8FgYPHixQQFBeHp6WnRGLK0mBi4d099nJIWdngx9ZuxZV6kWHg4uLpa59hhYZDSP9fjx48DULlyZQtG9MK1a9eYM2cOZ8+eNS0rW7Zstm9hP3z4MMuXL2fatGkMGTIEgK5du1K2bFmGDRvG/v37k9z2xx9/xNfXlx07duDo6AhA3759KVmyJAsXLrRKwj5zppqsAwwbplYUT+lFJJHxnjyBFi3UavAuLrB4sZq8CyGEEMIy0tQlfvny5Qm+2I0bNw5XV1c8PDxo06YNYWFhZgkwMaGhoQDkyZMn3nJfX1+0Wi0ODg4WO3a2EBAABoM6ndtL73GSjIm9JOxZlnG4iesrri689dZbVK5cmbJly/Lrr7+alkdFRdGxY0dKlSpFt27diImJISwsjKZNm1KuXDnKlSvHli1bTM//9NNPefLkCfny5cPOzg47OzvmzZsXL2G/efMmb7/9NhUrVqRs2bLcunXLvC/aBq1evRqdTkefPn1My/R6PT179uTAgQPcTuZvMDQ0FE9PT1OyDmrh0Fy5cuHk5GTRuBMTHg7ffvvi5z17YOPGDA9DpND9+1C/vpqse3nBjh2SrAshhBCWlqaE/euvv+bZs2emn/fv38+4ceNo0qQJn376KZs3b2bixIlmC/JlxqmdevbsycmTJ7l9+zYrVqxg1qxZDBw40OIt/FmesTt83rygTeGviCTsaebsrLZ0W+Pm7JzyOMuWLQvAnj17El0fEREBwOLFizl27BiHDh1i4sSJploXZ8+eZdiwYfz7779ER0ezdOlStmzZQs6cOTlz5gynT5+mZs2aAGzdupV9+/Zx4sQJTp48abrNnz+fmzdvEhwcTFRUFM2bN+ezzz7jxIkT7NmzB19f33R8EpnDiRMnKF68OG5ubvGWV6tWDSDZHggNGjTg3LlzjBo1iitXrnD16lUmTJjA0aNHGTZsmCXDTtS8efD4sVrbcvBgddmIERAbm+GhiFe4dw8aNFDrDfj5we7d8N+vnBBCCCEsKE1d4q9evUq3bt1MPy9btgwfHx9+//137OzsMBgMrFmzhsmTJ5st0LiaNm3KhAkTmDRpEn/++adp+RdffMFXX32V5HaRkZGm5AFetNSLl6Sm4JyRJOxpptGkvFu6NdWsWZM333yTjz76iLCwMGrWrInBYODIkSPMmjWLuXPnUrp0ab799lvT3+WtW7e4desW9vb2FC1alCpVqgDQuXNn/vzzT4YNG8agQYMYNmwYbdq0oWbNmkRHRzNo0CCGDh1KhQoV4sVgTFJPnjzJgwcPqFGjhukCXnYZBhMQEJDohQnjsnvG4SyJGDVqFNevX2fixImmc6WzszNr1qyhVatWyR7X3OfPqCiYNk19PHw4dOwICxaoCeGvv4JMNGI7jMn65cvqqX7nTrVsiRBCCCEsL00Je2RkZLx51rdu3UqzZs2ws1N3V7p0aWbOnGmeCJPg7+9PvXr1aNeuHTlz5mTjxo1MmjQJHx8f+vfvn+g2kydPZty4cRaNK0tIbcE5kIQ9m1i3bh3ffvstU6dO5dq1a+j1eooWLcrbb79NyZIl2blzJ/v27ePQoUPo9XqqVKlCZGQk9vb2aOIMTNZoNGg0GooXL87JkyfZsGEDgwcP5t133yU6OponT54k+necP39+nJ2dOXnyJI8fPza1KmcnERER8bq0GxnPycaeDolxdHSkePHitG/fnrZt2xIbG8vcuXN577332LZtGzWSqfhm7vPnX3+ppxpfX+jWDfR6dQz7yJHwzTfqXN4ylt36nj6FZs3UZL1gQTVZT8lsn0IIIYQwjzQl7IUKFWL79u306tWLo0ePcuXKlXhd4B88ePDKca7psXz5cvr06cOlS5fI919S2bZtWwwGA8OHD+edd94hZyJzgY8cOZLBxn6XqC1E+VPTipxdpKeF/fFjiIhQp3oTWY5er2fkyJGMHDky0fWhoaHkzJkTvV7PyZMnOXXqlGnd5cuXOX78OJUqVWLFihU0btyYe/fu4eXlRbdu3dDr9Wzbto158+YlWfxMo9GYhuPMmDHDVJAuNjaWkJAQs08rZ4ucnJzitXQbPX/+3LQ+Kf379+fgwYMcP34c7X/DXTp27EiZMmX45JNPOHToUJLbmvv8efiwet+ihZqsA/TpA+PHw6lT6jRvdeumeffCDGJioFMnOH1aLWciyboQQgiR8dI0hr1v376sXLmS8uXL8+abb5IvXz7eeust0/p9+/aZqrdbwsyZM6lYsaIpWTdq2bIl4eHhnDhxItHtHB0dcXNzi3cTiUhLC7un54sB0Xfvmj8mkSk0bdqUp0+fUrp0aSZOnBivonzZsmX53//+R6lSpdBqtXTp0oUzZ85QtWpVKlSowHfffRcvIXyV7t27c/XqVcqWLUuVKlW4dOmSJV6SzfH19SUgICDBcuMyPz+/RLeLiopi/vz5tGjRwpSsA9jb29OsWTOOHj1KVFRUksc19/nz2DH1vlKlF8u8vODdd9XHM2aka/fCDAYNUntCODnB+vWSrAshhBDWkKYW9gEDBqDX69m0aROVK1dm+PDhpladwMBA7t+/z4cffmjWQON68OBBouNVo6OjAYiJibHYsbOFtLSwazTq8y9eVLcvWtQysQmb5ujoyObNmxNdd/r06QTLmjRpQpMmTdJ0rBw5crBp06Y0bZuZVahQgZ07dxIaGhovaTa2jr887t/oyZMnxMTEEJtIRbfo6GgMBkOi6yxBUeC/WQJ5eZbAAQPUYnRr16rXDlNz3VCYzy+/wE8/qaf2X3+FqlWtHZEQQgiRPaU6YY+Ojubff/+lWbNm9O7dO8F6Ly8vjh49apbgklK8eHG2bt3KpUuXKF68uGn5b7/9hlarpXz58hY9fpaXloTd+Hxjwi6EsIj27dszffp05s6da5qHPTIykgULFlC9enVTN/Vbt24RHh5OyZIlAcidOzceHh78/vvvjB8/3jT9ZVhYGOvXr6dkyZIZNrXbnTvw6BHodFCuXPx15curU4f98w/Mng3J1BEVFnL0KHz0kfp4/Hho08a68QiR1RgMBu7du0eOHDni1XcRQmQfiqLw9OlT/Pz84vV8TEyqE3atVkvlypX5+uuvGThwYJqDTI+hQ4fy119/UbduXfr370/OnDnZsGEDf/31F7169UqyS6hIgehodR52SH3TlhSeE8LiqlevTocOHRg5ciQPHz6kaNGiLFq0iBs3bjB//nzT87p27co///yDoigA6HQ6hgwZwpdffkmNGjXo2rUrsbGxzJ8/nzt37rB06dIMew3G1vUyZRIvdzFggJqwz50Lo0fDf9cWRAZ48gTatYPISGjZEj7/3NoRCZH13Lt3T2ooCSEAuH37doJh3i9LdcKu0+koWLBgokWPMkq9evXYv38/Y8eOZebMmTx58oRChQoxceJEq8wlnKUEBKj9Ve3tIXfu1G0rCbsQGWLx4sWMGjWKJUuWEBQURPny5dmwYQP16tVLdrsvvviCQoUK8f333zNu3DgiIyMpX748q1evpl27dhkUfeLj1+Nq1Uqd6/vePfjjD3XKN5ExBgyAW7egWDFYvBhecdFfCJEGOXLksHYIQggbkZLzQZrHsP/444/07NnTalWZq1Wrli3Hr1qcseBc3ryp/6ZmvDokCbsQFqXX65k2bRrTjBOZJ2LXrl2JLu/SpQtdunSxUGQpk9T4dSM7O+jZEyZMULvFS8KeMdasgd9+U4cqLFsG7u7WjkiIrEm6wQshjFJyPkhTwh4bG4ujoyNFihShffv2+Pv7Jxj7qNFokpyaSdiwtI5fj7uNJOxCiGS8qoUdoFcvmDhRnUrs0iWIU65EWMCjR9Cvn/p4xAioUsW68QghhBBClaaE3VjoCIg3ZjIuSdgzqbRM6WYkCXuqGMcWi4yREe/34sWL07Rd165dzRyJ7QoIgPv31Q48r72W9PMKFIBmzWDjRnUs+/TpGRdjdjRokJq0lysHo0ZZOxohhBBCGKUpYb9+/bq54xC2whwt7MHBEBYGrq5mCysrsbe3ByA8PDzDqnIL9f2GF++/JXTv3j3BMmNXp5cvGMTtApWdEnZj63rJkuDikvxz+/ZVE/aFC9Vq8Xq9xcPLlnbtUrvAa7WwYAE4Olo7IiGEEEIYpSlhL1iwoLnjELYiPQm7m5t6Cw1V91OqlHljyyJ0Oh0eHh48fPgQAGdnZxnPZkGKohAeHs7Dhw/x8PBAp9NZ7FgvX8wMDg6mW7duuLu7M2DAAEqUKAHAhQsXmDFjBk+fPmXRokUWi8cWvWr8elzNm6udfe7cUedlt/LQ+ywpOho+/lh9/OGHKftchBBCCJFx0pSwG929e5fdu3fz8OFD2rVrR758+YiNjSUkJAR3d3eLfjEWFpKeLvGgJvrnzknC/go+Pj4ApqRdWJ6Hh4fpfbeUly9mjh07Fm9vb7Zu3Rrvoky5cuVo164db775Jt9++y0LFiywaFy2xJiwJzd+3UinU8eyjx2rdouXhN38ZsyA8+chVy6Z814IIYSwRWlK2BVF4bPPPuPHH38kJiYGjUZDuXLlyJcvH2FhYfj7+zN+/HgGDRpk5nCFxaWnhd24nTFhF0nSaDT4+vqSO3duoqOjrR1Olmdvb2+VC4h//PEHEydOTLQHhVarpW3btnz55ZcZHpc1nT2r3pcvn7Ln9+wJ48er87JfuKB2pRfm8eiRejEEYMoU8PS0ajhCCCGESESaEvZp06bx/fffM3z4cBo1akTjxo1N69zd3Wnbti1r1qyRhD2ziY5Wq0GBOq1bWhgTfWNLvUiWTqeTnihZmKIoXLhwIcn158+fz1bFB8PD4do19XHZsinbJl8+aNEC1q+Hn3+Gr7+2XHzZzZQp8PSp2tuhRw9rRyOEyKp0Gg15XB3xc3Ukh6Md9lotdloNsYpCjEEhIjqW+88iCXgaSURMrLXDFRag0Wjw8HYjp68nOTxdsbPXobPToSgKMdGxxETFEPggmCcBQYQ/jbB2uDYnTQn7zz//TNeuXZk0aRJPnjxJsL58+fL89ddf6Q5OZLCAAFAUsLeH3LnTtg+pFC+ESevWrZk1axb+/v58+OGHODs7A2oBvFmzZjFnzhzeffddK0eZcf79Vz3F5MqVulNM375qwr5woTrVmxSfS787d+Cnn9THkyapBeeEECI9fF0dqezrQWVfdyr5uFPY0xlfVz2eTvZoU1ir52lUDA/CIrkVEsGpB6Ecux/MsYAQLj0Jw5B9rm9nWjk8XSleqTAlKheheKXC5CvuSy4/L9xz5kBnl7IGqsiISIIehPDwzhOun73FxWNXuXj0KtfP3SYmOsbCr8A2pSlhv337NrVq1UpyvYuLC6GhoWkOSljJ3bvqfd68af/2Jgm7ECbff/89169fZ8iQIYwcORJfX18AAgICiI6Opnbt2nz33XfWDTIDGbvDp7R13ahpU/XUcvs2rFkD2egah8VMmACRkVCvHrz5prWjEUJkRnlz6Hm7eB6aFc1NzbyeeLuoU0xExxrQajTotKkvqJvDwY4cXnYU8XSmTgEvHHTq99GI6FhO3A9h67VHrL/0gOP3Q8z6WkTa5PB0pUbzStRqUYVydUqSO38uAGL/6ymR0iQ9LkcnR3z8c+Pjn5vS1YrRsu+baDQaYqJjuH72Nsd3nmHfn0c4s/dfYmMNZn09tipNCXvu3Lm5nUxCduzYMQoUKJDmoISVpLfgXNxtJWEXAnd3d/755x/WrVvHX3/9xc2bNwFo2rQpzZs35+23385WMwScO6felymTuu2MxefGjFGLz0nCnj5XrsD8+erjiRMhG/0KCiHSqYKPG62K+9CmpA+v5XHHoCgYFAW7OA099rr0d9nRaDQ46F6cnJzsddTM50m1vB6MrV+C+2HP+f3CfdZffsD2a4+Ilub3DJO3iA91WlWjbpvqlKlZAp1OS0x0LHb2L5LztCTqibFzeJGq2tnbUaxiIQqVzU+nwS15FhLOvvVH2L/+KAc2HSMi7LlZjmmL0pSwt23bltmzZ9O9e3fc3d2BF3MKb926lYULFzJs2DDzRSkyhjFhT+v4dZAx7EIkolWrVrRq1craYVhdWlvYAT74AMaNg9271a71MglF2v3vfxAbC82aQZ061o5GCGHrnO11vFMmLwOrFaJ8HjdiDAZTF3etRpPi7u7ppdFosPvvWD6uenpVLEC/Kv48CY9i1rEbzD1+i9uhMv7ZEnR2Ouq0rErbAc2p2KAshv9atrX/XZyJm6xbmp29mr66uDvzeqfavPlefZ6HR/LXwp2sm7WZa2dvZVgsGUWjpKHiUUhICPXq1eP69evUrVuXzZs307hxY8LCwjhw4AAVK1Zk9+7dpvGatio0NBR3d3dCQkJwc3OzdjjW99ln8M036v306Wnbx7Nn4OqqPg4Ohv8u6Ahhy+RckHppec8KFoRbt9Sku27d1B+zVSv4808YNAi+/Tb12wu1VIm/P0RFwb59kMzoNiFSRM6fqWd8z2xd8Zwu9KvsT88KBXB10GFQSFM394xgvIiw4dIDfjx6g23XHlk7pCwhp68nb/duTOuPmuKVx4OYmFjszNR6bm7GVv4z+y6wZsZGdq89lCnGvKfk3JmmFnZ3d3cOHjzI119/zerVq9Hr9fzzzz8UKVKEMWPGMHToUJycnNIUtLAic3SJd3FR5wYKClL3lwn+IQlhSadPn2bGjBkcP36ckJAQDIb44600Gg1Xr161UnQZJzRUTdYh9V3ijfr2VRP2RYtg8mQpPpcWP/ygJuu1a0uyLoRInL+HExMalKRL2bzEKgr2/3V319lmrg5g6pLfrGhuWpbw4XhACEO3n2fHjcdWjixzcvNy5b2R7Wg3sAVarcbUxd1Wk3V40cpfunoxytX+jPs3HzF35FL+Xr4308/Ik+ZBJk5OTnz55ZecPHmSZ8+eERERwdmzZxk9erQk65mVsehcehL2uNvLOHaRze3atYtq1aqxYcMG/Pz8uHbtGoULF8bPz4+bN2/i6upKvXr1rB1mhjh/Xr338wMvr7Tto0kTKFBAvR64erX5YssuQkNh1iz1sYxaE0K8zNvZge/eLMOlj16nU2k/tBqNKVnPLIzj58vnycHf79dk23s1qOQjjUcppXd25P3P27Hq5lw6DHoLewc7s41HzyjGeHPny8noZZ+y4NQ3VG9a0cpRpU+a/gpnzpzJo0fS1STLMUcLO8g4diH+M3r0aAoXLszFixdZsGABAJ9//jl79+5l//793Llzh44dO1o5yoxhHL+e1tZ1UIvP9e6tPp4zJ/0xZTc//wwhIVCyJLz1lrWjEULYCp1Gw4jaRbkx8A0+ruqPvU5rlsJx1mRsca9fICfHetfjt7aVyO3iYOWobNub79Vn5Y3Z9JzwDk6u+kyXqL/MOL6+YKl8TPtrFDN2f0XBkumo02VFafpr7N+/P3nz5qVx48bMnz+fwMBAc8clMprBEH9at/SQFnYhADh+/Dg9e/bEzc0NnU79xxcbq051Ur16dfr27cuoUaOsGWKGMVaIT0vBubg++EBN3PfufbFP8WqxsWp3eIAhQ2TedSGEqox3Do70qsvEhiVxttfFq/aeFRgvPLQv5cvFj16ncxk/K0dke3L6evK/DV/w5ZJPcMuZA20W+x0wXngoU6MEv5z6ls5DWmW615imaC9cuMCXX35JQEAAvXv3xtfXl+bNm7NkyRKZfz2zevgQYmLUb3E+Punbl7SwCwGAnZ0dOXLkAMDDwwN7e3sePnxoWl+4cGHOG/uKZ3HmaGEHtUt9y5bqY2llT7ktW9QaAp6e0KWLtaMRQlibTqPh8zrFONG7HmW9c2RYpXdrsdNqcXOw47e2lfm9QxVpbf9Pk/cbsPTCDKq+WQEg0yWyqWFnr8PewY5+U7sy++AUCpTIPK3tafpUihcvzujRozl79ixnzpxh2LBhXLt2jW7dupEnTx5at27N8uXLzR2rsCRjcu3jA/b26duXtLALAUDRokW5fPkyoBaXK1myJL///rtp/caNG/FJ7wWyTMJcLewAH36o3i9erE5MIV7NeHGjWzeQMjNCZG8F3J043LMuExqUyBLd31NK+1+F+7eK5+HiR6/TvGhuK0dkPS5uzkxeN5IvFg/EyVWfodOyWZtGo6FohUIsOP0tbT5qau1wUiTdf6FlypRhwoQJXLhwgRMnTjBo0CB27tzJe++9Z474REYxV8E5kBZ2If7TvHlzfvvtN2Ji1GlFBg8ezNq1aylWrBjFihXjzz//pG/fvlaO0vICA9XpxABKl07//t54AwoXVsdjr1iR/v1ldXfuwIYN6uM+fawbixDCuuoW8OJE73qUy531W9WTYqfVksPBjvWdqzGsVhFrh5Ph8hXz5edj06jRvBKQtVvVk2Jsbf/0pz4MndvPNLe7rTLbJ3T69GlWrlzJ6tWrefr0KY6OjubatcgI5io4F3cft29DJp9GQYj0GDVqFKdOnTKNX+/WrRuLFy+mbNmyvPbaa/zyyy8MHz7cylFaXmysWpW8Wzf4b4RAumi16hRvALNnp39/Wd0vv6hlSurVg1KlrB2NEMJaelcswI73a+LmaJdtWtWTotNq0Go0/K9RaX5tUxG9XfZ4P6q+WYF5x6bjUzB3pi8qZy4tPmjED7vG4+Ftu7MJaJR0TEx3/vx5VqxYwcqVK7l06RL29vY0adKETp060bJlS1xdXc0Zq9mFhobi7u6eognrs7yRI2HKFBgw4EVlorR69gyMn31wsMzFLmyenAtSz9rv2cOH6rXB6Gg4ehQqV87wEDKF2FgoVEi9fvrrrzJ+XZiftc8FmZHxPcsoOo2G75qUoX/VQiiKgiabtqwnJdagcOpBKG8tP0RAWKS1w7GYDp+8xcffdEdRFFNDglDFRMcS9DCYYc0ncvX0jQw9dkrOnWm6nDRhwgTKlStHuXLlmDx5Mv7+/vzyyy88ePCAdevW0aVLF5tP1sVLzNnC7uKiVjYCGccuhLCI3LmhXTv18c8/WzcWW7Z9u3oazpnzxfslhMg+7LQafmtbiY+q+ANIsp4InVZDudw5OPBBHQq4Z80iH70mvMOA7z5Aq9VKsp4IO3sdXnk8+GnvREpXL27tcBJIU4f98ePHU79+fQYOHEjbtm3JmTOnueMSGc2cCTuo49iDgtT9mqPKlBCZwOuvv57qbTQaDX///bcFosn6eveG5cth2TKYPv1Fxx7xwq+/qvedO4OMVBMie7HXaljToQotiuXJtuPVU8pep8XPVc+BHnWou2gf14LCrR2S2fSb2pV3hra2dhg2T2enw9HJge92jGNIk/Gc3vuvtUMySVML+927d9m+fTu9e/eWZD2rMGfRubj7kRZ2kY0YDAYURYl3u3XrFrt27eLEiROEhIQQEhLCyZMn2bVrF7dv3yYdo5KyvQYNoEgRePoUVq60djS2JzwcjJMSvPuudWMRQmQsO62GFe0q07yoJOspZa/T4u3swO6utbJMS3vfye9Jsp4KOju1GN30LaNtqqU9TQl77twJp0FQFIUdO3bw119/8fTp03QHJjKQolimhR2kUrzIVnbt2sXOnTtNtwkTJhAYGMjPP//Mo0ePOHbsGMeOHePhw4fMmTOHJ0+eMGHCBGuHnWlptdCrl/pYusUn9OefEBamVtSvUcPa0QghMooGWNyqIq1K+KDTSrKeGvY6LbldHNndtRZ5XDJ3t6SuX7Tn3RFtrR1GpmNM2r/ZNoair/lbOxwgjQn7F198QcOGDU0/K4rCm2++SePGjWnRogXlypXj6tWrZgtSWFhQEEREqI/9/MyzT2lhF4IhQ4bQo0cPevbsiZ3dixFIdnZ29O7dmx49ejB48GArRpj5de8OdnZw8CCcPWvtaGzL0qXq/bvvgjSwCZF9jK5XnM5l/KRlPY3sdVr8cuj5s1NVHDJpNf3XO9am11dSZTStjN3jp276Es/c1i+enabfwjVr1lCtWjXTz6tXr+bvv//mq6++YsOGDcTGxjJ27FhzxSgszdgKnisX6PXm2ae0sAvB6dOnKVy4cJLrCxUqxJkzZzIwoqzHxwfeflt9LK3sLzx+DFu2qI+lO7wQ2Ue7Ur6MrV9Cisulk71OS2VfD2Y3L2ftUFKteMXCfL5oIAaDwdqhZGo6Ox0e3u5MWjcSewfrztOe5jHsRYsWNf28du1aSpcuzciRI2nevDn9+vVj165d5opRWJq5u8PH3Ze0sItszM/PjxUrVhATE5NgXUxMDCtWrMDPXL1asrHevdX7X3+FqCjrxmIrVq6EmBh1ursSJawdjRAiI7yWx40lrStiMEhtFHPQaTX0qFCAQdWTvvBuazxzu/O/jV+gs9Oi1WbO3gG2xM5eR6mqRfl0Zh+rxpGmT9LOzo7ISHWeQkVR+Pvvv2natKlpfZ48eXj8+LF5IhSWZ4mE3djCfvu2OkZeiGxo2LBh7N27lxo1ajBv3jx27drFrl27+Pnnn6levTr79+9n6NCh1g4z02vcWG1pf/IE/vrL2tHYhjVr1Pt33rFuHEKIjJHL2YGNnathr9WglXHrZvV149I0Luxt7TBeyc7ejkl/jMA9lxs6O5m6zVy0Oi1v9XyDtv2bWy+GtGxUtmxZli5dSlBQEAsWLODJkye0aNHCtP7mzZvkypXLbEEKCzO2ghuTbHMwJv/PnkFIiPn2K0Qm0qdPH37++Wfu3LlDnz59aNSoEY0aNaJv377cuXOH2bNn07dvX2uHmenZ2b3o9r14sXVjsQVPnsA//6iP27SxbixCiIwxq3k58rg6YietqmanKPBr64p46u2tHUqy3v+8HaWqF8POXpJ1S+j/TXf8S5sxV0qFNP1Vjx49mpMnT5IrVy569+5N7dq14xWh27hxI1WrVjVbkMLCjAm7OVvYnZ3BOOWfdIsX2VjPnj25c+cO+/fvZ9myZSxbtoz9+/dz9+5dehv7cot069pVvV+/HgIDrRuLtW3cCLGxUL68WiFeCJG1dSjtS/tSfpKsW4hOq8HTyZ4fmpa1dihJKvqaP12/bC/d4C1Kw5dLPkFnhUKEaRpB37hxY44fP862bdvw8PCgU6dOpnVBQUHUq1ePli1bmi1IYWHGLvHmbGEHKFBAbeq5eRPKZb6iHUKYi52dHTVq1KCGzK1lMeXLw2uvwalTsGIF9Otn7Yisxzj3urSuC5H1eTs7MLt5eQyKIlXhLchOq+W9cvlYef4e6y89sHY48djZ2zFq6SAZgWphdvY6ilUoROehrfl1ytoMPXaaLxGULl2aTz75hG7duqGPU1nc09OTb7/9Nl6Lu6UcP36cli1b4uXlhbOzM2XLluWHH36w+HGzHEt0iQcoWFC9v3XLvPsVwkbt3r2b3bt3J/j5VbfUioyMZPjw4fj5+eHk5ET16tXZtm1birdfsWIFNWvWxMXFBQ8PD2rVqsWOHTtSHYet6dZNvc/O3eLDw19Uh5eEXYisb2bzcrg52kmyngFiDQrz33rN5rrGv/95OwqWzidd4TOARquh5/jOGd41Pt016sPCwggKCkJJ5LJOgQIF0rv7JG3dupW3336bihUrMmrUKFxdXbl69Sp3ZBqx1FEUyyXsxs9fEnaRTTRo0ACNRkNERAQODg6mn5OiKAoajYbY2NhUHad79+6sXr2aQYMGUaxYMRYuXEjz5s3ZuXMnderUSXbbsWPHMn78eNq3b0/37t2Jjo7m7Nmz3L17N1Ux2KIuXWDoUHVO9suXoVgxa0eU8bZuhYgI8PdXex0IIbKuFsVy076UzDSSUYxd4ye/XooPN522djgA5CvmK13hM5yG4fM+ol+tkRl2xDQl7M+fP2fcuHHMnz+fJ0+eJPm81H4JTanQ0FC6du1KixYtWL16tfySpkdgoPrtDiBvXvPu25iw37xp3v0KYaN27twJgIODQ7yfzenw4cMsX76cadOmMWTIEAC6du1K2bJlGTZsGPv3709y24MHDzJ+/Hi+/vprPv30U7PHZm158kCjRmrSumoVfP65tSPKeHG7w0uDmxBZl1YD094oTYzBIGPXM5CdVkuvigX45tBVLj15Zu1w6DPx3UQbTYXl2NnrKFOzBLXeqsL+DUcz5php2eijjz5i0aJFtG7dmrp16+Lp6WnuuJK1bNkyHjx4wMSJE9FqtTx79gwnJydJ3NPC2CPB2xviDG0wC+kSL7KZ+vXrJ/uzOaxevRqdTkefPi/mBNXr9fTs2ZPPP/+c27dvkz+J3jLfffcdPj4+fPLJJyiKwrNnz3B1dTV7jNbUsaOasK9cmf0S9thY2LBBfdy6tVVDEUJYWJey+SiVK4e1w8iWDIrCxIYl6bD6mFXjKFG5CA061LJqDNlVbEwsH07tysFNxzEYDBY/Xpoy3LVr19KrVy/WrFnDoEGD6NatW6I3S9m+fTtubm7cvXuXEiVK4OrqipubG/369eP58+cWO26WZKnu8CAt7CLbmzlzJo8ePTLrPk+cOEHx4sVxc3OLt7xatWoAnDx5Mslt//77b6pWrcoPP/yAt7c3OXLkwNfXlx9//NGsMVpT69bqNG+nTsHFi9aOJmMdPap2mnJ3h1ryHU6ILMtBp2Xy6yUxSMuqVdjrtLQv5UcVX3erxtFvaldiomOsGkN2pbPT4V8qH43frZchx0tTC7tGo6FSpUrmjiXFLl++TExMDK1ataJnz55MnjyZXbt2MWPGDIKDg/ntt98S3S4yMpLIyEjTz6GhoRkVsu3KiIT93j2IjgZ72yrSIYSl9e/fn0GDBlG/fn06d+5MmzZt8PLyStc+AwIC8PX1TbDcuOzevXuJbhcUFMTjx4/Zt28fO3bsYMyYMRQoUIAFCxYwYMAA7O3tk50TPrOcP3PmhDfegM2b1Vb2UaOsHVHGMRabe+MN9aKFSJzBYCAqKsraYWQa9vb26HRSzMqW9K1UEL8ceik0Z0XRsQamvVGahksOWOX4lRuVp9LrMgOTNRkMBnpPepcdK/YSHWXZCydp+pfeqlUrtm/fnuyXO0sKCwsjPDycDz/80FQVvm3btkRFRTFnzhzGjx9PsUSqDU2ePJlx48ZldLi2zZIJe+7c4OgIkZFw965aBUmIbOTChQssX76clStX0rt3bz766CMaNWrEO++8Q6tWrRK0kqdEREQEjo6OCZYbZ+uIMNakeElYWBgAT548Yfny5abpONu3b0+5cuX46quvkj2nZ6bzZ8eO2Tthb9LEunHYsqioKK5fv54hXRizEg8PD3x8fJItoikyhk6jYUTtosgnYV32Oi0N/HNR2dedYwEhGX7890a2JTYmFp2dXEyzFq1WS+58OWnYsTZbl/5j0WOlKWEfNWoUHTt2pE+fPvTt25cCBQokevU1vS1JSXFycgLgnXfeibe8S5cuzJkzhwMHDiSasI8cOZLBgwebfg4NDU1yrGe2YRzDni+f+fet1aoXAq5cUbvFS8IuspnixYszevRoRo8ezblz51i+fDmrVq2iW7duODo60qRJEzp37kznzp1TvE8nJ6d4Ld1GxuFAxvNjYtuB2lrWvn1703KtVkunTp0YM2YMt27dSnJ2j8x0/mzdGvr2hbNn4fx5KF3a2hFZXnAwHDqkPn7zTauGYrMURSEgIACdTkf+/Pml7k0KKIpCeHg4Dx8+BEi0d4/IWC2K5cYvh5lrDok0iY410K+yP702nMrQ4+Yv7kflRjINiC2IjYml3YDmtpmwG5PhEydOMH/+/CSfZ6kq8X5+fpw7d448efLEW547d25A7fqZGEdHx0RbprI1S7awg1p47soVKTwnsr0yZcowYcIEJkyYwKlTp1i+fDkzZ85kw4YNqUrYfX19E52CLSAgAFDPj4nx8vJCr9fj4eGR4AJr3HNnUgl7Zjp/enqqSevGjbBmTfZI2HfsUIvOlSjxot6niC8mJobw8HD8/Pxwdna2djiZhvFi38OHD8mdO7d0j7ey/lULSWV4G2Gv0/JeuXwM2X6e4OfRGXbcVh82ISY6VuZdtwE6Ox2lqhWjeMXCXDpxzWLHSVPCPnr0aKt2i6pcuTLbtm0zFZ0zMo7d9Pb2tlZomY+lE3aZi12IeE6fPs3KlStZvXo1T58+TbJFPCkVKlRg586dhIaGxutSf+i/5tUKFSokup1Wq6VChQocOXKEqKgo09RzkDXPna1aqQn7pk3Zo1u8dId/NWMjQtzffZEyxgsc0dHRkrBbUTEvFxoXzjrn6azAXqeh+2v5+e6Q5ZK1uPTOjrzV6w1J1m1ITHQMrfo1YVqfWRY7RpoS9rFjx5o5jNTp2LEjU6ZMYf78+bz++uum5fPmzcPOzo4GDRpYL7jMRFFedIm3dMIuleJFNnb+/HlWrFjBypUruXTpEvb29jRp0oRx48bRsmXLVO2rffv2TJ8+nblz55rmYY+MjGTBggVUr17d1E391q1bhIeHU7JkSdO2nTp14uDBgyxatIjevXsDalf6X3/9ldKlSyfZOp8ZNWum3h86BI8fQ65c1o3HkhRFEvbUkHHYqSfvmW34sHJBaV23QQOq+mdYwt6ocx2cXGVIhC2xs7ejyfsNmDV0EWEh4ZY5hkX2amEVK1bkgw8+4JdffiEmJob69euza9cuVq1axciRI7PUl06LevxYLQin0YCl3jOZi11kYxMmTGDlypWcP38enU5Ho0aNGDFiBK1bt8bdPW3TwVSvXp0OHTowcuRIHj58SNGiRVm0aBE3btyIN0Spa9eu/PPPPyhxpv3p27cv8+bN4+OPP+bSpUsUKFCAJUuWcPPmTdavX5/u12tL8uWD8uXh9Gl1XvYuXawdkeVcuqReE3VwgPr1rR2NEMJS3i2bT5J1G6PVaCjs6UJFH3dO3Ld88blG79TFYFDQ6eQimi1x0NtT860qbPt1t0X2n66Efd++fRw/fpyQkJAEFVc1Gg2jLNgPcfbs2aYpiX7//XcKFizIt99+y6BBgyx2zCzH2B0+Tx71m54lSJd4kY2NHz+e+vXrM3DgQNq2bUvOnDnNst/FixczatQolixZQlBQEOXLl2fDhg3Uq5f8fKBOTk7s2LGDYcOG8csvv/Ds2TMqVKjAxo0baZIFm2abNVMT9k2bsnbCvmOHel+7Nri4WDcWIYRlVPJxJ49r5qgjkt3EGAy0LJ7H4gm7i5szFeqXQaeTiza2JiY6ljqtqtlWwh4YGEiLFi04fPgwiqKg0WhMrTjGx5ZO2O3t7RkzZgxjxoyx2DGyPEuPX4f4XeIVRW3NFyKbuHv3rqmgmznp9XqmTZvGtGnTknzOrl27El2eO3duFi5caPaYbFHz5vC//6lTvMXGQlYdemv8qBs2tGoYwkK6d+/OokWLALCzsyNfvnx06NCB8ePHo9fruXHjBoUKFeLEiRNJ1rBITFq3E9bRskQe6Q5vo7QaDW1L+jJu9yWLHqdakwoydt1G2dnrqNG8EvYOdhaZkz1Nf/VDhw7l9OnTLFu2jGvXrqEoClu2bOHSpUt8+OGHVKhQwVTESNiwjEjYjfsOD4fAQMsdRwgbZIlkXaRczZrg7g5PnsDRo9aOxjIUBf75bzYZ6Q6fdTVt2pSAgACuXbvGt99+y5w5c6TBIptpU8IXrTR62CStRkP5PG7ktfB0e7XerkJMtPmTQWEeTi56KtQvY5F9pylh37RpE3379qVTp07kyJFD3ZFWS9GiRfnpp5/w9/eXrumZgSXnYDfS69Uu9yDd4kWW17BhQxo1akRMjPoP9fXXX3/lrVGjRlaOOuuyt38xJ/mmTdaNxVIuXYIHD8DREapVs3Y0wlIcHR3x8fEhf/78tG7dmjfeeINt27YBUKhQIUCt76PRaEyFdw0GA+PHjydfvnw4OjpSoUIFNm/ebNpnUtsJ25PPTU/5PG6SsNswg6LQsnieVz8xjXQ6LXVaVsPOPlOWH8sWYqJjqNPKMv+I05SwBwcHU6aMegXB1dUVgLCwMNP6N998ky3GkrXCdmVECzu8KDwnleJFFqcoSrx6HgaDAUVRkr29XP9DmJexWvxff1k3DksxdoevWVO9PipSQVHg2TPr3OIUg0yts2fPsn//ftP0dIcPHwZg+/btBAQEsHbtWgC+//57vv76a6ZPn87p06dp0qQJLVu25PLly8luJ2xPvQLmqX8iLMegKNQraLnPqVDZAri4O1ts/yL97OztqNSonGX2nZaN/Pz8uH//PqBe9c2dOzenTp2iVatWgDpuU6YAyQSMCbRxnLmlFCgAhw9Lwi6yvJfHjSc1jlxknMaN1ftjx+DpU/ivU1iWId3h0yE8HP5rdMhwYWGpqhC4YcMGXF1diYmJITIyEq1Wy48//giAt7c6L3fOnDnx8fExbTN9+nSGDx9O586dAfjf//7Hzp07+e677/jpp5+S3E7Ynsq+7kTFGnCQYmM2y06rpUZeT4vtv0TlIqYaYcJ25S/mh6OTA5ERUWbdb5oS9nr16rFt2za++OILQJ3bd+rUqeh0OgwGA999912WrDic5Vy/rt7/1y3OYvz91fsbNyx7HCGEeEm+fOop6MYNOHDgRRf5rEBRXrSwS8KetTVs2JBZs2bx7Nkzvv32W+zs7GjXrl2Szw8NDeXevXvUrl073vLatWtz6tQpS4crzKyanwf2WknUbJ2/hzPujnaERJp/nHnxykWIiY7F3kG6xNsyrU5L0df8OXfQvAUI0/SpDx48mG3bthEZGYmjoyNjx47l3Llzpqrw9erVY8aMGWYNVJhZZCQYCwMaE2pLKVxYvb92zbLHEcLG3Lp1i1u3blGnTh3TslOnTvH1118TGRnJO++8Q+vWra0XYDZRp46asO/dm7US9itXICBAnZWzRg1rR5MJOTurLd3WOnYquLi4ULRoUQB++eUXXnvtNebPn0/Pnj0tEZ2wIRqgkq+HtKxmEpV83dl544nZ91umRnFJ1jMBQ6yBElWK2kbCXq5cOcqVe9FH39PTk+3btxMcHIxOpzMVohM2zNg93cUFcuWy7LGMLfjGFn0hsomBAwcSFhbG9u3bAXjw4AENGzYkKiqKHDlysHr1alatWkXbtm2tHGnWVrcuLF0Ke/ZYOxLzMnaHr14dnJysG0umpNFkyonrtVotn3/+OYMHD6ZLly6mseyxsbGm57i5ueHn58e+ffuoH6f7xb59+6j2X3XCxLYTtqd4TlecZSqvTCHGoFDZ18PsCbvOTkehshYevirMwmAwUKJyYbPvN9WDYcLDw6lcuTKzZ89OsM7Dw0OS9cwibnd4S1+1jdvCno5CO0JkNocPH6axcRA1sHjxYiIiIjh16hR3796lUaNGTJ8+3YoRZg9166r3hw5BlHmHlVmVjF/Pvjp06IBOp+Onn34id+7cODk5sXnzZh48eEBISAigTsH7v//9jxUrVnDx4kVGjBjByZMn+eSTTwCS3E7YltLeVqqzIFJNURRK5zL/5+VXOI+0rmcSdvZ2FCnvb/b9pjphd3Z25vr169I1J7PLqPHroFaJ12jUyriPHln+eELYiMDAwHhzsW/YsIH69etTpEgRtFotbdu25cKFC1aMMHsoWRJy5oSICDh+3NrRmM++feq98YKEyD7s7Ozo378/U6dOJTIykh9++IE5c+bg5+dnKgA8cOBABg8ezGeffUa5cuXYvHkzf/75J8WKFTPtI7HthG3xc9VjkMaOTMFep7XIXOy5/LzMvk+RUEf/vqz8bn2695Mrr/k/rzRdrmnatClbtmyhb9++5o5HZBRjAThLj18HdYLgvHnVed+vX4c4CYwQWZm3tzc3/xt+EhwczMGDB5kyZYppfUxMjGnOdmE5Go06jn3dOnUce1YY7x0QoJ5ONZqs8XpE0hYuXJjo8hEjRjBixAgAevXqRa9eveKt12q1jBkzhjFjxiS578S2E7bFN4eeGIOCgy5tDWXd150g+Hk0f3SyzPzQcWkmJJ/sjKlXnLH1S1g8DmvK727+8Uk5fc1TfX5S9xmEBT9j0h8jzLK/lBxv86KdCZYvu/wT+Yr6Wuy49TRtmfj7cOq2rm6xYyTHPZcbGo0GxYwX2tKUsI8aNYoOHTrw/vvv07dvXwoVKoRTIgPovLzkipDNysgWdlC7xd+5o3aLr26dPyAhMtobb7zBDz/8gJubG7t27cJgMMQrMnf+/Hny589vvQCzkbp11YR9zx4YMsTa0aTfgQPqfbly4OZm3ViEEJbj5+pIZunTGvDpiyFgK87dY/Q/F7n4UUPTMtc43boVRSFWUbDTZuxUdZY+rq+rZVrYY2Ni0dllvloG1ZtWZMSC/vGWeXgn/KcVHRWNvYN9RoVlUTqdFg9vN4Iemm+YUZoS9jJlygDql81ly5Yl+TwpZGLDrJGw794tleJFtjJlyhQuXbrEkCFDcHBwYPr06RT6728uMjKSlStX0qVLFytHmT0YC/Xv3QsGA2Twd0SzM3aHr1XLunEIISzLL4ceOwtN6bbw1G0GbTlL8LBmpmV/XAigzaqjKKPeBsD/h+3cDIlIsK1xfVw+cZJVd709mjjLdt14TMMlB9j0TjW+3HmRMw9D2fpuDfK7OTF42zkO3g3iWVQspXK5Mvn1UrxR2Nu0r5lHb/DtoWvcDonAXW9H3fw5Wd2hCgAGReF/+64w98RN7odFUtzLlVF1i9G+tF+6j5sWHnp77LUaog3ma13N6euJwaBgyXT9r4U7mDHoFzYFLzUt2/PHIb5o8z92K2sBtcv4/ZsJh7Ya1yfG3tGenD4JewgMbDCKQmULoLPTsm3pbgqXK8j3O8dz8p9zzBy6iKunbpDDy5Wm3RrS66su2P13sWJgg1EUKV8QB70DG+Ztx97BjpYfvskHYzubYgT4os3/APAp6M3KG3O4e/U+Pw5ewPmDl3j+LJKCpfLSZ/J7VHnjtTS+Y8nL6etp/YR99OjRMoY9s8vohF0qxYtsKE+ePOzbt4+QkBCcnJxMVZlBrST6999/Swt7BqlUSZ1JKzAQLlyA0qWtHVH67N+v3r80zbYQIovJm0Nv1e/cR3rWJfa/rr2xBoX2q49hn8bu+QAj/r7A9MalKezhjKeTPbdDImheNDcTG5bEUadl8ek7vL3iMBc/akgBd2eO3gtm4OazLGldkVr5PAmMiGbP7RdV2CfvvczSM3eZ3bw8xbxc2H0rkPf+OIG3iwP1C+ZK83HTI7eLI3efPk/XPuLyzOOO1kIXbVJj7pGpxMYaAHX6stHtp6GzT3sxvM2LdtK6X1N+2jcJgEd3nzCs+Vc07d6QLxYP5NaFu0ztPQsHvb0pIVe320XHwW8z+9AUzh24yOTuP1KudkmqNq7A3CNTaZm7ByMX9Kda04rodOrV+YiwCGo0r0TviV2wd7Rny+JdjHh7Mr9enEGeAum7SJMYzzweZt1fmt7lsWPHmjUIkcHCwuDxY/VxRoxhB5mLXWRr7u7uCZY5OTnx2muWubIrErK3h8qV1S7xR49m7oT9+XM4dkx9LC3sQmRteit3g/Z2cTQ9/mTLWQLCnnOkZ9orXY5vUILGcVqxvZwceM3nxf/ICQ1L8vvF+/x56QH9qxbiVkgELg463iqWhxyOdhT0gIq+6vMjY2KZtO8K29+rQc186jDcwp4u7L0VyJxjt+Il7Kk9bno42pm3C5e9oz0aG0jYPbxfvF/ffzKfJwFBzD0yNdltDmw4ShPXFz0JqzeryPhVQwHIV8yXflO7mtb9/MWv5M6fi09/7I1Go6FgyXw8vhfI7OFL6D66I9r/usYVKV+QHmM6AZC/mB9rf/yLY3+foWrjCqYYXT1c4rXsF32tEEVfe/G59prQhT2/H2Lvn0do1795Wt+SJDk4mrd7f5oS9g8++IC+fftSPYmxyIcPH2b27Nn88ssv6QpOWIix4JynJySSSFiEJOwiG1i8eDEA77//PhqNxvTzq3Tt2vXVTxLpVqmSmrCfOAGZ+S0/dgyioyFPnozrJCWEsA5LdYdPrbnHbzL/xC3296gTL4lPrSq+8b93hkXFMPafi2y8/JCAsOfEGBQiYmK59V83/MaFvSno7kThH/+maRFvmhbJTZuSPjjb23ElMJzw6FgaLz0Yb59RsQYq+sQ/TmqPmx72Zh5zZWevs6mezX/O3cqm+X8zc/+keEl8Yio2LMvgWS+KlOvj/O6UqFwk3nNv/HuHMjWLx3ut5WqXJCLsOY/uPDG1hBcuXzDedjl9PQl+Rffz8LAIFoxdwYGNxwgMCCI2xkBkRBQPbz1O/sWmkc7MF23SlLAvXLiQN954I8mE/fr16yxatEgSdluV0d3h4x7r9m31m6Z91igsIURc3bt3R6PR0LlzZxwcHOjevfsrt9FoNJKwZ5CKFdX7zD61m3H8eu3aapV4IUTWZck/cS3w8kjrxMZe77zxmAGbz/Jbm0qUz5O+KpcuL80nPmTbebZdf8T0N0pT1NMFJ3sd7VcfJeq/rtc5HO043rseu248Yeu1R4z+5yJjd1/iSM+6hEWrs6xsfKcaeXPEL37tqIufMKX2uOlh7mssGZGsa7QaXi5qHhOdsBbZ8Z1n+H7APEb/NjhF843rXfRJVoTXp/HCj519/F4nGo0GwytqBswcsoij207x0fRu5C3qi6OTA6PbTyM6KjpNMbyKxtwXbcy6t//cu3cv0arxwkZYI2H38QG9Xu3LeesWFCny6m2EyGSu//e3ZRyrfl1qNtiUSpXU+5MnM3fhOeP4dekOL0TWF2PG4mUv83Zx4GlkDM+iYkwJ7cn78VsqrwQ+o/3qo3xeuyhtS5l/Kq59twPpXj4/bUqq+w6LiuFGcDgUzGl6jp1WyxuFvXmjsDdj6hXHY9pmdlx/TOPC3jjqtNwKiYjX/d1cx00rcxacA4iNiUVRFIsm7h7e7oQ/jSDi2XOcXNRCgVdOxv8Oc+dKAKPbT+O9z9tRv6355xP1L5WPf9YcjPdaz+y7gHMOJ7zzpfxzsbO3M421Nzqz7wLNujekXhs17vCwCO7feAiUMVv8ccVGm3fK3hQn7OvWrWPdunWmn+fOncv27dsTPC84OJjt27dTtWpV80QozC8j52A30mjUbvHnz6vd4iVhF1lQwYIFk/1ZWFfJkuDoCKGh6mmoaFFrR5R6iiIF54TITsyR/IVExiRIxHM6OVA9ryfO9jo+33mBgVULcehuEAtP3zE9JyI6lreXH6aijzt9KhXkftiLQmo+Zpq+rJiXC2svBPB28TxogFG7LhL3JW+49IBrwc+oVyAnnnp7Nl15iEFRKJHTlRyOdgypWYRPt57DoECd/F6EREaz73YQbo52dHst6aKurzpuesQY0t9KH1dsjCFB63daPQsJ5/JLibhbzhyUrl4MvbMjcz//lfYDW3D+0CX+WvhiDvXIiEhGvD2JYhUL83afxjy5H2Ral1gV+LRo/VFTVn23ge8GzKNt/2bcuniPX8asoOPgt03j11PCx9+b43+fplztkjg42pPD05V8xXzZvfYQtd6uikYD80b99spW+fR4+YJBeqU4YT9//jyrVq0C1K4Hhw4d4pix6s1/NBoNLi4u1KtXj2+++casgQozskYLu/F4xoRdCCEymL09lC8PR46o49gzY8J+4wY8eqS+FmMXfyFE1hUYEZXufey6+YSKP++Ot6xnhQLMe/s1lrauyNC//+Xn4zdpVMibsfWK02fjaQAePIvkwpMwLjwJw++7bfG2T2xat7T45s0yfLD+JLUW7CWXswPDaxUlNOpF66SH3o61F+4z9p9LPI+JpZiXK7+1qUyZ3DkAmNCgBN7ODkzed5lrQeF46O2p5OvO57WLpeu46REUYd5u1k+DwlBiDaBLf7ewE7vO0rPiZ/GWtejZiOHzPubLpZ8wc+hiNvy8jcqNytNjbCem9ZkFQOCDEG5duMutC3dp69cr3vbJTeuWGt55czJ105fMHLqID17bRg4vV1r0bETXLzukaj8ff92dHwcvZP3P2/HO68XKG3Po/00PpnzwIx/VGol7Lje6DG9DeGj66xUk5WnQM7PuT6Moqb9mo9VqWbp0aaafPzg0NBR3d3dCQkJwc0vfmJxMpUIFOHUKNm6E5uavjJikgQNhxgwYPhymTMm44wrxCpY8F+zdu5dffvmFa9euERQUxMunXI1Gw6lTp8x6zIyQWc+fffvC3LkwYgRMnmztaFJv1Sro2BGqVFEvPIiUe/78OdevX6dQoULo9eZpHcwuknvvMuu5wJqM71lKrGhXmXYlfdHZSPE5kbzIGAP6yRvNus/uozvS9Yv22DlYZCSzsIBOhfsRcP1Bip6bknNnmj55g5m7eogMpCjWa2GXSvEim/nmm28YOnQoer2eEiVK4OXlZe2Qsj3jOPYTJ6wbR1odPareV6li3ThExnjVmNUxY8bQoEEDGjZsSFBQEB4eHine965du9K0nchY954+J9agSMKeSTx4Fmn2fT6+F4jO3rrT+4nUeRIQ9OonpYJcqslugoLUAZwAGT2+1niB4OrVjD2uEFYybdo0ateuzfr161PcmiIsK26leEXJfFXWja3qkrBnDwEBAabHK1asYPTo0Vy8eNG0zNXVlaPGqzgiSwoIe55pC2RmR/eePn/1k1LpSUCQTU3rJpIX/jSCqOfpH8oSl5wCspvLl9X7vHnB2Tljj20cMHr5MmarniGEDQsPD+fdd9+VZN2GlCsHOp06DvzePWtHkzoGgzoHO0jCnl34+PiYbu7u7mg0mnjLHj9+TMOGDQHw9PREo9GYppOMjIxk4MCB5M6dG71eT506dTjy3xWfGzduJLmdsC0BYZHYScaeKcQaFG5bYFy0uVtrhWUF3g82+z6lhT27uXRJvS9ePOOPXbSoOo/S06dw/z74mn96ECFsScOGDTlz5oy1wxBxODlBqVJw9qzayp43r7UjSrkrV9QOUno9lLHMTDTZiqJAeLh1ju3sbJ7eHfnz52fNmjW0a9eOixcv4ubmZppWd9iwYaxZs4ZFixZRsGBBpk6dSpMmTbhy5Uqy2wnbciPYSr+kItViFcUin5c6/ZjIDAyxBu5eCXj1E1NJLtllN8audNZI2B0dX3SLj9OlT4isasaMGfz9999Mnz6dwMBAa4cj/mMcx378uHXjSC1jz+eKFcFOLrenW3g4uLpa52auCwU6nc5UGyN37tymlvhnz54xa9Yspk2bRrNmzShdujQ///wzTk5OzJ8/P8nthO05eT8Ug/RKzBQcdFqOvTR9njmEBobx6O4Ts+9XmJ/BYODCUfMP/ZWEPbsxtrCXKGGd45csqd5fuGCd4wuRgfLnz0/fvn0ZMWIE3t7euLi44ObmFu8mX5IznnEc+8mTVg0j1aTgnEipq1evEh0dTe3atU3L7O3tqVatGv/++68VIxOp9TQqhuvSyp5pHAswf8IOcP7gZWJjYi2yb2E+dvZ2XDxm/oRdrtFnN9bsEg/qhYKNG6WFXWQLo0ePZuLEieTNm5cqVapIcm4jKlRQ7yVhz96cnSEszHrHFiKlDt4JooCbE/ZmmIdbWE5YVAxXA807/7bRxWNXqdOqqkX2Lczrki0l7Pfv32f+/PkcP36ckJCQBFO9aTQa/v7773QHKMzIYHhRdM6aCTtIC7vIFmbPnk2LFi34448/0ErRIJvx2mvq/Y0bEBwMmWFGq9jYF134JWE3D40GXFysHUX6OTg4ABAb+6L1rUiRIjg4OLBv3z4K/jcjTHR0NEeOHGHQoEFJbids07GAEDqXyUQFN7IhRVE4FhCCpQYvXDx2FZ2dTO1m60IDw3h4x/zDF9L0DfL06dOULl2ar776iqtXr7Jz504ePXrE5cuX2bVrF7dv30aR8Ta25+5ddeCcnR34+1snBmOXeGlhF9lAVFQULVq0kGTdxnh6vjgFnjpl1VBS7MIFePZMTTCtNaJJ2KaCBQui0WjYsGEDjx49IiwsDBcXF/r168fQoUPZvHkz58+fp3fv3oSHh9OzZ88ktxO26dDdIJmH3cbFGBQO3rVcNfeLR6+gGCS3smWxMbGcO2CZ/CZN3yJHjBiBq6srFy9eZPv27SiKwvfff8/t27dZsWIFQUFBTJkyxdyxivQydocvUgTs7a0Tg/Gb5o0b8Nz8c1UKYUveeust9uzZY+0wRCKM3eJPnLBqGClm7A5fqZI6LZ0QRnnz5mXcuHGMGDGCPHny0L9/fwCmTJlCu3bteP/996lUqRJXrlxhy5YteHp6JrudsD2H7gYTEhlt7TBEMux1WjZefmCx/YcGhvHv0SsJejQL26HVatm/4ahl9p2Wjfbt20ffvn0pUKCAqeXI+AvUoUMH3n33XYYOHWq+KIV5WHv8OkDu3ODurs6nY+yeL0QWNWbMGM6fP89HH33EsWPHePToEYGBgQluIuNltnHsxoS9cmXrxiGsp3v37gQHBye6btSoUQQEBGAwGFi4cCEAer2eH374gUePHvH8+XP27t1L1apVX7mdsD2xisKfFx8QHSvJmq0KeR7N/tuWnS99z9qD0spuwzRaDfvX21DCbjAYyJMnDwAeHh7odLp4XzrLlSvHsWPHzBOhMB9bSNg1GukWL7KNEiVKcPLkSWbPnk21atXw8fHB29s7wU1kvMyasFeVmkNCZEvrL9+XonM2KjrWwJ+XHhBr4eHA+9YflXHsNspgMHDl1A2LTb+XpqJzhQoV4vr164Da/F+oUCG2b99Ox44dAdi/fz8eGVzFZ+LEiXz55ZeUKVOGs2fPZuixMw1bSNhB7RZ/6JAk7CLLGz16NBqN+ccdRkZGMnr0aJYsWUJQUBDly5fnq6++onHjxqnaT+PGjdm+fTsff/wxP/74o9njtGXGhP38eYiKgv/qb9mk6OgXFxak4JwQ2dOWq4+IjjVI0m6D7HVa/rx03+LHuXH+NvdvPsKnoFzotzWKQWH32oMW23+aEvY333yTVatWMXHiRAD69evHZ599xrVr11AUhV27dvHZZ5+ZNdDk3Llzh0mTJuGSFcq9WpIxQbZ2wi5zsYtsYuzYsRbZb/fu3Vm9ejWDBg2iWLFiLFy4kObNm7Nz507q1KmTon2sXbuWAwcOWCS+zKBAAbX4XFCQmrQbE3hbdP68WvLDzQ2KFrV2NEIIawiNjGHnzce87p8LOylkalOiYg1sufooQ471z+oDtBvYAjt7aWm3JTo7HXvXHbbY/tP0F//FF1/w22+/ER2tFsAYNGgQ48eP58mTJ4SEhDBq1Ci++uorswaanCFDhlCjRg2qSNND0qKi4L9eEVYvMWw8vrSwi2wqKiqKZ8/SNlfr4cOHWb58OZMnT2batGn06dOHHTt2ULBgQYYNG5aifTx//pzPPvuM4cOHpymGrECjyTzd4o0jzCpXBvmeLkT2NefYLUnWbUx0rIFlZ+/yNComQ463Yd42SdZtTGxsLBePXeXKqRsWO0aa/uo9PT2pXLky9v9VGtdoNHz55ZecOHGCo0ePMnbsWNP8npa2e/duVq9ezXfffZchx8u0rl1T52F3dQUfH+vGEjdhl+n/RBa2fPlyPv3003jLxo0bh6urKx4eHrRp0ybVUymtXr0anU5Hnz59TMv0ej09e/bkwIED3L59+5X7mDp1KgaDgSFDhqTq2FlNZqkUbxy/LtekzUOmnU09ec9sw5+X7vMgLNLaYYg47HVaZh69kWHHu3nhLif/OUdsTGyGHVMkT6vVsmbGJssew6J7t7DY2FgGDBhAr169KFeunLXDsW1xx69bYExtqhQtqjYThYbCfcuP+RHCWr7++ut4Len79+9n3LhxNGnShE8//ZTNmzebhhal1IkTJyhevDhubm7xllerVg2Ak69oLr516xZTpkzhf//7H05OTqk6dlaTWVrYJWE3D91/8+FFRUVZOZLMJzw8HMDUUCOsI8agMPPYDWKkUrhNiDUonLwfwpF7wRl63DUzNknxORsSHhrBjhX7LHqMFI1h/+CDD9BoNMydOxedTscHH3zwym00Gg3z589Pd4DJmT17Njdv3mT79u0pen5kZCSRkS+uTIaGhloqNNtjHC9u7fHrAI6OULgwXLmiDs709bV2REJYxNWrV+nWrZvp52XLluHj48Pvv/+OnZ0dBoOBNWvWMHny5BTvMyAgAN9E/maMy+7du5fs9p999hkVK1akc+fOKT4mZM3zZ9wW9ufPQa+3ajiJioqCU6fUx5Kwp4+dnR3Ozs48evQIe3t707S0ImmKohAeHs7Dhw9NswIJ6/r5+E1G1S0GWLnxRaDVwA+Hr2f4cfeuO0zQwxA8c7tn+LFFfDExsaz/eRtRzy17IThFCfuOHTvQarUYDAZ0Oh07dux4ZeVjS1RGjuvJkyeMHj2aUaNGpXhapMmTJzNu3DiLxmWzzpxR78uWtW4cRuXLqwn76dPQqJG1oxHCIiIjI9HHyQK3bt1Ks2bNsLNTT72lS5dm5syZqdpnREQEjo6OCZYbjxMREZHktjt37mTNmjUcOnQoVceErHn+LFMG8ueH27dhzRp4911rR5TQ2bNq0u7pCYUKWTuazE2j0eDr68v169e5efOmtcPJVDw8PPCx9nA6AUBAWCSr/w2gXUlfqRhvRYqiEBwZw/JzyV8kt4TYmFjWzNjEB2M7oZXfAavSajT8MWuzxY+TooT9xo0byf5sDV9++SVeXl4MGDAgxduMHDmSwYMHm34ODQ0lf/78lgjP9pw+rd6XL2/dOIzKl4e1a180HQmRBRmnvOzVqxdHjx7lypUr8brAP3jwAFdX11Tt08nJKV5Lt9Hz589N6xMTExPDwIEDef/996mahsm8s+L5U6eD3r1h9GiYPds2E/a43eGtPZopK3BwcKBYsWLSLT4V7O3tpWXdxoz55yIdSvlZO4xsTQHG/XORCCuNJV/9/QY6ffo2rp4uFm8kFYmLiY5l04K/uXftgcWPlaZp3azt8uXLzJ07l++++y5e98/nz58THR3NjRs3cHNzw8vLK952jo6OibZMZXlRUfDvv+pjW0nYX3tNvTdeSBAiC+rbty+ffPIJ58+f586dO+TLl4+33nrLtH7fvn2UKVMmVfv09fXl7t27CZYHBAQA4OeX+Je4xYsXc/HiRebMmZPgouvTp0+5ceMGuXPnxtnZOdHts+r5s2dPGDcO9u5VOyKVK6dO9bZrF+zYAblzw5dfWi9ZlvHr5qfVauP1fBEis7n05BnzT97igwr5pWq8FRgUhYCnz5l9zHo9dcKfRrBw/Er6f9NDRkdYiWIwsGj8qgw5Vpr+yo8fP55sN86ZM2e+svBRety9exeDwcDAgQMpVKiQ6Xbo0CEuXbpEoUKFGD9+vMWOn+lcvAjR0eokvgUKWDsalfHCwblzamxCZEEDBgxgzpw5FClShFatWrF161ZTC3hgYCD379/n3VQ261aoUIFLly4lGENu7OZeIYkJxW/dukV0dDS1a9eOd94ENZkvVKgQW7duTeUrzPz8/KBVK/XxTz/BV1+pE2m0bQs//qi2vs+bZ734jAl75crWi0EIYXvG7b5ErMHaUWRPWo2Gz3deINLKH8AfszbzOCAQg0F+ETJabEwsq77fwKO7TzLkeBolDXN1NGvWDCcnJ9auXZvo+vbt2/P8+XM2bNiQ7gAT8/jxY/bu3Ztg+ZdffsnTp0/5/vvvKVKkyCsrx4eGhuLu7k5ISEiCistZyq+/wnvvQZ06sGePtaNRGQzg4QFPn6rNWrYytl5kS5npXHDo0CFq1KjBtGnTTNOyRUZGUrZsWXLmzMnBgwcBNUEPDw+nZMmSAFy4cIELxuKTcbRp04bmzZvTu3dvqlevnmhBu8RkpvfsVbZvh8aN4y8rUUIdM755M+TIoY4lz+jrnZGR6rGjo+H6dfD3z9jjC5ESWelckFGM71l6TWlUis9qFMFOK02sGSXWoHA5MIwys3dhC8X6m3ZtwOeLBlo7jGwn/GkEHQr25WlQ6qbmTUxKzp1p6hJ/7NgxRo4cmeT6unXrpqrqcWrlypWL1q1bJ1hunIs9sXXZmrHgnC1NfafVqq3s+/ap3eIlYRciRapXr06HDh0YOXIkDx8+pGjRoixatIgbN27Em5mja9eu/PPPP6b5k0uWLGlK3l9WqFChbH3efP11dbbJK1fU64g//ghduqjXFevVg/371bHumzdnbNf4M2fUZN3LCwoWzLjjCiEyhyn7rtDjtfzkdHJAJ0l7htBpNQzYfNYmknWArUt3025Ac4q8Vgg7e6k1kVHmfbnMLMl6SqWpS/zTp09NVY4T3alWS0hISJqDEmZmawXnjIzxSOE5kYVt2bKFjh07UqVKFYoUKULhwoXj3YoUKZLqfS5evJhBgwaxZMkSBg4cSHR0NBs2bKBevXoWeAVZn1YLK1eqY9XPnlWLz2k0alG6X35Rp3vbuhVWrMjYuKTgnBAiOcHPo+m5/pQk6xkkxqAw9/hNtl9/bO1QTAwGA191/QG1DJ6wtJjoWM7uv8CaGZsy9LhpamEvVqwYW7duTbJC++bNmylcuHC6AkuLXbt2ZfgxMwVbTdil8JzI4qZNm8aIESPIkycP1apVe+UwnZTS6/VMmzaNadOmJfmclJ4P0zAqKkuqWFG9vaxECRg2DMaPh7lzIZXT16fLsWPqvYxfF0IkZcPlByw5fZt3yuaVAnQWFGsw8CAskiHbzls7lARu/nuHeV/+Rt/J76GRizcWZYg1MLHrDxn+3SlNCXvPnj359NNPGTx4MKNHj8bDwwOA4OBgxo0bx+bNm5P9Iiky0JMnYKwobWvdzqWFXWRx33//Pa+//jqbNm3C3t7e2uGINOrRQ03Yd+1S52zPqNnsJGEXQqTEwC3naFIkt3SNtyCdVkv3P0/yNCrG2qEkasXX62jYoaZ0jbew2cMXc/fq/Qw/bpouxQ0cOJBu3brx3XffkStXLgoUKECBAgXIlSsX33//Pe+99x6ffvqpuWMVaWEcv16okFol3paUK6f28wwIgEePrB2NEGYXFBRE+/btJVnP5Pz9oX59UBS1hmdGiIxUu+eDJOxCiOQFP4/mg/UnJVm3kFiDwuxjN2yqK/zLYmPVrvGG2FipGm8BMdGxnN77b4Z3hTdKU8Ku0WhYsGABf//9Nx9++CFly5albNmy9OvXjx07drBo0SI0MuDONthiwTkjV1cwjt+VbvEiC6pWrRoXL160dhjCDN5/X71fskRN3C1NCs4JIVJj4+WHjNt9UYY5mVl0rIFjAcEM2nLO2qG80s1/7zCp2wy0MjTCrGJjYgl5HMqodlOt9veVpi7xRg0bNqRhw4bmikVYgq2OXzcqX14tzXzqFDRqZO1ohDCrmTNn0qxZM6pUqUKXLl2sHY5Ih/btoX9/OH8eTpyASpUse7y43eHl+rcQIiXG/XOJ8rndeLu4j0z1ZgYxBgNPIqJotfKI1edcT6kdK/dRuFwB3v+ivTSemoHBYCA2xsDwFhMJemi9gupyCSarM44Pt9WEvUIF9f74cauGIYQldOrUiZiYGN5//33c3d0pU6YM5cuXj3d7zVh8Udg0d3do2VJ9vHix5Y8n49eFEKmlAO//cYJLT8KIziQJpq0yKAqxBnhr+WHuh0VaO5xUmT96Ofs3HCU2JtbaoWR6Wq2WSd1+4NKJa9aNIy0bKYrCnDlzqFatGrly5UKn0yW4JTftm8ggz5/DyZPqY1v91letmnp/6JB14xDCAry8vChWrBj16tWjUqVK5M6dm5w5c8a7eXl5WTtMkULGbvGrVlm+W7wk7EKItHgWHUuL5Yd4GhVDjIxlTjOtRkOP9Sc5FpD5pqlWFIXxXb7l9uUAYqIlaU+PxV+tYsfKfdYOI21d4ocNG8Y333xDhQoVeO+99/D09DR3XMIcjh1TB0HmyaMWnbNFxoT9yhV4/Bhy5bJuPEKYkUw1mbW88QY4O8O9e2rnJWMHIXOLjHxRfkQSdiFEat0IjuCNpQfZ1bUmzvbIdG9pMHDzWX47e9faYaRZRNhzPm00hpn7J+Od1ws7e2lITQ1FUVg3ewvzRv1m7VCANCbsixYtol27dqxcudLc8QhzOnBAva9Z03YHQXp6qhMdX7wIhw9D8+bWjkgIIRKl16tJ+59/wsaNlkvYT59+UXDO398yxxBCZG0n7ofQeOlBdrxfE+wkaU+NYdvPM+PIdWuHkW5PAoIYUO9LZu6bhJePp0z3lkKKQWHzop18+/HP1g7FJE1/vREREbzxxhvmjkWYW9yE3ZbVqKHeHzxo3TiEsJDo6GjOnDnD3r172b17d4KbyDxatFDvN2603DGMI4SqVbPda61CCNt3+F4wDZccIDw6VrrHp9DgreeYduCqtcMwm4e3H/NR7c95dPcJMdG2OYe8rdkwfztTev5kUzMupClhb9SoEUeOHDF3LMKcFAX271cf16r1//buO7yp8u0D+DdJ94ZSoMhskQ0ypGUoQ9mCKDIVLUv4gQIqvCAqArJBAcEBKEOGkyFL2VsoG9mU0VKEQulu6U6e94/HNNQWmqTZ/X6u61wnOScnuXMoT859nmXdWIoSGirXTNjJwWg0GowfPx6lS5dGw4YN0bp167zZNR5dyH507izX4eGyF485aBN2bdFIRGSsE3eT0HrVESRl5nIgusdQawQ0QmDEH+cw/5h1Bxczh9jbcRjRYgLu3LjHgegeQ5uc/7ZgKz4fttimknXAyIT9m2++QXh4OGbMmIH4+HhTx0SmcOsWcO8e4ORk+50gtTXsx48DvANMDmTGjBmYO3cu+vfvj1WrVkEIgVmzZmHx4sV5I8Tv2LHD2mGSASpVkpNuCAGY65+OCTsRmdLZeylo/N1BXIpLhVpjW4mIteWoNUjPUaPLT8fw7alb1g7HbOJjEjEsZDyO7zhrc8motanVamjUGnwxfAkWvb/cJs+PUQl7zZo1cfPmTUycOBFly5aFp6cnfHx88i2+vr6mjpUMoW0O37gx4O5u3ViKUr++jDE5WfZlJ3IQK1euRO/evfHtt9+iU6dOAIAmTZrg7bffxrFjx6BQKLB3714rR0mGMmez+IQE4No1+Vg7JicRUXHdTslA8+V/Yf3lGGuHYjNyNRpEJ2fg2WUHsePGA2uHY3bpqRmY8PJMrJm5AYBsBVjS5eaokZ6SgfdenIRNi223AsWoQedee+01KNixzrZpm8Pbev91QLYCePZZ4NAhWbVUu7a1IyIyiX/++Qfjxo0DALi6ugIAMjMzAQAuLi7o378/5s2bhxkzZlgtRjJcly7AzJnA9u1Abq4swkzl+HG5rl4d8Pc33fsSEWXkqtFnwyn8HZuC6W1rIVejKbGD0QkhsDcyDr3Xn0JyVsnp263RaPDdx2tx8/wtfLRyJDRKUWIHo1OrNfjn2l2Mf2k6YqJirR3OExl1mbFy5UoTh0Emp61ht/X+61rNmsmEPTwcGDDA2tEQmYS/vz/S0tIAAF5eXvDx8cHNm/n7xyUmJlojNCqGZs3kBBeJifIeY8uWpntvNocnInObcfgajv6TgFXdG6G8lxuclCWnEi5HrYEA8PG+K5gXfgMltYfAnp8P4+b5aHyyejSqP1MVihL0N6DOVUPlpMLGr/7A0o/WIjM9y9ohFalk3lZzdA8fAmfPysf2UMMOcOA5ckiNGjXKN0Bn27ZtsWDBAvz11184dOgQFi5ciGeeecaKEZIxnJyADh3kY1P3Y2fCTkSWsC8qHrW/3YfvTst+2yVhFHkhBM7cS0aDJQfw+dGSm6xrRV6MxtCm/4fvPvkRuTlq5OY4/oB0arUGD+4kYGSrT7DwveV2kawDxUjYo6Oj8b///Q81a9ZEqVKl8qYmiouLw6hRo3DmzBmTBUkGOnoUUKuBihXlCEn2QHtj4fx5ICnJqqEQmcrbb7+NrKwsZGXJH4Tp06cjKSkJrVq1QuvWrZGSkoIvvvjCylGSMf4dkgDbt5vuPYXQNYlnwk5E5paWrcaIP8/jxdVHcS8tCxobHGzLFHLUGmSrNRi35zKarziMq/Fp1g7JZqjVGqyZuR6DG41B5IVoAI7Zt107pd3Gr/7AW3VG4e9Dl6wckWGMahJ/6dIlPP/889BoNAgNDcX169eRmytPRJkyZXD48GE8fPgQy5YtM2mwpKedO+W6XTvrxmGIChWAGjWAiAjgwAGge3drR0RUbN27d0f3R/6W69Spgxs3bmD//v1QqVRo0aIFSpcubcUIyVgdO8r1yZPAgwdAQEDx3/PGDSA+HnBxAdjwgogsZW9UHGp+sw+jQqrho5ZPw91Z5RDN5HPUGqiUCvxy6S4m7r+CqKQMa4dks7S17Z3C2mLI9NdRqqwvFAqF3Y9Zpm3+fnb/RSz+cDUiTtvntH1G1bCPGzcOfn5+iIiIwJo1awoMf//SSy/h0KFDJgmQjKBto6m9orQXL7wg1xw1mxxARkYGPvjgA2zZsiXfdl9fX3Tv3h1du3Zlsm7HAgN107vt2mWa99Q2h2/UCPh3jEIiIotIz1Fj1l/XUXXRbswLv4FstcZu523XNu/fdfMBGi49gDd/P8NkXQ9qtQbblu9Bn2rDsXjcaqSnZEBtp38D2riv/x2F9174FB90mGK3yTpgZMJ+8OBBDB8+HAEBAYXeealcuTLu3LlT7ODICDExwLlzgEJhXzXsAPDii3K9Z4914yAyAXd3dyxZsgT379+3dihkJtpm8abqx64dK5TN4YnIWhIycjB+z2UELdqDpadvISNHDY0QdtFcXpuo74mMw/Mr/8JLPx/H+dhUK0dlf7Izs/HzF5vQq8pQrJ6+DikJ8hyqc22/j7u26fu1Mzcx8bU5ePvZ/8PpfResHFXxGZWwazQaeHh4PHb/gwcP8qYwIgvTVvU0aQKUKWPdWAzVpo1cX7wIMMkhB9CkSRNcuGD/PxRUuEcTdlN0+TtwQK5btSr+exERFced1Ey8u/0Cys3biZHbL+BawkMAsLlad/W/I8clZeZgfvhNBH+1B51+PIbDtxOsHJn9S0tOx/JJP+PVwMH47PX5uHLiOgBdUmwrNBoNNBoNcrJysGPVfgxpMhZDm47DgQ2OM5C1UX3YGzdujG3btmHEiBEF9uXm5uLnn39Gs2bNih0cGUFb1aMdwtielCkDNGwoR7jftw/o29faEREVy4IFC9ClSxfUq1cPAwYMgJMpJ+wmq2vZEvD0lPcX//5bNmU3VlwcoL23w4SdiGxFanYuvjkZhW9ORqFVZX8MaVQZL9csB19XZ+SoNXBWWX7CKe3n5qg1OBgdj9Xn/sEvl+4iM9e2biY4ipzsXOz+6RB2/3QIwQ2qotvb7dCmZ3OULl8K6lw1FEoFlErL/h2oc9V5nxlx6iZ2/XgQ23/Yj9RExxxQ0KirxwkTJqBr164YPnw4+v6bVN2/fx+7d+/GjBkzcPnyZXz11VcmDZT0oNHoBpyzt/7rWi+8IBP2PXuYsJNdOnjwIGrXro2AgACEhYVBqVRi2LBhGDVqFJ566im4u7vne71CocDff/9tpWipOFxcZE+ezZuBP/8sXsL+70QrqFvXNAPYERGZ2sHoeByMjodKoUCLSqXwco3yeK12IKr5yVa32WoNnJQKKE08UNmj75uclYMtEfexOeIedtx4gJQs26rtdXQ3zkVhwcjvsWDk96jRKAgtuj2LVj2aofozVQHI2nelUgmliW/k5OaooVQqoFQpkZ2ZgxM7z+LwpuM4uu0UEu4nmfSzbJFC/HfEOD2tXr0ao0ePRnJyMoQQUCgUEELAx8cH3377Lfr162fqWE0uJSUFvr6+SE5Oho+Pj7XDKb7Tp2VTeC8vICEBcHa2dkSG27YN6NoVCAqSQyYTWYApywKVSoU1a9agX79+aNOmjV4jrO7bt69Yn2kNDld+GmnxYmD4cDkz5ZEjxr/PqFHAokXAiBHA11+bLj4ic2NZYDjtOXMUQaU88GygH54N9EXIU35oXN4P3q66OsFcjQYaASgVgFMhNbEajUCuEFAA+Wrsc9QaXIpLxbE7STgVk4xTMUk4ey8FajvoT1/S+Jcvhdoh1VGjSTBqPVsdtUOqw7eMrjzQqDVQqzVQKAAn54L1xRqNkLX1AFTOqrxrJ41G4O6NGFwMj8DVkzdw9dQNXD11E9mZ2Zb6amanT9lpdPvMN998Ez169MDOnTtx/fp1aDQaBAcHo2PHjvD29jb2bak4tM3hX3jBPpN1QLYFVamAmzeBqCigalVrR0RkECFE3swZ+/fvt24wZHZdu8qEPTxcNo0vV86499H2X2/d2nSxERFZws3EdNxMTMevl+4CABQAqvp5oLKvOwK9XFHB2w2BXm6o4O0KbxcnOKuUcFYqkKsRyFELZKrVuJeWhbupmYj5d303LRMR8Q+RbWN95qlw8fcScXjzCRzefCJvW5kKpVG+almUqVAK/oGlUKZCafgHloJ3aS+onFRwdnGCRqNBbo4aOVm5SLyfhPiYRMTdTUB8TCLiYxJx++pdZDzMtOI3sw3F6lDp6emJV1991VSxUHFt3SrX2pGQ7JG3NxASIodL3rEDGDbM2hERET1WxYqyYdOpU7IIHjzY8PeIj5eTewBM2InI/gkAkUnpiExKt3YoZEVxdxMQd5eD/5mCXgl7dHQ0ADld26PPi6J9PVnAgwe6OYG6dbNuLMXVtav8Lps3M2Enu6RPM3hyHN27y4R982bjEvZDh+S6Vi3ja+iJiIjIMemVsFetWhUKhQIZGRlwcXHJe14Utdr25+tzGNu2AULIUY8qVrR2NMXTvTvw8cdy4Lm0NNknn8iO9O/fH/3799frtQqFArm5HDTHnr38MvDpp3JWzfR04AmznhZK2xxeO7MlERERkZZeCfvy5cuhUCjg/G+/aO1zsiFbtsj1yy9bNw5TqFMHCA6Wg87t2AG89pq1IyIySLt27VCjRg1rh0EW0qABUKUKcOsWsHu34cWwdsxBNocnIiKi/9IrYR8wYMATn5OVZWbqBpyz9+bwAKBQyFr2efNkG1Mm7GRnwsLC8Prrr1s7DLIQhUIm6YsWAZs2GZawR0fLOdwVCqBtW/PFSERERPbJsrPck3ns3w88fAhUqAA0bmztaExDe8W7dSvA5sJEZOO6d5frzZuBnBz9j9uwQa6fe47914mIiKggoxL2Tz75BA0bNnzs/kaNGmHKlCnGxkSG2rxZrrt1k9U0jqBlS6B0aTmf/F9/WTsaIqInatUKKFsWiIsD/vxT/+PWr5drNiQiIiKiwhiVsK9btw6dO3d+7P4uXbrgl19+MTooMoAQuv7rjtAcXsvJSY4WD8g2pkRENszZGXjzTfl4xQr9jrl3T3c/skcP88RFRERE9s2ohD06OhrBwcGP3V+tWjXcunXL6KDIACdOAP/8A3h6Ai+8YO1oTOvVV+X6118BzjhAdkKj0bD/egk1cKBcb90KxMYW/frff5f3XJs2BSpVMmtoREREZKeMSti9vLyemJBHRkbCzc3N6KCKcuLECbz77ruoW7cuPD09UblyZfTu3RsRERFm+0ybtX49dqEdhpX7HZ17uKNVK+DsWWsHZSKdO8tm8Xfu6IZRJiJkZWVh/PjxqFChAtzd3REaGopdu3YVedyGDRvQp08fBAUFwcPDAzVr1sSYMWOQlJRk/qBLgLp1gZAQOezGmjVFv17bfz2vObxGAyQmyjFJhDBbnERkXYL/v4noX/qUB0Yl7G3atMGSJUtw586dAvtu376NpUuXoq0Zh7udPXs21q9fjxdffBFffvklhg4dioMHD6Jx48a4cOGC2T7X5giBjHXb0AMbsPRmO2zfDhw6BHz+ubUDMxFXV6BvX/n4hx+sGwuRDRkwYADmzZuHN954A19++SVUKhW6dOmCw4cPP/G4oUOH4vLly+jfvz8WLlyITp064auvvkLz5s2RkZFhoegdm7aWffnyJ+fcCQnAvn3yBT12DAMqV5ZlXunSgJcXoFIBVasCvXsDCxcCycnmD56ILCI1NdXaIRCRjdCnPFAII27zXb16FSEhIVAoFBg8eDDq1q0LALhw4QKWL18OIQTCw8NRu3Ztw6PWw5EjR/Dss8/CxcUlb9u1a9dQv3599OzZE2v0qdoAkJKSAl9fXyQnJ8PHx8cssZrVuXPY8szHeBlbUL6cBm8PVWLqVHm9Fxsrr/fs3rFjQLNmgIeH7PDp7W3tiMgB2VNZcPz4cYSGhmLu3LkYO3YsACAzMxP16tVD2bJlceTIkcceu3//frRp0ybftlWrViEsLAzfffcdhgwZoncc9nTOLCkpCQgMlLNtHj4sx8/MJy0NWLcO0z7TYGLkIDyDsziLRkW/sa8v8O67wPvvA/7+5gidyCgsCwyn0Whw9+5deHt7Q+EogwUTkUGEEEhNTUWFChWgVD65Dt2ohB0Azp07h5EjR+LQoUP5trdq1QoLFy5EgwYNjHnbYmnSpAkA4NSpU3q93u5/ZCZPxpApFbEMQ/DOO8CCBXKU4sTEx1wo2iMhgFq1gIgIYOVKICzM2hGRA7KnsmDcuHGYN28eEhIS8sU6c+ZMfPTRR4iOjkYlAzpEp6amwsfHBx988AG++OILvY+zp3NmaYMHyxr2Zs3koHJKJYALF4CvvwbWrkViqgrVEIlk+OGn4E/Qd6C7HIOkUiVZiGdnA6mpwJUr8qblmjXAxYvyzb29gQ8+kAvPO9kAlgVEROZl9DzsDRo0wIEDBxAbG4vw8HCEh4cjNjYW+/fvt0qyLoTA/fv3UaZMGYt/trVo1m3AFsiR4bt3lwOrawfv37rVioGZkkIBvPWWfLxqlXVjIbIBZ86cQY0aNQpcGIeEhAAAzho4iMW9e/cAoESVneY2daps1R4eDqxZmCDbyTdoACxeDKSmYm6pGUiGHxrUykLviGnAxx8DzZsDFSsCLi7y4MBAoG1b4MMPgXPnZIf3hg1lIj9lClCjBrB7t7W/KhEREZmZ0Qm7VpkyZRASEoKQkBCrXvCtXbsWd+7cQZ8+fR77mqysLKSkpORb7FZEBI5d9EQsysHHW6B1a7n5pZfk2mESdgDo31+u9+0DbtywbixEVhYTE4PAwMAC27Xb7t69a9D7zZ49GyqVCj179nzi6xyq/DSzChWAieOzAQDj389Gysr1srVQjx6499shfJn1PwDA1NmuKKIVnKRUylkzTp2Ss2Y8/TRw/z7QoQMwYQKQk2PGb0NERETW5KTPi1b9W7P55ptvQqFQ5D0vylvamlEzu3LlCt555x00b94cYU9oMj1z5kxMmTLFIjGZ3erV2ITuAIAuLymg7c7fqZO8trtwAbh1C6hSxYoxmkqVKrLpwJ9/AosWybb/RCVURkYGXF1dC2zXzsxhyOBxP/74I5YtW4Zx48bh6aeffuJrHar8NLctWzB66Qf4Dn/gOp5GH7+d+HqZG7JqN8TgwUB6uhxNvls3A99XqQR69ZJ3Zj/4AFiyBJg1Czh4EPjpJzlwHRERETkUvfqwK5VKKBQKZGRkwMXFpciO8QCgUCigtsDc2ffu3UPLli2Rk5OD8PBwVKhQ4bGvzcrKQlZWVt7zlJQUVKpUyf76XeXmAlWrovadXbiC2vjxR6BfP93uVq3kaPFffw2MGGG9ME1qxw55N8LbW847b0//XmTz7KkPZr169VCuXDns2bMn3/ZLly6hbt26WLx4MYYNG1bk+xw6dAgdOnRA69atsXXrVjg5Pfn+rcOUn+aUkQH83//JwhfAroDX0Tl+NdQaJVxcZCV7To4cQ3P3btkKvlh++w0YMgRISQFKlZKzaRh8F4CoeOyp/CQiskd6NYmPjIzEzZs380Zlj4yMLHK5efOmWQMHgOTkZHTu3BlJSUnYvn37E5N1AHB1dYWPj0++xS7t2IGIOx64gtpwchJ5/da1unaVa4dqFt+hgxx8LjVVDj5HVEIFBgYiJiamwHbttqLKQQD4+++/8fLLL6NevXpYt25dkck64EDlp7lcuyZHmfs3WceYMWgf9R3OnFWiXTs5jlxOjqwcv3TJBMk6IGvbz5wBnn1Wjjb68svARx/Jm7pERETkEPRK2L/88kskJCTkPVcoFChbtiyqVKnyxMWcMjMz0a1bN0RERGDr1q2oU6eOWT/Ppnz/PTbiVQBAmzYK+Pnl362tYNmzR17DFcfDh3Kst1WrgL//lhedVqFQAKNGyceLFgEajZUCIbKuhg0bIiIiokAf8mPHjuXtf5IbN26gU6dOKFu2LP744w94eXmZK9SSY9MmmTSfOydHef/zT+DzzwEPD9SvD+zcKcvj7duBLVtM3FUpKEgORT9ypHw+cybQsaOc25OIiIjsnl4J+4IFC3D58uW859WqVcPGjRvNFlRR1Go1+vTpg6NHj+K3335Dc5NUVdiJe/eArVuxHq8BAF57reBLateWAxJnZwPr1xv3McnJwKRJsktkWJhcGjaUgylt2GB8+MXy1luAnx9w/bqDNR8g0l/Pnj2hVquxdOnSvG1ZWVlYsWIFQkND86Z0i46OxpUrV/Ide+/ePXTo0AFKpRI7duxAQECARWN3SF98AbzyimyW3rKlrPHu1CnfSxQKOWtbx47yscm5uAALF8p+7J6ewN69QKNGMpEnIiIiu6bXoHPlypXL18TdyKnbTWbMmDHYvHkzunXrhoSEBKxZsybf/v7aUcUd0apVuJVbAScQAoVCDhxcmNdfl5U9P/4ouzga4tw5eSPg+nX5PDgYeOopWcMeHy/3jRoFzJkDFDL2lfl4egLDhgGzZ8tpjbp1M9PVL5HtCg0NRa9evTBhwgTExsaievXq+OGHHxAVFYVly5blve6tt97CgQMH8pXXnTp1ws2bNzFu3DgcPnwYhw8fzttXrlw5tG/f3qLfxa4JAUybBnz6qXw+cqRM3p2drRdT377AM8/IQvryZaBNG1levv8+y0oiIiI7pdegc0OGDMGqVavQrFkz+Pn5YevWrWjUqBGeeuqpx7+xQoFNmzaZNFitNm3a4MCBA4/dr+8NBbsbKCU7GwgOxvx/euIDzEerVsDjTsOtW0DVqvIa7fZtmXDrQ5vgZ2TI2vXPPwd69ABUKtn/8uOPgblz5Wv79wdWrzbJN9PfgweyCWhamqzqf9wdCyID2FtZkJmZiYkTJ2LNmjVITExEgwYNMHXqVHTs2DHvNdpy8tHyUPGEpK1169bYv3+/3jHY2zkzuYkTZcIOyPXHH1s3nkelpQFvvw38/LN83rWrHPvD39+qYZFjKvFlARGRmemVsD98+BDTp0/Hvn37EBsbi6ioKPj7+8PT0/Pxb6xQWGTgueKwux+ZFSuAQYPQ0vk4juQ0xcKFum6LhXn+eeDwYZl0jxlT9NsvWqTrJt6xI7B2beHXd5s2yQoctVr2bX/zTeO+jtE++QSYPh2oV09W++s1kTHR49ldWWADSvQ5mz9fTqsGyFp17WNbIgSweLGsXc/Kkv2ZVq4E2IqCTKxElwVERBagV8L+X0qlEmvWrMHrr79ujpgsxq5+ZNRqoE4d3IlIQ0XcASBnN3tSzfnixcDw4bIr4+nTT3772bOBDz+Uj997Tyb5KtXjXz9tmqxg8vKSXTarVzfs6xRLYiJQrZrsaP/TT7IZKFEx2FVZYCNK7Dlbu1Y2LwLkAG/agtNWnT0ry8irV+XzkSNl3E+44U5kiBJbFhARWYhRVZP79u1jX0dL27gRiIjARvc3AMjZg4pq5t6zJ+DkJBPqR7qq5pOTI6/ftNecEycC8+Y9OVkHgAkT5HzvaWny2tWig7aXKqVrMvDJJ0BmpgU/nIhKrMOHgQED5OP33gPGj7dmNPpp2FDesX3nHfl80SLZOmnHDquGRURERPrRO2E/fvx43tRurVu3fuLowpGRkVi1alXxoyNJCGDGDAgAK/1GA5DJeFHKlAH69UPe66Oj8++Pjwc6dwa++ko+nz0b+Owz/cYmUqmANWsAHx/g2DHZNN6i3ntPNvG8cUPXqZ6IyFzi4mRNdW4u0Lu3bApvLwO5eXjIgn7HDjk4SVSUHMm+Xz/ZVIuIiIhslt4Je/PmzbF9+/a85wkJCfDw8Ch08LcjR45g4MCBpomQ5EhwZ87ggFsnnIp5Cm5ucpo1fXzzjRw0+P59Oaj6uXPA3btyhPfq1eXcwJ6esgJ/3DjDwqpUSdbIA8BHH8nadovx9pZNAQBgxgwgMtKCH05EJYpGIwvdO3eAmjWBZcvsc+yMDh2AixeB0aPlzYaff5bfZ+pUCxfgREREpC+9rzj+29VdCIHMzEyo1WqTB0WPSEvLy6Q/r7IIgGyRWaaMfod7eQGbNwPlyslk/ZlnZFP68eOBpCTZMvLIETmNsDFGjpTTvsXEyJsAFtW7t5zcODNTXoASEZnDl18Cf/wBuLkBv/4qC1Z75eUFLFgAnDoFPPcckJ4up6YLDpZzubOLERERkU2xwyqCEmbmTODuXVyq2AHbrlaHQiEH/TVE5crAtm1AaKhu1PeqVYEffpDjETVoYHx4rq66RH3u3ILN7s1KoZDNPJ2dgS1b5AB0RESmdPu2HCsDkIlucQpMW9KoEXDwoCw3g4OB2Fh54zMoSH7P9HRrR0hERERgwm7bbtyQ/SQBzKu1FADQvTtQo4bhb9WkCRAeLrthZmcDN28Cb71V9OBy+nj1VaB1a1kxo72utZjatWV7fEAOiW/ROwZE5PA++EAmr889Bwwdau1oTEuhkP3yL1+W04pUqiSbS73/PlClihzUJD7e2lESERGVaEzYbZVGAwweDGRl4VqLMKw+WBkAMHZs8d/a2dm0YyUpFHIaOABYvVq2tLSojz+WzQeSk2U/U4sOWU9EDmvnTmDdOnln85tv7GeQOUM5OwPDhgHXrwNLl8ppM+PigEmTZBI/cKC842v4LLBERERUTAYl7FFRUTh9+jROnz6Nc+fOAQCuXbuWt027RDrwAGD371vogxYtAg4cgPDwxP/EN8jOVqB9e6BFCwt9voGefRZ4Q844h7FjLXxd5+ws7xR4egL798tuBERExaGd8xIARo0C6te3bjyW4OICvP02EBEhm8o3agRkZAArVwLNm8tzMG8ecO+etSMlIiIqMRTiv6PJPYZSqYTiP7ULQogC2x7dbusD0qWkpMDX1xfJycnw8fEp4rVAu3ayz/e9e0Dp0mYM7MoVeaGUmYlVYXsQ9sMLcHMDLlyQXQ1tVXS0bK6flSUHuuvWzcIBLF8uWyUoFDKArl0tHADZK0PKApIc/pwtXSprncuWBa5dk3NYljRCyJr1JUuAX37RDUinUADPPw+89pocsbRyZauGSdbl8GUBEZGV6Z2w//DDDwa/eZi+c49ZiaE/Mg0aAOfPA99/L/NCs8jMlH0lT51CXOvXUOvCb4iPV2DmTODDD830mSY0YQIwaxbw9NPyBoOLi4UDGD5c9sX09pYTxNeubeEAyB7xgtNwDn3OMjLkvJd378qR07U17SVZcrKcBm7FClm2PqphQzmve7t2shmYu7tVQiTrcOiygIjIBuidsDsiQ39kZsyQ3aXbtQN27TJTUP/7H7BkCXJLBaBLvWjsOuSG+vVlv3BnZzN9pgmlpMha9vv35ajxpuhzb5DsbPkPdOiQbI5w+DBQvryFgyB7wwtOwzn0OfviC1l4Va4sm4e7ulo7ItsSHQ2sXw9s3Aj89Vf+cUNcXWXz+bZtZS18SIjsrkQOy6HLAiIiG8CE3YAfmZs3ZQ6oVMqKl3LlTBzQDz/ISdYVCox99Qa+2FANHh5ynvRnnjHxZ5nRihXAoEGykjsiwgr5cmysHIQuKkr2uTxwAChVysJBkD3hBafhHPacpaTIqc3i42U3m4EDrR2RbXvwAPjzT2DPHmD3bvnj+CiVCqhXT05V0qQJ0LixbK7m4WGdeMnkHLYsICKyEUzYDfyRCQ0Fjh+X03+/844Jgzl5EmjVCsjIwKpXNiDs91cBAL/+CvTqZcLPsQCNBmjWDDhxQt5/WLHCCkFcvy5rd+7dk8Hs2FEy+6CSXnjBaTiHPWcffgjMng3UrCn79Tg5WTsi+yGE7O+/d68cAPTwYeDOnYKvUypll4N69YC6dWXXpVq1ZF8qLy+Lh03F47BlARGRjWDCbuCPzPz5clre556Tra5N4tYtmVTeu4etTSbh1b8nITdXgU8+AaZONdFnWFh4uGwVCQAHD8rc2eIuXJA3QRITZc3On38CAQFWCIRsHS84DeeQ5ywiQiaROTnApk3Ayy9bOyL7JgRw+7a8IX3qFHDmDHD69JOnWylfXjZlCw6W08tVrSqXypWBihWtMDAKFcUhywIiIhvChN3AH5k7d+S0tELIbnyVKhUziORkmf1fuIB9QYPR+c53yMpS4I03gFWrZEWEvRoyBFi2TPZp//tvwM3NCkGcPg107CjnFK5ZUw4+UOx/NHI0vOA0nEOes5deAv74Qw6g9scfjjvvurXduydvqJ4/D1y6BFy+DFy9KsvpopQtC1SoIJfy5eVSrpxcypaVN2UDAuRULvYw8IsDcMiygIjIhjBhN+JHpnVrWWtc7EHVsrKALl2AvXuxr/Rr6Jb5Kx6mK9G9O/Dbb/Z/rZGUBNSpA8TEAB99BEyfbqVArlwBOnSQNT3lysnBklq2tFIwZIt4wWk4hztnmzcD3bvLgvfCBXmnkSwrMVE2qY+MBG7ckOOQaJfbt3XTyunLx0cm7v7+chwTPz/d4usrFx8fufb2lo+9vORjLy+5sEtEkRyuLCAisjFM2I34kVm8WM4e1qiRrMA1ikYD9OsH/Portrj1Qi/Nz8jKVqJdO2DLFivVRpvBxo1Ajx5y3KHjx+V4Q1YRHS0nhj93Tl6QL1oEDB3KGjQCwAtOY9jEOcvOBlJTgYcP5ZKZKZfsbNmsXaORo5a7ucnELTCw8D7SK1bIQj0rCxg3TvZhJ9sihKyBv3tXNnWLiZE19ffuySb29+/LAUcfPAASEuTrTcHFRY5yr108PHSLu7tucXPTrR9dXF11i4tLwccuLvI3Sbt+dHl0m1Jps79XNlEWEBE5MCbsRvzIxMXJ677cXNmaz+CpvoUARo8GFi3CatUADMIy5KplzfrPPztOsq7Vqxewbp3shnjypKzssIq0NDni87p18nnPnsCSJfJCnko0XnAazqznTNvn6MoV2a88MlKXpMXHy4QsKcnwGldA1q7WrCkHPVOpZMK3c6fc99JLcqRPjmBu39Rq+fcRFydr7ePj5fPERLkkJ+dfUlLkjZ+UFPk7kZoqf+BtjTZ5d3LSrQtbVCq5aB8/uq2wRanM/1iplN0LPv9cr7BYfhIRmRcTdiN/ZLp1A7ZulfOyT5tm4AfPnAnx0UeYik8xCVMAAP37yxmE7L0ZfGESEoCmTeW0eO3aybHfrNbKUAjZl+Hjj+UFWcWKMmnv0sVKAZEt4AWn4Ux6zjIy5PyVhw7J9alTsuDQl7YW1MND3vF8tFYyO1u+f1ycTMYKo1AAn30m++7Y88AhZBpCyL+btDRd642HD4H0dLnOyJCPMzJ0S2ZmwXVWVsElOzv/OidHPta2CtGurS0oSHZL0APLTyIi82LCbuSPzM8/yxbt1arJ3zS9W6qtXImsgcMwDEvwAwYAAMaPB2bMcOzrxPPn5ajxDx8CY8bofePefE6cAN54Q/aXBIA+feQUAIGB1o2LrIIXnIYr9jnLzZUJ+urVstVLamr+/c7Osh95zZoyeXjqKfn/UzugmLYfsre3/ncAU1Nlf+irV+UdRIVCfk7LlvKuIpEtEEL+/8jNlcl7To7ucWHb1Gr5WLt+9PGja+1jjUb3XLtotwkhH/v4AG+/rVe4LD+JiMyLCbuRPzLp6XL8srQ04K+/gBYt9Djojz/woNsg9ND8hsN4HioV8PXXwLBhxsVvb377DejdWz42+Tz2xnj4EPj0U2DBAnmB4ukp52D+4AM2iS1heMFpOIPPmRDA9etyzse9e+VgHfHxuv0VKgBt2shZM0JC5PRqrq5mi5+ITIPlJxGReTlwna55eXgAr74qH//4ox4HHD+O069NR4jmKA7jefj6CmzbVnKSdUD2Zdd2Hxg1Sk5zbFWensAXX8ja9pAQmcBPnAg8/bS8o2BM/1giKujaNaBMGVlj/tZbwMqVMlkvXVrO/3jwoBwFfO1aOfhbkyZM1omIiIjAhL1YXn9drn/8UY5n8zji2nUsffFntMjcgyhUQ3CwQHi4Ah07WiRMm/LRR7KVnUYD9O0L/P67tSOCHLr+6FH5D1mlihyFeORIIDhY9nd/0j8uERWtShV5Q8zVVTZHGjMG2LdPjuz93XfA8887dp8gIiIiIiPxCqkY2reX84wnJgJz5hT+mgcRiejbOALD0uYhC27o2ikXJ04oUKuWZWO1FQoF8M03crrjzEw55dvcuaabgcdoSqUclODqVRlgxYoycR83Tj5+5x3g77+tHCSRnXJxkXNgpqTIPkSffy6bv3OOayIiIqInYsJeDCoVMHOmfLxggZx1SEujAX5anYu69YBf07pAhVzM+jgVm7Y5oVQpq4RrM5yc5BhT774rE/Vx4+T4bykp1o4MsgZw+HDZ13bZMtmP9uFDmcQ3bCibzi9aJOf7JSL91akjE3ciIiIi0hsT9mLq1k2OkZSRAXzyiZw2eM0aoEEDgdffcsKDnFKop7yIYz9HYvw0b7b6/JeTk8x7Fy6UNz5++knmw0ePWjuyf7m6AoMGAefOAbt2yQ74Tk6yv/uoUXKArPbtgcWL5dzQREREREREJsZR4k0wsunRo4WPEu+DZIxVfIFxG5rD9ZXOxYjUsYWHy9boUVGyyfygQbLlQkCAtSP7j9hYeWdh7VqZuD+qcWM5l3uHDkBoKGsS7QxHOTYczxkRASwLiIjMjfW9JtC8ORAWJh97ewP1gh5isvIz3EIVTJzlxWS9CM2aAWfPynMohGyJ/vTTcsa1R2d9srqyZYHRo4Hjx+Wo17NnyybygOyfO20a0KqVHPm6Y0dg+nTgwAHZpJ6IiIiIiMhArGE30V1hIeTc7B7JMVA0aQzcuyebUf/yi6w2Jr389Zfs2372rHzu6SlngRo6VDaZt0n37wPbtwN//innl37wIP9+lQqoXx9o2lROV9Wokewbz7nebQZriAzHc0ZEAMsCIiJzY8JuyI9MbKysXe3atfD9ubnAiy/KOYXr1ZNt5b28TBt0CaBWy+nepk8HzpzRbW/cGOjTR94HqVbNauE9mUYDXLgg/wYOHpR3IO7eLfg6pRKoXh2oW1cutWsDtWrJear5N2NxvOA0HM8ZEQEsC4iIzI0Ju74/MnfvyrbvMTHA/v2Fd1qfMAGYNUu2iz91SrbrJqMJIadqXroU2LAByMnR7atTB+jUSd4fadEC8POzWphF++cf4Ngx+Tdx8qRsPvDfWvhHlS8vk/lq1YCgIKBqVTmPdZUqwFNPyQHxyKR4wWk4njMiAlgWEBGZm90m7FlZWfj000+xevVqJCYmokGDBpg2bRrat2+v93sY9COj0QC9ewPr1wPlyslBxypV0u3fsgV4+WX5+NdfZTUwmUxcnDz1v/4q75doNLp9CoVs0NC0qVyeeUY+9/a2WrhPJoRsRn/uHHDpEnDxopz//cqVJyfyWmXLysT9qaeAwEDdUq6c3KddfHzYHUNP9nbBWZzy786dO3j//fexc+dOaDQatG3bFvPnz0dQUJBBMdjbOSMi82BZQERkXnabsPfr1w/r1q3De++9h6effhorV67EiRMnsG/fPjz33HN6vYfBPzJpaUDLljLRatxY9lf29QVWrQKGDJFVwCNHyrnKyGwSEoDdu4EdO2Sr8+vXC39dxYqygjo4WK6rVZPbKlSQ+a1NtjxPSgJu3JBfKjISuHlTDp9/6xYQHQ1kZur/Xs7OQJkycvH3l4PhlS4NlCqlW/z85N/wfxdPT5SkOQjt7YLT2PIvLS0NjRs3RnJyMsaMGQNnZ2fMnz8fQgicPXsW/v7+esdgb+eMiMyDZQERkXnZZcJ+/PhxhIaGYu7cuRg7diwAIDMzE/Xq1UPZsmVx5MgRvd7HqB+ZqChZjRsXJ5smN20KHD4s9/XsKaf84pReFhUTI1ucnzwpl/PnC+82/l8+PjJxDwiQOW1AgFz8/R+fx/r6yn92q1RcCyGHzf/nH+DOHbnExMjl3j1Za3//vhxrobgj0ysU8o6Gt7du7ekpHz+69vDQrT08AHd33aJ97uamW2sXV1e5dnIyzbkpJnu64CxO+TdnzhyMHz8ex48fR9OmTQEAV65cQb169TBu3DjMmDFD7zjs6ZwRkfmwLCAiMi+7TNjHjRuHefPmISEhId+Pw8yZM/HRRx8hOjoalR5trv4YRv/IHD0KDBwomzFrTZggp/UqQbWStiw+XlZS37ghF21l9d27cilOPqtUyhxVuxSWq/43N3V1lfdxtMuj25yd8y9OTgWfq1Ryrd2nff7oOt+SlQ5VUjyUCXFQJcZBkRAvT0piomyikJQkl8REIDlZPk5JkY9zc030r6DnyXz0ZPz3ZD362Nm54Lqw5dETOHasXjfQ7OmCszjlX8i/0xAeP3483/aOHTvixo0buP645iqFsKdzRkTmw7KAiMi8bKN6y0BnzpxBjRo1CvwwaC9Gz549q1fCbrTmzYHLl2Xf482bgZo1gddeM9/nkcH8/eUSGlr4/tRUXQV1XJzsOh4Xp1u0OWxyslxSUuQxQsj+86mpcrFdHv8uuv8HKpXMj7Xrwh4r/AWUCkCp0EAhNFBCQKVQQyEElFBDKf7dLtRQCA0UQg3lv4tCo/n3cS4UGu1z3WO5VkMBDRQQUEBAqdFAkSHkAnnvMG/fI6/7776itmu3rR6hhquDNXgxtvzTaDQ4d+4cBg0aVGBfSEgIdu7cidTUVHjb7OAPRERERCWPXSbsMTExCAwMLLBdu+3uY9pDZ2VlISsrK+95cnIyAHl32CiVK8tJw+WbGPceZDUVKshFXxqNHMYgPV3W0D98KB9nZMglPR3IypKPH11nZ8t1To5u/ei27GxZqZ2To1trH2sXtTr/NrVat1ar9Ytf+9pHR9s3nAKA6t/F9i16mAF3ZdFfWFsG2EODI2PLv4SEBGRlZRV5bM2aNQs93uTlJxE5BHsqP4mI7JFdJuwZGRlwLWRqKzc3t7z9hZk5cyamTJlSYLtZa+OJyGrKVzTs9ampqfD19TVPMCZibPmn3W7MsQDLTyJ6MnsoP4mI7JFdJuzu7u75anq0Mv8dQdvd3b3Q4yZMmIAPPvgg77lGo0FCQgL8/f2hsKPpr1JSUlCpUiXcvn27xPcX47nQ4bnQMfRcCCGQmpqKCoY0ubASY8s/7XZjjgVYfjoingsdngsdRy4/iYjskV0m7IGBgbhz506B7TExMQDw2B8NV1fXArVLfn5+Jo/PUnx8fEr8hYUWz4UOz4WOIefCXmqGjC3/SpcuDVdX17zXGXIswPLTkfFc6PBc6Dhi+UlEZI/sckjzhg0bIiIiokDfyWPHjuXtJyJyRMaWf0qlEvXr18fJkycL7Dt27BiCgoI44BwRERGRjbHLhL1nz55Qq9VYunRp3rasrCysWLECoaGh7FNJRA5L3/IvOjoaV65cKXDsiRMn8iXtV69exd69e9GrVy/LfAEiIiIi0ptdNokPDQ1Fr169MGHCBMTGxqJ69er44YcfEBUVhWXLllk7PLNzdXXFpEmTCh08qqThudDhudBx5HOhb/n31ltv4cCBA/lGbh4xYgS+++47vPTSSxg7diycnZ0xb948lCtXDmPGjLHG17E4R/7bMBTPhQ7PhQ7PBRGRbVEIO52HIzMzExMnTsSaNWuQmJiIBg0aYOrUqejYsaO1QyMiMit9yr82bdoUSNgB4J9//sH777+PnTt3QqPRoE2bNpg/fz6qV69u6a9BREREREWw24SdiIiIiIiIyJHZZR92IiIiIiIiIkfHhJ2IiIiIiIjIBjFhJyIiIiIiIrJBTNhtSFZWFsaPH48KFSrA3d0doaGh2LVrl8Hv0759eygUCrz77rtmiNIyinsufvnlFzRv3hyenp7w8/NDixYtsHfvXjNGbD7FORe7d+9G27ZtUaZMGfj5+SEkJASrV682c8Tmk5aWhkmTJqFTp04oXbo0FAoFVq5cqffxSUlJGDp0KAICAuDp6Ym2bdvi9OnT5guYLIblpw7LTx2WnzosP4mI7BMTdhsyYMAAzJs3D2+88Qa+/PJLqFQqdOnSBYcPH9b7PTZs2ICjR4+aMUrLKM65mDx5Mvr164dKlSph3rx5mDZtGho0aIA7d+5YIHLTM/ZcbN68GR06dEB2djYmT56M6dOnw93dHW+99Rbmz59voehNKy4uDp999hkuX76MZ555xqBjNRoNXnrpJfz444949913MWfOHMTGxqJNmza4du2amSImS2H5qcPyU4flpw7LTyIiOyXIJhw7dkwAEHPnzs3blpGRIYKDg0Xz5s31eo+MjAxRtWpV8dlnnwkA4p133jFXuGZVnHNx9OhRoVAoxLx588wdpkUU51y0b99eVKhQQWRmZuZty8nJEcHBwaJBgwZmi9mcMjMzRUxMjBBCiBMnTggAYsWKFXod+8svvwgA4rfffsvbFhsbK/z8/ES/fv3MES5ZCMtPHZafOiw/82P5SURkn1jDbiPWrVsHlUqFoUOH5m1zc3PD4MGDcfToUdy+fbvI95gzZw40Gg3Gjh1rzlDNrjjnYsGCBShfvjxGjx4NIQTS0tIsEbLZFOdcpKSkoFSpUnB1dc3b5uTkhDJlysDd3d2scZuLq6srypcvb9Sx69atQ7ly5dCjR4+8bQEBAejduzc2bdqErKwsU4VJFsbyU4flpw7Lz/xYfhIR2Scm7DbizJkzqFGjBnx8fPJtDwkJAQCcPXv2icdHR0dj1qxZmD17tt1eTGgV51zs2bMHTZs2xcKFCxEQEABvb28EBgbiq6++MmfIZlOcc9GmTRtcvHgREydOxPXr13Hjxg1MnToVJ0+exLhx48wZtk06c+YMGjduDKUyf7EXEhKC9PR0REREWCkyKi6WnzosP3VYfpoOy08iIutxsnYAJMXExCAwMLDAdu22u3fvPvH4MWPGoFGjRujbt69Z4rMkY89FYmIi4uLi8Ndff2Hv3r2YNGkSKleujBUrVmDkyJFwdnbGsGHDzBq7qRXn72LixImIjIzE9OnTMW3aNACAh4cH1q9fj+7du5snYBsWExODVq1aFdj+6LmsX7++pcMiE2D5qcPyU4flp+mw/CQish4m7DYiIyMjX9M7LTc3t7z9j7Nv3z6sX78ex44dM1t8lmTsudA234yPj8fPP/+MPn36AAB69uyJ+vXrY9q0aXZ3wVmcvwtXV1fUqFEDPXv2RI8ePaBWq7F06VL0798fu3btQrNmzcwWty0qzrkk28byU4flpw7LT9Nh+UlEZD1M2G2Eu7t7oX3AMjMz8/YXJjc3F6NGjcKbb76Jpk2bmjVGSzH2XGi3Ozs7o2fPnnnblUol+vTpg0mTJiE6OhqVK1c2Q9TmYey5AIB3330X4eHhOH36dF4zxt69e6Nu3boYPXq0wyQo+irOuSTbxvJTh+WnDstP02H5SURkPezDbiMCAwMRExNTYLt2W4UKFQo9btWqVbh69SqGDRuGqKiovAUAUlNTERUVhfT0dLPFbQ7GnovSpUvDzc0N/v7+UKlU+faVLVsWgGz2aU+MPRfZ2dlYtmwZXnrppXx9Dp2dndG5c2ecPHkS2dnZ5gnaRhl7Lsn2sfzUYfmpw/LTdFh+EhFZDxN2G9GwYUNEREQgJSUl33btXfyGDRsWelx0dDRycnLQsmVLVKtWLW8B5MVotWrVsHPnTrPGbmrGngulUomGDRviwYMHBS6mtH0VAwICTB+wGRl7LuLj45Gbmwu1Wl1gX05ODjQaTaH7HFnDhg1x+vRpaDSafNuPHTsGDw8P1KhRw0qRUXGx/NRh+anD8tN0WH4SEVkPE3Yb0bNnz7w+clpZWVlYsWIFQkNDUalSJQDyAvPKlSt5r+nbty82btxYYAGALl26YOPGjQgNDbXslykmY88FAPTp0wdqtRo//PBD3rbMzEysXbsWderUsbtaAGPPRdmyZeHn54eNGzfmu/hOS0vDli1bUKtWLYduwhgTE4MrV64gJycnb1vPnj1x//59bNiwIW9bXFwcfvvtN3Tr1q3Q/plkH1h+6rD81GH5aRyWn0RENsbaE8GTTq9evYSTk5P4v//7P7FkyRLRokUL4eTkJA4cOJD3mtatWwt9/tkAiHfeecec4ZqVseciPT1d1K1bVzg7O4uxY8eKhQsXiqZNmwqVSiX++OMPS38NkzD2XEybNk0AEI0aNRLz588Xn3/+uahdu7YAINasWWPpr2EyixYtElOnThXDhw8XAESPHj3E1KlTxdSpU0VSUpIQQoiwsDABQERGRuYdl5ubK5o1aya8vLzElClTxNdffy3q1q0rvL29xZUrV6z0bchUWH7qsPzUYfmZH8tPIiL7w4TdhmRkZIixY8eK8uXLC1dXV9G0aVOxffv2fK8pKRecxTkX9+/fF2FhYaJ06dLC1dVVhIaGFjjWnhTnXKxdu1aEhIQIPz8/4e7uLkJDQ8W6dessFbpZVKlSRQAodNFeYBZ2wSmEEAkJCWLw4MHC399feHh4iNatW4sTJ05Y/kuQybH81GH5qcPyMz+Wn0RE9kchhBDmrMEnIiIiIiIiIsOxDzsRERERERGRDWLCTkRERERERGSDmLATERERERER2SAm7EREREREREQ2iAk7ERERERERkQ1iwk5ERERERERkg5iwExEREREREdkgJuxERERERERENogJOxEREREREZENYsJOREREREREZIOYsJNBVq5cCYVCgaioKIt83uTJk6FQKKx2vLWYK+45c+agVq1a0Gg0Jn9vfSxevBiVK1dGVlaWVT6fyJpYfloGy08iInIkTNhtjPaC7uTJk9YORW9HjhzB5MmTkZSUZO1Q6AlSUlIwe/ZsjB8/Hkqldf7rDxgwANnZ2ViyZIlVPp8cG8tPMheWn0REZC1M2Mkgb775JjIyMlClSpW8bUeOHMGUKVN4wWnjli9fjtzcXPTr189qMbi5uSEsLAzz5s2DEMJqcRBZA8tP+8Xyk4iIrIUJOxlEpVLBzc3NLptJlnQrVqzAyy+/DDc3N6vG0bt3b9y6dQv79u2zahxElsby036x/CQiImthwm6nzpw5g86dO8PHxwdeXl548cUXER4enu812n58169fx4ABA+Dn5wdfX18MHDgQ6enp+V67f/9+PPvss3Bzc0NwcDCWLFlSaD/A//bBnDx5Mv7v//4PAFCtWjUoFIq8/QMGDEDVqlULxP64/oWHDx9G06ZN88VgCH2Pv3PnDgYNGoRy5crB1dUVdevWxfLly/X+HFOfe33jvnXrFkaMGIGaNWvC3d0d/v7+6NWrl179YSMjI3Hu3Dm0a9eu0P1BQUHo379/ge1t27ZF69at832niIgI9O/fH76+vggICMDEiRMhhMDt27fRvXt3+Pj4oHz58vjiiy8K/awmTZqgdOnS2LRpU5FxE5kDy8+CWH4+HstPIiKyJidrB0CGu3jxIp5//nn4+Phg3LhxcHZ2xpIlS9CmTRscOHAAoaGh+V7fu3dvVKtWDTNnzsTp06fx/fffo2zZspg9ezYAeQHVqVMnBAYGYsqUKVCr1fjss88QEBBQZCw9evRAREQEfvrpJ8yfPx9lypQBAL2OfdT58+fRoUMHBAQEYPLkycjNzcWkSZNQrlw5kx5///59NGvWDAqFAu+++y4CAgLw559/YvDgwUhJScF77733xM8x9bk35HufOHECR44cQd++fVGxYkVERUXh22+/RZs2bXDp0iV4eHg8Nu4jR44AABo3blxgX1paGqKiojB8+PAC+86dO4fXX38937Y+ffqgdu3amDVrFrZt24Zp06ahdOnSWLJkCV544QXMnj0ba9euxdixY9G0aVO0atWqwPs2btwYf/3112PjJTIXlp/GH8/yk+UnERFZgSCbsmLFCgFAnDhx4rGveeWVV4SLi4u4ceNG3ra7d+8Kb29v0apVq7xtkyZNEgDEoEGD8h3/6quvCn9//7zn3bp1Ex4eHuLOnTt5265duyacnJzEf/9EtPFFRkbmbZs7d26BbUIIERYWJqpUqVIgfm1c//1Obm5u4tatW3nbLl26JFQqVYHXFkbf4wcPHiwCAwNFXFxcvuP79u0rfH19RXp6epGfY8pzb8j3Liy2o0ePCgBi1apVT4z7k08+EQBEamrqY99jx44d+bbfvn1bABBLly7N952GDh2a95rc3FxRsWJFoVAoxKxZs/K2JyYmCnd3dxEWFlZoPEOHDhXu7u5PjJnIUCw/WX6y/CQiIkfDJvF2Rq1WY+fOnXjllVcQFBSUtz0wMBCvv/46Dh8+jJSUlHzH/O9//8v3/Pnnn0d8fDxSUlKgVquxe/duvPLKK6hQoULea6pXr47OnTub98v8S61WY8eOHXjllVdQuXLlvO21a9dGx44dTXa8EALr169Ht27dIIRAXFxc3tKxY0ckJyfj9OnTT/wcU597Q763u7t73uOcnBzEx8ejevXq8PPze2LcABAfHw8nJyd4eXkV2HfhwgUAwDPPPJNv+99//w0AaNCgQb7tQ4YMyXusUqnw7LPPQgiBwYMH52338/NDzZo1cfPmzULjKVWqFDIyMgo0byUyJ5afxh/P8pPlJxERWQcTdjvz4MEDpKeno2bNmgX21a5dGxqNBrdv3863/dGLGUD+2ANAYmIiYmNjkZGRgerVqxd4v8K2mcODBw+QkZGBp59+usC+wr6nscc/ePAASUlJWLp0KQICAvItAwcOBADExsY+8XNMee4N/d4ZGRn49NNPUalSJbi6uqJMmTIICAhAUlISkpOTHxt3Uc6fP49y5coVaEZ67tw5KJVK1KtX74nfydfXF25ubnnNeR/dnpiYWOhnin9HOObgW2RJLD+NP57lZ+FYfhIRkbmxD3sJoFKpCt0uzDwtzOMuJtRqtVk/93E0Gg0AoH///ggLCyv0Nf+tDSkuU577kSNHYsWKFXjvvffQvHlz+Pr6QqFQoG/fvnnf7XH8/f2Rm5uL1NRUeHt759t34cKFArVDAHD27FkEBQXB09Mz3/bCvpOh3zMxMREeHh75ar2IbBHLT4nlJ8tPIiKyDibsdiYgIAAeHh64evVqgX1XrlyBUqlEpUqV9H6/smXLws3NDdevXy+wr7BthXnchWWpUqUKnVv41q1b+Z4HBATA3d0d165dK/Dawr7nf+l7fEBAALy9vaFWqx872m9Rn2PKc2/o9163bh3CwsLyjR6cmZmp1/zNtWrVAiBHO/7vRfX58+fRp0+ffNs0Gg327t1b6IBHphAZGYnatWub5b2JHoflZ0EsP5OK/CyWn0REZE1sEm9nVCoVOnTogE2bNuWbjub+/fv48ccf8dxzz8HHx8eg92vXrh1+//133L17N2/79evX8eeff+r1HtoahP9e+AQHByM5ORnnzp3L2xYTE4ONGzcWiKFjx474/fffER0dnbf98uXL2LFjh17fQZ/jVSoVXnvtNaxfvz6v3+GjHjx4UOTnmPrcG/K9VSpVgRqXRYsW6VXj1rx5cwDAyZMn822PjY3FgwcPEBMTk2/7woULERcXh/r16+v9fQxx+vRptGjRwizvTfQ4LD8L/w4sP5+M5ScREVkTa9ht1PLly7F9+/YC20ePHo1p06Zh165deO655zBixAg4OTlhyZIlyMrKwpw5cwz+rMmTJ2Pnzp1o2bIlhg8fDrVaja+++gr16tXD2bNnizy+SZMmAICPP/4Yffv2hbOzM7p164a+ffti/PjxePXVVzFq1Cikp6fj22+/RY0aNQoM8jNlyhRs374dzz//PEaMGIHc3FwsWrQIdevWzXfB+jj6Hj9r1izs27cPoaGhePvtt1GnTh0kJCTg9OnT2L17NxISEp74OaY+94Z8765du2L16tXw9fVFnTp1cPToUezevRv+/v5Ffk5QUBDq1auH3bt3Y9CgQXnbz58/DwDYuXMnRowYgVq1aiE8PDzvgvfUqVM4duxYgemWiuPUqVNISEhA9+7dTfaeRI9i+cnyk+UnERE5DMsPTE9Pop3253HL7du3hRBCnD59WnTs2FF4eXkJDw8P0bZtW3HkyJF876WdRubBgweFfsaj0wjt2bNHNGrUSLi4uIjg4GDx/fffizFjxgg3N7cijxVCiKlTp4qnnnpKKJXKfPt37twp6tWrJ1xcXETNmjXFmjVrCp2WSAghDhw4IJo0aSJcXFxEUFCQWLx48WNfWxh9j79//7545513RKVKlYSzs7MoX768ePHFF/Om3ymKqc+9vnEnJiaKgQMHijJlyggvLy/RsWNHceXKFVGlSpXHTv/zqHnz5gkvL6980xvNnz9fqFQqsW3bNhEcHCzc3NxE+/btxfnz50VwcLCoWLGiOHXq1BO/U1hYmPD09Czwea1btxZ169YtsH38+PGicuXKQqPRFBkzkSFYfrL8ZPlJRESORiGEmUfOIbv1yiuv4OLFi4X2EST7k5ycjKCgIMyZMydvCqEhQ4bg4MGDiIiIsEgMWVlZqFq1Kj788EOMHj3aIp9JZA0sPx0Ly08iIrIW9mEnAHLKm0ddu3YNf/zxB9q0aWOdgMjkfH19MW7cOMydOzdvVOTz58+jTp06FothxYoVcHZ2LjC/MpE9Y/np+Fh+EhGRtbCGnQAAgYGBGDBgAIKCgnDr1i18++23yMrKwpkzZwqd55bsnxACPj4+GDlyJGbMmGHtcIjsFsvPkoflJxERWQoHnSMAQKdOnfDTTz/h3r17cHV1RfPmzTFjxgxebDqwyMhIpKWlWbSGiMgRsfwseVh+EhGRpbCGnYiIiIiIiMgGsQ87ERERERERkQ1iwk5ERERERERkg5iwExEREREREdkgJuxERERERERENogJOxEREREREZENYsJOREREREREZIOYsBMRERERERHZICbsRERERERERDaICTsRERERERGRDWLCTkRERERERGSDmLATERERERER2aD/B7y+DHXQS0mJAAAAAElFTkSuQmCC",
          "text/plain": "<Figure size 1200x300 with 3 Axes>"
         },
         "metadata": {},
         "output_type": "display_data"
        }
       ]
      }
     },
     "95ecb7622c104091b2621a90ddfd9540": {
      "model_module": "@jupyter-widgets/controls",
      "model_module_version": "1.5.0",
      "model_name": "SliderStyleModel",
      "state": {
       "_model_module": "@jupyter-widgets/controls",
       "_model_module_version": "1.5.0",
       "_model_name": "SliderStyleModel",
       "_view_count": null,
       "_view_module": "@jupyter-widgets/base",
       "_view_module_version": "1.2.0",
       "_view_name": "StyleView",
       "description_width": "",
       "handle_color": null
      }
     },
     "98be8dcec8db4e0daf339ba629e35205": {
      "model_module": "@jupyter-widgets/base",
      "model_module_version": "1.2.0",
      "model_name": "LayoutModel",
      "state": {
       "_model_module": "@jupyter-widgets/base",
       "_model_module_version": "1.2.0",
       "_model_name": "LayoutModel",
       "_view_count": null,
       "_view_module": "@jupyter-widgets/base",
       "_view_module_version": "1.2.0",
       "_view_name": "LayoutView",
       "align_content": null,
       "align_items": null,
       "align_self": null,
       "border": null,
       "bottom": null,
       "display": null,
       "flex": null,
       "flex_flow": null,
       "grid_area": null,
       "grid_auto_columns": null,
       "grid_auto_flow": null,
       "grid_auto_rows": null,
       "grid_column": null,
       "grid_gap": null,
       "grid_row": null,
       "grid_template_areas": null,
       "grid_template_columns": null,
       "grid_template_rows": null,
       "height": null,
       "justify_content": null,
       "justify_items": null,
       "left": null,
       "margin": null,
       "max_height": null,
       "max_width": null,
       "min_height": null,
       "min_width": null,
       "object_fit": null,
       "object_position": null,
       "order": null,
       "overflow": null,
       "overflow_x": null,
       "overflow_y": null,
       "padding": null,
       "right": null,
       "top": null,
       "visibility": null,
       "width": null
      }
     },
     "9a39aa5bac424ee5a35eb2f9a49476c9": {
      "model_module": "@jupyter-widgets/controls",
      "model_module_version": "1.5.0",
      "model_name": "FloatSliderModel",
      "state": {
       "_dom_classes": [],
       "_model_module": "@jupyter-widgets/controls",
       "_model_module_version": "1.5.0",
       "_model_name": "FloatSliderModel",
       "_view_count": null,
       "_view_module": "@jupyter-widgets/controls",
       "_view_module_version": "1.5.0",
       "_view_name": "FloatSliderView",
       "continuous_update": true,
       "description": "theta_sun",
       "description_tooltip": null,
       "disabled": false,
       "layout": "IPY_MODEL_059b35bf6a9d4a24b21f468f432390a1",
       "max": 89.99,
       "min": 0.0,
       "orientation": "horizontal",
       "readout": true,
       "readout_format": ".2f",
       "step": 0.1,
       "style": "IPY_MODEL_82d292ffcefc43e1b36c9e55c6876d7a",
       "value": 0.0
      }
     },
     "a0b5bade9919475ca150e10c79d0a6db": {
      "model_module": "@jupyter-widgets/base",
      "model_module_version": "1.2.0",
      "model_name": "LayoutModel",
      "state": {
       "_model_module": "@jupyter-widgets/base",
       "_model_module_version": "1.2.0",
       "_model_name": "LayoutModel",
       "_view_count": null,
       "_view_module": "@jupyter-widgets/base",
       "_view_module_version": "1.2.0",
       "_view_name": "LayoutView",
       "align_content": null,
       "align_items": null,
       "align_self": null,
       "border": null,
       "bottom": null,
       "display": null,
       "flex": null,
       "flex_flow": null,
       "grid_area": null,
       "grid_auto_columns": null,
       "grid_auto_flow": null,
       "grid_auto_rows": null,
       "grid_column": null,
       "grid_gap": null,
       "grid_row": null,
       "grid_template_areas": null,
       "grid_template_columns": null,
       "grid_template_rows": null,
       "height": null,
       "justify_content": null,
       "justify_items": null,
       "left": null,
       "margin": null,
       "max_height": null,
       "max_width": null,
       "min_height": null,
       "min_width": null,
       "object_fit": null,
       "object_position": null,
       "order": null,
       "overflow": null,
       "overflow_x": null,
       "overflow_y": null,
       "padding": null,
       "right": null,
       "top": null,
       "visibility": null,
       "width": null
      }
     },
     "b0134cfb154d4b63933514b3bfd6da7c": {
      "model_module": "@jupyter-widgets/controls",
      "model_module_version": "1.5.0",
      "model_name": "SliderStyleModel",
      "state": {
       "_model_module": "@jupyter-widgets/controls",
       "_model_module_version": "1.5.0",
       "_model_name": "SliderStyleModel",
       "_view_count": null,
       "_view_module": "@jupyter-widgets/base",
       "_view_module_version": "1.2.0",
       "_view_name": "StyleView",
       "description_width": "",
       "handle_color": null
      }
     },
     "bf8204b9aefa41d9ad9da815191bb94b": {
      "model_module": "@jupyter-widgets/base",
      "model_module_version": "1.2.0",
      "model_name": "LayoutModel",
      "state": {
       "_model_module": "@jupyter-widgets/base",
       "_model_module_version": "1.2.0",
       "_model_name": "LayoutModel",
       "_view_count": null,
       "_view_module": "@jupyter-widgets/base",
       "_view_module_version": "1.2.0",
       "_view_name": "LayoutView",
       "align_content": null,
       "align_items": null,
       "align_self": null,
       "border": null,
       "bottom": null,
       "display": null,
       "flex": null,
       "flex_flow": null,
       "grid_area": null,
       "grid_auto_columns": null,
       "grid_auto_flow": null,
       "grid_auto_rows": null,
       "grid_column": null,
       "grid_gap": null,
       "grid_row": null,
       "grid_template_areas": null,
       "grid_template_columns": null,
       "grid_template_rows": null,
       "height": null,
       "justify_content": null,
       "justify_items": null,
       "left": null,
       "margin": null,
       "max_height": null,
       "max_width": null,
       "min_height": null,
       "min_width": null,
       "object_fit": null,
       "object_position": null,
       "order": null,
       "overflow": null,
       "overflow_x": null,
       "overflow_y": null,
       "padding": null,
       "right": null,
       "top": null,
       "visibility": null,
       "width": null
      }
     },
     "c399295546294a22be8931579c0c7ebd": {
      "model_module": "@jupyter-widgets/controls",
      "model_module_version": "1.5.0",
      "model_name": "FloatSliderModel",
      "state": {
       "_dom_classes": [],
       "_model_module": "@jupyter-widgets/controls",
       "_model_module_version": "1.5.0",
       "_model_name": "FloatSliderModel",
       "_view_count": null,
       "_view_module": "@jupyter-widgets/controls",
       "_view_module_version": "1.5.0",
       "_view_name": "FloatSliderView",
       "continuous_update": true,
       "description": "sig",
       "description_tooltip": null,
       "disabled": false,
       "layout": "IPY_MODEL_a0b5bade9919475ca150e10c79d0a6db",
       "max": 1.0,
       "min": 0.0,
       "orientation": "horizontal",
       "readout": true,
       "readout_format": ".2f",
       "step": 0.01,
       "style": "IPY_MODEL_d3c8b74b1cb44d58a0942e006c5b6904",
       "value": 0.3
      }
     },
     "ce5eceb764d9411c841af1befd77509b": {
      "model_module": "@jupyter-widgets/controls",
      "model_module_version": "1.5.0",
      "model_name": "VBoxModel",
      "state": {
       "_dom_classes": [
        "widget-interact"
       ],
       "_model_module": "@jupyter-widgets/controls",
       "_model_module_version": "1.5.0",
       "_model_name": "VBoxModel",
       "_view_count": null,
       "_view_module": "@jupyter-widgets/controls",
       "_view_module_version": "1.5.0",
       "_view_name": "VBoxView",
       "box_style": "",
       "children": [
        "IPY_MODEL_4c45e2f72b524fd1b2e79aa0ec3f25ce",
        "IPY_MODEL_4bb6e0d9999a40d09f6eaaba3600ec8d",
        "IPY_MODEL_8564db833d064ded900097478ffd1f44"
       ],
       "layout": "IPY_MODEL_bf8204b9aefa41d9ad9da815191bb94b"
      }
     },
     "cedd617ca24d4ac7a579fe17a2579a2b": {
      "model_module": "@jupyter-widgets/controls",
      "model_module_version": "1.5.0",
      "model_name": "SliderStyleModel",
      "state": {
       "_model_module": "@jupyter-widgets/controls",
       "_model_module_version": "1.5.0",
       "_model_name": "SliderStyleModel",
       "_view_count": null,
       "_view_module": "@jupyter-widgets/base",
       "_view_module_version": "1.2.0",
       "_view_name": "StyleView",
       "description_width": "",
       "handle_color": null
      }
     },
     "d274295e995b4c1883090215b6365c43": {
      "model_module": "@jupyter-widgets/output",
      "model_module_version": "1.0.0",
      "model_name": "OutputModel",
      "state": {
       "_dom_classes": [],
       "_model_module": "@jupyter-widgets/output",
       "_model_module_version": "1.0.0",
       "_model_name": "OutputModel",
       "_view_count": null,
       "_view_module": "@jupyter-widgets/output",
       "_view_module_version": "1.0.0",
       "_view_name": "OutputView",
       "layout": "IPY_MODEL_4cc772869d994722ad9ec18c11913106",
       "msg_id": "",
       "outputs": [
        {
         "data": {
          "image/png": "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",
          "text/plain": "<Figure size 600x400 with 2 Axes>"
         },
         "metadata": {},
         "output_type": "display_data"
        }
       ]
      }
     },
     "d2a2d2fd9bed4be4916a44d1db75204d": {
      "model_module": "@jupyter-widgets/output",
      "model_module_version": "1.0.0",
      "model_name": "OutputModel",
      "state": {
       "_dom_classes": [],
       "_model_module": "@jupyter-widgets/output",
       "_model_module_version": "1.0.0",
       "_model_name": "OutputModel",
       "_view_count": null,
       "_view_module": "@jupyter-widgets/output",
       "_view_module_version": "1.0.0",
       "_view_name": "OutputView",
       "layout": "IPY_MODEL_82c124df0e164b3489514665a4a24011",
       "msg_id": "",
       "outputs": [
        {
         "data": {
          "image/png": "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",
          "text/plain": "<Figure size 600x300 with 1 Axes>"
         },
         "metadata": {},
         "output_type": "display_data"
        }
       ]
      }
     },
     "d3c8b74b1cb44d58a0942e006c5b6904": {
      "model_module": "@jupyter-widgets/controls",
      "model_module_version": "1.5.0",
      "model_name": "SliderStyleModel",
      "state": {
       "_model_module": "@jupyter-widgets/controls",
       "_model_module_version": "1.5.0",
       "_model_name": "SliderStyleModel",
       "_view_count": null,
       "_view_module": "@jupyter-widgets/base",
       "_view_module_version": "1.2.0",
       "_view_name": "StyleView",
       "description_width": "",
       "handle_color": null
      }
     },
     "da3841fc68c64e69ba22e7df4307826b": {
      "model_module": "@jupyter-widgets/base",
      "model_module_version": "1.2.0",
      "model_name": "LayoutModel",
      "state": {
       "_model_module": "@jupyter-widgets/base",
       "_model_module_version": "1.2.0",
       "_model_name": "LayoutModel",
       "_view_count": null,
       "_view_module": "@jupyter-widgets/base",
       "_view_module_version": "1.2.0",
       "_view_name": "LayoutView",
       "align_content": null,
       "align_items": null,
       "align_self": null,
       "border": null,
       "bottom": null,
       "display": null,
       "flex": null,
       "flex_flow": null,
       "grid_area": null,
       "grid_auto_columns": null,
       "grid_auto_flow": null,
       "grid_auto_rows": null,
       "grid_column": null,
       "grid_gap": null,
       "grid_row": null,
       "grid_template_areas": null,
       "grid_template_columns": null,
       "grid_template_rows": null,
       "height": null,
       "justify_content": null,
       "justify_items": null,
       "left": null,
       "margin": null,
       "max_height": null,
       "max_width": null,
       "min_height": null,
       "min_width": null,
       "object_fit": null,
       "object_position": null,
       "order": null,
       "overflow": null,
       "overflow_x": null,
       "overflow_y": null,
       "padding": null,
       "right": null,
       "top": null,
       "visibility": null,
       "width": null
      }
     },
     "e407d9793a41465ebc762737ca4431ea": {
      "model_module": "@jupyter-widgets/controls",
      "model_module_version": "1.5.0",
      "model_name": "VBoxModel",
      "state": {
       "_dom_classes": [
        "widget-interact"
       ],
       "_model_module": "@jupyter-widgets/controls",
       "_model_module_version": "1.5.0",
       "_model_name": "VBoxModel",
       "_view_count": null,
       "_view_module": "@jupyter-widgets/controls",
       "_view_module_version": "1.5.0",
       "_view_name": "VBoxView",
       "box_style": "",
       "children": [
        "IPY_MODEL_2c30036fa2834a0e84c784e608a0561d",
        "IPY_MODEL_f604591076a74525a408c1bc0ae0f1f9",
        "IPY_MODEL_c399295546294a22be8931579c0c7ebd",
        "IPY_MODEL_d2a2d2fd9bed4be4916a44d1db75204d"
       ],
       "layout": "IPY_MODEL_da3841fc68c64e69ba22e7df4307826b"
      }
     },
     "e591b5b0578f4e6e978c8988c1050cbc": {
      "model_module": "@jupyter-widgets/base",
      "model_module_version": "1.2.0",
      "model_name": "LayoutModel",
      "state": {
       "_model_module": "@jupyter-widgets/base",
       "_model_module_version": "1.2.0",
       "_model_name": "LayoutModel",
       "_view_count": null,
       "_view_module": "@jupyter-widgets/base",
       "_view_module_version": "1.2.0",
       "_view_name": "LayoutView",
       "align_content": null,
       "align_items": null,
       "align_self": null,
       "border": null,
       "bottom": null,
       "display": null,
       "flex": null,
       "flex_flow": null,
       "grid_area": null,
       "grid_auto_columns": null,
       "grid_auto_flow": null,
       "grid_auto_rows": null,
       "grid_column": null,
       "grid_gap": null,
       "grid_row": null,
       "grid_template_areas": null,
       "grid_template_columns": null,
       "grid_template_rows": null,
       "height": null,
       "justify_content": null,
       "justify_items": null,
       "left": null,
       "margin": null,
       "max_height": null,
       "max_width": null,
       "min_height": null,
       "min_width": null,
       "object_fit": null,
       "object_position": null,
       "order": null,
       "overflow": null,
       "overflow_x": null,
       "overflow_y": null,
       "padding": null,
       "right": null,
       "top": null,
       "visibility": null,
       "width": null
      }
     },
     "f604591076a74525a408c1bc0ae0f1f9": {
      "model_module": "@jupyter-widgets/controls",
      "model_module_version": "1.5.0",
      "model_name": "FloatSliderModel",
      "state": {
       "_dom_classes": [],
       "_model_module": "@jupyter-widgets/controls",
       "_model_module_version": "1.5.0",
       "_model_name": "FloatSliderModel",
       "_view_count": null,
       "_view_module": "@jupyter-widgets/controls",
       "_view_module_version": "1.5.0",
       "_view_name": "FloatSliderView",
       "continuous_update": true,
       "description": "t",
       "description_tooltip": null,
       "disabled": false,
       "layout": "IPY_MODEL_6473387334be4a78a2ff236394b02f10",
       "max": 10.0,
       "min": -10.0,
       "orientation": "horizontal",
       "readout": true,
       "readout_format": ".2f",
       "step": 0.1,
       "style": "IPY_MODEL_cedd617ca24d4ac7a579fe17a2579a2b",
       "value": 0.0
      }
     }
    },
    "version_major": 2,
    "version_minor": 0
   }
  }
 },
 "nbformat": 4,
 "nbformat_minor": 5
}