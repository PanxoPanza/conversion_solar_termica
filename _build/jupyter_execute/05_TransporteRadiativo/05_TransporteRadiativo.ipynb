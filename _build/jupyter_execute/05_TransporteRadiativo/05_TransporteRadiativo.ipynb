{
 "cells": [
  {
   "cell_type": "markdown",
   "id": "8b01ca79",
   "metadata": {
    "slideshow": {
     "slide_type": "slide"
    }
   },
   "source": [
    " <font size=\"6\">MEC501 - Manejo y Conversión de Energía Solar Térmica</font>\n",
    "# Transporte Radiativo\n",
    "<br><br><br><br>\n",
    "Profesor: Francisco Ramírez Cuevas<br>\n",
    "Fecha: 9 de Septiembre 2022"
   ]
  },
  {
   "cell_type": "markdown",
   "id": "9ff4cae4",
   "metadata": {
    "slideshow": {
     "slide_type": "slide"
    }
   },
   "source": [
    "## Coherencia de la luz e interferencia\n",
    "Como veremos en las próximas clases, las vibraciones moleculares en la materia son las responsables de emitir radiación en forma de ondas electromagnéticas. El mecanismo es similar, pero inverso, al mecanismo de absorción de luz, el cual es originado por la interacción de ondas electromagnéticas con las vibraciones moleculares (ver clase 3)."
   ]
  },
  {
   "cell_type": "markdown",
   "id": "bcb7cf39",
   "metadata": {
    "slideshow": {
     "slide_type": "fragment"
    }
   },
   "source": [
    "Dicho esto, dos moléculas pueden emitir radiación con una pequeña variación en la longitud de onda $\\Delta\\lambda$. Esto ocurre porque las vibraciones no están 100% correlacionadas, es decir, existe un grado de aletoriedad en las vibraciones."
   ]
  },
  {
   "cell_type": "markdown",
   "id": "16081fa2",
   "metadata": {
    "slideshow": {
     "slide_type": "slide"
    }
   },
   "source": [
    "Esta aletoriedad en las vibraciones da lugar a una distribución del flujo de radiación emitido por una fuente.\n",
    "\n",
    "<img src=\"./images/light_source_spectra.png\" width=\"800px\" align= center>"
   ]
  },
  {
   "cell_type": "markdown",
   "id": "b54cf722",
   "metadata": {
    "slideshow": {
     "slide_type": "slide"
    }
   },
   "source": [
    "Por ejemplo, consideremos una fuente de luz con una distribución espectral normal, centrada en $\\lambda_0$ y con una desviación estandar $\\pm\\sigma_\\lambda\\lambda_0$, con $\\sigma_\\lambda \\in [0,1]$. Imaginemos esta fuente como $N$ emisores, donde cada emisor $j$ emite ondas electromagnéticas con longitud de onda $\\lambda \\pm\\Delta \\lambda_j$, donde $\\Delta \\lambda_j$ es escogido aleatoriamente a partir de la distribución normal."
   ]
  },
  {
   "cell_type": "markdown",
   "id": "31f81723",
   "metadata": {
    "cell_style": "split",
    "slideshow": {
     "slide_type": "fragment"
    }
   },
   "source": [
    "<img src=\"./images/normal_distribution.png\" width=\"400px\" align= center>"
   ]
  },
  {
   "cell_type": "markdown",
   "id": "76d68ef4",
   "metadata": {
    "cell_style": "split",
    "slideshow": {
     "slide_type": "fragment"
    }
   },
   "source": [
    "Asumiendo ondas en el aire en dirección $\\hat{k} = \\hat{x}$, el campo eléctrico resultante es:\n",
    "\n",
    "\\begin{equation*}\n",
    "\\vec{E}_\\mathrm{tot} = \\sum_j^N E_0e^{i\\left(k_jx - \\omega_j t\\right)} \\hat{z},\n",
    "\\end{equation*}\n",
    "\n",
    "donde $k_j = \\frac{2\\pi}{\\lambda \\pm\\Delta \\lambda_j}$, y $\\omega_j = c_0k_j$"
   ]
  },
  {
   "cell_type": "markdown",
   "id": "e5e55e68",
   "metadata": {
    "cell_style": "center",
    "slideshow": {
     "slide_type": "fragment"
    }
   },
   "source": [
    "Analicemos el comportamiento de $\\vec{E}_\\mathrm{tot} /E_0$ para $\\lambda_0 = 500$ nm"
   ]
  },
  {
   "cell_type": "code",
   "execution_count": 1,
   "id": "37df7e74",
   "metadata": {
    "cell_style": "split",
    "slideshow": {
     "slide_type": "slide"
    },
    "tags": [
     "hide-input"
    ]
   },
   "outputs": [],
   "source": [
    "import numpy as np\n",
    "from numpy.random import normal\n",
    "import matplotlib.pyplot as plt\n",
    "\n",
    "def light_packet(kdir, x, t, lam, sig, N):\n",
    "    c0 = 3E8          # velocidad de la luz (m/s)\n",
    "    xx = np.meshgrid(x,np.ones(N))[0]\n",
    "    \n",
    "    # Generamos arreglo de ondas aleatorias\n",
    "    dlamj =  normal(0, lam*sig,N)\n",
    "    kj = (2*np.pi/(lam + dlamj)).reshape(-1,1)\n",
    "    wj = c0*kj\n",
    "    Erand = np.exp(1j*(kdir*kj*xx-wj*t)) \n",
    "    \n",
    "    # Sumamos todas las ondas\n",
    "    return np.sum(Erand,axis=0)\n",
    " \n",
    "def plot_light_packet(N, t, sig):\n",
    "    '''\n",
    "    n: número de ondas generadas\n",
    "    t: tiempo en ns\n",
    "    sig: % de ancho de banda (dlam = sig*lam)\n",
    "    '''\n",
    "    lam = 0.5         # longitud de onda (um)\n",
    "    t = t*1E-9 # convertimos ns a s\n",
    "    \n",
    "    # recorrido de la onda\n",
    "    x = np.linspace(-2,2,1000)  # desde 0 a 4 micrones\n",
    "    E = light_packet(1, x, t, lam, sig, N)\n",
    "    \n",
    "    # Graficamos\n",
    "    fig, ax = plt.subplots()\n",
    "    fig.set_size_inches(9, 5)\n",
    "    plt.rcParams['font.size'] = '18'\n",
    "    \n",
    "    ax.plot(x,np.real(E), 'k')\n",
    "    ax.set_xlabel('x ($\\mu$m)')\n",
    "    ax.set_ylabel('Amplitud $|E|/E_0$')\n",
    "    ax.set_ylim(-N*1.1,N*1.1)\n",
    "    ax.grid()\n"
   ]
  },
  {
   "cell_type": "code",
   "execution_count": 2,
   "id": "5c81aca7",
   "metadata": {
    "cell_style": "split",
    "slideshow": {
     "slide_type": "fragment"
    },
    "tags": [
     "hide-input"
    ]
   },
   "outputs": [
    {
     "data": {
      "application/vnd.jupyter.widget-view+json": {
       "model_id": "7c2a1f2e249c4426bc4bd44464772e2e",
       "version_major": 2,
       "version_minor": 0
      },
      "text/plain": [
       "interactive(children=(IntSlider(value=1000, description='N', max=1000, min=1), FloatSlider(value=0.0, descript…"
      ]
     },
     "metadata": {},
     "output_type": "display_data"
    }
   ],
   "source": [
    "from ipywidgets import interact\n",
    "\n",
    "@interact( N=(1,1000,1), \n",
    "           t=(-10,10,0.1),\n",
    "           sig=(0,1,0.01))\n",
    "def g(N=1000, t=0, sig=0.3):\n",
    "    return plot_light_packet(N,t,sig)"
   ]
  },
  {
   "cell_type": "markdown",
   "id": "b53bb755",
   "metadata": {
    "slideshow": {
     "slide_type": "slide"
    }
   },
   "source": [
    "### Longitud de coherencia\n",
    "Definimos como **longitud de coherencia**, $l_c$, a la distancia donde un grupo de ondas electromagnética mantiene correlación entre las fases. Para longitudes mayores a $l_c$, decimos que la luz es incoherente, es decir, el desface entre las distintas ondas es completamente aleatorio."
   ]
  },
  {
   "cell_type": "markdown",
   "id": "3ea340f8",
   "metadata": {
    "cell_style": "split",
    "slideshow": {
     "slide_type": "fragment"
    }
   },
   "source": [
    "<img src=\"./images/coherence_length.png\" width=\"300px\" align= center>\n",
    "\n",
    "<center>Esquema de un paquete de onda emitido por una fuente con longitud de coherencia $l_c$</center>"
   ]
  },
  {
   "cell_type": "markdown",
   "id": "1f71b46f",
   "metadata": {
    "cell_style": "split",
    "slideshow": {
     "slide_type": "fragment"
    }
   },
   "source": [
    "La relación entre $l_c$, la longitud de onda central $\\lambda$ y el ancho de banda $\\Delta\\lambda$ está dado, aproximadamente, por la relación:\n",
    "\n",
    "\\begin{equation*}\n",
    "l_c \\approx \\frac{\\lambda^2}{n\\Delta \\lambda},\n",
    "\\end{equation*}\n",
    "\n",
    "donde $n$ es el indice de refracción del medio donde se propaga la luz.\n",
    "\n",
    "Por ejemplo, para lasers He-Ne (laser rojo)  $l_c\\approx 0.2 - 100$ m.  "
   ]
  },
  {
   "cell_type": "markdown",
   "id": "b8e319bd",
   "metadata": {
    "slideshow": {
     "slide_type": "slide"
    }
   },
   "source": [
    "Para radiación emitida por un cuerpo a temperatura $T$, la longitud de coherencia está dada por:\n",
    "\n",
    "\\begin{equation*}\n",
    "l_c T = 2167.8~\\mathrm{\\mu m~K}\n",
    "\\end{equation*}\n",
    "\n",
    "Así, por ejemplo, la radiación solar ($T \\approx 5800~\\mathrm{K}$) tiene una longitud de coherencia, $l_c \\approx 370~\\mathrm{nm}$"
   ]
  },
  {
   "cell_type": "markdown",
   "id": "659f7454",
   "metadata": {
    "slideshow": {
     "slide_type": "slide"
    }
   },
   "source": [
    "### Régimen de trasporte de luz\n",
    "Consideremos dos paquetes de onda con una longitud de coherencia $l_c$, viajando en sentido opuesto."
   ]
  },
  {
   "cell_type": "markdown",
   "id": "1b6928bc",
   "metadata": {
    "slideshow": {
     "slide_type": "fragment"
    }
   },
   "source": [
    "Podemos ver que ambos paquetes de luz interfieren en $x = 0$ en un instante $t$. Al continuar su camino, ambos paquetes de onda recuperan su forma original."
   ]
  },
  {
   "cell_type": "code",
   "execution_count": 3,
   "id": "8b9e3e63",
   "metadata": {
    "cell_style": "split",
    "slideshow": {
     "slide_type": "slide"
    },
    "tags": [
     "hide-input"
    ]
   },
   "outputs": [],
   "source": [
    "def plot_2light_packet(n, t, sig):\n",
    "    '''\n",
    "    n: número de ondas generadas\n",
    "    t: tiempo en ns\n",
    "    sig: % de ancho de banda (dlam = sig*lam)\n",
    "    '''\n",
    "    t = t*1E-9 # convertimos ns a s\n",
    "    lam = 0.5\n",
    "    \n",
    "    # recorrido de la onda\n",
    "    x = np.linspace(-2,2,1000)  # desde 0 a 4 micrones\n",
    "    k0 = 2*np.pi/lam\n",
    "    Efw = light_packet( 1, x - x[ 0], t, lam, sig, n)\n",
    "    Ebw = light_packet(-1, x - x[-1], t, lam, sig, n)\n",
    "    \n",
    "    # Graficamos\n",
    "    fig, ax = plt.subplots()\n",
    "    fig.set_size_inches(9, 5)\n",
    "    plt.rcParams['font.size'] = '18'\n",
    "    \n",
    "    ax.plot(x,np.real(Efw + Ebw), 'k')\n",
    "    ax.set_xlabel('x ($\\mu$m)')\n",
    "    ax.set_ylabel('Amplitud $|E|/E_0$')\n",
    "    ax.set_ylim(-n*2.1,n*2.1)\n",
    "    ax.grid()\n"
   ]
  },
  {
   "cell_type": "code",
   "execution_count": 4,
   "id": "977daeda",
   "metadata": {
    "cell_style": "split",
    "tags": [
     "hide-input"
    ]
   },
   "outputs": [
    {
     "data": {
      "application/vnd.jupyter.widget-view+json": {
       "model_id": "0937981c721648a09b810a328a0f3810",
       "version_major": 2,
       "version_minor": 0
      },
      "text/plain": [
       "interactive(children=(IntSlider(value=1000, description='N', max=1000, min=1), FloatSlider(value=2.0, descript…"
      ]
     },
     "metadata": {},
     "output_type": "display_data"
    }
   ],
   "source": [
    "from ipywidgets import interact\n",
    "\n",
    "@interact( N=(1,1000,1), \n",
    "           t=(0,20,0.1),\n",
    "           sig=(0,1,0.01))\n",
    "def g(N=1000, t=2, sig=0.3):\n",
    "    return plot_2light_packet(N,t,sig)"
   ]
  },
  {
   "cell_type": "markdown",
   "id": "615ad1c6",
   "metadata": {
    "slideshow": {
     "slide_type": "slide"
    }
   },
   "source": [
    "A partir de esto, podemos concluir que los fenómenos de interferencia en películas de capa delgada de espesor $d$ no serían visibles si $d > l_c$. En otras palabras, el fenómeno de interferencia solo existe si el paquete de onda interfiere consigo mismo."
   ]
  },
  {
   "cell_type": "markdown",
   "id": "db4d20e4",
   "metadata": {
    "cell_style": "split",
    "slideshow": {
     "slide_type": "fragment"
    }
   },
   "source": [
    "<img src=\"./images/interference_thinfilm.png\" width=\"200px\" align= center>\n",
    "\n",
    "<center>Propagación de una onda a través de una película de espesor $d$, con $l_c < d$</center>"
   ]
  },
  {
   "cell_type": "markdown",
   "id": "fce7ef57",
   "metadata": {
    "cell_style": "split",
    "slideshow": {
     "slide_type": "fragment"
    }
   },
   "source": [
    "En general, para una longitud características $d$:\n",
    "\n",
    "- Si $d > l_c$ el **transporte de luz es incoherente** . En este régimen, podemos ignorar las propiedades oscilatorias de la luz, y analizar el problema como el transporte de pequeños paquetes de onda, o simplemente como partículas.\n",
    "\n",
    "- Si $d < l_c$, el **transporte de luz es coherente**. En este régimen debemos considerar las propiedades oscilatorias a partir de las Ecuaciones de Maxwell."
   ]
  },
  {
   "cell_type": "markdown",
   "id": "06aab8e7",
   "metadata": {
    "cell_style": "center",
    "slideshow": {
     "slide_type": "slide"
    }
   },
   "source": [
    "Así, los coeficientes de Fresnel para una película delgada solo son válidos para $d < l_c$. "
   ]
  },
  {
   "cell_type": "markdown",
   "id": "c7f85265",
   "metadata": {
    "cell_style": "split",
    "slideshow": {
     "slide_type": "fragment"
    }
   },
   "source": [
    "Los coeficientes de Fresnel para una interface, en cambio, siempre son válidos."
   ]
  },
  {
   "cell_type": "markdown",
   "id": "57178760",
   "metadata": {
    "cell_style": "split",
    "slideshow": {
     "slide_type": "fragment"
    }
   },
   "source": [
    "<img src=\"./images/interference_interface.png\" width=\"350px\" align= center>\n",
    "\n",
    "<center>Refracción y reflexión de una onda incoherente a través de una interfaz</center>"
   ]
  },
  {
   "cell_type": "markdown",
   "id": "0c79f1b6",
   "metadata": {
    "slideshow": {
     "slide_type": "slide"
    }
   },
   "source": [
    "Igualmente, en medios particulados, los fenómenos de interferencia pueden ocurrir si las partículas están suficientemente cerca y tienen tamaños similares. Llamamos a esto **scattering coherente**"
   ]
  },
  {
   "cell_type": "markdown",
   "id": "61e2a519",
   "metadata": {
    "slideshow": {
     "slide_type": "fragment"
    }
   },
   "source": [
    "<img src=\"./images/scattering_coherence.png\" width=\"600px\" align= center>\n",
    "\n",
    "<center>Fenómeno de interferencia en scattering</center>"
   ]
  },
  {
   "cell_type": "markdown",
   "id": "8167d93c",
   "metadata": {
    "slideshow": {
     "slide_type": "slide"
    }
   },
   "source": [
    "El fenómeno de scattering coherente da lugar a los denominados **colores estructurales** presentes en las alas de las aves y mariposas (mas info [acá](https://wires.onlinelibrary.wiley.com/doi/10.1002/wnan.1396))"
   ]
  },
  {
   "cell_type": "markdown",
   "id": "06446d60",
   "metadata": {
    "cell_style": "split",
    "slideshow": {
     "slide_type": "fragment"
    }
   },
   "source": [
    "<img src=\"./images/structural_colors_birds.png\" width=\"550px\" align= center>\n",
    "\n",
    "<center>Colores estructurales en alas de aves</center>\n",
    "\n",
    "Fuente: [Hwang, V. et al. PNAS 118 (4) e2015551118\n",
    " (2020)](https://www.pnas.org/doi/10.1073/pnas.2015551118)"
   ]
  },
  {
   "cell_type": "markdown",
   "id": "71eaafb2",
   "metadata": {
    "cell_style": "split",
    "slideshow": {
     "slide_type": "fragment"
    }
   },
   "source": [
    "<img src=\"./images/structural_colors_buterflies.png\" width=\"450px\" align= center>\n",
    "\n",
    "<center>Colores estructurales en alas de mariposa</center>\n",
    "\n",
    "Fuente: [Tippets C. A. et al. J. Opt. 18 (2016) 065105](https://iopscience.iop.org/article/10.1088/2040-8978/18/6/065105)"
   ]
  },
  {
   "cell_type": "markdown",
   "id": "f629fcbe",
   "metadata": {
    "slideshow": {
     "slide_type": "slide"
    }
   },
   "source": [
    "## Teoría de transferencia radiativa\n",
    "Si el transporte de luz es incoherente, podemos ignorar las propiedades oscilatorias de la luz y analizar el fenómeno óptico como un el transporte de radiación a través de un volumen de control."
   ]
  },
  {
   "cell_type": "markdown",
   "id": "f62e3c70",
   "metadata": {
    "slideshow": {
     "slide_type": "slide"
    }
   },
   "source": [
    "### Intensidad específica"
   ]
  },
  {
   "cell_type": "markdown",
   "id": "790c7714",
   "metadata": {
    "cell_style": "split",
    "slideshow": {
     "slide_type": "-"
    }
   },
   "source": [
    "Definimos como **radiancia espectral o intensidad específica**, $I_\\lambda$, al flujo de energía por **ángulo sólido diferencial**, $d\\Omega$, para una longitud de onda $\\lambda$.\n",
    "\n",
    "<img src=\"./images/specific_intensity.png\" width=\"300px\" align= center>"
   ]
  },
  {
   "cell_type": "markdown",
   "id": "8568f20b",
   "metadata": {
    "cell_style": "split",
    "slideshow": {
     "slide_type": "fragment"
    }
   },
   "source": [
    "El ángulo sólido define el tamaño relativo del área $S$ para un observador en $P$ a una distancia $r$. \n",
    "\n",
    "El diferencial está definido por $d\\Omega = \\sin\\theta d\\theta d\\phi$\n",
    "\n",
    "<img src=\"./images/solid_angle.png\" width=\"450px\" align= center>"
   ]
  },
  {
   "cell_type": "markdown",
   "id": "0d8ed016",
   "metadata": {
    "slideshow": {
     "slide_type": "slide"
    }
   },
   "source": [
    "Es importante aclarar que los conceptos intensidad específica y vector de Poynting $\\langle\\vec{S}\\rangle$, son equivalentes: $I_\\lambda(\\hat{k})$ es un término utilizado en radiometría para definir el flujo de energía por unidad de ángulo sólido, mientras que $\\langle\\vec{S}\\rangle$ es un término ulizado en óptica para describir el flujo de energía en dirección $\\hat{k}$. Cabe destacar, sin embargo, que $I_\\lambda(\\hat{k})$ es una magnitud, y $\\langle\\vec{S}\\rangle$ es un vector. Así, podríamos decir que la relación entre estos dos términos está dada por $I_\\lambda(\\hat{k}) = \\langle\\vec{S}\\rangle\\cdot\\hat{k}$."
   ]
  },
  {
   "cell_type": "markdown",
   "id": "067ade0b",
   "metadata": {
    "slideshow": {
     "slide_type": "fragment"
    }
   },
   "source": [
    "El ángulo sólido total para una esfera es:\n",
    "\\begin{equation*}\n",
    "\\int_\\mathrm{esfera} d\\Omega = \\int_0^{2\\pi}\\int_0^{\\pi} \\sin\\theta d\\theta d\\phi= 4\\pi\n",
    "\\end{equation*}"
   ]
  },
  {
   "cell_type": "markdown",
   "id": "921c9262",
   "metadata": {
    "slideshow": {
     "slide_type": "slide"
    }
   },
   "source": [
    "### Ecuación de transferencia radiativa\n",
    "La **ecuación de transferencia radiativa** (RTE por sus siglas en ingles), es una ecuación de transporte que describe la propagación de la radiancia espectral, $I_\\lambda(\\vec{r},\\hat{k})$, en función de la posición posición $\\vec{r}$ y dirección $\\hat{k}$. En su forma más general, para un problema estacionario:\n",
    "\n",
    "\\begin{equation}\n",
    "\\hat{k}\\cdot\\nabla_r I_\\lambda(\\vec{r},\\hat{k}) = - \\left[\\frac{f_v}{V_p}C_\\mathrm{ext} + 2\\kappa k_0\\right]I_\\lambda(\\vec{r},\\hat{k}) + \\frac{f_v}{V_p}\\int_{4\\pi} P_\\mathrm{sca}(\\hat{k},\\hat{k}') I_\\lambda(\\vec{r},\\hat{k}') d\\Omega'\n",
    "\\end{equation}"
   ]
  },
  {
   "cell_type": "markdown",
   "id": "44c82ce8",
   "metadata": {
    "slideshow": {
     "slide_type": "fragment"
    }
   },
   "source": [
    "donde $f_v$ y $V_p$ son, respectivamente la fracción de volúmen y el volúmen de las partículas en el medio, y $P_\\mathrm{sca}(\\hat{k},\\hat{k}')$ es la función de fase."
   ]
  },
  {
   "cell_type": "markdown",
   "id": "84f7041f",
   "metadata": {
    "slideshow": {
     "slide_type": "slide"
    }
   },
   "source": [
    "Notar que consideramos el caso más generalizado de la función de fase, que depende tanto de la dirección de la radiación incidente $\\hat{k}$ como de la dirección del scattering $\\hat{k}'$. Ambas definidas por ángulo sólido"
   ]
  },
  {
   "cell_type": "markdown",
   "id": "556660a5",
   "metadata": {
    "cell_style": "center",
    "slideshow": {
     "slide_type": "fragment"
    }
   },
   "source": [
    "En el caso de una esfera, $\\hat{k}_\\mathrm{sca} = \\hat{k}$ y $\\hat{k}_\\mathrm{inc} = \\hat{k}'$. Así, la función de fase depende de $\\theta$, el cual está definido por $\\cos\\theta = \\hat{k}\\cdot\\hat{k}'$\n",
    "\n"
   ]
  },
  {
   "cell_type": "markdown",
   "id": "b7b71333",
   "metadata": {
    "slideshow": {
     "slide_type": "slide"
    }
   },
   "source": [
    "Con esto en mente, ahora podemos discutir el significado de los términos en la RTE:"
   ]
  },
  {
   "cell_type": "markdown",
   "id": "12e1a1e8",
   "metadata": {
    "slideshow": {
     "slide_type": "fragment"
    }
   },
   "source": [
    "- El primer término representa el cambio de $I_\\lambda(\\vec{r},\\hat{k})$ a través volumen diferencial. Por ejemplo, en el caso unidimencional en dirección $\\hat{k} = \\hat{x}$, tenemos: \n",
    "\n",
    "\\begin{equation*}\n",
    "\\hat{x}\\cdot\\nabla_r I_\\lambda(\\vec{r},\\hat{k}) = \\frac{\\partial}{\\partial x}I_\\lambda(\\vec{r},\\hat{k})\n",
    "\\end{equation*}"
   ]
  },
  {
   "cell_type": "markdown",
   "id": "231c3da9",
   "metadata": {
    "slideshow": {
     "slide_type": "fragment"
    }
   },
   "source": [
    "- El segundo término representa la pérdida de energía radiativa, por extinción $\\left(\\frac{f_v}{V_p}C_\\mathrm{ext}\\right)$ y absorción en el material material ($2\\kappa k_0$), respectivamente. Recordemos que la extinción representa la energía absorbida por las partículas + la energía de scattering en direcciónes distintas a $\\hat{k}$, es decir $C_\\mathrm{ext}= C_\\mathrm{abs} + C_\\mathrm{sca}$."
   ]
  },
  {
   "cell_type": "markdown",
   "id": "4754c5ed",
   "metadata": {
    "slideshow": {
     "slide_type": "fragment"
    }
   },
   "source": [
    "- El tercer término representa la ganancia de energía radiativa produco del scattering inducido por radiación incidente en dirección $\\hat{k}'$. Este término representa el fenómeno de **scattering múltiple**."
   ]
  },
  {
   "cell_type": "markdown",
   "id": "43766712",
   "metadata": {
    "slideshow": {
     "slide_type": "slide"
    }
   },
   "source": [
    "## Soluciones de la RTE\n",
    "La ecuación de transferencia radiativa permite explicar de forma fenomenológica el transporte de radiación en un medio particulado. Debido a su complejidad, existen pocas soluciones analíticas. En esta sección describiremos las tres más conocidas."
   ]
  },
  {
   "cell_type": "markdown",
   "id": "6037462f",
   "metadata": {
    "slideshow": {
     "slide_type": "slide"
    }
   },
   "source": [
    "### Película de material sin partículas (Reflectividad y Transmisividad incoherente)\n",
    "En el caso de un medio sin partículas solo debemos considerar el primer término de la RTE. "
   ]
  },
  {
   "cell_type": "markdown",
   "id": "38e80853",
   "metadata": {
    "slideshow": {
     "slide_type": "fragment"
    }
   },
   "source": [
    "Para el caso particular de un material de espesor $t_\\mathrm{film}$ e índice de refracción $N = n + \\kappa$, rodeado por un medio con índice de refracción $N_0$, derivamos las siguientes relaciones de reflectividad y tranmisividad para luz incoherente:\n",
    "\n",
    "\\begin{align}\n",
    "R_\\mathrm{incoh}&= R_0 + \\frac{T_0^2R_0e^{-4\\kappa k_0 t_\\mathrm{film}}}{1 - R_0^2e^{-4\\kappa k_0 t_\\mathrm{film}}} \n",
    "\\\\[10pt]\n",
    "T_\\mathrm{incoh} &= \\frac{T_0^2e^{-4\\kappa k_0 t_\\mathrm{film}}}{1 - R_0^2e^{-4\\kappa k_0 t_\\mathrm{film}}}\n",
    "\\end{align}\n",
    "\n",
    "donde $R_0$ y $T_0$ corresponden, respectivamente, a la reflectividad y transmisividad en la interface $N_0 / N_1$"
   ]
  },
  {
   "cell_type": "markdown",
   "id": "7b8cb924",
   "metadata": {
    "slideshow": {
     "slide_type": "slide"
    }
   },
   "source": [
    "En el siguiente ejemplo, utilizamos la función ```incoh_multilayer``` de la libreria ```empylib.waveoptics```. Esta función es más general que la ecuación anterior y permite determinar $R_\\mathrm{incoh}$ y $T_\\mathrm{incoh}$ para arreglos multicapas. "
   ]
  },
  {
   "cell_type": "markdown",
   "id": "2a3e7bbc",
   "metadata": {
    "slideshow": {
     "slide_type": "fragment"
    }
   },
   "source": [
    "En este caso, evaluaremos una película de sílice de espesor $1~\\mu\\mathrm{m}$, sobre un sustrato con íncide de refracción $N_\\mathrm{back} = 4.3$, y con aire en la superficie $N_\\mathrm{front} = 1.0$. El espectro de longitudes de onda $\\lambda\\in[0.3,0.8]~\\mu\\mathrm{m}$ y el ángulo de incidencia $\\theta_i = 30°$. Para comparar, determinaremos $R$ y $T$ para el caso de luz coherente."
   ]
  },
  {
   "cell_type": "code",
   "execution_count": 5,
   "id": "a99aa431",
   "metadata": {
    "cell_style": "split",
    "slideshow": {
     "slide_type": "slide"
    },
    "tags": [
     "hide-input"
    ]
   },
   "outputs": [],
   "source": [
    "import numpy as np\n",
    "import empylib.waveoptics as wv\n",
    "import empylib.nklib as nk\n",
    "\n",
    "lam = np.linspace(2,10,100)  # espectro de longitudes de onda (um)\n",
    "theta = np.radians(30)          # ángulo de incidencia\n",
    "\n",
    "Nfront = 1.0                 # índice de refracción medio superior\n",
    "N1     = nk.SiO2(lam)        # índice de refracción capa delgada\n",
    "Nback  = 4.3                 # índice de refracción medio inferior\n",
    "N = (Nfront, N1, Nback)      # indices de refracción (above, mid, below)\n",
    "d = 1.0                      # espesor capa intermedia (um)\n",
    "\n",
    "# caso luz incoherente\n",
    "Rp_incoh, Tp_incoh = wv.incoh_multilayer(lam,theta, N, d, pol='TM')\n",
    "# caso luz coherente\n",
    "Rp, Tp = wv.multilayer(lam,theta, N, d, pol='TM')[:2]"
   ]
  },
  {
   "cell_type": "code",
   "execution_count": 6,
   "id": "3bee2ad8",
   "metadata": {
    "cell_style": "split",
    "slideshow": {
     "slide_type": "fragment"
    },
    "tags": [
     "hide-input"
    ]
   },
   "outputs": [
    {
     "data": {
      "image/png": "[encoded data removed]",
      "text/plain": [
       "<Figure size 504x360 with 1 Axes>"
      ]
     },
     "metadata": {
      "filenames": {
       "image/png": "/mnt/c/Users/francisco.ramirez.c/OneDrive - Universidad Adolfo Ibanez/Teaching_courses/MEC501 - Manejo_y_Conversion_Energia_Solar_Termica/material_catedra/_build/jupyter_execute/05_TransporteRadiativo/05_TransporteRadiativo_49_0.png"
      },
      "needs_background": "light"
     },
     "output_type": "display_data"
    }
   ],
   "source": [
    "fig, ax = plt.subplots()\n",
    "fig.set_size_inches(7, 5)\n",
    "plt.rcParams['font.size'] = '16'\n",
    "\n",
    "# Graficamos el flujo de energía\n",
    "plt.plot(lam,Rp,'--r',label='$R_\\mathrm{TM}$ (coh)')\n",
    "plt.plot(lam,Tp,'--b',label='$T_\\mathrm{TM}$ (coh)')\n",
    "plt.plot(lam,Rp_incoh,'-r',label='$R_\\mathrm{TM}$ (incoh)')\n",
    "plt.plot(lam,Tp_incoh,'-b',label='$T_\\mathrm{TM}$ (incoh)')\n",
    "plt.title('arreglo 1.0/1.5/4.3')\n",
    "plt.xlabel('Longitud de onda ($\\mu$m)')\n",
    "plt.ylabel('Refletividad / Transmisividad')\n",
    "plt.legend()\n",
    "plt.show()"
   ]
  },
  {
   "cell_type": "markdown",
   "id": "c6ed7877",
   "metadata": {
    "slideshow": {
     "slide_type": "slide"
    }
   },
   "source": [
    "En la figura, para el caso de luz coherente, notamos oscilaciones en $R$ y $T$ producto de los fenómenos de interferencia. En el caso de luz incoherente, el fenómeno de interferencia desaparace."
   ]
  },
  {
   "cell_type": "markdown",
   "id": "a5316b37",
   "metadata": {
    "slideshow": {
     "slide_type": "slide"
    }
   },
   "source": [
    "### Película de material con baja concentración de partículas (Ley de Beer-Lambert)\n",
    "Definimos el **camino libre medio de scattering**, como $\\Lambda_\\mathrm{sca} = \\left(f_v C_\\mathrm{sca}/V_p\\right)^{-1}$. Este parametro representa la distancia promedio que recorre la luz entre eventos de scattering."
   ]
  },
  {
   "cell_type": "markdown",
   "id": "a352fb08",
   "metadata": {
    "cell_style": "center",
    "slideshow": {
     "slide_type": "fragment"
    }
   },
   "source": [
    "Si $\\Lambda_\\mathrm{sca}$ es mayor que el espesor del material, $t_\\mathrm{film}$, la probabilidad de que ocurran más de un evento scattering es despreciable, y decimos que el **scattering es de primer orden**. En este caso, el tercer término de la RTE es despreciable y la radiación solo pierde energía por absorción del material o extinción inducida por las partículas."
   ]
  },
  {
   "cell_type": "markdown",
   "id": "9407f0e6",
   "metadata": {
    "slideshow": {
     "slide_type": "slide"
    }
   },
   "source": [
    "La solución a esta ecuación se conoce como la ley de Beer-Lambert. Mediante esta aproximación podemos deducir las componentes total y especular de la transmitancia:\n",
    "\n",
    "\\begin{equation}\n",
    "T_\\mathrm{tot} = T_0 e^{-f_v\\frac{C_\\mathrm{abs}}{V_p}t_\\mathrm{film}}\\quad\\quad\\mathrm{and}\\quad\\quad \n",
    "T_\\mathrm{spec} = T_0 e^{-f_v\\frac{C_\\mathrm{ext}}{V_p}t_\\mathrm{film}}\n",
    "\\end{equation}\n",
    "\n",
    "donde, $T_0$ es la **transmisividad incoherente del material sin incrustaciones**."
   ]
  },
  {
   "cell_type": "markdown",
   "id": "2f29ecb5",
   "metadata": {
    "slideshow": {
     "slide_type": "fragment"
    }
   },
   "source": [
    "<img src=\"./images/beer_lambert.png\" width=\"500px\" align= center>\n",
    "\n",
    "<center>Transporte de luz en un medio con scattering de primer orden</center>"
   ]
  },
  {
   "cell_type": "markdown",
   "id": "963bc3c6",
   "metadata": {
    "slideshow": {
     "slide_type": "slide"
    }
   },
   "source": [
    "Podemos utilizar la ley de Beer-Lambert para analizar, de forma aproximada, el efecto del color del cielo durante el día y en la tarde."
   ]
  },
  {
   "cell_type": "markdown",
   "id": "227d193d",
   "metadata": {
    "slideshow": {
     "slide_type": "fragment"
    }
   },
   "source": [
    "El color del cielo está dado por la componente difusa. Así calculamos $T_\\mathrm{dif} = T_\\mathrm{tot} - T_\\mathrm{spec}$."
   ]
  },
  {
   "cell_type": "markdown",
   "id": "a2577fed",
   "metadata": {
    "slideshow": {
     "slide_type": "fragment"
    }
   },
   "source": [
    "Consideremos una atmosfera compuesta de aire ($N_h = 1.0$) y una pequeña concentración ($f_v = 1\\times 10^{-6}~\\%$) de partículas de 10 nm de diámetro e índice de refracción $N_p = 1.5$. El espesor de la atmosfera es $t_\\mathrm{atm} = 100~\\mathrm{km}$"
   ]
  },
  {
   "cell_type": "code",
   "execution_count": 7,
   "id": "33491447",
   "metadata": {
    "cell_style": "center",
    "slideshow": {
     "slide_type": "slide"
    },
    "tags": [
     "hide-input"
    ]
   },
   "outputs": [],
   "source": [
    "import empylib.rad_transfer as rt\n",
    "import empylib.nklib as nk\n",
    "import numpy as np\n",
    "import matplotlib.pyplot as plt\n",
    "from empylib.ref_spectra import AM15, Bplanck\n",
    "from empylib.ref_spectra import color_system as cs\n",
    "cs = cs.hdtv\n",
    "\n",
    "lam1 = np.linspace(0.38,0.78,100) # espectro de longitudes de onda\n",
    "cs.interp_internals(lam1)\n",
    "def plot_atmosphere(theta_sun):\n",
    "    fig, ax = plt.subplots()          \n",
    "    fig.set_size_inches(8, 5)         # Tamaño del gráfico\n",
    "    plt.rcParams['font.size'] = '14'  # tamaño de  fuente\n",
    "    \n",
    "    # parámetros de entrada\n",
    "    tatm = 100E6                      # espesor de la atmósfera en mm\n",
    "    N = (1.0,1.0,1.0)                 # indice de refracción superior, intermedio e inferior\n",
    "    fvp = 1E-8                        # fracción de volúmen de las partículas\n",
    "    Dp = 0.010                        # diámetro de las partículas\n",
    "    Np = 1.5                          # índice de refracción de las partículas\n",
    "    \n",
    "    # transmitancia total y especular\n",
    "    theta = np.radians(theta_sun)    # posición del sol en radianes\n",
    "    Ttot, Tspec = rt.T_beer_lambert(lam1,theta,tatm,N,fvp,Dp,Np)[:2]\n",
    "    \n",
    "    Tdif = Ttot - Tspec              # transmitancia difusa\n",
    "    ax.plot(lam1,Tdif,'-k',label = 'Tdif')\n",
    "    ax.set_xlabel('Longitud de onda ($\\mu$m)')\n",
    "    ax.set_ylabel('Transmisividad')\n",
    "    ax.set_title(r'Posición del sol, $\\theta_\\mathrm{sun}$=%.1f°'% (theta_sun))\n",
    "    ax.set_ylim(0,1.05)\n",
    "    \n",
    "    Dcircle = 0.25\n",
    "    ax2 = fig.add_axes([0.11,0.15, Dcircle, Dcircle])\n",
    "    Irad = Tdif*Bplanck(lam1,5777)\n",
    "    html_rgb = cs.spec_to_rgb(Irad, out_fmt='html')\n",
    "    Circle = plt.Circle((0, 0), Dcircle, color=html_rgb)\n",
    "    ax2.add_patch(Circle)\n",
    "    ax2.set_aspect('equal')\n",
    "    ax2.set_xlim(-Dcircle*1.2,Dcircle*1.2)\n",
    "    ax2.set_ylim(-Dcircle*1.2,Dcircle*1.2)\n",
    "    ax2.set_xticks([])\n",
    "    ax2.set_yticks([])\n",
    "    ax2.set_facecolor('k')"
   ]
  },
  {
   "cell_type": "code",
   "execution_count": 8,
   "id": "f3b08336",
   "metadata": {
    "cell_style": "center",
    "slideshow": {
     "slide_type": "slide"
    },
    "tags": [
     "hide-input"
    ]
   },
   "outputs": [
    {
     "data": {
      "application/vnd.jupyter.widget-view+json": {
       "model_id": "0bccb9bb8f5f449cb91722e962c554f8",
       "version_major": 2,
       "version_minor": 0
      },
      "text/plain": [
       "interactive(children=(FloatSlider(value=0.0, description='theta_sun', max=89.99), Output()), _dom_classes=('wi…"
      ]
     },
     "metadata": {},
     "output_type": "display_data"
    }
   ],
   "source": [
    "from ipywidgets import interact\n",
    "\n",
    "@interact(theta_sun=(0,89.99,0.1))\n",
    "def g(theta_sun=0):\n",
    "    return plot_atmosphere(theta_sun)"
   ]
  },
  {
   "cell_type": "markdown",
   "id": "8aa6d072",
   "metadata": {
    "cell_style": "center",
    "slideshow": {
     "slide_type": "slide"
    }
   },
   "source": [
    "### Pelicula de material particulado (simulaciones de transferencia radiativa)\n",
    "Este caso corresponde a materiales con $\\Lambda_\\mathrm{sca} > t_\\mathrm{film}$. En este caso los eventos de scattering se producen más de una vez, y decimos que estámos en un régimen de **scattering múltiple**. Como resultado, los tres términos de la RTE son relevantes y debemos resolver la ecuación mediante simulación computacional.\n",
    "\n",
    "<img src=\"./images/multiple_scattering.png\" width=\"400px\" align= center>\n",
    "\n",
    "<center>Transporte de luz en un medio con scattering múltiple</center>"
   ]
  },
  {
   "cell_type": "markdown",
   "id": "bea5c468",
   "metadata": {
    "slideshow": {
     "slide_type": "slide"
    }
   },
   "source": [
    "Consideremos un material de sílice de espesor $t_\\mathrm{film} = 5~\\mathrm{mm}$. Evaluaremos los colores de este material en transmisión y reflección para luz incidente normal a la superficie en función de la concentración y el diámetro de las partículas. Utilizamos la función ```ad_rad_transfer``` de la librería ```empylib.rad_transfer```"
   ]
  },
  {
   "cell_type": "code",
   "execution_count": 9,
   "id": "24c8d4d6",
   "metadata": {
    "slideshow": {
     "slide_type": "slide"
    },
    "tags": [
     "hide-input"
    ]
   },
   "outputs": [],
   "source": [
    "import empylib.rad_transfer as rt\n",
    "import empylib.nklib as nk\n",
    "import empylib.miescattering as mie\n",
    "import numpy as np\n",
    "import matplotlib.pyplot as plt\n",
    "\n",
    "lam2 = np.linspace(0.3,1.0,100) # espectro de longitudes de onda en micrometros\n",
    "Nlayers = (1.0,1.5,1.0)   # indice de refracción superior, intermedio e inferior\n",
    "Np = nk.silver(lam2)                # Índice de refracción de las partículas\n",
    "cs.interp_internals(lam2)\n",
    "\n",
    "def plot_glass_silver(fv,D):\n",
    "    # parámetros de entrada\n",
    "    \n",
    "    theta = np.radians(0)       # 0 grados en radianes\n",
    "    tfilm = 5                   # espesor en milímetros\n",
    "    \n",
    "    fv = fv*1E-7                # fracción de volúmen de las partículas\n",
    "    D = D*1E-3                  # diámetro de las partículas\n",
    "    \n",
    "    qext, qsca = mie.scatter_efficiency(lam2,Nlayers[1],Np,D)[:2]\n",
    "    qabs = qext - qsca\n",
    "    Rtot, Ttot = rt.ad_rad_transfer(lam2,tfilm,Nlayers,fv,D,Np)\n",
    "\n",
    "    fig, ax = plt.subplots(1,3)\n",
    "    fig.set_size_inches(20, 5)\n",
    "    plt.rcParams['font.size'] = '16'\n",
    "    \n",
    "    ax[0].plot(lam2,qsca,'-r',label='$C_\\mathrm{sca} A_c$')\n",
    "    ax[0].plot(lam2,qabs,'-b',label='$C_\\mathrm{abs} A_c$')\n",
    "    ax[0].set_xlabel('Longitud de onda ($\\mu$m)')\n",
    "    ax[0].set_ylabel('Eficiencia transversal')\n",
    "    ax[0].set_title('Partícula de plata (D=%.0f nm)' % (D*1E3))\n",
    "    ax[0].legend()\n",
    "    ax[0].set_ylim(0,10)\n",
    "    \n",
    "    ax[1].plot(lam2,Rtot,'-r',label = 'Rtot')\n",
    "    ax[1].plot(lam2,Ttot,'-b',label = 'Ttot')\n",
    "    ax[1].set_xlabel('Longitud de onda ($\\mu$m)')\n",
    "    ax[1].set_ylabel('Transmisividad')\n",
    "    ax[1].set_title(r'Sílice con plata (fv = %.3e %%)' % (fv*100) )\n",
    "    ax[1].legend()\n",
    "    ax[1].set_ylim(0,1)\n",
    "\n",
    "    Dcircle = 0.20\n",
    "    html_rgb = cs.spec_to_rgb(Ttot*AM15(lam2), out_fmt='html')\n",
    "    Circle = plt.Circle((0, 0), Dcircle, color=html_rgb)\n",
    "    ax[2].add_patch(Circle)\n",
    "    ax[2].annotate('Luz Trasera', xy=(0, 0), va='center', ha='center')\n",
    "\n",
    "    html_rgb = cs.spec_to_rgb(Rtot*AM15(lam2), out_fmt='html')\n",
    "    Circle = plt.Circle((Dcircle*1.2*2, 0), Dcircle, color=html_rgb)\n",
    "    ax[2].add_patch(Circle)\n",
    "    ax[2].annotate('Luz Frontal', xy=(Dcircle*1.2*2, 0), va='center', ha='center')\n",
    "\n",
    "    ax[2].set_aspect('equal')\n",
    "    ax[2].set_xlim(-Dcircle*1.2,Dcircle*1.2*3)\n",
    "    ax[2].set_ylim(-Dcircle*1.2,Dcircle*1.2)\n",
    "    ax[2].set_xticks([])\n",
    "    ax[2].set_yticks([])\n",
    "    ax[2].set_facecolor('k')\n",
    "    plt.subplots_adjust(wspace=0.3)"
   ]
  },
  {
   "cell_type": "code",
   "execution_count": 10,
   "id": "494ceeb2",
   "metadata": {
    "cell_style": "center",
    "slideshow": {
     "slide_type": "slide"
    },
    "tags": [
     "hide-input"
    ]
   },
   "outputs": [
    {
     "data": {
      "application/vnd.jupyter.widget-view+json": {
       "model_id": "f978a1be535a45658b33ee3d4d332d2a",
       "version_major": 2,
       "version_minor": 0
      },
      "text/plain": [
       "interactive(children=(IntSlider(value=20, description='fv', min=1), IntSlider(value=70, description='D', max=2…"
      ]
     },
     "metadata": {},
     "output_type": "display_data"
    }
   ],
   "source": [
    "from ipywidgets import interact\n",
    "\n",
    "@interact(fv=(1,100,1), D = (10,200,1))\n",
    "def g(fv=20, D = 70):\n",
    "    return plot_glass_silver(fv,D)"
   ]
  },
  {
   "cell_type": "markdown",
   "id": "031ca52b",
   "metadata": {
    "slideshow": {
     "slide_type": "slide"
    }
   },
   "source": [
    "Cuando la concentración de partículas es densa, el medio se vuelve opaco. Este régimen se denomina **scattering difuso** y permite explicar, entre otras cosas, el color de las nubes o la pintura blanca\n",
    "\n",
    "<img src=\"./images/diffuse_scattering.png\" width=\"400px\" align= center>\n",
    "\n",
    "<center>Transporte de luz en un medio con scattering difuso</center>"
   ]
  },
  {
   "cell_type": "markdown",
   "id": "01df5bd6",
   "metadata": {
    "slideshow": {
     "slide_type": "slide"
    }
   },
   "source": [
    "Un ejemplo interesante corresponde a la leche. En términos simples, la leche es una emulsión formada por pequeñas partículas de grasa dispersas en un medio acuoso. \n",
    "\n",
    "<img src=\"./images/milk_microscope.png\" width=\"400px\" align= center>\n",
    "\n",
    "<center>Imagen de microscópio (40x) de leche orgánica. Las burbujas verdes corresponden al aceite en suspención en agua.</center>\n",
    "\n",
    "Fuente: [Braun K., Hanewald A. and Vilgis T. Foods 8(10): 483(2019)](https://www.ncbi.nlm.nih.gov/pmc/articles/PMC6836175/)"
   ]
  },
  {
   "cell_type": "markdown",
   "id": "225b5528",
   "metadata": {
    "slideshow": {
     "slide_type": "fragment"
    }
   },
   "source": [
    "Como aproximación, consideremos un medio de espesor $1$ cm, compuesto por agua $N_h = 1.3$ y pequeñas partículas esféricas de aceite $N_p = 1.5$. La emulsión considera un 60% de partículas de aceite por volumen."
   ]
  },
  {
   "cell_type": "code",
   "execution_count": 11,
   "id": "72cbfc3e",
   "metadata": {
    "cell_style": "split",
    "slideshow": {
     "slide_type": "slide"
    },
    "tags": [
     "hide-input"
    ]
   },
   "outputs": [
    {
     "ename": "TypeError",
     "evalue": "ad_rad_transfer() missing 2 required positional arguments: 'gcos' and 'Vp'",
     "output_type": "error",
     "traceback": [
      "\u001b[0;31m---------------------------------------------------------------------------\u001b[0m",
      "\u001b[0;31mTypeError\u001b[0m                                 Traceback (most recent call last)",
      "Input \u001b[0;32mIn [11]\u001b[0m, in \u001b[0;36m<cell line: 14>\u001b[0;34m()\u001b[0m\n\u001b[1;32m     12\u001b[0m Noil \u001b[38;5;241m=\u001b[39m \u001b[38;5;241m1.5\u001b[39m                        \u001b[38;5;66;03m# índice de refracción partículas de aceite\u001b[39;00m\n\u001b[1;32m     13\u001b[0m \u001b[38;5;66;03m#---------------------------------------------------------------\u001b[39;00m\n\u001b[0;32m---> 14\u001b[0m Rtot, Ttot \u001b[38;5;241m=\u001b[39m \u001b[43mrt\u001b[49m\u001b[38;5;241;43m.\u001b[39;49m\u001b[43mad_rad_transfer\u001b[49m\u001b[43m(\u001b[49m\u001b[43mlam3\u001b[49m\u001b[43m,\u001b[49m\u001b[43mtfilm\u001b[49m\u001b[43m,\u001b[49m\u001b[43m(\u001b[49m\u001b[38;5;241;43m1.0\u001b[39;49m\u001b[43m,\u001b[49m\u001b[43mNh2o\u001b[49m\u001b[43m,\u001b[49m\u001b[38;5;241;43m1.0\u001b[39;49m\u001b[43m)\u001b[49m\u001b[43m,\u001b[49m\u001b[43mfv\u001b[49m\u001b[43m,\u001b[49m\u001b[43mD\u001b[49m\u001b[43m,\u001b[49m\u001b[43mNoil\u001b[49m\u001b[43m)\u001b[49m\n\u001b[1;32m     16\u001b[0m fig, ax \u001b[38;5;241m=\u001b[39m plt\u001b[38;5;241m.\u001b[39msubplots()\n\u001b[1;32m     17\u001b[0m fig\u001b[38;5;241m.\u001b[39mset_size_inches(\u001b[38;5;241m7\u001b[39m, \u001b[38;5;241m5\u001b[39m)\n",
      "\u001b[0;31mTypeError\u001b[0m: ad_rad_transfer() missing 2 required positional arguments: 'gcos' and 'Vp'"
     ]
    }
   ],
   "source": [
    "%%capture showplot\n",
    "# import empylib.nklib as nk\n",
    "import numpy as np\n",
    "import empylib.rad_transfer as rt\n",
    "\n",
    "# Solo modificar estos parámetros\n",
    "#---------------------------------------------------------------\n",
    "lam3 = np.linspace(0.3,1.0,100)   # espectro de longitudes de onda\n",
    "tfilm = 10                        # espesor en milímetros\n",
    "fv = 0.50                         # fracción de volúmen de los poros\n",
    "D = 1.0                           # diámetro de los poros (micrones)\n",
    "Nh2o = 1.3                        # Índice de refracción del agua\n",
    "Noil = 1.5                        # índice de refracción partículas de aceite\n",
    "#---------------------------------------------------------------\n",
    "Rtot, Ttot = rt.ad_rad_transfer(lam3,tfilm,(1.0,Nh2o,1.0),fv,D,Noil)\n",
    "\n",
    "fig, ax = plt.subplots()\n",
    "fig.set_size_inches(7, 5)\n",
    "plt.rcParams['font.size'] = '16'\n",
    "ax.plot(lam3,Rtot,'-r',label='R')\n",
    "ax.plot(lam3,Ttot,'-b',label='T')\n",
    "ax.set_xlabel('Longitud de onda ($\\mu$m)')\n",
    "ax.set_ylabel('Reflectividad / Transmisividad')\n",
    "ax.set_title(r'Leche (fv = %.0f %%)' % (fv*100))\n",
    "ax.legend()\n",
    "ax.set_ylim(0,1.02)\n",
    "plt.show"
   ]
  },
  {
   "cell_type": "code",
   "execution_count": 12,
   "id": "9a1291f7",
   "metadata": {
    "cell_style": "split",
    "slideshow": {
     "slide_type": "fragment"
    },
    "tags": [
     "hide-input"
    ]
   },
   "outputs": [],
   "source": [
    "showplot()"
   ]
  },
  {
   "cell_type": "markdown",
   "id": "6c035f58",
   "metadata": {
    "slideshow": {
     "slide_type": "slide"
    }
   },
   "source": [
    "Como vemos la alta concentración de partículas hace que la refletividad y transmisividad se vuelvan casi uniformes para todas las longitudes de onda. El espectro, así, toma un color blanco frente a una fuente de luz blanca."
   ]
  },
  {
   "cell_type": "markdown",
   "id": "17c1dc23",
   "metadata": {
    "slideshow": {
     "slide_type": "slide"
    }
   },
   "source": [
    "## Referencias\n",
    "- Chen G. **Chapter 5 - Energy Transfer by Waves** in *Nanoscale energy transport and conversion*, 1st Ed, Oxford University Press, 2005"
   ]
  }
 ],
 "metadata": {
  "celltoolbar": "Slideshow",
  "kernelspec": {
   "display_name": "Python 3 (ipykernel)",
   "language": "python",
   "name": "python3"
  },
  "language_info": {
   "codemirror_mode": {
    "name": "ipython",
    "version": 3
   },
   "file_extension": ".py",
   "mimetype": "text/x-python",
   "name": "python",
   "nbconvert_exporter": "python",
   "pygments_lexer": "ipython3",
   "version": "3.9.13"
  },
  "latex_envs": {
   "LaTeX_envs_menu_present": false,
   "autoclose": false,
   "autocomplete": false,
   "bibliofile": "biblio.bib",
   "cite_by": "apalike",
   "current_citInitial": 1,
   "eqLabelWithNumbers": true,
   "eqNumInitial": 2,
   "hotkeys": {
    "equation": "Ctrl-E",
    "itemize": "Ctrl-I"
   },
   "labels_anchors": false,
   "latex_user_defs": false,
   "report_style_numbering": false,
   "user_envs_cfg": true
  },
  "toc": {
   "base_numbering": 1,
   "nav_menu": {},
   "number_sections": false,
   "sideBar": true,
   "skip_h1_title": true,
   "title_cell": "Tabla de contenidos",
   "title_sidebar": "Contenidos",
   "toc_cell": false,
   "toc_position": {
    "height": "calc(100% - 180px)",
    "left": "10px",
    "top": "150px",
    "width": "307.2px"
   },
   "toc_section_display": true,
   "toc_window_display": false
  },
  "varInspector": {
   "cols": {
    "lenName": 16,
    "lenType": 16,
    "lenVar": 40
   },
   "kernels_config": {
    "python": {
     "delete_cmd_postfix": "",
     "delete_cmd_prefix": "del ",
     "library": "var_list.py",
     "varRefreshCmd": "print(var_dic_list())"
    },
    "r": {
     "delete_cmd_postfix": ") ",
     "delete_cmd_prefix": "rm(",
     "library": "var_list.r",
     "varRefreshCmd": "cat(var_dic_list()) "
    }
   },
   "types_to_exclude": [
    "module",
    "function",
    "builtin_function_or_method",
    "instance",
    "_Feature"
   ],
   "window_display": false
  },
  "widgets": {
   "application/vnd.jupyter.widget-state+json": {
    "state": {
     "042718039dd644c0933174e38d4c24c5": {
      "model_module": "@jupyter-widgets/controls",
      "model_module_version": "1.5.0",
      "model_name": "IntSliderModel",
      "state": {
       "_dom_classes": [],
       "_model_module": "@jupyter-widgets/controls",
       "_model_module_version": "1.5.0",
       "_model_name": "IntSliderModel",
       "_view_count": null,
       "_view_module": "@jupyter-widgets/controls",
       "_view_module_version": "1.5.0",
       "_view_name": "IntSliderView",
       "continuous_update": true,
       "description": "N",
       "description_tooltip": null,
       "disabled": false,
       "layout": "IPY_MODEL_2620d2d5661a4696823bca79a1fedd49",
       "max": 1000,
       "min": 1,
       "orientation": "horizontal",
       "readout": true,
       "readout_format": "d",
       "step": 1,
       "style": "IPY_MODEL_b2576718c3984c9ea2ee9fe459d05d16",
       "value": 1000
      }
     },
     "074b27a927794815b1e894b42c5fecb4": {
      "model_module": "@jupyter-widgets/base",
      "model_module_version": "1.2.0",
      "model_name": "LayoutModel",
      "state": {
       "_model_module": "@jupyter-widgets/base",
       "_model_module_version": "1.2.0",
       "_model_name": "LayoutModel",
       "_view_count": null,
       "_view_module": "@jupyter-widgets/base",
       "_view_module_version": "1.2.0",
       "_view_name": "LayoutView",
       "align_content": null,
       "align_items": null,
       "align_self": null,
       "border": null,
       "bottom": null,
       "display": null,
       "flex": null,
       "flex_flow": null,
       "grid_area": null,
       "grid_auto_columns": null,
       "grid_auto_flow": null,
       "grid_auto_rows": null,
       "grid_column": null,
       "grid_gap": null,
       "grid_row": null,
       "grid_template_areas": null,
       "grid_template_columns": null,
       "grid_template_rows": null,
       "height": null,
       "justify_content": null,
       "justify_items": null,
       "left": null,
       "margin": null,
       "max_height": null,
       "max_width": null,
       "min_height": null,
       "min_width": null,
       "object_fit": null,
       "object_position": null,
       "order": null,
       "overflow": null,
       "overflow_x": null,
       "overflow_y": null,
       "padding": null,
       "right": null,
       "top": null,
       "visibility": null,
       "width": null
      }
     },
     "0937981c721648a09b810a328a0f3810": {
      "model_module": "@jupyter-widgets/controls",
      "model_module_version": "1.5.0",
      "model_name": "VBoxModel",
      "state": {
       "_dom_classes": [
        "widget-interact"
       ],
       "_model_module": "@jupyter-widgets/controls",
       "_model_module_version": "1.5.0",
       "_model_name": "VBoxModel",
       "_view_count": null,
       "_view_module": "@jupyter-widgets/controls",
       "_view_module_version": "1.5.0",
       "_view_name": "VBoxView",
       "box_style": "",
       "children": [
        "IPY_MODEL_042718039dd644c0933174e38d4c24c5",
        "IPY_MODEL_6dd2e422d95a4506a54c2150abf990d0",
        "IPY_MODEL_2cdbdbc0fab647c6829164a0441bba61",
        "IPY_MODEL_37b17ba4e53e420694096989e2a1d40b"
       ],
       "layout": "IPY_MODEL_3641a7e6b9d144f1be97a17ebfe7bc44"
      }
     },
     "0bccb9bb8f5f449cb91722e962c554f8": {
      "model_module": "@jupyter-widgets/controls",
      "model_module_version": "1.5.0",
      "model_name": "VBoxModel",
      "state": {
       "_dom_classes": [
        "widget-interact"
       ],
       "_model_module": "@jupyter-widgets/controls",
       "_model_module_version": "1.5.0",
       "_model_name": "VBoxModel",
       "_view_count": null,
       "_view_module": "@jupyter-widgets/controls",
       "_view_module_version": "1.5.0",
       "_view_name": "VBoxView",
       "box_style": "",
       "children": [
        "IPY_MODEL_892dd9c73df54bc497d96b87e0bbbd55",
        "IPY_MODEL_7f432ac0eeb249069929b72b0e979d8a"
       ],
       "layout": "IPY_MODEL_2191a8d567a94d9e87cdcabe4554c18b"
      }
     },
     "149d589f578940128520f16efe0bc0e6": {
      "model_module": "@jupyter-widgets/controls",
      "model_module_version": "1.5.0",
      "model_name": "IntSliderModel",
      "state": {
       "_dom_classes": [],
       "_model_module": "@jupyter-widgets/controls",
       "_model_module_version": "1.5.0",
       "_model_name": "IntSliderModel",
       "_view_count": null,
       "_view_module": "@jupyter-widgets/controls",
       "_view_module_version": "1.5.0",
       "_view_name": "IntSliderView",
       "continuous_update": true,
       "description": "N",
       "description_tooltip": null,
       "disabled": false,
       "layout": "IPY_MODEL_f6b2cdedccb3440f8a19526f92dfc4cc",
       "max": 1000,
       "min": 1,
       "orientation": "horizontal",
       "readout": true,
       "readout_format": "d",
       "step": 1,
       "style": "IPY_MODEL_79ba384de3a340a39bb4cfab3e912f2e",
       "value": 1000
      }
     },
     "1e8b601786834db9af403871dfcfeb49": {
      "model_module": "@jupyter-widgets/controls",
      "model_module_version": "1.5.0",
      "model_name": "SliderStyleModel",
      "state": {
       "_model_module": "@jupyter-widgets/controls",
       "_model_module_version": "1.5.0",
       "_model_name": "SliderStyleModel",
       "_view_count": null,
       "_view_module": "@jupyter-widgets/base",
       "_view_module_version": "1.2.0",
       "_view_name": "StyleView",
       "description_width": "",
       "handle_color": null
      }
     },
     "2191a8d567a94d9e87cdcabe4554c18b": {
      "model_module": "@jupyter-widgets/base",
      "model_module_version": "1.2.0",
      "model_name": "LayoutModel",
      "state": {
       "_model_module": "@jupyter-widgets/base",
       "_model_module_version": "1.2.0",
       "_model_name": "LayoutModel",
       "_view_count": null,
       "_view_module": "@jupyter-widgets/base",
       "_view_module_version": "1.2.0",
       "_view_name": "LayoutView",
       "align_content": null,
       "align_items": null,
       "align_self": null,
       "border": null,
       "bottom": null,
       "display": null,
       "flex": null,
       "flex_flow": null,
       "grid_area": null,
       "grid_auto_columns": null,
       "grid_auto_flow": null,
       "grid_auto_rows": null,
       "grid_column": null,
       "grid_gap": null,
       "grid_row": null,
       "grid_template_areas": null,
       "grid_template_columns": null,
       "grid_template_rows": null,
       "height": null,
       "justify_content": null,
       "justify_items": null,
       "left": null,
       "margin": null,
       "max_height": null,
       "max_width": null,
       "min_height": null,
       "min_width": null,
       "object_fit": null,
       "object_position": null,
       "order": null,
       "overflow": null,
       "overflow_x": null,
       "overflow_y": null,
       "padding": null,
       "right": null,
       "top": null,
       "visibility": null,
       "width": null
      }
     },
     "2618992ce2254f9e8a981ad9930a0d08": {
      "model_module": "@jupyter-widgets/controls",
      "model_module_version": "1.5.0",
      "model_name": "SliderStyleModel",
      "state": {
       "_model_module": "@jupyter-widgets/controls",
       "_model_module_version": "1.5.0",
       "_model_name": "SliderStyleModel",
       "_view_count": null,
       "_view_module": "@jupyter-widgets/base",
       "_view_module_version": "1.2.0",
       "_view_name": "StyleView",
       "description_width": "",
       "handle_color": null
      }
     },
     "2620d2d5661a4696823bca79a1fedd49": {
      "model_module": "@jupyter-widgets/base",
      "model_module_version": "1.2.0",
      "model_name": "LayoutModel",
      "state": {
       "_model_module": "@jupyter-widgets/base",
       "_model_module_version": "1.2.0",
       "_model_name": "LayoutModel",
       "_view_count": null,
       "_view_module": "@jupyter-widgets/base",
       "_view_module_version": "1.2.0",
       "_view_name": "LayoutView",
       "align_content": null,
       "align_items": null,
       "align_self": null,
       "border": null,
       "bottom": null,
       "display": null,
       "flex": null,
       "flex_flow": null,
       "grid_area": null,
       "grid_auto_columns": null,
       "grid_auto_flow": null,
       "grid_auto_rows": null,
       "grid_column": null,
       "grid_gap": null,
       "grid_row": null,
       "grid_template_areas": null,
       "grid_template_columns": null,
       "grid_template_rows": null,
       "height": null,
       "justify_content": null,
       "justify_items": null,
       "left": null,
       "margin": null,
       "max_height": null,
       "max_width": null,
       "min_height": null,
       "min_width": null,
       "object_fit": null,
       "object_position": null,
       "order": null,
       "overflow": null,
       "overflow_x": null,
       "overflow_y": null,
       "padding": null,
       "right": null,
       "top": null,
       "visibility": null,
       "width": null
      }
     },
     "2988b667d48c40a2926745a6b70436a5": {
      "model_module": "@jupyter-widgets/base",
      "model_module_version": "1.2.0",
      "model_name": "LayoutModel",
      "state": {
       "_model_module": "@jupyter-widgets/base",
       "_model_module_version": "1.2.0",
       "_model_name": "LayoutModel",
       "_view_count": null,
       "_view_module": "@jupyter-widgets/base",
       "_view_module_version": "1.2.0",
       "_view_name": "LayoutView",
       "align_content": null,
       "align_items": null,
       "align_self": null,
       "border": null,
       "bottom": null,
       "display": null,
       "flex": null,
       "flex_flow": null,
       "grid_area": null,
       "grid_auto_columns": null,
       "grid_auto_flow": null,
       "grid_auto_rows": null,
       "grid_column": null,
       "grid_gap": null,
       "grid_row": null,
       "grid_template_areas": null,
       "grid_template_columns": null,
       "grid_template_rows": null,
       "height": null,
       "justify_content": null,
       "justify_items": null,
       "left": null,
       "margin": null,
       "max_height": null,
       "max_width": null,
       "min_height": null,
       "min_width": null,
       "object_fit": null,
       "object_position": null,
       "order": null,
       "overflow": null,
       "overflow_x": null,
       "overflow_y": null,
       "padding": null,
       "right": null,
       "top": null,
       "visibility": null,
       "width": null
      }
     },
     "2cbad615146f424a9c3bc400a22aca82": {
      "model_module": "@jupyter-widgets/base",
      "model_module_version": "1.2.0",
      "model_name": "LayoutModel",
      "state": {
       "_model_module": "@jupyter-widgets/base",
       "_model_module_version": "1.2.0",
       "_model_name": "LayoutModel",
       "_view_count": null,
       "_view_module": "@jupyter-widgets/base",
       "_view_module_version": "1.2.0",
       "_view_name": "LayoutView",
       "align_content": null,
       "align_items": null,
       "align_self": null,
       "border": null,
       "bottom": null,
       "display": null,
       "flex": null,
       "flex_flow": null,
       "grid_area": null,
       "grid_auto_columns": null,
       "grid_auto_flow": null,
       "grid_auto_rows": null,
       "grid_column": null,
       "grid_gap": null,
       "grid_row": null,
       "grid_template_areas": null,
       "grid_template_columns": null,
       "grid_template_rows": null,
       "height": null,
       "justify_content": null,
       "justify_items": null,
       "left": null,
       "margin": null,
       "max_height": null,
       "max_width": null,
       "min_height": null,
       "min_width": null,
       "object_fit": null,
       "object_position": null,
       "order": null,
       "overflow": null,
       "overflow_x": null,
       "overflow_y": null,
       "padding": null,
       "right": null,
       "top": null,
       "visibility": null,
       "width": null
      }
     },
     "2cdbdbc0fab647c6829164a0441bba61": {
      "model_module": "@jupyter-widgets/controls",
      "model_module_version": "1.5.0",
      "model_name": "FloatSliderModel",
      "state": {
       "_dom_classes": [],
       "_model_module": "@jupyter-widgets/controls",
       "_model_module_version": "1.5.0",
       "_model_name": "FloatSliderModel",
       "_view_count": null,
       "_view_module": "@jupyter-widgets/controls",
       "_view_module_version": "1.5.0",
       "_view_name": "FloatSliderView",
       "continuous_update": true,
       "description": "sig",
       "description_tooltip": null,
       "disabled": false,
       "layout": "IPY_MODEL_6340feea1e2c4c70acbec3b3eb0d6a02",
       "max": 1.0,
       "min": 0.0,
       "orientation": "horizontal",
       "readout": true,
       "readout_format": ".2f",
       "step": 0.01,
       "style": "IPY_MODEL_87a7bd3425924e77a67b37001308030e",
       "value": 0.3
      }
     },
     "2f3672cc879644468be071b999a20937": {
      "model_module": "@jupyter-widgets/controls",
      "model_module_version": "1.5.0",
      "model_name": "IntSliderModel",
      "state": {
       "_dom_classes": [],
       "_model_module": "@jupyter-widgets/controls",
       "_model_module_version": "1.5.0",
       "_model_name": "IntSliderModel",
       "_view_count": null,
       "_view_module": "@jupyter-widgets/controls",
       "_view_module_version": "1.5.0",
       "_view_name": "IntSliderView",
       "continuous_update": true,
       "description": "D",
       "description_tooltip": null,
       "disabled": false,
       "layout": "IPY_MODEL_bbd0e13e50b748a1ba6b961c7c9ac63d",
       "max": 200,
       "min": 10,
       "orientation": "horizontal",
       "readout": true,
       "readout_format": "d",
       "step": 1,
       "style": "IPY_MODEL_2618992ce2254f9e8a981ad9930a0d08",
       "value": 70
      }
     },
     "3010fda2b763493a9a5058d91fe23ed5": {
      "model_module": "@jupyter-widgets/base",
      "model_module_version": "1.2.0",
      "model_name": "LayoutModel",
      "state": {
       "_model_module": "@jupyter-widgets/base",
       "_model_module_version": "1.2.0",
       "_model_name": "LayoutModel",
       "_view_count": null,
       "_view_module": "@jupyter-widgets/base",
       "_view_module_version": "1.2.0",
       "_view_name": "LayoutView",
       "align_content": null,
       "align_items": null,
       "align_self": null,
       "border": null,
       "bottom": null,
       "display": null,
       "flex": null,
       "flex_flow": null,
       "grid_area": null,
       "grid_auto_columns": null,
       "grid_auto_flow": null,
       "grid_auto_rows": null,
       "grid_column": null,
       "grid_gap": null,
       "grid_row": null,
       "grid_template_areas": null,
       "grid_template_columns": null,
       "grid_template_rows": null,
       "height": null,
       "justify_content": null,
       "justify_items": null,
       "left": null,
       "margin": null,
       "max_height": null,
       "max_width": null,
       "min_height": null,
       "min_width": null,
       "object_fit": null,
       "object_position": null,
       "order": null,
       "overflow": null,
       "overflow_x": null,
       "overflow_y": null,
       "padding": null,
       "right": null,
       "top": null,
       "visibility": null,
       "width": null
      }
     },
     "3069bdbc122e4808b01df86e3c3c3129": {
      "model_module": "@jupyter-widgets/base",
      "model_module_version": "1.2.0",
      "model_name": "LayoutModel",
      "state": {
       "_model_module": "@jupyter-widgets/base",
       "_model_module_version": "1.2.0",
       "_model_name": "LayoutModel",
       "_view_count": null,
       "_view_module": "@jupyter-widgets/base",
       "_view_module_version": "1.2.0",
       "_view_name": "LayoutView",
       "align_content": null,
       "align_items": null,
       "align_self": null,
       "border": null,
       "bottom": null,
       "display": null,
       "flex": null,
       "flex_flow": null,
       "grid_area": null,
       "grid_auto_columns": null,
       "grid_auto_flow": null,
       "grid_auto_rows": null,
       "grid_column": null,
       "grid_gap": null,
       "grid_row": null,
       "grid_template_areas": null,
       "grid_template_columns": null,
       "grid_template_rows": null,
       "height": null,
       "justify_content": null,
       "justify_items": null,
       "left": null,
       "margin": null,
       "max_height": null,
       "max_width": null,
       "min_height": null,
       "min_width": null,
       "object_fit": null,
       "object_position": null,
       "order": null,
       "overflow": null,
       "overflow_x": null,
       "overflow_y": null,
       "padding": null,
       "right": null,
       "top": null,
       "visibility": null,
       "width": null
      }
     },
     "3641a7e6b9d144f1be97a17ebfe7bc44": {
      "model_module": "@jupyter-widgets/base",
      "model_module_version": "1.2.0",
      "model_name": "LayoutModel",
      "state": {
       "_model_module": "@jupyter-widgets/base",
       "_model_module_version": "1.2.0",
       "_model_name": "LayoutModel",
       "_view_count": null,
       "_view_module": "@jupyter-widgets/base",
       "_view_module_version": "1.2.0",
       "_view_name": "LayoutView",
       "align_content": null,
       "align_items": null,
       "align_self": null,
       "border": null,
       "bottom": null,
       "display": null,
       "flex": null,
       "flex_flow": null,
       "grid_area": null,
       "grid_auto_columns": null,
       "grid_auto_flow": null,
       "grid_auto_rows": null,
       "grid_column": null,
       "grid_gap": null,
       "grid_row": null,
       "grid_template_areas": null,
       "grid_template_columns": null,
       "grid_template_rows": null,
       "height": null,
       "justify_content": null,
       "justify_items": null,
       "left": null,
       "margin": null,
       "max_height": null,
       "max_width": null,
       "min_height": null,
       "min_width": null,
       "object_fit": null,
       "object_position": null,
       "order": null,
       "overflow": null,
       "overflow_x": null,
       "overflow_y": null,
       "padding": null,
       "right": null,
       "top": null,
       "visibility": null,
       "width": null
      }
     },
     "37b17ba4e53e420694096989e2a1d40b": {
      "model_module": "@jupyter-widgets/output",
      "model_module_version": "1.0.0",
      "model_name": "OutputModel",
      "state": {
       "_dom_classes": [],
       "_model_module": "@jupyter-widgets/output",
       "_model_module_version": "1.0.0",
       "_model_name": "OutputModel",
       "_view_count": null,
       "_view_module": "@jupyter-widgets/output",
       "_view_module_version": "1.0.0",
       "_view_name": "OutputView",
       "layout": "IPY_MODEL_2cbad615146f424a9c3bc400a22aca82",
       "msg_id": "",
       "outputs": [
        {
         "data": {
          "image/png": "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\n",
          "text/plain": "<Figure size 648x360 with 1 Axes>"
         },
         "metadata": {
          "needs_background": "light"
         },
         "output_type": "display_data"
        }
       ]
      }
     },
     "4a11b2dad3624e9d93fc04fd49eb5e66": {
      "model_module": "@jupyter-widgets/controls",
      "model_module_version": "1.5.0",
      "model_name": "FloatSliderModel",
      "state": {
       "_dom_classes": [],
       "_model_module": "@jupyter-widgets/controls",
       "_model_module_version": "1.5.0",
       "_model_name": "FloatSliderModel",
       "_view_count": null,
       "_view_module": "@jupyter-widgets/controls",
       "_view_module_version": "1.5.0",
       "_view_name": "FloatSliderView",
       "continuous_update": true,
       "description": "sig",
       "description_tooltip": null,
       "disabled": false,
       "layout": "IPY_MODEL_7e2f413bea2145c3bfef2a2abb21a566",
       "max": 1.0,
       "min": 0.0,
       "orientation": "horizontal",
       "readout": true,
       "readout_format": ".2f",
       "step": 0.01,
       "style": "IPY_MODEL_f56bf5fd8979489d9d932b29298a9680",
       "value": 0.3
      }
     },
     "5f92dd6b2c434585a1243a5cede2c3f4": {
      "model_module": "@jupyter-widgets/base",
      "model_module_version": "1.2.0",
      "model_name": "LayoutModel",
      "state": {
       "_model_module": "@jupyter-widgets/base",
       "_model_module_version": "1.2.0",
       "_model_name": "LayoutModel",
       "_view_count": null,
       "_view_module": "@jupyter-widgets/base",
       "_view_module_version": "1.2.0",
       "_view_name": "LayoutView",
       "align_content": null,
       "align_items": null,
       "align_self": null,
       "border": null,
       "bottom": null,
       "display": null,
       "flex": null,
       "flex_flow": null,
       "grid_area": null,
       "grid_auto_columns": null,
       "grid_auto_flow": null,
       "grid_auto_rows": null,
       "grid_column": null,
       "grid_gap": null,
       "grid_row": null,
       "grid_template_areas": null,
       "grid_template_columns": null,
       "grid_template_rows": null,
       "height": null,
       "justify_content": null,
       "justify_items": null,
       "left": null,
       "margin": null,
       "max_height": null,
       "max_width": null,
       "min_height": null,
       "min_width": null,
       "object_fit": null,
       "object_position": null,
       "order": null,
       "overflow": null,
       "overflow_x": null,
       "overflow_y": null,
       "padding": null,
       "right": null,
       "top": null,
       "visibility": null,
       "width": null
      }
     },
     "603ebc0d918f446b86eb0db8e23d0125": {
      "model_module": "@jupyter-widgets/controls",
      "model_module_version": "1.5.0",
      "model_name": "FloatSliderModel",
      "state": {
       "_dom_classes": [],
       "_model_module": "@jupyter-widgets/controls",
       "_model_module_version": "1.5.0",
       "_model_name": "FloatSliderModel",
       "_view_count": null,
       "_view_module": "@jupyter-widgets/controls",
       "_view_module_version": "1.5.0",
       "_view_name": "FloatSliderView",
       "continuous_update": true,
       "description": "t",
       "description_tooltip": null,
       "disabled": false,
       "layout": "IPY_MODEL_785bc7dfdf914cb29eda2c7201771783",
       "max": 10.0,
       "min": -10.0,
       "orientation": "horizontal",
       "readout": true,
       "readout_format": ".2f",
       "step": 0.1,
       "style": "IPY_MODEL_1e8b601786834db9af403871dfcfeb49",
       "value": 0.0
      }
     },
     "6340feea1e2c4c70acbec3b3eb0d6a02": {
      "model_module": "@jupyter-widgets/base",
      "model_module_version": "1.2.0",
      "model_name": "LayoutModel",
      "state": {
       "_model_module": "@jupyter-widgets/base",
       "_model_module_version": "1.2.0",
       "_model_name": "LayoutModel",
       "_view_count": null,
       "_view_module": "@jupyter-widgets/base",
       "_view_module_version": "1.2.0",
       "_view_name": "LayoutView",
       "align_content": null,
       "align_items": null,
       "align_self": null,
       "border": null,
       "bottom": null,
       "display": null,
       "flex": null,
       "flex_flow": null,
       "grid_area": null,
       "grid_auto_columns": null,
       "grid_auto_flow": null,
       "grid_auto_rows": null,
       "grid_column": null,
       "grid_gap": null,
       "grid_row": null,
       "grid_template_areas": null,
       "grid_template_columns": null,
       "grid_template_rows": null,
       "height": null,
       "justify_content": null,
       "justify_items": null,
       "left": null,
       "margin": null,
       "max_height": null,
       "max_width": null,
       "min_height": null,
       "min_width": null,
       "object_fit": null,
       "object_position": null,
       "order": null,
       "overflow": null,
       "overflow_x": null,
       "overflow_y": null,
       "padding": null,
       "right": null,
       "top": null,
       "visibility": null,
       "width": null
      }
     },
     "6cc092faa5ac483ea45c07cf031567ad": {
      "model_module": "@jupyter-widgets/base",
      "model_module_version": "1.2.0",
      "model_name": "LayoutModel",
      "state": {
       "_model_module": "@jupyter-widgets/base",
       "_model_module_version": "1.2.0",
       "_model_name": "LayoutModel",
       "_view_count": null,
       "_view_module": "@jupyter-widgets/base",
       "_view_module_version": "1.2.0",
       "_view_name": "LayoutView",
       "align_content": null,
       "align_items": null,
       "align_self": null,
       "border": null,
       "bottom": null,
       "display": null,
       "flex": null,
       "flex_flow": null,
       "grid_area": null,
       "grid_auto_columns": null,
       "grid_auto_flow": null,
       "grid_auto_rows": null,
       "grid_column": null,
       "grid_gap": null,
       "grid_row": null,
       "grid_template_areas": null,
       "grid_template_columns": null,
       "grid_template_rows": null,
       "height": null,
       "justify_content": null,
       "justify_items": null,
       "left": null,
       "margin": null,
       "max_height": null,
       "max_width": null,
       "min_height": null,
       "min_width": null,
       "object_fit": null,
       "object_position": null,
       "order": null,
       "overflow": null,
       "overflow_x": null,
       "overflow_y": null,
       "padding": null,
       "right": null,
       "top": null,
       "visibility": null,
       "width": null
      }
     },
     "6dd2e422d95a4506a54c2150abf990d0": {
      "model_module": "@jupyter-widgets/controls",
      "model_module_version": "1.5.0",
      "model_name": "FloatSliderModel",
      "state": {
       "_dom_classes": [],
       "_model_module": "@jupyter-widgets/controls",
       "_model_module_version": "1.5.0",
       "_model_name": "FloatSliderModel",
       "_view_count": null,
       "_view_module": "@jupyter-widgets/controls",
       "_view_module_version": "1.5.0",
       "_view_name": "FloatSliderView",
       "continuous_update": true,
       "description": "t",
       "description_tooltip": null,
       "disabled": false,
       "layout": "IPY_MODEL_3069bdbc122e4808b01df86e3c3c3129",
       "max": 20.0,
       "min": 0.0,
       "orientation": "horizontal",
       "readout": true,
       "readout_format": ".2f",
       "step": 0.1,
       "style": "IPY_MODEL_e46d55ed27594c86a61eafebc0553456",
       "value": 2.0
      }
     },
     "785bc7dfdf914cb29eda2c7201771783": {
      "model_module": "@jupyter-widgets/base",
      "model_module_version": "1.2.0",
      "model_name": "LayoutModel",
      "state": {
       "_model_module": "@jupyter-widgets/base",
       "_model_module_version": "1.2.0",
       "_model_name": "LayoutModel",
       "_view_count": null,
       "_view_module": "@jupyter-widgets/base",
       "_view_module_version": "1.2.0",
       "_view_name": "LayoutView",
       "align_content": null,
       "align_items": null,
       "align_self": null,
       "border": null,
       "bottom": null,
       "display": null,
       "flex": null,
       "flex_flow": null,
       "grid_area": null,
       "grid_auto_columns": null,
       "grid_auto_flow": null,
       "grid_auto_rows": null,
       "grid_column": null,
       "grid_gap": null,
       "grid_row": null,
       "grid_template_areas": null,
       "grid_template_columns": null,
       "grid_template_rows": null,
       "height": null,
       "justify_content": null,
       "justify_items": null,
       "left": null,
       "margin": null,
       "max_height": null,
       "max_width": null,
       "min_height": null,
       "min_width": null,
       "object_fit": null,
       "object_position": null,
       "order": null,
       "overflow": null,
       "overflow_x": null,
       "overflow_y": null,
       "padding": null,
       "right": null,
       "top": null,
       "visibility": null,
       "width": null
      }
     },
     "79ba384de3a340a39bb4cfab3e912f2e": {
      "model_module": "@jupyter-widgets/controls",
      "model_module_version": "1.5.0",
      "model_name": "SliderStyleModel",
      "state": {
       "_model_module": "@jupyter-widgets/controls",
       "_model_module_version": "1.5.0",
       "_model_name": "SliderStyleModel",
       "_view_count": null,
       "_view_module": "@jupyter-widgets/base",
       "_view_module_version": "1.2.0",
       "_view_name": "StyleView",
       "description_width": "",
       "handle_color": null
      }
     },
     "7c2a1f2e249c4426bc4bd44464772e2e": {
      "model_module": "@jupyter-widgets/controls",
      "model_module_version": "1.5.0",
      "model_name": "VBoxModel",
      "state": {
       "_dom_classes": [
        "widget-interact"
       ],
       "_model_module": "@jupyter-widgets/controls",
       "_model_module_version": "1.5.0",
       "_model_name": "VBoxModel",
       "_view_count": null,
       "_view_module": "@jupyter-widgets/controls",
       "_view_module_version": "1.5.0",
       "_view_name": "VBoxView",
       "box_style": "",
       "children": [
        "IPY_MODEL_149d589f578940128520f16efe0bc0e6",
        "IPY_MODEL_603ebc0d918f446b86eb0db8e23d0125",
        "IPY_MODEL_4a11b2dad3624e9d93fc04fd49eb5e66",
        "IPY_MODEL_d68234ad640a4ce89e4fae3d2278532b"
       ],
       "layout": "IPY_MODEL_2988b667d48c40a2926745a6b70436a5"
      }
     },
     "7e2f413bea2145c3bfef2a2abb21a566": {
      "model_module": "@jupyter-widgets/base",
      "model_module_version": "1.2.0",
      "model_name": "LayoutModel",
      "state": {
       "_model_module": "@jupyter-widgets/base",
       "_model_module_version": "1.2.0",
       "_model_name": "LayoutModel",
       "_view_count": null,
       "_view_module": "@jupyter-widgets/base",
       "_view_module_version": "1.2.0",
       "_view_name": "LayoutView",
       "align_content": null,
       "align_items": null,
       "align_self": null,
       "border": null,
       "bottom": null,
       "display": null,
       "flex": null,
       "flex_flow": null,
       "grid_area": null,
       "grid_auto_columns": null,
       "grid_auto_flow": null,
       "grid_auto_rows": null,
       "grid_column": null,
       "grid_gap": null,
       "grid_row": null,
       "grid_template_areas": null,
       "grid_template_columns": null,
       "grid_template_rows": null,
       "height": null,
       "justify_content": null,
       "justify_items": null,
       "left": null,
       "margin": null,
       "max_height": null,
       "max_width": null,
       "min_height": null,
       "min_width": null,
       "object_fit": null,
       "object_position": null,
       "order": null,
       "overflow": null,
       "overflow_x": null,
       "overflow_y": null,
       "padding": null,
       "right": null,
       "top": null,
       "visibility": null,
       "width": null
      }
     },
     "7f432ac0eeb249069929b72b0e979d8a": {
      "model_module": "@jupyter-widgets/output",
      "model_module_version": "1.0.0",
      "model_name": "OutputModel",
      "state": {
       "_dom_classes": [],
       "_model_module": "@jupyter-widgets/output",
       "_model_module_version": "1.0.0",
       "_model_name": "OutputModel",
       "_view_count": null,
       "_view_module": "@jupyter-widgets/output",
       "_view_module_version": "1.0.0",
       "_view_name": "OutputView",
       "layout": "IPY_MODEL_6cc092faa5ac483ea45c07cf031567ad",
       "msg_id": "",
       "outputs": [
        {
         "data": {
          "image/png": "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\n",
          "text/plain": "<Figure size 576x360 with 2 Axes>"
         },
         "metadata": {
          "needs_background": "light"
         },
         "output_type": "display_data"
        }
       ]
      }
     },
     "87a7bd3425924e77a67b37001308030e": {
      "model_module": "@jupyter-widgets/controls",
      "model_module_version": "1.5.0",
      "model_name": "SliderStyleModel",
      "state": {
       "_model_module": "@jupyter-widgets/controls",
       "_model_module_version": "1.5.0",
       "_model_name": "SliderStyleModel",
       "_view_count": null,
       "_view_module": "@jupyter-widgets/base",
       "_view_module_version": "1.2.0",
       "_view_name": "StyleView",
       "description_width": "",
       "handle_color": null
      }
     },
     "892dd9c73df54bc497d96b87e0bbbd55": {
      "model_module": "@jupyter-widgets/controls",
      "model_module_version": "1.5.0",
      "model_name": "FloatSliderModel",
      "state": {
       "_dom_classes": [],
       "_model_module": "@jupyter-widgets/controls",
       "_model_module_version": "1.5.0",
       "_model_name": "FloatSliderModel",
       "_view_count": null,
       "_view_module": "@jupyter-widgets/controls",
       "_view_module_version": "1.5.0",
       "_view_name": "FloatSliderView",
       "continuous_update": true,
       "description": "theta_sun",
       "description_tooltip": null,
       "disabled": false,
       "layout": "IPY_MODEL_074b27a927794815b1e894b42c5fecb4",
       "max": 89.99,
       "min": 0.0,
       "orientation": "horizontal",
       "readout": true,
       "readout_format": ".2f",
       "step": 0.1,
       "style": "IPY_MODEL_b06598fc8be64d9b80ff336c87d80818",
       "value": 0.0
      }
     },
     "94d718dece8e42879cce4de34b7a0af7": {
      "model_module": "@jupyter-widgets/controls",
      "model_module_version": "1.5.0",
      "model_name": "SliderStyleModel",
      "state": {
       "_model_module": "@jupyter-widgets/controls",
       "_model_module_version": "1.5.0",
       "_model_name": "SliderStyleModel",
       "_view_count": null,
       "_view_module": "@jupyter-widgets/base",
       "_view_module_version": "1.2.0",
       "_view_name": "StyleView",
       "description_width": "",
       "handle_color": null
      }
     },
     "9f0cda26ac5e40ffa9c327ddcbaae9fc": {
      "model_module": "@jupyter-widgets/controls",
      "model_module_version": "1.5.0",
      "model_name": "IntSliderModel",
      "state": {
       "_dom_classes": [],
       "_model_module": "@jupyter-widgets/controls",
       "_model_module_version": "1.5.0",
       "_model_name": "IntSliderModel",
       "_view_count": null,
       "_view_module": "@jupyter-widgets/controls",
       "_view_module_version": "1.5.0",
       "_view_name": "IntSliderView",
       "continuous_update": true,
       "description": "fv",
       "description_tooltip": null,
       "disabled": false,
       "layout": "IPY_MODEL_5f92dd6b2c434585a1243a5cede2c3f4",
       "max": 100,
       "min": 1,
       "orientation": "horizontal",
       "readout": true,
       "readout_format": "d",
       "step": 1,
       "style": "IPY_MODEL_94d718dece8e42879cce4de34b7a0af7",
       "value": 20
      }
     },
     "af01bd7eb9b24f3789ade13d1aab3193": {
      "model_module": "@jupyter-widgets/base",
      "model_module_version": "1.2.0",
      "model_name": "LayoutModel",
      "state": {
       "_model_module": "@jupyter-widgets/base",
       "_model_module_version": "1.2.0",
       "_model_name": "LayoutModel",
       "_view_count": null,
       "_view_module": "@jupyter-widgets/base",
       "_view_module_version": "1.2.0",
       "_view_name": "LayoutView",
       "align_content": null,
       "align_items": null,
       "align_self": null,
       "border": null,
       "bottom": null,
       "display": null,
       "flex": null,
       "flex_flow": null,
       "grid_area": null,
       "grid_auto_columns": null,
       "grid_auto_flow": null,
       "grid_auto_rows": null,
       "grid_column": null,
       "grid_gap": null,
       "grid_row": null,
       "grid_template_areas": null,
       "grid_template_columns": null,
       "grid_template_rows": null,
       "height": null,
       "justify_content": null,
       "justify_items": null,
       "left": null,
       "margin": null,
       "max_height": null,
       "max_width": null,
       "min_height": null,
       "min_width": null,
       "object_fit": null,
       "object_position": null,
       "order": null,
       "overflow": null,
       "overflow_x": null,
       "overflow_y": null,
       "padding": null,
       "right": null,
       "top": null,
       "visibility": null,
       "width": null
      }
     },
     "b06598fc8be64d9b80ff336c87d80818": {
      "model_module": "@jupyter-widgets/controls",
      "model_module_version": "1.5.0",
      "model_name": "SliderStyleModel",
      "state": {
       "_model_module": "@jupyter-widgets/controls",
       "_model_module_version": "1.5.0",
       "_model_name": "SliderStyleModel",
       "_view_count": null,
       "_view_module": "@jupyter-widgets/base",
       "_view_module_version": "1.2.0",
       "_view_name": "StyleView",
       "description_width": "",
       "handle_color": null
      }
     },
     "b2576718c3984c9ea2ee9fe459d05d16": {
      "model_module": "@jupyter-widgets/controls",
      "model_module_version": "1.5.0",
      "model_name": "SliderStyleModel",
      "state": {
       "_model_module": "@jupyter-widgets/controls",
       "_model_module_version": "1.5.0",
       "_model_name": "SliderStyleModel",
       "_view_count": null,
       "_view_module": "@jupyter-widgets/base",
       "_view_module_version": "1.2.0",
       "_view_name": "StyleView",
       "description_width": "",
       "handle_color": null
      }
     },
     "b680e0fa8f794f1fa6193348887d91c8": {
      "model_module": "@jupyter-widgets/output",
      "model_module_version": "1.0.0",
      "model_name": "OutputModel",
      "state": {
       "_dom_classes": [],
       "_model_module": "@jupyter-widgets/output",
       "_model_module_version": "1.0.0",
       "_model_name": "OutputModel",
       "_view_count": null,
       "_view_module": "@jupyter-widgets/output",
       "_view_module_version": "1.0.0",
       "_view_name": "OutputView",
       "layout": "IPY_MODEL_f7b93283d97b4b8a8c46e85acf4541c6",
       "msg_id": "",
       "outputs": [
        {
         "ename": "TypeError",
         "evalue": "ad_rad_transfer() missing 2 required positional arguments: 'gcos' and 'Vp'",
         "output_type": "error",
         "traceback": [
          "\u001b[0;31m---------------------------------------------------------------------------\u001b[0m",
          "\u001b[0;31mTypeError\u001b[0m                                 Traceback (most recent call last)",
          "File \u001b[0;32m~/s/miniconda3/lib/python3.9/site-packages/ipywidgets/widgets/interaction.py:257\u001b[0m, in \u001b[0;36minteractive.update\u001b[0;34m(self, *args)\u001b[0m\n\u001b[1;32m    255\u001b[0m     value \u001b[38;5;241m=\u001b[39m widget\u001b[38;5;241m.\u001b[39mget_interact_value()\n\u001b[1;32m    256\u001b[0m     \u001b[38;5;28mself\u001b[39m\u001b[38;5;241m.\u001b[39mkwargs[widget\u001b[38;5;241m.\u001b[39m_kwarg] \u001b[38;5;241m=\u001b[39m value\n\u001b[0;32m--> 257\u001b[0m \u001b[38;5;28mself\u001b[39m\u001b[38;5;241m.\u001b[39mresult \u001b[38;5;241m=\u001b[39m \u001b[38;5;28;43mself\u001b[39;49m\u001b[38;5;241;43m.\u001b[39;49m\u001b[43mf\u001b[49m\u001b[43m(\u001b[49m\u001b[38;5;241;43m*\u001b[39;49m\u001b[38;5;241;43m*\u001b[39;49m\u001b[38;5;28;43mself\u001b[39;49m\u001b[38;5;241;43m.\u001b[39;49m\u001b[43mkwargs\u001b[49m\u001b[43m)\u001b[49m\n\u001b[1;32m    258\u001b[0m show_inline_matplotlib_plots()\n\u001b[1;32m    259\u001b[0m \u001b[38;5;28;01mif\u001b[39;00m \u001b[38;5;28mself\u001b[39m\u001b[38;5;241m.\u001b[39mauto_display \u001b[38;5;129;01mand\u001b[39;00m \u001b[38;5;28mself\u001b[39m\u001b[38;5;241m.\u001b[39mresult \u001b[38;5;129;01mis\u001b[39;00m \u001b[38;5;129;01mnot\u001b[39;00m \u001b[38;5;28;01mNone\u001b[39;00m:\n",
          "Input \u001b[0;32mIn [10]\u001b[0m, in \u001b[0;36mg\u001b[0;34m(fv, D)\u001b[0m\n\u001b[1;32m      3\u001b[0m \u001b[38;5;129m@interact\u001b[39m(fv\u001b[38;5;241m=\u001b[39m(\u001b[38;5;241m1\u001b[39m,\u001b[38;5;241m100\u001b[39m,\u001b[38;5;241m1\u001b[39m), D \u001b[38;5;241m=\u001b[39m (\u001b[38;5;241m10\u001b[39m,\u001b[38;5;241m200\u001b[39m,\u001b[38;5;241m1\u001b[39m))\n\u001b[1;32m      4\u001b[0m \u001b[38;5;28;01mdef\u001b[39;00m \u001b[38;5;21mg\u001b[39m(fv\u001b[38;5;241m=\u001b[39m\u001b[38;5;241m20\u001b[39m, D \u001b[38;5;241m=\u001b[39m \u001b[38;5;241m70\u001b[39m):\n\u001b[0;32m----> 5\u001b[0m     \u001b[38;5;28;01mreturn\u001b[39;00m \u001b[43mplot_glass_silver\u001b[49m\u001b[43m(\u001b[49m\u001b[43mfv\u001b[49m\u001b[43m,\u001b[49m\u001b[43mD\u001b[49m\u001b[43m)\u001b[49m\n",
          "Input \u001b[0;32mIn [9]\u001b[0m, in \u001b[0;36mplot_glass_silver\u001b[0;34m(fv, D)\u001b[0m\n\u001b[1;32m     21\u001b[0m qext, qsca \u001b[38;5;241m=\u001b[39m mie\u001b[38;5;241m.\u001b[39mscatter_efficiency(lam2,Nlayers[\u001b[38;5;241m1\u001b[39m],Np,D)[:\u001b[38;5;241m2\u001b[39m]\n\u001b[1;32m     22\u001b[0m qabs \u001b[38;5;241m=\u001b[39m qext \u001b[38;5;241m-\u001b[39m qsca\n\u001b[0;32m---> 23\u001b[0m Rtot, Ttot \u001b[38;5;241m=\u001b[39m \u001b[43mrt\u001b[49m\u001b[38;5;241;43m.\u001b[39;49m\u001b[43mad_rad_transfer\u001b[49m\u001b[43m(\u001b[49m\u001b[43mlam2\u001b[49m\u001b[43m,\u001b[49m\u001b[43mtfilm\u001b[49m\u001b[43m,\u001b[49m\u001b[43mNlayers\u001b[49m\u001b[43m,\u001b[49m\u001b[43mfv\u001b[49m\u001b[43m,\u001b[49m\u001b[43mD\u001b[49m\u001b[43m,\u001b[49m\u001b[43mNp\u001b[49m\u001b[43m)\u001b[49m\n\u001b[1;32m     25\u001b[0m fig, ax \u001b[38;5;241m=\u001b[39m plt\u001b[38;5;241m.\u001b[39msubplots(\u001b[38;5;241m1\u001b[39m,\u001b[38;5;241m3\u001b[39m)\n\u001b[1;32m     26\u001b[0m fig\u001b[38;5;241m.\u001b[39mset_size_inches(\u001b[38;5;241m20\u001b[39m, \u001b[38;5;241m5\u001b[39m)\n",
          "\u001b[0;31mTypeError\u001b[0m: ad_rad_transfer() missing 2 required positional arguments: 'gcos' and 'Vp'"
         ]
        }
       ]
      }
     },
     "bbd0e13e50b748a1ba6b961c7c9ac63d": {
      "model_module": "@jupyter-widgets/base",
      "model_module_version": "1.2.0",
      "model_name": "LayoutModel",
      "state": {
       "_model_module": "@jupyter-widgets/base",
       "_model_module_version": "1.2.0",
       "_model_name": "LayoutModel",
       "_view_count": null,
       "_view_module": "@jupyter-widgets/base",
       "_view_module_version": "1.2.0",
       "_view_name": "LayoutView",
       "align_content": null,
       "align_items": null,
       "align_self": null,
       "border": null,
       "bottom": null,
       "display": null,
       "flex": null,
       "flex_flow": null,
       "grid_area": null,
       "grid_auto_columns": null,
       "grid_auto_flow": null,
       "grid_auto_rows": null,
       "grid_column": null,
       "grid_gap": null,
       "grid_row": null,
       "grid_template_areas": null,
       "grid_template_columns": null,
       "grid_template_rows": null,
       "height": null,
       "justify_content": null,
       "justify_items": null,
       "left": null,
       "margin": null,
       "max_height": null,
       "max_width": null,
       "min_height": null,
       "min_width": null,
       "object_fit": null,
       "object_position": null,
       "order": null,
       "overflow": null,
       "overflow_x": null,
       "overflow_y": null,
       "padding": null,
       "right": null,
       "top": null,
       "visibility": null,
       "width": null
      }
     },
     "d68234ad640a4ce89e4fae3d2278532b": {
      "model_module": "@jupyter-widgets/output",
      "model_module_version": "1.0.0",
      "model_name": "OutputModel",
      "state": {
       "_dom_classes": [],
       "_model_module": "@jupyter-widgets/output",
       "_model_module_version": "1.0.0",
       "_model_name": "OutputModel",
       "_view_count": null,
       "_view_module": "@jupyter-widgets/output",
       "_view_module_version": "1.0.0",
       "_view_name": "OutputView",
       "layout": "IPY_MODEL_af01bd7eb9b24f3789ade13d1aab3193",
       "msg_id": "",
       "outputs": [
        {
         "data": {
          "image/png": "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\n",
          "text/plain": "<Figure size 648x360 with 1 Axes>"
         },
         "metadata": {
          "needs_background": "light"
         },
         "output_type": "display_data"
        }
       ]
      }
     },
     "e46d55ed27594c86a61eafebc0553456": {
      "model_module": "@jupyter-widgets/controls",
      "model_module_version": "1.5.0",
      "model_name": "SliderStyleModel",
      "state": {
       "_model_module": "@jupyter-widgets/controls",
       "_model_module_version": "1.5.0",
       "_model_name": "SliderStyleModel",
       "_view_count": null,
       "_view_module": "@jupyter-widgets/base",
       "_view_module_version": "1.2.0",
       "_view_name": "StyleView",
       "description_width": "",
       "handle_color": null
      }
     },
     "f56bf5fd8979489d9d932b29298a9680": {
      "model_module": "@jupyter-widgets/controls",
      "model_module_version": "1.5.0",
      "model_name": "SliderStyleModel",
      "state": {
       "_model_module": "@jupyter-widgets/controls",
       "_model_module_version": "1.5.0",
       "_model_name": "SliderStyleModel",
       "_view_count": null,
       "_view_module": "@jupyter-widgets/base",
       "_view_module_version": "1.2.0",
       "_view_name": "StyleView",
       "description_width": "",
       "handle_color": null
      }
     },
     "f6b2cdedccb3440f8a19526f92dfc4cc": {
      "model_module": "@jupyter-widgets/base",
      "model_module_version": "1.2.0",
      "model_name": "LayoutModel",
      "state": {
       "_model_module": "@jupyter-widgets/base",
       "_model_module_version": "1.2.0",
       "_model_name": "LayoutModel",
       "_view_count": null,
       "_view_module": "@jupyter-widgets/base",
       "_view_module_version": "1.2.0",
       "_view_name": "LayoutView",
       "align_content": null,
       "align_items": null,
       "align_self": null,
       "border": null,
       "bottom": null,
       "display": null,
       "flex": null,
       "flex_flow": null,
       "grid_area": null,
       "grid_auto_columns": null,
       "grid_auto_flow": null,
       "grid_auto_rows": null,
       "grid_column": null,
       "grid_gap": null,
       "grid_row": null,
       "grid_template_areas": null,
       "grid_template_columns": null,
       "grid_template_rows": null,
       "height": null,
       "justify_content": null,
       "justify_items": null,
       "left": null,
       "margin": null,
       "max_height": null,
       "max_width": null,
       "min_height": null,
       "min_width": null,
       "object_fit": null,
       "object_position": null,
       "order": null,
       "overflow": null,
       "overflow_x": null,
       "overflow_y": null,
       "padding": null,
       "right": null,
       "top": null,
       "visibility": null,
       "width": null
      }
     },
     "f7b93283d97b4b8a8c46e85acf4541c6": {
      "model_module": "@jupyter-widgets/base",
      "model_module_version": "1.2.0",
      "model_name": "LayoutModel",
      "state": {
       "_model_module": "@jupyter-widgets/base",
       "_model_module_version": "1.2.0",
       "_model_name": "LayoutModel",
       "_view_count": null,
       "_view_module": "@jupyter-widgets/base",
       "_view_module_version": "1.2.0",
       "_view_name": "LayoutView",
       "align_content": null,
       "align_items": null,
       "align_self": null,
       "border": null,
       "bottom": null,
       "display": null,
       "flex": null,
       "flex_flow": null,
       "grid_area": null,
       "grid_auto_columns": null,
       "grid_auto_flow": null,
       "grid_auto_rows": null,
       "grid_column": null,
       "grid_gap": null,
       "grid_row": null,
       "grid_template_areas": null,
       "grid_template_columns": null,
       "grid_template_rows": null,
       "height": null,
       "justify_content": null,
       "justify_items": null,
       "left": null,
       "margin": null,
       "max_height": null,
       "max_width": null,
       "min_height": null,
       "min_width": null,
       "object_fit": null,
       "object_position": null,
       "order": null,
       "overflow": null,
       "overflow_x": null,
       "overflow_y": null,
       "padding": null,
       "right": null,
       "top": null,
       "visibility": null,
       "width": null
      }
     },
     "f978a1be535a45658b33ee3d4d332d2a": {
      "model_module": "@jupyter-widgets/controls",
      "model_module_version": "1.5.0",
      "model_name": "VBoxModel",
      "state": {
       "_dom_classes": [
        "widget-interact"
       ],
       "_model_module": "@jupyter-widgets/controls",
       "_model_module_version": "1.5.0",
       "_model_name": "VBoxModel",
       "_view_count": null,
       "_view_module": "@jupyter-widgets/controls",
       "_view_module_version": "1.5.0",
       "_view_name": "VBoxView",
       "box_style": "",
       "children": [
        "IPY_MODEL_9f0cda26ac5e40ffa9c327ddcbaae9fc",
        "IPY_MODEL_2f3672cc879644468be071b999a20937",
        "IPY_MODEL_b680e0fa8f794f1fa6193348887d91c8"
       ],
       "layout": "IPY_MODEL_3010fda2b763493a9a5058d91fe23ed5"
      }
     }
    },
    "version_major": 2,
    "version_minor": 0
   }
  }
 },
 "nbformat": 4,
 "nbformat_minor": 5
}