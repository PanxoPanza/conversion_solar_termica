{
 "cells": [
  {
   "cell_type": "code",
   "execution_count": 1,
   "id": "3c597da7",
   "metadata": {
    "slideshow": {
     "slide_type": "skip"
    },
    "tags": [
     "remove-cell"
    ]
   },
   "outputs": [],
   "source": [
    "import importlib.util\n",
    "if importlib.util.find_spec('empylib') is None:\n",
    "    !pip install git+https://github.com/PanxoPanza/empylib.git"
   ]
  },
  {
   "cell_type": "markdown",
   "id": "8b01ca79",
   "metadata": {
    "slideshow": {
     "slide_type": "slide"
    }
   },
   "source": [
    "# Interacción materia-luz"
   ]
  },
  {
   "cell_type": "markdown",
   "id": "61b0f1b1",
   "metadata": {
    "slideshow": {
     "slide_type": "slide"
    }
   },
   "source": [
    "## Fundamentos del movimiento oscilatorio"
   ]
  },
  {
   "cell_type": "markdown",
   "id": "358320c5",
   "metadata": {
    "slideshow": {
     "slide_type": "slide"
    }
   },
   "source": [
    "### Frecuencia natural de un sistema vibratorio\n",
    "\n",
    "Analicemos el caso simplificado de un sistema masa resorte"
   ]
  },
  {
   "cell_type": "markdown",
   "id": "294ae73a",
   "metadata": {
    "cell_style": "split"
   },
   "source": [
    "<img src=\"./images/free_sistem_one_degree.png\" width=\"400px\" align= center>\n",
    "\n",
    "donde, $k$ es la constante de rigidez del resorte, y $m$ es la masa."
   ]
  },
  {
   "cell_type": "markdown",
   "id": "769ed6fc",
   "metadata": {
    "cell_style": "split",
    "slideshow": {
     "slide_type": "fragment"
    }
   },
   "source": [
    "El resorte ejerce una **fuerza de restauración**, $F_\\mathrm{res} = kx$, que actúa en sentido contrario al desplazamiento de la masa.\n",
    "\n",
    "<img src=\"./images/dcl_mass-spring.png\" width=\"400px\" align= center>"
   ]
  },
  {
   "cell_type": "markdown",
   "id": "85dfd5b2",
   "metadata": {
    "cell_style": "split",
    "slideshow": {
     "slide_type": "fragment"
    }
   },
   "source": [
    "Mediante un equilibrio de fuerzas, concluimos que la ecuación gobernante es:\n",
    "\n",
    "\\begin{equation*}\n",
    "\\ddot{x} + \\omega_n^2 x = 0 \n",
    "\\end{equation*}\n",
    "\n",
    "donde **$\\omega_n = \\sqrt{k/m}$, es la frecuencia natural del sistema**"
   ]
  },
  {
   "cell_type": "markdown",
   "id": "f9eda553",
   "metadata": {
    "slideshow": {
     "slide_type": "slide"
    }
   },
   "source": [
    "**La frecuencia natural** de un sistema vibratorio **representa la frecuencia de oscilación del sistema en ausencia de amortiguación y fuerzas externas**."
   ]
  },
  {
   "cell_type": "markdown",
   "id": "f53ca4a2",
   "metadata": {
    "slideshow": {
     "slide_type": "fragment"
    }
   },
   "source": [
    "Es una firma espectral que **solo se puede cambiar ajustando la masa $m$ o la constante de rigidez del sistema $k$.**"
   ]
  },
  {
   "cell_type": "markdown",
   "id": "301a52be",
   "metadata": {
    "cell_style": "split",
    "slideshow": {
     "slide_type": "fragment"
    }
   },
   "source": [
    "Esto significa que, **ante cualquier perturbación del sistema en equilibrio, el sistema oscilará en su frecuencia natural $\\omega_n$.**\n",
    "\n",
    "<img src=\"./images/1dof-1spring.gif\" width=\"300px\" align= center></img>\n",
    "<center> <small>Sistema con 1 grado de libertad (Fuente: <a href=\"https://www.acs.psu.edu/drussell/demos.html\">Daniel A. Russell)</a></small></center>\n",
    "\n",
    "Cada sistema tiene una frecuencia natural, que puede estar definida por distintos parámetros. Sin embargo, **la característica más importante, es la presencia de una fuerza de restauración opuesta al movimiento del cuerpo.**"
   ]
  },
  {
   "cell_type": "markdown",
   "id": "f90d4972",
   "metadata": {
    "cell_style": "split",
    "slideshow": {
     "slide_type": "fragment"
    }
   },
   "source": [
    "Por ejemplo, en un péndulo, la fuerza de restauración corresponde a la componente de la fuerza de gravedad que actúa en sentido contrario a la aceleración del cuerpo.\n",
    "\n",
    "<img src=\"./images/pendulum_forces.gif\" width=\"400px\" align= center>"
   ]
  },
  {
   "cell_type": "markdown",
   "id": "d335b0f9",
   "metadata": {
    "slideshow": {
     "slide_type": "slide"
    }
   },
   "source": [
    "### Vibración forzada amortiguada con un grado de libertad\n",
    "La frecuencia natural cobra relevancia cuando analizamos vibraciones forzadas.\n",
    "\n",
    "Consideremos, por ejemplo, un sistema masa-resorte amortiguado, donde $c$ es la constante de amortiguación. El sistema es excitado por una fuerza externa oscilatoria de la forma $F(t) = F_0 e^{i\\omega t}$, donde $F_0$ es una constante. "
   ]
  },
  {
   "cell_type": "markdown",
   "id": "f67c5def",
   "metadata": {
    "cell_style": "split"
   },
   "source": [
    "<img src=\"./images/forced_damped_system.png\" width=\"400px\" align= center>"
   ]
  },
  {
   "cell_type": "markdown",
   "id": "bc1aa9a9",
   "metadata": {
    "cell_style": "split",
    "slideshow": {
     "slide_type": "fragment"
    }
   },
   "source": [
    "La ecuación gobernante de este sistema está dada por:\n",
    "\n",
    "\\begin{equation*}\n",
    "\\ddot{x} + \\frac{c}{m}\\dot{x} +  \\omega_n^2 x = \\frac{F_0}{m} e^{- i\\omega t},\n",
    "\\end{equation*}\n"
   ]
  },
  {
   "cell_type": "markdown",
   "id": "a7035f82",
   "metadata": {
    "cell_style": "split",
    "slideshow": {
     "slide_type": "fragment"
    }
   },
   "source": [
    "Cuya solución estacionaria es de la forma $x = Ae^{-i\\omega t}$:\n",
    "\n",
    "\\begin{equation*}\n",
    "x(t) = - \\frac{F_0/m}{\\omega^2 - \\omega_n^2 + i\\frac{c}{m} \\omega}e^{- i\\omega t}\n",
    "\\end{equation*}\n",
    "\n",
    "donde $A = - \\frac{F_0/m}{\\omega^2 - \\omega_n^2 + i\\frac{c}{m} \\omega}$ representa la amplitud de la respuesta oscilatoria.\n"
   ]
  },
  {
   "cell_type": "markdown",
   "id": "681f2ebf",
   "metadata": {
    "slideshow": {
     "slide_type": "slide"
    }
   },
   "source": [
    "La ecuación indica que **la amplitud de la respuesta depende principalmente, de la frecuencia de la fuerza externa $\\omega$**."
   ]
  },
  {
   "cell_type": "markdown",
   "id": "131e60a4",
   "metadata": {
    "cell_style": "split",
    "slideshow": {
     "slide_type": "fragment"
    }
   },
   "source": [
    "Más aún, como vemos en esta herramienta interactiva de [movimiento forzado amortiguado](https://www.compadre.org/osp/EJSS/4026/134.htm?F=1), cuando $\\omega \\approx \\omega_n$ la amplitud aumenta a un límite crítico."
   ]
  },
  {
   "cell_type": "markdown",
   "id": "db28d74f",
   "metadata": {
    "cell_style": "split"
   },
   "source": [
    "<img src=\"./images/forced.gif\" width=\"300px\" align= center></img>\n",
    "<center> <small>Respuesta ante fuerza oscilatoria  (Fuente: <a href=\"https://www.acs.psu.edu/drussell/demos.html\">Daniel A. Russell)</a></small></center>"
   ]
  },
  {
   "cell_type": "markdown",
   "id": "f9fa7b67",
   "metadata": {
    "slideshow": {
     "slide_type": "fragment"
    }
   },
   "source": [
    "En este caso decimos que el **sistema está en resonancia**."
   ]
  },
  {
   "cell_type": "markdown",
   "id": "28d8f099",
   "metadata": {
    "slideshow": {
     "slide_type": "slide"
    }
   },
   "source": [
    "La mejor forma de visualizar este fenómeno es analizando la amplitud en función de la frecuencia de la fuerza externa $\\omega$. En el gráfico a continuación mostramos el valor del módulo de la amplitud, $|A|$ (izquierda) y la parte real e imaginaria de la amplitud (derecha)."
   ]
  },
  {
   "cell_type": "code",
   "execution_count": 2,
   "id": "5dd7c458",
   "metadata": {
    "slideshow": {
     "slide_type": "skip"
    },
    "tags": [
     "hide-input"
    ]
   },
   "outputs": [],
   "source": [
    "import numpy as np\n",
    "import matplotlib.pyplot as plt\n",
    "\n",
    "def x_amplitude(k,c):\n",
    "    \n",
    "    m = 1                                           # masa del cuerpo\n",
    "    w = np.linspace(0,2,200)                       # rango de frecuencias\n",
    "    F0 = 1                                          # Amplitud de la fuerza\n",
    "    wn = np.sqrt(k/m)                               # frencuencia natural\n",
    "    A  = lambda x: - F0/m/(x**2 - wn**2 + 1j*c/m*x) # amplitud de la respuesta\n",
    "    \n",
    "    # formateamos el lienzo para graficar\n",
    "    fig, ax = plt.subplots(1,2)             # número de ejes en la figura\n",
    "    fig.set_size_inches(10, 3)              # tamaño de la figura\n",
    "    plt.rcParams['font.size'] = '12'        # tamaño de fuente\n",
    "    \n",
    "    # Ploteamos gráfico izquierdo\n",
    "    ax[0].plot(w,np.absolute(A(w)),'k',label=\"$|A|$\")     # módulo de la amplitud\n",
    "    \n",
    "    # marcar línea de frecuencia natural\n",
    "    ax[0].axvline(x = wn, color='r', ls='--', lw='1.0')  \n",
    "    ax[0].text(wn*1.01,np.absolute(A(wn)),'$\\omega_n$', fontsize='12', color='r')\n",
    "    \n",
    "    # etiquetar valores de m y F0 en el gráfico\n",
    "    x0, y0 = 0.1, 100\n",
    "    ax[0].text(x0, y0,r'$m$ = %.0f kg'   % m , fontsize='10', color='k')\n",
    "    ax[0].text(x0, y0*0.55,r'$F_0$ = %.0f N'% F0, fontsize='10', color='k')\n",
    "    \n",
    "    # Ploteamos gráfico derecho\n",
    "    ax[1].plot(w,A(w).real,'b',label=r\"$\\mathrm{Re}(A)$\") # parte real de la amplitud\n",
    "    ax[1].plot(w,A(w).imag,'r',label=r\"$\\mathrm{Im}(A)$\") # parte imaginaria de la amplitud\n",
    "    \n",
    "    for i in [0,1]:\n",
    "        ax[i].set_xlabel('$\\omega$ ')\n",
    "        #ax[i].grid() \n",
    "        ax[i].set_xlim(0,2.0)\n",
    "        ax[i].legend(frameon=False)\n",
    "    ax[0].set_yscale('log')\n",
    "    ax[0].set_ylim(0.1,200)\n",
    "    ax[0].set_ylabel('Módulo de la amplitud')\n",
    "    ax[1].set_ylabel('Amplitud')\n",
    "    plt.subplots_adjust(wspace=0.3)\n",
    "    plt.show()"
   ]
  },
  {
   "cell_type": "code",
   "execution_count": 3,
   "id": "e1bf77f3",
   "metadata": {
    "slideshow": {
     "slide_type": "fragment"
    },
    "tags": [
     "hide-input"
    ]
   },
   "outputs": [
    {
     "data": {
      "application/vnd.jupyter.widget-view+json": {
       "model_id": "f3118a2d86854dd9aa395fa7aeaff4d8",
       "version_major": 2,
       "version_minor": 0
      },
      "text/plain": [
       "interactive(children=(FloatSlider(value=1.0, description='k', max=2.0, min=0.3), FloatSlider(value=0.02, descr…"
      ]
     },
     "metadata": {},
     "output_type": "display_data"
    }
   ],
   "source": [
    "from ipywidgets import interact\n",
    "\n",
    "@interact( k=(0.3,2.0,0.1), \n",
    "           c=(0.02,0.2,0.01))\n",
    "def g(k=1, c=0):\n",
    "    return x_amplitude(k,c)"
   ]
  },
  {
   "cell_type": "markdown",
   "id": "57272148",
   "metadata": {
    "slideshow": {
     "slide_type": "slide"
    }
   },
   "source": [
    "La frecuencia de resonancia es fundamental en el diseño de puentes, edificios, instrumentos acústicos y otras. "
   ]
  },
  {
   "cell_type": "markdown",
   "id": "0d167b69",
   "metadata": {
    "cell_style": "split",
    "slideshow": {
     "slide_type": "fragment"
    }
   },
   "source": [
    "Un ejemplo emblemático es el [colapso del puente Tacoma en 1940](https://es.wikipedia.org/wiki/Puente_de_Tacoma_(1940)).\n",
    "\n",
    "<img src=\"./images/tacoma-narrows-bridge-shaking.gif\" width=\"400px\" align= center>\n",
    "\n",
    "El puente se derrumbó debido al aleteo aeroelástico producido por los vientos, el cual coincidía con la frecuencia natural del puente"
   ]
  },
  {
   "cell_type": "markdown",
   "id": "68665458",
   "metadata": {
    "cell_style": "split",
    "slideshow": {
     "slide_type": "fragment"
    }
   },
   "source": [
    "Otro ejemplo típico es el columpio\n",
    "\n",
    "<img src=\"./images/swing_resonance.gif\" width=\"300px\" align= center>\n",
    "\n",
    "En este caso, la fuerza externa son las piernas. La resonancia se alcanza cuando estas se mueven en sincronía con la frecuencia natural del péndulo. El efecto de amortiguación en este caso, está dado por el arrastre del viento, fricción, etc."
   ]
  },
  {
   "cell_type": "markdown",
   "id": "b2dc3de3",
   "metadata": {
    "slideshow": {
     "slide_type": "slide"
    }
   },
   "source": [
    "### Sistemas vibratorios con más de un grado de libertad\n",
    "\n",
    "Un sistema vibratorio puede tener más de una frecuencia natural. **El número de frecuencias naturales está directamente relacionado con el número de grados de libertad del sistema**. "
   ]
  },
  {
   "cell_type": "markdown",
   "id": "de5c7040",
   "metadata": {
    "cell_style": "center",
    "slideshow": {
     "slide_type": "fragment"
    }
   },
   "source": [
    "**Sistema con 1 grado de libertad** (aquí la frecuencia natural cambia a $\\omega_n = \\sqrt{2k/m}$, debido a la presencia de 2 resortes)\n",
    "\n",
    "|modo | $\\omega_n$   |\n",
    "|:---:|:------------:|\n",
    "| 1   | $1.414\\sqrt{k/m}$ | \n",
    "\n",
    "<img src=\"./images/1dof.gif\" width=\"200px\" align= center></img>\n",
    "<center> <small>Sistema con 1 grado de libertad (Fuente: <a href=\"https://www.acs.psu.edu/drussell/demos.html\">Daniel A. Russell)</a></small></center>"
   ]
  },
  {
   "cell_type": "markdown",
   "id": "4643885a",
   "metadata": {
    "cell_style": "split",
    "slideshow": {
     "slide_type": "slide"
    }
   },
   "source": [
    "**Sistema con 2 grados de libertad**\n",
    "\n",
    "|modo | $\\omega_n$   |\n",
    "|:---:|:------------:|\n",
    "| 1   | $1.000\\sqrt{k/m}$ |\n",
    "| 2   | $1.732\\sqrt{k/m}$| \n",
    "\n",
    "<img src=\"./images/2dof-mode-1.gif\" width=\"300px\" align= center></img>\n",
    "<img src=\"./images/2dof-mode-2.gif\" width=\"300px\" align= center></img>\n",
    "<center> <small>Sistema con 2 grados de libertad (Fuente: <a href=\"https://www.acs.psu.edu/drussell/demos.html\">Daniel A. Russell)</a></small></center>"
   ]
  },
  {
   "cell_type": "markdown",
   "id": "5a0c9868",
   "metadata": {
    "cell_style": "split",
    "slideshow": {
     "slide_type": "fragment"
    }
   },
   "source": [
    "**Sistema con 3 grados de libertad**\n",
    "\n",
    "|modo | $\\omega_n$   |\n",
    "|:---:|:------------:|\n",
    "| 1   | $0.765\\sqrt{k/m}$ |\n",
    "| 2   | $1.414\\sqrt{k/m}$| \n",
    "| 3   | $1.868\\sqrt{k/m}$| \n",
    "\n",
    "<img src=\"./images/3dof-mode-1.gif\" width=\"300px\" align= center></img>\n",
    "<img src=\"./images/3dof-mode-2.gif\" width=\"300px\" align= center></img>\n",
    "<img src=\"./images/3dof-mode-3.gif\" width=\"300px\" align= center></img>\n",
    "<center> <small>Sistema con 3 grados de libertad (Fuente: <a href=\"https://www.acs.psu.edu/drussell/demos.html\">Daniel A. Russell)</a></small></center>"
   ]
  },
  {
   "cell_type": "markdown",
   "id": "26c69b02",
   "metadata": {
    "slideshow": {
     "slide_type": "slide"
    }
   },
   "source": [
    "Notar la forma en que las frecuencias naturales se distribuye a medida que aumentamos los grados de libertad del sistema (*Las flechas rojas indican la dirección de las masas asociada a cada modo de vibración*):\n",
    "\n",
    "\n",
    "<img src=\"./images/nat_frequency_hybrid.png\" width=\"800px\" align= center>"
   ]
  },
  {
   "cell_type": "markdown",
   "id": "c2c54a68",
   "metadata": {
    "slideshow": {
     "slide_type": "slide"
    }
   },
   "source": [
    "En este caso, para **activar la resonancia de un modo mediante una fuerza oscilatoria externa** debe cumplir dos condiciones:\n",
    "\n",
    "- **Debe oscilar en la frecuencia natural del modo respectivo**\n",
    "- **El movimiento de la fuerza debe ser compatible con el movimiento de cada grado de libertad**"
   ]
  },
  {
   "cell_type": "markdown",
   "id": "88b15e63",
   "metadata": {
    "slideshow": {
     "slide_type": "slide"
    }
   },
   "source": [
    "## Interacción de luz gases\n",
    "\n",
    "La interacción de luz con gases es el modelo más simple. En este caso, cada molécula representa un sistema oscilatorio"
   ]
  },
  {
   "cell_type": "markdown",
   "id": "1f02dfa3",
   "metadata": {
    "slideshow": {
     "slide_type": "slide"
    }
   },
   "source": [
    "### El oscilador armónico\n",
    "Consideremos la molecula de agua."
   ]
  },
  {
   "cell_type": "markdown",
   "id": "0435f143",
   "metadata": {
    "cell_style": "split",
    "slideshow": {
     "slide_type": "fragment"
    }
   },
   "source": [
    "<img src=\"./images/water_molecule.png\" width=\"400px\" align= center>"
   ]
  },
  {
   "cell_type": "markdown",
   "id": "511ceed2",
   "metadata": {
    "cell_style": "split",
    "slideshow": {
     "slide_type": "-"
    }
   },
   "source": [
    "Esta molécula está **polarizada**, es decir, posee una **carga eléctrica neta positiva en un extremo y negativa en otro**. \n",
    "\n",
    "Esto ocurre debido a que los electrones se mantienen, preferentemente, en la región cercana al núcleo del oxígeno."
   ]
  },
  {
   "cell_type": "markdown",
   "id": "90573d0f",
   "metadata": {
    "cell_style": "center",
    "slideshow": {
     "slide_type": "slide"
    }
   },
   "source": [
    "El enlance entre el hidrógeno y oxígeno genera una fuerza de atracción, la cual es contrarestada por la repulción entre los núcleos. En forma simplificada, podemos representar este fenómeno mediante un sistema *masa-resorte*."
   ]
  },
  {
   "cell_type": "markdown",
   "id": "7b152a52",
   "metadata": {
    "cell_style": "split"
   },
   "source": [
    "<img src=\"./images/water_molecule_spring.png\" width=\"300px\" align= center>"
   ]
  },
  {
   "cell_type": "markdown",
   "id": "d7d8d84b",
   "metadata": {
    "cell_style": "split",
    "slideshow": {
     "slide_type": "fragment"
    }
   },
   "source": [
    "En otras palabras, cada enlace en la molécula de agua representa un oscilador armónico, con una fuerza de restauración:\n",
    "\n",
    "\\begin{equation*}\n",
    "F = -k(r - r_0)\n",
    "\\end{equation*}\n",
    "\n",
    "donde $k$ es la constante de rigidez y $r_0$ es la posición de los núcleos en equilibrio."
   ]
  },
  {
   "cell_type": "markdown",
   "id": "a47dc7ed",
   "metadata": {
    "slideshow": {
     "slide_type": "slide"
    }
   },
   "source": [
    "### Modelo de Lorentz\n",
    "\n",
    "Consideremos ahora la interacción de una onda electromagnética con una molécula di atómica."
   ]
  },
  {
   "cell_type": "markdown",
   "id": "58ad790c",
   "metadata": {
    "cell_style": "split",
    "slideshow": {
     "slide_type": "fragment"
    }
   },
   "source": [
    "<img src=\"./images/molecule_spring_mass.png\" width=\"300px\" align= center>"
   ]
  },
  {
   "cell_type": "markdown",
   "id": "e8dec281",
   "metadata": {
    "cell_style": "split",
    "slideshow": {
     "slide_type": "fragment"
    }
   },
   "source": [
    "El campo eléctrico de la onda EM ($E_0e^{-i\\omega t}$), ejerce una fuerza $F = qE_0e^{-i\\omega t}$ sobre cada polo, donde $q$ es la carga eléctrica del polo positivo (o negativo). "
   ]
  },
  {
   "cell_type": "markdown",
   "id": "aca8c93d",
   "metadata": {
    "cell_style": "split",
    "slideshow": {
     "slide_type": "fragment"
    }
   },
   "source": [
    "Consideramos, ademas, una fuerza de amortiguación, $F_{c} = - m\\Gamma \\dot{x}$, que **representa la disipación de energía** por la colición entre los electrones y los nucleos, además de otras interacciónes electromagnéticas. La constante **$\\Gamma$** es la **tasa de decaimiento** (se mide en unidades 1/s)."
   ]
  },
  {
   "cell_type": "markdown",
   "id": "12aa8754",
   "metadata": {
    "cell_style": "split",
    "slideshow": {
     "slide_type": "fragment"
    }
   },
   "source": [
    "\n",
    "\n",
    "***El fenómeno, así, representa un sistema forzado amortiguado***"
   ]
  },
  {
   "cell_type": "markdown",
   "id": "893cc2a3",
   "metadata": {
    "cell_style": "center",
    "slideshow": {
     "slide_type": "slide"
    }
   },
   "source": [
    "Asumiendo un eje de referencia situado en el polo positivo, la ecuación de movimiento está dada por:\n",
    "\n",
    "\\begin{equation*}\n",
    "m\\ddot{x} + m\\Gamma \\dot{x} +  k x = qE_0 e^{-i\\omega t},\n",
    "\\end{equation*}\n",
    "\n",
    "donde $m$ es la masa del polo positivo, $k$ es la constante de rigidez del enlace entre los polos."
   ]
  },
  {
   "cell_type": "markdown",
   "id": "a0148a8d",
   "metadata": {
    "slideshow": {
     "slide_type": "fragment"
    }
   },
   "source": [
    "La solución estacionaria está dada por la solución particular:\n",
    "\n",
    "\\begin{equation*}\n",
    "x_p(t) = \\frac{q/mE_0}{\\omega_n^2 - \\omega^2 - i\\Gamma \\omega}e^{-i\\omega t}\n",
    "\\end{equation*}"
   ]
  },
  {
   "cell_type": "markdown",
   "id": "2a79298d",
   "metadata": {
    "slideshow": {
     "slide_type": "slide"
    }
   },
   "source": [
    "El desplazamiento del polo positivo respecto a su estado en equilibrio induce un **momento dipolar**, $\\vec{p}$, el cual expresamos a través de la relación:\n",
    "\n",
    "\\begin{equation*}\n",
    "\\vec{p} = q\\vec{x}_p(t) =  \\frac{q^2/m}{\\omega_n^2 - \\omega^2 - i\\Gamma \\omega}E_0e^{-i\\omega t}\\hat{e}\\quad\\mathrm{[C\\cdot m]}\n",
    "\\end{equation*}\n",
    "\n",
    "donde $\\hat{e}$ es la dirección del campo eléctrico"
   ]
  },
  {
   "cell_type": "markdown",
   "id": "559e4684",
   "metadata": {
    "slideshow": {
     "slide_type": "fragment"
    }
   },
   "source": [
    "En el caso real, este fenómenos se da en un volumen con miles de moleculas de agua. Así, definimos la **densidad de polarización**, $\\vec{P}$, como el **momento dipolar inducido total por unidad de volumen**:\n",
    "\n",
    "\\begin{equation*}\n",
    "\\vec{P} = N_p \\vec{p} = \\frac{N_pq^2/m}{\\omega_n^2 - \\omega^2 - i\\Gamma \\omega}\\vec{E}\\quad\\mathrm{\\left[\\frac{C\\cdot m}{m^3}\\right]}\n",
    "\\end{equation*}"
   ]
  },
  {
   "cell_type": "markdown",
   "id": "6f98c011",
   "metadata": {
    "slideshow": {
     "slide_type": "slide"
    }
   },
   "source": [
    "En presencia de un medio polarizado, la ley de Gauss se modifica como: $\\nabla\\cdot\\left(\\varepsilon_0\\vec{E} + \\vec{P}\\right) = 0$. "
   ]
  },
  {
   "cell_type": "markdown",
   "id": "c4a3331b",
   "metadata": {
    "slideshow": {
     "slide_type": "fragment"
    }
   },
   "source": [
    "Representando esta relación en la forma, $\\nabla\\cdot\\varepsilon_0\\varepsilon\\vec{E} = \\rho$, podemos deducir un modelo para la constante dieléctrica del sistema $\\varepsilon$:\n",
    "\n",
    "\\begin{equation*}\n",
    "\\varepsilon = 1 +\\frac{\\omega_p^2}{\\omega_n^2 - \\omega^2 - i\\Gamma \\omega},\n",
    "\\end{equation*}\n",
    "\n",
    "con $\\omega_p^2 = \\frac{N_pq^2}{\\varepsilon_0 m}$"
   ]
  },
  {
   "cell_type": "markdown",
   "id": "81b68cdd",
   "metadata": {
    "slideshow": {
     "slide_type": "fragment"
    }
   },
   "source": [
    "En el caso del agua, la molecula posee un dipolo eléctrico neto adicional al dipolo inducido. El efecto de la polarización neta se puede representar, cambiando el primer término por un valor constante $\\varepsilon_\\infty$."
   ]
  },
  {
   "cell_type": "markdown",
   "id": "500b9754",
   "metadata": {
    "slideshow": {
     "slide_type": "fragment"
    }
   },
   "source": [
    "El modelo completo se conoce como **modelo de Lorentz**:\n",
    "\n",
    "\\begin{equation}\n",
    "\\varepsilon = \\varepsilon_\\infty + \\frac{\\omega_p^2}{\\omega_n^2 - \\omega^2 - i\\Gamma \\omega}\\quad\\mathrm{Modelo~de~Lorentz},\n",
    "\\end{equation}"
   ]
  },
  {
   "cell_type": "markdown",
   "id": "7105088b",
   "metadata": {
    "slideshow": {
     "slide_type": "slide"
    }
   },
   "source": [
    "Usaremos la función `lorentz` del módulo `empylib.nklib` para generar el índice de refracción y constante dielectrica a partir del modelo de Lorentz."
   ]
  },
  {
   "cell_type": "code",
   "execution_count": 4,
   "id": "cbd90054",
   "metadata": {
    "slideshow": {
     "slide_type": "skip"
    },
    "tags": [
     "hide-input"
    ]
   },
   "outputs": [],
   "source": [
    "import numpy as np\n",
    "import matplotlib.pyplot as plt\n",
    "import empylib.nklib as nk\n",
    "import empylib as em\n",
    "\n",
    "def lorentz_model(epsinf,wn,wp,gamma):\n",
    "    # espectro \n",
    "    lam = np.linspace(1E-3,3,1000)     # convertimos a \"micrones\"\n",
    "\n",
    "    # creamos el modelo de lorentz\n",
    "    N1 = nk.lorentz(epsinf,wp,wn,gamma,lam) # índice de refracción a partir del modelo de Lorentz\n",
    "    eps1 = N1**2                            # constante dieléctrica\n",
    "\n",
    "    # formateamos el lienzo para graficar\n",
    "    fig, ax = plt.subplots(1,2)             # número de ejes en la figura\n",
    "    fig.set_size_inches(10, 3)              # tamaño de la figura\n",
    "    plt.rcParams['font.size'] = '10'        # tamaño de fuente\n",
    "\n",
    "    #ploteamos\n",
    "    ax[0].plot(lam,eps1.real,'b',label=r\"$\\varepsilon'$\")\n",
    "    ax[0].plot(lam,eps1.imag,'r',label=r\"$\\varepsilon''$\")\n",
    "    ax[1].plot(lam,N1.real,'b',label=r\"$n$\")\n",
    "    ax[1].plot(lam,N1.imag,'r',label=r\"$\\kappa$\")\n",
    "    \n",
    "    # marcar línea de frecuencia natural\n",
    "    lam_n = em.convert_units(wn,'eV','um')\n",
    "    ax[0].axvline(x = lam_n, color='k', ls='--', lw='1.0')  \n",
    "    ax[0].text(lam_n*1.01,-10,'$\\omega_n$', fontsize='12', color='k')\n",
    "\n",
    "    for i in [0,1]:\n",
    "        ax[i].set_xlabel('Longitud de onda, $\\lambda$ ($\\mu$m)')\n",
    "        ax[i].grid()\n",
    "        ax[i].legend(frameon=False)\n",
    "        ax[i].set_xlim(0.5,3.0)\n",
    "    ax[0].set_ylabel(r\"Constante dielectrica, $\\varepsilon = \\varepsilon'+ \\varepsilon''$\")\n",
    "    ax[1].set_ylabel(r'Indice de refracción, $N = n + i\\kappa$')\n",
    "    ax[0].set_ylim(-20,30)\n",
    "    ax[1].set_ylim(0,5)\n",
    "    plt.show()"
   ]
  },
  {
   "cell_type": "code",
   "execution_count": 5,
   "id": "be118d5a",
   "metadata": {
    "slideshow": {
     "slide_type": "fragment"
    },
    "tags": [
     "hide-input"
    ]
   },
   "outputs": [
    {
     "data": {
      "application/vnd.jupyter.widget-view+json": {
       "model_id": "ee907711027b4ecb86434f67f2fe8a41",
       "version_major": 2,
       "version_minor": 0
      },
      "text/plain": [
       "interactive(children=(FloatSlider(value=7.0, description='epsinf', max=10.0, min=1.0, step=0.5), FloatSlider(v…"
      ]
     },
     "metadata": {},
     "output_type": "display_data"
    }
   ],
   "source": [
    "from ipywidgets import interact\n",
    "\n",
    "@interact( epsinf=(1,10,0.5), \n",
    "           wp=(0.3,1.0,0.1), \n",
    "           wn=(0.5,2.0,0.1), \n",
    "           gamma=(0.01,0.05,0.005))\n",
    "def g(epsinf=7,wp=0.8,wn=0.7, gamma=0.04):\n",
    "    return lorentz_model(epsinf,wn,wp,gamma)"
   ]
  },
  {
   "cell_type": "markdown",
   "id": "37d59ca2",
   "metadata": {
    "slideshow": {
     "slide_type": "slide"
    }
   },
   "source": [
    ">**El modelo de Lorentz se utiliza como modelo de ajuste para representar la interacción de la luz con los modos vibratorios en la materia**"
   ]
  },
  {
   "cell_type": "markdown",
   "id": "9e2ae231",
   "metadata": {
    "slideshow": {
     "slide_type": "slide"
    }
   },
   "source": [
    "Por ejemplo, la molécula de agua tiene 3 modos de vibración fundamentales en las longitudes de onda $\\lambda = $ 2.98, 2.93 y 5.91 $\\mu$m (3351, 3412 y 1691 cm$^{-1}$)"
   ]
  },
  {
   "cell_type": "code",
   "execution_count": 6,
   "id": "6f7c32e8",
   "metadata": {
    "cell_style": "center",
    "tags": [
     "remove-input"
    ]
   },
   "outputs": [
    {
     "data": {
      "image/jpeg": "[encoded data removed]",
      "text/html": [
       "\n",
       "<iframe\n",
       "    width=\"600\"\n",
       "    height=\"400\"\n",
       "    src=\"https://www.youtube.com/embed/1uE2lvVkKW0?playsinline=0\"\n",
       "    frameborder=\"0\"\n",
       "    allowfullscreen\n",
       "\n",
       "></iframe>\n"
      ],
      "text/plain": [
       "<IPython.lib.display.YouTubeVideo at 0x7f2acc68d390>"
      ]
     },
     "execution_count": 6,
     "metadata": {
      "filenames": {
       "image/jpeg": "/mnt/c/Users/frami/OneDrive - Universidad Adolfo Ibanez/Teaching_courses/MEC501 - Manejo_y_Conversion_Energia_Solar/material_catedra/_build/jupyter_execute/03_Interacción_materia-luz/03_Interacción_materia-luz_56_0.jpg"
      }
     },
     "output_type": "execute_result"
    }
   ],
   "source": [
    "from IPython.display import YouTubeVideo\n",
    "YouTubeVideo('1uE2lvVkKW0', width=600, height=400,  playsinline=0)"
   ]
  },
  {
   "cell_type": "markdown",
   "id": "d2e7a860",
   "metadata": {
    "slideshow": {
     "slide_type": "slide"
    }
   },
   "source": [
    "Al graficar el índice de refracción notamos que la gráfica muestra dos oscilaciones de Lorentz. Usamos el módulo `nklib` de la librería `empylib` para graficar el índice de refracción del agua"
   ]
  },
  {
   "cell_type": "code",
   "execution_count": 7,
   "id": "a8fe3e5b",
   "metadata": {
    "cell_style": "center",
    "slideshow": {
     "slide_type": "skip"
    },
    "tags": [
     "hide-input"
    ]
   },
   "outputs": [],
   "source": [
    "%%capture showplot1\n",
    "import numpy as np\n",
    "import matplotlib.pyplot as plt\n",
    "import empylib.nklib as nk\n",
    "\n",
    "# Creamos el espectro\n",
    "lam = np.linspace(0.2,10,1000)                          # espectro de longitudes de onda\n",
    "N1   = nk.H2O(lam)                                      # índice de refracción\n",
    "eps1 = N1**2                                            # constante dieléctrica\n",
    "\n",
    "# Formateamos el lienzo para graficar\n",
    "fig, ax = plt.subplots(1,2)                             # número de ejes en la figura\n",
    "fig.set_size_inches(10, 3)                              # tamaño de la figura\n",
    "plt.rcParams['font.size'] = '12'                        # tamaño de fuente\n",
    "\n",
    "# Graficamos el resultado\n",
    "ax[0].plot(lam,eps1.real,'b',label=r\"$\\varepsilon'$\")   # constante dieléctrica (parte real)\n",
    "ax[0].plot(lam,eps1.imag,'r',label=r\"$\\varepsilon''$\")  # constante dieléctrica (parte imaginaria)\n",
    "ax[1].plot(lam,N1.real,'b',label=r\"$n$\")                # índice de refracción (parte real)\n",
    "ax[1].plot(lam,N1.imag,'r',label=r\"$\\kappa$\")           # índice de refracción (parte imaginaria)\n",
    "\n",
    "# Marcamos los valores máximos con una línea\n",
    "for i in [280, 599]:\n",
    "    ax[0].axvline(x = lam[i], color='k', ls='--', lw='1.0')\n",
    "    ax[1].axvline(x = lam[i], color='k', ls='--', lw='1.0')\n",
    "    ax[0].text(lam[i]*1.02,eps1[i].imag,r'%.3f $\\mu$m'% lam[i], fontsize='10')\n",
    "\n",
    "for i in [0,1]:\n",
    "    ax[i].set_xlabel('Longitud de onda, $\\lambda$ ($\\mu$m)')\n",
    "    ax[i].grid()\n",
    "    ax[i].set_xlim(0.2,10)\n",
    "    ax[i].legend(frameon=False)\n",
    "ax[0].set_ylabel(r\"Constante dielectrica, $\\varepsilon = \\varepsilon'+ \\varepsilon''$\")\n",
    "ax[1].set_ylabel(r'Indice de refracción, $N = n + i\\kappa$')\n",
    "plt.show()"
   ]
  },
  {
   "cell_type": "code",
   "execution_count": 8,
   "id": "e793dcc9",
   "metadata": {
    "slideshow": {
     "slide_type": "-"
    },
    "tags": [
     "hide-input"
    ]
   },
   "outputs": [
    {
     "data": {
      "image/png": "[encoded data removed]",
      "text/plain": [
       "<Figure size 1000x300 with 2 Axes>"
      ]
     },
     "metadata": {
      "filenames": {
       "image/png": "/mnt/c/Users/frami/OneDrive - Universidad Adolfo Ibanez/Teaching_courses/MEC501 - Manejo_y_Conversion_Energia_Solar/material_catedra/_build/jupyter_execute/03_Interacción_materia-luz/03_Interacción_materia-luz_59_0.png"
      }
     },
     "output_type": "display_data"
    }
   ],
   "source": [
    "showplot1()"
   ]
  },
  {
   "cell_type": "markdown",
   "id": "7cf5b0bb",
   "metadata": {
    "slideshow": {
     "slide_type": "fragment"
    }
   },
   "source": [
    "Notar que la resonancia en $\\lambda =$ 2.98 $\\mu$m (3351 cm$^{-1}$) no está presente en el espectro."
   ]
  },
  {
   "cell_type": "markdown",
   "id": "f4cf6867",
   "metadata": {
    "slideshow": {
     "slide_type": "fragment"
    }
   },
   "source": [
    "Este modo no es compatible con la oscilación de una onda electromagnética plana. Así la luz no interactúa con esta vibración y, por lo tanto, no se ve representada en el espectro del índice de refracción."
   ]
  },
  {
   "cell_type": "markdown",
   "id": "7563a9c6",
   "metadata": {
    "slideshow": {
     "slide_type": "slide"
    }
   },
   "source": [
    "## Interacción de la luz con sólidos\n",
    "El análisis anterior generalmente se aplica a gases, donde las moléculas no interactúan entre sí. En el caso de materiales sólidos, la interacción entre moléculas es fuerte, y genera bandas electrónicas de energía."
   ]
  },
  {
   "cell_type": "markdown",
   "id": "fc5bbf6d",
   "metadata": {
    "cell_style": "split",
    "slideshow": {
     "slide_type": "fragment"
    }
   },
   "source": [
    "- **Banda de valencia**: corresponde a la banda ocupada por electrones con el mayor nivel de energía. En esta banda los electrones permanecen en un estado \"ligado\" al núcleo.\n",
    "\n",
    "- **Banda de conducción**: corresponde a la banda no ocupada por electrones con el menor nivel de energía. En esta banda los electrones se mueven líbremente por el material\n",
    "\n",
    "- **Banda prohibida (*band-gap*)**: Es la diferencia entre la banda de conducción y la banda de valencia"
   ]
  },
  {
   "cell_type": "markdown",
   "id": "5b106497",
   "metadata": {
    "cell_style": "split"
   },
   "source": [
    "<img src=\"./images/bandas_electronicas.png\" width=\"300px\" align= center>"
   ]
  },
  {
   "cell_type": "markdown",
   "id": "87545d36",
   "metadata": {
    "cell_style": "center",
    "slideshow": {
     "slide_type": "slide"
    }
   },
   "source": [
    "A partir de la separación entre la banda de conducción y la banda de valencia, podemos clasificar tres tipos de materiales en función de sus propiedades electrónicas:\n",
    "\n",
    "<img src=\"./images/energy_bands_clasification.png\" width=\"700px\" align= center>"
   ]
  },
  {
   "cell_type": "markdown",
   "id": "83b59b21",
   "metadata": {
    "slideshow": {
     "slide_type": "slide"
    }
   },
   "source": [
    "- **Conductor**, donde las bandas de conducción y valencia están traslapadas (bandgap = 0). En estos materiales, parte de los electrones están alojados en la banda de conducción y, por lo tanto, son capaces de conducir corriente eléctrica en presencia de un campo eléctrico.\n",
    "\n",
    "- **Semiconductor**, donde las bandas de conducción y valencia están separadas. Sin embargo, la energía del bandgap es relativamente pequeña, de manera que un electrón puede ser llevado a la banda de conducción mediante un potencial eléctrico razonable, o mediante una onda electromagnética.\n",
    "\n",
    "- **Aislante**, donde las bandas de conducción y valencia están muy separadas. El umbral para excitar un electrón a la banda de conducción es demaciado grande y, por lo tanto, el material no es capaz de conducir corriente."
   ]
  },
  {
   "cell_type": "markdown",
   "id": "b2df41eb",
   "metadata": {
    "slideshow": {
     "slide_type": "fragment"
    }
   },
   "source": [
    "La respuesta óptica de cada tipo de material está condicionada por sus propiedades electrónicas"
   ]
  },
  {
   "cell_type": "markdown",
   "id": "c46ef750",
   "metadata": {
    "slideshow": {
     "slide_type": "slide"
    }
   },
   "source": [
    "### Aislantes (modelo de Lorentz)\n",
    "Debido a que los electrones en un aislante están fuertemente ligados al núcleo, la respuesta óptica de este material está condicionada por los modos de vibración de la red atómica. Así, la constante dieléctrica y el indice de refración siguen un comportamiento similar al modelo de Lorentz."
   ]
  },
  {
   "cell_type": "markdown",
   "id": "fe65eea6",
   "metadata": {
    "slideshow": {
     "slide_type": "fragment"
    }
   },
   "source": [
    "Por ejemplo, el sílice (SiO$_2$)"
   ]
  },
  {
   "cell_type": "markdown",
   "id": "211ced63",
   "metadata": {},
   "source": [
    "<img src=\"./images/silica_fig.png\" width=\"700px\" align= center>"
   ]
  },
  {
   "cell_type": "markdown",
   "id": "ec221342",
   "metadata": {
    "slideshow": {
     "slide_type": "slide"
    }
   },
   "source": [
    "Tiene un índice de refracción donde podemos ver con claridad los modos de resonancia típicos del modelo de Lorentz"
   ]
  },
  {
   "cell_type": "code",
   "execution_count": 9,
   "id": "9cf6d68e",
   "metadata": {
    "slideshow": {
     "slide_type": "skip"
    },
    "tags": [
     "hide-input"
    ]
   },
   "outputs": [],
   "source": [
    "%%capture showplot1\n",
    "import numpy as np\n",
    "import matplotlib.pyplot as plt\n",
    "import empylib.nklib as nk\n",
    "\n",
    "lam = np.linspace(0.2,30,1000)                          # espectro de longitudes de onda\n",
    "N1   = nk.SiO2(lam)                                     # índice de refracción\n",
    "eps1 = N1**2                                            # constante dieléctrica\n",
    "\n",
    "# formateamos el lienzo para graficar\n",
    "fig, ax = plt.subplots(1,2)                             # número de ejes en la figura\n",
    "fig.set_size_inches(10, 3)                              # tamaño de la figura\n",
    "plt.rcParams['font.size'] = '10'                        # tamaño de fuente\n",
    "\n",
    "# Graficamos el resultado\n",
    "ax[0].plot(lam,eps1.real,'b',label=r\"$\\varepsilon'$\")   # constante dieléctrica (parte real)\n",
    "ax[0].plot(lam,eps1.imag,'r',label=r\"$\\varepsilon''$\")  # constante dieléctrica (parte imaginaria)\n",
    "ax[1].plot(lam,N1.real,'b',label=r\"$n$\")                # índice de refracción (parte real)\n",
    "ax[1].plot(lam,N1.imag,'r',label=r\"$\\kappa$\")           # índice de refracción (parte imaginaria)\n",
    "\n",
    "for i in [0,1]:\n",
    "    ax[i].set_xlabel('Longitud de onda, $\\lambda$ ($\\mu$m)')\n",
    "    ax[i].grid()\n",
    "    ax[i].legend(frameon=False)\n",
    "ax[0].set_ylabel(r\"Constante dielectrica, $\\varepsilon = \\varepsilon'+ \\varepsilon''$\")\n",
    "ax[1].set_ylabel(r'Indice de refracción, $N = n + i\\kappa$')\n",
    "plt.show()"
   ]
  },
  {
   "cell_type": "code",
   "execution_count": 10,
   "id": "1f22dda2",
   "metadata": {
    "slideshow": {
     "slide_type": "fragment"
    }
   },
   "outputs": [
    {
     "data": {
      "image/png": "[encoded data removed]",
      "text/plain": [
       "<Figure size 1000x300 with 2 Axes>"
      ]
     },
     "metadata": {
      "filenames": {
       "image/png": "/mnt/c/Users/frami/OneDrive - Universidad Adolfo Ibanez/Teaching_courses/MEC501 - Manejo_y_Conversion_Energia_Solar/material_catedra/_build/jupyter_execute/03_Interacción_materia-luz/03_Interacción_materia-luz_73_0.png"
      }
     },
     "output_type": "display_data"
    }
   ],
   "source": [
    "showplot1()"
   ]
  },
  {
   "cell_type": "markdown",
   "id": "3cb654bd",
   "metadata": {
    "slideshow": {
     "slide_type": "slide"
    }
   },
   "source": [
    "### Conductores (modelo de Drude)\n",
    "En este caso los electrónes se mueven libremente por la red atómica."
   ]
  },
  {
   "cell_type": "markdown",
   "id": "d19f5aef",
   "metadata": {
    "slideshow": {
     "slide_type": "fragment"
    }
   },
   "source": [
    "Podemos representar la interacción de los electrones libres con una onda electromagnética utilizando la ecuación de movimiento. En este caso, no hay fuerza de restauración ($kx = 0$), y la ecuación es:\n",
    "\n",
    "\\begin{equation*}\n",
    "m_e\\ddot{x} + m_e\\Gamma_e \\dot{x} = eE_0 e^{-i\\omega t},\n",
    "\\end{equation*}\n",
    "\n",
    "donde $m_e$, $e$ y $\\Gamma_e$ son, respectivamente, la masa, la carga elemental y la taza de decaimiento del electrón."
   ]
  },
  {
   "cell_type": "markdown",
   "id": "710b872b",
   "metadata": {
    "slideshow": {
     "slide_type": "slide"
    }
   },
   "source": [
    "Mediante un procedimiento similar al utilzado para el modelo de Lorentz, derivamos el **modelo de Drude** para conductores:\n",
    "\n",
    "\\begin{equation}\n",
    "\\varepsilon = \\varepsilon_\\infty - \\frac{\\omega_p^2}{\\omega^2 + i\\Gamma_e \\omega},\\quad\\mathrm{Modelo~de~Drude},\n",
    "\\end{equation}\n",
    "\n",
    "donde $\\omega_p^2 = \\frac{N_ee^2}{\\varepsilon_0 m}$ se conoce como frecuencia de plasma, y $N_e$ es la densidad de número de electrones. Similar al modelo de Lorentz, $\\varepsilon_\\infty$ representa la polarización neta del material."
   ]
  },
  {
   "cell_type": "markdown",
   "id": "0ced6571",
   "metadata": {
    "slideshow": {
     "slide_type": "slide"
    }
   },
   "source": [
    "Usaremos la función `drude` del módulo `empylib.nklib` para generar el índice de refracción y constante dielectrica a partir del modelo de Drude. *En el gráfico marcamos el equivalente a $\\omega_p$ en longitud de onda $\\lambda_p = 2\\pi c_0/\\omega_p$.*"
   ]
  },
  {
   "cell_type": "code",
   "execution_count": 11,
   "id": "9f227ccd",
   "metadata": {
    "slideshow": {
     "slide_type": "skip"
    },
    "tags": [
     "hide-input"
    ]
   },
   "outputs": [],
   "source": [
    "import numpy as np\n",
    "import matplotlib.pyplot as plt\n",
    "import empylib.nklib as nk\n",
    "import empylib as em\n",
    "\n",
    "def drude_model(epsinf,wp,gamma):\n",
    "    lam = np.linspace(1E-3,5,1000)    # longitudes de onda\n",
    "\n",
    "    # contruimos el modelo de Drude\n",
    "    N1 = nk.drude(epsinf,wp,gamma,lam)     # índice de refra]cción\n",
    "    eps1 = N1**2                           # constante dieléctrica\n",
    "\n",
    "    # formateamos el lienzo para graficar\n",
    "    fig, ax = plt.subplots(1,2)             # número de ejes en la figura\n",
    "    fig.set_size_inches(10, 3)              # tamaño de la figura\n",
    "    plt.rcParams['font.size'] = '10'        # tamaño de fuente\n",
    "\n",
    "    # graficamos constante dielectrica e índice de refracción\n",
    "    ax[0].plot(lam,eps1.real,'b',label=r\"$\\varepsilon'$\")\n",
    "    ax[0].plot(lam,eps1.imag,'r',label=r\"$\\varepsilon''$\")\n",
    "    ax[1].plot(lam,N1.real,'b',label=r\"$n$\")\n",
    "    ax[1].plot(lam,N1.imag,'r',label=r\"$\\kappa$\")\n",
    "    \n",
    "    # marcar línea de frecuencia natural\n",
    "    lam_p = em.convert_units(wp,'eV','um')\n",
    "    ax[0].axvline(x = lam_p, color='k', ls='--', lw='1.0')  \n",
    "    ax[0].text(lam_p*1.1,-9,r'$\\lambda_p =%.3f$ $\\mu$m' % lam_p, fontsize='10', color='k')\n",
    "\n",
    "    for i in [0,1]:\n",
    "        ax[i].set_xlabel('Longitud de onda, $\\lambda$ ($\\mu$m)')\n",
    "        ax[i].grid()\n",
    "        ax[i].legend(frameon=False)\n",
    "        ax[i].set_xlim(0,5.0)\n",
    "    ax[0].set_ylabel(r\"Constante dielectrica, $\\varepsilon = \\varepsilon'+ \\varepsilon''$\")\n",
    "    ax[1].set_ylabel(r'Indice de refracción, $N = n + i\\kappa$')\n",
    "    ax[0].set_ylim(-10,10)\n",
    "    ax[1].set_ylim(0,5)\n",
    "    plt.show()"
   ]
  },
  {
   "cell_type": "code",
   "execution_count": 12,
   "id": "d16caa41",
   "metadata": {
    "tags": [
     "hide-input"
    ]
   },
   "outputs": [
    {
     "data": {
      "application/vnd.jupyter.widget-view+json": {
       "model_id": "169dfa7a745c48c4b3918a884f3ac325",
       "version_major": 2,
       "version_minor": 0
      },
      "text/plain": [
       "interactive(children=(FloatSlider(value=1.0, description='epsinf', max=5.0, min=1.0), FloatSlider(value=1.0, d…"
      ]
     },
     "metadata": {},
     "output_type": "display_data"
    }
   ],
   "source": [
    "from ipywidgets import interact\n",
    "\n",
    "@interact( epsinf=(1,5,0.1), \n",
    "           wp=(0.4,2.0,0.05), \n",
    "           gamma=(0.01,0.2,0.01))\n",
    "def g(epsinf=1,wp=1.0, gamma=0.1):\n",
    "    return drude_model(epsinf,wp,gamma)"
   ]
  },
  {
   "cell_type": "markdown",
   "id": "70eb89e5",
   "metadata": {
    "slideshow": {
     "slide_type": "fragment"
    }
   },
   "source": [
    "Notar que en modelo de Drude la condición $\\varepsilon' < 0$ se manifiesta en el índice de refracción como $\\kappa > n$. Esta condición se da cuando $\\lambda_p \\lesssim \\lambda$"
   ]
  },
  {
   "cell_type": "markdown",
   "id": "d5ff724d",
   "metadata": {
    "slideshow": {
     "slide_type": "slide"
    }
   },
   "source": [
    "Cuando $\\kappa > n$ la reflectividad aumenta significativamente. Esto explica la alta reflectividad en los conductores eléctricos"
   ]
  },
  {
   "cell_type": "code",
   "execution_count": 13,
   "id": "acf8f689",
   "metadata": {
    "slideshow": {
     "slide_type": "skip"
    },
    "tags": [
     "hide-input"
    ]
   },
   "outputs": [],
   "source": [
    "%%capture showplot3\n",
    "\n",
    "import numpy as np\n",
    "import matplotlib.pyplot as plt\n",
    "from empylib.waveoptics import interface\n",
    "import empylib as em\n",
    "import empylib.nklib as nk\n",
    "\n",
    "def drude_reflection(epsinf,wp,gamma):\n",
    "    lam = np.linspace(1E-3,5,1000)    # longitudes de onda\n",
    "\n",
    "    # contruimos el modelo de Drude\n",
    "    n2 = nk.drude(epsinf,wp,gamma,lam)     # índice de refracción\n",
    "    \n",
    "    # índice de refracción aire\n",
    "    n1 = np.ones(n2.shape)                    \n",
    "\n",
    "    # Reflectividad en una interface entre un material de Drude y aire\n",
    "    Rp = interface(0,n1,n2, pol='TM')[0] # TM\n",
    "    Rs = interface(0,n1,n2, pol='TE')[0] # TE\n",
    "\n",
    "    # formateamos el lienzo para graficar\n",
    "    fig, ax = plt.subplots(1,2)             # número de ejes en la figura\n",
    "    fig.set_size_inches(10, 3)              # tamaño de la figura\n",
    "    plt.rcParams['font.size'] = '10'        # tamaño de fuente\n",
    "\n",
    "    # graficamos constante dielectrica e índice de refracción\n",
    "    ax[0].plot(lam,n2.real,'b',label=r\"$n$\")\n",
    "    ax[0].plot(lam,n2.imag,'r',label=r\"$\\kappa$\")\n",
    "    ax[1].plot(lam,Rp, label='$R_\\mathrm{TM}$', color='red', lw=3.0)\n",
    "    ax[1].plot(lam,Rs, label='$R_\\mathrm{TE}$', color='blue', lw=2.0, ls='--')\n",
    "    \n",
    "    \n",
    "    # marcar línea de frecuencia natural\n",
    "    lam_p = em.convert_units(wp,'eV','um')\n",
    "    ax[0].axvline(x = lam_p, color='k', ls='--', lw='1.0')  \n",
    "    ax[0].text(lam_p*1.1,4,r'$\\lambda_p =%.3f$ $\\mu$m' % lam_p, fontsize='10', color='k')\n",
    "\n",
    "    for i in [0,1]:\n",
    "        ax[i].set_xlabel('Longitud de onda, $\\lambda$ ($\\mu$m)')\n",
    "        ax[i].grid()\n",
    "        ax[i].legend(frameon=False)\n",
    "        ax[i].set_xlim(0,5.0)\n",
    "    ax[0].set_ylabel(r'Indice de refracción, $N = n + i\\kappa$')\n",
    "    ax[1].set_ylabel('Reflectividad')\n",
    "    ax[0].set_ylim(0,5)\n",
    "    ax[1].set_ylim(0,1.0)\n",
    "    plt.show()"
   ]
  },
  {
   "cell_type": "code",
   "execution_count": 14,
   "id": "a609041d",
   "metadata": {
    "tags": [
     "hide-input"
    ]
   },
   "outputs": [
    {
     "data": {
      "application/vnd.jupyter.widget-view+json": {
       "model_id": "79d6e18a291d4be988c3b947cc003f21",
       "version_major": 2,
       "version_minor": 0
      },
      "text/plain": [
       "interactive(children=(FloatSlider(value=1.0, description='epsinf', max=5.0, min=1.0), FloatSlider(value=1.0, d…"
      ]
     },
     "metadata": {},
     "output_type": "display_data"
    }
   ],
   "source": [
    "from ipywidgets import interact\n",
    "\n",
    "@interact( epsinf=(1,5,0.1), \n",
    "           wp=(0.4,2.0,0.05), \n",
    "           gamma=(0.01,0.2,0.01))\n",
    "def g(epsinf=1,wp=1.0, gamma=0.1):\n",
    "    return drude_reflection(epsinf,wp,gamma)"
   ]
  },
  {
   "cell_type": "markdown",
   "id": "49a27d3c",
   "metadata": {
    "slideshow": {
     "slide_type": "slide"
    }
   },
   "source": [
    "En general, los metales pueden ser bien representados por el modelo de Drude. En general, $\\omega_p$ se ubica en el espectro UV y, por lo tanto, reflejan la luz visible (efecto espejo)"
   ]
  },
  {
   "cell_type": "markdown",
   "id": "8daa8842",
   "metadata": {
    "slideshow": {
     "slide_type": "fragment"
    }
   },
   "source": [
    "Por ejemplo, en el caso de aluminio $\\omega_p = 15~\\mathrm{eV}\\approx 90~\\mathrm{nm}$"
   ]
  },
  {
   "cell_type": "code",
   "execution_count": 15,
   "id": "04cf0f46",
   "metadata": {
    "slideshow": {
     "slide_type": "skip"
    },
    "tags": [
     "hide-input"
    ]
   },
   "outputs": [],
   "source": [
    "%%capture showplot4\n",
    "import numpy as np\n",
    "import matplotlib.pyplot as plt\n",
    "import empylib.nklib as nk\n",
    "\n",
    "# índice de refracción y constante dielectrica aluminio\n",
    "lam = np.linspace(0.01,1.0,1000)        # espectro de longitudes de onda (um)\n",
    "N1 = nk.Al(lam)                         # índice de refracción\n",
    "eps1 = N1**2                            # constante dieléctrica\n",
    "\n",
    "# formateamos el lienzo para graficar\n",
    "fig, ax = plt.subplots(1,2)             # número de ejes en la figura\n",
    "fig.set_size_inches(10, 3)              # tamaño de la figura\n",
    "plt.rcParams['font.size'] = '10'        # tamaño de fuente\n",
    "\n",
    "# graficamos\n",
    "ax[0].plot(lam,eps1.real,'b',label=r\"$\\varepsilon'$\")\n",
    "ax[0].plot(lam,eps1.imag,'r',label=r\"$\\varepsilon''$\")\n",
    "ax[1].plot(lam,N1.real,'b',label=r\"$n$\")\n",
    "ax[1].plot(lam,N1.imag,'r',label=r\"$\\kappa$\")\n",
    "\n",
    "# formateamos los ejes\n",
    "for i in [0,1]:\n",
    "    ax[i].set_xlabel('Longitud de onda, $\\lambda$ ($\\mu$m)')\n",
    "    ax[i].grid()\n",
    "    ax[i].set_xlim(0.01,1.0)\n",
    "    ax[i].legend(frameon=False)\n",
    "ax[0].set_ylabel(r\"Constante dielectrica, $\\varepsilon = \\varepsilon'+ \\varepsilon''$\")\n",
    "ax[1].set_ylabel(r'Indice de refracción, $N = n + i\\kappa$')\n",
    "plt.show()"
   ]
  },
  {
   "cell_type": "code",
   "execution_count": 16,
   "id": "7661a2f2",
   "metadata": {
    "tags": [
     "hide-input"
    ]
   },
   "outputs": [
    {
     "data": {
      "image/png": "[encoded data removed]",
      "text/plain": [
       "<Figure size 1000x300 with 2 Axes>"
      ]
     },
     "metadata": {
      "filenames": {
       "image/png": "/mnt/c/Users/frami/OneDrive - Universidad Adolfo Ibanez/Teaching_courses/MEC501 - Manejo_y_Conversion_Energia_Solar/material_catedra/_build/jupyter_execute/03_Interacción_materia-luz/03_Interacción_materia-luz_87_0.png"
      }
     },
     "output_type": "display_data"
    }
   ],
   "source": [
    "showplot4()"
   ]
  },
  {
   "cell_type": "markdown",
   "id": "b48084ca",
   "metadata": {
    "slideshow": {
     "slide_type": "fragment"
    }
   },
   "source": [
    "Notemos como para $\\lambda \\approx 0.8$ $\\mu$m, la respuesta del material se desvía del modelo de Drude. Esta respuesta esta asociada a un modo de vibración (modelo de Lorentz)."
   ]
  },
  {
   "cell_type": "markdown",
   "id": "5444cb76",
   "metadata": {
    "slideshow": {
     "slide_type": "slide"
    }
   },
   "source": [
    "### Semiconductores (absorción interbanda)"
   ]
  },
  {
   "cell_type": "markdown",
   "id": "86f84d7a",
   "metadata": {
    "cell_style": "split"
   },
   "source": [
    "En este caso las interacciones con ondas electromagnéticas están dictadas por bandas de absorción asociadas a la excitación de electrones de valencia a la banda de conducción. \n",
    "\n",
    "Este fenómeno se conoce como **absorpción interbanda**, y ocurre cuando la energía del fotón $\\hbar\\omega$ ($\\hbar = 6.58\\times 10^16$ eV$\\cdot$s) es superior al bandgap del material."
   ]
  },
  {
   "cell_type": "markdown",
   "id": "e7cf5421",
   "metadata": {
    "cell_style": "split"
   },
   "source": [
    "<img src=\"./images/photoexcited_electrons.png\" width=\"400px\" align= center>"
   ]
  },
  {
   "cell_type": "markdown",
   "id": "ab66c449",
   "metadata": {
    "slideshow": {
     "slide_type": "slide"
    }
   },
   "source": [
    "Los semiconductores son los materiales fundamentales en transistores, LED y celdas fotovoltaicas. El semiconductor más conocido es el silicio (Si).\n",
    "\n",
    "<img src=\"./images/silicon_fig.png\" width=\"800px\" align= center>"
   ]
  },
  {
   "cell_type": "markdown",
   "id": "c2c3cdd1",
   "metadata": {
    "slideshow": {
     "slide_type": "slide"
    }
   },
   "source": [
    "El índice de refracción del silicio es:\n",
    "\n",
    "<img src=\"./images/si_nk.png\" width=\"700px\" align= center>"
   ]
  },
  {
   "cell_type": "markdown",
   "id": "7d6ebbb8",
   "metadata": {
    "slideshow": {
     "slide_type": "slide"
    }
   },
   "source": [
    "En general, los materiales pueden presentar más de un tipo de respuesta."
   ]
  },
  {
   "cell_type": "markdown",
   "id": "a22d914a",
   "metadata": {
    "cell_style": "center",
    "slideshow": {
     "slide_type": "fragment"
    }
   },
   "source": [
    "Por ejemplo, el oro tiene absorción interbanda en longitudes de onda $\\lambda < 0.5$ $\\mu$m, combinado con el modelo de Drude.\n",
    "<img src=\"./images/gold_nk.png\" width=\"800px\" align= center>"
   ]
  },
  {
   "cell_type": "markdown",
   "id": "8383d578",
   "metadata": {
    "cell_style": "center",
    "slideshow": {
     "slide_type": "slide"
    }
   },
   "source": [
    "Debido a esta respuesta, el oro absorbe las longitudes de onda correspondientes al azul y violeta, y refleja el resto de los colores.\n",
    "\n",
    "La siguiente figura muestra el color del oro según el ángulo de incidencia en base al espectro de reflección de una interface aire/oro."
   ]
  },
  {
   "cell_type": "code",
   "execution_count": 17,
   "id": "3eacd1a1",
   "metadata": {
    "slideshow": {
     "slide_type": "skip"
    },
    "tags": [
     "hide-input"
    ]
   },
   "outputs": [],
   "source": [
    "%%capture showplot5\n",
    "import numpy as np\n",
    "import matplotlib.pyplot as plt\n",
    "from empylib.waveoptics import interface\n",
    "from empylib.ref_spectra import AM15\n",
    "from empylib.ref_spectra import color_system as cs\n",
    "cs = cs.hdtv\n",
    "\n",
    "# creamos índices de refracción\n",
    "lam = np.linspace(0.3,0.8,81)   # espectro de longitudes de onda (en um)\n",
    "n2 = nk.gold(lam)               # índice de refracción oro\n",
    "n1 = np.ones(n2.shape)          # índice de refracción aire\n",
    "\n",
    "# Reflectividad en interface función del ángulo \"tt\"\n",
    "Rp = lambda tt : interface(tt, n1,n2, pol='TM')[0]\n",
    "Rs = lambda tt : interface(tt, n1,n2, pol='TE')[0]\n",
    "\n",
    "# formateamos la figura\n",
    "fig, ax = plt.subplots()                # número de ejes en la figura\n",
    "fig.set_size_inches(6, 3)               # tamaño de la figura\n",
    "plt.rcParams['font.size'] = '12'        # tamaño de fuente        \n",
    "\n",
    "# graficamos el color reflejado según el ángulo de incidencia\n",
    "theta = np.linspace(0,90,100)           # angulo de incidencia\n",
    "for i in range(len(theta)): \n",
    "    R = 0.5*Rp(np.radians(theta[i])) + 0.5*Rs(np.radians(theta[i]))\n",
    "    Irad = R*AM15(lam)\n",
    "    html_rgb = cs.spec_to_rgb(Irad, lam, out_fmt='html')\n",
    "    ax.axvline(theta[i], color=html_rgb, linewidth=6) \n",
    "ax.set_xlim([min(theta),max(theta)])\n",
    "ax.set_ylim([0,1.0])\n",
    "ax.axes.yaxis.set_visible(False)\n",
    "ax.set_xlabel('Ángulo de incidencia (deg)')\n",
    "plt.show()"
   ]
  },
  {
   "cell_type": "code",
   "execution_count": 18,
   "id": "fa43c234",
   "metadata": {
    "tags": [
     "hide-input"
    ]
   },
   "outputs": [
    {
     "data": {
      "image/png": "[encoded data removed]",
      "text/plain": [
       "<Figure size 600x300 with 1 Axes>"
      ]
     },
     "metadata": {
      "filenames": {
       "image/png": "/mnt/c/Users/frami/OneDrive - Universidad Adolfo Ibanez/Teaching_courses/MEC501 - Manejo_y_Conversion_Energia_Solar/material_catedra/_build/jupyter_execute/03_Interacción_materia-luz/03_Interacción_materia-luz_98_0.png"
      }
     },
     "output_type": "display_data"
    }
   ],
   "source": [
    "showplot5()"
   ]
  },
  {
   "cell_type": "markdown",
   "id": "76782c20",
   "metadata": {
    "slideshow": {
     "slide_type": "slide"
    }
   },
   "source": [
    "Otro ejemplo es el dioxido de titanio (TiO$_2$), el cual presenta absorción interbanda en el espectro ultravioleta, y oscilaciones de Lorentz en el infrarojo.\n",
    "\n",
    "<img src=\"./images/tio2_nk.png\" width=\"700px\" align= center>"
   ]
  },
  {
   "cell_type": "markdown",
   "id": "0afa9f3a",
   "metadata": {
    "slideshow": {
     "slide_type": "slide"
    }
   },
   "source": [
    "Debido a la absorcion UV, TiO$_2$ es muy utilizado en cremas para protección solar.\n",
    "\n",
    "<img src=\"./images/tio2_fig.png\" width=\"800px\" align= center>"
   ]
  },
  {
   "cell_type": "markdown",
   "id": "17c1dc23",
   "metadata": {
    "slideshow": {
     "slide_type": "slide"
    }
   },
   "source": [
    "## Referencias\n",
    "- Rao S. S. **Chapter 4 - Vibration Under General Forcing Conditions** in *Mechanical Vibrations*, 6th Ed, Pearson, 2018\n",
    "\n",
    "- Griffths D., **Chapter 4.1 - Polarization** in *Introduction to Electrodynamics*, 4th Ed, Pearson, 2013\n",
    "\n",
    "- Simmons J. and Potter K., **Chapter 2 and 3** in *Optical Materials*, 1st Ed, Academic Press, 2000"
   ]
  }
 ],
 "metadata": {
  "celltoolbar": "Slideshow",
  "kernelspec": {
   "display_name": "Python 3 (ipykernel)",
   "language": "python",
   "name": "python3"
  },
  "language_info": {
   "codemirror_mode": {
    "name": "ipython",
    "version": 3
   },
   "file_extension": ".py",
   "mimetype": "text/x-python",
   "name": "python",
   "nbconvert_exporter": "python",
   "pygments_lexer": "ipython3",
   "version": "3.10.11"
  },
  "latex_envs": {
   "LaTeX_envs_menu_present": false,
   "autoclose": false,
   "autocomplete": false,
   "bibliofile": "biblio.bib",
   "cite_by": "apalike",
   "current_citInitial": 1,
   "eqLabelWithNumbers": true,
   "eqNumInitial": 2,
   "hotkeys": {
    "equation": "Ctrl-E",
    "itemize": "Ctrl-I"
   },
   "labels_anchors": false,
   "latex_user_defs": false,
   "report_style_numbering": false,
   "user_envs_cfg": true
  },
  "rise": {
   "scroll": true
  },
  "toc": {
   "base_numbering": 1,
   "nav_menu": {},
   "number_sections": true,
   "sideBar": true,
   "skip_h1_title": true,
   "title_cell": "Tabla de contenidos",
   "title_sidebar": "Contenidos",
   "toc_cell": false,
   "toc_position": {
    "height": "calc(100% - 180px)",
    "left": "10px",
    "top": "150px",
    "width": "307.2px"
   },
   "toc_section_display": true,
   "toc_window_display": false
  },
  "varInspector": {
   "cols": {
    "lenName": 16,
    "lenType": 16,
    "lenVar": 40
   },
   "kernels_config": {
    "python": {
     "delete_cmd_postfix": "",
     "delete_cmd_prefix": "del ",
     "library": "var_list.py",
     "varRefreshCmd": "print(var_dic_list())"
    },
    "r": {
     "delete_cmd_postfix": ") ",
     "delete_cmd_prefix": "rm(",
     "library": "var_list.r",
     "varRefreshCmd": "cat(var_dic_list()) "
    }
   },
   "types_to_exclude": [
    "module",
    "function",
    "builtin_function_or_method",
    "instance",
    "_Feature"
   ],
   "window_display": false
  },
  "widgets": {
   "application/vnd.jupyter.widget-state+json": {
    "state": {
     "0065f16656b14559b3af2f1053ccfc9f": {
      "model_module": "@jupyter-widgets/base",
      "model_module_version": "1.2.0",
      "model_name": "LayoutModel",
      "state": {
       "_model_module": "@jupyter-widgets/base",
       "_model_module_version": "1.2.0",
       "_model_name": "LayoutModel",
       "_view_count": null,
       "_view_module": "@jupyter-widgets/base",
       "_view_module_version": "1.2.0",
       "_view_name": "LayoutView",
       "align_content": null,
       "align_items": null,
       "align_self": null,
       "border": null,
       "bottom": null,
       "display": null,
       "flex": null,
       "flex_flow": null,
       "grid_area": null,
       "grid_auto_columns": null,
       "grid_auto_flow": null,
       "grid_auto_rows": null,
       "grid_column": null,
       "grid_gap": null,
       "grid_row": null,
       "grid_template_areas": null,
       "grid_template_columns": null,
       "grid_template_rows": null,
       "height": null,
       "justify_content": null,
       "justify_items": null,
       "left": null,
       "margin": null,
       "max_height": null,
       "max_width": null,
       "min_height": null,
       "min_width": null,
       "object_fit": null,
       "object_position": null,
       "order": null,
       "overflow": null,
       "overflow_x": null,
       "overflow_y": null,
       "padding": null,
       "right": null,
       "top": null,
       "visibility": null,
       "width": null
      }
     },
     "00965a5512d943c29a26de2ee20ed4a4": {
      "model_module": "@jupyter-widgets/controls",
      "model_module_version": "1.5.0",
      "model_name": "FloatSliderModel",
      "state": {
       "_dom_classes": [],
       "_model_module": "@jupyter-widgets/controls",
       "_model_module_version": "1.5.0",
       "_model_name": "FloatSliderModel",
       "_view_count": null,
       "_view_module": "@jupyter-widgets/controls",
       "_view_module_version": "1.5.0",
       "_view_name": "FloatSliderView",
       "continuous_update": true,
       "description": "",
       "description_tooltip": null,
       "disabled": false,
       "layout": "IPY_MODEL_0065f16656b14559b3af2f1053ccfc9f",
       "max": 5.0,
       "min": 1.0,
       "orientation": "horizontal",
       "readout": true,
       "readout_format": ".2f",
       "step": 0.1,
       "style": "IPY_MODEL_f901ae1b2caa4eae8d48aaf3a2d61af7",
       "value": 3.0
      }
     },
     "095af228d1414567a4bc0b19d4d5a4dd": {
      "model_module": "@jupyter-widgets/controls",
      "model_module_version": "1.5.0",
      "model_name": "SliderStyleModel",
      "state": {
       "_model_module": "@jupyter-widgets/controls",
       "_model_module_version": "1.5.0",
       "_model_name": "SliderStyleModel",
       "_view_count": null,
       "_view_module": "@jupyter-widgets/base",
       "_view_module_version": "1.2.0",
       "_view_name": "StyleView",
       "description_width": "",
       "handle_color": null
      }
     },
     "0b6190b62dc541d1901bbb17cfbf0628": {
      "model_module": "@jupyter-widgets/controls",
      "model_module_version": "1.5.0",
      "model_name": "FloatSliderModel",
      "state": {
       "_dom_classes": [],
       "_model_module": "@jupyter-widgets/controls",
       "_model_module_version": "1.5.0",
       "_model_name": "FloatSliderModel",
       "_view_count": null,
       "_view_module": "@jupyter-widgets/controls",
       "_view_module_version": "1.5.0",
       "_view_name": "FloatSliderView",
       "continuous_update": true,
       "description": "gamma",
       "description_tooltip": null,
       "disabled": false,
       "layout": "IPY_MODEL_4034a70d5cb845939abf5053765c16ef",
       "max": 0.05,
       "min": 0.01,
       "orientation": "horizontal",
       "readout": true,
       "readout_format": ".2f",
       "step": 0.005,
       "style": "IPY_MODEL_be4bfcc76f0040cbbb07da24cf78e091",
       "value": 0.04
      }
     },
     "0c09e7d8e2ad4b678ccc0ffa533cd94d": {
      "model_module": "@jupyter-widgets/output",
      "model_module_version": "1.0.0",
      "model_name": "OutputModel",
      "state": {
       "_dom_classes": [],
       "_model_module": "@jupyter-widgets/output",
       "_model_module_version": "1.0.0",
       "_model_name": "OutputModel",
       "_view_count": null,
       "_view_module": "@jupyter-widgets/output",
       "_view_module_version": "1.0.0",
       "_view_name": "OutputView",
       "layout": "IPY_MODEL_3691fd7eff9341d0b04e160f97036dbd",
       "msg_id": "",
       "outputs": []
      }
     },
     "105601f5ae624955ae8baaec265bd3dd": {
      "model_module": "@jupyter-widgets/controls",
      "model_module_version": "1.5.0",
      "model_name": "FloatSliderModel",
      "state": {
       "_dom_classes": [],
       "_model_module": "@jupyter-widgets/controls",
       "_model_module_version": "1.5.0",
       "_model_name": "FloatSliderModel",
       "_view_count": null,
       "_view_module": "@jupyter-widgets/controls",
       "_view_module_version": "1.5.0",
       "_view_name": "FloatSliderView",
       "continuous_update": true,
       "description": "k",
       "description_tooltip": null,
       "disabled": false,
       "layout": "IPY_MODEL_d572eec54c414da98836cac35dd6dc22",
       "max": 2.0,
       "min": 0.3,
       "orientation": "horizontal",
       "readout": true,
       "readout_format": ".2f",
       "step": 0.1,
       "style": "IPY_MODEL_6f04fb2c5eec46bc99cb0857671fc50e",
       "value": 1.0
      }
     },
     "136be21be3754ac1b913747a9392795f": {
      "model_module": "@jupyter-widgets/base",
      "model_module_version": "1.2.0",
      "model_name": "LayoutModel",
      "state": {
       "_model_module": "@jupyter-widgets/base",
       "_model_module_version": "1.2.0",
       "_model_name": "LayoutModel",
       "_view_count": null,
       "_view_module": "@jupyter-widgets/base",
       "_view_module_version": "1.2.0",
       "_view_name": "LayoutView",
       "align_content": null,
       "align_items": null,
       "align_self": null,
       "border": null,
       "bottom": null,
       "display": null,
       "flex": null,
       "flex_flow": null,
       "grid_area": null,
       "grid_auto_columns": null,
       "grid_auto_flow": null,
       "grid_auto_rows": null,
       "grid_column": null,
       "grid_gap": null,
       "grid_row": null,
       "grid_template_areas": null,
       "grid_template_columns": null,
       "grid_template_rows": null,
       "height": null,
       "justify_content": null,
       "justify_items": null,
       "left": null,
       "margin": null,
       "max_height": null,
       "max_width": null,
       "min_height": null,
       "min_width": null,
       "object_fit": null,
       "object_position": null,
       "order": null,
       "overflow": null,
       "overflow_x": null,
       "overflow_y": null,
       "padding": null,
       "right": null,
       "top": null,
       "visibility": null,
       "width": null
      }
     },
     "13f10ff36ea747d39583d5409663d0dd": {
      "model_module": "@jupyter-widgets/base",
      "model_module_version": "1.2.0",
      "model_name": "LayoutModel",
      "state": {
       "_model_module": "@jupyter-widgets/base",
       "_model_module_version": "1.2.0",
       "_model_name": "LayoutModel",
       "_view_count": null,
       "_view_module": "@jupyter-widgets/base",
       "_view_module_version": "1.2.0",
       "_view_name": "LayoutView",
       "align_content": null,
       "align_items": null,
       "align_self": null,
       "border": null,
       "bottom": null,
       "display": null,
       "flex": null,
       "flex_flow": null,
       "grid_area": null,
       "grid_auto_columns": null,
       "grid_auto_flow": null,
       "grid_auto_rows": null,
       "grid_column": null,
       "grid_gap": null,
       "grid_row": null,
       "grid_template_areas": null,
       "grid_template_columns": null,
       "grid_template_rows": null,
       "height": null,
       "justify_content": null,
       "justify_items": null,
       "left": null,
       "margin": null,
       "max_height": null,
       "max_width": null,
       "min_height": null,
       "min_width": null,
       "object_fit": null,
       "object_position": null,
       "order": null,
       "overflow": null,
       "overflow_x": null,
       "overflow_y": null,
       "padding": null,
       "right": null,
       "top": null,
       "visibility": null,
       "width": null
      }
     },
     "169dfa7a745c48c4b3918a884f3ac325": {
      "model_module": "@jupyter-widgets/controls",
      "model_module_version": "1.5.0",
      "model_name": "VBoxModel",
      "state": {
       "_dom_classes": [
        "widget-interact"
       ],
       "_model_module": "@jupyter-widgets/controls",
       "_model_module_version": "1.5.0",
       "_model_name": "VBoxModel",
       "_view_count": null,
       "_view_module": "@jupyter-widgets/controls",
       "_view_module_version": "1.5.0",
       "_view_name": "VBoxView",
       "box_style": "",
       "children": [
        "IPY_MODEL_245da0a81f104dcdb84351197787395e",
        "IPY_MODEL_1acc4f46884648f29b82245dd90c7aaa",
        "IPY_MODEL_2aae0ab60659472f8c430fd358d8e121",
        "IPY_MODEL_d29ca2e6e6c54459a53202244168d654"
       ],
       "layout": "IPY_MODEL_fba988a64601489292ae2b2dee2ff912"
      }
     },
     "17169717b6e14c079f04f288434fb8d7": {
      "model_module": "@jupyter-widgets/base",
      "model_module_version": "1.2.0",
      "model_name": "LayoutModel",
      "state": {
       "_model_module": "@jupyter-widgets/base",
       "_model_module_version": "1.2.0",
       "_model_name": "LayoutModel",
       "_view_count": null,
       "_view_module": "@jupyter-widgets/base",
       "_view_module_version": "1.2.0",
       "_view_name": "LayoutView",
       "align_content": null,
       "align_items": null,
       "align_self": null,
       "border": null,
       "bottom": null,
       "display": null,
       "flex": null,
       "flex_flow": null,
       "grid_area": null,
       "grid_auto_columns": null,
       "grid_auto_flow": null,
       "grid_auto_rows": null,
       "grid_column": null,
       "grid_gap": null,
       "grid_row": null,
       "grid_template_areas": null,
       "grid_template_columns": null,
       "grid_template_rows": null,
       "height": null,
       "justify_content": null,
       "justify_items": null,
       "left": null,
       "margin": null,
       "max_height": null,
       "max_width": null,
       "min_height": null,
       "min_width": null,
       "object_fit": null,
       "object_position": null,
       "order": null,
       "overflow": null,
       "overflow_x": null,
       "overflow_y": null,
       "padding": null,
       "right": null,
       "top": null,
       "visibility": null,
       "width": null
      }
     },
     "1acc4f46884648f29b82245dd90c7aaa": {
      "model_module": "@jupyter-widgets/controls",
      "model_module_version": "1.5.0",
      "model_name": "FloatSliderModel",
      "state": {
       "_dom_classes": [],
       "_model_module": "@jupyter-widgets/controls",
       "_model_module_version": "1.5.0",
       "_model_name": "FloatSliderModel",
       "_view_count": null,
       "_view_module": "@jupyter-widgets/controls",
       "_view_module_version": "1.5.0",
       "_view_name": "FloatSliderView",
       "continuous_update": true,
       "description": "wp",
       "description_tooltip": null,
       "disabled": false,
       "layout": "IPY_MODEL_43088cad0c4848d19cc84d7652e92245",
       "max": 2.0,
       "min": 0.4,
       "orientation": "horizontal",
       "readout": true,
       "readout_format": ".2f",
       "step": 0.05,
       "style": "IPY_MODEL_6daab7a863ac4616b972e8eb37ddcbd4",
       "value": 1.0
      }
     },
     "1cce6dac94f14decb826c839aafd13d0": {
      "model_module": "@jupyter-widgets/controls",
      "model_module_version": "1.5.0",
      "model_name": "FloatSliderModel",
      "state": {
       "_dom_classes": [],
       "_model_module": "@jupyter-widgets/controls",
       "_model_module_version": "1.5.0",
       "_model_name": "FloatSliderModel",
       "_view_count": null,
       "_view_module": "@jupyter-widgets/controls",
       "_view_module_version": "1.5.0",
       "_view_name": "FloatSliderView",
       "continuous_update": true,
       "description": "epsinf",
       "description_tooltip": null,
       "disabled": false,
       "layout": "IPY_MODEL_bfb8518ce5e349e79fa89f0b0602c541",
       "max": 5.0,
       "min": 1.0,
       "orientation": "horizontal",
       "readout": true,
       "readout_format": ".2f",
       "step": 0.1,
       "style": "IPY_MODEL_72d5a1f0fb364327ac088d755a0f95b7",
       "value": 1.0
      }
     },
     "1d5a8823cee34693a75982e016ec8e39": {
      "model_module": "@jupyter-widgets/controls",
      "model_module_version": "1.5.0",
      "model_name": "FloatSliderModel",
      "state": {
       "_dom_classes": [],
       "_model_module": "@jupyter-widgets/controls",
       "_model_module_version": "1.5.0",
       "_model_name": "FloatSliderModel",
       "_view_count": null,
       "_view_module": "@jupyter-widgets/controls",
       "_view_module_version": "1.5.0",
       "_view_name": "FloatSliderView",
       "continuous_update": true,
       "description": "",
       "description_tooltip": null,
       "disabled": false,
       "layout": "IPY_MODEL_d572eec54c414da98836cac35dd6dc22",
       "max": 2.0,
       "min": 0.3,
       "orientation": "horizontal",
       "readout": true,
       "readout_format": ".2f",
       "step": 0.1,
       "style": "IPY_MODEL_6f04fb2c5eec46bc99cb0857671fc50e",
       "value": 1.1
      }
     },
     "1fd07d21c7b24f1eb0811b3cd58915d5": {
      "model_module": "@jupyter-widgets/controls",
      "model_module_version": "1.5.0",
      "model_name": "FloatSliderModel",
      "state": {
       "_dom_classes": [],
       "_model_module": "@jupyter-widgets/controls",
       "_model_module_version": "1.5.0",
       "_model_name": "FloatSliderModel",
       "_view_count": null,
       "_view_module": "@jupyter-widgets/controls",
       "_view_module_version": "1.5.0",
       "_view_name": "FloatSliderView",
       "continuous_update": true,
       "description": "",
       "description_tooltip": null,
       "disabled": false,
       "layout": "IPY_MODEL_b6d4a4ad50d744e394f68294a7b47566",
       "max": 2.0,
       "min": 0.4,
       "orientation": "horizontal",
       "readout": true,
       "readout_format": ".2f",
       "step": 0.05,
       "style": "IPY_MODEL_3a01684416e54cda81cb98e30d8ec6d5",
       "value": 1.2000000000000002
      }
     },
     "2347db663de946ce81203cdbef3a6682": {
      "model_module": "@jupyter-widgets/controls",
      "model_module_version": "1.5.0",
      "model_name": "SliderStyleModel",
      "state": {
       "_model_module": "@jupyter-widgets/controls",
       "_model_module_version": "1.5.0",
       "_model_name": "SliderStyleModel",
       "_view_count": null,
       "_view_module": "@jupyter-widgets/base",
       "_view_module_version": "1.2.0",
       "_view_name": "StyleView",
       "description_width": "",
       "handle_color": null
      }
     },
     "245da0a81f104dcdb84351197787395e": {
      "model_module": "@jupyter-widgets/controls",
      "model_module_version": "1.5.0",
      "model_name": "FloatSliderModel",
      "state": {
       "_dom_classes": [],
       "_model_module": "@jupyter-widgets/controls",
       "_model_module_version": "1.5.0",
       "_model_name": "FloatSliderModel",
       "_view_count": null,
       "_view_module": "@jupyter-widgets/controls",
       "_view_module_version": "1.5.0",
       "_view_name": "FloatSliderView",
       "continuous_update": true,
       "description": "epsinf",
       "description_tooltip": null,
       "disabled": false,
       "layout": "IPY_MODEL_0065f16656b14559b3af2f1053ccfc9f",
       "max": 5.0,
       "min": 1.0,
       "orientation": "horizontal",
       "readout": true,
       "readout_format": ".2f",
       "step": 0.1,
       "style": "IPY_MODEL_f901ae1b2caa4eae8d48aaf3a2d61af7",
       "value": 1.0
      }
     },
     "25c25583c3714606ab37095b318a8675": {
      "model_module": "@jupyter-widgets/base",
      "model_module_version": "1.2.0",
      "model_name": "LayoutModel",
      "state": {
       "_model_module": "@jupyter-widgets/base",
       "_model_module_version": "1.2.0",
       "_model_name": "LayoutModel",
       "_view_count": null,
       "_view_module": "@jupyter-widgets/base",
       "_view_module_version": "1.2.0",
       "_view_name": "LayoutView",
       "align_content": null,
       "align_items": null,
       "align_self": null,
       "border": null,
       "bottom": null,
       "display": null,
       "flex": null,
       "flex_flow": null,
       "grid_area": null,
       "grid_auto_columns": null,
       "grid_auto_flow": null,
       "grid_auto_rows": null,
       "grid_column": null,
       "grid_gap": null,
       "grid_row": null,
       "grid_template_areas": null,
       "grid_template_columns": null,
       "grid_template_rows": null,
       "height": null,
       "justify_content": null,
       "justify_items": null,
       "left": null,
       "margin": null,
       "max_height": null,
       "max_width": null,
       "min_height": null,
       "min_width": null,
       "object_fit": null,
       "object_position": null,
       "order": null,
       "overflow": null,
       "overflow_x": null,
       "overflow_y": null,
       "padding": null,
       "right": null,
       "top": null,
       "visibility": null,
       "width": null
      }
     },
     "2aae0ab60659472f8c430fd358d8e121": {
      "model_module": "@jupyter-widgets/controls",
      "model_module_version": "1.5.0",
      "model_name": "FloatSliderModel",
      "state": {
       "_dom_classes": [],
       "_model_module": "@jupyter-widgets/controls",
       "_model_module_version": "1.5.0",
       "_model_name": "FloatSliderModel",
       "_view_count": null,
       "_view_module": "@jupyter-widgets/controls",
       "_view_module_version": "1.5.0",
       "_view_name": "FloatSliderView",
       "continuous_update": true,
       "description": "gamma",
       "description_tooltip": null,
       "disabled": false,
       "layout": "IPY_MODEL_5117c47948a644d886e4c00a823c8d45",
       "max": 0.2,
       "min": 0.01,
       "orientation": "horizontal",
       "readout": true,
       "readout_format": ".2f",
       "step": 0.01,
       "style": "IPY_MODEL_095af228d1414567a4bc0b19d4d5a4dd",
       "value": 0.1
      }
     },
     "2d8aed4b32714815831deb8e27d78efb": {
      "model_module": "@jupyter-widgets/controls",
      "model_module_version": "1.5.0",
      "model_name": "SliderStyleModel",
      "state": {
       "_model_module": "@jupyter-widgets/controls",
       "_model_module_version": "1.5.0",
       "_model_name": "SliderStyleModel",
       "_view_count": null,
       "_view_module": "@jupyter-widgets/base",
       "_view_module_version": "1.2.0",
       "_view_name": "StyleView",
       "description_width": "",
       "handle_color": null
      }
     },
     "2febf1826a8b4417b0fc79d82671c02b": {
      "model_module": "@jupyter-widgets/controls",
      "model_module_version": "1.5.0",
      "model_name": "SliderStyleModel",
      "state": {
       "_model_module": "@jupyter-widgets/controls",
       "_model_module_version": "1.5.0",
       "_model_name": "SliderStyleModel",
       "_view_count": null,
       "_view_module": "@jupyter-widgets/base",
       "_view_module_version": "1.2.0",
       "_view_name": "StyleView",
       "description_width": "",
       "handle_color": null
      }
     },
     "30f9fcc26af54e0a9fbc03c81abf0339": {
      "model_module": "@jupyter-widgets/base",
      "model_module_version": "1.2.0",
      "model_name": "LayoutModel",
      "state": {
       "_model_module": "@jupyter-widgets/base",
       "_model_module_version": "1.2.0",
       "_model_name": "LayoutModel",
       "_view_count": null,
       "_view_module": "@jupyter-widgets/base",
       "_view_module_version": "1.2.0",
       "_view_name": "LayoutView",
       "align_content": null,
       "align_items": null,
       "align_self": null,
       "border": null,
       "bottom": null,
       "display": null,
       "flex": null,
       "flex_flow": null,
       "grid_area": null,
       "grid_auto_columns": null,
       "grid_auto_flow": null,
       "grid_auto_rows": null,
       "grid_column": null,
       "grid_gap": null,
       "grid_row": null,
       "grid_template_areas": null,
       "grid_template_columns": null,
       "grid_template_rows": null,
       "height": null,
       "justify_content": null,
       "justify_items": null,
       "left": null,
       "margin": null,
       "max_height": null,
       "max_width": null,
       "min_height": null,
       "min_width": null,
       "object_fit": null,
       "object_position": null,
       "order": null,
       "overflow": null,
       "overflow_x": null,
       "overflow_y": null,
       "padding": null,
       "right": null,
       "top": null,
       "visibility": null,
       "width": null
      }
     },
     "3691fd7eff9341d0b04e160f97036dbd": {
      "model_module": "@jupyter-widgets/base",
      "model_module_version": "1.2.0",
      "model_name": "LayoutModel",
      "state": {
       "_model_module": "@jupyter-widgets/base",
       "_model_module_version": "1.2.0",
       "_model_name": "LayoutModel",
       "_view_count": null,
       "_view_module": "@jupyter-widgets/base",
       "_view_module_version": "1.2.0",
       "_view_name": "LayoutView",
       "align_content": null,
       "align_items": null,
       "align_self": null,
       "border": null,
       "bottom": null,
       "display": null,
       "flex": null,
       "flex_flow": null,
       "grid_area": null,
       "grid_auto_columns": null,
       "grid_auto_flow": null,
       "grid_auto_rows": null,
       "grid_column": null,
       "grid_gap": null,
       "grid_row": null,
       "grid_template_areas": null,
       "grid_template_columns": null,
       "grid_template_rows": null,
       "height": null,
       "justify_content": null,
       "justify_items": null,
       "left": null,
       "margin": null,
       "max_height": null,
       "max_width": null,
       "min_height": null,
       "min_width": null,
       "object_fit": null,
       "object_position": null,
       "order": null,
       "overflow": null,
       "overflow_x": null,
       "overflow_y": null,
       "padding": null,
       "right": null,
       "top": null,
       "visibility": null,
       "width": null
      }
     },
     "37fe0188c5d147e380cde0633405feec": {
      "model_module": "@jupyter-widgets/controls",
      "model_module_version": "1.5.0",
      "model_name": "FloatSliderModel",
      "state": {
       "_dom_classes": [],
       "_model_module": "@jupyter-widgets/controls",
       "_model_module_version": "1.5.0",
       "_model_name": "FloatSliderModel",
       "_view_count": null,
       "_view_module": "@jupyter-widgets/controls",
       "_view_module_version": "1.5.0",
       "_view_name": "FloatSliderView",
       "continuous_update": true,
       "description": "gamma",
       "description_tooltip": null,
       "disabled": false,
       "layout": "IPY_MODEL_f2d32e85314c48fa858703c80dcb41a2",
       "max": 0.2,
       "min": 0.01,
       "orientation": "horizontal",
       "readout": true,
       "readout_format": ".2f",
       "step": 0.01,
       "style": "IPY_MODEL_a3acad4b55a0489b8e18e09292ffc8d3",
       "value": 0.1
      }
     },
     "38bb6121f24944319610de6577cb3b12": {
      "model_module": "@jupyter-widgets/controls",
      "model_module_version": "1.5.0",
      "model_name": "SliderStyleModel",
      "state": {
       "_model_module": "@jupyter-widgets/controls",
       "_model_module_version": "1.5.0",
       "_model_name": "SliderStyleModel",
       "_view_count": null,
       "_view_module": "@jupyter-widgets/base",
       "_view_module_version": "1.2.0",
       "_view_name": "StyleView",
       "description_width": "",
       "handle_color": null
      }
     },
     "3a01684416e54cda81cb98e30d8ec6d5": {
      "model_module": "@jupyter-widgets/controls",
      "model_module_version": "1.5.0",
      "model_name": "SliderStyleModel",
      "state": {
       "_model_module": "@jupyter-widgets/controls",
       "_model_module_version": "1.5.0",
       "_model_name": "SliderStyleModel",
       "_view_count": null,
       "_view_module": "@jupyter-widgets/base",
       "_view_module_version": "1.2.0",
       "_view_name": "StyleView",
       "description_width": "",
       "handle_color": null
      }
     },
     "3a749384e304409daa91b953390a54ac": {
      "model_module": "@jupyter-widgets/output",
      "model_module_version": "1.0.0",
      "model_name": "OutputModel",
      "state": {
       "_dom_classes": [],
       "_model_module": "@jupyter-widgets/output",
       "_model_module_version": "1.0.0",
       "_model_name": "OutputModel",
       "_view_count": null,
       "_view_module": "@jupyter-widgets/output",
       "_view_module_version": "1.0.0",
       "_view_name": "OutputView",
       "layout": "IPY_MODEL_a61e8177e40542d8b3acaf20333a13fe",
       "msg_id": "",
       "outputs": []
      }
     },
     "3ccf25a72cee4b8a95cfbd02b79a7dbe": {
      "model_module": "@jupyter-widgets/controls",
      "model_module_version": "1.5.0",
      "model_name": "VBoxModel",
      "state": {
       "_dom_classes": [
        "widget-interact"
       ],
       "_model_module": "@jupyter-widgets/controls",
       "_model_module_version": "1.5.0",
       "_model_name": "VBoxModel",
       "_view_count": null,
       "_view_module": "@jupyter-widgets/controls",
       "_view_module_version": "1.5.0",
       "_view_name": "VBoxView",
       "box_style": "",
       "children": [],
       "layout": "IPY_MODEL_908997ee1b634b5fb08090399b0456db"
      }
     },
     "3ddc99e459f64bfda9727cd258683c36": {
      "model_module": "@jupyter-widgets/output",
      "model_module_version": "1.0.0",
      "model_name": "OutputModel",
      "state": {
       "_dom_classes": [],
       "_model_module": "@jupyter-widgets/output",
       "_model_module_version": "1.0.0",
       "_model_name": "OutputModel",
       "_view_count": null,
       "_view_module": "@jupyter-widgets/output",
       "_view_module_version": "1.0.0",
       "_view_name": "OutputView",
       "layout": "IPY_MODEL_c5ed536fbb9d41839e9013a4d2304bed",
       "msg_id": "",
       "outputs": []
      }
     },
     "4034a70d5cb845939abf5053765c16ef": {
      "model_module": "@jupyter-widgets/base",
      "model_module_version": "1.2.0",
      "model_name": "LayoutModel",
      "state": {
       "_model_module": "@jupyter-widgets/base",
       "_model_module_version": "1.2.0",
       "_model_name": "LayoutModel",
       "_view_count": null,
       "_view_module": "@jupyter-widgets/base",
       "_view_module_version": "1.2.0",
       "_view_name": "LayoutView",
       "align_content": null,
       "align_items": null,
       "align_self": null,
       "border": null,
       "bottom": null,
       "display": null,
       "flex": null,
       "flex_flow": null,
       "grid_area": null,
       "grid_auto_columns": null,
       "grid_auto_flow": null,
       "grid_auto_rows": null,
       "grid_column": null,
       "grid_gap": null,
       "grid_row": null,
       "grid_template_areas": null,
       "grid_template_columns": null,
       "grid_template_rows": null,
       "height": null,
       "justify_content": null,
       "justify_items": null,
       "left": null,
       "margin": null,
       "max_height": null,
       "max_width": null,
       "min_height": null,
       "min_width": null,
       "object_fit": null,
       "object_position": null,
       "order": null,
       "overflow": null,
       "overflow_x": null,
       "overflow_y": null,
       "padding": null,
       "right": null,
       "top": null,
       "visibility": null,
       "width": null
      }
     },
     "420959aa7ab044b891470f88ea3d61fe": {
      "model_module": "@jupyter-widgets/base",
      "model_module_version": "1.2.0",
      "model_name": "LayoutModel",
      "state": {
       "_model_module": "@jupyter-widgets/base",
       "_model_module_version": "1.2.0",
       "_model_name": "LayoutModel",
       "_view_count": null,
       "_view_module": "@jupyter-widgets/base",
       "_view_module_version": "1.2.0",
       "_view_name": "LayoutView",
       "align_content": null,
       "align_items": null,
       "align_self": null,
       "border": null,
       "bottom": null,
       "display": null,
       "flex": null,
       "flex_flow": null,
       "grid_area": null,
       "grid_auto_columns": null,
       "grid_auto_flow": null,
       "grid_auto_rows": null,
       "grid_column": null,
       "grid_gap": null,
       "grid_row": null,
       "grid_template_areas": null,
       "grid_template_columns": null,
       "grid_template_rows": null,
       "height": null,
       "justify_content": null,
       "justify_items": null,
       "left": null,
       "margin": null,
       "max_height": null,
       "max_width": null,
       "min_height": null,
       "min_width": null,
       "object_fit": null,
       "object_position": null,
       "order": null,
       "overflow": null,
       "overflow_x": null,
       "overflow_y": null,
       "padding": null,
       "right": null,
       "top": null,
       "visibility": null,
       "width": null
      }
     },
     "43088cad0c4848d19cc84d7652e92245": {
      "model_module": "@jupyter-widgets/base",
      "model_module_version": "1.2.0",
      "model_name": "LayoutModel",
      "state": {
       "_model_module": "@jupyter-widgets/base",
       "_model_module_version": "1.2.0",
       "_model_name": "LayoutModel",
       "_view_count": null,
       "_view_module": "@jupyter-widgets/base",
       "_view_module_version": "1.2.0",
       "_view_name": "LayoutView",
       "align_content": null,
       "align_items": null,
       "align_self": null,
       "border": null,
       "bottom": null,
       "display": null,
       "flex": null,
       "flex_flow": null,
       "grid_area": null,
       "grid_auto_columns": null,
       "grid_auto_flow": null,
       "grid_auto_rows": null,
       "grid_column": null,
       "grid_gap": null,
       "grid_row": null,
       "grid_template_areas": null,
       "grid_template_columns": null,
       "grid_template_rows": null,
       "height": null,
       "justify_content": null,
       "justify_items": null,
       "left": null,
       "margin": null,
       "max_height": null,
       "max_width": null,
       "min_height": null,
       "min_width": null,
       "object_fit": null,
       "object_position": null,
       "order": null,
       "overflow": null,
       "overflow_x": null,
       "overflow_y": null,
       "padding": null,
       "right": null,
       "top": null,
       "visibility": null,
       "width": null
      }
     },
     "472641d500b3416dbf342455cfd8a2e9": {
      "model_module": "@jupyter-widgets/controls",
      "model_module_version": "1.5.0",
      "model_name": "FloatSliderModel",
      "state": {
       "_dom_classes": [],
       "_model_module": "@jupyter-widgets/controls",
       "_model_module_version": "1.5.0",
       "_model_name": "FloatSliderModel",
       "_view_count": null,
       "_view_module": "@jupyter-widgets/controls",
       "_view_module_version": "1.5.0",
       "_view_name": "FloatSliderView",
       "continuous_update": true,
       "description": "epsinf",
       "description_tooltip": null,
       "disabled": false,
       "layout": "IPY_MODEL_ed999f8e42c8452e9725473491024c9b",
       "max": 10.0,
       "min": 1.0,
       "orientation": "horizontal",
       "readout": true,
       "readout_format": ".2f",
       "step": 0.5,
       "style": "IPY_MODEL_5ad9593a4dff47c3b181099d4e4d5021",
       "value": 7.0
      }
     },
     "50139451032048bdb118812ab256c7f5": {
      "model_module": "@jupyter-widgets/base",
      "model_module_version": "1.2.0",
      "model_name": "LayoutModel",
      "state": {
       "_model_module": "@jupyter-widgets/base",
       "_model_module_version": "1.2.0",
       "_model_name": "LayoutModel",
       "_view_count": null,
       "_view_module": "@jupyter-widgets/base",
       "_view_module_version": "1.2.0",
       "_view_name": "LayoutView",
       "align_content": null,
       "align_items": null,
       "align_self": null,
       "border": null,
       "bottom": null,
       "display": null,
       "flex": null,
       "flex_flow": null,
       "grid_area": null,
       "grid_auto_columns": null,
       "grid_auto_flow": null,
       "grid_auto_rows": null,
       "grid_column": null,
       "grid_gap": null,
       "grid_row": null,
       "grid_template_areas": null,
       "grid_template_columns": null,
       "grid_template_rows": null,
       "height": null,
       "justify_content": null,
       "justify_items": null,
       "left": null,
       "margin": null,
       "max_height": null,
       "max_width": null,
       "min_height": null,
       "min_width": null,
       "object_fit": null,
       "object_position": null,
       "order": null,
       "overflow": null,
       "overflow_x": null,
       "overflow_y": null,
       "padding": null,
       "right": null,
       "top": null,
       "visibility": null,
       "width": null
      }
     },
     "5117c47948a644d886e4c00a823c8d45": {
      "model_module": "@jupyter-widgets/base",
      "model_module_version": "1.2.0",
      "model_name": "LayoutModel",
      "state": {
       "_model_module": "@jupyter-widgets/base",
       "_model_module_version": "1.2.0",
       "_model_name": "LayoutModel",
       "_view_count": null,
       "_view_module": "@jupyter-widgets/base",
       "_view_module_version": "1.2.0",
       "_view_name": "LayoutView",
       "align_content": null,
       "align_items": null,
       "align_self": null,
       "border": null,
       "bottom": null,
       "display": null,
       "flex": null,
       "flex_flow": null,
       "grid_area": null,
       "grid_auto_columns": null,
       "grid_auto_flow": null,
       "grid_auto_rows": null,
       "grid_column": null,
       "grid_gap": null,
       "grid_row": null,
       "grid_template_areas": null,
       "grid_template_columns": null,
       "grid_template_rows": null,
       "height": null,
       "justify_content": null,
       "justify_items": null,
       "left": null,
       "margin": null,
       "max_height": null,
       "max_width": null,
       "min_height": null,
       "min_width": null,
       "object_fit": null,
       "object_position": null,
       "order": null,
       "overflow": null,
       "overflow_x": null,
       "overflow_y": null,
       "padding": null,
       "right": null,
       "top": null,
       "visibility": null,
       "width": null
      }
     },
     "53927ebaf13c4b94afba5f9f220d1c9e": {
      "model_module": "@jupyter-widgets/controls",
      "model_module_version": "1.5.0",
      "model_name": "VBoxModel",
      "state": {
       "_dom_classes": [
        "widget-interact"
       ],
       "_model_module": "@jupyter-widgets/controls",
       "_model_module_version": "1.5.0",
       "_model_name": "VBoxModel",
       "_view_count": null,
       "_view_module": "@jupyter-widgets/controls",
       "_view_module_version": "1.5.0",
       "_view_name": "VBoxView",
       "box_style": "",
       "children": [],
       "layout": "IPY_MODEL_a838b81b97a64555963f3554b99e2aa2"
      }
     },
     "556f7c18caec433484035f5fe536c0cd": {
      "model_module": "@jupyter-widgets/controls",
      "model_module_version": "1.5.0",
      "model_name": "FloatSliderModel",
      "state": {
       "_dom_classes": [],
       "_model_module": "@jupyter-widgets/controls",
       "_model_module_version": "1.5.0",
       "_model_name": "FloatSliderModel",
       "_view_count": null,
       "_view_module": "@jupyter-widgets/controls",
       "_view_module_version": "1.5.0",
       "_view_name": "FloatSliderView",
       "continuous_update": true,
       "description": "",
       "description_tooltip": null,
       "disabled": false,
       "layout": "IPY_MODEL_43088cad0c4848d19cc84d7652e92245",
       "max": 2.0,
       "min": 0.4,
       "orientation": "horizontal",
       "readout": true,
       "readout_format": ".2f",
       "step": 0.05,
       "style": "IPY_MODEL_6daab7a863ac4616b972e8eb37ddcbd4",
       "value": 1.2000000000000002
      }
     },
     "5ad9593a4dff47c3b181099d4e4d5021": {
      "model_module": "@jupyter-widgets/controls",
      "model_module_version": "1.5.0",
      "model_name": "SliderStyleModel",
      "state": {
       "_model_module": "@jupyter-widgets/controls",
       "_model_module_version": "1.5.0",
       "_model_name": "SliderStyleModel",
       "_view_count": null,
       "_view_module": "@jupyter-widgets/base",
       "_view_module_version": "1.2.0",
       "_view_name": "StyleView",
       "description_width": "",
       "handle_color": null
      }
     },
     "5b6f57e4e3584739a6ea997ecf4d461b": {
      "model_module": "@jupyter-widgets/controls",
      "model_module_version": "1.5.0",
      "model_name": "SliderStyleModel",
      "state": {
       "_model_module": "@jupyter-widgets/controls",
       "_model_module_version": "1.5.0",
       "_model_name": "SliderStyleModel",
       "_view_count": null,
       "_view_module": "@jupyter-widgets/base",
       "_view_module_version": "1.2.0",
       "_view_name": "StyleView",
       "description_width": "",
       "handle_color": null
      }
     },
     "5d4cf6a772b744a6ac71228104512a20": {
      "model_module": "@jupyter-widgets/controls",
      "model_module_version": "1.5.0",
      "model_name": "SliderStyleModel",
      "state": {
       "_model_module": "@jupyter-widgets/controls",
       "_model_module_version": "1.5.0",
       "_model_name": "SliderStyleModel",
       "_view_count": null,
       "_view_module": "@jupyter-widgets/base",
       "_view_module_version": "1.2.0",
       "_view_name": "StyleView",
       "description_width": "",
       "handle_color": null
      }
     },
     "5d5a26a84fbc44968bc4a91c6c798733": {
      "model_module": "@jupyter-widgets/controls",
      "model_module_version": "1.5.0",
      "model_name": "FloatSliderModel",
      "state": {
       "_dom_classes": [],
       "_model_module": "@jupyter-widgets/controls",
       "_model_module_version": "1.5.0",
       "_model_name": "FloatSliderModel",
       "_view_count": null,
       "_view_module": "@jupyter-widgets/controls",
       "_view_module_version": "1.5.0",
       "_view_name": "FloatSliderView",
       "continuous_update": true,
       "description": "",
       "description_tooltip": null,
       "disabled": false,
       "layout": "IPY_MODEL_f2d32e85314c48fa858703c80dcb41a2",
       "max": 0.2,
       "min": 0.01,
       "orientation": "horizontal",
       "readout": true,
       "readout_format": ".2f",
       "step": 0.01,
       "style": "IPY_MODEL_a3acad4b55a0489b8e18e09292ffc8d3",
       "value": 0.09999999999999999
      }
     },
     "5f8edcfac9c8453b9e0f21f1f8e21868": {
      "model_module": "@jupyter-widgets/controls",
      "model_module_version": "1.5.0",
      "model_name": "SliderStyleModel",
      "state": {
       "_model_module": "@jupyter-widgets/controls",
       "_model_module_version": "1.5.0",
       "_model_name": "SliderStyleModel",
       "_view_count": null,
       "_view_module": "@jupyter-widgets/base",
       "_view_module_version": "1.2.0",
       "_view_name": "StyleView",
       "description_width": "",
       "handle_color": null
      }
     },
     "60c7596630b848f694c10f725e7e3b36": {
      "model_module": "@jupyter-widgets/base",
      "model_module_version": "1.2.0",
      "model_name": "LayoutModel",
      "state": {
       "_model_module": "@jupyter-widgets/base",
       "_model_module_version": "1.2.0",
       "_model_name": "LayoutModel",
       "_view_count": null,
       "_view_module": "@jupyter-widgets/base",
       "_view_module_version": "1.2.0",
       "_view_name": "LayoutView",
       "align_content": null,
       "align_items": null,
       "align_self": null,
       "border": null,
       "bottom": null,
       "display": null,
       "flex": null,
       "flex_flow": null,
       "grid_area": null,
       "grid_auto_columns": null,
       "grid_auto_flow": null,
       "grid_auto_rows": null,
       "grid_column": null,
       "grid_gap": null,
       "grid_row": null,
       "grid_template_areas": null,
       "grid_template_columns": null,
       "grid_template_rows": null,
       "height": null,
       "justify_content": null,
       "justify_items": null,
       "left": null,
       "margin": null,
       "max_height": null,
       "max_width": null,
       "min_height": null,
       "min_width": null,
       "object_fit": null,
       "object_position": null,
       "order": null,
       "overflow": null,
       "overflow_x": null,
       "overflow_y": null,
       "padding": null,
       "right": null,
       "top": null,
       "visibility": null,
       "width": null
      }
     },
     "62eb3a2cb25e44068fbd683a4033013d": {
      "model_module": "@jupyter-widgets/output",
      "model_module_version": "1.0.0",
      "model_name": "OutputModel",
      "state": {
       "_dom_classes": [],
       "_model_module": "@jupyter-widgets/output",
       "_model_module_version": "1.0.0",
       "_model_name": "OutputModel",
       "_view_count": null,
       "_view_module": "@jupyter-widgets/output",
       "_view_module_version": "1.0.0",
       "_view_name": "OutputView",
       "layout": "IPY_MODEL_a61e8177e40542d8b3acaf20333a13fe",
       "msg_id": "",
       "outputs": [
        {
         "data": {
          "image/png": "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",
          "text/plain": "<Figure size 1000x300 with 2 Axes>"
         },
         "metadata": {},
         "output_type": "display_data"
        }
       ]
      }
     },
     "637b0ab1431b4cae9e4a1033ffb5c21d": {
      "model_module": "@jupyter-widgets/output",
      "model_module_version": "1.0.0",
      "model_name": "OutputModel",
      "state": {
       "_dom_classes": [],
       "_model_module": "@jupyter-widgets/output",
       "_model_module_version": "1.0.0",
       "_model_name": "OutputModel",
       "_view_count": null,
       "_view_module": "@jupyter-widgets/output",
       "_view_module_version": "1.0.0",
       "_view_name": "OutputView",
       "layout": "IPY_MODEL_c5ed536fbb9d41839e9013a4d2304bed",
       "msg_id": "",
       "outputs": [
        {
         "data": {
          "image/png": "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",
          "text/plain": "<Figure size 1000x300 with 2 Axes>"
         },
         "metadata": {},
         "output_type": "display_data"
        }
       ]
      }
     },
     "67894595657e4d63b27e92b55a91e674": {
      "model_module": "@jupyter-widgets/controls",
      "model_module_version": "1.5.0",
      "model_name": "FloatSliderModel",
      "state": {
       "_dom_classes": [],
       "_model_module": "@jupyter-widgets/controls",
       "_model_module_version": "1.5.0",
       "_model_name": "FloatSliderModel",
       "_view_count": null,
       "_view_module": "@jupyter-widgets/controls",
       "_view_module_version": "1.5.0",
       "_view_name": "FloatSliderView",
       "continuous_update": true,
       "description": "",
       "description_tooltip": null,
       "disabled": false,
       "layout": "IPY_MODEL_ed999f8e42c8452e9725473491024c9b",
       "max": 10.0,
       "min": 1.0,
       "orientation": "horizontal",
       "readout": true,
       "readout_format": ".2f",
       "step": 0.5,
       "style": "IPY_MODEL_5ad9593a4dff47c3b181099d4e4d5021",
       "value": 5.0
      }
     },
     "695f9364e07140c19793ee0a8db1fc5d": {
      "model_module": "@jupyter-widgets/controls",
      "model_module_version": "1.5.0",
      "model_name": "SliderStyleModel",
      "state": {
       "_model_module": "@jupyter-widgets/controls",
       "_model_module_version": "1.5.0",
       "_model_name": "SliderStyleModel",
       "_view_count": null,
       "_view_module": "@jupyter-widgets/base",
       "_view_module_version": "1.2.0",
       "_view_name": "StyleView",
       "description_width": "",
       "handle_color": null
      }
     },
     "6bd5b1b1ebf344e2bf24838a7093b542": {
      "model_module": "@jupyter-widgets/base",
      "model_module_version": "1.2.0",
      "model_name": "LayoutModel",
      "state": {
       "_model_module": "@jupyter-widgets/base",
       "_model_module_version": "1.2.0",
       "_model_name": "LayoutModel",
       "_view_count": null,
       "_view_module": "@jupyter-widgets/base",
       "_view_module_version": "1.2.0",
       "_view_name": "LayoutView",
       "align_content": null,
       "align_items": null,
       "align_self": null,
       "border": null,
       "bottom": null,
       "display": null,
       "flex": null,
       "flex_flow": null,
       "grid_area": null,
       "grid_auto_columns": null,
       "grid_auto_flow": null,
       "grid_auto_rows": null,
       "grid_column": null,
       "grid_gap": null,
       "grid_row": null,
       "grid_template_areas": null,
       "grid_template_columns": null,
       "grid_template_rows": null,
       "height": null,
       "justify_content": null,
       "justify_items": null,
       "left": null,
       "margin": null,
       "max_height": null,
       "max_width": null,
       "min_height": null,
       "min_width": null,
       "object_fit": null,
       "object_position": null,
       "order": null,
       "overflow": null,
       "overflow_x": null,
       "overflow_y": null,
       "padding": null,
       "right": null,
       "top": null,
       "visibility": null,
       "width": null
      }
     },
     "6bf15d6d382f43a2bda725d2be9c302b": {
      "model_module": "@jupyter-widgets/base",
      "model_module_version": "1.2.0",
      "model_name": "LayoutModel",
      "state": {
       "_model_module": "@jupyter-widgets/base",
       "_model_module_version": "1.2.0",
       "_model_name": "LayoutModel",
       "_view_count": null,
       "_view_module": "@jupyter-widgets/base",
       "_view_module_version": "1.2.0",
       "_view_name": "LayoutView",
       "align_content": null,
       "align_items": null,
       "align_self": null,
       "border": null,
       "bottom": null,
       "display": null,
       "flex": null,
       "flex_flow": null,
       "grid_area": null,
       "grid_auto_columns": null,
       "grid_auto_flow": null,
       "grid_auto_rows": null,
       "grid_column": null,
       "grid_gap": null,
       "grid_row": null,
       "grid_template_areas": null,
       "grid_template_columns": null,
       "grid_template_rows": null,
       "height": null,
       "justify_content": null,
       "justify_items": null,
       "left": null,
       "margin": null,
       "max_height": null,
       "max_width": null,
       "min_height": null,
       "min_width": null,
       "object_fit": null,
       "object_position": null,
       "order": null,
       "overflow": null,
       "overflow_x": null,
       "overflow_y": null,
       "padding": null,
       "right": null,
       "top": null,
       "visibility": null,
       "width": null
      }
     },
     "6ceeca4ed9e744fa9a90b321bba09648": {
      "model_module": "@jupyter-widgets/base",
      "model_module_version": "1.2.0",
      "model_name": "LayoutModel",
      "state": {
       "_model_module": "@jupyter-widgets/base",
       "_model_module_version": "1.2.0",
       "_model_name": "LayoutModel",
       "_view_count": null,
       "_view_module": "@jupyter-widgets/base",
       "_view_module_version": "1.2.0",
       "_view_name": "LayoutView",
       "align_content": null,
       "align_items": null,
       "align_self": null,
       "border": null,
       "bottom": null,
       "display": null,
       "flex": null,
       "flex_flow": null,
       "grid_area": null,
       "grid_auto_columns": null,
       "grid_auto_flow": null,
       "grid_auto_rows": null,
       "grid_column": null,
       "grid_gap": null,
       "grid_row": null,
       "grid_template_areas": null,
       "grid_template_columns": null,
       "grid_template_rows": null,
       "height": null,
       "justify_content": null,
       "justify_items": null,
       "left": null,
       "margin": null,
       "max_height": null,
       "max_width": null,
       "min_height": null,
       "min_width": null,
       "object_fit": null,
       "object_position": null,
       "order": null,
       "overflow": null,
       "overflow_x": null,
       "overflow_y": null,
       "padding": null,
       "right": null,
       "top": null,
       "visibility": null,
       "width": null
      }
     },
     "6daab7a863ac4616b972e8eb37ddcbd4": {
      "model_module": "@jupyter-widgets/controls",
      "model_module_version": "1.5.0",
      "model_name": "SliderStyleModel",
      "state": {
       "_model_module": "@jupyter-widgets/controls",
       "_model_module_version": "1.5.0",
       "_model_name": "SliderStyleModel",
       "_view_count": null,
       "_view_module": "@jupyter-widgets/base",
       "_view_module_version": "1.2.0",
       "_view_name": "StyleView",
       "description_width": "",
       "handle_color": null
      }
     },
     "6f04fb2c5eec46bc99cb0857671fc50e": {
      "model_module": "@jupyter-widgets/controls",
      "model_module_version": "1.5.0",
      "model_name": "SliderStyleModel",
      "state": {
       "_model_module": "@jupyter-widgets/controls",
       "_model_module_version": "1.5.0",
       "_model_name": "SliderStyleModel",
       "_view_count": null,
       "_view_module": "@jupyter-widgets/base",
       "_view_module_version": "1.2.0",
       "_view_name": "StyleView",
       "description_width": "",
       "handle_color": null
      }
     },
     "71301c3d1f094803911c4039e32fa03a": {
      "model_module": "@jupyter-widgets/base",
      "model_module_version": "1.2.0",
      "model_name": "LayoutModel",
      "state": {
       "_model_module": "@jupyter-widgets/base",
       "_model_module_version": "1.2.0",
       "_model_name": "LayoutModel",
       "_view_count": null,
       "_view_module": "@jupyter-widgets/base",
       "_view_module_version": "1.2.0",
       "_view_name": "LayoutView",
       "align_content": null,
       "align_items": null,
       "align_self": null,
       "border": null,
       "bottom": null,
       "display": null,
       "flex": null,
       "flex_flow": null,
       "grid_area": null,
       "grid_auto_columns": null,
       "grid_auto_flow": null,
       "grid_auto_rows": null,
       "grid_column": null,
       "grid_gap": null,
       "grid_row": null,
       "grid_template_areas": null,
       "grid_template_columns": null,
       "grid_template_rows": null,
       "height": null,
       "justify_content": null,
       "justify_items": null,
       "left": null,
       "margin": null,
       "max_height": null,
       "max_width": null,
       "min_height": null,
       "min_width": null,
       "object_fit": null,
       "object_position": null,
       "order": null,
       "overflow": null,
       "overflow_x": null,
       "overflow_y": null,
       "padding": null,
       "right": null,
       "top": null,
       "visibility": null,
       "width": null
      }
     },
     "72d5a1f0fb364327ac088d755a0f95b7": {
      "model_module": "@jupyter-widgets/controls",
      "model_module_version": "1.5.0",
      "model_name": "SliderStyleModel",
      "state": {
       "_model_module": "@jupyter-widgets/controls",
       "_model_module_version": "1.5.0",
       "_model_name": "SliderStyleModel",
       "_view_count": null,
       "_view_module": "@jupyter-widgets/base",
       "_view_module_version": "1.2.0",
       "_view_name": "StyleView",
       "description_width": "",
       "handle_color": null
      }
     },
     "74a4f94b82d547589baa6143090c5670": {
      "model_module": "@jupyter-widgets/controls",
      "model_module_version": "1.5.0",
      "model_name": "SliderStyleModel",
      "state": {
       "_model_module": "@jupyter-widgets/controls",
       "_model_module_version": "1.5.0",
       "_model_name": "SliderStyleModel",
       "_view_count": null,
       "_view_module": "@jupyter-widgets/base",
       "_view_module_version": "1.2.0",
       "_view_name": "StyleView",
       "description_width": "",
       "handle_color": null
      }
     },
     "76e0bca14cde4c3ba2e641a8e5176be6": {
      "model_module": "@jupyter-widgets/base",
      "model_module_version": "1.2.0",
      "model_name": "LayoutModel",
      "state": {
       "_model_module": "@jupyter-widgets/base",
       "_model_module_version": "1.2.0",
       "_model_name": "LayoutModel",
       "_view_count": null,
       "_view_module": "@jupyter-widgets/base",
       "_view_module_version": "1.2.0",
       "_view_name": "LayoutView",
       "align_content": null,
       "align_items": null,
       "align_self": null,
       "border": null,
       "bottom": null,
       "display": null,
       "flex": null,
       "flex_flow": null,
       "grid_area": null,
       "grid_auto_columns": null,
       "grid_auto_flow": null,
       "grid_auto_rows": null,
       "grid_column": null,
       "grid_gap": null,
       "grid_row": null,
       "grid_template_areas": null,
       "grid_template_columns": null,
       "grid_template_rows": null,
       "height": null,
       "justify_content": null,
       "justify_items": null,
       "left": null,
       "margin": null,
       "max_height": null,
       "max_width": null,
       "min_height": null,
       "min_width": null,
       "object_fit": null,
       "object_position": null,
       "order": null,
       "overflow": null,
       "overflow_x": null,
       "overflow_y": null,
       "padding": null,
       "right": null,
       "top": null,
       "visibility": null,
       "width": null
      }
     },
     "79d6e18a291d4be988c3b947cc003f21": {
      "model_module": "@jupyter-widgets/controls",
      "model_module_version": "1.5.0",
      "model_name": "VBoxModel",
      "state": {
       "_dom_classes": [
        "widget-interact"
       ],
       "_model_module": "@jupyter-widgets/controls",
       "_model_module_version": "1.5.0",
       "_model_name": "VBoxModel",
       "_view_count": null,
       "_view_module": "@jupyter-widgets/controls",
       "_view_module_version": "1.5.0",
       "_view_name": "VBoxView",
       "box_style": "",
       "children": [
        "IPY_MODEL_1cce6dac94f14decb826c839aafd13d0",
        "IPY_MODEL_df80b6e4c4c54925a0cedceaa89280b0",
        "IPY_MODEL_37fe0188c5d147e380cde0633405feec",
        "IPY_MODEL_9069f7dbf6fa435e849e12d63528f465"
       ],
       "layout": "IPY_MODEL_79e56f390a6745e0ae6222202f440e74"
      }
     },
     "79e56f390a6745e0ae6222202f440e74": {
      "model_module": "@jupyter-widgets/base",
      "model_module_version": "1.2.0",
      "model_name": "LayoutModel",
      "state": {
       "_model_module": "@jupyter-widgets/base",
       "_model_module_version": "1.2.0",
       "_model_name": "LayoutModel",
       "_view_count": null,
       "_view_module": "@jupyter-widgets/base",
       "_view_module_version": "1.2.0",
       "_view_name": "LayoutView",
       "align_content": null,
       "align_items": null,
       "align_self": null,
       "border": null,
       "bottom": null,
       "display": null,
       "flex": null,
       "flex_flow": null,
       "grid_area": null,
       "grid_auto_columns": null,
       "grid_auto_flow": null,
       "grid_auto_rows": null,
       "grid_column": null,
       "grid_gap": null,
       "grid_row": null,
       "grid_template_areas": null,
       "grid_template_columns": null,
       "grid_template_rows": null,
       "height": null,
       "justify_content": null,
       "justify_items": null,
       "left": null,
       "margin": null,
       "max_height": null,
       "max_width": null,
       "min_height": null,
       "min_width": null,
       "object_fit": null,
       "object_position": null,
       "order": null,
       "overflow": null,
       "overflow_x": null,
       "overflow_y": null,
       "padding": null,
       "right": null,
       "top": null,
       "visibility": null,
       "width": null
      }
     },
     "7bb640b1b0434436ade472488a20e96a": {
      "model_module": "@jupyter-widgets/controls",
      "model_module_version": "1.5.0",
      "model_name": "FloatSliderModel",
      "state": {
       "_dom_classes": [],
       "_model_module": "@jupyter-widgets/controls",
       "_model_module_version": "1.5.0",
       "_model_name": "FloatSliderModel",
       "_view_count": null,
       "_view_module": "@jupyter-widgets/controls",
       "_view_module_version": "1.5.0",
       "_view_name": "FloatSliderView",
       "continuous_update": true,
       "description": "",
       "description_tooltip": null,
       "disabled": false,
       "layout": "IPY_MODEL_bfb8518ce5e349e79fa89f0b0602c541",
       "max": 5.0,
       "min": 1.0,
       "orientation": "horizontal",
       "readout": true,
       "readout_format": ".2f",
       "step": 0.1,
       "style": "IPY_MODEL_72d5a1f0fb364327ac088d755a0f95b7",
       "value": 3.0
      }
     },
     "82e2c38a4e274ff3b0efec5f25aab9e9": {
      "model_module": "@jupyter-widgets/base",
      "model_module_version": "1.2.0",
      "model_name": "LayoutModel",
      "state": {
       "_model_module": "@jupyter-widgets/base",
       "_model_module_version": "1.2.0",
       "_model_name": "LayoutModel",
       "_view_count": null,
       "_view_module": "@jupyter-widgets/base",
       "_view_module_version": "1.2.0",
       "_view_name": "LayoutView",
       "align_content": null,
       "align_items": null,
       "align_self": null,
       "border": null,
       "bottom": null,
       "display": null,
       "flex": null,
       "flex_flow": null,
       "grid_area": null,
       "grid_auto_columns": null,
       "grid_auto_flow": null,
       "grid_auto_rows": null,
       "grid_column": null,
       "grid_gap": null,
       "grid_row": null,
       "grid_template_areas": null,
       "grid_template_columns": null,
       "grid_template_rows": null,
       "height": null,
       "justify_content": null,
       "justify_items": null,
       "left": null,
       "margin": null,
       "max_height": null,
       "max_width": null,
       "min_height": null,
       "min_width": null,
       "object_fit": null,
       "object_position": null,
       "order": null,
       "overflow": null,
       "overflow_x": null,
       "overflow_y": null,
       "padding": null,
       "right": null,
       "top": null,
       "visibility": null,
       "width": null
      }
     },
     "8e1b6eb501a047ff869d13d9a8d3faf7": {
      "model_module": "@jupyter-widgets/controls",
      "model_module_version": "1.5.0",
      "model_name": "FloatSliderModel",
      "state": {
       "_dom_classes": [],
       "_model_module": "@jupyter-widgets/controls",
       "_model_module_version": "1.5.0",
       "_model_name": "FloatSliderModel",
       "_view_count": null,
       "_view_module": "@jupyter-widgets/controls",
       "_view_module_version": "1.5.0",
       "_view_name": "FloatSliderView",
       "continuous_update": true,
       "description": "",
       "description_tooltip": null,
       "disabled": false,
       "layout": "IPY_MODEL_6ceeca4ed9e744fa9a90b321bba09648",
       "max": 1.0,
       "min": 0.3,
       "orientation": "horizontal",
       "readout": true,
       "readout_format": ".2f",
       "step": 0.1,
       "style": "IPY_MODEL_695f9364e07140c19793ee0a8db1fc5d",
       "value": 0.6000000000000001
      }
     },
     "9069f7dbf6fa435e849e12d63528f465": {
      "model_module": "@jupyter-widgets/output",
      "model_module_version": "1.0.0",
      "model_name": "OutputModel",
      "state": {
       "_dom_classes": [],
       "_model_module": "@jupyter-widgets/output",
       "_model_module_version": "1.0.0",
       "_model_name": "OutputModel",
       "_view_count": null,
       "_view_module": "@jupyter-widgets/output",
       "_view_module_version": "1.0.0",
       "_view_name": "OutputView",
       "layout": "IPY_MODEL_3691fd7eff9341d0b04e160f97036dbd",
       "msg_id": "",
       "outputs": [
        {
         "data": {
          "image/png": "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",
          "text/plain": "<Figure size 1000x300 with 2 Axes>"
         },
         "metadata": {},
         "output_type": "display_data"
        }
       ]
      }
     },
     "908997ee1b634b5fb08090399b0456db": {
      "model_module": "@jupyter-widgets/base",
      "model_module_version": "1.2.0",
      "model_name": "LayoutModel",
      "state": {
       "_model_module": "@jupyter-widgets/base",
       "_model_module_version": "1.2.0",
       "_model_name": "LayoutModel",
       "_view_count": null,
       "_view_module": "@jupyter-widgets/base",
       "_view_module_version": "1.2.0",
       "_view_name": "LayoutView",
       "align_content": null,
       "align_items": null,
       "align_self": null,
       "border": null,
       "bottom": null,
       "display": null,
       "flex": null,
       "flex_flow": null,
       "grid_area": null,
       "grid_auto_columns": null,
       "grid_auto_flow": null,
       "grid_auto_rows": null,
       "grid_column": null,
       "grid_gap": null,
       "grid_row": null,
       "grid_template_areas": null,
       "grid_template_columns": null,
       "grid_template_rows": null,
       "height": null,
       "justify_content": null,
       "justify_items": null,
       "left": null,
       "margin": null,
       "max_height": null,
       "max_width": null,
       "min_height": null,
       "min_width": null,
       "object_fit": null,
       "object_position": null,
       "order": null,
       "overflow": null,
       "overflow_x": null,
       "overflow_y": null,
       "padding": null,
       "right": null,
       "top": null,
       "visibility": null,
       "width": null
      }
     },
     "9b16c8504ee9491a8ea36f52e7ce2489": {
      "model_module": "@jupyter-widgets/controls",
      "model_module_version": "1.5.0",
      "model_name": "FloatSliderModel",
      "state": {
       "_dom_classes": [],
       "_model_module": "@jupyter-widgets/controls",
       "_model_module_version": "1.5.0",
       "_model_name": "FloatSliderModel",
       "_view_count": null,
       "_view_module": "@jupyter-widgets/controls",
       "_view_module_version": "1.5.0",
       "_view_name": "FloatSliderView",
       "continuous_update": true,
       "description": "",
       "description_tooltip": null,
       "disabled": false,
       "layout": "IPY_MODEL_6bd5b1b1ebf344e2bf24838a7093b542",
       "max": 0.2,
       "min": 0.02,
       "orientation": "horizontal",
       "readout": true,
       "readout_format": ".2f",
       "step": 0.01,
       "style": "IPY_MODEL_f4914bc02e534d7781c370892e3535e5",
       "value": 0.11
      }
     },
     "9c79ca34249b4856b91487664aef584a": {
      "model_module": "@jupyter-widgets/controls",
      "model_module_version": "1.5.0",
      "model_name": "FloatSliderModel",
      "state": {
       "_dom_classes": [],
       "_model_module": "@jupyter-widgets/controls",
       "_model_module_version": "1.5.0",
       "_model_name": "FloatSliderModel",
       "_view_count": null,
       "_view_module": "@jupyter-widgets/controls",
       "_view_module_version": "1.5.0",
       "_view_name": "FloatSliderView",
       "continuous_update": true,
       "description": "wp",
       "description_tooltip": null,
       "disabled": false,
       "layout": "IPY_MODEL_6ceeca4ed9e744fa9a90b321bba09648",
       "max": 1.0,
       "min": 0.3,
       "orientation": "horizontal",
       "readout": true,
       "readout_format": ".2f",
       "step": 0.1,
       "style": "IPY_MODEL_695f9364e07140c19793ee0a8db1fc5d",
       "value": 0.8
      }
     },
     "a0c148356f334b8684bdda7f0fd2e0a5": {
      "model_module": "@jupyter-widgets/controls",
      "model_module_version": "1.5.0",
      "model_name": "FloatSliderModel",
      "state": {
       "_dom_classes": [],
       "_model_module": "@jupyter-widgets/controls",
       "_model_module_version": "1.5.0",
       "_model_name": "FloatSliderModel",
       "_view_count": null,
       "_view_module": "@jupyter-widgets/controls",
       "_view_module_version": "1.5.0",
       "_view_name": "FloatSliderView",
       "continuous_update": true,
       "description": "",
       "description_tooltip": null,
       "disabled": false,
       "layout": "IPY_MODEL_4034a70d5cb845939abf5053765c16ef",
       "max": 0.05,
       "min": 0.01,
       "orientation": "horizontal",
       "readout": true,
       "readout_format": ".2f",
       "step": 0.005,
       "style": "IPY_MODEL_be4bfcc76f0040cbbb07da24cf78e091",
       "value": 0.025
      }
     },
     "a3acad4b55a0489b8e18e09292ffc8d3": {
      "model_module": "@jupyter-widgets/controls",
      "model_module_version": "1.5.0",
      "model_name": "SliderStyleModel",
      "state": {
       "_model_module": "@jupyter-widgets/controls",
       "_model_module_version": "1.5.0",
       "_model_name": "SliderStyleModel",
       "_view_count": null,
       "_view_module": "@jupyter-widgets/base",
       "_view_module_version": "1.2.0",
       "_view_name": "StyleView",
       "description_width": "",
       "handle_color": null
      }
     },
     "a61e8177e40542d8b3acaf20333a13fe": {
      "model_module": "@jupyter-widgets/base",
      "model_module_version": "1.2.0",
      "model_name": "LayoutModel",
      "state": {
       "_model_module": "@jupyter-widgets/base",
       "_model_module_version": "1.2.0",
       "_model_name": "LayoutModel",
       "_view_count": null,
       "_view_module": "@jupyter-widgets/base",
       "_view_module_version": "1.2.0",
       "_view_name": "LayoutView",
       "align_content": null,
       "align_items": null,
       "align_self": null,
       "border": null,
       "bottom": null,
       "display": null,
       "flex": null,
       "flex_flow": null,
       "grid_area": null,
       "grid_auto_columns": null,
       "grid_auto_flow": null,
       "grid_auto_rows": null,
       "grid_column": null,
       "grid_gap": null,
       "grid_row": null,
       "grid_template_areas": null,
       "grid_template_columns": null,
       "grid_template_rows": null,
       "height": null,
       "justify_content": null,
       "justify_items": null,
       "left": null,
       "margin": null,
       "max_height": null,
       "max_width": null,
       "min_height": null,
       "min_width": null,
       "object_fit": null,
       "object_position": null,
       "order": null,
       "overflow": null,
       "overflow_x": null,
       "overflow_y": null,
       "padding": null,
       "right": null,
       "top": null,
       "visibility": null,
       "width": null
      }
     },
     "a838b81b97a64555963f3554b99e2aa2": {
      "model_module": "@jupyter-widgets/base",
      "model_module_version": "1.2.0",
      "model_name": "LayoutModel",
      "state": {
       "_model_module": "@jupyter-widgets/base",
       "_model_module_version": "1.2.0",
       "_model_name": "LayoutModel",
       "_view_count": null,
       "_view_module": "@jupyter-widgets/base",
       "_view_module_version": "1.2.0",
       "_view_name": "LayoutView",
       "align_content": null,
       "align_items": null,
       "align_self": null,
       "border": null,
       "bottom": null,
       "display": null,
       "flex": null,
       "flex_flow": null,
       "grid_area": null,
       "grid_auto_columns": null,
       "grid_auto_flow": null,
       "grid_auto_rows": null,
       "grid_column": null,
       "grid_gap": null,
       "grid_row": null,
       "grid_template_areas": null,
       "grid_template_columns": null,
       "grid_template_rows": null,
       "height": null,
       "justify_content": null,
       "justify_items": null,
       "left": null,
       "margin": null,
       "max_height": null,
       "max_width": null,
       "min_height": null,
       "min_width": null,
       "object_fit": null,
       "object_position": null,
       "order": null,
       "overflow": null,
       "overflow_x": null,
       "overflow_y": null,
       "padding": null,
       "right": null,
       "top": null,
       "visibility": null,
       "width": null
      }
     },
     "ad200802c0c3490ba3b94ef5fd942ce5": {
      "model_module": "@jupyter-widgets/controls",
      "model_module_version": "1.5.0",
      "model_name": "SliderStyleModel",
      "state": {
       "_model_module": "@jupyter-widgets/controls",
       "_model_module_version": "1.5.0",
       "_model_name": "SliderStyleModel",
       "_view_count": null,
       "_view_module": "@jupyter-widgets/base",
       "_view_module_version": "1.2.0",
       "_view_name": "StyleView",
       "description_width": "",
       "handle_color": null
      }
     },
     "b17af01b0c3c45ffbf2dfc1c518729ea": {
      "model_module": "@jupyter-widgets/base",
      "model_module_version": "1.2.0",
      "model_name": "LayoutModel",
      "state": {
       "_model_module": "@jupyter-widgets/base",
       "_model_module_version": "1.2.0",
       "_model_name": "LayoutModel",
       "_view_count": null,
       "_view_module": "@jupyter-widgets/base",
       "_view_module_version": "1.2.0",
       "_view_name": "LayoutView",
       "align_content": null,
       "align_items": null,
       "align_self": null,
       "border": null,
       "bottom": null,
       "display": null,
       "flex": null,
       "flex_flow": null,
       "grid_area": null,
       "grid_auto_columns": null,
       "grid_auto_flow": null,
       "grid_auto_rows": null,
       "grid_column": null,
       "grid_gap": null,
       "grid_row": null,
       "grid_template_areas": null,
       "grid_template_columns": null,
       "grid_template_rows": null,
       "height": null,
       "justify_content": null,
       "justify_items": null,
       "left": null,
       "margin": null,
       "max_height": null,
       "max_width": null,
       "min_height": null,
       "min_width": null,
       "object_fit": null,
       "object_position": null,
       "order": null,
       "overflow": null,
       "overflow_x": null,
       "overflow_y": null,
       "padding": null,
       "right": null,
       "top": null,
       "visibility": null,
       "width": null
      }
     },
     "b63d32b202d94ca2b5f2aae9ffe6dbc6": {
      "model_module": "@jupyter-widgets/controls",
      "model_module_version": "1.5.0",
      "model_name": "FloatSliderModel",
      "state": {
       "_dom_classes": [],
       "_model_module": "@jupyter-widgets/controls",
       "_model_module_version": "1.5.0",
       "_model_name": "FloatSliderModel",
       "_view_count": null,
       "_view_module": "@jupyter-widgets/controls",
       "_view_module_version": "1.5.0",
       "_view_name": "FloatSliderView",
       "continuous_update": true,
       "description": "",
       "description_tooltip": null,
       "disabled": false,
       "layout": "IPY_MODEL_5117c47948a644d886e4c00a823c8d45",
       "max": 0.2,
       "min": 0.01,
       "orientation": "horizontal",
       "readout": true,
       "readout_format": ".2f",
       "step": 0.01,
       "style": "IPY_MODEL_095af228d1414567a4bc0b19d4d5a4dd",
       "value": 0.09999999999999999
      }
     },
     "b6720464f0074393b3045971bc672384": {
      "model_module": "@jupyter-widgets/controls",
      "model_module_version": "1.5.0",
      "model_name": "SliderStyleModel",
      "state": {
       "_model_module": "@jupyter-widgets/controls",
       "_model_module_version": "1.5.0",
       "_model_name": "SliderStyleModel",
       "_view_count": null,
       "_view_module": "@jupyter-widgets/base",
       "_view_module_version": "1.2.0",
       "_view_name": "StyleView",
       "description_width": "",
       "handle_color": null
      }
     },
     "b6ba38db80254020b50da8f2ae8b35f3": {
      "model_module": "@jupyter-widgets/controls",
      "model_module_version": "1.5.0",
      "model_name": "FloatSliderModel",
      "state": {
       "_dom_classes": [],
       "_model_module": "@jupyter-widgets/controls",
       "_model_module_version": "1.5.0",
       "_model_name": "FloatSliderModel",
       "_view_count": null,
       "_view_module": "@jupyter-widgets/controls",
       "_view_module_version": "1.5.0",
       "_view_name": "FloatSliderView",
       "continuous_update": true,
       "description": "",
       "description_tooltip": null,
       "disabled": false,
       "layout": "IPY_MODEL_76e0bca14cde4c3ba2e641a8e5176be6",
       "max": 2.0,
       "min": 0.5,
       "orientation": "horizontal",
       "readout": true,
       "readout_format": ".2f",
       "step": 0.1,
       "style": "IPY_MODEL_cb357164d19e45c4aede9fad6d67c011",
       "value": 1.2000000000000002
      }
     },
     "b6d4a4ad50d744e394f68294a7b47566": {
      "model_module": "@jupyter-widgets/base",
      "model_module_version": "1.2.0",
      "model_name": "LayoutModel",
      "state": {
       "_model_module": "@jupyter-widgets/base",
       "_model_module_version": "1.2.0",
       "_model_name": "LayoutModel",
       "_view_count": null,
       "_view_module": "@jupyter-widgets/base",
       "_view_module_version": "1.2.0",
       "_view_name": "LayoutView",
       "align_content": null,
       "align_items": null,
       "align_self": null,
       "border": null,
       "bottom": null,
       "display": null,
       "flex": null,
       "flex_flow": null,
       "grid_area": null,
       "grid_auto_columns": null,
       "grid_auto_flow": null,
       "grid_auto_rows": null,
       "grid_column": null,
       "grid_gap": null,
       "grid_row": null,
       "grid_template_areas": null,
       "grid_template_columns": null,
       "grid_template_rows": null,
       "height": null,
       "justify_content": null,
       "justify_items": null,
       "left": null,
       "margin": null,
       "max_height": null,
       "max_width": null,
       "min_height": null,
       "min_width": null,
       "object_fit": null,
       "object_position": null,
       "order": null,
       "overflow": null,
       "overflow_x": null,
       "overflow_y": null,
       "padding": null,
       "right": null,
       "top": null,
       "visibility": null,
       "width": null
      }
     },
     "be4bfcc76f0040cbbb07da24cf78e091": {
      "model_module": "@jupyter-widgets/controls",
      "model_module_version": "1.5.0",
      "model_name": "SliderStyleModel",
      "state": {
       "_model_module": "@jupyter-widgets/controls",
       "_model_module_version": "1.5.0",
       "_model_name": "SliderStyleModel",
       "_view_count": null,
       "_view_module": "@jupyter-widgets/base",
       "_view_module_version": "1.2.0",
       "_view_name": "StyleView",
       "description_width": "",
       "handle_color": null
      }
     },
     "be702a61a9ba45e29a40b7e8fbba7e90": {
      "model_module": "@jupyter-widgets/base",
      "model_module_version": "1.2.0",
      "model_name": "LayoutModel",
      "state": {
       "_model_module": "@jupyter-widgets/base",
       "_model_module_version": "1.2.0",
       "_model_name": "LayoutModel",
       "_view_count": null,
       "_view_module": "@jupyter-widgets/base",
       "_view_module_version": "1.2.0",
       "_view_name": "LayoutView",
       "align_content": null,
       "align_items": null,
       "align_self": null,
       "border": null,
       "bottom": null,
       "display": null,
       "flex": null,
       "flex_flow": null,
       "grid_area": null,
       "grid_auto_columns": null,
       "grid_auto_flow": null,
       "grid_auto_rows": null,
       "grid_column": null,
       "grid_gap": null,
       "grid_row": null,
       "grid_template_areas": null,
       "grid_template_columns": null,
       "grid_template_rows": null,
       "height": null,
       "justify_content": null,
       "justify_items": null,
       "left": null,
       "margin": null,
       "max_height": null,
       "max_width": null,
       "min_height": null,
       "min_width": null,
       "object_fit": null,
       "object_position": null,
       "order": null,
       "overflow": null,
       "overflow_x": null,
       "overflow_y": null,
       "padding": null,
       "right": null,
       "top": null,
       "visibility": null,
       "width": null
      }
     },
     "bfb8518ce5e349e79fa89f0b0602c541": {
      "model_module": "@jupyter-widgets/base",
      "model_module_version": "1.2.0",
      "model_name": "LayoutModel",
      "state": {
       "_model_module": "@jupyter-widgets/base",
       "_model_module_version": "1.2.0",
       "_model_name": "LayoutModel",
       "_view_count": null,
       "_view_module": "@jupyter-widgets/base",
       "_view_module_version": "1.2.0",
       "_view_name": "LayoutView",
       "align_content": null,
       "align_items": null,
       "align_self": null,
       "border": null,
       "bottom": null,
       "display": null,
       "flex": null,
       "flex_flow": null,
       "grid_area": null,
       "grid_auto_columns": null,
       "grid_auto_flow": null,
       "grid_auto_rows": null,
       "grid_column": null,
       "grid_gap": null,
       "grid_row": null,
       "grid_template_areas": null,
       "grid_template_columns": null,
       "grid_template_rows": null,
       "height": null,
       "justify_content": null,
       "justify_items": null,
       "left": null,
       "margin": null,
       "max_height": null,
       "max_width": null,
       "min_height": null,
       "min_width": null,
       "object_fit": null,
       "object_position": null,
       "order": null,
       "overflow": null,
       "overflow_x": null,
       "overflow_y": null,
       "padding": null,
       "right": null,
       "top": null,
       "visibility": null,
       "width": null
      }
     },
     "c519b441f53041cc8619cea1e7dbbc12": {
      "model_module": "@jupyter-widgets/controls",
      "model_module_version": "1.5.0",
      "model_name": "VBoxModel",
      "state": {
       "_dom_classes": [
        "widget-interact"
       ],
       "_model_module": "@jupyter-widgets/controls",
       "_model_module_version": "1.5.0",
       "_model_name": "VBoxModel",
       "_view_count": null,
       "_view_module": "@jupyter-widgets/controls",
       "_view_module_version": "1.5.0",
       "_view_name": "VBoxView",
       "box_style": "",
       "children": [],
       "layout": "IPY_MODEL_79e56f390a6745e0ae6222202f440e74"
      }
     },
     "c55ca4340b1e4ad4a4567551c6401e7e": {
      "model_module": "@jupyter-widgets/base",
      "model_module_version": "1.2.0",
      "model_name": "LayoutModel",
      "state": {
       "_model_module": "@jupyter-widgets/base",
       "_model_module_version": "1.2.0",
       "_model_name": "LayoutModel",
       "_view_count": null,
       "_view_module": "@jupyter-widgets/base",
       "_view_module_version": "1.2.0",
       "_view_name": "LayoutView",
       "align_content": null,
       "align_items": null,
       "align_self": null,
       "border": null,
       "bottom": null,
       "display": null,
       "flex": null,
       "flex_flow": null,
       "grid_area": null,
       "grid_auto_columns": null,
       "grid_auto_flow": null,
       "grid_auto_rows": null,
       "grid_column": null,
       "grid_gap": null,
       "grid_row": null,
       "grid_template_areas": null,
       "grid_template_columns": null,
       "grid_template_rows": null,
       "height": null,
       "justify_content": null,
       "justify_items": null,
       "left": null,
       "margin": null,
       "max_height": null,
       "max_width": null,
       "min_height": null,
       "min_width": null,
       "object_fit": null,
       "object_position": null,
       "order": null,
       "overflow": null,
       "overflow_x": null,
       "overflow_y": null,
       "padding": null,
       "right": null,
       "top": null,
       "visibility": null,
       "width": null
      }
     },
     "c5ed536fbb9d41839e9013a4d2304bed": {
      "model_module": "@jupyter-widgets/base",
      "model_module_version": "1.2.0",
      "model_name": "LayoutModel",
      "state": {
       "_model_module": "@jupyter-widgets/base",
       "_model_module_version": "1.2.0",
       "_model_name": "LayoutModel",
       "_view_count": null,
       "_view_module": "@jupyter-widgets/base",
       "_view_module_version": "1.2.0",
       "_view_name": "LayoutView",
       "align_content": null,
       "align_items": null,
       "align_self": null,
       "border": null,
       "bottom": null,
       "display": null,
       "flex": null,
       "flex_flow": null,
       "grid_area": null,
       "grid_auto_columns": null,
       "grid_auto_flow": null,
       "grid_auto_rows": null,
       "grid_column": null,
       "grid_gap": null,
       "grid_row": null,
       "grid_template_areas": null,
       "grid_template_columns": null,
       "grid_template_rows": null,
       "height": null,
       "justify_content": null,
       "justify_items": null,
       "left": null,
       "margin": null,
       "max_height": null,
       "max_width": null,
       "min_height": null,
       "min_width": null,
       "object_fit": null,
       "object_position": null,
       "order": null,
       "overflow": null,
       "overflow_x": null,
       "overflow_y": null,
       "padding": null,
       "right": null,
       "top": null,
       "visibility": null,
       "width": null
      }
     },
     "c6fda876de404a15adf085712c0535f7": {
      "model_module": "@jupyter-widgets/controls",
      "model_module_version": "1.5.0",
      "model_name": "SliderStyleModel",
      "state": {
       "_model_module": "@jupyter-widgets/controls",
       "_model_module_version": "1.5.0",
       "_model_name": "SliderStyleModel",
       "_view_count": null,
       "_view_module": "@jupyter-widgets/base",
       "_view_module_version": "1.2.0",
       "_view_name": "StyleView",
       "description_width": "",
       "handle_color": null
      }
     },
     "c77e6f0be60c48278a6c5223d983c83d": {
      "model_module": "@jupyter-widgets/base",
      "model_module_version": "1.2.0",
      "model_name": "LayoutModel",
      "state": {
       "_model_module": "@jupyter-widgets/base",
       "_model_module_version": "1.2.0",
       "_model_name": "LayoutModel",
       "_view_count": null,
       "_view_module": "@jupyter-widgets/base",
       "_view_module_version": "1.2.0",
       "_view_name": "LayoutView",
       "align_content": null,
       "align_items": null,
       "align_self": null,
       "border": null,
       "bottom": null,
       "display": null,
       "flex": null,
       "flex_flow": null,
       "grid_area": null,
       "grid_auto_columns": null,
       "grid_auto_flow": null,
       "grid_auto_rows": null,
       "grid_column": null,
       "grid_gap": null,
       "grid_row": null,
       "grid_template_areas": null,
       "grid_template_columns": null,
       "grid_template_rows": null,
       "height": null,
       "justify_content": null,
       "justify_items": null,
       "left": null,
       "margin": null,
       "max_height": null,
       "max_width": null,
       "min_height": null,
       "min_width": null,
       "object_fit": null,
       "object_position": null,
       "order": null,
       "overflow": null,
       "overflow_x": null,
       "overflow_y": null,
       "padding": null,
       "right": null,
       "top": null,
       "visibility": null,
       "width": null
      }
     },
     "c9d1e21a1980414b9007e010beb2f276": {
      "model_module": "@jupyter-widgets/base",
      "model_module_version": "1.2.0",
      "model_name": "LayoutModel",
      "state": {
       "_model_module": "@jupyter-widgets/base",
       "_model_module_version": "1.2.0",
       "_model_name": "LayoutModel",
       "_view_count": null,
       "_view_module": "@jupyter-widgets/base",
       "_view_module_version": "1.2.0",
       "_view_name": "LayoutView",
       "align_content": null,
       "align_items": null,
       "align_self": null,
       "border": null,
       "bottom": null,
       "display": null,
       "flex": null,
       "flex_flow": null,
       "grid_area": null,
       "grid_auto_columns": null,
       "grid_auto_flow": null,
       "grid_auto_rows": null,
       "grid_column": null,
       "grid_gap": null,
       "grid_row": null,
       "grid_template_areas": null,
       "grid_template_columns": null,
       "grid_template_rows": null,
       "height": null,
       "justify_content": null,
       "justify_items": null,
       "left": null,
       "margin": null,
       "max_height": null,
       "max_width": null,
       "min_height": null,
       "min_width": null,
       "object_fit": null,
       "object_position": null,
       "order": null,
       "overflow": null,
       "overflow_x": null,
       "overflow_y": null,
       "padding": null,
       "right": null,
       "top": null,
       "visibility": null,
       "width": null
      }
     },
     "cb357164d19e45c4aede9fad6d67c011": {
      "model_module": "@jupyter-widgets/controls",
      "model_module_version": "1.5.0",
      "model_name": "SliderStyleModel",
      "state": {
       "_model_module": "@jupyter-widgets/controls",
       "_model_module_version": "1.5.0",
       "_model_name": "SliderStyleModel",
       "_view_count": null,
       "_view_module": "@jupyter-widgets/base",
       "_view_module_version": "1.2.0",
       "_view_name": "StyleView",
       "description_width": "",
       "handle_color": null
      }
     },
     "cbd4e9af7ca548e78af34dd5ca0f0723": {
      "model_module": "@jupyter-widgets/base",
      "model_module_version": "1.2.0",
      "model_name": "LayoutModel",
      "state": {
       "_model_module": "@jupyter-widgets/base",
       "_model_module_version": "1.2.0",
       "_model_name": "LayoutModel",
       "_view_count": null,
       "_view_module": "@jupyter-widgets/base",
       "_view_module_version": "1.2.0",
       "_view_name": "LayoutView",
       "align_content": null,
       "align_items": null,
       "align_self": null,
       "border": null,
       "bottom": null,
       "display": null,
       "flex": null,
       "flex_flow": null,
       "grid_area": null,
       "grid_auto_columns": null,
       "grid_auto_flow": null,
       "grid_auto_rows": null,
       "grid_column": null,
       "grid_gap": null,
       "grid_row": null,
       "grid_template_areas": null,
       "grid_template_columns": null,
       "grid_template_rows": null,
       "height": null,
       "justify_content": null,
       "justify_items": null,
       "left": null,
       "margin": null,
       "max_height": null,
       "max_width": null,
       "min_height": null,
       "min_width": null,
       "object_fit": null,
       "object_position": null,
       "order": null,
       "overflow": null,
       "overflow_x": null,
       "overflow_y": null,
       "padding": null,
       "right": null,
       "top": null,
       "visibility": null,
       "width": null
      }
     },
     "d29ca2e6e6c54459a53202244168d654": {
      "model_module": "@jupyter-widgets/output",
      "model_module_version": "1.0.0",
      "model_name": "OutputModel",
      "state": {
       "_dom_classes": [],
       "_model_module": "@jupyter-widgets/output",
       "_model_module_version": "1.0.0",
       "_model_name": "OutputModel",
       "_view_count": null,
       "_view_module": "@jupyter-widgets/output",
       "_view_module_version": "1.0.0",
       "_view_name": "OutputView",
       "layout": "IPY_MODEL_b17af01b0c3c45ffbf2dfc1c518729ea",
       "msg_id": "",
       "outputs": [
        {
         "data": {
          "image/png": "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",
          "text/plain": "<Figure size 1000x300 with 2 Axes>"
         },
         "metadata": {},
         "output_type": "display_data"
        }
       ]
      }
     },
     "d572eec54c414da98836cac35dd6dc22": {
      "model_module": "@jupyter-widgets/base",
      "model_module_version": "1.2.0",
      "model_name": "LayoutModel",
      "state": {
       "_model_module": "@jupyter-widgets/base",
       "_model_module_version": "1.2.0",
       "_model_name": "LayoutModel",
       "_view_count": null,
       "_view_module": "@jupyter-widgets/base",
       "_view_module_version": "1.2.0",
       "_view_name": "LayoutView",
       "align_content": null,
       "align_items": null,
       "align_self": null,
       "border": null,
       "bottom": null,
       "display": null,
       "flex": null,
       "flex_flow": null,
       "grid_area": null,
       "grid_auto_columns": null,
       "grid_auto_flow": null,
       "grid_auto_rows": null,
       "grid_column": null,
       "grid_gap": null,
       "grid_row": null,
       "grid_template_areas": null,
       "grid_template_columns": null,
       "grid_template_rows": null,
       "height": null,
       "justify_content": null,
       "justify_items": null,
       "left": null,
       "margin": null,
       "max_height": null,
       "max_width": null,
       "min_height": null,
       "min_width": null,
       "object_fit": null,
       "object_position": null,
       "order": null,
       "overflow": null,
       "overflow_x": null,
       "overflow_y": null,
       "padding": null,
       "right": null,
       "top": null,
       "visibility": null,
       "width": null
      }
     },
     "d9113e806ce2410ab08e14c7e27f08d5": {
      "model_module": "@jupyter-widgets/output",
      "model_module_version": "1.0.0",
      "model_name": "OutputModel",
      "state": {
       "_dom_classes": [],
       "_model_module": "@jupyter-widgets/output",
       "_model_module_version": "1.0.0",
       "_model_name": "OutputModel",
       "_view_count": null,
       "_view_module": "@jupyter-widgets/output",
       "_view_module_version": "1.0.0",
       "_view_name": "OutputView",
       "layout": "IPY_MODEL_b17af01b0c3c45ffbf2dfc1c518729ea",
       "msg_id": "",
       "outputs": []
      }
     },
     "dc90349d19ce4db8b7de630df4b4298b": {
      "model_module": "@jupyter-widgets/controls",
      "model_module_version": "1.5.0",
      "model_name": "FloatSliderModel",
      "state": {
       "_dom_classes": [],
       "_model_module": "@jupyter-widgets/controls",
       "_model_module_version": "1.5.0",
       "_model_name": "FloatSliderModel",
       "_view_count": null,
       "_view_module": "@jupyter-widgets/controls",
       "_view_module_version": "1.5.0",
       "_view_name": "FloatSliderView",
       "continuous_update": true,
       "description": "wn",
       "description_tooltip": null,
       "disabled": false,
       "layout": "IPY_MODEL_76e0bca14cde4c3ba2e641a8e5176be6",
       "max": 2.0,
       "min": 0.5,
       "orientation": "horizontal",
       "readout": true,
       "readout_format": ".2f",
       "step": 0.1,
       "style": "IPY_MODEL_cb357164d19e45c4aede9fad6d67c011",
       "value": 0.7
      }
     },
     "df80b6e4c4c54925a0cedceaa89280b0": {
      "model_module": "@jupyter-widgets/controls",
      "model_module_version": "1.5.0",
      "model_name": "FloatSliderModel",
      "state": {
       "_dom_classes": [],
       "_model_module": "@jupyter-widgets/controls",
       "_model_module_version": "1.5.0",
       "_model_name": "FloatSliderModel",
       "_view_count": null,
       "_view_module": "@jupyter-widgets/controls",
       "_view_module_version": "1.5.0",
       "_view_name": "FloatSliderView",
       "continuous_update": true,
       "description": "wp",
       "description_tooltip": null,
       "disabled": false,
       "layout": "IPY_MODEL_b6d4a4ad50d744e394f68294a7b47566",
       "max": 2.0,
       "min": 0.4,
       "orientation": "horizontal",
       "readout": true,
       "readout_format": ".2f",
       "step": 0.05,
       "style": "IPY_MODEL_3a01684416e54cda81cb98e30d8ec6d5",
       "value": 1.0
      }
     },
     "e45ae5f32f2a4b0892598435c67326a0": {
      "model_module": "@jupyter-widgets/controls",
      "model_module_version": "1.5.0",
      "model_name": "SliderStyleModel",
      "state": {
       "_model_module": "@jupyter-widgets/controls",
       "_model_module_version": "1.5.0",
       "_model_name": "SliderStyleModel",
       "_view_count": null,
       "_view_module": "@jupyter-widgets/base",
       "_view_module_version": "1.2.0",
       "_view_name": "StyleView",
       "description_width": "",
       "handle_color": null
      }
     },
     "e6fc2158dcfb4d3da33bb126fc4cf422": {
      "model_module": "@jupyter-widgets/base",
      "model_module_version": "1.2.0",
      "model_name": "LayoutModel",
      "state": {
       "_model_module": "@jupyter-widgets/base",
       "_model_module_version": "1.2.0",
       "_model_name": "LayoutModel",
       "_view_count": null,
       "_view_module": "@jupyter-widgets/base",
       "_view_module_version": "1.2.0",
       "_view_name": "LayoutView",
       "align_content": null,
       "align_items": null,
       "align_self": null,
       "border": null,
       "bottom": null,
       "display": null,
       "flex": null,
       "flex_flow": null,
       "grid_area": null,
       "grid_auto_columns": null,
       "grid_auto_flow": null,
       "grid_auto_rows": null,
       "grid_column": null,
       "grid_gap": null,
       "grid_row": null,
       "grid_template_areas": null,
       "grid_template_columns": null,
       "grid_template_rows": null,
       "height": null,
       "justify_content": null,
       "justify_items": null,
       "left": null,
       "margin": null,
       "max_height": null,
       "max_width": null,
       "min_height": null,
       "min_width": null,
       "object_fit": null,
       "object_position": null,
       "order": null,
       "overflow": null,
       "overflow_x": null,
       "overflow_y": null,
       "padding": null,
       "right": null,
       "top": null,
       "visibility": null,
       "width": null
      }
     },
     "eb2cd3cc948a4beb903d6635e75e9be6": {
      "model_module": "@jupyter-widgets/base",
      "model_module_version": "1.2.0",
      "model_name": "LayoutModel",
      "state": {
       "_model_module": "@jupyter-widgets/base",
       "_model_module_version": "1.2.0",
       "_model_name": "LayoutModel",
       "_view_count": null,
       "_view_module": "@jupyter-widgets/base",
       "_view_module_version": "1.2.0",
       "_view_name": "LayoutView",
       "align_content": null,
       "align_items": null,
       "align_self": null,
       "border": null,
       "bottom": null,
       "display": null,
       "flex": null,
       "flex_flow": null,
       "grid_area": null,
       "grid_auto_columns": null,
       "grid_auto_flow": null,
       "grid_auto_rows": null,
       "grid_column": null,
       "grid_gap": null,
       "grid_row": null,
       "grid_template_areas": null,
       "grid_template_columns": null,
       "grid_template_rows": null,
       "height": null,
       "justify_content": null,
       "justify_items": null,
       "left": null,
       "margin": null,
       "max_height": null,
       "max_width": null,
       "min_height": null,
       "min_width": null,
       "object_fit": null,
       "object_position": null,
       "order": null,
       "overflow": null,
       "overflow_x": null,
       "overflow_y": null,
       "padding": null,
       "right": null,
       "top": null,
       "visibility": null,
       "width": null
      }
     },
     "ecf655d966c3442ca8b76d2e7ea2da7a": {
      "model_module": "@jupyter-widgets/base",
      "model_module_version": "1.2.0",
      "model_name": "LayoutModel",
      "state": {
       "_model_module": "@jupyter-widgets/base",
       "_model_module_version": "1.2.0",
       "_model_name": "LayoutModel",
       "_view_count": null,
       "_view_module": "@jupyter-widgets/base",
       "_view_module_version": "1.2.0",
       "_view_name": "LayoutView",
       "align_content": null,
       "align_items": null,
       "align_self": null,
       "border": null,
       "bottom": null,
       "display": null,
       "flex": null,
       "flex_flow": null,
       "grid_area": null,
       "grid_auto_columns": null,
       "grid_auto_flow": null,
       "grid_auto_rows": null,
       "grid_column": null,
       "grid_gap": null,
       "grid_row": null,
       "grid_template_areas": null,
       "grid_template_columns": null,
       "grid_template_rows": null,
       "height": null,
       "justify_content": null,
       "justify_items": null,
       "left": null,
       "margin": null,
       "max_height": null,
       "max_width": null,
       "min_height": null,
       "min_width": null,
       "object_fit": null,
       "object_position": null,
       "order": null,
       "overflow": null,
       "overflow_x": null,
       "overflow_y": null,
       "padding": null,
       "right": null,
       "top": null,
       "visibility": null,
       "width": null
      }
     },
     "ed999f8e42c8452e9725473491024c9b": {
      "model_module": "@jupyter-widgets/base",
      "model_module_version": "1.2.0",
      "model_name": "LayoutModel",
      "state": {
       "_model_module": "@jupyter-widgets/base",
       "_model_module_version": "1.2.0",
       "_model_name": "LayoutModel",
       "_view_count": null,
       "_view_module": "@jupyter-widgets/base",
       "_view_module_version": "1.2.0",
       "_view_name": "LayoutView",
       "align_content": null,
       "align_items": null,
       "align_self": null,
       "border": null,
       "bottom": null,
       "display": null,
       "flex": null,
       "flex_flow": null,
       "grid_area": null,
       "grid_auto_columns": null,
       "grid_auto_flow": null,
       "grid_auto_rows": null,
       "grid_column": null,
       "grid_gap": null,
       "grid_row": null,
       "grid_template_areas": null,
       "grid_template_columns": null,
       "grid_template_rows": null,
       "height": null,
       "justify_content": null,
       "justify_items": null,
       "left": null,
       "margin": null,
       "max_height": null,
       "max_width": null,
       "min_height": null,
       "min_width": null,
       "object_fit": null,
       "object_position": null,
       "order": null,
       "overflow": null,
       "overflow_x": null,
       "overflow_y": null,
       "padding": null,
       "right": null,
       "top": null,
       "visibility": null,
       "width": null
      }
     },
     "ee907711027b4ecb86434f67f2fe8a41": {
      "model_module": "@jupyter-widgets/controls",
      "model_module_version": "1.5.0",
      "model_name": "VBoxModel",
      "state": {
       "_dom_classes": [
        "widget-interact"
       ],
       "_model_module": "@jupyter-widgets/controls",
       "_model_module_version": "1.5.0",
       "_model_name": "VBoxModel",
       "_view_count": null,
       "_view_module": "@jupyter-widgets/controls",
       "_view_module_version": "1.5.0",
       "_view_name": "VBoxView",
       "box_style": "",
       "children": [
        "IPY_MODEL_472641d500b3416dbf342455cfd8a2e9",
        "IPY_MODEL_9c79ca34249b4856b91487664aef584a",
        "IPY_MODEL_dc90349d19ce4db8b7de630df4b4298b",
        "IPY_MODEL_0b6190b62dc541d1901bbb17cfbf0628",
        "IPY_MODEL_62eb3a2cb25e44068fbd683a4033013d"
       ],
       "layout": "IPY_MODEL_908997ee1b634b5fb08090399b0456db"
      }
     },
     "f177596e6e344e94a095261f88cf1150": {
      "model_module": "@jupyter-widgets/controls",
      "model_module_version": "1.5.0",
      "model_name": "VBoxModel",
      "state": {
       "_dom_classes": [
        "widget-interact"
       ],
       "_model_module": "@jupyter-widgets/controls",
       "_model_module_version": "1.5.0",
       "_model_name": "VBoxModel",
       "_view_count": null,
       "_view_module": "@jupyter-widgets/controls",
       "_view_module_version": "1.5.0",
       "_view_name": "VBoxView",
       "box_style": "",
       "children": [],
       "layout": "IPY_MODEL_fba988a64601489292ae2b2dee2ff912"
      }
     },
     "f2d32e85314c48fa858703c80dcb41a2": {
      "model_module": "@jupyter-widgets/base",
      "model_module_version": "1.2.0",
      "model_name": "LayoutModel",
      "state": {
       "_model_module": "@jupyter-widgets/base",
       "_model_module_version": "1.2.0",
       "_model_name": "LayoutModel",
       "_view_count": null,
       "_view_module": "@jupyter-widgets/base",
       "_view_module_version": "1.2.0",
       "_view_name": "LayoutView",
       "align_content": null,
       "align_items": null,
       "align_self": null,
       "border": null,
       "bottom": null,
       "display": null,
       "flex": null,
       "flex_flow": null,
       "grid_area": null,
       "grid_auto_columns": null,
       "grid_auto_flow": null,
       "grid_auto_rows": null,
       "grid_column": null,
       "grid_gap": null,
       "grid_row": null,
       "grid_template_areas": null,
       "grid_template_columns": null,
       "grid_template_rows": null,
       "height": null,
       "justify_content": null,
       "justify_items": null,
       "left": null,
       "margin": null,
       "max_height": null,
       "max_width": null,
       "min_height": null,
       "min_width": null,
       "object_fit": null,
       "object_position": null,
       "order": null,
       "overflow": null,
       "overflow_x": null,
       "overflow_y": null,
       "padding": null,
       "right": null,
       "top": null,
       "visibility": null,
       "width": null
      }
     },
     "f3118a2d86854dd9aa395fa7aeaff4d8": {
      "model_module": "@jupyter-widgets/controls",
      "model_module_version": "1.5.0",
      "model_name": "VBoxModel",
      "state": {
       "_dom_classes": [
        "widget-interact"
       ],
       "_model_module": "@jupyter-widgets/controls",
       "_model_module_version": "1.5.0",
       "_model_name": "VBoxModel",
       "_view_count": null,
       "_view_module": "@jupyter-widgets/controls",
       "_view_module_version": "1.5.0",
       "_view_name": "VBoxView",
       "box_style": "",
       "children": [
        "IPY_MODEL_105601f5ae624955ae8baaec265bd3dd",
        "IPY_MODEL_f39ee774412c4bab9d9054af20049ec6",
        "IPY_MODEL_637b0ab1431b4cae9e4a1033ffb5c21d"
       ],
       "layout": "IPY_MODEL_a838b81b97a64555963f3554b99e2aa2"
      }
     },
     "f39ee774412c4bab9d9054af20049ec6": {
      "model_module": "@jupyter-widgets/controls",
      "model_module_version": "1.5.0",
      "model_name": "FloatSliderModel",
      "state": {
       "_dom_classes": [],
       "_model_module": "@jupyter-widgets/controls",
       "_model_module_version": "1.5.0",
       "_model_name": "FloatSliderModel",
       "_view_count": null,
       "_view_module": "@jupyter-widgets/controls",
       "_view_module_version": "1.5.0",
       "_view_name": "FloatSliderView",
       "continuous_update": true,
       "description": "c",
       "description_tooltip": null,
       "disabled": false,
       "layout": "IPY_MODEL_6bd5b1b1ebf344e2bf24838a7093b542",
       "max": 0.2,
       "min": 0.02,
       "orientation": "horizontal",
       "readout": true,
       "readout_format": ".2f",
       "step": 0.01,
       "style": "IPY_MODEL_f4914bc02e534d7781c370892e3535e5",
       "value": 0.02
      }
     },
     "f4914bc02e534d7781c370892e3535e5": {
      "model_module": "@jupyter-widgets/controls",
      "model_module_version": "1.5.0",
      "model_name": "SliderStyleModel",
      "state": {
       "_model_module": "@jupyter-widgets/controls",
       "_model_module_version": "1.5.0",
       "_model_name": "SliderStyleModel",
       "_view_count": null,
       "_view_module": "@jupyter-widgets/base",
       "_view_module_version": "1.2.0",
       "_view_name": "StyleView",
       "description_width": "",
       "handle_color": null
      }
     },
     "f901ae1b2caa4eae8d48aaf3a2d61af7": {
      "model_module": "@jupyter-widgets/controls",
      "model_module_version": "1.5.0",
      "model_name": "SliderStyleModel",
      "state": {
       "_model_module": "@jupyter-widgets/controls",
       "_model_module_version": "1.5.0",
       "_model_name": "SliderStyleModel",
       "_view_count": null,
       "_view_module": "@jupyter-widgets/base",
       "_view_module_version": "1.2.0",
       "_view_name": "StyleView",
       "description_width": "",
       "handle_color": null
      }
     },
     "f97cea3b1e1e4210a03a96b9fac86299": {
      "model_module": "@jupyter-widgets/base",
      "model_module_version": "1.2.0",
      "model_name": "LayoutModel",
      "state": {
       "_model_module": "@jupyter-widgets/base",
       "_model_module_version": "1.2.0",
       "_model_name": "LayoutModel",
       "_view_count": null,
       "_view_module": "@jupyter-widgets/base",
       "_view_module_version": "1.2.0",
       "_view_name": "LayoutView",
       "align_content": null,
       "align_items": null,
       "align_self": null,
       "border": null,
       "bottom": null,
       "display": null,
       "flex": null,
       "flex_flow": null,
       "grid_area": null,
       "grid_auto_columns": null,
       "grid_auto_flow": null,
       "grid_auto_rows": null,
       "grid_column": null,
       "grid_gap": null,
       "grid_row": null,
       "grid_template_areas": null,
       "grid_template_columns": null,
       "grid_template_rows": null,
       "height": null,
       "justify_content": null,
       "justify_items": null,
       "left": null,
       "margin": null,
       "max_height": null,
       "max_width": null,
       "min_height": null,
       "min_width": null,
       "object_fit": null,
       "object_position": null,
       "order": null,
       "overflow": null,
       "overflow_x": null,
       "overflow_y": null,
       "padding": null,
       "right": null,
       "top": null,
       "visibility": null,
       "width": null
      }
     },
     "fba988a64601489292ae2b2dee2ff912": {
      "model_module": "@jupyter-widgets/base",
      "model_module_version": "1.2.0",
      "model_name": "LayoutModel",
      "state": {
       "_model_module": "@jupyter-widgets/base",
       "_model_module_version": "1.2.0",
       "_model_name": "LayoutModel",
       "_view_count": null,
       "_view_module": "@jupyter-widgets/base",
       "_view_module_version": "1.2.0",
       "_view_name": "LayoutView",
       "align_content": null,
       "align_items": null,
       "align_self": null,
       "border": null,
       "bottom": null,
       "display": null,
       "flex": null,
       "flex_flow": null,
       "grid_area": null,
       "grid_auto_columns": null,
       "grid_auto_flow": null,
       "grid_auto_rows": null,
       "grid_column": null,
       "grid_gap": null,
       "grid_row": null,
       "grid_template_areas": null,
       "grid_template_columns": null,
       "grid_template_rows": null,
       "height": null,
       "justify_content": null,
       "justify_items": null,
       "left": null,
       "margin": null,
       "max_height": null,
       "max_width": null,
       "min_height": null,
       "min_width": null,
       "object_fit": null,
       "object_position": null,
       "order": null,
       "overflow": null,
       "overflow_x": null,
       "overflow_y": null,
       "padding": null,
       "right": null,
       "top": null,
       "visibility": null,
       "width": null
      }
     }
    },
    "version_major": 2,
    "version_minor": 0
   }
  }
 },
 "nbformat": 4,
 "nbformat_minor": 5
}