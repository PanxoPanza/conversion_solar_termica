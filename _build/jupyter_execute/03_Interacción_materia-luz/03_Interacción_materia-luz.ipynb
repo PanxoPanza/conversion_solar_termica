{
 "cells": [
  {
   "cell_type": "code",
   "execution_count": 1,
   "id": "3c597da7",
   "metadata": {
    "slideshow": {
     "slide_type": "skip"
    },
    "tags": [
     "remove-cell"
    ]
   },
   "outputs": [],
   "source": [
    "import importlib.util\n",
    "if importlib.util.find_spec('empylib') is None:\n",
    "    !pip install git+https://github.com/PanxoPanza/empylib.git"
   ]
  },
  {
   "cell_type": "markdown",
   "id": "8b01ca79",
   "metadata": {
    "slideshow": {
     "slide_type": "slide"
    }
   },
   "source": [
    "# Propiedades ópticas de los materiales"
   ]
  },
  {
   "cell_type": "markdown",
   "id": "61b0f1b1",
   "metadata": {
    "slideshow": {
     "slide_type": "slide"
    }
   },
   "source": [
    "## Fundamentos del movimiento oscilatorio"
   ]
  },
  {
   "cell_type": "markdown",
   "id": "358320c5",
   "metadata": {
    "slideshow": {
     "slide_type": "slide"
    }
   },
   "source": [
    "### Frecuencia natural de un sistema vibratorio\n",
    "\n",
    "Analicemos el caso simplificado de un sistema masa resorte"
   ]
  },
  {
   "cell_type": "markdown",
   "id": "294ae73a",
   "metadata": {
    "cell_style": "split"
   },
   "source": [
    "<img src=\"./images/free_sistem_one_degree.png\" width=\"400px\" align= center>\n",
    "\n",
    "donde, $k$ es la constante de rigidez del resorte, y $m$ es la masa."
   ]
  },
  {
   "cell_type": "markdown",
   "id": "769ed6fc",
   "metadata": {
    "cell_style": "split",
    "slideshow": {
     "slide_type": "fragment"
    }
   },
   "source": [
    "El resorte ejerce una **fuerza de restauración**, $F_\\mathrm{res} = kx$, que actúa en sentido contrario al desplazamiento de la masa.\n",
    "\n",
    "<img src=\"./images/dcl_mass-spring.png\" width=\"400px\" align= center>"
   ]
  },
  {
   "cell_type": "markdown",
   "id": "85dfd5b2",
   "metadata": {
    "cell_style": "split",
    "slideshow": {
     "slide_type": "fragment"
    }
   },
   "source": [
    "Mediante un equilibrio de fuerzas, concluimos que la ecuación gobernante es:\n",
    "\n",
    "\\begin{equation*}\n",
    "\\ddot{x} + \\omega_n^2 x = 0 \n",
    "\\end{equation*}\n",
    "\n",
    "donde **$\\omega_n = \\sqrt{k/m}$, es la frecuencia natural del sistema**"
   ]
  },
  {
   "cell_type": "markdown",
   "id": "f9eda553",
   "metadata": {
    "slideshow": {
     "slide_type": "slide"
    }
   },
   "source": [
    "**La frecuencia natural** de un sistema vibratorio **representa la frecuencia de oscilación del sistema en ausencia de amortiguación y fuerzas externas**."
   ]
  },
  {
   "cell_type": "markdown",
   "id": "f53ca4a2",
   "metadata": {
    "slideshow": {
     "slide_type": "fragment"
    }
   },
   "source": [
    "Es una firma espectral que **solo se puede cambiar ajustando la masa $m$ o la constante de rigidez del sistema $k$.**"
   ]
  },
  {
   "cell_type": "markdown",
   "id": "301a52be",
   "metadata": {
    "cell_style": "split",
    "slideshow": {
     "slide_type": "fragment"
    }
   },
   "source": [
    "Esto significa que, **ante cualquier perturbación del sistema en equilibrio, el sistema oscilará en su frecuencia natural $\\omega_n$.**\n",
    "\n",
    "<img src=\"./images/1dof-1spring.gif\" width=\"300px\" align= center></img>\n",
    "<center> <small>Sistema con 1 grado de libertad (Fuente: <a href=\"https://www.acs.psu.edu/drussell/demos.html\">Daniel A. Russell)</a></small></center>\n",
    "\n",
    "Cada sistema tiene una frecuencia natural, que puede estar definida por distintos parámetros. Sin embargo, **la característica más importante, es la presencia de una fuerza de restauración opuesta al movimiento del cuerpo.**"
   ]
  },
  {
   "cell_type": "markdown",
   "id": "f90d4972",
   "metadata": {
    "cell_style": "split",
    "slideshow": {
     "slide_type": "fragment"
    }
   },
   "source": [
    "Por ejemplo, en un péndulo, la fuerza de restauración corresponde a la componente de la fuerza de gravedad que actúa en sentido contrario a la aceleración del cuerpo.\n",
    "\n",
    "<img src=\"./images/pendulum_forces.gif\" width=\"400px\" align= center>"
   ]
  },
  {
   "cell_type": "markdown",
   "id": "d335b0f9",
   "metadata": {
    "slideshow": {
     "slide_type": "slide"
    }
   },
   "source": [
    "### Vibración forzada amortiguada con un grado de libertad\n",
    "La frecuencia natural cobra relevancia cuando analizamos vibraciones forzadas.\n",
    "\n",
    "Consideremos, por ejemplo, un sistema masa-resorte amortiguado, donde $c$ es la constante de amortiguación. El sistema es excitado por una fuerza externa oscilatoria de la forma $F(t) = F_0 e^{i\\omega t}$, donde $F_0$ es una constante. "
   ]
  },
  {
   "cell_type": "markdown",
   "id": "f67c5def",
   "metadata": {
    "cell_style": "split"
   },
   "source": [
    "<img src=\"./images/forced_damped_system.png\" width=\"400px\" align= center>"
   ]
  },
  {
   "cell_type": "markdown",
   "id": "bc1aa9a9",
   "metadata": {
    "cell_style": "split",
    "slideshow": {
     "slide_type": "fragment"
    }
   },
   "source": [
    "La ecuación gobernante de este sistema está dada por:\n",
    "\n",
    "\\begin{equation*}\n",
    "\\ddot{x} + \\frac{c}{m}\\dot{x} +  \\omega_n^2 x = \\frac{F_0}{m} e^{- i\\omega t},\n",
    "\\end{equation*}\n"
   ]
  },
  {
   "cell_type": "markdown",
   "id": "a7035f82",
   "metadata": {
    "cell_style": "split",
    "slideshow": {
     "slide_type": "fragment"
    }
   },
   "source": [
    "La solución estacionaria es de la forma $x = Ae^{-i\\omega t}$:\n",
    "\n",
    "\\begin{equation*}\n",
    "x(t) = - \\frac{F_0/m}{\\omega^2 - \\omega_n^2 + i\\frac{c}{m} \\omega}e^{- i\\omega t}\n",
    "\\end{equation*}\n",
    "\n",
    "donde $A = - \\frac{F_0/m}{\\omega^2 - \\omega_n^2 + i\\frac{c}{m} \\omega}$ es la amplitud de la respuesta oscilatoria.\n"
   ]
  },
  {
   "cell_type": "markdown",
   "id": "681f2ebf",
   "metadata": {
    "slideshow": {
     "slide_type": "slide"
    }
   },
   "source": [
    "La ecuación indica que **la amplitud de la respuesta depende principalmente, de la frecuencia de la fuerza externa $\\omega$**."
   ]
  },
  {
   "cell_type": "markdown",
   "id": "131e60a4",
   "metadata": {
    "cell_style": "split",
    "slideshow": {
     "slide_type": "fragment"
    }
   },
   "source": [
    "Más aún, como vemos en esta herramienta interactiva de [movimiento forzado amortiguado](https://www.compadre.org/osp/EJSS/4026/134.htm?F=1), cuando $\\omega \\approx \\omega_n$ la amplitud aumenta a un límite crítico."
   ]
  },
  {
   "cell_type": "markdown",
   "id": "db28d74f",
   "metadata": {
    "cell_style": "split"
   },
   "source": [
    "<img src=\"./images/forced.gif\" width=\"300px\" align= center></img>\n",
    "<center> <small>Respuesta ante fuerza oscilatoria  (Fuente: <a href=\"https://www.acs.psu.edu/drussell/demos.html\">Daniel A. Russell)</a></small></center>"
   ]
  },
  {
   "cell_type": "markdown",
   "id": "f9fa7b67",
   "metadata": {
    "slideshow": {
     "slide_type": "fragment"
    }
   },
   "source": [
    "En este caso decimos que el **sistema está en resonancia**."
   ]
  },
  {
   "cell_type": "markdown",
   "id": "28d8f099",
   "metadata": {
    "slideshow": {
     "slide_type": "slide"
    }
   },
   "source": [
    "La mejor forma de visualizar este fenómeno es analizando la amplitud en función de la frecuencia de la fuerza externa $\\omega$. En el gráfico a continuación mostramos el valor del módulo de la amplitud, $|A|$ (izquierda) y la parte real e imaginaria de la amplitud (derecha)."
   ]
  },
  {
   "cell_type": "code",
   "execution_count": 2,
   "id": "5dd7c458",
   "metadata": {
    "slideshow": {
     "slide_type": "skip"
    },
    "tags": [
     "hide-input"
    ]
   },
   "outputs": [],
   "source": [
    "import numpy as np\n",
    "import matplotlib.pyplot as plt\n",
    "\n",
    "def x_amplitude(k,c):\n",
    "    \n",
    "    m = 1                                           # masa del cuerpo\n",
    "    w = np.linspace(0,2,200)                       # rango de frecuencias\n",
    "    F0 = 1                                          # Amplitud de la fuerza\n",
    "    wn = np.sqrt(k/m)                               # frencuencia natural\n",
    "    A  = lambda x: - F0/m/(x**2 - wn**2 + 1j*c/m*x) # amplitud de la respuesta\n",
    "    \n",
    "    # formateamos el lienzo para graficar\n",
    "    fig, ax = plt.subplots(1,2)             # número de ejes en la figura\n",
    "    fig.set_size_inches(10, 3)              # tamaño de la figura\n",
    "    plt.rcParams['font.size'] = '12'        # tamaño de fuente\n",
    "    \n",
    "    # Ploteamos gráfico izquierdo\n",
    "    ax[0].plot(w,np.absolute(A(w)),'k',label=\"$|A|$\")     # módulo de la amplitud\n",
    "    \n",
    "    # marcar línea de frecuencia natural\n",
    "    ax[0].axvline(x = wn, color='r', ls='--', lw='1.0')  \n",
    "    ax[0].text(wn*1.01,np.absolute(A(wn)),'$\\omega_n$', fontsize='12', color='r')\n",
    "    \n",
    "    # etiquetar valores de m y F0 en el gráfico\n",
    "    x0, y0 = 0.1, 100\n",
    "    ax[0].text(x0, y0,r'$m$ = %.0f kg'   % m , fontsize='10', color='k')\n",
    "    ax[0].text(x0, y0*0.55,r'$F_0$ = %.0f N'% F0, fontsize='10', color='k')\n",
    "    \n",
    "    # Ploteamos gráfico derecho\n",
    "    ax[1].plot(w,A(w).real,'b',label=r\"$\\mathrm{Re}(A)$\") # parte real de la amplitud\n",
    "    ax[1].plot(w,A(w).imag,'r',label=r\"$\\mathrm{Im}(A)$\") # parte imaginaria de la amplitud\n",
    "    \n",
    "    for i in [0,1]:\n",
    "        ax[i].set_xlabel('$\\omega$ ')\n",
    "        #ax[i].grid() \n",
    "        ax[i].set_xlim(0,2.0)\n",
    "        ax[i].legend(frameon=False)\n",
    "    ax[0].set_yscale('log')\n",
    "    ax[0].set_ylim(0.1,200)\n",
    "    ax[0].set_ylabel('Módulo de la amplitud')\n",
    "    ax[1].set_ylabel('Amplitud')\n",
    "    plt.subplots_adjust(wspace=0.3)\n",
    "    plt.show()"
   ]
  },
  {
   "cell_type": "code",
   "execution_count": 3,
   "id": "e1bf77f3",
   "metadata": {
    "slideshow": {
     "slide_type": "fragment"
    },
    "tags": [
     "hide-input"
    ]
   },
   "outputs": [
    {
     "data": {
      "application/vnd.jupyter.widget-view+json": {
       "model_id": "976fb145a88c4ca0a7e1b1b6e9c392ec",
       "version_major": 2,
       "version_minor": 0
      },
      "text/plain": [
       "interactive(children=(FloatSlider(value=1.0, description='k', max=2.0, min=0.3), FloatSlider(value=0.02, descr…"
      ]
     },
     "metadata": {},
     "output_type": "display_data"
    }
   ],
   "source": [
    "from ipywidgets import interact\n",
    "\n",
    "@interact( k=(0.3,2.0,0.1), \n",
    "           c=(0.02,0.2,0.01))\n",
    "def g(k=1, c=0):\n",
    "    return x_amplitude(k,c)"
   ]
  },
  {
   "cell_type": "markdown",
   "id": "57272148",
   "metadata": {
    "slideshow": {
     "slide_type": "slide"
    }
   },
   "source": [
    "La frecuencia de resonancia es fundamental en el diseño de puentes, edificios, instrumentos acústicos y otras. "
   ]
  },
  {
   "cell_type": "markdown",
   "id": "0d167b69",
   "metadata": {
    "cell_style": "split",
    "slideshow": {
     "slide_type": "fragment"
    }
   },
   "source": [
    "Un ejemplo emblemático es el [colapso del puente Tacoma en 1940](https://es.wikipedia.org/wiki/Puente_de_Tacoma_(1940)).\n",
    "\n",
    "<img src=\"./images/tacoma-narrows-bridge-shaking.gif\" width=\"400px\" align= center>\n",
    "\n",
    "El puente se derrumbó debido al aleteo aeroelástico producido por los vientos, el cual coincidía con la frecuencia natural del puente"
   ]
  },
  {
   "cell_type": "markdown",
   "id": "68665458",
   "metadata": {
    "cell_style": "split",
    "slideshow": {
     "slide_type": "fragment"
    }
   },
   "source": [
    "Otro ejemplo típico es el columpio\n",
    "\n",
    "<img src=\"./images/swing_resonance.gif\" width=\"300px\" align= center>\n",
    "\n",
    "En este caso, la fuerza externa son las piernas. La resonancia se alcanza cuando estas se mueven en sincronía con la frecuencia natural del péndulo. El efecto de amortiguación en este caso, está dado por el arrastre del viento, fricción, etc."
   ]
  },
  {
   "cell_type": "markdown",
   "id": "b2dc3de3",
   "metadata": {
    "slideshow": {
     "slide_type": "slide"
    }
   },
   "source": [
    "### Sistemas vibratorios con más de un grado de libertad\n",
    "\n",
    "Un sistema vibratorio puede tener más de una frecuencia natural. **El número de frecuencias naturales está directamente relacionado con el número de grados de libertad del sistema**. "
   ]
  },
  {
   "cell_type": "markdown",
   "id": "de5c7040",
   "metadata": {
    "cell_style": "center",
    "slideshow": {
     "slide_type": "fragment"
    }
   },
   "source": [
    "**Sistema con 1 grado de libertad** (aquí la frecuencia natural cambia a $\\omega_n = \\sqrt{2k/m}$, debido a la presencia de 2 resortes)\n",
    "\n",
    "|modo | $\\omega_n$   |\n",
    "|:---:|:------------:|\n",
    "| 1   | $1.414\\sqrt{k/m}$ | \n",
    "\n",
    "<img src=\"./images/1dof.gif\" width=\"200px\" align= center></img>\n",
    "<center> <small>Sistema con 1 grado de libertad (Fuente: <a href=\"https://www.acs.psu.edu/drussell/demos.html\">Daniel A. Russell)</a></small></center>"
   ]
  },
  {
   "cell_type": "markdown",
   "id": "4643885a",
   "metadata": {
    "cell_style": "split",
    "slideshow": {
     "slide_type": "slide"
    }
   },
   "source": [
    "**Sistema con 2 grados de libertad**\n",
    "\n",
    "|modo | $\\omega_n$   |\n",
    "|:---:|:------------:|\n",
    "| 1   | $1.000\\sqrt{k/m}$ |\n",
    "| 2   | $1.732\\sqrt{k/m}$| \n",
    "\n",
    "<img src=\"./images/2dof-mode-1.gif\" width=\"300px\" align= center></img>\n",
    "<img src=\"./images/2dof-mode-2.gif\" width=\"300px\" align= center></img>\n",
    "<center> <small>Sistema con 2 grados de libertad (Fuente: <a href=\"https://www.acs.psu.edu/drussell/demos.html\">Daniel A. Russell)</a></small></center>"
   ]
  },
  {
   "cell_type": "markdown",
   "id": "5a0c9868",
   "metadata": {
    "cell_style": "split",
    "slideshow": {
     "slide_type": "fragment"
    }
   },
   "source": [
    "**Sistema con 3 grados de libertad**\n",
    "\n",
    "|modo | $\\omega_n$   |\n",
    "|:---:|:------------:|\n",
    "| 1   | $0.765\\sqrt{k/m}$ |\n",
    "| 2   | $1.414\\sqrt{k/m}$| \n",
    "| 3   | $1.868\\sqrt{k/m}$| \n",
    "\n",
    "<img src=\"./images/3dof-mode-1.gif\" width=\"300px\" align= center></img>\n",
    "<img src=\"./images/3dof-mode-2.gif\" width=\"300px\" align= center></img>\n",
    "<img src=\"./images/3dof-mode-3.gif\" width=\"300px\" align= center></img>\n",
    "<center> <small>Sistema con 3 grados de libertad (Fuente: <a href=\"https://www.acs.psu.edu/drussell/demos.html\">Daniel A. Russell)</a></small></center>"
   ]
  },
  {
   "cell_type": "markdown",
   "id": "26c69b02",
   "metadata": {
    "slideshow": {
     "slide_type": "slide"
    }
   },
   "source": [
    "Notar la forma en que las frecuencias naturales se distribuye a medida que aumentamos los grados de libertad del sistema (*Las flechas rojas indican la dirección de las masas asociada a cada modo de vibración*):\n",
    "\n",
    "\n",
    "<img src=\"./images/nat_frequency_hybrid.png\" width=\"800px\" align= center>"
   ]
  },
  {
   "cell_type": "markdown",
   "id": "c2c54a68",
   "metadata": {
    "slideshow": {
     "slide_type": "slide"
    }
   },
   "source": [
    "En este caso, para **activar la resonancia de un modo mediante una fuerza oscilatoria externa** se deben cumplir dos condiciones:\n",
    "\n",
    "- **La frecuencia de la fuerza externa ($\\omega$) debe ser igual a la frecuencia natural del modo respectivo**\n",
    "- **El sentido de la fuerza debe ser compatible con el movimiento independiente de cada elemento**"
   ]
  },
  {
   "cell_type": "markdown",
   "id": "88b15e63",
   "metadata": {
    "slideshow": {
     "slide_type": "slide"
    }
   },
   "source": [
    "## Interacción de luz gases\n",
    "\n",
    "La interacción de luz con gases es el modelo más simple. En este caso, cada molécula representa un sistema oscilatorio"
   ]
  },
  {
   "cell_type": "markdown",
   "id": "1f02dfa3",
   "metadata": {
    "slideshow": {
     "slide_type": "slide"
    }
   },
   "source": [
    "### El oscilador armónico\n",
    "Consideremos la molecula de agua."
   ]
  },
  {
   "cell_type": "markdown",
   "id": "0435f143",
   "metadata": {
    "cell_style": "split",
    "slideshow": {
     "slide_type": "fragment"
    }
   },
   "source": [
    "<img src=\"./images/water_molecule.png\" width=\"400px\" align= center>"
   ]
  },
  {
   "cell_type": "markdown",
   "id": "511ceed2",
   "metadata": {
    "cell_style": "split",
    "slideshow": {
     "slide_type": "-"
    }
   },
   "source": [
    "Esta molécula está **polarizada**, es decir, posee una **carga eléctrica neta positiva en un extremo y negativa en otro**. \n",
    "\n",
    "Esto ocurre debido a que los electrones se mantienen, preferentemente, en la región cercana al núcleo del oxígeno."
   ]
  },
  {
   "cell_type": "markdown",
   "id": "90573d0f",
   "metadata": {
    "cell_style": "center",
    "slideshow": {
     "slide_type": "slide"
    }
   },
   "source": [
    "El enlance entre el hidrógeno y oxígeno genera una fuerza de atracción, la cual es contrarestada por la repulción entre los núcleos. En forma simplificada, podemos representar este fenómeno mediante un sistema *masa-resorte*."
   ]
  },
  {
   "cell_type": "markdown",
   "id": "7b152a52",
   "metadata": {
    "cell_style": "split"
   },
   "source": [
    "<img src=\"./images/water_molecule_spring.png\" width=\"300px\" align= center>"
   ]
  },
  {
   "cell_type": "markdown",
   "id": "d7d8d84b",
   "metadata": {
    "cell_style": "split",
    "slideshow": {
     "slide_type": "fragment"
    }
   },
   "source": [
    "En otras palabras, cada enlace en la molécula de agua representa un oscilador armónico, con una fuerza de restauración:\n",
    "\n",
    "\\begin{equation*}\n",
    "F = -k(r - r_0)\n",
    "\\end{equation*}\n",
    "\n",
    "donde $k$ es la constante de rigidez y $r_0$ es la posición de los núcleos en equilibrio."
   ]
  },
  {
   "cell_type": "markdown",
   "id": "a47dc7ed",
   "metadata": {
    "slideshow": {
     "slide_type": "slide"
    }
   },
   "source": [
    "### Modelo de Lorentz\n",
    "\n",
    "Consideremos ahora la interacción de una onda electromagnética con una molécula di atómica."
   ]
  },
  {
   "cell_type": "markdown",
   "id": "58ad790c",
   "metadata": {
    "cell_style": "split",
    "slideshow": {
     "slide_type": "fragment"
    }
   },
   "source": [
    "<img src=\"./images/molecule_spring_mass.png\" width=\"300px\" align= center>"
   ]
  },
  {
   "cell_type": "markdown",
   "id": "e8dec281",
   "metadata": {
    "cell_style": "split",
    "slideshow": {
     "slide_type": "fragment"
    }
   },
   "source": [
    "El campo eléctrico de la onda EM ($E_0e^{-i\\omega t}$), ejerce una fuerza $F = qE_0e^{-i\\omega t}$ sobre cada polo, donde $q$ es la carga eléctrica del polo positivo (o negativo). "
   ]
  },
  {
   "cell_type": "markdown",
   "id": "aca8c93d",
   "metadata": {
    "cell_style": "split",
    "slideshow": {
     "slide_type": "fragment"
    }
   },
   "source": [
    "Consideramos, ademas, una fuerza de amortiguación, $F_{c} = - m\\Gamma \\dot{x}$, que **representa la disipación de energía** por la colición entre los electrones y los nucleos, además de otras interacciónes electromagnéticas. La constante **$\\Gamma$** es la **tasa de decaimiento** (se mide en unidades 1/s)."
   ]
  },
  {
   "cell_type": "markdown",
   "id": "12aa8754",
   "metadata": {
    "cell_style": "split",
    "slideshow": {
     "slide_type": "fragment"
    }
   },
   "source": [
    "\n",
    "\n",
    "***El fenómeno, así, representa un sistema forzado amortiguado***"
   ]
  },
  {
   "cell_type": "markdown",
   "id": "893cc2a3",
   "metadata": {
    "cell_style": "center",
    "slideshow": {
     "slide_type": "slide"
    }
   },
   "source": [
    "Asumiendo un eje de referencia situado en el polo positivo, la ecuación de movimiento está dada por:\n",
    "\n",
    "\\begin{equation*}\n",
    "m\\ddot{x} + m\\Gamma \\dot{x} +  k x = qE_0 e^{-i\\omega t},\n",
    "\\end{equation*}\n",
    "\n",
    "donde $m$ es la masa del polo positivo, $k$ es la constante de rigidez del enlace entre los polos."
   ]
  },
  {
   "cell_type": "markdown",
   "id": "a0148a8d",
   "metadata": {
    "slideshow": {
     "slide_type": "fragment"
    }
   },
   "source": [
    "La solución estacionaria está dada por la solución particular:\n",
    "\n",
    "\\begin{equation*}\n",
    "x_p(t) = \\frac{q/mE_0}{\\omega_n^2 - \\omega^2 - i\\Gamma \\omega}e^{-i\\omega t}\n",
    "\\end{equation*}"
   ]
  },
  {
   "cell_type": "markdown",
   "id": "2a79298d",
   "metadata": {
    "slideshow": {
     "slide_type": "slide"
    }
   },
   "source": [
    "El desplazamiento del polo positivo respecto a su estado en equilibrio induce un **momento dipolar**, $\\vec{p}$, el cual expresamos a través de la relación:\n",
    "\n",
    "\\begin{equation*}\n",
    "\\vec{p} = q\\vec{x}_p(t) =  \\frac{q^2/m}{\\omega_n^2 - \\omega^2 - i\\Gamma \\omega}E_0e^{-i\\omega t}\\hat{e}\\quad\\mathrm{[C\\cdot m]}\n",
    "\\end{equation*}\n",
    "\n",
    "donde $\\hat{e}$ es la dirección del campo eléctrico"
   ]
  },
  {
   "cell_type": "markdown",
   "id": "559e4684",
   "metadata": {
    "slideshow": {
     "slide_type": "fragment"
    }
   },
   "source": [
    "En el caso real, este fenómenos se da en un volumen con miles de moleculas de agua. Así, definimos la **densidad de polarización**, $\\vec{P}$, como el **momento dipolar inducido total por unidad de volumen**:\n",
    "\n",
    "\\begin{equation*}\n",
    "\\vec{P} = N_p \\vec{p} = \\frac{N_pq^2/m}{\\omega_n^2 - \\omega^2 - i\\Gamma \\omega}\\vec{E}\\quad\\mathrm{\\left[\\frac{C\\cdot m}{m^3}\\right]}\n",
    "\\end{equation*}"
   ]
  },
  {
   "cell_type": "markdown",
   "id": "6f98c011",
   "metadata": {
    "slideshow": {
     "slide_type": "slide"
    }
   },
   "source": [
    "En presencia de un medio polarizado, la ley de Gauss se modifica como: $\\nabla\\cdot\\left(\\varepsilon_0\\vec{E} + \\vec{P}\\right) = 0$. "
   ]
  },
  {
   "cell_type": "markdown",
   "id": "c4a3331b",
   "metadata": {
    "slideshow": {
     "slide_type": "fragment"
    }
   },
   "source": [
    "Representando esta relación en la forma, $\\nabla\\cdot\\varepsilon_0\\varepsilon\\vec{E} = \\rho$, podemos deducir un modelo para la constante dieléctrica del sistema $\\varepsilon$:\n",
    "\n",
    "\\begin{equation*}\n",
    "\\varepsilon = 1 +\\frac{\\omega_p^2}{\\omega_n^2 - \\omega^2 - i\\Gamma \\omega},\n",
    "\\end{equation*}\n",
    "\n",
    "con $\\omega_p^2 = \\frac{N_pq^2}{\\varepsilon_0 m}$"
   ]
  },
  {
   "cell_type": "markdown",
   "id": "81b68cdd",
   "metadata": {
    "slideshow": {
     "slide_type": "fragment"
    }
   },
   "source": [
    "En el caso del agua, la molecula posee un dipolo eléctrico neto adicional al dipolo inducido. El efecto de la polarización neta se puede representar, cambiando el primer término por un valor constante $\\varepsilon_\\infty$."
   ]
  },
  {
   "cell_type": "markdown",
   "id": "500b9754",
   "metadata": {
    "slideshow": {
     "slide_type": "fragment"
    }
   },
   "source": [
    "El modelo completo se conoce como **modelo de Lorentz**:\n",
    "\n",
    "\\begin{equation}\n",
    "\\varepsilon = \\varepsilon_\\infty + \\frac{\\omega_p^2}{\\omega_n^2 - \\omega^2 - i\\Gamma \\omega}\\quad\\mathrm{Modelo~de~Lorentz},\n",
    "\\end{equation}"
   ]
  },
  {
   "cell_type": "markdown",
   "id": "7105088b",
   "metadata": {
    "slideshow": {
     "slide_type": "slide"
    }
   },
   "source": [
    "Usaremos la función `lorentz` del módulo `empylib.nklib` para generar el índice de refracción y constante dielectrica a partir del modelo de Lorentz."
   ]
  },
  {
   "cell_type": "code",
   "execution_count": 4,
   "id": "cbd90054",
   "metadata": {
    "slideshow": {
     "slide_type": "skip"
    },
    "tags": [
     "hide-input"
    ]
   },
   "outputs": [],
   "source": [
    "import numpy as np\n",
    "import matplotlib.pyplot as plt\n",
    "import empylib.nklib as nk\n",
    "import empylib as em\n",
    "\n",
    "def lorentz_model(epsinf,wn,wp,gamma):\n",
    "    # espectro \n",
    "    lam = np.linspace(1E-3,3,1000)     # convertimos a \"micrones\"\n",
    "\n",
    "    # creamos el modelo de lorentz\n",
    "    N1 = nk.lorentz(epsinf,wp,wn,gamma,lam) # índice de refracción a partir del modelo de Lorentz\n",
    "    eps1 = N1**2                            # constante dieléctrica\n",
    "\n",
    "    # formateamos el lienzo para graficar\n",
    "    fig, ax = plt.subplots(1,2)             # número de ejes en la figura\n",
    "    fig.set_size_inches(10, 3)              # tamaño de la figura\n",
    "    plt.rcParams['font.size'] = '10'        # tamaño de fuente\n",
    "\n",
    "    #ploteamos\n",
    "    ax[0].plot(lam,eps1.real,'b',label=r\"$\\varepsilon'$\")\n",
    "    ax[0].plot(lam,eps1.imag,'r',label=r\"$\\varepsilon''$\")\n",
    "    ax[1].plot(lam,N1.real,'b',label=r\"$n$\")\n",
    "    ax[1].plot(lam,N1.imag,'r',label=r\"$\\kappa$\")\n",
    "    \n",
    "    # marcar línea de frecuencia natural\n",
    "    lam_n = em.convert_units(wn,'eV','um')\n",
    "    ax[0].axvline(x = lam_n, color='k', ls='--', lw='1.0')  \n",
    "    ax[0].text(lam_n*1.01,-10,'$\\omega_n$', fontsize='12', color='k')\n",
    "\n",
    "    for i in [0,1]:\n",
    "        ax[i].set_xlabel('Longitud de onda, $\\lambda$ ($\\mu$m)')\n",
    "        ax[i].grid()\n",
    "        ax[i].legend(frameon=False)\n",
    "        ax[i].set_xlim(0.5,3.0)\n",
    "    ax[0].set_ylabel(r\"Constante dielectrica, $\\varepsilon = \\varepsilon'+ \\varepsilon''$\")\n",
    "    ax[1].set_ylabel(r'Indice de refracción, $N = n + i\\kappa$')\n",
    "    ax[0].set_ylim(-20,30)\n",
    "    ax[1].set_ylim(0,5)\n",
    "    plt.show()"
   ]
  },
  {
   "cell_type": "code",
   "execution_count": 5,
   "id": "be118d5a",
   "metadata": {
    "slideshow": {
     "slide_type": "fragment"
    },
    "tags": [
     "hide-input"
    ]
   },
   "outputs": [
    {
     "data": {
      "application/vnd.jupyter.widget-view+json": {
       "model_id": "be88b996c3e3470c9b99cef8105e5c2d",
       "version_major": 2,
       "version_minor": 0
      },
      "text/plain": [
       "interactive(children=(FloatSlider(value=7.0, description='epsinf', max=10.0, min=1.0, step=0.5), FloatSlider(v…"
      ]
     },
     "metadata": {},
     "output_type": "display_data"
    }
   ],
   "source": [
    "from ipywidgets import interact\n",
    "\n",
    "@interact( epsinf=(1,10,0.5), \n",
    "           wp=(0.3,1.0,0.1), \n",
    "           wn=(0.5,2.0,0.1), \n",
    "           gamma=(0.01,0.05,0.005))\n",
    "def g(epsinf=7,wp=0.8,wn=0.7, gamma=0.04):\n",
    "    return lorentz_model(epsinf,wn,wp,gamma)"
   ]
  },
  {
   "cell_type": "markdown",
   "id": "37d59ca2",
   "metadata": {
    "slideshow": {
     "slide_type": "slide"
    }
   },
   "source": [
    ">**El modelo de Lorentz se utiliza como modelo de ajuste para representar la interacción de la luz con los modos vibratorios en la materia**"
   ]
  },
  {
   "cell_type": "markdown",
   "id": "9e2ae231",
   "metadata": {
    "slideshow": {
     "slide_type": "slide"
    }
   },
   "source": [
    "Por ejemplo, la molécula de agua tiene 3 modos de vibración fundamentales en las longitudes de onda $\\lambda = $ 2.98, 2.93 y 5.91 $\\mu$m (3351, 3412 y 1691 cm$^{-1}$)"
   ]
  },
  {
   "cell_type": "code",
   "execution_count": 6,
   "id": "6f7c32e8",
   "metadata": {
    "cell_style": "center",
    "tags": [
     "remove-input"
    ]
   },
   "outputs": [
    {
     "data": {
      "image/jpeg": "[encoded data removed]",
      "text/html": [
       "\n",
       "        <iframe\n",
       "            width=\"600\"\n",
       "            height=\"400\"\n",
       "            src=\"https://www.youtube.com/embed/1uE2lvVkKW0?playsinline=0\"\n",
       "            frameborder=\"0\"\n",
       "            allowfullscreen\n",
       "            \n",
       "        ></iframe>\n",
       "        "
      ],
      "text/plain": [
       "<IPython.lib.display.YouTubeVideo at 0x7fb55f5a8e90>"
      ]
     },
     "execution_count": 6,
     "metadata": {},
     "output_type": "execute_result"
    }
   ],
   "source": [
    "from IPython.display import YouTubeVideo\n",
    "YouTubeVideo('1uE2lvVkKW0', width=600, height=400,  playsinline=0)"
   ]
  },
  {
   "cell_type": "markdown",
   "id": "d2e7a860",
   "metadata": {
    "slideshow": {
     "slide_type": "slide"
    }
   },
   "source": [
    "Al graficar el índice de refracción notamos que la gráfica muestra dos oscilaciones de Lorentz. Usamos el módulo `nklib` de la librería `empylib` para graficar el índice de refracción del agua"
   ]
  },
  {
   "cell_type": "code",
   "execution_count": 7,
   "id": "a8fe3e5b",
   "metadata": {
    "cell_style": "center",
    "slideshow": {
     "slide_type": "skip"
    },
    "tags": [
     "hide-input"
    ]
   },
   "outputs": [],
   "source": [
    "%%capture showplot1\n",
    "import numpy as np\n",
    "import matplotlib.pyplot as plt\n",
    "import empylib.nklib as nk\n",
    "\n",
    "# Creamos el espectro\n",
    "lam = np.linspace(0.1,10,1000)                          # espectro de longitudes de onda\n",
    "N1   = nk.H2O(lam)                                      # índice de refracción\n",
    "eps1 = N1**2                                            # constante dieléctrica\n",
    "\n",
    "# Formateamos el lienzo para graficar\n",
    "fig, ax = plt.subplots(1,2)                             # número de ejes en la figura\n",
    "fig.set_size_inches(10, 3)                              # tamaño de la figura\n",
    "plt.rcParams['font.size'] = '12'                        # tamaño de fuente\n",
    "\n",
    "# Graficamos el resultado\n",
    "ax[0].plot(lam,eps1.real,'b',label=r\"$\\varepsilon'$\")   # constante dieléctrica (parte real)\n",
    "ax[0].plot(lam,eps1.imag,'r',label=r\"$\\varepsilon''$\")  # constante dieléctrica (parte imaginaria)\n",
    "ax[1].plot(lam,N1.real,'b',label=r\"$n$\")                # índice de refracción (parte real)\n",
    "ax[1].plot(lam,N1.imag,'r',label=r\"$\\kappa$\")           # índice de refracción (parte imaginaria)\n",
    "\n",
    "# Marcamos los valores máximos con una línea\n",
    "for i in [280, 599]:\n",
    "    ax[0].axvline(x = lam[i], color='k', ls='--', lw='1.0')\n",
    "    ax[1].axvline(x = lam[i], color='k', ls='--', lw='1.0')\n",
    "    ax[0].text(lam[i]*1.02,eps1[i].imag,r'%.3f $\\mu$m'% lam[i], fontsize='10')\n",
    "\n",
    "for i in [0,1]:\n",
    "    ax[i].set_xlabel('Longitud de onda, $\\lambda$ ($\\mu$m)')\n",
    "    ax[i].grid()\n",
    "    ax[i].set_xlim(0.2,10)\n",
    "    ax[i].legend(frameon=False)\n",
    "ax[0].set_ylabel(r\"Constante dielectrica, $\\varepsilon = \\varepsilon'+ \\varepsilon''$\")\n",
    "ax[1].set_ylabel(r'Indice de refracción, $N = n + i\\kappa$')\n",
    "plt.show()"
   ]
  },
  {
   "cell_type": "code",
   "execution_count": 8,
   "id": "e793dcc9",
   "metadata": {
    "slideshow": {
     "slide_type": "-"
    },
    "tags": [
     "hide-input"
    ]
   },
   "outputs": [
    {
     "name": "stderr",
     "output_type": "stream",
     "text": [
      "/home/panxopanza/miniconda3/lib/python3.11/site-packages/empylib/nklib/nklib.py:75: UserWarning: Extrapolating from 0.100 to 0.200\n",
      "  warn('Extrapolating from %.3f to %.3f' % (lam[0], data[0,0]))\n"
     ]
    },
    {
     "data": {
      "image/png": "[encoded data removed]",
      "text/plain": [
       "<Figure size 1000x300 with 2 Axes>"
      ]
     },
     "metadata": {},
     "output_type": "display_data"
    }
   ],
   "source": [
    "showplot1()"
   ]
  },
  {
   "cell_type": "markdown",
   "id": "7cf5b0bb",
   "metadata": {
    "slideshow": {
     "slide_type": "fragment"
    }
   },
   "source": [
    "Notar que la resonancia en $\\lambda =$ 2.98 $\\mu$m (3351 cm$^{-1}$) no está presente en el espectro."
   ]
  },
  {
   "cell_type": "markdown",
   "id": "f4cf6867",
   "metadata": {
    "slideshow": {
     "slide_type": "fragment"
    }
   },
   "source": [
    "Este modo no es compatible con la oscilación de una onda electromagnética plana. Así la luz no interactúa con esta vibración y, por lo tanto, no se ve representada en el espectro del índice de refracción."
   ]
  },
  {
   "cell_type": "markdown",
   "id": "7563a9c6",
   "metadata": {
    "slideshow": {
     "slide_type": "slide"
    }
   },
   "source": [
    "## Interacción de la luz con sólidos\n",
    "El análisis anterior generalmente se aplica a gases, donde las moléculas no interactúan entre sí. En el caso de materiales sólidos, la interacción entre moléculas es fuerte, y genera bandas electrónicas de energía."
   ]
  },
  {
   "cell_type": "markdown",
   "id": "fc5bbf6d",
   "metadata": {
    "cell_style": "split",
    "slideshow": {
     "slide_type": "fragment"
    }
   },
   "source": [
    "- **Banda de valencia**: corresponde a la banda ocupada por electrones con el mayor nivel de energía. En esta banda los electrones permanecen en un estado \"ligado\" al núcleo.\n",
    "\n",
    "- **Banda de conducción**: corresponde a la banda no ocupada por electrones con el menor nivel de energía. En esta banda los electrones se mueven líbremente por el material\n",
    "\n",
    "- **Banda prohibida (*band-gap*)**: Es la diferencia entre la banda de conducción y la banda de valencia"
   ]
  },
  {
   "cell_type": "markdown",
   "id": "5b106497",
   "metadata": {
    "cell_style": "split"
   },
   "source": [
    "<img src=\"./images/bandas_electronicas.png\" width=\"300px\" align= center>"
   ]
  },
  {
   "cell_type": "markdown",
   "id": "87545d36",
   "metadata": {
    "cell_style": "center",
    "slideshow": {
     "slide_type": "slide"
    }
   },
   "source": [
    "A partir de la separación entre la banda de conducción y la banda de valencia, podemos clasificar tres tipos de materiales en función de sus propiedades electrónicas:\n",
    "\n",
    "<img src=\"./images/energy_bands_clasification.png\" width=\"700px\" align= center>"
   ]
  },
  {
   "cell_type": "markdown",
   "id": "83b59b21",
   "metadata": {
    "slideshow": {
     "slide_type": "slide"
    }
   },
   "source": [
    "- **Conductor**, donde las bandas de conducción y valencia están traslapadas (bandgap = 0). En estos materiales, parte de los electrones están alojados en la banda de conducción y, por lo tanto, son capaces de conducir corriente eléctrica en presencia de un campo eléctrico.\n",
    "\n",
    "- **Semiconductor**, donde las bandas de conducción y valencia están separadas. Sin embargo, la energía del bandgap es relativamente pequeña, de manera que un electrón puede ser llevado a la banda de conducción mediante un potencial eléctrico razonable, o mediante una onda electromagnética.\n",
    "\n",
    "- **Aislante**, donde las bandas de conducción y valencia están muy separadas. El umbral para excitar un electrón a la banda de conducción es demaciado grande y, por lo tanto, el material no es capaz de conducir corriente."
   ]
  },
  {
   "cell_type": "markdown",
   "id": "b2df41eb",
   "metadata": {
    "slideshow": {
     "slide_type": "fragment"
    }
   },
   "source": [
    "La respuesta óptica de cada tipo de material está condicionada por sus propiedades electrónicas"
   ]
  },
  {
   "cell_type": "markdown",
   "id": "c46ef750",
   "metadata": {
    "slideshow": {
     "slide_type": "slide"
    }
   },
   "source": [
    "### Aislantes (modelo de Lorentz)\n",
    "Debido a que los electrones en un aislante están fuertemente ligados al núcleo, la respuesta óptica de este material está condicionada por los modos de vibración de la red atómica. Así, la constante dieléctrica y el indice de refración siguen un comportamiento similar al modelo de Lorentz."
   ]
  },
  {
   "cell_type": "markdown",
   "id": "fe65eea6",
   "metadata": {
    "slideshow": {
     "slide_type": "fragment"
    }
   },
   "source": [
    "Por ejemplo, el sílice (SiO$_2$)"
   ]
  },
  {
   "cell_type": "markdown",
   "id": "211ced63",
   "metadata": {},
   "source": [
    "<img src=\"./images/silica_fig.png\" width=\"700px\" align= center>"
   ]
  },
  {
   "cell_type": "markdown",
   "id": "ec221342",
   "metadata": {
    "slideshow": {
     "slide_type": "slide"
    }
   },
   "source": [
    "Tiene un índice de refracción donde podemos ver con claridad los modos de resonancia típicos del modelo de Lorentz"
   ]
  },
  {
   "cell_type": "code",
   "execution_count": 9,
   "id": "9cf6d68e",
   "metadata": {
    "slideshow": {
     "slide_type": "skip"
    },
    "tags": [
     "hide-input"
    ]
   },
   "outputs": [],
   "source": [
    "%%capture showplot1\n",
    "import numpy as np\n",
    "import matplotlib.pyplot as plt\n",
    "import empylib.nklib as nk\n",
    "\n",
    "lam = np.linspace(0.2,30,1000)                          # espectro de longitudes de onda\n",
    "N1   = nk.SiO2(lam)                                     # índice de refracción\n",
    "eps1 = N1**2                                            # constante dieléctrica\n",
    "\n",
    "# formateamos el lienzo para graficar\n",
    "fig, ax = plt.subplots(1,2)                             # número de ejes en la figura\n",
    "fig.set_size_inches(10, 3)                              # tamaño de la figura\n",
    "plt.rcParams['font.size'] = '10'                        # tamaño de fuente\n",
    "\n",
    "# Graficamos el resultado\n",
    "ax[0].plot(lam,eps1.real,'b',label=r\"$\\varepsilon'$\")   # constante dieléctrica (parte real)\n",
    "ax[0].plot(lam,eps1.imag,'r',label=r\"$\\varepsilon''$\")  # constante dieléctrica (parte imaginaria)\n",
    "ax[1].plot(lam,N1.real,'b',label=r\"$n$\")                # índice de refracción (parte real)\n",
    "ax[1].plot(lam,N1.imag,'r',label=r\"$\\kappa$\")           # índice de refracción (parte imaginaria)\n",
    "\n",
    "for i in [0,1]:\n",
    "    ax[i].set_xlabel('Longitud de onda, $\\lambda$ ($\\mu$m)')\n",
    "    ax[i].grid()\n",
    "    ax[i].legend(frameon=False)\n",
    "ax[0].set_ylabel(r\"Constante dielectrica, $\\varepsilon = \\varepsilon'+ \\varepsilon''$\")\n",
    "ax[1].set_ylabel(r'Indice de refracción, $N = n + i\\kappa$')\n",
    "plt.show()"
   ]
  },
  {
   "cell_type": "code",
   "execution_count": 10,
   "id": "1f22dda2",
   "metadata": {
    "slideshow": {
     "slide_type": "fragment"
    }
   },
   "outputs": [
    {
     "data": {
      "image/png": "[encoded data removed]",
      "text/plain": [
       "<Figure size 1000x300 with 2 Axes>"
      ]
     },
     "metadata": {},
     "output_type": "display_data"
    }
   ],
   "source": [
    "showplot1()"
   ]
  },
  {
   "cell_type": "markdown",
   "id": "3cb654bd",
   "metadata": {
    "slideshow": {
     "slide_type": "slide"
    }
   },
   "source": [
    "### Conductores (modelo de Drude)\n",
    "En este caso los electrónes se mueven libremente por la red atómica."
   ]
  },
  {
   "cell_type": "markdown",
   "id": "d19f5aef",
   "metadata": {
    "slideshow": {
     "slide_type": "fragment"
    }
   },
   "source": [
    "Podemos representar la interacción de los electrones libres con una onda electromagnética utilizando la ecuación de movimiento. En este caso, no hay fuerza de restauración ($kx = 0$), y la ecuación es:\n",
    "\n",
    "\\begin{equation*}\n",
    "m_e\\ddot{x} + m_e\\Gamma_e \\dot{x} = eE_0 e^{-i\\omega t},\n",
    "\\end{equation*}\n",
    "\n",
    "donde $m_e$, $e$ y $\\Gamma_e$ son, respectivamente, la masa, la carga elemental y la taza de decaimiento del electrón."
   ]
  },
  {
   "cell_type": "markdown",
   "id": "710b872b",
   "metadata": {
    "slideshow": {
     "slide_type": "slide"
    }
   },
   "source": [
    "Mediante un procedimiento similar al utilzado para el modelo de Lorentz, derivamos el **modelo de Drude** para conductores:\n",
    "\n",
    "\\begin{equation}\n",
    "\\varepsilon = \\varepsilon_\\infty - \\frac{\\omega_p^2}{\\omega^2 + i\\Gamma_e \\omega},\\quad\\mathrm{Modelo~de~Drude},\n",
    "\\end{equation}\n",
    "\n",
    "donde $\\omega_p^2 = \\frac{N_ee^2}{\\varepsilon_0 m}$ se conoce como frecuencia de plasma, y $N_e$ es la densidad de número de electrones. Similar al modelo de Lorentz, $\\varepsilon_\\infty$ representa la polarización neta del material."
   ]
  },
  {
   "cell_type": "markdown",
   "id": "0ced6571",
   "metadata": {
    "slideshow": {
     "slide_type": "slide"
    }
   },
   "source": [
    "Usaremos la función `drude` del módulo `empylib.nklib` para generar el índice de refracción y constante dielectrica a partir del modelo de Drude. *En el gráfico marcamos el equivalente a $\\omega_p$ en longitud de onda $\\lambda_p = 2\\pi c_0/\\omega_p$.*"
   ]
  },
  {
   "cell_type": "code",
   "execution_count": 11,
   "id": "9f227ccd",
   "metadata": {
    "slideshow": {
     "slide_type": "skip"
    },
    "tags": [
     "hide-input"
    ]
   },
   "outputs": [],
   "source": [
    "import numpy as np\n",
    "import matplotlib.pyplot as plt\n",
    "import empylib.nklib as nk\n",
    "import empylib as em\n",
    "\n",
    "def drude_model(epsinf,wp,gamma):\n",
    "    lam = np.linspace(1E-3,5,1000)    # longitudes de onda\n",
    "\n",
    "    # contruimos el modelo de Drude\n",
    "    N1 = nk.drude(epsinf,wp,gamma,lam)     # índice de refra]cción\n",
    "    eps1 = N1**2                           # constante dieléctrica\n",
    "\n",
    "    # formateamos el lienzo para graficar\n",
    "    fig, ax = plt.subplots(1,2)             # número de ejes en la figura\n",
    "    fig.set_size_inches(10, 3)              # tamaño de la figura\n",
    "    plt.rcParams['font.size'] = '10'        # tamaño de fuente\n",
    "\n",
    "    # graficamos constante dielectrica e índice de refracción\n",
    "    ax[0].plot(lam,eps1.real,'b',label=r\"$\\varepsilon'$\")\n",
    "    ax[0].plot(lam,eps1.imag,'r',label=r\"$\\varepsilon''$\")\n",
    "    ax[1].plot(lam,N1.real,'b',label=r\"$n$\")\n",
    "    ax[1].plot(lam,N1.imag,'r',label=r\"$\\kappa$\")\n",
    "    \n",
    "    # marcar línea de frecuencia natural\n",
    "    lam_p = em.convert_units(wp,'eV','um')\n",
    "    ax[0].axvline(x = lam_p, color='k', ls='--', lw='1.0')  \n",
    "    ax[0].text(lam_p*1.1,-9,r'$\\lambda_p =%.3f$ $\\mu$m' % lam_p, fontsize='10', color='k')\n",
    "\n",
    "    for i in [0,1]:\n",
    "        ax[i].set_xlabel('Longitud de onda, $\\lambda$ ($\\mu$m)')\n",
    "        ax[i].grid()\n",
    "        ax[i].legend(frameon=False)\n",
    "        ax[i].set_xlim(0,5.0)\n",
    "    ax[0].set_ylabel(r\"Constante dielectrica, $\\varepsilon = \\varepsilon'+ \\varepsilon''$\")\n",
    "    ax[1].set_ylabel(r'Indice de refracción, $N = n + i\\kappa$')\n",
    "    ax[0].set_ylim(-10,10)\n",
    "    ax[1].set_ylim(0,5)\n",
    "    plt.show()"
   ]
  },
  {
   "cell_type": "code",
   "execution_count": 12,
   "id": "d16caa41",
   "metadata": {
    "tags": [
     "hide-input"
    ]
   },
   "outputs": [
    {
     "data": {
      "application/vnd.jupyter.widget-view+json": {
       "model_id": "b99fe2255ddc41d7b884d3f135f29c5d",
       "version_major": 2,
       "version_minor": 0
      },
      "text/plain": [
       "interactive(children=(FloatSlider(value=1.0, description='epsinf', max=5.0, min=1.0), FloatSlider(value=1.0, d…"
      ]
     },
     "metadata": {},
     "output_type": "display_data"
    }
   ],
   "source": [
    "from ipywidgets import interact\n",
    "\n",
    "@interact( epsinf=(1,5,0.1), \n",
    "           wp=(0.4,2.0,0.05), \n",
    "           gamma=(0.01,0.2,0.01))\n",
    "def g(epsinf=1,wp=1.0, gamma=0.1):\n",
    "    return drude_model(epsinf,wp,gamma)"
   ]
  },
  {
   "cell_type": "markdown",
   "id": "70eb89e5",
   "metadata": {
    "slideshow": {
     "slide_type": "fragment"
    }
   },
   "source": [
    "Notar que en modelo de Drude la condición $\\varepsilon' < 0$ se manifiesta en el índice de refracción como $\\kappa > n$. Esta condición se da cuando $\\lambda_p \\lesssim \\lambda$"
   ]
  },
  {
   "cell_type": "markdown",
   "id": "d5ff724d",
   "metadata": {
    "slideshow": {
     "slide_type": "slide"
    }
   },
   "source": [
    "Cuando $\\kappa > n$ la reflectividad aumenta significativamente. Esto explica la alta reflectividad en los conductores eléctricos"
   ]
  },
  {
   "cell_type": "code",
   "execution_count": 13,
   "id": "acf8f689",
   "metadata": {
    "slideshow": {
     "slide_type": "skip"
    },
    "tags": [
     "hide-input"
    ]
   },
   "outputs": [],
   "source": [
    "%%capture showplot3\n",
    "\n",
    "import numpy as np\n",
    "import matplotlib.pyplot as plt\n",
    "from empylib.waveoptics import interface\n",
    "import empylib as em\n",
    "import empylib.nklib as nk\n",
    "\n",
    "def drude_reflection(epsinf,wp,gamma):\n",
    "    lam = np.linspace(1E-3,5,1000)    # longitudes de onda\n",
    "\n",
    "    # contruimos el modelo de Drude\n",
    "    n2 = nk.drude(epsinf,wp,gamma,lam)     # índice de refracción\n",
    "    \n",
    "    # índice de refracción aire\n",
    "    n1 = np.ones(n2.shape)                    \n",
    "\n",
    "    # Reflectividad en una interface entre un material de Drude y aire\n",
    "    Rp = interface(0,n1,n2, pol='TM')[0] # TM\n",
    "    Rs = interface(0,n1,n2, pol='TE')[0] # TE\n",
    "\n",
    "    # formateamos el lienzo para graficar\n",
    "    fig, ax = plt.subplots(1,2)             # número de ejes en la figura\n",
    "    fig.set_size_inches(10, 3)              # tamaño de la figura\n",
    "    plt.rcParams['font.size'] = '10'        # tamaño de fuente\n",
    "\n",
    "    # graficamos constante dielectrica e índice de refracción\n",
    "    ax[0].plot(lam,n2.real,'b',label=r\"$n$\")\n",
    "    ax[0].plot(lam,n2.imag,'r',label=r\"$\\kappa$\")\n",
    "    ax[1].plot(lam,Rp, label='$R_\\mathrm{TM}$', color='red', lw=3.0)\n",
    "    ax[1].plot(lam,Rs, label='$R_\\mathrm{TE}$', color='blue', lw=2.0, ls='--')\n",
    "    \n",
    "    \n",
    "    # marcar línea de frecuencia natural\n",
    "    lam_p = em.convert_units(wp,'eV','um')\n",
    "    ax[0].axvline(x = lam_p, color='k', ls='--', lw='1.0')  \n",
    "    ax[0].text(lam_p*1.1,4,r'$\\lambda_p =%.3f$ $\\mu$m' % lam_p, fontsize='10', color='k')\n",
    "\n",
    "    for i in [0,1]:\n",
    "        ax[i].set_xlabel('Longitud de onda, $\\lambda$ ($\\mu$m)')\n",
    "        ax[i].grid()\n",
    "        ax[i].legend(frameon=False)\n",
    "        ax[i].set_xlim(0,5.0)\n",
    "    ax[0].set_ylabel(r'Indice de refracción, $N = n + i\\kappa$')\n",
    "    ax[1].set_ylabel('Reflectividad')\n",
    "    ax[0].set_ylim(0,5)\n",
    "    ax[1].set_ylim(0,1.0)\n",
    "    plt.show()"
   ]
  },
  {
   "cell_type": "code",
   "execution_count": 14,
   "id": "a609041d",
   "metadata": {
    "tags": [
     "hide-input"
    ]
   },
   "outputs": [
    {
     "data": {
      "application/vnd.jupyter.widget-view+json": {
       "model_id": "195b727637b945469e77bff0635a3264",
       "version_major": 2,
       "version_minor": 0
      },
      "text/plain": [
       "interactive(children=(FloatSlider(value=1.0, description='epsinf', max=5.0, min=1.0), FloatSlider(value=1.0, d…"
      ]
     },
     "metadata": {},
     "output_type": "display_data"
    }
   ],
   "source": [
    "from ipywidgets import interact\n",
    "\n",
    "@interact( epsinf=(1,5,0.1), \n",
    "           wp=(0.4,2.0,0.05), \n",
    "           gamma=(0.01,0.2,0.01))\n",
    "def g(epsinf=1,wp=1.0, gamma=0.1):\n",
    "    return drude_reflection(epsinf,wp,gamma)"
   ]
  },
  {
   "cell_type": "markdown",
   "id": "49a27d3c",
   "metadata": {
    "slideshow": {
     "slide_type": "slide"
    }
   },
   "source": [
    "En general, los metales pueden ser bien representados por el modelo de Drude. En general, $\\omega_p$ se ubica en el espectro UV y, por lo tanto, reflejan la luz visible (efecto espejo)"
   ]
  },
  {
   "cell_type": "markdown",
   "id": "8daa8842",
   "metadata": {
    "slideshow": {
     "slide_type": "fragment"
    }
   },
   "source": [
    "Por ejemplo, en el caso de aluminio $\\omega_p = 15~\\mathrm{eV}\\approx 90~\\mathrm{nm}$"
   ]
  },
  {
   "cell_type": "code",
   "execution_count": 15,
   "id": "04cf0f46",
   "metadata": {
    "slideshow": {
     "slide_type": "skip"
    },
    "tags": [
     "hide-input"
    ]
   },
   "outputs": [],
   "source": [
    "%%capture showplot4\n",
    "import numpy as np\n",
    "import matplotlib.pyplot as plt\n",
    "import empylib.nklib as nk\n",
    "\n",
    "# índice de refracción y constante dielectrica aluminio\n",
    "lam = np.linspace(0.01,1.0,1000)        # espectro de longitudes de onda (um)\n",
    "N1 = nk.Al(lam)                         # índice de refracción\n",
    "eps1 = N1**2                            # constante dieléctrica\n",
    "\n",
    "# formateamos el lienzo para graficar\n",
    "fig, ax = plt.subplots(1,2)             # número de ejes en la figura\n",
    "fig.set_size_inches(10, 3)              # tamaño de la figura\n",
    "plt.rcParams['font.size'] = '10'        # tamaño de fuente\n",
    "\n",
    "# graficamos\n",
    "ax[0].plot(lam,eps1.real,'b',label=r\"$\\varepsilon'$\")\n",
    "ax[0].plot(lam,eps1.imag,'r',label=r\"$\\varepsilon''$\")\n",
    "ax[1].plot(lam,N1.real,'b',label=r\"$n$\")\n",
    "ax[1].plot(lam,N1.imag,'r',label=r\"$\\kappa$\")\n",
    "\n",
    "# formateamos los ejes\n",
    "for i in [0,1]:\n",
    "    ax[i].set_xlabel('Longitud de onda, $\\lambda$ ($\\mu$m)')\n",
    "    ax[i].grid()\n",
    "    ax[i].set_xlim(0.01,1.0)\n",
    "    ax[i].legend(frameon=False)\n",
    "ax[0].set_ylabel(r\"Constante dielectrica, $\\varepsilon = \\varepsilon'+ \\varepsilon''$\")\n",
    "ax[1].set_ylabel(r'Indice de refracción, $N = n + i\\kappa$')\n",
    "plt.show()"
   ]
  },
  {
   "cell_type": "code",
   "execution_count": 16,
   "id": "7661a2f2",
   "metadata": {
    "tags": [
     "hide-input"
    ]
   },
   "outputs": [
    {
     "data": {
      "image/png": "[encoded data removed]",
      "text/plain": [
       "<Figure size 1000x300 with 2 Axes>"
      ]
     },
     "metadata": {},
     "output_type": "display_data"
    }
   ],
   "source": [
    "showplot4()"
   ]
  },
  {
   "cell_type": "markdown",
   "id": "b48084ca",
   "metadata": {
    "slideshow": {
     "slide_type": "fragment"
    }
   },
   "source": [
    "Notemos como para $\\lambda \\approx 0.8$ $\\mu$m, la respuesta del material se desvía del modelo de Drude. Esta respuesta esta asociada a un modo de vibración (modelo de Lorentz)."
   ]
  },
  {
   "cell_type": "markdown",
   "id": "5444cb76",
   "metadata": {
    "slideshow": {
     "slide_type": "slide"
    }
   },
   "source": [
    "### Semiconductores (absorción interbanda)"
   ]
  },
  {
   "cell_type": "markdown",
   "id": "86f84d7a",
   "metadata": {
    "cell_style": "split"
   },
   "source": [
    "En este caso las interacciones con ondas electromagnéticas están dictadas por bandas de absorción asociadas a la excitación de electrones de valencia a la banda de conducción. \n",
    "\n",
    "Este fenómeno se conoce como **absorpción interbanda**, y ocurre cuando la energía del fotón $\\hbar\\omega$ ($\\hbar = 6.58\\times 10^16$ eV$\\cdot$s) es superior al bandgap del material."
   ]
  },
  {
   "cell_type": "markdown",
   "id": "e7cf5421",
   "metadata": {
    "cell_style": "split"
   },
   "source": [
    "<img src=\"./images/photoexcited_electrons.png\" width=\"400px\" align= center>"
   ]
  },
  {
   "cell_type": "markdown",
   "id": "ab66c449",
   "metadata": {
    "slideshow": {
     "slide_type": "slide"
    }
   },
   "source": [
    "Los semiconductores son los materiales fundamentales en transistores, LED y celdas fotovoltaicas. El semiconductor más conocido es el silicio (Si).\n",
    "\n",
    "<img src=\"./images/silicon_fig.png\" width=\"800px\" align= center>"
   ]
  },
  {
   "cell_type": "markdown",
   "id": "c2c3cdd1",
   "metadata": {
    "slideshow": {
     "slide_type": "slide"
    }
   },
   "source": [
    "El índice de refracción del silicio es:\n",
    "\n",
    "<img src=\"./images/si_nk.png\" width=\"700px\" align= center>"
   ]
  },
  {
   "cell_type": "markdown",
   "id": "7d6ebbb8",
   "metadata": {
    "slideshow": {
     "slide_type": "slide"
    }
   },
   "source": [
    "En general, los materiales pueden presentar más de un tipo de respuesta."
   ]
  },
  {
   "cell_type": "markdown",
   "id": "a22d914a",
   "metadata": {
    "cell_style": "center",
    "slideshow": {
     "slide_type": "fragment"
    }
   },
   "source": [
    "Por ejemplo, el oro tiene absorción interbanda en longitudes de onda $\\lambda < 0.5$ $\\mu$m, combinado con el modelo de Drude.\n",
    "<img src=\"./images/gold_nk.png\" width=\"800px\" align= center>"
   ]
  },
  {
   "cell_type": "markdown",
   "id": "8383d578",
   "metadata": {
    "cell_style": "center",
    "slideshow": {
     "slide_type": "slide"
    }
   },
   "source": [
    "Debido a esta respuesta, el oro absorbe las longitudes de onda correspondientes al azul y violeta, y refleja el resto de los colores.\n",
    "\n",
    "La siguiente figura muestra el color del oro según el ángulo de incidencia en base al espectro de reflexión de una interface aire/oro."
   ]
  },
  {
   "cell_type": "code",
   "execution_count": 17,
   "id": "3eacd1a1",
   "metadata": {
    "slideshow": {
     "slide_type": "skip"
    },
    "tags": [
     "hide-input"
    ]
   },
   "outputs": [],
   "source": [
    "%%capture showplot5\n",
    "import numpy as np\n",
    "import matplotlib.pyplot as plt\n",
    "from empylib.waveoptics import interface\n",
    "from empylib.ref_spectra import AM15\n",
    "from empylib.ref_spectra import color_system as cs\n",
    "cs = cs.hdtv\n",
    "\n",
    "# creamos índices de refracción\n",
    "lam = np.linspace(0.3,0.8,81)   # espectro de longitudes de onda (en um)\n",
    "n2 = nk.gold(lam)               # índice de refracción oro\n",
    "n1 = np.ones(n2.shape)          # índice de refracción aire\n",
    "\n",
    "# Reflectividad en interface función del ángulo \"tt\"\n",
    "Rp = lambda tt : interface(tt, n1,n2, pol='TM')[0]\n",
    "Rs = lambda tt : interface(tt, n1,n2, pol='TE')[0]\n",
    "\n",
    "# formateamos la figura\n",
    "fig, ax = plt.subplots()                # número de ejes en la figura\n",
    "fig.set_size_inches(6, 3)               # tamaño de la figura\n",
    "plt.rcParams['font.size'] = '12'        # tamaño de fuente        \n",
    "\n",
    "# graficamos el color reflejado según el ángulo de incidencia\n",
    "theta = np.linspace(0,90,100)           # angulo de incidencia\n",
    "for i in range(len(theta)): \n",
    "    R = 0.5*Rp(np.radians(theta[i])) + 0.5*Rs(np.radians(theta[i]))\n",
    "    Irad = R*AM15(lam)\n",
    "    html_rgb = cs.spec_to_rgb(Irad, lam, out_fmt='html')\n",
    "    ax.axvline(theta[i], color=html_rgb, linewidth=6) \n",
    "ax.set_xlim([min(theta),max(theta)])\n",
    "ax.set_ylim([0,1.0])\n",
    "ax.axes.yaxis.set_visible(False)\n",
    "ax.set_xlabel('Ángulo de incidencia (deg)')\n",
    "plt.show()"
   ]
  },
  {
   "cell_type": "code",
   "execution_count": 18,
   "id": "fa43c234",
   "metadata": {
    "tags": [
     "hide-input"
    ]
   },
   "outputs": [
    {
     "data": {
      "image/png": "[encoded data removed]",
      "text/plain": [
       "<Figure size 600x300 with 1 Axes>"
      ]
     },
     "metadata": {},
     "output_type": "display_data"
    }
   ],
   "source": [
    "showplot5()"
   ]
  },
  {
   "cell_type": "markdown",
   "id": "76782c20",
   "metadata": {
    "slideshow": {
     "slide_type": "slide"
    }
   },
   "source": [
    "Otro ejemplo es el dioxido de titanio (TiO$_2$), el cual presenta absorción interbanda en el espectro ultravioleta, y oscilaciones de Lorentz en el infrarojo.\n",
    "\n",
    "<img src=\"./images/tio2_nk.png\" width=\"700px\" align= center>"
   ]
  },
  {
   "cell_type": "markdown",
   "id": "0afa9f3a",
   "metadata": {
    "slideshow": {
     "slide_type": "slide"
    }
   },
   "source": [
    "Debido a la absorcion UV, TiO$_2$ es muy utilizado en cremas para protección solar.\n",
    "\n",
    "<img src=\"./images/tio2_fig.png\" width=\"800px\" align= center>"
   ]
  },
  {
   "cell_type": "markdown",
   "id": "17c1dc23",
   "metadata": {
    "slideshow": {
     "slide_type": "slide"
    }
   },
   "source": [
    "## Referencias\n",
    "- Rao S. S. **Chapter 4 - Vibration Under General Forcing Conditions** in *Mechanical Vibrations*, 6th Ed, Pearson, 2018\n",
    "\n",
    "- Griffths D., **Chapter 4.1 - Polarization** in *Introduction to Electrodynamics*, 4th Ed, Pearson, 2013\n",
    "\n",
    "- Simmons J. and Potter K., **Chapter 2 and 3** in *Optical Materials*, 1st Ed, Academic Press, 2000"
   ]
  }
 ],
 "metadata": {
  "celltoolbar": "Slideshow",
  "kernelspec": {
   "display_name": "Python 3 (ipykernel)",
   "language": "python",
   "name": "python3"
  },
  "language_info": {
   "codemirror_mode": {
    "name": "ipython",
    "version": 3
   },
   "file_extension": ".py",
   "mimetype": "text/x-python",
   "name": "python",
   "nbconvert_exporter": "python",
   "pygments_lexer": "ipython3",
   "version": "3.11.6"
  },
  "latex_envs": {
   "LaTeX_envs_menu_present": false,
   "autoclose": false,
   "autocomplete": false,
   "bibliofile": "biblio.bib",
   "cite_by": "apalike",
   "current_citInitial": 1,
   "eqLabelWithNumbers": true,
   "eqNumInitial": 2,
   "hotkeys": {
    "equation": "Ctrl-E",
    "itemize": "Ctrl-I"
   },
   "labels_anchors": false,
   "latex_user_defs": false,
   "report_style_numbering": false,
   "user_envs_cfg": true
  },
  "rise": {
   "scroll": true
  },
  "toc": {
   "base_numbering": 1,
   "nav_menu": {},
   "number_sections": true,
   "sideBar": true,
   "skip_h1_title": true,
   "title_cell": "Tabla de contenidos",
   "title_sidebar": "Contenidos",
   "toc_cell": false,
   "toc_position": {
    "height": "calc(100% - 180px)",
    "left": "10px",
    "top": "150px",
    "width": "307.2px"
   },
   "toc_section_display": true,
   "toc_window_display": false
  },
  "varInspector": {
   "cols": {
    "lenName": 16,
    "lenType": 16,
    "lenVar": 40
   },
   "kernels_config": {
    "python": {
     "delete_cmd_postfix": "",
     "delete_cmd_prefix": "del ",
     "library": "var_list.py",
     "varRefreshCmd": "print(var_dic_list())"
    },
    "r": {
     "delete_cmd_postfix": ") ",
     "delete_cmd_prefix": "rm(",
     "library": "var_list.r",
     "varRefreshCmd": "cat(var_dic_list()) "
    }
   },
   "types_to_exclude": [
    "module",
    "function",
    "builtin_function_or_method",
    "instance",
    "_Feature"
   ],
   "window_display": false
  },
  "widgets": {
   "application/vnd.jupyter.widget-state+json": {
    "state": {
     "064b56f67d2640d682f709871e93c3f3": {
      "model_module": "@jupyter-widgets/controls",
      "model_module_version": "2.0.0",
      "model_name": "SliderStyleModel",
      "state": {
       "_model_module": "@jupyter-widgets/controls",
       "_model_module_version": "2.0.0",
       "_model_name": "SliderStyleModel",
       "_view_count": null,
       "_view_module": "@jupyter-widgets/base",
       "_view_module_version": "2.0.0",
       "_view_name": "StyleView",
       "description_width": "",
       "handle_color": null
      }
     },
     "0a7c9867d31b4603961c041b548b386a": {
      "model_module": "@jupyter-widgets/controls",
      "model_module_version": "2.0.0",
      "model_name": "FloatSliderModel",
      "state": {
       "_dom_classes": [],
       "_model_module": "@jupyter-widgets/controls",
       "_model_module_version": "2.0.0",
       "_model_name": "FloatSliderModel",
       "_view_count": null,
       "_view_module": "@jupyter-widgets/controls",
       "_view_module_version": "2.0.0",
       "_view_name": "FloatSliderView",
       "behavior": "drag-tap",
       "continuous_update": true,
       "description": "wp",
       "description_allow_html": false,
       "disabled": false,
       "layout": "IPY_MODEL_a03d5ee7843a49e4bdb7ce084ee978d6",
       "max": 2.0,
       "min": 0.4,
       "orientation": "horizontal",
       "readout": true,
       "readout_format": ".2f",
       "step": 0.05,
       "style": "IPY_MODEL_d5b9eb3e425c48688572428eeda37913",
       "tabbable": null,
       "tooltip": null,
       "value": 1.0
      }
     },
     "1440765cbaed463780468f41c33618b3": {
      "model_module": "@jupyter-widgets/controls",
      "model_module_version": "2.0.0",
      "model_name": "FloatSliderModel",
      "state": {
       "_dom_classes": [],
       "_model_module": "@jupyter-widgets/controls",
       "_model_module_version": "2.0.0",
       "_model_name": "FloatSliderModel",
       "_view_count": null,
       "_view_module": "@jupyter-widgets/controls",
       "_view_module_version": "2.0.0",
       "_view_name": "FloatSliderView",
       "behavior": "drag-tap",
       "continuous_update": true,
       "description": "wp",
       "description_allow_html": false,
       "disabled": false,
       "layout": "IPY_MODEL_ffc25fcf2a124e32a24898c4b19aa758",
       "max": 1.0,
       "min": 0.3,
       "orientation": "horizontal",
       "readout": true,
       "readout_format": ".2f",
       "step": 0.1,
       "style": "IPY_MODEL_f4b51d30ce8b41b0bffcba9b87a5d455",
       "tabbable": null,
       "tooltip": null,
       "value": 0.8
      }
     },
     "195b727637b945469e77bff0635a3264": {
      "model_module": "@jupyter-widgets/controls",
      "model_module_version": "2.0.0",
      "model_name": "VBoxModel",
      "state": {
       "_dom_classes": [
        "widget-interact"
       ],
       "_model_module": "@jupyter-widgets/controls",
       "_model_module_version": "2.0.0",
       "_model_name": "VBoxModel",
       "_view_count": null,
       "_view_module": "@jupyter-widgets/controls",
       "_view_module_version": "2.0.0",
       "_view_name": "VBoxView",
       "box_style": "",
       "children": [
        "IPY_MODEL_602327b68e604718b4a87d17282faf84",
        "IPY_MODEL_adf5af2433554c84a3b10b3da090ca83",
        "IPY_MODEL_aab9f9b3ee064101aa714d057263fe78",
        "IPY_MODEL_7a9d560b29a14b019584c7e7919f24a5"
       ],
       "layout": "IPY_MODEL_c62924a6e3164ecca44462761fddfd7f",
       "tabbable": null,
       "tooltip": null
      }
     },
     "1f770ab6b321420091a2405eeb1bf1ae": {
      "model_module": "@jupyter-widgets/base",
      "model_module_version": "2.0.0",
      "model_name": "LayoutModel",
      "state": {
       "_model_module": "@jupyter-widgets/base",
       "_model_module_version": "2.0.0",
       "_model_name": "LayoutModel",
       "_view_count": null,
       "_view_module": "@jupyter-widgets/base",
       "_view_module_version": "2.0.0",
       "_view_name": "LayoutView",
       "align_content": null,
       "align_items": null,
       "align_self": null,
       "border_bottom": null,
       "border_left": null,
       "border_right": null,
       "border_top": null,
       "bottom": null,
       "display": null,
       "flex": null,
       "flex_flow": null,
       "grid_area": null,
       "grid_auto_columns": null,
       "grid_auto_flow": null,
       "grid_auto_rows": null,
       "grid_column": null,
       "grid_gap": null,
       "grid_row": null,
       "grid_template_areas": null,
       "grid_template_columns": null,
       "grid_template_rows": null,
       "height": null,
       "justify_content": null,
       "justify_items": null,
       "left": null,
       "margin": null,
       "max_height": null,
       "max_width": null,
       "min_height": null,
       "min_width": null,
       "object_fit": null,
       "object_position": null,
       "order": null,
       "overflow": null,
       "padding": null,
       "right": null,
       "top": null,
       "visibility": null,
       "width": null
      }
     },
     "20f87b9d768e4b39a9d721751fb7fb67": {
      "model_module": "@jupyter-widgets/controls",
      "model_module_version": "2.0.0",
      "model_name": "SliderStyleModel",
      "state": {
       "_model_module": "@jupyter-widgets/controls",
       "_model_module_version": "2.0.0",
       "_model_name": "SliderStyleModel",
       "_view_count": null,
       "_view_module": "@jupyter-widgets/base",
       "_view_module_version": "2.0.0",
       "_view_name": "StyleView",
       "description_width": "",
       "handle_color": null
      }
     },
     "24ba1938854d48b29ceb2b603ec55f2a": {
      "model_module": "@jupyter-widgets/output",
      "model_module_version": "1.0.0",
      "model_name": "OutputModel",
      "state": {
       "_dom_classes": [],
       "_model_module": "@jupyter-widgets/output",
       "_model_module_version": "1.0.0",
       "_model_name": "OutputModel",
       "_view_count": null,
       "_view_module": "@jupyter-widgets/output",
       "_view_module_version": "1.0.0",
       "_view_name": "OutputView",
       "layout": "IPY_MODEL_f18343bb6b7c4ac18d3f20a5c3faf0f0",
       "msg_id": "",
       "outputs": [
        {
         "data": {
          "image/png": "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",
          "text/plain": "<Figure size 1000x300 with 2 Axes>"
         },
         "metadata": {},
         "output_type": "display_data"
        }
       ],
       "tabbable": null,
       "tooltip": null
      }
     },
     "2e9ac98b6d9a41a1995c8fe88c2947d4": {
      "model_module": "@jupyter-widgets/controls",
      "model_module_version": "2.0.0",
      "model_name": "SliderStyleModel",
      "state": {
       "_model_module": "@jupyter-widgets/controls",
       "_model_module_version": "2.0.0",
       "_model_name": "SliderStyleModel",
       "_view_count": null,
       "_view_module": "@jupyter-widgets/base",
       "_view_module_version": "2.0.0",
       "_view_name": "StyleView",
       "description_width": "",
       "handle_color": null
      }
     },
     "2f3f642cf9c142a798d4a26a7ab2b667": {
      "model_module": "@jupyter-widgets/base",
      "model_module_version": "2.0.0",
      "model_name": "LayoutModel",
      "state": {
       "_model_module": "@jupyter-widgets/base",
       "_model_module_version": "2.0.0",
       "_model_name": "LayoutModel",
       "_view_count": null,
       "_view_module": "@jupyter-widgets/base",
       "_view_module_version": "2.0.0",
       "_view_name": "LayoutView",
       "align_content": null,
       "align_items": null,
       "align_self": null,
       "border_bottom": null,
       "border_left": null,
       "border_right": null,
       "border_top": null,
       "bottom": null,
       "display": null,
       "flex": null,
       "flex_flow": null,
       "grid_area": null,
       "grid_auto_columns": null,
       "grid_auto_flow": null,
       "grid_auto_rows": null,
       "grid_column": null,
       "grid_gap": null,
       "grid_row": null,
       "grid_template_areas": null,
       "grid_template_columns": null,
       "grid_template_rows": null,
       "height": null,
       "justify_content": null,
       "justify_items": null,
       "left": null,
       "margin": null,
       "max_height": null,
       "max_width": null,
       "min_height": null,
       "min_width": null,
       "object_fit": null,
       "object_position": null,
       "order": null,
       "overflow": null,
       "padding": null,
       "right": null,
       "top": null,
       "visibility": null,
       "width": null
      }
     },
     "3a7ca8953e5947adb567ebad0a5ee325": {
      "model_module": "@jupyter-widgets/base",
      "model_module_version": "2.0.0",
      "model_name": "LayoutModel",
      "state": {
       "_model_module": "@jupyter-widgets/base",
       "_model_module_version": "2.0.0",
       "_model_name": "LayoutModel",
       "_view_count": null,
       "_view_module": "@jupyter-widgets/base",
       "_view_module_version": "2.0.0",
       "_view_name": "LayoutView",
       "align_content": null,
       "align_items": null,
       "align_self": null,
       "border_bottom": null,
       "border_left": null,
       "border_right": null,
       "border_top": null,
       "bottom": null,
       "display": null,
       "flex": null,
       "flex_flow": null,
       "grid_area": null,
       "grid_auto_columns": null,
       "grid_auto_flow": null,
       "grid_auto_rows": null,
       "grid_column": null,
       "grid_gap": null,
       "grid_row": null,
       "grid_template_areas": null,
       "grid_template_columns": null,
       "grid_template_rows": null,
       "height": null,
       "justify_content": null,
       "justify_items": null,
       "left": null,
       "margin": null,
       "max_height": null,
       "max_width": null,
       "min_height": null,
       "min_width": null,
       "object_fit": null,
       "object_position": null,
       "order": null,
       "overflow": null,
       "padding": null,
       "right": null,
       "top": null,
       "visibility": null,
       "width": null
      }
     },
     "3f59191f941c4011b963b5eaa896ab4f": {
      "model_module": "@jupyter-widgets/controls",
      "model_module_version": "2.0.0",
      "model_name": "FloatSliderModel",
      "state": {
       "_dom_classes": [],
       "_model_module": "@jupyter-widgets/controls",
       "_model_module_version": "2.0.0",
       "_model_name": "FloatSliderModel",
       "_view_count": null,
       "_view_module": "@jupyter-widgets/controls",
       "_view_module_version": "2.0.0",
       "_view_name": "FloatSliderView",
       "behavior": "drag-tap",
       "continuous_update": true,
       "description": "epsinf",
       "description_allow_html": false,
       "disabled": false,
       "layout": "IPY_MODEL_fbbc51ef52bb4be4bae7a5783fd57c8a",
       "max": 10.0,
       "min": 1.0,
       "orientation": "horizontal",
       "readout": true,
       "readout_format": ".2f",
       "step": 0.5,
       "style": "IPY_MODEL_ed282cb552b7451188963d9a1c4dbbc9",
       "tabbable": null,
       "tooltip": null,
       "value": 7.0
      }
     },
     "411433190ad2461bb39de6c91f9f5d6e": {
      "model_module": "@jupyter-widgets/controls",
      "model_module_version": "2.0.0",
      "model_name": "SliderStyleModel",
      "state": {
       "_model_module": "@jupyter-widgets/controls",
       "_model_module_version": "2.0.0",
       "_model_name": "SliderStyleModel",
       "_view_count": null,
       "_view_module": "@jupyter-widgets/base",
       "_view_module_version": "2.0.0",
       "_view_name": "StyleView",
       "description_width": "",
       "handle_color": null
      }
     },
     "4a33e08f10144fd196b6828cbc5acb6c": {
      "model_module": "@jupyter-widgets/base",
      "model_module_version": "2.0.0",
      "model_name": "LayoutModel",
      "state": {
       "_model_module": "@jupyter-widgets/base",
       "_model_module_version": "2.0.0",
       "_model_name": "LayoutModel",
       "_view_count": null,
       "_view_module": "@jupyter-widgets/base",
       "_view_module_version": "2.0.0",
       "_view_name": "LayoutView",
       "align_content": null,
       "align_items": null,
       "align_self": null,
       "border_bottom": null,
       "border_left": null,
       "border_right": null,
       "border_top": null,
       "bottom": null,
       "display": null,
       "flex": null,
       "flex_flow": null,
       "grid_area": null,
       "grid_auto_columns": null,
       "grid_auto_flow": null,
       "grid_auto_rows": null,
       "grid_column": null,
       "grid_gap": null,
       "grid_row": null,
       "grid_template_areas": null,
       "grid_template_columns": null,
       "grid_template_rows": null,
       "height": null,
       "justify_content": null,
       "justify_items": null,
       "left": null,
       "margin": null,
       "max_height": null,
       "max_width": null,
       "min_height": null,
       "min_width": null,
       "object_fit": null,
       "object_position": null,
       "order": null,
       "overflow": null,
       "padding": null,
       "right": null,
       "top": null,
       "visibility": null,
       "width": null
      }
     },
     "4ea8cce17b014b10acf5e321b6587e99": {
      "model_module": "@jupyter-widgets/controls",
      "model_module_version": "2.0.0",
      "model_name": "FloatSliderModel",
      "state": {
       "_dom_classes": [],
       "_model_module": "@jupyter-widgets/controls",
       "_model_module_version": "2.0.0",
       "_model_name": "FloatSliderModel",
       "_view_count": null,
       "_view_module": "@jupyter-widgets/controls",
       "_view_module_version": "2.0.0",
       "_view_name": "FloatSliderView",
       "behavior": "drag-tap",
       "continuous_update": true,
       "description": "c",
       "description_allow_html": false,
       "disabled": false,
       "layout": "IPY_MODEL_1f770ab6b321420091a2405eeb1bf1ae",
       "max": 0.2,
       "min": 0.02,
       "orientation": "horizontal",
       "readout": true,
       "readout_format": ".2f",
       "step": 0.01,
       "style": "IPY_MODEL_20f87b9d768e4b39a9d721751fb7fb67",
       "tabbable": null,
       "tooltip": null,
       "value": 0.02
      }
     },
     "52d055361b774b81a041a6534ed20661": {
      "model_module": "@jupyter-widgets/base",
      "model_module_version": "2.0.0",
      "model_name": "LayoutModel",
      "state": {
       "_model_module": "@jupyter-widgets/base",
       "_model_module_version": "2.0.0",
       "_model_name": "LayoutModel",
       "_view_count": null,
       "_view_module": "@jupyter-widgets/base",
       "_view_module_version": "2.0.0",
       "_view_name": "LayoutView",
       "align_content": null,
       "align_items": null,
       "align_self": null,
       "border_bottom": null,
       "border_left": null,
       "border_right": null,
       "border_top": null,
       "bottom": null,
       "display": null,
       "flex": null,
       "flex_flow": null,
       "grid_area": null,
       "grid_auto_columns": null,
       "grid_auto_flow": null,
       "grid_auto_rows": null,
       "grid_column": null,
       "grid_gap": null,
       "grid_row": null,
       "grid_template_areas": null,
       "grid_template_columns": null,
       "grid_template_rows": null,
       "height": null,
       "justify_content": null,
       "justify_items": null,
       "left": null,
       "margin": null,
       "max_height": null,
       "max_width": null,
       "min_height": null,
       "min_width": null,
       "object_fit": null,
       "object_position": null,
       "order": null,
       "overflow": null,
       "padding": null,
       "right": null,
       "top": null,
       "visibility": null,
       "width": null
      }
     },
     "56907c3cc0164f8e86c1f9c7a5868848": {
      "model_module": "@jupyter-widgets/controls",
      "model_module_version": "2.0.0",
      "model_name": "FloatSliderModel",
      "state": {
       "_dom_classes": [],
       "_model_module": "@jupyter-widgets/controls",
       "_model_module_version": "2.0.0",
       "_model_name": "FloatSliderModel",
       "_view_count": null,
       "_view_module": "@jupyter-widgets/controls",
       "_view_module_version": "2.0.0",
       "_view_name": "FloatSliderView",
       "behavior": "drag-tap",
       "continuous_update": true,
       "description": "gamma",
       "description_allow_html": false,
       "disabled": false,
       "layout": "IPY_MODEL_2f3f642cf9c142a798d4a26a7ab2b667",
       "max": 0.05,
       "min": 0.01,
       "orientation": "horizontal",
       "readout": true,
       "readout_format": ".2f",
       "step": 0.005,
       "style": "IPY_MODEL_411433190ad2461bb39de6c91f9f5d6e",
       "tabbable": null,
       "tooltip": null,
       "value": 0.04
      }
     },
     "602327b68e604718b4a87d17282faf84": {
      "model_module": "@jupyter-widgets/controls",
      "model_module_version": "2.0.0",
      "model_name": "FloatSliderModel",
      "state": {
       "_dom_classes": [],
       "_model_module": "@jupyter-widgets/controls",
       "_model_module_version": "2.0.0",
       "_model_name": "FloatSliderModel",
       "_view_count": null,
       "_view_module": "@jupyter-widgets/controls",
       "_view_module_version": "2.0.0",
       "_view_name": "FloatSliderView",
       "behavior": "drag-tap",
       "continuous_update": true,
       "description": "epsinf",
       "description_allow_html": false,
       "disabled": false,
       "layout": "IPY_MODEL_9764ede3ff104e0ba0923ef51f11c18e",
       "max": 5.0,
       "min": 1.0,
       "orientation": "horizontal",
       "readout": true,
       "readout_format": ".2f",
       "step": 0.1,
       "style": "IPY_MODEL_2e9ac98b6d9a41a1995c8fe88c2947d4",
       "tabbable": null,
       "tooltip": null,
       "value": 1.0
      }
     },
     "709e67ee6dd8493cb4bbbc97c3e5f862": {
      "model_module": "@jupyter-widgets/output",
      "model_module_version": "1.0.0",
      "model_name": "OutputModel",
      "state": {
       "_dom_classes": [],
       "_model_module": "@jupyter-widgets/output",
       "_model_module_version": "1.0.0",
       "_model_name": "OutputModel",
       "_view_count": null,
       "_view_module": "@jupyter-widgets/output",
       "_view_module_version": "1.0.0",
       "_view_name": "OutputView",
       "layout": "IPY_MODEL_9864f53664c94fb19b9d609b9ec8bcd6",
       "msg_id": "",
       "outputs": [
        {
         "data": {
          "image/png": "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",
          "text/plain": "<Figure size 1000x300 with 2 Axes>"
         },
         "metadata": {},
         "output_type": "display_data"
        }
       ],
       "tabbable": null,
       "tooltip": null
      }
     },
     "7567bddbe2cc4a79b4ddc35b417474f4": {
      "model_module": "@jupyter-widgets/controls",
      "model_module_version": "2.0.0",
      "model_name": "FloatSliderModel",
      "state": {
       "_dom_classes": [],
       "_model_module": "@jupyter-widgets/controls",
       "_model_module_version": "2.0.0",
       "_model_name": "FloatSliderModel",
       "_view_count": null,
       "_view_module": "@jupyter-widgets/controls",
       "_view_module_version": "2.0.0",
       "_view_name": "FloatSliderView",
       "behavior": "drag-tap",
       "continuous_update": true,
       "description": "wn",
       "description_allow_html": false,
       "disabled": false,
       "layout": "IPY_MODEL_7c21d49f9b6d4bdc919566535501056b",
       "max": 2.0,
       "min": 0.5,
       "orientation": "horizontal",
       "readout": true,
       "readout_format": ".2f",
       "step": 0.1,
       "style": "IPY_MODEL_e78d94dca5f94b0b94d27538716a281f",
       "tabbable": null,
       "tooltip": null,
       "value": 0.7
      }
     },
     "7a9d560b29a14b019584c7e7919f24a5": {
      "model_module": "@jupyter-widgets/output",
      "model_module_version": "1.0.0",
      "model_name": "OutputModel",
      "state": {
       "_dom_classes": [],
       "_model_module": "@jupyter-widgets/output",
       "_model_module_version": "1.0.0",
       "_model_name": "OutputModel",
       "_view_count": null,
       "_view_module": "@jupyter-widgets/output",
       "_view_module_version": "1.0.0",
       "_view_name": "OutputView",
       "layout": "IPY_MODEL_4a33e08f10144fd196b6828cbc5acb6c",
       "msg_id": "",
       "outputs": [
        {
         "data": {
          "image/png": "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",
          "text/plain": "<Figure size 1000x300 with 2 Axes>"
         },
         "metadata": {},
         "output_type": "display_data"
        }
       ],
       "tabbable": null,
       "tooltip": null
      }
     },
     "7b2eac95d8084e5ba9bc81bf28f74035": {
      "model_module": "@jupyter-widgets/controls",
      "model_module_version": "2.0.0",
      "model_name": "FloatSliderModel",
      "state": {
       "_dom_classes": [],
       "_model_module": "@jupyter-widgets/controls",
       "_model_module_version": "2.0.0",
       "_model_name": "FloatSliderModel",
       "_view_count": null,
       "_view_module": "@jupyter-widgets/controls",
       "_view_module_version": "2.0.0",
       "_view_name": "FloatSliderView",
       "behavior": "drag-tap",
       "continuous_update": true,
       "description": "k",
       "description_allow_html": false,
       "disabled": false,
       "layout": "IPY_MODEL_b1f2167aaef5480dadc8c9208cdbb297",
       "max": 2.0,
       "min": 0.3,
       "orientation": "horizontal",
       "readout": true,
       "readout_format": ".2f",
       "step": 0.1,
       "style": "IPY_MODEL_9151d895fd88432babbe4a9ec0b993d6",
       "tabbable": null,
       "tooltip": null,
       "value": 1.0
      }
     },
     "7c21d49f9b6d4bdc919566535501056b": {
      "model_module": "@jupyter-widgets/base",
      "model_module_version": "2.0.0",
      "model_name": "LayoutModel",
      "state": {
       "_model_module": "@jupyter-widgets/base",
       "_model_module_version": "2.0.0",
       "_model_name": "LayoutModel",
       "_view_count": null,
       "_view_module": "@jupyter-widgets/base",
       "_view_module_version": "2.0.0",
       "_view_name": "LayoutView",
       "align_content": null,
       "align_items": null,
       "align_self": null,
       "border_bottom": null,
       "border_left": null,
       "border_right": null,
       "border_top": null,
       "bottom": null,
       "display": null,
       "flex": null,
       "flex_flow": null,
       "grid_area": null,
       "grid_auto_columns": null,
       "grid_auto_flow": null,
       "grid_auto_rows": null,
       "grid_column": null,
       "grid_gap": null,
       "grid_row": null,
       "grid_template_areas": null,
       "grid_template_columns": null,
       "grid_template_rows": null,
       "height": null,
       "justify_content": null,
       "justify_items": null,
       "left": null,
       "margin": null,
       "max_height": null,
       "max_width": null,
       "min_height": null,
       "min_width": null,
       "object_fit": null,
       "object_position": null,
       "order": null,
       "overflow": null,
       "padding": null,
       "right": null,
       "top": null,
       "visibility": null,
       "width": null
      }
     },
     "8090933956d64d0ebf364c5849c42fba": {
      "model_module": "@jupyter-widgets/output",
      "model_module_version": "1.0.0",
      "model_name": "OutputModel",
      "state": {
       "_dom_classes": [],
       "_model_module": "@jupyter-widgets/output",
       "_model_module_version": "1.0.0",
       "_model_name": "OutputModel",
       "_view_count": null,
       "_view_module": "@jupyter-widgets/output",
       "_view_module_version": "1.0.0",
       "_view_name": "OutputView",
       "layout": "IPY_MODEL_52d055361b774b81a041a6534ed20661",
       "msg_id": "",
       "outputs": [
        {
         "data": {
          "image/png": "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",
          "text/plain": "<Figure size 1000x300 with 2 Axes>"
         },
         "metadata": {},
         "output_type": "display_data"
        }
       ],
       "tabbable": null,
       "tooltip": null
      }
     },
     "9151d895fd88432babbe4a9ec0b993d6": {
      "model_module": "@jupyter-widgets/controls",
      "model_module_version": "2.0.0",
      "model_name": "SliderStyleModel",
      "state": {
       "_model_module": "@jupyter-widgets/controls",
       "_model_module_version": "2.0.0",
       "_model_name": "SliderStyleModel",
       "_view_count": null,
       "_view_module": "@jupyter-widgets/base",
       "_view_module_version": "2.0.0",
       "_view_name": "StyleView",
       "description_width": "",
       "handle_color": null
      }
     },
     "9442f4884eec4c97947c460a497a798b": {
      "model_module": "@jupyter-widgets/base",
      "model_module_version": "2.0.0",
      "model_name": "LayoutModel",
      "state": {
       "_model_module": "@jupyter-widgets/base",
       "_model_module_version": "2.0.0",
       "_model_name": "LayoutModel",
       "_view_count": null,
       "_view_module": "@jupyter-widgets/base",
       "_view_module_version": "2.0.0",
       "_view_name": "LayoutView",
       "align_content": null,
       "align_items": null,
       "align_self": null,
       "border_bottom": null,
       "border_left": null,
       "border_right": null,
       "border_top": null,
       "bottom": null,
       "display": null,
       "flex": null,
       "flex_flow": null,
       "grid_area": null,
       "grid_auto_columns": null,
       "grid_auto_flow": null,
       "grid_auto_rows": null,
       "grid_column": null,
       "grid_gap": null,
       "grid_row": null,
       "grid_template_areas": null,
       "grid_template_columns": null,
       "grid_template_rows": null,
       "height": null,
       "justify_content": null,
       "justify_items": null,
       "left": null,
       "margin": null,
       "max_height": null,
       "max_width": null,
       "min_height": null,
       "min_width": null,
       "object_fit": null,
       "object_position": null,
       "order": null,
       "overflow": null,
       "padding": null,
       "right": null,
       "top": null,
       "visibility": null,
       "width": null
      }
     },
     "9764ede3ff104e0ba0923ef51f11c18e": {
      "model_module": "@jupyter-widgets/base",
      "model_module_version": "2.0.0",
      "model_name": "LayoutModel",
      "state": {
       "_model_module": "@jupyter-widgets/base",
       "_model_module_version": "2.0.0",
       "_model_name": "LayoutModel",
       "_view_count": null,
       "_view_module": "@jupyter-widgets/base",
       "_view_module_version": "2.0.0",
       "_view_name": "LayoutView",
       "align_content": null,
       "align_items": null,
       "align_self": null,
       "border_bottom": null,
       "border_left": null,
       "border_right": null,
       "border_top": null,
       "bottom": null,
       "display": null,
       "flex": null,
       "flex_flow": null,
       "grid_area": null,
       "grid_auto_columns": null,
       "grid_auto_flow": null,
       "grid_auto_rows": null,
       "grid_column": null,
       "grid_gap": null,
       "grid_row": null,
       "grid_template_areas": null,
       "grid_template_columns": null,
       "grid_template_rows": null,
       "height": null,
       "justify_content": null,
       "justify_items": null,
       "left": null,
       "margin": null,
       "max_height": null,
       "max_width": null,
       "min_height": null,
       "min_width": null,
       "object_fit": null,
       "object_position": null,
       "order": null,
       "overflow": null,
       "padding": null,
       "right": null,
       "top": null,
       "visibility": null,
       "width": null
      }
     },
     "976fb145a88c4ca0a7e1b1b6e9c392ec": {
      "model_module": "@jupyter-widgets/controls",
      "model_module_version": "2.0.0",
      "model_name": "VBoxModel",
      "state": {
       "_dom_classes": [
        "widget-interact"
       ],
       "_model_module": "@jupyter-widgets/controls",
       "_model_module_version": "2.0.0",
       "_model_name": "VBoxModel",
       "_view_count": null,
       "_view_module": "@jupyter-widgets/controls",
       "_view_module_version": "2.0.0",
       "_view_name": "VBoxView",
       "box_style": "",
       "children": [
        "IPY_MODEL_7b2eac95d8084e5ba9bc81bf28f74035",
        "IPY_MODEL_4ea8cce17b014b10acf5e321b6587e99",
        "IPY_MODEL_8090933956d64d0ebf364c5849c42fba"
       ],
       "layout": "IPY_MODEL_e066983d973d409e90400e1edb16f580",
       "tabbable": null,
       "tooltip": null
      }
     },
     "983bad3dd5164e068de3f79380df9d05": {
      "model_module": "@jupyter-widgets/controls",
      "model_module_version": "2.0.0",
      "model_name": "FloatSliderModel",
      "state": {
       "_dom_classes": [],
       "_model_module": "@jupyter-widgets/controls",
       "_model_module_version": "2.0.0",
       "_model_name": "FloatSliderModel",
       "_view_count": null,
       "_view_module": "@jupyter-widgets/controls",
       "_view_module_version": "2.0.0",
       "_view_name": "FloatSliderView",
       "behavior": "drag-tap",
       "continuous_update": true,
       "description": "epsinf",
       "description_allow_html": false,
       "disabled": false,
       "layout": "IPY_MODEL_3a7ca8953e5947adb567ebad0a5ee325",
       "max": 5.0,
       "min": 1.0,
       "orientation": "horizontal",
       "readout": true,
       "readout_format": ".2f",
       "step": 0.1,
       "style": "IPY_MODEL_064b56f67d2640d682f709871e93c3f3",
       "tabbable": null,
       "tooltip": null,
       "value": 1.0
      }
     },
     "9864f53664c94fb19b9d609b9ec8bcd6": {
      "model_module": "@jupyter-widgets/base",
      "model_module_version": "2.0.0",
      "model_name": "LayoutModel",
      "state": {
       "_model_module": "@jupyter-widgets/base",
       "_model_module_version": "2.0.0",
       "_model_name": "LayoutModel",
       "_view_count": null,
       "_view_module": "@jupyter-widgets/base",
       "_view_module_version": "2.0.0",
       "_view_name": "LayoutView",
       "align_content": null,
       "align_items": null,
       "align_self": null,
       "border_bottom": null,
       "border_left": null,
       "border_right": null,
       "border_top": null,
       "bottom": null,
       "display": null,
       "flex": null,
       "flex_flow": null,
       "grid_area": null,
       "grid_auto_columns": null,
       "grid_auto_flow": null,
       "grid_auto_rows": null,
       "grid_column": null,
       "grid_gap": null,
       "grid_row": null,
       "grid_template_areas": null,
       "grid_template_columns": null,
       "grid_template_rows": null,
       "height": null,
       "justify_content": null,
       "justify_items": null,
       "left": null,
       "margin": null,
       "max_height": null,
       "max_width": null,
       "min_height": null,
       "min_width": null,
       "object_fit": null,
       "object_position": null,
       "order": null,
       "overflow": null,
       "padding": null,
       "right": null,
       "top": null,
       "visibility": null,
       "width": null
      }
     },
     "a03d5ee7843a49e4bdb7ce084ee978d6": {
      "model_module": "@jupyter-widgets/base",
      "model_module_version": "2.0.0",
      "model_name": "LayoutModel",
      "state": {
       "_model_module": "@jupyter-widgets/base",
       "_model_module_version": "2.0.0",
       "_model_name": "LayoutModel",
       "_view_count": null,
       "_view_module": "@jupyter-widgets/base",
       "_view_module_version": "2.0.0",
       "_view_name": "LayoutView",
       "align_content": null,
       "align_items": null,
       "align_self": null,
       "border_bottom": null,
       "border_left": null,
       "border_right": null,
       "border_top": null,
       "bottom": null,
       "display": null,
       "flex": null,
       "flex_flow": null,
       "grid_area": null,
       "grid_auto_columns": null,
       "grid_auto_flow": null,
       "grid_auto_rows": null,
       "grid_column": null,
       "grid_gap": null,
       "grid_row": null,
       "grid_template_areas": null,
       "grid_template_columns": null,
       "grid_template_rows": null,
       "height": null,
       "justify_content": null,
       "justify_items": null,
       "left": null,
       "margin": null,
       "max_height": null,
       "max_width": null,
       "min_height": null,
       "min_width": null,
       "object_fit": null,
       "object_position": null,
       "order": null,
       "overflow": null,
       "padding": null,
       "right": null,
       "top": null,
       "visibility": null,
       "width": null
      }
     },
     "a0c2084e656642348010dd90b298f4f6": {
      "model_module": "@jupyter-widgets/controls",
      "model_module_version": "2.0.0",
      "model_name": "SliderStyleModel",
      "state": {
       "_model_module": "@jupyter-widgets/controls",
       "_model_module_version": "2.0.0",
       "_model_name": "SliderStyleModel",
       "_view_count": null,
       "_view_module": "@jupyter-widgets/base",
       "_view_module_version": "2.0.0",
       "_view_name": "StyleView",
       "description_width": "",
       "handle_color": null
      }
     },
     "a9fdc0bfb16744348553d04899502dc4": {
      "model_module": "@jupyter-widgets/base",
      "model_module_version": "2.0.0",
      "model_name": "LayoutModel",
      "state": {
       "_model_module": "@jupyter-widgets/base",
       "_model_module_version": "2.0.0",
       "_model_name": "LayoutModel",
       "_view_count": null,
       "_view_module": "@jupyter-widgets/base",
       "_view_module_version": "2.0.0",
       "_view_name": "LayoutView",
       "align_content": null,
       "align_items": null,
       "align_self": null,
       "border_bottom": null,
       "border_left": null,
       "border_right": null,
       "border_top": null,
       "bottom": null,
       "display": null,
       "flex": null,
       "flex_flow": null,
       "grid_area": null,
       "grid_auto_columns": null,
       "grid_auto_flow": null,
       "grid_auto_rows": null,
       "grid_column": null,
       "grid_gap": null,
       "grid_row": null,
       "grid_template_areas": null,
       "grid_template_columns": null,
       "grid_template_rows": null,
       "height": null,
       "justify_content": null,
       "justify_items": null,
       "left": null,
       "margin": null,
       "max_height": null,
       "max_width": null,
       "min_height": null,
       "min_width": null,
       "object_fit": null,
       "object_position": null,
       "order": null,
       "overflow": null,
       "padding": null,
       "right": null,
       "top": null,
       "visibility": null,
       "width": null
      }
     },
     "aab9f9b3ee064101aa714d057263fe78": {
      "model_module": "@jupyter-widgets/controls",
      "model_module_version": "2.0.0",
      "model_name": "FloatSliderModel",
      "state": {
       "_dom_classes": [],
       "_model_module": "@jupyter-widgets/controls",
       "_model_module_version": "2.0.0",
       "_model_name": "FloatSliderModel",
       "_view_count": null,
       "_view_module": "@jupyter-widgets/controls",
       "_view_module_version": "2.0.0",
       "_view_name": "FloatSliderView",
       "behavior": "drag-tap",
       "continuous_update": true,
       "description": "gamma",
       "description_allow_html": false,
       "disabled": false,
       "layout": "IPY_MODEL_cf56956dc1dd498e8750f311c2d19f8a",
       "max": 0.2,
       "min": 0.01,
       "orientation": "horizontal",
       "readout": true,
       "readout_format": ".2f",
       "step": 0.01,
       "style": "IPY_MODEL_bdbeda81a14f49df8b24d9096d514b0a",
       "tabbable": null,
       "tooltip": null,
       "value": 0.1
      }
     },
     "adf5af2433554c84a3b10b3da090ca83": {
      "model_module": "@jupyter-widgets/controls",
      "model_module_version": "2.0.0",
      "model_name": "FloatSliderModel",
      "state": {
       "_dom_classes": [],
       "_model_module": "@jupyter-widgets/controls",
       "_model_module_version": "2.0.0",
       "_model_name": "FloatSliderModel",
       "_view_count": null,
       "_view_module": "@jupyter-widgets/controls",
       "_view_module_version": "2.0.0",
       "_view_name": "FloatSliderView",
       "behavior": "drag-tap",
       "continuous_update": true,
       "description": "wp",
       "description_allow_html": false,
       "disabled": false,
       "layout": "IPY_MODEL_9442f4884eec4c97947c460a497a798b",
       "max": 2.0,
       "min": 0.4,
       "orientation": "horizontal",
       "readout": true,
       "readout_format": ".2f",
       "step": 0.05,
       "style": "IPY_MODEL_a0c2084e656642348010dd90b298f4f6",
       "tabbable": null,
       "tooltip": null,
       "value": 1.0
      }
     },
     "b05455d2a9f5428e91c48ca11e944d18": {
      "model_module": "@jupyter-widgets/controls",
      "model_module_version": "2.0.0",
      "model_name": "SliderStyleModel",
      "state": {
       "_model_module": "@jupyter-widgets/controls",
       "_model_module_version": "2.0.0",
       "_model_name": "SliderStyleModel",
       "_view_count": null,
       "_view_module": "@jupyter-widgets/base",
       "_view_module_version": "2.0.0",
       "_view_name": "StyleView",
       "description_width": "",
       "handle_color": null
      }
     },
     "b1f2167aaef5480dadc8c9208cdbb297": {
      "model_module": "@jupyter-widgets/base",
      "model_module_version": "2.0.0",
      "model_name": "LayoutModel",
      "state": {
       "_model_module": "@jupyter-widgets/base",
       "_model_module_version": "2.0.0",
       "_model_name": "LayoutModel",
       "_view_count": null,
       "_view_module": "@jupyter-widgets/base",
       "_view_module_version": "2.0.0",
       "_view_name": "LayoutView",
       "align_content": null,
       "align_items": null,
       "align_self": null,
       "border_bottom": null,
       "border_left": null,
       "border_right": null,
       "border_top": null,
       "bottom": null,
       "display": null,
       "flex": null,
       "flex_flow": null,
       "grid_area": null,
       "grid_auto_columns": null,
       "grid_auto_flow": null,
       "grid_auto_rows": null,
       "grid_column": null,
       "grid_gap": null,
       "grid_row": null,
       "grid_template_areas": null,
       "grid_template_columns": null,
       "grid_template_rows": null,
       "height": null,
       "justify_content": null,
       "justify_items": null,
       "left": null,
       "margin": null,
       "max_height": null,
       "max_width": null,
       "min_height": null,
       "min_width": null,
       "object_fit": null,
       "object_position": null,
       "order": null,
       "overflow": null,
       "padding": null,
       "right": null,
       "top": null,
       "visibility": null,
       "width": null
      }
     },
     "b99fe2255ddc41d7b884d3f135f29c5d": {
      "model_module": "@jupyter-widgets/controls",
      "model_module_version": "2.0.0",
      "model_name": "VBoxModel",
      "state": {
       "_dom_classes": [
        "widget-interact"
       ],
       "_model_module": "@jupyter-widgets/controls",
       "_model_module_version": "2.0.0",
       "_model_name": "VBoxModel",
       "_view_count": null,
       "_view_module": "@jupyter-widgets/controls",
       "_view_module_version": "2.0.0",
       "_view_name": "VBoxView",
       "box_style": "",
       "children": [
        "IPY_MODEL_983bad3dd5164e068de3f79380df9d05",
        "IPY_MODEL_0a7c9867d31b4603961c041b548b386a",
        "IPY_MODEL_ecb4a776a2bf4d44824d8ac2b5141739",
        "IPY_MODEL_24ba1938854d48b29ceb2b603ec55f2a"
       ],
       "layout": "IPY_MODEL_d95ab10535ff429e9e1ea3888abb6e9f",
       "tabbable": null,
       "tooltip": null
      }
     },
     "bdbeda81a14f49df8b24d9096d514b0a": {
      "model_module": "@jupyter-widgets/controls",
      "model_module_version": "2.0.0",
      "model_name": "SliderStyleModel",
      "state": {
       "_model_module": "@jupyter-widgets/controls",
       "_model_module_version": "2.0.0",
       "_model_name": "SliderStyleModel",
       "_view_count": null,
       "_view_module": "@jupyter-widgets/base",
       "_view_module_version": "2.0.0",
       "_view_name": "StyleView",
       "description_width": "",
       "handle_color": null
      }
     },
     "be88b996c3e3470c9b99cef8105e5c2d": {
      "model_module": "@jupyter-widgets/controls",
      "model_module_version": "2.0.0",
      "model_name": "VBoxModel",
      "state": {
       "_dom_classes": [
        "widget-interact"
       ],
       "_model_module": "@jupyter-widgets/controls",
       "_model_module_version": "2.0.0",
       "_model_name": "VBoxModel",
       "_view_count": null,
       "_view_module": "@jupyter-widgets/controls",
       "_view_module_version": "2.0.0",
       "_view_name": "VBoxView",
       "box_style": "",
       "children": [
        "IPY_MODEL_3f59191f941c4011b963b5eaa896ab4f",
        "IPY_MODEL_1440765cbaed463780468f41c33618b3",
        "IPY_MODEL_7567bddbe2cc4a79b4ddc35b417474f4",
        "IPY_MODEL_56907c3cc0164f8e86c1f9c7a5868848",
        "IPY_MODEL_709e67ee6dd8493cb4bbbc97c3e5f862"
       ],
       "layout": "IPY_MODEL_e160adc94ad3436ab50f4d9b5a8f654c",
       "tabbable": null,
       "tooltip": null
      }
     },
     "c62924a6e3164ecca44462761fddfd7f": {
      "model_module": "@jupyter-widgets/base",
      "model_module_version": "2.0.0",
      "model_name": "LayoutModel",
      "state": {
       "_model_module": "@jupyter-widgets/base",
       "_model_module_version": "2.0.0",
       "_model_name": "LayoutModel",
       "_view_count": null,
       "_view_module": "@jupyter-widgets/base",
       "_view_module_version": "2.0.0",
       "_view_name": "LayoutView",
       "align_content": null,
       "align_items": null,
       "align_self": null,
       "border_bottom": null,
       "border_left": null,
       "border_right": null,
       "border_top": null,
       "bottom": null,
       "display": null,
       "flex": null,
       "flex_flow": null,
       "grid_area": null,
       "grid_auto_columns": null,
       "grid_auto_flow": null,
       "grid_auto_rows": null,
       "grid_column": null,
       "grid_gap": null,
       "grid_row": null,
       "grid_template_areas": null,
       "grid_template_columns": null,
       "grid_template_rows": null,
       "height": null,
       "justify_content": null,
       "justify_items": null,
       "left": null,
       "margin": null,
       "max_height": null,
       "max_width": null,
       "min_height": null,
       "min_width": null,
       "object_fit": null,
       "object_position": null,
       "order": null,
       "overflow": null,
       "padding": null,
       "right": null,
       "top": null,
       "visibility": null,
       "width": null
      }
     },
     "cf56956dc1dd498e8750f311c2d19f8a": {
      "model_module": "@jupyter-widgets/base",
      "model_module_version": "2.0.0",
      "model_name": "LayoutModel",
      "state": {
       "_model_module": "@jupyter-widgets/base",
       "_model_module_version": "2.0.0",
       "_model_name": "LayoutModel",
       "_view_count": null,
       "_view_module": "@jupyter-widgets/base",
       "_view_module_version": "2.0.0",
       "_view_name": "LayoutView",
       "align_content": null,
       "align_items": null,
       "align_self": null,
       "border_bottom": null,
       "border_left": null,
       "border_right": null,
       "border_top": null,
       "bottom": null,
       "display": null,
       "flex": null,
       "flex_flow": null,
       "grid_area": null,
       "grid_auto_columns": null,
       "grid_auto_flow": null,
       "grid_auto_rows": null,
       "grid_column": null,
       "grid_gap": null,
       "grid_row": null,
       "grid_template_areas": null,
       "grid_template_columns": null,
       "grid_template_rows": null,
       "height": null,
       "justify_content": null,
       "justify_items": null,
       "left": null,
       "margin": null,
       "max_height": null,
       "max_width": null,
       "min_height": null,
       "min_width": null,
       "object_fit": null,
       "object_position": null,
       "order": null,
       "overflow": null,
       "padding": null,
       "right": null,
       "top": null,
       "visibility": null,
       "width": null
      }
     },
     "d5b9eb3e425c48688572428eeda37913": {
      "model_module": "@jupyter-widgets/controls",
      "model_module_version": "2.0.0",
      "model_name": "SliderStyleModel",
      "state": {
       "_model_module": "@jupyter-widgets/controls",
       "_model_module_version": "2.0.0",
       "_model_name": "SliderStyleModel",
       "_view_count": null,
       "_view_module": "@jupyter-widgets/base",
       "_view_module_version": "2.0.0",
       "_view_name": "StyleView",
       "description_width": "",
       "handle_color": null
      }
     },
     "d95ab10535ff429e9e1ea3888abb6e9f": {
      "model_module": "@jupyter-widgets/base",
      "model_module_version": "2.0.0",
      "model_name": "LayoutModel",
      "state": {
       "_model_module": "@jupyter-widgets/base",
       "_model_module_version": "2.0.0",
       "_model_name": "LayoutModel",
       "_view_count": null,
       "_view_module": "@jupyter-widgets/base",
       "_view_module_version": "2.0.0",
       "_view_name": "LayoutView",
       "align_content": null,
       "align_items": null,
       "align_self": null,
       "border_bottom": null,
       "border_left": null,
       "border_right": null,
       "border_top": null,
       "bottom": null,
       "display": null,
       "flex": null,
       "flex_flow": null,
       "grid_area": null,
       "grid_auto_columns": null,
       "grid_auto_flow": null,
       "grid_auto_rows": null,
       "grid_column": null,
       "grid_gap": null,
       "grid_row": null,
       "grid_template_areas": null,
       "grid_template_columns": null,
       "grid_template_rows": null,
       "height": null,
       "justify_content": null,
       "justify_items": null,
       "left": null,
       "margin": null,
       "max_height": null,
       "max_width": null,
       "min_height": null,
       "min_width": null,
       "object_fit": null,
       "object_position": null,
       "order": null,
       "overflow": null,
       "padding": null,
       "right": null,
       "top": null,
       "visibility": null,
       "width": null
      }
     },
     "e066983d973d409e90400e1edb16f580": {
      "model_module": "@jupyter-widgets/base",
      "model_module_version": "2.0.0",
      "model_name": "LayoutModel",
      "state": {
       "_model_module": "@jupyter-widgets/base",
       "_model_module_version": "2.0.0",
       "_model_name": "LayoutModel",
       "_view_count": null,
       "_view_module": "@jupyter-widgets/base",
       "_view_module_version": "2.0.0",
       "_view_name": "LayoutView",
       "align_content": null,
       "align_items": null,
       "align_self": null,
       "border_bottom": null,
       "border_left": null,
       "border_right": null,
       "border_top": null,
       "bottom": null,
       "display": null,
       "flex": null,
       "flex_flow": null,
       "grid_area": null,
       "grid_auto_columns": null,
       "grid_auto_flow": null,
       "grid_auto_rows": null,
       "grid_column": null,
       "grid_gap": null,
       "grid_row": null,
       "grid_template_areas": null,
       "grid_template_columns": null,
       "grid_template_rows": null,
       "height": null,
       "justify_content": null,
       "justify_items": null,
       "left": null,
       "margin": null,
       "max_height": null,
       "max_width": null,
       "min_height": null,
       "min_width": null,
       "object_fit": null,
       "object_position": null,
       "order": null,
       "overflow": null,
       "padding": null,
       "right": null,
       "top": null,
       "visibility": null,
       "width": null
      }
     },
     "e160adc94ad3436ab50f4d9b5a8f654c": {
      "model_module": "@jupyter-widgets/base",
      "model_module_version": "2.0.0",
      "model_name": "LayoutModel",
      "state": {
       "_model_module": "@jupyter-widgets/base",
       "_model_module_version": "2.0.0",
       "_model_name": "LayoutModel",
       "_view_count": null,
       "_view_module": "@jupyter-widgets/base",
       "_view_module_version": "2.0.0",
       "_view_name": "LayoutView",
       "align_content": null,
       "align_items": null,
       "align_self": null,
       "border_bottom": null,
       "border_left": null,
       "border_right": null,
       "border_top": null,
       "bottom": null,
       "display": null,
       "flex": null,
       "flex_flow": null,
       "grid_area": null,
       "grid_auto_columns": null,
       "grid_auto_flow": null,
       "grid_auto_rows": null,
       "grid_column": null,
       "grid_gap": null,
       "grid_row": null,
       "grid_template_areas": null,
       "grid_template_columns": null,
       "grid_template_rows": null,
       "height": null,
       "justify_content": null,
       "justify_items": null,
       "left": null,
       "margin": null,
       "max_height": null,
       "max_width": null,
       "min_height": null,
       "min_width": null,
       "object_fit": null,
       "object_position": null,
       "order": null,
       "overflow": null,
       "padding": null,
       "right": null,
       "top": null,
       "visibility": null,
       "width": null
      }
     },
     "e78d94dca5f94b0b94d27538716a281f": {
      "model_module": "@jupyter-widgets/controls",
      "model_module_version": "2.0.0",
      "model_name": "SliderStyleModel",
      "state": {
       "_model_module": "@jupyter-widgets/controls",
       "_model_module_version": "2.0.0",
       "_model_name": "SliderStyleModel",
       "_view_count": null,
       "_view_module": "@jupyter-widgets/base",
       "_view_module_version": "2.0.0",
       "_view_name": "StyleView",
       "description_width": "",
       "handle_color": null
      }
     },
     "ecb4a776a2bf4d44824d8ac2b5141739": {
      "model_module": "@jupyter-widgets/controls",
      "model_module_version": "2.0.0",
      "model_name": "FloatSliderModel",
      "state": {
       "_dom_classes": [],
       "_model_module": "@jupyter-widgets/controls",
       "_model_module_version": "2.0.0",
       "_model_name": "FloatSliderModel",
       "_view_count": null,
       "_view_module": "@jupyter-widgets/controls",
       "_view_module_version": "2.0.0",
       "_view_name": "FloatSliderView",
       "behavior": "drag-tap",
       "continuous_update": true,
       "description": "gamma",
       "description_allow_html": false,
       "disabled": false,
       "layout": "IPY_MODEL_a9fdc0bfb16744348553d04899502dc4",
       "max": 0.2,
       "min": 0.01,
       "orientation": "horizontal",
       "readout": true,
       "readout_format": ".2f",
       "step": 0.01,
       "style": "IPY_MODEL_b05455d2a9f5428e91c48ca11e944d18",
       "tabbable": null,
       "tooltip": null,
       "value": 0.1
      }
     },
     "ed282cb552b7451188963d9a1c4dbbc9": {
      "model_module": "@jupyter-widgets/controls",
      "model_module_version": "2.0.0",
      "model_name": "SliderStyleModel",
      "state": {
       "_model_module": "@jupyter-widgets/controls",
       "_model_module_version": "2.0.0",
       "_model_name": "SliderStyleModel",
       "_view_count": null,
       "_view_module": "@jupyter-widgets/base",
       "_view_module_version": "2.0.0",
       "_view_name": "StyleView",
       "description_width": "",
       "handle_color": null
      }
     },
     "f18343bb6b7c4ac18d3f20a5c3faf0f0": {
      "model_module": "@jupyter-widgets/base",
      "model_module_version": "2.0.0",
      "model_name": "LayoutModel",
      "state": {
       "_model_module": "@jupyter-widgets/base",
       "_model_module_version": "2.0.0",
       "_model_name": "LayoutModel",
       "_view_count": null,
       "_view_module": "@jupyter-widgets/base",
       "_view_module_version": "2.0.0",
       "_view_name": "LayoutView",
       "align_content": null,
       "align_items": null,
       "align_self": null,
       "border_bottom": null,
       "border_left": null,
       "border_right": null,
       "border_top": null,
       "bottom": null,
       "display": null,
       "flex": null,
       "flex_flow": null,
       "grid_area": null,
       "grid_auto_columns": null,
       "grid_auto_flow": null,
       "grid_auto_rows": null,
       "grid_column": null,
       "grid_gap": null,
       "grid_row": null,
       "grid_template_areas": null,
       "grid_template_columns": null,
       "grid_template_rows": null,
       "height": null,
       "justify_content": null,
       "justify_items": null,
       "left": null,
       "margin": null,
       "max_height": null,
       "max_width": null,
       "min_height": null,
       "min_width": null,
       "object_fit": null,
       "object_position": null,
       "order": null,
       "overflow": null,
       "padding": null,
       "right": null,
       "top": null,
       "visibility": null,
       "width": null
      }
     },
     "f4b51d30ce8b41b0bffcba9b87a5d455": {
      "model_module": "@jupyter-widgets/controls",
      "model_module_version": "2.0.0",
      "model_name": "SliderStyleModel",
      "state": {
       "_model_module": "@jupyter-widgets/controls",
       "_model_module_version": "2.0.0",
       "_model_name": "SliderStyleModel",
       "_view_count": null,
       "_view_module": "@jupyter-widgets/base",
       "_view_module_version": "2.0.0",
       "_view_name": "StyleView",
       "description_width": "",
       "handle_color": null
      }
     },
     "fbbc51ef52bb4be4bae7a5783fd57c8a": {
      "model_module": "@jupyter-widgets/base",
      "model_module_version": "2.0.0",
      "model_name": "LayoutModel",
      "state": {
       "_model_module": "@jupyter-widgets/base",
       "_model_module_version": "2.0.0",
       "_model_name": "LayoutModel",
       "_view_count": null,
       "_view_module": "@jupyter-widgets/base",
       "_view_module_version": "2.0.0",
       "_view_name": "LayoutView",
       "align_content": null,
       "align_items": null,
       "align_self": null,
       "border_bottom": null,
       "border_left": null,
       "border_right": null,
       "border_top": null,
       "bottom": null,
       "display": null,
       "flex": null,
       "flex_flow": null,
       "grid_area": null,
       "grid_auto_columns": null,
       "grid_auto_flow": null,
       "grid_auto_rows": null,
       "grid_column": null,
       "grid_gap": null,
       "grid_row": null,
       "grid_template_areas": null,
       "grid_template_columns": null,
       "grid_template_rows": null,
       "height": null,
       "justify_content": null,
       "justify_items": null,
       "left": null,
       "margin": null,
       "max_height": null,
       "max_width": null,
       "min_height": null,
       "min_width": null,
       "object_fit": null,
       "object_position": null,
       "order": null,
       "overflow": null,
       "padding": null,
       "right": null,
       "top": null,
       "visibility": null,
       "width": null
      }
     },
     "ffc25fcf2a124e32a24898c4b19aa758": {
      "model_module": "@jupyter-widgets/base",
      "model_module_version": "2.0.0",
      "model_name": "LayoutModel",
      "state": {
       "_model_module": "@jupyter-widgets/base",
       "_model_module_version": "2.0.0",
       "_model_name": "LayoutModel",
       "_view_count": null,
       "_view_module": "@jupyter-widgets/base",
       "_view_module_version": "2.0.0",
       "_view_name": "LayoutView",
       "align_content": null,
       "align_items": null,
       "align_self": null,
       "border_bottom": null,
       "border_left": null,
       "border_right": null,
       "border_top": null,
       "bottom": null,
       "display": null,
       "flex": null,
       "flex_flow": null,
       "grid_area": null,
       "grid_auto_columns": null,
       "grid_auto_flow": null,
       "grid_auto_rows": null,
       "grid_column": null,
       "grid_gap": null,
       "grid_row": null,
       "grid_template_areas": null,
       "grid_template_columns": null,
       "grid_template_rows": null,
       "height": null,
       "justify_content": null,
       "justify_items": null,
       "left": null,
       "margin": null,
       "max_height": null,
       "max_width": null,
       "min_height": null,
       "min_width": null,
       "object_fit": null,
       "object_position": null,
       "order": null,
       "overflow": null,
       "padding": null,
       "right": null,
       "top": null,
       "visibility": null,
       "width": null
      }
     }
    },
    "version_major": 2,
    "version_minor": 0
   }
  }
 },
 "nbformat": 4,
 "nbformat_minor": 5
}