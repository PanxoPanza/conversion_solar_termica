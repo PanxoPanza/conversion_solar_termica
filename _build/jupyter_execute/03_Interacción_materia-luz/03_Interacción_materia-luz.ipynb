{
 "cells": [
  {
   "cell_type": "code",
   "execution_count": 1,
   "id": "3c597da7",
   "metadata": {
    "slideshow": {
     "slide_type": "skip"
    },
    "tags": [
     "remove-cell"
    ]
   },
   "outputs": [],
   "source": [
    "import importlib.util\n",
    "if importlib.util.find_spec('empylib') is None:\n",
    "    !pip install git+https://github.com/PanxoPanza/empylib.git"
   ]
  },
  {
   "cell_type": "markdown",
   "id": "8b01ca79",
   "metadata": {
    "slideshow": {
     "slide_type": "slide"
    }
   },
   "source": [
    "# Interacción materia-luz"
   ]
  },
  {
   "cell_type": "markdown",
   "id": "61b0f1b1",
   "metadata": {
    "slideshow": {
     "slide_type": "slide"
    }
   },
   "source": [
    "## Fundamentos del movimiento oscilatorio"
   ]
  },
  {
   "cell_type": "markdown",
   "id": "358320c5",
   "metadata": {
    "slideshow": {
     "slide_type": "slide"
    }
   },
   "source": [
    "### Frecuencia natural de un sistema vibratorio\n",
    "\n",
    "Analicemos el caso simplificado de un sistema masa resorte"
   ]
  },
  {
   "cell_type": "markdown",
   "id": "294ae73a",
   "metadata": {
    "cell_style": "split"
   },
   "source": [
    "<img src=\"./images/free_sistem_one_degree.png\" width=\"400px\" align= center>\n",
    "\n",
    "donde, $k$ es la constante de rigidez del resorte, y $m$ es la masa."
   ]
  },
  {
   "cell_type": "markdown",
   "id": "769ed6fc",
   "metadata": {
    "cell_style": "split",
    "slideshow": {
     "slide_type": "fragment"
    }
   },
   "source": [
    "El resorte ejerce una **fuerza de restauración**, $F_\\mathrm{res} = kx$, que actúa en sentido contrario al desplazamiento de la masa.\n",
    "\n",
    "<img src=\"./images/dcl_mass-spring.png\" width=\"400px\" align= center>"
   ]
  },
  {
   "cell_type": "markdown",
   "id": "85dfd5b2",
   "metadata": {
    "cell_style": "split",
    "slideshow": {
     "slide_type": "fragment"
    }
   },
   "source": [
    "Mediante un equilibrio de fuerzas, concluimos que la ecuación gobernante es:\n",
    "\n",
    "\\begin{equation*}\n",
    "\\ddot{x} + \\omega_n^2 x = 0 \n",
    "\\end{equation*}\n",
    "\n",
    "donde **$\\omega_n = \\sqrt{k/m}$, es la frecuencia natural del sistema**"
   ]
  },
  {
   "cell_type": "markdown",
   "id": "f9eda553",
   "metadata": {
    "slideshow": {
     "slide_type": "slide"
    }
   },
   "source": [
    "**La frecuencia natural** de un sistema vibratorio **representa la frecuencia de oscilación del sistema en ausencia de amortiguación y fuerzas externas**."
   ]
  },
  {
   "cell_type": "markdown",
   "id": "f53ca4a2",
   "metadata": {
    "slideshow": {
     "slide_type": "fragment"
    }
   },
   "source": [
    "Es una firma espectral que **solo se puede cambiar ajustando la masa $m$ o la constante de rigidez del sistema $k$.**"
   ]
  },
  {
   "cell_type": "markdown",
   "id": "301a52be",
   "metadata": {
    "cell_style": "split",
    "slideshow": {
     "slide_type": "fragment"
    }
   },
   "source": [
    "Esto significa que, **ante cualquier perturbación del sistema en equilibrio, el sistema oscilará en su frecuencia natural $\\omega_n$.**\n",
    "\n",
    "<img src=\"./images/1dof-1spring.gif\" width=\"300px\" align= center></img>\n",
    "<center> <small>Sistema con 1 grado de libertad (Fuente: <a href=\"https://www.acs.psu.edu/drussell/demos.html\">Daniel A. Russell)</a></small></center>\n",
    "\n",
    "Cada sistema tiene una frecuencia natural, que puede estar definida por distintos parámetros. Sin embargo, **la característica más importante, es la presencia de una fuerza de restauración opuesta al movimiento del cuerpo.**"
   ]
  },
  {
   "cell_type": "markdown",
   "id": "f90d4972",
   "metadata": {
    "cell_style": "split",
    "slideshow": {
     "slide_type": "fragment"
    }
   },
   "source": [
    "Por ejemplo, en un péndulo, la fuerza de restauración corresponde a la componente de la fuerza de gravedad que actúa en sentido contrario a la aceleración del cuerpo.\n",
    "\n",
    "<img src=\"./images/pendulum_forces.gif\" width=\"400px\" align= center>"
   ]
  },
  {
   "cell_type": "markdown",
   "id": "d335b0f9",
   "metadata": {
    "slideshow": {
     "slide_type": "slide"
    }
   },
   "source": [
    "### Vibración forzada amortiguada con un grado de libertad\n",
    "La frecuencia natural cobra relevancia cuando analizamos vibraciones forzadas.\n",
    "\n",
    "Consideremos, por ejemplo, un sistema masa-resorte amortiguado, donde $c$ es la constante de amortiguación. El sistema es excitado por una fuerza externa oscilatoria de la forma $F(t) = F_0 e^{i\\omega t}$, donde $F_0$ es una constante. "
   ]
  },
  {
   "cell_type": "markdown",
   "id": "f67c5def",
   "metadata": {
    "cell_style": "split"
   },
   "source": [
    "<img src=\"./images/forced_damped_system.png\" width=\"400px\" align= center>"
   ]
  },
  {
   "cell_type": "markdown",
   "id": "bc1aa9a9",
   "metadata": {
    "cell_style": "split",
    "slideshow": {
     "slide_type": "fragment"
    }
   },
   "source": [
    "La ecuación gobernante de este sistema está dada por:\n",
    "\n",
    "\\begin{equation*}\n",
    "\\ddot{x} + \\frac{c}{m}\\dot{x} +  \\omega_n^2 x = \\frac{F_0}{m} e^{- i\\omega t},\n",
    "\\end{equation*}\n"
   ]
  },
  {
   "cell_type": "markdown",
   "id": "a7035f82",
   "metadata": {
    "cell_style": "split",
    "slideshow": {
     "slide_type": "fragment"
    }
   },
   "source": [
    "La solución estacionaria es de la forma $x = Ae^{-i\\omega t}$:\n",
    "\n",
    "\\begin{equation*}\n",
    "x(t) = - \\frac{F_0/m}{\\omega^2 - \\omega_n^2 + i\\frac{c}{m} \\omega}e^{- i\\omega t}\n",
    "\\end{equation*}\n",
    "\n",
    "donde $A = - \\frac{F_0/m}{\\omega^2 - \\omega_n^2 + i\\frac{c}{m} \\omega}$ es la amplitud de la respuesta oscilatoria.\n"
   ]
  },
  {
   "cell_type": "markdown",
   "id": "681f2ebf",
   "metadata": {
    "slideshow": {
     "slide_type": "slide"
    }
   },
   "source": [
    "La ecuación indica que **la amplitud de la respuesta depende principalmente, de la frecuencia de la fuerza externa $\\omega$**."
   ]
  },
  {
   "cell_type": "markdown",
   "id": "131e60a4",
   "metadata": {
    "cell_style": "split",
    "slideshow": {
     "slide_type": "fragment"
    }
   },
   "source": [
    "Más aún, como vemos en esta herramienta interactiva de [movimiento forzado amortiguado](https://www.compadre.org/osp/EJSS/4026/134.htm?F=1), cuando $\\omega \\approx \\omega_n$ la amplitud aumenta a un límite crítico."
   ]
  },
  {
   "cell_type": "markdown",
   "id": "db28d74f",
   "metadata": {
    "cell_style": "split"
   },
   "source": [
    "<img src=\"./images/forced.gif\" width=\"300px\" align= center></img>\n",
    "<center> <small>Respuesta ante fuerza oscilatoria  (Fuente: <a href=\"https://www.acs.psu.edu/drussell/demos.html\">Daniel A. Russell)</a></small></center>"
   ]
  },
  {
   "cell_type": "markdown",
   "id": "f9fa7b67",
   "metadata": {
    "slideshow": {
     "slide_type": "fragment"
    }
   },
   "source": [
    "En este caso decimos que el **sistema está en resonancia**."
   ]
  },
  {
   "cell_type": "markdown",
   "id": "28d8f099",
   "metadata": {
    "slideshow": {
     "slide_type": "slide"
    }
   },
   "source": [
    "La mejor forma de visualizar este fenómeno es analizando la amplitud en función de la frecuencia de la fuerza externa $\\omega$. En el gráfico a continuación mostramos el valor del módulo de la amplitud, $|A|$ (izquierda) y la parte real e imaginaria de la amplitud (derecha)."
   ]
  },
  {
   "cell_type": "code",
   "execution_count": 2,
   "id": "5dd7c458",
   "metadata": {
    "slideshow": {
     "slide_type": "skip"
    },
    "tags": [
     "hide-input"
    ]
   },
   "outputs": [],
   "source": [
    "import numpy as np\n",
    "import matplotlib.pyplot as plt\n",
    "\n",
    "def x_amplitude(k,c):\n",
    "    \n",
    "    m = 1                                           # masa del cuerpo\n",
    "    w = np.linspace(0,2,200)                       # rango de frecuencias\n",
    "    F0 = 1                                          # Amplitud de la fuerza\n",
    "    wn = np.sqrt(k/m)                               # frencuencia natural\n",
    "    A  = lambda x: - F0/m/(x**2 - wn**2 + 1j*c/m*x) # amplitud de la respuesta\n",
    "    \n",
    "    # formateamos el lienzo para graficar\n",
    "    fig, ax = plt.subplots(1,2)             # número de ejes en la figura\n",
    "    fig.set_size_inches(10, 3)              # tamaño de la figura\n",
    "    plt.rcParams['font.size'] = '12'        # tamaño de fuente\n",
    "    \n",
    "    # Ploteamos gráfico izquierdo\n",
    "    ax[0].plot(w,np.absolute(A(w)),'k',label=\"$|A|$\")     # módulo de la amplitud\n",
    "    \n",
    "    # marcar línea de frecuencia natural\n",
    "    ax[0].axvline(x = wn, color='r', ls='--', lw='1.0')  \n",
    "    ax[0].text(wn*1.01,np.absolute(A(wn)),'$\\omega_n$', fontsize='12', color='r')\n",
    "    \n",
    "    # etiquetar valores de m y F0 en el gráfico\n",
    "    x0, y0 = 0.1, 100\n",
    "    ax[0].text(x0, y0,r'$m$ = %.0f kg'   % m , fontsize='10', color='k')\n",
    "    ax[0].text(x0, y0*0.55,r'$F_0$ = %.0f N'% F0, fontsize='10', color='k')\n",
    "    \n",
    "    # Ploteamos gráfico derecho\n",
    "    ax[1].plot(w,A(w).real,'b',label=r\"$\\mathrm{Re}(A)$\") # parte real de la amplitud\n",
    "    ax[1].plot(w,A(w).imag,'r',label=r\"$\\mathrm{Im}(A)$\") # parte imaginaria de la amplitud\n",
    "    \n",
    "    for i in [0,1]:\n",
    "        ax[i].set_xlabel('$\\omega$ ')\n",
    "        #ax[i].grid() \n",
    "        ax[i].set_xlim(0,2.0)\n",
    "        ax[i].legend(frameon=False)\n",
    "    ax[0].set_yscale('log')\n",
    "    ax[0].set_ylim(0.1,200)\n",
    "    ax[0].set_ylabel('Módulo de la amplitud')\n",
    "    ax[1].set_ylabel('Amplitud')\n",
    "    plt.subplots_adjust(wspace=0.3)\n",
    "    plt.show()"
   ]
  },
  {
   "cell_type": "code",
   "execution_count": 3,
   "id": "e1bf77f3",
   "metadata": {
    "slideshow": {
     "slide_type": "fragment"
    },
    "tags": [
     "hide-input"
    ]
   },
   "outputs": [
    {
     "data": {
      "application/vnd.jupyter.widget-view+json": {
       "model_id": "7c39ad8cc0f14e568636acb97e5ee70f",
       "version_major": 2,
       "version_minor": 0
      },
      "text/plain": [
       "interactive(children=(FloatSlider(value=1.0, description='k', max=2.0, min=0.3), FloatSlider(value=0.02, descr…"
      ]
     },
     "metadata": {},
     "output_type": "display_data"
    }
   ],
   "source": [
    "from ipywidgets import interact\n",
    "\n",
    "@interact( k=(0.3,2.0,0.1), \n",
    "           c=(0.02,0.2,0.01))\n",
    "def g(k=1, c=0):\n",
    "    return x_amplitude(k,c)"
   ]
  },
  {
   "cell_type": "markdown",
   "id": "57272148",
   "metadata": {
    "slideshow": {
     "slide_type": "slide"
    }
   },
   "source": [
    "La frecuencia de resonancia es fundamental en el diseño de puentes, edificios, instrumentos acústicos y otras. "
   ]
  },
  {
   "cell_type": "markdown",
   "id": "0d167b69",
   "metadata": {
    "cell_style": "split",
    "slideshow": {
     "slide_type": "fragment"
    }
   },
   "source": [
    "Un ejemplo emblemático es el [colapso del puente Tacoma en 1940](https://es.wikipedia.org/wiki/Puente_de_Tacoma_(1940)).\n",
    "\n",
    "<img src=\"./images/tacoma-narrows-bridge-shaking.gif\" width=\"400px\" align= center>\n",
    "\n",
    "El puente se derrumbó debido al aleteo aeroelástico producido por los vientos, el cual coincidía con la frecuencia natural del puente"
   ]
  },
  {
   "cell_type": "markdown",
   "id": "68665458",
   "metadata": {
    "cell_style": "split",
    "slideshow": {
     "slide_type": "fragment"
    }
   },
   "source": [
    "Otro ejemplo típico es el columpio\n",
    "\n",
    "<img src=\"./images/swing_resonance.gif\" width=\"300px\" align= center>\n",
    "\n",
    "En este caso, la fuerza externa son las piernas. La resonancia se alcanza cuando estas se mueven en sincronía con la frecuencia natural del péndulo. El efecto de amortiguación en este caso, está dado por el arrastre del viento, fricción, etc."
   ]
  },
  {
   "cell_type": "markdown",
   "id": "b2dc3de3",
   "metadata": {
    "slideshow": {
     "slide_type": "slide"
    }
   },
   "source": [
    "### Sistemas vibratorios con más de un grado de libertad\n",
    "\n",
    "Un sistema vibratorio puede tener más de una frecuencia natural. **El número de frecuencias naturales está directamente relacionado con el número de grados de libertad del sistema**. "
   ]
  },
  {
   "cell_type": "markdown",
   "id": "de5c7040",
   "metadata": {
    "cell_style": "center",
    "slideshow": {
     "slide_type": "fragment"
    }
   },
   "source": [
    "**Sistema con 1 grado de libertad** (aquí la frecuencia natural cambia a $\\omega_n = \\sqrt{2k/m}$, debido a la presencia de 2 resortes)\n",
    "\n",
    "|modo | $\\omega_n$   |\n",
    "|:---:|:------------:|\n",
    "| 1   | $1.414\\sqrt{k/m}$ | \n",
    "\n",
    "<img src=\"./images/1dof.gif\" width=\"200px\" align= center></img>\n",
    "<center> <small>Sistema con 1 grado de libertad (Fuente: <a href=\"https://www.acs.psu.edu/drussell/demos.html\">Daniel A. Russell)</a></small></center>"
   ]
  },
  {
   "cell_type": "markdown",
   "id": "4643885a",
   "metadata": {
    "cell_style": "split",
    "slideshow": {
     "slide_type": "slide"
    }
   },
   "source": [
    "**Sistema con 2 grados de libertad**\n",
    "\n",
    "|modo | $\\omega_n$   |\n",
    "|:---:|:------------:|\n",
    "| 1   | $1.000\\sqrt{k/m}$ |\n",
    "| 2   | $1.732\\sqrt{k/m}$| \n",
    "\n",
    "<img src=\"./images/2dof-mode-1.gif\" width=\"300px\" align= center></img>\n",
    "<img src=\"./images/2dof-mode-2.gif\" width=\"300px\" align= center></img>\n",
    "<center> <small>Sistema con 2 grados de libertad (Fuente: <a href=\"https://www.acs.psu.edu/drussell/demos.html\">Daniel A. Russell)</a></small></center>"
   ]
  },
  {
   "cell_type": "markdown",
   "id": "5a0c9868",
   "metadata": {
    "cell_style": "split",
    "slideshow": {
     "slide_type": "fragment"
    }
   },
   "source": [
    "**Sistema con 3 grados de libertad**\n",
    "\n",
    "|modo | $\\omega_n$   |\n",
    "|:---:|:------------:|\n",
    "| 1   | $0.765\\sqrt{k/m}$ |\n",
    "| 2   | $1.414\\sqrt{k/m}$| \n",
    "| 3   | $1.868\\sqrt{k/m}$| \n",
    "\n",
    "<img src=\"./images/3dof-mode-1.gif\" width=\"300px\" align= center></img>\n",
    "<img src=\"./images/3dof-mode-2.gif\" width=\"300px\" align= center></img>\n",
    "<img src=\"./images/3dof-mode-3.gif\" width=\"300px\" align= center></img>\n",
    "<center> <small>Sistema con 3 grados de libertad (Fuente: <a href=\"https://www.acs.psu.edu/drussell/demos.html\">Daniel A. Russell)</a></small></center>"
   ]
  },
  {
   "cell_type": "markdown",
   "id": "26c69b02",
   "metadata": {
    "slideshow": {
     "slide_type": "slide"
    }
   },
   "source": [
    "Notar la forma en que las frecuencias naturales se distribuye a medida que aumentamos los grados de libertad del sistema (*Las flechas rojas indican la dirección de las masas asociada a cada modo de vibración*):\n",
    "\n",
    "\n",
    "<img src=\"./images/nat_frequency_hybrid.png\" width=\"800px\" align= center>"
   ]
  },
  {
   "cell_type": "markdown",
   "id": "c2c54a68",
   "metadata": {
    "slideshow": {
     "slide_type": "slide"
    }
   },
   "source": [
    "En este caso, para **activar la resonancia de un modo mediante una fuerza oscilatoria externa** se deben cumplir dos condiciones:\n",
    "\n",
    "- **La fercuencia de la fuerza externa ($\\omega$) debe ser igual a la frecuencia natural del modo respectivo**\n",
    "- **El sentido de la fuerza debe ser compatible con el movimiento independiente de cada elemento**"
   ]
  },
  {
   "cell_type": "markdown",
   "id": "88b15e63",
   "metadata": {
    "slideshow": {
     "slide_type": "slide"
    }
   },
   "source": [
    "## Interacción de luz gases\n",
    "\n",
    "La interacción de luz con gases es el modelo más simple. En este caso, cada molécula representa un sistema oscilatorio"
   ]
  },
  {
   "cell_type": "markdown",
   "id": "1f02dfa3",
   "metadata": {
    "slideshow": {
     "slide_type": "slide"
    }
   },
   "source": [
    "### El oscilador armónico\n",
    "Consideremos la molecula de agua."
   ]
  },
  {
   "cell_type": "markdown",
   "id": "0435f143",
   "metadata": {
    "cell_style": "split",
    "slideshow": {
     "slide_type": "fragment"
    }
   },
   "source": [
    "<img src=\"./images/water_molecule.png\" width=\"400px\" align= center>"
   ]
  },
  {
   "cell_type": "markdown",
   "id": "511ceed2",
   "metadata": {
    "cell_style": "split",
    "slideshow": {
     "slide_type": "-"
    }
   },
   "source": [
    "Esta molécula está **polarizada**, es decir, posee una **carga eléctrica neta positiva en un extremo y negativa en otro**. \n",
    "\n",
    "Esto ocurre debido a que los electrones se mantienen, preferentemente, en la región cercana al núcleo del oxígeno."
   ]
  },
  {
   "cell_type": "markdown",
   "id": "90573d0f",
   "metadata": {
    "cell_style": "center",
    "slideshow": {
     "slide_type": "slide"
    }
   },
   "source": [
    "El enlance entre el hidrógeno y oxígeno genera una fuerza de atracción, la cual es contrarestada por la repulción entre los núcleos. En forma simplificada, podemos representar este fenómeno mediante un sistema *masa-resorte*."
   ]
  },
  {
   "cell_type": "markdown",
   "id": "7b152a52",
   "metadata": {
    "cell_style": "split"
   },
   "source": [
    "<img src=\"./images/water_molecule_spring.png\" width=\"300px\" align= center>"
   ]
  },
  {
   "cell_type": "markdown",
   "id": "d7d8d84b",
   "metadata": {
    "cell_style": "split",
    "slideshow": {
     "slide_type": "fragment"
    }
   },
   "source": [
    "En otras palabras, cada enlace en la molécula de agua representa un oscilador armónico, con una fuerza de restauración:\n",
    "\n",
    "\\begin{equation*}\n",
    "F = -k(r - r_0)\n",
    "\\end{equation*}\n",
    "\n",
    "donde $k$ es la constante de rigidez y $r_0$ es la posición de los núcleos en equilibrio."
   ]
  },
  {
   "cell_type": "markdown",
   "id": "a47dc7ed",
   "metadata": {
    "slideshow": {
     "slide_type": "slide"
    }
   },
   "source": [
    "### Modelo de Lorentz\n",
    "\n",
    "Consideremos ahora la interacción de una onda electromagnética con una molécula di atómica."
   ]
  },
  {
   "cell_type": "markdown",
   "id": "58ad790c",
   "metadata": {
    "cell_style": "split",
    "slideshow": {
     "slide_type": "fragment"
    }
   },
   "source": [
    "<img src=\"./images/molecule_spring_mass.png\" width=\"300px\" align= center>"
   ]
  },
  {
   "cell_type": "markdown",
   "id": "e8dec281",
   "metadata": {
    "cell_style": "split",
    "slideshow": {
     "slide_type": "fragment"
    }
   },
   "source": [
    "El campo eléctrico de la onda EM ($E_0e^{-i\\omega t}$), ejerce una fuerza $F = qE_0e^{-i\\omega t}$ sobre cada polo, donde $q$ es la carga eléctrica del polo positivo (o negativo). "
   ]
  },
  {
   "cell_type": "markdown",
   "id": "aca8c93d",
   "metadata": {
    "cell_style": "split",
    "slideshow": {
     "slide_type": "fragment"
    }
   },
   "source": [
    "Consideramos, ademas, una fuerza de amortiguación, $F_{c} = - m\\Gamma \\dot{x}$, que **representa la disipación de energía** por la colición entre los electrones y los nucleos, además de otras interacciónes electromagnéticas. La constante **$\\Gamma$** es la **tasa de decaimiento** (se mide en unidades 1/s)."
   ]
  },
  {
   "cell_type": "markdown",
   "id": "12aa8754",
   "metadata": {
    "cell_style": "split",
    "slideshow": {
     "slide_type": "fragment"
    }
   },
   "source": [
    "\n",
    "\n",
    "***El fenómeno, así, representa un sistema forzado amortiguado***"
   ]
  },
  {
   "cell_type": "markdown",
   "id": "893cc2a3",
   "metadata": {
    "cell_style": "center",
    "slideshow": {
     "slide_type": "slide"
    }
   },
   "source": [
    "Asumiendo un eje de referencia situado en el polo positivo, la ecuación de movimiento está dada por:\n",
    "\n",
    "\\begin{equation*}\n",
    "m\\ddot{x} + m\\Gamma \\dot{x} +  k x = qE_0 e^{-i\\omega t},\n",
    "\\end{equation*}\n",
    "\n",
    "donde $m$ es la masa del polo positivo, $k$ es la constante de rigidez del enlace entre los polos."
   ]
  },
  {
   "cell_type": "markdown",
   "id": "a0148a8d",
   "metadata": {
    "slideshow": {
     "slide_type": "fragment"
    }
   },
   "source": [
    "La solución estacionaria está dada por la solución particular:\n",
    "\n",
    "\\begin{equation*}\n",
    "x_p(t) = \\frac{q/mE_0}{\\omega_n^2 - \\omega^2 - i\\Gamma \\omega}e^{-i\\omega t}\n",
    "\\end{equation*}"
   ]
  },
  {
   "cell_type": "markdown",
   "id": "2a79298d",
   "metadata": {
    "slideshow": {
     "slide_type": "slide"
    }
   },
   "source": [
    "El desplazamiento del polo positivo respecto a su estado en equilibrio induce un **momento dipolar**, $\\vec{p}$, el cual expresamos a través de la relación:\n",
    "\n",
    "\\begin{equation*}\n",
    "\\vec{p} = q\\vec{x}_p(t) =  \\frac{q^2/m}{\\omega_n^2 - \\omega^2 - i\\Gamma \\omega}E_0e^{-i\\omega t}\\hat{e}\\quad\\mathrm{[C\\cdot m]}\n",
    "\\end{equation*}\n",
    "\n",
    "donde $\\hat{e}$ es la dirección del campo eléctrico"
   ]
  },
  {
   "cell_type": "markdown",
   "id": "559e4684",
   "metadata": {
    "slideshow": {
     "slide_type": "fragment"
    }
   },
   "source": [
    "En el caso real, este fenómenos se da en un volumen con miles de moleculas de agua. Así, definimos la **densidad de polarización**, $\\vec{P}$, como el **momento dipolar inducido total por unidad de volumen**:\n",
    "\n",
    "\\begin{equation*}\n",
    "\\vec{P} = N_p \\vec{p} = \\frac{N_pq^2/m}{\\omega_n^2 - \\omega^2 - i\\Gamma \\omega}\\vec{E}\\quad\\mathrm{\\left[\\frac{C\\cdot m}{m^3}\\right]}\n",
    "\\end{equation*}"
   ]
  },
  {
   "cell_type": "markdown",
   "id": "6f98c011",
   "metadata": {
    "slideshow": {
     "slide_type": "slide"
    }
   },
   "source": [
    "En presencia de un medio polarizado, la ley de Gauss se modifica como: $\\nabla\\cdot\\left(\\varepsilon_0\\vec{E} + \\vec{P}\\right) = 0$. "
   ]
  },
  {
   "cell_type": "markdown",
   "id": "c4a3331b",
   "metadata": {
    "slideshow": {
     "slide_type": "fragment"
    }
   },
   "source": [
    "Representando esta relación en la forma, $\\nabla\\cdot\\varepsilon_0\\varepsilon\\vec{E} = \\rho$, podemos deducir un modelo para la constante dieléctrica del sistema $\\varepsilon$:\n",
    "\n",
    "\\begin{equation*}\n",
    "\\varepsilon = 1 +\\frac{\\omega_p^2}{\\omega_n^2 - \\omega^2 - i\\Gamma \\omega},\n",
    "\\end{equation*}\n",
    "\n",
    "con $\\omega_p^2 = \\frac{N_pq^2}{\\varepsilon_0 m}$"
   ]
  },
  {
   "cell_type": "markdown",
   "id": "81b68cdd",
   "metadata": {
    "slideshow": {
     "slide_type": "fragment"
    }
   },
   "source": [
    "En el caso del agua, la molecula posee un dipolo eléctrico neto adicional al dipolo inducido. El efecto de la polarización neta se puede representar, cambiando el primer término por un valor constante $\\varepsilon_\\infty$."
   ]
  },
  {
   "cell_type": "markdown",
   "id": "500b9754",
   "metadata": {
    "slideshow": {
     "slide_type": "fragment"
    }
   },
   "source": [
    "El modelo completo se conoce como **modelo de Lorentz**:\n",
    "\n",
    "\\begin{equation}\n",
    "\\varepsilon = \\varepsilon_\\infty + \\frac{\\omega_p^2}{\\omega_n^2 - \\omega^2 - i\\Gamma \\omega}\\quad\\mathrm{Modelo~de~Lorentz},\n",
    "\\end{equation}"
   ]
  },
  {
   "cell_type": "markdown",
   "id": "7105088b",
   "metadata": {
    "slideshow": {
     "slide_type": "slide"
    }
   },
   "source": [
    "Usaremos la función `lorentz` del módulo `empylib.nklib` para generar el índice de refracción y constante dielectrica a partir del modelo de Lorentz."
   ]
  },
  {
   "cell_type": "code",
   "execution_count": 4,
   "id": "cbd90054",
   "metadata": {
    "slideshow": {
     "slide_type": "skip"
    },
    "tags": [
     "hide-input"
    ]
   },
   "outputs": [],
   "source": [
    "import numpy as np\n",
    "import matplotlib.pyplot as plt\n",
    "import empylib.nklib as nk\n",
    "import empylib as em\n",
    "\n",
    "def lorentz_model(epsinf,wn,wp,gamma):\n",
    "    # espectro \n",
    "    lam = np.linspace(1E-3,3,1000)     # convertimos a \"micrones\"\n",
    "\n",
    "    # creamos el modelo de lorentz\n",
    "    N1 = nk.lorentz(epsinf,wp,wn,gamma,lam) # índice de refracción a partir del modelo de Lorentz\n",
    "    eps1 = N1**2                            # constante dieléctrica\n",
    "\n",
    "    # formateamos el lienzo para graficar\n",
    "    fig, ax = plt.subplots(1,2)             # número de ejes en la figura\n",
    "    fig.set_size_inches(10, 3)              # tamaño de la figura\n",
    "    plt.rcParams['font.size'] = '10'        # tamaño de fuente\n",
    "\n",
    "    #ploteamos\n",
    "    ax[0].plot(lam,eps1.real,'b',label=r\"$\\varepsilon'$\")\n",
    "    ax[0].plot(lam,eps1.imag,'r',label=r\"$\\varepsilon''$\")\n",
    "    ax[1].plot(lam,N1.real,'b',label=r\"$n$\")\n",
    "    ax[1].plot(lam,N1.imag,'r',label=r\"$\\kappa$\")\n",
    "    \n",
    "    # marcar línea de frecuencia natural\n",
    "    lam_n = em.convert_units(wn,'eV','um')\n",
    "    ax[0].axvline(x = lam_n, color='k', ls='--', lw='1.0')  \n",
    "    ax[0].text(lam_n*1.01,-10,'$\\omega_n$', fontsize='12', color='k')\n",
    "\n",
    "    for i in [0,1]:\n",
    "        ax[i].set_xlabel('Longitud de onda, $\\lambda$ ($\\mu$m)')\n",
    "        ax[i].grid()\n",
    "        ax[i].legend(frameon=False)\n",
    "        ax[i].set_xlim(0.5,3.0)\n",
    "    ax[0].set_ylabel(r\"Constante dielectrica, $\\varepsilon = \\varepsilon'+ \\varepsilon''$\")\n",
    "    ax[1].set_ylabel(r'Indice de refracción, $N = n + i\\kappa$')\n",
    "    ax[0].set_ylim(-20,30)\n",
    "    ax[1].set_ylim(0,5)\n",
    "    plt.show()"
   ]
  },
  {
   "cell_type": "code",
   "execution_count": 5,
   "id": "be118d5a",
   "metadata": {
    "slideshow": {
     "slide_type": "fragment"
    },
    "tags": [
     "hide-input"
    ]
   },
   "outputs": [
    {
     "data": {
      "application/vnd.jupyter.widget-view+json": {
       "model_id": "0a278312d04f4b369dedba785eec6603",
       "version_major": 2,
       "version_minor": 0
      },
      "text/plain": [
       "interactive(children=(FloatSlider(value=7.0, description='epsinf', max=10.0, min=1.0, step=0.5), FloatSlider(v…"
      ]
     },
     "metadata": {},
     "output_type": "display_data"
    }
   ],
   "source": [
    "from ipywidgets import interact\n",
    "\n",
    "@interact( epsinf=(1,10,0.5), \n",
    "           wp=(0.3,1.0,0.1), \n",
    "           wn=(0.5,2.0,0.1), \n",
    "           gamma=(0.01,0.05,0.005))\n",
    "def g(epsinf=7,wp=0.8,wn=0.7, gamma=0.04):\n",
    "    return lorentz_model(epsinf,wn,wp,gamma)"
   ]
  },
  {
   "cell_type": "markdown",
   "id": "37d59ca2",
   "metadata": {
    "slideshow": {
     "slide_type": "slide"
    }
   },
   "source": [
    ">**El modelo de Lorentz se utiliza como modelo de ajuste para representar la interacción de la luz con los modos vibratorios en la materia**"
   ]
  },
  {
   "cell_type": "markdown",
   "id": "9e2ae231",
   "metadata": {
    "slideshow": {
     "slide_type": "slide"
    }
   },
   "source": [
    "Por ejemplo, la molécula de agua tiene 3 modos de vibración fundamentales en las longitudes de onda $\\lambda = $ 2.98, 2.93 y 5.91 $\\mu$m (3351, 3412 y 1691 cm$^{-1}$)"
   ]
  },
  {
   "cell_type": "code",
   "execution_count": 6,
   "id": "6f7c32e8",
   "metadata": {
    "cell_style": "center",
    "tags": [
     "remove-input"
    ]
   },
   "outputs": [
    {
     "data": {
      "image/jpeg": "[encoded data removed]",
      "text/html": [
       "\n",
       "<iframe\n",
       "    width=\"600\"\n",
       "    height=\"400\"\n",
       "    src=\"https://www.youtube.com/embed/1uE2lvVkKW0?playsinline=0\"\n",
       "    frameborder=\"0\"\n",
       "    allowfullscreen\n",
       "\n",
       "></iframe>\n"
      ],
      "text/plain": [
       "<IPython.lib.display.YouTubeVideo at 0x7f545b027190>"
      ]
     },
     "execution_count": 6,
     "metadata": {
      "filenames": {
       "image/jpeg": "/mnt/c/Users/frami/OneDrive - Universidad Adolfo Ibanez/Teaching_courses/MEC501 - Manejo_y_Conversion_Energia_Solar/material_catedra/_build/jupyter_execute/03_Interacción_materia-luz/03_Interacción_materia-luz_56_0.jpg"
      }
     },
     "output_type": "execute_result"
    }
   ],
   "source": [
    "from IPython.display import YouTubeVideo\n",
    "YouTubeVideo('1uE2lvVkKW0', width=600, height=400,  playsinline=0)"
   ]
  },
  {
   "cell_type": "markdown",
   "id": "d2e7a860",
   "metadata": {
    "slideshow": {
     "slide_type": "slide"
    }
   },
   "source": [
    "Al graficar el índice de refracción notamos que la gráfica muestra dos oscilaciones de Lorentz. Usamos el módulo `nklib` de la librería `empylib` para graficar el índice de refracción del agua"
   ]
  },
  {
   "cell_type": "code",
   "execution_count": 7,
   "id": "a8fe3e5b",
   "metadata": {
    "cell_style": "center",
    "slideshow": {
     "slide_type": "skip"
    },
    "tags": [
     "hide-input"
    ]
   },
   "outputs": [],
   "source": [
    "%%capture showplot1\n",
    "import numpy as np\n",
    "import matplotlib.pyplot as plt\n",
    "import empylib.nklib as nk\n",
    "\n",
    "# Creamos el espectro\n",
    "lam = np.linspace(0.2,10,1000)                          # espectro de longitudes de onda\n",
    "N1   = nk.H2O(lam)                                      # índice de refracción\n",
    "eps1 = N1**2                                            # constante dieléctrica\n",
    "\n",
    "# Formateamos el lienzo para graficar\n",
    "fig, ax = plt.subplots(1,2)                             # número de ejes en la figura\n",
    "fig.set_size_inches(10, 3)                              # tamaño de la figura\n",
    "plt.rcParams['font.size'] = '12'                        # tamaño de fuente\n",
    "\n",
    "# Graficamos el resultado\n",
    "ax[0].plot(lam,eps1.real,'b',label=r\"$\\varepsilon'$\")   # constante dieléctrica (parte real)\n",
    "ax[0].plot(lam,eps1.imag,'r',label=r\"$\\varepsilon''$\")  # constante dieléctrica (parte imaginaria)\n",
    "ax[1].plot(lam,N1.real,'b',label=r\"$n$\")                # índice de refracción (parte real)\n",
    "ax[1].plot(lam,N1.imag,'r',label=r\"$\\kappa$\")           # índice de refracción (parte imaginaria)\n",
    "\n",
    "# Marcamos los valores máximos con una línea\n",
    "for i in [280, 599]:\n",
    "    ax[0].axvline(x = lam[i], color='k', ls='--', lw='1.0')\n",
    "    ax[1].axvline(x = lam[i], color='k', ls='--', lw='1.0')\n",
    "    ax[0].text(lam[i]*1.02,eps1[i].imag,r'%.3f $\\mu$m'% lam[i], fontsize='10')\n",
    "\n",
    "for i in [0,1]:\n",
    "    ax[i].set_xlabel('Longitud de onda, $\\lambda$ ($\\mu$m)')\n",
    "    ax[i].grid()\n",
    "    ax[i].set_xlim(0.2,10)\n",
    "    ax[i].legend(frameon=False)\n",
    "ax[0].set_ylabel(r\"Constante dielectrica, $\\varepsilon = \\varepsilon'+ \\varepsilon''$\")\n",
    "ax[1].set_ylabel(r'Indice de refracción, $N = n + i\\kappa$')\n",
    "plt.show()"
   ]
  },
  {
   "cell_type": "code",
   "execution_count": 8,
   "id": "e793dcc9",
   "metadata": {
    "slideshow": {
     "slide_type": "-"
    },
    "tags": [
     "hide-input"
    ]
   },
   "outputs": [
    {
     "data": {
      "image/png": "[encoded data removed]",
      "text/plain": [
       "<Figure size 1000x300 with 2 Axes>"
      ]
     },
     "metadata": {
      "filenames": {
       "image/png": "/mnt/c/Users/frami/OneDrive - Universidad Adolfo Ibanez/Teaching_courses/MEC501 - Manejo_y_Conversion_Energia_Solar/material_catedra/_build/jupyter_execute/03_Interacción_materia-luz/03_Interacción_materia-luz_59_0.png"
      }
     },
     "output_type": "display_data"
    }
   ],
   "source": [
    "showplot1()"
   ]
  },
  {
   "cell_type": "markdown",
   "id": "7cf5b0bb",
   "metadata": {
    "slideshow": {
     "slide_type": "fragment"
    }
   },
   "source": [
    "Notar que la resonancia en $\\lambda =$ 2.98 $\\mu$m (3351 cm$^{-1}$) no está presente en el espectro."
   ]
  },
  {
   "cell_type": "markdown",
   "id": "f4cf6867",
   "metadata": {
    "slideshow": {
     "slide_type": "fragment"
    }
   },
   "source": [
    "Este modo no es compatible con la oscilación de una onda electromagnética plana. Así la luz no interactúa con esta vibración y, por lo tanto, no se ve representada en el espectro del índice de refracción."
   ]
  },
  {
   "cell_type": "markdown",
   "id": "7563a9c6",
   "metadata": {
    "slideshow": {
     "slide_type": "slide"
    }
   },
   "source": [
    "## Interacción de la luz con sólidos\n",
    "El análisis anterior generalmente se aplica a gases, donde las moléculas no interactúan entre sí. En el caso de materiales sólidos, la interacción entre moléculas es fuerte, y genera bandas electrónicas de energía."
   ]
  },
  {
   "cell_type": "markdown",
   "id": "fc5bbf6d",
   "metadata": {
    "cell_style": "split",
    "slideshow": {
     "slide_type": "fragment"
    }
   },
   "source": [
    "- **Banda de valencia**: corresponde a la banda ocupada por electrones con el mayor nivel de energía. En esta banda los electrones permanecen en un estado \"ligado\" al núcleo.\n",
    "\n",
    "- **Banda de conducción**: corresponde a la banda no ocupada por electrones con el menor nivel de energía. En esta banda los electrones se mueven líbremente por el material\n",
    "\n",
    "- **Banda prohibida (*band-gap*)**: Es la diferencia entre la banda de conducción y la banda de valencia"
   ]
  },
  {
   "cell_type": "markdown",
   "id": "5b106497",
   "metadata": {
    "cell_style": "split"
   },
   "source": [
    "<img src=\"./images/bandas_electronicas.png\" width=\"300px\" align= center>"
   ]
  },
  {
   "cell_type": "markdown",
   "id": "87545d36",
   "metadata": {
    "cell_style": "center",
    "slideshow": {
     "slide_type": "slide"
    }
   },
   "source": [
    "A partir de la separación entre la banda de conducción y la banda de valencia, podemos clasificar tres tipos de materiales en función de sus propiedades electrónicas:\n",
    "\n",
    "<img src=\"./images/energy_bands_clasification.png\" width=\"700px\" align= center>"
   ]
  },
  {
   "cell_type": "markdown",
   "id": "83b59b21",
   "metadata": {
    "slideshow": {
     "slide_type": "slide"
    }
   },
   "source": [
    "- **Conductor**, donde las bandas de conducción y valencia están traslapadas (bandgap = 0). En estos materiales, parte de los electrones están alojados en la banda de conducción y, por lo tanto, son capaces de conducir corriente eléctrica en presencia de un campo eléctrico.\n",
    "\n",
    "- **Semiconductor**, donde las bandas de conducción y valencia están separadas. Sin embargo, la energía del bandgap es relativamente pequeña, de manera que un electrón puede ser llevado a la banda de conducción mediante un potencial eléctrico razonable, o mediante una onda electromagnética.\n",
    "\n",
    "- **Aislante**, donde las bandas de conducción y valencia están muy separadas. El umbral para excitar un electrón a la banda de conducción es demaciado grande y, por lo tanto, el material no es capaz de conducir corriente."
   ]
  },
  {
   "cell_type": "markdown",
   "id": "b2df41eb",
   "metadata": {
    "slideshow": {
     "slide_type": "fragment"
    }
   },
   "source": [
    "La respuesta óptica de cada tipo de material está condicionada por sus propiedades electrónicas"
   ]
  },
  {
   "cell_type": "markdown",
   "id": "c46ef750",
   "metadata": {
    "slideshow": {
     "slide_type": "slide"
    }
   },
   "source": [
    "### Aislantes (modelo de Lorentz)\n",
    "Debido a que los electrones en un aislante están fuertemente ligados al núcleo, la respuesta óptica de este material está condicionada por los modos de vibración de la red atómica. Así, la constante dieléctrica y el indice de refración siguen un comportamiento similar al modelo de Lorentz."
   ]
  },
  {
   "cell_type": "markdown",
   "id": "fe65eea6",
   "metadata": {
    "slideshow": {
     "slide_type": "fragment"
    }
   },
   "source": [
    "Por ejemplo, el sílice (SiO$_2$)"
   ]
  },
  {
   "cell_type": "markdown",
   "id": "211ced63",
   "metadata": {},
   "source": [
    "<img src=\"./images/silica_fig.png\" width=\"700px\" align= center>"
   ]
  },
  {
   "cell_type": "markdown",
   "id": "ec221342",
   "metadata": {
    "slideshow": {
     "slide_type": "slide"
    }
   },
   "source": [
    "Tiene un índice de refracción donde podemos ver con claridad los modos de resonancia típicos del modelo de Lorentz"
   ]
  },
  {
   "cell_type": "code",
   "execution_count": 9,
   "id": "9cf6d68e",
   "metadata": {
    "slideshow": {
     "slide_type": "skip"
    },
    "tags": [
     "hide-input"
    ]
   },
   "outputs": [],
   "source": [
    "%%capture showplot1\n",
    "import numpy as np\n",
    "import matplotlib.pyplot as plt\n",
    "import empylib.nklib as nk\n",
    "\n",
    "lam = np.linspace(0.2,30,1000)                          # espectro de longitudes de onda\n",
    "N1   = nk.SiO2(lam)                                     # índice de refracción\n",
    "eps1 = N1**2                                            # constante dieléctrica\n",
    "\n",
    "# formateamos el lienzo para graficar\n",
    "fig, ax = plt.subplots(1,2)                             # número de ejes en la figura\n",
    "fig.set_size_inches(10, 3)                              # tamaño de la figura\n",
    "plt.rcParams['font.size'] = '10'                        # tamaño de fuente\n",
    "\n",
    "# Graficamos el resultado\n",
    "ax[0].plot(lam,eps1.real,'b',label=r\"$\\varepsilon'$\")   # constante dieléctrica (parte real)\n",
    "ax[0].plot(lam,eps1.imag,'r',label=r\"$\\varepsilon''$\")  # constante dieléctrica (parte imaginaria)\n",
    "ax[1].plot(lam,N1.real,'b',label=r\"$n$\")                # índice de refracción (parte real)\n",
    "ax[1].plot(lam,N1.imag,'r',label=r\"$\\kappa$\")           # índice de refracción (parte imaginaria)\n",
    "\n",
    "for i in [0,1]:\n",
    "    ax[i].set_xlabel('Longitud de onda, $\\lambda$ ($\\mu$m)')\n",
    "    ax[i].grid()\n",
    "    ax[i].legend(frameon=False)\n",
    "ax[0].set_ylabel(r\"Constante dielectrica, $\\varepsilon = \\varepsilon'+ \\varepsilon''$\")\n",
    "ax[1].set_ylabel(r'Indice de refracción, $N = n + i\\kappa$')\n",
    "plt.show()"
   ]
  },
  {
   "cell_type": "code",
   "execution_count": 10,
   "id": "1f22dda2",
   "metadata": {
    "slideshow": {
     "slide_type": "fragment"
    }
   },
   "outputs": [
    {
     "data": {
      "image/png": "[encoded data removed]",
      "text/plain": [
       "<Figure size 1000x300 with 2 Axes>"
      ]
     },
     "metadata": {
      "filenames": {
       "image/png": "/mnt/c/Users/frami/OneDrive - Universidad Adolfo Ibanez/Teaching_courses/MEC501 - Manejo_y_Conversion_Energia_Solar/material_catedra/_build/jupyter_execute/03_Interacción_materia-luz/03_Interacción_materia-luz_73_0.png"
      }
     },
     "output_type": "display_data"
    }
   ],
   "source": [
    "showplot1()"
   ]
  },
  {
   "cell_type": "markdown",
   "id": "3cb654bd",
   "metadata": {
    "slideshow": {
     "slide_type": "slide"
    }
   },
   "source": [
    "### Conductores (modelo de Drude)\n",
    "En este caso los electrónes se mueven libremente por la red atómica."
   ]
  },
  {
   "cell_type": "markdown",
   "id": "d19f5aef",
   "metadata": {
    "slideshow": {
     "slide_type": "fragment"
    }
   },
   "source": [
    "Podemos representar la interacción de los electrones libres con una onda electromagnética utilizando la ecuación de movimiento. En este caso, no hay fuerza de restauración ($kx = 0$), y la ecuación es:\n",
    "\n",
    "\\begin{equation*}\n",
    "m_e\\ddot{x} + m_e\\Gamma_e \\dot{x} = eE_0 e^{-i\\omega t},\n",
    "\\end{equation*}\n",
    "\n",
    "donde $m_e$, $e$ y $\\Gamma_e$ son, respectivamente, la masa, la carga elemental y la taza de decaimiento del electrón."
   ]
  },
  {
   "cell_type": "markdown",
   "id": "710b872b",
   "metadata": {
    "slideshow": {
     "slide_type": "slide"
    }
   },
   "source": [
    "Mediante un procedimiento similar al utilzado para el modelo de Lorentz, derivamos el **modelo de Drude** para conductores:\n",
    "\n",
    "\\begin{equation}\n",
    "\\varepsilon = \\varepsilon_\\infty - \\frac{\\omega_p^2}{\\omega^2 + i\\Gamma_e \\omega},\\quad\\mathrm{Modelo~de~Drude},\n",
    "\\end{equation}\n",
    "\n",
    "donde $\\omega_p^2 = \\frac{N_ee^2}{\\varepsilon_0 m}$ se conoce como frecuencia de plasma, y $N_e$ es la densidad de número de electrones. Similar al modelo de Lorentz, $\\varepsilon_\\infty$ representa la polarización neta del material."
   ]
  },
  {
   "cell_type": "markdown",
   "id": "0ced6571",
   "metadata": {
    "slideshow": {
     "slide_type": "slide"
    }
   },
   "source": [
    "Usaremos la función `drude` del módulo `empylib.nklib` para generar el índice de refracción y constante dielectrica a partir del modelo de Drude. *En el gráfico marcamos el equivalente a $\\omega_p$ en longitud de onda $\\lambda_p = 2\\pi c_0/\\omega_p$.*"
   ]
  },
  {
   "cell_type": "code",
   "execution_count": 11,
   "id": "9f227ccd",
   "metadata": {
    "slideshow": {
     "slide_type": "skip"
    },
    "tags": [
     "hide-input"
    ]
   },
   "outputs": [],
   "source": [
    "import numpy as np\n",
    "import matplotlib.pyplot as plt\n",
    "import empylib.nklib as nk\n",
    "import empylib as em\n",
    "\n",
    "def drude_model(epsinf,wp,gamma):\n",
    "    lam = np.linspace(1E-3,5,1000)    # longitudes de onda\n",
    "\n",
    "    # contruimos el modelo de Drude\n",
    "    N1 = nk.drude(epsinf,wp,gamma,lam)     # índice de refra]cción\n",
    "    eps1 = N1**2                           # constante dieléctrica\n",
    "\n",
    "    # formateamos el lienzo para graficar\n",
    "    fig, ax = plt.subplots(1,2)             # número de ejes en la figura\n",
    "    fig.set_size_inches(10, 3)              # tamaño de la figura\n",
    "    plt.rcParams['font.size'] = '10'        # tamaño de fuente\n",
    "\n",
    "    # graficamos constante dielectrica e índice de refracción\n",
    "    ax[0].plot(lam,eps1.real,'b',label=r\"$\\varepsilon'$\")\n",
    "    ax[0].plot(lam,eps1.imag,'r',label=r\"$\\varepsilon''$\")\n",
    "    ax[1].plot(lam,N1.real,'b',label=r\"$n$\")\n",
    "    ax[1].plot(lam,N1.imag,'r',label=r\"$\\kappa$\")\n",
    "    \n",
    "    # marcar línea de frecuencia natural\n",
    "    lam_p = em.convert_units(wp,'eV','um')\n",
    "    ax[0].axvline(x = lam_p, color='k', ls='--', lw='1.0')  \n",
    "    ax[0].text(lam_p*1.1,-9,r'$\\lambda_p =%.3f$ $\\mu$m' % lam_p, fontsize='10', color='k')\n",
    "\n",
    "    for i in [0,1]:\n",
    "        ax[i].set_xlabel('Longitud de onda, $\\lambda$ ($\\mu$m)')\n",
    "        ax[i].grid()\n",
    "        ax[i].legend(frameon=False)\n",
    "        ax[i].set_xlim(0,5.0)\n",
    "    ax[0].set_ylabel(r\"Constante dielectrica, $\\varepsilon = \\varepsilon'+ \\varepsilon''$\")\n",
    "    ax[1].set_ylabel(r'Indice de refracción, $N = n + i\\kappa$')\n",
    "    ax[0].set_ylim(-10,10)\n",
    "    ax[1].set_ylim(0,5)\n",
    "    plt.show()"
   ]
  },
  {
   "cell_type": "code",
   "execution_count": 12,
   "id": "d16caa41",
   "metadata": {
    "tags": [
     "hide-input"
    ]
   },
   "outputs": [
    {
     "data": {
      "application/vnd.jupyter.widget-view+json": {
       "model_id": "d2b64029729f469c94e62183ccae987a",
       "version_major": 2,
       "version_minor": 0
      },
      "text/plain": [
       "interactive(children=(FloatSlider(value=1.0, description='epsinf', max=5.0, min=1.0), FloatSlider(value=1.0, d…"
      ]
     },
     "metadata": {},
     "output_type": "display_data"
    }
   ],
   "source": [
    "from ipywidgets import interact\n",
    "\n",
    "@interact( epsinf=(1,5,0.1), \n",
    "           wp=(0.4,2.0,0.05), \n",
    "           gamma=(0.01,0.2,0.01))\n",
    "def g(epsinf=1,wp=1.0, gamma=0.1):\n",
    "    return drude_model(epsinf,wp,gamma)"
   ]
  },
  {
   "cell_type": "markdown",
   "id": "70eb89e5",
   "metadata": {
    "slideshow": {
     "slide_type": "fragment"
    }
   },
   "source": [
    "Notar que en modelo de Drude la condición $\\varepsilon' < 0$ se manifiesta en el índice de refracción como $\\kappa > n$. Esta condición se da cuando $\\lambda_p \\lesssim \\lambda$"
   ]
  },
  {
   "cell_type": "markdown",
   "id": "d5ff724d",
   "metadata": {
    "slideshow": {
     "slide_type": "slide"
    }
   },
   "source": [
    "Cuando $\\kappa > n$ la reflectividad aumenta significativamente. Esto explica la alta reflectividad en los conductores eléctricos"
   ]
  },
  {
   "cell_type": "code",
   "execution_count": 13,
   "id": "acf8f689",
   "metadata": {
    "slideshow": {
     "slide_type": "skip"
    },
    "tags": [
     "hide-input"
    ]
   },
   "outputs": [],
   "source": [
    "%%capture showplot3\n",
    "\n",
    "import numpy as np\n",
    "import matplotlib.pyplot as plt\n",
    "from empylib.waveoptics import interface\n",
    "import empylib as em\n",
    "import empylib.nklib as nk\n",
    "\n",
    "def drude_reflection(epsinf,wp,gamma):\n",
    "    lam = np.linspace(1E-3,5,1000)    # longitudes de onda\n",
    "\n",
    "    # contruimos el modelo de Drude\n",
    "    n2 = nk.drude(epsinf,wp,gamma,lam)     # índice de refracción\n",
    "    \n",
    "    # índice de refracción aire\n",
    "    n1 = np.ones(n2.shape)                    \n",
    "\n",
    "    # Reflectividad en una interface entre un material de Drude y aire\n",
    "    Rp = interface(0,n1,n2, pol='TM')[0] # TM\n",
    "    Rs = interface(0,n1,n2, pol='TE')[0] # TE\n",
    "\n",
    "    # formateamos el lienzo para graficar\n",
    "    fig, ax = plt.subplots(1,2)             # número de ejes en la figura\n",
    "    fig.set_size_inches(10, 3)              # tamaño de la figura\n",
    "    plt.rcParams['font.size'] = '10'        # tamaño de fuente\n",
    "\n",
    "    # graficamos constante dielectrica e índice de refracción\n",
    "    ax[0].plot(lam,n2.real,'b',label=r\"$n$\")\n",
    "    ax[0].plot(lam,n2.imag,'r',label=r\"$\\kappa$\")\n",
    "    ax[1].plot(lam,Rp, label='$R_\\mathrm{TM}$', color='red', lw=3.0)\n",
    "    ax[1].plot(lam,Rs, label='$R_\\mathrm{TE}$', color='blue', lw=2.0, ls='--')\n",
    "    \n",
    "    \n",
    "    # marcar línea de frecuencia natural\n",
    "    lam_p = em.convert_units(wp,'eV','um')\n",
    "    ax[0].axvline(x = lam_p, color='k', ls='--', lw='1.0')  \n",
    "    ax[0].text(lam_p*1.1,4,r'$\\lambda_p =%.3f$ $\\mu$m' % lam_p, fontsize='10', color='k')\n",
    "\n",
    "    for i in [0,1]:\n",
    "        ax[i].set_xlabel('Longitud de onda, $\\lambda$ ($\\mu$m)')\n",
    "        ax[i].grid()\n",
    "        ax[i].legend(frameon=False)\n",
    "        ax[i].set_xlim(0,5.0)\n",
    "    ax[0].set_ylabel(r'Indice de refracción, $N = n + i\\kappa$')\n",
    "    ax[1].set_ylabel('Reflectividad')\n",
    "    ax[0].set_ylim(0,5)\n",
    "    ax[1].set_ylim(0,1.0)\n",
    "    plt.show()"
   ]
  },
  {
   "cell_type": "code",
   "execution_count": 14,
   "id": "a609041d",
   "metadata": {
    "tags": [
     "hide-input"
    ]
   },
   "outputs": [
    {
     "data": {
      "application/vnd.jupyter.widget-view+json": {
       "model_id": "cb9cbb29ec654fb087c5b45ca43b5069",
       "version_major": 2,
       "version_minor": 0
      },
      "text/plain": [
       "interactive(children=(FloatSlider(value=1.0, description='epsinf', max=5.0, min=1.0), FloatSlider(value=1.0, d…"
      ]
     },
     "metadata": {},
     "output_type": "display_data"
    }
   ],
   "source": [
    "from ipywidgets import interact\n",
    "\n",
    "@interact( epsinf=(1,5,0.1), \n",
    "           wp=(0.4,2.0,0.05), \n",
    "           gamma=(0.01,0.2,0.01))\n",
    "def g(epsinf=1,wp=1.0, gamma=0.1):\n",
    "    return drude_reflection(epsinf,wp,gamma)"
   ]
  },
  {
   "cell_type": "markdown",
   "id": "49a27d3c",
   "metadata": {
    "slideshow": {
     "slide_type": "slide"
    }
   },
   "source": [
    "En general, los metales pueden ser bien representados por el modelo de Drude. En general, $\\omega_p$ se ubica en el espectro UV y, por lo tanto, reflejan la luz visible (efecto espejo)"
   ]
  },
  {
   "cell_type": "markdown",
   "id": "8daa8842",
   "metadata": {
    "slideshow": {
     "slide_type": "fragment"
    }
   },
   "source": [
    "Por ejemplo, en el caso de aluminio $\\omega_p = 15~\\mathrm{eV}\\approx 90~\\mathrm{nm}$"
   ]
  },
  {
   "cell_type": "code",
   "execution_count": 15,
   "id": "04cf0f46",
   "metadata": {
    "slideshow": {
     "slide_type": "skip"
    },
    "tags": [
     "hide-input"
    ]
   },
   "outputs": [],
   "source": [
    "%%capture showplot4\n",
    "import numpy as np\n",
    "import matplotlib.pyplot as plt\n",
    "import empylib.nklib as nk\n",
    "\n",
    "# índice de refracción y constante dielectrica aluminio\n",
    "lam = np.linspace(0.01,1.0,1000)        # espectro de longitudes de onda (um)\n",
    "N1 = nk.Al(lam)                         # índice de refracción\n",
    "eps1 = N1**2                            # constante dieléctrica\n",
    "\n",
    "# formateamos el lienzo para graficar\n",
    "fig, ax = plt.subplots(1,2)             # número de ejes en la figura\n",
    "fig.set_size_inches(10, 3)              # tamaño de la figura\n",
    "plt.rcParams['font.size'] = '10'        # tamaño de fuente\n",
    "\n",
    "# graficamos\n",
    "ax[0].plot(lam,eps1.real,'b',label=r\"$\\varepsilon'$\")\n",
    "ax[0].plot(lam,eps1.imag,'r',label=r\"$\\varepsilon''$\")\n",
    "ax[1].plot(lam,N1.real,'b',label=r\"$n$\")\n",
    "ax[1].plot(lam,N1.imag,'r',label=r\"$\\kappa$\")\n",
    "\n",
    "# formateamos los ejes\n",
    "for i in [0,1]:\n",
    "    ax[i].set_xlabel('Longitud de onda, $\\lambda$ ($\\mu$m)')\n",
    "    ax[i].grid()\n",
    "    ax[i].set_xlim(0.01,1.0)\n",
    "    ax[i].legend(frameon=False)\n",
    "ax[0].set_ylabel(r\"Constante dielectrica, $\\varepsilon = \\varepsilon'+ \\varepsilon''$\")\n",
    "ax[1].set_ylabel(r'Indice de refracción, $N = n + i\\kappa$')\n",
    "plt.show()"
   ]
  },
  {
   "cell_type": "code",
   "execution_count": 16,
   "id": "7661a2f2",
   "metadata": {
    "tags": [
     "hide-input"
    ]
   },
   "outputs": [
    {
     "data": {
      "image/png": "[encoded data removed]",
      "text/plain": [
       "<Figure size 1000x300 with 2 Axes>"
      ]
     },
     "metadata": {
      "filenames": {
       "image/png": "/mnt/c/Users/frami/OneDrive - Universidad Adolfo Ibanez/Teaching_courses/MEC501 - Manejo_y_Conversion_Energia_Solar/material_catedra/_build/jupyter_execute/03_Interacción_materia-luz/03_Interacción_materia-luz_87_0.png"
      }
     },
     "output_type": "display_data"
    }
   ],
   "source": [
    "showplot4()"
   ]
  },
  {
   "cell_type": "markdown",
   "id": "b48084ca",
   "metadata": {
    "slideshow": {
     "slide_type": "fragment"
    }
   },
   "source": [
    "Notemos como para $\\lambda \\approx 0.8$ $\\mu$m, la respuesta del material se desvía del modelo de Drude. Esta respuesta esta asociada a un modo de vibración (modelo de Lorentz)."
   ]
  },
  {
   "cell_type": "markdown",
   "id": "5444cb76",
   "metadata": {
    "slideshow": {
     "slide_type": "slide"
    }
   },
   "source": [
    "### Semiconductores (absorción interbanda)"
   ]
  },
  {
   "cell_type": "markdown",
   "id": "86f84d7a",
   "metadata": {
    "cell_style": "split"
   },
   "source": [
    "En este caso las interacciones con ondas electromagnéticas están dictadas por bandas de absorción asociadas a la excitación de electrones de valencia a la banda de conducción. \n",
    "\n",
    "Este fenómeno se conoce como **absorpción interbanda**, y ocurre cuando la energía del fotón $\\hbar\\omega$ ($\\hbar = 6.58\\times 10^16$ eV$\\cdot$s) es superior al bandgap del material."
   ]
  },
  {
   "cell_type": "markdown",
   "id": "e7cf5421",
   "metadata": {
    "cell_style": "split"
   },
   "source": [
    "<img src=\"./images/photoexcited_electrons.png\" width=\"400px\" align= center>"
   ]
  },
  {
   "cell_type": "markdown",
   "id": "ab66c449",
   "metadata": {
    "slideshow": {
     "slide_type": "slide"
    }
   },
   "source": [
    "Los semiconductores son los materiales fundamentales en transistores, LED y celdas fotovoltaicas. El semiconductor más conocido es el silicio (Si).\n",
    "\n",
    "<img src=\"./images/silicon_fig.png\" width=\"800px\" align= center>"
   ]
  },
  {
   "cell_type": "markdown",
   "id": "c2c3cdd1",
   "metadata": {
    "slideshow": {
     "slide_type": "slide"
    }
   },
   "source": [
    "El índice de refracción del silicio es:\n",
    "\n",
    "<img src=\"./images/si_nk.png\" width=\"700px\" align= center>"
   ]
  },
  {
   "cell_type": "markdown",
   "id": "7d6ebbb8",
   "metadata": {
    "slideshow": {
     "slide_type": "slide"
    }
   },
   "source": [
    "En general, los materiales pueden presentar más de un tipo de respuesta."
   ]
  },
  {
   "cell_type": "markdown",
   "id": "a22d914a",
   "metadata": {
    "cell_style": "center",
    "slideshow": {
     "slide_type": "fragment"
    }
   },
   "source": [
    "Por ejemplo, el oro tiene absorción interbanda en longitudes de onda $\\lambda < 0.5$ $\\mu$m, combinado con el modelo de Drude.\n",
    "<img src=\"./images/gold_nk.png\" width=\"800px\" align= center>"
   ]
  },
  {
   "cell_type": "markdown",
   "id": "8383d578",
   "metadata": {
    "cell_style": "center",
    "slideshow": {
     "slide_type": "slide"
    }
   },
   "source": [
    "Debido a esta respuesta, el oro absorbe las longitudes de onda correspondientes al azul y violeta, y refleja el resto de los colores.\n",
    "\n",
    "La siguiente figura muestra el color del oro según el ángulo de incidencia en base al espectro de reflección de una interface aire/oro."
   ]
  },
  {
   "cell_type": "code",
   "execution_count": 17,
   "id": "3eacd1a1",
   "metadata": {
    "slideshow": {
     "slide_type": "skip"
    },
    "tags": [
     "hide-input"
    ]
   },
   "outputs": [],
   "source": [
    "%%capture showplot5\n",
    "import numpy as np\n",
    "import matplotlib.pyplot as plt\n",
    "from empylib.waveoptics import interface\n",
    "from empylib.ref_spectra import AM15\n",
    "from empylib.ref_spectra import color_system as cs\n",
    "cs = cs.hdtv\n",
    "\n",
    "# creamos índices de refracción\n",
    "lam = np.linspace(0.3,0.8,81)   # espectro de longitudes de onda (en um)\n",
    "n2 = nk.gold(lam)               # índice de refracción oro\n",
    "n1 = np.ones(n2.shape)          # índice de refracción aire\n",
    "\n",
    "# Reflectividad en interface función del ángulo \"tt\"\n",
    "Rp = lambda tt : interface(tt, n1,n2, pol='TM')[0]\n",
    "Rs = lambda tt : interface(tt, n1,n2, pol='TE')[0]\n",
    "\n",
    "# formateamos la figura\n",
    "fig, ax = plt.subplots()                # número de ejes en la figura\n",
    "fig.set_size_inches(6, 3)               # tamaño de la figura\n",
    "plt.rcParams['font.size'] = '12'        # tamaño de fuente        \n",
    "\n",
    "# graficamos el color reflejado según el ángulo de incidencia\n",
    "theta = np.linspace(0,90,100)           # angulo de incidencia\n",
    "for i in range(len(theta)): \n",
    "    R = 0.5*Rp(np.radians(theta[i])) + 0.5*Rs(np.radians(theta[i]))\n",
    "    Irad = R*AM15(lam)\n",
    "    html_rgb = cs.spec_to_rgb(Irad, lam, out_fmt='html')\n",
    "    ax.axvline(theta[i], color=html_rgb, linewidth=6) \n",
    "ax.set_xlim([min(theta),max(theta)])\n",
    "ax.set_ylim([0,1.0])\n",
    "ax.axes.yaxis.set_visible(False)\n",
    "ax.set_xlabel('Ángulo de incidencia (deg)')\n",
    "plt.show()"
   ]
  },
  {
   "cell_type": "code",
   "execution_count": 18,
   "id": "fa43c234",
   "metadata": {
    "tags": [
     "hide-input"
    ]
   },
   "outputs": [
    {
     "data": {
      "image/png": "[encoded data removed]",
      "text/plain": [
       "<Figure size 600x300 with 1 Axes>"
      ]
     },
     "metadata": {
      "filenames": {
       "image/png": "/mnt/c/Users/frami/OneDrive - Universidad Adolfo Ibanez/Teaching_courses/MEC501 - Manejo_y_Conversion_Energia_Solar/material_catedra/_build/jupyter_execute/03_Interacción_materia-luz/03_Interacción_materia-luz_98_0.png"
      }
     },
     "output_type": "display_data"
    }
   ],
   "source": [
    "showplot5()"
   ]
  },
  {
   "cell_type": "markdown",
   "id": "76782c20",
   "metadata": {
    "slideshow": {
     "slide_type": "slide"
    }
   },
   "source": [
    "Otro ejemplo es el dioxido de titanio (TiO$_2$), el cual presenta absorción interbanda en el espectro ultravioleta, y oscilaciones de Lorentz en el infrarojo.\n",
    "\n",
    "<img src=\"./images/tio2_nk.png\" width=\"700px\" align= center>"
   ]
  },
  {
   "cell_type": "markdown",
   "id": "0afa9f3a",
   "metadata": {
    "slideshow": {
     "slide_type": "slide"
    }
   },
   "source": [
    "Debido a la absorcion UV, TiO$_2$ es muy utilizado en cremas para protección solar.\n",
    "\n",
    "<img src=\"./images/tio2_fig.png\" width=\"800px\" align= center>"
   ]
  },
  {
   "cell_type": "markdown",
   "id": "17c1dc23",
   "metadata": {
    "slideshow": {
     "slide_type": "slide"
    }
   },
   "source": [
    "## Referencias\n",
    "- Rao S. S. **Chapter 4 - Vibration Under General Forcing Conditions** in *Mechanical Vibrations*, 6th Ed, Pearson, 2018\n",
    "\n",
    "- Griffths D., **Chapter 4.1 - Polarization** in *Introduction to Electrodynamics*, 4th Ed, Pearson, 2013\n",
    "\n",
    "- Simmons J. and Potter K., **Chapter 2 and 3** in *Optical Materials*, 1st Ed, Academic Press, 2000"
   ]
  }
 ],
 "metadata": {
  "celltoolbar": "Slideshow",
  "kernelspec": {
   "display_name": "Python 3 (ipykernel)",
   "language": "python",
   "name": "python3"
  },
  "language_info": {
   "codemirror_mode": {
    "name": "ipython",
    "version": 3
   },
   "file_extension": ".py",
   "mimetype": "text/x-python",
   "name": "python",
   "nbconvert_exporter": "python",
   "pygments_lexer": "ipython3",
   "version": "3.9.12"
  },
  "latex_envs": {
   "LaTeX_envs_menu_present": false,
   "autoclose": false,
   "autocomplete": false,
   "bibliofile": "biblio.bib",
   "cite_by": "apalike",
   "current_citInitial": 1,
   "eqLabelWithNumbers": true,
   "eqNumInitial": 2,
   "hotkeys": {
    "equation": "Ctrl-E",
    "itemize": "Ctrl-I"
   },
   "labels_anchors": false,
   "latex_user_defs": false,
   "report_style_numbering": false,
   "user_envs_cfg": true
  },
  "rise": {
   "scroll": true
  },
  "toc": {
   "base_numbering": 1,
   "nav_menu": {},
   "number_sections": true,
   "sideBar": true,
   "skip_h1_title": true,
   "title_cell": "Tabla de contenidos",
   "title_sidebar": "Contenidos",
   "toc_cell": false,
   "toc_position": {
    "height": "calc(100% - 180px)",
    "left": "10px",
    "top": "150px",
    "width": "307.2px"
   },
   "toc_section_display": true,
   "toc_window_display": false
  },
  "varInspector": {
   "cols": {
    "lenName": 16,
    "lenType": 16,
    "lenVar": 40
   },
   "kernels_config": {
    "python": {
     "delete_cmd_postfix": "",
     "delete_cmd_prefix": "del ",
     "library": "var_list.py",
     "varRefreshCmd": "print(var_dic_list())"
    },
    "r": {
     "delete_cmd_postfix": ") ",
     "delete_cmd_prefix": "rm(",
     "library": "var_list.r",
     "varRefreshCmd": "cat(var_dic_list()) "
    }
   },
   "types_to_exclude": [
    "module",
    "function",
    "builtin_function_or_method",
    "instance",
    "_Feature"
   ],
   "window_display": false
  },
  "widgets": {
   "application/vnd.jupyter.widget-state+json": {
    "state": {
     "00e2e8f90b9a4bb58beedc3f41250265": {
      "model_module": "@jupyter-widgets/controls",
      "model_module_version": "1.5.0",
      "model_name": "SliderStyleModel",
      "state": {
       "_model_module": "@jupyter-widgets/controls",
       "_model_module_version": "1.5.0",
       "_model_name": "SliderStyleModel",
       "_view_count": null,
       "_view_module": "@jupyter-widgets/base",
       "_view_module_version": "1.2.0",
       "_view_name": "StyleView",
       "description_width": "",
       "handle_color": null
      }
     },
     "013bb107d3f04aa082c3dd2a228cae3d": {
      "model_module": "@jupyter-widgets/controls",
      "model_module_version": "1.5.0",
      "model_name": "FloatSliderModel",
      "state": {
       "_dom_classes": [],
       "_model_module": "@jupyter-widgets/controls",
       "_model_module_version": "1.5.0",
       "_model_name": "FloatSliderModel",
       "_view_count": null,
       "_view_module": "@jupyter-widgets/controls",
       "_view_module_version": "1.5.0",
       "_view_name": "FloatSliderView",
       "continuous_update": true,
       "description": "epsinf",
       "description_tooltip": null,
       "disabled": false,
       "layout": "IPY_MODEL_a81873478fab4e89b43301ae05db5c0f",
       "max": 5.0,
       "min": 1.0,
       "orientation": "horizontal",
       "readout": true,
       "readout_format": ".2f",
       "step": 0.1,
       "style": "IPY_MODEL_bda7c992199d4996b90cf7afd80e5442",
       "value": 1.0
      }
     },
     "0222e72c1e194e70ad4a9328315a2545": {
      "model_module": "@jupyter-widgets/controls",
      "model_module_version": "1.5.0",
      "model_name": "SliderStyleModel",
      "state": {
       "_model_module": "@jupyter-widgets/controls",
       "_model_module_version": "1.5.0",
       "_model_name": "SliderStyleModel",
       "_view_count": null,
       "_view_module": "@jupyter-widgets/base",
       "_view_module_version": "1.2.0",
       "_view_name": "StyleView",
       "description_width": "",
       "handle_color": null
      }
     },
     "042fae5ef2ad44afb2e5321aaf7d8bb9": {
      "model_module": "@jupyter-widgets/controls",
      "model_module_version": "1.5.0",
      "model_name": "SliderStyleModel",
      "state": {
       "_model_module": "@jupyter-widgets/controls",
       "_model_module_version": "1.5.0",
       "_model_name": "SliderStyleModel",
       "_view_count": null,
       "_view_module": "@jupyter-widgets/base",
       "_view_module_version": "1.2.0",
       "_view_name": "StyleView",
       "description_width": "",
       "handle_color": null
      }
     },
     "044368e9feeb4fcf9a36b32d7bfeb204": {
      "model_module": "@jupyter-widgets/base",
      "model_module_version": "1.2.0",
      "model_name": "LayoutModel",
      "state": {
       "_model_module": "@jupyter-widgets/base",
       "_model_module_version": "1.2.0",
       "_model_name": "LayoutModel",
       "_view_count": null,
       "_view_module": "@jupyter-widgets/base",
       "_view_module_version": "1.2.0",
       "_view_name": "LayoutView",
       "align_content": null,
       "align_items": null,
       "align_self": null,
       "border": null,
       "bottom": null,
       "display": null,
       "flex": null,
       "flex_flow": null,
       "grid_area": null,
       "grid_auto_columns": null,
       "grid_auto_flow": null,
       "grid_auto_rows": null,
       "grid_column": null,
       "grid_gap": null,
       "grid_row": null,
       "grid_template_areas": null,
       "grid_template_columns": null,
       "grid_template_rows": null,
       "height": null,
       "justify_content": null,
       "justify_items": null,
       "left": null,
       "margin": null,
       "max_height": null,
       "max_width": null,
       "min_height": null,
       "min_width": null,
       "object_fit": null,
       "object_position": null,
       "order": null,
       "overflow": null,
       "overflow_x": null,
       "overflow_y": null,
       "padding": null,
       "right": null,
       "top": null,
       "visibility": null,
       "width": null
      }
     },
     "088edb69aa1f48ec9f95e23d051bdfe0": {
      "model_module": "@jupyter-widgets/controls",
      "model_module_version": "1.5.0",
      "model_name": "FloatSliderModel",
      "state": {
       "_dom_classes": [],
       "_model_module": "@jupyter-widgets/controls",
       "_model_module_version": "1.5.0",
       "_model_name": "FloatSliderModel",
       "_view_count": null,
       "_view_module": "@jupyter-widgets/controls",
       "_view_module_version": "1.5.0",
       "_view_name": "FloatSliderView",
       "continuous_update": true,
       "description": "wp",
       "description_tooltip": null,
       "disabled": false,
       "layout": "IPY_MODEL_e435bdc90a3f431c882f8d3b8334a536",
       "max": 1.0,
       "min": 0.3,
       "orientation": "horizontal",
       "readout": true,
       "readout_format": ".2f",
       "step": 0.1,
       "style": "IPY_MODEL_c9e15c12086e498e910d82d9fb94ca4b",
       "value": 0.8
      }
     },
     "08a4e93196014f3cb04e475a2fa46937": {
      "model_module": "@jupyter-widgets/base",
      "model_module_version": "1.2.0",
      "model_name": "LayoutModel",
      "state": {
       "_model_module": "@jupyter-widgets/base",
       "_model_module_version": "1.2.0",
       "_model_name": "LayoutModel",
       "_view_count": null,
       "_view_module": "@jupyter-widgets/base",
       "_view_module_version": "1.2.0",
       "_view_name": "LayoutView",
       "align_content": null,
       "align_items": null,
       "align_self": null,
       "border": null,
       "bottom": null,
       "display": null,
       "flex": null,
       "flex_flow": null,
       "grid_area": null,
       "grid_auto_columns": null,
       "grid_auto_flow": null,
       "grid_auto_rows": null,
       "grid_column": null,
       "grid_gap": null,
       "grid_row": null,
       "grid_template_areas": null,
       "grid_template_columns": null,
       "grid_template_rows": null,
       "height": null,
       "justify_content": null,
       "justify_items": null,
       "left": null,
       "margin": null,
       "max_height": null,
       "max_width": null,
       "min_height": null,
       "min_width": null,
       "object_fit": null,
       "object_position": null,
       "order": null,
       "overflow": null,
       "overflow_x": null,
       "overflow_y": null,
       "padding": null,
       "right": null,
       "top": null,
       "visibility": null,
       "width": null
      }
     },
     "0a278312d04f4b369dedba785eec6603": {
      "model_module": "@jupyter-widgets/controls",
      "model_module_version": "1.5.0",
      "model_name": "VBoxModel",
      "state": {
       "_dom_classes": [
        "widget-interact"
       ],
       "_model_module": "@jupyter-widgets/controls",
       "_model_module_version": "1.5.0",
       "_model_name": "VBoxModel",
       "_view_count": null,
       "_view_module": "@jupyter-widgets/controls",
       "_view_module_version": "1.5.0",
       "_view_name": "VBoxView",
       "box_style": "",
       "children": [
        "IPY_MODEL_0be0113c526c4e3089150a13269a7cb4",
        "IPY_MODEL_088edb69aa1f48ec9f95e23d051bdfe0",
        "IPY_MODEL_b99134c78a0b4beb94e30889456e0281",
        "IPY_MODEL_5da358bc297440c6b020b8a640d751ed",
        "IPY_MODEL_67038412ac5b42d6ada52a2518965e4d"
       ],
       "layout": "IPY_MODEL_330638d7de634da4ab30d52b3e6aa49f"
      }
     },
     "0be0113c526c4e3089150a13269a7cb4": {
      "model_module": "@jupyter-widgets/controls",
      "model_module_version": "1.5.0",
      "model_name": "FloatSliderModel",
      "state": {
       "_dom_classes": [],
       "_model_module": "@jupyter-widgets/controls",
       "_model_module_version": "1.5.0",
       "_model_name": "FloatSliderModel",
       "_view_count": null,
       "_view_module": "@jupyter-widgets/controls",
       "_view_module_version": "1.5.0",
       "_view_name": "FloatSliderView",
       "continuous_update": true,
       "description": "epsinf",
       "description_tooltip": null,
       "disabled": false,
       "layout": "IPY_MODEL_b67ab928e7c546b0a294d8a5ad00bee8",
       "max": 10.0,
       "min": 1.0,
       "orientation": "horizontal",
       "readout": true,
       "readout_format": ".2f",
       "step": 0.5,
       "style": "IPY_MODEL_00e2e8f90b9a4bb58beedc3f41250265",
       "value": 7.0
      }
     },
     "10c712b9e1b64233bf223c2696c04b6b": {
      "model_module": "@jupyter-widgets/base",
      "model_module_version": "1.2.0",
      "model_name": "LayoutModel",
      "state": {
       "_model_module": "@jupyter-widgets/base",
       "_model_module_version": "1.2.0",
       "_model_name": "LayoutModel",
       "_view_count": null,
       "_view_module": "@jupyter-widgets/base",
       "_view_module_version": "1.2.0",
       "_view_name": "LayoutView",
       "align_content": null,
       "align_items": null,
       "align_self": null,
       "border": null,
       "bottom": null,
       "display": null,
       "flex": null,
       "flex_flow": null,
       "grid_area": null,
       "grid_auto_columns": null,
       "grid_auto_flow": null,
       "grid_auto_rows": null,
       "grid_column": null,
       "grid_gap": null,
       "grid_row": null,
       "grid_template_areas": null,
       "grid_template_columns": null,
       "grid_template_rows": null,
       "height": null,
       "justify_content": null,
       "justify_items": null,
       "left": null,
       "margin": null,
       "max_height": null,
       "max_width": null,
       "min_height": null,
       "min_width": null,
       "object_fit": null,
       "object_position": null,
       "order": null,
       "overflow": null,
       "overflow_x": null,
       "overflow_y": null,
       "padding": null,
       "right": null,
       "top": null,
       "visibility": null,
       "width": null
      }
     },
     "1882c6342cee496b8892e4f7e8711a6c": {
      "model_module": "@jupyter-widgets/output",
      "model_module_version": "1.0.0",
      "model_name": "OutputModel",
      "state": {
       "_dom_classes": [],
       "_model_module": "@jupyter-widgets/output",
       "_model_module_version": "1.0.0",
       "_model_name": "OutputModel",
       "_view_count": null,
       "_view_module": "@jupyter-widgets/output",
       "_view_module_version": "1.0.0",
       "_view_name": "OutputView",
       "layout": "IPY_MODEL_6cca749e36b1457d80b9308a6b4829ad",
       "msg_id": "",
       "outputs": [
        {
         "data": {
          "image/png": "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",
          "text/plain": "<Figure size 1000x300 with 2 Axes>"
         },
         "metadata": {},
         "output_type": "display_data"
        }
       ]
      }
     },
     "19b0eefc7239423baa3d08bb00f45853": {
      "model_module": "@jupyter-widgets/output",
      "model_module_version": "1.0.0",
      "model_name": "OutputModel",
      "state": {
       "_dom_classes": [],
       "_model_module": "@jupyter-widgets/output",
       "_model_module_version": "1.0.0",
       "_model_name": "OutputModel",
       "_view_count": null,
       "_view_module": "@jupyter-widgets/output",
       "_view_module_version": "1.0.0",
       "_view_name": "OutputView",
       "layout": "IPY_MODEL_044368e9feeb4fcf9a36b32d7bfeb204",
       "msg_id": "",
       "outputs": [
        {
         "data": {
          "image/png": "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",
          "text/plain": "<Figure size 1000x300 with 2 Axes>"
         },
         "metadata": {},
         "output_type": "display_data"
        }
       ]
      }
     },
     "1e6fb4bc71cb475aab8eff3b51947a0c": {
      "model_module": "@jupyter-widgets/controls",
      "model_module_version": "1.5.0",
      "model_name": "FloatSliderModel",
      "state": {
       "_dom_classes": [],
       "_model_module": "@jupyter-widgets/controls",
       "_model_module_version": "1.5.0",
       "_model_name": "FloatSliderModel",
       "_view_count": null,
       "_view_module": "@jupyter-widgets/controls",
       "_view_module_version": "1.5.0",
       "_view_name": "FloatSliderView",
       "continuous_update": true,
       "description": "epsinf",
       "description_tooltip": null,
       "disabled": false,
       "layout": "IPY_MODEL_cb283e97f0614c31af4cb1bb62e84874",
       "max": 5.0,
       "min": 1.0,
       "orientation": "horizontal",
       "readout": true,
       "readout_format": ".2f",
       "step": 0.1,
       "style": "IPY_MODEL_b100cd18d28944dd98ae5736a2ae573e",
       "value": 1.0
      }
     },
     "1fd8fbd56a4d4c5a994aeafaae92143c": {
      "model_module": "@jupyter-widgets/base",
      "model_module_version": "1.2.0",
      "model_name": "LayoutModel",
      "state": {
       "_model_module": "@jupyter-widgets/base",
       "_model_module_version": "1.2.0",
       "_model_name": "LayoutModel",
       "_view_count": null,
       "_view_module": "@jupyter-widgets/base",
       "_view_module_version": "1.2.0",
       "_view_name": "LayoutView",
       "align_content": null,
       "align_items": null,
       "align_self": null,
       "border": null,
       "bottom": null,
       "display": null,
       "flex": null,
       "flex_flow": null,
       "grid_area": null,
       "grid_auto_columns": null,
       "grid_auto_flow": null,
       "grid_auto_rows": null,
       "grid_column": null,
       "grid_gap": null,
       "grid_row": null,
       "grid_template_areas": null,
       "grid_template_columns": null,
       "grid_template_rows": null,
       "height": null,
       "justify_content": null,
       "justify_items": null,
       "left": null,
       "margin": null,
       "max_height": null,
       "max_width": null,
       "min_height": null,
       "min_width": null,
       "object_fit": null,
       "object_position": null,
       "order": null,
       "overflow": null,
       "overflow_x": null,
       "overflow_y": null,
       "padding": null,
       "right": null,
       "top": null,
       "visibility": null,
       "width": null
      }
     },
     "2186db2f0f4c42ed8845f8c226023384": {
      "model_module": "@jupyter-widgets/controls",
      "model_module_version": "1.5.0",
      "model_name": "SliderStyleModel",
      "state": {
       "_model_module": "@jupyter-widgets/controls",
       "_model_module_version": "1.5.0",
       "_model_name": "SliderStyleModel",
       "_view_count": null,
       "_view_module": "@jupyter-widgets/base",
       "_view_module_version": "1.2.0",
       "_view_name": "StyleView",
       "description_width": "",
       "handle_color": null
      }
     },
     "249c16a269984bdb9a844773e48248fd": {
      "model_module": "@jupyter-widgets/base",
      "model_module_version": "1.2.0",
      "model_name": "LayoutModel",
      "state": {
       "_model_module": "@jupyter-widgets/base",
       "_model_module_version": "1.2.0",
       "_model_name": "LayoutModel",
       "_view_count": null,
       "_view_module": "@jupyter-widgets/base",
       "_view_module_version": "1.2.0",
       "_view_name": "LayoutView",
       "align_content": null,
       "align_items": null,
       "align_self": null,
       "border": null,
       "bottom": null,
       "display": null,
       "flex": null,
       "flex_flow": null,
       "grid_area": null,
       "grid_auto_columns": null,
       "grid_auto_flow": null,
       "grid_auto_rows": null,
       "grid_column": null,
       "grid_gap": null,
       "grid_row": null,
       "grid_template_areas": null,
       "grid_template_columns": null,
       "grid_template_rows": null,
       "height": null,
       "justify_content": null,
       "justify_items": null,
       "left": null,
       "margin": null,
       "max_height": null,
       "max_width": null,
       "min_height": null,
       "min_width": null,
       "object_fit": null,
       "object_position": null,
       "order": null,
       "overflow": null,
       "overflow_x": null,
       "overflow_y": null,
       "padding": null,
       "right": null,
       "top": null,
       "visibility": null,
       "width": null
      }
     },
     "2a8ecc4320674466a1f17ed30da1efd9": {
      "model_module": "@jupyter-widgets/controls",
      "model_module_version": "1.5.0",
      "model_name": "FloatSliderModel",
      "state": {
       "_dom_classes": [],
       "_model_module": "@jupyter-widgets/controls",
       "_model_module_version": "1.5.0",
       "_model_name": "FloatSliderModel",
       "_view_count": null,
       "_view_module": "@jupyter-widgets/controls",
       "_view_module_version": "1.5.0",
       "_view_name": "FloatSliderView",
       "continuous_update": true,
       "description": "k",
       "description_tooltip": null,
       "disabled": false,
       "layout": "IPY_MODEL_08a4e93196014f3cb04e475a2fa46937",
       "max": 2.0,
       "min": 0.3,
       "orientation": "horizontal",
       "readout": true,
       "readout_format": ".2f",
       "step": 0.1,
       "style": "IPY_MODEL_8a6cd00c28f643f9afdf5ee9fa0375fe",
       "value": 1.0
      }
     },
     "301edfbf018b4acaa704b2756594bae0": {
      "model_module": "@jupyter-widgets/controls",
      "model_module_version": "1.5.0",
      "model_name": "FloatSliderModel",
      "state": {
       "_dom_classes": [],
       "_model_module": "@jupyter-widgets/controls",
       "_model_module_version": "1.5.0",
       "_model_name": "FloatSliderModel",
       "_view_count": null,
       "_view_module": "@jupyter-widgets/controls",
       "_view_module_version": "1.5.0",
       "_view_name": "FloatSliderView",
       "continuous_update": true,
       "description": "wp",
       "description_tooltip": null,
       "disabled": false,
       "layout": "IPY_MODEL_39a2203aa81c4c53b86f841ea3e4772b",
       "max": 2.0,
       "min": 0.4,
       "orientation": "horizontal",
       "readout": true,
       "readout_format": ".2f",
       "step": 0.05,
       "style": "IPY_MODEL_2186db2f0f4c42ed8845f8c226023384",
       "value": 1.0
      }
     },
     "330638d7de634da4ab30d52b3e6aa49f": {
      "model_module": "@jupyter-widgets/base",
      "model_module_version": "1.2.0",
      "model_name": "LayoutModel",
      "state": {
       "_model_module": "@jupyter-widgets/base",
       "_model_module_version": "1.2.0",
       "_model_name": "LayoutModel",
       "_view_count": null,
       "_view_module": "@jupyter-widgets/base",
       "_view_module_version": "1.2.0",
       "_view_name": "LayoutView",
       "align_content": null,
       "align_items": null,
       "align_self": null,
       "border": null,
       "bottom": null,
       "display": null,
       "flex": null,
       "flex_flow": null,
       "grid_area": null,
       "grid_auto_columns": null,
       "grid_auto_flow": null,
       "grid_auto_rows": null,
       "grid_column": null,
       "grid_gap": null,
       "grid_row": null,
       "grid_template_areas": null,
       "grid_template_columns": null,
       "grid_template_rows": null,
       "height": null,
       "justify_content": null,
       "justify_items": null,
       "left": null,
       "margin": null,
       "max_height": null,
       "max_width": null,
       "min_height": null,
       "min_width": null,
       "object_fit": null,
       "object_position": null,
       "order": null,
       "overflow": null,
       "overflow_x": null,
       "overflow_y": null,
       "padding": null,
       "right": null,
       "top": null,
       "visibility": null,
       "width": null
      }
     },
     "39a2203aa81c4c53b86f841ea3e4772b": {
      "model_module": "@jupyter-widgets/base",
      "model_module_version": "1.2.0",
      "model_name": "LayoutModel",
      "state": {
       "_model_module": "@jupyter-widgets/base",
       "_model_module_version": "1.2.0",
       "_model_name": "LayoutModel",
       "_view_count": null,
       "_view_module": "@jupyter-widgets/base",
       "_view_module_version": "1.2.0",
       "_view_name": "LayoutView",
       "align_content": null,
       "align_items": null,
       "align_self": null,
       "border": null,
       "bottom": null,
       "display": null,
       "flex": null,
       "flex_flow": null,
       "grid_area": null,
       "grid_auto_columns": null,
       "grid_auto_flow": null,
       "grid_auto_rows": null,
       "grid_column": null,
       "grid_gap": null,
       "grid_row": null,
       "grid_template_areas": null,
       "grid_template_columns": null,
       "grid_template_rows": null,
       "height": null,
       "justify_content": null,
       "justify_items": null,
       "left": null,
       "margin": null,
       "max_height": null,
       "max_width": null,
       "min_height": null,
       "min_width": null,
       "object_fit": null,
       "object_position": null,
       "order": null,
       "overflow": null,
       "overflow_x": null,
       "overflow_y": null,
       "padding": null,
       "right": null,
       "top": null,
       "visibility": null,
       "width": null
      }
     },
     "4200d3734a0d43398177dba57696d377": {
      "model_module": "@jupyter-widgets/base",
      "model_module_version": "1.2.0",
      "model_name": "LayoutModel",
      "state": {
       "_model_module": "@jupyter-widgets/base",
       "_model_module_version": "1.2.0",
       "_model_name": "LayoutModel",
       "_view_count": null,
       "_view_module": "@jupyter-widgets/base",
       "_view_module_version": "1.2.0",
       "_view_name": "LayoutView",
       "align_content": null,
       "align_items": null,
       "align_self": null,
       "border": null,
       "bottom": null,
       "display": null,
       "flex": null,
       "flex_flow": null,
       "grid_area": null,
       "grid_auto_columns": null,
       "grid_auto_flow": null,
       "grid_auto_rows": null,
       "grid_column": null,
       "grid_gap": null,
       "grid_row": null,
       "grid_template_areas": null,
       "grid_template_columns": null,
       "grid_template_rows": null,
       "height": null,
       "justify_content": null,
       "justify_items": null,
       "left": null,
       "margin": null,
       "max_height": null,
       "max_width": null,
       "min_height": null,
       "min_width": null,
       "object_fit": null,
       "object_position": null,
       "order": null,
       "overflow": null,
       "overflow_x": null,
       "overflow_y": null,
       "padding": null,
       "right": null,
       "top": null,
       "visibility": null,
       "width": null
      }
     },
     "42e44c0b4ac1403180292c99f3ab4542": {
      "model_module": "@jupyter-widgets/controls",
      "model_module_version": "1.5.0",
      "model_name": "SliderStyleModel",
      "state": {
       "_model_module": "@jupyter-widgets/controls",
       "_model_module_version": "1.5.0",
       "_model_name": "SliderStyleModel",
       "_view_count": null,
       "_view_module": "@jupyter-widgets/base",
       "_view_module_version": "1.2.0",
       "_view_name": "StyleView",
       "description_width": "",
       "handle_color": null
      }
     },
     "4aeaddb706e64c02b65c7872b5eef901": {
      "model_module": "@jupyter-widgets/base",
      "model_module_version": "1.2.0",
      "model_name": "LayoutModel",
      "state": {
       "_model_module": "@jupyter-widgets/base",
       "_model_module_version": "1.2.0",
       "_model_name": "LayoutModel",
       "_view_count": null,
       "_view_module": "@jupyter-widgets/base",
       "_view_module_version": "1.2.0",
       "_view_name": "LayoutView",
       "align_content": null,
       "align_items": null,
       "align_self": null,
       "border": null,
       "bottom": null,
       "display": null,
       "flex": null,
       "flex_flow": null,
       "grid_area": null,
       "grid_auto_columns": null,
       "grid_auto_flow": null,
       "grid_auto_rows": null,
       "grid_column": null,
       "grid_gap": null,
       "grid_row": null,
       "grid_template_areas": null,
       "grid_template_columns": null,
       "grid_template_rows": null,
       "height": null,
       "justify_content": null,
       "justify_items": null,
       "left": null,
       "margin": null,
       "max_height": null,
       "max_width": null,
       "min_height": null,
       "min_width": null,
       "object_fit": null,
       "object_position": null,
       "order": null,
       "overflow": null,
       "overflow_x": null,
       "overflow_y": null,
       "padding": null,
       "right": null,
       "top": null,
       "visibility": null,
       "width": null
      }
     },
     "5a741eb347774bc992c263f4a186aafa": {
      "model_module": "@jupyter-widgets/controls",
      "model_module_version": "1.5.0",
      "model_name": "FloatSliderModel",
      "state": {
       "_dom_classes": [],
       "_model_module": "@jupyter-widgets/controls",
       "_model_module_version": "1.5.0",
       "_model_name": "FloatSliderModel",
       "_view_count": null,
       "_view_module": "@jupyter-widgets/controls",
       "_view_module_version": "1.5.0",
       "_view_name": "FloatSliderView",
       "continuous_update": true,
       "description": "wp",
       "description_tooltip": null,
       "disabled": false,
       "layout": "IPY_MODEL_10c712b9e1b64233bf223c2696c04b6b",
       "max": 2.0,
       "min": 0.4,
       "orientation": "horizontal",
       "readout": true,
       "readout_format": ".2f",
       "step": 0.05,
       "style": "IPY_MODEL_42e44c0b4ac1403180292c99f3ab4542",
       "value": 1.0
      }
     },
     "5da358bc297440c6b020b8a640d751ed": {
      "model_module": "@jupyter-widgets/controls",
      "model_module_version": "1.5.0",
      "model_name": "FloatSliderModel",
      "state": {
       "_dom_classes": [],
       "_model_module": "@jupyter-widgets/controls",
       "_model_module_version": "1.5.0",
       "_model_name": "FloatSliderModel",
       "_view_count": null,
       "_view_module": "@jupyter-widgets/controls",
       "_view_module_version": "1.5.0",
       "_view_name": "FloatSliderView",
       "continuous_update": true,
       "description": "gamma",
       "description_tooltip": null,
       "disabled": false,
       "layout": "IPY_MODEL_99bb219d81d344aab1001e54fd628bd4",
       "max": 0.05,
       "min": 0.01,
       "orientation": "horizontal",
       "readout": true,
       "readout_format": ".2f",
       "step": 0.005,
       "style": "IPY_MODEL_65dba2ac3fc747dda58ae2ef62b797f5",
       "value": 0.04
      }
     },
     "6097e0d1656c43f8a7582eb281349579": {
      "model_module": "@jupyter-widgets/base",
      "model_module_version": "1.2.0",
      "model_name": "LayoutModel",
      "state": {
       "_model_module": "@jupyter-widgets/base",
       "_model_module_version": "1.2.0",
       "_model_name": "LayoutModel",
       "_view_count": null,
       "_view_module": "@jupyter-widgets/base",
       "_view_module_version": "1.2.0",
       "_view_name": "LayoutView",
       "align_content": null,
       "align_items": null,
       "align_self": null,
       "border": null,
       "bottom": null,
       "display": null,
       "flex": null,
       "flex_flow": null,
       "grid_area": null,
       "grid_auto_columns": null,
       "grid_auto_flow": null,
       "grid_auto_rows": null,
       "grid_column": null,
       "grid_gap": null,
       "grid_row": null,
       "grid_template_areas": null,
       "grid_template_columns": null,
       "grid_template_rows": null,
       "height": null,
       "justify_content": null,
       "justify_items": null,
       "left": null,
       "margin": null,
       "max_height": null,
       "max_width": null,
       "min_height": null,
       "min_width": null,
       "object_fit": null,
       "object_position": null,
       "order": null,
       "overflow": null,
       "overflow_x": null,
       "overflow_y": null,
       "padding": null,
       "right": null,
       "top": null,
       "visibility": null,
       "width": null
      }
     },
     "65dba2ac3fc747dda58ae2ef62b797f5": {
      "model_module": "@jupyter-widgets/controls",
      "model_module_version": "1.5.0",
      "model_name": "SliderStyleModel",
      "state": {
       "_model_module": "@jupyter-widgets/controls",
       "_model_module_version": "1.5.0",
       "_model_name": "SliderStyleModel",
       "_view_count": null,
       "_view_module": "@jupyter-widgets/base",
       "_view_module_version": "1.2.0",
       "_view_name": "StyleView",
       "description_width": "",
       "handle_color": null
      }
     },
     "67038412ac5b42d6ada52a2518965e4d": {
      "model_module": "@jupyter-widgets/output",
      "model_module_version": "1.0.0",
      "model_name": "OutputModel",
      "state": {
       "_dom_classes": [],
       "_model_module": "@jupyter-widgets/output",
       "_model_module_version": "1.0.0",
       "_model_name": "OutputModel",
       "_view_count": null,
       "_view_module": "@jupyter-widgets/output",
       "_view_module_version": "1.0.0",
       "_view_name": "OutputView",
       "layout": "IPY_MODEL_f87c4cc66ce04c2587503e4e4b8ef5e1",
       "msg_id": "",
       "outputs": [
        {
         "data": {
          "image/png": "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",
          "text/plain": "<Figure size 1000x300 with 2 Axes>"
         },
         "metadata": {},
         "output_type": "display_data"
        }
       ]
      }
     },
     "6804edde003741149567ff0546bbd197": {
      "model_module": "@jupyter-widgets/controls",
      "model_module_version": "1.5.0",
      "model_name": "FloatSliderModel",
      "state": {
       "_dom_classes": [],
       "_model_module": "@jupyter-widgets/controls",
       "_model_module_version": "1.5.0",
       "_model_name": "FloatSliderModel",
       "_view_count": null,
       "_view_module": "@jupyter-widgets/controls",
       "_view_module_version": "1.5.0",
       "_view_name": "FloatSliderView",
       "continuous_update": true,
       "description": "c",
       "description_tooltip": null,
       "disabled": false,
       "layout": "IPY_MODEL_6097e0d1656c43f8a7582eb281349579",
       "max": 0.2,
       "min": 0.02,
       "orientation": "horizontal",
       "readout": true,
       "readout_format": ".2f",
       "step": 0.01,
       "style": "IPY_MODEL_87ed83fdb8f74eaba7dbcacd4c20f5cc",
       "value": 0.02
      }
     },
     "6cca749e36b1457d80b9308a6b4829ad": {
      "model_module": "@jupyter-widgets/base",
      "model_module_version": "1.2.0",
      "model_name": "LayoutModel",
      "state": {
       "_model_module": "@jupyter-widgets/base",
       "_model_module_version": "1.2.0",
       "_model_name": "LayoutModel",
       "_view_count": null,
       "_view_module": "@jupyter-widgets/base",
       "_view_module_version": "1.2.0",
       "_view_name": "LayoutView",
       "align_content": null,
       "align_items": null,
       "align_self": null,
       "border": null,
       "bottom": null,
       "display": null,
       "flex": null,
       "flex_flow": null,
       "grid_area": null,
       "grid_auto_columns": null,
       "grid_auto_flow": null,
       "grid_auto_rows": null,
       "grid_column": null,
       "grid_gap": null,
       "grid_row": null,
       "grid_template_areas": null,
       "grid_template_columns": null,
       "grid_template_rows": null,
       "height": null,
       "justify_content": null,
       "justify_items": null,
       "left": null,
       "margin": null,
       "max_height": null,
       "max_width": null,
       "min_height": null,
       "min_width": null,
       "object_fit": null,
       "object_position": null,
       "order": null,
       "overflow": null,
       "overflow_x": null,
       "overflow_y": null,
       "padding": null,
       "right": null,
       "top": null,
       "visibility": null,
       "width": null
      }
     },
     "6e191bcb85dd47ca9a6bbc57e09af405": {
      "model_module": "@jupyter-widgets/controls",
      "model_module_version": "1.5.0",
      "model_name": "SliderStyleModel",
      "state": {
       "_model_module": "@jupyter-widgets/controls",
       "_model_module_version": "1.5.0",
       "_model_name": "SliderStyleModel",
       "_view_count": null,
       "_view_module": "@jupyter-widgets/base",
       "_view_module_version": "1.2.0",
       "_view_name": "StyleView",
       "description_width": "",
       "handle_color": null
      }
     },
     "7c39ad8cc0f14e568636acb97e5ee70f": {
      "model_module": "@jupyter-widgets/controls",
      "model_module_version": "1.5.0",
      "model_name": "VBoxModel",
      "state": {
       "_dom_classes": [
        "widget-interact"
       ],
       "_model_module": "@jupyter-widgets/controls",
       "_model_module_version": "1.5.0",
       "_model_name": "VBoxModel",
       "_view_count": null,
       "_view_module": "@jupyter-widgets/controls",
       "_view_module_version": "1.5.0",
       "_view_name": "VBoxView",
       "box_style": "",
       "children": [
        "IPY_MODEL_2a8ecc4320674466a1f17ed30da1efd9",
        "IPY_MODEL_6804edde003741149567ff0546bbd197",
        "IPY_MODEL_19b0eefc7239423baa3d08bb00f45853"
       ],
       "layout": "IPY_MODEL_4aeaddb706e64c02b65c7872b5eef901"
      }
     },
     "87ed83fdb8f74eaba7dbcacd4c20f5cc": {
      "model_module": "@jupyter-widgets/controls",
      "model_module_version": "1.5.0",
      "model_name": "SliderStyleModel",
      "state": {
       "_model_module": "@jupyter-widgets/controls",
       "_model_module_version": "1.5.0",
       "_model_name": "SliderStyleModel",
       "_view_count": null,
       "_view_module": "@jupyter-widgets/base",
       "_view_module_version": "1.2.0",
       "_view_name": "StyleView",
       "description_width": "",
       "handle_color": null
      }
     },
     "8a6cd00c28f643f9afdf5ee9fa0375fe": {
      "model_module": "@jupyter-widgets/controls",
      "model_module_version": "1.5.0",
      "model_name": "SliderStyleModel",
      "state": {
       "_model_module": "@jupyter-widgets/controls",
       "_model_module_version": "1.5.0",
       "_model_name": "SliderStyleModel",
       "_view_count": null,
       "_view_module": "@jupyter-widgets/base",
       "_view_module_version": "1.2.0",
       "_view_name": "StyleView",
       "description_width": "",
       "handle_color": null
      }
     },
     "8fe3b29accea4dad88d0880e34b09456": {
      "model_module": "@jupyter-widgets/controls",
      "model_module_version": "1.5.0",
      "model_name": "FloatSliderModel",
      "state": {
       "_dom_classes": [],
       "_model_module": "@jupyter-widgets/controls",
       "_model_module_version": "1.5.0",
       "_model_name": "FloatSliderModel",
       "_view_count": null,
       "_view_module": "@jupyter-widgets/controls",
       "_view_module_version": "1.5.0",
       "_view_name": "FloatSliderView",
       "continuous_update": true,
       "description": "gamma",
       "description_tooltip": null,
       "disabled": false,
       "layout": "IPY_MODEL_1fd8fbd56a4d4c5a994aeafaae92143c",
       "max": 0.2,
       "min": 0.01,
       "orientation": "horizontal",
       "readout": true,
       "readout_format": ".2f",
       "step": 0.01,
       "style": "IPY_MODEL_6e191bcb85dd47ca9a6bbc57e09af405",
       "value": 0.1
      }
     },
     "9931c6b46b5f4a6aa4dd4c726d96972d": {
      "model_module": "@jupyter-widgets/controls",
      "model_module_version": "1.5.0",
      "model_name": "FloatSliderModel",
      "state": {
       "_dom_classes": [],
       "_model_module": "@jupyter-widgets/controls",
       "_model_module_version": "1.5.0",
       "_model_name": "FloatSliderModel",
       "_view_count": null,
       "_view_module": "@jupyter-widgets/controls",
       "_view_module_version": "1.5.0",
       "_view_name": "FloatSliderView",
       "continuous_update": true,
       "description": "gamma",
       "description_tooltip": null,
       "disabled": false,
       "layout": "IPY_MODEL_249c16a269984bdb9a844773e48248fd",
       "max": 0.2,
       "min": 0.01,
       "orientation": "horizontal",
       "readout": true,
       "readout_format": ".2f",
       "step": 0.01,
       "style": "IPY_MODEL_0222e72c1e194e70ad4a9328315a2545",
       "value": 0.1
      }
     },
     "99bb219d81d344aab1001e54fd628bd4": {
      "model_module": "@jupyter-widgets/base",
      "model_module_version": "1.2.0",
      "model_name": "LayoutModel",
      "state": {
       "_model_module": "@jupyter-widgets/base",
       "_model_module_version": "1.2.0",
       "_model_name": "LayoutModel",
       "_view_count": null,
       "_view_module": "@jupyter-widgets/base",
       "_view_module_version": "1.2.0",
       "_view_name": "LayoutView",
       "align_content": null,
       "align_items": null,
       "align_self": null,
       "border": null,
       "bottom": null,
       "display": null,
       "flex": null,
       "flex_flow": null,
       "grid_area": null,
       "grid_auto_columns": null,
       "grid_auto_flow": null,
       "grid_auto_rows": null,
       "grid_column": null,
       "grid_gap": null,
       "grid_row": null,
       "grid_template_areas": null,
       "grid_template_columns": null,
       "grid_template_rows": null,
       "height": null,
       "justify_content": null,
       "justify_items": null,
       "left": null,
       "margin": null,
       "max_height": null,
       "max_width": null,
       "min_height": null,
       "min_width": null,
       "object_fit": null,
       "object_position": null,
       "order": null,
       "overflow": null,
       "overflow_x": null,
       "overflow_y": null,
       "padding": null,
       "right": null,
       "top": null,
       "visibility": null,
       "width": null
      }
     },
     "a81873478fab4e89b43301ae05db5c0f": {
      "model_module": "@jupyter-widgets/base",
      "model_module_version": "1.2.0",
      "model_name": "LayoutModel",
      "state": {
       "_model_module": "@jupyter-widgets/base",
       "_model_module_version": "1.2.0",
       "_model_name": "LayoutModel",
       "_view_count": null,
       "_view_module": "@jupyter-widgets/base",
       "_view_module_version": "1.2.0",
       "_view_name": "LayoutView",
       "align_content": null,
       "align_items": null,
       "align_self": null,
       "border": null,
       "bottom": null,
       "display": null,
       "flex": null,
       "flex_flow": null,
       "grid_area": null,
       "grid_auto_columns": null,
       "grid_auto_flow": null,
       "grid_auto_rows": null,
       "grid_column": null,
       "grid_gap": null,
       "grid_row": null,
       "grid_template_areas": null,
       "grid_template_columns": null,
       "grid_template_rows": null,
       "height": null,
       "justify_content": null,
       "justify_items": null,
       "left": null,
       "margin": null,
       "max_height": null,
       "max_width": null,
       "min_height": null,
       "min_width": null,
       "object_fit": null,
       "object_position": null,
       "order": null,
       "overflow": null,
       "overflow_x": null,
       "overflow_y": null,
       "padding": null,
       "right": null,
       "top": null,
       "visibility": null,
       "width": null
      }
     },
     "b0861553d87047a4859ef3e3118f4a47": {
      "model_module": "@jupyter-widgets/base",
      "model_module_version": "1.2.0",
      "model_name": "LayoutModel",
      "state": {
       "_model_module": "@jupyter-widgets/base",
       "_model_module_version": "1.2.0",
       "_model_name": "LayoutModel",
       "_view_count": null,
       "_view_module": "@jupyter-widgets/base",
       "_view_module_version": "1.2.0",
       "_view_name": "LayoutView",
       "align_content": null,
       "align_items": null,
       "align_self": null,
       "border": null,
       "bottom": null,
       "display": null,
       "flex": null,
       "flex_flow": null,
       "grid_area": null,
       "grid_auto_columns": null,
       "grid_auto_flow": null,
       "grid_auto_rows": null,
       "grid_column": null,
       "grid_gap": null,
       "grid_row": null,
       "grid_template_areas": null,
       "grid_template_columns": null,
       "grid_template_rows": null,
       "height": null,
       "justify_content": null,
       "justify_items": null,
       "left": null,
       "margin": null,
       "max_height": null,
       "max_width": null,
       "min_height": null,
       "min_width": null,
       "object_fit": null,
       "object_position": null,
       "order": null,
       "overflow": null,
       "overflow_x": null,
       "overflow_y": null,
       "padding": null,
       "right": null,
       "top": null,
       "visibility": null,
       "width": null
      }
     },
     "b100cd18d28944dd98ae5736a2ae573e": {
      "model_module": "@jupyter-widgets/controls",
      "model_module_version": "1.5.0",
      "model_name": "SliderStyleModel",
      "state": {
       "_model_module": "@jupyter-widgets/controls",
       "_model_module_version": "1.5.0",
       "_model_name": "SliderStyleModel",
       "_view_count": null,
       "_view_module": "@jupyter-widgets/base",
       "_view_module_version": "1.2.0",
       "_view_name": "StyleView",
       "description_width": "",
       "handle_color": null
      }
     },
     "b67ab928e7c546b0a294d8a5ad00bee8": {
      "model_module": "@jupyter-widgets/base",
      "model_module_version": "1.2.0",
      "model_name": "LayoutModel",
      "state": {
       "_model_module": "@jupyter-widgets/base",
       "_model_module_version": "1.2.0",
       "_model_name": "LayoutModel",
       "_view_count": null,
       "_view_module": "@jupyter-widgets/base",
       "_view_module_version": "1.2.0",
       "_view_name": "LayoutView",
       "align_content": null,
       "align_items": null,
       "align_self": null,
       "border": null,
       "bottom": null,
       "display": null,
       "flex": null,
       "flex_flow": null,
       "grid_area": null,
       "grid_auto_columns": null,
       "grid_auto_flow": null,
       "grid_auto_rows": null,
       "grid_column": null,
       "grid_gap": null,
       "grid_row": null,
       "grid_template_areas": null,
       "grid_template_columns": null,
       "grid_template_rows": null,
       "height": null,
       "justify_content": null,
       "justify_items": null,
       "left": null,
       "margin": null,
       "max_height": null,
       "max_width": null,
       "min_height": null,
       "min_width": null,
       "object_fit": null,
       "object_position": null,
       "order": null,
       "overflow": null,
       "overflow_x": null,
       "overflow_y": null,
       "padding": null,
       "right": null,
       "top": null,
       "visibility": null,
       "width": null
      }
     },
     "b99134c78a0b4beb94e30889456e0281": {
      "model_module": "@jupyter-widgets/controls",
      "model_module_version": "1.5.0",
      "model_name": "FloatSliderModel",
      "state": {
       "_dom_classes": [],
       "_model_module": "@jupyter-widgets/controls",
       "_model_module_version": "1.5.0",
       "_model_name": "FloatSliderModel",
       "_view_count": null,
       "_view_module": "@jupyter-widgets/controls",
       "_view_module_version": "1.5.0",
       "_view_name": "FloatSliderView",
       "continuous_update": true,
       "description": "wn",
       "description_tooltip": null,
       "disabled": false,
       "layout": "IPY_MODEL_b0861553d87047a4859ef3e3118f4a47",
       "max": 2.0,
       "min": 0.5,
       "orientation": "horizontal",
       "readout": true,
       "readout_format": ".2f",
       "step": 0.1,
       "style": "IPY_MODEL_042fae5ef2ad44afb2e5321aaf7d8bb9",
       "value": 0.7
      }
     },
     "bb9493ddbce6447b904f560b53c1323c": {
      "model_module": "@jupyter-widgets/base",
      "model_module_version": "1.2.0",
      "model_name": "LayoutModel",
      "state": {
       "_model_module": "@jupyter-widgets/base",
       "_model_module_version": "1.2.0",
       "_model_name": "LayoutModel",
       "_view_count": null,
       "_view_module": "@jupyter-widgets/base",
       "_view_module_version": "1.2.0",
       "_view_name": "LayoutView",
       "align_content": null,
       "align_items": null,
       "align_self": null,
       "border": null,
       "bottom": null,
       "display": null,
       "flex": null,
       "flex_flow": null,
       "grid_area": null,
       "grid_auto_columns": null,
       "grid_auto_flow": null,
       "grid_auto_rows": null,
       "grid_column": null,
       "grid_gap": null,
       "grid_row": null,
       "grid_template_areas": null,
       "grid_template_columns": null,
       "grid_template_rows": null,
       "height": null,
       "justify_content": null,
       "justify_items": null,
       "left": null,
       "margin": null,
       "max_height": null,
       "max_width": null,
       "min_height": null,
       "min_width": null,
       "object_fit": null,
       "object_position": null,
       "order": null,
       "overflow": null,
       "overflow_x": null,
       "overflow_y": null,
       "padding": null,
       "right": null,
       "top": null,
       "visibility": null,
       "width": null
      }
     },
     "bda7c992199d4996b90cf7afd80e5442": {
      "model_module": "@jupyter-widgets/controls",
      "model_module_version": "1.5.0",
      "model_name": "SliderStyleModel",
      "state": {
       "_model_module": "@jupyter-widgets/controls",
       "_model_module_version": "1.5.0",
       "_model_name": "SliderStyleModel",
       "_view_count": null,
       "_view_module": "@jupyter-widgets/base",
       "_view_module_version": "1.2.0",
       "_view_name": "StyleView",
       "description_width": "",
       "handle_color": null
      }
     },
     "c6cd22faf8b24d40988fef542132beec": {
      "model_module": "@jupyter-widgets/output",
      "model_module_version": "1.0.0",
      "model_name": "OutputModel",
      "state": {
       "_dom_classes": [],
       "_model_module": "@jupyter-widgets/output",
       "_model_module_version": "1.0.0",
       "_model_name": "OutputModel",
       "_view_count": null,
       "_view_module": "@jupyter-widgets/output",
       "_view_module_version": "1.0.0",
       "_view_name": "OutputView",
       "layout": "IPY_MODEL_bb9493ddbce6447b904f560b53c1323c",
       "msg_id": "",
       "outputs": [
        {
         "data": {
          "image/png": "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",
          "text/plain": "<Figure size 1000x300 with 2 Axes>"
         },
         "metadata": {},
         "output_type": "display_data"
        }
       ]
      }
     },
     "c9e15c12086e498e910d82d9fb94ca4b": {
      "model_module": "@jupyter-widgets/controls",
      "model_module_version": "1.5.0",
      "model_name": "SliderStyleModel",
      "state": {
       "_model_module": "@jupyter-widgets/controls",
       "_model_module_version": "1.5.0",
       "_model_name": "SliderStyleModel",
       "_view_count": null,
       "_view_module": "@jupyter-widgets/base",
       "_view_module_version": "1.2.0",
       "_view_name": "StyleView",
       "description_width": "",
       "handle_color": null
      }
     },
     "cb283e97f0614c31af4cb1bb62e84874": {
      "model_module": "@jupyter-widgets/base",
      "model_module_version": "1.2.0",
      "model_name": "LayoutModel",
      "state": {
       "_model_module": "@jupyter-widgets/base",
       "_model_module_version": "1.2.0",
       "_model_name": "LayoutModel",
       "_view_count": null,
       "_view_module": "@jupyter-widgets/base",
       "_view_module_version": "1.2.0",
       "_view_name": "LayoutView",
       "align_content": null,
       "align_items": null,
       "align_self": null,
       "border": null,
       "bottom": null,
       "display": null,
       "flex": null,
       "flex_flow": null,
       "grid_area": null,
       "grid_auto_columns": null,
       "grid_auto_flow": null,
       "grid_auto_rows": null,
       "grid_column": null,
       "grid_gap": null,
       "grid_row": null,
       "grid_template_areas": null,
       "grid_template_columns": null,
       "grid_template_rows": null,
       "height": null,
       "justify_content": null,
       "justify_items": null,
       "left": null,
       "margin": null,
       "max_height": null,
       "max_width": null,
       "min_height": null,
       "min_width": null,
       "object_fit": null,
       "object_position": null,
       "order": null,
       "overflow": null,
       "overflow_x": null,
       "overflow_y": null,
       "padding": null,
       "right": null,
       "top": null,
       "visibility": null,
       "width": null
      }
     },
     "cb9cbb29ec654fb087c5b45ca43b5069": {
      "model_module": "@jupyter-widgets/controls",
      "model_module_version": "1.5.0",
      "model_name": "VBoxModel",
      "state": {
       "_dom_classes": [
        "widget-interact"
       ],
       "_model_module": "@jupyter-widgets/controls",
       "_model_module_version": "1.5.0",
       "_model_name": "VBoxModel",
       "_view_count": null,
       "_view_module": "@jupyter-widgets/controls",
       "_view_module_version": "1.5.0",
       "_view_name": "VBoxView",
       "box_style": "",
       "children": [
        "IPY_MODEL_013bb107d3f04aa082c3dd2a228cae3d",
        "IPY_MODEL_301edfbf018b4acaa704b2756594bae0",
        "IPY_MODEL_8fe3b29accea4dad88d0880e34b09456",
        "IPY_MODEL_c6cd22faf8b24d40988fef542132beec"
       ],
       "layout": "IPY_MODEL_f0c1e36afe5f42088ef4b974b8d2d871"
      }
     },
     "d2b64029729f469c94e62183ccae987a": {
      "model_module": "@jupyter-widgets/controls",
      "model_module_version": "1.5.0",
      "model_name": "VBoxModel",
      "state": {
       "_dom_classes": [
        "widget-interact"
       ],
       "_model_module": "@jupyter-widgets/controls",
       "_model_module_version": "1.5.0",
       "_model_name": "VBoxModel",
       "_view_count": null,
       "_view_module": "@jupyter-widgets/controls",
       "_view_module_version": "1.5.0",
       "_view_name": "VBoxView",
       "box_style": "",
       "children": [
        "IPY_MODEL_1e6fb4bc71cb475aab8eff3b51947a0c",
        "IPY_MODEL_5a741eb347774bc992c263f4a186aafa",
        "IPY_MODEL_9931c6b46b5f4a6aa4dd4c726d96972d",
        "IPY_MODEL_1882c6342cee496b8892e4f7e8711a6c"
       ],
       "layout": "IPY_MODEL_4200d3734a0d43398177dba57696d377"
      }
     },
     "e435bdc90a3f431c882f8d3b8334a536": {
      "model_module": "@jupyter-widgets/base",
      "model_module_version": "1.2.0",
      "model_name": "LayoutModel",
      "state": {
       "_model_module": "@jupyter-widgets/base",
       "_model_module_version": "1.2.0",
       "_model_name": "LayoutModel",
       "_view_count": null,
       "_view_module": "@jupyter-widgets/base",
       "_view_module_version": "1.2.0",
       "_view_name": "LayoutView",
       "align_content": null,
       "align_items": null,
       "align_self": null,
       "border": null,
       "bottom": null,
       "display": null,
       "flex": null,
       "flex_flow": null,
       "grid_area": null,
       "grid_auto_columns": null,
       "grid_auto_flow": null,
       "grid_auto_rows": null,
       "grid_column": null,
       "grid_gap": null,
       "grid_row": null,
       "grid_template_areas": null,
       "grid_template_columns": null,
       "grid_template_rows": null,
       "height": null,
       "justify_content": null,
       "justify_items": null,
       "left": null,
       "margin": null,
       "max_height": null,
       "max_width": null,
       "min_height": null,
       "min_width": null,
       "object_fit": null,
       "object_position": null,
       "order": null,
       "overflow": null,
       "overflow_x": null,
       "overflow_y": null,
       "padding": null,
       "right": null,
       "top": null,
       "visibility": null,
       "width": null
      }
     },
     "f0c1e36afe5f42088ef4b974b8d2d871": {
      "model_module": "@jupyter-widgets/base",
      "model_module_version": "1.2.0",
      "model_name": "LayoutModel",
      "state": {
       "_model_module": "@jupyter-widgets/base",
       "_model_module_version": "1.2.0",
       "_model_name": "LayoutModel",
       "_view_count": null,
       "_view_module": "@jupyter-widgets/base",
       "_view_module_version": "1.2.0",
       "_view_name": "LayoutView",
       "align_content": null,
       "align_items": null,
       "align_self": null,
       "border": null,
       "bottom": null,
       "display": null,
       "flex": null,
       "flex_flow": null,
       "grid_area": null,
       "grid_auto_columns": null,
       "grid_auto_flow": null,
       "grid_auto_rows": null,
       "grid_column": null,
       "grid_gap": null,
       "grid_row": null,
       "grid_template_areas": null,
       "grid_template_columns": null,
       "grid_template_rows": null,
       "height": null,
       "justify_content": null,
       "justify_items": null,
       "left": null,
       "margin": null,
       "max_height": null,
       "max_width": null,
       "min_height": null,
       "min_width": null,
       "object_fit": null,
       "object_position": null,
       "order": null,
       "overflow": null,
       "overflow_x": null,
       "overflow_y": null,
       "padding": null,
       "right": null,
       "top": null,
       "visibility": null,
       "width": null
      }
     },
     "f87c4cc66ce04c2587503e4e4b8ef5e1": {
      "model_module": "@jupyter-widgets/base",
      "model_module_version": "1.2.0",
      "model_name": "LayoutModel",
      "state": {
       "_model_module": "@jupyter-widgets/base",
       "_model_module_version": "1.2.0",
       "_model_name": "LayoutModel",
       "_view_count": null,
       "_view_module": "@jupyter-widgets/base",
       "_view_module_version": "1.2.0",
       "_view_name": "LayoutView",
       "align_content": null,
       "align_items": null,
       "align_self": null,
       "border": null,
       "bottom": null,
       "display": null,
       "flex": null,
       "flex_flow": null,
       "grid_area": null,
       "grid_auto_columns": null,
       "grid_auto_flow": null,
       "grid_auto_rows": null,
       "grid_column": null,
       "grid_gap": null,
       "grid_row": null,
       "grid_template_areas": null,
       "grid_template_columns": null,
       "grid_template_rows": null,
       "height": null,
       "justify_content": null,
       "justify_items": null,
       "left": null,
       "margin": null,
       "max_height": null,
       "max_width": null,
       "min_height": null,
       "min_width": null,
       "object_fit": null,
       "object_position": null,
       "order": null,
       "overflow": null,
       "overflow_x": null,
       "overflow_y": null,
       "padding": null,
       "right": null,
       "top": null,
       "visibility": null,
       "width": null
      }
     }
    },
    "version_major": 2,
    "version_minor": 0
   }
  }
 },
 "nbformat": 4,
 "nbformat_minor": 5
}