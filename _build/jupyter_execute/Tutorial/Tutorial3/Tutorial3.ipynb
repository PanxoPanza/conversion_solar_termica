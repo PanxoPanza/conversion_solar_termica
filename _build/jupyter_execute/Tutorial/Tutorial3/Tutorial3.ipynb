{
 "cells": [
  {
   "cell_type": "code",
   "execution_count": 1,
   "id": "3c597da7",
   "metadata": {
    "slideshow": {
     "slide_type": "skip"
    },
    "tags": [
     "remove-cell"
    ]
   },
   "outputs": [],
   "source": [
    "import importlib.util\n",
    "\n",
    "if importlib.util.find_spec('pvlib') is None:\n",
    "    !pip install pvlib\n",
    "        \n",
    "if importlib.util.find_spec('meteostat') is None:\n",
    "    !pip install meteostat\n",
    "\n",
    "if importlib.util.find_spec('timezonefinder') is None:\n",
    "    !pip install timezonefinder"
   ]
  },
  {
   "cell_type": "markdown",
   "id": "2252d0b2",
   "metadata": {},
   "source": [
    "\n",
    "# Tutorial 3 - Datos solares y climatológicos\n",
    "\n",
    "Este es un tutorial para utilizar las librerías:\n",
    "- `pvlib` para determinar ángulos solares y niveles de irradiación solar.\n",
    "- `meteostat` para determinar condiciones climáticas.\n",
    "\n",
    "> Para mayor información de las funciones de este tutorial, revisar la documentación oficial de [`pvlib`](https://pvlib-python.readthedocs.io/en/stable/reference/index.html) y [`meteostat`](https://dev.meteostat.net/python/)"
   ]
  },
  {
   "cell_type": "markdown",
   "id": "950a9a31",
   "metadata": {},
   "source": [
    "## Definir localización y tiempo de estudio\n",
    "\n",
    "Antes de cualquier estudio debemos definir la localización y tiempo de estudio."
   ]
  },
  {
   "cell_type": "markdown",
   "id": "77bcb70c",
   "metadata": {},
   "source": [
    "### Latitud, longitud y altitud del sitio\n",
    "Como sugerencia, recomendamos usar [google earth](https://www.google.es/intl/es/earth/index.html). para determinar las coordenadas y altitud del sitio. Esta información  se encuentra en la esquina inferior derecha. Otra alternativa es revisar las coordenadas en la dirección web del sitio.\n",
    "\n",
    "Por ejemplo, consideramos las coordenadas del [Edificio A del campus de Peñalolén de la Universidad Adolfo Ibañez](https://earth.google.com/web/search/Universidad+Adolfo+Ib%c3%a1%c3%b1ez+-+Avenida+Diagonal+Las+Torres,+Santiago,+Pe%c3%b1alol%c3%a9n/@-33.48459063,-70.51846296,890.86619233a,397.56893117d,35y,0h,0t,0r/data=CmMaORIzCiUweDk2NjJkMjE5NzFkMWM0NTc6MHhhMmQwYWVmZDlhMDcwZDA2KgpFZGlmaWNpbyBBGAIgASImCiQJJzw65qu9QMARKyzNGmi-QMAZprJq4cKgUcAhENuZjZuhUcA6AwoBMA)."
   ]
  },
  {
   "cell_type": "markdown",
   "id": "d2d64c80",
   "metadata": {},
   "source": [
    "Según esta información, el edificio se encuentre en las coordeandas 33.485° S, 70.518°O, y a una altura de 890.867 m"
   ]
  },
  {
   "cell_type": "code",
   "execution_count": 2,
   "id": "903e9743",
   "metadata": {},
   "outputs": [],
   "source": [
    "# Definimos latitud y longitud del lugar\n",
    "lat, lon = -33.485, -70.518\n",
    "\n",
    "# Altitud (en metros)\n",
    "alt = 890.86619233"
   ]
  },
  {
   "cell_type": "markdown",
   "id": "49f0da18",
   "metadata": {},
   "source": [
    "### Zonas horaria"
   ]
  },
  {
   "cell_type": "markdown",
   "id": "dc0e3a43",
   "metadata": {},
   "source": [
    "Para identificar la zona horaria podemos usar la función `pytz.country_timezones`. \n",
    "\n",
    "> **Nota** La librería `pytz` viene incluída dentro del paquete de instalación de `pvlib` y, por lo tanto, no requiere instalación."
   ]
  },
  {
   "cell_type": "code",
   "execution_count": 3,
   "id": "2126a9dd",
   "metadata": {},
   "outputs": [
    {
     "data": {
      "text/plain": [
       "['America/Santiago', 'America/Punta_Arenas', 'Pacific/Easter']"
      ]
     },
     "execution_count": 3,
     "metadata": {},
     "output_type": "execute_result"
    }
   ],
   "source": [
    "import pytz\n",
    "\n",
    "pytz.country_timezones('CL')"
   ]
  },
  {
   "cell_type": "markdown",
   "id": "db92456c",
   "metadata": {},
   "source": [
    "En Chile, la zona horaria es `America/Santiago` en casi todo el territorio, excepto en Punta Arenas e Isla de Pascua."
   ]
  },
  {
   "cell_type": "code",
   "execution_count": 4,
   "id": "03040989",
   "metadata": {},
   "outputs": [],
   "source": [
    "tz_uai = 'America/Santiago'"
   ]
  },
  {
   "cell_type": "markdown",
   "id": "6ce89c32",
   "metadata": {},
   "source": [
    "> La lista completa de zonas horarias se encuentra disponible en [Wikipedia](https://en.wikipedia.org/wiki/List_of_tz_database_time_zones)"
   ]
  },
  {
   "cell_type": "markdown",
   "id": "1a0cef3d",
   "metadata": {},
   "source": [
    "Otra alternativa es usar la librería `timezonefinder` para identificar zonas horarias basadas en coordenadas de latitud y longitud. "
   ]
  },
  {
   "cell_type": "code",
   "execution_count": 5,
   "id": "98ee33f8",
   "metadata": {},
   "outputs": [
    {
     "name": "stdout",
     "output_type": "stream",
     "text": [
      "La zona horaria en la UAI es: America/Santiago\n"
     ]
    }
   ],
   "source": [
    "from timezonefinder import TimezoneFinder\n",
    "\n",
    "tz_uai = TimezoneFinder().timezone_at(lat=lat, lng=lon)\n",
    "\n",
    "print('La zona horaria en la UAI es:', tz_uai)"
   ]
  },
  {
   "cell_type": "markdown",
   "id": "4c057e93",
   "metadata": {},
   "source": [
    "### Tiempo de estudio\n",
    "Una vez definida la ubicación, debemos definir el intervalo de tiempo para nuestro estudio. Las librerías `pvlib` y `meteostat` utilizan distintos formatos para definir el intervalo de tiempo. Sin embargo, algo común en ambas es la definición de la fecha de comienzo y termino en formato `datetime`.\n",
    "\n",
    "En este tutorial, consideraremos el periodo comprendido entre el 21 y 22 de diciembre del 2022"
   ]
  },
  {
   "cell_type": "code",
   "execution_count": 6,
   "id": "816dd180",
   "metadata": {},
   "outputs": [
    {
     "name": "stdout",
     "output_type": "stream",
     "text": [
      "2022-12-21 00:00:00\n",
      "2022-12-22 00:00:00\n"
     ]
    }
   ],
   "source": [
    "from datetime import datetime\n",
    "\n",
    "start_date = datetime(year = 2022, month = 12, day = 21, hour = 0, minute = 0)\n",
    "end_date   = datetime(year = 2022, month = 12, day = 22, hour = 0, minute = 0)\n",
    "\n",
    "print(start_date)\n",
    "print(end_date)"
   ]
  },
  {
   "cell_type": "markdown",
   "id": "656bcb30",
   "metadata": {},
   "source": [
    "**La frecuencia entre este intervalo será en horas.** Sin embargo, la definición de esto es particular para cada librería."
   ]
  },
  {
   "cell_type": "markdown",
   "id": "44b69991",
   "metadata": {},
   "source": [
    "## Estimación de ángulos solares e irradiación (`pvlib`)"
   ]
  },
  {
   "cell_type": "markdown",
   "id": "f092c055",
   "metadata": {},
   "source": [
    "### Inicializar localización y tiempo de estudio en `pvlib`"
   ]
  },
  {
   "cell_type": "markdown",
   "id": "02e4a8cd",
   "metadata": {},
   "source": [
    "Para inicializar la localización usamos la función `pvlib.location.Location()`. Esta función crea un objeto `Location` que utilizaremos después para determinar los ángulos solares e irradiación solar."
   ]
  },
  {
   "cell_type": "code",
   "execution_count": 7,
   "id": "ad9dd572",
   "metadata": {},
   "outputs": [],
   "source": [
    "from pvlib.location import Location\n",
    "\n",
    "loc_pvlib = Location(latitude  = lat, \n",
    "                     longitude = lon, \n",
    "                     tz        = tz_uai,\n",
    "                     altitude  = alt)"
   ]
  },
  {
   "cell_type": "markdown",
   "id": "6e3912e7",
   "metadata": {},
   "source": [
    "Luego, debemos definir el intervalo de tiempo. Usamos la función `data_range` de pandas para generar un arreglo con las fechas para la zona horaria correspondiente."
   ]
  },
  {
   "cell_type": "code",
   "execution_count": 8,
   "id": "64d00b9b",
   "metadata": {},
   "outputs": [],
   "source": [
    "import pandas as pd\n",
    "\n",
    "time_study = pd.date_range(start = start_date, \n",
    "                           end   = end_date, \n",
    "                           freq  = 'H', \n",
    "                           tz    = tz_uai)"
   ]
  },
  {
   "cell_type": "markdown",
   "id": "c51f8e62",
   "metadata": {},
   "source": [
    "Para verificar, usamos `print` para imprimir cada elemento del arreglo `times`."
   ]
  },
  {
   "cell_type": "code",
   "execution_count": 9,
   "id": "5fbcf72a",
   "metadata": {},
   "outputs": [
    {
     "name": "stdout",
     "output_type": "stream",
     "text": [
      "2022-12-21 00:00:00-03:00\n",
      "2022-12-21 01:00:00-03:00\n",
      "2022-12-21 02:00:00-03:00\n",
      "2022-12-21 03:00:00-03:00\n",
      "2022-12-21 04:00:00-03:00\n",
      "2022-12-21 05:00:00-03:00\n",
      "2022-12-21 06:00:00-03:00\n",
      "2022-12-21 07:00:00-03:00\n",
      "2022-12-21 08:00:00-03:00\n",
      "2022-12-21 09:00:00-03:00\n",
      "2022-12-21 10:00:00-03:00\n",
      "2022-12-21 11:00:00-03:00\n",
      "2022-12-21 12:00:00-03:00\n",
      "2022-12-21 13:00:00-03:00\n",
      "2022-12-21 14:00:00-03:00\n",
      "2022-12-21 15:00:00-03:00\n",
      "2022-12-21 16:00:00-03:00\n",
      "2022-12-21 17:00:00-03:00\n",
      "2022-12-21 18:00:00-03:00\n",
      "2022-12-21 19:00:00-03:00\n",
      "2022-12-21 20:00:00-03:00\n",
      "2022-12-21 21:00:00-03:00\n",
      "2022-12-21 22:00:00-03:00\n",
      "2022-12-21 23:00:00-03:00\n",
      "2022-12-22 00:00:00-03:00\n"
     ]
    }
   ],
   "source": [
    "for i in range(len(time_study)):\n",
    "    print(time_study[i])"
   ]
  },
  {
   "cell_type": "markdown",
   "id": "c0cc5df3",
   "metadata": {},
   "source": [
    "### Estimar ángulos solares (`get_solarposition`)"
   ]
  },
  {
   "cell_type": "markdown",
   "id": "1b511a3e",
   "metadata": {},
   "source": [
    "Para acceder a los ángulos solares usamos la función `get_solarposition` del objeto `loc_pvlib`. Esta función crea un *dataframe* con los ángulos solares"
   ]
  },
  {
   "cell_type": "code",
   "execution_count": 10,
   "id": "7b3a5bd6",
   "metadata": {
    "tags": [
     "output_scroll"
    ]
   },
   "outputs": [
    {
     "data": {
      "text/html": [
       "<div>\n",
       "<style scoped>\n",
       "    .dataframe tbody tr th:only-of-type {\n",
       "        vertical-align: middle;\n",
       "    }\n",
       "\n",
       "    .dataframe tbody tr th {\n",
       "        vertical-align: top;\n",
       "    }\n",
       "\n",
       "    .dataframe thead th {\n",
       "        text-align: right;\n",
       "    }\n",
       "</style>\n",
       "<table border=\"1\" class=\"dataframe\">\n",
       "  <thead>\n",
       "    <tr style=\"text-align: right;\">\n",
       "      <th></th>\n",
       "      <th>apparent_zenith</th>\n",
       "      <th>zenith</th>\n",
       "      <th>apparent_elevation</th>\n",
       "      <th>elevation</th>\n",
       "      <th>azimuth</th>\n",
       "      <th>equation_of_time</th>\n",
       "    </tr>\n",
       "  </thead>\n",
       "  <tbody>\n",
       "    <tr>\n",
       "      <th>2022-12-21 00:00:00-03:00</th>\n",
       "      <td>118.310953</td>\n",
       "      <td>118.310953</td>\n",
       "      <td>-28.310953</td>\n",
       "      <td>-28.310953</td>\n",
       "      <td>206.108725</td>\n",
       "      <td>2.160758</td>\n",
       "    </tr>\n",
       "    <tr>\n",
       "      <th>2022-12-21 01:00:00-03:00</th>\n",
       "      <td>122.292222</td>\n",
       "      <td>122.292222</td>\n",
       "      <td>-32.292222</td>\n",
       "      <td>-32.292222</td>\n",
       "      <td>190.845847</td>\n",
       "      <td>2.140015</td>\n",
       "    </tr>\n",
       "    <tr>\n",
       "      <th>2022-12-21 02:00:00-03:00</th>\n",
       "      <td>122.881072</td>\n",
       "      <td>122.881072</td>\n",
       "      <td>-32.881072</td>\n",
       "      <td>-32.881072</td>\n",
       "      <td>174.524133</td>\n",
       "      <td>2.119271</td>\n",
       "    </tr>\n",
       "    <tr>\n",
       "      <th>2022-12-21 03:00:00-03:00</th>\n",
       "      <td>119.976535</td>\n",
       "      <td>119.976535</td>\n",
       "      <td>-29.976535</td>\n",
       "      <td>-29.976535</td>\n",
       "      <td>158.754981</td>\n",
       "      <td>2.098524</td>\n",
       "    </tr>\n",
       "    <tr>\n",
       "      <th>2022-12-21 04:00:00-03:00</th>\n",
       "      <td>114.043325</td>\n",
       "      <td>114.043325</td>\n",
       "      <td>-24.043325</td>\n",
       "      <td>-24.043325</td>\n",
       "      <td>144.812625</td>\n",
       "      <td>2.077775</td>\n",
       "    </tr>\n",
       "  </tbody>\n",
       "</table>\n",
       "</div>"
      ],
      "text/plain": [
       "                           apparent_zenith      zenith  apparent_elevation  \\\n",
       "2022-12-21 00:00:00-03:00       118.310953  118.310953          -28.310953   \n",
       "2022-12-21 01:00:00-03:00       122.292222  122.292222          -32.292222   \n",
       "2022-12-21 02:00:00-03:00       122.881072  122.881072          -32.881072   \n",
       "2022-12-21 03:00:00-03:00       119.976535  119.976535          -29.976535   \n",
       "2022-12-21 04:00:00-03:00       114.043325  114.043325          -24.043325   \n",
       "\n",
       "                           elevation     azimuth  equation_of_time  \n",
       "2022-12-21 00:00:00-03:00 -28.310953  206.108725          2.160758  \n",
       "2022-12-21 01:00:00-03:00 -32.292222  190.845847          2.140015  \n",
       "2022-12-21 02:00:00-03:00 -32.881072  174.524133          2.119271  \n",
       "2022-12-21 03:00:00-03:00 -29.976535  158.754981          2.098524  \n",
       "2022-12-21 04:00:00-03:00 -24.043325  144.812625          2.077775  "
      ]
     },
     "execution_count": 10,
     "metadata": {},
     "output_type": "execute_result"
    }
   ],
   "source": [
    "sol_pos = loc_pvlib.get_solarposition(times = time_study)\n",
    "sol_pos.head()\n"
   ]
  },
  {
   "cell_type": "markdown",
   "id": "25199d86",
   "metadata": {},
   "source": [
    "En este curso, solo usaremos:\n",
    "- `'apperent_zenith'`: ángulo cenital solar aparente (con corrección por el índice de refracción)\n",
    "- `'apperent_elevation'`: ángulo de elevación solar aparente (con corrección por el índice de refracción)\n",
    "- `'azimuth'`: ángulo acimutal solar"
   ]
  },
  {
   "cell_type": "code",
   "execution_count": 11,
   "id": "22523596",
   "metadata": {},
   "outputs": [
    {
     "data": {
      "image/png": "[encoded data removed]",
      "text/plain": [
       "<Figure size 640x480 with 1 Axes>"
      ]
     },
     "metadata": {},
     "output_type": "display_data"
    }
   ],
   "source": [
    "import matplotlib.pyplot as plt\n",
    "import matplotlib.dates as mdates\n",
    "\n",
    "fig, ax = plt.subplots()\n",
    "ax.plot(time_study, sol_pos['apparent_zenith'],'o:r', label=r'Zenith ($\\theta_s$)')\n",
    "ax.plot(time_study, sol_pos['azimuth'],'o:b', label=r'Azimuth ($\\phi_s$)')\n",
    "\n",
    "ax.set_xlabel('tiempo (horas)')\n",
    "ax.xaxis.set_major_formatter(mdates.DateFormatter('%H:%M', tz = tz_uai))\n",
    "ax.set_ylabel('Ángulo (grados)')\n",
    "plt.legend()\n",
    "plt.show()"
   ]
  },
  {
   "cell_type": "markdown",
   "id": "c9ae9118",
   "metadata": {},
   "source": [
    "### Estimar irradiación solar (`get_clearsky`)\n",
    "\n",
    "Para acceder a la irradiación solar usamos la función `get_clearsky` del objeto `loc_pvlib`. Esta función crea un *dataframe* con los niveles de irradiación horizontal global (`ghi`), normal directa (`dni`) y horizontal difusa (`dhi`), calculados en base al modelo de [Ineichen y Perez (2022)](https://www.sciencedirect.com/science/article/abs/pii/S0038092X02000452).`"
   ]
  },
  {
   "cell_type": "code",
   "execution_count": 12,
   "id": "804dc665",
   "metadata": {},
   "outputs": [
    {
     "data": {
      "text/html": [
       "<div>\n",
       "<style scoped>\n",
       "    .dataframe tbody tr th:only-of-type {\n",
       "        vertical-align: middle;\n",
       "    }\n",
       "\n",
       "    .dataframe tbody tr th {\n",
       "        vertical-align: top;\n",
       "    }\n",
       "\n",
       "    .dataframe thead th {\n",
       "        text-align: right;\n",
       "    }\n",
       "</style>\n",
       "<table border=\"1\" class=\"dataframe\">\n",
       "  <thead>\n",
       "    <tr style=\"text-align: right;\">\n",
       "      <th></th>\n",
       "      <th>ghi</th>\n",
       "      <th>dni</th>\n",
       "      <th>dhi</th>\n",
       "    </tr>\n",
       "  </thead>\n",
       "  <tbody>\n",
       "    <tr>\n",
       "      <th>2022-12-21 00:00:00-03:00</th>\n",
       "      <td>0.0</td>\n",
       "      <td>0.0</td>\n",
       "      <td>0.0</td>\n",
       "    </tr>\n",
       "    <tr>\n",
       "      <th>2022-12-21 01:00:00-03:00</th>\n",
       "      <td>0.0</td>\n",
       "      <td>0.0</td>\n",
       "      <td>0.0</td>\n",
       "    </tr>\n",
       "    <tr>\n",
       "      <th>2022-12-21 02:00:00-03:00</th>\n",
       "      <td>0.0</td>\n",
       "      <td>0.0</td>\n",
       "      <td>0.0</td>\n",
       "    </tr>\n",
       "    <tr>\n",
       "      <th>2022-12-21 03:00:00-03:00</th>\n",
       "      <td>0.0</td>\n",
       "      <td>0.0</td>\n",
       "      <td>0.0</td>\n",
       "    </tr>\n",
       "    <tr>\n",
       "      <th>2022-12-21 04:00:00-03:00</th>\n",
       "      <td>0.0</td>\n",
       "      <td>0.0</td>\n",
       "      <td>0.0</td>\n",
       "    </tr>\n",
       "  </tbody>\n",
       "</table>\n",
       "</div>"
      ],
      "text/plain": [
       "                           ghi  dni  dhi\n",
       "2022-12-21 00:00:00-03:00  0.0  0.0  0.0\n",
       "2022-12-21 01:00:00-03:00  0.0  0.0  0.0\n",
       "2022-12-21 02:00:00-03:00  0.0  0.0  0.0\n",
       "2022-12-21 03:00:00-03:00  0.0  0.0  0.0\n",
       "2022-12-21 04:00:00-03:00  0.0  0.0  0.0"
      ]
     },
     "execution_count": 12,
     "metadata": {},
     "output_type": "execute_result"
    }
   ],
   "source": [
    "sol_irr = loc_pvlib.get_clearsky(times = time_study)\n",
    "sol_irr.head()"
   ]
  },
  {
   "cell_type": "code",
   "execution_count": 13,
   "id": "b1533945",
   "metadata": {},
   "outputs": [
    {
     "data": {
      "image/png": "[encoded data removed]",
      "text/plain": [
       "<Figure size 640x480 with 1 Axes>"
      ]
     },
     "metadata": {},
     "output_type": "display_data"
    }
   ],
   "source": [
    "fig, ax = plt.subplots()\n",
    "ax.plot(time_study, sol_irr['ghi'],'o:r', label=r'GHI')\n",
    "ax.plot(time_study, sol_irr['dni'],'o:b', label=r'DNI')\n",
    "ax.plot(time_study, sol_irr['dhi'],'o:g', label=r'DHI')\n",
    "\n",
    "ax.set_xlabel('tiempo (horas)')\n",
    "ax.xaxis.set_major_formatter(mdates.DateFormatter('%H:%M', tz = tz_uai))\n",
    "ax.set_ylabel('Irradiación solar ($\\mathrm{W/m^2}$)')\n",
    "plt.legend()\n",
    "plt.show()"
   ]
  },
  {
   "cell_type": "markdown",
   "id": "54dafb71",
   "metadata": {},
   "source": [
    "## Estimación de condiciones ambientales (`meteostat`)"
   ]
  },
  {
   "cell_type": "markdown",
   "id": "de264785",
   "metadata": {},
   "source": [
    "### Inicializar localización y tiempo de estudio en `meteostat`\n",
    "\n",
    "Lo primero que debemos hacer es inicializar la localización usando la función `meteostat.Point()`. Esta función crea un objeto que generará la información meteorologica a través de la interpolación de datos de estaciones meterológicas cercanas. "
   ]
  },
  {
   "cell_type": "code",
   "execution_count": 14,
   "id": "32bd37ab",
   "metadata": {},
   "outputs": [],
   "source": [
    "import meteostat\n",
    "\n",
    "loc_meteo = meteostat.Point(lat=lat, \n",
    "                            lon=lon, \n",
    "                            alt= alt)"
   ]
  },
  {
   "cell_type": "markdown",
   "id": "adbc2c05",
   "metadata": {},
   "source": [
    "Luego, para extraer los datos horarios, utilizamos la función `meteostat.Hourly` indicando la ubicación del objeto `Point`, el inicio (`start`), el término (`end`) y la zona horaria (`timezone`) del periodo donde queremos extraer los datos.\n",
    "\n",
    "> La función entregará un objeto, el cual podemos convertir a un *dataframe* usando `.fetch()`"
   ]
  },
  {
   "cell_type": "code",
   "execution_count": 15,
   "id": "190e6d36",
   "metadata": {},
   "outputs": [],
   "source": [
    "from meteostat import Hourly\n",
    "\n",
    "# Creamos un objeto con las condiciones climáticas\n",
    "meteo_data = Hourly(loc      = loc_meteo,   # localización\n",
    "                    start    = start_date,  # inicio\n",
    "                    end      = end_date,    # término\n",
    "                    timezone = tz_uai)      # zona horaria\n",
    "\n",
    "# convertimos a dataframe\n",
    "meteo_data = meteo_data.fetch() "
   ]
  },
  {
   "cell_type": "markdown",
   "id": "0f7cc196",
   "metadata": {},
   "source": [
    "De este *dataframe* identificamos:\n",
    "- `temp`: Temperatura ambiente (°C)\n",
    "- `dwpt`: Temperatura de punto de rocío (°C)\n",
    "- `rhum`: Humedad relativa (%)\n",
    "- `prcp`: Precipitación total en una hora (mm)\n",
    "- `snow`: Nieve acumulada (mm)\n",
    "- `wdir`: Dirección del viento (°)\n",
    "- `wspd`: Velocidad promedio del viento (km/h)\n",
    "- `pres`: Presión atmosférica (hPa)"
   ]
  },
  {
   "cell_type": "code",
   "execution_count": 16,
   "id": "a4400019",
   "metadata": {},
   "outputs": [
    {
     "data": {
      "text/plain": [
       "time\n",
       "2022-12-21 00:00:00-03:00    16.1\n",
       "2022-12-21 01:00:00-03:00    16.1\n",
       "2022-12-21 02:00:00-03:00    15.4\n",
       "2022-12-21 03:00:00-03:00    14.4\n",
       "2022-12-21 04:00:00-03:00    15.0\n",
       "2022-12-21 05:00:00-03:00    14.7\n",
       "2022-12-21 06:00:00-03:00    14.5\n",
       "2022-12-21 07:00:00-03:00    13.9\n",
       "2022-12-21 08:00:00-03:00    13.5\n",
       "2022-12-21 09:00:00-03:00    18.5\n",
       "2022-12-21 10:00:00-03:00    20.5\n",
       "2022-12-21 11:00:00-03:00    22.5\n",
       "2022-12-21 12:00:00-03:00    25.5\n",
       "2022-12-21 13:00:00-03:00    26.5\n",
       "2022-12-21 14:00:00-03:00    29.5\n",
       "2022-12-21 15:00:00-03:00    29.5\n",
       "2022-12-21 16:00:00-03:00    30.5\n",
       "2022-12-21 17:00:00-03:00    29.5\n",
       "2022-12-21 18:00:00-03:00    28.5\n",
       "2022-12-21 19:00:00-03:00    26.5\n",
       "2022-12-21 20:00:00-03:00    24.5\n",
       "2022-12-21 21:00:00-03:00    21.5\n",
       "2022-12-21 22:00:00-03:00    17.1\n",
       "2022-12-21 23:00:00-03:00    16.4\n",
       "2022-12-22 00:00:00-03:00    15.4\n",
       "Freq: H, Name: temp, dtype: float64"
      ]
     },
     "execution_count": 16,
     "metadata": {},
     "output_type": "execute_result"
    }
   ],
   "source": [
    "meteo_data['temp']"
   ]
  },
  {
   "cell_type": "code",
   "execution_count": 17,
   "id": "48754065",
   "metadata": {},
   "outputs": [
    {
     "data": {
      "image/png": "[encoded data removed]",
      "text/plain": [
       "<Figure size 640x480 with 1 Axes>"
      ]
     },
     "metadata": {},
     "output_type": "display_data"
    }
   ],
   "source": [
    "fig, ax = plt.subplots()\n",
    "ax.plot(time_study, meteo_data['temp'],'o:r')\n",
    "\n",
    "ax.set_xlabel('tiempo (horas)')\n",
    "ax.xaxis.set_major_formatter(mdates.DateFormatter('%H:%M', tz = tz_uai))\n",
    "ax.set_ylabel('Temperatura (°C)')\n",
    "ax.set_title('Temperatura ambiente (lat, lon = %.1f°, %.1f°)' % (lat, lon))\n",
    "plt.show()"
   ]
  }
 ],
 "metadata": {
  "kernelspec": {
   "display_name": "Python 3 (ipykernel)",
   "language": "python",
   "name": "python3"
  },
  "language_info": {
   "codemirror_mode": {
    "name": "ipython",
    "version": 3
   },
   "file_extension": ".py",
   "mimetype": "text/x-python",
   "name": "python",
   "nbconvert_exporter": "python",
   "pygments_lexer": "ipython3",
   "version": "3.11.6"
  },
  "latex_envs": {
   "LaTeX_envs_menu_present": false,
   "autoclose": false,
   "autocomplete": false,
   "bibliofile": "biblio.bib",
   "cite_by": "apalike",
   "current_citInitial": 1,
   "eqLabelWithNumbers": true,
   "eqNumInitial": 1,
   "hotkeys": {
    "equation": "Ctrl-E",
    "itemize": "Ctrl-I"
   },
   "labels_anchors": false,
   "latex_user_defs": false,
   "report_style_numbering": false,
   "user_envs_cfg": false
  },
  "toc": {
   "base_numbering": 1,
   "nav_menu": {},
   "number_sections": false,
   "sideBar": true,
   "skip_h1_title": true,
   "title_cell": "Contenidos",
   "title_sidebar": "Contenidos",
   "toc_cell": false,
   "toc_position": {
    "height": "calc(100% - 180px)",
    "left": "10px",
    "top": "150px",
    "width": "303.837px"
   },
   "toc_section_display": true,
   "toc_window_display": false
  },
  "varInspector": {
   "cols": {
    "lenName": 16,
    "lenType": 16,
    "lenVar": 40
   },
   "kernels_config": {
    "python": {
     "delete_cmd_postfix": "",
     "delete_cmd_prefix": "del ",
     "library": "var_list.py",
     "varRefreshCmd": "print(var_dic_list())"
    },
    "r": {
     "delete_cmd_postfix": ") ",
     "delete_cmd_prefix": "rm(",
     "library": "var_list.r",
     "varRefreshCmd": "cat(var_dic_list()) "
    }
   },
   "types_to_exclude": [
    "module",
    "function",
    "builtin_function_or_method",
    "instance",
    "_Feature"
   ],
   "window_display": false
  }
 },
 "nbformat": 4,
 "nbformat_minor": 5
}