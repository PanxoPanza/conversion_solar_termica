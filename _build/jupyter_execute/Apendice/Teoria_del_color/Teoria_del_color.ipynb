{
 "cells": [
  {
   "cell_type": "code",
   "execution_count": 1,
   "id": "3c597da7",
   "metadata": {
    "slideshow": {
     "slide_type": "skip"
    },
    "tags": [
     "remove-cell"
    ]
   },
   "outputs": [],
   "source": [
    "import importlib.util\n",
    "if importlib.util.find_spec('empylib') is None:\n",
    "    !pip install git+https://github.com/PanxoPanza/empylib.git"
   ]
  },
  {
   "cell_type": "markdown",
   "id": "062b856b",
   "metadata": {
    "slideshow": {
     "slide_type": "slide"
    }
   },
   "source": [
    "# Teoria del color"
   ]
  },
  {
   "cell_type": "markdown",
   "id": "f9292ad4",
   "metadata": {
    "slideshow": {
     "slide_type": "slide"
    }
   },
   "source": [
    "## Introducción"
   ]
  },
  {
   "cell_type": "markdown",
   "id": "eb98c9d6",
   "metadata": {
    "slideshow": {
     "slide_type": "fragment"
    }
   },
   "source": [
    "Para nuestros ojos, una fuente de luz tiene coloración blanca cuando la intensidad de cada frecuencia del espectro visible es, aproximadamente, constante."
   ]
  },
  {
   "cell_type": "markdown",
   "id": "09b3f12d",
   "metadata": {
    "slideshow": {
     "slide_type": "fragment"
    }
   },
   "source": [
    "El mejor ejemplo es el sol.\n",
    "<img src=\"./images/solar_spectrum.jpg\" width=\"500px\" align= center>"
   ]
  },
  {
   "cell_type": "markdown",
   "id": "89e05492",
   "metadata": {
    "slideshow": {
     "slide_type": "slide"
    }
   },
   "source": [
    "## Espacio de colores CIE RGB"
   ]
  },
  {
   "cell_type": "markdown",
   "id": "dd70b192",
   "metadata": {
    "slideshow": {
     "slide_type": "fragment"
    }
   },
   "source": [
    "Los colores aparecen cuando el espectro de la fuente no está ditribuido de forma uniforme. Nuestros ojos, encargados de intrepretar este espectro como color, poseen *células fotoreceptoras o conos celulares* sensibles a los colores: <font color='red'>rojo (R)</font>, <font color='green'>verde (G)</font> y <font color='blue'>azul (B)</font>"
   ]
  },
  {
   "cell_type": "markdown",
   "id": "97e95fb9",
   "metadata": {
    "slideshow": {
     "slide_type": "fragment"
    }
   },
   "source": [
    "Matemáticamente, existen diversas formas de transformar un espectro, $I_\\mathrm{spec}(\\lambda)$, a **código de colores RGB**. En este curso, usamos el módulo `ref_spectra.color_system` de la librería `empylib`, el cual está basado en [Comisión internacional de la iluminación (CIE)](https://es.wikipedia.org/wiki/Espacio_de_color_CIE_1931)"
   ]
  },
  {
   "cell_type": "markdown",
   "id": "dba0bbd8",
   "metadata": {
    "slideshow": {
     "slide_type": "fragment"
    }
   },
   "source": [
    "En términos simples, el procedimiento consiste en determinar los **valores triestímulo $X$, $Y$ y $Z$** a partir de las **funciones de combinación de colores $\\bar{x}(\\lambda)$, $\\bar{y}(\\lambda)$ y $\\bar{z}(\\lambda)$,** que representan la precepción visual humana de forma numérica:\n",
    "\n",
    "\\begin{equation*}\n",
    "X = \\int_{0}^\\infty I_\\mathrm{spec}(\\lambda)\\bar{x}(\\lambda) d\\lambda,\\quad\\quad\n",
    "Y = \\int_{0}^\\infty I_\\mathrm{spec}(\\lambda)\\bar{y}(\\lambda) d\\lambda,\\quad\\quad\n",
    "Z = \\int_{0}^\\infty I_\\mathrm{spec}(\\lambda)\\bar{z}(\\lambda) d\\lambda,\n",
    "\\end{equation*}"
   ]
  },
  {
   "cell_type": "markdown",
   "id": "e45cb938",
   "metadata": {
    "slideshow": {
     "slide_type": "slide"
    }
   },
   "source": [
    "Analicemos el comportamiento de las funciones de combinación de colores."
   ]
  },
  {
   "cell_type": "code",
   "execution_count": 2,
   "id": "d10b5c36",
   "metadata": {
    "cell_style": "center",
    "tags": [
     "hide-input"
    ]
   },
   "outputs": [
    {
     "data": {
      "image/png": "[encoded data removed]",
      "text/plain": [
       "<Figure size 600x400 with 1 Axes>"
      ]
     },
     "metadata": {
      "filenames": {
       "image/png": "/mnt/c/Users/frami/OneDrive - Universidad Adolfo Ibanez/Teaching_courses/MEC501 - Manejo_y_Conversion_Energia_Solar/material_catedra/_build/jupyter_execute/Apendice/Teoria_del_color/Teoria_del_color_10_0.png"
      }
     },
     "output_type": "display_data"
    }
   ],
   "source": [
    "import matplotlib.pyplot as plt\n",
    "\n",
    "# librería para transformación de espectro a código RGB\n",
    "from empylib.ref_spectra import color_system as cs\n",
    "cs = cs.srgb\n",
    "\n",
    "# formateamos el lienzo de la figura\n",
    "fig, ax = plt.subplots()\n",
    "fig.set_size_inches(6, 4)\n",
    "plt.rcParams['font.size'] = '14'\n",
    "\n",
    "# Graficamos cada curva del estandar CIE XYZ\n",
    "plt.fill(cs.lam_cmf,cs.cmf[:,0],color='red'  ,alpha=0.5,edgecolor=None,label='$\\overline{x}~(\\lambda)$')\n",
    "plt.fill(cs.lam_cmf,cs.cmf[:,1],color='green',alpha=0.5,edgecolor=None,label='$\\overline{y}~(\\lambda)$')\n",
    "plt.fill(cs.lam_cmf,cs.cmf[:,2],color='blue' ,alpha=0.5,edgecolor=None,label='$\\overline{z}~(\\lambda)$')\n",
    "\n",
    "# Ajustamos formato de ejes\n",
    "plt.ylim(0,2)\n",
    "plt.tick_params(left = False,labelleft = False)\n",
    "plt.xlabel('Longitud de onda ($\\mu$m)')\n",
    "plt.legend();"
   ]
  },
  {
   "cell_type": "markdown",
   "id": "411f3a24",
   "metadata": {
    "slideshow": {
     "slide_type": "slide"
    }
   },
   "source": [
    "Posterior a esto, el código de colores $\\mathrm{RGB}$ se determina a partir del sistema:\n",
    "\n",
    "\\begin{equation*}\n",
    "\\begin{bmatrix}\n",
    "0.187 & 0.063 & 0.064 \\\\\n",
    "0.092 & 0.212 & 0.025 \\\\\n",
    "0     & 0.024 & 0.334 \\\\\n",
    "\\end{bmatrix}\\left[\\begin{array}{c} \\mathrm{R} \\\\\\mathrm{G} \\\\\\mathrm{B} \\end{array}\\right] =\n",
    "\\left[\\begin{array}{c} x \\\\y \\\\z\\end{array}\\right]\n",
    "\\end{equation*}"
   ]
  },
  {
   "cell_type": "markdown",
   "id": "df1ee659",
   "metadata": {
    "slideshow": {
     "slide_type": "fragment"
    }
   },
   "source": [
    "donde $xyz$ están dados por:\n",
    "\n",
    "\\begin{equation*}\n",
    "x = \\frac{X}{X+Y+Z},\\quad\\quad\\quad y = \\frac{Y}{X+Y+Z},\\quad\\quad\\quad z = \\frac{Z}{X+Y+Z},\n",
    "\\end{equation*}"
   ]
  },
  {
   "cell_type": "markdown",
   "id": "f5c25230",
   "metadata": {
    "slideshow": {
     "slide_type": "slide"
    }
   },
   "source": [
    "## Modelos de colores\n"
   ]
  },
  {
   "cell_type": "markdown",
   "id": "c95eb815",
   "metadata": {
    "slideshow": {
     "slide_type": "fragment"
    }
   },
   "source": [
    "### Coloración aditiva\n",
    "Es un modelo que explica la obtención de un color a partir de la suma de los componentes primarios, comúnmente, rojo, verde y azul. La coloración aditiva es el método utilizado en monitores electrónicos, como LCD, LED, oLED, etc."
   ]
  },
  {
   "cell_type": "markdown",
   "id": "a31b72fe",
   "metadata": {
    "slideshow": {
     "slide_type": "fragment"
    }
   },
   "source": [
    "<img src=\"./images/additive_colors.jpg\" width=\"700px\" align= center>"
   ]
  },
  {
   "cell_type": "markdown",
   "id": "e59ea155",
   "metadata": {
    "slideshow": {
     "slide_type": "slide"
    }
   },
   "source": [
    "Analicemos el siguiente modelo de colores aditivos."
   ]
  },
  {
   "cell_type": "code",
   "execution_count": 3,
   "id": "fae750d9",
   "metadata": {
    "cell_style": "split",
    "slideshow": {
     "slide_type": "fragment"
    },
    "tags": [
     "hide-input"
    ]
   },
   "outputs": [],
   "source": [
    "# importamos librerías necesarias\n",
    "import empylib as em\n",
    "import empylib.nklib as nk\n",
    "import empylib.ref_spectra as rf\n",
    "import empylib.waveoptics as wv\n",
    "import matplotlib.pyplot as plt\n",
    "import numpy as np\n",
    "\n",
    "def plot_additive_color(R,G,B):\n",
    "    # lienzo para la figura\n",
    "    fig, ax = plt.subplots()          \n",
    "    fig.set_size_inches(6, 4)         # Tamaño del gráfico\n",
    "    plt.rcParams['font.size'] = '14'  # tamaño de  fuente\n",
    "\n",
    "    # Espectro de longitudes de onda entre 300 y 800 nm\n",
    "    lam = np.linspace(0.3,0.8,500)\n",
    "\n",
    "    # Generamos un material con emisividad en rojo, verde y azul\n",
    "    wn = em.convert_units(np.array([450, 520, 630]),'nm','eV')\n",
    "    wp = [B*0.02,G*0.02,R*0.02]  # Frecuencia wp (eV)\n",
    "    T  = 0.05    # Taza de decaimiento (eV)\n",
    "\n",
    "    eps_mat = complex(1,0)\n",
    "    for i in range(len(wn)):\n",
    "        # constante dieléctrica según modelo de Lorentz\n",
    "        eps_mat = eps_mat + (nk.lorentz(0,wp[i],wn[i],T,lam))**2\n",
    "\n",
    "    N_mat = np.sqrt(eps_mat)\n",
    "\n",
    "    Rw, Tw = wv.incoh_multilayer(lam,0, (1.0,N_mat,1.0), 200)\n",
    "    Ew = 1 - Rw - Tw;\n",
    "\n",
    "    # Graficamos el espectro de emisión\n",
    "    ax.plot(lam*1E3,Ew*100)\n",
    "    ax.set_ylabel('Emisividad (%)')\n",
    "    ax.set_xlabel('Longitud de onda ($\\mu$m)')\n",
    "    ax.set_ylim(0,100)\n",
    "\n",
    "    # interpretacion de colores\n",
    "    Dcircle = 0.30\n",
    "    ax2 = fig.add_axes([0.63,0.55, Dcircle, Dcircle])\n",
    "    html_rgb = cs.spec_to_rgb(Ew*rf.AM15(lam),lam, out_fmt='html')\n",
    "    Circle = plt.Circle((0, 0), Dcircle, color=html_rgb)\n",
    "    ax2.add_patch(Circle)\n",
    "    ax2.set_aspect('equal')\n",
    "    ax2.set_xlim(-Dcircle*1.2,Dcircle*1.2)\n",
    "    ax2.set_ylim(-Dcircle*1.2,Dcircle*1.2)\n",
    "    ax2.set_xticks([])\n",
    "    ax2.set_yticks([])\n",
    "    ax2.set_facecolor('k');"
   ]
  },
  {
   "cell_type": "code",
   "execution_count": 4,
   "id": "9c8baf14",
   "metadata": {
    "cell_style": "split",
    "tags": [
     "hide-input"
    ]
   },
   "outputs": [
    {
     "data": {
      "application/vnd.jupyter.widget-view+json": {
       "model_id": "fddf662f845d4513a84508923914bb56",
       "version_major": 2,
       "version_minor": 0
      },
      "text/plain": [
       "interactive(children=(FloatSlider(value=1.0, description='R', max=1.0), FloatSlider(value=1.0, description='G'…"
      ]
     },
     "metadata": {},
     "output_type": "display_data"
    }
   ],
   "source": [
    "from ipywidgets import interact\n",
    "\n",
    "@interact(R=(0,1,0.1), G=(0,1,0.1), B=(0,1,0.1))\n",
    "def g(R = 1, G = 1, B = 1):\n",
    "    return plot_additive_color(R,G,B)"
   ]
  },
  {
   "cell_type": "markdown",
   "id": "ef5c2184",
   "metadata": {
    "slideshow": {
     "slide_type": "slide"
    }
   },
   "source": [
    "### Coloración sustractiva\n",
    "Se basa en la formación de colores a partir de la sustracción de colores primarios. Comúnmente, se utilizan los colores amarillo, cian y magenta."
   ]
  },
  {
   "cell_type": "markdown",
   "id": "bfe5809a",
   "metadata": {
    "slideshow": {
     "slide_type": "fragment"
    }
   },
   "source": [
    "El modelo, explica la coloración de muchas frutas, verduras y plantas. Además, es la técnica utilizada en impresión a color, fotografía y cinematografía.\n",
    "\n",
    "<img src=\"./images/substractive_colors.png\" width=\"700px\" align= center>"
   ]
  },
  {
   "cell_type": "markdown",
   "id": "01e2ccda",
   "metadata": {
    "slideshow": {
     "slide_type": "slide"
    }
   },
   "source": [
    "El siguiente modelo explica el concepto de coloración sustractiva"
   ]
  },
  {
   "cell_type": "code",
   "execution_count": 5,
   "id": "e19abd25",
   "metadata": {
    "cell_style": "split",
    "slideshow": {
     "slide_type": "fragment"
    },
    "tags": [
     "hide-input"
    ]
   },
   "outputs": [],
   "source": [
    "# importamos librerías necesarias\n",
    "import empylib as em\n",
    "import empylib.nklib as nk\n",
    "import empylib.ref_spectra as rf\n",
    "import empylib.waveoptics as wv\n",
    "import matplotlib.pyplot as plt\n",
    "import numpy as np\n",
    "\n",
    "def plot_substractive_color(R,G,B):\n",
    "    # lienzo para la figura\n",
    "    fig, ax = plt.subplots()          \n",
    "    fig.set_size_inches(6, 4)         # Tamaño del gráfico\n",
    "    plt.rcParams['font.size'] = '14'  # tamaño de  fuente\n",
    "\n",
    "    # Espectro de longitudes de onda entre 300 y 800 nm\n",
    "    lam = np.linspace(0.3,0.8,100)\n",
    "\n",
    "    # Generamos un material con emisividad en rojo, verde y azul\n",
    "    wn = em.convert_units(np.array([450, 520, 630]),'nm','eV')\n",
    "    wp = [B*0.02,G*0.02,R*0.02]  # Frecuencia wp (eV)\n",
    "    T  = 0.05                    # Tasa de decaimiento (eV)\n",
    "    \n",
    "    eps_mat = complex(1,0)\n",
    "    for i in range(len(wn)):\n",
    "        # constante dieléctrica según modelo de Lorentz\n",
    "        eps_mat = eps_mat + (nk.lorentz(0,wp[i],wn[i],T,lam))**2\n",
    "\n",
    "    N_mat = np.sqrt(eps_mat)\n",
    "\n",
    "    Rw, Tw = wv.incoh_multilayer(lam,0, (1.0,N_mat,1.0), 200)\n",
    "    Ew = 1 - Rw - Tw\n",
    "    Rw = (1 - Ew)\n",
    "\n",
    "    # Graficamos el espectro de emisión\n",
    "    ax.plot(lam*1E3,(1 - Ew)*100)\n",
    "    ax.set_ylabel('Reflectancia (%)')\n",
    "    ax.set_xlabel('Longitud de onda ($\\mu$m)')\n",
    "    ax.set_ylim(0,100)\n",
    "\n",
    "    # interpretacion de colores\n",
    "    Dcircle = 0.30\n",
    "    ax2 = fig.add_axes([0.63,0.55, Dcircle, Dcircle])\n",
    "    html_rgb = cs.spec_to_rgb(Rw*rf.AM15(lam),lam, out_fmt='html')\n",
    "    Circle = plt.Circle((0, 0), Dcircle, color=html_rgb)\n",
    "    ax2.add_patch(Circle)\n",
    "    ax2.set_aspect('equal')\n",
    "    ax2.set_xlim(-Dcircle*1.2,Dcircle*1.2)\n",
    "    ax2.set_ylim(-Dcircle*1.2,Dcircle*1.2)\n",
    "    ax2.set_xticks([])\n",
    "    ax2.set_yticks([])\n",
    "    ax2.set_facecolor('k');\n",
    "    \n",
    "    plt.show()"
   ]
  },
  {
   "cell_type": "code",
   "execution_count": 6,
   "id": "cea13ba8",
   "metadata": {
    "cell_style": "split",
    "scrolled": true,
    "tags": [
     "hide-input"
    ]
   },
   "outputs": [
    {
     "data": {
      "application/vnd.jupyter.widget-view+json": {
       "model_id": "a28c9872c161488b8b99cf24990a5f79",
       "version_major": 2,
       "version_minor": 0
      },
      "text/plain": [
       "interactive(children=(FloatSlider(value=1.0, description='R', max=1.0), FloatSlider(value=0.0, description='G'…"
      ]
     },
     "metadata": {},
     "output_type": "display_data"
    }
   ],
   "source": [
    "from ipywidgets import interact\n",
    "\n",
    "@interact(R=(0,1,0.1), G=(0,1,0.1), B=(0,1,0.1))\n",
    "def g(R = 1, G = 0, B = 0):\n",
    "    return plot_substractive_color(R,G,B)"
   ]
  },
  {
   "cell_type": "markdown",
   "id": "17c1dc23",
   "metadata": {
    "slideshow": {
     "slide_type": "slide"
    }
   },
   "source": [
    "## Referencias\n",
    "**Hetch E., *Óptica*, 5ta Ed, Pearson, 2017**\n",
    "- Capítulo 4.9: Aspectos conocidos de la interacción de la luz y la materia"
   ]
  }
 ],
 "metadata": {
  "celltoolbar": "Slideshow",
  "kernelspec": {
   "display_name": "Python 3 (ipykernel)",
   "language": "python",
   "name": "python3"
  },
  "language_info": {
   "codemirror_mode": {
    "name": "ipython",
    "version": 3
   },
   "file_extension": ".py",
   "mimetype": "text/x-python",
   "name": "python",
   "nbconvert_exporter": "python",
   "pygments_lexer": "ipython3",
   "version": "3.10.11"
  },
  "latex_envs": {
   "LaTeX_envs_menu_present": true,
   "autoclose": false,
   "autocomplete": false,
   "bibliofile": "biblio.bib",
   "cite_by": "apalike",
   "current_citInitial": 1,
   "eqLabelWithNumbers": true,
   "eqNumInitial": 1,
   "hotkeys": {
    "equation": "Ctrl-E",
    "itemize": "Ctrl-I"
   },
   "labels_anchors": false,
   "latex_user_defs": false,
   "report_style_numbering": false,
   "user_envs_cfg": true
  },
  "toc": {
   "base_numbering": 1,
   "nav_menu": {},
   "number_sections": true,
   "sideBar": true,
   "skip_h1_title": true,
   "title_cell": "Tabla de contenidos",
   "title_sidebar": "Contenidos",
   "toc_cell": false,
   "toc_position": {
    "height": "calc(100% - 180px)",
    "left": "10px",
    "top": "150px",
    "width": "307.2px"
   },
   "toc_section_display": true,
   "toc_window_display": false
  },
  "varInspector": {
   "cols": {
    "lenName": 16,
    "lenType": 16,
    "lenVar": 40
   },
   "kernels_config": {
    "python": {
     "delete_cmd_postfix": "",
     "delete_cmd_prefix": "del ",
     "library": "var_list.py",
     "varRefreshCmd": "print(var_dic_list())"
    },
    "r": {
     "delete_cmd_postfix": ") ",
     "delete_cmd_prefix": "rm(",
     "library": "var_list.r",
     "varRefreshCmd": "cat(var_dic_list()) "
    }
   },
   "types_to_exclude": [
    "module",
    "function",
    "builtin_function_or_method",
    "instance",
    "_Feature"
   ],
   "window_display": false
  },
  "widgets": {
   "application/vnd.jupyter.widget-state+json": {
    "state": {
     "00d40712a7954466ac42da8a09ec57be": {
      "model_module": "@jupyter-widgets/controls",
      "model_module_version": "1.5.0",
      "model_name": "FloatSliderModel",
      "state": {
       "_dom_classes": [],
       "_model_module": "@jupyter-widgets/controls",
       "_model_module_version": "1.5.0",
       "_model_name": "FloatSliderModel",
       "_view_count": null,
       "_view_module": "@jupyter-widgets/controls",
       "_view_module_version": "1.5.0",
       "_view_name": "FloatSliderView",
       "continuous_update": true,
       "description": "B",
       "description_tooltip": null,
       "disabled": false,
       "layout": "IPY_MODEL_448ad257a08a4b6c9fe00a1342170605",
       "max": 1.0,
       "min": 0.0,
       "orientation": "horizontal",
       "readout": true,
       "readout_format": ".2f",
       "step": 0.1,
       "style": "IPY_MODEL_be9c43345e804e8a8c28686d333b5333",
       "value": 0.0
      }
     },
     "0208448518464c3e9131f7b4b20361dd": {
      "model_module": "@jupyter-widgets/controls",
      "model_module_version": "1.5.0",
      "model_name": "SliderStyleModel",
      "state": {
       "_model_module": "@jupyter-widgets/controls",
       "_model_module_version": "1.5.0",
       "_model_name": "SliderStyleModel",
       "_view_count": null,
       "_view_module": "@jupyter-widgets/base",
       "_view_module_version": "1.2.0",
       "_view_name": "StyleView",
       "description_width": "",
       "handle_color": null
      }
     },
     "04046d2237a84e729275a1bc88b6a00f": {
      "model_module": "@jupyter-widgets/controls",
      "model_module_version": "1.5.0",
      "model_name": "SliderStyleModel",
      "state": {
       "_model_module": "@jupyter-widgets/controls",
       "_model_module_version": "1.5.0",
       "_model_name": "SliderStyleModel",
       "_view_count": null,
       "_view_module": "@jupyter-widgets/base",
       "_view_module_version": "1.2.0",
       "_view_name": "StyleView",
       "description_width": "",
       "handle_color": null
      }
     },
     "16fb3f178d9241438e1c794736acb6e9": {
      "model_module": "@jupyter-widgets/controls",
      "model_module_version": "1.5.0",
      "model_name": "SliderStyleModel",
      "state": {
       "_model_module": "@jupyter-widgets/controls",
       "_model_module_version": "1.5.0",
       "_model_name": "SliderStyleModel",
       "_view_count": null,
       "_view_module": "@jupyter-widgets/base",
       "_view_module_version": "1.2.0",
       "_view_name": "StyleView",
       "description_width": "",
       "handle_color": null
      }
     },
     "1706fc97d5c9427784895468e649998e": {
      "model_module": "@jupyter-widgets/base",
      "model_module_version": "1.2.0",
      "model_name": "LayoutModel",
      "state": {
       "_model_module": "@jupyter-widgets/base",
       "_model_module_version": "1.2.0",
       "_model_name": "LayoutModel",
       "_view_count": null,
       "_view_module": "@jupyter-widgets/base",
       "_view_module_version": "1.2.0",
       "_view_name": "LayoutView",
       "align_content": null,
       "align_items": null,
       "align_self": null,
       "border": null,
       "bottom": null,
       "display": null,
       "flex": null,
       "flex_flow": null,
       "grid_area": null,
       "grid_auto_columns": null,
       "grid_auto_flow": null,
       "grid_auto_rows": null,
       "grid_column": null,
       "grid_gap": null,
       "grid_row": null,
       "grid_template_areas": null,
       "grid_template_columns": null,
       "grid_template_rows": null,
       "height": null,
       "justify_content": null,
       "justify_items": null,
       "left": null,
       "margin": null,
       "max_height": null,
       "max_width": null,
       "min_height": null,
       "min_width": null,
       "object_fit": null,
       "object_position": null,
       "order": null,
       "overflow": null,
       "overflow_x": null,
       "overflow_y": null,
       "padding": null,
       "right": null,
       "top": null,
       "visibility": null,
       "width": null
      }
     },
     "1d7519cdcf6044fa8573a7105463a056": {
      "model_module": "@jupyter-widgets/base",
      "model_module_version": "1.2.0",
      "model_name": "LayoutModel",
      "state": {
       "_model_module": "@jupyter-widgets/base",
       "_model_module_version": "1.2.0",
       "_model_name": "LayoutModel",
       "_view_count": null,
       "_view_module": "@jupyter-widgets/base",
       "_view_module_version": "1.2.0",
       "_view_name": "LayoutView",
       "align_content": null,
       "align_items": null,
       "align_self": null,
       "border": null,
       "bottom": null,
       "display": null,
       "flex": null,
       "flex_flow": null,
       "grid_area": null,
       "grid_auto_columns": null,
       "grid_auto_flow": null,
       "grid_auto_rows": null,
       "grid_column": null,
       "grid_gap": null,
       "grid_row": null,
       "grid_template_areas": null,
       "grid_template_columns": null,
       "grid_template_rows": null,
       "height": null,
       "justify_content": null,
       "justify_items": null,
       "left": null,
       "margin": null,
       "max_height": null,
       "max_width": null,
       "min_height": null,
       "min_width": null,
       "object_fit": null,
       "object_position": null,
       "order": null,
       "overflow": null,
       "overflow_x": null,
       "overflow_y": null,
       "padding": null,
       "right": null,
       "top": null,
       "visibility": null,
       "width": null
      }
     },
     "1e1b28d694d24ec9a60ebcab14b04335": {
      "model_module": "@jupyter-widgets/controls",
      "model_module_version": "1.5.0",
      "model_name": "SliderStyleModel",
      "state": {
       "_model_module": "@jupyter-widgets/controls",
       "_model_module_version": "1.5.0",
       "_model_name": "SliderStyleModel",
       "_view_count": null,
       "_view_module": "@jupyter-widgets/base",
       "_view_module_version": "1.2.0",
       "_view_name": "StyleView",
       "description_width": "",
       "handle_color": null
      }
     },
     "2d7e2c174caa492b926eba0ad68b71cf": {
      "model_module": "@jupyter-widgets/controls",
      "model_module_version": "1.5.0",
      "model_name": "SliderStyleModel",
      "state": {
       "_model_module": "@jupyter-widgets/controls",
       "_model_module_version": "1.5.0",
       "_model_name": "SliderStyleModel",
       "_view_count": null,
       "_view_module": "@jupyter-widgets/base",
       "_view_module_version": "1.2.0",
       "_view_name": "StyleView",
       "description_width": "",
       "handle_color": null
      }
     },
     "3498ea1a9bf84f61a0eab1b4f0ecf988": {
      "model_module": "@jupyter-widgets/base",
      "model_module_version": "1.2.0",
      "model_name": "LayoutModel",
      "state": {
       "_model_module": "@jupyter-widgets/base",
       "_model_module_version": "1.2.0",
       "_model_name": "LayoutModel",
       "_view_count": null,
       "_view_module": "@jupyter-widgets/base",
       "_view_module_version": "1.2.0",
       "_view_name": "LayoutView",
       "align_content": null,
       "align_items": null,
       "align_self": null,
       "border": null,
       "bottom": null,
       "display": null,
       "flex": null,
       "flex_flow": null,
       "grid_area": null,
       "grid_auto_columns": null,
       "grid_auto_flow": null,
       "grid_auto_rows": null,
       "grid_column": null,
       "grid_gap": null,
       "grid_row": null,
       "grid_template_areas": null,
       "grid_template_columns": null,
       "grid_template_rows": null,
       "height": null,
       "justify_content": null,
       "justify_items": null,
       "left": null,
       "margin": null,
       "max_height": null,
       "max_width": null,
       "min_height": null,
       "min_width": null,
       "object_fit": null,
       "object_position": null,
       "order": null,
       "overflow": null,
       "overflow_x": null,
       "overflow_y": null,
       "padding": null,
       "right": null,
       "top": null,
       "visibility": null,
       "width": null
      }
     },
     "35c9a96ee48f4eb6bd6df978bda6a15e": {
      "model_module": "@jupyter-widgets/controls",
      "model_module_version": "1.5.0",
      "model_name": "FloatSliderModel",
      "state": {
       "_dom_classes": [],
       "_model_module": "@jupyter-widgets/controls",
       "_model_module_version": "1.5.0",
       "_model_name": "FloatSliderModel",
       "_view_count": null,
       "_view_module": "@jupyter-widgets/controls",
       "_view_module_version": "1.5.0",
       "_view_name": "FloatSliderView",
       "continuous_update": true,
       "description": "",
       "description_tooltip": null,
       "disabled": false,
       "layout": "IPY_MODEL_3cf1cb0c58254d90b2d44827b5f6cf90",
       "max": 1.0,
       "min": 0.0,
       "orientation": "horizontal",
       "readout": true,
       "readout_format": ".2f",
       "step": 0.1,
       "style": "IPY_MODEL_2d7e2c174caa492b926eba0ad68b71cf",
       "value": 0.0
      }
     },
     "3cf1cb0c58254d90b2d44827b5f6cf90": {
      "model_module": "@jupyter-widgets/base",
      "model_module_version": "1.2.0",
      "model_name": "LayoutModel",
      "state": {
       "_model_module": "@jupyter-widgets/base",
       "_model_module_version": "1.2.0",
       "_model_name": "LayoutModel",
       "_view_count": null,
       "_view_module": "@jupyter-widgets/base",
       "_view_module_version": "1.2.0",
       "_view_name": "LayoutView",
       "align_content": null,
       "align_items": null,
       "align_self": null,
       "border": null,
       "bottom": null,
       "display": null,
       "flex": null,
       "flex_flow": null,
       "grid_area": null,
       "grid_auto_columns": null,
       "grid_auto_flow": null,
       "grid_auto_rows": null,
       "grid_column": null,
       "grid_gap": null,
       "grid_row": null,
       "grid_template_areas": null,
       "grid_template_columns": null,
       "grid_template_rows": null,
       "height": null,
       "justify_content": null,
       "justify_items": null,
       "left": null,
       "margin": null,
       "max_height": null,
       "max_width": null,
       "min_height": null,
       "min_width": null,
       "object_fit": null,
       "object_position": null,
       "order": null,
       "overflow": null,
       "overflow_x": null,
       "overflow_y": null,
       "padding": null,
       "right": null,
       "top": null,
       "visibility": null,
       "width": null
      }
     },
     "4048d4b4e6b1490c8ce1864fef96b302": {
      "model_module": "@jupyter-widgets/output",
      "model_module_version": "1.0.0",
      "model_name": "OutputModel",
      "state": {
       "_dom_classes": [],
       "_model_module": "@jupyter-widgets/output",
       "_model_module_version": "1.0.0",
       "_model_name": "OutputModel",
       "_view_count": null,
       "_view_module": "@jupyter-widgets/output",
       "_view_module_version": "1.0.0",
       "_view_name": "OutputView",
       "layout": "IPY_MODEL_639ec0ba21f947b18ce3e9c31afa7103",
       "msg_id": "",
       "outputs": []
      }
     },
     "439b75336183403180a29cc680c579b7": {
      "model_module": "@jupyter-widgets/controls",
      "model_module_version": "1.5.0",
      "model_name": "SliderStyleModel",
      "state": {
       "_model_module": "@jupyter-widgets/controls",
       "_model_module_version": "1.5.0",
       "_model_name": "SliderStyleModel",
       "_view_count": null,
       "_view_module": "@jupyter-widgets/base",
       "_view_module_version": "1.2.0",
       "_view_name": "StyleView",
       "description_width": "",
       "handle_color": null
      }
     },
     "448ad257a08a4b6c9fe00a1342170605": {
      "model_module": "@jupyter-widgets/base",
      "model_module_version": "1.2.0",
      "model_name": "LayoutModel",
      "state": {
       "_model_module": "@jupyter-widgets/base",
       "_model_module_version": "1.2.0",
       "_model_name": "LayoutModel",
       "_view_count": null,
       "_view_module": "@jupyter-widgets/base",
       "_view_module_version": "1.2.0",
       "_view_name": "LayoutView",
       "align_content": null,
       "align_items": null,
       "align_self": null,
       "border": null,
       "bottom": null,
       "display": null,
       "flex": null,
       "flex_flow": null,
       "grid_area": null,
       "grid_auto_columns": null,
       "grid_auto_flow": null,
       "grid_auto_rows": null,
       "grid_column": null,
       "grid_gap": null,
       "grid_row": null,
       "grid_template_areas": null,
       "grid_template_columns": null,
       "grid_template_rows": null,
       "height": null,
       "justify_content": null,
       "justify_items": null,
       "left": null,
       "margin": null,
       "max_height": null,
       "max_width": null,
       "min_height": null,
       "min_width": null,
       "object_fit": null,
       "object_position": null,
       "order": null,
       "overflow": null,
       "overflow_x": null,
       "overflow_y": null,
       "padding": null,
       "right": null,
       "top": null,
       "visibility": null,
       "width": null
      }
     },
     "47bed910902f409198fd7b74977c011e": {
      "model_module": "@jupyter-widgets/base",
      "model_module_version": "1.2.0",
      "model_name": "LayoutModel",
      "state": {
       "_model_module": "@jupyter-widgets/base",
       "_model_module_version": "1.2.0",
       "_model_name": "LayoutModel",
       "_view_count": null,
       "_view_module": "@jupyter-widgets/base",
       "_view_module_version": "1.2.0",
       "_view_name": "LayoutView",
       "align_content": null,
       "align_items": null,
       "align_self": null,
       "border": null,
       "bottom": null,
       "display": null,
       "flex": null,
       "flex_flow": null,
       "grid_area": null,
       "grid_auto_columns": null,
       "grid_auto_flow": null,
       "grid_auto_rows": null,
       "grid_column": null,
       "grid_gap": null,
       "grid_row": null,
       "grid_template_areas": null,
       "grid_template_columns": null,
       "grid_template_rows": null,
       "height": null,
       "justify_content": null,
       "justify_items": null,
       "left": null,
       "margin": null,
       "max_height": null,
       "max_width": null,
       "min_height": null,
       "min_width": null,
       "object_fit": null,
       "object_position": null,
       "order": null,
       "overflow": null,
       "overflow_x": null,
       "overflow_y": null,
       "padding": null,
       "right": null,
       "top": null,
       "visibility": null,
       "width": null
      }
     },
     "4a04c2af39a348a791a903ccccd7e03c": {
      "model_module": "@jupyter-widgets/base",
      "model_module_version": "1.2.0",
      "model_name": "LayoutModel",
      "state": {
       "_model_module": "@jupyter-widgets/base",
       "_model_module_version": "1.2.0",
       "_model_name": "LayoutModel",
       "_view_count": null,
       "_view_module": "@jupyter-widgets/base",
       "_view_module_version": "1.2.0",
       "_view_name": "LayoutView",
       "align_content": null,
       "align_items": null,
       "align_self": null,
       "border": null,
       "bottom": null,
       "display": null,
       "flex": null,
       "flex_flow": null,
       "grid_area": null,
       "grid_auto_columns": null,
       "grid_auto_flow": null,
       "grid_auto_rows": null,
       "grid_column": null,
       "grid_gap": null,
       "grid_row": null,
       "grid_template_areas": null,
       "grid_template_columns": null,
       "grid_template_rows": null,
       "height": null,
       "justify_content": null,
       "justify_items": null,
       "left": null,
       "margin": null,
       "max_height": null,
       "max_width": null,
       "min_height": null,
       "min_width": null,
       "object_fit": null,
       "object_position": null,
       "order": null,
       "overflow": null,
       "overflow_x": null,
       "overflow_y": null,
       "padding": null,
       "right": null,
       "top": null,
       "visibility": null,
       "width": null
      }
     },
     "4bd616df43314adf9d1a0b3c52c52f40": {
      "model_module": "@jupyter-widgets/base",
      "model_module_version": "1.2.0",
      "model_name": "LayoutModel",
      "state": {
       "_model_module": "@jupyter-widgets/base",
       "_model_module_version": "1.2.0",
       "_model_name": "LayoutModel",
       "_view_count": null,
       "_view_module": "@jupyter-widgets/base",
       "_view_module_version": "1.2.0",
       "_view_name": "LayoutView",
       "align_content": null,
       "align_items": null,
       "align_self": null,
       "border": null,
       "bottom": null,
       "display": null,
       "flex": null,
       "flex_flow": null,
       "grid_area": null,
       "grid_auto_columns": null,
       "grid_auto_flow": null,
       "grid_auto_rows": null,
       "grid_column": null,
       "grid_gap": null,
       "grid_row": null,
       "grid_template_areas": null,
       "grid_template_columns": null,
       "grid_template_rows": null,
       "height": null,
       "justify_content": null,
       "justify_items": null,
       "left": null,
       "margin": null,
       "max_height": null,
       "max_width": null,
       "min_height": null,
       "min_width": null,
       "object_fit": null,
       "object_position": null,
       "order": null,
       "overflow": null,
       "overflow_x": null,
       "overflow_y": null,
       "padding": null,
       "right": null,
       "top": null,
       "visibility": null,
       "width": null
      }
     },
     "4c7a5ac5a399445ba04d9484a823e7ad": {
      "model_module": "@jupyter-widgets/controls",
      "model_module_version": "1.5.0",
      "model_name": "SliderStyleModel",
      "state": {
       "_model_module": "@jupyter-widgets/controls",
       "_model_module_version": "1.5.0",
       "_model_name": "SliderStyleModel",
       "_view_count": null,
       "_view_module": "@jupyter-widgets/base",
       "_view_module_version": "1.2.0",
       "_view_name": "StyleView",
       "description_width": "",
       "handle_color": null
      }
     },
     "4d397de1d6e9428f938dc0ead86935c9": {
      "model_module": "@jupyter-widgets/base",
      "model_module_version": "1.2.0",
      "model_name": "LayoutModel",
      "state": {
       "_model_module": "@jupyter-widgets/base",
       "_model_module_version": "1.2.0",
       "_model_name": "LayoutModel",
       "_view_count": null,
       "_view_module": "@jupyter-widgets/base",
       "_view_module_version": "1.2.0",
       "_view_name": "LayoutView",
       "align_content": null,
       "align_items": null,
       "align_self": null,
       "border": null,
       "bottom": null,
       "display": null,
       "flex": null,
       "flex_flow": null,
       "grid_area": null,
       "grid_auto_columns": null,
       "grid_auto_flow": null,
       "grid_auto_rows": null,
       "grid_column": null,
       "grid_gap": null,
       "grid_row": null,
       "grid_template_areas": null,
       "grid_template_columns": null,
       "grid_template_rows": null,
       "height": null,
       "justify_content": null,
       "justify_items": null,
       "left": null,
       "margin": null,
       "max_height": null,
       "max_width": null,
       "min_height": null,
       "min_width": null,
       "object_fit": null,
       "object_position": null,
       "order": null,
       "overflow": null,
       "overflow_x": null,
       "overflow_y": null,
       "padding": null,
       "right": null,
       "top": null,
       "visibility": null,
       "width": null
      }
     },
     "570a04e6c29f4e32ba777c7d95e88fc6": {
      "model_module": "@jupyter-widgets/output",
      "model_module_version": "1.0.0",
      "model_name": "OutputModel",
      "state": {
       "_dom_classes": [],
       "_model_module": "@jupyter-widgets/output",
       "_model_module_version": "1.0.0",
       "_model_name": "OutputModel",
       "_view_count": null,
       "_view_module": "@jupyter-widgets/output",
       "_view_module_version": "1.0.0",
       "_view_name": "OutputView",
       "layout": "IPY_MODEL_639ec0ba21f947b18ce3e9c31afa7103",
       "msg_id": "",
       "outputs": [
        {
         "data": {
          "image/png": "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",
          "text/plain": "<Figure size 600x400 with 2 Axes>"
         },
         "metadata": {},
         "output_type": "display_data"
        }
       ]
      }
     },
     "58b3eeb05d8c48e08f627ecfb239fda0": {
      "model_module": "@jupyter-widgets/controls",
      "model_module_version": "1.5.0",
      "model_name": "FloatSliderModel",
      "state": {
       "_dom_classes": [],
       "_model_module": "@jupyter-widgets/controls",
       "_model_module_version": "1.5.0",
       "_model_name": "FloatSliderModel",
       "_view_count": null,
       "_view_module": "@jupyter-widgets/controls",
       "_view_module_version": "1.5.0",
       "_view_name": "FloatSliderView",
       "continuous_update": true,
       "description": "R",
       "description_tooltip": null,
       "disabled": false,
       "layout": "IPY_MODEL_a6d001efbb59469f9b21383c339e6b28",
       "max": 1.0,
       "min": 0.0,
       "orientation": "horizontal",
       "readout": true,
       "readout_format": ".2f",
       "step": 0.1,
       "style": "IPY_MODEL_16fb3f178d9241438e1c794736acb6e9",
       "value": 1.0
      }
     },
     "591177e3da75490fb1eabf1b431d1330": {
      "model_module": "@jupyter-widgets/base",
      "model_module_version": "1.2.0",
      "model_name": "LayoutModel",
      "state": {
       "_model_module": "@jupyter-widgets/base",
       "_model_module_version": "1.2.0",
       "_model_name": "LayoutModel",
       "_view_count": null,
       "_view_module": "@jupyter-widgets/base",
       "_view_module_version": "1.2.0",
       "_view_name": "LayoutView",
       "align_content": null,
       "align_items": null,
       "align_self": null,
       "border": null,
       "bottom": null,
       "display": null,
       "flex": null,
       "flex_flow": null,
       "grid_area": null,
       "grid_auto_columns": null,
       "grid_auto_flow": null,
       "grid_auto_rows": null,
       "grid_column": null,
       "grid_gap": null,
       "grid_row": null,
       "grid_template_areas": null,
       "grid_template_columns": null,
       "grid_template_rows": null,
       "height": null,
       "justify_content": null,
       "justify_items": null,
       "left": null,
       "margin": null,
       "max_height": null,
       "max_width": null,
       "min_height": null,
       "min_width": null,
       "object_fit": null,
       "object_position": null,
       "order": null,
       "overflow": null,
       "overflow_x": null,
       "overflow_y": null,
       "padding": null,
       "right": null,
       "top": null,
       "visibility": null,
       "width": null
      }
     },
     "5eb7cf6724d9477d9b3ddf02628c81e0": {
      "model_module": "@jupyter-widgets/base",
      "model_module_version": "1.2.0",
      "model_name": "LayoutModel",
      "state": {
       "_model_module": "@jupyter-widgets/base",
       "_model_module_version": "1.2.0",
       "_model_name": "LayoutModel",
       "_view_count": null,
       "_view_module": "@jupyter-widgets/base",
       "_view_module_version": "1.2.0",
       "_view_name": "LayoutView",
       "align_content": null,
       "align_items": null,
       "align_self": null,
       "border": null,
       "bottom": null,
       "display": null,
       "flex": null,
       "flex_flow": null,
       "grid_area": null,
       "grid_auto_columns": null,
       "grid_auto_flow": null,
       "grid_auto_rows": null,
       "grid_column": null,
       "grid_gap": null,
       "grid_row": null,
       "grid_template_areas": null,
       "grid_template_columns": null,
       "grid_template_rows": null,
       "height": null,
       "justify_content": null,
       "justify_items": null,
       "left": null,
       "margin": null,
       "max_height": null,
       "max_width": null,
       "min_height": null,
       "min_width": null,
       "object_fit": null,
       "object_position": null,
       "order": null,
       "overflow": null,
       "overflow_x": null,
       "overflow_y": null,
       "padding": null,
       "right": null,
       "top": null,
       "visibility": null,
       "width": null
      }
     },
     "611e2a932e5248e3b79e4eb85285fd14": {
      "model_module": "@jupyter-widgets/base",
      "model_module_version": "1.2.0",
      "model_name": "LayoutModel",
      "state": {
       "_model_module": "@jupyter-widgets/base",
       "_model_module_version": "1.2.0",
       "_model_name": "LayoutModel",
       "_view_count": null,
       "_view_module": "@jupyter-widgets/base",
       "_view_module_version": "1.2.0",
       "_view_name": "LayoutView",
       "align_content": null,
       "align_items": null,
       "align_self": null,
       "border": null,
       "bottom": null,
       "display": null,
       "flex": null,
       "flex_flow": null,
       "grid_area": null,
       "grid_auto_columns": null,
       "grid_auto_flow": null,
       "grid_auto_rows": null,
       "grid_column": null,
       "grid_gap": null,
       "grid_row": null,
       "grid_template_areas": null,
       "grid_template_columns": null,
       "grid_template_rows": null,
       "height": null,
       "justify_content": null,
       "justify_items": null,
       "left": null,
       "margin": null,
       "max_height": null,
       "max_width": null,
       "min_height": null,
       "min_width": null,
       "object_fit": null,
       "object_position": null,
       "order": null,
       "overflow": null,
       "overflow_x": null,
       "overflow_y": null,
       "padding": null,
       "right": null,
       "top": null,
       "visibility": null,
       "width": null
      }
     },
     "6268c6ea8238421a939573117f2b445e": {
      "model_module": "@jupyter-widgets/controls",
      "model_module_version": "1.5.0",
      "model_name": "FloatSliderModel",
      "state": {
       "_dom_classes": [],
       "_model_module": "@jupyter-widgets/controls",
       "_model_module_version": "1.5.0",
       "_model_name": "FloatSliderModel",
       "_view_count": null,
       "_view_module": "@jupyter-widgets/controls",
       "_view_module_version": "1.5.0",
       "_view_name": "FloatSliderView",
       "continuous_update": true,
       "description": "R",
       "description_tooltip": null,
       "disabled": false,
       "layout": "IPY_MODEL_1706fc97d5c9427784895468e649998e",
       "max": 1.0,
       "min": 0.0,
       "orientation": "horizontal",
       "readout": true,
       "readout_format": ".2f",
       "step": 0.1,
       "style": "IPY_MODEL_8846c555f2be400eb15b11c8c7cf9a0a",
       "value": 1.0
      }
     },
     "639ec0ba21f947b18ce3e9c31afa7103": {
      "model_module": "@jupyter-widgets/base",
      "model_module_version": "1.2.0",
      "model_name": "LayoutModel",
      "state": {
       "_model_module": "@jupyter-widgets/base",
       "_model_module_version": "1.2.0",
       "_model_name": "LayoutModel",
       "_view_count": null,
       "_view_module": "@jupyter-widgets/base",
       "_view_module_version": "1.2.0",
       "_view_name": "LayoutView",
       "align_content": null,
       "align_items": null,
       "align_self": null,
       "border": null,
       "bottom": null,
       "display": null,
       "flex": null,
       "flex_flow": null,
       "grid_area": null,
       "grid_auto_columns": null,
       "grid_auto_flow": null,
       "grid_auto_rows": null,
       "grid_column": null,
       "grid_gap": null,
       "grid_row": null,
       "grid_template_areas": null,
       "grid_template_columns": null,
       "grid_template_rows": null,
       "height": null,
       "justify_content": null,
       "justify_items": null,
       "left": null,
       "margin": null,
       "max_height": null,
       "max_width": null,
       "min_height": null,
       "min_width": null,
       "object_fit": null,
       "object_position": null,
       "order": null,
       "overflow": null,
       "overflow_x": null,
       "overflow_y": null,
       "padding": null,
       "right": null,
       "top": null,
       "visibility": null,
       "width": null
      }
     },
     "64a642f66b0c41e8b0293844f01cd44f": {
      "model_module": "@jupyter-widgets/controls",
      "model_module_version": "1.5.0",
      "model_name": "SliderStyleModel",
      "state": {
       "_model_module": "@jupyter-widgets/controls",
       "_model_module_version": "1.5.0",
       "_model_name": "SliderStyleModel",
       "_view_count": null,
       "_view_module": "@jupyter-widgets/base",
       "_view_module_version": "1.2.0",
       "_view_name": "StyleView",
       "description_width": "",
       "handle_color": null
      }
     },
     "69566c175aee4ca3b02feb9ea003a8fa": {
      "model_module": "@jupyter-widgets/base",
      "model_module_version": "1.2.0",
      "model_name": "LayoutModel",
      "state": {
       "_model_module": "@jupyter-widgets/base",
       "_model_module_version": "1.2.0",
       "_model_name": "LayoutModel",
       "_view_count": null,
       "_view_module": "@jupyter-widgets/base",
       "_view_module_version": "1.2.0",
       "_view_name": "LayoutView",
       "align_content": null,
       "align_items": null,
       "align_self": null,
       "border": null,
       "bottom": null,
       "display": null,
       "flex": null,
       "flex_flow": null,
       "grid_area": null,
       "grid_auto_columns": null,
       "grid_auto_flow": null,
       "grid_auto_rows": null,
       "grid_column": null,
       "grid_gap": null,
       "grid_row": null,
       "grid_template_areas": null,
       "grid_template_columns": null,
       "grid_template_rows": null,
       "height": null,
       "justify_content": null,
       "justify_items": null,
       "left": null,
       "margin": null,
       "max_height": null,
       "max_width": null,
       "min_height": null,
       "min_width": null,
       "object_fit": null,
       "object_position": null,
       "order": null,
       "overflow": null,
       "overflow_x": null,
       "overflow_y": null,
       "padding": null,
       "right": null,
       "top": null,
       "visibility": null,
       "width": null
      }
     },
     "70892cabfc9b420ea02628ec7db2fb16": {
      "model_module": "@jupyter-widgets/output",
      "model_module_version": "1.0.0",
      "model_name": "OutputModel",
      "state": {
       "_dom_classes": [],
       "_model_module": "@jupyter-widgets/output",
       "_model_module_version": "1.0.0",
       "_model_name": "OutputModel",
       "_view_count": null,
       "_view_module": "@jupyter-widgets/output",
       "_view_module_version": "1.0.0",
       "_view_name": "OutputView",
       "layout": "IPY_MODEL_da65dd8ee3664f3bae9bfddc250d26e2",
       "msg_id": "",
       "outputs": []
      }
     },
     "7e3b417db4894d58b15f76c5ed28e321": {
      "model_module": "@jupyter-widgets/controls",
      "model_module_version": "1.5.0",
      "model_name": "VBoxModel",
      "state": {
       "_dom_classes": [
        "widget-interact"
       ],
       "_model_module": "@jupyter-widgets/controls",
       "_model_module_version": "1.5.0",
       "_model_name": "VBoxModel",
       "_view_count": null,
       "_view_module": "@jupyter-widgets/controls",
       "_view_module_version": "1.5.0",
       "_view_name": "VBoxView",
       "box_style": "",
       "children": [],
       "layout": "IPY_MODEL_1d7519cdcf6044fa8573a7105463a056"
      }
     },
     "81ee86a05a784372a90e59ec8a204653": {
      "model_module": "@jupyter-widgets/base",
      "model_module_version": "1.2.0",
      "model_name": "LayoutModel",
      "state": {
       "_model_module": "@jupyter-widgets/base",
       "_model_module_version": "1.2.0",
       "_model_name": "LayoutModel",
       "_view_count": null,
       "_view_module": "@jupyter-widgets/base",
       "_view_module_version": "1.2.0",
       "_view_name": "LayoutView",
       "align_content": null,
       "align_items": null,
       "align_self": null,
       "border": null,
       "bottom": null,
       "display": null,
       "flex": null,
       "flex_flow": null,
       "grid_area": null,
       "grid_auto_columns": null,
       "grid_auto_flow": null,
       "grid_auto_rows": null,
       "grid_column": null,
       "grid_gap": null,
       "grid_row": null,
       "grid_template_areas": null,
       "grid_template_columns": null,
       "grid_template_rows": null,
       "height": null,
       "justify_content": null,
       "justify_items": null,
       "left": null,
       "margin": null,
       "max_height": null,
       "max_width": null,
       "min_height": null,
       "min_width": null,
       "object_fit": null,
       "object_position": null,
       "order": null,
       "overflow": null,
       "overflow_x": null,
       "overflow_y": null,
       "padding": null,
       "right": null,
       "top": null,
       "visibility": null,
       "width": null
      }
     },
     "8846c555f2be400eb15b11c8c7cf9a0a": {
      "model_module": "@jupyter-widgets/controls",
      "model_module_version": "1.5.0",
      "model_name": "SliderStyleModel",
      "state": {
       "_model_module": "@jupyter-widgets/controls",
       "_model_module_version": "1.5.0",
       "_model_name": "SliderStyleModel",
       "_view_count": null,
       "_view_module": "@jupyter-widgets/base",
       "_view_module_version": "1.2.0",
       "_view_name": "StyleView",
       "description_width": "",
       "handle_color": null
      }
     },
     "8df14b910d3444ada2d45f02691e564b": {
      "model_module": "@jupyter-widgets/controls",
      "model_module_version": "1.5.0",
      "model_name": "FloatSliderModel",
      "state": {
       "_dom_classes": [],
       "_model_module": "@jupyter-widgets/controls",
       "_model_module_version": "1.5.0",
       "_model_name": "FloatSliderModel",
       "_view_count": null,
       "_view_module": "@jupyter-widgets/controls",
       "_view_module_version": "1.5.0",
       "_view_name": "FloatSliderView",
       "continuous_update": true,
       "description": "",
       "description_tooltip": null,
       "disabled": false,
       "layout": "IPY_MODEL_1706fc97d5c9427784895468e649998e",
       "max": 1.0,
       "min": 0.0,
       "orientation": "horizontal",
       "readout": true,
       "readout_format": ".2f",
       "step": 0.1,
       "style": "IPY_MODEL_8846c555f2be400eb15b11c8c7cf9a0a",
       "value": 0.0
      }
     },
     "9134257a0a7a4b5584f1179826b08197": {
      "model_module": "@jupyter-widgets/base",
      "model_module_version": "1.2.0",
      "model_name": "LayoutModel",
      "state": {
       "_model_module": "@jupyter-widgets/base",
       "_model_module_version": "1.2.0",
       "_model_name": "LayoutModel",
       "_view_count": null,
       "_view_module": "@jupyter-widgets/base",
       "_view_module_version": "1.2.0",
       "_view_name": "LayoutView",
       "align_content": null,
       "align_items": null,
       "align_self": null,
       "border": null,
       "bottom": null,
       "display": null,
       "flex": null,
       "flex_flow": null,
       "grid_area": null,
       "grid_auto_columns": null,
       "grid_auto_flow": null,
       "grid_auto_rows": null,
       "grid_column": null,
       "grid_gap": null,
       "grid_row": null,
       "grid_template_areas": null,
       "grid_template_columns": null,
       "grid_template_rows": null,
       "height": null,
       "justify_content": null,
       "justify_items": null,
       "left": null,
       "margin": null,
       "max_height": null,
       "max_width": null,
       "min_height": null,
       "min_width": null,
       "object_fit": null,
       "object_position": null,
       "order": null,
       "overflow": null,
       "overflow_x": null,
       "overflow_y": null,
       "padding": null,
       "right": null,
       "top": null,
       "visibility": null,
       "width": null
      }
     },
     "925c2d3cd6464c3ca6a365fbba325b45": {
      "model_module": "@jupyter-widgets/controls",
      "model_module_version": "1.5.0",
      "model_name": "FloatSliderModel",
      "state": {
       "_dom_classes": [],
       "_model_module": "@jupyter-widgets/controls",
       "_model_module_version": "1.5.0",
       "_model_name": "FloatSliderModel",
       "_view_count": null,
       "_view_module": "@jupyter-widgets/controls",
       "_view_module_version": "1.5.0",
       "_view_name": "FloatSliderView",
       "continuous_update": true,
       "description": "",
       "description_tooltip": null,
       "disabled": false,
       "layout": "IPY_MODEL_9134257a0a7a4b5584f1179826b08197",
       "max": 1.0,
       "min": 0.0,
       "orientation": "horizontal",
       "readout": true,
       "readout_format": ".2f",
       "step": 0.1,
       "style": "IPY_MODEL_ddc51193ce5547eba4b40ade78e89e84",
       "value": 0.0
      }
     },
     "93df41b8e0874c4e9375c451c8a1c84f": {
      "model_module": "@jupyter-widgets/base",
      "model_module_version": "1.2.0",
      "model_name": "LayoutModel",
      "state": {
       "_model_module": "@jupyter-widgets/base",
       "_model_module_version": "1.2.0",
       "_model_name": "LayoutModel",
       "_view_count": null,
       "_view_module": "@jupyter-widgets/base",
       "_view_module_version": "1.2.0",
       "_view_name": "LayoutView",
       "align_content": null,
       "align_items": null,
       "align_self": null,
       "border": null,
       "bottom": null,
       "display": null,
       "flex": null,
       "flex_flow": null,
       "grid_area": null,
       "grid_auto_columns": null,
       "grid_auto_flow": null,
       "grid_auto_rows": null,
       "grid_column": null,
       "grid_gap": null,
       "grid_row": null,
       "grid_template_areas": null,
       "grid_template_columns": null,
       "grid_template_rows": null,
       "height": null,
       "justify_content": null,
       "justify_items": null,
       "left": null,
       "margin": null,
       "max_height": null,
       "max_width": null,
       "min_height": null,
       "min_width": null,
       "object_fit": null,
       "object_position": null,
       "order": null,
       "overflow": null,
       "overflow_x": null,
       "overflow_y": null,
       "padding": null,
       "right": null,
       "top": null,
       "visibility": null,
       "width": null
      }
     },
     "986eb33efdbd496184f871941842bcf0": {
      "model_module": "@jupyter-widgets/controls",
      "model_module_version": "1.5.0",
      "model_name": "FloatSliderModel",
      "state": {
       "_dom_classes": [],
       "_model_module": "@jupyter-widgets/controls",
       "_model_module_version": "1.5.0",
       "_model_name": "FloatSliderModel",
       "_view_count": null,
       "_view_module": "@jupyter-widgets/controls",
       "_view_module_version": "1.5.0",
       "_view_name": "FloatSliderView",
       "continuous_update": true,
       "description": "G",
       "description_tooltip": null,
       "disabled": false,
       "layout": "IPY_MODEL_611e2a932e5248e3b79e4eb85285fd14",
       "max": 1.0,
       "min": 0.0,
       "orientation": "horizontal",
       "readout": true,
       "readout_format": ".2f",
       "step": 0.1,
       "style": "IPY_MODEL_1e1b28d694d24ec9a60ebcab14b04335",
       "value": 1.0
      }
     },
     "9a5454d2bd6a47d696659a7c0a88e323": {
      "model_module": "@jupyter-widgets/controls",
      "model_module_version": "1.5.0",
      "model_name": "VBoxModel",
      "state": {
       "_dom_classes": [
        "widget-interact"
       ],
       "_model_module": "@jupyter-widgets/controls",
       "_model_module_version": "1.5.0",
       "_model_name": "VBoxModel",
       "_view_count": null,
       "_view_module": "@jupyter-widgets/controls",
       "_view_module_version": "1.5.0",
       "_view_name": "VBoxView",
       "box_style": "",
       "children": [],
       "layout": "IPY_MODEL_db3de464fd834967903cb1323e41ae49"
      }
     },
     "a28c9872c161488b8b99cf24990a5f79": {
      "model_module": "@jupyter-widgets/controls",
      "model_module_version": "1.5.0",
      "model_name": "VBoxModel",
      "state": {
       "_dom_classes": [
        "widget-interact"
       ],
       "_model_module": "@jupyter-widgets/controls",
       "_model_module_version": "1.5.0",
       "_model_name": "VBoxModel",
       "_view_count": null,
       "_view_module": "@jupyter-widgets/controls",
       "_view_module_version": "1.5.0",
       "_view_name": "VBoxView",
       "box_style": "",
       "children": [
        "IPY_MODEL_6268c6ea8238421a939573117f2b445e",
        "IPY_MODEL_ec3e0e0a062e474cb93e72d8c644760e",
        "IPY_MODEL_00d40712a7954466ac42da8a09ec57be",
        "IPY_MODEL_570a04e6c29f4e32ba777c7d95e88fc6"
       ],
       "layout": "IPY_MODEL_1d7519cdcf6044fa8573a7105463a056"
      }
     },
     "a4041763b56c4d88b9c8dd21078bb753": {
      "model_module": "@jupyter-widgets/controls",
      "model_module_version": "1.5.0",
      "model_name": "SliderStyleModel",
      "state": {
       "_model_module": "@jupyter-widgets/controls",
       "_model_module_version": "1.5.0",
       "_model_name": "SliderStyleModel",
       "_view_count": null,
       "_view_module": "@jupyter-widgets/base",
       "_view_module_version": "1.2.0",
       "_view_name": "StyleView",
       "description_width": "",
       "handle_color": null
      }
     },
     "a6d001efbb59469f9b21383c339e6b28": {
      "model_module": "@jupyter-widgets/base",
      "model_module_version": "1.2.0",
      "model_name": "LayoutModel",
      "state": {
       "_model_module": "@jupyter-widgets/base",
       "_model_module_version": "1.2.0",
       "_model_name": "LayoutModel",
       "_view_count": null,
       "_view_module": "@jupyter-widgets/base",
       "_view_module_version": "1.2.0",
       "_view_name": "LayoutView",
       "align_content": null,
       "align_items": null,
       "align_self": null,
       "border": null,
       "bottom": null,
       "display": null,
       "flex": null,
       "flex_flow": null,
       "grid_area": null,
       "grid_auto_columns": null,
       "grid_auto_flow": null,
       "grid_auto_rows": null,
       "grid_column": null,
       "grid_gap": null,
       "grid_row": null,
       "grid_template_areas": null,
       "grid_template_columns": null,
       "grid_template_rows": null,
       "height": null,
       "justify_content": null,
       "justify_items": null,
       "left": null,
       "margin": null,
       "max_height": null,
       "max_width": null,
       "min_height": null,
       "min_width": null,
       "object_fit": null,
       "object_position": null,
       "order": null,
       "overflow": null,
       "overflow_x": null,
       "overflow_y": null,
       "padding": null,
       "right": null,
       "top": null,
       "visibility": null,
       "width": null
      }
     },
     "b40380e7f3d34619b6efa956a64e2da1": {
      "model_module": "@jupyter-widgets/controls",
      "model_module_version": "1.5.0",
      "model_name": "FloatSliderModel",
      "state": {
       "_dom_classes": [],
       "_model_module": "@jupyter-widgets/controls",
       "_model_module_version": "1.5.0",
       "_model_name": "FloatSliderModel",
       "_view_count": null,
       "_view_module": "@jupyter-widgets/controls",
       "_view_module_version": "1.5.0",
       "_view_name": "FloatSliderView",
       "continuous_update": true,
       "description": "",
       "description_tooltip": null,
       "disabled": false,
       "layout": "IPY_MODEL_a6d001efbb59469f9b21383c339e6b28",
       "max": 1.0,
       "min": 0.0,
       "orientation": "horizontal",
       "readout": true,
       "readout_format": ".2f",
       "step": 0.1,
       "style": "IPY_MODEL_16fb3f178d9241438e1c794736acb6e9",
       "value": 0.0
      }
     },
     "be9c43345e804e8a8c28686d333b5333": {
      "model_module": "@jupyter-widgets/controls",
      "model_module_version": "1.5.0",
      "model_name": "SliderStyleModel",
      "state": {
       "_model_module": "@jupyter-widgets/controls",
       "_model_module_version": "1.5.0",
       "_model_name": "SliderStyleModel",
       "_view_count": null,
       "_view_module": "@jupyter-widgets/base",
       "_view_module_version": "1.2.0",
       "_view_name": "StyleView",
       "description_width": "",
       "handle_color": null
      }
     },
     "c149ca5ec1de4e1e95a72cbad621fe3e": {
      "model_module": "@jupyter-widgets/output",
      "model_module_version": "1.0.0",
      "model_name": "OutputModel",
      "state": {
       "_dom_classes": [],
       "_model_module": "@jupyter-widgets/output",
       "_model_module_version": "1.0.0",
       "_model_name": "OutputModel",
       "_view_count": null,
       "_view_module": "@jupyter-widgets/output",
       "_view_module_version": "1.0.0",
       "_view_name": "OutputView",
       "layout": "IPY_MODEL_da65dd8ee3664f3bae9bfddc250d26e2",
       "msg_id": "",
       "outputs": [
        {
         "data": {
          "image/png": "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",
          "text/plain": "<Figure size 600x400 with 2 Axes>"
         },
         "metadata": {},
         "output_type": "display_data"
        }
       ]
      }
     },
     "c83f73040d704f8194f8465d90eeb0a9": {
      "model_module": "@jupyter-widgets/controls",
      "model_module_version": "1.5.0",
      "model_name": "FloatSliderModel",
      "state": {
       "_dom_classes": [],
       "_model_module": "@jupyter-widgets/controls",
       "_model_module_version": "1.5.0",
       "_model_name": "FloatSliderModel",
       "_view_count": null,
       "_view_module": "@jupyter-widgets/controls",
       "_view_module_version": "1.5.0",
       "_view_name": "FloatSliderView",
       "continuous_update": true,
       "description": "",
       "description_tooltip": null,
       "disabled": false,
       "layout": "IPY_MODEL_611e2a932e5248e3b79e4eb85285fd14",
       "max": 1.0,
       "min": 0.0,
       "orientation": "horizontal",
       "readout": true,
       "readout_format": ".2f",
       "step": 0.1,
       "style": "IPY_MODEL_1e1b28d694d24ec9a60ebcab14b04335",
       "value": 0.0
      }
     },
     "cd59447ea73e4ee081527e11cd9da191": {
      "model_module": "@jupyter-widgets/controls",
      "model_module_version": "1.5.0",
      "model_name": "FloatSliderModel",
      "state": {
       "_dom_classes": [],
       "_model_module": "@jupyter-widgets/controls",
       "_model_module_version": "1.5.0",
       "_model_name": "FloatSliderModel",
       "_view_count": null,
       "_view_module": "@jupyter-widgets/controls",
       "_view_module_version": "1.5.0",
       "_view_name": "FloatSliderView",
       "continuous_update": true,
       "description": "",
       "description_tooltip": null,
       "disabled": false,
       "layout": "IPY_MODEL_448ad257a08a4b6c9fe00a1342170605",
       "max": 1.0,
       "min": 0.0,
       "orientation": "horizontal",
       "readout": true,
       "readout_format": ".2f",
       "step": 0.1,
       "style": "IPY_MODEL_be9c43345e804e8a8c28686d333b5333",
       "value": 0.0
      }
     },
     "da65dd8ee3664f3bae9bfddc250d26e2": {
      "model_module": "@jupyter-widgets/base",
      "model_module_version": "1.2.0",
      "model_name": "LayoutModel",
      "state": {
       "_model_module": "@jupyter-widgets/base",
       "_model_module_version": "1.2.0",
       "_model_name": "LayoutModel",
       "_view_count": null,
       "_view_module": "@jupyter-widgets/base",
       "_view_module_version": "1.2.0",
       "_view_name": "LayoutView",
       "align_content": null,
       "align_items": null,
       "align_self": null,
       "border": null,
       "bottom": null,
       "display": null,
       "flex": null,
       "flex_flow": null,
       "grid_area": null,
       "grid_auto_columns": null,
       "grid_auto_flow": null,
       "grid_auto_rows": null,
       "grid_column": null,
       "grid_gap": null,
       "grid_row": null,
       "grid_template_areas": null,
       "grid_template_columns": null,
       "grid_template_rows": null,
       "height": null,
       "justify_content": null,
       "justify_items": null,
       "left": null,
       "margin": null,
       "max_height": null,
       "max_width": null,
       "min_height": null,
       "min_width": null,
       "object_fit": null,
       "object_position": null,
       "order": null,
       "overflow": null,
       "overflow_x": null,
       "overflow_y": null,
       "padding": null,
       "right": null,
       "top": null,
       "visibility": null,
       "width": null
      }
     },
     "db3de464fd834967903cb1323e41ae49": {
      "model_module": "@jupyter-widgets/base",
      "model_module_version": "1.2.0",
      "model_name": "LayoutModel",
      "state": {
       "_model_module": "@jupyter-widgets/base",
       "_model_module_version": "1.2.0",
       "_model_name": "LayoutModel",
       "_view_count": null,
       "_view_module": "@jupyter-widgets/base",
       "_view_module_version": "1.2.0",
       "_view_name": "LayoutView",
       "align_content": null,
       "align_items": null,
       "align_self": null,
       "border": null,
       "bottom": null,
       "display": null,
       "flex": null,
       "flex_flow": null,
       "grid_area": null,
       "grid_auto_columns": null,
       "grid_auto_flow": null,
       "grid_auto_rows": null,
       "grid_column": null,
       "grid_gap": null,
       "grid_row": null,
       "grid_template_areas": null,
       "grid_template_columns": null,
       "grid_template_rows": null,
       "height": null,
       "justify_content": null,
       "justify_items": null,
       "left": null,
       "margin": null,
       "max_height": null,
       "max_width": null,
       "min_height": null,
       "min_width": null,
       "object_fit": null,
       "object_position": null,
       "order": null,
       "overflow": null,
       "overflow_x": null,
       "overflow_y": null,
       "padding": null,
       "right": null,
       "top": null,
       "visibility": null,
       "width": null
      }
     },
     "ddc51193ce5547eba4b40ade78e89e84": {
      "model_module": "@jupyter-widgets/controls",
      "model_module_version": "1.5.0",
      "model_name": "SliderStyleModel",
      "state": {
       "_model_module": "@jupyter-widgets/controls",
       "_model_module_version": "1.5.0",
       "_model_name": "SliderStyleModel",
       "_view_count": null,
       "_view_module": "@jupyter-widgets/base",
       "_view_module_version": "1.2.0",
       "_view_name": "StyleView",
       "description_width": "",
       "handle_color": null
      }
     },
     "ebe8e2fb1ce74a11b2c759ecac284210": {
      "model_module": "@jupyter-widgets/controls",
      "model_module_version": "1.5.0",
      "model_name": "FloatSliderModel",
      "state": {
       "_dom_classes": [],
       "_model_module": "@jupyter-widgets/controls",
       "_model_module_version": "1.5.0",
       "_model_name": "FloatSliderModel",
       "_view_count": null,
       "_view_module": "@jupyter-widgets/controls",
       "_view_module_version": "1.5.0",
       "_view_name": "FloatSliderView",
       "continuous_update": true,
       "description": "B",
       "description_tooltip": null,
       "disabled": false,
       "layout": "IPY_MODEL_3cf1cb0c58254d90b2d44827b5f6cf90",
       "max": 1.0,
       "min": 0.0,
       "orientation": "horizontal",
       "readout": true,
       "readout_format": ".2f",
       "step": 0.1,
       "style": "IPY_MODEL_2d7e2c174caa492b926eba0ad68b71cf",
       "value": 1.0
      }
     },
     "ec3e0e0a062e474cb93e72d8c644760e": {
      "model_module": "@jupyter-widgets/controls",
      "model_module_version": "1.5.0",
      "model_name": "FloatSliderModel",
      "state": {
       "_dom_classes": [],
       "_model_module": "@jupyter-widgets/controls",
       "_model_module_version": "1.5.0",
       "_model_name": "FloatSliderModel",
       "_view_count": null,
       "_view_module": "@jupyter-widgets/controls",
       "_view_module_version": "1.5.0",
       "_view_name": "FloatSliderView",
       "continuous_update": true,
       "description": "G",
       "description_tooltip": null,
       "disabled": false,
       "layout": "IPY_MODEL_9134257a0a7a4b5584f1179826b08197",
       "max": 1.0,
       "min": 0.0,
       "orientation": "horizontal",
       "readout": true,
       "readout_format": ".2f",
       "step": 0.1,
       "style": "IPY_MODEL_ddc51193ce5547eba4b40ade78e89e84",
       "value": 0.0
      }
     },
     "fddf662f845d4513a84508923914bb56": {
      "model_module": "@jupyter-widgets/controls",
      "model_module_version": "1.5.0",
      "model_name": "VBoxModel",
      "state": {
       "_dom_classes": [
        "widget-interact"
       ],
       "_model_module": "@jupyter-widgets/controls",
       "_model_module_version": "1.5.0",
       "_model_name": "VBoxModel",
       "_view_count": null,
       "_view_module": "@jupyter-widgets/controls",
       "_view_module_version": "1.5.0",
       "_view_name": "VBoxView",
       "box_style": "",
       "children": [
        "IPY_MODEL_58b3eeb05d8c48e08f627ecfb239fda0",
        "IPY_MODEL_986eb33efdbd496184f871941842bcf0",
        "IPY_MODEL_ebe8e2fb1ce74a11b2c759ecac284210",
        "IPY_MODEL_c149ca5ec1de4e1e95a72cbad621fe3e"
       ],
       "layout": "IPY_MODEL_db3de464fd834967903cb1323e41ae49"
      }
     }
    },
    "version_major": 2,
    "version_minor": 0
   }
  }
 },
 "nbformat": 4,
 "nbformat_minor": 5
}