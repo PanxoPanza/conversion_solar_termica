{
 "cells": [
  {
   "cell_type": "markdown",
   "id": "062b856b",
   "metadata": {
    "slideshow": {
     "slide_type": "slide"
    }
   },
   "source": [
    "# Teoria del color"
   ]
  },
  {
   "cell_type": "markdown",
   "id": "f9292ad4",
   "metadata": {
    "slideshow": {
     "slide_type": "slide"
    }
   },
   "source": [
    "## Introducción"
   ]
  },
  {
   "cell_type": "markdown",
   "id": "eb98c9d6",
   "metadata": {
    "slideshow": {
     "slide_type": "fragment"
    }
   },
   "source": [
    "Para nuestros ojos, una fuente de luz tiene coloración blanca cuando la intensidad de cada frecuencia del espectro visible es, aproximadamente, constante."
   ]
  },
  {
   "cell_type": "markdown",
   "id": "09b3f12d",
   "metadata": {
    "slideshow": {
     "slide_type": "fragment"
    }
   },
   "source": [
    "El mejor ejemplo es el sol.\n",
    "<img src=\"./images/solar_spectrum.jpg\" width=\"500px\" align= center>"
   ]
  },
  {
   "cell_type": "markdown",
   "id": "89e05492",
   "metadata": {
    "slideshow": {
     "slide_type": "slide"
    }
   },
   "source": [
    "## Espacio de colores CIE RGB"
   ]
  },
  {
   "cell_type": "markdown",
   "id": "dd70b192",
   "metadata": {
    "slideshow": {
     "slide_type": "fragment"
    }
   },
   "source": [
    "Los colores aparecen cuando el espectro de la fuente no está ditribuido de forma uniforme. Nuestros ojos, encargados de intrepretar este espectro como color, poseen *células fotoreceptoras o conos celulares* sensibles a los colores: <font color='red'>rojo (R)</font>, <font color='green'>verde (G)</font> y <font color='blue'>azul (B)</font>"
   ]
  },
  {
   "cell_type": "markdown",
   "id": "97e95fb9",
   "metadata": {
    "slideshow": {
     "slide_type": "fragment"
    }
   },
   "source": [
    "Matemáticamente, existen diversas formas de transformar un espectro, $I_\\mathrm{spec}(\\lambda)$, a **código de colores RGB**. En este curso, usamos el módulo `ref_spectra.color_system` de la librería `empylib`, el cual está basado en [Comisión internacional de la iluminación (CIE)](https://es.wikipedia.org/wiki/Espacio_de_color_CIE_1931)"
   ]
  },
  {
   "cell_type": "markdown",
   "id": "dba0bbd8",
   "metadata": {
    "slideshow": {
     "slide_type": "fragment"
    }
   },
   "source": [
    "En términos simples, el procedimiento consiste en determinar los **valores triestímulo $X$, $Y$ y $Z$** a partir de las **funciones de combinación de colores $\\bar{x}(\\lambda)$, $\\bar{y}(\\lambda)$ y $\\bar{z}(\\lambda)$,** que representan la precepción visual humana de forma numérica:\n",
    "\n",
    "\\begin{equation*}\n",
    "X = \\int_{0}^\\infty I_\\mathrm{spec}(\\lambda)\\bar{x}(\\lambda) d\\lambda,\\quad\\quad\n",
    "Y = \\int_{0}^\\infty I_\\mathrm{spec}(\\lambda)\\bar{y}(\\lambda) d\\lambda,\\quad\\quad\n",
    "Z = \\int_{0}^\\infty I_\\mathrm{spec}(\\lambda)\\bar{z}(\\lambda) d\\lambda,\n",
    "\\end{equation*}"
   ]
  },
  {
   "cell_type": "markdown",
   "id": "e45cb938",
   "metadata": {
    "slideshow": {
     "slide_type": "slide"
    }
   },
   "source": [
    "Analicemos el comportamiento de las funciones de combinación de colores."
   ]
  },
  {
   "cell_type": "code",
   "execution_count": 1,
   "id": "d10b5c36",
   "metadata": {
    "cell_style": "center",
    "tags": [
     "hide-input"
    ]
   },
   "outputs": [
    {
     "data": {
      "image/png": "[encoded data removed]",
      "text/plain": [
       "<Figure size 432x288 with 1 Axes>"
      ]
     },
     "metadata": {
      "filenames": {
       "image/png": "/mnt/c/Users/francisco.ramirez.c/OneDrive - Universidad Adolfo Ibanez/Teaching_courses/MEC501 - Manejo_y_Conversion_Energia_Solar_Termica/material_catedra/_build/jupyter_execute/Apendice/Teoria_del_color/Teoria_del_color_9_0.png"
      },
      "needs_background": "light"
     },
     "output_type": "display_data"
    }
   ],
   "source": [
    "import matplotlib.pyplot as plt\n",
    "\n",
    "# librería para transformación de espectro a código RGB\n",
    "from empylib.ref_spectra import color_system as cs\n",
    "cs = cs.srgb\n",
    "\n",
    "# formateamos el lienzo de la figura\n",
    "fig, ax = plt.subplots()\n",
    "fig.set_size_inches(6, 4)\n",
    "plt.rcParams['font.size'] = '14'\n",
    "\n",
    "# Graficamos cada curva del estandar CIE XYZ\n",
    "plt.fill(cs.lam_cmf,cs.cmf[:,0],color='red'  ,alpha=0.5,edgecolor=None,label='$\\overline{x}~(\\lambda)$')\n",
    "plt.fill(cs.lam_cmf,cs.cmf[:,1],color='green',alpha=0.5,edgecolor=None,label='$\\overline{y}~(\\lambda)$')\n",
    "plt.fill(cs.lam_cmf,cs.cmf[:,2],color='blue' ,alpha=0.5,edgecolor=None,label='$\\overline{z}~(\\lambda)$')\n",
    "\n",
    "# Ajustamos formato de ejes\n",
    "plt.ylim(0,2)\n",
    "plt.tick_params(left = False,labelleft = False)\n",
    "plt.xlabel('Longitud de onda ($\\mu$m)')\n",
    "plt.legend();"
   ]
  },
  {
   "cell_type": "markdown",
   "id": "411f3a24",
   "metadata": {
    "slideshow": {
     "slide_type": "slide"
    }
   },
   "source": [
    "Posterior a esto, el código de colores $\\mathrm{RGB}$ se determina a partir del sistema:\n",
    "\n",
    "\\begin{equation*}\n",
    "\\begin{bmatrix}\n",
    "0.187 & 0.063 & 0.064 \\\\\n",
    "0.092 & 0.212 & 0.025 \\\\\n",
    "0     & 0.024 & 0.334 \\\\\n",
    "\\end{bmatrix}\\left[\\begin{array}{c} \\mathrm{R} \\\\\\mathrm{G} \\\\\\mathrm{B} \\end{array}\\right] =\n",
    "\\left[\\begin{array}{c} x \\\\y \\\\z\\end{array}\\right]\n",
    "\\end{equation*}"
   ]
  },
  {
   "cell_type": "markdown",
   "id": "df1ee659",
   "metadata": {
    "slideshow": {
     "slide_type": "fragment"
    }
   },
   "source": [
    "donde $xyz$ están dados por:\n",
    "\n",
    "\\begin{equation*}\n",
    "x = \\frac{X}{X+Y+Z},\\quad\\quad\\quad y = \\frac{Y}{X+Y+Z},\\quad\\quad\\quad z = \\frac{Z}{X+Y+Z},\n",
    "\\end{equation*}"
   ]
  },
  {
   "cell_type": "markdown",
   "id": "f5c25230",
   "metadata": {
    "slideshow": {
     "slide_type": "slide"
    }
   },
   "source": [
    "## Modelos de colores\n"
   ]
  },
  {
   "cell_type": "markdown",
   "id": "c95eb815",
   "metadata": {
    "slideshow": {
     "slide_type": "fragment"
    }
   },
   "source": [
    "### Coloración aditiva\n",
    "Es un modelo que explica la obtención de un color a partir de la suma de los componentes primarios, comúnmente, rojo, verde y azul. La coloración aditiva es el método utilizado en monitores electrónicos, como LCD, LED, oLED, etc."
   ]
  },
  {
   "cell_type": "markdown",
   "id": "a31b72fe",
   "metadata": {
    "slideshow": {
     "slide_type": "fragment"
    }
   },
   "source": [
    "<img src=\"./images/additive_colors.jpg\" width=\"700px\" align= center>"
   ]
  },
  {
   "cell_type": "markdown",
   "id": "e59ea155",
   "metadata": {
    "slideshow": {
     "slide_type": "slide"
    }
   },
   "source": [
    "Analicemos el siguiente modelo de colores aditivos."
   ]
  },
  {
   "cell_type": "code",
   "execution_count": 2,
   "id": "fae750d9",
   "metadata": {
    "cell_style": "split",
    "slideshow": {
     "slide_type": "fragment"
    },
    "tags": [
     "hide-input"
    ]
   },
   "outputs": [],
   "source": [
    "# importamos librerías necesarias\n",
    "import empylib as em\n",
    "import empylib.nklib as nk\n",
    "import empylib.ref_spectra as rf\n",
    "import empylib.waveoptics as wv\n",
    "import matplotlib.pyplot as plt\n",
    "import numpy as np\n",
    "\n",
    "def plot_additive_color(R,G,B):\n",
    "    # lienzo para la figura\n",
    "    fig, ax = plt.subplots()          \n",
    "    fig.set_size_inches(6, 4)         # Tamaño del gráfico\n",
    "    plt.rcParams['font.size'] = '14'  # tamaño de  fuente\n",
    "\n",
    "    # Espectro de longitudes de onda entre 300 y 800 nm\n",
    "    lam = np.linspace(0.3,0.8,500)\n",
    "\n",
    "    # Generamos un material con emisividad en rojo, verde y azul\n",
    "    wn = em.convert_units(np.array([450, 520, 630]),'nm','eV')\n",
    "    wp = [B*0.02,G*0.02,R*0.02]  # Frecuencia wp (eV)\n",
    "    T  = 0.05    # Taza de decaimiento (eV)\n",
    "\n",
    "    eps_mat = complex(1,0)\n",
    "    for i in range(len(wn)):\n",
    "        # constante dieléctrica según modelo de Lorentz\n",
    "        eps_mat = eps_mat + (nk.lorentz(0,wp[i],wn[i],T,lam))**2\n",
    "\n",
    "    N_mat = np.sqrt(eps_mat)\n",
    "\n",
    "    Rw, Tw = wv.incoh_multilayer(lam,0, (1.0,N_mat,1.0), 200)\n",
    "    Ew = 1 - Rw - Tw;\n",
    "\n",
    "    # Graficamos el espectro de emisión\n",
    "    ax.plot(lam*1E3,Ew*100)\n",
    "    ax.set_ylabel('Emisividad (%)')\n",
    "    ax.set_xlabel('Longitud de onda ($\\mu$m)')\n",
    "    ax.set_ylim(0,100)\n",
    "\n",
    "    # interpretacion de colores\n",
    "    Dcircle = 0.30\n",
    "    ax2 = fig.add_axes([0.63,0.55, Dcircle, Dcircle])\n",
    "    html_rgb = cs.spec_to_rgb(Ew*rf.AM15(lam),lam, out_fmt='html')\n",
    "    Circle = plt.Circle((0, 0), Dcircle, color=html_rgb)\n",
    "    ax2.add_patch(Circle)\n",
    "    ax2.set_aspect('equal')\n",
    "    ax2.set_xlim(-Dcircle*1.2,Dcircle*1.2)\n",
    "    ax2.set_ylim(-Dcircle*1.2,Dcircle*1.2)\n",
    "    ax2.set_xticks([])\n",
    "    ax2.set_yticks([])\n",
    "    ax2.set_facecolor('k');"
   ]
  },
  {
   "cell_type": "code",
   "execution_count": 3,
   "id": "9c8baf14",
   "metadata": {
    "cell_style": "split",
    "tags": [
     "hide-input"
    ]
   },
   "outputs": [
    {
     "data": {
      "application/vnd.jupyter.widget-view+json": {
       "model_id": "701ebfbc58844ab3977cc6c467b15f12",
       "version_major": 2,
       "version_minor": 0
      },
      "text/plain": [
       "interactive(children=(FloatSlider(value=1.0, description='R', max=1.0), FloatSlider(value=1.0, description='G'…"
      ]
     },
     "metadata": {},
     "output_type": "display_data"
    }
   ],
   "source": [
    "from ipywidgets import interact\n",
    "\n",
    "@interact(R=(0,1,0.1), G=(0,1,0.1), B=(0,1,0.1))\n",
    "def g(R = 1, G = 1, B = 1):\n",
    "    return plot_additive_color(R,G,B)"
   ]
  },
  {
   "cell_type": "markdown",
   "id": "ef5c2184",
   "metadata": {
    "slideshow": {
     "slide_type": "slide"
    }
   },
   "source": [
    "### Coloración sustractiva\n",
    "Se basa en la formación de colores a partir de la sustracción de colores primarios. Comúnmente, se utilizan los colores amarillo, cian y magenta."
   ]
  },
  {
   "cell_type": "markdown",
   "id": "bfe5809a",
   "metadata": {
    "slideshow": {
     "slide_type": "fragment"
    }
   },
   "source": [
    "El modelo, explica la coloración de muchas frutas, verduras y plantas. Además, es la técnica utilizada en impresión a color, fotografía y cinematografía.\n",
    "\n",
    "<img src=\"./images/substractive_colors.png\" width=\"700px\" align= center>"
   ]
  },
  {
   "cell_type": "markdown",
   "id": "01e2ccda",
   "metadata": {
    "slideshow": {
     "slide_type": "slide"
    }
   },
   "source": [
    "El siguiente modelo explica el concepto de coloración sustractiva"
   ]
  },
  {
   "cell_type": "code",
   "execution_count": 4,
   "id": "e19abd25",
   "metadata": {
    "cell_style": "split",
    "slideshow": {
     "slide_type": "fragment"
    },
    "tags": [
     "hide-input"
    ]
   },
   "outputs": [],
   "source": [
    "# importamos librerías necesarias\n",
    "import empylib as em\n",
    "import empylib.nklib as nk\n",
    "import empylib.ref_spectra as rf\n",
    "import empylib.waveoptics as wv\n",
    "import matplotlib.pyplot as plt\n",
    "import numpy as np\n",
    "\n",
    "def plot_substractive_color(R,G,B):\n",
    "    # lienzo para la figura\n",
    "    fig, ax = plt.subplots()          \n",
    "    fig.set_size_inches(6, 4)         # Tamaño del gráfico\n",
    "    plt.rcParams['font.size'] = '14'  # tamaño de  fuente\n",
    "\n",
    "    # Espectro de longitudes de onda entre 300 y 800 nm\n",
    "    lam = np.linspace(0.3,0.8,500)\n",
    "\n",
    "    # Generamos un material con emisividad en rojo, verde y azul\n",
    "    wn = em.convert_units(np.array([450, 520, 630]),'nm','eV')\n",
    "    wp = [B*0.02,G*0.02,R*0.02]  # Frecuencia wp (eV)\n",
    "    T  = 0.05    # Taza de decaimiento (eV)\n",
    "\n",
    "    eps_mat = complex(1,0)\n",
    "    for i in range(len(wn)):\n",
    "        # constante dieléctrica según modelo de Lorentz\n",
    "        eps_mat = eps_mat + (nk.lorentz(0,wp[i],wn[i],T,lam))**2\n",
    "\n",
    "    N_mat = np.sqrt(eps_mat)\n",
    "\n",
    "    Rw, Tw = wv.incoh_multilayer(lam,0, (1.0,N_mat,1.0), 200)\n",
    "    Ew = 1 - Rw - Tw\n",
    "    Rw = (1 - Ew)\n",
    "\n",
    "    # Graficamos el espectro de emisión\n",
    "    ax.plot(lam*1E3,(1 - Ew)*100)\n",
    "    ax.set_ylabel('Reflectancia (%)')\n",
    "    ax.set_xlabel('Longitud de onda ($\\mu$m)')\n",
    "    ax.set_ylim(0,100)\n",
    "\n",
    "    # interpretacion de colores\n",
    "    Dcircle = 0.30\n",
    "    ax2 = fig.add_axes([0.63,0.55, Dcircle, Dcircle])\n",
    "    html_rgb = cs.spec_to_rgb(Rw*rf.AM15(lam),lam, out_fmt='html')\n",
    "    Circle = plt.Circle((0, 0), Dcircle, color=html_rgb)\n",
    "    ax2.add_patch(Circle)\n",
    "    ax2.set_aspect('equal')\n",
    "    ax2.set_xlim(-Dcircle*1.2,Dcircle*1.2)\n",
    "    ax2.set_ylim(-Dcircle*1.2,Dcircle*1.2)\n",
    "    ax2.set_xticks([])\n",
    "    ax2.set_yticks([])\n",
    "    ax2.set_facecolor('k');"
   ]
  },
  {
   "cell_type": "code",
   "execution_count": 5,
   "id": "cea13ba8",
   "metadata": {
    "cell_style": "split",
    "scrolled": true,
    "tags": [
     "hide-input"
    ]
   },
   "outputs": [
    {
     "data": {
      "application/vnd.jupyter.widget-view+json": {
       "model_id": "fc96627994c84375bc1d75f0f14037ab",
       "version_major": 2,
       "version_minor": 0
      },
      "text/plain": [
       "interactive(children=(FloatSlider(value=1.0, description='R', max=1.0), FloatSlider(value=0.0, description='G'…"
      ]
     },
     "metadata": {},
     "output_type": "display_data"
    }
   ],
   "source": [
    "from ipywidgets import interact\n",
    "\n",
    "@interact(R=(0,1,0.1), G=(0,1,0.1), B=(0,1,0.1))\n",
    "def g(R = 1, G = 0, B = 0):\n",
    "    return plot_substractive_color(R,G,B)"
   ]
  },
  {
   "cell_type": "markdown",
   "id": "17c1dc23",
   "metadata": {
    "slideshow": {
     "slide_type": "slide"
    }
   },
   "source": [
    "## Referencias\n",
    "**Hetch E., *Óptica*, 5ta Ed, Pearson, 2017**\n",
    "- Capítulo 4.9: Aspectos conocidos de la interacción de la luz y la materia"
   ]
  }
 ],
 "metadata": {
  "celltoolbar": "Slideshow",
  "kernelspec": {
   "display_name": "Python 3 (ipykernel)",
   "language": "python",
   "name": "python3"
  },
  "language_info": {
   "codemirror_mode": {
    "name": "ipython",
    "version": 3
   },
   "file_extension": ".py",
   "mimetype": "text/x-python",
   "name": "python",
   "nbconvert_exporter": "python",
   "pygments_lexer": "ipython3",
   "version": "3.9.13"
  },
  "latex_envs": {
   "LaTeX_envs_menu_present": true,
   "autoclose": false,
   "autocomplete": false,
   "bibliofile": "biblio.bib",
   "cite_by": "apalike",
   "current_citInitial": 1,
   "eqLabelWithNumbers": true,
   "eqNumInitial": 1,
   "hotkeys": {
    "equation": "Ctrl-E",
    "itemize": "Ctrl-I"
   },
   "labels_anchors": false,
   "latex_user_defs": false,
   "report_style_numbering": false,
   "user_envs_cfg": true
  },
  "toc": {
   "base_numbering": 1,
   "nav_menu": {},
   "number_sections": true,
   "sideBar": true,
   "skip_h1_title": true,
   "title_cell": "Tabla de contenidos",
   "title_sidebar": "Contenidos",
   "toc_cell": false,
   "toc_position": {
    "height": "calc(100% - 180px)",
    "left": "10px",
    "top": "150px",
    "width": "307.2px"
   },
   "toc_section_display": true,
   "toc_window_display": false
  },
  "varInspector": {
   "cols": {
    "lenName": 16,
    "lenType": 16,
    "lenVar": 40
   },
   "kernels_config": {
    "python": {
     "delete_cmd_postfix": "",
     "delete_cmd_prefix": "del ",
     "library": "var_list.py",
     "varRefreshCmd": "print(var_dic_list())"
    },
    "r": {
     "delete_cmd_postfix": ") ",
     "delete_cmd_prefix": "rm(",
     "library": "var_list.r",
     "varRefreshCmd": "cat(var_dic_list()) "
    }
   },
   "types_to_exclude": [
    "module",
    "function",
    "builtin_function_or_method",
    "instance",
    "_Feature"
   ],
   "window_display": false
  },
  "widgets": {
   "application/vnd.jupyter.widget-state+json": {
    "state": {
     "0b6fa2ebf0e443698eb0e8cb6f287317": {
      "model_module": "@jupyter-widgets/base",
      "model_module_version": "1.2.0",
      "model_name": "LayoutModel",
      "state": {
       "_model_module": "@jupyter-widgets/base",
       "_model_module_version": "1.2.0",
       "_model_name": "LayoutModel",
       "_view_count": null,
       "_view_module": "@jupyter-widgets/base",
       "_view_module_version": "1.2.0",
       "_view_name": "LayoutView",
       "align_content": null,
       "align_items": null,
       "align_self": null,
       "border": null,
       "bottom": null,
       "display": null,
       "flex": null,
       "flex_flow": null,
       "grid_area": null,
       "grid_auto_columns": null,
       "grid_auto_flow": null,
       "grid_auto_rows": null,
       "grid_column": null,
       "grid_gap": null,
       "grid_row": null,
       "grid_template_areas": null,
       "grid_template_columns": null,
       "grid_template_rows": null,
       "height": null,
       "justify_content": null,
       "justify_items": null,
       "left": null,
       "margin": null,
       "max_height": null,
       "max_width": null,
       "min_height": null,
       "min_width": null,
       "object_fit": null,
       "object_position": null,
       "order": null,
       "overflow": null,
       "overflow_x": null,
       "overflow_y": null,
       "padding": null,
       "right": null,
       "top": null,
       "visibility": null,
       "width": null
      }
     },
     "1b6f541e89b6438eb89684b1e94631f7": {
      "model_module": "@jupyter-widgets/base",
      "model_module_version": "1.2.0",
      "model_name": "LayoutModel",
      "state": {
       "_model_module": "@jupyter-widgets/base",
       "_model_module_version": "1.2.0",
       "_model_name": "LayoutModel",
       "_view_count": null,
       "_view_module": "@jupyter-widgets/base",
       "_view_module_version": "1.2.0",
       "_view_name": "LayoutView",
       "align_content": null,
       "align_items": null,
       "align_self": null,
       "border": null,
       "bottom": null,
       "display": null,
       "flex": null,
       "flex_flow": null,
       "grid_area": null,
       "grid_auto_columns": null,
       "grid_auto_flow": null,
       "grid_auto_rows": null,
       "grid_column": null,
       "grid_gap": null,
       "grid_row": null,
       "grid_template_areas": null,
       "grid_template_columns": null,
       "grid_template_rows": null,
       "height": null,
       "justify_content": null,
       "justify_items": null,
       "left": null,
       "margin": null,
       "max_height": null,
       "max_width": null,
       "min_height": null,
       "min_width": null,
       "object_fit": null,
       "object_position": null,
       "order": null,
       "overflow": null,
       "overflow_x": null,
       "overflow_y": null,
       "padding": null,
       "right": null,
       "top": null,
       "visibility": null,
       "width": null
      }
     },
     "1ecdcd1d0c7b4552bb8bf51f0c9eb679": {
      "model_module": "@jupyter-widgets/base",
      "model_module_version": "1.2.0",
      "model_name": "LayoutModel",
      "state": {
       "_model_module": "@jupyter-widgets/base",
       "_model_module_version": "1.2.0",
       "_model_name": "LayoutModel",
       "_view_count": null,
       "_view_module": "@jupyter-widgets/base",
       "_view_module_version": "1.2.0",
       "_view_name": "LayoutView",
       "align_content": null,
       "align_items": null,
       "align_self": null,
       "border": null,
       "bottom": null,
       "display": null,
       "flex": null,
       "flex_flow": null,
       "grid_area": null,
       "grid_auto_columns": null,
       "grid_auto_flow": null,
       "grid_auto_rows": null,
       "grid_column": null,
       "grid_gap": null,
       "grid_row": null,
       "grid_template_areas": null,
       "grid_template_columns": null,
       "grid_template_rows": null,
       "height": null,
       "justify_content": null,
       "justify_items": null,
       "left": null,
       "margin": null,
       "max_height": null,
       "max_width": null,
       "min_height": null,
       "min_width": null,
       "object_fit": null,
       "object_position": null,
       "order": null,
       "overflow": null,
       "overflow_x": null,
       "overflow_y": null,
       "padding": null,
       "right": null,
       "top": null,
       "visibility": null,
       "width": null
      }
     },
     "3040f9464575481a8aad645bea78f17a": {
      "model_module": "@jupyter-widgets/controls",
      "model_module_version": "1.5.0",
      "model_name": "FloatSliderModel",
      "state": {
       "_dom_classes": [],
       "_model_module": "@jupyter-widgets/controls",
       "_model_module_version": "1.5.0",
       "_model_name": "FloatSliderModel",
       "_view_count": null,
       "_view_module": "@jupyter-widgets/controls",
       "_view_module_version": "1.5.0",
       "_view_name": "FloatSliderView",
       "continuous_update": true,
       "description": "B",
       "description_tooltip": null,
       "disabled": false,
       "layout": "IPY_MODEL_6f3191b1d1d145f4800d71bb9b06d8f6",
       "max": 1.0,
       "min": 0.0,
       "orientation": "horizontal",
       "readout": true,
       "readout_format": ".2f",
       "step": 0.1,
       "style": "IPY_MODEL_60cfc2f40c6e471e9a9a23d60032ea96",
       "value": 0.0
      }
     },
     "315e7f2b97fa4687a22198280517fcd2": {
      "model_module": "@jupyter-widgets/controls",
      "model_module_version": "1.5.0",
      "model_name": "FloatSliderModel",
      "state": {
       "_dom_classes": [],
       "_model_module": "@jupyter-widgets/controls",
       "_model_module_version": "1.5.0",
       "_model_name": "FloatSliderModel",
       "_view_count": null,
       "_view_module": "@jupyter-widgets/controls",
       "_view_module_version": "1.5.0",
       "_view_name": "FloatSliderView",
       "continuous_update": true,
       "description": "B",
       "description_tooltip": null,
       "disabled": false,
       "layout": "IPY_MODEL_967f9f9401c740d6be391994351c178c",
       "max": 1.0,
       "min": 0.0,
       "orientation": "horizontal",
       "readout": true,
       "readout_format": ".2f",
       "step": 0.1,
       "style": "IPY_MODEL_54f3c80e5158426a892745adf4352d04",
       "value": 1.0
      }
     },
     "3a56d4927c74447b85c6eb1ffadc20f0": {
      "model_module": "@jupyter-widgets/controls",
      "model_module_version": "1.5.0",
      "model_name": "FloatSliderModel",
      "state": {
       "_dom_classes": [],
       "_model_module": "@jupyter-widgets/controls",
       "_model_module_version": "1.5.0",
       "_model_name": "FloatSliderModel",
       "_view_count": null,
       "_view_module": "@jupyter-widgets/controls",
       "_view_module_version": "1.5.0",
       "_view_name": "FloatSliderView",
       "continuous_update": true,
       "description": "G",
       "description_tooltip": null,
       "disabled": false,
       "layout": "IPY_MODEL_9730712845c246059d0bb854c2d59bac",
       "max": 1.0,
       "min": 0.0,
       "orientation": "horizontal",
       "readout": true,
       "readout_format": ".2f",
       "step": 0.1,
       "style": "IPY_MODEL_d6195ada16df4a0585f55ef19568c581",
       "value": 0.0
      }
     },
     "5006b1e3a7324d08aa8087157acb79f5": {
      "model_module": "@jupyter-widgets/controls",
      "model_module_version": "1.5.0",
      "model_name": "SliderStyleModel",
      "state": {
       "_model_module": "@jupyter-widgets/controls",
       "_model_module_version": "1.5.0",
       "_model_name": "SliderStyleModel",
       "_view_count": null,
       "_view_module": "@jupyter-widgets/base",
       "_view_module_version": "1.2.0",
       "_view_name": "StyleView",
       "description_width": "",
       "handle_color": null
      }
     },
     "534762e151354aa5bed7936c41b386f3": {
      "model_module": "@jupyter-widgets/base",
      "model_module_version": "1.2.0",
      "model_name": "LayoutModel",
      "state": {
       "_model_module": "@jupyter-widgets/base",
       "_model_module_version": "1.2.0",
       "_model_name": "LayoutModel",
       "_view_count": null,
       "_view_module": "@jupyter-widgets/base",
       "_view_module_version": "1.2.0",
       "_view_name": "LayoutView",
       "align_content": null,
       "align_items": null,
       "align_self": null,
       "border": null,
       "bottom": null,
       "display": null,
       "flex": null,
       "flex_flow": null,
       "grid_area": null,
       "grid_auto_columns": null,
       "grid_auto_flow": null,
       "grid_auto_rows": null,
       "grid_column": null,
       "grid_gap": null,
       "grid_row": null,
       "grid_template_areas": null,
       "grid_template_columns": null,
       "grid_template_rows": null,
       "height": null,
       "justify_content": null,
       "justify_items": null,
       "left": null,
       "margin": null,
       "max_height": null,
       "max_width": null,
       "min_height": null,
       "min_width": null,
       "object_fit": null,
       "object_position": null,
       "order": null,
       "overflow": null,
       "overflow_x": null,
       "overflow_y": null,
       "padding": null,
       "right": null,
       "top": null,
       "visibility": null,
       "width": null
      }
     },
     "54f3c80e5158426a892745adf4352d04": {
      "model_module": "@jupyter-widgets/controls",
      "model_module_version": "1.5.0",
      "model_name": "SliderStyleModel",
      "state": {
       "_model_module": "@jupyter-widgets/controls",
       "_model_module_version": "1.5.0",
       "_model_name": "SliderStyleModel",
       "_view_count": null,
       "_view_module": "@jupyter-widgets/base",
       "_view_module_version": "1.2.0",
       "_view_name": "StyleView",
       "description_width": "",
       "handle_color": null
      }
     },
     "60cfc2f40c6e471e9a9a23d60032ea96": {
      "model_module": "@jupyter-widgets/controls",
      "model_module_version": "1.5.0",
      "model_name": "SliderStyleModel",
      "state": {
       "_model_module": "@jupyter-widgets/controls",
       "_model_module_version": "1.5.0",
       "_model_name": "SliderStyleModel",
       "_view_count": null,
       "_view_module": "@jupyter-widgets/base",
       "_view_module_version": "1.2.0",
       "_view_name": "StyleView",
       "description_width": "",
       "handle_color": null
      }
     },
     "66e56f96b2d54b948307a970e17e9169": {
      "model_module": "@jupyter-widgets/controls",
      "model_module_version": "1.5.0",
      "model_name": "SliderStyleModel",
      "state": {
       "_model_module": "@jupyter-widgets/controls",
       "_model_module_version": "1.5.0",
       "_model_name": "SliderStyleModel",
       "_view_count": null,
       "_view_module": "@jupyter-widgets/base",
       "_view_module_version": "1.2.0",
       "_view_name": "StyleView",
       "description_width": "",
       "handle_color": null
      }
     },
     "6f3191b1d1d145f4800d71bb9b06d8f6": {
      "model_module": "@jupyter-widgets/base",
      "model_module_version": "1.2.0",
      "model_name": "LayoutModel",
      "state": {
       "_model_module": "@jupyter-widgets/base",
       "_model_module_version": "1.2.0",
       "_model_name": "LayoutModel",
       "_view_count": null,
       "_view_module": "@jupyter-widgets/base",
       "_view_module_version": "1.2.0",
       "_view_name": "LayoutView",
       "align_content": null,
       "align_items": null,
       "align_self": null,
       "border": null,
       "bottom": null,
       "display": null,
       "flex": null,
       "flex_flow": null,
       "grid_area": null,
       "grid_auto_columns": null,
       "grid_auto_flow": null,
       "grid_auto_rows": null,
       "grid_column": null,
       "grid_gap": null,
       "grid_row": null,
       "grid_template_areas": null,
       "grid_template_columns": null,
       "grid_template_rows": null,
       "height": null,
       "justify_content": null,
       "justify_items": null,
       "left": null,
       "margin": null,
       "max_height": null,
       "max_width": null,
       "min_height": null,
       "min_width": null,
       "object_fit": null,
       "object_position": null,
       "order": null,
       "overflow": null,
       "overflow_x": null,
       "overflow_y": null,
       "padding": null,
       "right": null,
       "top": null,
       "visibility": null,
       "width": null
      }
     },
     "701ebfbc58844ab3977cc6c467b15f12": {
      "model_module": "@jupyter-widgets/controls",
      "model_module_version": "1.5.0",
      "model_name": "VBoxModel",
      "state": {
       "_dom_classes": [
        "widget-interact"
       ],
       "_model_module": "@jupyter-widgets/controls",
       "_model_module_version": "1.5.0",
       "_model_name": "VBoxModel",
       "_view_count": null,
       "_view_module": "@jupyter-widgets/controls",
       "_view_module_version": "1.5.0",
       "_view_name": "VBoxView",
       "box_style": "",
       "children": [
        "IPY_MODEL_b9a2ba4269e746cd88f0f31484cab542",
        "IPY_MODEL_88c19caf0382470193eb2811bbde74ae",
        "IPY_MODEL_315e7f2b97fa4687a22198280517fcd2",
        "IPY_MODEL_d34027754c544634b3a43d17b7c74c5c"
       ],
       "layout": "IPY_MODEL_1ecdcd1d0c7b4552bb8bf51f0c9eb679"
      }
     },
     "71aaee29526447029aef71538cb4bc81": {
      "model_module": "@jupyter-widgets/controls",
      "model_module_version": "1.5.0",
      "model_name": "FloatSliderModel",
      "state": {
       "_dom_classes": [],
       "_model_module": "@jupyter-widgets/controls",
       "_model_module_version": "1.5.0",
       "_model_name": "FloatSliderModel",
       "_view_count": null,
       "_view_module": "@jupyter-widgets/controls",
       "_view_module_version": "1.5.0",
       "_view_name": "FloatSliderView",
       "continuous_update": true,
       "description": "R",
       "description_tooltip": null,
       "disabled": false,
       "layout": "IPY_MODEL_76e53a8b987c4a02b60e9c364fb596b6",
       "max": 1.0,
       "min": 0.0,
       "orientation": "horizontal",
       "readout": true,
       "readout_format": ".2f",
       "step": 0.1,
       "style": "IPY_MODEL_5006b1e3a7324d08aa8087157acb79f5",
       "value": 1.0
      }
     },
     "76e53a8b987c4a02b60e9c364fb596b6": {
      "model_module": "@jupyter-widgets/base",
      "model_module_version": "1.2.0",
      "model_name": "LayoutModel",
      "state": {
       "_model_module": "@jupyter-widgets/base",
       "_model_module_version": "1.2.0",
       "_model_name": "LayoutModel",
       "_view_count": null,
       "_view_module": "@jupyter-widgets/base",
       "_view_module_version": "1.2.0",
       "_view_name": "LayoutView",
       "align_content": null,
       "align_items": null,
       "align_self": null,
       "border": null,
       "bottom": null,
       "display": null,
       "flex": null,
       "flex_flow": null,
       "grid_area": null,
       "grid_auto_columns": null,
       "grid_auto_flow": null,
       "grid_auto_rows": null,
       "grid_column": null,
       "grid_gap": null,
       "grid_row": null,
       "grid_template_areas": null,
       "grid_template_columns": null,
       "grid_template_rows": null,
       "height": null,
       "justify_content": null,
       "justify_items": null,
       "left": null,
       "margin": null,
       "max_height": null,
       "max_width": null,
       "min_height": null,
       "min_width": null,
       "object_fit": null,
       "object_position": null,
       "order": null,
       "overflow": null,
       "overflow_x": null,
       "overflow_y": null,
       "padding": null,
       "right": null,
       "top": null,
       "visibility": null,
       "width": null
      }
     },
     "88c19caf0382470193eb2811bbde74ae": {
      "model_module": "@jupyter-widgets/controls",
      "model_module_version": "1.5.0",
      "model_name": "FloatSliderModel",
      "state": {
       "_dom_classes": [],
       "_model_module": "@jupyter-widgets/controls",
       "_model_module_version": "1.5.0",
       "_model_name": "FloatSliderModel",
       "_view_count": null,
       "_view_module": "@jupyter-widgets/controls",
       "_view_module_version": "1.5.0",
       "_view_name": "FloatSliderView",
       "continuous_update": true,
       "description": "G",
       "description_tooltip": null,
       "disabled": false,
       "layout": "IPY_MODEL_0b6fa2ebf0e443698eb0e8cb6f287317",
       "max": 1.0,
       "min": 0.0,
       "orientation": "horizontal",
       "readout": true,
       "readout_format": ".2f",
       "step": 0.1,
       "style": "IPY_MODEL_f6134bb478ea499fae70f25a8bba488a",
       "value": 1.0
      }
     },
     "967f9f9401c740d6be391994351c178c": {
      "model_module": "@jupyter-widgets/base",
      "model_module_version": "1.2.0",
      "model_name": "LayoutModel",
      "state": {
       "_model_module": "@jupyter-widgets/base",
       "_model_module_version": "1.2.0",
       "_model_name": "LayoutModel",
       "_view_count": null,
       "_view_module": "@jupyter-widgets/base",
       "_view_module_version": "1.2.0",
       "_view_name": "LayoutView",
       "align_content": null,
       "align_items": null,
       "align_self": null,
       "border": null,
       "bottom": null,
       "display": null,
       "flex": null,
       "flex_flow": null,
       "grid_area": null,
       "grid_auto_columns": null,
       "grid_auto_flow": null,
       "grid_auto_rows": null,
       "grid_column": null,
       "grid_gap": null,
       "grid_row": null,
       "grid_template_areas": null,
       "grid_template_columns": null,
       "grid_template_rows": null,
       "height": null,
       "justify_content": null,
       "justify_items": null,
       "left": null,
       "margin": null,
       "max_height": null,
       "max_width": null,
       "min_height": null,
       "min_width": null,
       "object_fit": null,
       "object_position": null,
       "order": null,
       "overflow": null,
       "overflow_x": null,
       "overflow_y": null,
       "padding": null,
       "right": null,
       "top": null,
       "visibility": null,
       "width": null
      }
     },
     "9730712845c246059d0bb854c2d59bac": {
      "model_module": "@jupyter-widgets/base",
      "model_module_version": "1.2.0",
      "model_name": "LayoutModel",
      "state": {
       "_model_module": "@jupyter-widgets/base",
       "_model_module_version": "1.2.0",
       "_model_name": "LayoutModel",
       "_view_count": null,
       "_view_module": "@jupyter-widgets/base",
       "_view_module_version": "1.2.0",
       "_view_name": "LayoutView",
       "align_content": null,
       "align_items": null,
       "align_self": null,
       "border": null,
       "bottom": null,
       "display": null,
       "flex": null,
       "flex_flow": null,
       "grid_area": null,
       "grid_auto_columns": null,
       "grid_auto_flow": null,
       "grid_auto_rows": null,
       "grid_column": null,
       "grid_gap": null,
       "grid_row": null,
       "grid_template_areas": null,
       "grid_template_columns": null,
       "grid_template_rows": null,
       "height": null,
       "justify_content": null,
       "justify_items": null,
       "left": null,
       "margin": null,
       "max_height": null,
       "max_width": null,
       "min_height": null,
       "min_width": null,
       "object_fit": null,
       "object_position": null,
       "order": null,
       "overflow": null,
       "overflow_x": null,
       "overflow_y": null,
       "padding": null,
       "right": null,
       "top": null,
       "visibility": null,
       "width": null
      }
     },
     "b9a2ba4269e746cd88f0f31484cab542": {
      "model_module": "@jupyter-widgets/controls",
      "model_module_version": "1.5.0",
      "model_name": "FloatSliderModel",
      "state": {
       "_dom_classes": [],
       "_model_module": "@jupyter-widgets/controls",
       "_model_module_version": "1.5.0",
       "_model_name": "FloatSliderModel",
       "_view_count": null,
       "_view_module": "@jupyter-widgets/controls",
       "_view_module_version": "1.5.0",
       "_view_name": "FloatSliderView",
       "continuous_update": true,
       "description": "R",
       "description_tooltip": null,
       "disabled": false,
       "layout": "IPY_MODEL_534762e151354aa5bed7936c41b386f3",
       "max": 1.0,
       "min": 0.0,
       "orientation": "horizontal",
       "readout": true,
       "readout_format": ".2f",
       "step": 0.1,
       "style": "IPY_MODEL_66e56f96b2d54b948307a970e17e9169",
       "value": 1.0
      }
     },
     "c14869a106f4409781513d3e824938ab": {
      "model_module": "@jupyter-widgets/base",
      "model_module_version": "1.2.0",
      "model_name": "LayoutModel",
      "state": {
       "_model_module": "@jupyter-widgets/base",
       "_model_module_version": "1.2.0",
       "_model_name": "LayoutModel",
       "_view_count": null,
       "_view_module": "@jupyter-widgets/base",
       "_view_module_version": "1.2.0",
       "_view_name": "LayoutView",
       "align_content": null,
       "align_items": null,
       "align_self": null,
       "border": null,
       "bottom": null,
       "display": null,
       "flex": null,
       "flex_flow": null,
       "grid_area": null,
       "grid_auto_columns": null,
       "grid_auto_flow": null,
       "grid_auto_rows": null,
       "grid_column": null,
       "grid_gap": null,
       "grid_row": null,
       "grid_template_areas": null,
       "grid_template_columns": null,
       "grid_template_rows": null,
       "height": null,
       "justify_content": null,
       "justify_items": null,
       "left": null,
       "margin": null,
       "max_height": null,
       "max_width": null,
       "min_height": null,
       "min_width": null,
       "object_fit": null,
       "object_position": null,
       "order": null,
       "overflow": null,
       "overflow_x": null,
       "overflow_y": null,
       "padding": null,
       "right": null,
       "top": null,
       "visibility": null,
       "width": null
      }
     },
     "d34027754c544634b3a43d17b7c74c5c": {
      "model_module": "@jupyter-widgets/output",
      "model_module_version": "1.0.0",
      "model_name": "OutputModel",
      "state": {
       "_dom_classes": [],
       "_model_module": "@jupyter-widgets/output",
       "_model_module_version": "1.0.0",
       "_model_name": "OutputModel",
       "_view_count": null,
       "_view_module": "@jupyter-widgets/output",
       "_view_module_version": "1.0.0",
       "_view_name": "OutputView",
       "layout": "IPY_MODEL_c14869a106f4409781513d3e824938ab",
       "msg_id": "",
       "outputs": [
        {
         "data": {
          "image/png": "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\n",
          "text/plain": "<Figure size 432x288 with 2 Axes>"
         },
         "metadata": {
          "needs_background": "light"
         },
         "output_type": "display_data"
        }
       ]
      }
     },
     "d6195ada16df4a0585f55ef19568c581": {
      "model_module": "@jupyter-widgets/controls",
      "model_module_version": "1.5.0",
      "model_name": "SliderStyleModel",
      "state": {
       "_model_module": "@jupyter-widgets/controls",
       "_model_module_version": "1.5.0",
       "_model_name": "SliderStyleModel",
       "_view_count": null,
       "_view_module": "@jupyter-widgets/base",
       "_view_module_version": "1.2.0",
       "_view_name": "StyleView",
       "description_width": "",
       "handle_color": null
      }
     },
     "e59cce03de2a40e194e6d7b2e6648fc0": {
      "model_module": "@jupyter-widgets/output",
      "model_module_version": "1.0.0",
      "model_name": "OutputModel",
      "state": {
       "_dom_classes": [],
       "_model_module": "@jupyter-widgets/output",
       "_model_module_version": "1.0.0",
       "_model_name": "OutputModel",
       "_view_count": null,
       "_view_module": "@jupyter-widgets/output",
       "_view_module_version": "1.0.0",
       "_view_name": "OutputView",
       "layout": "IPY_MODEL_1b6f541e89b6438eb89684b1e94631f7",
       "msg_id": "",
       "outputs": [
        {
         "data": {
          "image/png": "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\n",
          "text/plain": "<Figure size 432x288 with 2 Axes>"
         },
         "metadata": {
          "needs_background": "light"
         },
         "output_type": "display_data"
        }
       ]
      }
     },
     "f398738558444a1ea7c8183b3d5027d9": {
      "model_module": "@jupyter-widgets/base",
      "model_module_version": "1.2.0",
      "model_name": "LayoutModel",
      "state": {
       "_model_module": "@jupyter-widgets/base",
       "_model_module_version": "1.2.0",
       "_model_name": "LayoutModel",
       "_view_count": null,
       "_view_module": "@jupyter-widgets/base",
       "_view_module_version": "1.2.0",
       "_view_name": "LayoutView",
       "align_content": null,
       "align_items": null,
       "align_self": null,
       "border": null,
       "bottom": null,
       "display": null,
       "flex": null,
       "flex_flow": null,
       "grid_area": null,
       "grid_auto_columns": null,
       "grid_auto_flow": null,
       "grid_auto_rows": null,
       "grid_column": null,
       "grid_gap": null,
       "grid_row": null,
       "grid_template_areas": null,
       "grid_template_columns": null,
       "grid_template_rows": null,
       "height": null,
       "justify_content": null,
       "justify_items": null,
       "left": null,
       "margin": null,
       "max_height": null,
       "max_width": null,
       "min_height": null,
       "min_width": null,
       "object_fit": null,
       "object_position": null,
       "order": null,
       "overflow": null,
       "overflow_x": null,
       "overflow_y": null,
       "padding": null,
       "right": null,
       "top": null,
       "visibility": null,
       "width": null
      }
     },
     "f6134bb478ea499fae70f25a8bba488a": {
      "model_module": "@jupyter-widgets/controls",
      "model_module_version": "1.5.0",
      "model_name": "SliderStyleModel",
      "state": {
       "_model_module": "@jupyter-widgets/controls",
       "_model_module_version": "1.5.0",
       "_model_name": "SliderStyleModel",
       "_view_count": null,
       "_view_module": "@jupyter-widgets/base",
       "_view_module_version": "1.2.0",
       "_view_name": "StyleView",
       "description_width": "",
       "handle_color": null
      }
     },
     "fc96627994c84375bc1d75f0f14037ab": {
      "model_module": "@jupyter-widgets/controls",
      "model_module_version": "1.5.0",
      "model_name": "VBoxModel",
      "state": {
       "_dom_classes": [
        "widget-interact"
       ],
       "_model_module": "@jupyter-widgets/controls",
       "_model_module_version": "1.5.0",
       "_model_name": "VBoxModel",
       "_view_count": null,
       "_view_module": "@jupyter-widgets/controls",
       "_view_module_version": "1.5.0",
       "_view_name": "VBoxView",
       "box_style": "",
       "children": [
        "IPY_MODEL_71aaee29526447029aef71538cb4bc81",
        "IPY_MODEL_3a56d4927c74447b85c6eb1ffadc20f0",
        "IPY_MODEL_3040f9464575481a8aad645bea78f17a",
        "IPY_MODEL_e59cce03de2a40e194e6d7b2e6648fc0"
       ],
       "layout": "IPY_MODEL_f398738558444a1ea7c8183b3d5027d9"
      }
     }
    },
    "version_major": 2,
    "version_minor": 0
   }
  }
 },
 "nbformat": 4,
 "nbformat_minor": 5
}