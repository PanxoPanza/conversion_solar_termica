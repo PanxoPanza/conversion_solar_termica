{
 "cells": [
  {
   "cell_type": "code",
   "execution_count": 1,
   "id": "3c597da7",
   "metadata": {
    "slideshow": {
     "slide_type": "skip"
    },
    "tags": [
     "remove-cell"
    ]
   },
   "outputs": [],
   "source": [
    "import importlib.util\n",
    "if importlib.util.find_spec('empylib') is None:\n",
    "    !pip install git+https://github.com/PanxoPanza/empylib.git"
   ]
  },
  {
   "cell_type": "markdown",
   "id": "062b856b",
   "metadata": {
    "slideshow": {
     "slide_type": "slide"
    }
   },
   "source": [
    "# Teoria del color"
   ]
  },
  {
   "cell_type": "markdown",
   "id": "f9292ad4",
   "metadata": {
    "slideshow": {
     "slide_type": "slide"
    }
   },
   "source": [
    "## Introducción"
   ]
  },
  {
   "cell_type": "markdown",
   "id": "eb98c9d6",
   "metadata": {
    "slideshow": {
     "slide_type": "fragment"
    }
   },
   "source": [
    "Para nuestros ojos, una fuente de luz tiene coloración blanca cuando la intensidad de cada frecuencia del espectro visible es, aproximadamente, constante."
   ]
  },
  {
   "cell_type": "markdown",
   "id": "09b3f12d",
   "metadata": {
    "slideshow": {
     "slide_type": "fragment"
    }
   },
   "source": [
    "El mejor ejemplo es el sol.\n",
    "<img src=\"./images/solar_spectrum.jpg\" width=\"500px\" align= center>"
   ]
  },
  {
   "cell_type": "markdown",
   "id": "89e05492",
   "metadata": {
    "slideshow": {
     "slide_type": "slide"
    }
   },
   "source": [
    "## Espacio de colores CIE RGB"
   ]
  },
  {
   "cell_type": "markdown",
   "id": "dd70b192",
   "metadata": {
    "slideshow": {
     "slide_type": "fragment"
    }
   },
   "source": [
    "Los colores aparecen cuando el espectro de la fuente no está ditribuido de forma uniforme. Nuestros ojos, encargados de intrepretar este espectro como color, poseen *células fotoreceptoras o conos celulares* sensibles a los colores: <font color='red'>rojo (R)</font>, <font color='green'>verde (G)</font> y <font color='blue'>azul (B)</font>"
   ]
  },
  {
   "cell_type": "markdown",
   "id": "97e95fb9",
   "metadata": {
    "slideshow": {
     "slide_type": "fragment"
    }
   },
   "source": [
    "Matemáticamente, existen diversas formas de transformar un espectro, $I_\\mathrm{spec}(\\lambda)$, a **código de colores RGB**. En este curso, usamos el módulo `ref_spectra.color_system` de la librería `empylib`, el cual está basado en [Comisión internacional de la iluminación (CIE)](https://es.wikipedia.org/wiki/Espacio_de_color_CIE_1931)"
   ]
  },
  {
   "cell_type": "markdown",
   "id": "dba0bbd8",
   "metadata": {
    "slideshow": {
     "slide_type": "fragment"
    }
   },
   "source": [
    "En términos simples, el procedimiento consiste en determinar los **valores triestímulo $X$, $Y$ y $Z$** a partir de las **funciones de combinación de colores $\\bar{x}(\\lambda)$, $\\bar{y}(\\lambda)$ y $\\bar{z}(\\lambda)$,** que representan la precepción visual humana de forma numérica:\n",
    "\n",
    "\\begin{equation*}\n",
    "X = \\int_{0}^\\infty I_\\mathrm{spec}(\\lambda)\\bar{x}(\\lambda) d\\lambda,\\quad\\quad\n",
    "Y = \\int_{0}^\\infty I_\\mathrm{spec}(\\lambda)\\bar{y}(\\lambda) d\\lambda,\\quad\\quad\n",
    "Z = \\int_{0}^\\infty I_\\mathrm{spec}(\\lambda)\\bar{z}(\\lambda) d\\lambda,\n",
    "\\end{equation*}"
   ]
  },
  {
   "cell_type": "markdown",
   "id": "e45cb938",
   "metadata": {
    "slideshow": {
     "slide_type": "slide"
    }
   },
   "source": [
    "Analicemos el comportamiento de las funciones de combinación de colores."
   ]
  },
  {
   "cell_type": "code",
   "execution_count": 2,
   "id": "d10b5c36",
   "metadata": {
    "cell_style": "center",
    "tags": [
     "hide-input"
    ]
   },
   "outputs": [
    {
     "data": {
      "image/png": "[encoded data removed]",
      "text/plain": [
       "<Figure size 600x400 with 1 Axes>"
      ]
     },
     "metadata": {},
     "output_type": "display_data"
    }
   ],
   "source": [
    "import matplotlib.pyplot as plt\n",
    "\n",
    "# librería para transformación de espectro a código RGB\n",
    "from empylib.ref_spectra import color_system as cs\n",
    "cs = cs.srgb\n",
    "\n",
    "# formateamos el lienzo de la figura\n",
    "fig, ax = plt.subplots()\n",
    "fig.set_size_inches(6, 4)\n",
    "plt.rcParams['font.size'] = '14'\n",
    "\n",
    "# Graficamos cada curva del estandar CIE XYZ\n",
    "plt.fill(cs.lam_cmf,cs.cmf[:,0],color='red'  ,alpha=0.5,edgecolor=None,label='$\\overline{x}~(\\lambda)$')\n",
    "plt.fill(cs.lam_cmf,cs.cmf[:,1],color='green',alpha=0.5,edgecolor=None,label='$\\overline{y}~(\\lambda)$')\n",
    "plt.fill(cs.lam_cmf,cs.cmf[:,2],color='blue' ,alpha=0.5,edgecolor=None,label='$\\overline{z}~(\\lambda)$')\n",
    "\n",
    "# Ajustamos formato de ejes\n",
    "plt.ylim(0,2)\n",
    "plt.tick_params(left = False,labelleft = False)\n",
    "plt.xlabel('Longitud de onda ($\\mu$m)')\n",
    "plt.legend();"
   ]
  },
  {
   "cell_type": "markdown",
   "id": "411f3a24",
   "metadata": {
    "slideshow": {
     "slide_type": "slide"
    }
   },
   "source": [
    "Posterior a esto, el código de colores $\\mathrm{RGB}$ se determina a partir del sistema:\n",
    "\n",
    "\\begin{equation*}\n",
    "\\begin{bmatrix}\n",
    "0.187 & 0.063 & 0.064 \\\\\n",
    "0.092 & 0.212 & 0.025 \\\\\n",
    "0     & 0.024 & 0.334 \\\\\n",
    "\\end{bmatrix}\\left[\\begin{array}{c} \\mathrm{R} \\\\\\mathrm{G} \\\\\\mathrm{B} \\end{array}\\right] =\n",
    "\\left[\\begin{array}{c} x \\\\y \\\\z\\end{array}\\right]\n",
    "\\end{equation*}"
   ]
  },
  {
   "cell_type": "markdown",
   "id": "df1ee659",
   "metadata": {
    "slideshow": {
     "slide_type": "fragment"
    }
   },
   "source": [
    "donde $xyz$ están dados por:\n",
    "\n",
    "\\begin{equation*}\n",
    "x = \\frac{X}{X+Y+Z},\\quad\\quad\\quad y = \\frac{Y}{X+Y+Z},\\quad\\quad\\quad z = \\frac{Z}{X+Y+Z},\n",
    "\\end{equation*}"
   ]
  },
  {
   "cell_type": "markdown",
   "id": "f5c25230",
   "metadata": {
    "slideshow": {
     "slide_type": "slide"
    }
   },
   "source": [
    "## Modelos de colores\n"
   ]
  },
  {
   "cell_type": "markdown",
   "id": "c95eb815",
   "metadata": {
    "slideshow": {
     "slide_type": "fragment"
    }
   },
   "source": [
    "### Coloración aditiva\n",
    "Es un modelo que explica la obtención de un color a partir de la suma de los componentes primarios, comúnmente, rojo, verde y azul. La coloración aditiva es el método utilizado en monitores electrónicos, como LCD, LED, oLED, etc."
   ]
  },
  {
   "cell_type": "markdown",
   "id": "a31b72fe",
   "metadata": {
    "slideshow": {
     "slide_type": "fragment"
    }
   },
   "source": [
    "<img src=\"./images/additive_colors.jpg\" width=\"700px\" align= center>"
   ]
  },
  {
   "cell_type": "markdown",
   "id": "e59ea155",
   "metadata": {
    "slideshow": {
     "slide_type": "slide"
    }
   },
   "source": [
    "Analicemos el siguiente modelo de colores aditivos."
   ]
  },
  {
   "cell_type": "code",
   "execution_count": 3,
   "id": "fae750d9",
   "metadata": {
    "cell_style": "split",
    "slideshow": {
     "slide_type": "fragment"
    },
    "tags": [
     "hide-input"
    ]
   },
   "outputs": [],
   "source": [
    "# importamos librerías necesarias\n",
    "import empylib as em\n",
    "import empylib.nklib as nk\n",
    "import empylib.ref_spectra as rf\n",
    "import empylib.waveoptics as wv\n",
    "import matplotlib.pyplot as plt\n",
    "import numpy as np\n",
    "\n",
    "def plot_additive_color(R,G,B):\n",
    "    # lienzo para la figura\n",
    "    fig, ax = plt.subplots()          \n",
    "    fig.set_size_inches(6, 4)         # Tamaño del gráfico\n",
    "    plt.rcParams['font.size'] = '14'  # tamaño de  fuente\n",
    "\n",
    "    # Espectro de longitudes de onda entre 300 y 800 nm\n",
    "    lam = np.linspace(0.3,0.8,500)\n",
    "\n",
    "    # Generamos un material con emisividad en rojo, verde y azul\n",
    "    wn = em.convert_units(np.array([450, 520, 630]),'nm','eV')\n",
    "    wp = [B*0.02,G*0.02,R*0.02]  # Frecuencia wp (eV)\n",
    "    T  = 0.05    # Taza de decaimiento (eV)\n",
    "\n",
    "    eps_mat = complex(1,0)\n",
    "    for i in range(len(wn)):\n",
    "        # constante dieléctrica según modelo de Lorentz\n",
    "        eps_mat = eps_mat + (nk.lorentz(0,wp[i],wn[i],T,lam))**2\n",
    "\n",
    "    N_mat = np.sqrt(eps_mat)\n",
    "\n",
    "    Rw, Tw = wv.incoh_multilayer(lam,0, (1.0,N_mat,1.0), 200)\n",
    "    Ew = 1 - Rw - Tw;\n",
    "\n",
    "    # Graficamos el espectro de emisión\n",
    "    ax.plot(lam*1E3,Ew*100)\n",
    "    ax.set_ylabel('Emisividad (%)')\n",
    "    ax.set_xlabel('Longitud de onda ($\\mu$m)')\n",
    "    ax.set_ylim(0,100)\n",
    "\n",
    "    # interpretacion de colores\n",
    "    Dcircle = 0.30\n",
    "    ax2 = fig.add_axes([0.63,0.55, Dcircle, Dcircle])\n",
    "    html_rgb = cs.spec_to_rgb(Ew*rf.AM15(lam),lam, out_fmt='html')\n",
    "    Circle = plt.Circle((0, 0), Dcircle, color=html_rgb)\n",
    "    ax2.add_patch(Circle)\n",
    "    ax2.set_aspect('equal')\n",
    "    ax2.set_xlim(-Dcircle*1.2,Dcircle*1.2)\n",
    "    ax2.set_ylim(-Dcircle*1.2,Dcircle*1.2)\n",
    "    ax2.set_xticks([])\n",
    "    ax2.set_yticks([])\n",
    "    ax2.set_facecolor('k');"
   ]
  },
  {
   "cell_type": "code",
   "execution_count": 4,
   "id": "9c8baf14",
   "metadata": {
    "cell_style": "split",
    "tags": [
     "hide-input"
    ]
   },
   "outputs": [
    {
     "data": {
      "application/vnd.jupyter.widget-view+json": {
       "model_id": "c4bb491244f4489392a0e967c076645b",
       "version_major": 2,
       "version_minor": 0
      },
      "text/plain": [
       "interactive(children=(FloatSlider(value=1.0, description='R', max=1.0), FloatSlider(value=1.0, description='G'…"
      ]
     },
     "metadata": {},
     "output_type": "display_data"
    }
   ],
   "source": [
    "from ipywidgets import interact\n",
    "\n",
    "@interact(R=(0,1,0.1), G=(0,1,0.1), B=(0,1,0.1))\n",
    "def g(R = 1, G = 1, B = 1):\n",
    "    return plot_additive_color(R,G,B)"
   ]
  },
  {
   "cell_type": "markdown",
   "id": "ef5c2184",
   "metadata": {
    "slideshow": {
     "slide_type": "slide"
    }
   },
   "source": [
    "### Coloración sustractiva\n",
    "Se basa en la formación de colores a partir de la sustracción de colores primarios. Comúnmente, se utilizan los colores amarillo, cian y magenta."
   ]
  },
  {
   "cell_type": "markdown",
   "id": "bfe5809a",
   "metadata": {
    "slideshow": {
     "slide_type": "fragment"
    }
   },
   "source": [
    "El modelo, explica la coloración de muchas frutas, verduras y plantas. Además, es la técnica utilizada en impresión a color, fotografía y cinematografía.\n",
    "\n",
    "<img src=\"./images/substractive_colors.png\" width=\"700px\" align= center>"
   ]
  },
  {
   "cell_type": "markdown",
   "id": "01e2ccda",
   "metadata": {
    "slideshow": {
     "slide_type": "slide"
    }
   },
   "source": [
    "El siguiente modelo explica el concepto de coloración sustractiva"
   ]
  },
  {
   "cell_type": "code",
   "execution_count": 5,
   "id": "e19abd25",
   "metadata": {
    "cell_style": "split",
    "slideshow": {
     "slide_type": "fragment"
    },
    "tags": [
     "hide-input"
    ]
   },
   "outputs": [],
   "source": [
    "# importamos librerías necesarias\n",
    "import empylib as em\n",
    "import empylib.nklib as nk\n",
    "import empylib.ref_spectra as rf\n",
    "import empylib.waveoptics as wv\n",
    "import matplotlib.pyplot as plt\n",
    "import numpy as np\n",
    "\n",
    "def plot_substractive_color(R,G,B):\n",
    "    # lienzo para la figura\n",
    "    fig, ax = plt.subplots()          \n",
    "    fig.set_size_inches(6, 4)         # Tamaño del gráfico\n",
    "    plt.rcParams['font.size'] = '14'  # tamaño de  fuente\n",
    "\n",
    "    # Espectro de longitudes de onda entre 300 y 800 nm\n",
    "    lam = np.linspace(0.3,0.8,100)\n",
    "\n",
    "    # Generamos un material con emisividad en rojo, verde y azul\n",
    "    wn = em.convert_units(np.array([450, 520, 630]),'nm','eV')\n",
    "    wp = [B*0.02,G*0.02,R*0.02]  # Frecuencia wp (eV)\n",
    "    T  = 0.05                    # Tasa de decaimiento (eV)\n",
    "    \n",
    "    eps_mat = complex(1,0)\n",
    "    for i in range(len(wn)):\n",
    "        # constante dieléctrica según modelo de Lorentz\n",
    "        eps_mat = eps_mat + (nk.lorentz(0,wp[i],wn[i],T,lam))**2\n",
    "\n",
    "    N_mat = np.sqrt(eps_mat)\n",
    "\n",
    "    Rw, Tw = wv.incoh_multilayer(lam,0, (1.0,N_mat,1.0), 200)\n",
    "    Ew = 1 - Rw - Tw\n",
    "    Rw = (1 - Ew)\n",
    "\n",
    "    # Graficamos el espectro de emisión\n",
    "    ax.plot(lam*1E3,(1 - Ew)*100)\n",
    "    ax.set_ylabel('Reflectancia (%)')\n",
    "    ax.set_xlabel('Longitud de onda ($\\mu$m)')\n",
    "    ax.set_ylim(0,100)\n",
    "\n",
    "    # interpretacion de colores\n",
    "    Dcircle = 0.30\n",
    "    ax2 = fig.add_axes([0.63,0.55, Dcircle, Dcircle])\n",
    "    html_rgb = cs.spec_to_rgb(Rw*rf.AM15(lam),lam, out_fmt='html')\n",
    "    Circle = plt.Circle((0, 0), Dcircle, color=html_rgb)\n",
    "    ax2.add_patch(Circle)\n",
    "    ax2.set_aspect('equal')\n",
    "    ax2.set_xlim(-Dcircle*1.2,Dcircle*1.2)\n",
    "    ax2.set_ylim(-Dcircle*1.2,Dcircle*1.2)\n",
    "    ax2.set_xticks([])\n",
    "    ax2.set_yticks([])\n",
    "    ax2.set_facecolor('k');\n",
    "    \n",
    "    plt.show()"
   ]
  },
  {
   "cell_type": "code",
   "execution_count": 6,
   "id": "cea13ba8",
   "metadata": {
    "cell_style": "split",
    "scrolled": true,
    "tags": [
     "hide-input"
    ]
   },
   "outputs": [
    {
     "data": {
      "application/vnd.jupyter.widget-view+json": {
       "model_id": "a5a6468130404c14bce4f6711302ec2e",
       "version_major": 2,
       "version_minor": 0
      },
      "text/plain": [
       "interactive(children=(FloatSlider(value=1.0, description='R', max=1.0), FloatSlider(value=0.0, description='G'…"
      ]
     },
     "metadata": {},
     "output_type": "display_data"
    }
   ],
   "source": [
    "from ipywidgets import interact\n",
    "\n",
    "@interact(R=(0,1,0.1), G=(0,1,0.1), B=(0,1,0.1))\n",
    "def g(R = 1, G = 0, B = 0):\n",
    "    return plot_substractive_color(R,G,B)"
   ]
  },
  {
   "cell_type": "markdown",
   "id": "17c1dc23",
   "metadata": {
    "slideshow": {
     "slide_type": "slide"
    }
   },
   "source": [
    "## Referencias\n",
    "**Hetch E., *Óptica*, 5ta Ed, Pearson, 2017**\n",
    "- Capítulo 4.9: Aspectos conocidos de la interacción de la luz y la materia"
   ]
  }
 ],
 "metadata": {
  "celltoolbar": "Slideshow",
  "kernelspec": {
   "display_name": "Python 3 (ipykernel)",
   "language": "python",
   "name": "python3"
  },
  "language_info": {
   "codemirror_mode": {
    "name": "ipython",
    "version": 3
   },
   "file_extension": ".py",
   "mimetype": "text/x-python",
   "name": "python",
   "nbconvert_exporter": "python",
   "pygments_lexer": "ipython3",
   "version": "3.11.6"
  },
  "latex_envs": {
   "LaTeX_envs_menu_present": true,
   "autoclose": false,
   "autocomplete": false,
   "bibliofile": "biblio.bib",
   "cite_by": "apalike",
   "current_citInitial": 1,
   "eqLabelWithNumbers": true,
   "eqNumInitial": 1,
   "hotkeys": {
    "equation": "Ctrl-E",
    "itemize": "Ctrl-I"
   },
   "labels_anchors": false,
   "latex_user_defs": false,
   "report_style_numbering": false,
   "user_envs_cfg": true
  },
  "toc": {
   "base_numbering": 1,
   "nav_menu": {},
   "number_sections": true,
   "sideBar": true,
   "skip_h1_title": true,
   "title_cell": "Tabla de contenidos",
   "title_sidebar": "Contenidos",
   "toc_cell": false,
   "toc_position": {
    "height": "calc(100% - 180px)",
    "left": "10px",
    "top": "150px",
    "width": "307.2px"
   },
   "toc_section_display": true,
   "toc_window_display": false
  },
  "varInspector": {
   "cols": {
    "lenName": 16,
    "lenType": 16,
    "lenVar": 40
   },
   "kernels_config": {
    "python": {
     "delete_cmd_postfix": "",
     "delete_cmd_prefix": "del ",
     "library": "var_list.py",
     "varRefreshCmd": "print(var_dic_list())"
    },
    "r": {
     "delete_cmd_postfix": ") ",
     "delete_cmd_prefix": "rm(",
     "library": "var_list.r",
     "varRefreshCmd": "cat(var_dic_list()) "
    }
   },
   "types_to_exclude": [
    "module",
    "function",
    "builtin_function_or_method",
    "instance",
    "_Feature"
   ],
   "window_display": false
  },
  "widgets": {
   "application/vnd.jupyter.widget-state+json": {
    "state": {
     "006f0594e9b1458683663d5331ebdf5d": {
      "model_module": "@jupyter-widgets/controls",
      "model_module_version": "2.0.0",
      "model_name": "SliderStyleModel",
      "state": {
       "_model_module": "@jupyter-widgets/controls",
       "_model_module_version": "2.0.0",
       "_model_name": "SliderStyleModel",
       "_view_count": null,
       "_view_module": "@jupyter-widgets/base",
       "_view_module_version": "2.0.0",
       "_view_name": "StyleView",
       "description_width": "",
       "handle_color": null
      }
     },
     "0b2d088ff88c4a4ba273e8b426863286": {
      "model_module": "@jupyter-widgets/controls",
      "model_module_version": "2.0.0",
      "model_name": "FloatSliderModel",
      "state": {
       "_dom_classes": [],
       "_model_module": "@jupyter-widgets/controls",
       "_model_module_version": "2.0.0",
       "_model_name": "FloatSliderModel",
       "_view_count": null,
       "_view_module": "@jupyter-widgets/controls",
       "_view_module_version": "2.0.0",
       "_view_name": "FloatSliderView",
       "behavior": "drag-tap",
       "continuous_update": true,
       "description": "G",
       "description_allow_html": false,
       "disabled": false,
       "layout": "IPY_MODEL_1993043a64c6431d849e5a892b0ab950",
       "max": 1.0,
       "min": 0.0,
       "orientation": "horizontal",
       "readout": true,
       "readout_format": ".2f",
       "step": 0.1,
       "style": "IPY_MODEL_98c0f803866843189c5330206cc5d2dd",
       "tabbable": null,
       "tooltip": null,
       "value": 1.0
      }
     },
     "1993043a64c6431d849e5a892b0ab950": {
      "model_module": "@jupyter-widgets/base",
      "model_module_version": "2.0.0",
      "model_name": "LayoutModel",
      "state": {
       "_model_module": "@jupyter-widgets/base",
       "_model_module_version": "2.0.0",
       "_model_name": "LayoutModel",
       "_view_count": null,
       "_view_module": "@jupyter-widgets/base",
       "_view_module_version": "2.0.0",
       "_view_name": "LayoutView",
       "align_content": null,
       "align_items": null,
       "align_self": null,
       "border_bottom": null,
       "border_left": null,
       "border_right": null,
       "border_top": null,
       "bottom": null,
       "display": null,
       "flex": null,
       "flex_flow": null,
       "grid_area": null,
       "grid_auto_columns": null,
       "grid_auto_flow": null,
       "grid_auto_rows": null,
       "grid_column": null,
       "grid_gap": null,
       "grid_row": null,
       "grid_template_areas": null,
       "grid_template_columns": null,
       "grid_template_rows": null,
       "height": null,
       "justify_content": null,
       "justify_items": null,
       "left": null,
       "margin": null,
       "max_height": null,
       "max_width": null,
       "min_height": null,
       "min_width": null,
       "object_fit": null,
       "object_position": null,
       "order": null,
       "overflow": null,
       "padding": null,
       "right": null,
       "top": null,
       "visibility": null,
       "width": null
      }
     },
     "2d0afbc67e224f1d96f3bc429cf7ca03": {
      "model_module": "@jupyter-widgets/output",
      "model_module_version": "1.0.0",
      "model_name": "OutputModel",
      "state": {
       "_dom_classes": [],
       "_model_module": "@jupyter-widgets/output",
       "_model_module_version": "1.0.0",
       "_model_name": "OutputModel",
       "_view_count": null,
       "_view_module": "@jupyter-widgets/output",
       "_view_module_version": "1.0.0",
       "_view_name": "OutputView",
       "layout": "IPY_MODEL_c8129633901349fbb28b76fecc10eb4a",
       "msg_id": "",
       "outputs": [
        {
         "data": {
          "image/png": "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",
          "text/plain": "<Figure size 600x400 with 2 Axes>"
         },
         "metadata": {},
         "output_type": "display_data"
        }
       ],
       "tabbable": null,
       "tooltip": null
      }
     },
     "2eb373a2949e417a90f596c91e9f7441": {
      "model_module": "@jupyter-widgets/controls",
      "model_module_version": "2.0.0",
      "model_name": "SliderStyleModel",
      "state": {
       "_model_module": "@jupyter-widgets/controls",
       "_model_module_version": "2.0.0",
       "_model_name": "SliderStyleModel",
       "_view_count": null,
       "_view_module": "@jupyter-widgets/base",
       "_view_module_version": "2.0.0",
       "_view_name": "StyleView",
       "description_width": "",
       "handle_color": null
      }
     },
     "40ce2fe1866740a5af0be2ea5e41f222": {
      "model_module": "@jupyter-widgets/base",
      "model_module_version": "2.0.0",
      "model_name": "LayoutModel",
      "state": {
       "_model_module": "@jupyter-widgets/base",
       "_model_module_version": "2.0.0",
       "_model_name": "LayoutModel",
       "_view_count": null,
       "_view_module": "@jupyter-widgets/base",
       "_view_module_version": "2.0.0",
       "_view_name": "LayoutView",
       "align_content": null,
       "align_items": null,
       "align_self": null,
       "border_bottom": null,
       "border_left": null,
       "border_right": null,
       "border_top": null,
       "bottom": null,
       "display": null,
       "flex": null,
       "flex_flow": null,
       "grid_area": null,
       "grid_auto_columns": null,
       "grid_auto_flow": null,
       "grid_auto_rows": null,
       "grid_column": null,
       "grid_gap": null,
       "grid_row": null,
       "grid_template_areas": null,
       "grid_template_columns": null,
       "grid_template_rows": null,
       "height": null,
       "justify_content": null,
       "justify_items": null,
       "left": null,
       "margin": null,
       "max_height": null,
       "max_width": null,
       "min_height": null,
       "min_width": null,
       "object_fit": null,
       "object_position": null,
       "order": null,
       "overflow": null,
       "padding": null,
       "right": null,
       "top": null,
       "visibility": null,
       "width": null
      }
     },
     "42f47cce5d6e4c5ba241b02d24d5c903": {
      "model_module": "@jupyter-widgets/base",
      "model_module_version": "2.0.0",
      "model_name": "LayoutModel",
      "state": {
       "_model_module": "@jupyter-widgets/base",
       "_model_module_version": "2.0.0",
       "_model_name": "LayoutModel",
       "_view_count": null,
       "_view_module": "@jupyter-widgets/base",
       "_view_module_version": "2.0.0",
       "_view_name": "LayoutView",
       "align_content": null,
       "align_items": null,
       "align_self": null,
       "border_bottom": null,
       "border_left": null,
       "border_right": null,
       "border_top": null,
       "bottom": null,
       "display": null,
       "flex": null,
       "flex_flow": null,
       "grid_area": null,
       "grid_auto_columns": null,
       "grid_auto_flow": null,
       "grid_auto_rows": null,
       "grid_column": null,
       "grid_gap": null,
       "grid_row": null,
       "grid_template_areas": null,
       "grid_template_columns": null,
       "grid_template_rows": null,
       "height": null,
       "justify_content": null,
       "justify_items": null,
       "left": null,
       "margin": null,
       "max_height": null,
       "max_width": null,
       "min_height": null,
       "min_width": null,
       "object_fit": null,
       "object_position": null,
       "order": null,
       "overflow": null,
       "padding": null,
       "right": null,
       "top": null,
       "visibility": null,
       "width": null
      }
     },
     "4ad689be94f045298b6dd386bb12750c": {
      "model_module": "@jupyter-widgets/controls",
      "model_module_version": "2.0.0",
      "model_name": "SliderStyleModel",
      "state": {
       "_model_module": "@jupyter-widgets/controls",
       "_model_module_version": "2.0.0",
       "_model_name": "SliderStyleModel",
       "_view_count": null,
       "_view_module": "@jupyter-widgets/base",
       "_view_module_version": "2.0.0",
       "_view_name": "StyleView",
       "description_width": "",
       "handle_color": null
      }
     },
     "5df8c75f2cf444e89432cfcbca681343": {
      "model_module": "@jupyter-widgets/base",
      "model_module_version": "2.0.0",
      "model_name": "LayoutModel",
      "state": {
       "_model_module": "@jupyter-widgets/base",
       "_model_module_version": "2.0.0",
       "_model_name": "LayoutModel",
       "_view_count": null,
       "_view_module": "@jupyter-widgets/base",
       "_view_module_version": "2.0.0",
       "_view_name": "LayoutView",
       "align_content": null,
       "align_items": null,
       "align_self": null,
       "border_bottom": null,
       "border_left": null,
       "border_right": null,
       "border_top": null,
       "bottom": null,
       "display": null,
       "flex": null,
       "flex_flow": null,
       "grid_area": null,
       "grid_auto_columns": null,
       "grid_auto_flow": null,
       "grid_auto_rows": null,
       "grid_column": null,
       "grid_gap": null,
       "grid_row": null,
       "grid_template_areas": null,
       "grid_template_columns": null,
       "grid_template_rows": null,
       "height": null,
       "justify_content": null,
       "justify_items": null,
       "left": null,
       "margin": null,
       "max_height": null,
       "max_width": null,
       "min_height": null,
       "min_width": null,
       "object_fit": null,
       "object_position": null,
       "order": null,
       "overflow": null,
       "padding": null,
       "right": null,
       "top": null,
       "visibility": null,
       "width": null
      }
     },
     "63381f54f51e4c018776b1c4bed6cecd": {
      "model_module": "@jupyter-widgets/base",
      "model_module_version": "2.0.0",
      "model_name": "LayoutModel",
      "state": {
       "_model_module": "@jupyter-widgets/base",
       "_model_module_version": "2.0.0",
       "_model_name": "LayoutModel",
       "_view_count": null,
       "_view_module": "@jupyter-widgets/base",
       "_view_module_version": "2.0.0",
       "_view_name": "LayoutView",
       "align_content": null,
       "align_items": null,
       "align_self": null,
       "border_bottom": null,
       "border_left": null,
       "border_right": null,
       "border_top": null,
       "bottom": null,
       "display": null,
       "flex": null,
       "flex_flow": null,
       "grid_area": null,
       "grid_auto_columns": null,
       "grid_auto_flow": null,
       "grid_auto_rows": null,
       "grid_column": null,
       "grid_gap": null,
       "grid_row": null,
       "grid_template_areas": null,
       "grid_template_columns": null,
       "grid_template_rows": null,
       "height": null,
       "justify_content": null,
       "justify_items": null,
       "left": null,
       "margin": null,
       "max_height": null,
       "max_width": null,
       "min_height": null,
       "min_width": null,
       "object_fit": null,
       "object_position": null,
       "order": null,
       "overflow": null,
       "padding": null,
       "right": null,
       "top": null,
       "visibility": null,
       "width": null
      }
     },
     "660ad5eaca1f4ea9bb7bb84e5daf10e6": {
      "model_module": "@jupyter-widgets/output",
      "model_module_version": "1.0.0",
      "model_name": "OutputModel",
      "state": {
       "_dom_classes": [],
       "_model_module": "@jupyter-widgets/output",
       "_model_module_version": "1.0.0",
       "_model_name": "OutputModel",
       "_view_count": null,
       "_view_module": "@jupyter-widgets/output",
       "_view_module_version": "1.0.0",
       "_view_name": "OutputView",
       "layout": "IPY_MODEL_42f47cce5d6e4c5ba241b02d24d5c903",
       "msg_id": "",
       "outputs": [
        {
         "data": {
          "image/png": "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",
          "text/plain": "<Figure size 600x400 with 2 Axes>"
         },
         "metadata": {},
         "output_type": "display_data"
        }
       ],
       "tabbable": null,
       "tooltip": null
      }
     },
     "6b0b1b582a0a46d3aa031cdf8458d035": {
      "model_module": "@jupyter-widgets/controls",
      "model_module_version": "2.0.0",
      "model_name": "FloatSliderModel",
      "state": {
       "_dom_classes": [],
       "_model_module": "@jupyter-widgets/controls",
       "_model_module_version": "2.0.0",
       "_model_name": "FloatSliderModel",
       "_view_count": null,
       "_view_module": "@jupyter-widgets/controls",
       "_view_module_version": "2.0.0",
       "_view_name": "FloatSliderView",
       "behavior": "drag-tap",
       "continuous_update": true,
       "description": "B",
       "description_allow_html": false,
       "disabled": false,
       "layout": "IPY_MODEL_cdddb81698964b6abb80c69ff7021ca5",
       "max": 1.0,
       "min": 0.0,
       "orientation": "horizontal",
       "readout": true,
       "readout_format": ".2f",
       "step": 0.1,
       "style": "IPY_MODEL_4ad689be94f045298b6dd386bb12750c",
       "tabbable": null,
       "tooltip": null,
       "value": 1.0
      }
     },
     "75b117147b26443294813cb892dd712e": {
      "model_module": "@jupyter-widgets/base",
      "model_module_version": "2.0.0",
      "model_name": "LayoutModel",
      "state": {
       "_model_module": "@jupyter-widgets/base",
       "_model_module_version": "2.0.0",
       "_model_name": "LayoutModel",
       "_view_count": null,
       "_view_module": "@jupyter-widgets/base",
       "_view_module_version": "2.0.0",
       "_view_name": "LayoutView",
       "align_content": null,
       "align_items": null,
       "align_self": null,
       "border_bottom": null,
       "border_left": null,
       "border_right": null,
       "border_top": null,
       "bottom": null,
       "display": null,
       "flex": null,
       "flex_flow": null,
       "grid_area": null,
       "grid_auto_columns": null,
       "grid_auto_flow": null,
       "grid_auto_rows": null,
       "grid_column": null,
       "grid_gap": null,
       "grid_row": null,
       "grid_template_areas": null,
       "grid_template_columns": null,
       "grid_template_rows": null,
       "height": null,
       "justify_content": null,
       "justify_items": null,
       "left": null,
       "margin": null,
       "max_height": null,
       "max_width": null,
       "min_height": null,
       "min_width": null,
       "object_fit": null,
       "object_position": null,
       "order": null,
       "overflow": null,
       "padding": null,
       "right": null,
       "top": null,
       "visibility": null,
       "width": null
      }
     },
     "8787e20676f04eeb9ddac99827a4afcd": {
      "model_module": "@jupyter-widgets/controls",
      "model_module_version": "2.0.0",
      "model_name": "SliderStyleModel",
      "state": {
       "_model_module": "@jupyter-widgets/controls",
       "_model_module_version": "2.0.0",
       "_model_name": "SliderStyleModel",
       "_view_count": null,
       "_view_module": "@jupyter-widgets/base",
       "_view_module_version": "2.0.0",
       "_view_name": "StyleView",
       "description_width": "",
       "handle_color": null
      }
     },
     "93771bae6b4048dbaff4da585e7260b2": {
      "model_module": "@jupyter-widgets/base",
      "model_module_version": "2.0.0",
      "model_name": "LayoutModel",
      "state": {
       "_model_module": "@jupyter-widgets/base",
       "_model_module_version": "2.0.0",
       "_model_name": "LayoutModel",
       "_view_count": null,
       "_view_module": "@jupyter-widgets/base",
       "_view_module_version": "2.0.0",
       "_view_name": "LayoutView",
       "align_content": null,
       "align_items": null,
       "align_self": null,
       "border_bottom": null,
       "border_left": null,
       "border_right": null,
       "border_top": null,
       "bottom": null,
       "display": null,
       "flex": null,
       "flex_flow": null,
       "grid_area": null,
       "grid_auto_columns": null,
       "grid_auto_flow": null,
       "grid_auto_rows": null,
       "grid_column": null,
       "grid_gap": null,
       "grid_row": null,
       "grid_template_areas": null,
       "grid_template_columns": null,
       "grid_template_rows": null,
       "height": null,
       "justify_content": null,
       "justify_items": null,
       "left": null,
       "margin": null,
       "max_height": null,
       "max_width": null,
       "min_height": null,
       "min_width": null,
       "object_fit": null,
       "object_position": null,
       "order": null,
       "overflow": null,
       "padding": null,
       "right": null,
       "top": null,
       "visibility": null,
       "width": null
      }
     },
     "98c0f803866843189c5330206cc5d2dd": {
      "model_module": "@jupyter-widgets/controls",
      "model_module_version": "2.0.0",
      "model_name": "SliderStyleModel",
      "state": {
       "_model_module": "@jupyter-widgets/controls",
       "_model_module_version": "2.0.0",
       "_model_name": "SliderStyleModel",
       "_view_count": null,
       "_view_module": "@jupyter-widgets/base",
       "_view_module_version": "2.0.0",
       "_view_name": "StyleView",
       "description_width": "",
       "handle_color": null
      }
     },
     "a5a6468130404c14bce4f6711302ec2e": {
      "model_module": "@jupyter-widgets/controls",
      "model_module_version": "2.0.0",
      "model_name": "VBoxModel",
      "state": {
       "_dom_classes": [
        "widget-interact"
       ],
       "_model_module": "@jupyter-widgets/controls",
       "_model_module_version": "2.0.0",
       "_model_name": "VBoxModel",
       "_view_count": null,
       "_view_module": "@jupyter-widgets/controls",
       "_view_module_version": "2.0.0",
       "_view_name": "VBoxView",
       "box_style": "",
       "children": [
        "IPY_MODEL_fe8bbf72b071496ea489282c240c7efa",
        "IPY_MODEL_e2e900d83f73456291b88ecc58c4e85d",
        "IPY_MODEL_f3b05f9d7e804276819c09213853dbaa",
        "IPY_MODEL_660ad5eaca1f4ea9bb7bb84e5daf10e6"
       ],
       "layout": "IPY_MODEL_75b117147b26443294813cb892dd712e",
       "tabbable": null,
       "tooltip": null
      }
     },
     "a74a0a75ecc245df9ec19f52b9c57ad0": {
      "model_module": "@jupyter-widgets/base",
      "model_module_version": "2.0.0",
      "model_name": "LayoutModel",
      "state": {
       "_model_module": "@jupyter-widgets/base",
       "_model_module_version": "2.0.0",
       "_model_name": "LayoutModel",
       "_view_count": null,
       "_view_module": "@jupyter-widgets/base",
       "_view_module_version": "2.0.0",
       "_view_name": "LayoutView",
       "align_content": null,
       "align_items": null,
       "align_self": null,
       "border_bottom": null,
       "border_left": null,
       "border_right": null,
       "border_top": null,
       "bottom": null,
       "display": null,
       "flex": null,
       "flex_flow": null,
       "grid_area": null,
       "grid_auto_columns": null,
       "grid_auto_flow": null,
       "grid_auto_rows": null,
       "grid_column": null,
       "grid_gap": null,
       "grid_row": null,
       "grid_template_areas": null,
       "grid_template_columns": null,
       "grid_template_rows": null,
       "height": null,
       "justify_content": null,
       "justify_items": null,
       "left": null,
       "margin": null,
       "max_height": null,
       "max_width": null,
       "min_height": null,
       "min_width": null,
       "object_fit": null,
       "object_position": null,
       "order": null,
       "overflow": null,
       "padding": null,
       "right": null,
       "top": null,
       "visibility": null,
       "width": null
      }
     },
     "be3fbabc75794bf9a1221443d8be7020": {
      "model_module": "@jupyter-widgets/controls",
      "model_module_version": "2.0.0",
      "model_name": "SliderStyleModel",
      "state": {
       "_model_module": "@jupyter-widgets/controls",
       "_model_module_version": "2.0.0",
       "_model_name": "SliderStyleModel",
       "_view_count": null,
       "_view_module": "@jupyter-widgets/base",
       "_view_module_version": "2.0.0",
       "_view_name": "StyleView",
       "description_width": "",
       "handle_color": null
      }
     },
     "c325ed58393d449a8476a0d194045535": {
      "model_module": "@jupyter-widgets/controls",
      "model_module_version": "2.0.0",
      "model_name": "FloatSliderModel",
      "state": {
       "_dom_classes": [],
       "_model_module": "@jupyter-widgets/controls",
       "_model_module_version": "2.0.0",
       "_model_name": "FloatSliderModel",
       "_view_count": null,
       "_view_module": "@jupyter-widgets/controls",
       "_view_module_version": "2.0.0",
       "_view_name": "FloatSliderView",
       "behavior": "drag-tap",
       "continuous_update": true,
       "description": "R",
       "description_allow_html": false,
       "disabled": false,
       "layout": "IPY_MODEL_a74a0a75ecc245df9ec19f52b9c57ad0",
       "max": 1.0,
       "min": 0.0,
       "orientation": "horizontal",
       "readout": true,
       "readout_format": ".2f",
       "step": 0.1,
       "style": "IPY_MODEL_006f0594e9b1458683663d5331ebdf5d",
       "tabbable": null,
       "tooltip": null,
       "value": 1.0
      }
     },
     "c4bb491244f4489392a0e967c076645b": {
      "model_module": "@jupyter-widgets/controls",
      "model_module_version": "2.0.0",
      "model_name": "VBoxModel",
      "state": {
       "_dom_classes": [
        "widget-interact"
       ],
       "_model_module": "@jupyter-widgets/controls",
       "_model_module_version": "2.0.0",
       "_model_name": "VBoxModel",
       "_view_count": null,
       "_view_module": "@jupyter-widgets/controls",
       "_view_module_version": "2.0.0",
       "_view_name": "VBoxView",
       "box_style": "",
       "children": [
        "IPY_MODEL_c325ed58393d449a8476a0d194045535",
        "IPY_MODEL_0b2d088ff88c4a4ba273e8b426863286",
        "IPY_MODEL_6b0b1b582a0a46d3aa031cdf8458d035",
        "IPY_MODEL_2d0afbc67e224f1d96f3bc429cf7ca03"
       ],
       "layout": "IPY_MODEL_5df8c75f2cf444e89432cfcbca681343",
       "tabbable": null,
       "tooltip": null
      }
     },
     "c8129633901349fbb28b76fecc10eb4a": {
      "model_module": "@jupyter-widgets/base",
      "model_module_version": "2.0.0",
      "model_name": "LayoutModel",
      "state": {
       "_model_module": "@jupyter-widgets/base",
       "_model_module_version": "2.0.0",
       "_model_name": "LayoutModel",
       "_view_count": null,
       "_view_module": "@jupyter-widgets/base",
       "_view_module_version": "2.0.0",
       "_view_name": "LayoutView",
       "align_content": null,
       "align_items": null,
       "align_self": null,
       "border_bottom": null,
       "border_left": null,
       "border_right": null,
       "border_top": null,
       "bottom": null,
       "display": null,
       "flex": null,
       "flex_flow": null,
       "grid_area": null,
       "grid_auto_columns": null,
       "grid_auto_flow": null,
       "grid_auto_rows": null,
       "grid_column": null,
       "grid_gap": null,
       "grid_row": null,
       "grid_template_areas": null,
       "grid_template_columns": null,
       "grid_template_rows": null,
       "height": null,
       "justify_content": null,
       "justify_items": null,
       "left": null,
       "margin": null,
       "max_height": null,
       "max_width": null,
       "min_height": null,
       "min_width": null,
       "object_fit": null,
       "object_position": null,
       "order": null,
       "overflow": null,
       "padding": null,
       "right": null,
       "top": null,
       "visibility": null,
       "width": null
      }
     },
     "cdddb81698964b6abb80c69ff7021ca5": {
      "model_module": "@jupyter-widgets/base",
      "model_module_version": "2.0.0",
      "model_name": "LayoutModel",
      "state": {
       "_model_module": "@jupyter-widgets/base",
       "_model_module_version": "2.0.0",
       "_model_name": "LayoutModel",
       "_view_count": null,
       "_view_module": "@jupyter-widgets/base",
       "_view_module_version": "2.0.0",
       "_view_name": "LayoutView",
       "align_content": null,
       "align_items": null,
       "align_self": null,
       "border_bottom": null,
       "border_left": null,
       "border_right": null,
       "border_top": null,
       "bottom": null,
       "display": null,
       "flex": null,
       "flex_flow": null,
       "grid_area": null,
       "grid_auto_columns": null,
       "grid_auto_flow": null,
       "grid_auto_rows": null,
       "grid_column": null,
       "grid_gap": null,
       "grid_row": null,
       "grid_template_areas": null,
       "grid_template_columns": null,
       "grid_template_rows": null,
       "height": null,
       "justify_content": null,
       "justify_items": null,
       "left": null,
       "margin": null,
       "max_height": null,
       "max_width": null,
       "min_height": null,
       "min_width": null,
       "object_fit": null,
       "object_position": null,
       "order": null,
       "overflow": null,
       "padding": null,
       "right": null,
       "top": null,
       "visibility": null,
       "width": null
      }
     },
     "e2e900d83f73456291b88ecc58c4e85d": {
      "model_module": "@jupyter-widgets/controls",
      "model_module_version": "2.0.0",
      "model_name": "FloatSliderModel",
      "state": {
       "_dom_classes": [],
       "_model_module": "@jupyter-widgets/controls",
       "_model_module_version": "2.0.0",
       "_model_name": "FloatSliderModel",
       "_view_count": null,
       "_view_module": "@jupyter-widgets/controls",
       "_view_module_version": "2.0.0",
       "_view_name": "FloatSliderView",
       "behavior": "drag-tap",
       "continuous_update": true,
       "description": "G",
       "description_allow_html": false,
       "disabled": false,
       "layout": "IPY_MODEL_63381f54f51e4c018776b1c4bed6cecd",
       "max": 1.0,
       "min": 0.0,
       "orientation": "horizontal",
       "readout": true,
       "readout_format": ".2f",
       "step": 0.1,
       "style": "IPY_MODEL_2eb373a2949e417a90f596c91e9f7441",
       "tabbable": null,
       "tooltip": null,
       "value": 0.0
      }
     },
     "f3b05f9d7e804276819c09213853dbaa": {
      "model_module": "@jupyter-widgets/controls",
      "model_module_version": "2.0.0",
      "model_name": "FloatSliderModel",
      "state": {
       "_dom_classes": [],
       "_model_module": "@jupyter-widgets/controls",
       "_model_module_version": "2.0.0",
       "_model_name": "FloatSliderModel",
       "_view_count": null,
       "_view_module": "@jupyter-widgets/controls",
       "_view_module_version": "2.0.0",
       "_view_name": "FloatSliderView",
       "behavior": "drag-tap",
       "continuous_update": true,
       "description": "B",
       "description_allow_html": false,
       "disabled": false,
       "layout": "IPY_MODEL_40ce2fe1866740a5af0be2ea5e41f222",
       "max": 1.0,
       "min": 0.0,
       "orientation": "horizontal",
       "readout": true,
       "readout_format": ".2f",
       "step": 0.1,
       "style": "IPY_MODEL_be3fbabc75794bf9a1221443d8be7020",
       "tabbable": null,
       "tooltip": null,
       "value": 0.0
      }
     },
     "fe8bbf72b071496ea489282c240c7efa": {
      "model_module": "@jupyter-widgets/controls",
      "model_module_version": "2.0.0",
      "model_name": "FloatSliderModel",
      "state": {
       "_dom_classes": [],
       "_model_module": "@jupyter-widgets/controls",
       "_model_module_version": "2.0.0",
       "_model_name": "FloatSliderModel",
       "_view_count": null,
       "_view_module": "@jupyter-widgets/controls",
       "_view_module_version": "2.0.0",
       "_view_name": "FloatSliderView",
       "behavior": "drag-tap",
       "continuous_update": true,
       "description": "R",
       "description_allow_html": false,
       "disabled": false,
       "layout": "IPY_MODEL_93771bae6b4048dbaff4da585e7260b2",
       "max": 1.0,
       "min": 0.0,
       "orientation": "horizontal",
       "readout": true,
       "readout_format": ".2f",
       "step": 0.1,
       "style": "IPY_MODEL_8787e20676f04eeb9ddac99827a4afcd",
       "tabbable": null,
       "tooltip": null,
       "value": 1.0
      }
     }
    },
    "version_major": 2,
    "version_minor": 0
   }
  }
 },
 "nbformat": 4,
 "nbformat_minor": 5
}