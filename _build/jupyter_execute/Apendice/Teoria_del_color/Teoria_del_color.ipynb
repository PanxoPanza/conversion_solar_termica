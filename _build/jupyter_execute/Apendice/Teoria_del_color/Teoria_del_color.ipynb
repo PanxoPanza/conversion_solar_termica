{
 "cells": [
  {
   "cell_type": "code",
   "execution_count": 1,
   "id": "3c597da7",
   "metadata": {
    "slideshow": {
     "slide_type": "skip"
    },
    "tags": [
     "remove-cell"
    ]
   },
   "outputs": [],
   "source": [
    "import importlib.util\n",
    "if importlib.util.find_spec('empylib') is None:\n",
    "    !pip install git+https://github.com/PanxoPanza/empylib.git"
   ]
  },
  {
   "cell_type": "markdown",
   "id": "062b856b",
   "metadata": {
    "slideshow": {
     "slide_type": "slide"
    }
   },
   "source": [
    "# Teoria del color"
   ]
  },
  {
   "cell_type": "markdown",
   "id": "f9292ad4",
   "metadata": {
    "slideshow": {
     "slide_type": "slide"
    }
   },
   "source": [
    "## Introducción"
   ]
  },
  {
   "cell_type": "markdown",
   "id": "eb98c9d6",
   "metadata": {
    "slideshow": {
     "slide_type": "fragment"
    }
   },
   "source": [
    "Para nuestros ojos, una fuente de luz tiene coloración blanca cuando la intensidad de cada frecuencia del espectro visible es, aproximadamente, constante."
   ]
  },
  {
   "cell_type": "markdown",
   "id": "09b3f12d",
   "metadata": {
    "slideshow": {
     "slide_type": "fragment"
    }
   },
   "source": [
    "El mejor ejemplo es el sol.\n",
    "<img src=\"./images/solar_spectrum.jpg\" width=\"500px\" align= center>"
   ]
  },
  {
   "cell_type": "markdown",
   "id": "89e05492",
   "metadata": {
    "slideshow": {
     "slide_type": "slide"
    }
   },
   "source": [
    "## Espacio de colores CIE RGB"
   ]
  },
  {
   "cell_type": "markdown",
   "id": "dd70b192",
   "metadata": {
    "slideshow": {
     "slide_type": "fragment"
    }
   },
   "source": [
    "Los colores aparecen cuando el espectro de la fuente no está ditribuido de forma uniforme. Nuestros ojos, encargados de intrepretar este espectro como color, poseen *células fotoreceptoras o conos celulares* sensibles a los colores: <font color='red'>rojo (R)</font>, <font color='green'>verde (G)</font> y <font color='blue'>azul (B)</font>"
   ]
  },
  {
   "cell_type": "markdown",
   "id": "97e95fb9",
   "metadata": {
    "slideshow": {
     "slide_type": "fragment"
    }
   },
   "source": [
    "Matemáticamente, existen diversas formas de transformar un espectro, $I_\\mathrm{spec}(\\lambda)$, a **código de colores RGB**. En este curso, usamos el módulo `ref_spectra.color_system` de la librería `empylib`, el cual está basado en [Comisión internacional de la iluminación (CIE)](https://es.wikipedia.org/wiki/Espacio_de_color_CIE_1931)"
   ]
  },
  {
   "cell_type": "markdown",
   "id": "dba0bbd8",
   "metadata": {
    "slideshow": {
     "slide_type": "fragment"
    }
   },
   "source": [
    "En términos simples, el procedimiento consiste en determinar los **valores triestímulo $X$, $Y$ y $Z$** a partir de las **funciones de combinación de colores $\\bar{x}(\\lambda)$, $\\bar{y}(\\lambda)$ y $\\bar{z}(\\lambda)$,** que representan la precepción visual humana de forma numérica:\n",
    "\n",
    "\\begin{equation*}\n",
    "X = \\int_{0}^\\infty I_\\mathrm{spec}(\\lambda)\\bar{x}(\\lambda) d\\lambda,\\quad\\quad\n",
    "Y = \\int_{0}^\\infty I_\\mathrm{spec}(\\lambda)\\bar{y}(\\lambda) d\\lambda,\\quad\\quad\n",
    "Z = \\int_{0}^\\infty I_\\mathrm{spec}(\\lambda)\\bar{z}(\\lambda) d\\lambda,\n",
    "\\end{equation*}"
   ]
  },
  {
   "cell_type": "markdown",
   "id": "e45cb938",
   "metadata": {
    "slideshow": {
     "slide_type": "slide"
    }
   },
   "source": [
    "Analicemos el comportamiento de las funciones de combinación de colores."
   ]
  },
  {
   "cell_type": "code",
   "execution_count": 2,
   "id": "d10b5c36",
   "metadata": {
    "cell_style": "center",
    "tags": [
     "hide-input"
    ]
   },
   "outputs": [
    {
     "data": {
      "image/png": "[encoded data removed]",
      "text/plain": [
       "<Figure size 600x400 with 1 Axes>"
      ]
     },
     "metadata": {
      "filenames": {
       "image/png": "/mnt/c/Users/frami/OneDrive - Universidad Adolfo Ibanez/Teaching_courses/MEC501 - Manejo_y_Conversion_Energia_Solar/material_catedra/_build/jupyter_execute/Apendice/Teoria_del_color/Teoria_del_color_10_0.png"
      }
     },
     "output_type": "display_data"
    }
   ],
   "source": [
    "import matplotlib.pyplot as plt\n",
    "\n",
    "# librería para transformación de espectro a código RGB\n",
    "from empylib.ref_spectra import color_system as cs\n",
    "cs = cs.srgb\n",
    "\n",
    "# formateamos el lienzo de la figura\n",
    "fig, ax = plt.subplots()\n",
    "fig.set_size_inches(6, 4)\n",
    "plt.rcParams['font.size'] = '14'\n",
    "\n",
    "# Graficamos cada curva del estandar CIE XYZ\n",
    "plt.fill(cs.lam_cmf,cs.cmf[:,0],color='red'  ,alpha=0.5,edgecolor=None,label='$\\overline{x}~(\\lambda)$')\n",
    "plt.fill(cs.lam_cmf,cs.cmf[:,1],color='green',alpha=0.5,edgecolor=None,label='$\\overline{y}~(\\lambda)$')\n",
    "plt.fill(cs.lam_cmf,cs.cmf[:,2],color='blue' ,alpha=0.5,edgecolor=None,label='$\\overline{z}~(\\lambda)$')\n",
    "\n",
    "# Ajustamos formato de ejes\n",
    "plt.ylim(0,2)\n",
    "plt.tick_params(left = False,labelleft = False)\n",
    "plt.xlabel('Longitud de onda ($\\mu$m)')\n",
    "plt.legend();"
   ]
  },
  {
   "cell_type": "markdown",
   "id": "411f3a24",
   "metadata": {
    "slideshow": {
     "slide_type": "slide"
    }
   },
   "source": [
    "Posterior a esto, el código de colores $\\mathrm{RGB}$ se determina a partir del sistema:\n",
    "\n",
    "\\begin{equation*}\n",
    "\\begin{bmatrix}\n",
    "0.187 & 0.063 & 0.064 \\\\\n",
    "0.092 & 0.212 & 0.025 \\\\\n",
    "0     & 0.024 & 0.334 \\\\\n",
    "\\end{bmatrix}\\left[\\begin{array}{c} \\mathrm{R} \\\\\\mathrm{G} \\\\\\mathrm{B} \\end{array}\\right] =\n",
    "\\left[\\begin{array}{c} x \\\\y \\\\z\\end{array}\\right]\n",
    "\\end{equation*}"
   ]
  },
  {
   "cell_type": "markdown",
   "id": "df1ee659",
   "metadata": {
    "slideshow": {
     "slide_type": "fragment"
    }
   },
   "source": [
    "donde $xyz$ están dados por:\n",
    "\n",
    "\\begin{equation*}\n",
    "x = \\frac{X}{X+Y+Z},\\quad\\quad\\quad y = \\frac{Y}{X+Y+Z},\\quad\\quad\\quad z = \\frac{Z}{X+Y+Z},\n",
    "\\end{equation*}"
   ]
  },
  {
   "cell_type": "markdown",
   "id": "f5c25230",
   "metadata": {
    "slideshow": {
     "slide_type": "slide"
    }
   },
   "source": [
    "## Modelos de colores\n"
   ]
  },
  {
   "cell_type": "markdown",
   "id": "c95eb815",
   "metadata": {
    "slideshow": {
     "slide_type": "fragment"
    }
   },
   "source": [
    "### Coloración aditiva\n",
    "Es un modelo que explica la obtención de un color a partir de la suma de los componentes primarios, comúnmente, rojo, verde y azul. La coloración aditiva es el método utilizado en monitores electrónicos, como LCD, LED, oLED, etc."
   ]
  },
  {
   "cell_type": "markdown",
   "id": "a31b72fe",
   "metadata": {
    "slideshow": {
     "slide_type": "fragment"
    }
   },
   "source": [
    "<img src=\"./images/additive_colors.jpg\" width=\"700px\" align= center>"
   ]
  },
  {
   "cell_type": "markdown",
   "id": "e59ea155",
   "metadata": {
    "slideshow": {
     "slide_type": "slide"
    }
   },
   "source": [
    "Analicemos el siguiente modelo de colores aditivos."
   ]
  },
  {
   "cell_type": "code",
   "execution_count": 3,
   "id": "fae750d9",
   "metadata": {
    "cell_style": "split",
    "slideshow": {
     "slide_type": "fragment"
    },
    "tags": [
     "hide-input"
    ]
   },
   "outputs": [],
   "source": [
    "# importamos librerías necesarias\n",
    "import empylib as em\n",
    "import empylib.nklib as nk\n",
    "import empylib.ref_spectra as rf\n",
    "import empylib.waveoptics as wv\n",
    "import matplotlib.pyplot as plt\n",
    "import numpy as np\n",
    "\n",
    "def plot_additive_color(R,G,B):\n",
    "    # lienzo para la figura\n",
    "    fig, ax = plt.subplots()          \n",
    "    fig.set_size_inches(6, 4)         # Tamaño del gráfico\n",
    "    plt.rcParams['font.size'] = '14'  # tamaño de  fuente\n",
    "\n",
    "    # Espectro de longitudes de onda entre 300 y 800 nm\n",
    "    lam = np.linspace(0.3,0.8,500)\n",
    "\n",
    "    # Generamos un material con emisividad en rojo, verde y azul\n",
    "    wn = em.convert_units(np.array([450, 520, 630]),'nm','eV')\n",
    "    wp = [B*0.02,G*0.02,R*0.02]  # Frecuencia wp (eV)\n",
    "    T  = 0.05    # Taza de decaimiento (eV)\n",
    "\n",
    "    eps_mat = complex(1,0)\n",
    "    for i in range(len(wn)):\n",
    "        # constante dieléctrica según modelo de Lorentz\n",
    "        eps_mat = eps_mat + (nk.lorentz(0,wp[i],wn[i],T,lam))**2\n",
    "\n",
    "    N_mat = np.sqrt(eps_mat)\n",
    "\n",
    "    Rw, Tw = wv.incoh_multilayer(lam,0, (1.0,N_mat,1.0), 200)\n",
    "    Ew = 1 - Rw - Tw;\n",
    "\n",
    "    # Graficamos el espectro de emisión\n",
    "    ax.plot(lam*1E3,Ew*100)\n",
    "    ax.set_ylabel('Emisividad (%)')\n",
    "    ax.set_xlabel('Longitud de onda ($\\mu$m)')\n",
    "    ax.set_ylim(0,100)\n",
    "\n",
    "    # interpretacion de colores\n",
    "    Dcircle = 0.30\n",
    "    ax2 = fig.add_axes([0.63,0.55, Dcircle, Dcircle])\n",
    "    html_rgb = cs.spec_to_rgb(Ew*rf.AM15(lam),lam, out_fmt='html')\n",
    "    Circle = plt.Circle((0, 0), Dcircle, color=html_rgb)\n",
    "    ax2.add_patch(Circle)\n",
    "    ax2.set_aspect('equal')\n",
    "    ax2.set_xlim(-Dcircle*1.2,Dcircle*1.2)\n",
    "    ax2.set_ylim(-Dcircle*1.2,Dcircle*1.2)\n",
    "    ax2.set_xticks([])\n",
    "    ax2.set_yticks([])\n",
    "    ax2.set_facecolor('k');"
   ]
  },
  {
   "cell_type": "code",
   "execution_count": 4,
   "id": "9c8baf14",
   "metadata": {
    "cell_style": "split",
    "tags": [
     "hide-input"
    ]
   },
   "outputs": [
    {
     "data": {
      "application/vnd.jupyter.widget-view+json": {
       "model_id": "0d9402a908d345e4b5ea845a50687895",
       "version_major": 2,
       "version_minor": 0
      },
      "text/plain": [
       "interactive(children=(FloatSlider(value=1.0, description='R', max=1.0), FloatSlider(value=1.0, description='G'…"
      ]
     },
     "metadata": {},
     "output_type": "display_data"
    }
   ],
   "source": [
    "from ipywidgets import interact\n",
    "\n",
    "@interact(R=(0,1,0.1), G=(0,1,0.1), B=(0,1,0.1))\n",
    "def g(R = 1, G = 1, B = 1):\n",
    "    return plot_additive_color(R,G,B)"
   ]
  },
  {
   "cell_type": "markdown",
   "id": "ef5c2184",
   "metadata": {
    "slideshow": {
     "slide_type": "slide"
    }
   },
   "source": [
    "### Coloración sustractiva\n",
    "Se basa en la formación de colores a partir de la sustracción de colores primarios. Comúnmente, se utilizan los colores amarillo, cian y magenta."
   ]
  },
  {
   "cell_type": "markdown",
   "id": "bfe5809a",
   "metadata": {
    "slideshow": {
     "slide_type": "fragment"
    }
   },
   "source": [
    "El modelo, explica la coloración de muchas frutas, verduras y plantas. Además, es la técnica utilizada en impresión a color, fotografía y cinematografía.\n",
    "\n",
    "<img src=\"./images/substractive_colors.png\" width=\"700px\" align= center>"
   ]
  },
  {
   "cell_type": "markdown",
   "id": "01e2ccda",
   "metadata": {
    "slideshow": {
     "slide_type": "slide"
    }
   },
   "source": [
    "El siguiente modelo explica el concepto de coloración sustractiva"
   ]
  },
  {
   "cell_type": "code",
   "execution_count": 5,
   "id": "e19abd25",
   "metadata": {
    "cell_style": "split",
    "slideshow": {
     "slide_type": "fragment"
    },
    "tags": [
     "hide-input"
    ]
   },
   "outputs": [],
   "source": [
    "# importamos librerías necesarias\n",
    "import empylib as em\n",
    "import empylib.nklib as nk\n",
    "import empylib.ref_spectra as rf\n",
    "import empylib.waveoptics as wv\n",
    "import matplotlib.pyplot as plt\n",
    "import numpy as np\n",
    "\n",
    "def plot_substractive_color(R,G,B):\n",
    "    # lienzo para la figura\n",
    "    fig, ax = plt.subplots()          \n",
    "    fig.set_size_inches(6, 4)         # Tamaño del gráfico\n",
    "    plt.rcParams['font.size'] = '14'  # tamaño de  fuente\n",
    "\n",
    "    # Espectro de longitudes de onda entre 300 y 800 nm\n",
    "    lam = np.linspace(0.3,0.8,100)\n",
    "\n",
    "    # Generamos un material con emisividad en rojo, verde y azul\n",
    "    wn = em.convert_units(np.array([450, 520, 630]),'nm','eV')\n",
    "    wp = [B*0.02,G*0.02,R*0.02]  # Frecuencia wp (eV)\n",
    "    T  = 0.05                    # Tasa de decaimiento (eV)\n",
    "    \n",
    "    eps_mat = complex(1,0)\n",
    "    for i in range(len(wn)):\n",
    "        # constante dieléctrica según modelo de Lorentz\n",
    "        eps_mat = eps_mat + (nk.lorentz(0,wp[i],wn[i],T,lam))**2\n",
    "\n",
    "    N_mat = np.sqrt(eps_mat)\n",
    "\n",
    "    Rw, Tw = wv.incoh_multilayer(lam,0, (1.0,N_mat,1.0), 200)\n",
    "    Ew = 1 - Rw - Tw\n",
    "    Rw = (1 - Ew)\n",
    "\n",
    "    # Graficamos el espectro de emisión\n",
    "    ax.plot(lam*1E3,(1 - Ew)*100)\n",
    "    ax.set_ylabel('Reflectancia (%)')\n",
    "    ax.set_xlabel('Longitud de onda ($\\mu$m)')\n",
    "    ax.set_ylim(0,100)\n",
    "\n",
    "    # interpretacion de colores\n",
    "    Dcircle = 0.30\n",
    "    ax2 = fig.add_axes([0.63,0.55, Dcircle, Dcircle])\n",
    "    html_rgb = cs.spec_to_rgb(Rw*rf.AM15(lam),lam, out_fmt='html')\n",
    "    Circle = plt.Circle((0, 0), Dcircle, color=html_rgb)\n",
    "    ax2.add_patch(Circle)\n",
    "    ax2.set_aspect('equal')\n",
    "    ax2.set_xlim(-Dcircle*1.2,Dcircle*1.2)\n",
    "    ax2.set_ylim(-Dcircle*1.2,Dcircle*1.2)\n",
    "    ax2.set_xticks([])\n",
    "    ax2.set_yticks([])\n",
    "    ax2.set_facecolor('k');\n",
    "    \n",
    "    plt.show()"
   ]
  },
  {
   "cell_type": "code",
   "execution_count": 6,
   "id": "cea13ba8",
   "metadata": {
    "cell_style": "split",
    "scrolled": true,
    "tags": [
     "hide-input"
    ]
   },
   "outputs": [
    {
     "data": {
      "application/vnd.jupyter.widget-view+json": {
       "model_id": "b8f423310f83430f8c5af0edd5610f79",
       "version_major": 2,
       "version_minor": 0
      },
      "text/plain": [
       "interactive(children=(FloatSlider(value=1.0, description='R', max=1.0), FloatSlider(value=0.0, description='G'…"
      ]
     },
     "metadata": {},
     "output_type": "display_data"
    }
   ],
   "source": [
    "from ipywidgets import interact\n",
    "\n",
    "@interact(R=(0,1,0.1), G=(0,1,0.1), B=(0,1,0.1))\n",
    "def g(R = 1, G = 0, B = 0):\n",
    "    return plot_substractive_color(R,G,B)"
   ]
  },
  {
   "cell_type": "markdown",
   "id": "17c1dc23",
   "metadata": {
    "slideshow": {
     "slide_type": "slide"
    }
   },
   "source": [
    "## Referencias\n",
    "**Hetch E., *Óptica*, 5ta Ed, Pearson, 2017**\n",
    "- Capítulo 4.9: Aspectos conocidos de la interacción de la luz y la materia"
   ]
  }
 ],
 "metadata": {
  "celltoolbar": "Slideshow",
  "kernelspec": {
   "display_name": "Python 3 (ipykernel)",
   "language": "python",
   "name": "python3"
  },
  "language_info": {
   "codemirror_mode": {
    "name": "ipython",
    "version": 3
   },
   "file_extension": ".py",
   "mimetype": "text/x-python",
   "name": "python",
   "nbconvert_exporter": "python",
   "pygments_lexer": "ipython3",
   "version": "3.9.12"
  },
  "latex_envs": {
   "LaTeX_envs_menu_present": true,
   "autoclose": false,
   "autocomplete": false,
   "bibliofile": "biblio.bib",
   "cite_by": "apalike",
   "current_citInitial": 1,
   "eqLabelWithNumbers": true,
   "eqNumInitial": 1,
   "hotkeys": {
    "equation": "Ctrl-E",
    "itemize": "Ctrl-I"
   },
   "labels_anchors": false,
   "latex_user_defs": false,
   "report_style_numbering": false,
   "user_envs_cfg": true
  },
  "toc": {
   "base_numbering": 1,
   "nav_menu": {},
   "number_sections": true,
   "sideBar": true,
   "skip_h1_title": true,
   "title_cell": "Tabla de contenidos",
   "title_sidebar": "Contenidos",
   "toc_cell": false,
   "toc_position": {
    "height": "calc(100% - 180px)",
    "left": "10px",
    "top": "150px",
    "width": "307.2px"
   },
   "toc_section_display": true,
   "toc_window_display": false
  },
  "varInspector": {
   "cols": {
    "lenName": 16,
    "lenType": 16,
    "lenVar": 40
   },
   "kernels_config": {
    "python": {
     "delete_cmd_postfix": "",
     "delete_cmd_prefix": "del ",
     "library": "var_list.py",
     "varRefreshCmd": "print(var_dic_list())"
    },
    "r": {
     "delete_cmd_postfix": ") ",
     "delete_cmd_prefix": "rm(",
     "library": "var_list.r",
     "varRefreshCmd": "cat(var_dic_list()) "
    }
   },
   "types_to_exclude": [
    "module",
    "function",
    "builtin_function_or_method",
    "instance",
    "_Feature"
   ],
   "window_display": false
  },
  "widgets": {
   "application/vnd.jupyter.widget-state+json": {
    "state": {
     "0234a93f00d84501b4207e2402d18cec": {
      "model_module": "@jupyter-widgets/controls",
      "model_module_version": "1.5.0",
      "model_name": "FloatSliderModel",
      "state": {
       "_dom_classes": [],
       "_model_module": "@jupyter-widgets/controls",
       "_model_module_version": "1.5.0",
       "_model_name": "FloatSliderModel",
       "_view_count": null,
       "_view_module": "@jupyter-widgets/controls",
       "_view_module_version": "1.5.0",
       "_view_name": "FloatSliderView",
       "continuous_update": true,
       "description": "G",
       "description_tooltip": null,
       "disabled": false,
       "layout": "IPY_MODEL_e518e73be50145239f18d5a37c0ed896",
       "max": 1.0,
       "min": 0.0,
       "orientation": "horizontal",
       "readout": true,
       "readout_format": ".2f",
       "step": 0.1,
       "style": "IPY_MODEL_98efd5340f164265b82e2322bdfc0b87",
       "value": 0.0
      }
     },
     "0569010567394d1f81c782fd9e329f42": {
      "model_module": "@jupyter-widgets/controls",
      "model_module_version": "1.5.0",
      "model_name": "SliderStyleModel",
      "state": {
       "_model_module": "@jupyter-widgets/controls",
       "_model_module_version": "1.5.0",
       "_model_name": "SliderStyleModel",
       "_view_count": null,
       "_view_module": "@jupyter-widgets/base",
       "_view_module_version": "1.2.0",
       "_view_name": "StyleView",
       "description_width": "",
       "handle_color": null
      }
     },
     "0d9402a908d345e4b5ea845a50687895": {
      "model_module": "@jupyter-widgets/controls",
      "model_module_version": "1.5.0",
      "model_name": "VBoxModel",
      "state": {
       "_dom_classes": [
        "widget-interact"
       ],
       "_model_module": "@jupyter-widgets/controls",
       "_model_module_version": "1.5.0",
       "_model_name": "VBoxModel",
       "_view_count": null,
       "_view_module": "@jupyter-widgets/controls",
       "_view_module_version": "1.5.0",
       "_view_name": "VBoxView",
       "box_style": "",
       "children": [
        "IPY_MODEL_f916c69cda5f4812af63ce1fce49cf19",
        "IPY_MODEL_52accd022a9f44d693729db4d06f9b6a",
        "IPY_MODEL_b27418416f6f4d72a159004865ba1ef5",
        "IPY_MODEL_dc47113898a44df69a2b8fe42b220a5c"
       ],
       "layout": "IPY_MODEL_87c1add5c0ca4141a6f211dba2affee6"
      }
     },
     "18d45b513e9447faa91b55dff6a1cd7e": {
      "model_module": "@jupyter-widgets/base",
      "model_module_version": "1.2.0",
      "model_name": "LayoutModel",
      "state": {
       "_model_module": "@jupyter-widgets/base",
       "_model_module_version": "1.2.0",
       "_model_name": "LayoutModel",
       "_view_count": null,
       "_view_module": "@jupyter-widgets/base",
       "_view_module_version": "1.2.0",
       "_view_name": "LayoutView",
       "align_content": null,
       "align_items": null,
       "align_self": null,
       "border": null,
       "bottom": null,
       "display": null,
       "flex": null,
       "flex_flow": null,
       "grid_area": null,
       "grid_auto_columns": null,
       "grid_auto_flow": null,
       "grid_auto_rows": null,
       "grid_column": null,
       "grid_gap": null,
       "grid_row": null,
       "grid_template_areas": null,
       "grid_template_columns": null,
       "grid_template_rows": null,
       "height": null,
       "justify_content": null,
       "justify_items": null,
       "left": null,
       "margin": null,
       "max_height": null,
       "max_width": null,
       "min_height": null,
       "min_width": null,
       "object_fit": null,
       "object_position": null,
       "order": null,
       "overflow": null,
       "overflow_x": null,
       "overflow_y": null,
       "padding": null,
       "right": null,
       "top": null,
       "visibility": null,
       "width": null
      }
     },
     "19aec2b6c58e4921a8d2455e933d7bd6": {
      "model_module": "@jupyter-widgets/base",
      "model_module_version": "1.2.0",
      "model_name": "LayoutModel",
      "state": {
       "_model_module": "@jupyter-widgets/base",
       "_model_module_version": "1.2.0",
       "_model_name": "LayoutModel",
       "_view_count": null,
       "_view_module": "@jupyter-widgets/base",
       "_view_module_version": "1.2.0",
       "_view_name": "LayoutView",
       "align_content": null,
       "align_items": null,
       "align_self": null,
       "border": null,
       "bottom": null,
       "display": null,
       "flex": null,
       "flex_flow": null,
       "grid_area": null,
       "grid_auto_columns": null,
       "grid_auto_flow": null,
       "grid_auto_rows": null,
       "grid_column": null,
       "grid_gap": null,
       "grid_row": null,
       "grid_template_areas": null,
       "grid_template_columns": null,
       "grid_template_rows": null,
       "height": null,
       "justify_content": null,
       "justify_items": null,
       "left": null,
       "margin": null,
       "max_height": null,
       "max_width": null,
       "min_height": null,
       "min_width": null,
       "object_fit": null,
       "object_position": null,
       "order": null,
       "overflow": null,
       "overflow_x": null,
       "overflow_y": null,
       "padding": null,
       "right": null,
       "top": null,
       "visibility": null,
       "width": null
      }
     },
     "20a508cda6a042139eb7b1a6abca5eb5": {
      "model_module": "@jupyter-widgets/controls",
      "model_module_version": "1.5.0",
      "model_name": "SliderStyleModel",
      "state": {
       "_model_module": "@jupyter-widgets/controls",
       "_model_module_version": "1.5.0",
       "_model_name": "SliderStyleModel",
       "_view_count": null,
       "_view_module": "@jupyter-widgets/base",
       "_view_module_version": "1.2.0",
       "_view_name": "StyleView",
       "description_width": "",
       "handle_color": null
      }
     },
     "3c41da16164742ee9ce0a51ba0f3502e": {
      "model_module": "@jupyter-widgets/controls",
      "model_module_version": "1.5.0",
      "model_name": "SliderStyleModel",
      "state": {
       "_model_module": "@jupyter-widgets/controls",
       "_model_module_version": "1.5.0",
       "_model_name": "SliderStyleModel",
       "_view_count": null,
       "_view_module": "@jupyter-widgets/base",
       "_view_module_version": "1.2.0",
       "_view_name": "StyleView",
       "description_width": "",
       "handle_color": null
      }
     },
     "3cf20a766731468c9ee182011070626f": {
      "model_module": "@jupyter-widgets/base",
      "model_module_version": "1.2.0",
      "model_name": "LayoutModel",
      "state": {
       "_model_module": "@jupyter-widgets/base",
       "_model_module_version": "1.2.0",
       "_model_name": "LayoutModel",
       "_view_count": null,
       "_view_module": "@jupyter-widgets/base",
       "_view_module_version": "1.2.0",
       "_view_name": "LayoutView",
       "align_content": null,
       "align_items": null,
       "align_self": null,
       "border": null,
       "bottom": null,
       "display": null,
       "flex": null,
       "flex_flow": null,
       "grid_area": null,
       "grid_auto_columns": null,
       "grid_auto_flow": null,
       "grid_auto_rows": null,
       "grid_column": null,
       "grid_gap": null,
       "grid_row": null,
       "grid_template_areas": null,
       "grid_template_columns": null,
       "grid_template_rows": null,
       "height": null,
       "justify_content": null,
       "justify_items": null,
       "left": null,
       "margin": null,
       "max_height": null,
       "max_width": null,
       "min_height": null,
       "min_width": null,
       "object_fit": null,
       "object_position": null,
       "order": null,
       "overflow": null,
       "overflow_x": null,
       "overflow_y": null,
       "padding": null,
       "right": null,
       "top": null,
       "visibility": null,
       "width": null
      }
     },
     "52accd022a9f44d693729db4d06f9b6a": {
      "model_module": "@jupyter-widgets/controls",
      "model_module_version": "1.5.0",
      "model_name": "FloatSliderModel",
      "state": {
       "_dom_classes": [],
       "_model_module": "@jupyter-widgets/controls",
       "_model_module_version": "1.5.0",
       "_model_name": "FloatSliderModel",
       "_view_count": null,
       "_view_module": "@jupyter-widgets/controls",
       "_view_module_version": "1.5.0",
       "_view_name": "FloatSliderView",
       "continuous_update": true,
       "description": "G",
       "description_tooltip": null,
       "disabled": false,
       "layout": "IPY_MODEL_18d45b513e9447faa91b55dff6a1cd7e",
       "max": 1.0,
       "min": 0.0,
       "orientation": "horizontal",
       "readout": true,
       "readout_format": ".2f",
       "step": 0.1,
       "style": "IPY_MODEL_20a508cda6a042139eb7b1a6abca5eb5",
       "value": 1.0
      }
     },
     "87c1add5c0ca4141a6f211dba2affee6": {
      "model_module": "@jupyter-widgets/base",
      "model_module_version": "1.2.0",
      "model_name": "LayoutModel",
      "state": {
       "_model_module": "@jupyter-widgets/base",
       "_model_module_version": "1.2.0",
       "_model_name": "LayoutModel",
       "_view_count": null,
       "_view_module": "@jupyter-widgets/base",
       "_view_module_version": "1.2.0",
       "_view_name": "LayoutView",
       "align_content": null,
       "align_items": null,
       "align_self": null,
       "border": null,
       "bottom": null,
       "display": null,
       "flex": null,
       "flex_flow": null,
       "grid_area": null,
       "grid_auto_columns": null,
       "grid_auto_flow": null,
       "grid_auto_rows": null,
       "grid_column": null,
       "grid_gap": null,
       "grid_row": null,
       "grid_template_areas": null,
       "grid_template_columns": null,
       "grid_template_rows": null,
       "height": null,
       "justify_content": null,
       "justify_items": null,
       "left": null,
       "margin": null,
       "max_height": null,
       "max_width": null,
       "min_height": null,
       "min_width": null,
       "object_fit": null,
       "object_position": null,
       "order": null,
       "overflow": null,
       "overflow_x": null,
       "overflow_y": null,
       "padding": null,
       "right": null,
       "top": null,
       "visibility": null,
       "width": null
      }
     },
     "907ae8212e8842c581518c6db26fcceb": {
      "model_module": "@jupyter-widgets/controls",
      "model_module_version": "1.5.0",
      "model_name": "FloatSliderModel",
      "state": {
       "_dom_classes": [],
       "_model_module": "@jupyter-widgets/controls",
       "_model_module_version": "1.5.0",
       "_model_name": "FloatSliderModel",
       "_view_count": null,
       "_view_module": "@jupyter-widgets/controls",
       "_view_module_version": "1.5.0",
       "_view_name": "FloatSliderView",
       "continuous_update": true,
       "description": "B",
       "description_tooltip": null,
       "disabled": false,
       "layout": "IPY_MODEL_e15d97af994b42c6ba86eaa4ba7b34aa",
       "max": 1.0,
       "min": 0.0,
       "orientation": "horizontal",
       "readout": true,
       "readout_format": ".2f",
       "step": 0.1,
       "style": "IPY_MODEL_3c41da16164742ee9ce0a51ba0f3502e",
       "value": 0.0
      }
     },
     "949fd9de5ea548ecacfa04cab173b209": {
      "model_module": "@jupyter-widgets/output",
      "model_module_version": "1.0.0",
      "model_name": "OutputModel",
      "state": {
       "_dom_classes": [],
       "_model_module": "@jupyter-widgets/output",
       "_model_module_version": "1.0.0",
       "_model_name": "OutputModel",
       "_view_count": null,
       "_view_module": "@jupyter-widgets/output",
       "_view_module_version": "1.0.0",
       "_view_name": "OutputView",
       "layout": "IPY_MODEL_d0cd077398fb43219d4ffdac86eb9a80",
       "msg_id": "",
       "outputs": [
        {
         "data": {
          "image/png": "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",
          "text/plain": "<Figure size 600x400 with 2 Axes>"
         },
         "metadata": {},
         "output_type": "display_data"
        }
       ]
      }
     },
     "98efd5340f164265b82e2322bdfc0b87": {
      "model_module": "@jupyter-widgets/controls",
      "model_module_version": "1.5.0",
      "model_name": "SliderStyleModel",
      "state": {
       "_model_module": "@jupyter-widgets/controls",
       "_model_module_version": "1.5.0",
       "_model_name": "SliderStyleModel",
       "_view_count": null,
       "_view_module": "@jupyter-widgets/base",
       "_view_module_version": "1.2.0",
       "_view_name": "StyleView",
       "description_width": "",
       "handle_color": null
      }
     },
     "9a7339684ddc48179a20786e7d557dbe": {
      "model_module": "@jupyter-widgets/controls",
      "model_module_version": "1.5.0",
      "model_name": "SliderStyleModel",
      "state": {
       "_model_module": "@jupyter-widgets/controls",
       "_model_module_version": "1.5.0",
       "_model_name": "SliderStyleModel",
       "_view_count": null,
       "_view_module": "@jupyter-widgets/base",
       "_view_module_version": "1.2.0",
       "_view_name": "StyleView",
       "description_width": "",
       "handle_color": null
      }
     },
     "a152b58ac410483193d6aa865e7f548f": {
      "model_module": "@jupyter-widgets/controls",
      "model_module_version": "1.5.0",
      "model_name": "SliderStyleModel",
      "state": {
       "_model_module": "@jupyter-widgets/controls",
       "_model_module_version": "1.5.0",
       "_model_name": "SliderStyleModel",
       "_view_count": null,
       "_view_module": "@jupyter-widgets/base",
       "_view_module_version": "1.2.0",
       "_view_name": "StyleView",
       "description_width": "",
       "handle_color": null
      }
     },
     "a685a5eb47b3411f81898ae1095f0716": {
      "model_module": "@jupyter-widgets/base",
      "model_module_version": "1.2.0",
      "model_name": "LayoutModel",
      "state": {
       "_model_module": "@jupyter-widgets/base",
       "_model_module_version": "1.2.0",
       "_model_name": "LayoutModel",
       "_view_count": null,
       "_view_module": "@jupyter-widgets/base",
       "_view_module_version": "1.2.0",
       "_view_name": "LayoutView",
       "align_content": null,
       "align_items": null,
       "align_self": null,
       "border": null,
       "bottom": null,
       "display": null,
       "flex": null,
       "flex_flow": null,
       "grid_area": null,
       "grid_auto_columns": null,
       "grid_auto_flow": null,
       "grid_auto_rows": null,
       "grid_column": null,
       "grid_gap": null,
       "grid_row": null,
       "grid_template_areas": null,
       "grid_template_columns": null,
       "grid_template_rows": null,
       "height": null,
       "justify_content": null,
       "justify_items": null,
       "left": null,
       "margin": null,
       "max_height": null,
       "max_width": null,
       "min_height": null,
       "min_width": null,
       "object_fit": null,
       "object_position": null,
       "order": null,
       "overflow": null,
       "overflow_x": null,
       "overflow_y": null,
       "padding": null,
       "right": null,
       "top": null,
       "visibility": null,
       "width": null
      }
     },
     "b27418416f6f4d72a159004865ba1ef5": {
      "model_module": "@jupyter-widgets/controls",
      "model_module_version": "1.5.0",
      "model_name": "FloatSliderModel",
      "state": {
       "_dom_classes": [],
       "_model_module": "@jupyter-widgets/controls",
       "_model_module_version": "1.5.0",
       "_model_name": "FloatSliderModel",
       "_view_count": null,
       "_view_module": "@jupyter-widgets/controls",
       "_view_module_version": "1.5.0",
       "_view_name": "FloatSliderView",
       "continuous_update": true,
       "description": "B",
       "description_tooltip": null,
       "disabled": false,
       "layout": "IPY_MODEL_b7890f1e383249a0a5a129453daf54b8",
       "max": 1.0,
       "min": 0.0,
       "orientation": "horizontal",
       "readout": true,
       "readout_format": ".2f",
       "step": 0.1,
       "style": "IPY_MODEL_0569010567394d1f81c782fd9e329f42",
       "value": 1.0
      }
     },
     "b7890f1e383249a0a5a129453daf54b8": {
      "model_module": "@jupyter-widgets/base",
      "model_module_version": "1.2.0",
      "model_name": "LayoutModel",
      "state": {
       "_model_module": "@jupyter-widgets/base",
       "_model_module_version": "1.2.0",
       "_model_name": "LayoutModel",
       "_view_count": null,
       "_view_module": "@jupyter-widgets/base",
       "_view_module_version": "1.2.0",
       "_view_name": "LayoutView",
       "align_content": null,
       "align_items": null,
       "align_self": null,
       "border": null,
       "bottom": null,
       "display": null,
       "flex": null,
       "flex_flow": null,
       "grid_area": null,
       "grid_auto_columns": null,
       "grid_auto_flow": null,
       "grid_auto_rows": null,
       "grid_column": null,
       "grid_gap": null,
       "grid_row": null,
       "grid_template_areas": null,
       "grid_template_columns": null,
       "grid_template_rows": null,
       "height": null,
       "justify_content": null,
       "justify_items": null,
       "left": null,
       "margin": null,
       "max_height": null,
       "max_width": null,
       "min_height": null,
       "min_width": null,
       "object_fit": null,
       "object_position": null,
       "order": null,
       "overflow": null,
       "overflow_x": null,
       "overflow_y": null,
       "padding": null,
       "right": null,
       "top": null,
       "visibility": null,
       "width": null
      }
     },
     "b8f423310f83430f8c5af0edd5610f79": {
      "model_module": "@jupyter-widgets/controls",
      "model_module_version": "1.5.0",
      "model_name": "VBoxModel",
      "state": {
       "_dom_classes": [
        "widget-interact"
       ],
       "_model_module": "@jupyter-widgets/controls",
       "_model_module_version": "1.5.0",
       "_model_name": "VBoxModel",
       "_view_count": null,
       "_view_module": "@jupyter-widgets/controls",
       "_view_module_version": "1.5.0",
       "_view_name": "VBoxView",
       "box_style": "",
       "children": [
        "IPY_MODEL_fe6089062c2b4369b32be9808317f287",
        "IPY_MODEL_0234a93f00d84501b4207e2402d18cec",
        "IPY_MODEL_907ae8212e8842c581518c6db26fcceb",
        "IPY_MODEL_949fd9de5ea548ecacfa04cab173b209"
       ],
       "layout": "IPY_MODEL_3cf20a766731468c9ee182011070626f"
      }
     },
     "c2437ad1a71c45b08ec3472c646c16a9": {
      "model_module": "@jupyter-widgets/base",
      "model_module_version": "1.2.0",
      "model_name": "LayoutModel",
      "state": {
       "_model_module": "@jupyter-widgets/base",
       "_model_module_version": "1.2.0",
       "_model_name": "LayoutModel",
       "_view_count": null,
       "_view_module": "@jupyter-widgets/base",
       "_view_module_version": "1.2.0",
       "_view_name": "LayoutView",
       "align_content": null,
       "align_items": null,
       "align_self": null,
       "border": null,
       "bottom": null,
       "display": null,
       "flex": null,
       "flex_flow": null,
       "grid_area": null,
       "grid_auto_columns": null,
       "grid_auto_flow": null,
       "grid_auto_rows": null,
       "grid_column": null,
       "grid_gap": null,
       "grid_row": null,
       "grid_template_areas": null,
       "grid_template_columns": null,
       "grid_template_rows": null,
       "height": null,
       "justify_content": null,
       "justify_items": null,
       "left": null,
       "margin": null,
       "max_height": null,
       "max_width": null,
       "min_height": null,
       "min_width": null,
       "object_fit": null,
       "object_position": null,
       "order": null,
       "overflow": null,
       "overflow_x": null,
       "overflow_y": null,
       "padding": null,
       "right": null,
       "top": null,
       "visibility": null,
       "width": null
      }
     },
     "d0cd077398fb43219d4ffdac86eb9a80": {
      "model_module": "@jupyter-widgets/base",
      "model_module_version": "1.2.0",
      "model_name": "LayoutModel",
      "state": {
       "_model_module": "@jupyter-widgets/base",
       "_model_module_version": "1.2.0",
       "_model_name": "LayoutModel",
       "_view_count": null,
       "_view_module": "@jupyter-widgets/base",
       "_view_module_version": "1.2.0",
       "_view_name": "LayoutView",
       "align_content": null,
       "align_items": null,
       "align_self": null,
       "border": null,
       "bottom": null,
       "display": null,
       "flex": null,
       "flex_flow": null,
       "grid_area": null,
       "grid_auto_columns": null,
       "grid_auto_flow": null,
       "grid_auto_rows": null,
       "grid_column": null,
       "grid_gap": null,
       "grid_row": null,
       "grid_template_areas": null,
       "grid_template_columns": null,
       "grid_template_rows": null,
       "height": null,
       "justify_content": null,
       "justify_items": null,
       "left": null,
       "margin": null,
       "max_height": null,
       "max_width": null,
       "min_height": null,
       "min_width": null,
       "object_fit": null,
       "object_position": null,
       "order": null,
       "overflow": null,
       "overflow_x": null,
       "overflow_y": null,
       "padding": null,
       "right": null,
       "top": null,
       "visibility": null,
       "width": null
      }
     },
     "dc47113898a44df69a2b8fe42b220a5c": {
      "model_module": "@jupyter-widgets/output",
      "model_module_version": "1.0.0",
      "model_name": "OutputModel",
      "state": {
       "_dom_classes": [],
       "_model_module": "@jupyter-widgets/output",
       "_model_module_version": "1.0.0",
       "_model_name": "OutputModel",
       "_view_count": null,
       "_view_module": "@jupyter-widgets/output",
       "_view_module_version": "1.0.0",
       "_view_name": "OutputView",
       "layout": "IPY_MODEL_c2437ad1a71c45b08ec3472c646c16a9",
       "msg_id": "",
       "outputs": [
        {
         "data": {
          "image/png": "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",
          "text/plain": "<Figure size 600x400 with 2 Axes>"
         },
         "metadata": {},
         "output_type": "display_data"
        }
       ]
      }
     },
     "e15d97af994b42c6ba86eaa4ba7b34aa": {
      "model_module": "@jupyter-widgets/base",
      "model_module_version": "1.2.0",
      "model_name": "LayoutModel",
      "state": {
       "_model_module": "@jupyter-widgets/base",
       "_model_module_version": "1.2.0",
       "_model_name": "LayoutModel",
       "_view_count": null,
       "_view_module": "@jupyter-widgets/base",
       "_view_module_version": "1.2.0",
       "_view_name": "LayoutView",
       "align_content": null,
       "align_items": null,
       "align_self": null,
       "border": null,
       "bottom": null,
       "display": null,
       "flex": null,
       "flex_flow": null,
       "grid_area": null,
       "grid_auto_columns": null,
       "grid_auto_flow": null,
       "grid_auto_rows": null,
       "grid_column": null,
       "grid_gap": null,
       "grid_row": null,
       "grid_template_areas": null,
       "grid_template_columns": null,
       "grid_template_rows": null,
       "height": null,
       "justify_content": null,
       "justify_items": null,
       "left": null,
       "margin": null,
       "max_height": null,
       "max_width": null,
       "min_height": null,
       "min_width": null,
       "object_fit": null,
       "object_position": null,
       "order": null,
       "overflow": null,
       "overflow_x": null,
       "overflow_y": null,
       "padding": null,
       "right": null,
       "top": null,
       "visibility": null,
       "width": null
      }
     },
     "e518e73be50145239f18d5a37c0ed896": {
      "model_module": "@jupyter-widgets/base",
      "model_module_version": "1.2.0",
      "model_name": "LayoutModel",
      "state": {
       "_model_module": "@jupyter-widgets/base",
       "_model_module_version": "1.2.0",
       "_model_name": "LayoutModel",
       "_view_count": null,
       "_view_module": "@jupyter-widgets/base",
       "_view_module_version": "1.2.0",
       "_view_name": "LayoutView",
       "align_content": null,
       "align_items": null,
       "align_self": null,
       "border": null,
       "bottom": null,
       "display": null,
       "flex": null,
       "flex_flow": null,
       "grid_area": null,
       "grid_auto_columns": null,
       "grid_auto_flow": null,
       "grid_auto_rows": null,
       "grid_column": null,
       "grid_gap": null,
       "grid_row": null,
       "grid_template_areas": null,
       "grid_template_columns": null,
       "grid_template_rows": null,
       "height": null,
       "justify_content": null,
       "justify_items": null,
       "left": null,
       "margin": null,
       "max_height": null,
       "max_width": null,
       "min_height": null,
       "min_width": null,
       "object_fit": null,
       "object_position": null,
       "order": null,
       "overflow": null,
       "overflow_x": null,
       "overflow_y": null,
       "padding": null,
       "right": null,
       "top": null,
       "visibility": null,
       "width": null
      }
     },
     "f916c69cda5f4812af63ce1fce49cf19": {
      "model_module": "@jupyter-widgets/controls",
      "model_module_version": "1.5.0",
      "model_name": "FloatSliderModel",
      "state": {
       "_dom_classes": [],
       "_model_module": "@jupyter-widgets/controls",
       "_model_module_version": "1.5.0",
       "_model_name": "FloatSliderModel",
       "_view_count": null,
       "_view_module": "@jupyter-widgets/controls",
       "_view_module_version": "1.5.0",
       "_view_name": "FloatSliderView",
       "continuous_update": true,
       "description": "R",
       "description_tooltip": null,
       "disabled": false,
       "layout": "IPY_MODEL_a685a5eb47b3411f81898ae1095f0716",
       "max": 1.0,
       "min": 0.0,
       "orientation": "horizontal",
       "readout": true,
       "readout_format": ".2f",
       "step": 0.1,
       "style": "IPY_MODEL_9a7339684ddc48179a20786e7d557dbe",
       "value": 1.0
      }
     },
     "fe6089062c2b4369b32be9808317f287": {
      "model_module": "@jupyter-widgets/controls",
      "model_module_version": "1.5.0",
      "model_name": "FloatSliderModel",
      "state": {
       "_dom_classes": [],
       "_model_module": "@jupyter-widgets/controls",
       "_model_module_version": "1.5.0",
       "_model_name": "FloatSliderModel",
       "_view_count": null,
       "_view_module": "@jupyter-widgets/controls",
       "_view_module_version": "1.5.0",
       "_view_name": "FloatSliderView",
       "continuous_update": true,
       "description": "R",
       "description_tooltip": null,
       "disabled": false,
       "layout": "IPY_MODEL_19aec2b6c58e4921a8d2455e933d7bd6",
       "max": 1.0,
       "min": 0.0,
       "orientation": "horizontal",
       "readout": true,
       "readout_format": ".2f",
       "step": 0.1,
       "style": "IPY_MODEL_a152b58ac410483193d6aa865e7f548f",
       "value": 1.0
      }
     }
    },
    "version_major": 2,
    "version_minor": 0
   }
  }
 },
 "nbformat": 4,
 "nbformat_minor": 5
}