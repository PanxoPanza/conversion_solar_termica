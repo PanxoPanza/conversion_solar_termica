{
 "cells": [
  {
   "cell_type": "code",
   "execution_count": 1,
   "id": "3c597da7",
   "metadata": {
    "slideshow": {
     "slide_type": "skip"
    },
    "tags": [
     "remove-cell"
    ]
   },
   "outputs": [],
   "source": [
    "import importlib.util\n",
    "if importlib.util.find_spec('empylib') is None:\n",
    "    !pip install git+https://github.com/PanxoPanza/empylib.git"
   ]
  },
  {
   "cell_type": "markdown",
   "id": "062b856b",
   "metadata": {
    "slideshow": {
     "slide_type": "slide"
    }
   },
   "source": [
    "# Teoria del color"
   ]
  },
  {
   "cell_type": "markdown",
   "id": "f9292ad4",
   "metadata": {
    "slideshow": {
     "slide_type": "slide"
    }
   },
   "source": [
    "## Introducción"
   ]
  },
  {
   "cell_type": "markdown",
   "id": "eb98c9d6",
   "metadata": {
    "slideshow": {
     "slide_type": "fragment"
    }
   },
   "source": [
    "Para nuestros ojos, una fuente de luz tiene coloración blanca cuando la intensidad de cada frecuencia del espectro visible es, aproximadamente, constante."
   ]
  },
  {
   "cell_type": "markdown",
   "id": "09b3f12d",
   "metadata": {
    "slideshow": {
     "slide_type": "fragment"
    }
   },
   "source": [
    "El mejor ejemplo es el sol.\n",
    "<img src=\"./images/solar_spectrum.jpg\" width=\"500px\" align= center>"
   ]
  },
  {
   "cell_type": "markdown",
   "id": "89e05492",
   "metadata": {
    "slideshow": {
     "slide_type": "slide"
    }
   },
   "source": [
    "## Espacio de colores CIE RGB"
   ]
  },
  {
   "cell_type": "markdown",
   "id": "dd70b192",
   "metadata": {
    "slideshow": {
     "slide_type": "fragment"
    }
   },
   "source": [
    "Los colores aparecen cuando el espectro de la fuente no está ditribuido de forma uniforme. Nuestros ojos, encargados de intrepretar este espectro como color, poseen *células fotoreceptoras o conos celulares* sensibles a los colores: <font color='red'>rojo (R)</font>, <font color='green'>verde (G)</font> y <font color='blue'>azul (B)</font>"
   ]
  },
  {
   "cell_type": "markdown",
   "id": "97e95fb9",
   "metadata": {
    "slideshow": {
     "slide_type": "fragment"
    }
   },
   "source": [
    "Matemáticamente, existen diversas formas de transformar un espectro, $I_\\mathrm{spec}(\\lambda)$, a **código de colores RGB**. En este curso, usamos el módulo `ref_spectra.color_system` de la librería `empylib`, el cual está basado en [Comisión internacional de la iluminación (CIE)](https://es.wikipedia.org/wiki/Espacio_de_color_CIE_1931)"
   ]
  },
  {
   "cell_type": "markdown",
   "id": "dba0bbd8",
   "metadata": {
    "slideshow": {
     "slide_type": "fragment"
    }
   },
   "source": [
    "En términos simples, el procedimiento consiste en determinar los **valores triestímulo $X$, $Y$ y $Z$** a partir de las **funciones de combinación de colores $\\bar{x}(\\lambda)$, $\\bar{y}(\\lambda)$ y $\\bar{z}(\\lambda)$,** que representan la precepción visual humana de forma numérica:\n",
    "\n",
    "\\begin{equation*}\n",
    "X = \\int_{0}^\\infty I_\\mathrm{spec}(\\lambda)\\bar{x}(\\lambda) d\\lambda,\\quad\\quad\n",
    "Y = \\int_{0}^\\infty I_\\mathrm{spec}(\\lambda)\\bar{y}(\\lambda) d\\lambda,\\quad\\quad\n",
    "Z = \\int_{0}^\\infty I_\\mathrm{spec}(\\lambda)\\bar{z}(\\lambda) d\\lambda,\n",
    "\\end{equation*}"
   ]
  },
  {
   "cell_type": "markdown",
   "id": "e45cb938",
   "metadata": {
    "slideshow": {
     "slide_type": "slide"
    }
   },
   "source": [
    "Analicemos el comportamiento de las funciones de combinación de colores."
   ]
  },
  {
   "cell_type": "code",
   "execution_count": 2,
   "id": "d10b5c36",
   "metadata": {
    "cell_style": "center",
    "tags": [
     "hide-input"
    ]
   },
   "outputs": [
    {
     "name": "stderr",
     "output_type": "stream",
     "text": [
      "<>:13: SyntaxWarning: invalid escape sequence '\\o'\n",
      "<>:14: SyntaxWarning: invalid escape sequence '\\o'\n",
      "<>:15: SyntaxWarning: invalid escape sequence '\\o'\n",
      "<>:20: SyntaxWarning: invalid escape sequence '\\m'\n",
      "<>:13: SyntaxWarning: invalid escape sequence '\\o'\n",
      "<>:14: SyntaxWarning: invalid escape sequence '\\o'\n",
      "<>:15: SyntaxWarning: invalid escape sequence '\\o'\n",
      "<>:20: SyntaxWarning: invalid escape sequence '\\m'\n",
      "/tmp/ipykernel_1299/3794988094.py:13: SyntaxWarning: invalid escape sequence '\\o'\n",
      "  plt.fill(cs.lam_cmf,cs.cmf[:,0],color='red'  ,alpha=0.5,edgecolor=None,label='$\\overline{x}~(\\lambda)$')\n",
      "/tmp/ipykernel_1299/3794988094.py:14: SyntaxWarning: invalid escape sequence '\\o'\n",
      "  plt.fill(cs.lam_cmf,cs.cmf[:,1],color='green',alpha=0.5,edgecolor=None,label='$\\overline{y}~(\\lambda)$')\n",
      "/tmp/ipykernel_1299/3794988094.py:15: SyntaxWarning: invalid escape sequence '\\o'\n",
      "  plt.fill(cs.lam_cmf,cs.cmf[:,2],color='blue' ,alpha=0.5,edgecolor=None,label='$\\overline{z}~(\\lambda)$')\n",
      "/tmp/ipykernel_1299/3794988094.py:20: SyntaxWarning: invalid escape sequence '\\m'\n",
      "  plt.xlabel('Longitud de onda ($\\mu$m)')\n"
     ]
    },
    {
     "data": {
      "image/png": "[encoded data removed]",
      "text/plain": [
       "<Figure size 600x400 with 1 Axes>"
      ]
     },
     "metadata": {},
     "output_type": "display_data"
    }
   ],
   "source": [
    "import matplotlib.pyplot as plt\n",
    "\n",
    "# librería para transformación de espectro a código RGB\n",
    "from empylib.ref_spectra import color_system as cs\n",
    "cs = cs.srgb\n",
    "\n",
    "# formateamos el lienzo de la figura\n",
    "fig, ax = plt.subplots()\n",
    "fig.set_size_inches(6, 4)\n",
    "plt.rcParams['font.size'] = '14'\n",
    "\n",
    "# Graficamos cada curva del estandar CIE XYZ\n",
    "plt.fill(cs.lam_cmf,cs.cmf[:,0],color='red'  ,alpha=0.5,edgecolor=None,label='$\\overline{x}~(\\lambda)$')\n",
    "plt.fill(cs.lam_cmf,cs.cmf[:,1],color='green',alpha=0.5,edgecolor=None,label='$\\overline{y}~(\\lambda)$')\n",
    "plt.fill(cs.lam_cmf,cs.cmf[:,2],color='blue' ,alpha=0.5,edgecolor=None,label='$\\overline{z}~(\\lambda)$')\n",
    "\n",
    "# Ajustamos formato de ejes\n",
    "plt.ylim(0,2)\n",
    "plt.tick_params(left = False,labelleft = False)\n",
    "plt.xlabel('Longitud de onda ($\\mu$m)')\n",
    "plt.legend();"
   ]
  },
  {
   "cell_type": "markdown",
   "id": "411f3a24",
   "metadata": {
    "slideshow": {
     "slide_type": "slide"
    }
   },
   "source": [
    "Posterior a esto, el código de colores $\\mathrm{RGB}$ se determina a partir del sistema:\n",
    "\n",
    "\\begin{equation*}\n",
    "\\begin{bmatrix}\n",
    "0.187 & 0.063 & 0.064 \\\\\n",
    "0.092 & 0.212 & 0.025 \\\\\n",
    "0     & 0.024 & 0.334 \\\\\n",
    "\\end{bmatrix}\\left[\\begin{array}{c} \\mathrm{R} \\\\\\mathrm{G} \\\\\\mathrm{B} \\end{array}\\right] =\n",
    "\\left[\\begin{array}{c} x \\\\y \\\\z\\end{array}\\right]\n",
    "\\end{equation*}"
   ]
  },
  {
   "cell_type": "markdown",
   "id": "df1ee659",
   "metadata": {
    "slideshow": {
     "slide_type": "fragment"
    }
   },
   "source": [
    "donde $xyz$ están dados por:\n",
    "\n",
    "\\begin{equation*}\n",
    "x = \\frac{X}{X+Y+Z},\\quad\\quad\\quad y = \\frac{Y}{X+Y+Z},\\quad\\quad\\quad z = \\frac{Z}{X+Y+Z},\n",
    "\\end{equation*}"
   ]
  },
  {
   "cell_type": "markdown",
   "id": "f5c25230",
   "metadata": {
    "slideshow": {
     "slide_type": "slide"
    }
   },
   "source": [
    "## Modelos de colores\n"
   ]
  },
  {
   "cell_type": "markdown",
   "id": "c95eb815",
   "metadata": {
    "slideshow": {
     "slide_type": "fragment"
    }
   },
   "source": [
    "### Coloración aditiva\n",
    "Es un modelo que explica la obtención de un color a partir de la suma de los componentes primarios, comúnmente, rojo, verde y azul. La coloración aditiva es el método utilizado en monitores electrónicos, como LCD, LED, oLED, etc."
   ]
  },
  {
   "cell_type": "markdown",
   "id": "a31b72fe",
   "metadata": {
    "slideshow": {
     "slide_type": "fragment"
    }
   },
   "source": [
    "<img src=\"./images/additive_colors.jpg\" width=\"700px\" align= center>"
   ]
  },
  {
   "cell_type": "markdown",
   "id": "e59ea155",
   "metadata": {
    "slideshow": {
     "slide_type": "slide"
    }
   },
   "source": [
    "Analicemos el siguiente modelo de colores aditivos."
   ]
  },
  {
   "cell_type": "code",
   "execution_count": 3,
   "id": "fae750d9",
   "metadata": {
    "cell_style": "split",
    "slideshow": {
     "slide_type": "fragment"
    },
    "tags": [
     "hide-input"
    ]
   },
   "outputs": [
    {
     "name": "stderr",
     "output_type": "stream",
     "text": [
      "<>:36: SyntaxWarning: invalid escape sequence '\\m'\n",
      "<>:36: SyntaxWarning: invalid escape sequence '\\m'\n",
      "/tmp/ipykernel_1299/2557733426.py:36: SyntaxWarning: invalid escape sequence '\\m'\n",
      "  ax.set_xlabel('Longitud de onda ($\\mu$m)')\n"
     ]
    }
   ],
   "source": [
    "# importamos librerías necesarias\n",
    "import empylib as em\n",
    "import empylib.nklib as nk\n",
    "import empylib.ref_spectra as rf\n",
    "import empylib.waveoptics as wv\n",
    "import matplotlib.pyplot as plt\n",
    "import numpy as np\n",
    "\n",
    "def plot_additive_color(R,G,B):\n",
    "    # lienzo para la figura\n",
    "    fig, ax = plt.subplots()          \n",
    "    fig.set_size_inches(6, 4)         # Tamaño del gráfico\n",
    "    plt.rcParams['font.size'] = '14'  # tamaño de  fuente\n",
    "\n",
    "    # Espectro de longitudes de onda entre 300 y 800 nm\n",
    "    lam = np.linspace(0.3,0.8,500)\n",
    "\n",
    "    # Generamos un material con emisividad en rojo, verde y azul\n",
    "    wn = em.convert_units(np.array([450, 520, 630]),'nm','eV')\n",
    "    wp = [B*0.02,G*0.02,R*0.02]  # Frecuencia wp (eV)\n",
    "    T  = 0.05    # Taza de decaimiento (eV)\n",
    "\n",
    "    eps_mat = complex(1,0)\n",
    "    for i in range(len(wn)):\n",
    "        # constante dieléctrica según modelo de Lorentz\n",
    "        eps_mat = eps_mat + (nk.lorentz(0,wp[i],wn[i],T,lam))**2\n",
    "\n",
    "    N_mat = np.sqrt(eps_mat)\n",
    "\n",
    "    Rw, Tw = wv.incoh_multilayer(lam,0, (1.0,N_mat,1.0), 200)\n",
    "    Ew = 1 - Rw - Tw;\n",
    "\n",
    "    # Graficamos el espectro de emisión\n",
    "    ax.plot(lam*1E3,Ew*100)\n",
    "    ax.set_ylabel('Emisividad (%)')\n",
    "    ax.set_xlabel('Longitud de onda ($\\mu$m)')\n",
    "    ax.set_ylim(0,100)\n",
    "\n",
    "    # interpretacion de colores\n",
    "    Dcircle = 0.30\n",
    "    ax2 = fig.add_axes([0.63,0.55, Dcircle, Dcircle])\n",
    "    html_rgb = cs.spec_to_rgb(Ew*rf.AM15(lam),lam, out_fmt='html')\n",
    "    Circle = plt.Circle((0, 0), Dcircle, color=html_rgb)\n",
    "    ax2.add_patch(Circle)\n",
    "    ax2.set_aspect('equal')\n",
    "    ax2.set_xlim(-Dcircle*1.2,Dcircle*1.2)\n",
    "    ax2.set_ylim(-Dcircle*1.2,Dcircle*1.2)\n",
    "    ax2.set_xticks([])\n",
    "    ax2.set_yticks([])\n",
    "    ax2.set_facecolor('k');"
   ]
  },
  {
   "cell_type": "code",
   "execution_count": 4,
   "id": "9c8baf14",
   "metadata": {
    "cell_style": "split",
    "tags": [
     "hide-input"
    ]
   },
   "outputs": [
    {
     "data": {
      "application/vnd.jupyter.widget-view+json": {
       "model_id": "8979c60da0564a8bae3972d08e32cf7c",
       "version_major": 2,
       "version_minor": 0
      },
      "text/plain": [
       "interactive(children=(FloatSlider(value=1.0, description='R', max=1.0), FloatSlider(value=1.0, description='G'…"
      ]
     },
     "metadata": {},
     "output_type": "display_data"
    }
   ],
   "source": [
    "from ipywidgets import interact\n",
    "\n",
    "@interact(R=(0,1,0.1), G=(0,1,0.1), B=(0,1,0.1))\n",
    "def g(R = 1, G = 1, B = 1):\n",
    "    return plot_additive_color(R,G,B)"
   ]
  },
  {
   "cell_type": "markdown",
   "id": "ef5c2184",
   "metadata": {
    "slideshow": {
     "slide_type": "slide"
    }
   },
   "source": [
    "### Coloración sustractiva\n",
    "Se basa en la formación de colores a partir de la sustracción de colores primarios. Comúnmente, se utilizan los colores amarillo, cian y magenta."
   ]
  },
  {
   "cell_type": "markdown",
   "id": "bfe5809a",
   "metadata": {
    "slideshow": {
     "slide_type": "fragment"
    }
   },
   "source": [
    "El modelo, explica la coloración de muchas frutas, verduras y plantas. Además, es la técnica utilizada en impresión a color, fotografía y cinematografía.\n",
    "\n",
    "<img src=\"./images/substractive_colors.png\" width=\"700px\" align= center>"
   ]
  },
  {
   "cell_type": "markdown",
   "id": "01e2ccda",
   "metadata": {
    "slideshow": {
     "slide_type": "slide"
    }
   },
   "source": [
    "El siguiente modelo explica el concepto de coloración sustractiva"
   ]
  },
  {
   "cell_type": "code",
   "execution_count": 5,
   "id": "e19abd25",
   "metadata": {
    "cell_style": "split",
    "slideshow": {
     "slide_type": "fragment"
    },
    "tags": [
     "hide-input"
    ]
   },
   "outputs": [
    {
     "name": "stderr",
     "output_type": "stream",
     "text": [
      "<>:37: SyntaxWarning: invalid escape sequence '\\m'\n",
      "<>:37: SyntaxWarning: invalid escape sequence '\\m'\n",
      "/tmp/ipykernel_1299/4180674029.py:37: SyntaxWarning: invalid escape sequence '\\m'\n",
      "  ax.set_xlabel('Longitud de onda ($\\mu$m)')\n"
     ]
    }
   ],
   "source": [
    "# importamos librerías necesarias\n",
    "import empylib as em\n",
    "import empylib.nklib as nk\n",
    "import empylib.ref_spectra as rf\n",
    "import empylib.waveoptics as wv\n",
    "import matplotlib.pyplot as plt\n",
    "import numpy as np\n",
    "\n",
    "def plot_substractive_color(R,G,B):\n",
    "    # lienzo para la figura\n",
    "    fig, ax = plt.subplots()          \n",
    "    fig.set_size_inches(6, 4)         # Tamaño del gráfico\n",
    "    plt.rcParams['font.size'] = '14'  # tamaño de  fuente\n",
    "\n",
    "    # Espectro de longitudes de onda entre 300 y 800 nm\n",
    "    lam = np.linspace(0.3,0.8,100)\n",
    "\n",
    "    # Generamos un material con emisividad en rojo, verde y azul\n",
    "    wn = em.convert_units(np.array([450, 520, 630]),'nm','eV')\n",
    "    wp = [B*0.02,G*0.02,R*0.02]  # Frecuencia wp (eV)\n",
    "    T  = 0.05                    # Tasa de decaimiento (eV)\n",
    "    \n",
    "    eps_mat = complex(1,0)\n",
    "    for i in range(len(wn)):\n",
    "        # constante dieléctrica según modelo de Lorentz\n",
    "        eps_mat = eps_mat + (nk.lorentz(0,wp[i],wn[i],T,lam))**2\n",
    "\n",
    "    N_mat = np.sqrt(eps_mat)\n",
    "\n",
    "    Rw, Tw = wv.incoh_multilayer(lam,0, (1.0,N_mat,1.0), 200)\n",
    "    Ew = 1 - Rw - Tw\n",
    "    Rw = (1 - Ew)\n",
    "\n",
    "    # Graficamos el espectro de emisión\n",
    "    ax.plot(lam*1E3,(1 - Ew)*100)\n",
    "    ax.set_ylabel('Reflectancia (%)')\n",
    "    ax.set_xlabel('Longitud de onda ($\\mu$m)')\n",
    "    ax.set_ylim(0,100)\n",
    "\n",
    "    # interpretacion de colores\n",
    "    Dcircle = 0.30\n",
    "    ax2 = fig.add_axes([0.63,0.55, Dcircle, Dcircle])\n",
    "    html_rgb = cs.spec_to_rgb(Rw*rf.AM15(lam),lam, out_fmt='html')\n",
    "    Circle = plt.Circle((0, 0), Dcircle, color=html_rgb)\n",
    "    ax2.add_patch(Circle)\n",
    "    ax2.set_aspect('equal')\n",
    "    ax2.set_xlim(-Dcircle*1.2,Dcircle*1.2)\n",
    "    ax2.set_ylim(-Dcircle*1.2,Dcircle*1.2)\n",
    "    ax2.set_xticks([])\n",
    "    ax2.set_yticks([])\n",
    "    ax2.set_facecolor('k');\n",
    "    \n",
    "    plt.show()"
   ]
  },
  {
   "cell_type": "code",
   "execution_count": 6,
   "id": "cea13ba8",
   "metadata": {
    "cell_style": "split",
    "scrolled": true,
    "tags": [
     "hide-input"
    ]
   },
   "outputs": [
    {
     "data": {
      "application/vnd.jupyter.widget-view+json": {
       "model_id": "ace25ef81a0d49bea33d4318c243628c",
       "version_major": 2,
       "version_minor": 0
      },
      "text/plain": [
       "interactive(children=(FloatSlider(value=1.0, description='R', max=1.0), FloatSlider(value=0.0, description='G'…"
      ]
     },
     "metadata": {},
     "output_type": "display_data"
    }
   ],
   "source": [
    "from ipywidgets import interact\n",
    "\n",
    "@interact(R=(0,1,0.1), G=(0,1,0.1), B=(0,1,0.1))\n",
    "def g(R = 1, G = 0, B = 0):\n",
    "    return plot_substractive_color(R,G,B)"
   ]
  },
  {
   "cell_type": "markdown",
   "id": "17c1dc23",
   "metadata": {
    "slideshow": {
     "slide_type": "slide"
    }
   },
   "source": [
    "## Referencias\n",
    "**Hetch E., *Óptica*, 5ta Ed, Pearson, 2017**\n",
    "- Capítulo 4.9: Aspectos conocidos de la interacción de la luz y la materia"
   ]
  }
 ],
 "metadata": {
  "celltoolbar": "Slideshow",
  "kernelspec": {
   "display_name": "Python 3 (ipykernel)",
   "language": "python",
   "name": "python3"
  },
  "language_info": {
   "codemirror_mode": {
    "name": "ipython",
    "version": 3
   },
   "file_extension": ".py",
   "mimetype": "text/x-python",
   "name": "python",
   "nbconvert_exporter": "python",
   "pygments_lexer": "ipython3",
   "version": "3.12.2"
  },
  "latex_envs": {
   "LaTeX_envs_menu_present": true,
   "autoclose": false,
   "autocomplete": false,
   "bibliofile": "biblio.bib",
   "cite_by": "apalike",
   "current_citInitial": 1,
   "eqLabelWithNumbers": true,
   "eqNumInitial": 1,
   "hotkeys": {
    "equation": "Ctrl-E",
    "itemize": "Ctrl-I"
   },
   "labels_anchors": false,
   "latex_user_defs": false,
   "report_style_numbering": false,
   "user_envs_cfg": true
  },
  "toc": {
   "base_numbering": 1,
   "nav_menu": {},
   "number_sections": true,
   "sideBar": true,
   "skip_h1_title": true,
   "title_cell": "Tabla de contenidos",
   "title_sidebar": "Contenidos",
   "toc_cell": false,
   "toc_position": {
    "height": "calc(100% - 180px)",
    "left": "10px",
    "top": "150px",
    "width": "307.2px"
   },
   "toc_section_display": true,
   "toc_window_display": false
  },
  "varInspector": {
   "cols": {
    "lenName": 16,
    "lenType": 16,
    "lenVar": 40
   },
   "kernels_config": {
    "python": {
     "delete_cmd_postfix": "",
     "delete_cmd_prefix": "del ",
     "library": "var_list.py",
     "varRefreshCmd": "print(var_dic_list())"
    },
    "r": {
     "delete_cmd_postfix": ") ",
     "delete_cmd_prefix": "rm(",
     "library": "var_list.r",
     "varRefreshCmd": "cat(var_dic_list()) "
    }
   },
   "types_to_exclude": [
    "module",
    "function",
    "builtin_function_or_method",
    "instance",
    "_Feature"
   ],
   "window_display": false
  },
  "widgets": {
   "application/vnd.jupyter.widget-state+json": {
    "state": {
     "03c05d040341486bba30831384b33388": {
      "model_module": "@jupyter-widgets/controls",
      "model_module_version": "2.0.0",
      "model_name": "FloatSliderModel",
      "state": {
       "_dom_classes": [],
       "_model_module": "@jupyter-widgets/controls",
       "_model_module_version": "2.0.0",
       "_model_name": "FloatSliderModel",
       "_view_count": null,
       "_view_module": "@jupyter-widgets/controls",
       "_view_module_version": "2.0.0",
       "_view_name": "FloatSliderView",
       "behavior": "drag-tap",
       "continuous_update": true,
       "description": "B",
       "description_allow_html": false,
       "disabled": false,
       "layout": "IPY_MODEL_6da6bfbf6cda4d399a3ce6f8ddca8143",
       "max": 1.0,
       "min": 0.0,
       "orientation": "horizontal",
       "readout": true,
       "readout_format": ".2f",
       "step": 0.1,
       "style": "IPY_MODEL_3be242bf8b574cd6900ae5339c0dff8b",
       "tabbable": null,
       "tooltip": null,
       "value": 1.0
      }
     },
     "10153e86636a4a8e9028bb3426dddbb7": {
      "model_module": "@jupyter-widgets/controls",
      "model_module_version": "2.0.0",
      "model_name": "SliderStyleModel",
      "state": {
       "_model_module": "@jupyter-widgets/controls",
       "_model_module_version": "2.0.0",
       "_model_name": "SliderStyleModel",
       "_view_count": null,
       "_view_module": "@jupyter-widgets/base",
       "_view_module_version": "2.0.0",
       "_view_name": "StyleView",
       "description_width": "",
       "handle_color": null
      }
     },
     "337f88f09a6748c7af810eb5bd0758a8": {
      "model_module": "@jupyter-widgets/base",
      "model_module_version": "2.0.0",
      "model_name": "LayoutModel",
      "state": {
       "_model_module": "@jupyter-widgets/base",
       "_model_module_version": "2.0.0",
       "_model_name": "LayoutModel",
       "_view_count": null,
       "_view_module": "@jupyter-widgets/base",
       "_view_module_version": "2.0.0",
       "_view_name": "LayoutView",
       "align_content": null,
       "align_items": null,
       "align_self": null,
       "border_bottom": null,
       "border_left": null,
       "border_right": null,
       "border_top": null,
       "bottom": null,
       "display": null,
       "flex": null,
       "flex_flow": null,
       "grid_area": null,
       "grid_auto_columns": null,
       "grid_auto_flow": null,
       "grid_auto_rows": null,
       "grid_column": null,
       "grid_gap": null,
       "grid_row": null,
       "grid_template_areas": null,
       "grid_template_columns": null,
       "grid_template_rows": null,
       "height": null,
       "justify_content": null,
       "justify_items": null,
       "left": null,
       "margin": null,
       "max_height": null,
       "max_width": null,
       "min_height": null,
       "min_width": null,
       "object_fit": null,
       "object_position": null,
       "order": null,
       "overflow": null,
       "padding": null,
       "right": null,
       "top": null,
       "visibility": null,
       "width": null
      }
     },
     "36edc9c12e58432cb50dec795afdde08": {
      "model_module": "@jupyter-widgets/base",
      "model_module_version": "2.0.0",
      "model_name": "LayoutModel",
      "state": {
       "_model_module": "@jupyter-widgets/base",
       "_model_module_version": "2.0.0",
       "_model_name": "LayoutModel",
       "_view_count": null,
       "_view_module": "@jupyter-widgets/base",
       "_view_module_version": "2.0.0",
       "_view_name": "LayoutView",
       "align_content": null,
       "align_items": null,
       "align_self": null,
       "border_bottom": null,
       "border_left": null,
       "border_right": null,
       "border_top": null,
       "bottom": null,
       "display": null,
       "flex": null,
       "flex_flow": null,
       "grid_area": null,
       "grid_auto_columns": null,
       "grid_auto_flow": null,
       "grid_auto_rows": null,
       "grid_column": null,
       "grid_gap": null,
       "grid_row": null,
       "grid_template_areas": null,
       "grid_template_columns": null,
       "grid_template_rows": null,
       "height": null,
       "justify_content": null,
       "justify_items": null,
       "left": null,
       "margin": null,
       "max_height": null,
       "max_width": null,
       "min_height": null,
       "min_width": null,
       "object_fit": null,
       "object_position": null,
       "order": null,
       "overflow": null,
       "padding": null,
       "right": null,
       "top": null,
       "visibility": null,
       "width": null
      }
     },
     "3863374911354122aa7dbcd96504d3b4": {
      "model_module": "@jupyter-widgets/controls",
      "model_module_version": "2.0.0",
      "model_name": "SliderStyleModel",
      "state": {
       "_model_module": "@jupyter-widgets/controls",
       "_model_module_version": "2.0.0",
       "_model_name": "SliderStyleModel",
       "_view_count": null,
       "_view_module": "@jupyter-widgets/base",
       "_view_module_version": "2.0.0",
       "_view_name": "StyleView",
       "description_width": "",
       "handle_color": null
      }
     },
     "39413acb49864b4f9b38b4ac98b39b5f": {
      "model_module": "@jupyter-widgets/output",
      "model_module_version": "1.0.0",
      "model_name": "OutputModel",
      "state": {
       "_dom_classes": [],
       "_model_module": "@jupyter-widgets/output",
       "_model_module_version": "1.0.0",
       "_model_name": "OutputModel",
       "_view_count": null,
       "_view_module": "@jupyter-widgets/output",
       "_view_module_version": "1.0.0",
       "_view_name": "OutputView",
       "layout": "IPY_MODEL_ad96c70033714f288e20262d4e8d34f6",
       "msg_id": "",
       "outputs": [
        {
         "data": {
          "image/png": "iVBORw0KGgoAAAANSUhEUgAAAiwAAAGICAYAAABiEruMAAAAOXRFWHRTb2Z0d2FyZQBNYXRwbG90bGliIHZlcnNpb24zLjguNCwgaHR0cHM6Ly9tYXRwbG90bGliLm9yZy8fJSN1AAAACXBIWXMAAA9hAAAPYQGoP6dpAABohklEQVR4nO3deVhUZfsH8O+ZhQFm2DcBEZFQzCVzN9wrtbL9l2ZpammmWa9LufRmbplaLi1v5VuU2mq9LWqLYZZLmZp77qIgoIgKyDbAMMvz+wNnFEGFYYYzA9/PdXEp5xzO3OcMyO3z3M99JCGEABEREZELU8gdABEREdGNMGEhIiIil8eEhYiIiFweExYiIiJyeUxYiIiIyOUxYSEiIiKXx4SFiIiIXB4TFiIiInJ5TFiIiIjI5TFhISIiIpfnkgnLZ599hjFjxqBjx47QaDSQJAkrVqy45vEFBQWYNGkSoqOjodFo0LRpU7z44osoKiqq8niLxYJ33nkHbdq0gZeXF0JCQjBkyBCkpKQ46YqIiIioNiRXfJZQ06ZNkZaWhuDgYGi1WqSlpWH58uUYMWJEpWP1ej26d++Offv2oV+/frj11luxd+9erF+/Hp06dcKWLVvg6elZ4WtGjx6NxMREtGrVCvfccw8yMzPx9ddfQ6fTYfv27YiLi6ujKyUiIqLqcMkRlsTERJw6dQoXLlzAM888c91jX3/9dezbtw9Tp05FUlISFixYgKSkJEydOhU7d+7E0qVLKxy/ceNGJCYmomfPntizZw8WLlyITz/9FKtXr0Zubi7Gjx/vzEsjIiIiO7hkwnLHHXcgOjr6hscJIZCYmAidTocZM2ZU2DdjxgzodDokJiZW2P7hhx8CAObOnQsPDw/b9rvuugu9e/fG+vXrkZ6e7oCrICIiIkdxyYSlupKTk5GZmYmEhARotdoK+7RaLRISEpCSkoKMjAzb9k2bNtn2Xa1///4AgM2bNzs3cCIiIqoRldwB1EZycjIAXLPmJC4uDklJSUhOTkZUVBT0ej3Onj2L1q1bQ6lUVnn8leetisFggMFgsH1usViQm5uLoKAgSJJUm8shIiJqUIQQKCwsREREBBSK64+huHXCkp+fDwDw8/Orcr+vr2+F42p6fFXmz5+P2bNn2xcwERERVZKRkYHGjRtf9xi3TljkMH36dEyaNMn2eX5+Ppo0aYKMjAxbwlNbfyRfQHahAUIAFiFgQXkWKoSA5dI2s6V8cZfZcnmbxYLLX3PpGOvXmi0CZiEAYf2aK44RgOXSfottH2yfm4WA2XLpmEv7TZbyfaYrvsa27dKf5ksfpiv2my2AyWKB661Nqx6lQoKHSoKXSgmNWgmNWgFPtRKeKiW8Ln3upVbCU62At4cKnury7V4e5Z97eyjh5aGCVq2Et0YJb40KWg8ltBoVtB4qKBQcpSOihqOgoABRUVHw8fG54bFunbBYR0quNSJSUFBQ4biaHl8VjUYDjUZTabuvr6/DEpZ7OjjmPK7MmtiUJzQWmMzln1f4u9kCo7l8m9Fc/rnJImA0W4+xoMy63SxgMFtsfy8zW1BmssBotn4IGEyXt5WZLLZjykwWGExm236D7cMMg7H8OCsBwADAYAZgBlCKS38xO+S+6DQqaDVK6DQq+Hiq4eOpgq/1Ty81/LzU8L30d39vD/h7qeHvrYa/lwd8PJnwEJF7qk5JhVsnLDeqObm6xkWr1SI8PBypqakwm82V6lhuVBNDjqNQSPCw/XKtXE/kSiyW8gTIYLSg1GRGqdGMUqPl0p9mlFzxeYnRjOKy8u3FZSYUl5lRUla+rfzDBH2ZGcWG8n1FBhP0BhNMl0bMigwmFBlMOAfDDaKqTCEB/t4eCPBWI8DbAwFaDwTrPBCs0yBI64EgnQYhPpc/fDQq1l0Rkdtw+4QlIiICW7duhV6vr7BSSK/XY+vWrYiJiUFUVJRte69evbBq1Sps3boVPXv2rHC+pKQkAKi0nRo2hUKCp0IJT7USflA7/PxClI/+6C8lK4Wl1g9jhT8LSo3ILzGioMSE/BKj7SOvuAz6MjMsAsjVlyFXXwZAf8PX9VQrEOrjiUa+ngjz80QjXw0a+Xkh0t8TEf5eiPT3QqDWg0kNEbkEt05YJEnCqFGjMGfOHMydOxcLFiyw7Zs7dy6Kiorw0ksvVfiap59+GqtWrcKMGTPw66+/2nqxrFu3Dps2bUK/fv2q1QOGyFEkSSqvg1ErEaSrPN1YHWUmC/KKy3Cx2IhcfRkuFpchR1+G3KIy5OgNyCkqw4UiA7ILDbhQaEChwYRSowXpucVIzy2+5nk91Qo0DvBGk0BvRAV4ISrQG02DtIgJ0SIqwBseKrfujEBE12C2COToDcguLEN2kcH299ziMkzp30KW/8i4ZGv+xMRE/PnnnwCAAwcOYM+ePUhISMBNN90EAOjevTtGjRoFoHwkJSEhAfv370e/fv3Qvn177Nmzx9aaf/PmzfDy8qpw/qtb8589exZfffUVdDodtm3bhubNm1c71oKCAvj5+SE/P99hNSxEzlZSZsb5wlKcLzQgK78U5wpKkZVfirP5pcjML8GZiyU4X3j9aSmlQkJUgBeahegQF6ZD81AfxIXpcFOoDt4ebv1/IaJ6rbDUiMy88p/1c/mlyCq4/G/A+UIDzhcakFNkgOUa2cGBWf3g4+mY0eaa/A51yYRlxIgRWLly5TX3Dx8+vMLDEPPz8zFr1ix8++23yMrKQnh4OB555BHMnDmzyspji8WC//znP/jggw9w4sQJ6HQ63HHHHZg3bx5iY2NrFCsTFqqvDCYzsvJLkZFbYhuJSc/V41R2MVKz9SgxVl1oLElATLAWN4f7olWEH26O8EXbSD8EaD2qPJ6IHKuw1Ii0nGJk5Bbj9MUSZFws//PMxRJk5pWg0GCq1nkkCQjSXqqDu1QPF6zT4Pnb4+DnxYTF7TBhoYZICIFzBQakZBfh5PkiJJ8vwvFzhUg+V4QcfVmVX9M0yBvtovzRLsofHaIDcXOEL5Rc1URklzKTBWk5epy8UISTF8r/TMspRlqOHtlFVf8MXsnfW41wP69LtWueCPO1fmgQ6uOJUB8NArUeUCmdO+3LhKUOMWEhquhCoQGHzxbgUGY+DmcW4FBmAVKzKxcB+3iq0KlpILrEBKJbbBBaR/hxWTbRVSwWgVM5ehzNKsSxrEIcP1eIY+cKkZZTbOvHVZUgrQeiAr0RFeiNxgFeiArwRmRAeVF9uJ8XtBrXmLZlwlKHmLAQ3VhecRn2ZeRhX0Ye9qbnYU/axUrD0oFaD/SMC0bvFqHoERdsdwEykbuyWARSsouwLyMfB8/k25J+fVnV0686jQqxoTrEhmgRG6JD0yAtooO8ER3k7bAaE2djwlKHmLAQ1ZzZInA4swA7UnOwPSUXO1JyKiQwkgR0ahqIu1s3woDW4Wjk5yljtORIFosFmZmZ8PHxafBL5vUGU3kSn3YR+8/k48CZPBSVVk5OPFQKxIXqyj/CdIgL88FNITqE+Ghc7h7W5NlAABOWOsWEhaj2jGYL9qRdxKbjF7Dp2AUcOVtQYX/H6ADc3y4C990SCT9v9/ifI1Xt9OnTFXpjUf1UnWcDAUxY6hQTFiLHO5NXgl8OZmHdgbPYlXbRtt1DpcCAVo0wqGMUbosNYs2LG8rPz4e/v7/cYZCT5eXlXfcxN1ZMWOoQExYi58rKL8VPB87if7sycDSr0LY9KtALTyXE4JGOUS5TQEg3Zv03k+q36v5OZMJSh5iwENUNIQQOninA17sysGbfGRSUlte8+Hqq8HjXaIy4rSnCfFnr4uqYsDQMTFhcEBMWorpXUmbGN3tO4+M/U21Lpj2UCjzetQnG97mJK4xcGBOWhoEJiwtiwkIkH7NFYMORc/hwS4qt1kXrocTons0wqkcz6DhV5HKYsDQMzkhY+OQyInJbSoWE/q0a4X/PdMOnT3VG60hf6MvMeHNDMnq+vhFf7UwH/09GVD8wYSEitydJEnrEhWDts93x7mPtEROsRa6+DFO/PYBHP9iOlAtFcodIRLXEhIWI6g2FQsI9bcOxfmJP/PvulvBUK7AjNRcD3voD//k9GWUmi9whEpGdWMNSS6xhIXJdGbnF+Pfqg9hy/AIAoHWkL95/vAOiAr1ljqzhqk81LAqNBv5tWyHg1rbQRkfBKzwMXpER8I6KhFdYCBQaDSSVEpAkCLMZwmiCIScXJWfOojjjDErOZqHkzFnk/XMIubv3oexintyX5DAsunVBTFiIXJsQAmv3Z2LW2kO4WGyEr6cKSwa1wx03h8kdWoPkzgmLJiQYEff0Q0hCFwR16Qjfls2hUKkgLBYIkwmQJCjU1evEbDGZICwWSAolFColAKD4dCayt+9Czo5dyPz5VxQcPurMy3EqJiwuiAkLkXvIzCvBs1/swd70PADA2N6xmHxnc6iUnBmvS+6WsPjGN0fkfXeh8YMDEdS5ffloiclU7cSkpizWxEephD4tAxnf/YAza9fhwp/by5MiN8GExQUxYSFyH2UmC+avO4LlW08BALo1C8J/n+gAXzd5sm194A4Ji9LLC9GPPoTmz49BQLs2sJjNkCQJUjUe5udoFqMRCrUapReyceL9j3Hig5UoOZNZ53HUFBMWF8SEhcj9/PhPJqZ+8w/0ZWa0ivDFyic7I5jN5uqEKycsutgYxI17CrGjnoDKRwdhsUChVModlo3FZIYkAafXrkPyfz7Eud+3yB3SNbEPCxGRAwxsG4H/PXMbgnUeOJRZgEHLtuFMXoncYZFMvCIj0OmDNzHw+C40f24M1L4+kC5Ny7gShUoJSalE5MD+6PvbGtz513oEJ3SVO6w6w4SFiBqkmyN88fWYboj090JKth6PvP8XTrJfS4PiEeCPdgtn496Te9Fs5OOQFAoo1K7fHdlaPxPY6Vbc+ec69PzxK/i1vlnmqJyPCQsRNVjNQnT4Zmw3xIZokZlfikHLtiH5XOGNv5DcXrOnhuG+tANoMWkclBoPKFSun6hczRpzeL8+uGv/H+j43mKodDqZo3IeJixE1KCF+3nh6zHd0DrSFzn6MoxYvhPnC0vlDoucxDuqMfqs/x5dEt+GSuvtlonK1RRqNSSFArFPD8c9R3cg7PZecofkFExYiKjBC9Jp8MmTXRATrMWZvBKMWrkLxWXus4SUqid21BO458h2hPZOAABZVv04k0KphGdYKPpuWI2O7y+pd6Mt9evdIiKyU6DWA8tHdEKAtxr/nM7H81/ug9nCRZT1gdLLC7d9+RE6f/gWlF5eTuuh4gqsI0axo5/AgL2b4RMXK3NEjsOEhYjokqbBWiQO7wgPlQIbjpzD3B8Pyx0S1ZJXZATu3PoLoh65H0D9G1W5FoVSCW10FPrv3oRG/frKHY5DNIx3joiomjpEB2LpoHYAgBV/ncKn207JGg/ZL6hrJwzYtwV+rVu63BLluqBQq6H09kLvdf9Di4nj5A6n1piwEBFd5Z624Zh2VzwAYO5PR7hyyA1F3nsX7tjyEzz8/er1FNCNKJRKSAoF2i+Zhw5vLwQkSe6Q7MaEhYioCmN6NkOv5iEoM1kw4at9KDNZ5A6Jqinq/+5H9+8+gaRU1otVQI4SN340On3wptsmLUxYiIiqIEkS3vi/tvD3VuNQZgHe+u243CFRNTR+cCASVn0ESaFoMPUq1SVJEmKfGoZOy5bIHYpd+G4SEV1DqK8n5j/YBgDw/qaT2J2WK3NEdD3hd92JhK+WAzI9qNAdSJKEm54egfZvzpc7lBrjO0pEdB13tQnHQ+0jYRHAxK/2Q29gfxZX5NeqJbp/swKSgslKdbT41zOIGzdK7jBqhO8qEdENzLqvFSL9vZCeW4xXfzoidzh0FY/AAPT6+Wso1B6QGuBqIHt1eHsBwvr0kDuMamPCQkR0A76eaix65BYAwKqd6Th4Jl/miMhKUqnQ/btP4RXRyC0eXOhKBIDu330KbUy03KFUCxMWIqJq6BYbhPvbRUAIYP66IxCCXXBdQbvXZyO0RzeuBrKDQqmESuuN3j9/DaWXl9zh3BATFiKianqhXwt4KBXYeiIHW5Kz5Q6nwQvr0wPxE8exZqUWFGo1fOJi0XbuS3KHckN8l4mIqikq0BvDbysfPp//8xE+a0hGKq0WXVa+D4uJRdC1JSmVaDFxHIK7dZY7lOtiwkJEVAPP9rkJvp4qHM0qxHd7TssdToN1y8JZ5XUrnApyCGGxoOuny6D09JQ7lGtiwkJEVAP+3h4Y3/cmAMDi9cdRajTLHFHDE9LzNjR/dlSDfD6QsyhUKuiaNkGbOa47NcSEhYiohp7o1hSR/l7IKijFR3+myh1OwyJJ6PDWAk4FOYGkVKLFhLEuu2qICQsRUQ15qpV4sX8LAOUdcPOKy2SOqOFo8sgDCGjXhlNBTtR27r/lDqFKTFiIiOxw3y0RiG/kgyKDCat2ZsgdToMgqVS4ZcFMCDOn4ZxFoVYhesjD8G/bWu5QKmHCQkRkB4VCwpMJMQCAT7elccVQHYh9ahi0TZuwm62TCbMFtyyYKXcYlTBhISKy033tIhDgrcaZvBJsOHJO7nDqNUmhQKuXXwDYsM/pFGoVIu66AwHt2sgdSgVMWIiI7OSpVmJwpyYAgJV/nZI3mHou/O5+8G4cwSZxdcRiNOKmsU/KHUYFfOeJiGphaNcmUEjAXydzcPxcodzh1FvNx4/myqA6pFCrETPsUaj9fOUOxYYJCxFRLTQO8MadN4cB4CiLs+hiYxDevy9XBtUxhcYDMcOHyB2GDRMWIqJaGn5bUwDAd3vOIL/EKG8w9dBNT4/g6IpMmo8fLXcINkxYiIhqqVuzILQI80GJ0Yz/7eISZ0dr8uhDHF2RgaRQwCcuFr4tW8gdCoB6krAIIfDdd9+hT58+CA8Ph7e3N1q0aIExY8YgJSWl0vEFBQWYNGkSoqOjodFo0LRpU7z44osoKiqSIXoicneSJOGJSw9F/HR7Gixc4uwwvjfHQ9uksdxhNFgWsxmR990ldxgA6knC8sILL+Dhhx/GsWPH8MADD+C5555DTEwMPvzwQ7Rr1w4HDx60HavX69GrVy8sXboU8fHxmDhxIlq0aIFFixahb9++KC0tlfFKiMhdPXhrJHw9VUjLKcbm4xfkDqfeiLx3ACwmNoqTiyRJiHpwoNxhAKgHCUtWVhbefPNNREdH48iRI3j//fexcOFC/PLLL1i8eDEKCwuxZMkS2/Gvv/469u3bh6lTpyIpKQkLFixAUlISpk6dip07d2Lp0qUyXg0RuStvDxUeal8+ErBm3xmZo6k/oh4cCEkhyR1GgyUpFAjsdCs8Q0PkDsX9E5ZTp07BYrEgISEBfn5+FfYNHFieFV64UP6/HSEEEhMTodPpMGPGjArHzpgxAzqdDomJiXUTOBHVOwPbhgMAfjtyHgaOCtSa2t8PgZ1uZe8VmUkKBRr16yt3GO6fsMTFxcHDwwNbt25FQUFBhX0//vgjAOD2228HACQnJyMzMxMJCQnQarUVjtVqtUhISEBKSgoyMq5dNGcwGFBQUFDhg4gIANo3CUCojwaFBhP+OpEjdzhuL7D9LUxWXIClrAyBHdvJHYb7JyxBQUFYsGAB0tPTER8fj7Fjx2Lq1KkYMGAApk6dinHjxmH8+PEAyhMWoDzJqYp1u/W4qsyfPx9+fn62j6ioKAdfERG5K4VCwoDWjQAAPx84K3M07i+w462sX3EBklqNoM4d5A4D9WKd2MSJExEZGYlRo0Zh2bJltu3du3fHY489BtWl5XD5+fkAUGnqyMrX17fCcVWZPn06Jk2aZPu8oKCASQsR2Qxo3QifbEvDr0fOwWi2QK10+/8Xyiawwy0AuOJKbpIkIaBdG0gKBYTFIlsc9eInac6cORg6dCheeuklZGRkoLCwEH/88QdKS0vRu3dvrF271mGvpdFo4OvrW+GDiMiqc9NABGk9kFdsxI6UXLnDcWtBXTux/4qLUHp5wie+uawxuH3CsmHDBsycORPjx4/HtGnT0LhxY+h0OnTv3h0//PAD1Go1Jk+eDODyyMq1RlCs9SjXGoEhIroRlVKBfq3KW/X/fJDTQvZSenmx/4qL8WsVL+vru33Csm7dOgBAnz59Ku1r1KgR4uPjceLECRQVFd2wRuVGNS5ERNVxV+vy1ULrD2XBzCZydvEKD5M7BLqCMJvhHdFI1hjcPmEpKysDcHnp8tUuXLgAhUIBtVqNuLg4REREYOvWrdDr9RWO0+v12Lp1K2JiYliTQkS10i02CH5eamQXlWHnKU4L2cMzXN5fjlSRxWyW/T1x+4QlISEBALBkyZJKUz3Lli3D6dOn0a1bN2g0GkiShFGjRqGoqAhz586tcOzcuXNRVFSE0aNd50FPROSe1EqF7QnOvxzMkjka9+Ql8//mqSJJoZD9PXH7aqZHHnkE77//PrZs2YLmzZvjvvvug7+/P/bs2YPff/8dXl5eFTrdTpkyBWvWrMHChQuxd+9etG/fHnv27MH69evRqVMnTJgwQb6LIaJ6467WjfDN7tP45WAWXhl4MxTs1lojXuFhEGYzJKVS7lAIgEKlgndkuLwxyPrqDqBUKrF+/XrMnz8fkZGR+OKLL/Dmm2/i2LFjGDp0KHbv3o3OnTvbjtdqtdi8eTMmTJiAI0eOYPHixTh69CgmT56M3377DV5eXjJeDRHVF93jgqHTqJBVUIq9GXlyh+N2NEGBsJjZg8WVaGRuz+/2IyxA+VLjadOmYdq0adU63s/PD0uXLuVzg4jIaTQqJW5vGYo1+zLxy8Gz6BAdIHdIbkXicmaXo1DL+564/QgLEZGr6ndz+Zz/luPZMkfifhQqFXvGuRiFSi3v68v66kRE9VjXZoEAgGPnCpGrL5M5GvciLBaAZT8uRcg8RceEhYjISYJ0GsSF6gCAy5tryGIyyR0CXUXu94QJCxGRE3W5NMrCNv01Yy4ugSRxiMWVmK7qX1bXmLAQETlRl5ggAMCO1ByZI3EvJWezoFDLWzNBlwmLBcUZZ2SNwSEJS35+PoxGoyNORURUr3SJKR9hOXy2APkl/HeyukrPnpM7BLqCxWRCiczvSY0TlqKiIixfvhxDhw5FTEwMNBoNAgMD4enpCX9/f/To0QMzZszArl27nBEvEZFbCfX1REywFkIAu9M4LVRdJZnsEOxKJEmS/T2pdsKSkZGBMWPGICIiAk899RS++OILFBQUIDY2Ft26dUO7du0QEBCA7du3Y968eejSpQs6dOiAzz//3JnxExG5POsoC+tYqq/kLBMWV6JQq1Eq83tSrYRl2rRpaNGiBVasWIG+ffvis88+w8mTJ5GTk4PDhw/jzz//xO7du5Gamor8/Hxs3rwZL730EvLy8jBs2DB07NgRe/fudfa1EBG5pM6XEpbtqUxYqsuQkwuTvljuMOgKRalpsr5+tRKWZcuW4YUXXsDZs2exevVqPPbYY4iJianyWG9vb/To0QNz587FyZMnsX79enh7e+OHH35waOBERO6iS7PywtuDZ/KhN3C5brUIgYt7/4EQ7B7nKi7u+UfW169Wn93U1FQEBNjXVvqOO+7AHXfcgYsXL9r19URE7i7S3wuNA7xw+mIJdqddRM/m8j6TxV3k7NiFoM7tIXl4yB1Kg1d0Kh3GggJZY6jWCIu9yYqjz0FE5K64vLnmcnfvh4LJiuwsJhNytsu/kIZ9WIiI6oC18PZv1rFUW+7ufXKHQChfIeQK74VDEpZvvvkGCQkJCAoKQnBwMHr06IHVq1c74tRERPWCtePt/ox8lBrlfSaLuyhMPonSCxyRkpukVOLClr/kDqP2Ccvrr7+OwYMHQ6vVYtSoURg6dChycnLw8MMP46233nJEjEREbq9JoDca+XqizGzBnnTW9FWLEDi9+kdY2JhUVqUXspGzc4/cYdQ+YVmyZAleffVVrF+/HgsXLsSbb76Jf/75BwkJCVi0aJEjYiQicnuSJPG5QkCNV/2cWfsLW/TLyGI04vT3PwIusFqr2gnLXXfdhfT09Erbc3Nz0alTpwrbVCoV2rVrh5wcDuUREVl1Zh0L0nNr1lvl3G+bYS41OCkauhGFWo0za3+ROwwANUhYCgsL0apVK7z11lsVMuTu3btjypQp2LFjB0pLS5Gfn48vv/wSK1asQPfu3Z0SNBGRO7KuFNqTfhEms0XmaOSxvYarpMwlJTi7/ndYTOxfIwdzqQHnftssdxgAapCw/Pnnn1i4cCFmzpyJbt264eDBgwDKm8qVlpbitttug1arRWBgIB5//HE0adIEy5Ytc1rgRETuplmwFloPJQwmC1Kz9XKHI4sdJ2s+8p7y8WdQqKrVNowcyGI04tTnX8NcWip3KABqWMMybtw4HDp0CGFhYejQoQNefvllNG3aFIcOHcJPP/2EpUuXYunSpUhKSsKBAwfQrFkzZ8VNROR2FAoJ8eG+AMqf3tzQWCzCrumwzB+TUHI2i11v65hCrUbyex/JHYZNjYtuIyMjsWbNGnz66af46KOP0KZNG/zxxx8YMGAAnn/+eTz//PO48847IUmSM+IlInJr8Y18AABHswpljqTupebokVdS86kdYTYj+d1EwNIwp9HkYDGbkbtrHy7u2S93KDZ2rxIaNGgQDh8+jISEBPTp0wdjxoxBgcxte4mIXF3LSyMsRxrgCMuB0/l2f+3JxE85wlKHFEoljr/zX7nDqMCuhCU7OxtAebv9jz/+GL/++it+//13tGzZEt9//71DAyQiqk9ahl8aYTnb8EZYDpyxP2EpPXceaV9+C4uRxbfOJiwWlF7IRvrXq+UOpYJqJywGgwETJkyATqdDWFgYdDodJk6ciLKyMvTt2xcHDhzA448/jsGDB+Ohhx5CVlaWM+MmInJLLRqVj7BkFZTior5M5mjqVm0SFgA4MHM+wGoD55MkHHhlvssU21pVO2H597//jbfffhuPPvoo3n33XQwZMgRvv/02Xn75ZQCAp6cnXn/9dezYsQOnTp1Cy5Yt8cEHHzgtcCIid6TTqBAd5A2gYU0LWSwChzNrd7361DScWLacS5ydSJjN0Kdl4GTiJ3KHUkm1E5avv/4agwcPRmJiIp555hl8+OGHGDRoEFatWlXhuFtvvRW7du3C9OnTMWnSJIcHTETk7qyFt0caUOFtao4eRQYTNOraNVg/NPcNtup3IkmpxP5psyFcMCms9neOXq9HaGhohW0hISHQ6yv3ElAoFJgyZQr++eef2kdIRFTPNMTC24OXpoNahPnU6jyl5y/g6BvvQJj5AElHs5hMuPjPQaR/7Zq1qNVOWHr27Inly5dj1apVOH78OL766iusXLkSvXr1uubXsA8LEVFl8Y0aXsJiXSHUKsK31uc6PH8pilLTODXkYJIkYcfI8S7x3KCqVLt14H/+8x/cc889eOyxxyBJEoQQaNu2Ld5++21nxkdEVO/cfGmEJflcEUxmC1TKWj+H1uVZC26to0u1YS4txbZhz+DOra7xjJv6QFgsOPTaEpfqu3K1aicskZGR2LNnD/7++29kZGQgKioKnTt3hkJR/3/QiIgcqXGAF3QaFYoMJqRk69G8ltMkrs5iETh0qeDWESMsAJCzfSeOLnkX8RPHQVIqHXLOhspiMqHw+EkcenWR3KFcV42yDYVCga5du+KRRx5B165dmawQEdlBoZDQwlp42wCmhWwFtyoFYkN0DjvvgRmvcWrIASRJwrZhY2Apc+1l9sw4iIhkYG0gd6QBNJCzFtzeHOHr0Okvc2kp/nhgKCxlZRBs22+33c9Pc+mpIKtqfecMGDAAO3futOsF9Ho9FixYgHfffdeuryciqo8aUuGtteC2TaSfw8+df+gI/hoyChJH/GtMmM048cEKJL+XKHco1VKtd/jChQvo2rUr+vTpg+XLlyM//8bdCrdv347x48cjOjoac+fORVhYWK2DJSKqL6zFp0ezGkDCcmmEpbUTEhYAOLN2Hfb/+1WnnLu+shhNyN6xG7vHT5E7lGqrVtHt7t27sXLlSsyePRtPPfUURo8ejRYtWqBDhw4ICwuDv78/SktLkZubi2PHjmHXrl0oLCyEUqnEo48+ildffRVNmjRx9rUQEbkNaw3LuQIDcvVlCNR6yByRc1xZcOuMERarw68thn+bm9HkkftZhHsDFqMRpefO448HHnerJnzVXiU0fPhwPPHEE/j555+xfPlybNq0CZ999lml4xQKBdq2bYsHH3wQo0aNQnh4uEMDJiKqD6wt+tNyinHkbAESbgqWOySnOHVFwW1cqA7F+iKnvdb24WOh9vNBeL++TFquwWI0oSz3In7rfS8MF7LlDqdGqp2wAOWVxPfccw/uueceAMCRI0dw+vRp5OTkwMvLCyEhIWjVqhX8/JyXRRMR1RctG/nW+4Tlyv4rzu43Yykrwx8PDkOvH79CWJ/uTFquYjGaUJafjw29BqLoZKrc4dRYjRKWq7Vs2RItW7Z0VCxERA1KfLgPfjmUVa9XCllXCDlzOuhKFoMBmwcORo/vPkV4/9shNYCmfNVhMZpgyMnBbz3vQWHySbnDsQvfSSIimTSEwtsDdZywAOVJyx8PPI5TX/yvzl7TlVlMJhSlnsKv3fq5bbICMGEhIpJNy0aXW/QbzfWvj4jFInDwTHky5qwVQtd8baMR2594BntfmAFhsTTYhyUKIXA26XckdewL/al0ucOpFSYsREQysbboLzNbkHJBL3c4DmctuPVQKRAX5rgOtzVxdPF/sHngozCVlMJibDgdca2N9A7PX4o/7hsCU6H7TzsyYSEikolCIeGm0PJf5CkXnLd6Ri7W2pyWjXyglrGW5Oy6X5HUsQ8KjiU3iI64FqMJJn0xtg5+Ev/8e269uWYmLEREMooO8gYApOUWyxyJ41mTsJtC5X+4Y+GxZCS174WDc9+AxWSql6Mt1sQk69eN+Cm+M9K//l7miByLCQsRkYyaBJYnLOn1MGFJzS6f5moWopU5knIWoxEHZy3A+k59baMtQgi5w3II66jK9uFjsfmeQSjJPCt3SA7HhIWISEa2hCWn/iUsJ60JS7BrJCxWF/cdQFL7Xtj34isw5he4dUGuxWiEsFiQuvIL/NSiE1I/WSV3SE7DhIWISEbRQeW/zOvbCIsQAqmXpoRiXGSE5UoWoxFHl7yLtdFtcWj+UphLSmExuc80kXVK68wPSfi5VTf8PfpfKDmbJXNUzmV3wpKRkYExY8YgNjYWXl5eUCqVlT5Uqlr1paux77//HnfeeSeCgoLg6emJmJgYDBkyBBkZGRWOKygowKRJkxAdHQ2NRoOmTZvixRdfRFFR/St6IyLXZh1hOZNXUq+WNufoy1BQaoIkAU2DXC9hsTIWFODAjHlYG3MLkt9NhKm4uHyqyEULVS0mE4TFgqwNm7C+yx348+FhKDh6XO6w6oRdGUVKSgq6dOmCixcvolWrVjAYDIiOjoanpydSUlJgNBpxyy23wN/f38HhVk0IgWeeeQYffPABYmNj8eijj8LHxweZmZnYvHkz0tLSEBUVBQDQ6/Xo1asX9u3bh379+mHIkCHYu3cvFi1ahM2bN2PLli3w9PSsk7iJiEJ9NNCoFDCYLDibV4oml4pw3Z21fiXCzwueatdvkV967jz2TJiOf16eh6ZDB6H580/Dr2ULWIxGKNRqWWOzmExQqFQou5iHEx+sxIn/Loc+NU3WmORgV8Iye/Zs5Ofn47fffkOvXr2gUCgwcuRIvPLKKzh79izGjh2Lw4cPY8OGDY6Ot0pvv/02PvjgA4wbNw5vv/02lFc9P8J0xTDf66+/jn379mHq1KlYsGCBbfu0adOwcOFCLF26FNOnT6+TuImIFAoJUYHeOHG+CGm5+vqTsFxwrYLb6jIVFeHEso9xYtnHCOneDU2fGIzGD9wDz5BgWEwmSEolJElyehzWRMlsMCDr141I/2o10v+3GhaDwemv7arsmhLasGED7r77bvTq1cu2zVppHR4ejq+++goA8NJLLzkgxOsrKSnB7Nmz0axZM7z11luVkhUAtqkpIQQSExOh0+kwY8aMCsfMmDEDOp0OiYmJTo+ZiOhK0fVwpdDJ7PIpdlcruK2JC39uw86nJ+D7sOZI6nw7Di94EwWHj9n2W8xmh9S9CLMZFqPR9nnp+WykrPgCm+8dgm8DYrDl3iE49dlXDTpZAewcYcnOzkZ8fPzlk6hUKC6+/IOm0Whw5513YvXq1bUO8EbWr1+PixcvYuTIkTCbzVi7di2OHz8Of39/3HHHHbjppptsxyYnJyMzMxP9+/eHVlvxh0ir1SIhIQFJSUnIyMiwTSERETlbVD1cKWQdYYlx44TFRgjk7tyD3J17cGDGPKh9fRFwaxsEdmiHgA7tENylA7waR0Cp0VT+0ku1MJKi8viAMFtgyM5G7p5/kLtrb/nH7v0oOZPp9EtyR3YlLMHBwdDr9RU+P3XqVMUTq1TIy8urTWzVsnv3bgCAUqlE27Ztcfz45eIjhUKBiRMnYtGiRQDKExYAiIuLq/JccXFxSEpKQnJy8jUTFoPBAMMVWW5BQf19aBkR1Q1r87j6NMJyuQeLPC35nclYUIDzm7fi/OatFbar/XzhFREOr/AweIU3gkLjUV7/olBAGI2wGI0wXMhBydkslGRmwXAh22WLe12RXQlLXFwcTp68/MTHzp07IykpCSkpKWjWrBkuXLiAb775BrGxsQ4L9FrOnz8PAFiyZAnat2+Pv//+Gy1btsTevXvx9NNPY/HixYiNjcXYsWORn1/+1FA/v6ofwuXrW/4gMutxVZk/fz5mz57t4KsgoobMulIorZ6MsJgtwnYt9WKEpZqM+QUw5heg4MixGx9MNWZXDctdd92FjRs32kZQJkyYgMLCQrRt2xadOnVC8+bNkZWVheeee86RsVbJcik79fDwwOrVq9GpUyfodDr06NED//vf/6BQKLB48WKHvd706dORn59v+7h6yTQRUU1dOcJSHzqvnrlYgjKzBR4qBSL8veQOh+oJuxKWsWPHYtOmTbYC1969e2PVqlWIjo7GwYMHERYWhrfffhujR492aLBVsY6WdOzYERERERX2tW7dGs2aNcPJkyeRl5dnO/ZaIyjW6Z1rjcAA5fU5vr6+FT6IiGqjcUB5wlJkMOFisfEGR7u+lEsFtzFBWigVzl9RQw2DXVNCvr6+6NKlS4VtjzzyCB555BGHBFUTLVq0AIBr9nyxbi8pKbHVrlhrWa52oxoXIiJn8FQr0cjXE1kFpUjL0SNQ6yF3SLWSUp8KbslluH1r/j59+gAAjhw5Ummf0WjEiRMnoNVqERISgri4OERERGDr1q0VioaB8oZyW7duRUxMDFcIEVGdq08PQXS1hx5S/eD2CUtsbCz69euHEydOVOqhsmDBAuTl5eHBBx+ESqWCJEkYNWoUioqKMHfu3ArHzp07F0VFRXUyjUVEdDVrw7j6sLTZNiXEERZyoGpNCSkUCigUChw+fBjNmzeHQqGoVqc/SZIqdJl1lvfeew+33XYbRo8ejdWrVyM+Ph579+7F77//jujoaLzxxhu2Y6dMmYI1a9Zg4cKF2Lt3L9q3b489e/Zg/fr16NSpEyZMmOD0eImIrlavRljctMstubZqJSw9e/aEJEnw9vau8LmriI2Nxa5du/DKK6/gl19+wfr169GoUSM8++yzeOWVVxAaGmo7VqvVYvPmzZg1axa+/fZbbNy4EeHh4Zg8eTJmzpwJLy9WtBNR3bOuFEpz84SlpMyMzPxSAECz4PrXg4XkU62EZdOmTdf93BVERUVh+fLl1TrWz88PS5cuxdKlS50cFRFR9Vi73Wa4ecJirV/x91YjoIri4fqwbJtuzBnvs9vXsBAR1QfW5wllFZSi1GiWORr72Qpur1G/UlhYWJfhkEyc8T7btaw5Pz8faWlpuOmmm2zTRFfS6/U4efIkmjZtyj4lRETVEKj1gNZDCX2ZGacvluCmUPecTkm1FdxWHX9ERAQyMjLg4+PjUqUF5BhCCBQWFlbqi+YIdiUsc+bMwQcffIDMzKof0GQ2m5GQkIBx48Zh4cKFtQqQiKghkCQJTYK0OHK2AOm5erdNWFJuUHCrUCjQuHHjugyJ6tj1mq/Whl1TQr/88gvuvPNO+Pj4VLnf19cX/fv3x88//1yr4IiIGpImgeVF/+68tDnlBlNCRPayK2FJT0+/YTfY2NhYpKen2xUUEVFDFB1U/kveXVcKCSGQcuHSlBCXNJOD2ZWwSJIEg8Fw3WMMBgPMZvctHCMiqmu2XixuOsKSqy9DQakJkgQ0DWLCQo5lV8ISHx+PX3755ZrLliwWC9atW2d7zg8REd2YuzePs64QivDzgqdaKXM0VN/YlbAMGTIEx48fx5NPPlnpycf5+fl48sknceLECQwdOtQhQRIRNQTW5nHpucWwWNyvX0kKnyFETmTXKqHx48fj22+/xcqVK7FmzRp06tQJkZGROHPmDHbu3Im8vDz07NkT48ePd3S8RET1VoS/F5QKCQaTBReKDAjz9ZQ7pBqxrRBiwS05gV0jLGq1Ghs2bMCkSZNgNpvx66+/YsWKFfj1119hsVjw4osvIikpCWq12tHxEhHVW2qlAhH+5UlKmhvWsZy+WB6ztWsvkSPZNcICAJ6enli0aBEWLlyIo0ePIj8/H/7+/mjRogWUSs5dEhHZo0mgNzJyS5CeW4zOMYFyh1MjZy89QyjSn89kI8ezO2GxUiqVaNWqlSNiISJq8JoEarEVOUjP0csdSo2dzSsBAIQzYSEn4LOEiIhcSIRf+ZRQVkGpzJHUjMlsscVsvQYiR7I7YdmwYQPuvvtuhISEQK1WQ6lUVvpQqWo9gENE1KBYC23PFVy/15WrOV9ogEUAaqWEYJ1G7nCoHrIro/j2228xePBgWCwWREdHIz4+nskJEZEDhPqW/7I/52YjLGfzy6eDwnw9oVDwoYbkeHY//NDLywtr1qxB3759HR0TEVGDZR1hOV/oXiMsmXnW6SDWr5Bz2DUldOzYMTz66KNMVoiIHKzRpYQlV18Gg8l9Hm+Seang1rosm8jR7EpYgoKC4O3NdfZERI7m762Gh7L8n+YLbjTKYl3SzBVC5Cx2JSz/93//hw0bNsBkMjk6HiKiBk2SpCvqWNwnYbGNsHCFEDmJXQnLa6+9Bn9/fwwePBjp6emOjomIqEGz1bG4UeGtbYSFNSzkJHYV3bZp0wZGoxHbt2/H6tWr4e/vDz8/v0rHSZKEkydP1jpIIqKGJOzSCIs79WKxrhIKZw0LOYldCYvFYoFKpUKTJk1s24So/GTRqrYREdH1hfq4Vy+WUqMZ2UVlANiWn5zHroTl1KlTDg6DiIis3G1KKOvSdJCXWgk/Lz70lpyDrfmJiFxMI79LRbeF7pGwZF4xHSRJbBpHzsGEhYjIxYS52ZTQWTaNozpQq37627Ztw4YNG5CZmQmDofIPliRJ+Oijj2rzEkREDU6o7XlC7jHCYiu45ZJmciK7EhaTyYQhQ4bgu+++gxACkiRVKLC1fs6EhYio5qyrhApLTSguM8Hbw7Wf1XbGOsLCgltyIrumhBYvXoxvv/0WI0eOxK5duyCEwIQJE7Bt2zYsXLgQ/v7+eOSRR7ikmYjIDjqNCt4eSgDAeTeYFrKOsLAtPzmTXQnL559/jtatWyMxMRHt27cHAPj7+6NLly548cUXsWXLFvz4449ISkpyaLBERA2BJEm2lULu0IvFWsPCpnHkTHYlLCdOnEDv3r1tn0uSBKPRaPu8VatWuPfee/H+++/XOkAiooYo1Mfant/1E5ZMjrBQHbArYfHw8Kjw8EOdTofz589XOCY6OhrJycm1i46IqIG63IvFtaeECkuNKCwtf64cR1jImexKWKKiopCRkWH7PD4+Hlu2bKlQeLt9+3YEBgbWPkIiogaokZ97rBSyPkPIz0sNrca1i4PJvdmVsPTq1atCgjJ48GAcO3YMAwcOxLvvvoshQ4bgzz//xIABAxwaLBFRQ2GbEip07REW61OauaSZnM2udPjJJ5+E2WzGmTNn0LhxYzz33HPYtGkTfvzxR6xbtw4A0LlzZyxYsMChwRIRNRRhbtKLxTrCwiXN5Gx2JSzt27evUFCrVquxdu1a7Nq1CydPnkR0dDQ6d+4MhYKNdImI7OEuzxM6yxEWqiMOnXDs2LEjOnbs6MhTEhE1SNbmcecKDLZGnK4okyMsVEfsGgJRKpWYO3fudY+ZN28eVCoWYBER2SP00vOESoxmFFxaheOKrDUsXNJMzmZXwiKEqLAi6HrHERFRzXl5KOHrWf6fPleeFrLWsHBJMzmb04pMLly4AC8vfgMTEdnr8tJm11wpJIS4PMLChIWcrNpzNp988kmFz/ft21dpGwCYzWZkZGTgk08+QevWrWsfIRFRAxXm64nj54pcdqXQxWIjDCYLACDMTyNzNFTfVTthGTFihK3oS5IkrFmzBmvWrKl0nHUayMvLC7NmzXJMlEREDZC1juVcoWsmLNbRlWCdBhqVUuZoqL6rdsKyfPlyAOUJyZNPPokHHngA999/f6XjlEolAgMD0a1bNwQEBDguUiKiBsa6UshV2/NbE5ZIFtxSHah2wjJ8+HDb3zdv3owHH3wQ9913n1OCIiIi128ex4Jbqkt2rTu2jrYQEZHzXO7F4poJi/UpzeEcYaE6YNcqoR9//BEPPfQQMjMzq9yfmZmJhx56yNamn4iIai7U17VXCZ3Nu9Q0jiMsVAfsSljeffddnDx5EhEREVXuj4iIQGpqKt59991aBUdE1JDZ2vMXlsJicb2+Vmc5wkJ1yK6EZf/+/ejSpct1j+nSpQv27dtnz+mJiAiXn9hsNAtcLC6TOZrKWMNCdcmuhCU3NxehoaHXPSY4OBjZ2dl2BeUICxcuhCRJkCQJ27dvr7S/oKAAkyZNQnR0NDQaDZo2bYoXX3wRRUVFMkRLRFSZWqlAsM4DgOtNCwkhcKGwPCZrYkXkTHYlLCEhITh27Nh1jzl27BgCAwPtCqq2Dh48iJkzZ0Kr1Va5X6/Xo1evXli6dCni4+MxceJEtGjRAosWLULfvn1RWuqaBW5E1PC4ai+WIoPJ1jQuWMeEhZzProSlZ8+e+OGHH/DPP/9UuX///v1Yu3YtevXqVavg7GE0GjF8+HC0a9cODz74YJXHvP7669i3bx+mTp2KpKQkLFiwAElJSZg6dSp27tyJpUuX1nHURERVu9yLxbUSFuvoio9GBS8PNo0j57MrYZk6dSoAoHv37pgzZw62bduG9PR0bNu2DbNnz0aPHj2gUCgwffp0hwZbHfPmzcOhQ4fw8ccfQ6ms/EMkhEBiYiJ0Oh1mzJhRYd+MGTOg0+mQmJhYV+ESEV1XmIuuFLImLMGcDqI6YlfC0rZtW3z++eewWCyYPXs2unfvjpiYGHTv3h2zZ88GAHz55Zdo27atQ4O9kT179mDevHmYOXMmbr755iqPSU5ORmZmJhISEipNGWm1WiQkJCAlJQUZGRl1ETIR0XWFumjzuOyi8iLgEE4HUR2xq3EcADz88MPo0aMHVqxYgZ07dyI/Px/+/v7o3Lkzhg8fjpCQEEfGeUMGgwFPPPEE2rVrhylTplzzuOTkZABAXFxclfvj4uKQlJSE5ORkREVFVfk6BsPl/+kUFBTUMnIiomtz1eZxFy7V1IRwhIXqiN0JCwCEhoZeNzmoS6+88gqSk5Oxe/fuKqeCrPLz8wEAfn5+Ve739fWtcNzV5s+fbxtFIiJytjAfF50SKro0JXRpFRORs9k1JXS13NxcWadQtm3bhkWLFuHll19G69atnfpa06dPR35+vu2DU0dE5EzWGpFcvWv1YckuvDQlxBEWqiN2Jyz5+fn417/+hbCwMISEhCAmJsa2b8eOHbj77ruxe/duhwR5PSaTCcOHD0fbtm0xbdq0Gx5vHVm51giKdYrnWiMwGo0Gvr6+FT6IiJwlSFs+gpFdZIAQrtPt9vIICxMWqht2TQnl5ubitttuw/Hjx9G+fXuEhITgyJEjtv1t27bF1q1b8fnnn6NDhw4OC7YqRUVFtroUD4+qhya7desGAPj+++9txbjWr7najWpciIjqUtClKReDyQJ9mRk6Ta1m8h3GukqIIyxUV+z6zp81axaOHz+OVatWYdCgQZg9ezbmzJlj2+/l5YVevXrh999/d1ig16LRaPDUU09VuW/Lli1ITk7Gfffdh5CQEDRt2hRxcXGIiIjA1q1bodfrK6wU0uv12Lp1K2JiYqosuCUiqmveHip4qZUoMZqRW1TmMglLdhETFqpbdn3nr127FgMHDsSgQYOueUzTpk3x119/2R1YdXl5eV2zb8qIESOQnJyM6dOno2vXrrbto0aNwpw5czB37lwsWLDAtn3u3LkoKirCSy+95PS4iYiqK1DrgTN5JcjWG9AkyFvucGCxCFvCwikhqit2JSxnz57Fo48+et1jNBoN9Hq9XUE525QpU7BmzRosXLgQe/fuRfv27bFnzx6sX78enTp1woQJE+QOkYjIJlhXnrDkFLlG4W1+iRFGc3k9TRBXCVEdsavoNigo6IarY44ePYrw8HC7gnI2rVaLzZs3Y8KECThy5AgWL16Mo0ePYvLkyfjtt9/g5cUnjxKR6wjSWVcKucbSZuvoir+3GhoV2/JT3bD7WUJr1qzB6dOnq9x/+PBh/PLLL7jjjjtqFVxtrVixAkKICtNBVn5+fli6dCnS09NRVlaGtLQ0LFq0CD4+PjJESkR0bYG2lUKuMcJia8vP6SCqQ3YlLP/+979hNpuRkJCAzz//HNnZ2QCAI0eO4KOPPkLfvn2h0Wjw4osvOjRYIqKGyDrt4ipTQtYlzWzLT3XJrhqWNm3a4KuvvsKwYcPwxBNPACh/qGDr1q0hhICPjw++/vprLg0mInKAYK1rTQlxSTPJwe71cffddx9SU1OxcuVK7NixA7m5ufD19UWXLl0wcuRIBAcHOzJOIqIGyzollOMi3W7ZNI7kUKsF/YGBgZg4caKjYiEioipYp4RcpYaFbflJDg55lhARETlPsIutEuKDD0kO1Rph2bJli90v0LNnT7u/loiIrpgSKiqDEAKSJMkaD2tYSA7VSlh69+5t9w+I2Wy26+uIiKicNWExWQQKSkzw81bLGg/b8pMcqpWwvPLKK7Jn9EREDZWnWgmdRoUigwk5eoOsCYvZIpDDZc0kg2olLLNmzXJyGEREdD1BOo9LCUsZmoXIF0euvgwWAUjS5ZEforpQraLbwMBAvPHGG7bP58yZU6u6FiIiqpkgWx2LvIW31umgIK0HVEqu26C6U63vtvz8fJSUlNg+nzVrFjZt2uSsmIiI6CqBl5rHyd2LhW35SS7VSljCwsKu+dwgIiJyvmAXac/PFUIkl2rVsHTp0gWffvoplEql7QnM1RlhkSQJM2bMqFWARER05fOEXGNKiCMsVNeqlbC88cYbOH78OP773/8CKE9ENm3adMOkhQkLEZFjuNqUEEdYqK5VK2G56aabcODAAaSmpuLMmTPo3bs3RowYgeHDhzs7PiIigutMCWVzSTPJpNrPElIoFIiNjUVsbCyio6PRrl079OrVy5mxERHRJUG2ERZ5p4Rsbfl9uKSZ6pZdDz9MTU11dBxERHQd1p4nua4yJaTzlDUOanhq9bTmrKwsfPfddzh69CiKi4uRmJgIALhw4QJSU1PRpk0beHl5OSRQIqKGzDollKsvg9kioFTI033c+sRo1rBQXbO76897772HmJgYjB8/Hv/5z3+wfPly277z58+jW7du+OyzzxwSJBFRQxdwaYTFIoC8YnlGWYxmi22Eh09qprpmV8Lyww8/YPz48WjTpg3Wrl2LsWPHVtjfqlUrtG3bFqtXr3ZEjEREDZ5aqYCfV/kzhOSaFrIW/CoVEgK8mbBQ3bIrYXnjjTfQpEkTbNy4EQMHDkRoaGilY9q0aYPDhw/XOkAiIipn7cWSLdNKocs9WDygkGlKihouuxKWffv24Z577oFWq73mMZGRkTh37pzdgRERUUXBMq8UYlt+kpNdCYvFYoFaff3Hm58/fx4aDb+piYgcRe6VQmwaR3KyK2Fp0aIF/vjjj2vuN5lM2LJlC9q0aWN3YEREVJHcU0IX2JafZGRXwvL4449j7969mD17dqV9ZrMZL7zwAlJSUvDEE0/UOkAiIioXdClRkOt5QhxhITnZ1Yflueeeww8//IA5c+bg888/h6dneQOhQYMGYdeuXTh16hT69euHp556yqHBEhE1ZEFyTwmxLT/JyK4RFrVajaSkJEybNg05OTk4ePAghBD45ptvkJubi6lTp2Lt2rWQJFaRExE5SpDMzxPKthbdcoSFZGB3p1sPDw/MmzcPr776Ko4dO4bc3Fz4+vqiZcuWUCqVjoyRiIhwueg2W65VQhxhIRnZ3enWSpIkxMfH47bbbkPr1q1tyUpqaipGjBhR29MTEdEl1mJXuaaEslnDQjKqdcJytfT0dIwePRrx8fH49NNPHX16IqIGy1rDkldshNFsqdPXLjWaUVBqAsARFpJHjRKWP//8E3369IGvry8CAwNx//3349ixYwCA4uJiTJo0Cc2bN8dHH32EkJAQvP32204JmoioIfL39oC1NPBiHY+yWLvceigV8PWq1XNziexS7e+63bt344477kBZ2eUfkh9++AG7du3CH3/8gfvuuw+HDx9GREQEpk6diqeffpqN44iIHEipkBDo7YEcfRly9GUI9fWss9e29n4J1nlwQQXJotojLK+//jrKysowf/58nD9/HufPn8e8efNw9uxZ9OjRA0ePHsXLL7+MEydO4LnnnmOyQkTkBHKtFOIKIZJbtUdYtm7dir59+2Lq1Km2bdOnT8eGDRuwadMmvPHGG5g0aZJTgiQionLWlUJ1/TyhbHa5JZlVe4Tl/Pnz6NChQ6Xt1m3Dhw93XFRERFSly91u5alhCb40wkNU16qdsJhMpiqfzmzdFhQU5LioiIioSsGyjbBYa1g4wkLycPiyZiIicp5ArTwjLHzwIcmtRmvTPvvsM2zfvr3CthMnTgAA7r777krHS5KEn376qRbhERHRlWxFt3W9rJlFtySzGiUsJ06csCUoV/vll18qbePSNyIixwq2rRKq2ymhC6xhIZlVO2FJTU11ZhxERFQNtikhmUZY2OWW5FLthCU6OtqZcRARUTVYp4Ry67CGxWC63JafNSwkFxbdEhG5keBLIyyFBhNKjeY6eU1rga9KIcHPS10nr0l0NSYsRERuxNdLBbWyvD6wrqaFrD1YgnQeUChYm0jyYMJCRORGJElC0KVRFmtdibOxyy25AiYsRERuJtinvI4lu45WCmUXsmkcyY8JCxGRm7Gu1LlQRyMs1iXNIezBQjJy+4TlzJkzePPNN9GvXz80adIEHh4eaNSoER5++GHs2LGjyq8pKCjApEmTEB0dDY1Gg6ZNm+LFF19EUVFRHUdPRFRz1pGOOhth4ZQQuQC3T1jeeecdTJw4ESkpKejXrx8mT56M7t27Y82aNbjtttvw1VdfVTher9ejV69eWLp0KeLj4zFx4kS0aNECixYtQt++fVFaWirTlRARVY+122x2HS1tvvwcITaNI/nUqNOtK+rcuTM2bdqEXr16Vdj+xx9/4Pbbb8fYsWPxwAMPQKMp/wF//fXXsW/fPkydOhULFiywHT9t2jQsXLgQS5cuxfTp0+v0GoiIasI2JVRnNSycEiL5uf0Iy0MPPVQpWQGAHj16oE+fPrh48SIOHDgAABBCIDExETqdDjNmzKhw/IwZM6DT6ZCYmFgncRMR2cs6wlJXNSycEiJX4PYJy/Wo1eUNjlSq8oGk5ORkZGZmIiEhAVqttsKxWq0WCQkJSElJQUZGRp3HSkRUXdapGdawUENSbxOW9PR0bNiwAeHh4WjTpg2A8oQFAOLi4qr8Gut263FVMRgMKCgoqPBBRFSXQn3qrg+L0WzBxWIjANawkLzqZcJiNBoxbNgwGAwGLFy4EEqlEgCQn58PAPDz86vy63x9fSscV5X58+fDz8/P9hEVFeXg6ImIrs860lFQ6vz2/LmXuukqFRICvJmwkHzqXcJisVgwYsQIbNmyBaNHj8awYcMcev7p06cjPz/f9sHpIyKqa35e6jprz2+tkwnUsi0/ycvtVwldyWKx4Mknn8QXX3yBoUOHYtmyZRX2W0dWrjWCYp3eudYIDABoNBrbiiMiIjlIkoRgnQZn80uRXWhApL+X016L9SvkKurNCIvFYsHIkSOxcuVKDBkyBCtWrIBCUfHyblSjcqMaFyIiVxFcR91uredn/QrJrV4kLNZk5ZNPPsHgwYPx6aef2upWrhQXF4eIiAhs3boVer2+wj69Xo+tW7ciJiaGdSlE5PJCfOqm2621aVwIR1hIZm6fsFingT755BM88sgj+Oyzz6pMVoDyYdRRo0ahqKgIc+fOrbBv7ty5KCoqwujRo+sibCKiWqmrpc22KSE2jSOZuX0Ny5w5c7By5UrodDo0b94cr776aqVjHnjgAbRr1w4AMGXKFKxZswYLFy7E3r170b59e+zZswfr169Hp06dMGHChLq9ACIiO9TVlNDlGhZOCZG83D5hOXXqFACgqKgI8+bNq/KYpk2b2hIWrVaLzZs3Y9asWfj222+xceNGhIeHY/LkyZg5cya8vJxXvEZE5CghdfQ8IRbdkqtw+4RlxYoVWLFiRY2+xs/PD0uXLsXSpUudExQRkZMF19HzhLILrQ8+ZMJC8nL7GhYioobImkA4u9stR1jIVTBhISJyQ9YpIWeOsJjMFuQWXxph8WENC8mLCQsRkRuyLjMudGJ7/tziMggBKCQgSMsRFpIXExYiIjfk66WCh7L8n3Bntee31q8Eaj2gZFt+khkTFiIiN1Tenr98msZZS5tZv0KuhAkLEZGbsjZzc1bhLRMWciVMWIiI3JRtpZCTCm/ZNI5cCRMWIiI3FeLkbrfWpnQcYSFXwISFiMhNWZcaO22EpZDPESLXwYSFiMhNXZ4Scs4qoQusYSEXwoSFiMhN2ZrHOX1KiDUsJD8mLEREbqruim45wkLyY8JCROSmnPkARLNFIOfSeUNYw0IugAkLEZGbsiYSzmjPf7G4DBZR/vdALaeESH5MWIiI3JSv5+X2/I6eFrKeL8BbDbWSvypIfvwuJCJyU1e253f0SiHrc4RYv0KuggkLEZEbC3FSe34W3JKrYcJCROTGnFV4eyavBAAQ7ufp0PMS2YsJCxGRG7MtbXbwCEtqth4AEBOsdeh5iezFhIWIyI3ZpoQcPMJiTViaMmEhF8GEhYjIjVmLbh09JXSKIyzkYpiwEBG5sRCf8hoT66oeRygoNSJHX34+jrCQq2DCQkTkxi4va3bcCIt1dCXERwOdRuWw8xLVBhMWIiI3FuyEByDaCm6DOLpCroMJCxGRG7O15zc4rj3/5YJbb4ecj8gRmLAQEbkxH40KHirHtuc/xRVC5IKYsBARuTFJkhCic+y0UGpOMQBOCZFrYcJCROTmHF3HYlvSHMKEhVwHExYiIjfXJLC81iT5fFGtz3VRX4b8EiMAIDqQCQu5DiYsRERurnWELwDgcGZBrc+Vcml0JdzPE14eylqfj8hRmLAQEbm5VhF+AICDmfm1Ppet4Jb1K+RimLAQEbm5VpdGWNJyilFQaqzVuU7lcIUQuSYmLEREbi5A64FIfy8AtZ8WsvZgacaEhVwMExYionrAOspy8EztpoU4wkKuigkLEVE9YK1jqc0IixACqResT2lml1tyLUxYiIjqgdaRl0ZYalF4e6HIAH2ZGQoJiApkwkKuhQkLEVE90DqyfITlxPkilJTZ90yhU9nlHW4jA7ygUXFJM7kWJixERPVAqI8GwToPWARwNMu+aSEuaSZXxoSFiKgekCTpin4s9iUsqTnW+hUmLOR6mLAQEdUTrWwdb+2rY7EW3HKEhVwRExYionrCWsdy8IydU0IcYSEXxoSFiKieaH1pSuhYViGMZkuNvtZiEUxYyKUxYSEiqieiAr3g46lCmdmC5HM1e3LzucJSlBotUCkkNA7wclKERPZjwkJEVE+UF97a14/F2pI/KtAbKiV/NZDr4XclEVE9Ym/H21TbkmY2jCPXxISFiKgesXW8reEzhWw9WFi/Qi6KCQsRUT1iG2E5WwCzRVTray7qy7B2fyYAoHmYj9NiI6qNBpuw7Ny5E3fffTf8/f2h1WrRtWtXfP3113KHRURUK82CtfBUK1BcZrat+rkeIQSmffcPzhUY0CxEi/vbRdRBlEQ11yATlo0bNyIhIQF//vknBg0ahGeeeQZZWVkYPHgwFi9eLHd4RER2UykVaBle/Wmhr3dlIOnQOaiVEt5+9FZ4e6icHSKRXRpcwmIymTB69GgoFAps2bIFH3zwARYvXoz9+/ejefPmeOmll5CWliZ3mEREdrOuFPp0WxoycouveVzKhSLMWnsYADC5Xwtb4zkiV9TgEpbff/8dJ0+exGOPPYZ27drZtvv5+eGll15CWVkZVq5cKV+ARES19OCtjaFWStiVdhF3Lt2M9zedrNRIrsxkwYSv9qHEaMZtsUF4ukczmaIlqp4GN/a3adMmAEC/fv0q7evfvz8AYPPmzXUZEhGRQ3WIDsC6f/XAv78/iB2puVj4y1F8v/c0BraNQKnRjOIyM05eKMI/p/Ph56XG4kG3QKGQ5A6b6LoaXMKSnJwMAIiLi6u0r1GjRtDpdLZjqmIwGGAwGGyf5+eXzxEXFNj37A4iImcI9QQ+ePRmrNmXicXrj+Fo+nkcTT9f6bhX7r8FWsmIggKjDFFSQ2f93SnEjVe0NbiExZpg+PlVPVfr6+trO6Yq8+fPx+zZsyttj4qKckyARER16P/elDsCIqCwsPCav5etGlzCUlvTp0/HpEmTbJ9bLBbk5uYiKCgIkuSYIdWCggJERUUhIyMDvr6+DjlnQ8d76li8n47He+pYvJ+O54x7KoRAYWEhIiJuvJy+wSUs1gzuWqMoBQUFCAgIuObXazQaaDSaCtv8/f0dFt+VfH19+YPmYLynjsX76Xi8p47F++l4jr6nNxpZsWpwq4SstStV1alkZWWhqKioyvoWIiIikk+DS1h69eoFAFi/fn2lfUlJSRWOISIiItfQ4BKW22+/Hc2aNcMXX3yBffv22bbn5+fjtddeg4eHB5544gn5AkT5tNPMmTMrTT2R/XhPHYv30/F4Tx2L99Px5L6nkqjOWqJ6ZuPGjejfvz88PT3x6KOPwsfHB99++y3S0tKwaNEiTJ48We4QiYiI6AoNMmEBgL///hszZ87EX3/9BaPRiDZt2mDSpEkYPHiw3KERERHRVRpswkJERETuo8HVsBAREZH7YcJCRERELo8JixOUlpZi0qRJ6NmzJyIiIuDp6YlGjRohISEBy5cvh9FY+ZkdBQUFmDRpEqKjo6HRaNC0aVO8+OKLKCoqqvI1LBYL3nnnHbRp0wZeXl4ICQnBkCFDkJKS4uzLcxkLFy6EJEmQJAnbt2+vtJ/39PqaNm1qu39Xf/Tu3bvS8QaDAXPmzEFcXBw8PT0RERGBp59+GufPV34+jdXnn3+Ozp07Q6vVIiAgAAMHDsSePXuceFWu4fvvv8edd96JoKAgeHp6IiYmBkOGDEFGRkaF4/g9en0rVqy45veo9eP222+v8DW8p9cnhMB3332HPn36IDw8HN7e3mjRogXGjBlT5TW70v1kDYsTZGdnIyoqCp07d0bz5s0REhKCixcvYt26dUhLS0O/fv2wbt06KBTl+aJer0f37t2xb98+9OvXD7feeiv27t2L9evXo1OnTtiyZQs8PT0rvMbo0aORmJiIVq1a4Z577kFmZia+/vpr6HQ6bN++vd43vzt48CA6duwIlUoFvV6Pbdu2oWvXrrb9vKc31rRpU+Tl5WHChAlV7hsxYoTtc4vFgrvvvhtJSUno2rUrevXqheTkZHz//feIiYnB9u3bERISUuEc8+bNw8svv4zo6Gg8/PDDKCwsxKpVq1BWVobffvsNCQkJTr7CuieEwDPPPIMPPvgAsbGx6N+/P3x8fJCZmYnNmzfj888/R/fu3QHwe7Q69u3bh9WrV1e575tvvsGhQ4ewcOFCTJkyBQDvaXVMnjwZS5YsQXh4OO6//374+vpi//79WL9+PXQ6Hf766y+0bt0agAveT0EOZzabhcFgqLTdaDSK3r17CwDixx9/tG1/5ZVXBAAxderUCsdPnTpVABCvvfZahe2///67ACB69uxZ4XV+/vlnAUD069fPwVfkWsrKykT79u1Fly5dxNChQwUAsW3btgrH8J7eWHR0tIiOjq7WsR9//LEAIIYMGSIsFott+/vvvy8AiKeffrrC8cePHxcqlUo0b95c5OXl2bbv3btXaDQa0bJlS2E2mx1yHa7kzTffFADEuHHjhMlkqrTfaDTa/s7vUfsZDAYRFBQkVCqVyMrKsm3nPb2+s2fPCoVCIaKjoyv8XAohxJIlSwQAMXLkSNs2V7ufTFjq2FtvvSUAiDfffFMIIYTFYhERERFCp9OJoqKiCscWFRUJnU4nmjVrVmH7kCFDBACxefPmSue3JkRpaWnOuwiZzZw5U2g0GnHo0CExfPjwSgkL72n11CRh6datmwAgTp06VWG7xWIRzZo1E1qtVhQXF9u2T58+XQAQK1eurHSuESNGXPNeu7Pi4mIREBAgmjVrViExqQq/R2vnq6++EgDEAw88YNvGe3pj27ZtEwDEY489Vmnf8ePHBQAxcOBAIYRr3k/WsNQhi8WCX375BQBsQ27JycnIzMxEQkICtFptheO1Wi0SEhKQkpJSYe5706ZNtn1X69+/PwBg8+bNzroMWe3Zswfz5s3DzJkzcfPNN1d5DO9p9RkMBqxYsQKvvfYa/vOf/2DHjh2VjiktLcWOHTvQokULREdHV9gnSRLuvPNO6PV67Nq1y7Z906ZNAIB+/fpVOl99vZ/r16/HxYsX8cADD8BsNuO7777DggULsGzZMpw4caLCsfwerZ3ExEQAwKhRo2zbeE9vLC4uDh4eHti6dSsKCgoq7Pvxxx8BwFYT5Ir3s8E9rbkulZWV4bXXXoMQAjk5Ofjtt99w9OhRjBw5ssI3BYBrzuvFxcUhKSkJycnJiIqKgl6vx9mzZ9G6dWsolcoqj7/yvPWJwWDAE088gXbt2tnmrKvCe1p9WVlZGDlyZIVtnTp1wpdffonY2FgAwMmTJ2GxWK57P4Hy+9OjRw/b33U6HRo1anTd4+uT3bt3AwCUSiXatm2L48eP2/YpFApMnDgRixYtAsDv0dpIS0vDb7/9hsaNG2PAgAG27bynNxYUFIQFCxZg8uTJiI+Pr1DD8vvvv2PcuHEYP348ANe8n0xYnKisrAyzZ8+2fS5JEl544QXMnz/fti0/Px/AtR+vbX2Et/W4mh5fn7zyyitITk7G7t27q/yBsOI9rZ6RI0eiR48eaN26NXQ6HY4fP44lS5bg008/xe23344DBw7Ax8fHrvuTn5+P0NDQah9fH1hXSy1ZsgTt27fH33//jZYtW2Lv3r14+umnsXjxYsTGxmLs2LH8Hq2F5cuXw2KxYMSIERX+HeA9rZ6JEyciMjISo0aNwrJly2zbu3fvjsceewwqVXla4Ir3k1NCTqTT6SCEgNlsRkZGBt59910kJiaid+/elYbj6Pq2bduGRYsW4eWXX7ZNp1HtzJw5E3379kVoaCi8vb3Rrl07fPLJJxg2bBjS0tLw4Ycfyh2iW7FYLAAADw8PrF69Gp06dYJOp0OPHj3wv//9DwqFAosXL5Y5SvdmsViwfPlySJKEJ598Uu5w3NKcOXMwdOhQvPTSS8jIyEBhYSH++OMPlJaWonfv3li7dq3cIV4TE5Y6oFAo0LhxY4wdOxYffPABtm7dinnz5gG4nI1eK+u0JjbW42p6fH1gMpkwfPhwtG3bFtOmTbvh8byntTNmzBgAwNatWwHYd3/8/Pwa3P20Xk/Hjh0RERFRYV/r1q3RrFkznDx5Enl5efwetdOGDRuQnp6Ovn37IiYmpsI+3tMb27BhA2bOnInx48dj2rRpaNy4MXQ6Hbp3744ffvgBarXa9vBfV7yfnBKqY9YiRGtR4o3m9a6eR9RqtQgPD0dqairMZnOlqZEbzTu6o6KiItt1eXh4VHlMt27dAJQ37LIW4/Ke2ic4OBhAeQ8GAGjWrBkUCkW176f179u2bUNWVlalOpb6ej9btGgBAPD3969yv3V7SUkJf+7tVFWxrRXv6Y2tW7cOANCnT59K+xo1aoT4+Hjs3bsXRUVFrnk/7V5fRHY5fPiwACASEhKEENVbOhYTE1Nh+6OPPnrDpWNXLz91Z8XFxeKpp56q8iMuLk4AEPfdd5946qmnxN69e3lPa2nlypUCgBgzZoxtW9euXWu0rHnatGkNblnziRMnBABx0003VdpXVlYm/P39hVarFUajkd+jdsjOzhYeHh4iMDBQlJaWVtrPe3pj48ePFwDERx99VOX+xo0bC4VCIUpLS13yfjJhcYJDhw4JvV5fabterxcDBgwQAMS8efNs212tOY87qaoPixC8pzdy5MiRKr9Hjxw5Iho1alTpH52aNo47duxYg2wc169fPwFAfPjhhxW2z5kzRwAQQ4cOtW3j92jNLF26VAAQzz///DWP4T29vi+//FIAEK1atarUOM76s2z9z7QQrnc/mbA4wcyZM4WPj4+46667xNixY8XUqVPF0KFDRVBQkAAgevToUeF/o0VFReKWW26xvaHTpk2z/cPXqVOnCsdajRo1yvaNN2XKFDFs2DDb/z6OHTtWl5crq2slLLyn12f9Hr3nnnvEuHHjxIsvvijuv/9+oVarBQAxffr0CsebzWbRv39/AUB07dpVTJ06VTz88MNCkiQRExMjzp8/X+k1Xn31VQFAREdHi0mTJonRo0cLHx8fodFoxJ9//llXl1qnTpw4IUJDQwUAcc8994jJkyeLvn372u7D2bNnbcfye7RmWrduLQCIf/7555rH8J5en8lkEj179hQARGhoqBg1apR44YUXbN+jXl5eYseOHbbjXe1+MmFxgp07d4rRo0eLVq1aCX9/f6FSqURQUJDo06eP+O9//1tlF8y8vDwxYcIEERUVJdRqtWjSpImYPHmyKCgoqPI1zGazeOutt0SrVq2ERqMRQUFBYvDgweLEiRPOvjyXcq2ERQje0+vZtGmTGDRokIiLixO+vr5CpVKJRo0aifvvv18kJSVV+TWlpaVi1qxZIjY2Vnh4eIhGjRqJUaNGVWiNfrXPPvtMdOzYUXh5eQk/Pz9x9913i927dzvrslxCenq6GDFihGjUqJFQq9UiKipKPPvss+LcuXOVjuX3aPXs2LFDABCdO3e+4bG8p9dXWloq5s+fL2699Vbh7e0tVCqViIyMFEOHDhWHDx+udLwr3U8+/JCIiIhcHpc1ExERkctjwkJEREQujwkLERERuTwmLEREROTymLAQERGRy2PCQkRERC6PCQsRERG5PCYsRERE5PKYsBAREZHLY8JCRERELo8JCxEREbk8JixEDcSpU6cgSRJGjBjh9q8v97U4U11cmxACHTp0QL9+/Zz2GjV17NgxqFQqvPfee3KHQi6KCQtRDVh/mQwYMEDuUBxi06ZNkCQJs2bNkjsUqkOffPIJ9uzZgzlz5sgdik2LFi0wZMgQzJ49G4WFhXKHQy6ICQtRAxEZGYkjR45g/vz5codCMrJYLJg1axZ69OiBrl27yh1OBVOmTMH58+fx9ttvyx0KuSAmLEQNhFqtRnx8PMLDw+UOhWS0bt06nDp1Ck888YTcoVTSpk0btG3bFh9++CEsFovc4ZCLYcJC5ETLly9Hly5doNPpoNPp0KVLF6xYsaLScVdOzezatQt33nknfHx84OfnhwcffBCnTp2q8vwmkwnz589HbGwsPD09cdNNN2H+/PlISUmpVAdxdW3ErFmz0KdPHwDA7NmzIUmS7cP6eitWrIAkSTeM+UpmsxkLFy7ETTfdVCEme34B2XOuLVu24N5770VwcDA0Gg3i4uLw8ssvo7i4uMav78z3rybXVlZWhnfeeQf9+/dHVFQUNBoNQkND8dBDD2Hv3r01viZJkvDwww9XuX/u3LmQJAlJSUmV9v3www+QJAmLFy+udN1//fUX+vTpAx8fH4SEhGDcuHEoKSkBAPz000/o1q0btFotwsLCMGXKFJhMpipff9CgQUhLS8PGjRtrdF1U/6nkDoCovnr++efxzjvvIDIyEk899RQA4Ntvv8XIkSOxd+9evPXWW5W+ZufOnXj99dfRp08fjBkzBnv37sXq1atx4MABHDx4EJ6enhWOf/LJJ/Hpp5+iWbNmePbZZ2EwGLB06VJs27bthvH17t0bp06dwsqVK9GrVy/07t3bts/f39/u63766afx8ccfIyYmBs8++yxKS0uxZMkS/PXXX04/1/vvv49nn30W/v7+uPfeexEaGopdu3Zh3rx52LhxIzZu3AgPD49qvbaz37+aXFtubi4mTJiAHj164O6770ZAQABSUlKwdu1arFu3Dlu2bEGnTp1ueE1CCGzcuBEtWrRAQEBAlcdYE6D27dtX2rdnz54q9+3YsQMLFy5E//79MWbMGGzcuBHvv/8+CgoKcO+992LEiBG4//770a1bN/z000944403oNPp8Morr1R6jW7dugEAfvvtN9x+++03vCZqQAQRVVtqaqoAIPr373/d4zZv3iwAiJYtW4q8vDzb9tzcXNG8eXMBQGzZssW2fePGjQKAACBWrVpV4VzDhg0TAMSXX35ZYfuGDRsEANGuXTuh1+tt2zMzM0VYWJgAIIYPH14p9iu3WV935syZVV7H8uXLBQCxfPnySvuq+lrrtltuuUUUFRXZtp8+fVoEBwdXev3rqem5Dh06JFQqlbjllltEdnZ2hXPNnz9fABCLFi2q1ms7+/2r6bWVlpaK06dPV4rz4MGDQqfTiTvuuKNa13Xo0CEBQDz++OPXPKZp06aicePGVe677777BACRm5tb6bpXr15tO66srEy0bdtWSJIkgoODxd9//23bV1BQIEJDQ0VgYKAoKyur9Br5+fkCgOjZs2e1rokaDk4JETnBypUrAZRPu/j5+dm2BwQEYObMmQBQ5dRCz549MXjw4ArbnnzySQDl/3u/0meffQYAeOWVV+Dt7W3bHh4ejn/961+1vwg7fPLJJ7aYtFqtbXtkZGSNY6rpuf773//CZDLhnXfeQVBQUIV9U6ZMQUhICL788stqvbaz37+aXptGo0FkZGSl7a1atUKfPn2wZcsWGI3GG17X6dOnAQBhYWFV7r948SJOnTpV5egKUD7C0rRp00qjM3369MH9999v+1ytVuP//u//IITAvffeW2H0x8fHBwMHDkRubq4tniv5+vrC09Ozyn3UsHFKiMgJrMPqV06zWFnrRvbt21dpX4cOHSpta9y4MQAgLy+vwvb9+/cDALp3717paxISEmoSrsNYY+rRo0elfVVtc+S5tm/fDgBISkrCb7/9Vmm/Wq3G0aNHq/Xazn7/7LlP+/btw+uvv44///wTWVlZlRKU7OzsGxZU5+TkALj2lJ/1mqpKWC5cuIDTp0/jwQcfrLSvXbt2lbZZY7nevszMTMTExFTaHxgYiOzs7CpjpIaLCQuRExQUFEChUCAkJKTSvrCwMEiShIKCgkr7fH19K21Tqcp/TM1mc5WvERwcXOVryCE/P99hMdX0XLm5uQCAefPm1eh1quLs96+m1/bXX3+hb9++AIB+/fohLi4OOp0OkiRh9erV2L9/PwwGww2vy8vLCwBQWlpa5X5ronbrrbdW2metX6lq3/Wu+3r7rjUqVFJSUmHUkAhgwkLkFL6+vrBYLLhw4QJCQ0Mr7Dt//jyEEFX+Q27Pa2RnZ1f6xXru3LlandtKoSifNa5qRUd+fn6lbX5+fg6Lqabnst7PgoIC+Pj41Oi1qjqXM9+/ml7bvHnzYDAY8Mcff1QaUdu+fbttxOZGrK9lTe6udr2CW2sxcFUJiyNZLBbk5+ejVatWTn0dcj+sYSFyAus/6ps2baq0z7qtqqHymrjlllsAAFu3bq20r7orcpRKJYDKozdW1lqFM2fOVNpX1XJaa0x//PFHpX1Vbbuemp6rS5cuAC5PDdWGs9+/ml7byZMnERgYWClZKS4uto18VEerVq2gUChw7NixKvfv3bsXkiQhIiKiwnaLxYJvv/0WgPMTluTkZFgsFrRp08apr0PuhwkLkRMMHz4cQHl/kyunDvLz8zF79uwKx9jr8ccfBwDMmTPH1u8CALKysqpccluVwMBAAEBGRkaV+zt06ABJkrBq1aoK0wjJyclVvsawYcNsMen1etv2M2fOVDsme881btw4qFQqPPfcc0hPT6+0Py8vr9o9S5z9/tX02qKjo3Hx4kUcOnTIts1sNuOFF17AhQsXqv26/v7+aNu2LXbt2lWp30tJSQmOHj0KIUSFZfFCCMycOROHDh1CQEBAlcW/jrRjxw4AQK9evZz6OuR+OCVEZIcDBw5c8+F08fHxmDZtGp577jm88847aN26NR5++GEIIfDtt9/i9OnTeP7559GzZ89axXDHHXfgsccewxdffIE2bdrggQcegMFgwNdff40uXbrghx9+sE3pXEt8fDwiIiKwatUqaDQaNG7cGJIk4bnnnoOfnx8iIiIwZMgQfPHFF+jQoQMGDBiA8+fP4/vvv8eAAQNs/+u26tOnD0aOHInly5ejTZs2ePDBB2EwGPDVV1+ha9eu+PHHH6t9fTU9V+vWrfHee+9h7NixaNGiBe6++27ExsaisLAQKSkp2Lx5M0aMGIFly5bd8LV79uzp1Pevptf23HPPYf369ejevTsGDRoET09PbNq0CWfOnEHv3r2rHAm6lgcffBAzZ87E9u3bcdttt9m2HzhwAGazGaGhobjrrrvw8MMPw8vLC3/99RcKCgpsdTtPPfUU3nvvPWg0Gruv/3p+/fVXqFQqDBw40CnnJzcm45JqIrdj7WVyvY9evXrZjv/4449Fp06dhLe3t/D29hadOnUSH3/8caXzXq8fSlX9U6yMRqOYO3euiImJER4eHqJZs2bitddeEzt27BAAxL/+9a8bnmf79u2iV69ewsfHx3YNqamptv3FxcXi+eefF2FhYUKj0Yi2bduKzz///Joxm0wmMX/+fNGsWbMKMZ04caJGfVjsPdfff/8tHn30URERESHUarUIDg4W7du3F9OmTRNHjhyp9msL4dz3r6bX9s0334j27dsLb29vERwcLAYNGiROnjwphg8fXuk9u54zZ84IlUolxo4dW2H7smXLBACxYsUKMWbMGOHr6yt8fX3Fww8/LNLT08WQIUOEVqsVQ4YMqdZ1X6+Hz8yZMwUAsXHjxgrb9Xq90Ol04oEHHqjWtVDDIgkhRJ1lR0RUJxITEzF69GjbiAPRlYYNG4affvoJaWlptgLlZ555Bv/9739x5MgRxMfHyxKX9ft28+bNtR6BpPqHCQuRG8vKyrIts7U6c+YMEhIScPr0aaSmpiIqKkrGCMkVpaWlIT4+HjNmzMBLL70EoLxo+eDBgygsLLzhVKIzmEwmNG/eHG3atMGaNWvq/PXJ9bGGhciNLViwAD/99BN69OiB0NBQpKen48cff0RhYSFmzZrFZIWqFB0djZUrV9qWUJvNZhw4cABt27aVJVkBgPT0dDzxxBO2gmSiq3GEhciN/fLLL1iyZAn279+PixcvwtPTE23btsW4cePw2GOPyR0euYlDhw6hdevWGDNmTLWKkonkwISFiIiIXB77sBAREZHLY8JCRERELo8JCxEREbk8JixERETk8piwEBERkctjwkJEREQujwkLERERuTwmLEREROTymLAQERGRy2PCQkRERC7v/wE8yy8zTmvVMAAAAABJRU5ErkJggg==",
          "text/plain": "<Figure size 600x400 with 2 Axes>"
         },
         "metadata": {},
         "output_type": "display_data"
        }
       ],
       "tabbable": null,
       "tooltip": null
      }
     },
     "3be242bf8b574cd6900ae5339c0dff8b": {
      "model_module": "@jupyter-widgets/controls",
      "model_module_version": "2.0.0",
      "model_name": "SliderStyleModel",
      "state": {
       "_model_module": "@jupyter-widgets/controls",
       "_model_module_version": "2.0.0",
       "_model_name": "SliderStyleModel",
       "_view_count": null,
       "_view_module": "@jupyter-widgets/base",
       "_view_module_version": "2.0.0",
       "_view_name": "StyleView",
       "description_width": "",
       "handle_color": null
      }
     },
     "454790613db746d0b56a54ff476e7447": {
      "model_module": "@jupyter-widgets/controls",
      "model_module_version": "2.0.0",
      "model_name": "SliderStyleModel",
      "state": {
       "_model_module": "@jupyter-widgets/controls",
       "_model_module_version": "2.0.0",
       "_model_name": "SliderStyleModel",
       "_view_count": null,
       "_view_module": "@jupyter-widgets/base",
       "_view_module_version": "2.0.0",
       "_view_name": "StyleView",
       "description_width": "",
       "handle_color": null
      }
     },
     "47cee54055614f4cb64b36f88410278f": {
      "model_module": "@jupyter-widgets/base",
      "model_module_version": "2.0.0",
      "model_name": "LayoutModel",
      "state": {
       "_model_module": "@jupyter-widgets/base",
       "_model_module_version": "2.0.0",
       "_model_name": "LayoutModel",
       "_view_count": null,
       "_view_module": "@jupyter-widgets/base",
       "_view_module_version": "2.0.0",
       "_view_name": "LayoutView",
       "align_content": null,
       "align_items": null,
       "align_self": null,
       "border_bottom": null,
       "border_left": null,
       "border_right": null,
       "border_top": null,
       "bottom": null,
       "display": null,
       "flex": null,
       "flex_flow": null,
       "grid_area": null,
       "grid_auto_columns": null,
       "grid_auto_flow": null,
       "grid_auto_rows": null,
       "grid_column": null,
       "grid_gap": null,
       "grid_row": null,
       "grid_template_areas": null,
       "grid_template_columns": null,
       "grid_template_rows": null,
       "height": null,
       "justify_content": null,
       "justify_items": null,
       "left": null,
       "margin": null,
       "max_height": null,
       "max_width": null,
       "min_height": null,
       "min_width": null,
       "object_fit": null,
       "object_position": null,
       "order": null,
       "overflow": null,
       "padding": null,
       "right": null,
       "top": null,
       "visibility": null,
       "width": null
      }
     },
     "49f59320fdc547d08349a8651cafb3f7": {
      "model_module": "@jupyter-widgets/controls",
      "model_module_version": "2.0.0",
      "model_name": "FloatSliderModel",
      "state": {
       "_dom_classes": [],
       "_model_module": "@jupyter-widgets/controls",
       "_model_module_version": "2.0.0",
       "_model_name": "FloatSliderModel",
       "_view_count": null,
       "_view_module": "@jupyter-widgets/controls",
       "_view_module_version": "2.0.0",
       "_view_name": "FloatSliderView",
       "behavior": "drag-tap",
       "continuous_update": true,
       "description": "G",
       "description_allow_html": false,
       "disabled": false,
       "layout": "IPY_MODEL_955d8940aaa048a9b85deea2d0b63988",
       "max": 1.0,
       "min": 0.0,
       "orientation": "horizontal",
       "readout": true,
       "readout_format": ".2f",
       "step": 0.1,
       "style": "IPY_MODEL_10153e86636a4a8e9028bb3426dddbb7",
       "tabbable": null,
       "tooltip": null,
       "value": 1.0
      }
     },
     "5c52f1a334514cb98cb001b6e739fd1e": {
      "model_module": "@jupyter-widgets/controls",
      "model_module_version": "2.0.0",
      "model_name": "FloatSliderModel",
      "state": {
       "_dom_classes": [],
       "_model_module": "@jupyter-widgets/controls",
       "_model_module_version": "2.0.0",
       "_model_name": "FloatSliderModel",
       "_view_count": null,
       "_view_module": "@jupyter-widgets/controls",
       "_view_module_version": "2.0.0",
       "_view_name": "FloatSliderView",
       "behavior": "drag-tap",
       "continuous_update": true,
       "description": "R",
       "description_allow_html": false,
       "disabled": false,
       "layout": "IPY_MODEL_337f88f09a6748c7af810eb5bd0758a8",
       "max": 1.0,
       "min": 0.0,
       "orientation": "horizontal",
       "readout": true,
       "readout_format": ".2f",
       "step": 0.1,
       "style": "IPY_MODEL_a09f45971bb3497da3938b1798a906c4",
       "tabbable": null,
       "tooltip": null,
       "value": 1.0
      }
     },
     "5f346b0acd8c40179d092b76b0e65078": {
      "model_module": "@jupyter-widgets/output",
      "model_module_version": "1.0.0",
      "model_name": "OutputModel",
      "state": {
       "_dom_classes": [],
       "_model_module": "@jupyter-widgets/output",
       "_model_module_version": "1.0.0",
       "_model_name": "OutputModel",
       "_view_count": null,
       "_view_module": "@jupyter-widgets/output",
       "_view_module_version": "1.0.0",
       "_view_name": "OutputView",
       "layout": "IPY_MODEL_47cee54055614f4cb64b36f88410278f",
       "msg_id": "",
       "outputs": [
        {
         "data": {
          "image/png": "iVBORw0KGgoAAAANSUhEUgAAAiwAAAGICAYAAABiEruMAAAAOXRFWHRTb2Z0d2FyZQBNYXRwbG90bGliIHZlcnNpb24zLjguNCwgaHR0cHM6Ly9tYXRwbG90bGliLm9yZy8fJSN1AAAACXBIWXMAAA9hAAAPYQGoP6dpAACJgElEQVR4nO3dd3xT9foH8M9J0qZt0r1bSmmhUDayBNkOUFxw+TlQlgoqiguU4RUBERFFcFzHVS5Dvc4rguIAZVPZlCmjUEpLB91JkzbznN8fyUlbutI0yTlJnvfrxUt7zmnyTdomT57v832+DMdxHAghhBBCREwi9AAIIYQQQlpCAQshhBBCRI8CFkIIIYSIHgUshBBCCBE9ClgIIYQQInoUsBBCCCFE9ChgIYQQQojoUcBCCCGEENGjgIUQQgghokcBCyGEEEJET5QBy5dffoknnngC/fv3h1wuB8MwWL9+fZPXq9VqzJ49G8nJyZDL5ejQoQNeeuklaDSaRq9nWRYffPABevbsicDAQERHR2PixInIzs520SMihBBCSFswYtxLqEOHDrhy5QqioqKgUChw5coVrFu3DtOmTWtwrVarxdChQ3H8+HGMHj0aN9xwAzIzM7Ft2zYMGDAAe/bsQUBAQL3vmTFjBtasWYPu3bvjzjvvREFBAb777jsolUocOHAAaWlpbnqkhBBCCLGHKDMsa9asQU5ODkpKSvDkk082e+1bb72F48ePY968edi6dSvefPNNbN26FfPmzcPhw4exevXqetfv3LkTa9aswfDhw3Hs2DGsWLECX3zxBTZt2oTy8nLMmjXLlQ+NEEIIIQ4QZcBy6623Ijk5ucXrOI7DmjVroFQqsXDhwnrnFi5cCKVSiTVr1tQ7/tlnnwEAli5dCn9/f9vxO+64AyNHjsS2bduQm5vrhEdBCCGEEGcRZcBir6ysLBQUFGDIkCFQKBT1zikUCgwZMgTZ2dnIy8uzHd+1a5ft3PXGjBkDANi9e7drB04IIYSQVpEJPYC2yMrKAoAma07S0tKwdetWZGVlISkpCVqtFoWFhejRowekUmmj19e93cbo9Xro9Xrb1yzLory8HJGRkWAYpi0PhxBCCPEpHMehqqoKCQkJkEiaz6F4dMCiUqkAAKGhoY2eDwkJqXdda69vzPLly7FkyRLHBkwIIYSQBvLy8tCuXbtmr/HogEUICxYswOzZs21fq1QqtG/fHnl5ebaAh5DWeGfbeazLyMFNnSLxycP9IJEwWP3HBfxn32V0iArClmeGCT1Ep/jpeD5e/vE0FHIpvnhsIDrHWv5eWJbD+9uzsGbfZYQEyPDH7BFQyOmlqS3yK6px978yYDCxGNsjDs/f1hnxoQH1ssB6kxlHciqw+KczKFTpMLJLFP71UD8BR018kVqtRlJSEoKDg1u81qNfFfhMSVMZEbVaXe+61l7fGLlcDrlc3uB4SEgIBSyk1ViWwx9ZakjkQZg6vCvCwiy/e7Pv7I0NR64htwqogT9iQwJauCXx+/X835DIg/D06M7on1b/k9TL4/rij0tq5JXX4HiRHnf0jBBolN7hjT9yYJIGYFDHCHz4yCBIJY1PV98REY4O8VG451/7sCenGlkVZvRLDnfzaAmBXSUVHl1021LNyfU1LgqFAvHx8bh8+TLMZnOL1xPiavmVNShQ6eAvlWBUeozteHCAHzrHWj5xHM+rFGh0zlNtMOFITgUAYGzP+AbnZVIJxnSLAwBs+/uaW8fmbVQ1Rvxw7CoAYO7tXZoMVnhd40Mwrk8iAGDNXmqeScTL4wOWhIQEZGRkQKvV1jun1WqRkZGBlJQUJCUl2Y6PGDHCdu56W7duBQAMHz7ctQMnxOpyqeX3NjkyCAF+9QvB+ySFAQBOeEHAciC7DAYzi3bhgUiJUjR6zejuloBl1/liiLCfpcf44+9rMJo5dI5Von8H+zJVjwxJAQBsP1cMrd7kyuER4jCPDlgYhsH06dOh0WiwdOnSeueWLl0KjUaDGTNm1Dv++OOPA7D0aTEYDLbjv/32G3bt2oXRo0fb1QOGEGfgA5bG3sR78wHL1Uo3jsg1jl2pBADc1LHp1XS9k0IhlTCoqDaiSK1z4+i8y2+nCgE0nslqStf4YLSPCILBxGJvVomrhkZIm4iyhmXNmjXYt28fAODUqVO2Y7t27QIADB06FNOnTwcAzJ07F5s3b8aKFSuQmZmJvn374tixY7bW/M8//3y92x41ahSmT5+ONWvWoG/fvrjzzjtRWFiIb7/9FhEREfjggw/c9jgJaS5g6RSjBADklde4dUyukFVcBQBIj2u6zksuk6JjtAIXrmlwrrAK8aGB7hqe1zCzHA5eLgcA3NYt1u7vYxgGt3WLxX/2Xcb2s8W4vYf9wQ4h7iLKgGXfvn3YsGFDvWMZGRn1pnH4gEWhUGD37t1YvHgxfvjhB+zcuRPx8fGYM2cOFi1ahMDAhi96//73v9GzZ098+umneO+996BUKjF+/HgsW7YMHTt2dO2DI6SO5gKWOGuhbZFKB47jPLrPz8Viy0akfBDWlPS4EFy4psHZInW9mh5in3NFamj0JgTLZc0Gh40ZmhaF/+y7jCNXKlw0OkLaRpQBy/r165vdnfl6oaGhWL16dYN9g5oikUjw7LPP4tlnn3VwhIQ4R3MBC78yyGBmUa41IFLZcHWaJzCYWFwpqwZgR8ASH4yfTgDnCqvcMTSvwxc235Ac3mKx7fVusE5BXi7VolxrQITCv/lvIMTNPLqGhRBPxnGcrVYjIaxhJtBfJkGUNUgpVHluTceVMi1MLAeFvxTxoc0vz+5iXRnFZ2RI6xy1Zkf6O7A0OSzIH6nRlsA5M5eyLER8KGAhRCAavQkGEwsAtsDkevwbfJEHByzZ1ixSxxhli9NaSRFBACzLvUnrnSuy9JLqmdh0L6nm9G1vCXS8YSk98T6inBIixBeUay2r1AL9pAj0b7i3FWCZFjqVr0KhB6+aKbQGH4mNZJGux2eaVDVGaPQmKKnjrd0MJhbZJZbgsEtcy11DG9Mt3lL3cr7IdVNyLMuioKAAwcHBHl2XRRrXmr2BWoteDQgRSKnGErBEKpuuFajNsHhuxoEPtuJamA4CAKVchtBAP6hqjMivqHH4jdcXXSrRwMRyCA6QtTj11hT++b5wzXUBS0FBQb3eWMQ72bM3UGvRlBAhAuEzLJHNFDfG2QIWfZPXiB0/nZVg5zJlPhOTX1ntsjF5Iz4r0iXW8cwF3135Snk1dMaG3cCdwZ49Y4jnc8XPmQIWQgRSrrUEIc2t/uGDmcpqQ5PXiB1fMGxPhgUAEsOtAUuF52aVhMBnRTq3ISsVpfRHhMIfHOe6wmeaBvINrvg5U8BCiED4KaHmlo+GBfkBACo8OmCxBB72TlPwGZarVHjbKvzS8dQmtj6wB8MwSLMuPXfltBAhjqCAhRCB2KaEmqlhCQ20ZlhqjG4Zk7OxLIdr1uksezMsCWGW6worPbfQWAg5ZZaC2w6RjgcsAGxLm/kAiBCxoICFEIGUaaxTQs1kWMIVlgyLqtozA5byagMMZhYMA8QE2xew8NeVajy3bsfdOI5DrjXA6BAV1Kbbah/BByzaFq4kxL0oYCFEIGVafkqo6RqWsDoZFk/cwfiadYVQpMIf/jL7Xm74njQlVRSw2Ktca0CV3gSGAdqFty1g6RBp+f4cyrAQkaGAhRCBVFqzJuHWOpXG8DUsZpaDRm9yy7iciZ/2aqoxXmOigi1BGmVY7McHFwmhgQjwa7ynj72SIynDQsSJAhZCBFKlswQswQFNBywBflLIrZmJSg+cFiqzo7D4etHW4Kai2gijmXXJuLxNbrkluGgf0bbsCgAkWzMsFdVGqDy0dop4J2ocR4hAqnSWjElwQPN/huFB/ihS61BZbURShDtG5jxltsJi+zMs4UH+kEoYmFkO5VqDbRNI0rSCyqb3pGothVyGKKUcpRo9csuq0bOdY23+fYHc3x+9Oqbhhs7pSI6NR3xkFBKjY5AUG4vY8EjI/fwgk0rBMAzMrBlGkwllajXyS4qRV1yEwtJS5JcW4+TFLBw9fxYVVWqhH5KoUcBCiED4gCUksOkMC2CZFipS61BZ43lLm+0pLL6eRMIgUuGP4io9Sqr0FLDYgV86zq+waqvE8ECUavQoUNVQwFJHdFg47rxpGIb07I0bu/dE1+QUyKRSsBwHk8kEhmHgJ2vqbdUPgXIgRKFESnwCTGYzWJaFRCKBTGqZxrtafA0H/j6Fg2dO49cD+/D35Wz3PTgPQAELIQLQGc0wWKc7WsqwhFoDGk+cErKnm29jopRyS8BCdSx2KWplc76WJIQG4ERe7T5Qviw9OQX3DB2O8cNvxsBu3cGAgclsrheYSBgG/n7Nf/C4nkwqBaT1643axcRiXGQUxg8bhbeffh5XigqxcfcO/LRvN/adPA6T2fPq2JyJAhZCBMBnVxgGUPq3PCUEeGYvltr9kuyfEgKAqGA5UAiU0kohuxS2cvuDlvCBT6EH7xLeFoHyADx46xg8+38Pok9aF5jNZjAMAwljqSdrOovSdrI6QUxyXDxmTXgALzzwMEoqK/Dxj9/j0582Ir+k2GX3L2YUsBAiAL7gVukvg0TSfAtrPsOi8sBut/z2A60pugVqC2/5gIc0r7XbH7SED3wKfCxg6ZiYhKfG34fpd49HcFAQWNaSBZVK27byqi344Cg6LBwvT3kM/5zyGH7K2IN//fAtdhw9JNi4hEABCyECsLfgtu41VR64rLnMtqy5dQFLhIKfBqOApSU6o9k29easDEu8rduwb0wJJUbHYNEjj+Oxu8bBzLK2IEHIQKUxfPblrpuGYfzwUdh/+iRe+uhdZJw8LuzA3ISWNRMigNqApeV5b4Xc8uKp9cCApdyBZc0AEMZPg3lg3Y678fUrgX5ShAQ65zNovDXw8fYpofDgEKyY+RwuffcTHhl7DyQSiUune5yFH+OA9G7Y99FabHnrPfRI7STwqFyPAhZCBFDbg6XlF0elNWDR6DwrYDGYWFtWKLKZbr6N4afBPHnTR3fhg4r40ACn7ZDLrza6ptbBzHpeh2V7PHbXOFz54RfMfnAS5H7+kHlAoHI9fsyjBw7GiQ3f4qM5C6AMbHsvHrGigIUQAbRmSkhpvUajN7t0TM7GL8OWMPY9zro8udDY3YrU1t2wnbSkGbDs5ySVMDCxnNd1HE6KjcO21R9hzfxXoQgIrFfk6qn8ZDJIGAaP3/MPnPtqI27pP1DoIbkEBSyECEBtR5dbHj8lpNF71ps3v2FjaKBfi4XF1+O3JPDUTR/diW8aFxfinPoVAJBKGMQEy6237z11LNPvHo+zX/6AkTf0BwBIJN71FiiVShEbEYk/3/0EH7/4stdlW7zrp0WIh2hV0a2thsXTMiyWYIOvR2kNmhKyH1/D4qymcbx4L1raHCgPwNdLluOzeQsRKJd7RJ2Ko/iM0Yy7xyNz3ddIS2ov8IichwIWQgTgSIbF04puK+tkWForXOHZu1S7E9/l1llLmnnx1jb/np5hSYyOQcbH63DfyFsBeF9WpSlSqRTJcfE4+p//YvTAwUIPxyl84ydHiMhoWpFhUcgtn5g8bVkzvyQ5rJndqJsSZg1yDCYWNUbPyiy5m7ObxvESvCDDMqh7Lxxf9zV6pHYU3RJld/CTyRAkD8BvKz/ACw88LPRw2owCFkIEUG2wvAkr/Ft+EQ2WW968PTXDEuZAhiXIXwo/KVPvdkjjnN2Wn1e7tNkzMyx3DxmOPR9+hrDgEK+eAmqJVCqFRCLBqmfm4P3n5zptJZkQKGAhRADVBkvwESS3P8NSbTB71BJTfpWQIzUsDMNQLxY76IxmW3O+eKcHLJbb44t6Pcn/jboVG994B1KJ1CtWATnLrAkP4NO5r3hs0EIBCyEC0FozLEF2ZFgUdYIarcFzsixtqWEBajMz1O22afySY3+pxOHnuSl8DUuRh00JjR9+M75ZvBwShvGZehV7MQyDx+4ah09e+qfQQ3EI/TQJEQCfYVG0sPEhAMhlEtv0iCdNC/GrhMIdqGEBamtfqBdL08o0tVsfOPtTc2wIv5+THqyHZPbuGDQE3772pmWjQgpWGsVY+7W8+9yLQg+l1egnSogAqluRYWEYprYXiwd1u+V7qDgyJVT3+2hKqGl8hiUquHWdhO0RZd2A0sRyHrG8vHtKR/zv9bchkUgoWLHDc/c9hKf+cb/Qw2gV+qkSIoBqPR+w2FcMyGdiNB6VYbG8yYU6mmGhXiwt4gOWyFbu1WQPP6nEtgdUcZW4u91GhITi15Xvw08mg5SCFbu9/9xLGNV3gNDDsBv9ZAkRgNZWdGtfQSC//NmTmse1uYaF73ZLU0JNKrVNCTk/wwLA1u22RMQBi0wqw8ZlK5EQGe3Tq4EctfGNlUhJSBR6GHahgIUQN+M4DjW2Zc12Zlg8sD2/uqatAQs/JUQZlqa4ckoIAKKttyvmDMtbTz2HYb1v8MjNC4UmlUqhCAjEr2+/j0C5c1eZuQIFLIS4mcHMwmQtYgy0o4YFqLNjs4dkWFiWszW6C7Gjm29j+AxLBdWwNInPsLhiSggAopXizrCM6jsALzzwMNWstIGfTIa0pGQsnTFT6KG0iH7KhLhZdZ2gw56iW6BOwKLzjDdvjcEEvqN+a3dq5oUFWt6EaQPEppVZMyzRrsqwhIg3YFEEBmLDP5fAZPaMIF7MpBIJXnhgEgb36CX0UJpFAQshblZtbTXvL5PAT2rfnyDfPI7v3yJ2/HSQXCZBgJ9jjbvCbcuaaUqoKbYpIRfVsPAZluIq8fViWTHzOSRERVNjOCdhWRZfLHwdAf6u+V1yBgpYCHGzautUib3ZFQBQWtvze8oqIXWNdTqoDc3MQmlKqEW2KSGla6aEYkIsdQ1iy7AM79MXT//jfp/cH8hVZFIpOsQn4LXp4p0aooCFEDfTtrLgFgCU1gyLp/Rh4XejDnFwOgioLbpVVdOOzY0xmVnbkm9XZ1jEFLAwDIP3nnuJpoJcQCqR4Pn7HxLtqiEKWAhxM9s+Qq3IsPCrhDyl0y0/JdSWDAs/JWQw047NjSmvNoDjAAkDhDvYnK8lMSKsYblv1G3ok9aFpoJcaKlIsywUsBDiZramcXZsfMhTWjMVVZ4SsOjatkIIAAL9pPC31vjQtFBDpVWW7EqEwh9SiWs2s+OLeav0JttSfCHJpDK8+eQzMFN2xWX8ZDJMvO0O9OqUJvRQGqCAhRA3szWNa0UxqtIHMywMw9jqWKgXS0NlWtcW3AJAsFyGAD/L24QYsiyP3XUvOsQnUO2Ki5nNZrz55LNCD6MBClgIcTNb0zg7u9wCtfUuHhOwOKGGBahtOkfdbhuyteV3UcEtYAka+SxLiUbYlUISiQSvTJ1O9Uxu4CeT4Y5BQ9AnrYvQQ6mHAhZC3ExraN0+QoAHTgk5YZUQUBvw8LdHavFTQq7MsABATLBlpVCxWtgMy9jBQ9EuJpaaxLmJ0WTCzPH3CT2MeugnT4ibObas2VMzLG0LWPgMi5oyLA2UumFKCKizUkgjbMAy6x8PwGTyjN9/b+Ank2HymDsRqlQKPRQbClgIcTO+cVyrMiy2Tree8YJdW8NCU0KuwmdYXDklBNSuFBIyw9IxMQljbhxM+wW5mdzPD1PvuFvoYdhQwEKIm/EZllbVsPAZFoMZLCv+OXxnZVj4KSW1h2xJ4E6u7nLLE0Mvlsfv+QdlVwQy6x8PCD0EGwpYCHEzvobF3o0PgdoMC1CboREzZ9WwUIalafwqoWgXByz8TtClAk4JPXjrGMquCEAikSAtqT26dkgReigAvCRg4TgOGzduxKhRoxAfH4+goCB06dIFTzzxBLKzsxtcr1arMXv2bCQnJ0Mul6NDhw546aWXoNFoBBg98TU1DnS6DfCT2HpteMK0EK0Scj13TQkJXcPSLSUV7WPjBLlvYlnifM/QEUIPA4CXBCwvvvgiJkyYgPPnz2PcuHF45plnkJKSgs8++wx9+vTB6dOnbddqtVqMGDECq1evRnp6Ol544QV06dIFK1euxM033wydTnybfBHvonWg0y3DMFBYr/eE/YSc0YcFqJ1SoqLb+jiOc0sfFqBOhkWgKaG7hwynNvwCYhgG44ffLPQwAAAen2MrKirCu+++i+TkZJw4cQKhoaG2c6tXr8bs2bOxatUqrF27FgDw1ltv4fjx45g3bx7efPNN27Xz58/HihUrsHr1aixYsMDtj4P4Dlun21ZkWADLtJBaZxL9SiGW5WzLr51Vw0IZlvrUNSYYzZZaJldnWKKst1+qMYDjODCMa7rqNmX88JshcfN9kloSiQQDunZDTHgEiivKhR2LoPfuBDk5OWBZFkOGDKkXrADAXXfdBQAoKSkBYPlUsmbNGiiVSixcuLDetQsXLoRSqcSaNWvcM3Dis2wZllYU3QJ1C2/FHbBoDCbwvb2CaUrIJfjpmeAAGeQy13Z95TM4BjPr9n44YcHBGJDejXqvCEzCSDB64GChh+H5AUtaWhr8/f2RkZEBtVpd79yWLVsAALfccgsAICsrCwUFBRgyZAgUCkW9axUKBYYMGYLs7Gzk5eU1eX96vR5qtbreP0Jaw5EaFqB27yGtXtzpcZV13x+5TIKAVmw/0JjagEXcQZq78QWwri64BYAAP6kt8HR3HUvfzl0pWBEBg9GI/uldhR6G5wcskZGRePPNN5Gbm4v09HTMnDkT8+bNw+2334558+bhqaeewqxZswBYAhbAEuQ0hj/OX9eY5cuXIzQ01PYvKSnJyY+IeDtHalgAQGnNyFSLPMNiK7htY/2K5TZk9W6TWJRp3NPllifU0ub+6V2pfkUE/GQyDOzaQ+hheH4NCwC88MILSExMxPTp0/HJJ5/Yjg8dOhQPPfSQbTmcSqUCgAZTR7yQkJB61zVmwYIFmD17tu1rtVpNQQtpldoaltYFLHzNi9iLbm1Lmts4HQTUZlgMJhY6o7nNGRtv4Y59hOqKCpYju1Tr9qXN/boI/6meWApv+6R1gUQiAcuygo3D4zMsAPDaa69h0qRJePnll5GXl4eqqirs3bsXOp0OI0eOxE8//eS0+5LL5QgJCan3jxB7cRxn66OikLe+6BaoDXjEypkZFqVcButqbqpjqaPMTU3jeHyGxd0By6DuvSCjnZlFIVAuR3pyB0HH4PEBy59//olFixZh1qxZmD9/Ptq1awelUomhQ4fi559/hp+fH+bMmQOgNrPSVAaFr0dpKgNDSFvpTSzM1k61rWkcB9RmZMSfYXFOl1vA8skuhPYTaqDEzVNC/Eohd04JBcoDqP+KyHRP6Sjo/Xt8wPLbb78BAEaNGtXgXFxcHNLT03Hx4kVoNJoWa1RaqnEhpK2qDbXZkaBWTm94ygaIamtju1AnZFjq3g5lWGq5e0ooWoBut/GRUW67L9Iys9mMhMhoQcfg8QGLwWD5pMEvXb5eSUkJJBIJ/Pz8kJaWhoSEBGRkZECr1da7TqvVIiMjAykpKVSTQlyGL5iVyySQSVv358fXsGgNIp8SctLGhzwKWBpy95RQlG1KyOCW+wOA+CgKWMTEzLKC/0w8PmAZMmQIAGDVqlUNpno++eQTXL16FYMHD4ZcLgfDMJg+fTo0Gg2WLl1a79qlS5dCo9FgxowZbhs78T18hqW1BbdA7WaJ4s+wWAKLYCdMCQF1ut3SSiGbUtuUkJuKbgVYJZQQJeyneVKfhGEEz7B4/Cqh++67Dx9//DH27NmDzp0745577kFYWBiOHTuGHTt2IDAwEKtWrbJdP3fuXGzevBkrVqxAZmYm+vbti2PHjmHbtm0YMGAAnn/+eeEeDPF6fLDR2i63QG2RruiXNde4aEqomgIWnrt2auYJNSVkZllIqQ+LKMhkMiRGxwg6Bo//TZBKpdi2bRuWL1+OxMREfPXVV3j33Xdx/vx5TJo0CUePHsXAgQNt1ysUCuzevRvPP/88zp49i3feeQfnzp3DnDlzsH37dgQGBgr4aIi3szWNa2WXW8v3eMiyZp3zim6Buu35xf243aXaYLJl6vh9flyt7o7NHN/G2MUiQ0Jhph4sohITHiHo/Xt8hgWwLDWeP38+5s+fb9f1oaGhWL16NVavXu3ikRFSH19/EuhIhsWfbxwn7hdxqmFxLb5pnFwmsf1OuBo/9WQ0c1DVGBEW5PqpKJnUK96evIqfi7eBaInHZ1gI8ST8dI4jbzSek2FxzsaHPOp2W19Jnekgd21EKJdJbY0A3TUtJJNK4Z5cDrGX0EEkBSyEuFFt0W3r//A9pnFcDV90SxkWV7C15XfTdBCPv7+SKvesFGI5FrRHs7iYBexyC1DAQohb1Rbdtj7Dwn+Pp6wSckanW4ACluvZCm4V7lkhxLPtJ+SmDAvtISQ+JrOwrz0UsBDiRtVtKLq1NY4zmNxW+NhaLMvZpqycNiUUQJ1u6yqtcu8KIZ6t8NZNS5urdTq3TXkR+2hragS9fwpYCHGjtkwJBVkDFpYDdEZhU7NNqdKbwMdSzp4SooDFokzLTwl5d4alsKwUfjIqvBULlmWRV3xN0DFQwEKIG/FFtw5NCdVp5a8VaS8WPqiQyyRO21mZpoTq4wOGSIV7MyzRbs6wFJaVuuV+iH1MZrPgPxMKWAhxI63e8QyLRMKIvo7F2fUrdW9LazDDZBZnZsmdbFNC7i66tS5tdtcqoYLSxrdbIcJgGEbwnwkFLIS4UY3RuqzZgRoWy/fxGyCKsyCxyrak2Xmp/Lq3xS+Z9mW2KSE3teXnRbl9SogCFjHxk8kow0KIL2lLhgWo7d8i9ikhZ2ZYZFKJreCYpoXc35afVzsl5J5lzWUqleBFnqS+ywX5gt4/BSyEuFFbaliAuhkWkQYsTm4ax+OzLL4esBjNLCqteyq5fZWQ9f7KtHqwrOtXqXEch8ysc6JdEeeLjl04J+j9U8BCiBu1ZbdmAFD4i3tKyBUZlrq35+srhcqt00FSCYMwJz/HLYm8rj2/Oxz8+zSMJnEG574mp7AAaq1G0DFQwEKIG9X2YXFwSkgu8ikh28aHzl2OSiuFLEqsBbcRCn9IJO7tUSKXSW0/B3cV3h49fxb+fu4NzEhDJpMJB86cEnoYbdv80Gg0ori4GKWlpQgKCkJ0dDTCwsKcNDRCvA8/lRPo4JLfILFPCVl3VHZ2hoUCFguh6ld4UUp/qGqMKNHokRYb7PL7O3rurMvvg7SMYRgcPS/8z6LVAUt2djY2bNiA7du348iRIzAa67+AJCYmYsSIERg3bhzGjRsHqVTY3R0JEZOaNmZYlNYpIbHu2FybYXHRlJCPb4Bo20fIzSuEeFFKOS6VaG2ZHlfLupqLksoKRIeFu+X+SOOkUin2nDgm9DDsD1gOHTqEhQsXYvv27WBZFn5+fujRowdiY2MRERGBmpoalJeX4/z58/jvf/+Lr776CjExMZg1axZmz56NwMBAVz4OQkSP4zjbVI4juzUDQJB1SkisOzbX1rDQlJArCJ1hsa0U0rhnpRDHcdi0Zyemjb2Hut4KqKSyAofPnhF6GPYFLA8++CC+//57REdHY9asWbj//vvRr18/yOWN/9Hk5eVh27Zt+PLLL/Hqq6/ik08+weeff45Ro0Y5dfCEeBK9iQW/uCLQwYCldsdmkQYsLsqwUHt+i9qARbgMS91xuMNPGXsw455/uO3+SH1Gkwk/7tkpitVadhXdHj58GJ999hny8/Px7rvv4qabbmoyWAGApKQkPPbYY9i5cyfOnTuHUaNGYf/+/U4bNCGeqO40jsN9WKwBi0a0q4RcU8PCF/Hyt++r+CmhSIEzLO6aEgKA7UcOQWdwT0aHNOQnk+GnfbuFHgYAOzMs58+fh8zBdFxaWho+//xzmGhpGvFxfKFsgJ8EUgdXePBTSdW+tkooiKaEgNous4JNCQmQYanR67Dt0H6MHTwEMilNC7mbzmDA9iOHhB4GADszLI4GK86+DUI8WVt2aubVZlhEGrC4qA8L1bBYlApddBvs3v2EeGt/2UzBigCMJhP+u+1X6Azu/Xk3xal9WKqqqqDRCNtYhhCxshXcOriPEFAb7IhxlRDLcqjSu6rTLQUsAFAmeIYlAIB7p4QAYMtfe1FYViqKOgpf4ieT4aMfvxd6GDZtDlg4jsPKlSuRmJiIsLAwhIaGIikpCe+++64ThkeI96i21p0o2pBhUYq4D4vGYAL/fhLsosZxvrysmWW5OhsfCtSHxZphKdMY3NKen2c2m/Hhxm/BsrRbt7uYzWYcOfc3jomg/wqvzQHLSy+9hIULF+LOO+/Ev/71L7zzzjtIT0/HnDlz8PLLLztjjIR4BW0b9xECapc1i7HTLT8dJJdJEOBgY7ym1F0l5M43SjGprDHCbH3sEQphpoQiFZZAycRyqHRztmvNz5vgmz95YUilUnzwv2+EHkY9dgcsZnPjKei1a9fivffew6effoqZM2fi+eefxx9//IGxY8dizZo1ThsoIZ6u2jYl5IwMi/imhFy1QqjubbKcJZPji/jpoNBAP/jLhNlVxV8mQViQe9vz866Vl+HrP36nvYXcgGVZlFRW4Lsdfwg9lHrs/q2/4YYbcPjw4QbHa2pqkJiY2OB4QkICamhrcEJs+CCjTRkWf/E2jnPVCiEACPCT2t6kfbUXC183wi8tFoqtF4ub61gAYNHaT8Aw7t1DyRcxDINX13wsmmJbnt0BS48ePXDTTTfhhRdeQHV1te34mDFjMGvWLHz77bc4d+4cTpw4geXLl2PdunW4/fbbXTJoQjyRLcPihBoWg4mF0Syu+XxXrRDi+fpKIX5Jc7RA9Ss8foVSiZszLABwuSAfn2z6H0xNZPxJ25nNZlwpKsSanzcJPZQG7A5YvvrqK2zevBk//vgjunXrht9//x0A8Omnn6Jz586YOHEiunfvjr59++Kf//wnbr31Vnz88ccuGzghnsaWYXHCKiGgtohXLNQ616wQ4vl8wGLNaEQJnGGJDhZmpRBv6frPYDT55u+AO0ilUsz/5H2YzOLL4rZqInTs2LE4c+YM7rnnHtx1112YNGkSpFIptm7dir///hs//vgjfvzxR5w7dw6//voroqKiXDVuQjyOMzIs/jIJ/KWWP1uxFd66OsPi691uxZZhcdd+QtcrrijH2199DjOtGHI6k8mEkxezRFe7wmt15ZZCocD777+Pffv24eTJk0hPT8cXX3yB9PR03HPPPbjnnnvQuXNnV4yVEI+mdULjOKDOSiGR1bG4soYFoP2ESqusS5qDhVkhxONrWITKsADA8i/W4XJBviizAJ6MYRg8snyxaPvdOFxqPmjQIBw7dgzPPPMMHn/8cdx+++24cuWKM8dGiFepsQYsbWkcB9RmaLQiax7nylVCAE0JiSXDUrtjs3ABi86gx+SlCyGRCLNayhuxLIs3vlgrqr4r12v1T7u4uBhHjhxBcXExZDIZXn31VRw7dgwajQY9evTA6tWrRRudESIkPiPS1gyLQvQZFhdNCfl6wCKSVUJC7CfUmANnTmLVN1/S1JATmEwmnMvNwesbxN2KxO6ApbKyEuPGjUN8fDxuvPFGxMfHY/z48VCpVOjatSv27duHFStWYMmSJbjxxhtx8uRJV46bEI9T7awMi0i73dbWsLh4SshHu92WCtyWnyeGKSHews8+tkwNUW+WNmEYBpOXLoTBKO6/LbsDljlz5uDXX3/FkiVL8Msvv+C1117Dr7/+ijlz5tiueeqpp3DmzBnEx8djwIAB1OmWkDpqO9227Q3d1jxObEW3Ls6w+PKUkJnlbI3jYoTOsFjvv0zr3vb8jdEZ9Bi3YDYMJhO17W+DZ997W9RTQTy7A5Zff/0VU6dOxSuvvILbb78d//znPzF58mT88ssv9a5LTEzE5s2b8cUXX2DdunVOHzAhnqp2L6G2ZVj45nFi63br6hoWX54Sqqg2gOUAhhGuLT8v0rpKyCxAe/7GnLl8CRMXL6B6FgeYWRaf/rQRH238Tuih2MXunzDHcQ1+ISQSSZP1Kvfffz/OnhV/xEaIu9gyLG1ozQ+IeErIxauE+MyNL64S4qdfIoL8IZMK+8bsJ61tzy+GaSEA+Gnfbvzz0w+FHoZHMZpMOHjmFGatelPoodjN7leWO+64Axs2bEBKSgr69u2LzMxMbNiwAQ899FCT3xMWFuaMMRLiFWw1LG3MsIh3lRB1unUVsRTc8qKVclRWG1Gq0aMLgoUeDgDgjc//g54dO+G+UbdBStmWZhlNJlwrL8O4BbM9am8muwOW1atXo6SkpF5dytixY7F69WqXDIwQb2NbJeSFGRaW5VCld1enW/E8bncRS8EtL0opR1axRjQZFt7U119FqEKJ0QMGQSp17o7h3sJoMqFcrcLIZx5HSWWF0MNpFbvD0LCwMGzZsgUFBQU4ePAgCgoKsGXLFsqiEGIHk5mF3mQpCmx7hsXy/dUiKrrVGEzgZ4eDXTUlZF195IurhESXYRFBL5bGGIxGjH95DnZmHqHlzo0wmkxQaaowYtYMXMrPE3o4rdbqvFlcXBwGDBiAuLg4V4yHEK9Ubaydvml7HxbL92tEVHSrqrYEEf4yCQL8XPPJls+wGEwsdEbxPHZ3qM2wCFtwy7MtbRZZwAIAeoMBd819DlsP/kVBSx1GkwllqkrcNPMRnM/NEXo4DrErYHFGIzhqJkd8Gb9CyE/KwF/Wtvl1MTaO4+tKwoNcMx0EWJZzS5j69+crxJZh4bcHENuUEE9vMGDcgtn4attvQg9FFExmMy4X5GPwk9OQlZcr9HAcZtcrZ48ePfD99987dAd5eXl48sknsWLFCoe+nxBv4KweLACglFuCAo1OPAFLZTUfsLguA8AwjM8ubba15RdJwFLb7VaYDRDtYTSZMOX1hXjxw9VgORZms29l5Xgcx2Hrwb/Qf/ok5BQWCD2cNrErYElLS8MDDzyA1NRULFq0CKdOnWo2Y1JWVoZvvvkGd911Fzp16oTNmzejf//+Ths0IZ7GWT1YgNoakSoRZVgqayxvXKEuWiHE89UNEG0bH4ql6JavYRFphqWud77+Ane99BxqDHqPWhHTVnwjveVfrMM9819AVbVW4BG1nV0f9zZt2oTdu3dj4cKFWLp0KV5//XUoFAr06dMHsbGxCAsLg06nQ3l5Oc6fP4/Lly8DAMLDwzFv3jzMnTsXSqXSpQ+EEDFzVg8WoE7AIqLiUz7DEubCKSHAd5c2izXDIsYalsb8diAD/R+bhP8texvdklO8vsmc0WSCzqDH9DeX4rsd24QejtPY/eo5YsQI7NmzB2fOnMG6deuwY8cO/PXXXw3aIUdGRuLee+/F+PHjcf/990MuF8cfGCFC4lf0OCfDYnnTrhLVlJAlAxAW6NqiUF8MWIxmFhXV4sqw8IFTubU9v4QvLhKx87k56PvIRPxzynT8c+pj4DgOfjLXrGgTCsuykEgk+OPwAcxYsRQFpSVCD8mpWv3T6t69O1auXAkA0Gq1KCgoQFlZGQIDAxEdHY2EhASnD5IQT8e30XdGDQvfSVajN4HjODCM8G8W7sqw8DUs/P35gnKtARwHSCWMS2uEWoPfHsDMcqioNiBSJIFUS4wmExav/QSb9u7EFwtfR7cOKWAYRhR/Q23FZ1VmrVqBz3/fIvRwXKJNeTGFQoG0tDQMGjQIvXv3pmCFkCbYMixt3KkZqM2wmFnO1j1XaPyeMqEuDlgirG/YfEbHF9ja8iv8IRVJJsNPKrGtCPOUaaG6jmedR99HJ+Klj96FSqvx6IJco3Xjxw2//YwuE8d7bbACtDFgIYTYx5kZlgA/ie2NSyzTQrYMi4unhPg3yQofyrDY6ldElsWwNY+r8szg0WgyYdU3XyJ5wp1Y/uU61Oj1MJnF8fdkD76A+OeMPeg++T7MWLEUhWWlAo/KtbwqYPnxxx9x2223ITIyEgEBAUhJScHEiRORl1e/o59arcbs2bORnJwMuVyODh064KWXXoJGoxFo5MTbOTPDwjCM6ApvVdZVQq6eEgq3TkWU+2CGRSwFt7wopTi73baWWqvBws8+Qsp9d+HDjd+hWqcDy7IN6jPFwmQ2g+VY/HnkIG58fAom/PNFnLtyWehhuYVXVBxxHIcnn3wSn376KTp27IgHH3wQwcHBKCgowO7du3HlyhUkJSUBsNTdjBgxAsePH8fo0aMxceJEZGZmYuXKldi9ezf27NmDgIAAgR8R8Tb8RoXOyLAAlpVCldVGqEWXYXFxwGKdEqrQ+k7AIrZ9hHi2brcesLTZHtfKy/D8eyvxyqcfYdKYsXj2/yaia4cUGE0mwYtzTWYTZFIZKqqq8OlPP+Dfm3/A5YJ8QcckBK8IWN5//318+umneOqpp/D+++832PTKVGft/VtvvYXjx49j3rx5ePPN2m2158+fjxUrVmD16tVYsGCB28ZOfEO13nmrhAAgWO4HoEY0GRZ31bDwGRafmhISaYaFH48n1rA0R1NTjU82/Q+fbPofhva6AVNuvxPjho9CdFg4TCYTpFKpW4p0+UBJbzDgj8MH8O2OP/D9zj+gN/hOsH49jw9YampqsGTJEqSmpuK9995rdIdOmTU65jgOa9asgVKpxMKFC+tds3DhQnz44YdYs2YNBSzE6WwZFif0YQHq9mIRPsPCcZxtLyFXr2KJ8MEMCx+wiGUfIV5ciCUTXaTSCTwS19l3MhP7TmbiibeXoX96N9wzdATGDx+F7ikdAQBmsxkcOMikbfu7NlunoPhMTnFFOTbv3YWfMvZg+5FDqNF773PcGh4fsGzbtg0VFRV45JFHYDab8dNPP+HChQsICwvDrbfeik6dOtmuzcrKQkFBAcaMGQOFQlHvdhQKBYYMGYKtW7ciLy/PNoVEiDM4sw8LIK5eLDVGMwxmy3y/q2tY+NsvrzaIZkm3qxVbA5bYEHFNVceGWgMWtfe/mXIch8Nnz+Dw2TNY+NlHCFEocUPnLujXpSv6demKG7v1RLvoGMj9GwaVLMcBHNdoszozy6K0sgLHLpzDkXN/48i5v3H0/FnklxS742F5HI8PWI4ePQoAkEql6NWrFy5cuGA7J5FI8MILL9j6xmRlZQGwbDXQmLS0NGzduhVZWVlNBix6vR56fW0KVK1WO+VxEO/mzFVCQG0vFjFMCfHTM/5SCQJdtFMzj+//YTCxqDGanfZ8itk1a0AgtoCFz7Bc84GA5XpqrQa7M49id+bResdDlUokREUjPjIa8ZFRkPv5wU8mg0QigdFkgtFkQkllBQrLSlFQWoKSygrRFveKkV1/7bm5ju/u2L59e4e/1x7FxZZIdNWqVejbty8OHTqErl27IjMzE48//jjeeecddOzYETNnzoRKpQIAhIaGNnpbISEhAGC7rjHLly/HkiVLnPwoiLdz5iohQFxTQnxPlNAgP5dnPIL8pfCXSmAwsyjXGrw+YOE4rk7AIq4alrpTQr6S7WqJSqOBSqPB2RzfWLXjbnb9tXfo0MGhX0aGYeoVvLoCH536+/tj06ZNtuZ1w4YNw/fff4/evXvjnXfewcyZM51yfwsWLMDs2bNtX6vVapo+Ii1ydoaldkpI+AyLyk0rhADLa0q4wg/X1HpUVhvRLtzldykotc4EndHyGie2DEuMNYDSm1hUVhttBdGEuIpdr55TpkxpELBkZ2dj7969CAsLs22CeO3aNRw/fhyVlZUYNmwYUlNTXTLouvhsSf/+/Rt02u3RowdSU1Nx8eJFVFZW2q5tKoPCT+80lYEBALlcTvsjkVazbX7otBoWEWVYatzTlp8XHuSPa2o9yn2g8JbProQG+iHAxdNtrRXgJ0V4kB8qqo0oUusoYCEuZ1fAsn79+npfnzlzBkOGDMHLL7+MBQsW1Ctg1Wq1WLZsGT7++GN8/PHHTh1sY7p06QIACAsLa/Q8f7ympsZWu8LXslyvpRoXQhylsQYWfGakrfjbEUMfFr4HS6iLu9zybL1YfKB5nFing3hxoYG2gKVrfIjQwyFezqFOt3PnzsXAgQPx+uuvN7ra5o033kD//v0xb948pwyyOaNGjQIAnD17tsE5o9GIixcvQqFQIDo6GmlpaUhISEBGRga0Wm29a7VaLTIyMpCSkkJTPMTpqqx9WJQBzl7WLPyUUKWbutzy+MJbX1jafE0tzhVCvDhrIHXNi5c2E/FwKGDJyMjAwIEDm71m4MCB2Lt3r0ODao2OHTti9OjRuHjxItasWVPv3JtvvonKykqMHz8eMpkMDMNg+vTp0Gg0WLp0ab1rly5dCo1GgxkzZrh8zMS36E1mGEyWOgSlF/ZhcWcNC1B3abPwwZqriXWFEC/Oh5Y2E+E59OrJsiwuXrzY7DVZWVngOM6hQbXWRx99hJtuugkzZszApk2bkJ6ejszMTOzYsQPJycl4++23bdfOnTsXmzdvxooVK5CZmYm+ffvi2LFj2LZtGwYMGIDnn3/eLWMmvoMvuAWcGbBY3rQ1euEDFltbfsqwOJ3Yp4RifXhpM3E/hzIsw4cPxw8//IBvvvmm0fNff/01Nm7ciOHDh7dpcPbq2LEjjhw5gmnTpuHo0aN4//33kZWVhaeffhqHDh1CXFyc7VqFQoHdu3fj+eefx9mzZ/HOO+/g3LlzmDNnDrZv347AwEC3jJn4Dr5+Jchfattlua3E1YeFnxKiGhZnE32GxQe63RLxcOjj3ltvvYW9e/fi4YcfxooVKzB06FDExMSguLgY+/btw8mTJxEcHIwVK1Y4e7xNSkpKwrp16+y6NjQ0FKtXr8bq1atdPCpCgCq9JahwVnYFqK2FqdKZBO+B4fZVQgrL/fhCwFIk8hoWvtttYSsCFndl3omwXPFzdugVtFu3bsjIyMCsWbOwZ88enDhxot754cOH48MPP0S3bt2cMkhCPFmVbYWQ8wIWfkrIxHLQGVkEOmm5tCP4qRlX7yPEq92xWfjskqsVe0iGpTVTQlVVVa4aDhGRqqqqZluEOMLhV9AePXpg165dyMvLw4kTJ6BSqRAaGorevXvTKhtC6uCnhJROWtIMWPYkkjAAy1mmhYQMWPh+KBFu6sPhK1NCLMvV2UdInDUs8dYMS0W1ETqj2a5eMQkJCcjLy0NwcDB1x/VCHMehqqqqQV80Z2jzR76kpCQKUAhpBl8YG+zEKSGGYaCUy6DWmaDWmRAjUAsMM8uh3Bo4RLopYOEDI29vHFeq1cPMcmAYIFopzoAlNNAPcpkEehOLYrUe7SODWvweiUSCdu3auWF0RCjOzqzwHCq6JYTYz9aDxYkBCyCO9vyV1QbwU9Xu6nTK34/exKLGYG7has9VbK1fiVLKIZOK86WaYRha2kzcxuFXULPZjO+++w5//vknCgoK6u1gzGMYBtu3b2/TAAnxdLVTQs4OWITvxcJnOUID/eDnpjdVRZ0NEMu0erTzb/lTvScS+5JmXmxIAK6UVVPAQlzOoVdQrVaL0aNH48CBA7YVCnUrgvmvaX6SEEDjglVCABBiy7AIF7CUad07HQRYXl8ilf4oVOlQqjGgXbh3Biz8ypvYYHEW3PJshbe0tJm4mEMfiV5//XXs378fS5YsQWlpKTiOw+LFi1FYWIhvv/0WqampuO+++xrNuhDia1yxSqju7Qk5JeTugltelLWmo7TKe19jClU1AICEMHH3hopzYGkzIY5wKGDZuHEjBg0ahFdeeQURERG247Gxsbjvvvuwc+dO/Pnnn/U6zBLiqzQuClhCra3wVTXCBSxlGkvAEKl0d8Biub8yrRcHLJWWACA+TNwZFup2S9zFoYAlNzcXgwYNqr0RiaReNqVdu3a48847sWHDhraPkBAPV1t069zGaqHWRm2VQgYstgyLe+ssbBkWjfeuFMqvtGZYQsWdYYmnolviJg4FLAqFAhJJ7beGhoaisLCw3jVxcXHIzc1t2+gI8QKuKrrl+5FUCtiPpFyAGhYAiAq2BCwlXj0lZAkAxD4lFEvt+YmbOBSwJCcn1wtGevTogR07dtiyLBzHYfv27YiPj3fOKAnxYK7owwIA4dYMi5AdX8uErmHReGfAwrKcLQDgMxhixdewFFfpwLLUdp+4jkMByy233IKdO3fCZLK8EE+dOhW5ubkYPHgwXnrpJQwdOhTHjx/HhAkTnDpYQjwRXxTr7AxLKJ9hqREuwyJ0DYu3BixlWgMMZhYMUxsQiFVMsBwMAxjNHEq9uKaICM+hV9AZM2YgMjISJSUliI+Px6OPPorMzEx89NFHOH78OABgwoQJWLx4sROHSohn0riocRyfYamsFn6VUCTVsDhVgbV+JSZY7rb+No7yk0oQGxyAIrUOBZU6xIh8GTbxXA79JaSlpWHevHn1pnw++OADFBUVYf/+/SgoKMD333+PoCDv7I9ASGvwy5qdHbCEBfI1LMIHLEJNCZV5aYaFX9IcL/KCW16CdSUTH2gR4gpOfQWNjo5GdHS0M2+SEI9mMLHQm1gAzl/WHMbXsAhUdMuynC1giRJoSqii2gijmRV9FqK1Cir5glvPyFYkhgfhWG4l8isoYCGu411/5YSIjFZf24XW6VNCAu+pU1ljBOvmfYR44UH+kEosnbS9cRNEW9M4D8mwJFpXMuVThoW4kF2voKmpqQ7dOMMwuHTpkkPfS4g34OtXAv2kTt/ATuEvhUzCwMRyqKwxINDfvW9u5dYCy5AAmdszHBIJgwiFP0qq9Cip0tuW1nqLAlvTOE8JWCzPPwUsxJXsClhYlm2wL5DBYLD1XpHJZIiMjERZWZlt5VB8fDz8/d37qYsQsVG7aIUQYPlAEBbkj1KNHhVao9vrHcqsBa+RSmE254tSylFSpffKlUIFtgyLZwRiieHWDAtNCREXsutjUU5ODi5fvmz7l5mZifj4eAwfPhx79+6FTqdDYWEhdDod9uzZg+HDhyMhIcG2YogQX2Vry+/k6SBemK3brfunRYRqGserXdrshVNClZ7RNI6XGGZZYEEZFuJKDuVx582bB51Oh+3bt2PIkCG2rrcSiQRDhw7Fn3/+ierqasybN8+pgyXE09iWNLsgwwIIu7S5VKAVQrxoL10pZDKzKK7yjH2EeHxxsKrGaPudJ8TZHApYNm/ejLvuugtSqbTR8zKZDHfddRc2b97cpsER4ulc1YOFFxYk3NJmoZrG8fj2/N42JVSo0oHlAH+pBFFu7m/jqOAAP4RYg3Ja2kxcxaGARa1WQ6VSNXuNSqVq8RpCvJ2rerDwwgKFW9pcbN3HJ1qgRmH8VJS3TQnlVVQDANqFB0IiYVq4WjwSw63TQlTHQlzEoYCle/fu+Oabb5pcAZSVlYVvvvkGPXr0aNPgCPF0tn2EApy7UzOPX04sxAaIxWpLwBIbIlzRLeB9GZar5ZY3/HYRntV4k1YKEVdz6GPfK6+8gvHjx+OGG27AY489hqFDhyImJgbFxcXYu3cv1q5dC61Wi1deecXZ4yXEo/D7CDm7aRwvNFC4Gha+zkKoVuzRXrpjM59hSQr3jIJbHvViIa7m0Kvovffei/Xr1+OZZ57Be++9h/fff992juM4hISEYN26dbjnnnucNlBCPJG6hs+wuKrotrbjq7sJnWHhNwUsUusEuX9XySu3BiyelmGhpc3ExRx+FZ0yZQrGjx+PTZs24cSJE1CpVAgNDUXv3r1x7733IiQkxJnjJMQjqWosgQSfCXE2flmzys3LmlmWQ4l1KkaoDAvfLK6y2gid0YwAv8YXAXiaPOsbflK4hwUstLSZuFibPvYFBwdj8uTJmDx5srPGQ4hXqXRTwOLuDEuZ1gAzy4Fh3L+PEC8kQIZAPylqjGZcU+uQHKkQZBzOVpth8awpIX68/PgJcTbaS4gQF+IzLPzyY2cLF2hZM1+/EqmQO33LAXsxDFM7LaTyjmkhndFsW33laRmW9tYprOIqvSB7WxHvZ1eG5fPPPwcAjB8/HsHBwbav7TFlyhTHRkaIF1BZV++4OsNSWW0Ax3ENttBwFb5+JSZY2D4hsSFyXC7Vek0dy1XrdJDCX2r72XqKsCB/hATIoNaZkFdRjc6xwUIPiXgZuwKWadOmgWEYDBo0CMHBwbavm8O/eFLAQnyZq2tY+AyLieWg0Ztctnz6enyGRaiCW15ciHdlWGwrhCKC3BZ8OlP7yCCczlcjt4wCFuJ8dgUsa9euBcMwiI+PBwCsW7fOpYMixBuwLFdnSsg1gUSAnxQBfhLojCwqtEb3BSxqYQtuebFetlLoajnfNM6zpoN47SOsAQvVsRAXsDvDUtfUqVNdMRZCvIrGYALLWf7fVRkWwNKPJK+8BiUaPdpHuueN7hrfg0UkGZZr3hKw8CuEPKzglscvxaaAhbiCQ9VyGo3G2eMgxOuorIWwcpnEpUtu+U0A3dlAzZZhCRE2w+K1U0IenGEBaKUQcQ2HApbY2Fg8/PDD+P3338GyrLPHRIhXcHX9Cs/W8dWNLer5lSyCF92G8hkW7+h2e6XMM5vG8dpThoW4kEMBS8eOHfH111/jzjvvREJCAl544QUcPXrU2WMjxKO5un6FJ0SL+mI135ZfPFNCLD//5qE4jkNOqRYAkBLlmT1l6gYsHOfZPw8iPg4FLCdPnsTx48fxwgsvQCqV4r333sPAgQPRrVs3LF++HLm5uc4eJyEeh++N4uoMS5Sbp4TqdrmNFXhKKDpYDoaxrJIq1Xp2lqVEo4fWYIaEqX3j9zQJYYGQMIDexHrdHk9EeA53fOrVqxdWrlyJq1evYuvWrXj44Ydx9epV/POf/0RqaipGjhyJ//znP84cKyEepXZKyLWdYN2dYamoNsBotnx65oMlofhJJbYxXFN59hvk5RJLdiUxPBD+Ms/s6eknlSDBugniFZoWIk7W5r8KhmFw22234fPPP8e1a9fw5Zdf4rbbbkNGRgaeeOIJZ4yREI9UWePapnE8W9Gtm2pY+HqRSIW/KN5Y471kaXNOGT8dpBR4JG2TbF2plltGAQtxLqe+2phMJuj1euj1erAsS3OYxKe5u4al1E0ZFn5zO/6TtND4aSlPD1gul1re4FPctDTdVfjprCvWAIwQZ2nznvdmsxm//vorvvzyS2zZsgU6nQ4SiQSjR4+mTRGJT1O5qYal7pSQO9rz51uX3iaKJGDhMyyFHr5L8OVSS7uIDh5acMvjC4azSylgIc7lcMBy4MABfPnll/juu+9QVlYGjuPQp08fTJ48GQ899BBiY2OdOU5CPI67Mix8DYfBzEKtM7k8QCqw9jwRS4aFD5z4pmueKofPsHh4wJJqndK6TAELcTKHApa0tDRkZ2eD4zgkJibipZdewuTJk9G9e3dnj48Qj+WuVUIBflIEB8hQpTOhpErv8vvLtwYGieHiCFj4niVXKzy3ZoJluTo1LJ4dsKREW8Z/uVTr1g05ifdzKGApKirClClTMHnyZIwaNYp+IQlphLsaxwGWaSE+YOkU49qizavWqRexTAm1C/f8DEuhWge9iYVMwojmeXVUUngQpBIG1QYziqv0gi99J97DoYCluLgYgYGe/UdFiKu5NWBRypFdonXLSiE+w9JOJBkWfqPA4io9dEazS7dBcBW+YVz7iCDIpMKvvGoLf5kESeGByCmrxqUSDQUsxGkc+sugYIWQltXWsLi2Dwvgvl4sOqMZpdagSCyZgPAgPyj8LUFKvocW3l728A631+MfB9WxEGeyK8Py+eefAwDGjx+P4OBg29f2mDJlimMjI8SDGc0sNHoTAPdNCQGuD1gKrAFBkL/U5cXE9mIYBu3Cg3D+WhWuVtSgY7Tn9TG5WGxZIZQa7S0BixI7z5fYmuER4gx2BSzTpk0DwzAYNGgQgoODbV83hy+2ooCF+CK1NbsCACEBbe4e0CJ3teev24NFTLVr7cIDcf5alcfuEpxVXAUASIsNFngkzpEaTRkW4nx2vZKuXbsWDMMgPj4eALBu3TqXDsoZVqxYgfnz5wMA9u/fj0GDBtU7r1arsXjxYvzwww8oKipCfHw87rvvPixatAhKped9QiPiwk8HBctlbqlJcNeOzQUiK7jl1a4U8swpoQvXLBmWNBcXTLtLKk0JERewO8NS19SpU10xFqc5ffo0Fi1aBIVCAa224R+MVqvFiBEjcPz4cYwePRoTJ05EZmYmVq5cid27d2PPnj0ICKBCMeK4SmvAEuKG6SCgNmApdnG3V7EtaebxBcB5Hri0ubLaYMuMeUuGhV/anFteDaOZhZ+HFxITcfC63yKj0YipU6eiT58+GD9+fKPXvPXWWzh+/DjmzZuHrVu34s0338TWrVsxb948HD58GKtXr3bzqIm3KddY9hGKVLq+4BaozXi4uuhUbEuaeZ68tDnLWr+SGBYIpdz104fuEBscgEA/KUwsh1wPnaYj4uNQwJKXl4cdO3agurr2F5FlWaxYsQJDhgzBrbfeil9++cVpg2yNZcuW4cyZM1i7di2k0obLGzmOw5o1a6BUKrFw4cJ65xYuXAilUok1a9a4a7jES5VpazcIdAc+gKjSmaDWGVu42nFiW9LM45c253tghiXLOh3k6v457iSRMOgYY8my8I+PkLZyKGBZuHAh7rvvPvj51aa7ly1bhgULFmD//v3YsWMHxo0bh8OHDzttoPY4duwYli1bhkWLFqFbt26NXpOVlYWCggIMGTIECkX9inyFQoEhQ4YgOzsbeXl57hgy8VJlWj7DInfL/SnkMtuqnXwXZhn4DIZY2vLzkqwBS6nGgGqDSeDRtM6Fa5aC286x3hOwAEDnGMv01kVrQTEhbeVQwJKRkYFbb73VFrBwHId//etfSE9PR25uLg4dOgSFQoG3337bqYNtjl6vx5QpU9CnTx/MnTu3yeuysrIAWLYXaAx/nL+usftRq9X1/hFyvTI3TwkBdaaFXBSw6IxmFKgst90hUlzLb0MCZQi2Tqd42rQQv6Q5LcY76ld4nawB2AXKsBAncShgKS4uRnJysu3r48ePo6SkBM888wzatWuH/v37uz3D8uqrryIrKwvr1q1rdCqIp1KpAAChoaGNng8JCal33fWWL1+O0NBQ27+kpKQ2jpx4ozLrap0ohXsyLIDr61hyy6vBcZaVT1FuDMTswTAMkqMsWRZPW5nCZ1jSvDTDwtfoENJWDgUsLMuCZVnb17t27QLDMLj55pttxxITE1FUVNT2Edph//79WLlyJV555RX06NHDpfe1YMECqFQq2z+aOiKNqZ0ScmOGJdy1AUu2tQlYSrRCVD1YePwuwdke1KxMVW1EsXWFkDfVsABAZ+uKp0slGphZTuDREG/gUEl6+/btcejQIdvXmzZtQnx8PLp06WI7VlRUhLCwsDYPsCUmkwlTp05Fr169bH1XmsNnVprKoPBTPE1lYORyOeRy931qJp6pVOPeGhbA9VNCYm8fzzcryy7xnE/054osrzeJYYEIDhBH52BnaRceiAA/CXRGFrnl1aL9vSGew6GAZcKECVi2bBn+7//+DwEBAdi3bx9mzZpV75q///4bqampThlkczQaja3exN+/8U+zgwcPBgD8+OOPtmLcpmpUWqpxIcQe/JSQu1YJAbUrd1yVYckRfcBiyVB40pTQmQJLwNItIUTgkTifRMKgU4wSp/PVuHCtSrS/N8RzOBSwvPjii9i2bRs2btwIAOjVqxcWL15sO3/lyhUcOnTIroxHW8nlcjz22GONntuzZw+ysrJwzz33IDo6Gh06dEBaWhoSEhKQkZEBrVZbb6WQVqtFRkYGUlJSqDaFOIxlOZRbp4Si3JphsS7tdVHAIvoMi3Vc2Z4YsMR7X8ACWAqJT+erkXWtCmO6xwk9HOLhHApYQkJCcODAAZw+fRoA0LVr1waFrhs3bkT//v3bPsIWBAYGNtk3Zdq0acjKysKCBQvqteafPn06XnvtNSxduhRvvvmm7fjSpUuh0Wjw8ssvu3zcxHupdUaYrHP2EW7MsPA1LCVVeuiMZgT4NV187gg+EOBrRcSGD6TKtQZUVhvcskt2W/1daAlYunthhgWoLSSmwlviDG1qq9hUgWtycnK9VURiM3fuXGzevBkrVqxAZmYm+vbti2PHjmHbtm0YMGAAnn/+eaGHSDwYX78SEiCDv8x9zaTDg/wQ6CdFjdGMQpXOqZkQtc6IUus0VwfrahyxUchliAsJQJFah0slWvRLFnfAojeZkWVdIeSNU0JA7Uqh80XUi4W0nde15reHQqHA7t278fzzz+Ps2bN45513cO7cOcyZMwfbt29HYKC4mmIRz2KrX3HjdBBgWdprWynk5MJbvn4lOlgu6uJQT9olOOuaBiaWQ2ign+i2OnCWLnG1K4UMJraFqwlpnl0ZlptvvhkMw2DDhg1o165dveXLzWEYBtu3b2/TANti/fr1WL9+faPnQkNDsXr1ato3iDidbUmzG6eDeIlhgbhYrEF+pXNb1Iu9foWXGq3AX5fKPGKl0JkCy0rF7gkholwm7gztwgMRHCBDlc6ESyUadPXSWh3iHnYFLHyfFX7voF27dtl14976R0hIc2ozLO4PWPiVQs7ecI7vbZIq9oDFg3qx/O3lBbeA5T2gW3wIDl4ux98FagpYSJvYNSXEsizMZjM6d+5s+9qef2az2aWDJ0SMhOjBwuOX9l4qdu4bNt+NtWO0OAtuebZeLKWekGGxFtwmevebOB+k8AXGhDjKJ2tYCHElfqfmKAGmhPhuqRedPCVy1vpmI/ZPyGnW7qrZJVpR10yYzCxOW6eEeiQ03qTSW/AFxXxGiRBHUcBCiJOVCZhh4QOWnFItjGbnvGFr9CZcsU4xdY0X9wZ9CaEBCAmQwcRytk0FxehcURV0RhbBcpnos1ZtxU95nS1Sg+OoRT9xXJuWNR8/fhwnTpxAQUEBjEZjg/MMw2DhwoVtuQtCPI4QOzXz4kMCEOQvRbXBjNzyaqe8GZ4vUoPjgNgQuSBBWGswDIP0+BAculyOc0Vq0S4XzsyrBAD0aR8GicS7a/3SYpWQSRhUVhtRqNIhwUtXRBHXcyhgKS4uxkMPPYSdO3cCQJNRMwUsxBeVavm2/O5/c5dIGKRGK3A6X42LxRqnBCx/F1rqV8Q+HcTrGheMQ5fLbdNYYnQ8txIAcENSmKDjcAe5TIpOMUqcK6rC3wVqCliIwxwKWJ5++mns2LEDY8eOxYMPPoj4+HjIZG1K1hDiNfgMS5QAGRYA6BSttAUsY7q3/fY8pX6Fx4/zbKF4m5Vl5lUAsGRYfEG3+BCcK6rCmQI1bu0WK/RwiIdyKMrYunUrRo0ahS1btjh7PIR4tBqDGaoay/RoTEiAIGPg61guOamGw1MDFn4nZLFRVRtty677JIULPBr36J4Yio2Z+TiVrxJ6KMSDOVR06+fnh379+jl7LIR4vCK1DgAQ5C9FSIAwWUdnrhRiWc7WVr2byAtueZ1jgyFhLMvLi6t0Qg+ngeNXKwEAHSKD3LrXlJB6t7OshDpxtZIKb4nDHApYhg0bhuPHjzt5KIR4viKV5Q0yLiRAsMaJdTMsbX1zuFJejWqDGXKZBB0ixd00jhfoL0UHa4O7cyKcFjp2xTod5AP1K7zuCaGQShiUVOltQT0hreVQwLJ8+XIcOXIE//rXv5w9HkI8WpHasodPrEDTQQCQHKmATMJAa7BsgtgWJ63ZgPT4EMikntMFoWscX8civmmhQ5fLAQD9OkQIPBL3CfSXorO1R86JPJoWIo5xKGfdtWtX7N27F8OGDcP777+PXr16ISSk4fw2wzD4z3/+0+ZBEuIpilSWFULxocIFLH5SCVKiFMgq1uBcUdtWZRzOsby59k/2rFqLbgkh+OVUIU6KrGZCZzTjWK4lwzI4NVLg0bhXn6RQnC1U48TVStzeI07o4RAP5FDAcvnyZYwbNw6VlZWorKzExYsXG72OAhbia65Z092xAgYsANAzMRRZxRqcuqrGzemOr8o4kmN5c/W0gIVfLswvHxaLE3mV0JtYRCnl6BjtGVNsztKrXRi+PpRny9oR0loOBSzPPPMMLl26hJkzZ2LixIm0rJkQq0KVZUpIyAwLAPRwwqoMVY0R5617CPXr4FkBS6+kMDAMkF9Zg2K1TrAVW9c7kG3JWA1KjfC5zWF7WQtvT+apwLKc1zfMI87nUJSxZ88e3H333fjwww+dPR5CPFqR2jIlJGQNCwD0tL45nG5DwJKZWwGOA5IjgxATLI43fHsp5TJ0iQ3GuaIqHMsVzxTEgewyAMAgH5sOAiyrtwL8JKjSm5BdqrUVhxNiL4eq6ORyuW3nZkJIrSKRZFi6xYdAwliWWV9zcFVG7XSQZxaH3mBtysY3aRNa3foVXwxY/KQS9Ey0BNL880BIazgUsNx2223466+/nD0WQjyaycyipMqSYYkTOMOikMtsDdT4wKO1jlyxFtx62HQQ74b2lnFniqSO5Vhuhc/Wr/D6WYPfI9ZibkJaw6GAZeXKlSgsLMRLL70EnY7W1BMCACUaPVgOkEoYUWwSyBfKHnbgzUFnNNve6D2t4JbX15phOXm1EiYn7VzdFrvPlwAAhneO8rn6Fd4Aa/B75AplWEjrOVTDMmnSJISGhmLVqlX49NNPkZaW1uSy5u3bt7d5kIR4Ar5pXGywHFIRFBT26xCBDfuv2DIlrXHocjn0JhZxIQEeW2uQGqVEcIAMVToTzhVVoYd1OkIoO88XAwBGdYkRdBxC6mcNfrNLtCjT6EUR2BPP4VDAsmvXLtv/V1VV4dixY41e56ufIohvsgUsAtev8G5MsaTfzxSoUVltQFiQ/W3gd1+wZANGdI722L9jiYRBv+Rw7Dpfgv2XygQNWK5WVOPCNQ0kDDA8LVqwcQgtLMgfaTFKZBVrcPRKBUZ3F0cxNPEMDk0JsSxr1z+z2ezs8RIiWnzLcaELbnmxIQHoHKsExwEZF8vs/j6O47DjnCUbMLyzZ7+5Du0UBQDIuFQq6Dh2WaeD+iWHIzTIT9CxCK2/tcMvTQuR1vKcXtuEiJwtwyKSnh8AMMz6aX6PNWNijwvXNLhcqoW/TIIRXTw7YBliDVgOZpfDYBKujmWXdTpopA9PB/H4migqvCWt5bKAxWAwQK0W3z4ehLhKgUpcGRbAMqUDANvPFcPM2rcR4m+nCwEAw9OioJR7dkPILrHBiFT4o8ZoxvG8SkHGUG0wYd9FS4bHl+tXeAOsGZaTV1WoNpgEHg3xJHYHLKmpqXj//ffrHdu6dStmz57d6PXLly9HeLhnri4gxBG55dUAgPYRQQKPpNag1EgEB8hQqtHjqB0peI7jsCkzHwBwR494Vw/P5SQSBjdZsyx80OBuO84VQ2dk0T4iCF3jgwUZg5gkRQQiMSwQJpbDYQeX3BPfZHfAkpOTg8rKynrHDhw4gPfee8/ZYyLEI+VZA5YkEQUs/jIJbutq2Uvol5MFLV5/9EoFcsqqEeQvFU132LYa2snSpO0vgQKWX09ZMlZ39or32AJmZ2IYBjd1FPZnQjwT1bAQ4gRVOiPKtQYA4sqwAMA9fRIAAJuOF0BnbL4Q/ssDVwAAY3vGQ+Hh00E8vo4lM68SFdafkbto9SZbAfOdPT0/Y+Us/M/kr0v2F4MTQgELIU6QV25pyR+h8EdwgLhWgQxLi0ZiWCBUNUbbp/3GFKpqsOWk5fzUwR3cNDrXaxcehK7xITCzHP48e82t981PByVHBqF7QsNeVb5qsDXDcrpAhcpq9waRxHNRwEKIE+SKcDqIJ5UweOjG9gCAj3ddAttE8e0HOy7CxHK4MSXCtnmit7jd2u9j65kit97v5uOWabixPWk6qK5Ya0NCjqvdwZqQllDAQogT5JZrAYhvOog3eXAyggNkyCrWYKO1qLaus4VqfHs4DwAwZ3QXdw/P5fh6nD1ZpdDo3bMy5ZpaZ+tuO6Fvolvu05MMsWZZMqiOhdiJAhZCnKB2hVCgwCNpXEiAH54a2QkAsOyXv5FfWWM7p9Wb8MK3x2FmOYzpHouBKZ65O3NzOscqkRKlgMHE2nqiuNr/jl6FmeXQPzkcnWJoddD1hlp7BO2+UAKOs2/JPfFtraqq+/LLL3HgwAHb1xcvXgQAjB07tsG1/DlCfEGutYYlOUK8u/BOH5aCn08U4O9CNSb/5yBW3d8HCn8pXv7xFM4VVSFS4Y/Xx/UUepguwTAMxnSPwye7L2HLiULc1SvBpffHshy+O2LJWN0/IMml9+WpbuoYCX+pBLnl1cgu1aJjtGfuWUXcp1UBy8WLFxsNRH7//fdGr6c5W+IrxLik+Xp+Ugk+m9ofEz76C9klWoz7MMN2TuEvxX+mDUB0sPduRjfuhgR8svsStp+7hlKNHlEu3Hhvf3YZrpRVQymX0eqgJijkMtyYGoG9WaXYea6YAhbSIrsDlsuXL7tyHIR4LDPL4WqFdUooUrwBCwAkhgXip2eGYOmWs9h6uggmlsXwztF49a5uSPXyN4z0uBD0bheKE1dV+PFYPmYMT3XZfX26JxsAMP6GRK9ZHu4KIzpHY29WKXadL8H0Ya77eRDvYPdfUnJysivHQYjHKlLrYDRz8JMyiBPRPkJNiQkOwAcTb4CZ5cBxHGRS3ylle2BAe5y4egrfHM7F9GEpLskCnytSY/eFEkgYyzQcadqo9Bi8/stZHLpcDq3eRMEdaZbvvFIR4iJXyiwrhJLCgyCVeM40qFTC+FSwAgB3945HoJ8Ul0q0LmsLz2dXbu8Rh+RI8dY0iUFqlALtI4JgMLPYm0WrhUjzfOvVihAXyC6xBCzJIp8OIkBwgB/utXb+/ffuS06//ZxSLX6y9l55fHhHp9++t2EYBrdat47Y9rd7e+QQz0MBCyFtdLFYAwDoHEtLVz3BEyM6QsJYdrD+u8C5O8q/vfU8TCyHkV2i0ScpzKm37a34Hjl//n0NRjMr8GiImFHAQkgbZRVXAQA6xXh30aq3SIlSYKx15c6Hu5zXfuF4XiV+OVUIhgHm35HutNv1dv2SwxGl9IdaZ8KBbNpbiDSNAhZC2ujCNUuGJY0yLB7j6VGWJnq/nirEibzKNt+emeWw+KczAIAJfdshPY72DbKXVMLgtm6WLMvvp2laiDSNAhZC2qCy2oCSKj0AyrB4kq7xIRh/QyI4Dnh18+km91ey19p9l3E8rxLBchle9MKtDVyNnxbaeuYazG38WRDvRQELIW2QZa1fSQwLhJKWZHqUBWPTESyX4cRVFb4+nOvw7Vws1mDltvMAgFfu6oq4UPEvbRebwamRCAvyQ6lGT9NCpEkUsBDSBlnW6SDKrniemOAAvHBbZwDA61vO4nxRVatvQ60z4vEvjkBvYjG0UxTu709t+B3hL5PY6oo2NbI5JyEABSyEtAlfcJtGAYtHmnpTBwxLi0KN0YyZXx6FWme0+3sNJhbPfp2J7BIt4kMDsPqBPrQdSRvc29uy3Pz300XQGc0Cj4aIEQUshLQBn2GhJc2eSSph8O4DfRAfGoDsUi0m/+cQVNUtBy06oxmPf3EEu86XQC6T4NPJ/b16HyZ3GNAhAgmhAajSm7DznHt21CaehQIWQtrAtqQ5ljIsnipSKcdnU/ojLMgPJ/Iq8cCn+3GuqOn+LFnXqnDfJ/ux63wJAvwk+GxKf/RsF+rGEXsniYTBPX0SAQA/HKNpIdIQBSyEOKhCa8A1Na0Q8gY9EkPxzeODEKWU41xRFe7+YB9e3Xwax/MqUW0wodpgwtErFViw8RTu/GAfTuWrEBroh88fvRHDO0cLPXyv8X/9LAHLzvPFuKbWCTwaIjYeH7Dk5+fj3XffxejRo9G+fXv4+/sjLi4OEyZMwMGDBxv9HrVajdmzZyM5ORlyuRwdOnTASy+9BI1G4+bRE092Kl8FwNKILCTAT+DRkLZKjwvBL88OxW3dYmE0c/h8/xWM+zAD3V7dim6vbsWEj//C14dyYTCxGNUlGtteGI6BKRFCD9urdIoJxsAOETCzHL49nCf0cIjIeHzA8sEHH+CFF15AdnY2Ro8ejTlz5mDo0KHYvHkzbrrpJnz77bf1rtdqtRgxYgRWr16N9PR0vPDCC+jSpQtWrlyJm2++GTodRfXEPnzA0jORpgO8RWxIAD6d3A+fPzoQd/dOqLdUPVLhjzt7xeObxwdh7bQBiPWAnbk90cQbLSutvj2cRz1ZSD0e3zhi4MCB2LVrF0aMGFHv+N69e3HLLbdg5syZGDduHORyS0HcW2+9hePHj2PevHl48803bdfPnz8fK1aswOrVq7FgwQK3PgbimU5erQRAAYu3YRgGwztH26Z6NHoTTGYWYUH+Ao/MN9zRIx6Lf/ob+ZU12HOhBKPSY4QeEhEJj8+w/OMf/2gQrADAsGHDMGrUKFRUVODUqVMAAI7jsGbNGiiVSixcuLDe9QsXLoRSqcSaNWvcMm7i+U7nWwozqeDSuynlMgpW3CjAT4oJfdsBAL465HhDP+J9PD5gaY6fn6WuQCazJJKysrJQUFCAIUOGQKFQ1LtWoVBgyJAhyM7ORl4ezZ2S5pVq9MivrAHDAN0TaN8YQpzpIeu00I5zxShU1Qg8GiIWXhuw5Obm4s8//0R8fDx69uwJwBKwAEBaWlqj38Mf569rjF6vh1qtrveP+B6+fiU1SoFgKrglxKk6xQTjxhRL8e36jByhh0NEwisDFqPRiMmTJ0Ov12PFihWQSqUAAJXK8iYTGtp4Cj8kJKTedY1Zvnw5QkNDbf+SkqgVty86fdXyO9KrXZiwAyHESz0xIhUA8N+Dua3qQEy8l9cFLCzLYtq0adizZw9mzJiByZMnO/X2FyxYAJVKZftH00e+6YS14LYHFdwS4hIjO8egc6wSGr0J/z1AtSzEywIWlmXx6KOP4quvvsKkSZPwySef1DvPZ1aayqDw0ztNZWAAQC6XIyQkpN4/4ltYlsPhnAoAQL/kcIFHQ4h3kkgYPD68IwBgbcZl6E20v5Cv85qAhWVZPPLII9iwYQMmTpyI9evXQyKp//BaqlFpqcaFEAA4f60Kqhojgvyl6EEFt4S4zD29ExAfGoCSKj3t4ky8I2Dhg5XPP/8cDzzwAL744gtb3UpdaWlpSEhIQEZGBrRabb1zWq0WGRkZSElJoboU0qyD2WUALNkVmdQr/oQIESV/mQSPDU0BAHy06xKMZlbgEREhefyrLT8N9Pnnn+O+++7Dl19+2WiwAlgaQk2fPh0ajQZLly6td27p0qXQaDSYMWOGO4ZNPNihnHIAwKDUSIFHQoj3mziwPaKU/rhSVk3t+n0cw3GcR/c+Xrx4MZYsWQKlUonnnnvO1nOlrnHjxqFPnz4ALJmUIUOG4MSJExg9ejT69u2LY8eOYdu2bRgwYAB2796NwMBAu+9frVYjNDQUKpWK6ll8AMdxGLDsT5RqDPjfk4PRvwPtJUOIq234KweLfjqD6GA59rw0CoH+jX8oJZ6nNe+hHt+aPycnBwCg0WiwbNmyRq/p0KGDLWBRKBTYvXs3Fi9ejB9++AE7d+5EfHw85syZg0WLFrUqWCG+51KJFqUaA+QyCXW4JcRNJg5sj8/2ZuNqRQ3W/XUZT43sJPSQiAA8PsMiNMqw+JYv9udg4eYzGJwaia8fHyT0cAjxGRuPXcXs704gOECGvXNH0XYJXqI176EeX8NCiDvtPF8CABjWOUrgkRDiW+7tk4guscGo0pmw6o8LQg+HCIACFkLsVGMwI+NiKQDgZtpBlhC3kkoYLLq7GwDgywNXcDq/6Y7kxDtRwEKInfZnl0JvYpEQGoAuscFCD4cQn3NTpyjc3TsBLAe8suk0WJYqGnwJBSyE2GnHuWIAwM1dY8AwjMCjIcQ3vXJnVyjlMhzPq8S3R2iZsy+hgIUQO3Ach53nLPUrNB1EiHBiQwLw/K2WbuTLfz2LQlWNwCMi7kIBCyF2OJ2vRn5lDQL8JBicSgW3hAhp2k0d0LtdKNQ6E+b+7yRosatvoICFEDv8dMKyj8kt6bHUtIoQgcmkErxzfx/IZRLszSrFlweuCD0k4gYUsBDSApblsOVkIQDg7t4JAo+GEAIAnWKUmH9HOgDgjV/PIbtEI/CIiKtRwEJICw7nlKNQpUNwgAwju0QLPRxCiNXUwR0wpFMkaoxmzPzyGKoNJqGHRFyIAhZCWvDTiQIAwO3d4xDgR9NBhIiFRMJg9f19EB0sx/lrVViw8RTVs3gxClgIaUa1wWQLWO7tkyjwaAgh14sJCcCHD/WFVMJg8/ECfL6f6lm8FQUshDTj5xMFqNKZkBwZhJs6Rgo9HEJIIwamRGCBtZ7ltS1/Y/eFEoFHRFyBAhZCmvHlgVwAwEMD20MioWZxhIjVY0NTMP6GRJhZDk99eRRnCqh1v7ehgIWQJpzIq8SpfBX8ZRLc1z9J6OEQQprBMAxWTOiFQakR0BrMeHT9YeRXUlM5b0IBCyFNWLPvMgDgzp7xiFDQVvaEiJ2/TIJ/T+qPtBglrqn1ePizAyhS6YQeFnESClgIacTlUi1+OWkptp0xLFXg0RBC7BUa5IcNjw5Eu/BA5JRV46E1B1BcRUGLN6CAhZBGfLzrIlgOuCU9Bt0SQoQeDiGkFRLCAvH1jEFICA1AdokWD312kPYc8gIUsBBynbzyamw8ZmnF/9SoTgKPhhDiiKSIIHz9+CDEhQTgYrEG//fxflyibrgejQIWQq7z9tbzMLEchnaKQr/kcKGHQwhxUHKkAv+bORipUQrkV9bgvk/241huhdDDIg6igIWQOo7nVeKnEwVgGGDB2HShh0MIaaN24UH4/snB6NUuFOVaAx789wF8fyRP6GERB1DAQogVy3J4fcvfAIB/3NAO3RNCBR4RIcQZIpVyfDVjEG7rFguDmcVL/zuJJT+fgcnMCj000goUsBBi9fXhXBy5UoEgfyleHNNZ6OEQQpxIKZfh35P64dlb0gAA6zJy8PAaKsb1JBSwEALgmlqHN389BwB4cXQXxIcGCjwiQoizSSQMZt/WGZ9M6osgfykOXi7H7e/uxa+nCoUeGrEDBSzE57Esh7n/O4kqvQm9k8Iw9aYOQg+JEOJCt/eIx5ZnhqJXu1Coaox46r/H8OL3J6CqMQo9NNIMCliIz/vPvsvYfaEEcpkEb/9fL0hpzyBCvF5qtBI/zLwJT4/qCIYB/nf0Km5dtRs/nygAx3FCD480ggIW4tOOXinHW1stU0Gv3t0NnWODBR4RIcRd/KQSvDQmHd8+Phip0QqUVOnxzNeZmLbuMK6UaYUeHrkOBSzEZ12tqMYTXxyF0czhzp7xeGhge6GHRAgRwMCUCPz23DC8cGtn+Esl2H2hBLeu2o0lP59BhdYg9PCIFQUsxCdVVhswfcMRlGoM6Bofgrfv6wWGoakgQnyVXCbFc7em4bfnh2F452gYzRzWZeRg+Ns78fGuS9DqTUIP0ecxHE3WtYlarUZoaChUKhVCQmjPGU+g1hkxac1BnLyqQnSwHJueHoLEMFoVRAiptTerBG/8eg5nC9UAgLAgPzw2JAVTbuqA0EA/gUfnPVrzHkoBSxtRwOJZtHoTpq49hCNXKhAe5IdvnxhMdSuEkEaZWQ6bMvPxwY4s5JRVAwCC5TJMuSkZUwZ3QGxIgMAj9HwUsLgRBSyeo7hKh8fWH8GpfBWCA2T4esYg9EikbraEkOaZWQ5bThbgw50XceGaZQNFmYTBmB5xmDq4AwZ0CKcpZQdRwOJGFLB4hovFVZi27jCuVtQgPMgP6x4ZiD5JYUIPixDiQViWw7a/r2Htvss4lFNuO54eF4wHByTh7t4JiFTKBRyh56GAxY0oYBG/304VYu4PJ1GlM6FDZBDWPTIQKVEKoYdFCPFgfxeo8cWBHPyYmQ+d0bInkUzCYGSXGEzom4ibu8ZALpMKPErxo4DFjShgES+d0Yw3fj2Lz/dfAQD0Tw7Hvyf3o09AhBCnUVUb8WPmVWzMzMfJqyrbcaVchpvTY3B7jziM6BwNhVwm4CjFiwIWN6KARZwOXS7H/I0nkV1iaf705IiOmDO6M/yktJKfEOIaWdeqsDEzH5sy81Go0tmOy2USDO8cjdu6xmJY5yjaq6wOCljciAIWcSnV6PHOtgv4+lAuACA6WI63/q8XRnWJEXhkhBBfwbIcTlytxO9nivD76SJcsa4w4nWOVWJ4WjSGd47GwJQIBPj57tQRBSxuRAGLONQYzFibcRkf77oEjbXB08SBSZh/R1fqmUAIEQzHcThXVIXfTxdh94USnLxaCbbOu66flEGvdmEY0CECN6ZEoG9yuE+9ZlHA4kYUsAhLVWPEF/tzsC4jB2XWFto9E0Pxyp1dcWNqpMCjI4SQ+iqrDdh3sRR7LpRgb1ZpvakjAGAYID0uBP2Sw9ArMQy9kkLRKVoJmZdOZ1PA4kYUsAjjcqkWXx/KxVcHc20ZlaSIQMy5rQvu6Z0ACe24TAgROY7jkFtejUOXy3HocjkO55TbGtTVFeAnQfeEUPRMDEWvdqHolhCC1Cgl/GWeH8RQwOJGFLC4T43BjD/OXsM3h3Lx16Uy2/EuscGYObIj7uoV77WfQgghvqFYrcOhnHKcvKrCyauVOJ2vtn0oq0smYZASpUDnuGB0iQ1G59hgdIkLRvuIIEg96AMbBSxuRAGLa+mMZuw6X4JfThVi+9lrqDaYAVjSpiM7R2PSoGSM6hJDGRVCiFdiWQ7ZpVqcyq/EyasqnLqqwvlrVajSNb4Zo79MguSIIHSIUiAlSoEOkQp0iLR8HRcSILrXSgpY3IgCFufLK6/GnqwS7LlQgn1ZpdBagxQASAwLxIS+ibh/QBLahQcJOEpCCBEGx3EoUutwvqgKF65V4XyRBheuVSGruMrWxK4xcpkEyZFBSAoPQmJ4IBLDApEQFojE8EC0CwtElFLu9oCGAhY3ooClbTiOw9WKGhy9UoEjV8rx16UyW+8UXmJYIMb2jMOdvRLQu10o7dlBCCGNMLMc8itqkFOmRU6ZFpdLtcgp1SKnrBp55dUwsc2/3ftLJYgPC0BiWCDiQwMRGyJHXGgAYoIDbP8fpZQ7tZ9Va95DqfUecavKagP+LlTj7wI1MvMqcTSnAkXq+lXyUgmDvu3DbH0KelGQQgghLZJKGLSPDEL7yCAMR3S9cyYzi/zKGlwu1SK/sgb5FTXIr6xBgfX/i9Q6GMwsrpRVN+gbUxfDAH/Nv1mQ5ncUsBCX0BnNuFyqRXaJFheuVeFMgRpnC9XIr6xpcK1MwqB7Yij6J4djQIcI3NQpEiEBvtOHgBBCXE0mlSA5UoHkyMb3UTOaWVxT62yBTKFKh2K1DtfUehSpLf9fXKWHmeMQJdD2JhSwEIdV6Yy2CD2vvAbZJRpkW4OUAlUNmppsTIoIRPf4UPRIDEG/5Aj0SQpDoL/vdnokhBCh+UklaBce1GxtIMtyKK82CLbFCQUspAGO46CqMaJUo0dxlR4lVXoUqXT10oj5lTVNVqnzQgJkSI1WolOMEt0TQtAtPgTp8SE+1cWREEK8hUTCCJZdAXw4YDl8+DAWLVqEv/76C0ajET179sTs2bNx//33Cz00pzOYWKhqjFDVGFBZbbT8qzGistrydanGEpSUaPQordKjVGOAwdx0pXldYUF+SAgNRLvwQKREK5AapUBqtBKpUQpEKPyp9oQQQohT+GTAsnPnTowZMwYBAQF48MEHERwcjB9++AEPPPAA8vLyMGfOHKGHCMCS6agxmqHRm6DRmaDVW/9fb4LW+t96/68zQWswQVVjrA1Mqg31lgW3RmigH6KU/ohSyhEfGoDEcOsSuLDa5XC0ZTohhBB38LllzSaTCenp6bh69SoOHDiAPn36AABUKhUGDhyInJwcXLhwAcnJyXbdniuWNT+2/jAO5ZRDqzehhVVodmMYSwASFuiH0CB/hAX6ISzI8nWUUo6oYDmilXJEB1v+P0rpD7mM6koIIYS4Di1rbsaOHTtw6dIlPPLII7ZgBQBCQ0Px8ssvY9q0adiwYQNeffVVwcaoM5nr1YcwDKD0l0EZIINCbvkXLJdBIZfW+X/LP6VchrAgP0twUicwCQ7w86h2zYQQQkhdPhew7Nq1CwAwevToBufGjBkDANi9e7c7h9TAG+N7wsxyUMotQUqgn5RqQQghhPg0nwtYsrKyAABpaWkNzsXFxUGpVNquaYxer4der7d9rVKpAFjSWs4SbltEY4BJZ0CVrrmrCSGEEM/Ev3faU53icwELH2CEhoY2ej4kJMR2TWOWL1+OJUuWNDielJTknAESQgghPqaqqqrJ92WezwUsbbVgwQLMnj3b9jXLsigvL0dkZKTTpm3UajWSkpKQl5dH+xM5CT2nzkXPp/PRc+pc9Hw6nyueU47jUFVVhYSEhBav9bmAhY/gmsqiqNVqhIeHN/n9crkccnn9xjlhYWFOG19dISEh9IfmZPScOhc9n85Hz6lz0fPpfM5+TlvKrPCE6a8rIL52pbE6laKiImg0mkbrWwghhBAiHJ8LWEaMGAEA2LZtW4NzW7durXcNIYQQQsTB5wKWW265Bampqfjqq69w/Phx23GVSoU33ngD/v7+mDJlinADhGXaadGiRQ2mnojj6Dl1Lno+nY+eU+ei59P5hH5Ofa7TLdB0a/4rV65g5cqVomnNTwghhBALnwxYAODQoUONbn74wAMPCD00QgghhFzHZwMWQgghhHgOn6thIYQQQojnoYCFEEIIIaJHAYsL6HQ6zJ49G8OHD0dCQgICAgIQFxeHIUOGYN26dTAajQ2+R61WY/bs2UhOToZcLkeHDh3w0ksvQaPRNHofLMvigw8+QM+ePREYGIjo6GhMnDgR2dnZrn54orFixQowDAOGYXDgwIEG5+k5bV6HDh1sz9/1/0aOHNnger1ej9deew1paWkICAhAQkICHn/8cRQXFzd5H//9738xcOBAKBQKhIeH46677sKxY8dc+KjE4ccff8Rtt92GyMhIBAQEICUlBRMnTkReXl696+h3tHnr169v8neU/3fLLbfU+x56TpvHcRw2btyIUaNGIT4+HkFBQejSpQueeOKJRh+zmJ5PqmFxgdLSUiQlJWHgwIHo3LkzoqOjUVFRgd9++w1XrlzB6NGj8dtvv0EiscSLWq0WQ4cOxfHjxzF69GjccMMNyMzMxLZt2zBgwADs2bMHAQEB9e5jxowZWLNmDbp3744777wTBQUF+O6776BUKnHgwAGvb353+vRp9O/fHzKZDFqtFvv378egQYNs5+k5bVmHDh1QWVmJ559/vtFz06ZNs33NsizGjh2LrVu3YtCgQRgxYgSysrLw448/IiUlBQcOHEB0dHS921i2bBleeeUVJCcnY8KECaiqqsI333wDg8GA7du3Y8iQIS5+hO7HcRyefPJJfPrpp+jYsSPGjBmD4OBgFBQUYPfu3fjvf/+LoUOHAqDfUXscP34cmzZtavTc//73P5w5cwYrVqzA3LlzAdBzao85c+Zg1apViI+Px7333ouQkBCcOHEC27Ztg1KpxF9//YUePXoAEOHzyRGnM5vNnF6vb3DcaDRyI0eO5ABwW7ZssR1/9dVXOQDcvHnz6l0/b948DgD3xhtv1Du+Y8cODgA3fPjwevfz66+/cgC40aNHO/kRiYvBYOD69u3L3XjjjdykSZM4ANz+/fvrXUPPacuSk5O55ORku65du3YtB4CbOHEix7Ks7fjHH3/MAeAef/zxetdfuHCBk8lkXOfOnbnKykrb8czMTE4ul3Ndu3blzGazUx6HmLz77rscAO6pp57iTCZTg/NGo9H2//Q76ji9Xs9FRkZyMpmMKyoqsh2n57R5hYWFnEQi4ZKTk+v9XXIcx61atYoDwD3yyCO2Y2J7PilgcbP33nuPA8C9++67HMdxHMuyXEJCAqdUKjmNRlPvWo1GwymVSi41NbXe8YkTJ3IAuN27dze4fT4gunLliusehMAWLVrEyeVy7syZM9zUqVMbBCz0nNqnNQHL4MGDOQBcTk5OveMsy3KpqamcQqHgqqurbccXLFjAAeA2bNjQ4LamTZvW5HPtyaqrq7nw8HAuNTW1XmDSGPodbZtvv/2WA8CNGzfOdoye05bt37+fA8A99NBDDc5duHCBA8DdddddHMeJ8/mkGhY3YlkWv//+OwDYUm5ZWVkoKCjAkCFDoFAo6l2vUCgwZMgQZGdn15v73rVrl+3c9caMGQMA2L17t6sehqCOHTuGZcuWYdGiRejWrVuj19Bzaj+9Xo/169fjjTfewL/+9S8cPHiwwTU6nQ4HDx5Ely5dkJycXO8cwzC47bbboNVqceTIEdvxXbt2AQBGjx7d4Pa89fnctm0bKioqMG7cOJjNZmzcuBFvvvkmPvnkE1y8eLHetfQ72jZr1qwBAEyfPt12jJ7TlqWlpcHf3x8ZGRlQq9X1zm3ZsgUAbDVBYnw+fW63ZncyGAx44403wHEcysrKsH37dpw7dw6PPPJIvV8KAE3O66WlpWHr1q3IyspCUlIStFotCgsL0aNHD0il0kavr3u73kSv12PKlCno06ePbc66MfSc2q+oqAiPPPJIvWMDBgzA119/jY4dOwIALl26BJZlm30+AcvzM2zYMNv/K5VKxMXFNXu9Nzl69CgAQCqVolevXrhw4YLtnEQiwQsvvICVK1cCoN/Rtrhy5Qq2b9+Odu3a4fbbb7cdp+e0ZZGRkXjzzTcxZ84cpKen16th2bFjB5566inMmjULgDifTwpYXMhgMGDJkiW2rxmGwYsvvojly5fbjqlUKgBNb6/Nb+HNX9fa673Jq6++iqysLBw9erTRPwgePaf2eeSRRzBs2DD06NEDSqUSFy5cwKpVq/DFF1/glltuwalTpxAcHOzQ86NSqRATE2P39d6AXy21atUq9O3bF4cOHULXrl2RmZmJxx9/HO+88w46duyImTNn0u9oG6xbtw4sy2LatGn1XgfoObXPCy+8gMTEREyfPh2ffPKJ7fjQoUPx0EMPQSazhAVifD5pSsiFlEolOI6D2WxGXl4ePvzwQ6xZswYjR45skI4jzdu/fz9WrlyJV155xTadRtpm0aJFuPnmmxETE4OgoCD06dMHn3/+OSZPnowrV67gs88+E3qIHoVlWQCAv78/Nm3ahAEDBkCpVGLYsGH4/vvvIZFI8M477wg8Ss/GsizWrVsHhmHw6KOPCj0cj/Taa69h0qRJePnll5GXl4eqqirs3bsXOp0OI0eOxE8//ST0EJtEAYsbSCQStGvXDjNnzsSnn36KjIwMLFu2DEBtNNpU1MkHNvx1rb3eG5hMJkydOhW9evXC/PnzW7yentO2eeKJJwAAGRkZABx7fkJDQ33u+eQfT//+/ZGQkFDvXI8ePZCamopLly6hsrKSfkcd9OeffyI3Nxc333wzUlJS6p2j57Rlf/75JxYtWoRZs2Zh/vz5aNeuHZRKJYYOHYqff/4Zfn5+ts1/xfh80pSQm/FFiHxRYkvzetfPIyoUCsTHx+Py5cswm80NpkZamnf0RBqNxva4/P39G71m8ODBACwNu/hiXHpOHRMVFQXA0oMBAFJTUyGRSOx+Pvn/379/P4qKihrUsXjr89mlSxcAQFhYWKPn+eM1NTX0d++gxoptefSctuy3334DAIwaNarBubi4OKSnpyMzMxMajUacz6fD64uIQ/7++28OADdkyBCO4+xbOpaSklLv+IMPPtji0rHrl596surqau6xxx5r9F9aWhoHgLvnnnu4xx57jMvMzKTntI02bNjAAeCeeOIJ27FBgwa1alnz/PnzfW5Z88WLFzkAXKdOnRqcMxgMXFhYGKdQKDij0Ui/ow4oLS3l/P39uYiICE6n0zU4T89py2bNmsUB4P7zn/80er5du3acRCLhdDqdKJ9PClhc4MyZM5xWq21wXKvVcrfffjsHgFu2bJntuNia83iSxvqwcBw9py05e/Zso7+jZ8+e5eLi4hq86LS2cdz58+d9snHc6NGjOQDcZ599Vu/4a6+9xgHgJk2aZDtGv6Ots3r1ag4A9+yzzzZ5DT2nzfv66685AFz37t0bNI7j/5b5D9McJ77nkwIWF1i0aBEXHBzM3XHHHdzMmTO5efPmcZMmTeIiIyM5ANywYcPqfRrVaDRc7969bT/Q+fPn2174BgwYUO9a3vTp022/eHPnzuUmT55s+/Rx/vx5dz5cQTUVsNBz2jz+d/TOO+/knnrqKe6ll17i7r33Xs7Pz48DwC1YsKDe9WazmRszZgwHgBs0aBA3b948bsKECRzDMFxKSgpXXFzc4D5ef/11DgCXnJzMzZ49m5sxYwYXHBzMyeVybt++fe56qG518eJFLiYmhgPA3XnnndycOXO4m2++2fY8FBYW2q6l39HW6dGjBweAO3nyZJPX0HPaPJPJxA0fPpwDwMXExHDTp0/nXnzxRdvvaGBgIHfw4EHb9WJ7PilgcYHDhw9zM2bM4Lp3786FhYVxMpmMi4yM5EaNGsX9+9//brQLZmVlJff8889zSUlJnJ+fH9e+fXtuzpw5nFqtbvQ+zGYz995773Hdu3fn5HI5FxkZyT3wwAPcxYsXXf3wRKWpgIXj6Dltzq5du7j777+fS0tL40JCQjiZTMbFxcVx9957L7d169ZGv0en03GLFy/mOnbsyPn7+3NxcXHc9OnT67VGv96XX37J9e/fnwsMDORCQ0O5sWPHckePHnXVwxKF3Nxcbtq0aVxcXBzn5+fHJSUlcU8//TR37dq1BtfS76h9Dh48yAHgBg4c2OK19Jw2T6fTccuXL+duuOEGLigoiJPJZFxiYiI3adIk7u+//25wvZieT9r8kBBCCCGiR8uaCSGEECJ6FLAQQgghRPQoYCGEEEKI6FHAQgghhBDRo4CFEEIIIaJHAQshhBBCRI8CFkIIIYSIHgUshBBCCBE9ClgIIYQQInoUsBBCCCFE9ChgIYQQQojoUcBCiI/IyckBwzCYNm2ax9+/0I/Fldzx2DiOQ79+/TB69GiX3UdrnT9/HjKZDB999JHQQyEiRQELIa3Av5ncfvvtQg/FKXbt2gWGYbB48WKhh0Lc6PPPP8exY8fw2muvCT0Umy5dumDixIlYsmQJqqqqhB4OESEKWAjxEYmJiTh79iyWL18u9FCIgFiWxeLFizFs2DAMGjRI6OHUM3fuXBQXF+P9998XeihEhChgIcRH+Pn5IT09HfHx8UIPhQjot99+Q05ODqZMmSL0UBro2bMnevXqhc8++wwsywo9HCIyFLAQ4kLr1q3DjTfeCKVSCaVSiRtvvBHr169vcF3dqZkjR47gtttuQ3BwMEJDQzF+/Hjk5OQ0evsmkwnLly9Hx44dERAQgE6dOmH58uXIzs5uUAdxfW3E4sWLMWrUKADAkiVLwDCM7R9/f+vXrwfDMC2OuS6z2YwVK1agU6dO9cbkyBuQI7e1Z88e3H333YiKioJcLkdaWhpeeeUVVFdXt/r+Xfnza81jMxgM+OCDDzBmzBgkJSVBLpcjJiYG//jHP5CZmdnqx8QwDCZMmNDo+aVLl4JhGGzdurXBuZ9//hkMw+Cdd95p8Lj/+usvjBo1CsHBwYiOjsZTTz2FmpoaAMAvv/yCwYMHQ6FQIDY2FnPnzoXJZGr0/u+//35cuXIFO3fubNXjIt5PJvQACPFWzz77LD744AMkJibiscceAwD88MMPeOSRR5CZmYn33nuvwfccPnwYb731FkaNGoUnnngCmZmZ2LRpE06dOoXTp08jICCg3vWPPvoovvjiC6SmpuLpp5+GXq/H6tWrsX///hbHN3LkSOTk5GDDhg0YMWIERo4caTsXFhbm8ON+/PHHsXbtWqSkpODpp5+GTqfDqlWr8Ndff7n8tj7++GM8/fTTCAsLw913342YmBgcOXIEy5Ytw86dO7Fz5074+/vbdd+u/vm15rGVl5fj+eefx7BhwzB27FiEh4cjOzsbP/30E3777Tfs2bMHAwYMaPExcRyHnTt3okuXLggPD2/0Gj4A6tu3b4Nzx44da/TcwYMHsWLFCowZMwZPPPEEdu7ciY8//hhqtRp33303pk2bhnvvvReDBw/GL7/8grfffhtKpRKvvvpqg/sYPHgwAGD79u245ZZbWnxMxIdwhBC7Xb58mQPAjRkzptnrdu/ezQHgunbtylVWVtqOl5eXc507d+YAcHv27LEd37lzJweAA8B988039W5r8uTJHADu66+/rnf8zz//5ABwffr04bRare14QUEBFxsbywHgpk6d2mDsdY/x97to0aJGH8e6des4ANy6desanGvse/ljvXv35jQaje341atXuaioqAb335zW3taZM2c4mUzG9e7dmystLa13W8uXL+cAcCtXrrTrvl3982vtY9PpdNzVq1cbjPP06dOcUqnkbr31Vrse15kzZzgA3MMPP9zkNR06dODatWvX6Ll77rmHA8CVl5c3eNybNm2yXWcwGLhevXpxDMNwUVFR3KFDh2zn1Go1FxMTw0VERHAGg6HBfahUKg4AN3z4cLseE/EdNCVEiAts2LABgGXaJTQ01HY8PDwcixYtAoBGpxaGDx+OBx54oN6xRx99FIDl03tdX375JQDg1VdfRVBQkO14fHw8nnvuubY/CAd8/vnntjEpFArb8cTExFaPqbW39e9//xsmkwkffPABIiMj652bO3cuoqOj8fXXX9t1367++bX2scnlciQmJjY43r17d4waNQp79uyB0Whs8XFdvXoVABAbG9vo+YqKCuTk5DSaXQEsGZYOHTo0yM6MGjUK9957r+1rPz8//N///R84jsPdd99dL/sTHByMu+66C+Xl5bbx1BUSEoKAgIBGzxHfRlNChLgAn1avO83C4+tGjh8/3uBcv379Ghxr164dAKCysrLe8RMnTgAAhg4d2uB7hgwZ0prhOg0/pmHDhjU419gxZ97WgQMHAABbt27F9u3bG5z38/PDuXPn7LpvV//8HHmejh8/jrfeegv79u1DUVFRgwCltLS0xYLqsrIyAE1P+fGPqbGApaSkBFevXsX48eMbnOvTp0+DY/xYmjtXUFCAlJSUBucjIiJQWlra6BiJ76KAhRAXUKvVkEgkiI6ObnAuNjYWDMNArVY3OBcSEtLgmExm+TM1m82N3kdUVFSj9yEElUrltDG19rbKy8sBAMuWLWvV/TTG1T+/1j62v/76CzfffDMAYPTo0UhLS4NSqQTDMNi0aRNOnDgBvV7f4uMKDAwEAOh0ukbP84HaDTfc0OAcX7/S2LnmHndz55rKCtXU1NTLGhICUMBCiEuEhISAZVmUlJQgJiam3rni4mJwHNfoC7kj91FaWtrgjfXatWttum2eRGKZNW5sRYdKpWpwLDQ01Gljau1t8c+nWq1GcHBwq+6rsdty5c+vtY9t2bJl0Ov12Lt3b4OM2oEDB2wZm5bw98UHd9drruCWLwZuLGBxJpZloVKp0L17d5feD/E8VMNCiAvwL+q7du1qcI4/1liqvDV69+4NAMjIyGhwzt4VOVKpFEDD7A2Pr1XIz89vcK6x5bT8mPbu3dvgXGPHmtPa27rxxhsB1E4NtYWrf36tfWyXLl1CREREg2ClurralvmwR/fu3SGRSHD+/PlGz2dmZoJhGCQkJNQ7zrIsfvjhBwCuD1iysrLAsix69uzp0vshnocCFkJcYOrUqQAs/U3qTh2oVCosWbKk3jWOevjhhwEAr732mq3fBQAUFRU1uuS2MREREQCAvLy8Rs/369cPDMPgm2++qTeNkJWV1eh9TJ482TYmrVZrO56fn2/3mBy9raeeegoymQzPPPMMcnNzG5yvrKy0u2eJq39+rX1sycnJqKiowJkzZ2zHzGYzXnzxRZSUlNh9v2FhYejVqxeOHDnSoN9LTU0Nzp07B47j6i2L5zgOixYtwpkzZxAeHt5o8a8zHTx4EAAwYsQIl94P8Tw0JUSIA06dOtXk5nTp6emYP38+nnnmGXzwwQfo0aMHJkyYAI7j8MMPP+Dq1at49tlnMXz48DaN4dZbb8VDDz2Er776Cj179sS4ceOg1+vx3Xff4cYbb8TPP/9sm9JpSnp6OhISEvDNN99ALpejXbt2YBgGzzzzDEJDQ5GQkICJEyfiq6++Qr9+/XD77bejuLgYP/74I26//Xbbp27eqFGj8Mgjj2DdunXo2bMnxo8fD71ej2+//RaDBg3Cli1b7H58rb2tHj164KOPPsLMmTPRpUsXjB07Fh07dkRVVRWys7Oxe/duTJs2DZ988kmL9z18+HCX/vxa+9ieeeYZbNu2DUOHDsX999+PgIAA7Nq1C/n5+Rg5cmSjmaCmjB8/HosWLcKBAwdw00032Y6fOnUKZrMZMTExuOOOOzBhwgQEBgbir7/+glqtttXtPPbYY/joo48gl8sdfvzN+eOPPyCTyXDXXXe55PaJBxNwSTUhHofvZdLcvxEjRtiuX7t2LTdgwAAuKCiICwoK4gYMGMCtXbu2we021w+lsf4pPKPRyC1dupRLSUnh/P39udTUVO6NN97gDh48yAHgnnvuuRZv58CBA9yIESO44OBg22O4fPmy7Xx1dTX37LPPcrGxsZxcLud69erF/fe//21yzCaTiVu+fDmXmppab0wXL15sVR8WR2/r0KFD3IMPPsglJCRwfn5+XFRUFNe3b19u/vz53NmzZ+2+b45z7c+vtY/tf//7H9e3b18uKCiIi4qK4u6//37u0qVL3NSpUxv8zJqTn5/PyWQybubMmfWOf/LJJxwAbv369dwTTzzBhYSEcCEhIdyECRO43NxcbuLEiZxCoeAmTpxo1+NurofPokWLOADczp076x3XarWcUqnkxo0bZ9djIb6F4TiOc1t0RAhxizVr1mDGjBm2jAMhdU2ePBm//PILrly5YitQfvLJJ/Hvf/8bZ8+eRXp6uiDj4n9vd+/e3eYMJPE+FLAQ4sGKiopsy2x5+fn5GDJkCK5evYrLly8jKSlJwBESMbpy5QrS09OxcOFCvPzyywAsRcunT59GVVVVi1OJrmAymdC5c2f07NkTmzdvdvv9E/GjGhZCPNibb76JX375BcOGDUNMTAxyc3OxZcsWVFVVYfHixRSskEYlJydjw4YNtiXUZrMZp06dQq9evQQJVgAgNzcXU6ZMsRUkE3I9yrAQ4sF+//13rFq1CidOnEBFRQUCAgLQq1cvPPXUU3jooYeEHh7xEGfOnEGPHj3wxBNP2FWUTIgQKGAhhBBCiOhRHxZCCCGEiB4FLIQQQggRPQpYCCGEECJ6FLAQQgghRPQoYCGEEEKI6FHAQgghhBDRo4CFEEIIIaJHAQshhBBCRI8CFkIIIYSIHgUshBBCCBG9/weCQyvSwH1yuAAAAABJRU5ErkJggg==",
          "text/plain": "<Figure size 600x400 with 2 Axes>"
         },
         "metadata": {},
         "output_type": "display_data"
        }
       ],
       "tabbable": null,
       "tooltip": null
      }
     },
     "608aca5b0b374734b8a266dbed9a8c28": {
      "model_module": "@jupyter-widgets/base",
      "model_module_version": "2.0.0",
      "model_name": "LayoutModel",
      "state": {
       "_model_module": "@jupyter-widgets/base",
       "_model_module_version": "2.0.0",
       "_model_name": "LayoutModel",
       "_view_count": null,
       "_view_module": "@jupyter-widgets/base",
       "_view_module_version": "2.0.0",
       "_view_name": "LayoutView",
       "align_content": null,
       "align_items": null,
       "align_self": null,
       "border_bottom": null,
       "border_left": null,
       "border_right": null,
       "border_top": null,
       "bottom": null,
       "display": null,
       "flex": null,
       "flex_flow": null,
       "grid_area": null,
       "grid_auto_columns": null,
       "grid_auto_flow": null,
       "grid_auto_rows": null,
       "grid_column": null,
       "grid_gap": null,
       "grid_row": null,
       "grid_template_areas": null,
       "grid_template_columns": null,
       "grid_template_rows": null,
       "height": null,
       "justify_content": null,
       "justify_items": null,
       "left": null,
       "margin": null,
       "max_height": null,
       "max_width": null,
       "min_height": null,
       "min_width": null,
       "object_fit": null,
       "object_position": null,
       "order": null,
       "overflow": null,
       "padding": null,
       "right": null,
       "top": null,
       "visibility": null,
       "width": null
      }
     },
     "6da6bfbf6cda4d399a3ce6f8ddca8143": {
      "model_module": "@jupyter-widgets/base",
      "model_module_version": "2.0.0",
      "model_name": "LayoutModel",
      "state": {
       "_model_module": "@jupyter-widgets/base",
       "_model_module_version": "2.0.0",
       "_model_name": "LayoutModel",
       "_view_count": null,
       "_view_module": "@jupyter-widgets/base",
       "_view_module_version": "2.0.0",
       "_view_name": "LayoutView",
       "align_content": null,
       "align_items": null,
       "align_self": null,
       "border_bottom": null,
       "border_left": null,
       "border_right": null,
       "border_top": null,
       "bottom": null,
       "display": null,
       "flex": null,
       "flex_flow": null,
       "grid_area": null,
       "grid_auto_columns": null,
       "grid_auto_flow": null,
       "grid_auto_rows": null,
       "grid_column": null,
       "grid_gap": null,
       "grid_row": null,
       "grid_template_areas": null,
       "grid_template_columns": null,
       "grid_template_rows": null,
       "height": null,
       "justify_content": null,
       "justify_items": null,
       "left": null,
       "margin": null,
       "max_height": null,
       "max_width": null,
       "min_height": null,
       "min_width": null,
       "object_fit": null,
       "object_position": null,
       "order": null,
       "overflow": null,
       "padding": null,
       "right": null,
       "top": null,
       "visibility": null,
       "width": null
      }
     },
     "7f28de498ec8435db0e0d14e4ed16dd7": {
      "model_module": "@jupyter-widgets/controls",
      "model_module_version": "2.0.0",
      "model_name": "FloatSliderModel",
      "state": {
       "_dom_classes": [],
       "_model_module": "@jupyter-widgets/controls",
       "_model_module_version": "2.0.0",
       "_model_name": "FloatSliderModel",
       "_view_count": null,
       "_view_module": "@jupyter-widgets/controls",
       "_view_module_version": "2.0.0",
       "_view_name": "FloatSliderView",
       "behavior": "drag-tap",
       "continuous_update": true,
       "description": "R",
       "description_allow_html": false,
       "disabled": false,
       "layout": "IPY_MODEL_c332b5cfa4b04f8cb4c3c7474130cf82",
       "max": 1.0,
       "min": 0.0,
       "orientation": "horizontal",
       "readout": true,
       "readout_format": ".2f",
       "step": 0.1,
       "style": "IPY_MODEL_9168a8deb0014ff9a71fd086c9298072",
       "tabbable": null,
       "tooltip": null,
       "value": 1.0
      }
     },
     "80a4c71e7e0b481c8d1676139e0db656": {
      "model_module": "@jupyter-widgets/controls",
      "model_module_version": "2.0.0",
      "model_name": "FloatSliderModel",
      "state": {
       "_dom_classes": [],
       "_model_module": "@jupyter-widgets/controls",
       "_model_module_version": "2.0.0",
       "_model_name": "FloatSliderModel",
       "_view_count": null,
       "_view_module": "@jupyter-widgets/controls",
       "_view_module_version": "2.0.0",
       "_view_name": "FloatSliderView",
       "behavior": "drag-tap",
       "continuous_update": true,
       "description": "G",
       "description_allow_html": false,
       "disabled": false,
       "layout": "IPY_MODEL_36edc9c12e58432cb50dec795afdde08",
       "max": 1.0,
       "min": 0.0,
       "orientation": "horizontal",
       "readout": true,
       "readout_format": ".2f",
       "step": 0.1,
       "style": "IPY_MODEL_3863374911354122aa7dbcd96504d3b4",
       "tabbable": null,
       "tooltip": null,
       "value": 0.0
      }
     },
     "8979c60da0564a8bae3972d08e32cf7c": {
      "model_module": "@jupyter-widgets/controls",
      "model_module_version": "2.0.0",
      "model_name": "VBoxModel",
      "state": {
       "_dom_classes": [
        "widget-interact"
       ],
       "_model_module": "@jupyter-widgets/controls",
       "_model_module_version": "2.0.0",
       "_model_name": "VBoxModel",
       "_view_count": null,
       "_view_module": "@jupyter-widgets/controls",
       "_view_module_version": "2.0.0",
       "_view_name": "VBoxView",
       "box_style": "",
       "children": [
        "IPY_MODEL_7f28de498ec8435db0e0d14e4ed16dd7",
        "IPY_MODEL_49f59320fdc547d08349a8651cafb3f7",
        "IPY_MODEL_03c05d040341486bba30831384b33388",
        "IPY_MODEL_5f346b0acd8c40179d092b76b0e65078"
       ],
       "layout": "IPY_MODEL_e3858abc12224f0785fc753552cc3e8a",
       "tabbable": null,
       "tooltip": null
      }
     },
     "9168a8deb0014ff9a71fd086c9298072": {
      "model_module": "@jupyter-widgets/controls",
      "model_module_version": "2.0.0",
      "model_name": "SliderStyleModel",
      "state": {
       "_model_module": "@jupyter-widgets/controls",
       "_model_module_version": "2.0.0",
       "_model_name": "SliderStyleModel",
       "_view_count": null,
       "_view_module": "@jupyter-widgets/base",
       "_view_module_version": "2.0.0",
       "_view_name": "StyleView",
       "description_width": "",
       "handle_color": null
      }
     },
     "955d8940aaa048a9b85deea2d0b63988": {
      "model_module": "@jupyter-widgets/base",
      "model_module_version": "2.0.0",
      "model_name": "LayoutModel",
      "state": {
       "_model_module": "@jupyter-widgets/base",
       "_model_module_version": "2.0.0",
       "_model_name": "LayoutModel",
       "_view_count": null,
       "_view_module": "@jupyter-widgets/base",
       "_view_module_version": "2.0.0",
       "_view_name": "LayoutView",
       "align_content": null,
       "align_items": null,
       "align_self": null,
       "border_bottom": null,
       "border_left": null,
       "border_right": null,
       "border_top": null,
       "bottom": null,
       "display": null,
       "flex": null,
       "flex_flow": null,
       "grid_area": null,
       "grid_auto_columns": null,
       "grid_auto_flow": null,
       "grid_auto_rows": null,
       "grid_column": null,
       "grid_gap": null,
       "grid_row": null,
       "grid_template_areas": null,
       "grid_template_columns": null,
       "grid_template_rows": null,
       "height": null,
       "justify_content": null,
       "justify_items": null,
       "left": null,
       "margin": null,
       "max_height": null,
       "max_width": null,
       "min_height": null,
       "min_width": null,
       "object_fit": null,
       "object_position": null,
       "order": null,
       "overflow": null,
       "padding": null,
       "right": null,
       "top": null,
       "visibility": null,
       "width": null
      }
     },
     "a09f45971bb3497da3938b1798a906c4": {
      "model_module": "@jupyter-widgets/controls",
      "model_module_version": "2.0.0",
      "model_name": "SliderStyleModel",
      "state": {
       "_model_module": "@jupyter-widgets/controls",
       "_model_module_version": "2.0.0",
       "_model_name": "SliderStyleModel",
       "_view_count": null,
       "_view_module": "@jupyter-widgets/base",
       "_view_module_version": "2.0.0",
       "_view_name": "StyleView",
       "description_width": "",
       "handle_color": null
      }
     },
     "ace25ef81a0d49bea33d4318c243628c": {
      "model_module": "@jupyter-widgets/controls",
      "model_module_version": "2.0.0",
      "model_name": "VBoxModel",
      "state": {
       "_dom_classes": [
        "widget-interact"
       ],
       "_model_module": "@jupyter-widgets/controls",
       "_model_module_version": "2.0.0",
       "_model_name": "VBoxModel",
       "_view_count": null,
       "_view_module": "@jupyter-widgets/controls",
       "_view_module_version": "2.0.0",
       "_view_name": "VBoxView",
       "box_style": "",
       "children": [
        "IPY_MODEL_5c52f1a334514cb98cb001b6e739fd1e",
        "IPY_MODEL_80a4c71e7e0b481c8d1676139e0db656",
        "IPY_MODEL_f34e8b07dc2d4b5084e05adc83e0d24d",
        "IPY_MODEL_39413acb49864b4f9b38b4ac98b39b5f"
       ],
       "layout": "IPY_MODEL_d24e5fed67c0440484790efb0f10cb45",
       "tabbable": null,
       "tooltip": null
      }
     },
     "ad96c70033714f288e20262d4e8d34f6": {
      "model_module": "@jupyter-widgets/base",
      "model_module_version": "2.0.0",
      "model_name": "LayoutModel",
      "state": {
       "_model_module": "@jupyter-widgets/base",
       "_model_module_version": "2.0.0",
       "_model_name": "LayoutModel",
       "_view_count": null,
       "_view_module": "@jupyter-widgets/base",
       "_view_module_version": "2.0.0",
       "_view_name": "LayoutView",
       "align_content": null,
       "align_items": null,
       "align_self": null,
       "border_bottom": null,
       "border_left": null,
       "border_right": null,
       "border_top": null,
       "bottom": null,
       "display": null,
       "flex": null,
       "flex_flow": null,
       "grid_area": null,
       "grid_auto_columns": null,
       "grid_auto_flow": null,
       "grid_auto_rows": null,
       "grid_column": null,
       "grid_gap": null,
       "grid_row": null,
       "grid_template_areas": null,
       "grid_template_columns": null,
       "grid_template_rows": null,
       "height": null,
       "justify_content": null,
       "justify_items": null,
       "left": null,
       "margin": null,
       "max_height": null,
       "max_width": null,
       "min_height": null,
       "min_width": null,
       "object_fit": null,
       "object_position": null,
       "order": null,
       "overflow": null,
       "padding": null,
       "right": null,
       "top": null,
       "visibility": null,
       "width": null
      }
     },
     "c332b5cfa4b04f8cb4c3c7474130cf82": {
      "model_module": "@jupyter-widgets/base",
      "model_module_version": "2.0.0",
      "model_name": "LayoutModel",
      "state": {
       "_model_module": "@jupyter-widgets/base",
       "_model_module_version": "2.0.0",
       "_model_name": "LayoutModel",
       "_view_count": null,
       "_view_module": "@jupyter-widgets/base",
       "_view_module_version": "2.0.0",
       "_view_name": "LayoutView",
       "align_content": null,
       "align_items": null,
       "align_self": null,
       "border_bottom": null,
       "border_left": null,
       "border_right": null,
       "border_top": null,
       "bottom": null,
       "display": null,
       "flex": null,
       "flex_flow": null,
       "grid_area": null,
       "grid_auto_columns": null,
       "grid_auto_flow": null,
       "grid_auto_rows": null,
       "grid_column": null,
       "grid_gap": null,
       "grid_row": null,
       "grid_template_areas": null,
       "grid_template_columns": null,
       "grid_template_rows": null,
       "height": null,
       "justify_content": null,
       "justify_items": null,
       "left": null,
       "margin": null,
       "max_height": null,
       "max_width": null,
       "min_height": null,
       "min_width": null,
       "object_fit": null,
       "object_position": null,
       "order": null,
       "overflow": null,
       "padding": null,
       "right": null,
       "top": null,
       "visibility": null,
       "width": null
      }
     },
     "d24e5fed67c0440484790efb0f10cb45": {
      "model_module": "@jupyter-widgets/base",
      "model_module_version": "2.0.0",
      "model_name": "LayoutModel",
      "state": {
       "_model_module": "@jupyter-widgets/base",
       "_model_module_version": "2.0.0",
       "_model_name": "LayoutModel",
       "_view_count": null,
       "_view_module": "@jupyter-widgets/base",
       "_view_module_version": "2.0.0",
       "_view_name": "LayoutView",
       "align_content": null,
       "align_items": null,
       "align_self": null,
       "border_bottom": null,
       "border_left": null,
       "border_right": null,
       "border_top": null,
       "bottom": null,
       "display": null,
       "flex": null,
       "flex_flow": null,
       "grid_area": null,
       "grid_auto_columns": null,
       "grid_auto_flow": null,
       "grid_auto_rows": null,
       "grid_column": null,
       "grid_gap": null,
       "grid_row": null,
       "grid_template_areas": null,
       "grid_template_columns": null,
       "grid_template_rows": null,
       "height": null,
       "justify_content": null,
       "justify_items": null,
       "left": null,
       "margin": null,
       "max_height": null,
       "max_width": null,
       "min_height": null,
       "min_width": null,
       "object_fit": null,
       "object_position": null,
       "order": null,
       "overflow": null,
       "padding": null,
       "right": null,
       "top": null,
       "visibility": null,
       "width": null
      }
     },
     "e3858abc12224f0785fc753552cc3e8a": {
      "model_module": "@jupyter-widgets/base",
      "model_module_version": "2.0.0",
      "model_name": "LayoutModel",
      "state": {
       "_model_module": "@jupyter-widgets/base",
       "_model_module_version": "2.0.0",
       "_model_name": "LayoutModel",
       "_view_count": null,
       "_view_module": "@jupyter-widgets/base",
       "_view_module_version": "2.0.0",
       "_view_name": "LayoutView",
       "align_content": null,
       "align_items": null,
       "align_self": null,
       "border_bottom": null,
       "border_left": null,
       "border_right": null,
       "border_top": null,
       "bottom": null,
       "display": null,
       "flex": null,
       "flex_flow": null,
       "grid_area": null,
       "grid_auto_columns": null,
       "grid_auto_flow": null,
       "grid_auto_rows": null,
       "grid_column": null,
       "grid_gap": null,
       "grid_row": null,
       "grid_template_areas": null,
       "grid_template_columns": null,
       "grid_template_rows": null,
       "height": null,
       "justify_content": null,
       "justify_items": null,
       "left": null,
       "margin": null,
       "max_height": null,
       "max_width": null,
       "min_height": null,
       "min_width": null,
       "object_fit": null,
       "object_position": null,
       "order": null,
       "overflow": null,
       "padding": null,
       "right": null,
       "top": null,
       "visibility": null,
       "width": null
      }
     },
     "f34e8b07dc2d4b5084e05adc83e0d24d": {
      "model_module": "@jupyter-widgets/controls",
      "model_module_version": "2.0.0",
      "model_name": "FloatSliderModel",
      "state": {
       "_dom_classes": [],
       "_model_module": "@jupyter-widgets/controls",
       "_model_module_version": "2.0.0",
       "_model_name": "FloatSliderModel",
       "_view_count": null,
       "_view_module": "@jupyter-widgets/controls",
       "_view_module_version": "2.0.0",
       "_view_name": "FloatSliderView",
       "behavior": "drag-tap",
       "continuous_update": true,
       "description": "B",
       "description_allow_html": false,
       "disabled": false,
       "layout": "IPY_MODEL_608aca5b0b374734b8a266dbed9a8c28",
       "max": 1.0,
       "min": 0.0,
       "orientation": "horizontal",
       "readout": true,
       "readout_format": ".2f",
       "step": 0.1,
       "style": "IPY_MODEL_454790613db746d0b56a54ff476e7447",
       "tabbable": null,
       "tooltip": null,
       "value": 0.0
      }
     }
    },
    "version_major": 2,
    "version_minor": 0
   }
  }
 },
 "nbformat": 4,
 "nbformat_minor": 5
}