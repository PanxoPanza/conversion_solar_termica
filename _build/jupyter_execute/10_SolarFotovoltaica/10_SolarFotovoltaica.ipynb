{
 "cells": [
  {
   "cell_type": "markdown",
   "id": "8b01ca79",
   "metadata": {
    "cell_style": "center",
    "slideshow": {
     "slide_type": "slide"
    }
   },
   "source": [
    " <font size=\"6\">MEC501 - Manejo y Conversión de Energía Solar Térmica</font>\n",
    "# Conversión Solar Fotovoltaica\n",
    "<br><br><br><br>\n",
    "Profesor: Francisco Ramírez Cuevas<br>\n",
    "Fecha: 11 de noviembre 2022"
   ]
  },
  {
   "cell_type": "markdown",
   "id": "6dc2e1f0",
   "metadata": {
    "slideshow": {
     "slide_type": "slide"
    }
   },
   "source": [
    "## Introducción\n",
    "\n",
    "Los paneles fotoltaicos son **dispositivos de estado sólido** que convierten radiación solar en electricidad, directamente.\n"
   ]
  },
  {
   "cell_type": "markdown",
   "id": "58f8678c",
   "metadata": {
    "cell_style": "split",
    "slideshow": {
     "slide_type": "fragment"
    }
   },
   "source": [
    "<img src=\"./images/from_pvcell_to_pvsystem.png\" width=\"400\" align= center>"
   ]
  },
  {
   "cell_type": "markdown",
   "id": "50e65100",
   "metadata": {
    "cell_style": "split",
    "slideshow": {
     "slide_type": "fragment"
    }
   },
   "source": [
    "Denominamos como **celda fotovoltaica** a la unidad fundamental de un panel fotovoltaico. Este elemento es el encargado de la generación de electricidad mediante el **efecto fotoeléctrico** "
   ]
  },
  {
   "cell_type": "markdown",
   "id": "5c5fabe2",
   "metadata": {
    "cell_style": "split",
    "slideshow": {
     "slide_type": "fragment"
    }
   },
   "source": [
    "Un **panel solar** esta conformado de un conjunto de celdas fotovoltaicas conectadas en serie y paralelo."
   ]
  },
  {
   "cell_type": "markdown",
   "id": "070158e6",
   "metadata": {
    "cell_style": "split",
    "slideshow": {
     "slide_type": "fragment"
    }
   },
   "source": [
    "Una **central de energía solar fotovoltaica** se basa en un conjunto de paneles solares intercontectados"
   ]
  },
  {
   "cell_type": "markdown",
   "id": "05794d01",
   "metadata": {
    "slideshow": {
     "slide_type": "slide"
    }
   },
   "source": [
    "La siguiente imagen muestra los principales componentes de una celda solar.\n",
    "\n",
    "<img src=\"./images/solar_cell.png\" width=\"600\" align= center>"
   ]
  },
  {
   "cell_type": "markdown",
   "id": "d9caefb5",
   "metadata": {
    "slideshow": {
     "slide_type": "fragment"
    }
   },
   "source": [
    "- Dos capas de silicio cargado negativa y positivamente se encargan de producir voltaje a través del efecto fotoeléctrico\n",
    "\n",
    "- La capa antireflectante tiene la función de mejorar la absorción de luz en el semiconductor\n",
    "\n",
    "- Los contactos metálicos en la parte superior e inferior de la celda tienen la función de recolectar la corriente fotogenerada."
   ]
  },
  {
   "cell_type": "markdown",
   "id": "fdbd1104",
   "metadata": {
    "slideshow": {
     "slide_type": "slide"
    }
   },
   "source": [
    "**La tecnología fotovoltaica es el método más económico de conversión de energía solar a electricidad**. En algunos paises, con precios por kWh incluso menores que los combustibles fósiles."
   ]
  },
  {
   "cell_type": "code",
   "execution_count": 1,
   "id": "59c6996c",
   "metadata": {
    "tags": [
     "remove-input"
    ]
   },
   "outputs": [
    {
     "data": {
      "text/html": [
       "\n",
       "<iframe\n",
       "    width=\"900px\"\n",
       "    height=\"600px\"\n",
       "    src=\"https://ourworldindata.org/grapher/levelized-cost-of-energy\"\n",
       "    frameborder=\"0\"\n",
       "    allowfullscreen\n",
       "\n",
       "></iframe>\n"
      ],
      "text/plain": [
       "<IPython.lib.display.IFrame at 0x7f1eac4632b0>"
      ]
     },
     "metadata": {},
     "output_type": "display_data"
    }
   ],
   "source": [
    "from IPython.display import display, HTML, IFrame\n",
    "display(IFrame('https://ourworldindata.org/grapher/levelized-cost-of-energy', '900px', '600px'))"
   ]
  },
  {
   "cell_type": "markdown",
   "id": "1af4522c",
   "metadata": {
    "slideshow": {
     "slide_type": "slide"
    }
   },
   "source": [
    "## Fundamentos de la conversión fotovoltaica en semiconductores"
   ]
  },
  {
   "cell_type": "markdown",
   "id": "0f421b5d",
   "metadata": {
    "slideshow": {
     "slide_type": "slide"
    }
   },
   "source": [
    "### Semiconductores\n",
    "\n",
    "Como discutimos en la [unidad 3 del curso](https://panxopanza.github.io/conversion_solar_termica/3_Interacci%C3%B3n_materia-luz/3_Interacci%C3%B3n_materia-luz.html#interaccion-de-la-luz-con-materiales-solidos), un semiconductor es un material caracterizado por un *bandgap* ($E_g$) relativamente pequeño ($\\sim 1 - 2$ eV), de manera tal que un electrón puede ser llevado a la banda de conducción mediante una onda electromagnética o un potencial eléctrico."
   ]
  },
  {
   "cell_type": "markdown",
   "id": "6e0c79fa",
   "metadata": {
    "cell_style": "center",
    "slideshow": {
     "slide_type": "-"
    }
   },
   "source": [
    "\n",
    "<img src=\"./images/semiconductor_energy_band.png\" width=\"500\" align= center>"
   ]
  },
  {
   "cell_type": "markdown",
   "id": "a0b1b313",
   "metadata": {
    "slideshow": {
     "slide_type": "slide"
    }
   },
   "source": [
    "En el silicio, por ejemplo, $E_g = 1.12$ eV. Así los fotones del espectro visible pueden ser absorbidos por el material."
   ]
  },
  {
   "cell_type": "markdown",
   "id": "e5b4e862",
   "metadata": {
    "cell_style": "split",
    "slideshow": {
     "slide_type": "fragment"
    }
   },
   "source": [
    "<img src=\"./images/hole-electro-pair.png\" width=\"400\" align= center>"
   ]
  },
  {
   "cell_type": "markdown",
   "id": "13a7fb48",
   "metadata": {
    "cell_style": "split"
   },
   "source": [
    "El electrón fotoexitado a la banda de conducción induce una carga neta positiva en la banda de valencia, la cual es deminada **agujero o hueco**."
   ]
  },
  {
   "cell_type": "markdown",
   "id": "ba4926ed",
   "metadata": {
    "cell_style": "split",
    "slideshow": {
     "slide_type": "fragment"
    }
   },
   "source": [
    "Debido al potencial eléctrico inducido entre las bandas de conducción y valencia, el electrón retorna a la posición inicial ocupando el espacio del agujero. Llamamos a este fenómeno **recombinación**"
   ]
  },
  {
   "cell_type": "markdown",
   "id": "0503a675",
   "metadata": {
    "slideshow": {
     "slide_type": "slide"
    }
   },
   "source": [
    "### Dopaje de semiconductores\n",
    "\n",
    "El dopaje de semiconductores consiste en introducir impuresas intencionalmente, con el fin de modular las propiedades eléctricas, ópticas o estructurales."
   ]
  },
  {
   "cell_type": "markdown",
   "id": "c6d0b231",
   "metadata": {
    "slideshow": {
     "slide_type": "fragment"
    }
   },
   "source": [
    "Para entender esto, consideremos el cristal de silicio. Este elemento tiene 4 electrones de valencia."
   ]
  },
  {
   "cell_type": "markdown",
   "id": "754a3283",
   "metadata": {
    "cell_style": "split",
    "slideshow": {
     "slide_type": "fragment"
    }
   },
   "source": [
    "<img src=\"./images/intrinsic_silicon_crystal.png\" width=\"400\" align= center>"
   ]
  },
  {
   "cell_type": "markdown",
   "id": "66a1622f",
   "metadata": {
    "cell_style": "split",
    "slideshow": {
     "slide_type": "fragment"
    }
   },
   "source": [
    "En el esquema, cada átomo de silicio (Si) forma enlaces covalentes con otros 4 átomos y, así, cada orbital en la banda de valencia esta completo. "
   ]
  },
  {
   "cell_type": "markdown",
   "id": "3bcba038",
   "metadata": {
    "cell_style": "split",
    "slideshow": {
     "slide_type": "fragment"
    }
   },
   "source": [
    "Debido a esto, los electrones permanecen fuertemente unidos al núcleo. El cristal de silicio, así, no conduce corriente eléctrica."
   ]
  },
  {
   "cell_type": "markdown",
   "id": "9e924fd7",
   "metadata": {
    "slideshow": {
     "slide_type": "slide"
    }
   },
   "source": [
    "Consideremos, ahora, la presencia de una impuresa en el cristal."
   ]
  },
  {
   "cell_type": "markdown",
   "id": "6ae0094b",
   "metadata": {
    "cell_style": "split",
    "slideshow": {
     "slide_type": "fragment"
    }
   },
   "source": [
    "<img src=\"./images/n-doped_silicon.png\" width=\"400\" align= center>"
   ]
  },
  {
   "cell_type": "markdown",
   "id": "3259455c",
   "metadata": {
    "cell_style": "split"
   },
   "source": [
    "En este caso, consideraremos un átomo de fósforo (P), el cual reemplazará uno de los átomos de silicio."
   ]
  },
  {
   "cell_type": "markdown",
   "id": "7cd5b887",
   "metadata": {
    "cell_style": "split",
    "slideshow": {
     "slide_type": "fragment"
    }
   },
   "source": [
    "El fóforo tiene 5 electrones de valencia. Debido que solo 4 electrones son necesarios para completar el orbital de cada átomo de silicio, el cristal quedará con un electrón libre."
   ]
  },
  {
   "cell_type": "markdown",
   "id": "b580de5a",
   "metadata": {
    "cell_style": "split",
    "slideshow": {
     "slide_type": "fragment"
    }
   },
   "source": [
    "Como resultado, el silicio dopado con fósforo quedará con una carga electrica neta negativa."
   ]
  },
  {
   "cell_type": "markdown",
   "id": "f643ce36",
   "metadata": {
    "slideshow": {
     "slide_type": "fragment"
    }
   },
   "source": [
    "En este caso, decimos que el **semiconductor es de tipo n**."
   ]
  },
  {
   "cell_type": "markdown",
   "id": "848f1c52",
   "metadata": {
    "slideshow": {
     "slide_type": "slide"
    }
   },
   "source": [
    "Por el contrario, si el elemento dopante tiene menos electrones de valencia, el semiconductor quedará cargado positivamente"
   ]
  },
  {
   "cell_type": "markdown",
   "id": "85231c59",
   "metadata": {
    "cell_style": "split",
    "slideshow": {
     "slide_type": "fragment"
    }
   },
   "source": [
    "<img src=\"./images/p-doped_silicon.png\" width=\"400\" align= center>"
   ]
  },
  {
   "cell_type": "markdown",
   "id": "b35d6d2b",
   "metadata": {
    "cell_style": "split"
   },
   "source": [
    "Esto es lo que sucede cuando introducimos un átomo de Boro (B) en el cristal de silicio. El boro tiene 3 electrónes de valencia y, como resultado, el cristal queda cargado positivamente."
   ]
  },
  {
   "cell_type": "markdown",
   "id": "0e579c06",
   "metadata": {
    "cell_style": "split",
    "slideshow": {
     "slide_type": "fragment"
    }
   },
   "source": [
    "En este caso, la aucencia de un electrón es equivalente a tener un agujero que puede moverse libremente por el cristal"
   ]
  },
  {
   "cell_type": "markdown",
   "id": "3df4d03c",
   "metadata": {
    "slideshow": {
     "slide_type": "fragment"
    }
   },
   "source": [
    "En este caso, decimos que el **semiconductor es de tipo p**."
   ]
  },
  {
   "cell_type": "markdown",
   "id": "a6e45ab0",
   "metadata": {
    "slideshow": {
     "slide_type": "slide"
    }
   },
   "source": [
    "### Unión p-n"
   ]
  },
  {
   "cell_type": "markdown",
   "id": "b5f7227d",
   "metadata": {
    "slideshow": {
     "slide_type": "fragment"
    }
   },
   "source": [
    "Cuando un semiconductor tipo n se une a un semiconductor tipo p, las cargas negativas y positivas de cada semiconductor se mueven hacia el lado contrario debido a la diferencia de concentraciones en cada semiconductor."
   ]
  },
  {
   "cell_type": "markdown",
   "id": "68093090",
   "metadata": {
    "cell_style": "split",
    "slideshow": {
     "slide_type": "fragment"
    }
   },
   "source": [
    "<img src=\"./images/pn-junction.png\" width=\"400\" align= center>"
   ]
  },
  {
   "cell_type": "markdown",
   "id": "b768e484",
   "metadata": {
    "cell_style": "split"
   },
   "source": [
    "El flujo de cargas eléctricas y la recombinación en cada semiconductor forma una región intermedia denominada **región de agotamiento**"
   ]
  },
  {
   "cell_type": "markdown",
   "id": "9cb8a93f",
   "metadata": {
    "cell_style": "split",
    "slideshow": {
     "slide_type": "fragment"
    }
   },
   "source": [
    "En equilibrio, la unión pn induce un campo eléctrico opuesto al campo eléctrico neto del sistema, que impide el flujo de cargas eléctricas en cada semiconductor hacia el lado opuesto."
   ]
  },
  {
   "cell_type": "markdown",
   "id": "bbca43be",
   "metadata": {
    "slideshow": {
     "slide_type": "slide"
    }
   },
   "source": [
    "La junta pn es escencial para producir el efecto fotovoltaico."
   ]
  },
  {
   "cell_type": "markdown",
   "id": "66cb5443",
   "metadata": {
    "cell_style": "split",
    "slideshow": {
     "slide_type": "fragment"
    }
   },
   "source": [
    "<img src=\"./images/illuminated_pn-junction.png\" width=\"400\" align= center>"
   ]
  },
  {
   "cell_type": "markdown",
   "id": "df6ced14",
   "metadata": {
    "cell_style": "split",
    "slideshow": {
     "slide_type": "-"
    }
   },
   "source": [
    "Esto debido a que el campo eléctrico en la junta permite separar el par electron-agujero fotoexcitado.  "
   ]
  },
  {
   "cell_type": "markdown",
   "id": "12b3b657",
   "metadata": {
    "cell_style": "split",
    "slideshow": {
     "slide_type": "fragment"
    }
   },
   "source": [
    "Notar en el esquema que los llamados **portadores minoritarios** (agujeros en el semiconductor n y electrones en el semiconductor p), son los encargados de producir una corriente eléctrica"
   ]
  },
  {
   "cell_type": "markdown",
   "id": "ea6fb9a2",
   "metadata": {
    "slideshow": {
     "slide_type": "slide"
    }
   },
   "source": [
    "### Operación de una celda fotovoltaica"
   ]
  },
  {
   "cell_type": "markdown",
   "id": "55ba28c4",
   "metadata": {
    "slideshow": {
     "slide_type": "fragment"
    }
   },
   "source": [
    "En ausencia de iluminación la unión pn se comporta como un **diodo**"
   ]
  },
  {
   "cell_type": "markdown",
   "id": "d565bf52",
   "metadata": {
    "slideshow": {
     "slide_type": "slide"
    }
   },
   "source": [
    "\n",
    "Cuando se aplica un voltage opuesto a la dirección del campo eléctrico en la unión pn, nos referimos a un **sesgo hacia atrás (*reverse bias*)**."
   ]
  },
  {
   "cell_type": "markdown",
   "id": "01647585",
   "metadata": {
    "cell_style": "split",
    "slideshow": {
     "slide_type": "fragment"
    }
   },
   "source": [
    "<img src=\"./images/pn-junction_reverse-bias.png\" width=\"350\" align= center>"
   ]
  },
  {
   "cell_type": "markdown",
   "id": "323d027e",
   "metadata": {
    "cell_style": "split"
   },
   "source": [
    "En este caso, la región de agotamiento aumenta su tamaño y la unión pn no conduce corriente"
   ]
  },
  {
   "cell_type": "markdown",
   "id": "6b20622b",
   "metadata": {
    "slideshow": {
     "slide_type": "slide"
    }
   },
   "source": [
    "En el caso contrario, ,es decir, cuando se aplica un voltage en la dirección del campo eléctrico en la unión pn, hablamos de un **sesgo hacia adelante (*forward bias*)**"
   ]
  },
  {
   "cell_type": "markdown",
   "id": "53fc71e3",
   "metadata": {
    "cell_style": "split",
    "slideshow": {
     "slide_type": "fragment"
    }
   },
   "source": [
    "<img src=\"./images/pn-junction_forward-bias.png\" width=\"350\" align= center>"
   ]
  },
  {
   "cell_type": "markdown",
   "id": "a5c6f744",
   "metadata": {
    "cell_style": "split"
   },
   "source": [
    "En este caso, la región de agotamiento disminuye su tamaño. Si el voltaje bajo el sesgo hacia adelante es suficientemente grande, la unión pn es capáz de conducir corriente"
   ]
  },
  {
   "cell_type": "markdown",
   "id": "329b8da3",
   "metadata": {
    "slideshow": {
     "slide_type": "slide"
    }
   },
   "source": [
    "Usando una **curva J-V** (Densidad de corriente vs Voltaje), el comportamiento es:"
   ]
  },
  {
   "cell_type": "markdown",
   "id": "8edbf4ca",
   "metadata": {
    "cell_style": "split",
    "slideshow": {
     "slide_type": "fragment"
    }
   },
   "source": [
    "<img src=\"./images/JV_curve_dark-diode.png\" width=\"400\" align= center>"
   ]
  },
  {
   "cell_type": "markdown",
   "id": "65255ba9",
   "metadata": {
    "cell_style": "split",
    "slideshow": {
     "slide_type": "fragment"
    }
   },
   "source": [
    "Matemáticamente:\n",
    "\\begin{equation*}\n",
    "J = J_\\mathrm{dark} = J_0\\left[\\exp{\\left(\\frac{eV}{k_\\mathrm{B}T}\\right)} - 1 \\right]\n",
    "\\end{equation*}\n",
    "\n",
    "donde $e$ es la carga elemental del electrón ($1.602\\times10^{-19}~\\mathrm{J/V}$), $k_B$ es la constante de Boltzmann, $T$ es la temperatura del diodo, y $J_0$ es la **densidad de corriente de saturación**. El valor de $J_0$ es pequeño y depende de la temperatura de la celda."
   ]
  },
  {
   "cell_type": "markdown",
   "id": "46703885",
   "metadata": {
    "slideshow": {
     "slide_type": "slide"
    }
   },
   "source": [
    "Cuando la unión pn es iluminada, la corriente fotoinducida desplaza la curva J-V del diodo."
   ]
  },
  {
   "cell_type": "markdown",
   "id": "fe4f9e9a",
   "metadata": {
    "cell_style": "split",
    "slideshow": {
     "slide_type": "fragment"
    }
   },
   "source": [
    "<img src=\"./images/JV_curve_illuminated-diode.png\" width=\"350\" align= center>"
   ]
  },
  {
   "cell_type": "markdown",
   "id": "ad3e014a",
   "metadata": {
    "cell_style": "split"
   },
   "source": [
    "Matemáticamente:\n",
    "\n",
    "\\begin{equation*}\n",
    "J = J_\\mathrm{pv} - J_0\\left[\\exp{\\left(\\frac{qV}{k_\\mathrm{B}T}\\right)} - 1 \\right]\n",
    "\\end{equation*}\n",
    "\n",
    "donde $J_\\mathrm{pv}$ es la densidad corriente fotoinducida."
   ]
  },
  {
   "cell_type": "markdown",
   "id": "f81cdcb7",
   "metadata": {
    "slideshow": {
     "slide_type": "slide"
    }
   },
   "source": [
    "### Caracterización de una celda fotoltaica\n",
    "\n",
    "Debido a que la curva J-V anterior estaba basada en un diodo, la corriente es considerada positiva en la dirección del sesgo hacia adelante. En el caso de una celda fotovoltaica, el objetivo es generar corriente en el sentido contrario. Así, la curva J-V se grafica en sentido inverso:"
   ]
  },
  {
   "cell_type": "markdown",
   "id": "f792f85d",
   "metadata": {
    "cell_style": "split"
   },
   "source": [
    "<img src=\"./images/JV-curve_pv-cell.png\" width=\"400\" align= center>"
   ]
  },
  {
   "cell_type": "markdown",
   "id": "9fb7a542",
   "metadata": {
    "cell_style": "split",
    "slideshow": {
     "slide_type": "fragment"
    }
   },
   "source": [
    "- La corriente de corto circuito $J_\\mathrm{sc}$ representa la máxima densidad de corriente que puede entregar la celda sin carga eléctrica ($V_\\mathrm{sc} = 0$)\n",
    "\n",
    "- El voltaje en circuito abierto $V_\\mathrm{oc}$ representa el máximo voltage que puede entregar la celda\n",
    "($J_\\mathrm{oc} = 0$)"
   ]
  },
  {
   "cell_type": "markdown",
   "id": "34b8cc7d",
   "metadata": {
    "cell_style": "split",
    "slideshow": {
     "slide_type": "fragment"
    }
   },
   "source": [
    "Si los términales de la celda son conectados a una resistencia $R$, el punto de operación está dado por la intersección de la curva J-V y la curva $J = V/R$."
   ]
  },
  {
   "cell_type": "markdown",
   "id": "eff54853",
   "metadata": {
    "slideshow": {
     "slide_type": "slide"
    }
   },
   "source": [
    "La densidad de potencia de la celda, $P$, está dada por $P= JV$"
   ]
  },
  {
   "cell_type": "markdown",
   "id": "5cc3d69e",
   "metadata": {
    "cell_style": "split",
    "slideshow": {
     "slide_type": "fragment"
    }
   },
   "source": [
    "<img src=\"./images/PV-curve_pv-cell.png\" width=\"400\" align= center>"
   ]
  },
  {
   "cell_type": "markdown",
   "id": "03a94549",
   "metadata": {
    "cell_style": "split"
   },
   "source": [
    "Como podemos ver en la curva, entre los valores de $V_\\mathrm{oc}$ y $J_\\mathrm{sc}$ la potencia entregada por la celda aumenta hasta un valor máximo. "
   ]
  },
  {
   "cell_type": "markdown",
   "id": "26355c88",
   "metadata": {
    "cell_style": "split",
    "slideshow": {
     "slide_type": "fragment"
    }
   },
   "source": [
    "Este punto representa la condición donde el desempeño de la celda es óptimo."
   ]
  },
  {
   "cell_type": "markdown",
   "id": "5b8c60a0",
   "metadata": {
    "slideshow": {
     "slide_type": "slide"
    }
   },
   "source": [
    "A partir de esto, definimos el **factor de llena (*fill factor*), $\\mathrm{FF}$** como:\n",
    "\n",
    "\\begin{equation*}\n",
    "\\mathrm{FF} = \\frac{J_\\mathrm{max}V_\\mathrm{max}}{J_\\mathrm{sc}V_\\mathrm{oc}}\n",
    "\\end{equation*}"
   ]
  },
  {
   "cell_type": "markdown",
   "id": "ce6a697e",
   "metadata": {
    "slideshow": {
     "slide_type": "fragment"
    }
   },
   "source": [
    "Este es un parámetro de diseño de la celda. A través de este parámetro podemos determinar la densidad de potencia máxima del sistema como $p_\\mathrm{max} = \\mathrm{FF}J_\\mathrm{sc}V_\\mathrm{oc}$"
   ]
  },
  {
   "cell_type": "markdown",
   "id": "20de1af5",
   "metadata": {
    "slideshow": {
     "slide_type": "fragment"
    }
   },
   "source": [
    "Otro parámetro de interés es la máxima eficiencia de la celda, definida por:\n",
    "\n",
    "\\begin{equation*}\n",
    "\\eta_\\mathrm{max} = \\frac{I_\\mathrm{max}V_\\mathrm{max}}{G_t}\n",
    "\\end{equation*}"
   ]
  },
  {
   "cell_type": "markdown",
   "id": "9bf9d601",
   "metadata": {
    "slideshow": {
     "slide_type": "slide"
    }
   },
   "source": [
    "En la práctica, estas curvas se obtienen mediante un ensayo de cada panel en condiciones estándar. Esto es, radiación según AM1.5 y temperatura 25°C."
   ]
  },
  {
   "cell_type": "code",
   "execution_count": 2,
   "id": "657b5b61",
   "metadata": {
    "tags": [
     "remove-input"
    ]
   },
   "outputs": [
    {
     "data": {
      "image/jpeg": "[encoded data removed]",
      "text/html": [
       "\n",
       "<iframe\n",
       "    width=\"800\"\n",
       "    height=\"500\"\n",
       "    src=\"https://www.youtube.com/embed/N4n-SiMjqqM?start=17&end=179\"\n",
       "    frameborder=\"0\"\n",
       "    allowfullscreen\n",
       "\n",
       "></iframe>\n"
      ],
      "text/plain": [
       "<IPython.lib.display.YouTubeVideo at 0x7f1eac46ff40>"
      ]
     },
     "execution_count": 2,
     "metadata": {
      "filenames": {
       "image/jpeg": "/mnt/c/Users/francisco.ramirez.c/OneDrive - Universidad Adolfo Ibanez/Teaching_courses/Manejo_y_Conversion_Energia_Solar_Termica/material_catedra/_build/jupyter_execute/10_SolarFotovoltaica/10_SolarFotovoltaica_68_0.jpg"
      }
     },
     "output_type": "execute_result"
    }
   ],
   "source": [
    "from IPython.display import YouTubeVideo\n",
    "YouTubeVideo('N4n-SiMjqqM', width=800, height=500,  start=17, end=179)"
   ]
  },
  {
   "cell_type": "markdown",
   "id": "202245c9",
   "metadata": {
    "slideshow": {
     "slide_type": "slide"
    }
   },
   "source": [
    "Cabe destacar que la discución anterior está basada en parámetros por unidad de área. Generalmente, la información del fabricante está dada en valores de corriente total, $I = AJ$, donde $A$ es la superficie expuesta del panel. "
   ]
  },
  {
   "cell_type": "markdown",
   "id": "90c357cb",
   "metadata": {
    "slideshow": {
     "slide_type": "fragment"
    }
   },
   "source": [
    "De forma similar, los valores de $P_\\mathrm{max}$ se entregan en valores de watts. En este caso, es común utilizar la unidad $\\mathrm{Wp}$ o *watt peak*, que representa la potencia en el punto de operación óptimo del panel"
   ]
  },
  {
   "cell_type": "markdown",
   "id": "9dfed198",
   "metadata": {
    "slideshow": {
     "slide_type": "slide"
    }
   },
   "source": [
    "La siguiente tabla, muestra información de catálogo de un [panel fotovoltaico del fabricante Sunceco](https://sunceco.com/solar-modules/)."
   ]
  },
  {
   "cell_type": "markdown",
   "id": "a531f398",
   "metadata": {},
   "source": [
    "<img src=\"./images/solar_cell_sunceco.png\" width=\"700\" align= center>"
   ]
  },
  {
   "cell_type": "markdown",
   "id": "21130b55",
   "metadata": {
    "slideshow": {
     "slide_type": "slide"
    }
   },
   "source": [
    "En este caso el fabricante también entrega las curvas IV para distintos niveles de irradiancia y temperatura."
   ]
  },
  {
   "cell_type": "markdown",
   "id": "2fc3e0c6",
   "metadata": {
    "slideshow": {
     "slide_type": "-"
    }
   },
   "source": [
    "<img src=\"./images/pc-cell_irradiance-and-temperature.png\" width=\"800\" align= center>"
   ]
  },
  {
   "cell_type": "markdown",
   "id": "4659d89d",
   "metadata": {
    "slideshow": {
     "slide_type": "fragment"
    }
   },
   "source": [
    "Notar que:\n",
    "\n",
    "- La corriente de corto circuito $I_\\mathrm{sc}$ aumenta con la irradiancia y, por concecuencia, la potencia entregada por el panel es mayor.\n",
    "\n",
    "- Un aumento de temperatura, en cambio, disminuye $V_\\mathrm{oc}$ y, por lo tanto, la potencia entregada por el panel es menor."
   ]
  },
  {
   "cell_type": "markdown",
   "id": "9f9c3cf5",
   "metadata": {
    "slideshow": {
     "slide_type": "slide"
    }
   },
   "source": [
    "### Máxima eficiencia en celdas fotovoltaicas"
   ]
  },
  {
   "cell_type": "markdown",
   "id": "1b1b8e93",
   "metadata": {
    "slideshow": {
     "slide_type": "fragment"
    }
   },
   "source": [
    "Debido a que la conversión de energía fotovoltaica está basada en el efecto fotoeléctrico, la eficiencia termodinámica de una celda está condicionada por el bandgap del semiconductor utilizado."
   ]
  },
  {
   "cell_type": "markdown",
   "id": "9b359aa7",
   "metadata": {
    "cell_style": "split",
    "slideshow": {
     "slide_type": "fragment"
    }
   },
   "source": [
    "Por ejemplo, en el caso del silicio ($E_\\mathrm{g} = 1.12~\\mathrm{eV}$), solo una porción del espectro solar es efectivamente convertido a electricidad.\n",
    "\n",
    "<img src=\"./images/si_spectral-utilization.png\" width=\"500\" align= center>"
   ]
  },
  {
   "cell_type": "markdown",
   "id": "369c2e64",
   "metadata": {
    "cell_style": "split",
    "slideshow": {
     "slide_type": "fragment"
    }
   },
   "source": [
    "En teoría, además de las pérdidas asociadas al bandgap del semiconductor, existen otros factores que inevitablemente afectan la eficienca de conversión de energía, tales como el calor emitido por la celda y la recombinación."
   ]
  },
  {
   "cell_type": "markdown",
   "id": "243034d5",
   "metadata": {
    "cell_style": "split",
    "slideshow": {
     "slide_type": "fragment"
    }
   },
   "source": [
    "El **[límite de Shockley–Queisser](https://en.wikipedia.org/wiki/Shockley%E2%80%93Queisser_limit)**, define la máxima eficiencia teórica de una celda fotovoltaica, considerando estos factores:\n",
    " \n",
    "- 33.2% para una celda de unión pn simple (un semiconductor) con un bandgap de 1.34 eV. El valor desciende a 32% en el caso del silicio.\n",
    "\n",
    "- 42% para celdas de doble unión, y 49% para celdas de triple unión\n",
    "\n",
    "- 65% para celdas de 5 uniones con concentración de radiación"
   ]
  },
  {
   "cell_type": "markdown",
   "id": "3e8a79a1",
   "metadata": {
    "cell_style": "center",
    "slideshow": {
     "slide_type": "slide"
    }
   },
   "source": [
    "### Pérdidas de energía en una celda fotovoltaica"
   ]
  },
  {
   "cell_type": "markdown",
   "id": "f999b7d0",
   "metadata": {
    "slideshow": {
     "slide_type": "fragment"
    }
   },
   "source": [
    "Además de las pérdidas estimadas mediante la eficiencia temrmodinámica, una celda presenta pérdidas de energía eléctrica debido a aspectos asociados a la fabricación. Podemos representar las pérdidas en una celda mediante dos resistencias:"
   ]
  },
  {
   "cell_type": "markdown",
   "id": "0b9627f5",
   "metadata": {
    "cell_style": "split",
    "slideshow": {
     "slide_type": "fragment"
    }
   },
   "source": [
    "<img src=\"./images/equivalent_pv-cell_circuit.png\" width=\"350\" align= center>"
   ]
  },
  {
   "cell_type": "markdown",
   "id": "3e0f3eb4",
   "metadata": {
    "cell_style": "split"
   },
   "source": [
    "- **Resistencia en serie ($R_\\mathrm{s}$)**, representando lás pérdidas por resistencia en el semiconductor en la interface de los contactos eléctricos, y en los contactos.\n",
    "\n",
    "- **Resistencia shunt ($R_\\mathrm{sh}$)**, representando lás pérdidas por derivación de corriente a lo largo de grietas en el material, o en los bordes de la celda."
   ]
  },
  {
   "cell_type": "markdown",
   "id": "017f1bf8",
   "metadata": {
    "slideshow": {
     "slide_type": "slide"
    }
   },
   "source": [
    "Ambas series afectan el desempeño de la celda, disminuyendo la potencia máxima."
   ]
  },
  {
   "cell_type": "markdown",
   "id": "6c53dfdd",
   "metadata": {
    "cell_style": "split"
   },
   "source": [
    "<img src=\"./images/shunt_and_series_resistance.png\" width=\"400\" align= center>"
   ]
  },
  {
   "cell_type": "markdown",
   "id": "553d5929",
   "metadata": {
    "cell_style": "split",
    "slideshow": {
     "slide_type": "fragment"
    }
   },
   "source": [
    "En la práctica $R_\\mathrm{s}$ debe ser lo más baja posible, y $R_\\mathrm{sh}$ debe ser lo más alta posible."
   ]
  },
  {
   "cell_type": "markdown",
   "id": "0bc93978",
   "metadata": {
    "slideshow": {
     "slide_type": "slide"
    }
   },
   "source": [
    "### Fabricación de celdas fotovoltaicas"
   ]
  },
  {
   "cell_type": "markdown",
   "id": "7ce731e0",
   "metadata": {
    "slideshow": {
     "slide_type": "fragment"
    }
   },
   "source": [
    "Los métodos de fabricación de las celdas dependen del tipo de material y la cristalinidad deseada. "
   ]
  },
  {
   "cell_type": "markdown",
   "id": "3dae468d",
   "metadata": {
    "slideshow": {
     "slide_type": "slide"
    }
   },
   "source": [
    "\n",
    "\n",
    "El video a continuación muestra el procedimiento de fabricación de celdas de silicio cristalino, el material más utilizado en paneles."
   ]
  },
  {
   "cell_type": "code",
   "execution_count": 3,
   "id": "86fa457b",
   "metadata": {
    "tags": [
     "remove-input"
    ]
   },
   "outputs": [
    {
     "data": {
      "image/jpeg": "[encoded data removed]",
      "text/html": [
       "\n",
       "<iframe\n",
       "    width=\"800\"\n",
       "    height=\"500\"\n",
       "    src=\"https://www.youtube.com/embed/2iRfbWOJtog\"\n",
       "    frameborder=\"0\"\n",
       "    allowfullscreen\n",
       "\n",
       "></iframe>\n"
      ],
      "text/plain": [
       "<IPython.lib.display.YouTubeVideo at 0x7f1eac4685b0>"
      ]
     },
     "execution_count": 3,
     "metadata": {
      "filenames": {
       "image/jpeg": "/mnt/c/Users/francisco.ramirez.c/OneDrive - Universidad Adolfo Ibanez/Teaching_courses/Manejo_y_Conversion_Energia_Solar_Termica/material_catedra/_build/jupyter_execute/10_SolarFotovoltaica/10_SolarFotovoltaica_91_0.jpg"
      }
     },
     "output_type": "execute_result"
    }
   ],
   "source": [
    "from IPython.display import YouTubeVideo\n",
    "YouTubeVideo('2iRfbWOJtog', width=800, height=500)"
   ]
  },
  {
   "cell_type": "markdown",
   "id": "a7975cd2",
   "metadata": {
    "slideshow": {
     "slide_type": "slide"
    }
   },
   "source": [
    "## Paneles fotovoltaicos"
   ]
  },
  {
   "cell_type": "markdown",
   "id": "a1d20c42",
   "metadata": {},
   "source": [
    "### Ensamblaje de celdas fotovoltaicas\n",
    "En la práctica, las celdas fotovoltaicas se agrupan en un módulo mediante conexiones en serie y paralelo con el fin de aumentar la corriente y voltaje total. "
   ]
  },
  {
   "cell_type": "markdown",
   "id": "9f3c80b6",
   "metadata": {
    "slideshow": {
     "slide_type": "fragment"
    }
   },
   "source": [
    "<img src=\"./images/assembled_pv-cells.png\" width=\"600\" align= center>"
   ]
  },
  {
   "cell_type": "markdown",
   "id": "bcf6e74f",
   "metadata": {
    "slideshow": {
     "slide_type": "slide"
    }
   },
   "source": [
    "En el siguiente esquema se muestra un módulo con un arreglo de $N_\\mathrm{SM}$ celdas en serie y $N_\\mathrm{PM}$ en paralelo."
   ]
  },
  {
   "cell_type": "markdown",
   "id": "812dd5e1",
   "metadata": {
    "cell_style": "split"
   },
   "source": [
    "<img src=\"./images/pv-cells_circuit.png\" width=\"500\" align= center>"
   ]
  },
  {
   "cell_type": "markdown",
   "id": "ec636469",
   "metadata": {
    "cell_style": "split",
    "slideshow": {
     "slide_type": "fragment"
    }
   },
   "source": [
    "La corriente de cortocircuito del módulo, $I_\\mathrm{sc}^\\mathrm{M}$, esta asociada con $I_\\mathrm{sc}$ mediante:\n",
    "\n",
    "\\begin{equation*}\n",
    "I_\\mathrm{sc}^\\mathrm{M} = N_\\mathrm{SM}I_\\mathrm{sc}\n",
    "\\end{equation*}"
   ]
  },
  {
   "cell_type": "markdown",
   "id": "988f3d83",
   "metadata": {
    "cell_style": "split",
    "slideshow": {
     "slide_type": "fragment"
    }
   },
   "source": [
    "El voltage de circuito abierto del módulo, $V_\\mathrm{oc}^\\mathrm{M}$, esta asociada con $V_\\mathrm{oc}$ mediante:\n",
    "\n",
    "\\begin{equation*}\n",
    "V_\\mathrm{oc}^\\mathrm{M} = N_\\mathrm{PM}V_\\mathrm{oc}\n",
    "\\end{equation*}"
   ]
  },
  {
   "cell_type": "markdown",
   "id": "d87d91bc",
   "metadata": {
    "slideshow": {
     "slide_type": "slide"
    }
   },
   "source": [
    "### Componentes de un módulo fotovoltaico\n",
    "\n",
    "El módulo, además esta cubierto por una serie de capas que buscan proteger las celdas contra los efectos del medioambiente"
   ]
  },
  {
   "cell_type": "markdown",
   "id": "c02298ad",
   "metadata": {
    "cell_style": "split"
   },
   "source": [
    "<img src=\"./images/pv-module_assembly.png\" width=\"350\" align= center>"
   ]
  },
  {
   "cell_type": "markdown",
   "id": "8db5367b",
   "metadata": {
    "cell_style": "split",
    "slideshow": {
     "slide_type": "fragment"
    }
   },
   "source": [
    "- El **encapsulante** tiene como fin adherir las celdas con la superficie superior e inferior del módulo. Comúnmente se utiliza EVA (acertato de etilo vinilo) \n",
    "\n",
    "- Un **vidrio con bajo nivel de hierro (*low-Fe glass*)** se ubica en la parte superior para proteger el módulo.\n",
    "\n",
    "- Una **capa protectora en la parte trasera**, comúnmente PVF (Tedlar), proteje las celdas contra la humedad y polvo."
   ]
  },
  {
   "cell_type": "markdown",
   "id": "78fbfc03",
   "metadata": {
    "slideshow": {
     "slide_type": "slide"
    }
   },
   "source": [
    "Por último, vários módulos solares generalmente se conectan en arreglos en paralelo y serie para aumentar aún más la potencia del sistema fotovoltaico"
   ]
  },
  {
   "cell_type": "markdown",
   "id": "cf2dd372",
   "metadata": {
    "cell_style": "center"
   },
   "source": [
    "<img src=\"./images/solar-panel.jpg\" width=\"500\" align= center>"
   ]
  },
  {
   "cell_type": "markdown",
   "id": "dbfd8459",
   "metadata": {
    "slideshow": {
     "slide_type": "slide"
    }
   },
   "source": [
    "## Principales tecnologías fotovoltaicas"
   ]
  },
  {
   "cell_type": "markdown",
   "id": "32fd36a3",
   "metadata": {
    "slideshow": {
     "slide_type": "slide"
    }
   },
   "source": [
    "### Silicio monocristalino (mono-Si)"
   ]
  },
  {
   "cell_type": "markdown",
   "id": "b323fb6c",
   "metadata": {
    "cell_style": "split"
   },
   "source": [
    "<img src=\"./images/mono-Si_panel.png\" width=\"400\" align= center>"
   ]
  },
  {
   "cell_type": "markdown",
   "id": "ee31921e",
   "metadata": {
    "cell_style": "split"
   },
   "source": [
    "- La eficiencia de los módulos puede ser entre 18 - 20%.\n",
    "\n",
    "- Son relativamente costosas en comparación con otras celdas solares.\n",
    "- Son la tecnología dominante en el mercado\n",
    "- La eficiencia decae rápidamente con la temperatura, entre 0.4 - 0.5%/°C"
   ]
  },
  {
   "cell_type": "markdown",
   "id": "47c9e83c",
   "metadata": {
    "slideshow": {
     "slide_type": "slide"
    }
   },
   "source": [
    "### Silicio policristalino (poly-Si)"
   ]
  },
  {
   "cell_type": "markdown",
   "id": "bd0ef7a5",
   "metadata": {
    "cell_style": "split"
   },
   "source": [
    "<img src=\"./images/poly-Si_panel.png\" width=\"400\" align= center>"
   ]
  },
  {
   "cell_type": "markdown",
   "id": "d62adcb2",
   "metadata": {
    "cell_style": "split"
   },
   "source": [
    "- La eficiencia de los módulos puede ser entre 15 - 18%\n",
    "- Son más económicas que las mono-Si.\n",
    "- La eficiencia decae rápidamente con la temperatura, entre 0.4 - 0.5%/°C"
   ]
  },
  {
   "cell_type": "markdown",
   "id": "c2a14135",
   "metadata": {
    "slideshow": {
     "slide_type": "slide"
    }
   },
   "source": [
    "### Silicio amorfo (a-Si) - Película delgada"
   ]
  },
  {
   "cell_type": "markdown",
   "id": "adc165da",
   "metadata": {
    "cell_style": "split"
   },
   "source": [
    "<img src=\"./images/a-Si_panel.jpg\" width=\"400\" align= center>"
   ]
  },
  {
   "cell_type": "markdown",
   "id": "30de7879",
   "metadata": {
    "cell_style": "split"
   },
   "source": [
    "- El silicio amorfo absorbe la luz mejor que el silicio cristalino o policristalino\n",
    "- Debido a esto, permiten menor uso de material dando origen a las celdas de capa delgada (*thin film*).\n",
    "- Su producción es mucho más económica que las poly- o mono- Si.\n",
    "- Su eficiencia puede estar entre 6 - 7%\n",
    "- Son menos populares respecto a otras celdas de capa delgada debido a su baja eficiencia.\n",
    "- Son más tolerantes al calor, con un coeficiente de pérdida de eficiencia de -0.2 %/°C"
   ]
  },
  {
   "cell_type": "markdown",
   "id": "96f75baf",
   "metadata": {
    "slideshow": {
     "slide_type": "slide"
    }
   },
   "source": [
    "### Telurio Cadmio (CdTe)  - Película delgada"
   ]
  },
  {
   "cell_type": "markdown",
   "id": "400f61f9",
   "metadata": {
    "cell_style": "split"
   },
   "source": [
    "<img src=\"./images/CdTe_panel.png\" width=\"400\" align= center>"
   ]
  },
  {
   "cell_type": "markdown",
   "id": "79b4dd06",
   "metadata": {
    "cell_style": "split"
   },
   "source": [
    "\n",
    "- También se fabrican en formato *Thin film*\n",
    "- La eficiencia puede ir entre 15 - 19%\n",
    "- El principal fabricante es First Solar.\n",
    "- Son relativamente tolerantes al calor, con coeficientes de pérdida de eficiencia de 0.25 - 0.35 %/°C.\n",
    "- Son más costosas que las poly-Si, pero de menor costo que las mono-Si\n",
    "- Existe preocupación por la manufactura y disposición de estos paneles debido a la toxicidad del Cd."
   ]
  },
  {
   "cell_type": "markdown",
   "id": "99fb21b4",
   "metadata": {
    "slideshow": {
     "slide_type": "slide"
    }
   },
   "source": [
    "### CIGS (Cu-I-Ga-Se) - Película delgada"
   ]
  },
  {
   "cell_type": "markdown",
   "id": "e71d8b87",
   "metadata": {
    "cell_style": "split"
   },
   "source": [
    "<img src=\"./images/CIGS_panel.png\" width=\"400\" align= center>"
   ]
  },
  {
   "cell_type": "markdown",
   "id": "f4224282",
   "metadata": {
    "cell_style": "split"
   },
   "source": [
    "- Una de las tecnologías de película delgada más nuevas.\n",
    "\n",
    "- Puede alcanzar eficiencias entre 10 - 20%\n",
    "\n",
    "- Los coeficientes de pérdida de eficiencia son 0.3 - 0.4 %/°C"
   ]
  },
  {
   "cell_type": "markdown",
   "id": "5b995763",
   "metadata": {
    "slideshow": {
     "slide_type": "slide"
    }
   },
   "source": [
    "## Situación de la tecnología fotovoltaica\n",
    "\n",
    "La siguiente figura muestra la produción de paneles fotovoltaicos por año (fuente: [Fraunhofer Institute for Solar Energy Systems](https://www.ise.fraunhofer.de/content/dam/ise/de/documents/publications/studies/Photovoltaics-Report.pdf))"
   ]
  },
  {
   "cell_type": "markdown",
   "id": "4a80f59e",
   "metadata": {
    "cell_style": "split"
   },
   "source": [
    "<img src=\"./images/pv-market.png\" width=\"400\" align= center>"
   ]
  },
  {
   "cell_type": "markdown",
   "id": "3bb5c0a8",
   "metadata": {
    "cell_style": "split"
   },
   "source": [
    "Hasta hace algunos años el mercado de paneles fotoltaicos era dominado por los de tipo poly-Si. Sin embargo, la mejora en los procesos productivos por parte de la industria China, han catapultado la producción de paneles Mono-Si. Actualmente, esta teconología domina el mercado."
   ]
  },
  {
   "cell_type": "markdown",
   "id": "977894a8",
   "metadata": {
    "slideshow": {
     "slide_type": "slide"
    }
   },
   "source": [
    "Respecto a la eficiencia de las celdas a escala de laboratorio, las celdas mono-Si han mejorado gradualmente en los últimos 20 años, mientras que las de capa delgada han mostrado mejoras considerables en su eficiencia. Otras nuevas tecnologías como celdas multi-unión o de Peroskitas, han mostrado eficiencias superiores. Sin embargo, estas tecnologías aún se encuentran en desarrollo.\n",
    "\n",
    "<img src=\"./images/pv-cells_lab-efficiencies.png\" width=\"800\" align= center>"
   ]
  },
  {
   "cell_type": "markdown",
   "id": "bf13b226",
   "metadata": {
    "slideshow": {
     "slide_type": "slide"
    }
   },
   "source": [
    "## Nuevas tecnologías de conversión fotovoltaica"
   ]
  },
  {
   "cell_type": "markdown",
   "id": "c8256da3",
   "metadata": {
    "slideshow": {
     "slide_type": "slide"
    }
   },
   "source": [
    "### Superficies multifuncionales\n",
    "\n",
    "Una de las alternativas para mejorar la eficiencia de las celdas solares es mediante la [nanoestructuración de la superficie del semiconductor](https://pubs.acs.org/doi/abs/10.1021/acsnano.0c05497). El efecto principal de esta técnica es reducir el contraste del índice de refracción entre el silicio y el aire. La nanoestructuración de la superficie del silicio induce un índice de refracción efectivo que cambia gradualmente entre el aire y el material, reduciendo así las pérdidas por reflección.\n",
    "\n",
    "<img src=\"./images/nanostructured-silicon.png\" width=\"900\" align= center>"
   ]
  },
  {
   "cell_type": "markdown",
   "id": "46bbb8f8",
   "metadata": {
    "slideshow": {
     "slide_type": "fragment"
    }
   },
   "source": [
    "Como consecuencia de la nanostructuración, la superficie adquiere [propiedades superhidrofóbicas](https://pubs.acs.org/doi/10.1021/acs.langmuir.1c01310). Esto permite que el panel adquiera propiedades autolimpiantes, similar a lo que ocurre en algunas plantas como las hojas de la flor de loto.\n",
    "\n",
    "<img src=\"./images/super-hydrophobic-surfaces.png\" width=\"800\" align= center>"
   ]
  },
  {
   "cell_type": "markdown",
   "id": "a81fa1be",
   "metadata": {
    "slideshow": {
     "slide_type": "slide"
    }
   },
   "source": [
    "### Conversión termofotovoltaica (TPV)\n",
    "\n",
    "La tecnología de conversión termofotovoltaica consiste en cambiar el sol, como fuente de radiación, por un emisor térmico cercano a la celda. Esto permite una mejor aprovechamiento de la radiación, ya que parte de los fotones que no son convertidos a corriente, pueden ser reflejados de vuelta al emisor. \n",
    "\n",
    "<img src=\"./images/thermophotovoltaics-intro.png\" width=\"600\" align= center>"
   ]
  },
  {
   "cell_type": "markdown",
   "id": "8cc1b012",
   "metadata": {
    "slideshow": {
     "slide_type": "slide"
    }
   },
   "source": [
    "El límite teórico definido por Shockley–Queisser es de 85%. En la práctica, [las celdas TPV han alcanzado eficiencias de hasta 40%](https://www.nature.com/articles/s41586-022-04473-y#:~:text=Reaching%2040%25%20efficiency%20with%20TPVs,in%20the%20United%20States%20(Fig.).\n",
    "\n",
    "<img src=\"./images/tpv-efficiency.png\" width=\"800\" align= center>"
   ]
  },
  {
   "cell_type": "markdown",
   "id": "573cc5d9",
   "metadata": {
    "slideshow": {
     "slide_type": "slide"
    }
   },
   "source": [
    "Esta tecnología, aún en desarrollo, se ha propuesto para conversión de energía solar, o como técnica para recuperación del calor desechado en procesos térmicos. En el caso de conversión TPV solas, las eficiencias aún están por debajo del 10%. "
   ]
  },
  {
   "cell_type": "markdown",
   "id": "2396222c",
   "metadata": {
    "slideshow": {
     "slide_type": "fragment"
    }
   },
   "source": [
    "La siguiente imagen muestra un estudio donde se propone [TPV para conversión de energía solar](https://www.nature.com/articles/nnano.2013.286). El ensayo fue realizado en un laboratorio con un simulador solar.\n",
    "\n",
    "<img src=\"./images/solar_tpv.png\" width=\"800\" align= center>"
   ]
  },
  {
   "cell_type": "markdown",
   "id": "01d60464",
   "metadata": {
    "slideshow": {
     "slide_type": "slide"
    }
   },
   "source": [
    "En la siguiente imagen se muestra un [tpv para un sistema de almacenaje térmico de energía eléctrica (TEGS por sus siglas en ingles)](https://www.nature.com/articles/s41586-022-04473-y#:~:text=Reaching%2040%25%20efficiency%20with%20TPVs,in%20the%20United%20States%20(Fig.). \n",
    "\n",
    "<img src=\"./images/TEGS_tpv.png\" width=\"500\" align= center>\n",
    "\n",
    "El sistema almacena la energía eléctrica en forma de energía térmica, y luego la vuelve a convertir a energía eléctrica mediante celdas TPV. Según el estudio, el sistema permite almacenar energía eléctrica por periodos prolongados y a un costo menor que las baterías convecionales."
   ]
  },
  {
   "cell_type": "markdown",
   "id": "099deaab",
   "metadata": {
    "slideshow": {
     "slide_type": "slide"
    }
   },
   "source": [
    "Otra alternativa en estudio es utilizar radiación de campo cercano para conversión tpv. Este concepto se basa en la conversión de radiación no propagada, lo cual se consigue cuando la separación entre el emisor y el receptor es menor a la longitud de onda definida por la ley de Wien.\n",
    "\n",
    "<img src=\"./images/near-field_tpv.png\" width=\"700\" align= center>"
   ]
  },
  {
   "cell_type": "markdown",
   "id": "bd2efb3c",
   "metadata": {
    "slideshow": {
     "slide_type": "fragment"
    }
   },
   "source": [
    "A pesar de que está técnica podría alcanzar mayores eficiencias que las tpv comúnes, las eficiencias experimentales son menores a 10%."
   ]
  },
  {
   "cell_type": "markdown",
   "id": "6cfba502",
   "metadata": {
    "slideshow": {
     "slide_type": "slide"
    }
   },
   "source": [
    "### Concentradores solares luminiscentes\n",
    "\n",
    "Otra tecnología aún en desarrollo son los [concentradores solares luminiscentes](https://www.nature.com/articles/natrevmats201772). Este concepto consiste en la concentración solar usando materiales con luminiscencia. La energía emitida por el material es convertida a elecricidad mediante celdas fotovoltaicas en los bordes\n",
    "\n",
    "<img src=\"./images/lsc_solar.png\" width=\"700\" align= center>\n",
    "\n",
    "Esta tecnología no pretende competir con las tecnologías de conversión solar convencionales, sino que ofrecer una alternativa de conversión de energía solar en ventanas para edificios."
   ]
  },
  {
   "cell_type": "markdown",
   "id": "17c1dc23",
   "metadata": {
    "slideshow": {
     "slide_type": "slide"
    }
   },
   "source": [
    "## Referencias\n",
    "Kalogirou S. A. *Chapter 9. Photovoltaic Systems* in **Solar Energy Engineering Processes and Systems**, 2nd Ed, Academic Press, 2014"
   ]
  }
 ],
 "metadata": {
  "celltoolbar": "Slideshow",
  "kernelspec": {
   "display_name": "Python 3 (ipykernel)",
   "language": "python",
   "name": "python3"
  },
  "language_info": {
   "codemirror_mode": {
    "name": "ipython",
    "version": 3
   },
   "file_extension": ".py",
   "mimetype": "text/x-python",
   "name": "python",
   "nbconvert_exporter": "python",
   "pygments_lexer": "ipython3",
   "version": "3.9.13"
  },
  "latex_envs": {
   "LaTeX_envs_menu_present": false,
   "autoclose": false,
   "autocomplete": false,
   "bibliofile": "biblio.bib",
   "cite_by": "apalike",
   "current_citInitial": 1,
   "eqLabelWithNumbers": true,
   "eqNumInitial": 1,
   "hotkeys": {
    "equation": "Ctrl-E",
    "itemize": "Ctrl-I"
   },
   "labels_anchors": false,
   "latex_user_defs": false,
   "report_style_numbering": false,
   "user_envs_cfg": true
  },
  "toc": {
   "base_numbering": 1,
   "nav_menu": {},
   "number_sections": true,
   "sideBar": true,
   "skip_h1_title": true,
   "title_cell": "Tabla de contenidos",
   "title_sidebar": "Contenidos",
   "toc_cell": false,
   "toc_position": {
    "height": "calc(100% - 180px)",
    "left": "10px",
    "top": "150px",
    "width": "307.2px"
   },
   "toc_section_display": true,
   "toc_window_display": false
  },
  "varInspector": {
   "cols": {
    "lenName": 16,
    "lenType": 16,
    "lenVar": 40
   },
   "kernels_config": {
    "python": {
     "delete_cmd_postfix": "",
     "delete_cmd_prefix": "del ",
     "library": "var_list.py",
     "varRefreshCmd": "print(var_dic_list())"
    },
    "r": {
     "delete_cmd_postfix": ") ",
     "delete_cmd_prefix": "rm(",
     "library": "var_list.r",
     "varRefreshCmd": "cat(var_dic_list()) "
    }
   },
   "types_to_exclude": [
    "module",
    "function",
    "builtin_function_or_method",
    "instance",
    "_Feature"
   ],
   "window_display": false
  }
 },
 "nbformat": 4,
 "nbformat_minor": 5
}