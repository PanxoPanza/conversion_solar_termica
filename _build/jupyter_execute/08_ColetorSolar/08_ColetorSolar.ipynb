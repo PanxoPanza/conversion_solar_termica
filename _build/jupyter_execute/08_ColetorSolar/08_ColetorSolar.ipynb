{
 "cells": [
  {
   "cell_type": "markdown",
   "id": "8b01ca79",
   "metadata": {
    "slideshow": {
     "slide_type": "slide"
    }
   },
   "source": [
    "# Colectores solares estacionarios\n"
   ]
  },
  {
   "cell_type": "markdown",
   "id": "6dc2e1f0",
   "metadata": {
    "slideshow": {
     "slide_type": "slide"
    }
   },
   "source": [
    "## Introducción\n",
    "\n",
    "Los colectores solares son un tipo especial de intercambiador de calor que absorbe la radiación solar, la convierte en calor y la transfiere a un fluido (usualmente agua, aire, o aceite). que fluye a través del colector."
   ]
  },
  {
   "cell_type": "markdown",
   "id": "06f8133d",
   "metadata": {
    "slideshow": {
     "slide_type": "fragment"
    }
   },
   "source": [
    "Podemos clasificar a los colectores solares en dos tipos:\n",
    "- **Colectores estacionarios.** Corresponde a colectores de eje fijo.\n",
    "\n",
    "- **Colectores con concentración solar.** Se caracterizan por poseer superficies convacavas para interceptar la luz solar y concentrarla en un área de absorción de menor tamaño. Estos colectores son equipados con un sistema de rastreo solar (eje móvil), para maximizar la captura de radiación solar."
   ]
  },
  {
   "cell_type": "markdown",
   "id": "1db0202b",
   "metadata": {
    "slideshow": {
     "slide_type": "fragment"
    }
   },
   "source": [
    "Los colectores sin concentración son generalmente utilizados en aplicaciones que requieren calentar un fluido a temperaturas menores al punto de ebullición, ya sea para consumo domiciliario o calefacción. Los colectores con concentración, en cambio, permiten conseguir altas temperaturas, y se utilizan en plantas de generación de energía a través de un ciclo térmico."
   ]
  },
  {
   "cell_type": "markdown",
   "id": "79f36caf",
   "metadata": {
    "slideshow": {
     "slide_type": "slide"
    }
   },
   "source": [
    "En la siguiente tabla, presentamos una lista de los colectores solares más comúnes clasificados por el tipo de movimiento del eje. Esto es: \n",
    "- Estacionario\n",
    "- Rastreo solar por un eje (un grado de libertad)\n",
    "- Rastreo solar por dos ejes (dos grados de libertad)"
   ]
  },
  {
   "cell_type": "markdown",
   "id": "2e34d148",
   "metadata": {
    "slideshow": {
     "slide_type": "slide"
    }
   },
   "source": [
    "<img src=\"./images/solar_collector_types.png\" width=\"600\" align= center>"
   ]
  },
  {
   "cell_type": "markdown",
   "id": "f5a9bc25",
   "metadata": {
    "slideshow": {
     "slide_type": "slide"
    }
   },
   "source": [
    "En esta unidad revisaremos los aspectos generales de los colectores estacionarios."
   ]
  },
  {
   "cell_type": "markdown",
   "id": "7c822fbf",
   "metadata": {
    "slideshow": {
     "slide_type": "fragment"
    }
   },
   "source": [
    "Los más comunes son:\n",
    "- Colector solar de placa plana (*Flat-plate collector* o FPC)\n",
    "- Colector parabólico compuesto (*Compound parabolic collector* o CPC)\n",
    "- Colector de tubo evacuado (*Evacuated tube collector* o ETC)"
   ]
  },
  {
   "cell_type": "markdown",
   "id": "1f1c1af3",
   "metadata": {
    "slideshow": {
     "slide_type": "slide"
    }
   },
   "source": [
    "### Colectores de placa plana (FPC)"
   ]
  },
  {
   "cell_type": "markdown",
   "id": "c45a99ec",
   "metadata": {
    "slideshow": {
     "slide_type": "fragment"
    }
   },
   "source": [
    "<img src=\"./images/flat_plate_collector_parts.png\" width=\"900\" align= center>\n",
    "\n",
    "Los colectores de placa plana se componen de un **absorbedor (*absorbing blackplate*)** para capturar la radiación solar. La energía absorbida es transferida a un fluido que circula por pequeños **tubos ascendentes (*riser pipes*)** en contacto directo con el absorbedor. Las entradas y salidas del fluido son capturadas por **tubos de cabecera (*header pipes*)** en la parte inferior y superior, respectivamente. Las partes laterales e inferior del colector están recubiertas con **aislante térmico** para reducir las pérdidas de calor. En la parte superior se utiliza una **cubierta transparente (*glazing sheet*)** para reducir las pérdidas por convección y radiación."
   ]
  },
  {
   "cell_type": "markdown",
   "id": "b179cd87",
   "metadata": {
    "slideshow": {
     "slide_type": "slide"
    }
   },
   "source": [
    "Los FPC son los colectores más comunes en el mercado debido a su bajo costo. Permiten capturar las componentes especular y difusa de la radiación solar, y logran temperaturas de operación entre 30 y 80° C"
   ]
  },
  {
   "cell_type": "markdown",
   "id": "2da07f3a",
   "metadata": {
    "slideshow": {
     "slide_type": "slide"
    }
   },
   "source": [
    "### Colector parabólico compuesto (CPC)"
   ]
  },
  {
   "cell_type": "markdown",
   "id": "b758ba2b",
   "metadata": {
    "slideshow": {
     "slide_type": "fragment"
    }
   },
   "source": [
    "<img src=\"./images/compound_parabollic_collector.png\" width=\"900\" align= center>\n",
    "\n",
    "El Colector Parabólico Compuesto (CPC) está constituido de 2 superficies parabólicas que reflejan los rayos solares hacia una superficie absorvedora. Los CPC permiten una tolerancia de ángulos de incidencia relativamente amplia. Aunque la concentración de luz es mayor que los colectores de placa plana, el rango de ángulos de incidencia es menor adimisibles es menor."
   ]
  },
  {
   "cell_type": "markdown",
   "id": "5e038cb0",
   "metadata": {
    "slideshow": {
     "slide_type": "slide"
    }
   },
   "source": [
    "El absorbedor puede estar dispuesto en distintas configuraciones, tales como: plano, bifacial, en forma me cuña o cilíndrico. \n",
    "<img src=\"./images/CPC_configuration.png\" width=\"700\" align= center>"
   ]
  },
  {
   "cell_type": "markdown",
   "id": "4920417a",
   "metadata": {
    "slideshow": {
     "slide_type": "slide"
    }
   },
   "source": [
    "El absorbedor también puede estar dispuesto de forma asimétrica, ocupando un punto superior en la geometría del colector.\n",
    "<img src=\"./images/CPC_asymmetric.png\" width=\"600\" align= center>"
   ]
  },
  {
   "cell_type": "markdown",
   "id": "4bb29c4c",
   "metadata": {
    "slideshow": {
     "slide_type": "slide"
    }
   },
   "source": [
    "### Colector de tubo evacuado (ETC)\n",
    "\n",
    "Los colectores de tubo evacuados, consisten en una serie de **tubos trasparentes sellados al vacío**, cada uno con un **absorbedor de radiación** conectado a un **tubo central** que transporta el fluido. El vacío actúa como asilante térmico frente a las pérdidas de calor por convección y conducción, permitiendo operar a mayores temperaturas que los FPC. Cada tubo evacuado contiene un fluido con cambio de fase líquido-vapor. En la parte superior, se ubica un condensador, a través del cual se produce la transferencia de calor hacia el fluido a calentar."
   ]
  },
  {
   "cell_type": "markdown",
   "id": "0de60f71",
   "metadata": {},
   "source": [
    "<img src=\"./images/evacuated_tube_collectors.png\" width=\"1000\" align= center>"
   ]
  },
  {
   "cell_type": "markdown",
   "id": "24bc04c8",
   "metadata": {
    "slideshow": {
     "slide_type": "slide"
    }
   },
   "source": [
    "Al igual que los FPC los ETC permiten capturar la componente especular y difusa de la radiación solar. Sin embargo, la eficiencia de los ETC es mayor en ángulos de incidencia bajos. Así, los ETC son preferibles en climas caracterizados por alta nuvosidad y viento"
   ]
  },
  {
   "cell_type": "markdown",
   "id": "53dd7d38",
   "metadata": {
    "slideshow": {
     "slide_type": "fragment"
    }
   },
   "source": [
    "<img src=\"./images/ETC_vs_FPC.png\" width=\"800\" align= center>"
   ]
  },
  {
   "cell_type": "markdown",
   "id": "e892dbeb",
   "metadata": {
    "slideshow": {
     "slide_type": "slide"
    }
   },
   "source": [
    "## Componentes de un colector de placa plana"
   ]
  },
  {
   "cell_type": "markdown",
   "id": "15f40ece",
   "metadata": {
    "slideshow": {
     "slide_type": "slide"
    }
   },
   "source": [
    "### Cubierta de transparente\n",
    "La **cubierta transparente** generalmente está compuesta de vídrio (sílice) con bajo contenido de óxido de hierro (Fe$_2$O$_3$). El vídrio común utilizado en ventanas tiene altos niveles de Fe$_2$O$_3$ que reducen la tranparencia en el infrarojo medio y parte del visible."
   ]
  },
  {
   "cell_type": "markdown",
   "id": "bbe01a37",
   "metadata": {
    "cell_style": "split",
    "slideshow": {
     "slide_type": "fragment"
    }
   },
   "source": [
    "<img src=\"./images/transmitance_glass.png\" width=\"450\" align= center>"
   ]
  },
  {
   "cell_type": "markdown",
   "id": "37ae69ec",
   "metadata": {
    "cell_style": "split",
    "slideshow": {
     "slide_type": "fragment"
    }
   },
   "source": [
    "Esta cubierta se ubica cerca del absorbedor para generar una pequeña capa de aire estancado, el cual actúa como aislante térmico ante la convección de calor del exterior."
   ]
  },
  {
   "cell_type": "markdown",
   "id": "614fbdfc",
   "metadata": {
    "cell_style": "split",
    "slideshow": {
     "slide_type": "fragment"
    }
   },
   "source": [
    "Por otro lado, materiales como el sílice, poseen alta emisividad en el infrarojo medio (mid-IR). Al igual que con el efecto invernadero, esta propiedad permite capturar la radiación emitida por el absorbedor caliente, minimizando las pérdidas de calor por radiación."
   ]
  },
  {
   "cell_type": "markdown",
   "id": "98113d37",
   "metadata": {
    "slideshow": {
     "slide_type": "fragment"
    }
   },
   "source": [
    "Algunos diseños consideran más de una cubierta transparente para reducir aún más las pérdidas de calor."
   ]
  },
  {
   "cell_type": "markdown",
   "id": "922d6ce0",
   "metadata": {
    "slideshow": {
     "slide_type": "slide"
    }
   },
   "source": [
    "### Placa absorbedora\n",
    "\n",
    "El **absorbedor** debe cumplir con dos requerimientos. Por un lado, debe absorber la mayor cantidad de radiación solar posible ($\\alpha \\approx 1$ en el espectro visible e infrarojo medio). Por el otro, debe minimizar las pérdidas de calor por radiación ($\\varepsilon \\approx 0$ en el espectro infrarojo medio) "
   ]
  },
  {
   "cell_type": "markdown",
   "id": "00b46d44",
   "metadata": {
    "cell_style": "split",
    "slideshow": {
     "slide_type": "fragment"
    }
   },
   "source": [
    "En otras palabras, el absorbedor debe operar como un ***absorbedor selectivo***, con una absorptancia variable en el espectro.\n",
    "\n",
    "<img src=\"./images/selective_absorber.png\" width=\"500\" align= center>"
   ]
  },
  {
   "cell_type": "markdown",
   "id": "347be7ed",
   "metadata": {
    "cell_style": "split",
    "slideshow": {
     "slide_type": "fragment"
    }
   },
   "source": [
    "Comúnmente, estas superficies están compuestas de una pequeña capa superior con alta absorptancia en el espectro visible y near-IR, pero relativamente transparente en el espetro mid-IR, depositada sobre un substrato metálico con alta reflectancia en el espectro visible y mid-IR."
   ]
  },
  {
   "cell_type": "markdown",
   "id": "70fe28fc",
   "metadata": {
    "cell_style": "split",
    "slideshow": {
     "slide_type": "fragment"
    }
   },
   "source": [
    " Un ejemplo es el absorbedor compuesto por cromo negro depositado sobre una superficie de niquel."
   ]
  },
  {
   "cell_type": "markdown",
   "id": "b693ec7e",
   "metadata": {
    "slideshow": {
     "slide_type": "slide"
    }
   },
   "source": [
    "### Integración de componentes"
   ]
  },
  {
   "cell_type": "markdown",
   "id": "599d9c8e",
   "metadata": {
    "slideshow": {
     "slide_type": "fragment"
    }
   },
   "source": [
    "Los **tubos ascendentes** deben estar integrados en el absorbedor, o bien, unidos mediante soldaduras o sujetadores. En último caso es importante que la unión minimice la resistencia térmica en el contacto entre los tubos y el absorbedor."
   ]
  },
  {
   "cell_type": "markdown",
   "id": "4caedc67",
   "metadata": {
    "slideshow": {
     "slide_type": "slide"
    }
   },
   "source": [
    "## Análisis térmico de colectores de placa plana"
   ]
  },
  {
   "cell_type": "markdown",
   "id": "f7786014",
   "metadata": {
    "cell_style": "center",
    "slideshow": {
     "slide_type": "slide"
    }
   },
   "source": [
    "### Absorción de radiación solar\n",
    "\n",
    "Utilizando el modelo de cielo isotrópico, la radiación solar absorbida por un colector, $S$, puede aproximarse por:"
   ]
  },
  {
   "cell_type": "markdown",
   "id": "1d83438f",
   "metadata": {
    "slideshow": {
     "slide_type": "fragment"
    }
   },
   "source": [
    "\\begin{equation}\n",
    "S = G_\\mathrm{GHI}R_\\mathrm{B}(\\tau \\alpha)_\\mathrm{B}+G_\\mathrm{DHI}(\\tau \\alpha)_\\mathrm{D}\\left[\\frac{1+\\cos\\beta}{2}\\right]+\\rho_\\mathrm{G}(G_\\mathrm{GHI} + G_\\mathrm{DHI})(\\tau \\alpha)_\\mathrm{G}\\left[\\frac{1-\\cos\\beta}{2}\\right],\\quad\\left(\\mathrm{\\frac{W}{m^2}}\\right)\n",
    "\\end{equation}\n",
    "\n",
    "Donde:\n",
    "- $G_\\mathrm{GHI}$: Irradiación horizontal global (GHI) del sol (W/m$^2$)\n",
    "- $G_\\mathrm{DIF}$: Irradiación horizontal difusa (DHI) del sol (W/m$^2$)\n",
    "- $R_\\mathrm{B} = \\frac{\\cos\\theta_i}{\\cos\\theta_s}$: Factor de inclinación de radiación directa.\n",
    "- $\\beta$: Ángulo cenital de inclinación del colector.\n",
    "- $\\rho_\\mathrm{G}$ reflectancia del suelo (albedo)\n",
    "- $(\\tau\\alpha)$: Fracción de la radiación absorbida por el colector. Los subíndices $\\mathrm{B}$, $\\mathrm{D}$ y $\\mathrm{G}$, indican el valor correspondiente a la componente directa (*beam*), difusa y del suelo (*ground*)."
   ]
  },
  {
   "cell_type": "markdown",
   "id": "dc71df41",
   "metadata": {
    "slideshow": {
     "slide_type": "fragment"
    }
   },
   "source": [
    ">El parámetro $(\\tau\\alpha)$ debe ser considerado com una propiedad de la combinación *conbertura - absorbedor*, y no como el producto de la transmitancia y absortancia."
   ]
  },
  {
   "cell_type": "markdown",
   "id": "ae3a60ee",
   "metadata": {
    "slideshow": {
     "slide_type": "slide"
    }
   },
   "source": [
    "El valor de $(\\tau\\alpha)$ considera las múltiples reflecciones y absorciones ocurridas entre la covertura transparente y el absorbedor del colector."
   ]
  },
  {
   "cell_type": "markdown",
   "id": "788d9d22",
   "metadata": {
    "cell_style": "split",
    "slideshow": {
     "slide_type": "fragment"
    }
   },
   "source": [
    "\n",
    "<img src=\"./images/FPC_internal_reflection.png\" width=\"500\" align= center>"
   ]
  },
  {
   "cell_type": "markdown",
   "id": "f1816109",
   "metadata": {
    "cell_style": "center",
    "slideshow": {
     "slide_type": "fragment"
    }
   },
   "source": [
    "La componente normal de este parámetro está dada por:\n",
    "\n",
    "\\begin{equation}\n",
    "(\\tau\\alpha)_n=\\tau\\alpha\\sum_{n=1}^\\infty \\left[(1-\\alpha)\\rho_\\mathrm{D}\\right]^n = \\frac{\\tau\\alpha}{1 - (1 - \\alpha)\\rho_\\mathrm{D}}\n",
    "\\end{equation}\n",
    "\n",
    "donde:\n",
    "- $\\tau$ transmitancia de la cubierta transparente\n",
    "- $\\alpha$ absortancia de la placa absorbedora\n",
    "- $ \\rho_D$ es la reflectancia difusa de la cubierta transparente. En genral, $\\rho_D \\sim 0.11 - 0.15$"
   ]
  },
  {
   "cell_type": "markdown",
   "id": "fdd70607",
   "metadata": {
    "slideshow": {
     "slide_type": "fragment"
    }
   },
   "source": [
    "Valores típicos para $(\\tau\\alpha)$ son 0.7 - 0-75 en vidrio para ventanas, y 0.85-0.9 en vidrio con bajo contenido de Fe$_2$O$_3$"
   ]
  },
  {
   "cell_type": "markdown",
   "id": "a786ec3c",
   "metadata": {
    "slideshow": {
     "slide_type": "slide"
    }
   },
   "source": [
    "Para determinar $(\\tau \\alpha)_\\mathrm{B}$, $(\\tau \\alpha)_\\mathrm{D}$ y $(\\tau \\alpha)_\\mathrm{G}$ utilizamos el siguiente gráfico que permite relacionar $(\\tau \\alpha)_n$ respecto al ángulo de incidencia $\\theta_i$"
   ]
  },
  {
   "cell_type": "markdown",
   "id": "653ad0f5",
   "metadata": {
    "cell_style": "split",
    "slideshow": {
     "slide_type": "fragment"
    }
   },
   "source": [
    "<img src=\"./images/Incident_angle_correction.png\" width=\"500\" align= center>"
   ]
  },
  {
   "cell_type": "markdown",
   "id": "d628e168",
   "metadata": {
    "cell_style": "split",
    "slideshow": {
     "slide_type": "fragment"
    }
   },
   "source": [
    "En el caso de  $(\\tau \\alpha)_\\mathrm{D}$ y $(\\tau \\alpha)_\\mathrm{G}$, utilizamos las siguientes fórmulas para determinar el ángulo equivalente de la componente difusa, $\\theta_\\mathrm{e,D} $, y global, $\\theta_\\mathrm{e,G}$:\n",
    "\n",
    "\\begin{align}\n",
    "\\theta_\\mathrm{e,D} &= 59.68 - 0.1388\\beta+0.001497\\beta^2 \\\\\n",
    "\\theta_\\mathrm{e,G} &= 90 - 0.5788\\beta+0.002693\\beta^2\n",
    "\\end{align}\n",
    "\n",
    "donde $\\beta$ es el ángulo de inclinación del colector en grados."
   ]
  },
  {
   "cell_type": "markdown",
   "id": "a72f2176",
   "metadata": {
    "slideshow": {
     "slide_type": "slide"
    }
   },
   "source": [
    "### Corrector de ángulo de incidencia"
   ]
  },
  {
   "cell_type": "markdown",
   "id": "692334cd",
   "metadata": {},
   "source": [
    "Alternativamente a la curva anterior, podemos usar el **modificador del ángulo de incidencia, $K_\\theta$** para obtener $(\\tau\\alpha)_B$, $(\\tau\\alpha)_D$ y $(\\tau\\alpha)_G$:\n"
   ]
  },
  {
   "cell_type": "markdown",
   "id": "83b7ffbd",
   "metadata": {
    "slideshow": {
     "slide_type": "fragment"
    }
   },
   "source": [
    "\\begin{equation}\n",
    "K_\\theta = \\frac{(\\tau\\alpha)_k}{(\\tau\\alpha)_n}=1 - b_0\\left[\\frac{1}{\\cos\\theta_k} - 1\\right]\n",
    "\\end{equation}\n",
    "\n",
    "donde $b_0\\sim 0.1  - 0.15$, y el índice $k$ corresponde a $B$, $D$ o $G$. Notar que $\\theta_B = \\theta_i$."
   ]
  },
  {
   "cell_type": "markdown",
   "id": "f8583a77",
   "metadata": {
    "slideshow": {
     "slide_type": "slide"
    }
   },
   "source": [
    "### Pérdidas de energía\n",
    "Las pérdidas de energía, $\\dot{Q}_\\mathrm{loss}$, están asociadas a las perdidas por convección, conducción y radiación desde la placa absorbedora hacia el medio exterior"
   ]
  },
  {
   "cell_type": "markdown",
   "id": "6b6e0ab5",
   "metadata": {
    "slideshow": {
     "slide_type": "fragment"
    }
   },
   "source": [
    "Matemáticamente:\n",
    "\\begin{equation*}\n",
    "\\dot{Q}_\\mathrm{loss} = S - \\dot{Q}_u,\\quad\\left(\\mathrm{W}\\right)\n",
    "\\end{equation*}\n",
    "\n",
    "donde $\\dot{Q}_u$ es el calor transferido al fluido."
   ]
  },
  {
   "cell_type": "markdown",
   "id": "8c7fd1ec",
   "metadata": {
    "slideshow": {
     "slide_type": "slide"
    }
   },
   "source": [
    "Para determinar $Q_\\mathrm{loss}$ analizamos la red de resistencias considerando los diferentes componentes del colector"
   ]
  },
  {
   "cell_type": "markdown",
   "id": "e4093a4f",
   "metadata": {
    "cell_style": "split",
    "slideshow": {
     "slide_type": "slide"
    }
   },
   "source": [
    "<img src=\"./images/collector_energy_losses.png\" width=\"350\" align= center>"
   ]
  },
  {
   "cell_type": "markdown",
   "id": "9c672ae4",
   "metadata": {
    "cell_style": "split",
    "slideshow": {
     "slide_type": "fragment"
    }
   },
   "source": [
    "Donde $h_\\mathrm{c,~i-j}$ es el coeficiente convectivo entre dos superficies $i$ y $j$, y\n",
    "\n",
    "\\begin{equation*}\n",
    "h_\\mathrm{r,~i-j} = \\frac{\\sigma(T_i - T_j)(T_i^2 + T_j^2)}{1/\\varepsilon_i + 1/\\varepsilon_j - 1},\\quad\\left(\\mathrm{\\frac{W}{m^2~K}}\\right)\n",
    "\\end{equation*}\n",
    "\n",
    "es el coeficiente equivalente de transferencia de calor por radiación."
   ]
  },
  {
   "cell_type": "markdown",
   "id": "df2546bf",
   "metadata": {
    "cell_style": "split",
    "slideshow": {
     "slide_type": "fragment"
    }
   },
   "source": [
    "Notar que $h_\\mathrm{r,~i-j}$ depende de la temperatura de los elementos participantes, aún cuando el resto de las propiedades permanezcan constantes."
   ]
  },
  {
   "cell_type": "markdown",
   "id": "4369a847",
   "metadata": {
    "cell_style": "center",
    "slideshow": {
     "slide_type": "slide"
    }
   },
   "source": [
    "En la práctica las pérdidas de calor se asocian a un coeficiente global de transferencia de calor, $U_L$, de la forma:"
   ]
  },
  {
   "cell_type": "markdown",
   "id": "95ab05f5",
   "metadata": {
    "cell_style": "split",
    "slideshow": {
     "slide_type": "-"
    }
   },
   "source": [
    "\\begin{equation}\n",
    "\\dot{Q}_\\mathrm{loss} = U_L A_c(T_p - T_a),\\quad\\left(\\mathrm{W}\\right)\n",
    "\\end{equation}\n",
    "\n",
    "donde, $T_p$ y $T_a$ corresponden, respectivamente, a la temperaturas de la placa absorbedora y el ambiente, y $A_c$ es la superficie superior(inferior) del colector."
   ]
  },
  {
   "cell_type": "markdown",
   "id": "a2af8871",
   "metadata": {
    "cell_style": "split"
   },
   "source": [
    "<img src=\"./images/collector_energy_losses_eqcircuit.png\" width=\"150\" align= center>"
   ]
  },
  {
   "cell_type": "markdown",
   "id": "7644570d",
   "metadata": {
    "slideshow": {
     "slide_type": "fragment"
    }
   },
   "source": [
    "El coeficiente global $U_L$ depende mayormente del diseño del colector."
   ]
  },
  {
   "cell_type": "markdown",
   "id": "5fa19eef",
   "metadata": {
    "slideshow": {
     "slide_type": "fragment"
    }
   },
   "source": [
    "Los valores de $U_L$ son determinados por el fabricante."
   ]
  },
  {
   "cell_type": "markdown",
   "id": "7ba636bc",
   "metadata": {
    "slideshow": {
     "slide_type": "slide"
    }
   },
   "source": [
    "## Rendimiento de colectores de placa plana"
   ]
  },
  {
   "cell_type": "markdown",
   "id": "c248c72a",
   "metadata": {
    "slideshow": {
     "slide_type": "slide"
    }
   },
   "source": [
    "### Factor de remoción de calor\n",
    "\n",
    "En la práctica $T_p$ es dificil de determinar, así la ecuación de $\\dot{Q}_\\mathrm{loss}$ planteada anteriormente no es de uso práctico"
   ]
  },
  {
   "cell_type": "markdown",
   "id": "6f50d438",
   "metadata": {
    "slideshow": {
     "slide_type": "fragment"
    }
   },
   "source": [
    "Definimos el factor de remoción de calor, $F_R$, como la razón entre el calor real transferido al fluído de trabajo ($\\dot{Q}_u$), y la energía transferida por el colector cuando la temperatura de la placa absorbedora es igual a la temperatura de entrada del fluído de trabajo, $T_\\mathrm{f,i}$."
   ]
  },
  {
   "cell_type": "markdown",
   "id": "c8e2c33f",
   "metadata": {
    "cell_style": "split",
    "slideshow": {
     "slide_type": "fragment"
    }
   },
   "source": [
    "Matemáticamente:\n",
    "\n",
    "\\begin{equation}\n",
    "F_R = \\frac{\\dot{m}C_p(T_\\mathrm{f,o} - T_\\mathrm{f,i})}{A_c[S - U_L(T_\\mathrm{f,i} - T_a)]}\n",
    "\\end{equation}"
   ]
  },
  {
   "cell_type": "markdown",
   "id": "f66b4354",
   "metadata": {
    "cell_style": "split",
    "slideshow": {
     "slide_type": "fragment"
    }
   },
   "source": [
    "donde $C_p$, $\\dot{m}$ y $T_\\mathrm{f,o}$ son, respectivamente, el calor específico, el flujo másico y la temperatura de salida del fluido de trabajo."
   ]
  },
  {
   "cell_type": "markdown",
   "id": "69fbff8b",
   "metadata": {
    "slideshow": {
     "slide_type": "fragment"
    }
   },
   "source": [
    "**El parámetro $F_R$ depende del diseño del colector, el tipo de fluido, y el flujo a través del colector.** Puede ser determinado de forma teórica o experimental."
   ]
  },
  {
   "cell_type": "markdown",
   "id": "b46b6b47",
   "metadata": {
    "slideshow": {
     "slide_type": "slide"
    }
   },
   "source": [
    "Conceptualmente, el factor de remoción de calor es similar a la efectividad de un intercambiador de calor, el cual considera el calor transferido respecto al máximo calor transferible por el intercambiador."
   ]
  },
  {
   "cell_type": "markdown",
   "id": "7e6d9ad7",
   "metadata": {
    "slideshow": {
     "slide_type": "fragment"
    }
   },
   "source": [
    "En el caso del colector, a menor temperatura de la placa absorbedora, menor las pérdidas asociadas a $U_L(T_p - T_a)$"
   ]
  },
  {
   "cell_type": "markdown",
   "id": "b51c9ba8",
   "metadata": {
    "slideshow": {
     "slide_type": "fragment"
    }
   },
   "source": [
    "La mínima temperatura posible para la placa absorbedora es $T_\\mathrm{f,i}$, y por lo tanto $A_c[S - U_L(T_\\mathrm{f,i} - T_a)]$ representa el máximo calor que puede ser transferido por el colector."
   ]
  },
  {
   "cell_type": "markdown",
   "id": "a84140e1",
   "metadata": {
    "slideshow": {
     "slide_type": "slide"
    }
   },
   "source": [
    "A partir de este parámetro podemos determinar el calor efectivo transferido a un fluido como:\n",
    "\n",
    "\\begin{equation}\n",
    "\\dot{Q}_u = A_cF_R\\left[S - U_L\\left(T_\\mathrm{f,i} - T_a\\right)\\right],\\quad\\left(\\mathrm{W}\\right)\n",
    "\\end{equation}"
   ]
  },
  {
   "cell_type": "markdown",
   "id": "a10c9853",
   "metadata": {
    "slideshow": {
     "slide_type": "slide"
    }
   },
   "source": [
    "### Eficiencia térmica\n",
    "La eficiencia térmica de un colector corresponde al calor trasferido al fluido divido por la irradiación total, $G_t$, sobre la superficie del colector, $A_c$:\n",
    "\n",
    "\\begin{equation}\n",
    "\\eta = F_R\\left[\\frac{S - U_L(T_\\mathrm{f,i} - T_a)}{G_t}\\right]\n",
    "\\end{equation}\n",
    "\n"
   ]
  },
  {
   "cell_type": "markdown",
   "id": "f92762ab",
   "metadata": {
    "slideshow": {
     "slide_type": "slide"
    }
   },
   "source": [
    "### Curvas de rendimiento\n",
    "$F_R$, y por consecuencia $\\eta$, son dependientes de muchos factores, como las condiciones del flujo, el tipo de fluido, el tipo de colector y la irradiancia solar. Debido a esto, es común que los fabricantes realicen ensayos de desempeño del colector para una serie de casos. "
   ]
  },
  {
   "cell_type": "markdown",
   "id": "fa86b078",
   "metadata": {
    "slideshow": {
     "slide_type": "fragment"
    }
   },
   "source": [
    "Existen diversos estandares para evaluar el rendimiento de un colector. Los más comunes son la [ISO 9806](https://www.iso.org/standard/67978.html) y la [ASNI/ASHRAE 93](https://webstore.ansi.org/Standards/ASHRAE/ansiashraestandard932010)."
   ]
  },
  {
   "cell_type": "markdown",
   "id": "3af97a02",
   "metadata": {
    "slideshow": {
     "slide_type": "fragment"
    }
   },
   "source": [
    "En cualquiera de los dos casos, el objetivo de estos es medir el rendimiento de un colector en condiciones estacionarias, radiación normal a la superficie del colector, y en función de la temperatura de entrada del fluido de trabajo ($T_i$)"
   ]
  },
  {
   "cell_type": "markdown",
   "id": "30f26d4d",
   "metadata": {
    "cell_style": "split",
    "slideshow": {
     "slide_type": "slide"
    }
   },
   "source": [
    "Bajo estas condiciones de trabajo, los parámetros $F_RS/G_t$  y $F_RU_L$ permanecen constantes."
   ]
  },
  {
   "cell_type": "markdown",
   "id": "26390e22",
   "metadata": {
    "slideshow": {
     "slide_type": "fragment"
    }
   },
   "source": [
    "Más aún, para radiación solar normal a la superficie del colector, $S = (\\tau\\alpha)_nG_t$. Así, la eficiencia térmica forma una recta de la forma:"
   ]
  },
  {
   "cell_type": "markdown",
   "id": "35ba7931",
   "metadata": {
    "cell_style": "split",
    "slideshow": {
     "slide_type": "fragment"
    }
   },
   "source": [
    "\\begin{equation*}\n",
    "\\eta = F_R(\\tau\\alpha)_n - F_RU_L\\frac{\\Delta T}{G_t}\n",
    "\\end{equation*}\n",
    "\n",
    "donde $\\Delta T= (T_\\mathrm{f,i} - T_a)$"
   ]
  },
  {
   "cell_type": "markdown",
   "id": "5cdd9303",
   "metadata": {
    "cell_style": "split",
    "slideshow": {
     "slide_type": "fragment"
    }
   },
   "source": [
    "<img src=\"./images/eficiency_curve_flatplate_collector.png\" width=\"250\" align= center>"
   ]
  },
  {
   "cell_type": "markdown",
   "id": "d66a3f8d",
   "metadata": {
    "cell_style": "center",
    "slideshow": {
     "slide_type": "slide"
    }
   },
   "source": [
    "A través de estas curvas podemos determinar el valor de $F_R(\\tau\\alpha)_n$ y $F_R U_L$."
   ]
  },
  {
   "cell_type": "markdown",
   "id": "e7b961f4",
   "metadata": {
    "slideshow": {
     "slide_type": "fragment"
    }
   },
   "source": [
    "El valor espéctifico de $U_L$, $F_R$ y $(\\tau\\alpha)_n$, se puede determinar con la información de uno de los tres parámetros. "
   ]
  },
  {
   "cell_type": "markdown",
   "id": "422b5015",
   "metadata": {
    "slideshow": {
     "slide_type": "slide"
    }
   },
   "source": [
    "En la práctica, el coeficiente de pérdida de calor $U_L$ no es constante, sino que depende de $\\Delta T$ de la forma, $U_L = c_1 + c_2\\Delta T$."
   ]
  },
  {
   "cell_type": "markdown",
   "id": "595df744",
   "metadata": {
    "slideshow": {
     "slide_type": "fragment"
    }
   },
   "source": [
    "Esto implica que el comportamiento de las curvas de eficiencia no es exáctamente una recta."
   ]
  },
  {
   "cell_type": "markdown",
   "id": "0c648238",
   "metadata": {
    "slideshow": {
     "slide_type": "slide"
    }
   },
   "source": [
    "En el siguiente ejemplo mostramos una curva de eficiencia de un colector de placa plana del fabricante Schüco"
   ]
  },
  {
   "cell_type": "markdown",
   "id": "53b0f87a",
   "metadata": {
    "slideshow": {
     "slide_type": "fragment"
    }
   },
   "source": [
    "<img src=\"./images/real_flat_plate_collector.png\" width=\"600\" align= center>"
   ]
  },
  {
   "cell_type": "markdown",
   "id": "7b1494e9",
   "metadata": {
    "slideshow": {
     "slide_type": "slide"
    }
   },
   "source": [
    "Las curvas de eficiencia varían para distintos colectores, y sirven como método de pre-selección según la aplicación requerida. La mejor forma es identificar el parametro $\\Delta T/G$ asociado a las condiciones locales y la demanda, y luego evaluar seleccionar el sistema mas adecuado, como se indica en la figura."
   ]
  },
  {
   "cell_type": "markdown",
   "id": "3c7fb241",
   "metadata": {
    "cell_style": "center",
    "slideshow": {
     "slide_type": "fragment"
    }
   },
   "source": [
    "<img src=\"./images/collector_selection.png\" width=\"500\" align= center>"
   ]
  },
  {
   "cell_type": "markdown",
   "id": "59776154",
   "metadata": {
    "slideshow": {
     "slide_type": "slide"
    }
   },
   "source": [
    "Sin embargo, la selección final depende de un estudio más exhaustivo, que considere la operación del sistema completo en función de las condiciones climáticas y consumo a lo largo de un año. Para esto existen heramientas especializadas, tales como [TRNSYS](https://www.trnsys.com/)."
   ]
  },
  {
   "cell_type": "markdown",
   "id": "024bdc46",
   "metadata": {
    "slideshow": {
     "slide_type": "slide"
    }
   },
   "source": [
    "## Sistemas de calentamiento de agua solar\n",
    "\n",
    "Una de las aplicaciones más común en colectores solares es el calentamiento de agua para uso doméstico."
   ]
  },
  {
   "cell_type": "markdown",
   "id": "70615421",
   "metadata": {
    "slideshow": {
     "slide_type": "fragment"
    }
   },
   "source": [
    "Un sistema de calentamiento de agua solar se compone de un arreglo de colectores, un sistema de transferencia de energía térmica y un tanque de almacenamiento"
   ]
  },
  {
   "cell_type": "markdown",
   "id": "9bd4637e",
   "metadata": {
    "slideshow": {
     "slide_type": "fragment"
    }
   },
   "source": [
    "Debido a que estos sistemas están mayormente expuestos al ambiente, deben estar protegidos contra el congelamiento en el invierno, o sobrecalentamiento durante el verano en periodos cuando la demanda de agua caliente es baja."
   ]
  },
  {
   "cell_type": "markdown",
   "id": "10c63d94",
   "metadata": {
    "slideshow": {
     "slide_type": "slide"
    }
   },
   "source": [
    "Podemos clasificar estos sistemas en dos tipos:\n",
    "\n",
    "- **Sistemas de circuito abierto**, donde el agua potable es directamente calentada por el colector\n",
    "\n",
    "- **Sistemas de circuito cerrado**, donde el agua potable es calentada indirectamente a través de un intercambiador de calor por donde circula el fluido de trabajo calentado por el colector solar."
   ]
  },
  {
   "cell_type": "markdown",
   "id": "49e108fe",
   "metadata": {
    "slideshow": {
     "slide_type": "fragment"
    }
   },
   "source": [
    "También podemos clasificar los sistemas respecto a la forma en que se mueve el fluido de trabajo. En esta clasificación tenemos:\n",
    "\n",
    "- **Sistemas pasivos,** donde el fluido de trabajo es impulsado por convección natural, a través del efecto termosifón.\n",
    "\n",
    "- **Sistemas activos** donde el fluido de trabajo es impulsado sistemas de bombeo."
   ]
  },
  {
   "cell_type": "markdown",
   "id": "cbf4a375",
   "metadata": {
    "slideshow": {
     "slide_type": "slide"
    }
   },
   "source": [
    "\n",
    "### Sistemas pasivos"
   ]
  },
  {
   "cell_type": "markdown",
   "id": "985d4a2f",
   "metadata": {
    "slideshow": {
     "slide_type": "fragment"
    }
   },
   "source": [
    "El sistema más utilizado es el colector solar con sistema termosifón. El sistema esta basado en un colector solar y un estanque de almacenamiento sobre el colector.\n",
    "\n",
    "<img src=\"./images/passive_water_heating.png\" width=\"800\" align= center>"
   ]
  },
  {
   "cell_type": "markdown",
   "id": "e6c43621",
   "metadata": {
    "slideshow": {
     "slide_type": "fragment"
    }
   },
   "source": [
    "El efecto termosifón ocurre debido a la disminución de la densidad del fluido de trabajo a medida que se calienta. Esto produce que el fluido caliente ascienda por los tubos hacia el estanque de reserva. Por otro lado, el fluido más frio asciende por diferencia de preciones ocupando el espacio disponible en el colector."
   ]
  },
  {
   "cell_type": "markdown",
   "id": "3ac35cd6",
   "metadata": {
    "slideshow": {
     "slide_type": "slide"
    }
   },
   "source": [
    "Debido a que estos sistemas no necesitan bombeo, son menos costosos y tienen una vida util mayor que los sistemas activos, ya que requieren menos mantención."
   ]
  },
  {
   "cell_type": "markdown",
   "id": "a1deb800",
   "metadata": {
    "slideshow": {
     "slide_type": "fragment"
    }
   },
   "source": [
    "La principal desventaja es su diseño bultoso, que ocupa mucho espacio y no es esteticamente agradable. Además, debido a que no es posible controlar el flujo en el colector, estos sistemas tienen a ser menos eficientes que los sitemas activos."
   ]
  },
  {
   "cell_type": "markdown",
   "id": "12a27479",
   "metadata": {
    "slideshow": {
     "slide_type": "fragment"
    }
   },
   "source": [
    "Las configuraciones más comunes consideran colectores del tipo FPC o ETC."
   ]
  },
  {
   "cell_type": "markdown",
   "id": "82bdaee2",
   "metadata": {
    "slideshow": {
     "slide_type": "fragment"
    }
   },
   "source": [
    "El sistema puede operar en circuito abierto, o cerrado."
   ]
  },
  {
   "cell_type": "markdown",
   "id": "0a7737be",
   "metadata": {
    "slideshow": {
     "slide_type": "slide"
    }
   },
   "source": [
    "### Sistemas activos\n",
    "\n",
    "Los sistemas activos son, en general, de mayor costo que los sistemas pasivos. Además requieren de más espacio para el sistema de bombeo."
   ]
  },
  {
   "cell_type": "markdown",
   "id": "bd50cd58",
   "metadata": {
    "slideshow": {
     "slide_type": "fragment"
    }
   },
   "source": [
    "Sus principales ventajas están asociadas al mejor control del caudal, lo que permite maximizar la eficiencia del colector. Además está el aspecto estético, ya que el tanque de almacenamiento puede ser instalado en un lugar separado del colector."
   ]
  },
  {
   "cell_type": "markdown",
   "id": "03f9b4df",
   "metadata": {
    "slideshow": {
     "slide_type": "fragment"
    }
   },
   "source": [
    "El sistema puede operar en circuito abierto o cerrado. En ambos casos, una bomba, controlada por un termostato, es activada cada vez que la temperatura del agua a la salida del colector es mayor a la temperatura del estanque de almacenamiento. El estanque de almacenamiento comúnmente incluye un calefactor auxiliar para evitar caidas abrutas de la temperatura del agua."
   ]
  },
  {
   "cell_type": "markdown",
   "id": "c3c40edb",
   "metadata": {
    "cell_style": "center",
    "slideshow": {
     "slide_type": "slide"
    }
   },
   "source": [
    "La siguiente figura muestra un sistema activo de tipo abierto.\n",
    "\n",
    "<img src=\"./images/active_direct.png\" width=\"600\" align= center>"
   ]
  },
  {
   "cell_type": "markdown",
   "id": "17c1dc23",
   "metadata": {
    "slideshow": {
     "slide_type": "slide"
    }
   },
   "source": [
    "## Referencias\n",
    "Kalogirou S. A. ***Solar Energy Engineering Processes and Systems***, 2nd Ed, Academic Press, 2014\n",
    " - Chapter 3 Solar energy collectors\n",
    " - Chapter 4 Performance of solar collectors\n",
    " - Chapter 5 Solar water-heating systems\n",
    "\n",
    "Duffie J. A., Beckman W. A. and Blair N. ***Solar Engineering of Thermal Processes***, 5th Ed, Jhon Wiley and Sons, 2020\n",
    " - Chapter 4. Radiation characteristi of opaque materials\n",
    " - Chapter 5. Radiation transmission through glazing: Absorbed radiation\n",
    " - Chapter 6. Flat-plate collectors\n",
    " - Chapter 12. Solar water-heating: active and passive"
   ]
  }
 ],
 "metadata": {
  "celltoolbar": "Slideshow",
  "kernelspec": {
   "display_name": "Python 3 (ipykernel)",
   "language": "python",
   "name": "python3"
  },
  "language_info": {
   "codemirror_mode": {
    "name": "ipython",
    "version": 3
   },
   "file_extension": ".py",
   "mimetype": "text/x-python",
   "name": "python",
   "nbconvert_exporter": "python",
   "pygments_lexer": "ipython3",
   "version": "3.12.2"
  },
  "latex_envs": {
   "LaTeX_envs_menu_present": false,
   "autoclose": false,
   "autocomplete": false,
   "bibliofile": "biblio.bib",
   "cite_by": "apalike",
   "current_citInitial": 1,
   "eqLabelWithNumbers": true,
   "eqNumInitial": 1,
   "hotkeys": {
    "equation": "Ctrl-E",
    "itemize": "Ctrl-I"
   },
   "labels_anchors": false,
   "latex_user_defs": false,
   "report_style_numbering": false,
   "user_envs_cfg": true
  },
  "toc": {
   "base_numbering": 1,
   "nav_menu": {},
   "number_sections": true,
   "sideBar": true,
   "skip_h1_title": true,
   "title_cell": "Tabla de contenidos",
   "title_sidebar": "Contenidos",
   "toc_cell": false,
   "toc_position": {
    "height": "calc(100% - 180px)",
    "left": "10px",
    "top": "150px",
    "width": "307.2px"
   },
   "toc_section_display": true,
   "toc_window_display": false
  },
  "varInspector": {
   "cols": {
    "lenName": 16,
    "lenType": 16,
    "lenVar": 40
   },
   "kernels_config": {
    "python": {
     "delete_cmd_postfix": "",
     "delete_cmd_prefix": "del ",
     "library": "var_list.py",
     "varRefreshCmd": "print(var_dic_list())"
    },
    "r": {
     "delete_cmd_postfix": ") ",
     "delete_cmd_prefix": "rm(",
     "library": "var_list.r",
     "varRefreshCmd": "cat(var_dic_list()) "
    }
   },
   "types_to_exclude": [
    "module",
    "function",
    "builtin_function_or_method",
    "instance",
    "_Feature"
   ],
   "window_display": false
  }
 },
 "nbformat": 4,
 "nbformat_minor": 5
}