{
 "cells": [
  {
   "cell_type": "markdown",
   "id": "8b01ca79",
   "metadata": {
    "slideshow": {
     "slide_type": "slide"
    }
   },
   "source": [
    " <font size=\"6\">MEC501 - Manejo y Conversión de Energía Solar Térmica</font>\n",
    "# Transporte Radiativo\n",
    "<br><br><br><br>\n",
    "Profesor: Francisco Ramírez Cuevas<br>\n",
    "Fecha: 9 de Septiembre 2022"
   ]
  },
  {
   "cell_type": "markdown",
   "id": "9ff4cae4",
   "metadata": {
    "slideshow": {
     "slide_type": "slide"
    }
   },
   "source": [
    "## Coherencia de la luz e interferencia\n",
    "Como veremos en las próximas clases, las vibraciones moleculares en la materia son las responsables de emitir radiación en forma de ondas electromagnéticas. El mecanismo es similar, pero inverso, al mecanismo de absorción de luz, el cual es originado por la interacción de ondas electromagnéticas con las vibraciones moleculares (ver clase 3)."
   ]
  },
  {
   "cell_type": "markdown",
   "id": "bcb7cf39",
   "metadata": {
    "slideshow": {
     "slide_type": "fragment"
    }
   },
   "source": [
    "Dicho esto, dos moléculas pueden emitir radiación con una pequeña variación en la longitud de onda $\\Delta\\lambda$. Esto ocurre porque las vibraciones no están 100% correlacionadas, es decir, existe un grado de aletoriedad en las vibraciones."
   ]
  },
  {
   "cell_type": "markdown",
   "id": "16081fa2",
   "metadata": {
    "slideshow": {
     "slide_type": "slide"
    }
   },
   "source": [
    "Esta aletoriedad en las vibraciones da lugar a una distribución del flujo de radiación emitido por una fuente.\n",
    "\n",
    "<img src=\"./images/light_source_spectra.png\" width=\"800px\" align= center>"
   ]
  },
  {
   "cell_type": "markdown",
   "id": "b54cf722",
   "metadata": {
    "slideshow": {
     "slide_type": "slide"
    }
   },
   "source": [
    "Por ejemplo, consideremos una fuente de luz con una distribución espectral normal, centrada en $\\lambda_0$ y con una desviación estandar $\\pm\\sigma_\\lambda\\lambda_0$, con $\\sigma_\\lambda \\in [0,1]$. Imaginemos esta fuente como $N$ emisores, donde cada emisor $j$ emite ondas electromagnéticas con longitud de onda $\\lambda \\pm\\Delta \\lambda_j$, donde $\\Delta \\lambda_j$ es escogido aleatoriamente a partir de la distribución normal."
   ]
  },
  {
   "cell_type": "markdown",
   "id": "31f81723",
   "metadata": {
    "cell_style": "split",
    "slideshow": {
     "slide_type": "fragment"
    }
   },
   "source": [
    "<img src=\"./images/normal_distribution.png\" width=\"400px\" align= center>"
   ]
  },
  {
   "cell_type": "markdown",
   "id": "76d68ef4",
   "metadata": {
    "cell_style": "split",
    "slideshow": {
     "slide_type": "fragment"
    }
   },
   "source": [
    "Asumiendo ondas en el aire en dirección $\\hat{k} = \\hat{x}$, el campo eléctrico resultante es:\n",
    "\n",
    "\\begin{equation*}\n",
    "\\vec{E}_\\mathrm{tot} = \\sum_j^N E_0e^{i\\left(k_jx - \\omega_j t\\right)} \\hat{z},\n",
    "\\end{equation*}\n",
    "\n",
    "donde $k_j = \\frac{2\\pi}{\\lambda \\pm\\Delta \\lambda_j}$, y $\\omega_j = c_0k_j$"
   ]
  },
  {
   "cell_type": "markdown",
   "id": "e5e55e68",
   "metadata": {
    "cell_style": "center",
    "slideshow": {
     "slide_type": "fragment"
    }
   },
   "source": [
    "Analicemos el comportamiento de $\\vec{E}_\\mathrm{tot} /E_0$ para $\\lambda_0 = 500$ nm"
   ]
  },
  {
   "cell_type": "code",
   "execution_count": 1,
   "id": "37df7e74",
   "metadata": {
    "cell_style": "split",
    "slideshow": {
     "slide_type": "slide"
    }
   },
   "outputs": [],
   "source": [
    "import numpy as np\n",
    "from numpy.random import normal\n",
    "import matplotlib.pyplot as plt\n",
    "\n",
    "def light_packet(kdir, x, t, lam, sig, N):\n",
    "    c0 = 3E8          # velocidad de la luz (m/s)\n",
    "    xx = np.meshgrid(x,np.ones(N))[0]\n",
    "    \n",
    "    # Generamos arreglo de ondas aleatorias\n",
    "    dlamj =  normal(0, lam*sig,N)\n",
    "    kj = (2*np.pi/(lam + dlamj)).reshape(-1,1)\n",
    "    wj = c0*kj\n",
    "    Erand = np.exp(1j*(kdir*kj*xx-wj*t)) \n",
    "    \n",
    "    # Sumamos todas las ondas\n",
    "    return np.sum(Erand,axis=0)\n",
    " \n",
    "def plot_light_packet(N, t, sig):\n",
    "    '''\n",
    "    n: número de ondas generadas\n",
    "    t: tiempo en ns\n",
    "    sig: % de ancho de banda (dlam = sig*lam)\n",
    "    '''\n",
    "    lam = 0.5         # longitud de onda (um)\n",
    "    t = t*1E-9 # convertimos ns a s\n",
    "    \n",
    "    # recorrido de la onda\n",
    "    x = np.linspace(-2,2,1000)  # desde 0 a 4 micrones\n",
    "    E = light_packet(1, x, t, lam, sig, N)\n",
    "    \n",
    "    # Graficamos\n",
    "    fig, ax = plt.subplots()\n",
    "    fig.set_size_inches(9, 5)\n",
    "    plt.rcParams['font.size'] = '18'\n",
    "    \n",
    "    ax.plot(x,np.real(E), 'k')\n",
    "    ax.set_xlabel('x ($\\mu$m)')\n",
    "    ax.set_ylabel('Amplitud $|E|/E_0$')\n",
    "    ax.set_ylim(-N*1.1,N*1.1)\n",
    "    ax.grid()\n"
   ]
  },
  {
   "cell_type": "code",
   "execution_count": 2,
   "id": "5c81aca7",
   "metadata": {
    "cell_style": "split",
    "slideshow": {
     "slide_type": "fragment"
    }
   },
   "outputs": [
    {
     "data": {
      "application/vnd.jupyter.widget-view+json": {
       "model_id": "1428b850828c4f7e86b5564f32e8c001",
       "version_major": 2,
       "version_minor": 0
      },
      "text/plain": [
       "interactive(children=(IntSlider(value=1000, description='N', max=1000, min=1), FloatSlider(value=0.0, descript…"
      ]
     },
     "metadata": {},
     "output_type": "display_data"
    }
   ],
   "source": [
    "from ipywidgets import interact\n",
    "\n",
    "@interact( N=(1,1000,1), \n",
    "           t=(-10,10,0.1),\n",
    "           sig=(0,1,0.01))\n",
    "def g(N=1000, t=0, sig=0.3):\n",
    "    return plot_light_packet(N,t,sig)"
   ]
  },
  {
   "cell_type": "markdown",
   "id": "b53bb755",
   "metadata": {
    "slideshow": {
     "slide_type": "slide"
    }
   },
   "source": [
    "### Longitud de coherencia\n",
    "Definimos como **longitud de coherencia**, $l_c$, a la distancia donde un grupo de ondas electromagnética mantiene correlación entre las fases. Para longitudes mayores a $l_c$, decimos que la luz es incoherente, es decir, el desface entre las distintas ondas es completamente aleatorio."
   ]
  },
  {
   "cell_type": "markdown",
   "id": "3ea340f8",
   "metadata": {
    "cell_style": "split",
    "slideshow": {
     "slide_type": "fragment"
    }
   },
   "source": [
    "<img src=\"./images/coherence_length.png\" width=\"300px\" align= center>\n",
    "\n",
    "<center>Esquema de un paquete de onda emitido por una fuente con longitud de coherencia $l_c$</center>"
   ]
  },
  {
   "cell_type": "markdown",
   "id": "1f71b46f",
   "metadata": {
    "cell_style": "split",
    "slideshow": {
     "slide_type": "fragment"
    }
   },
   "source": [
    "La relación entre $l_c$, la longitud de onda central $\\lambda$ y el ancho de banda $\\Delta\\lambda$ está dado, aproximadamente, por la relación:\n",
    "\n",
    "\\begin{equation*}\n",
    "l_c \\approx \\frac{\\lambda^2}{n\\Delta \\lambda},\n",
    "\\end{equation*}\n",
    "\n",
    "donde $n$ es el indice de refracción del medio donde se propaga la luz.\n",
    "\n",
    "Por ejemplo, para lasers He-Ne (laser rojo)  $l_c\\approx 0.2 - 100$ m.  "
   ]
  },
  {
   "cell_type": "markdown",
   "id": "b8e319bd",
   "metadata": {
    "slideshow": {
     "slide_type": "slide"
    }
   },
   "source": [
    "Para radiación emitida por un cuerpo a temperatura $T$, la longitud de coherencia está dada por:\n",
    "\n",
    "\\begin{equation*}\n",
    "l_c T = 2167.8~\\mathrm{\\mu m~K}\n",
    "\\end{equation*}\n",
    "\n",
    "Así, por ejemplo, la radiación solar ($T \\approx 5800~\\mathrm{K}$) tiene una longitud de coherencia, $l_c \\approx 370~\\mathrm{nm}$"
   ]
  },
  {
   "cell_type": "markdown",
   "id": "659f7454",
   "metadata": {
    "slideshow": {
     "slide_type": "slide"
    }
   },
   "source": [
    "### Régimen de trasporte de luz\n",
    "Consideremos dos paquetes de onda con una longitud de coherencia $l_c$, viajando en sentido opuesto."
   ]
  },
  {
   "cell_type": "markdown",
   "id": "1b6928bc",
   "metadata": {
    "slideshow": {
     "slide_type": "fragment"
    }
   },
   "source": [
    "Podemos ver que ambos paquetes de luz interfieren en $x = 0$ en un instante $t$. Al continuar su camino, ambos paquetes de onda recuperan su forma original."
   ]
  },
  {
   "cell_type": "code",
   "execution_count": 3,
   "id": "8b9e3e63",
   "metadata": {
    "cell_style": "split",
    "slideshow": {
     "slide_type": "slide"
    }
   },
   "outputs": [],
   "source": [
    "def plot_2light_packet(n, t, sig):\n",
    "    '''\n",
    "    n: número de ondas generadas\n",
    "    t: tiempo en ns\n",
    "    sig: % de ancho de banda (dlam = sig*lam)\n",
    "    '''\n",
    "    t = t*1E-9 # convertimos ns a s\n",
    "    lam = 0.5\n",
    "    \n",
    "    # recorrido de la onda\n",
    "    x = np.linspace(-2,2,1000)  # desde 0 a 4 micrones\n",
    "    k0 = 2*np.pi/lam\n",
    "    Efw = light_packet( 1, x - x[ 0], t, lam, sig, n)\n",
    "    Ebw = light_packet(-1, x - x[-1], t, lam, sig, n)\n",
    "    \n",
    "    # Graficamos\n",
    "    fig, ax = plt.subplots()\n",
    "    fig.set_size_inches(9, 5)\n",
    "    plt.rcParams['font.size'] = '18'\n",
    "    \n",
    "    ax.plot(x,np.real(Efw + Ebw), 'k')\n",
    "    ax.set_xlabel('x ($\\mu$m)')\n",
    "    ax.set_ylabel('Amplitud $|E|/E_0$')\n",
    "    ax.set_ylim(-n*2.1,n*2.1)\n",
    "    ax.grid()\n"
   ]
  },
  {
   "cell_type": "code",
   "execution_count": 4,
   "id": "977daeda",
   "metadata": {
    "cell_style": "split"
   },
   "outputs": [
    {
     "data": {
      "application/vnd.jupyter.widget-view+json": {
       "model_id": "8c8fa3925ce84dff91afbb103ca7efc3",
       "version_major": 2,
       "version_minor": 0
      },
      "text/plain": [
       "interactive(children=(IntSlider(value=1000, description='N', max=1000, min=1), FloatSlider(value=2.0, descript…"
      ]
     },
     "metadata": {},
     "output_type": "display_data"
    }
   ],
   "source": [
    "from ipywidgets import interact\n",
    "\n",
    "@interact( N=(1,1000,1), \n",
    "           t=(0,20,0.1),\n",
    "           sig=(0,1,0.01))\n",
    "def g(N=1000, t=2, sig=0.3):\n",
    "    return plot_2light_packet(N,t,sig)"
   ]
  },
  {
   "cell_type": "markdown",
   "id": "615ad1c6",
   "metadata": {
    "slideshow": {
     "slide_type": "slide"
    }
   },
   "source": [
    "A partir de esto, podemos concluir que los fenómenos de interferencia en películas de capa delgada de espesor $d$ no serían visibles si $d > l_c$. En otras palabras, el fenómeno de interferencia solo existe si el paquete de onda interfiere consigo mismo."
   ]
  },
  {
   "cell_type": "markdown",
   "id": "db4d20e4",
   "metadata": {
    "cell_style": "split",
    "slideshow": {
     "slide_type": "fragment"
    }
   },
   "source": [
    "<img src=\"./images/interference_thinfilm.png\" width=\"200px\" align= center>\n",
    "\n",
    "<center>Propagación de una onda a través de una película de espesor $d$, con $l_c < d$</center>"
   ]
  },
  {
   "cell_type": "markdown",
   "id": "fce7ef57",
   "metadata": {
    "cell_style": "split",
    "slideshow": {
     "slide_type": "fragment"
    }
   },
   "source": [
    "En general, para una longitud características $d$:\n",
    "\n",
    "- Si $d > l_c$ el **transporte de luz es incoherente** . En este régimen, podemos ignorar las propiedades oscilatorias de la luz, y analizar el problema como el transporte de pequeños paquetes de onda, o simplemente como partículas.\n",
    "\n",
    "- Si $d < l_c$, el **transporte de luz es coherente**. En este régimen debemos considerar las propiedades oscilatorias a partir de las Ecuaciones de Maxwell."
   ]
  },
  {
   "cell_type": "markdown",
   "id": "06aab8e7",
   "metadata": {
    "cell_style": "center",
    "slideshow": {
     "slide_type": "slide"
    }
   },
   "source": [
    "Así, los coeficientes de Fresnel para una película delgada solo son válidos para $d < l_c$. "
   ]
  },
  {
   "cell_type": "markdown",
   "id": "c7f85265",
   "metadata": {
    "cell_style": "split",
    "slideshow": {
     "slide_type": "fragment"
    }
   },
   "source": [
    "Los coeficientes de Fresnel para una interface, en cambio, siempre son válidos."
   ]
  },
  {
   "cell_type": "markdown",
   "id": "57178760",
   "metadata": {
    "cell_style": "split",
    "slideshow": {
     "slide_type": "fragment"
    }
   },
   "source": [
    "<img src=\"./images/interference_interface.png\" width=\"350px\" align= center>\n",
    "\n",
    "<center>Refracción y reflexión de una onda incoherente a través de una interfaz</center>"
   ]
  },
  {
   "cell_type": "markdown",
   "id": "0c79f1b6",
   "metadata": {
    "slideshow": {
     "slide_type": "slide"
    }
   },
   "source": [
    "Igualmente, en medios particulados, los fenómenos de interferencia pueden ocurrir si las partículas están suficientemente cerca y tienen tamaños similares. Llamamos a esto **scattering coherente**"
   ]
  },
  {
   "cell_type": "markdown",
   "id": "61e2a519",
   "metadata": {
    "slideshow": {
     "slide_type": "fragment"
    }
   },
   "source": [
    "<img src=\"./images/scattering_coherence.png\" width=\"600px\" align= center>\n",
    "\n",
    "<center>Fenómeno de interferencia en scattering</center>"
   ]
  },
  {
   "cell_type": "markdown",
   "id": "8167d93c",
   "metadata": {
    "slideshow": {
     "slide_type": "slide"
    }
   },
   "source": [
    "El fenómeno de scattering coherente da lugar a los denominados **colores estructurales** presentes en las alas de las aves y mariposas (mas info [acá](https://wires.onlinelibrary.wiley.com/doi/10.1002/wnan.1396))"
   ]
  },
  {
   "cell_type": "markdown",
   "id": "06446d60",
   "metadata": {
    "cell_style": "split",
    "slideshow": {
     "slide_type": "fragment"
    }
   },
   "source": [
    "<img src=\"./images/structural_colors_birds.png\" width=\"550px\" align= center>\n",
    "\n",
    "<center>Colores estructurales en alas de aves</center>\n",
    "\n",
    "Fuente: [Hwang, V. et al. PNAS 118 (4) e2015551118\n",
    " (2020)](https://www.pnas.org/doi/10.1073/pnas.2015551118)"
   ]
  },
  {
   "cell_type": "markdown",
   "id": "71eaafb2",
   "metadata": {
    "cell_style": "split",
    "slideshow": {
     "slide_type": "fragment"
    }
   },
   "source": [
    "<img src=\"./images/structural_colors_buterflies.png\" width=\"450px\" align= center>\n",
    "\n",
    "<center>Colores estructurales en alas de mariposa</center>\n",
    "\n",
    "Fuente: [Tippets C. A. et al. J. Opt. 18 (2016) 065105](https://iopscience.iop.org/article/10.1088/2040-8978/18/6/065105)"
   ]
  },
  {
   "cell_type": "markdown",
   "id": "f629fcbe",
   "metadata": {
    "slideshow": {
     "slide_type": "slide"
    }
   },
   "source": [
    "## Teoría de transferencia radiativa\n",
    "Si el transporte de luz es incoherente, podemos ignorar las propiedades oscilatorias de la luz y analizar el fenómeno óptico como un el transporte de radiación a través de un volumen de control."
   ]
  },
  {
   "cell_type": "markdown",
   "id": "f62e3c70",
   "metadata": {
    "slideshow": {
     "slide_type": "slide"
    }
   },
   "source": [
    "### Intensidad específica"
   ]
  },
  {
   "cell_type": "markdown",
   "id": "790c7714",
   "metadata": {
    "cell_style": "split",
    "slideshow": {
     "slide_type": "-"
    }
   },
   "source": [
    "Definimos como **radiancia espectral o intensidad específica**, $I_\\lambda$, al flujo de energía por **ángulo sólido diferencial**, $d\\Omega$, para una longitud de onda $\\lambda$.\n",
    "\n",
    "<img src=\"./images/specific_intensity.png\" width=\"300px\" align= center>"
   ]
  },
  {
   "cell_type": "markdown",
   "id": "8568f20b",
   "metadata": {
    "cell_style": "split",
    "slideshow": {
     "slide_type": "fragment"
    }
   },
   "source": [
    "El ángulo sólido define el tamaño relativo del área $S$ para un observador en $P$ a una distancia $r$. \n",
    "\n",
    "El diferencial está definido por $d\\Omega = \\sin\\theta d\\theta d\\phi$\n",
    "\n",
    "<img src=\"./images/solid_angle.png\" width=\"450px\" align= center>"
   ]
  },
  {
   "cell_type": "markdown",
   "id": "0d8ed016",
   "metadata": {
    "slideshow": {
     "slide_type": "slide"
    }
   },
   "source": [
    "Es importante aclarar que los conceptos intensidad específica y vector de Poynting $\\langle\\vec{S}\\rangle$, son equivalentes: $I_\\lambda(\\hat{k})$ es un término utilizado en radiometría para definir el flujo de energía por unidad de ángulo sólido, mientras que $\\langle\\vec{S}\\rangle$ es un término ulizado en óptica para describir el flujo de energía en dirección $\\hat{k}$. Cabe destacar, sin embargo, que $I_\\lambda(\\hat{k})$ es una magnitud, y $\\langle\\vec{S}\\rangle$ es un vector. Así, podríamos decir que la relación entre estos dos términos está dada por $I_\\lambda(\\hat{k}) = \\langle\\vec{S}\\rangle\\cdot\\hat{k}$."
   ]
  },
  {
   "cell_type": "markdown",
   "id": "067ade0b",
   "metadata": {
    "slideshow": {
     "slide_type": "fragment"
    }
   },
   "source": [
    "El ángulo sólido total para una esfera es:\n",
    "\\begin{equation*}\n",
    "\\int_\\mathrm{esfera} d\\Omega = \\int_0^{2\\pi}\\int_0^{\\pi} \\sin\\theta d\\theta d\\phi= 4\\pi\n",
    "\\end{equation*}"
   ]
  },
  {
   "cell_type": "markdown",
   "id": "921c9262",
   "metadata": {
    "slideshow": {
     "slide_type": "slide"
    }
   },
   "source": [
    "### Ecuación de transferencia radiativa\n",
    "La **ecuación de transferencia radiativa** (RTE por sus siglas en ingles), es una ecuación de transporte que describe la propagación de la radiancia espectral, $I_\\lambda(\\vec{r},\\hat{k})$, en función de la posición posición $\\vec{r}$ y dirección $\\hat{k}$. En su forma más general, para un problema estacionario:\n",
    "\n",
    "\\begin{equation}\n",
    "\\hat{k}\\cdot\\nabla_r I_\\lambda(\\vec{r},\\hat{k}) = - \\left[\\frac{f_v}{V_p}C_\\mathrm{ext} + 2\\kappa k_0\\right]I_\\lambda(\\vec{r},\\hat{k}) + \\frac{f_v}{V_p}\\int_{4\\pi} P_\\mathrm{sca}(\\hat{k},\\hat{k}') I_\\lambda(\\vec{r},\\hat{k}') d\\Omega'\n",
    "\\end{equation}"
   ]
  },
  {
   "cell_type": "markdown",
   "id": "44c82ce8",
   "metadata": {
    "slideshow": {
     "slide_type": "fragment"
    }
   },
   "source": [
    "donde $f_v$ y $V_p$ son, respectivamente la fracción de volúmen y el volúmen de las partículas en el medio, y $P_\\mathrm{sca}(\\hat{k},\\hat{k}')$ es la función de fase."
   ]
  },
  {
   "cell_type": "markdown",
   "id": "84f7041f",
   "metadata": {
    "slideshow": {
     "slide_type": "slide"
    }
   },
   "source": [
    "Notar que consideramos el caso más generalizado de la función de fase, que depende tanto de la dirección de la radiación incidente $\\hat{k}$ como de la dirección del scattering $\\hat{k}'$. Ambas definidas por ángulo sólido"
   ]
  },
  {
   "cell_type": "markdown",
   "id": "556660a5",
   "metadata": {
    "cell_style": "center",
    "slideshow": {
     "slide_type": "fragment"
    }
   },
   "source": [
    "En el caso de una esfera, $\\hat{k}_\\mathrm{sca} = \\hat{k}$ y $\\hat{k}_\\mathrm{inc} = \\hat{k}'$. Así, la función de fase depende de $\\theta$, el cual está definido por $\\cos\\theta = \\hat{k}\\cdot\\hat{k}'$\n",
    "\n"
   ]
  },
  {
   "cell_type": "markdown",
   "id": "b7b71333",
   "metadata": {
    "slideshow": {
     "slide_type": "slide"
    }
   },
   "source": [
    "Con esto en mente, ahora podemos discutir el significado de los términos en la RTE:"
   ]
  },
  {
   "cell_type": "markdown",
   "id": "12e1a1e8",
   "metadata": {
    "slideshow": {
     "slide_type": "fragment"
    }
   },
   "source": [
    "- El primer término representa el cambio de $I_\\lambda(\\vec{r},\\hat{k})$ a través volumen diferencial. Por ejemplo, en el caso unidimencional en dirección $\\hat{k} = \\hat{x}$, tenemos: \n",
    "\n",
    "\\begin{equation*}\n",
    "\\hat{x}\\cdot\\nabla_r I_\\lambda(\\vec{r},\\hat{k}) = \\frac{\\partial}{\\partial x}I_\\lambda(\\vec{r},\\hat{k})\n",
    "\\end{equation*}"
   ]
  },
  {
   "cell_type": "markdown",
   "id": "231c3da9",
   "metadata": {
    "slideshow": {
     "slide_type": "fragment"
    }
   },
   "source": [
    "- El segundo término representa la pérdida de energía radiativa, por extinción $\\left(\\frac{f_v}{V_p}C_\\mathrm{ext}\\right)$ y absorción en el material material ($2\\kappa k_0$), respectivamente. Recordemos que la extinción representa la energía absorbida por las partículas + la energía de scattering en direcciónes distintas a $\\hat{k}$, es decir $C_\\mathrm{ext}= C_\\mathrm{abs} + C_\\mathrm{sca}$."
   ]
  },
  {
   "cell_type": "markdown",
   "id": "4754c5ed",
   "metadata": {
    "slideshow": {
     "slide_type": "fragment"
    }
   },
   "source": [
    "- El tercer término representa la ganancia de energía radiativa produco del scattering inducido por radiación incidente en dirección $\\hat{k}'$. Este término representa el fenómeno de **scattering múltiple**."
   ]
  },
  {
   "cell_type": "markdown",
   "id": "43766712",
   "metadata": {
    "slideshow": {
     "slide_type": "slide"
    }
   },
   "source": [
    "## Soluciones de la RTE\n",
    "La ecuación de transferencia radiativa permite explicar de forma fenomenológica el transporte de radiación en un medio particulado. Debido a su complejidad, existen pocas soluciones analíticas. En esta sección describiremos las tres más conocidas."
   ]
  },
  {
   "cell_type": "markdown",
   "id": "6037462f",
   "metadata": {
    "slideshow": {
     "slide_type": "slide"
    }
   },
   "source": [
    "### Película de material sin partículas (Reflectividad y Transmisividad incoherente)\n",
    "En el caso de un medio sin partículas solo debemos considerar el primer término de la RTE. "
   ]
  },
  {
   "cell_type": "markdown",
   "id": "38e80853",
   "metadata": {
    "slideshow": {
     "slide_type": "fragment"
    }
   },
   "source": [
    "Para el caso particular de un material de espesor $t_\\mathrm{film}$ e índice de refracción $N = n + \\kappa$, rodeado por un medio con índice de refracción $N_0$, derivamos las siguientes relaciones de reflectividad y tranmisividad para luz incoherente:\n",
    "\n",
    "\\begin{align}\n",
    "R_\\mathrm{incoh}&= R_0 + \\frac{T_0^2R_0e^{-4\\kappa k_0 t_\\mathrm{film}}}{1 - R_0^2e^{-4\\kappa k_0 t_\\mathrm{film}}} \n",
    "\\\\[10pt]\n",
    "T_\\mathrm{incoh} &= \\frac{T_0^2e^{-4\\kappa k_0 t_\\mathrm{film}}}{1 - R_0^2e^{-4\\kappa k_0 t_\\mathrm{film}}}\n",
    "\\end{align}\n",
    "\n",
    "donde $R_0$ y $T_0$ corresponden, respectivamente, a la reflectividad y transmisividad en la interface $N_0 / N_1$"
   ]
  },
  {
   "cell_type": "markdown",
   "id": "7b8cb924",
   "metadata": {
    "slideshow": {
     "slide_type": "slide"
    }
   },
   "source": [
    "En el siguiente ejemplo, utilizamos la función ```incoh_multilayer``` de la libreria ```empylib.waveoptics```. Esta función es más general que la ecuación anterior y permite determinar $R_\\mathrm{incoh}$ y $T_\\mathrm{incoh}$ para arreglos multicapas. "
   ]
  },
  {
   "cell_type": "markdown",
   "id": "2a3e7bbc",
   "metadata": {
    "slideshow": {
     "slide_type": "fragment"
    }
   },
   "source": [
    "En este caso, evaluaremos una película de sílice de espesor $1~\\mu\\mathrm{m}$, sobre un sustrato con íncide de refracción $N_\\mathrm{back} = 4.3$, y con aire en la superficie $N_\\mathrm{front} = 1.0$. El espectro de longitudes de onda $\\lambda\\in[0.3,0.8]~\\mu\\mathrm{m}$ y el ángulo de incidencia $\\theta_i = 30°$. Para comparar, determinaremos $R$ y $T$ para el caso de luz coherente."
   ]
  },
  {
   "cell_type": "code",
   "execution_count": 5,
   "id": "a99aa431",
   "metadata": {
    "cell_style": "split",
    "slideshow": {
     "slide_type": "slide"
    }
   },
   "outputs": [],
   "source": [
    "import numpy as np\n",
    "import empylib.waveoptics as wv\n",
    "import empylib.nklib as nk\n",
    "\n",
    "lam = np.linspace(2,10,100)  # espectro de longitudes de onda (um)\n",
    "theta = np.radians(30)          # ángulo de incidencia\n",
    "\n",
    "Nfront = 1.0                 # índice de refracción medio superior\n",
    "N1     = nk.SiO2(lam)        # índice de refracción capa delgada\n",
    "Nback  = 4.3                 # índice de refracción medio inferior\n",
    "N = (Nfront, N1, Nback)      # indices de refracción (above, mid, below)\n",
    "d = 1.0                      # espesor capa intermedia (um)\n",
    "\n",
    "# caso luz incoherente\n",
    "Rp_incoh, Tp_incoh = wv.incoh_multilayer(lam,theta, N, d, pol='TM')\n",
    "# caso luz coherente\n",
    "Rp, Tp = wv.multilayer(lam,theta, N, d, pol='TM')[:2]"
   ]
  },
  {
   "cell_type": "code",
   "execution_count": 6,
   "id": "3bee2ad8",
   "metadata": {
    "cell_style": "split",
    "slideshow": {
     "slide_type": "fragment"
    }
   },
   "outputs": [
    {
     "data": {
      "image/png": "[encoded data removed]",
      "text/plain": [
       "<Figure size 504x360 with 1 Axes>"
      ]
     },
     "metadata": {
      "filenames": {
       "image/png": "/mnt/d/OneDrive - Universidad Adolfo Ibanez/Teaching_courses/Manejo_y_Conversion_Energia_Solar_Termica/material_catedra/_build/jupyter_execute/5_TransporteRadiativo/5_TransporteRadiativo_49_0.png"
      },
      "needs_background": "light"
     },
     "output_type": "display_data"
    }
   ],
   "source": [
    "fig, ax = plt.subplots()\n",
    "fig.set_size_inches(7, 5)\n",
    "plt.rcParams['font.size'] = '16'\n",
    "\n",
    "# Graficamos el flujo de energía\n",
    "plt.plot(lam,Rp,'--r',label='$R_\\mathrm{TM}$ (coh)')\n",
    "plt.plot(lam,Tp,'--b',label='$T_\\mathrm{TM}$ (coh)')\n",
    "plt.plot(lam,Rp_incoh,'-r',label='$R_\\mathrm{TM}$ (incoh)')\n",
    "plt.plot(lam,Tp_incoh,'-b',label='$T_\\mathrm{TM}$ (incoh)')\n",
    "plt.title('arreglo 1.0/1.5/4.3')\n",
    "plt.xlabel('Longitud de onda ($\\mu$m)')\n",
    "plt.ylabel('Refletividad / Transmisividad')\n",
    "plt.legend()\n",
    "plt.show()"
   ]
  },
  {
   "cell_type": "markdown",
   "id": "c6ed7877",
   "metadata": {
    "slideshow": {
     "slide_type": "slide"
    }
   },
   "source": [
    "En la figura, para el caso de luz coherente, notamos oscilaciones en $R$ y $T$ producto de los fenómenos de interferencia. En el caso de luz incoherente, el fenómeno de interferencia desaparace."
   ]
  },
  {
   "cell_type": "markdown",
   "id": "a5316b37",
   "metadata": {
    "slideshow": {
     "slide_type": "slide"
    }
   },
   "source": [
    "### Película de material con baja concentración de partículas (Ley de Beer-Lambert)\n",
    "Definimos el **camino libre medio de scattering**, como $\\Lambda_\\mathrm{sca} = \\left(f_v C_\\mathrm{sca}/V_p\\right)^{-1}$. Este parametro representa la distancia promedio que recorre la luz entre eventos de scattering."
   ]
  },
  {
   "cell_type": "markdown",
   "id": "a352fb08",
   "metadata": {
    "cell_style": "center",
    "slideshow": {
     "slide_type": "fragment"
    }
   },
   "source": [
    "Si $\\Lambda_\\mathrm{sca}$ es mayor que el espesor del material, $t_\\mathrm{film}$, la probabilidad de que ocurran más de un evento scattering es despreciable, y decimos que el **scattering es de primer orden**. En este caso, el tercer término de la RTE es despreciable y la radiación solo pierde energía por absorción del material o extinción inducida por las partículas."
   ]
  },
  {
   "cell_type": "markdown",
   "id": "9407f0e6",
   "metadata": {
    "slideshow": {
     "slide_type": "slide"
    }
   },
   "source": [
    "La solución a esta ecuación se conoce como la ley de Beer-Lambert. Mediante esta aproximación podemos deducir las componentes total y especular de la transmitancia:\n",
    "\n",
    "\\begin{equation}\n",
    "T_\\mathrm{tot} = T_0 e^{-f_v\\frac{C_\\mathrm{abs}}{V_p}t_\\mathrm{film}}\\quad\\quad\\mathrm{and}\\quad\\quad \n",
    "T_\\mathrm{spec} = T_0 e^{-f_v\\frac{C_\\mathrm{ext}}{V_p}t_\\mathrm{film}}\n",
    "\\end{equation}\n",
    "\n",
    "donde, $T_0$ es la **transmisividad incoherente del material sin incrustaciones**."
   ]
  },
  {
   "cell_type": "markdown",
   "id": "2f29ecb5",
   "metadata": {
    "slideshow": {
     "slide_type": "fragment"
    }
   },
   "source": [
    "<img src=\"./images/beer_lambert.png\" width=\"500px\" align= center>\n",
    "\n",
    "<center>Transporte de luz en un medio con scattering de primer orden</center>"
   ]
  },
  {
   "cell_type": "markdown",
   "id": "963bc3c6",
   "metadata": {
    "slideshow": {
     "slide_type": "slide"
    }
   },
   "source": [
    "Podemos utilizar la ley de Beer-Lambert para analizar, de forma aproximada, el efecto del color del cielo durante el día y en la tarde."
   ]
  },
  {
   "cell_type": "markdown",
   "id": "227d193d",
   "metadata": {
    "slideshow": {
     "slide_type": "fragment"
    }
   },
   "source": [
    "El color del cielo está dado por la componente difusa. Así calculamos $T_\\mathrm{dif} = T_\\mathrm{tot} - T_\\mathrm{spec}$."
   ]
  },
  {
   "cell_type": "markdown",
   "id": "a2577fed",
   "metadata": {
    "slideshow": {
     "slide_type": "fragment"
    }
   },
   "source": [
    "Consideremos una atmosfera compuesta de aire ($N_h = 1.0$) y una pequeña concentración ($f_v = 1\\times 10^{-6}~\\%$) de partículas de 10 nm de diámetro e índice de refracción $N_p = 1.5$. El espesor de la atmosfera es $t_\\mathrm{atm} = 100~\\mathrm{km}$"
   ]
  },
  {
   "cell_type": "code",
   "execution_count": 7,
   "id": "33491447",
   "metadata": {
    "cell_style": "center",
    "slideshow": {
     "slide_type": "slide"
    }
   },
   "outputs": [],
   "source": [
    "import empylib.rad_transfer as rt\n",
    "import empylib.nklib as nk\n",
    "import numpy as np\n",
    "import matplotlib.pyplot as plt\n",
    "from empylib.ref_spectra import AM15, Bplanck\n",
    "from empylib.ref_spectra import color_system as cs\n",
    "cs = cs.hdtv\n",
    "\n",
    "lam1 = np.linspace(0.38,0.78,100) # espectro de longitudes de onda\n",
    "cs.interp_internals(lam1)\n",
    "def plot_atmosphere(theta_sun):\n",
    "    fig, ax = plt.subplots()          \n",
    "    fig.set_size_inches(8, 5)         # Tamaño del gráfico\n",
    "    plt.rcParams['font.size'] = '14'  # tamaño de  fuente\n",
    "    \n",
    "    # parámetros de entrada\n",
    "    tatm = 100E6                      # espesor de la atmósfera en mm\n",
    "    N = (1.0,1.0,1.0)                 # indice de refracción superior, intermedio e inferior\n",
    "    fvp = 1E-8                        # fracción de volúmen de las partículas\n",
    "    Dp = 0.010                        # diámetro de las partículas\n",
    "    Np = 1.5                          # índice de refracción de las partículas\n",
    "    \n",
    "    # transmitancia total y especular\n",
    "    theta = np.radians(theta_sun)    # posición del sol en radianes\n",
    "    Ttot, Tspec = rt.T_beer_lambert(lam1,theta,tatm,N,fvp,Dp,Np)[:2]\n",
    "    \n",
    "    Tdif = Ttot - Tspec              # transmitancia difusa\n",
    "    ax.plot(lam1,Tdif,'-k',label = 'Tdif')\n",
    "    ax.set_xlabel('Longitud de onda ($\\mu$m)')\n",
    "    ax.set_ylabel('Transmisividad')\n",
    "    ax.set_title(r'Posición del sol, $\\theta_\\mathrm{sun}$=%.1f°'% (theta_sun))\n",
    "    ax.set_ylim(0,1.05)\n",
    "    \n",
    "    Dcircle = 0.25\n",
    "    ax2 = fig.add_axes([0.11,0.15, Dcircle, Dcircle])\n",
    "    Irad = Tdif*Bplanck(lam1,5777)\n",
    "    html_rgb = cs.spec_to_rgb(Irad, out_fmt='html')\n",
    "    Circle = plt.Circle((0, 0), Dcircle, color=html_rgb)\n",
    "    ax2.add_patch(Circle)\n",
    "    ax2.set_aspect('equal')\n",
    "    ax2.set_xlim(-Dcircle*1.2,Dcircle*1.2)\n",
    "    ax2.set_ylim(-Dcircle*1.2,Dcircle*1.2)\n",
    "    ax2.set_xticks([])\n",
    "    ax2.set_yticks([])\n",
    "    ax2.set_facecolor('k')"
   ]
  },
  {
   "cell_type": "code",
   "execution_count": 8,
   "id": "f3b08336",
   "metadata": {
    "cell_style": "center",
    "slideshow": {
     "slide_type": "slide"
    }
   },
   "outputs": [
    {
     "data": {
      "application/vnd.jupyter.widget-view+json": {
       "model_id": "8960218f0aea46c683b3ad013483062a",
       "version_major": 2,
       "version_minor": 0
      },
      "text/plain": [
       "interactive(children=(FloatSlider(value=0.0, description='theta_sun', max=89.99), Output()), _dom_classes=('wi…"
      ]
     },
     "metadata": {},
     "output_type": "display_data"
    }
   ],
   "source": [
    "from ipywidgets import interact\n",
    "\n",
    "@interact(theta_sun=(0,89.99,0.1))\n",
    "def g(theta_sun=0):\n",
    "    return plot_atmosphere(theta_sun)"
   ]
  },
  {
   "cell_type": "markdown",
   "id": "8aa6d072",
   "metadata": {
    "cell_style": "center",
    "slideshow": {
     "slide_type": "slide"
    }
   },
   "source": [
    "### Pelicula de material particulado (simulaciones de transferencia radiativa)\n",
    "Este caso corresponde a materiales con $\\Lambda_\\mathrm{sca} > t_\\mathrm{film}$. En este caso los eventos de scattering se producen más de una vez, y decimos que estámos en un régimen de **scattering múltiple**. Como resultado, los tres términos de la RTE son relevantes y debemos resolver la ecuación mediante simulación computacional.\n",
    "\n",
    "<img src=\"./images/multiple_scattering.png\" width=\"400px\" align= center>\n",
    "\n",
    "<center>Transporte de luz en un medio con scattering múltiple</center>"
   ]
  },
  {
   "cell_type": "markdown",
   "id": "bea5c468",
   "metadata": {
    "slideshow": {
     "slide_type": "slide"
    }
   },
   "source": [
    "Consideremos un material de sílice de espesor $t_\\mathrm{film} = 5~\\mathrm{mm}$. Evaluaremos los colores de este material en transmisión y reflección para luz incidente normal a la superficie en función de la concentración y el diámetro de las partículas. Utilizamos la función ```ad_rad_transfer``` de la librería ```empylib.rad_transfer```"
   ]
  },
  {
   "cell_type": "code",
   "execution_count": 9,
   "id": "24c8d4d6",
   "metadata": {
    "slideshow": {
     "slide_type": "slide"
    }
   },
   "outputs": [],
   "source": [
    "import empylib.rad_transfer as rt\n",
    "import empylib.nklib as nk\n",
    "import empylib.miescattering as mie\n",
    "import numpy as np\n",
    "import matplotlib.pyplot as plt\n",
    "\n",
    "lam2 = np.linspace(0.3,1.0,100) # espectro de longitudes de onda en micrometros\n",
    "Nlayers = (1.0,1.5,1.0)   # indice de refracción superior, intermedio e inferior\n",
    "Np = nk.silver(lam2)                # Índice de refracción de las partículas\n",
    "cs.interp_internals(lam2)\n",
    "\n",
    "def plot_glass_silver(fv,D):\n",
    "    # parámetros de entrada\n",
    "    \n",
    "    theta = np.radians(0)       # 0 grados en radianes\n",
    "    tfilm = 5                   # espesor en milímetros\n",
    "    \n",
    "    fv = fv*1E-7                # fracción de volúmen de las partículas\n",
    "    D = D*1E-3                  # diámetro de las partículas\n",
    "    \n",
    "    qext, qsca = mie.scatter_efficiency(lam2,Nlayers[1],Np,D)[:2]\n",
    "    qabs = qext - qsca\n",
    "    Rtot, Ttot = rt.ad_rad_transfer(lam2,tfilm,Nlayers,fv,D,Np)\n",
    "\n",
    "    fig, ax = plt.subplots(1,3)\n",
    "    fig.set_size_inches(20, 5)\n",
    "    plt.rcParams['font.size'] = '16'\n",
    "    \n",
    "    ax[0].plot(lam2,qsca,'-r',label='$C_\\mathrm{sca} A_c$')\n",
    "    ax[0].plot(lam2,qabs,'-b',label='$C_\\mathrm{abs} A_c$')\n",
    "    ax[0].set_xlabel('Longitud de onda ($\\mu$m)')\n",
    "    ax[0].set_ylabel('Eficiencia transversal')\n",
    "    ax[0].set_title('Partícula de plata (D=%.0f nm)' % (D*1E3))\n",
    "    ax[0].legend()\n",
    "    ax[0].set_ylim(0,10)\n",
    "    \n",
    "    ax[1].plot(lam2,Rtot,'-r',label = 'Rtot')\n",
    "    ax[1].plot(lam2,Ttot,'-b',label = 'Ttot')\n",
    "    ax[1].set_xlabel('Longitud de onda ($\\mu$m)')\n",
    "    ax[1].set_ylabel('Transmisividad')\n",
    "    ax[1].set_title(r'Sílice con plata (fv = %.3e %%)' % (fv*100) )\n",
    "    ax[1].legend()\n",
    "    ax[1].set_ylim(0,1)\n",
    "\n",
    "    Dcircle = 0.20\n",
    "    html_rgb = cs.spec_to_rgb(Ttot*AM15(lam2), out_fmt='html')\n",
    "    Circle = plt.Circle((0, 0), Dcircle, color=html_rgb)\n",
    "    ax[2].add_patch(Circle)\n",
    "    ax[2].annotate('Luz Trasera', xy=(0, 0), va='center', ha='center')\n",
    "\n",
    "    html_rgb = cs.spec_to_rgb(Rtot*AM15(lam2), out_fmt='html')\n",
    "    Circle = plt.Circle((Dcircle*1.2*2, 0), Dcircle, color=html_rgb)\n",
    "    ax[2].add_patch(Circle)\n",
    "    ax[2].annotate('Luz Frontal', xy=(Dcircle*1.2*2, 0), va='center', ha='center')\n",
    "\n",
    "    ax[2].set_aspect('equal')\n",
    "    ax[2].set_xlim(-Dcircle*1.2,Dcircle*1.2*3)\n",
    "    ax[2].set_ylim(-Dcircle*1.2,Dcircle*1.2)\n",
    "    ax[2].set_xticks([])\n",
    "    ax[2].set_yticks([])\n",
    "    ax[2].set_facecolor('k')\n",
    "    plt.subplots_adjust(wspace=0.3)"
   ]
  },
  {
   "cell_type": "code",
   "execution_count": 10,
   "id": "494ceeb2",
   "metadata": {
    "cell_style": "center",
    "slideshow": {
     "slide_type": "slide"
    }
   },
   "outputs": [
    {
     "data": {
      "application/vnd.jupyter.widget-view+json": {
       "model_id": "ed371844e2f74be4bfb390dd2a6b37e2",
       "version_major": 2,
       "version_minor": 0
      },
      "text/plain": [
       "interactive(children=(IntSlider(value=20, description='fv', min=1), IntSlider(value=70, description='D', max=2…"
      ]
     },
     "metadata": {},
     "output_type": "display_data"
    }
   ],
   "source": [
    "from ipywidgets import interact\n",
    "\n",
    "@interact(fv=(1,100,1), D = (10,200,1))\n",
    "def g(fv=20, D = 70):\n",
    "    return plot_glass_silver(fv,D)"
   ]
  },
  {
   "cell_type": "markdown",
   "id": "031ca52b",
   "metadata": {
    "slideshow": {
     "slide_type": "slide"
    }
   },
   "source": [
    "Cuando la concentración de partículas es densa, el medio se vuelve opaco. Este régimen se denomina **scattering difuso** y permite explicar, entre otras cosas, el color de las nubes o la pintura blanca\n",
    "\n",
    "<img src=\"./images/diffuse_scattering.png\" width=\"400px\" align= center>\n",
    "\n",
    "<center>Transporte de luz en un medio con scattering difuso</center>"
   ]
  },
  {
   "cell_type": "markdown",
   "id": "01df5bd6",
   "metadata": {
    "slideshow": {
     "slide_type": "slide"
    }
   },
   "source": [
    "Un ejemplo interesante corresponde a la leche. En términos simples, la leche es una emulsión formada por pequeñas partículas de grasa dispersas en un medio acuoso. \n",
    "\n",
    "<img src=\"./images/milk_microscope.png\" width=\"400px\" align= center>\n",
    "\n",
    "<center>Imagen de microscópio (40x) de leche orgánica. Las burbujas verdes corresponden al aceite en suspención en agua.</center>\n",
    "\n",
    "Fuente: [Braun K., Hanewald A. and Vilgis T. Foods 8(10): 483(2019)](https://www.ncbi.nlm.nih.gov/pmc/articles/PMC6836175/)"
   ]
  },
  {
   "cell_type": "markdown",
   "id": "225b5528",
   "metadata": {
    "slideshow": {
     "slide_type": "fragment"
    }
   },
   "source": [
    "Como aproximación, consideremos un medio de espesor $1$ cm, compuesto por agua $N_h = 1.3$ y pequeñas partículas esféricas de aceite $N_p = 1.5$. La emulsión considera un 60% de partículas de aceite por volumen."
   ]
  },
  {
   "cell_type": "code",
   "execution_count": 11,
   "id": "72cbfc3e",
   "metadata": {
    "cell_style": "split",
    "slideshow": {
     "slide_type": "slide"
    }
   },
   "outputs": [],
   "source": [
    "%%capture showplot\n",
    "# import empylib.nklib as nk\n",
    "import numpy as np\n",
    "import empylib.rad_transfer as rt\n",
    "\n",
    "# Solo modificar estos parámetros\n",
    "#---------------------------------------------------------------\n",
    "lam3 = np.linspace(0.3,1.0,100)   # espectro de longitudes de onda\n",
    "tfilm = 10                        # espesor en milímetros\n",
    "fv = 0.60                          # fracción de volúmen de los poros\n",
    "D = 1.0                           # diámetro de los poros (micrones)\n",
    "Nh2o = 1.3                        # Índice de refracción del agua\n",
    "Noil = 1.5                        # índice de refracción partículas de aceite\n",
    "#---------------------------------------------------------------\n",
    "Rtot, Ttot = rt.ad_rad_transfer(lam3,tfilm,(1.0,Nh2o,1.0),fv,D,Noil)\n",
    "\n",
    "fig, ax = plt.subplots()\n",
    "fig.set_size_inches(7, 5)\n",
    "plt.rcParams['font.size'] = '16'\n",
    "ax.plot(lam3,Rtot,'-r',label='R')\n",
    "ax.plot(lam3,Ttot,'-b',label='T')\n",
    "ax.set_xlabel('Longitud de onda ($\\mu$m)')\n",
    "ax.set_ylabel('Reflectividad / Transmisividad')\n",
    "ax.set_title(r'Leche (fv = %.0f %%)' % (fv*100))\n",
    "ax.legend()\n",
    "ax.set_ylim(0,1.02)\n",
    "plt.show"
   ]
  },
  {
   "cell_type": "code",
   "execution_count": 12,
   "id": "9a1291f7",
   "metadata": {
    "cell_style": "split",
    "slideshow": {
     "slide_type": "fragment"
    }
   },
   "outputs": [
    {
     "data": {
      "text/plain": [
       "<function matplotlib.pyplot.show(close=None, block=None)>"
      ]
     },
     "metadata": {},
     "output_type": "display_data"
    },
    {
     "data": {
      "image/png": "[encoded data removed]",
      "text/plain": [
       "<Figure size 504x360 with 1 Axes>"
      ]
     },
     "metadata": {
      "filenames": {
       "image/png": "/mnt/d/OneDrive - Universidad Adolfo Ibanez/Teaching_courses/Manejo_y_Conversion_Energia_Solar_Termica/material_catedra/_build/jupyter_execute/5_TransporteRadiativo/5_TransporteRadiativo_68_1.png"
      },
      "needs_background": "light"
     },
     "output_type": "display_data"
    }
   ],
   "source": [
    "showplot()"
   ]
  },
  {
   "cell_type": "markdown",
   "id": "6c035f58",
   "metadata": {
    "slideshow": {
     "slide_type": "slide"
    }
   },
   "source": [
    "Como vemos la alta concentración de partículas hace que la refletividad y transmisividad se vuelvan casi uniformes para todas las longitudes de onda. El espectro, así, toma un color blanco frente a una fuente de luz blanca."
   ]
  },
  {
   "cell_type": "markdown",
   "id": "17c1dc23",
   "metadata": {
    "slideshow": {
     "slide_type": "slide"
    }
   },
   "source": [
    "## Referencias\n",
    "- Chen G. **Chapter 5 - Energy Transfer by Waves** in *Nanoscale energy transport and conversion*, 1st Ed, Oxford University Press, 2005"
   ]
  }
 ],
 "metadata": {
  "celltoolbar": "Slideshow",
  "kernelspec": {
   "display_name": "Python 3 (ipykernel)",
   "language": "python",
   "name": "python3"
  },
  "language_info": {
   "codemirror_mode": {
    "name": "ipython",
    "version": 3
   },
   "file_extension": ".py",
   "mimetype": "text/x-python",
   "name": "python",
   "nbconvert_exporter": "python",
   "pygments_lexer": "ipython3",
   "version": "3.9.13"
  },
  "latex_envs": {
   "LaTeX_envs_menu_present": false,
   "autoclose": false,
   "autocomplete": false,
   "bibliofile": "biblio.bib",
   "cite_by": "apalike",
   "current_citInitial": 1,
   "eqLabelWithNumbers": true,
   "eqNumInitial": 2,
   "hotkeys": {
    "equation": "Ctrl-E",
    "itemize": "Ctrl-I"
   },
   "labels_anchors": false,
   "latex_user_defs": false,
   "report_style_numbering": false,
   "user_envs_cfg": true
  },
  "toc": {
   "base_numbering": 1,
   "nav_menu": {},
   "number_sections": false,
   "sideBar": true,
   "skip_h1_title": true,
   "title_cell": "Tabla de contenidos",
   "title_sidebar": "Contenidos",
   "toc_cell": false,
   "toc_position": {
    "height": "calc(100% - 180px)",
    "left": "10px",
    "top": "150px",
    "width": "307.2px"
   },
   "toc_section_display": true,
   "toc_window_display": false
  },
  "varInspector": {
   "cols": {
    "lenName": 16,
    "lenType": 16,
    "lenVar": 40
   },
   "kernels_config": {
    "python": {
     "delete_cmd_postfix": "",
     "delete_cmd_prefix": "del ",
     "library": "var_list.py",
     "varRefreshCmd": "print(var_dic_list())"
    },
    "r": {
     "delete_cmd_postfix": ") ",
     "delete_cmd_prefix": "rm(",
     "library": "var_list.r",
     "varRefreshCmd": "cat(var_dic_list()) "
    }
   },
   "types_to_exclude": [
    "module",
    "function",
    "builtin_function_or_method",
    "instance",
    "_Feature"
   ],
   "window_display": false
  },
  "widgets": {
   "application/vnd.jupyter.widget-state+json": {
    "state": {
     "041eba3782fb4482aece09770f2a4131": {
      "model_module": "@jupyter-widgets/controls",
      "model_module_version": "1.5.0",
      "model_name": "FloatSliderModel",
      "state": {
       "_dom_classes": [],
       "_model_module": "@jupyter-widgets/controls",
       "_model_module_version": "1.5.0",
       "_model_name": "FloatSliderModel",
       "_view_count": null,
       "_view_module": "@jupyter-widgets/controls",
       "_view_module_version": "1.5.0",
       "_view_name": "FloatSliderView",
       "continuous_update": true,
       "description": "t",
       "description_tooltip": null,
       "disabled": false,
       "layout": "IPY_MODEL_26a850d50f1640ccb5d95ff6cebaf3e2",
       "max": 20.0,
       "min": 0.0,
       "orientation": "horizontal",
       "readout": true,
       "readout_format": ".2f",
       "step": 0.1,
       "style": "IPY_MODEL_2de7fa656e274441aedf7d2efe5630f8",
       "value": 2.0
      }
     },
     "1428b850828c4f7e86b5564f32e8c001": {
      "model_module": "@jupyter-widgets/controls",
      "model_module_version": "1.5.0",
      "model_name": "VBoxModel",
      "state": {
       "_dom_classes": [
        "widget-interact"
       ],
       "_model_module": "@jupyter-widgets/controls",
       "_model_module_version": "1.5.0",
       "_model_name": "VBoxModel",
       "_view_count": null,
       "_view_module": "@jupyter-widgets/controls",
       "_view_module_version": "1.5.0",
       "_view_name": "VBoxView",
       "box_style": "",
       "children": [
        "IPY_MODEL_c541994e5a0845288c63c1a8b82f4c7a",
        "IPY_MODEL_f207958fafc746e4b834433328ef0889",
        "IPY_MODEL_ab73e7d288834603ae67bf2234d86464",
        "IPY_MODEL_a68c325d63f24cbb9551991a15e24dac"
       ],
       "layout": "IPY_MODEL_a8a3030f6e594acfaa4b628170db233a"
      }
     },
     "160c11b873904689a63239bb054e7050": {
      "model_module": "@jupyter-widgets/output",
      "model_module_version": "1.0.0",
      "model_name": "OutputModel",
      "state": {
       "_dom_classes": [],
       "_model_module": "@jupyter-widgets/output",
       "_model_module_version": "1.0.0",
       "_model_name": "OutputModel",
       "_view_count": null,
       "_view_module": "@jupyter-widgets/output",
       "_view_module_version": "1.0.0",
       "_view_name": "OutputView",
       "layout": "IPY_MODEL_fde60041a6564c5e8c8ae389146b0dbc",
       "msg_id": "",
       "outputs": [
        {
         "data": {
          "image/png": "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\n",
          "text/plain": "<Figure size 648x360 with 1 Axes>"
         },
         "metadata": {
          "needs_background": "light"
         },
         "output_type": "display_data"
        }
       ]
      }
     },
     "1acba294274847eda51e29e0a1795b25": {
      "model_module": "@jupyter-widgets/base",
      "model_module_version": "1.2.0",
      "model_name": "LayoutModel",
      "state": {
       "_model_module": "@jupyter-widgets/base",
       "_model_module_version": "1.2.0",
       "_model_name": "LayoutModel",
       "_view_count": null,
       "_view_module": "@jupyter-widgets/base",
       "_view_module_version": "1.2.0",
       "_view_name": "LayoutView",
       "align_content": null,
       "align_items": null,
       "align_self": null,
       "border": null,
       "bottom": null,
       "display": null,
       "flex": null,
       "flex_flow": null,
       "grid_area": null,
       "grid_auto_columns": null,
       "grid_auto_flow": null,
       "grid_auto_rows": null,
       "grid_column": null,
       "grid_gap": null,
       "grid_row": null,
       "grid_template_areas": null,
       "grid_template_columns": null,
       "grid_template_rows": null,
       "height": null,
       "justify_content": null,
       "justify_items": null,
       "left": null,
       "margin": null,
       "max_height": null,
       "max_width": null,
       "min_height": null,
       "min_width": null,
       "object_fit": null,
       "object_position": null,
       "order": null,
       "overflow": null,
       "overflow_x": null,
       "overflow_y": null,
       "padding": null,
       "right": null,
       "top": null,
       "visibility": null,
       "width": null
      }
     },
     "226262a9e1d64198a7659b171445d563": {
      "model_module": "@jupyter-widgets/output",
      "model_module_version": "1.0.0",
      "model_name": "OutputModel",
      "state": {
       "_dom_classes": [],
       "_model_module": "@jupyter-widgets/output",
       "_model_module_version": "1.0.0",
       "_model_name": "OutputModel",
       "_view_count": null,
       "_view_module": "@jupyter-widgets/output",
       "_view_module_version": "1.0.0",
       "_view_name": "OutputView",
       "layout": "IPY_MODEL_4363b946b2dd4d7ebde867c83d5ae41c",
       "msg_id": "",
       "outputs": [
        {
         "data": {
          "image/png": "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\n",
          "text/plain": "<Figure size 1440x360 with 3 Axes>"
         },
         "metadata": {
          "needs_background": "light"
         },
         "output_type": "display_data"
        }
       ]
      }
     },
     "26a850d50f1640ccb5d95ff6cebaf3e2": {
      "model_module": "@jupyter-widgets/base",
      "model_module_version": "1.2.0",
      "model_name": "LayoutModel",
      "state": {
       "_model_module": "@jupyter-widgets/base",
       "_model_module_version": "1.2.0",
       "_model_name": "LayoutModel",
       "_view_count": null,
       "_view_module": "@jupyter-widgets/base",
       "_view_module_version": "1.2.0",
       "_view_name": "LayoutView",
       "align_content": null,
       "align_items": null,
       "align_self": null,
       "border": null,
       "bottom": null,
       "display": null,
       "flex": null,
       "flex_flow": null,
       "grid_area": null,
       "grid_auto_columns": null,
       "grid_auto_flow": null,
       "grid_auto_rows": null,
       "grid_column": null,
       "grid_gap": null,
       "grid_row": null,
       "grid_template_areas": null,
       "grid_template_columns": null,
       "grid_template_rows": null,
       "height": null,
       "justify_content": null,
       "justify_items": null,
       "left": null,
       "margin": null,
       "max_height": null,
       "max_width": null,
       "min_height": null,
       "min_width": null,
       "object_fit": null,
       "object_position": null,
       "order": null,
       "overflow": null,
       "overflow_x": null,
       "overflow_y": null,
       "padding": null,
       "right": null,
       "top": null,
       "visibility": null,
       "width": null
      }
     },
     "27db58a76d684d2587f0f904d52cd0f5": {
      "model_module": "@jupyter-widgets/controls",
      "model_module_version": "1.5.0",
      "model_name": "SliderStyleModel",
      "state": {
       "_model_module": "@jupyter-widgets/controls",
       "_model_module_version": "1.5.0",
       "_model_name": "SliderStyleModel",
       "_view_count": null,
       "_view_module": "@jupyter-widgets/base",
       "_view_module_version": "1.2.0",
       "_view_name": "StyleView",
       "description_width": "",
       "handle_color": null
      }
     },
     "2ac0bbbee2274b79a80213bb16ded289": {
      "model_module": "@jupyter-widgets/base",
      "model_module_version": "1.2.0",
      "model_name": "LayoutModel",
      "state": {
       "_model_module": "@jupyter-widgets/base",
       "_model_module_version": "1.2.0",
       "_model_name": "LayoutModel",
       "_view_count": null,
       "_view_module": "@jupyter-widgets/base",
       "_view_module_version": "1.2.0",
       "_view_name": "LayoutView",
       "align_content": null,
       "align_items": null,
       "align_self": null,
       "border": null,
       "bottom": null,
       "display": null,
       "flex": null,
       "flex_flow": null,
       "grid_area": null,
       "grid_auto_columns": null,
       "grid_auto_flow": null,
       "grid_auto_rows": null,
       "grid_column": null,
       "grid_gap": null,
       "grid_row": null,
       "grid_template_areas": null,
       "grid_template_columns": null,
       "grid_template_rows": null,
       "height": null,
       "justify_content": null,
       "justify_items": null,
       "left": null,
       "margin": null,
       "max_height": null,
       "max_width": null,
       "min_height": null,
       "min_width": null,
       "object_fit": null,
       "object_position": null,
       "order": null,
       "overflow": null,
       "overflow_x": null,
       "overflow_y": null,
       "padding": null,
       "right": null,
       "top": null,
       "visibility": null,
       "width": null
      }
     },
     "2d9c4e52f5ed42eeb9bcdf4373f97491": {
      "model_module": "@jupyter-widgets/controls",
      "model_module_version": "1.5.0",
      "model_name": "FloatSliderModel",
      "state": {
       "_dom_classes": [],
       "_model_module": "@jupyter-widgets/controls",
       "_model_module_version": "1.5.0",
       "_model_name": "FloatSliderModel",
       "_view_count": null,
       "_view_module": "@jupyter-widgets/controls",
       "_view_module_version": "1.5.0",
       "_view_name": "FloatSliderView",
       "continuous_update": true,
       "description": "sig",
       "description_tooltip": null,
       "disabled": false,
       "layout": "IPY_MODEL_afd1f47fd5ac4d67b4d83a490527a31f",
       "max": 1.0,
       "min": 0.0,
       "orientation": "horizontal",
       "readout": true,
       "readout_format": ".2f",
       "step": 0.01,
       "style": "IPY_MODEL_7f30b74a54f94a24b3aaa61f9c90bb8a",
       "value": 0.3
      }
     },
     "2de7fa656e274441aedf7d2efe5630f8": {
      "model_module": "@jupyter-widgets/controls",
      "model_module_version": "1.5.0",
      "model_name": "SliderStyleModel",
      "state": {
       "_model_module": "@jupyter-widgets/controls",
       "_model_module_version": "1.5.0",
       "_model_name": "SliderStyleModel",
       "_view_count": null,
       "_view_module": "@jupyter-widgets/base",
       "_view_module_version": "1.2.0",
       "_view_name": "StyleView",
       "description_width": "",
       "handle_color": null
      }
     },
     "2f7fc232f5fe4ed0b732dc52190795b8": {
      "model_module": "@jupyter-widgets/controls",
      "model_module_version": "1.5.0",
      "model_name": "IntSliderModel",
      "state": {
       "_dom_classes": [],
       "_model_module": "@jupyter-widgets/controls",
       "_model_module_version": "1.5.0",
       "_model_name": "IntSliderModel",
       "_view_count": null,
       "_view_module": "@jupyter-widgets/controls",
       "_view_module_version": "1.5.0",
       "_view_name": "IntSliderView",
       "continuous_update": true,
       "description": "D",
       "description_tooltip": null,
       "disabled": false,
       "layout": "IPY_MODEL_96e7089806a44d8dadd5bffe5ee6859a",
       "max": 200,
       "min": 10,
       "orientation": "horizontal",
       "readout": true,
       "readout_format": "d",
       "step": 1,
       "style": "IPY_MODEL_7ffe3c37df044199b4c55b870f394de9",
       "value": 70
      }
     },
     "4363b946b2dd4d7ebde867c83d5ae41c": {
      "model_module": "@jupyter-widgets/base",
      "model_module_version": "1.2.0",
      "model_name": "LayoutModel",
      "state": {
       "_model_module": "@jupyter-widgets/base",
       "_model_module_version": "1.2.0",
       "_model_name": "LayoutModel",
       "_view_count": null,
       "_view_module": "@jupyter-widgets/base",
       "_view_module_version": "1.2.0",
       "_view_name": "LayoutView",
       "align_content": null,
       "align_items": null,
       "align_self": null,
       "border": null,
       "bottom": null,
       "display": null,
       "flex": null,
       "flex_flow": null,
       "grid_area": null,
       "grid_auto_columns": null,
       "grid_auto_flow": null,
       "grid_auto_rows": null,
       "grid_column": null,
       "grid_gap": null,
       "grid_row": null,
       "grid_template_areas": null,
       "grid_template_columns": null,
       "grid_template_rows": null,
       "height": null,
       "justify_content": null,
       "justify_items": null,
       "left": null,
       "margin": null,
       "max_height": null,
       "max_width": null,
       "min_height": null,
       "min_width": null,
       "object_fit": null,
       "object_position": null,
       "order": null,
       "overflow": null,
       "overflow_x": null,
       "overflow_y": null,
       "padding": null,
       "right": null,
       "top": null,
       "visibility": null,
       "width": null
      }
     },
     "49b096d5364e4094a96a02d8d3558891": {
      "model_module": "@jupyter-widgets/base",
      "model_module_version": "1.2.0",
      "model_name": "LayoutModel",
      "state": {
       "_model_module": "@jupyter-widgets/base",
       "_model_module_version": "1.2.0",
       "_model_name": "LayoutModel",
       "_view_count": null,
       "_view_module": "@jupyter-widgets/base",
       "_view_module_version": "1.2.0",
       "_view_name": "LayoutView",
       "align_content": null,
       "align_items": null,
       "align_self": null,
       "border": null,
       "bottom": null,
       "display": null,
       "flex": null,
       "flex_flow": null,
       "grid_area": null,
       "grid_auto_columns": null,
       "grid_auto_flow": null,
       "grid_auto_rows": null,
       "grid_column": null,
       "grid_gap": null,
       "grid_row": null,
       "grid_template_areas": null,
       "grid_template_columns": null,
       "grid_template_rows": null,
       "height": null,
       "justify_content": null,
       "justify_items": null,
       "left": null,
       "margin": null,
       "max_height": null,
       "max_width": null,
       "min_height": null,
       "min_width": null,
       "object_fit": null,
       "object_position": null,
       "order": null,
       "overflow": null,
       "overflow_x": null,
       "overflow_y": null,
       "padding": null,
       "right": null,
       "top": null,
       "visibility": null,
       "width": null
      }
     },
     "4b4d4b25e2814e64b2f80ca63ad21e34": {
      "model_module": "@jupyter-widgets/controls",
      "model_module_version": "1.5.0",
      "model_name": "FloatSliderModel",
      "state": {
       "_dom_classes": [],
       "_model_module": "@jupyter-widgets/controls",
       "_model_module_version": "1.5.0",
       "_model_name": "FloatSliderModel",
       "_view_count": null,
       "_view_module": "@jupyter-widgets/controls",
       "_view_module_version": "1.5.0",
       "_view_name": "FloatSliderView",
       "continuous_update": true,
       "description": "theta_sun",
       "description_tooltip": null,
       "disabled": false,
       "layout": "IPY_MODEL_2ac0bbbee2274b79a80213bb16ded289",
       "max": 89.99,
       "min": 0.0,
       "orientation": "horizontal",
       "readout": true,
       "readout_format": ".2f",
       "step": 0.1,
       "style": "IPY_MODEL_27db58a76d684d2587f0f904d52cd0f5",
       "value": 0.0
      }
     },
     "4d72bd4d295242c080d814bb9cb7f91a": {
      "model_module": "@jupyter-widgets/controls",
      "model_module_version": "1.5.0",
      "model_name": "SliderStyleModel",
      "state": {
       "_model_module": "@jupyter-widgets/controls",
       "_model_module_version": "1.5.0",
       "_model_name": "SliderStyleModel",
       "_view_count": null,
       "_view_module": "@jupyter-widgets/base",
       "_view_module_version": "1.2.0",
       "_view_name": "StyleView",
       "description_width": "",
       "handle_color": null
      }
     },
     "54ecc8fc7bc74fdf8332f5cfb7c74670": {
      "model_module": "@jupyter-widgets/base",
      "model_module_version": "1.2.0",
      "model_name": "LayoutModel",
      "state": {
       "_model_module": "@jupyter-widgets/base",
       "_model_module_version": "1.2.0",
       "_model_name": "LayoutModel",
       "_view_count": null,
       "_view_module": "@jupyter-widgets/base",
       "_view_module_version": "1.2.0",
       "_view_name": "LayoutView",
       "align_content": null,
       "align_items": null,
       "align_self": null,
       "border": null,
       "bottom": null,
       "display": null,
       "flex": null,
       "flex_flow": null,
       "grid_area": null,
       "grid_auto_columns": null,
       "grid_auto_flow": null,
       "grid_auto_rows": null,
       "grid_column": null,
       "grid_gap": null,
       "grid_row": null,
       "grid_template_areas": null,
       "grid_template_columns": null,
       "grid_template_rows": null,
       "height": null,
       "justify_content": null,
       "justify_items": null,
       "left": null,
       "margin": null,
       "max_height": null,
       "max_width": null,
       "min_height": null,
       "min_width": null,
       "object_fit": null,
       "object_position": null,
       "order": null,
       "overflow": null,
       "overflow_x": null,
       "overflow_y": null,
       "padding": null,
       "right": null,
       "top": null,
       "visibility": null,
       "width": null
      }
     },
     "6d169067485d45a1985077fcdda4feee": {
      "model_module": "@jupyter-widgets/controls",
      "model_module_version": "1.5.0",
      "model_name": "IntSliderModel",
      "state": {
       "_dom_classes": [],
       "_model_module": "@jupyter-widgets/controls",
       "_model_module_version": "1.5.0",
       "_model_name": "IntSliderModel",
       "_view_count": null,
       "_view_module": "@jupyter-widgets/controls",
       "_view_module_version": "1.5.0",
       "_view_name": "IntSliderView",
       "continuous_update": true,
       "description": "fv",
       "description_tooltip": null,
       "disabled": false,
       "layout": "IPY_MODEL_54ecc8fc7bc74fdf8332f5cfb7c74670",
       "max": 100,
       "min": 1,
       "orientation": "horizontal",
       "readout": true,
       "readout_format": "d",
       "step": 1,
       "style": "IPY_MODEL_4d72bd4d295242c080d814bb9cb7f91a",
       "value": 20
      }
     },
     "7e07c468949344f3aa9bf8b16ba759e3": {
      "model_module": "@jupyter-widgets/controls",
      "model_module_version": "1.5.0",
      "model_name": "SliderStyleModel",
      "state": {
       "_model_module": "@jupyter-widgets/controls",
       "_model_module_version": "1.5.0",
       "_model_name": "SliderStyleModel",
       "_view_count": null,
       "_view_module": "@jupyter-widgets/base",
       "_view_module_version": "1.2.0",
       "_view_name": "StyleView",
       "description_width": "",
       "handle_color": null
      }
     },
     "7f30b74a54f94a24b3aaa61f9c90bb8a": {
      "model_module": "@jupyter-widgets/controls",
      "model_module_version": "1.5.0",
      "model_name": "SliderStyleModel",
      "state": {
       "_model_module": "@jupyter-widgets/controls",
       "_model_module_version": "1.5.0",
       "_model_name": "SliderStyleModel",
       "_view_count": null,
       "_view_module": "@jupyter-widgets/base",
       "_view_module_version": "1.2.0",
       "_view_name": "StyleView",
       "description_width": "",
       "handle_color": null
      }
     },
     "7ffe3c37df044199b4c55b870f394de9": {
      "model_module": "@jupyter-widgets/controls",
      "model_module_version": "1.5.0",
      "model_name": "SliderStyleModel",
      "state": {
       "_model_module": "@jupyter-widgets/controls",
       "_model_module_version": "1.5.0",
       "_model_name": "SliderStyleModel",
       "_view_count": null,
       "_view_module": "@jupyter-widgets/base",
       "_view_module_version": "1.2.0",
       "_view_name": "StyleView",
       "description_width": "",
       "handle_color": null
      }
     },
     "8115499a065142febbbb91910fb6015d": {
      "model_module": "@jupyter-widgets/base",
      "model_module_version": "1.2.0",
      "model_name": "LayoutModel",
      "state": {
       "_model_module": "@jupyter-widgets/base",
       "_model_module_version": "1.2.0",
       "_model_name": "LayoutModel",
       "_view_count": null,
       "_view_module": "@jupyter-widgets/base",
       "_view_module_version": "1.2.0",
       "_view_name": "LayoutView",
       "align_content": null,
       "align_items": null,
       "align_self": null,
       "border": null,
       "bottom": null,
       "display": null,
       "flex": null,
       "flex_flow": null,
       "grid_area": null,
       "grid_auto_columns": null,
       "grid_auto_flow": null,
       "grid_auto_rows": null,
       "grid_column": null,
       "grid_gap": null,
       "grid_row": null,
       "grid_template_areas": null,
       "grid_template_columns": null,
       "grid_template_rows": null,
       "height": null,
       "justify_content": null,
       "justify_items": null,
       "left": null,
       "margin": null,
       "max_height": null,
       "max_width": null,
       "min_height": null,
       "min_width": null,
       "object_fit": null,
       "object_position": null,
       "order": null,
       "overflow": null,
       "overflow_x": null,
       "overflow_y": null,
       "padding": null,
       "right": null,
       "top": null,
       "visibility": null,
       "width": null
      }
     },
     "815b2340915549f0989779f311b1d416": {
      "model_module": "@jupyter-widgets/base",
      "model_module_version": "1.2.0",
      "model_name": "LayoutModel",
      "state": {
       "_model_module": "@jupyter-widgets/base",
       "_model_module_version": "1.2.0",
       "_model_name": "LayoutModel",
       "_view_count": null,
       "_view_module": "@jupyter-widgets/base",
       "_view_module_version": "1.2.0",
       "_view_name": "LayoutView",
       "align_content": null,
       "align_items": null,
       "align_self": null,
       "border": null,
       "bottom": null,
       "display": null,
       "flex": null,
       "flex_flow": null,
       "grid_area": null,
       "grid_auto_columns": null,
       "grid_auto_flow": null,
       "grid_auto_rows": null,
       "grid_column": null,
       "grid_gap": null,
       "grid_row": null,
       "grid_template_areas": null,
       "grid_template_columns": null,
       "grid_template_rows": null,
       "height": null,
       "justify_content": null,
       "justify_items": null,
       "left": null,
       "margin": null,
       "max_height": null,
       "max_width": null,
       "min_height": null,
       "min_width": null,
       "object_fit": null,
       "object_position": null,
       "order": null,
       "overflow": null,
       "overflow_x": null,
       "overflow_y": null,
       "padding": null,
       "right": null,
       "top": null,
       "visibility": null,
       "width": null
      }
     },
     "84778ddeb6eb4d0eb3d832b5cb9f7442": {
      "model_module": "@jupyter-widgets/base",
      "model_module_version": "1.2.0",
      "model_name": "LayoutModel",
      "state": {
       "_model_module": "@jupyter-widgets/base",
       "_model_module_version": "1.2.0",
       "_model_name": "LayoutModel",
       "_view_count": null,
       "_view_module": "@jupyter-widgets/base",
       "_view_module_version": "1.2.0",
       "_view_name": "LayoutView",
       "align_content": null,
       "align_items": null,
       "align_self": null,
       "border": null,
       "bottom": null,
       "display": null,
       "flex": null,
       "flex_flow": null,
       "grid_area": null,
       "grid_auto_columns": null,
       "grid_auto_flow": null,
       "grid_auto_rows": null,
       "grid_column": null,
       "grid_gap": null,
       "grid_row": null,
       "grid_template_areas": null,
       "grid_template_columns": null,
       "grid_template_rows": null,
       "height": null,
       "justify_content": null,
       "justify_items": null,
       "left": null,
       "margin": null,
       "max_height": null,
       "max_width": null,
       "min_height": null,
       "min_width": null,
       "object_fit": null,
       "object_position": null,
       "order": null,
       "overflow": null,
       "overflow_x": null,
       "overflow_y": null,
       "padding": null,
       "right": null,
       "top": null,
       "visibility": null,
       "width": null
      }
     },
     "889f74bb21ac4d51983dfe4cb7a9adcc": {
      "model_module": "@jupyter-widgets/output",
      "model_module_version": "1.0.0",
      "model_name": "OutputModel",
      "state": {
       "_dom_classes": [],
       "_model_module": "@jupyter-widgets/output",
       "_model_module_version": "1.0.0",
       "_model_name": "OutputModel",
       "_view_count": null,
       "_view_module": "@jupyter-widgets/output",
       "_view_module_version": "1.0.0",
       "_view_name": "OutputView",
       "layout": "IPY_MODEL_bc333920a9b2448d96f563ed90b1f4d2",
       "msg_id": "",
       "outputs": [
        {
         "data": {
          "image/png": "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\n",
          "text/plain": "<Figure size 576x360 with 2 Axes>"
         },
         "metadata": {
          "needs_background": "light"
         },
         "output_type": "display_data"
        }
       ]
      }
     },
     "8960218f0aea46c683b3ad013483062a": {
      "model_module": "@jupyter-widgets/controls",
      "model_module_version": "1.5.0",
      "model_name": "VBoxModel",
      "state": {
       "_dom_classes": [
        "widget-interact"
       ],
       "_model_module": "@jupyter-widgets/controls",
       "_model_module_version": "1.5.0",
       "_model_name": "VBoxModel",
       "_view_count": null,
       "_view_module": "@jupyter-widgets/controls",
       "_view_module_version": "1.5.0",
       "_view_name": "VBoxView",
       "box_style": "",
       "children": [
        "IPY_MODEL_4b4d4b25e2814e64b2f80ca63ad21e34",
        "IPY_MODEL_889f74bb21ac4d51983dfe4cb7a9adcc"
       ],
       "layout": "IPY_MODEL_cb50310371e94a5d90ca5eae16e4ff52"
      }
     },
     "8c8fa3925ce84dff91afbb103ca7efc3": {
      "model_module": "@jupyter-widgets/controls",
      "model_module_version": "1.5.0",
      "model_name": "VBoxModel",
      "state": {
       "_dom_classes": [
        "widget-interact"
       ],
       "_model_module": "@jupyter-widgets/controls",
       "_model_module_version": "1.5.0",
       "_model_name": "VBoxModel",
       "_view_count": null,
       "_view_module": "@jupyter-widgets/controls",
       "_view_module_version": "1.5.0",
       "_view_name": "VBoxView",
       "box_style": "",
       "children": [
        "IPY_MODEL_d48bc0a9d37d4c399ce25231bef315ac",
        "IPY_MODEL_041eba3782fb4482aece09770f2a4131",
        "IPY_MODEL_2d9c4e52f5ed42eeb9bcdf4373f97491",
        "IPY_MODEL_160c11b873904689a63239bb054e7050"
       ],
       "layout": "IPY_MODEL_815b2340915549f0989779f311b1d416"
      }
     },
     "96e7089806a44d8dadd5bffe5ee6859a": {
      "model_module": "@jupyter-widgets/base",
      "model_module_version": "1.2.0",
      "model_name": "LayoutModel",
      "state": {
       "_model_module": "@jupyter-widgets/base",
       "_model_module_version": "1.2.0",
       "_model_name": "LayoutModel",
       "_view_count": null,
       "_view_module": "@jupyter-widgets/base",
       "_view_module_version": "1.2.0",
       "_view_name": "LayoutView",
       "align_content": null,
       "align_items": null,
       "align_self": null,
       "border": null,
       "bottom": null,
       "display": null,
       "flex": null,
       "flex_flow": null,
       "grid_area": null,
       "grid_auto_columns": null,
       "grid_auto_flow": null,
       "grid_auto_rows": null,
       "grid_column": null,
       "grid_gap": null,
       "grid_row": null,
       "grid_template_areas": null,
       "grid_template_columns": null,
       "grid_template_rows": null,
       "height": null,
       "justify_content": null,
       "justify_items": null,
       "left": null,
       "margin": null,
       "max_height": null,
       "max_width": null,
       "min_height": null,
       "min_width": null,
       "object_fit": null,
       "object_position": null,
       "order": null,
       "overflow": null,
       "overflow_x": null,
       "overflow_y": null,
       "padding": null,
       "right": null,
       "top": null,
       "visibility": null,
       "width": null
      }
     },
     "a512c42021194ed7ba9b10b3360ee9b9": {
      "model_module": "@jupyter-widgets/controls",
      "model_module_version": "1.5.0",
      "model_name": "SliderStyleModel",
      "state": {
       "_model_module": "@jupyter-widgets/controls",
       "_model_module_version": "1.5.0",
       "_model_name": "SliderStyleModel",
       "_view_count": null,
       "_view_module": "@jupyter-widgets/base",
       "_view_module_version": "1.2.0",
       "_view_name": "StyleView",
       "description_width": "",
       "handle_color": null
      }
     },
     "a68c325d63f24cbb9551991a15e24dac": {
      "model_module": "@jupyter-widgets/output",
      "model_module_version": "1.0.0",
      "model_name": "OutputModel",
      "state": {
       "_dom_classes": [],
       "_model_module": "@jupyter-widgets/output",
       "_model_module_version": "1.0.0",
       "_model_name": "OutputModel",
       "_view_count": null,
       "_view_module": "@jupyter-widgets/output",
       "_view_module_version": "1.0.0",
       "_view_name": "OutputView",
       "layout": "IPY_MODEL_1acba294274847eda51e29e0a1795b25",
       "msg_id": "",
       "outputs": [
        {
         "data": {
          "image/png": "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\n",
          "text/plain": "<Figure size 648x360 with 1 Axes>"
         },
         "metadata": {
          "needs_background": "light"
         },
         "output_type": "display_data"
        }
       ]
      }
     },
     "a8a3030f6e594acfaa4b628170db233a": {
      "model_module": "@jupyter-widgets/base",
      "model_module_version": "1.2.0",
      "model_name": "LayoutModel",
      "state": {
       "_model_module": "@jupyter-widgets/base",
       "_model_module_version": "1.2.0",
       "_model_name": "LayoutModel",
       "_view_count": null,
       "_view_module": "@jupyter-widgets/base",
       "_view_module_version": "1.2.0",
       "_view_name": "LayoutView",
       "align_content": null,
       "align_items": null,
       "align_self": null,
       "border": null,
       "bottom": null,
       "display": null,
       "flex": null,
       "flex_flow": null,
       "grid_area": null,
       "grid_auto_columns": null,
       "grid_auto_flow": null,
       "grid_auto_rows": null,
       "grid_column": null,
       "grid_gap": null,
       "grid_row": null,
       "grid_template_areas": null,
       "grid_template_columns": null,
       "grid_template_rows": null,
       "height": null,
       "justify_content": null,
       "justify_items": null,
       "left": null,
       "margin": null,
       "max_height": null,
       "max_width": null,
       "min_height": null,
       "min_width": null,
       "object_fit": null,
       "object_position": null,
       "order": null,
       "overflow": null,
       "overflow_x": null,
       "overflow_y": null,
       "padding": null,
       "right": null,
       "top": null,
       "visibility": null,
       "width": null
      }
     },
     "ab73e7d288834603ae67bf2234d86464": {
      "model_module": "@jupyter-widgets/controls",
      "model_module_version": "1.5.0",
      "model_name": "FloatSliderModel",
      "state": {
       "_dom_classes": [],
       "_model_module": "@jupyter-widgets/controls",
       "_model_module_version": "1.5.0",
       "_model_name": "FloatSliderModel",
       "_view_count": null,
       "_view_module": "@jupyter-widgets/controls",
       "_view_module_version": "1.5.0",
       "_view_name": "FloatSliderView",
       "continuous_update": true,
       "description": "sig",
       "description_tooltip": null,
       "disabled": false,
       "layout": "IPY_MODEL_d3fb6ef112cc4055941948d22b8544ac",
       "max": 1.0,
       "min": 0.0,
       "orientation": "horizontal",
       "readout": true,
       "readout_format": ".2f",
       "step": 0.01,
       "style": "IPY_MODEL_b90382edeaa040d997bfcccb4675a041",
       "value": 0.3
      }
     },
     "afd1f47fd5ac4d67b4d83a490527a31f": {
      "model_module": "@jupyter-widgets/base",
      "model_module_version": "1.2.0",
      "model_name": "LayoutModel",
      "state": {
       "_model_module": "@jupyter-widgets/base",
       "_model_module_version": "1.2.0",
       "_model_name": "LayoutModel",
       "_view_count": null,
       "_view_module": "@jupyter-widgets/base",
       "_view_module_version": "1.2.0",
       "_view_name": "LayoutView",
       "align_content": null,
       "align_items": null,
       "align_self": null,
       "border": null,
       "bottom": null,
       "display": null,
       "flex": null,
       "flex_flow": null,
       "grid_area": null,
       "grid_auto_columns": null,
       "grid_auto_flow": null,
       "grid_auto_rows": null,
       "grid_column": null,
       "grid_gap": null,
       "grid_row": null,
       "grid_template_areas": null,
       "grid_template_columns": null,
       "grid_template_rows": null,
       "height": null,
       "justify_content": null,
       "justify_items": null,
       "left": null,
       "margin": null,
       "max_height": null,
       "max_width": null,
       "min_height": null,
       "min_width": null,
       "object_fit": null,
       "object_position": null,
       "order": null,
       "overflow": null,
       "overflow_x": null,
       "overflow_y": null,
       "padding": null,
       "right": null,
       "top": null,
       "visibility": null,
       "width": null
      }
     },
     "b3c66e9f595d4e168dbda4376c6d2bc9": {
      "model_module": "@jupyter-widgets/controls",
      "model_module_version": "1.5.0",
      "model_name": "SliderStyleModel",
      "state": {
       "_model_module": "@jupyter-widgets/controls",
       "_model_module_version": "1.5.0",
       "_model_name": "SliderStyleModel",
       "_view_count": null,
       "_view_module": "@jupyter-widgets/base",
       "_view_module_version": "1.2.0",
       "_view_name": "StyleView",
       "description_width": "",
       "handle_color": null
      }
     },
     "b90382edeaa040d997bfcccb4675a041": {
      "model_module": "@jupyter-widgets/controls",
      "model_module_version": "1.5.0",
      "model_name": "SliderStyleModel",
      "state": {
       "_model_module": "@jupyter-widgets/controls",
       "_model_module_version": "1.5.0",
       "_model_name": "SliderStyleModel",
       "_view_count": null,
       "_view_module": "@jupyter-widgets/base",
       "_view_module_version": "1.2.0",
       "_view_name": "StyleView",
       "description_width": "",
       "handle_color": null
      }
     },
     "bc333920a9b2448d96f563ed90b1f4d2": {
      "model_module": "@jupyter-widgets/base",
      "model_module_version": "1.2.0",
      "model_name": "LayoutModel",
      "state": {
       "_model_module": "@jupyter-widgets/base",
       "_model_module_version": "1.2.0",
       "_model_name": "LayoutModel",
       "_view_count": null,
       "_view_module": "@jupyter-widgets/base",
       "_view_module_version": "1.2.0",
       "_view_name": "LayoutView",
       "align_content": null,
       "align_items": null,
       "align_self": null,
       "border": null,
       "bottom": null,
       "display": null,
       "flex": null,
       "flex_flow": null,
       "grid_area": null,
       "grid_auto_columns": null,
       "grid_auto_flow": null,
       "grid_auto_rows": null,
       "grid_column": null,
       "grid_gap": null,
       "grid_row": null,
       "grid_template_areas": null,
       "grid_template_columns": null,
       "grid_template_rows": null,
       "height": null,
       "justify_content": null,
       "justify_items": null,
       "left": null,
       "margin": null,
       "max_height": null,
       "max_width": null,
       "min_height": null,
       "min_width": null,
       "object_fit": null,
       "object_position": null,
       "order": null,
       "overflow": null,
       "overflow_x": null,
       "overflow_y": null,
       "padding": null,
       "right": null,
       "top": null,
       "visibility": null,
       "width": null
      }
     },
     "c541994e5a0845288c63c1a8b82f4c7a": {
      "model_module": "@jupyter-widgets/controls",
      "model_module_version": "1.5.0",
      "model_name": "IntSliderModel",
      "state": {
       "_dom_classes": [],
       "_model_module": "@jupyter-widgets/controls",
       "_model_module_version": "1.5.0",
       "_model_name": "IntSliderModel",
       "_view_count": null,
       "_view_module": "@jupyter-widgets/controls",
       "_view_module_version": "1.5.0",
       "_view_name": "IntSliderView",
       "continuous_update": true,
       "description": "N",
       "description_tooltip": null,
       "disabled": false,
       "layout": "IPY_MODEL_49b096d5364e4094a96a02d8d3558891",
       "max": 1000,
       "min": 1,
       "orientation": "horizontal",
       "readout": true,
       "readout_format": "d",
       "step": 1,
       "style": "IPY_MODEL_b3c66e9f595d4e168dbda4376c6d2bc9",
       "value": 1000
      }
     },
     "cb50310371e94a5d90ca5eae16e4ff52": {
      "model_module": "@jupyter-widgets/base",
      "model_module_version": "1.2.0",
      "model_name": "LayoutModel",
      "state": {
       "_model_module": "@jupyter-widgets/base",
       "_model_module_version": "1.2.0",
       "_model_name": "LayoutModel",
       "_view_count": null,
       "_view_module": "@jupyter-widgets/base",
       "_view_module_version": "1.2.0",
       "_view_name": "LayoutView",
       "align_content": null,
       "align_items": null,
       "align_self": null,
       "border": null,
       "bottom": null,
       "display": null,
       "flex": null,
       "flex_flow": null,
       "grid_area": null,
       "grid_auto_columns": null,
       "grid_auto_flow": null,
       "grid_auto_rows": null,
       "grid_column": null,
       "grid_gap": null,
       "grid_row": null,
       "grid_template_areas": null,
       "grid_template_columns": null,
       "grid_template_rows": null,
       "height": null,
       "justify_content": null,
       "justify_items": null,
       "left": null,
       "margin": null,
       "max_height": null,
       "max_width": null,
       "min_height": null,
       "min_width": null,
       "object_fit": null,
       "object_position": null,
       "order": null,
       "overflow": null,
       "overflow_x": null,
       "overflow_y": null,
       "padding": null,
       "right": null,
       "top": null,
       "visibility": null,
       "width": null
      }
     },
     "d3fb6ef112cc4055941948d22b8544ac": {
      "model_module": "@jupyter-widgets/base",
      "model_module_version": "1.2.0",
      "model_name": "LayoutModel",
      "state": {
       "_model_module": "@jupyter-widgets/base",
       "_model_module_version": "1.2.0",
       "_model_name": "LayoutModel",
       "_view_count": null,
       "_view_module": "@jupyter-widgets/base",
       "_view_module_version": "1.2.0",
       "_view_name": "LayoutView",
       "align_content": null,
       "align_items": null,
       "align_self": null,
       "border": null,
       "bottom": null,
       "display": null,
       "flex": null,
       "flex_flow": null,
       "grid_area": null,
       "grid_auto_columns": null,
       "grid_auto_flow": null,
       "grid_auto_rows": null,
       "grid_column": null,
       "grid_gap": null,
       "grid_row": null,
       "grid_template_areas": null,
       "grid_template_columns": null,
       "grid_template_rows": null,
       "height": null,
       "justify_content": null,
       "justify_items": null,
       "left": null,
       "margin": null,
       "max_height": null,
       "max_width": null,
       "min_height": null,
       "min_width": null,
       "object_fit": null,
       "object_position": null,
       "order": null,
       "overflow": null,
       "overflow_x": null,
       "overflow_y": null,
       "padding": null,
       "right": null,
       "top": null,
       "visibility": null,
       "width": null
      }
     },
     "d48bc0a9d37d4c399ce25231bef315ac": {
      "model_module": "@jupyter-widgets/controls",
      "model_module_version": "1.5.0",
      "model_name": "IntSliderModel",
      "state": {
       "_dom_classes": [],
       "_model_module": "@jupyter-widgets/controls",
       "_model_module_version": "1.5.0",
       "_model_name": "IntSliderModel",
       "_view_count": null,
       "_view_module": "@jupyter-widgets/controls",
       "_view_module_version": "1.5.0",
       "_view_name": "IntSliderView",
       "continuous_update": true,
       "description": "N",
       "description_tooltip": null,
       "disabled": false,
       "layout": "IPY_MODEL_eabcf515fd534f92b5c1e90f9473143d",
       "max": 1000,
       "min": 1,
       "orientation": "horizontal",
       "readout": true,
       "readout_format": "d",
       "step": 1,
       "style": "IPY_MODEL_7e07c468949344f3aa9bf8b16ba759e3",
       "value": 1000
      }
     },
     "eabcf515fd534f92b5c1e90f9473143d": {
      "model_module": "@jupyter-widgets/base",
      "model_module_version": "1.2.0",
      "model_name": "LayoutModel",
      "state": {
       "_model_module": "@jupyter-widgets/base",
       "_model_module_version": "1.2.0",
       "_model_name": "LayoutModel",
       "_view_count": null,
       "_view_module": "@jupyter-widgets/base",
       "_view_module_version": "1.2.0",
       "_view_name": "LayoutView",
       "align_content": null,
       "align_items": null,
       "align_self": null,
       "border": null,
       "bottom": null,
       "display": null,
       "flex": null,
       "flex_flow": null,
       "grid_area": null,
       "grid_auto_columns": null,
       "grid_auto_flow": null,
       "grid_auto_rows": null,
       "grid_column": null,
       "grid_gap": null,
       "grid_row": null,
       "grid_template_areas": null,
       "grid_template_columns": null,
       "grid_template_rows": null,
       "height": null,
       "justify_content": null,
       "justify_items": null,
       "left": null,
       "margin": null,
       "max_height": null,
       "max_width": null,
       "min_height": null,
       "min_width": null,
       "object_fit": null,
       "object_position": null,
       "order": null,
       "overflow": null,
       "overflow_x": null,
       "overflow_y": null,
       "padding": null,
       "right": null,
       "top": null,
       "visibility": null,
       "width": null
      }
     },
     "ed371844e2f74be4bfb390dd2a6b37e2": {
      "model_module": "@jupyter-widgets/controls",
      "model_module_version": "1.5.0",
      "model_name": "VBoxModel",
      "state": {
       "_dom_classes": [
        "widget-interact"
       ],
       "_model_module": "@jupyter-widgets/controls",
       "_model_module_version": "1.5.0",
       "_model_name": "VBoxModel",
       "_view_count": null,
       "_view_module": "@jupyter-widgets/controls",
       "_view_module_version": "1.5.0",
       "_view_name": "VBoxView",
       "box_style": "",
       "children": [
        "IPY_MODEL_6d169067485d45a1985077fcdda4feee",
        "IPY_MODEL_2f7fc232f5fe4ed0b732dc52190795b8",
        "IPY_MODEL_226262a9e1d64198a7659b171445d563"
       ],
       "layout": "IPY_MODEL_84778ddeb6eb4d0eb3d832b5cb9f7442"
      }
     },
     "f207958fafc746e4b834433328ef0889": {
      "model_module": "@jupyter-widgets/controls",
      "model_module_version": "1.5.0",
      "model_name": "FloatSliderModel",
      "state": {
       "_dom_classes": [],
       "_model_module": "@jupyter-widgets/controls",
       "_model_module_version": "1.5.0",
       "_model_name": "FloatSliderModel",
       "_view_count": null,
       "_view_module": "@jupyter-widgets/controls",
       "_view_module_version": "1.5.0",
       "_view_name": "FloatSliderView",
       "continuous_update": true,
       "description": "t",
       "description_tooltip": null,
       "disabled": false,
       "layout": "IPY_MODEL_8115499a065142febbbb91910fb6015d",
       "max": 10.0,
       "min": -10.0,
       "orientation": "horizontal",
       "readout": true,
       "readout_format": ".2f",
       "step": 0.1,
       "style": "IPY_MODEL_a512c42021194ed7ba9b10b3360ee9b9",
       "value": 0.0
      }
     },
     "fde60041a6564c5e8c8ae389146b0dbc": {
      "model_module": "@jupyter-widgets/base",
      "model_module_version": "1.2.0",
      "model_name": "LayoutModel",
      "state": {
       "_model_module": "@jupyter-widgets/base",
       "_model_module_version": "1.2.0",
       "_model_name": "LayoutModel",
       "_view_count": null,
       "_view_module": "@jupyter-widgets/base",
       "_view_module_version": "1.2.0",
       "_view_name": "LayoutView",
       "align_content": null,
       "align_items": null,
       "align_self": null,
       "border": null,
       "bottom": null,
       "display": null,
       "flex": null,
       "flex_flow": null,
       "grid_area": null,
       "grid_auto_columns": null,
       "grid_auto_flow": null,
       "grid_auto_rows": null,
       "grid_column": null,
       "grid_gap": null,
       "grid_row": null,
       "grid_template_areas": null,
       "grid_template_columns": null,
       "grid_template_rows": null,
       "height": null,
       "justify_content": null,
       "justify_items": null,
       "left": null,
       "margin": null,
       "max_height": null,
       "max_width": null,
       "min_height": null,
       "min_width": null,
       "object_fit": null,
       "object_position": null,
       "order": null,
       "overflow": null,
       "overflow_x": null,
       "overflow_y": null,
       "padding": null,
       "right": null,
       "top": null,
       "visibility": null,
       "width": null
      }
     }
    },
    "version_major": 2,
    "version_minor": 0
   }
  }
 },
 "nbformat": 4,
 "nbformat_minor": 5
}