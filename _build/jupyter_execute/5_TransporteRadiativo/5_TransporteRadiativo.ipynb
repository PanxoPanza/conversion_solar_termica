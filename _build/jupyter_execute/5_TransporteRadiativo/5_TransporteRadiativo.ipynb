{
 "cells": [
  {
   "cell_type": "markdown",
   "id": "8b01ca79",
   "metadata": {
    "slideshow": {
     "slide_type": "slide"
    }
   },
   "source": [
    " <font size=\"6\">MEC501 - Manejo y Conversión de Energía Solar Térmica</font>\n",
    "# Transporte Radiativo\n",
    "<br><br><br><br>\n",
    "Profesor: Francisco Ramírez Cuevas<br>\n",
    "Fecha: 9 de Septiembre 2022"
   ]
  },
  {
   "cell_type": "markdown",
   "id": "9ff4cae4",
   "metadata": {
    "slideshow": {
     "slide_type": "slide"
    }
   },
   "source": [
    "## Coherencia de la luz e interferencia\n",
    "Como veremos en las próximas clases, las vibraciones moleculares en la materia son las responsables de emitir radiación en forma de ondas electromagnéticas. El mecanismo es similar, pero inverso, al mecanismo de absorción de luz, el cual es originado por la interacción de ondas electromagnéticas con las vibraciones moleculares (ver clase 3)."
   ]
  },
  {
   "cell_type": "markdown",
   "id": "bcb7cf39",
   "metadata": {
    "slideshow": {
     "slide_type": "fragment"
    }
   },
   "source": [
    "Dicho esto, dos moléculas pueden emitir radiación con una pequeña variación en la longitud de onda $\\Delta\\lambda$. Esto ocurre porque las vibraciones no están 100% correlacionadas, es decir, existe un grado de aletoriedad en las vibraciones."
   ]
  },
  {
   "cell_type": "markdown",
   "id": "16081fa2",
   "metadata": {
    "slideshow": {
     "slide_type": "slide"
    }
   },
   "source": [
    "Esta aletoriedad en las vibraciones da lugar a una distribución del flujo de radiación emitido por una fuente.\n",
    "\n",
    "<img src=\"./images/light_source_spectra.png\" width=\"800px\" align= center>"
   ]
  },
  {
   "cell_type": "markdown",
   "id": "b54cf722",
   "metadata": {
    "slideshow": {
     "slide_type": "slide"
    }
   },
   "source": [
    "Por ejemplo, consideremos una fuente de luz con una distribución espectral normal, centrada en $\\lambda_0$ y con una desviación estandar $\\pm\\sigma_\\lambda\\lambda_0$, con $\\sigma_\\lambda \\in [0,1]$. Imaginemos esta fuente como $N$ emisores, donde cada emisor $j$ emite ondas electromagnéticas con longitud de onda $\\lambda \\pm\\Delta \\lambda_j$, donde $\\Delta \\lambda_j$ es escogido aleatoriamente a partir de la distribución normal."
   ]
  },
  {
   "cell_type": "markdown",
   "id": "31f81723",
   "metadata": {
    "cell_style": "split",
    "slideshow": {
     "slide_type": "fragment"
    }
   },
   "source": [
    "<img src=\"./images/normal_distribution.png\" width=\"400px\" align= center>"
   ]
  },
  {
   "cell_type": "markdown",
   "id": "76d68ef4",
   "metadata": {
    "cell_style": "split",
    "slideshow": {
     "slide_type": "fragment"
    }
   },
   "source": [
    "Asumiendo ondas en el aire en dirección $\\hat{k} = \\hat{x}$, el campo eléctrico resultante es:\n",
    "\n",
    "\\begin{equation*}\n",
    "\\vec{E}_\\mathrm{tot} = \\sum_j^N E_0e^{i\\left(k_jx - \\omega_j t\\right)} \\hat{z},\n",
    "\\end{equation*}\n",
    "\n",
    "donde $k_j = \\frac{2\\pi}{\\lambda \\pm\\Delta \\lambda_j}$, y $\\omega_j = c_0k_j$"
   ]
  },
  {
   "cell_type": "markdown",
   "id": "e5e55e68",
   "metadata": {
    "cell_style": "center",
    "slideshow": {
     "slide_type": "fragment"
    }
   },
   "source": [
    "Analicemos el comportamiento de $\\vec{E}_\\mathrm{tot} /E_0$ para $\\lambda_0 = 500$ nm"
   ]
  },
  {
   "cell_type": "code",
   "execution_count": 1,
   "id": "37df7e74",
   "metadata": {
    "cell_style": "split",
    "slideshow": {
     "slide_type": "slide"
    }
   },
   "outputs": [],
   "source": [
    "import numpy as np\n",
    "from numpy.random import normal\n",
    "import matplotlib.pyplot as plt\n",
    "\n",
    "def light_packet(kdir, x, t, lam, sig, N):\n",
    "    c0 = 3E8          # velocidad de la luz (m/s)\n",
    "    xx = np.meshgrid(x,np.ones(N))[0]\n",
    "    \n",
    "    # Generamos arreglo de ondas aleatorias\n",
    "    dlamj =  normal(0, lam*sig,N)\n",
    "    kj = (2*np.pi/(lam + dlamj)).reshape(-1,1)\n",
    "    wj = c0*kj\n",
    "    Erand = np.exp(1j*(kdir*kj*xx-wj*t)) \n",
    "    \n",
    "    # Sumamos todas las ondas\n",
    "    return np.sum(Erand,axis=0)\n",
    " \n",
    "def plot_light_packet(N, t, sig):\n",
    "    '''\n",
    "    n: número de ondas generadas\n",
    "    t: tiempo en ns\n",
    "    sig: % de ancho de banda (dlam = sig*lam)\n",
    "    '''\n",
    "    lam = 0.5         # longitud de onda (um)\n",
    "    t = t*1E-9 # convertimos ns a s\n",
    "    \n",
    "    # recorrido de la onda\n",
    "    x = np.linspace(-2,2,1000)  # desde 0 a 4 micrones\n",
    "    E = light_packet(1, x, t, lam, sig, N)\n",
    "    \n",
    "    # Graficamos\n",
    "    fig, ax = plt.subplots()\n",
    "    fig.set_size_inches(9, 5)\n",
    "    plt.rcParams['font.size'] = '18'\n",
    "    \n",
    "    ax.plot(x,np.real(E), 'k')\n",
    "    ax.set_xlabel('x ($\\mu$m)')\n",
    "    ax.set_ylabel('Amplitud $|E|/E_0$')\n",
    "    ax.set_ylim(-N*1.1,N*1.1)\n",
    "    ax.grid()\n"
   ]
  },
  {
   "cell_type": "code",
   "execution_count": 2,
   "id": "5c81aca7",
   "metadata": {
    "cell_style": "split",
    "slideshow": {
     "slide_type": "fragment"
    }
   },
   "outputs": [
    {
     "data": {
      "application/vnd.jupyter.widget-view+json": {
       "model_id": "0464b398942f413ebf62220a4f530cb7",
       "version_major": 2,
       "version_minor": 0
      },
      "text/plain": [
       "interactive(children=(IntSlider(value=1000, description='N', max=1000, min=1), FloatSlider(value=0.0, descript…"
      ]
     },
     "metadata": {},
     "output_type": "display_data"
    }
   ],
   "source": [
    "from ipywidgets import interact\n",
    "\n",
    "@interact( N=(1,1000,1), \n",
    "           t=(-10,10,0.1),\n",
    "           sig=(0,1,0.01))\n",
    "def g(N=1000, t=0, sig=0.3):\n",
    "    return plot_light_packet(N,t,sig)"
   ]
  },
  {
   "cell_type": "markdown",
   "id": "b53bb755",
   "metadata": {
    "slideshow": {
     "slide_type": "slide"
    }
   },
   "source": [
    "### Longitud de coherencia\n",
    "Definimos como **longitud de coherencia**, $l_c$, a la distancia donde un grupo de ondas electromagnética mantiene correlación entre las fases. Para longitudes mayores a $l_c$, decimos que la luz es incoherente, es decir, el desface entre las distintas ondas es completamente aleatorio."
   ]
  },
  {
   "cell_type": "markdown",
   "id": "3ea340f8",
   "metadata": {
    "cell_style": "split",
    "slideshow": {
     "slide_type": "fragment"
    }
   },
   "source": [
    "<img src=\"./images/coherence_length.png\" width=\"300px\" align= center>\n",
    "\n",
    "<center>Esquema de un paquete de onda emitido por una fuente con longitud de coherencia $l_c$</center>"
   ]
  },
  {
   "cell_type": "markdown",
   "id": "1f71b46f",
   "metadata": {
    "cell_style": "split",
    "slideshow": {
     "slide_type": "fragment"
    }
   },
   "source": [
    "La relación entre $l_c$, la longitud de onda central $\\lambda$ y el ancho de banda $\\Delta\\lambda$ está dado, aproximadamente, por la relación:\n",
    "\n",
    "\\begin{equation*}\n",
    "l_c \\approx \\frac{\\lambda^2}{n\\Delta \\lambda},\n",
    "\\end{equation*}\n",
    "\n",
    "donde $n$ es el indice de refracción del medio donde se propaga la luz.\n",
    "\n",
    "Por ejemplo, para lasers He-Ne (laser rojo)  $l_c\\approx 0.2 - 100$ m.  "
   ]
  },
  {
   "cell_type": "markdown",
   "id": "b8e319bd",
   "metadata": {
    "slideshow": {
     "slide_type": "slide"
    }
   },
   "source": [
    "Para radiación emitida por un cuerpo a temperatura $T$, la longitud de coherencia está dada por:\n",
    "\n",
    "\\begin{equation*}\n",
    "l_c T = 2167.8~\\mathrm{\\mu m~K}\n",
    "\\end{equation*}\n",
    "\n",
    "Así, por ejemplo, la radiación solar ($T \\approx 5800~\\mathrm{K}$) tiene una longitud de coherencia, $l_c \\approx 370~\\mathrm{nm}$"
   ]
  },
  {
   "cell_type": "markdown",
   "id": "659f7454",
   "metadata": {
    "slideshow": {
     "slide_type": "slide"
    }
   },
   "source": [
    "### Régimen de trasporte de luz\n",
    "Consideremos dos paquetes de onda con una longitud de coherencia $l_c$, viajando en sentido opuesto."
   ]
  },
  {
   "cell_type": "markdown",
   "id": "1b6928bc",
   "metadata": {
    "slideshow": {
     "slide_type": "fragment"
    }
   },
   "source": [
    "Podemos ver que ambos paquetes de luz interfieren en $x = 0$ en un instante $t$. Al continuar su camino, ambos paquetes de onda recuperan su forma original."
   ]
  },
  {
   "cell_type": "code",
   "execution_count": 3,
   "id": "8b9e3e63",
   "metadata": {
    "cell_style": "split",
    "slideshow": {
     "slide_type": "slide"
    }
   },
   "outputs": [],
   "source": [
    "def plot_2light_packet(n, t, sig):\n",
    "    '''\n",
    "    n: número de ondas generadas\n",
    "    t: tiempo en ns\n",
    "    sig: % de ancho de banda (dlam = sig*lam)\n",
    "    '''\n",
    "    t = t*1E-9 # convertimos ns a s\n",
    "    lam = 0.5\n",
    "    \n",
    "    # recorrido de la onda\n",
    "    x = np.linspace(-2,2,1000)  # desde 0 a 4 micrones\n",
    "    k0 = 2*np.pi/lam\n",
    "    Efw = light_packet( 1, x - x[ 0], t, lam, sig, n)\n",
    "    Ebw = light_packet(-1, x - x[-1], t, lam, sig, n)\n",
    "    \n",
    "    # Graficamos\n",
    "    fig, ax = plt.subplots()\n",
    "    fig.set_size_inches(9, 5)\n",
    "    plt.rcParams['font.size'] = '18'\n",
    "    \n",
    "    ax.plot(x,np.real(Efw + Ebw), 'k')\n",
    "    ax.set_xlabel('x ($\\mu$m)')\n",
    "    ax.set_ylabel('Amplitud $|E|/E_0$')\n",
    "    ax.set_ylim(-n*2.1,n*2.1)\n",
    "    ax.grid()\n"
   ]
  },
  {
   "cell_type": "code",
   "execution_count": 4,
   "id": "977daeda",
   "metadata": {
    "cell_style": "split"
   },
   "outputs": [
    {
     "data": {
      "application/vnd.jupyter.widget-view+json": {
       "model_id": "7aa93e5fa2bb40a39950d22dc6c1a581",
       "version_major": 2,
       "version_minor": 0
      },
      "text/plain": [
       "interactive(children=(IntSlider(value=1000, description='N', max=1000, min=1), FloatSlider(value=2.0, descript…"
      ]
     },
     "metadata": {},
     "output_type": "display_data"
    }
   ],
   "source": [
    "from ipywidgets import interact\n",
    "\n",
    "@interact( N=(1,1000,1), \n",
    "           t=(0,20,0.1),\n",
    "           sig=(0,1,0.01))\n",
    "def g(N=1000, t=2, sig=0.3):\n",
    "    return plot_2light_packet(N,t,sig)"
   ]
  },
  {
   "cell_type": "markdown",
   "id": "615ad1c6",
   "metadata": {
    "slideshow": {
     "slide_type": "slide"
    }
   },
   "source": [
    "A partir de esto, podemos concluir que los fenómenos de interferencia en películas de capa delgada de espesor $d$ no serían visibles si $d > l_c$. En otras palabras, el fenómeno de interferencia solo existe si el paquete de onda interfiere consigo mismo."
   ]
  },
  {
   "cell_type": "markdown",
   "id": "db4d20e4",
   "metadata": {
    "cell_style": "split",
    "slideshow": {
     "slide_type": "fragment"
    }
   },
   "source": [
    "<img src=\"./images/interference_thinfilm.png\" width=\"200px\" align= center>\n",
    "\n",
    "<center>Propagación de una onda a través de una película de espesor $d$, con $l_c < d$</center>"
   ]
  },
  {
   "cell_type": "markdown",
   "id": "fce7ef57",
   "metadata": {
    "cell_style": "split",
    "slideshow": {
     "slide_type": "fragment"
    }
   },
   "source": [
    "En general, para una longitud características $d$:\n",
    "\n",
    "- Si $d > l_c$ el **transporte de luz es incoherente** . En este régimen, podemos ignorar las propiedades oscilatorias de la luz, y analizar el problema como el transporte de pequeños paquetes de onda, o simplemente como partículas.\n",
    "\n",
    "- Si $d < l_c$, el **transporte de luz es coherente**. En este régimen debemos considerar las propiedades oscilatorias a partir de las Ecuaciones de Maxwell."
   ]
  },
  {
   "cell_type": "markdown",
   "id": "06aab8e7",
   "metadata": {
    "cell_style": "center",
    "slideshow": {
     "slide_type": "slide"
    }
   },
   "source": [
    "Así, los coeficientes de Fresnel para una película delgada solo son válidos para $d < l_c$. "
   ]
  },
  {
   "cell_type": "markdown",
   "id": "c7f85265",
   "metadata": {
    "cell_style": "split",
    "slideshow": {
     "slide_type": "fragment"
    }
   },
   "source": [
    "Los coeficientes de Fresnel para una interface, en cambio, siempre son válidos."
   ]
  },
  {
   "cell_type": "markdown",
   "id": "57178760",
   "metadata": {
    "cell_style": "split",
    "slideshow": {
     "slide_type": "fragment"
    }
   },
   "source": [
    "<img src=\"./images/interference_interface.png\" width=\"350px\" align= center>\n",
    "\n",
    "<center>Refracción y reflexión de una onda incoherente a través de una interfaz</center>"
   ]
  },
  {
   "cell_type": "markdown",
   "id": "0c79f1b6",
   "metadata": {
    "slideshow": {
     "slide_type": "slide"
    }
   },
   "source": [
    "Igualmente, en medios particulados, los fenómenos de interferencia pueden ocurrir si las partículas están suficientemente cerca y tienen tamaños similares. Llamamos a esto **scattering coherente**"
   ]
  },
  {
   "cell_type": "markdown",
   "id": "61e2a519",
   "metadata": {
    "slideshow": {
     "slide_type": "fragment"
    }
   },
   "source": [
    "<img src=\"./images/scattering_coherence.png\" width=\"600px\" align= center>\n",
    "\n",
    "<center>Fenómeno de interferencia en scattering</center>"
   ]
  },
  {
   "cell_type": "markdown",
   "id": "8167d93c",
   "metadata": {
    "slideshow": {
     "slide_type": "slide"
    }
   },
   "source": [
    "El fenómeno de scattering coherente da lugar a los denominados **colores estructurales** presentes en las alas de las aves y mariposas (mas info [acá](https://wires.onlinelibrary.wiley.com/doi/10.1002/wnan.1396))"
   ]
  },
  {
   "cell_type": "markdown",
   "id": "06446d60",
   "metadata": {
    "cell_style": "split",
    "slideshow": {
     "slide_type": "fragment"
    }
   },
   "source": [
    "<img src=\"./images/structural_colors_birds.png\" width=\"550px\" align= center>\n",
    "\n",
    "<center>Colores estructurales en alas de aves</center>\n",
    "\n",
    "Fuente: [Hwang, V. et al. PNAS 118 (4) e2015551118\n",
    " (2020)](https://www.pnas.org/doi/10.1073/pnas.2015551118)"
   ]
  },
  {
   "cell_type": "markdown",
   "id": "71eaafb2",
   "metadata": {
    "cell_style": "split",
    "slideshow": {
     "slide_type": "fragment"
    }
   },
   "source": [
    "<img src=\"./images/structural_colors_buterflies.png\" width=\"450px\" align= center>\n",
    "\n",
    "<center>Colores estructurales en alas de mariposa</center>\n",
    "\n",
    "Fuente: [Tippets C. A. et al. J. Opt. 18 (2016) 065105](https://iopscience.iop.org/article/10.1088/2040-8978/18/6/065105)"
   ]
  },
  {
   "cell_type": "markdown",
   "id": "f629fcbe",
   "metadata": {
    "slideshow": {
     "slide_type": "slide"
    }
   },
   "source": [
    "## Teoría de transferencia radiativa\n",
    "Si el transporte de luz es incoherente, podemos ignorar las propiedades oscilatorias de la luz y analizar el fenómeno óptico como un el transporte de radiación a través de un volumen de control."
   ]
  },
  {
   "cell_type": "markdown",
   "id": "f62e3c70",
   "metadata": {
    "slideshow": {
     "slide_type": "slide"
    }
   },
   "source": [
    "### Intensidad específica"
   ]
  },
  {
   "cell_type": "markdown",
   "id": "790c7714",
   "metadata": {
    "cell_style": "split",
    "slideshow": {
     "slide_type": "-"
    }
   },
   "source": [
    "Definimos como **radiancia espectral o intensidad específica**, $I_\\lambda$, al flujo de energía por **ángulo sólido diferencial**, $d\\Omega$, para una longitud de onda $\\lambda$.\n",
    "\n",
    "<img src=\"./images/specific_intensity.png\" width=\"300px\" align= center>"
   ]
  },
  {
   "cell_type": "markdown",
   "id": "8568f20b",
   "metadata": {
    "cell_style": "split",
    "slideshow": {
     "slide_type": "fragment"
    }
   },
   "source": [
    "El ángulo sólido define el tamaño relativo del área $S$ para un observador en $P$ a una distancia $r$. \n",
    "\n",
    "El diferencial está definido por $d\\Omega = \\sin\\theta d\\theta d\\phi$\n",
    "\n",
    "<img src=\"./images/solid_angle.png\" width=\"450px\" align= center>"
   ]
  },
  {
   "cell_type": "markdown",
   "id": "0d8ed016",
   "metadata": {
    "slideshow": {
     "slide_type": "slide"
    }
   },
   "source": [
    "Es importante aclarar que los conceptos intensidad específica y vector de Poynting $\\langle\\vec{S}\\rangle$, son equivalentes: $I_\\lambda(\\hat{k})$ es un término utilizado en radiometría para definir el flujo de energía por unidad de ángulo sólido, mientras que $\\langle\\vec{S}\\rangle$ es un término ulizado en óptica para describir el flujo de energía en dirección $\\hat{k}$. Cabe destacar, sin embargo, que $I_\\lambda(\\hat{k})$ es una magnitud, y $\\langle\\vec{S}\\rangle$ es un vector. Así, podríamos decir que la relación entre estos dos términos está dada por $I_\\lambda(\\hat{k}) = \\langle\\vec{S}\\rangle\\cdot\\hat{k}$."
   ]
  },
  {
   "cell_type": "markdown",
   "id": "067ade0b",
   "metadata": {
    "slideshow": {
     "slide_type": "fragment"
    }
   },
   "source": [
    "El ángulo sólido total para una esfera es:\n",
    "\\begin{equation*}\n",
    "\\int_\\mathrm{esfera} d\\Omega = \\int_0^{2\\pi}\\int_0^{\\pi} \\sin\\theta d\\theta d\\phi= 4\\pi\n",
    "\\end{equation*}"
   ]
  },
  {
   "cell_type": "markdown",
   "id": "921c9262",
   "metadata": {
    "slideshow": {
     "slide_type": "slide"
    }
   },
   "source": [
    "### Ecuación de transferencia radiativa\n",
    "La **ecuación de transferencia radiativa** (RTE por sus siglas en ingles), es una ecuación de transporte que describe la propagación de la radiancia espectral, $I_\\lambda(\\vec{r},\\hat{k})$, en función de la posición posición $\\vec{r}$ y dirección $\\hat{k}$. En su forma más general, para un problema estacionario:\n",
    "\n",
    "\\begin{equation}\n",
    "\\hat{k}\\cdot\\nabla_r I_\\lambda(\\vec{r},\\hat{k}) = - \\left[\\frac{f_v}{V_p}C_\\mathrm{ext} + 2\\kappa k_0\\right]I_\\lambda(\\vec{r},\\hat{k}) + \\frac{f_v}{V_p}\\int_{4\\pi} P_\\mathrm{sca}(\\hat{k},\\hat{k}') I_\\lambda(\\vec{r},\\hat{k}') d\\Omega'\n",
    "\\end{equation}"
   ]
  },
  {
   "cell_type": "markdown",
   "id": "44c82ce8",
   "metadata": {
    "slideshow": {
     "slide_type": "fragment"
    }
   },
   "source": [
    "donde $f_v$ y $V_p$ son, respectivamente la fracción de volúmen y el volúmen de las partículas en el medio, y $P_\\mathrm{sca}(\\hat{k},\\hat{k}')$ es la función de fase."
   ]
  },
  {
   "cell_type": "markdown",
   "id": "84f7041f",
   "metadata": {
    "slideshow": {
     "slide_type": "slide"
    }
   },
   "source": [
    "Notar que consideramos el caso más generalizado de la función de fase, que depende tanto de la dirección de la radiación incidente $\\hat{k}$ como de la dirección del scattering $\\hat{k}'$. Ambas definidas por ángulo sólido"
   ]
  },
  {
   "cell_type": "markdown",
   "id": "556660a5",
   "metadata": {
    "cell_style": "center",
    "slideshow": {
     "slide_type": "fragment"
    }
   },
   "source": [
    "En el caso de una esfera, $\\hat{k}_\\mathrm{sca} = \\hat{k}$ y $\\hat{k}_\\mathrm{inc} = \\hat{k}'$. Así, la función de fase depende de $\\theta$, el cual está definido por $\\cos\\theta = \\hat{k}\\cdot\\hat{k}'$\n",
    "\n"
   ]
  },
  {
   "cell_type": "markdown",
   "id": "b7b71333",
   "metadata": {
    "slideshow": {
     "slide_type": "slide"
    }
   },
   "source": [
    "Con esto en mente, ahora podemos discutir el significado de los términos en la RTE:"
   ]
  },
  {
   "cell_type": "markdown",
   "id": "12e1a1e8",
   "metadata": {
    "slideshow": {
     "slide_type": "fragment"
    }
   },
   "source": [
    "- El primer término representa el cambio de $I_\\lambda(\\vec{r},\\hat{k})$ a través volumen diferencial. Por ejemplo, en el caso unidimencional en dirección $\\hat{k} = \\hat{x}$, tenemos: \n",
    "\n",
    "\\begin{equation*}\n",
    "\\hat{x}\\cdot\\nabla_r I_\\lambda(\\vec{r},\\hat{k}) = \\frac{\\partial}{\\partial x}I_\\lambda(\\vec{r},\\hat{k})\n",
    "\\end{equation*}"
   ]
  },
  {
   "cell_type": "markdown",
   "id": "231c3da9",
   "metadata": {
    "slideshow": {
     "slide_type": "fragment"
    }
   },
   "source": [
    "- El segundo término representa la pérdida de energía radiativa, por extinción $\\left(\\frac{f_v}{V_p}C_\\mathrm{ext}\\right)$ y absorción en el material material ($2\\kappa k_0$), respectivamente. Recordemos que la extinción representa la energía absorbida por las partículas + la energía de scattering en direcciónes distintas a $\\hat{k}$, es decir $C_\\mathrm{ext}= C_\\mathrm{abs} + C_\\mathrm{sca}$."
   ]
  },
  {
   "cell_type": "markdown",
   "id": "4754c5ed",
   "metadata": {
    "slideshow": {
     "slide_type": "fragment"
    }
   },
   "source": [
    "- El tercer término representa la ganancia de energía radiativa produco del scattering inducido por radiación incidente en dirección $\\hat{k}'$. Este término representa el fenómeno de **scattering múltiple**."
   ]
  },
  {
   "cell_type": "markdown",
   "id": "43766712",
   "metadata": {
    "slideshow": {
     "slide_type": "slide"
    }
   },
   "source": [
    "## Soluciones de la RTE\n",
    "La ecuación de transferencia radiativa permite explicar de forma fenomenológica el transporte de radiación en un medio particulado. Debido a su complejidad, existen pocas soluciones analíticas. En esta sección describiremos las tres más conocidas."
   ]
  },
  {
   "cell_type": "markdown",
   "id": "6037462f",
   "metadata": {
    "slideshow": {
     "slide_type": "slide"
    }
   },
   "source": [
    "### Película de material sin partículas (Reflectividad y Transmisividad incoherente)\n",
    "En el caso de un medio sin partículas solo debemos considerar el primer término de la RTE. "
   ]
  },
  {
   "cell_type": "markdown",
   "id": "38e80853",
   "metadata": {
    "slideshow": {
     "slide_type": "fragment"
    }
   },
   "source": [
    "Para el caso particular de un material de espesor $t_\\mathrm{film}$ e índice de refracción $N = n + \\kappa$, rodeado por un medio con índice de refracción $N_0$, derivamos las siguientes relaciones de reflectividad y tranmisividad para luz incoherente:\n",
    "\n",
    "\\begin{align}\n",
    "R_\\mathrm{incoh}&= R_0 + \\frac{T_0^2R_0e^{-4\\kappa k_0 t_\\mathrm{film}}}{1 - R_0^2e^{-4\\kappa k_0 t_\\mathrm{film}}} \n",
    "\\\\[10pt]\n",
    "T_\\mathrm{incoh} &= \\frac{T_0^2e^{-4\\kappa k_0 t_\\mathrm{film}}}{1 - R_0^2e^{-4\\kappa k_0 t_\\mathrm{film}}}\n",
    "\\end{align}\n",
    "\n",
    "donde $R_0$ y $T_0$ corresponden, respectivamente, a la reflectividad y transmisividad en la interface $N_0 / N_1$"
   ]
  },
  {
   "cell_type": "markdown",
   "id": "7b8cb924",
   "metadata": {
    "slideshow": {
     "slide_type": "slide"
    }
   },
   "source": [
    "En el siguiente ejemplo, utilizamos la función ```incoh_multilayer``` de la libreria ```empylib.waveoptics```. Esta función es más general que la ecuación anterior y permite determinar $R_\\mathrm{incoh}$ y $T_\\mathrm{incoh}$ para arreglos multicapas. "
   ]
  },
  {
   "cell_type": "markdown",
   "id": "2a3e7bbc",
   "metadata": {
    "slideshow": {
     "slide_type": "fragment"
    }
   },
   "source": [
    "En este caso, evaluaremos una película de sílice de espesor $1~\\mu\\mathrm{m}$, sobre un sustrato con íncide de refracción $N_\\mathrm{back} = 4.3$, y con aire en la superficie $N_\\mathrm{front} = 1.0$. El espectro de longitudes de onda $\\lambda\\in[0.3,0.8]~\\mu\\mathrm{m}$ y el ángulo de incidencia $\\theta_i = 30°$. Para comparar, determinaremos $R$ y $T$ para el caso de luz coherente."
   ]
  },
  {
   "cell_type": "code",
   "execution_count": 5,
   "id": "a99aa431",
   "metadata": {
    "cell_style": "split",
    "slideshow": {
     "slide_type": "slide"
    }
   },
   "outputs": [],
   "source": [
    "import numpy as np\n",
    "import empylib.waveoptics as wv\n",
    "import empylib.nklib as nk\n",
    "\n",
    "lam = np.linspace(2,10,100)  # espectro de longitudes de onda (um)\n",
    "theta = np.radians(30)          # ángulo de incidencia\n",
    "\n",
    "Nfront = 1.0                 # índice de refracción medio superior\n",
    "N1     = nk.SiO2(lam)        # índice de refracción capa delgada\n",
    "Nback  = 4.3                 # índice de refracción medio inferior\n",
    "N = (Nfront, N1, Nback)      # indices de refracción (above, mid, below)\n",
    "d = 1.0                      # espesor capa intermedia (um)\n",
    "\n",
    "# caso luz incoherente\n",
    "Rp_incoh, Tp_incoh = wv.incoh_multilayer(lam,theta, N, d, pol='TM')\n",
    "# caso luz coherente\n",
    "Rp, Tp = wv.multilayer(lam,theta, N, d, pol='TM')[:2]"
   ]
  },
  {
   "cell_type": "code",
   "execution_count": 6,
   "id": "3bee2ad8",
   "metadata": {
    "cell_style": "split",
    "slideshow": {
     "slide_type": "fragment"
    }
   },
   "outputs": [
    {
     "data": {
      "image/png": "[encoded data removed]",
      "text/plain": [
       "<Figure size 504x360 with 1 Axes>"
      ]
     },
     "metadata": {
      "filenames": {
       "image/png": "/mnt/c/Users/francisco.ramirez.c/OneDrive - Universidad Adolfo Ibanez/Teaching_courses/Manejo_y_Conversion_Energia_Solar_Termica/material_catedra/_build/jupyter_execute/5_TransporteRadiativo/5_TransporteRadiativo_49_0.png"
      },
      "needs_background": "light"
     },
     "output_type": "display_data"
    }
   ],
   "source": [
    "fig, ax = plt.subplots()\n",
    "fig.set_size_inches(7, 5)\n",
    "plt.rcParams['font.size'] = '16'\n",
    "\n",
    "# Graficamos el flujo de energía\n",
    "plt.plot(lam,Rp,'--r',label='$R_\\mathrm{TM}$ (coh)')\n",
    "plt.plot(lam,Tp,'--b',label='$T_\\mathrm{TM}$ (coh)')\n",
    "plt.plot(lam,Rp_incoh,'-r',label='$R_\\mathrm{TM}$ (incoh)')\n",
    "plt.plot(lam,Tp_incoh,'-b',label='$T_\\mathrm{TM}$ (incoh)')\n",
    "plt.title('arreglo 1.0/1.5/4.3')\n",
    "plt.xlabel('Longitud de onda ($\\mu$m)')\n",
    "plt.ylabel('Refletividad / Transmisividad')\n",
    "plt.legend()\n",
    "plt.show()"
   ]
  },
  {
   "cell_type": "markdown",
   "id": "c6ed7877",
   "metadata": {
    "slideshow": {
     "slide_type": "slide"
    }
   },
   "source": [
    "En la figura, para el caso de luz coherente, notamos oscilaciones en $R$ y $T$ producto de los fenómenos de interferencia. En el caso de luz incoherente, el fenómeno de interferencia desaparace."
   ]
  },
  {
   "cell_type": "markdown",
   "id": "a5316b37",
   "metadata": {
    "slideshow": {
     "slide_type": "slide"
    }
   },
   "source": [
    "### Película de material con baja concentración de partículas (Ley de Beer-Lambert)\n",
    "Definimos el **camino libre medio de scattering**, como $\\Lambda_\\mathrm{sca} = \\left(f_v C_\\mathrm{sca}/V_p\\right)^{-1}$. Este parametro representa la distancia promedio que recorre la luz entre eventos de scattering."
   ]
  },
  {
   "cell_type": "markdown",
   "id": "a352fb08",
   "metadata": {
    "cell_style": "center",
    "slideshow": {
     "slide_type": "fragment"
    }
   },
   "source": [
    "Si $\\Lambda_\\mathrm{sca}$ es mayor que el espesor del material, $t_\\mathrm{film}$, la probabilidad de que ocurran más de un evento scattering es despreciable, y decimos que el **scattering es de primer orden**. En este caso, el tercer término de la RTE es despreciable y la radiación solo pierde energía por absorción del material o extinción inducida por las partículas."
   ]
  },
  {
   "cell_type": "markdown",
   "id": "9407f0e6",
   "metadata": {
    "slideshow": {
     "slide_type": "slide"
    }
   },
   "source": [
    "La solución a esta ecuación se conoce como la ley de Beer-Lambert. Mediante esta aproximación podemos deducir las componentes total y especular de la transmitancia:\n",
    "\n",
    "\\begin{equation}\n",
    "T_\\mathrm{tot} = T_0 e^{-f_v\\frac{C_\\mathrm{abs}}{V_p}t_\\mathrm{film}}\\quad\\quad\\mathrm{and}\\quad\\quad \n",
    "T_\\mathrm{spec} = T_0 e^{-f_v\\frac{C_\\mathrm{ext}}{V_p}t_\\mathrm{film}}\n",
    "\\end{equation}\n",
    "\n",
    "donde, $T_0$ es la **transmisividad incoherente del material sin incrustaciones**."
   ]
  },
  {
   "cell_type": "markdown",
   "id": "2f29ecb5",
   "metadata": {
    "slideshow": {
     "slide_type": "fragment"
    }
   },
   "source": [
    "<img src=\"./images/beer_lambert.png\" width=\"500px\" align= center>\n",
    "\n",
    "<center>Transporte de luz en un medio con scattering de primer orden</center>"
   ]
  },
  {
   "cell_type": "markdown",
   "id": "963bc3c6",
   "metadata": {
    "slideshow": {
     "slide_type": "slide"
    }
   },
   "source": [
    "Podemos utilizar la ley de Beer-Lambert para analizar, de forma aproximada, el efecto del color del cielo durante el día y en la tarde."
   ]
  },
  {
   "cell_type": "markdown",
   "id": "227d193d",
   "metadata": {
    "slideshow": {
     "slide_type": "fragment"
    }
   },
   "source": [
    "El color del cielo está dado por la componente difusa. Así calculamos $T_\\mathrm{dif} = T_\\mathrm{tot} - T_\\mathrm{spec}$."
   ]
  },
  {
   "cell_type": "markdown",
   "id": "a2577fed",
   "metadata": {
    "slideshow": {
     "slide_type": "fragment"
    }
   },
   "source": [
    "Consideremos una atmosfera compuesta de aire ($N_h = 1.0$) y una pequeña concentración ($f_v = 1\\times 10^{-6}~\\%$) de partículas de 10 nm de diámetro e índice de refracción $N_p = 1.5$. El espesor de la atmosfera es $t_\\mathrm{atm} = 100~\\mathrm{km}$"
   ]
  },
  {
   "cell_type": "code",
   "execution_count": 7,
   "id": "33491447",
   "metadata": {
    "cell_style": "center",
    "slideshow": {
     "slide_type": "slide"
    }
   },
   "outputs": [],
   "source": [
    "import empylib.rad_transfer as rt\n",
    "import empylib.nklib as nk\n",
    "import numpy as np\n",
    "import matplotlib.pyplot as plt\n",
    "from empylib.ref_spectra import AM15\n",
    "from empylib.ref_spectra import color_system as cs\n",
    "cs = cs.hdtv\n",
    "\n",
    "lam1 = np.linspace(0.38,0.78,100) # espectro de longitudes de onda\n",
    "cs.interp_internals(lam1)\n",
    "def plot_atmosphere(theta_sun):\n",
    "    fig, ax = plt.subplots()          \n",
    "    fig.set_size_inches(8, 5)         # Tamaño del gráfico\n",
    "    plt.rcParams['font.size'] = '14'  # tamaño de  fuente\n",
    "    \n",
    "    # parámetros de entrada\n",
    "    tatm = 100E6                      # espesor de la atmósfera 100 km\n",
    "    N = (1.0,1.0,1.0)                 # indice de refracción superior, intermedio e inferior\n",
    "    fvp = 1E-8                        # fracción de volúmen de las partículas\n",
    "    Dp = 0.010                        # diámetro de las partículas\n",
    "    Np = 1.5*lam1**0                  # índice de refracción de las partículas\n",
    "    \n",
    "    # transmitancia total y especular\n",
    "    theta = np.radians(theta_sun)    # posición del sol en radianes\n",
    "    Ttot, Tspec = rt.T_beer_lambert(lam1,theta,tatm,N,fvp,Dp,Np)[:2]\n",
    "    \n",
    "    Tdif = Ttot - Tspec              # transmitancia difusa\n",
    "    ax.plot(lam1,Tdif,'-k',label = 'Tdif')\n",
    "    ax.set_xlabel('Longitud de onda ($\\mu$m)')\n",
    "    ax.set_ylabel('Transmisividad')\n",
    "    ax.set_title(r'Posición del sol, $\\theta_\\mathrm{sun}$=%.1f°'% (theta_sun))\n",
    "    ax.set_ylim(0,1.05)\n",
    "    \n",
    "    Dcircle = 0.25\n",
    "    ax2 = fig.add_axes([0.11,0.15, Dcircle, Dcircle])\n",
    "    Irad = Tdif*AM15(lam1)\n",
    "    html_rgb = cs.spec_to_rgb(Irad, out_fmt='html')\n",
    "    Circle = plt.Circle((0, 0), Dcircle, color=html_rgb)\n",
    "    ax2.add_patch(Circle)\n",
    "    ax2.set_aspect('equal')\n",
    "    ax2.set_xlim(-Dcircle*1.2,Dcircle*1.2)\n",
    "    ax2.set_ylim(-Dcircle*1.2,Dcircle*1.2)\n",
    "    ax2.set_xticks([])\n",
    "    ax2.set_yticks([])\n",
    "    ax2.set_facecolor('k')"
   ]
  },
  {
   "cell_type": "code",
   "execution_count": 8,
   "id": "f3b08336",
   "metadata": {
    "cell_style": "center",
    "slideshow": {
     "slide_type": "slide"
    }
   },
   "outputs": [
    {
     "data": {
      "application/vnd.jupyter.widget-view+json": {
       "model_id": "cd53a1471c1c4307b5eaca164e21ea9a",
       "version_major": 2,
       "version_minor": 0
      },
      "text/plain": [
       "interactive(children=(FloatSlider(value=0.0, description='theta_sun', max=89.99), Output()), _dom_classes=('wi…"
      ]
     },
     "metadata": {},
     "output_type": "display_data"
    }
   ],
   "source": [
    "# from ipywidgets import interact\n",
    "\n",
    "@interact(theta_sun=(0,89.99,0.1))\n",
    "def g(theta_sun=0):\n",
    "    return plot_atmosphere(theta_sun)"
   ]
  },
  {
   "cell_type": "markdown",
   "id": "8aa6d072",
   "metadata": {
    "cell_style": "center",
    "slideshow": {
     "slide_type": "slide"
    }
   },
   "source": [
    "### Pelicula de material particulado (simulaciones de transferencia radiativa)\n",
    "Este caso corresponde a materiales con $\\Lambda_\\mathrm{sca} > t_\\mathrm{film}$. En este caso los eventos de scattering se producen más de una vez, y decimos que estámos en un régimen de **scattering múltiple**. Como resultado, los tres términos de la RTE son relevantes y debemos resolver la ecuación mediante simulación computacional.\n",
    "\n",
    "<img src=\"./images/multiple_scattering.png\" width=\"400px\" align= center>\n",
    "\n",
    "<center>Transporte de luz en un medio con scattering múltiple</center>"
   ]
  },
  {
   "cell_type": "markdown",
   "id": "bea5c468",
   "metadata": {
    "slideshow": {
     "slide_type": "slide"
    }
   },
   "source": [
    "Consideremos un material de sílice de espesor $t_\\mathrm{film} = 5~\\mathrm{mm}$. Evaluaremos los colores de este material en transmisión y reflección para luz incidente normal a la superficie en función de la concentración y el diámetro de las partículas. Utilizamos la función ```ad_rad_transfer``` de la librería ```empylib.rad_transfer```"
   ]
  },
  {
   "cell_type": "code",
   "execution_count": 9,
   "id": "24c8d4d6",
   "metadata": {
    "slideshow": {
     "slide_type": "slide"
    }
   },
   "outputs": [],
   "source": [
    "import empylib.rad_transfer as rt\n",
    "import empylib.nklib as nk\n",
    "import empylib.miescattering as mie\n",
    "import numpy as np\n",
    "import matplotlib.pyplot as plt\n",
    "\n",
    "lam2 = np.linspace(0.3,1.0,100) # espectro de longitudes de onda en micrometros\n",
    "Nlayers = (1.0,1.5,1.0)   # indice de refracción superior, intermedio e inferior\n",
    "Np = nk.silver(lam2)                # Índice de refracción de las partículas\n",
    "cs.interp_internals(lam2)\n",
    "\n",
    "def plot_glass_silver(fv,D):\n",
    "    # parámetros de entrada\n",
    "    \n",
    "    theta = np.radians(0)       # 0 grados en radianes\n",
    "    tfilm = 5                   # espesor en milímetros\n",
    "    \n",
    "    fv = fv*1E-7                # fracción de volúmen de las partículas\n",
    "    D = D*1E-3                  # diámetro de las partículas\n",
    "    \n",
    "    qext, qsca = mie.scatter_efficiency(lam2,Nlayers[1],Np,D)[:2]\n",
    "    qabs = qext - qsca\n",
    "    Rtot, Ttot = rt.ad_rad_transfer(lam2,tfilm,Nlayers,fv,D,Np)\n",
    "\n",
    "    fig, ax = plt.subplots(1,3)\n",
    "    fig.set_size_inches(20, 5)\n",
    "    plt.rcParams['font.size'] = '16'\n",
    "    \n",
    "    ax[0].plot(lam2,qsca,'-r',label='$C_\\mathrm{sca} A_c$')\n",
    "    ax[0].plot(lam2,qabs,'-b',label='$C_\\mathrm{abs} A_c$')\n",
    "    ax[0].set_xlabel('Longitud de onda ($\\mu$m)')\n",
    "    ax[0].set_ylabel('Eficiencia transversal')\n",
    "    ax[0].set_title('Partícula de plata (D=%.0f nm)' % (D*1E3))\n",
    "    ax[0].legend()\n",
    "    ax[0].set_ylim(0,10)\n",
    "    \n",
    "    ax[1].plot(lam2,Rtot,'-r',label = 'Rtot')\n",
    "    ax[1].plot(lam2,Ttot,'-b',label = 'Ttot')\n",
    "    ax[1].set_xlabel('Longitud de onda ($\\mu$m)')\n",
    "    ax[1].set_ylabel('Transmisividad')\n",
    "    ax[1].set_title(r'Sílice con plata (fv = %.3e %%)' % (fv*100) )\n",
    "    ax[1].legend()\n",
    "    ax[1].set_ylim(0,1)\n",
    "\n",
    "    Dcircle = 0.20\n",
    "    html_rgb = cs.spec_to_rgb(Ttot*AM15(lam2), out_fmt='html')\n",
    "    Circle = plt.Circle((0, 0), Dcircle, color=html_rgb)\n",
    "    ax[2].add_patch(Circle)\n",
    "    ax[2].annotate('Luz Trasera', xy=(0, 0), va='center', ha='center')\n",
    "\n",
    "    html_rgb = cs.spec_to_rgb(Rtot*AM15(lam2), out_fmt='html')\n",
    "    Circle = plt.Circle((Dcircle*1.2*2, 0), Dcircle, color=html_rgb)\n",
    "    ax[2].add_patch(Circle)\n",
    "    ax[2].annotate('Luz Frontal', xy=(Dcircle*1.2*2, 0), va='center', ha='center')\n",
    "\n",
    "    ax[2].set_aspect('equal')\n",
    "    ax[2].set_xlim(-Dcircle*1.2,Dcircle*1.2*3)\n",
    "    ax[2].set_ylim(-Dcircle*1.2,Dcircle*1.2)\n",
    "    ax[2].set_xticks([])\n",
    "    ax[2].set_yticks([])\n",
    "    ax[2].set_facecolor('k')\n",
    "    plt.subplots_adjust(wspace=0.3)"
   ]
  },
  {
   "cell_type": "code",
   "execution_count": 10,
   "id": "494ceeb2",
   "metadata": {
    "cell_style": "center",
    "slideshow": {
     "slide_type": "slide"
    }
   },
   "outputs": [
    {
     "data": {
      "application/vnd.jupyter.widget-view+json": {
       "model_id": "ba2cd4b2f0644286b2993462072d5a5e",
       "version_major": 2,
       "version_minor": 0
      },
      "text/plain": [
       "interactive(children=(IntSlider(value=20, description='fv', min=1), IntSlider(value=70, description='D', max=2…"
      ]
     },
     "metadata": {},
     "output_type": "display_data"
    }
   ],
   "source": [
    "from ipywidgets import interact\n",
    "\n",
    "@interact(fv=(1,100,1), D = (10,200,1))\n",
    "def g(fv=20, D = 70):\n",
    "    return plot_glass_silver(fv,D)"
   ]
  },
  {
   "cell_type": "markdown",
   "id": "031ca52b",
   "metadata": {
    "slideshow": {
     "slide_type": "slide"
    }
   },
   "source": [
    "Cuando la concentración de partículas es densa, el medio se vuelve opaco. Este régimen se denomina **scattering difuso** y permite explicar, entre otras cosas, el color de las nubes o la pintura blanca\n",
    "\n",
    "<img src=\"./images/diffuse_scattering.png\" width=\"400px\" align= center>\n",
    "\n",
    "<center>Transporte de luz en un medio con scattering difuso</center>"
   ]
  },
  {
   "cell_type": "markdown",
   "id": "01df5bd6",
   "metadata": {
    "slideshow": {
     "slide_type": "slide"
    }
   },
   "source": [
    "Un ejemplo interesante corresponde a la leche. En términos simples, la leche es una emulsión formada por pequeñas partículas de grasa dispersas en un medio acuoso. \n",
    "\n",
    "<img src=\"./images/milk_microscope.png\" width=\"400px\" align= center>\n",
    "\n",
    "<center>Imagen de microscópio (40x) de leche orgánica. Las burbujas verdes corresponden al aceite en suspención en agua.</center>\n",
    "\n",
    "Fuente: [Braun K., Hanewald A. and Vilgis T. Foods 8(10): 483(2019)](https://www.ncbi.nlm.nih.gov/pmc/articles/PMC6836175/)"
   ]
  },
  {
   "cell_type": "markdown",
   "id": "225b5528",
   "metadata": {
    "slideshow": {
     "slide_type": "fragment"
    }
   },
   "source": [
    "Como aproximación, consideremos un medio de espesor $1$ cm, compuesto por agua $N_h = 1.3$ y pequeñas partículas esféricas de aceite $N_p = 1.5$. La emulsión considera un 60% de partículas de aceite por volumen."
   ]
  },
  {
   "cell_type": "code",
   "execution_count": 11,
   "id": "72cbfc3e",
   "metadata": {
    "cell_style": "split",
    "slideshow": {
     "slide_type": "slide"
    }
   },
   "outputs": [],
   "source": [
    "%%capture showplot\n",
    "# import empylib.nklib as nk\n",
    "import numpy as np\n",
    "import empylib.rad_transfer as rt\n",
    "\n",
    "# Solo modificar estos parámetros\n",
    "#---------------------------------------------------------------\n",
    "lam3 = np.linspace(0.3,1.0,100)   # espectro de longitudes de onda\n",
    "tfilm = 10                        # espesor en milímetros\n",
    "fv = 0.60                          # fracción de volúmen de los poros\n",
    "D = 1.0                           # diámetro de los poros (micrones)\n",
    "Nh2o = 1.3                        # Índice de refracción del agua\n",
    "Noil = 1.5                        # índice de refracción partículas de aceite\n",
    "#---------------------------------------------------------------\n",
    "Rtot, Ttot = rt.ad_rad_transfer(lam3,tfilm,(1.0,Nh2o,1.0),fv,D,Noil)\n",
    "\n",
    "fig, ax = plt.subplots()\n",
    "fig.set_size_inches(7, 5)\n",
    "plt.rcParams['font.size'] = '16'\n",
    "ax.plot(lam3,Rtot,'-r',label='R')\n",
    "ax.plot(lam3,Ttot,'-b',label='T')\n",
    "ax.set_xlabel('Longitud de onda ($\\mu$m)')\n",
    "ax.set_ylabel('Reflectividad / Transmisividad')\n",
    "ax.set_title(r'Leche (fv = %.0f %%)' % (fv*100))\n",
    "ax.legend()\n",
    "ax.set_ylim(0,1.02)\n",
    "plt.show"
   ]
  },
  {
   "cell_type": "code",
   "execution_count": 12,
   "id": "9a1291f7",
   "metadata": {
    "cell_style": "split",
    "slideshow": {
     "slide_type": "fragment"
    }
   },
   "outputs": [
    {
     "data": {
      "text/plain": [
       "<function matplotlib.pyplot.show(close=None, block=None)>"
      ]
     },
     "metadata": {},
     "output_type": "display_data"
    },
    {
     "data": {
      "image/png": "[encoded data removed]",
      "text/plain": [
       "<Figure size 504x360 with 1 Axes>"
      ]
     },
     "metadata": {
      "filenames": {
       "image/png": "/mnt/c/Users/francisco.ramirez.c/OneDrive - Universidad Adolfo Ibanez/Teaching_courses/Manejo_y_Conversion_Energia_Solar_Termica/material_catedra/_build/jupyter_execute/5_TransporteRadiativo/5_TransporteRadiativo_68_1.png"
      },
      "needs_background": "light"
     },
     "output_type": "display_data"
    }
   ],
   "source": [
    "showplot()"
   ]
  },
  {
   "cell_type": "markdown",
   "id": "6c035f58",
   "metadata": {
    "slideshow": {
     "slide_type": "slide"
    }
   },
   "source": [
    "Como vemos la alta concentración de partículas hace que la refletividad y transmisividad se vuelvan casi uniformes para todas las longitudes de onda. El espectro, así, toma un color blanco frente a una fuente de luz blanca."
   ]
  },
  {
   "cell_type": "markdown",
   "id": "17c1dc23",
   "metadata": {
    "slideshow": {
     "slide_type": "slide"
    }
   },
   "source": [
    "## Referencias\n",
    "- Chen G. **Chapter 5 - Energy Transfer by Waves** in *Nanoscale energy transport and conversion*, 1st Ed, Oxford University Press, 2005"
   ]
  }
 ],
 "metadata": {
  "celltoolbar": "Slideshow",
  "kernelspec": {
   "display_name": "Python 3 (ipykernel)",
   "language": "python",
   "name": "python3"
  },
  "language_info": {
   "codemirror_mode": {
    "name": "ipython",
    "version": 3
   },
   "file_extension": ".py",
   "mimetype": "text/x-python",
   "name": "python",
   "nbconvert_exporter": "python",
   "pygments_lexer": "ipython3",
   "version": "3.9.13"
  },
  "latex_envs": {
   "LaTeX_envs_menu_present": false,
   "autoclose": false,
   "autocomplete": false,
   "bibliofile": "biblio.bib",
   "cite_by": "apalike",
   "current_citInitial": 1,
   "eqLabelWithNumbers": true,
   "eqNumInitial": 2,
   "hotkeys": {
    "equation": "Ctrl-E",
    "itemize": "Ctrl-I"
   },
   "labels_anchors": false,
   "latex_user_defs": false,
   "report_style_numbering": false,
   "user_envs_cfg": true
  },
  "toc": {
   "base_numbering": 1,
   "nav_menu": {},
   "number_sections": false,
   "sideBar": true,
   "skip_h1_title": true,
   "title_cell": "Tabla de contenidos",
   "title_sidebar": "Contenidos",
   "toc_cell": false,
   "toc_position": {
    "height": "calc(100% - 180px)",
    "left": "10px",
    "top": "150px",
    "width": "307.2px"
   },
   "toc_section_display": true,
   "toc_window_display": false
  },
  "varInspector": {
   "cols": {
    "lenName": 16,
    "lenType": 16,
    "lenVar": 40
   },
   "kernels_config": {
    "python": {
     "delete_cmd_postfix": "",
     "delete_cmd_prefix": "del ",
     "library": "var_list.py",
     "varRefreshCmd": "print(var_dic_list())"
    },
    "r": {
     "delete_cmd_postfix": ") ",
     "delete_cmd_prefix": "rm(",
     "library": "var_list.r",
     "varRefreshCmd": "cat(var_dic_list()) "
    }
   },
   "types_to_exclude": [
    "module",
    "function",
    "builtin_function_or_method",
    "instance",
    "_Feature"
   ],
   "window_display": false
  },
  "widgets": {
   "application/vnd.jupyter.widget-state+json": {
    "state": {
     "0464b398942f413ebf62220a4f530cb7": {
      "model_module": "@jupyter-widgets/controls",
      "model_module_version": "1.5.0",
      "model_name": "VBoxModel",
      "state": {
       "_dom_classes": [
        "widget-interact"
       ],
       "_model_module": "@jupyter-widgets/controls",
       "_model_module_version": "1.5.0",
       "_model_name": "VBoxModel",
       "_view_count": null,
       "_view_module": "@jupyter-widgets/controls",
       "_view_module_version": "1.5.0",
       "_view_name": "VBoxView",
       "box_style": "",
       "children": [
        "IPY_MODEL_c3a32492dc394396878f180a2ca0e737",
        "IPY_MODEL_10e68c9c2a5d4d16a6077eed4ecf92ed",
        "IPY_MODEL_8bef435f403945b5a337822e755a4965",
        "IPY_MODEL_89ff8125ab83425eb9448050c34a76a0"
       ],
       "layout": "IPY_MODEL_fe08101e17b84f458b436a04b5a20f6c"
      }
     },
     "0593e52984574aa09d9d99ef05030394": {
      "model_module": "@jupyter-widgets/controls",
      "model_module_version": "1.5.0",
      "model_name": "FloatSliderModel",
      "state": {
       "_dom_classes": [],
       "_model_module": "@jupyter-widgets/controls",
       "_model_module_version": "1.5.0",
       "_model_name": "FloatSliderModel",
       "_view_count": null,
       "_view_module": "@jupyter-widgets/controls",
       "_view_module_version": "1.5.0",
       "_view_name": "FloatSliderView",
       "continuous_update": true,
       "description": "theta_sun",
       "description_tooltip": null,
       "disabled": false,
       "layout": "IPY_MODEL_d2c1050242404df0847b65a26fb01459",
       "max": 89.99,
       "min": 0.0,
       "orientation": "horizontal",
       "readout": true,
       "readout_format": ".2f",
       "step": 0.1,
       "style": "IPY_MODEL_d4495396e642430394187720fc66bd00",
       "value": 0.0
      }
     },
     "0a54d017039b439d8a102e4bca03f892": {
      "model_module": "@jupyter-widgets/controls",
      "model_module_version": "1.5.0",
      "model_name": "FloatSliderModel",
      "state": {
       "_dom_classes": [],
       "_model_module": "@jupyter-widgets/controls",
       "_model_module_version": "1.5.0",
       "_model_name": "FloatSliderModel",
       "_view_count": null,
       "_view_module": "@jupyter-widgets/controls",
       "_view_module_version": "1.5.0",
       "_view_name": "FloatSliderView",
       "continuous_update": true,
       "description": "sig",
       "description_tooltip": null,
       "disabled": false,
       "layout": "IPY_MODEL_ed5f988d4cb24affaf12d5ccf93a1b66",
       "max": 1.0,
       "min": 0.0,
       "orientation": "horizontal",
       "readout": true,
       "readout_format": ".2f",
       "step": 0.01,
       "style": "IPY_MODEL_6d3523887c7c4a0aa5570a6f380a5325",
       "value": 0.3
      }
     },
     "0c3524b04acb4e50baf5692c5f2338a5": {
      "model_module": "@jupyter-widgets/controls",
      "model_module_version": "1.5.0",
      "model_name": "IntSliderModel",
      "state": {
       "_dom_classes": [],
       "_model_module": "@jupyter-widgets/controls",
       "_model_module_version": "1.5.0",
       "_model_name": "IntSliderModel",
       "_view_count": null,
       "_view_module": "@jupyter-widgets/controls",
       "_view_module_version": "1.5.0",
       "_view_name": "IntSliderView",
       "continuous_update": true,
       "description": "N",
       "description_tooltip": null,
       "disabled": false,
       "layout": "IPY_MODEL_219c4cd0da8444e5b6c35bdc647ad61c",
       "max": 1000,
       "min": 1,
       "orientation": "horizontal",
       "readout": true,
       "readout_format": "d",
       "step": 1,
       "style": "IPY_MODEL_23c3af1ff70749e8b594701b4242d0bc",
       "value": 1000
      }
     },
     "10e68c9c2a5d4d16a6077eed4ecf92ed": {
      "model_module": "@jupyter-widgets/controls",
      "model_module_version": "1.5.0",
      "model_name": "FloatSliderModel",
      "state": {
       "_dom_classes": [],
       "_model_module": "@jupyter-widgets/controls",
       "_model_module_version": "1.5.0",
       "_model_name": "FloatSliderModel",
       "_view_count": null,
       "_view_module": "@jupyter-widgets/controls",
       "_view_module_version": "1.5.0",
       "_view_name": "FloatSliderView",
       "continuous_update": true,
       "description": "t",
       "description_tooltip": null,
       "disabled": false,
       "layout": "IPY_MODEL_4ee2825b4bad42b7bfe3758bbd62aee6",
       "max": 10.0,
       "min": -10.0,
       "orientation": "horizontal",
       "readout": true,
       "readout_format": ".2f",
       "step": 0.1,
       "style": "IPY_MODEL_dcfba9867edf4e329efde48fc20dd4ec",
       "value": 0.0
      }
     },
     "152070752ee1494380786a95c994e134": {
      "model_module": "@jupyter-widgets/controls",
      "model_module_version": "1.5.0",
      "model_name": "FloatSliderModel",
      "state": {
       "_dom_classes": [],
       "_model_module": "@jupyter-widgets/controls",
       "_model_module_version": "1.5.0",
       "_model_name": "FloatSliderModel",
       "_view_count": null,
       "_view_module": "@jupyter-widgets/controls",
       "_view_module_version": "1.5.0",
       "_view_name": "FloatSliderView",
       "continuous_update": true,
       "description": "t",
       "description_tooltip": null,
       "disabled": false,
       "layout": "IPY_MODEL_db7d0e5f4dbf45c28d7f55c216c8484a",
       "max": 20.0,
       "min": 0.0,
       "orientation": "horizontal",
       "readout": true,
       "readout_format": ".2f",
       "step": 0.1,
       "style": "IPY_MODEL_6d4ee842a14042e2ba18ed137081ca5d",
       "value": 2.0
      }
     },
     "219c4cd0da8444e5b6c35bdc647ad61c": {
      "model_module": "@jupyter-widgets/base",
      "model_module_version": "1.2.0",
      "model_name": "LayoutModel",
      "state": {
       "_model_module": "@jupyter-widgets/base",
       "_model_module_version": "1.2.0",
       "_model_name": "LayoutModel",
       "_view_count": null,
       "_view_module": "@jupyter-widgets/base",
       "_view_module_version": "1.2.0",
       "_view_name": "LayoutView",
       "align_content": null,
       "align_items": null,
       "align_self": null,
       "border": null,
       "bottom": null,
       "display": null,
       "flex": null,
       "flex_flow": null,
       "grid_area": null,
       "grid_auto_columns": null,
       "grid_auto_flow": null,
       "grid_auto_rows": null,
       "grid_column": null,
       "grid_gap": null,
       "grid_row": null,
       "grid_template_areas": null,
       "grid_template_columns": null,
       "grid_template_rows": null,
       "height": null,
       "justify_content": null,
       "justify_items": null,
       "left": null,
       "margin": null,
       "max_height": null,
       "max_width": null,
       "min_height": null,
       "min_width": null,
       "object_fit": null,
       "object_position": null,
       "order": null,
       "overflow": null,
       "overflow_x": null,
       "overflow_y": null,
       "padding": null,
       "right": null,
       "top": null,
       "visibility": null,
       "width": null
      }
     },
     "23c3af1ff70749e8b594701b4242d0bc": {
      "model_module": "@jupyter-widgets/controls",
      "model_module_version": "1.5.0",
      "model_name": "SliderStyleModel",
      "state": {
       "_model_module": "@jupyter-widgets/controls",
       "_model_module_version": "1.5.0",
       "_model_name": "SliderStyleModel",
       "_view_count": null,
       "_view_module": "@jupyter-widgets/base",
       "_view_module_version": "1.2.0",
       "_view_name": "StyleView",
       "description_width": "",
       "handle_color": null
      }
     },
     "33fa2e35c6d64ee58fce0b8161b47f00": {
      "model_module": "@jupyter-widgets/output",
      "model_module_version": "1.0.0",
      "model_name": "OutputModel",
      "state": {
       "_dom_classes": [],
       "_model_module": "@jupyter-widgets/output",
       "_model_module_version": "1.0.0",
       "_model_name": "OutputModel",
       "_view_count": null,
       "_view_module": "@jupyter-widgets/output",
       "_view_module_version": "1.0.0",
       "_view_name": "OutputView",
       "layout": "IPY_MODEL_ec5c523f55ff4c4a984d24c02d0c6684",
       "msg_id": "",
       "outputs": [
        {
         "data": {
          "image/png": "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\n",
          "text/plain": "<Figure size 1440x360 with 3 Axes>"
         },
         "metadata": {
          "needs_background": "light"
         },
         "output_type": "display_data"
        }
       ]
      }
     },
     "37b07c0510fa46d58c50563c017cdb70": {
      "model_module": "@jupyter-widgets/controls",
      "model_module_version": "1.5.0",
      "model_name": "SliderStyleModel",
      "state": {
       "_model_module": "@jupyter-widgets/controls",
       "_model_module_version": "1.5.0",
       "_model_name": "SliderStyleModel",
       "_view_count": null,
       "_view_module": "@jupyter-widgets/base",
       "_view_module_version": "1.2.0",
       "_view_name": "StyleView",
       "description_width": "",
       "handle_color": null
      }
     },
     "3f76d8024909499ba14f4c485590b14e": {
      "model_module": "@jupyter-widgets/base",
      "model_module_version": "1.2.0",
      "model_name": "LayoutModel",
      "state": {
       "_model_module": "@jupyter-widgets/base",
       "_model_module_version": "1.2.0",
       "_model_name": "LayoutModel",
       "_view_count": null,
       "_view_module": "@jupyter-widgets/base",
       "_view_module_version": "1.2.0",
       "_view_name": "LayoutView",
       "align_content": null,
       "align_items": null,
       "align_self": null,
       "border": null,
       "bottom": null,
       "display": null,
       "flex": null,
       "flex_flow": null,
       "grid_area": null,
       "grid_auto_columns": null,
       "grid_auto_flow": null,
       "grid_auto_rows": null,
       "grid_column": null,
       "grid_gap": null,
       "grid_row": null,
       "grid_template_areas": null,
       "grid_template_columns": null,
       "grid_template_rows": null,
       "height": null,
       "justify_content": null,
       "justify_items": null,
       "left": null,
       "margin": null,
       "max_height": null,
       "max_width": null,
       "min_height": null,
       "min_width": null,
       "object_fit": null,
       "object_position": null,
       "order": null,
       "overflow": null,
       "overflow_x": null,
       "overflow_y": null,
       "padding": null,
       "right": null,
       "top": null,
       "visibility": null,
       "width": null
      }
     },
     "415a6e5701ba4effaf1d7bb7767f2bb2": {
      "model_module": "@jupyter-widgets/base",
      "model_module_version": "1.2.0",
      "model_name": "LayoutModel",
      "state": {
       "_model_module": "@jupyter-widgets/base",
       "_model_module_version": "1.2.0",
       "_model_name": "LayoutModel",
       "_view_count": null,
       "_view_module": "@jupyter-widgets/base",
       "_view_module_version": "1.2.0",
       "_view_name": "LayoutView",
       "align_content": null,
       "align_items": null,
       "align_self": null,
       "border": null,
       "bottom": null,
       "display": null,
       "flex": null,
       "flex_flow": null,
       "grid_area": null,
       "grid_auto_columns": null,
       "grid_auto_flow": null,
       "grid_auto_rows": null,
       "grid_column": null,
       "grid_gap": null,
       "grid_row": null,
       "grid_template_areas": null,
       "grid_template_columns": null,
       "grid_template_rows": null,
       "height": null,
       "justify_content": null,
       "justify_items": null,
       "left": null,
       "margin": null,
       "max_height": null,
       "max_width": null,
       "min_height": null,
       "min_width": null,
       "object_fit": null,
       "object_position": null,
       "order": null,
       "overflow": null,
       "overflow_x": null,
       "overflow_y": null,
       "padding": null,
       "right": null,
       "top": null,
       "visibility": null,
       "width": null
      }
     },
     "429bcc09cd3b4ba8baa27c8bcf3f2faa": {
      "model_module": "@jupyter-widgets/controls",
      "model_module_version": "1.5.0",
      "model_name": "SliderStyleModel",
      "state": {
       "_model_module": "@jupyter-widgets/controls",
       "_model_module_version": "1.5.0",
       "_model_name": "SliderStyleModel",
       "_view_count": null,
       "_view_module": "@jupyter-widgets/base",
       "_view_module_version": "1.2.0",
       "_view_name": "StyleView",
       "description_width": "",
       "handle_color": null
      }
     },
     "436b1b5b6eb740688593c2b022cf4ce1": {
      "model_module": "@jupyter-widgets/base",
      "model_module_version": "1.2.0",
      "model_name": "LayoutModel",
      "state": {
       "_model_module": "@jupyter-widgets/base",
       "_model_module_version": "1.2.0",
       "_model_name": "LayoutModel",
       "_view_count": null,
       "_view_module": "@jupyter-widgets/base",
       "_view_module_version": "1.2.0",
       "_view_name": "LayoutView",
       "align_content": null,
       "align_items": null,
       "align_self": null,
       "border": null,
       "bottom": null,
       "display": null,
       "flex": null,
       "flex_flow": null,
       "grid_area": null,
       "grid_auto_columns": null,
       "grid_auto_flow": null,
       "grid_auto_rows": null,
       "grid_column": null,
       "grid_gap": null,
       "grid_row": null,
       "grid_template_areas": null,
       "grid_template_columns": null,
       "grid_template_rows": null,
       "height": null,
       "justify_content": null,
       "justify_items": null,
       "left": null,
       "margin": null,
       "max_height": null,
       "max_width": null,
       "min_height": null,
       "min_width": null,
       "object_fit": null,
       "object_position": null,
       "order": null,
       "overflow": null,
       "overflow_x": null,
       "overflow_y": null,
       "padding": null,
       "right": null,
       "top": null,
       "visibility": null,
       "width": null
      }
     },
     "457a703c37c043f78201140a30221724": {
      "model_module": "@jupyter-widgets/base",
      "model_module_version": "1.2.0",
      "model_name": "LayoutModel",
      "state": {
       "_model_module": "@jupyter-widgets/base",
       "_model_module_version": "1.2.0",
       "_model_name": "LayoutModel",
       "_view_count": null,
       "_view_module": "@jupyter-widgets/base",
       "_view_module_version": "1.2.0",
       "_view_name": "LayoutView",
       "align_content": null,
       "align_items": null,
       "align_self": null,
       "border": null,
       "bottom": null,
       "display": null,
       "flex": null,
       "flex_flow": null,
       "grid_area": null,
       "grid_auto_columns": null,
       "grid_auto_flow": null,
       "grid_auto_rows": null,
       "grid_column": null,
       "grid_gap": null,
       "grid_row": null,
       "grid_template_areas": null,
       "grid_template_columns": null,
       "grid_template_rows": null,
       "height": null,
       "justify_content": null,
       "justify_items": null,
       "left": null,
       "margin": null,
       "max_height": null,
       "max_width": null,
       "min_height": null,
       "min_width": null,
       "object_fit": null,
       "object_position": null,
       "order": null,
       "overflow": null,
       "overflow_x": null,
       "overflow_y": null,
       "padding": null,
       "right": null,
       "top": null,
       "visibility": null,
       "width": null
      }
     },
     "4852e44ea5514ec39626613556db2e98": {
      "model_module": "@jupyter-widgets/base",
      "model_module_version": "1.2.0",
      "model_name": "LayoutModel",
      "state": {
       "_model_module": "@jupyter-widgets/base",
       "_model_module_version": "1.2.0",
       "_model_name": "LayoutModel",
       "_view_count": null,
       "_view_module": "@jupyter-widgets/base",
       "_view_module_version": "1.2.0",
       "_view_name": "LayoutView",
       "align_content": null,
       "align_items": null,
       "align_self": null,
       "border": null,
       "bottom": null,
       "display": null,
       "flex": null,
       "flex_flow": null,
       "grid_area": null,
       "grid_auto_columns": null,
       "grid_auto_flow": null,
       "grid_auto_rows": null,
       "grid_column": null,
       "grid_gap": null,
       "grid_row": null,
       "grid_template_areas": null,
       "grid_template_columns": null,
       "grid_template_rows": null,
       "height": null,
       "justify_content": null,
       "justify_items": null,
       "left": null,
       "margin": null,
       "max_height": null,
       "max_width": null,
       "min_height": null,
       "min_width": null,
       "object_fit": null,
       "object_position": null,
       "order": null,
       "overflow": null,
       "overflow_x": null,
       "overflow_y": null,
       "padding": null,
       "right": null,
       "top": null,
       "visibility": null,
       "width": null
      }
     },
     "4ee2825b4bad42b7bfe3758bbd62aee6": {
      "model_module": "@jupyter-widgets/base",
      "model_module_version": "1.2.0",
      "model_name": "LayoutModel",
      "state": {
       "_model_module": "@jupyter-widgets/base",
       "_model_module_version": "1.2.0",
       "_model_name": "LayoutModel",
       "_view_count": null,
       "_view_module": "@jupyter-widgets/base",
       "_view_module_version": "1.2.0",
       "_view_name": "LayoutView",
       "align_content": null,
       "align_items": null,
       "align_self": null,
       "border": null,
       "bottom": null,
       "display": null,
       "flex": null,
       "flex_flow": null,
       "grid_area": null,
       "grid_auto_columns": null,
       "grid_auto_flow": null,
       "grid_auto_rows": null,
       "grid_column": null,
       "grid_gap": null,
       "grid_row": null,
       "grid_template_areas": null,
       "grid_template_columns": null,
       "grid_template_rows": null,
       "height": null,
       "justify_content": null,
       "justify_items": null,
       "left": null,
       "margin": null,
       "max_height": null,
       "max_width": null,
       "min_height": null,
       "min_width": null,
       "object_fit": null,
       "object_position": null,
       "order": null,
       "overflow": null,
       "overflow_x": null,
       "overflow_y": null,
       "padding": null,
       "right": null,
       "top": null,
       "visibility": null,
       "width": null
      }
     },
     "5078b597ea7f48019a49bc19ff852f15": {
      "model_module": "@jupyter-widgets/output",
      "model_module_version": "1.0.0",
      "model_name": "OutputModel",
      "state": {
       "_dom_classes": [],
       "_model_module": "@jupyter-widgets/output",
       "_model_module_version": "1.0.0",
       "_model_name": "OutputModel",
       "_view_count": null,
       "_view_module": "@jupyter-widgets/output",
       "_view_module_version": "1.0.0",
       "_view_name": "OutputView",
       "layout": "IPY_MODEL_415a6e5701ba4effaf1d7bb7767f2bb2",
       "msg_id": "",
       "outputs": [
        {
         "data": {
          "image/png": "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\n",
          "text/plain": "<Figure size 576x360 with 2 Axes>"
         },
         "metadata": {
          "needs_background": "light"
         },
         "output_type": "display_data"
        }
       ]
      }
     },
     "526eb7e208824efb86cdf8a456fbd67f": {
      "model_module": "@jupyter-widgets/controls",
      "model_module_version": "1.5.0",
      "model_name": "SliderStyleModel",
      "state": {
       "_model_module": "@jupyter-widgets/controls",
       "_model_module_version": "1.5.0",
       "_model_name": "SliderStyleModel",
       "_view_count": null,
       "_view_module": "@jupyter-widgets/base",
       "_view_module_version": "1.2.0",
       "_view_name": "StyleView",
       "description_width": "",
       "handle_color": null
      }
     },
     "5df8fc38bc1b4725beca91d7de697c6c": {
      "model_module": "@jupyter-widgets/controls",
      "model_module_version": "1.5.0",
      "model_name": "IntSliderModel",
      "state": {
       "_dom_classes": [],
       "_model_module": "@jupyter-widgets/controls",
       "_model_module_version": "1.5.0",
       "_model_name": "IntSliderModel",
       "_view_count": null,
       "_view_module": "@jupyter-widgets/controls",
       "_view_module_version": "1.5.0",
       "_view_name": "IntSliderView",
       "continuous_update": true,
       "description": "D",
       "description_tooltip": null,
       "disabled": false,
       "layout": "IPY_MODEL_4852e44ea5514ec39626613556db2e98",
       "max": 200,
       "min": 10,
       "orientation": "horizontal",
       "readout": true,
       "readout_format": "d",
       "step": 1,
       "style": "IPY_MODEL_526eb7e208824efb86cdf8a456fbd67f",
       "value": 70
      }
     },
     "5ea622606d6d4517bfe2fba6fddf5c67": {
      "model_module": "@jupyter-widgets/base",
      "model_module_version": "1.2.0",
      "model_name": "LayoutModel",
      "state": {
       "_model_module": "@jupyter-widgets/base",
       "_model_module_version": "1.2.0",
       "_model_name": "LayoutModel",
       "_view_count": null,
       "_view_module": "@jupyter-widgets/base",
       "_view_module_version": "1.2.0",
       "_view_name": "LayoutView",
       "align_content": null,
       "align_items": null,
       "align_self": null,
       "border": null,
       "bottom": null,
       "display": null,
       "flex": null,
       "flex_flow": null,
       "grid_area": null,
       "grid_auto_columns": null,
       "grid_auto_flow": null,
       "grid_auto_rows": null,
       "grid_column": null,
       "grid_gap": null,
       "grid_row": null,
       "grid_template_areas": null,
       "grid_template_columns": null,
       "grid_template_rows": null,
       "height": null,
       "justify_content": null,
       "justify_items": null,
       "left": null,
       "margin": null,
       "max_height": null,
       "max_width": null,
       "min_height": null,
       "min_width": null,
       "object_fit": null,
       "object_position": null,
       "order": null,
       "overflow": null,
       "overflow_x": null,
       "overflow_y": null,
       "padding": null,
       "right": null,
       "top": null,
       "visibility": null,
       "width": null
      }
     },
     "6175de8301b9493ba90eeb89e0ebb406": {
      "model_module": "@jupyter-widgets/output",
      "model_module_version": "1.0.0",
      "model_name": "OutputModel",
      "state": {
       "_dom_classes": [],
       "_model_module": "@jupyter-widgets/output",
       "_model_module_version": "1.0.0",
       "_model_name": "OutputModel",
       "_view_count": null,
       "_view_module": "@jupyter-widgets/output",
       "_view_module_version": "1.0.0",
       "_view_name": "OutputView",
       "layout": "IPY_MODEL_436b1b5b6eb740688593c2b022cf4ce1",
       "msg_id": "",
       "outputs": [
        {
         "data": {
          "image/png": "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\n",
          "text/plain": "<Figure size 648x360 with 1 Axes>"
         },
         "metadata": {
          "needs_background": "light"
         },
         "output_type": "display_data"
        }
       ]
      }
     },
     "6aa5d72fe74641febf77262d497197bf": {
      "model_module": "@jupyter-widgets/base",
      "model_module_version": "1.2.0",
      "model_name": "LayoutModel",
      "state": {
       "_model_module": "@jupyter-widgets/base",
       "_model_module_version": "1.2.0",
       "_model_name": "LayoutModel",
       "_view_count": null,
       "_view_module": "@jupyter-widgets/base",
       "_view_module_version": "1.2.0",
       "_view_name": "LayoutView",
       "align_content": null,
       "align_items": null,
       "align_self": null,
       "border": null,
       "bottom": null,
       "display": null,
       "flex": null,
       "flex_flow": null,
       "grid_area": null,
       "grid_auto_columns": null,
       "grid_auto_flow": null,
       "grid_auto_rows": null,
       "grid_column": null,
       "grid_gap": null,
       "grid_row": null,
       "grid_template_areas": null,
       "grid_template_columns": null,
       "grid_template_rows": null,
       "height": null,
       "justify_content": null,
       "justify_items": null,
       "left": null,
       "margin": null,
       "max_height": null,
       "max_width": null,
       "min_height": null,
       "min_width": null,
       "object_fit": null,
       "object_position": null,
       "order": null,
       "overflow": null,
       "overflow_x": null,
       "overflow_y": null,
       "padding": null,
       "right": null,
       "top": null,
       "visibility": null,
       "width": null
      }
     },
     "6d3523887c7c4a0aa5570a6f380a5325": {
      "model_module": "@jupyter-widgets/controls",
      "model_module_version": "1.5.0",
      "model_name": "SliderStyleModel",
      "state": {
       "_model_module": "@jupyter-widgets/controls",
       "_model_module_version": "1.5.0",
       "_model_name": "SliderStyleModel",
       "_view_count": null,
       "_view_module": "@jupyter-widgets/base",
       "_view_module_version": "1.2.0",
       "_view_name": "StyleView",
       "description_width": "",
       "handle_color": null
      }
     },
     "6d4ee842a14042e2ba18ed137081ca5d": {
      "model_module": "@jupyter-widgets/controls",
      "model_module_version": "1.5.0",
      "model_name": "SliderStyleModel",
      "state": {
       "_model_module": "@jupyter-widgets/controls",
       "_model_module_version": "1.5.0",
       "_model_name": "SliderStyleModel",
       "_view_count": null,
       "_view_module": "@jupyter-widgets/base",
       "_view_module_version": "1.2.0",
       "_view_name": "StyleView",
       "description_width": "",
       "handle_color": null
      }
     },
     "7aa93e5fa2bb40a39950d22dc6c1a581": {
      "model_module": "@jupyter-widgets/controls",
      "model_module_version": "1.5.0",
      "model_name": "VBoxModel",
      "state": {
       "_dom_classes": [
        "widget-interact"
       ],
       "_model_module": "@jupyter-widgets/controls",
       "_model_module_version": "1.5.0",
       "_model_name": "VBoxModel",
       "_view_count": null,
       "_view_module": "@jupyter-widgets/controls",
       "_view_module_version": "1.5.0",
       "_view_name": "VBoxView",
       "box_style": "",
       "children": [
        "IPY_MODEL_0c3524b04acb4e50baf5692c5f2338a5",
        "IPY_MODEL_152070752ee1494380786a95c994e134",
        "IPY_MODEL_0a54d017039b439d8a102e4bca03f892",
        "IPY_MODEL_6175de8301b9493ba90eeb89e0ebb406"
       ],
       "layout": "IPY_MODEL_457a703c37c043f78201140a30221724"
      }
     },
     "89ff8125ab83425eb9448050c34a76a0": {
      "model_module": "@jupyter-widgets/output",
      "model_module_version": "1.0.0",
      "model_name": "OutputModel",
      "state": {
       "_dom_classes": [],
       "_model_module": "@jupyter-widgets/output",
       "_model_module_version": "1.0.0",
       "_model_name": "OutputModel",
       "_view_count": null,
       "_view_module": "@jupyter-widgets/output",
       "_view_module_version": "1.0.0",
       "_view_name": "OutputView",
       "layout": "IPY_MODEL_9baac96c380d4303a2be058bb5af0da9",
       "msg_id": "",
       "outputs": [
        {
         "data": {
          "image/png": "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\n",
          "text/plain": "<Figure size 648x360 with 1 Axes>"
         },
         "metadata": {
          "needs_background": "light"
         },
         "output_type": "display_data"
        }
       ]
      }
     },
     "8bef435f403945b5a337822e755a4965": {
      "model_module": "@jupyter-widgets/controls",
      "model_module_version": "1.5.0",
      "model_name": "FloatSliderModel",
      "state": {
       "_dom_classes": [],
       "_model_module": "@jupyter-widgets/controls",
       "_model_module_version": "1.5.0",
       "_model_name": "FloatSliderModel",
       "_view_count": null,
       "_view_module": "@jupyter-widgets/controls",
       "_view_module_version": "1.5.0",
       "_view_name": "FloatSliderView",
       "continuous_update": true,
       "description": "sig",
       "description_tooltip": null,
       "disabled": false,
       "layout": "IPY_MODEL_3f76d8024909499ba14f4c485590b14e",
       "max": 1.0,
       "min": 0.0,
       "orientation": "horizontal",
       "readout": true,
       "readout_format": ".2f",
       "step": 0.01,
       "style": "IPY_MODEL_37b07c0510fa46d58c50563c017cdb70",
       "value": 0.3
      }
     },
     "9b48400117084ad9863be68b91845ac9": {
      "model_module": "@jupyter-widgets/controls",
      "model_module_version": "1.5.0",
      "model_name": "SliderStyleModel",
      "state": {
       "_model_module": "@jupyter-widgets/controls",
       "_model_module_version": "1.5.0",
       "_model_name": "SliderStyleModel",
       "_view_count": null,
       "_view_module": "@jupyter-widgets/base",
       "_view_module_version": "1.2.0",
       "_view_name": "StyleView",
       "description_width": "",
       "handle_color": null
      }
     },
     "9baac96c380d4303a2be058bb5af0da9": {
      "model_module": "@jupyter-widgets/base",
      "model_module_version": "1.2.0",
      "model_name": "LayoutModel",
      "state": {
       "_model_module": "@jupyter-widgets/base",
       "_model_module_version": "1.2.0",
       "_model_name": "LayoutModel",
       "_view_count": null,
       "_view_module": "@jupyter-widgets/base",
       "_view_module_version": "1.2.0",
       "_view_name": "LayoutView",
       "align_content": null,
       "align_items": null,
       "align_self": null,
       "border": null,
       "bottom": null,
       "display": null,
       "flex": null,
       "flex_flow": null,
       "grid_area": null,
       "grid_auto_columns": null,
       "grid_auto_flow": null,
       "grid_auto_rows": null,
       "grid_column": null,
       "grid_gap": null,
       "grid_row": null,
       "grid_template_areas": null,
       "grid_template_columns": null,
       "grid_template_rows": null,
       "height": null,
       "justify_content": null,
       "justify_items": null,
       "left": null,
       "margin": null,
       "max_height": null,
       "max_width": null,
       "min_height": null,
       "min_width": null,
       "object_fit": null,
       "object_position": null,
       "order": null,
       "overflow": null,
       "overflow_x": null,
       "overflow_y": null,
       "padding": null,
       "right": null,
       "top": null,
       "visibility": null,
       "width": null
      }
     },
     "ba2cd4b2f0644286b2993462072d5a5e": {
      "model_module": "@jupyter-widgets/controls",
      "model_module_version": "1.5.0",
      "model_name": "VBoxModel",
      "state": {
       "_dom_classes": [
        "widget-interact"
       ],
       "_model_module": "@jupyter-widgets/controls",
       "_model_module_version": "1.5.0",
       "_model_name": "VBoxModel",
       "_view_count": null,
       "_view_module": "@jupyter-widgets/controls",
       "_view_module_version": "1.5.0",
       "_view_name": "VBoxView",
       "box_style": "",
       "children": [
        "IPY_MODEL_c9e4fb3ce9d64b5f972b5ccdb9ccb76f",
        "IPY_MODEL_5df8fc38bc1b4725beca91d7de697c6c",
        "IPY_MODEL_33fa2e35c6d64ee58fce0b8161b47f00"
       ],
       "layout": "IPY_MODEL_cd993f01eb274d2f9af2343c1787ebed"
      }
     },
     "c3a32492dc394396878f180a2ca0e737": {
      "model_module": "@jupyter-widgets/controls",
      "model_module_version": "1.5.0",
      "model_name": "IntSliderModel",
      "state": {
       "_dom_classes": [],
       "_model_module": "@jupyter-widgets/controls",
       "_model_module_version": "1.5.0",
       "_model_name": "IntSliderModel",
       "_view_count": null,
       "_view_module": "@jupyter-widgets/controls",
       "_view_module_version": "1.5.0",
       "_view_name": "IntSliderView",
       "continuous_update": true,
       "description": "N",
       "description_tooltip": null,
       "disabled": false,
       "layout": "IPY_MODEL_5ea622606d6d4517bfe2fba6fddf5c67",
       "max": 1000,
       "min": 1,
       "orientation": "horizontal",
       "readout": true,
       "readout_format": "d",
       "step": 1,
       "style": "IPY_MODEL_9b48400117084ad9863be68b91845ac9",
       "value": 1000
      }
     },
     "c9e4fb3ce9d64b5f972b5ccdb9ccb76f": {
      "model_module": "@jupyter-widgets/controls",
      "model_module_version": "1.5.0",
      "model_name": "IntSliderModel",
      "state": {
       "_dom_classes": [],
       "_model_module": "@jupyter-widgets/controls",
       "_model_module_version": "1.5.0",
       "_model_name": "IntSliderModel",
       "_view_count": null,
       "_view_module": "@jupyter-widgets/controls",
       "_view_module_version": "1.5.0",
       "_view_name": "IntSliderView",
       "continuous_update": true,
       "description": "fv",
       "description_tooltip": null,
       "disabled": false,
       "layout": "IPY_MODEL_6aa5d72fe74641febf77262d497197bf",
       "max": 100,
       "min": 1,
       "orientation": "horizontal",
       "readout": true,
       "readout_format": "d",
       "step": 1,
       "style": "IPY_MODEL_429bcc09cd3b4ba8baa27c8bcf3f2faa",
       "value": 20
      }
     },
     "cd53a1471c1c4307b5eaca164e21ea9a": {
      "model_module": "@jupyter-widgets/controls",
      "model_module_version": "1.5.0",
      "model_name": "VBoxModel",
      "state": {
       "_dom_classes": [
        "widget-interact"
       ],
       "_model_module": "@jupyter-widgets/controls",
       "_model_module_version": "1.5.0",
       "_model_name": "VBoxModel",
       "_view_count": null,
       "_view_module": "@jupyter-widgets/controls",
       "_view_module_version": "1.5.0",
       "_view_name": "VBoxView",
       "box_style": "",
       "children": [
        "IPY_MODEL_0593e52984574aa09d9d99ef05030394",
        "IPY_MODEL_5078b597ea7f48019a49bc19ff852f15"
       ],
       "layout": "IPY_MODEL_fb4a232909f843c0b2a7afd989ac4b53"
      }
     },
     "cd993f01eb274d2f9af2343c1787ebed": {
      "model_module": "@jupyter-widgets/base",
      "model_module_version": "1.2.0",
      "model_name": "LayoutModel",
      "state": {
       "_model_module": "@jupyter-widgets/base",
       "_model_module_version": "1.2.0",
       "_model_name": "LayoutModel",
       "_view_count": null,
       "_view_module": "@jupyter-widgets/base",
       "_view_module_version": "1.2.0",
       "_view_name": "LayoutView",
       "align_content": null,
       "align_items": null,
       "align_self": null,
       "border": null,
       "bottom": null,
       "display": null,
       "flex": null,
       "flex_flow": null,
       "grid_area": null,
       "grid_auto_columns": null,
       "grid_auto_flow": null,
       "grid_auto_rows": null,
       "grid_column": null,
       "grid_gap": null,
       "grid_row": null,
       "grid_template_areas": null,
       "grid_template_columns": null,
       "grid_template_rows": null,
       "height": null,
       "justify_content": null,
       "justify_items": null,
       "left": null,
       "margin": null,
       "max_height": null,
       "max_width": null,
       "min_height": null,
       "min_width": null,
       "object_fit": null,
       "object_position": null,
       "order": null,
       "overflow": null,
       "overflow_x": null,
       "overflow_y": null,
       "padding": null,
       "right": null,
       "top": null,
       "visibility": null,
       "width": null
      }
     },
     "d2c1050242404df0847b65a26fb01459": {
      "model_module": "@jupyter-widgets/base",
      "model_module_version": "1.2.0",
      "model_name": "LayoutModel",
      "state": {
       "_model_module": "@jupyter-widgets/base",
       "_model_module_version": "1.2.0",
       "_model_name": "LayoutModel",
       "_view_count": null,
       "_view_module": "@jupyter-widgets/base",
       "_view_module_version": "1.2.0",
       "_view_name": "LayoutView",
       "align_content": null,
       "align_items": null,
       "align_self": null,
       "border": null,
       "bottom": null,
       "display": null,
       "flex": null,
       "flex_flow": null,
       "grid_area": null,
       "grid_auto_columns": null,
       "grid_auto_flow": null,
       "grid_auto_rows": null,
       "grid_column": null,
       "grid_gap": null,
       "grid_row": null,
       "grid_template_areas": null,
       "grid_template_columns": null,
       "grid_template_rows": null,
       "height": null,
       "justify_content": null,
       "justify_items": null,
       "left": null,
       "margin": null,
       "max_height": null,
       "max_width": null,
       "min_height": null,
       "min_width": null,
       "object_fit": null,
       "object_position": null,
       "order": null,
       "overflow": null,
       "overflow_x": null,
       "overflow_y": null,
       "padding": null,
       "right": null,
       "top": null,
       "visibility": null,
       "width": null
      }
     },
     "d4495396e642430394187720fc66bd00": {
      "model_module": "@jupyter-widgets/controls",
      "model_module_version": "1.5.0",
      "model_name": "SliderStyleModel",
      "state": {
       "_model_module": "@jupyter-widgets/controls",
       "_model_module_version": "1.5.0",
       "_model_name": "SliderStyleModel",
       "_view_count": null,
       "_view_module": "@jupyter-widgets/base",
       "_view_module_version": "1.2.0",
       "_view_name": "StyleView",
       "description_width": "",
       "handle_color": null
      }
     },
     "db7d0e5f4dbf45c28d7f55c216c8484a": {
      "model_module": "@jupyter-widgets/base",
      "model_module_version": "1.2.0",
      "model_name": "LayoutModel",
      "state": {
       "_model_module": "@jupyter-widgets/base",
       "_model_module_version": "1.2.0",
       "_model_name": "LayoutModel",
       "_view_count": null,
       "_view_module": "@jupyter-widgets/base",
       "_view_module_version": "1.2.0",
       "_view_name": "LayoutView",
       "align_content": null,
       "align_items": null,
       "align_self": null,
       "border": null,
       "bottom": null,
       "display": null,
       "flex": null,
       "flex_flow": null,
       "grid_area": null,
       "grid_auto_columns": null,
       "grid_auto_flow": null,
       "grid_auto_rows": null,
       "grid_column": null,
       "grid_gap": null,
       "grid_row": null,
       "grid_template_areas": null,
       "grid_template_columns": null,
       "grid_template_rows": null,
       "height": null,
       "justify_content": null,
       "justify_items": null,
       "left": null,
       "margin": null,
       "max_height": null,
       "max_width": null,
       "min_height": null,
       "min_width": null,
       "object_fit": null,
       "object_position": null,
       "order": null,
       "overflow": null,
       "overflow_x": null,
       "overflow_y": null,
       "padding": null,
       "right": null,
       "top": null,
       "visibility": null,
       "width": null
      }
     },
     "dcfba9867edf4e329efde48fc20dd4ec": {
      "model_module": "@jupyter-widgets/controls",
      "model_module_version": "1.5.0",
      "model_name": "SliderStyleModel",
      "state": {
       "_model_module": "@jupyter-widgets/controls",
       "_model_module_version": "1.5.0",
       "_model_name": "SliderStyleModel",
       "_view_count": null,
       "_view_module": "@jupyter-widgets/base",
       "_view_module_version": "1.2.0",
       "_view_name": "StyleView",
       "description_width": "",
       "handle_color": null
      }
     },
     "ec5c523f55ff4c4a984d24c02d0c6684": {
      "model_module": "@jupyter-widgets/base",
      "model_module_version": "1.2.0",
      "model_name": "LayoutModel",
      "state": {
       "_model_module": "@jupyter-widgets/base",
       "_model_module_version": "1.2.0",
       "_model_name": "LayoutModel",
       "_view_count": null,
       "_view_module": "@jupyter-widgets/base",
       "_view_module_version": "1.2.0",
       "_view_name": "LayoutView",
       "align_content": null,
       "align_items": null,
       "align_self": null,
       "border": null,
       "bottom": null,
       "display": null,
       "flex": null,
       "flex_flow": null,
       "grid_area": null,
       "grid_auto_columns": null,
       "grid_auto_flow": null,
       "grid_auto_rows": null,
       "grid_column": null,
       "grid_gap": null,
       "grid_row": null,
       "grid_template_areas": null,
       "grid_template_columns": null,
       "grid_template_rows": null,
       "height": null,
       "justify_content": null,
       "justify_items": null,
       "left": null,
       "margin": null,
       "max_height": null,
       "max_width": null,
       "min_height": null,
       "min_width": null,
       "object_fit": null,
       "object_position": null,
       "order": null,
       "overflow": null,
       "overflow_x": null,
       "overflow_y": null,
       "padding": null,
       "right": null,
       "top": null,
       "visibility": null,
       "width": null
      }
     },
     "ed5f988d4cb24affaf12d5ccf93a1b66": {
      "model_module": "@jupyter-widgets/base",
      "model_module_version": "1.2.0",
      "model_name": "LayoutModel",
      "state": {
       "_model_module": "@jupyter-widgets/base",
       "_model_module_version": "1.2.0",
       "_model_name": "LayoutModel",
       "_view_count": null,
       "_view_module": "@jupyter-widgets/base",
       "_view_module_version": "1.2.0",
       "_view_name": "LayoutView",
       "align_content": null,
       "align_items": null,
       "align_self": null,
       "border": null,
       "bottom": null,
       "display": null,
       "flex": null,
       "flex_flow": null,
       "grid_area": null,
       "grid_auto_columns": null,
       "grid_auto_flow": null,
       "grid_auto_rows": null,
       "grid_column": null,
       "grid_gap": null,
       "grid_row": null,
       "grid_template_areas": null,
       "grid_template_columns": null,
       "grid_template_rows": null,
       "height": null,
       "justify_content": null,
       "justify_items": null,
       "left": null,
       "margin": null,
       "max_height": null,
       "max_width": null,
       "min_height": null,
       "min_width": null,
       "object_fit": null,
       "object_position": null,
       "order": null,
       "overflow": null,
       "overflow_x": null,
       "overflow_y": null,
       "padding": null,
       "right": null,
       "top": null,
       "visibility": null,
       "width": null
      }
     },
     "fb4a232909f843c0b2a7afd989ac4b53": {
      "model_module": "@jupyter-widgets/base",
      "model_module_version": "1.2.0",
      "model_name": "LayoutModel",
      "state": {
       "_model_module": "@jupyter-widgets/base",
       "_model_module_version": "1.2.0",
       "_model_name": "LayoutModel",
       "_view_count": null,
       "_view_module": "@jupyter-widgets/base",
       "_view_module_version": "1.2.0",
       "_view_name": "LayoutView",
       "align_content": null,
       "align_items": null,
       "align_self": null,
       "border": null,
       "bottom": null,
       "display": null,
       "flex": null,
       "flex_flow": null,
       "grid_area": null,
       "grid_auto_columns": null,
       "grid_auto_flow": null,
       "grid_auto_rows": null,
       "grid_column": null,
       "grid_gap": null,
       "grid_row": null,
       "grid_template_areas": null,
       "grid_template_columns": null,
       "grid_template_rows": null,
       "height": null,
       "justify_content": null,
       "justify_items": null,
       "left": null,
       "margin": null,
       "max_height": null,
       "max_width": null,
       "min_height": null,
       "min_width": null,
       "object_fit": null,
       "object_position": null,
       "order": null,
       "overflow": null,
       "overflow_x": null,
       "overflow_y": null,
       "padding": null,
       "right": null,
       "top": null,
       "visibility": null,
       "width": null
      }
     },
     "fe08101e17b84f458b436a04b5a20f6c": {
      "model_module": "@jupyter-widgets/base",
      "model_module_version": "1.2.0",
      "model_name": "LayoutModel",
      "state": {
       "_model_module": "@jupyter-widgets/base",
       "_model_module_version": "1.2.0",
       "_model_name": "LayoutModel",
       "_view_count": null,
       "_view_module": "@jupyter-widgets/base",
       "_view_module_version": "1.2.0",
       "_view_name": "LayoutView",
       "align_content": null,
       "align_items": null,
       "align_self": null,
       "border": null,
       "bottom": null,
       "display": null,
       "flex": null,
       "flex_flow": null,
       "grid_area": null,
       "grid_auto_columns": null,
       "grid_auto_flow": null,
       "grid_auto_rows": null,
       "grid_column": null,
       "grid_gap": null,
       "grid_row": null,
       "grid_template_areas": null,
       "grid_template_columns": null,
       "grid_template_rows": null,
       "height": null,
       "justify_content": null,
       "justify_items": null,
       "left": null,
       "margin": null,
       "max_height": null,
       "max_width": null,
       "min_height": null,
       "min_width": null,
       "object_fit": null,
       "object_position": null,
       "order": null,
       "overflow": null,
       "overflow_x": null,
       "overflow_y": null,
       "padding": null,
       "right": null,
       "top": null,
       "visibility": null,
       "width": null
      }
     }
    },
    "version_major": 2,
    "version_minor": 0
   }
  }
 },
 "nbformat": 4,
 "nbformat_minor": 5
}