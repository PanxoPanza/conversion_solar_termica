{
 "cells": [
  {
   "cell_type": "markdown",
   "id": "8b01ca79",
   "metadata": {
    "slideshow": {
     "slide_type": "slide"
    }
   },
   "source": [
    " <font size=\"6\">MEC501 - Manejo y Conversión de Energía Solar Térmica</font>\n",
    "# 5. Transporte Radiativo\n",
    "<br><br><br><br>\n",
    "Profesor: Francisco Ramírez Cuevas<br>\n",
    "Fecha: 9 de Septiembre 2022"
   ]
  },
  {
   "cell_type": "markdown",
   "id": "9ff4cae4",
   "metadata": {
    "slideshow": {
     "slide_type": "slide"
    }
   },
   "source": [
    "## Coherencia de la luz e interferencia\n",
    "Como veremos en las próximas clases, las vibraciones moleculares en la materia son las responsables de emitir radiación en forma de ondas electromagnéticas. El mecanismo es similar, pero inverso, al mecanismo de absorción de luz, el cual es originado por la interacción de ondas electromagnéticas con las vibraciones moleculares (ver clase 3)."
   ]
  },
  {
   "cell_type": "markdown",
   "id": "bcb7cf39",
   "metadata": {
    "slideshow": {
     "slide_type": "fragment"
    }
   },
   "source": [
    "Dicho esto, dos moléculas pueden emitir radiación con una pequeña variación en la longitud de onda $\\Delta\\lambda$. Esto ocurre porque las vibraciones no están 100% correlacionadas, es decir, existe un grado de aletoriedad en las vibraciones."
   ]
  },
  {
   "cell_type": "markdown",
   "id": "16081fa2",
   "metadata": {
    "slideshow": {
     "slide_type": "slide"
    }
   },
   "source": [
    "Esta aletoriedad en las vibraciones da lugar a una distribución del flujo de radiación emitido por una fuente.\n",
    "\n",
    "<img src=\"./images/light_source_spectra.png\" width=\"800px\" align= center>"
   ]
  },
  {
   "cell_type": "markdown",
   "id": "b54cf722",
   "metadata": {
    "slideshow": {
     "slide_type": "slide"
    }
   },
   "source": [
    "Por ejemplo, consideremos una fuente de luz con una distribución espectral normal, centrada en $\\lambda_0$ y con una desviación estandar $\\pm\\sigma_\\lambda\\lambda_0$, con $\\sigma_\\lambda \\in [0,1]$. Imaginemos esta fuente como $N$ emisores, donde cada emisor $j$ emite ondas electromagnéticas con longitud de onda $\\lambda \\pm\\Delta \\lambda_j$, donde $\\Delta \\lambda_j$ es escogido aleatoriamente a partir de la distribución normal."
   ]
  },
  {
   "cell_type": "markdown",
   "id": "31f81723",
   "metadata": {
    "cell_style": "split",
    "slideshow": {
     "slide_type": "fragment"
    }
   },
   "source": [
    "<img src=\"./images/normal_distribution.png\" width=\"400px\" align= center>"
   ]
  },
  {
   "cell_type": "markdown",
   "id": "76d68ef4",
   "metadata": {
    "cell_style": "split",
    "slideshow": {
     "slide_type": "fragment"
    }
   },
   "source": [
    "Asumiendo ondas en el aire en dirección $\\hat{k} = \\hat{x}$, el campo eléctrico resultante es:\n",
    "\n",
    "\\begin{equation*}\n",
    "\\vec{E}_\\mathrm{tot} = \\sum_j^N E_0e^{i\\left(k_jx - \\omega_j t\\right)} \\hat{z},\n",
    "\\end{equation*}\n",
    "\n",
    "donde $k_j = \\frac{2\\pi}{\\lambda \\pm\\Delta \\lambda_j}$, y $\\omega_j = c_0k_j$"
   ]
  },
  {
   "cell_type": "markdown",
   "id": "e5e55e68",
   "metadata": {
    "cell_style": "center",
    "slideshow": {
     "slide_type": "fragment"
    }
   },
   "source": [
    "Analicemos el comportamiento de $\\vec{E}_\\mathrm{tot} /E_0$ para $\\lambda_0 = 500$ nm"
   ]
  },
  {
   "cell_type": "code",
   "execution_count": 1,
   "id": "37df7e74",
   "metadata": {
    "cell_style": "split",
    "slideshow": {
     "slide_type": "slide"
    }
   },
   "outputs": [],
   "source": [
    "import numpy as np\n",
    "from numpy.random import normal\n",
    "import matplotlib.pyplot as plt\n",
    "\n",
    "def light_packet(kdir, x, t, lam, sig, N):\n",
    "    c0 = 3E8          # velocidad de la luz (m/s)\n",
    "    xx = np.meshgrid(x,np.ones(N))[0]\n",
    "    \n",
    "    # Generamos arreglo de ondas aleatorias\n",
    "    dlamj =  normal(0, lam*sig,N)\n",
    "    kj = (2*np.pi/(lam + dlamj)).reshape(-1,1)\n",
    "    wj = c0*kj\n",
    "    Erand = np.exp(1j*(kdir*kj*xx-wj*t)) \n",
    "    \n",
    "    # Sumamos todas las ondas\n",
    "    return np.sum(Erand,axis=0)\n",
    " \n",
    "def plot_light_packet(N, t, sig):\n",
    "    '''\n",
    "    n: número de ondas generadas\n",
    "    t: tiempo en ns\n",
    "    sig: % de ancho de banda (dlam = sig*lam)\n",
    "    '''\n",
    "    lam = 0.5         # longitud de onda (um)\n",
    "    t = t*1E-9 # convertimos ns a s\n",
    "    \n",
    "    # recorrido de la onda\n",
    "    x = np.linspace(-2,2,1000)  # desde 0 a 4 micrones\n",
    "    E = light_packet(1, x, t, lam, sig, N)\n",
    "    \n",
    "    # Graficamos\n",
    "    fig, ax = plt.subplots()\n",
    "    fig.set_size_inches(9, 5)\n",
    "    plt.rcParams['font.size'] = '18'\n",
    "    \n",
    "    ax.plot(x,np.real(E), 'k')\n",
    "    ax.set_xlabel('x ($\\mu$m)')\n",
    "    ax.set_ylabel('Amplitud $|E|/E_0$')\n",
    "    ax.set_ylim(-N*1.1,N*1.1)\n",
    "    ax.grid()\n"
   ]
  },
  {
   "cell_type": "code",
   "execution_count": 2,
   "id": "5c81aca7",
   "metadata": {
    "cell_style": "split",
    "slideshow": {
     "slide_type": "fragment"
    }
   },
   "outputs": [
    {
     "data": {
      "application/vnd.jupyter.widget-view+json": {
       "model_id": "6a6a610cfedf4e4f82d3a683a37952c9",
       "version_major": 2,
       "version_minor": 0
      },
      "text/plain": [
       "interactive(children=(IntSlider(value=1000, description='N', max=1000, min=1), FloatSlider(value=0.0, descript…"
      ]
     },
     "metadata": {},
     "output_type": "display_data"
    }
   ],
   "source": [
    "from ipywidgets import interact\n",
    "\n",
    "@interact( N=(1,1000,1), \n",
    "           t=(-10,10,0.1),\n",
    "           sig=(0,1,0.01))\n",
    "def g(N=1000, t=0, sig=0.3):\n",
    "    return plot_light_packet(N,t,sig)"
   ]
  },
  {
   "cell_type": "markdown",
   "id": "b53bb755",
   "metadata": {
    "slideshow": {
     "slide_type": "slide"
    }
   },
   "source": [
    "### Longitud de coherencia\n",
    "Definimos como **longitud de coherencia**, $l_c$, a la distancia donde un grupo de ondas electromagnética mantiene correlación entre las fases. Para longitudes mayores a $l_c$, decimos que la luz es incoherente, es decir, el desface entre las distintas ondas es completamente aleatorio."
   ]
  },
  {
   "cell_type": "markdown",
   "id": "3ea340f8",
   "metadata": {
    "cell_style": "split",
    "slideshow": {
     "slide_type": "fragment"
    }
   },
   "source": [
    "<img src=\"./images/coherence_length.png\" width=\"300px\" align= center>\n",
    "\n",
    "<center>Esquema de un paquete de onda emitido por una fuente con longitud de coherencia $l_c$</center>"
   ]
  },
  {
   "cell_type": "markdown",
   "id": "1f71b46f",
   "metadata": {
    "cell_style": "split",
    "slideshow": {
     "slide_type": "fragment"
    }
   },
   "source": [
    "La relación entre $l_c$, la longitud de onda central $\\lambda$ y el ancho de banda $\\Delta\\lambda$ está dado, aproximadamente, por la relación:\n",
    "\n",
    "\\begin{equation*}\n",
    "l_c \\approx \\frac{\\lambda^2}{n\\Delta \\lambda},\n",
    "\\end{equation*}\n",
    "\n",
    "donde $n$ es el indice de refracción del medio donde se propaga la luz.\n",
    "\n",
    "Por ejemplo, para lasers He-Ne (laser rojo)  $l_c\\approx 0.2 - 100$ m.  "
   ]
  },
  {
   "cell_type": "markdown",
   "id": "b8e319bd",
   "metadata": {
    "slideshow": {
     "slide_type": "slide"
    }
   },
   "source": [
    "Para radiación emitida por un cuerpo a temperatura $T$, la longitud de coherencia está dada por:\n",
    "\n",
    "\\begin{equation*}\n",
    "l_c T = 2167.8~\\mathrm{\\mu m~K}\n",
    "\\end{equation*}\n",
    "\n",
    "Así, por ejemplo, la radiación solar ($T \\approx 5800~\\mathrm{K}$) tiene una longitud de coherencia, $l_c \\approx 370~\\mathrm{nm}$"
   ]
  },
  {
   "cell_type": "markdown",
   "id": "659f7454",
   "metadata": {
    "slideshow": {
     "slide_type": "slide"
    }
   },
   "source": [
    "### Régimen de trasporte de luz\n",
    "Consideremos dos paquetes de onda con una longitud de coherencia $l_c$, viajando en sentido opuesto."
   ]
  },
  {
   "cell_type": "markdown",
   "id": "1b6928bc",
   "metadata": {
    "slideshow": {
     "slide_type": "fragment"
    }
   },
   "source": [
    "Podemos ver que ambos paquetes de luz interfieren en $x = 0$ en un instante $t$. Al continuar su camino, ambos paquetes de onda recuperan su forma original."
   ]
  },
  {
   "cell_type": "code",
   "execution_count": 3,
   "id": "8b9e3e63",
   "metadata": {
    "cell_style": "split",
    "slideshow": {
     "slide_type": "slide"
    }
   },
   "outputs": [],
   "source": [
    "def plot_2light_packet(n, t, sig):\n",
    "    '''\n",
    "    n: número de ondas generadas\n",
    "    t: tiempo en ns\n",
    "    sig: % de ancho de banda (dlam = sig*lam)\n",
    "    '''\n",
    "    t = t*1E-9 # convertimos ns a s\n",
    "    lam = 0.5\n",
    "    \n",
    "    # recorrido de la onda\n",
    "    x = np.linspace(-2,2,1000)  # desde 0 a 4 micrones\n",
    "    k0 = 2*np.pi/lam\n",
    "    Efw = light_packet( 1, x - x[ 0], t, lam, sig, n)\n",
    "    Ebw = light_packet(-1, x - x[-1], t, lam, sig, n)\n",
    "    \n",
    "    # Graficamos\n",
    "    fig, ax = plt.subplots()\n",
    "    fig.set_size_inches(9, 5)\n",
    "    plt.rcParams['font.size'] = '18'\n",
    "    \n",
    "    ax.plot(x,np.real(Efw + Ebw), 'k')\n",
    "    ax.set_xlabel('x ($\\mu$m)')\n",
    "    ax.set_ylabel('Amplitud $|E|/E_0$')\n",
    "    ax.set_ylim(-n*2.1,n*2.1)\n",
    "    ax.grid()\n"
   ]
  },
  {
   "cell_type": "code",
   "execution_count": 4,
   "id": "977daeda",
   "metadata": {
    "cell_style": "split"
   },
   "outputs": [
    {
     "data": {
      "application/vnd.jupyter.widget-view+json": {
       "model_id": "57ec8462a9074b11bbdc5394c3e7dee0",
       "version_major": 2,
       "version_minor": 0
      },
      "text/plain": [
       "interactive(children=(IntSlider(value=1000, description='N', max=1000, min=1), FloatSlider(value=2.0, descript…"
      ]
     },
     "metadata": {},
     "output_type": "display_data"
    }
   ],
   "source": [
    "from ipywidgets import interact\n",
    "\n",
    "@interact( N=(1,1000,1), \n",
    "           t=(0,20,0.1),\n",
    "           sig=(0,1,0.01))\n",
    "def g(N=1000, t=2, sig=0.3):\n",
    "    return plot_2light_packet(N,t,sig)"
   ]
  },
  {
   "cell_type": "markdown",
   "id": "615ad1c6",
   "metadata": {
    "slideshow": {
     "slide_type": "slide"
    }
   },
   "source": [
    "A partir de esto, podemos concluir que los fenómenos de interferencia en películas de capa delgada de espesor $d$ no serían visibles si $d > l_c$. En otras palabras, el fenómeno de interferencia solo existe si el paquete de onda interfiere consigo mismo."
   ]
  },
  {
   "cell_type": "markdown",
   "id": "db4d20e4",
   "metadata": {
    "cell_style": "split",
    "slideshow": {
     "slide_type": "fragment"
    }
   },
   "source": [
    "<img src=\"./images/interference_thinfilm.png\" width=\"200px\" align= center>\n",
    "\n",
    "<center>Propagación de una onda a través de una película de espesor $d$, con $l_c < d$</center>"
   ]
  },
  {
   "cell_type": "markdown",
   "id": "fce7ef57",
   "metadata": {
    "cell_style": "split",
    "slideshow": {
     "slide_type": "fragment"
    }
   },
   "source": [
    "En general, para una longitud características $d$:\n",
    "\n",
    "- Si $d > l_c$ el **transporte de luz es incoherente** . En este régimen, podemos ignorar las propiedades oscilatorias de la luz, y analizar el problema como el transporte de pequeños paquetes de onda, o simplemente como partículas.\n",
    "\n",
    "- Si $d < l_c$, el **transporte de luz es coherente**. En este régimen debemos considerar las propiedades oscilatorias a partir de las Ecuaciones de Maxwell."
   ]
  },
  {
   "cell_type": "markdown",
   "id": "06aab8e7",
   "metadata": {
    "cell_style": "center",
    "slideshow": {
     "slide_type": "slide"
    }
   },
   "source": [
    "Así, los coeficientes de Fresnel para una película delgada solo son válidos para $d < l_c$. "
   ]
  },
  {
   "cell_type": "markdown",
   "id": "c7f85265",
   "metadata": {
    "cell_style": "split",
    "slideshow": {
     "slide_type": "fragment"
    }
   },
   "source": [
    "Los coeficientes de Fresnel para una interface, en cambio, siempre son válidos."
   ]
  },
  {
   "cell_type": "markdown",
   "id": "57178760",
   "metadata": {
    "cell_style": "split",
    "slideshow": {
     "slide_type": "fragment"
    }
   },
   "source": [
    "<img src=\"./images/interference_interface.png\" width=\"350px\" align= center>\n",
    "\n",
    "<center>Refracción y reflexión de una onda incoherente a través de una interfaz</center>"
   ]
  },
  {
   "cell_type": "markdown",
   "id": "0c79f1b6",
   "metadata": {
    "slideshow": {
     "slide_type": "slide"
    }
   },
   "source": [
    "Igualmente, en medios particulados, los fenómenos de interferencia pueden ocurrir si las partículas están suficientemente cerca y tienen tamaños similares. Llamamos a esto **scattering coherente**"
   ]
  },
  {
   "cell_type": "markdown",
   "id": "61e2a519",
   "metadata": {
    "slideshow": {
     "slide_type": "fragment"
    }
   },
   "source": [
    "<img src=\"./images/scattering_coherence.png\" width=\"600px\" align= center>\n",
    "\n",
    "<center>Fenómeno de interferencia en scattering</center>"
   ]
  },
  {
   "cell_type": "markdown",
   "id": "8167d93c",
   "metadata": {
    "slideshow": {
     "slide_type": "slide"
    }
   },
   "source": [
    "El fenómeno de scattering coherente da lugar a los denominados **colores estructurales** presentes en las alas de las aves y mariposas (mas info [acá](https://wires.onlinelibrary.wiley.com/doi/10.1002/wnan.1396))"
   ]
  },
  {
   "cell_type": "markdown",
   "id": "06446d60",
   "metadata": {
    "cell_style": "split",
    "slideshow": {
     "slide_type": "fragment"
    }
   },
   "source": [
    "<img src=\"./images/structural_colors_birds.png\" width=\"550px\" align= center>\n",
    "\n",
    "<center>Colores estructurales en alas de aves</center>\n",
    "\n",
    "Fuente: [Hwang, V. et al. PNAS 118 (4) e2015551118\n",
    " (2020)](https://www.pnas.org/doi/10.1073/pnas.2015551118)"
   ]
  },
  {
   "cell_type": "markdown",
   "id": "71eaafb2",
   "metadata": {
    "cell_style": "split",
    "slideshow": {
     "slide_type": "fragment"
    }
   },
   "source": [
    "<img src=\"./images/structural_colors_buterflies.png\" width=\"450px\" align= center>\n",
    "\n",
    "<center>Colores estructurales en alas de mariposa</center>\n",
    "\n",
    "Fuente: [Tippets C. A. et al. J. Opt. 18 (2016) 065105](https://iopscience.iop.org/article/10.1088/2040-8978/18/6/065105)"
   ]
  },
  {
   "cell_type": "markdown",
   "id": "f629fcbe",
   "metadata": {
    "slideshow": {
     "slide_type": "slide"
    }
   },
   "source": [
    "## Teoría de transferencia radiativa\n",
    "Si el transporte de luz es incoherente, podemos ignorar las propiedades oscilatorias de la luz y analizar el fenómeno óptico como un el transporte de radiación a través de un volumen de control."
   ]
  },
  {
   "cell_type": "markdown",
   "id": "921c9262",
   "metadata": {
    "slideshow": {
     "slide_type": "fragment"
    }
   },
   "source": [
    "La **ecuación de transferencia radiativa** (RTE por sus siglas en ingles), describe la propagación de la **radiancia espectral**, $I_\\lambda(\\vec{r},\\hat{k})$ definida como el espectro del flujo de energía en una posición $\\vec{r}$, y una dirección $\\hat{k}$. En su forma más general, para un problema estacionario:\n",
    "\n",
    "\\begin{equation}\n",
    "\\hat{k}\\cdot\\nabla_r I_\\lambda(\\vec{r},\\hat{k}) = - \\left[\\frac{f_v}{V_p}C_\\mathrm{ext} + 2\\kappa k_0\\right]I_\\lambda(\\vec{r},\\hat{k}) + \\frac{f_v}{V_p}\\int_{4\\pi} P_\\mathrm{sca}(\\hat{k},\\hat{k}') I_\\lambda(\\vec{r},\\hat{k}') d\\hat{k}'\n",
    "\\end{equation}"
   ]
  },
  {
   "cell_type": "markdown",
   "id": "44c82ce8",
   "metadata": {
    "slideshow": {
     "slide_type": "fragment"
    }
   },
   "source": [
    "donde $f_v$ y $V_p$ son, respectivamente la fracción de volúmen y el volúmen de las partículas en el medio, y $P_\\mathrm{sca}(\\hat{k},\\hat{k}')$ es la función de fase."
   ]
  },
  {
   "cell_type": "markdown",
   "id": "84f7041f",
   "metadata": {
    "slideshow": {
     "slide_type": "slide"
    }
   },
   "source": [
    "Notar que consideramos el caso más generalizado de la función de fase, que depende tanto de la dirección de la onda incidente $\\hat{k}$ como de la dirección del scattering $\\hat{k}'$."
   ]
  },
  {
   "cell_type": "markdown",
   "id": "556660a5",
   "metadata": {
    "cell_style": "center",
    "slideshow": {
     "slide_type": "fragment"
    }
   },
   "source": [
    "Como revisamos en el capítulo anterior, en el caso de una esfera, la función de fase depende de $\\theta$, el cual está definido por $\\cos\\theta = \\hat{k}\\cdot\\hat{k}'$\n",
    "\n"
   ]
  },
  {
   "cell_type": "markdown",
   "id": "b7b71333",
   "metadata": {
    "slideshow": {
     "slide_type": "slide"
    }
   },
   "source": [
    "Con esto en mente, ahora podemos discutir el significado de los términos en la RTE:"
   ]
  },
  {
   "cell_type": "markdown",
   "id": "12e1a1e8",
   "metadata": {
    "slideshow": {
     "slide_type": "fragment"
    }
   },
   "source": [
    "- El primer término representa el cambio de $I_\\lambda(\\vec{r},\\hat{k})$ a través volumen diferencial. Por ejemplo, en el caso unidimencional en dirección $\\hat{k} = \\hat{x}$, tenemos: \n",
    "\\begin{equation*}\n",
    "\\hat{k}\\cdot\\nabla_r I_\\lambda(\\vec{r},\\hat{k}) = \\frac{\\partial}{\\partial x}I_\\lambda(\\vec{r},\\hat{k})\n",
    "\\end{equation*}"
   ]
  },
  {
   "cell_type": "markdown",
   "id": "231c3da9",
   "metadata": {
    "slideshow": {
     "slide_type": "fragment"
    }
   },
   "source": [
    "- El segundo término representa la pérdida de energía radiativa, por extinción $\\left(\\frac{f_v}{V_p}C_\\mathrm{ext}\\right)$ y absorción en el material material ($2\\kappa k_0$), respectivamente.Recordemos que la extinción representa la energía absorbida por las partículas + la energía de scattering en direcciónes distintas a $\\hat{k}$, es decir $C_\\mathrm{ext}= C_\\mathrm{abs} + C_\\mathrm{sca}$."
   ]
  },
  {
   "cell_type": "markdown",
   "id": "4754c5ed",
   "metadata": {
    "slideshow": {
     "slide_type": "fragment"
    }
   },
   "source": [
    "- El tercer término representa la ganancia de energía radiativa produco del scattering inducido por radiación incidente en dirección $\\hat{k}'$. Este término representa el fenómeno de **scattering múltiple**."
   ]
  },
  {
   "cell_type": "markdown",
   "id": "43766712",
   "metadata": {
    "slideshow": {
     "slide_type": "slide"
    }
   },
   "source": [
    "## Soluciones de la RTE\n",
    "La ecuación de transferencia radiativa permite explicar de forma fenomenológica el transporte de radiación en un medio particulado. Debido a su complejidad, existen pocas soluciones analíticas. En esta sección describiremos las tres más conocidas."
   ]
  },
  {
   "cell_type": "markdown",
   "id": "6037462f",
   "metadata": {
    "slideshow": {
     "slide_type": "slide"
    }
   },
   "source": [
    "### Película de material sin partículas (Reflectividad y Transmisividad incoherente)\n",
    "En el caso de un medio sin partículas solo debemos considerar el primer término de la RTE. "
   ]
  },
  {
   "cell_type": "markdown",
   "id": "38e80853",
   "metadata": {
    "slideshow": {
     "slide_type": "fragment"
    }
   },
   "source": [
    "Para el caso particular de un material de espesor $t_\\mathrm{film}$ e índice de refracción $N = n + \\kappa$, rodeado por un medio con índice de refracción $N_0$, derivamos las siguientes relaciones de reflectividad y tranmisividad para luz incoherente:\n",
    "\n",
    "\\begin{align}\n",
    "R_\\mathrm{incoh}&= R_0 + \\frac{T_0^2R_0e^{-4\\kappa k_0 t_\\mathrm{film}}}{1 - R_0^2e^{-4\\kappa k_0 t_\\mathrm{film}}} \n",
    "\\\\[10pt]\n",
    "T_\\mathrm{incoh} &= \\frac{T_0^2e^{-4\\kappa k_0 t_\\mathrm{film}}}{1 - R_0^2e^{-4\\kappa k_0 t_\\mathrm{film}}}\n",
    "\\end{align}\n",
    "\n",
    "donde $R_0$ y $T_0$ corresponden, respectivamente, a la reflectividad y transmisividad en la interface $N_0 / N_1$"
   ]
  },
  {
   "cell_type": "markdown",
   "id": "7b8cb924",
   "metadata": {
    "slideshow": {
     "slide_type": "slide"
    }
   },
   "source": [
    "En el siguiente ejemplo, utilizamos la función ```incoh_multilayer``` de la libreria ```empylib.waveoptics```. Esta función es más general que la ecuación anterior y permite determinar $R_\\mathrm{incoh}$ y $T_\\mathrm{incoh}$ para arreglos multicapas. "
   ]
  },
  {
   "cell_type": "markdown",
   "id": "2a3e7bbc",
   "metadata": {
    "slideshow": {
     "slide_type": "fragment"
    }
   },
   "source": [
    "En este caso, evaluaremos una película de sílice de espesor $1~\\mu\\mathrm{m}$, sobre un sustrato con íncide de refracción $N_\\mathrm{back} = 4.3$, y con aire en la superficie $N_\\mathrm{front} = 1.0$. El espectro de longitudes de onda $\\lambda\\in[0.3,0.8]~\\mu\\mathrm{m}$ y el ángulo de incidencia $\\theta_i = 30°$. Para comparar, determinaremos $R$ y $T$ para el caso de luz coherente."
   ]
  },
  {
   "cell_type": "code",
   "execution_count": 5,
   "id": "a99aa431",
   "metadata": {
    "cell_style": "split",
    "slideshow": {
     "slide_type": "slide"
    }
   },
   "outputs": [],
   "source": [
    "import numpy as np\n",
    "import empylib.waveoptics as wv\n",
    "import empylib.nklib as nk\n",
    "\n",
    "lam = np.linspace(0.3,0.8,100)  # espectro de longitudes de onda (um)\n",
    "theta = np.radians(30)          # ángulo de incidencia\n",
    "\n",
    "Nfront = 1.0                 # índice de refracción medio superior\n",
    "N1     = nk.SiO2(lam)        # índice de refracción capa delgada\n",
    "Nback  = 4.3                 # índice de refracción medio inferior\n",
    "N = (Nfront, N1, Nback)      # indices de refracción (above, mid, below)\n",
    "d = 1.0                      # espesor capa intermedia (um)\n",
    "\n",
    "# caso luz incoherente\n",
    "Rp_incoh, Tp_incoh = wv.incoh_multilayer(lam,theta, N, d, pol='TM')\n",
    "# caso luz coherente\n",
    "Rp, Tp = wv.multilayer(lam,theta, N, d, pol='TM')[:2]"
   ]
  },
  {
   "cell_type": "code",
   "execution_count": 6,
   "id": "3bee2ad8",
   "metadata": {
    "cell_style": "split",
    "slideshow": {
     "slide_type": "fragment"
    }
   },
   "outputs": [
    {
     "data": {
      "image/png": "[encoded data removed]",
      "text/plain": [
       "<Figure size 504x360 with 1 Axes>"
      ]
     },
     "metadata": {
      "filenames": {
       "image/png": "/mnt/c/Users/francisco.ramirez.c/OneDrive - Universidad Adolfo Ibanez/Teaching_courses/Manejo_y_Conversion_Energia_Solar_Termica/material_catedra/_build/jupyter_execute/5_TransporteRadiativo/5_TransporteRadiativo_44_0.png"
      },
      "needs_background": "light"
     },
     "output_type": "display_data"
    }
   ],
   "source": [
    "fig, ax = plt.subplots()\n",
    "fig.set_size_inches(7, 5)\n",
    "plt.rcParams['font.size'] = '16'\n",
    "\n",
    "# Graficamos el flujo de energía\n",
    "plt.plot(lam,Rp,'--r',label='$R_\\mathrm{TM}$ (coh)')\n",
    "plt.plot(lam,Tp,'--b',label='$T_\\mathrm{TM}$ (coh)')\n",
    "plt.plot(lam,Rp_incoh,'-r',label='$R_\\mathrm{TM}$ (incoh)')\n",
    "plt.plot(lam,Tp_incoh,'-b',label='$T_\\mathrm{TM}$ (incoh)')\n",
    "plt.title('arreglo 1.0/1.5/4.3')\n",
    "plt.xlabel('Longitud de onda ($\\mu$m)')\n",
    "plt.ylabel('Refletividad / Transmisividad')\n",
    "plt.legend()\n",
    "plt.show()"
   ]
  },
  {
   "cell_type": "markdown",
   "id": "c6ed7877",
   "metadata": {
    "slideshow": {
     "slide_type": "slide"
    }
   },
   "source": [
    "En la figura, para el caso de luz coherente, notamos oscilaciones en $R$ y $T$ producto de los fenómenos de interferencia. En el caso de luz incoherente, el fenómeno de interferencia desaparace."
   ]
  },
  {
   "cell_type": "markdown",
   "id": "a5316b37",
   "metadata": {
    "slideshow": {
     "slide_type": "slide"
    }
   },
   "source": [
    "### Película de material con baja concentración de partículas (Ley de Beer-Lambert)\n",
    "Definimos el **camino libre medio de scattering**, como $\\Lambda_\\mathrm{sca} = \\left(f_v C_\\mathrm{sca}/V_p\\right)^{-1}$. Este parametro representa la distancia promedio que recorre la luz entre eventos de scattering."
   ]
  },
  {
   "cell_type": "markdown",
   "id": "a352fb08",
   "metadata": {
    "cell_style": "center",
    "slideshow": {
     "slide_type": "fragment"
    }
   },
   "source": [
    "Si $\\Lambda_\\mathrm{sca}$ es mayor que el espesor del material, $t_\\mathrm{film}$, la probabilidad de que ocurran más de un evento scattering es despreciable, y decimos que el **scattering es de primer orden**. En este caso, el tercer término de la RTE es despreciable y la radiación solo pierde energía por absorción del material o extinción inducida por las partículas."
   ]
  },
  {
   "cell_type": "markdown",
   "id": "9407f0e6",
   "metadata": {
    "slideshow": {
     "slide_type": "slide"
    }
   },
   "source": [
    "La solución a esta ecuación se conoce como la ley de Beer-Lambert. Mediante esta aproximación podemos deducir las componentes total y especular de la transmitancia:\n",
    "\n",
    "\\begin{equation}\n",
    "T_\\mathrm{tot} = T_0 e^{-f_v\\frac{C_\\mathrm{abs}}{V_p}t_\\mathrm{film}}\\quad\\quad\\mathrm{and}\\quad\\quad \n",
    "T_\\mathrm{spec} = T_0 e^{-f_v\\frac{C_\\mathrm{ext}}{V_p}t_\\mathrm{film}}\n",
    "\\end{equation}\n",
    "\n",
    "donde, $T_0$ es la **transmisividad incoherente del material sin incrustaciones**."
   ]
  },
  {
   "cell_type": "markdown",
   "id": "2f29ecb5",
   "metadata": {
    "slideshow": {
     "slide_type": "fragment"
    }
   },
   "source": [
    "<img src=\"./images/beer_lambert.png\" width=\"500px\" align= center>\n",
    "\n",
    "<center>Transporte de luz en un medio con scattering de primer orden</center>"
   ]
  },
  {
   "cell_type": "markdown",
   "id": "963bc3c6",
   "metadata": {
    "slideshow": {
     "slide_type": "slide"
    }
   },
   "source": [
    "Podemos utilizar la ley de Beer-Lambert para analizar, de forma aproximada, el efecto del color del cielo durante el día y en la tarde."
   ]
  },
  {
   "cell_type": "markdown",
   "id": "227d193d",
   "metadata": {
    "slideshow": {
     "slide_type": "fragment"
    }
   },
   "source": [
    "El color del cielo está dado por la componente difusa. Así calculamos $T_\\mathrm{dif} = T_\\mathrm{tot} - T_\\mathrm{spec}$."
   ]
  },
  {
   "cell_type": "markdown",
   "id": "a2577fed",
   "metadata": {
    "slideshow": {
     "slide_type": "fragment"
    }
   },
   "source": [
    "Consideremos una atmosfera compuesta de aire ($N_h = 1.0$) y una pequeña concentración ($f_v = 1\\times 10^{-6}~\\%$) de partículas de 10 nm de diámetro e índice de refracción $N_p = 1.5$. El espesor de la atmosfera es $t_\\mathrm{atm} = 100~\\mathrm{km}$"
   ]
  },
  {
   "cell_type": "code",
   "execution_count": 7,
   "id": "33491447",
   "metadata": {
    "cell_style": "center",
    "slideshow": {
     "slide_type": "slide"
    }
   },
   "outputs": [],
   "source": [
    "import empylib.rad_transfer as rt\n",
    "import empylib.nklib as nk\n",
    "import numpy as np\n",
    "import matplotlib.pyplot as plt\n",
    "from empylib.ref_spectra import AM15\n",
    "from empylib.ref_spectra import color_system as cs\n",
    "cs = cs.hdtv\n",
    "\n",
    "lam1 = np.linspace(0.38,0.78,100) # espectro de longitudes de onda\n",
    "cs.interp_internals(lam1)\n",
    "def plot_atmosphere(theta_sun):\n",
    "    fig, ax = plt.subplots()          \n",
    "    fig.set_size_inches(8, 5)         # Tamaño del gráfico\n",
    "    plt.rcParams['font.size'] = '14'  # tamaño de fuente\n",
    "    \n",
    "    # parámetros de entrada\n",
    "    tatm = 100E9                      # espesor de la atmósfera 100 km\n",
    "    N = (1.0,1.0,1.0)                 # indice de refracción superior, intermedio e inferior\n",
    "    fvp = 1E-8                        # fracción de volúmen de las partículas\n",
    "    Dp = 0.010                        # diámetro de las partículas\n",
    "    Np = 1.5*lam1**0                  # índice de refracción de las partículas\n",
    "    \n",
    "    # transmitancia total y especular\n",
    "    theta = np.radians(theta_sun)    # posición del sol en radianes\n",
    "    Ttot, Tspec = rt.T_beer_lambert(lam1,theta,tatm,N,fvp,Dp,Np)\n",
    "    \n",
    "    Tdif = Ttot - Tspec              # transmitancia difusa\n",
    "    ax.plot(lam1,Tdif,'-k',label = 'Tdif')\n",
    "    ax.set_xlabel('Longitud de onda ($\\mu$m)')\n",
    "    ax.set_ylabel('Transmisividad')\n",
    "    ax.set_title(r'Posición del sol, $\\theta_\\mathrm{sun}$=%.1f°'% (theta_sun))\n",
    "    ax.set_ylim(0,1.05)\n",
    "    \n",
    "    Dcircle = 0.25\n",
    "    ax2 = fig.add_axes([0.11,0.15, Dcircle, Dcircle])\n",
    "    Irad = Tdif*AM15(lam1)\n",
    "    html_rgb = cs.spec_to_rgb(Irad, out_fmt='html')\n",
    "    Circle = plt.Circle((0, 0), Dcircle, color=html_rgb)\n",
    "    ax2.add_patch(Circle)\n",
    "    ax2.set_aspect('equal')\n",
    "    ax2.set_xlim(-Dcircle*1.2,Dcircle*1.2)\n",
    "    ax2.set_ylim(-Dcircle*1.2,Dcircle*1.2)\n",
    "    ax2.set_xticks([])\n",
    "    ax2.set_yticks([])\n",
    "    ax2.set_facecolor('k')"
   ]
  },
  {
   "cell_type": "code",
   "execution_count": 8,
   "id": "f3b08336",
   "metadata": {
    "cell_style": "center",
    "slideshow": {
     "slide_type": "slide"
    }
   },
   "outputs": [
    {
     "data": {
      "application/vnd.jupyter.widget-view+json": {
       "model_id": "da478b2cf9ef45f5b0e133f4a3da7792",
       "version_major": 2,
       "version_minor": 0
      },
      "text/plain": [
       "interactive(children=(FloatSlider(value=0.0, description='theta_sun', max=89.99), Output()), _dom_classes=('wi…"
      ]
     },
     "metadata": {},
     "output_type": "display_data"
    }
   ],
   "source": [
    "# from ipywidgets import interact\n",
    "\n",
    "@interact(theta_sun=(0,89.99,0.1))\n",
    "def g(theta_sun=0):\n",
    "    return plot_atmosphere(theta_sun)"
   ]
  },
  {
   "cell_type": "markdown",
   "id": "8aa6d072",
   "metadata": {
    "cell_style": "center",
    "slideshow": {
     "slide_type": "slide"
    }
   },
   "source": [
    "### Pelicula de material particulado (simulaciones de transferencia radiativa)\n",
    "Este caso corresponde a materiales con $\\Lambda_\\mathrm{sca} > t_\\mathrm{film}$. En este caso los eventos de scattering se producen más de una vez, y decimos que estámos en un régimen de **scattering múltiple**. Como resultado, los tres términos de la RTE son relevantes y debemos resolver la ecuación mediante simulación computacional.\n",
    "\n",
    "<img src=\"./images/multiple_scattering.png\" width=\"400px\" align= center>\n",
    "\n",
    "<center>Transporte de luz en un medio con scattering múltiple</center>"
   ]
  },
  {
   "cell_type": "markdown",
   "id": "bea5c468",
   "metadata": {
    "slideshow": {
     "slide_type": "slide"
    }
   },
   "source": [
    "Consideremos un material de sílice de espesor $t_\\mathrm{film} = 5~\\mathrm{mm}$. Evaluaremos los colores de este material en transmisión y reflección para luz incidente normal a la superficie en función de la concentración y el diámetro de las partículas. Utilizamos la función ```ad_rad_transfer``` de la librería ```empylib.rad_transfer```"
   ]
  },
  {
   "cell_type": "code",
   "execution_count": 9,
   "id": "24c8d4d6",
   "metadata": {
    "slideshow": {
     "slide_type": "slide"
    }
   },
   "outputs": [],
   "source": [
    "import empylib.rad_transfer as rt\n",
    "import empylib.nklib as nk\n",
    "import empylib.miescattering as mie\n",
    "import numpy as np\n",
    "import matplotlib.pyplot as plt\n",
    "\n",
    "lam2 = np.linspace(0.3,1.0,100) # espectro de longitudes de onda en micrometros\n",
    "Nlayers = (1.0,nk.SiO2(lam2),1.0)   # indice de refracción superior, intermedio e inferior\n",
    "Np = nk.silver(lam2)                # Índice de refracción de las partículas\n",
    "cs.interp_internals(lam2)\n",
    "\n",
    "def plot_glass_silver(fv,D):\n",
    "    # parámetros de entrada\n",
    "    \n",
    "    theta = np.radians(0)       # 30 grados en radianes\n",
    "    tfilm = 5E3                 # espesor en micrones\n",
    "    \n",
    "    fv = fv*1E-10               # fracción de volúmen de las partículas\n",
    "    D = D*1E-3                  # diámetro de las partículas\n",
    "    \n",
    "    qext, qsca = mie.scatter_efficiency(lam2,Nlayers[1],Np,D)[:2]\n",
    "    qabs = qext - qsca\n",
    "    Rtot, Ttot = rt.ad_rad_transfer(lam2,tfilm,Nlayers,fv,D,Np)\n",
    "\n",
    "    fig, ax = plt.subplots(1,3)\n",
    "    fig.set_size_inches(20, 5)\n",
    "    plt.rcParams['font.size'] = '16'\n",
    "    \n",
    "    ax[0].plot(lam2,qsca,'-r',label='$C_\\mathrm{sca} A_c$')\n",
    "    ax[0].plot(lam2,qabs,'-b',label='$C_\\mathrm{abs} A_c$')\n",
    "    ax[0].set_xlabel('Longitud de onda ($\\mu$m)')\n",
    "    ax[0].set_ylabel('Eficiencia transversal')\n",
    "    ax[0].set_title('Partícula de plata (D=%.0f nm)' % (D*1E3))\n",
    "    ax[0].legend()\n",
    "    ax[0].set_ylim(0,10)\n",
    "    \n",
    "    ax[1].plot(lam2,Rtot,'-r',label = 'Rtot')\n",
    "    ax[1].plot(lam2,Ttot,'-b',label = 'Ttot')\n",
    "    ax[1].set_xlabel('Longitud de onda ($\\mu$m)')\n",
    "    ax[1].set_ylabel('Transmisividad')\n",
    "    ax[1].set_title(r'Sílice con plata (fv = %.1e %%)' % (fv*100) )\n",
    "    ax[1].legend()\n",
    "    ax[1].set_ylim(0,1)\n",
    "\n",
    "    Dcircle = 0.20\n",
    "    html_rgb = cs.spec_to_rgb(Ttot*AM15(lam2), out_fmt='html')\n",
    "    Circle = plt.Circle((0, 0), Dcircle, color=html_rgb)\n",
    "    ax[2].add_patch(Circle)\n",
    "    ax[2].annotate('Luz Trasera', xy=(0, 0), va='center', ha='center')\n",
    "\n",
    "    html_rgb = cs.spec_to_rgb(Rtot*AM15(lam2), out_fmt='html')\n",
    "    Circle = plt.Circle((Dcircle*1.2*2, 0), Dcircle, color=html_rgb)\n",
    "    ax[2].add_patch(Circle)\n",
    "    ax[2].annotate('Luz Frontal', xy=(Dcircle*1.2*2, 0), va='center', ha='center')\n",
    "\n",
    "    ax[2].set_aspect('equal')\n",
    "    ax[2].set_xlim(-Dcircle*1.2,Dcircle*1.2*3)\n",
    "    ax[2].set_ylim(-Dcircle*1.2,Dcircle*1.2)\n",
    "    ax[2].set_xticks([])\n",
    "    ax[2].set_yticks([])\n",
    "    ax[2].set_facecolor('k')\n",
    "    plt.subplots_adjust(wspace=0.3)"
   ]
  },
  {
   "cell_type": "code",
   "execution_count": 10,
   "id": "494ceeb2",
   "metadata": {
    "cell_style": "center",
    "slideshow": {
     "slide_type": "slide"
    }
   },
   "outputs": [
    {
     "data": {
      "application/vnd.jupyter.widget-view+json": {
       "model_id": "31c5b7a9eac54377afef159a4dba587c",
       "version_major": 2,
       "version_minor": 0
      },
      "text/plain": [
       "interactive(children=(IntSlider(value=30, description='fv', min=1), IntSlider(value=140, description='D', max=…"
      ]
     },
     "metadata": {},
     "output_type": "display_data"
    }
   ],
   "source": [
    "from ipywidgets import interact\n",
    "\n",
    "@interact(fv=(1,100,1), D = (10,200,1))\n",
    "def g(fv=30, D = 140):\n",
    "    return plot_glass_silver(fv,D)"
   ]
  },
  {
   "cell_type": "markdown",
   "id": "031ca52b",
   "metadata": {
    "slideshow": {
     "slide_type": "slide"
    }
   },
   "source": [
    "Cuando la concentración de partículas es densa, el medio se vuelve opaco. Este régimen se denomina **scattering difuso** y permite explicar, entre otras cosas, el color de las nubes o la pintura blanca\n",
    "\n",
    "<img src=\"./images/diffuse_scattering.png\" width=\"400px\" align= center>\n",
    "\n",
    "<center>Transporte de luz en un medio con scattering difuso</center>"
   ]
  },
  {
   "attachments": {},
   "cell_type": "markdown",
   "id": "01df5bd6",
   "metadata": {
    "slideshow": {
     "slide_type": "slide"
    }
   },
   "source": [
    "Un ejemplo interesante corresponde a la leche. En términos simples, la leche es una emulsión formada por pequeñas partículas de grasa dispersas en un medio acuoso. \n",
    "\n",
    "<img src=\"./images/milk_microscope.png\" width=\"400px\" align= center>\n",
    "\n",
    "<center>Imagen de microscópio (40x) de leche orgánica. Las burbujas verdes corresponden al aceite en suspención en agua.</center>\n",
    "\n",
    "Fuente: [Braun K., Hanewald A. and Vilgis T. Foods 8(10): 483(2019)](https://www.ncbi.nlm.nih.gov/pmc/articles/PMC6836175/)"
   ]
  },
  {
   "cell_type": "markdown",
   "id": "225b5528",
   "metadata": {
    "slideshow": {
     "slide_type": "fragment"
    }
   },
   "source": [
    "Como aproximación, consideremos un medio de espesor $1$ cm, compuesto por agua $N_h = 1.3$ y pequeñas partículas esféricas de aceite $N_p = 1.5$. La emulsión considera un 60% de partículas de aceite por volumen."
   ]
  },
  {
   "cell_type": "code",
   "execution_count": 11,
   "id": "72cbfc3e",
   "metadata": {
    "cell_style": "split",
    "slideshow": {
     "slide_type": "slide"
    }
   },
   "outputs": [],
   "source": [
    "%%capture showplot\n",
    "# import empylib.nklib as nk\n",
    "import numpy as np\n",
    "import empylib.rad_transfer as rt\n",
    "\n",
    "# Solo modificar estos parámetros\n",
    "#---------------------------------------------------------------\n",
    "lam3 = np.linspace(0.3,1.0,100)   # espectro de longitudes de onda\n",
    "tfilm = 10E3                      # espesor en micrones\n",
    "fv = 0.6                          # fracción de volúmen de los poros\n",
    "D = 2.0                           # diámetro de los poros (micrones)\n",
    "Nh2o = nk.H2O(lam3)               # Índice de refracción del agua\n",
    "Noil = 1.5                        # índice de refracción partículas de aceite\n",
    "#---------------------------------------------------------------\n",
    "Rtot, Ttot = rt.ad_rad_transfer(lam3,tfilm,(1.0,Nh2o,1.0),fv,D,Noil)\n",
    "\n",
    "fig, ax = plt.subplots()\n",
    "fig.set_size_inches(7, 5)\n",
    "plt.rcParams['font.size'] = '16'\n",
    "ax.plot(lam3,Rtot,'-r',label='R')\n",
    "ax.plot(lam3,Ttot,'-b',label='T')\n",
    "ax.set_xlabel('Longitud de onda ($\\mu$m)')\n",
    "ax.set_ylabel('Reflectividad / Transmisividad')\n",
    "ax.set_title(r'Leche (fv = %.0f %%)' % (fv*100))\n",
    "ax.legend()\n",
    "ax.set_ylim(0,1)\n",
    "plt.show"
   ]
  },
  {
   "cell_type": "code",
   "execution_count": 12,
   "id": "9a1291f7",
   "metadata": {
    "cell_style": "split",
    "slideshow": {
     "slide_type": "fragment"
    }
   },
   "outputs": [
    {
     "data": {
      "text/plain": [
       "<function matplotlib.pyplot.show(close=None, block=None)>"
      ]
     },
     "metadata": {},
     "output_type": "display_data"
    },
    {
     "data": {
      "image/png": "[encoded data removed]",
      "text/plain": [
       "<Figure size 504x360 with 1 Axes>"
      ]
     },
     "metadata": {
      "filenames": {
       "image/png": "/mnt/c/Users/francisco.ramirez.c/OneDrive - Universidad Adolfo Ibanez/Teaching_courses/Manejo_y_Conversion_Energia_Solar_Termica/material_catedra/_build/jupyter_execute/5_TransporteRadiativo/5_TransporteRadiativo_63_1.png"
      },
      "needs_background": "light"
     },
     "output_type": "display_data"
    }
   ],
   "source": [
    "showplot()"
   ]
  },
  {
   "cell_type": "markdown",
   "id": "6c035f58",
   "metadata": {
    "slideshow": {
     "slide_type": "slide"
    }
   },
   "source": [
    "Como vemos la alta concentración de partículas hace que la refletividad y transmisividad se vuelvan casi uniformes para todas las longitudes de onda. El espectro, así, toma un color blanco frente a una fuente de luz blanca."
   ]
  },
  {
   "cell_type": "markdown",
   "id": "17c1dc23",
   "metadata": {
    "slideshow": {
     "slide_type": "slide"
    }
   },
   "source": [
    "## Referencias\n",
    "- Chen G. **Chapter 5 - Energy Transfer by Waves** in *Nanoscale energy transport and conversion*, 1st Ed, Oxford University Press, 2005"
   ]
  }
 ],
 "metadata": {
  "celltoolbar": "Slideshow",
  "kernelspec": {
   "display_name": "Python 3 (ipykernel)",
   "language": "python",
   "name": "python3"
  },
  "language_info": {
   "codemirror_mode": {
    "name": "ipython",
    "version": 3
   },
   "file_extension": ".py",
   "mimetype": "text/x-python",
   "name": "python",
   "nbconvert_exporter": "python",
   "pygments_lexer": "ipython3",
   "version": "3.9.13"
  },
  "latex_envs": {
   "LaTeX_envs_menu_present": false,
   "autoclose": false,
   "autocomplete": false,
   "bibliofile": "biblio.bib",
   "cite_by": "apalike",
   "current_citInitial": 1,
   "eqLabelWithNumbers": true,
   "eqNumInitial": 2,
   "hotkeys": {
    "equation": "Ctrl-E",
    "itemize": "Ctrl-I"
   },
   "labels_anchors": false,
   "latex_user_defs": false,
   "report_style_numbering": false,
   "user_envs_cfg": true
  },
  "toc": {
   "base_numbering": 1,
   "nav_menu": {},
   "number_sections": false,
   "sideBar": true,
   "skip_h1_title": true,
   "title_cell": "Tabla de contenidos",
   "title_sidebar": "Contenidos",
   "toc_cell": false,
   "toc_position": {
    "height": "calc(100% - 180px)",
    "left": "10px",
    "top": "150px",
    "width": "307.2px"
   },
   "toc_section_display": true,
   "toc_window_display": false
  },
  "varInspector": {
   "cols": {
    "lenName": 16,
    "lenType": 16,
    "lenVar": 40
   },
   "kernels_config": {
    "python": {
     "delete_cmd_postfix": "",
     "delete_cmd_prefix": "del ",
     "library": "var_list.py",
     "varRefreshCmd": "print(var_dic_list())"
    },
    "r": {
     "delete_cmd_postfix": ") ",
     "delete_cmd_prefix": "rm(",
     "library": "var_list.r",
     "varRefreshCmd": "cat(var_dic_list()) "
    }
   },
   "types_to_exclude": [
    "module",
    "function",
    "builtin_function_or_method",
    "instance",
    "_Feature"
   ],
   "window_display": false
  },
  "widgets": {
   "application/vnd.jupyter.widget-state+json": {
    "state": {
     "001ae62b19f14e87aa2fd4c21c3babe7": {
      "model_module": "@jupyter-widgets/base",
      "model_module_version": "1.2.0",
      "model_name": "LayoutModel",
      "state": {
       "_model_module": "@jupyter-widgets/base",
       "_model_module_version": "1.2.0",
       "_model_name": "LayoutModel",
       "_view_count": null,
       "_view_module": "@jupyter-widgets/base",
       "_view_module_version": "1.2.0",
       "_view_name": "LayoutView",
       "align_content": null,
       "align_items": null,
       "align_self": null,
       "border": null,
       "bottom": null,
       "display": null,
       "flex": null,
       "flex_flow": null,
       "grid_area": null,
       "grid_auto_columns": null,
       "grid_auto_flow": null,
       "grid_auto_rows": null,
       "grid_column": null,
       "grid_gap": null,
       "grid_row": null,
       "grid_template_areas": null,
       "grid_template_columns": null,
       "grid_template_rows": null,
       "height": null,
       "justify_content": null,
       "justify_items": null,
       "left": null,
       "margin": null,
       "max_height": null,
       "max_width": null,
       "min_height": null,
       "min_width": null,
       "object_fit": null,
       "object_position": null,
       "order": null,
       "overflow": null,
       "overflow_x": null,
       "overflow_y": null,
       "padding": null,
       "right": null,
       "top": null,
       "visibility": null,
       "width": null
      }
     },
     "024bc05be7d342369b2d301b279ad60a": {
      "model_module": "@jupyter-widgets/controls",
      "model_module_version": "1.5.0",
      "model_name": "SliderStyleModel",
      "state": {
       "_model_module": "@jupyter-widgets/controls",
       "_model_module_version": "1.5.0",
       "_model_name": "SliderStyleModel",
       "_view_count": null,
       "_view_module": "@jupyter-widgets/base",
       "_view_module_version": "1.2.0",
       "_view_name": "StyleView",
       "description_width": "",
       "handle_color": null
      }
     },
     "0c3376e7697a4bd888f6eecbc30260bc": {
      "model_module": "@jupyter-widgets/base",
      "model_module_version": "1.2.0",
      "model_name": "LayoutModel",
      "state": {
       "_model_module": "@jupyter-widgets/base",
       "_model_module_version": "1.2.0",
       "_model_name": "LayoutModel",
       "_view_count": null,
       "_view_module": "@jupyter-widgets/base",
       "_view_module_version": "1.2.0",
       "_view_name": "LayoutView",
       "align_content": null,
       "align_items": null,
       "align_self": null,
       "border": null,
       "bottom": null,
       "display": null,
       "flex": null,
       "flex_flow": null,
       "grid_area": null,
       "grid_auto_columns": null,
       "grid_auto_flow": null,
       "grid_auto_rows": null,
       "grid_column": null,
       "grid_gap": null,
       "grid_row": null,
       "grid_template_areas": null,
       "grid_template_columns": null,
       "grid_template_rows": null,
       "height": null,
       "justify_content": null,
       "justify_items": null,
       "left": null,
       "margin": null,
       "max_height": null,
       "max_width": null,
       "min_height": null,
       "min_width": null,
       "object_fit": null,
       "object_position": null,
       "order": null,
       "overflow": null,
       "overflow_x": null,
       "overflow_y": null,
       "padding": null,
       "right": null,
       "top": null,
       "visibility": null,
       "width": null
      }
     },
     "0dcbc5e5eb3d49a0bf8f52f0620f333d": {
      "model_module": "@jupyter-widgets/controls",
      "model_module_version": "1.5.0",
      "model_name": "SliderStyleModel",
      "state": {
       "_model_module": "@jupyter-widgets/controls",
       "_model_module_version": "1.5.0",
       "_model_name": "SliderStyleModel",
       "_view_count": null,
       "_view_module": "@jupyter-widgets/base",
       "_view_module_version": "1.2.0",
       "_view_name": "StyleView",
       "description_width": "",
       "handle_color": null
      }
     },
     "2299994d50fa494aa1360d754aef2712": {
      "model_module": "@jupyter-widgets/base",
      "model_module_version": "1.2.0",
      "model_name": "LayoutModel",
      "state": {
       "_model_module": "@jupyter-widgets/base",
       "_model_module_version": "1.2.0",
       "_model_name": "LayoutModel",
       "_view_count": null,
       "_view_module": "@jupyter-widgets/base",
       "_view_module_version": "1.2.0",
       "_view_name": "LayoutView",
       "align_content": null,
       "align_items": null,
       "align_self": null,
       "border": null,
       "bottom": null,
       "display": null,
       "flex": null,
       "flex_flow": null,
       "grid_area": null,
       "grid_auto_columns": null,
       "grid_auto_flow": null,
       "grid_auto_rows": null,
       "grid_column": null,
       "grid_gap": null,
       "grid_row": null,
       "grid_template_areas": null,
       "grid_template_columns": null,
       "grid_template_rows": null,
       "height": null,
       "justify_content": null,
       "justify_items": null,
       "left": null,
       "margin": null,
       "max_height": null,
       "max_width": null,
       "min_height": null,
       "min_width": null,
       "object_fit": null,
       "object_position": null,
       "order": null,
       "overflow": null,
       "overflow_x": null,
       "overflow_y": null,
       "padding": null,
       "right": null,
       "top": null,
       "visibility": null,
       "width": null
      }
     },
     "312ead82e29b4c19a333373f6ef5f0d8": {
      "model_module": "@jupyter-widgets/base",
      "model_module_version": "1.2.0",
      "model_name": "LayoutModel",
      "state": {
       "_model_module": "@jupyter-widgets/base",
       "_model_module_version": "1.2.0",
       "_model_name": "LayoutModel",
       "_view_count": null,
       "_view_module": "@jupyter-widgets/base",
       "_view_module_version": "1.2.0",
       "_view_name": "LayoutView",
       "align_content": null,
       "align_items": null,
       "align_self": null,
       "border": null,
       "bottom": null,
       "display": null,
       "flex": null,
       "flex_flow": null,
       "grid_area": null,
       "grid_auto_columns": null,
       "grid_auto_flow": null,
       "grid_auto_rows": null,
       "grid_column": null,
       "grid_gap": null,
       "grid_row": null,
       "grid_template_areas": null,
       "grid_template_columns": null,
       "grid_template_rows": null,
       "height": null,
       "justify_content": null,
       "justify_items": null,
       "left": null,
       "margin": null,
       "max_height": null,
       "max_width": null,
       "min_height": null,
       "min_width": null,
       "object_fit": null,
       "object_position": null,
       "order": null,
       "overflow": null,
       "overflow_x": null,
       "overflow_y": null,
       "padding": null,
       "right": null,
       "top": null,
       "visibility": null,
       "width": null
      }
     },
     "31c5b7a9eac54377afef159a4dba587c": {
      "model_module": "@jupyter-widgets/controls",
      "model_module_version": "1.5.0",
      "model_name": "VBoxModel",
      "state": {
       "_dom_classes": [
        "widget-interact"
       ],
       "_model_module": "@jupyter-widgets/controls",
       "_model_module_version": "1.5.0",
       "_model_name": "VBoxModel",
       "_view_count": null,
       "_view_module": "@jupyter-widgets/controls",
       "_view_module_version": "1.5.0",
       "_view_name": "VBoxView",
       "box_style": "",
       "children": [
        "IPY_MODEL_f4eec736e8254d518ed8e573a7da879f",
        "IPY_MODEL_b2ac7a834b874d60a36bbaafeb392ed2",
        "IPY_MODEL_79a82ca725bd4688b272909b653b54f1"
       ],
       "layout": "IPY_MODEL_3656b29125e44212b0cf7d2f6408bfa4"
      }
     },
     "345eaabc8fdf4f2b8726fd0d0841d1f8": {
      "model_module": "@jupyter-widgets/base",
      "model_module_version": "1.2.0",
      "model_name": "LayoutModel",
      "state": {
       "_model_module": "@jupyter-widgets/base",
       "_model_module_version": "1.2.0",
       "_model_name": "LayoutModel",
       "_view_count": null,
       "_view_module": "@jupyter-widgets/base",
       "_view_module_version": "1.2.0",
       "_view_name": "LayoutView",
       "align_content": null,
       "align_items": null,
       "align_self": null,
       "border": null,
       "bottom": null,
       "display": null,
       "flex": null,
       "flex_flow": null,
       "grid_area": null,
       "grid_auto_columns": null,
       "grid_auto_flow": null,
       "grid_auto_rows": null,
       "grid_column": null,
       "grid_gap": null,
       "grid_row": null,
       "grid_template_areas": null,
       "grid_template_columns": null,
       "grid_template_rows": null,
       "height": null,
       "justify_content": null,
       "justify_items": null,
       "left": null,
       "margin": null,
       "max_height": null,
       "max_width": null,
       "min_height": null,
       "min_width": null,
       "object_fit": null,
       "object_position": null,
       "order": null,
       "overflow": null,
       "overflow_x": null,
       "overflow_y": null,
       "padding": null,
       "right": null,
       "top": null,
       "visibility": null,
       "width": null
      }
     },
     "3656b29125e44212b0cf7d2f6408bfa4": {
      "model_module": "@jupyter-widgets/base",
      "model_module_version": "1.2.0",
      "model_name": "LayoutModel",
      "state": {
       "_model_module": "@jupyter-widgets/base",
       "_model_module_version": "1.2.0",
       "_model_name": "LayoutModel",
       "_view_count": null,
       "_view_module": "@jupyter-widgets/base",
       "_view_module_version": "1.2.0",
       "_view_name": "LayoutView",
       "align_content": null,
       "align_items": null,
       "align_self": null,
       "border": null,
       "bottom": null,
       "display": null,
       "flex": null,
       "flex_flow": null,
       "grid_area": null,
       "grid_auto_columns": null,
       "grid_auto_flow": null,
       "grid_auto_rows": null,
       "grid_column": null,
       "grid_gap": null,
       "grid_row": null,
       "grid_template_areas": null,
       "grid_template_columns": null,
       "grid_template_rows": null,
       "height": null,
       "justify_content": null,
       "justify_items": null,
       "left": null,
       "margin": null,
       "max_height": null,
       "max_width": null,
       "min_height": null,
       "min_width": null,
       "object_fit": null,
       "object_position": null,
       "order": null,
       "overflow": null,
       "overflow_x": null,
       "overflow_y": null,
       "padding": null,
       "right": null,
       "top": null,
       "visibility": null,
       "width": null
      }
     },
     "3e75eae1ab1d46ecb284ab94b3b6f053": {
      "model_module": "@jupyter-widgets/base",
      "model_module_version": "1.2.0",
      "model_name": "LayoutModel",
      "state": {
       "_model_module": "@jupyter-widgets/base",
       "_model_module_version": "1.2.0",
       "_model_name": "LayoutModel",
       "_view_count": null,
       "_view_module": "@jupyter-widgets/base",
       "_view_module_version": "1.2.0",
       "_view_name": "LayoutView",
       "align_content": null,
       "align_items": null,
       "align_self": null,
       "border": null,
       "bottom": null,
       "display": null,
       "flex": null,
       "flex_flow": null,
       "grid_area": null,
       "grid_auto_columns": null,
       "grid_auto_flow": null,
       "grid_auto_rows": null,
       "grid_column": null,
       "grid_gap": null,
       "grid_row": null,
       "grid_template_areas": null,
       "grid_template_columns": null,
       "grid_template_rows": null,
       "height": null,
       "justify_content": null,
       "justify_items": null,
       "left": null,
       "margin": null,
       "max_height": null,
       "max_width": null,
       "min_height": null,
       "min_width": null,
       "object_fit": null,
       "object_position": null,
       "order": null,
       "overflow": null,
       "overflow_x": null,
       "overflow_y": null,
       "padding": null,
       "right": null,
       "top": null,
       "visibility": null,
       "width": null
      }
     },
     "41611694afe2435aaba8d221bd3a86ee": {
      "model_module": "@jupyter-widgets/base",
      "model_module_version": "1.2.0",
      "model_name": "LayoutModel",
      "state": {
       "_model_module": "@jupyter-widgets/base",
       "_model_module_version": "1.2.0",
       "_model_name": "LayoutModel",
       "_view_count": null,
       "_view_module": "@jupyter-widgets/base",
       "_view_module_version": "1.2.0",
       "_view_name": "LayoutView",
       "align_content": null,
       "align_items": null,
       "align_self": null,
       "border": null,
       "bottom": null,
       "display": null,
       "flex": null,
       "flex_flow": null,
       "grid_area": null,
       "grid_auto_columns": null,
       "grid_auto_flow": null,
       "grid_auto_rows": null,
       "grid_column": null,
       "grid_gap": null,
       "grid_row": null,
       "grid_template_areas": null,
       "grid_template_columns": null,
       "grid_template_rows": null,
       "height": null,
       "justify_content": null,
       "justify_items": null,
       "left": null,
       "margin": null,
       "max_height": null,
       "max_width": null,
       "min_height": null,
       "min_width": null,
       "object_fit": null,
       "object_position": null,
       "order": null,
       "overflow": null,
       "overflow_x": null,
       "overflow_y": null,
       "padding": null,
       "right": null,
       "top": null,
       "visibility": null,
       "width": null
      }
     },
     "463dd99db240432e9d2904eddd3eecf4": {
      "model_module": "@jupyter-widgets/controls",
      "model_module_version": "1.5.0",
      "model_name": "FloatSliderModel",
      "state": {
       "_dom_classes": [],
       "_model_module": "@jupyter-widgets/controls",
       "_model_module_version": "1.5.0",
       "_model_name": "FloatSliderModel",
       "_view_count": null,
       "_view_module": "@jupyter-widgets/controls",
       "_view_module_version": "1.5.0",
       "_view_name": "FloatSliderView",
       "continuous_update": true,
       "description": "theta_sun",
       "description_tooltip": null,
       "disabled": false,
       "layout": "IPY_MODEL_99c26ae3b1b94e258bba353fb4f63151",
       "max": 89.99,
       "min": 0.0,
       "orientation": "horizontal",
       "readout": true,
       "readout_format": ".2f",
       "step": 0.1,
       "style": "IPY_MODEL_a7ac839aee754f9a8751f6f63abd71bd",
       "value": 0.0
      }
     },
     "4d81a39f8f194522984f71033d4548b9": {
      "model_module": "@jupyter-widgets/controls",
      "model_module_version": "1.5.0",
      "model_name": "IntSliderModel",
      "state": {
       "_dom_classes": [],
       "_model_module": "@jupyter-widgets/controls",
       "_model_module_version": "1.5.0",
       "_model_name": "IntSliderModel",
       "_view_count": null,
       "_view_module": "@jupyter-widgets/controls",
       "_view_module_version": "1.5.0",
       "_view_name": "IntSliderView",
       "continuous_update": true,
       "description": "N",
       "description_tooltip": null,
       "disabled": false,
       "layout": "IPY_MODEL_001ae62b19f14e87aa2fd4c21c3babe7",
       "max": 1000,
       "min": 1,
       "orientation": "horizontal",
       "readout": true,
       "readout_format": "d",
       "step": 1,
       "style": "IPY_MODEL_bd652a729ed742b5b7b7f966bfdc2619",
       "value": 1000
      }
     },
     "53139836c0264e41b3b00d09f38cda90": {
      "model_module": "@jupyter-widgets/base",
      "model_module_version": "1.2.0",
      "model_name": "LayoutModel",
      "state": {
       "_model_module": "@jupyter-widgets/base",
       "_model_module_version": "1.2.0",
       "_model_name": "LayoutModel",
       "_view_count": null,
       "_view_module": "@jupyter-widgets/base",
       "_view_module_version": "1.2.0",
       "_view_name": "LayoutView",
       "align_content": null,
       "align_items": null,
       "align_self": null,
       "border": null,
       "bottom": null,
       "display": null,
       "flex": null,
       "flex_flow": null,
       "grid_area": null,
       "grid_auto_columns": null,
       "grid_auto_flow": null,
       "grid_auto_rows": null,
       "grid_column": null,
       "grid_gap": null,
       "grid_row": null,
       "grid_template_areas": null,
       "grid_template_columns": null,
       "grid_template_rows": null,
       "height": null,
       "justify_content": null,
       "justify_items": null,
       "left": null,
       "margin": null,
       "max_height": null,
       "max_width": null,
       "min_height": null,
       "min_width": null,
       "object_fit": null,
       "object_position": null,
       "order": null,
       "overflow": null,
       "overflow_x": null,
       "overflow_y": null,
       "padding": null,
       "right": null,
       "top": null,
       "visibility": null,
       "width": null
      }
     },
     "53a79dc7f2dc4c23b7ab1f2fbf7a41d0": {
      "model_module": "@jupyter-widgets/controls",
      "model_module_version": "1.5.0",
      "model_name": "SliderStyleModel",
      "state": {
       "_model_module": "@jupyter-widgets/controls",
       "_model_module_version": "1.5.0",
       "_model_name": "SliderStyleModel",
       "_view_count": null,
       "_view_module": "@jupyter-widgets/base",
       "_view_module_version": "1.2.0",
       "_view_name": "StyleView",
       "description_width": "",
       "handle_color": null
      }
     },
     "57ec8462a9074b11bbdc5394c3e7dee0": {
      "model_module": "@jupyter-widgets/controls",
      "model_module_version": "1.5.0",
      "model_name": "VBoxModel",
      "state": {
       "_dom_classes": [
        "widget-interact"
       ],
       "_model_module": "@jupyter-widgets/controls",
       "_model_module_version": "1.5.0",
       "_model_name": "VBoxModel",
       "_view_count": null,
       "_view_module": "@jupyter-widgets/controls",
       "_view_module_version": "1.5.0",
       "_view_name": "VBoxView",
       "box_style": "",
       "children": [
        "IPY_MODEL_4d81a39f8f194522984f71033d4548b9",
        "IPY_MODEL_e468be4372fc45d587e9a1becd65e468",
        "IPY_MODEL_89f6568c877741aeb619f5f9471cb111",
        "IPY_MODEL_8070a4e9c31f4dd7b33cc40f50d2a70f"
       ],
       "layout": "IPY_MODEL_0c3376e7697a4bd888f6eecbc30260bc"
      }
     },
     "6505a4d845d342a2b9a68dc659d91fef": {
      "model_module": "@jupyter-widgets/controls",
      "model_module_version": "1.5.0",
      "model_name": "SliderStyleModel",
      "state": {
       "_model_module": "@jupyter-widgets/controls",
       "_model_module_version": "1.5.0",
       "_model_name": "SliderStyleModel",
       "_view_count": null,
       "_view_module": "@jupyter-widgets/base",
       "_view_module_version": "1.2.0",
       "_view_name": "StyleView",
       "description_width": "",
       "handle_color": null
      }
     },
     "6a6a610cfedf4e4f82d3a683a37952c9": {
      "model_module": "@jupyter-widgets/controls",
      "model_module_version": "1.5.0",
      "model_name": "VBoxModel",
      "state": {
       "_dom_classes": [
        "widget-interact"
       ],
       "_model_module": "@jupyter-widgets/controls",
       "_model_module_version": "1.5.0",
       "_model_name": "VBoxModel",
       "_view_count": null,
       "_view_module": "@jupyter-widgets/controls",
       "_view_module_version": "1.5.0",
       "_view_name": "VBoxView",
       "box_style": "",
       "children": [
        "IPY_MODEL_b517db76c6674db6920e052da03d091b",
        "IPY_MODEL_cd4fffa57cf145e7bba6f22d80f03366",
        "IPY_MODEL_a71572fc276949da8c08059c1a25422c",
        "IPY_MODEL_aabf9ea9f82d441b946d2c8905803ba9"
       ],
       "layout": "IPY_MODEL_345eaabc8fdf4f2b8726fd0d0841d1f8"
      }
     },
     "6d02b75b36a048ebb718976310c6031d": {
      "model_module": "@jupyter-widgets/base",
      "model_module_version": "1.2.0",
      "model_name": "LayoutModel",
      "state": {
       "_model_module": "@jupyter-widgets/base",
       "_model_module_version": "1.2.0",
       "_model_name": "LayoutModel",
       "_view_count": null,
       "_view_module": "@jupyter-widgets/base",
       "_view_module_version": "1.2.0",
       "_view_name": "LayoutView",
       "align_content": null,
       "align_items": null,
       "align_self": null,
       "border": null,
       "bottom": null,
       "display": null,
       "flex": null,
       "flex_flow": null,
       "grid_area": null,
       "grid_auto_columns": null,
       "grid_auto_flow": null,
       "grid_auto_rows": null,
       "grid_column": null,
       "grid_gap": null,
       "grid_row": null,
       "grid_template_areas": null,
       "grid_template_columns": null,
       "grid_template_rows": null,
       "height": null,
       "justify_content": null,
       "justify_items": null,
       "left": null,
       "margin": null,
       "max_height": null,
       "max_width": null,
       "min_height": null,
       "min_width": null,
       "object_fit": null,
       "object_position": null,
       "order": null,
       "overflow": null,
       "overflow_x": null,
       "overflow_y": null,
       "padding": null,
       "right": null,
       "top": null,
       "visibility": null,
       "width": null
      }
     },
     "7126ac3b84754912992276770ff8ee21": {
      "model_module": "@jupyter-widgets/base",
      "model_module_version": "1.2.0",
      "model_name": "LayoutModel",
      "state": {
       "_model_module": "@jupyter-widgets/base",
       "_model_module_version": "1.2.0",
       "_model_name": "LayoutModel",
       "_view_count": null,
       "_view_module": "@jupyter-widgets/base",
       "_view_module_version": "1.2.0",
       "_view_name": "LayoutView",
       "align_content": null,
       "align_items": null,
       "align_self": null,
       "border": null,
       "bottom": null,
       "display": null,
       "flex": null,
       "flex_flow": null,
       "grid_area": null,
       "grid_auto_columns": null,
       "grid_auto_flow": null,
       "grid_auto_rows": null,
       "grid_column": null,
       "grid_gap": null,
       "grid_row": null,
       "grid_template_areas": null,
       "grid_template_columns": null,
       "grid_template_rows": null,
       "height": null,
       "justify_content": null,
       "justify_items": null,
       "left": null,
       "margin": null,
       "max_height": null,
       "max_width": null,
       "min_height": null,
       "min_width": null,
       "object_fit": null,
       "object_position": null,
       "order": null,
       "overflow": null,
       "overflow_x": null,
       "overflow_y": null,
       "padding": null,
       "right": null,
       "top": null,
       "visibility": null,
       "width": null
      }
     },
     "79a82ca725bd4688b272909b653b54f1": {
      "model_module": "@jupyter-widgets/output",
      "model_module_version": "1.0.0",
      "model_name": "OutputModel",
      "state": {
       "_dom_classes": [],
       "_model_module": "@jupyter-widgets/output",
       "_model_module_version": "1.0.0",
       "_model_name": "OutputModel",
       "_view_count": null,
       "_view_module": "@jupyter-widgets/output",
       "_view_module_version": "1.0.0",
       "_view_name": "OutputView",
       "layout": "IPY_MODEL_7126ac3b84754912992276770ff8ee21",
       "msg_id": "",
       "outputs": [
        {
         "data": {
          "image/png": "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\n",
          "text/plain": "<Figure size 1440x360 with 3 Axes>"
         },
         "metadata": {
          "needs_background": "light"
         },
         "output_type": "display_data"
        }
       ]
      }
     },
     "7b219f8aaca64982b7b35ac1ffa1a6ce": {
      "model_module": "@jupyter-widgets/controls",
      "model_module_version": "1.5.0",
      "model_name": "SliderStyleModel",
      "state": {
       "_model_module": "@jupyter-widgets/controls",
       "_model_module_version": "1.5.0",
       "_model_name": "SliderStyleModel",
       "_view_count": null,
       "_view_module": "@jupyter-widgets/base",
       "_view_module_version": "1.2.0",
       "_view_name": "StyleView",
       "description_width": "",
       "handle_color": null
      }
     },
     "8070a4e9c31f4dd7b33cc40f50d2a70f": {
      "model_module": "@jupyter-widgets/output",
      "model_module_version": "1.0.0",
      "model_name": "OutputModel",
      "state": {
       "_dom_classes": [],
       "_model_module": "@jupyter-widgets/output",
       "_model_module_version": "1.0.0",
       "_model_name": "OutputModel",
       "_view_count": null,
       "_view_module": "@jupyter-widgets/output",
       "_view_module_version": "1.0.0",
       "_view_name": "OutputView",
       "layout": "IPY_MODEL_53139836c0264e41b3b00d09f38cda90",
       "msg_id": "",
       "outputs": [
        {
         "data": {
          "image/png": "iVBORw0KGgoAAAANSUhEUgAAAmIAAAFRCAYAAADXUMF4AAAAOXRFWHRTb2Z0d2FyZQBNYXRwbG90bGliIHZlcnNpb24zLjUuMiwgaHR0cHM6Ly9tYXRwbG90bGliLm9yZy8qNh9FAAAACXBIWXMAAAsTAAALEwEAmpwYAABXC0lEQVR4nO3dd5wV1fnH8c+z9N6lSFGQjlJWUKwIFlCCiCUYFEUUNRG7CUmw56cmigVjLIgFVJqi2GJBASVEQAFRuihYEESkLWWB3ef3x72XrMsuu3vb3N39vl+veQ07c+bMcxi4+9yZM+eYuyMiIiIiyZcWdAAiIiIipZUSMREREZGAKBETERERCYgSMREREZGAKBETERERCYgSMREREZGAlA06ADlQ3bp1/bDDDktI3Tt27KBKlSoJqTtVqI0lg9pYMpSGNkLpaKfaGJvPPvvsZ3evd8AOdy8RC9AKuAv4BNgIbAcWAX8FquRRvjXwGrAZ2AF8DPTMp+404AZgObAb+A4YlVe9Ra07ryU9Pd0TZcaMGQmrO1WojSWD2lgylIY2upeOdqqNsQE+9Tx+55ekR5OXEUqWVhNKyG4BVgB/A+aYWaVIQTNrAcwBugP/CJetCrxrZqfmUfdDwIPAUmA4MAW4FnjDzH71dxhF3SIiIlJKlaRHky8D97r71hzbnjCzVYTuig0F/hnefi9QE0h390UAZjYOWAI8ZmZtwtkrZtaeUPI11d3PjVRsZt8Ao4GBwEs5zlnoukVERKR0KzF3xNz901xJWMSk8LoDgJlVAfoBMyOJUvj4DOBpQo84u+Y4/kLAgIdz1TsG2AlcFNkQRd0iIiJSipWYROwgGofXG8Lro4AKwH/zKPtJeJ0zWeoKZAPzchZ0992E+qDlLFvUukVERKQUK0mPJg9gZmWA24B9/O/xYaPw+oc8DolsOzTHtkbAz+6emU/548ysvLvviaLunLEOA4YB1K9fn5kzZ+ZVLGYZGRkJqztVqI0lg9pYMpSGNkLpaKfamBglOhEj9DjxWOAv7r4ivK1yeJ1XYrU7V5nIn/Mqm7v8nijq3s/dnwKeAjj66KO9R48e+ZwyNjNnziRRdacKtbFkUBtLhtLQRigd7VQbE6PEPpo0s7uBa4Cn3P3eHLt2htcV8jisYq4ykT/nVTav8kWtW0REREqxEpmImdkdwEjgWeCqXLvXhdd5PSKMbMv5aHEdUNfM8kquDiX02HJPlHWLiIhIKVbiEjEzux24HRgHXJ7HUBFfEHp02D2Pw48Nrz/NsW0+ob+nbrnOUxHolKtsUesWERGRUqxEJWJmdhtwBzAeGOLu2bnLhIeSeAPoYWYdcxxbFbgcWMWv35CcBDhwfa6qriDU3+vFGOoWERGRUqzEdNY3sz8AdwLfAtOB35lZziIb3P398J//DPQC3jOzh4BthBKrQ4Gzct5Fc/cvzOwx4Bozmwq8DbQlNLL+LH49mGuR6hYREZHSrcQkYvxvfK6mwPN57J8FvA/g7l+Z2fHAfcAIoDywAOjt7tPzOPZ6YA2h4SXOAn4GHgVuy33XLYq6RUREpJQqMYmYu18KXFqE8suAswtZNovQJN+j4l23iIiIlF4lqo+YiIiISHGiRExEREQkIErERERERAKiRExEREQkIErERERERAKiRExEREQkIErERERERAKiRExEREQkIErERERERAKiRExEREQkIErERERERAKiRExEREQkIErERERERAKiRExEREQkIErERERERAKiRExEREQkIErERERERAKiRExEREQkIErERERERAKiRExEREQkIErERERERAKiRExEREQkIErERERERAKiRExEREQkIErERERERAKiRExEREQkIErERERERAKiRExEREQkIErERERERAKiRExEREQkIErERERERAKiRExEREQkIErERERERAKiRExEREQkIErERERERAKiRExEREQkIErERERERAKiRExEREQkIErERERERAKiRExEREQkIErERERERAKiRExEREQkIErERERERAKiRExEREQkIErERERERAKiRExEREQkIErERERERAKiRExEREQkIErERERERAKiRExEREQkIErERERERAJSYhIxM/uzmU0xs6/NzM1sTQHlW5vZa2a22cx2mNnHZtYzn7JpZnaDmS03s91m9p2ZjTKzKrHWLSIiIqVXiUnEgHuAnsBqYPPBCppZC2AO0B34B3ALUBV418xOzeOQh4AHgaXAcGAKcC3whpn96u8wirpFRESklCobdABx1MLdvwYwsy8JJT/5uReoCaS7+6LwMeOAJcBjZtbG3T28vT2h5Guqu58bqcDMvgFGAwOBl6KpW0REREq3EnNHLJKEFST8OLEfMDOSKIWPzwCeBloBXXMcciFgwMO5qhoD7AQuiqFuERERKcXimoiZWRMza2dmTeJZb5wdBVQA/pvHvk/C65zJUlcgG5iXs6C77wYW5Spb1LolYGvWrGHTpk1BhyEikjTuzmuvvcYjjzzCtm3bgg6n1Iv50aSZlSP0OG4IoUdyFt6+GXgG+Ku774n1PHHUKLz+IY99kW2H5ir/s7tn5lP+ODMrH25jUevez8yGAcMA6tevz8yZM/NtQCwyMjISVneqKGwbx48fzzPPPEPFihW599576dSpU8Jjixddx5JBbSw5ilM7X3rpJcaMGQPAE088wejRoylXrlyBxxWnNkYrkDa6e0wL8BShzumnA3UJJXd1wz//B3gy1nNEEdOXwJp89l0MOHBZHvuah/c9nGPbauDbfOoaFy5fM5q681vS09M9UWbMmJGwulNFYdq4ZMkSNzPv16+ft27d2ps2beqZmZmJDy5OdB1LBrWx5Cgu7Vy7dq2XLVvWzz//fH/ppZcc8CeeeKJQxxaXNsYikW0EPvU8fufH49HkecBv3P09d//Z3feF1+8B/YEL4nCOeNoZXlfIY1/FXGUif86rbF7li1q3BOTuu++mSpUqjB07loceeohvv/2WF154IeiwREQSatSoUQA88MADDBw4kKOPPpoHH3yQ7OzsgCMrveKRiDn5P+IsG96fStaF13k9Ioxsy/locR1Q18zySq4OJfTYck+OskWpWwKwadMmXn75ZYYNG0bdunXp3bs3nTp1YvTo0UGHJiKSMLt27eLZZ5/lwgsvpGnTppgZN954IytXrmTGjBlBh1dqxSMRewH4t5mdY2aHm1nt8Poc4A1Cj+9SyRdAJqFxvnI7Nrz+NMe2+YT+nrrlLGhmFYFOucoWtW4JwKuvvsq+ffsYNGgQAGbGJZdcwueff86KFSsCjk5EJDHeffddtm/fzsUXX7x/29lnn03lypV55ZVXAoysdItHInYj8Bqh4R1WAxvD64eAacBNcThH3HhoKIk3gB5m1jGy3cyqApcDq/j1G5KTCN3Vuz5XVVcAlYEXY6hbAjBlyhSOOOIIOnfuvH/b+eefD8DkyZODCktEJKEmT55MnTp1OOWUU/Zvq1y5Mn369OHVV18lKysrwOhKr0IlYmbWPfx25AHcPcvd73L3ZkAtoBlQy90Pc/e73T0pV9bMLjazkWY2EqgH1Ij8bGYX5yr+Z2Ar8J6ZjTCz3wMfE3p8ODzcqS7Svi+Ax4ABZjbVzC43s1GERtqfxa8Hcy1S3ZJ8u3fvZtasWfzmN7/BzPZvP/TQQ+nevTtvvvlmgNGJiCRGVlYW77zzDv369aNs2V/3Jurfvz/r169n4cKFAUVXuhX2jths4PyCCrn7Vnf/3t23xhZWVIYCd4eXQwgNpRH5eWjOgu7+FXA8obG9RgAPADuA3u7+bh51Xw/cDLQnlJQNBB4F+rr7r3o4RlG3JNF///tfMjMz6dWr1wH7zjjjDObPn69xxUSkxFm4cCGbN2/m1FMPnGkvsu2DDz5IdlhC4RMx+9UPZnXM7Acz63xAQbMaZlYtLtEVgbv3cHfLZ+mRR/ll7n62u9d098rufoK7T8+n7ix3H+Xurd29grsf6u43hh9F5lW+0HVLcn344YeUKVOGE0888YB9Z5xxBu6uDyMRKXEin2s9e/Y8YF+DBg3o0KED06fr11QQYukj1pDQo8jc+lLApNsiQfnwww/p2rUr1atXP2Df0UcfTY0aNZSIiUiJM2PGDNq3b0+DBg3y3H/qqacye/ZsMjPzGrtcEilRc01awUVEkmv79u3Mmzcvz2+EAGXLluW4445jzpw5SY5MRCRx3J158+bRvXteL/SHnHDCCezevZvPP/88iZEJlKBJv0UKMm/ePPbt28dJJ52Ub5njjjuOJUuWsGXLluQFJiKSQKtXr2bz5s1069Yt3zLHHhsaYem//81rqmRJJCViUmrMnz8fCD2CzM9xxx2Hu/PJJ5/kW0ZEpDiJfPZ17do13zKHHnoojRs31mdfAIqSiPU2s1PNrEbCohFJoPnz59O8eXPq1KmTb5lu3bqRlpamx5MiUmLMmzePSpUq0b59+4OW6969u+6IBaAoidhFwLvAJkKDkjrQ18x6mFm9RAQnEk/z588/6DdCgKpVq9KxY0clYiJSYsyfP58uXbpQrlyew4Hud+yxx7J27Vp+/PHHJEUmUPhErAZwCqGxtCYSmsYnMtr8B8B6M9tgZh+Sa8wukVSwYcMGvvvuuwITMQh9K5w7d64mwRWRYm/fvn0sWLCgUJ99kX5iejyZXIVKxNx9u7vPcveH3P0id29HKDk7EbgBGA/8FP65R6KCFYlWYfpIRKSnp5ORkcFXX32V6LBERBJq5cqV7Nq1i/T09ALLdu7cmbS0NI2wn2RlCy6SN3ffAfwnvAC/mgi7S8yRicTRp59+ipnRpUvB/zQjc1AuXLiQVq1aJTo0EZGE+eKLLwA48sgjCyxbqVIlWrVqpSEskqywc01+Z2aPmlkvMyuTXzl33+3un7j7v+IXokjsFi9eTMuWLalatWqBZdu3b0+5cuX0rVBEir0vv/ySMmXK0KZNm0KV79ixoxKxJCtsH7HXgf7A+8BGMxtvZueYWeWERSYSR1988UWhvhEClC9fnvbt2ysRE5Fi74svvqBVq1ZUqFChUOU7duzI2rVrNZZiEhW2j9gf3L0JcCzwJHA08Arws5lNM7NLzSz/MQFEArRz505Wr15d6EQMQo8nFy5ciLsnMDIRkcT68ssv6dChQ6HLd+zYEfjfI01JvCIN6Oru89z9z+7eFmgH3A00AMYSenNyhplda2bNEhCrSFSWLl2Kuxfpw6hz585s3LiRdevWJTAyEZHE2bFjB19//XVUiZgeTyZP1CPru/tyd7/X3Y8BmhJ6ezILeAD42swWmFnvOMUpErWidFaNyNlhX0SkOIp8CS3KZ1+jRo2oXbu2ErEkissUR+7+g7v/091PBQ4BhgBrgMKn4SIJ8sUXX1CpUiVatGhR6GMi3yC//PLLRIUlIpJQkc+votwRMzM6duzI4sWLExWW5BL3uSbdfYu7j3P3Ae7+QLzrFymqL7/8knbt2lGmTL4v/B6gZs2aNG7cmCVLliQwMhGRxFm6dCkVKlSgefPmRTqubdu2LF++XH1kk0STfkuJV5Q3JnNq3769EjERKbZWrFjBEUccUaQvoRBKxLZt26apjpKkwAFdw9MWxcrdvVcc6hEpkp9//pn169dHnYjNmjWLrKysIn+QiYgEbeXKlQVO9J2Xtm3bArBs2TIaNWoU77Akl8LcEUsDLMZFd94kENF01I/o0KEDu3fv5uuvv453WCIiCbV3715Wr15N69ati3xszkRMEq/AO2Lu3iMJcYgkROTRYjTfCiPHLFmyhJYtW8Y1LhGRRPrmm2/Yt29fVIlYw4YNqVatGsuXL09AZJKb7lRJibZs2TJq1KhBw4YNi3xsu3btAL05KSLFz4oVKwCiSsTMjLZt2+qOWJIUdq7J7mZWLtHBiMTb8uXLadOmDWZW5GOrVq1Ks2bN1GFfRIqdWBIxQIlYEhX2jths4PxEBiKSCMuWLdvf3yEaHTp0UCImIsXOihUrqFevHrVq1Yrq+LZt2/Ljjz+ydevWOEcmuRU2EfvV7QQzq2NmP5hZ5wMKmtUws2pxiU4kBlu3buXHH3+MKRFr3749y5cvZ+/evXGMTEQksVasWEGrVq2iPj7yual+YokXSx+xhkBeqXZfYHMM9YrEReS2eqyJ2N69e/nqq6/iFZaISMKtWLEi6seSoDcnkylRnfWL3iFHJM7ikYhFpgbR40kRKS62bNnCTz/9FFMidvjhh1O+fHklYkmgtyalxFq2bBnly5fnsMMOi7qOSEd/vTkpIsXFypUrgeg76gOULVuWli1bKhFLAiViUmItW7aMVq1aUbZsgcPl5aty5co0b96cpUuXxjEyEZHEifWNyYjInJOSWEVJxHqb2almViNh0YjEUaxvTEa0b99eiZiIFBsrVqygTJkyRZ7sO7e2bduyevVqMjMz4xSZ5KUoidhFwLvAJmAe4EBfM+thZvUSEZxItHbv3s0333wTl0SsXbt2rFy5Um9OikixsGLFCpo3b0758uVjqqdt27ZkZ2ezatWqOEUmeSlsIlYDOAW4GZgIZBJKxK4HPgDWm9mG8AThQxMQp0iRrFq1iuzs7LglYnpzUkSKi1jfmIxo06YNoCEsEq1QnWfcfTswK7wAYGZVgE5AOtAlvD4RKEMoSRMJTKSDaeSDJBaRqY6WLl0al8RORCRRInewTjvttJjriiRz6rCfWFH3Ynb3HcB/wgsAZlaRUHLWJebIRGKwbNkyzCwu3wrbtm2LmbF06VLOPffcOEQnIpIY3377Lbt3747LZ1/lypVp1qyZ7oglWPSvk+XB3XcDn4QXkcAsW7aMww47jEqVKsVcV+XKlTnssMM0lpiIpLx4vTEZoTknE0/DV0iJFK83JiPatWunNydFJOXFOxFr06YNy5cvJzs7Oy71yYEKvCMW7oAfK3f3XnGoR6RAWVlZrFixIi59JCLatWvH+++/z759+2Ial0xEUs+uXbv497//zYwZM9i+fTstW7bk/PPPj2muxqCsXLmS6tWrU79+/bjU17ZtW3bt2sV3330Xl/rkQIW5I5ZGaMqiWBbdeZOkWb9+PZmZmXG9I9a+fXv27NnD119/Hbc6k2Hv3r2MHz+ePn360Lx5c7p06cLNN9+sRw0igLvz/PPPc/jhh3Puuefy3HPP8eGHH3LrrbfStm1bLr30UjZt2hR0mEUSeWPSLD4zDUZeeNJnRuIU+NXe3XskIQ4JyObNm/niiy/46aef9i8///wzhx9+OBdddFHcvlUl07fffgvE543JiMibk0uWLCk235I/+ugjhg4dyldffcURRxxB9+7d2bBhA4888gijRo1iwIAB3Hnnnfvn0xQpTfbs2cOwYcN4/vnnOfbYYxk3bhw9e/akbNmy/Pjjj4waNYrRo0fz/vvv8/LLL9O9e/egQy6UFStWcPLJJ8etvsgX2uXLl9OpU6e41Zto7s7HH3/M5MmTmT9/PmbGiSeeyDXXXEOzZs2CDu/X3F1Lii3p6emeKDNmzHB3940bN/rFF1/saWlpTmi4EQfczLxmzZoOeNWqVX38+PEJiyVRrrrqKgd806ZNcatz27ZtDvjf/va3uNUZi8h1zM/o0aPdzLx58+b+xhtveHZ29v59GzZs8Ntuu82rV6/uZcqU8REjRvju3bsTHHHRFdTGkkBtDMauXbu8d+/eDvgdd9zhWVlZeZZbsGCBH3HEEV6lShWfO3fuQetMhXZmZGQ44HfddVdc661Tp44PGzYsJdpYGKtXr/aePXs64JUrV/ZevXp5jx49vGzZsl6hQgUfOXKkZ2Rk5HlsItsIfOp5/M7XI8NSaPXq1RxzzDFMmjSJ6667jnfffZfFixezfv169uzZw+bNm1m+fDnp6elcfPHFjBw5ktC/oeJh7dq1HHLIIdSuXTtudVarVo2mTZsWiw77kyZN4tprr6Vfv34sXryYvn37/uoxxSGHHMKdd97JN998w6WXXsp9991Hz5492bBhQ4BRiyTH7t276d+/P++++y5jxozh9ttvJy0t71+FnTt35qOPPqJevXqcf/75bN68OcnRFk1kBPx4ddSPiHTYLw4WLVpE165dWbBgAY888gg///wz06dPZ8aMGXzzzTecd955/O1vf6N169ZMnjw56HBD8srOtJTcO2KTJ0/2Zs2aeZ06dfyTTz45aNk9e/b45Zdf7oD/5S9/+dVdlVTWvn17P/nkk+Neb58+fbxTp05xrzca+X1rW7p0qVepUsWPO+44z8zMLFRdkydP9kqVKnmTJk18+fLlcYwyNsXl23cs1Mbk2rlzp59++uluZj527NhCHzd37lxPS0vz4cOH51smFdo5ceJEB3zRokVxrffyyy/3evXqpUQbD2bdunXeoEEDb9Kkia9atSrfcrNnz/YuXbo44AMHDvTt27fv36c7YpJQP/30EzfffDO//PIL7777Lsccc8xBy5crV44nn3ySK664gnvuuYf7778/SZFGz91Zu3ZtQkbAb9euHcuXLycrKyvudcdDdnY2l112GZUqVWLy5MmFnmfu/PPPZ/bs2ezevZtTTjlF88pJibRr1y769+/P+++/z9ixY7nssssKfWy3bt0YNmwY//rXv1L6zlBk6IqWLVvGtd42bdqwceNGtm7dGtd648ndGTJkCFu3buXtt9/miCOOyLfs8ccfz9y5c/nb3/7GlClTOPXUU/nll1+SGO2vKRErRYYPH86GDRt46623SE9PL9QxaWlpPPHEE/z2t79lxIgRvPvuuwmOMjYbNmwgIyMjrh31I9q1a7d/MvFUNGbMGD755BMefPBBDj300CId26VLFz788EP27t1L3759U/oDV6SosrOzufDCC/cnYUOGDClyHXfeeSdVqlThz3/+cwIijI8VK1bQtGlTKleuHNd6I19sIy9CpaJ//vOfvPvuu4waNapQLyCVLVuWv/71r7zyyissWrSIXr16BfboWYlYKfLoo49y3333ceKJJxbpuLS0NMaOHcuRRx7JoEGDWL9+fYIijF3kFetE3REDUrKf2IYNGxgxYgSnnHIKF110UVR1dOjQgVdeeYWvv/6aiy66SAM4Sonx97//nWnTpvHQQw9FlYRBqG/lTTfdxGuvvcbChQvjHGF8rFy5Mu79w+B/b6CnaiK2atUq/vjHP3LmmWdy1VVXFenYs88+m2nTprF06VJ69+7Njh07EhRl/pSIlSKHHHJI1K8fV6lShUmTJrFjxw6uvPLKlO28X1oTsZtuuomdO3fy+OOPxzR+0EknncSDDz7Im2++WSweRYsU5MMPP2TkyJEMHDiQa6+9Nqa6rr32WmrUqMFdd90Vp+jix91ZsWJFQobXadasGRUrVkzJRCw7O5srrriCChUqMGbMmKg+/8444wymTJnCggULAunAr0RMCq1Nmzbcc889vP7664wbNy7ocPK0fPlyKlWqROPGjeNed/Xq1WncuHHKJWIffPABL774IiNGjIjLt+FrrrmGCy64gL/+9a98/PHHcYhQJBg//PADAwcOpHXr1lH/ks6pZs2aXH/99bz22mt8/vnncYoyPtavX8/27dsTckesTJkytGrVirVr18a97liNGTOGWbNmMWrUKBo1ahR1Pf369WPWrFlcfPHFcYyucApMxMzswyiWD5IRvCTfddddx0knncS1117LDz/8EHQ4B1i2bBlNmzaN26jSubVr1y6lJv/Oysriuuuuo0WLFnHru2JmjBkzhubNmzNw4EB++umnuNQrkkx79+7lggsuYNeuXUydOpWqVavGpd7rrruO6tWrp9xdsXjPMZlb27ZtU26ao3Xr1nHLLbfQs2fPIr18kZ/jjjsukCnsCnNHrDlweK6lA9AjvHQCOuf4uUO4jJRAaWlpPPPMM2RmZnLzzTcHHc4BIolYorRv355ly5alTP+pcePGsWTJEv7+979TsWLFuNVbvXp1pkyZwqZNm7jgggvIzMyMW90iyfDHP/6ROXPmMHbs2Li+vFOrVi2uv/56pk6dyuLFi+NWb6wSnYi1adOGH3/8kV27diWk/miMHDmSzMxMnnzyyYR9+U6GAhMxdz/M3Q+PLEAvYBfwCNDI3Wu7ey2gETAa2BkuIyVUixYt+NOf/sTEiROZMWNG0OHst23bNn744YeETl/Rrl07du3alRK36DMzM7ntttvo1q0bAwYMiHv9HTt25JlnnmHWrFlcdtllKdsvUCS3yZMn8/DDD3PddddxwQUXxL3+66+/nurVq3P33XfHve5orVixgkqVKtGkSZOE1N+2bVvcPWWGt1m0aBHPPfccw4cPP+hQFcVBNH3EHgLmuPsN7r7/9Tl3X+/u1wOfhMtICTZixAgOO+wwhg8fzr59+4IOB/jfN8JEJ2KQGh32J06cyPfff89dd92VsG+Dv/vd77jnnnt46aWXGDlyZELOIRJPy5YtY+jQoRx33HH84x//SMg5atWqxbXXXsvLL7/Ml19+mZBzFNWKFSto2bJlvrMExCryAlSqTP49cuRIatWqxV//+tegQ4lZNFesBzDrIPtnAqdEE4wUH5UqVeKBBx5gyZIlTJgwIehwgP99QCTy0WTOyb+D5O48/PDDtGvXjtNPPz2h5xoxYgTDhg3jnnvuYcyYMQk9l0gsMjIyOPfcc4s8qHE0brjhBqpVq5YyfcUS9cZkRMuWLTGzlEjEPv/8c9566y1uuOEGatWqFXQ4MYsmEXPgYGMDtA+XKbXMLM3MbjCz5Wa228y+M7NRZlYl6Nji6ZxzzqFjx47cddddKXFXbNmyZZQtWzamN2cKUrNmTRo1ahT4HbHPP/+cRYsWcf311ye8b4SZ8dhjj3HmmWdy9dVXM3369ISeTyQaWVlZDB48mBUrVjBhwoQiD2pcVLVr12b48OG8/PLLgX8xiww0nYiBrCMqVapEw4YNU2Jmgfvuu49q1arxhz/8IehQ4iKa1wPeA642s8+A8eH5k7DQb4PBwJXAa3GLsHh6CLgWeBUYRShxvRbobGanuntq9PSOUVpaGnfeeSf9+/dnwoQJgbz2m9OyZcto2bJlwt96adeuXeCJ2FtvvUWNGjUYNGhQUs5XtmxZJk2aRPfu3bnwwgv57LPPEnrnMSh79+7lzTffZM6cOWzZsoXt27ezZcsW1q1bx/r166lZsyYnnXQSZ599NqeffjoVKlRISlzbtm3jP//5DytXrmTv3r2UKVOGOnXqUK9ePZo0acLhhx9OlSoHfs/Lzs5my5YtfPXVV6xevZqMjAwyMzPJzMxk8+bNrFy5kp07d9KpUycGDhxYqBHJU1FWVhbXXHMNr776Kg8//DC9eiWnm/KNN97I6NGj+b//+z+GDRuWlHPmZfny5WRnZyf8+jVp0iTwO2JfffUVkydP5uabby4Rd8OAok/6DTQGvgGygHWEHlPODP85C1gDNC5qvSVlIXRHMBt4Jdf24YTuFP6uoDoSOel3vCc0zc7O9vbt2/tRRx0V+KTgrVq18gEDBiR8Ytprr73Wq1SpElh7t27d6hUqVPCrrroq6edesWKFV69e3bt27eo7duxI6LmSOcHwDz/84Pfcc483btzYAa9QoYI3bNjQW7Zs6V27dvXf/OY3PmzYMO/fv79Xr17dAa9evbpffPHF/sYbb/ju3bujOu/B2pidne1z5szxIUOGeOXKlT38+ZHvUq9ePW/SpInXq1fPq1Wr5uXKlTto+TJlyvgRRxzhHTt29LS0NAf8pJNO8ldffdX37dsX5d9k0doYD+vXr/eePXs64LfccktCz5WXG264wcuWLeuvvPJK0s8d8cILLzjgX3zxRULPc8EFF3jFihXj+u+jqK644gqvUKGC//jjjwmpP4hJv4t868DdvzezTsCfgLOBbuFdXwPPAf9w9y1FrbcEuRAw4OFc28cA9wEXAS8lOaaEMTNuuukmLrvsMqZPn85pp50WSBx79uxh9erVnH/++Qk/V7t27dixYwdr167lsMMOS/j5cpsyZQqZmZlceumlST93q1ateP755xkwYAD9+vXj9ddfj/u8dsmSlZXFm2++yVNPPcU777xDdnY2PXv25PHHH+eMM86gXLlyeR63Z88ePvzwQyZPnsyrr77K+PHjqVSpEscffzw9evTg1FNPJT09Peo7s9nZ2UybNo27776bhQsXUqVKFS688EJ+97vfceSRR1KpUiX27t3Lpk2b+Omnn/j222/55ptvWLNmDXv37qVixYpUqFCBihUrUrFiRapWrUrLli1p0aIFNWrUoEKFClSoUIHKlSvvj/Gnn35i/PjxjB49mnPOOYfmzZtz7bXXctlll1GtWrWo/44T7aOPPmLgwIFs3ryZZ555Jurpi2Jx1VVX8dBDD/H2228n5O3lwliyZAlly5ZNaB8xCPW/3b17N2vXrqV58+YJPVde1q9fz/PPP8/QoUNp0KBB0s+fMHllZ1piuiP2LqE7gxXy2PcfYGNBdRSnO2Lu7rt37/YGDRr4GWecEfe6C2vJkiUO+AsvvJDwb+Bz5sxxwKdNm5bQ8+TnhBNO8KZNmwZ6B3LcuHFuZt6tWzf//vvvE3KORF3HrVu3+qOPPupHHHGEA37ooYf6X/7yF1+5cmWR68rMzPS3337br7vuOu/YseP+u021atXyiy++2CdOnOgLFizw77//3nft2nXA8TnbuHfvXp8yZcr+elq0aOFPPPGEb9u2LZbmFkkkhuOOO84Br1Gjhj/44IO+Z8+eqOtMxHXMysry++67z8uUKeMtW7b0zz//PO7nKIpevXp5/fr1A7tT1K9fP2/btm3CzzN69GgH/K233kr4ufIycuRINzNftWpVws4RxB0xC+2TeDGzL4BD3L1+HvsmA+cTStL25No3DBgGUL9+/fSJEycmJL6MjIy4jTCd0wsvvMDYsWN55plnOPzw5I/nO2vWLO644w6efPJJGjVqlJA2RuzatYuzzjqLSy65hEsuuSRh58nLDz/8wEUXXcTgwYMD+faf0+zZs7nnnnuoWLEid955J0ceeWRc64/3v9Wvv/6aadOm8d5777F7927atGnDBRdcwEknnUSZMmXico4tW7awYMEC5s6dy3//+1+2b9/+q/1169alcePG1KtXj127drFt2zays7PJzMxk3bp17NixgyZNmjBo0CBOPfXUuMUVjWXLlvHss88yf/58mjdvzu233x5Vv8B4X8f169fz8MMPM3fuXE4++WRuueWWPPvHJVPk8+f//u//OO6445J+/kGDBtGyZUvuuOOOhJ5n3bp1DBo0iKuvvjoh47MdzO7du/ntb3/LUUcdldDx2xL1OxLglFNO+czdjz5gR17Z2cEW4MNCLB8Utd6SsgCrgW/z2TeO0Dfmmgero7jdEXN3//nnn71SpUo+ZMiQhNRfkFtvvdXT0tJ8165dSelb1Lp1a+/fv3/Cz5PbyJEjPS0tzSdPnpz0c+flyy+/9BYtWnhaWpr/5S9/ibqvVERWVpYvX77c586d61OnTo05voyMDJ84caKfeOKJDnjFihX90ksv9Xnz5sVcd0H27t3rn376qU+dOtWfeOIJv/vuu/2SSy7xY4891ps2beodOnTw9u3be8+ePf2ss87yK6+80qdOnRpo/5vcsrOz/dVXX/W6det61apV/eWXXy5yHfH4/5iRkeEvvfSS9+nTx9PS0rxSpUr+6KOPBt4vNWLPnj1ep04d79OnT9LPvWPHDjczv+OOOxJ+rhkzZni9evV86NChCT9Xbo8//rgD/tFHHyX0PMWijxihKY9y30YrCzQkNBzGz8COKOotKXYCh+Szr2KOMiVKnTp1uOyyy3jqqae45557kv78fvHixbRu3Tqu0/wcTKdOnZg7d25SzhWRnZ3NuHHjOO2006hXr15Sz52f9u3b89lnn3HjjTdyzz33MHnyZO677z4GDBhQpGE1du/ezQsvvMCoUaN+9Xp8gwYNaNu2LdWrV6dKlSpUrlyZOnXq0KxZM9LS0ti6dSsZGRns2LGD7du3s23bNrZu3bp/HXnLsHnz5tx///0MGTKEOnXqJOKv4gBly5YlPT2d9PT0fMvMnDmTHj16JCWeaJgZ/fv3Jz09nfPPP5/zzjuPm2++mXvvvTfhbydnZmYyc+ZMXnzxRaZOncqOHTto3LgxI0aM4Morr0ypt3bLlSvHWWedxfjx41m7dm1CB5XObfny5bg77du3T8r5OnTokPRBbLOzs3nooYfo2rUrJ5xwQlLPnQzRdNY/LK/tZlYBuBEYApwcW1jF2jqgnZlVcPfcE/QdCvzsuR5LlhTXXnstjz32GGPGjOHWW29N6rkXL15Mt27dCi4YJ507d2bSpEls3rw5aa9Qf/zxx3z77bfcd999STlfYdWoUYOxY8dywQUXcNNNN3Heeedx7LHHcv/99x/0Q/Onn35i9uzZTJ8+nYkTJ7J582Y6d+7MU089RYMGDXjnnXfYsWMHK1euZNOmTezYsYMdO3awadMm9u7du78eM6Ny5cpUrVqV6tWrU6NGDapXr079+vU588wz6d27Nz169EjYiOOlQZMmTZg1axY33ngjDzzwAO+//z533XUXZ511Vtwen2ZmZjJv3jxmzpzJzJkzmTNnDrt376ZGjRpceOGFXHTRRZx44okpex379OnD+PHjefbZZxP+iDCnSFKUzETs2WefJTs7O2nX4q233mLlypVMnDixWM8pmZ+4faUJJx33mlk74EFCbw+WRvOB0wm9TfpxZKOZVSQ0QfpHwYSVeK1ateL000/nySefZMSIEfm+dRZv27Zt45tvvuHyyy9PyvkgdEcMQgOrJuuOxqRJk6hUqRL9+vVj/vz5STlnUZxxxhmceuqpPPfcc9x2222ceOKJnHbaafTt25eKFSuyceNGvvrqK1atWsVXX33Fhg0bgNBAkf379+eKK66gR48e+z9oq1WrluffbXZ2NuvXh2ZXq1GjBpUrVy6RH86ppkKFCjz22GOccsop/OlPf+Lss8+mSZMmDBkyhCFDhkT1BvG6det47bXXeP311/noo4/YtWsXZkbHjh256qqr6NmzJ6eddlrS7nTHokGDBpx66qk8++yz3HbbbUlLUpYsWUL58uWTNt9ihw4dyMjI4Ntvv03aW+OjRo2iadOmnHvuuUk5X7Il4t7ybODeBNRbXEwC/gJcT45EDLgCqAy8GEBMSXPNNdfQr18/pk2bxnnnnZeUc0a+ER511FFJOR/8LxFbuHBhUhKxffv28corr9C3b9/AOyYfTJkyZRg6dCgDBw5k9OjRPPHEE7z//vv79zds2JCWLVvSt29f2rRpw/HHH096enqRpqJJS0tL6OwJcnDnnXceZ599NtOmTWPs2LHcfffd3H333fTq1YsLL7yQJk2aUKNGDcqXL0/58uVZsmQJv/zyCz/++CMbN26kfPny7Nu3j1mzZjFjxgzcnSOOOILLL7+cU045hZNPPpnatWsH3cyoRP7tf/DBB0kbymfJkiW0bt06aV98I4PGfvnll0lJxD777DNmzZrFqFGjEv44PCiJaNXhQOIm+Epx7v6FmT0GXGNmU4G3+d/I+rMoQWOI5eXMM8/ksMMO47HHHktaIrZ48WIguYlY/fr1adiwIYsWLUrK+WbNmsVPP/3Eb3/726ScL1ZVqlThz3/+MyNGjGDDhg1kZWVRs2bNlE4ipfDKlSvHeeedx3nnnce3337Lc889xzPPPMPQoUMLXUfr1q259dZbGThwIG3atCkRdzX79+9P7dq1GTt2bNISscWLFye131TkEeiXX35J3759E36+Bx98kGrVqhXp31ZxU+REzMzy6yFZGziVUMIxM4aYSoLrCc0wMAw4i9ALDI8Ct3kJmd4oP2XKlOHqq6/mT3/6E19++WVSpkxZvHgxNWrUoEmTJgk/V06dOnVi4cKFSTnXpEmTqFKlCmeeeWZSzhcvZlayBl6UAzRt2pTbbruNkSNHsmrVKjZu3MjWrVvZs2cPmZmZfPPNN/Tu3ZuGDRtSr1499u3bh7sXi8eNRVWhQgUGDRrEk08+yaZNmxL+Ysgvv/zCd999R+fOnRN6npwin7XJ6LC/bt06Jk+ezPDhw6lRo0bCzxeUaB5iryE0xVHu5TPgH+H918YnvOLJ3bPcfZS7t3b3Cu5+qLvf6O4ZQceWDEOHDqVixYr861//Ssr5FixYQMeOHZP+jbpz584sW7aM3bt3J/Q8e/fuZerUqfTr149KlSol9Fwi0UpLS6N169accMIJnHXWWZxzzjkMHDiQ7t2707lzZxo0aECZMmX2j/pfUg0dOpQ9e/bw0kuJf/jx+eefA9CxY8eEnyunI488MimJ2NNPP82+fftKzOTe+YkmEbsrj+VO4DqgN9DB3b+KW4RS7NSpU4eBAwcyfvx4MjISm3vu2bOHhQsX0rVr14SeJy+dOnVi3759LFmyJKHn+fDDD9m0aVOxeSwpUpp17NiR9PR0xo4dGxk/MmEiXSOSnYh16NCBZcuWsW/fvoSdY+/evTz55JP07t2bFi1aJOw8qaDIiZi73+Hud+Za7nL3f7r7eyX90ZsUzrBhw8jIyCBRMwREfPHFF+zZsyeQRCzyOCDR/cQmTZpE9erVOeOMMxJ6HhGJj6FDh/L5558nvOvC559/TsOGDalf/4CJXBKqQ4cO7Nmzh6++Stw9lzfeeIN169Zx9dVXJ+wcqaLIiZiZPWNmxxxkfzczeya2sKS4O/bYY+nQoQNPPfVUQs8TGcYhiESsefPmVK1aNaGJ2J49e3j11Vc5++yzS/TjHJGSZODAgZQvX55x48Yl9DyLFi1K+t0w+PWbk4ny+OOP07RpU84666yEnSNVRPNo8lLgYPcJDweSOwGfpBwz44orrmD+/PkJTVTmz59PnTp1ApnfMi0tjY4dOyb0W+/777/Pli1b9FhSpBipVasW/fr146WXXvrV4MPxtGfPHpYuXbp/KJ1katu2LWXKlEnYZ/uPP/7IBx98wKWXXhrofKvJkogR56oAifmXJ8XKRRddRMWKFRkzZkzCzjF//ny6du0a2KvvXbp0YdGiRWRlZSWk/kmTJlGrVq2kvQovIvExePBgNm7cyLvvvpuQ+pctW8bevXsDScQqVqxI+/btWbBgQULqnzJlCu5ear6AFioRM7OmZnaSmZ0U3tQm8nOupT9wNaDO+kLt2rU577zzeOGFF9i5M/7Ta+7YsYMlS5YE8lgyomvXruzYsYNly5bFve5du3bx2muv0b9//yINeCoiwevduzd169Zl/PjxCak/qDcmI7p06cJnn32WkBcSJk2axJFHHkm7du3iXncqKuwdsSGExgabQWjC77+G/5x7mQp0Bv4e70CleBo2bBjbtm1j8uTJca974cKFZGdnB5qIRea3nDdvXtzr/ve//8327du58MLSOluYSPFVrlw5LrzwQqZNm8aWLVviXv+iRYuoVKkSLVu2jHvdhZGens5PP/3EunXr4lrvd999x5w5c0rN3TAofCL2GqFkbChgwBjgslzLEOA84HB3T8xXACl2TjjhBNq0aZOQx5NBdtSPaNmyJdWrV0/I3I8TJkzgkEMO4ZRTTol73SKSeIMHDyYzM5MpU6bEve758+fTuXPnwPpQdenSBSDujycjX9qViOXi7p+7+/Pu/hyhMcP+Gf455zLO3ae6+3cJjViKlUin/Tlz5sR9vK05c+bQrFmzQEduT0tLo2vXrnG/I7Zt2zbefPNNLrjgghI7v5pISZeenk7btm3j/vbkvn37WLBgQaBfQjt27EhaWhqfffZZXOudNGkSXbp0Sdok5qkgmnHE7nT3xA+pKyXG4MGDKV++fFzvirk7H3/8MSeeeGLc6oxWt27dWLx4Mbt27YpbndOmTWP37t16LClSjJkZF198MbNnz+brr7+OW71Lly5l586d+7tGBKFKlSq0adMmrnfEVq9ezfz58xk4cGDc6iwOCkzEzGxweLFcPx90SXzoUlzUrVuXAQMGMG7cuLhNB7R69Wo2bNiQ1Mlu89OtWzf27dsX11e5J0yYQLNmzejevXvc6hSR5Bs0aBBmxgsvvBC3OlOhWwb8r8N+vEQeS15wwQVxq7M4KMwdseeAZ4FyuX5+7iDLs/EKUEqGK664gs2bN/PKK6/Epb6PP/4YICXuiEU+DOP1ePLnn3/m/fffZ+DAgYENyyEi8dG0aVNOOeUUxo0bF7c3DOfNm0fNmjUDf3yXnp7OunXrWL9+fVzqmzRpEsceeyzNmjWLS33FRWESsVOAnu6+J+fP4XV+S8/4hyrFWY8ePTjiiCPiNtL+7NmzqV27Nm3atIlLfbE49NBDadSoUdwSsZdffpl9+/bpsaRICTF48GBWr17NJ598Epf6gh4/MSI9PR2ATz/9NOa6li9fzueff16qOulHFJiIufssd5+V++eClsSGLcVNWloaQ4cO5aOPPmLVqlUx1zd79mxOOOEE0tISMSZx0XXv3p3//Oc/calrwoQJtG3blqOOOiou9YlIsAYMGEClSpXi0mk/IyODxYsXB9o/LCI9PZ1y5crF5bPvxRdfJC0tTYmYSCJdcskllClThmefje3J9YYNG1i5cmVK9A+LOPnkk1m7di1r166NqZ7vv/+ejz/+mAsvvDDwb7siEh/VqlVjwIABTJw4kczMzJjqmjNnDllZWZx00kkFF06wypUrk56ezuzZs2Oqx9156aWX6NmzJw0bNoxTdMVHUTrrF2lJRvBSvDRs2JA+ffrw/PPPs2/fvqjrifQPS6VELPKhOGtWbDeDJ02ahLuXureGREq6wYMHs2XLFt58882Y6pk1axZlypThuOOOi1NksTnhhBOYN29eTC9izZ07l6+//ppBgwbFMbLioyid9Z8rwqLO+pKnoUOHsm7dupjmX5s+fTrVqlXj6KOPjmNksTnyyCOpVasWH330UUz1TJgwgfT09MBGyxaRxOjVqxcNGzaMecqjWbNmcfTRR1O1atU4RRabE044gT179sT09uTYsWOpVKkS55xzThwjKz4KM1KkhvWWuDnrrLM45JBDeOaZZzjrrLOKfLy78+6779KzZ0/KlStX8AFJkpaWxoknnhjTHbFVq1bx2Wef8cADD8QxMhFJBWXKlGHQoEE8/PDD/Pzzz9StW7fIdezcuZN58+Zxww03JCDC6ETuzM2ePZvjjz++yMdv2bKFF198kUGDBlGjRo14h1csFLqzflGXZAQvxU+5cuUYPHgwr7/+Ohs2bCjy8atXr2bNmjWcfvrpCYguNieffDJfffUV33//fVTHT5gwATMrlZ1VRUqDwYMHs2/fPiZOnBjV8Z988gl79+7l5JNPjnNk0atXrx7t2rXjgw8+iOr4559/nl27dnH11VfHObLiQ531Jekuv/xy9u3bF9VQFu+99x5ASiZikZjeeeedIh8b6ax64okn0rhx43iHJiIp4Mgjj6Rjx45RP5585513KFeuXEqMn5hTnz59mDVrFhkZGUU6zt15/PHHOeaYY/bPXVkaRZ2ImVkFMzvDzK4OL2eYWcV4BiclU+vWrenduzf/+te/2LNnT8EH5PDOO+9w2GGH0aJFiwRFF7327dvTuHFj/v3vfxf52E8++YQVK1YweLDecxEpyQYPHsy8efNYvnx5kY9988036dGjB9WqVUtAZNE788wz2bNnT5Hvis2YMYMVK1bw+9//PkGRFQ9RJWLhtyJ/AN4GHgsvbwM/mNmlcYtOSqzrrruO9evXM2XKlEIfs337dt577z3OPvvslBzawczo06cP06dPZ+/evUU69tlnn6Vy5cqlbmoPkdLmd7/7HWlpaUW+K7Z69WqWLVtG3759ExRZ9E444QSqVavGW2+9VaTj/vWvf1G7du1S/7lX5ETMzH5L6M3IDOCvQH/gHGBkeNvYcBmRfJ1++um0bt2aRx55pNDTfrz55ptkZmZy3nnnJTi66PXp04dt27YxZ86cQh+zY8cOJk6cyPnnn59y33RFJL4aNGjAGWecwQsvvEB2dnahj4skOamYiJUvX57TTjuNt956q9BtWrduHa+99hpDhw6lYsXS/TAtmjtifwGWA0e5+33u/rq7T3P3e4GjgFWEEjSRfKWlpTF8+HDmz5/P3LlzC3XMyy+/TMOGDVNm/Jy89OrVi3LlyvHGG28U+pipU6eyfft2LrvssgRGJiKp4uKLL+bbb78t0nA3r776Km3btqV58+YJjCx6AwYMYN26dYVu05gxY8jKyuLKK69McGSpL5pErDXwrLtvy73D3bcSGkNMgyBJgS655BJq1KjBI488UmDZ7du38+9//5sBAwakzLRGealevTqnnXYar7zySqHv9D311FO0aNEi5TrgikhinH322VSrVq3QUx599913zJo1K6UHej7nnHOoVq0azz33XIFl9+7dy1NPPUXv3r1Tsr9vskXzG209cLAOOtlA0cclkFKnatWqXH755UyZMoWvv/76oGVfeukldu3axUUXXZSk6KJ33nnnsWbNmkINcPjZZ58xe/Zs/vCHP6RkvzcRib9If9DJkyezZcuWAsu/+OKLuHtKf/5VrlyZ3/72t0yZMoXt27cftOyUKVNYt24d11xzTZKiS23RJGLPAZea2QHD+ppZdeAyNLK+FNKNN95I2bJlue+++/It4+488cQTdOrUiWOOOSaJ0UXn7LPPpmzZsrz88ssFln3kkUeoWrWqHkuKlDLXXHMNO3bs4Omnnz5oOXdn/PjxHH/88Sn7WDJiyJAh7Ny5kxdffDHfMu7O/fffT9u2benTp08So0td0SRiHwM7gS/M7BYz+42Z9TWzPwKfE+qw/7GZnZRziWfQUnI0atSIoUOH8txzz+U7Yfbbb7/NokWLuOaaa4rFXaPatWvTq1cvJk6ceNCOq99++y0TJ05kyJAhpXZEaZHSqlOnTvTo0YPRo0cfdO7d2bNns3Tp0mIxtE337t3p1q0bf//73/N9c/yDDz5g0aJF3HTTTSndzSSZovlbeB/oAjQD/g68BkwD7gtvSw+XmRFeZobXInkaMWIEZcuW5frrrz9g3549e/jLX/5C8+bNi8UHUcSQIUNYu3bt/gFo83L33XdjZtx8881JjExEUsUNN9zAd999d9A7SP/4xz+oW7duSj+WjDAzbr31VtasWcOECRMO2J+dnc2IESNo3LhxsWhPshRmrsnchsQ9CinVmjRpwh133MGf/vQnHn744f0Jmbtzyy23sHjxYl599dWUmluyIOeccw716tXjscceo3fv3gfsX7VqFc8++yy///3vadq0aQARikjQ+vbtS5cuXbj99tv57W9/e8AwDh999BFvvvkmd955J5UrVw4oyqI566yz6Ny5M7fddhvnnnsuVapU2b/v6aef5rPPPmPcuHFUqFAhwChTjLtrSbElPT3dE2XGjBkJqzsW+/bt8wEDBjjg55xzjt9///1+xhlnOODDhw8vUl2p0sY777zTAZ87d+6vtmdlZXmvXr28atWq/uOPP0ZVd6q0MZHUxpKhNLTRPfp2Tp8+3QG/6aabfrV906ZN3qpVKz/ssMN8x44dcYgwdoVt48cff+yADxs2zLOzs93d/dNPP/XKlSt7r169PCsrK4FRxiaR/16BTz2P3/nR3BETibsyZcowYcIE7rnnHh599FFeffVVDjnkEB544AFuvPHGoMOLyg033MA///lPrrzySv7zn//s/0Z7++2388EHH/DEE0/QoEGDgKMUkSD16tWLq6++mlGjRlGlShUuv/xyVqxYwQ033MCaNWt47733is3dsIgTTjiBP/7xj/zjH/9g9+7dtGvXjnvvvZd69eoxbtw49Q3LJapEzMx+B/yB0HhhdfIo4u6uJE+KpHz58txxxx3cdtttbN++nWrVqhXr/7CRMXX69u3LySefzKBBg/jwww954403GDp0KMOGDQs6RBFJAQ899BBbt27lrrvu4q677gKgYcOGvP7665x88skBRxede++9Fwi1be/evfTs2ZNnn32WRo0aBRxZ6ilysmRmI4E7CY0VNgfYHO+gpHRLS0srMW8RnnnmmUyZMoXhw4dzww03ULNmTe69915uueWWYvEGqIgkXoUKFXjhhRe47rrrWLBgAQ0aNOC00077Vf+q4iYtLY2///3v/PGPfyQjI4OmTZvqMy8f0dy1+j2hNyF7u3vRZjYWKYXOPfdczjnnHDZu3EjdunUpU6ZM0CGJSIoxM7p160a3bt2CDiWu6tSpQ506eT04k4hoErHqwGQlYSKFl5aWRv369YMOQ0REUkw0HXAWAk3iHYiIiIhIaRNNIjYSuMrMusQ7GBEREZHSpMiPJt19lpkNBT4xs/8Ca4CsA4v50DjEJyIiIlJiRfPW5DGEJv4uC5wYXnJzQImYiIiIyEFE82jyEWAvcDZQ293T8lj0WpiIiIhIAaJ5a/Io4A53fyPewYiIiIiUJtHcEfsJ2BPvQERERERKm2gSsWeAi8xMUxiJiIiIxCCaZGo20JfQW5P/Ar7hwLcmcfePYoxNREREpESLJhGbnuPPTxN6QzInC29Th30RERGRg4gmERsS9yhERERESqFoBnR9vqAyZlYhunBERERESo9oOuvny8zSw/3G1sWzXhEREZGSKOY3H82sNnARoZH0OxDqI7Yy1npFRERESrqo74iZ2RlmNgn4AXgIKA/cCRzp7m3iFF9R4rnSzF40s+VmlmVmuV8iyF2+kZmNM7ONZrbLzD41s/MPUn6wmS0Ml91gZk+bWb141C0iIiKlU5ESMTM73MzuMrO1wNvAycDL4d1/dfe73H1JvIMspD8D/QgNOHvQR6Phu3izgQHA48B1QAYw2cwOeBnBzG4Ange2hss+CQwEZppZlVjqFhERkdKrUI8mzex3hB49ngzsA94ChofXhwODEhVgEfQAvnX3bDN7E2h8kLIjCMXdLzJVk5mNBf4LPGBmU9w9I7y9LvA3YD7Qy92zwtvnA68TSrTuiaZuERERKd0Ke0fsBaAZcD3QyN3PdffXw0nJQR8BJou7r3H37EIW/x2wOud8meG2PArUBs7MUbY/UBl4NJKEhcu/AXxNqH9ctHWLiIhIKVbYRGwPcBhwNtDHzColLKIEM7OGwKHAJ3nsjmzrmmNb5M//zad8GzOrGmXdIiIiUooVNhFrQOhuWB1gPLDBzMaa2UmE3pIsThqF1z/ksS+y7dAilLccZYpat4iIiJRiheoj5u5bgH8C/zSzLoT6iw0ELgU2Eno8WSPWYMysJqGEr7BGu/svRTxN5fA6M499u3OVKWr5ota9n5kNA4YB1K9fn5kzZ+ZVLGYZGRkJqztVqI0lg9pYMpSGNkLpaKfamBjRjKy/AFhgZjcC5xJKynoAT5vZdYTeonw1yrcnawK3F6H8C0BRE7Gd4XVeo/9XzFUmd/ldBZQvat37uftTwFMARx99tPfo0SOvYjGbOXMmiao7VaiNJYPaWDKUhjZC6Win2pgYUY8j5u6Z7v6Su/cCWgD/B9QC7gI+j7LONe5uRVi+iuI0kaEt8npEGNmW89FiQeU9R5mi1i0iIiKlWFymOAonULcR6tB/JjA1HvUmgrv/SCgZOjaP3ZFtn+bYNj+87p5H+WOAFZHhKKKoW0REREqxuM416SHvuPsF8aw3ASYALczsN5ENZlaG0NhoWwgNVhsxjdAjyWvCZSLlf0PoTuCLMdQtIiIipVjMc02minDi0zH84xHhbSPDP29x93/mKH4fcD7wkpk9SOgu1oWEhpa43N23Rwq6+0YzuxV4AJhuZhMIPWa8CVgOPJwrlELXLSIiIqVbiUnECL04cEmubXeH12sJvfUJgLtvMrPjCSVNfwCqAkuBge4+KXfF7j7KzDYBNwCjgW3AZGBE7lHyi1q3iIiIlF4lJhFz90sJDadR2PI/ABcXofxzwHOJqFtERERKp7j2ERMRERGRwlMiJiIiIhIQJWIiIiIiAVEiJiIiIhIQJWIiIiIiAVEiJiIiIhIQJWIiIiIiAVEiJiIiIhIQJWIiIiIiAVEiJiIiIhIQJWIiIiIiAVEiJiIiIhIQJWIiIiIiAVEiJiIiIhIQJWIiIiIiAVEiJiIiIhIQJWIiIiIiAVEiJiIiIhIQJWIiIiIiAVEiJiIiIhIQJWIiIiIiAVEiJiIiIhIQJWIiIiIiAVEiJiIiIhIQJWIiIiIiAVEiJiIiIhIQJWIiIiIiAVEiJiIiIhIQJWIiIiIiAVEiJiIiIhIQJWIiIiIiAVEiJiIiIhIQJWIiIiIiAVEiJiIiIhIQJWIiIiIiAVEiJiIiIhIQJWIiIiIiAVEiJiIiIhIQJWIiIiIiAVEiJiIiIhIQJWIiIiIiAVEiJiIiIhIQJWIiIiIiAVEiJiIiIhIQJWIiIiIiAVEiJiIiIhIQJWIiIiIiAVEiJiIiIhIQJWIiIiIiAVEiJiIiIhIQJWIiIiIiASkRiZiZHWpmfzazWWb2o5ntMLMlZna/mdXJ55hGZjbOzDaa2S4z+9TMzj/IOQab2cJw2Q1m9rSZ1YtH3SIiIlI6lYhEDPgNcAewCbgfuB6YE14vNLMGOQubWW1gNjAAeBy4DsgAJpvZkNyVm9kNwPPA1nDZJ4GBwEwzqxJL3SIiIlJ6lQ06gDj5GGjm7utzbBtjZnOBMcDN4SViBHA40M/d3wAws7HAf4EHzGyKu2eEt9cF/gbMB3q5e1Z4+3zgdUKJ1j3R1C0iIiKlW4m4I+buS3IlYRGTwusOubb/DlgdSZTCdWQBjwK1gTNzlO0PVAYejSRh4fJvAF8DF8VQt4iIiJRiJSIRO4jG4fWGyAYzawgcCnySR/nItq45tkX+/N98yrcxs6pR1i0iIiKlWEl5NJmfO8Pr53NsaxRe/5BH+ci2Q4tQ3sJlVkZR935mNgwYBlC/fn1mzpyZV7GYZWRkJKzuVKE2lgxqY8lQGtoIpaOdamNipFQiZmY1CXWwL6zR7v5LPnXdBJwPPOXuH+bYVTm8zszjsN25yhS1fFHr3s/dnwKeAjj66KO9R48eeRWL2cyZM0lU3alCbSwZ1MaSoTS0EUpHO9XGxEipRAyoCdxehPIvAAckYmZ2OaG3J98Crsm1e2d4XSGP+irmKpO7/K4Cyhe1bhERESnFUioRc/c1hB71Rc3MLiN0Z+k94Fx335uryLrwOq9HhJFtOR8t5iz/VR7lPUeZotYtIiIipViJ6qwfHqdrDDAd6O/uBzwidPcfCSVDx+ZRRWTbpzm2zQ+vu+dR/hhgRWQ4iijqFhERkVKsxCRiZnYp8DQwAzjb3XcfpPgEoIWZ/SbH8WWA4cAW4O0cZacReiR5TbhMpPxvgBbAizHULSIiIqVYSj2ajJaZ9QPGAtsIjR12rtmvnnBmuPtrOX6+j1BH/pfM7EFCd7EuJDS0xOXuvj1S0N03mtmtwAPAdDObQOgx403AcuDhXOEUum4REREp3czdg44hZmZ2Bwfv5L/W3Q/LdcyhhJKmPkBVYCnwd3efdODh+++43QC0JpTwvQmMcPef8ihbpLrzOH4jsLYwZaNQF/g5QXWnCrWxZFAbS4bS0EYoHe1UG2PTzN0PmKO6RCRiUnhm9qm7Hx10HImkNpYMamPJUBraCKWjnWpjYpSYPmIiIiIixY0SMREREZGAKBErfZ4KOoAkUBtLBrWxZCgNbYTS0U61MQHUR0xEREQkILojJiIiIhIQJWIiIiIiAVEiJiIiIhIQJWIllJkdamZ/NrNZZvajme0wsyVmdr+Z1SliXceY2XQz225m28zsHTPrlKDQi8TMrjSzF81suZllmVmROz2a2XNm5vks5yUi7iLGF3Mbw/Wk7HUEMLPBZrbQzHaZ2QYze9rMDhj88CDHB34dzSzNzG4IX6vdZvadmY0ysypFqONMM5sT/j/7i5lNMbPDExl3UcTaRjObeZDrlBJjVIU/O6eY2dfhuNZEWU/KXst4tDHVr6WZtTKzu8zsEzPbGP7sW2Rmf02l/5PqrF9CmdlVwCPAW8BsYDvQDbgU+BHo5u7rC1HPscBMQlM1/TO8+RrgEOA4d/8i3rEXRfjDow6wEDgcaOzudtCDDqzjOeAS4OI8dn/k7t/GGGZM4tTGVL+ONwAPArOAl4DGwI2EZpjo5u47ClHHcwR8Hc3sEeBa4FXg30BbQvPMfgyc6u7ZBRw/AHgZ+BwYA9QArgeygKPdfV3Cgi+kOLRxJtCe0Ewlub3t7r/ENeAohL/s/AIsANKBbblnZylEHSl9LePUxpmk8LU0s/uAPwCvA58Ae4FTgAuAxcCx7r6rgDoSfx3dXUsJXAj952iQx/bLAQceKGQ98whN6XRojm2Hhre9lwLtPAxIC//5zdA/6SLX8Vw0xxWzNqbsdSQ0pciOcIxlcmz/Tfjf6l+Kw3UM/5/LBl7JtX14uB2/K+D4coQS5bVA1RzbOxH60H8qyOsUjzaGy84E1gTdlgJibJ7jz18WNd5ici1jamNxuJbA0UCNPLb/Lfzv9ZpUuI56NFlCufsSz/uOV2S+yw4F1WFmRxCarHyKu/+Qo+4fgCnAqWbWIB7xRsvd13gB38ALy0Kqm1lK/b+ItY3F4Dr2ByoDj7p7VmSju78BfA1cVJTKAryOFwIGPJxr+xhgJwW342SgEfC0u2dENrr7IkK/8H5rZuXiFGu0Ym3jfuFHnNXNrEh3d5PB3b+OsYqUv5ZxaON+qXot3f1Td9+ax67C/h5MynVMqV84khSNw+sNhSjbNbz+bx77PiH0gZwej6BSxNbwssvM3jezY4IOKE5S/ToWFF8bM6tahPqCuo5dCd0tmpdzo7vvBhbxv3Ye7HjI/++hOtAqthBjFmsbIw4FMghdpwwzm2pmbeIYZ9CKw7WMl+J4LQv7ezAp17FsrBVIsXNneP18Ico2Cq9/yGNfZNuhMUcUvPXAQ8BnhB6RdSTUB+BjMzvT3acHGFs8pPp1LCg+C5dZWUA9QV/HRsDP7p6Zx74fgOPMrLy77znI8ZGyeR0Poeu0JLYwYxJrGwG+Af5DqI9OFnAMof6KvczsBA+4v2KcFIdrGQ/F7lqaWRngNmAfof6oB5OU66hELMWZWU1Cv0wKa7Tn00HSzG4Czif0XPvDQtRVObzO60N3d64yUYtnG6Ph7iNybXrNzF4i9A3/caBlrOcIuI2pfh3jEl8yrmMBKpN3G+DX7cgvSUnKdYpRrG3E3Yfk2vSymb1O6FHPg8BpMcaYCorDtYxZMb2WDwPHEup7uqKAskm5jkrEUl9N4PYilH+B0Jswv2JmlwP3E3qL8ppC1rUzvK6Qx76KucrEoiZxaGM8ufsqM5sMXGpmrdy9oLsxBalJcG1M9euYM77cbzDFFF8CruPB7CT0FmpeCtOOZF2nWMTaxjy5+8dm9hFwiplV8gLeZCsGisO1TIhUvpZmdjeh339Pufu9hTgkKddRfcRSXLijthVh+Sp3HWZ2GaGJTN8DznX3vYU8feS13LweW0W25XXLtkji0cYEWRNe1421ooDbmOrXsaD4PEeZaKwJr2O+jgVYB9Q1s7w+tA8l9EjvYI/sknKdYhRrGw9mDVAGqBXl8amkOFzLRFpDil1LM7sDGAk8C1xVyMOSch2ViJVwZjaE0BtN04H++fTtyM/88Lp7HvuOJfQL8rPYIkxpkUdZhXmxIZWl+nU8WHzHACtyvrEUhWRdx/mEPlO75dxoZhUJve7+aSGOh/yv0zYK7ieXaLG28WBaEuq3E/g4YnFQHK5lIqXUtTSz2wndrR8HXO7hMSgKITnXMR5jYGhJzYXQ4K1ZhJKwSgWUrQu0IdeYK+F/iNuARjm2NQpvmx50G3PFetAxtvJqI1AFqJhH2c6E+gUsDbpdsbYx1a8jUI/Q7f255D2O2MjicB2BIzn4GFsX5djWMNyGyjm2lSP0DTz3mEUdw/+Pn06Bf3+xtrFGzmucY/tZ4ePfDrqNecR20DG2iuu1jEMbi8W1JNQx3wklYWmpeB01sn4JZWb9CI18vQ34Iwf2vclw99dylL+D0DeGIe7+XI7txwEzgO+BR8ObhwP1gePd/fPEtKBwzOw3hP5TQGgMo9bAreGft7j7P3OUvYNcbbTQFD//Bl4DVvG/t+0uI/QL53R3n53gZhxUrG0Mb0/163gT8AChTr4TCN32vwn4DujqOe6IpfJ1NLNHCfVBeRV4m9Co89cSerOsp4fHg8sxC8Ap7j4zx/HnExrjKDKKd3VCo5Y7kO45xoELSixtNLP+hDpxR8aI20fo7tpFhO6eHO+J7cdXKGZ2MdAs/ONwoDwwKvzzWncfn6PscxTDaxlrG4vDtTSzPxCaSeRbQp+Zucdj3ODu74fLPkdQ1zHobFVLYhbgjvA/lPyWNfmUvzSPuroDHxAaK2Y78C7QJeg2hmN7LpY2Ag2A8cByQknrXkL/aZ8H2gTdvni0sThcx3B8lxL6sNsN/AQ8AxxykH/bKXcdCfWLuQlYQehO3A+EfllVzVUuck175FFHX0JjFO0ENhOaXqVF0NcnHm0klLRNAVaH/x1mhv/8GDlmfQh6IfSFIL//czNLwrWMtY3F4Vpy8M/OX7UzyOuoO2IiIiIiAVFnfREREZGAKBETERERCYgSMREREZGAKBETERERCYgSMREREZGAKBETERERCYgSMREREZGAKBETERERCYgSMREREZGAKBETEUkAM+tgZvvM7LSA4+hvZnvMrGWQcYhI3jTFkYhIApjZe0AFdz85BWL5jNBEzgOCjkVEfk13xERE4szMugOnEZoMOxU8ApxjZu2DDkREfk2JmIhI/P0e2AS8HXQgYVOBncBVQQciIr+mRExEJMzMyprZf8wsw8za5No3zMzczO4qqA6gP/C+u+/NY/80M9uUx/Za4fofDP98afjnXmZ2m5mtNbNdZjbXzI4NlznZzGab2Q4z+9HMbs0rJnfPAD4Gzi/kX4WIJIkSMRGRMHffB/wO2AtMNLOKAOFHeg8Ds4E7C6gmHagKzMtnfydgYR7bu4TXuffdRyixeyR87ubAu2bWn9Cdro+Bm4HlwF1mdlE+5/0vUD93gikiwSobdAAiIqnE3dea2VDgFeABM7sFmAjsBga5e1YBVbQLr1fn3mFmtYCmwKQ8joskYgtybS8DHOvue8J1LAWmAS8D3d19fnj7WGAt8AfghTzqj8TTnlDSJiIpQImYiEgu7j7VzB4nlNR0BjoA57r7t4U4vF54/Use+zqF17mTLQglYrs4MEl6PJKEhX0cXn8SScLCMe8xs3nA8fnEFXkcekg++0UkAHo0KSKStxsJ3UU6Dhjj7lMLeVxkTCDLY1/n8Dq/RGxxHnfcvv5V5e6bw3/8Jo86NgN18okrEo/GLBJJIUrERETydhShx4gAHcKd8AtjY3hdO499nYDtwKqcG82sOnAEeSdo+T0KLegRaW6ReDYetJSIJJUSMRGRXMKJ0UTgZ+CvQHcK7qQf8WV4nddI9p2A5X7gSNp9CH0e59WJP16OCK+/PGgpEUkq9RETETnQk0Az4DR3/9DMOgEjzGy6u88o4NiFwDbg2JwbzawC0Bb43szKRB5BmllV4I4cxybKscAGd1+RwHOISBHpjpiISA7hNyYHAve5+4fhzcOA74AXzCy/PlgAhBOsqUDPcPIV0YHQl996wNtmdm14TLIl/K8D/UAzaxK/1oSEk70TgSnxrltEYqNETEQkLDzG1mhgDnB7ZLu7bwEuJJQwPVuIqh4HagF9c2zrFF5fAlQB/gFcTGgapOGERr7vSd5vW8bqXKAyoTt9IpJCNOm3iEgCmNk7QBV3PzH886OEphiq6u6ZSY5Fk36LpCjdERMRSYybgO5mdnr4587AygCSsP7AkcCfknleESkc3RETEUkwMzNgK/C2uw8MOh4RSR26IyYikngtgGrA4qADEZHUojtiIiIiIgHRHTERERGRgCgRExEREQmIEjERERGRgCgRExEREQmIEjERERGRgCgRExEREQmIEjERERGRgPw/NrJ/kckA0sUAAAAASUVORK5CYII=\n",
          "text/plain": "<Figure size 648x360 with 1 Axes>"
         },
         "metadata": {
          "needs_background": "light"
         },
         "output_type": "display_data"
        }
       ]
      }
     },
     "89f6568c877741aeb619f5f9471cb111": {
      "model_module": "@jupyter-widgets/controls",
      "model_module_version": "1.5.0",
      "model_name": "FloatSliderModel",
      "state": {
       "_dom_classes": [],
       "_model_module": "@jupyter-widgets/controls",
       "_model_module_version": "1.5.0",
       "_model_name": "FloatSliderModel",
       "_view_count": null,
       "_view_module": "@jupyter-widgets/controls",
       "_view_module_version": "1.5.0",
       "_view_name": "FloatSliderView",
       "continuous_update": true,
       "description": "sig",
       "description_tooltip": null,
       "disabled": false,
       "layout": "IPY_MODEL_6d02b75b36a048ebb718976310c6031d",
       "max": 1.0,
       "min": 0.0,
       "orientation": "horizontal",
       "readout": true,
       "readout_format": ".2f",
       "step": 0.01,
       "style": "IPY_MODEL_b2bd6d3f6f4d4ff8a67227913908dc9d",
       "value": 0.3
      }
     },
     "99c26ae3b1b94e258bba353fb4f63151": {
      "model_module": "@jupyter-widgets/base",
      "model_module_version": "1.2.0",
      "model_name": "LayoutModel",
      "state": {
       "_model_module": "@jupyter-widgets/base",
       "_model_module_version": "1.2.0",
       "_model_name": "LayoutModel",
       "_view_count": null,
       "_view_module": "@jupyter-widgets/base",
       "_view_module_version": "1.2.0",
       "_view_name": "LayoutView",
       "align_content": null,
       "align_items": null,
       "align_self": null,
       "border": null,
       "bottom": null,
       "display": null,
       "flex": null,
       "flex_flow": null,
       "grid_area": null,
       "grid_auto_columns": null,
       "grid_auto_flow": null,
       "grid_auto_rows": null,
       "grid_column": null,
       "grid_gap": null,
       "grid_row": null,
       "grid_template_areas": null,
       "grid_template_columns": null,
       "grid_template_rows": null,
       "height": null,
       "justify_content": null,
       "justify_items": null,
       "left": null,
       "margin": null,
       "max_height": null,
       "max_width": null,
       "min_height": null,
       "min_width": null,
       "object_fit": null,
       "object_position": null,
       "order": null,
       "overflow": null,
       "overflow_x": null,
       "overflow_y": null,
       "padding": null,
       "right": null,
       "top": null,
       "visibility": null,
       "width": null
      }
     },
     "a71572fc276949da8c08059c1a25422c": {
      "model_module": "@jupyter-widgets/controls",
      "model_module_version": "1.5.0",
      "model_name": "FloatSliderModel",
      "state": {
       "_dom_classes": [],
       "_model_module": "@jupyter-widgets/controls",
       "_model_module_version": "1.5.0",
       "_model_name": "FloatSliderModel",
       "_view_count": null,
       "_view_module": "@jupyter-widgets/controls",
       "_view_module_version": "1.5.0",
       "_view_name": "FloatSliderView",
       "continuous_update": true,
       "description": "sig",
       "description_tooltip": null,
       "disabled": false,
       "layout": "IPY_MODEL_ef680f9195454868a19139d81bb83aab",
       "max": 1.0,
       "min": 0.0,
       "orientation": "horizontal",
       "readout": true,
       "readout_format": ".2f",
       "step": 0.01,
       "style": "IPY_MODEL_6505a4d845d342a2b9a68dc659d91fef",
       "value": 0.3
      }
     },
     "a7ac839aee754f9a8751f6f63abd71bd": {
      "model_module": "@jupyter-widgets/controls",
      "model_module_version": "1.5.0",
      "model_name": "SliderStyleModel",
      "state": {
       "_model_module": "@jupyter-widgets/controls",
       "_model_module_version": "1.5.0",
       "_model_name": "SliderStyleModel",
       "_view_count": null,
       "_view_module": "@jupyter-widgets/base",
       "_view_module_version": "1.2.0",
       "_view_name": "StyleView",
       "description_width": "",
       "handle_color": null
      }
     },
     "aabf9ea9f82d441b946d2c8905803ba9": {
      "model_module": "@jupyter-widgets/output",
      "model_module_version": "1.0.0",
      "model_name": "OutputModel",
      "state": {
       "_dom_classes": [],
       "_model_module": "@jupyter-widgets/output",
       "_model_module_version": "1.0.0",
       "_model_name": "OutputModel",
       "_view_count": null,
       "_view_module": "@jupyter-widgets/output",
       "_view_module_version": "1.0.0",
       "_view_name": "OutputView",
       "layout": "IPY_MODEL_3e75eae1ab1d46ecb284ab94b3b6f053",
       "msg_id": "",
       "outputs": [
        {
         "data": {
          "image/png": "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\n",
          "text/plain": "<Figure size 648x360 with 1 Axes>"
         },
         "metadata": {
          "needs_background": "light"
         },
         "output_type": "display_data"
        }
       ]
      }
     },
     "b2ac7a834b874d60a36bbaafeb392ed2": {
      "model_module": "@jupyter-widgets/controls",
      "model_module_version": "1.5.0",
      "model_name": "IntSliderModel",
      "state": {
       "_dom_classes": [],
       "_model_module": "@jupyter-widgets/controls",
       "_model_module_version": "1.5.0",
       "_model_name": "IntSliderModel",
       "_view_count": null,
       "_view_module": "@jupyter-widgets/controls",
       "_view_module_version": "1.5.0",
       "_view_name": "IntSliderView",
       "continuous_update": true,
       "description": "D",
       "description_tooltip": null,
       "disabled": false,
       "layout": "IPY_MODEL_d2476e1f33f54b21a1239777465d0a36",
       "max": 200,
       "min": 10,
       "orientation": "horizontal",
       "readout": true,
       "readout_format": "d",
       "step": 1,
       "style": "IPY_MODEL_7b219f8aaca64982b7b35ac1ffa1a6ce",
       "value": 140
      }
     },
     "b2bd6d3f6f4d4ff8a67227913908dc9d": {
      "model_module": "@jupyter-widgets/controls",
      "model_module_version": "1.5.0",
      "model_name": "SliderStyleModel",
      "state": {
       "_model_module": "@jupyter-widgets/controls",
       "_model_module_version": "1.5.0",
       "_model_name": "SliderStyleModel",
       "_view_count": null,
       "_view_module": "@jupyter-widgets/base",
       "_view_module_version": "1.2.0",
       "_view_name": "StyleView",
       "description_width": "",
       "handle_color": null
      }
     },
     "b517db76c6674db6920e052da03d091b": {
      "model_module": "@jupyter-widgets/controls",
      "model_module_version": "1.5.0",
      "model_name": "IntSliderModel",
      "state": {
       "_dom_classes": [],
       "_model_module": "@jupyter-widgets/controls",
       "_model_module_version": "1.5.0",
       "_model_name": "IntSliderModel",
       "_view_count": null,
       "_view_module": "@jupyter-widgets/controls",
       "_view_module_version": "1.5.0",
       "_view_name": "IntSliderView",
       "continuous_update": true,
       "description": "N",
       "description_tooltip": null,
       "disabled": false,
       "layout": "IPY_MODEL_2299994d50fa494aa1360d754aef2712",
       "max": 1000,
       "min": 1,
       "orientation": "horizontal",
       "readout": true,
       "readout_format": "d",
       "step": 1,
       "style": "IPY_MODEL_024bc05be7d342369b2d301b279ad60a",
       "value": 1000
      }
     },
     "bd652a729ed742b5b7b7f966bfdc2619": {
      "model_module": "@jupyter-widgets/controls",
      "model_module_version": "1.5.0",
      "model_name": "SliderStyleModel",
      "state": {
       "_model_module": "@jupyter-widgets/controls",
       "_model_module_version": "1.5.0",
       "_model_name": "SliderStyleModel",
       "_view_count": null,
       "_view_module": "@jupyter-widgets/base",
       "_view_module_version": "1.2.0",
       "_view_name": "StyleView",
       "description_width": "",
       "handle_color": null
      }
     },
     "c329e0ee29684ce9ad2ee4d6381ffd39": {
      "model_module": "@jupyter-widgets/base",
      "model_module_version": "1.2.0",
      "model_name": "LayoutModel",
      "state": {
       "_model_module": "@jupyter-widgets/base",
       "_model_module_version": "1.2.0",
       "_model_name": "LayoutModel",
       "_view_count": null,
       "_view_module": "@jupyter-widgets/base",
       "_view_module_version": "1.2.0",
       "_view_name": "LayoutView",
       "align_content": null,
       "align_items": null,
       "align_self": null,
       "border": null,
       "bottom": null,
       "display": null,
       "flex": null,
       "flex_flow": null,
       "grid_area": null,
       "grid_auto_columns": null,
       "grid_auto_flow": null,
       "grid_auto_rows": null,
       "grid_column": null,
       "grid_gap": null,
       "grid_row": null,
       "grid_template_areas": null,
       "grid_template_columns": null,
       "grid_template_rows": null,
       "height": null,
       "justify_content": null,
       "justify_items": null,
       "left": null,
       "margin": null,
       "max_height": null,
       "max_width": null,
       "min_height": null,
       "min_width": null,
       "object_fit": null,
       "object_position": null,
       "order": null,
       "overflow": null,
       "overflow_x": null,
       "overflow_y": null,
       "padding": null,
       "right": null,
       "top": null,
       "visibility": null,
       "width": null
      }
     },
     "cd4fffa57cf145e7bba6f22d80f03366": {
      "model_module": "@jupyter-widgets/controls",
      "model_module_version": "1.5.0",
      "model_name": "FloatSliderModel",
      "state": {
       "_dom_classes": [],
       "_model_module": "@jupyter-widgets/controls",
       "_model_module_version": "1.5.0",
       "_model_name": "FloatSliderModel",
       "_view_count": null,
       "_view_module": "@jupyter-widgets/controls",
       "_view_module_version": "1.5.0",
       "_view_name": "FloatSliderView",
       "continuous_update": true,
       "description": "t",
       "description_tooltip": null,
       "disabled": false,
       "layout": "IPY_MODEL_ce097482b812452f81bc1cefce2dbc9c",
       "max": 10.0,
       "min": -10.0,
       "orientation": "horizontal",
       "readout": true,
       "readout_format": ".2f",
       "step": 0.1,
       "style": "IPY_MODEL_f242076b26de4f42b6c627ed4d25eaa3",
       "value": 0.0
      }
     },
     "ce097482b812452f81bc1cefce2dbc9c": {
      "model_module": "@jupyter-widgets/base",
      "model_module_version": "1.2.0",
      "model_name": "LayoutModel",
      "state": {
       "_model_module": "@jupyter-widgets/base",
       "_model_module_version": "1.2.0",
       "_model_name": "LayoutModel",
       "_view_count": null,
       "_view_module": "@jupyter-widgets/base",
       "_view_module_version": "1.2.0",
       "_view_name": "LayoutView",
       "align_content": null,
       "align_items": null,
       "align_self": null,
       "border": null,
       "bottom": null,
       "display": null,
       "flex": null,
       "flex_flow": null,
       "grid_area": null,
       "grid_auto_columns": null,
       "grid_auto_flow": null,
       "grid_auto_rows": null,
       "grid_column": null,
       "grid_gap": null,
       "grid_row": null,
       "grid_template_areas": null,
       "grid_template_columns": null,
       "grid_template_rows": null,
       "height": null,
       "justify_content": null,
       "justify_items": null,
       "left": null,
       "margin": null,
       "max_height": null,
       "max_width": null,
       "min_height": null,
       "min_width": null,
       "object_fit": null,
       "object_position": null,
       "order": null,
       "overflow": null,
       "overflow_x": null,
       "overflow_y": null,
       "padding": null,
       "right": null,
       "top": null,
       "visibility": null,
       "width": null
      }
     },
     "d2476e1f33f54b21a1239777465d0a36": {
      "model_module": "@jupyter-widgets/base",
      "model_module_version": "1.2.0",
      "model_name": "LayoutModel",
      "state": {
       "_model_module": "@jupyter-widgets/base",
       "_model_module_version": "1.2.0",
       "_model_name": "LayoutModel",
       "_view_count": null,
       "_view_module": "@jupyter-widgets/base",
       "_view_module_version": "1.2.0",
       "_view_name": "LayoutView",
       "align_content": null,
       "align_items": null,
       "align_self": null,
       "border": null,
       "bottom": null,
       "display": null,
       "flex": null,
       "flex_flow": null,
       "grid_area": null,
       "grid_auto_columns": null,
       "grid_auto_flow": null,
       "grid_auto_rows": null,
       "grid_column": null,
       "grid_gap": null,
       "grid_row": null,
       "grid_template_areas": null,
       "grid_template_columns": null,
       "grid_template_rows": null,
       "height": null,
       "justify_content": null,
       "justify_items": null,
       "left": null,
       "margin": null,
       "max_height": null,
       "max_width": null,
       "min_height": null,
       "min_width": null,
       "object_fit": null,
       "object_position": null,
       "order": null,
       "overflow": null,
       "overflow_x": null,
       "overflow_y": null,
       "padding": null,
       "right": null,
       "top": null,
       "visibility": null,
       "width": null
      }
     },
     "d6d890bf9f3c4ec1a4476c0a4d4f5d29": {
      "model_module": "@jupyter-widgets/output",
      "model_module_version": "1.0.0",
      "model_name": "OutputModel",
      "state": {
       "_dom_classes": [],
       "_model_module": "@jupyter-widgets/output",
       "_model_module_version": "1.0.0",
       "_model_name": "OutputModel",
       "_view_count": null,
       "_view_module": "@jupyter-widgets/output",
       "_view_module_version": "1.0.0",
       "_view_name": "OutputView",
       "layout": "IPY_MODEL_312ead82e29b4c19a333373f6ef5f0d8",
       "msg_id": "",
       "outputs": [
        {
         "data": {
          "image/png": "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\n",
          "text/plain": "<Figure size 576x360 with 2 Axes>"
         },
         "metadata": {
          "needs_background": "light"
         },
         "output_type": "display_data"
        }
       ]
      }
     },
     "da478b2cf9ef45f5b0e133f4a3da7792": {
      "model_module": "@jupyter-widgets/controls",
      "model_module_version": "1.5.0",
      "model_name": "VBoxModel",
      "state": {
       "_dom_classes": [
        "widget-interact"
       ],
       "_model_module": "@jupyter-widgets/controls",
       "_model_module_version": "1.5.0",
       "_model_name": "VBoxModel",
       "_view_count": null,
       "_view_module": "@jupyter-widgets/controls",
       "_view_module_version": "1.5.0",
       "_view_name": "VBoxView",
       "box_style": "",
       "children": [
        "IPY_MODEL_463dd99db240432e9d2904eddd3eecf4",
        "IPY_MODEL_d6d890bf9f3c4ec1a4476c0a4d4f5d29"
       ],
       "layout": "IPY_MODEL_c329e0ee29684ce9ad2ee4d6381ffd39"
      }
     },
     "e468be4372fc45d587e9a1becd65e468": {
      "model_module": "@jupyter-widgets/controls",
      "model_module_version": "1.5.0",
      "model_name": "FloatSliderModel",
      "state": {
       "_dom_classes": [],
       "_model_module": "@jupyter-widgets/controls",
       "_model_module_version": "1.5.0",
       "_model_name": "FloatSliderModel",
       "_view_count": null,
       "_view_module": "@jupyter-widgets/controls",
       "_view_module_version": "1.5.0",
       "_view_name": "FloatSliderView",
       "continuous_update": true,
       "description": "t",
       "description_tooltip": null,
       "disabled": false,
       "layout": "IPY_MODEL_ec3bdc3ef49140b69db0514c89fd253d",
       "max": 20.0,
       "min": 0.0,
       "orientation": "horizontal",
       "readout": true,
       "readout_format": ".2f",
       "step": 0.1,
       "style": "IPY_MODEL_0dcbc5e5eb3d49a0bf8f52f0620f333d",
       "value": 2.0
      }
     },
     "ec3bdc3ef49140b69db0514c89fd253d": {
      "model_module": "@jupyter-widgets/base",
      "model_module_version": "1.2.0",
      "model_name": "LayoutModel",
      "state": {
       "_model_module": "@jupyter-widgets/base",
       "_model_module_version": "1.2.0",
       "_model_name": "LayoutModel",
       "_view_count": null,
       "_view_module": "@jupyter-widgets/base",
       "_view_module_version": "1.2.0",
       "_view_name": "LayoutView",
       "align_content": null,
       "align_items": null,
       "align_self": null,
       "border": null,
       "bottom": null,
       "display": null,
       "flex": null,
       "flex_flow": null,
       "grid_area": null,
       "grid_auto_columns": null,
       "grid_auto_flow": null,
       "grid_auto_rows": null,
       "grid_column": null,
       "grid_gap": null,
       "grid_row": null,
       "grid_template_areas": null,
       "grid_template_columns": null,
       "grid_template_rows": null,
       "height": null,
       "justify_content": null,
       "justify_items": null,
       "left": null,
       "margin": null,
       "max_height": null,
       "max_width": null,
       "min_height": null,
       "min_width": null,
       "object_fit": null,
       "object_position": null,
       "order": null,
       "overflow": null,
       "overflow_x": null,
       "overflow_y": null,
       "padding": null,
       "right": null,
       "top": null,
       "visibility": null,
       "width": null
      }
     },
     "ef680f9195454868a19139d81bb83aab": {
      "model_module": "@jupyter-widgets/base",
      "model_module_version": "1.2.0",
      "model_name": "LayoutModel",
      "state": {
       "_model_module": "@jupyter-widgets/base",
       "_model_module_version": "1.2.0",
       "_model_name": "LayoutModel",
       "_view_count": null,
       "_view_module": "@jupyter-widgets/base",
       "_view_module_version": "1.2.0",
       "_view_name": "LayoutView",
       "align_content": null,
       "align_items": null,
       "align_self": null,
       "border": null,
       "bottom": null,
       "display": null,
       "flex": null,
       "flex_flow": null,
       "grid_area": null,
       "grid_auto_columns": null,
       "grid_auto_flow": null,
       "grid_auto_rows": null,
       "grid_column": null,
       "grid_gap": null,
       "grid_row": null,
       "grid_template_areas": null,
       "grid_template_columns": null,
       "grid_template_rows": null,
       "height": null,
       "justify_content": null,
       "justify_items": null,
       "left": null,
       "margin": null,
       "max_height": null,
       "max_width": null,
       "min_height": null,
       "min_width": null,
       "object_fit": null,
       "object_position": null,
       "order": null,
       "overflow": null,
       "overflow_x": null,
       "overflow_y": null,
       "padding": null,
       "right": null,
       "top": null,
       "visibility": null,
       "width": null
      }
     },
     "f242076b26de4f42b6c627ed4d25eaa3": {
      "model_module": "@jupyter-widgets/controls",
      "model_module_version": "1.5.0",
      "model_name": "SliderStyleModel",
      "state": {
       "_model_module": "@jupyter-widgets/controls",
       "_model_module_version": "1.5.0",
       "_model_name": "SliderStyleModel",
       "_view_count": null,
       "_view_module": "@jupyter-widgets/base",
       "_view_module_version": "1.2.0",
       "_view_name": "StyleView",
       "description_width": "",
       "handle_color": null
      }
     },
     "f4eec736e8254d518ed8e573a7da879f": {
      "model_module": "@jupyter-widgets/controls",
      "model_module_version": "1.5.0",
      "model_name": "IntSliderModel",
      "state": {
       "_dom_classes": [],
       "_model_module": "@jupyter-widgets/controls",
       "_model_module_version": "1.5.0",
       "_model_name": "IntSliderModel",
       "_view_count": null,
       "_view_module": "@jupyter-widgets/controls",
       "_view_module_version": "1.5.0",
       "_view_name": "IntSliderView",
       "continuous_update": true,
       "description": "fv",
       "description_tooltip": null,
       "disabled": false,
       "layout": "IPY_MODEL_41611694afe2435aaba8d221bd3a86ee",
       "max": 100,
       "min": 1,
       "orientation": "horizontal",
       "readout": true,
       "readout_format": "d",
       "step": 1,
       "style": "IPY_MODEL_53a79dc7f2dc4c23b7ab1f2fbf7a41d0",
       "value": 30
      }
     }
    },
    "version_major": 2,
    "version_minor": 0
   }
  }
 },
 "nbformat": 4,
 "nbformat_minor": 5
}