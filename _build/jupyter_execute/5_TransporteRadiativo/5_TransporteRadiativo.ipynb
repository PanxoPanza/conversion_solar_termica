{
 "cells": [
  {
   "cell_type": "markdown",
   "id": "8b01ca79",
   "metadata": {
    "slideshow": {
     "slide_type": "slide"
    }
   },
   "source": [
    " <font size=\"6\">MEC501 - Manejo y Conversión de Energía Solar Térmica</font>\n",
    "# 5. Transporte Radiativo\n",
    "<br><br><br><br>\n",
    "Profesor: Francisco Ramírez Cuevas<br>\n",
    "Fecha: 9 de Septiembre 2022"
   ]
  },
  {
   "cell_type": "markdown",
   "id": "9ff4cae4",
   "metadata": {
    "slideshow": {
     "slide_type": "slide"
    }
   },
   "source": [
    "## Coherencia de la luz e interferencia\n",
    "Como veremos en las próximas clases, las vibraciones moleculares en la materia son las responsables de emitir radiación en forma de ondas electromagnéticas. El mecanismo es similar, pero inverso, al mecanismo de absorción de luz, el cual es originado por la interacción de ondas electromagnéticas con las vibraciones moleculares (ver clase 3)."
   ]
  },
  {
   "cell_type": "markdown",
   "id": "bcb7cf39",
   "metadata": {
    "slideshow": {
     "slide_type": "fragment"
    }
   },
   "source": [
    "Dicho esto, dos moléculas pueden emitir radiación con una pequeña variación en la longitud de onda $\\Delta\\lambda$. Esto ocurre porque las vibraciones no están 100% correlacionadas, es decir, existe un grado de aletoriedad en las vibraciones."
   ]
  },
  {
   "cell_type": "markdown",
   "id": "16081fa2",
   "metadata": {
    "slideshow": {
     "slide_type": "slide"
    }
   },
   "source": [
    "Esta aletoriedad en las vibraciones da lugar a una distribución del flujo de radiación emitido por una fuente.\n",
    "\n",
    "<img src=\"./images/light_source_spectra.png\" width=\"800px\" align= center>"
   ]
  },
  {
   "cell_type": "markdown",
   "id": "b54cf722",
   "metadata": {
    "slideshow": {
     "slide_type": "slide"
    }
   },
   "source": [
    "Por ejemplo, consideremos una fuente de luz con una distribución espectral normal, centrada en $\\lambda_0$ y con una desviación estandar $\\pm\\sigma_\\lambda\\lambda_0$, con $\\sigma_\\lambda \\in [0,1]$. Imaginemos esta fuente como $N$ emisores, donde cada emisor $j$ emite ondas electromagnéticas con longitud de onda $\\lambda \\pm\\Delta \\lambda_j$, donde $\\Delta \\lambda_j$ es escogido aleatoriamente a partir de la distribución normal."
   ]
  },
  {
   "cell_type": "markdown",
   "id": "31f81723",
   "metadata": {
    "cell_style": "split",
    "slideshow": {
     "slide_type": "fragment"
    }
   },
   "source": [
    "<img src=\"./images/normal_distribution.png\" width=\"400px\" align= center>"
   ]
  },
  {
   "cell_type": "markdown",
   "id": "76d68ef4",
   "metadata": {
    "cell_style": "split",
    "slideshow": {
     "slide_type": "fragment"
    }
   },
   "source": [
    "Asumiendo ondas en el aire en dirección $\\hat{k} = \\hat{x}$, el campo eléctrico resultante es:\n",
    "\n",
    "\\begin{equation*}\n",
    "\\vec{E}_\\mathrm{tot} = \\sum_j^N E_0e^{i\\left(k_jx - \\omega_j t\\right)} \\hat{z},\n",
    "\\end{equation*}\n",
    "\n",
    "donde $k_j = \\frac{2\\pi}{\\lambda \\pm\\Delta \\lambda_j}$, y $\\omega_j = c_0k_j$"
   ]
  },
  {
   "cell_type": "markdown",
   "id": "e5e55e68",
   "metadata": {
    "cell_style": "center",
    "slideshow": {
     "slide_type": "fragment"
    }
   },
   "source": [
    "Analicemos el comportamiento de $\\vec{E}_\\mathrm{tot} /E_0$ para $\\lambda_0 = 500$ nm"
   ]
  },
  {
   "cell_type": "code",
   "execution_count": 1,
   "id": "37df7e74",
   "metadata": {
    "cell_style": "split",
    "slideshow": {
     "slide_type": "slide"
    }
   },
   "outputs": [],
   "source": [
    "import numpy as np\n",
    "from numpy.random import normal\n",
    "import matplotlib.pyplot as plt\n",
    "\n",
    "def light_packet(kdir, x, t, lam, sig, N):\n",
    "    c0 = 3E8          # velocidad de la luz (m/s)\n",
    "    xx = np.meshgrid(x,np.ones(N))[0]\n",
    "    \n",
    "    # Generamos arreglo de ondas aleatorias\n",
    "    dlamj =  normal(0, lam*sig,N)\n",
    "    kj = (2*np.pi/(lam + dlamj)).reshape(-1,1)\n",
    "    wj = c0*kj\n",
    "    Erand = np.exp(1j*(kdir*kj*xx-wj*t)) \n",
    "    \n",
    "    # Sumamos todas las ondas\n",
    "    return np.sum(Erand,axis=0)\n",
    " \n",
    "def plot_light_packet(N, t, sig):\n",
    "    '''\n",
    "    n: número de ondas generadas\n",
    "    t: tiempo en ns\n",
    "    sig: % de ancho de banda (dlam = sig*lam)\n",
    "    '''\n",
    "    lam = 0.5         # longitud de onda (um)\n",
    "    t = t*1E-9 # convertimos ns a s\n",
    "    \n",
    "    # recorrido de la onda\n",
    "    x = np.linspace(-2,2,1000)  # desde 0 a 4 micrones\n",
    "    E = light_packet(1, x, t, lam, sig, N)\n",
    "    \n",
    "    # Graficamos\n",
    "    fig, ax = plt.subplots()\n",
    "    fig.set_size_inches(9, 5)\n",
    "    plt.rcParams['font.size'] = '18'\n",
    "    \n",
    "    ax.plot(x,np.real(E), 'k')\n",
    "    ax.set_xlabel('x ($\\mu$m)')\n",
    "    ax.set_ylabel('Amplitud $|E|/E_0$')\n",
    "    ax.set_ylim(-N*1.1,N*1.1)\n",
    "    ax.grid()\n"
   ]
  },
  {
   "cell_type": "code",
   "execution_count": 2,
   "id": "5c81aca7",
   "metadata": {
    "cell_style": "split",
    "slideshow": {
     "slide_type": "fragment"
    }
   },
   "outputs": [
    {
     "data": {
      "application/vnd.jupyter.widget-view+json": {
       "model_id": "18212f50f73d40b4a40dfc1252002b86",
       "version_major": 2,
       "version_minor": 0
      },
      "text/plain": [
       "interactive(children=(IntSlider(value=1000, description='N', max=1000, min=1), FloatSlider(value=0.0, descript…"
      ]
     },
     "metadata": {},
     "output_type": "display_data"
    }
   ],
   "source": [
    "from ipywidgets import interact\n",
    "\n",
    "@interact( N=(1,1000,1), \n",
    "           t=(-10,10,0.1),\n",
    "           sig=(0,1,0.01))\n",
    "def g(N=1000, t=0, sig=0.3):\n",
    "    return plot_light_packet(N,t,sig)"
   ]
  },
  {
   "cell_type": "markdown",
   "id": "b53bb755",
   "metadata": {
    "slideshow": {
     "slide_type": "slide"
    }
   },
   "source": [
    "### Longitud de coherencia\n",
    "Definimos como **longitud de coherencia**, $l_c$, a la distancia donde un grupo de ondas electromagnética mantiene correlación entre las fases. Para longitudes mayores a $l_c$, decimos que la luz es incoherente, es decir, el desface entre las distintas ondas es completamente aleatorio."
   ]
  },
  {
   "cell_type": "markdown",
   "id": "3ea340f8",
   "metadata": {
    "cell_style": "split",
    "slideshow": {
     "slide_type": "fragment"
    }
   },
   "source": [
    "<img src=\"./images/coherence_length.png\" width=\"300px\" align= center>"
   ]
  },
  {
   "cell_type": "markdown",
   "id": "1f71b46f",
   "metadata": {
    "cell_style": "split",
    "slideshow": {
     "slide_type": "fragment"
    }
   },
   "source": [
    "La relación entre $l_c$, la longitud de onda central $\\lambda$ y el ancho de banda $\\Delta\\lambda$ está dado, aproximadamente, por la relación:\n",
    "\n",
    "\\begin{equation*}\n",
    "l_c \\approx \\frac{\\lambda^2}{n\\Delta \\lambda},\n",
    "\\end{equation*}\n",
    "\n",
    "donde $n$ es el indice de refracción del medio donde se propaga la luz.\n",
    "\n",
    "Por ejemplo, para lasers He-Ne (laser rojo)  $l_c\\approx 0.2 - 100$ m.  "
   ]
  },
  {
   "cell_type": "markdown",
   "id": "b8e319bd",
   "metadata": {
    "slideshow": {
     "slide_type": "slide"
    }
   },
   "source": [
    "Para radiación emitida por un cuerpo a temperatura $T$, la longitud de coherencia está dada por:\n",
    "\n",
    "\\begin{equation*}\n",
    "l_c T = 2167.8~\\mathrm{\\mu m~K}\n",
    "\\end{equation*}\n",
    "\n",
    "Así, por ejemplo, la radiación solar ($T \\approx 5800~\\mathrm{K}$) tiene una longitud de coherencia, $l_c \\approx 370~\\mathrm{nm}$"
   ]
  },
  {
   "cell_type": "markdown",
   "id": "659f7454",
   "metadata": {
    "slideshow": {
     "slide_type": "slide"
    }
   },
   "source": [
    "### Régimen de trasporte de luz\n",
    "Consideremos dos paquetes de onda con una longitud de coherencia $l_c$, viajando en sentido opuesto."
   ]
  },
  {
   "cell_type": "markdown",
   "id": "1b6928bc",
   "metadata": {
    "slideshow": {
     "slide_type": "fragment"
    }
   },
   "source": [
    "Podemos ver que ambos paquetes de luz interfieren en $x = 0$ en un instante $t$. Al continuar su camino, ambos paquetes de onda recuperan su forma original."
   ]
  },
  {
   "cell_type": "code",
   "execution_count": 3,
   "id": "8b9e3e63",
   "metadata": {
    "cell_style": "split",
    "slideshow": {
     "slide_type": "slide"
    }
   },
   "outputs": [],
   "source": [
    "def plot_2light_packet(n, t, sig):\n",
    "    '''\n",
    "    n: número de ondas generadas\n",
    "    t: tiempo en ns\n",
    "    sig: % de ancho de banda (dlam = sig*lam)\n",
    "    '''\n",
    "    t = t*1E-9 # convertimos ns a s\n",
    "    lam = 0.5\n",
    "    \n",
    "    # recorrido de la onda\n",
    "    x = np.linspace(-2,2,1000)  # desde 0 a 4 micrones\n",
    "    k0 = 2*np.pi/lam\n",
    "    Efw = light_packet( 1, x - x[ 0], t, lam, sig, n)\n",
    "    Ebw = light_packet(-1, x - x[-1], t, lam, sig, n)\n",
    "    \n",
    "    # Graficamos\n",
    "    fig, ax = plt.subplots()\n",
    "    fig.set_size_inches(9, 5)\n",
    "    plt.rcParams['font.size'] = '18'\n",
    "    \n",
    "    ax.plot(x,np.real(Efw + Ebw), 'k')\n",
    "    ax.set_xlabel('x ($\\mu$m)')\n",
    "    ax.set_ylabel('Amplitud $|E|/E_0$')\n",
    "    ax.set_ylim(-n*2.1,n*2.1)\n",
    "    ax.grid()\n"
   ]
  },
  {
   "cell_type": "code",
   "execution_count": 4,
   "id": "977daeda",
   "metadata": {
    "cell_style": "split"
   },
   "outputs": [
    {
     "data": {
      "application/vnd.jupyter.widget-view+json": {
       "model_id": "f80e92c0c07844a3823a6f5290b9e6cb",
       "version_major": 2,
       "version_minor": 0
      },
      "text/plain": [
       "interactive(children=(IntSlider(value=1000, description='N', max=1000, min=1), FloatSlider(value=2.0, descript…"
      ]
     },
     "metadata": {},
     "output_type": "display_data"
    }
   ],
   "source": [
    "from ipywidgets import interact\n",
    "\n",
    "@interact( N=(1,1000,1), \n",
    "           t=(0,20,0.1),\n",
    "           sig=(0,1,0.01))\n",
    "def g(N=1000, t=2, sig=0.3):\n",
    "    return plot_2light_packet(N,t,sig)"
   ]
  },
  {
   "cell_type": "markdown",
   "id": "615ad1c6",
   "metadata": {
    "slideshow": {
     "slide_type": "slide"
    }
   },
   "source": [
    "A partir de esto, podemos concluir que los fenómenos de interferencia en películas de capa delgada de espesor $d$ no serían visibles si $d > l_c$. En otras palabras, el fenómeno de interferencia solo existe si el paquete de onda interfiere consigo mismo."
   ]
  },
  {
   "cell_type": "markdown",
   "id": "db4d20e4",
   "metadata": {
    "cell_style": "split",
    "slideshow": {
     "slide_type": "fragment"
    }
   },
   "source": [
    "<img src=\"./images/interference_thinfilm.png\" width=\"200px\" align= center>"
   ]
  },
  {
   "cell_type": "markdown",
   "id": "fce7ef57",
   "metadata": {
    "cell_style": "split",
    "slideshow": {
     "slide_type": "fragment"
    }
   },
   "source": [
    "En general, para una longitud características $D$:\n",
    "\n",
    "- Si $D > l_c$ el **transporte de luz es incoherente** . En este régimen, podemos ignorar las propiedades oscilatorias de la luz, y analizar el problema como el transporte de pequeños paquetes de onda, o simplemente como partículas.\n",
    "\n",
    "- Si $D < l_c$, el **transporte de luz es coherente**. En este régimen debemos considerar las propiedades oscilatorias a partir de las Ecuaciones de Maxwell."
   ]
  },
  {
   "cell_type": "markdown",
   "id": "06aab8e7",
   "metadata": {
    "cell_style": "center",
    "slideshow": {
     "slide_type": "slide"
    }
   },
   "source": [
    "Así, los coeficientes de Fresnel para una película delgada solo son válidos para $d < l_c$. "
   ]
  },
  {
   "cell_type": "markdown",
   "id": "c7f85265",
   "metadata": {
    "cell_style": "split",
    "slideshow": {
     "slide_type": "fragment"
    }
   },
   "source": [
    "Los coeficientes de Fresnel para una interface, en cambio, siempre son válidos."
   ]
  },
  {
   "cell_type": "markdown",
   "id": "57178760",
   "metadata": {
    "cell_style": "split",
    "slideshow": {
     "slide_type": "fragment"
    }
   },
   "source": [
    "<img src=\"./images/interference_interface.png\" width=\"350px\" align= center>"
   ]
  },
  {
   "cell_type": "markdown",
   "id": "0c79f1b6",
   "metadata": {
    "slideshow": {
     "slide_type": "slide"
    }
   },
   "source": [
    "Igualmente, en medios particulados, los fenómenos de interferencia pueden ocurrir si las partículas están suficientemente cerca y tienen tamaños similares. Llamamos a esto **scattering coherente**"
   ]
  },
  {
   "cell_type": "markdown",
   "id": "61e2a519",
   "metadata": {
    "slideshow": {
     "slide_type": "fragment"
    }
   },
   "source": [
    "<img src=\"./images/scattering_coherence.png\" width=\"600px\" align= center>"
   ]
  },
  {
   "cell_type": "markdown",
   "id": "8167d93c",
   "metadata": {
    "slideshow": {
     "slide_type": "slide"
    }
   },
   "source": [
    "El fenómeno de scattering coherente da lugar a los denominados **colores estructurales** presentes en las alas de las aves y mariposas (mas info [acá](https://wires.onlinelibrary.wiley.com/doi/10.1002/wnan.1396))"
   ]
  },
  {
   "cell_type": "markdown",
   "id": "06446d60",
   "metadata": {
    "cell_style": "split",
    "slideshow": {
     "slide_type": "fragment"
    }
   },
   "source": [
    "<img src=\"./images/structural_colors_birds.png\" width=\"550px\" align= center>\n",
    "\n",
    "[Hwang, V. et al. PNAS 118 (4) e2015551118\n",
    " (2020)](https://www.pnas.org/doi/10.1073/pnas.2015551118)"
   ]
  },
  {
   "cell_type": "markdown",
   "id": "71eaafb2",
   "metadata": {
    "cell_style": "split",
    "slideshow": {
     "slide_type": "fragment"
    }
   },
   "source": [
    "<img src=\"./images/structural_colors_buterflies.png\" width=\"450px\" align= center>\n",
    "\n",
    "[Tippets C. A. et al. J. Opt. 18 (2016) 065105](https://iopscience.iop.org/article/10.1088/2040-8978/18/6/065105)"
   ]
  },
  {
   "cell_type": "markdown",
   "id": "f629fcbe",
   "metadata": {
    "slideshow": {
     "slide_type": "slide"
    }
   },
   "source": [
    "## Teoría de transferencia radiativa\n",
    "Si el transporte de luz es incoherente, podemos ignorar las propiedades oscilatorias de la luz y analizar el fenómeno óptico como un el transporte de radiación a través de un volumen de control."
   ]
  },
  {
   "cell_type": "markdown",
   "id": "921c9262",
   "metadata": {
    "slideshow": {
     "slide_type": "fragment"
    }
   },
   "source": [
    "La **ecuación de transferencia radiativa** (RTE por sus siglas en ingles), describe la propagación de la **radiancia espectral**, $I_\\lambda(\\vec{r},\\hat{k})$ definida como el espectro del flujo de energía en una posición $\\vec{r}$, y una dirección $\\hat{k}$. En su forma más general, para un problema estacionario:\n",
    "\n",
    "\\begin{equation}\n",
    "\\hat{k}\\cdot\\nabla_r I_\\lambda(\\vec{r},\\hat{k}) = - \\left[\\frac{f_v}{V_p}C_\\mathrm{ext} + 2\\kappa k_0\\right]I_\\lambda(\\vec{r},\\hat{k}) + \\frac{f_v}{V_p}\\int_{4\\pi} P_\\mathrm{sca}(\\hat{k},\\hat{k}') I_\\lambda(\\vec{r},\\hat{k}') d\\hat{k}'\n",
    "\\end{equation}"
   ]
  },
  {
   "cell_type": "markdown",
   "id": "44c82ce8",
   "metadata": {
    "slideshow": {
     "slide_type": "fragment"
    }
   },
   "source": [
    "donde $f_v$ y $V_p$ son, respectivamente la fracción de volúmen y el volúmen de las partículas en el medio, y $P_\\mathrm{sca}(\\hat{k},\\hat{k}')$ es la función de fase."
   ]
  },
  {
   "cell_type": "markdown",
   "id": "84f7041f",
   "metadata": {
    "slideshow": {
     "slide_type": "slide"
    }
   },
   "source": [
    "Notar que consideramos el caso más generalizado de la función de fase, que depende tanto de la dirección de la onda incidente $\\hat{k}$ como de la dirección del scattering $\\hat{k}'$."
   ]
  },
  {
   "cell_type": "markdown",
   "id": "556660a5",
   "metadata": {
    "cell_style": "center",
    "slideshow": {
     "slide_type": "fragment"
    }
   },
   "source": [
    "Como revisamos en el capítulo anterior, en el caso de una esfera, la función de fase depende de $\\theta$, el cual está definido por $\\cos\\theta = \\hat{k}\\cdot\\hat{k}'$\n",
    "\n"
   ]
  },
  {
   "cell_type": "markdown",
   "id": "b7b71333",
   "metadata": {
    "slideshow": {
     "slide_type": "slide"
    }
   },
   "source": [
    "Con esto en mente, ahora podemos discutir el significado de los términos en la RTE:"
   ]
  },
  {
   "cell_type": "markdown",
   "id": "12e1a1e8",
   "metadata": {
    "slideshow": {
     "slide_type": "fragment"
    }
   },
   "source": [
    "- El primer término representa el cambio de $I_\\lambda(\\vec{r},\\hat{k})$ a través volumen diferencial. Por ejemplo, en el caso unidimencional en dirección $\\hat{k} = \\hat{x}$, tenemos: \n",
    "\\begin{equation*}\n",
    "\\hat{k}\\cdot\\nabla_r I_\\lambda(\\vec{r},\\hat{k}) = \\frac{\\partial}{\\partial x}I_\\lambda(\\vec{r},\\hat{k})\n",
    "\\end{equation*}"
   ]
  },
  {
   "cell_type": "markdown",
   "id": "231c3da9",
   "metadata": {
    "slideshow": {
     "slide_type": "fragment"
    }
   },
   "source": [
    "- El segundo término representa la pérdida de energía radiativa, por extinción $\\left(\\frac{f_v}{V_p}C_\\mathrm{ext}\\right)$ y absorción en el material material ($2\\kappa k_0$), respectivamente.Recordemos que la extinción representa la energía absorbida por las partículas + la energía de scattering en direcciónes distintas a $\\hat{k}$, es decir $C_\\mathrm{ext}= C_\\mathrm{abs} + C_\\mathrm{sca}$."
   ]
  },
  {
   "cell_type": "markdown",
   "id": "4754c5ed",
   "metadata": {
    "slideshow": {
     "slide_type": "fragment"
    }
   },
   "source": [
    "- El tercer término representa la ganancia de energía radiativa produco del scattering inducido por radiación incidente en dirección $\\hat{k}'$. Este término representa el fenómeno de **scattering múltiple**."
   ]
  },
  {
   "cell_type": "markdown",
   "id": "43766712",
   "metadata": {
    "slideshow": {
     "slide_type": "slide"
    }
   },
   "source": [
    "## Soluciones de la RTE\n",
    "La ecuación de transferencia radiativa permite explicar de forma fenomenológica el transporte de radiación en un medio particulado. Debido a su complejidad, existen pocas soluciones analíticas. En esta sección describiremos las tres más conocidas."
   ]
  },
  {
   "cell_type": "markdown",
   "id": "6037462f",
   "metadata": {
    "slideshow": {
     "slide_type": "slide"
    }
   },
   "source": [
    "### Película de material sin partículas (Reflectividad y Transmisividad incoherente)\n",
    "En el caso de un medio sin partículas solo debemos considerar el primer término de la RTE. "
   ]
  },
  {
   "cell_type": "markdown",
   "id": "38e80853",
   "metadata": {
    "slideshow": {
     "slide_type": "fragment"
    }
   },
   "source": [
    "Para el caso particular de un material de espesor $t_\\mathrm{film}$ e índice de refracción $N = n + \\kappa$, rodeado por un medio con índice de refracción $N_0$, derivamos las siguientes relaciones de reflectividad y tranmisividad para luz incoherente:\n",
    "\n",
    "\\begin{align}\n",
    "R_\\mathrm{incoh}&= R_0 + \\frac{T_0^2R_0e^{-4\\kappa k_0 t_\\mathrm{film}}}{1 - R_0^2e^{-4\\kappa k_0 t_\\mathrm{film}}} \n",
    "\\\\[10pt]\n",
    "T_\\mathrm{incoh} &= \\frac{T_0^2e^{-4\\kappa k_0 t_\\mathrm{film}}}{1 - R_0^2e^{-4\\kappa k_0 t_\\mathrm{film}}}\n",
    "\\end{align}\n",
    "\n",
    "donde $R_0$ y $T_0$ corresponden, respectivamente, a la reflectividad y transmisividad en la interface $N_0 / N_1$"
   ]
  },
  {
   "cell_type": "markdown",
   "id": "7b8cb924",
   "metadata": {
    "slideshow": {
     "slide_type": "slide"
    }
   },
   "source": [
    "En el siguiente ejemplo, utilizamos la función ```incoh_multilayer``` de la libreria ```empylib.waveoptics```. Esta función es más general que la ecuación anterior y permite determinar $R_\\mathrm{incoh}$ y $T_\\mathrm{incoh}$ para arreglos multicapas. "
   ]
  },
  {
   "cell_type": "markdown",
   "id": "2a3e7bbc",
   "metadata": {
    "slideshow": {
     "slide_type": "fragment"
    }
   },
   "source": [
    "En este caso, evaluaremos una película de sílice de espesor $1~\\mu\\mathrm{m}$, sobre un sustrato con íncide de refracción $N_\\mathrm{back} = 4.3$, y con aire en la superficie $N_\\mathrm{front} = 1.0$. El espectro de longitudes de onda $\\lambda\\in[0.3,0.8]~\\mu\\mathrm{m}$ y el ángulo de incidencia $\\theta_i = 30°$. Para comparar, determinaremos $R$ y $T$ para el caso de luz coherente."
   ]
  },
  {
   "cell_type": "code",
   "execution_count": 5,
   "id": "a99aa431",
   "metadata": {
    "cell_style": "split",
    "slideshow": {
     "slide_type": "slide"
    }
   },
   "outputs": [],
   "source": [
    "import numpy as np\n",
    "import empylib.waveoptics as wv\n",
    "import empylib.nklib as nk\n",
    "\n",
    "lam = np.linspace(0.3,0.8,100)  # espectro de longitudes de onda (um)\n",
    "theta = np.radians(30)          # ángulo de incidencia\n",
    "\n",
    "Nfront = 1.0                 # índice de refracción medio superior\n",
    "N1     = nk.SiO2(lam)        # índice de refracción capa delgada\n",
    "Nback  = 4.3                 # índice de refracción medio inferior\n",
    "N = (Nfront, N1, Nback)      # indices de refracción (above, mid, below)\n",
    "d = 1.0                      # espesor capa intermedia (um)\n",
    "\n",
    "# caso luz incoherente\n",
    "Rp_incoh, Tp_incoh = wv.incoh_multilayer(lam,theta, N, d, pol='TM')\n",
    "# caso luz coherente\n",
    "Rp, Tp = wv.multilayer(lam,theta, N, d, pol='TM')[:2]"
   ]
  },
  {
   "cell_type": "code",
   "execution_count": 6,
   "id": "3bee2ad8",
   "metadata": {
    "cell_style": "split",
    "slideshow": {
     "slide_type": "fragment"
    }
   },
   "outputs": [
    {
     "data": {
      "image/png": "[encoded data removed]",
      "text/plain": [
       "<Figure size 504x360 with 1 Axes>"
      ]
     },
     "metadata": {
      "filenames": {
       "image/png": "/mnt/d/OneDrive - Universidad Adolfo Ibanez/Teaching_courses/Manejo_y_Conversion_Energia_Solar_Termica/material_catedra/_build/jupyter_execute/5_TransporteRadiativo/5_TransporteRadiativo_44_0.png"
      },
      "needs_background": "light"
     },
     "output_type": "display_data"
    }
   ],
   "source": [
    "fig, ax = plt.subplots()\n",
    "fig.set_size_inches(7, 5)\n",
    "plt.rcParams['font.size'] = '16'\n",
    "\n",
    "# Graficamos el flujo de energía\n",
    "plt.plot(lam,Rp,'--r',label='$R_\\mathrm{TM}$ (coh)')\n",
    "plt.plot(lam,Tp,'--b',label='$T_\\mathrm{TM}$ (coh)')\n",
    "plt.plot(lam,Rp_incoh,'-r',label='$R_\\mathrm{TM}$ (incoh)')\n",
    "plt.plot(lam,Tp_incoh,'-b',label='$T_\\mathrm{TM}$ (incoh)')\n",
    "plt.title('arreglo 1.0/1.5/4.3')\n",
    "plt.xlabel('Longitud de onda ($\\mu$m)')\n",
    "plt.ylabel('Refletividad / Transmisividad')\n",
    "plt.legend()\n",
    "plt.show()"
   ]
  },
  {
   "cell_type": "markdown",
   "id": "c6ed7877",
   "metadata": {
    "slideshow": {
     "slide_type": "slide"
    }
   },
   "source": [
    "En la figura, para el caso de luz coherente, notamos oscilaciones en $R$ y $T$ producto de los fenómenos de interferencia. En el caso de luz incoherente, el fenómeno de interferencia desaparace."
   ]
  },
  {
   "cell_type": "markdown",
   "id": "a5316b37",
   "metadata": {
    "slideshow": {
     "slide_type": "slide"
    }
   },
   "source": [
    "### Película de material con baja concentración de partículas (Ley de Beer-Lambert)\n",
    "Definimos el **camino libre medio de scattering**, como $\\Lambda_\\mathrm{sca} = \\left(f_v C_\\mathrm{sca}/V_p\\right)^{-1}$. Este parametro representa la distancia promedio que recorre la luz entre eventos de scattering."
   ]
  },
  {
   "cell_type": "markdown",
   "id": "a352fb08",
   "metadata": {
    "cell_style": "center",
    "slideshow": {
     "slide_type": "fragment"
    }
   },
   "source": [
    "Si $\\Lambda_\\mathrm{sca}$ es mayor que el espesor del material, $t_\\mathrm{film}$, la probabilidad de que ocurran más de un evento scattering es despreciable, y decimos que el **scattering es de primer orden**. En este caso, el tercer término de la RTE es despreciable y la radiación solo pierde energía por absorción del material o extinción inducida por las partículas."
   ]
  },
  {
   "cell_type": "markdown",
   "id": "9407f0e6",
   "metadata": {
    "slideshow": {
     "slide_type": "slide"
    }
   },
   "source": [
    "La solución a esta ecuación se conoce como la ley de Beer-Lambert. Mediante esta aproximación podemos deducir las componentes total y especular de la transmitancia:\n",
    "\n",
    "\\begin{equation}\n",
    "T_\\mathrm{tot} = T_0 e^{-f_v\\frac{C_\\mathrm{abs}}{V_p}t_\\mathrm{film}}\\quad\\quad\\mathrm{and}\\quad\\quad \n",
    "T_\\mathrm{spec} = T_0 e^{-f_v\\frac{C_\\mathrm{ext}}{V_p}t_\\mathrm{film}}\n",
    "\\end{equation}\n",
    "\n",
    "donde, $T_0$ es la **transmisividad incoherente del material sin incrustaciones**."
   ]
  },
  {
   "cell_type": "markdown",
   "id": "2f29ecb5",
   "metadata": {
    "slideshow": {
     "slide_type": "fragment"
    }
   },
   "source": [
    "<img src=\"./images/beer_lambert.png\" width=\"500px\" align= center>"
   ]
  },
  {
   "cell_type": "markdown",
   "id": "963bc3c6",
   "metadata": {
    "slideshow": {
     "slide_type": "slide"
    }
   },
   "source": [
    "Podemos utilizar la ley de Beer-Lambert para analizar, de forma aproximada, el efecto del color del cielo durante el día y en la tarde."
   ]
  },
  {
   "cell_type": "markdown",
   "id": "227d193d",
   "metadata": {
    "slideshow": {
     "slide_type": "fragment"
    }
   },
   "source": [
    "El color del cielo está dado por la componente difusa. Así calculamos $T_\\mathrm{dif} = T_\\mathrm{tot} - T_\\mathrm{spec}$."
   ]
  },
  {
   "cell_type": "markdown",
   "id": "a2577fed",
   "metadata": {
    "slideshow": {
     "slide_type": "fragment"
    }
   },
   "source": [
    "Consideremos una atmosfera compuesta de aire ($N_h = 1.0$) y una pequeña concentración ($f_v = 1\\times 10^{-6}~\\%$) de partículas de 10 nm de diámetro e índice de refracción $N_p = 1.5$. El espesor de la atmosfera es $t_\\mathrm{atm} = 100~\\mathrm{km}$"
   ]
  },
  {
   "cell_type": "code",
   "execution_count": 7,
   "id": "33491447",
   "metadata": {
    "cell_style": "center",
    "slideshow": {
     "slide_type": "slide"
    }
   },
   "outputs": [],
   "source": [
    "import empylib.rad_transfer as rt\n",
    "import empylib.nklib as nk\n",
    "import numpy as np\n",
    "import matplotlib.pyplot as plt\n",
    "from empylib.ref_spectra import AM15\n",
    "from empylib.ref_spectra import color_system as cs\n",
    "cs = cs.hdtv\n",
    "\n",
    "lam1 = np.linspace(0.38,0.78,100) # espectro de longitudes de onda\n",
    "cs.interp_internals(lam1)\n",
    "def plot_atmosphere(theta_sun):\n",
    "    fig, ax = plt.subplots()          \n",
    "    fig.set_size_inches(8, 5)         # Tamaño del gráfico\n",
    "    plt.rcParams['font.size'] = '14'  # tamaño de fuente\n",
    "    \n",
    "    # parámetros de entrada\n",
    "    tatm = 100E9                      # espesor de la atmósfera 100 km\n",
    "    N = (1.0,1.0,1.0)                 # indice de refracción superior, intermedio e inferior\n",
    "    fvp = 1E-8                        # fracción de volúmen de las partículas\n",
    "    Dp = 0.010                        # diámetro de las partículas\n",
    "    Np = 1.5*lam1**0                  # índice de refracción de las partículas\n",
    "    \n",
    "    # transmitancia total y especular\n",
    "    theta = np.radians(theta_sun)    # posición del sol en radianes\n",
    "    Ttot, Tspec = rt.T_beer_lambert(lam1,theta,tatm,N,fvp,Dp,Np)\n",
    "    \n",
    "    Tdif = Ttot - Tspec              # transmitancia difusa\n",
    "    ax.plot(lam1,Tdif,'-k',label = 'Tdif')\n",
    "    ax.set_xlabel('Longitud de onda ($\\mu$m)')\n",
    "    ax.set_ylabel('Transmisividad')\n",
    "    ax.set_title(r'Posición del sol, $\\theta_\\mathrm{sun}$=%.1f°'% (theta_sun))\n",
    "    ax.set_ylim(0,1.05)\n",
    "    \n",
    "    Dcircle = 0.25\n",
    "    ax2 = fig.add_axes([0.11,0.15, Dcircle, Dcircle])\n",
    "    Irad = Tdif*AM15(lam1)\n",
    "    html_rgb = cs.spec_to_rgb(Irad, out_fmt='html')\n",
    "    Circle = plt.Circle((0, 0), Dcircle, color=html_rgb)\n",
    "    ax2.add_patch(Circle)\n",
    "    ax2.set_aspect('equal')\n",
    "    ax2.set_xlim(-Dcircle*1.2,Dcircle*1.2)\n",
    "    ax2.set_ylim(-Dcircle*1.2,Dcircle*1.2)\n",
    "    ax2.set_xticks([])\n",
    "    ax2.set_yticks([])\n",
    "    ax2.set_facecolor('k')"
   ]
  },
  {
   "cell_type": "code",
   "execution_count": 8,
   "id": "f3b08336",
   "metadata": {
    "cell_style": "center",
    "slideshow": {
     "slide_type": "slide"
    }
   },
   "outputs": [
    {
     "data": {
      "application/vnd.jupyter.widget-view+json": {
       "model_id": "0a24f08368f348d9b6302dc74937726a",
       "version_major": 2,
       "version_minor": 0
      },
      "text/plain": [
       "interactive(children=(FloatSlider(value=0.0, description='theta_sun', max=89.99), Output()), _dom_classes=('wi…"
      ]
     },
     "metadata": {},
     "output_type": "display_data"
    },
    {
     "data": {
      "image/png": "[encoded data removed]",
      "text/plain": [
       "<Figure size 576x360 with 1 Axes>"
      ]
     },
     "metadata": {
      "filenames": {
       "image/png": "/mnt/d/OneDrive - Universidad Adolfo Ibanez/Teaching_courses/Manejo_y_Conversion_Energia_Solar_Termica/material_catedra/_build/jupyter_execute/5_TransporteRadiativo/5_TransporteRadiativo_54_1.png"
      },
      "needs_background": "light"
     },
     "output_type": "display_data"
    }
   ],
   "source": [
    "# from ipywidgets import interact\n",
    "\n",
    "@interact(theta_sun=(0,89.99,0.1))\n",
    "def g(theta_sun=0):\n",
    "    return plot_atmosphere(theta_sun)"
   ]
  },
  {
   "cell_type": "markdown",
   "id": "8aa6d072",
   "metadata": {
    "cell_style": "center",
    "slideshow": {
     "slide_type": "slide"
    }
   },
   "source": [
    "### Pelicula de material particulado (simulaciones de transferencia radiativa)\n",
    "Este caso corresponde a materiales con $\\Lambda_\\mathrm{sca} > t_\\mathrm{film}$. En este caso los eventos de scattering se producen más de una vez, y decimos que estámos en un régimen de **scattering múltiple**. Como resultado, los tres términos de la RTE son relevantes y debemos resolver la ecuación mediante simulación computacional.\n",
    "\n",
    "<img src=\"./images/multiple_scattering.png\" width=\"400px\" align= center>"
   ]
  },
  {
   "cell_type": "markdown",
   "id": "bea5c468",
   "metadata": {
    "slideshow": {
     "slide_type": "slide"
    }
   },
   "source": [
    "Consideremos un material de sílice de espesor $t_\\mathrm{film} = 5~\\mathrm{mm}$. Evaluaremos los colores de este material en transmisión y reflección para luz incidente normal a la superficie en función de la concentración y el diámetro de las partículas. Utilizamos la función ```ad_rad_transfer``` de la librería ```empylib.rad_transfer```"
   ]
  },
  {
   "cell_type": "code",
   "execution_count": 9,
   "id": "24c8d4d6",
   "metadata": {
    "slideshow": {
     "slide_type": "slide"
    }
   },
   "outputs": [],
   "source": [
    "import empylib.rad_transfer as rt\n",
    "import empylib.nklib as nk\n",
    "import empylib.miescattering as mie\n",
    "import numpy as np\n",
    "import matplotlib.pyplot as plt\n",
    "\n",
    "lam2 = np.linspace(0.3,1.0,100) # espectro de longitudes de onda en micrometros\n",
    "Nlayers = (1.0,nk.SiO2(lam2),1.0)   # indice de refracción superior, intermedio e inferior\n",
    "Np = nk.silver(lam2)                # Índice de refracción de las partículas\n",
    "cs.interp_internals(lam2)\n",
    "\n",
    "def plot_glass_silver(fv,D):\n",
    "    # parámetros de entrada\n",
    "    \n",
    "    theta = np.radians(0)       # 30 grados en radianes\n",
    "    tfilm = 5E3                 # espesor en micrones\n",
    "    \n",
    "    fv = fv*1E-10               # fracción de volúmen de las partículas\n",
    "    D = D*1E-3                  # diámetro de las partículas\n",
    "    \n",
    "    qext, qsca = mie.scatter_efficiency(lam2,Nlayers[1],Np,D)[:2]\n",
    "    qabs = qext - qsca\n",
    "    Rtot, Ttot = rt.ad_rad_transfer(lam2,tfilm,Nlayers,fv,D,Np)\n",
    "\n",
    "    fig, ax = plt.subplots(1,3)\n",
    "    fig.set_size_inches(20, 5)\n",
    "    plt.rcParams['font.size'] = '16'\n",
    "    \n",
    "    ax[0].plot(lam2,qsca,'-r',label='$C_\\mathrm{sca} A_c$')\n",
    "    ax[0].plot(lam2,qabs,'-b',label='$C_\\mathrm{abs} A_c$')\n",
    "    ax[0].set_xlabel('Longitud de onda ($\\mu$m)')\n",
    "    ax[0].set_ylabel('Eficiencia transversal')\n",
    "    ax[0].set_title('Partícula de plata (D=%.0f nm)' % (D*1E3))\n",
    "    ax[0].legend()\n",
    "    ax[0].set_ylim(0,10)\n",
    "    \n",
    "    ax[1].plot(lam2,Rtot,'-r',label = 'Rtot')\n",
    "    ax[1].plot(lam2,Ttot,'-b',label = 'Ttot')\n",
    "    ax[1].set_xlabel('Longitud de onda ($\\mu$m)')\n",
    "    ax[1].set_ylabel('Transmisividad')\n",
    "    ax[1].set_title(r'Sílice con plata (fv = %.1e %%)' % (fv*100) )\n",
    "    ax[1].legend()\n",
    "    ax[1].set_ylim(0,1)\n",
    "\n",
    "    Dcircle = 0.20\n",
    "    html_rgb = cs.spec_to_rgb(Ttot*AM15(lam2), out_fmt='html')\n",
    "    Circle = plt.Circle((0, 0), Dcircle, color=html_rgb)\n",
    "    ax[2].add_patch(Circle)\n",
    "    ax[2].annotate('Luz Trasera', xy=(0, 0), va='center', ha='center')\n",
    "\n",
    "    html_rgb = cs.spec_to_rgb(Rtot*AM15(lam2), out_fmt='html')\n",
    "    Circle = plt.Circle((Dcircle*1.2*2, 0), Dcircle, color=html_rgb)\n",
    "    ax[2].add_patch(Circle)\n",
    "    ax[2].annotate('Luz Frontal', xy=(Dcircle*1.2*2, 0), va='center', ha='center')\n",
    "\n",
    "    ax[2].set_aspect('equal')\n",
    "    ax[2].set_xlim(-Dcircle*1.2,Dcircle*1.2*3)\n",
    "    ax[2].set_ylim(-Dcircle*1.2,Dcircle*1.2)\n",
    "    ax[2].set_xticks([])\n",
    "    ax[2].set_yticks([])\n",
    "    ax[2].set_facecolor('k')\n",
    "    plt.subplots_adjust(wspace=0.3)"
   ]
  },
  {
   "cell_type": "code",
   "execution_count": 10,
   "id": "494ceeb2",
   "metadata": {
    "cell_style": "center",
    "slideshow": {
     "slide_type": "slide"
    }
   },
   "outputs": [
    {
     "data": {
      "application/vnd.jupyter.widget-view+json": {
       "model_id": "9dcc285f50ea478ebaa6dc99f935cc56",
       "version_major": 2,
       "version_minor": 0
      },
      "text/plain": [
       "interactive(children=(IntSlider(value=30, description='fv', min=1), IntSlider(value=140, description='D', max=…"
      ]
     },
     "metadata": {},
     "output_type": "display_data"
    }
   ],
   "source": [
    "from ipywidgets import interact\n",
    "\n",
    "@interact(fv=(1,100,1), D = (10,200,1))\n",
    "def g(fv=30, D = 140):\n",
    "    return plot_glass_silver(fv,D)"
   ]
  },
  {
   "cell_type": "markdown",
   "id": "031ca52b",
   "metadata": {
    "slideshow": {
     "slide_type": "slide"
    }
   },
   "source": [
    "Cuando la concentración de partículas es densa, el medio se vuelve opaco. Este régimen se denomina **scattering difuso** y permite explicar, entre otras cosas, el color de las nubes o la pintura blanca\n",
    "\n",
    "\n",
    "<img src=\"./images/diffuse_scattering.png\" width=\"400px\" align= center>"
   ]
  },
  {
   "cell_type": "markdown",
   "id": "01df5bd6",
   "metadata": {
    "slideshow": {
     "slide_type": "slide"
    }
   },
   "source": [
    "Un ejemplo interesante corresponde a la leche. En términos simples, la leche es una emulsión formada por pequeñas partículas de grasa dispersas en un medio acuoso. "
   ]
  },
  {
   "cell_type": "markdown",
   "id": "225b5528",
   "metadata": {
    "slideshow": {
     "slide_type": "fragment"
    }
   },
   "source": [
    "Como aproximación, consideremos un medio de espesor $1$ cm, compuesto por agua $N_h = 1.3$ y pequeñas partículas esféricas de aceite $N_p = 1.5$. La emulsión considera un 60% de partículas de aceite por volumen."
   ]
  },
  {
   "cell_type": "code",
   "execution_count": 11,
   "id": "72cbfc3e",
   "metadata": {
    "cell_style": "split",
    "slideshow": {
     "slide_type": "slide"
    }
   },
   "outputs": [
    {
     "ename": "UnboundLocalError",
     "evalue": "local variable 'Nh' referenced before assignment",
     "output_type": "error",
     "traceback": [
      "\u001b[0;31m---------------------------------------------------------------------------\u001b[0m",
      "\u001b[0;31mUnboundLocalError\u001b[0m                         Traceback (most recent call last)",
      "\u001b[0;32m/tmp/ipykernel_255/1560472689.py\u001b[0m in \u001b[0;36m<module>\u001b[0;34m\u001b[0m\n\u001b[1;32m     12\u001b[0m \u001b[0mNoil\u001b[0m \u001b[0;34m=\u001b[0m \u001b[0;36m1.5\u001b[0m                        \u001b[0;31m# índice de refracción partículas de aceite\u001b[0m\u001b[0;34m\u001b[0m\u001b[0;34m\u001b[0m\u001b[0m\n\u001b[1;32m     13\u001b[0m \u001b[0;31m#---------------------------------------------------------------\u001b[0m\u001b[0;34m\u001b[0m\u001b[0;34m\u001b[0m\u001b[0m\n\u001b[0;32m---> 14\u001b[0;31m \u001b[0mRtot\u001b[0m\u001b[0;34m,\u001b[0m \u001b[0mTtot\u001b[0m \u001b[0;34m=\u001b[0m \u001b[0mrt\u001b[0m\u001b[0;34m.\u001b[0m\u001b[0mad_rad_transfer\u001b[0m\u001b[0;34m(\u001b[0m\u001b[0mlam3\u001b[0m\u001b[0;34m,\u001b[0m\u001b[0mtfilm\u001b[0m\u001b[0;34m,\u001b[0m\u001b[0;34m(\u001b[0m\u001b[0;36m1.0\u001b[0m\u001b[0;34m,\u001b[0m\u001b[0mNh2o\u001b[0m\u001b[0;34m,\u001b[0m\u001b[0;36m1.0\u001b[0m\u001b[0;34m)\u001b[0m\u001b[0;34m,\u001b[0m\u001b[0mfv\u001b[0m\u001b[0;34m,\u001b[0m\u001b[0mD\u001b[0m\u001b[0;34m,\u001b[0m\u001b[0mNoil\u001b[0m\u001b[0;34m)\u001b[0m\u001b[0;34m\u001b[0m\u001b[0;34m\u001b[0m\u001b[0m\n\u001b[0m\u001b[1;32m     15\u001b[0m \u001b[0;34m\u001b[0m\u001b[0m\n\u001b[1;32m     16\u001b[0m \u001b[0mfig\u001b[0m\u001b[0;34m,\u001b[0m \u001b[0max\u001b[0m \u001b[0;34m=\u001b[0m \u001b[0mplt\u001b[0m\u001b[0;34m.\u001b[0m\u001b[0msubplots\u001b[0m\u001b[0;34m(\u001b[0m\u001b[0;34m)\u001b[0m\u001b[0;34m\u001b[0m\u001b[0;34m\u001b[0m\u001b[0m\n",
      "\u001b[0;32m/mnt/d/OneDrive - Universidad Adolfo Ibanez/ComputerCodes/Python/custom_packages/empylib/rad_transfer/rad_transfer.py\u001b[0m in \u001b[0;36mad_rad_transfer\u001b[0;34m(lam, tfilm, Nlayers, fv, D, Np)\u001b[0m\n\u001b[1;32m    148\u001b[0m     \u001b[0;32melse\u001b[0m\u001b[0;34m:\u001b[0m\u001b[0;34m\u001b[0m\u001b[0;34m\u001b[0m\u001b[0m\n\u001b[1;32m    149\u001b[0m         \u001b[0;32massert\u001b[0m \u001b[0mlen\u001b[0m\u001b[0;34m(\u001b[0m\u001b[0mNp\u001b[0m\u001b[0;34m)\u001b[0m \u001b[0;34m==\u001b[0m \u001b[0mlen\u001b[0m\u001b[0;34m(\u001b[0m\u001b[0mlam\u001b[0m\u001b[0;34m)\u001b[0m\u001b[0;34m,\u001b[0m \u001b[0;34m'Np must either float or size len(lam)'\u001b[0m\u001b[0;34m\u001b[0m\u001b[0;34m\u001b[0m\u001b[0m\n\u001b[0;32m--> 150\u001b[0;31m     \u001b[0mqext\u001b[0m\u001b[0;34m,\u001b[0m \u001b[0mqsca\u001b[0m\u001b[0;34m,\u001b[0m \u001b[0mgcos\u001b[0m \u001b[0;34m=\u001b[0m \u001b[0mmie\u001b[0m\u001b[0;34m.\u001b[0m\u001b[0mscatter_efficiency\u001b[0m\u001b[0;34m(\u001b[0m\u001b[0mlam\u001b[0m\u001b[0;34m,\u001b[0m\u001b[0mNh\u001b[0m\u001b[0;34m,\u001b[0m\u001b[0mNp\u001b[0m\u001b[0;34m,\u001b[0m\u001b[0mD\u001b[0m\u001b[0;34m)\u001b[0m\u001b[0;34m\u001b[0m\u001b[0;34m\u001b[0m\u001b[0m\n\u001b[0m\u001b[1;32m    151\u001b[0m \u001b[0;34m\u001b[0m\u001b[0m\n\u001b[1;32m    152\u001b[0m     \u001b[0;31m# convertimos los resultados a secciones transversales\u001b[0m\u001b[0;34m\u001b[0m\u001b[0;34m\u001b[0m\u001b[0m\n",
      "\u001b[0;32m/mnt/d/OneDrive - Universidad Adolfo Ibanez/ComputerCodes/Python/custom_packages/empylib/miescattering/miescattering.py\u001b[0m in \u001b[0;36mscatter_efficiency\u001b[0;34m(lam, N_host, Np_shells, D)\u001b[0m\n\u001b[1;32m    333\u001b[0m         \u001b[0;32massert\u001b[0m \u001b[0mlen\u001b[0m\u001b[0;34m(\u001b[0m\u001b[0mN_host\u001b[0m\u001b[0;34m)\u001b[0m \u001b[0;34m==\u001b[0m \u001b[0mlen\u001b[0m\u001b[0;34m(\u001b[0m\u001b[0mlam\u001b[0m\u001b[0;34m)\u001b[0m\u001b[0;34m,\u001b[0m \u001b[0;34m'N_host must either float or size len(lam)'\u001b[0m\u001b[0;34m\u001b[0m\u001b[0;34m\u001b[0m\u001b[0m\n\u001b[1;32m    334\u001b[0m \u001b[0;34m\u001b[0m\u001b[0m\n\u001b[0;32m--> 335\u001b[0;31m     \u001b[0mm\u001b[0m \u001b[0;34m=\u001b[0m \u001b[0mNp\u001b[0m\u001b[0;34m/\u001b[0m\u001b[0mNh\u001b[0m                       \u001b[0;31m# sphere layers\u001b[0m\u001b[0;34m\u001b[0m\u001b[0;34m\u001b[0m\u001b[0m\n\u001b[0m\u001b[1;32m    336\u001b[0m     \u001b[0mR\u001b[0m \u001b[0;34m=\u001b[0m \u001b[0mD\u001b[0m\u001b[0;34m/\u001b[0m\u001b[0;36m2\u001b[0m                         \u001b[0;31m# particle's inner radius\u001b[0m\u001b[0;34m\u001b[0m\u001b[0;34m\u001b[0m\u001b[0m\n\u001b[1;32m    337\u001b[0m     \u001b[0mkh\u001b[0m \u001b[0;34m=\u001b[0m \u001b[0;36m2\u001b[0m\u001b[0;34m*\u001b[0m\u001b[0mpi\u001b[0m\u001b[0;34m*\u001b[0m\u001b[0mNh\u001b[0m\u001b[0;34m/\u001b[0m\u001b[0mlam\u001b[0m                \u001b[0;31m# wavector in the host\u001b[0m\u001b[0;34m\u001b[0m\u001b[0;34m\u001b[0m\u001b[0m\n",
      "\u001b[0;31mUnboundLocalError\u001b[0m: local variable 'Nh' referenced before assignment"
     ]
    }
   ],
   "source": [
    "%%capture showplot\n",
    "# import empylib.nklib as nk\n",
    "import numpy as np\n",
    "import empylib.rad_transfer as rt\n",
    "\n",
    "# Solo modificar estos parámetros\n",
    "#---------------------------------------------------------------\n",
    "lam3 = np.linspace(0.3,1.0,100)   # espectro de longitudes de onda\n",
    "tfilm = 10E3                      # espesor en micrones\n",
    "fv = 0.6                          # fracción de volúmen de los poros\n",
    "D = 2.0                           # diámetro de los poros (micrones)\n",
    "Nh2o = nk.H2O(lam3)               # Índice de refracción del agua\n",
    "Noil = 1.5                        # índice de refracción partículas de aceite\n",
    "#---------------------------------------------------------------\n",
    "Rtot, Ttot = rt.ad_rad_transfer(lam3,tfilm,(1.0,Nh2o,1.0),fv,D,Noil)\n",
    "\n",
    "fig, ax = plt.subplots()\n",
    "fig.set_size_inches(7, 5)\n",
    "plt.rcParams['font.size'] = '16'\n",
    "ax.plot(lam3,Rtot,'-r',label='R')\n",
    "ax.plot(lam3,Ttot,'-b',label='T')\n",
    "ax.set_xlabel('Longitud de onda ($\\mu$m)')\n",
    "ax.set_ylabel('Reflectividad / Transmisividad')\n",
    "ax.set_title(r'Leche (fv = %.0f %%)' % (fv*100))\n",
    "ax.legend()\n",
    "ax.set_ylim(0,1)\n",
    "plt.show"
   ]
  },
  {
   "cell_type": "code",
   "execution_count": 12,
   "id": "9a1291f7",
   "metadata": {
    "cell_style": "split",
    "slideshow": {
     "slide_type": "fragment"
    }
   },
   "outputs": [],
   "source": [
    "showplot()"
   ]
  },
  {
   "cell_type": "markdown",
   "id": "6c035f58",
   "metadata": {
    "slideshow": {
     "slide_type": "slide"
    }
   },
   "source": [
    "Como vemos la alta concentración de partículas hace que la refletividad y transmisividad se vuelvan casi uniformes para todas las longitudes de onda. El espectro, así, toma un color blanco frente a una fuente de luz blanca."
   ]
  },
  {
   "cell_type": "markdown",
   "id": "17c1dc23",
   "metadata": {
    "slideshow": {
     "slide_type": "slide"
    }
   },
   "source": [
    "## Referencias\n",
    "- Chen G. **Chapter 5 - Energy Transfer by Waves** in *Nanoscale energy transport and conversion*, 1st Ed, Oxford University Press, 2005"
   ]
  }
 ],
 "metadata": {
  "celltoolbar": "Slideshow",
  "kernelspec": {
   "display_name": "Python 3 (ipykernel)",
   "language": "python",
   "name": "python3"
  },
  "language_info": {
   "codemirror_mode": {
    "name": "ipython",
    "version": 3
   },
   "file_extension": ".py",
   "mimetype": "text/x-python",
   "name": "python",
   "nbconvert_exporter": "python",
   "pygments_lexer": "ipython3",
   "version": "3.9.13"
  },
  "latex_envs": {
   "LaTeX_envs_menu_present": false,
   "autoclose": false,
   "autocomplete": false,
   "bibliofile": "biblio.bib",
   "cite_by": "apalike",
   "current_citInitial": 1,
   "eqLabelWithNumbers": true,
   "eqNumInitial": 2,
   "hotkeys": {
    "equation": "Ctrl-E",
    "itemize": "Ctrl-I"
   },
   "labels_anchors": false,
   "latex_user_defs": false,
   "report_style_numbering": false,
   "user_envs_cfg": true
  },
  "toc": {
   "base_numbering": 1,
   "nav_menu": {},
   "number_sections": false,
   "sideBar": true,
   "skip_h1_title": true,
   "title_cell": "Tabla de contenidos",
   "title_sidebar": "Contenidos",
   "toc_cell": false,
   "toc_position": {
    "height": "calc(100% - 180px)",
    "left": "10px",
    "top": "150px",
    "width": "307.2px"
   },
   "toc_section_display": true,
   "toc_window_display": false
  },
  "varInspector": {
   "cols": {
    "lenName": 16,
    "lenType": 16,
    "lenVar": 40
   },
   "kernels_config": {
    "python": {
     "delete_cmd_postfix": "",
     "delete_cmd_prefix": "del ",
     "library": "var_list.py",
     "varRefreshCmd": "print(var_dic_list())"
    },
    "r": {
     "delete_cmd_postfix": ") ",
     "delete_cmd_prefix": "rm(",
     "library": "var_list.r",
     "varRefreshCmd": "cat(var_dic_list()) "
    }
   },
   "types_to_exclude": [
    "module",
    "function",
    "builtin_function_or_method",
    "instance",
    "_Feature"
   ],
   "window_display": false
  },
  "widgets": {
   "application/vnd.jupyter.widget-state+json": {
    "state": {
     "0443acbdd6d446f3bfa5253a45627ac2": {
      "model_module": "@jupyter-widgets/base",
      "model_module_version": "1.2.0",
      "model_name": "LayoutModel",
      "state": {
       "_model_module": "@jupyter-widgets/base",
       "_model_module_version": "1.2.0",
       "_model_name": "LayoutModel",
       "_view_count": null,
       "_view_module": "@jupyter-widgets/base",
       "_view_module_version": "1.2.0",
       "_view_name": "LayoutView",
       "align_content": null,
       "align_items": null,
       "align_self": null,
       "border": null,
       "bottom": null,
       "display": null,
       "flex": null,
       "flex_flow": null,
       "grid_area": null,
       "grid_auto_columns": null,
       "grid_auto_flow": null,
       "grid_auto_rows": null,
       "grid_column": null,
       "grid_gap": null,
       "grid_row": null,
       "grid_template_areas": null,
       "grid_template_columns": null,
       "grid_template_rows": null,
       "height": null,
       "justify_content": null,
       "justify_items": null,
       "left": null,
       "margin": null,
       "max_height": null,
       "max_width": null,
       "min_height": null,
       "min_width": null,
       "object_fit": null,
       "object_position": null,
       "order": null,
       "overflow": null,
       "overflow_x": null,
       "overflow_y": null,
       "padding": null,
       "right": null,
       "top": null,
       "visibility": null,
       "width": null
      }
     },
     "06bffdfe65bd4e48a389ea8b965dc5fd": {
      "model_module": "@jupyter-widgets/base",
      "model_module_version": "1.2.0",
      "model_name": "LayoutModel",
      "state": {
       "_model_module": "@jupyter-widgets/base",
       "_model_module_version": "1.2.0",
       "_model_name": "LayoutModel",
       "_view_count": null,
       "_view_module": "@jupyter-widgets/base",
       "_view_module_version": "1.2.0",
       "_view_name": "LayoutView",
       "align_content": null,
       "align_items": null,
       "align_self": null,
       "border": null,
       "bottom": null,
       "display": null,
       "flex": null,
       "flex_flow": null,
       "grid_area": null,
       "grid_auto_columns": null,
       "grid_auto_flow": null,
       "grid_auto_rows": null,
       "grid_column": null,
       "grid_gap": null,
       "grid_row": null,
       "grid_template_areas": null,
       "grid_template_columns": null,
       "grid_template_rows": null,
       "height": null,
       "justify_content": null,
       "justify_items": null,
       "left": null,
       "margin": null,
       "max_height": null,
       "max_width": null,
       "min_height": null,
       "min_width": null,
       "object_fit": null,
       "object_position": null,
       "order": null,
       "overflow": null,
       "overflow_x": null,
       "overflow_y": null,
       "padding": null,
       "right": null,
       "top": null,
       "visibility": null,
       "width": null
      }
     },
     "09fc50367bde4daba0782202c6b0fa8b": {
      "model_module": "@jupyter-widgets/base",
      "model_module_version": "1.2.0",
      "model_name": "LayoutModel",
      "state": {
       "_model_module": "@jupyter-widgets/base",
       "_model_module_version": "1.2.0",
       "_model_name": "LayoutModel",
       "_view_count": null,
       "_view_module": "@jupyter-widgets/base",
       "_view_module_version": "1.2.0",
       "_view_name": "LayoutView",
       "align_content": null,
       "align_items": null,
       "align_self": null,
       "border": null,
       "bottom": null,
       "display": null,
       "flex": null,
       "flex_flow": null,
       "grid_area": null,
       "grid_auto_columns": null,
       "grid_auto_flow": null,
       "grid_auto_rows": null,
       "grid_column": null,
       "grid_gap": null,
       "grid_row": null,
       "grid_template_areas": null,
       "grid_template_columns": null,
       "grid_template_rows": null,
       "height": null,
       "justify_content": null,
       "justify_items": null,
       "left": null,
       "margin": null,
       "max_height": null,
       "max_width": null,
       "min_height": null,
       "min_width": null,
       "object_fit": null,
       "object_position": null,
       "order": null,
       "overflow": null,
       "overflow_x": null,
       "overflow_y": null,
       "padding": null,
       "right": null,
       "top": null,
       "visibility": null,
       "width": null
      }
     },
     "0a24f08368f348d9b6302dc74937726a": {
      "model_module": "@jupyter-widgets/controls",
      "model_module_version": "1.5.0",
      "model_name": "VBoxModel",
      "state": {
       "_dom_classes": [
        "widget-interact"
       ],
       "_model_module": "@jupyter-widgets/controls",
       "_model_module_version": "1.5.0",
       "_model_name": "VBoxModel",
       "_view_count": null,
       "_view_module": "@jupyter-widgets/controls",
       "_view_module_version": "1.5.0",
       "_view_name": "VBoxView",
       "box_style": "",
       "children": [
        "IPY_MODEL_9d7411a526674021837b43eae0ea0bce",
        "IPY_MODEL_4531cae5106049839fee68fd36da0ffb"
       ],
       "layout": "IPY_MODEL_12c7cd1821f34a99bb8f2d7bdf0db905"
      }
     },
     "1143d8f4c861422e978d09aa004a7268": {
      "model_module": "@jupyter-widgets/base",
      "model_module_version": "1.2.0",
      "model_name": "LayoutModel",
      "state": {
       "_model_module": "@jupyter-widgets/base",
       "_model_module_version": "1.2.0",
       "_model_name": "LayoutModel",
       "_view_count": null,
       "_view_module": "@jupyter-widgets/base",
       "_view_module_version": "1.2.0",
       "_view_name": "LayoutView",
       "align_content": null,
       "align_items": null,
       "align_self": null,
       "border": null,
       "bottom": null,
       "display": null,
       "flex": null,
       "flex_flow": null,
       "grid_area": null,
       "grid_auto_columns": null,
       "grid_auto_flow": null,
       "grid_auto_rows": null,
       "grid_column": null,
       "grid_gap": null,
       "grid_row": null,
       "grid_template_areas": null,
       "grid_template_columns": null,
       "grid_template_rows": null,
       "height": null,
       "justify_content": null,
       "justify_items": null,
       "left": null,
       "margin": null,
       "max_height": null,
       "max_width": null,
       "min_height": null,
       "min_width": null,
       "object_fit": null,
       "object_position": null,
       "order": null,
       "overflow": null,
       "overflow_x": null,
       "overflow_y": null,
       "padding": null,
       "right": null,
       "top": null,
       "visibility": null,
       "width": null
      }
     },
     "12c7cd1821f34a99bb8f2d7bdf0db905": {
      "model_module": "@jupyter-widgets/base",
      "model_module_version": "1.2.0",
      "model_name": "LayoutModel",
      "state": {
       "_model_module": "@jupyter-widgets/base",
       "_model_module_version": "1.2.0",
       "_model_name": "LayoutModel",
       "_view_count": null,
       "_view_module": "@jupyter-widgets/base",
       "_view_module_version": "1.2.0",
       "_view_name": "LayoutView",
       "align_content": null,
       "align_items": null,
       "align_self": null,
       "border": null,
       "bottom": null,
       "display": null,
       "flex": null,
       "flex_flow": null,
       "grid_area": null,
       "grid_auto_columns": null,
       "grid_auto_flow": null,
       "grid_auto_rows": null,
       "grid_column": null,
       "grid_gap": null,
       "grid_row": null,
       "grid_template_areas": null,
       "grid_template_columns": null,
       "grid_template_rows": null,
       "height": null,
       "justify_content": null,
       "justify_items": null,
       "left": null,
       "margin": null,
       "max_height": null,
       "max_width": null,
       "min_height": null,
       "min_width": null,
       "object_fit": null,
       "object_position": null,
       "order": null,
       "overflow": null,
       "overflow_x": null,
       "overflow_y": null,
       "padding": null,
       "right": null,
       "top": null,
       "visibility": null,
       "width": null
      }
     },
     "133c4e826ebe49a48e5c38f02cdf85af": {
      "model_module": "@jupyter-widgets/base",
      "model_module_version": "1.2.0",
      "model_name": "LayoutModel",
      "state": {
       "_model_module": "@jupyter-widgets/base",
       "_model_module_version": "1.2.0",
       "_model_name": "LayoutModel",
       "_view_count": null,
       "_view_module": "@jupyter-widgets/base",
       "_view_module_version": "1.2.0",
       "_view_name": "LayoutView",
       "align_content": null,
       "align_items": null,
       "align_self": null,
       "border": null,
       "bottom": null,
       "display": null,
       "flex": null,
       "flex_flow": null,
       "grid_area": null,
       "grid_auto_columns": null,
       "grid_auto_flow": null,
       "grid_auto_rows": null,
       "grid_column": null,
       "grid_gap": null,
       "grid_row": null,
       "grid_template_areas": null,
       "grid_template_columns": null,
       "grid_template_rows": null,
       "height": null,
       "justify_content": null,
       "justify_items": null,
       "left": null,
       "margin": null,
       "max_height": null,
       "max_width": null,
       "min_height": null,
       "min_width": null,
       "object_fit": null,
       "object_position": null,
       "order": null,
       "overflow": null,
       "overflow_x": null,
       "overflow_y": null,
       "padding": null,
       "right": null,
       "top": null,
       "visibility": null,
       "width": null
      }
     },
     "152f41d813124bb49d5653fdbffbc513": {
      "model_module": "@jupyter-widgets/base",
      "model_module_version": "1.2.0",
      "model_name": "LayoutModel",
      "state": {
       "_model_module": "@jupyter-widgets/base",
       "_model_module_version": "1.2.0",
       "_model_name": "LayoutModel",
       "_view_count": null,
       "_view_module": "@jupyter-widgets/base",
       "_view_module_version": "1.2.0",
       "_view_name": "LayoutView",
       "align_content": null,
       "align_items": null,
       "align_self": null,
       "border": null,
       "bottom": null,
       "display": null,
       "flex": null,
       "flex_flow": null,
       "grid_area": null,
       "grid_auto_columns": null,
       "grid_auto_flow": null,
       "grid_auto_rows": null,
       "grid_column": null,
       "grid_gap": null,
       "grid_row": null,
       "grid_template_areas": null,
       "grid_template_columns": null,
       "grid_template_rows": null,
       "height": null,
       "justify_content": null,
       "justify_items": null,
       "left": null,
       "margin": null,
       "max_height": null,
       "max_width": null,
       "min_height": null,
       "min_width": null,
       "object_fit": null,
       "object_position": null,
       "order": null,
       "overflow": null,
       "overflow_x": null,
       "overflow_y": null,
       "padding": null,
       "right": null,
       "top": null,
       "visibility": null,
       "width": null
      }
     },
     "16630ce9065347a389c30f58cf795a16": {
      "model_module": "@jupyter-widgets/base",
      "model_module_version": "1.2.0",
      "model_name": "LayoutModel",
      "state": {
       "_model_module": "@jupyter-widgets/base",
       "_model_module_version": "1.2.0",
       "_model_name": "LayoutModel",
       "_view_count": null,
       "_view_module": "@jupyter-widgets/base",
       "_view_module_version": "1.2.0",
       "_view_name": "LayoutView",
       "align_content": null,
       "align_items": null,
       "align_self": null,
       "border": null,
       "bottom": null,
       "display": null,
       "flex": null,
       "flex_flow": null,
       "grid_area": null,
       "grid_auto_columns": null,
       "grid_auto_flow": null,
       "grid_auto_rows": null,
       "grid_column": null,
       "grid_gap": null,
       "grid_row": null,
       "grid_template_areas": null,
       "grid_template_columns": null,
       "grid_template_rows": null,
       "height": null,
       "justify_content": null,
       "justify_items": null,
       "left": null,
       "margin": null,
       "max_height": null,
       "max_width": null,
       "min_height": null,
       "min_width": null,
       "object_fit": null,
       "object_position": null,
       "order": null,
       "overflow": null,
       "overflow_x": null,
       "overflow_y": null,
       "padding": null,
       "right": null,
       "top": null,
       "visibility": null,
       "width": null
      }
     },
     "18212f50f73d40b4a40dfc1252002b86": {
      "model_module": "@jupyter-widgets/controls",
      "model_module_version": "1.5.0",
      "model_name": "VBoxModel",
      "state": {
       "_dom_classes": [
        "widget-interact"
       ],
       "_model_module": "@jupyter-widgets/controls",
       "_model_module_version": "1.5.0",
       "_model_name": "VBoxModel",
       "_view_count": null,
       "_view_module": "@jupyter-widgets/controls",
       "_view_module_version": "1.5.0",
       "_view_name": "VBoxView",
       "box_style": "",
       "children": [
        "IPY_MODEL_a8091d1dcd6c466ab3e93e9da525f162",
        "IPY_MODEL_3ccdb497e69f477eaee4f8498043d234",
        "IPY_MODEL_a1406a3362cf4bc38b900670a3cce279",
        "IPY_MODEL_9b8f995f2af24fda8181e258588fe786"
       ],
       "layout": "IPY_MODEL_06bffdfe65bd4e48a389ea8b965dc5fd"
      }
     },
     "23858fdc22964edda6b73d06c191d097": {
      "model_module": "@jupyter-widgets/controls",
      "model_module_version": "1.5.0",
      "model_name": "SliderStyleModel",
      "state": {
       "_model_module": "@jupyter-widgets/controls",
       "_model_module_version": "1.5.0",
       "_model_name": "SliderStyleModel",
       "_view_count": null,
       "_view_module": "@jupyter-widgets/base",
       "_view_module_version": "1.2.0",
       "_view_name": "StyleView",
       "description_width": "",
       "handle_color": null
      }
     },
     "3157b9de97f246bba12acc5653722179": {
      "model_module": "@jupyter-widgets/controls",
      "model_module_version": "1.5.0",
      "model_name": "SliderStyleModel",
      "state": {
       "_model_module": "@jupyter-widgets/controls",
       "_model_module_version": "1.5.0",
       "_model_name": "SliderStyleModel",
       "_view_count": null,
       "_view_module": "@jupyter-widgets/base",
       "_view_module_version": "1.2.0",
       "_view_name": "StyleView",
       "description_width": "",
       "handle_color": null
      }
     },
     "331b1e6218104d17aa3add457ccad7ec": {
      "model_module": "@jupyter-widgets/controls",
      "model_module_version": "1.5.0",
      "model_name": "SliderStyleModel",
      "state": {
       "_model_module": "@jupyter-widgets/controls",
       "_model_module_version": "1.5.0",
       "_model_name": "SliderStyleModel",
       "_view_count": null,
       "_view_module": "@jupyter-widgets/base",
       "_view_module_version": "1.2.0",
       "_view_name": "StyleView",
       "description_width": "",
       "handle_color": null
      }
     },
     "3b61b23700b44d1f8793bac2f166c006": {
      "model_module": "@jupyter-widgets/base",
      "model_module_version": "1.2.0",
      "model_name": "LayoutModel",
      "state": {
       "_model_module": "@jupyter-widgets/base",
       "_model_module_version": "1.2.0",
       "_model_name": "LayoutModel",
       "_view_count": null,
       "_view_module": "@jupyter-widgets/base",
       "_view_module_version": "1.2.0",
       "_view_name": "LayoutView",
       "align_content": null,
       "align_items": null,
       "align_self": null,
       "border": null,
       "bottom": null,
       "display": null,
       "flex": null,
       "flex_flow": null,
       "grid_area": null,
       "grid_auto_columns": null,
       "grid_auto_flow": null,
       "grid_auto_rows": null,
       "grid_column": null,
       "grid_gap": null,
       "grid_row": null,
       "grid_template_areas": null,
       "grid_template_columns": null,
       "grid_template_rows": null,
       "height": null,
       "justify_content": null,
       "justify_items": null,
       "left": null,
       "margin": null,
       "max_height": null,
       "max_width": null,
       "min_height": null,
       "min_width": null,
       "object_fit": null,
       "object_position": null,
       "order": null,
       "overflow": null,
       "overflow_x": null,
       "overflow_y": null,
       "padding": null,
       "right": null,
       "top": null,
       "visibility": null,
       "width": null
      }
     },
     "3ccdb497e69f477eaee4f8498043d234": {
      "model_module": "@jupyter-widgets/controls",
      "model_module_version": "1.5.0",
      "model_name": "FloatSliderModel",
      "state": {
       "_dom_classes": [],
       "_model_module": "@jupyter-widgets/controls",
       "_model_module_version": "1.5.0",
       "_model_name": "FloatSliderModel",
       "_view_count": null,
       "_view_module": "@jupyter-widgets/controls",
       "_view_module_version": "1.5.0",
       "_view_name": "FloatSliderView",
       "continuous_update": true,
       "description": "t",
       "description_tooltip": null,
       "disabled": false,
       "layout": "IPY_MODEL_46a02c34df6f44b0b34ed7152def8bd6",
       "max": 10.0,
       "min": -10.0,
       "orientation": "horizontal",
       "readout": true,
       "readout_format": ".2f",
       "step": 0.1,
       "style": "IPY_MODEL_3157b9de97f246bba12acc5653722179",
       "value": 0.0
      }
     },
     "44e9d3cbb5cb426cbf856525bfb181b4": {
      "model_module": "@jupyter-widgets/base",
      "model_module_version": "1.2.0",
      "model_name": "LayoutModel",
      "state": {
       "_model_module": "@jupyter-widgets/base",
       "_model_module_version": "1.2.0",
       "_model_name": "LayoutModel",
       "_view_count": null,
       "_view_module": "@jupyter-widgets/base",
       "_view_module_version": "1.2.0",
       "_view_name": "LayoutView",
       "align_content": null,
       "align_items": null,
       "align_self": null,
       "border": null,
       "bottom": null,
       "display": null,
       "flex": null,
       "flex_flow": null,
       "grid_area": null,
       "grid_auto_columns": null,
       "grid_auto_flow": null,
       "grid_auto_rows": null,
       "grid_column": null,
       "grid_gap": null,
       "grid_row": null,
       "grid_template_areas": null,
       "grid_template_columns": null,
       "grid_template_rows": null,
       "height": null,
       "justify_content": null,
       "justify_items": null,
       "left": null,
       "margin": null,
       "max_height": null,
       "max_width": null,
       "min_height": null,
       "min_width": null,
       "object_fit": null,
       "object_position": null,
       "order": null,
       "overflow": null,
       "overflow_x": null,
       "overflow_y": null,
       "padding": null,
       "right": null,
       "top": null,
       "visibility": null,
       "width": null
      }
     },
     "4531cae5106049839fee68fd36da0ffb": {
      "model_module": "@jupyter-widgets/output",
      "model_module_version": "1.0.0",
      "model_name": "OutputModel",
      "state": {
       "_dom_classes": [],
       "_model_module": "@jupyter-widgets/output",
       "_model_module_version": "1.0.0",
       "_model_name": "OutputModel",
       "_view_count": null,
       "_view_module": "@jupyter-widgets/output",
       "_view_module_version": "1.0.0",
       "_view_name": "OutputView",
       "layout": "IPY_MODEL_152f41d813124bb49d5653fdbffbc513",
       "msg_id": "",
       "outputs": [
        {
         "ename": "UnboundLocalError",
         "evalue": "local variable 'Nh' referenced before assignment",
         "output_type": "error",
         "traceback": [
          "\u001b[0;31m---------------------------------------------------------------------------\u001b[0m",
          "\u001b[0;31mUnboundLocalError\u001b[0m                         Traceback (most recent call last)",
          "\u001b[0;32m~/programs/miniconda3/lib/python3.9/site-packages/ipywidgets/widgets/interaction.py\u001b[0m in \u001b[0;36mupdate\u001b[0;34m(self, *args)\u001b[0m\n\u001b[1;32m    255\u001b[0m                     \u001b[0mvalue\u001b[0m \u001b[0;34m=\u001b[0m \u001b[0mwidget\u001b[0m\u001b[0;34m.\u001b[0m\u001b[0mget_interact_value\u001b[0m\u001b[0;34m(\u001b[0m\u001b[0;34m)\u001b[0m\u001b[0;34m\u001b[0m\u001b[0;34m\u001b[0m\u001b[0m\n\u001b[1;32m    256\u001b[0m                     \u001b[0mself\u001b[0m\u001b[0;34m.\u001b[0m\u001b[0mkwargs\u001b[0m\u001b[0;34m[\u001b[0m\u001b[0mwidget\u001b[0m\u001b[0;34m.\u001b[0m\u001b[0m_kwarg\u001b[0m\u001b[0;34m]\u001b[0m \u001b[0;34m=\u001b[0m \u001b[0mvalue\u001b[0m\u001b[0;34m\u001b[0m\u001b[0;34m\u001b[0m\u001b[0m\n\u001b[0;32m--> 257\u001b[0;31m                 \u001b[0mself\u001b[0m\u001b[0;34m.\u001b[0m\u001b[0mresult\u001b[0m \u001b[0;34m=\u001b[0m \u001b[0mself\u001b[0m\u001b[0;34m.\u001b[0m\u001b[0mf\u001b[0m\u001b[0;34m(\u001b[0m\u001b[0;34m**\u001b[0m\u001b[0mself\u001b[0m\u001b[0;34m.\u001b[0m\u001b[0mkwargs\u001b[0m\u001b[0;34m)\u001b[0m\u001b[0;34m\u001b[0m\u001b[0;34m\u001b[0m\u001b[0m\n\u001b[0m\u001b[1;32m    258\u001b[0m                 \u001b[0mshow_inline_matplotlib_plots\u001b[0m\u001b[0;34m(\u001b[0m\u001b[0;34m)\u001b[0m\u001b[0;34m\u001b[0m\u001b[0;34m\u001b[0m\u001b[0m\n\u001b[1;32m    259\u001b[0m                 \u001b[0;32mif\u001b[0m \u001b[0mself\u001b[0m\u001b[0;34m.\u001b[0m\u001b[0mauto_display\u001b[0m \u001b[0;32mand\u001b[0m \u001b[0mself\u001b[0m\u001b[0;34m.\u001b[0m\u001b[0mresult\u001b[0m \u001b[0;32mis\u001b[0m \u001b[0;32mnot\u001b[0m \u001b[0;32mNone\u001b[0m\u001b[0;34m:\u001b[0m\u001b[0;34m\u001b[0m\u001b[0;34m\u001b[0m\u001b[0m\n",
          "\u001b[0;32m/tmp/ipykernel_255/2451713426.py\u001b[0m in \u001b[0;36mg\u001b[0;34m(theta_sun)\u001b[0m\n\u001b[1;32m      3\u001b[0m \u001b[0;34m@\u001b[0m\u001b[0minteract\u001b[0m\u001b[0;34m(\u001b[0m\u001b[0mtheta_sun\u001b[0m\u001b[0;34m=\u001b[0m\u001b[0;34m(\u001b[0m\u001b[0;36m0\u001b[0m\u001b[0;34m,\u001b[0m\u001b[0;36m89.99\u001b[0m\u001b[0;34m,\u001b[0m\u001b[0;36m0.1\u001b[0m\u001b[0;34m)\u001b[0m\u001b[0;34m)\u001b[0m\u001b[0;34m\u001b[0m\u001b[0;34m\u001b[0m\u001b[0m\n\u001b[1;32m      4\u001b[0m \u001b[0;32mdef\u001b[0m \u001b[0mg\u001b[0m\u001b[0;34m(\u001b[0m\u001b[0mtheta_sun\u001b[0m\u001b[0;34m=\u001b[0m\u001b[0;36m0\u001b[0m\u001b[0;34m)\u001b[0m\u001b[0;34m:\u001b[0m\u001b[0;34m\u001b[0m\u001b[0;34m\u001b[0m\u001b[0m\n\u001b[0;32m----> 5\u001b[0;31m     \u001b[0;32mreturn\u001b[0m \u001b[0mplot_atmosphere\u001b[0m\u001b[0;34m(\u001b[0m\u001b[0mtheta_sun\u001b[0m\u001b[0;34m)\u001b[0m\u001b[0;34m\u001b[0m\u001b[0;34m\u001b[0m\u001b[0m\n\u001b[0m",
          "\u001b[0;32m/tmp/ipykernel_255/3338054682.py\u001b[0m in \u001b[0;36mplot_atmosphere\u001b[0;34m(theta_sun)\u001b[0m\n\u001b[1;32m     23\u001b[0m     \u001b[0;31m# transmitancia total y especular\u001b[0m\u001b[0;34m\u001b[0m\u001b[0;34m\u001b[0m\u001b[0m\n\u001b[1;32m     24\u001b[0m     \u001b[0mtheta\u001b[0m \u001b[0;34m=\u001b[0m \u001b[0mnp\u001b[0m\u001b[0;34m.\u001b[0m\u001b[0mradians\u001b[0m\u001b[0;34m(\u001b[0m\u001b[0mtheta_sun\u001b[0m\u001b[0;34m)\u001b[0m    \u001b[0;31m# posición del sol en radianes\u001b[0m\u001b[0;34m\u001b[0m\u001b[0;34m\u001b[0m\u001b[0m\n\u001b[0;32m---> 25\u001b[0;31m     \u001b[0mTtot\u001b[0m\u001b[0;34m,\u001b[0m \u001b[0mTspec\u001b[0m \u001b[0;34m=\u001b[0m \u001b[0mrt\u001b[0m\u001b[0;34m.\u001b[0m\u001b[0mT_beer_lambert\u001b[0m\u001b[0;34m(\u001b[0m\u001b[0mlam1\u001b[0m\u001b[0;34m,\u001b[0m\u001b[0mtheta\u001b[0m\u001b[0;34m,\u001b[0m\u001b[0mtatm\u001b[0m\u001b[0;34m,\u001b[0m\u001b[0mN\u001b[0m\u001b[0;34m,\u001b[0m\u001b[0mfvp\u001b[0m\u001b[0;34m,\u001b[0m\u001b[0mDp\u001b[0m\u001b[0;34m,\u001b[0m\u001b[0mNp\u001b[0m\u001b[0;34m)\u001b[0m\u001b[0;34m\u001b[0m\u001b[0;34m\u001b[0m\u001b[0m\n\u001b[0m\u001b[1;32m     26\u001b[0m \u001b[0;34m\u001b[0m\u001b[0m\n\u001b[1;32m     27\u001b[0m     \u001b[0mTdif\u001b[0m \u001b[0;34m=\u001b[0m \u001b[0mTtot\u001b[0m \u001b[0;34m-\u001b[0m \u001b[0mTspec\u001b[0m              \u001b[0;31m# transmitancia difusa\u001b[0m\u001b[0;34m\u001b[0m\u001b[0;34m\u001b[0m\u001b[0m\n",
          "\u001b[0;32m/mnt/d/OneDrive - Universidad Adolfo Ibanez/ComputerCodes/Python/custom_packages/empylib/rad_transfer/rad_transfer.py\u001b[0m in \u001b[0;36mT_beer_lambert\u001b[0;34m(lam, theta, tfilm, Nlayer, fv, D, Np)\u001b[0m\n\u001b[1;32m     77\u001b[0m \u001b[0;34m\u001b[0m\u001b[0m\n\u001b[1;32m     78\u001b[0m     \u001b[0;31m# Get extinction and scattering efficiency of the sphere\u001b[0m\u001b[0;34m\u001b[0m\u001b[0;34m\u001b[0m\u001b[0m\n\u001b[0;32m---> 79\u001b[0;31m     \u001b[0mqext\u001b[0m\u001b[0;34m,\u001b[0m \u001b[0mqsca\u001b[0m \u001b[0;34m=\u001b[0m \u001b[0mmie\u001b[0m\u001b[0;34m.\u001b[0m\u001b[0mscatter_efficiency\u001b[0m\u001b[0;34m(\u001b[0m\u001b[0mlam\u001b[0m\u001b[0;34m,\u001b[0m \u001b[0mN\u001b[0m\u001b[0;34m[\u001b[0m\u001b[0;36m1\u001b[0m\u001b[0;34m]\u001b[0m\u001b[0;34m,\u001b[0m \u001b[0mNp\u001b[0m\u001b[0;34m,\u001b[0m \u001b[0mD\u001b[0m\u001b[0;34m)\u001b[0m\u001b[0;34m[\u001b[0m\u001b[0;34m:\u001b[0m\u001b[0;36m2\u001b[0m\u001b[0;34m]\u001b[0m\u001b[0;34m\u001b[0m\u001b[0;34m\u001b[0m\u001b[0m\n\u001b[0m\u001b[1;32m     80\u001b[0m     \u001b[0mqabs\u001b[0m \u001b[0;34m=\u001b[0m \u001b[0mqext\u001b[0m \u001b[0;34m-\u001b[0m \u001b[0mqsca\u001b[0m \u001b[0;31m# absorption efficiency\u001b[0m\u001b[0;34m\u001b[0m\u001b[0;34m\u001b[0m\u001b[0m\n\u001b[1;32m     81\u001b[0m \u001b[0;34m\u001b[0m\u001b[0m\n",
          "\u001b[0;32m/mnt/d/OneDrive - Universidad Adolfo Ibanez/ComputerCodes/Python/custom_packages/empylib/miescattering/miescattering.py\u001b[0m in \u001b[0;36mscatter_efficiency\u001b[0;34m(lam, N_host, Np_shells, D)\u001b[0m\n\u001b[1;32m    333\u001b[0m         \u001b[0;32massert\u001b[0m \u001b[0mlen\u001b[0m\u001b[0;34m(\u001b[0m\u001b[0mN_host\u001b[0m\u001b[0;34m)\u001b[0m \u001b[0;34m==\u001b[0m \u001b[0mlen\u001b[0m\u001b[0;34m(\u001b[0m\u001b[0mlam\u001b[0m\u001b[0;34m)\u001b[0m\u001b[0;34m,\u001b[0m \u001b[0;34m'N_host must either float or size len(lam)'\u001b[0m\u001b[0;34m\u001b[0m\u001b[0;34m\u001b[0m\u001b[0m\n\u001b[1;32m    334\u001b[0m \u001b[0;34m\u001b[0m\u001b[0m\n\u001b[0;32m--> 335\u001b[0;31m     \u001b[0mm\u001b[0m \u001b[0;34m=\u001b[0m \u001b[0mNp\u001b[0m\u001b[0;34m/\u001b[0m\u001b[0mNh\u001b[0m                       \u001b[0;31m# sphere layers\u001b[0m\u001b[0;34m\u001b[0m\u001b[0;34m\u001b[0m\u001b[0m\n\u001b[0m\u001b[1;32m    336\u001b[0m     \u001b[0mR\u001b[0m \u001b[0;34m=\u001b[0m \u001b[0mD\u001b[0m\u001b[0;34m/\u001b[0m\u001b[0;36m2\u001b[0m                         \u001b[0;31m# particle's inner radius\u001b[0m\u001b[0;34m\u001b[0m\u001b[0;34m\u001b[0m\u001b[0m\n\u001b[1;32m    337\u001b[0m     \u001b[0mkh\u001b[0m \u001b[0;34m=\u001b[0m \u001b[0;36m2\u001b[0m\u001b[0;34m*\u001b[0m\u001b[0mpi\u001b[0m\u001b[0;34m*\u001b[0m\u001b[0mNh\u001b[0m\u001b[0;34m/\u001b[0m\u001b[0mlam\u001b[0m                \u001b[0;31m# wavector in the host\u001b[0m\u001b[0;34m\u001b[0m\u001b[0;34m\u001b[0m\u001b[0m\n",
          "\u001b[0;31mUnboundLocalError\u001b[0m: local variable 'Nh' referenced before assignment"
         ]
        }
       ]
      }
     },
     "46a02c34df6f44b0b34ed7152def8bd6": {
      "model_module": "@jupyter-widgets/base",
      "model_module_version": "1.2.0",
      "model_name": "LayoutModel",
      "state": {
       "_model_module": "@jupyter-widgets/base",
       "_model_module_version": "1.2.0",
       "_model_name": "LayoutModel",
       "_view_count": null,
       "_view_module": "@jupyter-widgets/base",
       "_view_module_version": "1.2.0",
       "_view_name": "LayoutView",
       "align_content": null,
       "align_items": null,
       "align_self": null,
       "border": null,
       "bottom": null,
       "display": null,
       "flex": null,
       "flex_flow": null,
       "grid_area": null,
       "grid_auto_columns": null,
       "grid_auto_flow": null,
       "grid_auto_rows": null,
       "grid_column": null,
       "grid_gap": null,
       "grid_row": null,
       "grid_template_areas": null,
       "grid_template_columns": null,
       "grid_template_rows": null,
       "height": null,
       "justify_content": null,
       "justify_items": null,
       "left": null,
       "margin": null,
       "max_height": null,
       "max_width": null,
       "min_height": null,
       "min_width": null,
       "object_fit": null,
       "object_position": null,
       "order": null,
       "overflow": null,
       "overflow_x": null,
       "overflow_y": null,
       "padding": null,
       "right": null,
       "top": null,
       "visibility": null,
       "width": null
      }
     },
     "4a5d2cd013714a2799b90fd17630b731": {
      "model_module": "@jupyter-widgets/output",
      "model_module_version": "1.0.0",
      "model_name": "OutputModel",
      "state": {
       "_dom_classes": [],
       "_model_module": "@jupyter-widgets/output",
       "_model_module_version": "1.0.0",
       "_model_name": "OutputModel",
       "_view_count": null,
       "_view_module": "@jupyter-widgets/output",
       "_view_module_version": "1.0.0",
       "_view_name": "OutputView",
       "layout": "IPY_MODEL_8ad85a8694744ee4b752c9843045534b",
       "msg_id": "",
       "outputs": [
        {
         "data": {
          "image/png": "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\n",
          "text/plain": "<Figure size 648x360 with 1 Axes>"
         },
         "metadata": {
          "needs_background": "light"
         },
         "output_type": "display_data"
        }
       ]
      }
     },
     "61929c6279ac481e8225912e12fbcaf0": {
      "model_module": "@jupyter-widgets/controls",
      "model_module_version": "1.5.0",
      "model_name": "SliderStyleModel",
      "state": {
       "_model_module": "@jupyter-widgets/controls",
       "_model_module_version": "1.5.0",
       "_model_name": "SliderStyleModel",
       "_view_count": null,
       "_view_module": "@jupyter-widgets/base",
       "_view_module_version": "1.2.0",
       "_view_name": "StyleView",
       "description_width": "",
       "handle_color": null
      }
     },
     "80af0f4864664158bdeb3c15900c447f": {
      "model_module": "@jupyter-widgets/base",
      "model_module_version": "1.2.0",
      "model_name": "LayoutModel",
      "state": {
       "_model_module": "@jupyter-widgets/base",
       "_model_module_version": "1.2.0",
       "_model_name": "LayoutModel",
       "_view_count": null,
       "_view_module": "@jupyter-widgets/base",
       "_view_module_version": "1.2.0",
       "_view_name": "LayoutView",
       "align_content": null,
       "align_items": null,
       "align_self": null,
       "border": null,
       "bottom": null,
       "display": null,
       "flex": null,
       "flex_flow": null,
       "grid_area": null,
       "grid_auto_columns": null,
       "grid_auto_flow": null,
       "grid_auto_rows": null,
       "grid_column": null,
       "grid_gap": null,
       "grid_row": null,
       "grid_template_areas": null,
       "grid_template_columns": null,
       "grid_template_rows": null,
       "height": null,
       "justify_content": null,
       "justify_items": null,
       "left": null,
       "margin": null,
       "max_height": null,
       "max_width": null,
       "min_height": null,
       "min_width": null,
       "object_fit": null,
       "object_position": null,
       "order": null,
       "overflow": null,
       "overflow_x": null,
       "overflow_y": null,
       "padding": null,
       "right": null,
       "top": null,
       "visibility": null,
       "width": null
      }
     },
     "81b81e8c9b824a13a948325c40440748": {
      "model_module": "@jupyter-widgets/controls",
      "model_module_version": "1.5.0",
      "model_name": "IntSliderModel",
      "state": {
       "_dom_classes": [],
       "_model_module": "@jupyter-widgets/controls",
       "_model_module_version": "1.5.0",
       "_model_name": "IntSliderModel",
       "_view_count": null,
       "_view_module": "@jupyter-widgets/controls",
       "_view_module_version": "1.5.0",
       "_view_name": "IntSliderView",
       "continuous_update": true,
       "description": "D",
       "description_tooltip": null,
       "disabled": false,
       "layout": "IPY_MODEL_133c4e826ebe49a48e5c38f02cdf85af",
       "max": 200,
       "min": 10,
       "orientation": "horizontal",
       "readout": true,
       "readout_format": "d",
       "step": 1,
       "style": "IPY_MODEL_331b1e6218104d17aa3add457ccad7ec",
       "value": 140
      }
     },
     "845f8bb33cfd42b89da0956615755b06": {
      "model_module": "@jupyter-widgets/controls",
      "model_module_version": "1.5.0",
      "model_name": "IntSliderModel",
      "state": {
       "_dom_classes": [],
       "_model_module": "@jupyter-widgets/controls",
       "_model_module_version": "1.5.0",
       "_model_name": "IntSliderModel",
       "_view_count": null,
       "_view_module": "@jupyter-widgets/controls",
       "_view_module_version": "1.5.0",
       "_view_name": "IntSliderView",
       "continuous_update": true,
       "description": "N",
       "description_tooltip": null,
       "disabled": false,
       "layout": "IPY_MODEL_97df028d80d343fa89bdf9234e843dc1",
       "max": 1000,
       "min": 1,
       "orientation": "horizontal",
       "readout": true,
       "readout_format": "d",
       "step": 1,
       "style": "IPY_MODEL_61929c6279ac481e8225912e12fbcaf0",
       "value": 1000
      }
     },
     "85333f5433d6415e8ef4e0f7cf713f74": {
      "model_module": "@jupyter-widgets/base",
      "model_module_version": "1.2.0",
      "model_name": "LayoutModel",
      "state": {
       "_model_module": "@jupyter-widgets/base",
       "_model_module_version": "1.2.0",
       "_model_name": "LayoutModel",
       "_view_count": null,
       "_view_module": "@jupyter-widgets/base",
       "_view_module_version": "1.2.0",
       "_view_name": "LayoutView",
       "align_content": null,
       "align_items": null,
       "align_self": null,
       "border": null,
       "bottom": null,
       "display": null,
       "flex": null,
       "flex_flow": null,
       "grid_area": null,
       "grid_auto_columns": null,
       "grid_auto_flow": null,
       "grid_auto_rows": null,
       "grid_column": null,
       "grid_gap": null,
       "grid_row": null,
       "grid_template_areas": null,
       "grid_template_columns": null,
       "grid_template_rows": null,
       "height": null,
       "justify_content": null,
       "justify_items": null,
       "left": null,
       "margin": null,
       "max_height": null,
       "max_width": null,
       "min_height": null,
       "min_width": null,
       "object_fit": null,
       "object_position": null,
       "order": null,
       "overflow": null,
       "overflow_x": null,
       "overflow_y": null,
       "padding": null,
       "right": null,
       "top": null,
       "visibility": null,
       "width": null
      }
     },
     "8ad85a8694744ee4b752c9843045534b": {
      "model_module": "@jupyter-widgets/base",
      "model_module_version": "1.2.0",
      "model_name": "LayoutModel",
      "state": {
       "_model_module": "@jupyter-widgets/base",
       "_model_module_version": "1.2.0",
       "_model_name": "LayoutModel",
       "_view_count": null,
       "_view_module": "@jupyter-widgets/base",
       "_view_module_version": "1.2.0",
       "_view_name": "LayoutView",
       "align_content": null,
       "align_items": null,
       "align_self": null,
       "border": null,
       "bottom": null,
       "display": null,
       "flex": null,
       "flex_flow": null,
       "grid_area": null,
       "grid_auto_columns": null,
       "grid_auto_flow": null,
       "grid_auto_rows": null,
       "grid_column": null,
       "grid_gap": null,
       "grid_row": null,
       "grid_template_areas": null,
       "grid_template_columns": null,
       "grid_template_rows": null,
       "height": null,
       "justify_content": null,
       "justify_items": null,
       "left": null,
       "margin": null,
       "max_height": null,
       "max_width": null,
       "min_height": null,
       "min_width": null,
       "object_fit": null,
       "object_position": null,
       "order": null,
       "overflow": null,
       "overflow_x": null,
       "overflow_y": null,
       "padding": null,
       "right": null,
       "top": null,
       "visibility": null,
       "width": null
      }
     },
     "8f31258729344a429425ce10f5c7b125": {
      "model_module": "@jupyter-widgets/controls",
      "model_module_version": "1.5.0",
      "model_name": "FloatSliderModel",
      "state": {
       "_dom_classes": [],
       "_model_module": "@jupyter-widgets/controls",
       "_model_module_version": "1.5.0",
       "_model_name": "FloatSliderModel",
       "_view_count": null,
       "_view_module": "@jupyter-widgets/controls",
       "_view_module_version": "1.5.0",
       "_view_name": "FloatSliderView",
       "continuous_update": true,
       "description": "sig",
       "description_tooltip": null,
       "disabled": false,
       "layout": "IPY_MODEL_0443acbdd6d446f3bfa5253a45627ac2",
       "max": 1.0,
       "min": 0.0,
       "orientation": "horizontal",
       "readout": true,
       "readout_format": ".2f",
       "step": 0.01,
       "style": "IPY_MODEL_23858fdc22964edda6b73d06c191d097",
       "value": 0.3
      }
     },
     "97df028d80d343fa89bdf9234e843dc1": {
      "model_module": "@jupyter-widgets/base",
      "model_module_version": "1.2.0",
      "model_name": "LayoutModel",
      "state": {
       "_model_module": "@jupyter-widgets/base",
       "_model_module_version": "1.2.0",
       "_model_name": "LayoutModel",
       "_view_count": null,
       "_view_module": "@jupyter-widgets/base",
       "_view_module_version": "1.2.0",
       "_view_name": "LayoutView",
       "align_content": null,
       "align_items": null,
       "align_self": null,
       "border": null,
       "bottom": null,
       "display": null,
       "flex": null,
       "flex_flow": null,
       "grid_area": null,
       "grid_auto_columns": null,
       "grid_auto_flow": null,
       "grid_auto_rows": null,
       "grid_column": null,
       "grid_gap": null,
       "grid_row": null,
       "grid_template_areas": null,
       "grid_template_columns": null,
       "grid_template_rows": null,
       "height": null,
       "justify_content": null,
       "justify_items": null,
       "left": null,
       "margin": null,
       "max_height": null,
       "max_width": null,
       "min_height": null,
       "min_width": null,
       "object_fit": null,
       "object_position": null,
       "order": null,
       "overflow": null,
       "overflow_x": null,
       "overflow_y": null,
       "padding": null,
       "right": null,
       "top": null,
       "visibility": null,
       "width": null
      }
     },
     "9b8f995f2af24fda8181e258588fe786": {
      "model_module": "@jupyter-widgets/output",
      "model_module_version": "1.0.0",
      "model_name": "OutputModel",
      "state": {
       "_dom_classes": [],
       "_model_module": "@jupyter-widgets/output",
       "_model_module_version": "1.0.0",
       "_model_name": "OutputModel",
       "_view_count": null,
       "_view_module": "@jupyter-widgets/output",
       "_view_module_version": "1.0.0",
       "_view_name": "OutputView",
       "layout": "IPY_MODEL_1143d8f4c861422e978d09aa004a7268",
       "msg_id": "",
       "outputs": [
        {
         "data": {
          "image/png": "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\n",
          "text/plain": "<Figure size 648x360 with 1 Axes>"
         },
         "metadata": {
          "needs_background": "light"
         },
         "output_type": "display_data"
        }
       ]
      }
     },
     "9d7411a526674021837b43eae0ea0bce": {
      "model_module": "@jupyter-widgets/controls",
      "model_module_version": "1.5.0",
      "model_name": "FloatSliderModel",
      "state": {
       "_dom_classes": [],
       "_model_module": "@jupyter-widgets/controls",
       "_model_module_version": "1.5.0",
       "_model_name": "FloatSliderModel",
       "_view_count": null,
       "_view_module": "@jupyter-widgets/controls",
       "_view_module_version": "1.5.0",
       "_view_name": "FloatSliderView",
       "continuous_update": true,
       "description": "theta_sun",
       "description_tooltip": null,
       "disabled": false,
       "layout": "IPY_MODEL_3b61b23700b44d1f8793bac2f166c006",
       "max": 89.99,
       "min": 0.0,
       "orientation": "horizontal",
       "readout": true,
       "readout_format": ".2f",
       "step": 0.1,
       "style": "IPY_MODEL_bd4fe9224ae747a1a767fb21142a6328",
       "value": 0.0
      }
     },
     "9dcc285f50ea478ebaa6dc99f935cc56": {
      "model_module": "@jupyter-widgets/controls",
      "model_module_version": "1.5.0",
      "model_name": "VBoxModel",
      "state": {
       "_dom_classes": [
        "widget-interact"
       ],
       "_model_module": "@jupyter-widgets/controls",
       "_model_module_version": "1.5.0",
       "_model_name": "VBoxModel",
       "_view_count": null,
       "_view_module": "@jupyter-widgets/controls",
       "_view_module_version": "1.5.0",
       "_view_name": "VBoxView",
       "box_style": "",
       "children": [
        "IPY_MODEL_ea12673472704782bcc6bd78a2b0d7cb",
        "IPY_MODEL_81b81e8c9b824a13a948325c40440748",
        "IPY_MODEL_c8239fa38ea14045adc4130dd6cc52dc"
       ],
       "layout": "IPY_MODEL_09fc50367bde4daba0782202c6b0fa8b"
      }
     },
     "a1406a3362cf4bc38b900670a3cce279": {
      "model_module": "@jupyter-widgets/controls",
      "model_module_version": "1.5.0",
      "model_name": "FloatSliderModel",
      "state": {
       "_dom_classes": [],
       "_model_module": "@jupyter-widgets/controls",
       "_model_module_version": "1.5.0",
       "_model_name": "FloatSliderModel",
       "_view_count": null,
       "_view_module": "@jupyter-widgets/controls",
       "_view_module_version": "1.5.0",
       "_view_name": "FloatSliderView",
       "continuous_update": true,
       "description": "sig",
       "description_tooltip": null,
       "disabled": false,
       "layout": "IPY_MODEL_f09fbd58942947079b8e873e7101d117",
       "max": 1.0,
       "min": 0.0,
       "orientation": "horizontal",
       "readout": true,
       "readout_format": ".2f",
       "step": 0.01,
       "style": "IPY_MODEL_f9a3f660c2e94a118c757ab6399578a7",
       "value": 0.3
      }
     },
     "a8091d1dcd6c466ab3e93e9da525f162": {
      "model_module": "@jupyter-widgets/controls",
      "model_module_version": "1.5.0",
      "model_name": "IntSliderModel",
      "state": {
       "_dom_classes": [],
       "_model_module": "@jupyter-widgets/controls",
       "_model_module_version": "1.5.0",
       "_model_name": "IntSliderModel",
       "_view_count": null,
       "_view_module": "@jupyter-widgets/controls",
       "_view_module_version": "1.5.0",
       "_view_name": "IntSliderView",
       "continuous_update": true,
       "description": "N",
       "description_tooltip": null,
       "disabled": false,
       "layout": "IPY_MODEL_85333f5433d6415e8ef4e0f7cf713f74",
       "max": 1000,
       "min": 1,
       "orientation": "horizontal",
       "readout": true,
       "readout_format": "d",
       "step": 1,
       "style": "IPY_MODEL_becae990709948859d4427a67d5c5321",
       "value": 1000
      }
     },
     "b8a6d76959e8430ca70c97bbc6fa6afa": {
      "model_module": "@jupyter-widgets/base",
      "model_module_version": "1.2.0",
      "model_name": "LayoutModel",
      "state": {
       "_model_module": "@jupyter-widgets/base",
       "_model_module_version": "1.2.0",
       "_model_name": "LayoutModel",
       "_view_count": null,
       "_view_module": "@jupyter-widgets/base",
       "_view_module_version": "1.2.0",
       "_view_name": "LayoutView",
       "align_content": null,
       "align_items": null,
       "align_self": null,
       "border": null,
       "bottom": null,
       "display": null,
       "flex": null,
       "flex_flow": null,
       "grid_area": null,
       "grid_auto_columns": null,
       "grid_auto_flow": null,
       "grid_auto_rows": null,
       "grid_column": null,
       "grid_gap": null,
       "grid_row": null,
       "grid_template_areas": null,
       "grid_template_columns": null,
       "grid_template_rows": null,
       "height": null,
       "justify_content": null,
       "justify_items": null,
       "left": null,
       "margin": null,
       "max_height": null,
       "max_width": null,
       "min_height": null,
       "min_width": null,
       "object_fit": null,
       "object_position": null,
       "order": null,
       "overflow": null,
       "overflow_x": null,
       "overflow_y": null,
       "padding": null,
       "right": null,
       "top": null,
       "visibility": null,
       "width": null
      }
     },
     "bd4fe9224ae747a1a767fb21142a6328": {
      "model_module": "@jupyter-widgets/controls",
      "model_module_version": "1.5.0",
      "model_name": "SliderStyleModel",
      "state": {
       "_model_module": "@jupyter-widgets/controls",
       "_model_module_version": "1.5.0",
       "_model_name": "SliderStyleModel",
       "_view_count": null,
       "_view_module": "@jupyter-widgets/base",
       "_view_module_version": "1.2.0",
       "_view_name": "StyleView",
       "description_width": "",
       "handle_color": null
      }
     },
     "becae990709948859d4427a67d5c5321": {
      "model_module": "@jupyter-widgets/controls",
      "model_module_version": "1.5.0",
      "model_name": "SliderStyleModel",
      "state": {
       "_model_module": "@jupyter-widgets/controls",
       "_model_module_version": "1.5.0",
       "_model_name": "SliderStyleModel",
       "_view_count": null,
       "_view_module": "@jupyter-widgets/base",
       "_view_module_version": "1.2.0",
       "_view_name": "StyleView",
       "description_width": "",
       "handle_color": null
      }
     },
     "bf7a143cef58411e82d4906465b79a25": {
      "model_module": "@jupyter-widgets/controls",
      "model_module_version": "1.5.0",
      "model_name": "FloatSliderModel",
      "state": {
       "_dom_classes": [],
       "_model_module": "@jupyter-widgets/controls",
       "_model_module_version": "1.5.0",
       "_model_name": "FloatSliderModel",
       "_view_count": null,
       "_view_module": "@jupyter-widgets/controls",
       "_view_module_version": "1.5.0",
       "_view_name": "FloatSliderView",
       "continuous_update": true,
       "description": "t",
       "description_tooltip": null,
       "disabled": false,
       "layout": "IPY_MODEL_80af0f4864664158bdeb3c15900c447f",
       "max": 20.0,
       "min": 0.0,
       "orientation": "horizontal",
       "readout": true,
       "readout_format": ".2f",
       "step": 0.1,
       "style": "IPY_MODEL_ffd3298dfc0645849a48bc1eed60bcb5",
       "value": 2.0
      }
     },
     "c8239fa38ea14045adc4130dd6cc52dc": {
      "model_module": "@jupyter-widgets/output",
      "model_module_version": "1.0.0",
      "model_name": "OutputModel",
      "state": {
       "_dom_classes": [],
       "_model_module": "@jupyter-widgets/output",
       "_model_module_version": "1.0.0",
       "_model_name": "OutputModel",
       "_view_count": null,
       "_view_module": "@jupyter-widgets/output",
       "_view_module_version": "1.0.0",
       "_view_name": "OutputView",
       "layout": "IPY_MODEL_44e9d3cbb5cb426cbf856525bfb181b4",
       "msg_id": "",
       "outputs": [
        {
         "ename": "UnboundLocalError",
         "evalue": "local variable 'Nh' referenced before assignment",
         "output_type": "error",
         "traceback": [
          "\u001b[0;31m---------------------------------------------------------------------------\u001b[0m",
          "\u001b[0;31mUnboundLocalError\u001b[0m                         Traceback (most recent call last)",
          "\u001b[0;32m~/programs/miniconda3/lib/python3.9/site-packages/ipywidgets/widgets/interaction.py\u001b[0m in \u001b[0;36mupdate\u001b[0;34m(self, *args)\u001b[0m\n\u001b[1;32m    255\u001b[0m                     \u001b[0mvalue\u001b[0m \u001b[0;34m=\u001b[0m \u001b[0mwidget\u001b[0m\u001b[0;34m.\u001b[0m\u001b[0mget_interact_value\u001b[0m\u001b[0;34m(\u001b[0m\u001b[0;34m)\u001b[0m\u001b[0;34m\u001b[0m\u001b[0;34m\u001b[0m\u001b[0m\n\u001b[1;32m    256\u001b[0m                     \u001b[0mself\u001b[0m\u001b[0;34m.\u001b[0m\u001b[0mkwargs\u001b[0m\u001b[0;34m[\u001b[0m\u001b[0mwidget\u001b[0m\u001b[0;34m.\u001b[0m\u001b[0m_kwarg\u001b[0m\u001b[0;34m]\u001b[0m \u001b[0;34m=\u001b[0m \u001b[0mvalue\u001b[0m\u001b[0;34m\u001b[0m\u001b[0;34m\u001b[0m\u001b[0m\n\u001b[0;32m--> 257\u001b[0;31m                 \u001b[0mself\u001b[0m\u001b[0;34m.\u001b[0m\u001b[0mresult\u001b[0m \u001b[0;34m=\u001b[0m \u001b[0mself\u001b[0m\u001b[0;34m.\u001b[0m\u001b[0mf\u001b[0m\u001b[0;34m(\u001b[0m\u001b[0;34m**\u001b[0m\u001b[0mself\u001b[0m\u001b[0;34m.\u001b[0m\u001b[0mkwargs\u001b[0m\u001b[0;34m)\u001b[0m\u001b[0;34m\u001b[0m\u001b[0;34m\u001b[0m\u001b[0m\n\u001b[0m\u001b[1;32m    258\u001b[0m                 \u001b[0mshow_inline_matplotlib_plots\u001b[0m\u001b[0;34m(\u001b[0m\u001b[0;34m)\u001b[0m\u001b[0;34m\u001b[0m\u001b[0;34m\u001b[0m\u001b[0m\n\u001b[1;32m    259\u001b[0m                 \u001b[0;32mif\u001b[0m \u001b[0mself\u001b[0m\u001b[0;34m.\u001b[0m\u001b[0mauto_display\u001b[0m \u001b[0;32mand\u001b[0m \u001b[0mself\u001b[0m\u001b[0;34m.\u001b[0m\u001b[0mresult\u001b[0m \u001b[0;32mis\u001b[0m \u001b[0;32mnot\u001b[0m \u001b[0;32mNone\u001b[0m\u001b[0;34m:\u001b[0m\u001b[0;34m\u001b[0m\u001b[0;34m\u001b[0m\u001b[0m\n",
          "\u001b[0;32m/tmp/ipykernel_255/829829164.py\u001b[0m in \u001b[0;36mg\u001b[0;34m(fv, D)\u001b[0m\n\u001b[1;32m      3\u001b[0m \u001b[0;34m@\u001b[0m\u001b[0minteract\u001b[0m\u001b[0;34m(\u001b[0m\u001b[0mfv\u001b[0m\u001b[0;34m=\u001b[0m\u001b[0;34m(\u001b[0m\u001b[0;36m1\u001b[0m\u001b[0;34m,\u001b[0m\u001b[0;36m100\u001b[0m\u001b[0;34m,\u001b[0m\u001b[0;36m1\u001b[0m\u001b[0;34m)\u001b[0m\u001b[0;34m,\u001b[0m \u001b[0mD\u001b[0m \u001b[0;34m=\u001b[0m \u001b[0;34m(\u001b[0m\u001b[0;36m10\u001b[0m\u001b[0;34m,\u001b[0m\u001b[0;36m200\u001b[0m\u001b[0;34m,\u001b[0m\u001b[0;36m1\u001b[0m\u001b[0;34m)\u001b[0m\u001b[0;34m)\u001b[0m\u001b[0;34m\u001b[0m\u001b[0;34m\u001b[0m\u001b[0m\n\u001b[1;32m      4\u001b[0m \u001b[0;32mdef\u001b[0m \u001b[0mg\u001b[0m\u001b[0;34m(\u001b[0m\u001b[0mfv\u001b[0m\u001b[0;34m=\u001b[0m\u001b[0;36m30\u001b[0m\u001b[0;34m,\u001b[0m \u001b[0mD\u001b[0m \u001b[0;34m=\u001b[0m \u001b[0;36m140\u001b[0m\u001b[0;34m)\u001b[0m\u001b[0;34m:\u001b[0m\u001b[0;34m\u001b[0m\u001b[0;34m\u001b[0m\u001b[0m\n\u001b[0;32m----> 5\u001b[0;31m     \u001b[0;32mreturn\u001b[0m \u001b[0mplot_glass_silver\u001b[0m\u001b[0;34m(\u001b[0m\u001b[0mfv\u001b[0m\u001b[0;34m,\u001b[0m\u001b[0mD\u001b[0m\u001b[0;34m)\u001b[0m\u001b[0;34m\u001b[0m\u001b[0;34m\u001b[0m\u001b[0m\n\u001b[0m",
          "\u001b[0;32m/tmp/ipykernel_255/321092577.py\u001b[0m in \u001b[0;36mplot_glass_silver\u001b[0;34m(fv, D)\u001b[0m\n\u001b[1;32m     19\u001b[0m     \u001b[0mD\u001b[0m \u001b[0;34m=\u001b[0m \u001b[0mD\u001b[0m\u001b[0;34m*\u001b[0m\u001b[0;36m1E-3\u001b[0m                  \u001b[0;31m# diámetro de las partículas\u001b[0m\u001b[0;34m\u001b[0m\u001b[0;34m\u001b[0m\u001b[0m\n\u001b[1;32m     20\u001b[0m \u001b[0;34m\u001b[0m\u001b[0m\n\u001b[0;32m---> 21\u001b[0;31m     \u001b[0mqext\u001b[0m\u001b[0;34m,\u001b[0m \u001b[0mqsca\u001b[0m \u001b[0;34m=\u001b[0m \u001b[0mmie\u001b[0m\u001b[0;34m.\u001b[0m\u001b[0mscatter_efficiency\u001b[0m\u001b[0;34m(\u001b[0m\u001b[0mlam2\u001b[0m\u001b[0;34m,\u001b[0m\u001b[0mNlayers\u001b[0m\u001b[0;34m[\u001b[0m\u001b[0;36m1\u001b[0m\u001b[0;34m]\u001b[0m\u001b[0;34m,\u001b[0m\u001b[0mNp\u001b[0m\u001b[0;34m,\u001b[0m\u001b[0mD\u001b[0m\u001b[0;34m)\u001b[0m\u001b[0;34m[\u001b[0m\u001b[0;34m:\u001b[0m\u001b[0;36m2\u001b[0m\u001b[0;34m]\u001b[0m\u001b[0;34m\u001b[0m\u001b[0;34m\u001b[0m\u001b[0m\n\u001b[0m\u001b[1;32m     22\u001b[0m     \u001b[0mqabs\u001b[0m \u001b[0;34m=\u001b[0m \u001b[0mqext\u001b[0m \u001b[0;34m-\u001b[0m \u001b[0mqsca\u001b[0m\u001b[0;34m\u001b[0m\u001b[0;34m\u001b[0m\u001b[0m\n\u001b[1;32m     23\u001b[0m     \u001b[0mRtot\u001b[0m\u001b[0;34m,\u001b[0m \u001b[0mTtot\u001b[0m \u001b[0;34m=\u001b[0m \u001b[0mrt\u001b[0m\u001b[0;34m.\u001b[0m\u001b[0mad_rad_transfer\u001b[0m\u001b[0;34m(\u001b[0m\u001b[0mlam2\u001b[0m\u001b[0;34m,\u001b[0m\u001b[0mtfilm\u001b[0m\u001b[0;34m,\u001b[0m\u001b[0mNlayers\u001b[0m\u001b[0;34m,\u001b[0m\u001b[0mfv\u001b[0m\u001b[0;34m,\u001b[0m\u001b[0mD\u001b[0m\u001b[0;34m,\u001b[0m\u001b[0mNp\u001b[0m\u001b[0;34m)\u001b[0m\u001b[0;34m\u001b[0m\u001b[0;34m\u001b[0m\u001b[0m\n",
          "\u001b[0;32m/mnt/d/OneDrive - Universidad Adolfo Ibanez/ComputerCodes/Python/custom_packages/empylib/miescattering/miescattering.py\u001b[0m in \u001b[0;36mscatter_efficiency\u001b[0;34m(lam, N_host, Np_shells, D)\u001b[0m\n\u001b[1;32m    333\u001b[0m         \u001b[0;32massert\u001b[0m \u001b[0mlen\u001b[0m\u001b[0;34m(\u001b[0m\u001b[0mN_host\u001b[0m\u001b[0;34m)\u001b[0m \u001b[0;34m==\u001b[0m \u001b[0mlen\u001b[0m\u001b[0;34m(\u001b[0m\u001b[0mlam\u001b[0m\u001b[0;34m)\u001b[0m\u001b[0;34m,\u001b[0m \u001b[0;34m'N_host must either float or size len(lam)'\u001b[0m\u001b[0;34m\u001b[0m\u001b[0;34m\u001b[0m\u001b[0m\n\u001b[1;32m    334\u001b[0m \u001b[0;34m\u001b[0m\u001b[0m\n\u001b[0;32m--> 335\u001b[0;31m     \u001b[0mm\u001b[0m \u001b[0;34m=\u001b[0m \u001b[0mNp\u001b[0m\u001b[0;34m/\u001b[0m\u001b[0mNh\u001b[0m                       \u001b[0;31m# sphere layers\u001b[0m\u001b[0;34m\u001b[0m\u001b[0;34m\u001b[0m\u001b[0m\n\u001b[0m\u001b[1;32m    336\u001b[0m     \u001b[0mR\u001b[0m \u001b[0;34m=\u001b[0m \u001b[0mD\u001b[0m\u001b[0;34m/\u001b[0m\u001b[0;36m2\u001b[0m                         \u001b[0;31m# particle's inner radius\u001b[0m\u001b[0;34m\u001b[0m\u001b[0;34m\u001b[0m\u001b[0m\n\u001b[1;32m    337\u001b[0m     \u001b[0mkh\u001b[0m \u001b[0;34m=\u001b[0m \u001b[0;36m2\u001b[0m\u001b[0;34m*\u001b[0m\u001b[0mpi\u001b[0m\u001b[0;34m*\u001b[0m\u001b[0mNh\u001b[0m\u001b[0;34m/\u001b[0m\u001b[0mlam\u001b[0m                \u001b[0;31m# wavector in the host\u001b[0m\u001b[0;34m\u001b[0m\u001b[0;34m\u001b[0m\u001b[0m\n",
          "\u001b[0;31mUnboundLocalError\u001b[0m: local variable 'Nh' referenced before assignment"
         ]
        }
       ]
      }
     },
     "dc055a22c71c4c3c9d95aa510bf40efb": {
      "model_module": "@jupyter-widgets/controls",
      "model_module_version": "1.5.0",
      "model_name": "SliderStyleModel",
      "state": {
       "_model_module": "@jupyter-widgets/controls",
       "_model_module_version": "1.5.0",
       "_model_name": "SliderStyleModel",
       "_view_count": null,
       "_view_module": "@jupyter-widgets/base",
       "_view_module_version": "1.2.0",
       "_view_name": "StyleView",
       "description_width": "",
       "handle_color": null
      }
     },
     "ea12673472704782bcc6bd78a2b0d7cb": {
      "model_module": "@jupyter-widgets/controls",
      "model_module_version": "1.5.0",
      "model_name": "IntSliderModel",
      "state": {
       "_dom_classes": [],
       "_model_module": "@jupyter-widgets/controls",
       "_model_module_version": "1.5.0",
       "_model_name": "IntSliderModel",
       "_view_count": null,
       "_view_module": "@jupyter-widgets/controls",
       "_view_module_version": "1.5.0",
       "_view_name": "IntSliderView",
       "continuous_update": true,
       "description": "fv",
       "description_tooltip": null,
       "disabled": false,
       "layout": "IPY_MODEL_b8a6d76959e8430ca70c97bbc6fa6afa",
       "max": 100,
       "min": 1,
       "orientation": "horizontal",
       "readout": true,
       "readout_format": "d",
       "step": 1,
       "style": "IPY_MODEL_dc055a22c71c4c3c9d95aa510bf40efb",
       "value": 30
      }
     },
     "f09fbd58942947079b8e873e7101d117": {
      "model_module": "@jupyter-widgets/base",
      "model_module_version": "1.2.0",
      "model_name": "LayoutModel",
      "state": {
       "_model_module": "@jupyter-widgets/base",
       "_model_module_version": "1.2.0",
       "_model_name": "LayoutModel",
       "_view_count": null,
       "_view_module": "@jupyter-widgets/base",
       "_view_module_version": "1.2.0",
       "_view_name": "LayoutView",
       "align_content": null,
       "align_items": null,
       "align_self": null,
       "border": null,
       "bottom": null,
       "display": null,
       "flex": null,
       "flex_flow": null,
       "grid_area": null,
       "grid_auto_columns": null,
       "grid_auto_flow": null,
       "grid_auto_rows": null,
       "grid_column": null,
       "grid_gap": null,
       "grid_row": null,
       "grid_template_areas": null,
       "grid_template_columns": null,
       "grid_template_rows": null,
       "height": null,
       "justify_content": null,
       "justify_items": null,
       "left": null,
       "margin": null,
       "max_height": null,
       "max_width": null,
       "min_height": null,
       "min_width": null,
       "object_fit": null,
       "object_position": null,
       "order": null,
       "overflow": null,
       "overflow_x": null,
       "overflow_y": null,
       "padding": null,
       "right": null,
       "top": null,
       "visibility": null,
       "width": null
      }
     },
     "f80e92c0c07844a3823a6f5290b9e6cb": {
      "model_module": "@jupyter-widgets/controls",
      "model_module_version": "1.5.0",
      "model_name": "VBoxModel",
      "state": {
       "_dom_classes": [
        "widget-interact"
       ],
       "_model_module": "@jupyter-widgets/controls",
       "_model_module_version": "1.5.0",
       "_model_name": "VBoxModel",
       "_view_count": null,
       "_view_module": "@jupyter-widgets/controls",
       "_view_module_version": "1.5.0",
       "_view_name": "VBoxView",
       "box_style": "",
       "children": [
        "IPY_MODEL_845f8bb33cfd42b89da0956615755b06",
        "IPY_MODEL_bf7a143cef58411e82d4906465b79a25",
        "IPY_MODEL_8f31258729344a429425ce10f5c7b125",
        "IPY_MODEL_4a5d2cd013714a2799b90fd17630b731"
       ],
       "layout": "IPY_MODEL_16630ce9065347a389c30f58cf795a16"
      }
     },
     "f9a3f660c2e94a118c757ab6399578a7": {
      "model_module": "@jupyter-widgets/controls",
      "model_module_version": "1.5.0",
      "model_name": "SliderStyleModel",
      "state": {
       "_model_module": "@jupyter-widgets/controls",
       "_model_module_version": "1.5.0",
       "_model_name": "SliderStyleModel",
       "_view_count": null,
       "_view_module": "@jupyter-widgets/base",
       "_view_module_version": "1.2.0",
       "_view_name": "StyleView",
       "description_width": "",
       "handle_color": null
      }
     },
     "ffd3298dfc0645849a48bc1eed60bcb5": {
      "model_module": "@jupyter-widgets/controls",
      "model_module_version": "1.5.0",
      "model_name": "SliderStyleModel",
      "state": {
       "_model_module": "@jupyter-widgets/controls",
       "_model_module_version": "1.5.0",
       "_model_name": "SliderStyleModel",
       "_view_count": null,
       "_view_module": "@jupyter-widgets/base",
       "_view_module_version": "1.2.0",
       "_view_name": "StyleView",
       "description_width": "",
       "handle_color": null
      }
     }
    },
    "version_major": 2,
    "version_minor": 0
   }
  }
 },
 "nbformat": 4,
 "nbformat_minor": 5
}