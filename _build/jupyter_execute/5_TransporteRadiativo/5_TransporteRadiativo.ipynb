{
 "cells": [
  {
   "cell_type": "markdown",
   "id": "8b01ca79",
   "metadata": {
    "slideshow": {
     "slide_type": "slide"
    }
   },
   "source": [
    " <font size=\"6\">MEC501 - Manejo y Conversión de Energía Solar Térmica</font>\n",
    "# Transporte Radiativo\n",
    "<br><br><br><br>\n",
    "Profesor: Francisco Ramírez Cuevas<br>\n",
    "Fecha: 9 de Septiembre 2022"
   ]
  },
  {
   "cell_type": "markdown",
   "id": "9ff4cae4",
   "metadata": {
    "slideshow": {
     "slide_type": "slide"
    }
   },
   "source": [
    "## Coherencia de la luz e interferencia\n",
    "Como veremos en las próximas clases, las vibraciones moleculares en la materia son las responsables de emitir radiación en forma de ondas electromagnéticas. El mecanismo es similar, pero inverso, al mecanismo de absorción de luz, el cual es originado por la interacción de ondas electromagnéticas con las vibraciones moleculares (ver clase 3)."
   ]
  },
  {
   "cell_type": "markdown",
   "id": "bcb7cf39",
   "metadata": {
    "slideshow": {
     "slide_type": "fragment"
    }
   },
   "source": [
    "Dicho esto, dos moléculas pueden emitir radiación con una pequeña variación en la longitud de onda $\\Delta\\lambda$. Esto ocurre porque las vibraciones no están 100% correlacionadas, es decir, existe un grado de aletoriedad en las vibraciones."
   ]
  },
  {
   "cell_type": "markdown",
   "id": "16081fa2",
   "metadata": {
    "slideshow": {
     "slide_type": "slide"
    }
   },
   "source": [
    "Esta aletoriedad en las vibraciones da lugar a una distribución del flujo de radiación emitido por una fuente.\n",
    "\n",
    "<img src=\"./images/light_source_spectra.png\" width=\"800px\" align= center>"
   ]
  },
  {
   "cell_type": "markdown",
   "id": "b54cf722",
   "metadata": {
    "slideshow": {
     "slide_type": "slide"
    }
   },
   "source": [
    "Por ejemplo, consideremos una fuente de luz con una distribución espectral normal, centrada en $\\lambda_0$ y con una desviación estandar $\\pm\\sigma_\\lambda\\lambda_0$, con $\\sigma_\\lambda \\in [0,1]$. Imaginemos esta fuente como $N$ emisores, donde cada emisor $j$ emite ondas electromagnéticas con longitud de onda $\\lambda \\pm\\Delta \\lambda_j$, donde $\\Delta \\lambda_j$ es escogido aleatoriamente a partir de la distribución normal."
   ]
  },
  {
   "cell_type": "markdown",
   "id": "31f81723",
   "metadata": {
    "cell_style": "split",
    "slideshow": {
     "slide_type": "fragment"
    }
   },
   "source": [
    "<img src=\"./images/normal_distribution.png\" width=\"400px\" align= center>"
   ]
  },
  {
   "cell_type": "markdown",
   "id": "76d68ef4",
   "metadata": {
    "cell_style": "split",
    "slideshow": {
     "slide_type": "fragment"
    }
   },
   "source": [
    "Asumiendo ondas en el aire en dirección $\\hat{k} = \\hat{x}$, el campo eléctrico resultante es:\n",
    "\n",
    "\\begin{equation*}\n",
    "\\vec{E}_\\mathrm{tot} = \\sum_j^N E_0e^{i\\left(k_jx - \\omega_j t\\right)} \\hat{z},\n",
    "\\end{equation*}\n",
    "\n",
    "donde $k_j = \\frac{2\\pi}{\\lambda \\pm\\Delta \\lambda_j}$, y $\\omega_j = c_0k_j$"
   ]
  },
  {
   "cell_type": "markdown",
   "id": "e5e55e68",
   "metadata": {
    "cell_style": "center",
    "slideshow": {
     "slide_type": "fragment"
    }
   },
   "source": [
    "Analicemos el comportamiento de $\\vec{E}_\\mathrm{tot} /E_0$ para $\\lambda_0 = 500$ nm"
   ]
  },
  {
   "cell_type": "code",
   "execution_count": 1,
   "id": "37df7e74",
   "metadata": {
    "cell_style": "split",
    "slideshow": {
     "slide_type": "slide"
    }
   },
   "outputs": [],
   "source": [
    "import numpy as np\n",
    "from numpy.random import normal\n",
    "import matplotlib.pyplot as plt\n",
    "\n",
    "def light_packet(kdir, x, t, lam, sig, N):\n",
    "    c0 = 3E8          # velocidad de la luz (m/s)\n",
    "    xx = np.meshgrid(x,np.ones(N))[0]\n",
    "    \n",
    "    # Generamos arreglo de ondas aleatorias\n",
    "    dlamj =  normal(0, lam*sig,N)\n",
    "    kj = (2*np.pi/(lam + dlamj)).reshape(-1,1)\n",
    "    wj = c0*kj\n",
    "    Erand = np.exp(1j*(kdir*kj*xx-wj*t)) \n",
    "    \n",
    "    # Sumamos todas las ondas\n",
    "    return np.sum(Erand,axis=0)\n",
    " \n",
    "def plot_light_packet(N, t, sig):\n",
    "    '''\n",
    "    n: número de ondas generadas\n",
    "    t: tiempo en ns\n",
    "    sig: % de ancho de banda (dlam = sig*lam)\n",
    "    '''\n",
    "    lam = 0.5         # longitud de onda (um)\n",
    "    t = t*1E-9 # convertimos ns a s\n",
    "    \n",
    "    # recorrido de la onda\n",
    "    x = np.linspace(-2,2,1000)  # desde 0 a 4 micrones\n",
    "    E = light_packet(1, x, t, lam, sig, N)\n",
    "    \n",
    "    # Graficamos\n",
    "    fig, ax = plt.subplots()\n",
    "    fig.set_size_inches(9, 5)\n",
    "    plt.rcParams['font.size'] = '18'\n",
    "    \n",
    "    ax.plot(x,np.real(E), 'k')\n",
    "    ax.set_xlabel('x ($\\mu$m)')\n",
    "    ax.set_ylabel('Amplitud $|E|/E_0$')\n",
    "    ax.set_ylim(-N*1.1,N*1.1)\n",
    "    ax.grid()\n"
   ]
  },
  {
   "cell_type": "code",
   "execution_count": 2,
   "id": "5c81aca7",
   "metadata": {
    "cell_style": "split",
    "slideshow": {
     "slide_type": "fragment"
    }
   },
   "outputs": [
    {
     "data": {
      "application/vnd.jupyter.widget-view+json": {
       "model_id": "75fc6e594abe45a0b0ef43839beedcea",
       "version_major": 2,
       "version_minor": 0
      },
      "text/plain": [
       "interactive(children=(IntSlider(value=1000, description='N', max=1000, min=1), FloatSlider(value=0.0, descript…"
      ]
     },
     "metadata": {},
     "output_type": "display_data"
    }
   ],
   "source": [
    "from ipywidgets import interact\n",
    "\n",
    "@interact( N=(1,1000,1), \n",
    "           t=(-10,10,0.1),\n",
    "           sig=(0,1,0.01))\n",
    "def g(N=1000, t=0, sig=0.3):\n",
    "    return plot_light_packet(N,t,sig)"
   ]
  },
  {
   "cell_type": "markdown",
   "id": "b53bb755",
   "metadata": {
    "slideshow": {
     "slide_type": "slide"
    }
   },
   "source": [
    "### Longitud de coherencia\n",
    "Definimos como **longitud de coherencia**, $l_c$, a la distancia donde un grupo de ondas electromagnética mantiene correlación entre las fases. Para longitudes mayores a $l_c$, decimos que la luz es incoherente, es decir, el desface entre las distintas ondas es completamente aleatorio."
   ]
  },
  {
   "cell_type": "markdown",
   "id": "3ea340f8",
   "metadata": {
    "cell_style": "split",
    "slideshow": {
     "slide_type": "fragment"
    }
   },
   "source": [
    "<img src=\"./images/coherence_length.png\" width=\"300px\" align= center>\n",
    "\n",
    "<center>Esquema de un paquete de onda emitido por una fuente con longitud de coherencia $l_c$</center>"
   ]
  },
  {
   "cell_type": "markdown",
   "id": "1f71b46f",
   "metadata": {
    "cell_style": "split",
    "slideshow": {
     "slide_type": "fragment"
    }
   },
   "source": [
    "La relación entre $l_c$, la longitud de onda central $\\lambda$ y el ancho de banda $\\Delta\\lambda$ está dado, aproximadamente, por la relación:\n",
    "\n",
    "\\begin{equation*}\n",
    "l_c \\approx \\frac{\\lambda^2}{n\\Delta \\lambda},\n",
    "\\end{equation*}\n",
    "\n",
    "donde $n$ es el indice de refracción del medio donde se propaga la luz.\n",
    "\n",
    "Por ejemplo, para lasers He-Ne (laser rojo)  $l_c\\approx 0.2 - 100$ m.  "
   ]
  },
  {
   "cell_type": "markdown",
   "id": "b8e319bd",
   "metadata": {
    "slideshow": {
     "slide_type": "slide"
    }
   },
   "source": [
    "Para radiación emitida por un cuerpo a temperatura $T$, la longitud de coherencia está dada por:\n",
    "\n",
    "\\begin{equation*}\n",
    "l_c T = 2167.8~\\mathrm{\\mu m~K}\n",
    "\\end{equation*}\n",
    "\n",
    "Así, por ejemplo, la radiación solar ($T \\approx 5800~\\mathrm{K}$) tiene una longitud de coherencia, $l_c \\approx 370~\\mathrm{nm}$"
   ]
  },
  {
   "cell_type": "markdown",
   "id": "659f7454",
   "metadata": {
    "slideshow": {
     "slide_type": "slide"
    }
   },
   "source": [
    "### Régimen de trasporte de luz\n",
    "Consideremos dos paquetes de onda con una longitud de coherencia $l_c$, viajando en sentido opuesto."
   ]
  },
  {
   "cell_type": "markdown",
   "id": "1b6928bc",
   "metadata": {
    "slideshow": {
     "slide_type": "fragment"
    }
   },
   "source": [
    "Podemos ver que ambos paquetes de luz interfieren en $x = 0$ en un instante $t$. Al continuar su camino, ambos paquetes de onda recuperan su forma original."
   ]
  },
  {
   "cell_type": "code",
   "execution_count": 3,
   "id": "8b9e3e63",
   "metadata": {
    "cell_style": "split",
    "slideshow": {
     "slide_type": "slide"
    }
   },
   "outputs": [],
   "source": [
    "def plot_2light_packet(n, t, sig):\n",
    "    '''\n",
    "    n: número de ondas generadas\n",
    "    t: tiempo en ns\n",
    "    sig: % de ancho de banda (dlam = sig*lam)\n",
    "    '''\n",
    "    t = t*1E-9 # convertimos ns a s\n",
    "    lam = 0.5\n",
    "    \n",
    "    # recorrido de la onda\n",
    "    x = np.linspace(-2,2,1000)  # desde 0 a 4 micrones\n",
    "    k0 = 2*np.pi/lam\n",
    "    Efw = light_packet( 1, x - x[ 0], t, lam, sig, n)\n",
    "    Ebw = light_packet(-1, x - x[-1], t, lam, sig, n)\n",
    "    \n",
    "    # Graficamos\n",
    "    fig, ax = plt.subplots()\n",
    "    fig.set_size_inches(9, 5)\n",
    "    plt.rcParams['font.size'] = '18'\n",
    "    \n",
    "    ax.plot(x,np.real(Efw + Ebw), 'k')\n",
    "    ax.set_xlabel('x ($\\mu$m)')\n",
    "    ax.set_ylabel('Amplitud $|E|/E_0$')\n",
    "    ax.set_ylim(-n*2.1,n*2.1)\n",
    "    ax.grid()\n"
   ]
  },
  {
   "cell_type": "code",
   "execution_count": 4,
   "id": "977daeda",
   "metadata": {
    "cell_style": "split"
   },
   "outputs": [
    {
     "data": {
      "application/vnd.jupyter.widget-view+json": {
       "model_id": "83b929c1cb7346cfb4858ab90aa554ce",
       "version_major": 2,
       "version_minor": 0
      },
      "text/plain": [
       "interactive(children=(IntSlider(value=1000, description='N', max=1000, min=1), FloatSlider(value=2.0, descript…"
      ]
     },
     "metadata": {},
     "output_type": "display_data"
    }
   ],
   "source": [
    "from ipywidgets import interact\n",
    "\n",
    "@interact( N=(1,1000,1), \n",
    "           t=(0,20,0.1),\n",
    "           sig=(0,1,0.01))\n",
    "def g(N=1000, t=2, sig=0.3):\n",
    "    return plot_2light_packet(N,t,sig)"
   ]
  },
  {
   "cell_type": "markdown",
   "id": "615ad1c6",
   "metadata": {
    "slideshow": {
     "slide_type": "slide"
    }
   },
   "source": [
    "A partir de esto, podemos concluir que los fenómenos de interferencia en películas de capa delgada de espesor $d$ no serían visibles si $d > l_c$. En otras palabras, el fenómeno de interferencia solo existe si el paquete de onda interfiere consigo mismo."
   ]
  },
  {
   "cell_type": "markdown",
   "id": "db4d20e4",
   "metadata": {
    "cell_style": "split",
    "slideshow": {
     "slide_type": "fragment"
    }
   },
   "source": [
    "<img src=\"./images/interference_thinfilm.png\" width=\"200px\" align= center>\n",
    "\n",
    "<center>Propagación de una onda a través de una película de espesor $d$, con $l_c < d$</center>"
   ]
  },
  {
   "cell_type": "markdown",
   "id": "fce7ef57",
   "metadata": {
    "cell_style": "split",
    "slideshow": {
     "slide_type": "fragment"
    }
   },
   "source": [
    "En general, para una longitud características $d$:\n",
    "\n",
    "- Si $d > l_c$ el **transporte de luz es incoherente** . En este régimen, podemos ignorar las propiedades oscilatorias de la luz, y analizar el problema como el transporte de pequeños paquetes de onda, o simplemente como partículas.\n",
    "\n",
    "- Si $d < l_c$, el **transporte de luz es coherente**. En este régimen debemos considerar las propiedades oscilatorias a partir de las Ecuaciones de Maxwell."
   ]
  },
  {
   "cell_type": "markdown",
   "id": "06aab8e7",
   "metadata": {
    "cell_style": "center",
    "slideshow": {
     "slide_type": "slide"
    }
   },
   "source": [
    "Así, los coeficientes de Fresnel para una película delgada solo son válidos para $d < l_c$. "
   ]
  },
  {
   "cell_type": "markdown",
   "id": "c7f85265",
   "metadata": {
    "cell_style": "split",
    "slideshow": {
     "slide_type": "fragment"
    }
   },
   "source": [
    "Los coeficientes de Fresnel para una interface, en cambio, siempre son válidos."
   ]
  },
  {
   "cell_type": "markdown",
   "id": "57178760",
   "metadata": {
    "cell_style": "split",
    "slideshow": {
     "slide_type": "fragment"
    }
   },
   "source": [
    "<img src=\"./images/interference_interface.png\" width=\"350px\" align= center>\n",
    "\n",
    "<center>Refracción y reflexión de una onda incoherente a través de una interfaz</center>"
   ]
  },
  {
   "cell_type": "markdown",
   "id": "0c79f1b6",
   "metadata": {
    "slideshow": {
     "slide_type": "slide"
    }
   },
   "source": [
    "Igualmente, en medios particulados, los fenómenos de interferencia pueden ocurrir si las partículas están suficientemente cerca y tienen tamaños similares. Llamamos a esto **scattering coherente**"
   ]
  },
  {
   "cell_type": "markdown",
   "id": "61e2a519",
   "metadata": {
    "slideshow": {
     "slide_type": "fragment"
    }
   },
   "source": [
    "<img src=\"./images/scattering_coherence.png\" width=\"600px\" align= center>\n",
    "\n",
    "<center>Fenómeno de interferencia en scattering</center>"
   ]
  },
  {
   "cell_type": "markdown",
   "id": "8167d93c",
   "metadata": {
    "slideshow": {
     "slide_type": "slide"
    }
   },
   "source": [
    "El fenómeno de scattering coherente da lugar a los denominados **colores estructurales** presentes en las alas de las aves y mariposas (mas info [acá](https://wires.onlinelibrary.wiley.com/doi/10.1002/wnan.1396))"
   ]
  },
  {
   "cell_type": "markdown",
   "id": "06446d60",
   "metadata": {
    "cell_style": "split",
    "slideshow": {
     "slide_type": "fragment"
    }
   },
   "source": [
    "<img src=\"./images/structural_colors_birds.png\" width=\"550px\" align= center>\n",
    "\n",
    "<center>Colores estructurales en alas de aves</center>\n",
    "\n",
    "Fuente: [Hwang, V. et al. PNAS 118 (4) e2015551118\n",
    " (2020)](https://www.pnas.org/doi/10.1073/pnas.2015551118)"
   ]
  },
  {
   "cell_type": "markdown",
   "id": "71eaafb2",
   "metadata": {
    "cell_style": "split",
    "slideshow": {
     "slide_type": "fragment"
    }
   },
   "source": [
    "<img src=\"./images/structural_colors_buterflies.png\" width=\"450px\" align= center>\n",
    "\n",
    "<center>Colores estructurales en alas de mariposa</center>\n",
    "\n",
    "Fuente: [Tippets C. A. et al. J. Opt. 18 (2016) 065105](https://iopscience.iop.org/article/10.1088/2040-8978/18/6/065105)"
   ]
  },
  {
   "cell_type": "markdown",
   "id": "f629fcbe",
   "metadata": {
    "slideshow": {
     "slide_type": "slide"
    }
   },
   "source": [
    "## Teoría de transferencia radiativa\n",
    "Si el transporte de luz es incoherente, podemos ignorar las propiedades oscilatorias de la luz y analizar el fenómeno óptico como un el transporte de radiación a través de un volumen de control."
   ]
  },
  {
   "cell_type": "markdown",
   "id": "f62e3c70",
   "metadata": {
    "slideshow": {
     "slide_type": "slide"
    }
   },
   "source": [
    "### Intensidad específica"
   ]
  },
  {
   "cell_type": "markdown",
   "id": "790c7714",
   "metadata": {
    "cell_style": "split",
    "slideshow": {
     "slide_type": "-"
    }
   },
   "source": [
    "Definimos como **radiancia espectral o intensidad específica**, $I_\\lambda$, al flujo de energía por **ángulo sólido diferencial**, $d\\Omega$, para una longitud de onda $\\lambda$.\n",
    "\n",
    "<img src=\"./images/specific_intensity.png\" width=\"300px\" align= center>"
   ]
  },
  {
   "cell_type": "markdown",
   "id": "8568f20b",
   "metadata": {
    "cell_style": "split",
    "slideshow": {
     "slide_type": "fragment"
    }
   },
   "source": [
    "El ángulo sólido define el tamaño relativo del área $S$ para un observador en $P$ a una distancia $r$. \n",
    "\n",
    "El diferencial está definido por $d\\Omega = \\sin\\theta d\\theta d\\phi$\n",
    "\n",
    "<img src=\"./images/solid_angle.png\" width=\"450px\" align= center>"
   ]
  },
  {
   "cell_type": "markdown",
   "id": "0d8ed016",
   "metadata": {
    "slideshow": {
     "slide_type": "slide"
    }
   },
   "source": [
    "Es importante aclarar que los conceptos intensidad específica y vector de Poynting $\\langle\\vec{S}\\rangle$, son equivalentes: $I_\\lambda(\\hat{k})$ es un término utilizado en radiometría para definir el flujo de energía por unidad de ángulo sólido, mientras que $\\langle\\vec{S}\\rangle$ es un término ulizado en óptica para describir el flujo de energía en dirección $\\hat{k}$. Cabe destacar, sin embargo, que $I_\\lambda(\\hat{k})$ es una magnitud, y $\\langle\\vec{S}\\rangle$ es un vector. Así, podríamos decir que la relación entre estos dos términos está dada por $I_\\lambda(\\hat{k}) = \\langle\\vec{S}\\rangle\\cdot\\hat{k}$."
   ]
  },
  {
   "cell_type": "markdown",
   "id": "067ade0b",
   "metadata": {
    "slideshow": {
     "slide_type": "fragment"
    }
   },
   "source": [
    "El ángulo sólido total para una esfera es:\n",
    "\\begin{equation*}\n",
    "\\int_\\mathrm{esfera} d\\Omega = \\int_0^{2\\pi}\\int_0^{\\pi} \\sin\\theta d\\theta d\\phi= 4\\pi\n",
    "\\end{equation*}"
   ]
  },
  {
   "cell_type": "markdown",
   "id": "921c9262",
   "metadata": {
    "slideshow": {
     "slide_type": "slide"
    }
   },
   "source": [
    "### Ecuación de transferencia radiativa\n",
    "La **ecuación de transferencia radiativa** (RTE por sus siglas en ingles), es una ecuación de transporte que describe la propagación de la radiancia espectral, $I_\\lambda(\\vec{r},\\hat{k})$, en función de la posición posición $\\vec{r}$ y dirección $\\hat{k}$. En su forma más general, para un problema estacionario:\n",
    "\n",
    "\\begin{equation}\n",
    "\\hat{k}\\cdot\\nabla_r I_\\lambda(\\vec{r},\\hat{k}) = - \\left[\\frac{f_v}{V_p}C_\\mathrm{ext} + 2\\kappa k_0\\right]I_\\lambda(\\vec{r},\\hat{k}) + \\frac{f_v}{V_p}\\int_{4\\pi} P_\\mathrm{sca}(\\hat{k},\\hat{k}') I_\\lambda(\\vec{r},\\hat{k}') d\\Omega'\n",
    "\\end{equation}"
   ]
  },
  {
   "cell_type": "markdown",
   "id": "44c82ce8",
   "metadata": {
    "slideshow": {
     "slide_type": "fragment"
    }
   },
   "source": [
    "donde $f_v$ y $V_p$ son, respectivamente la fracción de volúmen y el volúmen de las partículas en el medio, y $P_\\mathrm{sca}(\\hat{k},\\hat{k}')$ es la función de fase."
   ]
  },
  {
   "cell_type": "markdown",
   "id": "84f7041f",
   "metadata": {
    "slideshow": {
     "slide_type": "slide"
    }
   },
   "source": [
    "Notar que consideramos el caso más generalizado de la función de fase, que depende tanto de la dirección de la radiación incidente $\\hat{k}$ como de la dirección del scattering $\\hat{k}'$. Ambas definidas por ángulo sólido"
   ]
  },
  {
   "cell_type": "markdown",
   "id": "556660a5",
   "metadata": {
    "cell_style": "center",
    "slideshow": {
     "slide_type": "fragment"
    }
   },
   "source": [
    "En el caso de una esfera, $\\hat{k}_\\mathrm{sca} = \\hat{k}$ y $\\hat{k}_\\mathrm{inc} = \\hat{k}'$. Así, la función de fase depende de $\\theta$, el cual está definido por $\\cos\\theta = \\hat{k}\\cdot\\hat{k}'$\n",
    "\n"
   ]
  },
  {
   "cell_type": "markdown",
   "id": "b7b71333",
   "metadata": {
    "slideshow": {
     "slide_type": "slide"
    }
   },
   "source": [
    "Con esto en mente, ahora podemos discutir el significado de los términos en la RTE:"
   ]
  },
  {
   "cell_type": "markdown",
   "id": "12e1a1e8",
   "metadata": {
    "slideshow": {
     "slide_type": "fragment"
    }
   },
   "source": [
    "- El primer término representa el cambio de $I_\\lambda(\\vec{r},\\hat{k})$ a través volumen diferencial. Por ejemplo, en el caso unidimencional en dirección $\\hat{k} = \\hat{x}$, tenemos: \n",
    "\n",
    "\\begin{equation*}\n",
    "\\hat{x}\\cdot\\nabla_r I_\\lambda(\\vec{r},\\hat{k}) = \\frac{\\partial}{\\partial x}I_\\lambda(\\vec{r},\\hat{k})\n",
    "\\end{equation*}"
   ]
  },
  {
   "cell_type": "markdown",
   "id": "231c3da9",
   "metadata": {
    "slideshow": {
     "slide_type": "fragment"
    }
   },
   "source": [
    "- El segundo término representa la pérdida de energía radiativa, por extinción $\\left(\\frac{f_v}{V_p}C_\\mathrm{ext}\\right)$ y absorción en el material material ($2\\kappa k_0$), respectivamente. Recordemos que la extinción representa la energía absorbida por las partículas + la energía de scattering en direcciónes distintas a $\\hat{k}$, es decir $C_\\mathrm{ext}= C_\\mathrm{abs} + C_\\mathrm{sca}$."
   ]
  },
  {
   "cell_type": "markdown",
   "id": "4754c5ed",
   "metadata": {
    "slideshow": {
     "slide_type": "fragment"
    }
   },
   "source": [
    "- El tercer término representa la ganancia de energía radiativa produco del scattering inducido por radiación incidente en dirección $\\hat{k}'$. Este término representa el fenómeno de **scattering múltiple**."
   ]
  },
  {
   "cell_type": "markdown",
   "id": "43766712",
   "metadata": {
    "slideshow": {
     "slide_type": "slide"
    }
   },
   "source": [
    "## Soluciones de la RTE\n",
    "La ecuación de transferencia radiativa permite explicar de forma fenomenológica el transporte de radiación en un medio particulado. Debido a su complejidad, existen pocas soluciones analíticas. En esta sección describiremos las tres más conocidas."
   ]
  },
  {
   "cell_type": "markdown",
   "id": "6037462f",
   "metadata": {
    "slideshow": {
     "slide_type": "slide"
    }
   },
   "source": [
    "### Película de material sin partículas (Reflectividad y Transmisividad incoherente)\n",
    "En el caso de un medio sin partículas solo debemos considerar el primer término de la RTE. "
   ]
  },
  {
   "cell_type": "markdown",
   "id": "38e80853",
   "metadata": {
    "slideshow": {
     "slide_type": "fragment"
    }
   },
   "source": [
    "Para el caso particular de un material de espesor $t_\\mathrm{film}$ e índice de refracción $N = n + \\kappa$, rodeado por un medio con índice de refracción $N_0$, derivamos las siguientes relaciones de reflectividad y tranmisividad para luz incoherente:\n",
    "\n",
    "\\begin{align}\n",
    "R_\\mathrm{incoh}&= R_0 + \\frac{T_0^2R_0e^{-4\\kappa k_0 t_\\mathrm{film}}}{1 - R_0^2e^{-4\\kappa k_0 t_\\mathrm{film}}} \n",
    "\\\\[10pt]\n",
    "T_\\mathrm{incoh} &= \\frac{T_0^2e^{-4\\kappa k_0 t_\\mathrm{film}}}{1 - R_0^2e^{-4\\kappa k_0 t_\\mathrm{film}}}\n",
    "\\end{align}\n",
    "\n",
    "donde $R_0$ y $T_0$ corresponden, respectivamente, a la reflectividad y transmisividad en la interface $N_0 / N_1$"
   ]
  },
  {
   "cell_type": "markdown",
   "id": "7b8cb924",
   "metadata": {
    "slideshow": {
     "slide_type": "slide"
    }
   },
   "source": [
    "En el siguiente ejemplo, utilizamos la función ```incoh_multilayer``` de la libreria ```empylib.waveoptics```. Esta función es más general que la ecuación anterior y permite determinar $R_\\mathrm{incoh}$ y $T_\\mathrm{incoh}$ para arreglos multicapas. "
   ]
  },
  {
   "cell_type": "markdown",
   "id": "2a3e7bbc",
   "metadata": {
    "slideshow": {
     "slide_type": "fragment"
    }
   },
   "source": [
    "En este caso, evaluaremos una película de sílice de espesor $1~\\mu\\mathrm{m}$, sobre un sustrato con íncide de refracción $N_\\mathrm{back} = 4.3$, y con aire en la superficie $N_\\mathrm{front} = 1.0$. El espectro de longitudes de onda $\\lambda\\in[0.3,0.8]~\\mu\\mathrm{m}$ y el ángulo de incidencia $\\theta_i = 30°$. Para comparar, determinaremos $R$ y $T$ para el caso de luz coherente."
   ]
  },
  {
   "cell_type": "code",
   "execution_count": 5,
   "id": "a99aa431",
   "metadata": {
    "cell_style": "split",
    "slideshow": {
     "slide_type": "slide"
    }
   },
   "outputs": [],
   "source": [
    "import numpy as np\n",
    "import empylib.waveoptics as wv\n",
    "import empylib.nklib as nk\n",
    "\n",
    "lam = np.linspace(2,10,100)  # espectro de longitudes de onda (um)\n",
    "theta = np.radians(30)          # ángulo de incidencia\n",
    "\n",
    "Nfront = 1.0                 # índice de refracción medio superior\n",
    "N1     = nk.SiO2(lam)        # índice de refracción capa delgada\n",
    "Nback  = 4.3                 # índice de refracción medio inferior\n",
    "N = (Nfront, N1, Nback)      # indices de refracción (above, mid, below)\n",
    "d = 1.0                      # espesor capa intermedia (um)\n",
    "\n",
    "# caso luz incoherente\n",
    "Rp_incoh, Tp_incoh = wv.incoh_multilayer(lam,theta, N, d, pol='TM')\n",
    "# caso luz coherente\n",
    "Rp, Tp = wv.multilayer(lam,theta, N, d, pol='TM')[:2]"
   ]
  },
  {
   "cell_type": "code",
   "execution_count": 6,
   "id": "3bee2ad8",
   "metadata": {
    "cell_style": "split",
    "slideshow": {
     "slide_type": "fragment"
    }
   },
   "outputs": [
    {
     "data": {
      "image/png": "[encoded data removed]",
      "text/plain": [
       "<Figure size 504x360 with 1 Axes>"
      ]
     },
     "metadata": {
      "filenames": {
       "image/png": "/mnt/d/OneDrive - Universidad Adolfo Ibanez/Teaching_courses/Manejo_y_Conversion_Energia_Solar_Termica/material_catedra/_build/jupyter_execute/5_TransporteRadiativo/5_TransporteRadiativo_49_0.png"
      },
      "needs_background": "light"
     },
     "output_type": "display_data"
    }
   ],
   "source": [
    "fig, ax = plt.subplots()\n",
    "fig.set_size_inches(7, 5)\n",
    "plt.rcParams['font.size'] = '16'\n",
    "\n",
    "# Graficamos el flujo de energía\n",
    "plt.plot(lam,Rp,'--r',label='$R_\\mathrm{TM}$ (coh)')\n",
    "plt.plot(lam,Tp,'--b',label='$T_\\mathrm{TM}$ (coh)')\n",
    "plt.plot(lam,Rp_incoh,'-r',label='$R_\\mathrm{TM}$ (incoh)')\n",
    "plt.plot(lam,Tp_incoh,'-b',label='$T_\\mathrm{TM}$ (incoh)')\n",
    "plt.title('arreglo 1.0/1.5/4.3')\n",
    "plt.xlabel('Longitud de onda ($\\mu$m)')\n",
    "plt.ylabel('Refletividad / Transmisividad')\n",
    "plt.legend()\n",
    "plt.show()"
   ]
  },
  {
   "cell_type": "markdown",
   "id": "c6ed7877",
   "metadata": {
    "slideshow": {
     "slide_type": "slide"
    }
   },
   "source": [
    "En la figura, para el caso de luz coherente, notamos oscilaciones en $R$ y $T$ producto de los fenómenos de interferencia. En el caso de luz incoherente, el fenómeno de interferencia desaparace."
   ]
  },
  {
   "cell_type": "markdown",
   "id": "a5316b37",
   "metadata": {
    "slideshow": {
     "slide_type": "slide"
    }
   },
   "source": [
    "### Película de material con baja concentración de partículas (Ley de Beer-Lambert)\n",
    "Definimos el **camino libre medio de scattering**, como $\\Lambda_\\mathrm{sca} = \\left(f_v C_\\mathrm{sca}/V_p\\right)^{-1}$. Este parametro representa la distancia promedio que recorre la luz entre eventos de scattering."
   ]
  },
  {
   "cell_type": "markdown",
   "id": "a352fb08",
   "metadata": {
    "cell_style": "center",
    "slideshow": {
     "slide_type": "fragment"
    }
   },
   "source": [
    "Si $\\Lambda_\\mathrm{sca}$ es mayor que el espesor del material, $t_\\mathrm{film}$, la probabilidad de que ocurran más de un evento scattering es despreciable, y decimos que el **scattering es de primer orden**. En este caso, el tercer término de la RTE es despreciable y la radiación solo pierde energía por absorción del material o extinción inducida por las partículas."
   ]
  },
  {
   "cell_type": "markdown",
   "id": "9407f0e6",
   "metadata": {
    "slideshow": {
     "slide_type": "slide"
    }
   },
   "source": [
    "La solución a esta ecuación se conoce como la ley de Beer-Lambert. Mediante esta aproximación podemos deducir las componentes total y especular de la transmitancia:\n",
    "\n",
    "\\begin{equation}\n",
    "T_\\mathrm{tot} = T_0 e^{-f_v\\frac{C_\\mathrm{abs}}{V_p}t_\\mathrm{film}}\\quad\\quad\\mathrm{and}\\quad\\quad \n",
    "T_\\mathrm{spec} = T_0 e^{-f_v\\frac{C_\\mathrm{ext}}{V_p}t_\\mathrm{film}}\n",
    "\\end{equation}\n",
    "\n",
    "donde, $T_0$ es la **transmisividad incoherente del material sin incrustaciones**."
   ]
  },
  {
   "cell_type": "markdown",
   "id": "2f29ecb5",
   "metadata": {
    "slideshow": {
     "slide_type": "fragment"
    }
   },
   "source": [
    "<img src=\"./images/beer_lambert.png\" width=\"500px\" align= center>\n",
    "\n",
    "<center>Transporte de luz en un medio con scattering de primer orden</center>"
   ]
  },
  {
   "cell_type": "markdown",
   "id": "963bc3c6",
   "metadata": {
    "slideshow": {
     "slide_type": "slide"
    }
   },
   "source": [
    "Podemos utilizar la ley de Beer-Lambert para analizar, de forma aproximada, el efecto del color del cielo durante el día y en la tarde."
   ]
  },
  {
   "cell_type": "markdown",
   "id": "227d193d",
   "metadata": {
    "slideshow": {
     "slide_type": "fragment"
    }
   },
   "source": [
    "El color del cielo está dado por la componente difusa. Así calculamos $T_\\mathrm{dif} = T_\\mathrm{tot} - T_\\mathrm{spec}$."
   ]
  },
  {
   "cell_type": "markdown",
   "id": "a2577fed",
   "metadata": {
    "slideshow": {
     "slide_type": "fragment"
    }
   },
   "source": [
    "Consideremos una atmosfera compuesta de aire ($N_h = 1.0$) y una pequeña concentración ($f_v = 1\\times 10^{-6}~\\%$) de partículas de 10 nm de diámetro e índice de refracción $N_p = 1.5$. El espesor de la atmosfera es $t_\\mathrm{atm} = 100~\\mathrm{km}$"
   ]
  },
  {
   "cell_type": "code",
   "execution_count": 7,
   "id": "33491447",
   "metadata": {
    "cell_style": "center",
    "slideshow": {
     "slide_type": "slide"
    }
   },
   "outputs": [],
   "source": [
    "import empylib.rad_transfer as rt\n",
    "import empylib.nklib as nk\n",
    "import numpy as np\n",
    "import matplotlib.pyplot as plt\n",
    "from empylib.ref_spectra import AM15, Bplanck\n",
    "from empylib.ref_spectra import color_system as cs\n",
    "cs = cs.hdtv\n",
    "\n",
    "lam1 = np.linspace(0.38,0.78,100) # espectro de longitudes de onda\n",
    "cs.interp_internals(lam1)\n",
    "def plot_atmosphere(theta_sun):\n",
    "    fig, ax = plt.subplots()          \n",
    "    fig.set_size_inches(8, 5)         # Tamaño del gráfico\n",
    "    plt.rcParams['font.size'] = '14'  # tamaño de  fuente\n",
    "    \n",
    "    # parámetros de entrada\n",
    "    tatm = 100E6                      # espesor de la atmósfera en mm\n",
    "    N = (1.0,1.0,1.0)                 # indice de refracción superior, intermedio e inferior\n",
    "    fvp = 1E-8                        # fracción de volúmen de las partículas\n",
    "    Dp = 0.010                        # diámetro de las partículas\n",
    "    Np = 1.5                          # índice de refracción de las partículas\n",
    "    \n",
    "    # transmitancia total y especular\n",
    "    theta = np.radians(theta_sun)    # posición del sol en radianes\n",
    "    Ttot, Tspec = rt.T_beer_lambert(lam1,theta,tatm,N,fvp,Dp,Np)[:2]\n",
    "    \n",
    "    Tdif = Ttot - Tspec              # transmitancia difusa\n",
    "    ax.plot(lam1,Tdif,'-k',label = 'Tdif')\n",
    "    ax.set_xlabel('Longitud de onda ($\\mu$m)')\n",
    "    ax.set_ylabel('Transmisividad')\n",
    "    ax.set_title(r'Posición del sol, $\\theta_\\mathrm{sun}$=%.1f°'% (theta_sun))\n",
    "    ax.set_ylim(0,1.05)\n",
    "    \n",
    "    Dcircle = 0.25\n",
    "    ax2 = fig.add_axes([0.11,0.15, Dcircle, Dcircle])\n",
    "    Irad = Tdif*Bplanck(lam1,5777)\n",
    "    html_rgb = cs.spec_to_rgb(Irad, out_fmt='html')\n",
    "    Circle = plt.Circle((0, 0), Dcircle, color=html_rgb)\n",
    "    ax2.add_patch(Circle)\n",
    "    ax2.set_aspect('equal')\n",
    "    ax2.set_xlim(-Dcircle*1.2,Dcircle*1.2)\n",
    "    ax2.set_ylim(-Dcircle*1.2,Dcircle*1.2)\n",
    "    ax2.set_xticks([])\n",
    "    ax2.set_yticks([])\n",
    "    ax2.set_facecolor('k')"
   ]
  },
  {
   "cell_type": "code",
   "execution_count": 8,
   "id": "f3b08336",
   "metadata": {
    "cell_style": "center",
    "slideshow": {
     "slide_type": "slide"
    }
   },
   "outputs": [
    {
     "data": {
      "application/vnd.jupyter.widget-view+json": {
       "model_id": "ff8333e82b8e44f4b6530a2bfb7c2784",
       "version_major": 2,
       "version_minor": 0
      },
      "text/plain": [
       "interactive(children=(FloatSlider(value=0.0, description='theta_sun', max=89.99), Output()), _dom_classes=('wi…"
      ]
     },
     "metadata": {},
     "output_type": "display_data"
    }
   ],
   "source": [
    "from ipywidgets import interact\n",
    "\n",
    "@interact(theta_sun=(0,89.99,0.1))\n",
    "def g(theta_sun=0):\n",
    "    return plot_atmosphere(theta_sun)"
   ]
  },
  {
   "cell_type": "markdown",
   "id": "8aa6d072",
   "metadata": {
    "cell_style": "center",
    "slideshow": {
     "slide_type": "slide"
    }
   },
   "source": [
    "### Pelicula de material particulado (simulaciones de transferencia radiativa)\n",
    "Este caso corresponde a materiales con $\\Lambda_\\mathrm{sca} > t_\\mathrm{film}$. En este caso los eventos de scattering se producen más de una vez, y decimos que estámos en un régimen de **scattering múltiple**. Como resultado, los tres términos de la RTE son relevantes y debemos resolver la ecuación mediante simulación computacional.\n",
    "\n",
    "<img src=\"./images/multiple_scattering.png\" width=\"400px\" align= center>\n",
    "\n",
    "<center>Transporte de luz en un medio con scattering múltiple</center>"
   ]
  },
  {
   "cell_type": "markdown",
   "id": "bea5c468",
   "metadata": {
    "slideshow": {
     "slide_type": "slide"
    }
   },
   "source": [
    "Consideremos un material de sílice de espesor $t_\\mathrm{film} = 5~\\mathrm{mm}$. Evaluaremos los colores de este material en transmisión y reflección para luz incidente normal a la superficie en función de la concentración y el diámetro de las partículas. Utilizamos la función ```ad_rad_transfer``` de la librería ```empylib.rad_transfer```"
   ]
  },
  {
   "cell_type": "code",
   "execution_count": 9,
   "id": "24c8d4d6",
   "metadata": {
    "slideshow": {
     "slide_type": "slide"
    }
   },
   "outputs": [],
   "source": [
    "import empylib.rad_transfer as rt\n",
    "import empylib.nklib as nk\n",
    "import empylib.miescattering as mie\n",
    "import numpy as np\n",
    "import matplotlib.pyplot as plt\n",
    "\n",
    "lam2 = np.linspace(0.3,1.0,100) # espectro de longitudes de onda en micrometros\n",
    "Nlayers = (1.0,1.5,1.0)   # indice de refracción superior, intermedio e inferior\n",
    "Np = nk.silver(lam2)                # Índice de refracción de las partículas\n",
    "cs.interp_internals(lam2)\n",
    "\n",
    "def plot_glass_silver(fv,D):\n",
    "    # parámetros de entrada\n",
    "    \n",
    "    theta = np.radians(0)       # 0 grados en radianes\n",
    "    tfilm = 5                   # espesor en milímetros\n",
    "    \n",
    "    fv = fv*1E-7                # fracción de volúmen de las partículas\n",
    "    D = D*1E-3                  # diámetro de las partículas\n",
    "    \n",
    "    qext, qsca = mie.scatter_efficiency(lam2,Nlayers[1],Np,D)[:2]\n",
    "    qabs = qext - qsca\n",
    "    Rtot, Ttot = rt.ad_rad_transfer(lam2,tfilm,Nlayers,fv,D,Np)\n",
    "\n",
    "    fig, ax = plt.subplots(1,3)\n",
    "    fig.set_size_inches(20, 5)\n",
    "    plt.rcParams['font.size'] = '16'\n",
    "    \n",
    "    ax[0].plot(lam2,qsca,'-r',label='$C_\\mathrm{sca} A_c$')\n",
    "    ax[0].plot(lam2,qabs,'-b',label='$C_\\mathrm{abs} A_c$')\n",
    "    ax[0].set_xlabel('Longitud de onda ($\\mu$m)')\n",
    "    ax[0].set_ylabel('Eficiencia transversal')\n",
    "    ax[0].set_title('Partícula de plata (D=%.0f nm)' % (D*1E3))\n",
    "    ax[0].legend()\n",
    "    ax[0].set_ylim(0,10)\n",
    "    \n",
    "    ax[1].plot(lam2,Rtot,'-r',label = 'Rtot')\n",
    "    ax[1].plot(lam2,Ttot,'-b',label = 'Ttot')\n",
    "    ax[1].set_xlabel('Longitud de onda ($\\mu$m)')\n",
    "    ax[1].set_ylabel('Transmisividad')\n",
    "    ax[1].set_title(r'Sílice con plata (fv = %.3e %%)' % (fv*100) )\n",
    "    ax[1].legend()\n",
    "    ax[1].set_ylim(0,1)\n",
    "\n",
    "    Dcircle = 0.20\n",
    "    html_rgb = cs.spec_to_rgb(Ttot*AM15(lam2), out_fmt='html')\n",
    "    Circle = plt.Circle((0, 0), Dcircle, color=html_rgb)\n",
    "    ax[2].add_patch(Circle)\n",
    "    ax[2].annotate('Luz Trasera', xy=(0, 0), va='center', ha='center')\n",
    "\n",
    "    html_rgb = cs.spec_to_rgb(Rtot*AM15(lam2), out_fmt='html')\n",
    "    Circle = plt.Circle((Dcircle*1.2*2, 0), Dcircle, color=html_rgb)\n",
    "    ax[2].add_patch(Circle)\n",
    "    ax[2].annotate('Luz Frontal', xy=(Dcircle*1.2*2, 0), va='center', ha='center')\n",
    "\n",
    "    ax[2].set_aspect('equal')\n",
    "    ax[2].set_xlim(-Dcircle*1.2,Dcircle*1.2*3)\n",
    "    ax[2].set_ylim(-Dcircle*1.2,Dcircle*1.2)\n",
    "    ax[2].set_xticks([])\n",
    "    ax[2].set_yticks([])\n",
    "    ax[2].set_facecolor('k')\n",
    "    plt.subplots_adjust(wspace=0.3)"
   ]
  },
  {
   "cell_type": "code",
   "execution_count": 10,
   "id": "494ceeb2",
   "metadata": {
    "cell_style": "center",
    "slideshow": {
     "slide_type": "slide"
    }
   },
   "outputs": [
    {
     "data": {
      "application/vnd.jupyter.widget-view+json": {
       "model_id": "d033f8776fec479c825098d91f920c9d",
       "version_major": 2,
       "version_minor": 0
      },
      "text/plain": [
       "interactive(children=(IntSlider(value=20, description='fv', min=1), IntSlider(value=70, description='D', max=2…"
      ]
     },
     "metadata": {},
     "output_type": "display_data"
    }
   ],
   "source": [
    "from ipywidgets import interact\n",
    "\n",
    "@interact(fv=(1,100,1), D = (10,200,1))\n",
    "def g(fv=20, D = 70):\n",
    "    return plot_glass_silver(fv,D)"
   ]
  },
  {
   "cell_type": "markdown",
   "id": "031ca52b",
   "metadata": {
    "slideshow": {
     "slide_type": "slide"
    }
   },
   "source": [
    "Cuando la concentración de partículas es densa, el medio se vuelve opaco. Este régimen se denomina **scattering difuso** y permite explicar, entre otras cosas, el color de las nubes o la pintura blanca\n",
    "\n",
    "<img src=\"./images/diffuse_scattering.png\" width=\"400px\" align= center>\n",
    "\n",
    "<center>Transporte de luz en un medio con scattering difuso</center>"
   ]
  },
  {
   "cell_type": "markdown",
   "id": "01df5bd6",
   "metadata": {
    "slideshow": {
     "slide_type": "slide"
    }
   },
   "source": [
    "Un ejemplo interesante corresponde a la leche. En términos simples, la leche es una emulsión formada por pequeñas partículas de grasa dispersas en un medio acuoso. \n",
    "\n",
    "<img src=\"./images/milk_microscope.png\" width=\"400px\" align= center>\n",
    "\n",
    "<center>Imagen de microscópio (40x) de leche orgánica. Las burbujas verdes corresponden al aceite en suspención en agua.</center>\n",
    "\n",
    "Fuente: [Braun K., Hanewald A. and Vilgis T. Foods 8(10): 483(2019)](https://www.ncbi.nlm.nih.gov/pmc/articles/PMC6836175/)"
   ]
  },
  {
   "cell_type": "markdown",
   "id": "225b5528",
   "metadata": {
    "slideshow": {
     "slide_type": "fragment"
    }
   },
   "source": [
    "Como aproximación, consideremos un medio de espesor $1$ cm, compuesto por agua $N_h = 1.3$ y pequeñas partículas esféricas de aceite $N_p = 1.5$. La emulsión considera un 60% de partículas de aceite por volumen."
   ]
  },
  {
   "cell_type": "code",
   "execution_count": 11,
   "id": "72cbfc3e",
   "metadata": {
    "cell_style": "split",
    "slideshow": {
     "slide_type": "slide"
    }
   },
   "outputs": [],
   "source": [
    "%%capture showplot\n",
    "# import empylib.nklib as nk\n",
    "import numpy as np\n",
    "import empylib.rad_transfer as rt\n",
    "\n",
    "# Solo modificar estos parámetros\n",
    "#---------------------------------------------------------------\n",
    "lam3 = np.linspace(0.3,1.0,100)   # espectro de longitudes de onda\n",
    "tfilm = 10                        # espesor en milímetros\n",
    "fv = 0.80                          # fracción de volúmen de los poros\n",
    "D = 1.0                           # diámetro de los poros (micrones)\n",
    "Nh2o = 1.3                        # Índice de refracción del agua\n",
    "Noil = 1.5                        # índice de refracción partículas de aceite\n",
    "#---------------------------------------------------------------\n",
    "Rtot, Ttot = rt.ad_rad_transfer(lam3,tfilm,(1.0,Nh2o,1.0),fv,D,Noil)\n",
    "\n",
    "fig, ax = plt.subplots()\n",
    "fig.set_size_inches(7, 5)\n",
    "plt.rcParams['font.size'] = '16'\n",
    "ax.plot(lam3,Rtot,'-r',label='R')\n",
    "ax.plot(lam3,Ttot,'-b',label='T')\n",
    "ax.set_xlabel('Longitud de onda ($\\mu$m)')\n",
    "ax.set_ylabel('Reflectividad / Transmisividad')\n",
    "ax.set_title(r'Leche (fv = %.0f %%)' % (fv*100))\n",
    "ax.legend()\n",
    "ax.set_ylim(0,1.02)\n",
    "plt.show"
   ]
  },
  {
   "cell_type": "code",
   "execution_count": 12,
   "id": "9a1291f7",
   "metadata": {
    "cell_style": "split",
    "slideshow": {
     "slide_type": "fragment"
    }
   },
   "outputs": [
    {
     "data": {
      "text/plain": [
       "<function matplotlib.pyplot.show(close=None, block=None)>"
      ]
     },
     "metadata": {},
     "output_type": "display_data"
    },
    {
     "data": {
      "image/png": "[encoded data removed]",
      "text/plain": [
       "<Figure size 504x360 with 1 Axes>"
      ]
     },
     "metadata": {
      "filenames": {
       "image/png": "/mnt/d/OneDrive - Universidad Adolfo Ibanez/Teaching_courses/Manejo_y_Conversion_Energia_Solar_Termica/material_catedra/_build/jupyter_execute/5_TransporteRadiativo/5_TransporteRadiativo_68_1.png"
      },
      "needs_background": "light"
     },
     "output_type": "display_data"
    }
   ],
   "source": [
    "showplot()"
   ]
  },
  {
   "cell_type": "markdown",
   "id": "6c035f58",
   "metadata": {
    "slideshow": {
     "slide_type": "slide"
    }
   },
   "source": [
    "Como vemos la alta concentración de partículas hace que la refletividad y transmisividad se vuelvan casi uniformes para todas las longitudes de onda. El espectro, así, toma un color blanco frente a una fuente de luz blanca."
   ]
  },
  {
   "cell_type": "markdown",
   "id": "17c1dc23",
   "metadata": {
    "slideshow": {
     "slide_type": "slide"
    }
   },
   "source": [
    "## Referencias\n",
    "- Chen G. **Chapter 5 - Energy Transfer by Waves** in *Nanoscale energy transport and conversion*, 1st Ed, Oxford University Press, 2005"
   ]
  }
 ],
 "metadata": {
  "celltoolbar": "Slideshow",
  "kernelspec": {
   "display_name": "Python 3 (ipykernel)",
   "language": "python",
   "name": "python3"
  },
  "language_info": {
   "codemirror_mode": {
    "name": "ipython",
    "version": 3
   },
   "file_extension": ".py",
   "mimetype": "text/x-python",
   "name": "python",
   "nbconvert_exporter": "python",
   "pygments_lexer": "ipython3",
   "version": "3.9.13"
  },
  "latex_envs": {
   "LaTeX_envs_menu_present": false,
   "autoclose": false,
   "autocomplete": false,
   "bibliofile": "biblio.bib",
   "cite_by": "apalike",
   "current_citInitial": 1,
   "eqLabelWithNumbers": true,
   "eqNumInitial": 2,
   "hotkeys": {
    "equation": "Ctrl-E",
    "itemize": "Ctrl-I"
   },
   "labels_anchors": false,
   "latex_user_defs": false,
   "report_style_numbering": false,
   "user_envs_cfg": true
  },
  "toc": {
   "base_numbering": 1,
   "nav_menu": {},
   "number_sections": false,
   "sideBar": true,
   "skip_h1_title": true,
   "title_cell": "Tabla de contenidos",
   "title_sidebar": "Contenidos",
   "toc_cell": false,
   "toc_position": {
    "height": "calc(100% - 180px)",
    "left": "10px",
    "top": "150px",
    "width": "307.2px"
   },
   "toc_section_display": true,
   "toc_window_display": false
  },
  "varInspector": {
   "cols": {
    "lenName": 16,
    "lenType": 16,
    "lenVar": 40
   },
   "kernels_config": {
    "python": {
     "delete_cmd_postfix": "",
     "delete_cmd_prefix": "del ",
     "library": "var_list.py",
     "varRefreshCmd": "print(var_dic_list())"
    },
    "r": {
     "delete_cmd_postfix": ") ",
     "delete_cmd_prefix": "rm(",
     "library": "var_list.r",
     "varRefreshCmd": "cat(var_dic_list()) "
    }
   },
   "types_to_exclude": [
    "module",
    "function",
    "builtin_function_or_method",
    "instance",
    "_Feature"
   ],
   "window_display": false
  },
  "widgets": {
   "application/vnd.jupyter.widget-state+json": {
    "state": {
     "05052626a50f4e0ba0d125df58962d34": {
      "model_module": "@jupyter-widgets/controls",
      "model_module_version": "1.5.0",
      "model_name": "SliderStyleModel",
      "state": {
       "_model_module": "@jupyter-widgets/controls",
       "_model_module_version": "1.5.0",
       "_model_name": "SliderStyleModel",
       "_view_count": null,
       "_view_module": "@jupyter-widgets/base",
       "_view_module_version": "1.2.0",
       "_view_name": "StyleView",
       "description_width": "",
       "handle_color": null
      }
     },
     "09414b6508bb4448b903346fe2e9dbd7": {
      "model_module": "@jupyter-widgets/base",
      "model_module_version": "1.2.0",
      "model_name": "LayoutModel",
      "state": {
       "_model_module": "@jupyter-widgets/base",
       "_model_module_version": "1.2.0",
       "_model_name": "LayoutModel",
       "_view_count": null,
       "_view_module": "@jupyter-widgets/base",
       "_view_module_version": "1.2.0",
       "_view_name": "LayoutView",
       "align_content": null,
       "align_items": null,
       "align_self": null,
       "border": null,
       "bottom": null,
       "display": null,
       "flex": null,
       "flex_flow": null,
       "grid_area": null,
       "grid_auto_columns": null,
       "grid_auto_flow": null,
       "grid_auto_rows": null,
       "grid_column": null,
       "grid_gap": null,
       "grid_row": null,
       "grid_template_areas": null,
       "grid_template_columns": null,
       "grid_template_rows": null,
       "height": null,
       "justify_content": null,
       "justify_items": null,
       "left": null,
       "margin": null,
       "max_height": null,
       "max_width": null,
       "min_height": null,
       "min_width": null,
       "object_fit": null,
       "object_position": null,
       "order": null,
       "overflow": null,
       "overflow_x": null,
       "overflow_y": null,
       "padding": null,
       "right": null,
       "top": null,
       "visibility": null,
       "width": null
      }
     },
     "0aa42a42a728496bb4c8e2d2f20290d3": {
      "model_module": "@jupyter-widgets/controls",
      "model_module_version": "1.5.0",
      "model_name": "IntSliderModel",
      "state": {
       "_dom_classes": [],
       "_model_module": "@jupyter-widgets/controls",
       "_model_module_version": "1.5.0",
       "_model_name": "IntSliderModel",
       "_view_count": null,
       "_view_module": "@jupyter-widgets/controls",
       "_view_module_version": "1.5.0",
       "_view_name": "IntSliderView",
       "continuous_update": true,
       "description": "fv",
       "description_tooltip": null,
       "disabled": false,
       "layout": "IPY_MODEL_c57ff26faffd476ab4a23d9e35b97ac5",
       "max": 100,
       "min": 1,
       "orientation": "horizontal",
       "readout": true,
       "readout_format": "d",
       "step": 1,
       "style": "IPY_MODEL_948468e3ad1b4ea8a6b477e0e0a430e8",
       "value": 20
      }
     },
     "0faca607105c4e8781c4210cd2d66bdf": {
      "model_module": "@jupyter-widgets/controls",
      "model_module_version": "1.5.0",
      "model_name": "IntSliderModel",
      "state": {
       "_dom_classes": [],
       "_model_module": "@jupyter-widgets/controls",
       "_model_module_version": "1.5.0",
       "_model_name": "IntSliderModel",
       "_view_count": null,
       "_view_module": "@jupyter-widgets/controls",
       "_view_module_version": "1.5.0",
       "_view_name": "IntSliderView",
       "continuous_update": true,
       "description": "N",
       "description_tooltip": null,
       "disabled": false,
       "layout": "IPY_MODEL_cbf8259c8a224a24a5fa974a6097ee99",
       "max": 1000,
       "min": 1,
       "orientation": "horizontal",
       "readout": true,
       "readout_format": "d",
       "step": 1,
       "style": "IPY_MODEL_dfb875a50afa416ba191e7383c1ff055",
       "value": 1000
      }
     },
     "16660c4a71934794ac38029cc14ae005": {
      "model_module": "@jupyter-widgets/controls",
      "model_module_version": "1.5.0",
      "model_name": "SliderStyleModel",
      "state": {
       "_model_module": "@jupyter-widgets/controls",
       "_model_module_version": "1.5.0",
       "_model_name": "SliderStyleModel",
       "_view_count": null,
       "_view_module": "@jupyter-widgets/base",
       "_view_module_version": "1.2.0",
       "_view_name": "StyleView",
       "description_width": "",
       "handle_color": null
      }
     },
     "1df1988a30bc456e93b9de6ae16c0368": {
      "model_module": "@jupyter-widgets/base",
      "model_module_version": "1.2.0",
      "model_name": "LayoutModel",
      "state": {
       "_model_module": "@jupyter-widgets/base",
       "_model_module_version": "1.2.0",
       "_model_name": "LayoutModel",
       "_view_count": null,
       "_view_module": "@jupyter-widgets/base",
       "_view_module_version": "1.2.0",
       "_view_name": "LayoutView",
       "align_content": null,
       "align_items": null,
       "align_self": null,
       "border": null,
       "bottom": null,
       "display": null,
       "flex": null,
       "flex_flow": null,
       "grid_area": null,
       "grid_auto_columns": null,
       "grid_auto_flow": null,
       "grid_auto_rows": null,
       "grid_column": null,
       "grid_gap": null,
       "grid_row": null,
       "grid_template_areas": null,
       "grid_template_columns": null,
       "grid_template_rows": null,
       "height": null,
       "justify_content": null,
       "justify_items": null,
       "left": null,
       "margin": null,
       "max_height": null,
       "max_width": null,
       "min_height": null,
       "min_width": null,
       "object_fit": null,
       "object_position": null,
       "order": null,
       "overflow": null,
       "overflow_x": null,
       "overflow_y": null,
       "padding": null,
       "right": null,
       "top": null,
       "visibility": null,
       "width": null
      }
     },
     "2dc33356547b4ddb95d43a859ae9450a": {
      "model_module": "@jupyter-widgets/base",
      "model_module_version": "1.2.0",
      "model_name": "LayoutModel",
      "state": {
       "_model_module": "@jupyter-widgets/base",
       "_model_module_version": "1.2.0",
       "_model_name": "LayoutModel",
       "_view_count": null,
       "_view_module": "@jupyter-widgets/base",
       "_view_module_version": "1.2.0",
       "_view_name": "LayoutView",
       "align_content": null,
       "align_items": null,
       "align_self": null,
       "border": null,
       "bottom": null,
       "display": null,
       "flex": null,
       "flex_flow": null,
       "grid_area": null,
       "grid_auto_columns": null,
       "grid_auto_flow": null,
       "grid_auto_rows": null,
       "grid_column": null,
       "grid_gap": null,
       "grid_row": null,
       "grid_template_areas": null,
       "grid_template_columns": null,
       "grid_template_rows": null,
       "height": null,
       "justify_content": null,
       "justify_items": null,
       "left": null,
       "margin": null,
       "max_height": null,
       "max_width": null,
       "min_height": null,
       "min_width": null,
       "object_fit": null,
       "object_position": null,
       "order": null,
       "overflow": null,
       "overflow_x": null,
       "overflow_y": null,
       "padding": null,
       "right": null,
       "top": null,
       "visibility": null,
       "width": null
      }
     },
     "30e9fc4f01904f068e68b8462a9cbf7c": {
      "model_module": "@jupyter-widgets/controls",
      "model_module_version": "1.5.0",
      "model_name": "IntSliderModel",
      "state": {
       "_dom_classes": [],
       "_model_module": "@jupyter-widgets/controls",
       "_model_module_version": "1.5.0",
       "_model_name": "IntSliderModel",
       "_view_count": null,
       "_view_module": "@jupyter-widgets/controls",
       "_view_module_version": "1.5.0",
       "_view_name": "IntSliderView",
       "continuous_update": true,
       "description": "N",
       "description_tooltip": null,
       "disabled": false,
       "layout": "IPY_MODEL_4a5838e320a54bb1ad0d125a5ae6df52",
       "max": 1000,
       "min": 1,
       "orientation": "horizontal",
       "readout": true,
       "readout_format": "d",
       "step": 1,
       "style": "IPY_MODEL_fae0a4261849461ab311594386fc928c",
       "value": 1000
      }
     },
     "32969b3ca1a247ceb429ac191fd85227": {
      "model_module": "@jupyter-widgets/base",
      "model_module_version": "1.2.0",
      "model_name": "LayoutModel",
      "state": {
       "_model_module": "@jupyter-widgets/base",
       "_model_module_version": "1.2.0",
       "_model_name": "LayoutModel",
       "_view_count": null,
       "_view_module": "@jupyter-widgets/base",
       "_view_module_version": "1.2.0",
       "_view_name": "LayoutView",
       "align_content": null,
       "align_items": null,
       "align_self": null,
       "border": null,
       "bottom": null,
       "display": null,
       "flex": null,
       "flex_flow": null,
       "grid_area": null,
       "grid_auto_columns": null,
       "grid_auto_flow": null,
       "grid_auto_rows": null,
       "grid_column": null,
       "grid_gap": null,
       "grid_row": null,
       "grid_template_areas": null,
       "grid_template_columns": null,
       "grid_template_rows": null,
       "height": null,
       "justify_content": null,
       "justify_items": null,
       "left": null,
       "margin": null,
       "max_height": null,
       "max_width": null,
       "min_height": null,
       "min_width": null,
       "object_fit": null,
       "object_position": null,
       "order": null,
       "overflow": null,
       "overflow_x": null,
       "overflow_y": null,
       "padding": null,
       "right": null,
       "top": null,
       "visibility": null,
       "width": null
      }
     },
     "382ea54435a44d14b46827527968e50d": {
      "model_module": "@jupyter-widgets/base",
      "model_module_version": "1.2.0",
      "model_name": "LayoutModel",
      "state": {
       "_model_module": "@jupyter-widgets/base",
       "_model_module_version": "1.2.0",
       "_model_name": "LayoutModel",
       "_view_count": null,
       "_view_module": "@jupyter-widgets/base",
       "_view_module_version": "1.2.0",
       "_view_name": "LayoutView",
       "align_content": null,
       "align_items": null,
       "align_self": null,
       "border": null,
       "bottom": null,
       "display": null,
       "flex": null,
       "flex_flow": null,
       "grid_area": null,
       "grid_auto_columns": null,
       "grid_auto_flow": null,
       "grid_auto_rows": null,
       "grid_column": null,
       "grid_gap": null,
       "grid_row": null,
       "grid_template_areas": null,
       "grid_template_columns": null,
       "grid_template_rows": null,
       "height": null,
       "justify_content": null,
       "justify_items": null,
       "left": null,
       "margin": null,
       "max_height": null,
       "max_width": null,
       "min_height": null,
       "min_width": null,
       "object_fit": null,
       "object_position": null,
       "order": null,
       "overflow": null,
       "overflow_x": null,
       "overflow_y": null,
       "padding": null,
       "right": null,
       "top": null,
       "visibility": null,
       "width": null
      }
     },
     "3c6d09d7efe142199f09c59c854dfca4": {
      "model_module": "@jupyter-widgets/controls",
      "model_module_version": "1.5.0",
      "model_name": "SliderStyleModel",
      "state": {
       "_model_module": "@jupyter-widgets/controls",
       "_model_module_version": "1.5.0",
       "_model_name": "SliderStyleModel",
       "_view_count": null,
       "_view_module": "@jupyter-widgets/base",
       "_view_module_version": "1.2.0",
       "_view_name": "StyleView",
       "description_width": "",
       "handle_color": null
      }
     },
     "4259fb154f1842ad8bfc76f137e858e0": {
      "model_module": "@jupyter-widgets/base",
      "model_module_version": "1.2.0",
      "model_name": "LayoutModel",
      "state": {
       "_model_module": "@jupyter-widgets/base",
       "_model_module_version": "1.2.0",
       "_model_name": "LayoutModel",
       "_view_count": null,
       "_view_module": "@jupyter-widgets/base",
       "_view_module_version": "1.2.0",
       "_view_name": "LayoutView",
       "align_content": null,
       "align_items": null,
       "align_self": null,
       "border": null,
       "bottom": null,
       "display": null,
       "flex": null,
       "flex_flow": null,
       "grid_area": null,
       "grid_auto_columns": null,
       "grid_auto_flow": null,
       "grid_auto_rows": null,
       "grid_column": null,
       "grid_gap": null,
       "grid_row": null,
       "grid_template_areas": null,
       "grid_template_columns": null,
       "grid_template_rows": null,
       "height": null,
       "justify_content": null,
       "justify_items": null,
       "left": null,
       "margin": null,
       "max_height": null,
       "max_width": null,
       "min_height": null,
       "min_width": null,
       "object_fit": null,
       "object_position": null,
       "order": null,
       "overflow": null,
       "overflow_x": null,
       "overflow_y": null,
       "padding": null,
       "right": null,
       "top": null,
       "visibility": null,
       "width": null
      }
     },
     "4289912abe894cb79fb9145dde2c8e13": {
      "model_module": "@jupyter-widgets/output",
      "model_module_version": "1.0.0",
      "model_name": "OutputModel",
      "state": {
       "_dom_classes": [],
       "_model_module": "@jupyter-widgets/output",
       "_model_module_version": "1.0.0",
       "_model_name": "OutputModel",
       "_view_count": null,
       "_view_module": "@jupyter-widgets/output",
       "_view_module_version": "1.0.0",
       "_view_name": "OutputView",
       "layout": "IPY_MODEL_fe4aacb273bf426494da0e0156e25837",
       "msg_id": "",
       "outputs": [
        {
         "data": {
          "image/png": "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\n",
          "text/plain": "<Figure size 648x360 with 1 Axes>"
         },
         "metadata": {
          "needs_background": "light"
         },
         "output_type": "display_data"
        }
       ]
      }
     },
     "4a09e654eb0649ed977c69c5d4533e41": {
      "model_module": "@jupyter-widgets/output",
      "model_module_version": "1.0.0",
      "model_name": "OutputModel",
      "state": {
       "_dom_classes": [],
       "_model_module": "@jupyter-widgets/output",
       "_model_module_version": "1.0.0",
       "_model_name": "OutputModel",
       "_view_count": null,
       "_view_module": "@jupyter-widgets/output",
       "_view_module_version": "1.0.0",
       "_view_name": "OutputView",
       "layout": "IPY_MODEL_6eb74f57d4cf420d929dcd4450123c53",
       "msg_id": "",
       "outputs": [
        {
         "data": {
          "image/png": "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\n",
          "text/plain": "<Figure size 648x360 with 1 Axes>"
         },
         "metadata": {
          "needs_background": "light"
         },
         "output_type": "display_data"
        }
       ]
      }
     },
     "4a5838e320a54bb1ad0d125a5ae6df52": {
      "model_module": "@jupyter-widgets/base",
      "model_module_version": "1.2.0",
      "model_name": "LayoutModel",
      "state": {
       "_model_module": "@jupyter-widgets/base",
       "_model_module_version": "1.2.0",
       "_model_name": "LayoutModel",
       "_view_count": null,
       "_view_module": "@jupyter-widgets/base",
       "_view_module_version": "1.2.0",
       "_view_name": "LayoutView",
       "align_content": null,
       "align_items": null,
       "align_self": null,
       "border": null,
       "bottom": null,
       "display": null,
       "flex": null,
       "flex_flow": null,
       "grid_area": null,
       "grid_auto_columns": null,
       "grid_auto_flow": null,
       "grid_auto_rows": null,
       "grid_column": null,
       "grid_gap": null,
       "grid_row": null,
       "grid_template_areas": null,
       "grid_template_columns": null,
       "grid_template_rows": null,
       "height": null,
       "justify_content": null,
       "justify_items": null,
       "left": null,
       "margin": null,
       "max_height": null,
       "max_width": null,
       "min_height": null,
       "min_width": null,
       "object_fit": null,
       "object_position": null,
       "order": null,
       "overflow": null,
       "overflow_x": null,
       "overflow_y": null,
       "padding": null,
       "right": null,
       "top": null,
       "visibility": null,
       "width": null
      }
     },
     "56c4f2ce03af4bd9b2b44b250b488fbc": {
      "model_module": "@jupyter-widgets/controls",
      "model_module_version": "1.5.0",
      "model_name": "SliderStyleModel",
      "state": {
       "_model_module": "@jupyter-widgets/controls",
       "_model_module_version": "1.5.0",
       "_model_name": "SliderStyleModel",
       "_view_count": null,
       "_view_module": "@jupyter-widgets/base",
       "_view_module_version": "1.2.0",
       "_view_name": "StyleView",
       "description_width": "",
       "handle_color": null
      }
     },
     "5df78d3f1e5e4a01b0a48e8616086c7b": {
      "model_module": "@jupyter-widgets/controls",
      "model_module_version": "1.5.0",
      "model_name": "FloatSliderModel",
      "state": {
       "_dom_classes": [],
       "_model_module": "@jupyter-widgets/controls",
       "_model_module_version": "1.5.0",
       "_model_name": "FloatSliderModel",
       "_view_count": null,
       "_view_module": "@jupyter-widgets/controls",
       "_view_module_version": "1.5.0",
       "_view_name": "FloatSliderView",
       "continuous_update": true,
       "description": "theta_sun",
       "description_tooltip": null,
       "disabled": false,
       "layout": "IPY_MODEL_7b73a3bc35ce4e4aabf754e0407c7a63",
       "max": 89.99,
       "min": 0.0,
       "orientation": "horizontal",
       "readout": true,
       "readout_format": ".2f",
       "step": 0.1,
       "style": "IPY_MODEL_94532900559148829d6a24faba652d49",
       "value": 0.0
      }
     },
     "6eb74f57d4cf420d929dcd4450123c53": {
      "model_module": "@jupyter-widgets/base",
      "model_module_version": "1.2.0",
      "model_name": "LayoutModel",
      "state": {
       "_model_module": "@jupyter-widgets/base",
       "_model_module_version": "1.2.0",
       "_model_name": "LayoutModel",
       "_view_count": null,
       "_view_module": "@jupyter-widgets/base",
       "_view_module_version": "1.2.0",
       "_view_name": "LayoutView",
       "align_content": null,
       "align_items": null,
       "align_self": null,
       "border": null,
       "bottom": null,
       "display": null,
       "flex": null,
       "flex_flow": null,
       "grid_area": null,
       "grid_auto_columns": null,
       "grid_auto_flow": null,
       "grid_auto_rows": null,
       "grid_column": null,
       "grid_gap": null,
       "grid_row": null,
       "grid_template_areas": null,
       "grid_template_columns": null,
       "grid_template_rows": null,
       "height": null,
       "justify_content": null,
       "justify_items": null,
       "left": null,
       "margin": null,
       "max_height": null,
       "max_width": null,
       "min_height": null,
       "min_width": null,
       "object_fit": null,
       "object_position": null,
       "order": null,
       "overflow": null,
       "overflow_x": null,
       "overflow_y": null,
       "padding": null,
       "right": null,
       "top": null,
       "visibility": null,
       "width": null
      }
     },
     "75fc6e594abe45a0b0ef43839beedcea": {
      "model_module": "@jupyter-widgets/controls",
      "model_module_version": "1.5.0",
      "model_name": "VBoxModel",
      "state": {
       "_dom_classes": [
        "widget-interact"
       ],
       "_model_module": "@jupyter-widgets/controls",
       "_model_module_version": "1.5.0",
       "_model_name": "VBoxModel",
       "_view_count": null,
       "_view_module": "@jupyter-widgets/controls",
       "_view_module_version": "1.5.0",
       "_view_name": "VBoxView",
       "box_style": "",
       "children": [
        "IPY_MODEL_30e9fc4f01904f068e68b8462a9cbf7c",
        "IPY_MODEL_9fa5a9bdcdfa4cf4b549722981f4a2f5",
        "IPY_MODEL_836dd58f654e46658b4dd0173eebc15f",
        "IPY_MODEL_4289912abe894cb79fb9145dde2c8e13"
       ],
       "layout": "IPY_MODEL_09414b6508bb4448b903346fe2e9dbd7"
      }
     },
     "7b73a3bc35ce4e4aabf754e0407c7a63": {
      "model_module": "@jupyter-widgets/base",
      "model_module_version": "1.2.0",
      "model_name": "LayoutModel",
      "state": {
       "_model_module": "@jupyter-widgets/base",
       "_model_module_version": "1.2.0",
       "_model_name": "LayoutModel",
       "_view_count": null,
       "_view_module": "@jupyter-widgets/base",
       "_view_module_version": "1.2.0",
       "_view_name": "LayoutView",
       "align_content": null,
       "align_items": null,
       "align_self": null,
       "border": null,
       "bottom": null,
       "display": null,
       "flex": null,
       "flex_flow": null,
       "grid_area": null,
       "grid_auto_columns": null,
       "grid_auto_flow": null,
       "grid_auto_rows": null,
       "grid_column": null,
       "grid_gap": null,
       "grid_row": null,
       "grid_template_areas": null,
       "grid_template_columns": null,
       "grid_template_rows": null,
       "height": null,
       "justify_content": null,
       "justify_items": null,
       "left": null,
       "margin": null,
       "max_height": null,
       "max_width": null,
       "min_height": null,
       "min_width": null,
       "object_fit": null,
       "object_position": null,
       "order": null,
       "overflow": null,
       "overflow_x": null,
       "overflow_y": null,
       "padding": null,
       "right": null,
       "top": null,
       "visibility": null,
       "width": null
      }
     },
     "836dd58f654e46658b4dd0173eebc15f": {
      "model_module": "@jupyter-widgets/controls",
      "model_module_version": "1.5.0",
      "model_name": "FloatSliderModel",
      "state": {
       "_dom_classes": [],
       "_model_module": "@jupyter-widgets/controls",
       "_model_module_version": "1.5.0",
       "_model_name": "FloatSliderModel",
       "_view_count": null,
       "_view_module": "@jupyter-widgets/controls",
       "_view_module_version": "1.5.0",
       "_view_name": "FloatSliderView",
       "continuous_update": true,
       "description": "sig",
       "description_tooltip": null,
       "disabled": false,
       "layout": "IPY_MODEL_32969b3ca1a247ceb429ac191fd85227",
       "max": 1.0,
       "min": 0.0,
       "orientation": "horizontal",
       "readout": true,
       "readout_format": ".2f",
       "step": 0.01,
       "style": "IPY_MODEL_56c4f2ce03af4bd9b2b44b250b488fbc",
       "value": 0.3
      }
     },
     "83b929c1cb7346cfb4858ab90aa554ce": {
      "model_module": "@jupyter-widgets/controls",
      "model_module_version": "1.5.0",
      "model_name": "VBoxModel",
      "state": {
       "_dom_classes": [
        "widget-interact"
       ],
       "_model_module": "@jupyter-widgets/controls",
       "_model_module_version": "1.5.0",
       "_model_name": "VBoxModel",
       "_view_count": null,
       "_view_module": "@jupyter-widgets/controls",
       "_view_module_version": "1.5.0",
       "_view_name": "VBoxView",
       "box_style": "",
       "children": [
        "IPY_MODEL_0faca607105c4e8781c4210cd2d66bdf",
        "IPY_MODEL_9f5dfa4ba1924e80ad784ab3bace5913",
        "IPY_MODEL_eccaf55a5cda4c37a71728d428506722",
        "IPY_MODEL_4a09e654eb0649ed977c69c5d4533e41"
       ],
       "layout": "IPY_MODEL_382ea54435a44d14b46827527968e50d"
      }
     },
     "84dd4e539da04a4e9f21eca407f205ac": {
      "model_module": "@jupyter-widgets/output",
      "model_module_version": "1.0.0",
      "model_name": "OutputModel",
      "state": {
       "_dom_classes": [],
       "_model_module": "@jupyter-widgets/output",
       "_model_module_version": "1.0.0",
       "_model_name": "OutputModel",
       "_view_count": null,
       "_view_module": "@jupyter-widgets/output",
       "_view_module_version": "1.0.0",
       "_view_name": "OutputView",
       "layout": "IPY_MODEL_e72ca5e7d2df42d1b739ac7584eec41a",
       "msg_id": "",
       "outputs": [
        {
         "data": {
          "image/png": "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\n",
          "text/plain": "<Figure size 576x360 with 2 Axes>"
         },
         "metadata": {
          "needs_background": "light"
         },
         "output_type": "display_data"
        }
       ]
      }
     },
     "8633ca22ad49432d8a67141d3c0bfad9": {
      "model_module": "@jupyter-widgets/controls",
      "model_module_version": "1.5.0",
      "model_name": "IntSliderModel",
      "state": {
       "_dom_classes": [],
       "_model_module": "@jupyter-widgets/controls",
       "_model_module_version": "1.5.0",
       "_model_name": "IntSliderModel",
       "_view_count": null,
       "_view_module": "@jupyter-widgets/controls",
       "_view_module_version": "1.5.0",
       "_view_name": "IntSliderView",
       "continuous_update": true,
       "description": "D",
       "description_tooltip": null,
       "disabled": false,
       "layout": "IPY_MODEL_2dc33356547b4ddb95d43a859ae9450a",
       "max": 200,
       "min": 10,
       "orientation": "horizontal",
       "readout": true,
       "readout_format": "d",
       "step": 1,
       "style": "IPY_MODEL_05052626a50f4e0ba0d125df58962d34",
       "value": 70
      }
     },
     "8b8ff885250649fa8ade04945a6901bc": {
      "model_module": "@jupyter-widgets/base",
      "model_module_version": "1.2.0",
      "model_name": "LayoutModel",
      "state": {
       "_model_module": "@jupyter-widgets/base",
       "_model_module_version": "1.2.0",
       "_model_name": "LayoutModel",
       "_view_count": null,
       "_view_module": "@jupyter-widgets/base",
       "_view_module_version": "1.2.0",
       "_view_name": "LayoutView",
       "align_content": null,
       "align_items": null,
       "align_self": null,
       "border": null,
       "bottom": null,
       "display": null,
       "flex": null,
       "flex_flow": null,
       "grid_area": null,
       "grid_auto_columns": null,
       "grid_auto_flow": null,
       "grid_auto_rows": null,
       "grid_column": null,
       "grid_gap": null,
       "grid_row": null,
       "grid_template_areas": null,
       "grid_template_columns": null,
       "grid_template_rows": null,
       "height": null,
       "justify_content": null,
       "justify_items": null,
       "left": null,
       "margin": null,
       "max_height": null,
       "max_width": null,
       "min_height": null,
       "min_width": null,
       "object_fit": null,
       "object_position": null,
       "order": null,
       "overflow": null,
       "overflow_x": null,
       "overflow_y": null,
       "padding": null,
       "right": null,
       "top": null,
       "visibility": null,
       "width": null
      }
     },
     "8e4f0cf4a4984f26a97ec05fe41d8060": {
      "model_module": "@jupyter-widgets/base",
      "model_module_version": "1.2.0",
      "model_name": "LayoutModel",
      "state": {
       "_model_module": "@jupyter-widgets/base",
       "_model_module_version": "1.2.0",
       "_model_name": "LayoutModel",
       "_view_count": null,
       "_view_module": "@jupyter-widgets/base",
       "_view_module_version": "1.2.0",
       "_view_name": "LayoutView",
       "align_content": null,
       "align_items": null,
       "align_self": null,
       "border": null,
       "bottom": null,
       "display": null,
       "flex": null,
       "flex_flow": null,
       "grid_area": null,
       "grid_auto_columns": null,
       "grid_auto_flow": null,
       "grid_auto_rows": null,
       "grid_column": null,
       "grid_gap": null,
       "grid_row": null,
       "grid_template_areas": null,
       "grid_template_columns": null,
       "grid_template_rows": null,
       "height": null,
       "justify_content": null,
       "justify_items": null,
       "left": null,
       "margin": null,
       "max_height": null,
       "max_width": null,
       "min_height": null,
       "min_width": null,
       "object_fit": null,
       "object_position": null,
       "order": null,
       "overflow": null,
       "overflow_x": null,
       "overflow_y": null,
       "padding": null,
       "right": null,
       "top": null,
       "visibility": null,
       "width": null
      }
     },
     "94532900559148829d6a24faba652d49": {
      "model_module": "@jupyter-widgets/controls",
      "model_module_version": "1.5.0",
      "model_name": "SliderStyleModel",
      "state": {
       "_model_module": "@jupyter-widgets/controls",
       "_model_module_version": "1.5.0",
       "_model_name": "SliderStyleModel",
       "_view_count": null,
       "_view_module": "@jupyter-widgets/base",
       "_view_module_version": "1.2.0",
       "_view_name": "StyleView",
       "description_width": "",
       "handle_color": null
      }
     },
     "948468e3ad1b4ea8a6b477e0e0a430e8": {
      "model_module": "@jupyter-widgets/controls",
      "model_module_version": "1.5.0",
      "model_name": "SliderStyleModel",
      "state": {
       "_model_module": "@jupyter-widgets/controls",
       "_model_module_version": "1.5.0",
       "_model_name": "SliderStyleModel",
       "_view_count": null,
       "_view_module": "@jupyter-widgets/base",
       "_view_module_version": "1.2.0",
       "_view_name": "StyleView",
       "description_width": "",
       "handle_color": null
      }
     },
     "9f5dfa4ba1924e80ad784ab3bace5913": {
      "model_module": "@jupyter-widgets/controls",
      "model_module_version": "1.5.0",
      "model_name": "FloatSliderModel",
      "state": {
       "_dom_classes": [],
       "_model_module": "@jupyter-widgets/controls",
       "_model_module_version": "1.5.0",
       "_model_name": "FloatSliderModel",
       "_view_count": null,
       "_view_module": "@jupyter-widgets/controls",
       "_view_module_version": "1.5.0",
       "_view_name": "FloatSliderView",
       "continuous_update": true,
       "description": "t",
       "description_tooltip": null,
       "disabled": false,
       "layout": "IPY_MODEL_4259fb154f1842ad8bfc76f137e858e0",
       "max": 20.0,
       "min": 0.0,
       "orientation": "horizontal",
       "readout": true,
       "readout_format": ".2f",
       "step": 0.1,
       "style": "IPY_MODEL_dc7a864bcafa46e4bdee513835493be7",
       "value": 2.0
      }
     },
     "9fa5a9bdcdfa4cf4b549722981f4a2f5": {
      "model_module": "@jupyter-widgets/controls",
      "model_module_version": "1.5.0",
      "model_name": "FloatSliderModel",
      "state": {
       "_dom_classes": [],
       "_model_module": "@jupyter-widgets/controls",
       "_model_module_version": "1.5.0",
       "_model_name": "FloatSliderModel",
       "_view_count": null,
       "_view_module": "@jupyter-widgets/controls",
       "_view_module_version": "1.5.0",
       "_view_name": "FloatSliderView",
       "continuous_update": true,
       "description": "t",
       "description_tooltip": null,
       "disabled": false,
       "layout": "IPY_MODEL_d040c75aef964d6d96222fedbd3d7e13",
       "max": 10.0,
       "min": -10.0,
       "orientation": "horizontal",
       "readout": true,
       "readout_format": ".2f",
       "step": 0.1,
       "style": "IPY_MODEL_3c6d09d7efe142199f09c59c854dfca4",
       "value": 0.0
      }
     },
     "a003dfed3c28476882e154b614d0b2fe": {
      "model_module": "@jupyter-widgets/base",
      "model_module_version": "1.2.0",
      "model_name": "LayoutModel",
      "state": {
       "_model_module": "@jupyter-widgets/base",
       "_model_module_version": "1.2.0",
       "_model_name": "LayoutModel",
       "_view_count": null,
       "_view_module": "@jupyter-widgets/base",
       "_view_module_version": "1.2.0",
       "_view_name": "LayoutView",
       "align_content": null,
       "align_items": null,
       "align_self": null,
       "border": null,
       "bottom": null,
       "display": null,
       "flex": null,
       "flex_flow": null,
       "grid_area": null,
       "grid_auto_columns": null,
       "grid_auto_flow": null,
       "grid_auto_rows": null,
       "grid_column": null,
       "grid_gap": null,
       "grid_row": null,
       "grid_template_areas": null,
       "grid_template_columns": null,
       "grid_template_rows": null,
       "height": null,
       "justify_content": null,
       "justify_items": null,
       "left": null,
       "margin": null,
       "max_height": null,
       "max_width": null,
       "min_height": null,
       "min_width": null,
       "object_fit": null,
       "object_position": null,
       "order": null,
       "overflow": null,
       "overflow_x": null,
       "overflow_y": null,
       "padding": null,
       "right": null,
       "top": null,
       "visibility": null,
       "width": null
      }
     },
     "c57ff26faffd476ab4a23d9e35b97ac5": {
      "model_module": "@jupyter-widgets/base",
      "model_module_version": "1.2.0",
      "model_name": "LayoutModel",
      "state": {
       "_model_module": "@jupyter-widgets/base",
       "_model_module_version": "1.2.0",
       "_model_name": "LayoutModel",
       "_view_count": null,
       "_view_module": "@jupyter-widgets/base",
       "_view_module_version": "1.2.0",
       "_view_name": "LayoutView",
       "align_content": null,
       "align_items": null,
       "align_self": null,
       "border": null,
       "bottom": null,
       "display": null,
       "flex": null,
       "flex_flow": null,
       "grid_area": null,
       "grid_auto_columns": null,
       "grid_auto_flow": null,
       "grid_auto_rows": null,
       "grid_column": null,
       "grid_gap": null,
       "grid_row": null,
       "grid_template_areas": null,
       "grid_template_columns": null,
       "grid_template_rows": null,
       "height": null,
       "justify_content": null,
       "justify_items": null,
       "left": null,
       "margin": null,
       "max_height": null,
       "max_width": null,
       "min_height": null,
       "min_width": null,
       "object_fit": null,
       "object_position": null,
       "order": null,
       "overflow": null,
       "overflow_x": null,
       "overflow_y": null,
       "padding": null,
       "right": null,
       "top": null,
       "visibility": null,
       "width": null
      }
     },
     "c9df8bd5533741339870f5918f942963": {
      "model_module": "@jupyter-widgets/output",
      "model_module_version": "1.0.0",
      "model_name": "OutputModel",
      "state": {
       "_dom_classes": [],
       "_model_module": "@jupyter-widgets/output",
       "_model_module_version": "1.0.0",
       "_model_name": "OutputModel",
       "_view_count": null,
       "_view_module": "@jupyter-widgets/output",
       "_view_module_version": "1.0.0",
       "_view_name": "OutputView",
       "layout": "IPY_MODEL_1df1988a30bc456e93b9de6ae16c0368",
       "msg_id": "",
       "outputs": [
        {
         "data": {
          "image/png": "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\n",
          "text/plain": "<Figure size 1440x360 with 3 Axes>"
         },
         "metadata": {
          "needs_background": "light"
         },
         "output_type": "display_data"
        }
       ]
      }
     },
     "cbf8259c8a224a24a5fa974a6097ee99": {
      "model_module": "@jupyter-widgets/base",
      "model_module_version": "1.2.0",
      "model_name": "LayoutModel",
      "state": {
       "_model_module": "@jupyter-widgets/base",
       "_model_module_version": "1.2.0",
       "_model_name": "LayoutModel",
       "_view_count": null,
       "_view_module": "@jupyter-widgets/base",
       "_view_module_version": "1.2.0",
       "_view_name": "LayoutView",
       "align_content": null,
       "align_items": null,
       "align_self": null,
       "border": null,
       "bottom": null,
       "display": null,
       "flex": null,
       "flex_flow": null,
       "grid_area": null,
       "grid_auto_columns": null,
       "grid_auto_flow": null,
       "grid_auto_rows": null,
       "grid_column": null,
       "grid_gap": null,
       "grid_row": null,
       "grid_template_areas": null,
       "grid_template_columns": null,
       "grid_template_rows": null,
       "height": null,
       "justify_content": null,
       "justify_items": null,
       "left": null,
       "margin": null,
       "max_height": null,
       "max_width": null,
       "min_height": null,
       "min_width": null,
       "object_fit": null,
       "object_position": null,
       "order": null,
       "overflow": null,
       "overflow_x": null,
       "overflow_y": null,
       "padding": null,
       "right": null,
       "top": null,
       "visibility": null,
       "width": null
      }
     },
     "d033f8776fec479c825098d91f920c9d": {
      "model_module": "@jupyter-widgets/controls",
      "model_module_version": "1.5.0",
      "model_name": "VBoxModel",
      "state": {
       "_dom_classes": [
        "widget-interact"
       ],
       "_model_module": "@jupyter-widgets/controls",
       "_model_module_version": "1.5.0",
       "_model_name": "VBoxModel",
       "_view_count": null,
       "_view_module": "@jupyter-widgets/controls",
       "_view_module_version": "1.5.0",
       "_view_name": "VBoxView",
       "box_style": "",
       "children": [
        "IPY_MODEL_0aa42a42a728496bb4c8e2d2f20290d3",
        "IPY_MODEL_8633ca22ad49432d8a67141d3c0bfad9",
        "IPY_MODEL_c9df8bd5533741339870f5918f942963"
       ],
       "layout": "IPY_MODEL_a003dfed3c28476882e154b614d0b2fe"
      }
     },
     "d040c75aef964d6d96222fedbd3d7e13": {
      "model_module": "@jupyter-widgets/base",
      "model_module_version": "1.2.0",
      "model_name": "LayoutModel",
      "state": {
       "_model_module": "@jupyter-widgets/base",
       "_model_module_version": "1.2.0",
       "_model_name": "LayoutModel",
       "_view_count": null,
       "_view_module": "@jupyter-widgets/base",
       "_view_module_version": "1.2.0",
       "_view_name": "LayoutView",
       "align_content": null,
       "align_items": null,
       "align_self": null,
       "border": null,
       "bottom": null,
       "display": null,
       "flex": null,
       "flex_flow": null,
       "grid_area": null,
       "grid_auto_columns": null,
       "grid_auto_flow": null,
       "grid_auto_rows": null,
       "grid_column": null,
       "grid_gap": null,
       "grid_row": null,
       "grid_template_areas": null,
       "grid_template_columns": null,
       "grid_template_rows": null,
       "height": null,
       "justify_content": null,
       "justify_items": null,
       "left": null,
       "margin": null,
       "max_height": null,
       "max_width": null,
       "min_height": null,
       "min_width": null,
       "object_fit": null,
       "object_position": null,
       "order": null,
       "overflow": null,
       "overflow_x": null,
       "overflow_y": null,
       "padding": null,
       "right": null,
       "top": null,
       "visibility": null,
       "width": null
      }
     },
     "dc7a864bcafa46e4bdee513835493be7": {
      "model_module": "@jupyter-widgets/controls",
      "model_module_version": "1.5.0",
      "model_name": "SliderStyleModel",
      "state": {
       "_model_module": "@jupyter-widgets/controls",
       "_model_module_version": "1.5.0",
       "_model_name": "SliderStyleModel",
       "_view_count": null,
       "_view_module": "@jupyter-widgets/base",
       "_view_module_version": "1.2.0",
       "_view_name": "StyleView",
       "description_width": "",
       "handle_color": null
      }
     },
     "dfb875a50afa416ba191e7383c1ff055": {
      "model_module": "@jupyter-widgets/controls",
      "model_module_version": "1.5.0",
      "model_name": "SliderStyleModel",
      "state": {
       "_model_module": "@jupyter-widgets/controls",
       "_model_module_version": "1.5.0",
       "_model_name": "SliderStyleModel",
       "_view_count": null,
       "_view_module": "@jupyter-widgets/base",
       "_view_module_version": "1.2.0",
       "_view_name": "StyleView",
       "description_width": "",
       "handle_color": null
      }
     },
     "e72ca5e7d2df42d1b739ac7584eec41a": {
      "model_module": "@jupyter-widgets/base",
      "model_module_version": "1.2.0",
      "model_name": "LayoutModel",
      "state": {
       "_model_module": "@jupyter-widgets/base",
       "_model_module_version": "1.2.0",
       "_model_name": "LayoutModel",
       "_view_count": null,
       "_view_module": "@jupyter-widgets/base",
       "_view_module_version": "1.2.0",
       "_view_name": "LayoutView",
       "align_content": null,
       "align_items": null,
       "align_self": null,
       "border": null,
       "bottom": null,
       "display": null,
       "flex": null,
       "flex_flow": null,
       "grid_area": null,
       "grid_auto_columns": null,
       "grid_auto_flow": null,
       "grid_auto_rows": null,
       "grid_column": null,
       "grid_gap": null,
       "grid_row": null,
       "grid_template_areas": null,
       "grid_template_columns": null,
       "grid_template_rows": null,
       "height": null,
       "justify_content": null,
       "justify_items": null,
       "left": null,
       "margin": null,
       "max_height": null,
       "max_width": null,
       "min_height": null,
       "min_width": null,
       "object_fit": null,
       "object_position": null,
       "order": null,
       "overflow": null,
       "overflow_x": null,
       "overflow_y": null,
       "padding": null,
       "right": null,
       "top": null,
       "visibility": null,
       "width": null
      }
     },
     "eccaf55a5cda4c37a71728d428506722": {
      "model_module": "@jupyter-widgets/controls",
      "model_module_version": "1.5.0",
      "model_name": "FloatSliderModel",
      "state": {
       "_dom_classes": [],
       "_model_module": "@jupyter-widgets/controls",
       "_model_module_version": "1.5.0",
       "_model_name": "FloatSliderModel",
       "_view_count": null,
       "_view_module": "@jupyter-widgets/controls",
       "_view_module_version": "1.5.0",
       "_view_name": "FloatSliderView",
       "continuous_update": true,
       "description": "sig",
       "description_tooltip": null,
       "disabled": false,
       "layout": "IPY_MODEL_8e4f0cf4a4984f26a97ec05fe41d8060",
       "max": 1.0,
       "min": 0.0,
       "orientation": "horizontal",
       "readout": true,
       "readout_format": ".2f",
       "step": 0.01,
       "style": "IPY_MODEL_16660c4a71934794ac38029cc14ae005",
       "value": 0.3
      }
     },
     "fae0a4261849461ab311594386fc928c": {
      "model_module": "@jupyter-widgets/controls",
      "model_module_version": "1.5.0",
      "model_name": "SliderStyleModel",
      "state": {
       "_model_module": "@jupyter-widgets/controls",
       "_model_module_version": "1.5.0",
       "_model_name": "SliderStyleModel",
       "_view_count": null,
       "_view_module": "@jupyter-widgets/base",
       "_view_module_version": "1.2.0",
       "_view_name": "StyleView",
       "description_width": "",
       "handle_color": null
      }
     },
     "fe4aacb273bf426494da0e0156e25837": {
      "model_module": "@jupyter-widgets/base",
      "model_module_version": "1.2.0",
      "model_name": "LayoutModel",
      "state": {
       "_model_module": "@jupyter-widgets/base",
       "_model_module_version": "1.2.0",
       "_model_name": "LayoutModel",
       "_view_count": null,
       "_view_module": "@jupyter-widgets/base",
       "_view_module_version": "1.2.0",
       "_view_name": "LayoutView",
       "align_content": null,
       "align_items": null,
       "align_self": null,
       "border": null,
       "bottom": null,
       "display": null,
       "flex": null,
       "flex_flow": null,
       "grid_area": null,
       "grid_auto_columns": null,
       "grid_auto_flow": null,
       "grid_auto_rows": null,
       "grid_column": null,
       "grid_gap": null,
       "grid_row": null,
       "grid_template_areas": null,
       "grid_template_columns": null,
       "grid_template_rows": null,
       "height": null,
       "justify_content": null,
       "justify_items": null,
       "left": null,
       "margin": null,
       "max_height": null,
       "max_width": null,
       "min_height": null,
       "min_width": null,
       "object_fit": null,
       "object_position": null,
       "order": null,
       "overflow": null,
       "overflow_x": null,
       "overflow_y": null,
       "padding": null,
       "right": null,
       "top": null,
       "visibility": null,
       "width": null
      }
     },
     "ff8333e82b8e44f4b6530a2bfb7c2784": {
      "model_module": "@jupyter-widgets/controls",
      "model_module_version": "1.5.0",
      "model_name": "VBoxModel",
      "state": {
       "_dom_classes": [
        "widget-interact"
       ],
       "_model_module": "@jupyter-widgets/controls",
       "_model_module_version": "1.5.0",
       "_model_name": "VBoxModel",
       "_view_count": null,
       "_view_module": "@jupyter-widgets/controls",
       "_view_module_version": "1.5.0",
       "_view_name": "VBoxView",
       "box_style": "",
       "children": [
        "IPY_MODEL_5df78d3f1e5e4a01b0a48e8616086c7b",
        "IPY_MODEL_84dd4e539da04a4e9f21eca407f205ac"
       ],
       "layout": "IPY_MODEL_8b8ff885250649fa8ade04945a6901bc"
      }
     }
    },
    "version_major": 2,
    "version_minor": 0
   }
  }
 },
 "nbformat": 4,
 "nbformat_minor": 5
}