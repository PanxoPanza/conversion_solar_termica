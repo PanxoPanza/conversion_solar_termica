{
 "cells": [
  {
   "cell_type": "markdown",
   "id": "8b01ca79",
   "metadata": {
    "slideshow": {
     "slide_type": "slide"
    }
   },
   "source": [
    " <font size=\"6\">MEC501 - Manejo y Conversión de Energía Solar Térmica</font>\n",
    "# Transporte Radiativo\n",
    "<br><br><br><br>\n",
    "Profesor: Francisco Ramírez Cuevas<br>\n",
    "Fecha: 9 de Septiembre 2022"
   ]
  },
  {
   "cell_type": "markdown",
   "id": "9ff4cae4",
   "metadata": {
    "slideshow": {
     "slide_type": "slide"
    }
   },
   "source": [
    "## Coherencia de la luz e interferencia\n",
    "Como veremos en las próximas clases, las vibraciones moleculares en la materia son las responsables de emitir radiación en forma de ondas electromagnéticas. El mecanismo es similar, pero inverso, al mecanismo de absorción de luz, el cual es originado por la interacción de ondas electromagnéticas con las vibraciones moleculares (ver clase 3)."
   ]
  },
  {
   "cell_type": "markdown",
   "id": "bcb7cf39",
   "metadata": {
    "slideshow": {
     "slide_type": "fragment"
    }
   },
   "source": [
    "Dicho esto, dos moléculas pueden emitir radiación con una pequeña variación en la longitud de onda $\\Delta\\lambda$. Esto ocurre porque las vibraciones no están 100% correlacionadas, es decir, existe un grado de aletoriedad en las vibraciones."
   ]
  },
  {
   "cell_type": "markdown",
   "id": "16081fa2",
   "metadata": {
    "slideshow": {
     "slide_type": "slide"
    }
   },
   "source": [
    "Esta aletoriedad en las vibraciones da lugar a una distribución del flujo de radiación emitido por una fuente.\n",
    "\n",
    "<img src=\"./images/light_source_spectra.png\" width=\"800px\" align= center>"
   ]
  },
  {
   "cell_type": "markdown",
   "id": "b54cf722",
   "metadata": {
    "slideshow": {
     "slide_type": "slide"
    }
   },
   "source": [
    "Por ejemplo, consideremos una fuente de luz con una distribución espectral normal, centrada en $\\lambda_0$ y con una desviación estandar $\\pm\\sigma_\\lambda\\lambda_0$, con $\\sigma_\\lambda \\in [0,1]$. Imaginemos esta fuente como $N$ emisores, donde cada emisor $j$ emite ondas electromagnéticas con longitud de onda $\\lambda \\pm\\Delta \\lambda_j$, donde $\\Delta \\lambda_j$ es escogido aleatoriamente a partir de la distribución normal."
   ]
  },
  {
   "cell_type": "markdown",
   "id": "31f81723",
   "metadata": {
    "cell_style": "split",
    "slideshow": {
     "slide_type": "fragment"
    }
   },
   "source": [
    "<img src=\"./images/normal_distribution.png\" width=\"400px\" align= center>"
   ]
  },
  {
   "cell_type": "markdown",
   "id": "76d68ef4",
   "metadata": {
    "cell_style": "split",
    "slideshow": {
     "slide_type": "fragment"
    }
   },
   "source": [
    "Asumiendo ondas en el aire en dirección $\\hat{k} = \\hat{x}$, el campo eléctrico resultante es:\n",
    "\n",
    "\\begin{equation*}\n",
    "\\vec{E}_\\mathrm{tot} = \\sum_j^N E_0e^{i\\left(k_jx - \\omega_j t\\right)} \\hat{z},\n",
    "\\end{equation*}\n",
    "\n",
    "donde $k_j = \\frac{2\\pi}{\\lambda \\pm\\Delta \\lambda_j}$, y $\\omega_j = c_0k_j$"
   ]
  },
  {
   "cell_type": "markdown",
   "id": "e5e55e68",
   "metadata": {
    "cell_style": "center",
    "slideshow": {
     "slide_type": "fragment"
    }
   },
   "source": [
    "Analicemos el comportamiento de $\\vec{E}_\\mathrm{tot} /E_0$ para $\\lambda_0 = 500$ nm"
   ]
  },
  {
   "cell_type": "code",
   "execution_count": 1,
   "id": "37df7e74",
   "metadata": {
    "cell_style": "split",
    "slideshow": {
     "slide_type": "slide"
    }
   },
   "outputs": [],
   "source": [
    "import numpy as np\n",
    "from numpy.random import normal\n",
    "import matplotlib.pyplot as plt\n",
    "\n",
    "def light_packet(kdir, x, t, lam, sig, N):\n",
    "    c0 = 3E8          # velocidad de la luz (m/s)\n",
    "    xx = np.meshgrid(x,np.ones(N))[0]\n",
    "    \n",
    "    # Generamos arreglo de ondas aleatorias\n",
    "    dlamj =  normal(0, lam*sig,N)\n",
    "    kj = (2*np.pi/(lam + dlamj)).reshape(-1,1)\n",
    "    wj = c0*kj\n",
    "    Erand = np.exp(1j*(kdir*kj*xx-wj*t)) \n",
    "    \n",
    "    # Sumamos todas las ondas\n",
    "    return np.sum(Erand,axis=0)\n",
    " \n",
    "def plot_light_packet(N, t, sig):\n",
    "    '''\n",
    "    n: número de ondas generadas\n",
    "    t: tiempo en ns\n",
    "    sig: % de ancho de banda (dlam = sig*lam)\n",
    "    '''\n",
    "    lam = 0.5         # longitud de onda (um)\n",
    "    t = t*1E-9 # convertimos ns a s\n",
    "    \n",
    "    # recorrido de la onda\n",
    "    x = np.linspace(-2,2,1000)  # desde 0 a 4 micrones\n",
    "    E = light_packet(1, x, t, lam, sig, N)\n",
    "    \n",
    "    # Graficamos\n",
    "    fig, ax = plt.subplots()\n",
    "    fig.set_size_inches(9, 5)\n",
    "    plt.rcParams['font.size'] = '18'\n",
    "    \n",
    "    ax.plot(x,np.real(E), 'k')\n",
    "    ax.set_xlabel('x ($\\mu$m)')\n",
    "    ax.set_ylabel('Amplitud $|E|/E_0$')\n",
    "    ax.set_ylim(-N*1.1,N*1.1)\n",
    "    ax.grid()\n"
   ]
  },
  {
   "cell_type": "code",
   "execution_count": 2,
   "id": "5c81aca7",
   "metadata": {
    "cell_style": "split",
    "slideshow": {
     "slide_type": "fragment"
    }
   },
   "outputs": [
    {
     "data": {
      "application/vnd.jupyter.widget-view+json": {
       "model_id": "a99b76c6304d495dab4a11a17a38a0b3",
       "version_major": 2,
       "version_minor": 0
      },
      "text/plain": [
       "interactive(children=(IntSlider(value=1000, description='N', max=1000, min=1), FloatSlider(value=0.0, descript…"
      ]
     },
     "metadata": {},
     "output_type": "display_data"
    }
   ],
   "source": [
    "from ipywidgets import interact\n",
    "\n",
    "@interact( N=(1,1000,1), \n",
    "           t=(-10,10,0.1),\n",
    "           sig=(0,1,0.01))\n",
    "def g(N=1000, t=0, sig=0.3):\n",
    "    return plot_light_packet(N,t,sig)"
   ]
  },
  {
   "cell_type": "markdown",
   "id": "b53bb755",
   "metadata": {
    "slideshow": {
     "slide_type": "slide"
    }
   },
   "source": [
    "### Longitud de coherencia\n",
    "Definimos como **longitud de coherencia**, $l_c$, a la distancia donde un grupo de ondas electromagnética mantiene correlación entre las fases. Para longitudes mayores a $l_c$, decimos que la luz es incoherente, es decir, el desface entre las distintas ondas es completamente aleatorio."
   ]
  },
  {
   "cell_type": "markdown",
   "id": "3ea340f8",
   "metadata": {
    "cell_style": "split",
    "slideshow": {
     "slide_type": "fragment"
    }
   },
   "source": [
    "<img src=\"./images/coherence_length.png\" width=\"300px\" align= center>\n",
    "\n",
    "<center>Esquema de un paquete de onda emitido por una fuente con longitud de coherencia $l_c$</center>"
   ]
  },
  {
   "cell_type": "markdown",
   "id": "1f71b46f",
   "metadata": {
    "cell_style": "split",
    "slideshow": {
     "slide_type": "fragment"
    }
   },
   "source": [
    "La relación entre $l_c$, la longitud de onda central $\\lambda$ y el ancho de banda $\\Delta\\lambda$ está dado, aproximadamente, por la relación:\n",
    "\n",
    "\\begin{equation*}\n",
    "l_c \\approx \\frac{\\lambda^2}{n\\Delta \\lambda},\n",
    "\\end{equation*}\n",
    "\n",
    "donde $n$ es el indice de refracción del medio donde se propaga la luz.\n",
    "\n",
    "Por ejemplo, para lasers He-Ne (laser rojo)  $l_c\\approx 0.2 - 100$ m.  "
   ]
  },
  {
   "cell_type": "markdown",
   "id": "b8e319bd",
   "metadata": {
    "slideshow": {
     "slide_type": "slide"
    }
   },
   "source": [
    "Para radiación emitida por un cuerpo a temperatura $T$, la longitud de coherencia está dada por:\n",
    "\n",
    "\\begin{equation*}\n",
    "l_c T = 2167.8~\\mathrm{\\mu m~K}\n",
    "\\end{equation*}\n",
    "\n",
    "Así, por ejemplo, la radiación solar ($T \\approx 5800~\\mathrm{K}$) tiene una longitud de coherencia, $l_c \\approx 370~\\mathrm{nm}$"
   ]
  },
  {
   "cell_type": "markdown",
   "id": "659f7454",
   "metadata": {
    "slideshow": {
     "slide_type": "slide"
    }
   },
   "source": [
    "### Régimen de trasporte de luz\n",
    "Consideremos dos paquetes de onda con una longitud de coherencia $l_c$, viajando en sentido opuesto."
   ]
  },
  {
   "cell_type": "markdown",
   "id": "1b6928bc",
   "metadata": {
    "slideshow": {
     "slide_type": "fragment"
    }
   },
   "source": [
    "Podemos ver que ambos paquetes de luz interfieren en $x = 0$ en un instante $t$. Al continuar su camino, ambos paquetes de onda recuperan su forma original."
   ]
  },
  {
   "cell_type": "code",
   "execution_count": 3,
   "id": "8b9e3e63",
   "metadata": {
    "cell_style": "split",
    "slideshow": {
     "slide_type": "slide"
    }
   },
   "outputs": [],
   "source": [
    "def plot_2light_packet(n, t, sig):\n",
    "    '''\n",
    "    n: número de ondas generadas\n",
    "    t: tiempo en ns\n",
    "    sig: % de ancho de banda (dlam = sig*lam)\n",
    "    '''\n",
    "    t = t*1E-9 # convertimos ns a s\n",
    "    lam = 0.5\n",
    "    \n",
    "    # recorrido de la onda\n",
    "    x = np.linspace(-2,2,1000)  # desde 0 a 4 micrones\n",
    "    k0 = 2*np.pi/lam\n",
    "    Efw = light_packet( 1, x - x[ 0], t, lam, sig, n)\n",
    "    Ebw = light_packet(-1, x - x[-1], t, lam, sig, n)\n",
    "    \n",
    "    # Graficamos\n",
    "    fig, ax = plt.subplots()\n",
    "    fig.set_size_inches(9, 5)\n",
    "    plt.rcParams['font.size'] = '18'\n",
    "    \n",
    "    ax.plot(x,np.real(Efw + Ebw), 'k')\n",
    "    ax.set_xlabel('x ($\\mu$m)')\n",
    "    ax.set_ylabel('Amplitud $|E|/E_0$')\n",
    "    ax.set_ylim(-n*2.1,n*2.1)\n",
    "    ax.grid()\n"
   ]
  },
  {
   "cell_type": "code",
   "execution_count": 4,
   "id": "977daeda",
   "metadata": {
    "cell_style": "split"
   },
   "outputs": [
    {
     "data": {
      "application/vnd.jupyter.widget-view+json": {
       "model_id": "21ffd57d296249298f66fe314c5149b8",
       "version_major": 2,
       "version_minor": 0
      },
      "text/plain": [
       "interactive(children=(IntSlider(value=1000, description='N', max=1000, min=1), FloatSlider(value=2.0, descript…"
      ]
     },
     "metadata": {},
     "output_type": "display_data"
    }
   ],
   "source": [
    "from ipywidgets import interact\n",
    "\n",
    "@interact( N=(1,1000,1), \n",
    "           t=(0,20,0.1),\n",
    "           sig=(0,1,0.01))\n",
    "def g(N=1000, t=2, sig=0.3):\n",
    "    return plot_2light_packet(N,t,sig)"
   ]
  },
  {
   "cell_type": "markdown",
   "id": "615ad1c6",
   "metadata": {
    "slideshow": {
     "slide_type": "slide"
    }
   },
   "source": [
    "A partir de esto, podemos concluir que los fenómenos de interferencia en películas de capa delgada de espesor $d$ no serían visibles si $d > l_c$. En otras palabras, el fenómeno de interferencia solo existe si el paquete de onda interfiere consigo mismo."
   ]
  },
  {
   "cell_type": "markdown",
   "id": "db4d20e4",
   "metadata": {
    "cell_style": "split",
    "slideshow": {
     "slide_type": "fragment"
    }
   },
   "source": [
    "<img src=\"./images/interference_thinfilm.png\" width=\"200px\" align= center>\n",
    "\n",
    "<center>Propagación de una onda a través de una película de espesor $d$, con $l_c < d$</center>"
   ]
  },
  {
   "cell_type": "markdown",
   "id": "fce7ef57",
   "metadata": {
    "cell_style": "split",
    "slideshow": {
     "slide_type": "fragment"
    }
   },
   "source": [
    "En general, para una longitud características $d$:\n",
    "\n",
    "- Si $d > l_c$ el **transporte de luz es incoherente** . En este régimen, podemos ignorar las propiedades oscilatorias de la luz, y analizar el problema como el transporte de pequeños paquetes de onda, o simplemente como partículas.\n",
    "\n",
    "- Si $d < l_c$, el **transporte de luz es coherente**. En este régimen debemos considerar las propiedades oscilatorias a partir de las Ecuaciones de Maxwell."
   ]
  },
  {
   "cell_type": "markdown",
   "id": "06aab8e7",
   "metadata": {
    "cell_style": "center",
    "slideshow": {
     "slide_type": "slide"
    }
   },
   "source": [
    "Así, los coeficientes de Fresnel para una película delgada solo son válidos para $d < l_c$. "
   ]
  },
  {
   "cell_type": "markdown",
   "id": "c7f85265",
   "metadata": {
    "cell_style": "split",
    "slideshow": {
     "slide_type": "fragment"
    }
   },
   "source": [
    "Los coeficientes de Fresnel para una interface, en cambio, siempre son válidos."
   ]
  },
  {
   "cell_type": "markdown",
   "id": "57178760",
   "metadata": {
    "cell_style": "split",
    "slideshow": {
     "slide_type": "fragment"
    }
   },
   "source": [
    "<img src=\"./images/interference_interface.png\" width=\"350px\" align= center>\n",
    "\n",
    "<center>Refracción y reflexión de una onda incoherente a través de una interfaz</center>"
   ]
  },
  {
   "cell_type": "markdown",
   "id": "0c79f1b6",
   "metadata": {
    "slideshow": {
     "slide_type": "slide"
    }
   },
   "source": [
    "Igualmente, en medios particulados, los fenómenos de interferencia pueden ocurrir si las partículas están suficientemente cerca y tienen tamaños similares. Llamamos a esto **scattering coherente**"
   ]
  },
  {
   "cell_type": "markdown",
   "id": "61e2a519",
   "metadata": {
    "slideshow": {
     "slide_type": "fragment"
    }
   },
   "source": [
    "<img src=\"./images/scattering_coherence.png\" width=\"600px\" align= center>\n",
    "\n",
    "<center>Fenómeno de interferencia en scattering</center>"
   ]
  },
  {
   "cell_type": "markdown",
   "id": "8167d93c",
   "metadata": {
    "slideshow": {
     "slide_type": "slide"
    }
   },
   "source": [
    "El fenómeno de scattering coherente da lugar a los denominados **colores estructurales** presentes en las alas de las aves y mariposas (mas info [acá](https://wires.onlinelibrary.wiley.com/doi/10.1002/wnan.1396))"
   ]
  },
  {
   "cell_type": "markdown",
   "id": "06446d60",
   "metadata": {
    "cell_style": "split",
    "slideshow": {
     "slide_type": "fragment"
    }
   },
   "source": [
    "<img src=\"./images/structural_colors_birds.png\" width=\"550px\" align= center>\n",
    "\n",
    "<center>Colores estructurales en alas de aves</center>\n",
    "\n",
    "Fuente: [Hwang, V. et al. PNAS 118 (4) e2015551118\n",
    " (2020)](https://www.pnas.org/doi/10.1073/pnas.2015551118)"
   ]
  },
  {
   "cell_type": "markdown",
   "id": "71eaafb2",
   "metadata": {
    "cell_style": "split",
    "slideshow": {
     "slide_type": "fragment"
    }
   },
   "source": [
    "<img src=\"./images/structural_colors_buterflies.png\" width=\"450px\" align= center>\n",
    "\n",
    "<center>Colores estructurales en alas de mariposa</center>\n",
    "\n",
    "Fuente: [Tippets C. A. et al. J. Opt. 18 (2016) 065105](https://iopscience.iop.org/article/10.1088/2040-8978/18/6/065105)"
   ]
  },
  {
   "cell_type": "markdown",
   "id": "f629fcbe",
   "metadata": {
    "slideshow": {
     "slide_type": "slide"
    }
   },
   "source": [
    "## Teoría de transferencia radiativa\n",
    "Si el transporte de luz es incoherente, podemos ignorar las propiedades oscilatorias de la luz y analizar el fenómeno óptico como un el transporte de radiación a través de un volumen de control."
   ]
  },
  {
   "cell_type": "markdown",
   "id": "f62e3c70",
   "metadata": {
    "slideshow": {
     "slide_type": "slide"
    }
   },
   "source": [
    "### Intensidad específica"
   ]
  },
  {
   "cell_type": "markdown",
   "id": "790c7714",
   "metadata": {
    "cell_style": "split",
    "slideshow": {
     "slide_type": "-"
    }
   },
   "source": [
    "Definimos como **radiancia espectral o intensidad específica**, $I_\\lambda$, al flujo de energía por **ángulo sólido diferencial**, $d\\Omega$, para una longitud de onda $\\lambda$.\n",
    "\n",
    "<img src=\"./images/specific_intensity.png\" width=\"300px\" align= center>"
   ]
  },
  {
   "cell_type": "markdown",
   "id": "8568f20b",
   "metadata": {
    "cell_style": "split",
    "slideshow": {
     "slide_type": "fragment"
    }
   },
   "source": [
    "El ángulo sólido define el tamaño relativo del área $S$ para un observador en $P$ a una distancia $r$. \n",
    "\n",
    "El diferencial está definido por $d\\Omega = \\sin\\theta d\\theta d\\phi$\n",
    "\n",
    "<img src=\"./images/solid_angle.png\" width=\"450px\" align= center>"
   ]
  },
  {
   "cell_type": "markdown",
   "id": "0d8ed016",
   "metadata": {
    "slideshow": {
     "slide_type": "slide"
    }
   },
   "source": [
    "Es importante aclarar que los conceptos intensidad específica y vector de Poynting $\\langle\\vec{S}\\rangle$, son equivalentes: $I_\\lambda(\\hat{k})$ es un término utilizado en radiometría para definir el flujo de energía por unidad de ángulo sólido, mientras que $\\langle\\vec{S}\\rangle$ es un término ulizado en óptica para describir el flujo de energía en dirección $\\hat{k}$. Cabe destacar, sin embargo, que $I_\\lambda(\\hat{k})$ es una magnitud, y $\\langle\\vec{S}\\rangle$ es un vector. Así, podríamos decir que la relación entre estos dos términos está dada por $I_\\lambda(\\hat{k}) = \\langle\\vec{S}\\rangle\\cdot\\hat{k}$."
   ]
  },
  {
   "cell_type": "markdown",
   "id": "067ade0b",
   "metadata": {
    "slideshow": {
     "slide_type": "fragment"
    }
   },
   "source": [
    "El ángulo sólido total para una esfera es:\n",
    "\\begin{equation*}\n",
    "\\int_\\mathrm{esfera} d\\Omega = \\int_0^{2\\pi}\\int_0^{\\pi} \\sin\\theta d\\theta d\\phi= 4\\pi\n",
    "\\end{equation*}"
   ]
  },
  {
   "cell_type": "markdown",
   "id": "921c9262",
   "metadata": {
    "slideshow": {
     "slide_type": "slide"
    }
   },
   "source": [
    "### Ecuación de transferencia radiativa\n",
    "La **ecuación de transferencia radiativa** (RTE por sus siglas en ingles), es una ecuación de transporte que describe la propagación de la radiancia espectral, $I_\\lambda(\\vec{r},\\hat{k})$, en función de la posición posición $\\vec{r}$ y dirección $\\hat{k}$. En su forma más general, para un problema estacionario:\n",
    "\n",
    "\\begin{equation}\n",
    "\\hat{k}\\cdot\\nabla_r I_\\lambda(\\vec{r},\\hat{k}) = - \\left[\\frac{f_v}{V_p}C_\\mathrm{ext} + 2\\kappa k_0\\right]I_\\lambda(\\vec{r},\\hat{k}) + \\frac{f_v}{V_p}\\int_{4\\pi} P_\\mathrm{sca}(\\hat{k},\\hat{k}') I_\\lambda(\\vec{r},\\hat{k}') d\\Omega'\n",
    "\\end{equation}"
   ]
  },
  {
   "cell_type": "markdown",
   "id": "44c82ce8",
   "metadata": {
    "slideshow": {
     "slide_type": "fragment"
    }
   },
   "source": [
    "donde $f_v$ y $V_p$ son, respectivamente la fracción de volúmen y el volúmen de las partículas en el medio, y $P_\\mathrm{sca}(\\hat{k},\\hat{k}')$ es la función de fase."
   ]
  },
  {
   "cell_type": "markdown",
   "id": "84f7041f",
   "metadata": {
    "slideshow": {
     "slide_type": "slide"
    }
   },
   "source": [
    "Notar que consideramos el caso más generalizado de la función de fase, que depende tanto de la dirección de la radiación incidente $\\hat{k}$ como de la dirección del scattering $\\hat{k}'$. Ambas definidas por ángulo sólido"
   ]
  },
  {
   "cell_type": "markdown",
   "id": "556660a5",
   "metadata": {
    "cell_style": "center",
    "slideshow": {
     "slide_type": "fragment"
    }
   },
   "source": [
    "En el caso de una esfera, $\\hat{k}_\\mathrm{sca} = \\hat{k}$ y $\\hat{k}_\\mathrm{inc} = \\hat{k}'$. Así, la función de fase depende de $\\theta$, el cual está definido por $\\cos\\theta = \\hat{k}\\cdot\\hat{k}'$\n",
    "\n"
   ]
  },
  {
   "cell_type": "markdown",
   "id": "b7b71333",
   "metadata": {
    "slideshow": {
     "slide_type": "slide"
    }
   },
   "source": [
    "Con esto en mente, ahora podemos discutir el significado de los términos en la RTE:"
   ]
  },
  {
   "cell_type": "markdown",
   "id": "12e1a1e8",
   "metadata": {
    "slideshow": {
     "slide_type": "fragment"
    }
   },
   "source": [
    "- El primer término representa el cambio de $I_\\lambda(\\vec{r},\\hat{k})$ a través volumen diferencial. Por ejemplo, en el caso unidimencional en dirección $\\hat{k} = \\hat{x}$, tenemos: \n",
    "\n",
    "\\begin{equation*}\n",
    "\\hat{x}\\cdot\\nabla_r I_\\lambda(\\vec{r},\\hat{k}) = \\frac{\\partial}{\\partial x}I_\\lambda(\\vec{r},\\hat{k})\n",
    "\\end{equation*}"
   ]
  },
  {
   "cell_type": "markdown",
   "id": "231c3da9",
   "metadata": {
    "slideshow": {
     "slide_type": "fragment"
    }
   },
   "source": [
    "- El segundo término representa la pérdida de energía radiativa, por extinción $\\left(\\frac{f_v}{V_p}C_\\mathrm{ext}\\right)$ y absorción en el material material ($2\\kappa k_0$), respectivamente. Recordemos que la extinción representa la energía absorbida por las partículas + la energía de scattering en direcciónes distintas a $\\hat{k}$, es decir $C_\\mathrm{ext}= C_\\mathrm{abs} + C_\\mathrm{sca}$."
   ]
  },
  {
   "cell_type": "markdown",
   "id": "4754c5ed",
   "metadata": {
    "slideshow": {
     "slide_type": "fragment"
    }
   },
   "source": [
    "- El tercer término representa la ganancia de energía radiativa produco del scattering inducido por radiación incidente en dirección $\\hat{k}'$. Este término representa el fenómeno de **scattering múltiple**."
   ]
  },
  {
   "cell_type": "markdown",
   "id": "43766712",
   "metadata": {
    "slideshow": {
     "slide_type": "slide"
    }
   },
   "source": [
    "## Soluciones de la RTE\n",
    "La ecuación de transferencia radiativa permite explicar de forma fenomenológica el transporte de radiación en un medio particulado. Debido a su complejidad, existen pocas soluciones analíticas. En esta sección describiremos las tres más conocidas."
   ]
  },
  {
   "cell_type": "markdown",
   "id": "6037462f",
   "metadata": {
    "slideshow": {
     "slide_type": "slide"
    }
   },
   "source": [
    "### Película de material sin partículas (Reflectividad y Transmisividad incoherente)\n",
    "En el caso de un medio sin partículas solo debemos considerar el primer término de la RTE. "
   ]
  },
  {
   "cell_type": "markdown",
   "id": "38e80853",
   "metadata": {
    "slideshow": {
     "slide_type": "fragment"
    }
   },
   "source": [
    "Para el caso particular de un material de espesor $t_\\mathrm{film}$ e índice de refracción $N = n + \\kappa$, rodeado por un medio con índice de refracción $N_0$, derivamos las siguientes relaciones de reflectividad y tranmisividad para luz incoherente:\n",
    "\n",
    "\\begin{align}\n",
    "R_\\mathrm{incoh}&= R_0 + \\frac{T_0^2R_0e^{-4\\kappa k_0 t_\\mathrm{film}}}{1 - R_0^2e^{-4\\kappa k_0 t_\\mathrm{film}}} \n",
    "\\\\[10pt]\n",
    "T_\\mathrm{incoh} &= \\frac{T_0^2e^{-4\\kappa k_0 t_\\mathrm{film}}}{1 - R_0^2e^{-4\\kappa k_0 t_\\mathrm{film}}}\n",
    "\\end{align}\n",
    "\n",
    "donde $R_0$ y $T_0$ corresponden, respectivamente, a la reflectividad y transmisividad en la interface $N_0 / N_1$"
   ]
  },
  {
   "cell_type": "markdown",
   "id": "7b8cb924",
   "metadata": {
    "slideshow": {
     "slide_type": "slide"
    }
   },
   "source": [
    "En el siguiente ejemplo, utilizamos la función ```incoh_multilayer``` de la libreria ```empylib.waveoptics```. Esta función es más general que la ecuación anterior y permite determinar $R_\\mathrm{incoh}$ y $T_\\mathrm{incoh}$ para arreglos multicapas. "
   ]
  },
  {
   "cell_type": "markdown",
   "id": "2a3e7bbc",
   "metadata": {
    "slideshow": {
     "slide_type": "fragment"
    }
   },
   "source": [
    "En este caso, evaluaremos una película de sílice de espesor $1~\\mu\\mathrm{m}$, sobre un sustrato con íncide de refracción $N_\\mathrm{back} = 4.3$, y con aire en la superficie $N_\\mathrm{front} = 1.0$. El espectro de longitudes de onda $\\lambda\\in[0.3,0.8]~\\mu\\mathrm{m}$ y el ángulo de incidencia $\\theta_i = 30°$. Para comparar, determinaremos $R$ y $T$ para el caso de luz coherente."
   ]
  },
  {
   "cell_type": "code",
   "execution_count": 5,
   "id": "a99aa431",
   "metadata": {
    "cell_style": "split",
    "slideshow": {
     "slide_type": "slide"
    }
   },
   "outputs": [],
   "source": [
    "import numpy as np\n",
    "import empylib.waveoptics as wv\n",
    "import empylib.nklib as nk\n",
    "\n",
    "lam = np.linspace(2,10,100)  # espectro de longitudes de onda (um)\n",
    "theta = np.radians(30)          # ángulo de incidencia\n",
    "\n",
    "Nfront = 1.0                 # índice de refracción medio superior\n",
    "N1     = nk.SiO2(lam)        # índice de refracción capa delgada\n",
    "Nback  = 4.3                 # índice de refracción medio inferior\n",
    "N = (Nfront, N1, Nback)      # indices de refracción (above, mid, below)\n",
    "d = 1.0                      # espesor capa intermedia (um)\n",
    "\n",
    "# caso luz incoherente\n",
    "Rp_incoh, Tp_incoh = wv.incoh_multilayer(lam,theta, N, d, pol='TM')\n",
    "# caso luz coherente\n",
    "Rp, Tp = wv.multilayer(lam,theta, N, d, pol='TM')[:2]"
   ]
  },
  {
   "cell_type": "code",
   "execution_count": 6,
   "id": "3bee2ad8",
   "metadata": {
    "cell_style": "split",
    "slideshow": {
     "slide_type": "fragment"
    }
   },
   "outputs": [
    {
     "data": {
      "image/png": "[encoded data removed]",
      "text/plain": [
       "<Figure size 504x360 with 1 Axes>"
      ]
     },
     "metadata": {
      "filenames": {
       "image/png": "/mnt/c/Users/francisco.ramirez.c/OneDrive - Universidad Adolfo Ibanez/Teaching_courses/Manejo_y_Conversion_Energia_Solar_Termica/material_catedra/_build/jupyter_execute/5_TransporteRadiativo/5_TransporteRadiativo_49_0.png"
      },
      "needs_background": "light"
     },
     "output_type": "display_data"
    }
   ],
   "source": [
    "fig, ax = plt.subplots()\n",
    "fig.set_size_inches(7, 5)\n",
    "plt.rcParams['font.size'] = '16'\n",
    "\n",
    "# Graficamos el flujo de energía\n",
    "plt.plot(lam,Rp,'--r',label='$R_\\mathrm{TM}$ (coh)')\n",
    "plt.plot(lam,Tp,'--b',label='$T_\\mathrm{TM}$ (coh)')\n",
    "plt.plot(lam,Rp_incoh,'-r',label='$R_\\mathrm{TM}$ (incoh)')\n",
    "plt.plot(lam,Tp_incoh,'-b',label='$T_\\mathrm{TM}$ (incoh)')\n",
    "plt.title('arreglo 1.0/1.5/4.3')\n",
    "plt.xlabel('Longitud de onda ($\\mu$m)')\n",
    "plt.ylabel('Refletividad / Transmisividad')\n",
    "plt.legend()\n",
    "plt.show()"
   ]
  },
  {
   "cell_type": "markdown",
   "id": "c6ed7877",
   "metadata": {
    "slideshow": {
     "slide_type": "slide"
    }
   },
   "source": [
    "En la figura, para el caso de luz coherente, notamos oscilaciones en $R$ y $T$ producto de los fenómenos de interferencia. En el caso de luz incoherente, el fenómeno de interferencia desaparace."
   ]
  },
  {
   "cell_type": "markdown",
   "id": "a5316b37",
   "metadata": {
    "slideshow": {
     "slide_type": "slide"
    }
   },
   "source": [
    "### Película de material con baja concentración de partículas (Ley de Beer-Lambert)\n",
    "Definimos el **camino libre medio de scattering**, como $\\Lambda_\\mathrm{sca} = \\left(f_v C_\\mathrm{sca}/V_p\\right)^{-1}$. Este parametro representa la distancia promedio que recorre la luz entre eventos de scattering."
   ]
  },
  {
   "cell_type": "markdown",
   "id": "a352fb08",
   "metadata": {
    "cell_style": "center",
    "slideshow": {
     "slide_type": "fragment"
    }
   },
   "source": [
    "Si $\\Lambda_\\mathrm{sca}$ es mayor que el espesor del material, $t_\\mathrm{film}$, la probabilidad de que ocurran más de un evento scattering es despreciable, y decimos que el **scattering es de primer orden**. En este caso, el tercer término de la RTE es despreciable y la radiación solo pierde energía por absorción del material o extinción inducida por las partículas."
   ]
  },
  {
   "cell_type": "markdown",
   "id": "9407f0e6",
   "metadata": {
    "slideshow": {
     "slide_type": "slide"
    }
   },
   "source": [
    "La solución a esta ecuación se conoce como la ley de Beer-Lambert. Mediante esta aproximación podemos deducir las componentes total y especular de la transmitancia:\n",
    "\n",
    "\\begin{equation}\n",
    "T_\\mathrm{tot} = T_0 e^{-f_v\\frac{C_\\mathrm{abs}}{V_p}t_\\mathrm{film}}\\quad\\quad\\mathrm{and}\\quad\\quad \n",
    "T_\\mathrm{spec} = T_0 e^{-f_v\\frac{C_\\mathrm{ext}}{V_p}t_\\mathrm{film}}\n",
    "\\end{equation}\n",
    "\n",
    "donde, $T_0$ es la **transmisividad incoherente del material sin incrustaciones**."
   ]
  },
  {
   "cell_type": "markdown",
   "id": "2f29ecb5",
   "metadata": {
    "slideshow": {
     "slide_type": "fragment"
    }
   },
   "source": [
    "<img src=\"./images/beer_lambert.png\" width=\"500px\" align= center>\n",
    "\n",
    "<center>Transporte de luz en un medio con scattering de primer orden</center>"
   ]
  },
  {
   "cell_type": "markdown",
   "id": "963bc3c6",
   "metadata": {
    "slideshow": {
     "slide_type": "slide"
    }
   },
   "source": [
    "Podemos utilizar la ley de Beer-Lambert para analizar, de forma aproximada, el efecto del color del cielo durante el día y en la tarde."
   ]
  },
  {
   "cell_type": "markdown",
   "id": "227d193d",
   "metadata": {
    "slideshow": {
     "slide_type": "fragment"
    }
   },
   "source": [
    "El color del cielo está dado por la componente difusa. Así calculamos $T_\\mathrm{dif} = T_\\mathrm{tot} - T_\\mathrm{spec}$."
   ]
  },
  {
   "cell_type": "markdown",
   "id": "a2577fed",
   "metadata": {
    "slideshow": {
     "slide_type": "fragment"
    }
   },
   "source": [
    "Consideremos una atmosfera compuesta de aire ($N_h = 1.0$) y una pequeña concentración ($f_v = 1\\times 10^{-6}~\\%$) de partículas de 10 nm de diámetro e índice de refracción $N_p = 1.5$. El espesor de la atmosfera es $t_\\mathrm{atm} = 100~\\mathrm{km}$"
   ]
  },
  {
   "cell_type": "code",
   "execution_count": 7,
   "id": "33491447",
   "metadata": {
    "cell_style": "center",
    "slideshow": {
     "slide_type": "slide"
    }
   },
   "outputs": [],
   "source": [
    "import empylib.rad_transfer as rt\n",
    "import empylib.nklib as nk\n",
    "import numpy as np\n",
    "import matplotlib.pyplot as plt\n",
    "from empylib.ref_spectra import AM15, Bplanck\n",
    "from empylib.ref_spectra import color_system as cs\n",
    "cs = cs.hdtv\n",
    "\n",
    "lam1 = np.linspace(0.38,0.78,100) # espectro de longitudes de onda\n",
    "cs.interp_internals(lam1)\n",
    "def plot_atmosphere(theta_sun):\n",
    "    fig, ax = plt.subplots()          \n",
    "    fig.set_size_inches(8, 5)         # Tamaño del gráfico\n",
    "    plt.rcParams['font.size'] = '14'  # tamaño de  fuente\n",
    "    \n",
    "    # parámetros de entrada\n",
    "    tatm = 100E6                      # espesor de la atmósfera en mm\n",
    "    N = (1.0,1.0,1.0)                 # indice de refracción superior, intermedio e inferior\n",
    "    fvp = 1E-8                        # fracción de volúmen de las partículas\n",
    "    Dp = 0.010                        # diámetro de las partículas\n",
    "    Np = 1.5                          # índice de refracción de las partículas\n",
    "    \n",
    "    # transmitancia total y especular\n",
    "    theta = np.radians(theta_sun)    # posición del sol en radianes\n",
    "    Ttot, Tspec = rt.T_beer_lambert(lam1,theta,tatm,N,fvp,Dp,Np)[:2]\n",
    "    \n",
    "    Tdif = Ttot - Tspec              # transmitancia difusa\n",
    "    ax.plot(lam1,Tdif,'-k',label = 'Tdif')\n",
    "    ax.set_xlabel('Longitud de onda ($\\mu$m)')\n",
    "    ax.set_ylabel('Transmisividad')\n",
    "    ax.set_title(r'Posición del sol, $\\theta_\\mathrm{sun}$=%.1f°'% (theta_sun))\n",
    "    ax.set_ylim(0,1.05)\n",
    "    \n",
    "    Dcircle = 0.25\n",
    "    ax2 = fig.add_axes([0.11,0.15, Dcircle, Dcircle])\n",
    "    Irad = Tdif*Bplanck(lam1,5777)\n",
    "    html_rgb = cs.spec_to_rgb(Irad, out_fmt='html')\n",
    "    Circle = plt.Circle((0, 0), Dcircle, color=html_rgb)\n",
    "    ax2.add_patch(Circle)\n",
    "    ax2.set_aspect('equal')\n",
    "    ax2.set_xlim(-Dcircle*1.2,Dcircle*1.2)\n",
    "    ax2.set_ylim(-Dcircle*1.2,Dcircle*1.2)\n",
    "    ax2.set_xticks([])\n",
    "    ax2.set_yticks([])\n",
    "    ax2.set_facecolor('k')"
   ]
  },
  {
   "cell_type": "code",
   "execution_count": 8,
   "id": "f3b08336",
   "metadata": {
    "cell_style": "center",
    "slideshow": {
     "slide_type": "slide"
    }
   },
   "outputs": [
    {
     "data": {
      "application/vnd.jupyter.widget-view+json": {
       "model_id": "c495a00c7dcd42d486ac75ec32d7e30a",
       "version_major": 2,
       "version_minor": 0
      },
      "text/plain": [
       "interactive(children=(FloatSlider(value=0.0, description='theta_sun', max=89.99), Output()), _dom_classes=('wi…"
      ]
     },
     "metadata": {},
     "output_type": "display_data"
    }
   ],
   "source": [
    "from ipywidgets import interact\n",
    "\n",
    "@interact(theta_sun=(0,89.99,0.1))\n",
    "def g(theta_sun=0):\n",
    "    return plot_atmosphere(theta_sun)"
   ]
  },
  {
   "cell_type": "markdown",
   "id": "8aa6d072",
   "metadata": {
    "cell_style": "center",
    "slideshow": {
     "slide_type": "slide"
    }
   },
   "source": [
    "### Pelicula de material particulado (simulaciones de transferencia radiativa)\n",
    "Este caso corresponde a materiales con $\\Lambda_\\mathrm{sca} > t_\\mathrm{film}$. En este caso los eventos de scattering se producen más de una vez, y decimos que estámos en un régimen de **scattering múltiple**. Como resultado, los tres términos de la RTE son relevantes y debemos resolver la ecuación mediante simulación computacional.\n",
    "\n",
    "<img src=\"./images/multiple_scattering.png\" width=\"400px\" align= center>\n",
    "\n",
    "<center>Transporte de luz en un medio con scattering múltiple</center>"
   ]
  },
  {
   "cell_type": "markdown",
   "id": "bea5c468",
   "metadata": {
    "slideshow": {
     "slide_type": "slide"
    }
   },
   "source": [
    "Consideremos un material de sílice de espesor $t_\\mathrm{film} = 5~\\mathrm{mm}$. Evaluaremos los colores de este material en transmisión y reflección para luz incidente normal a la superficie en función de la concentración y el diámetro de las partículas. Utilizamos la función ```ad_rad_transfer``` de la librería ```empylib.rad_transfer```"
   ]
  },
  {
   "cell_type": "code",
   "execution_count": 9,
   "id": "24c8d4d6",
   "metadata": {
    "slideshow": {
     "slide_type": "slide"
    }
   },
   "outputs": [],
   "source": [
    "import empylib.rad_transfer as rt\n",
    "import empylib.nklib as nk\n",
    "import empylib.miescattering as mie\n",
    "import numpy as np\n",
    "import matplotlib.pyplot as plt\n",
    "\n",
    "lam2 = np.linspace(0.3,1.0,100) # espectro de longitudes de onda en micrometros\n",
    "Nlayers = (1.0,1.5,1.0)   # indice de refracción superior, intermedio e inferior\n",
    "Np = nk.silver(lam2)                # Índice de refracción de las partículas\n",
    "cs.interp_internals(lam2)\n",
    "\n",
    "def plot_glass_silver(fv,D):\n",
    "    # parámetros de entrada\n",
    "    \n",
    "    theta = np.radians(0)       # 0 grados en radianes\n",
    "    tfilm = 5                   # espesor en milímetros\n",
    "    \n",
    "    fv = fv*1E-7                # fracción de volúmen de las partículas\n",
    "    D = D*1E-3                  # diámetro de las partículas\n",
    "    \n",
    "    qext, qsca = mie.scatter_efficiency(lam2,Nlayers[1],Np,D)[:2]\n",
    "    qabs = qext - qsca\n",
    "    Rtot, Ttot = rt.ad_rad_transfer(lam2,tfilm,Nlayers,fv,D,Np)\n",
    "\n",
    "    fig, ax = plt.subplots(1,3)\n",
    "    fig.set_size_inches(20, 5)\n",
    "    plt.rcParams['font.size'] = '16'\n",
    "    \n",
    "    ax[0].plot(lam2,qsca,'-r',label='$C_\\mathrm{sca} A_c$')\n",
    "    ax[0].plot(lam2,qabs,'-b',label='$C_\\mathrm{abs} A_c$')\n",
    "    ax[0].set_xlabel('Longitud de onda ($\\mu$m)')\n",
    "    ax[0].set_ylabel('Eficiencia transversal')\n",
    "    ax[0].set_title('Partícula de plata (D=%.0f nm)' % (D*1E3))\n",
    "    ax[0].legend()\n",
    "    ax[0].set_ylim(0,10)\n",
    "    \n",
    "    ax[1].plot(lam2,Rtot,'-r',label = 'Rtot')\n",
    "    ax[1].plot(lam2,Ttot,'-b',label = 'Ttot')\n",
    "    ax[1].set_xlabel('Longitud de onda ($\\mu$m)')\n",
    "    ax[1].set_ylabel('Transmisividad')\n",
    "    ax[1].set_title(r'Sílice con plata (fv = %.3e %%)' % (fv*100) )\n",
    "    ax[1].legend()\n",
    "    ax[1].set_ylim(0,1)\n",
    "\n",
    "    Dcircle = 0.20\n",
    "    html_rgb = cs.spec_to_rgb(Ttot*AM15(lam2), out_fmt='html')\n",
    "    Circle = plt.Circle((0, 0), Dcircle, color=html_rgb)\n",
    "    ax[2].add_patch(Circle)\n",
    "    ax[2].annotate('Luz Trasera', xy=(0, 0), va='center', ha='center')\n",
    "\n",
    "    html_rgb = cs.spec_to_rgb(Rtot*AM15(lam2), out_fmt='html')\n",
    "    Circle = plt.Circle((Dcircle*1.2*2, 0), Dcircle, color=html_rgb)\n",
    "    ax[2].add_patch(Circle)\n",
    "    ax[2].annotate('Luz Frontal', xy=(Dcircle*1.2*2, 0), va='center', ha='center')\n",
    "\n",
    "    ax[2].set_aspect('equal')\n",
    "    ax[2].set_xlim(-Dcircle*1.2,Dcircle*1.2*3)\n",
    "    ax[2].set_ylim(-Dcircle*1.2,Dcircle*1.2)\n",
    "    ax[2].set_xticks([])\n",
    "    ax[2].set_yticks([])\n",
    "    ax[2].set_facecolor('k')\n",
    "    plt.subplots_adjust(wspace=0.3)"
   ]
  },
  {
   "cell_type": "code",
   "execution_count": 10,
   "id": "494ceeb2",
   "metadata": {
    "cell_style": "center",
    "slideshow": {
     "slide_type": "slide"
    }
   },
   "outputs": [
    {
     "data": {
      "application/vnd.jupyter.widget-view+json": {
       "model_id": "9fc3c3fb518c4819bd66fd7f2ab43706",
       "version_major": 2,
       "version_minor": 0
      },
      "text/plain": [
       "interactive(children=(IntSlider(value=20, description='fv', min=1), IntSlider(value=70, description='D', max=2…"
      ]
     },
     "metadata": {},
     "output_type": "display_data"
    }
   ],
   "source": [
    "from ipywidgets import interact\n",
    "\n",
    "@interact(fv=(1,100,1), D = (10,200,1))\n",
    "def g(fv=20, D = 70):\n",
    "    return plot_glass_silver(fv,D)"
   ]
  },
  {
   "cell_type": "markdown",
   "id": "031ca52b",
   "metadata": {
    "slideshow": {
     "slide_type": "slide"
    }
   },
   "source": [
    "Cuando la concentración de partículas es densa, el medio se vuelve opaco. Este régimen se denomina **scattering difuso** y permite explicar, entre otras cosas, el color de las nubes o la pintura blanca\n",
    "\n",
    "<img src=\"./images/diffuse_scattering.png\" width=\"400px\" align= center>\n",
    "\n",
    "<center>Transporte de luz en un medio con scattering difuso</center>"
   ]
  },
  {
   "cell_type": "markdown",
   "id": "01df5bd6",
   "metadata": {
    "slideshow": {
     "slide_type": "slide"
    }
   },
   "source": [
    "Un ejemplo interesante corresponde a la leche. En términos simples, la leche es una emulsión formada por pequeñas partículas de grasa dispersas en un medio acuoso. \n",
    "\n",
    "<img src=\"./images/milk_microscope.png\" width=\"400px\" align= center>\n",
    "\n",
    "<center>Imagen de microscópio (40x) de leche orgánica. Las burbujas verdes corresponden al aceite en suspención en agua.</center>\n",
    "\n",
    "Fuente: [Braun K., Hanewald A. and Vilgis T. Foods 8(10): 483(2019)](https://www.ncbi.nlm.nih.gov/pmc/articles/PMC6836175/)"
   ]
  },
  {
   "cell_type": "markdown",
   "id": "225b5528",
   "metadata": {
    "slideshow": {
     "slide_type": "fragment"
    }
   },
   "source": [
    "Como aproximación, consideremos un medio de espesor $1$ cm, compuesto por agua $N_h = 1.3$ y pequeñas partículas esféricas de aceite $N_p = 1.5$. La emulsión considera un 60% de partículas de aceite por volumen."
   ]
  },
  {
   "cell_type": "code",
   "execution_count": 11,
   "id": "72cbfc3e",
   "metadata": {
    "cell_style": "split",
    "slideshow": {
     "slide_type": "slide"
    }
   },
   "outputs": [],
   "source": [
    "%%capture showplot\n",
    "# import empylib.nklib as nk\n",
    "import numpy as np\n",
    "import empylib.rad_transfer as rt\n",
    "\n",
    "# Solo modificar estos parámetros\n",
    "#---------------------------------------------------------------\n",
    "lam3 = np.linspace(0.3,1.0,100)   # espectro de longitudes de onda\n",
    "tfilm = 10                        # espesor en milímetros\n",
    "fv = 0.80                          # fracción de volúmen de los poros\n",
    "D = 1.0                           # diámetro de los poros (micrones)\n",
    "Nh2o = 1.3                        # Índice de refracción del agua\n",
    "Noil = 1.5                        # índice de refracción partículas de aceite\n",
    "#---------------------------------------------------------------\n",
    "Rtot, Ttot = rt.ad_rad_transfer(lam3,tfilm,(1.0,Nh2o,1.0),fv,D,Noil)\n",
    "\n",
    "fig, ax = plt.subplots()\n",
    "fig.set_size_inches(7, 5)\n",
    "plt.rcParams['font.size'] = '16'\n",
    "ax.plot(lam3,Rtot,'-r',label='R')\n",
    "ax.plot(lam3,Ttot,'-b',label='T')\n",
    "ax.set_xlabel('Longitud de onda ($\\mu$m)')\n",
    "ax.set_ylabel('Reflectividad / Transmisividad')\n",
    "ax.set_title(r'Leche (fv = %.0f %%)' % (fv*100))\n",
    "ax.legend()\n",
    "ax.set_ylim(0,1.02)\n",
    "plt.show"
   ]
  },
  {
   "cell_type": "code",
   "execution_count": 12,
   "id": "9a1291f7",
   "metadata": {
    "cell_style": "split",
    "slideshow": {
     "slide_type": "fragment"
    }
   },
   "outputs": [
    {
     "data": {
      "text/plain": [
       "<function matplotlib.pyplot.show(close=None, block=None)>"
      ]
     },
     "metadata": {},
     "output_type": "display_data"
    },
    {
     "data": {
      "image/png": "[encoded data removed]",
      "text/plain": [
       "<Figure size 504x360 with 1 Axes>"
      ]
     },
     "metadata": {
      "filenames": {
       "image/png": "/mnt/c/Users/francisco.ramirez.c/OneDrive - Universidad Adolfo Ibanez/Teaching_courses/Manejo_y_Conversion_Energia_Solar_Termica/material_catedra/_build/jupyter_execute/5_TransporteRadiativo/5_TransporteRadiativo_68_1.png"
      },
      "needs_background": "light"
     },
     "output_type": "display_data"
    }
   ],
   "source": [
    "showplot()"
   ]
  },
  {
   "cell_type": "markdown",
   "id": "6c035f58",
   "metadata": {
    "slideshow": {
     "slide_type": "slide"
    }
   },
   "source": [
    "Como vemos la alta concentración de partículas hace que la refletividad y transmisividad se vuelvan casi uniformes para todas las longitudes de onda. El espectro, así, toma un color blanco frente a una fuente de luz blanca."
   ]
  },
  {
   "cell_type": "markdown",
   "id": "17c1dc23",
   "metadata": {
    "slideshow": {
     "slide_type": "slide"
    }
   },
   "source": [
    "## Referencias\n",
    "- Chen G. **Chapter 5 - Energy Transfer by Waves** in *Nanoscale energy transport and conversion*, 1st Ed, Oxford University Press, 2005"
   ]
  }
 ],
 "metadata": {
  "celltoolbar": "Slideshow",
  "kernelspec": {
   "display_name": "Python 3 (ipykernel)",
   "language": "python",
   "name": "python3"
  },
  "language_info": {
   "codemirror_mode": {
    "name": "ipython",
    "version": 3
   },
   "file_extension": ".py",
   "mimetype": "text/x-python",
   "name": "python",
   "nbconvert_exporter": "python",
   "pygments_lexer": "ipython3",
   "version": "3.9.13"
  },
  "latex_envs": {
   "LaTeX_envs_menu_present": false,
   "autoclose": false,
   "autocomplete": false,
   "bibliofile": "biblio.bib",
   "cite_by": "apalike",
   "current_citInitial": 1,
   "eqLabelWithNumbers": true,
   "eqNumInitial": 2,
   "hotkeys": {
    "equation": "Ctrl-E",
    "itemize": "Ctrl-I"
   },
   "labels_anchors": false,
   "latex_user_defs": false,
   "report_style_numbering": false,
   "user_envs_cfg": true
  },
  "toc": {
   "base_numbering": 1,
   "nav_menu": {},
   "number_sections": false,
   "sideBar": true,
   "skip_h1_title": true,
   "title_cell": "Tabla de contenidos",
   "title_sidebar": "Contenidos",
   "toc_cell": false,
   "toc_position": {
    "height": "calc(100% - 180px)",
    "left": "10px",
    "top": "150px",
    "width": "307.2px"
   },
   "toc_section_display": true,
   "toc_window_display": false
  },
  "varInspector": {
   "cols": {
    "lenName": 16,
    "lenType": 16,
    "lenVar": 40
   },
   "kernels_config": {
    "python": {
     "delete_cmd_postfix": "",
     "delete_cmd_prefix": "del ",
     "library": "var_list.py",
     "varRefreshCmd": "print(var_dic_list())"
    },
    "r": {
     "delete_cmd_postfix": ") ",
     "delete_cmd_prefix": "rm(",
     "library": "var_list.r",
     "varRefreshCmd": "cat(var_dic_list()) "
    }
   },
   "types_to_exclude": [
    "module",
    "function",
    "builtin_function_or_method",
    "instance",
    "_Feature"
   ],
   "window_display": false
  },
  "widgets": {
   "application/vnd.jupyter.widget-state+json": {
    "state": {
     "009f87ae21554d2289a9b5d98976d95b": {
      "model_module": "@jupyter-widgets/controls",
      "model_module_version": "1.5.0",
      "model_name": "SliderStyleModel",
      "state": {
       "_model_module": "@jupyter-widgets/controls",
       "_model_module_version": "1.5.0",
       "_model_name": "SliderStyleModel",
       "_view_count": null,
       "_view_module": "@jupyter-widgets/base",
       "_view_module_version": "1.2.0",
       "_view_name": "StyleView",
       "description_width": "",
       "handle_color": null
      }
     },
     "0a93f9cd80244e0ba2aa98e45a556ea2": {
      "model_module": "@jupyter-widgets/base",
      "model_module_version": "1.2.0",
      "model_name": "LayoutModel",
      "state": {
       "_model_module": "@jupyter-widgets/base",
       "_model_module_version": "1.2.0",
       "_model_name": "LayoutModel",
       "_view_count": null,
       "_view_module": "@jupyter-widgets/base",
       "_view_module_version": "1.2.0",
       "_view_name": "LayoutView",
       "align_content": null,
       "align_items": null,
       "align_self": null,
       "border": null,
       "bottom": null,
       "display": null,
       "flex": null,
       "flex_flow": null,
       "grid_area": null,
       "grid_auto_columns": null,
       "grid_auto_flow": null,
       "grid_auto_rows": null,
       "grid_column": null,
       "grid_gap": null,
       "grid_row": null,
       "grid_template_areas": null,
       "grid_template_columns": null,
       "grid_template_rows": null,
       "height": null,
       "justify_content": null,
       "justify_items": null,
       "left": null,
       "margin": null,
       "max_height": null,
       "max_width": null,
       "min_height": null,
       "min_width": null,
       "object_fit": null,
       "object_position": null,
       "order": null,
       "overflow": null,
       "overflow_x": null,
       "overflow_y": null,
       "padding": null,
       "right": null,
       "top": null,
       "visibility": null,
       "width": null
      }
     },
     "0b3d99549bbd43639471a391b82c5e31": {
      "model_module": "@jupyter-widgets/base",
      "model_module_version": "1.2.0",
      "model_name": "LayoutModel",
      "state": {
       "_model_module": "@jupyter-widgets/base",
       "_model_module_version": "1.2.0",
       "_model_name": "LayoutModel",
       "_view_count": null,
       "_view_module": "@jupyter-widgets/base",
       "_view_module_version": "1.2.0",
       "_view_name": "LayoutView",
       "align_content": null,
       "align_items": null,
       "align_self": null,
       "border": null,
       "bottom": null,
       "display": null,
       "flex": null,
       "flex_flow": null,
       "grid_area": null,
       "grid_auto_columns": null,
       "grid_auto_flow": null,
       "grid_auto_rows": null,
       "grid_column": null,
       "grid_gap": null,
       "grid_row": null,
       "grid_template_areas": null,
       "grid_template_columns": null,
       "grid_template_rows": null,
       "height": null,
       "justify_content": null,
       "justify_items": null,
       "left": null,
       "margin": null,
       "max_height": null,
       "max_width": null,
       "min_height": null,
       "min_width": null,
       "object_fit": null,
       "object_position": null,
       "order": null,
       "overflow": null,
       "overflow_x": null,
       "overflow_y": null,
       "padding": null,
       "right": null,
       "top": null,
       "visibility": null,
       "width": null
      }
     },
     "106b3f356d3844af8b176e77e27808ee": {
      "model_module": "@jupyter-widgets/base",
      "model_module_version": "1.2.0",
      "model_name": "LayoutModel",
      "state": {
       "_model_module": "@jupyter-widgets/base",
       "_model_module_version": "1.2.0",
       "_model_name": "LayoutModel",
       "_view_count": null,
       "_view_module": "@jupyter-widgets/base",
       "_view_module_version": "1.2.0",
       "_view_name": "LayoutView",
       "align_content": null,
       "align_items": null,
       "align_self": null,
       "border": null,
       "bottom": null,
       "display": null,
       "flex": null,
       "flex_flow": null,
       "grid_area": null,
       "grid_auto_columns": null,
       "grid_auto_flow": null,
       "grid_auto_rows": null,
       "grid_column": null,
       "grid_gap": null,
       "grid_row": null,
       "grid_template_areas": null,
       "grid_template_columns": null,
       "grid_template_rows": null,
       "height": null,
       "justify_content": null,
       "justify_items": null,
       "left": null,
       "margin": null,
       "max_height": null,
       "max_width": null,
       "min_height": null,
       "min_width": null,
       "object_fit": null,
       "object_position": null,
       "order": null,
       "overflow": null,
       "overflow_x": null,
       "overflow_y": null,
       "padding": null,
       "right": null,
       "top": null,
       "visibility": null,
       "width": null
      }
     },
     "21ffd57d296249298f66fe314c5149b8": {
      "model_module": "@jupyter-widgets/controls",
      "model_module_version": "1.5.0",
      "model_name": "VBoxModel",
      "state": {
       "_dom_classes": [
        "widget-interact"
       ],
       "_model_module": "@jupyter-widgets/controls",
       "_model_module_version": "1.5.0",
       "_model_name": "VBoxModel",
       "_view_count": null,
       "_view_module": "@jupyter-widgets/controls",
       "_view_module_version": "1.5.0",
       "_view_name": "VBoxView",
       "box_style": "",
       "children": [
        "IPY_MODEL_5744a9c2778b4dc497e3b96c38af4c4c",
        "IPY_MODEL_26469d560b75482498ff0943fc50eaeb",
        "IPY_MODEL_f98ec72aa0ee4e4eb0fe1d5ee62effed",
        "IPY_MODEL_63d91168616a46b4a427d0ea7d7af493"
       ],
       "layout": "IPY_MODEL_bca1f2ef10364c8dab264ffc2e2b2825"
      }
     },
     "23909721fc774d3fb1fd57caa5a56a03": {
      "model_module": "@jupyter-widgets/base",
      "model_module_version": "1.2.0",
      "model_name": "LayoutModel",
      "state": {
       "_model_module": "@jupyter-widgets/base",
       "_model_module_version": "1.2.0",
       "_model_name": "LayoutModel",
       "_view_count": null,
       "_view_module": "@jupyter-widgets/base",
       "_view_module_version": "1.2.0",
       "_view_name": "LayoutView",
       "align_content": null,
       "align_items": null,
       "align_self": null,
       "border": null,
       "bottom": null,
       "display": null,
       "flex": null,
       "flex_flow": null,
       "grid_area": null,
       "grid_auto_columns": null,
       "grid_auto_flow": null,
       "grid_auto_rows": null,
       "grid_column": null,
       "grid_gap": null,
       "grid_row": null,
       "grid_template_areas": null,
       "grid_template_columns": null,
       "grid_template_rows": null,
       "height": null,
       "justify_content": null,
       "justify_items": null,
       "left": null,
       "margin": null,
       "max_height": null,
       "max_width": null,
       "min_height": null,
       "min_width": null,
       "object_fit": null,
       "object_position": null,
       "order": null,
       "overflow": null,
       "overflow_x": null,
       "overflow_y": null,
       "padding": null,
       "right": null,
       "top": null,
       "visibility": null,
       "width": null
      }
     },
     "26469d560b75482498ff0943fc50eaeb": {
      "model_module": "@jupyter-widgets/controls",
      "model_module_version": "1.5.0",
      "model_name": "FloatSliderModel",
      "state": {
       "_dom_classes": [],
       "_model_module": "@jupyter-widgets/controls",
       "_model_module_version": "1.5.0",
       "_model_name": "FloatSliderModel",
       "_view_count": null,
       "_view_module": "@jupyter-widgets/controls",
       "_view_module_version": "1.5.0",
       "_view_name": "FloatSliderView",
       "continuous_update": true,
       "description": "t",
       "description_tooltip": null,
       "disabled": false,
       "layout": "IPY_MODEL_6faacc7a99d9468e89f15868a202a54c",
       "max": 20.0,
       "min": 0.0,
       "orientation": "horizontal",
       "readout": true,
       "readout_format": ".2f",
       "step": 0.1,
       "style": "IPY_MODEL_4c1ee85a676340d78a0c8b15fb3dfe02",
       "value": 2.0
      }
     },
     "30d02c99695b468f876a0e258d167ac2": {
      "model_module": "@jupyter-widgets/controls",
      "model_module_version": "1.5.0",
      "model_name": "SliderStyleModel",
      "state": {
       "_model_module": "@jupyter-widgets/controls",
       "_model_module_version": "1.5.0",
       "_model_name": "SliderStyleModel",
       "_view_count": null,
       "_view_module": "@jupyter-widgets/base",
       "_view_module_version": "1.2.0",
       "_view_name": "StyleView",
       "description_width": "",
       "handle_color": null
      }
     },
     "3a0515998e0547a191b84a2f86f4aa91": {
      "model_module": "@jupyter-widgets/output",
      "model_module_version": "1.0.0",
      "model_name": "OutputModel",
      "state": {
       "_dom_classes": [],
       "_model_module": "@jupyter-widgets/output",
       "_model_module_version": "1.0.0",
       "_model_name": "OutputModel",
       "_view_count": null,
       "_view_module": "@jupyter-widgets/output",
       "_view_module_version": "1.0.0",
       "_view_name": "OutputView",
       "layout": "IPY_MODEL_61b16cf6b9da4d8c8f7b1d8e5f208107",
       "msg_id": "",
       "outputs": [
        {
         "data": {
          "image/png": "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\n",
          "text/plain": "<Figure size 648x360 with 1 Axes>"
         },
         "metadata": {
          "needs_background": "light"
         },
         "output_type": "display_data"
        }
       ]
      }
     },
     "4563be1ea5714b7da5cdf2d1afdde3f6": {
      "model_module": "@jupyter-widgets/controls",
      "model_module_version": "1.5.0",
      "model_name": "IntSliderModel",
      "state": {
       "_dom_classes": [],
       "_model_module": "@jupyter-widgets/controls",
       "_model_module_version": "1.5.0",
       "_model_name": "IntSliderModel",
       "_view_count": null,
       "_view_module": "@jupyter-widgets/controls",
       "_view_module_version": "1.5.0",
       "_view_name": "IntSliderView",
       "continuous_update": true,
       "description": "N",
       "description_tooltip": null,
       "disabled": false,
       "layout": "IPY_MODEL_8d03584c8bbe40eeb32b3a9a5de37148",
       "max": 1000,
       "min": 1,
       "orientation": "horizontal",
       "readout": true,
       "readout_format": "d",
       "step": 1,
       "style": "IPY_MODEL_9aa90c30d6574140a13bd504d9e2fd32",
       "value": 1000
      }
     },
     "470c6c3dee0e4078bd5402ece178dd06": {
      "model_module": "@jupyter-widgets/base",
      "model_module_version": "1.2.0",
      "model_name": "LayoutModel",
      "state": {
       "_model_module": "@jupyter-widgets/base",
       "_model_module_version": "1.2.0",
       "_model_name": "LayoutModel",
       "_view_count": null,
       "_view_module": "@jupyter-widgets/base",
       "_view_module_version": "1.2.0",
       "_view_name": "LayoutView",
       "align_content": null,
       "align_items": null,
       "align_self": null,
       "border": null,
       "bottom": null,
       "display": null,
       "flex": null,
       "flex_flow": null,
       "grid_area": null,
       "grid_auto_columns": null,
       "grid_auto_flow": null,
       "grid_auto_rows": null,
       "grid_column": null,
       "grid_gap": null,
       "grid_row": null,
       "grid_template_areas": null,
       "grid_template_columns": null,
       "grid_template_rows": null,
       "height": null,
       "justify_content": null,
       "justify_items": null,
       "left": null,
       "margin": null,
       "max_height": null,
       "max_width": null,
       "min_height": null,
       "min_width": null,
       "object_fit": null,
       "object_position": null,
       "order": null,
       "overflow": null,
       "overflow_x": null,
       "overflow_y": null,
       "padding": null,
       "right": null,
       "top": null,
       "visibility": null,
       "width": null
      }
     },
     "4aa28ee55a834577b804dabe2172acfd": {
      "model_module": "@jupyter-widgets/base",
      "model_module_version": "1.2.0",
      "model_name": "LayoutModel",
      "state": {
       "_model_module": "@jupyter-widgets/base",
       "_model_module_version": "1.2.0",
       "_model_name": "LayoutModel",
       "_view_count": null,
       "_view_module": "@jupyter-widgets/base",
       "_view_module_version": "1.2.0",
       "_view_name": "LayoutView",
       "align_content": null,
       "align_items": null,
       "align_self": null,
       "border": null,
       "bottom": null,
       "display": null,
       "flex": null,
       "flex_flow": null,
       "grid_area": null,
       "grid_auto_columns": null,
       "grid_auto_flow": null,
       "grid_auto_rows": null,
       "grid_column": null,
       "grid_gap": null,
       "grid_row": null,
       "grid_template_areas": null,
       "grid_template_columns": null,
       "grid_template_rows": null,
       "height": null,
       "justify_content": null,
       "justify_items": null,
       "left": null,
       "margin": null,
       "max_height": null,
       "max_width": null,
       "min_height": null,
       "min_width": null,
       "object_fit": null,
       "object_position": null,
       "order": null,
       "overflow": null,
       "overflow_x": null,
       "overflow_y": null,
       "padding": null,
       "right": null,
       "top": null,
       "visibility": null,
       "width": null
      }
     },
     "4c1ee85a676340d78a0c8b15fb3dfe02": {
      "model_module": "@jupyter-widgets/controls",
      "model_module_version": "1.5.0",
      "model_name": "SliderStyleModel",
      "state": {
       "_model_module": "@jupyter-widgets/controls",
       "_model_module_version": "1.5.0",
       "_model_name": "SliderStyleModel",
       "_view_count": null,
       "_view_module": "@jupyter-widgets/base",
       "_view_module_version": "1.2.0",
       "_view_name": "StyleView",
       "description_width": "",
       "handle_color": null
      }
     },
     "4e53faae2bb54a208585533a338a9280": {
      "model_module": "@jupyter-widgets/controls",
      "model_module_version": "1.5.0",
      "model_name": "SliderStyleModel",
      "state": {
       "_model_module": "@jupyter-widgets/controls",
       "_model_module_version": "1.5.0",
       "_model_name": "SliderStyleModel",
       "_view_count": null,
       "_view_module": "@jupyter-widgets/base",
       "_view_module_version": "1.2.0",
       "_view_name": "StyleView",
       "description_width": "",
       "handle_color": null
      }
     },
     "547573da512742b4a0bb1a28f285690d": {
      "model_module": "@jupyter-widgets/base",
      "model_module_version": "1.2.0",
      "model_name": "LayoutModel",
      "state": {
       "_model_module": "@jupyter-widgets/base",
       "_model_module_version": "1.2.0",
       "_model_name": "LayoutModel",
       "_view_count": null,
       "_view_module": "@jupyter-widgets/base",
       "_view_module_version": "1.2.0",
       "_view_name": "LayoutView",
       "align_content": null,
       "align_items": null,
       "align_self": null,
       "border": null,
       "bottom": null,
       "display": null,
       "flex": null,
       "flex_flow": null,
       "grid_area": null,
       "grid_auto_columns": null,
       "grid_auto_flow": null,
       "grid_auto_rows": null,
       "grid_column": null,
       "grid_gap": null,
       "grid_row": null,
       "grid_template_areas": null,
       "grid_template_columns": null,
       "grid_template_rows": null,
       "height": null,
       "justify_content": null,
       "justify_items": null,
       "left": null,
       "margin": null,
       "max_height": null,
       "max_width": null,
       "min_height": null,
       "min_width": null,
       "object_fit": null,
       "object_position": null,
       "order": null,
       "overflow": null,
       "overflow_x": null,
       "overflow_y": null,
       "padding": null,
       "right": null,
       "top": null,
       "visibility": null,
       "width": null
      }
     },
     "5744a9c2778b4dc497e3b96c38af4c4c": {
      "model_module": "@jupyter-widgets/controls",
      "model_module_version": "1.5.0",
      "model_name": "IntSliderModel",
      "state": {
       "_dom_classes": [],
       "_model_module": "@jupyter-widgets/controls",
       "_model_module_version": "1.5.0",
       "_model_name": "IntSliderModel",
       "_view_count": null,
       "_view_module": "@jupyter-widgets/controls",
       "_view_module_version": "1.5.0",
       "_view_name": "IntSliderView",
       "continuous_update": true,
       "description": "N",
       "description_tooltip": null,
       "disabled": false,
       "layout": "IPY_MODEL_0a93f9cd80244e0ba2aa98e45a556ea2",
       "max": 1000,
       "min": 1,
       "orientation": "horizontal",
       "readout": true,
       "readout_format": "d",
       "step": 1,
       "style": "IPY_MODEL_e3920858e3a6434d9706995d7a41387f",
       "value": 1000
      }
     },
     "61b16cf6b9da4d8c8f7b1d8e5f208107": {
      "model_module": "@jupyter-widgets/base",
      "model_module_version": "1.2.0",
      "model_name": "LayoutModel",
      "state": {
       "_model_module": "@jupyter-widgets/base",
       "_model_module_version": "1.2.0",
       "_model_name": "LayoutModel",
       "_view_count": null,
       "_view_module": "@jupyter-widgets/base",
       "_view_module_version": "1.2.0",
       "_view_name": "LayoutView",
       "align_content": null,
       "align_items": null,
       "align_self": null,
       "border": null,
       "bottom": null,
       "display": null,
       "flex": null,
       "flex_flow": null,
       "grid_area": null,
       "grid_auto_columns": null,
       "grid_auto_flow": null,
       "grid_auto_rows": null,
       "grid_column": null,
       "grid_gap": null,
       "grid_row": null,
       "grid_template_areas": null,
       "grid_template_columns": null,
       "grid_template_rows": null,
       "height": null,
       "justify_content": null,
       "justify_items": null,
       "left": null,
       "margin": null,
       "max_height": null,
       "max_width": null,
       "min_height": null,
       "min_width": null,
       "object_fit": null,
       "object_position": null,
       "order": null,
       "overflow": null,
       "overflow_x": null,
       "overflow_y": null,
       "padding": null,
       "right": null,
       "top": null,
       "visibility": null,
       "width": null
      }
     },
     "63d91168616a46b4a427d0ea7d7af493": {
      "model_module": "@jupyter-widgets/output",
      "model_module_version": "1.0.0",
      "model_name": "OutputModel",
      "state": {
       "_dom_classes": [],
       "_model_module": "@jupyter-widgets/output",
       "_model_module_version": "1.0.0",
       "_model_name": "OutputModel",
       "_view_count": null,
       "_view_module": "@jupyter-widgets/output",
       "_view_module_version": "1.0.0",
       "_view_name": "OutputView",
       "layout": "IPY_MODEL_23909721fc774d3fb1fd57caa5a56a03",
       "msg_id": "",
       "outputs": [
        {
         "data": {
          "image/png": "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\n",
          "text/plain": "<Figure size 648x360 with 1 Axes>"
         },
         "metadata": {
          "needs_background": "light"
         },
         "output_type": "display_data"
        }
       ]
      }
     },
     "64a95dfdca8a4f298689c59054e715ba": {
      "model_module": "@jupyter-widgets/base",
      "model_module_version": "1.2.0",
      "model_name": "LayoutModel",
      "state": {
       "_model_module": "@jupyter-widgets/base",
       "_model_module_version": "1.2.0",
       "_model_name": "LayoutModel",
       "_view_count": null,
       "_view_module": "@jupyter-widgets/base",
       "_view_module_version": "1.2.0",
       "_view_name": "LayoutView",
       "align_content": null,
       "align_items": null,
       "align_self": null,
       "border": null,
       "bottom": null,
       "display": null,
       "flex": null,
       "flex_flow": null,
       "grid_area": null,
       "grid_auto_columns": null,
       "grid_auto_flow": null,
       "grid_auto_rows": null,
       "grid_column": null,
       "grid_gap": null,
       "grid_row": null,
       "grid_template_areas": null,
       "grid_template_columns": null,
       "grid_template_rows": null,
       "height": null,
       "justify_content": null,
       "justify_items": null,
       "left": null,
       "margin": null,
       "max_height": null,
       "max_width": null,
       "min_height": null,
       "min_width": null,
       "object_fit": null,
       "object_position": null,
       "order": null,
       "overflow": null,
       "overflow_x": null,
       "overflow_y": null,
       "padding": null,
       "right": null,
       "top": null,
       "visibility": null,
       "width": null
      }
     },
     "6acc2463fc894c939042acb50835eb90": {
      "model_module": "@jupyter-widgets/base",
      "model_module_version": "1.2.0",
      "model_name": "LayoutModel",
      "state": {
       "_model_module": "@jupyter-widgets/base",
       "_model_module_version": "1.2.0",
       "_model_name": "LayoutModel",
       "_view_count": null,
       "_view_module": "@jupyter-widgets/base",
       "_view_module_version": "1.2.0",
       "_view_name": "LayoutView",
       "align_content": null,
       "align_items": null,
       "align_self": null,
       "border": null,
       "bottom": null,
       "display": null,
       "flex": null,
       "flex_flow": null,
       "grid_area": null,
       "grid_auto_columns": null,
       "grid_auto_flow": null,
       "grid_auto_rows": null,
       "grid_column": null,
       "grid_gap": null,
       "grid_row": null,
       "grid_template_areas": null,
       "grid_template_columns": null,
       "grid_template_rows": null,
       "height": null,
       "justify_content": null,
       "justify_items": null,
       "left": null,
       "margin": null,
       "max_height": null,
       "max_width": null,
       "min_height": null,
       "min_width": null,
       "object_fit": null,
       "object_position": null,
       "order": null,
       "overflow": null,
       "overflow_x": null,
       "overflow_y": null,
       "padding": null,
       "right": null,
       "top": null,
       "visibility": null,
       "width": null
      }
     },
     "6b94542f8615413ab5ee24e8a1d61a8f": {
      "model_module": "@jupyter-widgets/base",
      "model_module_version": "1.2.0",
      "model_name": "LayoutModel",
      "state": {
       "_model_module": "@jupyter-widgets/base",
       "_model_module_version": "1.2.0",
       "_model_name": "LayoutModel",
       "_view_count": null,
       "_view_module": "@jupyter-widgets/base",
       "_view_module_version": "1.2.0",
       "_view_name": "LayoutView",
       "align_content": null,
       "align_items": null,
       "align_self": null,
       "border": null,
       "bottom": null,
       "display": null,
       "flex": null,
       "flex_flow": null,
       "grid_area": null,
       "grid_auto_columns": null,
       "grid_auto_flow": null,
       "grid_auto_rows": null,
       "grid_column": null,
       "grid_gap": null,
       "grid_row": null,
       "grid_template_areas": null,
       "grid_template_columns": null,
       "grid_template_rows": null,
       "height": null,
       "justify_content": null,
       "justify_items": null,
       "left": null,
       "margin": null,
       "max_height": null,
       "max_width": null,
       "min_height": null,
       "min_width": null,
       "object_fit": null,
       "object_position": null,
       "order": null,
       "overflow": null,
       "overflow_x": null,
       "overflow_y": null,
       "padding": null,
       "right": null,
       "top": null,
       "visibility": null,
       "width": null
      }
     },
     "6faacc7a99d9468e89f15868a202a54c": {
      "model_module": "@jupyter-widgets/base",
      "model_module_version": "1.2.0",
      "model_name": "LayoutModel",
      "state": {
       "_model_module": "@jupyter-widgets/base",
       "_model_module_version": "1.2.0",
       "_model_name": "LayoutModel",
       "_view_count": null,
       "_view_module": "@jupyter-widgets/base",
       "_view_module_version": "1.2.0",
       "_view_name": "LayoutView",
       "align_content": null,
       "align_items": null,
       "align_self": null,
       "border": null,
       "bottom": null,
       "display": null,
       "flex": null,
       "flex_flow": null,
       "grid_area": null,
       "grid_auto_columns": null,
       "grid_auto_flow": null,
       "grid_auto_rows": null,
       "grid_column": null,
       "grid_gap": null,
       "grid_row": null,
       "grid_template_areas": null,
       "grid_template_columns": null,
       "grid_template_rows": null,
       "height": null,
       "justify_content": null,
       "justify_items": null,
       "left": null,
       "margin": null,
       "max_height": null,
       "max_width": null,
       "min_height": null,
       "min_width": null,
       "object_fit": null,
       "object_position": null,
       "order": null,
       "overflow": null,
       "overflow_x": null,
       "overflow_y": null,
       "padding": null,
       "right": null,
       "top": null,
       "visibility": null,
       "width": null
      }
     },
     "790e9ef74acb46a2af69cddfc324883f": {
      "model_module": "@jupyter-widgets/base",
      "model_module_version": "1.2.0",
      "model_name": "LayoutModel",
      "state": {
       "_model_module": "@jupyter-widgets/base",
       "_model_module_version": "1.2.0",
       "_model_name": "LayoutModel",
       "_view_count": null,
       "_view_module": "@jupyter-widgets/base",
       "_view_module_version": "1.2.0",
       "_view_name": "LayoutView",
       "align_content": null,
       "align_items": null,
       "align_self": null,
       "border": null,
       "bottom": null,
       "display": null,
       "flex": null,
       "flex_flow": null,
       "grid_area": null,
       "grid_auto_columns": null,
       "grid_auto_flow": null,
       "grid_auto_rows": null,
       "grid_column": null,
       "grid_gap": null,
       "grid_row": null,
       "grid_template_areas": null,
       "grid_template_columns": null,
       "grid_template_rows": null,
       "height": null,
       "justify_content": null,
       "justify_items": null,
       "left": null,
       "margin": null,
       "max_height": null,
       "max_width": null,
       "min_height": null,
       "min_width": null,
       "object_fit": null,
       "object_position": null,
       "order": null,
       "overflow": null,
       "overflow_x": null,
       "overflow_y": null,
       "padding": null,
       "right": null,
       "top": null,
       "visibility": null,
       "width": null
      }
     },
     "808c92cd431b466b9161ca833572b857": {
      "model_module": "@jupyter-widgets/controls",
      "model_module_version": "1.5.0",
      "model_name": "FloatSliderModel",
      "state": {
       "_dom_classes": [],
       "_model_module": "@jupyter-widgets/controls",
       "_model_module_version": "1.5.0",
       "_model_name": "FloatSliderModel",
       "_view_count": null,
       "_view_module": "@jupyter-widgets/controls",
       "_view_module_version": "1.5.0",
       "_view_name": "FloatSliderView",
       "continuous_update": true,
       "description": "t",
       "description_tooltip": null,
       "disabled": false,
       "layout": "IPY_MODEL_ff43c4acf2a04258b6db743c43e18cff",
       "max": 10.0,
       "min": -10.0,
       "orientation": "horizontal",
       "readout": true,
       "readout_format": ".2f",
       "step": 0.1,
       "style": "IPY_MODEL_009f87ae21554d2289a9b5d98976d95b",
       "value": 0.0
      }
     },
     "814d8aec112e4c3eb97b4f002eaa985d": {
      "model_module": "@jupyter-widgets/output",
      "model_module_version": "1.0.0",
      "model_name": "OutputModel",
      "state": {
       "_dom_classes": [],
       "_model_module": "@jupyter-widgets/output",
       "_model_module_version": "1.0.0",
       "_model_name": "OutputModel",
       "_view_count": null,
       "_view_module": "@jupyter-widgets/output",
       "_view_module_version": "1.0.0",
       "_view_name": "OutputView",
       "layout": "IPY_MODEL_64a95dfdca8a4f298689c59054e715ba",
       "msg_id": "",
       "outputs": [
        {
         "data": {
          "image/png": "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\n",
          "text/plain": "<Figure size 1440x360 with 3 Axes>"
         },
         "metadata": {
          "needs_background": "light"
         },
         "output_type": "display_data"
        }
       ]
      }
     },
     "86096ff48f544b929a19e81a56fdb3cf": {
      "model_module": "@jupyter-widgets/controls",
      "model_module_version": "1.5.0",
      "model_name": "SliderStyleModel",
      "state": {
       "_model_module": "@jupyter-widgets/controls",
       "_model_module_version": "1.5.0",
       "_model_name": "SliderStyleModel",
       "_view_count": null,
       "_view_module": "@jupyter-widgets/base",
       "_view_module_version": "1.2.0",
       "_view_name": "StyleView",
       "description_width": "",
       "handle_color": null
      }
     },
     "8d03584c8bbe40eeb32b3a9a5de37148": {
      "model_module": "@jupyter-widgets/base",
      "model_module_version": "1.2.0",
      "model_name": "LayoutModel",
      "state": {
       "_model_module": "@jupyter-widgets/base",
       "_model_module_version": "1.2.0",
       "_model_name": "LayoutModel",
       "_view_count": null,
       "_view_module": "@jupyter-widgets/base",
       "_view_module_version": "1.2.0",
       "_view_name": "LayoutView",
       "align_content": null,
       "align_items": null,
       "align_self": null,
       "border": null,
       "bottom": null,
       "display": null,
       "flex": null,
       "flex_flow": null,
       "grid_area": null,
       "grid_auto_columns": null,
       "grid_auto_flow": null,
       "grid_auto_rows": null,
       "grid_column": null,
       "grid_gap": null,
       "grid_row": null,
       "grid_template_areas": null,
       "grid_template_columns": null,
       "grid_template_rows": null,
       "height": null,
       "justify_content": null,
       "justify_items": null,
       "left": null,
       "margin": null,
       "max_height": null,
       "max_width": null,
       "min_height": null,
       "min_width": null,
       "object_fit": null,
       "object_position": null,
       "order": null,
       "overflow": null,
       "overflow_x": null,
       "overflow_y": null,
       "padding": null,
       "right": null,
       "top": null,
       "visibility": null,
       "width": null
      }
     },
     "8d7b4e66dd2943b984298bc97774b5b6": {
      "model_module": "@jupyter-widgets/controls",
      "model_module_version": "1.5.0",
      "model_name": "FloatSliderModel",
      "state": {
       "_dom_classes": [],
       "_model_module": "@jupyter-widgets/controls",
       "_model_module_version": "1.5.0",
       "_model_name": "FloatSliderModel",
       "_view_count": null,
       "_view_module": "@jupyter-widgets/controls",
       "_view_module_version": "1.5.0",
       "_view_name": "FloatSliderView",
       "continuous_update": true,
       "description": "theta_sun",
       "description_tooltip": null,
       "disabled": false,
       "layout": "IPY_MODEL_106b3f356d3844af8b176e77e27808ee",
       "max": 89.99,
       "min": 0.0,
       "orientation": "horizontal",
       "readout": true,
       "readout_format": ".2f",
       "step": 0.1,
       "style": "IPY_MODEL_e31ca74411a9448b8bbb42a4261fedd0",
       "value": 0.0
      }
     },
     "91c0fc9c870e4f2b9c26e722c8985a84": {
      "model_module": "@jupyter-widgets/controls",
      "model_module_version": "1.5.0",
      "model_name": "SliderStyleModel",
      "state": {
       "_model_module": "@jupyter-widgets/controls",
       "_model_module_version": "1.5.0",
       "_model_name": "SliderStyleModel",
       "_view_count": null,
       "_view_module": "@jupyter-widgets/base",
       "_view_module_version": "1.2.0",
       "_view_name": "StyleView",
       "description_width": "",
       "handle_color": null
      }
     },
     "9aa90c30d6574140a13bd504d9e2fd32": {
      "model_module": "@jupyter-widgets/controls",
      "model_module_version": "1.5.0",
      "model_name": "SliderStyleModel",
      "state": {
       "_model_module": "@jupyter-widgets/controls",
       "_model_module_version": "1.5.0",
       "_model_name": "SliderStyleModel",
       "_view_count": null,
       "_view_module": "@jupyter-widgets/base",
       "_view_module_version": "1.2.0",
       "_view_name": "StyleView",
       "description_width": "",
       "handle_color": null
      }
     },
     "9fc3c3fb518c4819bd66fd7f2ab43706": {
      "model_module": "@jupyter-widgets/controls",
      "model_module_version": "1.5.0",
      "model_name": "VBoxModel",
      "state": {
       "_dom_classes": [
        "widget-interact"
       ],
       "_model_module": "@jupyter-widgets/controls",
       "_model_module_version": "1.5.0",
       "_model_name": "VBoxModel",
       "_view_count": null,
       "_view_module": "@jupyter-widgets/controls",
       "_view_module_version": "1.5.0",
       "_view_name": "VBoxView",
       "box_style": "",
       "children": [
        "IPY_MODEL_ad4101ce5b7a4a8fa18a936c32e44c18",
        "IPY_MODEL_f6db407c49b3481bbe008b0409bd3051",
        "IPY_MODEL_814d8aec112e4c3eb97b4f002eaa985d"
       ],
       "layout": "IPY_MODEL_6acc2463fc894c939042acb50835eb90"
      }
     },
     "a99b76c6304d495dab4a11a17a38a0b3": {
      "model_module": "@jupyter-widgets/controls",
      "model_module_version": "1.5.0",
      "model_name": "VBoxModel",
      "state": {
       "_dom_classes": [
        "widget-interact"
       ],
       "_model_module": "@jupyter-widgets/controls",
       "_model_module_version": "1.5.0",
       "_model_name": "VBoxModel",
       "_view_count": null,
       "_view_module": "@jupyter-widgets/controls",
       "_view_module_version": "1.5.0",
       "_view_name": "VBoxView",
       "box_style": "",
       "children": [
        "IPY_MODEL_4563be1ea5714b7da5cdf2d1afdde3f6",
        "IPY_MODEL_808c92cd431b466b9161ca833572b857",
        "IPY_MODEL_c299b466f22f4d599480e6d949ebc6f7",
        "IPY_MODEL_3a0515998e0547a191b84a2f86f4aa91"
       ],
       "layout": "IPY_MODEL_470c6c3dee0e4078bd5402ece178dd06"
      }
     },
     "ad4101ce5b7a4a8fa18a936c32e44c18": {
      "model_module": "@jupyter-widgets/controls",
      "model_module_version": "1.5.0",
      "model_name": "IntSliderModel",
      "state": {
       "_dom_classes": [],
       "_model_module": "@jupyter-widgets/controls",
       "_model_module_version": "1.5.0",
       "_model_name": "IntSliderModel",
       "_view_count": null,
       "_view_module": "@jupyter-widgets/controls",
       "_view_module_version": "1.5.0",
       "_view_name": "IntSliderView",
       "continuous_update": true,
       "description": "fv",
       "description_tooltip": null,
       "disabled": false,
       "layout": "IPY_MODEL_0b3d99549bbd43639471a391b82c5e31",
       "max": 100,
       "min": 1,
       "orientation": "horizontal",
       "readout": true,
       "readout_format": "d",
       "step": 1,
       "style": "IPY_MODEL_4e53faae2bb54a208585533a338a9280",
       "value": 20
      }
     },
     "bca1f2ef10364c8dab264ffc2e2b2825": {
      "model_module": "@jupyter-widgets/base",
      "model_module_version": "1.2.0",
      "model_name": "LayoutModel",
      "state": {
       "_model_module": "@jupyter-widgets/base",
       "_model_module_version": "1.2.0",
       "_model_name": "LayoutModel",
       "_view_count": null,
       "_view_module": "@jupyter-widgets/base",
       "_view_module_version": "1.2.0",
       "_view_name": "LayoutView",
       "align_content": null,
       "align_items": null,
       "align_self": null,
       "border": null,
       "bottom": null,
       "display": null,
       "flex": null,
       "flex_flow": null,
       "grid_area": null,
       "grid_auto_columns": null,
       "grid_auto_flow": null,
       "grid_auto_rows": null,
       "grid_column": null,
       "grid_gap": null,
       "grid_row": null,
       "grid_template_areas": null,
       "grid_template_columns": null,
       "grid_template_rows": null,
       "height": null,
       "justify_content": null,
       "justify_items": null,
       "left": null,
       "margin": null,
       "max_height": null,
       "max_width": null,
       "min_height": null,
       "min_width": null,
       "object_fit": null,
       "object_position": null,
       "order": null,
       "overflow": null,
       "overflow_x": null,
       "overflow_y": null,
       "padding": null,
       "right": null,
       "top": null,
       "visibility": null,
       "width": null
      }
     },
     "c299b466f22f4d599480e6d949ebc6f7": {
      "model_module": "@jupyter-widgets/controls",
      "model_module_version": "1.5.0",
      "model_name": "FloatSliderModel",
      "state": {
       "_dom_classes": [],
       "_model_module": "@jupyter-widgets/controls",
       "_model_module_version": "1.5.0",
       "_model_name": "FloatSliderModel",
       "_view_count": null,
       "_view_module": "@jupyter-widgets/controls",
       "_view_module_version": "1.5.0",
       "_view_name": "FloatSliderView",
       "continuous_update": true,
       "description": "sig",
       "description_tooltip": null,
       "disabled": false,
       "layout": "IPY_MODEL_790e9ef74acb46a2af69cddfc324883f",
       "max": 1.0,
       "min": 0.0,
       "orientation": "horizontal",
       "readout": true,
       "readout_format": ".2f",
       "step": 0.01,
       "style": "IPY_MODEL_30d02c99695b468f876a0e258d167ac2",
       "value": 0.3
      }
     },
     "c495a00c7dcd42d486ac75ec32d7e30a": {
      "model_module": "@jupyter-widgets/controls",
      "model_module_version": "1.5.0",
      "model_name": "VBoxModel",
      "state": {
       "_dom_classes": [
        "widget-interact"
       ],
       "_model_module": "@jupyter-widgets/controls",
       "_model_module_version": "1.5.0",
       "_model_name": "VBoxModel",
       "_view_count": null,
       "_view_module": "@jupyter-widgets/controls",
       "_view_module_version": "1.5.0",
       "_view_name": "VBoxView",
       "box_style": "",
       "children": [
        "IPY_MODEL_8d7b4e66dd2943b984298bc97774b5b6",
        "IPY_MODEL_e8d2bc75bc464931a97a501d7cfd2c1a"
       ],
       "layout": "IPY_MODEL_547573da512742b4a0bb1a28f285690d"
      }
     },
     "e31ca74411a9448b8bbb42a4261fedd0": {
      "model_module": "@jupyter-widgets/controls",
      "model_module_version": "1.5.0",
      "model_name": "SliderStyleModel",
      "state": {
       "_model_module": "@jupyter-widgets/controls",
       "_model_module_version": "1.5.0",
       "_model_name": "SliderStyleModel",
       "_view_count": null,
       "_view_module": "@jupyter-widgets/base",
       "_view_module_version": "1.2.0",
       "_view_name": "StyleView",
       "description_width": "",
       "handle_color": null
      }
     },
     "e3920858e3a6434d9706995d7a41387f": {
      "model_module": "@jupyter-widgets/controls",
      "model_module_version": "1.5.0",
      "model_name": "SliderStyleModel",
      "state": {
       "_model_module": "@jupyter-widgets/controls",
       "_model_module_version": "1.5.0",
       "_model_name": "SliderStyleModel",
       "_view_count": null,
       "_view_module": "@jupyter-widgets/base",
       "_view_module_version": "1.2.0",
       "_view_name": "StyleView",
       "description_width": "",
       "handle_color": null
      }
     },
     "e7c078006bc1445f8ab8301c3baf3534": {
      "model_module": "@jupyter-widgets/base",
      "model_module_version": "1.2.0",
      "model_name": "LayoutModel",
      "state": {
       "_model_module": "@jupyter-widgets/base",
       "_model_module_version": "1.2.0",
       "_model_name": "LayoutModel",
       "_view_count": null,
       "_view_module": "@jupyter-widgets/base",
       "_view_module_version": "1.2.0",
       "_view_name": "LayoutView",
       "align_content": null,
       "align_items": null,
       "align_self": null,
       "border": null,
       "bottom": null,
       "display": null,
       "flex": null,
       "flex_flow": null,
       "grid_area": null,
       "grid_auto_columns": null,
       "grid_auto_flow": null,
       "grid_auto_rows": null,
       "grid_column": null,
       "grid_gap": null,
       "grid_row": null,
       "grid_template_areas": null,
       "grid_template_columns": null,
       "grid_template_rows": null,
       "height": null,
       "justify_content": null,
       "justify_items": null,
       "left": null,
       "margin": null,
       "max_height": null,
       "max_width": null,
       "min_height": null,
       "min_width": null,
       "object_fit": null,
       "object_position": null,
       "order": null,
       "overflow": null,
       "overflow_x": null,
       "overflow_y": null,
       "padding": null,
       "right": null,
       "top": null,
       "visibility": null,
       "width": null
      }
     },
     "e8d2bc75bc464931a97a501d7cfd2c1a": {
      "model_module": "@jupyter-widgets/output",
      "model_module_version": "1.0.0",
      "model_name": "OutputModel",
      "state": {
       "_dom_classes": [],
       "_model_module": "@jupyter-widgets/output",
       "_model_module_version": "1.0.0",
       "_model_name": "OutputModel",
       "_view_count": null,
       "_view_module": "@jupyter-widgets/output",
       "_view_module_version": "1.0.0",
       "_view_name": "OutputView",
       "layout": "IPY_MODEL_4aa28ee55a834577b804dabe2172acfd",
       "msg_id": "",
       "outputs": [
        {
         "data": {
          "image/png": "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\n",
          "text/plain": "<Figure size 576x360 with 2 Axes>"
         },
         "metadata": {
          "needs_background": "light"
         },
         "output_type": "display_data"
        }
       ]
      }
     },
     "f6db407c49b3481bbe008b0409bd3051": {
      "model_module": "@jupyter-widgets/controls",
      "model_module_version": "1.5.0",
      "model_name": "IntSliderModel",
      "state": {
       "_dom_classes": [],
       "_model_module": "@jupyter-widgets/controls",
       "_model_module_version": "1.5.0",
       "_model_name": "IntSliderModel",
       "_view_count": null,
       "_view_module": "@jupyter-widgets/controls",
       "_view_module_version": "1.5.0",
       "_view_name": "IntSliderView",
       "continuous_update": true,
       "description": "D",
       "description_tooltip": null,
       "disabled": false,
       "layout": "IPY_MODEL_6b94542f8615413ab5ee24e8a1d61a8f",
       "max": 200,
       "min": 10,
       "orientation": "horizontal",
       "readout": true,
       "readout_format": "d",
       "step": 1,
       "style": "IPY_MODEL_91c0fc9c870e4f2b9c26e722c8985a84",
       "value": 70
      }
     },
     "f98ec72aa0ee4e4eb0fe1d5ee62effed": {
      "model_module": "@jupyter-widgets/controls",
      "model_module_version": "1.5.0",
      "model_name": "FloatSliderModel",
      "state": {
       "_dom_classes": [],
       "_model_module": "@jupyter-widgets/controls",
       "_model_module_version": "1.5.0",
       "_model_name": "FloatSliderModel",
       "_view_count": null,
       "_view_module": "@jupyter-widgets/controls",
       "_view_module_version": "1.5.0",
       "_view_name": "FloatSliderView",
       "continuous_update": true,
       "description": "sig",
       "description_tooltip": null,
       "disabled": false,
       "layout": "IPY_MODEL_e7c078006bc1445f8ab8301c3baf3534",
       "max": 1.0,
       "min": 0.0,
       "orientation": "horizontal",
       "readout": true,
       "readout_format": ".2f",
       "step": 0.01,
       "style": "IPY_MODEL_86096ff48f544b929a19e81a56fdb3cf",
       "value": 0.3
      }
     },
     "ff43c4acf2a04258b6db743c43e18cff": {
      "model_module": "@jupyter-widgets/base",
      "model_module_version": "1.2.0",
      "model_name": "LayoutModel",
      "state": {
       "_model_module": "@jupyter-widgets/base",
       "_model_module_version": "1.2.0",
       "_model_name": "LayoutModel",
       "_view_count": null,
       "_view_module": "@jupyter-widgets/base",
       "_view_module_version": "1.2.0",
       "_view_name": "LayoutView",
       "align_content": null,
       "align_items": null,
       "align_self": null,
       "border": null,
       "bottom": null,
       "display": null,
       "flex": null,
       "flex_flow": null,
       "grid_area": null,
       "grid_auto_columns": null,
       "grid_auto_flow": null,
       "grid_auto_rows": null,
       "grid_column": null,
       "grid_gap": null,
       "grid_row": null,
       "grid_template_areas": null,
       "grid_template_columns": null,
       "grid_template_rows": null,
       "height": null,
       "justify_content": null,
       "justify_items": null,
       "left": null,
       "margin": null,
       "max_height": null,
       "max_width": null,
       "min_height": null,
       "min_width": null,
       "object_fit": null,
       "object_position": null,
       "order": null,
       "overflow": null,
       "overflow_x": null,
       "overflow_y": null,
       "padding": null,
       "right": null,
       "top": null,
       "visibility": null,
       "width": null
      }
     }
    },
    "version_major": 2,
    "version_minor": 0
   }
  }
 },
 "nbformat": 4,
 "nbformat_minor": 5
}