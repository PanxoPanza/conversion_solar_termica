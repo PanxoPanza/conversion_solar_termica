{
 "cells": [
  {
   "cell_type": "markdown",
   "id": "8b01ca79",
   "metadata": {
    "slideshow": {
     "slide_type": "slide"
    }
   },
   "source": [
    " <font size=\"6\">MEC501 - Manejo y Conversión de Energía Solar Térmica</font>\n",
    "# Transporte Radiativo\n",
    "<br><br><br><br>\n",
    "Profesor: Francisco Ramírez Cuevas<br>\n",
    "Fecha: 9 de Septiembre 2022"
   ]
  },
  {
   "cell_type": "markdown",
   "id": "9ff4cae4",
   "metadata": {
    "slideshow": {
     "slide_type": "slide"
    }
   },
   "source": [
    "## Coherencia de la luz e interferencia\n",
    "Como veremos en las próximas clases, las vibraciones moleculares en la materia son las responsables de emitir radiación en forma de ondas electromagnéticas. El mecanismo es similar, pero inverso, al mecanismo de absorción de luz, el cual es originado por la interacción de ondas electromagnéticas con las vibraciones moleculares (ver clase 3)."
   ]
  },
  {
   "cell_type": "markdown",
   "id": "bcb7cf39",
   "metadata": {
    "slideshow": {
     "slide_type": "fragment"
    }
   },
   "source": [
    "Dicho esto, dos moléculas pueden emitir radiación con una pequeña variación en la longitud de onda $\\Delta\\lambda$. Esto ocurre porque las vibraciones no están 100% correlacionadas, es decir, existe un grado de aletoriedad en las vibraciones."
   ]
  },
  {
   "cell_type": "markdown",
   "id": "16081fa2",
   "metadata": {
    "slideshow": {
     "slide_type": "slide"
    }
   },
   "source": [
    "Esta aletoriedad en las vibraciones da lugar a una distribución del flujo de radiación emitido por una fuente.\n",
    "\n",
    "<img src=\"./images/light_source_spectra.png\" width=\"800px\" align= center>"
   ]
  },
  {
   "cell_type": "markdown",
   "id": "b54cf722",
   "metadata": {
    "slideshow": {
     "slide_type": "slide"
    }
   },
   "source": [
    "Por ejemplo, consideremos una fuente de luz con una distribución espectral normal, centrada en $\\lambda_0$ y con una desviación estandar $\\pm\\sigma_\\lambda\\lambda_0$, con $\\sigma_\\lambda \\in [0,1]$. Imaginemos esta fuente como $N$ emisores, donde cada emisor $j$ emite ondas electromagnéticas con longitud de onda $\\lambda \\pm\\Delta \\lambda_j$, donde $\\Delta \\lambda_j$ es escogido aleatoriamente a partir de la distribución normal."
   ]
  },
  {
   "cell_type": "markdown",
   "id": "31f81723",
   "metadata": {
    "cell_style": "split",
    "slideshow": {
     "slide_type": "fragment"
    }
   },
   "source": [
    "<img src=\"./images/normal_distribution.png\" width=\"400px\" align= center>"
   ]
  },
  {
   "cell_type": "markdown",
   "id": "76d68ef4",
   "metadata": {
    "cell_style": "split",
    "slideshow": {
     "slide_type": "fragment"
    }
   },
   "source": [
    "Asumiendo ondas en el aire en dirección $\\hat{k} = \\hat{x}$, el campo eléctrico resultante es:\n",
    "\n",
    "\\begin{equation*}\n",
    "\\vec{E}_\\mathrm{tot} = \\sum_j^N E_0e^{i\\left(k_jx - \\omega_j t\\right)} \\hat{z},\n",
    "\\end{equation*}\n",
    "\n",
    "donde $k_j = \\frac{2\\pi}{\\lambda \\pm\\Delta \\lambda_j}$, y $\\omega_j = c_0k_j$"
   ]
  },
  {
   "cell_type": "markdown",
   "id": "e5e55e68",
   "metadata": {
    "cell_style": "center",
    "slideshow": {
     "slide_type": "fragment"
    }
   },
   "source": [
    "Analicemos el comportamiento de $\\vec{E}_\\mathrm{tot} /E_0$ para $\\lambda_0 = 500$ nm"
   ]
  },
  {
   "cell_type": "code",
   "execution_count": 1,
   "id": "37df7e74",
   "metadata": {
    "cell_style": "split",
    "slideshow": {
     "slide_type": "slide"
    }
   },
   "outputs": [],
   "source": [
    "import numpy as np\n",
    "from numpy.random import normal\n",
    "import matplotlib.pyplot as plt\n",
    "\n",
    "def light_packet(kdir, x, t, lam, sig, N):\n",
    "    c0 = 3E8          # velocidad de la luz (m/s)\n",
    "    xx = np.meshgrid(x,np.ones(N))[0]\n",
    "    \n",
    "    # Generamos arreglo de ondas aleatorias\n",
    "    dlamj =  normal(0, lam*sig,N)\n",
    "    kj = (2*np.pi/(lam + dlamj)).reshape(-1,1)\n",
    "    wj = c0*kj\n",
    "    Erand = np.exp(1j*(kdir*kj*xx-wj*t)) \n",
    "    \n",
    "    # Sumamos todas las ondas\n",
    "    return np.sum(Erand,axis=0)\n",
    " \n",
    "def plot_light_packet(N, t, sig):\n",
    "    '''\n",
    "    n: número de ondas generadas\n",
    "    t: tiempo en ns\n",
    "    sig: % de ancho de banda (dlam = sig*lam)\n",
    "    '''\n",
    "    lam = 0.5         # longitud de onda (um)\n",
    "    t = t*1E-9 # convertimos ns a s\n",
    "    \n",
    "    # recorrido de la onda\n",
    "    x = np.linspace(-2,2,1000)  # desde 0 a 4 micrones\n",
    "    E = light_packet(1, x, t, lam, sig, N)\n",
    "    \n",
    "    # Graficamos\n",
    "    fig, ax = plt.subplots()\n",
    "    fig.set_size_inches(9, 5)\n",
    "    plt.rcParams['font.size'] = '18'\n",
    "    \n",
    "    ax.plot(x,np.real(E), 'k')\n",
    "    ax.set_xlabel('x ($\\mu$m)')\n",
    "    ax.set_ylabel('Amplitud $|E|/E_0$')\n",
    "    ax.set_ylim(-N*1.1,N*1.1)\n",
    "    ax.grid()\n"
   ]
  },
  {
   "cell_type": "code",
   "execution_count": 2,
   "id": "5c81aca7",
   "metadata": {
    "cell_style": "split",
    "slideshow": {
     "slide_type": "fragment"
    }
   },
   "outputs": [
    {
     "data": {
      "application/vnd.jupyter.widget-view+json": {
       "model_id": "3ae73d5728b048e090ea4231c8731765",
       "version_major": 2,
       "version_minor": 0
      },
      "text/plain": [
       "interactive(children=(IntSlider(value=1000, description='N', max=1000, min=1), FloatSlider(value=0.0, descript…"
      ]
     },
     "metadata": {},
     "output_type": "display_data"
    }
   ],
   "source": [
    "from ipywidgets import interact\n",
    "\n",
    "@interact( N=(1,1000,1), \n",
    "           t=(-10,10,0.1),\n",
    "           sig=(0,1,0.01))\n",
    "def g(N=1000, t=0, sig=0.3):\n",
    "    return plot_light_packet(N,t,sig)"
   ]
  },
  {
   "cell_type": "markdown",
   "id": "b53bb755",
   "metadata": {
    "slideshow": {
     "slide_type": "slide"
    }
   },
   "source": [
    "### Longitud de coherencia\n",
    "Definimos como **longitud de coherencia**, $l_c$, a la distancia donde un grupo de ondas electromagnética mantiene correlación entre las fases. Para longitudes mayores a $l_c$, decimos que la luz es incoherente, es decir, el desface entre las distintas ondas es completamente aleatorio."
   ]
  },
  {
   "cell_type": "markdown",
   "id": "3ea340f8",
   "metadata": {
    "cell_style": "split",
    "slideshow": {
     "slide_type": "fragment"
    }
   },
   "source": [
    "<img src=\"./images/coherence_length.png\" width=\"300px\" align= center>\n",
    "\n",
    "<center>Esquema de un paquete de onda emitido por una fuente con longitud de coherencia $l_c$</center>"
   ]
  },
  {
   "cell_type": "markdown",
   "id": "1f71b46f",
   "metadata": {
    "cell_style": "split",
    "slideshow": {
     "slide_type": "fragment"
    }
   },
   "source": [
    "La relación entre $l_c$, la longitud de onda central $\\lambda$ y el ancho de banda $\\Delta\\lambda$ está dado, aproximadamente, por la relación:\n",
    "\n",
    "\\begin{equation*}\n",
    "l_c \\approx \\frac{\\lambda^2}{n\\Delta \\lambda},\n",
    "\\end{equation*}\n",
    "\n",
    "donde $n$ es el indice de refracción del medio donde se propaga la luz.\n",
    "\n",
    "Por ejemplo, para lasers He-Ne (laser rojo)  $l_c\\approx 0.2 - 100$ m.  "
   ]
  },
  {
   "cell_type": "markdown",
   "id": "b8e319bd",
   "metadata": {
    "slideshow": {
     "slide_type": "slide"
    }
   },
   "source": [
    "Para radiación emitida por un cuerpo a temperatura $T$, la longitud de coherencia está dada por:\n",
    "\n",
    "\\begin{equation*}\n",
    "l_c T = 2167.8~\\mathrm{\\mu m~K}\n",
    "\\end{equation*}\n",
    "\n",
    "Así, por ejemplo, la radiación solar ($T \\approx 5800~\\mathrm{K}$) tiene una longitud de coherencia, $l_c \\approx 370~\\mathrm{nm}$"
   ]
  },
  {
   "cell_type": "markdown",
   "id": "659f7454",
   "metadata": {
    "slideshow": {
     "slide_type": "slide"
    }
   },
   "source": [
    "### Régimen de trasporte de luz\n",
    "Consideremos dos paquetes de onda con una longitud de coherencia $l_c$, viajando en sentido opuesto."
   ]
  },
  {
   "cell_type": "markdown",
   "id": "1b6928bc",
   "metadata": {
    "slideshow": {
     "slide_type": "fragment"
    }
   },
   "source": [
    "Podemos ver que ambos paquetes de luz interfieren en $x = 0$ en un instante $t$. Al continuar su camino, ambos paquetes de onda recuperan su forma original."
   ]
  },
  {
   "cell_type": "code",
   "execution_count": 3,
   "id": "8b9e3e63",
   "metadata": {
    "cell_style": "split",
    "slideshow": {
     "slide_type": "slide"
    }
   },
   "outputs": [],
   "source": [
    "def plot_2light_packet(n, t, sig):\n",
    "    '''\n",
    "    n: número de ondas generadas\n",
    "    t: tiempo en ns\n",
    "    sig: % de ancho de banda (dlam = sig*lam)\n",
    "    '''\n",
    "    t = t*1E-9 # convertimos ns a s\n",
    "    lam = 0.5\n",
    "    \n",
    "    # recorrido de la onda\n",
    "    x = np.linspace(-2,2,1000)  # desde 0 a 4 micrones\n",
    "    k0 = 2*np.pi/lam\n",
    "    Efw = light_packet( 1, x - x[ 0], t, lam, sig, n)\n",
    "    Ebw = light_packet(-1, x - x[-1], t, lam, sig, n)\n",
    "    \n",
    "    # Graficamos\n",
    "    fig, ax = plt.subplots()\n",
    "    fig.set_size_inches(9, 5)\n",
    "    plt.rcParams['font.size'] = '18'\n",
    "    \n",
    "    ax.plot(x,np.real(Efw + Ebw), 'k')\n",
    "    ax.set_xlabel('x ($\\mu$m)')\n",
    "    ax.set_ylabel('Amplitud $|E|/E_0$')\n",
    "    ax.set_ylim(-n*2.1,n*2.1)\n",
    "    ax.grid()\n"
   ]
  },
  {
   "cell_type": "code",
   "execution_count": 4,
   "id": "977daeda",
   "metadata": {
    "cell_style": "split"
   },
   "outputs": [
    {
     "data": {
      "application/vnd.jupyter.widget-view+json": {
       "model_id": "3e807fd46e584ad88acb8ad5cc841ab5",
       "version_major": 2,
       "version_minor": 0
      },
      "text/plain": [
       "interactive(children=(IntSlider(value=1000, description='N', max=1000, min=1), FloatSlider(value=2.0, descript…"
      ]
     },
     "metadata": {},
     "output_type": "display_data"
    }
   ],
   "source": [
    "from ipywidgets import interact\n",
    "\n",
    "@interact( N=(1,1000,1), \n",
    "           t=(0,20,0.1),\n",
    "           sig=(0,1,0.01))\n",
    "def g(N=1000, t=2, sig=0.3):\n",
    "    return plot_2light_packet(N,t,sig)"
   ]
  },
  {
   "cell_type": "markdown",
   "id": "615ad1c6",
   "metadata": {
    "slideshow": {
     "slide_type": "slide"
    }
   },
   "source": [
    "A partir de esto, podemos concluir que los fenómenos de interferencia en películas de capa delgada de espesor $d$ no serían visibles si $d > l_c$. En otras palabras, el fenómeno de interferencia solo existe si el paquete de onda interfiere consigo mismo."
   ]
  },
  {
   "cell_type": "markdown",
   "id": "db4d20e4",
   "metadata": {
    "cell_style": "split",
    "slideshow": {
     "slide_type": "fragment"
    }
   },
   "source": [
    "<img src=\"./images/interference_thinfilm.png\" width=\"200px\" align= center>\n",
    "\n",
    "<center>Propagación de una onda a través de una película de espesor $d$, con $l_c < d$</center>"
   ]
  },
  {
   "cell_type": "markdown",
   "id": "fce7ef57",
   "metadata": {
    "cell_style": "split",
    "slideshow": {
     "slide_type": "fragment"
    }
   },
   "source": [
    "En general, para una longitud características $d$:\n",
    "\n",
    "- Si $d > l_c$ el **transporte de luz es incoherente** . En este régimen, podemos ignorar las propiedades oscilatorias de la luz, y analizar el problema como el transporte de pequeños paquetes de onda, o simplemente como partículas.\n",
    "\n",
    "- Si $d < l_c$, el **transporte de luz es coherente**. En este régimen debemos considerar las propiedades oscilatorias a partir de las Ecuaciones de Maxwell."
   ]
  },
  {
   "cell_type": "markdown",
   "id": "06aab8e7",
   "metadata": {
    "cell_style": "center",
    "slideshow": {
     "slide_type": "slide"
    }
   },
   "source": [
    "Así, los coeficientes de Fresnel para una película delgada solo son válidos para $d < l_c$. "
   ]
  },
  {
   "cell_type": "markdown",
   "id": "c7f85265",
   "metadata": {
    "cell_style": "split",
    "slideshow": {
     "slide_type": "fragment"
    }
   },
   "source": [
    "Los coeficientes de Fresnel para una interface, en cambio, siempre son válidos."
   ]
  },
  {
   "cell_type": "markdown",
   "id": "57178760",
   "metadata": {
    "cell_style": "split",
    "slideshow": {
     "slide_type": "fragment"
    }
   },
   "source": [
    "<img src=\"./images/interference_interface.png\" width=\"350px\" align= center>\n",
    "\n",
    "<center>Refracción y reflexión de una onda incoherente a través de una interfaz</center>"
   ]
  },
  {
   "cell_type": "markdown",
   "id": "0c79f1b6",
   "metadata": {
    "slideshow": {
     "slide_type": "slide"
    }
   },
   "source": [
    "Igualmente, en medios particulados, los fenómenos de interferencia pueden ocurrir si las partículas están suficientemente cerca y tienen tamaños similares. Llamamos a esto **scattering coherente**"
   ]
  },
  {
   "cell_type": "markdown",
   "id": "61e2a519",
   "metadata": {
    "slideshow": {
     "slide_type": "fragment"
    }
   },
   "source": [
    "<img src=\"./images/scattering_coherence.png\" width=\"600px\" align= center>\n",
    "\n",
    "<center>Fenómeno de interferencia en scattering</center>"
   ]
  },
  {
   "cell_type": "markdown",
   "id": "8167d93c",
   "metadata": {
    "slideshow": {
     "slide_type": "slide"
    }
   },
   "source": [
    "El fenómeno de scattering coherente da lugar a los denominados **colores estructurales** presentes en las alas de las aves y mariposas (mas info [acá](https://wires.onlinelibrary.wiley.com/doi/10.1002/wnan.1396))"
   ]
  },
  {
   "cell_type": "markdown",
   "id": "06446d60",
   "metadata": {
    "cell_style": "split",
    "slideshow": {
     "slide_type": "fragment"
    }
   },
   "source": [
    "<img src=\"./images/structural_colors_birds.png\" width=\"550px\" align= center>\n",
    "\n",
    "<center>Colores estructurales en alas de aves</center>\n",
    "\n",
    "Fuente: [Hwang, V. et al. PNAS 118 (4) e2015551118\n",
    " (2020)](https://www.pnas.org/doi/10.1073/pnas.2015551118)"
   ]
  },
  {
   "cell_type": "markdown",
   "id": "71eaafb2",
   "metadata": {
    "cell_style": "split",
    "slideshow": {
     "slide_type": "fragment"
    }
   },
   "source": [
    "<img src=\"./images/structural_colors_buterflies.png\" width=\"450px\" align= center>\n",
    "\n",
    "<center>Colores estructurales en alas de mariposa</center>\n",
    "\n",
    "Fuente: [Tippets C. A. et al. J. Opt. 18 (2016) 065105](https://iopscience.iop.org/article/10.1088/2040-8978/18/6/065105)"
   ]
  },
  {
   "cell_type": "markdown",
   "id": "f629fcbe",
   "metadata": {
    "slideshow": {
     "slide_type": "slide"
    }
   },
   "source": [
    "## Teoría de transferencia radiativa\n",
    "Si el transporte de luz es incoherente, podemos ignorar las propiedades oscilatorias de la luz y analizar el fenómeno óptico como un el transporte de radiación a través de un volumen de control."
   ]
  },
  {
   "cell_type": "markdown",
   "id": "f62e3c70",
   "metadata": {
    "slideshow": {
     "slide_type": "slide"
    }
   },
   "source": [
    "### Intensidad específica"
   ]
  },
  {
   "cell_type": "markdown",
   "id": "790c7714",
   "metadata": {
    "cell_style": "split",
    "slideshow": {
     "slide_type": "-"
    }
   },
   "source": [
    "Definimos como **radiancia espectral o intensidad específica**, $I_\\lambda$, al flujo de energía por **ángulo sólido diferencial**, $d\\Omega$, para una longitud de onda $\\lambda$.\n",
    "\n",
    "<img src=\"./images/specific_intensity.png\" width=\"300px\" align= center>"
   ]
  },
  {
   "cell_type": "markdown",
   "id": "8568f20b",
   "metadata": {
    "cell_style": "split",
    "slideshow": {
     "slide_type": "fragment"
    }
   },
   "source": [
    "El ángulo sólido define el tamaño relativo del área $S$ para un observador en $P$ a una distancia $r$. \n",
    "\n",
    "El diferencial está definido por $d\\Omega = \\sin\\theta d\\theta d\\phi$\n",
    "\n",
    "<img src=\"./images/solid_angle.png\" width=\"450px\" align= center>"
   ]
  },
  {
   "cell_type": "markdown",
   "id": "0d8ed016",
   "metadata": {
    "slideshow": {
     "slide_type": "slide"
    }
   },
   "source": [
    "Es importante aclarar que los conceptos intensidad específica y vector de Poynting $\\langle\\vec{S}\\rangle$, son equivalentes: $I_\\lambda(\\hat{k})$ es un término utilizado en radiometría para definir el flujo de energía por unidad de ángulo sólido, mientras que $\\langle\\vec{S}\\rangle$ es un término ulizado en óptica para describir el flujo de energía en dirección $\\hat{k}$. Cabe destacar, sin embargo, que $I_\\lambda(\\hat{k})$ es una magnitud, y $\\langle\\vec{S}\\rangle$ es un vector. Así, podríamos decir que la relación entre estos dos términos está dada por $I_\\lambda(\\hat{k}) = \\langle\\vec{S}\\rangle\\cdot\\hat{k}$."
   ]
  },
  {
   "cell_type": "markdown",
   "id": "067ade0b",
   "metadata": {
    "slideshow": {
     "slide_type": "fragment"
    }
   },
   "source": [
    "El ángulo sólido total para una esfera es:\n",
    "\\begin{equation*}\n",
    "\\int_\\mathrm{esfera} d\\Omega = \\int_0^{2\\pi}\\int_0^{\\pi} \\sin\\theta d\\theta d\\phi= 4\\pi\n",
    "\\end{equation*}"
   ]
  },
  {
   "cell_type": "markdown",
   "id": "921c9262",
   "metadata": {
    "slideshow": {
     "slide_type": "slide"
    }
   },
   "source": [
    "### Ecuación de transferencia radiativa\n",
    "La **ecuación de transferencia radiativa** (RTE por sus siglas en ingles), es una ecuación de transporte que describe la propagación de la radiancia espectral, $I_\\lambda(\\vec{r},\\hat{k})$, en función de la posición posición $\\vec{r}$ y dirección $\\hat{k}$. En su forma más general, para un problema estacionario:\n",
    "\n",
    "\\begin{equation}\n",
    "\\hat{k}\\cdot\\nabla_r I_\\lambda(\\vec{r},\\hat{k}) = - \\left[\\frac{f_v}{V_p}C_\\mathrm{ext} + 2\\kappa k_0\\right]I_\\lambda(\\vec{r},\\hat{k}) + \\frac{f_v}{V_p}\\int_{4\\pi} P_\\mathrm{sca}(\\hat{k},\\hat{k}') I_\\lambda(\\vec{r},\\hat{k}') d\\Omega'\n",
    "\\end{equation}"
   ]
  },
  {
   "cell_type": "markdown",
   "id": "44c82ce8",
   "metadata": {
    "slideshow": {
     "slide_type": "fragment"
    }
   },
   "source": [
    "donde $f_v$ y $V_p$ son, respectivamente la fracción de volúmen y el volúmen de las partículas en el medio, y $P_\\mathrm{sca}(\\hat{k},\\hat{k}')$ es la función de fase."
   ]
  },
  {
   "cell_type": "markdown",
   "id": "84f7041f",
   "metadata": {
    "slideshow": {
     "slide_type": "slide"
    }
   },
   "source": [
    "Notar que consideramos el caso más generalizado de la función de fase, que depende tanto de la dirección de la radiación incidente $\\hat{k}$ como de la dirección del scattering $\\hat{k}'$. Ambas definidas por ángulo sólido"
   ]
  },
  {
   "cell_type": "markdown",
   "id": "556660a5",
   "metadata": {
    "cell_style": "center",
    "slideshow": {
     "slide_type": "fragment"
    }
   },
   "source": [
    "En el caso de una esfera, $\\hat{k}_\\mathrm{sca} = \\hat{k}$ y $\\hat{k}_\\mathrm{inc} = \\hat{k}'$. Así, la función de fase depende de $\\theta$, el cual está definido por $\\cos\\theta = \\hat{k}\\cdot\\hat{k}'$\n",
    "\n"
   ]
  },
  {
   "cell_type": "markdown",
   "id": "b7b71333",
   "metadata": {
    "slideshow": {
     "slide_type": "slide"
    }
   },
   "source": [
    "Con esto en mente, ahora podemos discutir el significado de los términos en la RTE:"
   ]
  },
  {
   "cell_type": "markdown",
   "id": "12e1a1e8",
   "metadata": {
    "slideshow": {
     "slide_type": "fragment"
    }
   },
   "source": [
    "- El primer término representa el cambio de $I_\\lambda(\\vec{r},\\hat{k})$ a través volumen diferencial. Por ejemplo, en el caso unidimencional en dirección $\\hat{k} = \\hat{x}$, tenemos: \n",
    "\n",
    "\\begin{equation*}\n",
    "\\hat{x}\\cdot\\nabla_r I_\\lambda(\\vec{r},\\hat{k}) = \\frac{\\partial}{\\partial x}I_\\lambda(\\vec{r},\\hat{k})\n",
    "\\end{equation*}"
   ]
  },
  {
   "cell_type": "markdown",
   "id": "231c3da9",
   "metadata": {
    "slideshow": {
     "slide_type": "fragment"
    }
   },
   "source": [
    "- El segundo término representa la pérdida de energía radiativa, por extinción $\\left(\\frac{f_v}{V_p}C_\\mathrm{ext}\\right)$ y absorción en el material material ($2\\kappa k_0$), respectivamente. Recordemos que la extinción representa la energía absorbida por las partículas + la energía de scattering en direcciónes distintas a $\\hat{k}$, es decir $C_\\mathrm{ext}= C_\\mathrm{abs} + C_\\mathrm{sca}$."
   ]
  },
  {
   "cell_type": "markdown",
   "id": "4754c5ed",
   "metadata": {
    "slideshow": {
     "slide_type": "fragment"
    }
   },
   "source": [
    "- El tercer término representa la ganancia de energía radiativa produco del scattering inducido por radiación incidente en dirección $\\hat{k}'$. Este término representa el fenómeno de **scattering múltiple**."
   ]
  },
  {
   "cell_type": "markdown",
   "id": "43766712",
   "metadata": {
    "slideshow": {
     "slide_type": "slide"
    }
   },
   "source": [
    "## Soluciones de la RTE\n",
    "La ecuación de transferencia radiativa permite explicar de forma fenomenológica el transporte de radiación en un medio particulado. Debido a su complejidad, existen pocas soluciones analíticas. En esta sección describiremos las tres más conocidas."
   ]
  },
  {
   "cell_type": "markdown",
   "id": "6037462f",
   "metadata": {
    "slideshow": {
     "slide_type": "slide"
    }
   },
   "source": [
    "### Película de material sin partículas (Reflectividad y Transmisividad incoherente)\n",
    "En el caso de un medio sin partículas solo debemos considerar el primer término de la RTE. "
   ]
  },
  {
   "cell_type": "markdown",
   "id": "38e80853",
   "metadata": {
    "slideshow": {
     "slide_type": "fragment"
    }
   },
   "source": [
    "Para el caso particular de un material de espesor $t_\\mathrm{film}$ e índice de refracción $N = n + \\kappa$, rodeado por un medio con índice de refracción $N_0$, derivamos las siguientes relaciones de reflectividad y tranmisividad para luz incoherente:\n",
    "\n",
    "\\begin{align}\n",
    "R_\\mathrm{incoh}&= R_0 + \\frac{T_0^2R_0e^{-4\\kappa k_0 t_\\mathrm{film}}}{1 - R_0^2e^{-4\\kappa k_0 t_\\mathrm{film}}} \n",
    "\\\\[10pt]\n",
    "T_\\mathrm{incoh} &= \\frac{T_0^2e^{-4\\kappa k_0 t_\\mathrm{film}}}{1 - R_0^2e^{-4\\kappa k_0 t_\\mathrm{film}}}\n",
    "\\end{align}\n",
    "\n",
    "donde $R_0$ y $T_0$ corresponden, respectivamente, a la reflectividad y transmisividad en la interface $N_0 / N_1$"
   ]
  },
  {
   "cell_type": "markdown",
   "id": "7b8cb924",
   "metadata": {
    "slideshow": {
     "slide_type": "slide"
    }
   },
   "source": [
    "En el siguiente ejemplo, utilizamos la función ```incoh_multilayer``` de la libreria ```empylib.waveoptics```. Esta función es más general que la ecuación anterior y permite determinar $R_\\mathrm{incoh}$ y $T_\\mathrm{incoh}$ para arreglos multicapas. "
   ]
  },
  {
   "cell_type": "markdown",
   "id": "2a3e7bbc",
   "metadata": {
    "slideshow": {
     "slide_type": "fragment"
    }
   },
   "source": [
    "En este caso, evaluaremos una película de sílice de espesor $1~\\mu\\mathrm{m}$, sobre un sustrato con íncide de refracción $N_\\mathrm{back} = 4.3$, y con aire en la superficie $N_\\mathrm{front} = 1.0$. El espectro de longitudes de onda $\\lambda\\in[0.3,0.8]~\\mu\\mathrm{m}$ y el ángulo de incidencia $\\theta_i = 30°$. Para comparar, determinaremos $R$ y $T$ para el caso de luz coherente."
   ]
  },
  {
   "cell_type": "code",
   "execution_count": 5,
   "id": "a99aa431",
   "metadata": {
    "cell_style": "split",
    "slideshow": {
     "slide_type": "slide"
    }
   },
   "outputs": [],
   "source": [
    "import numpy as np\n",
    "import empylib.waveoptics as wv\n",
    "import empylib.nklib as nk\n",
    "\n",
    "lam = np.linspace(0.3,0.8,100)  # espectro de longitudes de onda (um)\n",
    "theta = np.radians(30)          # ángulo de incidencia\n",
    "\n",
    "Nfront = 1.0                 # índice de refracción medio superior\n",
    "N1     = nk.SiO2(lam)        # índice de refracción capa delgada\n",
    "Nback  = 4.3                 # índice de refracción medio inferior\n",
    "N = (Nfront, N1, Nback)      # indices de refracción (above, mid, below)\n",
    "d = 1.0                      # espesor capa intermedia (um)\n",
    "\n",
    "# caso luz incoherente\n",
    "Rp_incoh, Tp_incoh = wv.incoh_multilayer(lam,theta, N, d, pol='TM')\n",
    "# caso luz coherente\n",
    "Rp, Tp = wv.multilayer(lam,theta, N, d, pol='TM')[:2]"
   ]
  },
  {
   "cell_type": "code",
   "execution_count": 6,
   "id": "3bee2ad8",
   "metadata": {
    "cell_style": "split",
    "slideshow": {
     "slide_type": "fragment"
    }
   },
   "outputs": [
    {
     "data": {
      "image/png": "[encoded data removed]",
      "text/plain": [
       "<Figure size 504x360 with 1 Axes>"
      ]
     },
     "metadata": {
      "filenames": {
       "image/png": "/mnt/d/OneDrive - Universidad Adolfo Ibanez/Teaching_courses/Manejo_y_Conversion_Energia_Solar_Termica/material_catedra/_build/jupyter_execute/5_TransporteRadiativo/5_TransporteRadiativo_49_0.png"
      },
      "needs_background": "light"
     },
     "output_type": "display_data"
    }
   ],
   "source": [
    "fig, ax = plt.subplots()\n",
    "fig.set_size_inches(7, 5)\n",
    "plt.rcParams['font.size'] = '16'\n",
    "\n",
    "# Graficamos el flujo de energía\n",
    "plt.plot(lam,Rp,'--r',label='$R_\\mathrm{TM}$ (coh)')\n",
    "plt.plot(lam,Tp,'--b',label='$T_\\mathrm{TM}$ (coh)')\n",
    "plt.plot(lam,Rp_incoh,'-r',label='$R_\\mathrm{TM}$ (incoh)')\n",
    "plt.plot(lam,Tp_incoh,'-b',label='$T_\\mathrm{TM}$ (incoh)')\n",
    "plt.title('arreglo 1.0/1.5/4.3')\n",
    "plt.xlabel('Longitud de onda ($\\mu$m)')\n",
    "plt.ylabel('Refletividad / Transmisividad')\n",
    "plt.legend()\n",
    "plt.show()"
   ]
  },
  {
   "cell_type": "markdown",
   "id": "c6ed7877",
   "metadata": {
    "slideshow": {
     "slide_type": "slide"
    }
   },
   "source": [
    "En la figura, para el caso de luz coherente, notamos oscilaciones en $R$ y $T$ producto de los fenómenos de interferencia. En el caso de luz incoherente, el fenómeno de interferencia desaparace."
   ]
  },
  {
   "cell_type": "markdown",
   "id": "a5316b37",
   "metadata": {
    "slideshow": {
     "slide_type": "slide"
    }
   },
   "source": [
    "### Película de material con baja concentración de partículas (Ley de Beer-Lambert)\n",
    "Definimos el **camino libre medio de scattering**, como $\\Lambda_\\mathrm{sca} = \\left(f_v C_\\mathrm{sca}/V_p\\right)^{-1}$. Este parametro representa la distancia promedio que recorre la luz entre eventos de scattering."
   ]
  },
  {
   "cell_type": "markdown",
   "id": "a352fb08",
   "metadata": {
    "cell_style": "center",
    "slideshow": {
     "slide_type": "fragment"
    }
   },
   "source": [
    "Si $\\Lambda_\\mathrm{sca}$ es mayor que el espesor del material, $t_\\mathrm{film}$, la probabilidad de que ocurran más de un evento scattering es despreciable, y decimos que el **scattering es de primer orden**. En este caso, el tercer término de la RTE es despreciable y la radiación solo pierde energía por absorción del material o extinción inducida por las partículas."
   ]
  },
  {
   "cell_type": "markdown",
   "id": "9407f0e6",
   "metadata": {
    "slideshow": {
     "slide_type": "slide"
    }
   },
   "source": [
    "La solución a esta ecuación se conoce como la ley de Beer-Lambert. Mediante esta aproximación podemos deducir las componentes total y especular de la transmitancia:\n",
    "\n",
    "\\begin{equation}\n",
    "T_\\mathrm{tot} = T_0 e^{-f_v\\frac{C_\\mathrm{abs}}{V_p}t_\\mathrm{film}}\\quad\\quad\\mathrm{and}\\quad\\quad \n",
    "T_\\mathrm{spec} = T_0 e^{-f_v\\frac{C_\\mathrm{ext}}{V_p}t_\\mathrm{film}}\n",
    "\\end{equation}\n",
    "\n",
    "donde, $T_0$ es la **transmisividad incoherente del material sin incrustaciones**."
   ]
  },
  {
   "cell_type": "markdown",
   "id": "2f29ecb5",
   "metadata": {
    "slideshow": {
     "slide_type": "fragment"
    }
   },
   "source": [
    "<img src=\"./images/beer_lambert.png\" width=\"500px\" align= center>\n",
    "\n",
    "<center>Transporte de luz en un medio con scattering de primer orden</center>"
   ]
  },
  {
   "cell_type": "markdown",
   "id": "963bc3c6",
   "metadata": {
    "slideshow": {
     "slide_type": "slide"
    }
   },
   "source": [
    "Podemos utilizar la ley de Beer-Lambert para analizar, de forma aproximada, el efecto del color del cielo durante el día y en la tarde."
   ]
  },
  {
   "cell_type": "markdown",
   "id": "227d193d",
   "metadata": {
    "slideshow": {
     "slide_type": "fragment"
    }
   },
   "source": [
    "El color del cielo está dado por la componente difusa. Así calculamos $T_\\mathrm{dif} = T_\\mathrm{tot} - T_\\mathrm{spec}$."
   ]
  },
  {
   "cell_type": "markdown",
   "id": "a2577fed",
   "metadata": {
    "slideshow": {
     "slide_type": "fragment"
    }
   },
   "source": [
    "Consideremos una atmosfera compuesta de aire ($N_h = 1.0$) y una pequeña concentración ($f_v = 1\\times 10^{-6}~\\%$) de partículas de 10 nm de diámetro e índice de refracción $N_p = 1.5$. El espesor de la atmosfera es $t_\\mathrm{atm} = 100~\\mathrm{km}$"
   ]
  },
  {
   "cell_type": "code",
   "execution_count": 7,
   "id": "33491447",
   "metadata": {
    "cell_style": "center",
    "slideshow": {
     "slide_type": "slide"
    }
   },
   "outputs": [],
   "source": [
    "import empylib.rad_transfer as rt\n",
    "import empylib.nklib as nk\n",
    "import numpy as np\n",
    "import matplotlib.pyplot as plt\n",
    "from empylib.ref_spectra import AM15\n",
    "from empylib.ref_spectra import color_system as cs\n",
    "cs = cs.hdtv\n",
    "\n",
    "lam1 = np.linspace(0.38,0.78,100) # espectro de longitudes de onda\n",
    "cs.interp_internals(lam1)\n",
    "def plot_atmosphere(theta_sun):\n",
    "    fig, ax = plt.subplots()          \n",
    "    fig.set_size_inches(8, 5)         # Tamaño del gráfico\n",
    "    plt.rcParams['font.size'] = '14'  # tamaño de  fuente\n",
    "    \n",
    "    # parámetros de entrada\n",
    "    tatm = 100E6                      # espesor de la atmósfera 100 km\n",
    "    N = (1.0,1.0,1.0)                 # indice de refracción superior, intermedio e inferior\n",
    "    fvp = 1E-8                        # fracción de volúmen de las partículas\n",
    "    Dp = 0.010                        # diámetro de las partículas\n",
    "    Np = 1.5*lam1**0                  # índice de refracción de las partículas\n",
    "    \n",
    "    # transmitancia total y especular\n",
    "    theta = np.radians(theta_sun)    # posición del sol en radianes\n",
    "    Ttot, Tspec = rt.T_beer_lambert(lam1,theta,tatm,N,fvp,Dp,Np)[:2]\n",
    "    \n",
    "    Tdif = Ttot - Tspec              # transmitancia difusa\n",
    "    ax.plot(lam1,Tdif,'-k',label = 'Tdif')\n",
    "    ax.set_xlabel('Longitud de onda ($\\mu$m)')\n",
    "    ax.set_ylabel('Transmisividad')\n",
    "    ax.set_title(r'Posición del sol, $\\theta_\\mathrm{sun}$=%.1f°'% (theta_sun))\n",
    "    ax.set_ylim(0,1.05)\n",
    "    \n",
    "    Dcircle = 0.25\n",
    "    ax2 = fig.add_axes([0.11,0.15, Dcircle, Dcircle])\n",
    "    Irad = Tdif*AM15(lam1)\n",
    "    html_rgb = cs.spec_to_rgb(Irad, out_fmt='html')\n",
    "    Circle = plt.Circle((0, 0), Dcircle, color=html_rgb)\n",
    "    ax2.add_patch(Circle)\n",
    "    ax2.set_aspect('equal')\n",
    "    ax2.set_xlim(-Dcircle*1.2,Dcircle*1.2)\n",
    "    ax2.set_ylim(-Dcircle*1.2,Dcircle*1.2)\n",
    "    ax2.set_xticks([])\n",
    "    ax2.set_yticks([])\n",
    "    ax2.set_facecolor('k')"
   ]
  },
  {
   "cell_type": "code",
   "execution_count": 8,
   "id": "f3b08336",
   "metadata": {
    "cell_style": "center",
    "slideshow": {
     "slide_type": "slide"
    }
   },
   "outputs": [
    {
     "data": {
      "application/vnd.jupyter.widget-view+json": {
       "model_id": "5eec9e7d8ca94b2b81556d0996481d59",
       "version_major": 2,
       "version_minor": 0
      },
      "text/plain": [
       "interactive(children=(FloatSlider(value=0.0, description='theta_sun', max=89.99), Output()), _dom_classes=('wi…"
      ]
     },
     "metadata": {},
     "output_type": "display_data"
    }
   ],
   "source": [
    "# from ipywidgets import interact\n",
    "\n",
    "@interact(theta_sun=(0,89.99,0.1))\n",
    "def g(theta_sun=0):\n",
    "    return plot_atmosphere(theta_sun)"
   ]
  },
  {
   "cell_type": "markdown",
   "id": "8aa6d072",
   "metadata": {
    "cell_style": "center",
    "slideshow": {
     "slide_type": "slide"
    }
   },
   "source": [
    "### Pelicula de material particulado (simulaciones de transferencia radiativa)\n",
    "Este caso corresponde a materiales con $\\Lambda_\\mathrm{sca} > t_\\mathrm{film}$. En este caso los eventos de scattering se producen más de una vez, y decimos que estámos en un régimen de **scattering múltiple**. Como resultado, los tres términos de la RTE son relevantes y debemos resolver la ecuación mediante simulación computacional.\n",
    "\n",
    "<img src=\"./images/multiple_scattering.png\" width=\"400px\" align= center>\n",
    "\n",
    "<center>Transporte de luz en un medio con scattering múltiple</center>"
   ]
  },
  {
   "cell_type": "markdown",
   "id": "bea5c468",
   "metadata": {
    "slideshow": {
     "slide_type": "slide"
    }
   },
   "source": [
    "Consideremos un material de sílice de espesor $t_\\mathrm{film} = 5~\\mathrm{mm}$. Evaluaremos los colores de este material en transmisión y reflección para luz incidente normal a la superficie en función de la concentración y el diámetro de las partículas. Utilizamos la función ```ad_rad_transfer``` de la librería ```empylib.rad_transfer```"
   ]
  },
  {
   "cell_type": "code",
   "execution_count": 9,
   "id": "24c8d4d6",
   "metadata": {
    "slideshow": {
     "slide_type": "slide"
    }
   },
   "outputs": [],
   "source": [
    "import empylib.rad_transfer as rt\n",
    "import empylib.nklib as nk\n",
    "import empylib.miescattering as mie\n",
    "import numpy as np\n",
    "import matplotlib.pyplot as plt\n",
    "\n",
    "lam2 = np.linspace(0.3,1.0,100) # espectro de longitudes de onda en micrometros\n",
    "Nlayers = (1.0,1.5,1.0)   # indice de refracción superior, intermedio e inferior\n",
    "Np = nk.silver(lam2)                # Índice de refracción de las partículas\n",
    "cs.interp_internals(lam2)\n",
    "\n",
    "def plot_glass_silver(fv,D):\n",
    "    # parámetros de entrada\n",
    "    \n",
    "    theta = np.radians(0)       # 0 grados en radianes\n",
    "    tfilm = 5                   # espesor en milímetros\n",
    "    \n",
    "    fv = fv*1E-7                # fracción de volúmen de las partículas\n",
    "    D = D*1E-3                  # diámetro de las partículas\n",
    "    \n",
    "    qext, qsca = mie.scatter_efficiency(lam2,Nlayers[1],Np,D)[:2]\n",
    "    qabs = qext - qsca\n",
    "    Rtot, Ttot = rt.ad_rad_transfer(lam2,tfilm,Nlayers,fv,D,Np)\n",
    "\n",
    "    fig, ax = plt.subplots(1,3)\n",
    "    fig.set_size_inches(20, 5)\n",
    "    plt.rcParams['font.size'] = '16'\n",
    "    \n",
    "    ax[0].plot(lam2,qsca,'-r',label='$C_\\mathrm{sca} A_c$')\n",
    "    ax[0].plot(lam2,qabs,'-b',label='$C_\\mathrm{abs} A_c$')\n",
    "    ax[0].set_xlabel('Longitud de onda ($\\mu$m)')\n",
    "    ax[0].set_ylabel('Eficiencia transversal')\n",
    "    ax[0].set_title('Partícula de plata (D=%.0f nm)' % (D*1E3))\n",
    "    ax[0].legend()\n",
    "    ax[0].set_ylim(0,10)\n",
    "    \n",
    "    ax[1].plot(lam2,Rtot,'-r',label = 'Rtot')\n",
    "    ax[1].plot(lam2,Ttot,'-b',label = 'Ttot')\n",
    "    ax[1].set_xlabel('Longitud de onda ($\\mu$m)')\n",
    "    ax[1].set_ylabel('Transmisividad')\n",
    "    ax[1].set_title(r'Sílice con plata (fv = %.3e %%)' % (fv*100) )\n",
    "    ax[1].legend()\n",
    "    ax[1].set_ylim(0,1)\n",
    "\n",
    "    Dcircle = 0.20\n",
    "    html_rgb = cs.spec_to_rgb(Ttot*AM15(lam2), out_fmt='html')\n",
    "    Circle = plt.Circle((0, 0), Dcircle, color=html_rgb)\n",
    "    ax[2].add_patch(Circle)\n",
    "    ax[2].annotate('Luz Trasera', xy=(0, 0), va='center', ha='center')\n",
    "\n",
    "    html_rgb = cs.spec_to_rgb(Rtot*AM15(lam2), out_fmt='html')\n",
    "    Circle = plt.Circle((Dcircle*1.2*2, 0), Dcircle, color=html_rgb)\n",
    "    ax[2].add_patch(Circle)\n",
    "    ax[2].annotate('Luz Frontal', xy=(Dcircle*1.2*2, 0), va='center', ha='center')\n",
    "\n",
    "    ax[2].set_aspect('equal')\n",
    "    ax[2].set_xlim(-Dcircle*1.2,Dcircle*1.2*3)\n",
    "    ax[2].set_ylim(-Dcircle*1.2,Dcircle*1.2)\n",
    "    ax[2].set_xticks([])\n",
    "    ax[2].set_yticks([])\n",
    "    ax[2].set_facecolor('k')\n",
    "    plt.subplots_adjust(wspace=0.3)"
   ]
  },
  {
   "cell_type": "code",
   "execution_count": 10,
   "id": "494ceeb2",
   "metadata": {
    "cell_style": "center",
    "slideshow": {
     "slide_type": "slide"
    }
   },
   "outputs": [
    {
     "data": {
      "application/vnd.jupyter.widget-view+json": {
       "model_id": "3f2582fc6bbd405198c166bd0ce03e19",
       "version_major": 2,
       "version_minor": 0
      },
      "text/plain": [
       "interactive(children=(IntSlider(value=20, description='fv', min=1), IntSlider(value=70, description='D', max=2…"
      ]
     },
     "metadata": {},
     "output_type": "display_data"
    }
   ],
   "source": [
    "from ipywidgets import interact\n",
    "\n",
    "@interact(fv=(1,100,1), D = (10,200,1))\n",
    "def g(fv=20, D = 70):\n",
    "    return plot_glass_silver(fv,D)"
   ]
  },
  {
   "cell_type": "markdown",
   "id": "031ca52b",
   "metadata": {
    "slideshow": {
     "slide_type": "slide"
    }
   },
   "source": [
    "Cuando la concentración de partículas es densa, el medio se vuelve opaco. Este régimen se denomina **scattering difuso** y permite explicar, entre otras cosas, el color de las nubes o la pintura blanca\n",
    "\n",
    "<img src=\"./images/diffuse_scattering.png\" width=\"400px\" align= center>\n",
    "\n",
    "<center>Transporte de luz en un medio con scattering difuso</center>"
   ]
  },
  {
   "cell_type": "markdown",
   "id": "01df5bd6",
   "metadata": {
    "slideshow": {
     "slide_type": "slide"
    }
   },
   "source": [
    "Un ejemplo interesante corresponde a la leche. En términos simples, la leche es una emulsión formada por pequeñas partículas de grasa dispersas en un medio acuoso. \n",
    "\n",
    "<img src=\"./images/milk_microscope.png\" width=\"400px\" align= center>\n",
    "\n",
    "<center>Imagen de microscópio (40x) de leche orgánica. Las burbujas verdes corresponden al aceite en suspención en agua.</center>\n",
    "\n",
    "Fuente: [Braun K., Hanewald A. and Vilgis T. Foods 8(10): 483(2019)](https://www.ncbi.nlm.nih.gov/pmc/articles/PMC6836175/)"
   ]
  },
  {
   "cell_type": "markdown",
   "id": "225b5528",
   "metadata": {
    "slideshow": {
     "slide_type": "fragment"
    }
   },
   "source": [
    "Como aproximación, consideremos un medio de espesor $1$ cm, compuesto por agua $N_h = 1.3$ y pequeñas partículas esféricas de aceite $N_p = 1.5$. La emulsión considera un 60% de partículas de aceite por volumen."
   ]
  },
  {
   "cell_type": "code",
   "execution_count": 11,
   "id": "72cbfc3e",
   "metadata": {
    "cell_style": "split",
    "slideshow": {
     "slide_type": "slide"
    }
   },
   "outputs": [],
   "source": [
    "%%capture showplot\n",
    "# import empylib.nklib as nk\n",
    "import numpy as np\n",
    "import empylib.rad_transfer as rt\n",
    "\n",
    "# Solo modificar estos parámetros\n",
    "#---------------------------------------------------------------\n",
    "lam3 = np.linspace(0.3,1.0,100)   # espectro de longitudes de onda\n",
    "tfilm = 10                        # espesor en milímetros\n",
    "fv = 0.6                          # fracción de volúmen de los poros\n",
    "D = 1.0                           # diámetro de los poros (micrones)\n",
    "Nh2o = 1.3                        # Índice de refracción del agua\n",
    "Noil = 1.5                        # índice de refracción partículas de aceite\n",
    "#---------------------------------------------------------------\n",
    "Rtot, Ttot = rt.ad_rad_transfer(lam3,tfilm,(1.0,Nh2o,1.0),fv,D,Noil)\n",
    "\n",
    "fig, ax = plt.subplots()\n",
    "fig.set_size_inches(7, 5)\n",
    "plt.rcParams['font.size'] = '16'\n",
    "ax.plot(lam3,Rtot,'-r',label='R')\n",
    "ax.plot(lam3,Ttot,'-b',label='T')\n",
    "ax.set_xlabel('Longitud de onda ($\\mu$m)')\n",
    "ax.set_ylabel('Reflectividad / Transmisividad')\n",
    "ax.set_title(r'Leche (fv = %.0f %%)' % (fv*100))\n",
    "ax.legend()\n",
    "ax.set_ylim(0,1.02)\n",
    "plt.show"
   ]
  },
  {
   "cell_type": "code",
   "execution_count": 12,
   "id": "9a1291f7",
   "metadata": {
    "cell_style": "split",
    "slideshow": {
     "slide_type": "fragment"
    }
   },
   "outputs": [
    {
     "data": {
      "text/plain": [
       "<function matplotlib.pyplot.show(close=None, block=None)>"
      ]
     },
     "metadata": {},
     "output_type": "display_data"
    },
    {
     "data": {
      "image/png": "[encoded data removed]",
      "text/plain": [
       "<Figure size 504x360 with 1 Axes>"
      ]
     },
     "metadata": {
      "filenames": {
       "image/png": "/mnt/d/OneDrive - Universidad Adolfo Ibanez/Teaching_courses/Manejo_y_Conversion_Energia_Solar_Termica/material_catedra/_build/jupyter_execute/5_TransporteRadiativo/5_TransporteRadiativo_68_1.png"
      },
      "needs_background": "light"
     },
     "output_type": "display_data"
    }
   ],
   "source": [
    "showplot()"
   ]
  },
  {
   "cell_type": "markdown",
   "id": "6c035f58",
   "metadata": {
    "slideshow": {
     "slide_type": "slide"
    }
   },
   "source": [
    "Como vemos la alta concentración de partículas hace que la refletividad y transmisividad se vuelvan casi uniformes para todas las longitudes de onda. El espectro, así, toma un color blanco frente a una fuente de luz blanca."
   ]
  },
  {
   "cell_type": "markdown",
   "id": "17c1dc23",
   "metadata": {
    "slideshow": {
     "slide_type": "slide"
    }
   },
   "source": [
    "## Referencias\n",
    "- Chen G. **Chapter 5 - Energy Transfer by Waves** in *Nanoscale energy transport and conversion*, 1st Ed, Oxford University Press, 2005"
   ]
  }
 ],
 "metadata": {
  "celltoolbar": "Slideshow",
  "kernelspec": {
   "display_name": "Python 3 (ipykernel)",
   "language": "python",
   "name": "python3"
  },
  "language_info": {
   "codemirror_mode": {
    "name": "ipython",
    "version": 3
   },
   "file_extension": ".py",
   "mimetype": "text/x-python",
   "name": "python",
   "nbconvert_exporter": "python",
   "pygments_lexer": "ipython3",
   "version": "3.9.13"
  },
  "latex_envs": {
   "LaTeX_envs_menu_present": false,
   "autoclose": false,
   "autocomplete": false,
   "bibliofile": "biblio.bib",
   "cite_by": "apalike",
   "current_citInitial": 1,
   "eqLabelWithNumbers": true,
   "eqNumInitial": 2,
   "hotkeys": {
    "equation": "Ctrl-E",
    "itemize": "Ctrl-I"
   },
   "labels_anchors": false,
   "latex_user_defs": false,
   "report_style_numbering": false,
   "user_envs_cfg": true
  },
  "toc": {
   "base_numbering": 1,
   "nav_menu": {},
   "number_sections": false,
   "sideBar": true,
   "skip_h1_title": true,
   "title_cell": "Tabla de contenidos",
   "title_sidebar": "Contenidos",
   "toc_cell": false,
   "toc_position": {
    "height": "calc(100% - 180px)",
    "left": "10px",
    "top": "150px",
    "width": "307.2px"
   },
   "toc_section_display": true,
   "toc_window_display": false
  },
  "varInspector": {
   "cols": {
    "lenName": 16,
    "lenType": 16,
    "lenVar": 40
   },
   "kernels_config": {
    "python": {
     "delete_cmd_postfix": "",
     "delete_cmd_prefix": "del ",
     "library": "var_list.py",
     "varRefreshCmd": "print(var_dic_list())"
    },
    "r": {
     "delete_cmd_postfix": ") ",
     "delete_cmd_prefix": "rm(",
     "library": "var_list.r",
     "varRefreshCmd": "cat(var_dic_list()) "
    }
   },
   "types_to_exclude": [
    "module",
    "function",
    "builtin_function_or_method",
    "instance",
    "_Feature"
   ],
   "window_display": false
  },
  "widgets": {
   "application/vnd.jupyter.widget-state+json": {
    "state": {
     "00690db05918494e99f24ab51c74e448": {
      "model_module": "@jupyter-widgets/output",
      "model_module_version": "1.0.0",
      "model_name": "OutputModel",
      "state": {
       "_dom_classes": [],
       "_model_module": "@jupyter-widgets/output",
       "_model_module_version": "1.0.0",
       "_model_name": "OutputModel",
       "_view_count": null,
       "_view_module": "@jupyter-widgets/output",
       "_view_module_version": "1.0.0",
       "_view_name": "OutputView",
       "layout": "IPY_MODEL_2d01fc0ef54b4cefb011225b9649dec2",
       "msg_id": "",
       "outputs": [
        {
         "data": {
          "image/png": "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\n",
          "text/plain": "<Figure size 648x360 with 1 Axes>"
         },
         "metadata": {
          "needs_background": "light"
         },
         "output_type": "display_data"
        }
       ]
      }
     },
     "0bbea6ec88bd4f7f8fe89a71c05fcfd9": {
      "model_module": "@jupyter-widgets/base",
      "model_module_version": "1.2.0",
      "model_name": "LayoutModel",
      "state": {
       "_model_module": "@jupyter-widgets/base",
       "_model_module_version": "1.2.0",
       "_model_name": "LayoutModel",
       "_view_count": null,
       "_view_module": "@jupyter-widgets/base",
       "_view_module_version": "1.2.0",
       "_view_name": "LayoutView",
       "align_content": null,
       "align_items": null,
       "align_self": null,
       "border": null,
       "bottom": null,
       "display": null,
       "flex": null,
       "flex_flow": null,
       "grid_area": null,
       "grid_auto_columns": null,
       "grid_auto_flow": null,
       "grid_auto_rows": null,
       "grid_column": null,
       "grid_gap": null,
       "grid_row": null,
       "grid_template_areas": null,
       "grid_template_columns": null,
       "grid_template_rows": null,
       "height": null,
       "justify_content": null,
       "justify_items": null,
       "left": null,
       "margin": null,
       "max_height": null,
       "max_width": null,
       "min_height": null,
       "min_width": null,
       "object_fit": null,
       "object_position": null,
       "order": null,
       "overflow": null,
       "overflow_x": null,
       "overflow_y": null,
       "padding": null,
       "right": null,
       "top": null,
       "visibility": null,
       "width": null
      }
     },
     "0e236493dc484546b902a4e5c6004735": {
      "model_module": "@jupyter-widgets/base",
      "model_module_version": "1.2.0",
      "model_name": "LayoutModel",
      "state": {
       "_model_module": "@jupyter-widgets/base",
       "_model_module_version": "1.2.0",
       "_model_name": "LayoutModel",
       "_view_count": null,
       "_view_module": "@jupyter-widgets/base",
       "_view_module_version": "1.2.0",
       "_view_name": "LayoutView",
       "align_content": null,
       "align_items": null,
       "align_self": null,
       "border": null,
       "bottom": null,
       "display": null,
       "flex": null,
       "flex_flow": null,
       "grid_area": null,
       "grid_auto_columns": null,
       "grid_auto_flow": null,
       "grid_auto_rows": null,
       "grid_column": null,
       "grid_gap": null,
       "grid_row": null,
       "grid_template_areas": null,
       "grid_template_columns": null,
       "grid_template_rows": null,
       "height": null,
       "justify_content": null,
       "justify_items": null,
       "left": null,
       "margin": null,
       "max_height": null,
       "max_width": null,
       "min_height": null,
       "min_width": null,
       "object_fit": null,
       "object_position": null,
       "order": null,
       "overflow": null,
       "overflow_x": null,
       "overflow_y": null,
       "padding": null,
       "right": null,
       "top": null,
       "visibility": null,
       "width": null
      }
     },
     "10c8ac614d5842b181ebc95cb2c4e310": {
      "model_module": "@jupyter-widgets/controls",
      "model_module_version": "1.5.0",
      "model_name": "FloatSliderModel",
      "state": {
       "_dom_classes": [],
       "_model_module": "@jupyter-widgets/controls",
       "_model_module_version": "1.5.0",
       "_model_name": "FloatSliderModel",
       "_view_count": null,
       "_view_module": "@jupyter-widgets/controls",
       "_view_module_version": "1.5.0",
       "_view_name": "FloatSliderView",
       "continuous_update": true,
       "description": "sig",
       "description_tooltip": null,
       "disabled": false,
       "layout": "IPY_MODEL_58b47e5d75454eb0bb982aa3e63febf0",
       "max": 1.0,
       "min": 0.0,
       "orientation": "horizontal",
       "readout": true,
       "readout_format": ".2f",
       "step": 0.01,
       "style": "IPY_MODEL_53d57f91c85745faaf2577113f94bca2",
       "value": 0.3
      }
     },
     "1318b8a6010b4d32b37c9631ae2e596a": {
      "model_module": "@jupyter-widgets/output",
      "model_module_version": "1.0.0",
      "model_name": "OutputModel",
      "state": {
       "_dom_classes": [],
       "_model_module": "@jupyter-widgets/output",
       "_model_module_version": "1.0.0",
       "_model_name": "OutputModel",
       "_view_count": null,
       "_view_module": "@jupyter-widgets/output",
       "_view_module_version": "1.0.0",
       "_view_name": "OutputView",
       "layout": "IPY_MODEL_0e236493dc484546b902a4e5c6004735",
       "msg_id": "",
       "outputs": [
        {
         "data": {
          "image/png": "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\n",
          "text/plain": "<Figure size 576x360 with 2 Axes>"
         },
         "metadata": {
          "needs_background": "light"
         },
         "output_type": "display_data"
        }
       ]
      }
     },
     "1535bc6bd53c4ee3906e151ddb8564ca": {
      "model_module": "@jupyter-widgets/controls",
      "model_module_version": "1.5.0",
      "model_name": "SliderStyleModel",
      "state": {
       "_model_module": "@jupyter-widgets/controls",
       "_model_module_version": "1.5.0",
       "_model_name": "SliderStyleModel",
       "_view_count": null,
       "_view_module": "@jupyter-widgets/base",
       "_view_module_version": "1.2.0",
       "_view_name": "StyleView",
       "description_width": "",
       "handle_color": null
      }
     },
     "22ffe44d12a540a9ac465843dab7258f": {
      "model_module": "@jupyter-widgets/controls",
      "model_module_version": "1.5.0",
      "model_name": "FloatSliderModel",
      "state": {
       "_dom_classes": [],
       "_model_module": "@jupyter-widgets/controls",
       "_model_module_version": "1.5.0",
       "_model_name": "FloatSliderModel",
       "_view_count": null,
       "_view_module": "@jupyter-widgets/controls",
       "_view_module_version": "1.5.0",
       "_view_name": "FloatSliderView",
       "continuous_update": true,
       "description": "theta_sun",
       "description_tooltip": null,
       "disabled": false,
       "layout": "IPY_MODEL_e63d0dddb6fb465aaeb3600b0cd82997",
       "max": 89.99,
       "min": 0.0,
       "orientation": "horizontal",
       "readout": true,
       "readout_format": ".2f",
       "step": 0.1,
       "style": "IPY_MODEL_2c2ac3f2800f4beca455f20a357fdc80",
       "value": 0.0
      }
     },
     "26a5358ff036420da59756f6b227e25a": {
      "model_module": "@jupyter-widgets/controls",
      "model_module_version": "1.5.0",
      "model_name": "SliderStyleModel",
      "state": {
       "_model_module": "@jupyter-widgets/controls",
       "_model_module_version": "1.5.0",
       "_model_name": "SliderStyleModel",
       "_view_count": null,
       "_view_module": "@jupyter-widgets/base",
       "_view_module_version": "1.2.0",
       "_view_name": "StyleView",
       "description_width": "",
       "handle_color": null
      }
     },
     "2c2ac3f2800f4beca455f20a357fdc80": {
      "model_module": "@jupyter-widgets/controls",
      "model_module_version": "1.5.0",
      "model_name": "SliderStyleModel",
      "state": {
       "_model_module": "@jupyter-widgets/controls",
       "_model_module_version": "1.5.0",
       "_model_name": "SliderStyleModel",
       "_view_count": null,
       "_view_module": "@jupyter-widgets/base",
       "_view_module_version": "1.2.0",
       "_view_name": "StyleView",
       "description_width": "",
       "handle_color": null
      }
     },
     "2c5729cca21d479ca3a1a2a3f63c4aad": {
      "model_module": "@jupyter-widgets/base",
      "model_module_version": "1.2.0",
      "model_name": "LayoutModel",
      "state": {
       "_model_module": "@jupyter-widgets/base",
       "_model_module_version": "1.2.0",
       "_model_name": "LayoutModel",
       "_view_count": null,
       "_view_module": "@jupyter-widgets/base",
       "_view_module_version": "1.2.0",
       "_view_name": "LayoutView",
       "align_content": null,
       "align_items": null,
       "align_self": null,
       "border": null,
       "bottom": null,
       "display": null,
       "flex": null,
       "flex_flow": null,
       "grid_area": null,
       "grid_auto_columns": null,
       "grid_auto_flow": null,
       "grid_auto_rows": null,
       "grid_column": null,
       "grid_gap": null,
       "grid_row": null,
       "grid_template_areas": null,
       "grid_template_columns": null,
       "grid_template_rows": null,
       "height": null,
       "justify_content": null,
       "justify_items": null,
       "left": null,
       "margin": null,
       "max_height": null,
       "max_width": null,
       "min_height": null,
       "min_width": null,
       "object_fit": null,
       "object_position": null,
       "order": null,
       "overflow": null,
       "overflow_x": null,
       "overflow_y": null,
       "padding": null,
       "right": null,
       "top": null,
       "visibility": null,
       "width": null
      }
     },
     "2d01fc0ef54b4cefb011225b9649dec2": {
      "model_module": "@jupyter-widgets/base",
      "model_module_version": "1.2.0",
      "model_name": "LayoutModel",
      "state": {
       "_model_module": "@jupyter-widgets/base",
       "_model_module_version": "1.2.0",
       "_model_name": "LayoutModel",
       "_view_count": null,
       "_view_module": "@jupyter-widgets/base",
       "_view_module_version": "1.2.0",
       "_view_name": "LayoutView",
       "align_content": null,
       "align_items": null,
       "align_self": null,
       "border": null,
       "bottom": null,
       "display": null,
       "flex": null,
       "flex_flow": null,
       "grid_area": null,
       "grid_auto_columns": null,
       "grid_auto_flow": null,
       "grid_auto_rows": null,
       "grid_column": null,
       "grid_gap": null,
       "grid_row": null,
       "grid_template_areas": null,
       "grid_template_columns": null,
       "grid_template_rows": null,
       "height": null,
       "justify_content": null,
       "justify_items": null,
       "left": null,
       "margin": null,
       "max_height": null,
       "max_width": null,
       "min_height": null,
       "min_width": null,
       "object_fit": null,
       "object_position": null,
       "order": null,
       "overflow": null,
       "overflow_x": null,
       "overflow_y": null,
       "padding": null,
       "right": null,
       "top": null,
       "visibility": null,
       "width": null
      }
     },
     "3ae73d5728b048e090ea4231c8731765": {
      "model_module": "@jupyter-widgets/controls",
      "model_module_version": "1.5.0",
      "model_name": "VBoxModel",
      "state": {
       "_dom_classes": [
        "widget-interact"
       ],
       "_model_module": "@jupyter-widgets/controls",
       "_model_module_version": "1.5.0",
       "_model_name": "VBoxModel",
       "_view_count": null,
       "_view_module": "@jupyter-widgets/controls",
       "_view_module_version": "1.5.0",
       "_view_name": "VBoxView",
       "box_style": "",
       "children": [
        "IPY_MODEL_5bd84aea754240e3b318694479b5948c",
        "IPY_MODEL_78b3aa1d4433476a836c485e1c8be6a9",
        "IPY_MODEL_dbdf6a0fd1ba4e91b2692fd194b705b2",
        "IPY_MODEL_add78bb2772d40e9a5f29f5175866b32"
       ],
       "layout": "IPY_MODEL_73c34fb9e8cb41618769cffd8b2f69f1"
      }
     },
     "3e807fd46e584ad88acb8ad5cc841ab5": {
      "model_module": "@jupyter-widgets/controls",
      "model_module_version": "1.5.0",
      "model_name": "VBoxModel",
      "state": {
       "_dom_classes": [
        "widget-interact"
       ],
       "_model_module": "@jupyter-widgets/controls",
       "_model_module_version": "1.5.0",
       "_model_name": "VBoxModel",
       "_view_count": null,
       "_view_module": "@jupyter-widgets/controls",
       "_view_module_version": "1.5.0",
       "_view_name": "VBoxView",
       "box_style": "",
       "children": [
        "IPY_MODEL_82c3bd2c42f44863a7956fc28e3bb22b",
        "IPY_MODEL_87922f2731364256a96c3d3c2414d239",
        "IPY_MODEL_10c8ac614d5842b181ebc95cb2c4e310",
        "IPY_MODEL_00690db05918494e99f24ab51c74e448"
       ],
       "layout": "IPY_MODEL_f9e9c3daad3f4bdda3e3d50ca303d2c0"
      }
     },
     "3f2582fc6bbd405198c166bd0ce03e19": {
      "model_module": "@jupyter-widgets/controls",
      "model_module_version": "1.5.0",
      "model_name": "VBoxModel",
      "state": {
       "_dom_classes": [
        "widget-interact"
       ],
       "_model_module": "@jupyter-widgets/controls",
       "_model_module_version": "1.5.0",
       "_model_name": "VBoxModel",
       "_view_count": null,
       "_view_module": "@jupyter-widgets/controls",
       "_view_module_version": "1.5.0",
       "_view_name": "VBoxView",
       "box_style": "",
       "children": [
        "IPY_MODEL_82073dc19b984995a102fedcafa35717",
        "IPY_MODEL_e08e81ea1cc542b2b1f604d5517c72a6",
        "IPY_MODEL_d6b9cbe3955a4603afa93682c74775eb"
       ],
       "layout": "IPY_MODEL_bee45822f00949b5ab6480f8383b18af"
      }
     },
     "4deed7d086ca4ad2a8bd6829b4c869d4": {
      "model_module": "@jupyter-widgets/base",
      "model_module_version": "1.2.0",
      "model_name": "LayoutModel",
      "state": {
       "_model_module": "@jupyter-widgets/base",
       "_model_module_version": "1.2.0",
       "_model_name": "LayoutModel",
       "_view_count": null,
       "_view_module": "@jupyter-widgets/base",
       "_view_module_version": "1.2.0",
       "_view_name": "LayoutView",
       "align_content": null,
       "align_items": null,
       "align_self": null,
       "border": null,
       "bottom": null,
       "display": null,
       "flex": null,
       "flex_flow": null,
       "grid_area": null,
       "grid_auto_columns": null,
       "grid_auto_flow": null,
       "grid_auto_rows": null,
       "grid_column": null,
       "grid_gap": null,
       "grid_row": null,
       "grid_template_areas": null,
       "grid_template_columns": null,
       "grid_template_rows": null,
       "height": null,
       "justify_content": null,
       "justify_items": null,
       "left": null,
       "margin": null,
       "max_height": null,
       "max_width": null,
       "min_height": null,
       "min_width": null,
       "object_fit": null,
       "object_position": null,
       "order": null,
       "overflow": null,
       "overflow_x": null,
       "overflow_y": null,
       "padding": null,
       "right": null,
       "top": null,
       "visibility": null,
       "width": null
      }
     },
     "4f06e6ad0340442d8ff8e4ae6794ffeb": {
      "model_module": "@jupyter-widgets/base",
      "model_module_version": "1.2.0",
      "model_name": "LayoutModel",
      "state": {
       "_model_module": "@jupyter-widgets/base",
       "_model_module_version": "1.2.0",
       "_model_name": "LayoutModel",
       "_view_count": null,
       "_view_module": "@jupyter-widgets/base",
       "_view_module_version": "1.2.0",
       "_view_name": "LayoutView",
       "align_content": null,
       "align_items": null,
       "align_self": null,
       "border": null,
       "bottom": null,
       "display": null,
       "flex": null,
       "flex_flow": null,
       "grid_area": null,
       "grid_auto_columns": null,
       "grid_auto_flow": null,
       "grid_auto_rows": null,
       "grid_column": null,
       "grid_gap": null,
       "grid_row": null,
       "grid_template_areas": null,
       "grid_template_columns": null,
       "grid_template_rows": null,
       "height": null,
       "justify_content": null,
       "justify_items": null,
       "left": null,
       "margin": null,
       "max_height": null,
       "max_width": null,
       "min_height": null,
       "min_width": null,
       "object_fit": null,
       "object_position": null,
       "order": null,
       "overflow": null,
       "overflow_x": null,
       "overflow_y": null,
       "padding": null,
       "right": null,
       "top": null,
       "visibility": null,
       "width": null
      }
     },
     "53d57f91c85745faaf2577113f94bca2": {
      "model_module": "@jupyter-widgets/controls",
      "model_module_version": "1.5.0",
      "model_name": "SliderStyleModel",
      "state": {
       "_model_module": "@jupyter-widgets/controls",
       "_model_module_version": "1.5.0",
       "_model_name": "SliderStyleModel",
       "_view_count": null,
       "_view_module": "@jupyter-widgets/base",
       "_view_module_version": "1.2.0",
       "_view_name": "StyleView",
       "description_width": "",
       "handle_color": null
      }
     },
     "58b47e5d75454eb0bb982aa3e63febf0": {
      "model_module": "@jupyter-widgets/base",
      "model_module_version": "1.2.0",
      "model_name": "LayoutModel",
      "state": {
       "_model_module": "@jupyter-widgets/base",
       "_model_module_version": "1.2.0",
       "_model_name": "LayoutModel",
       "_view_count": null,
       "_view_module": "@jupyter-widgets/base",
       "_view_module_version": "1.2.0",
       "_view_name": "LayoutView",
       "align_content": null,
       "align_items": null,
       "align_self": null,
       "border": null,
       "bottom": null,
       "display": null,
       "flex": null,
       "flex_flow": null,
       "grid_area": null,
       "grid_auto_columns": null,
       "grid_auto_flow": null,
       "grid_auto_rows": null,
       "grid_column": null,
       "grid_gap": null,
       "grid_row": null,
       "grid_template_areas": null,
       "grid_template_columns": null,
       "grid_template_rows": null,
       "height": null,
       "justify_content": null,
       "justify_items": null,
       "left": null,
       "margin": null,
       "max_height": null,
       "max_width": null,
       "min_height": null,
       "min_width": null,
       "object_fit": null,
       "object_position": null,
       "order": null,
       "overflow": null,
       "overflow_x": null,
       "overflow_y": null,
       "padding": null,
       "right": null,
       "top": null,
       "visibility": null,
       "width": null
      }
     },
     "5bd84aea754240e3b318694479b5948c": {
      "model_module": "@jupyter-widgets/controls",
      "model_module_version": "1.5.0",
      "model_name": "IntSliderModel",
      "state": {
       "_dom_classes": [],
       "_model_module": "@jupyter-widgets/controls",
       "_model_module_version": "1.5.0",
       "_model_name": "IntSliderModel",
       "_view_count": null,
       "_view_module": "@jupyter-widgets/controls",
       "_view_module_version": "1.5.0",
       "_view_name": "IntSliderView",
       "continuous_update": true,
       "description": "N",
       "description_tooltip": null,
       "disabled": false,
       "layout": "IPY_MODEL_4f06e6ad0340442d8ff8e4ae6794ffeb",
       "max": 1000,
       "min": 1,
       "orientation": "horizontal",
       "readout": true,
       "readout_format": "d",
       "step": 1,
       "style": "IPY_MODEL_a9544278702f4002a82a775c7e3eb0f6",
       "value": 1000
      }
     },
     "5eec9e7d8ca94b2b81556d0996481d59": {
      "model_module": "@jupyter-widgets/controls",
      "model_module_version": "1.5.0",
      "model_name": "VBoxModel",
      "state": {
       "_dom_classes": [
        "widget-interact"
       ],
       "_model_module": "@jupyter-widgets/controls",
       "_model_module_version": "1.5.0",
       "_model_name": "VBoxModel",
       "_view_count": null,
       "_view_module": "@jupyter-widgets/controls",
       "_view_module_version": "1.5.0",
       "_view_name": "VBoxView",
       "box_style": "",
       "children": [
        "IPY_MODEL_22ffe44d12a540a9ac465843dab7258f",
        "IPY_MODEL_1318b8a6010b4d32b37c9631ae2e596a"
       ],
       "layout": "IPY_MODEL_aebf9fa2fc85452dab180f83e1d0d19c"
      }
     },
     "6211d08403fb4fe29ebcea3df7c3f11b": {
      "model_module": "@jupyter-widgets/controls",
      "model_module_version": "1.5.0",
      "model_name": "SliderStyleModel",
      "state": {
       "_model_module": "@jupyter-widgets/controls",
       "_model_module_version": "1.5.0",
       "_model_name": "SliderStyleModel",
       "_view_count": null,
       "_view_module": "@jupyter-widgets/base",
       "_view_module_version": "1.2.0",
       "_view_name": "StyleView",
       "description_width": "",
       "handle_color": null
      }
     },
     "73c34fb9e8cb41618769cffd8b2f69f1": {
      "model_module": "@jupyter-widgets/base",
      "model_module_version": "1.2.0",
      "model_name": "LayoutModel",
      "state": {
       "_model_module": "@jupyter-widgets/base",
       "_model_module_version": "1.2.0",
       "_model_name": "LayoutModel",
       "_view_count": null,
       "_view_module": "@jupyter-widgets/base",
       "_view_module_version": "1.2.0",
       "_view_name": "LayoutView",
       "align_content": null,
       "align_items": null,
       "align_self": null,
       "border": null,
       "bottom": null,
       "display": null,
       "flex": null,
       "flex_flow": null,
       "grid_area": null,
       "grid_auto_columns": null,
       "grid_auto_flow": null,
       "grid_auto_rows": null,
       "grid_column": null,
       "grid_gap": null,
       "grid_row": null,
       "grid_template_areas": null,
       "grid_template_columns": null,
       "grid_template_rows": null,
       "height": null,
       "justify_content": null,
       "justify_items": null,
       "left": null,
       "margin": null,
       "max_height": null,
       "max_width": null,
       "min_height": null,
       "min_width": null,
       "object_fit": null,
       "object_position": null,
       "order": null,
       "overflow": null,
       "overflow_x": null,
       "overflow_y": null,
       "padding": null,
       "right": null,
       "top": null,
       "visibility": null,
       "width": null
      }
     },
     "78b3aa1d4433476a836c485e1c8be6a9": {
      "model_module": "@jupyter-widgets/controls",
      "model_module_version": "1.5.0",
      "model_name": "FloatSliderModel",
      "state": {
       "_dom_classes": [],
       "_model_module": "@jupyter-widgets/controls",
       "_model_module_version": "1.5.0",
       "_model_name": "FloatSliderModel",
       "_view_count": null,
       "_view_module": "@jupyter-widgets/controls",
       "_view_module_version": "1.5.0",
       "_view_name": "FloatSliderView",
       "continuous_update": true,
       "description": "t",
       "description_tooltip": null,
       "disabled": false,
       "layout": "IPY_MODEL_9a57c028624c41d4b311988c7b735faa",
       "max": 10.0,
       "min": -10.0,
       "orientation": "horizontal",
       "readout": true,
       "readout_format": ".2f",
       "step": 0.1,
       "style": "IPY_MODEL_26a5358ff036420da59756f6b227e25a",
       "value": 0.0
      }
     },
     "7dbba8b7d2ef407fa1ab5665ad62c75d": {
      "model_module": "@jupyter-widgets/controls",
      "model_module_version": "1.5.0",
      "model_name": "SliderStyleModel",
      "state": {
       "_model_module": "@jupyter-widgets/controls",
       "_model_module_version": "1.5.0",
       "_model_name": "SliderStyleModel",
       "_view_count": null,
       "_view_module": "@jupyter-widgets/base",
       "_view_module_version": "1.2.0",
       "_view_name": "StyleView",
       "description_width": "",
       "handle_color": null
      }
     },
     "82073dc19b984995a102fedcafa35717": {
      "model_module": "@jupyter-widgets/controls",
      "model_module_version": "1.5.0",
      "model_name": "IntSliderModel",
      "state": {
       "_dom_classes": [],
       "_model_module": "@jupyter-widgets/controls",
       "_model_module_version": "1.5.0",
       "_model_name": "IntSliderModel",
       "_view_count": null,
       "_view_module": "@jupyter-widgets/controls",
       "_view_module_version": "1.5.0",
       "_view_name": "IntSliderView",
       "continuous_update": true,
       "description": "fv",
       "description_tooltip": null,
       "disabled": false,
       "layout": "IPY_MODEL_99ba55927ecb4c7ea1415a7712d1e5e8",
       "max": 100,
       "min": 1,
       "orientation": "horizontal",
       "readout": true,
       "readout_format": "d",
       "step": 1,
       "style": "IPY_MODEL_1535bc6bd53c4ee3906e151ddb8564ca",
       "value": 20
      }
     },
     "82c3bd2c42f44863a7956fc28e3bb22b": {
      "model_module": "@jupyter-widgets/controls",
      "model_module_version": "1.5.0",
      "model_name": "IntSliderModel",
      "state": {
       "_dom_classes": [],
       "_model_module": "@jupyter-widgets/controls",
       "_model_module_version": "1.5.0",
       "_model_name": "IntSliderModel",
       "_view_count": null,
       "_view_module": "@jupyter-widgets/controls",
       "_view_module_version": "1.5.0",
       "_view_name": "IntSliderView",
       "continuous_update": true,
       "description": "N",
       "description_tooltip": null,
       "disabled": false,
       "layout": "IPY_MODEL_af223a24d78d43b69b6f061f905095f0",
       "max": 1000,
       "min": 1,
       "orientation": "horizontal",
       "readout": true,
       "readout_format": "d",
       "step": 1,
       "style": "IPY_MODEL_7dbba8b7d2ef407fa1ab5665ad62c75d",
       "value": 1000
      }
     },
     "87922f2731364256a96c3d3c2414d239": {
      "model_module": "@jupyter-widgets/controls",
      "model_module_version": "1.5.0",
      "model_name": "FloatSliderModel",
      "state": {
       "_dom_classes": [],
       "_model_module": "@jupyter-widgets/controls",
       "_model_module_version": "1.5.0",
       "_model_name": "FloatSliderModel",
       "_view_count": null,
       "_view_module": "@jupyter-widgets/controls",
       "_view_module_version": "1.5.0",
       "_view_name": "FloatSliderView",
       "continuous_update": true,
       "description": "t",
       "description_tooltip": null,
       "disabled": false,
       "layout": "IPY_MODEL_e28f9230cb96499fbb94ff6e4399e636",
       "max": 20.0,
       "min": 0.0,
       "orientation": "horizontal",
       "readout": true,
       "readout_format": ".2f",
       "step": 0.1,
       "style": "IPY_MODEL_eac48786b73d4de689242cafcaac9673",
       "value": 2.0
      }
     },
     "99ba55927ecb4c7ea1415a7712d1e5e8": {
      "model_module": "@jupyter-widgets/base",
      "model_module_version": "1.2.0",
      "model_name": "LayoutModel",
      "state": {
       "_model_module": "@jupyter-widgets/base",
       "_model_module_version": "1.2.0",
       "_model_name": "LayoutModel",
       "_view_count": null,
       "_view_module": "@jupyter-widgets/base",
       "_view_module_version": "1.2.0",
       "_view_name": "LayoutView",
       "align_content": null,
       "align_items": null,
       "align_self": null,
       "border": null,
       "bottom": null,
       "display": null,
       "flex": null,
       "flex_flow": null,
       "grid_area": null,
       "grid_auto_columns": null,
       "grid_auto_flow": null,
       "grid_auto_rows": null,
       "grid_column": null,
       "grid_gap": null,
       "grid_row": null,
       "grid_template_areas": null,
       "grid_template_columns": null,
       "grid_template_rows": null,
       "height": null,
       "justify_content": null,
       "justify_items": null,
       "left": null,
       "margin": null,
       "max_height": null,
       "max_width": null,
       "min_height": null,
       "min_width": null,
       "object_fit": null,
       "object_position": null,
       "order": null,
       "overflow": null,
       "overflow_x": null,
       "overflow_y": null,
       "padding": null,
       "right": null,
       "top": null,
       "visibility": null,
       "width": null
      }
     },
     "9a57c028624c41d4b311988c7b735faa": {
      "model_module": "@jupyter-widgets/base",
      "model_module_version": "1.2.0",
      "model_name": "LayoutModel",
      "state": {
       "_model_module": "@jupyter-widgets/base",
       "_model_module_version": "1.2.0",
       "_model_name": "LayoutModel",
       "_view_count": null,
       "_view_module": "@jupyter-widgets/base",
       "_view_module_version": "1.2.0",
       "_view_name": "LayoutView",
       "align_content": null,
       "align_items": null,
       "align_self": null,
       "border": null,
       "bottom": null,
       "display": null,
       "flex": null,
       "flex_flow": null,
       "grid_area": null,
       "grid_auto_columns": null,
       "grid_auto_flow": null,
       "grid_auto_rows": null,
       "grid_column": null,
       "grid_gap": null,
       "grid_row": null,
       "grid_template_areas": null,
       "grid_template_columns": null,
       "grid_template_rows": null,
       "height": null,
       "justify_content": null,
       "justify_items": null,
       "left": null,
       "margin": null,
       "max_height": null,
       "max_width": null,
       "min_height": null,
       "min_width": null,
       "object_fit": null,
       "object_position": null,
       "order": null,
       "overflow": null,
       "overflow_x": null,
       "overflow_y": null,
       "padding": null,
       "right": null,
       "top": null,
       "visibility": null,
       "width": null
      }
     },
     "a9544278702f4002a82a775c7e3eb0f6": {
      "model_module": "@jupyter-widgets/controls",
      "model_module_version": "1.5.0",
      "model_name": "SliderStyleModel",
      "state": {
       "_model_module": "@jupyter-widgets/controls",
       "_model_module_version": "1.5.0",
       "_model_name": "SliderStyleModel",
       "_view_count": null,
       "_view_module": "@jupyter-widgets/base",
       "_view_module_version": "1.2.0",
       "_view_name": "StyleView",
       "description_width": "",
       "handle_color": null
      }
     },
     "add78bb2772d40e9a5f29f5175866b32": {
      "model_module": "@jupyter-widgets/output",
      "model_module_version": "1.0.0",
      "model_name": "OutputModel",
      "state": {
       "_dom_classes": [],
       "_model_module": "@jupyter-widgets/output",
       "_model_module_version": "1.0.0",
       "_model_name": "OutputModel",
       "_view_count": null,
       "_view_module": "@jupyter-widgets/output",
       "_view_module_version": "1.0.0",
       "_view_name": "OutputView",
       "layout": "IPY_MODEL_2c5729cca21d479ca3a1a2a3f63c4aad",
       "msg_id": "",
       "outputs": [
        {
         "data": {
          "image/png": "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\n",
          "text/plain": "<Figure size 648x360 with 1 Axes>"
         },
         "metadata": {
          "needs_background": "light"
         },
         "output_type": "display_data"
        }
       ]
      }
     },
     "aebf9fa2fc85452dab180f83e1d0d19c": {
      "model_module": "@jupyter-widgets/base",
      "model_module_version": "1.2.0",
      "model_name": "LayoutModel",
      "state": {
       "_model_module": "@jupyter-widgets/base",
       "_model_module_version": "1.2.0",
       "_model_name": "LayoutModel",
       "_view_count": null,
       "_view_module": "@jupyter-widgets/base",
       "_view_module_version": "1.2.0",
       "_view_name": "LayoutView",
       "align_content": null,
       "align_items": null,
       "align_self": null,
       "border": null,
       "bottom": null,
       "display": null,
       "flex": null,
       "flex_flow": null,
       "grid_area": null,
       "grid_auto_columns": null,
       "grid_auto_flow": null,
       "grid_auto_rows": null,
       "grid_column": null,
       "grid_gap": null,
       "grid_row": null,
       "grid_template_areas": null,
       "grid_template_columns": null,
       "grid_template_rows": null,
       "height": null,
       "justify_content": null,
       "justify_items": null,
       "left": null,
       "margin": null,
       "max_height": null,
       "max_width": null,
       "min_height": null,
       "min_width": null,
       "object_fit": null,
       "object_position": null,
       "order": null,
       "overflow": null,
       "overflow_x": null,
       "overflow_y": null,
       "padding": null,
       "right": null,
       "top": null,
       "visibility": null,
       "width": null
      }
     },
     "af223a24d78d43b69b6f061f905095f0": {
      "model_module": "@jupyter-widgets/base",
      "model_module_version": "1.2.0",
      "model_name": "LayoutModel",
      "state": {
       "_model_module": "@jupyter-widgets/base",
       "_model_module_version": "1.2.0",
       "_model_name": "LayoutModel",
       "_view_count": null,
       "_view_module": "@jupyter-widgets/base",
       "_view_module_version": "1.2.0",
       "_view_name": "LayoutView",
       "align_content": null,
       "align_items": null,
       "align_self": null,
       "border": null,
       "bottom": null,
       "display": null,
       "flex": null,
       "flex_flow": null,
       "grid_area": null,
       "grid_auto_columns": null,
       "grid_auto_flow": null,
       "grid_auto_rows": null,
       "grid_column": null,
       "grid_gap": null,
       "grid_row": null,
       "grid_template_areas": null,
       "grid_template_columns": null,
       "grid_template_rows": null,
       "height": null,
       "justify_content": null,
       "justify_items": null,
       "left": null,
       "margin": null,
       "max_height": null,
       "max_width": null,
       "min_height": null,
       "min_width": null,
       "object_fit": null,
       "object_position": null,
       "order": null,
       "overflow": null,
       "overflow_x": null,
       "overflow_y": null,
       "padding": null,
       "right": null,
       "top": null,
       "visibility": null,
       "width": null
      }
     },
     "bee45822f00949b5ab6480f8383b18af": {
      "model_module": "@jupyter-widgets/base",
      "model_module_version": "1.2.0",
      "model_name": "LayoutModel",
      "state": {
       "_model_module": "@jupyter-widgets/base",
       "_model_module_version": "1.2.0",
       "_model_name": "LayoutModel",
       "_view_count": null,
       "_view_module": "@jupyter-widgets/base",
       "_view_module_version": "1.2.0",
       "_view_name": "LayoutView",
       "align_content": null,
       "align_items": null,
       "align_self": null,
       "border": null,
       "bottom": null,
       "display": null,
       "flex": null,
       "flex_flow": null,
       "grid_area": null,
       "grid_auto_columns": null,
       "grid_auto_flow": null,
       "grid_auto_rows": null,
       "grid_column": null,
       "grid_gap": null,
       "grid_row": null,
       "grid_template_areas": null,
       "grid_template_columns": null,
       "grid_template_rows": null,
       "height": null,
       "justify_content": null,
       "justify_items": null,
       "left": null,
       "margin": null,
       "max_height": null,
       "max_width": null,
       "min_height": null,
       "min_width": null,
       "object_fit": null,
       "object_position": null,
       "order": null,
       "overflow": null,
       "overflow_x": null,
       "overflow_y": null,
       "padding": null,
       "right": null,
       "top": null,
       "visibility": null,
       "width": null
      }
     },
     "c67ac9b4a8934fbebbd38710bcc3c4b5": {
      "model_module": "@jupyter-widgets/controls",
      "model_module_version": "1.5.0",
      "model_name": "SliderStyleModel",
      "state": {
       "_model_module": "@jupyter-widgets/controls",
       "_model_module_version": "1.5.0",
       "_model_name": "SliderStyleModel",
       "_view_count": null,
       "_view_module": "@jupyter-widgets/base",
       "_view_module_version": "1.2.0",
       "_view_name": "StyleView",
       "description_width": "",
       "handle_color": null
      }
     },
     "d6b9cbe3955a4603afa93682c74775eb": {
      "model_module": "@jupyter-widgets/output",
      "model_module_version": "1.0.0",
      "model_name": "OutputModel",
      "state": {
       "_dom_classes": [],
       "_model_module": "@jupyter-widgets/output",
       "_model_module_version": "1.0.0",
       "_model_name": "OutputModel",
       "_view_count": null,
       "_view_module": "@jupyter-widgets/output",
       "_view_module_version": "1.0.0",
       "_view_name": "OutputView",
       "layout": "IPY_MODEL_4deed7d086ca4ad2a8bd6829b4c869d4",
       "msg_id": "",
       "outputs": [
        {
         "data": {
          "image/png": "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\n",
          "text/plain": "<Figure size 1440x360 with 3 Axes>"
         },
         "metadata": {
          "needs_background": "light"
         },
         "output_type": "display_data"
        }
       ]
      }
     },
     "d999addd67c746e0942430b7e4440859": {
      "model_module": "@jupyter-widgets/base",
      "model_module_version": "1.2.0",
      "model_name": "LayoutModel",
      "state": {
       "_model_module": "@jupyter-widgets/base",
       "_model_module_version": "1.2.0",
       "_model_name": "LayoutModel",
       "_view_count": null,
       "_view_module": "@jupyter-widgets/base",
       "_view_module_version": "1.2.0",
       "_view_name": "LayoutView",
       "align_content": null,
       "align_items": null,
       "align_self": null,
       "border": null,
       "bottom": null,
       "display": null,
       "flex": null,
       "flex_flow": null,
       "grid_area": null,
       "grid_auto_columns": null,
       "grid_auto_flow": null,
       "grid_auto_rows": null,
       "grid_column": null,
       "grid_gap": null,
       "grid_row": null,
       "grid_template_areas": null,
       "grid_template_columns": null,
       "grid_template_rows": null,
       "height": null,
       "justify_content": null,
       "justify_items": null,
       "left": null,
       "margin": null,
       "max_height": null,
       "max_width": null,
       "min_height": null,
       "min_width": null,
       "object_fit": null,
       "object_position": null,
       "order": null,
       "overflow": null,
       "overflow_x": null,
       "overflow_y": null,
       "padding": null,
       "right": null,
       "top": null,
       "visibility": null,
       "width": null
      }
     },
     "dbdf6a0fd1ba4e91b2692fd194b705b2": {
      "model_module": "@jupyter-widgets/controls",
      "model_module_version": "1.5.0",
      "model_name": "FloatSliderModel",
      "state": {
       "_dom_classes": [],
       "_model_module": "@jupyter-widgets/controls",
       "_model_module_version": "1.5.0",
       "_model_name": "FloatSliderModel",
       "_view_count": null,
       "_view_module": "@jupyter-widgets/controls",
       "_view_module_version": "1.5.0",
       "_view_name": "FloatSliderView",
       "continuous_update": true,
       "description": "sig",
       "description_tooltip": null,
       "disabled": false,
       "layout": "IPY_MODEL_d999addd67c746e0942430b7e4440859",
       "max": 1.0,
       "min": 0.0,
       "orientation": "horizontal",
       "readout": true,
       "readout_format": ".2f",
       "step": 0.01,
       "style": "IPY_MODEL_c67ac9b4a8934fbebbd38710bcc3c4b5",
       "value": 0.3
      }
     },
     "e08e81ea1cc542b2b1f604d5517c72a6": {
      "model_module": "@jupyter-widgets/controls",
      "model_module_version": "1.5.0",
      "model_name": "IntSliderModel",
      "state": {
       "_dom_classes": [],
       "_model_module": "@jupyter-widgets/controls",
       "_model_module_version": "1.5.0",
       "_model_name": "IntSliderModel",
       "_view_count": null,
       "_view_module": "@jupyter-widgets/controls",
       "_view_module_version": "1.5.0",
       "_view_name": "IntSliderView",
       "continuous_update": true,
       "description": "D",
       "description_tooltip": null,
       "disabled": false,
       "layout": "IPY_MODEL_0bbea6ec88bd4f7f8fe89a71c05fcfd9",
       "max": 200,
       "min": 10,
       "orientation": "horizontal",
       "readout": true,
       "readout_format": "d",
       "step": 1,
       "style": "IPY_MODEL_6211d08403fb4fe29ebcea3df7c3f11b",
       "value": 70
      }
     },
     "e28f9230cb96499fbb94ff6e4399e636": {
      "model_module": "@jupyter-widgets/base",
      "model_module_version": "1.2.0",
      "model_name": "LayoutModel",
      "state": {
       "_model_module": "@jupyter-widgets/base",
       "_model_module_version": "1.2.0",
       "_model_name": "LayoutModel",
       "_view_count": null,
       "_view_module": "@jupyter-widgets/base",
       "_view_module_version": "1.2.0",
       "_view_name": "LayoutView",
       "align_content": null,
       "align_items": null,
       "align_self": null,
       "border": null,
       "bottom": null,
       "display": null,
       "flex": null,
       "flex_flow": null,
       "grid_area": null,
       "grid_auto_columns": null,
       "grid_auto_flow": null,
       "grid_auto_rows": null,
       "grid_column": null,
       "grid_gap": null,
       "grid_row": null,
       "grid_template_areas": null,
       "grid_template_columns": null,
       "grid_template_rows": null,
       "height": null,
       "justify_content": null,
       "justify_items": null,
       "left": null,
       "margin": null,
       "max_height": null,
       "max_width": null,
       "min_height": null,
       "min_width": null,
       "object_fit": null,
       "object_position": null,
       "order": null,
       "overflow": null,
       "overflow_x": null,
       "overflow_y": null,
       "padding": null,
       "right": null,
       "top": null,
       "visibility": null,
       "width": null
      }
     },
     "e63d0dddb6fb465aaeb3600b0cd82997": {
      "model_module": "@jupyter-widgets/base",
      "model_module_version": "1.2.0",
      "model_name": "LayoutModel",
      "state": {
       "_model_module": "@jupyter-widgets/base",
       "_model_module_version": "1.2.0",
       "_model_name": "LayoutModel",
       "_view_count": null,
       "_view_module": "@jupyter-widgets/base",
       "_view_module_version": "1.2.0",
       "_view_name": "LayoutView",
       "align_content": null,
       "align_items": null,
       "align_self": null,
       "border": null,
       "bottom": null,
       "display": null,
       "flex": null,
       "flex_flow": null,
       "grid_area": null,
       "grid_auto_columns": null,
       "grid_auto_flow": null,
       "grid_auto_rows": null,
       "grid_column": null,
       "grid_gap": null,
       "grid_row": null,
       "grid_template_areas": null,
       "grid_template_columns": null,
       "grid_template_rows": null,
       "height": null,
       "justify_content": null,
       "justify_items": null,
       "left": null,
       "margin": null,
       "max_height": null,
       "max_width": null,
       "min_height": null,
       "min_width": null,
       "object_fit": null,
       "object_position": null,
       "order": null,
       "overflow": null,
       "overflow_x": null,
       "overflow_y": null,
       "padding": null,
       "right": null,
       "top": null,
       "visibility": null,
       "width": null
      }
     },
     "eac48786b73d4de689242cafcaac9673": {
      "model_module": "@jupyter-widgets/controls",
      "model_module_version": "1.5.0",
      "model_name": "SliderStyleModel",
      "state": {
       "_model_module": "@jupyter-widgets/controls",
       "_model_module_version": "1.5.0",
       "_model_name": "SliderStyleModel",
       "_view_count": null,
       "_view_module": "@jupyter-widgets/base",
       "_view_module_version": "1.2.0",
       "_view_name": "StyleView",
       "description_width": "",
       "handle_color": null
      }
     },
     "f9e9c3daad3f4bdda3e3d50ca303d2c0": {
      "model_module": "@jupyter-widgets/base",
      "model_module_version": "1.2.0",
      "model_name": "LayoutModel",
      "state": {
       "_model_module": "@jupyter-widgets/base",
       "_model_module_version": "1.2.0",
       "_model_name": "LayoutModel",
       "_view_count": null,
       "_view_module": "@jupyter-widgets/base",
       "_view_module_version": "1.2.0",
       "_view_name": "LayoutView",
       "align_content": null,
       "align_items": null,
       "align_self": null,
       "border": null,
       "bottom": null,
       "display": null,
       "flex": null,
       "flex_flow": null,
       "grid_area": null,
       "grid_auto_columns": null,
       "grid_auto_flow": null,
       "grid_auto_rows": null,
       "grid_column": null,
       "grid_gap": null,
       "grid_row": null,
       "grid_template_areas": null,
       "grid_template_columns": null,
       "grid_template_rows": null,
       "height": null,
       "justify_content": null,
       "justify_items": null,
       "left": null,
       "margin": null,
       "max_height": null,
       "max_width": null,
       "min_height": null,
       "min_width": null,
       "object_fit": null,
       "object_position": null,
       "order": null,
       "overflow": null,
       "overflow_x": null,
       "overflow_y": null,
       "padding": null,
       "right": null,
       "top": null,
       "visibility": null,
       "width": null
      }
     }
    },
    "version_major": 2,
    "version_minor": 0
   }
  }
 },
 "nbformat": 4,
 "nbformat_minor": 5
}