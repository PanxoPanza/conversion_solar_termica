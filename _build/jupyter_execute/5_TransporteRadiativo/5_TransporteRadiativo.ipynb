{
 "cells": [
  {
   "cell_type": "markdown",
   "id": "8b01ca79",
   "metadata": {
    "slideshow": {
     "slide_type": "slide"
    }
   },
   "source": [
    " <font size=\"6\">MEC501 - Manejo y Conversión de Energía Solar Térmica</font>\n",
    "# 5. Transporte Radiativo\n",
    "<br><br><br><br>\n",
    "Profesor: Francisco Ramírez Cuevas<br>\n",
    "Fecha: 9 de Septiembre 2022"
   ]
  },
  {
   "cell_type": "markdown",
   "id": "9ff4cae4",
   "metadata": {
    "slideshow": {
     "slide_type": "slide"
    }
   },
   "source": [
    "## Coherencia de la luz e interferencia\n",
    "Como veremos en las próximas clases, las vibraciones moleculares en la materia son las responsables de emitir radiación en forma de ondas electromagnéticas. El mecanismo es similar, pero inverso, al mecanismo de absorción de luz, el cual es originado por la interacción de ondas electromagnéticas con las vibraciones moleculares (ver clase 3)."
   ]
  },
  {
   "cell_type": "markdown",
   "id": "bcb7cf39",
   "metadata": {
    "slideshow": {
     "slide_type": "fragment"
    }
   },
   "source": [
    "Dicho esto, dos moléculas pueden emitir radiación con una pequeña variación en la longitud de onda $\\Delta\\lambda$. Esto ocurre porque las vibraciones no están 100% correlacionadas, es decir, existe un grado de aletoriedad en las vibraciones."
   ]
  },
  {
   "cell_type": "markdown",
   "id": "b54cf722",
   "metadata": {
    "slideshow": {
     "slide_type": "slide"
    }
   },
   "source": [
    "Por ejemplo, consideremos una fuente de luz en el vacío que emite ondas electromagnéticas en dirección $\\hat{k} = \\hat{x}$. Consideremos esta fuente como $N$ emisores, donde cada emisor $j$ emite radiación con una longitud de onda $\\lambda \\pm\\Delta \\lambda_j$, donde $\\Delta \\lambda_j$ es escogido aleatoriamente a partir de una distribución normal.\n",
    "\n",
    "La onda resultante está definida por:\n",
    "\n",
    "\\begin{equation*}\n",
    "\\vec{E}_{tot} = \\sum_j^N E_0e^{i\\left(k_jx - \\omega_j t\\right)} \\hat{z},\n",
    "\\end{equation*}\n",
    "\n",
    "donde $k_j = \\frac{2\\pi}{\\lambda \\pm\\Delta \\lambda_j}$, y $\\omega_j = c_0k_j$"
   ]
  },
  {
   "cell_type": "markdown",
   "id": "e5e55e68",
   "metadata": {
    "slideshow": {
     "slide_type": "fragment"
    }
   },
   "source": [
    "En este ejemplo, $\\lambda = 500$ nm es la longitud de onda central de la fuente. Además, definiremos una variable $\\sigma \\in [0,1]$ de manera que $\\Delta\\lambda_j = \\sigma\\lambda$."
   ]
  },
  {
   "cell_type": "code",
   "execution_count": 1,
   "id": "37df7e74",
   "metadata": {
    "cell_style": "split",
    "slideshow": {
     "slide_type": "slide"
    }
   },
   "outputs": [],
   "source": [
    "import numpy as np\n",
    "from numpy.random import normal\n",
    "import matplotlib.pyplot as plt\n",
    "c0 = 3E8          # velocidad de la luz (m/s)\n",
    "lam = 0.5         # longitud de onda (um)\n",
    "k0 = 2*np.pi/lam  # vector de onda (rad/um)\n",
    "w0 = c0*k0        # Frecuencia angular (rad/s)\n",
    "\n",
    "def light_packet(kdir, x, t, lam, sig, N):\n",
    "    xx = np.meshgrid(x,np.ones(N))[0]\n",
    "    \n",
    "    # Generamos arreglo de ondas aleatorias\n",
    "    dlamj =  normal(0, lam*sig,N)\n",
    "    kj = (2*np.pi/(lam + dlamj)).reshape(-1,1)\n",
    "    wj = c0*kj\n",
    "    Erand = np.exp(1j*(kdir*kj*xx-wj*t)) \n",
    "    \n",
    "    # Sumamos todas las ondas\n",
    "    return np.sum(Erand,axis=0)\n",
    "\n",
    "def plot_light_packet(N, t, sig):\n",
    "    '''\n",
    "    n: número de ondas generadas\n",
    "    t: tiempo en ns\n",
    "    sig: % de ancho de banda (dlam = sig*lam)\n",
    "    '''\n",
    "    t = t*1E-9 # convertimos ns a s\n",
    "    \n",
    "    # recorrido de la onda\n",
    "    x = np.linspace(-2,2,1000)  # desde 0 a 4 micrones\n",
    "    E = light_packet(1, x, t, lam, sig, N)\n",
    "    \n",
    "    # Graficamos\n",
    "    fig, ax = plt.subplots()\n",
    "    fig.set_size_inches(9, 5)\n",
    "    plt.rcParams['font.size'] = '18'\n",
    "    \n",
    "    ax.plot(x,np.real(E), 'k')\n",
    "    ax.set_xlabel('x ($\\mu$m)')\n",
    "    ax.set_ylabel('Amplitud $|E|/E_0$')\n",
    "    ax.set_ylim(-N*1.1,N*1.1)\n",
    "    ax.grid()\n"
   ]
  },
  {
   "cell_type": "code",
   "execution_count": 2,
   "id": "5c81aca7",
   "metadata": {
    "cell_style": "split"
   },
   "outputs": [
    {
     "data": {
      "application/vnd.jupyter.widget-view+json": {
       "model_id": "f37ecfe2758b4146b2d4df677a094aed",
       "version_major": 2,
       "version_minor": 0
      },
      "text/plain": [
       "interactive(children=(IntSlider(value=1000, description='N', max=1000, min=1), FloatSlider(value=0.0, descript…"
      ]
     },
     "metadata": {},
     "output_type": "display_data"
    }
   ],
   "source": [
    "from ipywidgets import interact\n",
    "\n",
    "@interact( N=(1,1000,1), \n",
    "           t=(-10,10,0.1),\n",
    "           sig=(0,1,0.01))\n",
    "def g(N=1000, t=0, sig=0.3):\n",
    "    return plot_light_packet(N,t,sig)"
   ]
  },
  {
   "cell_type": "markdown",
   "id": "b53bb755",
   "metadata": {
    "slideshow": {
     "slide_type": "slide"
    }
   },
   "source": [
    "### Longitud de coherencia\n",
    "Definimos como **longitud de coherencia**, $l_c$, a la distancia donde un grupo de ondas electromagnética mantiene un determinado grado de coherencia. Para longitudes mayores a $l_c$, decimos que la luz es incoherente, es decir, el desface entre las distintas ondas es completamente aleatorio."
   ]
  },
  {
   "cell_type": "markdown",
   "id": "3ea340f8",
   "metadata": {
    "cell_style": "split",
    "slideshow": {
     "slide_type": "fragment"
    }
   },
   "source": [
    "<img src=\"./images/coherence_length.png\" width=\"300px\" align= center>"
   ]
  },
  {
   "cell_type": "markdown",
   "id": "1f71b46f",
   "metadata": {
    "cell_style": "split",
    "slideshow": {
     "slide_type": "fragment"
    }
   },
   "source": [
    "La relación entre $l_c$, la longitud de onda central $\\lambda$ y el ancho de banda $\\Delta\\lambda$ está dado aproximadamente por la relación:\n",
    "\n",
    "\\begin{equation*}\n",
    "l_c \\approx \\frac{\\lambda^2}{n\\Delta \\lambda},\n",
    "\\end{equation*}\n",
    "\n",
    "donde $n$ es el indice de refracción del medio donde se propaga la luz.\n",
    "\n",
    "Por ejemplo, para lasers He-Ne (laser rojo)  $l_c\\approx 0.2 - 100$ m.  "
   ]
  },
  {
   "cell_type": "markdown",
   "id": "b8e319bd",
   "metadata": {
    "slideshow": {
     "slide_type": "slide"
    }
   },
   "source": [
    "Para radiación emitida por un cuerpo a temperatura $T$, la longitud de coherencia está dada por:\n",
    "\n",
    "\\begin{equation*}\n",
    "l_c T = 2167.8~\\mathrm{\\mu m~K}\n",
    "\\end{equation*}\n",
    "\n",
    "Así, por ejemplo, la radiación solar ($T \\approx 5800~\\mathrm{K}$) tiene una longitud de coherencia, $l_c \\approx 370~\\mathrm{nm}$"
   ]
  },
  {
   "cell_type": "markdown",
   "id": "659f7454",
   "metadata": {
    "slideshow": {
     "slide_type": "slide"
    }
   },
   "source": [
    "### Régimen de trasporte de luz\n",
    "Consideremos dos paquetes de onda con una longitud de coherencia $l_c$, viajando en sentido opuesto."
   ]
  },
  {
   "cell_type": "markdown",
   "id": "1b6928bc",
   "metadata": {
    "slideshow": {
     "slide_type": "fragment"
    }
   },
   "source": [
    "Podemos ver que ambos paquetes de luz interfieren en $x = 0$ en un instante $t$. Al continuar su camino, ambos paquetes de onda recuperan su forma original."
   ]
  },
  {
   "cell_type": "code",
   "execution_count": 3,
   "id": "8b9e3e63",
   "metadata": {
    "cell_style": "split",
    "slideshow": {
     "slide_type": "slide"
    }
   },
   "outputs": [],
   "source": [
    "def plot_2light_packet(n, t, sig):\n",
    "    '''\n",
    "    n: número de ondas generadas\n",
    "    t: tiempo en ns\n",
    "    sig: % de ancho de banda (dlam = sig*lam)\n",
    "    '''\n",
    "    t = t*1E-9 # convertimos ns a s\n",
    "    lam = 0.5\n",
    "    \n",
    "    # recorrido de la onda\n",
    "    x = np.linspace(-2,2,1000)  # desde 0 a 4 micrones\n",
    "    k0 = 2*np.pi/lam\n",
    "    Efw = light_packet( 1, x - x[ 0], t, lam, sig, n)\n",
    "    Ebw = light_packet(-1, x - x[-1], t, lam, sig, n)\n",
    "    \n",
    "    # Graficamos\n",
    "    fig, ax = plt.subplots()\n",
    "    fig.set_size_inches(9, 5)\n",
    "    plt.rcParams['font.size'] = '18'\n",
    "    \n",
    "    ax.plot(x,np.real(Efw + Ebw), 'k')\n",
    "    ax.set_xlabel('x ($\\mu$m)')\n",
    "    ax.set_ylabel('Amplitud $|E|/E_0$')\n",
    "    ax.set_ylim(-n*2.1,n*2.1)\n",
    "    ax.grid()\n"
   ]
  },
  {
   "cell_type": "code",
   "execution_count": 4,
   "id": "977daeda",
   "metadata": {
    "cell_style": "split"
   },
   "outputs": [
    {
     "data": {
      "application/vnd.jupyter.widget-view+json": {
       "model_id": "5422ffa7723f4aa4baeae1c86d93dbd4",
       "version_major": 2,
       "version_minor": 0
      },
      "text/plain": [
       "interactive(children=(IntSlider(value=1000, description='N', max=1000, min=1), FloatSlider(value=2.0, descript…"
      ]
     },
     "metadata": {},
     "output_type": "display_data"
    }
   ],
   "source": [
    "from ipywidgets import interact\n",
    "\n",
    "@interact( N=(1,1000,1), \n",
    "           t=(0,20,0.1),\n",
    "           sig=(0,1,0.01))\n",
    "def g(N=1000, t=2, sig=0.3):\n",
    "    return plot_2light_packet(N,t,sig)"
   ]
  },
  {
   "cell_type": "markdown",
   "id": "615ad1c6",
   "metadata": {
    "slideshow": {
     "slide_type": "slide"
    }
   },
   "source": [
    "A partir de esto, podemos concluir que los fenómenos de interferencia en películas de capa delgada de espesor $d$ no estarán presentes en si $d > l_c$. En otras palabras, el fenómeno de interferencia solo existe si el paquete de onda interfiere consigo mismo."
   ]
  },
  {
   "cell_type": "markdown",
   "id": "db4d20e4",
   "metadata": {
    "cell_style": "split",
    "slideshow": {
     "slide_type": "fragment"
    }
   },
   "source": [
    "<img src=\"./images/interference_thinfilm.png\" width=\"200px\" align= center>"
   ]
  },
  {
   "cell_type": "markdown",
   "id": "fce7ef57",
   "metadata": {
    "cell_style": "split",
    "slideshow": {
     "slide_type": "fragment"
    }
   },
   "source": [
    "En general, para una longitud características $D$:\n",
    "\n",
    "- Si $D > l_c$ el **transporte de luz incoherente** . En este régimen, podemos ignorar las propiedades oscilatorias de la luz, y analizar el problema como el transporte de pequeños paquetes de onda, o simplemente como partículas.\n",
    "\n",
    "- Si $D < l_c$, el **transporte de luz coherente**. En este régimen debemos considerar las propiedades oscilatorias a partir de las Ecuaciones de Maxwell."
   ]
  },
  {
   "cell_type": "markdown",
   "id": "06aab8e7",
   "metadata": {
    "cell_style": "center",
    "slideshow": {
     "slide_type": "slide"
    }
   },
   "source": [
    "Así, los coeficientes de Fresnel para una película delgada solo son válidos para $d < l_c$. "
   ]
  },
  {
   "cell_type": "markdown",
   "id": "c7f85265",
   "metadata": {
    "cell_style": "split",
    "slideshow": {
     "slide_type": "fragment"
    }
   },
   "source": [
    "Los coeficientes de Fresnel para una interface, en cambio, siempre son válidos."
   ]
  },
  {
   "cell_type": "markdown",
   "id": "57178760",
   "metadata": {
    "cell_style": "split",
    "slideshow": {
     "slide_type": "fragment"
    }
   },
   "source": [
    "<img src=\"./images/interference_interface.png\" width=\"350px\" align= center>"
   ]
  },
  {
   "cell_type": "markdown",
   "id": "17c1dc23",
   "metadata": {
    "slideshow": {
     "slide_type": "slide"
    }
   },
   "source": [
    "## Referencias\n",
    "- Rao S. S. **Chapter 4 - Vibration Under General Forcing Conditions** in *Mechanical Vibrations*, 6th Ed, Pearson, 2018\n",
    "\n",
    "- Griffths D., **Chapter 4.1 - Polarization** in *Introduction to Electrodynamics*, 4th Ed, Pearson, 2013\n",
    "\n",
    "- Simmons J. and Potter K., **Chapter 2 and 3** in *Optical Materials*, 1st Ed, Academic Press, 2000"
   ]
  },
  {
   "cell_type": "code",
   "execution_count": null,
   "id": "1386770e",
   "metadata": {},
   "outputs": [],
   "source": []
  }
 ],
 "metadata": {
  "celltoolbar": "Slideshow",
  "kernelspec": {
   "display_name": "Python 3 (ipykernel)",
   "language": "python",
   "name": "python3"
  },
  "language_info": {
   "codemirror_mode": {
    "name": "ipython",
    "version": 3
   },
   "file_extension": ".py",
   "mimetype": "text/x-python",
   "name": "python",
   "nbconvert_exporter": "python",
   "pygments_lexer": "ipython3",
   "version": "3.9.13"
  },
  "latex_envs": {
   "LaTeX_envs_menu_present": false,
   "autoclose": false,
   "autocomplete": false,
   "bibliofile": "biblio.bib",
   "cite_by": "apalike",
   "current_citInitial": 1,
   "eqLabelWithNumbers": true,
   "eqNumInitial": 2,
   "hotkeys": {
    "equation": "Ctrl-E",
    "itemize": "Ctrl-I"
   },
   "labels_anchors": false,
   "latex_user_defs": false,
   "report_style_numbering": false,
   "user_envs_cfg": true
  },
  "toc": {
   "base_numbering": 1,
   "nav_menu": {},
   "number_sections": false,
   "sideBar": true,
   "skip_h1_title": true,
   "title_cell": "Tabla de contenidos",
   "title_sidebar": "Contenidos",
   "toc_cell": false,
   "toc_position": {
    "height": "calc(100% - 180px)",
    "left": "10px",
    "top": "150px",
    "width": "307.2px"
   },
   "toc_section_display": true,
   "toc_window_display": false
  },
  "varInspector": {
   "cols": {
    "lenName": 16,
    "lenType": 16,
    "lenVar": 40
   },
   "kernels_config": {
    "python": {
     "delete_cmd_postfix": "",
     "delete_cmd_prefix": "del ",
     "library": "var_list.py",
     "varRefreshCmd": "print(var_dic_list())"
    },
    "r": {
     "delete_cmd_postfix": ") ",
     "delete_cmd_prefix": "rm(",
     "library": "var_list.r",
     "varRefreshCmd": "cat(var_dic_list()) "
    }
   },
   "types_to_exclude": [
    "module",
    "function",
    "builtin_function_or_method",
    "instance",
    "_Feature"
   ],
   "window_display": false
  },
  "widgets": {
   "application/vnd.jupyter.widget-state+json": {
    "state": {
     "04d4e505268b432cbe1c77dc5f5ff360": {
      "model_module": "@jupyter-widgets/controls",
      "model_module_version": "1.5.0",
      "model_name": "FloatSliderModel",
      "state": {
       "_dom_classes": [],
       "_model_module": "@jupyter-widgets/controls",
       "_model_module_version": "1.5.0",
       "_model_name": "FloatSliderModel",
       "_view_count": null,
       "_view_module": "@jupyter-widgets/controls",
       "_view_module_version": "1.5.0",
       "_view_name": "FloatSliderView",
       "continuous_update": true,
       "description": "sig",
       "description_tooltip": null,
       "disabled": false,
       "layout": "IPY_MODEL_ebebe3277514490c9ea169fbc20a153b",
       "max": 1.0,
       "min": 0.0,
       "orientation": "horizontal",
       "readout": true,
       "readout_format": ".2f",
       "step": 0.01,
       "style": "IPY_MODEL_103d7543e1f341da913f721cafb81100",
       "value": 0.3
      }
     },
     "103d7543e1f341da913f721cafb81100": {
      "model_module": "@jupyter-widgets/controls",
      "model_module_version": "1.5.0",
      "model_name": "SliderStyleModel",
      "state": {
       "_model_module": "@jupyter-widgets/controls",
       "_model_module_version": "1.5.0",
       "_model_name": "SliderStyleModel",
       "_view_count": null,
       "_view_module": "@jupyter-widgets/base",
       "_view_module_version": "1.2.0",
       "_view_name": "StyleView",
       "description_width": "",
       "handle_color": null
      }
     },
     "2958bd4168d14d8e8a57729db7040b07": {
      "model_module": "@jupyter-widgets/controls",
      "model_module_version": "1.5.0",
      "model_name": "SliderStyleModel",
      "state": {
       "_model_module": "@jupyter-widgets/controls",
       "_model_module_version": "1.5.0",
       "_model_name": "SliderStyleModel",
       "_view_count": null,
       "_view_module": "@jupyter-widgets/base",
       "_view_module_version": "1.2.0",
       "_view_name": "StyleView",
       "description_width": "",
       "handle_color": null
      }
     },
     "2b9c1ccfc25f447f996540fc21ef0f84": {
      "model_module": "@jupyter-widgets/base",
      "model_module_version": "1.2.0",
      "model_name": "LayoutModel",
      "state": {
       "_model_module": "@jupyter-widgets/base",
       "_model_module_version": "1.2.0",
       "_model_name": "LayoutModel",
       "_view_count": null,
       "_view_module": "@jupyter-widgets/base",
       "_view_module_version": "1.2.0",
       "_view_name": "LayoutView",
       "align_content": null,
       "align_items": null,
       "align_self": null,
       "border": null,
       "bottom": null,
       "display": null,
       "flex": null,
       "flex_flow": null,
       "grid_area": null,
       "grid_auto_columns": null,
       "grid_auto_flow": null,
       "grid_auto_rows": null,
       "grid_column": null,
       "grid_gap": null,
       "grid_row": null,
       "grid_template_areas": null,
       "grid_template_columns": null,
       "grid_template_rows": null,
       "height": null,
       "justify_content": null,
       "justify_items": null,
       "left": null,
       "margin": null,
       "max_height": null,
       "max_width": null,
       "min_height": null,
       "min_width": null,
       "object_fit": null,
       "object_position": null,
       "order": null,
       "overflow": null,
       "overflow_x": null,
       "overflow_y": null,
       "padding": null,
       "right": null,
       "top": null,
       "visibility": null,
       "width": null
      }
     },
     "52cef655f1744c7eb9635cdaefb428a7": {
      "model_module": "@jupyter-widgets/base",
      "model_module_version": "1.2.0",
      "model_name": "LayoutModel",
      "state": {
       "_model_module": "@jupyter-widgets/base",
       "_model_module_version": "1.2.0",
       "_model_name": "LayoutModel",
       "_view_count": null,
       "_view_module": "@jupyter-widgets/base",
       "_view_module_version": "1.2.0",
       "_view_name": "LayoutView",
       "align_content": null,
       "align_items": null,
       "align_self": null,
       "border": null,
       "bottom": null,
       "display": null,
       "flex": null,
       "flex_flow": null,
       "grid_area": null,
       "grid_auto_columns": null,
       "grid_auto_flow": null,
       "grid_auto_rows": null,
       "grid_column": null,
       "grid_gap": null,
       "grid_row": null,
       "grid_template_areas": null,
       "grid_template_columns": null,
       "grid_template_rows": null,
       "height": null,
       "justify_content": null,
       "justify_items": null,
       "left": null,
       "margin": null,
       "max_height": null,
       "max_width": null,
       "min_height": null,
       "min_width": null,
       "object_fit": null,
       "object_position": null,
       "order": null,
       "overflow": null,
       "overflow_x": null,
       "overflow_y": null,
       "padding": null,
       "right": null,
       "top": null,
       "visibility": null,
       "width": null
      }
     },
     "5422ffa7723f4aa4baeae1c86d93dbd4": {
      "model_module": "@jupyter-widgets/controls",
      "model_module_version": "1.5.0",
      "model_name": "VBoxModel",
      "state": {
       "_dom_classes": [
        "widget-interact"
       ],
       "_model_module": "@jupyter-widgets/controls",
       "_model_module_version": "1.5.0",
       "_model_name": "VBoxModel",
       "_view_count": null,
       "_view_module": "@jupyter-widgets/controls",
       "_view_module_version": "1.5.0",
       "_view_name": "VBoxView",
       "box_style": "",
       "children": [
        "IPY_MODEL_7fe19c3a9b444fbdbee401970f23833a",
        "IPY_MODEL_7f3a810fca1c456281699908bafff46f",
        "IPY_MODEL_ca0c29e9486d48599b1068ff1f477973",
        "IPY_MODEL_c8da80c021c54da29735dc066ba7cb23"
       ],
       "layout": "IPY_MODEL_80fb005bbfd34a148817b5d1354cfdd8"
      }
     },
     "5611124346a447638cac71a8934bb7f3": {
      "model_module": "@jupyter-widgets/controls",
      "model_module_version": "1.5.0",
      "model_name": "SliderStyleModel",
      "state": {
       "_model_module": "@jupyter-widgets/controls",
       "_model_module_version": "1.5.0",
       "_model_name": "SliderStyleModel",
       "_view_count": null,
       "_view_module": "@jupyter-widgets/base",
       "_view_module_version": "1.2.0",
       "_view_name": "StyleView",
       "description_width": "",
       "handle_color": null
      }
     },
     "5d71e6846d1d44e1892d757edc026748": {
      "model_module": "@jupyter-widgets/base",
      "model_module_version": "1.2.0",
      "model_name": "LayoutModel",
      "state": {
       "_model_module": "@jupyter-widgets/base",
       "_model_module_version": "1.2.0",
       "_model_name": "LayoutModel",
       "_view_count": null,
       "_view_module": "@jupyter-widgets/base",
       "_view_module_version": "1.2.0",
       "_view_name": "LayoutView",
       "align_content": null,
       "align_items": null,
       "align_self": null,
       "border": null,
       "bottom": null,
       "display": null,
       "flex": null,
       "flex_flow": null,
       "grid_area": null,
       "grid_auto_columns": null,
       "grid_auto_flow": null,
       "grid_auto_rows": null,
       "grid_column": null,
       "grid_gap": null,
       "grid_row": null,
       "grid_template_areas": null,
       "grid_template_columns": null,
       "grid_template_rows": null,
       "height": null,
       "justify_content": null,
       "justify_items": null,
       "left": null,
       "margin": null,
       "max_height": null,
       "max_width": null,
       "min_height": null,
       "min_width": null,
       "object_fit": null,
       "object_position": null,
       "order": null,
       "overflow": null,
       "overflow_x": null,
       "overflow_y": null,
       "padding": null,
       "right": null,
       "top": null,
       "visibility": null,
       "width": null
      }
     },
     "6502b89fad4945d6bd3e0e33a24f3ba6": {
      "model_module": "@jupyter-widgets/base",
      "model_module_version": "1.2.0",
      "model_name": "LayoutModel",
      "state": {
       "_model_module": "@jupyter-widgets/base",
       "_model_module_version": "1.2.0",
       "_model_name": "LayoutModel",
       "_view_count": null,
       "_view_module": "@jupyter-widgets/base",
       "_view_module_version": "1.2.0",
       "_view_name": "LayoutView",
       "align_content": null,
       "align_items": null,
       "align_self": null,
       "border": null,
       "bottom": null,
       "display": null,
       "flex": null,
       "flex_flow": null,
       "grid_area": null,
       "grid_auto_columns": null,
       "grid_auto_flow": null,
       "grid_auto_rows": null,
       "grid_column": null,
       "grid_gap": null,
       "grid_row": null,
       "grid_template_areas": null,
       "grid_template_columns": null,
       "grid_template_rows": null,
       "height": null,
       "justify_content": null,
       "justify_items": null,
       "left": null,
       "margin": null,
       "max_height": null,
       "max_width": null,
       "min_height": null,
       "min_width": null,
       "object_fit": null,
       "object_position": null,
       "order": null,
       "overflow": null,
       "overflow_x": null,
       "overflow_y": null,
       "padding": null,
       "right": null,
       "top": null,
       "visibility": null,
       "width": null
      }
     },
     "6e3db554970445baab0f1ae3675e0b5a": {
      "model_module": "@jupyter-widgets/controls",
      "model_module_version": "1.5.0",
      "model_name": "SliderStyleModel",
      "state": {
       "_model_module": "@jupyter-widgets/controls",
       "_model_module_version": "1.5.0",
       "_model_name": "SliderStyleModel",
       "_view_count": null,
       "_view_module": "@jupyter-widgets/base",
       "_view_module_version": "1.2.0",
       "_view_name": "StyleView",
       "description_width": "",
       "handle_color": null
      }
     },
     "7f3a810fca1c456281699908bafff46f": {
      "model_module": "@jupyter-widgets/controls",
      "model_module_version": "1.5.0",
      "model_name": "FloatSliderModel",
      "state": {
       "_dom_classes": [],
       "_model_module": "@jupyter-widgets/controls",
       "_model_module_version": "1.5.0",
       "_model_name": "FloatSliderModel",
       "_view_count": null,
       "_view_module": "@jupyter-widgets/controls",
       "_view_module_version": "1.5.0",
       "_view_name": "FloatSliderView",
       "continuous_update": true,
       "description": "t",
       "description_tooltip": null,
       "disabled": false,
       "layout": "IPY_MODEL_2b9c1ccfc25f447f996540fc21ef0f84",
       "max": 20.0,
       "min": 0.0,
       "orientation": "horizontal",
       "readout": true,
       "readout_format": ".2f",
       "step": 0.1,
       "style": "IPY_MODEL_2958bd4168d14d8e8a57729db7040b07",
       "value": 2.0
      }
     },
     "7fe19c3a9b444fbdbee401970f23833a": {
      "model_module": "@jupyter-widgets/controls",
      "model_module_version": "1.5.0",
      "model_name": "IntSliderModel",
      "state": {
       "_dom_classes": [],
       "_model_module": "@jupyter-widgets/controls",
       "_model_module_version": "1.5.0",
       "_model_name": "IntSliderModel",
       "_view_count": null,
       "_view_module": "@jupyter-widgets/controls",
       "_view_module_version": "1.5.0",
       "_view_name": "IntSliderView",
       "continuous_update": true,
       "description": "N",
       "description_tooltip": null,
       "disabled": false,
       "layout": "IPY_MODEL_97a5a2725eec4ddea32d6f2aef25751e",
       "max": 1000,
       "min": 1,
       "orientation": "horizontal",
       "readout": true,
       "readout_format": "d",
       "step": 1,
       "style": "IPY_MODEL_b03dd03c03274932b823c60717e2521a",
       "value": 1000
      }
     },
     "80fb005bbfd34a148817b5d1354cfdd8": {
      "model_module": "@jupyter-widgets/base",
      "model_module_version": "1.2.0",
      "model_name": "LayoutModel",
      "state": {
       "_model_module": "@jupyter-widgets/base",
       "_model_module_version": "1.2.0",
       "_model_name": "LayoutModel",
       "_view_count": null,
       "_view_module": "@jupyter-widgets/base",
       "_view_module_version": "1.2.0",
       "_view_name": "LayoutView",
       "align_content": null,
       "align_items": null,
       "align_self": null,
       "border": null,
       "bottom": null,
       "display": null,
       "flex": null,
       "flex_flow": null,
       "grid_area": null,
       "grid_auto_columns": null,
       "grid_auto_flow": null,
       "grid_auto_rows": null,
       "grid_column": null,
       "grid_gap": null,
       "grid_row": null,
       "grid_template_areas": null,
       "grid_template_columns": null,
       "grid_template_rows": null,
       "height": null,
       "justify_content": null,
       "justify_items": null,
       "left": null,
       "margin": null,
       "max_height": null,
       "max_width": null,
       "min_height": null,
       "min_width": null,
       "object_fit": null,
       "object_position": null,
       "order": null,
       "overflow": null,
       "overflow_x": null,
       "overflow_y": null,
       "padding": null,
       "right": null,
       "top": null,
       "visibility": null,
       "width": null
      }
     },
     "97a5a2725eec4ddea32d6f2aef25751e": {
      "model_module": "@jupyter-widgets/base",
      "model_module_version": "1.2.0",
      "model_name": "LayoutModel",
      "state": {
       "_model_module": "@jupyter-widgets/base",
       "_model_module_version": "1.2.0",
       "_model_name": "LayoutModel",
       "_view_count": null,
       "_view_module": "@jupyter-widgets/base",
       "_view_module_version": "1.2.0",
       "_view_name": "LayoutView",
       "align_content": null,
       "align_items": null,
       "align_self": null,
       "border": null,
       "bottom": null,
       "display": null,
       "flex": null,
       "flex_flow": null,
       "grid_area": null,
       "grid_auto_columns": null,
       "grid_auto_flow": null,
       "grid_auto_rows": null,
       "grid_column": null,
       "grid_gap": null,
       "grid_row": null,
       "grid_template_areas": null,
       "grid_template_columns": null,
       "grid_template_rows": null,
       "height": null,
       "justify_content": null,
       "justify_items": null,
       "left": null,
       "margin": null,
       "max_height": null,
       "max_width": null,
       "min_height": null,
       "min_width": null,
       "object_fit": null,
       "object_position": null,
       "order": null,
       "overflow": null,
       "overflow_x": null,
       "overflow_y": null,
       "padding": null,
       "right": null,
       "top": null,
       "visibility": null,
       "width": null
      }
     },
     "ad5a833a36604537a6cd2990d37d0f1e": {
      "model_module": "@jupyter-widgets/controls",
      "model_module_version": "1.5.0",
      "model_name": "IntSliderModel",
      "state": {
       "_dom_classes": [],
       "_model_module": "@jupyter-widgets/controls",
       "_model_module_version": "1.5.0",
       "_model_name": "IntSliderModel",
       "_view_count": null,
       "_view_module": "@jupyter-widgets/controls",
       "_view_module_version": "1.5.0",
       "_view_name": "IntSliderView",
       "continuous_update": true,
       "description": "N",
       "description_tooltip": null,
       "disabled": false,
       "layout": "IPY_MODEL_b284bd5f741048f795e155e63398d8d4",
       "max": 1000,
       "min": 1,
       "orientation": "horizontal",
       "readout": true,
       "readout_format": "d",
       "step": 1,
       "style": "IPY_MODEL_6e3db554970445baab0f1ae3675e0b5a",
       "value": 1000
      }
     },
     "b03dd03c03274932b823c60717e2521a": {
      "model_module": "@jupyter-widgets/controls",
      "model_module_version": "1.5.0",
      "model_name": "SliderStyleModel",
      "state": {
       "_model_module": "@jupyter-widgets/controls",
       "_model_module_version": "1.5.0",
       "_model_name": "SliderStyleModel",
       "_view_count": null,
       "_view_module": "@jupyter-widgets/base",
       "_view_module_version": "1.2.0",
       "_view_name": "StyleView",
       "description_width": "",
       "handle_color": null
      }
     },
     "b284bd5f741048f795e155e63398d8d4": {
      "model_module": "@jupyter-widgets/base",
      "model_module_version": "1.2.0",
      "model_name": "LayoutModel",
      "state": {
       "_model_module": "@jupyter-widgets/base",
       "_model_module_version": "1.2.0",
       "_model_name": "LayoutModel",
       "_view_count": null,
       "_view_module": "@jupyter-widgets/base",
       "_view_module_version": "1.2.0",
       "_view_name": "LayoutView",
       "align_content": null,
       "align_items": null,
       "align_self": null,
       "border": null,
       "bottom": null,
       "display": null,
       "flex": null,
       "flex_flow": null,
       "grid_area": null,
       "grid_auto_columns": null,
       "grid_auto_flow": null,
       "grid_auto_rows": null,
       "grid_column": null,
       "grid_gap": null,
       "grid_row": null,
       "grid_template_areas": null,
       "grid_template_columns": null,
       "grid_template_rows": null,
       "height": null,
       "justify_content": null,
       "justify_items": null,
       "left": null,
       "margin": null,
       "max_height": null,
       "max_width": null,
       "min_height": null,
       "min_width": null,
       "object_fit": null,
       "object_position": null,
       "order": null,
       "overflow": null,
       "overflow_x": null,
       "overflow_y": null,
       "padding": null,
       "right": null,
       "top": null,
       "visibility": null,
       "width": null
      }
     },
     "b41562355da24c60b977da526038a64c": {
      "model_module": "@jupyter-widgets/base",
      "model_module_version": "1.2.0",
      "model_name": "LayoutModel",
      "state": {
       "_model_module": "@jupyter-widgets/base",
       "_model_module_version": "1.2.0",
       "_model_name": "LayoutModel",
       "_view_count": null,
       "_view_module": "@jupyter-widgets/base",
       "_view_module_version": "1.2.0",
       "_view_name": "LayoutView",
       "align_content": null,
       "align_items": null,
       "align_self": null,
       "border": null,
       "bottom": null,
       "display": null,
       "flex": null,
       "flex_flow": null,
       "grid_area": null,
       "grid_auto_columns": null,
       "grid_auto_flow": null,
       "grid_auto_rows": null,
       "grid_column": null,
       "grid_gap": null,
       "grid_row": null,
       "grid_template_areas": null,
       "grid_template_columns": null,
       "grid_template_rows": null,
       "height": null,
       "justify_content": null,
       "justify_items": null,
       "left": null,
       "margin": null,
       "max_height": null,
       "max_width": null,
       "min_height": null,
       "min_width": null,
       "object_fit": null,
       "object_position": null,
       "order": null,
       "overflow": null,
       "overflow_x": null,
       "overflow_y": null,
       "padding": null,
       "right": null,
       "top": null,
       "visibility": null,
       "width": null
      }
     },
     "ba2f37505e7844cfabeb240fc2992538": {
      "model_module": "@jupyter-widgets/controls",
      "model_module_version": "1.5.0",
      "model_name": "FloatSliderModel",
      "state": {
       "_dom_classes": [],
       "_model_module": "@jupyter-widgets/controls",
       "_model_module_version": "1.5.0",
       "_model_name": "FloatSliderModel",
       "_view_count": null,
       "_view_module": "@jupyter-widgets/controls",
       "_view_module_version": "1.5.0",
       "_view_name": "FloatSliderView",
       "continuous_update": true,
       "description": "t",
       "description_tooltip": null,
       "disabled": false,
       "layout": "IPY_MODEL_eca6c33f26894865b3adbc04cd97db7c",
       "max": 10.0,
       "min": -10.0,
       "orientation": "horizontal",
       "readout": true,
       "readout_format": ".2f",
       "step": 0.1,
       "style": "IPY_MODEL_5611124346a447638cac71a8934bb7f3",
       "value": 0.0
      }
     },
     "c8da80c021c54da29735dc066ba7cb23": {
      "model_module": "@jupyter-widgets/output",
      "model_module_version": "1.0.0",
      "model_name": "OutputModel",
      "state": {
       "_dom_classes": [],
       "_model_module": "@jupyter-widgets/output",
       "_model_module_version": "1.0.0",
       "_model_name": "OutputModel",
       "_view_count": null,
       "_view_module": "@jupyter-widgets/output",
       "_view_module_version": "1.0.0",
       "_view_name": "OutputView",
       "layout": "IPY_MODEL_52cef655f1744c7eb9635cdaefb428a7",
       "msg_id": "",
       "outputs": [
        {
         "data": {
          "image/png": "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\n",
          "text/plain": "<Figure size 648x360 with 1 Axes>"
         },
         "metadata": {
          "needs_background": "light"
         },
         "output_type": "display_data"
        }
       ]
      }
     },
     "ca0c29e9486d48599b1068ff1f477973": {
      "model_module": "@jupyter-widgets/controls",
      "model_module_version": "1.5.0",
      "model_name": "FloatSliderModel",
      "state": {
       "_dom_classes": [],
       "_model_module": "@jupyter-widgets/controls",
       "_model_module_version": "1.5.0",
       "_model_name": "FloatSliderModel",
       "_view_count": null,
       "_view_module": "@jupyter-widgets/controls",
       "_view_module_version": "1.5.0",
       "_view_name": "FloatSliderView",
       "continuous_update": true,
       "description": "sig",
       "description_tooltip": null,
       "disabled": false,
       "layout": "IPY_MODEL_b41562355da24c60b977da526038a64c",
       "max": 1.0,
       "min": 0.0,
       "orientation": "horizontal",
       "readout": true,
       "readout_format": ".2f",
       "step": 0.01,
       "style": "IPY_MODEL_e29bd84ce4da41c8b8cab0851c76c653",
       "value": 0.3
      }
     },
     "e29bd84ce4da41c8b8cab0851c76c653": {
      "model_module": "@jupyter-widgets/controls",
      "model_module_version": "1.5.0",
      "model_name": "SliderStyleModel",
      "state": {
       "_model_module": "@jupyter-widgets/controls",
       "_model_module_version": "1.5.0",
       "_model_name": "SliderStyleModel",
       "_view_count": null,
       "_view_module": "@jupyter-widgets/base",
       "_view_module_version": "1.2.0",
       "_view_name": "StyleView",
       "description_width": "",
       "handle_color": null
      }
     },
     "ebebe3277514490c9ea169fbc20a153b": {
      "model_module": "@jupyter-widgets/base",
      "model_module_version": "1.2.0",
      "model_name": "LayoutModel",
      "state": {
       "_model_module": "@jupyter-widgets/base",
       "_model_module_version": "1.2.0",
       "_model_name": "LayoutModel",
       "_view_count": null,
       "_view_module": "@jupyter-widgets/base",
       "_view_module_version": "1.2.0",
       "_view_name": "LayoutView",
       "align_content": null,
       "align_items": null,
       "align_self": null,
       "border": null,
       "bottom": null,
       "display": null,
       "flex": null,
       "flex_flow": null,
       "grid_area": null,
       "grid_auto_columns": null,
       "grid_auto_flow": null,
       "grid_auto_rows": null,
       "grid_column": null,
       "grid_gap": null,
       "grid_row": null,
       "grid_template_areas": null,
       "grid_template_columns": null,
       "grid_template_rows": null,
       "height": null,
       "justify_content": null,
       "justify_items": null,
       "left": null,
       "margin": null,
       "max_height": null,
       "max_width": null,
       "min_height": null,
       "min_width": null,
       "object_fit": null,
       "object_position": null,
       "order": null,
       "overflow": null,
       "overflow_x": null,
       "overflow_y": null,
       "padding": null,
       "right": null,
       "top": null,
       "visibility": null,
       "width": null
      }
     },
     "eca6c33f26894865b3adbc04cd97db7c": {
      "model_module": "@jupyter-widgets/base",
      "model_module_version": "1.2.0",
      "model_name": "LayoutModel",
      "state": {
       "_model_module": "@jupyter-widgets/base",
       "_model_module_version": "1.2.0",
       "_model_name": "LayoutModel",
       "_view_count": null,
       "_view_module": "@jupyter-widgets/base",
       "_view_module_version": "1.2.0",
       "_view_name": "LayoutView",
       "align_content": null,
       "align_items": null,
       "align_self": null,
       "border": null,
       "bottom": null,
       "display": null,
       "flex": null,
       "flex_flow": null,
       "grid_area": null,
       "grid_auto_columns": null,
       "grid_auto_flow": null,
       "grid_auto_rows": null,
       "grid_column": null,
       "grid_gap": null,
       "grid_row": null,
       "grid_template_areas": null,
       "grid_template_columns": null,
       "grid_template_rows": null,
       "height": null,
       "justify_content": null,
       "justify_items": null,
       "left": null,
       "margin": null,
       "max_height": null,
       "max_width": null,
       "min_height": null,
       "min_width": null,
       "object_fit": null,
       "object_position": null,
       "order": null,
       "overflow": null,
       "overflow_x": null,
       "overflow_y": null,
       "padding": null,
       "right": null,
       "top": null,
       "visibility": null,
       "width": null
      }
     },
     "efb300154b6b4bd09faad83845f7802a": {
      "model_module": "@jupyter-widgets/output",
      "model_module_version": "1.0.0",
      "model_name": "OutputModel",
      "state": {
       "_dom_classes": [],
       "_model_module": "@jupyter-widgets/output",
       "_model_module_version": "1.0.0",
       "_model_name": "OutputModel",
       "_view_count": null,
       "_view_module": "@jupyter-widgets/output",
       "_view_module_version": "1.0.0",
       "_view_name": "OutputView",
       "layout": "IPY_MODEL_5d71e6846d1d44e1892d757edc026748",
       "msg_id": "",
       "outputs": [
        {
         "data": {
          "image/png": "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\n",
          "text/plain": "<Figure size 648x360 with 1 Axes>"
         },
         "metadata": {
          "needs_background": "light"
         },
         "output_type": "display_data"
        }
       ]
      }
     },
     "f37ecfe2758b4146b2d4df677a094aed": {
      "model_module": "@jupyter-widgets/controls",
      "model_module_version": "1.5.0",
      "model_name": "VBoxModel",
      "state": {
       "_dom_classes": [
        "widget-interact"
       ],
       "_model_module": "@jupyter-widgets/controls",
       "_model_module_version": "1.5.0",
       "_model_name": "VBoxModel",
       "_view_count": null,
       "_view_module": "@jupyter-widgets/controls",
       "_view_module_version": "1.5.0",
       "_view_name": "VBoxView",
       "box_style": "",
       "children": [
        "IPY_MODEL_ad5a833a36604537a6cd2990d37d0f1e",
        "IPY_MODEL_ba2f37505e7844cfabeb240fc2992538",
        "IPY_MODEL_04d4e505268b432cbe1c77dc5f5ff360",
        "IPY_MODEL_efb300154b6b4bd09faad83845f7802a"
       ],
       "layout": "IPY_MODEL_6502b89fad4945d6bd3e0e33a24f3ba6"
      }
     }
    },
    "version_major": 2,
    "version_minor": 0
   }
  }
 },
 "nbformat": 4,
 "nbformat_minor": 5
}