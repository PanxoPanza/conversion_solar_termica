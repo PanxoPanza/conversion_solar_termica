{
 "cells": [
  {
   "cell_type": "markdown",
   "id": "8b01ca79",
   "metadata": {
    "slideshow": {
     "slide_type": "slide"
    }
   },
   "source": [
    " <font size=\"6\">MEC501 - Manejo y Conversión de Energía Solar Térmica</font>\n",
    "# 5. Transporte Radiativo\n",
    "<br><br><br><br>\n",
    "Profesor: Francisco Ramírez Cuevas<br>\n",
    "Fecha: 9 de Septiembre 2022"
   ]
  },
  {
   "cell_type": "markdown",
   "id": "9ff4cae4",
   "metadata": {
    "slideshow": {
     "slide_type": "slide"
    }
   },
   "source": [
    "## Coherencia de la luz e interferencia\n",
    "Como veremos en las próximas clases, las vibraciones moleculares en la materia son las responsables de emitir radiación en forma de ondas electromagnéticas. El mecanismo es similar, pero inverso, al mecanismo de absorción de luz, el cual es originado por la interacción de ondas electromagnéticas con las vibraciones moleculares (ver clase 3)."
   ]
  },
  {
   "cell_type": "markdown",
   "id": "bcb7cf39",
   "metadata": {
    "slideshow": {
     "slide_type": "fragment"
    }
   },
   "source": [
    "Dicho esto, dos moléculas pueden emitir radiación con una pequeña variación en la longitud de onda $\\Delta\\lambda$. Esto ocurre porque las vibraciones no están 100% correlacionadas, es decir, existe un grado de aletoriedad en las vibraciones."
   ]
  },
  {
   "cell_type": "markdown",
   "id": "16081fa2",
   "metadata": {
    "slideshow": {
     "slide_type": "slide"
    }
   },
   "source": [
    "Esta aletoriedad en las vibraciones da lugar a una distribución del flujo de radiación emitido por una fuente.\n",
    "\n",
    "<img src=\"./images/light_source_spectra.png\" width=\"800px\" align= center>"
   ]
  },
  {
   "cell_type": "markdown",
   "id": "b54cf722",
   "metadata": {
    "slideshow": {
     "slide_type": "slide"
    }
   },
   "source": [
    "Por ejemplo, consideremos una fuente de luz con una distribución espectral normal, centrada en $\\lambda_0$ y con una desviación estandar $\\pm\\sigma_\\lambda\\lambda_0$, con $\\sigma_\\lambda \\in [0,1]$. Imaginemos esta fuente como $N$ emisores, donde cada emisor $j$ emite ondas electromagnéticas con longitud de onda $\\lambda \\pm\\Delta \\lambda_j$, donde $\\Delta \\lambda_j$ es escogido aleatoriamente a partir de la distribución normal."
   ]
  },
  {
   "cell_type": "markdown",
   "id": "31f81723",
   "metadata": {
    "cell_style": "split",
    "slideshow": {
     "slide_type": "fragment"
    }
   },
   "source": [
    "<img src=\"./images/normal_distribution.png\" width=\"400px\" align= center>"
   ]
  },
  {
   "cell_type": "markdown",
   "id": "76d68ef4",
   "metadata": {
    "cell_style": "split",
    "slideshow": {
     "slide_type": "fragment"
    }
   },
   "source": [
    "Asumiendo ondas en el aire en dirección $\\hat{k} = \\hat{x}$, el campo eléctrico resultante es:\n",
    "\n",
    "\\begin{equation*}\n",
    "\\vec{E}_\\mathrm{tot} = \\sum_j^N E_0e^{i\\left(k_jx - \\omega_j t\\right)} \\hat{z},\n",
    "\\end{equation*}\n",
    "\n",
    "donde $k_j = \\frac{2\\pi}{\\lambda \\pm\\Delta \\lambda_j}$, y $\\omega_j = c_0k_j$"
   ]
  },
  {
   "cell_type": "markdown",
   "id": "e5e55e68",
   "metadata": {
    "cell_style": "center",
    "slideshow": {
     "slide_type": "fragment"
    }
   },
   "source": [
    "Analicemos el comportamiento de $\\vec{E}_\\mathrm{tot} /E_0$ para $\\lambda_0 = 500$ nm"
   ]
  },
  {
   "cell_type": "code",
   "execution_count": 1,
   "id": "37df7e74",
   "metadata": {
    "cell_style": "split",
    "slideshow": {
     "slide_type": "slide"
    }
   },
   "outputs": [],
   "source": [
    "import numpy as np\n",
    "from numpy.random import normal\n",
    "import matplotlib.pyplot as plt\n",
    "c0 = 3E8          # velocidad de la luz (m/s)\n",
    "lam = 0.5         # longitud de onda (um)\n",
    "k0 = 2*np.pi/lam  # vector de onda (rad/um)\n",
    "w0 = c0*k0        # Frecuencia angular (rad/s)\n",
    "\n",
    "def light_packet(kdir, x, t, lam, sig, N):\n",
    "    xx = np.meshgrid(x,np.ones(N))[0]\n",
    "    \n",
    "    # Generamos arreglo de ondas aleatorias\n",
    "    dlamj =  normal(0, lam*sig,N)\n",
    "    kj = (2*np.pi/(lam + dlamj)).reshape(-1,1)\n",
    "    wj = c0*kj\n",
    "    Erand = np.exp(1j*(kdir*kj*xx-wj*t)) \n",
    "    \n",
    "    # Sumamos todas las ondas\n",
    "    return np.sum(Erand,axis=0)\n",
    "\n",
    "def plot_light_packet(N, t, sig):\n",
    "    '''\n",
    "    n: número de ondas generadas\n",
    "    t: tiempo en ns\n",
    "    sig: % de ancho de banda (dlam = sig*lam)\n",
    "    '''\n",
    "    t = t*1E-9 # convertimos ns a s\n",
    "    \n",
    "    # recorrido de la onda\n",
    "    x = np.linspace(-2,2,1000)  # desde 0 a 4 micrones\n",
    "    E = light_packet(1, x, t, lam, sig, N)\n",
    "    \n",
    "    # Graficamos\n",
    "    fig, ax = plt.subplots()\n",
    "    fig.set_size_inches(9, 5)\n",
    "    plt.rcParams['font.size'] = '18'\n",
    "    \n",
    "    ax.plot(x,np.real(E), 'k')\n",
    "    ax.set_xlabel('x ($\\mu$m)')\n",
    "    ax.set_ylabel('Amplitud $|E|/E_0$')\n",
    "    ax.set_ylim(-N*1.1,N*1.1)\n",
    "    ax.grid()\n"
   ]
  },
  {
   "cell_type": "code",
   "execution_count": 2,
   "id": "5c81aca7",
   "metadata": {
    "cell_style": "split",
    "slideshow": {
     "slide_type": "fragment"
    }
   },
   "outputs": [
    {
     "data": {
      "application/vnd.jupyter.widget-view+json": {
       "model_id": "d7baca7706814a1596458eb453e29868",
       "version_major": 2,
       "version_minor": 0
      },
      "text/plain": [
       "interactive(children=(IntSlider(value=1000, description='N', max=1000, min=1), FloatSlider(value=0.0, descript…"
      ]
     },
     "metadata": {},
     "output_type": "display_data"
    }
   ],
   "source": [
    "from ipywidgets import interact\n",
    "\n",
    "@interact( N=(1,1000,1), \n",
    "           t=(-10,10,0.1),\n",
    "           sig=(0,1,0.01))\n",
    "def g(N=1000, t=0, sig=0.3):\n",
    "    return plot_light_packet(N,t,sig)"
   ]
  },
  {
   "cell_type": "markdown",
   "id": "b53bb755",
   "metadata": {
    "slideshow": {
     "slide_type": "slide"
    }
   },
   "source": [
    "### Longitud de coherencia\n",
    "Definimos como **longitud de coherencia**, $l_c$, a la distancia donde un grupo de ondas electromagnética mantiene correlación entre las fases. Para longitudes mayores a $l_c$, decimos que la luz es incoherente, es decir, el desface entre las distintas ondas es completamente aleatorio."
   ]
  },
  {
   "cell_type": "markdown",
   "id": "3ea340f8",
   "metadata": {
    "cell_style": "split",
    "slideshow": {
     "slide_type": "fragment"
    }
   },
   "source": [
    "<img src=\"./images/coherence_length.png\" width=\"300px\" align= center>"
   ]
  },
  {
   "cell_type": "markdown",
   "id": "1f71b46f",
   "metadata": {
    "cell_style": "split",
    "slideshow": {
     "slide_type": "fragment"
    }
   },
   "source": [
    "La relación entre $l_c$, la longitud de onda central $\\lambda$ y el ancho de banda $\\Delta\\lambda$ está dado, aproximadamente, por la relación:\n",
    "\n",
    "\\begin{equation*}\n",
    "l_c \\approx \\frac{\\lambda^2}{n\\Delta \\lambda},\n",
    "\\end{equation*}\n",
    "\n",
    "donde $n$ es el indice de refracción del medio donde se propaga la luz.\n",
    "\n",
    "Por ejemplo, para lasers He-Ne (laser rojo)  $l_c\\approx 0.2 - 100$ m.  "
   ]
  },
  {
   "cell_type": "markdown",
   "id": "b8e319bd",
   "metadata": {
    "slideshow": {
     "slide_type": "slide"
    }
   },
   "source": [
    "Para radiación emitida por un cuerpo a temperatura $T$, la longitud de coherencia está dada por:\n",
    "\n",
    "\\begin{equation*}\n",
    "l_c T = 2167.8~\\mathrm{\\mu m~K}\n",
    "\\end{equation*}\n",
    "\n",
    "Así, por ejemplo, la radiación solar ($T \\approx 5800~\\mathrm{K}$) tiene una longitud de coherencia, $l_c \\approx 370~\\mathrm{nm}$"
   ]
  },
  {
   "cell_type": "markdown",
   "id": "659f7454",
   "metadata": {
    "slideshow": {
     "slide_type": "slide"
    }
   },
   "source": [
    "### Régimen de trasporte de luz\n",
    "Consideremos dos paquetes de onda con una longitud de coherencia $l_c$, viajando en sentido opuesto."
   ]
  },
  {
   "cell_type": "markdown",
   "id": "1b6928bc",
   "metadata": {
    "slideshow": {
     "slide_type": "fragment"
    }
   },
   "source": [
    "Podemos ver que ambos paquetes de luz interfieren en $x = 0$ en un instante $t$. Al continuar su camino, ambos paquetes de onda recuperan su forma original."
   ]
  },
  {
   "cell_type": "code",
   "execution_count": 3,
   "id": "8b9e3e63",
   "metadata": {
    "cell_style": "split",
    "slideshow": {
     "slide_type": "slide"
    }
   },
   "outputs": [],
   "source": [
    "def plot_2light_packet(n, t, sig):\n",
    "    '''\n",
    "    n: número de ondas generadas\n",
    "    t: tiempo en ns\n",
    "    sig: % de ancho de banda (dlam = sig*lam)\n",
    "    '''\n",
    "    t = t*1E-9 # convertimos ns a s\n",
    "    lam = 0.5\n",
    "    \n",
    "    # recorrido de la onda\n",
    "    x = np.linspace(-2,2,1000)  # desde 0 a 4 micrones\n",
    "    k0 = 2*np.pi/lam\n",
    "    Efw = light_packet( 1, x - x[ 0], t, lam, sig, n)\n",
    "    Ebw = light_packet(-1, x - x[-1], t, lam, sig, n)\n",
    "    \n",
    "    # Graficamos\n",
    "    fig, ax = plt.subplots()\n",
    "    fig.set_size_inches(9, 5)\n",
    "    plt.rcParams['font.size'] = '18'\n",
    "    \n",
    "    ax.plot(x,np.real(Efw + Ebw), 'k')\n",
    "    ax.set_xlabel('x ($\\mu$m)')\n",
    "    ax.set_ylabel('Amplitud $|E|/E_0$')\n",
    "    ax.set_ylim(-n*2.1,n*2.1)\n",
    "    ax.grid()\n"
   ]
  },
  {
   "cell_type": "code",
   "execution_count": 4,
   "id": "977daeda",
   "metadata": {
    "cell_style": "split"
   },
   "outputs": [
    {
     "data": {
      "application/vnd.jupyter.widget-view+json": {
       "model_id": "7a5c9838dc1f4096a0ea73282d57f68f",
       "version_major": 2,
       "version_minor": 0
      },
      "text/plain": [
       "interactive(children=(IntSlider(value=1000, description='N', max=1000, min=1), FloatSlider(value=2.0, descript…"
      ]
     },
     "metadata": {},
     "output_type": "display_data"
    }
   ],
   "source": [
    "from ipywidgets import interact\n",
    "\n",
    "@interact( N=(1,1000,1), \n",
    "           t=(0,20,0.1),\n",
    "           sig=(0,1,0.01))\n",
    "def g(N=1000, t=2, sig=0.3):\n",
    "    return plot_2light_packet(N,t,sig)"
   ]
  },
  {
   "cell_type": "markdown",
   "id": "615ad1c6",
   "metadata": {
    "slideshow": {
     "slide_type": "slide"
    }
   },
   "source": [
    "A partir de esto, podemos concluir que los fenómenos de interferencia en películas de capa delgada de espesor $d$ no serían visibles si $d > l_c$. En otras palabras, el fenómeno de interferencia solo existe si el paquete de onda interfiere consigo mismo."
   ]
  },
  {
   "cell_type": "markdown",
   "id": "db4d20e4",
   "metadata": {
    "cell_style": "split",
    "slideshow": {
     "slide_type": "fragment"
    }
   },
   "source": [
    "<img src=\"./images/interference_thinfilm.png\" width=\"200px\" align= center>"
   ]
  },
  {
   "cell_type": "markdown",
   "id": "fce7ef57",
   "metadata": {
    "cell_style": "split",
    "slideshow": {
     "slide_type": "fragment"
    }
   },
   "source": [
    "En general, para una longitud características $D$:\n",
    "\n",
    "- Si $D > l_c$ el **transporte de luz es incoherente** . En este régimen, podemos ignorar las propiedades oscilatorias de la luz, y analizar el problema como el transporte de pequeños paquetes de onda, o simplemente como partículas.\n",
    "\n",
    "- Si $D < l_c$, el **transporte de luz es coherente**. En este régimen debemos considerar las propiedades oscilatorias a partir de las Ecuaciones de Maxwell."
   ]
  },
  {
   "cell_type": "markdown",
   "id": "06aab8e7",
   "metadata": {
    "cell_style": "center",
    "slideshow": {
     "slide_type": "slide"
    }
   },
   "source": [
    "Así, los coeficientes de Fresnel para una película delgada solo son válidos para $d < l_c$. "
   ]
  },
  {
   "cell_type": "markdown",
   "id": "c7f85265",
   "metadata": {
    "cell_style": "split",
    "slideshow": {
     "slide_type": "fragment"
    }
   },
   "source": [
    "Los coeficientes de Fresnel para una interface, en cambio, siempre son válidos."
   ]
  },
  {
   "cell_type": "markdown",
   "id": "57178760",
   "metadata": {
    "cell_style": "split",
    "slideshow": {
     "slide_type": "fragment"
    }
   },
   "source": [
    "<img src=\"./images/interference_interface.png\" width=\"350px\" align= center>"
   ]
  },
  {
   "cell_type": "markdown",
   "id": "0c79f1b6",
   "metadata": {
    "slideshow": {
     "slide_type": "slide"
    }
   },
   "source": [
    "Igualmente, en medios particulados, los fenómenos de interferencia pueden ocurrir si las partículas están suficientemente cerca y tienen tamaños similares. Llamamos a esto **scattering coherente**"
   ]
  },
  {
   "cell_type": "markdown",
   "id": "61e2a519",
   "metadata": {
    "slideshow": {
     "slide_type": "fragment"
    }
   },
   "source": [
    "<img src=\"./images/scattering_coherence.png\" width=\"600px\" align= center>"
   ]
  },
  {
   "cell_type": "markdown",
   "id": "8167d93c",
   "metadata": {
    "slideshow": {
     "slide_type": "slide"
    }
   },
   "source": [
    "El fenómeno de scattering coherente da lugar a los denominados **colores estructurales** presentes en las alas de las aves y mariposas (mas info [acá](https://wires.onlinelibrary.wiley.com/doi/10.1002/wnan.1396))"
   ]
  },
  {
   "attachments": {},
   "cell_type": "markdown",
   "id": "06446d60",
   "metadata": {
    "cell_style": "split",
    "slideshow": {
     "slide_type": "fragment"
    }
   },
   "source": [
    "<img src=\"./images/structural_colors_birds.png\" width=\"550px\" align= center>\n",
    "\n",
    "[Hwang, V. et al. PNAS 118 (4) e2015551118\n",
    " (2020)](https://www.pnas.org/doi/10.1073/pnas.2015551118)"
   ]
  },
  {
   "cell_type": "markdown",
   "id": "71eaafb2",
   "metadata": {
    "cell_style": "split",
    "slideshow": {
     "slide_type": "fragment"
    }
   },
   "source": [
    "<img src=\"./images/structural_colors_buterflies.png\" width=\"450px\" align= center>\n",
    "\n",
    "[Tippets C. A. et al. J. Opt. 18 (2016) 065105](https://iopscience.iop.org/article/10.1088/2040-8978/18/6/065105)"
   ]
  },
  {
   "cell_type": "markdown",
   "id": "f629fcbe",
   "metadata": {
    "slideshow": {
     "slide_type": "slide"
    }
   },
   "source": [
    "## Teoría de transferencia radiativa\n",
    "Si el transporte de luz es incoherente, podemos ignorar las propiedades oscilatorias de la luz y analizar el fenómeno óptico como un el transporte de radiación a través de un volumen de control."
   ]
  },
  {
   "cell_type": "markdown",
   "id": "921c9262",
   "metadata": {
    "slideshow": {
     "slide_type": "fragment"
    }
   },
   "source": [
    "La **ecuación de transferencia radiativa** (RTE por sus siglas en ingles), describe la propagación de la **radiancia espectral**, $I_\\lambda(\\vec{r},\\hat{k})$ definida como el espectro del flujo de energía en una posición $\\vec{r}$, y una dirección $\\hat{k}$. En su forma más general, para un problema estacionario:\n",
    "\n",
    "\\begin{equation}\n",
    "\\hat{k}\\cdot\\nabla_r I_\\lambda(\\vec{r},\\hat{k}) = - \\left[\\frac{f_v}{V_p}C_\\mathrm{ext} + 2\\kappa k_0\\right]I_\\lambda(\\vec{r},\\hat{k}) + \\frac{f_v}{V_p}\\int_{4\\pi} P_\\mathrm{sca}(\\hat{k},\\hat{k}') I_\\lambda(\\vec{r},\\hat{k}') d\\hat{k}'\n",
    "\\end{equation}"
   ]
  },
  {
   "cell_type": "markdown",
   "id": "44c82ce8",
   "metadata": {
    "slideshow": {
     "slide_type": "fragment"
    }
   },
   "source": [
    "donde $f_v$ y $V_p$ son, respectivamente la fracción de volúmen y el volúmen de las partículas en el medio, y $P_\\mathrm{sca}(\\hat{k},\\hat{k}')$ es la **función de distribución de scattering** o **función de fase**."
   ]
  },
  {
   "cell_type": "markdown",
   "id": "84f7041f",
   "metadata": {
    "slideshow": {
     "slide_type": "slide"
    }
   },
   "source": [
    "Antes de discutir cada término en la RTE, primero analicemos la función de fase. Esta función describe la intencidad del scattering en una dirección $\\hat{k}$ a partir de una onda incidente en dirección $\\hat{k}'$."
   ]
  },
  {
   "cell_type": "markdown",
   "id": "556660a5",
   "metadata": {
    "cell_style": "split",
    "slideshow": {
     "slide_type": "fragment"
    }
   },
   "source": [
    "En el caso de una esfera, la función de fase depende solo del ángulo relativo entre $\\hat{k}$ y $\\hat{k}'$. En otras palabras, para esferas $P_\\mathrm{sca} (\\theta)$, donde $\\cos\\theta = \\hat{k}\\cdot\\hat{k}'$\n",
    "\n",
    "<img src=\"./images/phase_function.png\" width=\"300px\" align= center>"
   ]
  },
  {
   "cell_type": "markdown",
   "id": "6983d33b",
   "metadata": {
    "cell_style": "split",
    "slideshow": {
     "slide_type": "fragment"
    }
   },
   "source": [
    "Notar que $C_\\mathrm{sca}$ y $P_\\mathrm{sca}$ están relacionados por\n",
    "\\begin{equation}\n",
    "C_\\mathrm{sca} = \\frac{1}{2}\\int_0^{\\pi} P_\\mathrm{sca}(\\theta)\\sin\\theta d\\theta\n",
    "\\end{equation}"
   ]
  },
  {
   "cell_type": "markdown",
   "id": "b7b71333",
   "metadata": {
    "slideshow": {
     "slide_type": "slide"
    }
   },
   "source": [
    "Con esto en mente, ahora podemos discutir el significado de los términos en la RTE:"
   ]
  },
  {
   "cell_type": "markdown",
   "id": "12e1a1e8",
   "metadata": {
    "slideshow": {
     "slide_type": "fragment"
    }
   },
   "source": [
    "- El primer término representa el cambio de $I_\\lambda(\\vec{r},\\hat{k})$ a través volumen diferencial. Por ejemplo, en el caso unidimencional en dirección $\\hat{k} = \\hat{x}$, tenemos: \n",
    "\\begin{equation*}\n",
    "\\hat{k}\\cdot\\nabla_r I_\\lambda(\\vec{r},\\hat{k}) = \\frac{\\partial}{\\partial x}I_\\lambda(\\vec{r},\\hat{k})\n",
    "\\end{equation*}"
   ]
  },
  {
   "cell_type": "markdown",
   "id": "231c3da9",
   "metadata": {
    "slideshow": {
     "slide_type": "fragment"
    }
   },
   "source": [
    "- El segundo término representa la pérdida de energía radiativa, por extinción $\\left(\\frac{f_v}{V_p}C_\\mathrm{ext}\\right)$ y absorción en el material material ($2\\kappa k_0$), respectivamente.Recordemos que la extinción representa la energía absorbida por las partículas + la energía de scattering en direcciónes distintas a $\\hat{k}$, es decir $C_\\mathrm{ext}= C_\\mathrm{abs} + C_\\mathrm{sca}$."
   ]
  },
  {
   "cell_type": "markdown",
   "id": "4754c5ed",
   "metadata": {
    "slideshow": {
     "slide_type": "fragment"
    }
   },
   "source": [
    "- El tercer término representa la ganancia de energía radiativa produco del scattering inducido por radiación incidente en dirección $\\hat{k}'$. Este término representa el fenómeno de **scattering múltiple**."
   ]
  },
  {
   "cell_type": "markdown",
   "id": "43766712",
   "metadata": {
    "slideshow": {
     "slide_type": "slide"
    }
   },
   "source": [
    "## Soluciones de la RTE\n",
    "La ecuación de transferencia radiativa permite explicar de forma fenomenológica el transporte de radiación en un medio particulado. Debido a su complejidad, existen pocas soluciones analíticas. En esta sección describiremos las tres más conocidas."
   ]
  },
  {
   "cell_type": "markdown",
   "id": "6037462f",
   "metadata": {
    "slideshow": {
     "slide_type": "slide"
    }
   },
   "source": [
    "### Película de material sin partículas (Reflectividad y Transmisividad incoherente)\n",
    "En el caso de un medio sin partículas solo debemos considerar el primer término de la RTE. "
   ]
  },
  {
   "cell_type": "markdown",
   "id": "38e80853",
   "metadata": {
    "slideshow": {
     "slide_type": "fragment"
    }
   },
   "source": [
    "Para el caso particular de un material de espesor $t_\\mathrm{film}$ e índice de refracción $N = n + \\kappa$, rodeado por un medio con índice de refracción $N_0$, derivamos las siguientes relaciones de reflectividad y tranmisividad para luz incoherente:\n",
    "\n",
    "\\begin{align}\n",
    "R_\\mathrm{incoh}&= R_0 + \\frac{T_0^2R_0e^{-4\\kappa k_0 t_\\mathrm{film}}}{1 - R_0^2e^{-4\\kappa k_0 t_\\mathrm{film}}} \n",
    "\\\\[10pt]\n",
    "T_\\mathrm{incoh} &= \\frac{T_0^2e^{-4\\kappa k_0 t_\\mathrm{film}}}{1 - R_0^2e^{-4\\kappa k_0 t_\\mathrm{film}}}\n",
    "\\end{align}\n",
    "\n",
    "donde $R_0$ y $T_0$ corresponden, respectivamente, a la reflectividad y transmisividad en la interface $N_0 / N_1$"
   ]
  },
  {
   "cell_type": "markdown",
   "id": "7b8cb924",
   "metadata": {
    "slideshow": {
     "slide_type": "slide"
    }
   },
   "source": [
    "En el siguiente ejemplo, utilizamos la función ```incoh_multilayer``` de la libreria ```empylib.waveoptics```. Esta función es más general que la ecuación anterior y permite determinar $R_\\mathrm{incoh}$ y $T_\\mathrm{incoh}$ para arreglos multicapas. "
   ]
  },
  {
   "cell_type": "markdown",
   "id": "2a3e7bbc",
   "metadata": {
    "slideshow": {
     "slide_type": "fragment"
    }
   },
   "source": [
    "En este caso, evaluaremos una película de sílice de espesor $1~\\mu\\mathrm{m}$, sobre un sustrato con íncide de refracción $N_\\mathrm{back} = 4.3$, y con aire en la superficie $N_\\mathrm{front} = 1.0$. El espectro de longitudes de onda $\\lambda\\in[0.3,0.8]~\\mu\\mathrm{m}$ y el ángulo de incidencia $\\theta_i = 30°$. Para comparar, determinaremos $R$ y $T$ para el caso de luz coherente."
   ]
  },
  {
   "cell_type": "code",
   "execution_count": 5,
   "id": "a99aa431",
   "metadata": {
    "cell_style": "split",
    "slideshow": {
     "slide_type": "slide"
    }
   },
   "outputs": [],
   "source": [
    "import numpy as np\n",
    "import empylib.waveoptics as wv\n",
    "import empylib.nklib as nk\n",
    "\n",
    "lam = np.linspace(0.3,0.8,100)  # espectro de longitudes de onda (um)\n",
    "theta = np.radians(30)          # ángulo de incidencia\n",
    "\n",
    "Nfront = 1.0                 # índice de refracción medio superior\n",
    "N1     = nk.SiO2(lam)        # índice de refracción capa delgada\n",
    "Nback  = 4.3                 # índice de refracción medio inferior\n",
    "N = (Nfront, N1, Nback)      # indices de refracción (above, mid, below)\n",
    "d = 1.0                      # espesor capa intermedia (um)\n",
    "\n",
    "# caso luz incoherente\n",
    "Rp_incoh, Tp_incoh = wv.incoh_multilayer(lam,theta, N, d, pol='TM')\n",
    "# caso luz coherente\n",
    "Rp, Tp = wv.multilayer(lam,theta, N, d, pol='TM')[:2]"
   ]
  },
  {
   "cell_type": "code",
   "execution_count": 6,
   "id": "3bee2ad8",
   "metadata": {
    "cell_style": "split",
    "slideshow": {
     "slide_type": "fragment"
    }
   },
   "outputs": [
    {
     "data": {
      "image/png": "[encoded data removed]",
      "text/plain": [
       "<Figure size 504x360 with 1 Axes>"
      ]
     },
     "metadata": {
      "filenames": {
       "image/png": "/mnt/d/OneDrive - Universidad Adolfo Ibanez/Teaching_courses/Manejo_y_Conversion_Energia_Solar_Termica/material_catedra/_build/jupyter_execute/5_TransporteRadiativo/5_TransporteRadiativo_45_0.png"
      },
      "needs_background": "light"
     },
     "output_type": "display_data"
    }
   ],
   "source": [
    "fig, ax = plt.subplots()\n",
    "fig.set_size_inches(7, 5)\n",
    "plt.rcParams['font.size'] = '16'\n",
    "\n",
    "# Graficamos el flujo de energía\n",
    "plt.plot(lam,Rp,'--r',label='$R_\\mathrm{TM}$ (coh)')\n",
    "plt.plot(lam,Tp,'--b',label='$T_\\mathrm{TM}$ (coh)')\n",
    "plt.plot(lam,Rp_incoh,'-r',label='$R_\\mathrm{TM}$ (incoh)')\n",
    "plt.plot(lam,Tp_incoh,'-b',label='$T_\\mathrm{TM}$ (incoh)')\n",
    "plt.title('arreglo 1.0/1.5/4.3')\n",
    "plt.xlabel('Longitud de onda ($\\mu$m)')\n",
    "plt.ylabel('Refletividad / Transmisividad')\n",
    "plt.legend()\n",
    "plt.show()"
   ]
  },
  {
   "cell_type": "markdown",
   "id": "c6ed7877",
   "metadata": {
    "slideshow": {
     "slide_type": "slide"
    }
   },
   "source": [
    "En la figura, para el caso de luz coherente, notamos oscilaciones en $R$ y $T$ producto de los fenómenos de interferencia. En el caso de luz incoherente, el fenómeno de interferencia desaparace."
   ]
  },
  {
   "cell_type": "markdown",
   "id": "a5316b37",
   "metadata": {
    "slideshow": {
     "slide_type": "slide"
    }
   },
   "source": [
    "### Película de material con baja concentración de partículas (Ley de Beer-Lambert)\n",
    "Definimos el **camino libre medio de scattering**, como $\\Lambda_\\mathrm{sca} = \\left(f_v C_\\mathrm{sca}/V_p\\right)^{-1}$. Este parametro representa la distancia promedio que recorre la luz entre eventos de scattering."
   ]
  },
  {
   "cell_type": "markdown",
   "id": "a352fb08",
   "metadata": {
    "slideshow": {
     "slide_type": "fragment"
    }
   },
   "source": [
    "Si $\\Lambda_\\mathrm{sca}$ es mayor que el espesor del material, $t_\\mathrm{film}$, la probabilidad de que ocurran más de un evento scattering es despreciable, y decimos que el **scattering es de primer orden**. En este caso, el tercer término de la RTE es despreciable y la radiación solo pierde energía por absorción del material o extinción inducida por las partículas."
   ]
  },
  {
   "cell_type": "markdown",
   "id": "9407f0e6",
   "metadata": {
    "slideshow": {
     "slide_type": "fragment"
    }
   },
   "source": [
    "La solución a esta ecuación se conoce como la ley de Beer-Lambert. Mediante esta aproximación podemos deducir las componentes total y especular de la transmitancia:\n",
    "\n",
    "\\begin{equation}\n",
    "T_\\mathrm{tot} = T_0 e^{-f_v\\frac{C_\\mathrm{abs}}{V_p}t_\\mathrm{film}}\\quad\\quad\\mathrm{and}\\quad\\quad \n",
    "T_\\mathrm{spec} = T_0 e^{-f_v\\frac{C_\\mathrm{ext}}{V_p}t_\\mathrm{film}}\n",
    "\\end{equation}\n",
    "\n",
    "donde, $T_0$ es la **transmisividad incoherente del material sin incrustaciones**."
   ]
  },
  {
   "cell_type": "markdown",
   "id": "963bc3c6",
   "metadata": {
    "slideshow": {
     "slide_type": "slide"
    }
   },
   "source": [
    "Podemos utilizar la ley de Beer-Lambert para analizar, de forma aproximada, el efecto del color del cielo durante el día y en la tarde."
   ]
  },
  {
   "cell_type": "markdown",
   "id": "227d193d",
   "metadata": {
    "slideshow": {
     "slide_type": "fragment"
    }
   },
   "source": [
    "El color del cielo está dado por la componente difusa. Así calculamos $T_\\mathrm{dif} = T_\\mathrm{tot} - T_\\mathrm{spec}$."
   ]
  },
  {
   "cell_type": "markdown",
   "id": "a2577fed",
   "metadata": {
    "slideshow": {
     "slide_type": "fragment"
    }
   },
   "source": [
    "Consideremos una atmosfera compuesta de aire ($N_h = 1.0$) y una pequeña concentración ($f_v = 1\\times 10^{-6}~\\%$) de partículas de 10 nm de diámetro e índice de refracción $N_p = 1.5$. El espesor de la atmosfera es $t_\\mathrm{atm} = 100~\\mathrm{km}$"
   ]
  },
  {
   "cell_type": "code",
   "execution_count": 7,
   "id": "33491447",
   "metadata": {
    "cell_style": "center",
    "slideshow": {
     "slide_type": "slide"
    }
   },
   "outputs": [],
   "source": [
    "import empylib.rad_transfer as rt\n",
    "import empylib.nklib as nk\n",
    "import numpy as np\n",
    "import matplotlib.pyplot as plt\n",
    "from empylib.ref_spectra import AM15\n",
    "from empylib.ref_spectra import color_system as cs\n",
    "cs = cs.hdtv\n",
    "\n",
    "def plot_atmosphere(theta_sun):\n",
    "    fig, ax = plt.subplots()\n",
    "    fig.set_size_inches(8, 6)\n",
    "    plt.rcParams['font.size'] = '18'\n",
    "    \n",
    "    tatm = 100E9                     # espesor de la atmósfera 100 km\n",
    "    lam = np.linspace(0.38,0.78,100) # espectro de longitudes de onda\n",
    "    theta = np.radians(theta_sun)    # posición del sol en radianes\n",
    "    N = (1.0,1.0,1.0)                # indice de refracción superior, intermedio e inferior\n",
    "    fv = 1E-8                        # fracción de volúmen de las partículas\n",
    "    D = 0.010                        # diámetro de las partículas\n",
    "    Np = 1.5*np.ones(len(lam))       # índice de refracción de las partículas\n",
    "\n",
    "    Ttot, Tspec = rt.T_beer_lambert(lam,theta,tatm,N,fv,D,Np)\n",
    "    Tdif = Ttot - Tspec\n",
    "    ax.plot(lam,Tdif,'-k',label = 'Tdif')\n",
    "    ax.set_xlabel('Longitud de onda ($\\mu$m)')\n",
    "    ax.set_ylabel('Transmisividad')\n",
    "    ax.set_title(r'Posición del sol, $\\theta_\\mathrm{sun}$=%.1f°'% (theta_sun))\n",
    "    ax.set_ylim(0,1.05)\n",
    "    \n",
    "    D = 0.25\n",
    "    ax2 = fig.add_axes([0.11,0.15, D, D])\n",
    "    Irad = Tdif*AM15(lam)\n",
    "    html_rgb = cs.spec_to_rgb(lam*1E3, Irad, out_fmt='html')\n",
    "    Circle = plt.Circle((0, 0), D, color=html_rgb)\n",
    "    ax2.add_patch(Circle)\n",
    "    ax2.set_aspect('equal')\n",
    "    ax2.set_xlim(-D*1.2,D*1.2)\n",
    "    ax2.set_ylim(-D*1.2,D*1.2)\n",
    "    ax2.set_xticks([])\n",
    "    ax2.set_yticks([])\n",
    "    ax2.set_facecolor('k')"
   ]
  },
  {
   "cell_type": "code",
   "execution_count": 8,
   "id": "2b981b6b",
   "metadata": {
    "cell_style": "center",
    "slideshow": {
     "slide_type": "slide"
    }
   },
   "outputs": [
    {
     "data": {
      "application/vnd.jupyter.widget-view+json": {
       "model_id": "3166aaf3ebf441e79c285597d03088c8",
       "version_major": 2,
       "version_minor": 0
      },
      "text/plain": [
       "interactive(children=(FloatSlider(value=0.0, description='theta_sun', max=89.99), Output()), _dom_classes=('wi…"
      ]
     },
     "metadata": {},
     "output_type": "display_data"
    }
   ],
   "source": [
    "from ipywidgets import interact\n",
    "\n",
    "@interact(theta_sun=(0,89.99,0.1))\n",
    "def g(theta_sun=0):\n",
    "    return plot_atmosphere(theta_sun)"
   ]
  },
  {
   "cell_type": "markdown",
   "id": "8aa6d072",
   "metadata": {
    "slideshow": {
     "slide_type": "slide"
    }
   },
   "source": [
    "### Pelicula de material particulado (simulaciones de transferencia radiativa)\n",
    "Este caso corresponde a materiales con $\\Lambda_\\mathrm{sca} > t_\\mathrm{film}$. En este caso los eventos de scattering se producen más de una vez, y decimos que estámos en un régimen de **scattering múltiple**. Como resultado, los tres términos de la RTE son relevantes y debemos resolver la ecuación mediante simulación computacional."
   ]
  },
  {
   "cell_type": "markdown",
   "id": "bea5c468",
   "metadata": {
    "slideshow": {
     "slide_type": "fragment"
    }
   },
   "source": [
    "Consideremos un material de sílice de espesor $t_\\mathrm{film} = 5~\\mathrm{mm}$. Evaluaremos los colores de este material en transmisión y reflección para luz incidente normal a la superficie en función de la concentración y el diámetro de las partículas. Utilizamos la función ```ad_rad_transfer``` de la librería ```empylib.rad_transfer```"
   ]
  },
  {
   "cell_type": "code",
   "execution_count": 9,
   "id": "ffbab723",
   "metadata": {
    "cell_style": "center",
    "slideshow": {
     "slide_type": "slide"
    }
   },
   "outputs": [],
   "source": [
    "import empylib.rad_transfer as rt\n",
    "import empylib.nklib as nk\n",
    "import empylib.miescattering as mie\n",
    "import numpy as np\n",
    "import matplotlib.pyplot as plt\n",
    "\n",
    "def plot_glass_silver(fv,D):\n",
    "    lam = np.linspace(0.3,1.0,100)\n",
    "    theta = np.radians(0)       # 30 grados en radianes\n",
    "    tfilm = 5E3                 # espesor en micrones\n",
    "    N = (1.0,nk.SiO2(lam),1.0)  # indice de refracción superior, intermedio e inferior\n",
    "    fv = fv*1E-10                   # fracción de volúmen de las partículas\n",
    "    D = D*1E-3                     # diámetro de las partículas\n",
    "    Np = nk.silver(lam)\n",
    "    \n",
    "    qext, qsca = mie.scatter_efficiency(lam,N[1],Np,D)[:2]\n",
    "    qabs = qext - qsca\n",
    "    Rtot, Ttot = rt.ad_rad_transfer(lam,tfilm,N,fv,D,Np)\n",
    "\n",
    "    fig, ax = plt.subplots(1,3)\n",
    "    fig.set_size_inches(20, 5)\n",
    "    plt.rcParams['font.size'] = '16'\n",
    "    \n",
    "    ax[0].plot(lam,qsca,'-r',label='$C_\\mathrm{sca} A_c$')\n",
    "    ax[0].plot(lam,qabs,'-b',label='$C_\\mathrm{abs} A_c$')\n",
    "    ax[0].set_xlabel('Longitud de onda ($\\mu$m)')\n",
    "    ax[0].set_ylabel('Eficiencia transversal')\n",
    "    ax[0].set_title('Partícula de plata (D=%.0f nm)' % (D*1E3))\n",
    "    ax[0].legend()\n",
    "    ax[0].set_ylim(0,10)\n",
    "    \n",
    "    \n",
    "    ax[1].plot(lam,Rtot,'-r',label = 'Rtot')\n",
    "    ax[1].plot(lam,Ttot,'-b',label = 'Ttot')\n",
    "    ax[1].set_xlabel('Longitud de onda ($\\mu$m)')\n",
    "    ax[1].set_ylabel('Transmisividad')\n",
    "    ax[1].set_title(r'Sílice con plata (fv = %.1e %%)' % (fv*100) )\n",
    "    ax[1].legend()\n",
    "    ax[1].set_ylim(0,1)\n",
    "\n",
    "    D = 0.20\n",
    "    Irad = Ttot*AM15(lam)\n",
    "    html_rgb = cs.spec_to_rgb(lam*1E3, Irad, out_fmt='html')\n",
    "    Circle = plt.Circle((0, 0), D, color=html_rgb)\n",
    "    ax[2].add_patch(Circle)\n",
    "    ax[2].annotate('Luz Trasera', xy=(0, 0), va='center', ha='center')\n",
    "\n",
    "    Irad = Rtot*AM15(lam)\n",
    "    html_rgb = cs.spec_to_rgb(lam*1E3, Irad, out_fmt='html')\n",
    "    Circle = plt.Circle((D*1.2*2, 0), D, color=html_rgb)\n",
    "    ax[2].add_patch(Circle)\n",
    "    ax[2].annotate('Luz Frontal', xy=(D*1.2*2, 0), va='center', ha='center')\n",
    "\n",
    "    ax[2].set_aspect('equal')\n",
    "    ax[2].set_xlim(-D*1.2,D*1.2*3)\n",
    "    ax[2].set_ylim(-D*1.2,D*1.2)\n",
    "    ax[2].set_xticks([])\n",
    "    ax[2].set_yticks([])\n",
    "    ax[2].set_facecolor('k')\n",
    "    plt.subplots_adjust(wspace=0.3)"
   ]
  },
  {
   "cell_type": "code",
   "execution_count": 10,
   "id": "494ceeb2",
   "metadata": {
    "cell_style": "center",
    "slideshow": {
     "slide_type": "slide"
    }
   },
   "outputs": [
    {
     "data": {
      "application/vnd.jupyter.widget-view+json": {
       "model_id": "17eded73d462427eb874ed1e2ce4c797",
       "version_major": 2,
       "version_minor": 0
      },
      "text/plain": [
       "interactive(children=(IntSlider(value=30, description='fv', min=1), IntSlider(value=140, description='D', max=…"
      ]
     },
     "metadata": {},
     "output_type": "display_data"
    }
   ],
   "source": [
    "from ipywidgets import interact\n",
    "\n",
    "@interact(fv=(1,100,1), D = (10,200,1))\n",
    "def g(fv=30, D = 140):\n",
    "    return plot_glass_silver(fv,D)"
   ]
  },
  {
   "cell_type": "markdown",
   "id": "031ca52b",
   "metadata": {
    "slideshow": {
     "slide_type": "slide"
    }
   },
   "source": [
    "Cuando la concentración de partículas es densa, el medio se vuelve opaco. Este régimen se denomina **scattering difuso** y permite explicar, entre otras cosas, el color de las nubes o la pintura blanca"
   ]
  },
  {
   "cell_type": "markdown",
   "id": "01df5bd6",
   "metadata": {
    "slideshow": {
     "slide_type": "fragment"
    }
   },
   "source": [
    "Un ejemplo interesante corresponde a la leche. En términos simples, la leche es una emulsión formada por pequeñas partículas de grasa dispersas en un medio acuoso. "
   ]
  },
  {
   "cell_type": "markdown",
   "id": "225b5528",
   "metadata": {
    "slideshow": {
     "slide_type": "fragment"
    }
   },
   "source": [
    "Como aproximación, consideremos un medio de espesor $1$ cm, compuesto por agua $N_h = 1.3$ y pequeñas partículas esféricas de aceite $N_p = 1.5$. La emulsión considera un 60% de partículas de aceite por volumen."
   ]
  },
  {
   "cell_type": "code",
   "execution_count": 11,
   "id": "72cbfc3e",
   "metadata": {
    "cell_style": "split",
    "slideshow": {
     "slide_type": "slide"
    }
   },
   "outputs": [],
   "source": [
    "%%capture showplot\n",
    "# import empylib.nklib as nk\n",
    "import numpy as np\n",
    "import empylib.rad_transfer as rt\n",
    "\n",
    "# Solo modificar estos parámetros\n",
    "#---------------------------------------------------------------\n",
    "lam = np.linspace(0.3,1.0,100) # espectro de longitudes de onda\n",
    "tfilm = 10                     # espesor en mm\n",
    "Nh = 1.3                       # indice de refracción del agua\n",
    "fv = 0.6                       # fracción de volúmen de los poros\n",
    "D = 1.5                        # diámetro de los poros (micrones)\n",
    "Np = 1.5*np.ones(lam.shape)    # índice de refracción partículas de aceite\n",
    "#---------------------------------------------------------------\n",
    "\n",
    "Rtot, Ttot = rt.ad_rad_transfer(lam,tfilm,N,fv,D,Np)\n",
    "\n",
    "fig, ax = plt.subplots()\n",
    "fig.set_size_inches(7, 5)\n",
    "plt.rcParams['font.size'] = '16'\n",
    "ax.plot(lam,Rtot,'-r',label='R')\n",
    "ax.plot(lam,Ttot,'-b',label='T')\n",
    "ax.set_xlabel('Longitud de onda ($\\mu$m)')\n",
    "ax.set_ylabel('Reflectividad / Transmisividad')\n",
    "ax.set_title(r'Leche (fv = %.0f %%)' % (fv*100))\n",
    "ax.legend()\n",
    "ax.set_ylim(0,1)\n",
    "plt.show"
   ]
  },
  {
   "cell_type": "code",
   "execution_count": 12,
   "id": "9a1291f7",
   "metadata": {
    "cell_style": "split",
    "slideshow": {
     "slide_type": "fragment"
    }
   },
   "outputs": [
    {
     "data": {
      "text/plain": [
       "<function matplotlib.pyplot.show(close=None, block=None)>"
      ]
     },
     "metadata": {},
     "output_type": "display_data"
    },
    {
     "data": {
      "image/png": "[encoded data removed]",
      "text/plain": [
       "<Figure size 504x360 with 1 Axes>"
      ]
     },
     "metadata": {
      "filenames": {
       "image/png": "/mnt/d/OneDrive - Universidad Adolfo Ibanez/Teaching_courses/Manejo_y_Conversion_Energia_Solar_Termica/material_catedra/_build/jupyter_execute/5_TransporteRadiativo/5_TransporteRadiativo_63_1.png"
      },
      "needs_background": "light"
     },
     "output_type": "display_data"
    }
   ],
   "source": [
    "showplot()"
   ]
  },
  {
   "cell_type": "markdown",
   "id": "6c035f58",
   "metadata": {
    "slideshow": {
     "slide_type": "slide"
    }
   },
   "source": [
    "Como vemos la alta concentración de partículas hace que la refletividad y transmisividad se vuelvan casi uniformes para todas las longitudes de onda. El espectro, así, toma un color blanco frente a una fuente de luz blanca."
   ]
  },
  {
   "cell_type": "markdown",
   "id": "17c1dc23",
   "metadata": {
    "slideshow": {
     "slide_type": "slide"
    }
   },
   "source": [
    "## Referencias\n",
    "- Chen G. **Chapter 5 - Energy Transfer by Waves** in *Nanoscale energy transport and conversion*, 1st Ed, Oxford University Press, 2005"
   ]
  }
 ],
 "metadata": {
  "celltoolbar": "Slideshow",
  "kernelspec": {
   "display_name": "Python 3 (ipykernel)",
   "language": "python",
   "name": "python3"
  },
  "language_info": {
   "codemirror_mode": {
    "name": "ipython",
    "version": 3
   },
   "file_extension": ".py",
   "mimetype": "text/x-python",
   "name": "python",
   "nbconvert_exporter": "python",
   "pygments_lexer": "ipython3",
   "version": "3.9.13"
  },
  "latex_envs": {
   "LaTeX_envs_menu_present": false,
   "autoclose": false,
   "autocomplete": false,
   "bibliofile": "biblio.bib",
   "cite_by": "apalike",
   "current_citInitial": 1,
   "eqLabelWithNumbers": true,
   "eqNumInitial": 2,
   "hotkeys": {
    "equation": "Ctrl-E",
    "itemize": "Ctrl-I"
   },
   "labels_anchors": false,
   "latex_user_defs": false,
   "report_style_numbering": false,
   "user_envs_cfg": true
  },
  "toc": {
   "base_numbering": 1,
   "nav_menu": {},
   "number_sections": false,
   "sideBar": true,
   "skip_h1_title": true,
   "title_cell": "Tabla de contenidos",
   "title_sidebar": "Contenidos",
   "toc_cell": false,
   "toc_position": {
    "height": "calc(100% - 180px)",
    "left": "10px",
    "top": "150px",
    "width": "307.2px"
   },
   "toc_section_display": true,
   "toc_window_display": false
  },
  "varInspector": {
   "cols": {
    "lenName": 16,
    "lenType": 16,
    "lenVar": 40
   },
   "kernels_config": {
    "python": {
     "delete_cmd_postfix": "",
     "delete_cmd_prefix": "del ",
     "library": "var_list.py",
     "varRefreshCmd": "print(var_dic_list())"
    },
    "r": {
     "delete_cmd_postfix": ") ",
     "delete_cmd_prefix": "rm(",
     "library": "var_list.r",
     "varRefreshCmd": "cat(var_dic_list()) "
    }
   },
   "types_to_exclude": [
    "module",
    "function",
    "builtin_function_or_method",
    "instance",
    "_Feature"
   ],
   "window_display": false
  },
  "widgets": {
   "application/vnd.jupyter.widget-state+json": {
    "state": {
     "012417b505cf4ccaaf3e87c1747cf7cc": {
      "model_module": "@jupyter-widgets/base",
      "model_module_version": "1.2.0",
      "model_name": "LayoutModel",
      "state": {
       "_model_module": "@jupyter-widgets/base",
       "_model_module_version": "1.2.0",
       "_model_name": "LayoutModel",
       "_view_count": null,
       "_view_module": "@jupyter-widgets/base",
       "_view_module_version": "1.2.0",
       "_view_name": "LayoutView",
       "align_content": null,
       "align_items": null,
       "align_self": null,
       "border": null,
       "bottom": null,
       "display": null,
       "flex": null,
       "flex_flow": null,
       "grid_area": null,
       "grid_auto_columns": null,
       "grid_auto_flow": null,
       "grid_auto_rows": null,
       "grid_column": null,
       "grid_gap": null,
       "grid_row": null,
       "grid_template_areas": null,
       "grid_template_columns": null,
       "grid_template_rows": null,
       "height": null,
       "justify_content": null,
       "justify_items": null,
       "left": null,
       "margin": null,
       "max_height": null,
       "max_width": null,
       "min_height": null,
       "min_width": null,
       "object_fit": null,
       "object_position": null,
       "order": null,
       "overflow": null,
       "overflow_x": null,
       "overflow_y": null,
       "padding": null,
       "right": null,
       "top": null,
       "visibility": null,
       "width": null
      }
     },
     "0451a737e07340e3b9aaa777078361f8": {
      "model_module": "@jupyter-widgets/base",
      "model_module_version": "1.2.0",
      "model_name": "LayoutModel",
      "state": {
       "_model_module": "@jupyter-widgets/base",
       "_model_module_version": "1.2.0",
       "_model_name": "LayoutModel",
       "_view_count": null,
       "_view_module": "@jupyter-widgets/base",
       "_view_module_version": "1.2.0",
       "_view_name": "LayoutView",
       "align_content": null,
       "align_items": null,
       "align_self": null,
       "border": null,
       "bottom": null,
       "display": null,
       "flex": null,
       "flex_flow": null,
       "grid_area": null,
       "grid_auto_columns": null,
       "grid_auto_flow": null,
       "grid_auto_rows": null,
       "grid_column": null,
       "grid_gap": null,
       "grid_row": null,
       "grid_template_areas": null,
       "grid_template_columns": null,
       "grid_template_rows": null,
       "height": null,
       "justify_content": null,
       "justify_items": null,
       "left": null,
       "margin": null,
       "max_height": null,
       "max_width": null,
       "min_height": null,
       "min_width": null,
       "object_fit": null,
       "object_position": null,
       "order": null,
       "overflow": null,
       "overflow_x": null,
       "overflow_y": null,
       "padding": null,
       "right": null,
       "top": null,
       "visibility": null,
       "width": null
      }
     },
     "0b4348fb9cb24ee4a76906e5202a7f5a": {
      "model_module": "@jupyter-widgets/controls",
      "model_module_version": "1.5.0",
      "model_name": "SliderStyleModel",
      "state": {
       "_model_module": "@jupyter-widgets/controls",
       "_model_module_version": "1.5.0",
       "_model_name": "SliderStyleModel",
       "_view_count": null,
       "_view_module": "@jupyter-widgets/base",
       "_view_module_version": "1.2.0",
       "_view_name": "StyleView",
       "description_width": "",
       "handle_color": null
      }
     },
     "0b7f2c022e3b4f788223c84fdff6a3eb": {
      "model_module": "@jupyter-widgets/controls",
      "model_module_version": "1.5.0",
      "model_name": "SliderStyleModel",
      "state": {
       "_model_module": "@jupyter-widgets/controls",
       "_model_module_version": "1.5.0",
       "_model_name": "SliderStyleModel",
       "_view_count": null,
       "_view_module": "@jupyter-widgets/base",
       "_view_module_version": "1.2.0",
       "_view_name": "StyleView",
       "description_width": "",
       "handle_color": null
      }
     },
     "0f10cf88f1a8470882b48747d838970d": {
      "model_module": "@jupyter-widgets/controls",
      "model_module_version": "1.5.0",
      "model_name": "IntSliderModel",
      "state": {
       "_dom_classes": [],
       "_model_module": "@jupyter-widgets/controls",
       "_model_module_version": "1.5.0",
       "_model_name": "IntSliderModel",
       "_view_count": null,
       "_view_module": "@jupyter-widgets/controls",
       "_view_module_version": "1.5.0",
       "_view_name": "IntSliderView",
       "continuous_update": true,
       "description": "fv",
       "description_tooltip": null,
       "disabled": false,
       "layout": "IPY_MODEL_a760cb125e934b6381601efd0555eae9",
       "max": 100,
       "min": 1,
       "orientation": "horizontal",
       "readout": true,
       "readout_format": "d",
       "step": 1,
       "style": "IPY_MODEL_fe7deee3566c488a9e8a74623d0517cb",
       "value": 30
      }
     },
     "161a86fe7d4e4b1993e0255583109873": {
      "model_module": "@jupyter-widgets/base",
      "model_module_version": "1.2.0",
      "model_name": "LayoutModel",
      "state": {
       "_model_module": "@jupyter-widgets/base",
       "_model_module_version": "1.2.0",
       "_model_name": "LayoutModel",
       "_view_count": null,
       "_view_module": "@jupyter-widgets/base",
       "_view_module_version": "1.2.0",
       "_view_name": "LayoutView",
       "align_content": null,
       "align_items": null,
       "align_self": null,
       "border": null,
       "bottom": null,
       "display": null,
       "flex": null,
       "flex_flow": null,
       "grid_area": null,
       "grid_auto_columns": null,
       "grid_auto_flow": null,
       "grid_auto_rows": null,
       "grid_column": null,
       "grid_gap": null,
       "grid_row": null,
       "grid_template_areas": null,
       "grid_template_columns": null,
       "grid_template_rows": null,
       "height": null,
       "justify_content": null,
       "justify_items": null,
       "left": null,
       "margin": null,
       "max_height": null,
       "max_width": null,
       "min_height": null,
       "min_width": null,
       "object_fit": null,
       "object_position": null,
       "order": null,
       "overflow": null,
       "overflow_x": null,
       "overflow_y": null,
       "padding": null,
       "right": null,
       "top": null,
       "visibility": null,
       "width": null
      }
     },
     "17eded73d462427eb874ed1e2ce4c797": {
      "model_module": "@jupyter-widgets/controls",
      "model_module_version": "1.5.0",
      "model_name": "VBoxModel",
      "state": {
       "_dom_classes": [
        "widget-interact"
       ],
       "_model_module": "@jupyter-widgets/controls",
       "_model_module_version": "1.5.0",
       "_model_name": "VBoxModel",
       "_view_count": null,
       "_view_module": "@jupyter-widgets/controls",
       "_view_module_version": "1.5.0",
       "_view_name": "VBoxView",
       "box_style": "",
       "children": [
        "IPY_MODEL_0f10cf88f1a8470882b48747d838970d",
        "IPY_MODEL_c5b794759d6d4ebb979adbd58abf9218",
        "IPY_MODEL_ed842befe9784d1e932d04b42b887e44"
       ],
       "layout": "IPY_MODEL_c3614e506b16413295955f8192b1e836"
      }
     },
     "190b9bc23da54ccca39240e72a700585": {
      "model_module": "@jupyter-widgets/controls",
      "model_module_version": "1.5.0",
      "model_name": "SliderStyleModel",
      "state": {
       "_model_module": "@jupyter-widgets/controls",
       "_model_module_version": "1.5.0",
       "_model_name": "SliderStyleModel",
       "_view_count": null,
       "_view_module": "@jupyter-widgets/base",
       "_view_module_version": "1.2.0",
       "_view_name": "StyleView",
       "description_width": "",
       "handle_color": null
      }
     },
     "19a895408b0e40239789e46939775f8b": {
      "model_module": "@jupyter-widgets/controls",
      "model_module_version": "1.5.0",
      "model_name": "FloatSliderModel",
      "state": {
       "_dom_classes": [],
       "_model_module": "@jupyter-widgets/controls",
       "_model_module_version": "1.5.0",
       "_model_name": "FloatSliderModel",
       "_view_count": null,
       "_view_module": "@jupyter-widgets/controls",
       "_view_module_version": "1.5.0",
       "_view_name": "FloatSliderView",
       "continuous_update": true,
       "description": "sig",
       "description_tooltip": null,
       "disabled": false,
       "layout": "IPY_MODEL_b7820d92a8e94b5cb9344be7960a222e",
       "max": 1.0,
       "min": 0.0,
       "orientation": "horizontal",
       "readout": true,
       "readout_format": ".2f",
       "step": 0.01,
       "style": "IPY_MODEL_190b9bc23da54ccca39240e72a700585",
       "value": 0.3
      }
     },
     "22f2bd2ef498455d9b86a39cf95c9169": {
      "model_module": "@jupyter-widgets/controls",
      "model_module_version": "1.5.0",
      "model_name": "FloatSliderModel",
      "state": {
       "_dom_classes": [],
       "_model_module": "@jupyter-widgets/controls",
       "_model_module_version": "1.5.0",
       "_model_name": "FloatSliderModel",
       "_view_count": null,
       "_view_module": "@jupyter-widgets/controls",
       "_view_module_version": "1.5.0",
       "_view_name": "FloatSliderView",
       "continuous_update": true,
       "description": "theta_sun",
       "description_tooltip": null,
       "disabled": false,
       "layout": "IPY_MODEL_77dbdf3d8e9a48dabdec35679bb14223",
       "max": 89.99,
       "min": 0.0,
       "orientation": "horizontal",
       "readout": true,
       "readout_format": ".2f",
       "step": 0.1,
       "style": "IPY_MODEL_4df3064027bc4d7db41978b3a78b780b",
       "value": 0.0
      }
     },
     "3166aaf3ebf441e79c285597d03088c8": {
      "model_module": "@jupyter-widgets/controls",
      "model_module_version": "1.5.0",
      "model_name": "VBoxModel",
      "state": {
       "_dom_classes": [
        "widget-interact"
       ],
       "_model_module": "@jupyter-widgets/controls",
       "_model_module_version": "1.5.0",
       "_model_name": "VBoxModel",
       "_view_count": null,
       "_view_module": "@jupyter-widgets/controls",
       "_view_module_version": "1.5.0",
       "_view_name": "VBoxView",
       "box_style": "",
       "children": [
        "IPY_MODEL_22f2bd2ef498455d9b86a39cf95c9169",
        "IPY_MODEL_45b03dc3581841f5bc0a8f48e476b12a"
       ],
       "layout": "IPY_MODEL_3e32eb2d49714925af7d83c1c108b1fe"
      }
     },
     "3e32eb2d49714925af7d83c1c108b1fe": {
      "model_module": "@jupyter-widgets/base",
      "model_module_version": "1.2.0",
      "model_name": "LayoutModel",
      "state": {
       "_model_module": "@jupyter-widgets/base",
       "_model_module_version": "1.2.0",
       "_model_name": "LayoutModel",
       "_view_count": null,
       "_view_module": "@jupyter-widgets/base",
       "_view_module_version": "1.2.0",
       "_view_name": "LayoutView",
       "align_content": null,
       "align_items": null,
       "align_self": null,
       "border": null,
       "bottom": null,
       "display": null,
       "flex": null,
       "flex_flow": null,
       "grid_area": null,
       "grid_auto_columns": null,
       "grid_auto_flow": null,
       "grid_auto_rows": null,
       "grid_column": null,
       "grid_gap": null,
       "grid_row": null,
       "grid_template_areas": null,
       "grid_template_columns": null,
       "grid_template_rows": null,
       "height": null,
       "justify_content": null,
       "justify_items": null,
       "left": null,
       "margin": null,
       "max_height": null,
       "max_width": null,
       "min_height": null,
       "min_width": null,
       "object_fit": null,
       "object_position": null,
       "order": null,
       "overflow": null,
       "overflow_x": null,
       "overflow_y": null,
       "padding": null,
       "right": null,
       "top": null,
       "visibility": null,
       "width": null
      }
     },
     "45b03dc3581841f5bc0a8f48e476b12a": {
      "model_module": "@jupyter-widgets/output",
      "model_module_version": "1.0.0",
      "model_name": "OutputModel",
      "state": {
       "_dom_classes": [],
       "_model_module": "@jupyter-widgets/output",
       "_model_module_version": "1.0.0",
       "_model_name": "OutputModel",
       "_view_count": null,
       "_view_module": "@jupyter-widgets/output",
       "_view_module_version": "1.0.0",
       "_view_name": "OutputView",
       "layout": "IPY_MODEL_c973378622af4e24851d0976ff34cc3f",
       "msg_id": "",
       "outputs": [
        {
         "name": "stderr",
         "output_type": "stream",
         "text": "/home/panxopanza/programs/miniconda3/lib/python3.9/site-packages/matplotlib/cbook/__init__.py:1298: ComplexWarning: Casting complex values to real discards the imaginary part\n  return np.asarray(x, float)\n/mnt/d/OneDrive - Universidad Adolfo Ibanez/Teaching_courses/Manejo_y_Conversion_Energia_Solar_Termica/material_catedra/5_TransporteRadiativo/empylib/ref_spectra/color_system.py:97: ComplexWarning: Casting complex values to real discards the imaginary part\n  hex_rgb = (255 * rgb).astype(int)\n"
        },
        {
         "data": {
          "image/png": "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\n",
          "text/plain": "<Figure size 576x432 with 2 Axes>"
         },
         "metadata": {
          "needs_background": "light"
         },
         "output_type": "display_data"
        }
       ]
      }
     },
     "4df3064027bc4d7db41978b3a78b780b": {
      "model_module": "@jupyter-widgets/controls",
      "model_module_version": "1.5.0",
      "model_name": "SliderStyleModel",
      "state": {
       "_model_module": "@jupyter-widgets/controls",
       "_model_module_version": "1.5.0",
       "_model_name": "SliderStyleModel",
       "_view_count": null,
       "_view_module": "@jupyter-widgets/base",
       "_view_module_version": "1.2.0",
       "_view_name": "StyleView",
       "description_width": "",
       "handle_color": null
      }
     },
     "5239ae075f50498cb6b84cf574584fda": {
      "model_module": "@jupyter-widgets/output",
      "model_module_version": "1.0.0",
      "model_name": "OutputModel",
      "state": {
       "_dom_classes": [],
       "_model_module": "@jupyter-widgets/output",
       "_model_module_version": "1.0.0",
       "_model_name": "OutputModel",
       "_view_count": null,
       "_view_module": "@jupyter-widgets/output",
       "_view_module_version": "1.0.0",
       "_view_name": "OutputView",
       "layout": "IPY_MODEL_5c03163ba04042028ddf9196092db298",
       "msg_id": "",
       "outputs": [
        {
         "data": {
          "image/png": "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\n",
          "text/plain": "<Figure size 648x360 with 1 Axes>"
         },
         "metadata": {
          "needs_background": "light"
         },
         "output_type": "display_data"
        }
       ]
      }
     },
     "56a7c9edaca3402593de7dc3ac90c05e": {
      "model_module": "@jupyter-widgets/controls",
      "model_module_version": "1.5.0",
      "model_name": "SliderStyleModel",
      "state": {
       "_model_module": "@jupyter-widgets/controls",
       "_model_module_version": "1.5.0",
       "_model_name": "SliderStyleModel",
       "_view_count": null,
       "_view_module": "@jupyter-widgets/base",
       "_view_module_version": "1.2.0",
       "_view_name": "StyleView",
       "description_width": "",
       "handle_color": null
      }
     },
     "5bcb9b6e347644e8b6cebb118063a8af": {
      "model_module": "@jupyter-widgets/output",
      "model_module_version": "1.0.0",
      "model_name": "OutputModel",
      "state": {
       "_dom_classes": [],
       "_model_module": "@jupyter-widgets/output",
       "_model_module_version": "1.0.0",
       "_model_name": "OutputModel",
       "_view_count": null,
       "_view_module": "@jupyter-widgets/output",
       "_view_module_version": "1.0.0",
       "_view_name": "OutputView",
       "layout": "IPY_MODEL_aeea9bf38d72486b8ae828de281b819c",
       "msg_id": "",
       "outputs": [
        {
         "data": {
          "image/png": "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\n",
          "text/plain": "<Figure size 648x360 with 1 Axes>"
         },
         "metadata": {
          "needs_background": "light"
         },
         "output_type": "display_data"
        }
       ]
      }
     },
     "5c03163ba04042028ddf9196092db298": {
      "model_module": "@jupyter-widgets/base",
      "model_module_version": "1.2.0",
      "model_name": "LayoutModel",
      "state": {
       "_model_module": "@jupyter-widgets/base",
       "_model_module_version": "1.2.0",
       "_model_name": "LayoutModel",
       "_view_count": null,
       "_view_module": "@jupyter-widgets/base",
       "_view_module_version": "1.2.0",
       "_view_name": "LayoutView",
       "align_content": null,
       "align_items": null,
       "align_self": null,
       "border": null,
       "bottom": null,
       "display": null,
       "flex": null,
       "flex_flow": null,
       "grid_area": null,
       "grid_auto_columns": null,
       "grid_auto_flow": null,
       "grid_auto_rows": null,
       "grid_column": null,
       "grid_gap": null,
       "grid_row": null,
       "grid_template_areas": null,
       "grid_template_columns": null,
       "grid_template_rows": null,
       "height": null,
       "justify_content": null,
       "justify_items": null,
       "left": null,
       "margin": null,
       "max_height": null,
       "max_width": null,
       "min_height": null,
       "min_width": null,
       "object_fit": null,
       "object_position": null,
       "order": null,
       "overflow": null,
       "overflow_x": null,
       "overflow_y": null,
       "padding": null,
       "right": null,
       "top": null,
       "visibility": null,
       "width": null
      }
     },
     "6a0f16038f4e424fba13d1e42bdb45e2": {
      "model_module": "@jupyter-widgets/base",
      "model_module_version": "1.2.0",
      "model_name": "LayoutModel",
      "state": {
       "_model_module": "@jupyter-widgets/base",
       "_model_module_version": "1.2.0",
       "_model_name": "LayoutModel",
       "_view_count": null,
       "_view_module": "@jupyter-widgets/base",
       "_view_module_version": "1.2.0",
       "_view_name": "LayoutView",
       "align_content": null,
       "align_items": null,
       "align_self": null,
       "border": null,
       "bottom": null,
       "display": null,
       "flex": null,
       "flex_flow": null,
       "grid_area": null,
       "grid_auto_columns": null,
       "grid_auto_flow": null,
       "grid_auto_rows": null,
       "grid_column": null,
       "grid_gap": null,
       "grid_row": null,
       "grid_template_areas": null,
       "grid_template_columns": null,
       "grid_template_rows": null,
       "height": null,
       "justify_content": null,
       "justify_items": null,
       "left": null,
       "margin": null,
       "max_height": null,
       "max_width": null,
       "min_height": null,
       "min_width": null,
       "object_fit": null,
       "object_position": null,
       "order": null,
       "overflow": null,
       "overflow_x": null,
       "overflow_y": null,
       "padding": null,
       "right": null,
       "top": null,
       "visibility": null,
       "width": null
      }
     },
     "77dbdf3d8e9a48dabdec35679bb14223": {
      "model_module": "@jupyter-widgets/base",
      "model_module_version": "1.2.0",
      "model_name": "LayoutModel",
      "state": {
       "_model_module": "@jupyter-widgets/base",
       "_model_module_version": "1.2.0",
       "_model_name": "LayoutModel",
       "_view_count": null,
       "_view_module": "@jupyter-widgets/base",
       "_view_module_version": "1.2.0",
       "_view_name": "LayoutView",
       "align_content": null,
       "align_items": null,
       "align_self": null,
       "border": null,
       "bottom": null,
       "display": null,
       "flex": null,
       "flex_flow": null,
       "grid_area": null,
       "grid_auto_columns": null,
       "grid_auto_flow": null,
       "grid_auto_rows": null,
       "grid_column": null,
       "grid_gap": null,
       "grid_row": null,
       "grid_template_areas": null,
       "grid_template_columns": null,
       "grid_template_rows": null,
       "height": null,
       "justify_content": null,
       "justify_items": null,
       "left": null,
       "margin": null,
       "max_height": null,
       "max_width": null,
       "min_height": null,
       "min_width": null,
       "object_fit": null,
       "object_position": null,
       "order": null,
       "overflow": null,
       "overflow_x": null,
       "overflow_y": null,
       "padding": null,
       "right": null,
       "top": null,
       "visibility": null,
       "width": null
      }
     },
     "7a5c9838dc1f4096a0ea73282d57f68f": {
      "model_module": "@jupyter-widgets/controls",
      "model_module_version": "1.5.0",
      "model_name": "VBoxModel",
      "state": {
       "_dom_classes": [
        "widget-interact"
       ],
       "_model_module": "@jupyter-widgets/controls",
       "_model_module_version": "1.5.0",
       "_model_name": "VBoxModel",
       "_view_count": null,
       "_view_module": "@jupyter-widgets/controls",
       "_view_module_version": "1.5.0",
       "_view_name": "VBoxView",
       "box_style": "",
       "children": [
        "IPY_MODEL_8ece6d785d72493fb337a91cfb53fda8",
        "IPY_MODEL_e14e1ce2e2f04e578d11ef813f25ffb0",
        "IPY_MODEL_19a895408b0e40239789e46939775f8b",
        "IPY_MODEL_5bcb9b6e347644e8b6cebb118063a8af"
       ],
       "layout": "IPY_MODEL_fae9409d66d24be980731fc36e3dc5d4"
      }
     },
     "838de451006f48219d257104f50140c1": {
      "model_module": "@jupyter-widgets/base",
      "model_module_version": "1.2.0",
      "model_name": "LayoutModel",
      "state": {
       "_model_module": "@jupyter-widgets/base",
       "_model_module_version": "1.2.0",
       "_model_name": "LayoutModel",
       "_view_count": null,
       "_view_module": "@jupyter-widgets/base",
       "_view_module_version": "1.2.0",
       "_view_name": "LayoutView",
       "align_content": null,
       "align_items": null,
       "align_self": null,
       "border": null,
       "bottom": null,
       "display": null,
       "flex": null,
       "flex_flow": null,
       "grid_area": null,
       "grid_auto_columns": null,
       "grid_auto_flow": null,
       "grid_auto_rows": null,
       "grid_column": null,
       "grid_gap": null,
       "grid_row": null,
       "grid_template_areas": null,
       "grid_template_columns": null,
       "grid_template_rows": null,
       "height": null,
       "justify_content": null,
       "justify_items": null,
       "left": null,
       "margin": null,
       "max_height": null,
       "max_width": null,
       "min_height": null,
       "min_width": null,
       "object_fit": null,
       "object_position": null,
       "order": null,
       "overflow": null,
       "overflow_x": null,
       "overflow_y": null,
       "padding": null,
       "right": null,
       "top": null,
       "visibility": null,
       "width": null
      }
     },
     "8ece6d785d72493fb337a91cfb53fda8": {
      "model_module": "@jupyter-widgets/controls",
      "model_module_version": "1.5.0",
      "model_name": "IntSliderModel",
      "state": {
       "_dom_classes": [],
       "_model_module": "@jupyter-widgets/controls",
       "_model_module_version": "1.5.0",
       "_model_name": "IntSliderModel",
       "_view_count": null,
       "_view_module": "@jupyter-widgets/controls",
       "_view_module_version": "1.5.0",
       "_view_name": "IntSliderView",
       "continuous_update": true,
       "description": "N",
       "description_tooltip": null,
       "disabled": false,
       "layout": "IPY_MODEL_012417b505cf4ccaaf3e87c1747cf7cc",
       "max": 1000,
       "min": 1,
       "orientation": "horizontal",
       "readout": true,
       "readout_format": "d",
       "step": 1,
       "style": "IPY_MODEL_e9a46d8112bc449fb77359638e9741e1",
       "value": 1000
      }
     },
     "948fc60f055648ebbda0303813f19153": {
      "model_module": "@jupyter-widgets/controls",
      "model_module_version": "1.5.0",
      "model_name": "FloatSliderModel",
      "state": {
       "_dom_classes": [],
       "_model_module": "@jupyter-widgets/controls",
       "_model_module_version": "1.5.0",
       "_model_name": "FloatSliderModel",
       "_view_count": null,
       "_view_module": "@jupyter-widgets/controls",
       "_view_module_version": "1.5.0",
       "_view_name": "FloatSliderView",
       "continuous_update": true,
       "description": "sig",
       "description_tooltip": null,
       "disabled": false,
       "layout": "IPY_MODEL_6a0f16038f4e424fba13d1e42bdb45e2",
       "max": 1.0,
       "min": 0.0,
       "orientation": "horizontal",
       "readout": true,
       "readout_format": ".2f",
       "step": 0.01,
       "style": "IPY_MODEL_0b7f2c022e3b4f788223c84fdff6a3eb",
       "value": 0.3
      }
     },
     "9c1cf74ce729460f85e32cef6db09e43": {
      "model_module": "@jupyter-widgets/controls",
      "model_module_version": "1.5.0",
      "model_name": "SliderStyleModel",
      "state": {
       "_model_module": "@jupyter-widgets/controls",
       "_model_module_version": "1.5.0",
       "_model_name": "SliderStyleModel",
       "_view_count": null,
       "_view_module": "@jupyter-widgets/base",
       "_view_module_version": "1.2.0",
       "_view_name": "StyleView",
       "description_width": "",
       "handle_color": null
      }
     },
     "9de038507b3c4582b4ee5641ca8153e7": {
      "model_module": "@jupyter-widgets/controls",
      "model_module_version": "1.5.0",
      "model_name": "IntSliderModel",
      "state": {
       "_dom_classes": [],
       "_model_module": "@jupyter-widgets/controls",
       "_model_module_version": "1.5.0",
       "_model_name": "IntSliderModel",
       "_view_count": null,
       "_view_module": "@jupyter-widgets/controls",
       "_view_module_version": "1.5.0",
       "_view_name": "IntSliderView",
       "continuous_update": true,
       "description": "N",
       "description_tooltip": null,
       "disabled": false,
       "layout": "IPY_MODEL_da7420d96a6d49b99c30fc37bed86311",
       "max": 1000,
       "min": 1,
       "orientation": "horizontal",
       "readout": true,
       "readout_format": "d",
       "step": 1,
       "style": "IPY_MODEL_56a7c9edaca3402593de7dc3ac90c05e",
       "value": 1000
      }
     },
     "a5d1b7174868401eb6e4829a0333ba29": {
      "model_module": "@jupyter-widgets/base",
      "model_module_version": "1.2.0",
      "model_name": "LayoutModel",
      "state": {
       "_model_module": "@jupyter-widgets/base",
       "_model_module_version": "1.2.0",
       "_model_name": "LayoutModel",
       "_view_count": null,
       "_view_module": "@jupyter-widgets/base",
       "_view_module_version": "1.2.0",
       "_view_name": "LayoutView",
       "align_content": null,
       "align_items": null,
       "align_self": null,
       "border": null,
       "bottom": null,
       "display": null,
       "flex": null,
       "flex_flow": null,
       "grid_area": null,
       "grid_auto_columns": null,
       "grid_auto_flow": null,
       "grid_auto_rows": null,
       "grid_column": null,
       "grid_gap": null,
       "grid_row": null,
       "grid_template_areas": null,
       "grid_template_columns": null,
       "grid_template_rows": null,
       "height": null,
       "justify_content": null,
       "justify_items": null,
       "left": null,
       "margin": null,
       "max_height": null,
       "max_width": null,
       "min_height": null,
       "min_width": null,
       "object_fit": null,
       "object_position": null,
       "order": null,
       "overflow": null,
       "overflow_x": null,
       "overflow_y": null,
       "padding": null,
       "right": null,
       "top": null,
       "visibility": null,
       "width": null
      }
     },
     "a760cb125e934b6381601efd0555eae9": {
      "model_module": "@jupyter-widgets/base",
      "model_module_version": "1.2.0",
      "model_name": "LayoutModel",
      "state": {
       "_model_module": "@jupyter-widgets/base",
       "_model_module_version": "1.2.0",
       "_model_name": "LayoutModel",
       "_view_count": null,
       "_view_module": "@jupyter-widgets/base",
       "_view_module_version": "1.2.0",
       "_view_name": "LayoutView",
       "align_content": null,
       "align_items": null,
       "align_self": null,
       "border": null,
       "bottom": null,
       "display": null,
       "flex": null,
       "flex_flow": null,
       "grid_area": null,
       "grid_auto_columns": null,
       "grid_auto_flow": null,
       "grid_auto_rows": null,
       "grid_column": null,
       "grid_gap": null,
       "grid_row": null,
       "grid_template_areas": null,
       "grid_template_columns": null,
       "grid_template_rows": null,
       "height": null,
       "justify_content": null,
       "justify_items": null,
       "left": null,
       "margin": null,
       "max_height": null,
       "max_width": null,
       "min_height": null,
       "min_width": null,
       "object_fit": null,
       "object_position": null,
       "order": null,
       "overflow": null,
       "overflow_x": null,
       "overflow_y": null,
       "padding": null,
       "right": null,
       "top": null,
       "visibility": null,
       "width": null
      }
     },
     "aeea9bf38d72486b8ae828de281b819c": {
      "model_module": "@jupyter-widgets/base",
      "model_module_version": "1.2.0",
      "model_name": "LayoutModel",
      "state": {
       "_model_module": "@jupyter-widgets/base",
       "_model_module_version": "1.2.0",
       "_model_name": "LayoutModel",
       "_view_count": null,
       "_view_module": "@jupyter-widgets/base",
       "_view_module_version": "1.2.0",
       "_view_name": "LayoutView",
       "align_content": null,
       "align_items": null,
       "align_self": null,
       "border": null,
       "bottom": null,
       "display": null,
       "flex": null,
       "flex_flow": null,
       "grid_area": null,
       "grid_auto_columns": null,
       "grid_auto_flow": null,
       "grid_auto_rows": null,
       "grid_column": null,
       "grid_gap": null,
       "grid_row": null,
       "grid_template_areas": null,
       "grid_template_columns": null,
       "grid_template_rows": null,
       "height": null,
       "justify_content": null,
       "justify_items": null,
       "left": null,
       "margin": null,
       "max_height": null,
       "max_width": null,
       "min_height": null,
       "min_width": null,
       "object_fit": null,
       "object_position": null,
       "order": null,
       "overflow": null,
       "overflow_x": null,
       "overflow_y": null,
       "padding": null,
       "right": null,
       "top": null,
       "visibility": null,
       "width": null
      }
     },
     "b7820d92a8e94b5cb9344be7960a222e": {
      "model_module": "@jupyter-widgets/base",
      "model_module_version": "1.2.0",
      "model_name": "LayoutModel",
      "state": {
       "_model_module": "@jupyter-widgets/base",
       "_model_module_version": "1.2.0",
       "_model_name": "LayoutModel",
       "_view_count": null,
       "_view_module": "@jupyter-widgets/base",
       "_view_module_version": "1.2.0",
       "_view_name": "LayoutView",
       "align_content": null,
       "align_items": null,
       "align_self": null,
       "border": null,
       "bottom": null,
       "display": null,
       "flex": null,
       "flex_flow": null,
       "grid_area": null,
       "grid_auto_columns": null,
       "grid_auto_flow": null,
       "grid_auto_rows": null,
       "grid_column": null,
       "grid_gap": null,
       "grid_row": null,
       "grid_template_areas": null,
       "grid_template_columns": null,
       "grid_template_rows": null,
       "height": null,
       "justify_content": null,
       "justify_items": null,
       "left": null,
       "margin": null,
       "max_height": null,
       "max_width": null,
       "min_height": null,
       "min_width": null,
       "object_fit": null,
       "object_position": null,
       "order": null,
       "overflow": null,
       "overflow_x": null,
       "overflow_y": null,
       "padding": null,
       "right": null,
       "top": null,
       "visibility": null,
       "width": null
      }
     },
     "ba6e367acba0482c8901a5ce20316bfe": {
      "model_module": "@jupyter-widgets/controls",
      "model_module_version": "1.5.0",
      "model_name": "SliderStyleModel",
      "state": {
       "_model_module": "@jupyter-widgets/controls",
       "_model_module_version": "1.5.0",
       "_model_name": "SliderStyleModel",
       "_view_count": null,
       "_view_module": "@jupyter-widgets/base",
       "_view_module_version": "1.2.0",
       "_view_name": "StyleView",
       "description_width": "",
       "handle_color": null
      }
     },
     "c3614e506b16413295955f8192b1e836": {
      "model_module": "@jupyter-widgets/base",
      "model_module_version": "1.2.0",
      "model_name": "LayoutModel",
      "state": {
       "_model_module": "@jupyter-widgets/base",
       "_model_module_version": "1.2.0",
       "_model_name": "LayoutModel",
       "_view_count": null,
       "_view_module": "@jupyter-widgets/base",
       "_view_module_version": "1.2.0",
       "_view_name": "LayoutView",
       "align_content": null,
       "align_items": null,
       "align_self": null,
       "border": null,
       "bottom": null,
       "display": null,
       "flex": null,
       "flex_flow": null,
       "grid_area": null,
       "grid_auto_columns": null,
       "grid_auto_flow": null,
       "grid_auto_rows": null,
       "grid_column": null,
       "grid_gap": null,
       "grid_row": null,
       "grid_template_areas": null,
       "grid_template_columns": null,
       "grid_template_rows": null,
       "height": null,
       "justify_content": null,
       "justify_items": null,
       "left": null,
       "margin": null,
       "max_height": null,
       "max_width": null,
       "min_height": null,
       "min_width": null,
       "object_fit": null,
       "object_position": null,
       "order": null,
       "overflow": null,
       "overflow_x": null,
       "overflow_y": null,
       "padding": null,
       "right": null,
       "top": null,
       "visibility": null,
       "width": null
      }
     },
     "c5b794759d6d4ebb979adbd58abf9218": {
      "model_module": "@jupyter-widgets/controls",
      "model_module_version": "1.5.0",
      "model_name": "IntSliderModel",
      "state": {
       "_dom_classes": [],
       "_model_module": "@jupyter-widgets/controls",
       "_model_module_version": "1.5.0",
       "_model_name": "IntSliderModel",
       "_view_count": null,
       "_view_module": "@jupyter-widgets/controls",
       "_view_module_version": "1.5.0",
       "_view_name": "IntSliderView",
       "continuous_update": true,
       "description": "D",
       "description_tooltip": null,
       "disabled": false,
       "layout": "IPY_MODEL_161a86fe7d4e4b1993e0255583109873",
       "max": 200,
       "min": 10,
       "orientation": "horizontal",
       "readout": true,
       "readout_format": "d",
       "step": 1,
       "style": "IPY_MODEL_ba6e367acba0482c8901a5ce20316bfe",
       "value": 140
      }
     },
     "c973378622af4e24851d0976ff34cc3f": {
      "model_module": "@jupyter-widgets/base",
      "model_module_version": "1.2.0",
      "model_name": "LayoutModel",
      "state": {
       "_model_module": "@jupyter-widgets/base",
       "_model_module_version": "1.2.0",
       "_model_name": "LayoutModel",
       "_view_count": null,
       "_view_module": "@jupyter-widgets/base",
       "_view_module_version": "1.2.0",
       "_view_name": "LayoutView",
       "align_content": null,
       "align_items": null,
       "align_self": null,
       "border": null,
       "bottom": null,
       "display": null,
       "flex": null,
       "flex_flow": null,
       "grid_area": null,
       "grid_auto_columns": null,
       "grid_auto_flow": null,
       "grid_auto_rows": null,
       "grid_column": null,
       "grid_gap": null,
       "grid_row": null,
       "grid_template_areas": null,
       "grid_template_columns": null,
       "grid_template_rows": null,
       "height": null,
       "justify_content": null,
       "justify_items": null,
       "left": null,
       "margin": null,
       "max_height": null,
       "max_width": null,
       "min_height": null,
       "min_width": null,
       "object_fit": null,
       "object_position": null,
       "order": null,
       "overflow": null,
       "overflow_x": null,
       "overflow_y": null,
       "padding": null,
       "right": null,
       "top": null,
       "visibility": null,
       "width": null
      }
     },
     "d7baca7706814a1596458eb453e29868": {
      "model_module": "@jupyter-widgets/controls",
      "model_module_version": "1.5.0",
      "model_name": "VBoxModel",
      "state": {
       "_dom_classes": [
        "widget-interact"
       ],
       "_model_module": "@jupyter-widgets/controls",
       "_model_module_version": "1.5.0",
       "_model_name": "VBoxModel",
       "_view_count": null,
       "_view_module": "@jupyter-widgets/controls",
       "_view_module_version": "1.5.0",
       "_view_name": "VBoxView",
       "box_style": "",
       "children": [
        "IPY_MODEL_9de038507b3c4582b4ee5641ca8153e7",
        "IPY_MODEL_d8ee5b2efc004b15aa48cea2684cc0b9",
        "IPY_MODEL_948fc60f055648ebbda0303813f19153",
        "IPY_MODEL_5239ae075f50498cb6b84cf574584fda"
       ],
       "layout": "IPY_MODEL_0451a737e07340e3b9aaa777078361f8"
      }
     },
     "d8ee5b2efc004b15aa48cea2684cc0b9": {
      "model_module": "@jupyter-widgets/controls",
      "model_module_version": "1.5.0",
      "model_name": "FloatSliderModel",
      "state": {
       "_dom_classes": [],
       "_model_module": "@jupyter-widgets/controls",
       "_model_module_version": "1.5.0",
       "_model_name": "FloatSliderModel",
       "_view_count": null,
       "_view_module": "@jupyter-widgets/controls",
       "_view_module_version": "1.5.0",
       "_view_name": "FloatSliderView",
       "continuous_update": true,
       "description": "t",
       "description_tooltip": null,
       "disabled": false,
       "layout": "IPY_MODEL_838de451006f48219d257104f50140c1",
       "max": 10.0,
       "min": -10.0,
       "orientation": "horizontal",
       "readout": true,
       "readout_format": ".2f",
       "step": 0.1,
       "style": "IPY_MODEL_9c1cf74ce729460f85e32cef6db09e43",
       "value": 0.0
      }
     },
     "da7420d96a6d49b99c30fc37bed86311": {
      "model_module": "@jupyter-widgets/base",
      "model_module_version": "1.2.0",
      "model_name": "LayoutModel",
      "state": {
       "_model_module": "@jupyter-widgets/base",
       "_model_module_version": "1.2.0",
       "_model_name": "LayoutModel",
       "_view_count": null,
       "_view_module": "@jupyter-widgets/base",
       "_view_module_version": "1.2.0",
       "_view_name": "LayoutView",
       "align_content": null,
       "align_items": null,
       "align_self": null,
       "border": null,
       "bottom": null,
       "display": null,
       "flex": null,
       "flex_flow": null,
       "grid_area": null,
       "grid_auto_columns": null,
       "grid_auto_flow": null,
       "grid_auto_rows": null,
       "grid_column": null,
       "grid_gap": null,
       "grid_row": null,
       "grid_template_areas": null,
       "grid_template_columns": null,
       "grid_template_rows": null,
       "height": null,
       "justify_content": null,
       "justify_items": null,
       "left": null,
       "margin": null,
       "max_height": null,
       "max_width": null,
       "min_height": null,
       "min_width": null,
       "object_fit": null,
       "object_position": null,
       "order": null,
       "overflow": null,
       "overflow_x": null,
       "overflow_y": null,
       "padding": null,
       "right": null,
       "top": null,
       "visibility": null,
       "width": null
      }
     },
     "e14e1ce2e2f04e578d11ef813f25ffb0": {
      "model_module": "@jupyter-widgets/controls",
      "model_module_version": "1.5.0",
      "model_name": "FloatSliderModel",
      "state": {
       "_dom_classes": [],
       "_model_module": "@jupyter-widgets/controls",
       "_model_module_version": "1.5.0",
       "_model_name": "FloatSliderModel",
       "_view_count": null,
       "_view_module": "@jupyter-widgets/controls",
       "_view_module_version": "1.5.0",
       "_view_name": "FloatSliderView",
       "continuous_update": true,
       "description": "t",
       "description_tooltip": null,
       "disabled": false,
       "layout": "IPY_MODEL_e7cbee78f2d74c57820b9298ffefdb27",
       "max": 20.0,
       "min": 0.0,
       "orientation": "horizontal",
       "readout": true,
       "readout_format": ".2f",
       "step": 0.1,
       "style": "IPY_MODEL_0b4348fb9cb24ee4a76906e5202a7f5a",
       "value": 2.0
      }
     },
     "e7cbee78f2d74c57820b9298ffefdb27": {
      "model_module": "@jupyter-widgets/base",
      "model_module_version": "1.2.0",
      "model_name": "LayoutModel",
      "state": {
       "_model_module": "@jupyter-widgets/base",
       "_model_module_version": "1.2.0",
       "_model_name": "LayoutModel",
       "_view_count": null,
       "_view_module": "@jupyter-widgets/base",
       "_view_module_version": "1.2.0",
       "_view_name": "LayoutView",
       "align_content": null,
       "align_items": null,
       "align_self": null,
       "border": null,
       "bottom": null,
       "display": null,
       "flex": null,
       "flex_flow": null,
       "grid_area": null,
       "grid_auto_columns": null,
       "grid_auto_flow": null,
       "grid_auto_rows": null,
       "grid_column": null,
       "grid_gap": null,
       "grid_row": null,
       "grid_template_areas": null,
       "grid_template_columns": null,
       "grid_template_rows": null,
       "height": null,
       "justify_content": null,
       "justify_items": null,
       "left": null,
       "margin": null,
       "max_height": null,
       "max_width": null,
       "min_height": null,
       "min_width": null,
       "object_fit": null,
       "object_position": null,
       "order": null,
       "overflow": null,
       "overflow_x": null,
       "overflow_y": null,
       "padding": null,
       "right": null,
       "top": null,
       "visibility": null,
       "width": null
      }
     },
     "e9a46d8112bc449fb77359638e9741e1": {
      "model_module": "@jupyter-widgets/controls",
      "model_module_version": "1.5.0",
      "model_name": "SliderStyleModel",
      "state": {
       "_model_module": "@jupyter-widgets/controls",
       "_model_module_version": "1.5.0",
       "_model_name": "SliderStyleModel",
       "_view_count": null,
       "_view_module": "@jupyter-widgets/base",
       "_view_module_version": "1.2.0",
       "_view_name": "StyleView",
       "description_width": "",
       "handle_color": null
      }
     },
     "ed842befe9784d1e932d04b42b887e44": {
      "model_module": "@jupyter-widgets/output",
      "model_module_version": "1.0.0",
      "model_name": "OutputModel",
      "state": {
       "_dom_classes": [],
       "_model_module": "@jupyter-widgets/output",
       "_model_module_version": "1.0.0",
       "_model_name": "OutputModel",
       "_view_count": null,
       "_view_module": "@jupyter-widgets/output",
       "_view_module_version": "1.0.0",
       "_view_name": "OutputView",
       "layout": "IPY_MODEL_a5d1b7174868401eb6e4829a0333ba29",
       "msg_id": "",
       "outputs": [
        {
         "data": {
          "image/png": "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\n",
          "text/plain": "<Figure size 1440x360 with 3 Axes>"
         },
         "metadata": {
          "needs_background": "light"
         },
         "output_type": "display_data"
        }
       ]
      }
     },
     "fae9409d66d24be980731fc36e3dc5d4": {
      "model_module": "@jupyter-widgets/base",
      "model_module_version": "1.2.0",
      "model_name": "LayoutModel",
      "state": {
       "_model_module": "@jupyter-widgets/base",
       "_model_module_version": "1.2.0",
       "_model_name": "LayoutModel",
       "_view_count": null,
       "_view_module": "@jupyter-widgets/base",
       "_view_module_version": "1.2.0",
       "_view_name": "LayoutView",
       "align_content": null,
       "align_items": null,
       "align_self": null,
       "border": null,
       "bottom": null,
       "display": null,
       "flex": null,
       "flex_flow": null,
       "grid_area": null,
       "grid_auto_columns": null,
       "grid_auto_flow": null,
       "grid_auto_rows": null,
       "grid_column": null,
       "grid_gap": null,
       "grid_row": null,
       "grid_template_areas": null,
       "grid_template_columns": null,
       "grid_template_rows": null,
       "height": null,
       "justify_content": null,
       "justify_items": null,
       "left": null,
       "margin": null,
       "max_height": null,
       "max_width": null,
       "min_height": null,
       "min_width": null,
       "object_fit": null,
       "object_position": null,
       "order": null,
       "overflow": null,
       "overflow_x": null,
       "overflow_y": null,
       "padding": null,
       "right": null,
       "top": null,
       "visibility": null,
       "width": null
      }
     },
     "fe7deee3566c488a9e8a74623d0517cb": {
      "model_module": "@jupyter-widgets/controls",
      "model_module_version": "1.5.0",
      "model_name": "SliderStyleModel",
      "state": {
       "_model_module": "@jupyter-widgets/controls",
       "_model_module_version": "1.5.0",
       "_model_name": "SliderStyleModel",
       "_view_count": null,
       "_view_module": "@jupyter-widgets/base",
       "_view_module_version": "1.2.0",
       "_view_name": "StyleView",
       "description_width": "",
       "handle_color": null
      }
     }
    },
    "version_major": 2,
    "version_minor": 0
   }
  }
 },
 "nbformat": 4,
 "nbformat_minor": 5
}