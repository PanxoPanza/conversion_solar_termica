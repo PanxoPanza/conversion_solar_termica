{
 "cells": [
  {
   "cell_type": "markdown",
   "id": "8b01ca79",
   "metadata": {
    "slideshow": {
     "slide_type": "slide"
    }
   },
   "source": [
    "# Introducción al curso"
   ]
  },
  {
   "cell_type": "markdown",
   "id": "f2501e84",
   "metadata": {
    "slideshow": {
     "slide_type": "slide"
    }
   },
   "source": [
    "## Situación actual del sistema energético"
   ]
  },
  {
   "cell_type": "code",
   "execution_count": 1,
   "id": "882ebef1",
   "metadata": {
    "cell_style": "center",
    "tags": [
     "remove-input"
    ]
   },
   "outputs": [
    {
     "data": {
      "text/html": [
       "\n",
       "        <iframe\n",
       "            width=\"100%\"\n",
       "            height=\"600px\"\n",
       "            src=\"https://ourworldindata.org/grapher/energy-consumption-by-source-and-region?stackMode=absolute\"\n",
       "            frameborder=\"0\"\n",
       "            allowfullscreen\n",
       "            \n",
       "        ></iframe>\n",
       "        "
      ],
      "text/plain": [
       "<IPython.lib.display.IFrame at 0x7f4d0f218850>"
      ]
     },
     "execution_count": 1,
     "metadata": {},
     "output_type": "execute_result"
    }
   ],
   "source": [
    "from IPython.display import display, HTML, IFrame\n",
    "IFrame('https://ourworldindata.org/grapher/energy-consumption-by-source-and-region?stackMode=absolute', '100%', '600px')"
   ]
  },
  {
   "cell_type": "markdown",
   "id": "6ca3a08c",
   "metadata": {
    "cell_style": "center",
    "slideshow": {
     "slide_type": "slide"
    }
   },
   "source": [
    "**Datos relevantes**\n",
    "- El consumo mundial de combustibles fósiles (petróleo, gas y carbón) a aumentado en casi 65% desde el año 1990 hasta el año 2021.\n",
    "- El porcentaje de energía proveniente de combustibles fósiles, ha disminuido de casi un 87% en 1990 a 83% en el 2021 (en Chile, este porcentaje cayó desde 82% a 76.5%).\n",
    "- Actualmente en Chile, las energías renovables representan un 23.5%, donde un 6.25% proviene de energía solar."
   ]
  },
  {
   "cell_type": "markdown",
   "id": "cd3e12a7",
   "metadata": {
    "cell_style": "center",
    "slideshow": {
     "slide_type": "slide"
    }
   },
   "source": [
    ">Por otro lado, **la disponiblidad de combustilbes fósiles es limitada**. Segun estudios ´[las reservas de petroleo, gas y carbón se agotarán para los años 2052, 2060 y 2090, respectivamente.](https://earthbuddies.net/when-will-we-run-out-of-fossil-fuel/)\n",
    "\n",
    ">Esto significa que los precios de los combustibles fósiles seguirán aumentando en las próximas décadas."
   ]
  },
  {
   "cell_type": "markdown",
   "id": "f167e11e",
   "metadata": {
    "cell_style": "center",
    "slideshow": {
     "slide_type": "slide"
    }
   },
   "source": [
    "## Problemas ambientales asociados al sistema energético actual\n",
    "Como vimos, aunque el consumo de energías renovables ha ido en aumento, la quema de combustibles fósiles sigue siendo la principal fuente de energía en el mundo."
   ]
  },
  {
   "cell_type": "markdown",
   "id": "2550355d",
   "metadata": {
    "slideshow": {
     "slide_type": "fragment"
    }
   },
   "source": [
    "Además de los problemas asociados a la disponibilidad limitada y aumento de precio de los combustibles fósiles, existen consecuencias medioambientales que tienen asociado un costo indirecto, tales como:\n",
    "- Lluvia ácida asociada a la emisión de SO$_2$ y NO$_x$\n",
    "- Disminución de la capa de ozono por emisión de CFC y NO$_x$. (*Aunque se han tomado una serie de medidas para reducir las emisiones de CFC, se estima que el daño en zonas como la Antartica seguirá presenta hasta, al menos, el año 2075.*)\n",
    "- Cambio climático producto del aumento de gases de efecto invernadero"
   ]
  },
  {
   "cell_type": "markdown",
   "id": "fbda1f8c",
   "metadata": {
    "slideshow": {
     "slide_type": "slide"
    }
   },
   "source": [
    "## Tecnologías de manejo y conversión de energía solar"
   ]
  },
  {
   "cell_type": "markdown",
   "id": "5198b52f",
   "metadata": {},
   "source": [
    "### Aspectos generales de la energía solar\n",
    "- El sol es la única fuente externa de energía en la tierra\n",
    "- Todas la formas de energía disponibles tiene origen solar (combustibles fósiles, mareomotríz, eólica, etc)"
   ]
  },
  {
   "cell_type": "markdown",
   "id": "c2a4f788",
   "metadata": {
    "slideshow": {
     "slide_type": "slide"
    }
   },
   "source": [
    "### Disponibilidad de energía solar\n"
   ]
  },
  {
   "cell_type": "code",
   "execution_count": 2,
   "id": "7ef9fe79",
   "metadata": {
    "scrolled": false,
    "tags": [
     "remove-input"
    ]
   },
   "outputs": [
    {
     "data": {
      "text/html": [
       "\n",
       "        <iframe\n",
       "            width=\"100%\"\n",
       "            height=\"600px\"\n",
       "            src=\"https://globalsolaratlas.info/map\"\n",
       "            frameborder=\"0\"\n",
       "            allowfullscreen\n",
       "            \n",
       "        ></iframe>\n",
       "        "
      ],
      "text/plain": [
       "<IPython.lib.display.IFrame at 0x7f4d0f21a080>"
      ]
     },
     "execution_count": 2,
     "metadata": {},
     "output_type": "execute_result"
    }
   ],
   "source": [
    "IFrame('https://globalsolaratlas.info/map','100%','600px')"
   ]
  },
  {
   "cell_type": "markdown",
   "id": "74d16d9a",
   "metadata": {
    "cell_style": "center",
    "slideshow": {
     "slide_type": "slide"
    }
   },
   "source": [
    "Chile es el país con mayores niveles de radiación en el mundo. \n",
    "\n",
    "Por ejemplo, en base al atlas solar del [World Bank Group](https://globalsolaratlas.info/map?c=11.523088,8.261719,3), si calculamos la energía generada por el área con mayores niveles de radiación considerando paneles con [potencia máxima de 500 Wp](https://solarity.cz/blog/500-wp-solar-modules-era/)"
   ]
  },
  {
   "cell_type": "code",
   "execution_count": 3,
   "id": "a750b4b8",
   "metadata": {
    "cell_style": "center",
    "slideshow": {
     "slide_type": "-"
    }
   },
   "outputs": [
    {
     "name": "stdout",
     "output_type": "stream",
     "text": [
      "Energía eléctrica suministrada: 914.1 TWh (Energía consumida en Chile 444 TWh)\n"
     ]
    }
   ],
   "source": [
    "A     = 304707.40 # Superficie total (km^2)\n",
    "Pmax  = 500       # Potencia máxima por panel en condiciones estándard (Wp)\n",
    "PVOUT = 6.0       # Potencía específica suministrada (kWh/Wp)\n",
    "\n",
    "# Energía total suministrada (TWh)\n",
    "Etot  = A*1E3**2*PVOUT*Pmax/1E12\n",
    "print(\"Energía eléctrica suministrada: %.1f TWh (Energía consumida en Chile 444 TWh)\" % Etot)"
   ]
  },
  {
   "cell_type": "markdown",
   "id": "3c71f87f",
   "metadata": {
    "cell_style": "center",
    "slideshow": {
     "slide_type": "slide"
    }
   },
   "source": [
    "> \"*Para abastecer toda la energía que requiere Chile si tuviéramos almacenamiento suficiente necesitamos unos mil kilómetros cuadrados, algo menos que el 1% del desierto y equivalente más o menos a la superficie de la comuna de Melipilla.*\"  [Rodrigo Palma, director de SERC, 2022](https://www.revistaei.cl/2019/09/04/con-todo-el-potencial-de-energia-solar-de-chile-se-podria-abastecer-60-veces-el-consumo-del-pais-y-el-20-del-mundo/#)"
   ]
  },
  {
   "cell_type": "markdown",
   "id": "0b98302f",
   "metadata": {
    "slideshow": {
     "slide_type": "slide"
    }
   },
   "source": [
    "### Principales de tecnologías para conversión y manejo  de energía solar"
   ]
  },
  {
   "cell_type": "markdown",
   "id": "b96e26d2",
   "metadata": {
    "cell_style": "center",
    "slideshow": {
     "slide_type": "fragment"
    }
   },
   "source": [
    "**Tecnologías conversionales**\n",
    "\n",
    "<img src=\"./images/fotovoltaica_termosolar.png\" width=\"600\" align= center>"
   ]
  },
  {
   "cell_type": "markdown",
   "id": "b4ef1470",
   "metadata": {
    "cell_style": "center",
    "slideshow": {
     "slide_type": "slide"
    }
   },
   "source": [
    "**Tecnologías emergentes**\n",
    "\n",
    "<img src=\"./images/emerging_solar_energy_conversion.png\" width=\"600\" align= center>"
   ]
  },
  {
   "cell_type": "markdown",
   "id": "490d24b2",
   "metadata": {
    "cell_style": "center",
    "slideshow": {
     "slide_type": "slide"
    }
   },
   "source": [
    "**Combustibles solares**\n",
    "\n",
    "<img src=\"./images/solar_fuels.png\" width=\"600\" align= center>"
   ]
  },
  {
   "cell_type": "markdown",
   "id": "bf8434b5",
   "metadata": {
    "slideshow": {
     "slide_type": "slide"
    }
   },
   "source": [
    "### La energía solar en Chile\n",
    "En Chile las principales tecnologías son la fotovoltaica y termosolar, [con una capacidad instalada total de 4.6 GW](https://www.pv-magazine-latam.com/2021/04/13/chile-alcanza-46-gw-fotovoltaicos-de-potencia-instalada/). Con excepción de la planta termosolar Cerro Dominador, la mayoría de este simunistro corresponde a plantas solares fotovoltaicas, de las cuales la más grande es El Romero Solar."
   ]
  },
  {
   "cell_type": "markdown",
   "id": "0d65f1e0",
   "metadata": {
    "cell_style": "split"
   },
   "source": [
    "<img src=\"./images/planta_fotovoltaica_ElRomero_chile.jpg\" width=\"500\" align= center>\n",
    "\n",
    "<center><a href=\"https://www.acciona.cl/proyectos/planta-fotovoltaica-romero-solar/\">Planta fotovoltaica El Romero Solar (196 MW)</a></center>"
   ]
  },
  {
   "cell_type": "markdown",
   "id": "02e8cc46",
   "metadata": {
    "cell_style": "split"
   },
   "source": [
    "<img src=\"./images/cerro_dominador.jpg\" width=\"500\" align= center>\n",
    "\n",
    "<center><a href=\"https://laderasur.com/articulo/recorriendo-cerro-dominador-la-unica-planta-termosolar-que-funciona-en-medio-del-desierto-de-atacama/\">Planta termosolar cerro dominador (110 MW)</a></center>"
   ]
  },
  {
   "cell_type": "markdown",
   "id": "c234a872",
   "metadata": {
    "slideshow": {
     "slide_type": "slide"
    }
   },
   "source": [
    "### Estado del arte de las tecnologías de conversión y manejo de energía solar\n",
    "Las actuales tecnologias bassadas en energía solar (principalmente fotovoltaica y termosolar) presentan una serie de deseventajas:"
   ]
  },
  {
   "cell_type": "markdown",
   "id": "20ddcb9a",
   "metadata": {
    "slideshow": {
     "slide_type": "fragment"
    }
   },
   "source": [
    "- **Baja eficiencia.** *Hoy en día la eficiencia de un panel fotovoltaico es cercana al 30%. En el caso de una central termosolar, la eficiencia es menor al 20%.* "
   ]
  },
  {
   "cell_type": "markdown",
   "id": "5170b84f",
   "metadata": {
    "slideshow": {
     "slide_type": "fragment"
    }
   },
   "source": [
    "\n",
    "\n",
    "- **Almacenamiento de energía limitado.** *Esto particularmente en centrales fotovoltaicas. Si bien, las centrales termosolares puede almacenar energía hasta por 24 horas, el costo nivelado de esta energía es superior a la energía por combustibles fósiles. Similar con el costo de almacenamiento por hidrógeno.* "
   ]
  },
  {
   "cell_type": "markdown",
   "id": "cc2b4d69",
   "metadata": {
    "slideshow": {
     "slide_type": "fragment"
    }
   },
   "source": [
    "- **Limitada capacidad de reutilización.** *Los paneles fotovoltaicos, la principal tecnología de conversión solar, tienen una vida útil promedio de 25 años. Luego de esto, la recuperación de los componentes es aún compleja y costosa.*"
   ]
  },
  {
   "cell_type": "markdown",
   "id": "c65422f9",
   "metadata": {
    "slideshow": {
     "slide_type": "slide"
    }
   },
   "source": [
    "- **Manejo infeciente de la energía.** *Además de fuentes de energía renovables, un desarrollo sustentable también requiere un manejo eficiente de la energía. Particularmente en hogares y oficinas, el control de las ganancias y pérdidas de calor por radiación es aún deficiente.*"
   ]
  },
  {
   "cell_type": "markdown",
   "id": "2b544093",
   "metadata": {
    "slideshow": {
     "slide_type": "slide"
    }
   },
   "source": [
    "## Manejo de la radiación solar\n",
    "\n",
    "El control de la radiación solar es clave en aspectos, tales como, mejorar la captura de energía solar o reducir el consumo de energía para enfriamiento y calefacción"
   ]
  },
  {
   "cell_type": "markdown",
   "id": "c837e455",
   "metadata": {
    "slideshow": {
     "slide_type": "slide"
    }
   },
   "source": [
    "### Espectros de energía radiativa\n",
    "\n",
    "El sol y, en general, todos los cuerpos a temperaturas sobre 0K emiten radiación, la cual está compuesta de ondas electromagnéticas con un amplio espectro de longitudes de onda.\n",
    "<img src=\"./images/thermal_radiation_spectra.png\" width=\"450\" align= center>"
   ]
  },
  {
   "cell_type": "markdown",
   "id": "89ba08ed",
   "metadata": {
    "cell_style": "center",
    "slideshow": {
     "slide_type": "fragment"
    }
   },
   "source": []
  },
  {
   "cell_type": "markdown",
   "id": "82fb224b",
   "metadata": {
    "cell_style": "center",
    "slideshow": {
     "slide_type": "slide"
    }
   },
   "source": [
    "Cada región del espectro genera una respuesta particular en los materiales. El adecuado manejo de este espectro es, así, fundamental para el aprovechamiento eficiente de la energía solar."
   ]
  },
  {
   "cell_type": "markdown",
   "id": "1a39067c",
   "metadata": {
    "slideshow": {
     "slide_type": "slide"
    }
   },
   "source": [
    "### Nanotecnología para el control de la radiación"
   ]
  },
  {
   "cell_type": "markdown",
   "id": "0920a8ea",
   "metadata": {},
   "source": [
    "El desarrollo de la manufactura de nanomateriales ha prograsado significativamente en las últimas décadas. Hoy en día, es común encontrar nanoestructuras en dispositivos electrónicos, productos cosméticos, entre otros.\n",
    "\n",
    "<img src=\"./images/transistor_evolution.png\" width=\"500\" align= center>"
   ]
  },
  {
   "cell_type": "markdown",
   "id": "453512dd",
   "metadata": {
    "slideshow": {
     "slide_type": "slide"
    }
   },
   "source": [
    "Esta manipulación de estructuras a escala nanométrica, deriva en materiales articiales con propiedades ópticas que permiten optimizar el intercambio de energía por radiación.\n",
    "\n",
    "<img src=\"./images/photonic_nanostructures.png\" width=\"500\" align= center>"
   ]
  }
 ],
 "metadata": {
  "celltoolbar": "Slideshow",
  "kernelspec": {
   "display_name": "Python 3 (ipykernel)",
   "language": "python",
   "name": "python3"
  },
  "language_info": {
   "codemirror_mode": {
    "name": "ipython",
    "version": 3
   },
   "file_extension": ".py",
   "mimetype": "text/x-python",
   "name": "python",
   "nbconvert_exporter": "python",
   "pygments_lexer": "ipython3",
   "version": "3.9.13"
  },
  "latex_envs": {
   "LaTeX_envs_menu_present": true,
   "autoclose": false,
   "autocomplete": false,
   "bibliofile": "biblio.bib",
   "cite_by": "apalike",
   "current_citInitial": 1,
   "eqLabelWithNumbers": true,
   "eqNumInitial": 1,
   "hotkeys": {
    "equation": "Ctrl-E",
    "itemize": "Ctrl-I"
   },
   "labels_anchors": false,
   "latex_user_defs": false,
   "report_style_numbering": false,
   "user_envs_cfg": false
  },
  "toc": {
   "base_numbering": "1",
   "nav_menu": {},
   "number_sections": false,
   "sideBar": true,
   "skip_h1_title": true,
   "title_cell": "Tabla de contenidos",
   "title_sidebar": "Contenidos",
   "toc_cell": false,
   "toc_position": {
    "height": "calc(100% - 180px)",
    "left": "10px",
    "top": "150px",
    "width": "307.198px"
   },
   "toc_section_display": true,
   "toc_window_display": false
  },
  "varInspector": {
   "cols": {
    "lenName": 16,
    "lenType": 16,
    "lenVar": 40
   },
   "kernels_config": {
    "python": {
     "delete_cmd_postfix": "",
     "delete_cmd_prefix": "del ",
     "library": "var_list.py",
     "varRefreshCmd": "print(var_dic_list())"
    },
    "r": {
     "delete_cmd_postfix": ") ",
     "delete_cmd_prefix": "rm(",
     "library": "var_list.r",
     "varRefreshCmd": "cat(var_dic_list()) "
    }
   },
   "types_to_exclude": [
    "module",
    "function",
    "builtin_function_or_method",
    "instance",
    "_Feature"
   ],
   "window_display": false
  }
 },
 "nbformat": 4,
 "nbformat_minor": 5
}
