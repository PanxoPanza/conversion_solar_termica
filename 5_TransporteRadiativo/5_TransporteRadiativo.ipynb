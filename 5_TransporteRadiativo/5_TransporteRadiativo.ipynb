{
 "cells": [
  {
   "cell_type": "markdown",
   "id": "8b01ca79",
   "metadata": {
    "slideshow": {
     "slide_type": "slide"
    }
   },
   "source": [
    " <font size=\"6\">MEC501 - Manejo y Conversión de Energía Solar Térmica</font>\n",
    "# 5. Transporte Radiativo\n",
    "<br><br><br><br>\n",
    "Profesor: Francisco Ramírez Cuevas<br>\n",
    "Fecha: 9 de Septiembre 2022"
   ]
  },
  {
   "cell_type": "markdown",
   "id": "9ff4cae4",
   "metadata": {
    "slideshow": {
     "slide_type": "slide"
    }
   },
   "source": [
    "## Coherencia de la luz e interferencia\n",
    "Como veremos en las próximas clases, las vibraciones moleculares en la materia son las responsables de emitir radiación en forma de ondas electromagnéticas. El mecanismo es similar, pero inverso, al mecanismo de absorción de luz, el cual es originado por la interacción de ondas electromagnéticas con las vibraciones moleculares (ver clase 3)."
   ]
  },
  {
   "cell_type": "markdown",
   "id": "bcb7cf39",
   "metadata": {
    "slideshow": {
     "slide_type": "fragment"
    }
   },
   "source": [
    "Dicho esto, dos moléculas pueden emitir radiación con una pequeña variación en la longitud de onda $\\Delta\\lambda$. Esto ocurre porque las vibraciones no están 100% correlacionadas, es decir, existe un grado de aletoriedad en las vibraciones."
   ]
  },
  {
   "cell_type": "markdown",
   "id": "b54cf722",
   "metadata": {
    "slideshow": {
     "slide_type": "slide"
    }
   },
   "source": [
    "Por ejemplo, consideremos una fuente de luz en el vacío que emite ondas electromagnéticas en dirección $\\hat{k} = \\hat{x}$. Consideremos esta fuente como $N$ emisores, donde cada emisor $j$ emite radiación con una longitud de onda $\\lambda \\pm\\Delta \\lambda_j$, donde $\\Delta \\lambda_j$ es escogido aleatoriamente a partir de una distribución normal.\n",
    "\n",
    "La onda resultante está definida por:\n",
    "\n",
    "\\begin{equation*}\n",
    "\\vec{E}_{tot} = \\sum_j^N E_0e^{i\\left(k_jx - \\omega_j t\\right)} \\hat{z},\n",
    "\\end{equation*}\n",
    "\n",
    "donde $k_j = \\frac{2\\pi}{\\lambda \\pm\\Delta \\lambda_j}$, y $\\omega_j = c_0k_j$"
   ]
  },
  {
   "cell_type": "markdown",
   "id": "e5e55e68",
   "metadata": {
    "slideshow": {
     "slide_type": "fragment"
    }
   },
   "source": [
    "En este ejemplo, $\\lambda = 500$ nm es la longitud de onda central de la fuente. Además, definiremos una variable $\\sigma \\in [0,1]$ de manera que $\\Delta\\lambda_j = \\sigma\\lambda$."
   ]
  },
  {
   "cell_type": "code",
   "execution_count": null,
   "id": "37df7e74",
   "metadata": {
    "cell_style": "split",
    "slideshow": {
     "slide_type": "slide"
    }
   },
   "outputs": [],
   "source": [
    "import numpy as np\n",
    "from numpy.random import normal\n",
    "import matplotlib.pyplot as plt\n",
    "c0 = 3E8          # velocidad de la luz (m/s)\n",
    "lam = 0.5         # longitud de onda (um)\n",
    "k0 = 2*np.pi/lam  # vector de onda (rad/um)\n",
    "w0 = c0*k0        # Frecuencia angular (rad/s)\n",
    "\n",
    "def light_packet(kdir, x, t, lam, sig, N):\n",
    "    xx = np.meshgrid(x,np.ones(N))[0]\n",
    "    \n",
    "    # Generamos arreglo de ondas aleatorias\n",
    "    dlamj =  normal(0, lam*sig,N)\n",
    "    kj = (2*np.pi/(lam + dlamj)).reshape(-1,1)\n",
    "    wj = c0*kj\n",
    "    Erand = np.exp(1j*(kdir*kj*xx-wj*t)) \n",
    "    \n",
    "    # Sumamos todas las ondas\n",
    "    return np.sum(Erand,axis=0)\n",
    "\n",
    "def plot_light_packet(N, t, sig):\n",
    "    '''\n",
    "    n: número de ondas generadas\n",
    "    t: tiempo en ns\n",
    "    sig: % de ancho de banda (dlam = sig*lam)\n",
    "    '''\n",
    "    t = t*1E-9 # convertimos ns a s\n",
    "    \n",
    "    # recorrido de la onda\n",
    "    x = np.linspace(-2,2,1000)  # desde 0 a 4 micrones\n",
    "    E = light_packet(1, x, t, lam, sig, N)\n",
    "    \n",
    "    # Graficamos\n",
    "    fig, ax = plt.subplots()\n",
    "    fig.set_size_inches(9, 5)\n",
    "    plt.rcParams['font.size'] = '18'\n",
    "    \n",
    "    ax.plot(x,np.real(E), 'k')\n",
    "    ax.set_xlabel('x ($\\mu$m)')\n",
    "    ax.set_ylabel('Amplitud $|E|/E_0$')\n",
    "    ax.set_ylim(-N*1.1,N*1.1)\n",
    "    ax.grid()\n"
   ]
  },
  {
   "cell_type": "code",
   "execution_count": null,
   "id": "5c81aca7",
   "metadata": {
    "cell_style": "split"
   },
   "outputs": [],
   "source": [
    "from ipywidgets import interact\n",
    "\n",
    "@interact( N=(1,1000,1), \n",
    "           t=(-10,10,0.1),\n",
    "           sig=(0,1,0.01))\n",
    "def g(N=1000, t=0, sig=0.3):\n",
    "    return plot_light_packet(N,t,sig)"
   ]
  },
  {
   "cell_type": "markdown",
   "id": "b53bb755",
   "metadata": {
    "slideshow": {
     "slide_type": "slide"
    }
   },
   "source": [
    "### Longitud de coherencia\n",
    "Definimos como **longitud de coherencia**, $l_c$, a la distancia donde un grupo de ondas electromagnética mantiene un determinado grado de coherencia. Para longitudes mayores a $l_c$, decimos que la luz es incoherente, es decir, el desface entre las distintas ondas es completamente aleatorio."
   ]
  },
  {
   "cell_type": "markdown",
   "id": "3ea340f8",
   "metadata": {
    "cell_style": "split",
    "slideshow": {
     "slide_type": "fragment"
    }
   },
   "source": [
    "<img src=\"./images/coherence_length.png\" width=\"300px\" align= center>"
   ]
  },
  {
   "cell_type": "markdown",
   "id": "1f71b46f",
   "metadata": {
    "cell_style": "split",
    "slideshow": {
     "slide_type": "fragment"
    }
   },
   "source": [
    "La relación entre $l_c$, la longitud de onda central $\\lambda$ y el ancho de banda $\\Delta\\lambda$ está dado aproximadamente por la relación:\n",
    "\n",
    "\\begin{equation*}\n",
    "l_c \\approx \\frac{\\lambda^2}{n\\Delta \\lambda},\n",
    "\\end{equation*}\n",
    "\n",
    "donde $n$ es el indice de refracción del medio donde se propaga la luz.\n",
    "\n",
    "Por ejemplo, para lasers He-Ne (laser rojo)  $l_c\\approx 0.2 - 100$ m.  "
   ]
  },
  {
   "cell_type": "markdown",
   "id": "b8e319bd",
   "metadata": {
    "slideshow": {
     "slide_type": "slide"
    }
   },
   "source": [
    "Para radiación emitida por un cuerpo a temperatura $T$, la longitud de coherencia está dada por:\n",
    "\n",
    "\\begin{equation*}\n",
    "l_c T = 2167.8~\\mathrm{\\mu m~K}\n",
    "\\end{equation*}\n",
    "\n",
    "Así, por ejemplo, la radiación solar ($T \\approx 5800~\\mathrm{K}$) tiene una longitud de coherencia, $l_c \\approx 370~\\mathrm{nm}$"
   ]
  },
  {
   "cell_type": "markdown",
   "id": "659f7454",
   "metadata": {
    "slideshow": {
     "slide_type": "slide"
    }
   },
   "source": [
    "### Régimen de trasporte de luz\n",
    "Consideremos dos paquetes de onda con una longitud de coherencia $l_c$, viajando en sentido opuesto."
   ]
  },
  {
   "cell_type": "markdown",
   "id": "1b6928bc",
   "metadata": {
    "slideshow": {
     "slide_type": "fragment"
    }
   },
   "source": [
    "Podemos ver que ambos paquetes de luz interfieren en $x = 0$ en un instante $t$. Al continuar su camino, ambos paquetes de onda recuperan su forma original."
   ]
  },
  {
   "cell_type": "code",
   "execution_count": null,
   "id": "8b9e3e63",
   "metadata": {
    "cell_style": "split",
    "slideshow": {
     "slide_type": "slide"
    }
   },
   "outputs": [],
   "source": [
    "def plot_2light_packet(n, t, sig):\n",
    "    '''\n",
    "    n: número de ondas generadas\n",
    "    t: tiempo en ns\n",
    "    sig: % de ancho de banda (dlam = sig*lam)\n",
    "    '''\n",
    "    t = t*1E-9 # convertimos ns a s\n",
    "    lam = 0.5\n",
    "    \n",
    "    # recorrido de la onda\n",
    "    x = np.linspace(-2,2,1000)  # desde 0 a 4 micrones\n",
    "    k0 = 2*np.pi/lam\n",
    "    Efw = light_packet( 1, x - x[ 0], t, lam, sig, n)\n",
    "    Ebw = light_packet(-1, x - x[-1], t, lam, sig, n)\n",
    "    \n",
    "    # Graficamos\n",
    "    fig, ax = plt.subplots()\n",
    "    fig.set_size_inches(9, 5)\n",
    "    plt.rcParams['font.size'] = '18'\n",
    "    \n",
    "    ax.plot(x,np.real(Efw + Ebw), 'k')\n",
    "    ax.set_xlabel('x ($\\mu$m)')\n",
    "    ax.set_ylabel('Amplitud $|E|/E_0$')\n",
    "    ax.set_ylim(-n*2.1,n*2.1)\n",
    "    ax.grid()\n"
   ]
  },
  {
   "cell_type": "code",
   "execution_count": null,
   "id": "977daeda",
   "metadata": {
    "cell_style": "split"
   },
   "outputs": [],
   "source": [
    "from ipywidgets import interact\n",
    "\n",
    "@interact( N=(1,1000,1), \n",
    "           t=(0,20,0.1),\n",
    "           sig=(0,1,0.01))\n",
    "def g(N=1000, t=2, sig=0.3):\n",
    "    return plot_2light_packet(N,t,sig)"
   ]
  },
  {
   "cell_type": "markdown",
   "id": "615ad1c6",
   "metadata": {
    "slideshow": {
     "slide_type": "slide"
    }
   },
   "source": [
    "A partir de esto, podemos concluir que los fenómenos de interferencia en películas de capa delgada de espesor $d$ no estarán presentes en si $d > l_c$. En otras palabras, el fenómeno de interferencia solo existe si el paquete de onda interfiere consigo mismo."
   ]
  },
  {
   "cell_type": "markdown",
   "id": "db4d20e4",
   "metadata": {
    "cell_style": "split",
    "slideshow": {
     "slide_type": "fragment"
    }
   },
   "source": [
    "<img src=\"./images/interference_thinfilm.png\" width=\"200px\" align= center>"
   ]
  },
  {
   "cell_type": "markdown",
   "id": "fce7ef57",
   "metadata": {
    "cell_style": "split",
    "slideshow": {
     "slide_type": "fragment"
    }
   },
   "source": [
    "En general, para una longitud características $D$:\n",
    "\n",
    "- Si $D > l_c$ el **transporte de luz incoherente** . En este régimen, podemos ignorar las propiedades oscilatorias de la luz, y analizar el problema como el transporte de pequeños paquetes de onda, o simplemente como partículas.\n",
    "\n",
    "- Si $D < l_c$, el **transporte de luz coherente**. En este régimen debemos considerar las propiedades oscilatorias a partir de las Ecuaciones de Maxwell."
   ]
  },
  {
   "cell_type": "markdown",
   "id": "06aab8e7",
   "metadata": {
    "cell_style": "center",
    "slideshow": {
     "slide_type": "slide"
    }
   },
   "source": [
    "Así, los coeficientes de Fresnel para una película delgada solo son válidos para $d < l_c$. "
   ]
  },
  {
   "cell_type": "markdown",
   "id": "c7f85265",
   "metadata": {
    "cell_style": "split",
    "slideshow": {
     "slide_type": "fragment"
    }
   },
   "source": [
    "Los coeficientes de Fresnel para una interface, en cambio, siempre son válidos."
   ]
  },
  {
   "cell_type": "markdown",
   "id": "57178760",
   "metadata": {
    "cell_style": "split",
    "slideshow": {
     "slide_type": "fragment"
    }
   },
   "source": [
    "<img src=\"./images/interference_interface.png\" width=\"350px\" align= center>"
   ]
  },
  {
   "cell_type": "markdown",
   "id": "17c1dc23",
   "metadata": {
    "slideshow": {
     "slide_type": "slide"
    }
   },
   "source": [
    "## Referencias\n",
    "- Rao S. S. **Chapter 4 - Vibration Under General Forcing Conditions** in *Mechanical Vibrations*, 6th Ed, Pearson, 2018\n",
    "\n",
    "- Griffths D., **Chapter 4.1 - Polarization** in *Introduction to Electrodynamics*, 4th Ed, Pearson, 2013\n",
    "\n",
    "- Simmons J. and Potter K., **Chapter 2 and 3** in *Optical Materials*, 1st Ed, Academic Press, 2000"
   ]
  },
  {
   "cell_type": "code",
   "execution_count": null,
   "id": "1386770e",
   "metadata": {},
   "outputs": [],
   "source": []
  }
 ],
 "metadata": {
  "celltoolbar": "Slideshow",
  "kernelspec": {
   "display_name": "Python 3 (ipykernel)",
   "language": "python",
   "name": "python3"
  },
  "language_info": {
   "codemirror_mode": {
    "name": "ipython",
    "version": 3
   },
   "file_extension": ".py",
   "mimetype": "text/x-python",
   "name": "python",
   "nbconvert_exporter": "python",
   "pygments_lexer": "ipython3",
   "version": "3.9.13"
  },
  "latex_envs": {
   "LaTeX_envs_menu_present": false,
   "autoclose": false,
   "autocomplete": false,
   "bibliofile": "biblio.bib",
   "cite_by": "apalike",
   "current_citInitial": 1,
   "eqLabelWithNumbers": true,
   "eqNumInitial": 2,
   "hotkeys": {
    "equation": "Ctrl-E",
    "itemize": "Ctrl-I"
   },
   "labels_anchors": false,
   "latex_user_defs": false,
   "report_style_numbering": false,
   "user_envs_cfg": true
  },
  "toc": {
   "base_numbering": 1,
   "nav_menu": {},
   "number_sections": false,
   "sideBar": true,
   "skip_h1_title": true,
   "title_cell": "Tabla de contenidos",
   "title_sidebar": "Contenidos",
   "toc_cell": false,
   "toc_position": {
    "height": "calc(100% - 180px)",
    "left": "10px",
    "top": "150px",
    "width": "307.2px"
   },
   "toc_section_display": true,
   "toc_window_display": false
  },
  "varInspector": {
   "cols": {
    "lenName": 16,
    "lenType": 16,
    "lenVar": 40
   },
   "kernels_config": {
    "python": {
     "delete_cmd_postfix": "",
     "delete_cmd_prefix": "del ",
     "library": "var_list.py",
     "varRefreshCmd": "print(var_dic_list())"
    },
    "r": {
     "delete_cmd_postfix": ") ",
     "delete_cmd_prefix": "rm(",
     "library": "var_list.r",
     "varRefreshCmd": "cat(var_dic_list()) "
    }
   },
   "types_to_exclude": [
    "module",
    "function",
    "builtin_function_or_method",
    "instance",
    "_Feature"
   ],
   "window_display": false
  }
 },
 "nbformat": 4,
 "nbformat_minor": 5
}
