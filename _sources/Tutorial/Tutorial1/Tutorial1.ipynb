{
 "cells": [
  {
   "cell_type": "code",
   "execution_count": 1,
   "id": "3c597da7",
   "metadata": {
    "slideshow": {
     "slide_type": "skip"
    },
    "tags": [
     "remove-cell"
    ]
   },
   "outputs": [],
   "source": [
    "import importlib.util\n",
    "if importlib.util.find_spec('empylib') is None:\n",
    "    !pip install git+https://github.com/PanxoPanza/empylib.git"
   ]
  },
  {
   "cell_type": "markdown",
   "id": "2252d0b2",
   "metadata": {},
   "source": [
    "# Tutorial 1\n",
    "\n",
    "Este es un tutorial para utilizar las principales librerías del paquete ```empylib```. Estas son:\n",
    "- Funciones básicas en `empylib`.\n",
    "- `nklib` para estimación de índices de refracción.\n",
    "- `waveoptics` para cálculo de propiedades de reflectancia y transmitancia de ondas electromagnéticas.\n",
    "- `miescattering` para cálculo scattering y absorción de luz\n",
    "- `rad_transfer` para simulaciones de transferencia de energía radiativa."
   ]
  },
  {
   "cell_type": "markdown",
   "id": "9d19e998",
   "metadata": {},
   "source": [
    "Primero, importamos los paquetes estandar de `numpy` y `matplotlib`"
   ]
  },
  {
   "cell_type": "code",
   "execution_count": 2,
   "id": "3be87ba6",
   "metadata": {},
   "outputs": [],
   "source": [
    "import numpy as np\n",
    "import matplotlib.pyplot as plt"
   ]
  },
  {
   "cell_type": "markdown",
   "id": "c690efb1",
   "metadata": {},
   "source": [
    "## Conversión de unidades"
   ]
  },
  {
   "cell_type": "code",
   "execution_count": 3,
   "id": "8819d95d",
   "metadata": {},
   "outputs": [],
   "source": [
    "import empylib as em"
   ]
  },
  {
   "cell_type": "markdown",
   "id": "47fb5083",
   "metadata": {},
   "source": [
    "La librería ```empylib``` cuenta con la función ```convert_units(x, x_in, to)``` para convertir unidades. Los parámetros de entrada son:\n",
    "- ```x```: lista de valores a convertir (formato *ndarray*)\n",
    "- ```x_in```: unidad de la lista de valores (formato *string*)\n",
    "- ```to```: unidad a convertir (formato *string*)\n",
    "\n",
    "La función retorna la lista de valores en ```x``` convertido a la unidad ```to```.\n",
    "\n",
    "Como opciones, la función permite convertir las siguientes unidades:\n",
    "- Nanometros ($\\lambda$) : ```'nm'```\n",
    "- Micrometros ($\\lambda$) : ```'um'```\n",
    "- Centímetros recíprocos : ```'cm^-1'```\n",
    "- Frecuencia ($\\nu$) : ```'Hz'```\n",
    "- Frecuencia angular ($\\omega$) : ```'rad/s'```\n",
    "- Electron volts ($E_{\\hbar\\omega}$) : ```'eV'```"
   ]
  },
  {
   "cell_type": "markdown",
   "id": "ba9cbfba",
   "metadata": {},
   "source": [
    "Por ejemplo, realicemos la conversión del espectro $\\lambda \\in [0.3,1.0]$ $\\mu$m considerando 8 puntos igualmente espaciados, a unidades de eV."
   ]
  },
  {
   "cell_type": "code",
   "execution_count": 4,
   "id": "fd3edee1",
   "metadata": {},
   "outputs": [],
   "source": [
    "lam = np.linspace(0.3,1.0,8)   # espectro de longitudes de onda en um\n",
    "print('longitudes de onda en um:\\n', lam)\n",
    "\n",
    "lam_in_eV = em.convert_units(lam,'um','eV') # convertimos lam a unidades de eV\n",
    "print('longitudes de onda en eV:\\n', lam_in_eV)"
   ]
  },
  {
   "cell_type": "code",
   "execution_count": 5,
   "id": "b4734c8a",
   "metadata": {},
   "outputs": [],
   "source": [
    "# revertimos el proceso para recuperar las longitudes de onda en um\n",
    "lam_in_um = em.convert_units(lam_in_eV,'eV','um') # convertimos lam a unidades de eVicrones\n",
    "print('longitudes de onda en um:\\n', lam_in_um)"
   ]
  },
  {
   "cell_type": "markdown",
   "id": "dadbba4a",
   "metadata": {},
   "source": [
    "## Índices de refracción (```nklib```)"
   ]
  },
  {
   "cell_type": "code",
   "execution_count": 6,
   "id": "83238e05",
   "metadata": {},
   "outputs": [],
   "source": [
    "import empylib.nklib as nk"
   ]
  },
  {
   "cell_type": "markdown",
   "id": "97cff431",
   "metadata": {},
   "source": [
    "### Índices de refracción tabulados\n",
    "La librería ```empylib.nklib``` contiene una serie de funciones para determinar el coeficiente de refracción complejo, $N = n + i\\kappa$.\n",
    "\n",
    "Entre la lista de materiales disponibles tenemos:\n",
    "- Agua (```H2O```)\n",
    "- Oro (```gold```)\n",
    "- Plata (```silver```)\n",
    "- Cobre (```Cu```)\n",
    "- Aluminio (```Al```)\n",
    "- Silice (```SiO2```)\n",
    "- Silicio (```Si```)\n",
    "- Dióxido de Titanio (```TiO2```)\n",
    "\n",
    "Para utilizar las funciones debemos, primero, generar un arreglo con las longitudes de onda que deseamos graficar, y luego evaluar la función para determinar el índice de refracción.\n",
    "\n",
    "Por ejemplo, supongamos que necesitamos el índice de refracción del sílice en el espectro $\\lambda\\in[0.5,20]$ $\\mu$m."
   ]
  },
  {
   "cell_type": "code",
   "execution_count": 7,
   "id": "b6c65a16",
   "metadata": {},
   "outputs": [],
   "source": [
    "nk.Al(0.5)"
   ]
  },
  {
   "cell_type": "code",
   "execution_count": 8,
   "id": "c23622b9",
   "metadata": {},
   "outputs": [],
   "source": [
    "lam = np.linspace(0.5,20,100)   # arreglo de 100 datos entre 0.5 y 5.0 micrones\n",
    "N   = nk.SiO2(lam)              # índice de refracción del sílice\n",
    "\n",
    "# graficamos el índice de refracción\n",
    "plt.plot(lam, N.real,'-b', label = 'n')\n",
    "plt.plot(lam, N.imag,'-r', label = '$\\kappa$')\n",
    "plt.xlabel('longitud de onda ($\\mu$m)')\n",
    "plt.ylabel('Índice de refracción')\n",
    "plt.legend()\n",
    "plt.show()"
   ]
  },
  {
   "cell_type": "markdown",
   "id": "ef665258",
   "metadata": {},
   "source": [
    "### Modelos de Drude y Lorentz\n",
    "La librería ```empylib.nklib``` también posee funciones para determinar el **índice de refracción** a partir de modelos de Drude y Lorentz.\n",
    "\n",
    "> Notar que estas funciones entregan el **índice de refracción**. Para esto, cada función toma el modelo de Drude o Lorentz  para determinar la **constante dieléctrica** $\\varepsilon$, según lo [visto en clases](https://panxopanza.github.io/conversion_solar_termica/3_Interacci%C3%B3n_materia-luz/3_Interacci%C3%B3n_materia-luz.html). Luego el índice de refracción se determina a partir de $\\sqrt{\\varepsilon}$\n",
    "\n",
    "Cada modelo requiere una serie de parámetros. Podemos verificar los parámetros requeridos mediante la función ```help```."
   ]
  },
  {
   "cell_type": "code",
   "execution_count": 9,
   "id": "cc5d62f2",
   "metadata": {},
   "outputs": [],
   "source": [
    "help(nk.lorentz)"
   ]
  },
  {
   "cell_type": "markdown",
   "id": "878bbabd",
   "metadata": {},
   "source": [
    "Como vemos la función ```lorentz``` requiere los parámetros $\\omega_p$, $\\omega_n$ y $\\Gamma$ en unidades de eV, además de $\\varepsilon_\\infty$. Por último, la función también requiere el espectro de longitudes de onda en unidades de micrones (um) a partir de la variable ```lam```.\n",
    "\n",
    "En el siguiente ejemplo, graficaremos el modelo de Lorentz para $\\lambda\\in[2,20]$ $\\mu$m, considerando los siguientes parámetros:\n",
    "- $\\omega_n = 0.124$ eV ($\\approx 10$ $\\mu$m)\n",
    "- $\\omega_p = 0.150$ eV \n",
    "- $\\Gamma = 0.01$ eV\n",
    "- $\\varepsilon_\\infty = 2.25$ "
   ]
  },
  {
   "cell_type": "markdown",
   "id": "17f62c2f",
   "metadata": {},
   "source": [
    "**Índice de refracción según modelo de Lorentz**"
   ]
  },
  {
   "cell_type": "code",
   "execution_count": 10,
   "id": "bde90324",
   "metadata": {},
   "outputs": [],
   "source": [
    "lam = np.linspace(2,20,200)   # arreglo de 100 datos entre 0.5 y 5.0 micrones\n",
    "\n",
    "wn = 0.124  # Frecuencia natural (eV)\n",
    "wp = 0.150  # Frecuencia wp (eV)\n",
    "T = 0.01    # Taza de decaimiento (eV)\n",
    "eps0 = 2.25\n",
    "\n",
    "Nlorentz   = nk.lorentz(eps0,wp,wn,T,lam)  # índice de refracción modelo de drude\n",
    "\n",
    "# graficamos el índice de refracción\n",
    "plt.plot(lam, Nlorentz.real,'-b', label = 'n')\n",
    "plt.plot(lam, Nlorentz.imag,'-r', label = '$\\kappa$')\n",
    "plt.xlabel('longitud de onda ($\\mu$m)')\n",
    "plt.ylabel('Índice de refracción')\n",
    "plt.legend()\n",
    "plt.show()"
   ]
  },
  {
   "cell_type": "markdown",
   "id": "0ff490ec",
   "metadata": {},
   "source": [
    "**Constante dieléctrica según modelo de Lorentz**"
   ]
  },
  {
   "cell_type": "code",
   "execution_count": 11,
   "id": "b09f2893",
   "metadata": {},
   "outputs": [],
   "source": [
    "eps_lorentz = Nlorentz**2\n",
    "\n",
    "# graficamos el índice de refracción\n",
    "plt.plot(lam, eps_lorentz.real,'-b', label = 'n')\n",
    "plt.plot(lam, eps_lorentz.imag,'-r', label = '$\\kappa$')\n",
    "plt.xlabel('longitud de onda ($\\mu$m)')\n",
    "plt.ylabel('Constante dieléctrica')\n",
    "plt.legend()\n",
    "plt.show()"
   ]
  },
  {
   "cell_type": "code",
   "execution_count": 12,
   "id": "bfe0ca34",
   "metadata": {},
   "outputs": [],
   "source": [
    "lam = np.linspace(0.3,8,200)   # arreglo de 100 datos entre 0.5 y 5.0 micrones\n",
    "\n",
    "eps0=10\n",
    "wn = 0.289    # Frecuencia natural (eV)\n",
    "wp = 0.15*wn  # Frecuencia wp (eV)\n",
    "T = 0.01      # Taza de decaimiento (eV)\n",
    "\n",
    "nkco2 = nk.lorentz(eps0,wp,wn,T,lam)\n",
    "epsco2 = nkco2**2\n",
    "\n",
    "plt.plot(lam, epsco2.real,'r')\n",
    "plt.plot(lam, epsco2.imag,'b')"
   ]
  },
  {
   "cell_type": "markdown",
   "id": "3e7c79c4",
   "metadata": {},
   "source": [
    "**Constante dieléctrica del agua modelo de Lorentz**"
   ]
  },
  {
   "cell_type": "markdown",
   "id": "d7a75e12",
   "metadata": {},
   "source": [
    "Ahora, generemos la constante dieléctrica del agua a partir del modelo de Lorentz.\n",
    "\n",
    "En el caso del agua, tenemos dos modos de vibración ([referencia](https://youtu.be/1uE2lvVkKW0)). Así, el modelo de Lorentz es:\n",
    "\n",
    "\\begin{equation*}\n",
    "\\varepsilon = \\varepsilon_\\infty + \\frac{\\omega_{p_1}^2}{\\omega_{n_1}^2 - \\omega^2 - i\\Gamma \\omega} + \\frac{\\omega_{p_2}^2}{\\omega_{n_2}^2 - \\omega^2 - i\\Gamma \\omega},\n",
    "\\end{equation*}\n",
    "\n",
    "donde $\\omega_{n_1}$ y $\\omega_{n_2}$ son las frecuencias naturales de los modos de vibración.\n",
    "\n",
    "Como aproximación consideramos:\n",
    "- $\\Gamma = 0.01$ eV\n",
    "- $\\omega_{p_i} = 0.2\\omega_{n_i}$ eV\n",
    "- $\\varepsilon_\\infty$ = 2.0\n"
   ]
  },
  {
   "cell_type": "code",
   "execution_count": 13,
   "id": "ed89fd6f",
   "metadata": {},
   "outputs": [],
   "source": [
    "# a partir del video tenemos\n",
    "modos = np.array([3412, 1691])            # unidades de cm^(-1)\n",
    "wn = em.convert_units(modos,'cm^-1','eV') # frecuencias naturales en eV\n",
    "wn"
   ]
  },
  {
   "cell_type": "markdown",
   "id": "6a3f3977",
   "metadata": {},
   "source": [
    "Generamos nuestro modelo, y graficamos para $\\lambda\\in[2,10]$ $\\mu$m"
   ]
  },
  {
   "cell_type": "code",
   "execution_count": 14,
   "id": "205e40bc",
   "metadata": {},
   "outputs": [],
   "source": [
    "# generamos modelo del agua \n",
    "\n",
    "wp = 0.2*wn\n",
    "gamma = 0.01\n",
    "epsinf = 2\n",
    "\n",
    "lam = np.linspace(2.0,10,100)   # espectro de longitudes de onda\n",
    "# constante dielectrica del agua\n",
    "eps_agua = epsinf + nk.lorentz(0, wp[0], wn[0], gamma, lam)**2 \\\n",
    "                  + nk.lorentz(0, wp[1], wn[1], gamma, lam)**2\n",
    "\n",
    "# graficamos el índice de refracción\n",
    "plt.plot(lam, eps_agua.real,'-b', label = 'n')\n",
    "plt.plot(lam, eps_agua.imag,'-r', label = '$\\kappa$')\n",
    "plt.xlabel('longitud de onda ($\\mu$m)')\n",
    "plt.ylabel('Constante dieléctrica del agua')\n",
    "plt.legend()\n",
    "plt.show()"
   ]
  },
  {
   "cell_type": "markdown",
   "id": "cbec9212",
   "metadata": {},
   "source": [
    "## Reflexión/Transmissión (```waveoptics```)"
   ]
  },
  {
   "cell_type": "code",
   "execution_count": 15,
   "id": "0463abf3",
   "metadata": {},
   "outputs": [],
   "source": [
    "import empylib.waveoptics as wv"
   ]
  },
  {
   "cell_type": "markdown",
   "id": "e22dc82b",
   "metadata": {},
   "source": [
    "La librería ```empylib.waveoptics``` contiene funciones para calcular los coeficientes de Fresnel y Flujo de energía de la porción transmitida y reflejada de la luz incidente.\n",
    "- ```interface``` para una [interface simple](https://panxopanza.github.io/conversion_solar_termica/2_ondas_EM_en_la_materia/2_ondas_EM_en_la_materia.html#coeficientes-de-fresnel)\n",
    "- ```multilayer``` para multicapas de [película delgada](https://panxopanza.github.io/conversion_solar_termica/2_ondas_EM_en_la_materia/2_ondas_EM_en_la_materia.html#refleccion-y-transmission-en-peliculas-delgadas)\n",
    "\n",
    "- ```incoh_multilayer``` para multicapas de película delgada ignorando fenómenos de interferencia (luz incoherente)"
   ]
  },
  {
   "cell_type": "markdown",
   "id": "f3c99350",
   "metadata": {},
   "source": [
    "### Luz incidente en una interface (```interface```)\n",
    "Esta función permite determinar los coeficientes de Fresnel y flujo de energía para la onda reflejada y transmitida a través de una interface. La función toma 4 argumentos: \n",
    "- ```theta```: ángulo de incidencia (en radianes)\n",
    "- ```n1```: índice de refracción del medio sobre la interface\n",
    "- ```n2```: índice de refracción del medio bajo la interface\n",
    "- ```pol```: Polarización de la onda incidente (```'TM' ``` o ```'TE' ```)\n",
    "\n",
    "La función necesita como mínimo 3 argumentos: ```theta```, ```n1```, ```n2```. En ese caso, ```pol= 'TM' ``` por defecto.\n",
    "\n",
    "En el orden respectivo, el output es:\n",
    "- Reflectividad ```R``` y Tranmisividad ```T```\n",
    "- coefientes de Fresnel de reflexión ```r``` y transmisión ```t```."
   ]
  },
  {
   "cell_type": "markdown",
   "id": "31f48081",
   "metadata": {},
   "source": [
    "En el siguiente ejemplo analizaremos una interface que separa aire (índice de refracción 1.0) y un metal de Drude con $\\omega_p = 3.1$ eV (aprox 0.4 $\\mu$m), $\\Gamma = 0.01$ eV y $\\varepsilon_\\infty = 1.0$. El ángulo de incidencia es $\\theta_i = 30°$.\n",
    "\n",
    ">Notar que ```n1=1.0``` es un valor ```float``` unidimencional, mientras que ```n2``` es un arreglo en el espectro $\\lambda \\in [0.3,1.0]$ $\\mu$m. En este caso, la función repite ```n1=1.0``` por cada valor espectral de ```n2```. **En el caso que ```n1``` y ```n2``` sean un arreglo, ambos deben tener igual dimención.**"
   ]
  },
  {
   "cell_type": "code",
   "execution_count": 16,
   "id": "8ec25553",
   "metadata": {},
   "outputs": [],
   "source": [
    "R, T = wv.interface(0,1.0,2.0, pol='TM')[:2] # extraer los dos primeros elementos de la función\n",
    "print(R, T)"
   ]
  },
  {
   "cell_type": "code",
   "execution_count": 17,
   "id": "2520f966",
   "metadata": {},
   "outputs": [],
   "source": [
    "theta = np.radians(30)         # Angulo de incidencia (radianes)\n",
    "lam = np.linspace(0.3,1.0,100) # Espectro de longitudes de onda\n",
    "\n",
    "# Modelo de Drude\n",
    "epsinf = 1.0 \n",
    "wp = 2.1      # en eV (aproximadamente 0.4 micrones)\n",
    "gamma = 0.01  # en eV\n",
    "\n",
    "n2 = nk.drude(epsinf,wp,gamma,lam) # índice de refracción\n",
    "n1 = 1.0\n",
    "\n",
    "# Coeficientes de Fresnel y flujo de energia\n",
    "Rp, Tp, rp, tp = wv.interface(theta,n1,n2, pol='TM') # polarizacion TM\n",
    "Rs, Ts, rs, ts = wv.interface(theta,n1,n2, pol='TE') # polarizacion TE"
   ]
  },
  {
   "cell_type": "markdown",
   "id": "07a8b3c9",
   "metadata": {},
   "source": [
    "Abajo graficamos los coeficientes de Fresnel a la izquierda (solo la parte real) y el flujo de energía a la derecha. Notar como la reflectividad aumenta para $\\lambda < 2\\pi c_0/\\omega_p$"
   ]
  },
  {
   "cell_type": "code",
   "execution_count": 18,
   "id": "74ed8981",
   "metadata": {},
   "outputs": [],
   "source": [
    "fig, ax = plt.subplots(1,2)\n",
    "fig.set_size_inches(12,4)\n",
    "ax[0].plot(lam,rs.real, '-r',label = 'r (TE)')\n",
    "ax[0].plot(lam,rp.real,'--r',label = 'r (TM)')\n",
    "ax[0].plot(lam,ts.real, '-b',label = 't (TE)')\n",
    "ax[0].plot(lam,tp.real,'--b',label = 't (TM)')\n",
    "ax[0].set_title('Coeficientes de Fresnel')\n",
    "ax[0].set_xlabel('Longitud de onda ($\\mu$m)')\n",
    "ax[0].set_ylabel('Reflexión / Transmisión')\n",
    "ax[0].legend()\n",
    "\n",
    "ax[1].plot(lam,Rs, '-r',label = 'R (TE)')\n",
    "ax[1].plot(lam,Rp,'--r',label = 'R (TM)')\n",
    "ax[1].plot(lam,Ts, '-b',label = 'T (TE)')\n",
    "ax[1].plot(lam,Tp,'--b',label = 'T (TM)')\n",
    "ax[1].set_title('FLujo de energía')\n",
    "ax[1].set_xlabel('Longitud de onda ($\\mu$m)')\n",
    "ax[1].set_ylabel('Reflectividad / Tranmisividad')\n",
    "ax[1].legend()\n",
    "plt.show()"
   ]
  },
  {
   "cell_type": "markdown",
   "id": "027fc856",
   "metadata": {},
   "source": [
    "### Luz incidente en arreglos multicapas (```multilayer```)\n",
    "Esta función permite determinar los coeficientes de Fresnel y flujo de energía para la onda reflejada y transmitida a través de un arreglo de multicapas. La función toma 5 argumentos: \n",
    "- ```lam```: Espectro de longitudes de onda (en $\\mu$m)\n",
    "- ```tt```: ángulo de incidencia (en radianes)\n",
    "- ```N```: arreglo tuple con índices de refracción de cada capa + medio superior e inferior al arreglo\n",
    "- ```d```: arreglo tuple con espesores de cada capa (en micrones)\n",
    "- ```pol```: Polarización de la onda incidente (```'TM' ``` o ```'TE' ```)\n",
    "\n",
    "La función necesita como mínimo 4 argumentos: ```lam```, ```tt``` ```N``` y ```d```. En ese caso, ```pol= 'TM' ``` por defecto.\n",
    " \n",
    "En el orden respectivo, el output es:\n",
    "- Reflectividad ```R``` y Tranmisividad ```T```\n",
    "- coefientes de Fresnel de reflexión ```r``` y transmisión ```t```."
   ]
  },
  {
   "cell_type": "markdown",
   "id": "5543e4e5",
   "metadata": {},
   "source": [
    "Los elementos de ```N``` y  ```d```, deben estar ordenados según la dirección de la onda incidente. Por ejemplo, si consideramos: \n",
    "- luz incidente ($\\theta_i = 45°$, $\\lambda\\in[0.3,0.8]$ $\\mu$m) \n",
    "- Propagandose en aire ($N_1 = 1.0$),\n",
    "- La luz incide sobre una película de espesor $d = 300$ nm e índice de refracción $N_2 = 1.5$.\n",
    "- La película está depositada sobre un sustrato con índice de refracción $N_3 = 5.0 + 3i$:"
   ]
  },
  {
   "cell_type": "code",
   "execution_count": 19,
   "id": "7490738e",
   "metadata": {},
   "outputs": [],
   "source": [
    "lam = np.linspace(0.3,0.8,100)  # espectro de longitudes de onda (um)\n",
    "theta = np.radians(45)\n",
    "N1 = 1.0 # aire\n",
    "N2 = 1.5 # capa intermedia\n",
    "N3 = 5.0 + 3j\n",
    "\n",
    "N = (N1, N2, N3) # indices de refracción (above, mid, below)\n",
    "d = 0.3          # 300 nm de espesor para capa intermedia\n",
    "\n",
    "Rp, Tp, rp, tp = wv.multilayer(lam,theta, N, d, pol='TM')\n",
    "Rs, Ts, rs, ts = wv.multilayer(lam,theta, N, d, pol='TE')"
   ]
  },
  {
   "cell_type": "markdown",
   "id": "5e8c2722",
   "metadata": {},
   "source": [
    "Notar que ```len(d) = len(N) - 2```, debido a que los índices superior e inferior corresponden a los medios semi-infinitos sobre y bajo la capa. \n",
    "\n",
    "Por ejemplo, si ahora queremos determinar la respuesta óptica de un arreglo de una capa delgada de sílice ($d_1 = 100$ nm) sobre una capa de plata ($d_2 = 10$ nm), sobre un sustrato con índice de refracción $n_{back} = 5.0$ "
   ]
  },
  {
   "cell_type": "code",
   "execution_count": 20,
   "id": "851ed7fb",
   "metadata": {},
   "outputs": [],
   "source": [
    "lam = np.linspace(0.3,0.8,100)  # espectro de longitudes de onda (um)\n",
    "theta = np.radians(45)\n",
    "\n",
    "Nfront = 1.0                 # índice de refracción medio superior\n",
    "N1     = nk.SiO2(lam)        # índice de refracción sílice\n",
    "N2     = nk.silver(lam)      # índice de refracción plata\n",
    "Nback  = 5.0                 # índice de refracción medio inferior\n",
    "N = (Nfront, N1, N2, Nback)  # indices de refracción (above, mid, below)\n",
    "\n",
    "d = (0.100, 0.010) # espesor para sílice y plata (en ese orden)\n",
    "\n",
    "Rp, Tp, rp, tp = wv.multilayer(lam,theta, N, d, pol='TM')\n",
    "Rs, Ts, rs, ts = wv.multilayer(lam,theta, N, d, pol='TE')\n",
    "\n",
    "# Graficamos el flujo de energía\n",
    "plt.plot(lam,Rp,'-r',label='R (TM)')\n",
    "plt.plot(lam,Tp,'-b',label='T (TM)')\n",
    "plt.plot(lam,Rs,'--r',label='R (TE)')\n",
    "plt.plot(lam,Ts,'--b',label='T (TE)')\n",
    "plt.title('aire/sílice/plata/n4=5.0')\n",
    "plt.xlabel('Longitud de onda ($\\mu$m)')\n",
    "plt.ylabel('Refletividad / Transmisividad')\n",
    "plt.ylim(0,1)\n",
    "plt.legend()\n",
    "plt.show()"
   ]
  },
  {
   "cell_type": "markdown",
   "id": "1738d8a5",
   "metadata": {},
   "source": [
    "### Luz incoherente en arreglos multicapas (```incoh_multilayer```)\n",
    "\n",
    "Esta función es similar a ```multilayer``` pero para una fuente de luz incoherente. Considera los mismos 5 argumentos de ```multilayer``` con un argumento adicional ```coh_length``` para condicionar la longitud de coherencia (en $\\mu$m). Por defecto, ```coh_length = 0```\n",
    "\n",
    "Debido a que la función es para luz incoherente, el output es:\n",
    "- Reflectividad ```R``` y Tranmisividad ```T```\n",
    "\n",
    "Por ejemplo, evaluemos el ejemplo de la [clase 2](https://panxopanza.github.io/conversion_solar_termica/2_ondas_EM_en_la_materia/2_ondas_EM_en_la_materia.html#refleccion-y-transmission-en-peliculas-delgadas) ($n_\\mathrm{front}= 1.0$, $n_\\mathrm{layer}= 1.5$, $n_\\mathrm{back} = 4.3$), considerando una capa de espesor $d = 300$ nm, y $\\theta_i = 30°$"
   ]
  },
  {
   "cell_type": "code",
   "execution_count": 21,
   "id": "2a82196a",
   "metadata": {},
   "outputs": [],
   "source": [
    "lam = np.linspace(0.3,0.8,100)  # espectro de longitudes de onda (um)\n",
    "theta = np.radians(30)          # ángulo de incidencia\n",
    "\n",
    "Nfront = 1.0                 # índice de refracción medio superior\n",
    "N1     = 1.5                 # índice de refracción capa delgada\n",
    "Nback  = 4.3                 # índice de refracción medio inferior\n",
    "N = (Nfront, N1, Nback)      # indices de refracción (above, mid, below)\n",
    "\n",
    "d = 0.3                      # espesor capa intermedia (um)\n",
    "\n",
    "Rp_incoh, Tp_incoh = wv.incoh_multilayer(lam,theta, N, d, pol='TM') # caso luz incoherente\n",
    "\n",
    "# Graficamos el flujo de energía\n",
    "plt.plot(lam,Rp_incoh,'--r',label='$R_\\mathrm{TM}$ (incoh)')\n",
    "plt.plot(lam,Tp_incoh,'--b',label='$T_\\mathrm{TM}$ (incoh)')\n",
    "plt.title('arreglo 1.0/1.5/4.3')\n",
    "plt.xlabel('Longitud de onda ($\\mu$m)')\n",
    "plt.ylabel('Refletividad / Transmisividad')\n",
    "plt.ylim(0,1)\n",
    "plt.legend()\n",
    "\n",
    "# comparamos con el caso luz coherente\n",
    "Rp, Tp = wv.multilayer(lam,theta, N, d, pol='TM')[:2]\n",
    "plt.plot(lam,Rp,'-r',label='$R_\\mathrm{TM}$ (coh)')\n",
    "plt.plot(lam,Tp,'-b',label='$T_\\mathrm{TM}$ (coh)')\n",
    "\n",
    "plt.show()"
   ]
  },
  {
   "cell_type": "markdown",
   "id": "766ff4d5",
   "metadata": {},
   "source": [
    "En el límite de solo una interface, ```interface```, ```multilayer``` y ```incoh_multilayer``` entregan el mismo resultado"
   ]
  },
  {
   "cell_type": "code",
   "execution_count": 22,
   "id": "6725579c",
   "metadata": {},
   "outputs": [],
   "source": [
    "lam = 0.5                # longitud de onda en micrones\n",
    "theta = np.radians(30)   # ángulo de incidencia (en radianes)                    \n",
    "\n",
    "N = (1.0, 1.5)  # interface aire/silice\n",
    "d = ()          # sin espesores (solo una interface)\n",
    "\n",
    "print('interface:\\t\\t R = %.3f, T = %.3f' % wv.interface(theta,N[0],N[1])[:2])\n",
    "print('multilayer:\\t\\t R = %.3f, T = %.3f' % wv.multilayer(lam,theta,N,d)[:2])\n",
    "print('incoh_multilayer:\\t R = %.3f, T = %.3f' % wv.incoh_multilayer(lam,theta,N,d))"
   ]
  },
  {
   "cell_type": "markdown",
   "id": "9bee299e",
   "metadata": {},
   "source": [
    "## Scattering de mie (```miescattering```)"
   ]
  },
  {
   "cell_type": "code",
   "execution_count": 23,
   "id": "97dd9ddd",
   "metadata": {},
   "outputs": [],
   "source": [
    "import empylib.miescattering as mie"
   ]
  },
  {
   "cell_type": "markdown",
   "id": "d8fd6dcb",
   "metadata": {},
   "source": [
    "En esta librería, la función principal es ```scatter_efficiency```, que permite determinar las secciones transversales de scattering, absorción y extinción para una partícula esférica de diámetro $D$.\n",
    "\n",
    "Los pámetros de entrada son:\n",
    "- ```lam```: Espectro de longitudes de onda (en $\\mu$m)\n",
    "- ```Nh```: Índice de refracción del medio circundante\n",
    "- ```Np```: Índice de refracción de la partícula\n",
    "- ```D```: Diámetro de la partícula (en $\\mu$m)\n",
    "\n",
    "Los parámetros de salida son\n",
    "- ```Qext```: coeficiente de extinción ($C_\\mathrm{ext}/\\pi R^2$)\n",
    "- ```Qsca```: coeficiente de scattering ($C_\\mathrm{sca}/\\pi R^2$)\n",
    "- ```gcos```: parámetro de asimetría\n",
    "\n",
    "Los coeficientes de extinción ($Q_\\mathrm{ext}$) y scattering ($Q_\\mathrm{sca}$) se relacionan con las respectivas secciones transversales por $C_\\mathrm{ext} = Q_\\mathrm{ext}A_c$, $C_\\mathrm{sca} = Q_\\mathrm{sca}A_c$, donde $A_c = \\pi D^2/4$ es la sección transversal de la esfera.\n",
    "\n",
    "La sección transversal de absorción ($C_\\mathrm{abs}$), se determina por $C_\\mathrm{abs} = C_\\mathrm{ext} - C_\\mathrm{sca}$"
   ]
  },
  {
   "cell_type": "markdown",
   "id": "0241b6f1",
   "metadata": {},
   "source": [
    "En el ejemplo de abajo, calculamos la $C_\\mathrm{abs}$, $C_\\mathrm{sca}$ y $C_\\mathrm{ext}$ para una partícula de oro de $D = 100$ nm de diámetro, alojada de sílice. El espectro considerado es $\\lambda\\in[0.3,1.0]$ $\\mu$m"
   ]
  },
  {
   "cell_type": "code",
   "execution_count": 24,
   "id": "1bf23848",
   "metadata": {},
   "outputs": [],
   "source": [
    "lam = np.linspace(0.3,1.0,100) #espectro de longitudes de onda (arreglo de 100 puntos entre 0.3 y 1.0 micrones)\n",
    "Nh = nk.SiO2(lam) # índice de refracción medio circundante\n",
    "Np = nk.gold(lam) # índice de refracción partícula\n",
    "D = 0.100         # diámetro de la partícula (micrones)\n",
    "\n",
    "# determinamos parámetros de eficiencia\n",
    "qext, qsca = mie.scatter_efficiency(lam,Nh,Np,D)[:2]\n",
    "\n",
    "# convertimos los resultados a secciones transversales\n",
    "Ac = np.pi*D**2/4 # sección transversal de la partícula\n",
    "Csca = qsca*Ac\n",
    "Cext = qext*Ac\n",
    "Cabs = Cext - Csca\n",
    "\n",
    "# graficamos los resultados\n",
    "plt.plot(lam,Csca,'-r',label='$C_\\mathrm{sca}$')\n",
    "plt.plot(lam,Cabs,'-b',label='$C_\\mathrm{abs}$')\n",
    "plt.plot(lam,Cext,'-k',label='$C_\\mathrm{ext}$')\n",
    "plt.xlabel('Longitud de onda ($\\mu$m)')\n",
    "plt.ylabel('Sección transversal ($\\mu$m$^2$)')\n",
    "plt.title('Scattering EM partícula de oro en sílice')\n",
    "plt.legend()\n",
    "plt.show()"
   ]
  },
  {
   "cell_type": "markdown",
   "id": "2a13076a",
   "metadata": {},
   "source": [
    "## Transporte Radiativo (```rad_transfer```)"
   ]
  },
  {
   "cell_type": "code",
   "execution_count": null,
   "id": "439ba9c2",
   "metadata": {},
   "outputs": [],
   "source": [
    "import empylib.rad_transfer as rt"
   ]
  },
  {
   "cell_type": "markdown",
   "id": "f2ca9f75",
   "metadata": {},
   "source": [
    "Para transporte radiativo tenemos dos librerías:\n",
    "- ```rad_transfer``` con funciones para cálculos simples (como Beer-Lambert)\n",
    "- ```iadpython``` para simulaciones de scattering multiple\n",
    "\n",
    "### Beer-Lambert (```T_beer_lambert```)\n",
    "La función ```T_beer_lambert``` de la librería ```empylib.rad_transfer``` permite un rápido cálculo de la transmisivitidad a través de un medio de espesor $d$ con incrustaciones.\n",
    "\n",
    "La función requiere los siguientes parámetros de entrada:\n",
    "- ```lam```: Espectro de longitudes de onda (en $\\mu$m)\n",
    "- ```theta```: Ángulo de incidencia (en radianes)\n",
    "- ```tfilm```: Espesor del material (en mm)\n",
    "- ```N```: Índice de refracción del medio superior, material intermedio, y medio inferior (arreglo tuple ```len(N) = 3```)\n",
    "- ```fv```: Fracción de volumen de las incrustaciones (0.01 corresponde a 1% v/v) \n",
    "- ```D```: Diámetro de la partícula (en $\\mu$m)\n",
    "- ```Np```: Índice de refracción de las partículas (se debe cumplir la condición: ```len(Np) = len(lam)```)\n",
    "\n",
    "Los parámetros de salida son:\n",
    "- ```Tspec```: Transmisividad especular\n",
    "- ```Ttot``` : Transmisividad total\n",
    "- ```Rtot``` : Reflectividad total"
   ]
  },
  {
   "cell_type": "markdown",
   "id": "35a31193",
   "metadata": {},
   "source": [
    "En el siguiente ejemplo, consideramos una película de sílice de espesor $1.0$ mm, con porosidad de 0.01% donde los poros tienen un de diámetro $D = 200$ $\\mu$m ($N_{poro} = 1.0$). Los medios superior e inferior corresponden a aire. La luz incide en dirección $\\theta_i = 0°$."
   ]
  },
  {
   "cell_type": "code",
   "execution_count": null,
   "id": "0002418c",
   "metadata": {},
   "outputs": [],
   "source": [
    "lam = np.linspace(0.3,1.0,100)  # espectro de longitudes de onda (en micrones)\n",
    "theta = np.radians(0)           # 30 grados en radianes\n",
    "tfilm = 1.0                     # espesor en mm\n",
    "N = (1.0,nk.SiO2(lam),1.0)      # indice de refracción superior, intermedio e inferior\n",
    "fv = 0.0001                     # fracción de volúmen de los poros\n",
    "D = 0.2                         # diámetro de los poros (micrones)\n",
    "Np = 1.0                        # índice de refracción de las incrustaciones\n",
    "\n",
    "Ttot, Tspec, Rtot = rt.T_beer_lambert(lam,theta,tfilm,N,fv,D,Np)\n",
    "\n",
    "plt.plot(lam,Tspec,'--k',label = 'Tspec')\n",
    "plt.plot(lam,Ttot,'-k',label = 'Ttot')\n",
    "plt.xlabel('Longitud de onda ($\\mu$m)')\n",
    "plt.ylabel('Transmisividad')\n",
    "plt.title(r'Sílice poroso (fv = 0.01% v/v)')\n",
    "plt.legend()\n",
    "plt.ylim(0,1)\n",
    "plt.show()"
   ]
  },
  {
   "cell_type": "markdown",
   "id": "6fd5567b",
   "metadata": {},
   "source": [
    "### Scattering multiple (```adm_sphere```)\n",
    "\n",
    "La función ```adm_sphere``` de la librería ```empylib.rad_transfer``` permite el cálculo de scattering múltiple en una película con incrustaciones entre dos medios semi-infinitos. La función utliza la librería ```iadpython``` la cual utiliza el ***adding doubling method (adm)*** para resolver la RTE numéricamente. \n",
    "\n",
    "La función requiere los siguientes parámetros de entrada:\n",
    "- ```lam```: Espectro de longitudes de onda (en $\\mu$m)\n",
    "- ```theta```: Ángulo de incidencia (en radianes)\n",
    "- ```tfilm```: Espesor del material (en mm)\n",
    "- ```N```: Índice de refracción del medio superior, material intermedio, y medio inferior (arreglo tuple ```len(N) = 3```)\n",
    "- ```fv```: Fracción de volumen de las incrustaciones (0.01 corresponde a 1% v/v) \n",
    "- ```D```: Diámetro de la partícula (en $\\mu$m)\n",
    "- ```Np```: Índice de refracción de las partículas (se debe cumplir la condición: ```len(Np) = len(lam)```)\n",
    "\n",
    "Los parámetros de salida son:\n",
    "- ```Rtot```: Reflectividad total\n",
    "- ```Ttot```: Transmisividad total\n",
    "\n",
    "En el ejemplo, se modela un sílice poroso con las siguientes características:\n",
    "- Espesor de 10 cm (```tfilm = 100```, unidades en mm)\n",
    "- porosidad 60%\n",
    "- Tamaño de poro $1.0$ $\\mu$m\n",
    "- Espectro $\\lambda\\in[0.3,1.0]$ $\\mu$m"
   ]
  },
  {
   "cell_type": "code",
   "execution_count": null,
   "id": "1c8c4f32",
   "metadata": {},
   "outputs": [],
   "source": [
    "lam = np.linspace(0.3,1.0,100) # espectro de longitudes de onda\n",
    "tfilm = 100                    # espesor en mm\n",
    "N = (1.0,nk.SiO2(lam),1.0)     # indice de refracción superior, intermedio e inferior\n",
    "fv = 0.6                       # fracción de volúmen de los poros\n",
    "D = 1.0                        # diámetro de los poros (micrones)\n",
    "Np = 1.0                       # índice de refracción partícula\n",
    "\n",
    "Rtot, Ttot = rt.adm_sphere(lam,tfilm,N,fv,D,Np)\n",
    "\n",
    "plt.plot(lam,Rtot,'-r',label='R')\n",
    "plt.plot(lam,Ttot,'-b',label='T')\n",
    "plt.xlabel('Longitud de onda ($\\mu$m)')\n",
    "plt.ylabel('Reflectividad / Transmisividad')\n",
    "plt.title(r'Sílice poroso (fv = 60% v/v)')\n",
    "plt.legend()\n",
    "plt.ylim(0,1)\n",
    "plt.show()"
   ]
  }
 ],
 "metadata": {
  "kernelspec": {
   "display_name": "Python 3 (ipykernel)",
   "language": "python",
   "name": "python3"
  },
  "language_info": {
   "codemirror_mode": {
    "name": "ipython",
    "version": 3
   },
   "file_extension": ".py",
   "mimetype": "text/x-python",
   "name": "python",
   "nbconvert_exporter": "python",
   "pygments_lexer": "ipython3",
   "version": "3.10.11"
  },
  "latex_envs": {
   "LaTeX_envs_menu_present": false,
   "autoclose": false,
   "autocomplete": false,
   "bibliofile": "biblio.bib",
   "cite_by": "apalike",
   "current_citInitial": 1,
   "eqLabelWithNumbers": true,
   "eqNumInitial": 1,
   "hotkeys": {
    "equation": "Ctrl-E",
    "itemize": "Ctrl-I"
   },
   "labels_anchors": false,
   "latex_user_defs": false,
   "report_style_numbering": false,
   "user_envs_cfg": false
  },
  "toc": {
   "base_numbering": 1,
   "nav_menu": {},
   "number_sections": true,
   "sideBar": true,
   "skip_h1_title": true,
   "title_cell": "Contenidos",
   "title_sidebar": "Contenidos",
   "toc_cell": false,
   "toc_position": {
    "height": "calc(100% - 180px)",
    "left": "10px",
    "top": "150px",
    "width": "303.837px"
   },
   "toc_section_display": true,
   "toc_window_display": false
  },
  "varInspector": {
   "cols": {
    "lenName": 16,
    "lenType": 16,
    "lenVar": 40
   },
   "kernels_config": {
    "python": {
     "delete_cmd_postfix": "",
     "delete_cmd_prefix": "del ",
     "library": "var_list.py",
     "varRefreshCmd": "print(var_dic_list())"
    },
    "r": {
     "delete_cmd_postfix": ") ",
     "delete_cmd_prefix": "rm(",
     "library": "var_list.r",
     "varRefreshCmd": "cat(var_dic_list()) "
    }
   },
   "types_to_exclude": [
    "module",
    "function",
    "builtin_function_or_method",
    "instance",
    "_Feature"
   ],
   "window_display": false
  }
 },
 "nbformat": 4,
 "nbformat_minor": 5
}
