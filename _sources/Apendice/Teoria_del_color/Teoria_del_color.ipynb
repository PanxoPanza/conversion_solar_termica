{
 "cells": [
  {
   "cell_type": "markdown",
   "id": "062b856b",
   "metadata": {
    "slideshow": {
     "slide_type": "slide"
    }
   },
   "source": [
    "# Teoria del color"
   ]
  },
  {
   "cell_type": "markdown",
   "id": "f9292ad4",
   "metadata": {
    "slideshow": {
     "slide_type": "slide"
    }
   },
   "source": [
    "## Introducción"
   ]
  },
  {
   "cell_type": "markdown",
   "id": "eb98c9d6",
   "metadata": {
    "slideshow": {
     "slide_type": "fragment"
    }
   },
   "source": [
    "Para nuestros ojos, una fuente de luz tiene coloración blanca cuando la intensidad de cada frecuencia del espectro visible es, aproximadamente, constante."
   ]
  },
  {
   "cell_type": "markdown",
   "id": "09b3f12d",
   "metadata": {
    "slideshow": {
     "slide_type": "fragment"
    }
   },
   "source": [
    "El mejor ejemplo es el sol.\n",
    "<img src=\"./images/solar_spectrum.jpg\" width=\"500px\" align= center>"
   ]
  },
  {
   "cell_type": "markdown",
   "id": "89e05492",
   "metadata": {
    "slideshow": {
     "slide_type": "slide"
    }
   },
   "source": [
    "## Espacio de colores CIE RGB"
   ]
  },
  {
   "cell_type": "markdown",
   "id": "dd70b192",
   "metadata": {
    "slideshow": {
     "slide_type": "fragment"
    }
   },
   "source": [
    "Los colores aparecen cuando el espectro de la fuente no está ditribuido de forma uniforme. Nuestros ojos, encargados de intrepretar este espectro como color, poseen *células fotoreceptoras o conos celulares* sensibles a los colores: <font color='red'>rojo (R)</font>, <font color='green'>verde (G)</font> y <font color='blue'>azul (B)</font>"
   ]
  },
  {
   "cell_type": "markdown",
   "id": "97e95fb9",
   "metadata": {
    "slideshow": {
     "slide_type": "fragment"
    }
   },
   "source": [
    "Matemáticamente, existen diversas formas de transformar un espectro, $I_\\mathrm{spec}(\\lambda)$, a **código de colores RGB**. En este curso, usamos el módulo `ref_spectra.color_system` de la librería `empylib`, el cual está basado en [Comisión internacional de la iluminación (CIE)](https://es.wikipedia.org/wiki/Espacio_de_color_CIE_1931)"
   ]
  },
  {
   "cell_type": "markdown",
   "id": "dba0bbd8",
   "metadata": {
    "slideshow": {
     "slide_type": "fragment"
    }
   },
   "source": [
    "En términos simples, el procedimiento consiste en determinar los **valores triestímulo $X$, $Y$ y $Z$** a partir de las **funciones de combinación de colores $\\bar{x}(\\lambda)$, $\\bar{y}(\\lambda)$ y $\\bar{z}(\\lambda)$,** que representan la precepción visual humana de forma numérica:\n",
    "\n",
    "\\begin{equation*}\n",
    "X = \\int_{0}^\\infty I_\\mathrm{spec}(\\lambda)\\bar{x}(\\lambda) d\\lambda,\\quad\\quad\n",
    "Y = \\int_{0}^\\infty I_\\mathrm{spec}(\\lambda)\\bar{y}(\\lambda) d\\lambda,\\quad\\quad\n",
    "Z = \\int_{0}^\\infty I_\\mathrm{spec}(\\lambda)\\bar{z}(\\lambda) d\\lambda,\n",
    "\\end{equation*}"
   ]
  },
  {
   "cell_type": "markdown",
   "id": "e45cb938",
   "metadata": {
    "slideshow": {
     "slide_type": "slide"
    }
   },
   "source": [
    "Analicemos el comportamiento de las funciones de combinación de colores."
   ]
  },
  {
   "cell_type": "code",
   "execution_count": 1,
   "id": "d10b5c36",
   "metadata": {
    "cell_style": "center",
    "tags": [
     "hide-input"
    ]
   },
   "outputs": [
    {
     "data": {
      "image/png": "[encoded data removed]",
      "text/plain": [
       "<Figure size 432x288 with 1 Axes>"
      ]
     },
     "metadata": {
      "needs_background": "light"
     },
     "output_type": "display_data"
    }
   ],
   "source": [
    "import matplotlib.pyplot as plt\n",
    "\n",
    "# librería para transformación de espectro a código RGB\n",
    "from empylib.ref_spectra import color_system as cs\n",
    "cs = cs.srgb\n",
    "\n",
    "# formateamos el lienzo de la figura\n",
    "fig, ax = plt.subplots()\n",
    "fig.set_size_inches(6, 4)\n",
    "plt.rcParams['font.size'] = '14'\n",
    "\n",
    "# Graficamos cada curva del estandar CIE XYZ\n",
    "plt.fill(cs.lam_cmf,cs.cmf[:,0],color='red'  ,alpha=0.5,edgecolor=None,label='$\\overline{x}~(\\lambda)$')\n",
    "plt.fill(cs.lam_cmf,cs.cmf[:,1],color='green',alpha=0.5,edgecolor=None,label='$\\overline{y}~(\\lambda)$')\n",
    "plt.fill(cs.lam_cmf,cs.cmf[:,2],color='blue' ,alpha=0.5,edgecolor=None,label='$\\overline{z}~(\\lambda)$')\n",
    "\n",
    "# Ajustamos formato de ejes\n",
    "plt.ylim(0,2)\n",
    "plt.tick_params(left = False,labelleft = False)\n",
    "plt.xlabel('Longitud de onda ($\\mu$m)')\n",
    "plt.legend();"
   ]
  },
  {
   "cell_type": "markdown",
   "id": "411f3a24",
   "metadata": {
    "slideshow": {
     "slide_type": "slide"
    }
   },
   "source": [
    "Posterior a esto, el código de colores $\\mathrm{RGB}$ se determina a partir del sistema:\n",
    "\n",
    "\\begin{equation*}\n",
    "\\begin{bmatrix}\n",
    "0.187 & 0.063 & 0.064 \\\\\n",
    "0.092 & 0.212 & 0.025 \\\\\n",
    "0     & 0.024 & 0.334 \\\\\n",
    "\\end{bmatrix}\\left[\\begin{array}{c} \\mathrm{R} \\\\\\mathrm{G} \\\\\\mathrm{B} \\end{array}\\right] =\n",
    "\\left[\\begin{array}{c} x \\\\y \\\\z\\end{array}\\right]\n",
    "\\end{equation*}"
   ]
  },
  {
   "cell_type": "markdown",
   "id": "df1ee659",
   "metadata": {
    "slideshow": {
     "slide_type": "fragment"
    }
   },
   "source": [
    "donde $xyz$ están dados por:\n",
    "\n",
    "\\begin{equation*}\n",
    "x = \\frac{X}{X+Y+Z},\\quad\\quad\\quad y = \\frac{Y}{X+Y+Z},\\quad\\quad\\quad z = \\frac{Z}{X+Y+Z},\n",
    "\\end{equation*}"
   ]
  },
  {
   "cell_type": "markdown",
   "id": "f5c25230",
   "metadata": {
    "slideshow": {
     "slide_type": "slide"
    }
   },
   "source": [
    "## Modelos de colores\n"
   ]
  },
  {
   "cell_type": "markdown",
   "id": "c95eb815",
   "metadata": {
    "slideshow": {
     "slide_type": "fragment"
    }
   },
   "source": [
    "### Coloración aditiva\n",
    "Es un modelo que explica la obtención de un color a partir de la suma de los componentes primarios, comúnmente, rojo, verde y azul. La coloración aditiva es el método utilizado en monitores electrónicos, como LCD, LED, oLED, etc."
   ]
  },
  {
   "cell_type": "markdown",
   "id": "a31b72fe",
   "metadata": {
    "slideshow": {
     "slide_type": "fragment"
    }
   },
   "source": [
    "<img src=\"./images/additive_colors.jpg\" width=\"700px\" align= center>"
   ]
  },
  {
   "cell_type": "markdown",
   "id": "e59ea155",
   "metadata": {
    "slideshow": {
     "slide_type": "slide"
    }
   },
   "source": [
    "Analicemos el siguiente modelo de colores aditivos."
   ]
  },
  {
   "cell_type": "code",
   "execution_count": 2,
   "id": "fae750d9",
   "metadata": {
    "cell_style": "split",
    "slideshow": {
     "slide_type": "fragment"
    },
    "tags": [
     "hide-input"
    ]
   },
   "outputs": [],
   "source": [
    "# importamos librerías necesarias\n",
    "import empylib as em\n",
    "import empylib.nklib as nk\n",
    "import empylib.ref_spectra as rf\n",
    "import empylib.waveoptics as wv\n",
    "import matplotlib.pyplot as plt\n",
    "import numpy as np\n",
    "\n",
    "def plot_additive_color(R,G,B):\n",
    "    # lienzo para la figura\n",
    "    fig, ax = plt.subplots()          \n",
    "    fig.set_size_inches(6, 4)         # Tamaño del gráfico\n",
    "    plt.rcParams['font.size'] = '14'  # tamaño de  fuente\n",
    "\n",
    "    # Espectro de longitudes de onda entre 300 y 800 nm\n",
    "    lam = np.linspace(0.3,0.8,500)\n",
    "\n",
    "    # Generamos un material con emisividad en rojo, verde y azul\n",
    "    wn = em.convert_units(np.array([450, 520, 630]),'nm','eV')\n",
    "    wp = [B*0.02,G*0.02,R*0.02]  # Frecuencia wp (eV)\n",
    "    T  = 0.05    # Taza de decaimiento (eV)\n",
    "\n",
    "    eps_mat = complex(1,0)\n",
    "    for i in range(len(wn)):\n",
    "        # constante dieléctrica según modelo de Lorentz\n",
    "        eps_mat = eps_mat + (nk.lorentz(0,wp[i],wn[i],T,lam))**2\n",
    "\n",
    "    N_mat = np.sqrt(eps_mat)\n",
    "\n",
    "    Rw, Tw = wv.incoh_multilayer(lam,0, (1.0,N_mat,1.0), 200)\n",
    "    Ew = 1 - Rw - Tw;\n",
    "\n",
    "    # Graficamos el espectro de emisión\n",
    "    ax.plot(lam*1E3,Ew*100)\n",
    "    ax.set_ylabel('Emisividad (%)')\n",
    "    ax.set_xlabel('Longitud de onda ($\\mu$m)')\n",
    "    ax.set_ylim(0,100)\n",
    "\n",
    "    # interpretacion de colores\n",
    "    Dcircle = 0.30\n",
    "    ax2 = fig.add_axes([0.63,0.55, Dcircle, Dcircle])\n",
    "    html_rgb = cs.spec_to_rgb(Ew*rf.AM15(lam),lam, out_fmt='html')\n",
    "    Circle = plt.Circle((0, 0), Dcircle, color=html_rgb)\n",
    "    ax2.add_patch(Circle)\n",
    "    ax2.set_aspect('equal')\n",
    "    ax2.set_xlim(-Dcircle*1.2,Dcircle*1.2)\n",
    "    ax2.set_ylim(-Dcircle*1.2,Dcircle*1.2)\n",
    "    ax2.set_xticks([])\n",
    "    ax2.set_yticks([])\n",
    "    ax2.set_facecolor('k');"
   ]
  },
  {
   "cell_type": "code",
   "execution_count": 3,
   "id": "9c8baf14",
   "metadata": {
    "cell_style": "split",
    "tags": [
     "hide-input"
    ]
   },
   "outputs": [
    {
     "data": {
      "application/vnd.jupyter.widget-view+json": {
       "model_id": "0a887eb5907e491ba42cb26bdf7e0dea",
       "version_major": 2,
       "version_minor": 0
      },
      "text/plain": [
       "interactive(children=(FloatSlider(value=1.0, description='R', max=1.0), FloatSlider(value=1.0, description='G'…"
      ]
     },
     "metadata": {},
     "output_type": "display_data"
    }
   ],
   "source": [
    "from ipywidgets import interact\n",
    "\n",
    "@interact(R=(0,1,0.1), G=(0,1,0.1), B=(0,1,0.1))\n",
    "def g(R = 1, G = 1, B = 1):\n",
    "    return plot_additive_color(R,G,B)"
   ]
  },
  {
   "cell_type": "markdown",
   "id": "ef5c2184",
   "metadata": {
    "slideshow": {
     "slide_type": "slide"
    }
   },
   "source": [
    "### Coloración sustractiva\n",
    "Se basa en la formación de colores a partir de la sustracción de colores primarios. Comúnmente, se utilizan los colores amarillo, cian y magenta."
   ]
  },
  {
   "cell_type": "markdown",
   "id": "bfe5809a",
   "metadata": {
    "slideshow": {
     "slide_type": "fragment"
    }
   },
   "source": [
    "El modelo, explica la coloración de muchas frutas, verduras y plantas. Además, es la técnica utilizada en impresión a color, fotografía y cinematografía.\n",
    "\n",
    "<img src=\"./images/substractive_colors.png\" width=\"700px\" align= center>"
   ]
  },
  {
   "cell_type": "markdown",
   "id": "01e2ccda",
   "metadata": {
    "slideshow": {
     "slide_type": "slide"
    }
   },
   "source": [
    "El siguiente modelo explica el concepto de coloración sustractiva"
   ]
  },
  {
   "cell_type": "code",
   "execution_count": 4,
   "id": "e19abd25",
   "metadata": {
    "cell_style": "split",
    "slideshow": {
     "slide_type": "fragment"
    },
    "tags": [
     "hide-input"
    ]
   },
   "outputs": [],
   "source": [
    "# importamos librerías necesarias\n",
    "import empylib as em\n",
    "import empylib.nklib as nk\n",
    "import empylib.ref_spectra as rf\n",
    "import empylib.waveoptics as wv\n",
    "import matplotlib.pyplot as plt\n",
    "import numpy as np\n",
    "\n",
    "def plot_substractive_color(R,G,B):\n",
    "    # lienzo para la figura\n",
    "    fig, ax = plt.subplots()          \n",
    "    fig.set_size_inches(6, 4)         # Tamaño del gráfico\n",
    "    plt.rcParams['font.size'] = '14'  # tamaño de  fuente\n",
    "\n",
    "    # Espectro de longitudes de onda entre 300 y 800 nm\n",
    "    lam = np.linspace(0.3,0.8,500)\n",
    "\n",
    "    # Generamos un material con emisividad en rojo, verde y azul\n",
    "    wn = em.convert_units(np.array([450, 520, 630]),'nm','eV')\n",
    "    wp = [B*0.02,G*0.02,R*0.02]  # Frecuencia wp (eV)\n",
    "    T  = 0.05    # Taza de decaimiento (eV)\n",
    "\n",
    "    eps_mat = complex(1,0)\n",
    "    for i in range(len(wn)):\n",
    "        # constante dieléctrica según modelo de Lorentz\n",
    "        eps_mat = eps_mat + (nk.lorentz(0,wp[i],wn[i],T,lam))**2\n",
    "\n",
    "    N_mat = np.sqrt(eps_mat)\n",
    "\n",
    "    Rw, Tw = wv.incoh_multilayer(lam,0, (1.0,N_mat,1.0), 200)\n",
    "    Ew = 1 - Rw - Tw\n",
    "    Rw = (1 - Ew)\n",
    "\n",
    "    # Graficamos el espectro de emisión\n",
    "    ax.plot(lam*1E3,(1 - Ew)*100)\n",
    "    ax.set_ylabel('Reflectancia (%)')\n",
    "    ax.set_xlabel('Longitud de onda ($\\mu$m)')\n",
    "    ax.set_ylim(0,100)\n",
    "\n",
    "    # interpretacion de colores\n",
    "    Dcircle = 0.30\n",
    "    ax2 = fig.add_axes([0.63,0.55, Dcircle, Dcircle])\n",
    "    html_rgb = cs.spec_to_rgb(Rw*rf.AM15(lam),lam, out_fmt='html')\n",
    "    Circle = plt.Circle((0, 0), Dcircle, color=html_rgb)\n",
    "    ax2.add_patch(Circle)\n",
    "    ax2.set_aspect('equal')\n",
    "    ax2.set_xlim(-Dcircle*1.2,Dcircle*1.2)\n",
    "    ax2.set_ylim(-Dcircle*1.2,Dcircle*1.2)\n",
    "    ax2.set_xticks([])\n",
    "    ax2.set_yticks([])\n",
    "    ax2.set_facecolor('k');"
   ]
  },
  {
   "cell_type": "code",
   "execution_count": 5,
   "id": "cea13ba8",
   "metadata": {
    "cell_style": "split",
    "scrolled": true,
    "tags": [
     "hide-input"
    ]
   },
   "outputs": [
    {
     "data": {
      "application/vnd.jupyter.widget-view+json": {
       "model_id": "f857283ca29b45ffb9c99be43fa481f1",
       "version_major": 2,
       "version_minor": 0
      },
      "text/plain": [
       "interactive(children=(FloatSlider(value=1.0, description='R', max=1.0), FloatSlider(value=0.0, description='G'…"
      ]
     },
     "metadata": {},
     "output_type": "display_data"
    }
   ],
   "source": [
    "from ipywidgets import interact\n",
    "\n",
    "@interact(R=(0,1,0.1), G=(0,1,0.1), B=(0,1,0.1))\n",
    "def g(R = 1, G = 0, B = 0):\n",
    "    return plot_substractive_color(R,G,B)"
   ]
  },
  {
   "cell_type": "markdown",
   "id": "17c1dc23",
   "metadata": {
    "slideshow": {
     "slide_type": "slide"
    }
   },
   "source": [
    "## Referencias\n",
    "**Hetch E., *Óptica*, 5ta Ed, Pearson, 2017**\n",
    "- Capítulo 4.9: Aspectos conocidos de la interacción de la luz y la materia"
   ]
  }
 ],
 "metadata": {
  "celltoolbar": "Slideshow",
  "kernelspec": {
   "display_name": "Python 3 (ipykernel)",
   "language": "python",
   "name": "python3"
  },
  "language_info": {
   "codemirror_mode": {
    "name": "ipython",
    "version": 3
   },
   "file_extension": ".py",
   "mimetype": "text/x-python",
   "name": "python",
   "nbconvert_exporter": "python",
   "pygments_lexer": "ipython3",
   "version": "3.9.13"
  },
  "latex_envs": {
   "LaTeX_envs_menu_present": true,
   "autoclose": false,
   "autocomplete": false,
   "bibliofile": "biblio.bib",
   "cite_by": "apalike",
   "current_citInitial": 1,
   "eqLabelWithNumbers": true,
   "eqNumInitial": 1,
   "hotkeys": {
    "equation": "Ctrl-E",
    "itemize": "Ctrl-I"
   },
   "labels_anchors": false,
   "latex_user_defs": false,
   "report_style_numbering": false,
   "user_envs_cfg": true
  },
  "toc": {
   "base_numbering": 1,
   "nav_menu": {},
   "number_sections": true,
   "sideBar": true,
   "skip_h1_title": true,
   "title_cell": "Tabla de contenidos",
   "title_sidebar": "Contenidos",
   "toc_cell": false,
   "toc_position": {
    "height": "calc(100% - 180px)",
    "left": "10px",
    "top": "150px",
    "width": "307.2px"
   },
   "toc_section_display": true,
   "toc_window_display": false
  },
  "varInspector": {
   "cols": {
    "lenName": 16,
    "lenType": 16,
    "lenVar": 40
   },
   "kernels_config": {
    "python": {
     "delete_cmd_postfix": "",
     "delete_cmd_prefix": "del ",
     "library": "var_list.py",
     "varRefreshCmd": "print(var_dic_list())"
    },
    "r": {
     "delete_cmd_postfix": ") ",
     "delete_cmd_prefix": "rm(",
     "library": "var_list.r",
     "varRefreshCmd": "cat(var_dic_list()) "
    }
   },
   "types_to_exclude": [
    "module",
    "function",
    "builtin_function_or_method",
    "instance",
    "_Feature"
   ],
   "window_display": false
  }
 },
 "nbformat": 4,
 "nbformat_minor": 5
}
