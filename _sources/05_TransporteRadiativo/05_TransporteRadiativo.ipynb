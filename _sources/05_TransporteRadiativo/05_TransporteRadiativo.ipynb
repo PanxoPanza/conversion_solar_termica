{
 "cells": [
  {
   "cell_type": "code",
   "execution_count": 1,
   "id": "3c597da7",
   "metadata": {
    "slideshow": {
     "slide_type": "skip"
    },
    "tags": [
     "remove-cell"
    ]
   },
   "outputs": [],
   "source": [
    "import importlib.util\n",
    "if importlib.util.find_spec('empylib') is None:\n",
    "    !pip install git+https://github.com/PanxoPanza/empylib.git"
   ]
  },
  {
   "cell_type": "markdown",
   "id": "8b01ca79",
   "metadata": {
    "slideshow": {
     "slide_type": "slide"
    }
   },
   "source": [
    "# Transporte Radiativo"
   ]
  },
  {
   "cell_type": "markdown",
   "id": "580ab8db",
   "metadata": {
    "slideshow": {
     "slide_type": "slide"
    }
   },
   "source": [
    "## Introducción"
   ]
  },
  {
   "cell_type": "markdown",
   "id": "dadf38f1",
   "metadata": {
    "slideshow": {
     "slide_type": "fragment"
    }
   },
   "source": [
    "En la [unidad 2](../02_ondas_EM_en_la_materia/02_ondas_EM_en_la_materia.ipynb) revisamos el efecto de interferencia en películas de espesor finito, y como está daba lugar a la coloración tornasol caractéristica en derrames de aceites en agua, lentes y discos compactos.\n",
    "\n",
    "<img src=\"./images/interference_oils.png\" width=\"700px\" align= center>"
   ]
  },
  {
   "cell_type": "markdown",
   "id": "d2dc01e9",
   "metadata": {
    "slideshow": {
     "slide_type": "fragment"
    }
   },
   "source": [
    "Si, teóricamente, el efecto de interferencia ocurre cada vez que tenemos un tercer material intercalado entre dos materiales (iguales o diferentes). **¿Porqué no visualizamos este efecto en ventanas u otros materiales de gran espesor?**"
   ]
  },
  {
   "cell_type": "markdown",
   "id": "9ff4cae4",
   "metadata": {
    "slideshow": {
     "slide_type": "slide"
    }
   },
   "source": [
    "## Coherencia de la luz e interferencia\n",
    "\n",
    "Para entender esto, primero debemos revisar la distribución espectral de fuentes reales de luz\n",
    "\n",
    "<img src=\"./images/light_source_spectra.png\" width=\"800px\" align= center>"
   ]
  },
  {
   "cell_type": "markdown",
   "id": "16081fa2",
   "metadata": {
    "slideshow": {
     "slide_type": "fragment"
    }
   },
   "source": [
    "Como vemos, una fuente emite luz en varias longitudes de onda y a distinta intensidad. Así, las ondas emitidas se superponen, generando una onda resultante con una forma distinta a $e^{i(\\vec{k}\\cdot\\vec{r} -\\omega t)}$."
   ]
  },
  {
   "cell_type": "markdown",
   "id": "b54cf722",
   "metadata": {
    "slideshow": {
     "slide_type": "slide"
    }
   },
   "source": [
    "Consideremos, por ejemplo, una fuente de luz con una distribución espectral normal, centrada en $\\lambda_0$ y con una desviación estandar $\\pm\\sigma_\\lambda\\lambda_0$, con $\\sigma_\\lambda \\in [0,1]$. Imaginemos esta fuente como $N$ emisores, donde cada emisor $j$ emite una onda electromagnéticas con longitud de onda $\\lambda \\pm\\Delta \\lambda_j$, donde $\\Delta \\lambda_j$ es escogido aleatoriamente a partir de la distribución normal."
   ]
  },
  {
   "cell_type": "markdown",
   "id": "31f81723",
   "metadata": {
    "cell_style": "split",
    "slideshow": {
     "slide_type": "fragment"
    }
   },
   "source": [
    "<img src=\"./images/normal_distribution.png\" width=\"400px\" align= center>"
   ]
  },
  {
   "cell_type": "markdown",
   "id": "76d68ef4",
   "metadata": {
    "cell_style": "split",
    "slideshow": {
     "slide_type": "fragment"
    }
   },
   "source": [
    "Asumiendo ondas en el aire en dirección $\\hat{k} = \\hat{x}$, el campo eléctrico resultante es:\n",
    "\n",
    "\\begin{equation*}\n",
    "\\vec{E}_\\mathrm{tot} = \\sum_j^N E_0e^{i\\left(k_jx - \\omega_j t\\right)} \\hat{z},\n",
    "\\end{equation*}\n",
    "\n",
    "donde $k_j = \\frac{2\\pi}{\\lambda \\pm\\Delta \\lambda_j}$, y $\\omega_j = c_0k_j$"
   ]
  },
  {
   "cell_type": "markdown",
   "id": "e5e55e68",
   "metadata": {
    "cell_style": "center",
    "slideshow": {
     "slide_type": "slide"
    }
   },
   "source": [
    "Analicemos el comportamiento de $\\vec{E}_\\mathrm{tot} /E_0$ para $\\lambda_0 = 500$ nm"
   ]
  },
  {
   "cell_type": "code",
   "execution_count": 2,
   "id": "37df7e74",
   "metadata": {
    "cell_style": "center",
    "slideshow": {
     "slide_type": "skip"
    },
    "tags": [
     "hide-input"
    ]
   },
   "outputs": [],
   "source": [
    "import numpy as np\n",
    "from numpy.random import normal\n",
    "import matplotlib.pyplot as plt\n",
    "\n",
    "def light_packet(kdir, x, t, lam, sig, N):\n",
    "    c0 = 3E8          # velocidad de la luz (m/s)\n",
    "    xx = np.meshgrid(x,np.ones(N))[0]\n",
    "    \n",
    "    # Generamos arreglo de ondas aleatorias\n",
    "    dlamj =  normal(0, lam*sig,N)\n",
    "    kj = (2*np.pi/(lam + dlamj)).reshape(-1,1)\n",
    "    wj = c0*kj\n",
    "    Erand = np.exp(1j*(kdir*kj*xx-wj*t)) \n",
    "    \n",
    "    # Sumamos todas las ondas\n",
    "    return np.sum(Erand,axis=0)\n",
    " \n",
    "def plot_light_packet(N, t, sig):\n",
    "    '''\n",
    "    n: número de ondas generadas\n",
    "    t: tiempo en ns\n",
    "    sig: % de ancho de banda (dlam = sig*lam)\n",
    "    '''\n",
    "    lam = 0.5         # longitud de onda (um)\n",
    "    t = t*1E-9 # convertimos ns a s\n",
    "    \n",
    "    # recorrido de la onda\n",
    "    x = np.linspace(-2,2,1000)  # desde 0 a 4 micrones\n",
    "    E = light_packet(1, x, t, lam, sig, N)\n",
    "    \n",
    "    # Graficamos\n",
    "    fig, ax = plt.subplots()\n",
    "    fig.set_size_inches(6, 3)\n",
    "    plt.rcParams['font.size'] = '12'\n",
    "    \n",
    "    ax.plot(x,np.real(E), 'k')\n",
    "    ax.set_xlabel('x ($\\mu$m)')\n",
    "    ax.set_ylabel('Amplitud $|E|/E_0$')\n",
    "    ax.set_ylim(-N*1.1,N*1.1)\n",
    "    ax.grid()\n"
   ]
  },
  {
   "cell_type": "code",
   "execution_count": 3,
   "id": "5c81aca7",
   "metadata": {
    "cell_style": "center",
    "slideshow": {
     "slide_type": "fragment"
    },
    "tags": [
     "hide-input"
    ]
   },
   "outputs": [
    {
     "data": {
      "application/vnd.jupyter.widget-view+json": {
       "model_id": "ffc1986fd3f2433caf7683ba0a370852",
       "version_major": 2,
       "version_minor": 0
      },
      "text/plain": [
       "interactive(children=(IntSlider(value=1000, description='N', max=1000, min=1), FloatSlider(value=0.0, descript…"
      ]
     },
     "metadata": {},
     "output_type": "display_data"
    }
   ],
   "source": [
    "from ipywidgets import interact\n",
    "\n",
    "@interact( N=(1,1000,1), \n",
    "           t=(-10,10,0.1),\n",
    "           sig=(0,1,0.01))\n",
    "def g(N=1000, t=0, sig=0.3):\n",
    "    return plot_light_packet(N,t,sig)"
   ]
  },
  {
   "cell_type": "markdown",
   "id": "b53bb755",
   "metadata": {
    "slideshow": {
     "slide_type": "slide"
    }
   },
   "source": [
    "### Longitud de coherencia\n",
    "Definimos como **longitud de coherencia**, $l_c$, a la distancia donde un grupo de ondas electromagnética mantiene correlación entre las fases. Dos puntos en una paquete de onda separados a una distancia mayor a $l_c$ son incoherentes, es decir, no están correlacionados"
   ]
  },
  {
   "cell_type": "markdown",
   "id": "3ea340f8",
   "metadata": {
    "cell_style": "split",
    "slideshow": {
     "slide_type": "fragment"
    }
   },
   "source": [
    "<img src=\"./images/coherence_length.png\" width=\"300px\" align= center>\n",
    "\n",
    "<center>Esquema de un paquete de onda emitido por una fuente con longitud de coherencia $l_c$</center>"
   ]
  },
  {
   "cell_type": "markdown",
   "id": "1f71b46f",
   "metadata": {
    "cell_style": "split",
    "slideshow": {
     "slide_type": "fragment"
    }
   },
   "source": [
    "La relación entre $l_c$, la longitud de onda central $\\lambda$ y el ancho de banda $\\Delta\\lambda$ está dado, aproximadamente, por la relación:\n",
    "\n",
    "\\begin{equation*}\n",
    "l_c \\approx \\frac{\\lambda^2}{n\\Delta \\lambda},\n",
    "\\end{equation*}\n",
    "\n",
    "donde $n$ es el indice de refracción del medio donde se propaga la luz.\n",
    "\n",
    "Por ejemplo, para lasers He-Ne (laser rojo)  $l_c\\approx 0.2 - 100$ m.  "
   ]
  },
  {
   "cell_type": "markdown",
   "id": "b8e319bd",
   "metadata": {
    "slideshow": {
     "slide_type": "slide"
    }
   },
   "source": [
    "Para radiación emitida por un cuerpo a temperatura $T$, la longitud de coherencia está dada por:\n",
    "\n",
    "\\begin{equation*}\n",
    "l_c T = 2167.8~\\mathrm{\\mu m~K}\n",
    "\\end{equation*}\n",
    "\n",
    "Así, por ejemplo, la radiación solar ($T \\approx 5800~\\mathrm{K}$) tiene una longitud de coherencia, $l_c \\approx 370~\\mathrm{nm}$"
   ]
  },
  {
   "cell_type": "markdown",
   "id": "659f7454",
   "metadata": {
    "slideshow": {
     "slide_type": "slide"
    }
   },
   "source": [
    "### Régimen de trasporte de luz\n",
    "Los fenómenos de interferencia descritos en las unidades anteriores existen debido a la forma oscilatoria de la luz. **Dos paquetes de ondas distintos son incoherentes, y la superposición de estos no genera interferencia.**"
   ]
  },
  {
   "cell_type": "markdown",
   "id": "615ad1c6",
   "metadata": {
    "slideshow": {
     "slide_type": "slide"
    }
   },
   "source": [
    "En otras palabras, el fenómeno de interferencia solo existe si el paquete de onda interfiere consigo mismo. Así, podemos concluir que los fenómenos de interferencia en películas de espesor $d$ no serían visibles si $d > l_c$. "
   ]
  },
  {
   "cell_type": "markdown",
   "id": "db4d20e4",
   "metadata": {
    "cell_style": "split",
    "slideshow": {
     "slide_type": "fragment"
    }
   },
   "source": [
    "<img src=\"./images/interference_thinfilm.png\" width=\"200px\" align= center>\n",
    "\n",
    "<center>Propagación de una onda a través de una película de espesor $d$, con $l_c < d$</center>"
   ]
  },
  {
   "cell_type": "markdown",
   "id": "fce7ef57",
   "metadata": {
    "cell_style": "split",
    "slideshow": {
     "slide_type": "fragment"
    }
   },
   "source": [
    "En general, para una longitud características $d$, la regla es:\n",
    "\n",
    "- Si $d > l_c$ el **transporte de luz es incoherente** . En este régimen, podemos ignorar las propiedades oscilatorias de la luz, y analizar el problema como el transporte de pequeños paquetes de onda, o simplemente como partículas.\n",
    "\n",
    "- Si $d < l_c$, el **transporte de luz es coherente**. En este régimen debemos considerar las propiedades oscilatorias a partir de las Ecuaciones de Maxwell."
   ]
  },
  {
   "cell_type": "markdown",
   "id": "06aab8e7",
   "metadata": {
    "cell_style": "center",
    "slideshow": {
     "slide_type": "fragment"
    }
   },
   "source": [
    "Así, **los coeficientes de Fresnel para una película delgada solo son aplicables si $d < l_c$.**"
   ]
  },
  {
   "cell_type": "markdown",
   "id": "c7f85265",
   "metadata": {
    "cell_style": "center",
    "slideshow": {
     "slide_type": "slide"
    }
   },
   "source": [
    "Los coeficientes de Fresnel para una interface, en cambio, siempre son válidos debido a que consideran una interface infinitamente delgada."
   ]
  },
  {
   "cell_type": "markdown",
   "id": "57178760",
   "metadata": {
    "cell_style": "center",
    "slideshow": {
     "slide_type": "fragment"
    }
   },
   "source": [
    "<img src=\"./images/interference_interface.png\" width=\"350px\" align= center>\n",
    "\n",
    "<center>Refracción y reflexión de una onda incoherente a través de una interfaz</center>"
   ]
  },
  {
   "cell_type": "markdown",
   "id": "0c79f1b6",
   "metadata": {
    "slideshow": {
     "slide_type": "slide"
    }
   },
   "source": [
    "En medios particulados, los fenómenos de interferencia pueden ocurrir si las partículas están suficientemente cerca y tienen tamaños similares. Llamamos a esto **scattering coherente**"
   ]
  },
  {
   "cell_type": "markdown",
   "id": "61e2a519",
   "metadata": {
    "slideshow": {
     "slide_type": "fragment"
    }
   },
   "source": [
    "<img src=\"./images/scattering_coherence.png\" width=\"600px\" align= center>\n",
    "\n",
    "<center>Fenómeno de interferencia en scattering</center>"
   ]
  },
  {
   "cell_type": "markdown",
   "id": "8167d93c",
   "metadata": {
    "slideshow": {
     "slide_type": "slide"
    }
   },
   "source": [
    "El fenómeno de scattering coherente da lugar a los denominados **colores estructurales** presentes en las alas de las aves y mariposas (mas info [acá](https://wires.onlinelibrary.wiley.com/doi/10.1002/wnan.1396))"
   ]
  },
  {
   "cell_type": "markdown",
   "id": "06446d60",
   "metadata": {
    "cell_style": "split",
    "slideshow": {
     "slide_type": "fragment"
    }
   },
   "source": [
    "<img src=\"./images/structural_colors_birds.png\" width=\"550px\" align= center>\n",
    "\n",
    "<center>Colores estructurales en alas de aves</center>\n",
    "\n",
    "Fuente: [Hwang, V. et al. PNAS 118 (4) e2015551118\n",
    " (2020)](https://www.pnas.org/doi/10.1073/pnas.2015551118)"
   ]
  },
  {
   "cell_type": "markdown",
   "id": "71eaafb2",
   "metadata": {
    "cell_style": "split",
    "slideshow": {
     "slide_type": "fragment"
    }
   },
   "source": [
    "<img src=\"./images/structural_colors_buterflies.png\" width=\"450px\" align= center>\n",
    "\n",
    "<center>Colores estructurales en alas de mariposa</center>\n",
    "\n",
    "Fuente: [Tippets C. A. et al. J. Opt. 18 (2016) 065105](https://iopscience.iop.org/article/10.1088/2040-8978/18/6/065105)"
   ]
  },
  {
   "cell_type": "markdown",
   "id": "f629fcbe",
   "metadata": {
    "slideshow": {
     "slide_type": "slide"
    }
   },
   "source": [
    "## Teoría de transferencia radiativa\n",
    "Si el transporte de luz es incoherente, podemos ignorar las propiedades oscilatorias de la luz y analizar el fenómeno óptico como un el transporte de radiación a través de un volumen de control."
   ]
  },
  {
   "cell_type": "markdown",
   "id": "f62e3c70",
   "metadata": {
    "slideshow": {
     "slide_type": "slide"
    }
   },
   "source": [
    "### Intensidad específica"
   ]
  },
  {
   "cell_type": "markdown",
   "id": "790c7714",
   "metadata": {
    "cell_style": "split",
    "slideshow": {
     "slide_type": "-"
    }
   },
   "source": [
    "Definimos como **radiancia espectral o intensidad específica**, $I_\\lambda$, al flujo de energía por **ángulo sólido diferencial**, $d\\Omega$, para una longitud de onda $\\lambda$.\n",
    "\n",
    "<img src=\"./images/specific_intensity.png\" width=\"300px\" align= center>"
   ]
  },
  {
   "cell_type": "markdown",
   "id": "8568f20b",
   "metadata": {
    "cell_style": "split",
    "slideshow": {
     "slide_type": "fragment"
    }
   },
   "source": [
    "El ángulo sólido define el tamaño relativo del área $S$ para un observador en $P$ a una distancia $r$. \n",
    "\n",
    "El diferencial está definido por $d\\Omega = \\sin\\theta d\\theta d\\phi$\n",
    "\n",
    "<img src=\"./images/solid_angle.png\" width=\"450px\" align= center>"
   ]
  },
  {
   "cell_type": "markdown",
   "id": "0d8ed016",
   "metadata": {
    "slideshow": {
     "slide_type": "slide"
    }
   },
   "source": [
    "Es importante aclarar que los conceptos intensidad específica y vector de Poynting $\\langle\\vec{S}\\rangle$, son equivalentes: $I_\\lambda(\\hat{k})$ es un término utilizado en radiometría para definir el flujo de energía por unidad de ángulo sólido, mientras que $\\langle\\vec{S}\\rangle$ es un término utilizado en óptica para describir el flujo de energía en dirección $\\hat{k}$. Cabe destacar, sin embargo, que $I_\\lambda(\\hat{k})$ es una magnitud, y $\\langle\\vec{S}\\rangle$ es un vector. Así, podríamos decir que la relación entre estos dos términos está dada por $I_\\lambda(\\hat{k}) = \\langle\\vec{S}\\rangle\\cdot\\hat{k}$."
   ]
  },
  {
   "cell_type": "markdown",
   "id": "921c9262",
   "metadata": {
    "slideshow": {
     "slide_type": "slide"
    }
   },
   "source": [
    "### Ecuación de transferencia radiativa\n",
    "La **ecuación de transferencia radiativa** (RTE por sus siglas en ingles), es una ecuación de transporte que describe la propagación de la radiancia espectral, $I_\\lambda(\\vec{r},\\hat{k})$, en función de la posición posición $\\vec{r}$ y dirección $\\hat{k}$. En su forma más general, para un problema estacionario:\n",
    "\n",
    "\\begin{equation}\n",
    "\\hat{k}\\cdot\\nabla_r I_\\lambda(\\vec{r},\\hat{k}) = - \\left[\\frac{f_v}{V_p}C_\\mathrm{ext} + 2\\kappa k_0\\right]I_\\lambda(\\vec{r},\\hat{k}) + \\frac{f_v}{V_p}\\int_{4\\pi} P_\\mathrm{sca}(\\hat{k},\\hat{k}') I_\\lambda(\\vec{r},\\hat{k}') d\\Omega'\n",
    "\\end{equation}"
   ]
  },
  {
   "cell_type": "markdown",
   "id": "44c82ce8",
   "metadata": {
    "slideshow": {
     "slide_type": "fragment"
    }
   },
   "source": [
    "donde $f_v$ y $V_p$ son, respectivamente la fracción de volúmen y el volúmen de las partículas en el medio, y $P_\\mathrm{sca}(\\hat{k},\\hat{k}')$ es la función de fase."
   ]
  },
  {
   "cell_type": "markdown",
   "id": "84f7041f",
   "metadata": {
    "slideshow": {
     "slide_type": "slide"
    }
   },
   "source": [
    "Notar que consideramos el caso más generalizado de la función de fase, que depende tanto de la dirección de la radiación incidente $\\hat{k}$ como de la dirección del scattering $\\hat{k}'$. Ambas definidas por ángulo sólido"
   ]
  },
  {
   "cell_type": "markdown",
   "id": "556660a5",
   "metadata": {
    "cell_style": "center",
    "slideshow": {
     "slide_type": "fragment"
    }
   },
   "source": [
    "En el caso de una esfera, $\\hat{k}_\\mathrm{sca} = \\hat{k}$ y $\\hat{k}_\\mathrm{inc} = \\hat{k}'$. Así, la función de fase depende de $\\theta$, el cual está definido por $\\cos\\theta = \\hat{k}\\cdot\\hat{k}'$\n",
    "\n"
   ]
  },
  {
   "cell_type": "markdown",
   "id": "b7b71333",
   "metadata": {
    "slideshow": {
     "slide_type": "slide"
    }
   },
   "source": [
    "Con esto en mente, ahora podemos discutir el significado de los términos en la RTE:"
   ]
  },
  {
   "cell_type": "markdown",
   "id": "12e1a1e8",
   "metadata": {
    "slideshow": {
     "slide_type": "fragment"
    }
   },
   "source": [
    "- El primer término representa el cambio de $I_\\lambda(\\vec{r},\\hat{k})$ a través volumen diferencial. Por ejemplo, en el caso unidimencional en dirección $\\hat{k} = \\hat{x}$, tenemos: \n",
    "\n",
    "\\begin{equation*}\n",
    "\\hat{x}\\cdot\\nabla_r I_\\lambda(\\vec{r},\\hat{k}) = \\frac{\\partial}{\\partial x}I_\\lambda(\\vec{r},\\hat{k})\n",
    "\\end{equation*}"
   ]
  },
  {
   "cell_type": "markdown",
   "id": "231c3da9",
   "metadata": {
    "slideshow": {
     "slide_type": "fragment"
    }
   },
   "source": [
    "- El segundo término representa la pérdida de energía radiativa, por extinción $\\left(\\frac{f_v}{V_p}C_\\mathrm{ext}\\right)$ y absorción en el material material ($2\\kappa k_0$), respectivamente. Recordemos que la extinción representa la energía absorbida por las partículas + la energía de scattering en direcciónes distintas a $\\hat{k}$, es decir $C_\\mathrm{ext}= C_\\mathrm{abs} + C_\\mathrm{sca}$."
   ]
  },
  {
   "cell_type": "markdown",
   "id": "4754c5ed",
   "metadata": {
    "slideshow": {
     "slide_type": "fragment"
    }
   },
   "source": [
    "- El tercer término representa la ganancia de energía radiativa produco del scattering inducido por radiación incidente en dirección $\\hat{k}'$. Este término representa el fenómeno de **scattering múltiple**."
   ]
  },
  {
   "cell_type": "markdown",
   "id": "43766712",
   "metadata": {
    "slideshow": {
     "slide_type": "slide"
    }
   },
   "source": [
    "## Soluciones de la RTE\n",
    "La ecuación de transferencia radiativa permite explicar de forma fenomenológica el transporte de radiación en un medio particulado. Debido a su complejidad, existen pocas soluciones analíticas. En esta sección describiremos las tres más conocidas."
   ]
  },
  {
   "cell_type": "markdown",
   "id": "6037462f",
   "metadata": {
    "slideshow": {
     "slide_type": "slide"
    }
   },
   "source": [
    "### Película de material sin partículas (Reflectividad y Transmisividad incoherente)\n",
    "En el caso de un medio sin partículas solo debemos considerar el primer término de la RTE. "
   ]
  },
  {
   "cell_type": "markdown",
   "id": "38e80853",
   "metadata": {
    "slideshow": {
     "slide_type": "fragment"
    }
   },
   "source": [
    "Para el caso particular de un material de espesor $t_\\mathrm{film}$ e índice de refracción $N = n + \\kappa$, rodeado por un medio con índice de refracción $N_0$, derivamos las siguientes relaciones de reflectividad y tranmisividad para luz incoherente:\n",
    "\n",
    "\\begin{align}\n",
    "R_\\mathrm{incoh}&= R_0 + \\frac{T_0^2R_0e^{-4\\kappa k_0 t_\\mathrm{film}}}{1 - R_0^2e^{-4\\kappa k_0 t_\\mathrm{film}}} \n",
    "\\\\[10pt]\n",
    "T_\\mathrm{incoh} &= \\frac{T_0^2e^{-4\\kappa k_0 t_\\mathrm{film}}}{1 - R_0^2e^{-4\\kappa k_0 t_\\mathrm{film}}}\n",
    "\\end{align}\n",
    "\n",
    "donde $R_0$ y $T_0$ corresponden, respectivamente, a la reflectividad y transmisividad en la interface $N_0 / N_1$"
   ]
  },
  {
   "cell_type": "markdown",
   "id": "7b8cb924",
   "metadata": {
    "slideshow": {
     "slide_type": "slide"
    }
   },
   "source": [
    "En el siguiente ejemplo, utilizamos la función ```incoh_multilayer``` de la libreria ```empylib.waveoptics```. Esta función es más general que la ecuación anterior y permite determinar $R_\\mathrm{incoh}$ y $T_\\mathrm{incoh}$ para arreglos multicapas. "
   ]
  },
  {
   "cell_type": "markdown",
   "id": "2a3e7bbc",
   "metadata": {
    "slideshow": {
     "slide_type": "fragment"
    }
   },
   "source": [
    "En este caso, evaluaremos una película de sílice de espesor $1~\\mu\\mathrm{m}$, sobre un sustrato con íncide de refracción $N_\\mathrm{back} = 4.3$, y con aire en la superficie $N_\\mathrm{front} = 1.0$. El espectro de longitudes de onda $\\lambda\\in[0.3,0.8]~\\mu\\mathrm{m}$ y el ángulo de incidencia $\\theta_i = 30°$. Para comparar, determinaremos $R$ y $T$ para el caso de luz coherente."
   ]
  },
  {
   "cell_type": "code",
   "execution_count": 4,
   "id": "a99aa431",
   "metadata": {
    "cell_style": "center",
    "slideshow": {
     "slide_type": "slide"
    },
    "tags": [
     "hide-input"
    ]
   },
   "outputs": [],
   "source": [
    "import numpy as np\n",
    "import empylib.waveoptics as wv\n",
    "import empylib.nklib as nk\n",
    "\n",
    "lam = np.linspace(0.3,0.8,100)  # espectro de longitudes de onda (um)\n",
    "theta = np.radians(30)          # ángulo de incidencia\n",
    "\n",
    "Nfront = 1.0                 # índice de refracción medio superior\n",
    "N1     = 1.5                 # índice de refracción capa delgada\n",
    "Nback  = 4.3                 # índice de refracción medio inferior\n",
    "N = (Nfront, N1, Nback)      # indices de refracción (above, mid, below)\n",
    "d = 1.0                      # espesor capa intermedia (um)\n",
    "\n",
    "# caso luz incoherente\n",
    "Rp_incoh, Tp_incoh = wv.incoh_multilayer(lam,theta, N, d, pol='TM')\n",
    "# caso luz coherente\n",
    "Rp, Tp = wv.multilayer(lam,theta, N, d, pol='TM')[:2]"
   ]
  },
  {
   "cell_type": "code",
   "execution_count": 5,
   "id": "3bee2ad8",
   "metadata": {
    "cell_style": "center",
    "slideshow": {
     "slide_type": "fragment"
    },
    "tags": [
     "hide-input"
    ]
   },
   "outputs": [
    {
     "data": {
      "image/png": "[encoded data removed]",
      "text/plain": [
       "<Figure size 600x350 with 1 Axes>"
      ]
     },
     "metadata": {},
     "output_type": "display_data"
    }
   ],
   "source": [
    "fig, ax = plt.subplots()\n",
    "fig.set_size_inches(6, 3.5)\n",
    "plt.rcParams['font.size'] = '12'\n",
    "\n",
    "# Graficamos el flujo de energía\n",
    "plt.plot(lam,Rp,'--r',label='$R_\\mathrm{TM}$ (coh)')\n",
    "plt.plot(lam,Tp,'--b',label='$T_\\mathrm{TM}$ (coh)')\n",
    "plt.plot(lam,Rp_incoh,'-r',label='$R_\\mathrm{TM}$ (incoh)')\n",
    "plt.plot(lam,Tp_incoh,'-b',label='$T_\\mathrm{TM}$ (incoh)')\n",
    "plt.title('arreglo 1.0/1.5/4.3')\n",
    "plt.xlabel('Longitud de onda ($\\mu$m)')\n",
    "plt.ylabel('Refletividad / Transmisividad')\n",
    "plt.ylim(0,1)\n",
    "plt.legend()\n",
    "plt.show()"
   ]
  },
  {
   "cell_type": "markdown",
   "id": "c6ed7877",
   "metadata": {
    "cell_style": "center",
    "slideshow": {
     "slide_type": "slide"
    }
   },
   "source": [
    "En la figura, para el caso de luz coherente, notamos oscilaciones en $R$ y $T$ producto de los fenómenos de interferencia. En el caso de luz incoherente, el fenómeno de interferencia desaparace."
   ]
  },
  {
   "cell_type": "markdown",
   "id": "a5316b37",
   "metadata": {
    "slideshow": {
     "slide_type": "slide"
    }
   },
   "source": [
    "### Película de material con baja concentración de partículas (Ley de Beer-Lambert)\n",
    "Definimos el **camino libre medio de scattering**, como $\\Lambda_\\mathrm{sca} = \\left(f_v C_\\mathrm{sca}/V_p\\right)^{-1}$. Este parametro representa la distancia promedio que recorre la luz entre eventos de scattering."
   ]
  },
  {
   "cell_type": "markdown",
   "id": "a352fb08",
   "metadata": {
    "cell_style": "center",
    "slideshow": {
     "slide_type": "fragment"
    }
   },
   "source": [
    "Si $\\Lambda_\\mathrm{sca}$ es mayor que el espesor del material, $t_\\mathrm{film}$, la probabilidad de que ocurran más de un evento scattering es despreciable, y decimos que el **scattering es de primer orden**. En este caso, el tercer término de la RTE es despreciable y la radiación solo pierde energía por absorción del material o extinción inducida por las partículas."
   ]
  },
  {
   "cell_type": "markdown",
   "id": "9407f0e6",
   "metadata": {
    "slideshow": {
     "slide_type": "slide"
    }
   },
   "source": [
    "La solución a esta ecuación se conoce como la ley de Beer-Lambert. Mediante esta aproximación podemos deducir las componentes total y especular de la transmitancia:\n",
    "\n",
    "\\begin{equation}\n",
    "T_\\mathrm{tot} = T_0 e^{-f_v\\frac{C_\\mathrm{abs}}{V_p}t_\\mathrm{film}}\\quad\\quad\\mathrm{and}\\quad\\quad \n",
    "T_\\mathrm{spec} = T_0 e^{-f_v\\frac{C_\\mathrm{ext}}{V_p}t_\\mathrm{film}}\n",
    "\\end{equation}\n",
    "\n",
    "donde, $T_0$ es la **transmisividad incoherente del material sin incrustaciones**."
   ]
  },
  {
   "cell_type": "markdown",
   "id": "2f29ecb5",
   "metadata": {
    "slideshow": {
     "slide_type": "fragment"
    }
   },
   "source": [
    "<img src=\"./images/beer_lambert.png\" width=\"500px\" align= center>\n",
    "\n",
    "<center>Transporte de luz en un medio con scattering de primer orden</center>"
   ]
  },
  {
   "cell_type": "markdown",
   "id": "963bc3c6",
   "metadata": {
    "slideshow": {
     "slide_type": "slide"
    }
   },
   "source": [
    "Podemos utilizar la ley de Beer-Lambert para analizar, de forma aproximada, el efecto del color del cielo durante el día y en la tarde."
   ]
  },
  {
   "cell_type": "markdown",
   "id": "227d193d",
   "metadata": {
    "slideshow": {
     "slide_type": "fragment"
    }
   },
   "source": [
    "El color del cielo está dado por la componente difusa. Así calculamos $T_\\mathrm{dif} = T_\\mathrm{tot} - T_\\mathrm{spec}$."
   ]
  },
  {
   "cell_type": "markdown",
   "id": "a2577fed",
   "metadata": {
    "slideshow": {
     "slide_type": "fragment"
    }
   },
   "source": [
    "Consideremos una atmosfera compuesta de aire ($N_h = 1.0$) y una pequeña concentración ($f_v = 1\\times 10^{-6}~\\%$) de partículas de 10 nm de diámetro e índice de refracción $N_p = 1.5$. El espesor de la atmosfera es $t_\\mathrm{atm} = 100~\\mathrm{km}$"
   ]
  },
  {
   "cell_type": "code",
   "execution_count": 6,
   "id": "33491447",
   "metadata": {
    "cell_style": "center",
    "slideshow": {
     "slide_type": "slide"
    },
    "tags": [
     "hide-input"
    ]
   },
   "outputs": [],
   "source": [
    "import empylib.rad_transfer as rt\n",
    "import empylib.nklib as nk\n",
    "import numpy as np\n",
    "import matplotlib.pyplot as plt\n",
    "from empylib.ref_spectra import AM15, Bplanck\n",
    "from empylib.ref_spectra import color_system as cs\n",
    "cs = cs.hdtv\n",
    "\n",
    "lam1 = np.linspace(0.38,0.78,100) # espectro de longitudes de onda\n",
    "cs.interp_internals(lam1)\n",
    "def plot_atmosphere(theta_sun):\n",
    "    fig, ax = plt.subplots()          \n",
    "    fig.set_size_inches(6, 4)         # Tamaño del gráfico\n",
    "    plt.rcParams['font.size'] = '12'  # tamaño de  fuente\n",
    "    \n",
    "    # parámetros de entrada\n",
    "    tatm = 100E6                      # espesor de la atmósfera en mm\n",
    "    N = (1.0,1.0,1.0)                 # indice de refracción superior, intermedio e inferior\n",
    "    fvp = 1E-8                        # fracción de volúmen de las partículas\n",
    "    Dp = 0.010                        # diámetro de las partículas\n",
    "    Np = 1.5                          # índice de refracción de las partículas\n",
    "    \n",
    "    # transmitancia total y especular|\n",
    "    theta = np.radians(theta_sun)    # posición del sol en radianes\n",
    "    Ttot, Rtot, Tspec = rt.T_beer_lambert(lam1,theta,tatm,N,fvp,Dp,Np)\n",
    "    \n",
    "    Tdif = Ttot - Tspec              # transmitancia difusa\n",
    "    ax.plot(lam1,Tdif,'-k',label = 'Tdif')\n",
    "    ax.set_xlabel('Longitud de onda ($\\mu$m)')\n",
    "    ax.set_ylabel('Transmisividad')\n",
    "    ax.set_title(r'Posición del sol, $\\theta_\\mathrm{sun}$=%.1f°'% (theta_sun))\n",
    "    ax.set_ylim(0,1.05)\n",
    "    \n",
    "    Dcircle = 0.25\n",
    "    ax2 = fig.add_axes([0.11,0.15, Dcircle, Dcircle])\n",
    "    Irad = Tdif*Bplanck(lam1,5777)\n",
    "    html_rgb = cs.spec_to_rgb(Irad, out_fmt='html')\n",
    "    Circle = plt.Circle((0, 0), Dcircle, color=html_rgb)\n",
    "    ax2.add_patch(Circle)\n",
    "    ax2.set_aspect('equal')\n",
    "    ax2.set_xlim(-Dcircle*1.2,Dcircle*1.2)\n",
    "    ax2.set_ylim(-Dcircle*1.2,Dcircle*1.2)\n",
    "    ax2.set_xticks([])\n",
    "    ax2.set_yticks([])\n",
    "    ax2.set_facecolor('k')\n",
    "    plt.show()"
   ]
  },
  {
   "cell_type": "code",
   "execution_count": 7,
   "id": "f3b08336",
   "metadata": {
    "cell_style": "split",
    "slideshow": {
     "slide_type": "fragment"
    },
    "tags": [
     "hide-input"
    ]
   },
   "outputs": [
    {
     "data": {
      "application/vnd.jupyter.widget-view+json": {
       "model_id": "1e2c149938f643e1bf2bb91237362ebd",
       "version_major": 2,
       "version_minor": 0
      },
      "text/plain": [
       "interactive(children=(FloatSlider(value=0.0, description='theta_sun', max=89.99), Output()), _dom_classes=('wi…"
      ]
     },
     "metadata": {},
     "output_type": "display_data"
    }
   ],
   "source": [
    "from ipywidgets import interact\n",
    "\n",
    "@interact(theta_sun=(0,89.99,0.1))\n",
    "def g(theta_sun=0):\n",
    "    return plot_atmosphere(theta_sun)"
   ]
  },
  {
   "cell_type": "markdown",
   "id": "8aa6d072",
   "metadata": {
    "cell_style": "center",
    "slideshow": {
     "slide_type": "slide"
    }
   },
   "source": [
    "### Pelicula de material particulado (simulaciones de transferencia radiativa)\n",
    "Este caso corresponde a materiales con $\\Lambda_\\mathrm{sca} < t_\\mathrm{film}$. En este caso los eventos de scattering se producen más de una vez, y decimos que estámos en un régimen de **scattering múltiple**. Como resultado, los tres términos de la RTE son relevantes y debemos resolver la ecuación mediante simulación computacional.\n",
    "\n",
    "<img src=\"./images/multiple_scattering.png\" width=\"400px\" align= center>\n",
    "\n",
    "<center>Transporte de luz en un medio con scattering múltiple</center>"
   ]
  },
  {
   "cell_type": "markdown",
   "id": "bea5c468",
   "metadata": {
    "slideshow": {
     "slide_type": "slide"
    }
   },
   "source": [
    "Analicemos la [copa de Licurgo](https://es.wikipedia.org/wiki/Copa_de_Licurgo), considerando un material de sílice de espesor $t_\\mathrm{film} = 5~\\mathrm{mm}$ con incrustaciones de partículas de plata de forma esférica."
   ]
  },
  {
   "cell_type": "markdown",
   "id": "db4db843",
   "metadata": {},
   "source": [
    "Evaluaremos los colores de este material en transmisión y reflexión para luz incidente normal a la superficie en función de la concentración y el diámetro de las partículas. Utilizamos la función ```adm_sphere``` de la librería ```empylib.rad_transfer```"
   ]
  },
  {
   "cell_type": "code",
   "execution_count": 8,
   "id": "24c8d4d6",
   "metadata": {
    "slideshow": {
     "slide_type": "slide"
    },
    "tags": [
     "hide-input"
    ]
   },
   "outputs": [],
   "source": [
    "import empylib.rad_transfer as rt\n",
    "import empylib.nklib as nk\n",
    "import empylib.miescattering as mie\n",
    "import numpy as np\n",
    "import matplotlib.pyplot as plt\n",
    "\n",
    "lam2 = np.linspace(0.3,1.0,100) # espectro de longitudes de onda en micrometros\n",
    "Nlayers = (1.0,1.5,1.0)         # indice de refracción superior, intermedio e inferior\n",
    "Np = nk.silver(lam2)            # Índice de refracción de las partículas\n",
    "cs.interp_internals(lam2)\n",
    "\n",
    "def plot_glass_silver(fv,D):\n",
    "    # parámetros de entrada\n",
    "    \n",
    "    theta = np.radians(0)       # 0 grados en radianes\n",
    "    tfilm = 5                   # espesor en milímetros\n",
    "    \n",
    "    fv = fv*1E-7                # fracción de volúmen de las partículas\n",
    "    D = D*1E-3                  # diámetro de las partículas\n",
    "    \n",
    "    qext, qsca = mie.scatter_efficiency(lam2,Nlayers[1],Np,D)[:2]\n",
    "    qabs = qext - qsca\n",
    "    Ttot, Rtot = rt.adm_sphere(lam2,tfilm,Nlayers,fv,D,Np)[:2]\n",
    "\n",
    "    fig, ax = plt.subplots(1,3)\n",
    "    fig.set_size_inches(12, 3)\n",
    "    plt.rcParams['font.size'] = '10'\n",
    "    \n",
    "    ax[0].plot(lam2,qsca,'-r',label='$C_\\mathrm{sca} A_c$')\n",
    "    ax[0].plot(lam2,qabs,'-b',label='$C_\\mathrm{abs} A_c$')\n",
    "    ax[0].set_xlabel('Longitud de onda ($\\mu$m)')\n",
    "    ax[0].set_ylabel('Eficiencia transversal')\n",
    "    ax[0].set_title('Partícula de plata (D=%.0f nm)' % (D*1E3))\n",
    "    ax[0].legend()\n",
    "    ax[0].set_ylim(0,10)\n",
    "    \n",
    "    ax[1].plot(lam2,Rtot,'-r',label = 'Rtot')\n",
    "    ax[1].plot(lam2,Ttot,'-b',label = 'Ttot')\n",
    "    ax[1].set_xlabel('Longitud de onda ($\\mu$m)')\n",
    "    ax[1].set_ylabel('Transmisividad')\n",
    "    ax[1].set_title(r'Sílice con plata (fv = %.3e %%)' % (fv*100) )\n",
    "    ax[1].legend()\n",
    "    ax[1].set_ylim(0,1)\n",
    "\n",
    "    Dcircle = 0.20\n",
    "    html_rgb = cs.spec_to_rgb(Ttot*AM15(lam2), out_fmt='html')\n",
    "    Circle = plt.Circle((0, 0), Dcircle, color=html_rgb)\n",
    "    ax[2].add_patch(Circle)\n",
    "    ax[2].annotate('Luz Transmitida', xy=(0, 0), va='center', ha='center')\n",
    "\n",
    "    html_rgb = cs.spec_to_rgb(Rtot*AM15(lam2), out_fmt='html')\n",
    "    Circle = plt.Circle((Dcircle*1.2*2, 0), Dcircle, color=html_rgb)\n",
    "    ax[2].add_patch(Circle)\n",
    "    ax[2].annotate('Luz Reflejada', xy=(Dcircle*1.2*2, 0), va='center', ha='center')\n",
    "\n",
    "    ax[2].set_aspect('equal')\n",
    "    ax[2].set_xlim(-Dcircle*1.2,Dcircle*1.2*3)\n",
    "    ax[2].set_ylim(-Dcircle*1.2,Dcircle*1.2)\n",
    "    ax[2].set_xticks([])\n",
    "    ax[2].set_yticks([])\n",
    "    ax[2].set_facecolor('k')\n",
    "    plt.subplots_adjust(wspace=0.3)\n",
    "    plt.show()"
   ]
  },
  {
   "cell_type": "code",
   "execution_count": 9,
   "id": "494ceeb2",
   "metadata": {
    "cell_style": "center",
    "slideshow": {
     "slide_type": "slide"
    },
    "tags": [
     "hide-input"
    ]
   },
   "outputs": [
    {
     "data": {
      "application/vnd.jupyter.widget-view+json": {
       "model_id": "34a6b72159c045c5a2a3453c6c668af6",
       "version_major": 2,
       "version_minor": 0
      },
      "text/plain": [
       "interactive(children=(IntSlider(value=20, description='fv', min=1), IntSlider(value=70, description='D', max=2…"
      ]
     },
     "metadata": {},
     "output_type": "display_data"
    }
   ],
   "source": [
    "from ipywidgets import interact\n",
    "\n",
    "@interact(fv=(1,100,1), D = (10,200,1))\n",
    "def g(fv=20, D = 70):\n",
    "    return plot_glass_silver(fv,D)"
   ]
  },
  {
   "cell_type": "markdown",
   "id": "031ca52b",
   "metadata": {
    "slideshow": {
     "slide_type": "slide"
    }
   },
   "source": [
    "Cuando la concentración de partículas es densa, el medio se vuelve opaco. Este régimen se denomina **scattering difuso** y permite explicar, entre otras cosas, el color de las nubes o la pintura blanca\n",
    "\n",
    "<img src=\"./images/diffuse_scattering.png\" width=\"400px\" align= center>\n",
    "\n",
    "<center>Transporte de luz en un medio con scattering difuso</center>"
   ]
  },
  {
   "cell_type": "markdown",
   "id": "01df5bd6",
   "metadata": {
    "slideshow": {
     "slide_type": "slide"
    }
   },
   "source": [
    "Un ejemplo interesante corresponde a la leche. En términos simples, la leche es una emulsión formada por pequeñas partículas de grasa dispersas en un medio acuoso. \n",
    "\n",
    "<img src=\"./images/milk_microscope.png\" width=\"400px\" align= center>\n",
    "\n",
    "<center>Imagen de microscópio (40x) de leche orgánica. Las burbujas verdes corresponden al aceite en suspención en agua.</center>\n",
    "\n",
    "Fuente: [Braun K., Hanewald A. and Vilgis T. Foods 8(10): 483(2019)](https://www.ncbi.nlm.nih.gov/pmc/articles/PMC6836175/)"
   ]
  },
  {
   "cell_type": "markdown",
   "id": "225b5528",
   "metadata": {
    "slideshow": {
     "slide_type": "fragment"
    }
   },
   "source": [
    "Como aproximación, consideremos un medio de espesor $1$ cm, compuesto por agua $N_h = 1.3$ y pequeñas partículas esféricas de aceite $N_p = 1.5$. La emulsión considera un 60% de partículas de aceite por volumen."
   ]
  },
  {
   "cell_type": "code",
   "execution_count": 10,
   "id": "72cbfc3e",
   "metadata": {
    "cell_style": "center",
    "slideshow": {
     "slide_type": "slide"
    },
    "tags": [
     "hide-input"
    ]
   },
   "outputs": [],
   "source": [
    "%%capture showplot\n",
    "# import empylib.nklib as nk\n",
    "import numpy as np\n",
    "import empylib.rad_transfer as rt\n",
    "\n",
    "# Solo modificar estos parámetros\n",
    "#---------------------------------------------------------------\n",
    "lam3 = np.linspace(0.3,1.0,100)   # espectro de longitudes de onda\n",
    "tfilm = 10                        # espesor en milímetros\n",
    "fv = 0.50                         # fracción de volúmen de los poros\n",
    "D = 1.0                           # diámetro de los poros (micrones)\n",
    "Nh2o = 1.3                        # Índice de refracción del agua\n",
    "Noil = 1.5                        # índice de refracción partículas de aceite\n",
    "#---------------------------------------------------------------\n",
    "Ttot, Rtot = rt.adm_sphere(lam3,tfilm,(1.0,Nh2o,1.0),fv,D,Noil)[:2]\n",
    "\n",
    "fig, ax = plt.subplots()\n",
    "fig.set_size_inches(5, 3.5)\n",
    "plt.rcParams['font.size'] = '12'\n",
    "ax.plot(lam3,Rtot,'-r',label='R')\n",
    "ax.plot(lam3,Ttot,'-b',label='T')\n",
    "ax.set_xlabel('Longitud de onda ($\\mu$m)')\n",
    "ax.set_ylabel('Reflectividad / Transmisividad')\n",
    "ax.set_title(r'Leche (fv = %.0f %%)' % (fv*100))\n",
    "ax.legend()\n",
    "ax.set_ylim(0,1.02)\n",
    "plt.show()"
   ]
  },
  {
   "cell_type": "code",
   "execution_count": 11,
   "id": "9a1291f7",
   "metadata": {
    "cell_style": "split",
    "slideshow": {
     "slide_type": "fragment"
    },
    "tags": [
     "hide-input"
    ]
   },
   "outputs": [
    {
     "data": {
      "image/png": "[encoded data removed]",
      "text/plain": [
       "<Figure size 500x350 with 1 Axes>"
      ]
     },
     "metadata": {},
     "output_type": "display_data"
    }
   ],
   "source": [
    "showplot()"
   ]
  },
  {
   "cell_type": "markdown",
   "id": "6c035f58",
   "metadata": {
    "slideshow": {
     "slide_type": "slide"
    }
   },
   "source": [
    "Como vemos la alta concentración de partículas hace que la refletividad y transmisividad se vuelvan casi uniformes para todas las longitudes de onda. El espectro, así, toma un color blanco frente a una fuente de luz blanca."
   ]
  },
  {
   "cell_type": "markdown",
   "id": "17c1dc23",
   "metadata": {
    "slideshow": {
     "slide_type": "slide"
    }
   },
   "source": [
    "## Referencias\n",
    "- Chen G. **Chapter 5 - Energy Transfer by Waves** in *Nanoscale energy transport and conversion*, 1st Ed, Oxford University Press, 2005"
   ]
  }
 ],
 "metadata": {
  "celltoolbar": "Slideshow",
  "kernelspec": {
   "display_name": "Python 3 (ipykernel)",
   "language": "python",
   "name": "python3"
  },
  "language_info": {
   "codemirror_mode": {
    "name": "ipython",
    "version": 3
   },
   "file_extension": ".py",
   "mimetype": "text/x-python",
   "name": "python",
   "nbconvert_exporter": "python",
   "pygments_lexer": "ipython3",
   "version": "3.11.6"
  },
  "latex_envs": {
   "LaTeX_envs_menu_present": false,
   "autoclose": false,
   "autocomplete": false,
   "bibliofile": "biblio.bib",
   "cite_by": "apalike",
   "current_citInitial": 1,
   "eqLabelWithNumbers": true,
   "eqNumInitial": 2,
   "hotkeys": {
    "equation": "Ctrl-E",
    "itemize": "Ctrl-I"
   },
   "labels_anchors": false,
   "latex_user_defs": false,
   "report_style_numbering": false,
   "user_envs_cfg": true
  },
  "toc": {
   "base_numbering": 1,
   "nav_menu": {},
   "number_sections": false,
   "sideBar": true,
   "skip_h1_title": true,
   "title_cell": "Tabla de contenidos",
   "title_sidebar": "Contenidos",
   "toc_cell": false,
   "toc_position": {
    "height": "calc(100% - 180px)",
    "left": "10px",
    "top": "150px",
    "width": "307.2px"
   },
   "toc_section_display": true,
   "toc_window_display": false
  },
  "varInspector": {
   "cols": {
    "lenName": 16,
    "lenType": 16,
    "lenVar": 40
   },
   "kernels_config": {
    "python": {
     "delete_cmd_postfix": "",
     "delete_cmd_prefix": "del ",
     "library": "var_list.py",
     "varRefreshCmd": "print(var_dic_list())"
    },
    "r": {
     "delete_cmd_postfix": ") ",
     "delete_cmd_prefix": "rm(",
     "library": "var_list.r",
     "varRefreshCmd": "cat(var_dic_list()) "
    }
   },
   "types_to_exclude": [
    "module",
    "function",
    "builtin_function_or_method",
    "instance",
    "_Feature"
   ],
   "window_display": false
  }
 },
 "nbformat": 4,
 "nbformat_minor": 5
}
