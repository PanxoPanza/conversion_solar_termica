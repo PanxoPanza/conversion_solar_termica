{
 "cells": [
  {
   "cell_type": "code",
   "execution_count": 1,
   "id": "3c597da7",
   "metadata": {
    "slideshow": {
     "slide_type": "skip"
    },
    "tags": [
     "remove-cell"
    ]
   },
   "outputs": [],
   "source": [
    "import importlib.util\n",
    "if importlib.util.find_spec('empylib') is None:\n",
    "    !pip install git+https://github.com/PanxoPanza/empylib.git"
   ]
  },
  {
   "cell_type": "markdown",
   "id": "6fb7c940",
   "metadata": {
    "slideshow": {
     "slide_type": "slide"
    }
   },
   "source": [
    "# Ondas electromagnéticas en la materia"
   ]
  },
  {
   "cell_type": "markdown",
   "id": "61b0f1b1",
   "metadata": {
    "slideshow": {
     "slide_type": "slide"
    }
   },
   "source": [
    "## Características principales de una onda en un medio"
   ]
  },
  {
   "cell_type": "markdown",
   "id": "9c9eae7b",
   "metadata": {
    "cell_style": "center",
    "slideshow": {
     "slide_type": "slide"
    }
   },
   "source": [
    "### Ecuaciones de Maxwell\n",
    "La materia esta compuesta por cargas (electrones, átomos, moléculas). Por lo tanto, a diferencia del vacío, la densidad de carga ($\\rho$) y de corriente ($\\vec{J}$) eléctricas están presentes en las ecuaciones de Maxwell:\n",
    "\n",
    "\\begin{align*}\n",
    "\\nabla\\cdot\\vec{E} &= \\frac{\\rho}{\\varepsilon_0} \\\\\n",
    "\\nabla\\cdot\\vec{B} &= 0 \\\\\n",
    "\\nabla\\times\\vec{E} &= -\\mu_0\\frac{\\partial \\vec{H}}{\\partial t} \\\\\n",
    "\\nabla\\times\\vec{H} &= \\vec{J} + \\varepsilon_0\\frac{\\partial \\vec{E}}{\\partial t}\n",
    "\\end{align*}"
   ]
  },
  {
   "cell_type": "markdown",
   "id": "9d58d7cd",
   "metadata": {
    "cell_style": "center",
    "slideshow": {
     "slide_type": "slide"
    }
   },
   "source": [
    "Asumiendo un medio homogéneo, podemos demostrar que las ecuaciones de Maxwell se pueden reescribir en la forma:\n",
    "\n",
    "\\begin{align*}\n",
    "\\nabla\\cdot\\vec{E} &= 0 \\\\\n",
    "\\nabla\\cdot\\vec{H} &= 0 \\\\\n",
    "\\nabla\\times\\vec{E} &= -\\mu_0\\frac{\\partial \\vec{H}}{\\partial t} \\\\\n",
    "\\nabla\\times\\vec{H} &= \\varepsilon_0 \\varepsilon\\frac{\\partial\\vec{E}}{\\partial t}\n",
    "\\end{align*}\n",
    "\n",
    "donde $\\varepsilon = \\varepsilon' + i\\varepsilon''$, es la **constante dieléctrica compleja**."
   ]
  },
  {
   "cell_type": "markdown",
   "id": "104dc93c",
   "metadata": {
    "cell_style": "center",
    "slideshow": {
     "slide_type": "fragment"
    }
   },
   "source": [
    "Estas ecuaciones tiene la misma forma que las ecuaciones de Maxwell en el vacío. Así las ondas EM en un medio también se comportan como onda transversales, con la condición $\\hat{k}\\perp \\hat{e} \\perp \\hat{h}$."
   ]
  },
  {
   "cell_type": "markdown",
   "id": "5fb00820",
   "metadata": {
    "slideshow": {
     "slide_type": "fragment"
    }
   },
   "source": [
    "**¿Qué representa la constante dielectrica compleja?**"
   ]
  },
  {
   "cell_type": "markdown",
   "id": "200b930b",
   "metadata": {
    "cell_style": "center",
    "slideshow": {
     "slide_type": "slide"
    }
   },
   "source": [
    "Los materiales están compuestos de átomos, con un núcleo positivo y electrones negativos. La interacción de la luz con las cargas eléctricas en la materia induce oscilaciones que generan dos efectos:\n",
    "\n",
    "- **Polarización**. Formación de *dipolos eléctricos (polo eléctrico positivo y otro negativo separados por una distancia $d$)* **La parte real de la constante dieléctrica ($\\varepsilon'$) representa la intesidad de la polarización** *y esta directamente relacionada con la capacitancia.*\n",
    "\n",
    "- **Disipación de energía.** Producto de las coliciones entre núcleos, electrones, o entre núcleos y electrones. **La parte imaginaria de la constante dieléctrica ($\\varepsilon''$) representa la magnitud de la disipación de energía.** *Esta directamente relacionada con la resistividad eléctrica.*\n",
    "\n",
    "<img src=\"./images/constante_dielectrica.png\" width=\"800px\" align= center>"
   ]
  },
  {
   "cell_type": "markdown",
   "id": "e214507b",
   "metadata": {
    "slideshow": {
     "slide_type": "slide"
    }
   },
   "source": [
    "### Relación de dispersión e íncide de refracción"
   ]
  },
  {
   "cell_type": "markdown",
   "id": "509cb58c",
   "metadata": {
    "slideshow": {
     "slide_type": "fragment"
    }
   },
   "source": [
    "El principal cambio en la propagación de ondas en la materia está en la **relación de dispersión** ($\\omega$ vs $k$). En este caso:\n",
    "\n",
    "\\begin{equation}\n",
    "k = N \\frac{\\omega}{c_0} = Nk_0\n",
    "\\end{equation}\n",
    "\n",
    "donde $N = \\sqrt{\\varepsilon} = n +i\\kappa$, es el **índice de refracción complejo**. Aquí, $n$ se conoce como el **índice de refracción**, y $\\kappa$ como **extinción**."
   ]
  },
  {
   "cell_type": "markdown",
   "id": "d8b62f08",
   "metadata": {
    "slideshow": {
     "slide_type": "slide"
    }
   },
   "source": [
    "import empylib.nklib as nk\n",
    "import numpy as np\n",
    "import matplotlib.pyplot as pltEl **índice de refracción complejo es una propiedad del material**. En general, este valor varía con la longitud de onda (o frecuencia). "
   ]
  },
  {
   "cell_type": "code",
   "execution_count": 2,
   "id": "b0232189",
   "metadata": {
    "cell_style": "split",
    "slideshow": {
     "slide_type": "fragment"
    },
    "tags": [
     "hide-input"
    ]
   },
   "outputs": [],
   "source": [
    "%%capture show1\n",
    "import empylib.nklib as nk\n",
    "import numpy as np\n",
    "import matplotlib.pyplot as plt\n",
    "\n",
    "lam = np.linspace(0.3,1.0,100) # espectro de longitudes de onda (en micrones)\n",
    "N   = nk.gold(lam)              # índice de refracción complejo del agua\n",
    "\n",
    "plt.plot(lam,N.real,'-k' ,label='$n$')\n",
    "plt.plot(lam,N.imag,'--k',label='$\\kappa$')\n",
    "plt.xlabel('longitud de onda ($\\mu$m)')\n",
    "plt.ylabel('índice de refracción')\n",
    "plt.title('Índice de refracción del oro')\n",
    "plt.ylim(0)\n",
    "plt.legend()\n",
    "plt.show()"
   ]
  },
  {
   "cell_type": "code",
   "execution_count": 3,
   "id": "7fb87e64",
   "metadata": {
    "cell_style": "split",
    "tags": [
     "hide-input"
    ]
   },
   "outputs": [],
   "source": [
    "show1()"
   ]
  },
  {
   "cell_type": "markdown",
   "id": "eba1c88d",
   "metadata": {
    "cell_style": "center",
    "slideshow": {
     "slide_type": "slide"
    }
   },
   "source": [
    "**Los materiales no metálicos, comúnmente, toman valores reales constantes en el espectro visible**:\n",
    "\n",
    "<img src=\"./images/refractive_index_table.png\" width=\"700px\" align= center>"
   ]
  },
  {
   "cell_type": "markdown",
   "id": "e9169102",
   "metadata": {
    "cell_style": "center",
    "slideshow": {
     "slide_type": "fragment"
    }
   },
   "source": [
    "\n",
    "**¿Que significa que el vector de onda sea complejo?**"
   ]
  },
  {
   "cell_type": "markdown",
   "id": "6f5a7f4c",
   "metadata": {
    "cell_style": "split",
    "slideshow": {
     "slide_type": "slide"
    }
   },
   "source": [
    "Analicemos la solución general de la ecuación de onda:\n",
    "\n",
    "\\begin{align*}\n",
    "\\vec{E} &= E_0 e^{i\\left(\\vec{k}\\cdot\\vec{r} - \\omega t\\right)} \\hat{e} \\\\\n",
    "&= E_0 e^{i\\left(Nk_0\\hat{k}\\cdot\\vec{r} - \\omega t\\right)} \\hat{e} \\\\\n",
    "&= E_0 e^{i\\left(nk_0\\hat{k}\\cdot\\vec{r} - \\omega t\\right)}e^{-\\left(\\kappa k_0\\hat{k}\\cdot\\vec{r}\\right)} \\hat{e}\n",
    "\\end{align*}\n",
    "\n",
    "- **$e^{i\\left(nk_0\\hat{k}\\cdot\\vec{r} - \\omega t\\right)}$, expresa la parte oscilatoria de la onda**. La longitud de onda en el medio, entonces, tiene la forma:\n",
    "\n",
    "\\begin{equation}\n",
    "\\lambda_n = \\lambda/n\n",
    "\\end{equation}\n",
    "\n",
    "- **$e^{-\\left(\\kappa k_0\\hat{k}\\cdot\\vec{r}\\right)}$, indica el decaimiento de la onda,** proporcional a la extinción $\\kappa$."
   ]
  },
  {
   "cell_type": "markdown",
   "id": "d057a134",
   "metadata": {
    "cell_style": "split",
    "slideshow": {
     "slide_type": "fragment"
    }
   },
   "source": [
    "Gráficamente, asumiendo $\\hat{k} = \\hat{z}$:\n",
    "\n",
    "<img src=\"./images/decaying_wave.png\" width=\"350px\" align= center>"
   ]
  },
  {
   "cell_type": "markdown",
   "id": "283414ae",
   "metadata": {
    "slideshow": {
     "slide_type": "slide"
    }
   },
   "source": [
    "El cambio en la longitud de onda en un material también implica un cambio en la **velocidad de propagación de la onda:**\n",
    "\n",
    "\\begin{equation}\n",
    "v_\\mathrm{p} = \\mathrm{Re}\\left(\\frac{\\omega}{k}\\right) = \\frac{c_0}{n}\\quad\\quad\\mathrm{Velocidad~en~un~medio~con~índice~de~refracción}~N\n",
    "\\end{equation}"
   ]
  },
  {
   "cell_type": "markdown",
   "id": "7e58bb79",
   "metadata": {
    "slideshow": {
     "slide_type": "fragment"
    }
   },
   "source": [
    "> Notar que para $n > 1$ la onda se mueve a una velocidad más lenta que en el vacío"
   ]
  },
  {
   "cell_type": "markdown",
   "id": "0baf3330",
   "metadata": {
    "cell_style": "center",
    "slideshow": {
     "slide_type": "slide"
    }
   },
   "source": [
    "### Amplitud del campo magnético\n",
    "\n",
    "Igualmente, la relación entre $H_0$ y $E_0$ también cambia a la forma \n",
    "\n",
    "$$H_0 = \\frac{E_0}{Z_0Z_r},$$\n",
    "\n",
    "donde $Z_r = \\sqrt{\\frac{1}{\\varepsilon}}$ es la **impedancia relativa**."
   ]
  },
  {
   "cell_type": "markdown",
   "id": "99583534",
   "metadata": {
    "slideshow": {
     "slide_type": "fragment"
    }
   },
   "source": [
    "> Notar que $H_0$ es un número complejo, aún cuando $E_0$ es real."
   ]
  },
  {
   "cell_type": "markdown",
   "id": "ee96f906",
   "metadata": {
    "slideshow": {
     "slide_type": "slide"
    }
   },
   "source": [
    "### Flujo de energía (Vector de Poynting)"
   ]
  },
  {
   "cell_type": "markdown",
   "id": "67a02823",
   "metadata": {
    "slideshow": {
     "slide_type": "fragment"
    }
   },
   "source": [
    "El decaimiento de la amplitud de $E_0$ debido a $\\kappa$ ocurre debido a la absorción de energía electromagnética en el material. Para cuantificar está pérdida de energía debemos analizar el **vector de Poynting**, $\\langle\\vec{S}\\rangle = \\frac{1}{2}\\mathrm{Re}\\left(\\vec{E}\\times\\vec{H}^*\\right)$."
   ]
  },
  {
   "cell_type": "markdown",
   "id": "697376f8",
   "metadata": {
    "slideshow": {
     "slide_type": "fragment"
    }
   },
   "source": [
    "En este caso:\n",
    "\\begin{equation}\n",
    "\\langle\\vec{S}\\rangle =\\frac{nE_0^2}{2Z_0}e^{-\\alpha\\left(\\hat{k}\\cdot\\vec{r}\\right)}\n",
    "\\end{equation}\n",
    "\n",
    "donde $\\alpha = \\frac{4\\pi\\kappa}{\\lambda}$ es el **coeficiente de absorpción**."
   ]
  },
  {
   "cell_type": "markdown",
   "id": "fa4db6ca",
   "metadata": {
    "slideshow": {
     "slide_type": "fragment"
    }
   },
   "source": [
    "Este parámetro representa la pérdida de energía en la longitud."
   ]
  },
  {
   "cell_type": "markdown",
   "id": "186e9f7e",
   "metadata": {
    "cell_style": "center",
    "slideshow": {
     "slide_type": "slide"
    }
   },
   "source": [
    "En resumen, en un medio con cargas eléctricas:\n",
    "1. $\\vec{E}$ y $\\vec{H}$ se comportan como ondas trasversales de la forma $\\propto e^{ i\\left(\\vec{k}\\cdot\\vec{r} - \\omega t\\right)}$.\n",
    "\n",
    "2. $\\vec{E}$, $\\vec{H}$ y $\\vec{k}$ son mutuamente perpendiculares. \n",
    "\n",
    "3. La relación de dispersión es $k = N\\frac{\\omega}{c_0},$ donde $N = n + i\\kappa$ es el índice de refracción complejo.\n",
    "\n",
    "4. $N =\\sqrt{\\varepsilon} =\\sqrt{\\varepsilon'+i\\varepsilon''}$, donde $\\varepsilon$ es la constante dieléctrica\n",
    "\n",
    "5. $\\vec{E}$ y $\\vec{H}$ se propagan a una velocidad constante $c = c_0/n$\n",
    "\n",
    "6. La longitud de onda en un medio cambia a $\\lambda_n = \\lambda/n$\n",
    "\n",
    "7. $\\kappa$ representa el decaimiento de la onda en el espacio.\n",
    "\n",
    "8. Las amplitudes de $\\vec{E}$ y $\\vec{H}$ están asociadas por la relación ${H}_0 = \\frac{E_0}{Z_0Z_r}$, donde $Z_r = \\frac{1}{\\sqrt{\\varepsilon}}$."
   ]
  },
  {
   "cell_type": "markdown",
   "id": "2767246e",
   "metadata": {
    "cell_style": "center",
    "slideshow": {
     "slide_type": "slide"
    }
   },
   "source": [
    "<img src=\"./images/em_wave_decaying.jpg\" width=\"400px\" align= center>\n",
    "\n",
    "<center> Esquema de una onda electromagnética en un material</center>"
   ]
  },
  {
   "cell_type": "markdown",
   "id": "c7339c10",
   "metadata": {
    "slideshow": {
     "slide_type": "slide"
    }
   },
   "source": [
    "## Reflexión y transmisión en una interfaz"
   ]
  },
  {
   "cell_type": "markdown",
   "id": "de2f10ea",
   "metadata": {
    "slideshow": {
     "slide_type": "slide"
    }
   },
   "source": [
    "### Maxwell en la interfaz entre dos medios"
   ]
  },
  {
   "cell_type": "markdown",
   "id": "f7b45112",
   "metadata": {
    "slideshow": {
     "slide_type": "fragment"
    }
   },
   "source": [
    "Hasta ahora hemos revisado las ecuaciones de Maxwell en un medio homogeneo, y como estas dan lugar a la solución en forma de ondas electromagnéticas.\n",
    "\n",
    "> Recordemos que para un medio con índice de refracción $N$, la solución general es:\n",
    ">\n",
    ">\\begin{align*}\n",
    "\\vec{E} &= E_0 e^{i\\left(Nk_0\\hat{k}\\cdot\\vec{r} - \\omega t\\right)} \\hat{e} \\\\\n",
    "\\vec{H} &= \\frac{NE_0}{Z_0} e^{i\\left(Nk_0\\hat{k}\\cdot\\vec{r} - \\omega t\\right)} \\hat{k}\\times\\hat{e}\n",
    "\\end{align*}"
   ]
  },
  {
   "cell_type": "markdown",
   "id": "22a61931",
   "metadata": {
    "slideshow": {
     "slide_type": "slide"
    }
   },
   "source": [
    "**¿Que sucede cuando una onda electromagnética encuentra la frontera entre dos medios distintos?**"
   ]
  },
  {
   "cell_type": "markdown",
   "id": "d557ddef",
   "metadata": {
    "slideshow": {
     "slide_type": "fragment"
    }
   },
   "source": [
    "Como toda ecuación diferencial, la solución particular de las ecuaciones de Maxwell está definida por las **condiciones de borde**. La derivación, que no revisaremos aquí, da lugar a 4 condiciones de borde. Sin embargo, para los problemas que veremos en este curso solo se necesitan dos:\n",
    "\n",
    "\\begin{align*}\n",
    "E^{\\parallel}_1 - E^{\\parallel}_2 &= 0 \\\\\n",
    "H^{\\parallel}_1 - H^{\\parallel}_2 &= 0\n",
    "\\end{align*}\n",
    "\n",
    "donde $1$ y $2$ son dos medios distintos, y el símbolo $\\parallel$ representa la componente paralela a la interfaz entre los medios $1$ y $2$"
   ]
  },
  {
   "cell_type": "markdown",
   "id": "ed38561f",
   "metadata": {
    "slideshow": {
     "slide_type": "fragment"
    }
   },
   "source": [
    ">**Las componentes de $\\vec{E}$ y $\\vec{H}$ paralelas a la interfaz entre dos medios $1$ y $2$, se conservan.**"
   ]
  },
  {
   "cell_type": "markdown",
   "id": "231fa2b7",
   "metadata": {
    "slideshow": {
     "slide_type": "fragment"
    }
   },
   "source": [
    "Estas condiciones de borde nos darán la base para entender los fenómenos de refracción y reflección."
   ]
  },
  {
   "cell_type": "markdown",
   "id": "29746567",
   "metadata": {
    "slideshow": {
     "slide_type": "slide"
    }
   },
   "source": [
    "### Coeficientes de Fresnel"
   ]
  },
  {
   "cell_type": "markdown",
   "id": "b162d332",
   "metadata": {
    "cell_style": "split",
    "slideshow": {
     "slide_type": "fragment"
    }
   },
   "source": [
    "Consideremos una onda electromagnetética en dirección $\\hat{k}_i$ que incide sobre la interfaz entre dos medios 1 y 2, con índices de refracción reales $n_1$ y $n_2$, respectivamente\n",
    "\n",
    "Definimos como $\\hat{n}$ al vector normal al plano a la interfaz entre los dos medios, y como **plano de incidencia,** al plano formado por los vectores $\\hat{k}_i$ y $\\hat{n}$.\n",
    "\n",
    "La dirección de la onda reflejada y transmitida está definida por los vectores $\\hat{k}_r$ y $\\hat{k}_t$, respectivamente."
   ]
  },
  {
   "cell_type": "markdown",
   "id": "e9ca295b",
   "metadata": {
    "cell_style": "split"
   },
   "source": [
    "<img src=\"./images/plano_incidencia.png\" width=\"350px\" align= center>"
   ]
  },
  {
   "cell_type": "markdown",
   "id": "6860f66d",
   "metadata": {
    "slideshow": {
     "slide_type": "slide"
    }
   },
   "source": [
    "A partir de la dirección de $\\vec{E}$ y $\\vec{H}$ respecto al plano de incidencia, podemos distunguir dos polarizaciones:\n",
    "\n",
    "- Si **$\\vec{H}$ oscila en dirección perpendicular al plano de incidencia**, hablamos de una **polarización transversal magnética o TM**.\n",
    "\n",
    "- Si **$\\vec{E}$ oscila en dirección perpendicular al plano de incidencia**, hablamos de una **polarización transversal eléctrica o TE**."
   ]
  },
  {
   "cell_type": "markdown",
   "id": "f14a4173",
   "metadata": {
    "cell_style": "split",
    "slideshow": {
     "slide_type": "slide"
    }
   },
   "source": [
    "Como ejemplo, consideremos una **onda transversal magnética (TM)**\n",
    "\n",
    "<img src=\"./images/em_reflection.png\" width=\"350px\" align= center>\n",
    "\n",
    "La figura muestra la reflexión y transmisión de la onda visto desde el plano de incidencia"
   ]
  },
  {
   "cell_type": "markdown",
   "id": "780de9d4",
   "metadata": {
    "cell_style": "split",
    "slideshow": {
     "slide_type": "fragment"
    }
   },
   "source": [
    "A través de las ecuaciones de Maxwell, podemos establecer la solución general para cada onda electromagnética:\n",
    "\n",
    "\\begin{align*}\n",
    "\\vec{E}_i &= E_i e^{ i\\left(k_0n_1\\hat{k}_i\\cdot\\vec{r} - \\omega t\\right)} \\hat{e}_i\\quad\\quad \\mathrm{onda~incidente}\n",
    " \\\\\n",
    "\\vec{E}_r &= E_r e^{ i\\left(k_0n_1\\hat{k}_r\\cdot\\vec{r} - \\omega t\\right)} \\hat{e}_r\\quad\\quad \\mathrm{onda~reflejada}\n",
    "\\\\\n",
    "\\vec{E}_t &= E_t e^{ i\\left(k_0n_2\\hat{k}_t\\cdot\\vec{r} - \\omega t\\right)} \\hat{e}_t\\quad\\quad \n",
    "\\mathrm{onda~transmitida}\n",
    "\\end{align*}\n",
    "\n",
    "donde:\n",
    "\n",
    "\\begin{eqnarray*}\n",
    "\\hat{k}_i &=& \\hat{x}\\sin\\theta_i + \\hat{z}\\cos\\theta_i \n",
    "&\\quad\\mathrm{y}\\quad& \n",
    "\\hat{e}_i &=& \\hat{x}\\cos\\theta_i - \\hat{z}\\sin\\theta_i\n",
    "\\\\\n",
    "\\hat{k}_r &=& \\hat{x}\\sin\\theta_r - \\hat{z}\\cos\\theta_r\n",
    "&\\quad\\mathrm{y}\\quad& \n",
    "\\hat{e}_r &=& \\hat{x}\\cos\\theta_r + \\hat{z}\\sin\\theta_r\n",
    "\\\\\n",
    "\\hat{k}_t &=& \\hat{x}\\sin\\theta_t + \\hat{z}\\cos\\theta_t\n",
    "&\\quad\\mathrm{y}\\quad& \n",
    "\\hat{e}_t &=& \\hat{x}\\cos\\theta_t - \\hat{z}\\sin\\theta_t\n",
    "\\end{eqnarray*}"
   ]
  },
  {
   "cell_type": "markdown",
   "id": "4476682a",
   "metadata": {
    "cell_style": "center",
    "slideshow": {
     "slide_type": "slide"
    }
   },
   "source": [
    "Reemplazando en las soluciones generales,\n",
    "\n",
    "\\begin{eqnarray*}\n",
    "\\vec{E}_i &=& E_i e^{ ik_0n_1\\left(z\\cos\\theta_i + x\\sin\\theta_i\\right)}e^{-i\\omega t} \\left(\\hat{x}\\cos\\theta_i -\\hat{z}\\sin\\theta_i\\right)\\quad\\quad &&\\mathrm{onda~incidente}\n",
    " \\\\\n",
    "\\vec{E}_r &=& E_r e^{ ik_0n_1\\left(-z\\cos\\theta_r + x\\sin\\theta_r\\right)}e^{-i\\omega t} \\left(\\hat{x}\\cos\\theta_r +\\hat{z}\\sin\\theta_r\\right)\\quad\\quad &&\\mathrm{onda~reflejada}\n",
    "\\\\\n",
    "\\vec{E}_t &=& E_t e^{ ik_0n_2\\left(z\\cos\\theta_t + x\\sin\\theta_t\\right)}e^{-i\\omega t} \\left(\\hat{x}\\cos\\theta_t -\\hat{z}\\sin\\theta_t\\right)\\quad\\quad \n",
    "&&\\mathrm{onda~transmitida}\n",
    "\\end{eqnarray*}"
   ]
  },
  {
   "cell_type": "markdown",
   "id": "fe89145b",
   "metadata": {
    "slideshow": {
     "slide_type": "fragment"
    }
   },
   "source": [
    "De igual forma, a partir de la relación $\\vec{H} = \\frac{E}{Z_0Z_r}\\left(\\hat{k}\\times\\hat{e}\\right)$,\n",
    "\n",
    "\\begin{eqnarray*}\n",
    "\\vec{H}_i &=& \\frac{n_1E_i}{Z_0}e^{ ik_0n_1\\left(z\\cos\\theta_i + x\\sin\\theta_i\\right)}e^{-i\\omega t}\\left(\\hat{y}\\right)\\quad\\quad &&\\mathrm{onda~incidente}\n",
    " \\\\\n",
    "\\vec{H}_r &=& \\frac{n_1E_r}{Z_0} e^{ ik_0n_1\\left(-z\\cos\\theta_r + x\\sin\\theta_r\\right)}e^{-i\\omega t} \\left(-\\hat{y}\\right)\\quad\\quad &&\\mathrm{onda~reflejada}\n",
    "\\\\\n",
    "\\vec{H}_t &=& \\frac{n_2E_t}{Z_0} e^{ ik_0n_2\\left(z\\cos\\theta_t + x\\sin\\theta_t\\right)}e^{-i\\omega t} \\left(\\hat{y}\\right)\\quad\\quad \n",
    "&&\\mathrm{onda~transmitida}\n",
    "\\end{eqnarray*}"
   ]
  },
  {
   "cell_type": "markdown",
   "id": "dc334364",
   "metadata": {
    "slideshow": {
     "slide_type": "slide"
    }
   },
   "source": [
    "A partir de la condición de borde en la interfaz $z =0$:\n",
    "\n",
    "$$E^{\\parallel}_1|_{z=0} - E^{\\parallel}_2|_{z=0} = 0$$"
   ]
  },
  {
   "cell_type": "markdown",
   "id": "3b3ade24",
   "metadata": {
    "slideshow": {
     "slide_type": "fragment"
    }
   },
   "source": [
    "Tenemos:\n",
    "\n",
    "\\begin{equation}\n",
    "E_i\\cos\\theta_i e^{ ik_0n_1x\\sin\\theta_i}+E_r\\cos\\theta_r e^{ ik_0n_1x\\sin\\theta_r} - E_t\\cos\\theta_t e^{ ik_0n_1x\\sin\\theta_t} = 0\n",
    "\\end{equation}"
   ]
  },
  {
   "cell_type": "markdown",
   "id": "06d82130",
   "metadata": {
    "slideshow": {
     "slide_type": "fragment"
    }
   },
   "source": [
    "Dado que esta ecuación se debe satisfacer para cualquier punto $x$, los exponentes debe ser iguales:\n",
    "\n",
    "\\begin{equation*}\n",
    "n_1\\sin\\theta_i = n_1\\sin\\theta_r = n_2\\sin\\theta_t\n",
    "\\end{equation*}"
   ]
  },
  {
   "cell_type": "markdown",
   "id": "d24178a8",
   "metadata": {
    "slideshow": {
     "slide_type": "slide"
    }
   },
   "source": [
    "Esto nos lleva a las **leyes de Snell**, para reflexión y transmisión, válidas para una interfaz lisa:\n",
    "\n",
    "\\begin{equation}\n",
    "\\theta_i = \\theta_r\\quad\\quad\\mathrm{y}\\quad\\quad n_1\\sin\\theta_i = n_2\\sin\\theta_t\n",
    "\\end{equation}"
   ]
  },
  {
   "cell_type": "markdown",
   "id": "4014dbff",
   "metadata": {
    "slideshow": {
     "slide_type": "fragment"
    }
   },
   "source": [
    "La primera ($\\theta_i = \\theta_r$), indica que el ángulo de reflexión es siempre igual al ángulo de incidencia."
   ]
  },
  {
   "cell_type": "markdown",
   "id": "9f49b20c",
   "metadata": {
    "slideshow": {
     "slide_type": "fragment"
    }
   },
   "source": [
    "La segúnda ($n_1\\sin\\theta_i = n_2\\sin\\theta_t$), indica el ángulo de transmisión de una onda EM al atravesar por un medio distinto"
   ]
  },
  {
   "cell_type": "markdown",
   "id": "c0ea1d83",
   "metadata": {},
   "source": [
    "<img src=\"./images/refraction.png\" width=\"700px\" align= center>"
   ]
  },
  {
   "cell_type": "markdown",
   "id": "ebaf7f99",
   "metadata": {
    "slideshow": {
     "slide_type": "slide"
    }
   },
   "source": [
    "Aplicando la ley de Snell en la condición de borde del campo eléctrico (Eq. 2.5):\n",
    "\n",
    "\\begin{equation}\\label{eq:boundaryE}\n",
    "E_i\\cos\\theta_i +E_r\\cos\\theta_r  - E_t\\cos\\theta_t = 0\n",
    "\\end{equation}"
   ]
  },
  {
   "cell_type": "markdown",
   "id": "7ee20184",
   "metadata": {
    "slideshow": {
     "slide_type": "fragment"
    }
   },
   "source": [
    "De igual forma, de la condición de borde $H^{\\parallel}_1 - H^{\\parallel}_2 = 0$, deducimos:\n",
    "\n",
    "\\begin{equation}\n",
    "n_1E_i - n_1E_r  - n_2E_t = 0 \\label{eq:boundaryH}\n",
    "\\end{equation}"
   ]
  },
  {
   "cell_type": "markdown",
   "id": "b988e005",
   "metadata": {
    "slideshow": {
     "slide_type": "slide"
    }
   },
   "source": [
    "A partir de estas dos ecuaciones, determinamos los coeficientes de Fresnel de reflexión ($r_\\mathrm{TM}$) y transmisión ($t_\\mathrm{TM}$) para una onda TM:\n",
    "\n",
    "\\begin{align}\n",
    "r_\\mathrm{TM} &= \\frac{E_r^\\mathrm{TM}}{E_i^\\mathrm{TM}} = \\frac{n_1\\cos\\theta_t-n_2\\cos\\theta_i}\n",
    "{n_1\\cos\\theta_t+n_2\\cos\\theta_i}\n",
    "\\\\[10pt]\n",
    "t_\\mathrm{TM} &= \\frac{E_t^\\mathrm{TM}}{E_i^\\mathrm{TM}} =\\frac{2n_1\\cos\\theta_t}\n",
    "{n_1\\cos\\theta_t+n_2\\cos\\theta_i}\n",
    "\\end{align}"
   ]
  },
  {
   "cell_type": "markdown",
   "id": "6b9df308",
   "metadata": {
    "slideshow": {
     "slide_type": "fragment"
    }
   },
   "source": [
    "Similarmente, para una onda transversal eléctrica (TE), los coeficientes de Fresnel son:\n",
    "\n",
    "\\begin{align}\n",
    "r_\\mathrm{TE} &= \\frac{E_r^\\mathrm{TE}}{E_i^\\mathrm{TE}} = \\frac{n_1\\cos\\theta_i -n_2\\cos\\theta_t}\n",
    "{n_1\\cos\\theta_i+n_2\\cos\\theta_t}\n",
    "\\\\[10pt]\n",
    "t_\\mathrm{TE} &= \\frac{E_t^\\mathrm{TE}}{E_i^\\mathrm{TE}} = \\frac{2n_1\\cos\\theta_i}\n",
    "{n_1\\cos\\theta_i+n_2\\cos\\theta_t}\n",
    "\\end{align}"
   ]
  },
  {
   "cell_type": "markdown",
   "id": "0f85e108",
   "metadata": {
    "slideshow": {
     "slide_type": "slide"
    }
   },
   "source": [
    ">Las relaciones para los coeficientes de Fresnel se mantienen para índices de refracción complejos. En este caso, solo debemos reemplazar $n_1$ por $N_1$, y $n_2$ por $N_2$"
   ]
  },
  {
   "cell_type": "markdown",
   "id": "6e1bbe42",
   "metadata": {
    "cell_style": "center",
    "slideshow": {
     "slide_type": "slide"
    }
   },
   "source": [
    "### Reflectividad y transmisividad"
   ]
  },
  {
   "cell_type": "markdown",
   "id": "3502a921",
   "metadata": {
    "cell_style": "center"
   },
   "source": [
    "Los coeficientes de Fresnel permiten determinar la magnitud del campo eléctrico (y magnético) reflejado y transmitido por una interfaz. Para determinar el flujo de energía a través de la interfaz, utilizamos el vector de Poynting. En el caso de la onda $\\mathrm{TM}$, y considerando el caso más general con indices de refracción complejos en los medios 1 y 2:\n",
    "\n",
    "\\begin{eqnarray*}\n",
    "\\biggl\\langle{\\vec{S}_i^\\mathrm{TM}}\\biggl\\rangle &=& \\frac{1}{2}\\mathrm{Re}\\left[\\vec{E}_i\\times\\vec{H}_i^*\\right] &=& \\mathrm{Re}\\left[N_1^* \\hat{k}_i\\right]\\frac{{\\left(E_i^\\mathrm{TM}\\right)}^2}{2Z_0}\n",
    "\\\\\n",
    "\\biggl\\langle{\\vec{S}_r^\\mathrm{TM}}\\biggl\\rangle &=& \\frac{1}{2}\\mathrm{Re}\\left[\\vec{E}_r\\times\\vec{H}_r^*\\right] &=& \\mathrm{Re}\\left[N_1^* \\hat{k}_r\\right]\\frac{{\\left(E_r^\\mathrm{TM}\\right)}^2}{2Z_0}\n",
    "\\\\\n",
    "\\biggl\\langle{\\vec{S}_t^\\mathrm{TM}}\\biggl\\rangle &=& \\frac{1}{2}\\mathrm{Re}\\left[\\vec{E}_t\\times\\vec{H}_t^*\\right] &=& \\mathrm{Re}\\left[N_2^* \\hat{k}_t\\right]\\frac{{\\left(E_t^\\mathrm{TM}\\right)}^2}{2Z_0}\n",
    "\\end{eqnarray*}"
   ]
  },
  {
   "cell_type": "markdown",
   "id": "ccd07a27",
   "metadata": {
    "cell_style": "center",
    "slideshow": {
     "slide_type": "slide"
    }
   },
   "source": [
    "La **reflectividad ($R$)** y **transmissivitdad ($T$)** se definen, repectivamente, como **el flujo de energía reflejada y transmitida relativa al flujo de energía incidente, y en dirección normal a la interfaz.** "
   ]
  },
  {
   "cell_type": "markdown",
   "id": "5d579128",
   "metadata": {
    "cell_style": "center",
    "slideshow": {
     "slide_type": "fragment"
    }
   },
   "source": [
    "Estamos interesados en el flujo de energía a través de la interfaz. Así, consideramos la componente del vector de Poynting paralela a $\\hat{n}$ (notar que $\\hat{n} = - \\hat{z}$ en nuestro ejemplo), de donde obtenemos:\n",
    "\n",
    "**Onda con polarización TM**\n",
    "\\begin{eqnarray}\n",
    "R_\\mathrm{TM} &=& \\frac{S_{r,z}^\\mathrm{TM}}{S_{i,z}^\\mathrm{TM}} &=& \\lvert r_\\mathrm{TM}\\rvert^2\n",
    "\\\\[10pt]\n",
    "T_\\mathrm{TM} &=& \\frac{S_{t,z}^\\mathrm{TM}}{S_{i,z}^\\mathrm{TM}} &=& \\frac{\\mathrm{Re}\\left(N_2^*\\cos\\theta_t\\right)}{\\mathrm{Re}\\left(N_1^*\\cos\\theta_i\\right)}\\lvert t_\\mathrm{TM}\\rvert^2\n",
    "\\end{eqnarray}"
   ]
  },
  {
   "cell_type": "markdown",
   "id": "2f057d84",
   "metadata": {
    "cell_style": "center",
    "slideshow": {
     "slide_type": "fragment"
    }
   },
   "source": [
    "**Onda con polarización TE**\n",
    "\n",
    "\\begin{eqnarray}\n",
    "R_\\mathrm{TE} &=& \\lvert r_\\mathrm{TE}\\rvert^2\n",
    "\\\\[10pt]\n",
    "T_\\mathrm{TE} &=& \\frac{\\mathrm{Re}\\left(N_2\\cos\\theta_t\\right)}{\\mathrm{Re}\\left(N_1\\cos\\theta_i\\right)}\\lvert t_\\mathrm{TE}\\rvert^2\n",
    "\\end{eqnarray}"
   ]
  },
  {
   "cell_type": "markdown",
   "id": "27f6fc55",
   "metadata": {
    "slideshow": {
     "slide_type": "fragment"
    }
   },
   "source": [
    "Notar que por conservación de energía:\n",
    "\\begin{equation}\n",
    "R + T = 1\n",
    "\\end{equation}"
   ]
  },
  {
   "cell_type": "markdown",
   "id": "187bf3c4",
   "metadata": {
    "slideshow": {
     "slide_type": "slide"
    }
   },
   "source": [
    "### Casos particulares"
   ]
  },
  {
   "cell_type": "markdown",
   "id": "071f50fa",
   "metadata": {
    "cell_style": "center",
    "slideshow": {
     "slide_type": "-"
    }
   },
   "source": [
    "Asumiendo dos medios 1 y 2, con índice de refracción real, analicemos la reflectancia en función del ángulo de incidencia:\n",
    "- caso 1, $n_1 < n_2$\n",
    "- caso 2, $n_1 > n_2$"
   ]
  },
  {
   "cell_type": "code",
   "execution_count": 4,
   "id": "8d7bed6f",
   "metadata": {
    "cell_style": "split",
    "slideshow": {
     "slide_type": "slide"
    },
    "tags": [
     "hide-input"
    ]
   },
   "outputs": [],
   "source": [
    "import numpy as np\n",
    "from numpy import radians as rad # convertimos grados a radianes\n",
    "import matplotlib.pyplot as plt\n",
    "from empylib.waveoptics import interface\n",
    "\n",
    "theta = np.linspace(0,90,100) # Ángulo de incidencia\n",
    "\n",
    "# preparamos el ploteo\n",
    "def plot_R_interface(n1,n2):\n",
    "    \n",
    "    # Reflectividad en una interface\n",
    "    Rp = interface(rad(theta),n1,n2,pol='TM')[0] # TM\n",
    "    Rs = interface(rad(theta),n1,n2,pol='TE')[0] # TE\n",
    "    \n",
    "    fig, ax = plt.subplots()\n",
    "    fig.set_size_inches(5,3)\n",
    "    plt.rcParams['font.size'] = '14'\n",
    "    ax.plot(theta,Rp, label='$R_\\mathrm{TM}$', color='red')\n",
    "    ax.plot(theta,Rs, label='$R_\\mathrm{TE}$',color='blue')\n",
    "    ax.set_xlim([0,90])\n",
    "    ax.set_ylim([0,1.0])\n",
    "    ax.set_xlabel('Ángulo de incidencia (°)')\n",
    "    ax.set_ylabel('Reflectividad')\n",
    "    ax.legend(frameon=False)\n",
    "    plt.show()"
   ]
  },
  {
   "cell_type": "code",
   "execution_count": 5,
   "id": "42d89872",
   "metadata": {
    "cell_style": "split",
    "scrolled": false,
    "tags": [
     "hide-input"
    ]
   },
   "outputs": [],
   "source": [
    "from ipywidgets import interact\n",
    "\n",
    "@interact( n1=(1,5, 0.1), n2=(1,5, 0.1))\n",
    "def g(n1=1.0, n2=1.5):\n",
    "    return plot_R_interface(n1,n2)"
   ]
  },
  {
   "cell_type": "markdown",
   "id": "63a4161a",
   "metadata": {
    "cell_style": "center",
    "slideshow": {
     "slide_type": "slide"
    }
   },
   "source": [
    "Cuando $n_1 < n_2$ vemos que $R_\\mathrm{TM} = 0$ en un cierto ángulo. Este ángulo se denomina **ángulo de Brewster.** En este ángulo solo la componente TE es reflejada. "
   ]
  },
  {
   "cell_type": "markdown",
   "id": "b5158912",
   "metadata": {
    "cell_style": "split",
    "slideshow": {
     "slide_type": "fragment"
    }
   },
   "source": [
    "Los lentes polarizados toman ventaja del ángulo de Brewster. Estos lentes están diseñados para bloquear las ondas TE, y de esta forma reducir el brillo enceguecedor generado por la reflección de la luz solar"
   ]
  },
  {
   "cell_type": "markdown",
   "id": "2edd4f05",
   "metadata": {
    "cell_style": "split",
    "slideshow": {
     "slide_type": "-"
    }
   },
   "source": [
    "<img src=\"./images/polarized_glasses.jpg\" width=\"350px\" align= center>"
   ]
  },
  {
   "cell_type": "markdown",
   "id": "8884b02f",
   "metadata": {
    "slideshow": {
     "slide_type": "fragment"
    }
   },
   "source": [
    "Así, si giramos los lentes en posición vertical (asumiento lentes con alto nivel de polarización), el efecto se invierte. Es decir, las ondas TE se transmiten y las TM no."
   ]
  },
  {
   "cell_type": "markdown",
   "id": "247f0d78",
   "metadata": {
    "slideshow": {
     "slide_type": "slide"
    }
   },
   "source": [
    "En el siguiente video, podemos ver el efecto de la polarización. Aquí, la luz no puede pasar a través de dos polarizadores cuando son oriententados en direcciones perpendiculares."
   ]
  },
  {
   "cell_type": "code",
   "execution_count": 6,
   "id": "79a6b530",
   "metadata": {
    "slideshow": {
     "slide_type": "fragment"
    },
    "tags": [
     "remove-input"
    ]
   },
   "outputs": [],
   "source": [
    "from IPython.display import YouTubeVideo\n",
    "YouTubeVideo('5SIxEiL8ujA', width=600, height=400,  playsinline=0, start=0)"
   ]
  },
  {
   "cell_type": "markdown",
   "id": "facd7e0b",
   "metadata": {
    "slideshow": {
     "slide_type": "slide"
    }
   },
   "source": [
    "Por otro lado, cuando $n_1 > n_2$, vemos que $R_\\mathrm{TM} = R_\\mathrm{TE} = 0$ sobre cierto ángulo. Este ángulo se denomina **ángulo crítico ($\\theta_c$).** Para deterinar el ángulo crítico usamos la ley de Snell."
   ]
  },
  {
   "cell_type": "markdown",
   "id": "65963ef2",
   "metadata": {
    "cell_style": "split"
   },
   "source": [
    "El ángulo máximo para la onda transmitida es $\\theta_t = 90^o$, la ley de Snell nos indica que existe un ángulo crítico. Sobre este valor, no existe solución real.\n",
    "\n",
    "\\begin{equation}\n",
    "n_1\\sin\\theta_c = n_2\\sin90^o \\Rightarrow \\theta_c = \\arcsin\\left(n_2/n_1\\right)\n",
    "\\end{equation}\n",
    "\n",
    "**Para $\\theta_i > \\theta_c$, $R_\\mathrm{TE} = R_\\mathrm{TM} = 1$.**"
   ]
  },
  {
   "cell_type": "markdown",
   "id": "34422d42",
   "metadata": {
    "cell_style": "split"
   },
   "source": [
    "Este mecanismo se llama **reflección interna total** y es la base para el funcionamiento de fibras ópticas y lasers\n",
    "<img src=\"./images/optical_fiber.png\" width=\"450px\" align= center>"
   ]
  },
  {
   "cell_type": "markdown",
   "id": "5536a48a",
   "metadata": {
    "slideshow": {
     "slide_type": "slide"
    }
   },
   "source": [
    "## Reflección y transmissión en películas delgadas\n",
    "En el caso materiales de película delgada, las ondas electromagnéticas se reflejan y transmiten múltiples veces.\n",
    "\n",
    "<img src=\"./images/reflectance_thinfilm.png\" width=\"600px\" align= center>"
   ]
  },
  {
   "cell_type": "markdown",
   "id": "6937e4c8",
   "metadata": {
    "slideshow": {
     "slide_type": "slide"
    }
   },
   "source": [
    "### Coeficientes de Fresnel\n",
    "\n",
    "Considerando los medios 1,2 y 3 ordenados consecutivamente en dirección de la onda incidente, con el medio 2 condicionado por un espesor $d$, se puede demostrar que en este caso los **coeficientes de Fresnel** son:\n",
    "\n",
    "\\begin{align}\n",
    "r &= \\frac{r_{12}+r_{23}e^{2i\\varphi_2}}\n",
    "          {1+r_{12}r_{23}e^{2i\\varphi_2}}\n",
    "\\\\[10pt]\n",
    "t &= \\frac{t_{12}t_{23}e^{i\\varphi_2}}\n",
    "          {1+r_{12}r_{23}e^{2i\\varphi_2}}\n",
    "\\end{align}\n",
    "\n",
    "donde $\\varphi_2 = N_2k_0d\\cos\\theta_2$ ($\\theta_2$ es el ángulo de transmisión en el medio 2); $r_{12}$, $r_{23}$ y $t_{12}$, $t_{23}$ son, respectivamente, los coeficientes de Fresnel desde el medio 1 al medio 2, y desde el medio 2 al medio 3. Estas fórmulas son válidas tanto para ondas TE como para ondas TM."
   ]
  },
  {
   "cell_type": "markdown",
   "id": "09d5bb96",
   "metadata": {
    "slideshow": {
     "slide_type": "slide"
    }
   },
   "source": [
    "### Reflectividad y transmisividad\n",
    "\n",
    "Basado en estas expresiones, podemos calcular la reflectividad y tranmissividad de la película:\n",
    "\n",
    "\\begin{align}\n",
    "R = {\\lvert r\\rvert}^2 &= \\frac{r_{12}^2+r_{23}^2+2r_{12}r_{23}\\cos 2\\varphi_2}\n",
    "                              {1 + 2r_{12}r_{23}\\cos 2\\varphi_2 + r_{12}^2r_{23}^2}\n",
    "\\\\[10pt]\n",
    "T = \\frac{n_3\\cos\\theta_t}{n_1\\cos\\theta_i}{\\lvert t\\rvert}^2 &= \n",
    "\\frac{\\left(1 - r_{12}^2\\right)\\left(1 - r_{23}^2\\right)}\n",
    "     {1 + 2r_{12}r_{23}\\cos 2\\varphi_2 + r_{12}^2r_{23}^2}\n",
    "\\end{align}"
   ]
  },
  {
   "cell_type": "markdown",
   "id": "9e4bca52",
   "metadata": {
    "slideshow": {
     "slide_type": "slide"
    }
   },
   "source": [
    "### Intererencia en ondas EM\n",
    "\n",
    "Como ejemplo, consideremos la reflectividad de una película delgada de sílice (SiO$_2$) sobre un sustrato de silicio. Esta capa se genera naturalmente debido a la oxidación del silicio\n",
    "\n",
    "<img src=\"./images/sio2_coating.png\" width=\"600px\" align= center>\n",
    "\n",
    "Para simplificar, consideremos:\n",
    "- índice de refracción del aire: 1.0\n",
    "- índice de refracción de sílice: 1.5\n",
    "- índice de refracción del silicio: 4.3\n",
    "- espectro de longitudes de onda: 300 - 800 nm (visible)\n",
    "- espesor del sílice, $d$: variable\n",
    "- ángulo de incidencia $\\theta_i$: variable"
   ]
  },
  {
   "cell_type": "code",
   "execution_count": 7,
   "id": "e4453a7a",
   "metadata": {
    "cell_style": "split",
    "slideshow": {
     "slide_type": "slide"
    },
    "tags": [
     "hide-input"
    ]
   },
   "outputs": [],
   "source": [
    "import numpy as np\n",
    "from numpy import radians as rad # convertimos grados a radianes\n",
    "import matplotlib.pyplot as plt\n",
    "from empylib.waveoptics import multilayer\n",
    "\n",
    "# Reflectividad en capa delgada\n",
    "lam = np.linspace(0.3,0.8,100)          # longitud de onda (en um)\n",
    "n_layers = (1.0,1.5,4.3)     # índices de refracción n1, n2, n3\n",
    "\n",
    "# preparamos el ploteo\n",
    "def plot_R_multi(theta,d):\n",
    "    \n",
    "    Rp = multilayer(lam, rad(theta),n_layers, (d,), 'TM')[0]\n",
    "    Rs = multilayer(lam, rad(theta),n_layers, (d,), 'TE')[0]\n",
    "    \n",
    "    fig, ax = plt.subplots()\n",
    "    fig.set_size_inches(5, 3)\n",
    "    plt.rcParams['font.size'] = '14'\n",
    "    ax.plot(lam,Rp, label='$R_\\mathrm{TM}$', color='red')\n",
    "    ax.plot(lam,Rs, label='$R_\\mathrm{TE}$',color='blue')\n",
    "    ax.set_xlim([min(lam),max(lam)])\n",
    "    ax.set_ylim([0,1.0])\n",
    "    ax.set_xlabel('Longitud de onda ($\\mu$m)')\n",
    "    ax.set_ylabel('Reflectividad')\n",
    "    ax.legend(frameon=False)\n",
    "    plt.show()"
   ]
  },
  {
   "cell_type": "code",
   "execution_count": 8,
   "id": "97271595",
   "metadata": {
    "cell_style": "split",
    "tags": [
     "hide-input"
    ]
   },
   "outputs": [],
   "source": [
    "from ipywidgets import interact\n",
    "\n",
    "@interact(theta=(0,89,10), d=(0,1.0,0.01))\n",
    "def g(theta=30, d=0.3):\n",
    "    return plot_R_multi(theta,d)"
   ]
  },
  {
   "cell_type": "markdown",
   "id": "4715d23e",
   "metadata": {
    "slideshow": {
     "slide_type": "slide"
    }
   },
   "source": [
    "Esta oscilaciones en la reflectancia al variar $\\theta_i$ y $d$ son el resultado de la **interferencia** entre las ondas reflejadas en la parte inferior y superior de la película de silicio."
   ]
  },
  {
   "cell_type": "markdown",
   "id": "43438f9c",
   "metadata": {
    "cell_style": "split",
    "slideshow": {
     "slide_type": "-"
    }
   },
   "source": [
    "<img src=\"./images/interference.png\" width=\"350px\" align= center>"
   ]
  },
  {
   "cell_type": "markdown",
   "id": "4037e868",
   "metadata": {
    "cell_style": "split",
    "slideshow": {
     "slide_type": "fragment"
    }
   },
   "source": [
    "En palabras simples, este fenómeno ocurre por qué la onda reflejada en la parte inferior de la película debe recorre un camino más largo. Esto produce un desface con las ondas reflejadas en la parte superior que deriva en interferencia constructiva (alta reflectividad) y destructiva (baja reflectividad)"
   ]
  },
  {
   "cell_type": "markdown",
   "id": "2af5990e",
   "metadata": {
    "cell_style": "split",
    "slideshow": {
     "slide_type": "fragment"
    }
   },
   "source": [
    "Este fenómeno se manifiesta en forma de color ya que nuestros ojos son sensibles a los cambios de radiación en este espectro. \n",
    "\n",
    "> Se recomienda revisar esta [animación para entender el fenómeno](https://javalab.org/en/light_interference_on_cd_surface_en/)"
   ]
  },
  {
   "cell_type": "markdown",
   "id": "93e2c9e8",
   "metadata": {
    "slideshow": {
     "slide_type": "slide"
    }
   },
   "source": [
    "Analicemos como se manifiesta este fenómeno en forma de color:"
   ]
  },
  {
   "cell_type": "code",
   "execution_count": 9,
   "id": "04a79ec0",
   "metadata": {
    "cell_style": "split",
    "slideshow": {
     "slide_type": "-"
    },
    "tags": [
     "hide-input"
    ]
   },
   "outputs": [],
   "source": [
    "import numpy as np\n",
    "from numpy import radians as rad # convertimos grados a radianes\n",
    "import matplotlib.pyplot as plt\n",
    "from empylib.waveoptics import multilayer\n",
    "from empylib.ref_spectra import AM15\n",
    "from empylib.ref_spectra import color_system as cs\n",
    "cs = cs.hdtv\n",
    "\n",
    "# Reflectividad en capa delgada\n",
    "lam = np.linspace(0.3,0.8,100)   # longitud de onda (en um)\n",
    "n_layers = (1.0,1.5,4.3)         # índices de refracción n1, n2, n3\n",
    "\n",
    "cs.interp_internals(lam)\n",
    "def color_R_film(d):\n",
    "    Rp = lambda tt,d : multilayer(lam, rad(tt),n_layers, (d,), 'TM')[0]\n",
    "    Rs = lambda tt,d : multilayer(lam, rad(tt),n_layers, (d,), 'TE')[0]\n",
    "    \n",
    "    # formateamos la figura\n",
    "    fig, ax = plt.subplots()\n",
    "    fig.set_size_inches(6, 4)\n",
    "    plt.rcParams['font.size'] = '14'\n",
    "    \n",
    "    theta = np.linspace(0,90,100) # angulo de inciSdencia\n",
    "    for tt in theta: \n",
    "        R = 0.5*Rp(tt,d) + 0.5*Rs(tt,d)\n",
    "        Irad = R*AM15(lam)\n",
    "        html_rgb = cs.spec_to_rgb(Irad, out_fmt='html')\n",
    "        ax.axvline(tt, color=html_rgb, linewidth=6) \n",
    "    ax.set_xlim([min(theta),max(theta)])\n",
    "    ax.set_ylim([0,1.0])\n",
    "    ax.axes.yaxis.set_visible(False)\n",
    "    ax.set_xlabel('Ángulo de incidencia (deg)')\n",
    "    plt.show()"
   ]
  },
  {
   "cell_type": "code",
   "execution_count": 10,
   "id": "dd72f038",
   "metadata": {
    "cell_style": "split",
    "tags": [
     "hide-input"
    ]
   },
   "outputs": [],
   "source": [
    "from ipywidgets import interact\n",
    "\n",
    "@interact(d=(0,1.0,0.001))\n",
    "def g(d=0.28):\n",
    "    return color_R_film(d)"
   ]
  },
  {
   "cell_type": "markdown",
   "id": "17c1dc23",
   "metadata": {
    "slideshow": {
     "slide_type": "slide"
    }
   },
   "source": [
    "## Referencias\n",
    "Griffths D., *Introduction to Electrodynamics*, 4th Ed, Pearson, 2013\n",
    "- 7.3 Maxwell's Equations (7.36)\n",
    "- 9 Electromagnetic Waves (9.3 y 9.4)"
   ]
  }
 ],
 "metadata": {
  "celltoolbar": "Slideshow",
  "kernelspec": {
   "display_name": "Python 3 (ipykernel)",
   "language": "python",
   "name": "python3"
  },
  "language_info": {
   "codemirror_mode": {
    "name": "ipython",
    "version": 3
   },
   "file_extension": ".py",
   "mimetype": "text/x-python",
   "name": "python",
   "nbconvert_exporter": "python",
   "pygments_lexer": "ipython3",
   "version": "3.10.11"
  },
  "latex_envs": {
   "LaTeX_envs_menu_present": true,
   "autoclose": true,
   "autocomplete": true,
   "bibliofile": "biblio.bib",
   "cite_by": "apalike",
   "current_citInitial": 1,
   "eqLabelWithNumbers": true,
   "eqNumInitial": 1,
   "hotkeys": {
    "equation": "Ctrl-E",
    "itemize": "Ctrl-I"
   },
   "labels_anchors": false,
   "latex_user_defs": false,
   "report_style_numbering": false,
   "user_envs_cfg": false
  },
  "toc": {
   "base_numbering": 1,
   "nav_menu": {},
   "number_sections": true,
   "sideBar": true,
   "skip_h1_title": true,
   "title_cell": "Tabla de contenidos",
   "title_sidebar": "Contenidos",
   "toc_cell": false,
   "toc_position": {
    "height": "calc(100% - 180px)",
    "left": "10px",
    "top": "150px",
    "width": "307.2px"
   },
   "toc_section_display": true,
   "toc_window_display": false
  },
  "varInspector": {
   "cols": {
    "lenName": 16,
    "lenType": 16,
    "lenVar": 40
   },
   "kernels_config": {
    "python": {
     "delete_cmd_postfix": "",
     "delete_cmd_prefix": "del ",
     "library": "var_list.py",
     "varRefreshCmd": "print(var_dic_list())"
    },
    "r": {
     "delete_cmd_postfix": ") ",
     "delete_cmd_prefix": "rm(",
     "library": "var_list.r",
     "varRefreshCmd": "cat(var_dic_list()) "
    }
   },
   "types_to_exclude": [
    "module",
    "function",
    "builtin_function_or_method",
    "instance",
    "_Feature"
   ],
   "window_display": false
  }
 },
 "nbformat": 4,
 "nbformat_minor": 5
}
