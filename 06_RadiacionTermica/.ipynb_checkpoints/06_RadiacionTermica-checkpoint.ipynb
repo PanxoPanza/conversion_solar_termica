{
 "cells": [
  {
   "cell_type": "code",
   "execution_count": 1,
   "id": "3c597da7",
   "metadata": {
    "slideshow": {
     "slide_type": "skip"
    },
    "tags": [
     "remove-cell"
    ]
   },
   "outputs": [],
   "source": [
    "import importlib.util\n",
    "if importlib.util.find_spec('empylib') is None:\n",
    "    !pip install git+https://github.com/PanxoPanza/empylib.git"
   ]
  },
  {
   "cell_type": "code",
   "execution_count": null,
   "id": "667e6ece",
   "metadata": {},
   "outputs": [],
   "source": []
  },
  {
   "cell_type": "markdown",
   "id": "8b01ca79",
   "metadata": {
    "slideshow": {
     "slide_type": "slide"
    }
   },
   "source": [
    "# Radiación Térmica"
   ]
  },
  {
   "cell_type": "markdown",
   "id": "e21d64ae",
   "metadata": {
    "slideshow": {
     "slide_type": "slide"
    }
   },
   "source": [
    "## Introducción a la Transferencia de Calor\n",
    "A nivel molecular, los átomos en la materia siempre están vibrando. La magnitud de estas vibraciones está caracterizada estadísticamente por la temperatura:"
   ]
  },
  {
   "cell_type": "markdown",
   "id": "35dd953b",
   "metadata": {},
   "source": [
    "<img src=\"./images/temperature_brownian_motion.gif\" width=\"400px\" align= center>"
   ]
  },
  {
   "cell_type": "markdown",
   "id": "7810d826",
   "metadata": {
    "cell_style": "center",
    "slideshow": {
     "slide_type": "slide"
    }
   },
   "source": [
    "Consideremos un sólido extendido con una diferencia de temperatura, $\\Delta T$, entre sus extremos, tal que el lado izquierdo tiene una mayor temperatura que el lado derecho"
   ]
  },
  {
   "cell_type": "markdown",
   "id": "5407e5b7",
   "metadata": {
    "cell_style": "split",
    "slideshow": {
     "slide_type": "fragment"
    }
   },
   "source": [
    "<img src=\"./images/heat_transfer.gif\" width=\"300px\" align= center>"
   ]
  },
  {
   "cell_type": "markdown",
   "id": "85b590b5",
   "metadata": {
    "cell_style": "split",
    "slideshow": {
     "slide_type": "fragment"
    }
   },
   "source": [
    "Debido a la diferencia de temperatura, la vibración molecular en el lado izquierdo es mayor. Esta energía cinética es transmitida a través del material hacia el lado derecho."
   ]
  },
  {
   "cell_type": "markdown",
   "id": "6f302797",
   "metadata": {
    "slideshow": {
     "slide_type": "slide"
    }
   },
   "source": [
    "Definimos como **calor**, $Q$, a la energía térmica intercambiada entre dos medios cuya diferencia de temperatura es $\\Delta T$. A mayor $\\Delta T$, mayor es el intercambio de calor, matemáticamente: \n",
    "\n",
    "\\begin{equation*}\n",
    "Q \\propto \\Delta T,\\quad\\mathrm{J}\n",
    "\\end{equation*}\n",
    "\n"
   ]
  },
  {
   "cell_type": "markdown",
   "id": "05b934bc",
   "metadata": {
    "slideshow": {
     "slide_type": "fragment"
    }
   },
   "source": [
    "La **tasa de transferencia de calor**:\n",
    "\\begin{equation*}\n",
    "\\dot{Q} = \\frac{dQ}{dt},\\quad\\mathrm{W}\n",
    "\\end{equation*}\n",
    "\n",
    "corresponde al calor tranferido por unidad de tiempo."
   ]
  },
  {
   "cell_type": "markdown",
   "id": "8aface27",
   "metadata": {
    "slideshow": {
     "slide_type": "fragment"
    }
   },
   "source": [
    "Por último, definimos como **flujo de calor**: \n",
    "\\begin{equation*}\n",
    "q'' = \\dot{Q}/A,\\quad\\frac{\\mathrm{W}}{\\mathrm{m}^2}\n",
    "\\end{equation*}\n",
    "\n",
    "a la tasa de transferencia de calor por unidad de área."
   ]
  },
  {
   "cell_type": "markdown",
   "id": "2c634772",
   "metadata": {
    "cell_style": "split",
    "slideshow": {
     "slide_type": "slide"
    }
   },
   "source": [
    "Existen tres mecanismo de transferencia de calor:\n",
    "\n",
    "- Conducción de calor\n",
    "- Convección de calor\n",
    "- Radiación"
   ]
  },
  {
   "cell_type": "markdown",
   "id": "a3e69153",
   "metadata": {
    "cell_style": "split",
    "slideshow": {
     "slide_type": "-"
    }
   },
   "source": [
    "<img src=\"./images/heat_transfer_mechanism.png\" width=\"500px\" align= center>"
   ]
  },
  {
   "cell_type": "markdown",
   "id": "ccaa08be",
   "metadata": {
    "slideshow": {
     "slide_type": "slide"
    }
   },
   "source": [
    "### Transferencia de calor por conducción\n",
    "**Definimos como *conducción de calor* al calor transferido a través de un material en reposo**. El mecanismo generalmente se asocia a **sólidos**, donde el calor es transferido a travéz de la red atómica del material. Sin embargo, la definición también incluye **líquidos y gases en reposo.** En este caso, las moléculas se mueven aleatoriamente, de manera tal que la velocidad neta del fluido es cero."
   ]
  },
  {
   "cell_type": "markdown",
   "id": "183006ce",
   "metadata": {
    "slideshow": {
     "slide_type": "fragment"
    }
   },
   "source": [
    "Matemáticamente, para un material de espesor $t$ y diferencia de temperatura $\\Delta T$, la **taza de transferencia de calor por conducción** a través de una superficie $A$, es:\n",
    "\n",
    "<img src=\"./images/heat_conduction_formula.png\" width=\"700px\" align= center>"
   ]
  },
  {
   "cell_type": "markdown",
   "id": "4fdfda8b",
   "metadata": {
    "slideshow": {
     "slide_type": "slide"
    }
   },
   "source": [
    "La conductividad térmica, $k_c$, es una propiedad del material que varía según la temperatura.\n",
    "\n",
    "<img src=\"./images/thermal_conductivity.png\" width=\"900px\" align= center>"
   ]
  },
  {
   "cell_type": "markdown",
   "id": "be69080c",
   "metadata": {
    "slideshow": {
     "slide_type": "slide"
    }
   },
   "source": [
    "En su forma diferencial, $\\dot{Q}_\\mathrm{cond}= - k\\nabla T$, y para el caso unidimensional:\n",
    "\n",
    "\\begin{equation}\n",
    "\\dot{Q}_\\mathrm{cond} = - kA\\frac{dT}{dx},\\quad\\mathrm{W}\n",
    "\\end{equation}"
   ]
  },
  {
   "cell_type": "markdown",
   "id": "ac955652",
   "metadata": {
    "slideshow": {
     "slide_type": "fragment"
    }
   },
   "source": [
    "A partir de esta fórmula podemos deducir expresiones para taza de transferencia de calor por conducción según la geometría:"
   ]
  },
  {
   "cell_type": "markdown",
   "id": "ec4af943",
   "metadata": {},
   "source": [
    "<img src=\"./images/heat_conduction_resistance.png\" width=\"600px\" align= center>"
   ]
  },
  {
   "cell_type": "markdown",
   "id": "bb05f7de",
   "metadata": {
    "slideshow": {
     "slide_type": "slide"
    }
   },
   "source": [
    "Notar que en los tres casos podemos expresar la taza de conducción de calor en la forma:\n",
    "\n",
    "\\begin{equation*}\n",
    "\\dot{Q}_\\mathrm{cond} = \\frac{T_H - T_C}{R_\\mathrm{cond}},\\quad\\mathrm{W}\n",
    "\\end{equation*}\n",
    "\n",
    "donde, $R_\\mathrm{cond}$ (K/W) es la **resistencia térmica** asociada al mecanismo de conducción."
   ]
  },
  {
   "cell_type": "markdown",
   "id": "bbea9efd",
   "metadata": {
    "slideshow": {
     "slide_type": "slide"
    }
   },
   "source": [
    "### Transferencia de calor por convección\n",
    "**Definimos como *convección de calor* al calor transferido a través de fluidos en movimiento.** El movimiento de un fluido puede ocurrir naturalmente, debido a los efectos de flotación a raíz de los cambio de densidad con la temperatura; o de forma inducida, como por ejemplo mediante un ventilador."
   ]
  },
  {
   "cell_type": "markdown",
   "id": "2f11707d",
   "metadata": {
    "cell_style": "split",
    "slideshow": {
     "slide_type": "fragment"
    }
   },
   "source": [
    "A partir de esto, clasificamos la transferencia de calor por convección, respectivamente, como:\n",
    "- **convección natural**\n",
    "- **convección forzada**."
   ]
  },
  {
   "cell_type": "markdown",
   "id": "335e9cda",
   "metadata": {
    "cell_style": "split",
    "slideshow": {
     "slide_type": "fragment"
    }
   },
   "source": [
    "<img src=\"./images/heat_convection_mechanism.png\" width=\"300px\" align= center>"
   ]
  },
  {
   "cell_type": "markdown",
   "id": "a11782b3",
   "metadata": {
    "slideshow": {
     "slide_type": "slide"
    }
   },
   "source": [
    "La convección de calor esta asociada al contacto de fluidos con una superficie, $A$. Así, independiente del mecanismo de convección de calor (natural o forzada), expresamos la **taza de transferencia de calor por convección** como:\n",
    "\n",
    "<img src=\"./images/heat_convection_formula.png\" width=\"700px\" align= center>"
   ]
  },
  {
   "cell_type": "markdown",
   "id": "322fa067",
   "metadata": {},
   "source": [
    "Notar que la taza de transferencia de calor por convección puede ser expresada en la forma:\n",
    "\n",
    "\\begin{equation*}\n",
    "\\dot{Q}_\\mathrm{conv} = \\frac{T_\\infty - T}{R_\\mathrm{conv}},\\quad\\mathrm{W}\n",
    "\\end{equation*}\n",
    "\n",
    "donde $R_\\mathrm{conv}=1/hA$ es la resistencia térmica asociada a la convección de calor."
   ]
  },
  {
   "cell_type": "markdown",
   "id": "983b6ab0",
   "metadata": {
    "slideshow": {
     "slide_type": "slide"
    }
   },
   "source": [
    "A diferencia de la conducción de calor, el coeficiente convectivo, $h$, **no es una propiedad del fluido**. Esto porque no solo depende de las propiedades del fluido (densidad, viscocidad y conductividad térmica, entre otras), sino que además depende de condiciones externas, como la velocidad del flujo, la diferencia de temperaturas, y la geometría del cuerpo sometido a convección de calor."
   ]
  },
  {
   "cell_type": "markdown",
   "id": "608df105",
   "metadata": {
    "slideshow": {
     "slide_type": "fragment"
    }
   },
   "source": [
    "El coeficiente convectivo se determina a partir de relaciones expresadas en términos del número de Nusselt, $\\mathrm{Nu} = \\frac{hL_c}{k_f}$, donde $L_c$ es una longitud característica y $k_f$ es la conductividad térmica del fluido. En la mayoría de los casos, las relaciones para el número de Nusselt para cada caso se determinan experimentalmente."
   ]
  },
  {
   "cell_type": "markdown",
   "id": "f73fe75a",
   "metadata": {
    "slideshow": {
     "slide_type": "fragment"
    }
   },
   "source": [
    "Comúnmente, los valores para el número de Nusselt se encuentran dentro de los siguientes rangos:\n",
    "\n",
    "- Convección forzada, $\\mathrm{Nu} \\sim 5 - 1000 $\n",
    "- Convección natural, $\\mathrm{Nu} \\sim 0 - 100$"
   ]
  },
  {
   "cell_type": "markdown",
   "id": "199235d4",
   "metadata": {
    "slideshow": {
     "slide_type": "slide"
    }
   },
   "source": [
    "### Transferencia de calor por radiación\n",
    "**Definimos como *radiación de calor* al calor transferido por ondas electromagnéticas.**"
   ]
  },
  {
   "cell_type": "markdown",
   "id": "599163ff",
   "metadata": {
    "cell_style": "split",
    "slideshow": {
     "slide_type": "fragment"
    }
   },
   "source": [
    "Aquí también, el calor fluye desde la fuente de mayor temperatura all sumidero de menor temperatura. Sin embargo, a diferencia de la convección y conducción, la transferencia de calor por radiación no requiere de un medio y, por lo tanto, puede recorrer grandes distancias."
   ]
  },
  {
   "cell_type": "markdown",
   "id": "f3a86eba",
   "metadata": {
    "cell_style": "split"
   },
   "source": [
    "<img src=\"./images/heat_radiation_schematic.png\" width=\"300px\" align= center>"
   ]
  },
  {
   "cell_type": "markdown",
   "id": "9435c4d8",
   "metadata": {
    "slideshow": {
     "slide_type": "slide"
    }
   },
   "source": [
    "En general, la transferencia de calor depende de las propiedades ópticas de la fuente y receptor. Sin embargo, considerando un caso simplifado, podemos definir la relación en base a la emisividad promedio del emisor, y absortividad promedio del receptor:\n",
    "\n",
    "<img src=\"./images/heat_radiation_formula.png\" width=\"700px\" align= center>"
   ]
  },
  {
   "cell_type": "markdown",
   "id": "ec4e30bf",
   "metadata": {
    "slideshow": {
     "slide_type": "fragment"
    }
   },
   "source": [
    "Sin embargo, como veremos en este capítulo, esta regla no es general. La mejor forma de entender esta fórmula es estudiando su origen."
   ]
  },
  {
   "cell_type": "markdown",
   "id": "53ef8ae3",
   "metadata": {
    "slideshow": {
     "slide_type": "slide"
    }
   },
   "source": [
    "## Fundamentos de la radiación térmica\n",
    "\n",
    "Las vibraciones a nivel molecular también inducen polarización en la materia. Esto es similar al fenómeno de polarización inducida por ondas electromagnéticas estudiada en la unidad 3. Estos dipolos inducidos térmicamente, oscilan constantemente generando campos electromagnéticos que se propagan en dirección radial.\n",
    "\n",
    "<img src=\"./images/radiating_dipole.png\" width=\"700px\" align= center>"
   ]
  },
  {
   "cell_type": "markdown",
   "id": "767562ad",
   "metadata": {
    "slideshow": {
     "slide_type": "slide"
    }
   },
   "source": [
    "En la siguiente animación podemos ver el proceso de emisión de ondas electromagnéticas de un dipolo oscilatorio. El mapa de colores representa la intensidad del campo magnético, es decir $|\\vec{H}|$, donde rojo y azul corresponden, respectivamente, a los valores máximos y mínimos.\n",
    "\n",
    "<img src=\"./images/HW_vertical_noground.gif\" width=\"300px\" align= center>"
   ]
  },
  {
   "cell_type": "markdown",
   "id": "7088a84b",
   "metadata": {
    "cell_style": "center",
    "slideshow": {
     "slide_type": "slide"
    }
   },
   "source": [
    "### Poder de emisión\n",
    "Un cuerpo a temperatura $T$ emite ondas electromagnéticas en todas las direcciones y en un espectro de longitudes de onda. En general, la distribución angular ($\\Omega$) y espectral ($\\lambda$) de la radiación emitida depende de las propiedades ópticas de la superficie y la temperatura del material. "
   ]
  },
  {
   "cell_type": "markdown",
   "id": "b364c7cf",
   "metadata": {
    "slideshow": {
     "slide_type": "fragment"
    }
   },
   "source": [
    "Para caracterizar la intensidad de la radiación emitida por una superficie a tempertura $T$, usamos la **intensidad específica o radiancia espectral**, $I_\\lambda(\\Omega,T)$."
   ]
  },
  {
   "cell_type": "markdown",
   "id": "09477f6e",
   "metadata": {
    "cell_style": "center",
    "slideshow": {
     "slide_type": "slide"
    }
   },
   "source": [
    "La taza de calor total emitido por una superficie $dA$ de un cuerpo negro en función de $\\lambda$ y $\\Omega$, $d\\dot{Q}_\\mathrm{rad}$, está dada por:\n",
    "\n",
    "\\begin{equation}\n",
    "d\\dot{Q}_\\mathrm{rad} = I_{\\lambda}(\\Omega, T) \\cos\\theta dA d\\Omega d\\lambda\n",
    "\\end{equation}"
   ]
  },
  {
   "cell_type": "markdown",
   "id": "f849cc9e",
   "metadata": {
    "cell_style": "split",
    "slideshow": {
     "slide_type": "fragment"
    }
   },
   "source": [
    "El término $\\cos\\theta dA$ corresponde a la proyección de $dA$ en la dirección $\\Omega$"
   ]
  },
  {
   "cell_type": "markdown",
   "id": "d3b63571",
   "metadata": {
    "cell_style": "split"
   },
   "source": [
    "<img src=\"./images/specific_intensity.png\" width=\"300px\" align= center>"
   ]
  },
  {
   "cell_type": "markdown",
   "id": "891a8504",
   "metadata": {
    "cell_style": "center",
    "slideshow": {
     "slide_type": "slide"
    }
   },
   "source": [
    "Definimos como **poder de emisión direccional espectral** a la relación:\n",
    "\n",
    "\\begin{equation}\n",
    "E_{\\lambda,\\Omega}(T) = \\frac{d\\dot{Q}_\\mathrm{rad}}{dAd\\Omega d\\lambda}=I_{\\lambda}(\\Omega, T)\\cos\\theta ,\\quad\\quad\\frac{\\mathrm{W}}{\\mathrm{m}^2\\cdot\\mu\\mathrm{m}\\cdot\\mathrm{sr}}\n",
    "\\end{equation}"
   ]
  },
  {
   "cell_type": "markdown",
   "id": "ec272999",
   "metadata": {
    "slideshow": {
     "slide_type": "fragment"
    }
   },
   "source": [
    "A diferencia de la intensidad específica, el poder de emisión considera la radiación effectiva emitida por una superficie."
   ]
  },
  {
   "cell_type": "markdown",
   "id": "3c1cf7c2",
   "metadata": {},
   "source": [
    "<img src=\"./images/emissive_power.png\" width=\"500px\" align= center>"
   ]
  },
  {
   "cell_type": "markdown",
   "id": "ad56f5b7",
   "metadata": {
    "slideshow": {
     "slide_type": "slide"
    }
   },
   "source": [
    "A partir de este término podemos derivar:"
   ]
  },
  {
   "cell_type": "markdown",
   "id": "c62c0cc6",
   "metadata": {
    "slideshow": {
     "slide_type": "fragment"
    }
   },
   "source": [
    "- **Poder de emisión hemisférica espectral**, \n",
    "\n",
    "\\begin{align*}\n",
    "E_{\\lambda}(T) = \\frac{d\\dot{Q}}{dA d\\lambda} &= \\int_0^{2\\pi}\\int_0^{\\pi/2}I_{\\lambda}(\\Omega, T)\\cos\\theta~\\sin\\theta ~d\\theta~ d\\phi\n",
    "  \\\\ \n",
    "  &=\\int_\\mathrm{hemi} I_{\\lambda}(\\Omega, T)\\cos\\theta~d\\Omega\n",
    "  ,\\quad\\quad\\frac{\\mathrm{W}}{\\mathrm{m}^2\\cdot\\mu\\mathrm{m}}\n",
    "\\end{align*}"
   ]
  },
  {
   "cell_type": "markdown",
   "id": "a9a23a55",
   "metadata": {
    "slideshow": {
     "slide_type": "fragment"
    }
   },
   "source": [
    "- **Poder de emisión direccional total**,\n",
    "\n",
    "\\begin{equation*}\n",
    "E_\\Omega(T) = \\frac{d\\dot{Q}}{dAd\\Omega}=\\cos\\theta \\int_0^\\infty~ I_{\\lambda}(\\Omega, T)~d\\lambda  ,\\quad\\quad\\frac{\\mathrm{W}}{\\mathrm{m}^2 \\cdot\\mathrm{sr}}\n",
    "\\end{equation*}"
   ]
  },
  {
   "cell_type": "markdown",
   "id": "4c94bf8c",
   "metadata": {
    "slideshow": {
     "slide_type": "fragment"
    }
   },
   "source": [
    "- **Poder de emisión hemisfética total**, \n",
    "\n",
    "\\begin{equation*}\n",
    "E(T) = \\frac{d\\dot{Q}}{dA}=\\int_0^\\infty\\int_\\mathrm{hemi}I_{\\lambda}(\\Omega, T)\\cos\\theta~d\\Omega d\\lambda ,\\quad\\quad\\frac{\\mathrm{W}}{\\mathrm{m}^2}\n",
    "\\end{equation*}"
   ]
  },
  {
   "cell_type": "markdown",
   "id": "b670c6be",
   "metadata": {
    "slideshow": {
     "slide_type": "slide"
    }
   },
   "source": [
    "### Distribución de Planck\n",
    "\n",
    "Max Planck en 1901 determinó que la **máxima radiancia espectral o intensidad específica** (flujo de energía por unidad de longitud de onda y ángulo sólido) emitida por un cuerpo a temperatura $T$, en un medio con índice de refracción $n_1$, está dada por:\n",
    "\n",
    "\\begin{equation}\n",
    "I_{\\mathrm{bb},\\lambda}(\\Omega, T) = \\frac{C_1}{n_1\\lambda^5\\left[\\exp\\left(C_2/\\lambda T\\right) - 1\\right]},\\quad\\quad\\frac{\\mathrm{W}}{\\mathrm{m}^2\\cdot\\mu\\mathrm{m}\\cdot\\mathrm{sr}}\n",
    "\\end{equation}\n",
    "\n",
    "donde \n",
    "\\begin{align*}\n",
    "C_1 &= 2hc_0^2 = 1.19104238\\times 10^8 ~\\mathrm{W}\\cdot\\mu\\mathrm{m}^4/\\mathrm{m}^2 \\\\\n",
    "C_2 &= hc_0/k_\\mathrm{B} = 1.438776877\\times10^{4}~\\mu\\mathrm{m}\\cdot\\mathrm{K}\n",
    "\\end{align*}\n",
    "\n",
    "$k_\\mathrm{B} = 1.381\\times 10^{-23}$ J/K $=8.617\\times 10^{-5}$ eV/K, es la constante de Boltzmann. La unidad \"sr\" correponde a un esteroradian."
   ]
  },
  {
   "cell_type": "markdown",
   "id": "4e04c610",
   "metadata": {
    "slideshow": {
     "slide_type": "fragment"
    }
   },
   "source": [
    "Esta es la **distribución de Planck**, que *representa la máxima radiancia espectral emitida en dirección $\\Omega$ por una fuente a una temperatura $T$*. Esta fuente, denominada **cuerpo negro** representa, así, un **emisor perfecto**."
   ]
  },
  {
   "cell_type": "markdown",
   "id": "a5f797bc",
   "metadata": {
    "slideshow": {
     "slide_type": "fragment"
    }
   },
   "source": [
    "Notar también que la radiancia del cuerpo negro es uniforme en todas las direcciones y, por lo tanto, no depende de $\\Omega$."
   ]
  },
  {
   "cell_type": "markdown",
   "id": "5288e116",
   "metadata": {
    "slideshow": {
     "slide_type": "slide"
    }
   },
   "source": [
    "En el curso utilizaremos la función `Bplanck(lam, T)` parte del módulo `ref_spectra` de `èmpylib`. "
   ]
  },
  {
   "cell_type": "markdown",
   "id": "c637fb48",
   "metadata": {
    "slideshow": {
     "slide_type": "fragment"
    }
   },
   "source": [
    "En el siguiente ejemplo, graficamos la distribución de cuerpo negro a $T = 100~^\\circ\\mathrm{C}= 373~\\mathrm{K}$, en el espectro $\\lambda\\in[2,100]$ $\\mu$m."
   ]
  },
  {
   "cell_type": "code",
   "execution_count": 15,
   "id": "55a5c266",
   "metadata": {
    "cell_style": "split",
    "tags": [
     "hide-input"
    ]
   },
   "outputs": [],
   "source": [
    "%%capture showplot0\n",
    "import numpy as np\n",
    "import empylib.ref_spectra as rf\n",
    "import matplotlib.pyplot as plt\n",
    "\n",
    "lam = np.linspace(0.1,100,1000)  # espectro de longitudes de onda (um)\n",
    "T = 1000 + 273                  # Temperatura del cuerpo negro (K)\n",
    "Ibb = rf.Bplanck(lam,T)        # Radiancia espectral de cuerpo negro\n",
    "\n",
    "plt.plot(lam,Ibb)\n",
    "plt.xlabel('Longitud de onda, $\\lambda$ ($\\mu$m)')\n",
    "plt.ylabel('$I_{\\mathrm{bb},\\lambda} (T)$, (W/m$^2$-$\\mu$m-sr)')\n",
    "plt.title('Radiancia espectral de cuerpo negro a %i K' % T)\n",
    "plt.show()"
   ]
  },
  {
   "cell_type": "code",
   "execution_count": 16,
   "id": "62babdaa",
   "metadata": {
    "cell_style": "split",
    "tags": [
     "remove-input"
    ]
   },
   "outputs": [
    {
     "data": {
      "image/png": "[encoded data removed]",
      "text/plain": [
       "<Figure size 640x480 with 1 Axes>"
      ]
     },
     "metadata": {},
     "output_type": "display_data"
    }
   ],
   "source": [
    "showplot0()"
   ]
  },
  {
   "cell_type": "markdown",
   "id": "513d759b",
   "metadata": {
    "slideshow": {
     "slide_type": "slide"
    }
   },
   "source": [
    "El poder de emisión hemisférico espectral de la superficie de un cuerpo negro, $E_{\\mathrm{bb},\\lambda}(T)$, se obtiene integrando la radiancia espectral por ángulo sólido en el límite de una hemiesfera:\n",
    "\n",
    "\\begin{align*}\n",
    "E_{\\mathrm{bb},\\lambda}(T) = \\int_\\mathrm{hemi} I_{\\mathrm{bb},\\lambda}(T)\\cos\\theta d\\Omega &= I_{\\mathrm{bb},\\lambda}(T)\\int_\\mathrm{hemi} \\cos\\theta d\\Omega\n",
    "  \\\\ \n",
    "  &= I_{\\mathrm{bb},\\lambda}(T)\\int_0^{2\\pi} \\int_0^{\\pi/2}\\cos\\theta \\sin \\theta~d\\theta~d\\phi \n",
    "  \\\\ \n",
    "  &=\\pi I_{\\mathrm{bb},\\lambda}(T)\n",
    "  ,\\quad\\quad\\frac{\\mathrm{W}}{\\mathrm{m}^2\\cdot\\mu\\mathrm{m}}\n",
    "\\end{align*}"
   ]
  },
  {
   "cell_type": "markdown",
   "id": "1fc00c20",
   "metadata": {
    "slideshow": {
     "slide_type": "fragment"
    }
   },
   "source": [
    "Note que $I_{\\mathrm{bb},\\lambda}$ no depende de $\\Omega$ y, por lo tanto, sale de la integral respecto a $d\\Omega$."
   ]
  },
  {
   "cell_type": "markdown",
   "id": "3cbf0ea5",
   "metadata": {
    "slideshow": {
     "slide_type": "slide"
    }
   },
   "source": [
    "A partir de la integral de $E_{\\mathrm{bb},\\lambda}(T)$ en el espectro de longitudes de onda, obtenemos el poder de emisión hemisferico total de un cuerpo negro:\n",
    "\n",
    "\\begin{equation}\n",
    "E_\\mathrm{bb}(T) = \\int_0^\\infty E_{\\mathrm{bb},\\lambda}(T) d\\lambda = \\pi\\int_0^\\infty I_{\\mathrm{bb},\\lambda}(T) d\\lambda = \\sigma T^4,\\quad\\quad\\frac{\\mathrm{W}}{\\mathrm{m}^2}\n",
    "\\end{equation}\n",
    "\n",
    "donde $\\sigma = 5.670\\times10^{-8}$ W/m$^2\\cdot$K$^4$, es la *constante de Stefan-Boltzmann.* Esta fórmula se conoce como la **ley de Stefan-Boltzmann**"
   ]
  },
  {
   "cell_type": "markdown",
   "id": "18b26d00",
   "metadata": {
    "slideshow": {
     "slide_type": "slide"
    }
   },
   "source": [
    "En la siguiente figura, se ilustra $E_{\\mathrm{bb},\\lambda}(\\lambda,T)$ función de la temperatura y longitud de onda.\n"
   ]
  },
  {
   "cell_type": "markdown",
   "id": "0c94c575",
   "metadata": {},
   "source": [
    "<img src=\"./images/blackbody_rad.png\" width=\"700px\" align= center>"
   ]
  },
  {
   "cell_type": "markdown",
   "id": "8eb1ce9b",
   "metadata": {
    "slideshow": {
     "slide_type": "slide"
    }
   },
   "source": [
    "A medida que $T$ aumenta, notamos que el máximo de la curva se desplaza hacia el azul. La longitud de onda correspondiente a este máximo, $\\lambda_\\mathrm{peak}$, está definida por la **ley de desplazamiento de Wien:**\n",
    "\n",
    "\\begin{equation}\n",
    "\\lambda_\\mathrm{peak}T = 2897.8\\quad\\mu\\mathrm{m}\\cdot\\mathrm{K}\n",
    "\\end{equation}\n"
   ]
  },
  {
   "cell_type": "markdown",
   "id": "26d022df",
   "metadata": {
    "slideshow": {
     "slide_type": "fragment"
    }
   },
   "source": [
    "Esta relación permite entender el cambio de color de la fuente emisora con la tempertura."
   ]
  },
  {
   "cell_type": "markdown",
   "id": "441619f6",
   "metadata": {
    "slideshow": {
     "slide_type": "fragment"
    }
   },
   "source": [
    "Recordemos, sin embargo,  que **el color de un material no solo se define por la emisión de radiación, sino también por la forma en la que interactúa con la luz incidente**. Como revisamos en las unidades anteriores, esta interacción está condionada por las propiedades radiativas."
   ]
  },
  {
   "cell_type": "markdown",
   "id": "da43fbee",
   "metadata": {
    "slideshow": {
     "slide_type": "slide"
    }
   },
   "source": [
    "### Propiedades Radiativas\n",
    "\n",
    "Definimos como **emisividad direccional espectral, $\\epsilon_{\\lambda,\\Omega}$,** a la *razón entre la radiación emitida por una superficie, $I_\\lambda(\\Omega, T)$, y la radiación emitida por un cuerpo negro, ambas a temperatura $T$*:\n",
    "\n",
    "\\begin{equation}\n",
    "\\epsilon_{\\lambda,\\Omega} = \\frac{I_\\lambda(\\Omega, T)}{I_{\\mathrm{bb},\\lambda}(T)}\n",
    "\\end{equation}\n",
    "\n",
    "De esta forma, $\\epsilon$ es una propiedad adimensional de superfice que varía entre $0 \\le \\epsilon \\le 1$."
   ]
  },
  {
   "cell_type": "markdown",
   "id": "819d0302",
   "metadata": {
    "slideshow": {
     "slide_type": "fragment"
    }
   },
   "source": [
    "Definimos como **absortividad direccional espectral, $A_{\\lambda,\\Omega}$,** a la *porción de radiación incidente que es absorbida por una superficie*. Igualmente, $0 \\le A_{\\lambda,\\Omega} \\le 1$."
   ]
  },
  {
   "cell_type": "markdown",
   "id": "64a21ba8",
   "metadata": {
    "slideshow": {
     "slide_type": "slide"
    }
   },
   "source": [
    "A través de la **ley de Kirchhoff**, podemos establecer una relación entre la absortancia y emisividad espectral direccional:\n",
    "\n",
    "\\begin{equation}\n",
    "\\epsilon_{\\lambda,\\Omega} = A_{\\lambda,\\Omega}\n",
    "\\end{equation}"
   ]
  },
  {
   "cell_type": "markdown",
   "id": "5dd135bb",
   "metadata": {
    "slideshow": {
     "slide_type": "fragment"
    }
   },
   "source": [
    "En otras palabras, las propiedades de un material como receptor o emisor de radiación, son iguales. Sin embargo, notar que **esta igualdad solo existe para la misma longitud de onda y ángulo sólido.**"
   ]
  },
  {
   "cell_type": "markdown",
   "id": "7af23770",
   "metadata": {
    "slideshow": {
     "slide_type": "fragment"
    }
   },
   "source": [
    "Este concepto, denominado *reciprocidad*, es consecuencia de las ecuaciones de Maxwell y es la base fundamental para el diseño de antenas y radares."
   ]
  },
  {
   "cell_type": "markdown",
   "id": "1f3f624f",
   "metadata": {
    "slideshow": {
     "slide_type": "slide"
    }
   },
   "source": [
    "Por conservación de energía:\n",
    "\\begin{equation}\n",
    "A_{\\lambda,\\Omega} + R_{\\lambda,\\Omega} + T_{\\lambda,\\Omega} = 1\n",
    "\\end{equation}\n"
   ]
  },
  {
   "cell_type": "markdown",
   "id": "c03d9fac",
   "metadata": {
    "slideshow": {
     "slide_type": "fragment"
    }
   },
   "source": [
    "donde $R_{\\lambda,\\Omega}$ y $T_{\\lambda,\\Omega}$ son, respectivamente, la reflectividad y transmisividad espectral direccional del material"
   ]
  },
  {
   "cell_type": "markdown",
   "id": "d93dacf1",
   "metadata": {
    "slideshow": {
     "slide_type": "fragment"
    }
   },
   "source": [
    "Debido a la naturaleza de la radiación térmica, la polarización de las ondas electromagnéticas es aleatoria. Así, $R_{\\lambda,\\Omega}$ y $T_{\\lambda,\\Omega}$ se calculan como:\n",
    "\n",
    "\\begin{equation}\n",
    "R_{\\lambda,\\Omega} = \\frac{R_{\\lambda,\\Omega}^\\mathrm{TM}+R_{\\lambda,\\Omega}^\\mathrm{TE}}{2}\\quad\\quad\n",
    "T_{\\lambda,\\Omega} = \\frac{T_{\\lambda,\\Omega}^\\mathrm{TM}+T_{\\lambda,\\Omega}^\\mathrm{TE}}{2}\n",
    "\\end{equation}"
   ]
  },
  {
   "cell_type": "markdown",
   "id": "1b34032f",
   "metadata": {
    "slideshow": {
     "slide_type": "fragment"
    }
   },
   "source": [
    "A partir de estas relaciones podemos determinar $\\epsilon_{\\lambda,\\Omega}$."
   ]
  },
  {
   "cell_type": "markdown",
   "id": "048661b3",
   "metadata": {
    "slideshow": {
     "slide_type": "slide"
    }
   },
   "source": [
    "Cabe mencionar que en textos de radiometría y transferencia de calor, la reflectividad y transmisividad se denominan, respectivamente, **reflectancia ($\\rho$)**, **transmitancia ($\\tau$).** Igualmente la absortividad se denomina **absortancia ($\\alpha$).** Ambos términos son equivalentes."
   ]
  },
  {
   "cell_type": "markdown",
   "id": "51fbf681",
   "metadata": {
    "slideshow": {
     "slide_type": "fragment"
    }
   },
   "source": [
    "En este curso, seguiremos utilizando los términos y notación de óptica, es decir $R_{\\lambda,\\Omega}$, $T_{\\lambda,\\Omega}$ y $A_{\\lambda,\\Omega}$, para evitar confusiones. "
   ]
  },
  {
   "cell_type": "markdown",
   "id": "4d61c797",
   "metadata": {
    "slideshow": {
     "slide_type": "slide"
    }
   },
   "source": [
    "Como ejemplo, analicemos el poder de emisión espectral direccional, $E_{\\lambda,\\Omega}(T)$ y la emisividad $\\epsilon_{\\lambda,\\Omega}$ de una capa de vidrio en función de la temperatura ($T$), espesor ($d$) y dirección ($\\theta$). En este caso: \n",
    "\n",
    "\\begin{align*}\n",
    "E_{\\lambda,\\Omega}(T) &= \\epsilon_{\\lambda,\\Omega}I_{\\mathrm{bb},\\lambda}(T)\\cos\\theta \\\\[10pt]\n",
    " &= \\left[1 - R_{\\lambda,\\Omega} - T_{\\lambda,\\Omega}\\right]I_{\\mathrm{bb},\\lambda}(T)\\cos\\theta\n",
    "\\end{align*}"
   ]
  },
  {
   "cell_type": "markdown",
   "id": "e04ec37d",
   "metadata": {
    "slideshow": {
     "slide_type": "slide"
    }
   },
   "source": [
    "Antes, analicemos el índice de refracción del vidrio (sílicice, SiO$_2$), en el espectro $\\lambda\\in[0.3,15]$ $\\mu$m."
   ]
  },
  {
   "cell_type": "code",
   "execution_count": 4,
   "id": "e34559d2",
   "metadata": {
    "cell_style": "split",
    "slideshow": {
     "slide_type": "fragment"
    },
    "tags": [
     "hide-input"
    ]
   },
   "outputs": [],
   "source": [
    "%%capture showplot\n",
    "import numpy as np\n",
    "import empylib.nklib as nk\n",
    "import matplotlib.pyplot as plt\n",
    "\n",
    "lam = np.linspace(0.3,15,100) #longitud de onda en um\n",
    "plt.plot(lam,nk.SiO2(lam).real,'-r',label='$n$')\n",
    "plt.plot(lam,nk.SiO2(lam).imag,'-b',label='$\\kappa$')\n",
    "plt.xlabel('Longitud de onda, $\\lambda$ ($\\mu$m)',fontsize=16)\n",
    "plt.ylabel('$n$, $\\kappa$',fontsize=16)\n",
    "plt.title('Índice de refracción SiO$_2$',fontsize=18)\n",
    "plt.legend(frameon=False,fontsize=16)\n",
    "plt.tick_params(labelsize=16)"
   ]
  },
  {
   "cell_type": "code",
   "execution_count": 5,
   "id": "20435072",
   "metadata": {
    "cell_style": "split"
   },
   "outputs": [
    {
     "data": {
      "image/png": "[encoded data removed]",
      "text/plain": [
       "<Figure size 640x480 with 1 Axes>"
      ]
     },
     "metadata": {},
     "output_type": "display_data"
    }
   ],
   "source": [
    "showplot()"
   ]
  },
  {
   "cell_type": "markdown",
   "id": "89749a31",
   "metadata": {
    "slideshow": {
     "slide_type": "fragment"
    }
   },
   "source": [
    "Comparamos $E_{\\lambda,\\Omega}(T)$ con el poder de emisión espectral direccional del cuerpo negro, $E_{\\mathrm{bb},\\lambda,\\Omega} = I_{\\mathrm{bb},\\lambda}\\cos\\theta$"
   ]
  },
  {
   "cell_type": "code",
   "execution_count": 6,
   "id": "f24c88be",
   "metadata": {
    "slideshow": {
     "slide_type": "slide"
    },
    "tags": [
     "hide-input"
    ]
   },
   "outputs": [],
   "source": [
    "import empylib.waveoptics as wv\n",
    "import empylib.nklib as nk\n",
    "import numpy as np\n",
    "from numpy import log10, radians, cos\n",
    "import matplotlib.pyplot as plt\n",
    "from empylib.ref_spectra import Bplanck\n",
    "\n",
    "def plot_emisivity_glass(Temp,d,lam0,theta0):\n",
    "    # PARAMETROS DE ENTRADA\n",
    "    lam = np.linspace(0.3,15,100)\n",
    "    Nfront = 1.0                 # índice de refracción medio superior\n",
    "    N1     = nk.SiO2(lam)        # índice de refracción capa intermedia\n",
    "    Nback  = 1.0                 # índice de refracción medio inferior\n",
    "    N = (Nfront, N1, Nback)      # indices de refracción (above, mid, below)\n",
    "    #-------------------------------------------------------------------------\n",
    "\n",
    "    # CÁLCULO DE VARIABLES\n",
    "    # 1. Gráfico 1: Reflectancia y transmitancia espectral en theta0\n",
    "    Rs, Ts = wv.incoh_multilayer(lam,radians(theta0), N, d*1E3, pol='TM')\n",
    "    Rp, Tp = wv.incoh_multilayer(lam,radians(theta0), N, d*1E3, pol='TE')\n",
    "    \n",
    "    R_lam = (Rs + Rp)/2\n",
    "    T_lam = (Ts + Tp)/2\n",
    "    A_lam = 1 - T_lam - R_lam  # absortancia espectral\n",
    "    \n",
    "   # 2. Gráfico 2: Reflectancia y transmitancia direccional en lam0\n",
    "    theta = np.linspace(0,90,100)\n",
    "    N = (Nfront, nk.SiO2(lam0), Nback) # indices de refracción (above, mid, below)\n",
    "    \n",
    "    A_theta = [] # generamos la absortancia direccional en este loop\n",
    "    for theta_i in theta:\n",
    "        Rs, Ts = wv.incoh_multilayer(lam0,radians(theta_i), N, d*1E3, pol='TM')\n",
    "        Rp, Tp = wv.incoh_multilayer(lam0,radians(theta_i), N, d*1E3, pol='TE')\n",
    "        R = (Rs + Rp)/2\n",
    "        T = (Ts + Tp)/2\n",
    "        A_theta.append(1 - T - R)\n",
    "    A_theta = np.array(A_theta).flatten() # convertimos la lista a ndarray\n",
    "    \n",
    "    # 3. Gráfico 3: Poder de emisión direccional espectral\n",
    "    E_lam = A_lam*Bplanck(lam,Temp)*cos(radians(theta0)) # poder de emisión material\n",
    "    E_bb  =       Bplanck(lam,Temp)*cos(radians(theta0)) # poder de emisión de cuerpo negro\n",
    "    #-------------------------------------------------------------------------\n",
    "    \n",
    "    # GRAFICAMOS RESULTADOS.\n",
    "    fig, ax = plt.subplots(1,3)             # 3 ejes\n",
    "    fig.set_size_inches(16, 5)              # Tamaño de figura\n",
    "    \n",
    "    # 1. Propiedades radiativas direccional espectral para theta0\n",
    "    ax[0].plot(lam,R_lam,'--r',label=r'$R_{\\lambda,\\Omega}$',linewidth=0.5)\n",
    "    ax[0].plot(lam,T_lam,'--b',label=r'$T_{\\lambda,\\Omega}$',linewidth=0.5)\n",
    "    ax[0].plot(lam,A_lam,'-k',label=r'$A_{\\lambda,\\Omega}$',linewidth=2.0)  \n",
    "    ax[0].plot(lam0,np.interp(lam0,lam,A_lam),'or',ms=8.0)   \n",
    "    ax[0].set_xlabel('$\\lambda$ ($\\mu$m)',fontsize=18)\n",
    "    ax[0].set_ylabel(r'$R_{\\lambda,\\Omega}$, $T_{\\lambda,\\Omega}$ y $A_{\\lambda,\\Omega}$',fontsize=18)\n",
    "    ax[0].set_ylim(0,1.05)\n",
    "    ax[0].set_title(r'$\\theta = $ %i°' % theta0,fontsize=18)\n",
    "    ax[0].legend(fontsize=16, loc='lower right')\n",
    "    ax[0].tick_params(labelsize=16)\n",
    "    \n",
    "    # 2. Emisividad direccional espectral para lam0\n",
    "    ax[1].plot(theta,A_theta,'-k')  \n",
    "    ax[1].plot(theta0,np.interp(theta0,theta,A_theta),'or',ms=8.0)   \n",
    "    ax[1].set_xlabel(r'$\\theta$ (deg)',fontsize=18)\n",
    "    ax[1].set_ylabel(r'$\\epsilon_{\\lambda,\\Omega}(\\theta)$',fontsize=18)\n",
    "    ax[1].set_title(r'$\\lambda = $ %.2f $\\mu$m' % lam0,fontsize=18)\n",
    "    ax[1].set_ylim(0,1.05)\n",
    "    ax[1].tick_params(labelsize=16)\n",
    "    \n",
    "    # 3. Poder de emisión direccional espectral para theta0\n",
    "    ax[2].plot(lam,E_lam,'-k',label =r'$E_{\\lambda,\\Omega}$')\n",
    "    ax[2].plot(lam,E_bb,'-r',label =r'$E_\\mathrm{bb}$') \n",
    "    ax[2].plot(lam0,np.interp(lam0,lam,E_lam),'or',ms=8.0)   \n",
    "    ax[2].set_xlabel('Longitud de onda ($\\mu$m)',fontsize=18)\n",
    "    ax[2].set_ylabel(r'$E_{\\lambda,\\Omega}$(T) (W/m$^2$-$\\mu$m-sr)',fontsize=18)\n",
    "    ax[2].set_title(r'd = %.2f mm, $\\theta$=%i°' % (d,theta0) ,fontsize=18)\n",
    "    ax[2].set_ylim(0,max(Bplanck(lam,Temp))*1.05)\n",
    "    ax[2].legend(fontsize=16)\n",
    "    ax[2].tick_params(labelsize=16)\n",
    "    \n",
    "    plt.subplots_adjust(wspace=0.30)\n",
    "    plt.show()"
   ]
  },
  {
   "cell_type": "code",
   "execution_count": 7,
   "id": "8e3af1c4",
   "metadata": {
    "slideshow": {
     "slide_type": "slide"
    },
    "tags": [
     "hide-input"
    ]
   },
   "outputs": [
    {
     "data": {
      "application/vnd.jupyter.widget-view+json": {
       "model_id": "11ce9161eca244ef9e2521fd3eeef599",
       "version_major": 2,
       "version_minor": 0
      },
      "text/plain": [
       "interactive(children=(IntSlider(value=300, description='T', max=6000, min=300, step=100), IntSlider(value=1, d…"
      ]
     },
     "metadata": {},
     "output_type": "display_data"
    }
   ],
   "source": [
    " from ipywidgets import interact\n",
    "\n",
    "@interact(T=(300,6000,100), d=(0,10,1), lam0=(5,10,0.5), theta0=(0,90,5))\n",
    "def g(T=300,d=1, lam0=10, theta0=0):\n",
    "    return plot_emisivity_glass(T,d,lam0,theta0)"
   ]
  },
  {
   "cell_type": "markdown",
   "id": "1071c1d3",
   "metadata": {
    "slideshow": {
     "slide_type": "slide"
    }
   },
   "source": [
    "Al igual que con el poder de emisión, la emisividad puede también ser definida de forma hemisférica (integración por ángulo sólido) o total (integración por longitudes de onda)"
   ]
  },
  {
   "cell_type": "markdown",
   "id": "67f1a8ba",
   "metadata": {
    "slideshow": {
     "slide_type": "fragment"
    }
   },
   "source": [
    "**Emisividad direccional total**\n",
    "\\begin{equation}\n",
    "\\epsilon_\\Omega(T) = \\frac{E_\\Omega(T)}{E_{\\Omega,bb}(T)} =\\frac{\\int_0^\\infty \\epsilon_{\\lambda,\\Omega} I_{\\mathrm{bb},\\lambda} (T)\\cos\\theta~d\\lambda}{\\int_0^\\infty I_{\\mathrm{bb},\\lambda} (T)\\cos\\theta~d\\lambda} = \\frac{\\pi}{\\sigma T^4}\\int_0^\\infty \\epsilon_{\\lambda,\\Omega} I_{\\mathrm{bb},\\lambda} (T)~d\\lambda\n",
    "\\end{equation}"
   ]
  },
  {
   "cell_type": "markdown",
   "id": "6e8b85fd",
   "metadata": {
    "slideshow": {
     "slide_type": "fragment"
    }
   },
   "source": [
    "**Emisividad hemisférica espectral**\n",
    "\\begin{equation}\n",
    "\\epsilon_\\lambda(T) = \\frac{E_\\lambda(T)}{E_{\\lambda,bb}(T)} = \\frac{\\int_\\mathrm{hemi}\\epsilon_{\\lambda,\\Omega}I_{\\mathrm{bb},\\lambda}(T)\\cos\\theta~d\\Omega}{\\pi I_{\\mathrm{bb},\\lambda}(T)}  = \\frac{1}{\\pi}\\int_\\mathrm{hemi}\\epsilon_{\\lambda,\\Omega}\\cos\\theta~d\\Omega\n",
    "\\end{equation}"
   ]
  },
  {
   "cell_type": "markdown",
   "id": "7af36cfb",
   "metadata": {
    "slideshow": {
     "slide_type": "fragment"
    }
   },
   "source": [
    "**Emisividad hemisférica total**\n",
    "\\begin{equation}\n",
    "\\epsilon(T) = \\frac{E(T)}{\\sigma T^4} =\\frac{1}{\\sigma T^4}\\int\\int_0^\\infty \\epsilon_{\\lambda,\\Omega} I_{\\mathrm{bb},\\lambda} (T)\\cos\\theta~d\\lambda~d\\Omega\n",
    "\\end{equation}"
   ]
  },
  {
   "cell_type": "markdown",
   "id": "041e5c23",
   "metadata": {
    "slideshow": {
     "slide_type": "slide"
    }
   },
   "source": [
    "Notar que, debido al factor $\\sigma T^4$, la emisividad hemisférica total y direccional total dependen de $T$, aún cuando $\\epsilon_{\\lambda,\\Omega}$ puede no depender de $T$."
   ]
  },
  {
   "cell_type": "markdown",
   "id": "42cb2a6f",
   "metadata": {
    "slideshow": {
     "slide_type": "slide"
    }
   },
   "source": [
    "### Materiales idealizados"
   ]
  },
  {
   "cell_type": "markdown",
   "id": "250a53e9",
   "metadata": {
    "slideshow": {
     "slide_type": "fragment"
    }
   },
   "source": [
    "- Decimos que una superficie es **difusa** cuando sus propiedades radiativas no dependen de $\\Omega$. Es práctica común suponer que las superficies son emisores difusos, con una emisividad igual al valor de la dirección normal ($\\theta = 0$)."
   ]
  },
  {
   "cell_type": "markdown",
   "id": "61822fca",
   "metadata": {
    "slideshow": {
     "slide_type": "fragment"
    }
   },
   "source": [
    "- Decimos que una superficie es **gris** cuando la emisividad es independiente de $\\lambda$."
   ]
  },
  {
   "cell_type": "markdown",
   "id": "55b28916",
   "metadata": {
    "slideshow": {
     "slide_type": "fragment"
    }
   },
   "source": [
    "- Decimos que una superficie es **opaca** cuando $T_{\\lambda,\\Omega} = 0$. En este caso, \n",
    "tenemos $A_{\\lambda,\\Omega} + R_{\\lambda,\\Omega} = 1$"
   ]
  },
  {
   "cell_type": "markdown",
   "id": "0107051b",
   "metadata": {
    "slideshow": {
     "slide_type": "fragment"
    }
   },
   "source": [
    "- En el caso de **gases**, $R_{\\lambda,\\Omega} \\approx 0$, así $A_{\\lambda,\\Omega} + T_{\\lambda,\\Omega} = 1$"
   ]
  },
  {
   "cell_type": "markdown",
   "id": "e11ffe84",
   "metadata": {
    "slideshow": {
     "slide_type": "slide"
    }
   },
   "source": [
    "Por ejemplo, calculemos la emisividad de la pintura blanca a $T = 25\\mathrm{°C}$."
   ]
  },
  {
   "cell_type": "markdown",
   "id": "027cb5ed",
   "metadata": {
    "cell_style": "center",
    "slideshow": {
     "slide_type": "fragment"
    }
   },
   "source": [
    "Como supuestos, consideraremos que la pintura blanca tiene las siguientes características: \n",
    "- capa de 0.5 mm de espesor\n",
    "- compuesta de una solución de partículas de TiO$_2$ de 1 $\\mu\\mathrm{m}$ de diámetro, con concentración de 7% v/v. \n",
    "- solvente con índice de refracción $N_\\mathrm{solvente} = 1.3$.\n",
    "- También asumiremos que la capa de pintura se encuentra entre aire ($n_1 = 1.0$) y un material con índice de refracción $n_3 = 1.5$"
   ]
  },
  {
   "cell_type": "markdown",
   "id": "5bd7ac90",
   "metadata": {
    "cell_style": "center",
    "slideshow": {
     "slide_type": "fragment"
    }
   },
   "source": [
    "En este caso, debido a la rugosidad de la pintura, es normal **asumir que la superficie se comporta como superficie difusa** y, por lo tanto, calcularemos la emisividad espectral en dirección normal."
   ]
  },
  {
   "cell_type": "markdown",
   "id": "ac46261f",
   "metadata": {
    "cell_style": "center",
    "slideshow": {
     "slide_type": "fragment"
    }
   },
   "source": [
    "Usamos la función `adm_sphere` de `empylib.rad_transfer` que calcula al reflectancia y transmitancia total (especular + difusa) en dirección normal"
   ]
  },
  {
   "cell_type": "markdown",
   "id": "ee9b6103",
   "metadata": {
    "slideshow": {
     "slide_type": "slide"
    }
   },
   "source": [
    "Primero, calculamos el espectro de reflectancia ($R_\\lambda$), transmitancia ($T_\\lambda$) y absortancia ($A_\\lambda$) espectral (igual en todas las direcciones)."
   ]
  },
  {
   "cell_type": "code",
   "execution_count": 8,
   "id": "c130aa97",
   "metadata": {
    "slideshow": {
     "slide_type": "fragment"
    },
    "tags": [
     "hide-input"
    ]
   },
   "outputs": [],
   "source": [
    "import empylib.rad_transfer as rt\n",
    "import empylib.nklib as nk\n",
    "\n",
    "lam   = np.logspace(np.log10(0.2),np.log10(100),1000) # espectro de longitudes de onda (um)\n",
    "tfilm = 0.5                                           # espesor de la película (mm)\n",
    "nh = 1.5                                              # índice de refracción del solvente\n",
    "Nlayers = (1.0,nh,1.5)                                # índices de refracción aire / solvente / aire\n",
    "fv = 0.07                                             # concentración (fracción de volúmen)\n",
    "Np = nk.SiO2(lam)                                     # índice de refracción de las partículas\n",
    "D  = 1.0                                              # diámetro de las partículas (um)\n",
    "\n",
    "T, R = rt.adm_sphere(lam,tfilm,Nlayers,fv,D,Np)[:2]       # Reflectancia y transmitancia\n",
    "A = 1 - R - T                                         # Absortancia"
   ]
  },
  {
   "cell_type": "markdown",
   "id": "8231eb53",
   "metadata": {
    "slideshow": {
     "slide_type": "slide"
    }
   },
   "source": [
    "Luego, graficamos ($R_\\lambda$), transmitancia ($T_\\lambda$) y absortancia ($A_\\lambda$). Como referencia, graficamos el índice de refracción del $\\mathrm{TiO_2}$ y el scattering de una partícula de $\\mathrm{TiO_2}$ en el solvente."
   ]
  },
  {
   "cell_type": "code",
   "execution_count": 9,
   "id": "2fe736e3",
   "metadata": {
    "slideshow": {
     "slide_type": "skip"
    },
    "tags": [
     "hide-input"
    ]
   },
   "outputs": [],
   "source": [
    "%%capture showplot1\n",
    "import empylib.miescattering as mie\n",
    "from matplotlib.ticker import FuncFormatter\n",
    "\n",
    "Ap = np.pi*D**2/4\n",
    "Qext, Qsca = mie.scatter_efficiency(lam,nh,Np,D)[:2]\n",
    "Csca, Cabs = Qsca*Ap, (Qext - Qsca)*Ap\n",
    "    \n",
    "fig, ax1 = plt.subplots(3,1,figsize=(8,8))\n",
    "plt.rcParams['font.size'] = '14'\n",
    "fig.tight_layout()\n",
    "\n",
    "# Graficamos el índice de refracción (parte real e imaginaria)\n",
    "ax1[0].plot(lam,Np.real,'-b',label = '$n$')\n",
    "ax1[0].plot(lam,Np.imag,'-r',label = '$\\kappa$')\n",
    "\n",
    "# Graficamos la sección transversal de scattering y absorción\n",
    "ax1[1].plot(lam,Csca,'-b',label = '$C_\\mathrm{sca}$')\n",
    "ax1[1].plot(lam,Cabs,'-r',label = '$C_\\mathrm{abs}$')\n",
    "\n",
    "# Graficamos la reflectancia, transmitancia y absortancia espectral\n",
    "ax1[2].plot(lam,R,'-b', label = '$R_\\lambda$')\n",
    "ax1[2].plot(lam,T,'-g', label = '$T_\\lambda$')\n",
    "ax1[2].plot(lam,A,'-r', label = '$A_\\lambda$')\n",
    "\n",
    "\n",
    "for i in range(len(ax1)):\n",
    "    ax1[i].set_xlabel('')\n",
    "    ax1[i].set_xscale('log')\n",
    "    ax1[i].set_xticks([0.3,0.4,0.75,1.4,3,8,15,30, 50, 100])\n",
    "    ax1[i].set_xlim(0.3,100)\n",
    "    ax1[i].xaxis.set_major_formatter(FuncFormatter(lambda y, _: '{:.16g}'.format(y)))\n",
    "    ax1[i].legend(frameon=False)\n",
    "\n",
    "    \n",
    "ax1[2].set_xlabel('Longitud de onda, $\\lambda$ $\\mu$m')\n",
    "ax1[0].set_ylabel('Índice de refracción $\\mathrm{TiO_2}$')\n",
    "ax1[1].set_ylabel('$C_\\mathrm{sca}$ y $C_\\mathrm{sca}$ esfera de $\\mathrm{TiO_2}$ ($\\mu$m$^2$)')\n",
    "ax1[2].set_ylabel('$R_\\lambda$, $T_\\lambda$ y $A_\\lambda$')\n",
    "plt.show()"
   ]
  },
  {
   "cell_type": "code",
   "execution_count": 10,
   "id": "e0ff1d2f",
   "metadata": {
    "slideshow": {
     "slide_type": "fragment"
    },
    "tags": [
     "remove-input"
    ]
   },
   "outputs": [
    {
     "data": {
      "image/png": "[encoded data removed]",
      "text/plain": [
       "<Figure size 800x800 with 3 Axes>"
      ]
     },
     "metadata": {},
     "output_type": "display_data"
    }
   ],
   "source": [
    "showplot1()"
   ]
  },
  {
   "cell_type": "markdown",
   "id": "2dd36558",
   "metadata": {
    "cell_style": "center",
    "slideshow": {
     "slide_type": "slide"
    }
   },
   "source": [
    "Para finalizar, usamos la ley de Kirchhoff ($A_\\lambda = \\epsilon_\\lambda$), y calculamos la emisividad total hemisférica mediante la ecuación (6.14):\n",
    "\n",
    "\\begin{align*}\n",
    "\\epsilon(T) &=\\frac{1}{\\sigma T^4}\\int_0^\\infty \\int_\\mathrm{hemi} \\epsilon_{\\lambda} I_{\\mathrm{bb},\\lambda} (T)\\cos\\theta~d\\Omega~d\\lambda \\\\\n",
    "&=\\frac{1}{\\sigma T^4}\\pi\\int_0^\\infty \\epsilon_{\\lambda} I_{\\mathrm{bb},\\lambda} (T)~d\\lambda\n",
    "\\end{align*}\n",
    "\n",
    "*Notar que $\\epsilon_{\\lambda}$ sale de la integral de $d\\Omega$ debido a que consideramos superficie difusa.*"
   ]
  },
  {
   "cell_type": "markdown",
   "id": "adacfdb6",
   "metadata": {
    "cell_style": "center",
    "slideshow": {
     "slide_type": "fragment"
    }
   },
   "source": [
    "Numericamente, integramos usando la regla del trapecio (`numpy.trapz`)"
   ]
  },
  {
   "cell_type": "code",
   "execution_count": 11,
   "id": "935e2452",
   "metadata": {
    "cell_style": "center",
    "slideshow": {
     "slide_type": "fragment"
    }
   },
   "outputs": [
    {
     "name": "stdout",
     "output_type": "stream",
     "text": [
      "la emisividad de la pintura blanca es : 0.038\n"
     ]
    }
   ],
   "source": [
    "T = 25 + 273                        # Temperatura de la pintura \n",
    "eps_lambda = A                      # Emisividad espectral de la pintura\n",
    "sigma = 5.67E-8                     # Constante de Steffan-Boltzmann \n",
    "eps_white_paint = 1/(sigma*T**4)*np.pi*np.trapz(eps_lambda*rf.Bplanck(lam,T),lam)\n",
    "\n",
    "print('la emisividad de la pintura blanca es : %.3f' % eps_white_paint)"
   ]
  },
  {
   "cell_type": "markdown",
   "id": "4a494870",
   "metadata": {
    "slideshow": {
     "slide_type": "slide"
    }
   },
   "source": [
    "### Irradiancia (G)"
   ]
  },
  {
   "cell_type": "markdown",
   "id": "fbc52f8b",
   "metadata": {
    "cell_style": "split",
    "slideshow": {
     "slide_type": "fragment"
    }
   },
   "source": [
    "Definimos como **irradiación espectral direccional, $G_{\\lambda,\\Omega}$** a la radiancia espectral incidente en una superficie.\n",
    "\n",
    "<img src=\"./images/irradiance.png\" width=\"300px\" align= center>"
   ]
  },
  {
   "cell_type": "markdown",
   "id": "ee20e9bd",
   "metadata": {
    "cell_style": "split",
    "slideshow": {
     "slide_type": "fragment"
    }
   },
   "source": [
    "Matemáticamente:\n",
    "\n",
    "\\begin{equation}\n",
    "G_{\\lambda,\\Omega} = I_i(\\lambda,\\Omega) \\cos\\theta\\quad\\frac{\\mathrm{W}}{\\mathrm{m}^2}\n",
    "\\end{equation}\n",
    "\n",
    "donde $I_i$ es la radiancia espectral incidente sobre una superficie $dA$"
   ]
  },
  {
   "cell_type": "markdown",
   "id": "28f8903f",
   "metadata": {
    "slideshow": {
     "slide_type": "slide"
    }
   },
   "source": [
    "La irradiancia permite determinar valores promedio para la absortancia, transmitancia y reflectancia. Al igual que en los casos anteriores, podemos extraer valores promedio del tipo hemisférico (integración por ángulo sólido) o total (integración por longitudes de onda). Por ejemplo, para la absortancia"
   ]
  },
  {
   "cell_type": "markdown",
   "id": "04fc2a89",
   "metadata": {
    "slideshow": {
     "slide_type": "fragment"
    }
   },
   "source": [
    "**Absorptancia direccional total**\n",
    "\\begin{equation}\n",
    "\\alpha_\\Omega = \\frac{\\int_0^\\infty \\alpha_{\\lambda,\\Omega} G_{\\lambda,\\Omega}~d\\lambda}{\\int_0^\\infty G_{\\lambda,\\Omega} ~d\\lambda}\n",
    "\\end{equation}"
   ]
  },
  {
   "cell_type": "markdown",
   "id": "67f37e2e",
   "metadata": {
    "slideshow": {
     "slide_type": "fragment"
    }
   },
   "source": [
    "**Absorptancia hemisférica espectral**\n",
    "\\begin{equation}\n",
    "\\alpha_\\lambda = \\frac{\\int_\\mathrm{hemi}\\alpha_{\\lambda,\\Omega}G_{\\lambda,\\Omega}~d\\Omega}{\\pi G_{\\lambda,\\Omega}}\n",
    "\\end{equation}"
   ]
  },
  {
   "cell_type": "markdown",
   "id": "47329f1f",
   "metadata": {
    "slideshow": {
     "slide_type": "fragment"
    }
   },
   "source": [
    "**Absorptancia hemisférica total**\n",
    "\\begin{equation}\n",
    "\\alpha = \\frac{\\int_\\mathrm{hemi} \\int_0^\\infty \\alpha_{\\lambda,\\Omega} G_{\\lambda,\\Omega}~d\\lambda d\\Omega}{\\int_\\mathrm{hemi} \\int_0^\\infty G_{\\lambda,\\Omega}~d\\lambda d\\Omega}\n",
    "\\end{equation}"
   ]
  },
  {
   "cell_type": "markdown",
   "id": "823c3612",
   "metadata": {},
   "source": [
    "### Radiosidad (J)"
   ]
  },
  {
   "cell_type": "markdown",
   "id": "04ee6eb9",
   "metadata": {
    "slideshow": {
     "slide_type": "slide"
    }
   },
   "source": [
    "Definimos como **radiosidad, $J_{\\lambda,\\Omega}$** a la combinación de radiación emitida y reflejada por una superficie"
   ]
  },
  {
   "cell_type": "markdown",
   "id": "bae8d429",
   "metadata": {
    "cell_style": "split",
    "slideshow": {
     "slide_type": "-"
    }
   },
   "source": [
    "\n",
    "<img src=\"./images/radiosity.png\" width=\"250px\" align= center>"
   ]
  },
  {
   "cell_type": "markdown",
   "id": "23a0cca5",
   "metadata": {
    "cell_style": "split",
    "slideshow": {
     "slide_type": "fragment"
    }
   },
   "source": [
    "Matemáticamente:\n",
    "\\begin{equation}\n",
    "J_{\\lambda,\\Omega} = R_{\\lambda,\\Omega}G_{\\lambda,\\Omega}+E_{\\lambda,\\Omega}\n",
    "\\end{equation}"
   ]
  },
  {
   "cell_type": "markdown",
   "id": "0fc1336c",
   "metadata": {
    "slideshow": {
     "slide_type": "fragment"
    }
   },
   "source": [
    "Al igual que con el poder de emisión y la irradiancia, la radiosidad ($J_{\\lambda,\\Omega}$) puede ser definidas de forma hemisférica (integrando por ángulo sólido) o total (integrando por longitud de onda)."
   ]
  },
  {
   "cell_type": "markdown",
   "id": "7c66c252",
   "metadata": {
    "slideshow": {
     "slide_type": "slide"
    }
   },
   "source": [
    "## Transferencia de calor por radiación"
   ]
  },
  {
   "cell_type": "markdown",
   "id": "4d97cde2",
   "metadata": {
    "slideshow": {
     "slide_type": "slide"
    }
   },
   "source": [
    "### Factor de visión para superficies difusas\n",
    "La transferencia de calor por radiación depende de la orientación relativa entre las superficies."
   ]
  },
  {
   "cell_type": "markdown",
   "id": "a9c57dec",
   "metadata": {
    "slideshow": {
     "slide_type": "fragment"
    }
   },
   "source": [
    "En general, este análisis es complejo ya que requiere integración por ángulo sólido considerando factores geométricos y dependencia de las propiedades radiativas con la orientación. En el caso de superficies difusas, sin embargo, podemos simplificar el análisis considerando sólamente los aspectos geométricos."
   ]
  },
  {
   "cell_type": "markdown",
   "id": "24d32a93",
   "metadata": {
    "slideshow": {
     "slide_type": "slide"
    }
   },
   "source": [
    "Consideremos el parámetro,  $\\dot{Q}_{dA_1\\rightarrow dA_2}$, que representa la radiación espectral emitida por una superficie $dA_1$ que incide sobre una superficie $dA_2$."
   ]
  },
  {
   "cell_type": "markdown",
   "id": "2361fe98",
   "metadata": {
    "cell_style": "split",
    "slideshow": {
     "slide_type": "fragment"
    }
   },
   "source": [
    "\n",
    "<img src=\"./images/vision_factor.png\" width=\"250px\" align= center>"
   ]
  },
  {
   "cell_type": "markdown",
   "id": "551f2ce3",
   "metadata": {
    "cell_style": "split",
    "slideshow": {
     "slide_type": "-"
    }
   },
   "source": [
    "\\begin{equation*}\n",
    "dQ_{dA_1\\rightarrow dA_2} = I_{\\mathrm{bb},\\lambda}(T_1)\\cos\\theta_1 dA_1 d\\Omega_{12}\n",
    "\\end{equation*}"
   ]
  },
  {
   "cell_type": "markdown",
   "id": "8d71c791",
   "metadata": {
    "cell_style": "split",
    "slideshow": {
     "slide_type": "fragment"
    }
   },
   "source": [
    "A través de la relación $r^2 d\\Omega_{12} = \\cos\\theta_2 dA_2$, podemos determinar:\n",
    "\n",
    "\\begin{equation*}\n",
    "\\dot{Q}_{dA_1\\rightarrow dA_2} = I_{\\mathrm{bb},\\lambda}(T_1) \\frac{\\cos\\theta_1 \\cos\\theta_2}{r^2 }dA_1dA_2\n",
    "\\end{equation*}"
   ]
  },
  {
   "cell_type": "markdown",
   "id": "f892a331",
   "metadata": {
    "slideshow": {
     "slide_type": "slide"
    }
   },
   "source": [
    "La radiación total espectral que incide sobre la superficie $A_2$, es:\n",
    "\n",
    "\\begin{equation*}\n",
    "\\dot{Q}_{A_1\\rightarrow A_2} = \\int_{A_1}\\int_{A_1}I_{\\mathrm{bb},\\lambda}(T_1) \\frac{\\cos\\theta_1 \\cos\\theta_2}{r^2 }dA_1dA_2\n",
    "\\end{equation*}"
   ]
  },
  {
   "cell_type": "markdown",
   "id": "1ecc9bb7",
   "metadata": {
    "slideshow": {
     "slide_type": "fragment"
    }
   },
   "source": [
    "Definimos como **factor de visión o factor de forma, $F_{12}$** a la razón entre $\\dot{Q}_{A_1\\rightarrow A_2}$ y la radiación hemisférica espectral emitida por $A_1$, es decir $\\dot{Q}_{A_1} = \\pi I_{\\mathrm{bb},\\lambda}(T_1) A_1 $:\n",
    "\n",
    "\n",
    "\\begin{equation}\n",
    "F_{12} = \\frac{\\dot{Q}_{A_1\\rightarrow A_2}}{\\dot{Q}_{A_1}} = \\frac{1}{A_1}\\int_{A_1}\\int_{A_2} \\frac{\\cos\\theta_1 \\cos\\theta_2}{\\pi r^2 }dA_1dA_2\n",
    "\\end{equation}"
   ]
  },
  {
   "cell_type": "markdown",
   "id": "410f376e",
   "metadata": {
    "slideshow": {
     "slide_type": "fragment"
    }
   },
   "source": [
    "El factor de visión permite simplificar el análisis para determinar el calor por radiación transferido a una superficie, de la forma:\n",
    "\n",
    "\\begin{equation*}\n",
    "\\dot{Q}_{A_1\\rightarrow A_2} = I_{\\mathrm{bb},\\lambda}(T_1) A_1F_{12}\n",
    "\\end{equation*}"
   ]
  },
  {
   "cell_type": "markdown",
   "id": "9973f4be",
   "metadata": {
    "slideshow": {
     "slide_type": "slide"
    }
   },
   "source": [
    "Por reciprocidad, el factor de visión desde $A_2$ a $A_1$ es:\n",
    "\n",
    "\\begin{equation*}\n",
    "F_{21} = \\frac{1}{A_2}\\int_{A_1}\\int_{A_2} \\frac{\\cos\\theta_1 \\cos\\theta_2}{\\pi r^2 }dA_1dA_2\n",
    "\\end{equation*}"
   ]
  },
  {
   "cell_type": "markdown",
   "id": "fd088d94",
   "metadata": {
    "slideshow": {
     "slide_type": "fragment"
    }
   },
   "source": [
    "De donde deducimos la relación:\n",
    "\n",
    "\\begin{equation}\n",
    "A_1 F_{12} = A_2 F_{21}\n",
    "\\end{equation}"
   ]
  },
  {
   "cell_type": "markdown",
   "id": "3e0d1079",
   "metadata": {
    "slideshow": {
     "slide_type": "fragment"
    }
   },
   "source": [
    "Las expresiones para el factor de visión se encuentran tabuladas en diversos textos especializados. "
   ]
  },
  {
   "cell_type": "markdown",
   "id": "1f2c6d99",
   "metadata": {
    "slideshow": {
     "slide_type": "slide"
    }
   },
   "source": [
    "Si una de las superficies es muy pequeña respecto a la otra, $F_{12} = 1$"
   ]
  },
  {
   "cell_type": "markdown",
   "id": "4f7b9ad8",
   "metadata": {},
   "source": [
    "\n",
    "<img src=\"./images/vision_factor_table.png\" width=\"500px\" align= center>"
   ]
  },
  {
   "cell_type": "markdown",
   "id": "bd990181",
   "metadata": {
    "slideshow": {
     "slide_type": "slide"
    }
   },
   "source": [
    "### Transferencia de calor por radiación\n",
    "En el caso de dos superficies negras a temperaturas $T_1$ y $T_2$, la transferencia de calor neta por radiación es:\n",
    "\n",
    "\\begin{align}\n",
    "\\dot{Q} &= \\dot{Q}_{A_1\\rightarrow A_2} - \\dot{Q}_{A_2\\rightarrow A_1} \\nonumber \\\\[10pt]\n",
    "&= A_1F_{12}\\sigma T_1^4 - A_2F_{21}\\sigma T_2^4 \\nonumber \\\\[10pt]\n",
    "&= A_1F_{12}\\sigma\\left(T_1^4 - T_2^4\\right)\n",
    "\\end{align}"
   ]
  },
  {
   "cell_type": "markdown",
   "id": "17c1dc23",
   "metadata": {
    "cell_style": "center",
    "slideshow": {
     "slide_type": "slide"
    }
   },
   "source": [
    "## Referencias\n",
    "- Çengel Y. A y Ghanjar A. J. **Capítulo 12 - Fundamentos de la radiación térmica** en *Transferencia de calor y masa*, 4ta Ed, McGraw Hill, 2011"
   ]
  },
  {
   "cell_type": "code",
   "execution_count": 12,
   "id": "6e0a420c",
   "metadata": {
    "tags": [
     "remove-input"
    ]
   },
   "outputs": [
    {
     "data": {
      "text/html": [
       "\n",
       "        <iframe\n",
       "            width=\"600\"\n",
       "            height=\"400\"\n",
       "            src=\"https://www.youtube.com/embed/FDmYCI_xYlA?playsinline=0\"\n",
       "            frameborder=\"0\"\n",
       "            allowfullscreen\n",
       "            \n",
       "        ></iframe>\n",
       "        "
      ],
      "text/plain": [
       "<IPython.lib.display.YouTubeVideo at 0x7f77b1716e50>"
      ]
     },
     "execution_count": 12,
     "metadata": {},
     "output_type": "execute_result"
    }
   ],
   "source": [
    "from IPython.display import YouTubeVideo\n",
    "YouTubeVideo('FDmYCI_xYlA', width=600, height=400,  playsinline=0)"
   ]
  }
 ],
 "metadata": {
  "celltoolbar": "Slideshow",
  "kernelspec": {
   "display_name": "Python 3 (ipykernel)",
   "language": "python",
   "name": "python3"
  },
  "language_info": {
   "codemirror_mode": {
    "name": "ipython",
    "version": 3
   },
   "file_extension": ".py",
   "mimetype": "text/x-python",
   "name": "python",
   "nbconvert_exporter": "python",
   "pygments_lexer": "ipython3",
   "version": "3.11.6"
  },
  "latex_envs": {
   "LaTeX_envs_menu_present": false,
   "autoclose": false,
   "autocomplete": false,
   "bibliofile": "biblio.bib",
   "cite_by": "apalike",
   "current_citInitial": 1,
   "eqLabelWithNumbers": true,
   "eqNumInitial": 1,
   "hotkeys": {
    "equation": "Ctrl-E",
    "itemize": "Ctrl-I"
   },
   "labels_anchors": false,
   "latex_user_defs": false,
   "report_style_numbering": false,
   "user_envs_cfg": true
  },
  "toc": {
   "base_numbering": 1,
   "nav_menu": {},
   "number_sections": true,
   "sideBar": true,
   "skip_h1_title": true,
   "title_cell": "Tabla de contenidos",
   "title_sidebar": "Contenidos",
   "toc_cell": false,
   "toc_position": {
    "height": "calc(100% - 180px)",
    "left": "10px",
    "top": "150px",
    "width": "307.2px"
   },
   "toc_section_display": true,
   "toc_window_display": false
  },
  "varInspector": {
   "cols": {
    "lenName": 16,
    "lenType": 16,
    "lenVar": 40
   },
   "kernels_config": {
    "python": {
     "delete_cmd_postfix": "",
     "delete_cmd_prefix": "del ",
     "library": "var_list.py",
     "varRefreshCmd": "print(var_dic_list())"
    },
    "r": {
     "delete_cmd_postfix": ") ",
     "delete_cmd_prefix": "rm(",
     "library": "var_list.r",
     "varRefreshCmd": "cat(var_dic_list()) "
    }
   },
   "types_to_exclude": [
    "module",
    "function",
    "builtin_function_or_method",
    "instance",
    "_Feature"
   ],
   "window_display": false
  }
 },
 "nbformat": 4,
 "nbformat_minor": 5
}
